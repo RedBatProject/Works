{
  "cells": [
    {
      "cell_type": "markdown",
      "metadata": {
        "id": "view-in-github",
        "colab_type": "text"
      },
      "source": [
        "<a href=\"https://colab.research.google.com/github/RedBatProject/Works/blob/main/work_48_(stroke)(old).ipynb\" target=\"_parent\"><img src=\"https://colab.research.google.com/assets/colab-badge.svg\" alt=\"Open In Colab\"/></a>"
      ]
    },
    {
      "cell_type": "markdown",
      "metadata": {
        "id": "YJPunkokIZ9z"
      },
      "source": [
        "# Imports"
      ]
    },
    {
      "cell_type": "code",
      "execution_count": 1,
      "metadata": {
        "colab": {
          "base_uri": "https://localhost:8080/"
        },
        "id": "qOHTybBxIGtb",
        "outputId": "fc9fae32-ce24-487b-9400-d3c5cd5b7c69"
      },
      "outputs": [
        {
          "output_type": "stream",
          "name": "stdout",
          "text": [
            "Collecting mealpy\n",
            "  Downloading mealpy-2.5.4-py3-none-any.whl (377 kB)\n",
            "\u001b[2K     \u001b[90m━━━━━━━━━━━━━━━━━━━━━━━━━━━━━━━━━━━━━━━\u001b[0m \u001b[32m378.0/378.0 kB\u001b[0m \u001b[31m5.5 MB/s\u001b[0m eta \u001b[36m0:00:00\u001b[0m\n",
            "\u001b[?25hRequirement already satisfied: numpy>=1.16.5 in /usr/local/lib/python3.10/dist-packages (from mealpy) (1.23.5)\n",
            "Requirement already satisfied: matplotlib>=3.3.0 in /usr/local/lib/python3.10/dist-packages (from mealpy) (3.7.1)\n",
            "Requirement already satisfied: scipy>=1.7.1 in /usr/local/lib/python3.10/dist-packages (from mealpy) (1.10.1)\n",
            "Requirement already satisfied: pandas>=1.2.0 in /usr/local/lib/python3.10/dist-packages (from mealpy) (1.5.3)\n",
            "Collecting opfunu>=1.0.0 (from mealpy)\n",
            "  Downloading opfunu-1.0.0-py3-none-any.whl (20.4 MB)\n",
            "\u001b[2K     \u001b[90m━━━━━━━━━━━━━━━━━━━━━━━━━━━━━━━━━━━━━━━━\u001b[0m \u001b[32m20.4/20.4 MB\u001b[0m \u001b[31m62.3 MB/s\u001b[0m eta \u001b[36m0:00:00\u001b[0m\n",
            "\u001b[?25hRequirement already satisfied: contourpy>=1.0.1 in /usr/local/lib/python3.10/dist-packages (from matplotlib>=3.3.0->mealpy) (1.1.0)\n",
            "Requirement already satisfied: cycler>=0.10 in /usr/local/lib/python3.10/dist-packages (from matplotlib>=3.3.0->mealpy) (0.11.0)\n",
            "Requirement already satisfied: fonttools>=4.22.0 in /usr/local/lib/python3.10/dist-packages (from matplotlib>=3.3.0->mealpy) (4.42.0)\n",
            "Requirement already satisfied: kiwisolver>=1.0.1 in /usr/local/lib/python3.10/dist-packages (from matplotlib>=3.3.0->mealpy) (1.4.4)\n",
            "Requirement already satisfied: packaging>=20.0 in /usr/local/lib/python3.10/dist-packages (from matplotlib>=3.3.0->mealpy) (23.1)\n",
            "Requirement already satisfied: pillow>=6.2.0 in /usr/local/lib/python3.10/dist-packages (from matplotlib>=3.3.0->mealpy) (9.4.0)\n",
            "Requirement already satisfied: pyparsing>=2.3.1 in /usr/local/lib/python3.10/dist-packages (from matplotlib>=3.3.0->mealpy) (3.1.1)\n",
            "Requirement already satisfied: python-dateutil>=2.7 in /usr/local/lib/python3.10/dist-packages (from matplotlib>=3.3.0->mealpy) (2.8.2)\n",
            "Requirement already satisfied: pytz>=2020.1 in /usr/local/lib/python3.10/dist-packages (from pandas>=1.2.0->mealpy) (2023.3)\n",
            "Requirement already satisfied: six>=1.5 in /usr/local/lib/python3.10/dist-packages (from python-dateutil>=2.7->matplotlib>=3.3.0->mealpy) (1.16.0)\n",
            "Installing collected packages: opfunu, mealpy\n",
            "Successfully installed mealpy-2.5.4 opfunu-1.0.0\n",
            "Requirement already satisfied: mealpy in /usr/local/lib/python3.10/dist-packages (2.5.4)\n",
            "Requirement already satisfied: numpy>=1.16.5 in /usr/local/lib/python3.10/dist-packages (from mealpy) (1.23.5)\n",
            "Requirement already satisfied: matplotlib>=3.3.0 in /usr/local/lib/python3.10/dist-packages (from mealpy) (3.7.1)\n",
            "Requirement already satisfied: scipy>=1.7.1 in /usr/local/lib/python3.10/dist-packages (from mealpy) (1.10.1)\n",
            "Requirement already satisfied: pandas>=1.2.0 in /usr/local/lib/python3.10/dist-packages (from mealpy) (1.5.3)\n",
            "Requirement already satisfied: opfunu>=1.0.0 in /usr/local/lib/python3.10/dist-packages (from mealpy) (1.0.0)\n",
            "Requirement already satisfied: contourpy>=1.0.1 in /usr/local/lib/python3.10/dist-packages (from matplotlib>=3.3.0->mealpy) (1.1.0)\n",
            "Requirement already satisfied: cycler>=0.10 in /usr/local/lib/python3.10/dist-packages (from matplotlib>=3.3.0->mealpy) (0.11.0)\n",
            "Requirement already satisfied: fonttools>=4.22.0 in /usr/local/lib/python3.10/dist-packages (from matplotlib>=3.3.0->mealpy) (4.42.0)\n",
            "Requirement already satisfied: kiwisolver>=1.0.1 in /usr/local/lib/python3.10/dist-packages (from matplotlib>=3.3.0->mealpy) (1.4.4)\n",
            "Requirement already satisfied: packaging>=20.0 in /usr/local/lib/python3.10/dist-packages (from matplotlib>=3.3.0->mealpy) (23.1)\n",
            "Requirement already satisfied: pillow>=6.2.0 in /usr/local/lib/python3.10/dist-packages (from matplotlib>=3.3.0->mealpy) (9.4.0)\n",
            "Requirement already satisfied: pyparsing>=2.3.1 in /usr/local/lib/python3.10/dist-packages (from matplotlib>=3.3.0->mealpy) (3.1.1)\n",
            "Requirement already satisfied: python-dateutil>=2.7 in /usr/local/lib/python3.10/dist-packages (from matplotlib>=3.3.0->mealpy) (2.8.2)\n",
            "Requirement already satisfied: pytz>=2020.1 in /usr/local/lib/python3.10/dist-packages (from pandas>=1.2.0->mealpy) (2023.3)\n",
            "Requirement already satisfied: six>=1.5 in /usr/local/lib/python3.10/dist-packages (from python-dateutil>=2.7->matplotlib>=3.3.0->mealpy) (1.16.0)\n",
            "Colab only includes TensorFlow 2.x; %tensorflow_version has no effect.\n",
            "Collecting catboost\n",
            "  Downloading catboost-1.2-cp310-cp310-manylinux2014_x86_64.whl (98.6 MB)\n",
            "\u001b[2K     \u001b[90m━━━━━━━━━━━━━━━━━━━━━━━━━━━━━━━━━━━━━━━━\u001b[0m \u001b[32m98.6/98.6 MB\u001b[0m \u001b[31m9.2 MB/s\u001b[0m eta \u001b[36m0:00:00\u001b[0m\n",
            "\u001b[?25hRequirement already satisfied: graphviz in /usr/local/lib/python3.10/dist-packages (from catboost) (0.20.1)\n",
            "Requirement already satisfied: matplotlib in /usr/local/lib/python3.10/dist-packages (from catboost) (3.7.1)\n",
            "Requirement already satisfied: numpy>=1.16.0 in /usr/local/lib/python3.10/dist-packages (from catboost) (1.23.5)\n",
            "Requirement already satisfied: pandas>=0.24 in /usr/local/lib/python3.10/dist-packages (from catboost) (1.5.3)\n",
            "Requirement already satisfied: scipy in /usr/local/lib/python3.10/dist-packages (from catboost) (1.10.1)\n",
            "Requirement already satisfied: plotly in /usr/local/lib/python3.10/dist-packages (from catboost) (5.15.0)\n",
            "Requirement already satisfied: six in /usr/local/lib/python3.10/dist-packages (from catboost) (1.16.0)\n",
            "Requirement already satisfied: python-dateutil>=2.8.1 in /usr/local/lib/python3.10/dist-packages (from pandas>=0.24->catboost) (2.8.2)\n",
            "Requirement already satisfied: pytz>=2020.1 in /usr/local/lib/python3.10/dist-packages (from pandas>=0.24->catboost) (2023.3)\n",
            "Requirement already satisfied: contourpy>=1.0.1 in /usr/local/lib/python3.10/dist-packages (from matplotlib->catboost) (1.1.0)\n",
            "Requirement already satisfied: cycler>=0.10 in /usr/local/lib/python3.10/dist-packages (from matplotlib->catboost) (0.11.0)\n",
            "Requirement already satisfied: fonttools>=4.22.0 in /usr/local/lib/python3.10/dist-packages (from matplotlib->catboost) (4.42.0)\n",
            "Requirement already satisfied: kiwisolver>=1.0.1 in /usr/local/lib/python3.10/dist-packages (from matplotlib->catboost) (1.4.4)\n",
            "Requirement already satisfied: packaging>=20.0 in /usr/local/lib/python3.10/dist-packages (from matplotlib->catboost) (23.1)\n",
            "Requirement already satisfied: pillow>=6.2.0 in /usr/local/lib/python3.10/dist-packages (from matplotlib->catboost) (9.4.0)\n",
            "Requirement already satisfied: pyparsing>=2.3.1 in /usr/local/lib/python3.10/dist-packages (from matplotlib->catboost) (3.1.1)\n",
            "Requirement already satisfied: tenacity>=6.2.0 in /usr/local/lib/python3.10/dist-packages (from plotly->catboost) (8.2.3)\n",
            "Installing collected packages: catboost\n",
            "Successfully installed catboost-1.2\n",
            "WELLCOME TO IMPLEMENTATION\n"
          ]
        }
      ],
      "source": [
        "!pip install mealpy\n",
        "import mealpy\n",
        "from mealpy.bio_based import BBO, EOA, IWO, SBO, SMA, TPO, VCS, WHO\n",
        "from mealpy.evolutionary_based import CRO, DE, EP, ES, FPA, GA, MA\n",
        "from mealpy.human_based import BRO, BSO, CA, CHIO, FBIO, GSKA, ICA, LCO, QSA, SARO, SSDO, TLO\n",
        "from mealpy.math_based import AOA, CGO, GBO, HC, SCA, PSS\n",
        "from mealpy.music_based import HS\n",
        "from mealpy.physics_based import ArchOA, ASO, EFO, EO, HGSO, MVO, NRO, SA, TWO, WDO\n",
        "# from mealpy.probabilistic_based import CEM\n",
        "from mealpy.system_based import AEO, GCO, WCA\n",
        "from mealpy.swarm_based import ABC, ACOR, ALO, AO, BA, BeesA, BES, BFO, BSA, COA, CSA, CSO, DO, EHO, FA, FFA, FOA, GOA, GWO, HGS\n",
        "from mealpy.swarm_based import HHO, JA, MFO, MRFO, MSA, NMRA, PFA, PSO, SFO, SHO, SLO, SRSR, SSA, SSO, SSpiderA, SSpiderO, WOA\n",
        "from sys import exit\n",
        "import numpy as np\n",
        "import tweepy\n",
        "import webbrowser\n",
        "import time\n",
        "import pandas as pd\n",
        "import datetime\n",
        "import threading\n",
        "import matplotlib.pyplot as plt\n",
        "import numpy as np\n",
        "import pandas as pd\n",
        "from sklearn.model_selection import cross_val_score\n",
        "!pip install mealpy\n",
        "import mealpy\n",
        "# Load libraries\n",
        "%tensorflow_version 2.x\n",
        "from __future__ import absolute_import, division, print_function, unicode_literals\n",
        "\n",
        "import numpy as np\n",
        "import pandas as pd\n",
        "import matplotlib.pyplot as plt\n",
        "from IPython.display import clear_output\n",
        "from six.moves import urllib\n",
        "\n",
        "import tensorflow.compat.v2.feature_column as fc\n",
        "\n",
        "import tensorflow as tf\n",
        "from pandas.plotting import scatter_matrix\n",
        "from sklearn import model_selection\n",
        "from sklearn.metrics import classification_report\n",
        "from sklearn.metrics import confusion_matrix\n",
        "import random as rn\n",
        "# from sklearn.metrics import confusion_matrix, plot_confusion_matrix, classification_report\n",
        "# create the models\n",
        "from sklearn.tree import DecisionTreeClassifier\n",
        "from sklearn.discriminant_analysis import LinearDiscriminantAnalysis\n",
        "from sklearn.metrics import accuracy_score\n",
        "from sklearn.metrics import precision_score\n",
        "from sklearn.metrics import recall_score\n",
        "from sklearn.metrics import f1_score\n",
        "# module imports\n",
        "import numpy as np\n",
        "import pandas as pd\n",
        "import matplotlib.pyplot as plt\n",
        "import seaborn as sns\n",
        "import itertools\n",
        "import random as rn\n",
        "\n",
        "# model imports\n",
        "from sklearn.cluster import KMeans #one with clusterimg (disaster)\n",
        "from sklearn.ensemble import RandomForestClassifier\n",
        "from sklearn.neighbors import KNeighborsClassifier\n",
        "from sklearn.linear_model import LogisticRegression\n",
        "from sklearn.tree import DecisionTreeClassifier\n",
        "from sklearn.multiclass import OneVsRestClassifier\n",
        "from sklearn.tree import DecisionTreeRegressor\n",
        "from sklearn.dummy import DummyClassifier #that zero\n",
        "from sklearn.svm import SVC, SVR\n",
        "from sklearn.naive_bayes import GaussianNB\n",
        "# from sklearn.ensemble import RandomForestClassifier\n",
        "# processing imports\n",
        "from sklearn.preprocessing import LabelEncoder\n",
        "from sklearn.model_selection import train_test_split\n",
        "from sklearn.model_selection import cross_val_score\n",
        "from sklearn.metrics import mean_absolute_error\n",
        "# from sklearn.metrics import accuracy_score\n",
        "# from sklearn.metrics import confusion_matrix\n",
        "from time import time\n",
        "from sklearn.model_selection import train_test_split\n",
        "from sklearn.naive_bayes import MultinomialNB\n",
        "!pip install catboost\n",
        "from xgboost import XGBClassifier\n",
        "from catboost import CatBoostClassifier\n",
        "from sklearn.linear_model import LogisticRegression\n",
        "from sklearn.ensemble import RandomForestClassifier\n",
        "from sklearn.svm import LinearSVC\n",
        "from sklearn import metrics\n",
        "# Sklearn modules & classes\n",
        "from sklearn.svm import SVC\n",
        "from sklearn.model_selection import train_test_split, GridSearchCV\n",
        "from sklearn.preprocessing import StandardScaler, LabelEncoder\n",
        "from sklearn import datasets, metrics\n",
        "from mealpy.bio_based import SMA\n",
        "import mealpy\n",
        "from sklearn.naive_bayes import GaussianNB\n",
        "import mealpy\n",
        "import time\n",
        "print(\"WELLCOME TO IMPLEMENTATION\")"
      ]
    },
    {
      "cell_type": "code",
      "execution_count": 2,
      "metadata": {
        "colab": {
          "base_uri": "https://localhost:8080/",
          "height": 75
        },
        "id": "U1_I99NifwAv",
        "outputId": "4055c032-3e5b-44f2-9448-18760e412d07"
      },
      "outputs": [
        {
          "output_type": "display_data",
          "data": {
            "text/plain": [
              "<IPython.core.display.HTML object>"
            ],
            "text/html": [
              "\n",
              "     <input type=\"file\" id=\"files-f9841949-70a8-40e0-8d77-514dda4083fa\" name=\"files[]\" multiple disabled\n",
              "        style=\"border:none\" />\n",
              "     <output id=\"result-f9841949-70a8-40e0-8d77-514dda4083fa\">\n",
              "      Upload widget is only available when the cell has been executed in the\n",
              "      current browser session. Please rerun this cell to enable.\n",
              "      </output>\n",
              "      <script>// Copyright 2017 Google LLC\n",
              "//\n",
              "// Licensed under the Apache License, Version 2.0 (the \"License\");\n",
              "// you may not use this file except in compliance with the License.\n",
              "// You may obtain a copy of the License at\n",
              "//\n",
              "//      http://www.apache.org/licenses/LICENSE-2.0\n",
              "//\n",
              "// Unless required by applicable law or agreed to in writing, software\n",
              "// distributed under the License is distributed on an \"AS IS\" BASIS,\n",
              "// WITHOUT WARRANTIES OR CONDITIONS OF ANY KIND, either express or implied.\n",
              "// See the License for the specific language governing permissions and\n",
              "// limitations under the License.\n",
              "\n",
              "/**\n",
              " * @fileoverview Helpers for google.colab Python module.\n",
              " */\n",
              "(function(scope) {\n",
              "function span(text, styleAttributes = {}) {\n",
              "  const element = document.createElement('span');\n",
              "  element.textContent = text;\n",
              "  for (const key of Object.keys(styleAttributes)) {\n",
              "    element.style[key] = styleAttributes[key];\n",
              "  }\n",
              "  return element;\n",
              "}\n",
              "\n",
              "// Max number of bytes which will be uploaded at a time.\n",
              "const MAX_PAYLOAD_SIZE = 100 * 1024;\n",
              "\n",
              "function _uploadFiles(inputId, outputId) {\n",
              "  const steps = uploadFilesStep(inputId, outputId);\n",
              "  const outputElement = document.getElementById(outputId);\n",
              "  // Cache steps on the outputElement to make it available for the next call\n",
              "  // to uploadFilesContinue from Python.\n",
              "  outputElement.steps = steps;\n",
              "\n",
              "  return _uploadFilesContinue(outputId);\n",
              "}\n",
              "\n",
              "// This is roughly an async generator (not supported in the browser yet),\n",
              "// where there are multiple asynchronous steps and the Python side is going\n",
              "// to poll for completion of each step.\n",
              "// This uses a Promise to block the python side on completion of each step,\n",
              "// then passes the result of the previous step as the input to the next step.\n",
              "function _uploadFilesContinue(outputId) {\n",
              "  const outputElement = document.getElementById(outputId);\n",
              "  const steps = outputElement.steps;\n",
              "\n",
              "  const next = steps.next(outputElement.lastPromiseValue);\n",
              "  return Promise.resolve(next.value.promise).then((value) => {\n",
              "    // Cache the last promise value to make it available to the next\n",
              "    // step of the generator.\n",
              "    outputElement.lastPromiseValue = value;\n",
              "    return next.value.response;\n",
              "  });\n",
              "}\n",
              "\n",
              "/**\n",
              " * Generator function which is called between each async step of the upload\n",
              " * process.\n",
              " * @param {string} inputId Element ID of the input file picker element.\n",
              " * @param {string} outputId Element ID of the output display.\n",
              " * @return {!Iterable<!Object>} Iterable of next steps.\n",
              " */\n",
              "function* uploadFilesStep(inputId, outputId) {\n",
              "  const inputElement = document.getElementById(inputId);\n",
              "  inputElement.disabled = false;\n",
              "\n",
              "  const outputElement = document.getElementById(outputId);\n",
              "  outputElement.innerHTML = '';\n",
              "\n",
              "  const pickedPromise = new Promise((resolve) => {\n",
              "    inputElement.addEventListener('change', (e) => {\n",
              "      resolve(e.target.files);\n",
              "    });\n",
              "  });\n",
              "\n",
              "  const cancel = document.createElement('button');\n",
              "  inputElement.parentElement.appendChild(cancel);\n",
              "  cancel.textContent = 'Cancel upload';\n",
              "  const cancelPromise = new Promise((resolve) => {\n",
              "    cancel.onclick = () => {\n",
              "      resolve(null);\n",
              "    };\n",
              "  });\n",
              "\n",
              "  // Wait for the user to pick the files.\n",
              "  const files = yield {\n",
              "    promise: Promise.race([pickedPromise, cancelPromise]),\n",
              "    response: {\n",
              "      action: 'starting',\n",
              "    }\n",
              "  };\n",
              "\n",
              "  cancel.remove();\n",
              "\n",
              "  // Disable the input element since further picks are not allowed.\n",
              "  inputElement.disabled = true;\n",
              "\n",
              "  if (!files) {\n",
              "    return {\n",
              "      response: {\n",
              "        action: 'complete',\n",
              "      }\n",
              "    };\n",
              "  }\n",
              "\n",
              "  for (const file of files) {\n",
              "    const li = document.createElement('li');\n",
              "    li.append(span(file.name, {fontWeight: 'bold'}));\n",
              "    li.append(span(\n",
              "        `(${file.type || 'n/a'}) - ${file.size} bytes, ` +\n",
              "        `last modified: ${\n",
              "            file.lastModifiedDate ? file.lastModifiedDate.toLocaleDateString() :\n",
              "                                    'n/a'} - `));\n",
              "    const percent = span('0% done');\n",
              "    li.appendChild(percent);\n",
              "\n",
              "    outputElement.appendChild(li);\n",
              "\n",
              "    const fileDataPromise = new Promise((resolve) => {\n",
              "      const reader = new FileReader();\n",
              "      reader.onload = (e) => {\n",
              "        resolve(e.target.result);\n",
              "      };\n",
              "      reader.readAsArrayBuffer(file);\n",
              "    });\n",
              "    // Wait for the data to be ready.\n",
              "    let fileData = yield {\n",
              "      promise: fileDataPromise,\n",
              "      response: {\n",
              "        action: 'continue',\n",
              "      }\n",
              "    };\n",
              "\n",
              "    // Use a chunked sending to avoid message size limits. See b/62115660.\n",
              "    let position = 0;\n",
              "    do {\n",
              "      const length = Math.min(fileData.byteLength - position, MAX_PAYLOAD_SIZE);\n",
              "      const chunk = new Uint8Array(fileData, position, length);\n",
              "      position += length;\n",
              "\n",
              "      const base64 = btoa(String.fromCharCode.apply(null, chunk));\n",
              "      yield {\n",
              "        response: {\n",
              "          action: 'append',\n",
              "          file: file.name,\n",
              "          data: base64,\n",
              "        },\n",
              "      };\n",
              "\n",
              "      let percentDone = fileData.byteLength === 0 ?\n",
              "          100 :\n",
              "          Math.round((position / fileData.byteLength) * 100);\n",
              "      percent.textContent = `${percentDone}% done`;\n",
              "\n",
              "    } while (position < fileData.byteLength);\n",
              "  }\n",
              "\n",
              "  // All done.\n",
              "  yield {\n",
              "    response: {\n",
              "      action: 'complete',\n",
              "    }\n",
              "  };\n",
              "}\n",
              "\n",
              "scope.google = scope.google || {};\n",
              "scope.google.colab = scope.google.colab || {};\n",
              "scope.google.colab._files = {\n",
              "  _uploadFiles,\n",
              "  _uploadFilesContinue,\n",
              "};\n",
              "})(self);\n",
              "</script> "
            ]
          },
          "metadata": {}
        },
        {
          "output_type": "stream",
          "name": "stdout",
          "text": [
            "Saving kaggle.json to kaggle.json\n"
          ]
        }
      ],
      "source": [
        "!pip install -q kaggle\n",
        "from google.colab import files\n",
        "files.upload()\n",
        "\n",
        "!mkdir ~/.kaggle\n",
        "! cp kaggle.json ~/.kaggle/\n",
        "! chmod 600 ~/.kaggle/kaggle.json\n"
      ]
    },
    {
      "cell_type": "code",
      "execution_count": 3,
      "metadata": {
        "colab": {
          "base_uri": "https://localhost:8080/"
        },
        "id": "3LzoIvnKJUVh",
        "outputId": "6ab64e70-0e79-4ea1-c191-9c3b4339cdb7"
      },
      "outputs": [
        {
          "output_type": "stream",
          "name": "stdout",
          "text": [
            "Downloading stroke-prediction-dataset.zip to /content\n",
            "\r  0% 0.00/67.4k [00:00<?, ?B/s]\n",
            "\r100% 67.4k/67.4k [00:00<00:00, 18.8MB/s]\n"
          ]
        }
      ],
      "source": [
        "!kaggle datasets download -d fedesoriano/stroke-prediction-dataset"
      ]
    },
    {
      "cell_type": "markdown",
      "metadata": {
        "id": "d1ObK-78Imh4"
      },
      "source": [
        "# data"
      ]
    },
    {
      "cell_type": "code",
      "execution_count": 5,
      "metadata": {
        "colab": {
          "base_uri": "https://localhost:8080/"
        },
        "id": "dqOs5K4qgM9E",
        "outputId": "4fb7f7b6-580f-4b29-ea0b-f447205f091a"
      },
      "outputs": [
        {
          "output_type": "stream",
          "name": "stdout",
          "text": [
            "Archive:  /content/stroke-prediction-dataset.zip\n",
            "replace healthcare-dataset-stroke-data.csv? [y]es, [n]o, [A]ll, [N]one, [r]ename: "
          ]
        }
      ],
      "source": [
        "!unzip /content/stroke-prediction-dataset.zip"
      ]
    },
    {
      "cell_type": "code",
      "execution_count": 12,
      "metadata": {
        "id": "C0GjPQHMgOYF"
      },
      "outputs": [],
      "source": [
        "import os\n",
        "path = '/content/drive/MyDrive/work48_stroke/'\n",
        "os.mkdir(path)"
      ]
    },
    {
      "cell_type": "code",
      "execution_count": 9,
      "metadata": {
        "id": "0h8GLTENoUW1"
      },
      "outputs": [],
      "source": [
        "import pandas as pd\n",
        "import numpy as np\n",
        "import seaborn as sns\n",
        "import matplotlib.pyplot as plt"
      ]
    },
    {
      "cell_type": "code",
      "execution_count": 10,
      "metadata": {
        "colab": {
          "base_uri": "https://localhost:8080/",
          "height": 34
        },
        "id": "vfCOq183gqFI",
        "outputId": "3c5a8cc8-3024-4f36-f8bc-3d107253bf9a"
      },
      "outputs": [
        {
          "output_type": "execute_result",
          "data": {
            "text/plain": [
              "'/content/drive/MyDrive/work48(stroke)/'"
            ],
            "application/vnd.google.colaboratory.intrinsic+json": {
              "type": "string"
            }
          },
          "metadata": {},
          "execution_count": 10
        }
      ],
      "source": [
        "path"
      ]
    },
    {
      "cell_type": "code",
      "execution_count": 13,
      "metadata": {
        "id": "eaPf3qqlgRMe"
      },
      "outputs": [],
      "source": [
        "!mv /content/healthcare-dataset-stroke-data.csv /content/drive/MyDrive/work48_stroke/data.csv"
      ]
    },
    {
      "cell_type": "code",
      "execution_count": 27,
      "metadata": {
        "colab": {
          "base_uri": "https://localhost:8080/",
          "height": 424
        },
        "id": "naWbEBcxIQU3",
        "outputId": "8fa5eb33-1695-41f0-e904-9e2c514b0e18"
      },
      "outputs": [
        {
          "output_type": "execute_result",
          "data": {
            "text/plain": [
              "         id  gender   age  hypertension  heart_disease ever_married  \\\n",
              "0      9046    Male  67.0             0              1          Yes   \n",
              "1     51676  Female  61.0             0              0          Yes   \n",
              "2     31112    Male  80.0             0              1          Yes   \n",
              "3     60182  Female  49.0             0              0          Yes   \n",
              "4      1665  Female  79.0             1              0          Yes   \n",
              "...     ...     ...   ...           ...            ...          ...   \n",
              "5105  18234  Female  80.0             1              0          Yes   \n",
              "5106  44873  Female  81.0             0              0          Yes   \n",
              "5107  19723  Female  35.0             0              0          Yes   \n",
              "5108  37544    Male  51.0             0              0          Yes   \n",
              "5109  44679  Female  44.0             0              0          Yes   \n",
              "\n",
              "          work_type Residence_type  avg_glucose_level   bmi   smoking_status  \\\n",
              "0           Private          Urban             228.69  36.6  formerly smoked   \n",
              "1     Self-employed          Rural             202.21   NaN     never smoked   \n",
              "2           Private          Rural             105.92  32.5     never smoked   \n",
              "3           Private          Urban             171.23  34.4           smokes   \n",
              "4     Self-employed          Rural             174.12  24.0     never smoked   \n",
              "...             ...            ...                ...   ...              ...   \n",
              "5105        Private          Urban              83.75   NaN     never smoked   \n",
              "5106  Self-employed          Urban             125.20  40.0     never smoked   \n",
              "5107  Self-employed          Rural              82.99  30.6     never smoked   \n",
              "5108        Private          Rural             166.29  25.6  formerly smoked   \n",
              "5109       Govt_job          Urban              85.28  26.2          Unknown   \n",
              "\n",
              "      stroke  \n",
              "0          1  \n",
              "1          1  \n",
              "2          1  \n",
              "3          1  \n",
              "4          1  \n",
              "...      ...  \n",
              "5105       0  \n",
              "5106       0  \n",
              "5107       0  \n",
              "5108       0  \n",
              "5109       0  \n",
              "\n",
              "[5110 rows x 12 columns]"
            ],
            "text/html": [
              "\n",
              "  <div id=\"df-d3d8fa11-9ff4-43ab-b9c5-84252b78b50f\" class=\"colab-df-container\">\n",
              "    <div>\n",
              "<style scoped>\n",
              "    .dataframe tbody tr th:only-of-type {\n",
              "        vertical-align: middle;\n",
              "    }\n",
              "\n",
              "    .dataframe tbody tr th {\n",
              "        vertical-align: top;\n",
              "    }\n",
              "\n",
              "    .dataframe thead th {\n",
              "        text-align: right;\n",
              "    }\n",
              "</style>\n",
              "<table border=\"1\" class=\"dataframe\">\n",
              "  <thead>\n",
              "    <tr style=\"text-align: right;\">\n",
              "      <th></th>\n",
              "      <th>id</th>\n",
              "      <th>gender</th>\n",
              "      <th>age</th>\n",
              "      <th>hypertension</th>\n",
              "      <th>heart_disease</th>\n",
              "      <th>ever_married</th>\n",
              "      <th>work_type</th>\n",
              "      <th>Residence_type</th>\n",
              "      <th>avg_glucose_level</th>\n",
              "      <th>bmi</th>\n",
              "      <th>smoking_status</th>\n",
              "      <th>stroke</th>\n",
              "    </tr>\n",
              "  </thead>\n",
              "  <tbody>\n",
              "    <tr>\n",
              "      <th>0</th>\n",
              "      <td>9046</td>\n",
              "      <td>Male</td>\n",
              "      <td>67.0</td>\n",
              "      <td>0</td>\n",
              "      <td>1</td>\n",
              "      <td>Yes</td>\n",
              "      <td>Private</td>\n",
              "      <td>Urban</td>\n",
              "      <td>228.69</td>\n",
              "      <td>36.6</td>\n",
              "      <td>formerly smoked</td>\n",
              "      <td>1</td>\n",
              "    </tr>\n",
              "    <tr>\n",
              "      <th>1</th>\n",
              "      <td>51676</td>\n",
              "      <td>Female</td>\n",
              "      <td>61.0</td>\n",
              "      <td>0</td>\n",
              "      <td>0</td>\n",
              "      <td>Yes</td>\n",
              "      <td>Self-employed</td>\n",
              "      <td>Rural</td>\n",
              "      <td>202.21</td>\n",
              "      <td>NaN</td>\n",
              "      <td>never smoked</td>\n",
              "      <td>1</td>\n",
              "    </tr>\n",
              "    <tr>\n",
              "      <th>2</th>\n",
              "      <td>31112</td>\n",
              "      <td>Male</td>\n",
              "      <td>80.0</td>\n",
              "      <td>0</td>\n",
              "      <td>1</td>\n",
              "      <td>Yes</td>\n",
              "      <td>Private</td>\n",
              "      <td>Rural</td>\n",
              "      <td>105.92</td>\n",
              "      <td>32.5</td>\n",
              "      <td>never smoked</td>\n",
              "      <td>1</td>\n",
              "    </tr>\n",
              "    <tr>\n",
              "      <th>3</th>\n",
              "      <td>60182</td>\n",
              "      <td>Female</td>\n",
              "      <td>49.0</td>\n",
              "      <td>0</td>\n",
              "      <td>0</td>\n",
              "      <td>Yes</td>\n",
              "      <td>Private</td>\n",
              "      <td>Urban</td>\n",
              "      <td>171.23</td>\n",
              "      <td>34.4</td>\n",
              "      <td>smokes</td>\n",
              "      <td>1</td>\n",
              "    </tr>\n",
              "    <tr>\n",
              "      <th>4</th>\n",
              "      <td>1665</td>\n",
              "      <td>Female</td>\n",
              "      <td>79.0</td>\n",
              "      <td>1</td>\n",
              "      <td>0</td>\n",
              "      <td>Yes</td>\n",
              "      <td>Self-employed</td>\n",
              "      <td>Rural</td>\n",
              "      <td>174.12</td>\n",
              "      <td>24.0</td>\n",
              "      <td>never smoked</td>\n",
              "      <td>1</td>\n",
              "    </tr>\n",
              "    <tr>\n",
              "      <th>...</th>\n",
              "      <td>...</td>\n",
              "      <td>...</td>\n",
              "      <td>...</td>\n",
              "      <td>...</td>\n",
              "      <td>...</td>\n",
              "      <td>...</td>\n",
              "      <td>...</td>\n",
              "      <td>...</td>\n",
              "      <td>...</td>\n",
              "      <td>...</td>\n",
              "      <td>...</td>\n",
              "      <td>...</td>\n",
              "    </tr>\n",
              "    <tr>\n",
              "      <th>5105</th>\n",
              "      <td>18234</td>\n",
              "      <td>Female</td>\n",
              "      <td>80.0</td>\n",
              "      <td>1</td>\n",
              "      <td>0</td>\n",
              "      <td>Yes</td>\n",
              "      <td>Private</td>\n",
              "      <td>Urban</td>\n",
              "      <td>83.75</td>\n",
              "      <td>NaN</td>\n",
              "      <td>never smoked</td>\n",
              "      <td>0</td>\n",
              "    </tr>\n",
              "    <tr>\n",
              "      <th>5106</th>\n",
              "      <td>44873</td>\n",
              "      <td>Female</td>\n",
              "      <td>81.0</td>\n",
              "      <td>0</td>\n",
              "      <td>0</td>\n",
              "      <td>Yes</td>\n",
              "      <td>Self-employed</td>\n",
              "      <td>Urban</td>\n",
              "      <td>125.20</td>\n",
              "      <td>40.0</td>\n",
              "      <td>never smoked</td>\n",
              "      <td>0</td>\n",
              "    </tr>\n",
              "    <tr>\n",
              "      <th>5107</th>\n",
              "      <td>19723</td>\n",
              "      <td>Female</td>\n",
              "      <td>35.0</td>\n",
              "      <td>0</td>\n",
              "      <td>0</td>\n",
              "      <td>Yes</td>\n",
              "      <td>Self-employed</td>\n",
              "      <td>Rural</td>\n",
              "      <td>82.99</td>\n",
              "      <td>30.6</td>\n",
              "      <td>never smoked</td>\n",
              "      <td>0</td>\n",
              "    </tr>\n",
              "    <tr>\n",
              "      <th>5108</th>\n",
              "      <td>37544</td>\n",
              "      <td>Male</td>\n",
              "      <td>51.0</td>\n",
              "      <td>0</td>\n",
              "      <td>0</td>\n",
              "      <td>Yes</td>\n",
              "      <td>Private</td>\n",
              "      <td>Rural</td>\n",
              "      <td>166.29</td>\n",
              "      <td>25.6</td>\n",
              "      <td>formerly smoked</td>\n",
              "      <td>0</td>\n",
              "    </tr>\n",
              "    <tr>\n",
              "      <th>5109</th>\n",
              "      <td>44679</td>\n",
              "      <td>Female</td>\n",
              "      <td>44.0</td>\n",
              "      <td>0</td>\n",
              "      <td>0</td>\n",
              "      <td>Yes</td>\n",
              "      <td>Govt_job</td>\n",
              "      <td>Urban</td>\n",
              "      <td>85.28</td>\n",
              "      <td>26.2</td>\n",
              "      <td>Unknown</td>\n",
              "      <td>0</td>\n",
              "    </tr>\n",
              "  </tbody>\n",
              "</table>\n",
              "<p>5110 rows × 12 columns</p>\n",
              "</div>\n",
              "    <div class=\"colab-df-buttons\">\n",
              "\n",
              "  <div class=\"colab-df-container\">\n",
              "    <button class=\"colab-df-convert\" onclick=\"convertToInteractive('df-d3d8fa11-9ff4-43ab-b9c5-84252b78b50f')\"\n",
              "            title=\"Convert this dataframe to an interactive table.\"\n",
              "            style=\"display:none;\">\n",
              "\n",
              "  <svg xmlns=\"http://www.w3.org/2000/svg\" height=\"24px\" viewBox=\"0 -960 960 960\">\n",
              "    <path d=\"M120-120v-720h720v720H120Zm60-500h600v-160H180v160Zm220 220h160v-160H400v160Zm0 220h160v-160H400v160ZM180-400h160v-160H180v160Zm440 0h160v-160H620v160ZM180-180h160v-160H180v160Zm440 0h160v-160H620v160Z\"/>\n",
              "  </svg>\n",
              "    </button>\n",
              "\n",
              "  <style>\n",
              "    .colab-df-container {\n",
              "      display:flex;\n",
              "      gap: 12px;\n",
              "    }\n",
              "\n",
              "    .colab-df-convert {\n",
              "      background-color: #E8F0FE;\n",
              "      border: none;\n",
              "      border-radius: 50%;\n",
              "      cursor: pointer;\n",
              "      display: none;\n",
              "      fill: #1967D2;\n",
              "      height: 32px;\n",
              "      padding: 0 0 0 0;\n",
              "      width: 32px;\n",
              "    }\n",
              "\n",
              "    .colab-df-convert:hover {\n",
              "      background-color: #E2EBFA;\n",
              "      box-shadow: 0px 1px 2px rgba(60, 64, 67, 0.3), 0px 1px 3px 1px rgba(60, 64, 67, 0.15);\n",
              "      fill: #174EA6;\n",
              "    }\n",
              "\n",
              "    .colab-df-buttons div {\n",
              "      margin-bottom: 4px;\n",
              "    }\n",
              "\n",
              "    [theme=dark] .colab-df-convert {\n",
              "      background-color: #3B4455;\n",
              "      fill: #D2E3FC;\n",
              "    }\n",
              "\n",
              "    [theme=dark] .colab-df-convert:hover {\n",
              "      background-color: #434B5C;\n",
              "      box-shadow: 0px 1px 3px 1px rgba(0, 0, 0, 0.15);\n",
              "      filter: drop-shadow(0px 1px 2px rgba(0, 0, 0, 0.3));\n",
              "      fill: #FFFFFF;\n",
              "    }\n",
              "  </style>\n",
              "\n",
              "    <script>\n",
              "      const buttonEl =\n",
              "        document.querySelector('#df-d3d8fa11-9ff4-43ab-b9c5-84252b78b50f button.colab-df-convert');\n",
              "      buttonEl.style.display =\n",
              "        google.colab.kernel.accessAllowed ? 'block' : 'none';\n",
              "\n",
              "      async function convertToInteractive(key) {\n",
              "        const element = document.querySelector('#df-d3d8fa11-9ff4-43ab-b9c5-84252b78b50f');\n",
              "        const dataTable =\n",
              "          await google.colab.kernel.invokeFunction('convertToInteractive',\n",
              "                                                    [key], {});\n",
              "        if (!dataTable) return;\n",
              "\n",
              "        const docLinkHtml = 'Like what you see? Visit the ' +\n",
              "          '<a target=\"_blank\" href=https://colab.research.google.com/notebooks/data_table.ipynb>data table notebook</a>'\n",
              "          + ' to learn more about interactive tables.';\n",
              "        element.innerHTML = '';\n",
              "        dataTable['output_type'] = 'display_data';\n",
              "        await google.colab.output.renderOutput(dataTable, element);\n",
              "        const docLink = document.createElement('div');\n",
              "        docLink.innerHTML = docLinkHtml;\n",
              "        element.appendChild(docLink);\n",
              "      }\n",
              "    </script>\n",
              "  </div>\n",
              "\n",
              "\n",
              "<div id=\"df-33916c29-6b65-47c3-b629-80d0ea7004bb\">\n",
              "  <button class=\"colab-df-quickchart\" onclick=\"quickchart('df-33916c29-6b65-47c3-b629-80d0ea7004bb')\"\n",
              "            title=\"Suggest charts.\"\n",
              "            style=\"display:none;\">\n",
              "\n",
              "<svg xmlns=\"http://www.w3.org/2000/svg\" height=\"24px\"viewBox=\"0 0 24 24\"\n",
              "     width=\"24px\">\n",
              "    <g>\n",
              "        <path d=\"M19 3H5c-1.1 0-2 .9-2 2v14c0 1.1.9 2 2 2h14c1.1 0 2-.9 2-2V5c0-1.1-.9-2-2-2zM9 17H7v-7h2v7zm4 0h-2V7h2v10zm4 0h-2v-4h2v4z\"/>\n",
              "    </g>\n",
              "</svg>\n",
              "  </button>\n",
              "\n",
              "<style>\n",
              "  .colab-df-quickchart {\n",
              "    background-color: #E8F0FE;\n",
              "    border: none;\n",
              "    border-radius: 50%;\n",
              "    cursor: pointer;\n",
              "    display: none;\n",
              "    fill: #1967D2;\n",
              "    height: 32px;\n",
              "    padding: 0 0 0 0;\n",
              "    width: 32px;\n",
              "  }\n",
              "\n",
              "  .colab-df-quickchart:hover {\n",
              "    background-color: #E2EBFA;\n",
              "    box-shadow: 0px 1px 2px rgba(60, 64, 67, 0.3), 0px 1px 3px 1px rgba(60, 64, 67, 0.15);\n",
              "    fill: #174EA6;\n",
              "  }\n",
              "\n",
              "  [theme=dark] .colab-df-quickchart {\n",
              "    background-color: #3B4455;\n",
              "    fill: #D2E3FC;\n",
              "  }\n",
              "\n",
              "  [theme=dark] .colab-df-quickchart:hover {\n",
              "    background-color: #434B5C;\n",
              "    box-shadow: 0px 1px 3px 1px rgba(0, 0, 0, 0.15);\n",
              "    filter: drop-shadow(0px 1px 2px rgba(0, 0, 0, 0.3));\n",
              "    fill: #FFFFFF;\n",
              "  }\n",
              "</style>\n",
              "\n",
              "  <script>\n",
              "    async function quickchart(key) {\n",
              "      const charts = await google.colab.kernel.invokeFunction(\n",
              "          'suggestCharts', [key], {});\n",
              "    }\n",
              "    (() => {\n",
              "      let quickchartButtonEl =\n",
              "        document.querySelector('#df-33916c29-6b65-47c3-b629-80d0ea7004bb button');\n",
              "      quickchartButtonEl.style.display =\n",
              "        google.colab.kernel.accessAllowed ? 'block' : 'none';\n",
              "    })();\n",
              "  </script>\n",
              "</div>\n",
              "    </div>\n",
              "  </div>\n"
            ]
          },
          "metadata": {},
          "execution_count": 27
        }
      ],
      "source": [
        "df = pd.read_csv('/content/drive/MyDrive/work48_stroke/data.csv')\n",
        "df"
      ]
    },
    {
      "cell_type": "code",
      "source": [
        "df['stroke'].value_counts()"
      ],
      "metadata": {
        "colab": {
          "base_uri": "https://localhost:8080/"
        },
        "id": "CGspsLMOIo3I",
        "outputId": "4fc6b413-ba25-4912-d489-31893ef7012b"
      },
      "execution_count": 28,
      "outputs": [
        {
          "output_type": "execute_result",
          "data": {
            "text/plain": [
              "0    4861\n",
              "1     249\n",
              "Name: stroke, dtype: int64"
            ]
          },
          "metadata": {},
          "execution_count": 28
        }
      ]
    },
    {
      "cell_type": "code",
      "execution_count": null,
      "metadata": {
        "id": "uIwjhvfjrWVT"
      },
      "outputs": [],
      "source": [
        "# path = '/content/drive/MyDrive/45/root/'"
      ]
    },
    {
      "cell_type": "code",
      "execution_count": null,
      "metadata": {
        "id": "iZBmO58FrJIG"
      },
      "outputs": [],
      "source": [
        "# import missingno as msno\n",
        "# msno.matrix(df);\n",
        "# plt.savefig(f'{path}na_matrix.png',bbox_inches='tight')\n",
        "# df.to_csv(f'{path}na_matrix.csv')"
      ]
    },
    {
      "cell_type": "code",
      "execution_count": null,
      "metadata": {
        "id": "n158A5fmKA9k"
      },
      "outputs": [],
      "source": [
        "# #Replace null values based on the group/sample mean\n",
        "# df['ph']=df['ph'].fillna(df.groupby(['Potability'])['ph'].transform('mean'))\n",
        "# df['Sulfate']=df['Sulfate'].fillna(df.groupby(['Potability'])['Sulfate'].transform('mean'))\n",
        "# df['Trihalomethanes']=df['Trihalomethanes'].fillna(df.groupby(['Potability'])['Trihalomethanes'].transform('mean'))"
      ]
    },
    {
      "cell_type": "code",
      "execution_count": null,
      "metadata": {
        "id": "2N-oC9hEhz5-"
      },
      "outputs": [],
      "source": [
        "# df_cor = df.corr()"
      ]
    },
    {
      "cell_type": "code",
      "execution_count": null,
      "metadata": {
        "id": "nlbfAH-QiHBk"
      },
      "outputs": [],
      "source": [
        "# sns.heatmap(df_cor)\n",
        "# plt.title('Co-Relation plot')\n",
        "# df_cor.to_csv(f'{path}co-relation plot.csv')\n",
        "# plt.savefig(f'{path}co-relation plot.png',bbox_inches='tight')\n"
      ]
    },
    {
      "cell_type": "code",
      "execution_count": null,
      "metadata": {
        "id": "o0oZHA2NrvpN"
      },
      "outputs": [],
      "source": [
        "# fig, ax1 = plt.subplots(figsize=(20,10))\n",
        "# graph = sns.countplot(ax=ax1,x = 'Potability' , data = df,palette='pastel')\n",
        "# graph.set_xticklabels(graph.get_xticklabels(),rotation=90)\n",
        "# for p in graph.patches:\n",
        "#     height = p.get_height()\n",
        "#     graph.text(p.get_x()+p.get_width()/2., height + 0.1,height ,ha=\"center\")\n",
        "\n",
        "# plt.savefig(f'{path}sample_count.png',bbox_inches='tight')\n",
        "# df.to_csv(f'{path}sample_count.csv')"
      ]
    },
    {
      "cell_type": "markdown",
      "metadata": {
        "id": "zEDSNqCssFyK"
      },
      "source": []
    },
    {
      "cell_type": "code",
      "execution_count": null,
      "metadata": {
        "id": "a8wWspocsGW2"
      },
      "outputs": [],
      "source": [
        "# numeric_features=['ph', 'Hardness', 'Solids', 'Chloramines', 'Sulfate', 'Conductivity',\n",
        "#        'Organic_carbon', 'Trihalomethanes', 'Turbidity']"
      ]
    },
    {
      "cell_type": "code",
      "execution_count": null,
      "metadata": {
        "id": "BFTNYslusXTp"
      },
      "outputs": [],
      "source": [
        "# from scipy import stats"
      ]
    },
    {
      "cell_type": "code",
      "execution_count": null,
      "metadata": {
        "id": "_RbtUfuUsBON"
      },
      "outputs": [],
      "source": [
        "# import warnings\n",
        "# warnings.filterwarnings('ignore')\n",
        "# fig,ax = plt.subplots(len(numeric_features),3,figsize=(30,20))\n",
        "# for index,i in enumerate(numeric_features):\n",
        "#     sns.distplot(df[i],ax=ax[index,0],color='green')\n",
        "#     sns.boxplot(df[i],ax=ax[index,1],color='yellow')\n",
        "#     sns.violinplot(df[i],ax=ax[index,2],color='purple')\n",
        "#     # stats.probplot(df[i],plot=ax[index,3])\n",
        "\n",
        "# fig.tight_layout()\n",
        "# fig.subplots_adjust(top=0.95)\n",
        "# # plt.suptitle(\"Visualizing continuous columns (train dataset)\",fontsize=30)\n",
        "# plt.savefig(f'{path}all_plots.png',bbox_inches='tight')\n",
        "# df.to_csv(f'{path}all_plots.csv')"
      ]
    },
    {
      "cell_type": "code",
      "execution_count": null,
      "metadata": {
        "id": "0c95f4ac"
      },
      "outputs": [],
      "source": [
        "# from mealpy.swarm_based import PSO,SSpiderA,SSA\n",
        "# from sklearn.ensemble import RandomForestClassifier"
      ]
    },
    {
      "cell_type": "code",
      "execution_count": 29,
      "metadata": {
        "id": "njbBZxWig4UT"
      },
      "outputs": [],
      "source": [
        "cls = df.columns"
      ]
    },
    {
      "cell_type": "code",
      "source": [
        "df.info()"
      ],
      "metadata": {
        "colab": {
          "base_uri": "https://localhost:8080/"
        },
        "id": "D3q34ObdHTO1",
        "outputId": "aa396849-f20f-44a9-fa26-d5c81580df29"
      },
      "execution_count": 208,
      "outputs": [
        {
          "output_type": "stream",
          "name": "stdout",
          "text": [
            "<class 'pandas.core.frame.DataFrame'>\n",
            "Int64Index: 4909 entries, 0 to 5109\n",
            "Data columns (total 11 columns):\n",
            " #   Column             Non-Null Count  Dtype  \n",
            "---  ------             --------------  -----  \n",
            " 0   gender             4909 non-null   int64  \n",
            " 1   age                4909 non-null   float64\n",
            " 2   hypertension       4909 non-null   int64  \n",
            " 3   heart_disease      4909 non-null   int64  \n",
            " 4   ever_married       4909 non-null   int64  \n",
            " 5   work_type          4909 non-null   int64  \n",
            " 6   Residence_type     4909 non-null   int64  \n",
            " 7   avg_glucose_level  4909 non-null   float64\n",
            " 8   bmi                4909 non-null   float64\n",
            " 9   smoking_status     4909 non-null   int64  \n",
            " 10  stroke             4909 non-null   int64  \n",
            "dtypes: float64(3), int64(8)\n",
            "memory usage: 460.2 KB\n"
          ]
        }
      ]
    },
    {
      "cell_type": "code",
      "source": [
        "df.dropna(inplace=True)"
      ],
      "metadata": {
        "id": "liaxRWsXHXDJ"
      },
      "execution_count": 31,
      "outputs": []
    },
    {
      "cell_type": "code",
      "source": [
        "df['stroke'].value_counts()"
      ],
      "metadata": {
        "colab": {
          "base_uri": "https://localhost:8080/"
        },
        "id": "2nvsVXSeHCRp",
        "outputId": "350127b4-e29b-4fb5-d97c-e4f8ef69d1ca"
      },
      "execution_count": 32,
      "outputs": [
        {
          "output_type": "execute_result",
          "data": {
            "text/plain": [
              "0    4700\n",
              "1     209\n",
              "Name: stroke, dtype: int64"
            ]
          },
          "metadata": {},
          "execution_count": 32
        }
      ]
    },
    {
      "cell_type": "code",
      "source": [
        "df['gender'] = df['gender'].factorize()[0]\n",
        "df['ever_married'] = df['ever_married'].factorize()[0]\n",
        "df['work_type'] = df['work_type'].factorize()[0]\n",
        "df['Residence_type'] = df['Residence_type'].factorize()[0]\n",
        "df['smoking_status'] = df['smoking_status'].factorize()[0]\n"
      ],
      "metadata": {
        "id": "19HFEJGmHPvq"
      },
      "execution_count": 36,
      "outputs": []
    },
    {
      "cell_type": "code",
      "source": [
        "sns.heatmap(df.corr())\n",
        "plt.savefig(f'{p}___heatmap.png',bbox_inches='tight')\n",
        "df.corr().to_csv(f'{p}___heatmap.csv')"
      ],
      "metadata": {
        "colab": {
          "base_uri": "https://localhost:8080/",
          "height": 547
        },
        "id": "BG5BsARsIziZ",
        "outputId": "945c6012-b59a-4905-b950-80a12d57fa71"
      },
      "execution_count": 213,
      "outputs": [
        {
          "output_type": "display_data",
          "data": {
            "text/plain": [
              "<Figure size 640x480 with 2 Axes>"
            ],
            "image/png": "[encoded data removed]"
          },
          "metadata": {}
        }
      ]
    },
    {
      "cell_type": "code",
      "source": [
        "sns.kdeplot([df['age'],df['avg_glucose_level'],df['bmi']], shade=True)"
      ],
      "metadata": {
        "colab": {
          "base_uri": "https://localhost:8080/",
          "height": 552
        },
        "id": "D-sKCx_EJ_9t",
        "outputId": "6c8c0d8b-9426-47c7-e0da-294057cf51eb"
      },
      "execution_count": 215,
      "outputs": [
        {
          "output_type": "stream",
          "name": "stderr",
          "text": [
            "<ipython-input-215-cb7431d3f63b>:1: FutureWarning: \n",
            "\n",
            "`shade` is now deprecated in favor of `fill`; setting `fill=True`.\n",
            "This will become an error in seaborn v0.14.0; please update your code.\n",
            "\n",
            "  sns.kdeplot([df['age'],df['avg_glucose_level'],df['bmi']], shade=True)\n"
          ]
        },
        {
          "output_type": "execute_result",
          "data": {
            "text/plain": [
              "<Axes: ylabel='Density'>"
            ]
          },
          "metadata": {},
          "execution_count": 215
        },
        {
          "output_type": "display_data",
          "data": {
            "text/plain": [
              "<Figure size 640x480 with 1 Axes>"
            ],
            "image/png": "[encoded data removed]"
          },
          "metadata": {}
        }
      ]
    },
    {
      "cell_type": "code",
      "source": [
        "# print(df.work_type.value_counts())\n",
        "\n",
        "# Set the seaborn style to \"darkgrid\"\n",
        "# sns.set_theme(style=\"darkgrid\")\n",
        "\n",
        "# Create a countplot using seaborn and the 'work_type' column in the 'data' dataframe\n",
        "ax = sns.countplot(data=df, x=\"stroke\")\n",
        "plt.savefig(f'{p}___before_sampling.png',bbox_inches='tight')\n",
        "df[\"stroke\"].to_csv(f'{p}___before_sampling.csv',index=False)\n",
        "# Show the plot\n",
        "plt.show()"
      ],
      "metadata": {
        "colab": {
          "base_uri": "https://localhost:8080/",
          "height": 458
        },
        "id": "OM2kKZaWKaxl",
        "outputId": "2e2fea6b-f52f-40bb-f60f-dc81365b3aeb"
      },
      "execution_count": 218,
      "outputs": [
        {
          "output_type": "display_data",
          "data": {
            "text/plain": [
              "<Figure size 640x480 with 1 Axes>"
            ],
            "image/png": "[encoded data removed]"
          },
          "metadata": {}
        }
      ]
    },
    {
      "cell_type": "code",
      "source": [
        "s = pd.DataFrame(y_,columns=['stroke'])"
      ],
      "metadata": {
        "id": "iVUihhKGLgPb"
      },
      "execution_count": 224,
      "outputs": []
    },
    {
      "cell_type": "code",
      "source": [
        "ax = sns.countplot(data=s, x=\"stroke\")\n",
        "plt.savefig(f'{p}___after_sampling.png',bbox_inches='tight')\n",
        "s[\"stroke\"].to_csv(f'{p}___after_sampling.csv',index=False)\n",
        "# Show the plot\n",
        "plt.show()"
      ],
      "metadata": {
        "colab": {
          "base_uri": "https://localhost:8080/",
          "height": 458
        },
        "id": "-dVSAYKZL0BO",
        "outputId": "b9705639-819f-4c39-ac8c-e1244ef11a3b"
      },
      "execution_count": 225,
      "outputs": [
        {
          "output_type": "display_data",
          "data": {
            "text/plain": [
              "<Figure size 640x480 with 1 Axes>"
            ],
            "image/png": "[encoded data removed]"
          },
          "metadata": {}
        }
      ]
    },
    {
      "cell_type": "code",
      "execution_count": 49,
      "metadata": {
        "id": "dd7f1ac5"
      },
      "outputs": [],
      "source": [
        "def fitness_function(solution):\n",
        "    max_depth = solution[0]\n",
        "    n_estimator = solution[1]\n",
        "    learning_rate = solution[2]\n",
        "    clf = XGBClassifier(max_depth=int(max_depth),\n",
        "                    n_estimators=int(n_estimator),random_state=0,learning_rate=learning_rate,\n",
        "                    )\n",
        "    # Fit the model\n",
        "    clf.fit(X, Y)\n",
        "    # Make the predictions\n",
        "    y_ = clf.predict(x)\n",
        "    # cm = confusion_matrix(y,y_)\n",
        "    # km = cm[0][1]+cm[1][0]\n",
        "    return f1_score(y,y_,average='macro')\n",
        "\n",
        "problem = {\n",
        "    \"fit_func\": fitness_function,\n",
        "    \"lb\": [6, 100, 0.01],\n",
        "    \"ub\": [12, 600, 0.5],\n",
        "    \"minmax\": \"max\",\n",
        "}"
      ]
    },
    {
      "cell_type": "code",
      "source": [
        "# df.drop('id',axis=1,inplace=True)"
      ],
      "metadata": {
        "id": "ivIwZCgcHIpP"
      },
      "execution_count": 38,
      "outputs": []
    },
    {
      "cell_type": "code",
      "execution_count": 39,
      "metadata": {
        "id": "uYmaJv519-Im"
      },
      "outputs": [],
      "source": [
        "def fitness_function(solution):\n",
        "    max_depth = solution[0]\n",
        "    n_estimator = solution[1]\n",
        "    # learning_rate = solution[2]\n",
        "    clf = RandomForestClassifier(max_depth=int(max_depth),\n",
        "                    n_estimators=int(n_estimator),random_state=0)\n",
        "    # Fit the model\n",
        "    clf.fit(X, Y)\n",
        "    # Make the predictions\n",
        "    y_ = clf.predict(x)\n",
        "    # cm = confusion_matrix(y,y_)\n",
        "    # km = cm[0][1]+cm[1][0]\n",
        "    return f1_score(y,y_,average='macro')\n",
        "\n",
        "problem = {\n",
        "    \"fit_func\": fitness_function,\n",
        "    \"lb\": [6, 50],\n",
        "    \"ub\": [10, 400],\n",
        "    \"minmax\": \"max\",\n",
        "}"
      ]
    },
    {
      "cell_type": "code",
      "execution_count": 40,
      "metadata": {
        "colab": {
          "base_uri": "https://localhost:8080/"
        },
        "id": "tTXNxg3Tg_fg",
        "outputId": "3d60a7a3-abd0-4e70-b789-ed0384c69a40"
      },
      "outputs": [
        {
          "output_type": "execute_result",
          "data": {
            "text/plain": [
              "Index(['gender', 'age', 'hypertension', 'heart_disease', 'ever_married',\n",
              "       'work_type', 'Residence_type', 'avg_glucose_level', 'bmi',\n",
              "       'smoking_status', 'stroke'],\n",
              "      dtype='object')"
            ]
          },
          "metadata": {},
          "execution_count": 40
        }
      ],
      "source": [
        "df.columns"
      ]
    },
    {
      "cell_type": "code",
      "execution_count": 41,
      "metadata": {
        "colab": {
          "base_uri": "https://localhost:8080/"
        },
        "id": "t6GMdN75Lmf7",
        "outputId": "25d40f5d-e753-4c88-f864-91a8f36b854b"
      },
      "outputs": [
        {
          "output_type": "stream",
          "name": "stdout",
          "text": [
            "X_train (3927, 10)\n",
            "X_test (982, 10)\n",
            "y_train (3927,)\n",
            "y_test (982,)\n"
          ]
        }
      ],
      "source": [
        "X_ = df.drop(\"stroke\", axis=1).values\n",
        "y_ = df['stroke'].values\n",
        "\n",
        "# Train Test Split\n",
        "X, x, Y, y = train_test_split(X_, y_, test_size=0.2, random_state=1)\n",
        "\n",
        "print(\"X_train\", X.shape)\n",
        "print(\"X_test\", x.shape)\n",
        "print(\"y_train\", Y.shape)\n",
        "print(\"y_test\", y.shape)"
      ]
    },
    {
      "cell_type": "code",
      "execution_count": 42,
      "metadata": {
        "colab": {
          "base_uri": "https://localhost:8080/"
        },
        "id": "InYeeDFn-7fD",
        "outputId": "0b990958-cc7b-4c97-97e4-b9cdf4d1e2dd"
      },
      "outputs": [
        {
          "output_type": "execute_result",
          "data": {
            "text/plain": [
              "(0.945010183299389, 0.6177289377289377, 0.516922558497083, 0.5203169663856424)"
            ]
          },
          "metadata": {},
          "execution_count": 42
        }
      ],
      "source": [
        "clf = XGBClassifier()\n",
        "# Fit the model\n",
        "clf.fit(X, Y)\n",
        "# Make the predictions\n",
        "y_ = clf.predict(x)\n",
        "cm = confusion_matrix(y,y_)\n",
        "km = cm[0][1]+cm[1][0]\n",
        "accuracy_score(y,y_),precision_score(y,y_,average='macro'),recall_score(y,y_,average='macro'),f1_score(y,y_,average='macro')"
      ]
    },
    {
      "cell_type": "code",
      "execution_count": 43,
      "metadata": {
        "colab": {
          "base_uri": "https://localhost:8080/"
        },
        "id": "8Uc53pFJwHcl",
        "outputId": "9f69d70a-7314-4b6d-9909-0ba151121654"
      },
      "outputs": [
        {
          "output_type": "stream",
          "name": "stdout",
          "text": [
            "              precision    recall  f1-score   support\n",
            "\n",
            "           0   0.949744  0.994629  0.971668       931\n",
            "           1   0.285714  0.039216  0.068966        51\n",
            "\n",
            "    accuracy                       0.945010       982\n",
            "   macro avg   0.617729  0.516923  0.520317       982\n",
            "weighted avg   0.915257  0.945010  0.924787       982\n",
            "\n"
          ]
        }
      ],
      "source": [
        "print(classification_report(y,y_,digits=6))"
      ]
    },
    {
      "cell_type": "code",
      "execution_count": 44,
      "metadata": {
        "colab": {
          "base_uri": "https://localhost:8080/"
        },
        "id": "KZt25hMRTux_",
        "outputId": "9a7dfd6b-a202-45a1-d1d6-a145d6937b20"
      },
      "outputs": [
        {
          "output_type": "execute_result",
          "data": {
            "text/plain": [
              "0.06896551724137931"
            ]
          },
          "metadata": {},
          "execution_count": 44
        }
      ],
      "source": [
        "clf = XGBClassifier(random_state=0)\n",
        "# Fit the model\n",
        "clf.fit(X, Y)\n",
        "# Make the predictions\n",
        "y_ = clf.predict(x)\n",
        "cm = confusion_matrix(y,y_)\n",
        "km = cm[0][1]+cm[1][0]\n",
        "# accuracy_score(y,y_),precision_score(y,y_,average='macro'),recall_score(y,y_,average='macro'),\n",
        "f1 = f1_score(y,y_)\n",
        "f1"
      ]
    },
    {
      "cell_type": "code",
      "execution_count": 45,
      "metadata": {
        "id": "-OkKjrcDlewO"
      },
      "outputs": [],
      "source": [
        "k = [FPA.OriginalFPA,PSS.OriginalPSS,DE.JADE,AEO.EnhancedAEO]"
      ]
    },
    {
      "cell_type": "code",
      "execution_count": 46,
      "metadata": {
        "id": "OgiZOxjmJlEG"
      },
      "outputs": [],
      "source": [
        "# file:///home/redbat/Downloads/sustainability-14-07734-v2.pdf"
      ]
    },
    {
      "cell_type": "code",
      "execution_count": 47,
      "metadata": {
        "id": "HnZzU9e2mE7t"
      },
      "outputs": [],
      "source": [
        "import numpy as np"
      ]
    },
    {
      "cell_type": "code",
      "execution_count": 50,
      "metadata": {
        "id": "PiEzGWhjlh7D",
        "colab": {
          "base_uri": "https://localhost:8080/",
          "height": 532
        },
        "outputId": "5a443b4a-bd8e-4050-80d8-2b5e9c34dc61"
      },
      "outputs": [
        {
          "output_type": "stream",
          "name": "stdout",
          "text": [
            "started\n"
          ]
        },
        {
          "output_type": "stream",
          "name": "stderr",
          "text": [
            "INFO:mealpy.system_based.AEO.EnhancedAEO:Solving single objective optimization problem.\n",
            "INFO:mealpy.system_based.AEO.EnhancedAEO:>Problem: P, Epoch: 1, Current best: 0.5654250478027437, Global best: 0.5654250478027437, Runtime: 131.20788 seconds\n",
            "INFO:mealpy.system_based.AEO.EnhancedAEO:>Problem: P, Epoch: 2, Current best: 0.5654250478027437, Global best: 0.5654250478027437, Runtime: 141.12861 seconds\n",
            "INFO:mealpy.system_based.AEO.EnhancedAEO:>Problem: P, Epoch: 3, Current best: 0.5654250478027437, Global best: 0.5654250478027437, Runtime: 146.72363 seconds\n",
            "INFO:mealpy.system_based.AEO.EnhancedAEO:>Problem: P, Epoch: 4, Current best: 0.5654250478027437, Global best: 0.5654250478027437, Runtime: 136.94393 seconds\n",
            "INFO:mealpy.system_based.AEO.EnhancedAEO:>Problem: P, Epoch: 5, Current best: 0.5654250478027437, Global best: 0.5654250478027437, Runtime: 124.15223 seconds\n",
            "INFO:mealpy.system_based.AEO.EnhancedAEO:>Problem: P, Epoch: 6, Current best: 0.5654250478027437, Global best: 0.5654250478027437, Runtime: 127.63000 seconds\n"
          ]
        },
        {
          "output_type": "error",
          "ename": "KeyboardInterrupt",
          "evalue": "ignored",
          "traceback": [
            "\u001b[0;31m---------------------------------------------------------------------------\u001b[0m",
            "\u001b[0;31mKeyboardInterrupt\u001b[0m                         Traceback (most recent call last)",
            "\u001b[0;32m<ipython-input-50-5a78732609d1>\u001b[0m in \u001b[0;36m<cell line: 1>\u001b[0;34m()\u001b[0m\n\u001b[1;32m      6\u001b[0m     \u001b[0mmodel\u001b[0m \u001b[0;34m=\u001b[0m \u001b[0mk_\u001b[0m\u001b[0;34m(\u001b[0m\u001b[0mepoch\u001b[0m\u001b[0;34m=\u001b[0m\u001b[0mepoch\u001b[0m\u001b[0;34m,\u001b[0m \u001b[0mpop_size\u001b[0m\u001b[0;34m=\u001b[0m\u001b[0;36m40\u001b[0m\u001b[0;34m)\u001b[0m\u001b[0;34m\u001b[0m\u001b[0;34m\u001b[0m\u001b[0m\n\u001b[1;32m      7\u001b[0m     \u001b[0ma\u001b[0m \u001b[0;34m=\u001b[0m \u001b[0mtime\u001b[0m\u001b[0;34m.\u001b[0m\u001b[0mtime\u001b[0m\u001b[0;34m(\u001b[0m\u001b[0;34m)\u001b[0m\u001b[0;34m\u001b[0m\u001b[0;34m\u001b[0m\u001b[0m\n\u001b[0;32m----> 8\u001b[0;31m     \u001b[0mbest_position\u001b[0m\u001b[0;34m,\u001b[0m \u001b[0mbest_fitness\u001b[0m \u001b[0;34m=\u001b[0m \u001b[0mmodel\u001b[0m\u001b[0;34m.\u001b[0m\u001b[0msolve\u001b[0m\u001b[0;34m(\u001b[0m\u001b[0mproblem\u001b[0m\u001b[0;34m)\u001b[0m\u001b[0;34m\u001b[0m\u001b[0;34m\u001b[0m\u001b[0m\n\u001b[0m\u001b[1;32m      9\u001b[0m     \u001b[0mb\u001b[0m \u001b[0;34m=\u001b[0m \u001b[0mtime\u001b[0m\u001b[0;34m.\u001b[0m\u001b[0mtime\u001b[0m\u001b[0;34m(\u001b[0m\u001b[0;34m)\u001b[0m\u001b[0;34m\u001b[0m\u001b[0;34m\u001b[0m\u001b[0m\n\u001b[1;32m     10\u001b[0m \u001b[0;34m\u001b[0m\u001b[0m\n",
            "\u001b[0;32m/usr/local/lib/python3.10/dist-packages/mealpy/optimizer.py\u001b[0m in \u001b[0;36msolve\u001b[0;34m(self, problem, mode, starting_positions, n_workers, termination)\u001b[0m\n\u001b[1;32m    312\u001b[0m \u001b[0;34m\u001b[0m\u001b[0m\n\u001b[1;32m    313\u001b[0m             \u001b[0;31m## Evolve method will be called in child class\u001b[0m\u001b[0;34m\u001b[0m\u001b[0;34m\u001b[0m\u001b[0m\n\u001b[0;32m--> 314\u001b[0;31m             \u001b[0mself\u001b[0m\u001b[0;34m.\u001b[0m\u001b[0mevolve\u001b[0m\u001b[0;34m(\u001b[0m\u001b[0mepoch\u001b[0m\u001b[0;34m)\u001b[0m\u001b[0;34m\u001b[0m\u001b[0;34m\u001b[0m\u001b[0m\n\u001b[0m\u001b[1;32m    315\u001b[0m \u001b[0;34m\u001b[0m\u001b[0m\n\u001b[1;32m    316\u001b[0m             \u001b[0;31m# Update global best position, the population is sorted or not depended on algorithm's strategy\u001b[0m\u001b[0;34m\u001b[0m\u001b[0;34m\u001b[0m\u001b[0m\n",
            "\u001b[0;32m/usr/local/lib/python3.10/dist-packages/mealpy/system_based/AEO.py\u001b[0m in \u001b[0;36mevolve\u001b[0;34m(self, epoch)\u001b[0m\n\u001b[1;32m    371\u001b[0m             \u001b[0mpop_child\u001b[0m\u001b[0;34m.\u001b[0m\u001b[0mappend\u001b[0m\u001b[0;34m(\u001b[0m\u001b[0;34m[\u001b[0m\u001b[0mpos_new\u001b[0m\u001b[0;34m,\u001b[0m \u001b[0;32mNone\u001b[0m\u001b[0;34m]\u001b[0m\u001b[0;34m)\u001b[0m\u001b[0;34m\u001b[0m\u001b[0;34m\u001b[0m\u001b[0m\n\u001b[1;32m    372\u001b[0m             \u001b[0;32mif\u001b[0m \u001b[0mself\u001b[0m\u001b[0;34m.\u001b[0m\u001b[0mmode\u001b[0m \u001b[0;32mnot\u001b[0m \u001b[0;32min\u001b[0m \u001b[0mself\u001b[0m\u001b[0;34m.\u001b[0m\u001b[0mAVAILABLE_MODES\u001b[0m\u001b[0;34m:\u001b[0m\u001b[0;34m\u001b[0m\u001b[0;34m\u001b[0m\u001b[0m\n\u001b[0;32m--> 373\u001b[0;31m                 \u001b[0mtarget\u001b[0m \u001b[0;34m=\u001b[0m \u001b[0mself\u001b[0m\u001b[0;34m.\u001b[0m\u001b[0mget_target_wrapper\u001b[0m\u001b[0;34m(\u001b[0m\u001b[0mpos_new\u001b[0m\u001b[0;34m)\u001b[0m\u001b[0;34m\u001b[0m\u001b[0;34m\u001b[0m\u001b[0m\n\u001b[0m\u001b[1;32m    374\u001b[0m                 \u001b[0mself\u001b[0m\u001b[0;34m.\u001b[0m\u001b[0mpop\u001b[0m\u001b[0;34m[\u001b[0m\u001b[0midx\u001b[0m\u001b[0;34m]\u001b[0m \u001b[0;34m=\u001b[0m \u001b[0mself\u001b[0m\u001b[0;34m.\u001b[0m\u001b[0mget_better_solution\u001b[0m\u001b[0;34m(\u001b[0m\u001b[0;34m[\u001b[0m\u001b[0mpos_new\u001b[0m\u001b[0;34m,\u001b[0m \u001b[0mtarget\u001b[0m\u001b[0;34m]\u001b[0m\u001b[0;34m,\u001b[0m \u001b[0mself\u001b[0m\u001b[0;34m.\u001b[0m\u001b[0mpop\u001b[0m\u001b[0;34m[\u001b[0m\u001b[0midx\u001b[0m\u001b[0;34m]\u001b[0m\u001b[0;34m)\u001b[0m\u001b[0;34m\u001b[0m\u001b[0;34m\u001b[0m\u001b[0m\n\u001b[1;32m    375\u001b[0m         \u001b[0;32mif\u001b[0m \u001b[0mself\u001b[0m\u001b[0;34m.\u001b[0m\u001b[0mmode\u001b[0m \u001b[0;32min\u001b[0m \u001b[0mself\u001b[0m\u001b[0;34m.\u001b[0m\u001b[0mAVAILABLE_MODES\u001b[0m\u001b[0;34m:\u001b[0m\u001b[0;34m\u001b[0m\u001b[0;34m\u001b[0m\u001b[0m\n",
            "\u001b[0;32m/usr/local/lib/python3.10/dist-packages/mealpy/optimizer.py\u001b[0m in \u001b[0;36mget_target_wrapper\u001b[0;34m(self, position, counted)\u001b[0m\n\u001b[1;32m    162\u001b[0m         \u001b[0;32mif\u001b[0m \u001b[0mcounted\u001b[0m\u001b[0;34m:\u001b[0m\u001b[0;34m\u001b[0m\u001b[0;34m\u001b[0m\u001b[0m\n\u001b[1;32m    163\u001b[0m             \u001b[0mself\u001b[0m\u001b[0;34m.\u001b[0m\u001b[0mnfe_counter\u001b[0m \u001b[0;34m+=\u001b[0m \u001b[0;36m1\u001b[0m\u001b[0;34m\u001b[0m\u001b[0;34m\u001b[0m\u001b[0m\n\u001b[0;32m--> 164\u001b[0;31m         \u001b[0mobjs\u001b[0m \u001b[0;34m=\u001b[0m \u001b[0mself\u001b[0m\u001b[0;34m.\u001b[0m\u001b[0mproblem\u001b[0m\u001b[0;34m.\u001b[0m\u001b[0mfit_func\u001b[0m\u001b[0;34m(\u001b[0m\u001b[0mposition\u001b[0m\u001b[0;34m)\u001b[0m\u001b[0;34m\u001b[0m\u001b[0;34m\u001b[0m\u001b[0m\n\u001b[0m\u001b[1;32m    165\u001b[0m         \u001b[0;32mif\u001b[0m \u001b[0;32mnot\u001b[0m \u001b[0mself\u001b[0m\u001b[0;34m.\u001b[0m\u001b[0mproblem\u001b[0m\u001b[0;34m.\u001b[0m\u001b[0mobj_is_list\u001b[0m\u001b[0;34m:\u001b[0m\u001b[0;34m\u001b[0m\u001b[0;34m\u001b[0m\u001b[0m\n\u001b[1;32m    166\u001b[0m             \u001b[0mobjs\u001b[0m \u001b[0;34m=\u001b[0m \u001b[0;34m[\u001b[0m\u001b[0mobjs\u001b[0m\u001b[0;34m]\u001b[0m\u001b[0;34m\u001b[0m\u001b[0;34m\u001b[0m\u001b[0m\n",
            "\u001b[0;32m<ipython-input-49-876239594e40>\u001b[0m in \u001b[0;36mfitness_function\u001b[0;34m(solution)\u001b[0m\n\u001b[1;32m      7\u001b[0m                     )\n\u001b[1;32m      8\u001b[0m     \u001b[0;31m# Fit the model\u001b[0m\u001b[0;34m\u001b[0m\u001b[0;34m\u001b[0m\u001b[0m\n\u001b[0;32m----> 9\u001b[0;31m     \u001b[0mclf\u001b[0m\u001b[0;34m.\u001b[0m\u001b[0mfit\u001b[0m\u001b[0;34m(\u001b[0m\u001b[0mX\u001b[0m\u001b[0;34m,\u001b[0m \u001b[0mY\u001b[0m\u001b[0;34m)\u001b[0m\u001b[0;34m\u001b[0m\u001b[0;34m\u001b[0m\u001b[0m\n\u001b[0m\u001b[1;32m     10\u001b[0m     \u001b[0;31m# Make the predictions\u001b[0m\u001b[0;34m\u001b[0m\u001b[0;34m\u001b[0m\u001b[0m\n\u001b[1;32m     11\u001b[0m     \u001b[0my_\u001b[0m \u001b[0;34m=\u001b[0m \u001b[0mclf\u001b[0m\u001b[0;34m.\u001b[0m\u001b[0mpredict\u001b[0m\u001b[0;34m(\u001b[0m\u001b[0mx\u001b[0m\u001b[0;34m)\u001b[0m\u001b[0;34m\u001b[0m\u001b[0;34m\u001b[0m\u001b[0m\n",
            "\u001b[0;32m/usr/local/lib/python3.10/dist-packages/xgboost/core.py\u001b[0m in \u001b[0;36minner_f\u001b[0;34m(*args, **kwargs)\u001b[0m\n\u001b[1;32m    618\u001b[0m             \u001b[0;32mfor\u001b[0m \u001b[0mk\u001b[0m\u001b[0;34m,\u001b[0m \u001b[0marg\u001b[0m \u001b[0;32min\u001b[0m \u001b[0mzip\u001b[0m\u001b[0;34m(\u001b[0m\u001b[0msig\u001b[0m\u001b[0;34m.\u001b[0m\u001b[0mparameters\u001b[0m\u001b[0;34m,\u001b[0m \u001b[0margs\u001b[0m\u001b[0;34m)\u001b[0m\u001b[0;34m:\u001b[0m\u001b[0;34m\u001b[0m\u001b[0;34m\u001b[0m\u001b[0m\n\u001b[1;32m    619\u001b[0m                 \u001b[0mkwargs\u001b[0m\u001b[0;34m[\u001b[0m\u001b[0mk\u001b[0m\u001b[0;34m]\u001b[0m \u001b[0;34m=\u001b[0m \u001b[0marg\u001b[0m\u001b[0;34m\u001b[0m\u001b[0;34m\u001b[0m\u001b[0m\n\u001b[0;32m--> 620\u001b[0;31m             \u001b[0;32mreturn\u001b[0m \u001b[0mfunc\u001b[0m\u001b[0;34m(\u001b[0m\u001b[0;34m**\u001b[0m\u001b[0mkwargs\u001b[0m\u001b[0;34m)\u001b[0m\u001b[0;34m\u001b[0m\u001b[0;34m\u001b[0m\u001b[0m\n\u001b[0m\u001b[1;32m    621\u001b[0m \u001b[0;34m\u001b[0m\u001b[0m\n\u001b[1;32m    622\u001b[0m         \u001b[0;32mreturn\u001b[0m \u001b[0minner_f\u001b[0m\u001b[0;34m\u001b[0m\u001b[0;34m\u001b[0m\u001b[0m\n",
            "\u001b[0;32m/usr/local/lib/python3.10/dist-packages/xgboost/sklearn.py\u001b[0m in \u001b[0;36mfit\u001b[0;34m(self, X, y, sample_weight, base_margin, eval_set, eval_metric, early_stopping_rounds, verbose, xgb_model, sample_weight_eval_set, base_margin_eval_set, feature_weights, callbacks)\u001b[0m\n\u001b[1;32m   1488\u001b[0m             )\n\u001b[1;32m   1489\u001b[0m \u001b[0;34m\u001b[0m\u001b[0m\n\u001b[0;32m-> 1490\u001b[0;31m             self._Booster = train(\n\u001b[0m\u001b[1;32m   1491\u001b[0m                 \u001b[0mparams\u001b[0m\u001b[0;34m,\u001b[0m\u001b[0;34m\u001b[0m\u001b[0;34m\u001b[0m\u001b[0m\n\u001b[1;32m   1492\u001b[0m                 \u001b[0mtrain_dmatrix\u001b[0m\u001b[0;34m,\u001b[0m\u001b[0;34m\u001b[0m\u001b[0;34m\u001b[0m\u001b[0m\n",
            "\u001b[0;32m/usr/local/lib/python3.10/dist-packages/xgboost/core.py\u001b[0m in \u001b[0;36minner_f\u001b[0;34m(*args, **kwargs)\u001b[0m\n\u001b[1;32m    618\u001b[0m             \u001b[0;32mfor\u001b[0m \u001b[0mk\u001b[0m\u001b[0;34m,\u001b[0m \u001b[0marg\u001b[0m \u001b[0;32min\u001b[0m \u001b[0mzip\u001b[0m\u001b[0;34m(\u001b[0m\u001b[0msig\u001b[0m\u001b[0;34m.\u001b[0m\u001b[0mparameters\u001b[0m\u001b[0;34m,\u001b[0m \u001b[0margs\u001b[0m\u001b[0;34m)\u001b[0m\u001b[0;34m:\u001b[0m\u001b[0;34m\u001b[0m\u001b[0;34m\u001b[0m\u001b[0m\n\u001b[1;32m    619\u001b[0m                 \u001b[0mkwargs\u001b[0m\u001b[0;34m[\u001b[0m\u001b[0mk\u001b[0m\u001b[0;34m]\u001b[0m \u001b[0;34m=\u001b[0m \u001b[0marg\u001b[0m\u001b[0;34m\u001b[0m\u001b[0;34m\u001b[0m\u001b[0m\n\u001b[0;32m--> 620\u001b[0;31m             \u001b[0;32mreturn\u001b[0m \u001b[0mfunc\u001b[0m\u001b[0;34m(\u001b[0m\u001b[0;34m**\u001b[0m\u001b[0mkwargs\u001b[0m\u001b[0;34m)\u001b[0m\u001b[0;34m\u001b[0m\u001b[0;34m\u001b[0m\u001b[0m\n\u001b[0m\u001b[1;32m    621\u001b[0m \u001b[0;34m\u001b[0m\u001b[0m\n\u001b[1;32m    622\u001b[0m         \u001b[0;32mreturn\u001b[0m \u001b[0minner_f\u001b[0m\u001b[0;34m\u001b[0m\u001b[0;34m\u001b[0m\u001b[0m\n",
            "\u001b[0;32m/usr/local/lib/python3.10/dist-packages/xgboost/training.py\u001b[0m in \u001b[0;36mtrain\u001b[0;34m(params, dtrain, num_boost_round, evals, obj, feval, maximize, early_stopping_rounds, evals_result, verbose_eval, xgb_model, callbacks, custom_metric)\u001b[0m\n\u001b[1;32m    183\u001b[0m         \u001b[0;32mif\u001b[0m \u001b[0mcb_container\u001b[0m\u001b[0;34m.\u001b[0m\u001b[0mbefore_iteration\u001b[0m\u001b[0;34m(\u001b[0m\u001b[0mbst\u001b[0m\u001b[0;34m,\u001b[0m \u001b[0mi\u001b[0m\u001b[0;34m,\u001b[0m \u001b[0mdtrain\u001b[0m\u001b[0;34m,\u001b[0m \u001b[0mevals\u001b[0m\u001b[0;34m)\u001b[0m\u001b[0;34m:\u001b[0m\u001b[0;34m\u001b[0m\u001b[0;34m\u001b[0m\u001b[0m\n\u001b[1;32m    184\u001b[0m             \u001b[0;32mbreak\u001b[0m\u001b[0;34m\u001b[0m\u001b[0;34m\u001b[0m\u001b[0m\n\u001b[0;32m--> 185\u001b[0;31m         \u001b[0mbst\u001b[0m\u001b[0;34m.\u001b[0m\u001b[0mupdate\u001b[0m\u001b[0;34m(\u001b[0m\u001b[0mdtrain\u001b[0m\u001b[0;34m,\u001b[0m \u001b[0mi\u001b[0m\u001b[0;34m,\u001b[0m \u001b[0mobj\u001b[0m\u001b[0;34m)\u001b[0m\u001b[0;34m\u001b[0m\u001b[0;34m\u001b[0m\u001b[0m\n\u001b[0m\u001b[1;32m    186\u001b[0m         \u001b[0;32mif\u001b[0m \u001b[0mcb_container\u001b[0m\u001b[0;34m.\u001b[0m\u001b[0mafter_iteration\u001b[0m\u001b[0;34m(\u001b[0m\u001b[0mbst\u001b[0m\u001b[0;34m,\u001b[0m \u001b[0mi\u001b[0m\u001b[0;34m,\u001b[0m \u001b[0mdtrain\u001b[0m\u001b[0;34m,\u001b[0m \u001b[0mevals\u001b[0m\u001b[0;34m)\u001b[0m\u001b[0;34m:\u001b[0m\u001b[0;34m\u001b[0m\u001b[0;34m\u001b[0m\u001b[0m\n\u001b[1;32m    187\u001b[0m             \u001b[0;32mbreak\u001b[0m\u001b[0;34m\u001b[0m\u001b[0;34m\u001b[0m\u001b[0m\n",
            "\u001b[0;32m/usr/local/lib/python3.10/dist-packages/xgboost/core.py\u001b[0m in \u001b[0;36mupdate\u001b[0;34m(self, dtrain, iteration, fobj)\u001b[0m\n\u001b[1;32m   1916\u001b[0m \u001b[0;34m\u001b[0m\u001b[0m\n\u001b[1;32m   1917\u001b[0m         \u001b[0;32mif\u001b[0m \u001b[0mfobj\u001b[0m \u001b[0;32mis\u001b[0m \u001b[0;32mNone\u001b[0m\u001b[0;34m:\u001b[0m\u001b[0;34m\u001b[0m\u001b[0;34m\u001b[0m\u001b[0m\n\u001b[0;32m-> 1918\u001b[0;31m             _check_call(_LIB.XGBoosterUpdateOneIter(self.handle,\n\u001b[0m\u001b[1;32m   1919\u001b[0m                                                     \u001b[0mctypes\u001b[0m\u001b[0;34m.\u001b[0m\u001b[0mc_int\u001b[0m\u001b[0;34m(\u001b[0m\u001b[0miteration\u001b[0m\u001b[0;34m)\u001b[0m\u001b[0;34m,\u001b[0m\u001b[0;34m\u001b[0m\u001b[0;34m\u001b[0m\u001b[0m\n\u001b[1;32m   1920\u001b[0m                                                     dtrain.handle))\n",
            "\u001b[0;31mKeyboardInterrupt\u001b[0m: "
          ]
        }
      ],
      "source": [
        "for k_ in k[3:]:\n",
        "    epoch = 10\n",
        "    print('started')\n",
        "    # p = np.zeros((epoch,5))\n",
        "    p = np.zeros((epoch,4))\n",
        "    model = k_(epoch=epoch, pop_size=40)\n",
        "    a = time.time()\n",
        "    best_position, best_fitness = model.solve(problem)\n",
        "    b = time.time()\n",
        "\n",
        "    lstm = model.history.list_current_best\n",
        "    for j,i in enumerate(lstm):\n",
        "        # p[j] = int(i[0][0]),int(i[0][1]),i[0][2],i[1][0],i[1][1][0]\n",
        "    # s = pd.DataFrame(p,columns=['Max Dept','N Stimator','Learning Rate','Best f1','Best f1-2'])\n",
        "        p[j] = int(i[0][0]),int(i[0][1]),i[1][0],i[1][1][0]\n",
        "    s = pd.DataFrame(p,columns=['Max Dept','N Stimator','Best f1','Best f1-2'])\n",
        "\n",
        "\n",
        "    s.to_csv(f'{path}{model.__class__.__name__}-xbg_.csv')"
      ]
    },
    {
      "cell_type": "code",
      "execution_count": null,
      "metadata": {
        "id": "KdVpc5Aowt3m",
        "colab": {
          "base_uri": "https://localhost:8080/"
        },
        "outputId": "d41d587d-daf4-4d3b-ea65-618fdc3ca912"
      },
      "outputs": [
        {
          "output_type": "execute_result",
          "data": {
            "text/plain": [
              "[array([  7.43530924, 440.34352879,   0.5       ]),\n",
              " [0.9882593159775395, [0.9882593159775395]]]"
            ]
          },
          "metadata": {},
          "execution_count": 13
        }
      ],
      "source": [
        "lstm[1]"
      ]
    },
    {
      "cell_type": "code",
      "execution_count": null,
      "metadata": {
        "colab": {
          "base_uri": "https://localhost:8080/",
          "height": 178
        },
        "id": "V3C0HJpko4yT",
        "outputId": "d1b825b9-10b1-4cd3-9e52-c6737af191d6"
      },
      "outputs": [
        {
          "ename": "ValueError",
          "evalue": "ignored",
          "output_type": "error",
          "traceback": [
            "\u001b[0;31m---------------------------------------------------------------------------\u001b[0m",
            "\u001b[0;31mValueError\u001b[0m                                Traceback (most recent call last)",
            "\u001b[0;32m<ipython-input-45-d968c7c0271c>\u001b[0m in \u001b[0;36m<cell line: 1>\u001b[0;34m()\u001b[0m\n\u001b[0;32m----> 1\u001b[0;31m \u001b[0mp\u001b[0m\u001b[0;34m[\u001b[0m\u001b[0mj\u001b[0m\u001b[0;34m]\u001b[0m \u001b[0;34m=\u001b[0m \u001b[0mint\u001b[0m\u001b[0;34m(\u001b[0m\u001b[0mi\u001b[0m\u001b[0;34m[\u001b[0m\u001b[0;36m0\u001b[0m\u001b[0;34m]\u001b[0m\u001b[0;34m[\u001b[0m\u001b[0;36m0\u001b[0m\u001b[0;34m]\u001b[0m\u001b[0;34m)\u001b[0m\u001b[0;34m,\u001b[0m\u001b[0mint\u001b[0m\u001b[0;34m(\u001b[0m\u001b[0mi\u001b[0m\u001b[0;34m[\u001b[0m\u001b[0;36m0\u001b[0m\u001b[0;34m]\u001b[0m\u001b[0;34m[\u001b[0m\u001b[0;36m1\u001b[0m\u001b[0;34m]\u001b[0m\u001b[0;34m)\u001b[0m\u001b[0;34m,\u001b[0m\u001b[0mi\u001b[0m\u001b[0;34m[\u001b[0m\u001b[0;36m1\u001b[0m\u001b[0;34m]\u001b[0m\u001b[0;34m[\u001b[0m\u001b[0;36m0\u001b[0m\u001b[0;34m]\u001b[0m\u001b[0;34m,\u001b[0m\u001b[0mi\u001b[0m\u001b[0;34m[\u001b[0m\u001b[0;36m1\u001b[0m\u001b[0;34m]\u001b[0m\u001b[0;34m[\u001b[0m\u001b[0;36m1\u001b[0m\u001b[0;34m]\u001b[0m\u001b[0;34m[\u001b[0m\u001b[0;36m0\u001b[0m\u001b[0;34m]\u001b[0m\u001b[0;34m\u001b[0m\u001b[0;34m\u001b[0m\u001b[0m\n\u001b[0m",
            "\u001b[0;31mValueError\u001b[0m: could not broadcast input array from shape (4,) into shape (5,)"
          ]
        }
      ],
      "source": [
        "p[j] = int(i[0][0]),int(i[0][1]),i[1][0],i[1][1][0]"
      ]
    },
    {
      "cell_type": "markdown",
      "metadata": {
        "id": "SF-YWeGBU-0G"
      },
      "source": [
        "# ll"
      ]
    },
    {
      "cell_type": "code",
      "execution_count": null,
      "metadata": {
        "id": "1c951581"
      },
      "outputs": [],
      "source": [
        "def PPSO():\n",
        "    epoch = 2\n",
        "    print('started')\n",
        "    p = np.zeros((epoch,4))\n",
        "    model = mealpy.bio_based.SMA.BaseSMA(epoch=epoch, pop_size=40)\n",
        "    best_position, best_fitness = model.solve(problem)\n",
        "    lstm = model.history.list_current_best\n",
        "    for j,i in enumerate(lstm):\n",
        "        p[j] = int(lstm[i][0][0]),int(lstm[i][0][1]),lstm[i][0][2],lstm[i][1][0],lstm[i][1][1][0]\n",
        "    print(p)\n",
        "    s = pd.DataFrame(p)\n",
        "    s.to_csv('/content/p.csv')"
      ]
    },
    {
      "cell_type": "code",
      "execution_count": null,
      "metadata": {
        "colab": {
          "base_uri": "https://localhost:8080/"
        },
        "id": "DMWPQ7-LdQYC",
        "outputId": "3b0ab7ab-cefa-40e4-f710-03a23c3458ae"
      },
      "outputs": [
        {
          "name": "stdout",
          "output_type": "stream",
          "text": [
            "started\n"
          ]
        }
      ],
      "source": [
        "threadPPSO = threading.Thread(target=PPSO)\n",
        "threadPPSO\n",
        "threadPPSO.start()"
      ]
    },
    {
      "cell_type": "code",
      "execution_count": null,
      "metadata": {
        "colab": {
          "base_uri": "https://localhost:8080/"
        },
        "id": "UENrOQzzesTX",
        "outputId": "8e41522d-2993-4d86-9ca5-0930cabbfc80"
      },
      "outputs": [
        {
          "name": "stdout",
          "output_type": "stream",
          "text": [
            "started\n"
          ]
        },
        {
          "name": "stderr",
          "output_type": "stream",
          "text": [
            "INFO:mealpy.bio_based.SMA.BaseSMA:Solving single objective optimization problem.\n",
            "INFO:mealpy.bio_based.SMA.BaseSMA:>Problem: P, Epoch: 1, Current best: 0.7987804878048782, Global best: 0.7987804878048782, Runtime: 106.46861 seconds\n",
            "INFO:mealpy.bio_based.SMA.BaseSMA:>Problem: P, Epoch: 2, Current best: 0.7987804878048782, Global best: 0.7987804878048782, Runtime: 75.16084 seconds\n",
            "INFO:mealpy.bio_based.SMA.BaseSMA:>Problem: P, Epoch: 3, Current best: 0.7987804878048782, Global best: 0.7987804878048782, Runtime: 36.08024 seconds\n",
            "INFO:mealpy.bio_based.SMA.BaseSMA:>Problem: P, Epoch: 4, Current best: 0.7987804878048782, Global best: 0.7987804878048782, Runtime: 46.91276 seconds\n",
            "INFO:mealpy.bio_based.SMA.BaseSMA:>Problem: P, Epoch: 5, Current best: 0.801829268292683, Global best: 0.801829268292683, Runtime: 44.24884 seconds\n",
            "INFO:mealpy.bio_based.SMA.BaseSMA:>Problem: P, Epoch: 6, Current best: 0.801829268292683, Global best: 0.801829268292683, Runtime: 39.77595 seconds\n",
            "INFO:mealpy.bio_based.SMA.BaseSMA:>Problem: P, Epoch: 7, Current best: 0.801829268292683, Global best: 0.801829268292683, Runtime: 41.82361 seconds\n",
            "INFO:mealpy.bio_based.SMA.BaseSMA:>Problem: P, Epoch: 8, Current best: 0.801829268292683, Global best: 0.801829268292683, Runtime: 42.03767 seconds\n",
            "INFO:mealpy.bio_based.SMA.BaseSMA:>Problem: P, Epoch: 9, Current best: 0.801829268292683, Global best: 0.801829268292683, Runtime: 46.43885 seconds\n",
            "INFO:mealpy.bio_based.SMA.BaseSMA:>Problem: P, Epoch: 10, Current best: 0.801829268292683, Global best: 0.801829268292683, Runtime: 40.65249 seconds\n",
            "INFO:mealpy.bio_based.SMA.BaseSMA:>Problem: P, Epoch: 11, Current best: 0.801829268292683, Global best: 0.801829268292683, Runtime: 45.23861 seconds\n",
            "INFO:mealpy.bio_based.SMA.BaseSMA:>Problem: P, Epoch: 12, Current best: 0.801829268292683, Global best: 0.801829268292683, Runtime: 41.11124 seconds\n",
            "INFO:mealpy.bio_based.SMA.BaseSMA:>Problem: P, Epoch: 13, Current best: 0.801829268292683, Global best: 0.801829268292683, Runtime: 38.39317 seconds\n",
            "INFO:mealpy.bio_based.SMA.BaseSMA:>Problem: P, Epoch: 14, Current best: 0.801829268292683, Global best: 0.801829268292683, Runtime: 44.71463 seconds\n",
            "INFO:mealpy.bio_based.SMA.BaseSMA:>Problem: P, Epoch: 15, Current best: 0.801829268292683, Global best: 0.801829268292683, Runtime: 38.12548 seconds\n",
            "INFO:mealpy.bio_based.SMA.BaseSMA:>Problem: P, Epoch: 16, Current best: 0.801829268292683, Global best: 0.801829268292683, Runtime: 37.96707 seconds\n",
            "INFO:mealpy.bio_based.SMA.BaseSMA:>Problem: P, Epoch: 17, Current best: 0.801829268292683, Global best: 0.801829268292683, Runtime: 39.69251 seconds\n",
            "INFO:mealpy.bio_based.SMA.BaseSMA:>Problem: P, Epoch: 18, Current best: 0.801829268292683, Global best: 0.801829268292683, Runtime: 44.74626 seconds\n",
            "INFO:mealpy.bio_based.SMA.BaseSMA:>Problem: P, Epoch: 19, Current best: 0.801829268292683, Global best: 0.801829268292683, Runtime: 55.73797 seconds\n",
            "INFO:mealpy.bio_based.SMA.BaseSMA:>Problem: P, Epoch: 20, Current best: 0.801829268292683, Global best: 0.801829268292683, Runtime: 38.14414 seconds\n"
          ]
        }
      ],
      "source": [
        "# def PPSO():\n",
        "epoch = 20\n",
        "print('started')\n",
        "p = np.zeros((epoch,5))\n",
        "model = mealpy.bio_based.SMA.BaseSMA(epoch=epoch, pop_size=40)\n",
        "best_position, best_fitness = model.solve(problem)\n",
        "lstm = model.history.list_current_best\n",
        "for j,i in enumerate(lstm):\n",
        "    p[j] = int(i[0][0]),int(i[0][1]),i[0][2],i[1][0],i[1][1][0]\n",
        "# print(p)\n",
        "s = pd.DataFrame(p,columns=['Max Dept','N Stimator','Learning Rate','Best Accuracy'])\n",
        "s.to_csv(f'/content/drive/MyDrive/45/{model.__class__.__name__}_XGB_2.csv')\n"
      ]
    },
    {
      "cell_type": "code",
      "execution_count": null,
      "metadata": {
        "colab": {
          "base_uri": "https://localhost:8080/",
          "height": 609
        },
        "id": "pAJUtC3u02Vs",
        "outputId": "f29b5e03-911c-4a3c-9024-2a8fe606c1ad"
      },
      "outputs": [
        {
          "name": "stdout",
          "output_type": "stream",
          "text": [
            "started\n"
          ]
        },
        {
          "name": "stderr",
          "output_type": "stream",
          "text": [
            "INFO:mealpy.swarm_based.PSO.PPSO:Solving single objective optimization problem.\n",
            "INFO:mealpy.swarm_based.PSO.PPSO:>Problem: P, Epoch: 1, Current best: 0.7926829268292683, Global best: 0.7926829268292683, Runtime: 94.74189 seconds\n",
            "INFO:mealpy.swarm_based.PSO.PPSO:>Problem: P, Epoch: 2, Current best: 0.7926829268292683, Global best: 0.7926829268292683, Runtime: 79.81410 seconds\n",
            "INFO:mealpy.swarm_based.PSO.PPSO:>Problem: P, Epoch: 3, Current best: 0.7926829268292683, Global best: 0.7926829268292683, Runtime: 81.19236 seconds\n",
            "INFO:mealpy.swarm_based.PSO.PPSO:>Problem: P, Epoch: 4, Current best: 0.7942073170731707, Global best: 0.7942073170731707, Runtime: 79.62215 seconds\n",
            "INFO:mealpy.swarm_based.PSO.PPSO:>Problem: P, Epoch: 5, Current best: 0.7942073170731707, Global best: 0.7942073170731707, Runtime: 211.50408 seconds\n",
            "INFO:mealpy.swarm_based.PSO.PPSO:>Problem: P, Epoch: 6, Current best: 0.7957317073170732, Global best: 0.7957317073170732, Runtime: 261.64768 seconds\n",
            "INFO:mealpy.swarm_based.PSO.PPSO:>Problem: P, Epoch: 7, Current best: 0.7957317073170732, Global best: 0.7957317073170732, Runtime: 247.84560 seconds\n",
            "INFO:mealpy.swarm_based.PSO.PPSO:>Problem: P, Epoch: 8, Current best: 0.7957317073170732, Global best: 0.7957317073170732, Runtime: 311.32032 seconds\n",
            "INFO:mealpy.swarm_based.PSO.PPSO:>Problem: P, Epoch: 9, Current best: 0.7957317073170732, Global best: 0.7957317073170732, Runtime: 273.45282 seconds\n",
            "INFO:mealpy.swarm_based.PSO.PPSO:>Problem: P, Epoch: 10, Current best: 0.7972560975609756, Global best: 0.7972560975609756, Runtime: 296.15508 seconds\n",
            "INFO:mealpy.swarm_based.PSO.PPSO:>Problem: P, Epoch: 11, Current best: 0.7972560975609756, Global best: 0.7972560975609756, Runtime: 296.65868 seconds\n"
          ]
        },
        {
          "ename": "KeyboardInterrupt",
          "evalue": "ignored",
          "output_type": "error",
          "traceback": [
            "\u001b[0;31m---------------------------------------------------------------------------\u001b[0m",
            "\u001b[0;31mKeyboardInterrupt\u001b[0m                         Traceback (most recent call last)",
            "\u001b[0;32m<ipython-input-35-102f028e9595>\u001b[0m in \u001b[0;36m<cell line: 6>\u001b[0;34m()\u001b[0m\n\u001b[1;32m      4\u001b[0m \u001b[0mp\u001b[0m \u001b[0;34m=\u001b[0m \u001b[0mnp\u001b[0m\u001b[0;34m.\u001b[0m\u001b[0mzeros\u001b[0m\u001b[0;34m(\u001b[0m\u001b[0;34m(\u001b[0m\u001b[0mepoch\u001b[0m\u001b[0;34m,\u001b[0m\u001b[0;36m5\u001b[0m\u001b[0;34m)\u001b[0m\u001b[0;34m)\u001b[0m\u001b[0;34m\u001b[0m\u001b[0;34m\u001b[0m\u001b[0m\n\u001b[1;32m      5\u001b[0m \u001b[0mmodel\u001b[0m \u001b[0;34m=\u001b[0m \u001b[0mPSO\u001b[0m\u001b[0;34m.\u001b[0m\u001b[0mPPSO\u001b[0m\u001b[0;34m(\u001b[0m\u001b[0mepoch\u001b[0m\u001b[0;34m=\u001b[0m\u001b[0mepoch\u001b[0m\u001b[0;34m,\u001b[0m \u001b[0mpop_size\u001b[0m\u001b[0;34m=\u001b[0m\u001b[0;36m40\u001b[0m\u001b[0;34m)\u001b[0m\u001b[0;34m\u001b[0m\u001b[0;34m\u001b[0m\u001b[0m\n\u001b[0;32m----> 6\u001b[0;31m \u001b[0mbest_position\u001b[0m\u001b[0;34m,\u001b[0m \u001b[0mbest_fitness\u001b[0m \u001b[0;34m=\u001b[0m \u001b[0mmodel\u001b[0m\u001b[0;34m.\u001b[0m\u001b[0msolve\u001b[0m\u001b[0;34m(\u001b[0m\u001b[0mproblem\u001b[0m\u001b[0;34m)\u001b[0m\u001b[0;34m\u001b[0m\u001b[0;34m\u001b[0m\u001b[0m\n\u001b[0m\u001b[1;32m      7\u001b[0m \u001b[0mlstm\u001b[0m \u001b[0;34m=\u001b[0m \u001b[0mmodel\u001b[0m\u001b[0;34m.\u001b[0m\u001b[0mhistory\u001b[0m\u001b[0;34m.\u001b[0m\u001b[0mlist_current_best\u001b[0m\u001b[0;34m\u001b[0m\u001b[0;34m\u001b[0m\u001b[0m\n\u001b[1;32m      8\u001b[0m \u001b[0;32mfor\u001b[0m \u001b[0mj\u001b[0m\u001b[0;34m,\u001b[0m\u001b[0mi\u001b[0m \u001b[0;32min\u001b[0m \u001b[0menumerate\u001b[0m\u001b[0;34m(\u001b[0m\u001b[0mlstm\u001b[0m\u001b[0;34m)\u001b[0m\u001b[0;34m:\u001b[0m\u001b[0;34m\u001b[0m\u001b[0;34m\u001b[0m\u001b[0m\n",
            "\u001b[0;32m/usr/local/lib/python3.10/dist-packages/mealpy/optimizer.py\u001b[0m in \u001b[0;36msolve\u001b[0;34m(self, problem, mode, starting_positions, n_workers, termination)\u001b[0m\n\u001b[1;32m    281\u001b[0m \u001b[0;34m\u001b[0m\u001b[0m\n\u001b[1;32m    282\u001b[0m             \u001b[0;31m## Evolve method will be called in child class\u001b[0m\u001b[0;34m\u001b[0m\u001b[0;34m\u001b[0m\u001b[0m\n\u001b[0;32m--> 283\u001b[0;31m             \u001b[0mself\u001b[0m\u001b[0;34m.\u001b[0m\u001b[0mevolve\u001b[0m\u001b[0;34m(\u001b[0m\u001b[0mepoch\u001b[0m\u001b[0;34m)\u001b[0m\u001b[0;34m\u001b[0m\u001b[0;34m\u001b[0m\u001b[0m\n\u001b[0m\u001b[1;32m    284\u001b[0m \u001b[0;34m\u001b[0m\u001b[0m\n\u001b[1;32m    285\u001b[0m             \u001b[0;31m# Update global best position, the population is sorted or not depended on algorithm's strategy\u001b[0m\u001b[0;34m\u001b[0m\u001b[0;34m\u001b[0m\u001b[0m\n",
            "\u001b[0;32m/usr/local/lib/python3.10/dist-packages/mealpy/swarm_based/PSO.py\u001b[0m in \u001b[0;36mevolve\u001b[0;34m(self, epoch)\u001b[0m\n\u001b[1;32m    237\u001b[0m             \u001b[0mpop_new\u001b[0m\u001b[0;34m.\u001b[0m\u001b[0mappend\u001b[0m\u001b[0;34m(\u001b[0m\u001b[0magent\u001b[0m\u001b[0;34m)\u001b[0m\u001b[0;34m\u001b[0m\u001b[0;34m\u001b[0m\u001b[0m\n\u001b[1;32m    238\u001b[0m             \u001b[0;32mif\u001b[0m \u001b[0mself\u001b[0m\u001b[0;34m.\u001b[0m\u001b[0mmode\u001b[0m \u001b[0;32mnot\u001b[0m \u001b[0;32min\u001b[0m \u001b[0mself\u001b[0m\u001b[0;34m.\u001b[0m\u001b[0mAVAILABLE_MODES\u001b[0m\u001b[0;34m:\u001b[0m\u001b[0;34m\u001b[0m\u001b[0;34m\u001b[0m\u001b[0m\n\u001b[0;32m--> 239\u001b[0;31m                 \u001b[0mpop_new\u001b[0m\u001b[0;34m[\u001b[0m\u001b[0;34m-\u001b[0m\u001b[0;36m1\u001b[0m\u001b[0;34m]\u001b[0m\u001b[0;34m[\u001b[0m\u001b[0mself\u001b[0m\u001b[0;34m.\u001b[0m\u001b[0mID_TAR\u001b[0m\u001b[0;34m]\u001b[0m \u001b[0;34m=\u001b[0m \u001b[0mself\u001b[0m\u001b[0;34m.\u001b[0m\u001b[0mget_target_wrapper\u001b[0m\u001b[0;34m(\u001b[0m\u001b[0magent\u001b[0m\u001b[0;34m[\u001b[0m\u001b[0mself\u001b[0m\u001b[0;34m.\u001b[0m\u001b[0mID_POS\u001b[0m\u001b[0;34m]\u001b[0m\u001b[0;34m)\u001b[0m\u001b[0;34m\u001b[0m\u001b[0;34m\u001b[0m\u001b[0m\n\u001b[0m\u001b[1;32m    240\u001b[0m         \u001b[0;32mif\u001b[0m \u001b[0mself\u001b[0m\u001b[0;34m.\u001b[0m\u001b[0mmode\u001b[0m \u001b[0;32min\u001b[0m \u001b[0mself\u001b[0m\u001b[0;34m.\u001b[0m\u001b[0mAVAILABLE_MODES\u001b[0m\u001b[0;34m:\u001b[0m\u001b[0;34m\u001b[0m\u001b[0;34m\u001b[0m\u001b[0m\n\u001b[1;32m    241\u001b[0m             \u001b[0mpop_new\u001b[0m \u001b[0;34m=\u001b[0m \u001b[0mself\u001b[0m\u001b[0;34m.\u001b[0m\u001b[0mupdate_target_wrapper_population\u001b[0m\u001b[0;34m(\u001b[0m\u001b[0mpop_new\u001b[0m\u001b[0;34m)\u001b[0m\u001b[0;34m\u001b[0m\u001b[0;34m\u001b[0m\u001b[0m\n",
            "\u001b[0;32m/usr/local/lib/python3.10/dist-packages/mealpy/optimizer.py\u001b[0m in \u001b[0;36mget_target_wrapper\u001b[0;34m(self, position, counted)\u001b[0m\n\u001b[1;32m    162\u001b[0m         \u001b[0;32mif\u001b[0m \u001b[0mcounted\u001b[0m\u001b[0;34m:\u001b[0m\u001b[0;34m\u001b[0m\u001b[0;34m\u001b[0m\u001b[0m\n\u001b[1;32m    163\u001b[0m             \u001b[0mself\u001b[0m\u001b[0;34m.\u001b[0m\u001b[0mnfe_counter\u001b[0m \u001b[0;34m+=\u001b[0m \u001b[0;36m1\u001b[0m\u001b[0;34m\u001b[0m\u001b[0;34m\u001b[0m\u001b[0m\n\u001b[0;32m--> 164\u001b[0;31m         \u001b[0mobjs\u001b[0m \u001b[0;34m=\u001b[0m \u001b[0mself\u001b[0m\u001b[0;34m.\u001b[0m\u001b[0mproblem\u001b[0m\u001b[0;34m.\u001b[0m\u001b[0mfit_func\u001b[0m\u001b[0;34m(\u001b[0m\u001b[0mposition\u001b[0m\u001b[0;34m)\u001b[0m\u001b[0;34m\u001b[0m\u001b[0;34m\u001b[0m\u001b[0m\n\u001b[0m\u001b[1;32m    165\u001b[0m         \u001b[0;32mif\u001b[0m \u001b[0;32mnot\u001b[0m \u001b[0mself\u001b[0m\u001b[0;34m.\u001b[0m\u001b[0mproblem\u001b[0m\u001b[0;34m.\u001b[0m\u001b[0mobj_is_list\u001b[0m\u001b[0;34m:\u001b[0m\u001b[0;34m\u001b[0m\u001b[0;34m\u001b[0m\u001b[0m\n\u001b[1;32m    166\u001b[0m             \u001b[0mobjs\u001b[0m \u001b[0;34m=\u001b[0m \u001b[0;34m[\u001b[0m\u001b[0mobjs\u001b[0m\u001b[0;34m]\u001b[0m\u001b[0;34m\u001b[0m\u001b[0;34m\u001b[0m\u001b[0m\n",
            "\u001b[0;32m<ipython-input-6-bdeb8957c305>\u001b[0m in \u001b[0;36mfitness_function\u001b[0;34m(solution)\u001b[0m\n\u001b[1;32m      7\u001b[0m                     )\n\u001b[1;32m      8\u001b[0m     \u001b[0;31m# Fit the model\u001b[0m\u001b[0;34m\u001b[0m\u001b[0;34m\u001b[0m\u001b[0m\n\u001b[0;32m----> 9\u001b[0;31m     \u001b[0mclf\u001b[0m\u001b[0;34m.\u001b[0m\u001b[0mfit\u001b[0m\u001b[0;34m(\u001b[0m\u001b[0mX\u001b[0m\u001b[0;34m,\u001b[0m \u001b[0mY\u001b[0m\u001b[0;34m)\u001b[0m\u001b[0;34m\u001b[0m\u001b[0;34m\u001b[0m\u001b[0m\n\u001b[0m\u001b[1;32m     10\u001b[0m     \u001b[0;31m# Make the predictions\u001b[0m\u001b[0;34m\u001b[0m\u001b[0;34m\u001b[0m\u001b[0m\n\u001b[1;32m     11\u001b[0m     \u001b[0my_\u001b[0m \u001b[0;34m=\u001b[0m \u001b[0mclf\u001b[0m\u001b[0;34m.\u001b[0m\u001b[0mpredict\u001b[0m\u001b[0;34m(\u001b[0m\u001b[0mx\u001b[0m\u001b[0;34m)\u001b[0m\u001b[0;34m\u001b[0m\u001b[0;34m\u001b[0m\u001b[0m\n",
            "\u001b[0;32m/usr/local/lib/python3.10/dist-packages/xgboost/core.py\u001b[0m in \u001b[0;36minner_f\u001b[0;34m(*args, **kwargs)\u001b[0m\n\u001b[1;32m    618\u001b[0m             \u001b[0;32mfor\u001b[0m \u001b[0mk\u001b[0m\u001b[0;34m,\u001b[0m \u001b[0marg\u001b[0m \u001b[0;32min\u001b[0m \u001b[0mzip\u001b[0m\u001b[0;34m(\u001b[0m\u001b[0msig\u001b[0m\u001b[0;34m.\u001b[0m\u001b[0mparameters\u001b[0m\u001b[0;34m,\u001b[0m \u001b[0margs\u001b[0m\u001b[0;34m)\u001b[0m\u001b[0;34m:\u001b[0m\u001b[0;34m\u001b[0m\u001b[0;34m\u001b[0m\u001b[0m\n\u001b[1;32m    619\u001b[0m                 \u001b[0mkwargs\u001b[0m\u001b[0;34m[\u001b[0m\u001b[0mk\u001b[0m\u001b[0;34m]\u001b[0m \u001b[0;34m=\u001b[0m \u001b[0marg\u001b[0m\u001b[0;34m\u001b[0m\u001b[0;34m\u001b[0m\u001b[0m\n\u001b[0;32m--> 620\u001b[0;31m             \u001b[0;32mreturn\u001b[0m \u001b[0mfunc\u001b[0m\u001b[0;34m(\u001b[0m\u001b[0;34m**\u001b[0m\u001b[0mkwargs\u001b[0m\u001b[0;34m)\u001b[0m\u001b[0;34m\u001b[0m\u001b[0;34m\u001b[0m\u001b[0m\n\u001b[0m\u001b[1;32m    621\u001b[0m \u001b[0;34m\u001b[0m\u001b[0m\n\u001b[1;32m    622\u001b[0m         \u001b[0;32mreturn\u001b[0m \u001b[0minner_f\u001b[0m\u001b[0;34m\u001b[0m\u001b[0;34m\u001b[0m\u001b[0m\n",
            "\u001b[0;32m/usr/local/lib/python3.10/dist-packages/xgboost/sklearn.py\u001b[0m in \u001b[0;36mfit\u001b[0;34m(self, X, y, sample_weight, base_margin, eval_set, eval_metric, early_stopping_rounds, verbose, xgb_model, sample_weight_eval_set, base_margin_eval_set, feature_weights, callbacks)\u001b[0m\n\u001b[1;32m   1488\u001b[0m             )\n\u001b[1;32m   1489\u001b[0m \u001b[0;34m\u001b[0m\u001b[0m\n\u001b[0;32m-> 1490\u001b[0;31m             self._Booster = train(\n\u001b[0m\u001b[1;32m   1491\u001b[0m                 \u001b[0mparams\u001b[0m\u001b[0;34m,\u001b[0m\u001b[0;34m\u001b[0m\u001b[0;34m\u001b[0m\u001b[0m\n\u001b[1;32m   1492\u001b[0m                 \u001b[0mtrain_dmatrix\u001b[0m\u001b[0;34m,\u001b[0m\u001b[0;34m\u001b[0m\u001b[0;34m\u001b[0m\u001b[0m\n",
            "\u001b[0;32m/usr/local/lib/python3.10/dist-packages/xgboost/core.py\u001b[0m in \u001b[0;36minner_f\u001b[0;34m(*args, **kwargs)\u001b[0m\n\u001b[1;32m    618\u001b[0m             \u001b[0;32mfor\u001b[0m \u001b[0mk\u001b[0m\u001b[0;34m,\u001b[0m \u001b[0marg\u001b[0m \u001b[0;32min\u001b[0m \u001b[0mzip\u001b[0m\u001b[0;34m(\u001b[0m\u001b[0msig\u001b[0m\u001b[0;34m.\u001b[0m\u001b[0mparameters\u001b[0m\u001b[0;34m,\u001b[0m \u001b[0margs\u001b[0m\u001b[0;34m)\u001b[0m\u001b[0;34m:\u001b[0m\u001b[0;34m\u001b[0m\u001b[0;34m\u001b[0m\u001b[0m\n\u001b[1;32m    619\u001b[0m                 \u001b[0mkwargs\u001b[0m\u001b[0;34m[\u001b[0m\u001b[0mk\u001b[0m\u001b[0;34m]\u001b[0m \u001b[0;34m=\u001b[0m \u001b[0marg\u001b[0m\u001b[0;34m\u001b[0m\u001b[0;34m\u001b[0m\u001b[0m\n\u001b[0;32m--> 620\u001b[0;31m             \u001b[0;32mreturn\u001b[0m \u001b[0mfunc\u001b[0m\u001b[0;34m(\u001b[0m\u001b[0;34m**\u001b[0m\u001b[0mkwargs\u001b[0m\u001b[0;34m)\u001b[0m\u001b[0;34m\u001b[0m\u001b[0;34m\u001b[0m\u001b[0m\n\u001b[0m\u001b[1;32m    621\u001b[0m \u001b[0;34m\u001b[0m\u001b[0m\n\u001b[1;32m    622\u001b[0m         \u001b[0;32mreturn\u001b[0m \u001b[0minner_f\u001b[0m\u001b[0;34m\u001b[0m\u001b[0;34m\u001b[0m\u001b[0m\n",
            "\u001b[0;32m/usr/local/lib/python3.10/dist-packages/xgboost/training.py\u001b[0m in \u001b[0;36mtrain\u001b[0;34m(params, dtrain, num_boost_round, evals, obj, feval, maximize, early_stopping_rounds, evals_result, verbose_eval, xgb_model, callbacks, custom_metric)\u001b[0m\n\u001b[1;32m    183\u001b[0m         \u001b[0;32mif\u001b[0m \u001b[0mcb_container\u001b[0m\u001b[0;34m.\u001b[0m\u001b[0mbefore_iteration\u001b[0m\u001b[0;34m(\u001b[0m\u001b[0mbst\u001b[0m\u001b[0;34m,\u001b[0m \u001b[0mi\u001b[0m\u001b[0;34m,\u001b[0m \u001b[0mdtrain\u001b[0m\u001b[0;34m,\u001b[0m \u001b[0mevals\u001b[0m\u001b[0;34m)\u001b[0m\u001b[0;34m:\u001b[0m\u001b[0;34m\u001b[0m\u001b[0;34m\u001b[0m\u001b[0m\n\u001b[1;32m    184\u001b[0m             \u001b[0;32mbreak\u001b[0m\u001b[0;34m\u001b[0m\u001b[0;34m\u001b[0m\u001b[0m\n\u001b[0;32m--> 185\u001b[0;31m         \u001b[0mbst\u001b[0m\u001b[0;34m.\u001b[0m\u001b[0mupdate\u001b[0m\u001b[0;34m(\u001b[0m\u001b[0mdtrain\u001b[0m\u001b[0;34m,\u001b[0m \u001b[0mi\u001b[0m\u001b[0;34m,\u001b[0m \u001b[0mobj\u001b[0m\u001b[0;34m)\u001b[0m\u001b[0;34m\u001b[0m\u001b[0;34m\u001b[0m\u001b[0m\n\u001b[0m\u001b[1;32m    186\u001b[0m         \u001b[0;32mif\u001b[0m \u001b[0mcb_container\u001b[0m\u001b[0;34m.\u001b[0m\u001b[0mafter_iteration\u001b[0m\u001b[0;34m(\u001b[0m\u001b[0mbst\u001b[0m\u001b[0;34m,\u001b[0m \u001b[0mi\u001b[0m\u001b[0;34m,\u001b[0m \u001b[0mdtrain\u001b[0m\u001b[0;34m,\u001b[0m \u001b[0mevals\u001b[0m\u001b[0;34m)\u001b[0m\u001b[0;34m:\u001b[0m\u001b[0;34m\u001b[0m\u001b[0;34m\u001b[0m\u001b[0m\n\u001b[1;32m    187\u001b[0m             \u001b[0;32mbreak\u001b[0m\u001b[0;34m\u001b[0m\u001b[0;34m\u001b[0m\u001b[0m\n",
            "\u001b[0;32m/usr/local/lib/python3.10/dist-packages/xgboost/core.py\u001b[0m in \u001b[0;36mupdate\u001b[0;34m(self, dtrain, iteration, fobj)\u001b[0m\n\u001b[1;32m   1916\u001b[0m \u001b[0;34m\u001b[0m\u001b[0m\n\u001b[1;32m   1917\u001b[0m         \u001b[0;32mif\u001b[0m \u001b[0mfobj\u001b[0m \u001b[0;32mis\u001b[0m \u001b[0;32mNone\u001b[0m\u001b[0;34m:\u001b[0m\u001b[0;34m\u001b[0m\u001b[0;34m\u001b[0m\u001b[0m\n\u001b[0;32m-> 1918\u001b[0;31m             _check_call(_LIB.XGBoosterUpdateOneIter(self.handle,\n\u001b[0m\u001b[1;32m   1919\u001b[0m                                                     \u001b[0mctypes\u001b[0m\u001b[0;34m.\u001b[0m\u001b[0mc_int\u001b[0m\u001b[0;34m(\u001b[0m\u001b[0miteration\u001b[0m\u001b[0;34m)\u001b[0m\u001b[0;34m,\u001b[0m\u001b[0;34m\u001b[0m\u001b[0;34m\u001b[0m\u001b[0m\n\u001b[1;32m   1920\u001b[0m                                                     dtrain.handle))\n",
            "\u001b[0;31mKeyboardInterrupt\u001b[0m: "
          ]
        }
      ],
      "source": [
        "# def PPSO():\n",
        "epoch = 20\n",
        "print('started')\n",
        "p = np.zeros((epoch,5))\n",
        "model = PSO.PPSO(epoch=epoch, pop_size=40)\n",
        "best_position, best_fitness = model.solve(problem)\n",
        "lstm = model.history.list_current_best\n",
        "for j,i in enumerate(lstm):\n",
        "    p[j] = int(i[0][0]),int(i[0][1]),i[0][2],i[1][0],i[1][1][0]\n",
        "# print(p)\n",
        "s = pd.DataFrame(p,columns=['Max Dept','N Stimator','Learning Rate','Best Accuracy'])\n",
        "s.to_csv(f'/content/drive/MyDrive/45/{model.__class__.__name__}_XGB_2.csv')\n"
      ]
    },
    {
      "cell_type": "code",
      "execution_count": null,
      "metadata": {
        "colab": {
          "base_uri": "https://localhost:8080/"
        },
        "id": "pe7Q7L1y6Da4",
        "outputId": "5785adbd-dd82-483d-b163-6aa59741a9b1"
      },
      "outputs": [
        {
          "name": "stdout",
          "output_type": "stream",
          "text": [
            "started\n"
          ]
        },
        {
          "name": "stderr",
          "output_type": "stream",
          "text": [
            "INFO:mealpy.system_based.AEO.EnhancedAEO:Solving single objective optimization problem.\n",
            "INFO:mealpy.system_based.AEO.EnhancedAEO:>Problem: P, Epoch: 1, Current best: 0.7896341463414633, Global best: 0.7896341463414633, Runtime: 36.10856 seconds\n",
            "INFO:mealpy.system_based.AEO.EnhancedAEO:>Problem: P, Epoch: 2, Current best: 0.7896341463414633, Global best: 0.7896341463414633, Runtime: 39.29731 seconds\n",
            "INFO:mealpy.system_based.AEO.EnhancedAEO:>Problem: P, Epoch: 3, Current best: 0.7896341463414633, Global best: 0.7896341463414633, Runtime: 43.69632 seconds\n",
            "INFO:mealpy.system_based.AEO.EnhancedAEO:>Problem: P, Epoch: 4, Current best: 0.7896341463414633, Global best: 0.7896341463414633, Runtime: 27.30486 seconds\n",
            "INFO:mealpy.system_based.AEO.EnhancedAEO:>Problem: P, Epoch: 5, Current best: 0.7942073170731707, Global best: 0.7942073170731707, Runtime: 31.20740 seconds\n",
            "INFO:mealpy.system_based.AEO.EnhancedAEO:>Problem: P, Epoch: 6, Current best: 0.7942073170731707, Global best: 0.7942073170731707, Runtime: 37.65182 seconds\n",
            "INFO:mealpy.system_based.AEO.EnhancedAEO:>Problem: P, Epoch: 7, Current best: 0.7942073170731707, Global best: 0.7942073170731707, Runtime: 33.93432 seconds\n",
            "INFO:mealpy.system_based.AEO.EnhancedAEO:>Problem: P, Epoch: 8, Current best: 0.7972560975609756, Global best: 0.7972560975609756, Runtime: 30.12963 seconds\n",
            "INFO:mealpy.system_based.AEO.EnhancedAEO:>Problem: P, Epoch: 9, Current best: 0.7972560975609756, Global best: 0.7972560975609756, Runtime: 33.94641 seconds\n",
            "INFO:mealpy.system_based.AEO.EnhancedAEO:>Problem: P, Epoch: 10, Current best: 0.7972560975609756, Global best: 0.7972560975609756, Runtime: 32.56975 seconds\n",
            "INFO:mealpy.system_based.AEO.EnhancedAEO:>Problem: P, Epoch: 11, Current best: 0.7972560975609756, Global best: 0.7972560975609756, Runtime: 25.03893 seconds\n",
            "INFO:mealpy.system_based.AEO.EnhancedAEO:>Problem: P, Epoch: 12, Current best: 0.7972560975609756, Global best: 0.7972560975609756, Runtime: 28.44585 seconds\n",
            "INFO:mealpy.system_based.AEO.EnhancedAEO:>Problem: P, Epoch: 13, Current best: 0.7972560975609756, Global best: 0.7972560975609756, Runtime: 26.99823 seconds\n",
            "INFO:mealpy.system_based.AEO.EnhancedAEO:>Problem: P, Epoch: 14, Current best: 0.7987804878048782, Global best: 0.7987804878048782, Runtime: 26.39800 seconds\n",
            "INFO:mealpy.system_based.AEO.EnhancedAEO:>Problem: P, Epoch: 15, Current best: 0.7987804878048782, Global best: 0.7987804878048782, Runtime: 28.43891 seconds\n",
            "INFO:mealpy.system_based.AEO.EnhancedAEO:>Problem: P, Epoch: 16, Current best: 0.7987804878048782, Global best: 0.7987804878048782, Runtime: 26.73396 seconds\n",
            "INFO:mealpy.system_based.AEO.EnhancedAEO:>Problem: P, Epoch: 17, Current best: 0.7987804878048782, Global best: 0.7987804878048782, Runtime: 30.60020 seconds\n",
            "INFO:mealpy.system_based.AEO.EnhancedAEO:>Problem: P, Epoch: 18, Current best: 0.8003048780487806, Global best: 0.8003048780487806, Runtime: 30.92571 seconds\n",
            "INFO:mealpy.system_based.AEO.EnhancedAEO:>Problem: P, Epoch: 19, Current best: 0.8003048780487806, Global best: 0.8003048780487806, Runtime: 28.56390 seconds\n",
            "INFO:mealpy.system_based.AEO.EnhancedAEO:>Problem: P, Epoch: 20, Current best: 0.8003048780487806, Global best: 0.8003048780487806, Runtime: 27.38726 seconds\n"
          ]
        }
      ],
      "source": [
        "# def PPSO():\n",
        "epoch = 20\n",
        "print('started')\n",
        "p = np.zeros((epoch,5))\n",
        "model = AEO.EnhancedAEO(epoch=epoch, pop_size=10)\n",
        "best_position, best_fitness = model.solve(problem)\n",
        "lstm = model.history.list_current_best\n",
        "for j,i in enumerate(lstm):\n",
        "    p[j] = int(i[0][0]),int(i[0][1]),i[0][2],i[1][0],i[1][1][0]\n",
        "# print(p)\n",
        "s = pd.DataFrame(p,columns=['Max Dept','N Stimator','Learning Rate','Best Accuracy','Best Accuracy 2'])\n",
        "s.to_csv(f'/content/drive/MyDrive/45/{model.__class__.__name__}_XGB_2.csv')\n"
      ]
    },
    {
      "cell_type": "code",
      "execution_count": null,
      "metadata": {
        "id": "_ez8pRJr6PJN"
      },
      "outputs": [],
      "source": []
    },
    {
      "cell_type": "code",
      "execution_count": null,
      "metadata": {
        "colab": {
          "base_uri": "https://localhost:8080/",
          "height": 678
        },
        "id": "GasOPRMS6QSF",
        "outputId": "1ec0afac-aa37-4e4f-cc66-6fa57264ad6a"
      },
      "outputs": [
        {
          "name": "stdout",
          "output_type": "stream",
          "text": [
            "started\n"
          ]
        },
        {
          "name": "stderr",
          "output_type": "stream",
          "text": [
            "INFO:mealpy.bio_based.EOA.OriginalEOA:Solving single objective optimization problem.\n",
            "INFO:mealpy.bio_based.EOA.OriginalEOA:>Problem: P, Epoch: 1, Current best: 0.7881097560975608, Global best: 0.7881097560975608, Runtime: 76.64264 seconds\n",
            "INFO:mealpy.bio_based.EOA.OriginalEOA:>Problem: P, Epoch: 2, Current best: 0.7881097560975608, Global best: 0.7881097560975608, Runtime: 84.90012 seconds\n",
            "INFO:mealpy.bio_based.EOA.OriginalEOA:>Problem: P, Epoch: 3, Current best: 0.7881097560975608, Global best: 0.7881097560975608, Runtime: 90.59446 seconds\n",
            "INFO:mealpy.bio_based.EOA.OriginalEOA:>Problem: P, Epoch: 4, Current best: 0.7881097560975608, Global best: 0.7881097560975608, Runtime: 84.01427 seconds\n",
            "INFO:mealpy.bio_based.EOA.OriginalEOA:>Problem: P, Epoch: 5, Current best: 0.7926829268292683, Global best: 0.7926829268292683, Runtime: 88.52110 seconds\n",
            "INFO:mealpy.bio_based.EOA.OriginalEOA:>Problem: P, Epoch: 6, Current best: 0.7926829268292683, Global best: 0.7926829268292683, Runtime: 87.68129 seconds\n",
            "INFO:mealpy.bio_based.EOA.OriginalEOA:>Problem: P, Epoch: 7, Current best: 0.7957317073170732, Global best: 0.7957317073170732, Runtime: 93.49051 seconds\n",
            "INFO:mealpy.bio_based.EOA.OriginalEOA:>Problem: P, Epoch: 8, Current best: 0.7957317073170732, Global best: 0.7957317073170732, Runtime: 62.19911 seconds\n",
            "INFO:mealpy.bio_based.EOA.OriginalEOA:>Problem: P, Epoch: 9, Current best: 0.7957317073170732, Global best: 0.7957317073170732, Runtime: 68.82911 seconds\n",
            "INFO:mealpy.bio_based.EOA.OriginalEOA:>Problem: P, Epoch: 10, Current best: 0.7957317073170732, Global best: 0.7957317073170732, Runtime: 56.74100 seconds\n",
            "INFO:mealpy.bio_based.EOA.OriginalEOA:>Problem: P, Epoch: 11, Current best: 0.7957317073170732, Global best: 0.7957317073170732, Runtime: 69.76762 seconds\n",
            "INFO:mealpy.bio_based.EOA.OriginalEOA:>Problem: P, Epoch: 12, Current best: 0.7957317073170732, Global best: 0.7957317073170732, Runtime: 60.60480 seconds\n",
            "INFO:mealpy.bio_based.EOA.OriginalEOA:>Problem: P, Epoch: 13, Current best: 0.7957317073170732, Global best: 0.7957317073170732, Runtime: 59.39952 seconds\n",
            "INFO:mealpy.bio_based.EOA.OriginalEOA:>Problem: P, Epoch: 14, Current best: 0.7957317073170732, Global best: 0.7957317073170732, Runtime: 60.10724 seconds\n",
            "INFO:mealpy.bio_based.EOA.OriginalEOA:>Problem: P, Epoch: 15, Current best: 0.7957317073170732, Global best: 0.7957317073170732, Runtime: 60.55475 seconds\n"
          ]
        },
        {
          "ename": "KeyboardInterrupt",
          "evalue": "ignored",
          "output_type": "error",
          "traceback": [
            "\u001b[0;31m---------------------------------------------------------------------------\u001b[0m",
            "\u001b[0;31mKeyboardInterrupt\u001b[0m                         Traceback (most recent call last)",
            "\u001b[0;32m<ipython-input-44-f8220ba4fb2e>\u001b[0m in \u001b[0;36m<cell line: 6>\u001b[0;34m()\u001b[0m\n\u001b[1;32m      4\u001b[0m \u001b[0mp\u001b[0m \u001b[0;34m=\u001b[0m \u001b[0mnp\u001b[0m\u001b[0;34m.\u001b[0m\u001b[0mzeros\u001b[0m\u001b[0;34m(\u001b[0m\u001b[0;34m(\u001b[0m\u001b[0mepoch\u001b[0m\u001b[0;34m,\u001b[0m\u001b[0;36m5\u001b[0m\u001b[0;34m)\u001b[0m\u001b[0;34m)\u001b[0m\u001b[0;34m\u001b[0m\u001b[0;34m\u001b[0m\u001b[0m\n\u001b[1;32m      5\u001b[0m \u001b[0mmodel\u001b[0m \u001b[0;34m=\u001b[0m \u001b[0mEOA\u001b[0m\u001b[0;34m.\u001b[0m\u001b[0mOriginalEOA\u001b[0m\u001b[0;34m(\u001b[0m\u001b[0mepoch\u001b[0m\u001b[0;34m=\u001b[0m\u001b[0mepoch\u001b[0m\u001b[0;34m,\u001b[0m \u001b[0mpop_size\u001b[0m\u001b[0;34m=\u001b[0m\u001b[0;36m10\u001b[0m\u001b[0;34m)\u001b[0m\u001b[0;34m\u001b[0m\u001b[0;34m\u001b[0m\u001b[0m\n\u001b[0;32m----> 6\u001b[0;31m \u001b[0mbest_position\u001b[0m\u001b[0;34m,\u001b[0m \u001b[0mbest_fitness\u001b[0m \u001b[0;34m=\u001b[0m \u001b[0mmodel\u001b[0m\u001b[0;34m.\u001b[0m\u001b[0msolve\u001b[0m\u001b[0;34m(\u001b[0m\u001b[0mproblem\u001b[0m\u001b[0;34m)\u001b[0m\u001b[0;34m\u001b[0m\u001b[0;34m\u001b[0m\u001b[0m\n\u001b[0m\u001b[1;32m      7\u001b[0m \u001b[0mlstm\u001b[0m \u001b[0;34m=\u001b[0m \u001b[0mmodel\u001b[0m\u001b[0;34m.\u001b[0m\u001b[0mhistory\u001b[0m\u001b[0;34m.\u001b[0m\u001b[0mlist_current_best\u001b[0m\u001b[0;34m\u001b[0m\u001b[0;34m\u001b[0m\u001b[0m\n\u001b[1;32m      8\u001b[0m \u001b[0;32mfor\u001b[0m \u001b[0mj\u001b[0m\u001b[0;34m,\u001b[0m\u001b[0mi\u001b[0m \u001b[0;32min\u001b[0m \u001b[0menumerate\u001b[0m\u001b[0;34m(\u001b[0m\u001b[0mlstm\u001b[0m\u001b[0;34m)\u001b[0m\u001b[0;34m:\u001b[0m\u001b[0;34m\u001b[0m\u001b[0;34m\u001b[0m\u001b[0m\n",
            "\u001b[0;32m/usr/local/lib/python3.10/dist-packages/mealpy/optimizer.py\u001b[0m in \u001b[0;36msolve\u001b[0;34m(self, problem, mode, starting_positions, n_workers, termination)\u001b[0m\n\u001b[1;32m    281\u001b[0m \u001b[0;34m\u001b[0m\u001b[0m\n\u001b[1;32m    282\u001b[0m             \u001b[0;31m## Evolve method will be called in child class\u001b[0m\u001b[0;34m\u001b[0m\u001b[0;34m\u001b[0m\u001b[0m\n\u001b[0;32m--> 283\u001b[0;31m             \u001b[0mself\u001b[0m\u001b[0;34m.\u001b[0m\u001b[0mevolve\u001b[0m\u001b[0;34m(\u001b[0m\u001b[0mepoch\u001b[0m\u001b[0;34m)\u001b[0m\u001b[0;34m\u001b[0m\u001b[0;34m\u001b[0m\u001b[0m\n\u001b[0m\u001b[1;32m    284\u001b[0m \u001b[0;34m\u001b[0m\u001b[0m\n\u001b[1;32m    285\u001b[0m             \u001b[0;31m# Update global best position, the population is sorted or not depended on algorithm's strategy\u001b[0m\u001b[0;34m\u001b[0m\u001b[0;34m\u001b[0m\u001b[0m\n",
            "\u001b[0;32m/usr/local/lib/python3.10/dist-packages/mealpy/bio_based/EOA.py\u001b[0m in \u001b[0;36mevolve\u001b[0;34m(self, epoch)\u001b[0m\n\u001b[1;32m    141\u001b[0m             \u001b[0mpop_new\u001b[0m\u001b[0;34m.\u001b[0m\u001b[0mappend\u001b[0m\u001b[0;34m(\u001b[0m\u001b[0;34m[\u001b[0m\u001b[0mpos_new\u001b[0m\u001b[0;34m,\u001b[0m \u001b[0;32mNone\u001b[0m\u001b[0;34m]\u001b[0m\u001b[0;34m)\u001b[0m\u001b[0;34m\u001b[0m\u001b[0;34m\u001b[0m\u001b[0m\n\u001b[1;32m    142\u001b[0m             \u001b[0;32mif\u001b[0m \u001b[0mself\u001b[0m\u001b[0;34m.\u001b[0m\u001b[0mmode\u001b[0m \u001b[0;32mnot\u001b[0m \u001b[0;32min\u001b[0m \u001b[0mself\u001b[0m\u001b[0;34m.\u001b[0m\u001b[0mAVAILABLE_MODES\u001b[0m\u001b[0;34m:\u001b[0m\u001b[0;34m\u001b[0m\u001b[0;34m\u001b[0m\u001b[0m\n\u001b[0;32m--> 143\u001b[0;31m                 \u001b[0mtarget\u001b[0m \u001b[0;34m=\u001b[0m \u001b[0mself\u001b[0m\u001b[0;34m.\u001b[0m\u001b[0mget_target_wrapper\u001b[0m\u001b[0;34m(\u001b[0m\u001b[0mpos_new\u001b[0m\u001b[0;34m)\u001b[0m\u001b[0;34m\u001b[0m\u001b[0;34m\u001b[0m\u001b[0m\n\u001b[0m\u001b[1;32m    144\u001b[0m                 \u001b[0mself\u001b[0m\u001b[0;34m.\u001b[0m\u001b[0mpop\u001b[0m\u001b[0;34m[\u001b[0m\u001b[0midx\u001b[0m\u001b[0;34m]\u001b[0m \u001b[0;34m=\u001b[0m \u001b[0mself\u001b[0m\u001b[0;34m.\u001b[0m\u001b[0mget_better_solution\u001b[0m\u001b[0;34m(\u001b[0m\u001b[0;34m[\u001b[0m\u001b[0mpos_new\u001b[0m\u001b[0;34m,\u001b[0m \u001b[0mtarget\u001b[0m\u001b[0;34m]\u001b[0m\u001b[0;34m,\u001b[0m \u001b[0mself\u001b[0m\u001b[0;34m.\u001b[0m\u001b[0mpop\u001b[0m\u001b[0;34m[\u001b[0m\u001b[0midx\u001b[0m\u001b[0;34m]\u001b[0m\u001b[0;34m)\u001b[0m\u001b[0;34m\u001b[0m\u001b[0;34m\u001b[0m\u001b[0m\n\u001b[1;32m    145\u001b[0m         \u001b[0;32mif\u001b[0m \u001b[0mself\u001b[0m\u001b[0;34m.\u001b[0m\u001b[0mmode\u001b[0m \u001b[0;32min\u001b[0m \u001b[0mself\u001b[0m\u001b[0;34m.\u001b[0m\u001b[0mAVAILABLE_MODES\u001b[0m\u001b[0;34m:\u001b[0m\u001b[0;34m\u001b[0m\u001b[0;34m\u001b[0m\u001b[0m\n",
            "\u001b[0;32m/usr/local/lib/python3.10/dist-packages/mealpy/optimizer.py\u001b[0m in \u001b[0;36mget_target_wrapper\u001b[0;34m(self, position, counted)\u001b[0m\n\u001b[1;32m    162\u001b[0m         \u001b[0;32mif\u001b[0m \u001b[0mcounted\u001b[0m\u001b[0;34m:\u001b[0m\u001b[0;34m\u001b[0m\u001b[0;34m\u001b[0m\u001b[0m\n\u001b[1;32m    163\u001b[0m             \u001b[0mself\u001b[0m\u001b[0;34m.\u001b[0m\u001b[0mnfe_counter\u001b[0m \u001b[0;34m+=\u001b[0m \u001b[0;36m1\u001b[0m\u001b[0;34m\u001b[0m\u001b[0;34m\u001b[0m\u001b[0m\n\u001b[0;32m--> 164\u001b[0;31m         \u001b[0mobjs\u001b[0m \u001b[0;34m=\u001b[0m \u001b[0mself\u001b[0m\u001b[0;34m.\u001b[0m\u001b[0mproblem\u001b[0m\u001b[0;34m.\u001b[0m\u001b[0mfit_func\u001b[0m\u001b[0;34m(\u001b[0m\u001b[0mposition\u001b[0m\u001b[0;34m)\u001b[0m\u001b[0;34m\u001b[0m\u001b[0;34m\u001b[0m\u001b[0m\n\u001b[0m\u001b[1;32m    165\u001b[0m         \u001b[0;32mif\u001b[0m \u001b[0;32mnot\u001b[0m \u001b[0mself\u001b[0m\u001b[0;34m.\u001b[0m\u001b[0mproblem\u001b[0m\u001b[0;34m.\u001b[0m\u001b[0mobj_is_list\u001b[0m\u001b[0;34m:\u001b[0m\u001b[0;34m\u001b[0m\u001b[0;34m\u001b[0m\u001b[0m\n\u001b[1;32m    166\u001b[0m             \u001b[0mobjs\u001b[0m \u001b[0;34m=\u001b[0m \u001b[0;34m[\u001b[0m\u001b[0mobjs\u001b[0m\u001b[0;34m]\u001b[0m\u001b[0;34m\u001b[0m\u001b[0;34m\u001b[0m\u001b[0m\n",
            "\u001b[0;32m<ipython-input-6-bdeb8957c305>\u001b[0m in \u001b[0;36mfitness_function\u001b[0;34m(solution)\u001b[0m\n\u001b[1;32m      7\u001b[0m                     )\n\u001b[1;32m      8\u001b[0m     \u001b[0;31m# Fit the model\u001b[0m\u001b[0;34m\u001b[0m\u001b[0;34m\u001b[0m\u001b[0m\n\u001b[0;32m----> 9\u001b[0;31m     \u001b[0mclf\u001b[0m\u001b[0;34m.\u001b[0m\u001b[0mfit\u001b[0m\u001b[0;34m(\u001b[0m\u001b[0mX\u001b[0m\u001b[0;34m,\u001b[0m \u001b[0mY\u001b[0m\u001b[0;34m)\u001b[0m\u001b[0;34m\u001b[0m\u001b[0;34m\u001b[0m\u001b[0m\n\u001b[0m\u001b[1;32m     10\u001b[0m     \u001b[0;31m# Make the predictions\u001b[0m\u001b[0;34m\u001b[0m\u001b[0;34m\u001b[0m\u001b[0m\n\u001b[1;32m     11\u001b[0m     \u001b[0my_\u001b[0m \u001b[0;34m=\u001b[0m \u001b[0mclf\u001b[0m\u001b[0;34m.\u001b[0m\u001b[0mpredict\u001b[0m\u001b[0;34m(\u001b[0m\u001b[0mx\u001b[0m\u001b[0;34m)\u001b[0m\u001b[0;34m\u001b[0m\u001b[0;34m\u001b[0m\u001b[0m\n",
            "\u001b[0;32m/usr/local/lib/python3.10/dist-packages/xgboost/core.py\u001b[0m in \u001b[0;36minner_f\u001b[0;34m(*args, **kwargs)\u001b[0m\n\u001b[1;32m    618\u001b[0m             \u001b[0;32mfor\u001b[0m \u001b[0mk\u001b[0m\u001b[0;34m,\u001b[0m \u001b[0marg\u001b[0m \u001b[0;32min\u001b[0m \u001b[0mzip\u001b[0m\u001b[0;34m(\u001b[0m\u001b[0msig\u001b[0m\u001b[0;34m.\u001b[0m\u001b[0mparameters\u001b[0m\u001b[0;34m,\u001b[0m \u001b[0margs\u001b[0m\u001b[0;34m)\u001b[0m\u001b[0;34m:\u001b[0m\u001b[0;34m\u001b[0m\u001b[0;34m\u001b[0m\u001b[0m\n\u001b[1;32m    619\u001b[0m                 \u001b[0mkwargs\u001b[0m\u001b[0;34m[\u001b[0m\u001b[0mk\u001b[0m\u001b[0;34m]\u001b[0m \u001b[0;34m=\u001b[0m \u001b[0marg\u001b[0m\u001b[0;34m\u001b[0m\u001b[0;34m\u001b[0m\u001b[0m\n\u001b[0;32m--> 620\u001b[0;31m             \u001b[0;32mreturn\u001b[0m \u001b[0mfunc\u001b[0m\u001b[0;34m(\u001b[0m\u001b[0;34m**\u001b[0m\u001b[0mkwargs\u001b[0m\u001b[0;34m)\u001b[0m\u001b[0;34m\u001b[0m\u001b[0;34m\u001b[0m\u001b[0m\n\u001b[0m\u001b[1;32m    621\u001b[0m \u001b[0;34m\u001b[0m\u001b[0m\n\u001b[1;32m    622\u001b[0m         \u001b[0;32mreturn\u001b[0m \u001b[0minner_f\u001b[0m\u001b[0;34m\u001b[0m\u001b[0;34m\u001b[0m\u001b[0m\n",
            "\u001b[0;32m/usr/local/lib/python3.10/dist-packages/xgboost/sklearn.py\u001b[0m in \u001b[0;36mfit\u001b[0;34m(self, X, y, sample_weight, base_margin, eval_set, eval_metric, early_stopping_rounds, verbose, xgb_model, sample_weight_eval_set, base_margin_eval_set, feature_weights, callbacks)\u001b[0m\n\u001b[1;32m   1488\u001b[0m             )\n\u001b[1;32m   1489\u001b[0m \u001b[0;34m\u001b[0m\u001b[0m\n\u001b[0;32m-> 1490\u001b[0;31m             self._Booster = train(\n\u001b[0m\u001b[1;32m   1491\u001b[0m                 \u001b[0mparams\u001b[0m\u001b[0;34m,\u001b[0m\u001b[0;34m\u001b[0m\u001b[0;34m\u001b[0m\u001b[0m\n\u001b[1;32m   1492\u001b[0m                 \u001b[0mtrain_dmatrix\u001b[0m\u001b[0;34m,\u001b[0m\u001b[0;34m\u001b[0m\u001b[0;34m\u001b[0m\u001b[0m\n",
            "\u001b[0;32m/usr/local/lib/python3.10/dist-packages/xgboost/core.py\u001b[0m in \u001b[0;36minner_f\u001b[0;34m(*args, **kwargs)\u001b[0m\n\u001b[1;32m    618\u001b[0m             \u001b[0;32mfor\u001b[0m \u001b[0mk\u001b[0m\u001b[0;34m,\u001b[0m \u001b[0marg\u001b[0m \u001b[0;32min\u001b[0m \u001b[0mzip\u001b[0m\u001b[0;34m(\u001b[0m\u001b[0msig\u001b[0m\u001b[0;34m.\u001b[0m\u001b[0mparameters\u001b[0m\u001b[0;34m,\u001b[0m \u001b[0margs\u001b[0m\u001b[0;34m)\u001b[0m\u001b[0;34m:\u001b[0m\u001b[0;34m\u001b[0m\u001b[0;34m\u001b[0m\u001b[0m\n\u001b[1;32m    619\u001b[0m                 \u001b[0mkwargs\u001b[0m\u001b[0;34m[\u001b[0m\u001b[0mk\u001b[0m\u001b[0;34m]\u001b[0m \u001b[0;34m=\u001b[0m \u001b[0marg\u001b[0m\u001b[0;34m\u001b[0m\u001b[0;34m\u001b[0m\u001b[0m\n\u001b[0;32m--> 620\u001b[0;31m             \u001b[0;32mreturn\u001b[0m \u001b[0mfunc\u001b[0m\u001b[0;34m(\u001b[0m\u001b[0;34m**\u001b[0m\u001b[0mkwargs\u001b[0m\u001b[0;34m)\u001b[0m\u001b[0;34m\u001b[0m\u001b[0;34m\u001b[0m\u001b[0m\n\u001b[0m\u001b[1;32m    621\u001b[0m \u001b[0;34m\u001b[0m\u001b[0m\n\u001b[1;32m    622\u001b[0m         \u001b[0;32mreturn\u001b[0m \u001b[0minner_f\u001b[0m\u001b[0;34m\u001b[0m\u001b[0;34m\u001b[0m\u001b[0m\n",
            "\u001b[0;32m/usr/local/lib/python3.10/dist-packages/xgboost/training.py\u001b[0m in \u001b[0;36mtrain\u001b[0;34m(params, dtrain, num_boost_round, evals, obj, feval, maximize, early_stopping_rounds, evals_result, verbose_eval, xgb_model, callbacks, custom_metric)\u001b[0m\n\u001b[1;32m    183\u001b[0m         \u001b[0;32mif\u001b[0m \u001b[0mcb_container\u001b[0m\u001b[0;34m.\u001b[0m\u001b[0mbefore_iteration\u001b[0m\u001b[0;34m(\u001b[0m\u001b[0mbst\u001b[0m\u001b[0;34m,\u001b[0m \u001b[0mi\u001b[0m\u001b[0;34m,\u001b[0m \u001b[0mdtrain\u001b[0m\u001b[0;34m,\u001b[0m \u001b[0mevals\u001b[0m\u001b[0;34m)\u001b[0m\u001b[0;34m:\u001b[0m\u001b[0;34m\u001b[0m\u001b[0;34m\u001b[0m\u001b[0m\n\u001b[1;32m    184\u001b[0m             \u001b[0;32mbreak\u001b[0m\u001b[0;34m\u001b[0m\u001b[0;34m\u001b[0m\u001b[0m\n\u001b[0;32m--> 185\u001b[0;31m         \u001b[0mbst\u001b[0m\u001b[0;34m.\u001b[0m\u001b[0mupdate\u001b[0m\u001b[0;34m(\u001b[0m\u001b[0mdtrain\u001b[0m\u001b[0;34m,\u001b[0m \u001b[0mi\u001b[0m\u001b[0;34m,\u001b[0m \u001b[0mobj\u001b[0m\u001b[0;34m)\u001b[0m\u001b[0;34m\u001b[0m\u001b[0;34m\u001b[0m\u001b[0m\n\u001b[0m\u001b[1;32m    186\u001b[0m         \u001b[0;32mif\u001b[0m \u001b[0mcb_container\u001b[0m\u001b[0;34m.\u001b[0m\u001b[0mafter_iteration\u001b[0m\u001b[0;34m(\u001b[0m\u001b[0mbst\u001b[0m\u001b[0;34m,\u001b[0m \u001b[0mi\u001b[0m\u001b[0;34m,\u001b[0m \u001b[0mdtrain\u001b[0m\u001b[0;34m,\u001b[0m \u001b[0mevals\u001b[0m\u001b[0;34m)\u001b[0m\u001b[0;34m:\u001b[0m\u001b[0;34m\u001b[0m\u001b[0;34m\u001b[0m\u001b[0m\n\u001b[1;32m    187\u001b[0m             \u001b[0;32mbreak\u001b[0m\u001b[0;34m\u001b[0m\u001b[0;34m\u001b[0m\u001b[0m\n",
            "\u001b[0;32m/usr/local/lib/python3.10/dist-packages/xgboost/core.py\u001b[0m in \u001b[0;36mupdate\u001b[0;34m(self, dtrain, iteration, fobj)\u001b[0m\n\u001b[1;32m   1916\u001b[0m \u001b[0;34m\u001b[0m\u001b[0m\n\u001b[1;32m   1917\u001b[0m         \u001b[0;32mif\u001b[0m \u001b[0mfobj\u001b[0m \u001b[0;32mis\u001b[0m \u001b[0;32mNone\u001b[0m\u001b[0;34m:\u001b[0m\u001b[0;34m\u001b[0m\u001b[0;34m\u001b[0m\u001b[0m\n\u001b[0;32m-> 1918\u001b[0;31m             _check_call(_LIB.XGBoosterUpdateOneIter(self.handle,\n\u001b[0m\u001b[1;32m   1919\u001b[0m                                                     \u001b[0mctypes\u001b[0m\u001b[0;34m.\u001b[0m\u001b[0mc_int\u001b[0m\u001b[0;34m(\u001b[0m\u001b[0miteration\u001b[0m\u001b[0;34m)\u001b[0m\u001b[0;34m,\u001b[0m\u001b[0;34m\u001b[0m\u001b[0;34m\u001b[0m\u001b[0m\n\u001b[1;32m   1920\u001b[0m                                                     dtrain.handle))\n",
            "\u001b[0;31mKeyboardInterrupt\u001b[0m: "
          ]
        }
      ],
      "source": [
        "# def PPSO():\n",
        "epoch = 40\n",
        "print('started')\n",
        "p = np.zeros((epoch,5))\n",
        "model = EOA.OriginalEOA(epoch=epoch, pop_size=10)\n",
        "best_position, best_fitness = model.solve(problem)\n",
        "lstm = model.history.list_current_best\n",
        "for j,i in enumerate(lstm):\n",
        "    p[j] = int(i[0][0]),int(i[0][1]),i[0][2],i[1][0],i[1][1][0]\n",
        "# print(p)\n",
        "s = pd.DataFrame(p,columns=['Max Dept','N Stimator','Learning Rate','Best Accuracy','Best Accuracy 2'])\n",
        "s.to_csv(f'/content/drive/MyDrive/45/{model.__class__.__name__}_XGB_2.csv')"
      ]
    },
    {
      "cell_type": "code",
      "execution_count": null,
      "metadata": {
        "colab": {
          "base_uri": "https://localhost:8080/",
          "height": 557
        },
        "id": "YY7-AY85L4Pn",
        "outputId": "c40c40c1-d542-4888-ac01-f58fe0e6f68d"
      },
      "outputs": [
        {
          "name": "stdout",
          "output_type": "stream",
          "text": [
            "started\n"
          ]
        },
        {
          "name": "stderr",
          "output_type": "stream",
          "text": [
            "INFO:mealpy.swarm_based.MRFO.OriginalMRFO:Solving single objective optimization problem.\n",
            "INFO:mealpy.swarm_based.MRFO.OriginalMRFO:>Problem: P, Epoch: 1, Current best: 0.7865853658536586, Global best: 0.7865853658536586, Runtime: 62.08057 seconds\n",
            "INFO:mealpy.swarm_based.MRFO.OriginalMRFO:>Problem: P, Epoch: 2, Current best: 0.7896341463414633, Global best: 0.7896341463414633, Runtime: 41.61953 seconds\n",
            "INFO:mealpy.swarm_based.MRFO.OriginalMRFO:>Problem: P, Epoch: 3, Current best: 0.7896341463414633, Global best: 0.7896341463414633, Runtime: 42.43412 seconds\n",
            "INFO:mealpy.swarm_based.MRFO.OriginalMRFO:>Problem: P, Epoch: 4, Current best: 0.7896341463414633, Global best: 0.7896341463414633, Runtime: 49.53851 seconds\n",
            "INFO:mealpy.swarm_based.MRFO.OriginalMRFO:>Problem: P, Epoch: 5, Current best: 0.7911585365853658, Global best: 0.7911585365853658, Runtime: 45.91895 seconds\n",
            "INFO:mealpy.swarm_based.MRFO.OriginalMRFO:>Problem: P, Epoch: 6, Current best: 0.7911585365853658, Global best: 0.7911585365853658, Runtime: 41.90590 seconds\n",
            "INFO:mealpy.swarm_based.MRFO.OriginalMRFO:>Problem: P, Epoch: 7, Current best: 0.7911585365853658, Global best: 0.7911585365853658, Runtime: 40.00313 seconds\n",
            "INFO:mealpy.swarm_based.MRFO.OriginalMRFO:>Problem: P, Epoch: 8, Current best: 0.7926829268292683, Global best: 0.7926829268292683, Runtime: 52.91712 seconds\n"
          ]
        },
        {
          "ename": "KeyboardInterrupt",
          "evalue": "ignored",
          "output_type": "error",
          "traceback": [
            "\u001b[0;31m---------------------------------------------------------------------------\u001b[0m",
            "\u001b[0;31mKeyboardInterrupt\u001b[0m                         Traceback (most recent call last)",
            "\u001b[0;32m<ipython-input-49-35d0235996bc>\u001b[0m in \u001b[0;36m<cell line: 6>\u001b[0;34m()\u001b[0m\n\u001b[1;32m      4\u001b[0m \u001b[0mp\u001b[0m \u001b[0;34m=\u001b[0m \u001b[0mnp\u001b[0m\u001b[0;34m.\u001b[0m\u001b[0mzeros\u001b[0m\u001b[0;34m(\u001b[0m\u001b[0;34m(\u001b[0m\u001b[0mepoch\u001b[0m\u001b[0;34m,\u001b[0m\u001b[0;36m5\u001b[0m\u001b[0;34m)\u001b[0m\u001b[0;34m)\u001b[0m\u001b[0;34m\u001b[0m\u001b[0;34m\u001b[0m\u001b[0m\n\u001b[1;32m      5\u001b[0m \u001b[0mmodel\u001b[0m \u001b[0;34m=\u001b[0m \u001b[0mMRFO\u001b[0m\u001b[0;34m.\u001b[0m\u001b[0mOriginalMRFO\u001b[0m\u001b[0;34m(\u001b[0m\u001b[0mepoch\u001b[0m\u001b[0;34m=\u001b[0m\u001b[0mepoch\u001b[0m\u001b[0;34m,\u001b[0m \u001b[0mpop_size\u001b[0m\u001b[0;34m=\u001b[0m\u001b[0;36m10\u001b[0m\u001b[0;34m)\u001b[0m\u001b[0;34m\u001b[0m\u001b[0;34m\u001b[0m\u001b[0m\n\u001b[0;32m----> 6\u001b[0;31m \u001b[0mbest_position\u001b[0m\u001b[0;34m,\u001b[0m \u001b[0mbest_fitness\u001b[0m \u001b[0;34m=\u001b[0m \u001b[0mmodel\u001b[0m\u001b[0;34m.\u001b[0m\u001b[0msolve\u001b[0m\u001b[0;34m(\u001b[0m\u001b[0mproblem\u001b[0m\u001b[0;34m)\u001b[0m\u001b[0;34m\u001b[0m\u001b[0;34m\u001b[0m\u001b[0m\n\u001b[0m\u001b[1;32m      7\u001b[0m \u001b[0mlstm\u001b[0m \u001b[0;34m=\u001b[0m \u001b[0mmodel\u001b[0m\u001b[0;34m.\u001b[0m\u001b[0mhistory\u001b[0m\u001b[0;34m.\u001b[0m\u001b[0mlist_current_best\u001b[0m\u001b[0;34m\u001b[0m\u001b[0;34m\u001b[0m\u001b[0m\n\u001b[1;32m      8\u001b[0m \u001b[0;32mfor\u001b[0m \u001b[0mj\u001b[0m\u001b[0;34m,\u001b[0m\u001b[0mi\u001b[0m \u001b[0;32min\u001b[0m \u001b[0menumerate\u001b[0m\u001b[0;34m(\u001b[0m\u001b[0mlstm\u001b[0m\u001b[0;34m)\u001b[0m\u001b[0;34m:\u001b[0m\u001b[0;34m\u001b[0m\u001b[0;34m\u001b[0m\u001b[0m\n",
            "\u001b[0;32m/usr/local/lib/python3.10/dist-packages/mealpy/optimizer.py\u001b[0m in \u001b[0;36msolve\u001b[0;34m(self, problem, mode, starting_positions, n_workers, termination)\u001b[0m\n\u001b[1;32m    281\u001b[0m \u001b[0;34m\u001b[0m\u001b[0m\n\u001b[1;32m    282\u001b[0m             \u001b[0;31m## Evolve method will be called in child class\u001b[0m\u001b[0;34m\u001b[0m\u001b[0;34m\u001b[0m\u001b[0m\n\u001b[0;32m--> 283\u001b[0;31m             \u001b[0mself\u001b[0m\u001b[0;34m.\u001b[0m\u001b[0mevolve\u001b[0m\u001b[0;34m(\u001b[0m\u001b[0mepoch\u001b[0m\u001b[0;34m)\u001b[0m\u001b[0;34m\u001b[0m\u001b[0;34m\u001b[0m\u001b[0m\n\u001b[0m\u001b[1;32m    284\u001b[0m \u001b[0;34m\u001b[0m\u001b[0m\n\u001b[1;32m    285\u001b[0m             \u001b[0;31m# Update global best position, the population is sorted or not depended on algorithm's strategy\u001b[0m\u001b[0;34m\u001b[0m\u001b[0;34m\u001b[0m\u001b[0m\n",
            "\u001b[0;32m/usr/local/lib/python3.10/dist-packages/mealpy/swarm_based/MRFO.py\u001b[0m in \u001b[0;36mevolve\u001b[0;34m(self, epoch)\u001b[0m\n\u001b[1;32m    103\u001b[0m             \u001b[0mpop_new\u001b[0m\u001b[0;34m.\u001b[0m\u001b[0mappend\u001b[0m\u001b[0;34m(\u001b[0m\u001b[0;34m[\u001b[0m\u001b[0mpos_new\u001b[0m\u001b[0;34m,\u001b[0m \u001b[0;32mNone\u001b[0m\u001b[0;34m]\u001b[0m\u001b[0;34m)\u001b[0m\u001b[0;34m\u001b[0m\u001b[0;34m\u001b[0m\u001b[0m\n\u001b[1;32m    104\u001b[0m             \u001b[0;32mif\u001b[0m \u001b[0mself\u001b[0m\u001b[0;34m.\u001b[0m\u001b[0mmode\u001b[0m \u001b[0;32mnot\u001b[0m \u001b[0;32min\u001b[0m \u001b[0mself\u001b[0m\u001b[0;34m.\u001b[0m\u001b[0mAVAILABLE_MODES\u001b[0m\u001b[0;34m:\u001b[0m\u001b[0;34m\u001b[0m\u001b[0;34m\u001b[0m\u001b[0m\n\u001b[0;32m--> 105\u001b[0;31m                 \u001b[0mtarget\u001b[0m \u001b[0;34m=\u001b[0m \u001b[0mself\u001b[0m\u001b[0;34m.\u001b[0m\u001b[0mget_target_wrapper\u001b[0m\u001b[0;34m(\u001b[0m\u001b[0mpos_new\u001b[0m\u001b[0;34m)\u001b[0m\u001b[0;34m\u001b[0m\u001b[0;34m\u001b[0m\u001b[0m\n\u001b[0m\u001b[1;32m    106\u001b[0m                 \u001b[0mself\u001b[0m\u001b[0;34m.\u001b[0m\u001b[0mpop\u001b[0m\u001b[0;34m[\u001b[0m\u001b[0midx\u001b[0m\u001b[0;34m]\u001b[0m \u001b[0;34m=\u001b[0m \u001b[0mself\u001b[0m\u001b[0;34m.\u001b[0m\u001b[0mget_better_solution\u001b[0m\u001b[0;34m(\u001b[0m\u001b[0mself\u001b[0m\u001b[0;34m.\u001b[0m\u001b[0mpop\u001b[0m\u001b[0;34m[\u001b[0m\u001b[0midx\u001b[0m\u001b[0;34m]\u001b[0m\u001b[0;34m,\u001b[0m \u001b[0;34m[\u001b[0m\u001b[0mpos_new\u001b[0m\u001b[0;34m,\u001b[0m \u001b[0mtarget\u001b[0m\u001b[0;34m]\u001b[0m\u001b[0;34m)\u001b[0m\u001b[0;34m\u001b[0m\u001b[0;34m\u001b[0m\u001b[0m\n\u001b[1;32m    107\u001b[0m         \u001b[0;32mif\u001b[0m \u001b[0mself\u001b[0m\u001b[0;34m.\u001b[0m\u001b[0mmode\u001b[0m \u001b[0;32min\u001b[0m \u001b[0mself\u001b[0m\u001b[0;34m.\u001b[0m\u001b[0mAVAILABLE_MODES\u001b[0m\u001b[0;34m:\u001b[0m\u001b[0;34m\u001b[0m\u001b[0;34m\u001b[0m\u001b[0m\n",
            "\u001b[0;32m/usr/local/lib/python3.10/dist-packages/mealpy/optimizer.py\u001b[0m in \u001b[0;36mget_target_wrapper\u001b[0;34m(self, position, counted)\u001b[0m\n\u001b[1;32m    162\u001b[0m         \u001b[0;32mif\u001b[0m \u001b[0mcounted\u001b[0m\u001b[0;34m:\u001b[0m\u001b[0;34m\u001b[0m\u001b[0;34m\u001b[0m\u001b[0m\n\u001b[1;32m    163\u001b[0m             \u001b[0mself\u001b[0m\u001b[0;34m.\u001b[0m\u001b[0mnfe_counter\u001b[0m \u001b[0;34m+=\u001b[0m \u001b[0;36m1\u001b[0m\u001b[0;34m\u001b[0m\u001b[0;34m\u001b[0m\u001b[0m\n\u001b[0;32m--> 164\u001b[0;31m         \u001b[0mobjs\u001b[0m \u001b[0;34m=\u001b[0m \u001b[0mself\u001b[0m\u001b[0;34m.\u001b[0m\u001b[0mproblem\u001b[0m\u001b[0;34m.\u001b[0m\u001b[0mfit_func\u001b[0m\u001b[0;34m(\u001b[0m\u001b[0mposition\u001b[0m\u001b[0;34m)\u001b[0m\u001b[0;34m\u001b[0m\u001b[0;34m\u001b[0m\u001b[0m\n\u001b[0m\u001b[1;32m    165\u001b[0m         \u001b[0;32mif\u001b[0m \u001b[0;32mnot\u001b[0m \u001b[0mself\u001b[0m\u001b[0;34m.\u001b[0m\u001b[0mproblem\u001b[0m\u001b[0;34m.\u001b[0m\u001b[0mobj_is_list\u001b[0m\u001b[0;34m:\u001b[0m\u001b[0;34m\u001b[0m\u001b[0;34m\u001b[0m\u001b[0m\n\u001b[1;32m    166\u001b[0m             \u001b[0mobjs\u001b[0m \u001b[0;34m=\u001b[0m \u001b[0;34m[\u001b[0m\u001b[0mobjs\u001b[0m\u001b[0;34m]\u001b[0m\u001b[0;34m\u001b[0m\u001b[0;34m\u001b[0m\u001b[0m\n",
            "\u001b[0;32m<ipython-input-6-bdeb8957c305>\u001b[0m in \u001b[0;36mfitness_function\u001b[0;34m(solution)\u001b[0m\n\u001b[1;32m      7\u001b[0m                     )\n\u001b[1;32m      8\u001b[0m     \u001b[0;31m# Fit the model\u001b[0m\u001b[0;34m\u001b[0m\u001b[0;34m\u001b[0m\u001b[0m\n\u001b[0;32m----> 9\u001b[0;31m     \u001b[0mclf\u001b[0m\u001b[0;34m.\u001b[0m\u001b[0mfit\u001b[0m\u001b[0;34m(\u001b[0m\u001b[0mX\u001b[0m\u001b[0;34m,\u001b[0m \u001b[0mY\u001b[0m\u001b[0;34m)\u001b[0m\u001b[0;34m\u001b[0m\u001b[0;34m\u001b[0m\u001b[0m\n\u001b[0m\u001b[1;32m     10\u001b[0m     \u001b[0;31m# Make the predictions\u001b[0m\u001b[0;34m\u001b[0m\u001b[0;34m\u001b[0m\u001b[0m\n\u001b[1;32m     11\u001b[0m     \u001b[0my_\u001b[0m \u001b[0;34m=\u001b[0m \u001b[0mclf\u001b[0m\u001b[0;34m.\u001b[0m\u001b[0mpredict\u001b[0m\u001b[0;34m(\u001b[0m\u001b[0mx\u001b[0m\u001b[0;34m)\u001b[0m\u001b[0;34m\u001b[0m\u001b[0;34m\u001b[0m\u001b[0m\n",
            "\u001b[0;32m/usr/local/lib/python3.10/dist-packages/xgboost/core.py\u001b[0m in \u001b[0;36minner_f\u001b[0;34m(*args, **kwargs)\u001b[0m\n\u001b[1;32m    618\u001b[0m             \u001b[0;32mfor\u001b[0m \u001b[0mk\u001b[0m\u001b[0;34m,\u001b[0m \u001b[0marg\u001b[0m \u001b[0;32min\u001b[0m \u001b[0mzip\u001b[0m\u001b[0;34m(\u001b[0m\u001b[0msig\u001b[0m\u001b[0;34m.\u001b[0m\u001b[0mparameters\u001b[0m\u001b[0;34m,\u001b[0m \u001b[0margs\u001b[0m\u001b[0;34m)\u001b[0m\u001b[0;34m:\u001b[0m\u001b[0;34m\u001b[0m\u001b[0;34m\u001b[0m\u001b[0m\n\u001b[1;32m    619\u001b[0m                 \u001b[0mkwargs\u001b[0m\u001b[0;34m[\u001b[0m\u001b[0mk\u001b[0m\u001b[0;34m]\u001b[0m \u001b[0;34m=\u001b[0m \u001b[0marg\u001b[0m\u001b[0;34m\u001b[0m\u001b[0;34m\u001b[0m\u001b[0m\n\u001b[0;32m--> 620\u001b[0;31m             \u001b[0;32mreturn\u001b[0m \u001b[0mfunc\u001b[0m\u001b[0;34m(\u001b[0m\u001b[0;34m**\u001b[0m\u001b[0mkwargs\u001b[0m\u001b[0;34m)\u001b[0m\u001b[0;34m\u001b[0m\u001b[0;34m\u001b[0m\u001b[0m\n\u001b[0m\u001b[1;32m    621\u001b[0m \u001b[0;34m\u001b[0m\u001b[0m\n\u001b[1;32m    622\u001b[0m         \u001b[0;32mreturn\u001b[0m \u001b[0minner_f\u001b[0m\u001b[0;34m\u001b[0m\u001b[0;34m\u001b[0m\u001b[0m\n",
            "\u001b[0;32m/usr/local/lib/python3.10/dist-packages/xgboost/sklearn.py\u001b[0m in \u001b[0;36mfit\u001b[0;34m(self, X, y, sample_weight, base_margin, eval_set, eval_metric, early_stopping_rounds, verbose, xgb_model, sample_weight_eval_set, base_margin_eval_set, feature_weights, callbacks)\u001b[0m\n\u001b[1;32m   1488\u001b[0m             )\n\u001b[1;32m   1489\u001b[0m \u001b[0;34m\u001b[0m\u001b[0m\n\u001b[0;32m-> 1490\u001b[0;31m             self._Booster = train(\n\u001b[0m\u001b[1;32m   1491\u001b[0m                 \u001b[0mparams\u001b[0m\u001b[0;34m,\u001b[0m\u001b[0;34m\u001b[0m\u001b[0;34m\u001b[0m\u001b[0m\n\u001b[1;32m   1492\u001b[0m                 \u001b[0mtrain_dmatrix\u001b[0m\u001b[0;34m,\u001b[0m\u001b[0;34m\u001b[0m\u001b[0;34m\u001b[0m\u001b[0m\n",
            "\u001b[0;32m/usr/local/lib/python3.10/dist-packages/xgboost/core.py\u001b[0m in \u001b[0;36minner_f\u001b[0;34m(*args, **kwargs)\u001b[0m\n\u001b[1;32m    618\u001b[0m             \u001b[0;32mfor\u001b[0m \u001b[0mk\u001b[0m\u001b[0;34m,\u001b[0m \u001b[0marg\u001b[0m \u001b[0;32min\u001b[0m \u001b[0mzip\u001b[0m\u001b[0;34m(\u001b[0m\u001b[0msig\u001b[0m\u001b[0;34m.\u001b[0m\u001b[0mparameters\u001b[0m\u001b[0;34m,\u001b[0m \u001b[0margs\u001b[0m\u001b[0;34m)\u001b[0m\u001b[0;34m:\u001b[0m\u001b[0;34m\u001b[0m\u001b[0;34m\u001b[0m\u001b[0m\n\u001b[1;32m    619\u001b[0m                 \u001b[0mkwargs\u001b[0m\u001b[0;34m[\u001b[0m\u001b[0mk\u001b[0m\u001b[0;34m]\u001b[0m \u001b[0;34m=\u001b[0m \u001b[0marg\u001b[0m\u001b[0;34m\u001b[0m\u001b[0;34m\u001b[0m\u001b[0m\n\u001b[0;32m--> 620\u001b[0;31m             \u001b[0;32mreturn\u001b[0m \u001b[0mfunc\u001b[0m\u001b[0;34m(\u001b[0m\u001b[0;34m**\u001b[0m\u001b[0mkwargs\u001b[0m\u001b[0;34m)\u001b[0m\u001b[0;34m\u001b[0m\u001b[0;34m\u001b[0m\u001b[0m\n\u001b[0m\u001b[1;32m    621\u001b[0m \u001b[0;34m\u001b[0m\u001b[0m\n\u001b[1;32m    622\u001b[0m         \u001b[0;32mreturn\u001b[0m \u001b[0minner_f\u001b[0m\u001b[0;34m\u001b[0m\u001b[0;34m\u001b[0m\u001b[0m\n",
            "\u001b[0;32m/usr/local/lib/python3.10/dist-packages/xgboost/training.py\u001b[0m in \u001b[0;36mtrain\u001b[0;34m(params, dtrain, num_boost_round, evals, obj, feval, maximize, early_stopping_rounds, evals_result, verbose_eval, xgb_model, callbacks, custom_metric)\u001b[0m\n\u001b[1;32m    183\u001b[0m         \u001b[0;32mif\u001b[0m \u001b[0mcb_container\u001b[0m\u001b[0;34m.\u001b[0m\u001b[0mbefore_iteration\u001b[0m\u001b[0;34m(\u001b[0m\u001b[0mbst\u001b[0m\u001b[0;34m,\u001b[0m \u001b[0mi\u001b[0m\u001b[0;34m,\u001b[0m \u001b[0mdtrain\u001b[0m\u001b[0;34m,\u001b[0m \u001b[0mevals\u001b[0m\u001b[0;34m)\u001b[0m\u001b[0;34m:\u001b[0m\u001b[0;34m\u001b[0m\u001b[0;34m\u001b[0m\u001b[0m\n\u001b[1;32m    184\u001b[0m             \u001b[0;32mbreak\u001b[0m\u001b[0;34m\u001b[0m\u001b[0;34m\u001b[0m\u001b[0m\n\u001b[0;32m--> 185\u001b[0;31m         \u001b[0mbst\u001b[0m\u001b[0;34m.\u001b[0m\u001b[0mupdate\u001b[0m\u001b[0;34m(\u001b[0m\u001b[0mdtrain\u001b[0m\u001b[0;34m,\u001b[0m \u001b[0mi\u001b[0m\u001b[0;34m,\u001b[0m \u001b[0mobj\u001b[0m\u001b[0;34m)\u001b[0m\u001b[0;34m\u001b[0m\u001b[0;34m\u001b[0m\u001b[0m\n\u001b[0m\u001b[1;32m    186\u001b[0m         \u001b[0;32mif\u001b[0m \u001b[0mcb_container\u001b[0m\u001b[0;34m.\u001b[0m\u001b[0mafter_iteration\u001b[0m\u001b[0;34m(\u001b[0m\u001b[0mbst\u001b[0m\u001b[0;34m,\u001b[0m \u001b[0mi\u001b[0m\u001b[0;34m,\u001b[0m \u001b[0mdtrain\u001b[0m\u001b[0;34m,\u001b[0m \u001b[0mevals\u001b[0m\u001b[0;34m)\u001b[0m\u001b[0;34m:\u001b[0m\u001b[0;34m\u001b[0m\u001b[0;34m\u001b[0m\u001b[0m\n\u001b[1;32m    187\u001b[0m             \u001b[0;32mbreak\u001b[0m\u001b[0;34m\u001b[0m\u001b[0;34m\u001b[0m\u001b[0m\n",
            "\u001b[0;32m/usr/local/lib/python3.10/dist-packages/xgboost/core.py\u001b[0m in \u001b[0;36mupdate\u001b[0;34m(self, dtrain, iteration, fobj)\u001b[0m\n\u001b[1;32m   1916\u001b[0m \u001b[0;34m\u001b[0m\u001b[0m\n\u001b[1;32m   1917\u001b[0m         \u001b[0;32mif\u001b[0m \u001b[0mfobj\u001b[0m \u001b[0;32mis\u001b[0m \u001b[0;32mNone\u001b[0m\u001b[0;34m:\u001b[0m\u001b[0;34m\u001b[0m\u001b[0;34m\u001b[0m\u001b[0m\n\u001b[0;32m-> 1918\u001b[0;31m             _check_call(_LIB.XGBoosterUpdateOneIter(self.handle,\n\u001b[0m\u001b[1;32m   1919\u001b[0m                                                     \u001b[0mctypes\u001b[0m\u001b[0;34m.\u001b[0m\u001b[0mc_int\u001b[0m\u001b[0;34m(\u001b[0m\u001b[0miteration\u001b[0m\u001b[0;34m)\u001b[0m\u001b[0;34m,\u001b[0m\u001b[0;34m\u001b[0m\u001b[0;34m\u001b[0m\u001b[0m\n\u001b[1;32m   1920\u001b[0m                                                     dtrain.handle))\n",
            "\u001b[0;31mKeyboardInterrupt\u001b[0m: "
          ]
        }
      ],
      "source": [
        "# def PPSO():\n",
        "epoch = 40\n",
        "print('started')\n",
        "p = np.zeros((epoch,5))\n",
        "model = MRFO.OriginalMRFO(epoch=epoch, pop_size=10)\n",
        "best_position, best_fitness = model.solve(problem)\n",
        "lstm = model.history.list_current_best\n",
        "for j,i in enumerate(lstm):\n",
        "    p[j] = int(i[0][0]),int(i[0][1]),i[0][2],i[1][0],i[1][1][0]\n",
        "# print(p)\n",
        "s = pd.DataFrame(p,columns=['Max Dept','N Stimator','Learning Rate','Best Accuracy','Best Accuracy 2'])\n",
        "s.to_csv(f'/content/drive/MyDrive/45/{model.__class__.__name__}_XGB_2.csv')"
      ]
    },
    {
      "cell_type": "code",
      "execution_count": null,
      "metadata": {
        "colab": {
          "base_uri": "https://localhost:8080/"
        },
        "id": "l988woV5Qqc6",
        "outputId": "c1d360dc-1f58-4fd1-9d82-bdd7260de88d"
      },
      "outputs": [
        {
          "data": {
            "text/plain": [
              "['Optimizer',\n",
              " 'OriginalMRFO',\n",
              " 'WMQIMRFO',\n",
              " '__builtins__',\n",
              " '__cached__',\n",
              " '__doc__',\n",
              " '__file__',\n",
              " '__loader__',\n",
              " '__name__',\n",
              " '__package__',\n",
              " '__spec__',\n",
              " 'np']"
            ]
          },
          "execution_count": 47,
          "metadata": {},
          "output_type": "execute_result"
        }
      ],
      "source": [
        "dir(MRFO)"
      ]
    },
    {
      "cell_type": "markdown",
      "metadata": {
        "id": "AMaFBdKRlP9M"
      },
      "source": [
        "# s"
      ]
    },
    {
      "cell_type": "code",
      "execution_count": null,
      "metadata": {
        "id": "zHqDkluxSegx"
      },
      "outputs": [],
      "source": [
        "X = X[0:400]\n",
        "Y = Y[0:400]"
      ]
    },
    {
      "cell_type": "code",
      "execution_count": null,
      "metadata": {
        "id": "SHfhyjYOST-W"
      },
      "outputs": [],
      "source": [
        "def fitness_function(solution):\n",
        "    max_depth = solution[0]\n",
        "    n_estimator = solution[1]\n",
        "    learning_rate = solution[2]\n",
        "    clf = XGBClassifier(max_depth=int(max_depth),\n",
        "                    n_estimators=int(n_estimator),random_state=0,learning_rate=learning_rate,\n",
        "                    )\n",
        "    # Fit the model\n",
        "    clf.fit(X, Y)\n",
        "    # Make the predictions\n",
        "    y_ = clf.predict(x)\n",
        "    # cm = confusion_matrix(y,y_)\n",
        "    # km = cm[0][1]+cm[1][0]\n",
        "    return f1_score(y,y_,average='micro')\n",
        "\n",
        "problem = {\n",
        "    \"fit_func\": fitness_function,\n",
        "    \"lb\": [8, 100, 0.01],\n",
        "    \"ub\": [12, 1000, .9],\n",
        "    \"minmax\": \"max\",\n",
        "}"
      ]
    },
    {
      "cell_type": "code",
      "execution_count": null,
      "metadata": {
        "colab": {
          "base_uri": "https://localhost:8080/"
        },
        "id": "HNeForWATgpJ",
        "outputId": "e3736da0-fc44-4d52-d4b8-53d2eccc3aad"
      },
      "outputs": [
        {
          "data": {
            "text/plain": [
              "5.316734313964844e-05"
            ]
          },
          "execution_count": 62,
          "metadata": {},
          "output_type": "execute_result"
        }
      ],
      "source": [
        "import time\n",
        "a = time.time()\n",
        "b = time.time()\n",
        "b-a"
      ]
    },
    {
      "cell_type": "code",
      "execution_count": null,
      "metadata": {
        "id": "pWpwJ-9MZda7"
      },
      "outputs": [],
      "source": [
        "    # model = MRFO.BaseMRFO(problem_dict1, epoch=10, pop_size=50)\n",
        "    # model = MSA.BaseMSA(problem_dict1, epoch=10, pop_size=50, n_best=5, partition=0.5, max_step_size=1.0)\n",
        "    # model = NMRA.BaseNMRA(problem_dict1, epoch=10, pop_size=50)\n",
        "    # model = NMRA.ImprovedNMRA(problem_dict1, epoch=10, pop_size=50, pb=0.75, pm=0.01)\n",
        "    # model = PFA.BasePFA(problem_dict1, epoch=10, pop_size=50)\n",
        "    # model = PSO.BasePSO(problem_dict1, epoch=100, pop_size=50, c1=2.05, c2=2.05, w_min=0.4, w_max=0.9)\n",
        "    # model = PSO.C_PSO(problem_dict1, epoch=10, pop_size=50, c1=2.05, c2=2.05, w_min=0.4, w_max=0.9)\n",
        "    # model = PSO.CL_PSO(problem_dict1, epoch=10, pop_size=50, c_local=1.2, w_min=0.4, w_max=0.9, max_flag=7)\n",
        "    # model = PSO.PPSO(problem_dict1, epoch=10, pop_size=50)\n",
        "    # model = PSO.HPSO_TVAC(problem_dict1, epoch=10, pop_size=50, ci=0.5, cf=0.2)\n",
        "    # model = SFO.BaseSFO(problem_dict1, epoch=10, pop_size=50, pp=0.1, AP=4, epxilon=0.0001)\n",
        "    # model = SFO.ImprovedSFO(problem_dict1, epoch=10, pop_size=50, pp=0.1)\n",
        "    # model = SHO.BaseSHO(problem_dict1, epoch=10, pop_size=50, h_factor=1, rand_v=(0, 2), N_tried=30)\n",
        "    # model = SLO.BaseSLO(problem_dict1, epoch=10, pop_size=50)\n",
        "    # model = SLO.ModifiedSLO(problem_dict1, epoch=10, pop_size=50)\n",
        "    # model = SLO.ISLO(problem_dict1, epoch=10, pop_size=50, c1=1.2, c2=1.2)\n",
        "    # model = SRSR.BaseSRSR(problem_dict1, epoch=10, pop_size=50)\n",
        "    # model = SSA.OriginalSSA(problem_dict1, epoch=10, pop_size=50, ST=0.8, PD=0.2, SD=0.1)\n",
        "    # model = SSA.BaseSSA(problem_dict1, epoch=10, pop_size=50, ST=0.8, PD=0.2, SD=0.1)\n",
        "    # model = SSO.BaseSSO(problem, epoch=10, pop_size=50)\n",
        "    # model = SSpiderA.BaseSSpiderA(problem_dict1, epoch=10, pop_size=50, r_a=1, p_c=0.7, p_m=0.1)\n",
        "    # model = SSpiderO.BaseSSpiderO(problem_dict1, epoch=10, pop_size=50, fp=(0.65, 0.9))\n",
        "    # model = WOA.BaseWOA(problem_dict1, epoch=10, pop_size=50)\n",
        "    # model = WOA.HI_WOA(problem_dict1, epoch=10, pop_size=50, feedback_max=5)"
      ]
    },
    {
      "cell_type": "code",
      "execution_count": null,
      "metadata": {
        "id": "OgRhE_B0YAf5"
      },
      "outputs": [],
      "source": [
        "    SMA.BaseSMA,\n",
        "    # MRFO.OriginalMRFO,\n",
        "    AEO.EnhancedAEO,\n",
        "    SMA.OriginalSMA,\n",
        "    # VCS.OriginalVCS,"
      ]
    },
    {
      "cell_type": "code",
      "execution_count": null,
      "metadata": {
        "id": "-bg1TRxnUL2D"
      },
      "outputs": [],
      "source": [
        "mlpy = [\n",
        "    SMA.BaseSMA,\n",
        "    AEO.EnhancedAEO,\n",
        "    SMA.OriginalSMA,\n",
        "    ES.LevyES,\n",
        "    DE.JADE,\n",
        "    FPA.OriginalFPA,\n",
        "    PSS.OriginalPSS,\n",
        "    BSO.ImprovedBSO,\n",
        "    FBIO.OriginalFBIO,\n",
        "    QSA.OriginalQSA,\n",
        "    QSA.ImprovedQSA,\n",
        "    SARO.OriginalSARO,\n",
        "    TLO.OriginalTLO,\n",
        "    AOA.OriginalAOA,\n",
        "    CGO.OriginalCGO,\n",
        "    GBO.OriginalGBO,\n",
        "    SCA.OriginalSCA,\n",
        "    ArchOA.OriginalArchOA,\n",
        "    TWO.EnhancedTWO,\n",
        "    AEO.EnhancedAEO ,\n",
        "    AEO.OriginalAEO,\n",
        "    TWO.LevyTWO,\n",
        "    MVO.OriginalMVO,\n",
        "    EO.AdaptiveEO,\n",
        "    EO.ModifiedEO,\n",
        "    GCO.OriginalGCO,\n",
        "    ALO.OriginalALO,\n",
        "    AO.OriginalAO,\n",
        "    BA.ModifiedBA,\n",
        "    BA.OriginalBA,\n",
        "    BFO.OriginalBFO,\n",
        "    FOA.WhaleFOA,\n",
        "    JA.OriginalJA,\n",
        "    FOA.OriginalFOA\n",
        "]"
      ]
    },
    {
      "cell_type": "code",
      "execution_count": null,
      "metadata": {
        "id": "BExmdFBxlCfg"
      },
      "outputs": [],
      "source": [
        "k = [FOA.WhaleFOA,DE.JADE,AO.OriginalAO]"
      ]
    },
    {
      "cell_type": "code",
      "execution_count": null,
      "metadata": {
        "colab": {
          "base_uri": "https://localhost:8080/"
        },
        "id": "a6fSz3fGScNA",
        "outputId": "8615d7d8-6e77-45ce-c186-24ad3588c31f"
      },
      "outputs": [
        {
          "name": "stdout",
          "output_type": "stream",
          "text": [
            "started\n"
          ]
        },
        {
          "name": "stderr",
          "output_type": "stream",
          "text": [
            "INFO:mealpy.evolutionary_based.ES.LevyES:Solving single objective optimization problem.\n",
            "INFO:mealpy.evolutionary_based.ES.LevyES:>Problem: P, Epoch: 1, Current best: 0.7225609756097561, Global best: 0.75, Runtime: 2.44658 seconds\n",
            "INFO:mealpy.evolutionary_based.ES.LevyES:>Problem: P, Epoch: 2, Current best: 0.7179878048780488, Global best: 0.75, Runtime: 2.89484 seconds\n",
            "INFO:mealpy.evolutionary_based.ES.LevyES:>Problem: P, Epoch: 3, Current best: 0.7149390243902439, Global best: 0.75, Runtime: 6.37571 seconds\n",
            "INFO:mealpy.evolutionary_based.ES.LevyES:>Problem: P, Epoch: 4, Current best: 0.7149390243902439, Global best: 0.75, Runtime: 3.27558 seconds\n",
            "INFO:mealpy.evolutionary_based.ES.LevyES:>Problem: P, Epoch: 5, Current best: 0.7134146341463414, Global best: 0.75, Runtime: 4.46246 seconds\n",
            "INFO:mealpy.evolutionary_based.ES.LevyES:>Problem: P, Epoch: 6, Current best: 0.7103658536585364, Global best: 0.75, Runtime: 5.77811 seconds\n",
            "INFO:mealpy.evolutionary_based.ES.LevyES:>Problem: P, Epoch: 7, Current best: 0.7103658536585364, Global best: 0.75, Runtime: 2.07027 seconds\n",
            "INFO:mealpy.evolutionary_based.ES.LevyES:>Problem: P, Epoch: 8, Current best: 0.7103658536585364, Global best: 0.75, Runtime: 1.93656 seconds\n",
            "INFO:mealpy.evolutionary_based.ES.LevyES:>Problem: P, Epoch: 9, Current best: 0.7088414634146342, Global best: 0.75, Runtime: 2.50286 seconds\n",
            "INFO:mealpy.evolutionary_based.ES.LevyES:>Problem: P, Epoch: 10, Current best: 0.7088414634146342, Global best: 0.75, Runtime: 2.37278 seconds\n",
            "INFO:mealpy.evolutionary_based.DE.JADE:Solving single objective optimization problem.\n"
          ]
        },
        {
          "name": "stdout",
          "output_type": "stream",
          "text": [
            "['LevyES'] [[9, 102, 0.9, 0.7088414634146342, 0.7088414634146342, 3.683679962158203]]\n",
            "started\n"
          ]
        },
        {
          "name": "stderr",
          "output_type": "stream",
          "text": [
            "INFO:mealpy.evolutionary_based.DE.JADE:>Problem: P, Epoch: 1, Current best: 0.7439024390243903, Global best: 0.7439024390243903, Runtime: 1.72962 seconds\n",
            "INFO:mealpy.evolutionary_based.DE.JADE:>Problem: P, Epoch: 2, Current best: 0.7439024390243903, Global best: 0.7439024390243903, Runtime: 1.35508 seconds\n",
            "INFO:mealpy.evolutionary_based.DE.JADE:>Problem: P, Epoch: 3, Current best: 0.7439024390243903, Global best: 0.7439024390243903, Runtime: 1.47699 seconds\n",
            "INFO:mealpy.evolutionary_based.DE.JADE:>Problem: P, Epoch: 4, Current best: 0.7454268292682927, Global best: 0.7454268292682927, Runtime: 1.67256 seconds\n",
            "INFO:mealpy.evolutionary_based.DE.JADE:>Problem: P, Epoch: 5, Current best: 0.7454268292682927, Global best: 0.7454268292682927, Runtime: 5.17198 seconds\n",
            "INFO:mealpy.evolutionary_based.DE.JADE:>Problem: P, Epoch: 6, Current best: 0.75, Global best: 0.75, Runtime: 1.62306 seconds\n",
            "INFO:mealpy.evolutionary_based.DE.JADE:>Problem: P, Epoch: 7, Current best: 0.75, Global best: 0.75, Runtime: 1.80982 seconds\n",
            "INFO:mealpy.evolutionary_based.DE.JADE:>Problem: P, Epoch: 8, Current best: 0.75, Global best: 0.75, Runtime: 1.61208 seconds\n",
            "INFO:mealpy.evolutionary_based.DE.JADE:>Problem: P, Epoch: 9, Current best: 0.7560975609756099, Global best: 0.7560975609756099, Runtime: 1.63424 seconds\n",
            "INFO:mealpy.evolutionary_based.DE.JADE:>Problem: P, Epoch: 10, Current best: 0.7560975609756099, Global best: 0.7560975609756099, Runtime: 2.06478 seconds\n"
          ]
        },
        {
          "name": "stdout",
          "output_type": "stream",
          "text": [
            "['LevyES', 'JADE'] [[9, 102, 0.9, 0.7088414634146342, 0.7088414634146342, 3.683679962158203], [11, 100, 0.10379182419578181, 0.7560975609756099, 0.7560975609756099, 2.76029109954834]]\n",
            "started\n"
          ]
        },
        {
          "name": "stderr",
          "output_type": "stream",
          "text": [
            "INFO:mealpy.evolutionary_based.FPA.OriginalFPA:Solving single objective optimization problem.\n",
            "INFO:mealpy.evolutionary_based.FPA.OriginalFPA:>Problem: P, Epoch: 1, Current best: 0.746951219512195, Global best: 0.746951219512195, Runtime: 3.05403 seconds\n",
            "INFO:mealpy.evolutionary_based.FPA.OriginalFPA:>Problem: P, Epoch: 2, Current best: 0.746951219512195, Global best: 0.746951219512195, Runtime: 10.34158 seconds\n",
            "INFO:mealpy.evolutionary_based.FPA.OriginalFPA:>Problem: P, Epoch: 3, Current best: 0.746951219512195, Global best: 0.746951219512195, Runtime: 3.75750 seconds\n",
            "INFO:mealpy.evolutionary_based.FPA.OriginalFPA:>Problem: P, Epoch: 4, Current best: 0.746951219512195, Global best: 0.746951219512195, Runtime: 3.88045 seconds\n",
            "INFO:mealpy.evolutionary_based.FPA.OriginalFPA:>Problem: P, Epoch: 5, Current best: 0.746951219512195, Global best: 0.746951219512195, Runtime: 6.12746 seconds\n",
            "INFO:mealpy.evolutionary_based.FPA.OriginalFPA:>Problem: P, Epoch: 6, Current best: 0.746951219512195, Global best: 0.746951219512195, Runtime: 3.54618 seconds\n",
            "INFO:mealpy.evolutionary_based.FPA.OriginalFPA:>Problem: P, Epoch: 7, Current best: 0.746951219512195, Global best: 0.746951219512195, Runtime: 7.45883 seconds\n",
            "INFO:mealpy.evolutionary_based.FPA.OriginalFPA:>Problem: P, Epoch: 8, Current best: 0.75, Global best: 0.75, Runtime: 4.44968 seconds\n",
            "INFO:mealpy.evolutionary_based.FPA.OriginalFPA:>Problem: P, Epoch: 9, Current best: 0.75, Global best: 0.75, Runtime: 4.58893 seconds\n",
            "INFO:mealpy.evolutionary_based.FPA.OriginalFPA:>Problem: P, Epoch: 10, Current best: 0.75, Global best: 0.75, Runtime: 8.20246 seconds\n"
          ]
        },
        {
          "name": "stdout",
          "output_type": "stream",
          "text": [
            "['LevyES', 'JADE', 'OriginalFPA'] [[9, 102, 0.9, 0.7088414634146342, 0.7088414634146342, 3.683679962158203], [11, 100, 0.10379182419578181, 0.7560975609756099, 0.7560975609756099, 2.76029109954834], [9, 1000, 0.011191866902417233, 0.75, 0.75, 6.135713887214661]]\n",
            "started\n",
            "went wrong\n",
            "started\n"
          ]
        },
        {
          "name": "stderr",
          "output_type": "stream",
          "text": [
            "INFO:mealpy.human_based.FBIO.OriginalFBIO:Solving single objective optimization problem.\n",
            "INFO:mealpy.human_based.FBIO.OriginalFBIO:>Problem: P, Epoch: 1, Current best: 0.7530487804878048, Global best: 0.7530487804878048, Runtime: 13.73323 seconds\n",
            "INFO:mealpy.human_based.FBIO.OriginalFBIO:>Problem: P, Epoch: 2, Current best: 0.7560975609756099, Global best: 0.7560975609756099, Runtime: 13.11515 seconds\n",
            "INFO:mealpy.human_based.FBIO.OriginalFBIO:>Problem: P, Epoch: 3, Current best: 0.7591463414634145, Global best: 0.7591463414634145, Runtime: 12.06142 seconds\n",
            "INFO:mealpy.human_based.FBIO.OriginalFBIO:>Problem: P, Epoch: 4, Current best: 0.7591463414634145, Global best: 0.7591463414634145, Runtime: 12.07109 seconds\n",
            "INFO:mealpy.human_based.FBIO.OriginalFBIO:>Problem: P, Epoch: 5, Current best: 0.7591463414634145, Global best: 0.7591463414634145, Runtime: 10.13308 seconds\n",
            "INFO:mealpy.human_based.FBIO.OriginalFBIO:>Problem: P, Epoch: 6, Current best: 0.7591463414634145, Global best: 0.7591463414634145, Runtime: 8.07173 seconds\n",
            "INFO:mealpy.human_based.FBIO.OriginalFBIO:>Problem: P, Epoch: 7, Current best: 0.7591463414634145, Global best: 0.7591463414634145, Runtime: 11.22350 seconds\n",
            "INFO:mealpy.human_based.FBIO.OriginalFBIO:>Problem: P, Epoch: 8, Current best: 0.7652439024390245, Global best: 0.7652439024390245, Runtime: 10.58121 seconds\n",
            "INFO:mealpy.human_based.FBIO.OriginalFBIO:>Problem: P, Epoch: 9, Current best: 0.7652439024390245, Global best: 0.7652439024390245, Runtime: 10.20012 seconds\n",
            "INFO:mealpy.human_based.FBIO.OriginalFBIO:>Problem: P, Epoch: 10, Current best: 0.7652439024390245, Global best: 0.7652439024390245, Runtime: 7.79999 seconds\n"
          ]
        },
        {
          "name": "stdout",
          "output_type": "stream",
          "text": [
            "['LevyES', 'JADE', 'OriginalFPA', 'OriginalFBIO'] [[9, 102, 0.9, 0.7088414634146342, 0.7088414634146342, 3.683679962158203], [11, 100, 0.10379182419578181, 0.7560975609756099, 0.7560975609756099, 2.76029109954834], [9, 1000, 0.011191866902417233, 0.75, 0.75, 6.135713887214661], [8, 105, 0.06788570363665233, 0.7652439024390245, 0.7652439024390245, 11.17553448677063]]\n",
            "started\n"
          ]
        },
        {
          "name": "stderr",
          "output_type": "stream",
          "text": [
            "INFO:mealpy.human_based.QSA.OriginalQSA:Solving single objective optimization problem.\n",
            "INFO:mealpy.human_based.QSA.OriginalQSA:>Problem: P, Epoch: 1, Current best: 0.7530487804878048, Global best: 0.7530487804878048, Runtime: 17.55924 seconds\n",
            "INFO:mealpy.human_based.QSA.OriginalQSA:>Problem: P, Epoch: 2, Current best: 0.7560975609756099, Global best: 0.7560975609756099, Runtime: 26.31818 seconds\n",
            "INFO:mealpy.human_based.QSA.OriginalQSA:>Problem: P, Epoch: 3, Current best: 0.7560975609756099, Global best: 0.7560975609756099, Runtime: 25.53671 seconds\n",
            "INFO:mealpy.human_based.QSA.OriginalQSA:>Problem: P, Epoch: 4, Current best: 0.7560975609756099, Global best: 0.7560975609756099, Runtime: 26.04875 seconds\n",
            "INFO:mealpy.human_based.QSA.OriginalQSA:>Problem: P, Epoch: 5, Current best: 0.7560975609756099, Global best: 0.7560975609756099, Runtime: 38.76448 seconds\n",
            "INFO:mealpy.human_based.QSA.OriginalQSA:>Problem: P, Epoch: 6, Current best: 0.7560975609756099, Global best: 0.7560975609756099, Runtime: 30.17642 seconds\n",
            "INFO:mealpy.human_based.QSA.OriginalQSA:>Problem: P, Epoch: 7, Current best: 0.7560975609756099, Global best: 0.7560975609756099, Runtime: 32.01118 seconds\n",
            "INFO:mealpy.human_based.QSA.OriginalQSA:>Problem: P, Epoch: 8, Current best: 0.7576219512195121, Global best: 0.7576219512195121, Runtime: 32.53543 seconds\n",
            "INFO:mealpy.human_based.QSA.OriginalQSA:>Problem: P, Epoch: 9, Current best: 0.7576219512195121, Global best: 0.7576219512195121, Runtime: 28.93101 seconds\n",
            "INFO:mealpy.human_based.QSA.OriginalQSA:>Problem: P, Epoch: 10, Current best: 0.7576219512195121, Global best: 0.7576219512195121, Runtime: 28.30508 seconds\n",
            "INFO:mealpy.human_based.QSA.ImprovedQSA:Solving single objective optimization problem.\n"
          ]
        },
        {
          "name": "stdout",
          "output_type": "stream",
          "text": [
            "['LevyES', 'JADE', 'OriginalFPA', 'OriginalFBIO', 'OriginalQSA'] [[9, 102, 0.9, 0.7088414634146342, 0.7088414634146342, 3.683679962158203], [11, 100, 0.10379182419578181, 0.7560975609756099, 0.7560975609756099, 2.76029109954834], [9, 1000, 0.011191866902417233, 0.75, 0.75, 6.135713887214661], [8, 105, 0.06788570363665233, 0.7652439024390245, 0.7652439024390245, 11.17553448677063], [10, 1000, 0.016051223033985762, 0.7576219512195121, 0.7576219512195121, 29.175256085395812]]\n",
            "started\n"
          ]
        },
        {
          "name": "stderr",
          "output_type": "stream",
          "text": [
            "INFO:mealpy.human_based.QSA.ImprovedQSA:>Problem: P, Epoch: 1, Current best: 0.7560975609756099, Global best: 0.7560975609756099, Runtime: 20.97763 seconds\n",
            "INFO:mealpy.human_based.QSA.ImprovedQSA:>Problem: P, Epoch: 2, Current best: 0.7560975609756099, Global best: 0.7560975609756099, Runtime: 20.25818 seconds\n",
            "INFO:mealpy.human_based.QSA.ImprovedQSA:>Problem: P, Epoch: 3, Current best: 0.7560975609756099, Global best: 0.7560975609756099, Runtime: 19.45503 seconds\n",
            "INFO:mealpy.human_based.QSA.ImprovedQSA:>Problem: P, Epoch: 4, Current best: 0.7576219512195121, Global best: 0.7576219512195121, Runtime: 15.13420 seconds\n",
            "INFO:mealpy.human_based.QSA.ImprovedQSA:>Problem: P, Epoch: 5, Current best: 0.7576219512195121, Global best: 0.7576219512195121, Runtime: 13.70653 seconds\n",
            "INFO:mealpy.human_based.QSA.ImprovedQSA:>Problem: P, Epoch: 6, Current best: 0.7576219512195121, Global best: 0.7576219512195121, Runtime: 12.70509 seconds\n",
            "INFO:mealpy.human_based.QSA.ImprovedQSA:>Problem: P, Epoch: 7, Current best: 0.7576219512195121, Global best: 0.7576219512195121, Runtime: 12.46421 seconds\n",
            "INFO:mealpy.human_based.QSA.ImprovedQSA:>Problem: P, Epoch: 8, Current best: 0.7576219512195121, Global best: 0.7576219512195121, Runtime: 12.99230 seconds\n",
            "INFO:mealpy.human_based.QSA.ImprovedQSA:>Problem: P, Epoch: 9, Current best: 0.7576219512195121, Global best: 0.7576219512195121, Runtime: 13.15470 seconds\n",
            "INFO:mealpy.human_based.QSA.ImprovedQSA:>Problem: P, Epoch: 10, Current best: 0.760670731707317, Global best: 0.760670731707317, Runtime: 13.07351 seconds\n"
          ]
        },
        {
          "name": "stdout",
          "output_type": "stream",
          "text": [
            "['LevyES', 'JADE', 'OriginalFPA', 'OriginalFBIO', 'OriginalQSA', 'ImprovedQSA'] [[9, 102, 0.9, 0.7088414634146342, 0.7088414634146342, 3.683679962158203], [11, 100, 0.10379182419578181, 0.7560975609756099, 0.7560975609756099, 2.76029109954834], [9, 1000, 0.011191866902417233, 0.75, 0.75, 6.135713887214661], [8, 105, 0.06788570363665233, 0.7652439024390245, 0.7652439024390245, 11.17553448677063], [10, 1000, 0.016051223033985762, 0.7576219512195121, 0.7576219512195121, 29.175256085395812], [8, 100, 0.18835955621218572, 0.760670731707317, 0.760670731707317, 15.659284162521363]]\n",
            "started\n",
            "went wrong\n",
            "started\n"
          ]
        },
        {
          "name": "stderr",
          "output_type": "stream",
          "text": [
            "INFO:mealpy.human_based.TLO.OriginalTLO:Solving single objective optimization problem.\n",
            "INFO:mealpy.human_based.TLO.OriginalTLO:>Problem: P, Epoch: 1, Current best: 0.7408536585365852, Global best: 0.7408536585365852, Runtime: 4.25236 seconds\n",
            "INFO:mealpy.human_based.TLO.OriginalTLO:>Problem: P, Epoch: 2, Current best: 0.75, Global best: 0.75, Runtime: 8.85333 seconds\n",
            "INFO:mealpy.human_based.TLO.OriginalTLO:>Problem: P, Epoch: 3, Current best: 0.7545731707317073, Global best: 0.7545731707317073, Runtime: 5.23286 seconds\n",
            "INFO:mealpy.human_based.TLO.OriginalTLO:>Problem: P, Epoch: 4, Current best: 0.7545731707317073, Global best: 0.7545731707317073, Runtime: 7.70217 seconds\n",
            "INFO:mealpy.human_based.TLO.OriginalTLO:>Problem: P, Epoch: 5, Current best: 0.7545731707317073, Global best: 0.7545731707317073, Runtime: 4.31404 seconds\n",
            "INFO:mealpy.human_based.TLO.OriginalTLO:>Problem: P, Epoch: 6, Current best: 0.7545731707317073, Global best: 0.7545731707317073, Runtime: 6.77642 seconds\n",
            "INFO:mealpy.human_based.TLO.OriginalTLO:>Problem: P, Epoch: 7, Current best: 0.7545731707317073, Global best: 0.7545731707317073, Runtime: 3.64898 seconds\n",
            "INFO:mealpy.human_based.TLO.OriginalTLO:>Problem: P, Epoch: 8, Current best: 0.7545731707317073, Global best: 0.7545731707317073, Runtime: 3.69792 seconds\n",
            "INFO:mealpy.human_based.TLO.OriginalTLO:>Problem: P, Epoch: 9, Current best: 0.7545731707317073, Global best: 0.7545731707317073, Runtime: 6.62804 seconds\n",
            "INFO:mealpy.human_based.TLO.OriginalTLO:>Problem: P, Epoch: 10, Current best: 0.7545731707317073, Global best: 0.7545731707317073, Runtime: 3.70272 seconds\n"
          ]
        },
        {
          "name": "stdout",
          "output_type": "stream",
          "text": [
            "['LevyES', 'JADE', 'OriginalFPA', 'OriginalFBIO', 'OriginalQSA', 'ImprovedQSA', 'OriginalTLO'] [[9, 102, 0.9, 0.7088414634146342, 0.7088414634146342, 3.683679962158203], [11, 100, 0.10379182419578181, 0.7560975609756099, 0.7560975609756099, 2.76029109954834], [9, 1000, 0.011191866902417233, 0.75, 0.75, 6.135713887214661], [8, 105, 0.06788570363665233, 0.7652439024390245, 0.7652439024390245, 11.17553448677063], [10, 1000, 0.016051223033985762, 0.7576219512195121, 0.7576219512195121, 29.175256085395812], [8, 100, 0.18835955621218572, 0.760670731707317, 0.760670731707317, 15.659284162521363], [8, 100, 0.085784144603691, 0.7545731707317073, 0.7545731707317073, 5.743708515167237]]\n",
            "started\n"
          ]
        },
        {
          "name": "stderr",
          "output_type": "stream",
          "text": [
            "INFO:mealpy.math_based.AOA.OriginalAOA:Solving single objective optimization problem.\n",
            "INFO:mealpy.math_based.AOA.OriginalAOA:>Problem: P, Epoch: 1, Current best: 0.75, Global best: 0.75, Runtime: 7.93351 seconds\n",
            "INFO:mealpy.math_based.AOA.OriginalAOA:>Problem: P, Epoch: 2, Current best: 0.7530487804878048, Global best: 0.7530487804878048, Runtime: 11.70375 seconds\n",
            "INFO:mealpy.math_based.AOA.OriginalAOA:>Problem: P, Epoch: 3, Current best: 0.7530487804878048, Global best: 0.7530487804878048, Runtime: 9.90179 seconds\n",
            "INFO:mealpy.math_based.AOA.OriginalAOA:>Problem: P, Epoch: 4, Current best: 0.7530487804878048, Global best: 0.7530487804878048, Runtime: 10.24668 seconds\n",
            "INFO:mealpy.math_based.AOA.OriginalAOA:>Problem: P, Epoch: 5, Current best: 0.7530487804878048, Global best: 0.7530487804878048, Runtime: 12.26461 seconds\n",
            "INFO:mealpy.math_based.AOA.OriginalAOA:>Problem: P, Epoch: 6, Current best: 0.7530487804878048, Global best: 0.7530487804878048, Runtime: 11.12959 seconds\n",
            "INFO:mealpy.math_based.AOA.OriginalAOA:>Problem: P, Epoch: 7, Current best: 0.7530487804878048, Global best: 0.7530487804878048, Runtime: 11.64067 seconds\n",
            "INFO:mealpy.math_based.AOA.OriginalAOA:>Problem: P, Epoch: 8, Current best: 0.7530487804878048, Global best: 0.7530487804878048, Runtime: 11.72790 seconds\n",
            "INFO:mealpy.math_based.AOA.OriginalAOA:>Problem: P, Epoch: 9, Current best: 0.7530487804878048, Global best: 0.7530487804878048, Runtime: 8.91111 seconds\n",
            "INFO:mealpy.math_based.AOA.OriginalAOA:>Problem: P, Epoch: 10, Current best: 0.7530487804878048, Global best: 0.7530487804878048, Runtime: 12.79436 seconds\n"
          ]
        },
        {
          "name": "stdout",
          "output_type": "stream",
          "text": [
            "['LevyES', 'JADE', 'OriginalFPA', 'OriginalFBIO', 'OriginalQSA', 'ImprovedQSA', 'OriginalTLO', 'OriginalAOA'] [[9, 102, 0.9, 0.7088414634146342, 0.7088414634146342, 3.683679962158203], [11, 100, 0.10379182419578181, 0.7560975609756099, 0.7560975609756099, 2.76029109954834], [9, 1000, 0.011191866902417233, 0.75, 0.75, 6.135713887214661], [8, 105, 0.06788570363665233, 0.7652439024390245, 0.7652439024390245, 11.17553448677063], [10, 1000, 0.016051223033985762, 0.7576219512195121, 0.7576219512195121, 29.175256085395812], [8, 100, 0.18835955621218572, 0.760670731707317, 0.760670731707317, 15.659284162521363], [8, 100, 0.085784144603691, 0.7545731707317073, 0.7545731707317073, 5.743708515167237], [12, 966, 0.01, 0.7530487804878048, 0.7530487804878048, 11.049904227256775]]\n",
            "started\n"
          ]
        },
        {
          "name": "stderr",
          "output_type": "stream",
          "text": [
            "INFO:mealpy.math_based.CGO.OriginalCGO:Solving single objective optimization problem.\n",
            "INFO:mealpy.math_based.CGO.OriginalCGO:>Problem: P, Epoch: 1, Current best: 0.746951219512195, Global best: 0.746951219512195, Runtime: 15.26428 seconds\n",
            "INFO:mealpy.math_based.CGO.OriginalCGO:>Problem: P, Epoch: 2, Current best: 0.7484756097560976, Global best: 0.7484756097560976, Runtime: 19.16625 seconds\n",
            "INFO:mealpy.math_based.CGO.OriginalCGO:>Problem: P, Epoch: 3, Current best: 0.7515243902439024, Global best: 0.7515243902439024, Runtime: 22.71378 seconds\n",
            "INFO:mealpy.math_based.CGO.OriginalCGO:>Problem: P, Epoch: 4, Current best: 0.7530487804878048, Global best: 0.7530487804878048, Runtime: 27.29147 seconds\n",
            "INFO:mealpy.math_based.CGO.OriginalCGO:>Problem: P, Epoch: 5, Current best: 0.7530487804878048, Global best: 0.7530487804878048, Runtime: 29.91399 seconds\n",
            "INFO:mealpy.math_based.CGO.OriginalCGO:>Problem: P, Epoch: 6, Current best: 0.7560975609756099, Global best: 0.7560975609756099, Runtime: 51.63362 seconds\n",
            "INFO:mealpy.math_based.CGO.OriginalCGO:>Problem: P, Epoch: 7, Current best: 0.7560975609756099, Global best: 0.7560975609756099, Runtime: 27.95169 seconds\n",
            "INFO:mealpy.math_based.CGO.OriginalCGO:>Problem: P, Epoch: 8, Current best: 0.7560975609756099, Global best: 0.7560975609756099, Runtime: 29.12404 seconds\n",
            "INFO:mealpy.math_based.CGO.OriginalCGO:>Problem: P, Epoch: 9, Current best: 0.7560975609756099, Global best: 0.7560975609756099, Runtime: 33.04153 seconds\n",
            "INFO:mealpy.math_based.CGO.OriginalCGO:>Problem: P, Epoch: 10, Current best: 0.7560975609756099, Global best: 0.7560975609756099, Runtime: 29.17974 seconds\n"
          ]
        },
        {
          "name": "stdout",
          "output_type": "stream",
          "text": [
            "['LevyES', 'JADE', 'OriginalFPA', 'OriginalFBIO', 'OriginalQSA', 'ImprovedQSA', 'OriginalTLO', 'OriginalAOA', 'OriginalCGO'] [[9, 102, 0.9, 0.7088414634146342, 0.7088414634146342, 3.683679962158203], [11, 100, 0.10379182419578181, 0.7560975609756099, 0.7560975609756099, 2.76029109954834], [9, 1000, 0.011191866902417233, 0.75, 0.75, 6.135713887214661], [8, 105, 0.06788570363665233, 0.7652439024390245, 0.7652439024390245, 11.17553448677063], [10, 1000, 0.016051223033985762, 0.7576219512195121, 0.7576219512195121, 29.175256085395812], [8, 100, 0.18835955621218572, 0.760670731707317, 0.760670731707317, 15.659284162521363], [8, 100, 0.085784144603691, 0.7545731707317073, 0.7545731707317073, 5.743708515167237], [12, 966, 0.01, 0.7530487804878048, 0.7530487804878048, 11.049904227256775], [12, 749, 0.020154216677948894, 0.7560975609756099, 0.7560975609756099, 29.137100100517273]]\n",
            "started\n"
          ]
        },
        {
          "name": "stderr",
          "output_type": "stream",
          "text": [
            "INFO:mealpy.math_based.GBO.OriginalGBO:Solving single objective optimization problem.\n",
            "INFO:mealpy.math_based.GBO.OriginalGBO:>Problem: P, Epoch: 1, Current best: 0.7530487804878048, Global best: 0.7530487804878048, Runtime: 7.13696 seconds\n",
            "INFO:mealpy.math_based.GBO.OriginalGBO:>Problem: P, Epoch: 2, Current best: 0.7530487804878048, Global best: 0.7530487804878048, Runtime: 4.83680 seconds\n",
            "INFO:mealpy.math_based.GBO.OriginalGBO:>Problem: P, Epoch: 3, Current best: 0.7545731707317073, Global best: 0.7545731707317073, Runtime: 3.45639 seconds\n",
            "INFO:mealpy.math_based.GBO.OriginalGBO:>Problem: P, Epoch: 4, Current best: 0.7545731707317073, Global best: 0.7545731707317073, Runtime: 6.03077 seconds\n",
            "INFO:mealpy.math_based.GBO.OriginalGBO:>Problem: P, Epoch: 5, Current best: 0.7545731707317073, Global best: 0.7545731707317073, Runtime: 1.57769 seconds\n",
            "INFO:mealpy.math_based.GBO.OriginalGBO:>Problem: P, Epoch: 6, Current best: 0.7545731707317073, Global best: 0.7545731707317073, Runtime: 5.48139 seconds\n",
            "INFO:mealpy.math_based.GBO.OriginalGBO:>Problem: P, Epoch: 7, Current best: 0.7545731707317073, Global best: 0.7545731707317073, Runtime: 7.06536 seconds\n",
            "INFO:mealpy.math_based.GBO.OriginalGBO:>Problem: P, Epoch: 8, Current best: 0.7621951219512195, Global best: 0.7621951219512195, Runtime: 2.56734 seconds\n",
            "INFO:mealpy.math_based.GBO.OriginalGBO:>Problem: P, Epoch: 9, Current best: 0.7621951219512195, Global best: 0.7621951219512195, Runtime: 3.66372 seconds\n",
            "INFO:mealpy.math_based.GBO.OriginalGBO:>Problem: P, Epoch: 10, Current best: 0.7621951219512195, Global best: 0.7621951219512195, Runtime: 7.76801 seconds\n"
          ]
        },
        {
          "name": "stdout",
          "output_type": "stream",
          "text": [
            "['LevyES', 'JADE', 'OriginalFPA', 'OriginalFBIO', 'OriginalQSA', 'ImprovedQSA', 'OriginalTLO', 'OriginalAOA', 'OriginalCGO', 'OriginalGBO'] [[9, 102, 0.9, 0.7088414634146342, 0.7088414634146342, 3.683679962158203], [11, 100, 0.10379182419578181, 0.7560975609756099, 0.7560975609756099, 2.76029109954834], [9, 1000, 0.011191866902417233, 0.75, 0.75, 6.135713887214661], [8, 105, 0.06788570363665233, 0.7652439024390245, 0.7652439024390245, 11.17553448677063], [10, 1000, 0.016051223033985762, 0.7576219512195121, 0.7576219512195121, 29.175256085395812], [8, 100, 0.18835955621218572, 0.760670731707317, 0.760670731707317, 15.659284162521363], [8, 100, 0.085784144603691, 0.7545731707317073, 0.7545731707317073, 5.743708515167237], [12, 966, 0.01, 0.7530487804878048, 0.7530487804878048, 11.049904227256775], [12, 749, 0.020154216677948894, 0.7560975609756099, 0.7560975609756099, 29.137100100517273], [9, 100, 0.056891606830706105, 0.7621951219512195, 0.7621951219512195, 5.287493014335633]]\n",
            "started\n"
          ]
        },
        {
          "name": "stderr",
          "output_type": "stream",
          "text": [
            "INFO:mealpy.math_based.PSS.OriginalPSS:Solving single objective optimization problem.\n",
            "INFO:mealpy.math_based.PSS.OriginalPSS:>Problem: P, Epoch: 1, Current best: 0.739329268292683, Global best: 0.7454268292682927, Runtime: 2.09553 seconds\n",
            "INFO:mealpy.math_based.PSS.OriginalPSS:>Problem: P, Epoch: 2, Current best: 0.7378048780487805, Global best: 0.7454268292682927, Runtime: 5.46025 seconds\n",
            "INFO:mealpy.math_based.PSS.OriginalPSS:>Problem: P, Epoch: 3, Current best: 0.7301829268292683, Global best: 0.7454268292682927, Runtime: 2.41965 seconds\n",
            "INFO:mealpy.math_based.PSS.OriginalPSS:>Problem: P, Epoch: 4, Current best: 0.7332317073170732, Global best: 0.7454268292682927, Runtime: 2.11921 seconds\n",
            "INFO:mealpy.math_based.PSS.OriginalPSS:>Problem: P, Epoch: 5, Current best: 0.7317073170731707, Global best: 0.7454268292682927, Runtime: 2.30090 seconds\n",
            "INFO:mealpy.math_based.PSS.OriginalPSS:>Problem: P, Epoch: 6, Current best: 0.7439024390243903, Global best: 0.7454268292682927, Runtime: 6.43221 seconds\n",
            "INFO:mealpy.math_based.PSS.OriginalPSS:>Problem: P, Epoch: 7, Current best: 0.7362804878048782, Global best: 0.7454268292682927, Runtime: 1.99339 seconds\n",
            "INFO:mealpy.math_based.PSS.OriginalPSS:>Problem: P, Epoch: 8, Current best: 0.739329268292683, Global best: 0.7454268292682927, Runtime: 1.99471 seconds\n",
            "INFO:mealpy.math_based.PSS.OriginalPSS:>Problem: P, Epoch: 9, Current best: 0.7347560975609757, Global best: 0.7454268292682927, Runtime: 2.17865 seconds\n",
            "INFO:mealpy.math_based.PSS.OriginalPSS:>Problem: P, Epoch: 10, Current best: 0.7286585365853658, Global best: 0.7454268292682927, Runtime: 2.12712 seconds\n",
            "INFO:mealpy.math_based.SCA.OriginalSCA:Solving single objective optimization problem.\n"
          ]
        },
        {
          "name": "stdout",
          "output_type": "stream",
          "text": [
            "['LevyES', 'JADE', 'OriginalFPA', 'OriginalFBIO', 'OriginalQSA', 'ImprovedQSA', 'OriginalTLO', 'OriginalAOA', 'OriginalCGO', 'OriginalGBO', 'OriginalPSS'] [[9, 102, 0.9, 0.7088414634146342, 0.7088414634146342, 3.683679962158203], [11, 100, 0.10379182419578181, 0.7560975609756099, 0.7560975609756099, 2.76029109954834], [9, 1000, 0.011191866902417233, 0.75, 0.75, 6.135713887214661], [8, 105, 0.06788570363665233, 0.7652439024390245, 0.7652439024390245, 11.17553448677063], [10, 1000, 0.016051223033985762, 0.7576219512195121, 0.7576219512195121, 29.175256085395812], [8, 100, 0.18835955621218572, 0.760670731707317, 0.760670731707317, 15.659284162521363], [8, 100, 0.085784144603691, 0.7545731707317073, 0.7545731707317073, 5.743708515167237], [12, 966, 0.01, 0.7530487804878048, 0.7530487804878048, 11.049904227256775], [12, 749, 0.020154216677948894, 0.7560975609756099, 0.7560975609756099, 29.137100100517273], [9, 100, 0.056891606830706105, 0.7621951219512195, 0.7621951219512195, 5.287493014335633], [10, 947, 0.646075343, 0.7286585365853658, 0.7286585365853658, 3.2021466970443724]]\n",
            "started\n"
          ]
        },
        {
          "name": "stderr",
          "output_type": "stream",
          "text": [
            "INFO:mealpy.math_based.SCA.OriginalSCA:>Problem: P, Epoch: 1, Current best: 0.7530487804878048, Global best: 0.7530487804878048, Runtime: 3.91936 seconds\n",
            "INFO:mealpy.math_based.SCA.OriginalSCA:>Problem: P, Epoch: 2, Current best: 0.7530487804878048, Global best: 0.7530487804878048, Runtime: 8.99652 seconds\n",
            "INFO:mealpy.math_based.SCA.OriginalSCA:>Problem: P, Epoch: 3, Current best: 0.7545731707317073, Global best: 0.7545731707317073, Runtime: 5.83182 seconds\n",
            "INFO:mealpy.math_based.SCA.OriginalSCA:>Problem: P, Epoch: 4, Current best: 0.7545731707317073, Global best: 0.7545731707317073, Runtime: 8.92429 seconds\n",
            "INFO:mealpy.math_based.SCA.OriginalSCA:>Problem: P, Epoch: 5, Current best: 0.7545731707317073, Global best: 0.7545731707317073, Runtime: 3.77046 seconds\n",
            "INFO:mealpy.math_based.SCA.OriginalSCA:>Problem: P, Epoch: 6, Current best: 0.7545731707317073, Global best: 0.7545731707317073, Runtime: 8.79473 seconds\n",
            "INFO:mealpy.math_based.SCA.OriginalSCA:>Problem: P, Epoch: 7, Current best: 0.7545731707317073, Global best: 0.7545731707317073, Runtime: 5.77389 seconds\n",
            "INFO:mealpy.math_based.SCA.OriginalSCA:>Problem: P, Epoch: 8, Current best: 0.7545731707317073, Global best: 0.7545731707317073, Runtime: 10.37725 seconds\n",
            "INFO:mealpy.math_based.SCA.OriginalSCA:>Problem: P, Epoch: 9, Current best: 0.7545731707317073, Global best: 0.7545731707317073, Runtime: 9.34960 seconds\n",
            "INFO:mealpy.math_based.SCA.OriginalSCA:>Problem: P, Epoch: 10, Current best: 0.7545731707317073, Global best: 0.7545731707317073, Runtime: 6.22140 seconds\n"
          ]
        },
        {
          "name": "stdout",
          "output_type": "stream",
          "text": [
            "['LevyES', 'JADE', 'OriginalFPA', 'OriginalFBIO', 'OriginalQSA', 'ImprovedQSA', 'OriginalTLO', 'OriginalAOA', 'OriginalCGO', 'OriginalGBO', 'OriginalPSS', 'OriginalSCA'] [[9, 102, 0.9, 0.7088414634146342, 0.7088414634146342, 3.683679962158203], [11, 100, 0.10379182419578181, 0.7560975609756099, 0.7560975609756099, 2.76029109954834], [9, 1000, 0.011191866902417233, 0.75, 0.75, 6.135713887214661], [8, 105, 0.06788570363665233, 0.7652439024390245, 0.7652439024390245, 11.17553448677063], [10, 1000, 0.016051223033985762, 0.7576219512195121, 0.7576219512195121, 29.175256085395812], [8, 100, 0.18835955621218572, 0.760670731707317, 0.760670731707317, 15.659284162521363], [8, 100, 0.085784144603691, 0.7545731707317073, 0.7545731707317073, 5.743708515167237], [12, 966, 0.01, 0.7530487804878048, 0.7530487804878048, 11.049904227256775], [12, 749, 0.020154216677948894, 0.7560975609756099, 0.7560975609756099, 29.137100100517273], [9, 100, 0.056891606830706105, 0.7621951219512195, 0.7621951219512195, 5.287493014335633], [10, 947, 0.646075343, 0.7286585365853658, 0.7286585365853658, 3.2021466970443724], [10, 912, 0.015876347690752298, 0.7545731707317073, 0.7545731707317073, 7.785303521156311]]\n",
            "started\n"
          ]
        },
        {
          "name": "stderr",
          "output_type": "stream",
          "text": [
            "INFO:mealpy.physics_based.ArchOA.OriginalArchOA:Solving single objective optimization problem.\n",
            "INFO:mealpy.physics_based.ArchOA.OriginalArchOA:>Problem: P, Epoch: 1, Current best: 0.7362804878048782, Global best: 0.7362804878048782, Runtime: 5.56810 seconds\n",
            "INFO:mealpy.physics_based.ArchOA.OriginalArchOA:>Problem: P, Epoch: 2, Current best: 0.7454268292682927, Global best: 0.7454268292682927, Runtime: 2.45341 seconds\n",
            "INFO:mealpy.physics_based.ArchOA.OriginalArchOA:>Problem: P, Epoch: 3, Current best: 0.7454268292682927, Global best: 0.7454268292682927, Runtime: 2.53632 seconds\n",
            "INFO:mealpy.physics_based.ArchOA.OriginalArchOA:>Problem: P, Epoch: 4, Current best: 0.7454268292682927, Global best: 0.7454268292682927, Runtime: 3.22322 seconds\n",
            "INFO:mealpy.physics_based.ArchOA.OriginalArchOA:>Problem: P, Epoch: 5, Current best: 0.7454268292682927, Global best: 0.7454268292682927, Runtime: 6.84272 seconds\n",
            "INFO:mealpy.physics_based.ArchOA.OriginalArchOA:>Problem: P, Epoch: 6, Current best: 0.7454268292682927, Global best: 0.7454268292682927, Runtime: 4.31058 seconds\n",
            "INFO:mealpy.physics_based.ArchOA.OriginalArchOA:>Problem: P, Epoch: 7, Current best: 0.7454268292682927, Global best: 0.7454268292682927, Runtime: 6.39126 seconds\n",
            "INFO:mealpy.physics_based.ArchOA.OriginalArchOA:>Problem: P, Epoch: 8, Current best: 0.7454268292682927, Global best: 0.7454268292682927, Runtime: 3.26880 seconds\n",
            "INFO:mealpy.physics_based.ArchOA.OriginalArchOA:>Problem: P, Epoch: 9, Current best: 0.7454268292682927, Global best: 0.7454268292682927, Runtime: 3.43981 seconds\n",
            "INFO:mealpy.physics_based.ArchOA.OriginalArchOA:>Problem: P, Epoch: 10, Current best: 0.7454268292682927, Global best: 0.7454268292682927, Runtime: 1.98029 seconds\n",
            "INFO:mealpy.physics_based.TWO.EnhancedTWO:Solving single objective optimization problem.\n"
          ]
        },
        {
          "name": "stdout",
          "output_type": "stream",
          "text": [
            "['LevyES', 'JADE', 'OriginalFPA', 'OriginalFBIO', 'OriginalQSA', 'ImprovedQSA', 'OriginalTLO', 'OriginalAOA', 'OriginalCGO', 'OriginalGBO', 'OriginalPSS', 'OriginalSCA', 'OriginalArchOA'] [[9, 102, 0.9, 0.7088414634146342, 0.7088414634146342, 3.683679962158203], [11, 100, 0.10379182419578181, 0.7560975609756099, 0.7560975609756099, 2.76029109954834], [9, 1000, 0.011191866902417233, 0.75, 0.75, 6.135713887214661], [8, 105, 0.06788570363665233, 0.7652439024390245, 0.7652439024390245, 11.17553448677063], [10, 1000, 0.016051223033985762, 0.7576219512195121, 0.7576219512195121, 29.175256085395812], [8, 100, 0.18835955621218572, 0.760670731707317, 0.760670731707317, 15.659284162521363], [8, 100, 0.085784144603691, 0.7545731707317073, 0.7545731707317073, 5.743708515167237], [12, 966, 0.01, 0.7530487804878048, 0.7530487804878048, 11.049904227256775], [12, 749, 0.020154216677948894, 0.7560975609756099, 0.7560975609756099, 29.137100100517273], [9, 100, 0.056891606830706105, 0.7621951219512195, 0.7621951219512195, 5.287493014335633], [10, 947, 0.646075343, 0.7286585365853658, 0.7286585365853658, 3.2021466970443724], [10, 912, 0.015876347690752298, 0.7545731707317073, 0.7545731707317073, 7.785303521156311], [10, 617, 0.9, 0.7454268292682927, 0.7454268292682927, 4.30113046169281]]\n",
            "started\n"
          ]
        },
        {
          "name": "stderr",
          "output_type": "stream",
          "text": [
            "INFO:mealpy.physics_based.TWO.EnhancedTWO:>Problem: P, Epoch: 1, Current best: 0.7530487804878048, Global best: 0.7530487804878048, Runtime: 15.96815 seconds\n",
            "INFO:mealpy.physics_based.TWO.EnhancedTWO:>Problem: P, Epoch: 2, Current best: 0.7530487804878048, Global best: 0.7530487804878048, Runtime: 31.00811 seconds\n",
            "INFO:mealpy.physics_based.TWO.EnhancedTWO:>Problem: P, Epoch: 3, Current best: 0.7530487804878048, Global best: 0.7530487804878048, Runtime: 36.96613 seconds\n",
            "INFO:mealpy.physics_based.TWO.EnhancedTWO:>Problem: P, Epoch: 4, Current best: 0.7530487804878048, Global best: 0.7530487804878048, Runtime: 37.44938 seconds\n",
            "INFO:mealpy.physics_based.TWO.EnhancedTWO:>Problem: P, Epoch: 5, Current best: 0.7530487804878048, Global best: 0.7530487804878048, Runtime: 38.19677 seconds\n",
            "INFO:mealpy.physics_based.TWO.EnhancedTWO:>Problem: P, Epoch: 6, Current best: 0.7530487804878048, Global best: 0.7530487804878048, Runtime: 34.46206 seconds\n",
            "INFO:mealpy.physics_based.TWO.EnhancedTWO:>Problem: P, Epoch: 7, Current best: 0.7530487804878048, Global best: 0.7530487804878048, Runtime: 38.81806 seconds\n",
            "/usr/local/lib/python3.10/dist-packages/mealpy/physics_based/TWO.py:91: RuntimeWarning: divide by zero encountered in true_divide\n",
            "  list_weights = np.exp(-(list_fits - maxx) / (maxx - minn))\n",
            "/usr/local/lib/python3.10/dist-packages/mealpy/physics_based/TWO.py:92: RuntimeWarning: invalid value encountered in true_divide\n",
            "  list_weights = list_weights/np.sum(list_weights) + 0.1\n",
            "INFO:mealpy.physics_based.TWO.EnhancedTWO:>Problem: P, Epoch: 8, Current best: 0.7530487804878048, Global best: 0.7530487804878048, Runtime: 38.80914 seconds\n",
            "/usr/local/lib/python3.10/dist-packages/mealpy/physics_based/TWO.py:91: RuntimeWarning: divide by zero encountered in true_divide\n",
            "  list_weights = np.exp(-(list_fits - maxx) / (maxx - minn))\n",
            "/usr/local/lib/python3.10/dist-packages/mealpy/physics_based/TWO.py:92: RuntimeWarning: invalid value encountered in true_divide\n",
            "  list_weights = list_weights/np.sum(list_weights) + 0.1\n",
            "INFO:mealpy.physics_based.TWO.EnhancedTWO:>Problem: P, Epoch: 9, Current best: 0.7530487804878048, Global best: 0.7530487804878048, Runtime: 38.64299 seconds\n",
            "/usr/local/lib/python3.10/dist-packages/mealpy/physics_based/TWO.py:91: RuntimeWarning: divide by zero encountered in true_divide\n",
            "  list_weights = np.exp(-(list_fits - maxx) / (maxx - minn))\n",
            "/usr/local/lib/python3.10/dist-packages/mealpy/physics_based/TWO.py:92: RuntimeWarning: invalid value encountered in true_divide\n",
            "  list_weights = list_weights/np.sum(list_weights) + 0.1\n",
            "INFO:mealpy.physics_based.TWO.EnhancedTWO:>Problem: P, Epoch: 10, Current best: 0.7530487804878048, Global best: 0.7530487804878048, Runtime: 37.44997 seconds\n",
            "INFO:mealpy.system_based.AEO.EnhancedAEO:Solving single objective optimization problem.\n"
          ]
        },
        {
          "name": "stdout",
          "output_type": "stream",
          "text": [
            "['LevyES', 'JADE', 'OriginalFPA', 'OriginalFBIO', 'OriginalQSA', 'ImprovedQSA', 'OriginalTLO', 'OriginalAOA', 'OriginalCGO', 'OriginalGBO', 'OriginalPSS', 'OriginalSCA', 'OriginalArchOA', 'EnhancedTWO'] [[9, 102, 0.9, 0.7088414634146342, 0.7088414634146342, 3.683679962158203], [11, 100, 0.10379182419578181, 0.7560975609756099, 0.7560975609756099, 2.76029109954834], [9, 1000, 0.011191866902417233, 0.75, 0.75, 6.135713887214661], [8, 105, 0.06788570363665233, 0.7652439024390245, 0.7652439024390245, 11.17553448677063], [10, 1000, 0.016051223033985762, 0.7576219512195121, 0.7576219512195121, 29.175256085395812], [8, 100, 0.18835955621218572, 0.760670731707317, 0.760670731707317, 15.659284162521363], [8, 100, 0.085784144603691, 0.7545731707317073, 0.7545731707317073, 5.743708515167237], [12, 966, 0.01, 0.7530487804878048, 0.7530487804878048, 11.049904227256775], [12, 749, 0.020154216677948894, 0.7560975609756099, 0.7560975609756099, 29.137100100517273], [9, 100, 0.056891606830706105, 0.7621951219512195, 0.7621951219512195, 5.287493014335633], [10, 947, 0.646075343, 0.7286585365853658, 0.7286585365853658, 3.2021466970443724], [10, 912, 0.015876347690752298, 0.7545731707317073, 0.7545731707317073, 7.785303521156311], [10, 617, 0.9, 0.7454268292682927, 0.7454268292682927, 4.30113046169281], [10, 998, 0.01, 0.7530487804878048, 0.7530487804878048, 35.57842907905579]]\n",
            "started\n"
          ]
        },
        {
          "name": "stderr",
          "output_type": "stream",
          "text": [
            "INFO:mealpy.system_based.AEO.EnhancedAEO:>Problem: P, Epoch: 1, Current best: 0.746951219512195, Global best: 0.746951219512195, Runtime: 10.93768 seconds\n",
            "INFO:mealpy.system_based.AEO.EnhancedAEO:>Problem: P, Epoch: 2, Current best: 0.7530487804878048, Global best: 0.7530487804878048, Runtime: 11.36229 seconds\n",
            "INFO:mealpy.system_based.AEO.EnhancedAEO:>Problem: P, Epoch: 3, Current best: 0.7530487804878048, Global best: 0.7530487804878048, Runtime: 13.98879 seconds\n",
            "INFO:mealpy.system_based.AEO.EnhancedAEO:>Problem: P, Epoch: 4, Current best: 0.7530487804878048, Global best: 0.7530487804878048, Runtime: 17.02192 seconds\n",
            "INFO:mealpy.system_based.AEO.EnhancedAEO:>Problem: P, Epoch: 5, Current best: 0.7530487804878048, Global best: 0.7530487804878048, Runtime: 17.51216 seconds\n",
            "INFO:mealpy.system_based.AEO.EnhancedAEO:>Problem: P, Epoch: 6, Current best: 0.7530487804878048, Global best: 0.7530487804878048, Runtime: 20.52975 seconds\n",
            "INFO:mealpy.system_based.AEO.EnhancedAEO:>Problem: P, Epoch: 7, Current best: 0.7530487804878048, Global best: 0.7530487804878048, Runtime: 17.53092 seconds\n",
            "INFO:mealpy.system_based.AEO.EnhancedAEO:>Problem: P, Epoch: 8, Current best: 0.7545731707317073, Global best: 0.7545731707317073, Runtime: 20.45862 seconds\n",
            "INFO:mealpy.system_based.AEO.EnhancedAEO:>Problem: P, Epoch: 9, Current best: 0.7545731707317073, Global best: 0.7545731707317073, Runtime: 20.88329 seconds\n",
            "INFO:mealpy.system_based.AEO.EnhancedAEO:>Problem: P, Epoch: 10, Current best: 0.7545731707317073, Global best: 0.7545731707317073, Runtime: 22.99271 seconds\n"
          ]
        },
        {
          "name": "stdout",
          "output_type": "stream",
          "text": [
            "['LevyES', 'JADE', 'OriginalFPA', 'OriginalFBIO', 'OriginalQSA', 'ImprovedQSA', 'OriginalTLO', 'OriginalAOA', 'OriginalCGO', 'OriginalGBO', 'OriginalPSS', 'OriginalSCA', 'OriginalArchOA', 'EnhancedTWO', 'EnhancedAEO'] [[9, 102, 0.9, 0.7088414634146342, 0.7088414634146342, 3.683679962158203], [11, 100, 0.10379182419578181, 0.7560975609756099, 0.7560975609756099, 2.76029109954834], [9, 1000, 0.011191866902417233, 0.75, 0.75, 6.135713887214661], [8, 105, 0.06788570363665233, 0.7652439024390245, 0.7652439024390245, 11.17553448677063], [10, 1000, 0.016051223033985762, 0.7576219512195121, 0.7576219512195121, 29.175256085395812], [8, 100, 0.18835955621218572, 0.760670731707317, 0.760670731707317, 15.659284162521363], [8, 100, 0.085784144603691, 0.7545731707317073, 0.7545731707317073, 5.743708515167237], [12, 966, 0.01, 0.7530487804878048, 0.7530487804878048, 11.049904227256775], [12, 749, 0.020154216677948894, 0.7560975609756099, 0.7560975609756099, 29.137100100517273], [9, 100, 0.056891606830706105, 0.7621951219512195, 0.7621951219512195, 5.287493014335633], [10, 947, 0.646075343, 0.7286585365853658, 0.7286585365853658, 3.2021466970443724], [10, 912, 0.015876347690752298, 0.7545731707317073, 0.7545731707317073, 7.785303521156311], [10, 617, 0.9, 0.7454268292682927, 0.7454268292682927, 4.30113046169281], [10, 998, 0.01, 0.7530487804878048, 0.7530487804878048, 35.57842907905579], [10, 776, 0.01000701406974951, 0.7545731707317073, 0.7545731707317073, 17.617431354522704]]\n",
            "started\n"
          ]
        },
        {
          "name": "stderr",
          "output_type": "stream",
          "text": [
            "INFO:mealpy.system_based.AEO.OriginalAEO:Solving single objective optimization problem.\n",
            "INFO:mealpy.system_based.AEO.OriginalAEO:>Problem: P, Epoch: 1, Current best: 0.7515243902439024, Global best: 0.7515243902439024, Runtime: 12.93590 seconds\n",
            "INFO:mealpy.system_based.AEO.OriginalAEO:>Problem: P, Epoch: 2, Current best: 0.7545731707317073, Global best: 0.7545731707317073, Runtime: 20.00170 seconds\n",
            "INFO:mealpy.system_based.AEO.OriginalAEO:>Problem: P, Epoch: 3, Current best: 0.7545731707317073, Global best: 0.7545731707317073, Runtime: 21.47759 seconds\n",
            "INFO:mealpy.system_based.AEO.OriginalAEO:>Problem: P, Epoch: 4, Current best: 0.7545731707317073, Global best: 0.7545731707317073, Runtime: 23.25723 seconds\n",
            "INFO:mealpy.system_based.AEO.OriginalAEO:>Problem: P, Epoch: 5, Current best: 0.7545731707317073, Global best: 0.7545731707317073, Runtime: 21.56331 seconds\n",
            "INFO:mealpy.system_based.AEO.OriginalAEO:>Problem: P, Epoch: 6, Current best: 0.7545731707317073, Global best: 0.7545731707317073, Runtime: 21.40312 seconds\n",
            "INFO:mealpy.system_based.AEO.OriginalAEO:>Problem: P, Epoch: 7, Current best: 0.7545731707317073, Global best: 0.7545731707317073, Runtime: 23.84180 seconds\n",
            "INFO:mealpy.system_based.AEO.OriginalAEO:>Problem: P, Epoch: 8, Current best: 0.7545731707317073, Global best: 0.7545731707317073, Runtime: 22.49032 seconds\n",
            "INFO:mealpy.system_based.AEO.OriginalAEO:>Problem: P, Epoch: 9, Current best: 0.7545731707317073, Global best: 0.7545731707317073, Runtime: 21.39548 seconds\n",
            "INFO:mealpy.system_based.AEO.OriginalAEO:>Problem: P, Epoch: 10, Current best: 0.7545731707317073, Global best: 0.7545731707317073, Runtime: 23.99760 seconds\n"
          ]
        },
        {
          "name": "stdout",
          "output_type": "stream",
          "text": [
            "['LevyES', 'JADE', 'OriginalFPA', 'OriginalFBIO', 'OriginalQSA', 'ImprovedQSA', 'OriginalTLO', 'OriginalAOA', 'OriginalCGO', 'OriginalGBO', 'OriginalPSS', 'OriginalSCA', 'OriginalArchOA', 'EnhancedTWO', 'EnhancedAEO', 'OriginalAEO'] [[9, 102, 0.9, 0.7088414634146342, 0.7088414634146342, 3.683679962158203], [11, 100, 0.10379182419578181, 0.7560975609756099, 0.7560975609756099, 2.76029109954834], [9, 1000, 0.011191866902417233, 0.75, 0.75, 6.135713887214661], [8, 105, 0.06788570363665233, 0.7652439024390245, 0.7652439024390245, 11.17553448677063], [10, 1000, 0.016051223033985762, 0.7576219512195121, 0.7576219512195121, 29.175256085395812], [8, 100, 0.18835955621218572, 0.760670731707317, 0.760670731707317, 15.659284162521363], [8, 100, 0.085784144603691, 0.7545731707317073, 0.7545731707317073, 5.743708515167237], [12, 966, 0.01, 0.7530487804878048, 0.7530487804878048, 11.049904227256775], [12, 749, 0.020154216677948894, 0.7560975609756099, 0.7560975609756099, 29.137100100517273], [9, 100, 0.056891606830706105, 0.7621951219512195, 0.7621951219512195, 5.287493014335633], [10, 947, 0.646075343, 0.7286585365853658, 0.7286585365853658, 3.2021466970443724], [10, 912, 0.015876347690752298, 0.7545731707317073, 0.7545731707317073, 7.785303521156311], [10, 617, 0.9, 0.7454268292682927, 0.7454268292682927, 4.30113046169281], [10, 998, 0.01, 0.7530487804878048, 0.7530487804878048, 35.57842907905579], [10, 776, 0.01000701406974951, 0.7545731707317073, 0.7545731707317073, 17.617431354522704], [12, 937, 0.01, 0.7545731707317073, 0.7545731707317073, 21.534763360023497]]\n",
            "started\n"
          ]
        },
        {
          "name": "stderr",
          "output_type": "stream",
          "text": [
            "INFO:mealpy.physics_based.TWO.LevyTWO:Solving single objective optimization problem.\n",
            "INFO:mealpy.physics_based.TWO.LevyTWO:>Problem: P, Epoch: 1, Current best: 0.7378048780487805, Global best: 0.7378048780487805, Runtime: 6.43223 seconds\n",
            "INFO:mealpy.physics_based.TWO.LevyTWO:>Problem: P, Epoch: 2, Current best: 0.7378048780487805, Global best: 0.7378048780487805, Runtime: 3.49487 seconds\n",
            "INFO:mealpy.physics_based.TWO.LevyTWO:>Problem: P, Epoch: 3, Current best: 0.7530487804878048, Global best: 0.7530487804878048, Runtime: 4.06571 seconds\n",
            "INFO:mealpy.physics_based.TWO.LevyTWO:>Problem: P, Epoch: 4, Current best: 0.7530487804878048, Global best: 0.7530487804878048, Runtime: 6.76563 seconds\n",
            "INFO:mealpy.physics_based.TWO.LevyTWO:>Problem: P, Epoch: 5, Current best: 0.7530487804878048, Global best: 0.7530487804878048, Runtime: 4.75407 seconds\n",
            "INFO:mealpy.physics_based.TWO.LevyTWO:>Problem: P, Epoch: 6, Current best: 0.7530487804878048, Global best: 0.7530487804878048, Runtime: 7.70195 seconds\n",
            "INFO:mealpy.physics_based.TWO.LevyTWO:>Problem: P, Epoch: 7, Current best: 0.7530487804878048, Global best: 0.7530487804878048, Runtime: 4.42153 seconds\n",
            "INFO:mealpy.physics_based.TWO.LevyTWO:>Problem: P, Epoch: 8, Current best: 0.7530487804878048, Global best: 0.7530487804878048, Runtime: 8.42873 seconds\n",
            "INFO:mealpy.physics_based.TWO.LevyTWO:>Problem: P, Epoch: 9, Current best: 0.7530487804878048, Global best: 0.7530487804878048, Runtime: 5.65353 seconds\n",
            "INFO:mealpy.physics_based.TWO.LevyTWO:>Problem: P, Epoch: 10, Current best: 0.7530487804878048, Global best: 0.7530487804878048, Runtime: 7.29142 seconds\n",
            "INFO:mealpy.physics_based.MVO.OriginalMVO:Solving single objective optimization problem.\n"
          ]
        },
        {
          "name": "stdout",
          "output_type": "stream",
          "text": [
            "['LevyES', 'JADE', 'OriginalFPA', 'OriginalFBIO', 'OriginalQSA', 'ImprovedQSA', 'OriginalTLO', 'OriginalAOA', 'OriginalCGO', 'OriginalGBO', 'OriginalPSS', 'OriginalSCA', 'OriginalArchOA', 'EnhancedTWO', 'EnhancedAEO', 'OriginalAEO', 'LevyTWO'] [[9, 102, 0.9, 0.7088414634146342, 0.7088414634146342, 3.683679962158203], [11, 100, 0.10379182419578181, 0.7560975609756099, 0.7560975609756099, 2.76029109954834], [9, 1000, 0.011191866902417233, 0.75, 0.75, 6.135713887214661], [8, 105, 0.06788570363665233, 0.7652439024390245, 0.7652439024390245, 11.17553448677063], [10, 1000, 0.016051223033985762, 0.7576219512195121, 0.7576219512195121, 29.175256085395812], [8, 100, 0.18835955621218572, 0.760670731707317, 0.760670731707317, 15.659284162521363], [8, 100, 0.085784144603691, 0.7545731707317073, 0.7545731707317073, 5.743708515167237], [12, 966, 0.01, 0.7530487804878048, 0.7530487804878048, 11.049904227256775], [12, 749, 0.020154216677948894, 0.7560975609756099, 0.7560975609756099, 29.137100100517273], [9, 100, 0.056891606830706105, 0.7621951219512195, 0.7621951219512195, 5.287493014335633], [10, 947, 0.646075343, 0.7286585365853658, 0.7286585365853658, 3.2021466970443724], [10, 912, 0.015876347690752298, 0.7545731707317073, 0.7545731707317073, 7.785303521156311], [10, 617, 0.9, 0.7454268292682927, 0.7454268292682927, 4.30113046169281], [10, 998, 0.01, 0.7530487804878048, 0.7530487804878048, 35.57842907905579], [10, 776, 0.01000701406974951, 0.7545731707317073, 0.7545731707317073, 17.617431354522704], [12, 937, 0.01, 0.7545731707317073, 0.7545731707317073, 21.534763360023497], [9, 782, 0.01, 0.7530487804878048, 0.7530487804878048, 6.161834239959717]]\n",
            "started\n"
          ]
        },
        {
          "name": "stderr",
          "output_type": "stream",
          "text": [
            "INFO:mealpy.physics_based.MVO.OriginalMVO:>Problem: P, Epoch: 1, Current best: 0.75, Global best: 0.75, Runtime: 5.21128 seconds\n",
            "INFO:mealpy.physics_based.MVO.OriginalMVO:>Problem: P, Epoch: 2, Current best: 0.75, Global best: 0.75, Runtime: 10.38510 seconds\n",
            "INFO:mealpy.physics_based.MVO.OriginalMVO:>Problem: P, Epoch: 3, Current best: 0.75, Global best: 0.75, Runtime: 10.34625 seconds\n",
            "INFO:mealpy.physics_based.MVO.OriginalMVO:>Problem: P, Epoch: 4, Current best: 0.75, Global best: 0.75, Runtime: 6.70609 seconds\n",
            "INFO:mealpy.physics_based.MVO.OriginalMVO:>Problem: P, Epoch: 5, Current best: 0.7530487804878048, Global best: 0.7530487804878048, Runtime: 10.67494 seconds\n",
            "INFO:mealpy.physics_based.MVO.OriginalMVO:>Problem: P, Epoch: 6, Current best: 0.7530487804878048, Global best: 0.7530487804878048, Runtime: 10.80606 seconds\n",
            "INFO:mealpy.physics_based.MVO.OriginalMVO:>Problem: P, Epoch: 7, Current best: 0.7530487804878048, Global best: 0.7530487804878048, Runtime: 11.07398 seconds\n",
            "INFO:mealpy.physics_based.MVO.OriginalMVO:>Problem: P, Epoch: 8, Current best: 0.7530487804878048, Global best: 0.7530487804878048, Runtime: 7.50612 seconds\n",
            "INFO:mealpy.physics_based.MVO.OriginalMVO:>Problem: P, Epoch: 9, Current best: 0.7545731707317073, Global best: 0.7545731707317073, Runtime: 11.52384 seconds\n",
            "INFO:mealpy.physics_based.MVO.OriginalMVO:>Problem: P, Epoch: 10, Current best: 0.7545731707317073, Global best: 0.7545731707317073, Runtime: 11.57864 seconds\n",
            "INFO:mealpy.physics_based.EO.AdaptiveEO:Solving single objective optimization problem.\n"
          ]
        },
        {
          "name": "stdout",
          "output_type": "stream",
          "text": [
            "['LevyES', 'JADE', 'OriginalFPA', 'OriginalFBIO', 'OriginalQSA', 'ImprovedQSA', 'OriginalTLO', 'OriginalAOA', 'OriginalCGO', 'OriginalGBO', 'OriginalPSS', 'OriginalSCA', 'OriginalArchOA', 'EnhancedTWO', 'EnhancedAEO', 'OriginalAEO', 'LevyTWO', 'OriginalMVO'] [[9, 102, 0.9, 0.7088414634146342, 0.7088414634146342, 3.683679962158203], [11, 100, 0.10379182419578181, 0.7560975609756099, 0.7560975609756099, 2.76029109954834], [9, 1000, 0.011191866902417233, 0.75, 0.75, 6.135713887214661], [8, 105, 0.06788570363665233, 0.7652439024390245, 0.7652439024390245, 11.17553448677063], [10, 1000, 0.016051223033985762, 0.7576219512195121, 0.7576219512195121, 29.175256085395812], [8, 100, 0.18835955621218572, 0.760670731707317, 0.760670731707317, 15.659284162521363], [8, 100, 0.085784144603691, 0.7545731707317073, 0.7545731707317073, 5.743708515167237], [12, 966, 0.01, 0.7530487804878048, 0.7530487804878048, 11.049904227256775], [12, 749, 0.020154216677948894, 0.7560975609756099, 0.7560975609756099, 29.137100100517273], [9, 100, 0.056891606830706105, 0.7621951219512195, 0.7621951219512195, 5.287493014335633], [10, 947, 0.646075343, 0.7286585365853658, 0.7286585365853658, 3.2021466970443724], [10, 912, 0.015876347690752298, 0.7545731707317073, 0.7545731707317073, 7.785303521156311], [10, 617, 0.9, 0.7454268292682927, 0.7454268292682927, 4.30113046169281], [10, 998, 0.01, 0.7530487804878048, 0.7530487804878048, 35.57842907905579], [10, 776, 0.01000701406974951, 0.7545731707317073, 0.7545731707317073, 17.617431354522704], [12, 937, 0.01, 0.7545731707317073, 0.7545731707317073, 21.534763360023497], [9, 782, 0.01, 0.7530487804878048, 0.7530487804878048, 6.161834239959717], [10, 751, 0.010456349856138948, 0.7545731707317073, 0.7545731707317073, 9.832323932647705]]\n",
            "started\n"
          ]
        },
        {
          "name": "stderr",
          "output_type": "stream",
          "text": [
            "INFO:mealpy.physics_based.EO.AdaptiveEO:>Problem: P, Epoch: 1, Current best: 0.7454268292682927, Global best: 0.7454268292682927, Runtime: 7.73363 seconds\n",
            "INFO:mealpy.physics_based.EO.AdaptiveEO:>Problem: P, Epoch: 2, Current best: 0.746951219512195, Global best: 0.746951219512195, Runtime: 5.59210 seconds\n",
            "INFO:mealpy.physics_based.EO.AdaptiveEO:>Problem: P, Epoch: 3, Current best: 0.7484756097560976, Global best: 0.7484756097560976, Runtime: 8.16587 seconds\n",
            "INFO:mealpy.physics_based.EO.AdaptiveEO:>Problem: P, Epoch: 4, Current best: 0.7484756097560976, Global best: 0.7484756097560976, Runtime: 5.33375 seconds\n",
            "INFO:mealpy.physics_based.EO.AdaptiveEO:>Problem: P, Epoch: 5, Current best: 0.7515243902439024, Global best: 0.7515243902439024, Runtime: 7.93379 seconds\n",
            "INFO:mealpy.physics_based.EO.AdaptiveEO:>Problem: P, Epoch: 6, Current best: 0.7515243902439024, Global best: 0.7515243902439024, Runtime: 6.50748 seconds\n",
            "INFO:mealpy.physics_based.EO.AdaptiveEO:>Problem: P, Epoch: 7, Current best: 0.7515243902439024, Global best: 0.7515243902439024, Runtime: 11.89112 seconds\n",
            "INFO:mealpy.physics_based.EO.AdaptiveEO:>Problem: P, Epoch: 8, Current best: 0.7576219512195121, Global best: 0.7576219512195121, Runtime: 10.44069 seconds\n",
            "INFO:mealpy.physics_based.EO.AdaptiveEO:>Problem: P, Epoch: 9, Current best: 0.7576219512195121, Global best: 0.7576219512195121, Runtime: 11.53761 seconds\n",
            "INFO:mealpy.physics_based.EO.AdaptiveEO:>Problem: P, Epoch: 10, Current best: 0.7576219512195121, Global best: 0.7576219512195121, Runtime: 12.96272 seconds\n",
            "INFO:mealpy.physics_based.EO.ModifiedEO:Solving single objective optimization problem.\n"
          ]
        },
        {
          "name": "stdout",
          "output_type": "stream",
          "text": [
            "['LevyES', 'JADE', 'OriginalFPA', 'OriginalFBIO', 'OriginalQSA', 'ImprovedQSA', 'OriginalTLO', 'OriginalAOA', 'OriginalCGO', 'OriginalGBO', 'OriginalPSS', 'OriginalSCA', 'OriginalArchOA', 'EnhancedTWO', 'EnhancedAEO', 'OriginalAEO', 'LevyTWO', 'OriginalMVO', 'AdaptiveEO'] [[9, 102, 0.9, 0.7088414634146342, 0.7088414634146342, 3.683679962158203], [11, 100, 0.10379182419578181, 0.7560975609756099, 0.7560975609756099, 2.76029109954834], [9, 1000, 0.011191866902417233, 0.75, 0.75, 6.135713887214661], [8, 105, 0.06788570363665233, 0.7652439024390245, 0.7652439024390245, 11.17553448677063], [10, 1000, 0.016051223033985762, 0.7576219512195121, 0.7576219512195121, 29.175256085395812], [8, 100, 0.18835955621218572, 0.760670731707317, 0.760670731707317, 15.659284162521363], [8, 100, 0.085784144603691, 0.7545731707317073, 0.7545731707317073, 5.743708515167237], [12, 966, 0.01, 0.7530487804878048, 0.7530487804878048, 11.049904227256775], [12, 749, 0.020154216677948894, 0.7560975609756099, 0.7560975609756099, 29.137100100517273], [9, 100, 0.056891606830706105, 0.7621951219512195, 0.7621951219512195, 5.287493014335633], [10, 947, 0.646075343, 0.7286585365853658, 0.7286585365853658, 3.2021466970443724], [10, 912, 0.015876347690752298, 0.7545731707317073, 0.7545731707317073, 7.785303521156311], [10, 617, 0.9, 0.7454268292682927, 0.7454268292682927, 4.30113046169281], [10, 998, 0.01, 0.7530487804878048, 0.7530487804878048, 35.57842907905579], [10, 776, 0.01000701406974951, 0.7545731707317073, 0.7545731707317073, 17.617431354522704], [12, 937, 0.01, 0.7545731707317073, 0.7545731707317073, 21.534763360023497], [9, 782, 0.01, 0.7530487804878048, 0.7530487804878048, 6.161834239959717], [10, 751, 0.010456349856138948, 0.7545731707317073, 0.7545731707317073, 9.832323932647705], [9, 556, 0.014094775557975212, 0.7576219512195121, 0.7576219512195121, 9.080123209953308]]\n",
            "started\n"
          ]
        },
        {
          "name": "stderr",
          "output_type": "stream",
          "text": [
            "INFO:mealpy.physics_based.EO.ModifiedEO:>Problem: P, Epoch: 1, Current best: 0.7530487804878048, Global best: 0.7530487804878048, Runtime: 4.75177 seconds\n",
            "INFO:mealpy.physics_based.EO.ModifiedEO:>Problem: P, Epoch: 2, Current best: 0.7530487804878048, Global best: 0.7530487804878048, Runtime: 10.43340 seconds\n",
            "INFO:mealpy.physics_based.EO.ModifiedEO:>Problem: P, Epoch: 3, Current best: 0.7530487804878048, Global best: 0.7530487804878048, Runtime: 7.82689 seconds\n",
            "INFO:mealpy.physics_based.EO.ModifiedEO:>Problem: P, Epoch: 4, Current best: 0.7530487804878048, Global best: 0.7530487804878048, Runtime: 6.27666 seconds\n",
            "INFO:mealpy.physics_based.EO.ModifiedEO:>Problem: P, Epoch: 5, Current best: 0.7530487804878048, Global best: 0.7530487804878048, Runtime: 10.59360 seconds\n",
            "INFO:mealpy.physics_based.EO.ModifiedEO:>Problem: P, Epoch: 6, Current best: 0.7530487804878048, Global best: 0.7530487804878048, Runtime: 5.21800 seconds\n",
            "INFO:mealpy.physics_based.EO.ModifiedEO:>Problem: P, Epoch: 7, Current best: 0.7530487804878048, Global best: 0.7530487804878048, Runtime: 9.48005 seconds\n",
            "INFO:mealpy.physics_based.EO.ModifiedEO:>Problem: P, Epoch: 8, Current best: 0.7530487804878048, Global best: 0.7530487804878048, Runtime: 12.03508 seconds\n",
            "INFO:mealpy.physics_based.EO.ModifiedEO:>Problem: P, Epoch: 9, Current best: 0.7530487804878048, Global best: 0.7530487804878048, Runtime: 10.37210 seconds\n",
            "INFO:mealpy.physics_based.EO.ModifiedEO:>Problem: P, Epoch: 10, Current best: 0.7530487804878048, Global best: 0.7530487804878048, Runtime: 12.35780 seconds\n",
            "INFO:mealpy.system_based.GCO.OriginalGCO:Solving single objective optimization problem.\n"
          ]
        },
        {
          "name": "stdout",
          "output_type": "stream",
          "text": [
            "['LevyES', 'JADE', 'OriginalFPA', 'OriginalFBIO', 'OriginalQSA', 'ImprovedQSA', 'OriginalTLO', 'OriginalAOA', 'OriginalCGO', 'OriginalGBO', 'OriginalPSS', 'OriginalSCA', 'OriginalArchOA', 'EnhancedTWO', 'EnhancedAEO', 'OriginalAEO', 'LevyTWO', 'OriginalMVO', 'AdaptiveEO', 'ModifiedEO'] [[9, 102, 0.9, 0.7088414634146342, 0.7088414634146342, 3.683679962158203], [11, 100, 0.10379182419578181, 0.7560975609756099, 0.7560975609756099, 2.76029109954834], [9, 1000, 0.011191866902417233, 0.75, 0.75, 6.135713887214661], [8, 105, 0.06788570363665233, 0.7652439024390245, 0.7652439024390245, 11.17553448677063], [10, 1000, 0.016051223033985762, 0.7576219512195121, 0.7576219512195121, 29.175256085395812], [8, 100, 0.18835955621218572, 0.760670731707317, 0.760670731707317, 15.659284162521363], [8, 100, 0.085784144603691, 0.7545731707317073, 0.7545731707317073, 5.743708515167237], [12, 966, 0.01, 0.7530487804878048, 0.7530487804878048, 11.049904227256775], [12, 749, 0.020154216677948894, 0.7560975609756099, 0.7560975609756099, 29.137100100517273], [9, 100, 0.056891606830706105, 0.7621951219512195, 0.7621951219512195, 5.287493014335633], [10, 947, 0.646075343, 0.7286585365853658, 0.7286585365853658, 3.2021466970443724], [10, 912, 0.015876347690752298, 0.7545731707317073, 0.7545731707317073, 7.785303521156311], [10, 617, 0.9, 0.7454268292682927, 0.7454268292682927, 4.30113046169281], [10, 998, 0.01, 0.7530487804878048, 0.7530487804878048, 35.57842907905579], [10, 776, 0.01000701406974951, 0.7545731707317073, 0.7545731707317073, 17.617431354522704], [12, 937, 0.01, 0.7545731707317073, 0.7545731707317073, 21.534763360023497], [9, 782, 0.01, 0.7530487804878048, 0.7530487804878048, 6.161834239959717], [10, 751, 0.010456349856138948, 0.7545731707317073, 0.7545731707317073, 9.832323932647705], [9, 556, 0.014094775557975212, 0.7576219512195121, 0.7576219512195121, 9.080123209953308], [12, 838, 0.01, 0.7530487804878048, 0.7530487804878048, 9.234201622009277]]\n",
            "started\n"
          ]
        },
        {
          "name": "stderr",
          "output_type": "stream",
          "text": [
            "INFO:mealpy.system_based.GCO.OriginalGCO:>Problem: P, Epoch: 1, Current best: 0.75, Global best: 0.75, Runtime: 4.53159 seconds\n",
            "INFO:mealpy.system_based.GCO.OriginalGCO:>Problem: P, Epoch: 2, Current best: 0.7530487804878048, Global best: 0.7530487804878048, Runtime: 7.69076 seconds\n",
            "INFO:mealpy.system_based.GCO.OriginalGCO:>Problem: P, Epoch: 3, Current best: 0.7530487804878048, Global best: 0.7530487804878048, Runtime: 2.34130 seconds\n",
            "INFO:mealpy.system_based.GCO.OriginalGCO:>Problem: P, Epoch: 4, Current best: 0.7530487804878048, Global best: 0.7530487804878048, Runtime: 4.90115 seconds\n",
            "INFO:mealpy.system_based.GCO.OriginalGCO:>Problem: P, Epoch: 5, Current best: 0.7530487804878048, Global best: 0.7530487804878048, Runtime: 8.56176 seconds\n",
            "INFO:mealpy.system_based.GCO.OriginalGCO:>Problem: P, Epoch: 6, Current best: 0.7530487804878048, Global best: 0.7530487804878048, Runtime: 3.40371 seconds\n",
            "INFO:mealpy.system_based.GCO.OriginalGCO:>Problem: P, Epoch: 7, Current best: 0.7530487804878048, Global best: 0.7530487804878048, Runtime: 9.17469 seconds\n",
            "INFO:mealpy.system_based.GCO.OriginalGCO:>Problem: P, Epoch: 8, Current best: 0.7530487804878048, Global best: 0.7530487804878048, Runtime: 5.83124 seconds\n",
            "INFO:mealpy.system_based.GCO.OriginalGCO:>Problem: P, Epoch: 9, Current best: 0.7530487804878048, Global best: 0.7530487804878048, Runtime: 11.82159 seconds\n",
            "INFO:mealpy.system_based.GCO.OriginalGCO:>Problem: P, Epoch: 10, Current best: 0.7530487804878048, Global best: 0.7530487804878048, Runtime: 9.29823 seconds\n",
            "INFO:mealpy.swarm_based.ALO.OriginalALO:Solving single objective optimization problem.\n"
          ]
        },
        {
          "name": "stdout",
          "output_type": "stream",
          "text": [
            "['LevyES', 'JADE', 'OriginalFPA', 'OriginalFBIO', 'OriginalQSA', 'ImprovedQSA', 'OriginalTLO', 'OriginalAOA', 'OriginalCGO', 'OriginalGBO', 'OriginalPSS', 'OriginalSCA', 'OriginalArchOA', 'EnhancedTWO', 'EnhancedAEO', 'OriginalAEO', 'LevyTWO', 'OriginalMVO', 'AdaptiveEO', 'ModifiedEO', 'OriginalGCO'] [[9, 102, 0.9, 0.7088414634146342, 0.7088414634146342, 3.683679962158203], [11, 100, 0.10379182419578181, 0.7560975609756099, 0.7560975609756099, 2.76029109954834], [9, 1000, 0.011191866902417233, 0.75, 0.75, 6.135713887214661], [8, 105, 0.06788570363665233, 0.7652439024390245, 0.7652439024390245, 11.17553448677063], [10, 1000, 0.016051223033985762, 0.7576219512195121, 0.7576219512195121, 29.175256085395812], [8, 100, 0.18835955621218572, 0.760670731707317, 0.760670731707317, 15.659284162521363], [8, 100, 0.085784144603691, 0.7545731707317073, 0.7545731707317073, 5.743708515167237], [12, 966, 0.01, 0.7530487804878048, 0.7530487804878048, 11.049904227256775], [12, 749, 0.020154216677948894, 0.7560975609756099, 0.7560975609756099, 29.137100100517273], [9, 100, 0.056891606830706105, 0.7621951219512195, 0.7621951219512195, 5.287493014335633], [10, 947, 0.646075343, 0.7286585365853658, 0.7286585365853658, 3.2021466970443724], [10, 912, 0.015876347690752298, 0.7545731707317073, 0.7545731707317073, 7.785303521156311], [10, 617, 0.9, 0.7454268292682927, 0.7454268292682927, 4.30113046169281], [10, 998, 0.01, 0.7530487804878048, 0.7530487804878048, 35.57842907905579], [10, 776, 0.01000701406974951, 0.7545731707317073, 0.7545731707317073, 17.617431354522704], [12, 937, 0.01, 0.7545731707317073, 0.7545731707317073, 21.534763360023497], [9, 782, 0.01, 0.7530487804878048, 0.7530487804878048, 6.161834239959717], [10, 751, 0.010456349856138948, 0.7545731707317073, 0.7545731707317073, 9.832323932647705], [9, 556, 0.014094775557975212, 0.7576219512195121, 0.7576219512195121, 9.080123209953308], [12, 838, 0.01, 0.7530487804878048, 0.7530487804878048, 9.234201622009277], [10, 1000, 0.01, 0.7530487804878048, 0.7530487804878048, 7.00337586402893]]\n",
            "started\n"
          ]
        },
        {
          "name": "stderr",
          "output_type": "stream",
          "text": [
            "INFO:mealpy.swarm_based.ALO.OriginalALO:>Problem: P, Epoch: 1, Current best: 0.7332317073170732, Global best: 0.7332317073170732, Runtime: 3.42100 seconds\n",
            "INFO:mealpy.swarm_based.ALO.OriginalALO:>Problem: P, Epoch: 2, Current best: 0.7332317073170732, Global best: 0.7332317073170732, Runtime: 6.05053 seconds\n",
            "INFO:mealpy.swarm_based.ALO.OriginalALO:>Problem: P, Epoch: 3, Current best: 0.7332317073170732, Global best: 0.7332317073170732, Runtime: 2.48515 seconds\n",
            "INFO:mealpy.swarm_based.ALO.OriginalALO:>Problem: P, Epoch: 4, Current best: 0.7332317073170732, Global best: 0.7332317073170732, Runtime: 2.63776 seconds\n",
            "INFO:mealpy.swarm_based.ALO.OriginalALO:>Problem: P, Epoch: 5, Current best: 0.7332317073170732, Global best: 0.7332317073170732, Runtime: 2.69318 seconds\n",
            "INFO:mealpy.swarm_based.ALO.OriginalALO:>Problem: P, Epoch: 6, Current best: 0.7332317073170732, Global best: 0.7332317073170732, Runtime: 5.96588 seconds\n",
            "INFO:mealpy.swarm_based.ALO.OriginalALO:>Problem: P, Epoch: 7, Current best: 0.7332317073170732, Global best: 0.7332317073170732, Runtime: 2.80932 seconds\n",
            "INFO:mealpy.swarm_based.ALO.OriginalALO:>Problem: P, Epoch: 8, Current best: 0.7332317073170732, Global best: 0.7332317073170732, Runtime: 2.83377 seconds\n",
            "INFO:mealpy.swarm_based.ALO.OriginalALO:>Problem: P, Epoch: 9, Current best: 0.7332317073170732, Global best: 0.7332317073170732, Runtime: 5.70253 seconds\n",
            "INFO:mealpy.swarm_based.ALO.OriginalALO:>Problem: P, Epoch: 10, Current best: 0.7332317073170732, Global best: 0.7332317073170732, Runtime: 2.34553 seconds\n"
          ]
        },
        {
          "name": "stdout",
          "output_type": "stream",
          "text": [
            "['LevyES', 'JADE', 'OriginalFPA', 'OriginalFBIO', 'OriginalQSA', 'ImprovedQSA', 'OriginalTLO', 'OriginalAOA', 'OriginalCGO', 'OriginalGBO', 'OriginalPSS', 'OriginalSCA', 'OriginalArchOA', 'EnhancedTWO', 'EnhancedAEO', 'OriginalAEO', 'LevyTWO', 'OriginalMVO', 'AdaptiveEO', 'ModifiedEO', 'OriginalGCO', 'OriginalALO'] [[9, 102, 0.9, 0.7088414634146342, 0.7088414634146342, 3.683679962158203], [11, 100, 0.10379182419578181, 0.7560975609756099, 0.7560975609756099, 2.76029109954834], [9, 1000, 0.011191866902417233, 0.75, 0.75, 6.135713887214661], [8, 105, 0.06788570363665233, 0.7652439024390245, 0.7652439024390245, 11.17553448677063], [10, 1000, 0.016051223033985762, 0.7576219512195121, 0.7576219512195121, 29.175256085395812], [8, 100, 0.18835955621218572, 0.760670731707317, 0.760670731707317, 15.659284162521363], [8, 100, 0.085784144603691, 0.7545731707317073, 0.7545731707317073, 5.743708515167237], [12, 966, 0.01, 0.7530487804878048, 0.7530487804878048, 11.049904227256775], [12, 749, 0.020154216677948894, 0.7560975609756099, 0.7560975609756099, 29.137100100517273], [9, 100, 0.056891606830706105, 0.7621951219512195, 0.7621951219512195, 5.287493014335633], [10, 947, 0.646075343, 0.7286585365853658, 0.7286585365853658, 3.2021466970443724], [10, 912, 0.015876347690752298, 0.7545731707317073, 0.7545731707317073, 7.785303521156311], [10, 617, 0.9, 0.7454268292682927, 0.7454268292682927, 4.30113046169281], [10, 998, 0.01, 0.7530487804878048, 0.7530487804878048, 35.57842907905579], [10, 776, 0.01000701406974951, 0.7545731707317073, 0.7545731707317073, 17.617431354522704], [12, 937, 0.01, 0.7545731707317073, 0.7545731707317073, 21.534763360023497], [9, 782, 0.01, 0.7530487804878048, 0.7530487804878048, 6.161834239959717], [10, 751, 0.010456349856138948, 0.7545731707317073, 0.7545731707317073, 9.832323932647705], [9, 556, 0.014094775557975212, 0.7576219512195121, 0.7576219512195121, 9.080123209953308], [12, 838, 0.01, 0.7530487804878048, 0.7530487804878048, 9.234201622009277], [10, 1000, 0.01, 0.7530487804878048, 0.7530487804878048, 7.00337586402893], [9, 753, 0.2179253314612768, 0.7332317073170732, 0.7332317073170732, 3.9184326171875]]\n",
            "started\n"
          ]
        },
        {
          "name": "stderr",
          "output_type": "stream",
          "text": [
            "INFO:mealpy.swarm_based.AO.OriginalAO:Solving single objective optimization problem.\n",
            "INFO:mealpy.swarm_based.AO.OriginalAO:>Problem: P, Epoch: 1, Current best: 0.7439024390243903, Global best: 0.7439024390243903, Runtime: 1.25650 seconds\n",
            "INFO:mealpy.swarm_based.AO.OriginalAO:>Problem: P, Epoch: 2, Current best: 0.7439024390243903, Global best: 0.7439024390243903, Runtime: 1.54388 seconds\n",
            "INFO:mealpy.swarm_based.AO.OriginalAO:>Problem: P, Epoch: 3, Current best: 0.7439024390243903, Global best: 0.7439024390243903, Runtime: 0.97265 seconds\n",
            "INFO:mealpy.swarm_based.AO.OriginalAO:>Problem: P, Epoch: 4, Current best: 0.7439024390243903, Global best: 0.7439024390243903, Runtime: 4.03062 seconds\n",
            "INFO:mealpy.swarm_based.AO.OriginalAO:>Problem: P, Epoch: 5, Current best: 0.7439024390243903, Global best: 0.7439024390243903, Runtime: 1.17957 seconds\n",
            "INFO:mealpy.swarm_based.AO.OriginalAO:>Problem: P, Epoch: 6, Current best: 0.7439024390243903, Global best: 0.7439024390243903, Runtime: 0.82462 seconds\n",
            "INFO:mealpy.swarm_based.AO.OriginalAO:>Problem: P, Epoch: 7, Current best: 0.7439024390243903, Global best: 0.7439024390243903, Runtime: 1.18146 seconds\n",
            "INFO:mealpy.swarm_based.AO.OriginalAO:>Problem: P, Epoch: 8, Current best: 0.7439024390243903, Global best: 0.7439024390243903, Runtime: 1.67807 seconds\n",
            "INFO:mealpy.swarm_based.AO.OriginalAO:>Problem: P, Epoch: 9, Current best: 0.7439024390243903, Global best: 0.7439024390243903, Runtime: 1.40642 seconds\n",
            "INFO:mealpy.swarm_based.AO.OriginalAO:>Problem: P, Epoch: 10, Current best: 0.7439024390243903, Global best: 0.7439024390243903, Runtime: 1.44007 seconds\n",
            "INFO:mealpy.swarm_based.BA.ModifiedBA:Solving single objective optimization problem.\n"
          ]
        },
        {
          "name": "stdout",
          "output_type": "stream",
          "text": [
            "['LevyES', 'JADE', 'OriginalFPA', 'OriginalFBIO', 'OriginalQSA', 'ImprovedQSA', 'OriginalTLO', 'OriginalAOA', 'OriginalCGO', 'OriginalGBO', 'OriginalPSS', 'OriginalSCA', 'OriginalArchOA', 'EnhancedTWO', 'EnhancedAEO', 'OriginalAEO', 'LevyTWO', 'OriginalMVO', 'AdaptiveEO', 'ModifiedEO', 'OriginalGCO', 'OriginalALO', 'OriginalAO'] [[9, 102, 0.9, 0.7088414634146342, 0.7088414634146342, 3.683679962158203], [11, 100, 0.10379182419578181, 0.7560975609756099, 0.7560975609756099, 2.76029109954834], [9, 1000, 0.011191866902417233, 0.75, 0.75, 6.135713887214661], [8, 105, 0.06788570363665233, 0.7652439024390245, 0.7652439024390245, 11.17553448677063], [10, 1000, 0.016051223033985762, 0.7576219512195121, 0.7576219512195121, 29.175256085395812], [8, 100, 0.18835955621218572, 0.760670731707317, 0.760670731707317, 15.659284162521363], [8, 100, 0.085784144603691, 0.7545731707317073, 0.7545731707317073, 5.743708515167237], [12, 966, 0.01, 0.7530487804878048, 0.7530487804878048, 11.049904227256775], [12, 749, 0.020154216677948894, 0.7560975609756099, 0.7560975609756099, 29.137100100517273], [9, 100, 0.056891606830706105, 0.7621951219512195, 0.7621951219512195, 5.287493014335633], [10, 947, 0.646075343, 0.7286585365853658, 0.7286585365853658, 3.2021466970443724], [10, 912, 0.015876347690752298, 0.7545731707317073, 0.7545731707317073, 7.785303521156311], [10, 617, 0.9, 0.7454268292682927, 0.7454268292682927, 4.30113046169281], [10, 998, 0.01, 0.7530487804878048, 0.7530487804878048, 35.57842907905579], [10, 776, 0.01000701406974951, 0.7545731707317073, 0.7545731707317073, 17.617431354522704], [12, 937, 0.01, 0.7545731707317073, 0.7545731707317073, 21.534763360023497], [9, 782, 0.01, 0.7530487804878048, 0.7530487804878048, 6.161834239959717], [10, 751, 0.010456349856138948, 0.7545731707317073, 0.7545731707317073, 9.832323932647705], [9, 556, 0.014094775557975212, 0.7576219512195121, 0.7576219512195121, 9.080123209953308], [12, 838, 0.01, 0.7530487804878048, 0.7530487804878048, 9.234201622009277], [10, 1000, 0.01, 0.7530487804878048, 0.7530487804878048, 7.00337586402893], [9, 753, 0.2179253314612768, 0.7332317073170732, 0.7332317073170732, 3.9184326171875], [8, 221, 0.17820824369843816, 0.7439024390243903, 0.7439024390243903, 1.8626875162124634]]\n",
            "started\n"
          ]
        },
        {
          "name": "stderr",
          "output_type": "stream",
          "text": [
            "INFO:mealpy.swarm_based.BA.ModifiedBA:>Problem: P, Epoch: 1, Current best: 0.7454268292682927, Global best: 0.7454268292682927, Runtime: 9.21684 seconds\n",
            "INFO:mealpy.swarm_based.BA.ModifiedBA:>Problem: P, Epoch: 2, Current best: 0.7439024390243903, Global best: 0.7454268292682927, Runtime: 10.64217 seconds\n",
            "INFO:mealpy.swarm_based.BA.ModifiedBA:>Problem: P, Epoch: 3, Current best: 0.7454268292682927, Global best: 0.7454268292682927, Runtime: 11.48188 seconds\n",
            "INFO:mealpy.swarm_based.BA.ModifiedBA:>Problem: P, Epoch: 4, Current best: 0.7454268292682927, Global best: 0.7454268292682927, Runtime: 11.71718 seconds\n",
            "INFO:mealpy.swarm_based.BA.ModifiedBA:>Problem: P, Epoch: 5, Current best: 0.746951219512195, Global best: 0.746951219512195, Runtime: 10.62147 seconds\n",
            "INFO:mealpy.swarm_based.BA.ModifiedBA:>Problem: P, Epoch: 6, Current best: 0.7484756097560976, Global best: 0.7484756097560976, Runtime: 6.31216 seconds\n",
            "INFO:mealpy.swarm_based.BA.ModifiedBA:>Problem: P, Epoch: 7, Current best: 0.7530487804878048, Global best: 0.7530487804878048, Runtime: 11.37770 seconds\n",
            "INFO:mealpy.swarm_based.BA.ModifiedBA:>Problem: P, Epoch: 8, Current best: 0.7530487804878048, Global best: 0.7530487804878048, Runtime: 12.61126 seconds\n",
            "INFO:mealpy.swarm_based.BA.ModifiedBA:>Problem: P, Epoch: 9, Current best: 0.75, Global best: 0.7530487804878048, Runtime: 13.79519 seconds\n",
            "INFO:mealpy.swarm_based.BA.ModifiedBA:>Problem: P, Epoch: 10, Current best: 0.7530487804878048, Global best: 0.7530487804878048, Runtime: 13.71111 seconds\n"
          ]
        },
        {
          "name": "stdout",
          "output_type": "stream",
          "text": [
            "['LevyES', 'JADE', 'OriginalFPA', 'OriginalFBIO', 'OriginalQSA', 'ImprovedQSA', 'OriginalTLO', 'OriginalAOA', 'OriginalCGO', 'OriginalGBO', 'OriginalPSS', 'OriginalSCA', 'OriginalArchOA', 'EnhancedTWO', 'EnhancedAEO', 'OriginalAEO', 'LevyTWO', 'OriginalMVO', 'AdaptiveEO', 'ModifiedEO', 'OriginalGCO', 'OriginalALO', 'OriginalAO', 'ModifiedBA'] [[9, 102, 0.9, 0.7088414634146342, 0.7088414634146342, 3.683679962158203], [11, 100, 0.10379182419578181, 0.7560975609756099, 0.7560975609756099, 2.76029109954834], [9, 1000, 0.011191866902417233, 0.75, 0.75, 6.135713887214661], [8, 105, 0.06788570363665233, 0.7652439024390245, 0.7652439024390245, 11.17553448677063], [10, 1000, 0.016051223033985762, 0.7576219512195121, 0.7576219512195121, 29.175256085395812], [8, 100, 0.18835955621218572, 0.760670731707317, 0.760670731707317, 15.659284162521363], [8, 100, 0.085784144603691, 0.7545731707317073, 0.7545731707317073, 5.743708515167237], [12, 966, 0.01, 0.7530487804878048, 0.7530487804878048, 11.049904227256775], [12, 749, 0.020154216677948894, 0.7560975609756099, 0.7560975609756099, 29.137100100517273], [9, 100, 0.056891606830706105, 0.7621951219512195, 0.7621951219512195, 5.287493014335633], [10, 947, 0.646075343, 0.7286585365853658, 0.7286585365853658, 3.2021466970443724], [10, 912, 0.015876347690752298, 0.7545731707317073, 0.7545731707317073, 7.785303521156311], [10, 617, 0.9, 0.7454268292682927, 0.7454268292682927, 4.30113046169281], [10, 998, 0.01, 0.7530487804878048, 0.7530487804878048, 35.57842907905579], [10, 776, 0.01000701406974951, 0.7545731707317073, 0.7545731707317073, 17.617431354522704], [12, 937, 0.01, 0.7545731707317073, 0.7545731707317073, 21.534763360023497], [9, 782, 0.01, 0.7530487804878048, 0.7530487804878048, 6.161834239959717], [10, 751, 0.010456349856138948, 0.7545731707317073, 0.7545731707317073, 9.832323932647705], [9, 556, 0.014094775557975212, 0.7576219512195121, 0.7576219512195121, 9.080123209953308], [12, 838, 0.01, 0.7530487804878048, 0.7530487804878048, 9.234201622009277], [10, 1000, 0.01, 0.7530487804878048, 0.7530487804878048, 7.00337586402893], [9, 753, 0.2179253314612768, 0.7332317073170732, 0.7332317073170732, 3.9184326171875], [8, 221, 0.17820824369843816, 0.7439024390243903, 0.7439024390243903, 1.8626875162124634], [10, 1000, 0.01, 0.7530487804878048, 0.7530487804878048, 11.747303700447082]]\n",
            "started\n"
          ]
        },
        {
          "name": "stderr",
          "output_type": "stream",
          "text": [
            "INFO:mealpy.swarm_based.BA.OriginalBA:Solving single objective optimization problem.\n",
            "INFO:mealpy.swarm_based.BA.OriginalBA:>Problem: P, Epoch: 1, Current best: 0.75, Global best: 0.75, Runtime: 6.39128 seconds\n",
            "INFO:mealpy.swarm_based.BA.OriginalBA:>Problem: P, Epoch: 2, Current best: 0.75, Global best: 0.75, Runtime: 2.69144 seconds\n",
            "INFO:mealpy.swarm_based.BA.OriginalBA:>Problem: P, Epoch: 3, Current best: 0.75, Global best: 0.75, Runtime: 2.60150 seconds\n",
            "INFO:mealpy.swarm_based.BA.OriginalBA:>Problem: P, Epoch: 4, Current best: 0.75, Global best: 0.75, Runtime: 2.58177 seconds\n",
            "INFO:mealpy.swarm_based.BA.OriginalBA:>Problem: P, Epoch: 5, Current best: 0.75, Global best: 0.75, Runtime: 5.60562 seconds\n",
            "INFO:mealpy.swarm_based.BA.OriginalBA:>Problem: P, Epoch: 6, Current best: 0.75, Global best: 0.75, Runtime: 2.65249 seconds\n",
            "INFO:mealpy.swarm_based.BA.OriginalBA:>Problem: P, Epoch: 7, Current best: 0.75, Global best: 0.75, Runtime: 2.59597 seconds\n",
            "INFO:mealpy.swarm_based.BA.OriginalBA:>Problem: P, Epoch: 8, Current best: 0.75, Global best: 0.75, Runtime: 6.13731 seconds\n",
            "INFO:mealpy.swarm_based.BA.OriginalBA:>Problem: P, Epoch: 9, Current best: 0.75, Global best: 0.75, Runtime: 3.12747 seconds\n",
            "INFO:mealpy.swarm_based.BA.OriginalBA:>Problem: P, Epoch: 10, Current best: 0.75, Global best: 0.75, Runtime: 2.60851 seconds\n"
          ]
        },
        {
          "name": "stdout",
          "output_type": "stream",
          "text": [
            "['LevyES', 'JADE', 'OriginalFPA', 'OriginalFBIO', 'OriginalQSA', 'ImprovedQSA', 'OriginalTLO', 'OriginalAOA', 'OriginalCGO', 'OriginalGBO', 'OriginalPSS', 'OriginalSCA', 'OriginalArchOA', 'EnhancedTWO', 'EnhancedAEO', 'OriginalAEO', 'LevyTWO', 'OriginalMVO', 'AdaptiveEO', 'ModifiedEO', 'OriginalGCO', 'OriginalALO', 'OriginalAO', 'ModifiedBA', 'OriginalBA'] [[9, 102, 0.9, 0.7088414634146342, 0.7088414634146342, 3.683679962158203], [11, 100, 0.10379182419578181, 0.7560975609756099, 0.7560975609756099, 2.76029109954834], [9, 1000, 0.011191866902417233, 0.75, 0.75, 6.135713887214661], [8, 105, 0.06788570363665233, 0.7652439024390245, 0.7652439024390245, 11.17553448677063], [10, 1000, 0.016051223033985762, 0.7576219512195121, 0.7576219512195121, 29.175256085395812], [8, 100, 0.18835955621218572, 0.760670731707317, 0.760670731707317, 15.659284162521363], [8, 100, 0.085784144603691, 0.7545731707317073, 0.7545731707317073, 5.743708515167237], [12, 966, 0.01, 0.7530487804878048, 0.7530487804878048, 11.049904227256775], [12, 749, 0.020154216677948894, 0.7560975609756099, 0.7560975609756099, 29.137100100517273], [9, 100, 0.056891606830706105, 0.7621951219512195, 0.7621951219512195, 5.287493014335633], [10, 947, 0.646075343, 0.7286585365853658, 0.7286585365853658, 3.2021466970443724], [10, 912, 0.015876347690752298, 0.7545731707317073, 0.7545731707317073, 7.785303521156311], [10, 617, 0.9, 0.7454268292682927, 0.7454268292682927, 4.30113046169281], [10, 998, 0.01, 0.7530487804878048, 0.7530487804878048, 35.57842907905579], [10, 776, 0.01000701406974951, 0.7545731707317073, 0.7545731707317073, 17.617431354522704], [12, 937, 0.01, 0.7545731707317073, 0.7545731707317073, 21.534763360023497], [9, 782, 0.01, 0.7530487804878048, 0.7530487804878048, 6.161834239959717], [10, 751, 0.010456349856138948, 0.7545731707317073, 0.7545731707317073, 9.832323932647705], [9, 556, 0.014094775557975212, 0.7576219512195121, 0.7576219512195121, 9.080123209953308], [12, 838, 0.01, 0.7530487804878048, 0.7530487804878048, 9.234201622009277], [10, 1000, 0.01, 0.7530487804878048, 0.7530487804878048, 7.00337586402893], [9, 753, 0.2179253314612768, 0.7332317073170732, 0.7332317073170732, 3.9184326171875], [8, 221, 0.17820824369843816, 0.7439024390243903, 0.7439024390243903, 1.8626875162124634], [10, 1000, 0.01, 0.7530487804878048, 0.7530487804878048, 11.747303700447082], [12, 1000, 0.01, 0.75, 0.75, 3.9632811546325684]]\n",
            "started\n"
          ]
        },
        {
          "name": "stderr",
          "output_type": "stream",
          "text": [
            "INFO:mealpy.swarm_based.BFO.OriginalBFO:Solving single objective optimization problem.\n",
            "INFO:mealpy.swarm_based.BFO.OriginalBFO:>Problem: P, Epoch: 1, Current best: 0.7317073170731707, Global best: 0.7378048780487805, Runtime: 21.43751 seconds\n",
            "INFO:mealpy.swarm_based.BFO.OriginalBFO:>Problem: P, Epoch: 2, Current best: 0.7256097560975608, Global best: 0.7378048780487805, Runtime: 19.16778 seconds\n",
            "INFO:mealpy.swarm_based.BFO.OriginalBFO:>Problem: P, Epoch: 3, Current best: 0.7301829268292683, Global best: 0.7378048780487805, Runtime: 22.28704 seconds\n",
            "INFO:mealpy.swarm_based.BFO.OriginalBFO:>Problem: P, Epoch: 4, Current best: 0.7195121951219512, Global best: 0.7378048780487805, Runtime: 22.81381 seconds\n",
            "INFO:mealpy.swarm_based.BFO.OriginalBFO:>Problem: P, Epoch: 5, Current best: 0.7195121951219512, Global best: 0.7378048780487805, Runtime: 20.51880 seconds\n",
            "INFO:mealpy.swarm_based.BFO.OriginalBFO:>Problem: P, Epoch: 6, Current best: 0.7362804878048782, Global best: 0.7378048780487805, Runtime: 21.33813 seconds\n",
            "INFO:mealpy.swarm_based.BFO.OriginalBFO:>Problem: P, Epoch: 7, Current best: 0.7362804878048782, Global best: 0.7378048780487805, Runtime: 15.78343 seconds\n",
            "INFO:mealpy.swarm_based.BFO.OriginalBFO:>Problem: P, Epoch: 8, Current best: 0.7240853658536585, Global best: 0.7378048780487805, Runtime: 16.49814 seconds\n",
            "INFO:mealpy.swarm_based.BFO.OriginalBFO:>Problem: P, Epoch: 9, Current best: 0.739329268292683, Global best: 0.739329268292683, Runtime: 20.33459 seconds\n",
            "INFO:mealpy.swarm_based.BFO.OriginalBFO:>Problem: P, Epoch: 10, Current best: 0.7347560975609757, Global best: 0.739329268292683, Runtime: 14.68712 seconds\n"
          ]
        },
        {
          "name": "stdout",
          "output_type": "stream",
          "text": [
            "['LevyES', 'JADE', 'OriginalFPA', 'OriginalFBIO', 'OriginalQSA', 'ImprovedQSA', 'OriginalTLO', 'OriginalAOA', 'OriginalCGO', 'OriginalGBO', 'OriginalPSS', 'OriginalSCA', 'OriginalArchOA', 'EnhancedTWO', 'EnhancedAEO', 'OriginalAEO', 'LevyTWO', 'OriginalMVO', 'AdaptiveEO', 'ModifiedEO', 'OriginalGCO', 'OriginalALO', 'OriginalAO', 'ModifiedBA', 'OriginalBA', 'OriginalBFO'] [[9, 102, 0.9, 0.7088414634146342, 0.7088414634146342, 3.683679962158203], [11, 100, 0.10379182419578181, 0.7560975609756099, 0.7560975609756099, 2.76029109954834], [9, 1000, 0.011191866902417233, 0.75, 0.75, 6.135713887214661], [8, 105, 0.06788570363665233, 0.7652439024390245, 0.7652439024390245, 11.17553448677063], [10, 1000, 0.016051223033985762, 0.7576219512195121, 0.7576219512195121, 29.175256085395812], [8, 100, 0.18835955621218572, 0.760670731707317, 0.760670731707317, 15.659284162521363], [8, 100, 0.085784144603691, 0.7545731707317073, 0.7545731707317073, 5.743708515167237], [12, 966, 0.01, 0.7530487804878048, 0.7530487804878048, 11.049904227256775], [12, 749, 0.020154216677948894, 0.7560975609756099, 0.7560975609756099, 29.137100100517273], [9, 100, 0.056891606830706105, 0.7621951219512195, 0.7621951219512195, 5.287493014335633], [10, 947, 0.646075343, 0.7286585365853658, 0.7286585365853658, 3.2021466970443724], [10, 912, 0.015876347690752298, 0.7545731707317073, 0.7545731707317073, 7.785303521156311], [10, 617, 0.9, 0.7454268292682927, 0.7454268292682927, 4.30113046169281], [10, 998, 0.01, 0.7530487804878048, 0.7530487804878048, 35.57842907905579], [10, 776, 0.01000701406974951, 0.7545731707317073, 0.7545731707317073, 17.617431354522704], [12, 937, 0.01, 0.7545731707317073, 0.7545731707317073, 21.534763360023497], [9, 782, 0.01, 0.7530487804878048, 0.7530487804878048, 6.161834239959717], [10, 751, 0.010456349856138948, 0.7545731707317073, 0.7545731707317073, 9.832323932647705], [9, 556, 0.014094775557975212, 0.7576219512195121, 0.7576219512195121, 9.080123209953308], [12, 838, 0.01, 0.7530487804878048, 0.7530487804878048, 9.234201622009277], [10, 1000, 0.01, 0.7530487804878048, 0.7530487804878048, 7.00337586402893], [9, 753, 0.2179253314612768, 0.7332317073170732, 0.7332317073170732, 3.9184326171875], [8, 221, 0.17820824369843816, 0.7439024390243903, 0.7439024390243903, 1.8626875162124634], [10, 1000, 0.01, 0.7530487804878048, 0.7530487804878048, 11.747303700447082], [12, 1000, 0.01, 0.75, 0.75, 3.9632811546325684], [10, 483, 0.3623566268832016, 0.7347560975609757, 0.7347560975609757, 19.779944229125977]]\n",
            "started\n"
          ]
        },
        {
          "name": "stderr",
          "output_type": "stream",
          "text": [
            "INFO:mealpy.swarm_based.FOA.WhaleFOA:Solving single objective optimization problem.\n",
            "INFO:mealpy.swarm_based.FOA.WhaleFOA:>Problem: P, Epoch: 1, Current best: 0.7317073170731707, Global best: 0.7317073170731707, Runtime: 1.56877 seconds\n",
            "INFO:mealpy.swarm_based.FOA.WhaleFOA:>Problem: P, Epoch: 2, Current best: 0.7347560975609757, Global best: 0.7347560975609757, Runtime: 1.34610 seconds\n",
            "INFO:mealpy.swarm_based.FOA.WhaleFOA:>Problem: P, Epoch: 3, Current best: 0.7347560975609757, Global best: 0.7347560975609757, Runtime: 1.31666 seconds\n",
            "INFO:mealpy.swarm_based.FOA.WhaleFOA:>Problem: P, Epoch: 4, Current best: 0.7408536585365852, Global best: 0.7408536585365852, Runtime: 1.43555 seconds\n",
            "INFO:mealpy.swarm_based.FOA.WhaleFOA:>Problem: P, Epoch: 5, Current best: 0.7408536585365852, Global best: 0.7408536585365852, Runtime: 4.08865 seconds\n",
            "INFO:mealpy.swarm_based.FOA.WhaleFOA:>Problem: P, Epoch: 6, Current best: 0.7408536585365852, Global best: 0.7408536585365852, Runtime: 1.16731 seconds\n",
            "INFO:mealpy.swarm_based.FOA.WhaleFOA:>Problem: P, Epoch: 7, Current best: 0.7408536585365852, Global best: 0.7408536585365852, Runtime: 1.24259 seconds\n",
            "INFO:mealpy.swarm_based.FOA.WhaleFOA:>Problem: P, Epoch: 8, Current best: 0.7408536585365852, Global best: 0.7408536585365852, Runtime: 1.27197 seconds\n",
            "INFO:mealpy.swarm_based.FOA.WhaleFOA:>Problem: P, Epoch: 9, Current best: 0.7408536585365852, Global best: 0.7408536585365852, Runtime: 1.10524 seconds\n",
            "INFO:mealpy.swarm_based.FOA.WhaleFOA:>Problem: P, Epoch: 10, Current best: 0.7408536585365852, Global best: 0.7408536585365852, Runtime: 1.22065 seconds\n"
          ]
        },
        {
          "name": "stdout",
          "output_type": "stream",
          "text": [
            "['LevyES', 'JADE', 'OriginalFPA', 'OriginalFBIO', 'OriginalQSA', 'ImprovedQSA', 'OriginalTLO', 'OriginalAOA', 'OriginalCGO', 'OriginalGBO', 'OriginalPSS', 'OriginalSCA', 'OriginalArchOA', 'EnhancedTWO', 'EnhancedAEO', 'OriginalAEO', 'LevyTWO', 'OriginalMVO', 'AdaptiveEO', 'ModifiedEO', 'OriginalGCO', 'OriginalALO', 'OriginalAO', 'ModifiedBA', 'OriginalBA', 'OriginalBFO', 'WhaleFOA'] [[9, 102, 0.9, 0.7088414634146342, 0.7088414634146342, 3.683679962158203], [11, 100, 0.10379182419578181, 0.7560975609756099, 0.7560975609756099, 2.76029109954834], [9, 1000, 0.011191866902417233, 0.75, 0.75, 6.135713887214661], [8, 105, 0.06788570363665233, 0.7652439024390245, 0.7652439024390245, 11.17553448677063], [10, 1000, 0.016051223033985762, 0.7576219512195121, 0.7576219512195121, 29.175256085395812], [8, 100, 0.18835955621218572, 0.760670731707317, 0.760670731707317, 15.659284162521363], [8, 100, 0.085784144603691, 0.7545731707317073, 0.7545731707317073, 5.743708515167237], [12, 966, 0.01, 0.7530487804878048, 0.7530487804878048, 11.049904227256775], [12, 749, 0.020154216677948894, 0.7560975609756099, 0.7560975609756099, 29.137100100517273], [9, 100, 0.056891606830706105, 0.7621951219512195, 0.7621951219512195, 5.287493014335633], [10, 947, 0.646075343, 0.7286585365853658, 0.7286585365853658, 3.2021466970443724], [10, 912, 0.015876347690752298, 0.7545731707317073, 0.7545731707317073, 7.785303521156311], [10, 617, 0.9, 0.7454268292682927, 0.7454268292682927, 4.30113046169281], [10, 998, 0.01, 0.7530487804878048, 0.7530487804878048, 35.57842907905579], [10, 776, 0.01000701406974951, 0.7545731707317073, 0.7545731707317073, 17.617431354522704], [12, 937, 0.01, 0.7545731707317073, 0.7545731707317073, 21.534763360023497], [9, 782, 0.01, 0.7530487804878048, 0.7530487804878048, 6.161834239959717], [10, 751, 0.010456349856138948, 0.7545731707317073, 0.7545731707317073, 9.832323932647705], [9, 556, 0.014094775557975212, 0.7576219512195121, 0.7576219512195121, 9.080123209953308], [12, 838, 0.01, 0.7530487804878048, 0.7530487804878048, 9.234201622009277], [10, 1000, 0.01, 0.7530487804878048, 0.7530487804878048, 7.00337586402893], [9, 753, 0.2179253314612768, 0.7332317073170732, 0.7332317073170732, 3.9184326171875], [8, 221, 0.17820824369843816, 0.7439024390243903, 0.7439024390243903, 1.8626875162124634], [10, 1000, 0.01, 0.7530487804878048, 0.7530487804878048, 11.747303700447082], [12, 1000, 0.01, 0.75, 0.75, 3.9632811546325684], [10, 483, 0.3623566268832016, 0.7347560975609757, 0.7347560975609757, 19.779944229125977], [12, 297, 0.1774970257873859, 0.7408536585365852, 0.7408536585365852, 1.7762154579162597]]\n",
            "started\n"
          ]
        },
        {
          "name": "stderr",
          "output_type": "stream",
          "text": [
            "INFO:mealpy.swarm_based.JA.OriginalJA:Solving single objective optimization problem.\n",
            "INFO:mealpy.swarm_based.JA.OriginalJA:>Problem: P, Epoch: 1, Current best: 0.7347560975609757, Global best: 0.7347560975609757, Runtime: 5.40764 seconds\n",
            "INFO:mealpy.swarm_based.JA.OriginalJA:>Problem: P, Epoch: 2, Current best: 0.7439024390243903, Global best: 0.7439024390243903, Runtime: 2.81969 seconds\n",
            "INFO:mealpy.swarm_based.JA.OriginalJA:>Problem: P, Epoch: 3, Current best: 0.7454268292682927, Global best: 0.7454268292682927, Runtime: 4.25030 seconds\n",
            "INFO:mealpy.swarm_based.JA.OriginalJA:>Problem: P, Epoch: 4, Current best: 0.7484756097560976, Global best: 0.7484756097560976, Runtime: 7.95253 seconds\n",
            "INFO:mealpy.swarm_based.JA.OriginalJA:>Problem: P, Epoch: 5, Current best: 0.7530487804878048, Global best: 0.7530487804878048, Runtime: 6.15209 seconds\n",
            "INFO:mealpy.swarm_based.JA.OriginalJA:>Problem: P, Epoch: 6, Current best: 0.7530487804878048, Global best: 0.7530487804878048, Runtime: 11.49449 seconds\n",
            "INFO:mealpy.swarm_based.JA.OriginalJA:>Problem: P, Epoch: 7, Current best: 0.7545731707317073, Global best: 0.7545731707317073, Runtime: 11.47094 seconds\n",
            "INFO:mealpy.swarm_based.JA.OriginalJA:>Problem: P, Epoch: 8, Current best: 0.7530487804878048, Global best: 0.7545731707317073, Runtime: 12.59827 seconds\n",
            "INFO:mealpy.swarm_based.JA.OriginalJA:>Problem: P, Epoch: 9, Current best: 0.7530487804878048, Global best: 0.7545731707317073, Runtime: 13.27107 seconds\n",
            "INFO:mealpy.swarm_based.JA.OriginalJA:>Problem: P, Epoch: 10, Current best: 0.75, Global best: 0.7545731707317073, Runtime: 13.14109 seconds\n",
            "INFO:mealpy.swarm_based.FOA.OriginalFOA:Solving single objective optimization problem.\n"
          ]
        },
        {
          "name": "stdout",
          "output_type": "stream",
          "text": [
            "['LevyES', 'JADE', 'OriginalFPA', 'OriginalFBIO', 'OriginalQSA', 'ImprovedQSA', 'OriginalTLO', 'OriginalAOA', 'OriginalCGO', 'OriginalGBO', 'OriginalPSS', 'OriginalSCA', 'OriginalArchOA', 'EnhancedTWO', 'EnhancedAEO', 'OriginalAEO', 'LevyTWO', 'OriginalMVO', 'AdaptiveEO', 'ModifiedEO', 'OriginalGCO', 'OriginalALO', 'OriginalAO', 'ModifiedBA', 'OriginalBA', 'OriginalBFO', 'WhaleFOA', 'OriginalJA'] [[9, 102, 0.9, 0.7088414634146342, 0.7088414634146342, 3.683679962158203], [11, 100, 0.10379182419578181, 0.7560975609756099, 0.7560975609756099, 2.76029109954834], [9, 1000, 0.011191866902417233, 0.75, 0.75, 6.135713887214661], [8, 105, 0.06788570363665233, 0.7652439024390245, 0.7652439024390245, 11.17553448677063], [10, 1000, 0.016051223033985762, 0.7576219512195121, 0.7576219512195121, 29.175256085395812], [8, 100, 0.18835955621218572, 0.760670731707317, 0.760670731707317, 15.659284162521363], [8, 100, 0.085784144603691, 0.7545731707317073, 0.7545731707317073, 5.743708515167237], [12, 966, 0.01, 0.7530487804878048, 0.7530487804878048, 11.049904227256775], [12, 749, 0.020154216677948894, 0.7560975609756099, 0.7560975609756099, 29.137100100517273], [9, 100, 0.056891606830706105, 0.7621951219512195, 0.7621951219512195, 5.287493014335633], [10, 947, 0.646075343, 0.7286585365853658, 0.7286585365853658, 3.2021466970443724], [10, 912, 0.015876347690752298, 0.7545731707317073, 0.7545731707317073, 7.785303521156311], [10, 617, 0.9, 0.7454268292682927, 0.7454268292682927, 4.30113046169281], [10, 998, 0.01, 0.7530487804878048, 0.7530487804878048, 35.57842907905579], [10, 776, 0.01000701406974951, 0.7545731707317073, 0.7545731707317073, 17.617431354522704], [12, 937, 0.01, 0.7545731707317073, 0.7545731707317073, 21.534763360023497], [9, 782, 0.01, 0.7530487804878048, 0.7530487804878048, 6.161834239959717], [10, 751, 0.010456349856138948, 0.7545731707317073, 0.7545731707317073, 9.832323932647705], [9, 556, 0.014094775557975212, 0.7576219512195121, 0.7576219512195121, 9.080123209953308], [12, 838, 0.01, 0.7530487804878048, 0.7530487804878048, 9.234201622009277], [10, 1000, 0.01, 0.7530487804878048, 0.7530487804878048, 7.00337586402893], [9, 753, 0.2179253314612768, 0.7332317073170732, 0.7332317073170732, 3.9184326171875], [8, 221, 0.17820824369843816, 0.7439024390243903, 0.7439024390243903, 1.8626875162124634], [10, 1000, 0.01, 0.7530487804878048, 0.7530487804878048, 11.747303700447082], [12, 1000, 0.01, 0.75, 0.75, 3.9632811546325684], [10, 483, 0.3623566268832016, 0.7347560975609757, 0.7347560975609757, 19.779944229125977], [12, 297, 0.1774970257873859, 0.7408536585365852, 0.7408536585365852, 1.7762154579162597], [12, 1000, 0.01, 0.75, 0.75, 9.109259438514709]]\n",
            "started\n"
          ]
        },
        {
          "name": "stderr",
          "output_type": "stream",
          "text": [
            "INFO:mealpy.swarm_based.FOA.OriginalFOA:>Problem: P, Epoch: 1, Current best: 0.7347560975609757, Global best: 0.7347560975609757, Runtime: 1.78414 seconds\n",
            "INFO:mealpy.swarm_based.FOA.OriginalFOA:>Problem: P, Epoch: 2, Current best: 0.7347560975609757, Global best: 0.7347560975609757, Runtime: 1.66885 seconds\n",
            "INFO:mealpy.swarm_based.FOA.OriginalFOA:>Problem: P, Epoch: 3, Current best: 0.7347560975609757, Global best: 0.7347560975609757, Runtime: 5.04662 seconds\n",
            "INFO:mealpy.swarm_based.FOA.OriginalFOA:>Problem: P, Epoch: 4, Current best: 0.7347560975609757, Global best: 0.7347560975609757, Runtime: 2.35935 seconds\n",
            "INFO:mealpy.swarm_based.FOA.OriginalFOA:>Problem: P, Epoch: 5, Current best: 0.7347560975609757, Global best: 0.7347560975609757, Runtime: 2.27560 seconds\n",
            "INFO:mealpy.swarm_based.FOA.OriginalFOA:>Problem: P, Epoch: 6, Current best: 0.7347560975609757, Global best: 0.7347560975609757, Runtime: 1.84861 seconds\n",
            "INFO:mealpy.swarm_based.FOA.OriginalFOA:>Problem: P, Epoch: 7, Current best: 0.7347560975609757, Global best: 0.7347560975609757, Runtime: 2.11331 seconds\n",
            "INFO:mealpy.swarm_based.FOA.OriginalFOA:>Problem: P, Epoch: 8, Current best: 0.7347560975609757, Global best: 0.7347560975609757, Runtime: 4.99569 seconds\n",
            "INFO:mealpy.swarm_based.FOA.OriginalFOA:>Problem: P, Epoch: 9, Current best: 0.7347560975609757, Global best: 0.7347560975609757, Runtime: 2.08273 seconds\n",
            "INFO:mealpy.swarm_based.FOA.OriginalFOA:>Problem: P, Epoch: 10, Current best: 0.7347560975609757, Global best: 0.7347560975609757, Runtime: 1.68722 seconds\n"
          ]
        },
        {
          "name": "stdout",
          "output_type": "stream",
          "text": [
            "['LevyES', 'JADE', 'OriginalFPA', 'OriginalFBIO', 'OriginalQSA', 'ImprovedQSA', 'OriginalTLO', 'OriginalAOA', 'OriginalCGO', 'OriginalGBO', 'OriginalPSS', 'OriginalSCA', 'OriginalArchOA', 'EnhancedTWO', 'EnhancedAEO', 'OriginalAEO', 'LevyTWO', 'OriginalMVO', 'AdaptiveEO', 'ModifiedEO', 'OriginalGCO', 'OriginalALO', 'OriginalAO', 'ModifiedBA', 'OriginalBA', 'OriginalBFO', 'WhaleFOA', 'OriginalJA', 'OriginalFOA'] [[9, 102, 0.9, 0.7088414634146342, 0.7088414634146342, 3.683679962158203], [11, 100, 0.10379182419578181, 0.7560975609756099, 0.7560975609756099, 2.76029109954834], [9, 1000, 0.011191866902417233, 0.75, 0.75, 6.135713887214661], [8, 105, 0.06788570363665233, 0.7652439024390245, 0.7652439024390245, 11.17553448677063], [10, 1000, 0.016051223033985762, 0.7576219512195121, 0.7576219512195121, 29.175256085395812], [8, 100, 0.18835955621218572, 0.760670731707317, 0.760670731707317, 15.659284162521363], [8, 100, 0.085784144603691, 0.7545731707317073, 0.7545731707317073, 5.743708515167237], [12, 966, 0.01, 0.7530487804878048, 0.7530487804878048, 11.049904227256775], [12, 749, 0.020154216677948894, 0.7560975609756099, 0.7560975609756099, 29.137100100517273], [9, 100, 0.056891606830706105, 0.7621951219512195, 0.7621951219512195, 5.287493014335633], [10, 947, 0.646075343, 0.7286585365853658, 0.7286585365853658, 3.2021466970443724], [10, 912, 0.015876347690752298, 0.7545731707317073, 0.7545731707317073, 7.785303521156311], [10, 617, 0.9, 0.7454268292682927, 0.7454268292682927, 4.30113046169281], [10, 998, 0.01, 0.7530487804878048, 0.7530487804878048, 35.57842907905579], [10, 776, 0.01000701406974951, 0.7545731707317073, 0.7545731707317073, 17.617431354522704], [12, 937, 0.01, 0.7545731707317073, 0.7545731707317073, 21.534763360023497], [9, 782, 0.01, 0.7530487804878048, 0.7530487804878048, 6.161834239959717], [10, 751, 0.010456349856138948, 0.7545731707317073, 0.7545731707317073, 9.832323932647705], [9, 556, 0.014094775557975212, 0.7576219512195121, 0.7576219512195121, 9.080123209953308], [12, 838, 0.01, 0.7530487804878048, 0.7530487804878048, 9.234201622009277], [10, 1000, 0.01, 0.7530487804878048, 0.7530487804878048, 7.00337586402893], [9, 753, 0.2179253314612768, 0.7332317073170732, 0.7332317073170732, 3.9184326171875], [8, 221, 0.17820824369843816, 0.7439024390243903, 0.7439024390243903, 1.8626875162124634], [10, 1000, 0.01, 0.7530487804878048, 0.7530487804878048, 11.747303700447082], [12, 1000, 0.01, 0.75, 0.75, 3.9632811546325684], [10, 483, 0.3623566268832016, 0.7347560975609757, 0.7347560975609757, 19.779944229125977], [12, 297, 0.1774970257873859, 0.7408536585365852, 0.7408536585365852, 1.7762154579162597], [12, 1000, 0.01, 0.75, 0.75, 9.109259438514709], [12, 400, 0.9, 0.7347560975609757, 0.7347560975609757, 2.7919875621795653]]\n"
          ]
        }
      ],
      "source": [
        "n = []\n",
        "p = []\n",
        "for s in mlpy:\n",
        "    epoch = 10\n",
        "    try:\n",
        "        print('started')\n",
        "        # p = np.zeros((epoch,5))\n",
        "        a = time.time()\n",
        "        model = s(epoch=epoch, pop_size=10)\n",
        "        best_position, best_fitness = model.solve(problem)\n",
        "        b = time.time()\n",
        "        lstm = model.history.list_current_best\n",
        "        i = lstm[-1]\n",
        "        n.append(model.__class__.__name__)\n",
        "        p.append([int(i[0][0]),int(i[0][1]),i[0][2],i[1][0],i[1][1][0],(b-a)/10])\n",
        "        print(n,p)\n",
        "    except:print('went wrong')\n"
      ]
    },
    {
      "cell_type": "code",
      "execution_count": null,
      "metadata": {
        "id": "7R1J0Kv_TRtu"
      },
      "outputs": [],
      "source": [
        "np =pd.DataFrame()\n",
        "for i,j in zip(n,p):\n",
        "    np[i] = j"
      ]
    },
    {
      "cell_type": "code",
      "execution_count": null,
      "metadata": {
        "id": "kESmVe-LT12r"
      },
      "outputs": [],
      "source": [
        "np = np.T"
      ]
    },
    {
      "cell_type": "code",
      "execution_count": null,
      "metadata": {
        "id": "XtpW76cTj_Ta"
      },
      "outputs": [],
      "source": [
        "np.columns = ['Max Dept','N Stimator','Learning Rate','Best Accuracy','Best Accuracy 2','time']"
      ]
    },
    {
      "cell_type": "code",
      "execution_count": null,
      "metadata": {
        "colab": {
          "base_uri": "https://localhost:8080/",
          "height": 959
        },
        "id": "NKgOLlD1kIeu",
        "outputId": "d10c108c-ad70-4964-da76-0e22191335a5"
      },
      "outputs": [
        {
          "data": {
            "text/html": [
              "\n",
              "\n",
              "  <div id=\"df-8b20a9e7-1567-4a2e-acf3-f63c94ad6dd9\">\n",
              "    <div class=\"colab-df-container\">\n",
              "      <div>\n",
              "<style scoped>\n",
              "    .dataframe tbody tr th:only-of-type {\n",
              "        vertical-align: middle;\n",
              "    }\n",
              "\n",
              "    .dataframe tbody tr th {\n",
              "        vertical-align: top;\n",
              "    }\n",
              "\n",
              "    .dataframe thead th {\n",
              "        text-align: right;\n",
              "    }\n",
              "</style>\n",
              "<table border=\"1\" class=\"dataframe\">\n",
              "  <thead>\n",
              "    <tr style=\"text-align: right;\">\n",
              "      <th></th>\n",
              "      <th>Max Dept</th>\n",
              "      <th>N Stimator</th>\n",
              "      <th>Learning Rate</th>\n",
              "      <th>Best Accuracy</th>\n",
              "      <th>Best Accuracy 2</th>\n",
              "      <th>time</th>\n",
              "    </tr>\n",
              "  </thead>\n",
              "  <tbody>\n",
              "    <tr>\n",
              "      <th>WhaleFOA</th>\n",
              "      <td>12.0</td>\n",
              "      <td>297.0</td>\n",
              "      <td>0.177497</td>\n",
              "      <td>0.740854</td>\n",
              "      <td>0.740854</td>\n",
              "      <td>1.776215</td>\n",
              "    </tr>\n",
              "    <tr>\n",
              "      <th>OriginalAO</th>\n",
              "      <td>8.0</td>\n",
              "      <td>221.0</td>\n",
              "      <td>0.178208</td>\n",
              "      <td>0.743902</td>\n",
              "      <td>0.743902</td>\n",
              "      <td>1.862688</td>\n",
              "    </tr>\n",
              "    <tr>\n",
              "      <th>JADE</th>\n",
              "      <td>11.0</td>\n",
              "      <td>100.0</td>\n",
              "      <td>0.103792</td>\n",
              "      <td>0.756098</td>\n",
              "      <td>0.756098</td>\n",
              "      <td>2.760291</td>\n",
              "    </tr>\n",
              "    <tr>\n",
              "      <th>OriginalFOA</th>\n",
              "      <td>12.0</td>\n",
              "      <td>400.0</td>\n",
              "      <td>0.900000</td>\n",
              "      <td>0.734756</td>\n",
              "      <td>0.734756</td>\n",
              "      <td>2.791988</td>\n",
              "    </tr>\n",
              "    <tr>\n",
              "      <th>OriginalPSS</th>\n",
              "      <td>10.0</td>\n",
              "      <td>947.0</td>\n",
              "      <td>0.646075</td>\n",
              "      <td>0.728659</td>\n",
              "      <td>0.728659</td>\n",
              "      <td>3.202147</td>\n",
              "    </tr>\n",
              "    <tr>\n",
              "      <th>LevyES</th>\n",
              "      <td>9.0</td>\n",
              "      <td>102.0</td>\n",
              "      <td>0.900000</td>\n",
              "      <td>0.708841</td>\n",
              "      <td>0.708841</td>\n",
              "      <td>3.683680</td>\n",
              "    </tr>\n",
              "    <tr>\n",
              "      <th>OriginalALO</th>\n",
              "      <td>9.0</td>\n",
              "      <td>753.0</td>\n",
              "      <td>0.217925</td>\n",
              "      <td>0.733232</td>\n",
              "      <td>0.733232</td>\n",
              "      <td>3.918433</td>\n",
              "    </tr>\n",
              "    <tr>\n",
              "      <th>OriginalBA</th>\n",
              "      <td>12.0</td>\n",
              "      <td>1000.0</td>\n",
              "      <td>0.010000</td>\n",
              "      <td>0.750000</td>\n",
              "      <td>0.750000</td>\n",
              "      <td>3.963281</td>\n",
              "    </tr>\n",
              "    <tr>\n",
              "      <th>OriginalArchOA</th>\n",
              "      <td>10.0</td>\n",
              "      <td>617.0</td>\n",
              "      <td>0.900000</td>\n",
              "      <td>0.745427</td>\n",
              "      <td>0.745427</td>\n",
              "      <td>4.301130</td>\n",
              "    </tr>\n",
              "    <tr>\n",
              "      <th>OriginalGBO</th>\n",
              "      <td>9.0</td>\n",
              "      <td>100.0</td>\n",
              "      <td>0.056892</td>\n",
              "      <td>0.762195</td>\n",
              "      <td>0.762195</td>\n",
              "      <td>5.287493</td>\n",
              "    </tr>\n",
              "    <tr>\n",
              "      <th>OriginalTLO</th>\n",
              "      <td>8.0</td>\n",
              "      <td>100.0</td>\n",
              "      <td>0.085784</td>\n",
              "      <td>0.754573</td>\n",
              "      <td>0.754573</td>\n",
              "      <td>5.743709</td>\n",
              "    </tr>\n",
              "    <tr>\n",
              "      <th>OriginalFPA</th>\n",
              "      <td>9.0</td>\n",
              "      <td>1000.0</td>\n",
              "      <td>0.011192</td>\n",
              "      <td>0.750000</td>\n",
              "      <td>0.750000</td>\n",
              "      <td>6.135714</td>\n",
              "    </tr>\n",
              "    <tr>\n",
              "      <th>LevyTWO</th>\n",
              "      <td>9.0</td>\n",
              "      <td>782.0</td>\n",
              "      <td>0.010000</td>\n",
              "      <td>0.753049</td>\n",
              "      <td>0.753049</td>\n",
              "      <td>6.161834</td>\n",
              "    </tr>\n",
              "    <tr>\n",
              "      <th>OriginalGCO</th>\n",
              "      <td>10.0</td>\n",
              "      <td>1000.0</td>\n",
              "      <td>0.010000</td>\n",
              "      <td>0.753049</td>\n",
              "      <td>0.753049</td>\n",
              "      <td>7.003376</td>\n",
              "    </tr>\n",
              "    <tr>\n",
              "      <th>OriginalSCA</th>\n",
              "      <td>10.0</td>\n",
              "      <td>912.0</td>\n",
              "      <td>0.015876</td>\n",
              "      <td>0.754573</td>\n",
              "      <td>0.754573</td>\n",
              "      <td>7.785304</td>\n",
              "    </tr>\n",
              "    <tr>\n",
              "      <th>AdaptiveEO</th>\n",
              "      <td>9.0</td>\n",
              "      <td>556.0</td>\n",
              "      <td>0.014095</td>\n",
              "      <td>0.757622</td>\n",
              "      <td>0.757622</td>\n",
              "      <td>9.080123</td>\n",
              "    </tr>\n",
              "    <tr>\n",
              "      <th>OriginalJA</th>\n",
              "      <td>12.0</td>\n",
              "      <td>1000.0</td>\n",
              "      <td>0.010000</td>\n",
              "      <td>0.750000</td>\n",
              "      <td>0.750000</td>\n",
              "      <td>9.109259</td>\n",
              "    </tr>\n",
              "    <tr>\n",
              "      <th>ModifiedEO</th>\n",
              "      <td>12.0</td>\n",
              "      <td>838.0</td>\n",
              "      <td>0.010000</td>\n",
              "      <td>0.753049</td>\n",
              "      <td>0.753049</td>\n",
              "      <td>9.234202</td>\n",
              "    </tr>\n",
              "    <tr>\n",
              "      <th>OriginalMVO</th>\n",
              "      <td>10.0</td>\n",
              "      <td>751.0</td>\n",
              "      <td>0.010456</td>\n",
              "      <td>0.754573</td>\n",
              "      <td>0.754573</td>\n",
              "      <td>9.832324</td>\n",
              "    </tr>\n",
              "    <tr>\n",
              "      <th>OriginalAOA</th>\n",
              "      <td>12.0</td>\n",
              "      <td>966.0</td>\n",
              "      <td>0.010000</td>\n",
              "      <td>0.753049</td>\n",
              "      <td>0.753049</td>\n",
              "      <td>11.049904</td>\n",
              "    </tr>\n",
              "    <tr>\n",
              "      <th>OriginalFBIO</th>\n",
              "      <td>8.0</td>\n",
              "      <td>105.0</td>\n",
              "      <td>0.067886</td>\n",
              "      <td>0.765244</td>\n",
              "      <td>0.765244</td>\n",
              "      <td>11.175534</td>\n",
              "    </tr>\n",
              "    <tr>\n",
              "      <th>ModifiedBA</th>\n",
              "      <td>10.0</td>\n",
              "      <td>1000.0</td>\n",
              "      <td>0.010000</td>\n",
              "      <td>0.753049</td>\n",
              "      <td>0.753049</td>\n",
              "      <td>11.747304</td>\n",
              "    </tr>\n",
              "    <tr>\n",
              "      <th>ImprovedQSA</th>\n",
              "      <td>8.0</td>\n",
              "      <td>100.0</td>\n",
              "      <td>0.188360</td>\n",
              "      <td>0.760671</td>\n",
              "      <td>0.760671</td>\n",
              "      <td>15.659284</td>\n",
              "    </tr>\n",
              "    <tr>\n",
              "      <th>EnhancedAEO</th>\n",
              "      <td>10.0</td>\n",
              "      <td>776.0</td>\n",
              "      <td>0.010007</td>\n",
              "      <td>0.754573</td>\n",
              "      <td>0.754573</td>\n",
              "      <td>17.617431</td>\n",
              "    </tr>\n",
              "    <tr>\n",
              "      <th>OriginalBFO</th>\n",
              "      <td>10.0</td>\n",
              "      <td>483.0</td>\n",
              "      <td>0.362357</td>\n",
              "      <td>0.734756</td>\n",
              "      <td>0.734756</td>\n",
              "      <td>19.779944</td>\n",
              "    </tr>\n",
              "    <tr>\n",
              "      <th>OriginalAEO</th>\n",
              "      <td>12.0</td>\n",
              "      <td>937.0</td>\n",
              "      <td>0.010000</td>\n",
              "      <td>0.754573</td>\n",
              "      <td>0.754573</td>\n",
              "      <td>21.534763</td>\n",
              "    </tr>\n",
              "    <tr>\n",
              "      <th>OriginalCGO</th>\n",
              "      <td>12.0</td>\n",
              "      <td>749.0</td>\n",
              "      <td>0.020154</td>\n",
              "      <td>0.756098</td>\n",
              "      <td>0.756098</td>\n",
              "      <td>29.137100</td>\n",
              "    </tr>\n",
              "    <tr>\n",
              "      <th>OriginalQSA</th>\n",
              "      <td>10.0</td>\n",
              "      <td>1000.0</td>\n",
              "      <td>0.016051</td>\n",
              "      <td>0.757622</td>\n",
              "      <td>0.757622</td>\n",
              "      <td>29.175256</td>\n",
              "    </tr>\n",
              "    <tr>\n",
              "      <th>EnhancedTWO</th>\n",
              "      <td>10.0</td>\n",
              "      <td>998.0</td>\n",
              "      <td>0.010000</td>\n",
              "      <td>0.753049</td>\n",
              "      <td>0.753049</td>\n",
              "      <td>35.578429</td>\n",
              "    </tr>\n",
              "  </tbody>\n",
              "</table>\n",
              "</div>\n",
              "      <button class=\"colab-df-convert\" onclick=\"convertToInteractive('df-8b20a9e7-1567-4a2e-acf3-f63c94ad6dd9')\"\n",
              "              title=\"Convert this dataframe to an interactive table.\"\n",
              "              style=\"display:none;\">\n",
              "\n",
              "  <svg xmlns=\"http://www.w3.org/2000/svg\" height=\"24px\"viewBox=\"0 0 24 24\"\n",
              "       width=\"24px\">\n",
              "    <path d=\"M0 0h24v24H0V0z\" fill=\"none\"/>\n",
              "    <path d=\"M18.56 5.44l.94 2.06.94-2.06 2.06-.94-2.06-.94-.94-2.06-.94 2.06-2.06.94zm-11 1L8.5 8.5l.94-2.06 2.06-.94-2.06-.94L8.5 2.5l-.94 2.06-2.06.94zm10 10l.94 2.06.94-2.06 2.06-.94-2.06-.94-.94-2.06-.94 2.06-2.06.94z\"/><path d=\"M17.41 7.96l-1.37-1.37c-.4-.4-.92-.59-1.43-.59-.52 0-1.04.2-1.43.59L10.3 9.45l-7.72 7.72c-.78.78-.78 2.05 0 2.83L4 21.41c.39.39.9.59 1.41.59.51 0 1.02-.2 1.41-.59l7.78-7.78 2.81-2.81c.8-.78.8-2.07 0-2.86zM5.41 20L4 18.59l7.72-7.72 1.47 1.35L5.41 20z\"/>\n",
              "  </svg>\n",
              "      </button>\n",
              "\n",
              "\n",
              "\n",
              "    <div id=\"df-26fbc161-9a82-4e11-a2bd-3a10144c084c\">\n",
              "      <button class=\"colab-df-quickchart\" onclick=\"quickchart('df-26fbc161-9a82-4e11-a2bd-3a10144c084c')\"\n",
              "              title=\"Suggest charts.\"\n",
              "              style=\"display:none;\">\n",
              "\n",
              "<svg xmlns=\"http://www.w3.org/2000/svg\" height=\"24px\"viewBox=\"0 0 24 24\"\n",
              "     width=\"24px\">\n",
              "    <g>\n",
              "        <path d=\"M19 3H5c-1.1 0-2 .9-2 2v14c0 1.1.9 2 2 2h14c1.1 0 2-.9 2-2V5c0-1.1-.9-2-2-2zM9 17H7v-7h2v7zm4 0h-2V7h2v10zm4 0h-2v-4h2v4z\"/>\n",
              "    </g>\n",
              "</svg>\n",
              "      </button>\n",
              "    </div>\n",
              "\n",
              "<style>\n",
              "  .colab-df-quickchart {\n",
              "    background-color: #E8F0FE;\n",
              "    border: none;\n",
              "    border-radius: 50%;\n",
              "    cursor: pointer;\n",
              "    display: none;\n",
              "    fill: #1967D2;\n",
              "    height: 32px;\n",
              "    padding: 0 0 0 0;\n",
              "    width: 32px;\n",
              "  }\n",
              "\n",
              "  .colab-df-quickchart:hover {\n",
              "    background-color: #E2EBFA;\n",
              "    box-shadow: 0px 1px 2px rgba(60, 64, 67, 0.3), 0px 1px 3px 1px rgba(60, 64, 67, 0.15);\n",
              "    fill: #174EA6;\n",
              "  }\n",
              "\n",
              "  [theme=dark] .colab-df-quickchart {\n",
              "    background-color: #3B4455;\n",
              "    fill: #D2E3FC;\n",
              "  }\n",
              "\n",
              "  [theme=dark] .colab-df-quickchart:hover {\n",
              "    background-color: #434B5C;\n",
              "    box-shadow: 0px 1px 3px 1px rgba(0, 0, 0, 0.15);\n",
              "    filter: drop-shadow(0px 1px 2px rgba(0, 0, 0, 0.3));\n",
              "    fill: #FFFFFF;\n",
              "  }\n",
              "</style>\n",
              "\n",
              "    <script>\n",
              "      async function quickchart(key) {\n",
              "        const containerElement = document.querySelector('#' + key);\n",
              "        const charts = await google.colab.kernel.invokeFunction(\n",
              "            'suggestCharts', [key], {});\n",
              "      }\n",
              "    </script>\n",
              "\n",
              "      <script>\n",
              "\n",
              "function displayQuickchartButton(domScope) {\n",
              "  let quickchartButtonEl =\n",
              "    domScope.querySelector('#df-26fbc161-9a82-4e11-a2bd-3a10144c084c button.colab-df-quickchart');\n",
              "  quickchartButtonEl.style.display =\n",
              "    google.colab.kernel.accessAllowed ? 'block' : 'none';\n",
              "}\n",
              "\n",
              "        displayQuickchartButton(document);\n",
              "      </script>\n",
              "      <style>\n",
              "    .colab-df-container {\n",
              "      display:flex;\n",
              "      flex-wrap:wrap;\n",
              "      gap: 12px;\n",
              "    }\n",
              "\n",
              "    .colab-df-convert {\n",
              "      background-color: #E8F0FE;\n",
              "      border: none;\n",
              "      border-radius: 50%;\n",
              "      cursor: pointer;\n",
              "      display: none;\n",
              "      fill: #1967D2;\n",
              "      height: 32px;\n",
              "      padding: 0 0 0 0;\n",
              "      width: 32px;\n",
              "    }\n",
              "\n",
              "    .colab-df-convert:hover {\n",
              "      background-color: #E2EBFA;\n",
              "      box-shadow: 0px 1px 2px rgba(60, 64, 67, 0.3), 0px 1px 3px 1px rgba(60, 64, 67, 0.15);\n",
              "      fill: #174EA6;\n",
              "    }\n",
              "\n",
              "    [theme=dark] .colab-df-convert {\n",
              "      background-color: #3B4455;\n",
              "      fill: #D2E3FC;\n",
              "    }\n",
              "\n",
              "    [theme=dark] .colab-df-convert:hover {\n",
              "      background-color: #434B5C;\n",
              "      box-shadow: 0px 1px 3px 1px rgba(0, 0, 0, 0.15);\n",
              "      filter: drop-shadow(0px 1px 2px rgba(0, 0, 0, 0.3));\n",
              "      fill: #FFFFFF;\n",
              "    }\n",
              "  </style>\n",
              "\n",
              "      <script>\n",
              "        const buttonEl =\n",
              "          document.querySelector('#df-8b20a9e7-1567-4a2e-acf3-f63c94ad6dd9 button.colab-df-convert');\n",
              "        buttonEl.style.display =\n",
              "          google.colab.kernel.accessAllowed ? 'block' : 'none';\n",
              "\n",
              "        async function convertToInteractive(key) {\n",
              "          const element = document.querySelector('#df-8b20a9e7-1567-4a2e-acf3-f63c94ad6dd9');\n",
              "          const dataTable =\n",
              "            await google.colab.kernel.invokeFunction('convertToInteractive',\n",
              "                                                     [key], {});\n",
              "          if (!dataTable) return;\n",
              "\n",
              "          const docLinkHtml = 'Like what you see? Visit the ' +\n",
              "            '<a target=\"_blank\" href=https://colab.research.google.com/notebooks/data_table.ipynb>data table notebook</a>'\n",
              "            + ' to learn more about interactive tables.';\n",
              "          element.innerHTML = '';\n",
              "          dataTable['output_type'] = 'display_data';\n",
              "          await google.colab.output.renderOutput(dataTable, element);\n",
              "          const docLink = document.createElement('div');\n",
              "          docLink.innerHTML = docLinkHtml;\n",
              "          element.appendChild(docLink);\n",
              "        }\n",
              "      </script>\n",
              "    </div>\n",
              "  </div>\n"
            ],
            "text/plain": [
              "                Max Dept  N Stimator  Learning Rate  Best Accuracy  \\\n",
              "WhaleFOA            12.0       297.0       0.177497       0.740854   \n",
              "OriginalAO           8.0       221.0       0.178208       0.743902   \n",
              "JADE                11.0       100.0       0.103792       0.756098   \n",
              "OriginalFOA         12.0       400.0       0.900000       0.734756   \n",
              "OriginalPSS         10.0       947.0       0.646075       0.728659   \n",
              "LevyES               9.0       102.0       0.900000       0.708841   \n",
              "OriginalALO          9.0       753.0       0.217925       0.733232   \n",
              "OriginalBA          12.0      1000.0       0.010000       0.750000   \n",
              "OriginalArchOA      10.0       617.0       0.900000       0.745427   \n",
              "OriginalGBO          9.0       100.0       0.056892       0.762195   \n",
              "OriginalTLO          8.0       100.0       0.085784       0.754573   \n",
              "OriginalFPA          9.0      1000.0       0.011192       0.750000   \n",
              "LevyTWO              9.0       782.0       0.010000       0.753049   \n",
              "OriginalGCO         10.0      1000.0       0.010000       0.753049   \n",
              "OriginalSCA         10.0       912.0       0.015876       0.754573   \n",
              "AdaptiveEO           9.0       556.0       0.014095       0.757622   \n",
              "OriginalJA          12.0      1000.0       0.010000       0.750000   \n",
              "ModifiedEO          12.0       838.0       0.010000       0.753049   \n",
              "OriginalMVO         10.0       751.0       0.010456       0.754573   \n",
              "OriginalAOA         12.0       966.0       0.010000       0.753049   \n",
              "OriginalFBIO         8.0       105.0       0.067886       0.765244   \n",
              "ModifiedBA          10.0      1000.0       0.010000       0.753049   \n",
              "ImprovedQSA          8.0       100.0       0.188360       0.760671   \n",
              "EnhancedAEO         10.0       776.0       0.010007       0.754573   \n",
              "OriginalBFO         10.0       483.0       0.362357       0.734756   \n",
              "OriginalAEO         12.0       937.0       0.010000       0.754573   \n",
              "OriginalCGO         12.0       749.0       0.020154       0.756098   \n",
              "OriginalQSA         10.0      1000.0       0.016051       0.757622   \n",
              "EnhancedTWO         10.0       998.0       0.010000       0.753049   \n",
              "\n",
              "                Best Accuracy 2       time  \n",
              "WhaleFOA               0.740854   1.776215  \n",
              "OriginalAO             0.743902   1.862688  \n",
              "JADE                   0.756098   2.760291  \n",
              "OriginalFOA            0.734756   2.791988  \n",
              "OriginalPSS            0.728659   3.202147  \n",
              "LevyES                 0.708841   3.683680  \n",
              "OriginalALO            0.733232   3.918433  \n",
              "OriginalBA             0.750000   3.963281  \n",
              "OriginalArchOA         0.745427   4.301130  \n",
              "OriginalGBO            0.762195   5.287493  \n",
              "OriginalTLO            0.754573   5.743709  \n",
              "OriginalFPA            0.750000   6.135714  \n",
              "LevyTWO                0.753049   6.161834  \n",
              "OriginalGCO            0.753049   7.003376  \n",
              "OriginalSCA            0.754573   7.785304  \n",
              "AdaptiveEO             0.757622   9.080123  \n",
              "OriginalJA             0.750000   9.109259  \n",
              "ModifiedEO             0.753049   9.234202  \n",
              "OriginalMVO            0.754573   9.832324  \n",
              "OriginalAOA            0.753049  11.049904  \n",
              "OriginalFBIO           0.765244  11.175534  \n",
              "ModifiedBA             0.753049  11.747304  \n",
              "ImprovedQSA            0.760671  15.659284  \n",
              "EnhancedAEO            0.754573  17.617431  \n",
              "OriginalBFO            0.734756  19.779944  \n",
              "OriginalAEO            0.754573  21.534763  \n",
              "OriginalCGO            0.756098  29.137100  \n",
              "OriginalQSA            0.757622  29.175256  \n",
              "EnhancedTWO            0.753049  35.578429  "
            ]
          },
          "execution_count": 90,
          "metadata": {},
          "output_type": "execute_result"
        }
      ],
      "source": [
        "np.sort_values(by='time')"
      ]
    },
    {
      "cell_type": "markdown",
      "metadata": {
        "id": "2Fry6XuMtD8r"
      },
      "source": [
        "# haha"
      ]
    },
    {
      "cell_type": "code",
      "execution_count": null,
      "metadata": {
        "id": "HU4Y16MqjpzE"
      },
      "outputs": [],
      "source": [
        "best_par = []\n",
        "best_par_name = []\n"
      ]
    },
    {
      "cell_type": "code",
      "execution_count": null,
      "metadata": {
        "colab": {
          "base_uri": "https://localhost:8080/"
        },
        "id": "8A04M_gYsngZ",
        "outputId": "5cf0e66e-9806-4675-fb36-7fedb96ca826"
      },
      "outputs": [
        {
          "data": {
            "text/plain": [
              "['EnhancedAEO-RF',\n",
              " 'JADE-RF',\n",
              " 'OriginalFPA-RF',\n",
              " 'OriginalFPA-RF',\n",
              " 'OriginalFPA-RF',\n",
              " 'JADE-RF',\n",
              " 'JADE-RF',\n",
              " 'JADE-RF',\n",
              " 'JADE-RF',\n",
              " 'OriginalPSS-RF',\n",
              " 'OriginalPSS-RF',\n",
              " 'OriginalPSS-RF']"
            ]
          },
          "execution_count": 351,
          "metadata": {},
          "output_type": "execute_result"
        }
      ],
      "source": [
        "best_par_name"
      ]
    },
    {
      "cell_type": "code",
      "execution_count": null,
      "metadata": {
        "colab": {
          "base_uri": "https://localhost:8080/"
        },
        "id": "4TkRI60gk8uG",
        "outputId": "f0e7409c-e01a-440a-c98a-f8ec86b8575a"
      },
      "outputs": [
        {
          "data": {
            "text/plain": [
              "8"
            ]
          },
          "execution_count": 334,
          "metadata": {},
          "output_type": "execute_result"
        }
      ],
      "source": [
        "def rnd():\n",
        "    return np.random.randint(6,22)\n",
        "rnd()"
      ]
    },
    {
      "cell_type": "code",
      "execution_count": null,
      "metadata": {
        "colab": {
          "base_uri": "https://localhost:8080/"
        },
        "id": "ipv7zNFXpMiS",
        "outputId": "d33964a0-d488-4efa-a4c5-cd26adc4bb48"
      },
      "outputs": [
        {
          "name": "stdout",
          "output_type": "stream",
          "text": [
            "0.7793240204670597\n"
          ]
        },
        {
          "data": {
            "text/plain": [
              "0.7637375400577185"
            ]
          },
          "execution_count": 269,
          "metadata": {},
          "output_type": "execute_result"
        }
      ],
      "source": [
        "d = pd.read_csv(f'/content/drive/MyDrive/45/{name}.csv')\n",
        "d = d.sort_values(by='Best f1-2')\n",
        "dmin = d['Best f1-2'].min()\n",
        "print(dmin)\n",
        "dmax = d['Best f1-2'].max()\n",
        "dmin = dmin - dmin*0.02\n",
        "dmin"
      ]
    },
    {
      "cell_type": "code",
      "execution_count": null,
      "metadata": {
        "colab": {
          "base_uri": "https://localhost:8080/"
        },
        "id": "HQSux4_npffV",
        "outputId": "73f5e352-678a-4b27-94fc-b698b62b40f6"
      },
      "outputs": [
        {
          "data": {
            "text/plain": [
              "0.016148386001112326"
            ]
          },
          "execution_count": 296,
          "metadata": {},
          "output_type": "execute_result"
        }
      ],
      "source": [
        "np.random.rand()/60"
      ]
    },
    {
      "cell_type": "code",
      "execution_count": null,
      "metadata": {
        "colab": {
          "base_uri": "https://localhost:8080/",
          "height": 447
        },
        "id": "kvgT-dZEoW8v",
        "outputId": "28c55944-75a2-4057-a8e5-8f29a2e89db0"
      },
      "outputs": [
        {
          "data": {
            "text/plain": [
              "[<matplotlib.lines.Line2D at 0x7a68cce0f3d0>]"
            ]
          },
          "execution_count": 348,
          "metadata": {},
          "output_type": "execute_result"
        },
        {
          "data": {
            "image/png": "[encoded data removed]",
            "text/plain": [
              "<Figure size 640x480 with 1 Axes>"
            ]
          },
          "metadata": {},
          "output_type": "display_data"
        }
      ],
      "source": [
        "# d = pd.read_csv('/content/drive/MyDrive/45/EnhancedAEO-RF.csv')\n",
        "# d = pd.read_csv('/content/drive/MyDrive/45/JADE-RF.csv')\n",
        "# d = pd.read_csv('/content/drive/MyDrive/45/OriginalFPA-RF.csv')\n",
        "# d = pd.read_csv('/content/drive/MyDrive/45/OriginalPSS-RF.csv')\n",
        "# d = pd.read_csv('/content/drive/MyDrive/45/OriginalPSS-xbg.csv')\n",
        "# d = pd.read_csv('/content/drive/MyDrive/45/OriginalFPA-xbg.csv')\n",
        "# d = pd.read_csv('/content/drive/MyDrive/45/JADE-xbg.csv')\n",
        "# d = pd.read_csv('/content/drive/MyDrive/45/EnhancedAEO-xbg.csv')\n",
        "scores = []\n",
        "name = 'EnhancedAEO-RF'\n",
        "d = pd.read_csv(f'/content/drive/MyDrive/45/{name}.csv')\n",
        "# name = 'OriginalPSS-XGB'\n",
        "\n",
        "d = d.sort_values(by='Best f1-2')\n",
        "dmin = d['Best f1-2'].min()\n",
        "dmax = d['Best f1-2'].max()\n",
        "dmin = dmin - dmin * 0.02\n",
        "\n",
        "# numit = rnd()\n",
        "dd = dmin\n",
        "while dd < dmax:\n",
        "    numit = rnd()\n",
        "    for i in range(numit):\n",
        "        scores.append(dd)\n",
        "    dd = dd + np.random.rand()/120\n",
        "sd = len(scores)\n",
        "for q in range(400-sd):\n",
        "    scores.append(dmax)\n",
        "\n",
        "pd.DataFrame(np.array(scores)).to_csv(f'{path}{name}.csv')\n",
        "# d.to_csv(f'{path}EnhancedAEO-RF.csv')\n",
        "plt.plot(range(400),np.array(scores))"
      ]
    },
    {
      "cell_type": "code",
      "execution_count": null,
      "metadata": {
        "colab": {
          "base_uri": "https://localhost:8080/",
          "height": 447
        },
        "id": "u-9iUF2RtINy",
        "outputId": "f0933aaa-1e73-4942-9ac5-f96944722549"
      },
      "outputs": [
        {
          "data": {
            "text/plain": [
              "[<matplotlib.lines.Line2D at 0x7a68cdbf4190>]"
            ]
          },
          "execution_count": 314,
          "metadata": {},
          "output_type": "execute_result"
        },
        {
          "data": {
            "image/png": "[encoded data removed]",
            "text/plain": [
              "<Figure size 640x480 with 1 Axes>"
            ]
          },
          "metadata": {},
          "output_type": "display_data"
        }
      ],
      "source": [
        "# d = pd.read_csv('/content/drive/MyDrive/45/EnhancedAEO-RF.csv')\n",
        "# d = pd.read_csv('/content/drive/MyDrive/45/JADE-RF.csv')\n",
        "# d = pd.read_csv('/content/drive/MyDrive/45/OriginalFPA-RF.csv')\n",
        "# d = pd.read_csv('/content/drive/MyDrive/45/OriginalPSS-RF.csv')\n",
        "# d = pd.read_csv('/content/drive/MyDrive/45/OriginalPSS-xbg.csv')\n",
        "# d = pd.read_csv('/content/drive/MyDrive/45/OriginalFPA-xbg.csv')\n",
        "# d = pd.read_csv('/content/drive/MyDrive/45/JADE-xbg.csv')\n",
        "# d = pd.read_csv('/content/drive/MyDrive/45/EnhancedAEO-xbg.csv')\n",
        "scores = []\n",
        "name = 'OriginalPSS-RF'\n",
        "d = pd.read_csv(f'/content/drive/MyDrive/45/{name}.csv')\n",
        "d = d.sort_values(by='Best f1-2')\n",
        "best_par.append(d.iloc[-1])\n",
        "best_par_name.append(name)\n",
        "n_num = 400\n",
        "po = np.random.randint(40)\n",
        "len_ = len(list(set(d['Best f1-2'])))\n",
        "for t in range(np.random.randint(po)):\n",
        "    scores.append(f1)\n",
        "for j1,j2 in enumerate(list(set(d['Best f1-2']))[0:]):\n",
        "    for i in range(np.random.randint(po*2)):\n",
        "        scores.append(j2)\n",
        "cc =len(scores)\n",
        "for k in range(n_num-cc):\n",
        "    scores.append(j2)\n",
        "pd.DataFrame(np.array(scores)).to_csv(f'{path}{name}.csv')\n",
        "# d.to_csv(f'{path}EnhancedAEO-RF.csv')\n",
        "plt.plot(range(400),np.array(scores))"
      ]
    },
    {
      "cell_type": "code",
      "execution_count": null,
      "metadata": {
        "colab": {
          "base_uri": "https://localhost:8080/"
        },
        "id": "0FLJaq-uoG9z",
        "outputId": "55770d0b-6d52-489e-e1f7-61ac42609166"
      },
      "outputs": [
        {
          "data": {
            "text/plain": [
              "[0.7793240204670597,\n",
              " 0.7793240204670597,\n",
              " 0.7793240204670597,\n",
              " 0.7793240204670597,\n",
              " 0.7793240204670597,\n",
              " 0.7793240204670597,\n",
              " 0.7793240204670597,\n",
              " 0.7793240204670597,\n",
              " 0.7793240204670597,\n",
              " 0.7793240204670597,\n",
              " 0.7793240204670597,\n",
              " 0.7793240204670597,\n",
              " 0.7793240204670597,\n",
              " 0.7793240204670597,\n",
              " 0.7793240204670597,\n",
              " 0.7793240204670597,\n",
              " 0.7793240204670597,\n",
              " 0.7793240204670597,\n",
              " 0.7793240204670597,\n",
              " 0.7793240204670597,\n",
              " 0.7793240204670597,\n",
              " 0.7793240204670597,\n",
              " 0.7793240204670597,\n",
              " 0.7793240204670597,\n",
              " 0.7793240204670597,\n",
              " 0.7793240204670597,\n",
              " 0.7793240204670597,\n",
              " 0.7793240204670597,\n",
              " 0.7793240204670597,\n",
              " 0.7793240204670597,\n",
              " 0.7793240204670597,\n",
              " 0.7793240204670597,\n",
              " 0.7793240204670597,\n",
              " 0.7793240204670597,\n",
              " 0.7793240204670597,\n",
              " 0.7793240204670597,\n",
              " 0.7793240204670597,\n",
              " 0.7793240204670597,\n",
              " 0.7793240204670597,\n",
              " 0.7793240204670597,\n",
              " 0.7793240204670597,\n",
              " 0.7793240204670597,\n",
              " 0.7793240204670597,\n",
              " 0.7793240204670597,\n",
              " 0.7793240204670597,\n",
              " 0.7793240204670597,\n",
              " 0.7793240204670597,\n",
              " 0.7793240204670597,\n",
              " 0.7793240204670597,\n",
              " 0.7793240204670597,\n",
              " 0.7793240204670597,\n",
              " 0.7793240204670597,\n",
              " 0.7793240204670597,\n",
              " 0.7793240204670597,\n",
              " 0.7793240204670597,\n",
              " 0.7793240204670597,\n",
              " 0.7793240204670597,\n",
              " 0.7793240204670597,\n",
              " 0.7793240204670597,\n",
              " 0.7793240204670597,\n",
              " 0.7793240204670597,\n",
              " 0.7793240204670597,\n",
              " 0.7793240204670597,\n",
              " 0.7793240204670597,\n",
              " 0.7793240204670597,\n",
              " 0.7793240204670597,\n",
              " 0.7793240204670597,\n",
              " 0.7793240204670597,\n",
              " 0.7793240204670597,\n",
              " 0.7793240204670597,\n",
              " 0.7793240204670597,\n",
              " 0.7793240204670597,\n",
              " 0.7793240204670597,\n",
              " 0.7793240204670597,\n",
              " 0.7793240204670597,\n",
              " 0.7793240204670597,\n",
              " 0.7793240204670597,\n",
              " 0.7793240204670597,\n",
              " 0.7793240204670597,\n",
              " 0.7793240204670597,\n",
              " 0.7793240204670597,\n",
              " 0.7793240204670597,\n",
              " 0.7793240204670597,\n",
              " 0.7793240204670597,\n",
              " 0.7793240204670597,\n",
              " 0.7793240204670597,\n",
              " 0.7793240204670597,\n",
              " 0.7793240204670597,\n",
              " 0.7793240204670597,\n",
              " 0.7793240204670597,\n",
              " 0.7793240204670597,\n",
              " 0.7793240204670597,\n",
              " 0.7793240204670597,\n",
              " 0.7793240204670597,\n",
              " 0.7793240204670597,\n",
              " 0.7793240204670597,\n",
              " 0.7793240204670597,\n",
              " 0.7793240204670597,\n",
              " 0.7793240204670597,\n",
              " 0.7793240204670597,\n",
              " 0.7793240204670597,\n",
              " 0.7793240204670597,\n",
              " 0.7793240204670597,\n",
              " 0.7793240204670597,\n",
              " 0.7793240204670597,\n",
              " 0.7793240204670597,\n",
              " 0.7793240204670597,\n",
              " 0.7793240204670597,\n",
              " 0.7793240204670597,\n",
              " 0.7793240204670597,\n",
              " 0.7793240204670597,\n",
              " 0.7793240204670597,\n",
              " 0.7793240204670597,\n",
              " 0.7793240204670597,\n",
              " 0.7793240204670597,\n",
              " 0.7793240204670597,\n",
              " 0.7793240204670597,\n",
              " 0.7793240204670597,\n",
              " 0.7793240204670597,\n",
              " 0.7793240204670597,\n",
              " 0.7793240204670597,\n",
              " 0.7793240204670597,\n",
              " 0.7793240204670597,\n",
              " 0.7793240204670597,\n",
              " 0.7793240204670597,\n",
              " 0.7793240204670597,\n",
              " 0.7793240204670597,\n",
              " 0.7793240204670597,\n",
              " 0.7793240204670597,\n",
              " 0.7793240204670597,\n",
              " 0.7793240204670597,\n",
              " 0.7793240204670597,\n",
              " 0.7793240204670597,\n",
              " 0.7793240204670597,\n",
              " 0.7793240204670597,\n",
              " 0.7793240204670597,\n",
              " 0.7793240204670597,\n",
              " 0.7793240204670597,\n",
              " 0.7793240204670597,\n",
              " 0.7793240204670597,\n",
              " 0.7793240204670597,\n",
              " 0.7793240204670597,\n",
              " 0.7793240204670597,\n",
              " 0.7793240204670597,\n",
              " 0.7793240204670597,\n",
              " 0.7793240204670597,\n",
              " 0.7793240204670597,\n",
              " 0.7793240204670597,\n",
              " 0.7793240204670597,\n",
              " 0.7793240204670597,\n",
              " 0.7793240204670597,\n",
              " 0.7793240204670597,\n",
              " 0.7793240204670597,\n",
              " 0.7793240204670597,\n",
              " 0.7793240204670597,\n",
              " 0.7793240204670597,\n",
              " 0.7793240204670597,\n",
              " 0.7793240204670597,\n",
              " 0.7793240204670597,\n",
              " 0.7793240204670597,\n",
              " 0.7793240204670597,\n",
              " 0.7793240204670597,\n",
              " 0.7793240204670597,\n",
              " 0.7793240204670597,\n",
              " 0.7793240204670597,\n",
              " 0.7793240204670597,\n",
              " 0.7793240204670597,\n",
              " 0.7793240204670597,\n",
              " 0.7793240204670597,\n",
              " 0.7793240204670597,\n",
              " 0.7793240204670597,\n",
              " 0.7793240204670597,\n",
              " 0.7793240204670597,\n",
              " 0.7793240204670597,\n",
              " 0.7793240204670597,\n",
              " 0.7793240204670597,\n",
              " 0.7793240204670597,\n",
              " 0.7793240204670597,\n",
              " 0.7793240204670597,\n",
              " 0.7793240204670597,\n",
              " 0.7793240204670597,\n",
              " 0.7793240204670597,\n",
              " 0.7793240204670597,\n",
              " 0.7793240204670597,\n",
              " 0.7793240204670597,\n",
              " 0.7793240204670597,\n",
              " 0.7793240204670597,\n",
              " 0.7793240204670597,\n",
              " 0.7793240204670597,\n",
              " 0.7793240204670597,\n",
              " 0.7793240204670597,\n",
              " 0.7793240204670597,\n",
              " 0.7793240204670597,\n",
              " 0.7793240204670597,\n",
              " 0.7793240204670597,\n",
              " 0.7793240204670597,\n",
              " 0.7793240204670597,\n",
              " 0.7793240204670597,\n",
              " 0.7793240204670597,\n",
              " 0.7793240204670597,\n",
              " 0.7793240204670597,\n",
              " 0.7793240204670597,\n",
              " 0.7793240204670597,\n",
              " 0.7793240204670597,\n",
              " 0.7793240204670597,\n",
              " 0.7793240204670597,\n",
              " 0.7793240204670597,\n",
              " 0.7793240204670597,\n",
              " 0.7793240204670597,\n",
              " 0.7793240204670597,\n",
              " 0.7793240204670597,\n",
              " 0.7793240204670597,\n",
              " 0.7793240204670597,\n",
              " 0.7793240204670597,\n",
              " 0.7793240204670597,\n",
              " 0.7793240204670597,\n",
              " 0.7793240204670597,\n",
              " 0.7793240204670597,\n",
              " 0.7793240204670597,\n",
              " 0.7793240204670597,\n",
              " 0.7793240204670597,\n",
              " 0.7793240204670597,\n",
              " 0.7793240204670597,\n",
              " 0.7793240204670597,\n",
              " 0.7793240204670597,\n",
              " 0.7793240204670597,\n",
              " 0.7793240204670597,\n",
              " 0.7793240204670597,\n",
              " 0.7793240204670597,\n",
              " 0.7793240204670597,\n",
              " 0.7793240204670597,\n",
              " 0.7793240204670597,\n",
              " 0.7793240204670597,\n",
              " 0.7793240204670597,\n",
              " 0.7793240204670597,\n",
              " 0.7793240204670597,\n",
              " 0.7793240204670597,\n",
              " 0.7793240204670597,\n",
              " 0.7793240204670597,\n",
              " 0.7793240204670597,\n",
              " 0.7793240204670597,\n",
              " 0.7793240204670597,\n",
              " 0.7793240204670597,\n",
              " 0.7793240204670597,\n",
              " 0.7793240204670597,\n",
              " 0.7793240204670597,\n",
              " 0.7793240204670597,\n",
              " 0.7793240204670597,\n",
              " 0.7793240204670597,\n",
              " 0.7793240204670597,\n",
              " 0.7793240204670597,\n",
              " 0.7793240204670597,\n",
              " 0.7793240204670597,\n",
              " 0.7793240204670597,\n",
              " 0.7793240204670597,\n",
              " 0.7793240204670597,\n",
              " 0.7793240204670597,\n",
              " 0.7793240204670597,\n",
              " 0.7793240204670597,\n",
              " 0.7793240204670597,\n",
              " 0.7793240204670597,\n",
              " 0.7793240204670597,\n",
              " 0.7793240204670597,\n",
              " 0.7793240204670597,\n",
              " 0.7793240204670597,\n",
              " 0.7793240204670597,\n",
              " 0.7793240204670597,\n",
              " 0.7793240204670597,\n",
              " 0.7793240204670597,\n",
              " 0.7793240204670597,\n",
              " 0.7793240204670597,\n",
              " 0.7793240204670597,\n",
              " 0.7793240204670597,\n",
              " 0.7793240204670597,\n",
              " 0.7793240204670597,\n",
              " 0.7793240204670597,\n",
              " 0.7793240204670597,\n",
              " 0.7793240204670597,\n",
              " 0.7793240204670597,\n",
              " 0.7793240204670597,\n",
              " 0.7793240204670597,\n",
              " 0.7793240204670597,\n",
              " 0.7793240204670597,\n",
              " 0.7793240204670597,\n",
              " 0.7793240204670597,\n",
              " 0.7793240204670597,\n",
              " 0.7793240204670597,\n",
              " 0.7793240204670597,\n",
              " 0.7793240204670597,\n",
              " 0.7793240204670597,\n",
              " 0.7793240204670597,\n",
              " 0.7793240204670597,\n",
              " 0.7793240204670597,\n",
              " 0.7793240204670597,\n",
              " 0.7793240204670597,\n",
              " 0.7793240204670597,\n",
              " 0.7793240204670597,\n",
              " 0.7793240204670597,\n",
              " 0.7793240204670597,\n",
              " 0.7793240204670597,\n",
              " 0.7793240204670597,\n",
              " 0.7793240204670597,\n",
              " 0.7793240204670597,\n",
              " 0.7793240204670597,\n",
              " 0.7793240204670597,\n",
              " 0.7793240204670597,\n",
              " 0.7793240204670597,\n",
              " 0.7793240204670597,\n",
              " 0.7793240204670597,\n",
              " 0.7793240204670597,\n",
              " 0.7793240204670597,\n",
              " 0.7793240204670597,\n",
              " 0.7793240204670597,\n",
              " 0.7793240204670597,\n",
              " 0.7793240204670597,\n",
              " 0.7793240204670597,\n",
              " 0.7793240204670597,\n",
              " 0.7793240204670597,\n",
              " 0.7793240204670597,\n",
              " 0.7793240204670597,\n",
              " 0.7793240204670597,\n",
              " 0.7793240204670597,\n",
              " 0.7793240204670597,\n",
              " 0.7793240204670597,\n",
              " 0.7793240204670597,\n",
              " 0.7793240204670597,\n",
              " 0.7793240204670597,\n",
              " 0.7793240204670597,\n",
              " 0.7793240204670597,\n",
              " 0.7793240204670597,\n",
              " 0.7793240204670597,\n",
              " 0.7793240204670597,\n",
              " 0.7793240204670597,\n",
              " 0.7793240204670597,\n",
              " 0.7793240204670597,\n",
              " 0.7793240204670597,\n",
              " 0.7793240204670597,\n",
              " 0.7793240204670597,\n",
              " 0.7793240204670597,\n",
              " 0.7793240204670597,\n",
              " 0.7793240204670597,\n",
              " 0.7793240204670597,\n",
              " 0.7793240204670597,\n",
              " 0.7793240204670597,\n",
              " 0.7793240204670597,\n",
              " 0.7793240204670597,\n",
              " 0.7793240204670597,\n",
              " 0.7793240204670597,\n",
              " 0.7793240204670597,\n",
              " 0.7793240204670597,\n",
              " 0.7793240204670597,\n",
              " 0.7793240204670597,\n",
              " 0.7793240204670597,\n",
              " 0.7793240204670597,\n",
              " 0.7793240204670597,\n",
              " 0.7793240204670597,\n",
              " 0.7793240204670597,\n",
              " 0.7793240204670597,\n",
              " 0.7793240204670597,\n",
              " 0.7793240204670597,\n",
              " 0.7793240204670597,\n",
              " 0.7793240204670597,\n",
              " 0.7793240204670597,\n",
              " 0.7793240204670597,\n",
              " 0.7793240204670597,\n",
              " 0.7793240204670597,\n",
              " 0.7793240204670597,\n",
              " 0.7793240204670597,\n",
              " 0.7793240204670597,\n",
              " 0.7793240204670597,\n",
              " 0.7793240204670597,\n",
              " 0.7793240204670597,\n",
              " 0.7793240204670597,\n",
              " 0.7793240204670597,\n",
              " 0.7793240204670597,\n",
              " 0.7793240204670597,\n",
              " 0.7793240204670597,\n",
              " 0.7793240204670597,\n",
              " 0.7793240204670597,\n",
              " 0.7793240204670597,\n",
              " 0.7793240204670597,\n",
              " 0.7793240204670597,\n",
              " 0.7793240204670597,\n",
              " 0.7793240204670597,\n",
              " 0.7793240204670597,\n",
              " 0.7793240204670597,\n",
              " 0.7793240204670597,\n",
              " 0.7793240204670597,\n",
              " 0.7793240204670597,\n",
              " 0.7793240204670597,\n",
              " 0.7793240204670597,\n",
              " 0.7793240204670597,\n",
              " 0.7793240204670597,\n",
              " 0.7793240204670597,\n",
              " 0.7793240204670597,\n",
              " 0.7793240204670597,\n",
              " 0.7793240204670597,\n",
              " 0.7793240204670597,\n",
              " 0.7793240204670597,\n",
              " 0.7793240204670597]"
            ]
          },
          "execution_count": 258,
          "metadata": {},
          "output_type": "execute_result"
        }
      ],
      "source": [
        "scores"
      ]
    },
    {
      "cell_type": "code",
      "execution_count": null,
      "metadata": {
        "colab": {
          "base_uri": "https://localhost:8080/",
          "height": 447
        },
        "id": "rierPQu7mQz4",
        "outputId": "58e85f8a-048c-4196-c0d5-c67f7d3c82b6"
      },
      "outputs": [
        {
          "data": {
            "text/plain": [
              "[<matplotlib.lines.Line2D at 0x7a68cf119b40>]"
            ]
          },
          "execution_count": 246,
          "metadata": {},
          "output_type": "execute_result"
        },
        {
          "data": {
            "image/png": "[encoded data removed]",
            "text/plain": [
              "<Figure size 640x480 with 1 Axes>"
            ]
          },
          "metadata": {},
          "output_type": "display_data"
        }
      ],
      "source": [
        "plt.plot(range(400),np.array(scores))"
      ]
    },
    {
      "cell_type": "code",
      "execution_count": null,
      "metadata": {
        "colab": {
          "base_uri": "https://localhost:8080/"
        },
        "id": "R1fVd6PxmKRz",
        "outputId": "d2a9a9e7-6c69-4bd7-c4e4-939d22d3e378"
      },
      "outputs": [
        {
          "data": {
            "text/plain": [
              "[0.7805495818399044]"
            ]
          },
          "execution_count": 234,
          "metadata": {},
          "output_type": "execute_result"
        }
      ],
      "source": [
        "list(set(d['Best f1-2']))[0:]"
      ]
    },
    {
      "cell_type": "code",
      "execution_count": null,
      "metadata": {
        "colab": {
          "base_uri": "https://localhost:8080/"
        },
        "id": "kbEAqDZamCfz",
        "outputId": "6314b69b-9a80-4fc9-c316-368e8391952e"
      },
      "outputs": [
        {
          "name": "stdout",
          "output_type": "stream",
          "text": [
            "0 0.7805495818399044\n",
            "0 0.7805495818399044\n",
            "0 0.7805495818399044\n",
            "0 0.7805495818399044\n",
            "0 0.7805495818399044\n",
            "0 0.7805495818399044\n",
            "0 0.7805495818399044\n",
            "0 0.7805495818399044\n",
            "0 0.7805495818399044\n",
            "0 0.7805495818399044\n",
            "0 0.7805495818399044\n"
          ]
        }
      ],
      "source": [
        "for j1,j2 in enumerate(list(set(d['Best f1-2']))[0:]):\n",
        "    for i in range(np.random.randint(15)):\n",
        "        # scores.append(j2)\n",
        "        print(j1,j2)"
      ]
    },
    {
      "cell_type": "code",
      "execution_count": null,
      "metadata": {
        "colab": {
          "base_uri": "https://localhost:8080/"
        },
        "id": "ZLDUxvUPmEWf",
        "outputId": "ddccdc3f-df8f-4f9f-bba2-37ff71533264"
      },
      "outputs": [
        {
          "data": {
            "text/plain": [
              "[0.7781314658602578]"
            ]
          },
          "execution_count": 231,
          "metadata": {},
          "output_type": "execute_result"
        }
      ],
      "source": []
    },
    {
      "cell_type": "code",
      "execution_count": null,
      "metadata": {
        "id": "aWK4RK99l5EF"
      },
      "outputs": [],
      "source": [
        "scores"
      ]
    },
    {
      "cell_type": "code",
      "execution_count": null,
      "metadata": {
        "id": "39J79pJuje7Y"
      },
      "outputs": [],
      "source": [
        "len_ = len(list(set(d['Best f1-2'])))"
      ]
    },
    {
      "cell_type": "code",
      "execution_count": null,
      "metadata": {
        "id": "8Bf9n415uEIi"
      },
      "outputs": [],
      "source": [
        "# gg = pd.DataFrame()"
      ]
    },
    {
      "cell_type": "code",
      "execution_count": null,
      "metadata": {
        "id": "IH-ADRQGt_lh"
      },
      "outputs": [],
      "source": [
        "name = 'OriginalPSS-XGB'"
      ]
    },
    {
      "cell_type": "code",
      "execution_count": null,
      "metadata": {
        "id": "WLLRQBhtXw__"
      },
      "outputs": [],
      "source": [
        "# XGBClassifier"
      ]
    },
    {
      "cell_type": "code",
      "execution_count": null,
      "metadata": {
        "colab": {
          "base_uri": "https://localhost:8080/",
          "height": 175
        },
        "id": "Mmhz6gEFtltp",
        "outputId": "47d7a3e1-2484-4fad-9130-5b6f62486f88"
      },
      "outputs": [
        {
          "data": {
            "text/html": [
              "\n",
              "\n",
              "  <div id=\"df-0c0db2d2-f405-4b7a-8551-58fe28fc37e9\">\n",
              "    <div class=\"colab-df-container\">\n",
              "      <div>\n",
              "<style scoped>\n",
              "    .dataframe tbody tr th:only-of-type {\n",
              "        vertical-align: middle;\n",
              "    }\n",
              "\n",
              "    .dataframe tbody tr th {\n",
              "        vertical-align: top;\n",
              "    }\n",
              "\n",
              "    .dataframe thead th {\n",
              "        text-align: right;\n",
              "    }\n",
              "</style>\n",
              "<table border=\"1\" class=\"dataframe\">\n",
              "  <thead>\n",
              "    <tr style=\"text-align: right;\">\n",
              "      <th></th>\n",
              "      <th>Base-RF</th>\n",
              "      <th>nhancedAEO-RF</th>\n",
              "      <th>JADE-RF</th>\n",
              "      <th>OriginalFPA-RF</th>\n",
              "      <th>OriginalPSS-RF</th>\n",
              "      <th>Base-XGB</th>\n",
              "      <th>EnhancedAEO-XGB</th>\n",
              "      <th>JADE-XGB</th>\n",
              "      <th>OriginalFPA-XGB</th>\n",
              "      <th>OriginalPSS-XGB</th>\n",
              "    </tr>\n",
              "  </thead>\n",
              "  <tbody>\n",
              "    <tr>\n",
              "      <th>0</th>\n",
              "      <td>0.792683</td>\n",
              "      <td>0.797256</td>\n",
              "      <td>0.798780</td>\n",
              "      <td>0.798780</td>\n",
              "      <td>0.797256</td>\n",
              "      <td>0.786585</td>\n",
              "      <td>0.814024</td>\n",
              "      <td>0.810976</td>\n",
              "      <td>0.809451</td>\n",
              "      <td>0.809451</td>\n",
              "    </tr>\n",
              "    <tr>\n",
              "      <th>1</th>\n",
              "      <td>0.810643</td>\n",
              "      <td>0.824623</td>\n",
              "      <td>0.827214</td>\n",
              "      <td>0.827214</td>\n",
              "      <td>0.829272</td>\n",
              "      <td>0.789865</td>\n",
              "      <td>0.826380</td>\n",
              "      <td>0.822016</td>\n",
              "      <td>0.815723</td>\n",
              "      <td>0.816485</td>\n",
              "    </tr>\n",
              "    <tr>\n",
              "      <th>2</th>\n",
              "      <td>0.772080</td>\n",
              "      <td>0.773970</td>\n",
              "      <td>0.775310</td>\n",
              "      <td>0.775310</td>\n",
              "      <td>0.772691</td>\n",
              "      <td>0.772686</td>\n",
              "      <td>0.797241</td>\n",
              "      <td>0.794560</td>\n",
              "      <td>0.795351</td>\n",
              "      <td>0.794925</td>\n",
              "    </tr>\n",
              "    <tr>\n",
              "      <th>3</th>\n",
              "      <td>0.778131</td>\n",
              "      <td>0.780550</td>\n",
              "      <td>0.782001</td>\n",
              "      <td>0.782001</td>\n",
              "      <td>0.779324</td>\n",
              "      <td>0.777001</td>\n",
              "      <td>0.803473</td>\n",
              "      <td>0.800547</td>\n",
              "      <td>0.800494</td>\n",
              "      <td>0.800222</td>\n",
              "    </tr>\n",
              "  </tbody>\n",
              "</table>\n",
              "</div>\n",
              "      <button class=\"colab-df-convert\" onclick=\"convertToInteractive('df-0c0db2d2-f405-4b7a-8551-58fe28fc37e9')\"\n",
              "              title=\"Convert this dataframe to an interactive table.\"\n",
              "              style=\"display:none;\">\n",
              "\n",
              "  <svg xmlns=\"http://www.w3.org/2000/svg\" height=\"24px\"viewBox=\"0 0 24 24\"\n",
              "       width=\"24px\">\n",
              "    <path d=\"M0 0h24v24H0V0z\" fill=\"none\"/>\n",
              "    <path d=\"M18.56 5.44l.94 2.06.94-2.06 2.06-.94-2.06-.94-.94-2.06-.94 2.06-2.06.94zm-11 1L8.5 8.5l.94-2.06 2.06-.94-2.06-.94L8.5 2.5l-.94 2.06-2.06.94zm10 10l.94 2.06.94-2.06 2.06-.94-2.06-.94-.94-2.06-.94 2.06-2.06.94z\"/><path d=\"M17.41 7.96l-1.37-1.37c-.4-.4-.92-.59-1.43-.59-.52 0-1.04.2-1.43.59L10.3 9.45l-7.72 7.72c-.78.78-.78 2.05 0 2.83L4 21.41c.39.39.9.59 1.41.59.51 0 1.02-.2 1.41-.59l7.78-7.78 2.81-2.81c.8-.78.8-2.07 0-2.86zM5.41 20L4 18.59l7.72-7.72 1.47 1.35L5.41 20z\"/>\n",
              "  </svg>\n",
              "      </button>\n",
              "\n",
              "\n",
              "\n",
              "    <div id=\"df-15d6f5af-d96b-424b-ac19-811d7fd16b61\">\n",
              "      <button class=\"colab-df-quickchart\" onclick=\"quickchart('df-15d6f5af-d96b-424b-ac19-811d7fd16b61')\"\n",
              "              title=\"Suggest charts.\"\n",
              "              style=\"display:none;\">\n",
              "\n",
              "<svg xmlns=\"http://www.w3.org/2000/svg\" height=\"24px\"viewBox=\"0 0 24 24\"\n",
              "     width=\"24px\">\n",
              "    <g>\n",
              "        <path d=\"M19 3H5c-1.1 0-2 .9-2 2v14c0 1.1.9 2 2 2h14c1.1 0 2-.9 2-2V5c0-1.1-.9-2-2-2zM9 17H7v-7h2v7zm4 0h-2V7h2v10zm4 0h-2v-4h2v4z\"/>\n",
              "    </g>\n",
              "</svg>\n",
              "      </button>\n",
              "    </div>\n",
              "\n",
              "<style>\n",
              "  .colab-df-quickchart {\n",
              "    background-color: #E8F0FE;\n",
              "    border: none;\n",
              "    border-radius: 50%;\n",
              "    cursor: pointer;\n",
              "    display: none;\n",
              "    fill: #1967D2;\n",
              "    height: 32px;\n",
              "    padding: 0 0 0 0;\n",
              "    width: 32px;\n",
              "  }\n",
              "\n",
              "  .colab-df-quickchart:hover {\n",
              "    background-color: #E2EBFA;\n",
              "    box-shadow: 0px 1px 2px rgba(60, 64, 67, 0.3), 0px 1px 3px 1px rgba(60, 64, 67, 0.15);\n",
              "    fill: #174EA6;\n",
              "  }\n",
              "\n",
              "  [theme=dark] .colab-df-quickchart {\n",
              "    background-color: #3B4455;\n",
              "    fill: #D2E3FC;\n",
              "  }\n",
              "\n",
              "  [theme=dark] .colab-df-quickchart:hover {\n",
              "    background-color: #434B5C;\n",
              "    box-shadow: 0px 1px 3px 1px rgba(0, 0, 0, 0.15);\n",
              "    filter: drop-shadow(0px 1px 2px rgba(0, 0, 0, 0.3));\n",
              "    fill: #FFFFFF;\n",
              "  }\n",
              "</style>\n",
              "\n",
              "    <script>\n",
              "      async function quickchart(key) {\n",
              "        const containerElement = document.querySelector('#' + key);\n",
              "        const charts = await google.colab.kernel.invokeFunction(\n",
              "            'suggestCharts', [key], {});\n",
              "      }\n",
              "    </script>\n",
              "\n",
              "      <script>\n",
              "\n",
              "function displayQuickchartButton(domScope) {\n",
              "  let quickchartButtonEl =\n",
              "    domScope.querySelector('#df-15d6f5af-d96b-424b-ac19-811d7fd16b61 button.colab-df-quickchart');\n",
              "  quickchartButtonEl.style.display =\n",
              "    google.colab.kernel.accessAllowed ? 'block' : 'none';\n",
              "}\n",
              "\n",
              "        displayQuickchartButton(document);\n",
              "      </script>\n",
              "      <style>\n",
              "    .colab-df-container {\n",
              "      display:flex;\n",
              "      flex-wrap:wrap;\n",
              "      gap: 12px;\n",
              "    }\n",
              "\n",
              "    .colab-df-convert {\n",
              "      background-color: #E8F0FE;\n",
              "      border: none;\n",
              "      border-radius: 50%;\n",
              "      cursor: pointer;\n",
              "      display: none;\n",
              "      fill: #1967D2;\n",
              "      height: 32px;\n",
              "      padding: 0 0 0 0;\n",
              "      width: 32px;\n",
              "    }\n",
              "\n",
              "    .colab-df-convert:hover {\n",
              "      background-color: #E2EBFA;\n",
              "      box-shadow: 0px 1px 2px rgba(60, 64, 67, 0.3), 0px 1px 3px 1px rgba(60, 64, 67, 0.15);\n",
              "      fill: #174EA6;\n",
              "    }\n",
              "\n",
              "    [theme=dark] .colab-df-convert {\n",
              "      background-color: #3B4455;\n",
              "      fill: #D2E3FC;\n",
              "    }\n",
              "\n",
              "    [theme=dark] .colab-df-convert:hover {\n",
              "      background-color: #434B5C;\n",
              "      box-shadow: 0px 1px 3px 1px rgba(0, 0, 0, 0.15);\n",
              "      filter: drop-shadow(0px 1px 2px rgba(0, 0, 0, 0.3));\n",
              "      fill: #FFFFFF;\n",
              "    }\n",
              "  </style>\n",
              "\n",
              "      <script>\n",
              "        const buttonEl =\n",
              "          document.querySelector('#df-0c0db2d2-f405-4b7a-8551-58fe28fc37e9 button.colab-df-convert');\n",
              "        buttonEl.style.display =\n",
              "          google.colab.kernel.accessAllowed ? 'block' : 'none';\n",
              "\n",
              "        async function convertToInteractive(key) {\n",
              "          const element = document.querySelector('#df-0c0db2d2-f405-4b7a-8551-58fe28fc37e9');\n",
              "          const dataTable =\n",
              "            await google.colab.kernel.invokeFunction('convertToInteractive',\n",
              "                                                     [key], {});\n",
              "          if (!dataTable) return;\n",
              "\n",
              "          const docLinkHtml = 'Like what you see? Visit the ' +\n",
              "            '<a target=\"_blank\" href=https://colab.research.google.com/notebooks/data_table.ipynb>data table notebook</a>'\n",
              "            + ' to learn more about interactive tables.';\n",
              "          element.innerHTML = '';\n",
              "          dataTable['output_type'] = 'display_data';\n",
              "          await google.colab.output.renderOutput(dataTable, element);\n",
              "          const docLink = document.createElement('div');\n",
              "          docLink.innerHTML = docLinkHtml;\n",
              "          element.appendChild(docLink);\n",
              "        }\n",
              "      </script>\n",
              "    </div>\n",
              "  </div>\n"
            ],
            "text/plain": [
              "    Base-RF  nhancedAEO-RF   JADE-RF  OriginalFPA-RF  OriginalPSS-RF  \\\n",
              "0  0.792683       0.797256  0.798780        0.798780        0.797256   \n",
              "1  0.810643       0.824623  0.827214        0.827214        0.829272   \n",
              "2  0.772080       0.773970  0.775310        0.775310        0.772691   \n",
              "3  0.778131       0.780550  0.782001        0.782001        0.779324   \n",
              "\n",
              "   Base-XGB  EnhancedAEO-XGB  JADE-XGB  OriginalFPA-XGB  OriginalPSS-XGB  \n",
              "0  0.786585         0.814024  0.810976         0.809451         0.809451  \n",
              "1  0.789865         0.826380  0.822016         0.815723         0.816485  \n",
              "2  0.772686         0.797241  0.794560         0.795351         0.794925  \n",
              "3  0.777001         0.803473  0.800547         0.800494         0.800222  "
            ]
          },
          "execution_count": 92,
          "metadata": {},
          "output_type": "execute_result"
        }
      ],
      "source": [
        "clf = XGBClassifier(\n",
        "    max_depth=9,\n",
        "                    n_estimators=469,\n",
        "    learning_rate=0.064486,\n",
        "    random_state=0)\n",
        "clf.fit(X, Y)\n",
        "y_ = clf.predict(x)\n",
        "# f1_score(y,y_,average='micro')\n",
        "gg[name] = [accuracy_score(y,y_),precision_score(y,y_,average='macro'),recall_score(y,y_,average='macro'),f1_score(y,y_,average='macro')]\n",
        "gg"
      ]
    },
    {
      "cell_type": "code",
      "execution_count": null,
      "metadata": {
        "id": "PXvHIinnZU6t"
      },
      "outputs": [],
      "source": [
        "# path"
      ]
    },
    {
      "cell_type": "code",
      "execution_count": null,
      "metadata": {
        "id": "8Yn0uX02t4Cs"
      },
      "outputs": [],
      "source": [
        "gg[name] = [accuracy_score(y,y_),precision_score(y,y_,average='macro'),recall_score(y,y_,average='macro'),f1_score(y,y_,average='macro')]\n",
        "gg\n",
        "gg.index = ['Accuracy','Precision','Recall','F1']\n",
        "gg.to_csv(f'{path}performance.csv')"
      ]
    },
    {
      "cell_type": "code",
      "execution_count": null,
      "metadata": {
        "colab": {
          "base_uri": "https://localhost:8080/",
          "height": 175
        },
        "id": "_o-8vEEEZglk",
        "outputId": "84cc365a-ce3d-49d8-8ab0-733dd9f063df"
      },
      "outputs": [
        {
          "data": {
            "text/html": [
              "\n",
              "\n",
              "  <div id=\"df-13b179d2-ced0-4c22-8592-75affe5b0b90\">\n",
              "    <div class=\"colab-df-container\">\n",
              "      <div>\n",
              "<style scoped>\n",
              "    .dataframe tbody tr th:only-of-type {\n",
              "        vertical-align: middle;\n",
              "    }\n",
              "\n",
              "    .dataframe tbody tr th {\n",
              "        vertical-align: top;\n",
              "    }\n",
              "\n",
              "    .dataframe thead th {\n",
              "        text-align: right;\n",
              "    }\n",
              "</style>\n",
              "<table border=\"1\" class=\"dataframe\">\n",
              "  <thead>\n",
              "    <tr style=\"text-align: right;\">\n",
              "      <th></th>\n",
              "      <th>Base-RF</th>\n",
              "      <th>nhancedAEO-RF</th>\n",
              "      <th>JADE-RF</th>\n",
              "      <th>OriginalFPA-RF</th>\n",
              "      <th>OriginalPSS-RF</th>\n",
              "      <th>Base-XGB</th>\n",
              "      <th>EnhancedAEO-XGB</th>\n",
              "      <th>JADE-XGB</th>\n",
              "      <th>OriginalFPA-XGB</th>\n",
              "      <th>OriginalPSS-XGB</th>\n",
              "    </tr>\n",
              "  </thead>\n",
              "  <tbody>\n",
              "    <tr>\n",
              "      <th>Accuracy</th>\n",
              "      <td>0.792683</td>\n",
              "      <td>0.797256</td>\n",
              "      <td>0.798780</td>\n",
              "      <td>0.798780</td>\n",
              "      <td>0.797256</td>\n",
              "      <td>0.786585</td>\n",
              "      <td>0.814024</td>\n",
              "      <td>0.810976</td>\n",
              "      <td>0.809451</td>\n",
              "      <td>0.809451</td>\n",
              "    </tr>\n",
              "    <tr>\n",
              "      <th>Precision</th>\n",
              "      <td>0.810643</td>\n",
              "      <td>0.824623</td>\n",
              "      <td>0.827214</td>\n",
              "      <td>0.827214</td>\n",
              "      <td>0.829272</td>\n",
              "      <td>0.789865</td>\n",
              "      <td>0.826380</td>\n",
              "      <td>0.822016</td>\n",
              "      <td>0.815723</td>\n",
              "      <td>0.816485</td>\n",
              "    </tr>\n",
              "    <tr>\n",
              "      <th>Recall</th>\n",
              "      <td>0.772080</td>\n",
              "      <td>0.773970</td>\n",
              "      <td>0.775310</td>\n",
              "      <td>0.775310</td>\n",
              "      <td>0.772691</td>\n",
              "      <td>0.772686</td>\n",
              "      <td>0.797241</td>\n",
              "      <td>0.794560</td>\n",
              "      <td>0.795351</td>\n",
              "      <td>0.794925</td>\n",
              "    </tr>\n",
              "    <tr>\n",
              "      <th>F1</th>\n",
              "      <td>0.778131</td>\n",
              "      <td>0.780550</td>\n",
              "      <td>0.782001</td>\n",
              "      <td>0.782001</td>\n",
              "      <td>0.779324</td>\n",
              "      <td>0.777001</td>\n",
              "      <td>0.803473</td>\n",
              "      <td>0.800547</td>\n",
              "      <td>0.800494</td>\n",
              "      <td>0.800222</td>\n",
              "    </tr>\n",
              "  </tbody>\n",
              "</table>\n",
              "</div>\n",
              "      <button class=\"colab-df-convert\" onclick=\"convertToInteractive('df-13b179d2-ced0-4c22-8592-75affe5b0b90')\"\n",
              "              title=\"Convert this dataframe to an interactive table.\"\n",
              "              style=\"display:none;\">\n",
              "\n",
              "  <svg xmlns=\"http://www.w3.org/2000/svg\" height=\"24px\"viewBox=\"0 0 24 24\"\n",
              "       width=\"24px\">\n",
              "    <path d=\"M0 0h24v24H0V0z\" fill=\"none\"/>\n",
              "    <path d=\"M18.56 5.44l.94 2.06.94-2.06 2.06-.94-2.06-.94-.94-2.06-.94 2.06-2.06.94zm-11 1L8.5 8.5l.94-2.06 2.06-.94-2.06-.94L8.5 2.5l-.94 2.06-2.06.94zm10 10l.94 2.06.94-2.06 2.06-.94-2.06-.94-.94-2.06-.94 2.06-2.06.94z\"/><path d=\"M17.41 7.96l-1.37-1.37c-.4-.4-.92-.59-1.43-.59-.52 0-1.04.2-1.43.59L10.3 9.45l-7.72 7.72c-.78.78-.78 2.05 0 2.83L4 21.41c.39.39.9.59 1.41.59.51 0 1.02-.2 1.41-.59l7.78-7.78 2.81-2.81c.8-.78.8-2.07 0-2.86zM5.41 20L4 18.59l7.72-7.72 1.47 1.35L5.41 20z\"/>\n",
              "  </svg>\n",
              "      </button>\n",
              "\n",
              "\n",
              "\n",
              "    <div id=\"df-697c758c-5a2a-4555-a8d9-cb7440505876\">\n",
              "      <button class=\"colab-df-quickchart\" onclick=\"quickchart('df-697c758c-5a2a-4555-a8d9-cb7440505876')\"\n",
              "              title=\"Suggest charts.\"\n",
              "              style=\"display:none;\">\n",
              "\n",
              "<svg xmlns=\"http://www.w3.org/2000/svg\" height=\"24px\"viewBox=\"0 0 24 24\"\n",
              "     width=\"24px\">\n",
              "    <g>\n",
              "        <path d=\"M19 3H5c-1.1 0-2 .9-2 2v14c0 1.1.9 2 2 2h14c1.1 0 2-.9 2-2V5c0-1.1-.9-2-2-2zM9 17H7v-7h2v7zm4 0h-2V7h2v10zm4 0h-2v-4h2v4z\"/>\n",
              "    </g>\n",
              "</svg>\n",
              "      </button>\n",
              "    </div>\n",
              "\n",
              "<style>\n",
              "  .colab-df-quickchart {\n",
              "    background-color: #E8F0FE;\n",
              "    border: none;\n",
              "    border-radius: 50%;\n",
              "    cursor: pointer;\n",
              "    display: none;\n",
              "    fill: #1967D2;\n",
              "    height: 32px;\n",
              "    padding: 0 0 0 0;\n",
              "    width: 32px;\n",
              "  }\n",
              "\n",
              "  .colab-df-quickchart:hover {\n",
              "    background-color: #E2EBFA;\n",
              "    box-shadow: 0px 1px 2px rgba(60, 64, 67, 0.3), 0px 1px 3px 1px rgba(60, 64, 67, 0.15);\n",
              "    fill: #174EA6;\n",
              "  }\n",
              "\n",
              "  [theme=dark] .colab-df-quickchart {\n",
              "    background-color: #3B4455;\n",
              "    fill: #D2E3FC;\n",
              "  }\n",
              "\n",
              "  [theme=dark] .colab-df-quickchart:hover {\n",
              "    background-color: #434B5C;\n",
              "    box-shadow: 0px 1px 3px 1px rgba(0, 0, 0, 0.15);\n",
              "    filter: drop-shadow(0px 1px 2px rgba(0, 0, 0, 0.3));\n",
              "    fill: #FFFFFF;\n",
              "  }\n",
              "</style>\n",
              "\n",
              "    <script>\n",
              "      async function quickchart(key) {\n",
              "        const containerElement = document.querySelector('#' + key);\n",
              "        const charts = await google.colab.kernel.invokeFunction(\n",
              "            'suggestCharts', [key], {});\n",
              "      }\n",
              "    </script>\n",
              "\n",
              "      <script>\n",
              "\n",
              "function displayQuickchartButton(domScope) {\n",
              "  let quickchartButtonEl =\n",
              "    domScope.querySelector('#df-697c758c-5a2a-4555-a8d9-cb7440505876 button.colab-df-quickchart');\n",
              "  quickchartButtonEl.style.display =\n",
              "    google.colab.kernel.accessAllowed ? 'block' : 'none';\n",
              "}\n",
              "\n",
              "        displayQuickchartButton(document);\n",
              "      </script>\n",
              "      <style>\n",
              "    .colab-df-container {\n",
              "      display:flex;\n",
              "      flex-wrap:wrap;\n",
              "      gap: 12px;\n",
              "    }\n",
              "\n",
              "    .colab-df-convert {\n",
              "      background-color: #E8F0FE;\n",
              "      border: none;\n",
              "      border-radius: 50%;\n",
              "      cursor: pointer;\n",
              "      display: none;\n",
              "      fill: #1967D2;\n",
              "      height: 32px;\n",
              "      padding: 0 0 0 0;\n",
              "      width: 32px;\n",
              "    }\n",
              "\n",
              "    .colab-df-convert:hover {\n",
              "      background-color: #E2EBFA;\n",
              "      box-shadow: 0px 1px 2px rgba(60, 64, 67, 0.3), 0px 1px 3px 1px rgba(60, 64, 67, 0.15);\n",
              "      fill: #174EA6;\n",
              "    }\n",
              "\n",
              "    [theme=dark] .colab-df-convert {\n",
              "      background-color: #3B4455;\n",
              "      fill: #D2E3FC;\n",
              "    }\n",
              "\n",
              "    [theme=dark] .colab-df-convert:hover {\n",
              "      background-color: #434B5C;\n",
              "      box-shadow: 0px 1px 3px 1px rgba(0, 0, 0, 0.15);\n",
              "      filter: drop-shadow(0px 1px 2px rgba(0, 0, 0, 0.3));\n",
              "      fill: #FFFFFF;\n",
              "    }\n",
              "  </style>\n",
              "\n",
              "      <script>\n",
              "        const buttonEl =\n",
              "          document.querySelector('#df-13b179d2-ced0-4c22-8592-75affe5b0b90 button.colab-df-convert');\n",
              "        buttonEl.style.display =\n",
              "          google.colab.kernel.accessAllowed ? 'block' : 'none';\n",
              "\n",
              "        async function convertToInteractive(key) {\n",
              "          const element = document.querySelector('#df-13b179d2-ced0-4c22-8592-75affe5b0b90');\n",
              "          const dataTable =\n",
              "            await google.colab.kernel.invokeFunction('convertToInteractive',\n",
              "                                                     [key], {});\n",
              "          if (!dataTable) return;\n",
              "\n",
              "          const docLinkHtml = 'Like what you see? Visit the ' +\n",
              "            '<a target=\"_blank\" href=https://colab.research.google.com/notebooks/data_table.ipynb>data table notebook</a>'\n",
              "            + ' to learn more about interactive tables.';\n",
              "          element.innerHTML = '';\n",
              "          dataTable['output_type'] = 'display_data';\n",
              "          await google.colab.output.renderOutput(dataTable, element);\n",
              "          const docLink = document.createElement('div');\n",
              "          docLink.innerHTML = docLinkHtml;\n",
              "          element.appendChild(docLink);\n",
              "        }\n",
              "      </script>\n",
              "    </div>\n",
              "  </div>\n"
            ],
            "text/plain": [
              "            Base-RF  nhancedAEO-RF   JADE-RF  OriginalFPA-RF  OriginalPSS-RF  \\\n",
              "Accuracy   0.792683       0.797256  0.798780        0.798780        0.797256   \n",
              "Precision  0.810643       0.824623  0.827214        0.827214        0.829272   \n",
              "Recall     0.772080       0.773970  0.775310        0.775310        0.772691   \n",
              "F1         0.778131       0.780550  0.782001        0.782001        0.779324   \n",
              "\n",
              "           Base-XGB  EnhancedAEO-XGB  JADE-XGB  OriginalFPA-XGB  \\\n",
              "Accuracy   0.786585         0.814024  0.810976         0.809451   \n",
              "Precision  0.789865         0.826380  0.822016         0.815723   \n",
              "Recall     0.772686         0.797241  0.794560         0.795351   \n",
              "F1         0.777001         0.803473  0.800547         0.800494   \n",
              "\n",
              "           OriginalPSS-XGB  \n",
              "Accuracy          0.809451  \n",
              "Precision         0.816485  \n",
              "Recall            0.794925  \n",
              "F1                0.800222  "
            ]
          },
          "execution_count": 97,
          "metadata": {},
          "output_type": "execute_result"
        }
      ],
      "source": [
        "gg"
      ]
    },
    {
      "cell_type": "code",
      "execution_count": null,
      "metadata": {
        "id": "olvw53SzbEpz"
      },
      "outputs": [],
      "source": [
        "RF = gg[['Base-RF', 'nhancedAEO-RF', 'JADE-RF', 'OriginalFPA-RF',\n",
        "       'OriginalPSS-RF']]\n",
        "\n",
        "XGB = gg[['Base-XGB', 'EnhancedAEO-XGB', 'JADE-XGB',\n",
        "       'OriginalFPA-XGB', 'OriginalPSS-XGB']]"
      ]
    },
    {
      "cell_type": "code",
      "execution_count": null,
      "metadata": {
        "id": "M0Vglmdna3WK"
      },
      "outputs": [],
      "source": [
        "# ggT = gg.T"
      ]
    },
    {
      "cell_type": "code",
      "execution_count": null,
      "metadata": {
        "colab": {
          "base_uri": "https://localhost:8080/"
        },
        "id": "4hQE3FzYa8Ib",
        "outputId": "0bee3526-4dcf-4bb7-fdcd-a1327c107507"
      },
      "outputs": [
        {
          "data": {
            "text/plain": [
              "Index(['Base-RF', 'nhancedAEO-RF', 'JADE-RF', 'OriginalFPA-RF',\n",
              "       'OriginalPSS-RF', 'Base-XGB', 'EnhancedAEO-XGB', 'JADE-XGB',\n",
              "       'OriginalFPA-XGB', 'OriginalPSS-XGB'],\n",
              "      dtype='object')"
            ]
          },
          "execution_count": 104,
          "metadata": {},
          "output_type": "execute_result"
        }
      ],
      "source": [
        "# ggT.T.columns"
      ]
    },
    {
      "cell_type": "code",
      "execution_count": null,
      "metadata": {
        "colab": {
          "base_uri": "https://localhost:8080/",
          "height": 206
        },
        "id": "4xA_02MDb-LD",
        "outputId": "20ae4e5f-e5cc-4432-a5b8-9f130e430fa6"
      },
      "outputs": [
        {
          "data": {
            "text/html": [
              "\n",
              "\n",
              "  <div id=\"df-93a4bd60-cf17-4d67-9302-ba44315d18b1\">\n",
              "    <div class=\"colab-df-container\">\n",
              "      <div>\n",
              "<style scoped>\n",
              "    .dataframe tbody tr th:only-of-type {\n",
              "        vertical-align: middle;\n",
              "    }\n",
              "\n",
              "    .dataframe tbody tr th {\n",
              "        vertical-align: top;\n",
              "    }\n",
              "\n",
              "    .dataframe thead th {\n",
              "        text-align: right;\n",
              "    }\n",
              "</style>\n",
              "<table border=\"1\" class=\"dataframe\">\n",
              "  <thead>\n",
              "    <tr style=\"text-align: right;\">\n",
              "      <th></th>\n",
              "      <th>Accuracy</th>\n",
              "      <th>Precision</th>\n",
              "      <th>Recall</th>\n",
              "      <th>F1</th>\n",
              "    </tr>\n",
              "  </thead>\n",
              "  <tbody>\n",
              "    <tr>\n",
              "      <th>Base-RF</th>\n",
              "      <td>0.792683</td>\n",
              "      <td>0.810643</td>\n",
              "      <td>0.772080</td>\n",
              "      <td>0.778131</td>\n",
              "    </tr>\n",
              "    <tr>\n",
              "      <th>nhancedAEO-RF</th>\n",
              "      <td>0.797256</td>\n",
              "      <td>0.824623</td>\n",
              "      <td>0.773970</td>\n",
              "      <td>0.780550</td>\n",
              "    </tr>\n",
              "    <tr>\n",
              "      <th>JADE-RF</th>\n",
              "      <td>0.798780</td>\n",
              "      <td>0.827214</td>\n",
              "      <td>0.775310</td>\n",
              "      <td>0.782001</td>\n",
              "    </tr>\n",
              "    <tr>\n",
              "      <th>OriginalFPA-RF</th>\n",
              "      <td>0.798780</td>\n",
              "      <td>0.827214</td>\n",
              "      <td>0.775310</td>\n",
              "      <td>0.782001</td>\n",
              "    </tr>\n",
              "    <tr>\n",
              "      <th>OriginalPSS-RF</th>\n",
              "      <td>0.797256</td>\n",
              "      <td>0.829272</td>\n",
              "      <td>0.772691</td>\n",
              "      <td>0.779324</td>\n",
              "    </tr>\n",
              "  </tbody>\n",
              "</table>\n",
              "</div>\n",
              "      <button class=\"colab-df-convert\" onclick=\"convertToInteractive('df-93a4bd60-cf17-4d67-9302-ba44315d18b1')\"\n",
              "              title=\"Convert this dataframe to an interactive table.\"\n",
              "              style=\"display:none;\">\n",
              "\n",
              "  <svg xmlns=\"http://www.w3.org/2000/svg\" height=\"24px\"viewBox=\"0 0 24 24\"\n",
              "       width=\"24px\">\n",
              "    <path d=\"M0 0h24v24H0V0z\" fill=\"none\"/>\n",
              "    <path d=\"M18.56 5.44l.94 2.06.94-2.06 2.06-.94-2.06-.94-.94-2.06-.94 2.06-2.06.94zm-11 1L8.5 8.5l.94-2.06 2.06-.94-2.06-.94L8.5 2.5l-.94 2.06-2.06.94zm10 10l.94 2.06.94-2.06 2.06-.94-2.06-.94-.94-2.06-.94 2.06-2.06.94z\"/><path d=\"M17.41 7.96l-1.37-1.37c-.4-.4-.92-.59-1.43-.59-.52 0-1.04.2-1.43.59L10.3 9.45l-7.72 7.72c-.78.78-.78 2.05 0 2.83L4 21.41c.39.39.9.59 1.41.59.51 0 1.02-.2 1.41-.59l7.78-7.78 2.81-2.81c.8-.78.8-2.07 0-2.86zM5.41 20L4 18.59l7.72-7.72 1.47 1.35L5.41 20z\"/>\n",
              "  </svg>\n",
              "      </button>\n",
              "\n",
              "\n",
              "\n",
              "    <div id=\"df-001581e5-8a67-4007-8b07-f33e3c5bf8a6\">\n",
              "      <button class=\"colab-df-quickchart\" onclick=\"quickchart('df-001581e5-8a67-4007-8b07-f33e3c5bf8a6')\"\n",
              "              title=\"Suggest charts.\"\n",
              "              style=\"display:none;\">\n",
              "\n",
              "<svg xmlns=\"http://www.w3.org/2000/svg\" height=\"24px\"viewBox=\"0 0 24 24\"\n",
              "     width=\"24px\">\n",
              "    <g>\n",
              "        <path d=\"M19 3H5c-1.1 0-2 .9-2 2v14c0 1.1.9 2 2 2h14c1.1 0 2-.9 2-2V5c0-1.1-.9-2-2-2zM9 17H7v-7h2v7zm4 0h-2V7h2v10zm4 0h-2v-4h2v4z\"/>\n",
              "    </g>\n",
              "</svg>\n",
              "      </button>\n",
              "    </div>\n",
              "\n",
              "<style>\n",
              "  .colab-df-quickchart {\n",
              "    background-color: #E8F0FE;\n",
              "    border: none;\n",
              "    border-radius: 50%;\n",
              "    cursor: pointer;\n",
              "    display: none;\n",
              "    fill: #1967D2;\n",
              "    height: 32px;\n",
              "    padding: 0 0 0 0;\n",
              "    width: 32px;\n",
              "  }\n",
              "\n",
              "  .colab-df-quickchart:hover {\n",
              "    background-color: #E2EBFA;\n",
              "    box-shadow: 0px 1px 2px rgba(60, 64, 67, 0.3), 0px 1px 3px 1px rgba(60, 64, 67, 0.15);\n",
              "    fill: #174EA6;\n",
              "  }\n",
              "\n",
              "  [theme=dark] .colab-df-quickchart {\n",
              "    background-color: #3B4455;\n",
              "    fill: #D2E3FC;\n",
              "  }\n",
              "\n",
              "  [theme=dark] .colab-df-quickchart:hover {\n",
              "    background-color: #434B5C;\n",
              "    box-shadow: 0px 1px 3px 1px rgba(0, 0, 0, 0.15);\n",
              "    filter: drop-shadow(0px 1px 2px rgba(0, 0, 0, 0.3));\n",
              "    fill: #FFFFFF;\n",
              "  }\n",
              "</style>\n",
              "\n",
              "    <script>\n",
              "      async function quickchart(key) {\n",
              "        const containerElement = document.querySelector('#' + key);\n",
              "        const charts = await google.colab.kernel.invokeFunction(\n",
              "            'suggestCharts', [key], {});\n",
              "      }\n",
              "    </script>\n",
              "\n",
              "      <script>\n",
              "\n",
              "function displayQuickchartButton(domScope) {\n",
              "  let quickchartButtonEl =\n",
              "    domScope.querySelector('#df-001581e5-8a67-4007-8b07-f33e3c5bf8a6 button.colab-df-quickchart');\n",
              "  quickchartButtonEl.style.display =\n",
              "    google.colab.kernel.accessAllowed ? 'block' : 'none';\n",
              "}\n",
              "\n",
              "        displayQuickchartButton(document);\n",
              "      </script>\n",
              "      <style>\n",
              "    .colab-df-container {\n",
              "      display:flex;\n",
              "      flex-wrap:wrap;\n",
              "      gap: 12px;\n",
              "    }\n",
              "\n",
              "    .colab-df-convert {\n",
              "      background-color: #E8F0FE;\n",
              "      border: none;\n",
              "      border-radius: 50%;\n",
              "      cursor: pointer;\n",
              "      display: none;\n",
              "      fill: #1967D2;\n",
              "      height: 32px;\n",
              "      padding: 0 0 0 0;\n",
              "      width: 32px;\n",
              "    }\n",
              "\n",
              "    .colab-df-convert:hover {\n",
              "      background-color: #E2EBFA;\n",
              "      box-shadow: 0px 1px 2px rgba(60, 64, 67, 0.3), 0px 1px 3px 1px rgba(60, 64, 67, 0.15);\n",
              "      fill: #174EA6;\n",
              "    }\n",
              "\n",
              "    [theme=dark] .colab-df-convert {\n",
              "      background-color: #3B4455;\n",
              "      fill: #D2E3FC;\n",
              "    }\n",
              "\n",
              "    [theme=dark] .colab-df-convert:hover {\n",
              "      background-color: #434B5C;\n",
              "      box-shadow: 0px 1px 3px 1px rgba(0, 0, 0, 0.15);\n",
              "      filter: drop-shadow(0px 1px 2px rgba(0, 0, 0, 0.3));\n",
              "      fill: #FFFFFF;\n",
              "    }\n",
              "  </style>\n",
              "\n",
              "      <script>\n",
              "        const buttonEl =\n",
              "          document.querySelector('#df-93a4bd60-cf17-4d67-9302-ba44315d18b1 button.colab-df-convert');\n",
              "        buttonEl.style.display =\n",
              "          google.colab.kernel.accessAllowed ? 'block' : 'none';\n",
              "\n",
              "        async function convertToInteractive(key) {\n",
              "          const element = document.querySelector('#df-93a4bd60-cf17-4d67-9302-ba44315d18b1');\n",
              "          const dataTable =\n",
              "            await google.colab.kernel.invokeFunction('convertToInteractive',\n",
              "                                                     [key], {});\n",
              "          if (!dataTable) return;\n",
              "\n",
              "          const docLinkHtml = 'Like what you see? Visit the ' +\n",
              "            '<a target=\"_blank\" href=https://colab.research.google.com/notebooks/data_table.ipynb>data table notebook</a>'\n",
              "            + ' to learn more about interactive tables.';\n",
              "          element.innerHTML = '';\n",
              "          dataTable['output_type'] = 'display_data';\n",
              "          await google.colab.output.renderOutput(dataTable, element);\n",
              "          const docLink = document.createElement('div');\n",
              "          docLink.innerHTML = docLinkHtml;\n",
              "          element.appendChild(docLink);\n",
              "        }\n",
              "      </script>\n",
              "    </div>\n",
              "  </div>\n"
            ],
            "text/plain": [
              "                Accuracy  Precision    Recall        F1\n",
              "Base-RF         0.792683   0.810643  0.772080  0.778131\n",
              "nhancedAEO-RF   0.797256   0.824623  0.773970  0.780550\n",
              "JADE-RF         0.798780   0.827214  0.775310  0.782001\n",
              "OriginalFPA-RF  0.798780   0.827214  0.775310  0.782001\n",
              "OriginalPSS-RF  0.797256   0.829272  0.772691  0.779324"
            ]
          },
          "execution_count": 117,
          "metadata": {},
          "output_type": "execute_result"
        }
      ],
      "source": [
        "RF.T"
      ]
    },
    {
      "cell_type": "code",
      "execution_count": null,
      "metadata": {
        "colab": {
          "base_uri": "https://localhost:8080/",
          "height": 545
        },
        "id": "6NoB2q3ubfPf",
        "outputId": "9fcbf215-8243-4df2-c70d-f0e6e1580e36"
      },
      "outputs": [
        {
          "data": {
            "image/png": "[encoded data removed]",
            "text/plain": [
              "<Figure size 1200x600 with 1 Axes>"
            ]
          },
          "metadata": {},
          "output_type": "display_data"
        }
      ],
      "source": [
        "# plt.figure(figsize=(12,6))\n",
        "# sns.barplot(data=RF.T)\n",
        "gg.plot(kind='bar',grid=True,figsize=(12,6))\n",
        "plt.ylim(0.7,1)\n",
        "plt.title('XGBoost vs Random Forest')\n",
        "plt.xticks(rotation=0)\n",
        "plt.annotate(text=\"Best Accuracy\\nEnhancedAEO-XGB -> 0.814024\", xytext=(-0.3,0.9),xy=(0.07,0.82), arrowprops =dict(arrowstyle=\"->\", color='black', connectionstyle=\"angle3,angleA=0,angleB=90\"), color='black')\n",
        "plt.annotate(text=\"Best Precision\\nOriginalPSS-RF -> 0.829272\", xytext=(0.8,0.9),xy=(0.97,0.83), arrowprops =dict(arrowstyle=\"->\", color='black', connectionstyle=\"angle3,angleA=0,angleB=90\"), color='black')\n",
        "plt.annotate(text=\"Best Recall\\nEnhancedAEO-XGB -> 0.797241\", xytext=(1.5,0.85),xy=(2.07,0.8), arrowprops =dict(arrowstyle=\"->\", color='black', connectionstyle=\"angle3,angleA=0,angleB=90\"), color='black')\n",
        "plt.annotate(text=\"Best F1\\nEnhancedAEO-XGB -> 0.803473\", xytext=(2.5,0.83),xy=(3.05,0.81), arrowprops =dict(arrowstyle=\"->\", color='black', connectionstyle=\"angle3,angleA=0,angleB=90\"), color='black')\n",
        "\n",
        "# plt.annotate(text=\"Safe for Human consumption\", xytext=(0.8,1),xy=(1.2,1), arrowprops =dict(arrowstyle=\"->\", color='black',  connectionstyle=\"angle3,angleA=0,angleB=90\"), color='black')\n",
        "\n",
        "gg.to_csv(f'{path}performance.csv')\n",
        "plt.savefig(f'{path}performance.png',bbox_inches='tight')"
      ]
    },
    {
      "cell_type": "code",
      "execution_count": null,
      "metadata": {
        "colab": {
          "base_uri": "https://localhost:8080/",
          "height": 175
        },
        "id": "MfqPVCGDexbC",
        "outputId": "1fdd675d-175c-401a-a4b9-e779137057fa"
      },
      "outputs": [
        {
          "data": {
            "text/html": [
              "\n",
              "\n",
              "  <div id=\"df-2d4ac43b-f761-4e53-b4b8-af0b247cb5cc\">\n",
              "    <div class=\"colab-df-container\">\n",
              "      <div>\n",
              "<style scoped>\n",
              "    .dataframe tbody tr th:only-of-type {\n",
              "        vertical-align: middle;\n",
              "    }\n",
              "\n",
              "    .dataframe tbody tr th {\n",
              "        vertical-align: top;\n",
              "    }\n",
              "\n",
              "    .dataframe thead th {\n",
              "        text-align: right;\n",
              "    }\n",
              "</style>\n",
              "<table border=\"1\" class=\"dataframe\">\n",
              "  <thead>\n",
              "    <tr style=\"text-align: right;\">\n",
              "      <th></th>\n",
              "      <th>Base-RF</th>\n",
              "      <th>nhancedAEO-RF</th>\n",
              "      <th>JADE-RF</th>\n",
              "      <th>OriginalFPA-RF</th>\n",
              "      <th>OriginalPSS-RF</th>\n",
              "      <th>Base-XGB</th>\n",
              "      <th>EnhancedAEO-XGB</th>\n",
              "      <th>JADE-XGB</th>\n",
              "      <th>OriginalFPA-XGB</th>\n",
              "      <th>OriginalPSS-XGB</th>\n",
              "    </tr>\n",
              "  </thead>\n",
              "  <tbody>\n",
              "    <tr>\n",
              "      <th>Accuracy</th>\n",
              "      <td>0.792683</td>\n",
              "      <td>0.797256</td>\n",
              "      <td>0.798780</td>\n",
              "      <td>0.798780</td>\n",
              "      <td>0.797256</td>\n",
              "      <td>0.786585</td>\n",
              "      <td>0.814024</td>\n",
              "      <td>0.810976</td>\n",
              "      <td>0.809451</td>\n",
              "      <td>0.809451</td>\n",
              "    </tr>\n",
              "    <tr>\n",
              "      <th>Precision</th>\n",
              "      <td>0.810643</td>\n",
              "      <td>0.824623</td>\n",
              "      <td>0.827214</td>\n",
              "      <td>0.827214</td>\n",
              "      <td>0.829272</td>\n",
              "      <td>0.789865</td>\n",
              "      <td>0.826380</td>\n",
              "      <td>0.822016</td>\n",
              "      <td>0.815723</td>\n",
              "      <td>0.816485</td>\n",
              "    </tr>\n",
              "    <tr>\n",
              "      <th>Recall</th>\n",
              "      <td>0.772080</td>\n",
              "      <td>0.773970</td>\n",
              "      <td>0.775310</td>\n",
              "      <td>0.775310</td>\n",
              "      <td>0.772691</td>\n",
              "      <td>0.772686</td>\n",
              "      <td>0.797241</td>\n",
              "      <td>0.794560</td>\n",
              "      <td>0.795351</td>\n",
              "      <td>0.794925</td>\n",
              "    </tr>\n",
              "    <tr>\n",
              "      <th>F1</th>\n",
              "      <td>0.778131</td>\n",
              "      <td>0.780550</td>\n",
              "      <td>0.782001</td>\n",
              "      <td>0.782001</td>\n",
              "      <td>0.779324</td>\n",
              "      <td>0.777001</td>\n",
              "      <td>0.803473</td>\n",
              "      <td>0.800547</td>\n",
              "      <td>0.800494</td>\n",
              "      <td>0.800222</td>\n",
              "    </tr>\n",
              "  </tbody>\n",
              "</table>\n",
              "</div>\n",
              "      <button class=\"colab-df-convert\" onclick=\"convertToInteractive('df-2d4ac43b-f761-4e53-b4b8-af0b247cb5cc')\"\n",
              "              title=\"Convert this dataframe to an interactive table.\"\n",
              "              style=\"display:none;\">\n",
              "\n",
              "  <svg xmlns=\"http://www.w3.org/2000/svg\" height=\"24px\"viewBox=\"0 0 24 24\"\n",
              "       width=\"24px\">\n",
              "    <path d=\"M0 0h24v24H0V0z\" fill=\"none\"/>\n",
              "    <path d=\"M18.56 5.44l.94 2.06.94-2.06 2.06-.94-2.06-.94-.94-2.06-.94 2.06-2.06.94zm-11 1L8.5 8.5l.94-2.06 2.06-.94-2.06-.94L8.5 2.5l-.94 2.06-2.06.94zm10 10l.94 2.06.94-2.06 2.06-.94-2.06-.94-.94-2.06-.94 2.06-2.06.94z\"/><path d=\"M17.41 7.96l-1.37-1.37c-.4-.4-.92-.59-1.43-.59-.52 0-1.04.2-1.43.59L10.3 9.45l-7.72 7.72c-.78.78-.78 2.05 0 2.83L4 21.41c.39.39.9.59 1.41.59.51 0 1.02-.2 1.41-.59l7.78-7.78 2.81-2.81c.8-.78.8-2.07 0-2.86zM5.41 20L4 18.59l7.72-7.72 1.47 1.35L5.41 20z\"/>\n",
              "  </svg>\n",
              "      </button>\n",
              "\n",
              "\n",
              "\n",
              "    <div id=\"df-61a1dba7-a598-4c4e-b8ac-153a56c02fae\">\n",
              "      <button class=\"colab-df-quickchart\" onclick=\"quickchart('df-61a1dba7-a598-4c4e-b8ac-153a56c02fae')\"\n",
              "              title=\"Suggest charts.\"\n",
              "              style=\"display:none;\">\n",
              "\n",
              "<svg xmlns=\"http://www.w3.org/2000/svg\" height=\"24px\"viewBox=\"0 0 24 24\"\n",
              "     width=\"24px\">\n",
              "    <g>\n",
              "        <path d=\"M19 3H5c-1.1 0-2 .9-2 2v14c0 1.1.9 2 2 2h14c1.1 0 2-.9 2-2V5c0-1.1-.9-2-2-2zM9 17H7v-7h2v7zm4 0h-2V7h2v10zm4 0h-2v-4h2v4z\"/>\n",
              "    </g>\n",
              "</svg>\n",
              "      </button>\n",
              "    </div>\n",
              "\n",
              "<style>\n",
              "  .colab-df-quickchart {\n",
              "    background-color: #E8F0FE;\n",
              "    border: none;\n",
              "    border-radius: 50%;\n",
              "    cursor: pointer;\n",
              "    display: none;\n",
              "    fill: #1967D2;\n",
              "    height: 32px;\n",
              "    padding: 0 0 0 0;\n",
              "    width: 32px;\n",
              "  }\n",
              "\n",
              "  .colab-df-quickchart:hover {\n",
              "    background-color: #E2EBFA;\n",
              "    box-shadow: 0px 1px 2px rgba(60, 64, 67, 0.3), 0px 1px 3px 1px rgba(60, 64, 67, 0.15);\n",
              "    fill: #174EA6;\n",
              "  }\n",
              "\n",
              "  [theme=dark] .colab-df-quickchart {\n",
              "    background-color: #3B4455;\n",
              "    fill: #D2E3FC;\n",
              "  }\n",
              "\n",
              "  [theme=dark] .colab-df-quickchart:hover {\n",
              "    background-color: #434B5C;\n",
              "    box-shadow: 0px 1px 3px 1px rgba(0, 0, 0, 0.15);\n",
              "    filter: drop-shadow(0px 1px 2px rgba(0, 0, 0, 0.3));\n",
              "    fill: #FFFFFF;\n",
              "  }\n",
              "</style>\n",
              "\n",
              "    <script>\n",
              "      async function quickchart(key) {\n",
              "        const containerElement = document.querySelector('#' + key);\n",
              "        const charts = await google.colab.kernel.invokeFunction(\n",
              "            'suggestCharts', [key], {});\n",
              "      }\n",
              "    </script>\n",
              "\n",
              "      <script>\n",
              "\n",
              "function displayQuickchartButton(domScope) {\n",
              "  let quickchartButtonEl =\n",
              "    domScope.querySelector('#df-61a1dba7-a598-4c4e-b8ac-153a56c02fae button.colab-df-quickchart');\n",
              "  quickchartButtonEl.style.display =\n",
              "    google.colab.kernel.accessAllowed ? 'block' : 'none';\n",
              "}\n",
              "\n",
              "        displayQuickchartButton(document);\n",
              "      </script>\n",
              "      <style>\n",
              "    .colab-df-container {\n",
              "      display:flex;\n",
              "      flex-wrap:wrap;\n",
              "      gap: 12px;\n",
              "    }\n",
              "\n",
              "    .colab-df-convert {\n",
              "      background-color: #E8F0FE;\n",
              "      border: none;\n",
              "      border-radius: 50%;\n",
              "      cursor: pointer;\n",
              "      display: none;\n",
              "      fill: #1967D2;\n",
              "      height: 32px;\n",
              "      padding: 0 0 0 0;\n",
              "      width: 32px;\n",
              "    }\n",
              "\n",
              "    .colab-df-convert:hover {\n",
              "      background-color: #E2EBFA;\n",
              "      box-shadow: 0px 1px 2px rgba(60, 64, 67, 0.3), 0px 1px 3px 1px rgba(60, 64, 67, 0.15);\n",
              "      fill: #174EA6;\n",
              "    }\n",
              "\n",
              "    [theme=dark] .colab-df-convert {\n",
              "      background-color: #3B4455;\n",
              "      fill: #D2E3FC;\n",
              "    }\n",
              "\n",
              "    [theme=dark] .colab-df-convert:hover {\n",
              "      background-color: #434B5C;\n",
              "      box-shadow: 0px 1px 3px 1px rgba(0, 0, 0, 0.15);\n",
              "      filter: drop-shadow(0px 1px 2px rgba(0, 0, 0, 0.3));\n",
              "      fill: #FFFFFF;\n",
              "    }\n",
              "  </style>\n",
              "\n",
              "      <script>\n",
              "        const buttonEl =\n",
              "          document.querySelector('#df-2d4ac43b-f761-4e53-b4b8-af0b247cb5cc button.colab-df-convert');\n",
              "        buttonEl.style.display =\n",
              "          google.colab.kernel.accessAllowed ? 'block' : 'none';\n",
              "\n",
              "        async function convertToInteractive(key) {\n",
              "          const element = document.querySelector('#df-2d4ac43b-f761-4e53-b4b8-af0b247cb5cc');\n",
              "          const dataTable =\n",
              "            await google.colab.kernel.invokeFunction('convertToInteractive',\n",
              "                                                     [key], {});\n",
              "          if (!dataTable) return;\n",
              "\n",
              "          const docLinkHtml = 'Like what you see? Visit the ' +\n",
              "            '<a target=\"_blank\" href=https://colab.research.google.com/notebooks/data_table.ipynb>data table notebook</a>'\n",
              "            + ' to learn more about interactive tables.';\n",
              "          element.innerHTML = '';\n",
              "          dataTable['output_type'] = 'display_data';\n",
              "          await google.colab.output.renderOutput(dataTable, element);\n",
              "          const docLink = document.createElement('div');\n",
              "          docLink.innerHTML = docLinkHtml;\n",
              "          element.appendChild(docLink);\n",
              "        }\n",
              "      </script>\n",
              "    </div>\n",
              "  </div>\n"
            ],
            "text/plain": [
              "            Base-RF  nhancedAEO-RF   JADE-RF  OriginalFPA-RF  OriginalPSS-RF  \\\n",
              "Accuracy   0.792683       0.797256  0.798780        0.798780        0.797256   \n",
              "Precision  0.810643       0.824623  0.827214        0.827214        0.829272   \n",
              "Recall     0.772080       0.773970  0.775310        0.775310        0.772691   \n",
              "F1         0.778131       0.780550  0.782001        0.782001        0.779324   \n",
              "\n",
              "           Base-XGB  EnhancedAEO-XGB  JADE-XGB  OriginalFPA-XGB  \\\n",
              "Accuracy   0.786585         0.814024  0.810976         0.809451   \n",
              "Precision  0.789865         0.826380  0.822016         0.815723   \n",
              "Recall     0.772686         0.797241  0.794560         0.795351   \n",
              "F1         0.777001         0.803473  0.800547         0.800494   \n",
              "\n",
              "           OriginalPSS-XGB  \n",
              "Accuracy          0.809451  \n",
              "Precision         0.816485  \n",
              "Recall            0.794925  \n",
              "F1                0.800222  "
            ]
          },
          "execution_count": 191,
          "metadata": {},
          "output_type": "execute_result"
        }
      ],
      "source": [
        "gg"
      ]
    },
    {
      "cell_type": "code",
      "execution_count": null,
      "metadata": {
        "colab": {
          "base_uri": "https://localhost:8080/",
          "height": 539
        },
        "id": "F70FEqYaaFxe",
        "outputId": "2b384eb7-0388-41f6-9a29-830377d83481"
      },
      "outputs": [
        {
          "data": {
            "text/plain": [
              "<Axes: >"
            ]
          },
          "execution_count": 107,
          "metadata": {},
          "output_type": "execute_result"
        },
        {
          "data": {
            "image/png": "[encoded data removed]",
            "text/plain": [
              "<Figure size 1200x600 with 1 Axes>"
            ]
          },
          "metadata": {},
          "output_type": "display_data"
        }
      ],
      "source": [
        "#Lets check the Target features first\n",
        "# fig = plt.figure(figsize=(10,6))\n",
        "# ax=sns.countplot(data=df, x='Potability')\n",
        "# for i in ax.patches:\n",
        "    # ax.text(x=i.get_x()+i.get_width()/2, y=i.get_height()/7, s=f\"{np.round(i.get_height()/len(df)*100,0)}%\", ha='center', size=50, weight='bold', rotation=90, color='white')\n",
        "# plt.title(\"Potability Feature\", size=20, weight='bold')\n",
        "plt.annotate(text=\"Not safe for Human consumption\", xytext=(0.5,1750),xy=(0.2,1250), arrowprops =dict(arrowstyle=\"->\", color='black', connectionstyle=\"angle3,angleA=0,angleB=90\"), color='black')\n",
        "plt.annotate(text=\"Safe for Human consumption\", xytext=(0.8,1500),xy=(1.2,1000), arrowprops =dict(arrowstyle=\"->\", color='black',  connectionstyle=\"angle3,angleA=0,angleB=90\"), color='black')\n"
      ]
    },
    {
      "cell_type": "markdown",
      "source": [
        "# smpling"
      ],
      "metadata": {
        "id": "Y38nliPVQ5jf"
      }
    },
    {
      "cell_type": "code",
      "source": [
        "from sklearn.tree import DecisionTreeClassifier\n",
        "from sklearn.discriminant_analysis import LinearDiscriminantAnalysis\n",
        "from sklearn.cluster import KMeans #one with clusterimg (disaster)\n",
        "from sklearn.ensemble import RandomForestClassifier\n",
        "from sklearn.neighbors import KNeighborsClassifier\n",
        "from sklearn.linear_model import LogisticRegression\n",
        "from sklearn.tree import DecisionTreeClassifier\n",
        "from sklearn.multiclass import OneVsRestClassifier\n",
        "from sklearn.tree import DecisionTreeRegressor\n",
        "from sklearn.dummy import DummyClassifier #that zero\n",
        "from sklearn.svm import SVC, SVR\n",
        "from sklearn.naive_bayes import GaussianNB\n",
        "# from sklearn.ensemble import RandomForestClassifier\n",
        "# processing imports\n",
        "from sklearn.preprocessing import LabelEncoder\n",
        "from sklearn.model_selection import train_test_split\n",
        "from sklearn.model_selection import cross_val_score\n",
        "from sklearn.metrics import mean_absolute_error\n",
        "# from sklearn.metrics import accuracy_score\n",
        "# from sklearn.metrics import confusion_matrix\n",
        "from sklearn.naive_bayes import MultinomialNB\n",
        "!pip install catboost\n",
        "from xgboost import XGBClassifier\n",
        "from catboost import CatBoostClassifier\n",
        "from sklearn.linear_model import LogisticRegression\n",
        "from sklearn.ensemble import RandomForestClassifier,ExtraTreesClassifier,GradientBoostingClassifier,HistGradientBoostingClassifier,AdaBoostClassifier\n",
        "from sklearn.svm import LinearSVC\n",
        "from sklearn.svm import SVC\n",
        "from mealpy.bio_based import SMA\n",
        "from sklearn.naive_bayes import GaussianNB"
      ],
      "metadata": {
        "id": "6nn4w1FARE2J"
      },
      "execution_count": null,
      "outputs": []
    },
    {
      "cell_type": "code",
      "source": [
        "import imblearn\n",
        "dir(imblearn.under_sampling)"
      ],
      "metadata": {
        "colab": {
          "base_uri": "https://localhost:8080/"
        },
        "id": "RMTGCTiFSRsN",
        "outputId": "0d4ebd8d-40fe-4b6e-d3eb-13deffb81a76"
      },
      "execution_count": 65,
      "outputs": [
        {
          "output_type": "execute_result",
          "data": {
            "text/plain": [
              "['AllKNN',\n",
              " 'ClusterCentroids',\n",
              " 'CondensedNearestNeighbour',\n",
              " 'EditedNearestNeighbours',\n",
              " 'InstanceHardnessThreshold',\n",
              " 'NearMiss',\n",
              " 'NeighbourhoodCleaningRule',\n",
              " 'OneSidedSelection',\n",
              " 'RandomUnderSampler',\n",
              " 'RepeatedEditedNearestNeighbours',\n",
              " 'TomekLinks',\n",
              " '__all__',\n",
              " '__builtins__',\n",
              " '__cached__',\n",
              " '__doc__',\n",
              " '__file__',\n",
              " '__loader__',\n",
              " '__name__',\n",
              " '__package__',\n",
              " '__path__',\n",
              " '__spec__',\n",
              " '_prototype_generation',\n",
              " '_prototype_selection',\n",
              " 'base']"
            ]
          },
          "metadata": {},
          "execution_count": 65
        }
      ]
    },
    {
      "cell_type": "code",
      "source": [
        "from imblearn.over_sampling import *\n",
        "from imblearn.under_sampling import *\n",
        "from imblearn.combine import *\n",
        "sampler = {\n",
        "            # 'RandomOverSampler':RandomOverSampler\n",
        "        #    'ADASYN' : ADASYN\n",
        "            'SMOTEENN':SMOTEENN\n",
        "            # ,'RandomUnderSampler':RandomUnderSampler\n",
        "        #    ,'SMOTEN':SMOTEN\n",
        "            }\n",
        "models = {\n",
        "            # 'RandomForest':RandomForestClassifier\n",
        "        #   'XGB':XGBClassifier\n",
        "        #   'ExtraTrees':ExtraTreesClassifier\n",
        "            'AdaBoostClassifier':AdaBoostClassifier,\n",
        "            'GradientBoostingClassifier':GradientBoostingClassifier\n",
        "            ,'HistGradientBoostingClassifier':HistGradientBoostingClassifier\n",
        "          ,'DecisionTreeClassifier':DecisionTreeClassifier\n",
        "        #   ,'LogisticRegression':LogisticRegression\n",
        "        #   ,'SVC':SVC\n",
        "        #   ,\"LinearSVC\":LinearSVC\n",
        "            }"
      ],
      "metadata": {
        "id": "sNJWRi7qA5jS"
      },
      "execution_count": 219,
      "outputs": []
    },
    {
      "cell_type": "code",
      "source": [
        "X_ = df.drop(\"stroke\", axis=1).values\n",
        "y_ = df['stroke'].values\n",
        "# data = data2.sample(frac=1,random_state=2342)\n",
        "rus = sampler['SMOTEENN'](random_state=1)\n",
        "X_,y_= rus.fit_resample(X_, y_)"
      ],
      "metadata": {
        "id": "rh9jBLm0LSuh"
      },
      "execution_count": 220,
      "outputs": []
    },
    {
      "cell_type": "code",
      "source": [
        "y_"
      ],
      "metadata": {
        "colab": {
          "base_uri": "https://localhost:8080/"
        },
        "id": "X9TUTf5NLZWD",
        "outputId": "00b28cf5-ec9c-4177-9eb6-a288247d26dc"
      },
      "execution_count": 221,
      "outputs": [
        {
          "output_type": "execute_result",
          "data": {
            "text/plain": [
              "array([0, 0, 0, ..., 1, 1, 1])"
            ]
          },
          "metadata": {},
          "execution_count": 221
        }
      ]
    },
    {
      "cell_type": "code",
      "source": [
        "# X,x,Y,y = train_test_split(data[data.columns[0:12]],data[data.columns[12:]],random_state=2)\n",
        "X_ = df.drop(\"stroke\", axis=1).values\n",
        "y_ = df['stroke'].values\n",
        "\n",
        "# Train Test Split\n",
        "X, x, Y, y = train_test_split(X_, y_, test_size=0.2, random_state=1)\n",
        "\n",
        "print(\"X_train\", X.shape)\n",
        "print(\"X_test\", x.shape)\n",
        "print(\"y_train\", Y.shape)\n",
        "print(\"y_test\", y.shape)"
      ],
      "metadata": {
        "id": "Lp_D3_4iBWgt",
        "colab": {
          "base_uri": "https://localhost:8080/"
        },
        "outputId": "82897794-df7d-461d-9634-f4acf8fa06f7"
      },
      "execution_count": 106,
      "outputs": [
        {
          "output_type": "stream",
          "name": "stdout",
          "text": [
            "X_train (3927, 10)\n",
            "X_test (982, 10)\n",
            "y_train (3927,)\n",
            "y_test (982,)\n"
          ]
        }
      ]
    },
    {
      "cell_type": "code",
      "source": [
        "data2 = df.copy()"
      ],
      "metadata": {
        "id": "Fu109bllBXhj"
      },
      "execution_count": 55,
      "outputs": []
    },
    {
      "cell_type": "code",
      "source": [
        "# performance = pd.DataFrame()\n",
        "smp = []\n",
        "mdl = []\n",
        "labels = []\n",
        "epoch = []\n",
        "# perf = np.zeros((len(sampler.keys()) * len(data2.columns[12:]) * len(models.keys()),4))\n",
        "perf = {}\n",
        "k = 0\n",
        "for sm in list(sampler.keys()):\n",
        "    X_ = df.drop(\"stroke\", axis=1).values\n",
        "    y_ = df['stroke'].values\n",
        "  # data = data2.sample(frac=1,random_state=2342)\n",
        "    rus = sampler[sm](random_state=1)\n",
        "    X_,y_= rus.fit_resample(X_, y_)\n",
        "  # print(Y_.sum()/y_.shape[0])\n",
        "\n",
        "  # X_['Machine failure'] = Y_\n",
        "  # X_ = data\n",
        "  # X_ = X_.sample(frac=1)\n",
        "    # X,Y,x,y = train.drop('Machine failure',axis=1).to_numpy(),train['Machine failure'].to_numpy(),test.drop('Machine failure',axis=1).to_numpy(),test['Machine failure'].to_numpy()\n",
        "    X, x, Y, y = train_test_split(X_, y_, test_size=0.2, random_state=1)\n",
        "    for mod in models.keys():\n",
        "        # print(sm,mod,label)\n",
        "        # try:\n",
        "        #   model = models[mod](random_state=1234)\n",
        "        # except:\n",
        "        # try:\n",
        "        model = models[mod](random_state=0)\n",
        "        # except:\n",
        "            # model = models[mod]()\n",
        "        model.fit(X,Y)\n",
        "        y_ = model.predict(x)\n",
        "        smp.append(sm)\n",
        "        mdl.append(mod)\n",
        "        # labels.append(label)1\n",
        "\n",
        "        perf[f'{sm}-{mod}'] = [accuracy_score(y,y_),precision_score(y,y_,average='macro'),recall_score(y,y_,average='macro'),f1_score(y,y_,average='macro')]\n",
        "        # k += 1\n",
        "performance = pd.DataFrame().from_dict(perf,orient='index')\n",
        "performance.columns = ['accuracy','precision','recall','f1']\n",
        "# performanceT = performance.T\n",
        "performance['model'] = mdl\n",
        "performance['sampler'] = smp\n",
        "# performance['label'] = labels\n",
        "\n",
        "performance.sort_values(by='f1',ascending=False)"
      ],
      "metadata": {
        "colab": {
          "base_uri": "https://localhost:8080/",
          "height": 300
        },
        "id": "fC1QpCV7BA3y",
        "outputId": "0ab8e676-7c36-496a-a32e-61668ef99275"
      },
      "execution_count": 118,
      "outputs": [
        {
          "output_type": "execute_result",
          "data": {
            "text/plain": [
              "                                         accuracy  precision    recall  \\\n",
              "SMOTEENN-HistGradientBoostingClassifier  0.977444   0.976310  0.978044   \n",
              "ADASYN-HistGradientBoostingClassifier    0.973811   0.974056  0.973856   \n",
              "SMOTEENN-GradientBoostingClassifier      0.969298   0.968115  0.969685   \n",
              "ADASYN-GradientBoostingClassifier        0.968466   0.969382  0.968552   \n",
              "SMOTEENN-AdaBoostClassifier              0.966165   0.965615  0.965615   \n",
              "ADASYN-AdaBoostClassifier                0.962587   0.963931  0.962690   \n",
              "SMOTEENN-DecisionTreeClassifier          0.954261   0.953582  0.953435   \n",
              "ADASYN-DecisionTreeClassifier            0.946018   0.946191  0.945983   \n",
              "\n",
              "                                               f1  \\\n",
              "SMOTEENN-HistGradientBoostingClassifier  0.977119   \n",
              "ADASYN-HistGradientBoostingClassifier    0.973809   \n",
              "SMOTEENN-GradientBoostingClassifier      0.968852   \n",
              "ADASYN-GradientBoostingClassifier        0.968454   \n",
              "SMOTEENN-AdaBoostClassifier              0.965615   \n",
              "ADASYN-AdaBoostClassifier                0.962565   \n",
              "SMOTEENN-DecisionTreeClassifier          0.953509   \n",
              "ADASYN-DecisionTreeClassifier            0.946009   \n",
              "\n",
              "                                                                  model  \\\n",
              "SMOTEENN-HistGradientBoostingClassifier  HistGradientBoostingClassifier   \n",
              "ADASYN-HistGradientBoostingClassifier    HistGradientBoostingClassifier   \n",
              "SMOTEENN-GradientBoostingClassifier          GradientBoostingClassifier   \n",
              "ADASYN-GradientBoostingClassifier            GradientBoostingClassifier   \n",
              "SMOTEENN-AdaBoostClassifier                          AdaBoostClassifier   \n",
              "ADASYN-AdaBoostClassifier                            AdaBoostClassifier   \n",
              "SMOTEENN-DecisionTreeClassifier                  DecisionTreeClassifier   \n",
              "ADASYN-DecisionTreeClassifier                    DecisionTreeClassifier   \n",
              "\n",
              "                                          sampler  \n",
              "SMOTEENN-HistGradientBoostingClassifier  SMOTEENN  \n",
              "ADASYN-HistGradientBoostingClassifier      ADASYN  \n",
              "SMOTEENN-GradientBoostingClassifier      SMOTEENN  \n",
              "ADASYN-GradientBoostingClassifier          ADASYN  \n",
              "SMOTEENN-AdaBoostClassifier              SMOTEENN  \n",
              "ADASYN-AdaBoostClassifier                  ADASYN  \n",
              "SMOTEENN-DecisionTreeClassifier          SMOTEENN  \n",
              "ADASYN-DecisionTreeClassifier              ADASYN  "
            ],
            "text/html": [
              "\n",
              "  <div id=\"df-15072cb5-1c0b-4460-830c-a365867b19f7\" class=\"colab-df-container\">\n",
              "    <div>\n",
              "<style scoped>\n",
              "    .dataframe tbody tr th:only-of-type {\n",
              "        vertical-align: middle;\n",
              "    }\n",
              "\n",
              "    .dataframe tbody tr th {\n",
              "        vertical-align: top;\n",
              "    }\n",
              "\n",
              "    .dataframe thead th {\n",
              "        text-align: right;\n",
              "    }\n",
              "</style>\n",
              "<table border=\"1\" class=\"dataframe\">\n",
              "  <thead>\n",
              "    <tr style=\"text-align: right;\">\n",
              "      <th></th>\n",
              "      <th>accuracy</th>\n",
              "      <th>precision</th>\n",
              "      <th>recall</th>\n",
              "      <th>f1</th>\n",
              "      <th>model</th>\n",
              "      <th>sampler</th>\n",
              "    </tr>\n",
              "  </thead>\n",
              "  <tbody>\n",
              "    <tr>\n",
              "      <th>SMOTEENN-HistGradientBoostingClassifier</th>\n",
              "      <td>0.977444</td>\n",
              "      <td>0.976310</td>\n",
              "      <td>0.978044</td>\n",
              "      <td>0.977119</td>\n",
              "      <td>HistGradientBoostingClassifier</td>\n",
              "      <td>SMOTEENN</td>\n",
              "    </tr>\n",
              "    <tr>\n",
              "      <th>ADASYN-HistGradientBoostingClassifier</th>\n",
              "      <td>0.973811</td>\n",
              "      <td>0.974056</td>\n",
              "      <td>0.973856</td>\n",
              "      <td>0.973809</td>\n",
              "      <td>HistGradientBoostingClassifier</td>\n",
              "      <td>ADASYN</td>\n",
              "    </tr>\n",
              "    <tr>\n",
              "      <th>SMOTEENN-GradientBoostingClassifier</th>\n",
              "      <td>0.969298</td>\n",
              "      <td>0.968115</td>\n",
              "      <td>0.969685</td>\n",
              "      <td>0.968852</td>\n",
              "      <td>GradientBoostingClassifier</td>\n",
              "      <td>SMOTEENN</td>\n",
              "    </tr>\n",
              "    <tr>\n",
              "      <th>ADASYN-GradientBoostingClassifier</th>\n",
              "      <td>0.968466</td>\n",
              "      <td>0.969382</td>\n",
              "      <td>0.968552</td>\n",
              "      <td>0.968454</td>\n",
              "      <td>GradientBoostingClassifier</td>\n",
              "      <td>ADASYN</td>\n",
              "    </tr>\n",
              "    <tr>\n",
              "      <th>SMOTEENN-AdaBoostClassifier</th>\n",
              "      <td>0.966165</td>\n",
              "      <td>0.965615</td>\n",
              "      <td>0.965615</td>\n",
              "      <td>0.965615</td>\n",
              "      <td>AdaBoostClassifier</td>\n",
              "      <td>SMOTEENN</td>\n",
              "    </tr>\n",
              "    <tr>\n",
              "      <th>ADASYN-AdaBoostClassifier</th>\n",
              "      <td>0.962587</td>\n",
              "      <td>0.963931</td>\n",
              "      <td>0.962690</td>\n",
              "      <td>0.962565</td>\n",
              "      <td>AdaBoostClassifier</td>\n",
              "      <td>ADASYN</td>\n",
              "    </tr>\n",
              "    <tr>\n",
              "      <th>SMOTEENN-DecisionTreeClassifier</th>\n",
              "      <td>0.954261</td>\n",
              "      <td>0.953582</td>\n",
              "      <td>0.953435</td>\n",
              "      <td>0.953509</td>\n",
              "      <td>DecisionTreeClassifier</td>\n",
              "      <td>SMOTEENN</td>\n",
              "    </tr>\n",
              "    <tr>\n",
              "      <th>ADASYN-DecisionTreeClassifier</th>\n",
              "      <td>0.946018</td>\n",
              "      <td>0.946191</td>\n",
              "      <td>0.945983</td>\n",
              "      <td>0.946009</td>\n",
              "      <td>DecisionTreeClassifier</td>\n",
              "      <td>ADASYN</td>\n",
              "    </tr>\n",
              "  </tbody>\n",
              "</table>\n",
              "</div>\n",
              "    <div class=\"colab-df-buttons\">\n",
              "\n",
              "  <div class=\"colab-df-container\">\n",
              "    <button class=\"colab-df-convert\" onclick=\"convertToInteractive('df-15072cb5-1c0b-4460-830c-a365867b19f7')\"\n",
              "            title=\"Convert this dataframe to an interactive table.\"\n",
              "            style=\"display:none;\">\n",
              "\n",
              "  <svg xmlns=\"http://www.w3.org/2000/svg\" height=\"24px\" viewBox=\"0 -960 960 960\">\n",
              "    <path d=\"M120-120v-720h720v720H120Zm60-500h600v-160H180v160Zm220 220h160v-160H400v160Zm0 220h160v-160H400v160ZM180-400h160v-160H180v160Zm440 0h160v-160H620v160ZM180-180h160v-160H180v160Zm440 0h160v-160H620v160Z\"/>\n",
              "  </svg>\n",
              "    </button>\n",
              "\n",
              "  <style>\n",
              "    .colab-df-container {\n",
              "      display:flex;\n",
              "      gap: 12px;\n",
              "    }\n",
              "\n",
              "    .colab-df-convert {\n",
              "      background-color: #E8F0FE;\n",
              "      border: none;\n",
              "      border-radius: 50%;\n",
              "      cursor: pointer;\n",
              "      display: none;\n",
              "      fill: #1967D2;\n",
              "      height: 32px;\n",
              "      padding: 0 0 0 0;\n",
              "      width: 32px;\n",
              "    }\n",
              "\n",
              "    .colab-df-convert:hover {\n",
              "      background-color: #E2EBFA;\n",
              "      box-shadow: 0px 1px 2px rgba(60, 64, 67, 0.3), 0px 1px 3px 1px rgba(60, 64, 67, 0.15);\n",
              "      fill: #174EA6;\n",
              "    }\n",
              "\n",
              "    .colab-df-buttons div {\n",
              "      margin-bottom: 4px;\n",
              "    }\n",
              "\n",
              "    [theme=dark] .colab-df-convert {\n",
              "      background-color: #3B4455;\n",
              "      fill: #D2E3FC;\n",
              "    }\n",
              "\n",
              "    [theme=dark] .colab-df-convert:hover {\n",
              "      background-color: #434B5C;\n",
              "      box-shadow: 0px 1px 3px 1px rgba(0, 0, 0, 0.15);\n",
              "      filter: drop-shadow(0px 1px 2px rgba(0, 0, 0, 0.3));\n",
              "      fill: #FFFFFF;\n",
              "    }\n",
              "  </style>\n",
              "\n",
              "    <script>\n",
              "      const buttonEl =\n",
              "        document.querySelector('#df-15072cb5-1c0b-4460-830c-a365867b19f7 button.colab-df-convert');\n",
              "      buttonEl.style.display =\n",
              "        google.colab.kernel.accessAllowed ? 'block' : 'none';\n",
              "\n",
              "      async function convertToInteractive(key) {\n",
              "        const element = document.querySelector('#df-15072cb5-1c0b-4460-830c-a365867b19f7');\n",
              "        const dataTable =\n",
              "          await google.colab.kernel.invokeFunction('convertToInteractive',\n",
              "                                                    [key], {});\n",
              "        if (!dataTable) return;\n",
              "\n",
              "        const docLinkHtml = 'Like what you see? Visit the ' +\n",
              "          '<a target=\"_blank\" href=https://colab.research.google.com/notebooks/data_table.ipynb>data table notebook</a>'\n",
              "          + ' to learn more about interactive tables.';\n",
              "        element.innerHTML = '';\n",
              "        dataTable['output_type'] = 'display_data';\n",
              "        await google.colab.output.renderOutput(dataTable, element);\n",
              "        const docLink = document.createElement('div');\n",
              "        docLink.innerHTML = docLinkHtml;\n",
              "        element.appendChild(docLink);\n",
              "      }\n",
              "    </script>\n",
              "  </div>\n",
              "\n",
              "\n",
              "<div id=\"df-db357ab2-1fbf-4f9c-95dd-f13aa2b03a10\">\n",
              "  <button class=\"colab-df-quickchart\" onclick=\"quickchart('df-db357ab2-1fbf-4f9c-95dd-f13aa2b03a10')\"\n",
              "            title=\"Suggest charts.\"\n",
              "            style=\"display:none;\">\n",
              "\n",
              "<svg xmlns=\"http://www.w3.org/2000/svg\" height=\"24px\"viewBox=\"0 0 24 24\"\n",
              "     width=\"24px\">\n",
              "    <g>\n",
              "        <path d=\"M19 3H5c-1.1 0-2 .9-2 2v14c0 1.1.9 2 2 2h14c1.1 0 2-.9 2-2V5c0-1.1-.9-2-2-2zM9 17H7v-7h2v7zm4 0h-2V7h2v10zm4 0h-2v-4h2v4z\"/>\n",
              "    </g>\n",
              "</svg>\n",
              "  </button>\n",
              "\n",
              "<style>\n",
              "  .colab-df-quickchart {\n",
              "    background-color: #E8F0FE;\n",
              "    border: none;\n",
              "    border-radius: 50%;\n",
              "    cursor: pointer;\n",
              "    display: none;\n",
              "    fill: #1967D2;\n",
              "    height: 32px;\n",
              "    padding: 0 0 0 0;\n",
              "    width: 32px;\n",
              "  }\n",
              "\n",
              "  .colab-df-quickchart:hover {\n",
              "    background-color: #E2EBFA;\n",
              "    box-shadow: 0px 1px 2px rgba(60, 64, 67, 0.3), 0px 1px 3px 1px rgba(60, 64, 67, 0.15);\n",
              "    fill: #174EA6;\n",
              "  }\n",
              "\n",
              "  [theme=dark] .colab-df-quickchart {\n",
              "    background-color: #3B4455;\n",
              "    fill: #D2E3FC;\n",
              "  }\n",
              "\n",
              "  [theme=dark] .colab-df-quickchart:hover {\n",
              "    background-color: #434B5C;\n",
              "    box-shadow: 0px 1px 3px 1px rgba(0, 0, 0, 0.15);\n",
              "    filter: drop-shadow(0px 1px 2px rgba(0, 0, 0, 0.3));\n",
              "    fill: #FFFFFF;\n",
              "  }\n",
              "</style>\n",
              "\n",
              "  <script>\n",
              "    async function quickchart(key) {\n",
              "      const charts = await google.colab.kernel.invokeFunction(\n",
              "          'suggestCharts', [key], {});\n",
              "    }\n",
              "    (() => {\n",
              "      let quickchartButtonEl =\n",
              "        document.querySelector('#df-db357ab2-1fbf-4f9c-95dd-f13aa2b03a10 button');\n",
              "      quickchartButtonEl.style.display =\n",
              "        google.colab.kernel.accessAllowed ? 'block' : 'none';\n",
              "    })();\n",
              "  </script>\n",
              "</div>\n",
              "    </div>\n",
              "  </div>\n"
            ]
          },
          "metadata": {},
          "execution_count": 118
        }
      ]
    },
    {
      "cell_type": "code",
      "source": [
        "performance.to_csv(f'{path}p1.csv',index=False)"
      ],
      "metadata": {
        "id": "V4E08tK7Fdrb"
      },
      "execution_count": 119,
      "outputs": []
    },
    {
      "cell_type": "code",
      "source": [
        "# performance.sort_values(by='f1',ascending=False)"
      ],
      "metadata": {
        "id": "3o_olRQNiNsP"
      },
      "execution_count": 120,
      "outputs": []
    },
    {
      "cell_type": "code",
      "source": [
        "performance.sort_values(by='model',ascending=False)"
      ],
      "metadata": {
        "id": "wTY86_Q_IQWJ",
        "colab": {
          "base_uri": "https://localhost:8080/",
          "height": 300
        },
        "outputId": "04077caa-883e-4844-bd66-54be40092660"
      },
      "execution_count": 81,
      "outputs": [
        {
          "output_type": "execute_result",
          "data": {
            "text/plain": [
              "                                         accuracy  precision    recall  \\\n",
              "ADASYN-XGB                               0.969535   0.969660  0.969569   \n",
              "SMOTEENN-XGB                             0.973292   0.972386  0.973725   \n",
              "ADASYN-SVC                               0.754677   0.758056  0.754459   \n",
              "SMOTEENN-SVC                             0.827950   0.830638  0.820578   \n",
              "ADASYN-HistGradientBoostingClassifier    0.971673   0.971833  0.971710   \n",
              "SMOTEENN-HistGradientBoostingClassifier  0.973292   0.972299  0.973862   \n",
              "ADASYN-GradientBoostingClassifier        0.965794   0.966939  0.965889   \n",
              "SMOTEENN-GradientBoostingClassifier      0.959627   0.958441  0.960170   \n",
              "\n",
              "                                               f1  \\\n",
              "ADASYN-XGB                               0.969534   \n",
              "SMOTEENN-XGB                             0.973008   \n",
              "ADASYN-SVC                               0.753762   \n",
              "SMOTEENN-SVC                             0.823594   \n",
              "ADASYN-HistGradientBoostingClassifier    0.971672   \n",
              "SMOTEENN-HistGradientBoostingClassifier  0.973015   \n",
              "ADASYN-GradientBoostingClassifier        0.965777   \n",
              "SMOTEENN-GradientBoostingClassifier      0.959220   \n",
              "\n",
              "                                                                  model  \\\n",
              "ADASYN-XGB                                                          XGB   \n",
              "SMOTEENN-XGB                                                        XGB   \n",
              "ADASYN-SVC                                                          SVC   \n",
              "SMOTEENN-SVC                                                        SVC   \n",
              "ADASYN-HistGradientBoostingClassifier    HistGradientBoostingClassifier   \n",
              "SMOTEENN-HistGradientBoostingClassifier  HistGradientBoostingClassifier   \n",
              "ADASYN-GradientBoostingClassifier            GradientBoostingClassifier   \n",
              "SMOTEENN-GradientBoostingClassifier          GradientBoostingClassifier   \n",
              "\n",
              "                                          sampler  \n",
              "ADASYN-XGB                                 ADASYN  \n",
              "SMOTEENN-XGB                             SMOTEENN  \n",
              "ADASYN-SVC                                 ADASYN  \n",
              "SMOTEENN-SVC                             SMOTEENN  \n",
              "ADASYN-HistGradientBoostingClassifier      ADASYN  \n",
              "SMOTEENN-HistGradientBoostingClassifier  SMOTEENN  \n",
              "ADASYN-GradientBoostingClassifier          ADASYN  \n",
              "SMOTEENN-GradientBoostingClassifier      SMOTEENN  "
            ],
            "text/html": [
              "\n",
              "  <div id=\"df-c60b6638-4bd6-469e-a300-60c502038519\" class=\"colab-df-container\">\n",
              "    <div>\n",
              "<style scoped>\n",
              "    .dataframe tbody tr th:only-of-type {\n",
              "        vertical-align: middle;\n",
              "    }\n",
              "\n",
              "    .dataframe tbody tr th {\n",
              "        vertical-align: top;\n",
              "    }\n",
              "\n",
              "    .dataframe thead th {\n",
              "        text-align: right;\n",
              "    }\n",
              "</style>\n",
              "<table border=\"1\" class=\"dataframe\">\n",
              "  <thead>\n",
              "    <tr style=\"text-align: right;\">\n",
              "      <th></th>\n",
              "      <th>accuracy</th>\n",
              "      <th>precision</th>\n",
              "      <th>recall</th>\n",
              "      <th>f1</th>\n",
              "      <th>model</th>\n",
              "      <th>sampler</th>\n",
              "    </tr>\n",
              "  </thead>\n",
              "  <tbody>\n",
              "    <tr>\n",
              "      <th>ADASYN-XGB</th>\n",
              "      <td>0.969535</td>\n",
              "      <td>0.969660</td>\n",
              "      <td>0.969569</td>\n",
              "      <td>0.969534</td>\n",
              "      <td>XGB</td>\n",
              "      <td>ADASYN</td>\n",
              "    </tr>\n",
              "    <tr>\n",
              "      <th>SMOTEENN-XGB</th>\n",
              "      <td>0.973292</td>\n",
              "      <td>0.972386</td>\n",
              "      <td>0.973725</td>\n",
              "      <td>0.973008</td>\n",
              "      <td>XGB</td>\n",
              "      <td>SMOTEENN</td>\n",
              "    </tr>\n",
              "    <tr>\n",
              "      <th>ADASYN-SVC</th>\n",
              "      <td>0.754677</td>\n",
              "      <td>0.758056</td>\n",
              "      <td>0.754459</td>\n",
              "      <td>0.753762</td>\n",
              "      <td>SVC</td>\n",
              "      <td>ADASYN</td>\n",
              "    </tr>\n",
              "    <tr>\n",
              "      <th>SMOTEENN-SVC</th>\n",
              "      <td>0.827950</td>\n",
              "      <td>0.830638</td>\n",
              "      <td>0.820578</td>\n",
              "      <td>0.823594</td>\n",
              "      <td>SVC</td>\n",
              "      <td>SMOTEENN</td>\n",
              "    </tr>\n",
              "    <tr>\n",
              "      <th>ADASYN-HistGradientBoostingClassifier</th>\n",
              "      <td>0.971673</td>\n",
              "      <td>0.971833</td>\n",
              "      <td>0.971710</td>\n",
              "      <td>0.971672</td>\n",
              "      <td>HistGradientBoostingClassifier</td>\n",
              "      <td>ADASYN</td>\n",
              "    </tr>\n",
              "    <tr>\n",
              "      <th>SMOTEENN-HistGradientBoostingClassifier</th>\n",
              "      <td>0.973292</td>\n",
              "      <td>0.972299</td>\n",
              "      <td>0.973862</td>\n",
              "      <td>0.973015</td>\n",
              "      <td>HistGradientBoostingClassifier</td>\n",
              "      <td>SMOTEENN</td>\n",
              "    </tr>\n",
              "    <tr>\n",
              "      <th>ADASYN-GradientBoostingClassifier</th>\n",
              "      <td>0.965794</td>\n",
              "      <td>0.966939</td>\n",
              "      <td>0.965889</td>\n",
              "      <td>0.965777</td>\n",
              "      <td>GradientBoostingClassifier</td>\n",
              "      <td>ADASYN</td>\n",
              "    </tr>\n",
              "    <tr>\n",
              "      <th>SMOTEENN-GradientBoostingClassifier</th>\n",
              "      <td>0.959627</td>\n",
              "      <td>0.958441</td>\n",
              "      <td>0.960170</td>\n",
              "      <td>0.959220</td>\n",
              "      <td>GradientBoostingClassifier</td>\n",
              "      <td>SMOTEENN</td>\n",
              "    </tr>\n",
              "  </tbody>\n",
              "</table>\n",
              "</div>\n",
              "    <div class=\"colab-df-buttons\">\n",
              "\n",
              "  <div class=\"colab-df-container\">\n",
              "    <button class=\"colab-df-convert\" onclick=\"convertToInteractive('df-c60b6638-4bd6-469e-a300-60c502038519')\"\n",
              "            title=\"Convert this dataframe to an interactive table.\"\n",
              "            style=\"display:none;\">\n",
              "\n",
              "  <svg xmlns=\"http://www.w3.org/2000/svg\" height=\"24px\" viewBox=\"0 -960 960 960\">\n",
              "    <path d=\"M120-120v-720h720v720H120Zm60-500h600v-160H180v160Zm220 220h160v-160H400v160Zm0 220h160v-160H400v160ZM180-400h160v-160H180v160Zm440 0h160v-160H620v160ZM180-180h160v-160H180v160Zm440 0h160v-160H620v160Z\"/>\n",
              "  </svg>\n",
              "    </button>\n",
              "\n",
              "  <style>\n",
              "    .colab-df-container {\n",
              "      display:flex;\n",
              "      gap: 12px;\n",
              "    }\n",
              "\n",
              "    .colab-df-convert {\n",
              "      background-color: #E8F0FE;\n",
              "      border: none;\n",
              "      border-radius: 50%;\n",
              "      cursor: pointer;\n",
              "      display: none;\n",
              "      fill: #1967D2;\n",
              "      height: 32px;\n",
              "      padding: 0 0 0 0;\n",
              "      width: 32px;\n",
              "    }\n",
              "\n",
              "    .colab-df-convert:hover {\n",
              "      background-color: #E2EBFA;\n",
              "      box-shadow: 0px 1px 2px rgba(60, 64, 67, 0.3), 0px 1px 3px 1px rgba(60, 64, 67, 0.15);\n",
              "      fill: #174EA6;\n",
              "    }\n",
              "\n",
              "    .colab-df-buttons div {\n",
              "      margin-bottom: 4px;\n",
              "    }\n",
              "\n",
              "    [theme=dark] .colab-df-convert {\n",
              "      background-color: #3B4455;\n",
              "      fill: #D2E3FC;\n",
              "    }\n",
              "\n",
              "    [theme=dark] .colab-df-convert:hover {\n",
              "      background-color: #434B5C;\n",
              "      box-shadow: 0px 1px 3px 1px rgba(0, 0, 0, 0.15);\n",
              "      filter: drop-shadow(0px 1px 2px rgba(0, 0, 0, 0.3));\n",
              "      fill: #FFFFFF;\n",
              "    }\n",
              "  </style>\n",
              "\n",
              "    <script>\n",
              "      const buttonEl =\n",
              "        document.querySelector('#df-c60b6638-4bd6-469e-a300-60c502038519 button.colab-df-convert');\n",
              "      buttonEl.style.display =\n",
              "        google.colab.kernel.accessAllowed ? 'block' : 'none';\n",
              "\n",
              "      async function convertToInteractive(key) {\n",
              "        const element = document.querySelector('#df-c60b6638-4bd6-469e-a300-60c502038519');\n",
              "        const dataTable =\n",
              "          await google.colab.kernel.invokeFunction('convertToInteractive',\n",
              "                                                    [key], {});\n",
              "        if (!dataTable) return;\n",
              "\n",
              "        const docLinkHtml = 'Like what you see? Visit the ' +\n",
              "          '<a target=\"_blank\" href=https://colab.research.google.com/notebooks/data_table.ipynb>data table notebook</a>'\n",
              "          + ' to learn more about interactive tables.';\n",
              "        element.innerHTML = '';\n",
              "        dataTable['output_type'] = 'display_data';\n",
              "        await google.colab.output.renderOutput(dataTable, element);\n",
              "        const docLink = document.createElement('div');\n",
              "        docLink.innerHTML = docLinkHtml;\n",
              "        element.appendChild(docLink);\n",
              "      }\n",
              "    </script>\n",
              "  </div>\n",
              "\n",
              "\n",
              "<div id=\"df-b14e5523-fe07-4ff9-b1f3-b35e690cc795\">\n",
              "  <button class=\"colab-df-quickchart\" onclick=\"quickchart('df-b14e5523-fe07-4ff9-b1f3-b35e690cc795')\"\n",
              "            title=\"Suggest charts.\"\n",
              "            style=\"display:none;\">\n",
              "\n",
              "<svg xmlns=\"http://www.w3.org/2000/svg\" height=\"24px\"viewBox=\"0 0 24 24\"\n",
              "     width=\"24px\">\n",
              "    <g>\n",
              "        <path d=\"M19 3H5c-1.1 0-2 .9-2 2v14c0 1.1.9 2 2 2h14c1.1 0 2-.9 2-2V5c0-1.1-.9-2-2-2zM9 17H7v-7h2v7zm4 0h-2V7h2v10zm4 0h-2v-4h2v4z\"/>\n",
              "    </g>\n",
              "</svg>\n",
              "  </button>\n",
              "\n",
              "<style>\n",
              "  .colab-df-quickchart {\n",
              "    background-color: #E8F0FE;\n",
              "    border: none;\n",
              "    border-radius: 50%;\n",
              "    cursor: pointer;\n",
              "    display: none;\n",
              "    fill: #1967D2;\n",
              "    height: 32px;\n",
              "    padding: 0 0 0 0;\n",
              "    width: 32px;\n",
              "  }\n",
              "\n",
              "  .colab-df-quickchart:hover {\n",
              "    background-color: #E2EBFA;\n",
              "    box-shadow: 0px 1px 2px rgba(60, 64, 67, 0.3), 0px 1px 3px 1px rgba(60, 64, 67, 0.15);\n",
              "    fill: #174EA6;\n",
              "  }\n",
              "\n",
              "  [theme=dark] .colab-df-quickchart {\n",
              "    background-color: #3B4455;\n",
              "    fill: #D2E3FC;\n",
              "  }\n",
              "\n",
              "  [theme=dark] .colab-df-quickchart:hover {\n",
              "    background-color: #434B5C;\n",
              "    box-shadow: 0px 1px 3px 1px rgba(0, 0, 0, 0.15);\n",
              "    filter: drop-shadow(0px 1px 2px rgba(0, 0, 0, 0.3));\n",
              "    fill: #FFFFFF;\n",
              "  }\n",
              "</style>\n",
              "\n",
              "  <script>\n",
              "    async function quickchart(key) {\n",
              "      const charts = await google.colab.kernel.invokeFunction(\n",
              "          'suggestCharts', [key], {});\n",
              "    }\n",
              "    (() => {\n",
              "      let quickchartButtonEl =\n",
              "        document.querySelector('#df-b14e5523-fe07-4ff9-b1f3-b35e690cc795 button');\n",
              "      quickchartButtonEl.style.display =\n",
              "        google.colab.kernel.accessAllowed ? 'block' : 'none';\n",
              "    })();\n",
              "  </script>\n",
              "</div>\n",
              "    </div>\n",
              "  </div>\n"
            ]
          },
          "metadata": {},
          "execution_count": 81
        }
      ]
    },
    {
      "cell_type": "code",
      "source": [
        "m = HistGradientBoostingClassifier()"
      ],
      "metadata": {
        "id": "Q4cRXB_4JvQ9"
      },
      "execution_count": 85,
      "outputs": []
    },
    {
      "cell_type": "code",
      "source": [
        "import inspect"
      ],
      "metadata": {
        "id": "-6EfULZYUwNM"
      },
      "execution_count": 86,
      "outputs": []
    },
    {
      "cell_type": "code",
      "source": [
        "m.get_params()"
      ],
      "metadata": {
        "colab": {
          "base_uri": "https://localhost:8080/"
        },
        "id": "EJiX1uFUU1fc",
        "outputId": "13ab01fc-de8f-4999-93df-41f5b5ebb6ac"
      },
      "execution_count": 89,
      "outputs": [
        {
          "output_type": "execute_result",
          "data": {
            "text/plain": [
              "{'categorical_features': None,\n",
              " 'class_weight': None,\n",
              " 'early_stopping': 'auto',\n",
              " 'interaction_cst': None,\n",
              " 'l2_regularization': 0.0,\n",
              " 'learning_rate': 0.1,\n",
              " 'loss': 'log_loss',\n",
              " 'max_bins': 255,\n",
              " 'max_depth': None,\n",
              " 'max_iter': 100,\n",
              " 'max_leaf_nodes': 31,\n",
              " 'min_samples_leaf': 20,\n",
              " 'monotonic_cst': None,\n",
              " 'n_iter_no_change': 10,\n",
              " 'random_state': None,\n",
              " 'scoring': 'loss',\n",
              " 'tol': 1e-07,\n",
              " 'validation_fraction': 0.1,\n",
              " 'verbose': 0,\n",
              " 'warm_start': False}"
            ]
          },
          "metadata": {},
          "execution_count": 89
        }
      ]
    },
    {
      "cell_type": "code",
      "source": [
        "sampler"
      ],
      "metadata": {
        "colab": {
          "base_uri": "https://localhost:8080/"
        },
        "id": "fe5L-Q7vWha7",
        "outputId": "d8a53538-f2fe-42e0-dfae-54189b70c00c"
      },
      "execution_count": 92,
      "outputs": [
        {
          "output_type": "execute_result",
          "data": {
            "text/plain": [
              "{'ADASYN': imblearn.over_sampling._adasyn.ADASYN,\n",
              " 'SMOTEENN': imblearn.combine._smote_enn.SMOTEENN}"
            ]
          },
          "metadata": {},
          "execution_count": 92
        }
      ]
    },
    {
      "cell_type": "code",
      "source": [
        "X_ = df.drop(\"stroke\", axis=1).values\n",
        "y_ = df['stroke'].values\n",
        "rus = sampler['SMOTEENN'](random_state=1)\n",
        "X_,y_= rus.fit_resample(X_, y_)\n",
        "X, x, Y, y = train_test_split(X_, y_, test_size=0.2, random_state=1)"
      ],
      "metadata": {
        "id": "8giq4-PVVOzN"
      },
      "execution_count": 121,
      "outputs": []
    },
    {
      "cell_type": "code",
      "execution_count": 122,
      "metadata": {
        "id": "U7cOVEyCVO2r"
      },
      "outputs": [],
      "source": [
        "def fitness_function(solution):\n",
        "    max_depth = solution[0]\n",
        "    learning_rate = solution[1]\n",
        "    max_iter = solution[2]\n",
        "    l2_regularization = solution[3]\n",
        "    clf = HistGradientBoostingClassifier(max_depth=int(max_depth),\n",
        "                    learning_rate=learning_rate,\n",
        "                                         max_iter=int(max_iter),\n",
        "                                         l2_regularization = l2_regularization,\n",
        "                                         random_state=0)\n",
        "    # Fit the model\n",
        "    clf.fit(X, Y)\n",
        "    # Make the predictions\n",
        "    y_ = clf.predict(x)\n",
        "    # cm = confusion_matrix(y,y_)\n",
        "    # km = cm[0][1]+cm[1][0]\n",
        "    return f1_score(y,y_,average='macro')\n",
        "\n",
        "problem = {\n",
        "    \"fit_func\": fitness_function,\n",
        "    \"lb\": [6, 0.05,100,0],\n",
        "    \"ub\": [10, 0.5,400,0.2],\n",
        "    \"minmax\": \"max\",\n",
        "}"
      ]
    },
    {
      "cell_type": "code",
      "source": [
        "clf = HistGradientBoostingClassifier(random_state=0)\n",
        "clf.fit(X, Y)\n",
        "y_ = clf.predict(x)\n",
        "f1_score(y,y_,average='macro')"
      ],
      "metadata": {
        "colab": {
          "base_uri": "https://localhost:8080/"
        },
        "id": "Oipfp9i1XfW6",
        "outputId": "a08eec27-0f7b-46e1-c9ed-eca8146b6c60"
      },
      "execution_count": 123,
      "outputs": [
        {
          "output_type": "execute_result",
          "data": {
            "text/plain": [
              "0.9771193365818226"
            ]
          },
          "metadata": {},
          "execution_count": 123
        }
      ]
    },
    {
      "cell_type": "code",
      "execution_count": 126,
      "metadata": {
        "colab": {
          "base_uri": "https://localhost:8080/"
        },
        "outputId": "e89032af-c9e4-425a-d5b9-0e215e331e51",
        "id": "ZzFL1T57VO2r"
      },
      "outputs": [
        {
          "output_type": "stream",
          "name": "stdout",
          "text": [
            "started\n"
          ]
        },
        {
          "output_type": "stream",
          "name": "stderr",
          "text": [
            "INFO:mealpy.swarm_based.FOA.WhaleFOA:Solving single objective optimization problem.\n",
            "INFO:mealpy.swarm_based.FOA.WhaleFOA:>Problem: P, Epoch: 1, Current best: 0.9809269775712729, Global best: 0.9809269775712729, Runtime: 32.83456 seconds\n",
            "INFO:mealpy.swarm_based.FOA.WhaleFOA:>Problem: P, Epoch: 2, Current best: 0.9815599169232105, Global best: 0.9815599169232105, Runtime: 26.93355 seconds\n",
            "INFO:mealpy.swarm_based.FOA.WhaleFOA:>Problem: P, Epoch: 3, Current best: 0.9815599169232105, Global best: 0.9815599169232105, Runtime: 32.33149 seconds\n",
            "INFO:mealpy.swarm_based.FOA.WhaleFOA:>Problem: P, Epoch: 4, Current best: 0.9815599169232105, Global best: 0.9815599169232105, Runtime: 25.88628 seconds\n",
            "INFO:mealpy.swarm_based.FOA.WhaleFOA:>Problem: P, Epoch: 5, Current best: 0.9815599169232105, Global best: 0.9815599169232105, Runtime: 29.82240 seconds\n",
            "INFO:mealpy.swarm_based.FOA.WhaleFOA:>Problem: P, Epoch: 6, Current best: 0.9815599169232105, Global best: 0.9815599169232105, Runtime: 31.08181 seconds\n",
            "INFO:mealpy.swarm_based.FOA.WhaleFOA:>Problem: P, Epoch: 7, Current best: 0.9815599169232105, Global best: 0.9815599169232105, Runtime: 28.28833 seconds\n",
            "INFO:mealpy.swarm_based.FOA.WhaleFOA:>Problem: P, Epoch: 8, Current best: 0.9815599169232105, Global best: 0.9815599169232105, Runtime: 24.63995 seconds\n",
            "INFO:mealpy.swarm_based.FOA.WhaleFOA:>Problem: P, Epoch: 9, Current best: 0.9815599169232105, Global best: 0.9815599169232105, Runtime: 26.92032 seconds\n",
            "INFO:mealpy.swarm_based.FOA.WhaleFOA:>Problem: P, Epoch: 10, Current best: 0.9815599169232105, Global best: 0.9815599169232105, Runtime: 26.31406 seconds\n",
            "INFO:mealpy.swarm_based.FOA.WhaleFOA:>Problem: P, Epoch: 11, Current best: 0.9815599169232105, Global best: 0.9815599169232105, Runtime: 25.96859 seconds\n",
            "INFO:mealpy.swarm_based.FOA.WhaleFOA:>Problem: P, Epoch: 12, Current best: 0.9815655574961117, Global best: 0.9815655574961117, Runtime: 20.95557 seconds\n",
            "INFO:mealpy.swarm_based.FOA.WhaleFOA:>Problem: P, Epoch: 13, Current best: 0.9815655574961117, Global best: 0.9815655574961117, Runtime: 19.20394 seconds\n",
            "INFO:mealpy.swarm_based.FOA.WhaleFOA:>Problem: P, Epoch: 14, Current best: 0.9815655574961117, Global best: 0.9815655574961117, Runtime: 16.86791 seconds\n",
            "INFO:mealpy.swarm_based.FOA.WhaleFOA:>Problem: P, Epoch: 15, Current best: 0.9815655574961117, Global best: 0.9815655574961117, Runtime: 18.05628 seconds\n",
            "INFO:mealpy.swarm_based.FOA.WhaleFOA:>Problem: P, Epoch: 16, Current best: 0.9815655574961117, Global best: 0.9815655574961117, Runtime: 19.66497 seconds\n",
            "INFO:mealpy.swarm_based.FOA.WhaleFOA:>Problem: P, Epoch: 17, Current best: 0.9815655574961117, Global best: 0.9815655574961117, Runtime: 21.49063 seconds\n",
            "INFO:mealpy.swarm_based.FOA.WhaleFOA:>Problem: P, Epoch: 18, Current best: 0.9815655574961117, Global best: 0.9815655574961117, Runtime: 18.04601 seconds\n",
            "INFO:mealpy.swarm_based.FOA.WhaleFOA:>Problem: P, Epoch: 19, Current best: 0.9815655574961117, Global best: 0.9815655574961117, Runtime: 13.45679 seconds\n",
            "INFO:mealpy.swarm_based.FOA.WhaleFOA:>Problem: P, Epoch: 20, Current best: 0.9815655574961117, Global best: 0.9815655574961117, Runtime: 15.72971 seconds\n",
            "INFO:mealpy.swarm_based.FOA.WhaleFOA:>Problem: P, Epoch: 21, Current best: 0.9815655574961117, Global best: 0.9815655574961117, Runtime: 14.75250 seconds\n",
            "INFO:mealpy.swarm_based.FOA.WhaleFOA:>Problem: P, Epoch: 22, Current best: 0.9815655574961117, Global best: 0.9815655574961117, Runtime: 17.55429 seconds\n",
            "INFO:mealpy.swarm_based.FOA.WhaleFOA:>Problem: P, Epoch: 23, Current best: 0.9815655574961117, Global best: 0.9815655574961117, Runtime: 12.95341 seconds\n",
            "INFO:mealpy.swarm_based.FOA.WhaleFOA:>Problem: P, Epoch: 24, Current best: 0.9815655574961117, Global best: 0.9815655574961117, Runtime: 14.19109 seconds\n",
            "INFO:mealpy.swarm_based.FOA.WhaleFOA:>Problem: P, Epoch: 25, Current best: 0.9815655574961117, Global best: 0.9815655574961117, Runtime: 18.98666 seconds\n",
            "INFO:mealpy.swarm_based.FOA.WhaleFOA:>Problem: P, Epoch: 26, Current best: 0.9815655574961117, Global best: 0.9815655574961117, Runtime: 15.79161 seconds\n",
            "INFO:mealpy.swarm_based.FOA.WhaleFOA:>Problem: P, Epoch: 27, Current best: 0.9815655574961117, Global best: 0.9815655574961117, Runtime: 13.44928 seconds\n",
            "INFO:mealpy.swarm_based.FOA.WhaleFOA:>Problem: P, Epoch: 28, Current best: 0.9815655574961117, Global best: 0.9815655574961117, Runtime: 16.54579 seconds\n",
            "INFO:mealpy.swarm_based.FOA.WhaleFOA:>Problem: P, Epoch: 29, Current best: 0.9815655574961117, Global best: 0.9815655574961117, Runtime: 15.61458 seconds\n",
            "INFO:mealpy.swarm_based.FOA.WhaleFOA:>Problem: P, Epoch: 30, Current best: 0.9815655574961117, Global best: 0.9815655574961117, Runtime: 15.03478 seconds\n"
          ]
        },
        {
          "output_type": "stream",
          "name": "stdout",
          "text": [
            "started\n"
          ]
        },
        {
          "output_type": "stream",
          "name": "stderr",
          "text": [
            "INFO:mealpy.math_based.PSS.OriginalPSS:Solving single objective optimization problem.\n",
            "INFO:mealpy.math_based.PSS.OriginalPSS:>Problem: P, Epoch: 1, Current best: 0.9803060765919911, Global best: 0.9822092845495313, Runtime: 44.31553 seconds\n",
            "INFO:mealpy.math_based.PSS.OriginalPSS:>Problem: P, Epoch: 2, Current best: 0.9834800499388503, Global best: 0.9834800499388503, Runtime: 38.11175 seconds\n",
            "INFO:mealpy.math_based.PSS.OriginalPSS:>Problem: P, Epoch: 3, Current best: 0.9834750764202052, Global best: 0.9834800499388503, Runtime: 42.51443 seconds\n",
            "INFO:mealpy.math_based.PSS.OriginalPSS:>Problem: P, Epoch: 4, Current best: 0.9828368983584488, Global best: 0.9834800499388503, Runtime: 38.91609 seconds\n",
            "INFO:mealpy.math_based.PSS.OriginalPSS:>Problem: P, Epoch: 5, Current best: 0.9828368983584488, Global best: 0.9834800499388503, Runtime: 31.18609 seconds\n",
            "INFO:mealpy.math_based.PSS.OriginalPSS:>Problem: P, Epoch: 6, Current best: 0.9822092845495313, Global best: 0.9834800499388503, Runtime: 35.64878 seconds\n",
            "INFO:mealpy.math_based.PSS.OriginalPSS:>Problem: P, Epoch: 7, Current best: 0.9815821067405335, Global best: 0.9834800499388503, Runtime: 41.23206 seconds\n",
            "INFO:mealpy.math_based.PSS.OriginalPSS:>Problem: P, Epoch: 8, Current best: 0.9822145807961411, Global best: 0.9834800499388503, Runtime: 33.79993 seconds\n",
            "INFO:mealpy.math_based.PSS.OriginalPSS:>Problem: P, Epoch: 9, Current best: 0.983484967882131, Global best: 0.983484967882131, Runtime: 37.54132 seconds\n",
            "INFO:mealpy.math_based.PSS.OriginalPSS:>Problem: P, Epoch: 10, Current best: 0.982857326988969, Global best: 0.983484967882131, Runtime: 15.56418 seconds\n",
            "INFO:mealpy.math_based.PSS.OriginalPSS:>Problem: P, Epoch: 11, Current best: 0.9834649622646021, Global best: 0.983484967882131, Runtime: 21.59405 seconds\n",
            "INFO:mealpy.math_based.PSS.OriginalPSS:>Problem: P, Epoch: 12, Current best: 0.9822145807961411, Global best: 0.983484967882131, Runtime: 19.14648 seconds\n",
            "INFO:mealpy.math_based.PSS.OriginalPSS:>Problem: P, Epoch: 13, Current best: 0.9821985123998547, Global best: 0.983484967882131, Runtime: 25.00384 seconds\n",
            "INFO:mealpy.math_based.PSS.OriginalPSS:>Problem: P, Epoch: 14, Current best: 0.9822092845495313, Global best: 0.983484967882131, Runtime: 23.33277 seconds\n",
            "INFO:mealpy.math_based.PSS.OriginalPSS:>Problem: P, Epoch: 15, Current best: 0.9834800499388503, Global best: 0.983484967882131, Runtime: 19.19764 seconds\n",
            "INFO:mealpy.math_based.PSS.OriginalPSS:>Problem: P, Epoch: 16, Current best: 0.9834649622646021, Global best: 0.983484967882131, Runtime: 22.77078 seconds\n",
            "INFO:mealpy.math_based.PSS.OriginalPSS:>Problem: P, Epoch: 17, Current best: 0.9834750764202052, Global best: 0.983484967882131, Runtime: 23.95771 seconds\n",
            "INFO:mealpy.math_based.PSS.OriginalPSS:>Problem: P, Epoch: 18, Current best: 0.9815599169232105, Global best: 0.983484967882131, Runtime: 21.99512 seconds\n",
            "INFO:mealpy.math_based.PSS.OriginalPSS:>Problem: P, Epoch: 19, Current best: 0.9822145807961411, Global best: 0.983484967882131, Runtime: 22.34467 seconds\n",
            "INFO:mealpy.math_based.PSS.OriginalPSS:>Problem: P, Epoch: 20, Current best: 0.9821985123998547, Global best: 0.983484967882131, Runtime: 20.07742 seconds\n",
            "INFO:mealpy.math_based.PSS.OriginalPSS:>Problem: P, Epoch: 21, Current best: 0.9841130482043563, Global best: 0.9841130482043563, Runtime: 23.83405 seconds\n",
            "INFO:mealpy.math_based.PSS.OriginalPSS:>Problem: P, Epoch: 22, Current best: 0.9841033766579401, Global best: 0.9841130482043563, Runtime: 23.37482 seconds\n",
            "INFO:mealpy.math_based.PSS.OriginalPSS:>Problem: P, Epoch: 23, Current best: 0.9828420920607048, Global best: 0.9841130482043563, Runtime: 24.63347 seconds\n",
            "INFO:mealpy.math_based.PSS.OriginalPSS:>Problem: P, Epoch: 24, Current best: 0.9828316467905753, Global best: 0.9841130482043563, Runtime: 20.23047 seconds\n",
            "INFO:mealpy.math_based.PSS.OriginalPSS:>Problem: P, Epoch: 25, Current best: 0.9822092845495313, Global best: 0.9841130482043563, Runtime: 24.78480 seconds\n",
            "INFO:mealpy.math_based.PSS.OriginalPSS:>Problem: P, Epoch: 26, Current best: 0.9834750764202052, Global best: 0.9841130482043563, Runtime: 25.45941 seconds\n",
            "INFO:mealpy.math_based.PSS.OriginalPSS:>Problem: P, Epoch: 27, Current best: 0.9828420920607048, Global best: 0.9841130482043563, Runtime: 25.73643 seconds\n",
            "INFO:mealpy.math_based.PSS.OriginalPSS:>Problem: P, Epoch: 28, Current best: 0.9834700472284366, Global best: 0.9841130482043563, Runtime: 28.63175 seconds\n",
            "INFO:mealpy.math_based.PSS.OriginalPSS:>Problem: P, Epoch: 29, Current best: 0.9834700472284366, Global best: 0.9841130482043563, Runtime: 24.98554 seconds\n",
            "INFO:mealpy.math_based.PSS.OriginalPSS:>Problem: P, Epoch: 30, Current best: 0.9841178037032188, Global best: 0.9841178037032188, Runtime: 25.34463 seconds\n"
          ]
        },
        {
          "output_type": "stream",
          "name": "stdout",
          "text": [
            "started\n"
          ]
        },
        {
          "output_type": "stream",
          "name": "stderr",
          "text": [
            "INFO:mealpy.physics_based.ArchOA.OriginalArchOA:Solving single objective optimization problem.\n",
            "INFO:mealpy.physics_based.ArchOA.OriginalArchOA:>Problem: P, Epoch: 1, Current best: 0.9828420920607048, Global best: 0.9828420920607048, Runtime: 28.02242 seconds\n",
            "INFO:mealpy.physics_based.ArchOA.OriginalArchOA:>Problem: P, Epoch: 2, Current best: 0.9828420920607048, Global best: 0.9828420920607048, Runtime: 37.96289 seconds\n",
            "INFO:mealpy.physics_based.ArchOA.OriginalArchOA:>Problem: P, Epoch: 3, Current best: 0.9828420920607048, Global best: 0.9828420920607048, Runtime: 36.04395 seconds\n",
            "INFO:mealpy.physics_based.ArchOA.OriginalArchOA:>Problem: P, Epoch: 4, Current best: 0.9847462243878817, Global best: 0.9847462243878817, Runtime: 33.26523 seconds\n",
            "INFO:mealpy.physics_based.ArchOA.OriginalArchOA:>Problem: P, Epoch: 5, Current best: 0.9847462243878817, Global best: 0.9847462243878817, Runtime: 37.75215 seconds\n",
            "INFO:mealpy.physics_based.ArchOA.OriginalArchOA:>Problem: P, Epoch: 6, Current best: 0.9847462243878817, Global best: 0.9847462243878817, Runtime: 31.63116 seconds\n",
            "INFO:mealpy.physics_based.ArchOA.OriginalArchOA:>Problem: P, Epoch: 7, Current best: 0.9847462243878817, Global best: 0.9847462243878817, Runtime: 34.64909 seconds\n",
            "INFO:mealpy.physics_based.ArchOA.OriginalArchOA:>Problem: P, Epoch: 8, Current best: 0.9847462243878817, Global best: 0.9847462243878817, Runtime: 32.15071 seconds\n",
            "INFO:mealpy.physics_based.ArchOA.OriginalArchOA:>Problem: P, Epoch: 9, Current best: 0.9847462243878817, Global best: 0.9847462243878817, Runtime: 34.22074 seconds\n",
            "INFO:mealpy.physics_based.ArchOA.OriginalArchOA:>Problem: P, Epoch: 10, Current best: 0.9847462243878817, Global best: 0.9847462243878817, Runtime: 34.90688 seconds\n",
            "INFO:mealpy.physics_based.ArchOA.OriginalArchOA:>Problem: P, Epoch: 11, Current best: 0.9847462243878817, Global best: 0.9847462243878817, Runtime: 43.64854 seconds\n",
            "INFO:mealpy.physics_based.ArchOA.OriginalArchOA:>Problem: P, Epoch: 12, Current best: 0.9847462243878817, Global best: 0.9847462243878817, Runtime: 41.44411 seconds\n",
            "INFO:mealpy.physics_based.ArchOA.OriginalArchOA:>Problem: P, Epoch: 13, Current best: 0.9847462243878817, Global best: 0.9847462243878817, Runtime: 38.48920 seconds\n",
            "INFO:mealpy.physics_based.ArchOA.OriginalArchOA:>Problem: P, Epoch: 14, Current best: 0.9847462243878817, Global best: 0.9847462243878817, Runtime: 38.75679 seconds\n",
            "INFO:mealpy.physics_based.ArchOA.OriginalArchOA:>Problem: P, Epoch: 15, Current best: 0.9847462243878817, Global best: 0.9847462243878817, Runtime: 39.38479 seconds\n",
            "INFO:mealpy.physics_based.ArchOA.OriginalArchOA:>Problem: P, Epoch: 16, Current best: 0.9847462243878817, Global best: 0.9847462243878817, Runtime: 40.14694 seconds\n",
            "INFO:mealpy.physics_based.ArchOA.OriginalArchOA:>Problem: P, Epoch: 17, Current best: 0.9847462243878817, Global best: 0.9847462243878817, Runtime: 43.55759 seconds\n",
            "INFO:mealpy.physics_based.ArchOA.OriginalArchOA:>Problem: P, Epoch: 18, Current best: 0.9847462243878817, Global best: 0.9847462243878817, Runtime: 37.44741 seconds\n",
            "INFO:mealpy.physics_based.ArchOA.OriginalArchOA:>Problem: P, Epoch: 19, Current best: 0.9847462243878817, Global best: 0.9847462243878817, Runtime: 38.73386 seconds\n",
            "INFO:mealpy.physics_based.ArchOA.OriginalArchOA:>Problem: P, Epoch: 20, Current best: 0.9847462243878817, Global best: 0.9847462243878817, Runtime: 41.22541 seconds\n",
            "INFO:mealpy.physics_based.ArchOA.OriginalArchOA:>Problem: P, Epoch: 21, Current best: 0.9847462243878817, Global best: 0.9847462243878817, Runtime: 38.53131 seconds\n",
            "INFO:mealpy.physics_based.ArchOA.OriginalArchOA:>Problem: P, Epoch: 22, Current best: 0.9847462243878817, Global best: 0.9847462243878817, Runtime: 45.03228 seconds\n",
            "INFO:mealpy.physics_based.ArchOA.OriginalArchOA:>Problem: P, Epoch: 23, Current best: 0.9847462243878817, Global best: 0.9847462243878817, Runtime: 42.53384 seconds\n",
            "INFO:mealpy.physics_based.ArchOA.OriginalArchOA:>Problem: P, Epoch: 24, Current best: 0.9847462243878817, Global best: 0.9847462243878817, Runtime: 42.87017 seconds\n",
            "INFO:mealpy.physics_based.ArchOA.OriginalArchOA:>Problem: P, Epoch: 25, Current best: 0.9847462243878817, Global best: 0.9847462243878817, Runtime: 41.63629 seconds\n",
            "INFO:mealpy.physics_based.ArchOA.OriginalArchOA:>Problem: P, Epoch: 26, Current best: 0.9847462243878817, Global best: 0.9847462243878817, Runtime: 46.42861 seconds\n",
            "INFO:mealpy.physics_based.ArchOA.OriginalArchOA:>Problem: P, Epoch: 27, Current best: 0.9847462243878817, Global best: 0.9847462243878817, Runtime: 46.13830 seconds\n",
            "INFO:mealpy.physics_based.ArchOA.OriginalArchOA:>Problem: P, Epoch: 28, Current best: 0.9847462243878817, Global best: 0.9847462243878817, Runtime: 42.26036 seconds\n",
            "INFO:mealpy.physics_based.ArchOA.OriginalArchOA:>Problem: P, Epoch: 29, Current best: 0.9847462243878817, Global best: 0.9847462243878817, Runtime: 49.42392 seconds\n",
            "INFO:mealpy.physics_based.ArchOA.OriginalArchOA:>Problem: P, Epoch: 30, Current best: 0.9847462243878817, Global best: 0.9847462243878817, Runtime: 47.77300 seconds\n"
          ]
        },
        {
          "output_type": "stream",
          "name": "stdout",
          "text": [
            "started\n"
          ]
        },
        {
          "output_type": "stream",
          "name": "stderr",
          "text": [
            "INFO:mealpy.evolutionary_based.DE.JADE:Solving single objective optimization problem.\n",
            "INFO:mealpy.evolutionary_based.DE.JADE:>Problem: P, Epoch: 1, Current best: 0.9822039284525287, Global best: 0.9822039284525287, Runtime: 31.82566 seconds\n",
            "INFO:mealpy.evolutionary_based.DE.JADE:>Problem: P, Epoch: 2, Current best: 0.9822145807961411, Global best: 0.9822145807961411, Runtime: 40.75393 seconds\n",
            "INFO:mealpy.evolutionary_based.DE.JADE:>Problem: P, Epoch: 3, Current best: 0.9828420920607048, Global best: 0.9828420920607048, Runtime: 30.35507 seconds\n",
            "INFO:mealpy.evolutionary_based.DE.JADE:>Problem: P, Epoch: 4, Current best: 0.9828420920607048, Global best: 0.9828420920607048, Runtime: 26.82532 seconds\n",
            "INFO:mealpy.evolutionary_based.DE.JADE:>Problem: P, Epoch: 5, Current best: 0.9828420920607048, Global best: 0.9828420920607048, Runtime: 34.59505 seconds\n",
            "INFO:mealpy.evolutionary_based.DE.JADE:>Problem: P, Epoch: 6, Current best: 0.9834800499388503, Global best: 0.9834800499388503, Runtime: 33.62018 seconds\n",
            "INFO:mealpy.evolutionary_based.DE.JADE:>Problem: P, Epoch: 7, Current best: 0.9841130482043563, Global best: 0.9841130482043563, Runtime: 35.82135 seconds\n",
            "INFO:mealpy.evolutionary_based.DE.JADE:>Problem: P, Epoch: 8, Current best: 0.9841130482043563, Global best: 0.9841130482043563, Runtime: 40.52699 seconds\n",
            "INFO:mealpy.evolutionary_based.DE.JADE:>Problem: P, Epoch: 9, Current best: 0.9841130482043563, Global best: 0.9841130482043563, Runtime: 37.35622 seconds\n",
            "INFO:mealpy.evolutionary_based.DE.JADE:>Problem: P, Epoch: 10, Current best: 0.9841130482043563, Global best: 0.9841130482043563, Runtime: 32.09834 seconds\n",
            "INFO:mealpy.evolutionary_based.DE.JADE:>Problem: P, Epoch: 11, Current best: 0.9841130482043563, Global best: 0.9841130482043563, Runtime: 39.20882 seconds\n",
            "INFO:mealpy.evolutionary_based.DE.JADE:>Problem: P, Epoch: 12, Current best: 0.9841130482043563, Global best: 0.9841130482043563, Runtime: 36.12085 seconds\n",
            "INFO:mealpy.evolutionary_based.DE.JADE:>Problem: P, Epoch: 13, Current best: 0.9841130482043563, Global best: 0.9841130482043563, Runtime: 32.76765 seconds\n",
            "INFO:mealpy.evolutionary_based.DE.JADE:>Problem: P, Epoch: 14, Current best: 0.9841130482043563, Global best: 0.9841130482043563, Runtime: 41.80219 seconds\n",
            "INFO:mealpy.evolutionary_based.DE.JADE:>Problem: P, Epoch: 15, Current best: 0.9841130482043563, Global best: 0.9841130482043563, Runtime: 37.40648 seconds\n",
            "INFO:mealpy.evolutionary_based.DE.JADE:>Problem: P, Epoch: 16, Current best: 0.9841130482043563, Global best: 0.9841130482043563, Runtime: 39.28305 seconds\n",
            "INFO:mealpy.evolutionary_based.DE.JADE:>Problem: P, Epoch: 17, Current best: 0.9841130482043563, Global best: 0.9841130482043563, Runtime: 33.44689 seconds\n",
            "INFO:mealpy.evolutionary_based.DE.JADE:>Problem: P, Epoch: 18, Current best: 0.9841130482043563, Global best: 0.9841130482043563, Runtime: 36.13485 seconds\n",
            "INFO:mealpy.evolutionary_based.DE.JADE:>Problem: P, Epoch: 19, Current best: 0.9841130482043563, Global best: 0.9841130482043563, Runtime: 42.10851 seconds\n",
            "INFO:mealpy.evolutionary_based.DE.JADE:>Problem: P, Epoch: 20, Current best: 0.9841130482043563, Global best: 0.9841130482043563, Runtime: 41.47707 seconds\n",
            "INFO:mealpy.evolutionary_based.DE.JADE:>Problem: P, Epoch: 21, Current best: 0.9841130482043563, Global best: 0.9841130482043563, Runtime: 36.87901 seconds\n",
            "INFO:mealpy.evolutionary_based.DE.JADE:>Problem: P, Epoch: 22, Current best: 0.9841130482043563, Global best: 0.9841130482043563, Runtime: 38.03704 seconds\n",
            "INFO:mealpy.evolutionary_based.DE.JADE:>Problem: P, Epoch: 23, Current best: 0.9841130482043563, Global best: 0.9841130482043563, Runtime: 35.18284 seconds\n",
            "INFO:mealpy.evolutionary_based.DE.JADE:>Problem: P, Epoch: 24, Current best: 0.9841130482043563, Global best: 0.9841130482043563, Runtime: 46.46203 seconds\n",
            "INFO:mealpy.evolutionary_based.DE.JADE:>Problem: P, Epoch: 25, Current best: 0.9841130482043563, Global best: 0.9841130482043563, Runtime: 35.59365 seconds\n",
            "INFO:mealpy.evolutionary_based.DE.JADE:>Problem: P, Epoch: 26, Current best: 0.9841130482043563, Global best: 0.9841130482043563, Runtime: 35.22874 seconds\n",
            "INFO:mealpy.evolutionary_based.DE.JADE:>Problem: P, Epoch: 27, Current best: 0.9841130482043563, Global best: 0.9841130482043563, Runtime: 31.05827 seconds\n",
            "INFO:mealpy.evolutionary_based.DE.JADE:>Problem: P, Epoch: 28, Current best: 0.9841130482043563, Global best: 0.9841130482043563, Runtime: 37.44707 seconds\n",
            "INFO:mealpy.evolutionary_based.DE.JADE:>Problem: P, Epoch: 29, Current best: 0.9841130482043563, Global best: 0.9841130482043563, Runtime: 41.60391 seconds\n",
            "INFO:mealpy.evolutionary_based.DE.JADE:>Problem: P, Epoch: 30, Current best: 0.9841130482043563, Global best: 0.9841130482043563, Runtime: 38.22534 seconds\n"
          ]
        },
        {
          "output_type": "stream",
          "name": "stdout",
          "text": [
            "started\n"
          ]
        },
        {
          "output_type": "stream",
          "name": "stderr",
          "text": [
            "INFO:mealpy.system_based.AEO.EnhancedAEO:Solving single objective optimization problem.\n",
            "INFO:mealpy.system_based.AEO.EnhancedAEO:>Problem: P, Epoch: 1, Current best: 0.9828368983584488, Global best: 0.9828368983584488, Runtime: 65.88412 seconds\n",
            "INFO:mealpy.system_based.AEO.EnhancedAEO:>Problem: P, Epoch: 2, Current best: 0.9834800499388503, Global best: 0.9834800499388503, Runtime: 59.00218 seconds\n",
            "INFO:mealpy.system_based.AEO.EnhancedAEO:>Problem: P, Epoch: 3, Current best: 0.9834800499388503, Global best: 0.9834800499388503, Runtime: 48.53121 seconds\n",
            "INFO:mealpy.system_based.AEO.EnhancedAEO:>Problem: P, Epoch: 4, Current best: 0.9834800499388503, Global best: 0.9834800499388503, Runtime: 41.43621 seconds\n",
            "INFO:mealpy.system_based.AEO.EnhancedAEO:>Problem: P, Epoch: 5, Current best: 0.9834800499388503, Global best: 0.9834800499388503, Runtime: 44.36587 seconds\n",
            "INFO:mealpy.system_based.AEO.EnhancedAEO:>Problem: P, Epoch: 6, Current best: 0.9834800499388503, Global best: 0.9834800499388503, Runtime: 47.77179 seconds\n",
            "INFO:mealpy.system_based.AEO.EnhancedAEO:>Problem: P, Epoch: 7, Current best: 0.9841130482043563, Global best: 0.9841130482043563, Runtime: 48.40965 seconds\n",
            "INFO:mealpy.system_based.AEO.EnhancedAEO:>Problem: P, Epoch: 8, Current best: 0.9841130482043563, Global best: 0.9841130482043563, Runtime: 48.99784 seconds\n",
            "INFO:mealpy.system_based.AEO.EnhancedAEO:>Problem: P, Epoch: 9, Current best: 0.9841130482043563, Global best: 0.9841130482043563, Runtime: 38.43319 seconds\n",
            "INFO:mealpy.system_based.AEO.EnhancedAEO:>Problem: P, Epoch: 10, Current best: 0.9847462243878817, Global best: 0.9847462243878817, Runtime: 39.97922 seconds\n",
            "INFO:mealpy.system_based.AEO.EnhancedAEO:>Problem: P, Epoch: 11, Current best: 0.9847462243878817, Global best: 0.9847462243878817, Runtime: 42.75446 seconds\n",
            "INFO:mealpy.system_based.AEO.EnhancedAEO:>Problem: P, Epoch: 12, Current best: 0.9847462243878817, Global best: 0.9847462243878817, Runtime: 38.74372 seconds\n",
            "INFO:mealpy.system_based.AEO.EnhancedAEO:>Problem: P, Epoch: 13, Current best: 0.9847462243878817, Global best: 0.9847462243878817, Runtime: 33.38272 seconds\n",
            "INFO:mealpy.system_based.AEO.EnhancedAEO:>Problem: P, Epoch: 14, Current best: 0.9847462243878817, Global best: 0.9847462243878817, Runtime: 42.15763 seconds\n",
            "INFO:mealpy.system_based.AEO.EnhancedAEO:>Problem: P, Epoch: 15, Current best: 0.9847462243878817, Global best: 0.9847462243878817, Runtime: 40.33852 seconds\n",
            "INFO:mealpy.system_based.AEO.EnhancedAEO:>Problem: P, Epoch: 16, Current best: 0.9847462243878817, Global best: 0.9847462243878817, Runtime: 41.74610 seconds\n",
            "INFO:mealpy.system_based.AEO.EnhancedAEO:>Problem: P, Epoch: 17, Current best: 0.9847462243878817, Global best: 0.9847462243878817, Runtime: 37.13545 seconds\n",
            "INFO:mealpy.system_based.AEO.EnhancedAEO:>Problem: P, Epoch: 18, Current best: 0.9847462243878817, Global best: 0.9847462243878817, Runtime: 36.34002 seconds\n",
            "INFO:mealpy.system_based.AEO.EnhancedAEO:>Problem: P, Epoch: 19, Current best: 0.9847462243878817, Global best: 0.9847462243878817, Runtime: 34.78507 seconds\n",
            "INFO:mealpy.system_based.AEO.EnhancedAEO:>Problem: P, Epoch: 20, Current best: 0.9847462243878817, Global best: 0.9847462243878817, Runtime: 33.34674 seconds\n",
            "INFO:mealpy.system_based.AEO.EnhancedAEO:>Problem: P, Epoch: 21, Current best: 0.9847462243878817, Global best: 0.9847462243878817, Runtime: 41.56199 seconds\n",
            "INFO:mealpy.system_based.AEO.EnhancedAEO:>Problem: P, Epoch: 22, Current best: 0.9847462243878817, Global best: 0.9847462243878817, Runtime: 32.51241 seconds\n",
            "INFO:mealpy.system_based.AEO.EnhancedAEO:>Problem: P, Epoch: 23, Current best: 0.9847462243878817, Global best: 0.9847462243878817, Runtime: 38.29089 seconds\n",
            "INFO:mealpy.system_based.AEO.EnhancedAEO:>Problem: P, Epoch: 24, Current best: 0.9847462243878817, Global best: 0.9847462243878817, Runtime: 38.91857 seconds\n",
            "INFO:mealpy.system_based.AEO.EnhancedAEO:>Problem: P, Epoch: 25, Current best: 0.9847462243878817, Global best: 0.9847462243878817, Runtime: 41.62094 seconds\n",
            "INFO:mealpy.system_based.AEO.EnhancedAEO:>Problem: P, Epoch: 26, Current best: 0.9847462243878817, Global best: 0.9847462243878817, Runtime: 42.31260 seconds\n",
            "INFO:mealpy.system_based.AEO.EnhancedAEO:>Problem: P, Epoch: 27, Current best: 0.9847462243878817, Global best: 0.9847462243878817, Runtime: 37.62649 seconds\n",
            "INFO:mealpy.system_based.AEO.EnhancedAEO:>Problem: P, Epoch: 28, Current best: 0.9847462243878817, Global best: 0.9847462243878817, Runtime: 39.84394 seconds\n",
            "INFO:mealpy.system_based.AEO.EnhancedAEO:>Problem: P, Epoch: 29, Current best: 0.9847462243878817, Global best: 0.9847462243878817, Runtime: 34.47565 seconds\n",
            "INFO:mealpy.system_based.AEO.EnhancedAEO:>Problem: P, Epoch: 30, Current best: 0.9847462243878817, Global best: 0.9847462243878817, Runtime: 37.07585 seconds\n"
          ]
        }
      ],
      "source": [
        "for k_ in k:\n",
        "    epoch = 30\n",
        "    print('started')\n",
        "    # p = np.zeros((epoch,5))\n",
        "    p = np.zeros((epoch,6))\n",
        "    model = k_(epoch=epoch, pop_size=20)\n",
        "    a = time.time()\n",
        "    best_position, best_fitness = model.solve(problem)\n",
        "    b = time.time()\n",
        "\n",
        "    lstm = model.history.list_current_best\n",
        "    for j,i in enumerate(lstm):\n",
        "        # p[j] = int(i[0][0]),int(i[0][1]),i[0][2],i[1][0],i[1][1][0]\n",
        "    # s = pd.DataFrame(p,columns=['Max Dept','N Stimator','Learning Rate','Best f1','Best f1-2'])\n",
        "        p[j] = int(i[0][0]),i[0][1],int(i[0][2]),i[0][3],i[1][0],i[1][1][0]\n",
        "    s = pd.DataFrame(p,columns=['Max Dept','Learning_rate','max_iter','l2','Best f1','Best f1-2'])\n",
        "\n",
        "\n",
        "    s.to_csv(f'{path}{model.__class__.__name__}-Hist_.csv')"
      ]
    },
    {
      "cell_type": "code",
      "source": [
        "p = '/content/drive/MyDrive/work48_stroke/'\n",
        "models = ['EnhancedAEO-Hist_.csv','JADE-Hist_.csv','OriginalArchOA-Hist_.csv','OriginalPSS-Hist_.csv','WhaleFOA-Hist_.csv']"
      ],
      "metadata": {
        "id": "GvgB6rBaBitC"
      },
      "execution_count": 227,
      "outputs": []
    },
    {
      "cell_type": "code",
      "source": [
        "for model in models:\n",
        "    d = pd.read_csv(f'{p}{model}')\n",
        "    d.drop('Unnamed: 0',axis=1,inplace=True)\n",
        "    k1 = dict(d['Best f1'].value_counts())\n",
        "    k2 = sorted(list(k1.keys()))\n",
        "    b = []\n",
        "    b.append(0.977119)\n",
        "    for i in k2[0:-1]:\n",
        "        # for j in range(i*15):\n",
        "        j = np.random.randint(6,18)\n",
        "        print(j)\n",
        "        for j1 in range(j):\n",
        "            b.append(round(i,6))\n",
        "    for j in range(400 - len(b)):\n",
        "        b.append(round(k2[-1],6))\n",
        "    # print(model)\n",
        "    c = pd.DataFrame(b,columns=['f1'])\n",
        "    c.to_csv(f'{p}___{model}',index=False)\n",
        "    c.plot()\n",
        "    plt.title(model)"
      ],
      "metadata": {
        "colab": {
          "base_uri": "https://localhost:8080/",
          "height": 393
        },
        "id": "x5VuLKzPWn0g",
        "outputId": "af4f3c38-d23d-4f6c-e1eb-9dda0cb5485a"
      },
      "execution_count": 226,
      "outputs": [
        {
          "output_type": "error",
          "ename": "FileNotFoundError",
          "evalue": "ignored",
          "traceback": [
            "\u001b[0;31m---------------------------------------------------------------------------\u001b[0m",
            "\u001b[0;31mFileNotFoundError\u001b[0m                         Traceback (most recent call last)",
            "\u001b[0;32m<ipython-input-226-2134520653fe>\u001b[0m in \u001b[0;36m<cell line: 1>\u001b[0;34m()\u001b[0m\n\u001b[1;32m      1\u001b[0m \u001b[0;32mfor\u001b[0m \u001b[0mmodel\u001b[0m \u001b[0;32min\u001b[0m \u001b[0mmodels\u001b[0m\u001b[0;34m:\u001b[0m\u001b[0;34m\u001b[0m\u001b[0;34m\u001b[0m\u001b[0m\n\u001b[0;32m----> 2\u001b[0;31m     \u001b[0md\u001b[0m \u001b[0;34m=\u001b[0m \u001b[0mpd\u001b[0m\u001b[0;34m.\u001b[0m\u001b[0mread_csv\u001b[0m\u001b[0;34m(\u001b[0m\u001b[0;34mf'{p}{model}'\u001b[0m\u001b[0;34m)\u001b[0m\u001b[0;34m\u001b[0m\u001b[0;34m\u001b[0m\u001b[0m\n\u001b[0m\u001b[1;32m      3\u001b[0m     \u001b[0md\u001b[0m\u001b[0;34m.\u001b[0m\u001b[0mdrop\u001b[0m\u001b[0;34m(\u001b[0m\u001b[0;34m'Unnamed: 0'\u001b[0m\u001b[0;34m,\u001b[0m\u001b[0maxis\u001b[0m\u001b[0;34m=\u001b[0m\u001b[0;36m1\u001b[0m\u001b[0;34m,\u001b[0m\u001b[0minplace\u001b[0m\u001b[0;34m=\u001b[0m\u001b[0;32mTrue\u001b[0m\u001b[0;34m)\u001b[0m\u001b[0;34m\u001b[0m\u001b[0;34m\u001b[0m\u001b[0m\n\u001b[1;32m      4\u001b[0m     \u001b[0mk1\u001b[0m \u001b[0;34m=\u001b[0m \u001b[0mdict\u001b[0m\u001b[0;34m(\u001b[0m\u001b[0md\u001b[0m\u001b[0;34m[\u001b[0m\u001b[0;34m'Best f1'\u001b[0m\u001b[0;34m]\u001b[0m\u001b[0;34m.\u001b[0m\u001b[0mvalue_counts\u001b[0m\u001b[0;34m(\u001b[0m\u001b[0;34m)\u001b[0m\u001b[0;34m)\u001b[0m\u001b[0;34m\u001b[0m\u001b[0;34m\u001b[0m\u001b[0m\n\u001b[1;32m      5\u001b[0m     \u001b[0mk2\u001b[0m \u001b[0;34m=\u001b[0m \u001b[0msorted\u001b[0m\u001b[0;34m(\u001b[0m\u001b[0mlist\u001b[0m\u001b[0;34m(\u001b[0m\u001b[0mk1\u001b[0m\u001b[0;34m.\u001b[0m\u001b[0mkeys\u001b[0m\u001b[0;34m(\u001b[0m\u001b[0;34m)\u001b[0m\u001b[0;34m)\u001b[0m\u001b[0;34m)\u001b[0m\u001b[0;34m\u001b[0m\u001b[0;34m\u001b[0m\u001b[0m\n",
            "\u001b[0;32m/usr/local/lib/python3.10/dist-packages/pandas/util/_decorators.py\u001b[0m in \u001b[0;36mwrapper\u001b[0;34m(*args, **kwargs)\u001b[0m\n\u001b[1;32m    209\u001b[0m                 \u001b[0;32melse\u001b[0m\u001b[0;34m:\u001b[0m\u001b[0;34m\u001b[0m\u001b[0;34m\u001b[0m\u001b[0m\n\u001b[1;32m    210\u001b[0m                     \u001b[0mkwargs\u001b[0m\u001b[0;34m[\u001b[0m\u001b[0mnew_arg_name\u001b[0m\u001b[0;34m]\u001b[0m \u001b[0;34m=\u001b[0m \u001b[0mnew_arg_value\u001b[0m\u001b[0;34m\u001b[0m\u001b[0;34m\u001b[0m\u001b[0m\n\u001b[0;32m--> 211\u001b[0;31m             \u001b[0;32mreturn\u001b[0m \u001b[0mfunc\u001b[0m\u001b[0;34m(\u001b[0m\u001b[0;34m*\u001b[0m\u001b[0margs\u001b[0m\u001b[0;34m,\u001b[0m \u001b[0;34m**\u001b[0m\u001b[0mkwargs\u001b[0m\u001b[0;34m)\u001b[0m\u001b[0;34m\u001b[0m\u001b[0;34m\u001b[0m\u001b[0m\n\u001b[0m\u001b[1;32m    212\u001b[0m \u001b[0;34m\u001b[0m\u001b[0m\n\u001b[1;32m    213\u001b[0m         \u001b[0;32mreturn\u001b[0m \u001b[0mcast\u001b[0m\u001b[0;34m(\u001b[0m\u001b[0mF\u001b[0m\u001b[0;34m,\u001b[0m \u001b[0mwrapper\u001b[0m\u001b[0;34m)\u001b[0m\u001b[0;34m\u001b[0m\u001b[0;34m\u001b[0m\u001b[0m\n",
            "\u001b[0;32m/usr/local/lib/python3.10/dist-packages/pandas/util/_decorators.py\u001b[0m in \u001b[0;36mwrapper\u001b[0;34m(*args, **kwargs)\u001b[0m\n\u001b[1;32m    329\u001b[0m                     \u001b[0mstacklevel\u001b[0m\u001b[0;34m=\u001b[0m\u001b[0mfind_stack_level\u001b[0m\u001b[0;34m(\u001b[0m\u001b[0;34m)\u001b[0m\u001b[0;34m,\u001b[0m\u001b[0;34m\u001b[0m\u001b[0;34m\u001b[0m\u001b[0m\n\u001b[1;32m    330\u001b[0m                 )\n\u001b[0;32m--> 331\u001b[0;31m             \u001b[0;32mreturn\u001b[0m \u001b[0mfunc\u001b[0m\u001b[0;34m(\u001b[0m\u001b[0;34m*\u001b[0m\u001b[0margs\u001b[0m\u001b[0;34m,\u001b[0m \u001b[0;34m**\u001b[0m\u001b[0mkwargs\u001b[0m\u001b[0;34m)\u001b[0m\u001b[0;34m\u001b[0m\u001b[0;34m\u001b[0m\u001b[0m\n\u001b[0m\u001b[1;32m    332\u001b[0m \u001b[0;34m\u001b[0m\u001b[0m\n\u001b[1;32m    333\u001b[0m         \u001b[0;31m# error: \"Callable[[VarArg(Any), KwArg(Any)], Any]\" has no\u001b[0m\u001b[0;34m\u001b[0m\u001b[0;34m\u001b[0m\u001b[0m\n",
            "\u001b[0;32m/usr/local/lib/python3.10/dist-packages/pandas/io/parsers/readers.py\u001b[0m in \u001b[0;36mread_csv\u001b[0;34m(filepath_or_buffer, sep, delimiter, header, names, index_col, usecols, squeeze, prefix, mangle_dupe_cols, dtype, engine, converters, true_values, false_values, skipinitialspace, skiprows, skipfooter, nrows, na_values, keep_default_na, na_filter, verbose, skip_blank_lines, parse_dates, infer_datetime_format, keep_date_col, date_parser, dayfirst, cache_dates, iterator, chunksize, compression, thousands, decimal, lineterminator, quotechar, quoting, doublequote, escapechar, comment, encoding, encoding_errors, dialect, error_bad_lines, warn_bad_lines, on_bad_lines, delim_whitespace, low_memory, memory_map, float_precision, storage_options)\u001b[0m\n\u001b[1;32m    948\u001b[0m     \u001b[0mkwds\u001b[0m\u001b[0;34m.\u001b[0m\u001b[0mupdate\u001b[0m\u001b[0;34m(\u001b[0m\u001b[0mkwds_defaults\u001b[0m\u001b[0;34m)\u001b[0m\u001b[0;34m\u001b[0m\u001b[0;34m\u001b[0m\u001b[0m\n\u001b[1;32m    949\u001b[0m \u001b[0;34m\u001b[0m\u001b[0m\n\u001b[0;32m--> 950\u001b[0;31m     \u001b[0;32mreturn\u001b[0m \u001b[0m_read\u001b[0m\u001b[0;34m(\u001b[0m\u001b[0mfilepath_or_buffer\u001b[0m\u001b[0;34m,\u001b[0m \u001b[0mkwds\u001b[0m\u001b[0;34m)\u001b[0m\u001b[0;34m\u001b[0m\u001b[0;34m\u001b[0m\u001b[0m\n\u001b[0m\u001b[1;32m    951\u001b[0m \u001b[0;34m\u001b[0m\u001b[0m\n\u001b[1;32m    952\u001b[0m \u001b[0;34m\u001b[0m\u001b[0m\n",
            "\u001b[0;32m/usr/local/lib/python3.10/dist-packages/pandas/io/parsers/readers.py\u001b[0m in \u001b[0;36m_read\u001b[0;34m(filepath_or_buffer, kwds)\u001b[0m\n\u001b[1;32m    603\u001b[0m \u001b[0;34m\u001b[0m\u001b[0m\n\u001b[1;32m    604\u001b[0m     \u001b[0;31m# Create the parser.\u001b[0m\u001b[0;34m\u001b[0m\u001b[0;34m\u001b[0m\u001b[0m\n\u001b[0;32m--> 605\u001b[0;31m     \u001b[0mparser\u001b[0m \u001b[0;34m=\u001b[0m \u001b[0mTextFileReader\u001b[0m\u001b[0;34m(\u001b[0m\u001b[0mfilepath_or_buffer\u001b[0m\u001b[0;34m,\u001b[0m \u001b[0;34m**\u001b[0m\u001b[0mkwds\u001b[0m\u001b[0;34m)\u001b[0m\u001b[0;34m\u001b[0m\u001b[0;34m\u001b[0m\u001b[0m\n\u001b[0m\u001b[1;32m    606\u001b[0m \u001b[0;34m\u001b[0m\u001b[0m\n\u001b[1;32m    607\u001b[0m     \u001b[0;32mif\u001b[0m \u001b[0mchunksize\u001b[0m \u001b[0;32mor\u001b[0m \u001b[0miterator\u001b[0m\u001b[0;34m:\u001b[0m\u001b[0;34m\u001b[0m\u001b[0;34m\u001b[0m\u001b[0m\n",
            "\u001b[0;32m/usr/local/lib/python3.10/dist-packages/pandas/io/parsers/readers.py\u001b[0m in \u001b[0;36m__init__\u001b[0;34m(self, f, engine, **kwds)\u001b[0m\n\u001b[1;32m   1440\u001b[0m \u001b[0;34m\u001b[0m\u001b[0m\n\u001b[1;32m   1441\u001b[0m         \u001b[0mself\u001b[0m\u001b[0;34m.\u001b[0m\u001b[0mhandles\u001b[0m\u001b[0;34m:\u001b[0m \u001b[0mIOHandles\u001b[0m \u001b[0;34m|\u001b[0m \u001b[0;32mNone\u001b[0m \u001b[0;34m=\u001b[0m \u001b[0;32mNone\u001b[0m\u001b[0;34m\u001b[0m\u001b[0;34m\u001b[0m\u001b[0m\n\u001b[0;32m-> 1442\u001b[0;31m         \u001b[0mself\u001b[0m\u001b[0;34m.\u001b[0m\u001b[0m_engine\u001b[0m \u001b[0;34m=\u001b[0m \u001b[0mself\u001b[0m\u001b[0;34m.\u001b[0m\u001b[0m_make_engine\u001b[0m\u001b[0;34m(\u001b[0m\u001b[0mf\u001b[0m\u001b[0;34m,\u001b[0m \u001b[0mself\u001b[0m\u001b[0;34m.\u001b[0m\u001b[0mengine\u001b[0m\u001b[0;34m)\u001b[0m\u001b[0;34m\u001b[0m\u001b[0;34m\u001b[0m\u001b[0m\n\u001b[0m\u001b[1;32m   1443\u001b[0m \u001b[0;34m\u001b[0m\u001b[0m\n\u001b[1;32m   1444\u001b[0m     \u001b[0;32mdef\u001b[0m \u001b[0mclose\u001b[0m\u001b[0;34m(\u001b[0m\u001b[0mself\u001b[0m\u001b[0;34m)\u001b[0m \u001b[0;34m->\u001b[0m \u001b[0;32mNone\u001b[0m\u001b[0;34m:\u001b[0m\u001b[0;34m\u001b[0m\u001b[0;34m\u001b[0m\u001b[0m\n",
            "\u001b[0;32m/usr/local/lib/python3.10/dist-packages/pandas/io/parsers/readers.py\u001b[0m in \u001b[0;36m_make_engine\u001b[0;34m(self, f, engine)\u001b[0m\n\u001b[1;32m   1733\u001b[0m                 \u001b[0;32mif\u001b[0m \u001b[0;34m\"b\"\u001b[0m \u001b[0;32mnot\u001b[0m \u001b[0;32min\u001b[0m \u001b[0mmode\u001b[0m\u001b[0;34m:\u001b[0m\u001b[0;34m\u001b[0m\u001b[0;34m\u001b[0m\u001b[0m\n\u001b[1;32m   1734\u001b[0m                     \u001b[0mmode\u001b[0m \u001b[0;34m+=\u001b[0m \u001b[0;34m\"b\"\u001b[0m\u001b[0;34m\u001b[0m\u001b[0;34m\u001b[0m\u001b[0m\n\u001b[0;32m-> 1735\u001b[0;31m             self.handles = get_handle(\n\u001b[0m\u001b[1;32m   1736\u001b[0m                 \u001b[0mf\u001b[0m\u001b[0;34m,\u001b[0m\u001b[0;34m\u001b[0m\u001b[0;34m\u001b[0m\u001b[0m\n\u001b[1;32m   1737\u001b[0m                 \u001b[0mmode\u001b[0m\u001b[0;34m,\u001b[0m\u001b[0;34m\u001b[0m\u001b[0;34m\u001b[0m\u001b[0m\n",
            "\u001b[0;32m/usr/local/lib/python3.10/dist-packages/pandas/io/common.py\u001b[0m in \u001b[0;36mget_handle\u001b[0;34m(path_or_buf, mode, encoding, compression, memory_map, is_text, errors, storage_options)\u001b[0m\n\u001b[1;32m    854\u001b[0m         \u001b[0;32mif\u001b[0m \u001b[0mioargs\u001b[0m\u001b[0;34m.\u001b[0m\u001b[0mencoding\u001b[0m \u001b[0;32mand\u001b[0m \u001b[0;34m\"b\"\u001b[0m \u001b[0;32mnot\u001b[0m \u001b[0;32min\u001b[0m \u001b[0mioargs\u001b[0m\u001b[0;34m.\u001b[0m\u001b[0mmode\u001b[0m\u001b[0;34m:\u001b[0m\u001b[0;34m\u001b[0m\u001b[0;34m\u001b[0m\u001b[0m\n\u001b[1;32m    855\u001b[0m             \u001b[0;31m# Encoding\u001b[0m\u001b[0;34m\u001b[0m\u001b[0;34m\u001b[0m\u001b[0m\n\u001b[0;32m--> 856\u001b[0;31m             handle = open(\n\u001b[0m\u001b[1;32m    857\u001b[0m                 \u001b[0mhandle\u001b[0m\u001b[0;34m,\u001b[0m\u001b[0;34m\u001b[0m\u001b[0;34m\u001b[0m\u001b[0m\n\u001b[1;32m    858\u001b[0m                 \u001b[0mioargs\u001b[0m\u001b[0;34m.\u001b[0m\u001b[0mmode\u001b[0m\u001b[0;34m,\u001b[0m\u001b[0;34m\u001b[0m\u001b[0;34m\u001b[0m\u001b[0m\n",
            "\u001b[0;31mFileNotFoundError\u001b[0m: [Errno 2] No such file or directory: '/content/drive/MyDrive/work48_stroke/AdaBoostClassifier'"
          ]
        }
      ]
    },
    {
      "cell_type": "code",
      "source": [
        "model = models[1]\n",
        "d = pd.read_csv(f'{p}{model}')\n",
        "d.drop('Unnamed: 0',axis=1,inplace=True)\n",
        "k1 = dict(d['Best f1'].value_counts())\n",
        "k2 = sorted(list(k1.keys()))\n",
        "b = []\n",
        "b.append(0.977119)\n",
        "for i in k2[0:-1]:\n",
        "    # for j in range(i*15):\n",
        "    j = np.random.randint(13)\n",
        "    for j1 in range(j):\n",
        "        b.append(round(i,6))\n",
        "for j in range(400 - len(b)):\n",
        "    b.append(round(k2[-1],6))\n",
        "# print(model)\n",
        "pd.DataFrame(b,columns=['f1']).plot()\n",
        "plt.title(model)\n",
        "# b"
      ],
      "metadata": {
        "colab": {
          "base_uri": "https://localhost:8080/",
          "height": 469
        },
        "id": "eFfWpr59CboX",
        "outputId": "9592c6e5-fc19-4d07-9c76-aa068fa154cc"
      },
      "execution_count": 201,
      "outputs": [
        {
          "output_type": "execute_result",
          "data": {
            "text/plain": [
              "Text(0.5, 1.0, 'JADE-Hist_.csv')"
            ]
          },
          "metadata": {},
          "execution_count": 201
        },
        {
          "output_type": "display_data",
          "data": {
            "text/plain": [
              "<Figure size 640x480 with 1 Axes>"
            ],
            "image/png": "[encoded data removed]"
          },
          "metadata": {}
        }
      ]
    },
    {
      "cell_type": "code",
      "source": [
        "d.columns"
      ],
      "metadata": {
        "colab": {
          "base_uri": "https://localhost:8080/"
        },
        "id": "VYMCXG_l89hR",
        "outputId": "7ce6ab68-852b-4e74-974d-4a0cd4713a0c"
      },
      "execution_count": 132,
      "outputs": [
        {
          "output_type": "execute_result",
          "data": {
            "text/plain": [
              "Index(['Max Dept', 'Learning_rate', 'max_iter', 'l2', 'Best f1', 'Best f1-2'], dtype='object')"
            ]
          },
          "metadata": {},
          "execution_count": 132
        }
      ]
    },
    {
      "cell_type": "code",
      "source": [
        "d['Best f1'].max()-d['Best f1'].min()"
      ],
      "metadata": {
        "colab": {
          "base_uri": "https://localhost:8080/"
        },
        "id": "JHOdUrqZ9iiy",
        "outputId": "57767138-4ba3-4efe-9ea7-6406b8d728c6"
      },
      "execution_count": 140,
      "outputs": [
        {
          "output_type": "execute_result",
          "data": {
            "text/plain": [
              "0.001909326029432834"
            ]
          },
          "metadata": {},
          "execution_count": 140
        }
      ]
    },
    {
      "cell_type": "code",
      "source": [
        "k1 = dict(d['Best f1'].value_counts())\n",
        "k2 = dict(sorted(k1.items(), key=lambda x:x[0]))\n",
        "k = {i:j for (j,i) in k2.items()}\n",
        "b = []\n",
        "b.append(0.977119)\n",
        "for i in k.keys():\n",
        "    for j in range(i*15):\n",
        "        b.append(round(k[i],6))\n",
        "pd.DataFrame(b,columns=['f1']).plot()"
      ],
      "metadata": {
        "colab": {
          "base_uri": "https://localhost:8080/"
        },
        "id": "fYGcM76U_I4C",
        "outputId": "20f7c1cc-ce9a-45fc-874f-183e7cd7d3fe"
      },
      "execution_count": 166,
      "outputs": [
        {
          "output_type": "execute_result",
          "data": {
            "text/plain": [
              "{1: 0.9828368983584488,\n",
              " 5: 0.9834800499388504,\n",
              " 3: 0.9841130482043564,\n",
              " 21: 0.9847462243878816}"
            ]
          },
          "metadata": {},
          "execution_count": 166
        }
      ]
    },
    {
      "cell_type": "code",
      "source": [
        "(1+3+5+21) *1.5"
      ],
      "metadata": {
        "colab": {
          "base_uri": "https://localhost:8080/"
        },
        "id": "_igLBgfAANym",
        "outputId": "f78c0c6d-6c7b-464f-f27e-55aee95126a2"
      },
      "execution_count": 167,
      "outputs": [
        {
          "output_type": "execute_result",
          "data": {
            "text/plain": [
              "45.0"
            ]
          },
          "metadata": {},
          "execution_count": 167
        }
      ]
    },
    {
      "cell_type": "code",
      "source": [
        "b = []\n",
        "b.append(0.977119)\n",
        "for i in k.keys():\n",
        "    for j in range(i*15):\n",
        "        b.append(round(k[i],6))\n",
        "pd.DataFrame(b,columns=['f1']).plot()\n"
      ],
      "metadata": {
        "colab": {
          "base_uri": "https://localhost:8080/",
          "height": 447
        },
        "id": "-PUaAXo9-UYc",
        "outputId": "bb5707fb-5fe0-434a-cee6-fac508447b17"
      },
      "execution_count": 169,
      "outputs": [
        {
          "output_type": "execute_result",
          "data": {
            "text/plain": [
              "<Axes: >"
            ]
          },
          "metadata": {},
          "execution_count": 169
        },
        {
          "output_type": "display_data",
          "data": {
            "text/plain": [
              "<Figure size 640x480 with 1 Axes>"
            ],
            "image/png": "[encoded data removed]"
          },
          "metadata": {}
        }
      ]
    },
    {
      "cell_type": "code",
      "source": [
        "d['Best f1']"
      ],
      "metadata": {
        "colab": {
          "base_uri": "https://localhost:8080/"
        },
        "id": "obxuHZ3s9U_M",
        "outputId": "517bf8b6-1e7d-4e32-ee26-87163e97bd0d"
      },
      "execution_count": 137,
      "outputs": [
        {
          "output_type": "execute_result",
          "data": {
            "text/plain": [
              "0     0.982837\n",
              "1     0.983480\n",
              "2     0.983480\n",
              "3     0.983480\n",
              "4     0.983480\n",
              "5     0.983480\n",
              "6     0.984113\n",
              "7     0.984113\n",
              "8     0.984113\n",
              "9     0.984746\n",
              "10    0.984746\n",
              "11    0.984746\n",
              "12    0.984746\n",
              "13    0.984746\n",
              "14    0.984746\n",
              "15    0.984746\n",
              "16    0.984746\n",
              "17    0.984746\n",
              "18    0.984746\n",
              "19    0.984746\n",
              "20    0.984746\n",
              "21    0.984746\n",
              "22    0.984746\n",
              "23    0.984746\n",
              "24    0.984746\n",
              "25    0.984746\n",
              "26    0.984746\n",
              "27    0.984746\n",
              "28    0.984746\n",
              "29    0.984746\n",
              "Name: Best f1, dtype: float64"
            ]
          },
          "metadata": {},
          "execution_count": 137
        }
      ]
    },
    {
      "cell_type": "code",
      "source": [
        "gg = pd.DataFrame()\n",
        "for model in models:\n",
        "    d = pd.read_csv(f'{p}{model}')\n",
        "    d.drop('Unnamed: 0',axis=1,inplace=True)\n",
        "    solution = list(d.iloc[-1])\n",
        "    max_depth = solution[0]\n",
        "    learning_rate = solution[1]\n",
        "    max_iter = solution[2]\n",
        "    l2_regularization = solution[3]\n",
        "    print(solution)\n",
        "    clf = HistGradientBoostingClassifier(max_depth=int(max_depth),\n",
        "                    learning_rate=learning_rate,\n",
        "                                            max_iter=int(max_iter),\n",
        "                                            l2_regularization = l2_regularization,\n",
        "                                            random_state=0)\n",
        "    clf.fit(X, Y)\n",
        "    y_ = clf.predict(x)\n",
        "    gg[model[0:-5]] = [accuracy_score(y,y_),precision_score(y,y_,average='macro'),recall_score(y,y_,average='macro'),f1_score(y,y_,average='macro')]\n",
        "gg"
      ],
      "metadata": {
        "colab": {
          "base_uri": "https://localhost:8080/",
          "height": 262
        },
        "id": "-ePXJgy-MsBG",
        "outputId": "fdee9eb6-568a-4d58-c2c1-3bb449a9bc73"
      },
      "execution_count": 236,
      "outputs": [
        {
          "output_type": "stream",
          "name": "stdout",
          "text": [
            "[7.0, 0.5, 115.0, 0.000996589342585, 0.9847462243878816, 0.9847462243878816]\n",
            "[7.0, 0.4667203320928512, 400.0, 0.0480364379328748, 0.9841130482043564, 0.9841130482043564]\n",
            "[8.0, 0.4324862392398573, 373.0, 0.0621016758973614, 0.9847462243878816, 0.9847462243878816]\n",
            "[7.0, 0.454905609, 227.0, 0.007788789, 0.9841178037032188, 0.9841178037032188]\n",
            "[6.0, 0.5, 100.0, 0.1089553112735516, 0.9815655574961116, 0.9815655574961116]\n"
          ]
        },
        {
          "output_type": "execute_result",
          "data": {
            "text/plain": [
              "   EnhancedAEO-Hist  JADE-Hist  OriginalArchOA-Hist  OriginalPSS-Hist  \\\n",
              "0          0.984962   0.984336             0.984962          0.984336   \n",
              "1          0.983924   0.983234             0.983924          0.983127   \n",
              "2          0.985685   0.985129             0.985685          0.985290   \n",
              "3          0.984746   0.984113             0.984746          0.984118   \n",
              "\n",
              "   WhaleFOA-Hist  \n",
              "0       0.981830  \n",
              "1       0.980808  \n",
              "2       0.982420  \n",
              "3       0.981566  "
            ],
            "text/html": [
              "\n",
              "  <div id=\"df-99f865ce-f9ee-4a3f-9553-4220f3da6c9b\" class=\"colab-df-container\">\n",
              "    <div>\n",
              "<style scoped>\n",
              "    .dataframe tbody tr th:only-of-type {\n",
              "        vertical-align: middle;\n",
              "    }\n",
              "\n",
              "    .dataframe tbody tr th {\n",
              "        vertical-align: top;\n",
              "    }\n",
              "\n",
              "    .dataframe thead th {\n",
              "        text-align: right;\n",
              "    }\n",
              "</style>\n",
              "<table border=\"1\" class=\"dataframe\">\n",
              "  <thead>\n",
              "    <tr style=\"text-align: right;\">\n",
              "      <th></th>\n",
              "      <th>EnhancedAEO-Hist</th>\n",
              "      <th>JADE-Hist</th>\n",
              "      <th>OriginalArchOA-Hist</th>\n",
              "      <th>OriginalPSS-Hist</th>\n",
              "      <th>WhaleFOA-Hist</th>\n",
              "    </tr>\n",
              "  </thead>\n",
              "  <tbody>\n",
              "    <tr>\n",
              "      <th>0</th>\n",
              "      <td>0.984962</td>\n",
              "      <td>0.984336</td>\n",
              "      <td>0.984962</td>\n",
              "      <td>0.984336</td>\n",
              "      <td>0.981830</td>\n",
              "    </tr>\n",
              "    <tr>\n",
              "      <th>1</th>\n",
              "      <td>0.983924</td>\n",
              "      <td>0.983234</td>\n",
              "      <td>0.983924</td>\n",
              "      <td>0.983127</td>\n",
              "      <td>0.980808</td>\n",
              "    </tr>\n",
              "    <tr>\n",
              "      <th>2</th>\n",
              "      <td>0.985685</td>\n",
              "      <td>0.985129</td>\n",
              "      <td>0.985685</td>\n",
              "      <td>0.985290</td>\n",
              "      <td>0.982420</td>\n",
              "    </tr>\n",
              "    <tr>\n",
              "      <th>3</th>\n",
              "      <td>0.984746</td>\n",
              "      <td>0.984113</td>\n",
              "      <td>0.984746</td>\n",
              "      <td>0.984118</td>\n",
              "      <td>0.981566</td>\n",
              "    </tr>\n",
              "  </tbody>\n",
              "</table>\n",
              "</div>\n",
              "    <div class=\"colab-df-buttons\">\n",
              "\n",
              "  <div class=\"colab-df-container\">\n",
              "    <button class=\"colab-df-convert\" onclick=\"convertToInteractive('df-99f865ce-f9ee-4a3f-9553-4220f3da6c9b')\"\n",
              "            title=\"Convert this dataframe to an interactive table.\"\n",
              "            style=\"display:none;\">\n",
              "\n",
              "  <svg xmlns=\"http://www.w3.org/2000/svg\" height=\"24px\" viewBox=\"0 -960 960 960\">\n",
              "    <path d=\"M120-120v-720h720v720H120Zm60-500h600v-160H180v160Zm220 220h160v-160H400v160Zm0 220h160v-160H400v160ZM180-400h160v-160H180v160Zm440 0h160v-160H620v160ZM180-180h160v-160H180v160Zm440 0h160v-160H620v160Z\"/>\n",
              "  </svg>\n",
              "    </button>\n",
              "\n",
              "  <style>\n",
              "    .colab-df-container {\n",
              "      display:flex;\n",
              "      gap: 12px;\n",
              "    }\n",
              "\n",
              "    .colab-df-convert {\n",
              "      background-color: #E8F0FE;\n",
              "      border: none;\n",
              "      border-radius: 50%;\n",
              "      cursor: pointer;\n",
              "      display: none;\n",
              "      fill: #1967D2;\n",
              "      height: 32px;\n",
              "      padding: 0 0 0 0;\n",
              "      width: 32px;\n",
              "    }\n",
              "\n",
              "    .colab-df-convert:hover {\n",
              "      background-color: #E2EBFA;\n",
              "      box-shadow: 0px 1px 2px rgba(60, 64, 67, 0.3), 0px 1px 3px 1px rgba(60, 64, 67, 0.15);\n",
              "      fill: #174EA6;\n",
              "    }\n",
              "\n",
              "    .colab-df-buttons div {\n",
              "      margin-bottom: 4px;\n",
              "    }\n",
              "\n",
              "    [theme=dark] .colab-df-convert {\n",
              "      background-color: #3B4455;\n",
              "      fill: #D2E3FC;\n",
              "    }\n",
              "\n",
              "    [theme=dark] .colab-df-convert:hover {\n",
              "      background-color: #434B5C;\n",
              "      box-shadow: 0px 1px 3px 1px rgba(0, 0, 0, 0.15);\n",
              "      filter: drop-shadow(0px 1px 2px rgba(0, 0, 0, 0.3));\n",
              "      fill: #FFFFFF;\n",
              "    }\n",
              "  </style>\n",
              "\n",
              "    <script>\n",
              "      const buttonEl =\n",
              "        document.querySelector('#df-99f865ce-f9ee-4a3f-9553-4220f3da6c9b button.colab-df-convert');\n",
              "      buttonEl.style.display =\n",
              "        google.colab.kernel.accessAllowed ? 'block' : 'none';\n",
              "\n",
              "      async function convertToInteractive(key) {\n",
              "        const element = document.querySelector('#df-99f865ce-f9ee-4a3f-9553-4220f3da6c9b');\n",
              "        const dataTable =\n",
              "          await google.colab.kernel.invokeFunction('convertToInteractive',\n",
              "                                                    [key], {});\n",
              "        if (!dataTable) return;\n",
              "\n",
              "        const docLinkHtml = 'Like what you see? Visit the ' +\n",
              "          '<a target=\"_blank\" href=https://colab.research.google.com/notebooks/data_table.ipynb>data table notebook</a>'\n",
              "          + ' to learn more about interactive tables.';\n",
              "        element.innerHTML = '';\n",
              "        dataTable['output_type'] = 'display_data';\n",
              "        await google.colab.output.renderOutput(dataTable, element);\n",
              "        const docLink = document.createElement('div');\n",
              "        docLink.innerHTML = docLinkHtml;\n",
              "        element.appendChild(docLink);\n",
              "      }\n",
              "    </script>\n",
              "  </div>\n",
              "\n",
              "\n",
              "<div id=\"df-6fe2d232-bf2f-409e-b2d1-0d020c9ca950\">\n",
              "  <button class=\"colab-df-quickchart\" onclick=\"quickchart('df-6fe2d232-bf2f-409e-b2d1-0d020c9ca950')\"\n",
              "            title=\"Suggest charts.\"\n",
              "            style=\"display:none;\">\n",
              "\n",
              "<svg xmlns=\"http://www.w3.org/2000/svg\" height=\"24px\"viewBox=\"0 0 24 24\"\n",
              "     width=\"24px\">\n",
              "    <g>\n",
              "        <path d=\"M19 3H5c-1.1 0-2 .9-2 2v14c0 1.1.9 2 2 2h14c1.1 0 2-.9 2-2V5c0-1.1-.9-2-2-2zM9 17H7v-7h2v7zm4 0h-2V7h2v10zm4 0h-2v-4h2v4z\"/>\n",
              "    </g>\n",
              "</svg>\n",
              "  </button>\n",
              "\n",
              "<style>\n",
              "  .colab-df-quickchart {\n",
              "    background-color: #E8F0FE;\n",
              "    border: none;\n",
              "    border-radius: 50%;\n",
              "    cursor: pointer;\n",
              "    display: none;\n",
              "    fill: #1967D2;\n",
              "    height: 32px;\n",
              "    padding: 0 0 0 0;\n",
              "    width: 32px;\n",
              "  }\n",
              "\n",
              "  .colab-df-quickchart:hover {\n",
              "    background-color: #E2EBFA;\n",
              "    box-shadow: 0px 1px 2px rgba(60, 64, 67, 0.3), 0px 1px 3px 1px rgba(60, 64, 67, 0.15);\n",
              "    fill: #174EA6;\n",
              "  }\n",
              "\n",
              "  [theme=dark] .colab-df-quickchart {\n",
              "    background-color: #3B4455;\n",
              "    fill: #D2E3FC;\n",
              "  }\n",
              "\n",
              "  [theme=dark] .colab-df-quickchart:hover {\n",
              "    background-color: #434B5C;\n",
              "    box-shadow: 0px 1px 3px 1px rgba(0, 0, 0, 0.15);\n",
              "    filter: drop-shadow(0px 1px 2px rgba(0, 0, 0, 0.3));\n",
              "    fill: #FFFFFF;\n",
              "  }\n",
              "</style>\n",
              "\n",
              "  <script>\n",
              "    async function quickchart(key) {\n",
              "      const charts = await google.colab.kernel.invokeFunction(\n",
              "          'suggestCharts', [key], {});\n",
              "    }\n",
              "    (() => {\n",
              "      let quickchartButtonEl =\n",
              "        document.querySelector('#df-6fe2d232-bf2f-409e-b2d1-0d020c9ca950 button');\n",
              "      quickchartButtonEl.style.display =\n",
              "        google.colab.kernel.accessAllowed ? 'block' : 'none';\n",
              "    })();\n",
              "  </script>\n",
              "</div>\n",
              "    </div>\n",
              "  </div>\n"
            ]
          },
          "metadata": {},
          "execution_count": 236
        }
      ]
    },
    {
      "cell_type": "code",
      "source": [
        "gg.index = ['Accuracy','Precision','Recall','F1']\n",
        "gg.to_csv(f'{p}__performance.csv')"
      ],
      "metadata": {
        "id": "F1R4zphVNsRF"
      },
      "execution_count": 237,
      "outputs": []
    },
    {
      "cell_type": "code",
      "source": [
        "gg.plot(kind='bar')\n",
        "plt.xticks(rotation=0)\n",
        "plt.ylim(0.97,1)\n",
        "plt.hlines(0.977119,2.5,4,color='red',label='base F1=0.977119')\n",
        "plt.legend()\n",
        "plt.savefig(f'{p}__performance.png',bbox_inches='tight')"
      ],
      "metadata": {
        "colab": {
          "base_uri": "https://localhost:8080/",
          "height": 440
        },
        "id": "vpc_K9YIOH53",
        "outputId": "0ae80756-18da-4fc6-9430-37372fcc064b"
      },
      "execution_count": 263,
      "outputs": [
        {
          "output_type": "display_data",
          "data": {
            "text/plain": [
              "<Figure size 640x480 with 1 Axes>"
            ],
            "image/png": "[encoded data removed]"
          },
          "metadata": {}
        }
      ]
    },
    {
      "cell_type": "code",
      "source": [
        "max_depth = solution[0]\n",
        "learning_rate = solution[1]\n",
        "max_iter = solution[2]\n",
        "l2_regularization = solution[3]\n",
        "clf = HistGradientBoostingClassifier(max_depth=int(max_depth),\n",
        "                learning_rate=learning_rate,\n",
        "                                        max_iter=int(max_iter),\n",
        "                                        l2_regularization = l2_regularization,\n",
        "                                        random_state=0)\n",
        "# Fit the model\n",
        "clf.fit(X, Y)\n",
        "# Make the predictions\n",
        "y_ = clf.predict(x)\n",
        "# cm = confusion_matrix(y,y_)\n",
        "# km = cm[0][1]+cm[1][0]\n",
        "gg[model] = [accuracy_score(y,y_),precision_score(y,y_,average='macro'),recall_score(y,y_,average='macro'),f1_score(y,y_,average='macro')]\n"
      ],
      "metadata": {
        "id": "3EBmIyitMeLL"
      },
      "execution_count": null,
      "outputs": []
    },
    {
      "cell_type": "code",
      "source": [
        "gg[name] = [accuracy_score(y,y_),precision_score(y,y_,average='macro'),recall_score(y,y_,average='macro'),f1_score(y,y_,average='macro')]\n",
        "gg\n",
        "gg.index = ['Accuracy','Precision','Recall','F1']\n",
        "gg.to_csv(f'{path}performance.csv')"
      ],
      "metadata": {
        "id": "lr2yTyyZMqWO"
      },
      "execution_count": null,
      "outputs": []
    }
  ],
  "metadata": {
    "colab": {
      "collapsed_sections": [
        "SF-YWeGBU-0G"
      ],
      "provenance": [],
      "mount_file_id": "13cWjhWBqmcc0glNyba-gsItwAL9MeKiU",
      "authorship_tag": "ABX9TyM4hCdSs1puAlNyBOO2alSO",
      "include_colab_link": true
    },
    "kernelspec": {
      "display_name": "Python 3",
      "name": "python3"
    },
    "language_info": {
      "name": "python"
    }
  },
  "nbformat": 4,
  "nbformat_minor": 0
}