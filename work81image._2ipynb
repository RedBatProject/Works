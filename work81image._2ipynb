{
  "nbformat": 4,
  "nbformat_minor": 0,
  "metadata": {
    "colab": {
      "provenance": [],
      "gpuType": "T4",
      "mount_file_id": "https://github.com/RedBatProject/Works/blob/main/work81image.ipynb",
      "authorship_tag": "ABX9TyOYGXKPdKRPs+NqqU8/tcmA",
      "include_colab_link": true
    },
    "kernelspec": {
      "name": "python3",
      "display_name": "Python 3"
    },
    "language_info": {
      "name": "python"
    },
    "accelerator": "GPU"
  },
  "cells": [
    {
      "cell_type": "markdown",
      "metadata": {
        "id": "view-in-github",
        "colab_type": "text"
      },
      "source": [
        "<a href=\"https://colab.research.google.com/github/RedBatProject/Works/blob/main/work81image._2ipynb\" target=\"_parent\"><img src=\"https://colab.research.google.com/assets/colab-badge.svg\" alt=\"Open In Colab\"/></a>"
      ]
    },
    {
      "cell_type": "code",
      "source": [
        "!pip install -q kaggle\n",
        "!mkdir ~/.kaggle\n",
        "! cp /content/drive/MyDrive/kaggle.json ~/.kaggle/\n",
        "! chmod 600 ~/.kaggle/kaggle.json\n"
      ],
      "metadata": {
        "id": "TnPBPFyEJNW8"
      },
      "execution_count": null,
      "outputs": []
    },
    {
      "cell_type": "code",
      "execution_count": null,
      "metadata": {
        "colab": {
          "base_uri": "https://localhost:8080/"
        },
        "id": "lTBWK95qI4Z5",
        "outputId": "635e6ae8-f897-4162-89b2-a4846c289381"
      },
      "outputs": [
        {
          "output_type": "stream",
          "name": "stdout",
          "text": [
            "Downloading cassava-disease.zip to /content\n",
            "100% 2.30G/2.30G [02:25<00:00, 22.4MB/s]\n",
            "100% 2.30G/2.30G [02:25<00:00, 17.0MB/s]\n"
          ]
        }
      ],
      "source": [
        "!kaggle competitions download -c cassava-disease"
      ]
    },
    {
      "cell_type": "code",
      "source": [
        "# !mv /content/cassava-disease.zip /content/drive/MyDrive/work81image/"
      ],
      "metadata": {
        "id": "OkBhYCDxJdwH"
      },
      "execution_count": null,
      "outputs": []
    },
    {
      "cell_type": "code",
      "source": [
        "!unzip /content/drive/MyDrive/work81image/cassava-disease.zip"
      ],
      "metadata": {
        "colab": {
          "base_uri": "https://localhost:8080/"
        },
        "id": "5DVHpSvuLAbH",
        "outputId": "f0c55412-5f90-4082-bebf-8dc1c054df70"
      },
      "execution_count": 1,
      "outputs": [
        {
          "output_type": "stream",
          "name": "stdout",
          "text": [
            "Archive:  /content/drive/MyDrive/work81image/cassava-disease.zip\n",
            "  inflating: extraimages.zip         \n",
            "  inflating: random.txt              \n",
            "  inflating: sample_submission_file.csv  \n",
            "  inflating: test.zip                \n",
            "  inflating: train.zip               \n"
          ]
        }
      ]
    },
    {
      "cell_type": "code",
      "source": [],
      "metadata": {
        "id": "CHh2rOs_LYnm"
      },
      "execution_count": null,
      "outputs": []
    },
    {
      "cell_type": "code",
      "source": [
        "!unzip /content/train.zip\n",
        "# !unzip /content/test.zip"
      ],
      "metadata": {
        "collapsed": true,
        "id": "XioJqAWCLPh1"
      },
      "execution_count": null,
      "outputs": []
    },
    {
      "cell_type": "code",
      "source": [
        "import os\n",
        "import pandas as pd\n",
        "import tensorflow as tf\n",
        "from tensorflow.keras.optimizers import RMSprop\n",
        "from tensorflow.keras.preprocessing.image import ImageDataGenerator\n",
        "train_path = '/content/train/'   # cmd, healthy, cgm, cbsd, cbb 2658+316+773+1443+466 == 6122\n",
        "# test_path = '/content/test/0'\n",
        "print(len(os.listdir(train_path)))\n",
        "# print(len(os.listdir(test_path)))"
      ],
      "metadata": {
        "colab": {
          "base_uri": "https://localhost:8080/"
        },
        "id": "GEyhGO6oLcF-",
        "outputId": "be2fb314-343a-4a0e-fd00-ba3f44beb55b"
      },
      "execution_count": 3,
      "outputs": [
        {
          "output_type": "stream",
          "name": "stdout",
          "text": [
            "5\n"
          ]
        }
      ]
    },
    {
      "cell_type": "code",
      "source": [
        "split_size = 4897 #80-20\n",
        "BATCH_SIZE = 70\n",
        "train_dir = train_path\n",
        "train_datagen = ImageDataGenerator(\n",
        "    rescale = 1.0/255.0,\n",
        "    rotation_range = 40,\n",
        "    width_shift_range = 0.2,\n",
        "    height_shift_range = 0.2,\n",
        "    shear_range = 0.2,\n",
        "    zoom_range = 0.2,\n",
        "    horizontal_flip = True,\n",
        "    fill_mode = 'nearest',\n",
        "    validation_split = 0.25\n",
        ")\n",
        "\n",
        "validation_datagen = ImageDataGenerator(\n",
        "    rescale = 1.0/255.0,\n",
        "    rotation_range = 40,\n",
        "    width_shift_range = 0.2,\n",
        "    height_shift_range = 0.2,\n",
        "    shear_range = 0.2,\n",
        "    zoom_range = 0.2,\n",
        "    horizontal_flip = True,\n",
        "    fill_mode = 'nearest'\n",
        ")"
      ],
      "metadata": {
        "id": "pTmJulhLLn23"
      },
      "execution_count": 82,
      "outputs": []
    },
    {
      "cell_type": "code",
      "source": [
        "train_generator = train_datagen.flow_from_directory(\n",
        "    train_dir,\n",
        "    batch_size = BATCH_SIZE,\n",
        "    class_mode = 'sparse',\n",
        "    target_size = (150,150),\n",
        "    shuffle = True,\n",
        "    subset = 'training'\n",
        ")\n",
        "\n",
        "validation_generator = train_datagen.flow_from_directory(\n",
        "    train_dir,\n",
        "    batch_size = BATCH_SIZE,\n",
        "    class_mode = 'sparse',\n",
        "    target_size = (150,150),\n",
        "    shuffle = True,\n",
        "    subset = 'validation'\n",
        ")"
      ],
      "metadata": {
        "colab": {
          "base_uri": "https://localhost:8080/"
        },
        "id": "YJ2bpRI6Lsll",
        "outputId": "bec915bd-78eb-43ce-bedd-714f4ee2c5ee"
      },
      "execution_count": 83,
      "outputs": [
        {
          "output_type": "stream",
          "name": "stdout",
          "text": [
            "Found 4244 images belonging to 5 classes.\n",
            "Found 1412 images belonging to 5 classes.\n"
          ]
        }
      ]
    },
    {
      "cell_type": "code",
      "source": [
        "model = tf.keras.Sequential([\n",
        "    tf.keras.layers.Conv2D(64, (3,3), activation='relu', input_shape = (150, 150, 3)),\n",
        "    tf.keras.layers.MaxPooling2D(2,2),\n",
        "    # tf.keras.layers.Conv2D(32, (3,3), activation='relu'),\n",
        "    # tf.keras.layers.MaxPooling2D(2,2),\n",
        "    tf.keras.layers.Conv2D(16, (3,3), activation='relu'),\n",
        "    tf.keras.layers.MaxPooling2D(2,2),\n",
        "    tf.keras.layers.Flatten(),\n",
        "    # tf.keras.layers.Dense(256, activation='relu'),\n",
        "    tf.keras.layers.Dense(128, activation='relu'),\n",
        "    tf.keras.layers.Dense(5, activation='softmax')\n",
        "])\n",
        "\n",
        "model.compile(optimizer=RMSprop(lr=0.001), loss='sparse_categorical_crossentropy', metrics=['accuracy'])"
      ],
      "metadata": {
        "colab": {
          "base_uri": "https://localhost:8080/"
        },
        "id": "cRZZVEjOL01K",
        "outputId": "a1cab64f-3446-4e57-ff5a-35823799a687"
      },
      "execution_count": 90,
      "outputs": [
        {
          "output_type": "stream",
          "name": "stderr",
          "text": [
            "WARNING:absl:`lr` is deprecated in Keras optimizer, please use `learning_rate` or use the legacy optimizer, e.g.,tf.keras.optimizers.legacy.RMSprop.\n"
          ]
        }
      ]
    },
    {
      "cell_type": "code",
      "source": [
        "model.summary()"
      ],
      "metadata": {
        "colab": {
          "base_uri": "https://localhost:8080/"
        },
        "id": "YwOOAbD9L3Zf",
        "outputId": "7c32c36d-9580-414d-c06c-87195798bfe9"
      },
      "execution_count": 91,
      "outputs": [
        {
          "output_type": "stream",
          "name": "stdout",
          "text": [
            "Model: \"sequential_5\"\n",
            "_________________________________________________________________\n",
            " Layer (type)                Output Shape              Param #   \n",
            "=================================================================\n",
            " conv2d_8 (Conv2D)           (None, 148, 148, 64)      1792      \n",
            "                                                                 \n",
            " max_pooling2d_8 (MaxPoolin  (None, 74, 74, 64)        0         \n",
            " g2D)                                                            \n",
            "                                                                 \n",
            " conv2d_9 (Conv2D)           (None, 72, 72, 16)        9232      \n",
            "                                                                 \n",
            " max_pooling2d_9 (MaxPoolin  (None, 36, 36, 16)        0         \n",
            " g2D)                                                            \n",
            "                                                                 \n",
            " flatten_3 (Flatten)         (None, 20736)             0         \n",
            "                                                                 \n",
            " dense_13 (Dense)            (None, 128)               2654336   \n",
            "                                                                 \n",
            " dense_14 (Dense)            (None, 5)                 645       \n",
            "                                                                 \n",
            "=================================================================\n",
            "Total params: 2666005 (10.17 MB)\n",
            "Trainable params: 2666005 (10.17 MB)\n",
            "Non-trainable params: 0 (0.00 Byte)\n",
            "_________________________________________________________________\n"
          ]
        }
      ]
    },
    {
      "cell_type": "code",
      "source": [
        "history = model.fit_generator(train_generator,\n",
        "                             epochs=30,\n",
        "                             verbose=1,\n",
        "                             validation_data=validation_generator) #vadidation_generator"
      ],
      "metadata": {
        "colab": {
          "base_uri": "https://localhost:8080/"
        },
        "id": "ggmziF49L6Fs",
        "outputId": "6c0bc84b-0ba7-4b89-b187-8cd3fc53576e"
      },
      "execution_count": 92,
      "outputs": [
        {
          "metadata": {
            "tags": null
          },
          "name": "stderr",
          "output_type": "stream",
          "text": [
            "<ipython-input-92-6d79790d1226>:1: UserWarning: `Model.fit_generator` is deprecated and will be removed in a future version. Please use `Model.fit`, which supports generators.\n",
            "  history = model.fit_generator(train_generator,\n"
          ]
        },
        {
          "output_type": "stream",
          "name": "stdout",
          "text": [
            "Epoch 1/30\n",
            "61/61 [==============================] - 53s 824ms/step - loss: 1.6049 - accuracy: 0.4093 - val_loss: 1.3333 - val_accuracy: 0.4703\n",
            "Epoch 2/30\n",
            "61/61 [==============================] - 52s 850ms/step - loss: 1.3659 - accuracy: 0.4649 - val_loss: 1.2425 - val_accuracy: 0.4958\n",
            "Epoch 3/30\n",
            "61/61 [==============================] - 50s 831ms/step - loss: 1.3053 - accuracy: 0.4929 - val_loss: 1.2512 - val_accuracy: 0.5489\n",
            "Epoch 4/30\n",
            "61/61 [==============================] - 48s 789ms/step - loss: 1.2634 - accuracy: 0.5134 - val_loss: 1.1954 - val_accuracy: 0.5559\n",
            "Epoch 5/30\n",
            "61/61 [==============================] - 51s 843ms/step - loss: 1.2352 - accuracy: 0.5344 - val_loss: 1.4006 - val_accuracy: 0.4455\n",
            "Epoch 6/30\n",
            "61/61 [==============================] - 49s 793ms/step - loss: 1.2113 - accuracy: 0.5386 - val_loss: 1.1335 - val_accuracy: 0.5659\n",
            "Epoch 7/30\n",
            "61/61 [==============================] - 47s 781ms/step - loss: 1.2013 - accuracy: 0.5537 - val_loss: 1.1468 - val_accuracy: 0.5687\n",
            "Epoch 8/30\n",
            "61/61 [==============================] - 49s 809ms/step - loss: 1.1770 - accuracy: 0.5610 - val_loss: 1.0969 - val_accuracy: 0.5864\n",
            "Epoch 9/30\n",
            "61/61 [==============================] - 59s 977ms/step - loss: 1.1649 - accuracy: 0.5650 - val_loss: 1.2625 - val_accuracy: 0.4865\n",
            "Epoch 10/30\n",
            "61/61 [==============================] - 49s 803ms/step - loss: 1.1485 - accuracy: 0.5738 - val_loss: 1.0943 - val_accuracy: 0.5914\n",
            "Epoch 11/30\n",
            "61/61 [==============================] - 50s 813ms/step - loss: 1.1300 - accuracy: 0.5808 - val_loss: 1.1103 - val_accuracy: 0.5885\n",
            "Epoch 12/30\n",
            "61/61 [==============================] - 47s 777ms/step - loss: 1.1095 - accuracy: 0.5957 - val_loss: 1.1442 - val_accuracy: 0.5729\n",
            "Epoch 13/30\n",
            "61/61 [==============================] - 53s 867ms/step - loss: 1.1133 - accuracy: 0.5884 - val_loss: 1.2004 - val_accuracy: 0.5588\n",
            "Epoch 14/30\n",
            "61/61 [==============================] - 48s 796ms/step - loss: 1.1111 - accuracy: 0.5921 - val_loss: 1.0675 - val_accuracy: 0.6119\n",
            "Epoch 15/30\n",
            "61/61 [==============================] - 49s 814ms/step - loss: 1.0958 - accuracy: 0.5952 - val_loss: 1.0604 - val_accuracy: 0.6048\n",
            "Epoch 16/30\n",
            "61/61 [==============================] - 50s 820ms/step - loss: 1.0986 - accuracy: 0.5966 - val_loss: 1.1587 - val_accuracy: 0.5765\n",
            "Epoch 17/30\n",
            "61/61 [==============================] - 50s 821ms/step - loss: 1.0707 - accuracy: 0.6103 - val_loss: 1.0581 - val_accuracy: 0.6161\n",
            "Epoch 18/30\n",
            "61/61 [==============================] - 50s 821ms/step - loss: 1.0766 - accuracy: 0.6013 - val_loss: 1.0561 - val_accuracy: 0.6161\n",
            "Epoch 19/30\n",
            "61/61 [==============================] - 48s 795ms/step - loss: 1.0731 - accuracy: 0.6093 - val_loss: 1.0521 - val_accuracy: 0.6147\n",
            "Epoch 20/30\n",
            "61/61 [==============================] - 52s 853ms/step - loss: 1.0591 - accuracy: 0.6037 - val_loss: 1.0578 - val_accuracy: 0.6112\n",
            "Epoch 21/30\n",
            "61/61 [==============================] - 48s 785ms/step - loss: 1.0420 - accuracy: 0.6143 - val_loss: 1.1320 - val_accuracy: 0.5581\n",
            "Epoch 22/30\n",
            "61/61 [==============================] - 49s 806ms/step - loss: 1.0538 - accuracy: 0.6084 - val_loss: 1.0237 - val_accuracy: 0.6154\n",
            "Epoch 23/30\n",
            "61/61 [==============================] - 49s 810ms/step - loss: 1.0472 - accuracy: 0.6096 - val_loss: 1.0727 - val_accuracy: 0.5850\n",
            "Epoch 24/30\n",
            "61/61 [==============================] - 50s 817ms/step - loss: 1.0219 - accuracy: 0.6235 - val_loss: 1.0238 - val_accuracy: 0.6324\n",
            "Epoch 25/30\n",
            "61/61 [==============================] - 51s 833ms/step - loss: 1.0196 - accuracy: 0.6195 - val_loss: 1.0079 - val_accuracy: 0.6310\n",
            "Epoch 26/30\n",
            "61/61 [==============================] - 49s 805ms/step - loss: 1.0140 - accuracy: 0.6221 - val_loss: 1.0548 - val_accuracy: 0.6161\n",
            "Epoch 27/30\n",
            "61/61 [==============================] - 50s 818ms/step - loss: 1.0138 - accuracy: 0.6232 - val_loss: 1.0013 - val_accuracy: 0.6346\n",
            "Epoch 28/30\n",
            "61/61 [==============================] - 49s 808ms/step - loss: 0.9990 - accuracy: 0.6279 - val_loss: 1.0109 - val_accuracy: 0.6303\n",
            "Epoch 29/30\n",
            "61/61 [==============================] - 48s 786ms/step - loss: 1.0043 - accuracy: 0.6301 - val_loss: 1.0231 - val_accuracy: 0.6246\n",
            "Epoch 30/30\n",
            "61/61 [==============================] - 51s 841ms/step - loss: 0.9890 - accuracy: 0.6341 - val_loss: 1.0089 - val_accuracy: 0.6282\n"
          ]
        }
      ]
    },
    {
      "cell_type": "code",
      "source": [
        "s1 = model.predict(validation_generator)"
      ],
      "metadata": {
        "colab": {
          "base_uri": "https://localhost:8080/"
        },
        "id": "pKCCBpK9mK7h",
        "outputId": "e430d2ee-4a56-4053-be7b-c2fc40330182"
      },
      "execution_count": 93,
      "outputs": [
        {
          "output_type": "stream",
          "name": "stdout",
          "text": [
            "21/21 [==============================] - 11s 536ms/step\n"
          ]
        }
      ]
    },
    {
      "cell_type": "code",
      "source": [
        "data_list = []\n",
        "batch_index = 0\n",
        "\n",
        "while batch_index <= validation_generator.batch_index:\n",
        "    data = validation_generator.next()\n",
        "    data_list.append(list(data[1]))\n",
        "    batch_index = batch_index + 1"
      ],
      "metadata": {
        "id": "CH00jHTjow9J"
      },
      "execution_count": 94,
      "outputs": []
    },
    {
      "cell_type": "code",
      "source": [
        "p = pd.DataFrame()\n",
        "p['label'] = np.concatenate(data_list)\n",
        "for i in range(s1.shape[1]):\n",
        "    p[f'pr_{i}'] = s1.T[i]"
      ],
      "metadata": {
        "id": "631gDkempNI-"
      },
      "execution_count": 95,
      "outputs": []
    },
    {
      "cell_type": "code",
      "source": [
        "p.to_csv(f'{path}_modelCNN3res.csv',index=False)"
      ],
      "metadata": {
        "id": "F853WjI7p7xC"
      },
      "execution_count": 67,
      "outputs": []
    },
    {
      "cell_type": "code",
      "source": [
        "import numpy as np"
      ],
      "metadata": {
        "id": "oVQKZ2pzmeGV"
      },
      "execution_count": 25,
      "outputs": []
    },
    {
      "cell_type": "code",
      "source": [
        "path = '/content/drive/MyDrive/work81image/res/'"
      ],
      "metadata": {
        "id": "9dNzDXTXlcQP"
      },
      "execution_count": 12,
      "outputs": []
    },
    {
      "cell_type": "code",
      "source": [
        "import matplotlib.pyplot as plt\n",
        "acc = history.history['accuracy']\n",
        "val_acc = history.history['val_accuracy']\n",
        "loss = history.history['loss']\n",
        "val_loss = history.history['val_loss']\n",
        "\n",
        "epochs = range(len(acc))\n",
        "\n",
        "plt.plot(epochs, acc, 'r', label='Training Accuracy')\n",
        "plt.plot(epochs, val_acc, 'b', label='Validation Accuracy')\n",
        "plt.title('Training and Validation Accuracy')\n",
        "plt.legend()\n",
        "plt.figure()\n",
        "plt.savefig(f'{path}trvlacc_3CNN2Dence.png',bbox_inches='tight')\n",
        "plt.show()\n",
        "plt.plot(epochs, loss, 'r', label = 'Training Loss')\n",
        "plt.plot(epochs, val_loss, 'b', label = 'Validation Loss')\n",
        "plt.title('Training and Validation Loss')\n",
        "plt.legend()\n",
        "plt.figure()\n",
        "plt.savefig(f'{path}trvlacc3CNN2Dence.png',bbox_inches='tight')\n",
        "plt.show()"
      ],
      "metadata": {
        "colab": {
          "base_uri": "https://localhost:8080/",
          "height": 923
        },
        "id": "fAiEJQcbMBrl",
        "outputId": "5ac867fc-0917-4bba-c719-214ae841d09b"
      },
      "execution_count": 14,
      "outputs": [
        {
          "output_type": "display_data",
          "data": {
            "text/plain": [
              "<Figure size 640x480 with 1 Axes>"
            ],
            "image/png": "[encoded data removed]"
          },
          "metadata": {}
        },
        {
          "output_type": "display_data",
          "data": {
            "text/plain": [
              "<Figure size 640x480 with 0 Axes>"
            ]
          },
          "metadata": {}
        },
        {
          "output_type": "display_data",
          "data": {
            "text/plain": [
              "<Figure size 640x480 with 1 Axes>"
            ],
            "image/png": "[encoded data removed]"
          },
          "metadata": {}
        },
        {
          "output_type": "display_data",
          "data": {
            "text/plain": [
              "<Figure size 640x480 with 0 Axes>"
            ]
          },
          "metadata": {}
        }
      ]
    },
    {
      "cell_type": "code",
      "source": [
        "#get data\n",
        "train_paths=[]\n",
        "train_labels=[]\n",
        "for root,dir,files in os.walk(\"/content/train\"):\n",
        "    for file in files:\n",
        "        train_paths.append(os.path.join(root,file))\n",
        "        train_labels.append(root.split(\"/\")[-1])\n",
        "\n",
        "# test_paths=[]\n",
        "# for root,dir,files in os.walk(\"../input/test\"):\n",
        "#     for file in files:\n",
        "#         test_paths.append(os.path.join(root,file))\n",
        "\n",
        "print(train_paths[:5])\n",
        "# print(test_paths[:5])"
      ],
      "metadata": {
        "id": "rO4DKBPUMYFN"
      },
      "execution_count": null,
      "outputs": []
    },
    {
      "cell_type": "code",
      "source": [
        "#function to preprocess images and labels\n",
        "def preprocess_image(image,image_shape=[192,192]):\n",
        "  image = tf.image.decode_jpeg(image, channels=3)\n",
        "  image = tf.image.resize(image, image_shape)\n",
        "  image /= 255.0  # normalize to [0,1] range\n",
        "  return image\n",
        "\n",
        "\n",
        "def load_and_preprocess_image(file,image_shape):\n",
        "    image = tf.io.read_file(file)\n",
        "    return preprocess_image(image,image_shape)\n",
        "\n",
        "labs2index={'cbb':0, 'cbsd':1, 'cgm':2, 'cmd':3, 'healthy':4}\n",
        "index2labs={0:'cbb', 1:'cbsd', 2:'cgm', 3:'cmd', 4:'healthy'}\n",
        "def process_labels(lab):\n",
        "    print(lab)\n",
        "    return tf.one_hot(lab,depth=len(labs2index))"
      ],
      "metadata": {
        "id": "gOkyF2WeMhT8"
      },
      "execution_count": null,
      "outputs": []
    },
    {
      "cell_type": "code",
      "source": [
        "#create tensorflow data objects\n",
        "train_ds = tf.data.Dataset.from_tensor_slices(train_paths)\n",
        "# test_ds=tf.data.Dataset.from_tensor_slices(test_paths)\n",
        "train_image_ds = train_ds.map(lambda x:load_and_preprocess_image(x,image_shape=[192,192]),num_parallel_calls=AUTOTUNE)\n",
        "# test_image_ds=test_ds.map(lambda x:load_and_preprocess_image(x,image_shape=[192,192]),num_parallel_calls=AUTOTUNE)\n",
        "\n",
        "train_label_ds=tf.data.Dataset.from_tensor_slices([labs2index[i] for i in train_labels]).map(process_labels,num_parallel_calls=AUTOTUNE)\n",
        "image_label_ds=tf.data.Dataset.zip((train_image_ds,train_label_ds))\n",
        "\n",
        "BATCH_SIZE = 32\n",
        "\n",
        "# Setting a shuffle buffer size as large as the dataset ensures that the data is\n",
        "# completely shuffled.\n",
        "ds = image_label_ds.shuffle(buffer_size=len(train_paths))\n",
        "ds = ds.repeat()\n",
        "ds = ds.batch(BATCH_SIZE)\n",
        "# `prefetch` lets the dataset fetch batches, in the background while the model is training.\n",
        "ds = ds.prefetch(buffer_size=AUTOTUNE)\n",
        "\n",
        "# ds_test=test_image_ds.batch(BATCH_SIZE)\n",
        "print(ds)\n",
        "# print(test_ds)"
      ],
      "metadata": {
        "id": "PL0f5kDYMnHw"
      },
      "execution_count": null,
      "outputs": []
    },
    {
      "cell_type": "code",
      "source": [
        "train_generator = train_datagen.flow_from_directory(\n",
        "    train_dir,\n",
        "    batch_size = BATCH_SIZE,\n",
        "    class_mode = 'sparse',\n",
        "    target_size = (192, 192),\n",
        "    shuffle = True,\n",
        "    subset = 'training'\n",
        ")\n",
        "\n",
        "validation_generator = train_datagen.flow_from_directory(\n",
        "    train_dir,\n",
        "    batch_size = BATCH_SIZE,\n",
        "    class_mode = 'sparse',\n",
        "    target_size = (192, 192),\n",
        "    shuffle = True,\n",
        "    subset = 'validation'\n",
        ")"
      ],
      "metadata": {
        "colab": {
          "base_uri": "https://localhost:8080/"
        },
        "id": "n_af_1J7Oyqm",
        "outputId": "96cbd9cc-85ed-47b0-ace9-77bf5cff8ae8"
      },
      "execution_count": 68,
      "outputs": [
        {
          "output_type": "stream",
          "name": "stdout",
          "text": [
            "Found 4244 images belonging to 5 classes.\n",
            "Found 1412 images belonging to 5 classes.\n"
          ]
        }
      ]
    },
    {
      "cell_type": "code",
      "source": [
        "#use pretrained model\n",
        "mobile_net = tf.keras.applications.MobileNetV2(input_shape=(192, 192, 3), include_top=False)\n",
        "#mobile_net.trainable=False\n",
        "\n",
        "def change_range(image,label):\n",
        "  return 2*image-1, label\n",
        "\n",
        "# keras_ds = ds.map(change_range)\n",
        "# keras_ds = ds\n",
        "\n",
        "# keras_test=ds_test.map(lambda x:2*x-1)\n",
        "\n",
        "\n",
        "#image_batch, label_batch = next(iter(keras_ds))\n",
        "\n",
        "model = tf.keras.Sequential([\n",
        "    mobile_net,\n",
        "    tf.keras.layers.GlobalAveragePooling2D(),\n",
        "    # tf.keras.layers.Dense(256, activation='relu'),\n",
        "    tf.keras.layers.Dense(128, activation='relu'),\n",
        "    tf.keras.layers.Dense(5,activation=tf.nn.softmax)])\n",
        "\n",
        "model.compile(optimizer=RMSprop(lr=0.001), loss='sparse_categorical_crossentropy', metrics=['accuracy'])\n",
        "print(model.summary())"
      ],
      "metadata": {
        "colab": {
          "base_uri": "https://localhost:8080/"
        },
        "id": "x5_5bRhWMxYq",
        "outputId": "3c5e2d23-c8f2-4d55-c66f-b945fcfdc30c"
      },
      "execution_count": 73,
      "outputs": [
        {
          "output_type": "stream",
          "name": "stderr",
          "text": [
            "WARNING:absl:`lr` is deprecated in Keras optimizer, please use `learning_rate` or use the legacy optimizer, e.g.,tf.keras.optimizers.legacy.RMSprop.\n"
          ]
        },
        {
          "output_type": "stream",
          "name": "stdout",
          "text": [
            "Model: \"sequential_3\"\n",
            "_________________________________________________________________\n",
            " Layer (type)                Output Shape              Param #   \n",
            "=================================================================\n",
            " mobilenetv2_1.00_192 (Func  (None, 6, 6, 1280)        2257984   \n",
            " tional)                                                         \n",
            "                                                                 \n",
            " global_average_pooling2d_1  (None, 1280)              0         \n",
            "  (GlobalAveragePooling2D)                                       \n",
            "                                                                 \n",
            " dense_8 (Dense)             (None, 128)               163968    \n",
            "                                                                 \n",
            " dense_9 (Dense)             (None, 5)                 645       \n",
            "                                                                 \n",
            "=================================================================\n",
            "Total params: 2422597 (9.24 MB)\n",
            "Trainable params: 2388485 (9.11 MB)\n",
            "Non-trainable params: 34112 (133.25 KB)\n",
            "_________________________________________________________________\n",
            "None\n"
          ]
        }
      ]
    },
    {
      "cell_type": "code",
      "source": [
        "model.layers[0].trainable = False"
      ],
      "metadata": {
        "id": "2mHhoWwaRRXs"
      },
      "execution_count": 74,
      "outputs": []
    },
    {
      "cell_type": "code",
      "source": [
        "model.compile(optimizer=RMSprop(lr=0.001), loss='sparse_categorical_crossentropy', metrics=['accuracy'])\n",
        "print(model.summary())"
      ],
      "metadata": {
        "colab": {
          "base_uri": "https://localhost:8080/"
        },
        "id": "H9rKnkrzR1Rx",
        "outputId": "598e4822-cc62-4c4d-f64c-754cd7586b42"
      },
      "execution_count": 75,
      "outputs": [
        {
          "output_type": "stream",
          "name": "stderr",
          "text": [
            "WARNING:absl:`lr` is deprecated in Keras optimizer, please use `learning_rate` or use the legacy optimizer, e.g.,tf.keras.optimizers.legacy.RMSprop.\n"
          ]
        },
        {
          "output_type": "stream",
          "name": "stdout",
          "text": [
            "Model: \"sequential_3\"\n",
            "_________________________________________________________________\n",
            " Layer (type)                Output Shape              Param #   \n",
            "=================================================================\n",
            " mobilenetv2_1.00_192 (Func  (None, 6, 6, 1280)        2257984   \n",
            " tional)                                                         \n",
            "                                                                 \n",
            " global_average_pooling2d_1  (None, 1280)              0         \n",
            "  (GlobalAveragePooling2D)                                       \n",
            "                                                                 \n",
            " dense_8 (Dense)             (None, 128)               163968    \n",
            "                                                                 \n",
            " dense_9 (Dense)             (None, 5)                 645       \n",
            "                                                                 \n",
            "=================================================================\n",
            "Total params: 2422597 (9.24 MB)\n",
            "Trainable params: 164613 (643.02 KB)\n",
            "Non-trainable params: 2257984 (8.61 MB)\n",
            "_________________________________________________________________\n",
            "None\n"
          ]
        }
      ]
    },
    {
      "cell_type": "code",
      "source": [
        "history = model.fit_generator(train_generator,\n",
        "                             epochs=30,\n",
        "                             verbose=1,\n",
        "                             validation_data=validation_generator) #vadidation_generator"
      ],
      "metadata": {
        "colab": {
          "base_uri": "https://localhost:8080/"
        },
        "id": "Sa7jiFs1PXaK",
        "outputId": "d03a9ca5-ed21-4765-9cb5-c805a387bb04"
      },
      "execution_count": 76,
      "outputs": [
        {
          "output_type": "stream",
          "name": "stderr",
          "text": [
            "<ipython-input-76-6d79790d1226>:1: UserWarning: `Model.fit_generator` is deprecated and will be removed in a future version. Please use `Model.fit`, which supports generators.\n",
            "  history = model.fit_generator(train_generator,\n"
          ]
        },
        {
          "output_type": "stream",
          "name": "stdout",
          "text": [
            "Epoch 1/30\n",
            "61/61 [==============================] - 73s 1s/step - loss: 1.2398 - accuracy: 0.5540 - val_loss: 0.9254 - val_accuracy: 0.6508\n",
            "Epoch 2/30\n",
            "61/61 [==============================] - 66s 1s/step - loss: 0.9453 - accuracy: 0.6447 - val_loss: 0.8383 - val_accuracy: 0.6834\n",
            "Epoch 3/30\n",
            "61/61 [==============================] - 65s 1s/step - loss: 0.8747 - accuracy: 0.6730 - val_loss: 0.9012 - val_accuracy: 0.6813\n",
            "Epoch 4/30\n",
            "61/61 [==============================] - 68s 1s/step - loss: 0.8492 - accuracy: 0.6793 - val_loss: 0.8521 - val_accuracy: 0.6721\n",
            "Epoch 5/30\n",
            "61/61 [==============================] - 67s 1s/step - loss: 0.8144 - accuracy: 0.6892 - val_loss: 0.8707 - val_accuracy: 0.6933\n",
            "Epoch 6/30\n",
            "61/61 [==============================] - 68s 1s/step - loss: 0.7877 - accuracy: 0.7064 - val_loss: 0.8675 - val_accuracy: 0.6785\n",
            "Epoch 7/30\n",
            "61/61 [==============================] - 69s 1s/step - loss: 0.7795 - accuracy: 0.7050 - val_loss: 0.7621 - val_accuracy: 0.7061\n",
            "Epoch 8/30\n",
            "61/61 [==============================] - 69s 1s/step - loss: 0.7519 - accuracy: 0.7210 - val_loss: 0.7882 - val_accuracy: 0.7174\n",
            "Epoch 9/30\n",
            "61/61 [==============================] - 68s 1s/step - loss: 0.7406 - accuracy: 0.7229 - val_loss: 0.8283 - val_accuracy: 0.6806\n",
            "Epoch 10/30\n",
            "61/61 [==============================] - 67s 1s/step - loss: 0.7215 - accuracy: 0.7248 - val_loss: 0.7902 - val_accuracy: 0.7273\n",
            "Epoch 11/30\n",
            "61/61 [==============================] - 67s 1s/step - loss: 0.7230 - accuracy: 0.7250 - val_loss: 0.7514 - val_accuracy: 0.7302\n",
            "Epoch 12/30\n",
            "61/61 [==============================] - 66s 1s/step - loss: 0.7010 - accuracy: 0.7377 - val_loss: 0.7771 - val_accuracy: 0.7082\n",
            "Epoch 13/30\n",
            "61/61 [==============================] - 66s 1s/step - loss: 0.6857 - accuracy: 0.7451 - val_loss: 0.8615 - val_accuracy: 0.6948\n",
            "Epoch 14/30\n",
            "61/61 [==============================] - 66s 1s/step - loss: 0.7102 - accuracy: 0.7382 - val_loss: 0.8152 - val_accuracy: 0.6969\n",
            "Epoch 15/30\n",
            "61/61 [==============================] - 68s 1s/step - loss: 0.6732 - accuracy: 0.7502 - val_loss: 0.7724 - val_accuracy: 0.7188\n",
            "Epoch 16/30\n",
            "61/61 [==============================] - 67s 1s/step - loss: 0.6617 - accuracy: 0.7545 - val_loss: 0.7906 - val_accuracy: 0.7033\n",
            "Epoch 17/30\n",
            "61/61 [==============================] - 68s 1s/step - loss: 0.6628 - accuracy: 0.7509 - val_loss: 0.8154 - val_accuracy: 0.7047\n",
            "Epoch 18/30\n",
            "61/61 [==============================] - 67s 1s/step - loss: 0.6518 - accuracy: 0.7632 - val_loss: 0.7377 - val_accuracy: 0.7302\n",
            "Epoch 19/30\n",
            "61/61 [==============================] - 68s 1s/step - loss: 0.6300 - accuracy: 0.7665 - val_loss: 0.8636 - val_accuracy: 0.7153\n",
            "Epoch 20/30\n",
            "61/61 [==============================] - 67s 1s/step - loss: 0.6335 - accuracy: 0.7625 - val_loss: 0.8229 - val_accuracy: 0.6997\n",
            "Epoch 21/30\n",
            "61/61 [==============================] - 68s 1s/step - loss: 0.6184 - accuracy: 0.7750 - val_loss: 0.8716 - val_accuracy: 0.6997\n",
            "Epoch 22/30\n",
            "61/61 [==============================] - 67s 1s/step - loss: 0.6172 - accuracy: 0.7667 - val_loss: 0.8398 - val_accuracy: 0.6919\n",
            "Epoch 23/30\n",
            "61/61 [==============================] - 66s 1s/step - loss: 0.6013 - accuracy: 0.7684 - val_loss: 0.8693 - val_accuracy: 0.6870\n",
            "Epoch 24/30\n",
            "61/61 [==============================] - 66s 1s/step - loss: 0.6094 - accuracy: 0.7736 - val_loss: 0.8192 - val_accuracy: 0.7118\n",
            "Epoch 25/30\n",
            "61/61 [==============================] - 66s 1s/step - loss: 0.5948 - accuracy: 0.7762 - val_loss: 0.8682 - val_accuracy: 0.6742\n",
            "Epoch 26/30\n",
            "61/61 [==============================] - 66s 1s/step - loss: 0.6123 - accuracy: 0.7696 - val_loss: 0.7912 - val_accuracy: 0.7252\n",
            "Epoch 27/30\n",
            "61/61 [==============================] - 67s 1s/step - loss: 0.5983 - accuracy: 0.7717 - val_loss: 0.7935 - val_accuracy: 0.7160\n",
            "Epoch 28/30\n",
            "61/61 [==============================] - 65s 1s/step - loss: 0.5718 - accuracy: 0.7884 - val_loss: 0.8054 - val_accuracy: 0.7288\n",
            "Epoch 29/30\n",
            "61/61 [==============================] - 69s 1s/step - loss: 0.5816 - accuracy: 0.7865 - val_loss: 0.7939 - val_accuracy: 0.7181\n",
            "Epoch 30/30\n",
            "61/61 [==============================] - 67s 1s/step - loss: 0.5776 - accuracy: 0.7773 - val_loss: 0.7705 - val_accuracy: 0.7288\n"
          ]
        }
      ]
    },
    {
      "cell_type": "code",
      "source": [
        "# 59-11_69-17_-_-_-_"
      ],
      "metadata": {
        "id": "_fsvbcilqpoO"
      },
      "execution_count": 78,
      "outputs": []
    },
    {
      "cell_type": "code",
      "source": [
        "s1 = model.predict(validation_generator)"
      ],
      "metadata": {
        "outputId": "033fdd52-dbe5-44a0-90f4-fc44ddb009c2",
        "colab": {
          "base_uri": "https://localhost:8080/"
        },
        "id": "LFD4xaBsqccK"
      },
      "execution_count": 77,
      "outputs": [
        {
          "output_type": "stream",
          "name": "stdout",
          "text": [
            "21/21 [==============================] - 17s 778ms/step\n"
          ]
        }
      ]
    },
    {
      "cell_type": "code",
      "source": [
        "data_list = []\n",
        "batch_index = 0\n",
        "\n",
        "while batch_index <= validation_generator.batch_index:\n",
        "    data = validation_generator.next()\n",
        "    data_list.append(list(data[1]))\n",
        "    batch_index = batch_index + 1"
      ],
      "metadata": {
        "id": "h1NnHB-wqccK"
      },
      "execution_count": 79,
      "outputs": []
    },
    {
      "cell_type": "code",
      "source": [
        "p = pd.DataFrame()\n",
        "p['label'] = np.concatenate(data_list)\n",
        "for i in range(s1.shape[1]):\n",
        "    p[f'pr_{i}'] = s1.T[i]"
      ],
      "metadata": {
        "id": "pTAHtLerqccK"
      },
      "execution_count": 80,
      "outputs": []
    },
    {
      "cell_type": "code",
      "source": [
        "p.to_csv(f'{path}_MobileNetV2res.csv',index=False)"
      ],
      "metadata": {
        "id": "Q1qL2SGxqccK"
      },
      "execution_count": 81,
      "outputs": []
    },
    {
      "cell_type": "code",
      "source": [
        "#fit model for 50 epochs\n",
        "model.fit(keras_ds, epochs=50, steps_per_epoch=176)"
      ],
      "metadata": {
        "id": "oeq4mFQkM0Uy"
      },
      "execution_count": null,
      "outputs": []
    },
    {
      "cell_type": "code",
      "source": [
        "#make predictions\n",
        "test_predictions=model.predict(keras_test,steps=int(np.ceil(len(test_paths)/BATCH_SIZE)))\n",
        "predictions=np.argmax(test_predictions,axis=1)"
      ],
      "metadata": {
        "id": "aEMiCrPWM2il"
      },
      "execution_count": null,
      "outputs": []
    },
    {
      "cell_type": "code",
      "source": [
        "#make submission\n",
        "my_submission = pd.DataFrame({'Category':[index2labs[j] for j in predictions],'Id':[i.split(\"/\").pop() for i in test_paths]})\n",
        "# you could use any filename. We choose submission here\n",
        "my_submission.to_csv('submission.csv', index=False)\n",
        "print(my_submission.head())"
      ],
      "metadata": {
        "id": "ErKCgca6M32E"
      },
      "execution_count": null,
      "outputs": []
    },
    {
      "cell_type": "code",
      "source": [
        "# https://www.sciencedirect.com/science/article/pii/S1110866520301110\n",
        "# https://www.kaggle.com/c/cassava-disease/data"
      ],
      "metadata": {
        "id": "90AvkPQCPw5Z"
      },
      "execution_count": null,
      "outputs": []
    }
  ]
}