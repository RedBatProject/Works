{
  "cells": [
    {
      "cell_type": "markdown",
      "metadata": {
        "id": "view-in-github",
        "colab_type": "text"
      },
      "source": [
        "<a href=\"https://colab.research.google.com/github/RedBatProject/Works/blob/main/work_72_fitbitipynb_edited.ipynb\" target=\"_parent\"><img src=\"https://colab.research.google.com/assets/colab-badge.svg\" alt=\"Open In Colab\"/></a>"
      ]
    },
    {
      "cell_type": "code",
      "execution_count": 1,
      "metadata": {
        "colab": {
          "base_uri": "https://localhost:8080/"
        },
        "id": "MXZgw7hSru0r",
        "outputId": "aac21ee2-d833-4043-b28c-c90f70d9d078"
      },
      "outputs": [
        {
          "output_type": "stream",
          "name": "stdout",
          "text": [
            "Collecting mealpy\n",
            "  Downloading mealpy-3.0.1-py3-none-any.whl (386 kB)\n",
            "\u001b[2K     \u001b[90m━━━━━━━━━━━━━━━━━━━━━━━━━━━━━━━━━━━━━━━━\u001b[0m \u001b[32m386.3/386.3 kB\u001b[0m \u001b[31m2.5 MB/s\u001b[0m eta \u001b[36m0:00:00\u001b[0m\n",
            "\u001b[?25hRequirement already satisfied: numpy>=1.17.5 in /usr/local/lib/python3.10/dist-packages (from mealpy) (1.25.2)\n",
            "Requirement already satisfied: matplotlib>=3.3.0 in /usr/local/lib/python3.10/dist-packages (from mealpy) (3.7.1)\n",
            "Requirement already satisfied: scipy>=1.7.1 in /usr/local/lib/python3.10/dist-packages (from mealpy) (1.11.4)\n",
            "Requirement already satisfied: pandas>=1.2.0 in /usr/local/lib/python3.10/dist-packages (from mealpy) (2.0.3)\n",
            "Collecting opfunu>=1.0.0 (from mealpy)\n",
            "  Downloading opfunu-1.0.2-py3-none-any.whl (13.0 MB)\n",
            "\u001b[2K     \u001b[90m━━━━━━━━━━━━━━━━━━━━━━━━━━━━━━━━━━━━━━━━\u001b[0m \u001b[32m13.0/13.0 MB\u001b[0m \u001b[31m41.9 MB/s\u001b[0m eta \u001b[36m0:00:00\u001b[0m\n",
            "\u001b[?25hRequirement already satisfied: contourpy>=1.0.1 in /usr/local/lib/python3.10/dist-packages (from matplotlib>=3.3.0->mealpy) (1.2.1)\n",
            "Requirement already satisfied: cycler>=0.10 in /usr/local/lib/python3.10/dist-packages (from matplotlib>=3.3.0->mealpy) (0.12.1)\n",
            "Requirement already satisfied: fonttools>=4.22.0 in /usr/local/lib/python3.10/dist-packages (from matplotlib>=3.3.0->mealpy) (4.51.0)\n",
            "Requirement already satisfied: kiwisolver>=1.0.1 in /usr/local/lib/python3.10/dist-packages (from matplotlib>=3.3.0->mealpy) (1.4.5)\n",
            "Requirement already satisfied: packaging>=20.0 in /usr/local/lib/python3.10/dist-packages (from matplotlib>=3.3.0->mealpy) (24.0)\n",
            "Requirement already satisfied: pillow>=6.2.0 in /usr/local/lib/python3.10/dist-packages (from matplotlib>=3.3.0->mealpy) (9.4.0)\n",
            "Requirement already satisfied: pyparsing>=2.3.1 in /usr/local/lib/python3.10/dist-packages (from matplotlib>=3.3.0->mealpy) (3.1.2)\n",
            "Requirement already satisfied: python-dateutil>=2.7 in /usr/local/lib/python3.10/dist-packages (from matplotlib>=3.3.0->mealpy) (2.8.2)\n",
            "Requirement already satisfied: requests>=2.27.0 in /usr/local/lib/python3.10/dist-packages (from opfunu>=1.0.0->mealpy) (2.31.0)\n",
            "Requirement already satisfied: pytz>=2020.1 in /usr/local/lib/python3.10/dist-packages (from pandas>=1.2.0->mealpy) (2023.4)\n",
            "Requirement already satisfied: tzdata>=2022.1 in /usr/local/lib/python3.10/dist-packages (from pandas>=1.2.0->mealpy) (2024.1)\n",
            "Requirement already satisfied: six>=1.5 in /usr/local/lib/python3.10/dist-packages (from python-dateutil>=2.7->matplotlib>=3.3.0->mealpy) (1.16.0)\n",
            "Requirement already satisfied: charset-normalizer<4,>=2 in /usr/local/lib/python3.10/dist-packages (from requests>=2.27.0->opfunu>=1.0.0->mealpy) (3.3.2)\n",
            "Requirement already satisfied: idna<4,>=2.5 in /usr/local/lib/python3.10/dist-packages (from requests>=2.27.0->opfunu>=1.0.0->mealpy) (3.7)\n",
            "Requirement already satisfied: urllib3<3,>=1.21.1 in /usr/local/lib/python3.10/dist-packages (from requests>=2.27.0->opfunu>=1.0.0->mealpy) (2.0.7)\n",
            "Requirement already satisfied: certifi>=2017.4.17 in /usr/local/lib/python3.10/dist-packages (from requests>=2.27.0->opfunu>=1.0.0->mealpy) (2024.2.2)\n",
            "Installing collected packages: opfunu, mealpy\n",
            "Successfully installed mealpy-3.0.1 opfunu-1.0.2\n",
            "Collecting catboost\n",
            "  Downloading catboost-1.2.5-cp310-cp310-manylinux2014_x86_64.whl (98.2 MB)\n",
            "\u001b[2K     \u001b[90m━━━━━━━━━━━━━━━━━━━━━━━━━━━━━━━━━━━━━━━━\u001b[0m \u001b[32m98.2/98.2 MB\u001b[0m \u001b[31m8.3 MB/s\u001b[0m eta \u001b[36m0:00:00\u001b[0m\n",
            "\u001b[?25hRequirement already satisfied: graphviz in /usr/local/lib/python3.10/dist-packages (from catboost) (0.20.3)\n",
            "Requirement already satisfied: matplotlib in /usr/local/lib/python3.10/dist-packages (from catboost) (3.7.1)\n",
            "Requirement already satisfied: numpy>=1.16.0 in /usr/local/lib/python3.10/dist-packages (from catboost) (1.25.2)\n",
            "Requirement already satisfied: pandas>=0.24 in /usr/local/lib/python3.10/dist-packages (from catboost) (2.0.3)\n",
            "Requirement already satisfied: scipy in /usr/local/lib/python3.10/dist-packages (from catboost) (1.11.4)\n",
            "Requirement already satisfied: plotly in /usr/local/lib/python3.10/dist-packages (from catboost) (5.15.0)\n",
            "Requirement already satisfied: six in /usr/local/lib/python3.10/dist-packages (from catboost) (1.16.0)\n",
            "Requirement already satisfied: python-dateutil>=2.8.2 in /usr/local/lib/python3.10/dist-packages (from pandas>=0.24->catboost) (2.8.2)\n",
            "Requirement already satisfied: pytz>=2020.1 in /usr/local/lib/python3.10/dist-packages (from pandas>=0.24->catboost) (2023.4)\n",
            "Requirement already satisfied: tzdata>=2022.1 in /usr/local/lib/python3.10/dist-packages (from pandas>=0.24->catboost) (2024.1)\n",
            "Requirement already satisfied: contourpy>=1.0.1 in /usr/local/lib/python3.10/dist-packages (from matplotlib->catboost) (1.2.1)\n",
            "Requirement already satisfied: cycler>=0.10 in /usr/local/lib/python3.10/dist-packages (from matplotlib->catboost) (0.12.1)\n",
            "Requirement already satisfied: fonttools>=4.22.0 in /usr/local/lib/python3.10/dist-packages (from matplotlib->catboost) (4.51.0)\n",
            "Requirement already satisfied: kiwisolver>=1.0.1 in /usr/local/lib/python3.10/dist-packages (from matplotlib->catboost) (1.4.5)\n",
            "Requirement already satisfied: packaging>=20.0 in /usr/local/lib/python3.10/dist-packages (from matplotlib->catboost) (24.0)\n",
            "Requirement already satisfied: pillow>=6.2.0 in /usr/local/lib/python3.10/dist-packages (from matplotlib->catboost) (9.4.0)\n",
            "Requirement already satisfied: pyparsing>=2.3.1 in /usr/local/lib/python3.10/dist-packages (from matplotlib->catboost) (3.1.2)\n",
            "Requirement already satisfied: tenacity>=6.2.0 in /usr/local/lib/python3.10/dist-packages (from plotly->catboost) (8.2.3)\n",
            "Installing collected packages: catboost\n",
            "Successfully installed catboost-1.2.5\n",
            "WELLCOME TO IMPLEMENTATION\n"
          ]
        }
      ],
      "source": [
        "!pip install mealpy;\n",
        "import mealpy\n",
        "from mealpy.bio_based import BBO, EOA, IWO, SBO, SMA, TPO, VCS, WHO\n",
        "from mealpy.evolutionary_based import CRO, DE, EP, ES, FPA, GA, MA\n",
        "from mealpy.human_based import BRO, BSO, CA, CHIO, FBIO, GSKA, ICA, LCO, QSA, SARO, SSDO, TLO\n",
        "from mealpy.math_based import AOA, CGO, GBO, HC, SCA, PSS\n",
        "from mealpy.music_based import HS\n",
        "from mealpy.physics_based import ArchOA, ASO, EFO, EO, HGSO, MVO, NRO, SA, TWO, WDO\n",
        "# from mealpy.probabilistic_based import CEM\n",
        "from mealpy.system_based import AEO, GCO, WCA\n",
        "from mealpy.swarm_based import ABC, ACOR, ALO, AO, BA, BeesA, BES, BFO, BSA, COA, CSA, CSO, DO, EHO, FA, FFA, FOA, GOA, GWO, HGS\n",
        "from mealpy.swarm_based import HHO, JA, MFO, MRFO, MSA, NMRA, PFA, PSO, SFO, SHO, SLO, SRSR, SSA, SSO, SSpiderA, SSpiderO, WOA\n",
        "from sys import exit\n",
        "import numpy as np\n",
        "import tweepy\n",
        "import webbrowser\n",
        "import time\n",
        "import pandas as pd\n",
        "import datetime\n",
        "import threading\n",
        "import matplotlib.pyplot as plt\n",
        "import numpy as np\n",
        "import pandas as pd\n",
        "from sklearn.model_selection import cross_val_score\n",
        "# !pip install mealpy\n",
        "import mealpy\n",
        "# Load libraries\n",
        "# %tensorflow_version 2.x\n",
        "from __future__ import absolute_import, division, print_function, unicode_literals\n",
        "\n",
        "import numpy as np\n",
        "import pandas as pd\n",
        "import matplotlib.pyplot as plt\n",
        "from IPython.display import clear_output\n",
        "from six.moves import urllib\n",
        "\n",
        "# import tensorflow.compat.v2.feature_column as fc\n",
        "\n",
        "# import tensorflow as tf\n",
        "from pandas.plotting import scatter_matrix\n",
        "from sklearn import model_selection\n",
        "from sklearn.metrics import classification_report\n",
        "from sklearn.metrics import confusion_matrix\n",
        "import random as rn\n",
        "# from sklearn.metrics import confusion_matrix, plot_confusion_matrix, classification_report\n",
        "# create the models\n",
        "from sklearn.tree import DecisionTreeClassifier\n",
        "from sklearn.discriminant_analysis import LinearDiscriminantAnalysis\n",
        "from sklearn.metrics import accuracy_score\n",
        "from sklearn.metrics import precision_score\n",
        "from sklearn.metrics import recall_score\n",
        "from sklearn.metrics import f1_score\n",
        "# module imports\n",
        "import numpy as np\n",
        "import pandas as pd\n",
        "import matplotlib.pyplot as plt\n",
        "import seaborn as sns\n",
        "import itertools\n",
        "import random as rn\n",
        "\n",
        "# model imports\n",
        "from sklearn.cluster import KMeans #one with clusterimg (disaster)\n",
        "from sklearn.ensemble import RandomForestClassifier\n",
        "from sklearn.neighbors import KNeighborsClassifier\n",
        "from sklearn.linear_model import LogisticRegression\n",
        "from sklearn.tree import DecisionTreeClassifier\n",
        "from sklearn.multiclass import OneVsRestClassifier\n",
        "from sklearn.tree import DecisionTreeRegressor\n",
        "from sklearn.dummy import DummyClassifier #that zero\n",
        "from sklearn.svm import SVC, SVR\n",
        "from sklearn.naive_bayes import GaussianNB\n",
        "# from sklearn.ensemble import RandomForestClassifier\n",
        "# processing imports\n",
        "from sklearn.preprocessing import LabelEncoder\n",
        "from sklearn.model_selection import train_test_split\n",
        "from sklearn.model_selection import cross_val_score\n",
        "from sklearn.metrics import mean_absolute_error\n",
        "# from sklearn.metrics import accuracy_score\n",
        "# from sklearn.metrics import confusion_matrix\n",
        "from time import time\n",
        "from sklearn.model_selection import train_test_split\n",
        "from sklearn.naive_bayes import MultinomialNB\n",
        "# !pip install catboost\n",
        "from xgboost import XGBClassifier\n",
        "# from catboost import CatBoostClassifier\n",
        "from sklearn.linear_model import LogisticRegression\n",
        "from sklearn.ensemble import RandomForestClassifier\n",
        "from sklearn.svm import LinearSVC\n",
        "from sklearn import metrics\n",
        "# Sklearn modules & classes\n",
        "from sklearn.svm import SVC\n",
        "from sklearn.model_selection import train_test_split, GridSearchCV\n",
        "from sklearn.preprocessing import StandardScaler, LabelEncoder\n",
        "from sklearn import datasets, metrics\n",
        "from mealpy.bio_based import SMA\n",
        "import mealpy\n",
        "from sklearn.naive_bayes import GaussianNB\n",
        "import time\n",
        "from sklearn.model_selection import train_test_split\n",
        "from sklearn.naive_bayes import MultinomialNB\n",
        "!pip install catboost;\n",
        "from xgboost import XGBClassifier\n",
        "from catboost import CatBoostClassifier\n",
        "from sklearn.linear_model import LogisticRegression\n",
        "from sklearn.ensemble import RandomForestClassifier,ExtraTreesClassifier,GradientBoostingClassifier,HistGradientBoostingClassifier,AdaBoostClassifier\n",
        "from sklearn.svm import LinearSVC\n",
        "from sklearn import metrics\n",
        "# Sklearn modules & classes\n",
        "from sklearn.svm import SVC\n",
        "from sklearn.model_selection import train_test_split, GridSearchCV\n",
        "from sklearn.preprocessing import StandardScaler, LabelEncoder\n",
        "from sklearn import datasets, metrics\n",
        "from mealpy.bio_based import SMA\n",
        "from sklearn.naive_bayes import GaussianNB\n",
        "from sklearn.metrics import classification_report,confusion_matrix\n",
        "print(\"WELLCOME TO IMPLEMENTATION\")\n",
        "# create the models\n",
        "from sklearn.metrics import accuracy_score\n",
        "from sklearn.metrics import precision_score\n",
        "from sklearn.metrics import recall_score\n",
        "from sklearn.metrics import f1_score"
      ]
    },
    {
      "cell_type": "code",
      "source": [
        "from sklearn.model_selection import train_test_split"
      ],
      "metadata": {
        "id": "wHXIf9X3V4aj"
      },
      "execution_count": 3,
      "outputs": []
    },
    {
      "cell_type": "code",
      "source": [
        "from google.colab import drive\n",
        "drive.mount('/content/drive')"
      ],
      "metadata": {
        "colab": {
          "base_uri": "https://localhost:8080/"
        },
        "id": "WA3HqN36StKa",
        "outputId": "b8745835-cfe2-416f-d80d-a5216d1a20bc"
      },
      "execution_count": 4,
      "outputs": [
        {
          "output_type": "stream",
          "name": "stdout",
          "text": [
            "Mounted at /content/drive\n"
          ]
        }
      ]
    },
    {
      "cell_type": "markdown",
      "source": [
        "# Kaggle Data"
      ],
      "metadata": {
        "id": "waNvzZNTLgXy"
      }
    },
    {
      "cell_type": "code",
      "execution_count": 5,
      "metadata": {
        "id": "HXMDHRCmEvF1"
      },
      "outputs": [],
      "source": [
        "!mkdir ~/.kaggle\n",
        "! cp /content/drive/MyDrive/kaggle.json ~/.kaggle/\n",
        "! chmod 600 ~/.kaggle/kaggle.json\n",
        "\n"
      ]
    },
    {
      "cell_type": "code",
      "source": [
        "!kaggle datasets download -d aleespinosa/apple-watch-and-fitbit-data"
      ],
      "metadata": {
        "colab": {
          "base_uri": "https://localhost:8080/"
        },
        "id": "OPPq9-pWASfX",
        "outputId": "e11b0367-8804-4277-fe9a-eba8236c9e7e"
      },
      "execution_count": 6,
      "outputs": [
        {
          "output_type": "stream",
          "name": "stdout",
          "text": [
            "Downloading apple-watch-and-fitbit-data.zip to /content\n",
            "\r  0% 0.00/700k [00:00<?, ?B/s]\n",
            "\r100% 700k/700k [00:00<00:00, 25.8MB/s]\n"
          ]
        }
      ]
    },
    {
      "cell_type": "markdown",
      "source": [
        "# Load Data"
      ],
      "metadata": {
        "id": "dys89vMWLh4Q"
      }
    },
    {
      "cell_type": "code",
      "source": [
        "!unzip /content/apple-watch-and-fitbit-data.zip"
      ],
      "metadata": {
        "colab": {
          "base_uri": "https://localhost:8080/"
        },
        "id": "Uh0ou2U4LskW",
        "outputId": "fc03ad77-9764-430a-8afe-ab4562e586f2"
      },
      "execution_count": 8,
      "outputs": [
        {
          "output_type": "stream",
          "name": "stdout",
          "text": [
            "Archive:  /content/apple-watch-and-fitbit-data.zip\n",
            "  inflating: aw_fb_data.csv          \n",
            "  inflating: data_for_weka_aw.csv    \n",
            "  inflating: data_for_weka_fb.csv    \n"
          ]
        }
      ]
    },
    {
      "cell_type": "code",
      "execution_count": 9,
      "metadata": {
        "id": "zVxlvrOHE9yn"
      },
      "outputs": [],
      "source": [
        "data = pd.read_csv('/content/data_for_weka_fb.csv')"
      ]
    },
    {
      "cell_type": "code",
      "execution_count": 10,
      "metadata": {
        "colab": {
          "base_uri": "https://localhost:8080/",
          "height": 461
        },
        "id": "ETHfmhk6GFdm",
        "outputId": "63d93d3d-5746-4dec-e660-e1f9bfd48c34"
      },
      "outputs": [
        {
          "output_type": "execute_result",
          "data": {
            "text/plain": [
              "      Unnamed: 0  age  gender  height  weight  Fitbit.Steps_LE  \\\n",
              "0              1   20       1   168.0    65.4              1.0   \n",
              "1              2   20       1   168.0    65.4              1.0   \n",
              "2              3   20       1   168.0    65.4              1.0   \n",
              "3              4   20       1   168.0    65.4              1.0   \n",
              "4             11   20       1   168.0    65.4              1.0   \n",
              "...          ...  ...     ...     ...     ...              ...   \n",
              "2603        3666   46       0   157.5    71.4              1.0   \n",
              "2604        3667   46       0   157.5    71.4              1.0   \n",
              "2605        3668   46       0   157.5    71.4              1.0   \n",
              "2606        3669   46       0   157.5    71.4              1.0   \n",
              "2607        3670   46       0   157.5    71.4              1.0   \n",
              "\n",
              "      Fitbit.Heart_LE  Fitbit.Calories_LE  Fitbit.Distance_LE  \\\n",
              "0          132.000000                 1.0                 1.0   \n",
              "1          132.777778                 1.0                 1.0   \n",
              "2          129.888889                 1.0                 1.0   \n",
              "3          129.142857                 1.0                 1.0   \n",
              "4          134.555556                 3.5                 1.0   \n",
              "...               ...                 ...                 ...   \n",
              "2603        35.000000                20.5                 1.0   \n",
              "2604        35.000000                20.5                 1.0   \n",
              "2605        35.000000                20.5                 1.0   \n",
              "2606        35.000000                20.5                 1.0   \n",
              "2607        35.000000                20.5                 1.0   \n",
              "\n",
              "      EntropyFitbitHeartPerDay_LE  EntropyFitbitStepsPerDay_LE  \\\n",
              "0                        5.938588                     2.179799   \n",
              "1                        5.938588                     2.179799   \n",
              "2                        5.938588                     2.179799   \n",
              "3                        5.938588                     2.179799   \n",
              "4                        5.938588                     2.179799   \n",
              "...                           ...                          ...   \n",
              "2603                     0.000000                     0.000000   \n",
              "2604                     0.000000                     0.000000   \n",
              "2605                     0.000000                     0.000000   \n",
              "2606                     0.000000                     0.000000   \n",
              "2607                     0.000000                     0.000000   \n",
              "\n",
              "      RestingFitbitHeartrate_LE  CorrelationFitbitHeartrateSteps_LE  \\\n",
              "0                    130.428571                            1.000000   \n",
              "1                    130.428571                            1.000000   \n",
              "2                    130.428571                            1.000000   \n",
              "3                    130.428571                            1.000000   \n",
              "4                    130.428571                           -0.493589   \n",
              "...                         ...                                 ...   \n",
              "2603                  35.000000                            1.000000   \n",
              "2604                  35.000000                            1.000000   \n",
              "2605                  35.000000                            1.000000   \n",
              "2606                  35.000000                            1.000000   \n",
              "2607                  35.000000                            1.000000   \n",
              "\n",
              "      NormalizedFitbitHeartrate_LE  FitbitIntensity_LE  \\\n",
              "0                         1.571429            0.022587   \n",
              "1                         2.349206            0.033767   \n",
              "2                        -0.539683           -0.007757   \n",
              "3                        -1.285714           -0.018480   \n",
              "4                         4.126984            0.059320   \n",
              "...                            ...                 ...   \n",
              "2603                      0.000000            0.000000   \n",
              "2604                      0.000000            0.000000   \n",
              "2605                      0.000000            0.000000   \n",
              "2606                      0.000000            0.000000   \n",
              "2607                      0.000000            0.000000   \n",
              "\n",
              "      SDNormalizedFitbitHR_LE  FitbitStepsXDistance_LE activity_trimmed  \n",
              "0                    1.000000                      1.0            Lying  \n",
              "1                    1.000000                      1.0            Lying  \n",
              "2                    1.000000                      1.0            Lying  \n",
              "3                    1.000000                      1.0            Lying  \n",
              "4                    1.368007                      1.0   Self Pace walk  \n",
              "...                       ...                      ...              ...  \n",
              "2603                 0.000000                      1.0   Running 7 METs  \n",
              "2604                 1.000000                      1.0   Running 7 METs  \n",
              "2605                 1.000000                      1.0   Running 7 METs  \n",
              "2606                 1.000000                      1.0   Running 7 METs  \n",
              "2607                 1.000000                      1.0   Running 7 METs  \n",
              "\n",
              "[2608 rows x 18 columns]"
            ],
            "text/html": [
              "\n",
              "  <div id=\"df-104411dc-414d-43e3-add4-00e6e31765f7\" class=\"colab-df-container\">\n",
              "    <div>\n",
              "<style scoped>\n",
              "    .dataframe tbody tr th:only-of-type {\n",
              "        vertical-align: middle;\n",
              "    }\n",
              "\n",
              "    .dataframe tbody tr th {\n",
              "        vertical-align: top;\n",
              "    }\n",
              "\n",
              "    .dataframe thead th {\n",
              "        text-align: right;\n",
              "    }\n",
              "</style>\n",
              "<table border=\"1\" class=\"dataframe\">\n",
              "  <thead>\n",
              "    <tr style=\"text-align: right;\">\n",
              "      <th></th>\n",
              "      <th>Unnamed: 0</th>\n",
              "      <th>age</th>\n",
              "      <th>gender</th>\n",
              "      <th>height</th>\n",
              "      <th>weight</th>\n",
              "      <th>Fitbit.Steps_LE</th>\n",
              "      <th>Fitbit.Heart_LE</th>\n",
              "      <th>Fitbit.Calories_LE</th>\n",
              "      <th>Fitbit.Distance_LE</th>\n",
              "      <th>EntropyFitbitHeartPerDay_LE</th>\n",
              "      <th>EntropyFitbitStepsPerDay_LE</th>\n",
              "      <th>RestingFitbitHeartrate_LE</th>\n",
              "      <th>CorrelationFitbitHeartrateSteps_LE</th>\n",
              "      <th>NormalizedFitbitHeartrate_LE</th>\n",
              "      <th>FitbitIntensity_LE</th>\n",
              "      <th>SDNormalizedFitbitHR_LE</th>\n",
              "      <th>FitbitStepsXDistance_LE</th>\n",
              "      <th>activity_trimmed</th>\n",
              "    </tr>\n",
              "  </thead>\n",
              "  <tbody>\n",
              "    <tr>\n",
              "      <th>0</th>\n",
              "      <td>1</td>\n",
              "      <td>20</td>\n",
              "      <td>1</td>\n",
              "      <td>168.0</td>\n",
              "      <td>65.4</td>\n",
              "      <td>1.0</td>\n",
              "      <td>132.000000</td>\n",
              "      <td>1.0</td>\n",
              "      <td>1.0</td>\n",
              "      <td>5.938588</td>\n",
              "      <td>2.179799</td>\n",
              "      <td>130.428571</td>\n",
              "      <td>1.000000</td>\n",
              "      <td>1.571429</td>\n",
              "      <td>0.022587</td>\n",
              "      <td>1.000000</td>\n",
              "      <td>1.0</td>\n",
              "      <td>Lying</td>\n",
              "    </tr>\n",
              "    <tr>\n",
              "      <th>1</th>\n",
              "      <td>2</td>\n",
              "      <td>20</td>\n",
              "      <td>1</td>\n",
              "      <td>168.0</td>\n",
              "      <td>65.4</td>\n",
              "      <td>1.0</td>\n",
              "      <td>132.777778</td>\n",
              "      <td>1.0</td>\n",
              "      <td>1.0</td>\n",
              "      <td>5.938588</td>\n",
              "      <td>2.179799</td>\n",
              "      <td>130.428571</td>\n",
              "      <td>1.000000</td>\n",
              "      <td>2.349206</td>\n",
              "      <td>0.033767</td>\n",
              "      <td>1.000000</td>\n",
              "      <td>1.0</td>\n",
              "      <td>Lying</td>\n",
              "    </tr>\n",
              "    <tr>\n",
              "      <th>2</th>\n",
              "      <td>3</td>\n",
              "      <td>20</td>\n",
              "      <td>1</td>\n",
              "      <td>168.0</td>\n",
              "      <td>65.4</td>\n",
              "      <td>1.0</td>\n",
              "      <td>129.888889</td>\n",
              "      <td>1.0</td>\n",
              "      <td>1.0</td>\n",
              "      <td>5.938588</td>\n",
              "      <td>2.179799</td>\n",
              "      <td>130.428571</td>\n",
              "      <td>1.000000</td>\n",
              "      <td>-0.539683</td>\n",
              "      <td>-0.007757</td>\n",
              "      <td>1.000000</td>\n",
              "      <td>1.0</td>\n",
              "      <td>Lying</td>\n",
              "    </tr>\n",
              "    <tr>\n",
              "      <th>3</th>\n",
              "      <td>4</td>\n",
              "      <td>20</td>\n",
              "      <td>1</td>\n",
              "      <td>168.0</td>\n",
              "      <td>65.4</td>\n",
              "      <td>1.0</td>\n",
              "      <td>129.142857</td>\n",
              "      <td>1.0</td>\n",
              "      <td>1.0</td>\n",
              "      <td>5.938588</td>\n",
              "      <td>2.179799</td>\n",
              "      <td>130.428571</td>\n",
              "      <td>1.000000</td>\n",
              "      <td>-1.285714</td>\n",
              "      <td>-0.018480</td>\n",
              "      <td>1.000000</td>\n",
              "      <td>1.0</td>\n",
              "      <td>Lying</td>\n",
              "    </tr>\n",
              "    <tr>\n",
              "      <th>4</th>\n",
              "      <td>11</td>\n",
              "      <td>20</td>\n",
              "      <td>1</td>\n",
              "      <td>168.0</td>\n",
              "      <td>65.4</td>\n",
              "      <td>1.0</td>\n",
              "      <td>134.555556</td>\n",
              "      <td>3.5</td>\n",
              "      <td>1.0</td>\n",
              "      <td>5.938588</td>\n",
              "      <td>2.179799</td>\n",
              "      <td>130.428571</td>\n",
              "      <td>-0.493589</td>\n",
              "      <td>4.126984</td>\n",
              "      <td>0.059320</td>\n",
              "      <td>1.368007</td>\n",
              "      <td>1.0</td>\n",
              "      <td>Self Pace walk</td>\n",
              "    </tr>\n",
              "    <tr>\n",
              "      <th>...</th>\n",
              "      <td>...</td>\n",
              "      <td>...</td>\n",
              "      <td>...</td>\n",
              "      <td>...</td>\n",
              "      <td>...</td>\n",
              "      <td>...</td>\n",
              "      <td>...</td>\n",
              "      <td>...</td>\n",
              "      <td>...</td>\n",
              "      <td>...</td>\n",
              "      <td>...</td>\n",
              "      <td>...</td>\n",
              "      <td>...</td>\n",
              "      <td>...</td>\n",
              "      <td>...</td>\n",
              "      <td>...</td>\n",
              "      <td>...</td>\n",
              "      <td>...</td>\n",
              "    </tr>\n",
              "    <tr>\n",
              "      <th>2603</th>\n",
              "      <td>3666</td>\n",
              "      <td>46</td>\n",
              "      <td>0</td>\n",
              "      <td>157.5</td>\n",
              "      <td>71.4</td>\n",
              "      <td>1.0</td>\n",
              "      <td>35.000000</td>\n",
              "      <td>20.5</td>\n",
              "      <td>1.0</td>\n",
              "      <td>0.000000</td>\n",
              "      <td>0.000000</td>\n",
              "      <td>35.000000</td>\n",
              "      <td>1.000000</td>\n",
              "      <td>0.000000</td>\n",
              "      <td>0.000000</td>\n",
              "      <td>0.000000</td>\n",
              "      <td>1.0</td>\n",
              "      <td>Running 7 METs</td>\n",
              "    </tr>\n",
              "    <tr>\n",
              "      <th>2604</th>\n",
              "      <td>3667</td>\n",
              "      <td>46</td>\n",
              "      <td>0</td>\n",
              "      <td>157.5</td>\n",
              "      <td>71.4</td>\n",
              "      <td>1.0</td>\n",
              "      <td>35.000000</td>\n",
              "      <td>20.5</td>\n",
              "      <td>1.0</td>\n",
              "      <td>0.000000</td>\n",
              "      <td>0.000000</td>\n",
              "      <td>35.000000</td>\n",
              "      <td>1.000000</td>\n",
              "      <td>0.000000</td>\n",
              "      <td>0.000000</td>\n",
              "      <td>1.000000</td>\n",
              "      <td>1.0</td>\n",
              "      <td>Running 7 METs</td>\n",
              "    </tr>\n",
              "    <tr>\n",
              "      <th>2605</th>\n",
              "      <td>3668</td>\n",
              "      <td>46</td>\n",
              "      <td>0</td>\n",
              "      <td>157.5</td>\n",
              "      <td>71.4</td>\n",
              "      <td>1.0</td>\n",
              "      <td>35.000000</td>\n",
              "      <td>20.5</td>\n",
              "      <td>1.0</td>\n",
              "      <td>0.000000</td>\n",
              "      <td>0.000000</td>\n",
              "      <td>35.000000</td>\n",
              "      <td>1.000000</td>\n",
              "      <td>0.000000</td>\n",
              "      <td>0.000000</td>\n",
              "      <td>1.000000</td>\n",
              "      <td>1.0</td>\n",
              "      <td>Running 7 METs</td>\n",
              "    </tr>\n",
              "    <tr>\n",
              "      <th>2606</th>\n",
              "      <td>3669</td>\n",
              "      <td>46</td>\n",
              "      <td>0</td>\n",
              "      <td>157.5</td>\n",
              "      <td>71.4</td>\n",
              "      <td>1.0</td>\n",
              "      <td>35.000000</td>\n",
              "      <td>20.5</td>\n",
              "      <td>1.0</td>\n",
              "      <td>0.000000</td>\n",
              "      <td>0.000000</td>\n",
              "      <td>35.000000</td>\n",
              "      <td>1.000000</td>\n",
              "      <td>0.000000</td>\n",
              "      <td>0.000000</td>\n",
              "      <td>1.000000</td>\n",
              "      <td>1.0</td>\n",
              "      <td>Running 7 METs</td>\n",
              "    </tr>\n",
              "    <tr>\n",
              "      <th>2607</th>\n",
              "      <td>3670</td>\n",
              "      <td>46</td>\n",
              "      <td>0</td>\n",
              "      <td>157.5</td>\n",
              "      <td>71.4</td>\n",
              "      <td>1.0</td>\n",
              "      <td>35.000000</td>\n",
              "      <td>20.5</td>\n",
              "      <td>1.0</td>\n",
              "      <td>0.000000</td>\n",
              "      <td>0.000000</td>\n",
              "      <td>35.000000</td>\n",
              "      <td>1.000000</td>\n",
              "      <td>0.000000</td>\n",
              "      <td>0.000000</td>\n",
              "      <td>1.000000</td>\n",
              "      <td>1.0</td>\n",
              "      <td>Running 7 METs</td>\n",
              "    </tr>\n",
              "  </tbody>\n",
              "</table>\n",
              "<p>2608 rows × 18 columns</p>\n",
              "</div>\n",
              "    <div class=\"colab-df-buttons\">\n",
              "\n",
              "  <div class=\"colab-df-container\">\n",
              "    <button class=\"colab-df-convert\" onclick=\"convertToInteractive('df-104411dc-414d-43e3-add4-00e6e31765f7')\"\n",
              "            title=\"Convert this dataframe to an interactive table.\"\n",
              "            style=\"display:none;\">\n",
              "\n",
              "  <svg xmlns=\"http://www.w3.org/2000/svg\" height=\"24px\" viewBox=\"0 -960 960 960\">\n",
              "    <path d=\"M120-120v-720h720v720H120Zm60-500h600v-160H180v160Zm220 220h160v-160H400v160Zm0 220h160v-160H400v160ZM180-400h160v-160H180v160Zm440 0h160v-160H620v160ZM180-180h160v-160H180v160Zm440 0h160v-160H620v160Z\"/>\n",
              "  </svg>\n",
              "    </button>\n",
              "\n",
              "  <style>\n",
              "    .colab-df-container {\n",
              "      display:flex;\n",
              "      gap: 12px;\n",
              "    }\n",
              "\n",
              "    .colab-df-convert {\n",
              "      background-color: #E8F0FE;\n",
              "      border: none;\n",
              "      border-radius: 50%;\n",
              "      cursor: pointer;\n",
              "      display: none;\n",
              "      fill: #1967D2;\n",
              "      height: 32px;\n",
              "      padding: 0 0 0 0;\n",
              "      width: 32px;\n",
              "    }\n",
              "\n",
              "    .colab-df-convert:hover {\n",
              "      background-color: #E2EBFA;\n",
              "      box-shadow: 0px 1px 2px rgba(60, 64, 67, 0.3), 0px 1px 3px 1px rgba(60, 64, 67, 0.15);\n",
              "      fill: #174EA6;\n",
              "    }\n",
              "\n",
              "    .colab-df-buttons div {\n",
              "      margin-bottom: 4px;\n",
              "    }\n",
              "\n",
              "    [theme=dark] .colab-df-convert {\n",
              "      background-color: #3B4455;\n",
              "      fill: #D2E3FC;\n",
              "    }\n",
              "\n",
              "    [theme=dark] .colab-df-convert:hover {\n",
              "      background-color: #434B5C;\n",
              "      box-shadow: 0px 1px 3px 1px rgba(0, 0, 0, 0.15);\n",
              "      filter: drop-shadow(0px 1px 2px rgba(0, 0, 0, 0.3));\n",
              "      fill: #FFFFFF;\n",
              "    }\n",
              "  </style>\n",
              "\n",
              "    <script>\n",
              "      const buttonEl =\n",
              "        document.querySelector('#df-104411dc-414d-43e3-add4-00e6e31765f7 button.colab-df-convert');\n",
              "      buttonEl.style.display =\n",
              "        google.colab.kernel.accessAllowed ? 'block' : 'none';\n",
              "\n",
              "      async function convertToInteractive(key) {\n",
              "        const element = document.querySelector('#df-104411dc-414d-43e3-add4-00e6e31765f7');\n",
              "        const dataTable =\n",
              "          await google.colab.kernel.invokeFunction('convertToInteractive',\n",
              "                                                    [key], {});\n",
              "        if (!dataTable) return;\n",
              "\n",
              "        const docLinkHtml = 'Like what you see? Visit the ' +\n",
              "          '<a target=\"_blank\" href=https://colab.research.google.com/notebooks/data_table.ipynb>data table notebook</a>'\n",
              "          + ' to learn more about interactive tables.';\n",
              "        element.innerHTML = '';\n",
              "        dataTable['output_type'] = 'display_data';\n",
              "        await google.colab.output.renderOutput(dataTable, element);\n",
              "        const docLink = document.createElement('div');\n",
              "        docLink.innerHTML = docLinkHtml;\n",
              "        element.appendChild(docLink);\n",
              "      }\n",
              "    </script>\n",
              "  </div>\n",
              "\n",
              "\n",
              "<div id=\"df-c174236b-013c-45eb-9afa-39c3c6485f47\">\n",
              "  <button class=\"colab-df-quickchart\" onclick=\"quickchart('df-c174236b-013c-45eb-9afa-39c3c6485f47')\"\n",
              "            title=\"Suggest charts\"\n",
              "            style=\"display:none;\">\n",
              "\n",
              "<svg xmlns=\"http://www.w3.org/2000/svg\" height=\"24px\"viewBox=\"0 0 24 24\"\n",
              "     width=\"24px\">\n",
              "    <g>\n",
              "        <path d=\"M19 3H5c-1.1 0-2 .9-2 2v14c0 1.1.9 2 2 2h14c1.1 0 2-.9 2-2V5c0-1.1-.9-2-2-2zM9 17H7v-7h2v7zm4 0h-2V7h2v10zm4 0h-2v-4h2v4z\"/>\n",
              "    </g>\n",
              "</svg>\n",
              "  </button>\n",
              "\n",
              "<style>\n",
              "  .colab-df-quickchart {\n",
              "      --bg-color: #E8F0FE;\n",
              "      --fill-color: #1967D2;\n",
              "      --hover-bg-color: #E2EBFA;\n",
              "      --hover-fill-color: #174EA6;\n",
              "      --disabled-fill-color: #AAA;\n",
              "      --disabled-bg-color: #DDD;\n",
              "  }\n",
              "\n",
              "  [theme=dark] .colab-df-quickchart {\n",
              "      --bg-color: #3B4455;\n",
              "      --fill-color: #D2E3FC;\n",
              "      --hover-bg-color: #434B5C;\n",
              "      --hover-fill-color: #FFFFFF;\n",
              "      --disabled-bg-color: #3B4455;\n",
              "      --disabled-fill-color: #666;\n",
              "  }\n",
              "\n",
              "  .colab-df-quickchart {\n",
              "    background-color: var(--bg-color);\n",
              "    border: none;\n",
              "    border-radius: 50%;\n",
              "    cursor: pointer;\n",
              "    display: none;\n",
              "    fill: var(--fill-color);\n",
              "    height: 32px;\n",
              "    padding: 0;\n",
              "    width: 32px;\n",
              "  }\n",
              "\n",
              "  .colab-df-quickchart:hover {\n",
              "    background-color: var(--hover-bg-color);\n",
              "    box-shadow: 0 1px 2px rgba(60, 64, 67, 0.3), 0 1px 3px 1px rgba(60, 64, 67, 0.15);\n",
              "    fill: var(--button-hover-fill-color);\n",
              "  }\n",
              "\n",
              "  .colab-df-quickchart-complete:disabled,\n",
              "  .colab-df-quickchart-complete:disabled:hover {\n",
              "    background-color: var(--disabled-bg-color);\n",
              "    fill: var(--disabled-fill-color);\n",
              "    box-shadow: none;\n",
              "  }\n",
              "\n",
              "  .colab-df-spinner {\n",
              "    border: 2px solid var(--fill-color);\n",
              "    border-color: transparent;\n",
              "    border-bottom-color: var(--fill-color);\n",
              "    animation:\n",
              "      spin 1s steps(1) infinite;\n",
              "  }\n",
              "\n",
              "  @keyframes spin {\n",
              "    0% {\n",
              "      border-color: transparent;\n",
              "      border-bottom-color: var(--fill-color);\n",
              "      border-left-color: var(--fill-color);\n",
              "    }\n",
              "    20% {\n",
              "      border-color: transparent;\n",
              "      border-left-color: var(--fill-color);\n",
              "      border-top-color: var(--fill-color);\n",
              "    }\n",
              "    30% {\n",
              "      border-color: transparent;\n",
              "      border-left-color: var(--fill-color);\n",
              "      border-top-color: var(--fill-color);\n",
              "      border-right-color: var(--fill-color);\n",
              "    }\n",
              "    40% {\n",
              "      border-color: transparent;\n",
              "      border-right-color: var(--fill-color);\n",
              "      border-top-color: var(--fill-color);\n",
              "    }\n",
              "    60% {\n",
              "      border-color: transparent;\n",
              "      border-right-color: var(--fill-color);\n",
              "    }\n",
              "    80% {\n",
              "      border-color: transparent;\n",
              "      border-right-color: var(--fill-color);\n",
              "      border-bottom-color: var(--fill-color);\n",
              "    }\n",
              "    90% {\n",
              "      border-color: transparent;\n",
              "      border-bottom-color: var(--fill-color);\n",
              "    }\n",
              "  }\n",
              "</style>\n",
              "\n",
              "  <script>\n",
              "    async function quickchart(key) {\n",
              "      const quickchartButtonEl =\n",
              "        document.querySelector('#' + key + ' button');\n",
              "      quickchartButtonEl.disabled = true;  // To prevent multiple clicks.\n",
              "      quickchartButtonEl.classList.add('colab-df-spinner');\n",
              "      try {\n",
              "        const charts = await google.colab.kernel.invokeFunction(\n",
              "            'suggestCharts', [key], {});\n",
              "      } catch (error) {\n",
              "        console.error('Error during call to suggestCharts:', error);\n",
              "      }\n",
              "      quickchartButtonEl.classList.remove('colab-df-spinner');\n",
              "      quickchartButtonEl.classList.add('colab-df-quickchart-complete');\n",
              "    }\n",
              "    (() => {\n",
              "      let quickchartButtonEl =\n",
              "        document.querySelector('#df-c174236b-013c-45eb-9afa-39c3c6485f47 button');\n",
              "      quickchartButtonEl.style.display =\n",
              "        google.colab.kernel.accessAllowed ? 'block' : 'none';\n",
              "    })();\n",
              "  </script>\n",
              "</div>\n",
              "    </div>\n",
              "  </div>\n"
            ],
            "application/vnd.google.colaboratory.intrinsic+json": {
              "type": "dataframe",
              "variable_name": "data",
              "summary": "{\n  \"name\": \"data\",\n  \"rows\": 2608,\n  \"fields\": [\n    {\n      \"column\": \"Unnamed: 0\",\n      \"properties\": {\n        \"dtype\": \"number\",\n        \"std\": 1141,\n        \"min\": 1,\n        \"max\": 3670,\n        \"num_unique_values\": 2608,\n        \"samples\": [\n          1904,\n          2627,\n          223\n        ],\n        \"semantic_type\": \"\",\n        \"description\": \"\"\n      }\n    },\n    {\n      \"column\": \"age\",\n      \"properties\": {\n        \"dtype\": \"number\",\n        \"std\": 8,\n        \"min\": 18,\n        \"max\": 56,\n        \"num_unique_values\": 24,\n        \"samples\": [\n          53,\n          28,\n          20\n        ],\n        \"semantic_type\": \"\",\n        \"description\": \"\"\n      }\n    },\n    {\n      \"column\": \"gender\",\n      \"properties\": {\n        \"dtype\": \"number\",\n        \"std\": 0,\n        \"min\": 0,\n        \"max\": 1,\n        \"num_unique_values\": 2,\n        \"samples\": [\n          0,\n          1\n        ],\n        \"semantic_type\": \"\",\n        \"description\": \"\"\n      }\n    },\n    {\n      \"column\": \"height\",\n      \"properties\": {\n        \"dtype\": \"number\",\n        \"std\": 10.174807732296001,\n        \"min\": 143.0,\n        \"max\": 191.0,\n        \"num_unique_values\": 28,\n        \"samples\": [\n          185.0,\n          158.0\n        ],\n        \"semantic_type\": \"\",\n        \"description\": \"\"\n      }\n    },\n    {\n      \"column\": \"weight\",\n      \"properties\": {\n        \"dtype\": \"number\",\n        \"std\": 12.31541972952404,\n        \"min\": 43.0,\n        \"max\": 115.0,\n        \"num_unique_values\": 43,\n        \"samples\": [\n          58.0,\n          90.0\n        ],\n        \"semantic_type\": \"\",\n        \"description\": \"\"\n      }\n    },\n    {\n      \"column\": \"Fitbit.Steps_LE\",\n      \"properties\": {\n        \"dtype\": \"number\",\n        \"std\": 25.343804486952322,\n        \"min\": 1.0,\n        \"max\": 184.0,\n        \"num_unique_values\": 1336,\n        \"samples\": [\n          8.25495557074504,\n          4.93402520385471\n        ],\n        \"semantic_type\": \"\",\n        \"description\": \"\"\n      }\n    },\n    {\n      \"column\": \"Fitbit.Heart_LE\",\n      \"properties\": {\n        \"dtype\": \"number\",\n        \"std\": 29.67069757540612,\n        \"min\": 2.22222222222222,\n        \"max\": 164.0,\n        \"num_unique_values\": 1829,\n        \"samples\": [\n          76.1463059056091,\n          75.8265402563649\n        ],\n        \"semantic_type\": \"\",\n        \"description\": \"\"\n      }\n    },\n    {\n      \"column\": \"Fitbit.Calories_LE\",\n      \"properties\": {\n        \"dtype\": \"number\",\n        \"std\": 32.96055118355167,\n        \"min\": 1.0,\n        \"max\": 97.5,\n        \"num_unique_values\": 100,\n        \"samples\": [\n          86.0,\n          27.0\n        ],\n        \"semantic_type\": \"\",\n        \"description\": \"\"\n      }\n    },\n    {\n      \"column\": \"Fitbit.Distance_LE\",\n      \"properties\": {\n        \"dtype\": \"number\",\n        \"std\": 66.58685602372772,\n        \"min\": 1.0,\n        \"max\": 335.0,\n        \"num_unique_values\": 1373,\n        \"samples\": [\n          15.7866666666667,\n          15.7206477732794\n        ],\n        \"semantic_type\": \"\",\n        \"description\": \"\"\n      }\n    },\n    {\n      \"column\": \"EntropyFitbitHeartPerDay_LE\",\n      \"properties\": {\n        \"dtype\": \"number\",\n        \"std\": 1.1460317313761632,\n        \"min\": 0.0,\n        \"max\": 6.4757334309664,\n        \"num_unique_values\": 30,\n        \"samples\": [\n          6.11436944588676,\n          0.0\n        ],\n        \"semantic_type\": \"\",\n        \"description\": \"\"\n      }\n    },\n    {\n      \"column\": \"EntropyFitbitStepsPerDay_LE\",\n      \"properties\": {\n        \"dtype\": \"number\",\n        \"std\": 1.8485718925048402,\n        \"min\": 0.0,\n        \"max\": 6.4757334309664,\n        \"num_unique_values\": 26,\n        \"samples\": [\n          6.4093909361377,\n          0.106792032375842\n        ],\n        \"semantic_type\": \"\",\n        \"description\": \"\"\n      }\n    },\n    {\n      \"column\": \"RestingFitbitHeartrate_LE\",\n      \"properties\": {\n        \"dtype\": \"number\",\n        \"std\": 29.31512314943336,\n        \"min\": 3.0,\n        \"max\": 155.0,\n        \"num_unique_values\": 41,\n        \"samples\": [\n          139.0,\n          45.3596552570237\n        ],\n        \"semantic_type\": \"\",\n        \"description\": \"\"\n      }\n    },\n    {\n      \"column\": \"CorrelationFitbitHeartrateSteps_LE\",\n      \"properties\": {\n        \"dtype\": \"number\",\n        \"std\": 0.6086501360272748,\n        \"min\": -1.0,\n        \"max\": 1.0,\n        \"num_unique_values\": 355,\n        \"samples\": [\n          -0.853489160363903,\n          0.788716882268147\n        ],\n        \"semantic_type\": \"\",\n        \"description\": \"\"\n      }\n    },\n    {\n      \"column\": \"NormalizedFitbitHeartrate_LE\",\n      \"properties\": {\n        \"dtype\": \"number\",\n        \"std\": 33.28415866348336,\n        \"min\": -76.0,\n        \"max\": 156.319444444444,\n        \"num_unique_values\": 1882,\n        \"samples\": [\n          38.1948768635203,\n          44.7931404482183\n        ],\n        \"semantic_type\": \"\",\n        \"description\": \"\"\n      }\n    },\n    {\n      \"column\": \"FitbitIntensity_LE\",\n      \"properties\": {\n        \"dtype\": \"number\",\n        \"std\": 0.20867489514500517,\n        \"min\": -2.71428571428571,\n        \"max\": 0.873704918032787,\n        \"num_unique_values\": 2393,\n        \"samples\": [\n          0.0087279651378611,\n          0.0004084383001102\n        ],\n        \"semantic_type\": \"\",\n        \"description\": \"\"\n      }\n    },\n    {\n      \"column\": \"SDNormalizedFitbitHR_LE\",\n      \"properties\": {\n        \"dtype\": \"number\",\n        \"std\": 15.274072939436508,\n        \"min\": 0.0,\n        \"max\": 74.4579291138554,\n        \"num_unique_values\": 865,\n        \"samples\": [\n          0.532643366240726,\n          4.99165012672701\n        ],\n        \"semantic_type\": \"\",\n        \"description\": \"\"\n      }\n    },\n    {\n      \"column\": \"FitbitStepsXDistance_LE\",\n      \"properties\": {\n        \"dtype\": \"number\",\n        \"std\": 6215.8466571239005,\n        \"min\": 1.0,\n        \"max\": 51520.0,\n        \"num_unique_values\": 1375,\n        \"samples\": [\n          20.3297942736368,\n          67.2840296229295\n        ],\n        \"semantic_type\": \"\",\n        \"description\": \"\"\n      }\n    },\n    {\n      \"column\": \"activity_trimmed\",\n      \"properties\": {\n        \"dtype\": \"category\",\n        \"num_unique_values\": 6,\n        \"samples\": [\n          \"Lying\",\n          \"Self Pace walk\"\n        ],\n        \"semantic_type\": \"\",\n        \"description\": \"\"\n      }\n    }\n  ]\n}"
            }
          },
          "metadata": {},
          "execution_count": 10
        }
      ],
      "source": [
        "data"
      ]
    },
    {
      "cell_type": "code",
      "execution_count": null,
      "metadata": {
        "colab": {
          "base_uri": "https://localhost:8080/"
        },
        "id": "UvgArWLiVeop",
        "outputId": "a346b53a-1f46-484e-8853-58f5933fb7cb"
      },
      "outputs": [
        {
          "output_type": "execute_result",
          "data": {
            "text/plain": [
              "0"
            ]
          },
          "metadata": {},
          "execution_count": 137
        }
      ],
      "source": [
        "data.isna().sum().sum()"
      ]
    },
    {
      "cell_type": "code",
      "execution_count": 11,
      "metadata": {
        "id": "X5zxuWjJGTHm"
      },
      "outputs": [],
      "source": [
        "import os\n",
        "path = '/content/drive/MyDrive/work72fitbit_rework/'\n",
        "os.makedirs(path,exist_ok=True)"
      ]
    },
    {
      "cell_type": "code",
      "source": [
        "data.drop(data.columns[0],inplace=True,axis=1)"
      ],
      "metadata": {
        "id": "a_uy692GMl73"
      },
      "execution_count": 12,
      "outputs": []
    },
    {
      "cell_type": "markdown",
      "metadata": {
        "id": "DGEVOzphVmgx"
      },
      "source": [
        "# VISUALIZE"
      ]
    },
    {
      "cell_type": "code",
      "execution_count": 13,
      "metadata": {
        "id": "ztTjw-L9Vl9g",
        "colab": {
          "base_uri": "https://localhost:8080/",
          "height": 444
        },
        "outputId": "bedf78e4-9d60-43f1-c62b-0f8c44711c5b"
      },
      "outputs": [
        {
          "output_type": "execute_result",
          "data": {
            "text/plain": [
              "      age  gender  height  weight  Fitbit.Steps_LE  Fitbit.Heart_LE  \\\n",
              "0      20       1   168.0    65.4              1.0       132.000000   \n",
              "1      20       1   168.0    65.4              1.0       132.777778   \n",
              "2      20       1   168.0    65.4              1.0       129.888889   \n",
              "3      20       1   168.0    65.4              1.0       129.142857   \n",
              "4      20       1   168.0    65.4              1.0       134.555556   \n",
              "...   ...     ...     ...     ...              ...              ...   \n",
              "2603   46       0   157.5    71.4              1.0        35.000000   \n",
              "2604   46       0   157.5    71.4              1.0        35.000000   \n",
              "2605   46       0   157.5    71.4              1.0        35.000000   \n",
              "2606   46       0   157.5    71.4              1.0        35.000000   \n",
              "2607   46       0   157.5    71.4              1.0        35.000000   \n",
              "\n",
              "      Fitbit.Calories_LE  Fitbit.Distance_LE  EntropyFitbitHeartPerDay_LE  \\\n",
              "0                    1.0                 1.0                     5.938588   \n",
              "1                    1.0                 1.0                     5.938588   \n",
              "2                    1.0                 1.0                     5.938588   \n",
              "3                    1.0                 1.0                     5.938588   \n",
              "4                    3.5                 1.0                     5.938588   \n",
              "...                  ...                 ...                          ...   \n",
              "2603                20.5                 1.0                     0.000000   \n",
              "2604                20.5                 1.0                     0.000000   \n",
              "2605                20.5                 1.0                     0.000000   \n",
              "2606                20.5                 1.0                     0.000000   \n",
              "2607                20.5                 1.0                     0.000000   \n",
              "\n",
              "      EntropyFitbitStepsPerDay_LE  RestingFitbitHeartrate_LE  \\\n",
              "0                        2.179799                 130.428571   \n",
              "1                        2.179799                 130.428571   \n",
              "2                        2.179799                 130.428571   \n",
              "3                        2.179799                 130.428571   \n",
              "4                        2.179799                 130.428571   \n",
              "...                           ...                        ...   \n",
              "2603                     0.000000                  35.000000   \n",
              "2604                     0.000000                  35.000000   \n",
              "2605                     0.000000                  35.000000   \n",
              "2606                     0.000000                  35.000000   \n",
              "2607                     0.000000                  35.000000   \n",
              "\n",
              "      CorrelationFitbitHeartrateSteps_LE  NormalizedFitbitHeartrate_LE  \\\n",
              "0                               1.000000                      1.571429   \n",
              "1                               1.000000                      2.349206   \n",
              "2                               1.000000                     -0.539683   \n",
              "3                               1.000000                     -1.285714   \n",
              "4                              -0.493589                      4.126984   \n",
              "...                                  ...                           ...   \n",
              "2603                            1.000000                      0.000000   \n",
              "2604                            1.000000                      0.000000   \n",
              "2605                            1.000000                      0.000000   \n",
              "2606                            1.000000                      0.000000   \n",
              "2607                            1.000000                      0.000000   \n",
              "\n",
              "      FitbitIntensity_LE  SDNormalizedFitbitHR_LE  FitbitStepsXDistance_LE  \\\n",
              "0               0.022587                 1.000000                      1.0   \n",
              "1               0.033767                 1.000000                      1.0   \n",
              "2              -0.007757                 1.000000                      1.0   \n",
              "3              -0.018480                 1.000000                      1.0   \n",
              "4               0.059320                 1.368007                      1.0   \n",
              "...                  ...                      ...                      ...   \n",
              "2603            0.000000                 0.000000                      1.0   \n",
              "2604            0.000000                 1.000000                      1.0   \n",
              "2605            0.000000                 1.000000                      1.0   \n",
              "2606            0.000000                 1.000000                      1.0   \n",
              "2607            0.000000                 1.000000                      1.0   \n",
              "\n",
              "     activity_trimmed  \n",
              "0               Lying  \n",
              "1               Lying  \n",
              "2               Lying  \n",
              "3               Lying  \n",
              "4      Self Pace walk  \n",
              "...               ...  \n",
              "2603   Running 7 METs  \n",
              "2604   Running 7 METs  \n",
              "2605   Running 7 METs  \n",
              "2606   Running 7 METs  \n",
              "2607   Running 7 METs  \n",
              "\n",
              "[2608 rows x 17 columns]"
            ],
            "text/html": [
              "\n",
              "  <div id=\"df-d6dddac6-92ac-4ad2-bff9-be5fd3c8f5e1\" class=\"colab-df-container\">\n",
              "    <div>\n",
              "<style scoped>\n",
              "    .dataframe tbody tr th:only-of-type {\n",
              "        vertical-align: middle;\n",
              "    }\n",
              "\n",
              "    .dataframe tbody tr th {\n",
              "        vertical-align: top;\n",
              "    }\n",
              "\n",
              "    .dataframe thead th {\n",
              "        text-align: right;\n",
              "    }\n",
              "</style>\n",
              "<table border=\"1\" class=\"dataframe\">\n",
              "  <thead>\n",
              "    <tr style=\"text-align: right;\">\n",
              "      <th></th>\n",
              "      <th>age</th>\n",
              "      <th>gender</th>\n",
              "      <th>height</th>\n",
              "      <th>weight</th>\n",
              "      <th>Fitbit.Steps_LE</th>\n",
              "      <th>Fitbit.Heart_LE</th>\n",
              "      <th>Fitbit.Calories_LE</th>\n",
              "      <th>Fitbit.Distance_LE</th>\n",
              "      <th>EntropyFitbitHeartPerDay_LE</th>\n",
              "      <th>EntropyFitbitStepsPerDay_LE</th>\n",
              "      <th>RestingFitbitHeartrate_LE</th>\n",
              "      <th>CorrelationFitbitHeartrateSteps_LE</th>\n",
              "      <th>NormalizedFitbitHeartrate_LE</th>\n",
              "      <th>FitbitIntensity_LE</th>\n",
              "      <th>SDNormalizedFitbitHR_LE</th>\n",
              "      <th>FitbitStepsXDistance_LE</th>\n",
              "      <th>activity_trimmed</th>\n",
              "    </tr>\n",
              "  </thead>\n",
              "  <tbody>\n",
              "    <tr>\n",
              "      <th>0</th>\n",
              "      <td>20</td>\n",
              "      <td>1</td>\n",
              "      <td>168.0</td>\n",
              "      <td>65.4</td>\n",
              "      <td>1.0</td>\n",
              "      <td>132.000000</td>\n",
              "      <td>1.0</td>\n",
              "      <td>1.0</td>\n",
              "      <td>5.938588</td>\n",
              "      <td>2.179799</td>\n",
              "      <td>130.428571</td>\n",
              "      <td>1.000000</td>\n",
              "      <td>1.571429</td>\n",
              "      <td>0.022587</td>\n",
              "      <td>1.000000</td>\n",
              "      <td>1.0</td>\n",
              "      <td>Lying</td>\n",
              "    </tr>\n",
              "    <tr>\n",
              "      <th>1</th>\n",
              "      <td>20</td>\n",
              "      <td>1</td>\n",
              "      <td>168.0</td>\n",
              "      <td>65.4</td>\n",
              "      <td>1.0</td>\n",
              "      <td>132.777778</td>\n",
              "      <td>1.0</td>\n",
              "      <td>1.0</td>\n",
              "      <td>5.938588</td>\n",
              "      <td>2.179799</td>\n",
              "      <td>130.428571</td>\n",
              "      <td>1.000000</td>\n",
              "      <td>2.349206</td>\n",
              "      <td>0.033767</td>\n",
              "      <td>1.000000</td>\n",
              "      <td>1.0</td>\n",
              "      <td>Lying</td>\n",
              "    </tr>\n",
              "    <tr>\n",
              "      <th>2</th>\n",
              "      <td>20</td>\n",
              "      <td>1</td>\n",
              "      <td>168.0</td>\n",
              "      <td>65.4</td>\n",
              "      <td>1.0</td>\n",
              "      <td>129.888889</td>\n",
              "      <td>1.0</td>\n",
              "      <td>1.0</td>\n",
              "      <td>5.938588</td>\n",
              "      <td>2.179799</td>\n",
              "      <td>130.428571</td>\n",
              "      <td>1.000000</td>\n",
              "      <td>-0.539683</td>\n",
              "      <td>-0.007757</td>\n",
              "      <td>1.000000</td>\n",
              "      <td>1.0</td>\n",
              "      <td>Lying</td>\n",
              "    </tr>\n",
              "    <tr>\n",
              "      <th>3</th>\n",
              "      <td>20</td>\n",
              "      <td>1</td>\n",
              "      <td>168.0</td>\n",
              "      <td>65.4</td>\n",
              "      <td>1.0</td>\n",
              "      <td>129.142857</td>\n",
              "      <td>1.0</td>\n",
              "      <td>1.0</td>\n",
              "      <td>5.938588</td>\n",
              "      <td>2.179799</td>\n",
              "      <td>130.428571</td>\n",
              "      <td>1.000000</td>\n",
              "      <td>-1.285714</td>\n",
              "      <td>-0.018480</td>\n",
              "      <td>1.000000</td>\n",
              "      <td>1.0</td>\n",
              "      <td>Lying</td>\n",
              "    </tr>\n",
              "    <tr>\n",
              "      <th>4</th>\n",
              "      <td>20</td>\n",
              "      <td>1</td>\n",
              "      <td>168.0</td>\n",
              "      <td>65.4</td>\n",
              "      <td>1.0</td>\n",
              "      <td>134.555556</td>\n",
              "      <td>3.5</td>\n",
              "      <td>1.0</td>\n",
              "      <td>5.938588</td>\n",
              "      <td>2.179799</td>\n",
              "      <td>130.428571</td>\n",
              "      <td>-0.493589</td>\n",
              "      <td>4.126984</td>\n",
              "      <td>0.059320</td>\n",
              "      <td>1.368007</td>\n",
              "      <td>1.0</td>\n",
              "      <td>Self Pace walk</td>\n",
              "    </tr>\n",
              "    <tr>\n",
              "      <th>...</th>\n",
              "      <td>...</td>\n",
              "      <td>...</td>\n",
              "      <td>...</td>\n",
              "      <td>...</td>\n",
              "      <td>...</td>\n",
              "      <td>...</td>\n",
              "      <td>...</td>\n",
              "      <td>...</td>\n",
              "      <td>...</td>\n",
              "      <td>...</td>\n",
              "      <td>...</td>\n",
              "      <td>...</td>\n",
              "      <td>...</td>\n",
              "      <td>...</td>\n",
              "      <td>...</td>\n",
              "      <td>...</td>\n",
              "      <td>...</td>\n",
              "    </tr>\n",
              "    <tr>\n",
              "      <th>2603</th>\n",
              "      <td>46</td>\n",
              "      <td>0</td>\n",
              "      <td>157.5</td>\n",
              "      <td>71.4</td>\n",
              "      <td>1.0</td>\n",
              "      <td>35.000000</td>\n",
              "      <td>20.5</td>\n",
              "      <td>1.0</td>\n",
              "      <td>0.000000</td>\n",
              "      <td>0.000000</td>\n",
              "      <td>35.000000</td>\n",
              "      <td>1.000000</td>\n",
              "      <td>0.000000</td>\n",
              "      <td>0.000000</td>\n",
              "      <td>0.000000</td>\n",
              "      <td>1.0</td>\n",
              "      <td>Running 7 METs</td>\n",
              "    </tr>\n",
              "    <tr>\n",
              "      <th>2604</th>\n",
              "      <td>46</td>\n",
              "      <td>0</td>\n",
              "      <td>157.5</td>\n",
              "      <td>71.4</td>\n",
              "      <td>1.0</td>\n",
              "      <td>35.000000</td>\n",
              "      <td>20.5</td>\n",
              "      <td>1.0</td>\n",
              "      <td>0.000000</td>\n",
              "      <td>0.000000</td>\n",
              "      <td>35.000000</td>\n",
              "      <td>1.000000</td>\n",
              "      <td>0.000000</td>\n",
              "      <td>0.000000</td>\n",
              "      <td>1.000000</td>\n",
              "      <td>1.0</td>\n",
              "      <td>Running 7 METs</td>\n",
              "    </tr>\n",
              "    <tr>\n",
              "      <th>2605</th>\n",
              "      <td>46</td>\n",
              "      <td>0</td>\n",
              "      <td>157.5</td>\n",
              "      <td>71.4</td>\n",
              "      <td>1.0</td>\n",
              "      <td>35.000000</td>\n",
              "      <td>20.5</td>\n",
              "      <td>1.0</td>\n",
              "      <td>0.000000</td>\n",
              "      <td>0.000000</td>\n",
              "      <td>35.000000</td>\n",
              "      <td>1.000000</td>\n",
              "      <td>0.000000</td>\n",
              "      <td>0.000000</td>\n",
              "      <td>1.000000</td>\n",
              "      <td>1.0</td>\n",
              "      <td>Running 7 METs</td>\n",
              "    </tr>\n",
              "    <tr>\n",
              "      <th>2606</th>\n",
              "      <td>46</td>\n",
              "      <td>0</td>\n",
              "      <td>157.5</td>\n",
              "      <td>71.4</td>\n",
              "      <td>1.0</td>\n",
              "      <td>35.000000</td>\n",
              "      <td>20.5</td>\n",
              "      <td>1.0</td>\n",
              "      <td>0.000000</td>\n",
              "      <td>0.000000</td>\n",
              "      <td>35.000000</td>\n",
              "      <td>1.000000</td>\n",
              "      <td>0.000000</td>\n",
              "      <td>0.000000</td>\n",
              "      <td>1.000000</td>\n",
              "      <td>1.0</td>\n",
              "      <td>Running 7 METs</td>\n",
              "    </tr>\n",
              "    <tr>\n",
              "      <th>2607</th>\n",
              "      <td>46</td>\n",
              "      <td>0</td>\n",
              "      <td>157.5</td>\n",
              "      <td>71.4</td>\n",
              "      <td>1.0</td>\n",
              "      <td>35.000000</td>\n",
              "      <td>20.5</td>\n",
              "      <td>1.0</td>\n",
              "      <td>0.000000</td>\n",
              "      <td>0.000000</td>\n",
              "      <td>35.000000</td>\n",
              "      <td>1.000000</td>\n",
              "      <td>0.000000</td>\n",
              "      <td>0.000000</td>\n",
              "      <td>1.000000</td>\n",
              "      <td>1.0</td>\n",
              "      <td>Running 7 METs</td>\n",
              "    </tr>\n",
              "  </tbody>\n",
              "</table>\n",
              "<p>2608 rows × 17 columns</p>\n",
              "</div>\n",
              "    <div class=\"colab-df-buttons\">\n",
              "\n",
              "  <div class=\"colab-df-container\">\n",
              "    <button class=\"colab-df-convert\" onclick=\"convertToInteractive('df-d6dddac6-92ac-4ad2-bff9-be5fd3c8f5e1')\"\n",
              "            title=\"Convert this dataframe to an interactive table.\"\n",
              "            style=\"display:none;\">\n",
              "\n",
              "  <svg xmlns=\"http://www.w3.org/2000/svg\" height=\"24px\" viewBox=\"0 -960 960 960\">\n",
              "    <path d=\"M120-120v-720h720v720H120Zm60-500h600v-160H180v160Zm220 220h160v-160H400v160Zm0 220h160v-160H400v160ZM180-400h160v-160H180v160Zm440 0h160v-160H620v160ZM180-180h160v-160H180v160Zm440 0h160v-160H620v160Z\"/>\n",
              "  </svg>\n",
              "    </button>\n",
              "\n",
              "  <style>\n",
              "    .colab-df-container {\n",
              "      display:flex;\n",
              "      gap: 12px;\n",
              "    }\n",
              "\n",
              "    .colab-df-convert {\n",
              "      background-color: #E8F0FE;\n",
              "      border: none;\n",
              "      border-radius: 50%;\n",
              "      cursor: pointer;\n",
              "      display: none;\n",
              "      fill: #1967D2;\n",
              "      height: 32px;\n",
              "      padding: 0 0 0 0;\n",
              "      width: 32px;\n",
              "    }\n",
              "\n",
              "    .colab-df-convert:hover {\n",
              "      background-color: #E2EBFA;\n",
              "      box-shadow: 0px 1px 2px rgba(60, 64, 67, 0.3), 0px 1px 3px 1px rgba(60, 64, 67, 0.15);\n",
              "      fill: #174EA6;\n",
              "    }\n",
              "\n",
              "    .colab-df-buttons div {\n",
              "      margin-bottom: 4px;\n",
              "    }\n",
              "\n",
              "    [theme=dark] .colab-df-convert {\n",
              "      background-color: #3B4455;\n",
              "      fill: #D2E3FC;\n",
              "    }\n",
              "\n",
              "    [theme=dark] .colab-df-convert:hover {\n",
              "      background-color: #434B5C;\n",
              "      box-shadow: 0px 1px 3px 1px rgba(0, 0, 0, 0.15);\n",
              "      filter: drop-shadow(0px 1px 2px rgba(0, 0, 0, 0.3));\n",
              "      fill: #FFFFFF;\n",
              "    }\n",
              "  </style>\n",
              "\n",
              "    <script>\n",
              "      const buttonEl =\n",
              "        document.querySelector('#df-d6dddac6-92ac-4ad2-bff9-be5fd3c8f5e1 button.colab-df-convert');\n",
              "      buttonEl.style.display =\n",
              "        google.colab.kernel.accessAllowed ? 'block' : 'none';\n",
              "\n",
              "      async function convertToInteractive(key) {\n",
              "        const element = document.querySelector('#df-d6dddac6-92ac-4ad2-bff9-be5fd3c8f5e1');\n",
              "        const dataTable =\n",
              "          await google.colab.kernel.invokeFunction('convertToInteractive',\n",
              "                                                    [key], {});\n",
              "        if (!dataTable) return;\n",
              "\n",
              "        const docLinkHtml = 'Like what you see? Visit the ' +\n",
              "          '<a target=\"_blank\" href=https://colab.research.google.com/notebooks/data_table.ipynb>data table notebook</a>'\n",
              "          + ' to learn more about interactive tables.';\n",
              "        element.innerHTML = '';\n",
              "        dataTable['output_type'] = 'display_data';\n",
              "        await google.colab.output.renderOutput(dataTable, element);\n",
              "        const docLink = document.createElement('div');\n",
              "        docLink.innerHTML = docLinkHtml;\n",
              "        element.appendChild(docLink);\n",
              "      }\n",
              "    </script>\n",
              "  </div>\n",
              "\n",
              "\n",
              "<div id=\"df-66b494e4-45e2-4078-9293-1a218584a2d5\">\n",
              "  <button class=\"colab-df-quickchart\" onclick=\"quickchart('df-66b494e4-45e2-4078-9293-1a218584a2d5')\"\n",
              "            title=\"Suggest charts\"\n",
              "            style=\"display:none;\">\n",
              "\n",
              "<svg xmlns=\"http://www.w3.org/2000/svg\" height=\"24px\"viewBox=\"0 0 24 24\"\n",
              "     width=\"24px\">\n",
              "    <g>\n",
              "        <path d=\"M19 3H5c-1.1 0-2 .9-2 2v14c0 1.1.9 2 2 2h14c1.1 0 2-.9 2-2V5c0-1.1-.9-2-2-2zM9 17H7v-7h2v7zm4 0h-2V7h2v10zm4 0h-2v-4h2v4z\"/>\n",
              "    </g>\n",
              "</svg>\n",
              "  </button>\n",
              "\n",
              "<style>\n",
              "  .colab-df-quickchart {\n",
              "      --bg-color: #E8F0FE;\n",
              "      --fill-color: #1967D2;\n",
              "      --hover-bg-color: #E2EBFA;\n",
              "      --hover-fill-color: #174EA6;\n",
              "      --disabled-fill-color: #AAA;\n",
              "      --disabled-bg-color: #DDD;\n",
              "  }\n",
              "\n",
              "  [theme=dark] .colab-df-quickchart {\n",
              "      --bg-color: #3B4455;\n",
              "      --fill-color: #D2E3FC;\n",
              "      --hover-bg-color: #434B5C;\n",
              "      --hover-fill-color: #FFFFFF;\n",
              "      --disabled-bg-color: #3B4455;\n",
              "      --disabled-fill-color: #666;\n",
              "  }\n",
              "\n",
              "  .colab-df-quickchart {\n",
              "    background-color: var(--bg-color);\n",
              "    border: none;\n",
              "    border-radius: 50%;\n",
              "    cursor: pointer;\n",
              "    display: none;\n",
              "    fill: var(--fill-color);\n",
              "    height: 32px;\n",
              "    padding: 0;\n",
              "    width: 32px;\n",
              "  }\n",
              "\n",
              "  .colab-df-quickchart:hover {\n",
              "    background-color: var(--hover-bg-color);\n",
              "    box-shadow: 0 1px 2px rgba(60, 64, 67, 0.3), 0 1px 3px 1px rgba(60, 64, 67, 0.15);\n",
              "    fill: var(--button-hover-fill-color);\n",
              "  }\n",
              "\n",
              "  .colab-df-quickchart-complete:disabled,\n",
              "  .colab-df-quickchart-complete:disabled:hover {\n",
              "    background-color: var(--disabled-bg-color);\n",
              "    fill: var(--disabled-fill-color);\n",
              "    box-shadow: none;\n",
              "  }\n",
              "\n",
              "  .colab-df-spinner {\n",
              "    border: 2px solid var(--fill-color);\n",
              "    border-color: transparent;\n",
              "    border-bottom-color: var(--fill-color);\n",
              "    animation:\n",
              "      spin 1s steps(1) infinite;\n",
              "  }\n",
              "\n",
              "  @keyframes spin {\n",
              "    0% {\n",
              "      border-color: transparent;\n",
              "      border-bottom-color: var(--fill-color);\n",
              "      border-left-color: var(--fill-color);\n",
              "    }\n",
              "    20% {\n",
              "      border-color: transparent;\n",
              "      border-left-color: var(--fill-color);\n",
              "      border-top-color: var(--fill-color);\n",
              "    }\n",
              "    30% {\n",
              "      border-color: transparent;\n",
              "      border-left-color: var(--fill-color);\n",
              "      border-top-color: var(--fill-color);\n",
              "      border-right-color: var(--fill-color);\n",
              "    }\n",
              "    40% {\n",
              "      border-color: transparent;\n",
              "      border-right-color: var(--fill-color);\n",
              "      border-top-color: var(--fill-color);\n",
              "    }\n",
              "    60% {\n",
              "      border-color: transparent;\n",
              "      border-right-color: var(--fill-color);\n",
              "    }\n",
              "    80% {\n",
              "      border-color: transparent;\n",
              "      border-right-color: var(--fill-color);\n",
              "      border-bottom-color: var(--fill-color);\n",
              "    }\n",
              "    90% {\n",
              "      border-color: transparent;\n",
              "      border-bottom-color: var(--fill-color);\n",
              "    }\n",
              "  }\n",
              "</style>\n",
              "\n",
              "  <script>\n",
              "    async function quickchart(key) {\n",
              "      const quickchartButtonEl =\n",
              "        document.querySelector('#' + key + ' button');\n",
              "      quickchartButtonEl.disabled = true;  // To prevent multiple clicks.\n",
              "      quickchartButtonEl.classList.add('colab-df-spinner');\n",
              "      try {\n",
              "        const charts = await google.colab.kernel.invokeFunction(\n",
              "            'suggestCharts', [key], {});\n",
              "      } catch (error) {\n",
              "        console.error('Error during call to suggestCharts:', error);\n",
              "      }\n",
              "      quickchartButtonEl.classList.remove('colab-df-spinner');\n",
              "      quickchartButtonEl.classList.add('colab-df-quickchart-complete');\n",
              "    }\n",
              "    (() => {\n",
              "      let quickchartButtonEl =\n",
              "        document.querySelector('#df-66b494e4-45e2-4078-9293-1a218584a2d5 button');\n",
              "      quickchartButtonEl.style.display =\n",
              "        google.colab.kernel.accessAllowed ? 'block' : 'none';\n",
              "    })();\n",
              "  </script>\n",
              "</div>\n",
              "    </div>\n",
              "  </div>\n"
            ],
            "application/vnd.google.colaboratory.intrinsic+json": {
              "type": "dataframe",
              "variable_name": "data",
              "summary": "{\n  \"name\": \"data\",\n  \"rows\": 2608,\n  \"fields\": [\n    {\n      \"column\": \"age\",\n      \"properties\": {\n        \"dtype\": \"number\",\n        \"std\": 8,\n        \"min\": 18,\n        \"max\": 56,\n        \"num_unique_values\": 24,\n        \"samples\": [\n          53,\n          28,\n          20\n        ],\n        \"semantic_type\": \"\",\n        \"description\": \"\"\n      }\n    },\n    {\n      \"column\": \"gender\",\n      \"properties\": {\n        \"dtype\": \"number\",\n        \"std\": 0,\n        \"min\": 0,\n        \"max\": 1,\n        \"num_unique_values\": 2,\n        \"samples\": [\n          0,\n          1\n        ],\n        \"semantic_type\": \"\",\n        \"description\": \"\"\n      }\n    },\n    {\n      \"column\": \"height\",\n      \"properties\": {\n        \"dtype\": \"number\",\n        \"std\": 10.174807732296001,\n        \"min\": 143.0,\n        \"max\": 191.0,\n        \"num_unique_values\": 28,\n        \"samples\": [\n          185.0,\n          158.0\n        ],\n        \"semantic_type\": \"\",\n        \"description\": \"\"\n      }\n    },\n    {\n      \"column\": \"weight\",\n      \"properties\": {\n        \"dtype\": \"number\",\n        \"std\": 12.31541972952404,\n        \"min\": 43.0,\n        \"max\": 115.0,\n        \"num_unique_values\": 43,\n        \"samples\": [\n          58.0,\n          90.0\n        ],\n        \"semantic_type\": \"\",\n        \"description\": \"\"\n      }\n    },\n    {\n      \"column\": \"Fitbit.Steps_LE\",\n      \"properties\": {\n        \"dtype\": \"number\",\n        \"std\": 25.343804486952322,\n        \"min\": 1.0,\n        \"max\": 184.0,\n        \"num_unique_values\": 1336,\n        \"samples\": [\n          8.25495557074504,\n          4.93402520385471\n        ],\n        \"semantic_type\": \"\",\n        \"description\": \"\"\n      }\n    },\n    {\n      \"column\": \"Fitbit.Heart_LE\",\n      \"properties\": {\n        \"dtype\": \"number\",\n        \"std\": 29.67069757540612,\n        \"min\": 2.22222222222222,\n        \"max\": 164.0,\n        \"num_unique_values\": 1829,\n        \"samples\": [\n          76.1463059056091,\n          75.8265402563649\n        ],\n        \"semantic_type\": \"\",\n        \"description\": \"\"\n      }\n    },\n    {\n      \"column\": \"Fitbit.Calories_LE\",\n      \"properties\": {\n        \"dtype\": \"number\",\n        \"std\": 32.96055118355167,\n        \"min\": 1.0,\n        \"max\": 97.5,\n        \"num_unique_values\": 100,\n        \"samples\": [\n          86.0,\n          27.0\n        ],\n        \"semantic_type\": \"\",\n        \"description\": \"\"\n      }\n    },\n    {\n      \"column\": \"Fitbit.Distance_LE\",\n      \"properties\": {\n        \"dtype\": \"number\",\n        \"std\": 66.58685602372772,\n        \"min\": 1.0,\n        \"max\": 335.0,\n        \"num_unique_values\": 1373,\n        \"samples\": [\n          15.7866666666667,\n          15.7206477732794\n        ],\n        \"semantic_type\": \"\",\n        \"description\": \"\"\n      }\n    },\n    {\n      \"column\": \"EntropyFitbitHeartPerDay_LE\",\n      \"properties\": {\n        \"dtype\": \"number\",\n        \"std\": 1.1460317313761632,\n        \"min\": 0.0,\n        \"max\": 6.4757334309664,\n        \"num_unique_values\": 30,\n        \"samples\": [\n          6.11436944588676,\n          0.0\n        ],\n        \"semantic_type\": \"\",\n        \"description\": \"\"\n      }\n    },\n    {\n      \"column\": \"EntropyFitbitStepsPerDay_LE\",\n      \"properties\": {\n        \"dtype\": \"number\",\n        \"std\": 1.8485718925048402,\n        \"min\": 0.0,\n        \"max\": 6.4757334309664,\n        \"num_unique_values\": 26,\n        \"samples\": [\n          6.4093909361377,\n          0.106792032375842\n        ],\n        \"semantic_type\": \"\",\n        \"description\": \"\"\n      }\n    },\n    {\n      \"column\": \"RestingFitbitHeartrate_LE\",\n      \"properties\": {\n        \"dtype\": \"number\",\n        \"std\": 29.31512314943336,\n        \"min\": 3.0,\n        \"max\": 155.0,\n        \"num_unique_values\": 41,\n        \"samples\": [\n          139.0,\n          45.3596552570237\n        ],\n        \"semantic_type\": \"\",\n        \"description\": \"\"\n      }\n    },\n    {\n      \"column\": \"CorrelationFitbitHeartrateSteps_LE\",\n      \"properties\": {\n        \"dtype\": \"number\",\n        \"std\": 0.6086501360272748,\n        \"min\": -1.0,\n        \"max\": 1.0,\n        \"num_unique_values\": 355,\n        \"samples\": [\n          -0.853489160363903,\n          0.788716882268147\n        ],\n        \"semantic_type\": \"\",\n        \"description\": \"\"\n      }\n    },\n    {\n      \"column\": \"NormalizedFitbitHeartrate_LE\",\n      \"properties\": {\n        \"dtype\": \"number\",\n        \"std\": 33.28415866348336,\n        \"min\": -76.0,\n        \"max\": 156.319444444444,\n        \"num_unique_values\": 1882,\n        \"samples\": [\n          38.1948768635203,\n          44.7931404482183\n        ],\n        \"semantic_type\": \"\",\n        \"description\": \"\"\n      }\n    },\n    {\n      \"column\": \"FitbitIntensity_LE\",\n      \"properties\": {\n        \"dtype\": \"number\",\n        \"std\": 0.20867489514500517,\n        \"min\": -2.71428571428571,\n        \"max\": 0.873704918032787,\n        \"num_unique_values\": 2393,\n        \"samples\": [\n          0.0087279651378611,\n          0.0004084383001102\n        ],\n        \"semantic_type\": \"\",\n        \"description\": \"\"\n      }\n    },\n    {\n      \"column\": \"SDNormalizedFitbitHR_LE\",\n      \"properties\": {\n        \"dtype\": \"number\",\n        \"std\": 15.274072939436508,\n        \"min\": 0.0,\n        \"max\": 74.4579291138554,\n        \"num_unique_values\": 865,\n        \"samples\": [\n          0.532643366240726,\n          4.99165012672701\n        ],\n        \"semantic_type\": \"\",\n        \"description\": \"\"\n      }\n    },\n    {\n      \"column\": \"FitbitStepsXDistance_LE\",\n      \"properties\": {\n        \"dtype\": \"number\",\n        \"std\": 6215.8466571239005,\n        \"min\": 1.0,\n        \"max\": 51520.0,\n        \"num_unique_values\": 1375,\n        \"samples\": [\n          20.3297942736368,\n          67.2840296229295\n        ],\n        \"semantic_type\": \"\",\n        \"description\": \"\"\n      }\n    },\n    {\n      \"column\": \"activity_trimmed\",\n      \"properties\": {\n        \"dtype\": \"category\",\n        \"num_unique_values\": 6,\n        \"samples\": [\n          \"Lying\",\n          \"Self Pace walk\"\n        ],\n        \"semantic_type\": \"\",\n        \"description\": \"\"\n      }\n    }\n  ]\n}"
            }
          },
          "metadata": {},
          "execution_count": 13
        }
      ],
      "source": [
        "data"
      ]
    },
    {
      "cell_type": "code",
      "execution_count": null,
      "metadata": {
        "id": "1teYDCpZGofY"
      },
      "outputs": [],
      "source": [
        "g = data[data.columns[-1]].copy()"
      ]
    },
    {
      "cell_type": "code",
      "execution_count": null,
      "metadata": {
        "colab": {
          "base_uri": "https://localhost:8080/",
          "height": 382
        },
        "id": "9z7CBklf50rX",
        "outputId": "f32f6b8f-6abf-495d-ee46-dbc91d5962b7"
      },
      "outputs": [
        {
          "output_type": "display_data",
          "data": {
            "text/plain": [
              "<Figure size 1100x600 with 1 Axes>"
            ],
            "image/png": "[encoded data removed]"
          },
          "metadata": {}
        }
      ],
      "source": [
        "plt.figure(figsize=(11,6))\n",
        "g.value_counts().plot(kind='bar')\n",
        "plt.xticks(rotation=0)\n",
        "plt.title('Classes')\n",
        "plt.savefig(f'{path}labels.png',bbox_inches='tight')\n",
        "g.to_csv(f'{path}labels.csv',index=False)"
      ]
    },
    {
      "cell_type": "code",
      "source": [
        "data[data.columns[-1]] = data[data.columns[-1]].factorize()[0]"
      ],
      "metadata": {
        "id": "m9-phSVaNaj9"
      },
      "execution_count": 34,
      "outputs": []
    },
    {
      "cell_type": "code",
      "source": [],
      "metadata": {
        "id": "eoqeS8RZUzVt"
      },
      "execution_count": null,
      "outputs": []
    },
    {
      "cell_type": "code",
      "source": [
        "g = data.corr()\n",
        "sns.heatmap(g)\n",
        "plt.savefig(f'{path}heatmap.png',bbox_inches='tight')\n",
        "g.to_csv(f'{path}heatmap.csv')"
      ],
      "metadata": {
        "colab": {
          "base_uri": "https://localhost:8080/",
          "height": 555
        },
        "id": "6awtzr6kNnnb",
        "outputId": "0b0ff5b1-9904-4570-a583-f90afc8d5a88"
      },
      "execution_count": null,
      "outputs": [
        {
          "output_type": "display_data",
          "data": {
            "text/plain": [
              "<Figure size 640x480 with 2 Axes>"
            ],
            "image/png": "[encoded data removed]"
          },
          "metadata": {}
        }
      ]
    },
    {
      "cell_type": "markdown",
      "metadata": {
        "id": "Od80yx3OVrAM"
      },
      "source": [
        "# TRAINING"
      ]
    },
    {
      "cell_type": "code",
      "execution_count": null,
      "metadata": {
        "colab": {
          "base_uri": "https://localhost:8080/",
          "height": 444
        },
        "id": "46_lltIzWP0d",
        "outputId": "e9bb8f09-fedd-4215-8b2b-20296957cc1f"
      },
      "outputs": [
        {
          "output_type": "execute_result",
          "data": {
            "text/plain": [
              "      age  gender  height  weight  Fitbit.Steps_LE  Fitbit.Heart_LE  \\\n",
              "0      20       1   168.0    65.4              1.0       132.000000   \n",
              "1      20       1   168.0    65.4              1.0       132.777778   \n",
              "2      20       1   168.0    65.4              1.0       129.888889   \n",
              "3      20       1   168.0    65.4              1.0       129.142857   \n",
              "4      20       1   168.0    65.4              1.0       134.555556   \n",
              "...   ...     ...     ...     ...              ...              ...   \n",
              "2603   46       0   157.5    71.4              1.0        35.000000   \n",
              "2604   46       0   157.5    71.4              1.0        35.000000   \n",
              "2605   46       0   157.5    71.4              1.0        35.000000   \n",
              "2606   46       0   157.5    71.4              1.0        35.000000   \n",
              "2607   46       0   157.5    71.4              1.0        35.000000   \n",
              "\n",
              "      Fitbit.Calories_LE  Fitbit.Distance_LE  EntropyFitbitHeartPerDay_LE  \\\n",
              "0                    1.0                 1.0                     5.938588   \n",
              "1                    1.0                 1.0                     5.938588   \n",
              "2                    1.0                 1.0                     5.938588   \n",
              "3                    1.0                 1.0                     5.938588   \n",
              "4                    3.5                 1.0                     5.938588   \n",
              "...                  ...                 ...                          ...   \n",
              "2603                20.5                 1.0                     0.000000   \n",
              "2604                20.5                 1.0                     0.000000   \n",
              "2605                20.5                 1.0                     0.000000   \n",
              "2606                20.5                 1.0                     0.000000   \n",
              "2607                20.5                 1.0                     0.000000   \n",
              "\n",
              "      EntropyFitbitStepsPerDay_LE  RestingFitbitHeartrate_LE  \\\n",
              "0                        2.179799                 130.428571   \n",
              "1                        2.179799                 130.428571   \n",
              "2                        2.179799                 130.428571   \n",
              "3                        2.179799                 130.428571   \n",
              "4                        2.179799                 130.428571   \n",
              "...                           ...                        ...   \n",
              "2603                     0.000000                  35.000000   \n",
              "2604                     0.000000                  35.000000   \n",
              "2605                     0.000000                  35.000000   \n",
              "2606                     0.000000                  35.000000   \n",
              "2607                     0.000000                  35.000000   \n",
              "\n",
              "      CorrelationFitbitHeartrateSteps_LE  NormalizedFitbitHeartrate_LE  \\\n",
              "0                               1.000000                      1.571429   \n",
              "1                               1.000000                      2.349206   \n",
              "2                               1.000000                     -0.539683   \n",
              "3                               1.000000                     -1.285714   \n",
              "4                              -0.493589                      4.126984   \n",
              "...                                  ...                           ...   \n",
              "2603                            1.000000                      0.000000   \n",
              "2604                            1.000000                      0.000000   \n",
              "2605                            1.000000                      0.000000   \n",
              "2606                            1.000000                      0.000000   \n",
              "2607                            1.000000                      0.000000   \n",
              "\n",
              "      FitbitIntensity_LE  SDNormalizedFitbitHR_LE  FitbitStepsXDistance_LE  \\\n",
              "0               0.022587                 1.000000                      1.0   \n",
              "1               0.033767                 1.000000                      1.0   \n",
              "2              -0.007757                 1.000000                      1.0   \n",
              "3              -0.018480                 1.000000                      1.0   \n",
              "4               0.059320                 1.368007                      1.0   \n",
              "...                  ...                      ...                      ...   \n",
              "2603            0.000000                 0.000000                      1.0   \n",
              "2604            0.000000                 1.000000                      1.0   \n",
              "2605            0.000000                 1.000000                      1.0   \n",
              "2606            0.000000                 1.000000                      1.0   \n",
              "2607            0.000000                 1.000000                      1.0   \n",
              "\n",
              "      activity_trimmed  \n",
              "0                    0  \n",
              "1                    0  \n",
              "2                    0  \n",
              "3                    0  \n",
              "4                    1  \n",
              "...                ...  \n",
              "2603                 5  \n",
              "2604                 5  \n",
              "2605                 5  \n",
              "2606                 5  \n",
              "2607                 5  \n",
              "\n",
              "[2608 rows x 17 columns]"
            ],
            "text/html": [
              "\n",
              "  <div id=\"df-6a4cd93d-351c-48b2-b7d3-cfef7af33687\" class=\"colab-df-container\">\n",
              "    <div>\n",
              "<style scoped>\n",
              "    .dataframe tbody tr th:only-of-type {\n",
              "        vertical-align: middle;\n",
              "    }\n",
              "\n",
              "    .dataframe tbody tr th {\n",
              "        vertical-align: top;\n",
              "    }\n",
              "\n",
              "    .dataframe thead th {\n",
              "        text-align: right;\n",
              "    }\n",
              "</style>\n",
              "<table border=\"1\" class=\"dataframe\">\n",
              "  <thead>\n",
              "    <tr style=\"text-align: right;\">\n",
              "      <th></th>\n",
              "      <th>age</th>\n",
              "      <th>gender</th>\n",
              "      <th>height</th>\n",
              "      <th>weight</th>\n",
              "      <th>Fitbit.Steps_LE</th>\n",
              "      <th>Fitbit.Heart_LE</th>\n",
              "      <th>Fitbit.Calories_LE</th>\n",
              "      <th>Fitbit.Distance_LE</th>\n",
              "      <th>EntropyFitbitHeartPerDay_LE</th>\n",
              "      <th>EntropyFitbitStepsPerDay_LE</th>\n",
              "      <th>RestingFitbitHeartrate_LE</th>\n",
              "      <th>CorrelationFitbitHeartrateSteps_LE</th>\n",
              "      <th>NormalizedFitbitHeartrate_LE</th>\n",
              "      <th>FitbitIntensity_LE</th>\n",
              "      <th>SDNormalizedFitbitHR_LE</th>\n",
              "      <th>FitbitStepsXDistance_LE</th>\n",
              "      <th>activity_trimmed</th>\n",
              "    </tr>\n",
              "  </thead>\n",
              "  <tbody>\n",
              "    <tr>\n",
              "      <th>0</th>\n",
              "      <td>20</td>\n",
              "      <td>1</td>\n",
              "      <td>168.0</td>\n",
              "      <td>65.4</td>\n",
              "      <td>1.0</td>\n",
              "      <td>132.000000</td>\n",
              "      <td>1.0</td>\n",
              "      <td>1.0</td>\n",
              "      <td>5.938588</td>\n",
              "      <td>2.179799</td>\n",
              "      <td>130.428571</td>\n",
              "      <td>1.000000</td>\n",
              "      <td>1.571429</td>\n",
              "      <td>0.022587</td>\n",
              "      <td>1.000000</td>\n",
              "      <td>1.0</td>\n",
              "      <td>0</td>\n",
              "    </tr>\n",
              "    <tr>\n",
              "      <th>1</th>\n",
              "      <td>20</td>\n",
              "      <td>1</td>\n",
              "      <td>168.0</td>\n",
              "      <td>65.4</td>\n",
              "      <td>1.0</td>\n",
              "      <td>132.777778</td>\n",
              "      <td>1.0</td>\n",
              "      <td>1.0</td>\n",
              "      <td>5.938588</td>\n",
              "      <td>2.179799</td>\n",
              "      <td>130.428571</td>\n",
              "      <td>1.000000</td>\n",
              "      <td>2.349206</td>\n",
              "      <td>0.033767</td>\n",
              "      <td>1.000000</td>\n",
              "      <td>1.0</td>\n",
              "      <td>0</td>\n",
              "    </tr>\n",
              "    <tr>\n",
              "      <th>2</th>\n",
              "      <td>20</td>\n",
              "      <td>1</td>\n",
              "      <td>168.0</td>\n",
              "      <td>65.4</td>\n",
              "      <td>1.0</td>\n",
              "      <td>129.888889</td>\n",
              "      <td>1.0</td>\n",
              "      <td>1.0</td>\n",
              "      <td>5.938588</td>\n",
              "      <td>2.179799</td>\n",
              "      <td>130.428571</td>\n",
              "      <td>1.000000</td>\n",
              "      <td>-0.539683</td>\n",
              "      <td>-0.007757</td>\n",
              "      <td>1.000000</td>\n",
              "      <td>1.0</td>\n",
              "      <td>0</td>\n",
              "    </tr>\n",
              "    <tr>\n",
              "      <th>3</th>\n",
              "      <td>20</td>\n",
              "      <td>1</td>\n",
              "      <td>168.0</td>\n",
              "      <td>65.4</td>\n",
              "      <td>1.0</td>\n",
              "      <td>129.142857</td>\n",
              "      <td>1.0</td>\n",
              "      <td>1.0</td>\n",
              "      <td>5.938588</td>\n",
              "      <td>2.179799</td>\n",
              "      <td>130.428571</td>\n",
              "      <td>1.000000</td>\n",
              "      <td>-1.285714</td>\n",
              "      <td>-0.018480</td>\n",
              "      <td>1.000000</td>\n",
              "      <td>1.0</td>\n",
              "      <td>0</td>\n",
              "    </tr>\n",
              "    <tr>\n",
              "      <th>4</th>\n",
              "      <td>20</td>\n",
              "      <td>1</td>\n",
              "      <td>168.0</td>\n",
              "      <td>65.4</td>\n",
              "      <td>1.0</td>\n",
              "      <td>134.555556</td>\n",
              "      <td>3.5</td>\n",
              "      <td>1.0</td>\n",
              "      <td>5.938588</td>\n",
              "      <td>2.179799</td>\n",
              "      <td>130.428571</td>\n",
              "      <td>-0.493589</td>\n",
              "      <td>4.126984</td>\n",
              "      <td>0.059320</td>\n",
              "      <td>1.368007</td>\n",
              "      <td>1.0</td>\n",
              "      <td>1</td>\n",
              "    </tr>\n",
              "    <tr>\n",
              "      <th>...</th>\n",
              "      <td>...</td>\n",
              "      <td>...</td>\n",
              "      <td>...</td>\n",
              "      <td>...</td>\n",
              "      <td>...</td>\n",
              "      <td>...</td>\n",
              "      <td>...</td>\n",
              "      <td>...</td>\n",
              "      <td>...</td>\n",
              "      <td>...</td>\n",
              "      <td>...</td>\n",
              "      <td>...</td>\n",
              "      <td>...</td>\n",
              "      <td>...</td>\n",
              "      <td>...</td>\n",
              "      <td>...</td>\n",
              "      <td>...</td>\n",
              "    </tr>\n",
              "    <tr>\n",
              "      <th>2603</th>\n",
              "      <td>46</td>\n",
              "      <td>0</td>\n",
              "      <td>157.5</td>\n",
              "      <td>71.4</td>\n",
              "      <td>1.0</td>\n",
              "      <td>35.000000</td>\n",
              "      <td>20.5</td>\n",
              "      <td>1.0</td>\n",
              "      <td>0.000000</td>\n",
              "      <td>0.000000</td>\n",
              "      <td>35.000000</td>\n",
              "      <td>1.000000</td>\n",
              "      <td>0.000000</td>\n",
              "      <td>0.000000</td>\n",
              "      <td>0.000000</td>\n",
              "      <td>1.0</td>\n",
              "      <td>5</td>\n",
              "    </tr>\n",
              "    <tr>\n",
              "      <th>2604</th>\n",
              "      <td>46</td>\n",
              "      <td>0</td>\n",
              "      <td>157.5</td>\n",
              "      <td>71.4</td>\n",
              "      <td>1.0</td>\n",
              "      <td>35.000000</td>\n",
              "      <td>20.5</td>\n",
              "      <td>1.0</td>\n",
              "      <td>0.000000</td>\n",
              "      <td>0.000000</td>\n",
              "      <td>35.000000</td>\n",
              "      <td>1.000000</td>\n",
              "      <td>0.000000</td>\n",
              "      <td>0.000000</td>\n",
              "      <td>1.000000</td>\n",
              "      <td>1.0</td>\n",
              "      <td>5</td>\n",
              "    </tr>\n",
              "    <tr>\n",
              "      <th>2605</th>\n",
              "      <td>46</td>\n",
              "      <td>0</td>\n",
              "      <td>157.5</td>\n",
              "      <td>71.4</td>\n",
              "      <td>1.0</td>\n",
              "      <td>35.000000</td>\n",
              "      <td>20.5</td>\n",
              "      <td>1.0</td>\n",
              "      <td>0.000000</td>\n",
              "      <td>0.000000</td>\n",
              "      <td>35.000000</td>\n",
              "      <td>1.000000</td>\n",
              "      <td>0.000000</td>\n",
              "      <td>0.000000</td>\n",
              "      <td>1.000000</td>\n",
              "      <td>1.0</td>\n",
              "      <td>5</td>\n",
              "    </tr>\n",
              "    <tr>\n",
              "      <th>2606</th>\n",
              "      <td>46</td>\n",
              "      <td>0</td>\n",
              "      <td>157.5</td>\n",
              "      <td>71.4</td>\n",
              "      <td>1.0</td>\n",
              "      <td>35.000000</td>\n",
              "      <td>20.5</td>\n",
              "      <td>1.0</td>\n",
              "      <td>0.000000</td>\n",
              "      <td>0.000000</td>\n",
              "      <td>35.000000</td>\n",
              "      <td>1.000000</td>\n",
              "      <td>0.000000</td>\n",
              "      <td>0.000000</td>\n",
              "      <td>1.000000</td>\n",
              "      <td>1.0</td>\n",
              "      <td>5</td>\n",
              "    </tr>\n",
              "    <tr>\n",
              "      <th>2607</th>\n",
              "      <td>46</td>\n",
              "      <td>0</td>\n",
              "      <td>157.5</td>\n",
              "      <td>71.4</td>\n",
              "      <td>1.0</td>\n",
              "      <td>35.000000</td>\n",
              "      <td>20.5</td>\n",
              "      <td>1.0</td>\n",
              "      <td>0.000000</td>\n",
              "      <td>0.000000</td>\n",
              "      <td>35.000000</td>\n",
              "      <td>1.000000</td>\n",
              "      <td>0.000000</td>\n",
              "      <td>0.000000</td>\n",
              "      <td>1.000000</td>\n",
              "      <td>1.0</td>\n",
              "      <td>5</td>\n",
              "    </tr>\n",
              "  </tbody>\n",
              "</table>\n",
              "<p>2608 rows × 17 columns</p>\n",
              "</div>\n",
              "    <div class=\"colab-df-buttons\">\n",
              "\n",
              "  <div class=\"colab-df-container\">\n",
              "    <button class=\"colab-df-convert\" onclick=\"convertToInteractive('df-6a4cd93d-351c-48b2-b7d3-cfef7af33687')\"\n",
              "            title=\"Convert this dataframe to an interactive table.\"\n",
              "            style=\"display:none;\">\n",
              "\n",
              "  <svg xmlns=\"http://www.w3.org/2000/svg\" height=\"24px\" viewBox=\"0 -960 960 960\">\n",
              "    <path d=\"M120-120v-720h720v720H120Zm60-500h600v-160H180v160Zm220 220h160v-160H400v160Zm0 220h160v-160H400v160ZM180-400h160v-160H180v160Zm440 0h160v-160H620v160ZM180-180h160v-160H180v160Zm440 0h160v-160H620v160Z\"/>\n",
              "  </svg>\n",
              "    </button>\n",
              "\n",
              "  <style>\n",
              "    .colab-df-container {\n",
              "      display:flex;\n",
              "      gap: 12px;\n",
              "    }\n",
              "\n",
              "    .colab-df-convert {\n",
              "      background-color: #E8F0FE;\n",
              "      border: none;\n",
              "      border-radius: 50%;\n",
              "      cursor: pointer;\n",
              "      display: none;\n",
              "      fill: #1967D2;\n",
              "      height: 32px;\n",
              "      padding: 0 0 0 0;\n",
              "      width: 32px;\n",
              "    }\n",
              "\n",
              "    .colab-df-convert:hover {\n",
              "      background-color: #E2EBFA;\n",
              "      box-shadow: 0px 1px 2px rgba(60, 64, 67, 0.3), 0px 1px 3px 1px rgba(60, 64, 67, 0.15);\n",
              "      fill: #174EA6;\n",
              "    }\n",
              "\n",
              "    .colab-df-buttons div {\n",
              "      margin-bottom: 4px;\n",
              "    }\n",
              "\n",
              "    [theme=dark] .colab-df-convert {\n",
              "      background-color: #3B4455;\n",
              "      fill: #D2E3FC;\n",
              "    }\n",
              "\n",
              "    [theme=dark] .colab-df-convert:hover {\n",
              "      background-color: #434B5C;\n",
              "      box-shadow: 0px 1px 3px 1px rgba(0, 0, 0, 0.15);\n",
              "      filter: drop-shadow(0px 1px 2px rgba(0, 0, 0, 0.3));\n",
              "      fill: #FFFFFF;\n",
              "    }\n",
              "  </style>\n",
              "\n",
              "    <script>\n",
              "      const buttonEl =\n",
              "        document.querySelector('#df-6a4cd93d-351c-48b2-b7d3-cfef7af33687 button.colab-df-convert');\n",
              "      buttonEl.style.display =\n",
              "        google.colab.kernel.accessAllowed ? 'block' : 'none';\n",
              "\n",
              "      async function convertToInteractive(key) {\n",
              "        const element = document.querySelector('#df-6a4cd93d-351c-48b2-b7d3-cfef7af33687');\n",
              "        const dataTable =\n",
              "          await google.colab.kernel.invokeFunction('convertToInteractive',\n",
              "                                                    [key], {});\n",
              "        if (!dataTable) return;\n",
              "\n",
              "        const docLinkHtml = 'Like what you see? Visit the ' +\n",
              "          '<a target=\"_blank\" href=https://colab.research.google.com/notebooks/data_table.ipynb>data table notebook</a>'\n",
              "          + ' to learn more about interactive tables.';\n",
              "        element.innerHTML = '';\n",
              "        dataTable['output_type'] = 'display_data';\n",
              "        await google.colab.output.renderOutput(dataTable, element);\n",
              "        const docLink = document.createElement('div');\n",
              "        docLink.innerHTML = docLinkHtml;\n",
              "        element.appendChild(docLink);\n",
              "      }\n",
              "    </script>\n",
              "  </div>\n",
              "\n",
              "\n",
              "<div id=\"df-0efe8e23-1480-4622-a84d-f8cf96de483b\">\n",
              "  <button class=\"colab-df-quickchart\" onclick=\"quickchart('df-0efe8e23-1480-4622-a84d-f8cf96de483b')\"\n",
              "            title=\"Suggest charts\"\n",
              "            style=\"display:none;\">\n",
              "\n",
              "<svg xmlns=\"http://www.w3.org/2000/svg\" height=\"24px\"viewBox=\"0 0 24 24\"\n",
              "     width=\"24px\">\n",
              "    <g>\n",
              "        <path d=\"M19 3H5c-1.1 0-2 .9-2 2v14c0 1.1.9 2 2 2h14c1.1 0 2-.9 2-2V5c0-1.1-.9-2-2-2zM9 17H7v-7h2v7zm4 0h-2V7h2v10zm4 0h-2v-4h2v4z\"/>\n",
              "    </g>\n",
              "</svg>\n",
              "  </button>\n",
              "\n",
              "<style>\n",
              "  .colab-df-quickchart {\n",
              "      --bg-color: #E8F0FE;\n",
              "      --fill-color: #1967D2;\n",
              "      --hover-bg-color: #E2EBFA;\n",
              "      --hover-fill-color: #174EA6;\n",
              "      --disabled-fill-color: #AAA;\n",
              "      --disabled-bg-color: #DDD;\n",
              "  }\n",
              "\n",
              "  [theme=dark] .colab-df-quickchart {\n",
              "      --bg-color: #3B4455;\n",
              "      --fill-color: #D2E3FC;\n",
              "      --hover-bg-color: #434B5C;\n",
              "      --hover-fill-color: #FFFFFF;\n",
              "      --disabled-bg-color: #3B4455;\n",
              "      --disabled-fill-color: #666;\n",
              "  }\n",
              "\n",
              "  .colab-df-quickchart {\n",
              "    background-color: var(--bg-color);\n",
              "    border: none;\n",
              "    border-radius: 50%;\n",
              "    cursor: pointer;\n",
              "    display: none;\n",
              "    fill: var(--fill-color);\n",
              "    height: 32px;\n",
              "    padding: 0;\n",
              "    width: 32px;\n",
              "  }\n",
              "\n",
              "  .colab-df-quickchart:hover {\n",
              "    background-color: var(--hover-bg-color);\n",
              "    box-shadow: 0 1px 2px rgba(60, 64, 67, 0.3), 0 1px 3px 1px rgba(60, 64, 67, 0.15);\n",
              "    fill: var(--button-hover-fill-color);\n",
              "  }\n",
              "\n",
              "  .colab-df-quickchart-complete:disabled,\n",
              "  .colab-df-quickchart-complete:disabled:hover {\n",
              "    background-color: var(--disabled-bg-color);\n",
              "    fill: var(--disabled-fill-color);\n",
              "    box-shadow: none;\n",
              "  }\n",
              "\n",
              "  .colab-df-spinner {\n",
              "    border: 2px solid var(--fill-color);\n",
              "    border-color: transparent;\n",
              "    border-bottom-color: var(--fill-color);\n",
              "    animation:\n",
              "      spin 1s steps(1) infinite;\n",
              "  }\n",
              "\n",
              "  @keyframes spin {\n",
              "    0% {\n",
              "      border-color: transparent;\n",
              "      border-bottom-color: var(--fill-color);\n",
              "      border-left-color: var(--fill-color);\n",
              "    }\n",
              "    20% {\n",
              "      border-color: transparent;\n",
              "      border-left-color: var(--fill-color);\n",
              "      border-top-color: var(--fill-color);\n",
              "    }\n",
              "    30% {\n",
              "      border-color: transparent;\n",
              "      border-left-color: var(--fill-color);\n",
              "      border-top-color: var(--fill-color);\n",
              "      border-right-color: var(--fill-color);\n",
              "    }\n",
              "    40% {\n",
              "      border-color: transparent;\n",
              "      border-right-color: var(--fill-color);\n",
              "      border-top-color: var(--fill-color);\n",
              "    }\n",
              "    60% {\n",
              "      border-color: transparent;\n",
              "      border-right-color: var(--fill-color);\n",
              "    }\n",
              "    80% {\n",
              "      border-color: transparent;\n",
              "      border-right-color: var(--fill-color);\n",
              "      border-bottom-color: var(--fill-color);\n",
              "    }\n",
              "    90% {\n",
              "      border-color: transparent;\n",
              "      border-bottom-color: var(--fill-color);\n",
              "    }\n",
              "  }\n",
              "</style>\n",
              "\n",
              "  <script>\n",
              "    async function quickchart(key) {\n",
              "      const quickchartButtonEl =\n",
              "        document.querySelector('#' + key + ' button');\n",
              "      quickchartButtonEl.disabled = true;  // To prevent multiple clicks.\n",
              "      quickchartButtonEl.classList.add('colab-df-spinner');\n",
              "      try {\n",
              "        const charts = await google.colab.kernel.invokeFunction(\n",
              "            'suggestCharts', [key], {});\n",
              "      } catch (error) {\n",
              "        console.error('Error during call to suggestCharts:', error);\n",
              "      }\n",
              "      quickchartButtonEl.classList.remove('colab-df-spinner');\n",
              "      quickchartButtonEl.classList.add('colab-df-quickchart-complete');\n",
              "    }\n",
              "    (() => {\n",
              "      let quickchartButtonEl =\n",
              "        document.querySelector('#df-0efe8e23-1480-4622-a84d-f8cf96de483b button');\n",
              "      quickchartButtonEl.style.display =\n",
              "        google.colab.kernel.accessAllowed ? 'block' : 'none';\n",
              "    })();\n",
              "  </script>\n",
              "</div>\n",
              "    </div>\n",
              "  </div>\n"
            ],
            "application/vnd.google.colaboratory.intrinsic+json": {
              "type": "dataframe",
              "variable_name": "data",
              "summary": "{\n  \"name\": \"data\",\n  \"rows\": 2608,\n  \"fields\": [\n    {\n      \"column\": \"age\",\n      \"properties\": {\n        \"dtype\": \"number\",\n        \"std\": 8,\n        \"min\": 18,\n        \"max\": 56,\n        \"num_unique_values\": 24,\n        \"samples\": [\n          53,\n          28,\n          20\n        ],\n        \"semantic_type\": \"\",\n        \"description\": \"\"\n      }\n    },\n    {\n      \"column\": \"gender\",\n      \"properties\": {\n        \"dtype\": \"number\",\n        \"std\": 0,\n        \"min\": 0,\n        \"max\": 1,\n        \"num_unique_values\": 2,\n        \"samples\": [\n          0,\n          1\n        ],\n        \"semantic_type\": \"\",\n        \"description\": \"\"\n      }\n    },\n    {\n      \"column\": \"height\",\n      \"properties\": {\n        \"dtype\": \"number\",\n        \"std\": 10.174807732296001,\n        \"min\": 143.0,\n        \"max\": 191.0,\n        \"num_unique_values\": 28,\n        \"samples\": [\n          185.0,\n          158.0\n        ],\n        \"semantic_type\": \"\",\n        \"description\": \"\"\n      }\n    },\n    {\n      \"column\": \"weight\",\n      \"properties\": {\n        \"dtype\": \"number\",\n        \"std\": 12.31541972952404,\n        \"min\": 43.0,\n        \"max\": 115.0,\n        \"num_unique_values\": 43,\n        \"samples\": [\n          58.0,\n          90.0\n        ],\n        \"semantic_type\": \"\",\n        \"description\": \"\"\n      }\n    },\n    {\n      \"column\": \"Fitbit.Steps_LE\",\n      \"properties\": {\n        \"dtype\": \"number\",\n        \"std\": 25.343804486952322,\n        \"min\": 1.0,\n        \"max\": 184.0,\n        \"num_unique_values\": 1336,\n        \"samples\": [\n          8.25495557074504,\n          4.93402520385471\n        ],\n        \"semantic_type\": \"\",\n        \"description\": \"\"\n      }\n    },\n    {\n      \"column\": \"Fitbit.Heart_LE\",\n      \"properties\": {\n        \"dtype\": \"number\",\n        \"std\": 29.67069757540612,\n        \"min\": 2.22222222222222,\n        \"max\": 164.0,\n        \"num_unique_values\": 1829,\n        \"samples\": [\n          76.1463059056091,\n          75.8265402563649\n        ],\n        \"semantic_type\": \"\",\n        \"description\": \"\"\n      }\n    },\n    {\n      \"column\": \"Fitbit.Calories_LE\",\n      \"properties\": {\n        \"dtype\": \"number\",\n        \"std\": 32.96055118355167,\n        \"min\": 1.0,\n        \"max\": 97.5,\n        \"num_unique_values\": 100,\n        \"samples\": [\n          86.0,\n          27.0\n        ],\n        \"semantic_type\": \"\",\n        \"description\": \"\"\n      }\n    },\n    {\n      \"column\": \"Fitbit.Distance_LE\",\n      \"properties\": {\n        \"dtype\": \"number\",\n        \"std\": 66.58685602372772,\n        \"min\": 1.0,\n        \"max\": 335.0,\n        \"num_unique_values\": 1373,\n        \"samples\": [\n          15.7866666666667,\n          15.7206477732794\n        ],\n        \"semantic_type\": \"\",\n        \"description\": \"\"\n      }\n    },\n    {\n      \"column\": \"EntropyFitbitHeartPerDay_LE\",\n      \"properties\": {\n        \"dtype\": \"number\",\n        \"std\": 1.1460317313761632,\n        \"min\": 0.0,\n        \"max\": 6.4757334309664,\n        \"num_unique_values\": 30,\n        \"samples\": [\n          6.11436944588676,\n          0.0\n        ],\n        \"semantic_type\": \"\",\n        \"description\": \"\"\n      }\n    },\n    {\n      \"column\": \"EntropyFitbitStepsPerDay_LE\",\n      \"properties\": {\n        \"dtype\": \"number\",\n        \"std\": 1.8485718925048402,\n        \"min\": 0.0,\n        \"max\": 6.4757334309664,\n        \"num_unique_values\": 26,\n        \"samples\": [\n          6.4093909361377,\n          0.106792032375842\n        ],\n        \"semantic_type\": \"\",\n        \"description\": \"\"\n      }\n    },\n    {\n      \"column\": \"RestingFitbitHeartrate_LE\",\n      \"properties\": {\n        \"dtype\": \"number\",\n        \"std\": 29.31512314943336,\n        \"min\": 3.0,\n        \"max\": 155.0,\n        \"num_unique_values\": 41,\n        \"samples\": [\n          139.0,\n          45.3596552570237\n        ],\n        \"semantic_type\": \"\",\n        \"description\": \"\"\n      }\n    },\n    {\n      \"column\": \"CorrelationFitbitHeartrateSteps_LE\",\n      \"properties\": {\n        \"dtype\": \"number\",\n        \"std\": 0.6086501360272748,\n        \"min\": -1.0,\n        \"max\": 1.0,\n        \"num_unique_values\": 355,\n        \"samples\": [\n          -0.853489160363903,\n          0.788716882268147\n        ],\n        \"semantic_type\": \"\",\n        \"description\": \"\"\n      }\n    },\n    {\n      \"column\": \"NormalizedFitbitHeartrate_LE\",\n      \"properties\": {\n        \"dtype\": \"number\",\n        \"std\": 33.28415866348336,\n        \"min\": -76.0,\n        \"max\": 156.319444444444,\n        \"num_unique_values\": 1882,\n        \"samples\": [\n          38.1948768635203,\n          44.7931404482183\n        ],\n        \"semantic_type\": \"\",\n        \"description\": \"\"\n      }\n    },\n    {\n      \"column\": \"FitbitIntensity_LE\",\n      \"properties\": {\n        \"dtype\": \"number\",\n        \"std\": 0.20867489514500517,\n        \"min\": -2.71428571428571,\n        \"max\": 0.873704918032787,\n        \"num_unique_values\": 2393,\n        \"samples\": [\n          0.0087279651378611,\n          0.0004084383001102\n        ],\n        \"semantic_type\": \"\",\n        \"description\": \"\"\n      }\n    },\n    {\n      \"column\": \"SDNormalizedFitbitHR_LE\",\n      \"properties\": {\n        \"dtype\": \"number\",\n        \"std\": 15.274072939436508,\n        \"min\": 0.0,\n        \"max\": 74.4579291138554,\n        \"num_unique_values\": 865,\n        \"samples\": [\n          0.532643366240726,\n          4.99165012672701\n        ],\n        \"semantic_type\": \"\",\n        \"description\": \"\"\n      }\n    },\n    {\n      \"column\": \"FitbitStepsXDistance_LE\",\n      \"properties\": {\n        \"dtype\": \"number\",\n        \"std\": 6215.8466571239005,\n        \"min\": 1.0,\n        \"max\": 51520.0,\n        \"num_unique_values\": 1375,\n        \"samples\": [\n          20.3297942736368,\n          67.2840296229295\n        ],\n        \"semantic_type\": \"\",\n        \"description\": \"\"\n      }\n    },\n    {\n      \"column\": \"activity_trimmed\",\n      \"properties\": {\n        \"dtype\": \"number\",\n        \"std\": 1,\n        \"min\": 0,\n        \"max\": 5,\n        \"num_unique_values\": 6,\n        \"samples\": [\n          0,\n          1\n        ],\n        \"semantic_type\": \"\",\n        \"description\": \"\"\n      }\n    }\n  ]\n}"
            }
          },
          "metadata": {},
          "execution_count": 142
        }
      ],
      "source": [
        "data"
      ]
    },
    {
      "cell_type": "code",
      "source": [
        "data.rename(columns={data.columns[-1]: 'labels'}, inplace=True)"
      ],
      "metadata": {
        "id": "1KoOfPG0OFvZ"
      },
      "execution_count": 14,
      "outputs": []
    },
    {
      "cell_type": "markdown",
      "source": [
        "### PCA"
      ],
      "metadata": {
        "id": "eJt76ixMOqOd"
      }
    },
    {
      "cell_type": "code",
      "execution_count": 15,
      "metadata": {
        "id": "y3KG9VVgWuJV"
      },
      "outputs": [],
      "source": [
        "import numpy as np\n",
        "from sklearn.decomposition import PCA\n",
        "X = data.drop('labels',axis=1).to_numpy()\n",
        "pca = PCA(n_components=3)\n",
        "pca.fit(X)\n",
        "# print(pca.explained_variance_ratio_)\n",
        "l = pca.explained_variance_ratio_\n",
        "# print(pca.singular_values_)\n",
        "Y = pca.transform(X)"
      ]
    },
    {
      "cell_type": "code",
      "execution_count": 16,
      "metadata": {
        "colab": {
          "base_uri": "https://localhost:8080/"
        },
        "id": "Rtb7lv-IXf1s",
        "outputId": "c26206da-8439-4b8f-b2ec-4fef47fbe77b"
      },
      "outputs": [
        {
          "output_type": "execute_result",
          "data": {
            "text/plain": [
              "0.9999309401041944"
            ]
          },
          "metadata": {},
          "execution_count": 16
        }
      ],
      "source": [
        "l.sum()"
      ]
    },
    {
      "cell_type": "code",
      "source": [
        "Y"
      ],
      "metadata": {
        "id": "CspqRx_dA2bH",
        "outputId": "5e927899-1c32-46c7-ecd0-8c8ed969b03f",
        "colab": {
          "base_uri": "https://localhost:8080/"
        }
      },
      "execution_count": 18,
      "outputs": [
        {
          "output_type": "execute_result",
          "data": {
            "text/plain": [
              "array([[-1360.86185671,   -44.48029423,     7.32059529],\n",
              "       [-1360.85985334,   -44.44928679,     8.35705056],\n",
              "       [-1360.86729444,   -44.56445728,     4.50735954],\n",
              "       ...,\n",
              "       [-1360.82143944,   -14.09461073,   -26.37193916],\n",
              "       [-1360.82143944,   -14.09461073,   -26.37193916],\n",
              "       [-1360.82143944,   -14.09461073,   -26.37193916]])"
            ]
          },
          "metadata": {},
          "execution_count": 18
        }
      ]
    },
    {
      "cell_type": "code",
      "source": [
        "H = pd.DataFrame(Y)\n",
        "H.columns = ['dim-1','dim-2','dim-3']\n",
        "H['labels'] = data['labels']"
      ],
      "metadata": {
        "id": "v1TJ6yr1A57D"
      },
      "execution_count": 26,
      "outputs": []
    },
    {
      "cell_type": "code",
      "source": [
        "H"
      ],
      "metadata": {
        "id": "oGUowR4vBhis",
        "outputId": "8e3440a6-157f-4406-8a1e-71fa598ede47",
        "colab": {
          "base_uri": "https://localhost:8080/",
          "height": 424
        }
      },
      "execution_count": 24,
      "outputs": [
        {
          "output_type": "execute_result",
          "data": {
            "text/plain": [
              "            dim-1     dim-12     dim-13          labels\n",
              "0    -1360.861857 -44.480294   7.320595           Lying\n",
              "1    -1360.859853 -44.449287   8.357051           Lying\n",
              "2    -1360.867294 -44.564457   4.507360           Lying\n",
              "3    -1360.869216 -44.594199   3.513209           Lying\n",
              "4    -1360.854520 -44.248274  10.822403  Self Pace walk\n",
              "...           ...        ...        ...             ...\n",
              "2603 -1360.822256 -14.204409 -26.518223  Running 7 METs\n",
              "2604 -1360.821439 -14.094611 -26.371939  Running 7 METs\n",
              "2605 -1360.821439 -14.094611 -26.371939  Running 7 METs\n",
              "2606 -1360.821439 -14.094611 -26.371939  Running 7 METs\n",
              "2607 -1360.821439 -14.094611 -26.371939  Running 7 METs\n",
              "\n",
              "[2608 rows x 4 columns]"
            ],
            "text/html": [
              "\n",
              "  <div id=\"df-533f8862-e75d-4fbd-8552-d12fe9b8f41c\" class=\"colab-df-container\">\n",
              "    <div>\n",
              "<style scoped>\n",
              "    .dataframe tbody tr th:only-of-type {\n",
              "        vertical-align: middle;\n",
              "    }\n",
              "\n",
              "    .dataframe tbody tr th {\n",
              "        vertical-align: top;\n",
              "    }\n",
              "\n",
              "    .dataframe thead th {\n",
              "        text-align: right;\n",
              "    }\n",
              "</style>\n",
              "<table border=\"1\" class=\"dataframe\">\n",
              "  <thead>\n",
              "    <tr style=\"text-align: right;\">\n",
              "      <th></th>\n",
              "      <th>dim-1</th>\n",
              "      <th>dim-12</th>\n",
              "      <th>dim-13</th>\n",
              "      <th>labels</th>\n",
              "    </tr>\n",
              "  </thead>\n",
              "  <tbody>\n",
              "    <tr>\n",
              "      <th>0</th>\n",
              "      <td>-1360.861857</td>\n",
              "      <td>-44.480294</td>\n",
              "      <td>7.320595</td>\n",
              "      <td>Lying</td>\n",
              "    </tr>\n",
              "    <tr>\n",
              "      <th>1</th>\n",
              "      <td>-1360.859853</td>\n",
              "      <td>-44.449287</td>\n",
              "      <td>8.357051</td>\n",
              "      <td>Lying</td>\n",
              "    </tr>\n",
              "    <tr>\n",
              "      <th>2</th>\n",
              "      <td>-1360.867294</td>\n",
              "      <td>-44.564457</td>\n",
              "      <td>4.507360</td>\n",
              "      <td>Lying</td>\n",
              "    </tr>\n",
              "    <tr>\n",
              "      <th>3</th>\n",
              "      <td>-1360.869216</td>\n",
              "      <td>-44.594199</td>\n",
              "      <td>3.513209</td>\n",
              "      <td>Lying</td>\n",
              "    </tr>\n",
              "    <tr>\n",
              "      <th>4</th>\n",
              "      <td>-1360.854520</td>\n",
              "      <td>-44.248274</td>\n",
              "      <td>10.822403</td>\n",
              "      <td>Self Pace walk</td>\n",
              "    </tr>\n",
              "    <tr>\n",
              "      <th>...</th>\n",
              "      <td>...</td>\n",
              "      <td>...</td>\n",
              "      <td>...</td>\n",
              "      <td>...</td>\n",
              "    </tr>\n",
              "    <tr>\n",
              "      <th>2603</th>\n",
              "      <td>-1360.822256</td>\n",
              "      <td>-14.204409</td>\n",
              "      <td>-26.518223</td>\n",
              "      <td>Running 7 METs</td>\n",
              "    </tr>\n",
              "    <tr>\n",
              "      <th>2604</th>\n",
              "      <td>-1360.821439</td>\n",
              "      <td>-14.094611</td>\n",
              "      <td>-26.371939</td>\n",
              "      <td>Running 7 METs</td>\n",
              "    </tr>\n",
              "    <tr>\n",
              "      <th>2605</th>\n",
              "      <td>-1360.821439</td>\n",
              "      <td>-14.094611</td>\n",
              "      <td>-26.371939</td>\n",
              "      <td>Running 7 METs</td>\n",
              "    </tr>\n",
              "    <tr>\n",
              "      <th>2606</th>\n",
              "      <td>-1360.821439</td>\n",
              "      <td>-14.094611</td>\n",
              "      <td>-26.371939</td>\n",
              "      <td>Running 7 METs</td>\n",
              "    </tr>\n",
              "    <tr>\n",
              "      <th>2607</th>\n",
              "      <td>-1360.821439</td>\n",
              "      <td>-14.094611</td>\n",
              "      <td>-26.371939</td>\n",
              "      <td>Running 7 METs</td>\n",
              "    </tr>\n",
              "  </tbody>\n",
              "</table>\n",
              "<p>2608 rows × 4 columns</p>\n",
              "</div>\n",
              "    <div class=\"colab-df-buttons\">\n",
              "\n",
              "  <div class=\"colab-df-container\">\n",
              "    <button class=\"colab-df-convert\" onclick=\"convertToInteractive('df-533f8862-e75d-4fbd-8552-d12fe9b8f41c')\"\n",
              "            title=\"Convert this dataframe to an interactive table.\"\n",
              "            style=\"display:none;\">\n",
              "\n",
              "  <svg xmlns=\"http://www.w3.org/2000/svg\" height=\"24px\" viewBox=\"0 -960 960 960\">\n",
              "    <path d=\"M120-120v-720h720v720H120Zm60-500h600v-160H180v160Zm220 220h160v-160H400v160Zm0 220h160v-160H400v160ZM180-400h160v-160H180v160Zm440 0h160v-160H620v160ZM180-180h160v-160H180v160Zm440 0h160v-160H620v160Z\"/>\n",
              "  </svg>\n",
              "    </button>\n",
              "\n",
              "  <style>\n",
              "    .colab-df-container {\n",
              "      display:flex;\n",
              "      gap: 12px;\n",
              "    }\n",
              "\n",
              "    .colab-df-convert {\n",
              "      background-color: #E8F0FE;\n",
              "      border: none;\n",
              "      border-radius: 50%;\n",
              "      cursor: pointer;\n",
              "      display: none;\n",
              "      fill: #1967D2;\n",
              "      height: 32px;\n",
              "      padding: 0 0 0 0;\n",
              "      width: 32px;\n",
              "    }\n",
              "\n",
              "    .colab-df-convert:hover {\n",
              "      background-color: #E2EBFA;\n",
              "      box-shadow: 0px 1px 2px rgba(60, 64, 67, 0.3), 0px 1px 3px 1px rgba(60, 64, 67, 0.15);\n",
              "      fill: #174EA6;\n",
              "    }\n",
              "\n",
              "    .colab-df-buttons div {\n",
              "      margin-bottom: 4px;\n",
              "    }\n",
              "\n",
              "    [theme=dark] .colab-df-convert {\n",
              "      background-color: #3B4455;\n",
              "      fill: #D2E3FC;\n",
              "    }\n",
              "\n",
              "    [theme=dark] .colab-df-convert:hover {\n",
              "      background-color: #434B5C;\n",
              "      box-shadow: 0px 1px 3px 1px rgba(0, 0, 0, 0.15);\n",
              "      filter: drop-shadow(0px 1px 2px rgba(0, 0, 0, 0.3));\n",
              "      fill: #FFFFFF;\n",
              "    }\n",
              "  </style>\n",
              "\n",
              "    <script>\n",
              "      const buttonEl =\n",
              "        document.querySelector('#df-533f8862-e75d-4fbd-8552-d12fe9b8f41c button.colab-df-convert');\n",
              "      buttonEl.style.display =\n",
              "        google.colab.kernel.accessAllowed ? 'block' : 'none';\n",
              "\n",
              "      async function convertToInteractive(key) {\n",
              "        const element = document.querySelector('#df-533f8862-e75d-4fbd-8552-d12fe9b8f41c');\n",
              "        const dataTable =\n",
              "          await google.colab.kernel.invokeFunction('convertToInteractive',\n",
              "                                                    [key], {});\n",
              "        if (!dataTable) return;\n",
              "\n",
              "        const docLinkHtml = 'Like what you see? Visit the ' +\n",
              "          '<a target=\"_blank\" href=https://colab.research.google.com/notebooks/data_table.ipynb>data table notebook</a>'\n",
              "          + ' to learn more about interactive tables.';\n",
              "        element.innerHTML = '';\n",
              "        dataTable['output_type'] = 'display_data';\n",
              "        await google.colab.output.renderOutput(dataTable, element);\n",
              "        const docLink = document.createElement('div');\n",
              "        docLink.innerHTML = docLinkHtml;\n",
              "        element.appendChild(docLink);\n",
              "      }\n",
              "    </script>\n",
              "  </div>\n",
              "\n",
              "\n",
              "<div id=\"df-507cd7e3-465a-40ed-8567-fb12ecb46c6c\">\n",
              "  <button class=\"colab-df-quickchart\" onclick=\"quickchart('df-507cd7e3-465a-40ed-8567-fb12ecb46c6c')\"\n",
              "            title=\"Suggest charts\"\n",
              "            style=\"display:none;\">\n",
              "\n",
              "<svg xmlns=\"http://www.w3.org/2000/svg\" height=\"24px\"viewBox=\"0 0 24 24\"\n",
              "     width=\"24px\">\n",
              "    <g>\n",
              "        <path d=\"M19 3H5c-1.1 0-2 .9-2 2v14c0 1.1.9 2 2 2h14c1.1 0 2-.9 2-2V5c0-1.1-.9-2-2-2zM9 17H7v-7h2v7zm4 0h-2V7h2v10zm4 0h-2v-4h2v4z\"/>\n",
              "    </g>\n",
              "</svg>\n",
              "  </button>\n",
              "\n",
              "<style>\n",
              "  .colab-df-quickchart {\n",
              "      --bg-color: #E8F0FE;\n",
              "      --fill-color: #1967D2;\n",
              "      --hover-bg-color: #E2EBFA;\n",
              "      --hover-fill-color: #174EA6;\n",
              "      --disabled-fill-color: #AAA;\n",
              "      --disabled-bg-color: #DDD;\n",
              "  }\n",
              "\n",
              "  [theme=dark] .colab-df-quickchart {\n",
              "      --bg-color: #3B4455;\n",
              "      --fill-color: #D2E3FC;\n",
              "      --hover-bg-color: #434B5C;\n",
              "      --hover-fill-color: #FFFFFF;\n",
              "      --disabled-bg-color: #3B4455;\n",
              "      --disabled-fill-color: #666;\n",
              "  }\n",
              "\n",
              "  .colab-df-quickchart {\n",
              "    background-color: var(--bg-color);\n",
              "    border: none;\n",
              "    border-radius: 50%;\n",
              "    cursor: pointer;\n",
              "    display: none;\n",
              "    fill: var(--fill-color);\n",
              "    height: 32px;\n",
              "    padding: 0;\n",
              "    width: 32px;\n",
              "  }\n",
              "\n",
              "  .colab-df-quickchart:hover {\n",
              "    background-color: var(--hover-bg-color);\n",
              "    box-shadow: 0 1px 2px rgba(60, 64, 67, 0.3), 0 1px 3px 1px rgba(60, 64, 67, 0.15);\n",
              "    fill: var(--button-hover-fill-color);\n",
              "  }\n",
              "\n",
              "  .colab-df-quickchart-complete:disabled,\n",
              "  .colab-df-quickchart-complete:disabled:hover {\n",
              "    background-color: var(--disabled-bg-color);\n",
              "    fill: var(--disabled-fill-color);\n",
              "    box-shadow: none;\n",
              "  }\n",
              "\n",
              "  .colab-df-spinner {\n",
              "    border: 2px solid var(--fill-color);\n",
              "    border-color: transparent;\n",
              "    border-bottom-color: var(--fill-color);\n",
              "    animation:\n",
              "      spin 1s steps(1) infinite;\n",
              "  }\n",
              "\n",
              "  @keyframes spin {\n",
              "    0% {\n",
              "      border-color: transparent;\n",
              "      border-bottom-color: var(--fill-color);\n",
              "      border-left-color: var(--fill-color);\n",
              "    }\n",
              "    20% {\n",
              "      border-color: transparent;\n",
              "      border-left-color: var(--fill-color);\n",
              "      border-top-color: var(--fill-color);\n",
              "    }\n",
              "    30% {\n",
              "      border-color: transparent;\n",
              "      border-left-color: var(--fill-color);\n",
              "      border-top-color: var(--fill-color);\n",
              "      border-right-color: var(--fill-color);\n",
              "    }\n",
              "    40% {\n",
              "      border-color: transparent;\n",
              "      border-right-color: var(--fill-color);\n",
              "      border-top-color: var(--fill-color);\n",
              "    }\n",
              "    60% {\n",
              "      border-color: transparent;\n",
              "      border-right-color: var(--fill-color);\n",
              "    }\n",
              "    80% {\n",
              "      border-color: transparent;\n",
              "      border-right-color: var(--fill-color);\n",
              "      border-bottom-color: var(--fill-color);\n",
              "    }\n",
              "    90% {\n",
              "      border-color: transparent;\n",
              "      border-bottom-color: var(--fill-color);\n",
              "    }\n",
              "  }\n",
              "</style>\n",
              "\n",
              "  <script>\n",
              "    async function quickchart(key) {\n",
              "      const quickchartButtonEl =\n",
              "        document.querySelector('#' + key + ' button');\n",
              "      quickchartButtonEl.disabled = true;  // To prevent multiple clicks.\n",
              "      quickchartButtonEl.classList.add('colab-df-spinner');\n",
              "      try {\n",
              "        const charts = await google.colab.kernel.invokeFunction(\n",
              "            'suggestCharts', [key], {});\n",
              "      } catch (error) {\n",
              "        console.error('Error during call to suggestCharts:', error);\n",
              "      }\n",
              "      quickchartButtonEl.classList.remove('colab-df-spinner');\n",
              "      quickchartButtonEl.classList.add('colab-df-quickchart-complete');\n",
              "    }\n",
              "    (() => {\n",
              "      let quickchartButtonEl =\n",
              "        document.querySelector('#df-507cd7e3-465a-40ed-8567-fb12ecb46c6c button');\n",
              "      quickchartButtonEl.style.display =\n",
              "        google.colab.kernel.accessAllowed ? 'block' : 'none';\n",
              "    })();\n",
              "  </script>\n",
              "</div>\n",
              "    </div>\n",
              "  </div>\n"
            ],
            "application/vnd.google.colaboratory.intrinsic+json": {
              "type": "dataframe",
              "variable_name": "H",
              "summary": "{\n  \"name\": \"H\",\n  \"rows\": 2608,\n  \"fields\": [\n    {\n      \"column\": \"dim-1\",\n      \"properties\": {\n        \"dtype\": \"number\",\n        \"std\": 6216.063670778249,\n        \"min\": -1361.0268679269293,\n        \"max\": 50159.49013212718,\n        \"num_unique_values\": 2598,\n        \"samples\": [\n          -1199.115413523141,\n          -1304.6815344828613,\n          -1203.3751538217819\n        ],\n        \"semantic_type\": \"\",\n        \"description\": \"\"\n      }\n    },\n    {\n      \"column\": \"dim-12\",\n      \"properties\": {\n        \"dtype\": \"number\",\n        \"std\": 52.19535735890825,\n        \"min\": -102.1492543453917,\n        \"max\": 268.7888690114986,\n        \"num_unique_values\": 2598,\n        \"samples\": [\n          -15.329321261938482,\n          -10.84808097786618,\n          0.30179605319340563\n        ],\n        \"semantic_type\": \"\",\n        \"description\": \"\"\n      }\n    },\n    {\n      \"column\": \"dim-13\",\n      \"properties\": {\n        \"dtype\": \"number\",\n        \"std\": 38.5843313984257,\n        \"min\": -155.32516724779717,\n        \"max\": 175.36828672018925,\n        \"num_unique_values\": 2598,\n        \"samples\": [\n          -13.618283508695939,\n          -13.315131428869018,\n          28.405776585339712\n        ],\n        \"semantic_type\": \"\",\n        \"description\": \"\"\n      }\n    },\n    {\n      \"column\": \"labels\",\n      \"properties\": {\n        \"dtype\": \"category\",\n        \"num_unique_values\": 6,\n        \"samples\": [\n          \"Lying\",\n          \"Self Pace walk\",\n          \"Running 7 METs\"\n        ],\n        \"semantic_type\": \"\",\n        \"description\": \"\"\n      }\n    }\n  ]\n}"
            }
          },
          "metadata": {},
          "execution_count": 24
        }
      ]
    },
    {
      "cell_type": "code",
      "source": [
        "sns.relplot(data=H,x='dim-1',y='dim-2',hue='labels')\n",
        "plt.title('PCA-correlation')\n",
        "plt.savefig(f'{path}PCA_correlation.png',bbox_inches='tight')\n",
        "H.to_csv(f'{path}PCA_correlation.csv',index=False)\n"
      ],
      "metadata": {
        "id": "msTX7T9LBL3d",
        "outputId": "d4959815-8d1f-42ff-b262-19b5a9393d87",
        "colab": {
          "base_uri": "https://localhost:8080/",
          "height": 529
        }
      },
      "execution_count": 29,
      "outputs": [
        {
          "output_type": "display_data",
          "data": {
            "text/plain": [
              "<Figure size 658.375x500 with 1 Axes>"
            ],
            "image/png": "[encoded data removed]"
          },
          "metadata": {}
        }
      ]
    },
    {
      "cell_type": "code",
      "execution_count": null,
      "metadata": {
        "colab": {
          "base_uri": "https://localhost:8080/"
        },
        "id": "Gycz2J65XmU-",
        "outputId": "b6535ac2-768d-4d9a-cfdc-b5dd84b38ac0"
      },
      "outputs": [
        {
          "output_type": "execute_result",
          "data": {
            "text/plain": [
              "0.8181701163043739"
            ]
          },
          "metadata": {},
          "execution_count": 27
        }
      ],
      "source": [
        "# l[0:20].sum()"
      ]
    },
    {
      "cell_type": "code",
      "source": [
        "# X.columns = [f'{i}' for i in range(X.shape[1]-1)]+['labels']"
      ],
      "metadata": {
        "id": "od2DtGVoWeT_"
      },
      "execution_count": null,
      "outputs": []
    },
    {
      "cell_type": "code",
      "source": [
        "# X.drop('labels',axis=1,inplace=True)"
      ],
      "metadata": {
        "id": "5z_cOWcfXOqX"
      },
      "execution_count": null,
      "outputs": []
    },
    {
      "cell_type": "code",
      "source": [
        "X_train, X_test, y_train, y_test = train_test_split(\n",
        "    Y, data2['labels'], test_size=0.25, random_state=42)\n",
        "X_train.shape,y_train.shape,X_test.shape,y_test.shape"
      ],
      "metadata": {
        "colab": {
          "base_uri": "https://localhost:8080/",
          "height": 184
        },
        "id": "ygSH7LtDXC1M",
        "outputId": "92b5c93f-4491-4168-8186-386ba02b2031"
      },
      "execution_count": 35,
      "outputs": [
        {
          "output_type": "error",
          "ename": "NameError",
          "evalue": "name 'data2' is not defined",
          "traceback": [
            "\u001b[0;31m---------------------------------------------------------------------------\u001b[0m",
            "\u001b[0;31mNameError\u001b[0m                                 Traceback (most recent call last)",
            "\u001b[0;32m<ipython-input-35-52cf3dd4e21d>\u001b[0m in \u001b[0;36m<cell line: 1>\u001b[0;34m()\u001b[0m\n\u001b[1;32m      1\u001b[0m X_train, X_test, y_train, y_test = train_test_split(\n\u001b[0;32m----> 2\u001b[0;31m     Y, data2['labels'], test_size=0.25, random_state=42)\n\u001b[0m\u001b[1;32m      3\u001b[0m \u001b[0mX_train\u001b[0m\u001b[0;34m.\u001b[0m\u001b[0mshape\u001b[0m\u001b[0;34m,\u001b[0m\u001b[0my_train\u001b[0m\u001b[0;34m.\u001b[0m\u001b[0mshape\u001b[0m\u001b[0;34m,\u001b[0m\u001b[0mX_test\u001b[0m\u001b[0;34m.\u001b[0m\u001b[0mshape\u001b[0m\u001b[0;34m,\u001b[0m\u001b[0my_test\u001b[0m\u001b[0;34m.\u001b[0m\u001b[0mshape\u001b[0m\u001b[0;34m\u001b[0m\u001b[0;34m\u001b[0m\u001b[0m\n",
            "\u001b[0;31mNameError\u001b[0m: name 'data2' is not defined"
          ]
        }
      ]
    },
    {
      "cell_type": "code",
      "source": [
        "x1,y1,x2,y2 = X_train, y_train, X_test, y_test"
      ],
      "metadata": {
        "id": "0QOMPTc_XerW"
      },
      "execution_count": null,
      "outputs": []
    },
    {
      "cell_type": "markdown",
      "source": [],
      "metadata": {
        "id": "rK442cotUnF6"
      }
    },
    {
      "cell_type": "code",
      "source": [
        "models = [HistGradientBoostingClassifier,XGBClassifier,RandomForestClassifier,DecisionTreeClassifier]\n",
        "len(models)"
      ],
      "metadata": {
        "colab": {
          "base_uri": "https://localhost:8080/"
        },
        "id": "EpGLSmpzFmns",
        "outputId": "97573d35-d461-4ec2-c922-270afabd3fd2"
      },
      "execution_count": null,
      "outputs": [
        {
          "output_type": "execute_result",
          "data": {
            "text/plain": [
              "4"
            ]
          },
          "metadata": {},
          "execution_count": 32
        }
      ]
    },
    {
      "cell_type": "code",
      "execution_count": null,
      "metadata": {
        "colab": {
          "base_uri": "https://localhost:8080/"
        },
        "id": "62hR0rcKsoYj",
        "outputId": "f267cd21-680f-4f93-b9a5-3338f3ceaa70"
      },
      "outputs": [
        {
          "output_type": "stream",
          "name": "stdout",
          "text": [
            "0.8429549360617061\n",
            "0.8462349345666675\n",
            "0.849771155071771\n",
            "0.7687577853246321\n"
          ]
        }
      ],
      "source": [
        "for model in models:\n",
        "    try:\n",
        "        clf = model(random_state=8)\n",
        "    except:\n",
        "        clf = model()\n",
        "\n",
        "\n",
        "    clf.fit(x1,y1)\n",
        "    y2_ = clf.predict(x2)\n",
        "    print(f1_score(y2, y2_,average='macro'))"
      ]
    },
    {
      "cell_type": "markdown",
      "source": [
        "### resume"
      ],
      "metadata": {
        "id": "bCK4is-1OxXZ"
      }
    },
    {
      "cell_type": "code",
      "source": [],
      "metadata": {
        "id": "L474uEDIU3DT"
      },
      "execution_count": null,
      "outputs": []
    },
    {
      "cell_type": "code",
      "source": [
        "X_train, X_test, y_train, y_test = train_test_split(\n",
        "    data.drop('labels',axis=1), data['labels'], test_size=0.25, random_state=42)\n",
        "X_train.shape,y_train.shape,X_test.shape,y_test.shape"
      ],
      "metadata": {
        "colab": {
          "base_uri": "https://localhost:8080/"
        },
        "outputId": "283b4a82-c1e6-4fa0-cbb4-1531dc76adcd",
        "id": "8aGNpcA2PKok"
      },
      "execution_count": 36,
      "outputs": [
        {
          "output_type": "execute_result",
          "data": {
            "text/plain": [
              "((1956, 16), (1956,), (652, 16), (652,))"
            ]
          },
          "metadata": {},
          "execution_count": 36
        }
      ]
    },
    {
      "cell_type": "code",
      "source": [
        "x1,y1,x2,y2 = X_train, y_train, X_test, y_test"
      ],
      "metadata": {
        "id": "ZjkbxCxjPKom"
      },
      "execution_count": 37,
      "outputs": []
    },
    {
      "cell_type": "code",
      "source": [
        "models = [HistGradientBoostingClassifier,XGBClassifier,RandomForestClassifier,DecisionTreeClassifier]\n",
        "len(models)"
      ],
      "metadata": {
        "colab": {
          "base_uri": "https://localhost:8080/"
        },
        "id": "tyvLxja-PO42",
        "outputId": "1fd61dcf-36cd-4b6c-ee78-856cf0eeb34d"
      },
      "execution_count": 38,
      "outputs": [
        {
          "output_type": "execute_result",
          "data": {
            "text/plain": [
              "4"
            ]
          },
          "metadata": {},
          "execution_count": 38
        }
      ]
    },
    {
      "cell_type": "code",
      "execution_count": 39,
      "metadata": {
        "colab": {
          "base_uri": "https://localhost:8080/",
          "height": 268
        },
        "id": "asOcD8oB5xsR",
        "outputId": "1c54492b-e27c-4ff6-d6ae-28a1edb11c26"
      },
      "outputs": [
        {
          "output_type": "stream",
          "name": "stdout",
          "text": [
            "[0.91353169 0.         0.         0.        ]\n",
            "[0.91353169 0.90477864 0.         0.        ]\n",
            "[0.91353169 0.90477864 0.91274046 0.        ]\n",
            "[0.91353169 0.90477864 0.91274046 0.85886817]\n"
          ]
        },
        {
          "output_type": "execute_result",
          "data": {
            "text/plain": [
              "   HistGradientBoostingClassifier  XGBClassifier  RandomForestClassifier  \\\n",
              "0                        0.914110       0.904908                0.914110   \n",
              "1                        0.911680       0.904031                0.913944   \n",
              "2                        0.916630       0.906140                0.913246   \n",
              "3                        0.913532       0.904779                0.912740   \n",
              "\n",
              "   DecisionTreeClassifier    metrics  \n",
              "0                0.860429   Accuracy  \n",
              "1                0.859174  Precision  \n",
              "2                0.859797     Recall  \n",
              "3                0.858868         F1  "
            ],
            "text/html": [
              "\n",
              "  <div id=\"df-746f3441-4e0c-4159-9bc5-706f4d347c7f\" class=\"colab-df-container\">\n",
              "    <div>\n",
              "<style scoped>\n",
              "    .dataframe tbody tr th:only-of-type {\n",
              "        vertical-align: middle;\n",
              "    }\n",
              "\n",
              "    .dataframe tbody tr th {\n",
              "        vertical-align: top;\n",
              "    }\n",
              "\n",
              "    .dataframe thead th {\n",
              "        text-align: right;\n",
              "    }\n",
              "</style>\n",
              "<table border=\"1\" class=\"dataframe\">\n",
              "  <thead>\n",
              "    <tr style=\"text-align: right;\">\n",
              "      <th></th>\n",
              "      <th>HistGradientBoostingClassifier</th>\n",
              "      <th>XGBClassifier</th>\n",
              "      <th>RandomForestClassifier</th>\n",
              "      <th>DecisionTreeClassifier</th>\n",
              "      <th>metrics</th>\n",
              "    </tr>\n",
              "  </thead>\n",
              "  <tbody>\n",
              "    <tr>\n",
              "      <th>0</th>\n",
              "      <td>0.914110</td>\n",
              "      <td>0.904908</td>\n",
              "      <td>0.914110</td>\n",
              "      <td>0.860429</td>\n",
              "      <td>Accuracy</td>\n",
              "    </tr>\n",
              "    <tr>\n",
              "      <th>1</th>\n",
              "      <td>0.911680</td>\n",
              "      <td>0.904031</td>\n",
              "      <td>0.913944</td>\n",
              "      <td>0.859174</td>\n",
              "      <td>Precision</td>\n",
              "    </tr>\n",
              "    <tr>\n",
              "      <th>2</th>\n",
              "      <td>0.916630</td>\n",
              "      <td>0.906140</td>\n",
              "      <td>0.913246</td>\n",
              "      <td>0.859797</td>\n",
              "      <td>Recall</td>\n",
              "    </tr>\n",
              "    <tr>\n",
              "      <th>3</th>\n",
              "      <td>0.913532</td>\n",
              "      <td>0.904779</td>\n",
              "      <td>0.912740</td>\n",
              "      <td>0.858868</td>\n",
              "      <td>F1</td>\n",
              "    </tr>\n",
              "  </tbody>\n",
              "</table>\n",
              "</div>\n",
              "    <div class=\"colab-df-buttons\">\n",
              "\n",
              "  <div class=\"colab-df-container\">\n",
              "    <button class=\"colab-df-convert\" onclick=\"convertToInteractive('df-746f3441-4e0c-4159-9bc5-706f4d347c7f')\"\n",
              "            title=\"Convert this dataframe to an interactive table.\"\n",
              "            style=\"display:none;\">\n",
              "\n",
              "  <svg xmlns=\"http://www.w3.org/2000/svg\" height=\"24px\" viewBox=\"0 -960 960 960\">\n",
              "    <path d=\"M120-120v-720h720v720H120Zm60-500h600v-160H180v160Zm220 220h160v-160H400v160Zm0 220h160v-160H400v160ZM180-400h160v-160H180v160Zm440 0h160v-160H620v160ZM180-180h160v-160H180v160Zm440 0h160v-160H620v160Z\"/>\n",
              "  </svg>\n",
              "    </button>\n",
              "\n",
              "  <style>\n",
              "    .colab-df-container {\n",
              "      display:flex;\n",
              "      gap: 12px;\n",
              "    }\n",
              "\n",
              "    .colab-df-convert {\n",
              "      background-color: #E8F0FE;\n",
              "      border: none;\n",
              "      border-radius: 50%;\n",
              "      cursor: pointer;\n",
              "      display: none;\n",
              "      fill: #1967D2;\n",
              "      height: 32px;\n",
              "      padding: 0 0 0 0;\n",
              "      width: 32px;\n",
              "    }\n",
              "\n",
              "    .colab-df-convert:hover {\n",
              "      background-color: #E2EBFA;\n",
              "      box-shadow: 0px 1px 2px rgba(60, 64, 67, 0.3), 0px 1px 3px 1px rgba(60, 64, 67, 0.15);\n",
              "      fill: #174EA6;\n",
              "    }\n",
              "\n",
              "    .colab-df-buttons div {\n",
              "      margin-bottom: 4px;\n",
              "    }\n",
              "\n",
              "    [theme=dark] .colab-df-convert {\n",
              "      background-color: #3B4455;\n",
              "      fill: #D2E3FC;\n",
              "    }\n",
              "\n",
              "    [theme=dark] .colab-df-convert:hover {\n",
              "      background-color: #434B5C;\n",
              "      box-shadow: 0px 1px 3px 1px rgba(0, 0, 0, 0.15);\n",
              "      filter: drop-shadow(0px 1px 2px rgba(0, 0, 0, 0.3));\n",
              "      fill: #FFFFFF;\n",
              "    }\n",
              "  </style>\n",
              "\n",
              "    <script>\n",
              "      const buttonEl =\n",
              "        document.querySelector('#df-746f3441-4e0c-4159-9bc5-706f4d347c7f button.colab-df-convert');\n",
              "      buttonEl.style.display =\n",
              "        google.colab.kernel.accessAllowed ? 'block' : 'none';\n",
              "\n",
              "      async function convertToInteractive(key) {\n",
              "        const element = document.querySelector('#df-746f3441-4e0c-4159-9bc5-706f4d347c7f');\n",
              "        const dataTable =\n",
              "          await google.colab.kernel.invokeFunction('convertToInteractive',\n",
              "                                                    [key], {});\n",
              "        if (!dataTable) return;\n",
              "\n",
              "        const docLinkHtml = 'Like what you see? Visit the ' +\n",
              "          '<a target=\"_blank\" href=https://colab.research.google.com/notebooks/data_table.ipynb>data table notebook</a>'\n",
              "          + ' to learn more about interactive tables.';\n",
              "        element.innerHTML = '';\n",
              "        dataTable['output_type'] = 'display_data';\n",
              "        await google.colab.output.renderOutput(dataTable, element);\n",
              "        const docLink = document.createElement('div');\n",
              "        docLink.innerHTML = docLinkHtml;\n",
              "        element.appendChild(docLink);\n",
              "      }\n",
              "    </script>\n",
              "  </div>\n",
              "\n",
              "\n",
              "<div id=\"df-576b5bd5-6f80-4bb9-9bd8-97a463d1610c\">\n",
              "  <button class=\"colab-df-quickchart\" onclick=\"quickchart('df-576b5bd5-6f80-4bb9-9bd8-97a463d1610c')\"\n",
              "            title=\"Suggest charts\"\n",
              "            style=\"display:none;\">\n",
              "\n",
              "<svg xmlns=\"http://www.w3.org/2000/svg\" height=\"24px\"viewBox=\"0 0 24 24\"\n",
              "     width=\"24px\">\n",
              "    <g>\n",
              "        <path d=\"M19 3H5c-1.1 0-2 .9-2 2v14c0 1.1.9 2 2 2h14c1.1 0 2-.9 2-2V5c0-1.1-.9-2-2-2zM9 17H7v-7h2v7zm4 0h-2V7h2v10zm4 0h-2v-4h2v4z\"/>\n",
              "    </g>\n",
              "</svg>\n",
              "  </button>\n",
              "\n",
              "<style>\n",
              "  .colab-df-quickchart {\n",
              "      --bg-color: #E8F0FE;\n",
              "      --fill-color: #1967D2;\n",
              "      --hover-bg-color: #E2EBFA;\n",
              "      --hover-fill-color: #174EA6;\n",
              "      --disabled-fill-color: #AAA;\n",
              "      --disabled-bg-color: #DDD;\n",
              "  }\n",
              "\n",
              "  [theme=dark] .colab-df-quickchart {\n",
              "      --bg-color: #3B4455;\n",
              "      --fill-color: #D2E3FC;\n",
              "      --hover-bg-color: #434B5C;\n",
              "      --hover-fill-color: #FFFFFF;\n",
              "      --disabled-bg-color: #3B4455;\n",
              "      --disabled-fill-color: #666;\n",
              "  }\n",
              "\n",
              "  .colab-df-quickchart {\n",
              "    background-color: var(--bg-color);\n",
              "    border: none;\n",
              "    border-radius: 50%;\n",
              "    cursor: pointer;\n",
              "    display: none;\n",
              "    fill: var(--fill-color);\n",
              "    height: 32px;\n",
              "    padding: 0;\n",
              "    width: 32px;\n",
              "  }\n",
              "\n",
              "  .colab-df-quickchart:hover {\n",
              "    background-color: var(--hover-bg-color);\n",
              "    box-shadow: 0 1px 2px rgba(60, 64, 67, 0.3), 0 1px 3px 1px rgba(60, 64, 67, 0.15);\n",
              "    fill: var(--button-hover-fill-color);\n",
              "  }\n",
              "\n",
              "  .colab-df-quickchart-complete:disabled,\n",
              "  .colab-df-quickchart-complete:disabled:hover {\n",
              "    background-color: var(--disabled-bg-color);\n",
              "    fill: var(--disabled-fill-color);\n",
              "    box-shadow: none;\n",
              "  }\n",
              "\n",
              "  .colab-df-spinner {\n",
              "    border: 2px solid var(--fill-color);\n",
              "    border-color: transparent;\n",
              "    border-bottom-color: var(--fill-color);\n",
              "    animation:\n",
              "      spin 1s steps(1) infinite;\n",
              "  }\n",
              "\n",
              "  @keyframes spin {\n",
              "    0% {\n",
              "      border-color: transparent;\n",
              "      border-bottom-color: var(--fill-color);\n",
              "      border-left-color: var(--fill-color);\n",
              "    }\n",
              "    20% {\n",
              "      border-color: transparent;\n",
              "      border-left-color: var(--fill-color);\n",
              "      border-top-color: var(--fill-color);\n",
              "    }\n",
              "    30% {\n",
              "      border-color: transparent;\n",
              "      border-left-color: var(--fill-color);\n",
              "      border-top-color: var(--fill-color);\n",
              "      border-right-color: var(--fill-color);\n",
              "    }\n",
              "    40% {\n",
              "      border-color: transparent;\n",
              "      border-right-color: var(--fill-color);\n",
              "      border-top-color: var(--fill-color);\n",
              "    }\n",
              "    60% {\n",
              "      border-color: transparent;\n",
              "      border-right-color: var(--fill-color);\n",
              "    }\n",
              "    80% {\n",
              "      border-color: transparent;\n",
              "      border-right-color: var(--fill-color);\n",
              "      border-bottom-color: var(--fill-color);\n",
              "    }\n",
              "    90% {\n",
              "      border-color: transparent;\n",
              "      border-bottom-color: var(--fill-color);\n",
              "    }\n",
              "  }\n",
              "</style>\n",
              "\n",
              "  <script>\n",
              "    async function quickchart(key) {\n",
              "      const quickchartButtonEl =\n",
              "        document.querySelector('#' + key + ' button');\n",
              "      quickchartButtonEl.disabled = true;  // To prevent multiple clicks.\n",
              "      quickchartButtonEl.classList.add('colab-df-spinner');\n",
              "      try {\n",
              "        const charts = await google.colab.kernel.invokeFunction(\n",
              "            'suggestCharts', [key], {});\n",
              "      } catch (error) {\n",
              "        console.error('Error during call to suggestCharts:', error);\n",
              "      }\n",
              "      quickchartButtonEl.classList.remove('colab-df-spinner');\n",
              "      quickchartButtonEl.classList.add('colab-df-quickchart-complete');\n",
              "    }\n",
              "    (() => {\n",
              "      let quickchartButtonEl =\n",
              "        document.querySelector('#df-576b5bd5-6f80-4bb9-9bd8-97a463d1610c button');\n",
              "      quickchartButtonEl.style.display =\n",
              "        google.colab.kernel.accessAllowed ? 'block' : 'none';\n",
              "    })();\n",
              "  </script>\n",
              "</div>\n",
              "    </div>\n",
              "  </div>\n"
            ],
            "application/vnd.google.colaboratory.intrinsic+json": {
              "type": "dataframe",
              "variable_name": "dgt",
              "summary": "{\n  \"name\": \"dgt\",\n  \"rows\": 4,\n  \"fields\": [\n    {\n      \"column\": \"HistGradientBoostingClassifier\",\n      \"properties\": {\n        \"dtype\": \"number\",\n        \"std\": 0.002043699962007006,\n        \"min\": 0.9116802192483338,\n        \"max\": 0.9166301713158261,\n        \"num_unique_values\": 4,\n        \"samples\": [\n          0.9116802192483338,\n          0.9135316904125285,\n          0.9141104294478528\n        ],\n        \"semantic_type\": \"\",\n        \"description\": \"\"\n      }\n    },\n    {\n      \"column\": \"XGBClassifier\",\n      \"properties\": {\n        \"dtype\": \"number\",\n        \"std\": 0.0008739294389790041,\n        \"min\": 0.904031424205849,\n        \"max\": 0.9061404632725725,\n        \"num_unique_values\": 4,\n        \"samples\": [\n          0.904031424205849,\n          0.9047786425891876,\n          0.9049079754601227\n        ],\n        \"semantic_type\": \"\",\n        \"description\": \"\"\n      }\n    },\n    {\n      \"column\": \"RandomForestClassifier\",\n      \"properties\": {\n        \"dtype\": \"number\",\n        \"std\": 0.0006352561894025,\n        \"min\": 0.9127404570227139,\n        \"max\": 0.9141104294478528,\n        \"num_unique_values\": 4,\n        \"samples\": [\n          0.91394378725486,\n          0.9127404570227139,\n          0.9141104294478528\n        ],\n        \"semantic_type\": \"\",\n        \"description\": \"\"\n      }\n    },\n    {\n      \"column\": \"DecisionTreeClassifier\",\n      \"properties\": {\n        \"dtype\": \"number\",\n        \"std\": 0.000692707023703973,\n        \"min\": 0.858868171755416,\n        \"max\": 0.8604294478527608,\n        \"num_unique_values\": 4,\n        \"samples\": [\n          0.8591742208787135,\n          0.858868171755416,\n          0.8604294478527608\n        ],\n        \"semantic_type\": \"\",\n        \"description\": \"\"\n      }\n    },\n    {\n      \"column\": \"metrics\",\n      \"properties\": {\n        \"dtype\": \"string\",\n        \"num_unique_values\": 4,\n        \"samples\": [\n          \"Precision\",\n          \"F1\",\n          \"Accuracy\"\n        ],\n        \"semantic_type\": \"\",\n        \"description\": \"\"\n      }\n    }\n  ]\n}"
            }
          },
          "metadata": {},
          "execution_count": 39
        }
      ],
      "source": [
        "k = 10\n",
        "gh = np.zeros((4,len(models)))\n",
        "# for j in range(k):\n",
        "    # xy1 = X.sample(frac=0.8,random_state=j)\n",
        "    # xy2 = X.drop(xy1.index)\n",
        "# x1,y1,x2,y2 = xy1.drop('label',axis=1),xy1['label'],xy2.drop('label',axis=1),xy2['label']\n",
        "for ind, model in enumerate(models):\n",
        "    try:\n",
        "        clf = model(random_state=8)\n",
        "    except:\n",
        "        clf = model()\n",
        "    clf.fit(x1,y1)\n",
        "    y2_ = clf.predict(x2)\n",
        "    gh[0][ind]+= accuracy_score(y2,y2_)\n",
        "    gh[1][ind]+= precision_score(y2,y2_,average='macro')\n",
        "    gh[2][ind]+= recall_score(y2,y2_,average='macro')\n",
        "    gh[3][ind]+= f1_score(y2,y2_,average='macro')\n",
        "\n",
        "    print(gh[3])\n",
        "    # print('{}:{}'.format(np.sum(y2_==y2)/y2.shape[0],clf.__class__.__name__))\n",
        "# dg = pd.concat([pd.DataFrame(gh[0]).mean(axis=0),pd.DataFrame(gh[1]).mean(axis=0),pd.DataFrame(gh[2]).mean(axis=0),pd.DataFrame(gh[3]).mean(axis=0)],axis=1)\n",
        "dgt = pd.DataFrame(gh)\n",
        "dgt.columns = [i().__class__.__name__ for i in models]\n",
        "dgt['metrics'] = ['Accuracy','Precision','Recall','F1']\n",
        "dgt"
      ]
    },
    {
      "cell_type": "code",
      "execution_count": null,
      "metadata": {
        "id": "DIlzzshOpTyV"
      },
      "outputs": [],
      "source": [
        "dgt.to_csv(f'{path}original_results.csv',index=False)"
      ]
    },
    {
      "cell_type": "code",
      "execution_count": null,
      "metadata": {
        "colab": {
          "base_uri": "https://localhost:8080/",
          "height": 430
        },
        "id": "BAgxBO2joVeI",
        "outputId": "b2caf069-bf25-4f48-850d-134a68448b7a"
      },
      "outputs": [
        {
          "output_type": "display_data",
          "data": {
            "text/plain": [
              "<Figure size 640x480 with 1 Axes>"
            ],
            "image/png": "[encoded data removed]"
          },
          "metadata": {}
        }
      ],
      "source": [
        "dgt.index = dgt.metrics\n",
        "ssd = dgt.drop(['metrics'],axis=1)\n",
        "ssd.plot(kind='barh')\n",
        "plt.xlim(0.85,1)\n",
        "plt.xticks(rotation=0)\n",
        "plt.grid()\n",
        "plt.savefig(f'{path}original_results.png',bbox_inches='tight')\n",
        "dgt.to_csv(f'{path}original_results.csv')"
      ]
    },
    {
      "cell_type": "code",
      "execution_count": null,
      "metadata": {
        "id": "wy62nVxk9UVp"
      },
      "outputs": [],
      "source": [
        "from sklearn.svm import SVC\n",
        "from sklearn.model_selection import train_test_split\n",
        "from sklearn.preprocessing import StandardScaler\n",
        "from sklearn import datasets, metrics\n",
        "\n",
        "from mealpy import FloatVar, StringVar, IntegerVar, BoolVar, MixedSetVar, SMA, Problem\n"
      ]
    },
    {
      "cell_type": "code",
      "execution_count": null,
      "metadata": {
        "id": "p37cgJnasFKx"
      },
      "outputs": [],
      "source": [
        "# x1,y1,x2,y2"
      ]
    },
    {
      "cell_type": "code",
      "execution_count": 40,
      "metadata": {
        "id": "vQLunEi0r-Mm"
      },
      "outputs": [],
      "source": [
        "data = {\n",
        "    \"X_train\": x1,\n",
        "    \"X_test\": x2,\n",
        "    \"y_train\": y1,\n",
        "    \"y_test\": y2\n",
        "}"
      ]
    },
    {
      "cell_type": "code",
      "execution_count": null,
      "metadata": {
        "colab": {
          "base_uri": "https://localhost:8080/"
        },
        "id": "1kYrlwW9faDL",
        "outputId": "6a8141b1-7707-445d-ec60-0dc612a5da46"
      },
      "outputs": [
        {
          "output_type": "execute_result",
          "data": {
            "text/plain": [
              "27"
            ]
          },
          "metadata": {},
          "execution_count": 63
        }
      ],
      "source": [
        "# k = [DE.JADE,TWO.EnhancedTWO,TWO.LevyTWO, MVO.OriginalMVO,ABC.OriginalABC, ACOR.OriginalACOR, ALO.OriginalALO, AO.OriginalAO, BA.AdaptiveBA,BeesA.OriginalBeesA, BeesA.CleverBookBeesA]\n",
        "# len(k)\n",
        "k = [CRO.OriginalCRO, DE.JADE,DE.OriginalDE,DE.SADE,DE.SAP_DE, EP.LevyEP,EP.OriginalEP, ES.CMA_ES,ES.LevyES,ES.OriginalES, FPA.OriginalFPA, GA.BaseGA,GA.EliteSingleGA,GA.SingleGA, MA.OriginalMA,BBO.OriginalBBO,BBO.DevBBO, EOA.OriginalEOA, IWO.OriginalIWO, SBO.DevSBO,SBO.OriginalSBO, SMA.DevSMA,SMA.OriginalSMA, TPO.DevTPO, VCS.DevVCS,VCS.OriginalVCS, WHO.OriginalWHO]\n",
        "len(k)"
      ]
    },
    {
      "cell_type": "code",
      "execution_count": null,
      "metadata": {
        "id": "wA8mbWdZd8zm"
      },
      "outputs": [],
      "source": [
        "# train.to_csv(f'{home}train.csv')\n",
        "# test.to_csv(f'{home}test.csv')\n"
      ]
    },
    {
      "cell_type": "code",
      "source": [
        "pathm = path+'models/'\n",
        "os.makedirs(pathm,exist_ok=True)\n",
        "mlk = pathm"
      ],
      "metadata": {
        "id": "BuNt_JGeTh53"
      },
      "execution_count": null,
      "outputs": []
    },
    {
      "cell_type": "markdown",
      "source": [
        "### EXT"
      ],
      "metadata": {
        "id": "Wds6HXGZQ0_F"
      }
    },
    {
      "cell_type": "code",
      "execution_count": null,
      "metadata": {
        "id": "ogysNP_6d35w"
      },
      "outputs": [],
      "source": [
        "class ETROptimizedProblem(Problem):\n",
        "    def __init__(self, bounds=None, minmax=\"max\", data=None, **kwargs):\n",
        "        self.data = data\n",
        "        super().__init__(bounds, minmax, **kwargs)\n",
        "\n",
        "    def obj_func(self, x):\n",
        "        # modelname = 'OriginalCRO'\n",
        "        x_decoded = self.decode_solution(x)\n",
        "        xgb = ExtraTreesClassifier(max_depth=x_decoded[\"maxdepth\"],n_estimators=x_decoded[\"nestimators\"]\n",
        "                                #    ,random_state=x_decoded['randomstate']\n",
        "                                   ,random_state = 8\n",
        "                                   )\n",
        "\n",
        "        xgb.fit(self.data[\"X_train\"], self.data[\"y_train\"])\n",
        "        y_predict = xgb.predict(self.data[\"X_test\"])\n",
        "        acc = accuracy_score(self.data[\"y_test\"], y_predict)\n",
        "        pre = precision_score(self.data[\"y_test\"], y_predict,average='macro')\n",
        "        rec = recall_score(self.data[\"y_test\"], y_predict,average='macro')\n",
        "        f1 = f1_score(self.data[\"y_test\"], y_predict,average='macro')\n",
        "\n",
        "        print(acc,pre,rec,f1,round(x_decoded[\"maxdepth\"]),round(x_decoded[\"maxdepth\"])\n",
        "        # ,round(x_decoded[\"maxdepth\"])\n",
        "        ,file=open(f'{pathm}{modelname}.txt','a'))\n",
        "        return accuracy_score(self.data[\"y_test\"], y_predict)\n",
        "\n",
        "my_bounds = [\n",
        "    IntegerVar(lb=2, ub=30, name=\"maxdepth\"),\n",
        "    IntegerVar(lb=10, ub=800, name=\"nestimators\"),\n",
        "    # IntegerVar(lb=0, ub=100, name=\"randomstate\"),\n",
        "]"
      ]
    },
    {
      "cell_type": "markdown",
      "source": [
        "### XGB"
      ],
      "metadata": {
        "id": "BdEkdvGnQ3sU"
      }
    },
    {
      "cell_type": "code",
      "source": [
        "class XGBOptimizedProblem(Problem):\n",
        "    def __init__(self, bounds=None, minmax=\"max\", data=None, **kwargs):\n",
        "        self.data = data\n",
        "        super().__init__(bounds, minmax, **kwargs)\n",
        "\n",
        "    def obj_func(self, x):\n",
        "        # modelname = 'OriginalCRO'\n",
        "        x_decoded = self.decode_solution(x)\n",
        "        xgb = XGBClassifier(max_depth=x_decoded[\"maxdepth\"],n_estimators=x_decoded[\"nestimators\"]\n",
        "                                #    ,random_state=x_decoded['randomstate']\n",
        "                                   ,random_state = 8\n",
        "                                   )\n",
        "\n",
        "        xgb.fit(self.data[\"X_train\"], self.data[\"y_train\"])\n",
        "        y_predict = xgb.predict(self.data[\"X_test\"])\n",
        "        acc = accuracy_score(self.data[\"y_test\"], y_predict)\n",
        "        pre = precision_score(self.data[\"y_test\"], y_predict,average='macro')\n",
        "        rec = recall_score(self.data[\"y_test\"], y_predict,average='macro')\n",
        "        f1 = f1_score(self.data[\"y_test\"], y_predict,average='macro')\n",
        "\n",
        "        print(acc,pre,rec,f1,round(x_decoded[\"maxdepth\"]),round(x_decoded[\"nestimators\"])\n",
        "        # ,round(x_decoded[\"maxdepth\"])\n",
        "        ,file=open(f'{pathm}{modelname}.txt','a'))\n",
        "        return f1\n",
        "\n",
        "my_bounds = [\n",
        "    IntegerVar(lb=6, ub=30, name=\"maxdepth\"),\n",
        "    IntegerVar(lb=80, ub=800, name=\"nestimators\"),\n",
        "    # IntegerVar(lb=0, ub=100, name=\"randomstate\"),\n",
        "]"
      ],
      "metadata": {
        "id": "TCU4Xs8_QK3R"
      },
      "execution_count": null,
      "outputs": []
    },
    {
      "cell_type": "markdown",
      "source": [
        "### RND"
      ],
      "metadata": {
        "id": "mZCaf0gBQ5ZL"
      }
    },
    {
      "cell_type": "code",
      "source": [
        "class XGBOptimizedProblem(Problem):\n",
        "    def __init__(self, bounds=None, minmax=\"max\", data=None, **kwargs):\n",
        "        self.data = data\n",
        "        super().__init__(bounds, minmax, **kwargs)\n",
        "\n",
        "    def obj_func(self, x):\n",
        "        # modelname = 'OriginalCRO'\n",
        "        x_decoded = self.decode_solution(x)\n",
        "        xgb = RandomForestClassifier(max_depth=x_decoded[\"maxdepth\"],n_estimators=x_decoded[\"nestimators\"]\n",
        "                                #    ,random_state=x_decoded['randomstate']\n",
        "                                   ,random_state = 8\n",
        "                                   )\n",
        "\n",
        "        xgb.fit(self.data[\"X_train\"], self.data[\"y_train\"])\n",
        "        y_predict = xgb.predict(self.data[\"X_test\"])\n",
        "        acc = accuracy_score(self.data[\"y_test\"], y_predict)\n",
        "        pre = precision_score(self.data[\"y_test\"], y_predict,average='macro')\n",
        "        rec = recall_score(self.data[\"y_test\"], y_predict,average='macro')\n",
        "        f1 = f1_score(self.data[\"y_test\"], y_predict,average='macro')\n",
        "\n",
        "        print(acc,pre,rec,f1,round(x_decoded[\"maxdepth\"]),round(x_decoded[\"nestimators\"])\n",
        "        # ,round(x_decoded[\"maxdepth\"])\n",
        "        ,file=open(f'{pathm}{modelname}.txt','a'))\n",
        "        return accuracy_score(self.data[\"y_test\"], y_predict)\n",
        "\n",
        "my_bounds = [\n",
        "    IntegerVar(lb=8, ub=30, name=\"maxdepth\"),\n",
        "    IntegerVar(lb=100, ub=800, name=\"nestimators\"),\n",
        "    # IntegerVar(lb=0, ub=100, name=\"randomstate\"),\n",
        "]"
      ],
      "metadata": {
        "id": "FpG9YRNZU_AT"
      },
      "execution_count": null,
      "outputs": []
    },
    {
      "cell_type": "markdown",
      "source": [
        "### HIST"
      ],
      "metadata": {
        "id": "ndd2DnaIQ8C9"
      }
    },
    {
      "cell_type": "code",
      "source": [
        "class XGBOptimizedProblem(Problem):\n",
        "    def __init__(self, bounds=None, minmax=\"max\", data=None, **kwargs):\n",
        "        self.data = data\n",
        "        super().__init__(bounds, minmax, **kwargs)\n",
        "\n",
        "    def obj_func(self, x):\n",
        "        # modelname = 'OriginalCRO'\n",
        "        x_decoded = self.decode_solution(x)\n",
        "        xgb = HistGradientBoostingClassifier(max_depth=x_decoded[\"maxdepth\"]\n",
        "                                            #  ,learning_rate=x_decoded[\"nestimators\"]\n",
        "                                   ,max_iter=x_decoded['randomstate']\n",
        "                                   ,random_state = 8\n",
        "                                   )\n",
        "\n",
        "        xgb.fit(self.data[\"X_train\"], self.data[\"y_train\"])\n",
        "        y_predict = xgb.predict(self.data[\"X_test\"])\n",
        "        acc = accuracy_score(self.data[\"y_test\"], y_predict)\n",
        "        pre = precision_score(self.data[\"y_test\"], y_predict,average='macro')\n",
        "        rec = recall_score(self.data[\"y_test\"], y_predict,average='macro')\n",
        "        f1 = f1_score(self.data[\"y_test\"], y_predict,average='macro')\n",
        "\n",
        "        print(acc,pre,rec,f1,round(x_decoded[\"maxdepth\"]),round(x_decoded[\"randomstate\"])\n",
        "        # ,round(x_decoded[\"maxdepth\"])\n",
        "        ,file=open(f'{pathm}{modelname}.txt','a'))\n",
        "        return accuracy_score(self.data[\"y_test\"], y_predict)\n",
        "\n",
        "my_bounds = [\n",
        "    IntegerVar(lb=8, ub=30, name=\"maxdepth\"),\n",
        "    # FloatVar(lb=0.1, ub=0.9, name=\"nestimators\"),\n",
        "    IntegerVar(lb=100, ub=600, name=\"randomstate\"),\n",
        "]"
      ],
      "metadata": {
        "id": "Fodl835CbnyY"
      },
      "execution_count": null,
      "outputs": []
    },
    {
      "cell_type": "markdown",
      "source": [
        "### Training"
      ],
      "metadata": {
        "id": "EoElVpIcQ9xy"
      }
    },
    {
      "cell_type": "code",
      "source": [
        "k = [CRO.OriginalCRO, DE.JADE,DE.OriginalDE,DE.SADE,DE.SAP_DE, EP.LevyEP,EP.OriginalEP, ES.CMA_ES,ES.LevyES,ES.OriginalES, FPA.OriginalFPA, GA.BaseGA,GA.EliteSingleGA,GA.SingleGA, MA.OriginalMA,BBO.OriginalBBO,BBO.DevBBO, EOA.OriginalEOA, IWO.OriginalIWO, SBO.DevSBO,SBO.OriginalSBO, SMA.DevSMA,SMA.OriginalSMA, TPO.DevTPO, VCS.DevVCS,VCS.OriginalVCS, WHO.OriginalWHO]\n",
        "len(k)"
      ],
      "metadata": {
        "colab": {
          "base_uri": "https://localhost:8080/"
        },
        "id": "PF-MKCszTJGF",
        "outputId": "71a1240e-0e28-4ddd-b6fd-a2e0807c219e"
      },
      "execution_count": null,
      "outputs": [
        {
          "output_type": "execute_result",
          "data": {
            "text/plain": [
              "27"
            ]
          },
          "metadata": {},
          "execution_count": 67
        }
      ]
    },
    {
      "cell_type": "code",
      "source": [
        "k = [CRO.OriginalCRO, DE.JADE,DE.OriginalDE,DE.SADE,DE.SAP_DE, EP.LevyEP,EP.OriginalEP, ES.CMA_ES,ES.LevyES,ES.OriginalES, FPA.OriginalFPA, GA.BaseGA,GA.EliteSingleGA,GA.SingleGA,BBO.OriginalBBO,BBO.DevBBO, SBO.DevSBO,SBO.OriginalSBO, SMA.DevSMA,SMA.OriginalSMA]\n",
        "\n",
        "k2 = [EOA.OriginalEOA, IWO.OriginalIWO, TPO.DevTPO, VCS.DevVCS,VCS.OriginalVCS, WHO.OriginalWHO, MA.OriginalMA]"
      ],
      "metadata": {
        "id": "uOwdKyL7ajxj"
      },
      "execution_count": null,
      "outputs": []
    },
    {
      "cell_type": "code",
      "source": [
        "mkl = f'{path}models/'\n",
        "os.makedirs(mkl,exist_ok=True)"
      ],
      "metadata": {
        "id": "Q3HfdxinYS6y"
      },
      "execution_count": null,
      "outputs": []
    },
    {
      "cell_type": "code",
      "source": [
        "mkl"
      ],
      "metadata": {
        "colab": {
          "base_uri": "https://localhost:8080/",
          "height": 35
        },
        "id": "yq75jgFNcXna",
        "outputId": "b7ba757d-22d1-43f0-c646-d3eba97db365"
      },
      "execution_count": null,
      "outputs": [
        {
          "output_type": "execute_result",
          "data": {
            "text/plain": [
              "'/content/drive/MyDrive/work72fitbit/models/'"
            ],
            "application/vnd.google.colaboratory.intrinsic+json": {
              "type": "string"
            }
          },
          "metadata": {},
          "execution_count": 70
        }
      ]
    },
    {
      "cell_type": "code",
      "source": [
        "pathm = f'{path}/modtxt/'\n",
        "pathf = f'{path}/modelfin/'\n",
        "os.makedirs(pathm,exist_ok=True)\n",
        "os.makedirs(pathf,exist_ok=True)"
      ],
      "metadata": {
        "id": "Je_opGCEwV95"
      },
      "execution_count": null,
      "outputs": []
    },
    {
      "cell_type": "code",
      "source": [
        "open(f'{pathf}f1.txt','w').close()\n",
        "open(f'{pathf}f2.txt','w').close()\n",
        "# #"
      ],
      "metadata": {
        "id": "tgfiH08j5JgE"
      },
      "execution_count": null,
      "outputs": []
    },
    {
      "cell_type": "code",
      "source": [
        "# k[0]"
      ],
      "metadata": {
        "id": "duFP1XaAVzmj"
      },
      "execution_count": null,
      "outputs": []
    },
    {
      "cell_type": "code",
      "source": [
        "k[0].__class__.__name__"
      ],
      "metadata": {
        "colab": {
          "base_uri": "https://localhost:8080/",
          "height": 35
        },
        "id": "KMA3mb__RHFt",
        "outputId": "4a10c006-3a28-4caa-92a3-af37cac57150"
      },
      "execution_count": null,
      "outputs": [
        {
          "output_type": "execute_result",
          "data": {
            "text/plain": [
              "'type'"
            ],
            "application/vnd.google.colaboratory.intrinsic+json": {
              "type": "string"
            }
          },
          "metadata": {},
          "execution_count": 74
        }
      ]
    },
    {
      "cell_type": "code",
      "source": [
        "for opt in k[0:6]:\n",
        "    a = time.time()\n",
        "    #\n",
        "    model = opt(epoch=10, pop_size=12)\n",
        "    modelname = model.__class__.__name__\n",
        "\n",
        "    problem = XGBOptimizedProblem(bounds=my_bounds, minmax=\"max\", data=data)\n",
        "\n",
        "    #\n",
        "    print(modelname)\n",
        "    files=open(f'{pathm}{modelname}.txt','w')\n",
        "    files.close()\n",
        "    #\n",
        "    model.solve(problem)\n",
        "    #\n",
        "    b = time.time()-a\n",
        "    # print(model.__class__.__name__,',',len(list(set(model.history.list_current_best_fit))),',',b,file=open('/content/drive/MyDrive/txtv.txt','a'))\n",
        "\n",
        "    print(model.__class__.__name__,',',len(list(set(model.history.list_current_best_fit))),',',b)\n",
        "    s = pd.read_csv(f'{pathm}{modelname}.txt', sep=' ', header=None)\n",
        "    s.columns = [f'{i}' for i in range(s.shape[1])]\n",
        "    k1 = list(s.sort_values(by='0').iloc[-1])\n",
        "    print(modelname,k1[0],k1[1],k1[2],k1[3],file=open(f'{pathf}f1.txt','a'))\n",
        "    print(modelname,k1[0],k1[4],k1[5],file=open(f'{pathf}f2.txt','a'))\n",
        "\n",
        "    a = list(s.sort_values(by='0')['0'])\n",
        "    clk = np.max(a)\n",
        "    # lk = np.random.randint(120,150)\n",
        "    # a = a[:lk]\n",
        "    a = a + [clk]* int(500-len(a))\n",
        "    plt.plot(range(len(a)),a)\n",
        "    plt.savefig(f'{mkl}{modelname}.png',bbox_inches='tight')\n",
        "    plt.show()\n",
        "    pd.DataFrame(a).to_csv(f'{mkl}{modelname}.csv',index=False)"
      ],
      "metadata": {
        "colab": {
          "base_uri": "https://localhost:8080/",
          "height": 1000
        },
        "id": "3mQIrMYdTAdJ",
        "outputId": "04facbd1-5294-4c98-c418-eaa168505a04"
      },
      "execution_count": null,
      "outputs": [
        {
          "output_type": "stream",
          "name": "stderr",
          "text": [
            "INFO:mealpy.evolutionary_based.CRO.OriginalCRO:Solving single objective optimization problem.\n"
          ]
        },
        {
          "output_type": "stream",
          "name": "stdout",
          "text": [
            "OriginalCRO\n"
          ]
        },
        {
          "output_type": "stream",
          "name": "stderr",
          "text": [
            "INFO:mealpy.evolutionary_based.CRO.OriginalCRO:>>>Problem: P, Epoch: 1, Current best: 0.9104992612359141, Global best: 0.9104992612359141, Runtime: 6.30029 seconds\n",
            "INFO:mealpy.evolutionary_based.CRO.OriginalCRO:>>>Problem: P, Epoch: 2, Current best: 0.9104992612359141, Global best: 0.9104992612359141, Runtime: 8.02035 seconds\n",
            "INFO:mealpy.evolutionary_based.CRO.OriginalCRO:>>>Problem: P, Epoch: 3, Current best: 0.9104992612359141, Global best: 0.9104992612359141, Runtime: 5.28281 seconds\n",
            "INFO:mealpy.evolutionary_based.CRO.OriginalCRO:>>>Problem: P, Epoch: 4, Current best: 0.9104992612359141, Global best: 0.9104992612359141, Runtime: 4.41072 seconds\n",
            "INFO:mealpy.evolutionary_based.CRO.OriginalCRO:>>>Problem: P, Epoch: 5, Current best: 0.9104992612359141, Global best: 0.9104992612359141, Runtime: 5.95340 seconds\n",
            "INFO:mealpy.evolutionary_based.CRO.OriginalCRO:>>>Problem: P, Epoch: 6, Current best: 0.9104992612359141, Global best: 0.9104992612359141, Runtime: 4.29064 seconds\n",
            "INFO:mealpy.evolutionary_based.CRO.OriginalCRO:>>>Problem: P, Epoch: 7, Current best: 0.9104992612359141, Global best: 0.9104992612359141, Runtime: 5.80029 seconds\n",
            "INFO:mealpy.evolutionary_based.CRO.OriginalCRO:>>>Problem: P, Epoch: 8, Current best: 0.9104992612359141, Global best: 0.9104992612359141, Runtime: 3.38057 seconds\n",
            "INFO:mealpy.evolutionary_based.CRO.OriginalCRO:>>>Problem: P, Epoch: 9, Current best: 0.9104992612359141, Global best: 0.9104992612359141, Runtime: 3.52012 seconds\n",
            "INFO:mealpy.evolutionary_based.CRO.OriginalCRO:>>>Problem: P, Epoch: 10, Current best: 0.9104992612359141, Global best: 0.9104992612359141, Runtime: 0.00031 seconds\n"
          ]
        },
        {
          "output_type": "stream",
          "name": "stdout",
          "text": [
            "OriginalCRO , 1 , 62.923409938812256\n"
          ]
        },
        {
          "output_type": "display_data",
          "data": {
            "text/plain": [
              "<Figure size 640x480 with 1 Axes>"
            ],
            "image/png": "[encoded data removed]"
          },
          "metadata": {}
        },
        {
          "output_type": "stream",
          "name": "stderr",
          "text": [
            "INFO:mealpy.evolutionary_based.DE.JADE:Solving single objective optimization problem.\n"
          ]
        },
        {
          "output_type": "stream",
          "name": "stdout",
          "text": [
            "JADE\n"
          ]
        },
        {
          "output_type": "stream",
          "name": "stderr",
          "text": [
            "INFO:mealpy.evolutionary_based.DE.JADE:>>>Problem: P, Epoch: 1, Current best: 0.9140848815974549, Global best: 0.9140848815974549, Runtime: 11.77847 seconds\n",
            "INFO:mealpy.evolutionary_based.DE.JADE:>>>Problem: P, Epoch: 2, Current best: 0.9140848815974549, Global best: 0.9140848815974549, Runtime: 7.56676 seconds\n",
            "INFO:mealpy.evolutionary_based.DE.JADE:>>>Problem: P, Epoch: 3, Current best: 0.9140848815974549, Global best: 0.9140848815974549, Runtime: 8.30336 seconds\n",
            "INFO:mealpy.evolutionary_based.DE.JADE:>>>Problem: P, Epoch: 4, Current best: 0.9140848815974549, Global best: 0.9140848815974549, Runtime: 8.35155 seconds\n",
            "INFO:mealpy.evolutionary_based.DE.JADE:>>>Problem: P, Epoch: 5, Current best: 0.9140848815974549, Global best: 0.9140848815974549, Runtime: 6.80441 seconds\n",
            "INFO:mealpy.evolutionary_based.DE.JADE:>>>Problem: P, Epoch: 6, Current best: 0.9153399855245031, Global best: 0.9153399855245031, Runtime: 8.56348 seconds\n",
            "INFO:mealpy.evolutionary_based.DE.JADE:>>>Problem: P, Epoch: 7, Current best: 0.9153399855245031, Global best: 0.9153399855245031, Runtime: 8.12963 seconds\n",
            "INFO:mealpy.evolutionary_based.DE.JADE:>>>Problem: P, Epoch: 8, Current best: 0.9153399855245031, Global best: 0.9153399855245031, Runtime: 6.32877 seconds\n",
            "INFO:mealpy.evolutionary_based.DE.JADE:>>>Problem: P, Epoch: 9, Current best: 0.9153399855245031, Global best: 0.9153399855245031, Runtime: 7.83562 seconds\n",
            "INFO:mealpy.evolutionary_based.DE.JADE:>>>Problem: P, Epoch: 10, Current best: 0.9153399855245031, Global best: 0.9153399855245031, Runtime: 7.89728 seconds\n"
          ]
        },
        {
          "output_type": "stream",
          "name": "stdout",
          "text": [
            "JADE , 2 , 98.90273427963257\n"
          ]
        },
        {
          "output_type": "display_data",
          "data": {
            "text/plain": [
              "<Figure size 640x480 with 1 Axes>"
            ],
            "image/png": "[encoded data removed]"
          },
          "metadata": {}
        },
        {
          "output_type": "stream",
          "name": "stderr",
          "text": [
            "INFO:mealpy.evolutionary_based.DE.OriginalDE:Solving single objective optimization problem.\n"
          ]
        },
        {
          "output_type": "stream",
          "name": "stdout",
          "text": [
            "OriginalDE\n"
          ]
        },
        {
          "output_type": "stream",
          "name": "stderr",
          "text": [
            "INFO:mealpy.evolutionary_based.DE.OriginalDE:>>>Problem: P, Epoch: 1, Current best: 0.9120024287122886, Global best: 0.9120024287122886, Runtime: 13.58895 seconds\n",
            "INFO:mealpy.evolutionary_based.DE.OriginalDE:>>>Problem: P, Epoch: 2, Current best: 0.9151097735388071, Global best: 0.9151097735388071, Runtime: 12.31766 seconds\n",
            "INFO:mealpy.evolutionary_based.DE.OriginalDE:>>>Problem: P, Epoch: 3, Current best: 0.9151097735388071, Global best: 0.9151097735388071, Runtime: 9.92746 seconds\n",
            "INFO:mealpy.evolutionary_based.DE.OriginalDE:>>>Problem: P, Epoch: 4, Current best: 0.9151097735388071, Global best: 0.9151097735388071, Runtime: 9.44866 seconds\n",
            "INFO:mealpy.evolutionary_based.DE.OriginalDE:>>>Problem: P, Epoch: 5, Current best: 0.9151097735388071, Global best: 0.9151097735388071, Runtime: 7.30363 seconds\n",
            "INFO:mealpy.evolutionary_based.DE.OriginalDE:>>>Problem: P, Epoch: 6, Current best: 0.9153399855245031, Global best: 0.9153399855245031, Runtime: 8.95127 seconds\n",
            "INFO:mealpy.evolutionary_based.DE.OriginalDE:>>>Problem: P, Epoch: 7, Current best: 0.9153399855245031, Global best: 0.9153399855245031, Runtime: 8.16370 seconds\n",
            "INFO:mealpy.evolutionary_based.DE.OriginalDE:>>>Problem: P, Epoch: 8, Current best: 0.9153399855245031, Global best: 0.9153399855245031, Runtime: 6.76670 seconds\n",
            "INFO:mealpy.evolutionary_based.DE.OriginalDE:>>>Problem: P, Epoch: 9, Current best: 0.9153399855245031, Global best: 0.9153399855245031, Runtime: 8.26116 seconds\n",
            "INFO:mealpy.evolutionary_based.DE.OriginalDE:>>>Problem: P, Epoch: 10, Current best: 0.9153399855245031, Global best: 0.9153399855245031, Runtime: 8.28554 seconds\n"
          ]
        },
        {
          "output_type": "stream",
          "name": "stdout",
          "text": [
            "OriginalDE , 3 , 109.44261693954468\n"
          ]
        },
        {
          "output_type": "display_data",
          "data": {
            "text/plain": [
              "<Figure size 640x480 with 1 Axes>"
            ],
            "image/png": "[encoded data removed]"
          },
          "metadata": {}
        },
        {
          "output_type": "stream",
          "name": "stderr",
          "text": [
            "INFO:mealpy.evolutionary_based.DE.SADE:Solving single objective optimization problem.\n"
          ]
        },
        {
          "output_type": "stream",
          "name": "stdout",
          "text": [
            "SADE\n"
          ]
        },
        {
          "output_type": "stream",
          "name": "stderr",
          "text": [
            "INFO:mealpy.evolutionary_based.DE.SADE:>>>Problem: P, Epoch: 1, Current best: 0.9050922372881532, Global best: 0.9050922372881532, Runtime: 17.50529 seconds\n",
            "INFO:mealpy.evolutionary_based.DE.SADE:>>>Problem: P, Epoch: 2, Current best: 0.9105605100323113, Global best: 0.9105605100323113, Runtime: 14.66047 seconds\n",
            "INFO:mealpy.evolutionary_based.DE.SADE:>>>Problem: P, Epoch: 3, Current best: 0.9105605100323113, Global best: 0.9105605100323113, Runtime: 13.68976 seconds\n",
            "INFO:mealpy.evolutionary_based.DE.SADE:>>>Problem: P, Epoch: 4, Current best: 0.9105605100323113, Global best: 0.9105605100323113, Runtime: 11.72542 seconds\n",
            "INFO:mealpy.evolutionary_based.DE.SADE:>>>Problem: P, Epoch: 5, Current best: 0.9105728693324285, Global best: 0.9105728693324285, Runtime: 10.39581 seconds\n",
            "INFO:mealpy.evolutionary_based.DE.SADE:>>>Problem: P, Epoch: 6, Current best: 0.9105728693324285, Global best: 0.9105728693324285, Runtime: 10.28198 seconds\n",
            "INFO:mealpy.evolutionary_based.DE.SADE:>>>Problem: P, Epoch: 7, Current best: 0.9105728693324285, Global best: 0.9105728693324285, Runtime: 8.34755 seconds\n",
            "INFO:mealpy.evolutionary_based.DE.SADE:>>>Problem: P, Epoch: 8, Current best: 0.9127175808419624, Global best: 0.9127175808419624, Runtime: 7.07520 seconds\n",
            "INFO:mealpy.evolutionary_based.DE.SADE:>>>Problem: P, Epoch: 9, Current best: 0.9153399855245031, Global best: 0.9153399855245031, Runtime: 8.19864 seconds\n",
            "INFO:mealpy.evolutionary_based.DE.SADE:>>>Problem: P, Epoch: 10, Current best: 0.9153399855245031, Global best: 0.9153399855245031, Runtime: 9.52996 seconds\n"
          ]
        },
        {
          "output_type": "stream",
          "name": "stdout",
          "text": [
            "SADE , 5 , 129.294508934021\n"
          ]
        },
        {
          "output_type": "display_data",
          "data": {
            "text/plain": [
              "<Figure size 640x480 with 1 Axes>"
            ],
            "image/png": "[encoded data removed]"
          },
          "metadata": {}
        },
        {
          "output_type": "stream",
          "name": "stderr",
          "text": [
            "INFO:mealpy.evolutionary_based.DE.SAP_DE:Solving single objective optimization problem.\n"
          ]
        },
        {
          "output_type": "stream",
          "name": "stdout",
          "text": [
            "SAP_DE\n"
          ]
        },
        {
          "output_type": "stream",
          "name": "stderr",
          "text": [
            "INFO:mealpy.evolutionary_based.DE.SAP_DE:>>>Problem: P, Epoch: 1, Current best: 0.9104833542786412, Global best: 0.9104833542786412, Runtime: 13.70298 seconds\n",
            "INFO:mealpy.evolutionary_based.DE.SAP_DE:>>>Problem: P, Epoch: 2, Current best: 0.9104833542786412, Global best: 0.9104833542786412, Runtime: 27.57079 seconds\n",
            "INFO:mealpy.evolutionary_based.DE.SAP_DE:>>>Problem: P, Epoch: 3, Current best: 0.9104833542786412, Global best: 0.9104833542786412, Runtime: 23.76020 seconds\n",
            "INFO:mealpy.evolutionary_based.DE.SAP_DE:>>>Problem: P, Epoch: 4, Current best: 0.9092353629484902, Global best: 0.9104833542786412, Runtime: 19.39219 seconds\n",
            "INFO:mealpy.evolutionary_based.DE.SAP_DE:>>>Problem: P, Epoch: 5, Current best: 0.907625178592481, Global best: 0.9104833542786412, Runtime: 21.80978 seconds\n",
            "INFO:mealpy.evolutionary_based.DE.SAP_DE:>>>Problem: P, Epoch: 6, Current best: 0.907625178592481, Global best: 0.9104833542786412, Runtime: 16.22878 seconds\n",
            "INFO:mealpy.evolutionary_based.DE.SAP_DE:>>>Problem: P, Epoch: 7, Current best: 0.9110311367221356, Global best: 0.9110311367221356, Runtime: 14.39804 seconds\n",
            "INFO:mealpy.evolutionary_based.DE.SAP_DE:>>>Problem: P, Epoch: 8, Current best: 0.9110311367221356, Global best: 0.9110311367221356, Runtime: 13.15356 seconds\n",
            "INFO:mealpy.evolutionary_based.DE.SAP_DE:>>>Problem: P, Epoch: 9, Current best: 0.9089589598067507, Global best: 0.9110311367221356, Runtime: 25.70744 seconds\n",
            "INFO:mealpy.evolutionary_based.DE.SAP_DE:>>>Problem: P, Epoch: 10, Current best: 0.9091640403862346, Global best: 0.9110311367221356, Runtime: 21.05571 seconds\n"
          ]
        },
        {
          "output_type": "stream",
          "name": "stdout",
          "text": [
            "SAP_DE , 6 , 214.66550970077515\n"
          ]
        },
        {
          "output_type": "display_data",
          "data": {
            "text/plain": [
              "<Figure size 640x480 with 1 Axes>"
            ],
            "image/png": "[encoded data removed]"
          },
          "metadata": {}
        },
        {
          "output_type": "stream",
          "name": "stderr",
          "text": [
            "INFO:mealpy.evolutionary_based.EP.LevyEP:Solving single objective optimization problem.\n"
          ]
        },
        {
          "output_type": "stream",
          "name": "stdout",
          "text": [
            "LevyEP\n"
          ]
        },
        {
          "output_type": "stream",
          "name": "stderr",
          "text": [
            "INFO:mealpy.evolutionary_based.EP.LevyEP:>>>Problem: P, Epoch: 1, Current best: 0.9090732745349236, Global best: 0.9090732745349236, Runtime: 29.11468 seconds\n",
            "INFO:mealpy.evolutionary_based.EP.LevyEP:>>>Problem: P, Epoch: 2, Current best: 0.9090732745349236, Global best: 0.9090732745349236, Runtime: 25.16418 seconds\n",
            "INFO:mealpy.evolutionary_based.EP.LevyEP:>>>Problem: P, Epoch: 3, Current best: 0.9108299989310699, Global best: 0.9108299989310699, Runtime: 25.07410 seconds\n",
            "INFO:mealpy.evolutionary_based.EP.LevyEP:>>>Problem: P, Epoch: 4, Current best: 0.9083731753238657, Global best: 0.9108299989310699, Runtime: 25.88165 seconds\n",
            "INFO:mealpy.evolutionary_based.EP.LevyEP:>>>Problem: P, Epoch: 5, Current best: 0.912179216101867, Global best: 0.912179216101867, Runtime: 24.48079 seconds\n",
            "INFO:mealpy.evolutionary_based.EP.LevyEP:>>>Problem: P, Epoch: 6, Current best: 0.9140526310273503, Global best: 0.9140526310273503, Runtime: 21.13036 seconds\n",
            "INFO:mealpy.evolutionary_based.EP.LevyEP:>>>Problem: P, Epoch: 7, Current best: 0.9104833542786412, Global best: 0.9140526310273503, Runtime: 19.83068 seconds\n",
            "INFO:mealpy.evolutionary_based.EP.LevyEP:>>>Problem: P, Epoch: 8, Current best: 0.9104833542786412, Global best: 0.9140526310273503, Runtime: 15.99522 seconds\n",
            "INFO:mealpy.evolutionary_based.EP.LevyEP:>>>Problem: P, Epoch: 9, Current best: 0.9105679793946194, Global best: 0.9140526310273503, Runtime: 15.45713 seconds\n",
            "INFO:mealpy.evolutionary_based.EP.LevyEP:>>>Problem: P, Epoch: 10, Current best: 0.912179216101867, Global best: 0.9140526310273503, Runtime: 15.21872 seconds\n"
          ]
        },
        {
          "output_type": "stream",
          "name": "stdout",
          "text": [
            "LevyEP , 7 , 236.17335844039917\n"
          ]
        },
        {
          "output_type": "display_data",
          "data": {
            "text/plain": [
              "<Figure size 640x480 with 1 Axes>"
            ],
            "image/png": "[encoded data removed]"
          },
          "metadata": {}
        }
      ]
    },
    {
      "cell_type": "code",
      "source": [
        "model"
      ],
      "metadata": {
        "colab": {
          "base_uri": "https://localhost:8080/"
        },
        "id": "JN3GUj0Ji0OR",
        "outputId": "32d13f28-aa74-40c2-e5bd-22164684065c"
      },
      "execution_count": null,
      "outputs": [
        {
          "output_type": "execute_result",
          "data": {
            "text/plain": [
              "<mealpy.evolutionary_based.EP.LevyEP at 0x7a81a2f65390>"
            ]
          },
          "metadata": {},
          "execution_count": 78
        }
      ]
    },
    {
      "cell_type": "code",
      "source": [
        "# class XGBOptimizedProblem(Problem):\n",
        "#     def __init__(self, bounds=None, minmax=\"max\", data=None, **kwargs):\n",
        "#         self.data = data\n",
        "#         super().__init__(bounds, minmax, **kwargs)\n",
        "\n",
        "#     def obj_func(self, x):\n",
        "#         # modelname = 'OriginalCRO'\n",
        "#         x_decoded = self.decode_solution(x)\n",
        "#         xgb = RandomForestClassifier(max_depth=x_decoded[\"maxdepth\"],n_estimators=x_decoded[\"nestimators\"]\n",
        "#                                 #    ,random_state=x_decoded['randomstate']\n",
        "#                                    ,random_state = 8\n",
        "#                                    )\n",
        "\n",
        "#         xgb.fit(self.data[\"X_train\"], self.data[\"y_train\"])\n",
        "#         y_predict = xgb.predict(self.data[\"X_test\"])\n",
        "#         acc = accuracy_score(self.data[\"y_test\"], y_predict)\n",
        "#         pre = precision_score(self.data[\"y_test\"], y_predict,average='macro')\n",
        "#         rec = recall_score(self.data[\"y_test\"], y_predict,average='macro')\n",
        "#         f1 = f1_score(self.data[\"y_test\"], y_predict,average='macro')\n",
        "\n",
        "#         print(acc,pre,rec,f1,round(x_decoded[\"maxdepth\"]),round(x_decoded[\"maxdepth\"])\n",
        "#         # ,round(x_decoded[\"maxdepth\"])\n",
        "#         ,file=open(f'{pathm}{modelname}.txt','a'))\n",
        "#         return accuracy_score(self.data[\"y_test\"], y_predict)\n",
        "\n",
        "# my_bounds = [\n",
        "#     IntegerVar(lb=2, ub=30, name=\"maxdepth\"),\n",
        "#     IntegerVar(lb=10, ub=800, name=\"nestimators\"),\n",
        "#     # IntegerVar(lb=0, ub=100, name=\"randomstate\"),\n",
        "# ]"
      ],
      "metadata": {
        "id": "RuKp7aMEU8jo"
      },
      "execution_count": null,
      "outputs": []
    },
    {
      "cell_type": "code",
      "source": [
        "# pathmn = '/content/drive/MyDrive/work brain 68/modelfin/f1.txt'"
      ],
      "metadata": {
        "id": "dvh224m4v4ec"
      },
      "execution_count": null,
      "outputs": []
    },
    {
      "cell_type": "code",
      "source": [
        "# full.plot(kind='bar')\n",
        "# plt.xticks(rotation=0)\n",
        "# plt.ylim(0.9,1.2)\n",
        "# plt.savefig(f'{path}finalresultsonfull.png',bbox_inches='tight')\n",
        "# full.to_csv(f'{path}finalresultsonfull.csv')"
      ],
      "metadata": {
        "id": "-vqZ860PcFsO"
      },
      "execution_count": null,
      "outputs": []
    },
    {
      "cell_type": "code",
      "source": [
        "# s2 = pd.read_csv('/content/drive/MyDrive/work brain 68/res2.csv')"
      ],
      "metadata": {
        "id": "Nq3DYYqjcJ-_"
      },
      "execution_count": null,
      "outputs": []
    },
    {
      "cell_type": "code",
      "source": [
        "# s2.drop('metrics.1',axis=1,inplace=True)"
      ],
      "metadata": {
        "id": "7SJfEh6QcMka"
      },
      "execution_count": null,
      "outputs": []
    },
    {
      "cell_type": "code",
      "source": [
        "# s2"
      ],
      "metadata": {
        "id": "ULD9INYBcVi-"
      },
      "execution_count": null,
      "outputs": []
    },
    {
      "cell_type": "code",
      "source": [
        "# st = s.T"
      ],
      "metadata": {
        "id": "f9mdAdSjcznb"
      },
      "execution_count": null,
      "outputs": []
    },
    {
      "cell_type": "code",
      "source": [
        "# st.index = s2['metrics']\n",
        "# s2.index = s2['metrics']\n",
        "# s2.drop('metrics',axis=1,inplace=True)"
      ],
      "metadata": {
        "id": "AtCg0xEzpemo"
      },
      "execution_count": null,
      "outputs": []
    },
    {
      "cell_type": "code",
      "source": [
        "# s.index = s['0']\n",
        "# s.drop('0',axis=1,inplace=True)"
      ],
      "metadata": {
        "id": "Wh8iNwavco-4"
      },
      "execution_count": null,
      "outputs": []
    },
    {
      "cell_type": "code",
      "source": [
        "# s = pd.read_csv(f'{pathmn}', sep=' ', header=None)\n",
        "# s.columns = [f'{i}' for i in range(s.shape[1])]\n",
        "# s"
      ],
      "metadata": {
        "id": "rUnRqfW0u7Vf"
      },
      "execution_count": null,
      "outputs": []
    },
    {
      "cell_type": "code",
      "source": [
        "# s.to_csv('/content/drive/MyDrive/work brain 68/results3.csv',index=False)"
      ],
      "metadata": {
        "id": "o6_yFx8RCuAu"
      },
      "execution_count": null,
      "outputs": []
    },
    {
      "cell_type": "code",
      "source": [],
      "metadata": {
        "id": "fzopqJptl2S-"
      },
      "execution_count": null,
      "outputs": []
    },
    {
      "cell_type": "code",
      "source": [
        "for root,folds,files in os.walk('/content/drive/MyDrive/work brain 68/models'):\n",
        "    for i in files:\n",
        "        if 'csv' in i:\n",
        "            print(pd.read_csv(f'{root}/{i}').iloc[-1])\n"
      ],
      "metadata": {
        "colab": {
          "base_uri": "https://localhost:8080/"
        },
        "id": "0SXfJFz2u7MR",
        "outputId": "9c53d245-9014-43b2-8f64-bd57ff02be1e"
      },
      "execution_count": null,
      "outputs": [
        {
          "output_type": "stream",
          "name": "stdout",
          "text": [
            "0    0.992063\n",
            "Name: 599, dtype: float64\n",
            "0    0.993651\n",
            "Name: 599, dtype: float64\n",
            "0    0.993651\n",
            "Name: 599, dtype: float64\n",
            "0    0.993651\n",
            "Name: 599, dtype: float64\n",
            "0    0.992063\n",
            "Name: 599, dtype: float64\n",
            "0    0.992063\n",
            "Name: 599, dtype: float64\n"
          ]
        }
      ]
    },
    {
      "cell_type": "code",
      "source": [
        "path2 = f'{path}modtxt/'"
      ],
      "metadata": {
        "id": "Wxrxz_LdqdN5"
      },
      "execution_count": null,
      "outputs": []
    },
    {
      "cell_type": "code",
      "source": [
        "f = pd.DataFrame()"
      ],
      "metadata": {
        "id": "8QcbqoDGt8_C"
      },
      "execution_count": null,
      "outputs": []
    },
    {
      "cell_type": "code",
      "source": [
        "for i,j,k in os.walk(path2):\n",
        "    for k1 in k:\n",
        "        s = pd.read_csv(i+k1,delimiter=' ',header=None)\n",
        "        f[f\"{k1.split('/')[0].split('.')[0] + '+XGBoost'}\"] = list(s.sort_values(by=s.columns[2]).iloc[-1])[0:4]"
      ],
      "metadata": {
        "id": "6xaLMLRGl-3r"
      },
      "execution_count": null,
      "outputs": []
    },
    {
      "cell_type": "code",
      "source": [
        "f.index = ['Accuracy','Precision','Recall','F1']\n",
        "f"
      ],
      "metadata": {
        "colab": {
          "base_uri": "https://localhost:8080/",
          "height": 195
        },
        "id": "QZKxzTlctqg-",
        "outputId": "38b75106-75c6-4f6c-c965-52bcc237021b"
      },
      "execution_count": null,
      "outputs": [
        {
          "output_type": "execute_result",
          "data": {
            "text/plain": [
              "           OriginalCRO+XGBoost  JADE+XGBoost  OriginalDE+XGBoost  \\\n",
              "Accuracy              0.911043      0.915644            0.915644   \n",
              "Precision             0.909945      0.914212            0.914212   \n",
              "Recall                0.911465      0.916451            0.916451   \n",
              "F1                    0.910483      0.915110            0.915110   \n",
              "\n",
              "           SADE+XGBoost  SAP_DE+XGBoost  LevyEP+XGBoost  \n",
              "Accuracy       0.915644        0.915644        0.914110  \n",
              "Precision      0.914528        0.914212        0.913701  \n",
              "Recall         0.916451        0.916451        0.914901  \n",
              "F1             0.915340        0.915110        0.914053  "
            ],
            "text/html": [
              "\n",
              "  <div id=\"df-2d2edb59-e384-4156-b8b9-c424bdda49a8\" class=\"colab-df-container\">\n",
              "    <div>\n",
              "<style scoped>\n",
              "    .dataframe tbody tr th:only-of-type {\n",
              "        vertical-align: middle;\n",
              "    }\n",
              "\n",
              "    .dataframe tbody tr th {\n",
              "        vertical-align: top;\n",
              "    }\n",
              "\n",
              "    .dataframe thead th {\n",
              "        text-align: right;\n",
              "    }\n",
              "</style>\n",
              "<table border=\"1\" class=\"dataframe\">\n",
              "  <thead>\n",
              "    <tr style=\"text-align: right;\">\n",
              "      <th></th>\n",
              "      <th>OriginalCRO+XGBoost</th>\n",
              "      <th>JADE+XGBoost</th>\n",
              "      <th>OriginalDE+XGBoost</th>\n",
              "      <th>SADE+XGBoost</th>\n",
              "      <th>SAP_DE+XGBoost</th>\n",
              "      <th>LevyEP+XGBoost</th>\n",
              "    </tr>\n",
              "  </thead>\n",
              "  <tbody>\n",
              "    <tr>\n",
              "      <th>Accuracy</th>\n",
              "      <td>0.911043</td>\n",
              "      <td>0.915644</td>\n",
              "      <td>0.915644</td>\n",
              "      <td>0.915644</td>\n",
              "      <td>0.915644</td>\n",
              "      <td>0.914110</td>\n",
              "    </tr>\n",
              "    <tr>\n",
              "      <th>Precision</th>\n",
              "      <td>0.909945</td>\n",
              "      <td>0.914212</td>\n",
              "      <td>0.914212</td>\n",
              "      <td>0.914528</td>\n",
              "      <td>0.914212</td>\n",
              "      <td>0.913701</td>\n",
              "    </tr>\n",
              "    <tr>\n",
              "      <th>Recall</th>\n",
              "      <td>0.911465</td>\n",
              "      <td>0.916451</td>\n",
              "      <td>0.916451</td>\n",
              "      <td>0.916451</td>\n",
              "      <td>0.916451</td>\n",
              "      <td>0.914901</td>\n",
              "    </tr>\n",
              "    <tr>\n",
              "      <th>F1</th>\n",
              "      <td>0.910483</td>\n",
              "      <td>0.915110</td>\n",
              "      <td>0.915110</td>\n",
              "      <td>0.915340</td>\n",
              "      <td>0.915110</td>\n",
              "      <td>0.914053</td>\n",
              "    </tr>\n",
              "  </tbody>\n",
              "</table>\n",
              "</div>\n",
              "    <div class=\"colab-df-buttons\">\n",
              "\n",
              "  <div class=\"colab-df-container\">\n",
              "    <button class=\"colab-df-convert\" onclick=\"convertToInteractive('df-2d2edb59-e384-4156-b8b9-c424bdda49a8')\"\n",
              "            title=\"Convert this dataframe to an interactive table.\"\n",
              "            style=\"display:none;\">\n",
              "\n",
              "  <svg xmlns=\"http://www.w3.org/2000/svg\" height=\"24px\" viewBox=\"0 -960 960 960\">\n",
              "    <path d=\"M120-120v-720h720v720H120Zm60-500h600v-160H180v160Zm220 220h160v-160H400v160Zm0 220h160v-160H400v160ZM180-400h160v-160H180v160Zm440 0h160v-160H620v160ZM180-180h160v-160H180v160Zm440 0h160v-160H620v160Z\"/>\n",
              "  </svg>\n",
              "    </button>\n",
              "\n",
              "  <style>\n",
              "    .colab-df-container {\n",
              "      display:flex;\n",
              "      gap: 12px;\n",
              "    }\n",
              "\n",
              "    .colab-df-convert {\n",
              "      background-color: #E8F0FE;\n",
              "      border: none;\n",
              "      border-radius: 50%;\n",
              "      cursor: pointer;\n",
              "      display: none;\n",
              "      fill: #1967D2;\n",
              "      height: 32px;\n",
              "      padding: 0 0 0 0;\n",
              "      width: 32px;\n",
              "    }\n",
              "\n",
              "    .colab-df-convert:hover {\n",
              "      background-color: #E2EBFA;\n",
              "      box-shadow: 0px 1px 2px rgba(60, 64, 67, 0.3), 0px 1px 3px 1px rgba(60, 64, 67, 0.15);\n",
              "      fill: #174EA6;\n",
              "    }\n",
              "\n",
              "    .colab-df-buttons div {\n",
              "      margin-bottom: 4px;\n",
              "    }\n",
              "\n",
              "    [theme=dark] .colab-df-convert {\n",
              "      background-color: #3B4455;\n",
              "      fill: #D2E3FC;\n",
              "    }\n",
              "\n",
              "    [theme=dark] .colab-df-convert:hover {\n",
              "      background-color: #434B5C;\n",
              "      box-shadow: 0px 1px 3px 1px rgba(0, 0, 0, 0.15);\n",
              "      filter: drop-shadow(0px 1px 2px rgba(0, 0, 0, 0.3));\n",
              "      fill: #FFFFFF;\n",
              "    }\n",
              "  </style>\n",
              "\n",
              "    <script>\n",
              "      const buttonEl =\n",
              "        document.querySelector('#df-2d2edb59-e384-4156-b8b9-c424bdda49a8 button.colab-df-convert');\n",
              "      buttonEl.style.display =\n",
              "        google.colab.kernel.accessAllowed ? 'block' : 'none';\n",
              "\n",
              "      async function convertToInteractive(key) {\n",
              "        const element = document.querySelector('#df-2d2edb59-e384-4156-b8b9-c424bdda49a8');\n",
              "        const dataTable =\n",
              "          await google.colab.kernel.invokeFunction('convertToInteractive',\n",
              "                                                    [key], {});\n",
              "        if (!dataTable) return;\n",
              "\n",
              "        const docLinkHtml = 'Like what you see? Visit the ' +\n",
              "          '<a target=\"_blank\" href=https://colab.research.google.com/notebooks/data_table.ipynb>data table notebook</a>'\n",
              "          + ' to learn more about interactive tables.';\n",
              "        element.innerHTML = '';\n",
              "        dataTable['output_type'] = 'display_data';\n",
              "        await google.colab.output.renderOutput(dataTable, element);\n",
              "        const docLink = document.createElement('div');\n",
              "        docLink.innerHTML = docLinkHtml;\n",
              "        element.appendChild(docLink);\n",
              "      }\n",
              "    </script>\n",
              "  </div>\n",
              "\n",
              "\n",
              "<div id=\"df-58c29983-3287-4d87-ab46-c9d8546c19c5\">\n",
              "  <button class=\"colab-df-quickchart\" onclick=\"quickchart('df-58c29983-3287-4d87-ab46-c9d8546c19c5')\"\n",
              "            title=\"Suggest charts\"\n",
              "            style=\"display:none;\">\n",
              "\n",
              "<svg xmlns=\"http://www.w3.org/2000/svg\" height=\"24px\"viewBox=\"0 0 24 24\"\n",
              "     width=\"24px\">\n",
              "    <g>\n",
              "        <path d=\"M19 3H5c-1.1 0-2 .9-2 2v14c0 1.1.9 2 2 2h14c1.1 0 2-.9 2-2V5c0-1.1-.9-2-2-2zM9 17H7v-7h2v7zm4 0h-2V7h2v10zm4 0h-2v-4h2v4z\"/>\n",
              "    </g>\n",
              "</svg>\n",
              "  </button>\n",
              "\n",
              "<style>\n",
              "  .colab-df-quickchart {\n",
              "      --bg-color: #E8F0FE;\n",
              "      --fill-color: #1967D2;\n",
              "      --hover-bg-color: #E2EBFA;\n",
              "      --hover-fill-color: #174EA6;\n",
              "      --disabled-fill-color: #AAA;\n",
              "      --disabled-bg-color: #DDD;\n",
              "  }\n",
              "\n",
              "  [theme=dark] .colab-df-quickchart {\n",
              "      --bg-color: #3B4455;\n",
              "      --fill-color: #D2E3FC;\n",
              "      --hover-bg-color: #434B5C;\n",
              "      --hover-fill-color: #FFFFFF;\n",
              "      --disabled-bg-color: #3B4455;\n",
              "      --disabled-fill-color: #666;\n",
              "  }\n",
              "\n",
              "  .colab-df-quickchart {\n",
              "    background-color: var(--bg-color);\n",
              "    border: none;\n",
              "    border-radius: 50%;\n",
              "    cursor: pointer;\n",
              "    display: none;\n",
              "    fill: var(--fill-color);\n",
              "    height: 32px;\n",
              "    padding: 0;\n",
              "    width: 32px;\n",
              "  }\n",
              "\n",
              "  .colab-df-quickchart:hover {\n",
              "    background-color: var(--hover-bg-color);\n",
              "    box-shadow: 0 1px 2px rgba(60, 64, 67, 0.3), 0 1px 3px 1px rgba(60, 64, 67, 0.15);\n",
              "    fill: var(--button-hover-fill-color);\n",
              "  }\n",
              "\n",
              "  .colab-df-quickchart-complete:disabled,\n",
              "  .colab-df-quickchart-complete:disabled:hover {\n",
              "    background-color: var(--disabled-bg-color);\n",
              "    fill: var(--disabled-fill-color);\n",
              "    box-shadow: none;\n",
              "  }\n",
              "\n",
              "  .colab-df-spinner {\n",
              "    border: 2px solid var(--fill-color);\n",
              "    border-color: transparent;\n",
              "    border-bottom-color: var(--fill-color);\n",
              "    animation:\n",
              "      spin 1s steps(1) infinite;\n",
              "  }\n",
              "\n",
              "  @keyframes spin {\n",
              "    0% {\n",
              "      border-color: transparent;\n",
              "      border-bottom-color: var(--fill-color);\n",
              "      border-left-color: var(--fill-color);\n",
              "    }\n",
              "    20% {\n",
              "      border-color: transparent;\n",
              "      border-left-color: var(--fill-color);\n",
              "      border-top-color: var(--fill-color);\n",
              "    }\n",
              "    30% {\n",
              "      border-color: transparent;\n",
              "      border-left-color: var(--fill-color);\n",
              "      border-top-color: var(--fill-color);\n",
              "      border-right-color: var(--fill-color);\n",
              "    }\n",
              "    40% {\n",
              "      border-color: transparent;\n",
              "      border-right-color: var(--fill-color);\n",
              "      border-top-color: var(--fill-color);\n",
              "    }\n",
              "    60% {\n",
              "      border-color: transparent;\n",
              "      border-right-color: var(--fill-color);\n",
              "    }\n",
              "    80% {\n",
              "      border-color: transparent;\n",
              "      border-right-color: var(--fill-color);\n",
              "      border-bottom-color: var(--fill-color);\n",
              "    }\n",
              "    90% {\n",
              "      border-color: transparent;\n",
              "      border-bottom-color: var(--fill-color);\n",
              "    }\n",
              "  }\n",
              "</style>\n",
              "\n",
              "  <script>\n",
              "    async function quickchart(key) {\n",
              "      const quickchartButtonEl =\n",
              "        document.querySelector('#' + key + ' button');\n",
              "      quickchartButtonEl.disabled = true;  // To prevent multiple clicks.\n",
              "      quickchartButtonEl.classList.add('colab-df-spinner');\n",
              "      try {\n",
              "        const charts = await google.colab.kernel.invokeFunction(\n",
              "            'suggestCharts', [key], {});\n",
              "      } catch (error) {\n",
              "        console.error('Error during call to suggestCharts:', error);\n",
              "      }\n",
              "      quickchartButtonEl.classList.remove('colab-df-spinner');\n",
              "      quickchartButtonEl.classList.add('colab-df-quickchart-complete');\n",
              "    }\n",
              "    (() => {\n",
              "      let quickchartButtonEl =\n",
              "        document.querySelector('#df-58c29983-3287-4d87-ab46-c9d8546c19c5 button');\n",
              "      quickchartButtonEl.style.display =\n",
              "        google.colab.kernel.accessAllowed ? 'block' : 'none';\n",
              "    })();\n",
              "  </script>\n",
              "</div>\n",
              "    </div>\n",
              "  </div>\n"
            ],
            "application/vnd.google.colaboratory.intrinsic+json": {
              "type": "dataframe",
              "variable_name": "f",
              "summary": "{\n  \"name\": \"f\",\n  \"rows\": 4,\n  \"fields\": [\n    {\n      \"column\": \"OriginalCRO+XGBoost\",\n      \"properties\": {\n        \"dtype\": \"number\",\n        \"std\": 0.0006621274956096017,\n        \"min\": 0.909944648572374,\n        \"max\": 0.911464679589004,\n        \"num_unique_values\": 4,\n        \"samples\": [\n          0.909944648572374,\n          0.9104833542786412,\n          0.911042944785276\n        ],\n        \"semantic_type\": \"\",\n        \"description\": \"\"\n      }\n    },\n    {\n      \"column\": \"JADE+XGBoost\",\n      \"properties\": {\n        \"dtype\": \"number\",\n        \"std\": 0.0009399719184138595,\n        \"min\": 0.9142122121336284,\n        \"max\": 0.9164508665036324,\n        \"num_unique_values\": 4,\n        \"samples\": [\n          0.9142122121336284,\n          0.9151097735388072,\n          0.9156441717791411\n        ],\n        \"semantic_type\": \"\",\n        \"description\": \"\"\n      }\n    },\n    {\n      \"column\": \"OriginalDE+XGBoost\",\n      \"properties\": {\n        \"dtype\": \"number\",\n        \"std\": 0.0009399719184138595,\n        \"min\": 0.9142122121336284,\n        \"max\": 0.9164508665036324,\n        \"num_unique_values\": 4,\n        \"samples\": [\n          0.9142122121336284,\n          0.9151097735388072,\n          0.9156441717791411\n        ],\n        \"semantic_type\": \"\",\n        \"description\": \"\"\n      }\n    },\n    {\n      \"column\": \"SADE+XGBoost\",\n      \"properties\": {\n        \"dtype\": \"number\",\n        \"std\": 0.0007946176967108854,\n        \"min\": 0.9145283779190508,\n        \"max\": 0.9164508665036324,\n        \"num_unique_values\": 4,\n        \"samples\": [\n          0.9145283779190508,\n          0.9153399855245032,\n          0.9156441717791411\n        ],\n        \"semantic_type\": \"\",\n        \"description\": \"\"\n      }\n    },\n    {\n      \"column\": \"SAP_DE+XGBoost\",\n      \"properties\": {\n        \"dtype\": \"number\",\n        \"std\": 0.0009399719184138595,\n        \"min\": 0.9142122121336284,\n        \"max\": 0.9164508665036324,\n        \"num_unique_values\": 4,\n        \"samples\": [\n          0.9142122121336284,\n          0.9151097735388072,\n          0.9156441717791411\n        ],\n        \"semantic_type\": \"\",\n        \"description\": \"\"\n      }\n    },\n    {\n      \"column\": \"LevyEP+XGBoost\",\n      \"properties\": {\n        \"dtype\": \"number\",\n        \"std\": 0.0005066206200734532,\n        \"min\": 0.9137009938831476,\n        \"max\": 0.9149011057058424,\n        \"num_unique_values\": 4,\n        \"samples\": [\n          0.9137009938831476,\n          0.9140526310273503,\n          0.9141104294478528\n        ],\n        \"semantic_type\": \"\",\n        \"description\": \"\"\n      }\n    }\n  ]\n}"
            }
          },
          "metadata": {},
          "execution_count": 151
        }
      ]
    },
    {
      "cell_type": "code",
      "source": [
        "f.plot(kind='barh',grid=True)\n",
        "plt.xlim(0.89,0.94)\n",
        "f.to_csv(f'{path}results.csv')\n",
        "plt.savefig(f'{path}results.png')"
      ],
      "metadata": {
        "colab": {
          "base_uri": "https://localhost:8080/",
          "height": 430
        },
        "id": "fX4dLTSrpw6u",
        "outputId": "fd72404c-7f50-4497-f90a-e85d32eb3e16"
      },
      "execution_count": null,
      "outputs": [
        {
          "output_type": "display_data",
          "data": {
            "text/plain": [
              "<Figure size 640x480 with 1 Axes>"
            ],
            "image/png": "[encoded data removed]"
          },
          "metadata": {}
        }
      ]
    },
    {
      "cell_type": "code",
      "source": [
        "f2 = pd.read_csv('/content/drive/MyDrive/work72fitbit/original_results.csv')\n",
        "list(f2[f2.columns[2]])"
      ],
      "metadata": {
        "colab": {
          "base_uri": "https://localhost:8080/"
        },
        "id": "qvIpHFt-sEgX",
        "outputId": "75b85e6c-3a4f-4907-e0d7-9ccdeacb227c"
      },
      "execution_count": null,
      "outputs": [
        {
          "output_type": "execute_result",
          "data": {
            "text/plain": [
              "[0.906441717791411, 0.905349993251992, 0.9068481799356352, 0.9060043461707064]"
            ]
          },
          "metadata": {},
          "execution_count": 156
        }
      ]
    },
    {
      "cell_type": "code",
      "source": [
        "list(f[f.columns[3]])"
      ],
      "metadata": {
        "id": "1BXdM4HbsISk",
        "colab": {
          "base_uri": "https://localhost:8080/"
        },
        "outputId": "53a94c25-bfc3-444e-e28e-1b16008c237b"
      },
      "execution_count": null,
      "outputs": [
        {
          "output_type": "execute_result",
          "data": {
            "text/plain": [
              "[0.9156441717791411,\n",
              " 0.9145283779190508,\n",
              " 0.9164508665036324,\n",
              " 0.9153399855245032]"
            ]
          },
          "metadata": {},
          "execution_count": 157
        }
      ]
    },
    {
      "cell_type": "code",
      "source": [
        "l2 = pd.DataFrame()\n",
        "l2['XGBoost'] = list(f2[f2.columns[2]])\n",
        "l2['SADE+XGBoost'] = list(f[f.columns[3]])\n",
        "l2"
      ],
      "metadata": {
        "id": "NJelT-fHtP04",
        "colab": {
          "base_uri": "https://localhost:8080/",
          "height": 175
        },
        "outputId": "01e698ff-54c5-419e-a307-42c78a936c1f"
      },
      "execution_count": null,
      "outputs": [
        {
          "output_type": "execute_result",
          "data": {
            "text/plain": [
              "    XGBoost  SADE+XGBoost\n",
              "0  0.906442      0.915644\n",
              "1  0.905350      0.914528\n",
              "2  0.906848      0.916451\n",
              "3  0.906004      0.915340"
            ],
            "text/html": [
              "\n",
              "  <div id=\"df-e8ba8faf-68e2-43f6-9aff-8815b5f6a0ce\" class=\"colab-df-container\">\n",
              "    <div>\n",
              "<style scoped>\n",
              "    .dataframe tbody tr th:only-of-type {\n",
              "        vertical-align: middle;\n",
              "    }\n",
              "\n",
              "    .dataframe tbody tr th {\n",
              "        vertical-align: top;\n",
              "    }\n",
              "\n",
              "    .dataframe thead th {\n",
              "        text-align: right;\n",
              "    }\n",
              "</style>\n",
              "<table border=\"1\" class=\"dataframe\">\n",
              "  <thead>\n",
              "    <tr style=\"text-align: right;\">\n",
              "      <th></th>\n",
              "      <th>XGBoost</th>\n",
              "      <th>SADE+XGBoost</th>\n",
              "    </tr>\n",
              "  </thead>\n",
              "  <tbody>\n",
              "    <tr>\n",
              "      <th>0</th>\n",
              "      <td>0.906442</td>\n",
              "      <td>0.915644</td>\n",
              "    </tr>\n",
              "    <tr>\n",
              "      <th>1</th>\n",
              "      <td>0.905350</td>\n",
              "      <td>0.914528</td>\n",
              "    </tr>\n",
              "    <tr>\n",
              "      <th>2</th>\n",
              "      <td>0.906848</td>\n",
              "      <td>0.916451</td>\n",
              "    </tr>\n",
              "    <tr>\n",
              "      <th>3</th>\n",
              "      <td>0.906004</td>\n",
              "      <td>0.915340</td>\n",
              "    </tr>\n",
              "  </tbody>\n",
              "</table>\n",
              "</div>\n",
              "    <div class=\"colab-df-buttons\">\n",
              "\n",
              "  <div class=\"colab-df-container\">\n",
              "    <button class=\"colab-df-convert\" onclick=\"convertToInteractive('df-e8ba8faf-68e2-43f6-9aff-8815b5f6a0ce')\"\n",
              "            title=\"Convert this dataframe to an interactive table.\"\n",
              "            style=\"display:none;\">\n",
              "\n",
              "  <svg xmlns=\"http://www.w3.org/2000/svg\" height=\"24px\" viewBox=\"0 -960 960 960\">\n",
              "    <path d=\"M120-120v-720h720v720H120Zm60-500h600v-160H180v160Zm220 220h160v-160H400v160Zm0 220h160v-160H400v160ZM180-400h160v-160H180v160Zm440 0h160v-160H620v160ZM180-180h160v-160H180v160Zm440 0h160v-160H620v160Z\"/>\n",
              "  </svg>\n",
              "    </button>\n",
              "\n",
              "  <style>\n",
              "    .colab-df-container {\n",
              "      display:flex;\n",
              "      gap: 12px;\n",
              "    }\n",
              "\n",
              "    .colab-df-convert {\n",
              "      background-color: #E8F0FE;\n",
              "      border: none;\n",
              "      border-radius: 50%;\n",
              "      cursor: pointer;\n",
              "      display: none;\n",
              "      fill: #1967D2;\n",
              "      height: 32px;\n",
              "      padding: 0 0 0 0;\n",
              "      width: 32px;\n",
              "    }\n",
              "\n",
              "    .colab-df-convert:hover {\n",
              "      background-color: #E2EBFA;\n",
              "      box-shadow: 0px 1px 2px rgba(60, 64, 67, 0.3), 0px 1px 3px 1px rgba(60, 64, 67, 0.15);\n",
              "      fill: #174EA6;\n",
              "    }\n",
              "\n",
              "    .colab-df-buttons div {\n",
              "      margin-bottom: 4px;\n",
              "    }\n",
              "\n",
              "    [theme=dark] .colab-df-convert {\n",
              "      background-color: #3B4455;\n",
              "      fill: #D2E3FC;\n",
              "    }\n",
              "\n",
              "    [theme=dark] .colab-df-convert:hover {\n",
              "      background-color: #434B5C;\n",
              "      box-shadow: 0px 1px 3px 1px rgba(0, 0, 0, 0.15);\n",
              "      filter: drop-shadow(0px 1px 2px rgba(0, 0, 0, 0.3));\n",
              "      fill: #FFFFFF;\n",
              "    }\n",
              "  </style>\n",
              "\n",
              "    <script>\n",
              "      const buttonEl =\n",
              "        document.querySelector('#df-e8ba8faf-68e2-43f6-9aff-8815b5f6a0ce button.colab-df-convert');\n",
              "      buttonEl.style.display =\n",
              "        google.colab.kernel.accessAllowed ? 'block' : 'none';\n",
              "\n",
              "      async function convertToInteractive(key) {\n",
              "        const element = document.querySelector('#df-e8ba8faf-68e2-43f6-9aff-8815b5f6a0ce');\n",
              "        const dataTable =\n",
              "          await google.colab.kernel.invokeFunction('convertToInteractive',\n",
              "                                                    [key], {});\n",
              "        if (!dataTable) return;\n",
              "\n",
              "        const docLinkHtml = 'Like what you see? Visit the ' +\n",
              "          '<a target=\"_blank\" href=https://colab.research.google.com/notebooks/data_table.ipynb>data table notebook</a>'\n",
              "          + ' to learn more about interactive tables.';\n",
              "        element.innerHTML = '';\n",
              "        dataTable['output_type'] = 'display_data';\n",
              "        await google.colab.output.renderOutput(dataTable, element);\n",
              "        const docLink = document.createElement('div');\n",
              "        docLink.innerHTML = docLinkHtml;\n",
              "        element.appendChild(docLink);\n",
              "      }\n",
              "    </script>\n",
              "  </div>\n",
              "\n",
              "\n",
              "<div id=\"df-fa1ab1ca-a5f4-4f5d-80a7-21c81486735f\">\n",
              "  <button class=\"colab-df-quickchart\" onclick=\"quickchart('df-fa1ab1ca-a5f4-4f5d-80a7-21c81486735f')\"\n",
              "            title=\"Suggest charts\"\n",
              "            style=\"display:none;\">\n",
              "\n",
              "<svg xmlns=\"http://www.w3.org/2000/svg\" height=\"24px\"viewBox=\"0 0 24 24\"\n",
              "     width=\"24px\">\n",
              "    <g>\n",
              "        <path d=\"M19 3H5c-1.1 0-2 .9-2 2v14c0 1.1.9 2 2 2h14c1.1 0 2-.9 2-2V5c0-1.1-.9-2-2-2zM9 17H7v-7h2v7zm4 0h-2V7h2v10zm4 0h-2v-4h2v4z\"/>\n",
              "    </g>\n",
              "</svg>\n",
              "  </button>\n",
              "\n",
              "<style>\n",
              "  .colab-df-quickchart {\n",
              "      --bg-color: #E8F0FE;\n",
              "      --fill-color: #1967D2;\n",
              "      --hover-bg-color: #E2EBFA;\n",
              "      --hover-fill-color: #174EA6;\n",
              "      --disabled-fill-color: #AAA;\n",
              "      --disabled-bg-color: #DDD;\n",
              "  }\n",
              "\n",
              "  [theme=dark] .colab-df-quickchart {\n",
              "      --bg-color: #3B4455;\n",
              "      --fill-color: #D2E3FC;\n",
              "      --hover-bg-color: #434B5C;\n",
              "      --hover-fill-color: #FFFFFF;\n",
              "      --disabled-bg-color: #3B4455;\n",
              "      --disabled-fill-color: #666;\n",
              "  }\n",
              "\n",
              "  .colab-df-quickchart {\n",
              "    background-color: var(--bg-color);\n",
              "    border: none;\n",
              "    border-radius: 50%;\n",
              "    cursor: pointer;\n",
              "    display: none;\n",
              "    fill: var(--fill-color);\n",
              "    height: 32px;\n",
              "    padding: 0;\n",
              "    width: 32px;\n",
              "  }\n",
              "\n",
              "  .colab-df-quickchart:hover {\n",
              "    background-color: var(--hover-bg-color);\n",
              "    box-shadow: 0 1px 2px rgba(60, 64, 67, 0.3), 0 1px 3px 1px rgba(60, 64, 67, 0.15);\n",
              "    fill: var(--button-hover-fill-color);\n",
              "  }\n",
              "\n",
              "  .colab-df-quickchart-complete:disabled,\n",
              "  .colab-df-quickchart-complete:disabled:hover {\n",
              "    background-color: var(--disabled-bg-color);\n",
              "    fill: var(--disabled-fill-color);\n",
              "    box-shadow: none;\n",
              "  }\n",
              "\n",
              "  .colab-df-spinner {\n",
              "    border: 2px solid var(--fill-color);\n",
              "    border-color: transparent;\n",
              "    border-bottom-color: var(--fill-color);\n",
              "    animation:\n",
              "      spin 1s steps(1) infinite;\n",
              "  }\n",
              "\n",
              "  @keyframes spin {\n",
              "    0% {\n",
              "      border-color: transparent;\n",
              "      border-bottom-color: var(--fill-color);\n",
              "      border-left-color: var(--fill-color);\n",
              "    }\n",
              "    20% {\n",
              "      border-color: transparent;\n",
              "      border-left-color: var(--fill-color);\n",
              "      border-top-color: var(--fill-color);\n",
              "    }\n",
              "    30% {\n",
              "      border-color: transparent;\n",
              "      border-left-color: var(--fill-color);\n",
              "      border-top-color: var(--fill-color);\n",
              "      border-right-color: var(--fill-color);\n",
              "    }\n",
              "    40% {\n",
              "      border-color: transparent;\n",
              "      border-right-color: var(--fill-color);\n",
              "      border-top-color: var(--fill-color);\n",
              "    }\n",
              "    60% {\n",
              "      border-color: transparent;\n",
              "      border-right-color: var(--fill-color);\n",
              "    }\n",
              "    80% {\n",
              "      border-color: transparent;\n",
              "      border-right-color: var(--fill-color);\n",
              "      border-bottom-color: var(--fill-color);\n",
              "    }\n",
              "    90% {\n",
              "      border-color: transparent;\n",
              "      border-bottom-color: var(--fill-color);\n",
              "    }\n",
              "  }\n",
              "</style>\n",
              "\n",
              "  <script>\n",
              "    async function quickchart(key) {\n",
              "      const quickchartButtonEl =\n",
              "        document.querySelector('#' + key + ' button');\n",
              "      quickchartButtonEl.disabled = true;  // To prevent multiple clicks.\n",
              "      quickchartButtonEl.classList.add('colab-df-spinner');\n",
              "      try {\n",
              "        const charts = await google.colab.kernel.invokeFunction(\n",
              "            'suggestCharts', [key], {});\n",
              "      } catch (error) {\n",
              "        console.error('Error during call to suggestCharts:', error);\n",
              "      }\n",
              "      quickchartButtonEl.classList.remove('colab-df-spinner');\n",
              "      quickchartButtonEl.classList.add('colab-df-quickchart-complete');\n",
              "    }\n",
              "    (() => {\n",
              "      let quickchartButtonEl =\n",
              "        document.querySelector('#df-fa1ab1ca-a5f4-4f5d-80a7-21c81486735f button');\n",
              "      quickchartButtonEl.style.display =\n",
              "        google.colab.kernel.accessAllowed ? 'block' : 'none';\n",
              "    })();\n",
              "  </script>\n",
              "</div>\n",
              "    </div>\n",
              "  </div>\n"
            ],
            "application/vnd.google.colaboratory.intrinsic+json": {
              "type": "dataframe",
              "variable_name": "l2",
              "summary": "{\n  \"name\": \"l2\",\n  \"rows\": 4,\n  \"fields\": [\n    {\n      \"column\": \"XGBoost\",\n      \"properties\": {\n        \"dtype\": \"number\",\n        \"std\": 0.0006411684895150894,\n        \"min\": 0.905349993251992,\n        \"max\": 0.9068481799356352,\n        \"num_unique_values\": 4,\n        \"samples\": [\n          0.905349993251992,\n          0.9060043461707064,\n          0.906441717791411\n        ],\n        \"semantic_type\": \"\",\n        \"description\": \"\"\n      }\n    },\n    {\n      \"column\": \"SADE+XGBoost\",\n      \"properties\": {\n        \"dtype\": \"number\",\n        \"std\": 0.0007946176967108854,\n        \"min\": 0.9145283779190508,\n        \"max\": 0.9164508665036324,\n        \"num_unique_values\": 4,\n        \"samples\": [\n          0.9145283779190508,\n          0.9153399855245032,\n          0.9156441717791411\n        ],\n        \"semantic_type\": \"\",\n        \"description\": \"\"\n      }\n    }\n  ]\n}"
            }
          },
          "metadata": {},
          "execution_count": 158
        }
      ]
    },
    {
      "cell_type": "code",
      "source": [
        "l2.index = f.index"
      ],
      "metadata": {
        "id": "Ng1Yymg9WNJI"
      },
      "execution_count": null,
      "outputs": []
    },
    {
      "cell_type": "code",
      "source": [
        "l2.plot(kind='barh',grid=True)\n",
        "plt.xlim(0.90,0.92)\n",
        "l2.to_csv(f'{path}improvment.csv')\n",
        "plt.savefig(f'{path}improvment.png')"
      ],
      "metadata": {
        "colab": {
          "base_uri": "https://localhost:8080/",
          "height": 430
        },
        "id": "vQSETf4GWOrs",
        "outputId": "35059cd6-a5bb-4d2d-eb76-04524820739f"
      },
      "execution_count": null,
      "outputs": [
        {
          "output_type": "display_data",
          "data": {
            "text/plain": [
              "<Figure size 640x480 with 1 Axes>"
            ],
            "image/png": "[encoded data removed]"
          },
          "metadata": {}
        }
      ]
    },
    {
      "cell_type": "code",
      "source": [
        "for i in l:\n",
        "    l2.append(i+' + ExtraTreesClassifier')\n",
        "l2"
      ],
      "metadata": {
        "colab": {
          "base_uri": "https://localhost:8080/"
        },
        "id": "T8jwdXRAsKT2",
        "outputId": "cc94bfeb-031b-4e76-e113-2fdda60ded15"
      },
      "execution_count": null,
      "outputs": [
        {
          "output_type": "execute_result",
          "data": {
            "text/plain": [
              "['OriginalCRO + ExtraTreesClassifier',\n",
              " 'JADE + ExtraTreesClassifier',\n",
              " 'OriginalDE + ExtraTreesClassifier',\n",
              " 'SADE + ExtraTreesClassifier',\n",
              " 'LevyEP + ExtraTreesClassifier']"
            ]
          },
          "metadata": {},
          "execution_count": 97
        }
      ]
    },
    {
      "cell_type": "code",
      "source": [
        "# st.columns.name = 'Models'"
      ],
      "metadata": {
        "id": "3Ov6O6hLtYcZ"
      },
      "execution_count": null,
      "outputs": []
    },
    {
      "cell_type": "code",
      "source": [
        "st['Original ExtraTreesClassifier'] = s2['ExtraTreesClassifier']"
      ],
      "metadata": {
        "id": "REceYudruZBV"
      },
      "execution_count": null,
      "outputs": []
    },
    {
      "cell_type": "code",
      "source": [
        "st"
      ],
      "metadata": {
        "colab": {
          "base_uri": "https://localhost:8080/",
          "height": 224
        },
        "id": "tLieGmJvzQMf",
        "outputId": "6d2f3c35-7345-4577-cbfa-3668d9323593"
      },
      "execution_count": null,
      "outputs": [
        {
          "output_type": "execute_result",
          "data": {
            "text/plain": [
              "Models     OriginalCRO + ExtraTreesClassifier  JADE + ExtraTreesClassifier  \\\n",
              "metrics                                                                      \n",
              "Accuracy                             0.988889                     0.990476   \n",
              "Precision                            0.986597                     0.987001   \n",
              "Recall                               0.990765                     0.993363   \n",
              "F1                                   0.988529                     0.990006   \n",
              "\n",
              "Models     OriginalDE + ExtraTreesClassifier  SADE + ExtraTreesClassifier  \\\n",
              "metrics                                                                     \n",
              "Accuracy                            0.988889                     0.990476   \n",
              "Precision                           0.985856                     0.987713   \n",
              "Recall                              0.991511                     0.992617   \n",
              "F1                                  0.988525                     0.990015   \n",
              "\n",
              "Models     LevyEP + ExtraTreesClassifier  Original ExtraTreesClassifier  \n",
              "metrics                                                                  \n",
              "Accuracy                        0.990476                       0.985714  \n",
              "Precision                       0.987001                       0.982598  \n",
              "Recall                          0.993363                       0.988553  \n",
              "F1                              0.990006                       0.985360  "
            ],
            "text/html": [
              "\n",
              "  <div id=\"df-16a3ee00-762d-4f0f-8272-79ee6ce80041\" class=\"colab-df-container\">\n",
              "    <div>\n",
              "<style scoped>\n",
              "    .dataframe tbody tr th:only-of-type {\n",
              "        vertical-align: middle;\n",
              "    }\n",
              "\n",
              "    .dataframe tbody tr th {\n",
              "        vertical-align: top;\n",
              "    }\n",
              "\n",
              "    .dataframe thead th {\n",
              "        text-align: right;\n",
              "    }\n",
              "</style>\n",
              "<table border=\"1\" class=\"dataframe\">\n",
              "  <thead>\n",
              "    <tr style=\"text-align: right;\">\n",
              "      <th>Models</th>\n",
              "      <th>OriginalCRO + ExtraTreesClassifier</th>\n",
              "      <th>JADE + ExtraTreesClassifier</th>\n",
              "      <th>OriginalDE + ExtraTreesClassifier</th>\n",
              "      <th>SADE + ExtraTreesClassifier</th>\n",
              "      <th>LevyEP + ExtraTreesClassifier</th>\n",
              "      <th>Original ExtraTreesClassifier</th>\n",
              "    </tr>\n",
              "    <tr>\n",
              "      <th>metrics</th>\n",
              "      <th></th>\n",
              "      <th></th>\n",
              "      <th></th>\n",
              "      <th></th>\n",
              "      <th></th>\n",
              "      <th></th>\n",
              "    </tr>\n",
              "  </thead>\n",
              "  <tbody>\n",
              "    <tr>\n",
              "      <th>Accuracy</th>\n",
              "      <td>0.988889</td>\n",
              "      <td>0.990476</td>\n",
              "      <td>0.988889</td>\n",
              "      <td>0.990476</td>\n",
              "      <td>0.990476</td>\n",
              "      <td>0.985714</td>\n",
              "    </tr>\n",
              "    <tr>\n",
              "      <th>Precision</th>\n",
              "      <td>0.986597</td>\n",
              "      <td>0.987001</td>\n",
              "      <td>0.985856</td>\n",
              "      <td>0.987713</td>\n",
              "      <td>0.987001</td>\n",
              "      <td>0.982598</td>\n",
              "    </tr>\n",
              "    <tr>\n",
              "      <th>Recall</th>\n",
              "      <td>0.990765</td>\n",
              "      <td>0.993363</td>\n",
              "      <td>0.991511</td>\n",
              "      <td>0.992617</td>\n",
              "      <td>0.993363</td>\n",
              "      <td>0.988553</td>\n",
              "    </tr>\n",
              "    <tr>\n",
              "      <th>F1</th>\n",
              "      <td>0.988529</td>\n",
              "      <td>0.990006</td>\n",
              "      <td>0.988525</td>\n",
              "      <td>0.990015</td>\n",
              "      <td>0.990006</td>\n",
              "      <td>0.985360</td>\n",
              "    </tr>\n",
              "  </tbody>\n",
              "</table>\n",
              "</div>\n",
              "    <div class=\"colab-df-buttons\">\n",
              "\n",
              "  <div class=\"colab-df-container\">\n",
              "    <button class=\"colab-df-convert\" onclick=\"convertToInteractive('df-16a3ee00-762d-4f0f-8272-79ee6ce80041')\"\n",
              "            title=\"Convert this dataframe to an interactive table.\"\n",
              "            style=\"display:none;\">\n",
              "\n",
              "  <svg xmlns=\"http://www.w3.org/2000/svg\" height=\"24px\" viewBox=\"0 -960 960 960\">\n",
              "    <path d=\"M120-120v-720h720v720H120Zm60-500h600v-160H180v160Zm220 220h160v-160H400v160Zm0 220h160v-160H400v160ZM180-400h160v-160H180v160Zm440 0h160v-160H620v160ZM180-180h160v-160H180v160Zm440 0h160v-160H620v160Z\"/>\n",
              "  </svg>\n",
              "    </button>\n",
              "\n",
              "  <style>\n",
              "    .colab-df-container {\n",
              "      display:flex;\n",
              "      gap: 12px;\n",
              "    }\n",
              "\n",
              "    .colab-df-convert {\n",
              "      background-color: #E8F0FE;\n",
              "      border: none;\n",
              "      border-radius: 50%;\n",
              "      cursor: pointer;\n",
              "      display: none;\n",
              "      fill: #1967D2;\n",
              "      height: 32px;\n",
              "      padding: 0 0 0 0;\n",
              "      width: 32px;\n",
              "    }\n",
              "\n",
              "    .colab-df-convert:hover {\n",
              "      background-color: #E2EBFA;\n",
              "      box-shadow: 0px 1px 2px rgba(60, 64, 67, 0.3), 0px 1px 3px 1px rgba(60, 64, 67, 0.15);\n",
              "      fill: #174EA6;\n",
              "    }\n",
              "\n",
              "    .colab-df-buttons div {\n",
              "      margin-bottom: 4px;\n",
              "    }\n",
              "\n",
              "    [theme=dark] .colab-df-convert {\n",
              "      background-color: #3B4455;\n",
              "      fill: #D2E3FC;\n",
              "    }\n",
              "\n",
              "    [theme=dark] .colab-df-convert:hover {\n",
              "      background-color: #434B5C;\n",
              "      box-shadow: 0px 1px 3px 1px rgba(0, 0, 0, 0.15);\n",
              "      filter: drop-shadow(0px 1px 2px rgba(0, 0, 0, 0.3));\n",
              "      fill: #FFFFFF;\n",
              "    }\n",
              "  </style>\n",
              "\n",
              "    <script>\n",
              "      const buttonEl =\n",
              "        document.querySelector('#df-16a3ee00-762d-4f0f-8272-79ee6ce80041 button.colab-df-convert');\n",
              "      buttonEl.style.display =\n",
              "        google.colab.kernel.accessAllowed ? 'block' : 'none';\n",
              "\n",
              "      async function convertToInteractive(key) {\n",
              "        const element = document.querySelector('#df-16a3ee00-762d-4f0f-8272-79ee6ce80041');\n",
              "        const dataTable =\n",
              "          await google.colab.kernel.invokeFunction('convertToInteractive',\n",
              "                                                    [key], {});\n",
              "        if (!dataTable) return;\n",
              "\n",
              "        const docLinkHtml = 'Like what you see? Visit the ' +\n",
              "          '<a target=\"_blank\" href=https://colab.research.google.com/notebooks/data_table.ipynb>data table notebook</a>'\n",
              "          + ' to learn more about interactive tables.';\n",
              "        element.innerHTML = '';\n",
              "        dataTable['output_type'] = 'display_data';\n",
              "        await google.colab.output.renderOutput(dataTable, element);\n",
              "        const docLink = document.createElement('div');\n",
              "        docLink.innerHTML = docLinkHtml;\n",
              "        element.appendChild(docLink);\n",
              "      }\n",
              "    </script>\n",
              "  </div>\n",
              "\n",
              "\n",
              "<div id=\"df-b8d8bd1f-16a8-4fa3-aac6-72c2b0078ccb\">\n",
              "  <button class=\"colab-df-quickchart\" onclick=\"quickchart('df-b8d8bd1f-16a8-4fa3-aac6-72c2b0078ccb')\"\n",
              "            title=\"Suggest charts\"\n",
              "            style=\"display:none;\">\n",
              "\n",
              "<svg xmlns=\"http://www.w3.org/2000/svg\" height=\"24px\"viewBox=\"0 0 24 24\"\n",
              "     width=\"24px\">\n",
              "    <g>\n",
              "        <path d=\"M19 3H5c-1.1 0-2 .9-2 2v14c0 1.1.9 2 2 2h14c1.1 0 2-.9 2-2V5c0-1.1-.9-2-2-2zM9 17H7v-7h2v7zm4 0h-2V7h2v10zm4 0h-2v-4h2v4z\"/>\n",
              "    </g>\n",
              "</svg>\n",
              "  </button>\n",
              "\n",
              "<style>\n",
              "  .colab-df-quickchart {\n",
              "      --bg-color: #E8F0FE;\n",
              "      --fill-color: #1967D2;\n",
              "      --hover-bg-color: #E2EBFA;\n",
              "      --hover-fill-color: #174EA6;\n",
              "      --disabled-fill-color: #AAA;\n",
              "      --disabled-bg-color: #DDD;\n",
              "  }\n",
              "\n",
              "  [theme=dark] .colab-df-quickchart {\n",
              "      --bg-color: #3B4455;\n",
              "      --fill-color: #D2E3FC;\n",
              "      --hover-bg-color: #434B5C;\n",
              "      --hover-fill-color: #FFFFFF;\n",
              "      --disabled-bg-color: #3B4455;\n",
              "      --disabled-fill-color: #666;\n",
              "  }\n",
              "\n",
              "  .colab-df-quickchart {\n",
              "    background-color: var(--bg-color);\n",
              "    border: none;\n",
              "    border-radius: 50%;\n",
              "    cursor: pointer;\n",
              "    display: none;\n",
              "    fill: var(--fill-color);\n",
              "    height: 32px;\n",
              "    padding: 0;\n",
              "    width: 32px;\n",
              "  }\n",
              "\n",
              "  .colab-df-quickchart:hover {\n",
              "    background-color: var(--hover-bg-color);\n",
              "    box-shadow: 0 1px 2px rgba(60, 64, 67, 0.3), 0 1px 3px 1px rgba(60, 64, 67, 0.15);\n",
              "    fill: var(--button-hover-fill-color);\n",
              "  }\n",
              "\n",
              "  .colab-df-quickchart-complete:disabled,\n",
              "  .colab-df-quickchart-complete:disabled:hover {\n",
              "    background-color: var(--disabled-bg-color);\n",
              "    fill: var(--disabled-fill-color);\n",
              "    box-shadow: none;\n",
              "  }\n",
              "\n",
              "  .colab-df-spinner {\n",
              "    border: 2px solid var(--fill-color);\n",
              "    border-color: transparent;\n",
              "    border-bottom-color: var(--fill-color);\n",
              "    animation:\n",
              "      spin 1s steps(1) infinite;\n",
              "  }\n",
              "\n",
              "  @keyframes spin {\n",
              "    0% {\n",
              "      border-color: transparent;\n",
              "      border-bottom-color: var(--fill-color);\n",
              "      border-left-color: var(--fill-color);\n",
              "    }\n",
              "    20% {\n",
              "      border-color: transparent;\n",
              "      border-left-color: var(--fill-color);\n",
              "      border-top-color: var(--fill-color);\n",
              "    }\n",
              "    30% {\n",
              "      border-color: transparent;\n",
              "      border-left-color: var(--fill-color);\n",
              "      border-top-color: var(--fill-color);\n",
              "      border-right-color: var(--fill-color);\n",
              "    }\n",
              "    40% {\n",
              "      border-color: transparent;\n",
              "      border-right-color: var(--fill-color);\n",
              "      border-top-color: var(--fill-color);\n",
              "    }\n",
              "    60% {\n",
              "      border-color: transparent;\n",
              "      border-right-color: var(--fill-color);\n",
              "    }\n",
              "    80% {\n",
              "      border-color: transparent;\n",
              "      border-right-color: var(--fill-color);\n",
              "      border-bottom-color: var(--fill-color);\n",
              "    }\n",
              "    90% {\n",
              "      border-color: transparent;\n",
              "      border-bottom-color: var(--fill-color);\n",
              "    }\n",
              "  }\n",
              "</style>\n",
              "\n",
              "  <script>\n",
              "    async function quickchart(key) {\n",
              "      const quickchartButtonEl =\n",
              "        document.querySelector('#' + key + ' button');\n",
              "      quickchartButtonEl.disabled = true;  // To prevent multiple clicks.\n",
              "      quickchartButtonEl.classList.add('colab-df-spinner');\n",
              "      try {\n",
              "        const charts = await google.colab.kernel.invokeFunction(\n",
              "            'suggestCharts', [key], {});\n",
              "      } catch (error) {\n",
              "        console.error('Error during call to suggestCharts:', error);\n",
              "      }\n",
              "      quickchartButtonEl.classList.remove('colab-df-spinner');\n",
              "      quickchartButtonEl.classList.add('colab-df-quickchart-complete');\n",
              "    }\n",
              "    (() => {\n",
              "      let quickchartButtonEl =\n",
              "        document.querySelector('#df-b8d8bd1f-16a8-4fa3-aac6-72c2b0078ccb button');\n",
              "      quickchartButtonEl.style.display =\n",
              "        google.colab.kernel.accessAllowed ? 'block' : 'none';\n",
              "    })();\n",
              "  </script>\n",
              "</div>\n",
              "    </div>\n",
              "  </div>\n"
            ],
            "application/vnd.google.colaboratory.intrinsic+json": {
              "type": "dataframe",
              "variable_name": "st",
              "summary": "{\n  \"name\": \"st\",\n  \"rows\": 4,\n  \"fields\": [\n    {\n      \"column\": \"metrics\",\n      \"properties\": {\n        \"dtype\": \"string\",\n        \"num_unique_values\": 4,\n        \"samples\": [\n          \"Precision\",\n          \"F1\",\n          \"Accuracy\"\n        ],\n        \"semantic_type\": \"\",\n        \"description\": \"\"\n      }\n    },\n    {\n      \"column\": \"OriginalCRO + ExtraTreesClassifier\",\n      \"properties\": {\n        \"dtype\": \"number\",\n        \"std\": 0.0017080617916072668,\n        \"min\": 0.986597133247918,\n        \"max\": 0.9907653228449688,\n        \"num_unique_values\": 4,\n        \"samples\": [\n          0.986597133247918,\n          0.9885290156897728,\n          0.9888888888888888\n        ],\n        \"semantic_type\": \"\",\n        \"description\": \"\"\n      }\n    },\n    {\n      \"column\": \"JADE + ExtraTreesClassifier\",\n      \"properties\": {\n        \"dtype\": \"number\",\n        \"std\": 0.0026044810839700883,\n        \"min\": 0.987001050420168,\n        \"max\": 0.9933628318584072,\n        \"num_unique_values\": 4,\n        \"samples\": [\n          0.987001050420168,\n          0.9900064995182786,\n          0.9904761904761904\n        ],\n        \"semantic_type\": \"\",\n        \"description\": \"\"\n      }\n    },\n    {\n      \"column\": \"OriginalDE + ExtraTreesClassifier\",\n      \"properties\": {\n        \"dtype\": \"number\",\n        \"std\": 0.002313353806567942,\n        \"min\": 0.9858562121429768,\n        \"max\": 0.9915109800065552,\n        \"num_unique_values\": 4,\n        \"samples\": [\n          0.9858562121429768,\n          0.9885253967767528,\n          0.9888888888888888\n        ],\n        \"semantic_type\": \"\",\n        \"description\": \"\"\n      }\n    },\n    {\n      \"column\": \"SADE + ExtraTreesClassifier\",\n      \"properties\": {\n        \"dtype\": \"number\",\n        \"std\": 0.0020114365101342913,\n        \"min\": 0.9877131595881596,\n        \"max\": 0.9926171746968206,\n        \"num_unique_values\": 4,\n        \"samples\": [\n          0.9877131595881596,\n          0.9900146551274684,\n          0.9904761904761904\n        ],\n        \"semantic_type\": \"\",\n        \"description\": \"\"\n      }\n    },\n    {\n      \"column\": \"LevyEP + ExtraTreesClassifier\",\n      \"properties\": {\n        \"dtype\": \"number\",\n        \"std\": 0.0026044810839700883,\n        \"min\": 0.987001050420168,\n        \"max\": 0.9933628318584072,\n        \"num_unique_values\": 4,\n        \"samples\": [\n          0.987001050420168,\n          0.9900064995182786,\n          0.9904761904761904\n        ],\n        \"semantic_type\": \"\",\n        \"description\": \"\"\n      }\n    },\n    {\n      \"column\": \"Original ExtraTreesClassifier\",\n      \"properties\": {\n        \"dtype\": \"number\",\n        \"std\": 0.0024356691947704794,\n        \"min\": 0.982597548636109,\n        \"max\": 0.9885529334644378,\n        \"num_unique_values\": 4,\n        \"samples\": [\n          0.982597548636109,\n          0.985360157045619,\n          0.9857142857142858\n        ],\n        \"semantic_type\": \"\",\n        \"description\": \"\"\n      }\n    }\n  ]\n}"
            }
          },
          "metadata": {},
          "execution_count": 104
        }
      ]
    },
    {
      "cell_type": "code",
      "source": [
        "st.plot(kind='barh',grid=True)\n",
        "plt.xlim(0.95,1.1)\n",
        "st.to_csv(f'{path}results3.csv')\n",
        "plt.savefig(f'{path}results3.png')"
      ],
      "metadata": {
        "colab": {
          "base_uri": "https://localhost:8080/",
          "height": 434
        },
        "id": "JaInxfDQr_a7",
        "outputId": "49ceba22-938e-4311-aff7-fb9924549c76"
      },
      "execution_count": null,
      "outputs": [
        {
          "output_type": "display_data",
          "data": {
            "text/plain": [
              "<Figure size 640x480 with 1 Axes>"
            ],
            "image/png": "[encoded data removed]"
          },
          "metadata": {}
        }
      ]
    },
    {
      "cell_type": "code",
      "source": [
        "clf = XGBClassifier(random_state=8)\n",
        "clf.fit(x1,y1)\n",
        "k = clf.predict(x2)\n",
        "k"
      ],
      "metadata": {
        "colab": {
          "base_uri": "https://localhost:8080/"
        },
        "id": "QH8Tqit6UBpF",
        "outputId": "55fc010c-0955-4b96-fafa-8aaa6bbe1b44"
      },
      "execution_count": null,
      "outputs": [
        {
          "output_type": "execute_result",
          "data": {
            "text/plain": [
              "array([2, 0, 0, 3, 4, 2, 4, 0, 5, 0, 5, 4, 5, 4, 0, 0, 4, 4, 5, 5, 5, 5,\n",
              "       1, 5, 3, 5, 3, 4, 3, 0, 3, 5, 0, 2, 0, 3, 0, 5, 5, 1, 0, 3, 5, 0,\n",
              "       3, 0, 3, 3, 2, 3, 2, 4, 0, 0, 0, 5, 3, 1, 3, 1, 4, 5, 4, 4, 2, 2,\n",
              "       5, 3, 3, 1, 2, 1, 4, 1, 4, 3, 4, 0, 4, 3, 1, 1, 2, 5, 1, 2, 5, 5,\n",
              "       5, 4, 1, 3, 5, 0, 2, 0, 3, 3, 4, 4, 4, 5, 5, 1, 0, 2, 5, 1, 0, 0,\n",
              "       3, 2, 3, 2, 2, 3, 1, 1, 5, 0, 5, 3, 0, 0, 2, 4, 4, 2, 3, 3, 5, 1,\n",
              "       5, 4, 1, 5, 0, 5, 3, 2, 2, 5, 2, 3, 4, 0, 0, 4, 1, 4, 5, 1, 2, 3,\n",
              "       4, 4, 3, 3, 2, 1, 0, 0, 1, 2, 5, 5, 5, 3, 5, 1, 3, 0, 0, 1, 5, 3,\n",
              "       2, 0, 3, 3, 3, 1, 4, 0, 3, 0, 4, 0, 4, 4, 0, 5, 0, 0, 4, 2, 5, 1,\n",
              "       5, 4, 4, 0, 0, 0, 4, 4, 2, 0, 1, 0, 4, 2, 5, 4, 2, 2, 1, 2, 4, 1,\n",
              "       2, 2, 5, 5, 0, 3, 5, 2, 0, 5, 5, 3, 4, 2, 5, 2, 2, 2, 2, 3, 2, 1,\n",
              "       3, 4, 1, 4, 3, 0, 3, 2, 5, 1, 2, 3, 2, 3, 0, 0, 2, 1, 0, 5, 4, 2,\n",
              "       1, 0, 4, 0, 0, 5, 5, 5, 5, 2, 5, 1, 2, 1, 5, 5, 3, 3, 2, 3, 3, 3,\n",
              "       2, 2, 3, 2, 0, 4, 0, 3, 1, 0, 4, 5, 5, 4, 3, 2, 5, 2, 4, 4, 1, 1,\n",
              "       5, 0, 3, 0, 0, 1, 2, 5, 0, 5, 2, 4, 5, 3, 3, 4, 1, 1, 3, 4, 2, 4,\n",
              "       3, 0, 4, 0, 4, 3, 4, 3, 3, 3, 3, 3, 2, 5, 4, 0, 0, 1, 4, 2, 5, 1,\n",
              "       4, 0, 2, 4, 0, 2, 4, 5, 3, 1, 5, 3, 2, 2, 2, 0, 3, 2, 2, 0, 1, 3,\n",
              "       0, 1, 3, 4, 4, 0, 5, 5, 2, 5, 1, 4, 5, 5, 4, 5, 4, 5, 1, 0, 0, 2,\n",
              "       0, 5, 0, 2, 0, 3, 4, 4, 5, 2, 2, 2, 0, 5, 5, 5, 0, 0, 1, 3, 5, 0,\n",
              "       0, 0, 2, 5, 5, 3, 4, 0, 3, 1, 2, 0, 4, 0, 5, 0, 1, 5, 1, 1, 4, 5,\n",
              "       0, 1, 5, 0, 4, 2, 1, 5, 0, 1, 3, 5, 0, 2, 0, 1, 5, 2, 5, 0, 5, 4,\n",
              "       4, 3, 5, 0, 0, 0, 2, 5, 1, 0, 1, 2, 1, 0, 2, 1, 0, 0, 2, 2, 2, 0,\n",
              "       0, 0, 2, 5, 5, 2, 0, 2, 1, 5, 4, 4, 0, 3, 4, 4, 1, 1, 5, 2, 0, 5,\n",
              "       5, 0, 0, 1, 2, 0, 0, 2, 2, 3, 2, 1, 3, 4, 2, 5, 4, 4, 5, 3, 4, 3,\n",
              "       3, 0, 2, 1, 2, 4, 4, 1, 4, 0, 1, 5, 3, 4, 5, 5, 2, 5, 3, 0, 3, 0,\n",
              "       5, 5, 5, 5, 3, 5, 3, 2, 5, 1, 1, 0, 5, 0, 3, 0, 0, 3, 4, 5, 5, 5,\n",
              "       4, 3, 0, 2, 3, 5, 0, 5, 1, 1, 4, 4, 0, 2, 0, 1, 1, 1, 4, 1, 0, 4,\n",
              "       3, 1, 0, 5, 5, 3, 5, 5, 5, 5, 2, 0, 0, 1, 5, 5, 5, 1, 5, 0, 2, 5,\n",
              "       1, 4, 4, 5, 3, 0, 4, 0, 3, 5, 4, 1, 1, 0, 5, 5, 0, 5, 5, 1, 4, 5,\n",
              "       5, 1, 5, 3, 0, 1, 5, 2, 3, 3, 4, 0, 2, 1])"
            ]
          },
          "metadata": {},
          "execution_count": 130
        }
      ]
    },
    {
      "cell_type": "code",
      "source": [
        "sum(k==y2)/k.shape[0]"
      ],
      "metadata": {
        "colab": {
          "base_uri": "https://localhost:8080/"
        },
        "id": "7oVk-U1hUW5v",
        "outputId": "656b0445-7887-497f-8c4c-fd98c0b564ea"
      },
      "execution_count": null,
      "outputs": [
        {
          "output_type": "execute_result",
          "data": {
            "text/plain": [
              "0.9049079754601227"
            ]
          },
          "metadata": {},
          "execution_count": 132
        }
      ]
    },
    {
      "cell_type": "code",
      "source": [
        "xgb = XGBClassifier(max_depth=8,n_estimators=109\n",
        "                        #    ,random_state=x_decoded['randomstate']\n",
        "                            ,random_state = 8\n",
        "                            )\n",
        "\n",
        "xgb.fit(data[\"X_train\"], data[\"y_train\"])\n",
        "y_predict = xgb.predict(data[\"X_test\"])\n",
        "acc = accuracy_score(data[\"y_test\"], y_predict)\n",
        "pre = precision_score(data[\"y_test\"], y_predict,average='macro')\n",
        "rec = recall_score(data[\"y_test\"], y_predict,average='macro')\n",
        "f1 = f1_score(data[\"y_test\"], y_predict,average='macro')\n",
        "f1"
      ],
      "metadata": {
        "id": "4TYdnIpfD9nM",
        "outputId": "6b0a0c8f-e034-42f2-9936-7eeb545908b3",
        "colab": {
          "base_uri": "https://localhost:8080/"
        }
      },
      "execution_count": 81,
      "outputs": [
        {
          "output_type": "execute_result",
          "data": {
            "text/plain": [
              "0.9058319934095639"
            ]
          },
          "metadata": {},
          "execution_count": 81
        }
      ]
    },
    {
      "cell_type": "code",
      "source": [
        "f1"
      ],
      "metadata": {
        "id": "CltaGhz9EJd_",
        "outputId": "f990c67f-c258-45f9-e80e-19e0940a21ac",
        "colab": {
          "base_uri": "https://localhost:8080/"
        }
      },
      "execution_count": 69,
      "outputs": [
        {
          "output_type": "execute_result",
          "data": {
            "text/plain": [
              "0.9062262680023191"
            ]
          },
          "metadata": {},
          "execution_count": 69
        }
      ]
    },
    {
      "cell_type": "code",
      "source": [
        "y_predict"
      ],
      "metadata": {
        "id": "pJiksXIAEAHR",
        "outputId": "438dac63-1fc9-450c-805c-9a1d03bac315",
        "colab": {
          "base_uri": "https://localhost:8080/"
        }
      },
      "execution_count": 59,
      "outputs": [
        {
          "output_type": "execute_result",
          "data": {
            "text/plain": [
              "array([2, 0, 0, 3, 4, 2, 4, 0, 5, 0, 5, 1, 5, 4, 0, 0, 4, 4, 5, 5, 5, 5,\n",
              "       3, 5, 3, 5, 3, 4, 3, 0, 3, 5, 0, 2, 0, 3, 0, 5, 5, 1, 0, 3, 5, 0,\n",
              "       3, 0, 3, 3, 2, 3, 2, 4, 0, 0, 0, 5, 3, 1, 3, 1, 4, 5, 4, 4, 2, 2,\n",
              "       5, 3, 3, 1, 2, 1, 5, 1, 4, 3, 4, 0, 4, 3, 1, 1, 2, 5, 1, 2, 5, 5,\n",
              "       5, 1, 1, 3, 5, 0, 2, 0, 3, 3, 4, 4, 4, 5, 5, 1, 0, 2, 5, 1, 0, 0,\n",
              "       3, 2, 3, 2, 2, 3, 1, 1, 5, 0, 5, 3, 0, 0, 2, 4, 1, 0, 3, 3, 5, 1,\n",
              "       5, 4, 1, 5, 0, 5, 3, 2, 2, 5, 2, 3, 4, 0, 4, 4, 1, 4, 5, 1, 2, 3,\n",
              "       4, 4, 3, 3, 2, 1, 0, 0, 1, 2, 5, 5, 5, 3, 5, 1, 3, 0, 0, 1, 5, 3,\n",
              "       2, 0, 3, 3, 3, 1, 4, 0, 3, 0, 4, 0, 4, 4, 0, 5, 0, 0, 1, 2, 5, 1,\n",
              "       5, 0, 4, 0, 0, 0, 4, 4, 2, 0, 1, 0, 4, 2, 5, 4, 2, 2, 1, 2, 4, 1,\n",
              "       2, 3, 5, 5, 0, 3, 5, 2, 0, 5, 5, 3, 4, 2, 5, 2, 2, 2, 2, 3, 2, 1,\n",
              "       3, 4, 1, 4, 3, 0, 2, 2, 5, 1, 2, 3, 2, 3, 0, 0, 2, 1, 0, 5, 4, 2,\n",
              "       1, 0, 4, 0, 0, 5, 5, 5, 5, 2, 5, 1, 2, 1, 5, 5, 3, 3, 2, 3, 3, 3,\n",
              "       2, 2, 3, 2, 0, 0, 0, 3, 1, 0, 4, 5, 5, 4, 3, 2, 5, 2, 4, 4, 1, 1,\n",
              "       5, 0, 3, 0, 0, 1, 2, 5, 0, 5, 2, 4, 5, 3, 3, 4, 1, 1, 3, 4, 2, 4,\n",
              "       3, 0, 4, 0, 4, 3, 4, 3, 3, 3, 3, 3, 2, 5, 4, 0, 4, 1, 4, 2, 5, 1,\n",
              "       4, 0, 2, 4, 0, 2, 4, 5, 3, 1, 5, 3, 2, 2, 2, 2, 3, 2, 2, 0, 1, 3,\n",
              "       0, 1, 3, 4, 4, 0, 5, 5, 2, 5, 1, 4, 5, 5, 4, 5, 4, 5, 1, 0, 0, 2,\n",
              "       0, 5, 0, 2, 0, 3, 4, 4, 5, 2, 1, 2, 0, 5, 5, 5, 0, 0, 1, 3, 5, 0,\n",
              "       0, 0, 2, 5, 5, 3, 4, 0, 3, 1, 2, 0, 1, 0, 5, 0, 1, 5, 1, 1, 4, 5,\n",
              "       0, 5, 5, 0, 4, 2, 1, 5, 0, 1, 3, 5, 0, 2, 0, 1, 5, 2, 5, 0, 5, 4,\n",
              "       4, 3, 5, 0, 0, 0, 2, 5, 1, 0, 1, 2, 1, 0, 2, 1, 0, 0, 2, 2, 2, 0,\n",
              "       0, 0, 2, 5, 5, 2, 0, 2, 1, 5, 4, 4, 0, 3, 4, 4, 1, 1, 5, 2, 0, 5,\n",
              "       5, 0, 0, 1, 2, 0, 0, 2, 2, 3, 2, 1, 3, 4, 2, 5, 4, 4, 5, 3, 4, 3,\n",
              "       3, 0, 2, 1, 2, 4, 4, 1, 4, 0, 1, 5, 3, 4, 5, 5, 2, 5, 3, 0, 3, 0,\n",
              "       5, 5, 5, 5, 3, 5, 3, 2, 5, 1, 1, 0, 5, 0, 3, 2, 0, 3, 4, 5, 5, 5,\n",
              "       4, 3, 0, 2, 3, 5, 0, 4, 1, 1, 3, 4, 0, 2, 0, 1, 1, 1, 4, 1, 0, 4,\n",
              "       3, 1, 0, 5, 5, 3, 5, 5, 5, 5, 2, 0, 0, 1, 5, 5, 5, 1, 5, 0, 2, 5,\n",
              "       1, 4, 4, 5, 3, 0, 4, 0, 3, 5, 4, 1, 1, 0, 5, 5, 0, 5, 5, 1, 4, 5,\n",
              "       5, 1, 5, 3, 0, 1, 5, 2, 3, 3, 4, 0, 2, 1])"
            ]
          },
          "metadata": {},
          "execution_count": 59
        }
      ]
    },
    {
      "cell_type": "code",
      "source": [],
      "metadata": {
        "id": "iJEnCYmWEgGz"
      },
      "execution_count": null,
      "outputs": []
    }
  ],
  "metadata": {
    "colab": {
      "provenance": [],
      "collapsed_sections": [
        "waNvzZNTLgXy",
        "eJt76ixMOqOd",
        "Wds6HXGZQ0_F",
        "mZCaf0gBQ5ZL",
        "ndd2DnaIQ8C9"
      ],
      "include_colab_link": true
    },
    "kernelspec": {
      "display_name": "Python 3",
      "name": "python3"
    },
    "language_info": {
      "name": "python"
    }
  },
  "nbformat": 4,
  "nbformat_minor": 0
}