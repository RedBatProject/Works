{
  "cells": [
    {
      "cell_type": "markdown",
      "metadata": {
        "id": "view-in-github",
        "colab_type": "text"
      },
      "source": [
        "<a href=\"https://colab.research.google.com/github/RedBatProject/Works/blob/main/work_43_real_fake_tweets(1).ipynb\" target=\"_parent\"><img src=\"https://colab.research.google.com/assets/colab-badge.svg\" alt=\"Open In Colab\"/></a>"
      ]
    },
    {
      "cell_type": "markdown",
      "metadata": {
        "id": "41rWj4DI8ak1"
      },
      "source": [
        "# Imports"
      ]
    },
    {
      "cell_type": "code",
      "execution_count": 1,
      "metadata": {
        "colab": {
          "base_uri": "https://localhost:8080/"
        },
        "id": "hvVumHzzyM0B",
        "outputId": "fec219f2-7c05-4683-adaa-74b141ef7d15"
      },
      "outputs": [
        {
          "output_type": "stream",
          "name": "stdout",
          "text": [
            "Collecting transformers\n",
            "  Downloading transformers-4.31.0-py3-none-any.whl (7.4 MB)\n",
            "\u001b[2K     \u001b[90m━━━━━━━━━━━━━━━━━━━━━━━━━━━━━━━━━━━━━━━━\u001b[0m \u001b[32m7.4/7.4 MB\u001b[0m \u001b[31m20.2 MB/s\u001b[0m eta \u001b[36m0:00:00\u001b[0m\n",
            "\u001b[?25hRequirement already satisfied: filelock in /usr/local/lib/python3.10/dist-packages (from transformers) (3.12.2)\n",
            "Collecting huggingface-hub<1.0,>=0.14.1 (from transformers)\n",
            "  Downloading huggingface_hub-0.16.4-py3-none-any.whl (268 kB)\n",
            "\u001b[2K     \u001b[90m━━━━━━━━━━━━━━━━━━━━━━━━━━━━━━━━━━━━━━\u001b[0m \u001b[32m268.8/268.8 kB\u001b[0m \u001b[31m22.0 MB/s\u001b[0m eta \u001b[36m0:00:00\u001b[0m\n",
            "\u001b[?25hRequirement already satisfied: numpy>=1.17 in /usr/local/lib/python3.10/dist-packages (from transformers) (1.22.4)\n",
            "Requirement already satisfied: packaging>=20.0 in /usr/local/lib/python3.10/dist-packages (from transformers) (23.1)\n",
            "Requirement already satisfied: pyyaml>=5.1 in /usr/local/lib/python3.10/dist-packages (from transformers) (6.0.1)\n",
            "Requirement already satisfied: regex!=2019.12.17 in /usr/local/lib/python3.10/dist-packages (from transformers) (2022.10.31)\n",
            "Requirement already satisfied: requests in /usr/local/lib/python3.10/dist-packages (from transformers) (2.27.1)\n",
            "Collecting tokenizers!=0.11.3,<0.14,>=0.11.1 (from transformers)\n",
            "  Downloading tokenizers-0.13.3-cp310-cp310-manylinux_2_17_x86_64.manylinux2014_x86_64.whl (7.8 MB)\n",
            "\u001b[2K     \u001b[90m━━━━━━━━━━━━━━━━━━━━━━━━━━━━━━━━━━━━━━━━\u001b[0m \u001b[32m7.8/7.8 MB\u001b[0m \u001b[31m35.0 MB/s\u001b[0m eta \u001b[36m0:00:00\u001b[0m\n",
            "\u001b[?25hCollecting safetensors>=0.3.1 (from transformers)\n",
            "  Downloading safetensors-0.3.1-cp310-cp310-manylinux_2_17_x86_64.manylinux2014_x86_64.whl (1.3 MB)\n",
            "\u001b[2K     \u001b[90m━━━━━━━━━━━━━━━━━━━━━━━━━━━━━━━━━━━━━━━━\u001b[0m \u001b[32m1.3/1.3 MB\u001b[0m \u001b[31m31.9 MB/s\u001b[0m eta \u001b[36m0:00:00\u001b[0m\n",
            "\u001b[?25hRequirement already satisfied: tqdm>=4.27 in /usr/local/lib/python3.10/dist-packages (from transformers) (4.65.0)\n",
            "Requirement already satisfied: fsspec in /usr/local/lib/python3.10/dist-packages (from huggingface-hub<1.0,>=0.14.1->transformers) (2023.6.0)\n",
            "Requirement already satisfied: typing-extensions>=3.7.4.3 in /usr/local/lib/python3.10/dist-packages (from huggingface-hub<1.0,>=0.14.1->transformers) (4.7.1)\n",
            "Requirement already satisfied: urllib3<1.27,>=1.21.1 in /usr/local/lib/python3.10/dist-packages (from requests->transformers) (1.26.16)\n",
            "Requirement already satisfied: certifi>=2017.4.17 in /usr/local/lib/python3.10/dist-packages (from requests->transformers) (2023.7.22)\n",
            "Requirement already satisfied: charset-normalizer~=2.0.0 in /usr/local/lib/python3.10/dist-packages (from requests->transformers) (2.0.12)\n",
            "Requirement already satisfied: idna<4,>=2.5 in /usr/local/lib/python3.10/dist-packages (from requests->transformers) (3.4)\n",
            "Installing collected packages: tokenizers, safetensors, huggingface-hub, transformers\n",
            "Successfully installed huggingface-hub-0.16.4 safetensors-0.3.1 tokenizers-0.13.3 transformers-4.31.0\n"
          ]
        }
      ],
      "source": [
        "!pip install transformers"
      ]
    },
    {
      "cell_type": "code",
      "execution_count": 2,
      "metadata": {
        "execution": {
          "iopub.execute_input": "2023-07-10T19:17:36.932121Z",
          "iopub.status.busy": "2023-07-10T19:17:36.931301Z",
          "iopub.status.idle": "2023-07-10T19:17:43.610945Z",
          "shell.execute_reply": "2023-07-10T19:17:43.609849Z",
          "shell.execute_reply.started": "2023-07-10T19:17:36.932083Z"
        },
        "id": "nk_ca4ABsdNq"
      },
      "outputs": [],
      "source": [
        "import pandas as pd\n",
        "import seaborn as sns\n",
        "import matplotlib.pyplot as plt\n",
        "import nltk\n",
        "import numpy as np\n",
        "from PIL import Image\n",
        "from wordcloud import WordCloud,STOPWORDS\n",
        "from collections import Counter\n",
        "from itertools import chain\n",
        "import tensorflow as tf\n",
        "from transformers import XLNetTokenizer, TFXLNetForSequenceClassification\n",
        "from transformers import XLNetTokenizer, TFXLNetModel\n",
        "from sklearn.model_selection import train_test_split\n",
        "from tensorflow.keras.optimizers import Adam\n",
        "from sklearn.metrics import confusion_matrix,classification_report\n",
        "from sklearn.metrics import roc_curve, auc, precision_recall_curve,average_precision_score\n",
        "from sklearn.metrics import roc_auc_score\n",
        "from sklearn.metrics import cohen_kappa_score, matthews_corrcoef, log_loss\n",
        "from tensorflow.keras.callbacks import EarlyStopping,ReduceLROnPlateau\n",
        "from tensorflow.keras.utils import plot_model\n",
        "%matplotlib inline"
      ]
    },
    {
      "cell_type": "markdown",
      "metadata": {
        "id": "kEwz4MtDsdNu"
      },
      "source": [
        "# Load Data"
      ]
    },
    {
      "cell_type": "code",
      "execution_count": null,
      "metadata": {
        "colab": {
          "base_uri": "https://localhost:8080/",
          "height": 92
        },
        "id": "Z7nlpDQQowJS",
        "outputId": "6fa19e80-c322-4623-a1dd-fd004c149684"
      },
      "outputs": [
        {
          "data": {
            "text/html": [
              "\n",
              "     <input type=\"file\" id=\"files-06cfefd2-9036-498d-8099-bb97a861db38\" name=\"files[]\" multiple disabled\n",
              "        style=\"border:none\" />\n",
              "     <output id=\"result-06cfefd2-9036-498d-8099-bb97a861db38\">\n",
              "      Upload widget is only available when the cell has been executed in the\n",
              "      current browser session. Please rerun this cell to enable.\n",
              "      </output>\n",
              "      <script>// Copyright 2017 Google LLC\n",
              "//\n",
              "// Licensed under the Apache License, Version 2.0 (the \"License\");\n",
              "// you may not use this file except in compliance with the License.\n",
              "// You may obtain a copy of the License at\n",
              "//\n",
              "//      http://www.apache.org/licenses/LICENSE-2.0\n",
              "//\n",
              "// Unless required by applicable law or agreed to in writing, software\n",
              "// distributed under the License is distributed on an \"AS IS\" BASIS,\n",
              "// WITHOUT WARRANTIES OR CONDITIONS OF ANY KIND, either express or implied.\n",
              "// See the License for the specific language governing permissions and\n",
              "// limitations under the License.\n",
              "\n",
              "/**\n",
              " * @fileoverview Helpers for google.colab Python module.\n",
              " */\n",
              "(function(scope) {\n",
              "function span(text, styleAttributes = {}) {\n",
              "  const element = document.createElement('span');\n",
              "  element.textContent = text;\n",
              "  for (const key of Object.keys(styleAttributes)) {\n",
              "    element.style[key] = styleAttributes[key];\n",
              "  }\n",
              "  return element;\n",
              "}\n",
              "\n",
              "// Max number of bytes which will be uploaded at a time.\n",
              "const MAX_PAYLOAD_SIZE = 100 * 1024;\n",
              "\n",
              "function _uploadFiles(inputId, outputId) {\n",
              "  const steps = uploadFilesStep(inputId, outputId);\n",
              "  const outputElement = document.getElementById(outputId);\n",
              "  // Cache steps on the outputElement to make it available for the next call\n",
              "  // to uploadFilesContinue from Python.\n",
              "  outputElement.steps = steps;\n",
              "\n",
              "  return _uploadFilesContinue(outputId);\n",
              "}\n",
              "\n",
              "// This is roughly an async generator (not supported in the browser yet),\n",
              "// where there are multiple asynchronous steps and the Python side is going\n",
              "// to poll for completion of each step.\n",
              "// This uses a Promise to block the python side on completion of each step,\n",
              "// then passes the result of the previous step as the input to the next step.\n",
              "function _uploadFilesContinue(outputId) {\n",
              "  const outputElement = document.getElementById(outputId);\n",
              "  const steps = outputElement.steps;\n",
              "\n",
              "  const next = steps.next(outputElement.lastPromiseValue);\n",
              "  return Promise.resolve(next.value.promise).then((value) => {\n",
              "    // Cache the last promise value to make it available to the next\n",
              "    // step of the generator.\n",
              "    outputElement.lastPromiseValue = value;\n",
              "    return next.value.response;\n",
              "  });\n",
              "}\n",
              "\n",
              "/**\n",
              " * Generator function which is called between each async step of the upload\n",
              " * process.\n",
              " * @param {string} inputId Element ID of the input file picker element.\n",
              " * @param {string} outputId Element ID of the output display.\n",
              " * @return {!Iterable<!Object>} Iterable of next steps.\n",
              " */\n",
              "function* uploadFilesStep(inputId, outputId) {\n",
              "  const inputElement = document.getElementById(inputId);\n",
              "  inputElement.disabled = false;\n",
              "\n",
              "  const outputElement = document.getElementById(outputId);\n",
              "  outputElement.innerHTML = '';\n",
              "\n",
              "  const pickedPromise = new Promise((resolve) => {\n",
              "    inputElement.addEventListener('change', (e) => {\n",
              "      resolve(e.target.files);\n",
              "    });\n",
              "  });\n",
              "\n",
              "  const cancel = document.createElement('button');\n",
              "  inputElement.parentElement.appendChild(cancel);\n",
              "  cancel.textContent = 'Cancel upload';\n",
              "  const cancelPromise = new Promise((resolve) => {\n",
              "    cancel.onclick = () => {\n",
              "      resolve(null);\n",
              "    };\n",
              "  });\n",
              "\n",
              "  // Wait for the user to pick the files.\n",
              "  const files = yield {\n",
              "    promise: Promise.race([pickedPromise, cancelPromise]),\n",
              "    response: {\n",
              "      action: 'starting',\n",
              "    }\n",
              "  };\n",
              "\n",
              "  cancel.remove();\n",
              "\n",
              "  // Disable the input element since further picks are not allowed.\n",
              "  inputElement.disabled = true;\n",
              "\n",
              "  if (!files) {\n",
              "    return {\n",
              "      response: {\n",
              "        action: 'complete',\n",
              "      }\n",
              "    };\n",
              "  }\n",
              "\n",
              "  for (const file of files) {\n",
              "    const li = document.createElement('li');\n",
              "    li.append(span(file.name, {fontWeight: 'bold'}));\n",
              "    li.append(span(\n",
              "        `(${file.type || 'n/a'}) - ${file.size} bytes, ` +\n",
              "        `last modified: ${\n",
              "            file.lastModifiedDate ? file.lastModifiedDate.toLocaleDateString() :\n",
              "                                    'n/a'} - `));\n",
              "    const percent = span('0% done');\n",
              "    li.appendChild(percent);\n",
              "\n",
              "    outputElement.appendChild(li);\n",
              "\n",
              "    const fileDataPromise = new Promise((resolve) => {\n",
              "      const reader = new FileReader();\n",
              "      reader.onload = (e) => {\n",
              "        resolve(e.target.result);\n",
              "      };\n",
              "      reader.readAsArrayBuffer(file);\n",
              "    });\n",
              "    // Wait for the data to be ready.\n",
              "    let fileData = yield {\n",
              "      promise: fileDataPromise,\n",
              "      response: {\n",
              "        action: 'continue',\n",
              "      }\n",
              "    };\n",
              "\n",
              "    // Use a chunked sending to avoid message size limits. See b/62115660.\n",
              "    let position = 0;\n",
              "    do {\n",
              "      const length = Math.min(fileData.byteLength - position, MAX_PAYLOAD_SIZE);\n",
              "      const chunk = new Uint8Array(fileData, position, length);\n",
              "      position += length;\n",
              "\n",
              "      const base64 = btoa(String.fromCharCode.apply(null, chunk));\n",
              "      yield {\n",
              "        response: {\n",
              "          action: 'append',\n",
              "          file: file.name,\n",
              "          data: base64,\n",
              "        },\n",
              "      };\n",
              "\n",
              "      let percentDone = fileData.byteLength === 0 ?\n",
              "          100 :\n",
              "          Math.round((position / fileData.byteLength) * 100);\n",
              "      percent.textContent = `${percentDone}% done`;\n",
              "\n",
              "    } while (position < fileData.byteLength);\n",
              "  }\n",
              "\n",
              "  // All done.\n",
              "  yield {\n",
              "    response: {\n",
              "      action: 'complete',\n",
              "    }\n",
              "  };\n",
              "}\n",
              "\n",
              "scope.google = scope.google || {};\n",
              "scope.google.colab = scope.google.colab || {};\n",
              "scope.google.colab._files = {\n",
              "  _uploadFiles,\n",
              "  _uploadFilesContinue,\n",
              "};\n",
              "})(self);\n",
              "</script> "
            ],
            "text/plain": [
              "<IPython.core.display.HTML object>"
            ]
          },
          "metadata": {},
          "output_type": "display_data"
        },
        {
          "name": "stdout",
          "output_type": "stream",
          "text": [
            "Saving kaggle.json to kaggle.json\n"
          ]
        },
        {
          "data": {
            "text/plain": [
              "{'kaggle.json': b'{\"username\":\"willyvonka\",\"key\":\"2e9df042075e2ca80586e55c66c656a0\"}'}"
            ]
          },
          "execution_count": 3,
          "metadata": {},
          "output_type": "execute_result"
        }
      ],
      "source": [
        "!pip install -q kaggle\n",
        "from google.colab import files\n",
        "files.upload()\n"
      ]
    },
    {
      "cell_type": "code",
      "execution_count": null,
      "metadata": {
        "id": "p1nP4K5jmzUy"
      },
      "outputs": [],
      "source": [
        "!mkdir ~/.kaggle\n",
        "! cp kaggle.json ~/.kaggle/\n",
        "! chmod 600 ~/.kaggle/kaggle.json\n"
      ]
    },
    {
      "cell_type": "code",
      "execution_count": null,
      "metadata": {
        "colab": {
          "base_uri": "https://localhost:8080/"
        },
        "id": "yeweGELfzAOU",
        "outputId": "a8f545c3-d41c-4702-830f-554b2030a214"
      },
      "outputs": [
        {
          "name": "stdout",
          "output_type": "stream",
          "text": [
            "Downloading fake-news-detection.zip to /content\n",
            "\r",
            "  0% 0.00/4.89M [00:00<?, ?B/s]\n",
            "\r",
            "100% 4.89M/4.89M [00:00<00:00, 85.7MB/s]\n"
          ]
        }
      ],
      "source": [
        "!kaggle datasets download -d jruvika/fake-news-detection"
      ]
    },
    {
      "cell_type": "code",
      "execution_count": null,
      "metadata": {
        "colab": {
          "base_uri": "https://localhost:8080/"
        },
        "id": "se1tVgSYzH8m",
        "outputId": "1c2fa6ce-7d23-443d-fc1b-81aa29b235f4"
      },
      "outputs": [
        {
          "name": "stdout",
          "output_type": "stream",
          "text": [
            "Archive:  /content/fake-news-detection.zip\n",
            "  inflating: data.csv                \n",
            "  inflating: data.h5                 \n"
          ]
        }
      ],
      "source": [
        "!unzip /content/fake-news-detection.zip"
      ]
    },
    {
      "cell_type": "markdown",
      "metadata": {
        "id": "Aif5jxDi8ShC"
      },
      "source": [
        "# Read Data"
      ]
    },
    {
      "cell_type": "code",
      "execution_count": 3,
      "metadata": {
        "id": "K9ewwZeOFcFf"
      },
      "outputs": [],
      "source": [
        "import os\n",
        "path0 = '/content/drive/MyDrive/work 43/'\n",
        "path = '/content/drive/MyDrive/work 43/results/'\n",
        "\n",
        "# os.mkdir(path)"
      ]
    },
    {
      "cell_type": "code",
      "execution_count": 5,
      "metadata": {
        "colab": {
          "base_uri": "https://localhost:8080/"
        },
        "id": "JS-JxLEIzz5c",
        "outputId": "62f21a17-3a2d-48c1-ae11-9b16e4fde9d3"
      },
      "outputs": [
        {
          "output_type": "stream",
          "name": "stdout",
          "text": [
            "Drive already mounted at /content/drive; to attempt to forcibly remount, call drive.mount(\"/content/drive\", force_remount=True).\n"
          ]
        }
      ],
      "source": [
        "from google.colab import drive\n",
        "drive.mount('/content/drive')"
      ]
    },
    {
      "cell_type": "code",
      "execution_count": 211,
      "metadata": {
        "colab": {
          "base_uri": "https://localhost:8080/",
          "height": 424
        },
        "id": "7m_ddsISFrTE",
        "outputId": "88faa33c-a9b1-4ffd-d66b-993195e0def9"
      },
      "outputs": [
        {
          "output_type": "execute_result",
          "data": {
            "text/plain": [
              "      Unnamed: 0                                               URLs  \\\n",
              "0              0  http://www.bbc.com/news/world-us-canada-414191...   \n",
              "1              1  https://www.reuters.com/article/us-filmfestiva...   \n",
              "2              2  https://www.nytimes.com/2017/10/09/us/politics...   \n",
              "3              3  https://www.reuters.com/article/us-mexico-oil-...   \n",
              "4              4  http://www.cnn.com/videos/cnnmoney/2017/10/08/...   \n",
              "...          ...                                                ...   \n",
              "4004        4004  http://beforeitsnews.com/sports/2017/09/trends...   \n",
              "4005        4005  http://beforeitsnews.com/u-s-politics/2017/10/...   \n",
              "4006        4006  https://www.activistpost.com/2017/09/ron-paul-...   \n",
              "4007        4007  https://www.reuters.com/article/us-china-pharm...   \n",
              "4008        4008  http://beforeitsnews.com/u-s-politics/2017/10/...   \n",
              "\n",
              "                                               Headline  \\\n",
              "0            Four ways Bob Corker skewered Donald Trump   \n",
              "1     Linklater's war veteran comedy speaks to moder...   \n",
              "2     Trump’s Fight With Corker Jeopardizes His Legi...   \n",
              "3     Egypt's Cheiron wins tie-up with Pemex for Mex...   \n",
              "4           Jason Aldean opens 'SNL' with Vegas tribute   \n",
              "...                                                 ...   \n",
              "4004                                    Trends to Watch   \n",
              "4005  Trump Jr. Is Soon To Give A 30-Minute Speech F...   \n",
              "4006        Ron Paul on Trump, Anarchism & the AltRight   \n",
              "4007  China to accept overseas trial data in bid to ...   \n",
              "4008  Vice President Mike Pence Leaves NFL Game Beca...   \n",
              "\n",
              "                                                   Body  Label  \n",
              "0     Image copyright Getty Images\\nOn Sunday mornin...      1  \n",
              "1     LONDON (Reuters) - “Last Flag Flying”, a comed...      1  \n",
              "2     The feud broke into public view last week when...      1  \n",
              "3     MEXICO CITY (Reuters) - Egypt’s Cheiron Holdin...      1  \n",
              "4     Country singer Jason Aldean, who was performin...      1  \n",
              "...                                                 ...    ...  \n",
              "4004  Trends to Watch\\n% of readers think this story...      0  \n",
              "4005  Trump Jr. Is Soon To Give A 30-Minute Speech F...      0  \n",
              "4006                                                NaN      0  \n",
              "4007  SHANGHAI (Reuters) - China said it plans to ac...      1  \n",
              "4008  Vice President Mike Pence Leaves NFL Game Beca...      0  \n",
              "\n",
              "[4009 rows x 5 columns]"
            ],
            "text/html": [
              "\n",
              "\n",
              "  <div id=\"df-9f1852d9-d80c-4420-b2c3-626ffc4af946\">\n",
              "    <div class=\"colab-df-container\">\n",
              "      <div>\n",
              "<style scoped>\n",
              "    .dataframe tbody tr th:only-of-type {\n",
              "        vertical-align: middle;\n",
              "    }\n",
              "\n",
              "    .dataframe tbody tr th {\n",
              "        vertical-align: top;\n",
              "    }\n",
              "\n",
              "    .dataframe thead th {\n",
              "        text-align: right;\n",
              "    }\n",
              "</style>\n",
              "<table border=\"1\" class=\"dataframe\">\n",
              "  <thead>\n",
              "    <tr style=\"text-align: right;\">\n",
              "      <th></th>\n",
              "      <th>Unnamed: 0</th>\n",
              "      <th>URLs</th>\n",
              "      <th>Headline</th>\n",
              "      <th>Body</th>\n",
              "      <th>Label</th>\n",
              "    </tr>\n",
              "  </thead>\n",
              "  <tbody>\n",
              "    <tr>\n",
              "      <th>0</th>\n",
              "      <td>0</td>\n",
              "      <td>http://www.bbc.com/news/world-us-canada-414191...</td>\n",
              "      <td>Four ways Bob Corker skewered Donald Trump</td>\n",
              "      <td>Image copyright Getty Images\\nOn Sunday mornin...</td>\n",
              "      <td>1</td>\n",
              "    </tr>\n",
              "    <tr>\n",
              "      <th>1</th>\n",
              "      <td>1</td>\n",
              "      <td>https://www.reuters.com/article/us-filmfestiva...</td>\n",
              "      <td>Linklater's war veteran comedy speaks to moder...</td>\n",
              "      <td>LONDON (Reuters) - “Last Flag Flying”, a comed...</td>\n",
              "      <td>1</td>\n",
              "    </tr>\n",
              "    <tr>\n",
              "      <th>2</th>\n",
              "      <td>2</td>\n",
              "      <td>https://www.nytimes.com/2017/10/09/us/politics...</td>\n",
              "      <td>Trump’s Fight With Corker Jeopardizes His Legi...</td>\n",
              "      <td>The feud broke into public view last week when...</td>\n",
              "      <td>1</td>\n",
              "    </tr>\n",
              "    <tr>\n",
              "      <th>3</th>\n",
              "      <td>3</td>\n",
              "      <td>https://www.reuters.com/article/us-mexico-oil-...</td>\n",
              "      <td>Egypt's Cheiron wins tie-up with Pemex for Mex...</td>\n",
              "      <td>MEXICO CITY (Reuters) - Egypt’s Cheiron Holdin...</td>\n",
              "      <td>1</td>\n",
              "    </tr>\n",
              "    <tr>\n",
              "      <th>4</th>\n",
              "      <td>4</td>\n",
              "      <td>http://www.cnn.com/videos/cnnmoney/2017/10/08/...</td>\n",
              "      <td>Jason Aldean opens 'SNL' with Vegas tribute</td>\n",
              "      <td>Country singer Jason Aldean, who was performin...</td>\n",
              "      <td>1</td>\n",
              "    </tr>\n",
              "    <tr>\n",
              "      <th>...</th>\n",
              "      <td>...</td>\n",
              "      <td>...</td>\n",
              "      <td>...</td>\n",
              "      <td>...</td>\n",
              "      <td>...</td>\n",
              "    </tr>\n",
              "    <tr>\n",
              "      <th>4004</th>\n",
              "      <td>4004</td>\n",
              "      <td>http://beforeitsnews.com/sports/2017/09/trends...</td>\n",
              "      <td>Trends to Watch</td>\n",
              "      <td>Trends to Watch\\n% of readers think this story...</td>\n",
              "      <td>0</td>\n",
              "    </tr>\n",
              "    <tr>\n",
              "      <th>4005</th>\n",
              "      <td>4005</td>\n",
              "      <td>http://beforeitsnews.com/u-s-politics/2017/10/...</td>\n",
              "      <td>Trump Jr. Is Soon To Give A 30-Minute Speech F...</td>\n",
              "      <td>Trump Jr. Is Soon To Give A 30-Minute Speech F...</td>\n",
              "      <td>0</td>\n",
              "    </tr>\n",
              "    <tr>\n",
              "      <th>4006</th>\n",
              "      <td>4006</td>\n",
              "      <td>https://www.activistpost.com/2017/09/ron-paul-...</td>\n",
              "      <td>Ron Paul on Trump, Anarchism &amp; the AltRight</td>\n",
              "      <td>NaN</td>\n",
              "      <td>0</td>\n",
              "    </tr>\n",
              "    <tr>\n",
              "      <th>4007</th>\n",
              "      <td>4007</td>\n",
              "      <td>https://www.reuters.com/article/us-china-pharm...</td>\n",
              "      <td>China to accept overseas trial data in bid to ...</td>\n",
              "      <td>SHANGHAI (Reuters) - China said it plans to ac...</td>\n",
              "      <td>1</td>\n",
              "    </tr>\n",
              "    <tr>\n",
              "      <th>4008</th>\n",
              "      <td>4008</td>\n",
              "      <td>http://beforeitsnews.com/u-s-politics/2017/10/...</td>\n",
              "      <td>Vice President Mike Pence Leaves NFL Game Beca...</td>\n",
              "      <td>Vice President Mike Pence Leaves NFL Game Beca...</td>\n",
              "      <td>0</td>\n",
              "    </tr>\n",
              "  </tbody>\n",
              "</table>\n",
              "<p>4009 rows × 5 columns</p>\n",
              "</div>\n",
              "      <button class=\"colab-df-convert\" onclick=\"convertToInteractive('df-9f1852d9-d80c-4420-b2c3-626ffc4af946')\"\n",
              "              title=\"Convert this dataframe to an interactive table.\"\n",
              "              style=\"display:none;\">\n",
              "\n",
              "  <svg xmlns=\"http://www.w3.org/2000/svg\" height=\"24px\"viewBox=\"0 0 24 24\"\n",
              "       width=\"24px\">\n",
              "    <path d=\"M0 0h24v24H0V0z\" fill=\"none\"/>\n",
              "    <path d=\"M18.56 5.44l.94 2.06.94-2.06 2.06-.94-2.06-.94-.94-2.06-.94 2.06-2.06.94zm-11 1L8.5 8.5l.94-2.06 2.06-.94-2.06-.94L8.5 2.5l-.94 2.06-2.06.94zm10 10l.94 2.06.94-2.06 2.06-.94-2.06-.94-.94-2.06-.94 2.06-2.06.94z\"/><path d=\"M17.41 7.96l-1.37-1.37c-.4-.4-.92-.59-1.43-.59-.52 0-1.04.2-1.43.59L10.3 9.45l-7.72 7.72c-.78.78-.78 2.05 0 2.83L4 21.41c.39.39.9.59 1.41.59.51 0 1.02-.2 1.41-.59l7.78-7.78 2.81-2.81c.8-.78.8-2.07 0-2.86zM5.41 20L4 18.59l7.72-7.72 1.47 1.35L5.41 20z\"/>\n",
              "  </svg>\n",
              "      </button>\n",
              "\n",
              "\n",
              "\n",
              "    <div id=\"df-a54a94c5-4e58-4f90-bc22-55244d0cfb7a\">\n",
              "      <button class=\"colab-df-quickchart\" onclick=\"quickchart('df-a54a94c5-4e58-4f90-bc22-55244d0cfb7a')\"\n",
              "              title=\"Suggest charts.\"\n",
              "              style=\"display:none;\">\n",
              "\n",
              "<svg xmlns=\"http://www.w3.org/2000/svg\" height=\"24px\"viewBox=\"0 0 24 24\"\n",
              "     width=\"24px\">\n",
              "    <g>\n",
              "        <path d=\"M19 3H5c-1.1 0-2 .9-2 2v14c0 1.1.9 2 2 2h14c1.1 0 2-.9 2-2V5c0-1.1-.9-2-2-2zM9 17H7v-7h2v7zm4 0h-2V7h2v10zm4 0h-2v-4h2v4z\"/>\n",
              "    </g>\n",
              "</svg>\n",
              "      </button>\n",
              "    </div>\n",
              "\n",
              "<style>\n",
              "  .colab-df-quickchart {\n",
              "    background-color: #E8F0FE;\n",
              "    border: none;\n",
              "    border-radius: 50%;\n",
              "    cursor: pointer;\n",
              "    display: none;\n",
              "    fill: #1967D2;\n",
              "    height: 32px;\n",
              "    padding: 0 0 0 0;\n",
              "    width: 32px;\n",
              "  }\n",
              "\n",
              "  .colab-df-quickchart:hover {\n",
              "    background-color: #E2EBFA;\n",
              "    box-shadow: 0px 1px 2px rgba(60, 64, 67, 0.3), 0px 1px 3px 1px rgba(60, 64, 67, 0.15);\n",
              "    fill: #174EA6;\n",
              "  }\n",
              "\n",
              "  [theme=dark] .colab-df-quickchart {\n",
              "    background-color: #3B4455;\n",
              "    fill: #D2E3FC;\n",
              "  }\n",
              "\n",
              "  [theme=dark] .colab-df-quickchart:hover {\n",
              "    background-color: #434B5C;\n",
              "    box-shadow: 0px 1px 3px 1px rgba(0, 0, 0, 0.15);\n",
              "    filter: drop-shadow(0px 1px 2px rgba(0, 0, 0, 0.3));\n",
              "    fill: #FFFFFF;\n",
              "  }\n",
              "</style>\n",
              "\n",
              "    <script>\n",
              "      async function quickchart(key) {\n",
              "        const containerElement = document.querySelector('#' + key);\n",
              "        const charts = await google.colab.kernel.invokeFunction(\n",
              "            'suggestCharts', [key], {});\n",
              "      }\n",
              "    </script>\n",
              "\n",
              "      <script>\n",
              "\n",
              "function displayQuickchartButton(domScope) {\n",
              "  let quickchartButtonEl =\n",
              "    domScope.querySelector('#df-a54a94c5-4e58-4f90-bc22-55244d0cfb7a button.colab-df-quickchart');\n",
              "  quickchartButtonEl.style.display =\n",
              "    google.colab.kernel.accessAllowed ? 'block' : 'none';\n",
              "}\n",
              "\n",
              "        displayQuickchartButton(document);\n",
              "      </script>\n",
              "      <style>\n",
              "    .colab-df-container {\n",
              "      display:flex;\n",
              "      flex-wrap:wrap;\n",
              "      gap: 12px;\n",
              "    }\n",
              "\n",
              "    .colab-df-convert {\n",
              "      background-color: #E8F0FE;\n",
              "      border: none;\n",
              "      border-radius: 50%;\n",
              "      cursor: pointer;\n",
              "      display: none;\n",
              "      fill: #1967D2;\n",
              "      height: 32px;\n",
              "      padding: 0 0 0 0;\n",
              "      width: 32px;\n",
              "    }\n",
              "\n",
              "    .colab-df-convert:hover {\n",
              "      background-color: #E2EBFA;\n",
              "      box-shadow: 0px 1px 2px rgba(60, 64, 67, 0.3), 0px 1px 3px 1px rgba(60, 64, 67, 0.15);\n",
              "      fill: #174EA6;\n",
              "    }\n",
              "\n",
              "    [theme=dark] .colab-df-convert {\n",
              "      background-color: #3B4455;\n",
              "      fill: #D2E3FC;\n",
              "    }\n",
              "\n",
              "    [theme=dark] .colab-df-convert:hover {\n",
              "      background-color: #434B5C;\n",
              "      box-shadow: 0px 1px 3px 1px rgba(0, 0, 0, 0.15);\n",
              "      filter: drop-shadow(0px 1px 2px rgba(0, 0, 0, 0.3));\n",
              "      fill: #FFFFFF;\n",
              "    }\n",
              "  </style>\n",
              "\n",
              "      <script>\n",
              "        const buttonEl =\n",
              "          document.querySelector('#df-9f1852d9-d80c-4420-b2c3-626ffc4af946 button.colab-df-convert');\n",
              "        buttonEl.style.display =\n",
              "          google.colab.kernel.accessAllowed ? 'block' : 'none';\n",
              "\n",
              "        async function convertToInteractive(key) {\n",
              "          const element = document.querySelector('#df-9f1852d9-d80c-4420-b2c3-626ffc4af946');\n",
              "          const dataTable =\n",
              "            await google.colab.kernel.invokeFunction('convertToInteractive',\n",
              "                                                     [key], {});\n",
              "          if (!dataTable) return;\n",
              "\n",
              "          const docLinkHtml = 'Like what you see? Visit the ' +\n",
              "            '<a target=\"_blank\" href=https://colab.research.google.com/notebooks/data_table.ipynb>data table notebook</a>'\n",
              "            + ' to learn more about interactive tables.';\n",
              "          element.innerHTML = '';\n",
              "          dataTable['output_type'] = 'display_data';\n",
              "          await google.colab.output.renderOutput(dataTable, element);\n",
              "          const docLink = document.createElement('div');\n",
              "          docLink.innerHTML = docLinkHtml;\n",
              "          element.appendChild(docLink);\n",
              "        }\n",
              "      </script>\n",
              "    </div>\n",
              "  </div>\n"
            ]
          },
          "metadata": {},
          "execution_count": 211
        }
      ],
      "source": [
        "df=pd.read_csv(\"/content/drive/MyDrive/work 43/df.csv\")\n",
        "df"
      ]
    },
    {
      "cell_type": "code",
      "execution_count": 212,
      "metadata": {
        "colab": {
          "base_uri": "https://localhost:8080/",
          "height": 206
        },
        "execution": {
          "iopub.execute_input": "2023-07-10T19:17:43.809129Z",
          "iopub.status.busy": "2023-07-10T19:17:43.808737Z",
          "iopub.status.idle": "2023-07-10T19:17:43.83041Z",
          "shell.execute_reply": "2023-07-10T19:17:43.82927Z",
          "shell.execute_reply.started": "2023-07-10T19:17:43.809091Z"
        },
        "id": "byNWSEV9sdNw",
        "outputId": "3f1d898d-638d-4fbe-dc85-754679e7ec08"
      },
      "outputs": [
        {
          "output_type": "execute_result",
          "data": {
            "text/plain": [
              "   Unnamed: 0                                               URLs  \\\n",
              "0           0  http://www.bbc.com/news/world-us-canada-414191...   \n",
              "1           1  https://www.reuters.com/article/us-filmfestiva...   \n",
              "2           2  https://www.nytimes.com/2017/10/09/us/politics...   \n",
              "3           3  https://www.reuters.com/article/us-mexico-oil-...   \n",
              "4           4  http://www.cnn.com/videos/cnnmoney/2017/10/08/...   \n",
              "\n",
              "                                            Headline  \\\n",
              "0         Four ways Bob Corker skewered Donald Trump   \n",
              "1  Linklater's war veteran comedy speaks to moder...   \n",
              "2  Trump’s Fight With Corker Jeopardizes His Legi...   \n",
              "3  Egypt's Cheiron wins tie-up with Pemex for Mex...   \n",
              "4        Jason Aldean opens 'SNL' with Vegas tribute   \n",
              "\n",
              "                                                Body  Label  \n",
              "0  Image copyright Getty Images\\nOn Sunday mornin...      1  \n",
              "1  LONDON (Reuters) - “Last Flag Flying”, a comed...      1  \n",
              "2  The feud broke into public view last week when...      1  \n",
              "3  MEXICO CITY (Reuters) - Egypt’s Cheiron Holdin...      1  \n",
              "4  Country singer Jason Aldean, who was performin...      1  "
            ],
            "text/html": [
              "\n",
              "\n",
              "  <div id=\"df-b7a02754-5251-467a-996a-4a5785c0df1a\">\n",
              "    <div class=\"colab-df-container\">\n",
              "      <div>\n",
              "<style scoped>\n",
              "    .dataframe tbody tr th:only-of-type {\n",
              "        vertical-align: middle;\n",
              "    }\n",
              "\n",
              "    .dataframe tbody tr th {\n",
              "        vertical-align: top;\n",
              "    }\n",
              "\n",
              "    .dataframe thead th {\n",
              "        text-align: right;\n",
              "    }\n",
              "</style>\n",
              "<table border=\"1\" class=\"dataframe\">\n",
              "  <thead>\n",
              "    <tr style=\"text-align: right;\">\n",
              "      <th></th>\n",
              "      <th>Unnamed: 0</th>\n",
              "      <th>URLs</th>\n",
              "      <th>Headline</th>\n",
              "      <th>Body</th>\n",
              "      <th>Label</th>\n",
              "    </tr>\n",
              "  </thead>\n",
              "  <tbody>\n",
              "    <tr>\n",
              "      <th>0</th>\n",
              "      <td>0</td>\n",
              "      <td>http://www.bbc.com/news/world-us-canada-414191...</td>\n",
              "      <td>Four ways Bob Corker skewered Donald Trump</td>\n",
              "      <td>Image copyright Getty Images\\nOn Sunday mornin...</td>\n",
              "      <td>1</td>\n",
              "    </tr>\n",
              "    <tr>\n",
              "      <th>1</th>\n",
              "      <td>1</td>\n",
              "      <td>https://www.reuters.com/article/us-filmfestiva...</td>\n",
              "      <td>Linklater's war veteran comedy speaks to moder...</td>\n",
              "      <td>LONDON (Reuters) - “Last Flag Flying”, a comed...</td>\n",
              "      <td>1</td>\n",
              "    </tr>\n",
              "    <tr>\n",
              "      <th>2</th>\n",
              "      <td>2</td>\n",
              "      <td>https://www.nytimes.com/2017/10/09/us/politics...</td>\n",
              "      <td>Trump’s Fight With Corker Jeopardizes His Legi...</td>\n",
              "      <td>The feud broke into public view last week when...</td>\n",
              "      <td>1</td>\n",
              "    </tr>\n",
              "    <tr>\n",
              "      <th>3</th>\n",
              "      <td>3</td>\n",
              "      <td>https://www.reuters.com/article/us-mexico-oil-...</td>\n",
              "      <td>Egypt's Cheiron wins tie-up with Pemex for Mex...</td>\n",
              "      <td>MEXICO CITY (Reuters) - Egypt’s Cheiron Holdin...</td>\n",
              "      <td>1</td>\n",
              "    </tr>\n",
              "    <tr>\n",
              "      <th>4</th>\n",
              "      <td>4</td>\n",
              "      <td>http://www.cnn.com/videos/cnnmoney/2017/10/08/...</td>\n",
              "      <td>Jason Aldean opens 'SNL' with Vegas tribute</td>\n",
              "      <td>Country singer Jason Aldean, who was performin...</td>\n",
              "      <td>1</td>\n",
              "    </tr>\n",
              "  </tbody>\n",
              "</table>\n",
              "</div>\n",
              "      <button class=\"colab-df-convert\" onclick=\"convertToInteractive('df-b7a02754-5251-467a-996a-4a5785c0df1a')\"\n",
              "              title=\"Convert this dataframe to an interactive table.\"\n",
              "              style=\"display:none;\">\n",
              "\n",
              "  <svg xmlns=\"http://www.w3.org/2000/svg\" height=\"24px\"viewBox=\"0 0 24 24\"\n",
              "       width=\"24px\">\n",
              "    <path d=\"M0 0h24v24H0V0z\" fill=\"none\"/>\n",
              "    <path d=\"M18.56 5.44l.94 2.06.94-2.06 2.06-.94-2.06-.94-.94-2.06-.94 2.06-2.06.94zm-11 1L8.5 8.5l.94-2.06 2.06-.94-2.06-.94L8.5 2.5l-.94 2.06-2.06.94zm10 10l.94 2.06.94-2.06 2.06-.94-2.06-.94-.94-2.06-.94 2.06-2.06.94z\"/><path d=\"M17.41 7.96l-1.37-1.37c-.4-.4-.92-.59-1.43-.59-.52 0-1.04.2-1.43.59L10.3 9.45l-7.72 7.72c-.78.78-.78 2.05 0 2.83L4 21.41c.39.39.9.59 1.41.59.51 0 1.02-.2 1.41-.59l7.78-7.78 2.81-2.81c.8-.78.8-2.07 0-2.86zM5.41 20L4 18.59l7.72-7.72 1.47 1.35L5.41 20z\"/>\n",
              "  </svg>\n",
              "      </button>\n",
              "\n",
              "\n",
              "\n",
              "    <div id=\"df-685a356e-191e-47bd-bdb5-eb0d80131ad6\">\n",
              "      <button class=\"colab-df-quickchart\" onclick=\"quickchart('df-685a356e-191e-47bd-bdb5-eb0d80131ad6')\"\n",
              "              title=\"Suggest charts.\"\n",
              "              style=\"display:none;\">\n",
              "\n",
              "<svg xmlns=\"http://www.w3.org/2000/svg\" height=\"24px\"viewBox=\"0 0 24 24\"\n",
              "     width=\"24px\">\n",
              "    <g>\n",
              "        <path d=\"M19 3H5c-1.1 0-2 .9-2 2v14c0 1.1.9 2 2 2h14c1.1 0 2-.9 2-2V5c0-1.1-.9-2-2-2zM9 17H7v-7h2v7zm4 0h-2V7h2v10zm4 0h-2v-4h2v4z\"/>\n",
              "    </g>\n",
              "</svg>\n",
              "      </button>\n",
              "    </div>\n",
              "\n",
              "<style>\n",
              "  .colab-df-quickchart {\n",
              "    background-color: #E8F0FE;\n",
              "    border: none;\n",
              "    border-radius: 50%;\n",
              "    cursor: pointer;\n",
              "    display: none;\n",
              "    fill: #1967D2;\n",
              "    height: 32px;\n",
              "    padding: 0 0 0 0;\n",
              "    width: 32px;\n",
              "  }\n",
              "\n",
              "  .colab-df-quickchart:hover {\n",
              "    background-color: #E2EBFA;\n",
              "    box-shadow: 0px 1px 2px rgba(60, 64, 67, 0.3), 0px 1px 3px 1px rgba(60, 64, 67, 0.15);\n",
              "    fill: #174EA6;\n",
              "  }\n",
              "\n",
              "  [theme=dark] .colab-df-quickchart {\n",
              "    background-color: #3B4455;\n",
              "    fill: #D2E3FC;\n",
              "  }\n",
              "\n",
              "  [theme=dark] .colab-df-quickchart:hover {\n",
              "    background-color: #434B5C;\n",
              "    box-shadow: 0px 1px 3px 1px rgba(0, 0, 0, 0.15);\n",
              "    filter: drop-shadow(0px 1px 2px rgba(0, 0, 0, 0.3));\n",
              "    fill: #FFFFFF;\n",
              "  }\n",
              "</style>\n",
              "\n",
              "    <script>\n",
              "      async function quickchart(key) {\n",
              "        const containerElement = document.querySelector('#' + key);\n",
              "        const charts = await google.colab.kernel.invokeFunction(\n",
              "            'suggestCharts', [key], {});\n",
              "      }\n",
              "    </script>\n",
              "\n",
              "      <script>\n",
              "\n",
              "function displayQuickchartButton(domScope) {\n",
              "  let quickchartButtonEl =\n",
              "    domScope.querySelector('#df-685a356e-191e-47bd-bdb5-eb0d80131ad6 button.colab-df-quickchart');\n",
              "  quickchartButtonEl.style.display =\n",
              "    google.colab.kernel.accessAllowed ? 'block' : 'none';\n",
              "}\n",
              "\n",
              "        displayQuickchartButton(document);\n",
              "      </script>\n",
              "      <style>\n",
              "    .colab-df-container {\n",
              "      display:flex;\n",
              "      flex-wrap:wrap;\n",
              "      gap: 12px;\n",
              "    }\n",
              "\n",
              "    .colab-df-convert {\n",
              "      background-color: #E8F0FE;\n",
              "      border: none;\n",
              "      border-radius: 50%;\n",
              "      cursor: pointer;\n",
              "      display: none;\n",
              "      fill: #1967D2;\n",
              "      height: 32px;\n",
              "      padding: 0 0 0 0;\n",
              "      width: 32px;\n",
              "    }\n",
              "\n",
              "    .colab-df-convert:hover {\n",
              "      background-color: #E2EBFA;\n",
              "      box-shadow: 0px 1px 2px rgba(60, 64, 67, 0.3), 0px 1px 3px 1px rgba(60, 64, 67, 0.15);\n",
              "      fill: #174EA6;\n",
              "    }\n",
              "\n",
              "    [theme=dark] .colab-df-convert {\n",
              "      background-color: #3B4455;\n",
              "      fill: #D2E3FC;\n",
              "    }\n",
              "\n",
              "    [theme=dark] .colab-df-convert:hover {\n",
              "      background-color: #434B5C;\n",
              "      box-shadow: 0px 1px 3px 1px rgba(0, 0, 0, 0.15);\n",
              "      filter: drop-shadow(0px 1px 2px rgba(0, 0, 0, 0.3));\n",
              "      fill: #FFFFFF;\n",
              "    }\n",
              "  </style>\n",
              "\n",
              "      <script>\n",
              "        const buttonEl =\n",
              "          document.querySelector('#df-b7a02754-5251-467a-996a-4a5785c0df1a button.colab-df-convert');\n",
              "        buttonEl.style.display =\n",
              "          google.colab.kernel.accessAllowed ? 'block' : 'none';\n",
              "\n",
              "        async function convertToInteractive(key) {\n",
              "          const element = document.querySelector('#df-b7a02754-5251-467a-996a-4a5785c0df1a');\n",
              "          const dataTable =\n",
              "            await google.colab.kernel.invokeFunction('convertToInteractive',\n",
              "                                                     [key], {});\n",
              "          if (!dataTable) return;\n",
              "\n",
              "          const docLinkHtml = 'Like what you see? Visit the ' +\n",
              "            '<a target=\"_blank\" href=https://colab.research.google.com/notebooks/data_table.ipynb>data table notebook</a>'\n",
              "            + ' to learn more about interactive tables.';\n",
              "          element.innerHTML = '';\n",
              "          dataTable['output_type'] = 'display_data';\n",
              "          await google.colab.output.renderOutput(dataTable, element);\n",
              "          const docLink = document.createElement('div');\n",
              "          docLink.innerHTML = docLinkHtml;\n",
              "          element.appendChild(docLink);\n",
              "        }\n",
              "      </script>\n",
              "    </div>\n",
              "  </div>\n"
            ]
          },
          "metadata": {},
          "execution_count": 212
        }
      ],
      "source": [
        "df.head()"
      ]
    },
    {
      "cell_type": "code",
      "execution_count": 213,
      "metadata": {
        "colab": {
          "base_uri": "https://localhost:8080/"
        },
        "execution": {
          "iopub.execute_input": "2023-07-10T19:17:43.834904Z",
          "iopub.status.busy": "2023-07-10T19:17:43.834547Z",
          "iopub.status.idle": "2023-07-10T19:17:43.858997Z",
          "shell.execute_reply": "2023-07-10T19:17:43.857811Z",
          "shell.execute_reply.started": "2023-07-10T19:17:43.834874Z"
        },
        "id": "sPUWtkJNsdNw",
        "outputId": "d9d45ce6-93f6-473d-e6a6-6010f99b02d2"
      },
      "outputs": [
        {
          "output_type": "stream",
          "name": "stdout",
          "text": [
            "<class 'pandas.core.frame.DataFrame'>\n",
            "RangeIndex: 4009 entries, 0 to 4008\n",
            "Data columns (total 5 columns):\n",
            " #   Column      Non-Null Count  Dtype \n",
            "---  ------      --------------  ----- \n",
            " 0   Unnamed: 0  4009 non-null   int64 \n",
            " 1   URLs        4009 non-null   object\n",
            " 2   Headline    4009 non-null   object\n",
            " 3   Body        3988 non-null   object\n",
            " 4   Label       4009 non-null   int64 \n",
            "dtypes: int64(2), object(3)\n",
            "memory usage: 156.7+ KB\n"
          ]
        }
      ],
      "source": [
        "df.info()"
      ]
    },
    {
      "cell_type": "code",
      "execution_count": 214,
      "metadata": {
        "colab": {
          "base_uri": "https://localhost:8080/"
        },
        "execution": {
          "iopub.execute_input": "2023-07-10T19:17:43.861388Z",
          "iopub.status.busy": "2023-07-10T19:17:43.860665Z",
          "iopub.status.idle": "2023-07-10T19:17:43.87864Z",
          "shell.execute_reply": "2023-07-10T19:17:43.877471Z",
          "shell.execute_reply.started": "2023-07-10T19:17:43.86135Z"
        },
        "id": "VGjD-A2jsdNx",
        "outputId": "a65dedca-a3b9-4b22-a088-eb8d1ef14bd6"
      },
      "outputs": [
        {
          "output_type": "execute_result",
          "data": {
            "text/plain": [
              "Unnamed: 0     0\n",
              "URLs           0\n",
              "Headline       0\n",
              "Body          21\n",
              "Label          0\n",
              "dtype: int64"
            ]
          },
          "metadata": {},
          "execution_count": 214
        }
      ],
      "source": [
        "df.isnull().sum()"
      ]
    },
    {
      "cell_type": "code",
      "execution_count": 215,
      "metadata": {
        "id": "UVm93DtG6aqM"
      },
      "outputs": [],
      "source": [
        "df.fillna(' ',inplace=True)"
      ]
    },
    {
      "cell_type": "code",
      "execution_count": 216,
      "metadata": {
        "colab": {
          "base_uri": "https://localhost:8080/"
        },
        "execution": {
          "iopub.execute_input": "2023-07-10T19:17:43.881186Z",
          "iopub.status.busy": "2023-07-10T19:17:43.880481Z",
          "iopub.status.idle": "2023-07-10T19:17:43.893284Z",
          "shell.execute_reply": "2023-07-10T19:17:43.891928Z",
          "shell.execute_reply.started": "2023-07-10T19:17:43.881148Z"
        },
        "id": "Q4msRurDsdNx",
        "outputId": "d1ac8289-e546-48c5-aea6-516b63a497df"
      },
      "outputs": [
        {
          "output_type": "execute_result",
          "data": {
            "text/plain": [
              "Index(['Unnamed: 0', 'URLs', 'Headline', 'Body', 'Label'], dtype='object')"
            ]
          },
          "metadata": {},
          "execution_count": 216
        }
      ],
      "source": [
        "df.columns"
      ]
    },
    {
      "cell_type": "code",
      "execution_count": 217,
      "metadata": {
        "id": "w0bb1TNT62_m"
      },
      "outputs": [],
      "source": [
        "# df['text'] = df['Body']\n",
        "# df['text']"
      ]
    },
    {
      "cell_type": "code",
      "execution_count": 218,
      "metadata": {
        "execution": {
          "iopub.execute_input": "2023-07-10T19:17:43.895728Z",
          "iopub.status.busy": "2023-07-10T19:17:43.895061Z",
          "iopub.status.idle": "2023-07-10T19:17:43.905416Z",
          "shell.execute_reply": "2023-07-10T19:17:43.90434Z",
          "shell.execute_reply.started": "2023-07-10T19:17:43.895681Z"
        },
        "id": "7hv2FxrusdNx"
      },
      "outputs": [],
      "source": [
        "# df.drop(['Unnamed: 0'], axis=1,inplace=True)\n",
        "df.drop(['URLs','Unnamed: 0'], axis=1,inplace=True)\n"
      ]
    },
    {
      "cell_type": "code",
      "execution_count": 219,
      "metadata": {
        "colab": {
          "base_uri": "https://localhost:8080/",
          "height": 206
        },
        "execution": {
          "iopub.execute_input": "2023-07-10T19:17:43.907867Z",
          "iopub.status.busy": "2023-07-10T19:17:43.907471Z",
          "iopub.status.idle": "2023-07-10T19:17:43.921304Z",
          "shell.execute_reply": "2023-07-10T19:17:43.92045Z",
          "shell.execute_reply.started": "2023-07-10T19:17:43.907832Z"
        },
        "id": "Hd1IZv3SsdNy",
        "outputId": "be3f37b6-ec89-4c44-8b5d-824cb4be0c4a"
      },
      "outputs": [
        {
          "output_type": "execute_result",
          "data": {
            "text/plain": [
              "                                            Headline  \\\n",
              "0         Four ways Bob Corker skewered Donald Trump   \n",
              "1  Linklater's war veteran comedy speaks to moder...   \n",
              "2  Trump’s Fight With Corker Jeopardizes His Legi...   \n",
              "3  Egypt's Cheiron wins tie-up with Pemex for Mex...   \n",
              "4        Jason Aldean opens 'SNL' with Vegas tribute   \n",
              "\n",
              "                                                Body  Label  \n",
              "0  Image copyright Getty Images\\nOn Sunday mornin...      1  \n",
              "1  LONDON (Reuters) - “Last Flag Flying”, a comed...      1  \n",
              "2  The feud broke into public view last week when...      1  \n",
              "3  MEXICO CITY (Reuters) - Egypt’s Cheiron Holdin...      1  \n",
              "4  Country singer Jason Aldean, who was performin...      1  "
            ],
            "text/html": [
              "\n",
              "\n",
              "  <div id=\"df-c8aac5ce-0d36-4e6e-b9c4-7c2c046f8621\">\n",
              "    <div class=\"colab-df-container\">\n",
              "      <div>\n",
              "<style scoped>\n",
              "    .dataframe tbody tr th:only-of-type {\n",
              "        vertical-align: middle;\n",
              "    }\n",
              "\n",
              "    .dataframe tbody tr th {\n",
              "        vertical-align: top;\n",
              "    }\n",
              "\n",
              "    .dataframe thead th {\n",
              "        text-align: right;\n",
              "    }\n",
              "</style>\n",
              "<table border=\"1\" class=\"dataframe\">\n",
              "  <thead>\n",
              "    <tr style=\"text-align: right;\">\n",
              "      <th></th>\n",
              "      <th>Headline</th>\n",
              "      <th>Body</th>\n",
              "      <th>Label</th>\n",
              "    </tr>\n",
              "  </thead>\n",
              "  <tbody>\n",
              "    <tr>\n",
              "      <th>0</th>\n",
              "      <td>Four ways Bob Corker skewered Donald Trump</td>\n",
              "      <td>Image copyright Getty Images\\nOn Sunday mornin...</td>\n",
              "      <td>1</td>\n",
              "    </tr>\n",
              "    <tr>\n",
              "      <th>1</th>\n",
              "      <td>Linklater's war veteran comedy speaks to moder...</td>\n",
              "      <td>LONDON (Reuters) - “Last Flag Flying”, a comed...</td>\n",
              "      <td>1</td>\n",
              "    </tr>\n",
              "    <tr>\n",
              "      <th>2</th>\n",
              "      <td>Trump’s Fight With Corker Jeopardizes His Legi...</td>\n",
              "      <td>The feud broke into public view last week when...</td>\n",
              "      <td>1</td>\n",
              "    </tr>\n",
              "    <tr>\n",
              "      <th>3</th>\n",
              "      <td>Egypt's Cheiron wins tie-up with Pemex for Mex...</td>\n",
              "      <td>MEXICO CITY (Reuters) - Egypt’s Cheiron Holdin...</td>\n",
              "      <td>1</td>\n",
              "    </tr>\n",
              "    <tr>\n",
              "      <th>4</th>\n",
              "      <td>Jason Aldean opens 'SNL' with Vegas tribute</td>\n",
              "      <td>Country singer Jason Aldean, who was performin...</td>\n",
              "      <td>1</td>\n",
              "    </tr>\n",
              "  </tbody>\n",
              "</table>\n",
              "</div>\n",
              "      <button class=\"colab-df-convert\" onclick=\"convertToInteractive('df-c8aac5ce-0d36-4e6e-b9c4-7c2c046f8621')\"\n",
              "              title=\"Convert this dataframe to an interactive table.\"\n",
              "              style=\"display:none;\">\n",
              "\n",
              "  <svg xmlns=\"http://www.w3.org/2000/svg\" height=\"24px\"viewBox=\"0 0 24 24\"\n",
              "       width=\"24px\">\n",
              "    <path d=\"M0 0h24v24H0V0z\" fill=\"none\"/>\n",
              "    <path d=\"M18.56 5.44l.94 2.06.94-2.06 2.06-.94-2.06-.94-.94-2.06-.94 2.06-2.06.94zm-11 1L8.5 8.5l.94-2.06 2.06-.94-2.06-.94L8.5 2.5l-.94 2.06-2.06.94zm10 10l.94 2.06.94-2.06 2.06-.94-2.06-.94-.94-2.06-.94 2.06-2.06.94z\"/><path d=\"M17.41 7.96l-1.37-1.37c-.4-.4-.92-.59-1.43-.59-.52 0-1.04.2-1.43.59L10.3 9.45l-7.72 7.72c-.78.78-.78 2.05 0 2.83L4 21.41c.39.39.9.59 1.41.59.51 0 1.02-.2 1.41-.59l7.78-7.78 2.81-2.81c.8-.78.8-2.07 0-2.86zM5.41 20L4 18.59l7.72-7.72 1.47 1.35L5.41 20z\"/>\n",
              "  </svg>\n",
              "      </button>\n",
              "\n",
              "\n",
              "\n",
              "    <div id=\"df-11252b8c-e55e-48e3-a8f0-293b1ce2b1c8\">\n",
              "      <button class=\"colab-df-quickchart\" onclick=\"quickchart('df-11252b8c-e55e-48e3-a8f0-293b1ce2b1c8')\"\n",
              "              title=\"Suggest charts.\"\n",
              "              style=\"display:none;\">\n",
              "\n",
              "<svg xmlns=\"http://www.w3.org/2000/svg\" height=\"24px\"viewBox=\"0 0 24 24\"\n",
              "     width=\"24px\">\n",
              "    <g>\n",
              "        <path d=\"M19 3H5c-1.1 0-2 .9-2 2v14c0 1.1.9 2 2 2h14c1.1 0 2-.9 2-2V5c0-1.1-.9-2-2-2zM9 17H7v-7h2v7zm4 0h-2V7h2v10zm4 0h-2v-4h2v4z\"/>\n",
              "    </g>\n",
              "</svg>\n",
              "      </button>\n",
              "    </div>\n",
              "\n",
              "<style>\n",
              "  .colab-df-quickchart {\n",
              "    background-color: #E8F0FE;\n",
              "    border: none;\n",
              "    border-radius: 50%;\n",
              "    cursor: pointer;\n",
              "    display: none;\n",
              "    fill: #1967D2;\n",
              "    height: 32px;\n",
              "    padding: 0 0 0 0;\n",
              "    width: 32px;\n",
              "  }\n",
              "\n",
              "  .colab-df-quickchart:hover {\n",
              "    background-color: #E2EBFA;\n",
              "    box-shadow: 0px 1px 2px rgba(60, 64, 67, 0.3), 0px 1px 3px 1px rgba(60, 64, 67, 0.15);\n",
              "    fill: #174EA6;\n",
              "  }\n",
              "\n",
              "  [theme=dark] .colab-df-quickchart {\n",
              "    background-color: #3B4455;\n",
              "    fill: #D2E3FC;\n",
              "  }\n",
              "\n",
              "  [theme=dark] .colab-df-quickchart:hover {\n",
              "    background-color: #434B5C;\n",
              "    box-shadow: 0px 1px 3px 1px rgba(0, 0, 0, 0.15);\n",
              "    filter: drop-shadow(0px 1px 2px rgba(0, 0, 0, 0.3));\n",
              "    fill: #FFFFFF;\n",
              "  }\n",
              "</style>\n",
              "\n",
              "    <script>\n",
              "      async function quickchart(key) {\n",
              "        const containerElement = document.querySelector('#' + key);\n",
              "        const charts = await google.colab.kernel.invokeFunction(\n",
              "            'suggestCharts', [key], {});\n",
              "      }\n",
              "    </script>\n",
              "\n",
              "      <script>\n",
              "\n",
              "function displayQuickchartButton(domScope) {\n",
              "  let quickchartButtonEl =\n",
              "    domScope.querySelector('#df-11252b8c-e55e-48e3-a8f0-293b1ce2b1c8 button.colab-df-quickchart');\n",
              "  quickchartButtonEl.style.display =\n",
              "    google.colab.kernel.accessAllowed ? 'block' : 'none';\n",
              "}\n",
              "\n",
              "        displayQuickchartButton(document);\n",
              "      </script>\n",
              "      <style>\n",
              "    .colab-df-container {\n",
              "      display:flex;\n",
              "      flex-wrap:wrap;\n",
              "      gap: 12px;\n",
              "    }\n",
              "\n",
              "    .colab-df-convert {\n",
              "      background-color: #E8F0FE;\n",
              "      border: none;\n",
              "      border-radius: 50%;\n",
              "      cursor: pointer;\n",
              "      display: none;\n",
              "      fill: #1967D2;\n",
              "      height: 32px;\n",
              "      padding: 0 0 0 0;\n",
              "      width: 32px;\n",
              "    }\n",
              "\n",
              "    .colab-df-convert:hover {\n",
              "      background-color: #E2EBFA;\n",
              "      box-shadow: 0px 1px 2px rgba(60, 64, 67, 0.3), 0px 1px 3px 1px rgba(60, 64, 67, 0.15);\n",
              "      fill: #174EA6;\n",
              "    }\n",
              "\n",
              "    [theme=dark] .colab-df-convert {\n",
              "      background-color: #3B4455;\n",
              "      fill: #D2E3FC;\n",
              "    }\n",
              "\n",
              "    [theme=dark] .colab-df-convert:hover {\n",
              "      background-color: #434B5C;\n",
              "      box-shadow: 0px 1px 3px 1px rgba(0, 0, 0, 0.15);\n",
              "      filter: drop-shadow(0px 1px 2px rgba(0, 0, 0, 0.3));\n",
              "      fill: #FFFFFF;\n",
              "    }\n",
              "  </style>\n",
              "\n",
              "      <script>\n",
              "        const buttonEl =\n",
              "          document.querySelector('#df-c8aac5ce-0d36-4e6e-b9c4-7c2c046f8621 button.colab-df-convert');\n",
              "        buttonEl.style.display =\n",
              "          google.colab.kernel.accessAllowed ? 'block' : 'none';\n",
              "\n",
              "        async function convertToInteractive(key) {\n",
              "          const element = document.querySelector('#df-c8aac5ce-0d36-4e6e-b9c4-7c2c046f8621');\n",
              "          const dataTable =\n",
              "            await google.colab.kernel.invokeFunction('convertToInteractive',\n",
              "                                                     [key], {});\n",
              "          if (!dataTable) return;\n",
              "\n",
              "          const docLinkHtml = 'Like what you see? Visit the ' +\n",
              "            '<a target=\"_blank\" href=https://colab.research.google.com/notebooks/data_table.ipynb>data table notebook</a>'\n",
              "            + ' to learn more about interactive tables.';\n",
              "          element.innerHTML = '';\n",
              "          dataTable['output_type'] = 'display_data';\n",
              "          await google.colab.output.renderOutput(dataTable, element);\n",
              "          const docLink = document.createElement('div');\n",
              "          docLink.innerHTML = docLinkHtml;\n",
              "          element.appendChild(docLink);\n",
              "        }\n",
              "      </script>\n",
              "    </div>\n",
              "  </div>\n"
            ]
          },
          "metadata": {},
          "execution_count": 219
        }
      ],
      "source": [
        "df.head()"
      ]
    },
    {
      "cell_type": "markdown",
      "metadata": {
        "id": "3uZuzL3qsdNy"
      },
      "source": [
        "### You are predicting whether a given tweet is about a real disaster or not. If so, predict a 1. If not, predict a 0."
      ]
    },
    {
      "cell_type": "code",
      "execution_count": 220,
      "metadata": {
        "id": "tI_QuzYN7HA4"
      },
      "outputs": [],
      "source": [
        "df.columns = ['head','text','target']"
      ]
    },
    {
      "cell_type": "code",
      "execution_count": 221,
      "metadata": {
        "colab": {
          "base_uri": "https://localhost:8080/"
        },
        "execution": {
          "iopub.execute_input": "2023-07-10T19:17:43.924138Z",
          "iopub.status.busy": "2023-07-10T19:17:43.922908Z",
          "iopub.status.idle": "2023-07-10T19:17:43.935082Z",
          "shell.execute_reply": "2023-07-10T19:17:43.934144Z",
          "shell.execute_reply.started": "2023-07-10T19:17:43.924102Z"
        },
        "id": "oS-z4KVDsdNz",
        "outputId": "99425006-3fb9-4701-b690-c212d0bd1c77"
      },
      "outputs": [
        {
          "output_type": "execute_result",
          "data": {
            "text/plain": [
              "0    2137\n",
              "1    1872\n",
              "Name: target, dtype: int64"
            ]
          },
          "metadata": {},
          "execution_count": 221
        }
      ],
      "source": [
        "df.target.value_counts()"
      ]
    },
    {
      "cell_type": "code",
      "execution_count": 222,
      "metadata": {
        "id": "ZXOVIFc_86i6"
      },
      "outputs": [],
      "source": [
        "df['label'] = df['target']"
      ]
    },
    {
      "cell_type": "code",
      "execution_count": 223,
      "metadata": {
        "id": "ukU_aBWE8-Xr"
      },
      "outputs": [],
      "source": [
        "df['label'].replace({1:'Real',0:'Fake'},inplace=True)"
      ]
    },
    {
      "cell_type": "code",
      "execution_count": 224,
      "metadata": {
        "colab": {
          "base_uri": "https://localhost:8080/"
        },
        "id": "AZ-v9d4G9idu",
        "outputId": "71f6bd1e-45ae-4b39-8bc8-0043628680db"
      },
      "outputs": [
        {
          "output_type": "execute_result",
          "data": {
            "text/plain": [
              "Fake    2137\n",
              "Real    1872\n",
              "Name: label, dtype: int64"
            ]
          },
          "metadata": {},
          "execution_count": 224
        }
      ],
      "source": [
        "df.label.value_counts()\n"
      ]
    },
    {
      "cell_type": "code",
      "execution_count": 225,
      "metadata": {
        "id": "HFnQkEYisdNz",
        "colab": {
          "base_uri": "https://localhost:8080/",
          "height": 465
        },
        "outputId": "59d4a34a-eb9d-4072-f121-efcbf1eacb53"
      },
      "outputs": [
        {
          "output_type": "display_data",
          "data": {
            "text/plain": [
              "<Figure size 700x500 with 1 Axes>"
            ],
            "image/png": "[encoded data removed]"
          },
          "metadata": {}
        }
      ],
      "source": [
        "plt.figure(figsize=(7,5))\n",
        "sns.countplot(data=df, y=\"label\",palette=[\"navy\",\"crimson\"])\n",
        "# plt.title(\"Compare Target\")\n",
        "df['label'].to_csv(f'{path}_labels.csv',index=False)\n",
        "plt.savefig(f'{path}_labels.png',bbox_inches='tight')\n",
        "plt.show()"
      ]
    },
    {
      "cell_type": "markdown",
      "metadata": {
        "id": "XVGipssP1HIN"
      },
      "source": [
        "Pre Processing"
      ]
    },
    {
      "cell_type": "code",
      "execution_count": 226,
      "metadata": {
        "id": "Fw-LnZxu1QLV"
      },
      "outputs": [],
      "source": [
        "import re"
      ]
    },
    {
      "cell_type": "code",
      "execution_count": 227,
      "metadata": {
        "id": "kmhrhhsCur12"
      },
      "outputs": [],
      "source": [
        "def removepunc(x):\n",
        "    x = x.lower()\n",
        "    x = re.sub(r\" ' \",\"\",x)\n",
        "    x = re.sub(r\"'\",\"\",x)\n",
        "    x = re.sub(r\"\\r\",\" \",x)\n",
        "    x = re.sub(r\"\\n\",\" \",x)\n",
        "    # x = re.sub(r\" / \",\"\",x)\n",
        "\n",
        "    # x = re.sub(r\" . \",\"\",x)\n",
        "\n",
        "    x = re.sub(r\"(@[A-Za-z]+)|([^0-9A-Za-z \\t])|(\\w+:\\/\\/\\S+)|^rt|http.+?\", \"\", x)\n",
        "    # x = re.sub(r\"(@[A-Za-z0-9]+)|([^0-9A-Za-z \\t])|(\\w+:\\/\\/\\S+)|^rt|http.+?\", \" \", x)\n",
        "    # x = re.sub(r\"  \",\" \",x)\n",
        "    # x = re.sub(r\"  \",\" \",x)\n",
        "    # x = re.sub(r\"  \",\" \",x)\n",
        "    # x = re.sub(r\"  \",\" \",x)\n",
        "    # x = re.sub(r\"  \",\" \",x)\n",
        "    # x = re.sub(r\"  \",\" \",x)\n",
        "    # x = re.sub(r\"  \",\" \",x)\n",
        "    # x = re.sub(r\"  \",\" \",x)\n",
        "    return x"
      ]
    },
    {
      "cell_type": "code",
      "execution_count": 228,
      "metadata": {
        "colab": {
          "base_uri": "https://localhost:8080/"
        },
        "id": "Q0hR3YsOTCz7",
        "outputId": "d04590f1-d9d0-4efa-e2a6-ab8829095ada"
      },
      "outputs": [
        {
          "output_type": "stream",
          "name": "stdout",
          "text": [
            "['i', 'me', 'my', 'myself', 'we', 'our', 'ours', 'ourselves', 'you', \"you're\", \"you've\", \"you'll\", \"you'd\", 'your', 'yours', 'yourself', 'yourselves', 'he', 'him', 'his', 'himself', 'she', \"she's\", 'her', 'hers', 'herself', 'it', \"it's\", 'its', 'itself', 'they', 'them', 'their', 'theirs', 'themselves', 'what', 'which', 'who', 'whom', 'this', 'that', \"that'll\", 'these', 'those', 'am', 'is', 'are', 'was', 'were', 'be', 'been', 'being', 'have', 'has', 'had', 'having', 'do', 'does', 'did', 'doing', 'a', 'an', 'the', 'and', 'but', 'if', 'or', 'because', 'as', 'until', 'while', 'of', 'at', 'by', 'for', 'with', 'about', 'against', 'between', 'into', 'through', 'during', 'before', 'after', 'above', 'below', 'to', 'from', 'up', 'down', 'in', 'out', 'on', 'off', 'over', 'under', 'again', 'further', 'then', 'once', 'here', 'there', 'when', 'where', 'why', 'how', 'all', 'any', 'both', 'each', 'few', 'more', 'most', 'other', 'some', 'such', 'no', 'nor', 'not', 'only', 'own', 'same', 'so', 'than', 'too', 'very', 's', 't', 'can', 'will', 'just', 'don', \"don't\", 'should', \"should've\", 'now', 'd', 'll', 'm', 'o', 're', 've', 'y', 'ain', 'aren', \"aren't\", 'couldn', \"couldn't\", 'didn', \"didn't\", 'doesn', \"doesn't\", 'hadn', \"hadn't\", 'hasn', \"hasn't\", 'haven', \"haven't\", 'isn', \"isn't\", 'ma', 'mightn', \"mightn't\", 'mustn', \"mustn't\", 'needn', \"needn't\", 'shan', \"shan't\", 'shouldn', \"shouldn't\", 'wasn', \"wasn't\", 'weren', \"weren't\", 'won', \"won't\", 'wouldn', \"wouldn't\"]\n"
          ]
        },
        {
          "output_type": "stream",
          "name": "stderr",
          "text": [
            "[nltk_data] Downloading package stopwords to /root/nltk_data...\n",
            "[nltk_data]   Package stopwords is already up-to-date!\n"
          ]
        }
      ],
      "source": [
        "import nltk\n",
        "from nltk.corpus import stopwords\n",
        "\n",
        "nltk.download('stopwords')\n",
        "print(stopwords.words('english'))"
      ]
    },
    {
      "cell_type": "code",
      "execution_count": 229,
      "metadata": {
        "id": "cKTl9FKVTFZI"
      },
      "outputs": [],
      "source": [
        "stop_words = set(stopwords.words('english'))"
      ]
    },
    {
      "cell_type": "code",
      "execution_count": 230,
      "metadata": {
        "id": "y4H2abnSS_Lf"
      },
      "outputs": [],
      "source": [
        "def lenword(x):\n",
        "  # l = x.spllit()\n",
        "  x = ' '.join([word for word in x.split() if (len(word) > 1 or word in (['i','a']))])\n",
        "  x = ' '.join([word for word in x.split() if word not in stop_words])\n",
        "\n",
        "  return x"
      ]
    },
    {
      "cell_type": "code",
      "execution_count": 231,
      "metadata": {
        "id": "VBzH1n_ovCfn"
      },
      "outputs": [],
      "source": [
        "df['text'] = df['text'].apply(lambda x:removepunc(x))"
      ]
    },
    {
      "cell_type": "code",
      "execution_count": 232,
      "metadata": {
        "id": "diyV4bJZTJLM"
      },
      "outputs": [],
      "source": [
        "df['text'] = df['text'].apply(lambda x:lenword(x))"
      ]
    },
    {
      "cell_type": "code",
      "execution_count": 233,
      "metadata": {
        "colab": {
          "base_uri": "https://localhost:8080/"
        },
        "id": "5bR6MHiV1UkT",
        "outputId": "f79a1817-a123-4e1f-e1d6-60934ba80559"
      },
      "outputs": [
        {
          "output_type": "execute_result",
          "data": {
            "text/plain": [
              "0       image copyright getty images sunday morning do...\n",
              "1       london reuters last flag flying comedydrama vi...\n",
              "2       feud broke public view last week mr corker sai...\n",
              "3       mexico city reuters egypts cheiron holdings li...\n",
              "4       country singer jason aldean performing las veg...\n",
              "                              ...                        \n",
              "4004    trends watch readers think story fact add two ...\n",
              "4005    trump jr soon give 30minute speech 100000 read...\n",
              "4006                                                     \n",
              "4007    shanghai reuters china said plans accept data ...\n",
              "4008    vice president mike pence leaves nfl game anti...\n",
              "Name: text, Length: 4009, dtype: object"
            ]
          },
          "metadata": {},
          "execution_count": 233
        }
      ],
      "source": [
        "df['text']"
      ]
    },
    {
      "cell_type": "markdown",
      "metadata": {
        "id": "FYEMy0GFsdNz"
      },
      "source": [
        "# Count Character"
      ]
    },
    {
      "cell_type": "code",
      "execution_count": null,
      "metadata": {
        "execution": {
          "iopub.execute_input": "2023-07-10T19:17:44.178122Z",
          "iopub.status.busy": "2023-07-10T19:17:44.177407Z",
          "iopub.status.idle": "2023-07-10T19:17:44.19113Z",
          "shell.execute_reply": "2023-07-10T19:17:44.189893Z",
          "shell.execute_reply.started": "2023-07-10T19:17:44.178083Z"
        },
        "id": "CwQl0FP_sdN0"
      },
      "outputs": [],
      "source": [
        "df[\"character_count\"]=df[\"text\"].str.len()"
      ]
    },
    {
      "cell_type": "markdown",
      "metadata": {
        "id": "L0-RGWpIsdN0"
      },
      "source": [
        "# Count Word"
      ]
    },
    {
      "cell_type": "code",
      "execution_count": null,
      "metadata": {
        "execution": {
          "iopub.execute_input": "2023-07-10T19:17:44.193631Z",
          "iopub.status.busy": "2023-07-10T19:17:44.192614Z",
          "iopub.status.idle": "2023-07-10T19:17:44.234009Z",
          "shell.execute_reply": "2023-07-10T19:17:44.232887Z",
          "shell.execute_reply.started": "2023-07-10T19:17:44.19359Z"
        },
        "id": "rjWoD40dsdN0"
      },
      "outputs": [],
      "source": [
        "df['word_count'] = df['text'].str.split().str.len()\n"
      ]
    },
    {
      "cell_type": "code",
      "execution_count": null,
      "metadata": {
        "colab": {
          "base_uri": "https://localhost:8080/",
          "height": 424
        },
        "id": "Ffd6oXiW8Sje",
        "outputId": "be3541d5-0e4e-4f74-c227-879b3bfcabf4"
      },
      "outputs": [
        {
          "data": {
            "text/html": [
              "\n",
              "\n",
              "  <div id=\"df-c7b60831-e58b-476e-b4a0-b2917dbdb656\">\n",
              "    <div class=\"colab-df-container\">\n",
              "      <div>\n",
              "<style scoped>\n",
              "    .dataframe tbody tr th:only-of-type {\n",
              "        vertical-align: middle;\n",
              "    }\n",
              "\n",
              "    .dataframe tbody tr th {\n",
              "        vertical-align: top;\n",
              "    }\n",
              "\n",
              "    .dataframe thead th {\n",
              "        text-align: right;\n",
              "    }\n",
              "</style>\n",
              "<table border=\"1\" class=\"dataframe\">\n",
              "  <thead>\n",
              "    <tr style=\"text-align: right;\">\n",
              "      <th></th>\n",
              "      <th>head</th>\n",
              "      <th>text</th>\n",
              "      <th>target</th>\n",
              "      <th>label</th>\n",
              "      <th>character_count</th>\n",
              "      <th>word_count</th>\n",
              "    </tr>\n",
              "  </thead>\n",
              "  <tbody>\n",
              "    <tr>\n",
              "      <th>0</th>\n",
              "      <td>Four ways Bob Corker skewered Donald Trump</td>\n",
              "      <td>image copyright getty images on sunday morning...</td>\n",
              "      <td>1</td>\n",
              "      <td>Real</td>\n",
              "      <td>6186</td>\n",
              "      <td>1045</td>\n",
              "    </tr>\n",
              "    <tr>\n",
              "      <th>1</th>\n",
              "      <td>Linklater's war veteran comedy speaks to moder...</td>\n",
              "      <td>london reuters last flag flying a comedydrama ...</td>\n",
              "      <td>1</td>\n",
              "      <td>Real</td>\n",
              "      <td>3176</td>\n",
              "      <td>543</td>\n",
              "    </tr>\n",
              "    <tr>\n",
              "      <th>2</th>\n",
              "      <td>Trump’s Fight With Corker Jeopardizes His Legi...</td>\n",
              "      <td>the feud broke into public view last week when...</td>\n",
              "      <td>1</td>\n",
              "      <td>Real</td>\n",
              "      <td>6335</td>\n",
              "      <td>1079</td>\n",
              "    </tr>\n",
              "    <tr>\n",
              "      <th>3</th>\n",
              "      <td>Egypt's Cheiron wins tie-up with Pemex for Mex...</td>\n",
              "      <td>mexico city reuters egypts cheiron holdings li...</td>\n",
              "      <td>1</td>\n",
              "      <td>Real</td>\n",
              "      <td>609</td>\n",
              "      <td>96</td>\n",
              "    </tr>\n",
              "    <tr>\n",
              "      <th>4</th>\n",
              "      <td>Jason Aldean opens 'SNL' with Vegas tribute</td>\n",
              "      <td>country singer jason aldean who was performing...</td>\n",
              "      <td>1</td>\n",
              "      <td>Real</td>\n",
              "      <td>204</td>\n",
              "      <td>37</td>\n",
              "    </tr>\n",
              "    <tr>\n",
              "      <th>...</th>\n",
              "      <td>...</td>\n",
              "      <td>...</td>\n",
              "      <td>...</td>\n",
              "      <td>...</td>\n",
              "      <td>...</td>\n",
              "      <td>...</td>\n",
              "    </tr>\n",
              "    <tr>\n",
              "      <th>4004</th>\n",
              "      <td>Trends to Watch</td>\n",
              "      <td>trends to watch of readers think this story is...</td>\n",
              "      <td>0</td>\n",
              "      <td>Fake</td>\n",
              "      <td>1713</td>\n",
              "      <td>316</td>\n",
              "    </tr>\n",
              "    <tr>\n",
              "      <th>4005</th>\n",
              "      <td>Trump Jr. Is Soon To Give A 30-Minute Speech F...</td>\n",
              "      <td>trump jr is soon to give a 30minute speech for...</td>\n",
              "      <td>0</td>\n",
              "      <td>Fake</td>\n",
              "      <td>276</td>\n",
              "      <td>55</td>\n",
              "    </tr>\n",
              "    <tr>\n",
              "      <th>4006</th>\n",
              "      <td>Ron Paul on Trump, Anarchism &amp; the AltRight</td>\n",
              "      <td></td>\n",
              "      <td>0</td>\n",
              "      <td>Fake</td>\n",
              "      <td>0</td>\n",
              "      <td>0</td>\n",
              "    </tr>\n",
              "    <tr>\n",
              "      <th>4007</th>\n",
              "      <td>China to accept overseas trial data in bid to ...</td>\n",
              "      <td>shanghai reuters china said it plans to accept...</td>\n",
              "      <td>1</td>\n",
              "      <td>Real</td>\n",
              "      <td>1925</td>\n",
              "      <td>315</td>\n",
              "    </tr>\n",
              "    <tr>\n",
              "      <th>4008</th>\n",
              "      <td>Vice President Mike Pence Leaves NFL Game Beca...</td>\n",
              "      <td>vice president mike pence leaves nfl game beca...</td>\n",
              "      <td>0</td>\n",
              "      <td>Fake</td>\n",
              "      <td>3324</td>\n",
              "      <td>572</td>\n",
              "    </tr>\n",
              "  </tbody>\n",
              "</table>\n",
              "<p>4009 rows × 6 columns</p>\n",
              "</div>\n",
              "      <button class=\"colab-df-convert\" onclick=\"convertToInteractive('df-c7b60831-e58b-476e-b4a0-b2917dbdb656')\"\n",
              "              title=\"Convert this dataframe to an interactive table.\"\n",
              "              style=\"display:none;\">\n",
              "\n",
              "  <svg xmlns=\"http://www.w3.org/2000/svg\" height=\"24px\"viewBox=\"0 0 24 24\"\n",
              "       width=\"24px\">\n",
              "    <path d=\"M0 0h24v24H0V0z\" fill=\"none\"/>\n",
              "    <path d=\"M18.56 5.44l.94 2.06.94-2.06 2.06-.94-2.06-.94-.94-2.06-.94 2.06-2.06.94zm-11 1L8.5 8.5l.94-2.06 2.06-.94-2.06-.94L8.5 2.5l-.94 2.06-2.06.94zm10 10l.94 2.06.94-2.06 2.06-.94-2.06-.94-.94-2.06-.94 2.06-2.06.94z\"/><path d=\"M17.41 7.96l-1.37-1.37c-.4-.4-.92-.59-1.43-.59-.52 0-1.04.2-1.43.59L10.3 9.45l-7.72 7.72c-.78.78-.78 2.05 0 2.83L4 21.41c.39.39.9.59 1.41.59.51 0 1.02-.2 1.41-.59l7.78-7.78 2.81-2.81c.8-.78.8-2.07 0-2.86zM5.41 20L4 18.59l7.72-7.72 1.47 1.35L5.41 20z\"/>\n",
              "  </svg>\n",
              "      </button>\n",
              "\n",
              "\n",
              "\n",
              "    <div id=\"df-cc0c16f3-901c-48ca-849d-4a5ed1d71520\">\n",
              "      <button class=\"colab-df-quickchart\" onclick=\"quickchart('df-cc0c16f3-901c-48ca-849d-4a5ed1d71520')\"\n",
              "              title=\"Suggest charts.\"\n",
              "              style=\"display:none;\">\n",
              "\n",
              "<svg xmlns=\"http://www.w3.org/2000/svg\" height=\"24px\"viewBox=\"0 0 24 24\"\n",
              "     width=\"24px\">\n",
              "    <g>\n",
              "        <path d=\"M19 3H5c-1.1 0-2 .9-2 2v14c0 1.1.9 2 2 2h14c1.1 0 2-.9 2-2V5c0-1.1-.9-2-2-2zM9 17H7v-7h2v7zm4 0h-2V7h2v10zm4 0h-2v-4h2v4z\"/>\n",
              "    </g>\n",
              "</svg>\n",
              "      </button>\n",
              "    </div>\n",
              "\n",
              "<style>\n",
              "  .colab-df-quickchart {\n",
              "    background-color: #E8F0FE;\n",
              "    border: none;\n",
              "    border-radius: 50%;\n",
              "    cursor: pointer;\n",
              "    display: none;\n",
              "    fill: #1967D2;\n",
              "    height: 32px;\n",
              "    padding: 0 0 0 0;\n",
              "    width: 32px;\n",
              "  }\n",
              "\n",
              "  .colab-df-quickchart:hover {\n",
              "    background-color: #E2EBFA;\n",
              "    box-shadow: 0px 1px 2px rgba(60, 64, 67, 0.3), 0px 1px 3px 1px rgba(60, 64, 67, 0.15);\n",
              "    fill: #174EA6;\n",
              "  }\n",
              "\n",
              "  [theme=dark] .colab-df-quickchart {\n",
              "    background-color: #3B4455;\n",
              "    fill: #D2E3FC;\n",
              "  }\n",
              "\n",
              "  [theme=dark] .colab-df-quickchart:hover {\n",
              "    background-color: #434B5C;\n",
              "    box-shadow: 0px 1px 3px 1px rgba(0, 0, 0, 0.15);\n",
              "    filter: drop-shadow(0px 1px 2px rgba(0, 0, 0, 0.3));\n",
              "    fill: #FFFFFF;\n",
              "  }\n",
              "</style>\n",
              "\n",
              "    <script>\n",
              "      async function quickchart(key) {\n",
              "        const containerElement = document.querySelector('#' + key);\n",
              "        const charts = await google.colab.kernel.invokeFunction(\n",
              "            'suggestCharts', [key], {});\n",
              "      }\n",
              "    </script>\n",
              "\n",
              "      <script>\n",
              "\n",
              "function displayQuickchartButton(domScope) {\n",
              "  let quickchartButtonEl =\n",
              "    domScope.querySelector('#df-cc0c16f3-901c-48ca-849d-4a5ed1d71520 button.colab-df-quickchart');\n",
              "  quickchartButtonEl.style.display =\n",
              "    google.colab.kernel.accessAllowed ? 'block' : 'none';\n",
              "}\n",
              "\n",
              "        displayQuickchartButton(document);\n",
              "      </script>\n",
              "      <style>\n",
              "    .colab-df-container {\n",
              "      display:flex;\n",
              "      flex-wrap:wrap;\n",
              "      gap: 12px;\n",
              "    }\n",
              "\n",
              "    .colab-df-convert {\n",
              "      background-color: #E8F0FE;\n",
              "      border: none;\n",
              "      border-radius: 50%;\n",
              "      cursor: pointer;\n",
              "      display: none;\n",
              "      fill: #1967D2;\n",
              "      height: 32px;\n",
              "      padding: 0 0 0 0;\n",
              "      width: 32px;\n",
              "    }\n",
              "\n",
              "    .colab-df-convert:hover {\n",
              "      background-color: #E2EBFA;\n",
              "      box-shadow: 0px 1px 2px rgba(60, 64, 67, 0.3), 0px 1px 3px 1px rgba(60, 64, 67, 0.15);\n",
              "      fill: #174EA6;\n",
              "    }\n",
              "\n",
              "    [theme=dark] .colab-df-convert {\n",
              "      background-color: #3B4455;\n",
              "      fill: #D2E3FC;\n",
              "    }\n",
              "\n",
              "    [theme=dark] .colab-df-convert:hover {\n",
              "      background-color: #434B5C;\n",
              "      box-shadow: 0px 1px 3px 1px rgba(0, 0, 0, 0.15);\n",
              "      filter: drop-shadow(0px 1px 2px rgba(0, 0, 0, 0.3));\n",
              "      fill: #FFFFFF;\n",
              "    }\n",
              "  </style>\n",
              "\n",
              "      <script>\n",
              "        const buttonEl =\n",
              "          document.querySelector('#df-c7b60831-e58b-476e-b4a0-b2917dbdb656 button.colab-df-convert');\n",
              "        buttonEl.style.display =\n",
              "          google.colab.kernel.accessAllowed ? 'block' : 'none';\n",
              "\n",
              "        async function convertToInteractive(key) {\n",
              "          const element = document.querySelector('#df-c7b60831-e58b-476e-b4a0-b2917dbdb656');\n",
              "          const dataTable =\n",
              "            await google.colab.kernel.invokeFunction('convertToInteractive',\n",
              "                                                     [key], {});\n",
              "          if (!dataTable) return;\n",
              "\n",
              "          const docLinkHtml = 'Like what you see? Visit the ' +\n",
              "            '<a target=\"_blank\" href=https://colab.research.google.com/notebooks/data_table.ipynb>data table notebook</a>'\n",
              "            + ' to learn more about interactive tables.';\n",
              "          element.innerHTML = '';\n",
              "          dataTable['output_type'] = 'display_data';\n",
              "          await google.colab.output.renderOutput(dataTable, element);\n",
              "          const docLink = document.createElement('div');\n",
              "          docLink.innerHTML = docLinkHtml;\n",
              "          element.appendChild(docLink);\n",
              "        }\n",
              "      </script>\n",
              "    </div>\n",
              "  </div>\n"
            ],
            "text/plain": [
              "                                                   head  \\\n",
              "0            Four ways Bob Corker skewered Donald Trump   \n",
              "1     Linklater's war veteran comedy speaks to moder...   \n",
              "2     Trump’s Fight With Corker Jeopardizes His Legi...   \n",
              "3     Egypt's Cheiron wins tie-up with Pemex for Mex...   \n",
              "4           Jason Aldean opens 'SNL' with Vegas tribute   \n",
              "...                                                 ...   \n",
              "4004                                    Trends to Watch   \n",
              "4005  Trump Jr. Is Soon To Give A 30-Minute Speech F...   \n",
              "4006        Ron Paul on Trump, Anarchism & the AltRight   \n",
              "4007  China to accept overseas trial data in bid to ...   \n",
              "4008  Vice President Mike Pence Leaves NFL Game Beca...   \n",
              "\n",
              "                                                   text  target label  \\\n",
              "0     image copyright getty images on sunday morning...       1  Real   \n",
              "1     london reuters last flag flying a comedydrama ...       1  Real   \n",
              "2     the feud broke into public view last week when...       1  Real   \n",
              "3     mexico city reuters egypts cheiron holdings li...       1  Real   \n",
              "4     country singer jason aldean who was performing...       1  Real   \n",
              "...                                                 ...     ...   ...   \n",
              "4004  trends to watch of readers think this story is...       0  Fake   \n",
              "4005  trump jr is soon to give a 30minute speech for...       0  Fake   \n",
              "4006                                                          0  Fake   \n",
              "4007  shanghai reuters china said it plans to accept...       1  Real   \n",
              "4008  vice president mike pence leaves nfl game beca...       0  Fake   \n",
              "\n",
              "      character_count  word_count  \n",
              "0                6186        1045  \n",
              "1                3176         543  \n",
              "2                6335        1079  \n",
              "3                 609          96  \n",
              "4                 204          37  \n",
              "...               ...         ...  \n",
              "4004             1713         316  \n",
              "4005              276          55  \n",
              "4006                0           0  \n",
              "4007             1925         315  \n",
              "4008             3324         572  \n",
              "\n",
              "[4009 rows x 6 columns]"
            ]
          },
          "execution_count": 88,
          "metadata": {},
          "output_type": "execute_result"
        }
      ],
      "source": [
        "df"
      ]
    },
    {
      "cell_type": "markdown",
      "metadata": {
        "id": "4l0pyMeLsdN0"
      },
      "source": [
        "# Count Sentence"
      ]
    },
    {
      "cell_type": "code",
      "execution_count": null,
      "metadata": {
        "colab": {
          "base_uri": "https://localhost:8080/"
        },
        "id": "bY8XQal6zXBF",
        "outputId": "e62950fa-6805-4063-f1c2-b142a619a714"
      },
      "outputs": [
        {
          "name": "stderr",
          "output_type": "stream",
          "text": [
            "[nltk_data] Downloading package punkt to /root/nltk_data...\n",
            "[nltk_data]   Package punkt is already up-to-date!\n"
          ]
        },
        {
          "data": {
            "text/plain": [
              "True"
            ]
          },
          "execution_count": 89,
          "metadata": {},
          "output_type": "execute_result"
        }
      ],
      "source": [
        "import nltk\n",
        "nltk.download('punkt')"
      ]
    },
    {
      "cell_type": "code",
      "execution_count": null,
      "metadata": {
        "execution": {
          "iopub.execute_input": "2023-07-10T19:17:44.240612Z",
          "iopub.status.busy": "2023-07-10T19:17:44.240271Z",
          "iopub.status.idle": "2023-07-10T19:17:44.82101Z",
          "shell.execute_reply": "2023-07-10T19:17:44.819863Z",
          "shell.execute_reply.started": "2023-07-10T19:17:44.240584Z"
        },
        "id": "mirOowLzsdN0"
      },
      "outputs": [],
      "source": [
        "df['sentence_count'] = df['text'].apply(lambda x: len(nltk.sent_tokenize(x)))\n"
      ]
    },
    {
      "cell_type": "code",
      "execution_count": null,
      "metadata": {
        "colab": {
          "base_uri": "https://localhost:8080/",
          "height": 424
        },
        "id": "UzAOsXr9zhFq",
        "outputId": "7311db89-4e31-449a-9d38-c51fd48a8418"
      },
      "outputs": [
        {
          "data": {
            "text/html": [
              "\n",
              "\n",
              "  <div id=\"df-d0f35154-1c9f-492e-823c-b1c0d2d07666\">\n",
              "    <div class=\"colab-df-container\">\n",
              "      <div>\n",
              "<style scoped>\n",
              "    .dataframe tbody tr th:only-of-type {\n",
              "        vertical-align: middle;\n",
              "    }\n",
              "\n",
              "    .dataframe tbody tr th {\n",
              "        vertical-align: top;\n",
              "    }\n",
              "\n",
              "    .dataframe thead th {\n",
              "        text-align: right;\n",
              "    }\n",
              "</style>\n",
              "<table border=\"1\" class=\"dataframe\">\n",
              "  <thead>\n",
              "    <tr style=\"text-align: right;\">\n",
              "      <th></th>\n",
              "      <th>head</th>\n",
              "      <th>text</th>\n",
              "      <th>target</th>\n",
              "      <th>label</th>\n",
              "      <th>character_count</th>\n",
              "      <th>word_count</th>\n",
              "      <th>sentence_count</th>\n",
              "    </tr>\n",
              "  </thead>\n",
              "  <tbody>\n",
              "    <tr>\n",
              "      <th>0</th>\n",
              "      <td>Four ways Bob Corker skewered Donald Trump</td>\n",
              "      <td>image copyright getty images on sunday morning...</td>\n",
              "      <td>1</td>\n",
              "      <td>Real</td>\n",
              "      <td>6186</td>\n",
              "      <td>1045</td>\n",
              "      <td>1</td>\n",
              "    </tr>\n",
              "    <tr>\n",
              "      <th>1</th>\n",
              "      <td>Linklater's war veteran comedy speaks to moder...</td>\n",
              "      <td>london reuters last flag flying a comedydrama ...</td>\n",
              "      <td>1</td>\n",
              "      <td>Real</td>\n",
              "      <td>3176</td>\n",
              "      <td>543</td>\n",
              "      <td>1</td>\n",
              "    </tr>\n",
              "    <tr>\n",
              "      <th>2</th>\n",
              "      <td>Trump’s Fight With Corker Jeopardizes His Legi...</td>\n",
              "      <td>the feud broke into public view last week when...</td>\n",
              "      <td>1</td>\n",
              "      <td>Real</td>\n",
              "      <td>6335</td>\n",
              "      <td>1079</td>\n",
              "      <td>1</td>\n",
              "    </tr>\n",
              "    <tr>\n",
              "      <th>3</th>\n",
              "      <td>Egypt's Cheiron wins tie-up with Pemex for Mex...</td>\n",
              "      <td>mexico city reuters egypts cheiron holdings li...</td>\n",
              "      <td>1</td>\n",
              "      <td>Real</td>\n",
              "      <td>609</td>\n",
              "      <td>96</td>\n",
              "      <td>1</td>\n",
              "    </tr>\n",
              "    <tr>\n",
              "      <th>4</th>\n",
              "      <td>Jason Aldean opens 'SNL' with Vegas tribute</td>\n",
              "      <td>country singer jason aldean who was performing...</td>\n",
              "      <td>1</td>\n",
              "      <td>Real</td>\n",
              "      <td>204</td>\n",
              "      <td>37</td>\n",
              "      <td>1</td>\n",
              "    </tr>\n",
              "    <tr>\n",
              "      <th>...</th>\n",
              "      <td>...</td>\n",
              "      <td>...</td>\n",
              "      <td>...</td>\n",
              "      <td>...</td>\n",
              "      <td>...</td>\n",
              "      <td>...</td>\n",
              "      <td>...</td>\n",
              "    </tr>\n",
              "    <tr>\n",
              "      <th>4004</th>\n",
              "      <td>Trends to Watch</td>\n",
              "      <td>trends to watch of readers think this story is...</td>\n",
              "      <td>0</td>\n",
              "      <td>Fake</td>\n",
              "      <td>1713</td>\n",
              "      <td>316</td>\n",
              "      <td>1</td>\n",
              "    </tr>\n",
              "    <tr>\n",
              "      <th>4005</th>\n",
              "      <td>Trump Jr. Is Soon To Give A 30-Minute Speech F...</td>\n",
              "      <td>trump jr is soon to give a 30minute speech for...</td>\n",
              "      <td>0</td>\n",
              "      <td>Fake</td>\n",
              "      <td>276</td>\n",
              "      <td>55</td>\n",
              "      <td>1</td>\n",
              "    </tr>\n",
              "    <tr>\n",
              "      <th>4006</th>\n",
              "      <td>Ron Paul on Trump, Anarchism &amp; the AltRight</td>\n",
              "      <td></td>\n",
              "      <td>0</td>\n",
              "      <td>Fake</td>\n",
              "      <td>0</td>\n",
              "      <td>0</td>\n",
              "      <td>0</td>\n",
              "    </tr>\n",
              "    <tr>\n",
              "      <th>4007</th>\n",
              "      <td>China to accept overseas trial data in bid to ...</td>\n",
              "      <td>shanghai reuters china said it plans to accept...</td>\n",
              "      <td>1</td>\n",
              "      <td>Real</td>\n",
              "      <td>1925</td>\n",
              "      <td>315</td>\n",
              "      <td>1</td>\n",
              "    </tr>\n",
              "    <tr>\n",
              "      <th>4008</th>\n",
              "      <td>Vice President Mike Pence Leaves NFL Game Beca...</td>\n",
              "      <td>vice president mike pence leaves nfl game beca...</td>\n",
              "      <td>0</td>\n",
              "      <td>Fake</td>\n",
              "      <td>3324</td>\n",
              "      <td>572</td>\n",
              "      <td>1</td>\n",
              "    </tr>\n",
              "  </tbody>\n",
              "</table>\n",
              "<p>4009 rows × 7 columns</p>\n",
              "</div>\n",
              "      <button class=\"colab-df-convert\" onclick=\"convertToInteractive('df-d0f35154-1c9f-492e-823c-b1c0d2d07666')\"\n",
              "              title=\"Convert this dataframe to an interactive table.\"\n",
              "              style=\"display:none;\">\n",
              "\n",
              "  <svg xmlns=\"http://www.w3.org/2000/svg\" height=\"24px\"viewBox=\"0 0 24 24\"\n",
              "       width=\"24px\">\n",
              "    <path d=\"M0 0h24v24H0V0z\" fill=\"none\"/>\n",
              "    <path d=\"M18.56 5.44l.94 2.06.94-2.06 2.06-.94-2.06-.94-.94-2.06-.94 2.06-2.06.94zm-11 1L8.5 8.5l.94-2.06 2.06-.94-2.06-.94L8.5 2.5l-.94 2.06-2.06.94zm10 10l.94 2.06.94-2.06 2.06-.94-2.06-.94-.94-2.06-.94 2.06-2.06.94z\"/><path d=\"M17.41 7.96l-1.37-1.37c-.4-.4-.92-.59-1.43-.59-.52 0-1.04.2-1.43.59L10.3 9.45l-7.72 7.72c-.78.78-.78 2.05 0 2.83L4 21.41c.39.39.9.59 1.41.59.51 0 1.02-.2 1.41-.59l7.78-7.78 2.81-2.81c.8-.78.8-2.07 0-2.86zM5.41 20L4 18.59l7.72-7.72 1.47 1.35L5.41 20z\"/>\n",
              "  </svg>\n",
              "      </button>\n",
              "\n",
              "\n",
              "\n",
              "    <div id=\"df-67ffb66b-ce9e-4f7c-9237-a51243143804\">\n",
              "      <button class=\"colab-df-quickchart\" onclick=\"quickchart('df-67ffb66b-ce9e-4f7c-9237-a51243143804')\"\n",
              "              title=\"Suggest charts.\"\n",
              "              style=\"display:none;\">\n",
              "\n",
              "<svg xmlns=\"http://www.w3.org/2000/svg\" height=\"24px\"viewBox=\"0 0 24 24\"\n",
              "     width=\"24px\">\n",
              "    <g>\n",
              "        <path d=\"M19 3H5c-1.1 0-2 .9-2 2v14c0 1.1.9 2 2 2h14c1.1 0 2-.9 2-2V5c0-1.1-.9-2-2-2zM9 17H7v-7h2v7zm4 0h-2V7h2v10zm4 0h-2v-4h2v4z\"/>\n",
              "    </g>\n",
              "</svg>\n",
              "      </button>\n",
              "    </div>\n",
              "\n",
              "<style>\n",
              "  .colab-df-quickchart {\n",
              "    background-color: #E8F0FE;\n",
              "    border: none;\n",
              "    border-radius: 50%;\n",
              "    cursor: pointer;\n",
              "    display: none;\n",
              "    fill: #1967D2;\n",
              "    height: 32px;\n",
              "    padding: 0 0 0 0;\n",
              "    width: 32px;\n",
              "  }\n",
              "\n",
              "  .colab-df-quickchart:hover {\n",
              "    background-color: #E2EBFA;\n",
              "    box-shadow: 0px 1px 2px rgba(60, 64, 67, 0.3), 0px 1px 3px 1px rgba(60, 64, 67, 0.15);\n",
              "    fill: #174EA6;\n",
              "  }\n",
              "\n",
              "  [theme=dark] .colab-df-quickchart {\n",
              "    background-color: #3B4455;\n",
              "    fill: #D2E3FC;\n",
              "  }\n",
              "\n",
              "  [theme=dark] .colab-df-quickchart:hover {\n",
              "    background-color: #434B5C;\n",
              "    box-shadow: 0px 1px 3px 1px rgba(0, 0, 0, 0.15);\n",
              "    filter: drop-shadow(0px 1px 2px rgba(0, 0, 0, 0.3));\n",
              "    fill: #FFFFFF;\n",
              "  }\n",
              "</style>\n",
              "\n",
              "    <script>\n",
              "      async function quickchart(key) {\n",
              "        const containerElement = document.querySelector('#' + key);\n",
              "        const charts = await google.colab.kernel.invokeFunction(\n",
              "            'suggestCharts', [key], {});\n",
              "      }\n",
              "    </script>\n",
              "\n",
              "      <script>\n",
              "\n",
              "function displayQuickchartButton(domScope) {\n",
              "  let quickchartButtonEl =\n",
              "    domScope.querySelector('#df-67ffb66b-ce9e-4f7c-9237-a51243143804 button.colab-df-quickchart');\n",
              "  quickchartButtonEl.style.display =\n",
              "    google.colab.kernel.accessAllowed ? 'block' : 'none';\n",
              "}\n",
              "\n",
              "        displayQuickchartButton(document);\n",
              "      </script>\n",
              "      <style>\n",
              "    .colab-df-container {\n",
              "      display:flex;\n",
              "      flex-wrap:wrap;\n",
              "      gap: 12px;\n",
              "    }\n",
              "\n",
              "    .colab-df-convert {\n",
              "      background-color: #E8F0FE;\n",
              "      border: none;\n",
              "      border-radius: 50%;\n",
              "      cursor: pointer;\n",
              "      display: none;\n",
              "      fill: #1967D2;\n",
              "      height: 32px;\n",
              "      padding: 0 0 0 0;\n",
              "      width: 32px;\n",
              "    }\n",
              "\n",
              "    .colab-df-convert:hover {\n",
              "      background-color: #E2EBFA;\n",
              "      box-shadow: 0px 1px 2px rgba(60, 64, 67, 0.3), 0px 1px 3px 1px rgba(60, 64, 67, 0.15);\n",
              "      fill: #174EA6;\n",
              "    }\n",
              "\n",
              "    [theme=dark] .colab-df-convert {\n",
              "      background-color: #3B4455;\n",
              "      fill: #D2E3FC;\n",
              "    }\n",
              "\n",
              "    [theme=dark] .colab-df-convert:hover {\n",
              "      background-color: #434B5C;\n",
              "      box-shadow: 0px 1px 3px 1px rgba(0, 0, 0, 0.15);\n",
              "      filter: drop-shadow(0px 1px 2px rgba(0, 0, 0, 0.3));\n",
              "      fill: #FFFFFF;\n",
              "    }\n",
              "  </style>\n",
              "\n",
              "      <script>\n",
              "        const buttonEl =\n",
              "          document.querySelector('#df-d0f35154-1c9f-492e-823c-b1c0d2d07666 button.colab-df-convert');\n",
              "        buttonEl.style.display =\n",
              "          google.colab.kernel.accessAllowed ? 'block' : 'none';\n",
              "\n",
              "        async function convertToInteractive(key) {\n",
              "          const element = document.querySelector('#df-d0f35154-1c9f-492e-823c-b1c0d2d07666');\n",
              "          const dataTable =\n",
              "            await google.colab.kernel.invokeFunction('convertToInteractive',\n",
              "                                                     [key], {});\n",
              "          if (!dataTable) return;\n",
              "\n",
              "          const docLinkHtml = 'Like what you see? Visit the ' +\n",
              "            '<a target=\"_blank\" href=https://colab.research.google.com/notebooks/data_table.ipynb>data table notebook</a>'\n",
              "            + ' to learn more about interactive tables.';\n",
              "          element.innerHTML = '';\n",
              "          dataTable['output_type'] = 'display_data';\n",
              "          await google.colab.output.renderOutput(dataTable, element);\n",
              "          const docLink = document.createElement('div');\n",
              "          docLink.innerHTML = docLinkHtml;\n",
              "          element.appendChild(docLink);\n",
              "        }\n",
              "      </script>\n",
              "    </div>\n",
              "  </div>\n"
            ],
            "text/plain": [
              "                                                   head  \\\n",
              "0            Four ways Bob Corker skewered Donald Trump   \n",
              "1     Linklater's war veteran comedy speaks to moder...   \n",
              "2     Trump’s Fight With Corker Jeopardizes His Legi...   \n",
              "3     Egypt's Cheiron wins tie-up with Pemex for Mex...   \n",
              "4           Jason Aldean opens 'SNL' with Vegas tribute   \n",
              "...                                                 ...   \n",
              "4004                                    Trends to Watch   \n",
              "4005  Trump Jr. Is Soon To Give A 30-Minute Speech F...   \n",
              "4006        Ron Paul on Trump, Anarchism & the AltRight   \n",
              "4007  China to accept overseas trial data in bid to ...   \n",
              "4008  Vice President Mike Pence Leaves NFL Game Beca...   \n",
              "\n",
              "                                                   text  target label  \\\n",
              "0     image copyright getty images on sunday morning...       1  Real   \n",
              "1     london reuters last flag flying a comedydrama ...       1  Real   \n",
              "2     the feud broke into public view last week when...       1  Real   \n",
              "3     mexico city reuters egypts cheiron holdings li...       1  Real   \n",
              "4     country singer jason aldean who was performing...       1  Real   \n",
              "...                                                 ...     ...   ...   \n",
              "4004  trends to watch of readers think this story is...       0  Fake   \n",
              "4005  trump jr is soon to give a 30minute speech for...       0  Fake   \n",
              "4006                                                          0  Fake   \n",
              "4007  shanghai reuters china said it plans to accept...       1  Real   \n",
              "4008  vice president mike pence leaves nfl game beca...       0  Fake   \n",
              "\n",
              "      character_count  word_count  sentence_count  \n",
              "0                6186        1045               1  \n",
              "1                3176         543               1  \n",
              "2                6335        1079               1  \n",
              "3                 609          96               1  \n",
              "4                 204          37               1  \n",
              "...               ...         ...             ...  \n",
              "4004             1713         316               1  \n",
              "4005              276          55               1  \n",
              "4006                0           0               0  \n",
              "4007             1925         315               1  \n",
              "4008             3324         572               1  \n",
              "\n",
              "[4009 rows x 7 columns]"
            ]
          },
          "execution_count": 91,
          "metadata": {},
          "output_type": "execute_result"
        }
      ],
      "source": [
        "df"
      ]
    },
    {
      "cell_type": "code",
      "execution_count": null,
      "metadata": {
        "id": "MsP0G_yesdN0"
      },
      "outputs": [],
      "source": [
        "# cor=df[[\"target\",\"character_count\",\"word_count\"]].corr()\n",
        "# plt.figure(figsize=(7,5))\n",
        "# sns.heatmap(cor,annot=True,cmap=\"jet\",linewidths=7, linecolor='darkorange')\n",
        "# cor.to_csv(f'{path}_cor.csv')\n",
        "# plt.savefig(f'{path}_cor.png',bbox_inches='tight')\n",
        "# plt.show()"
      ]
    },
    {
      "cell_type": "markdown",
      "metadata": {
        "id": "q_aEBXu1sdN0"
      },
      "source": [
        "# Data Length"
      ]
    },
    {
      "cell_type": "code",
      "execution_count": 29,
      "metadata": {
        "id": "awzby3knzz-g"
      },
      "outputs": [],
      "source": [
        "df['len'] = df['text'].str.split().apply(len)"
      ]
    },
    {
      "cell_type": "code",
      "execution_count": 30,
      "metadata": {
        "id": "xvSY3jDG-q3Z"
      },
      "outputs": [],
      "source": [
        "df = df[df['len']>5]"
      ]
    },
    {
      "cell_type": "code",
      "execution_count": 130,
      "metadata": {
        "id": "fUFhUg2KsdN0",
        "colab": {
          "base_uri": "https://localhost:8080/",
          "height": 468
        },
        "outputId": "15fdd684-aa89-475e-dd43-def50e45d0cd"
      },
      "outputs": [
        {
          "output_type": "display_data",
          "data": {
            "text/plain": [
              "<Figure size 700x500 with 1 Axes>"
            ],
            "image/png": "[encoded data removed]"
          },
          "metadata": {}
        }
      ],
      "source": [
        "notdisaster_len=df[df[\"target\"]==0][\"text\"].str.split().apply(len)\n",
        "disaster_len=df[df[\"target\"]==1][\"text\"].str.split().apply(len)\n",
        "plt.figure(figsize=(7,5))\n",
        "plt.hist(notdisaster_len, bins=40,label='Fake',color=\"red\")\n",
        "plt.hist(disaster_len , bins=40, label='Real',color=\"green\")\n",
        "plt.xlim(0,2000)\n",
        "plt.title(\"Real Vs Fake tweet\")\n",
        "plt.legend()\n",
        "notdisaster_len.to_csv(f'{path}_Fake_len.csv',index=False)\n",
        "disaster_len.to_csv(f'{path}_Real_len.csv',index=False)\n",
        "\n",
        "plt.savefig(f'{path}_Real-Fake_len.png',bbox_inches='tight')\n",
        "plt.show()"
      ]
    },
    {
      "cell_type": "markdown",
      "metadata": {
        "id": "k8ZXnDE6sdN0"
      },
      "source": [
        "# ALL Data Wordcloud"
      ]
    },
    {
      "cell_type": "code",
      "execution_count": null,
      "metadata": {
        "id": "K408onTIsdN0"
      },
      "outputs": [],
      "source": [
        "# plt.figure(figsize=(16,8),dpi=600)\n",
        "# all_text=\" \".join(df['text'].values.tolist())\n",
        "# wordcloud = WordCloud(width=1200, height=800,stopwords=STOPWORDS, background_color='navy', max_words=500,colormap=\"hsv\").generate(all_text)\n",
        "# plt.imshow(wordcloud, interpolation='bilinear')\n",
        "# plt.axis('off')\n",
        "# plt.savefig(f'{path}_all_data.png',bbox_inches='tight')\n",
        "# plt.show()"
      ]
    },
    {
      "cell_type": "markdown",
      "metadata": {
        "id": "P3BAanyhsdN0"
      },
      "source": [
        "# Disaster Data Wordcloud"
      ]
    },
    {
      "cell_type": "code",
      "execution_count": null,
      "metadata": {
        "id": "xg32L7WisdN0"
      },
      "outputs": [],
      "source": [
        "# plt.figure(figsize=(16,8),dpi=600)\n",
        "# disaster_wordcloud=df[df[\"target\"]==1]\n",
        "# disaster_text=\" \".join(disaster_wordcloud['text'].values.tolist())\n",
        "# wordcloud = WordCloud(width=1200, height=800,stopwords=STOPWORDS, background_color='navy', max_words=500,colormap=\"hsv\").generate(disaster_text)\n",
        "# plt.imshow(wordcloud, interpolation='bilinear')\n",
        "# plt.axis('off')\n",
        "# plt.savefig(f'{path}_disaster_data.png',bbox_inches='tight')\n",
        "# plt.show()"
      ]
    },
    {
      "cell_type": "markdown",
      "metadata": {
        "id": "6uHz4NwMsdN1"
      },
      "source": [
        "# Non Disaster Wordcloud"
      ]
    },
    {
      "cell_type": "code",
      "execution_count": null,
      "metadata": {
        "id": "ppuImQNIsdN1"
      },
      "outputs": [],
      "source": [
        "# plt.figure(figsize=(16,8),dpi=600)\n",
        "# nondisaster_wordcloud=df[df[\"target\"]==0]\n",
        "# nondisaster_text=\" \".join(nondisaster_wordcloud['text'].values.tolist())\n",
        "# wordcloud = WordCloud(width=1200, height=800,stopwords=STOPWORDS, background_color='navy', max_words=500,colormap=\"hsv\").generate(nondisaster_text)\n",
        "# plt.imshow(wordcloud, interpolation='bilinear')\n",
        "# plt.axis('off')\n",
        "# plt.savefig(f'{path}_non_disaster_data.png',bbox_inches='tight')\n",
        "# plt.show()"
      ]
    },
    {
      "cell_type": "markdown",
      "metadata": {
        "id": "ioc-Xu_osdN1"
      },
      "source": [
        "# 30 Most common Words From All Text"
      ]
    },
    {
      "cell_type": "code",
      "execution_count": null,
      "metadata": {
        "id": "-Srq2-NbsdN1"
      },
      "outputs": [],
      "source": [
        "# data_set =df[\"text\"].str.split()\n",
        "# all_words = list(chain.from_iterable(data_set))\n",
        "# counter = Counter(all_words)\n",
        "# common_words = counter.most_common(30)\n",
        "# df_common_words = pd.DataFrame(common_words, columns=['Word', 'Count'])\n",
        "\n",
        "# colors = [\"darkviolet\", \"chocolate\", \"mediumslateblue\", \"darkgreen\", \"orangered\", \"mediumblue\", \"peru\", \"mediumspringgreen\",\n",
        "#     \"lightcoral\", \"darkslategray\", \"olivedrab\", \"dodgerblue\", \"indianred\", \"limegreen\", \"steelblue\",\n",
        "#           \"royalblue\", \"darkorchid\", \"darkturquoise\", \"darkgoldenrod\", \"mediumvioletred\", \"mediumaquamarine\",\n",
        "\n",
        "#           \"cyan\", \"lime\", \"magenta\", \"gold\", \"purple\", \"tomato\", \"teal\", \"sandybrown\", \"mediumseagreen\"]\n",
        "\n",
        "# plt.figure(figsize=(12, 6))\n",
        "# sns.barplot(x='Count', y='Word', data=df_common_words, palette=colors)\n",
        "# plt.title('30 Most Common Words')\n",
        "# plt.xlabel('Count')\n",
        "# plt.ylabel('Word')\n",
        "# df_common_words.to_csv(f'{path}_df_common_words.csv')\n",
        "# plt.savefig(f'{path}_df_common_words.png',bbox_inches='tight')\n",
        "# plt.show()\n"
      ]
    },
    {
      "cell_type": "markdown",
      "metadata": {
        "id": "zoFgyRIisdN1"
      },
      "source": [
        "# Most Common Words From Non Disaster Text"
      ]
    },
    {
      "cell_type": "code",
      "execution_count": 237,
      "metadata": {
        "id": "T9-LqJt4sdN1",
        "colab": {
          "base_uri": "https://localhost:8080/",
          "height": 718
        },
        "outputId": "961b7627-8ace-4339-ff91-ad85ff3f621c"
      },
      "outputs": [
        {
          "output_type": "display_data",
          "data": {
            "text/plain": [
              "<Figure size 1200x800 with 1 Axes>"
            ],
            "image/png": "[encoded data removed]"
          },
          "metadata": {}
        }
      ],
      "source": [
        "no_disaster_text = df[df[\"target\"] == 1]\n",
        "data_set = no_disaster_text[\"text\"].str.split()\n",
        "all_words = [word for sublist in data_set for word in sublist]\n",
        "counter = Counter(all_words)\n",
        "common_words = counter.most_common(16)\n",
        "df_common_words = pd.DataFrame(common_words, columns=['Word', 'Count'])\n",
        "plt.figure(figsize=(12, 8))\n",
        "sns.barplot(x='Count', y='Word', data=df_common_words,palette=\"Set1\")\n",
        "plt.title('16 Most Common Words Real')\n",
        "plt.xlabel('Count Real')\n",
        "plt.ylabel('Real Word')\n",
        "plt.ylabel('Word')\n",
        "df_common_words.to_csv(f'{path}_df_common_words_Real.csv')\n",
        "plt.savefig(f'{path}_df_common_words_Real.png',bbox_inches='tight')\n",
        "plt.show()\n",
        "\n"
      ]
    },
    {
      "cell_type": "markdown",
      "metadata": {
        "id": "3ZP-IRfgsdN1"
      },
      "source": [
        "# 30 Most Common Words From Disaster Text"
      ]
    },
    {
      "cell_type": "code",
      "execution_count": null,
      "metadata": {
        "id": "1vToqQ6hsdN1"
      },
      "outputs": [],
      "source": [
        "# disaster_text = df[df[\"target\"] == 1]\n",
        "# data_set = disaster_text[\"text\"].str.split()\n",
        "# all_words = [word for sublist in data_set for word in sublist]\n",
        "# counter = Counter(all_words)\n",
        "# common_words = counter.most_common(30)\n",
        "# df_common_words = pd.DataFrame(common_words, columns=['Word', 'Count'])\n",
        "# plt.figure(figsize=(12, 8))\n",
        "# colors = [\"red\", \"green\", \"blue\", \"yellow\", \"orange\", \"purple\", \"pink\", \"brown\", \"gray\",\n",
        "#           \"cyan\", \"magenta\", \"teal\", \"olive\", \"lime\", \"navy\", \"maroon\", \"aquamarine\",\n",
        "#           \"coral\", \"gold\", \"indigo\", \"lavender\", \"salmon\", \"silver\", \"tan\", \"violet\",\n",
        "#           \"crimson\", \"darkgreen\", \"darkblue\", \"darkorange\", \"deeppink\"]\n",
        "# sns.barplot(x='Count', y='Word', data=df_common_words,palette=colors)\n",
        "# plt.title('30 Most Common Words Real')\n",
        "# plt.xlabel('Count  Real')\n",
        "# plt.ylabel('Real Word')\n",
        "# df_common_words.to_csv(f'{path}_df_common_words_Real.csv')\n",
        "# plt.savefig(f'{path}_df_common_words_Real.png',bbox_inches='tight')\n",
        "# plt.show()\n"
      ]
    },
    {
      "cell_type": "markdown",
      "metadata": {
        "id": "KeFhkM3_sdN1"
      },
      "source": [
        "# Character Count"
      ]
    },
    {
      "cell_type": "code",
      "execution_count": null,
      "metadata": {
        "id": "Y3XSQj5JsdN1"
      },
      "outputs": [],
      "source": [
        "# color=[\"red\",\"green\"]\n",
        "# plt.figure(figsize=(7,5))\n",
        "\n",
        "# sns.histplot(data=df,x=\"character_count\",palette=color,kde=True,hue=\"label\",element=\"step\",stat=\"density\")\n",
        "# plt.title(\"Character Count\",fontsize=15,color=\"darkblue\")\n",
        "# df['character_count'].to_csv(f'{path}_character_count.csv')\n",
        "# plt.savefig(f'{path}_character_count.png',bbox_inches='tight')\n",
        "# plt.show()"
      ]
    },
    {
      "cell_type": "markdown",
      "metadata": {
        "id": "OwtjmNtJsdN1"
      },
      "source": [
        "# Word Count"
      ]
    },
    {
      "cell_type": "code",
      "source": [
        "df"
      ],
      "metadata": {
        "colab": {
          "base_uri": "https://localhost:8080/",
          "height": 424
        },
        "id": "6Yn3kw9Ui1HE",
        "outputId": "77c100a0-360d-4c4b-f2a7-972864dba8bc"
      },
      "execution_count": 132,
      "outputs": [
        {
          "output_type": "execute_result",
          "data": {
            "text/plain": [
              "                                                   head  \\\n",
              "0            Four ways Bob Corker skewered Donald Trump   \n",
              "1     Linklater's war veteran comedy speaks to moder...   \n",
              "2     Trump’s Fight With Corker Jeopardizes His Legi...   \n",
              "3     Egypt's Cheiron wins tie-up with Pemex for Mex...   \n",
              "4           Jason Aldean opens 'SNL' with Vegas tribute   \n",
              "...                                                 ...   \n",
              "4003  CNN and Globalist Exposed - Steve Quayle and A...   \n",
              "4004                                    Trends to Watch   \n",
              "4005  Trump Jr. Is Soon To Give A 30-Minute Speech F...   \n",
              "4007  China to accept overseas trial data in bid to ...   \n",
              "4008  Vice President Mike Pence Leaves NFL Game Beca...   \n",
              "\n",
              "                                                   text  target label   len  \n",
              "0     image copyright getty images on sunday morning...       1  Real  1045  \n",
              "1     london reuters last flag flying a comedydrama ...       1  Real   543  \n",
              "2     the feud broke into public view last week when...       1  Real  1079  \n",
              "3     mexico city reuters egypts cheiron holdings li...       1  Real    96  \n",
              "4     country singer jason aldean who was performing...       1  Real    37  \n",
              "...                                                 ...     ...   ...   ...  \n",
              "4003  vietnam is in great danger you must publish an...       0  Fake    15  \n",
              "4004  trends to watch of readers think this story is...       0  Fake   316  \n",
              "4005  trump jr is soon to give a 30minute speech for...       0  Fake    55  \n",
              "4007  shanghai reuters china said it plans to accept...       1  Real   315  \n",
              "4008  vice president mike pence leaves nfl game beca...       0  Fake   572  \n",
              "\n",
              "[3988 rows x 5 columns]"
            ],
            "text/html": [
              "\n",
              "\n",
              "  <div id=\"df-07f68093-439d-4985-9ba5-d42fd5c663d1\">\n",
              "    <div class=\"colab-df-container\">\n",
              "      <div>\n",
              "<style scoped>\n",
              "    .dataframe tbody tr th:only-of-type {\n",
              "        vertical-align: middle;\n",
              "    }\n",
              "\n",
              "    .dataframe tbody tr th {\n",
              "        vertical-align: top;\n",
              "    }\n",
              "\n",
              "    .dataframe thead th {\n",
              "        text-align: right;\n",
              "    }\n",
              "</style>\n",
              "<table border=\"1\" class=\"dataframe\">\n",
              "  <thead>\n",
              "    <tr style=\"text-align: right;\">\n",
              "      <th></th>\n",
              "      <th>head</th>\n",
              "      <th>text</th>\n",
              "      <th>target</th>\n",
              "      <th>label</th>\n",
              "      <th>len</th>\n",
              "    </tr>\n",
              "  </thead>\n",
              "  <tbody>\n",
              "    <tr>\n",
              "      <th>0</th>\n",
              "      <td>Four ways Bob Corker skewered Donald Trump</td>\n",
              "      <td>image copyright getty images on sunday morning...</td>\n",
              "      <td>1</td>\n",
              "      <td>Real</td>\n",
              "      <td>1045</td>\n",
              "    </tr>\n",
              "    <tr>\n",
              "      <th>1</th>\n",
              "      <td>Linklater's war veteran comedy speaks to moder...</td>\n",
              "      <td>london reuters last flag flying a comedydrama ...</td>\n",
              "      <td>1</td>\n",
              "      <td>Real</td>\n",
              "      <td>543</td>\n",
              "    </tr>\n",
              "    <tr>\n",
              "      <th>2</th>\n",
              "      <td>Trump’s Fight With Corker Jeopardizes His Legi...</td>\n",
              "      <td>the feud broke into public view last week when...</td>\n",
              "      <td>1</td>\n",
              "      <td>Real</td>\n",
              "      <td>1079</td>\n",
              "    </tr>\n",
              "    <tr>\n",
              "      <th>3</th>\n",
              "      <td>Egypt's Cheiron wins tie-up with Pemex for Mex...</td>\n",
              "      <td>mexico city reuters egypts cheiron holdings li...</td>\n",
              "      <td>1</td>\n",
              "      <td>Real</td>\n",
              "      <td>96</td>\n",
              "    </tr>\n",
              "    <tr>\n",
              "      <th>4</th>\n",
              "      <td>Jason Aldean opens 'SNL' with Vegas tribute</td>\n",
              "      <td>country singer jason aldean who was performing...</td>\n",
              "      <td>1</td>\n",
              "      <td>Real</td>\n",
              "      <td>37</td>\n",
              "    </tr>\n",
              "    <tr>\n",
              "      <th>...</th>\n",
              "      <td>...</td>\n",
              "      <td>...</td>\n",
              "      <td>...</td>\n",
              "      <td>...</td>\n",
              "      <td>...</td>\n",
              "    </tr>\n",
              "    <tr>\n",
              "      <th>4003</th>\n",
              "      <td>CNN and Globalist Exposed - Steve Quayle and A...</td>\n",
              "      <td>vietnam is in great danger you must publish an...</td>\n",
              "      <td>0</td>\n",
              "      <td>Fake</td>\n",
              "      <td>15</td>\n",
              "    </tr>\n",
              "    <tr>\n",
              "      <th>4004</th>\n",
              "      <td>Trends to Watch</td>\n",
              "      <td>trends to watch of readers think this story is...</td>\n",
              "      <td>0</td>\n",
              "      <td>Fake</td>\n",
              "      <td>316</td>\n",
              "    </tr>\n",
              "    <tr>\n",
              "      <th>4005</th>\n",
              "      <td>Trump Jr. Is Soon To Give A 30-Minute Speech F...</td>\n",
              "      <td>trump jr is soon to give a 30minute speech for...</td>\n",
              "      <td>0</td>\n",
              "      <td>Fake</td>\n",
              "      <td>55</td>\n",
              "    </tr>\n",
              "    <tr>\n",
              "      <th>4007</th>\n",
              "      <td>China to accept overseas trial data in bid to ...</td>\n",
              "      <td>shanghai reuters china said it plans to accept...</td>\n",
              "      <td>1</td>\n",
              "      <td>Real</td>\n",
              "      <td>315</td>\n",
              "    </tr>\n",
              "    <tr>\n",
              "      <th>4008</th>\n",
              "      <td>Vice President Mike Pence Leaves NFL Game Beca...</td>\n",
              "      <td>vice president mike pence leaves nfl game beca...</td>\n",
              "      <td>0</td>\n",
              "      <td>Fake</td>\n",
              "      <td>572</td>\n",
              "    </tr>\n",
              "  </tbody>\n",
              "</table>\n",
              "<p>3988 rows × 5 columns</p>\n",
              "</div>\n",
              "      <button class=\"colab-df-convert\" onclick=\"convertToInteractive('df-07f68093-439d-4985-9ba5-d42fd5c663d1')\"\n",
              "              title=\"Convert this dataframe to an interactive table.\"\n",
              "              style=\"display:none;\">\n",
              "\n",
              "  <svg xmlns=\"http://www.w3.org/2000/svg\" height=\"24px\"viewBox=\"0 0 24 24\"\n",
              "       width=\"24px\">\n",
              "    <path d=\"M0 0h24v24H0V0z\" fill=\"none\"/>\n",
              "    <path d=\"M18.56 5.44l.94 2.06.94-2.06 2.06-.94-2.06-.94-.94-2.06-.94 2.06-2.06.94zm-11 1L8.5 8.5l.94-2.06 2.06-.94-2.06-.94L8.5 2.5l-.94 2.06-2.06.94zm10 10l.94 2.06.94-2.06 2.06-.94-2.06-.94-.94-2.06-.94 2.06-2.06.94z\"/><path d=\"M17.41 7.96l-1.37-1.37c-.4-.4-.92-.59-1.43-.59-.52 0-1.04.2-1.43.59L10.3 9.45l-7.72 7.72c-.78.78-.78 2.05 0 2.83L4 21.41c.39.39.9.59 1.41.59.51 0 1.02-.2 1.41-.59l7.78-7.78 2.81-2.81c.8-.78.8-2.07 0-2.86zM5.41 20L4 18.59l7.72-7.72 1.47 1.35L5.41 20z\"/>\n",
              "  </svg>\n",
              "      </button>\n",
              "\n",
              "\n",
              "\n",
              "    <div id=\"df-5a723d4b-2862-4812-9974-877b96ac6e66\">\n",
              "      <button class=\"colab-df-quickchart\" onclick=\"quickchart('df-5a723d4b-2862-4812-9974-877b96ac6e66')\"\n",
              "              title=\"Suggest charts.\"\n",
              "              style=\"display:none;\">\n",
              "\n",
              "<svg xmlns=\"http://www.w3.org/2000/svg\" height=\"24px\"viewBox=\"0 0 24 24\"\n",
              "     width=\"24px\">\n",
              "    <g>\n",
              "        <path d=\"M19 3H5c-1.1 0-2 .9-2 2v14c0 1.1.9 2 2 2h14c1.1 0 2-.9 2-2V5c0-1.1-.9-2-2-2zM9 17H7v-7h2v7zm4 0h-2V7h2v10zm4 0h-2v-4h2v4z\"/>\n",
              "    </g>\n",
              "</svg>\n",
              "      </button>\n",
              "    </div>\n",
              "\n",
              "<style>\n",
              "  .colab-df-quickchart {\n",
              "    background-color: #E8F0FE;\n",
              "    border: none;\n",
              "    border-radius: 50%;\n",
              "    cursor: pointer;\n",
              "    display: none;\n",
              "    fill: #1967D2;\n",
              "    height: 32px;\n",
              "    padding: 0 0 0 0;\n",
              "    width: 32px;\n",
              "  }\n",
              "\n",
              "  .colab-df-quickchart:hover {\n",
              "    background-color: #E2EBFA;\n",
              "    box-shadow: 0px 1px 2px rgba(60, 64, 67, 0.3), 0px 1px 3px 1px rgba(60, 64, 67, 0.15);\n",
              "    fill: #174EA6;\n",
              "  }\n",
              "\n",
              "  [theme=dark] .colab-df-quickchart {\n",
              "    background-color: #3B4455;\n",
              "    fill: #D2E3FC;\n",
              "  }\n",
              "\n",
              "  [theme=dark] .colab-df-quickchart:hover {\n",
              "    background-color: #434B5C;\n",
              "    box-shadow: 0px 1px 3px 1px rgba(0, 0, 0, 0.15);\n",
              "    filter: drop-shadow(0px 1px 2px rgba(0, 0, 0, 0.3));\n",
              "    fill: #FFFFFF;\n",
              "  }\n",
              "</style>\n",
              "\n",
              "    <script>\n",
              "      async function quickchart(key) {\n",
              "        const containerElement = document.querySelector('#' + key);\n",
              "        const charts = await google.colab.kernel.invokeFunction(\n",
              "            'suggestCharts', [key], {});\n",
              "      }\n",
              "    </script>\n",
              "\n",
              "      <script>\n",
              "\n",
              "function displayQuickchartButton(domScope) {\n",
              "  let quickchartButtonEl =\n",
              "    domScope.querySelector('#df-5a723d4b-2862-4812-9974-877b96ac6e66 button.colab-df-quickchart');\n",
              "  quickchartButtonEl.style.display =\n",
              "    google.colab.kernel.accessAllowed ? 'block' : 'none';\n",
              "}\n",
              "\n",
              "        displayQuickchartButton(document);\n",
              "      </script>\n",
              "      <style>\n",
              "    .colab-df-container {\n",
              "      display:flex;\n",
              "      flex-wrap:wrap;\n",
              "      gap: 12px;\n",
              "    }\n",
              "\n",
              "    .colab-df-convert {\n",
              "      background-color: #E8F0FE;\n",
              "      border: none;\n",
              "      border-radius: 50%;\n",
              "      cursor: pointer;\n",
              "      display: none;\n",
              "      fill: #1967D2;\n",
              "      height: 32px;\n",
              "      padding: 0 0 0 0;\n",
              "      width: 32px;\n",
              "    }\n",
              "\n",
              "    .colab-df-convert:hover {\n",
              "      background-color: #E2EBFA;\n",
              "      box-shadow: 0px 1px 2px rgba(60, 64, 67, 0.3), 0px 1px 3px 1px rgba(60, 64, 67, 0.15);\n",
              "      fill: #174EA6;\n",
              "    }\n",
              "\n",
              "    [theme=dark] .colab-df-convert {\n",
              "      background-color: #3B4455;\n",
              "      fill: #D2E3FC;\n",
              "    }\n",
              "\n",
              "    [theme=dark] .colab-df-convert:hover {\n",
              "      background-color: #434B5C;\n",
              "      box-shadow: 0px 1px 3px 1px rgba(0, 0, 0, 0.15);\n",
              "      filter: drop-shadow(0px 1px 2px rgba(0, 0, 0, 0.3));\n",
              "      fill: #FFFFFF;\n",
              "    }\n",
              "  </style>\n",
              "\n",
              "      <script>\n",
              "        const buttonEl =\n",
              "          document.querySelector('#df-07f68093-439d-4985-9ba5-d42fd5c663d1 button.colab-df-convert');\n",
              "        buttonEl.style.display =\n",
              "          google.colab.kernel.accessAllowed ? 'block' : 'none';\n",
              "\n",
              "        async function convertToInteractive(key) {\n",
              "          const element = document.querySelector('#df-07f68093-439d-4985-9ba5-d42fd5c663d1');\n",
              "          const dataTable =\n",
              "            await google.colab.kernel.invokeFunction('convertToInteractive',\n",
              "                                                     [key], {});\n",
              "          if (!dataTable) return;\n",
              "\n",
              "          const docLinkHtml = 'Like what you see? Visit the ' +\n",
              "            '<a target=\"_blank\" href=https://colab.research.google.com/notebooks/data_table.ipynb>data table notebook</a>'\n",
              "            + ' to learn more about interactive tables.';\n",
              "          element.innerHTML = '';\n",
              "          dataTable['output_type'] = 'display_data';\n",
              "          await google.colab.output.renderOutput(dataTable, element);\n",
              "          const docLink = document.createElement('div');\n",
              "          docLink.innerHTML = docLinkHtml;\n",
              "          element.appendChild(docLink);\n",
              "        }\n",
              "      </script>\n",
              "    </div>\n",
              "  </div>\n"
            ]
          },
          "metadata": {},
          "execution_count": 132
        }
      ]
    },
    {
      "cell_type": "code",
      "execution_count": 133,
      "metadata": {
        "id": "Dobu8vs6sdN1",
        "colab": {
          "base_uri": "https://localhost:8080/",
          "height": 489
        },
        "outputId": "ea4d910d-a0ce-466b-880d-eb92640045b3"
      },
      "outputs": [
        {
          "output_type": "display_data",
          "data": {
            "text/plain": [
              "<Figure size 700x500 with 1 Axes>"
            ],
            "image/png": "[encoded data removed]"
          },
          "metadata": {}
        }
      ],
      "source": [
        "color=[\"navy\",\"darkorange\"]\n",
        "plt.figure(figsize=(7,5))\n",
        "\n",
        "sns.histplot(data=df,x=\"len\",palette=color,kde=True,hue=\"label\")\n",
        "plt.title(\"Word Count\",fontsize=15,color=\"darkblue\")\n",
        "plt.xlim(0,2000)\n",
        "df[['len','label']].to_csv(f'{path}_word_count.csv')\n",
        "plt.savefig(f'{path}_word_count.png',bbox_inches='tight')\n",
        "plt.show()"
      ]
    },
    {
      "cell_type": "markdown",
      "metadata": {
        "id": "qN4vOls2sdN1"
      },
      "source": [
        "# Sentence Count"
      ]
    },
    {
      "cell_type": "code",
      "execution_count": null,
      "metadata": {
        "colab": {
          "base_uri": "https://localhost:8080/"
        },
        "execution": {
          "iopub.execute_input": "2023-07-10T19:19:19.514502Z",
          "iopub.status.busy": "2023-07-10T19:19:19.5138Z",
          "iopub.status.idle": "2023-07-10T19:19:19.521503Z",
          "shell.execute_reply": "2023-07-10T19:19:19.520285Z",
          "shell.execute_reply.started": "2023-07-10T19:19:19.514465Z"
        },
        "id": "rEm7CTMtsdN5",
        "outputId": "d0bdf798-f49b-49bd-84fd-4c0c90497937"
      },
      "outputs": [
        {
          "name": "stderr",
          "output_type": "stream",
          "text": [
            "<ipython-input-106-2231b8039d64>:1: SettingWithCopyWarning: \n",
            "A value is trying to be set on a copy of a slice from a DataFrame\n",
            "\n",
            "See the caveats in the documentation: https://pandas.pydata.org/pandas-docs/stable/user_guide/indexing.html#returning-a-view-versus-a-copy\n",
            "  df.drop([\"character_count\",\"word_count\",\"sentence_count\"],axis=1,inplace=True)\n"
          ]
        }
      ],
      "source": [
        "df.drop([\"character_count\",\"word_count\",\"sentence_count\"],axis=1,inplace=True)"
      ]
    },
    {
      "cell_type": "markdown",
      "metadata": {
        "id": "yXrP7CfPsdN5"
      },
      "source": [
        "# Average Sentence Length"
      ]
    },
    {
      "cell_type": "code",
      "execution_count": 31,
      "metadata": {
        "colab": {
          "base_uri": "https://localhost:8080/"
        },
        "id": "6vvWGTMc_q0w",
        "outputId": "77679f66-3edb-4716-cea9-7f665b340647"
      },
      "outputs": [
        {
          "output_type": "execute_result",
          "data": {
            "text/plain": [
              "482.5110330992979"
            ]
          },
          "metadata": {},
          "execution_count": 31
        }
      ],
      "source": [
        "df['len'].mean()"
      ]
    },
    {
      "cell_type": "code",
      "execution_count": 32,
      "metadata": {
        "colab": {
          "base_uri": "https://localhost:8080/"
        },
        "execution": {
          "iopub.execute_input": "2023-07-10T19:19:19.523881Z",
          "iopub.status.busy": "2023-07-10T19:19:19.523478Z",
          "iopub.status.idle": "2023-07-10T19:19:19.54002Z",
          "shell.execute_reply": "2023-07-10T19:19:19.538968Z",
          "shell.execute_reply.started": "2023-07-10T19:19:19.523845Z"
        },
        "id": "RHiWTmuJsdN5",
        "outputId": "9131b7cb-6c31-4851-8050-709a72fff57f"
      },
      "outputs": [
        {
          "output_type": "stream",
          "name": "stdout",
          "text": [
            "Average Text Length is : 482.51\n"
          ]
        }
      ],
      "source": [
        "avg_len=df[\"text\"].str.split().apply(len)\n",
        "avg_len=avg_len.mean()\n",
        "print(f\"Average Text Length is : {avg_len:.2f}\")"
      ]
    },
    {
      "cell_type": "markdown",
      "metadata": {
        "id": "SfTx7M9EsdN6"
      },
      "source": [
        "# Maximum Length"
      ]
    },
    {
      "cell_type": "code",
      "execution_count": 33,
      "metadata": {
        "execution": {
          "iopub.execute_input": "2023-07-10T19:19:19.542275Z",
          "iopub.status.busy": "2023-07-10T19:19:19.54163Z",
          "iopub.status.idle": "2023-07-10T19:19:19.546731Z",
          "shell.execute_reply": "2023-07-10T19:19:19.545625Z",
          "shell.execute_reply.started": "2023-07-10T19:19:19.542233Z"
        },
        "id": "mIJpu18NsdN6"
      },
      "outputs": [],
      "source": [
        "SEQ_LEN=100"
      ]
    },
    {
      "cell_type": "code",
      "execution_count": 34,
      "metadata": {
        "execution": {
          "iopub.execute_input": "2023-07-10T19:19:19.548928Z",
          "iopub.status.busy": "2023-07-10T19:19:19.548273Z",
          "iopub.status.idle": "2023-07-10T19:19:19.557858Z",
          "shell.execute_reply": "2023-07-10T19:19:19.557111Z",
          "shell.execute_reply.started": "2023-07-10T19:19:19.548889Z"
        },
        "id": "JrmkolYHsdN6"
      },
      "outputs": [],
      "source": [
        "\n",
        "text_data=df[\"text\"]\n",
        "label_data=df[\"target\"]\n",
        "label_data=np.array(label_data)"
      ]
    },
    {
      "cell_type": "markdown",
      "metadata": {
        "id": "BOiyIqKEA5KU"
      },
      "source": [
        "# Teransformer 2"
      ]
    },
    {
      "cell_type": "code",
      "execution_count": 35,
      "metadata": {
        "id": "lJ8ruGiKoGhn"
      },
      "outputs": [],
      "source": [
        "# SEQ_LEN = 1250"
      ]
    },
    {
      "cell_type": "code",
      "source": [
        "tf.keras.backend.clear_session()"
      ],
      "metadata": {
        "id": "Nsuky782w0Ce"
      },
      "execution_count": 36,
      "outputs": []
    },
    {
      "cell_type": "code",
      "execution_count": 37,
      "metadata": {
        "id": "Q6BNjmP_oOL0"
      },
      "outputs": [],
      "source": [
        "# pip install transformers"
      ]
    },
    {
      "cell_type": "code",
      "execution_count": 38,
      "metadata": {
        "id": "uZ4pXCGsoJS1"
      },
      "outputs": [],
      "source": [
        "from transformers import AutoTokenizer\n",
        "from transformers import TFAutoModel"
      ]
    },
    {
      "cell_type": "code",
      "source": [
        "# m = \"stevhliu/my_awesome_model\"\n",
        "# m = 'TheBloke/llama-2-70b-Guanaco-QLoRA-fp16'\n",
        "# m = 'GPT2'\n",
        "# m = 'vinai/bertweet-base'\n",
        "# m = 'GPT-4/GPT-3'\n",
        "# m = 'tum-nlp/IDMGSP-Galactica-TRAIN_GPT3'\n",
        "# m = 'asi/albert-act-small'\n",
        "# m ='prajjwal1/bert-tiny'\n",
        "# m = 'asi/albert-act-base'\n",
        "m = 'albert-base-v2'"
      ],
      "metadata": {
        "id": "HuRc0pJ3Pvh2"
      },
      "execution_count": 39,
      "outputs": []
    },
    {
      "cell_type": "code",
      "execution_count": 40,
      "metadata": {
        "colab": {
          "base_uri": "https://localhost:8080/",
          "height": 113,
          "referenced_widgets": [
            "ffef6f45a13e429ba0c460eb128412b4",
            "fb250ca3fe1647b8ba7a22c369ec7c0b",
            "8f73f0c75d114ef193619d34746c82ac",
            "82d3cce60c18442bb83e8c18204bdf1e",
            "fc5ccb238576495aaae6f760e1d74fae",
            "72d208e4e3554ad88147dc98370dcc7c",
            "c9c1672ed67847a7a9c5ad4dbeda5f6a",
            "ba1ffb143a374990b0d5f9ea08b820a0",
            "48b4e40a23e74d2d9105b1746295412d",
            "39ba91423daf49189e9b468aba0551e2",
            "54c34c0a09c2468f9a34c243b4729fe1",
            "c967cdcd058741aba4677511168d8b5d",
            "6eef7ec1f4504438953add4442d50b70",
            "8cc663a83e854989824a776d8075fb95",
            "804e5a99606f48c78e380374bc0703e8",
            "d82aca6632ce4655bb920c5cd703ebef",
            "da8d56a641f142f2affad4855e7d3063",
            "574180671b7c447f983d3311752e87ff",
            "fa15475b3ff0404892211ceca152d456",
            "c7523da053524daf9082726e6505050c",
            "c02494d15a2c487eb713104b08f4adbf",
            "f7ad6a2a8c65438298b63dc8f4d834eb",
            "a51a7428ca35451389332b58614ae03a",
            "cc95b5f71d4a4696a13ec2df9ee75700",
            "e73ba87fb75c4aac8bca0c190b07295c",
            "acb9f959a32a4989af261d529bc68efe",
            "34e93c5714e9490daf1dcd3874a5142e",
            "665467d448f945a9af1fdb24ef8e17ec",
            "3d63a44234264bb4a711893a69b19523",
            "ac8cfc8db41e4c26b15da2546d5fdf6b",
            "9bde0f47dcc14bccb2723d00168d9bd5",
            "b64c3064103b479a967e3f5467445ae0",
            "ae04255a69114d7bb976b3d3d9b975c0"
          ]
        },
        "id": "JuedeZpbA8JA",
        "outputId": "9a85533b-7e97-4d48-dc09-c0d52e9a069c"
      },
      "outputs": [
        {
          "output_type": "display_data",
          "data": {
            "text/plain": [
              "Downloading (…)lve/main/config.json:   0%|          | 0.00/684 [00:00<?, ?B/s]"
            ],
            "application/vnd.jupyter.widget-view+json": {
              "version_major": 2,
              "version_minor": 0,
              "model_id": "ffef6f45a13e429ba0c460eb128412b4"
            }
          },
          "metadata": {}
        },
        {
          "output_type": "display_data",
          "data": {
            "text/plain": [
              "Downloading (…)ve/main/spiece.model:   0%|          | 0.00/760k [00:00<?, ?B/s]"
            ],
            "application/vnd.jupyter.widget-view+json": {
              "version_major": 2,
              "version_minor": 0,
              "model_id": "c967cdcd058741aba4677511168d8b5d"
            }
          },
          "metadata": {}
        },
        {
          "output_type": "display_data",
          "data": {
            "text/plain": [
              "Downloading (…)/main/tokenizer.json:   0%|          | 0.00/1.31M [00:00<?, ?B/s]"
            ],
            "application/vnd.jupyter.widget-view+json": {
              "version_major": 2,
              "version_minor": 0,
              "model_id": "a51a7428ca35451389332b58614ae03a"
            }
          },
          "metadata": {}
        }
      ],
      "source": [
        "tokenizer = AutoTokenizer.from_pretrained(m)"
      ]
    },
    {
      "cell_type": "code",
      "execution_count": 41,
      "metadata": {
        "colab": {
          "base_uri": "https://localhost:8080/",
          "height": 156,
          "referenced_widgets": [
            "4663f8bdd49944bc9ea2c2971c9a06b5",
            "037378e391a0435b83fcb6327fa92444",
            "1e988b29ace1432eb4deddd9a76bec44",
            "0c3ff05b7fbe4eb78368cbf2212f10b3",
            "21a6bb24777949fdb7ceab299e74e0e8",
            "16288ba5b1d643859054bf767f3e8a27",
            "fe7fd07be9f94a108291caf9dd0239ab",
            "ff64a64528f04201a0d36107d5e4fdaf",
            "796a07ab9b1c43a187a1adf55981ed17",
            "ab696c2394bd400c893691fbb97802f0",
            "b7fb6aa57db04b609b11abe3b0eef55b"
          ]
        },
        "id": "dz0EzgpTA8JE",
        "outputId": "a41f0e4c-2473-44d7-c5a0-f1e42afd4826"
      },
      "outputs": [
        {
          "output_type": "display_data",
          "data": {
            "text/plain": [
              "Downloading pytorch_model.bin:   0%|          | 0.00/47.4M [00:00<?, ?B/s]"
            ],
            "application/vnd.jupyter.widget-view+json": {
              "version_major": 2,
              "version_minor": 0,
              "model_id": "4663f8bdd49944bc9ea2c2971c9a06b5"
            }
          },
          "metadata": {}
        },
        {
          "output_type": "stream",
          "name": "stderr",
          "text": [
            "Some weights of the PyTorch model were not used when initializing the TF 2.0 model TFAlbertModel: ['predictions.decoder.bias', 'predictions.LayerNorm.weight', 'predictions.dense.bias', 'predictions.LayerNorm.bias', 'predictions.bias', 'predictions.decoder.weight', 'predictions.dense.weight']\n",
            "- This IS expected if you are initializing TFAlbertModel from a PyTorch model trained on another task or with another architecture (e.g. initializing a TFBertForSequenceClassification model from a BertForPreTraining model).\n",
            "- This IS NOT expected if you are initializing TFAlbertModel from a PyTorch model that you expect to be exactly identical (e.g. initializing a TFBertForSequenceClassification model from a BertForSequenceClassification model).\n",
            "All the weights of TFAlbertModel were initialized from the PyTorch model.\n",
            "If your task is similar to the task the model of the checkpoint was trained on, you can already use TFAlbertModel for predictions without further training.\n"
          ]
        }
      ],
      "source": [
        "bert = TFAutoModel.from_pretrained(m,from_pt=True)"
      ]
    },
    {
      "cell_type": "code",
      "source": [
        "# AutoTokenizer.from_pretrained"
      ],
      "metadata": {
        "id": "MeFueQZvPFWv"
      },
      "execution_count": 42,
      "outputs": []
    },
    {
      "cell_type": "code",
      "execution_count": 43,
      "metadata": {
        "id": "uWFL-z5eBAj8"
      },
      "outputs": [],
      "source": [
        "data = df\n"
      ]
    },
    {
      "cell_type": "code",
      "execution_count": 44,
      "metadata": {
        "id": "0dJOHOjHBc6E"
      },
      "outputs": [],
      "source": [
        "# SEQ_LEN = 22"
      ]
    },
    {
      "cell_type": "code",
      "execution_count": 45,
      "metadata": {
        "id": "qrOy9yJ6AYHX"
      },
      "outputs": [],
      "source": [
        "# data = data.sample(frac=0.1)"
      ]
    },
    {
      "cell_type": "code",
      "execution_count": 46,
      "metadata": {
        "id": "X2WGlOcUqE4B"
      },
      "outputs": [],
      "source": [
        "Xids = np.zeros((len(data),SEQ_LEN))\n",
        "Xmask = np.zeros((len(data),SEQ_LEN))\n"
      ]
    },
    {
      "cell_type": "code",
      "execution_count": 47,
      "metadata": {
        "colab": {
          "base_uri": "https://localhost:8080/"
        },
        "id": "m5xruxlzqTWp",
        "outputId": "3a476462-08d7-447c-f262-5046f80c46f8"
      },
      "outputs": [
        {
          "output_type": "execute_result",
          "data": {
            "text/plain": [
              "(3988, 100)"
            ]
          },
          "metadata": {},
          "execution_count": 47
        }
      ],
      "source": [
        "Xids.shape"
      ]
    },
    {
      "cell_type": "code",
      "source": [
        "# tokenizer.eos_token"
      ],
      "metadata": {
        "id": "BQpHODsiSs8y"
      },
      "execution_count": 48,
      "outputs": []
    },
    {
      "cell_type": "code",
      "source": [
        "# tokenizer.pad_token = '<|PAD|>'"
      ],
      "metadata": {
        "id": "i3e-V95nSAT2"
      },
      "execution_count": 49,
      "outputs": []
    },
    {
      "cell_type": "code",
      "execution_count": 50,
      "metadata": {
        "id": "gmgMfId5qVgd"
      },
      "outputs": [],
      "source": [
        "for i, sequence in enumerate(data['text']):\n",
        "    tokens = tokenizer.encode_plus(\n",
        "    sequence,\n",
        "    max_length = SEQ_LEN,\n",
        "    truncation=True,\n",
        "    padding=\"max_length\",\n",
        "    add_special_tokens=True,\n",
        "    return_token_type_ids=False,\n",
        "    return_attention_mask=True,\n",
        "    return_tensors='tf'\n",
        "    )\n",
        "    Xids[i, :], Xmask[i, :] = tokens['input_ids'], tokens['attention_mask']"
      ]
    },
    {
      "cell_type": "code",
      "source": [
        "# max_word = tokenizer.vocab_size,SEQ_LEN"
      ],
      "metadata": {
        "id": "fEwaaYEIgdVK"
      },
      "execution_count": 80,
      "outputs": []
    },
    {
      "cell_type": "code",
      "execution_count": 51,
      "metadata": {
        "id": "5tUwiF8iBFSN"
      },
      "outputs": [],
      "source": [
        "import tensorflow as tf"
      ]
    },
    {
      "cell_type": "code",
      "execution_count": 52,
      "metadata": {
        "colab": {
          "base_uri": "https://localhost:8080/"
        },
        "id": "sZOq4El7swYr",
        "outputId": "cb2abdbd-462e-4e6b-b99d-3d1bc1cf0aee"
      },
      "outputs": [
        {
          "output_type": "execute_result",
          "data": {
            "text/plain": [
              "[]"
            ]
          },
          "metadata": {},
          "execution_count": 52
        }
      ],
      "source": [
        "tf.config.experimental.list_physical_devices('GPU')"
      ]
    },
    {
      "cell_type": "code",
      "execution_count": 53,
      "metadata": {
        "id": "D_d8CJvKXT6K"
      },
      "outputs": [],
      "source": [
        "labels = data['target']"
      ]
    },
    {
      "cell_type": "code",
      "execution_count": 54,
      "metadata": {
        "id": "87QHbeRgs8OC"
      },
      "outputs": [],
      "source": [
        "dataset = tf.data.Dataset.from_tensor_slices((Xids, Xmask, labels))"
      ]
    },
    {
      "cell_type": "code",
      "source": [
        "# dataset = tf.data.Dataset.from_tensor_slices((Xids, labels))\n"
      ],
      "metadata": {
        "id": "RRomeFilgD93"
      },
      "execution_count": 63,
      "outputs": []
    },
    {
      "cell_type": "code",
      "execution_count": null,
      "metadata": {
        "id": "-RoQO_2yzIpd"
      },
      "outputs": [],
      "source": [
        "# labels.sum(axis=0)"
      ]
    },
    {
      "cell_type": "code",
      "execution_count": null,
      "metadata": {
        "id": "_vkAXTwVtQKK"
      },
      "outputs": [],
      "source": [
        "def map_func(input_ids, masks, labels):\n",
        "    return{'input_ids': input_ids, 'attention_mask':masks}, labels"
      ]
    },
    {
      "cell_type": "code",
      "execution_count": null,
      "metadata": {
        "id": "wJAbvBXftorM"
      },
      "outputs": [],
      "source": [
        "dataset = dataset.map(map_func)"
      ]
    },
    {
      "cell_type": "code",
      "execution_count": 64,
      "metadata": {
        "id": "YPZSvVu3tv1d"
      },
      "outputs": [],
      "source": [
        "dataset = dataset.shuffle(1000000).batch(32)"
      ]
    },
    {
      "cell_type": "code",
      "execution_count": 65,
      "metadata": {
        "id": "x5cqp_CDt7av"
      },
      "outputs": [],
      "source": [
        "DS_LEN = len(list(dataset))"
      ]
    },
    {
      "cell_type": "code",
      "execution_count": 66,
      "metadata": {
        "colab": {
          "base_uri": "https://localhost:8080/"
        },
        "id": "tb-JpMdvt-d4",
        "outputId": "66fb81b2-2614-4abd-ad31-5e00ac8577f9"
      },
      "outputs": [
        {
          "output_type": "execute_result",
          "data": {
            "text/plain": [
              "125"
            ]
          },
          "metadata": {},
          "execution_count": 66
        }
      ],
      "source": [
        "DS_LEN"
      ]
    },
    {
      "cell_type": "code",
      "execution_count": 58,
      "metadata": {
        "id": "zJeJrde_0VPP"
      },
      "outputs": [],
      "source": [
        "# round(DS_LEN*SPLIT)"
      ]
    },
    {
      "cell_type": "code",
      "execution_count": 59,
      "metadata": {
        "id": "AHStkojW0a0w"
      },
      "outputs": [],
      "source": [
        "# len(train)"
      ]
    },
    {
      "cell_type": "code",
      "execution_count": 67,
      "metadata": {
        "id": "OL9m2oDz1j2j"
      },
      "outputs": [],
      "source": [
        "DATASET_SIZE = len(dataset)"
      ]
    },
    {
      "cell_type": "code",
      "execution_count": 68,
      "metadata": {
        "id": "W3aksvWY1bZy"
      },
      "outputs": [],
      "source": [
        "train_size = int(0.60 * DATASET_SIZE)\n",
        "val_size = int(0.15 * DATASET_SIZE)\n",
        "test_size = int(0.25 * DATASET_SIZE)\n",
        "\n",
        "full_dataset = dataset\n",
        "full_dataset = full_dataset.shuffle(123424242)\n",
        "train_dataset = full_dataset.take(train_size)\n",
        "test_dataset = full_dataset.skip(train_size)\n",
        "val_dataset = test_dataset.skip(test_size)\n",
        "test_dataset = test_dataset.take(test_size)"
      ]
    },
    {
      "cell_type": "code",
      "execution_count": 69,
      "metadata": {
        "id": "n0oXnFK92EhC"
      },
      "outputs": [],
      "source": [
        "train = train_dataset\n",
        "test = test_dataset\n",
        "val = val_dataset"
      ]
    },
    {
      "cell_type": "code",
      "execution_count": 70,
      "metadata": {
        "id": "q0ag84j2uAyY"
      },
      "outputs": [],
      "source": [
        "# SPLIT = 0.8\n",
        "# train = dataset.take(round(DS_LEN*SPLIT))\n",
        "# val = dataset.skip(round(DS_LEN*SPLIT))\n",
        "# test = dataset.skip(round())\n",
        "# # del dataset"
      ]
    },
    {
      "cell_type": "code",
      "execution_count": 71,
      "metadata": {
        "colab": {
          "base_uri": "https://localhost:8080/"
        },
        "id": "dD9q-eJiA7m7",
        "outputId": "8e520ee9-c0a3-4842-b8bc-ab6824362006"
      },
      "outputs": [
        {
          "output_type": "execute_result",
          "data": {
            "text/plain": [
              "(3988,)"
            ]
          },
          "metadata": {},
          "execution_count": 71
        }
      ],
      "source": [
        "labels.shape"
      ]
    },
    {
      "cell_type": "code",
      "execution_count": 72,
      "metadata": {
        "id": "P4ykpILyE5Oy"
      },
      "outputs": [],
      "source": [
        "tf.keras.backend.clear_session()"
      ]
    },
    {
      "cell_type": "code",
      "execution_count": null,
      "metadata": {
        "id": "aaVXm40hueI2"
      },
      "outputs": [],
      "source": [
        "input_ids = tf.keras.layers.Input(shape=(SEQ_LEN,), name='input_ids', dtype='int32')\n",
        "mask = tf.keras.layers.Input(shape=(SEQ_LEN,), name='attention_mask', dtype='int32')\n",
        "\n",
        "embeddings = bert(input_ids, attention_mask=mask)[0]\n",
        "\n",
        "X = tf.keras.layers.GlobalMaxPooling1D()(embeddings)\n",
        "X = tf.keras.layers.BatchNormalization()(X)\n",
        "# X = tf.keras.layers.Dense(32, activation = 'relu')(X)\n",
        "# X = tf.keras.layers.Dropout(0.1)(X)\n",
        "X = tf.keras.layers.Dense(32, activation = 'relu')(X)\n",
        "y = tf.keras.layers.Dense(1, activation = 'sigmoid' , name = 'outputs')(X)\n",
        "\n",
        "model = tf.keras.Model(inputs=[input_ids, mask], outputs = y)"
      ]
    },
    {
      "cell_type": "code",
      "execution_count": null,
      "metadata": {
        "id": "cNqBGkUI79Yt"
      },
      "outputs": [],
      "source": [
        "model.layers[2].trainable = False"
      ]
    },
    {
      "cell_type": "code",
      "execution_count": null,
      "metadata": {
        "id": "lWBp-iQV5uS4"
      },
      "outputs": [],
      "source": [
        "# model.load_weights(f'/content/drive/MyDrive/work 39 toxisity/checkpoint')"
      ]
    },
    {
      "cell_type": "code",
      "execution_count": null,
      "metadata": {
        "colab": {
          "base_uri": "https://localhost:8080/"
        },
        "id": "uKSKOVihvAax",
        "outputId": "4e739c7d-f1df-4dfd-a833-18146e6ad1e8"
      },
      "outputs": [
        {
          "output_type": "stream",
          "name": "stdout",
          "text": [
            "Model: \"model\"\n",
            "__________________________________________________________________________________________________\n",
            " Layer (type)                   Output Shape         Param #     Connected to                     \n",
            "==================================================================================================\n",
            " input_ids (InputLayer)         [(None, 100)]        0           []                               \n",
            "                                                                                                  \n",
            " attention_mask (InputLayer)    [(None, 100)]        0           []                               \n",
            "                                                                                                  \n",
            " tf_albert_model (TFAlbertModel  TFBaseModelOutputWi  11683584   ['input_ids[0][0]',              \n",
            " )                              thPooling(last_hidd               'attention_mask[0][0]']         \n",
            "                                en_state=(None, 100                                               \n",
            "                                , 768),                                                           \n",
            "                                 pooler_output=(Non                                               \n",
            "                                e, 768),                                                          \n",
            "                                 hidden_states=None                                               \n",
            "                                , attentions=None)                                                \n",
            "                                                                                                  \n",
            " global_max_pooling1d (GlobalMa  (None, 768)         0           ['tf_albert_model[2][0]']        \n",
            " xPooling1D)                                                                                      \n",
            "                                                                                                  \n",
            " batch_normalization (BatchNorm  (None, 768)         3072        ['global_max_pooling1d[0][0]']   \n",
            " alization)                                                                                       \n",
            "                                                                                                  \n",
            " dense (Dense)                  (None, 32)           24608       ['batch_normalization[0][0]']    \n",
            "                                                                                                  \n",
            " outputs (Dense)                (None, 1)            33          ['dense[0][0]']                  \n",
            "                                                                                                  \n",
            "==================================================================================================\n",
            "Total params: 11,711,297\n",
            "Trainable params: 26,177\n",
            "Non-trainable params: 11,685,120\n",
            "__________________________________________________________________________________________________\n"
          ]
        }
      ],
      "source": [
        "model.summary()"
      ]
    },
    {
      "cell_type": "code",
      "execution_count": null,
      "metadata": {
        "id": "iYeJ0GyMLqz4"
      },
      "outputs": [],
      "source": [
        "import pandas as pd\n",
        "from keras import layers\n",
        "from keras.layers import Dense, Activation, Flatten, Convolution1D, Dropout,MaxPooling1D\n",
        "from keras.layers import Input, Dense, Dropout, Activation, ZeroPadding2D, BatchNormalization, Flatten, Conv2D, Embedding, Add\n",
        "from keras.layers import Conv1D, GlobalAveragePooling1D, AveragePooling2D, MaxPooling2D, MaxPool1D, ZeroPadding1D, GlobalMaxPooling2D, GlobalAveragePooling2D, LSTM, SpatialDropout1D\n",
        "from keras.models import Sequential, Model\n",
        "from keras.preprocessing import image\n",
        "from keras.utils import plot_model\n",
        "from keras.applications.inception_v3 import InceptionV3\n",
        "from sklearn.model_selection import train_test_split\n",
        "import matplotlib.pyplot as plt\n",
        "from sklearn.metrics import confusion_matrix\n",
        "import seaborn as sns\n",
        "from keras.callbacks import ReduceLROnPlateau , EarlyStopping\n",
        "from keras.utils import to_categorical\n",
        "from tensorflow.keras.optimizers import Adam, Adamax\n",
        "import tensorflow as tf"
      ]
    },
    {
      "cell_type": "code",
      "execution_count": null,
      "metadata": {
        "id": "pa9I1DFdLq9v"
      },
      "outputs": [],
      "source": [
        "es = EarlyStopping(monitor=\"val_loss\", mode=\"min\", verbose=1, patience=7)\n",
        "learning_rate_reduction = ReduceLROnPlateau(monitor='val_accuracy',\n",
        "                                            patience=5,\n",
        "                                            verbose=1,\n",
        "                                            factor=0.7,\n",
        "                                            min_lr=0.000001)"
      ]
    },
    {
      "cell_type": "code",
      "execution_count": null,
      "metadata": {
        "id": "KN45mTbg6eHA"
      },
      "outputs": [],
      "source": [
        "from tensorflow.keras.optimizers import Adam, Adamax,RMSprop\n",
        "# Adamax(learning_rate=0.1)"
      ]
    },
    {
      "cell_type": "code",
      "execution_count": null,
      "metadata": {
        "id": "ZNvCM2ICLq9v"
      },
      "outputs": [],
      "source": [
        "# model.compile(optimizer=Adamax(lr=0.0001), loss='categorical_crossentropy', metrics=['accuracy',tf.keras.metrics.Precision(),tf.keras.metrics.Recall(),tf.keras.metrics.AUC(num_thresholds=3)])\n",
        "model.compile(optimizer=RMSprop(), loss='binary_crossentropy', metrics=['accuracy'])\n",
        "# model.compile(optimizer=Adamax(), loss='binary_crossentropy', metrics=['accuracy'])\n",
        "\n",
        "# tf.keras.utils.plot_model(ann_model, to_file='ann_model.png', show_shapes=True, show_layer_names=True)"
      ]
    },
    {
      "cell_type": "code",
      "execution_count": null,
      "metadata": {
        "id": "3BmGRIWm_79Q"
      },
      "outputs": [],
      "source": [
        "# model.compile(optimizer=Adam(), loss='binary_crossentropy', metrics=['accuracy','AUC'])\n"
      ]
    },
    {
      "cell_type": "code",
      "execution_count": null,
      "metadata": {
        "colab": {
          "base_uri": "https://localhost:8080/"
        },
        "id": "qA1RELtXLq9v",
        "outputId": "ca5e9fb3-566f-447d-8525-dfa4839681c1"
      },
      "outputs": [
        {
          "output_type": "stream",
          "name": "stdout",
          "text": [
            "75/75 [==============================] - 25s 332ms/step - loss: 0.1274 - accuracy: 0.9613 - val_loss: 0.0710 - val_accuracy: 0.9844 - lr: 0.0010\n"
          ]
        }
      ],
      "source": [
        "num_epochs = 1\n",
        "# early_stop = EarlyStopping(monitor='val_accuracy', patience=6,restore_best_weights=True)\n",
        "history = model.fit(train,\n",
        "                    # batch_size=32,\n",
        "                    epochs=num_epochs,\n",
        "                    # validati0on_split=0.2,\n",
        "                    validation_data=[val],\n",
        "                    callbacks =[\n",
        "                        learning_rate_reduction,\n",
        "                                es\n",
        "                                ],\n",
        "                    # verbose=0\n",
        "                    )"
      ]
    },
    {
      "cell_type": "code",
      "source": [
        "# os.mkdir(f'{path0}44/')\n",
        "# path0\n",
        "# path2 = f'{path0}44/'"
      ],
      "metadata": {
        "id": "8UbAt5C75e4U"
      },
      "execution_count": null,
      "outputs": []
    },
    {
      "cell_type": "code",
      "execution_count": null,
      "metadata": {
        "id": "ftTAXPXHCYk7"
      },
      "outputs": [],
      "source": [
        "model.save_weights(f'{path0}checkpoint')"
      ]
    },
    {
      "cell_type": "code",
      "execution_count": null,
      "metadata": {
        "id": "qJo4zcS-pyUk"
      },
      "outputs": [],
      "source": [
        "# precision = tf.keras.metrics.Precision()\n",
        "# recall = tf.keras.metrics.Recall()\n",
        "# accuracy = tf.keras.metrics.CategoricalAccuracy()\n",
        "# auc = tf.keras.metrics.AUC(num_thresholds=6)\n",
        "tr = []\n",
        "pr = []\n",
        "l = 0\n",
        "# for k in range(len(val)):\n",
        "\n",
        "\n",
        "for i,j in test.take(-1):\n",
        "  # l += 1\n",
        "  # print(l)\n",
        "  s = model.predict(i,verbose=0)\n",
        "  tr.append(np.array(j))\n",
        "  pr.append(np.array(s))\n",
        "#   precision.update_state(s,j)\n",
        "#   accuracy.update_state(s,j)\n",
        "#   auc.update_state(s,j)\n",
        "#   recall.update_state(s,j)\n",
        "# pre = precision.result().numpy()\n",
        "# rec = recall.result().numpy()\n",
        "# au = auc.result().numpy()\n",
        "# acc = accuracy.result().numpy()\n",
        "# print(pre,rec,au,acc)"
      ]
    },
    {
      "cell_type": "code",
      "execution_count": null,
      "metadata": {
        "id": "hwjAGseEyWfS"
      },
      "outputs": [],
      "source": [
        "yp = np.concatenate([y for y in pr], axis=0)\n",
        "yt = np.concatenate([y for y in tr], axis=0)\n"
      ]
    },
    {
      "cell_type": "code",
      "execution_count": null,
      "metadata": {
        "colab": {
          "base_uri": "https://localhost:8080/"
        },
        "id": "UPhkhBIH9hRL",
        "outputId": "410fa575-f444-415b-a751-ed5b08761703"
      },
      "outputs": [
        {
          "output_type": "stream",
          "name": "stdout",
          "text": [
            "              precision    recall  f1-score   support\n",
            "\n",
            "           0       0.99      0.99      0.99       513\n",
            "           1       0.98      0.99      0.99       456\n",
            "\n",
            "    accuracy                           0.99       969\n",
            "   macro avg       0.99      0.99      0.99       969\n",
            "weighted avg       0.99      0.99      0.99       969\n",
            "\n"
          ]
        }
      ],
      "source": [
        "yp[yp < 0.5] = 0\n",
        "yp[yp > 0.5] = 1\n",
        "# y1 = y_test\n",
        "print(classification_report(yt,yp,zero_division=True))"
      ]
    },
    {
      "cell_type": "code",
      "source": [
        "yp = yp.reshape(-1,)"
      ],
      "metadata": {
        "id": "d5obWg-l8uNC"
      },
      "execution_count": null,
      "outputs": []
    },
    {
      "cell_type": "code",
      "source": [
        "np.sum(yt==yp)/yt.shape[0]"
      ],
      "metadata": {
        "colab": {
          "base_uri": "https://localhost:8080/"
        },
        "id": "6bom3ZHX84Fa",
        "outputId": "03240226-4e47-4e6b-871e-f7651e8c5579"
      },
      "execution_count": null,
      "outputs": [
        {
          "output_type": "execute_result",
          "data": {
            "text/plain": [
              "0.9876160990712074"
            ]
          },
          "metadata": {},
          "execution_count": 119
        }
      ]
    },
    {
      "cell_type": "code",
      "execution_count": null,
      "metadata": {
        "id": "dpTZ2mg9US7-"
      },
      "outputs": [],
      "source": [
        "yp = np.concatenate([y for y in pr], axis=0)\n",
        "yt = np.concatenate([y for y in tr], axis=0)\n"
      ]
    },
    {
      "cell_type": "code",
      "source": [
        "yp"
      ],
      "metadata": {
        "colab": {
          "base_uri": "https://localhost:8080/"
        },
        "id": "CPp2_dz_8pzW",
        "outputId": "0c08e418-95ca-4903-b728-4d5e73e2724e"
      },
      "execution_count": null,
      "outputs": [
        {
          "output_type": "execute_result",
          "data": {
            "text/plain": [
              "array([[9.06984508e-01],\n",
              "       [1.92849874e-01],\n",
              "       [9.65344250e-01],\n",
              "       [8.35214734e-01],\n",
              "       [8.80024920e-04],\n",
              "       [1.58857065e-03],\n",
              "       [2.35431493e-04],\n",
              "       [9.96258020e-01],\n",
              "       [7.96530470e-02],\n",
              "       [9.76869822e-01],\n",
              "       [9.97842312e-01],\n",
              "       [3.65646952e-03],\n",
              "       [9.75437462e-01],\n",
              "       [1.26086416e-05],\n",
              "       [7.32829154e-01],\n",
              "       [3.82593530e-03],\n",
              "       [9.96857762e-01],\n",
              "       [9.61425543e-01],\n",
              "       [9.97940600e-01],\n",
              "       [9.82024014e-01],\n",
              "       [2.77329862e-01],\n",
              "       [6.53310120e-01],\n",
              "       [9.99036908e-01],\n",
              "       [9.56146300e-01],\n",
              "       [9.36725410e-04],\n",
              "       [9.36725410e-04],\n",
              "       [9.88021493e-01],\n",
              "       [9.90781128e-01],\n",
              "       [3.65322307e-02],\n",
              "       [8.82273138e-01],\n",
              "       [3.40095395e-03],\n",
              "       [1.16388230e-02],\n",
              "       [2.69012053e-05],\n",
              "       [9.31170225e-01],\n",
              "       [9.41730022e-01],\n",
              "       [4.58769267e-03],\n",
              "       [2.08765715e-01],\n",
              "       [8.65637884e-03],\n",
              "       [1.06825086e-03],\n",
              "       [9.63894486e-01],\n",
              "       [9.96264875e-01],\n",
              "       [2.35431493e-04],\n",
              "       [8.23153734e-01],\n",
              "       [9.04493853e-02],\n",
              "       [9.98839200e-01],\n",
              "       [6.28600072e-04],\n",
              "       [3.91549291e-03],\n",
              "       [9.29056406e-01],\n",
              "       [7.55762798e-04],\n",
              "       [2.59165727e-02],\n",
              "       [9.90392983e-01],\n",
              "       [9.57037091e-01],\n",
              "       [8.96219373e-01],\n",
              "       [1.01960385e-02],\n",
              "       [3.16439336e-03],\n",
              "       [9.64582980e-01],\n",
              "       [9.74805176e-01],\n",
              "       [9.02441323e-01],\n",
              "       [1.24919944e-01],\n",
              "       [9.93859529e-01],\n",
              "       [8.42976123e-02],\n",
              "       [3.16439336e-03],\n",
              "       [9.97670949e-01],\n",
              "       [9.86956596e-01],\n",
              "       [9.95760024e-01],\n",
              "       [9.45562184e-01],\n",
              "       [9.73616421e-01],\n",
              "       [9.98008549e-01],\n",
              "       [8.56869221e-01],\n",
              "       [9.39388216e-01],\n",
              "       [3.76521552e-04],\n",
              "       [3.16439336e-03],\n",
              "       [7.55762798e-04],\n",
              "       [1.01502221e-02],\n",
              "       [9.89401281e-01],\n",
              "       [9.86773610e-01],\n",
              "       [8.78566742e-01],\n",
              "       [2.88080238e-02],\n",
              "       [9.99414802e-01],\n",
              "       [9.99509215e-01],\n",
              "       [9.86866713e-01],\n",
              "       [3.16439336e-03],\n",
              "       [9.82785150e-02],\n",
              "       [7.05648661e-02],\n",
              "       [1.26109958e-01],\n",
              "       [9.26407218e-01],\n",
              "       [4.60943803e-02],\n",
              "       [9.97396588e-01],\n",
              "       [6.86710775e-01],\n",
              "       [6.28600072e-04],\n",
              "       [3.16439336e-03],\n",
              "       [2.78934110e-02],\n",
              "       [1.22982869e-03],\n",
              "       [1.72538429e-01],\n",
              "       [8.96985948e-01],\n",
              "       [9.07364249e-01],\n",
              "       [9.88699377e-01],\n",
              "       [2.25884318e-02],\n",
              "       [6.58416271e-01],\n",
              "       [9.54611123e-01],\n",
              "       [9.98175502e-01],\n",
              "       [6.25232875e-01],\n",
              "       [9.51009572e-01],\n",
              "       [1.58857065e-03],\n",
              "       [8.78336430e-01],\n",
              "       [9.65314150e-01],\n",
              "       [1.36393053e-03],\n",
              "       [3.49822529e-02],\n",
              "       [8.23843628e-02],\n",
              "       [4.80727816e-04],\n",
              "       [2.25884318e-02],\n",
              "       [4.79609221e-02],\n",
              "       [1.03494385e-02],\n",
              "       [8.05252716e-02],\n",
              "       [8.34445879e-02],\n",
              "       [9.93678749e-01],\n",
              "       [1.85940985e-03],\n",
              "       [3.70459855e-02],\n",
              "       [6.89356387e-01],\n",
              "       [9.95711327e-01],\n",
              "       [5.24002717e-05],\n",
              "       [6.28600072e-04],\n",
              "       [2.08782014e-02],\n",
              "       [1.89005688e-01],\n",
              "       [1.58857065e-03],\n",
              "       [9.98116136e-01],\n",
              "       [9.67601895e-01],\n",
              "       [6.28600072e-04],\n",
              "       [9.95953798e-01],\n",
              "       [2.58790678e-03],\n",
              "       [2.64213653e-03],\n",
              "       [6.28600072e-04],\n",
              "       [9.99821007e-01],\n",
              "       [6.28600072e-04],\n",
              "       [7.55762798e-04],\n",
              "       [8.93913925e-01],\n",
              "       [9.40864444e-01],\n",
              "       [1.58346668e-01],\n",
              "       [9.68911409e-01],\n",
              "       [9.92126703e-01],\n",
              "       [9.35727417e-01],\n",
              "       [1.22982869e-03],\n",
              "       [6.45569265e-02],\n",
              "       [7.55762798e-04],\n",
              "       [4.93245665e-04],\n",
              "       [1.21777621e-03],\n",
              "       [9.84543741e-01],\n",
              "       [5.61750829e-02],\n",
              "       [6.37004197e-01],\n",
              "       [1.58857065e-03],\n",
              "       [3.43119982e-03],\n",
              "       [3.43812187e-03],\n",
              "       [9.97584820e-01],\n",
              "       [1.22863822e-01],\n",
              "       [9.82317924e-01],\n",
              "       [9.77115750e-01],\n",
              "       [7.55762798e-04],\n",
              "       [9.79618311e-01],\n",
              "       [1.56190130e-04],\n",
              "       [3.97748221e-03],\n",
              "       [8.90299559e-01],\n",
              "       [9.97354507e-01],\n",
              "       [9.19479847e-01],\n",
              "       [9.92672384e-01],\n",
              "       [9.59040999e-01],\n",
              "       [3.28981318e-02],\n",
              "       [5.74929342e-02],\n",
              "       [9.99755323e-01],\n",
              "       [2.57191151e-01],\n",
              "       [6.69735344e-03],\n",
              "       [1.05199084e-01],\n",
              "       [5.74929342e-02],\n",
              "       [6.28600072e-04],\n",
              "       [5.43383742e-03],\n",
              "       [3.67855951e-02],\n",
              "       [9.98436034e-01],\n",
              "       [9.76981342e-01],\n",
              "       [9.98424888e-01],\n",
              "       [3.16439336e-03],\n",
              "       [9.79939699e-01],\n",
              "       [3.16439336e-03],\n",
              "       [7.55762798e-04],\n",
              "       [6.29010797e-02],\n",
              "       [9.90685284e-01],\n",
              "       [9.21820998e-01],\n",
              "       [2.90593237e-01],\n",
              "       [1.82786118e-02],\n",
              "       [9.91779983e-01],\n",
              "       [9.92584646e-01],\n",
              "       [6.60402477e-01],\n",
              "       [6.28600072e-04],\n",
              "       [8.57444387e-03],\n",
              "       [4.14115153e-02],\n",
              "       [1.66004989e-03],\n",
              "       [1.76289156e-02],\n",
              "       [2.06965618e-02],\n",
              "       [8.89108777e-01],\n",
              "       [3.35360353e-04],\n",
              "       [9.94994887e-04],\n",
              "       [7.55762798e-04],\n",
              "       [9.92675602e-01],\n",
              "       [3.26678623e-03],\n",
              "       [9.97425973e-01],\n",
              "       [5.72486162e-01],\n",
              "       [9.17873383e-01],\n",
              "       [2.92633325e-01],\n",
              "       [8.18300899e-03],\n",
              "       [9.71089244e-01],\n",
              "       [1.11251712e-01],\n",
              "       [1.58857065e-03],\n",
              "       [3.16439336e-03],\n",
              "       [6.37229756e-02],\n",
              "       [9.83040869e-01],\n",
              "       [8.24269474e-01],\n",
              "       [1.86837222e-02],\n",
              "       [9.98438060e-01],\n",
              "       [9.99872446e-01],\n",
              "       [9.75525618e-01],\n",
              "       [1.63660428e-04],\n",
              "       [7.73581937e-02],\n",
              "       [9.99819696e-01],\n",
              "       [9.98373866e-01],\n",
              "       [9.81754482e-01],\n",
              "       [7.55762798e-04],\n",
              "       [3.16439336e-03],\n",
              "       [2.14675311e-02],\n",
              "       [9.85580385e-01],\n",
              "       [3.16439336e-03],\n",
              "       [8.53024960e-01],\n",
              "       [8.07643890e-01],\n",
              "       [2.39071771e-04],\n",
              "       [9.93058801e-01],\n",
              "       [3.16439336e-03],\n",
              "       [9.99087334e-01],\n",
              "       [6.37229756e-02],\n",
              "       [4.98577915e-02],\n",
              "       [3.91236786e-03],\n",
              "       [6.28600072e-04],\n",
              "       [1.58857065e-03],\n",
              "       [9.91835773e-01],\n",
              "       [1.95418298e-03],\n",
              "       [1.63799003e-02],\n",
              "       [5.74679792e-01],\n",
              "       [4.26951825e-04],\n",
              "       [9.97150004e-01],\n",
              "       [9.97604728e-01],\n",
              "       [2.94388264e-01],\n",
              "       [9.96395528e-01],\n",
              "       [9.99199092e-01],\n",
              "       [9.82672215e-01],\n",
              "       [7.04057747e-05],\n",
              "       [2.10344996e-02],\n",
              "       [9.99423146e-01],\n",
              "       [9.84950781e-01],\n",
              "       [9.20411944e-01],\n",
              "       [9.99496937e-01],\n",
              "       [6.28600072e-04],\n",
              "       [2.87437946e-01],\n",
              "       [6.98043406e-02],\n",
              "       [9.88699377e-01],\n",
              "       [9.43789929e-02],\n",
              "       [9.49639499e-01],\n",
              "       [7.55762798e-04],\n",
              "       [9.97670949e-01],\n",
              "       [1.60542309e-01],\n",
              "       [2.86678108e-03],\n",
              "       [1.62150376e-02],\n",
              "       [6.98758423e-01],\n",
              "       [2.02205629e-05],\n",
              "       [8.88921499e-01],\n",
              "       [8.21302474e-01],\n",
              "       [9.74013686e-01],\n",
              "       [7.46230483e-01],\n",
              "       [4.59132418e-02],\n",
              "       [7.55762798e-04],\n",
              "       [1.49426639e-01],\n",
              "       [9.82094035e-02],\n",
              "       [3.08741424e-02],\n",
              "       [1.58857065e-03],\n",
              "       [2.57108584e-02],\n",
              "       [9.89876568e-01],\n",
              "       [1.23570874e-01],\n",
              "       [1.30451709e-01],\n",
              "       [2.20998228e-02],\n",
              "       [9.95858371e-01],\n",
              "       [4.19286638e-03],\n",
              "       [9.97994304e-01],\n",
              "       [7.49614695e-03],\n",
              "       [8.94340098e-01],\n",
              "       [6.06400013e-01],\n",
              "       [9.99333918e-01],\n",
              "       [9.26748931e-01],\n",
              "       [9.95456457e-01],\n",
              "       [9.92988944e-01],\n",
              "       [9.41750824e-01],\n",
              "       [9.33079004e-01],\n",
              "       [9.97645199e-01],\n",
              "       [6.28600072e-04],\n",
              "       [8.94669175e-01],\n",
              "       [1.11654930e-01],\n",
              "       [5.94770128e-04],\n",
              "       [7.68427700e-02],\n",
              "       [9.87141132e-01],\n",
              "       [9.99778330e-01],\n",
              "       [9.79908109e-01],\n",
              "       [4.01028767e-02],\n",
              "       [9.36725410e-04],\n",
              "       [9.72766817e-01],\n",
              "       [3.57316375e-01],\n",
              "       [8.85871053e-03],\n",
              "       [9.96928513e-01],\n",
              "       [7.55762798e-04],\n",
              "       [8.75670016e-01],\n",
              "       [3.99701260e-02],\n",
              "       [6.63741827e-02],\n",
              "       [1.99433605e-04],\n",
              "       [3.44093598e-04],\n",
              "       [1.57286767e-02],\n",
              "       [9.67525184e-01],\n",
              "       [1.58857065e-03],\n",
              "       [9.67908144e-01],\n",
              "       [2.77726520e-02],\n",
              "       [9.68666375e-01],\n",
              "       [9.01007056e-01],\n",
              "       [9.95203257e-01],\n",
              "       [8.02509844e-01],\n",
              "       [9.36725410e-04],\n",
              "       [1.72637478e-01],\n",
              "       [9.99067247e-01],\n",
              "       [6.28600072e-04],\n",
              "       [2.80284439e-04],\n",
              "       [1.21777621e-03],\n",
              "       [9.76800203e-01],\n",
              "       [9.92463589e-01],\n",
              "       [9.66615796e-01],\n",
              "       [5.43302149e-02],\n",
              "       [9.07795429e-01],\n",
              "       [9.95417714e-01],\n",
              "       [9.36725410e-04],\n",
              "       [5.42894229e-02],\n",
              "       [9.75482464e-01],\n",
              "       [9.74023044e-01],\n",
              "       [6.02643751e-03],\n",
              "       [9.99333918e-01],\n",
              "       [1.58857065e-03],\n",
              "       [2.19060078e-01],\n",
              "       [1.12853304e-03],\n",
              "       [1.40996638e-03],\n",
              "       [8.66553068e-01],\n",
              "       [9.60241556e-01],\n",
              "       [8.53035867e-01],\n",
              "       [9.95417237e-01],\n",
              "       [5.81375957e-01],\n",
              "       [9.70081687e-01],\n",
              "       [1.68387941e-03],\n",
              "       [9.98480380e-01],\n",
              "       [9.74442840e-01],\n",
              "       [9.39836681e-01],\n",
              "       [1.93106458e-02],\n",
              "       [7.55762798e-04],\n",
              "       [9.04214442e-01],\n",
              "       [8.56736973e-02],\n",
              "       [1.78856659e-03],\n",
              "       [5.08432917e-04],\n",
              "       [9.89077449e-01],\n",
              "       [8.68484020e-01],\n",
              "       [1.68346036e-02],\n",
              "       [1.58857065e-03],\n",
              "       [4.48317174e-03],\n",
              "       [9.96010780e-01],\n",
              "       [1.11021555e-03],\n",
              "       [9.86033499e-01],\n",
              "       [9.99333918e-01],\n",
              "       [3.16439336e-03],\n",
              "       [2.62801972e-04],\n",
              "       [9.50457454e-01],\n",
              "       [7.55762798e-04],\n",
              "       [6.28600072e-04],\n",
              "       [6.28600072e-04],\n",
              "       [9.83984411e-01],\n",
              "       [1.58857065e-03],\n",
              "       [1.43055290e-01],\n",
              "       [9.10279691e-01],\n",
              "       [9.72027957e-01],\n",
              "       [3.48018319e-03],\n",
              "       [1.99595932e-03],\n",
              "       [9.99758661e-01],\n",
              "       [4.70782518e-02],\n",
              "       [9.94114697e-01],\n",
              "       [9.83804047e-01],\n",
              "       [9.65704679e-01],\n",
              "       [9.92630005e-01],\n",
              "       [9.40182805e-01],\n",
              "       [9.36725410e-04],\n",
              "       [3.25347733e-04],\n",
              "       [1.22982869e-03],\n",
              "       [2.49034092e-02],\n",
              "       [4.62011853e-03],\n",
              "       [9.99333918e-01],\n",
              "       [9.29024696e-01],\n",
              "       [3.16439336e-03],\n",
              "       [1.91707928e-02],\n",
              "       [9.99871135e-01],\n",
              "       [9.96891201e-01],\n",
              "       [9.97511744e-01],\n",
              "       [9.59729075e-01],\n",
              "       [9.98651683e-01],\n",
              "       [9.99876380e-01],\n",
              "       [3.16439336e-03],\n",
              "       [9.81754482e-01],\n",
              "       [9.99826968e-01],\n",
              "       [1.29628961e-03],\n",
              "       [7.85223603e-01],\n",
              "       [4.50980477e-02],\n",
              "       [2.28630481e-04],\n",
              "       [9.99333918e-01],\n",
              "       [9.08625424e-01],\n",
              "       [4.85818693e-03],\n",
              "       [9.83877361e-01],\n",
              "       [3.81384008e-02],\n",
              "       [9.97154593e-01],\n",
              "       [8.66943061e-01],\n",
              "       [9.53327715e-01],\n",
              "       [3.16439336e-03],\n",
              "       [9.36725410e-04],\n",
              "       [9.96403098e-01],\n",
              "       [3.20933275e-02],\n",
              "       [9.85456288e-01],\n",
              "       [8.73815417e-01],\n",
              "       [7.65878183e-04],\n",
              "       [7.55762798e-04],\n",
              "       [9.38107911e-03],\n",
              "       [9.80629981e-01],\n",
              "       [6.99348003e-02],\n",
              "       [3.24455164e-02],\n",
              "       [9.74334955e-01],\n",
              "       [5.25439829e-02],\n",
              "       [4.80727816e-04],\n",
              "       [6.61989150e-04],\n",
              "       [9.74659979e-01],\n",
              "       [9.99351561e-01],\n",
              "       [6.46420568e-02],\n",
              "       [9.36725410e-04],\n",
              "       [7.68719852e-01],\n",
              "       [7.49915242e-01],\n",
              "       [5.21098170e-03],\n",
              "       [9.99712884e-01],\n",
              "       [8.53989899e-01],\n",
              "       [9.86074090e-01],\n",
              "       [6.54979656e-03],\n",
              "       [9.59283948e-01],\n",
              "       [3.16439336e-03],\n",
              "       [3.16439336e-03],\n",
              "       [2.04103324e-03],\n",
              "       [1.58857065e-03],\n",
              "       [9.87169385e-01],\n",
              "       [2.80606351e-03],\n",
              "       [9.94526923e-01],\n",
              "       [9.89876568e-01],\n",
              "       [9.95277047e-01],\n",
              "       [2.05402519e-03],\n",
              "       [9.77860868e-01],\n",
              "       [9.94344234e-01],\n",
              "       [2.42566108e-04],\n",
              "       [2.78934110e-02],\n",
              "       [6.28600072e-04],\n",
              "       [8.77436519e-01],\n",
              "       [9.91196632e-01],\n",
              "       [9.36725410e-04],\n",
              "       [9.95606244e-01],\n",
              "       [7.99749032e-05],\n",
              "       [4.23837861e-04],\n",
              "       [9.97510672e-01],\n",
              "       [1.26470916e-03],\n",
              "       [9.61612701e-01],\n",
              "       [1.22017421e-01],\n",
              "       [9.97724116e-01],\n",
              "       [3.16439336e-03],\n",
              "       [1.22034072e-03],\n",
              "       [1.63293555e-02],\n",
              "       [7.55762798e-04],\n",
              "       [9.99333918e-01],\n",
              "       [3.34391892e-01],\n",
              "       [1.86837222e-02],\n",
              "       [8.51353884e-01],\n",
              "       [2.99289942e-01],\n",
              "       [1.05334390e-02],\n",
              "       [1.87892914e-02],\n",
              "       [9.84899521e-01],\n",
              "       [9.98985827e-01],\n",
              "       [4.13942076e-02],\n",
              "       [8.86578321e-01],\n",
              "       [2.15965509e-02],\n",
              "       [8.66292357e-01],\n",
              "       [9.95648921e-01],\n",
              "       [9.89216089e-01],\n",
              "       [1.35711685e-03],\n",
              "       [9.48615730e-01],\n",
              "       [1.64349214e-03],\n",
              "       [9.99556482e-01],\n",
              "       [7.55762798e-04],\n",
              "       [9.91314232e-01],\n",
              "       [7.83140596e-04],\n",
              "       [9.60216939e-01],\n",
              "       [1.14377961e-02],\n",
              "       [5.60539123e-03],\n",
              "       [1.58857065e-03],\n",
              "       [9.18069065e-01],\n",
              "       [9.90246296e-01],\n",
              "       [8.41865694e-05],\n",
              "       [9.99552548e-01],\n",
              "       [9.95517790e-01],\n",
              "       [5.77675318e-03],\n",
              "       [3.00445594e-03],\n",
              "       [8.78336430e-01],\n",
              "       [4.13942076e-02],\n",
              "       [7.16425991e-03],\n",
              "       [8.95797014e-01],\n",
              "       [9.96036828e-01],\n",
              "       [9.36725410e-04],\n",
              "       [1.72100772e-04],\n",
              "       [9.36725410e-04],\n",
              "       [9.95220840e-01],\n",
              "       [9.31696117e-01],\n",
              "       [2.13992923e-01],\n",
              "       [1.27389899e-03],\n",
              "       [1.58857065e-03],\n",
              "       [7.03368783e-01],\n",
              "       [9.36725410e-04],\n",
              "       [2.62275726e-01],\n",
              "       [9.97180939e-01],\n",
              "       [4.65833669e-04],\n",
              "       [9.98883307e-01],\n",
              "       [7.55762798e-04],\n",
              "       [3.16439336e-03],\n",
              "       [9.10855234e-01],\n",
              "       [9.01697755e-01],\n",
              "       [9.13595259e-01],\n",
              "       [1.39693916e-01],\n",
              "       [9.84503865e-01],\n",
              "       [2.96385378e-01],\n",
              "       [9.78350043e-01],\n",
              "       [9.61140811e-01],\n",
              "       [6.20136317e-03],\n",
              "       [9.94040430e-01],\n",
              "       [9.98340726e-01],\n",
              "       [2.88771037e-02],\n",
              "       [6.28600072e-04],\n",
              "       [9.98904347e-01],\n",
              "       [3.44180822e-01],\n",
              "       [1.19385161e-01],\n",
              "       [9.87213075e-01],\n",
              "       [9.86704111e-01],\n",
              "       [9.98833358e-01],\n",
              "       [1.51094720e-01],\n",
              "       [1.09231044e-02],\n",
              "       [8.82600397e-02],\n",
              "       [9.57750142e-01],\n",
              "       [9.64441597e-01],\n",
              "       [4.65618353e-03],\n",
              "       [1.58857065e-03],\n",
              "       [2.62801972e-04],\n",
              "       [8.31861794e-01],\n",
              "       [9.22162294e-01],\n",
              "       [9.99200165e-01],\n",
              "       [6.84676230e-01],\n",
              "       [8.02957356e-01],\n",
              "       [3.05785588e-03],\n",
              "       [7.77359545e-01],\n",
              "       [1.92462265e-01],\n",
              "       [6.13900879e-03],\n",
              "       [9.99081135e-01],\n",
              "       [9.98864889e-01],\n",
              "       [3.16439336e-03],\n",
              "       [9.97847795e-01],\n",
              "       [7.55762798e-04],\n",
              "       [1.58857065e-03],\n",
              "       [1.98273450e-01],\n",
              "       [9.60820079e-01],\n",
              "       [3.17821577e-02],\n",
              "       [1.43060405e-02],\n",
              "       [9.57037091e-01],\n",
              "       [1.19074795e-03],\n",
              "       [2.58790678e-03],\n",
              "       [1.35476980e-03],\n",
              "       [9.84147191e-01],\n",
              "       [2.82027689e-03],\n",
              "       [1.27539095e-02],\n",
              "       [9.29723620e-01],\n",
              "       [8.92340031e-04],\n",
              "       [3.08780978e-03],\n",
              "       [5.94968610e-02],\n",
              "       [1.31615275e-03],\n",
              "       [9.81506467e-01],\n",
              "       [9.04787242e-01],\n",
              "       [2.44947579e-02],\n",
              "       [6.77833557e-02],\n",
              "       [8.92364025e-01],\n",
              "       [2.56446213e-01],\n",
              "       [6.28600072e-04],\n",
              "       [9.78463352e-01],\n",
              "       [9.85829771e-01],\n",
              "       [9.99419212e-01],\n",
              "       [9.90743577e-01],\n",
              "       [6.28600072e-04],\n",
              "       [9.76769745e-01],\n",
              "       [1.58857065e-03],\n",
              "       [7.07545057e-02],\n",
              "       [1.22982869e-03],\n",
              "       [1.56341031e-01],\n",
              "       [9.56255078e-01],\n",
              "       [9.99853015e-01],\n",
              "       [7.18790456e-04],\n",
              "       [9.36725410e-04],\n",
              "       [9.99165893e-01],\n",
              "       [5.74862123e-01],\n",
              "       [1.22133235e-04],\n",
              "       [9.21680629e-01],\n",
              "       [7.08791092e-02],\n",
              "       [7.55762798e-04],\n",
              "       [8.64030123e-02],\n",
              "       [9.97154593e-01],\n",
              "       [9.63296473e-01],\n",
              "       [7.68757761e-01],\n",
              "       [9.91886258e-01],\n",
              "       [6.14594086e-04],\n",
              "       [7.55762798e-04],\n",
              "       [2.44284775e-02],\n",
              "       [5.50438799e-02],\n",
              "       [8.76777828e-01],\n",
              "       [5.26100630e-04],\n",
              "       [7.70425081e-01],\n",
              "       [9.98444855e-01],\n",
              "       [2.78934110e-02],\n",
              "       [9.94402349e-01],\n",
              "       [2.69719225e-04],\n",
              "       [9.93845403e-01],\n",
              "       [9.00378823e-01],\n",
              "       [9.86074090e-01],\n",
              "       [1.36393053e-03],\n",
              "       [9.96798992e-01],\n",
              "       [2.18295632e-03],\n",
              "       [9.67512608e-01],\n",
              "       [6.13327371e-03],\n",
              "       [9.99054015e-01],\n",
              "       [9.77561891e-01],\n",
              "       [9.36725410e-04],\n",
              "       [9.99055564e-01],\n",
              "       [2.07527261e-03],\n",
              "       [1.08323328e-01],\n",
              "       [9.19157803e-01],\n",
              "       [7.79538825e-02],\n",
              "       [1.89834125e-02],\n",
              "       [2.98294686e-02],\n",
              "       [9.99408245e-01],\n",
              "       [1.22982869e-03],\n",
              "       [2.26948690e-02],\n",
              "       [1.31817460e-01],\n",
              "       [9.94218707e-01],\n",
              "       [1.31711515e-03],\n",
              "       [1.58857065e-03],\n",
              "       [9.76935804e-01],\n",
              "       [1.00277748e-03],\n",
              "       [6.28600072e-04],\n",
              "       [7.85943866e-03],\n",
              "       [3.16439336e-03],\n",
              "       [1.89875544e-03],\n",
              "       [4.19317670e-02],\n",
              "       [9.73122954e-01],\n",
              "       [6.71086982e-02],\n",
              "       [5.31843722e-01],\n",
              "       [1.32947593e-04],\n",
              "       [6.07879385e-02],\n",
              "       [9.97249186e-01],\n",
              "       [4.84328531e-02],\n",
              "       [9.94717062e-01],\n",
              "       [8.46802432e-04],\n",
              "       [2.06148834e-03],\n",
              "       [9.95711207e-01],\n",
              "       [7.28500963e-05],\n",
              "       [9.97853220e-01],\n",
              "       [1.08024320e-02],\n",
              "       [4.55868314e-04],\n",
              "       [9.99641299e-01],\n",
              "       [1.20445164e-02],\n",
              "       [2.04530120e-01],\n",
              "       [7.55762798e-04],\n",
              "       [3.71349901e-02],\n",
              "       [6.28600072e-04],\n",
              "       [8.33444204e-03],\n",
              "       [9.46579695e-01],\n",
              "       [4.20291796e-02],\n",
              "       [3.37805162e-04],\n",
              "       [8.40911716e-02],\n",
              "       [9.53144968e-01],\n",
              "       [3.18318419e-02],\n",
              "       [9.98322189e-01],\n",
              "       [9.98962879e-01],\n",
              "       [7.55762798e-04],\n",
              "       [1.14377961e-02],\n",
              "       [3.86745785e-03],\n",
              "       [9.36725410e-04],\n",
              "       [7.55762798e-04],\n",
              "       [8.68513763e-01],\n",
              "       [2.00748742e-02],\n",
              "       [9.45741594e-01],\n",
              "       [9.88791585e-01],\n",
              "       [1.47082597e-01],\n",
              "       [2.22985167e-02],\n",
              "       [7.46132899e-03],\n",
              "       [9.92099285e-01],\n",
              "       [9.73716199e-01],\n",
              "       [9.96587515e-01],\n",
              "       [9.86722469e-01],\n",
              "       [7.55762798e-04],\n",
              "       [9.98703718e-01],\n",
              "       [8.90273929e-01],\n",
              "       [9.04669464e-01],\n",
              "       [2.87437946e-01],\n",
              "       [8.82444903e-04],\n",
              "       [9.97309685e-01],\n",
              "       [3.16439336e-03],\n",
              "       [1.07836199e-03],\n",
              "       [3.44805233e-02],\n",
              "       [1.32026995e-04],\n",
              "       [8.02821934e-01],\n",
              "       [2.29547828e-01],\n",
              "       [9.99653697e-01],\n",
              "       [9.88723397e-01],\n",
              "       [3.57316375e-01],\n",
              "       [9.97595727e-01],\n",
              "       [5.07317960e-01],\n",
              "       [4.53246422e-02],\n",
              "       [3.36696906e-03],\n",
              "       [1.76289156e-02],\n",
              "       [9.98540878e-01],\n",
              "       [6.28600072e-04],\n",
              "       [9.36725410e-04],\n",
              "       [3.70803565e-01],\n",
              "       [7.59396143e-03],\n",
              "       [3.16439336e-03],\n",
              "       [9.99366224e-01],\n",
              "       [9.90640938e-01],\n",
              "       [9.99926567e-01],\n",
              "       [9.80725229e-01],\n",
              "       [2.90849674e-02],\n",
              "       [9.88417923e-01],\n",
              "       [2.69792545e-05],\n",
              "       [3.05610453e-03],\n",
              "       [9.87886071e-01],\n",
              "       [4.97291284e-03],\n",
              "       [2.55413651e-02],\n",
              "       [9.89090025e-01],\n",
              "       [9.97209489e-01],\n",
              "       [5.32300293e-01],\n",
              "       [6.46075653e-03],\n",
              "       [9.99732554e-01],\n",
              "       [8.47088452e-03],\n",
              "       [3.25504015e-03],\n",
              "       [1.42248385e-02],\n",
              "       [7.55762798e-04],\n",
              "       [1.27818817e-02],\n",
              "       [7.55762798e-04],\n",
              "       [9.99573290e-01],\n",
              "       [3.91319729e-02],\n",
              "       [1.58857065e-03],\n",
              "       [3.80800851e-02],\n",
              "       [9.99419212e-01],\n",
              "       [7.55768502e-04],\n",
              "       [9.98591244e-01],\n",
              "       [1.58857973e-03],\n",
              "       [9.36720462e-04],\n",
              "       [6.62456334e-01],\n",
              "       [8.56872678e-01],\n",
              "       [9.92914796e-01],\n",
              "       [9.96398687e-01],\n",
              "       [9.93591487e-01],\n",
              "       [3.82716626e-01],\n",
              "       [9.90809560e-01],\n",
              "       [7.36664534e-02],\n",
              "       [9.60451007e-01],\n",
              "       [9.99688029e-01],\n",
              "       [9.82746601e-01],\n",
              "       [9.95454073e-01],\n",
              "       [9.87202585e-01],\n",
              "       [2.31651977e-01],\n",
              "       [9.94828045e-01],\n",
              "       [1.58857065e-03],\n",
              "       [2.58790678e-03],\n",
              "       [1.46775860e-02],\n",
              "       [9.98967767e-01],\n",
              "       [9.98107791e-01],\n",
              "       [9.99095440e-01],\n",
              "       [9.98671889e-01],\n",
              "       [9.53283429e-01],\n",
              "       [1.58857065e-03],\n",
              "       [2.10344996e-02],\n",
              "       [3.47813629e-02],\n",
              "       [9.36725410e-04],\n",
              "       [3.16439336e-03],\n",
              "       [8.68798912e-01],\n",
              "       [3.24455164e-02],\n",
              "       [9.73910332e-01],\n",
              "       [7.55762798e-04],\n",
              "       [9.99692678e-01],\n",
              "       [4.21804674e-02],\n",
              "       [9.93608594e-01],\n",
              "       [1.67235751e-02],\n",
              "       [9.99770343e-01],\n",
              "       [2.79484652e-02],\n",
              "       [9.90110338e-01],\n",
              "       [8.63622308e-01],\n",
              "       [9.53777973e-03],\n",
              "       [2.44575087e-02],\n",
              "       [9.77199614e-01],\n",
              "       [7.88077116e-01],\n",
              "       [9.87586260e-01],\n",
              "       [7.55762798e-04],\n",
              "       [9.34586167e-01],\n",
              "       [3.17090526e-02],\n",
              "       [1.59628878e-04],\n",
              "       [9.95203257e-01],\n",
              "       [9.27830756e-01],\n",
              "       [9.88088429e-01],\n",
              "       [1.03004731e-01],\n",
              "       [9.92263079e-01],\n",
              "       [4.29332703e-02],\n",
              "       [9.99918699e-01],\n",
              "       [2.11709924e-02],\n",
              "       [6.00536704e-01],\n",
              "       [1.72593258e-02],\n",
              "       [1.98993757e-02],\n",
              "       [7.55762798e-04],\n",
              "       [8.47088452e-03],\n",
              "       [9.99333918e-01],\n",
              "       [9.99597132e-01],\n",
              "       [1.58857065e-03],\n",
              "       [9.36725410e-04],\n",
              "       [9.23204005e-01],\n",
              "       [9.59330440e-01],\n",
              "       [5.77783100e-02],\n",
              "       [7.89778352e-01],\n",
              "       [1.58857065e-03],\n",
              "       [1.58857065e-03],\n",
              "       [9.82303977e-01],\n",
              "       [1.58857065e-03],\n",
              "       [9.77158546e-01],\n",
              "       [1.58650707e-02],\n",
              "       [6.98043406e-02],\n",
              "       [3.34915780e-02],\n",
              "       [8.35790634e-01],\n",
              "       [9.87415135e-01],\n",
              "       [7.55762798e-04],\n",
              "       [8.21947992e-01],\n",
              "       [3.94574041e-03],\n",
              "       [9.16617457e-03],\n",
              "       [1.94858983e-02],\n",
              "       [2.68075382e-04],\n",
              "       [6.00692401e-05],\n",
              "       [6.28600072e-04],\n",
              "       [3.00958497e-03],\n",
              "       [8.90333116e-01],\n",
              "       [3.16439336e-03],\n",
              "       [9.94477212e-01],\n",
              "       [1.35382579e-03],\n",
              "       [9.36725410e-04],\n",
              "       [3.03332563e-02],\n",
              "       [2.86678108e-03],\n",
              "       [8.80104899e-01],\n",
              "       [9.18299317e-01],\n",
              "       [9.89504933e-01],\n",
              "       [9.67693865e-01],\n",
              "       [9.87961948e-01],\n",
              "       [9.95606244e-01],\n",
              "       [2.76588947e-02],\n",
              "       [9.45331693e-01],\n",
              "       [9.81902242e-01],\n",
              "       [4.40236926e-03],\n",
              "       [7.62719940e-03],\n",
              "       [4.75632085e-04],\n",
              "       [9.96336102e-01],\n",
              "       [5.62546961e-03],\n",
              "       [5.51937046e-05],\n",
              "       [9.94127750e-01],\n",
              "       [7.55762798e-04],\n",
              "       [8.93850684e-01],\n",
              "       [1.84115022e-01],\n",
              "       [9.99180019e-01],\n",
              "       [9.93574679e-01],\n",
              "       [1.58857065e-03],\n",
              "       [7.55762798e-04],\n",
              "       [1.14902668e-01],\n",
              "       [3.48558687e-02],\n",
              "       [5.43302149e-02],\n",
              "       [7.45154977e-01],\n",
              "       [2.32416898e-01],\n",
              "       [5.74929714e-02],\n",
              "       [9.94059801e-01],\n",
              "       [1.01502221e-02],\n",
              "       [9.99406338e-01],\n",
              "       [9.99327898e-01],\n",
              "       [9.99333918e-01],\n",
              "       [9.66735661e-01],\n",
              "       [9.97209489e-01],\n",
              "       [2.47462792e-03],\n",
              "       [9.90317464e-01],\n",
              "       [9.36725410e-04],\n",
              "       [9.87213075e-01],\n",
              "       [9.89662826e-01],\n",
              "       [6.97192550e-03],\n",
              "       [9.76191521e-01],\n",
              "       [6.28600072e-04],\n",
              "       [9.61517990e-01],\n",
              "       [1.58857065e-03],\n",
              "       [9.74894226e-01],\n",
              "       [9.89091873e-01],\n",
              "       [8.39804828e-01],\n",
              "       [9.97910559e-01],\n",
              "       [9.99241829e-01],\n",
              "       [9.76191521e-01],\n",
              "       [7.55762798e-04],\n",
              "       [8.05266976e-01],\n",
              "       [9.99333918e-01],\n",
              "       [9.99351799e-01],\n",
              "       [3.73956020e-04],\n",
              "       [3.16439336e-03],\n",
              "       [8.22988212e-01],\n",
              "       [6.41078651e-01],\n",
              "       [8.90822947e-01],\n",
              "       [4.27933857e-02],\n",
              "       [9.90662649e-02],\n",
              "       [9.23106551e-01],\n",
              "       [6.64907799e-04],\n",
              "       [9.99883175e-01],\n",
              "       [9.99563634e-01],\n",
              "       [9.76390958e-01],\n",
              "       [9.80428815e-01],\n",
              "       [2.78934110e-02],\n",
              "       [5.29619399e-03],\n",
              "       [1.58857065e-03],\n",
              "       [9.98535991e-01],\n",
              "       [9.99949217e-01],\n",
              "       [9.98100102e-01],\n",
              "       [7.55762798e-04],\n",
              "       [3.16439336e-03],\n",
              "       [6.95403337e-01],\n",
              "       [9.99979377e-01],\n",
              "       [9.94437695e-01],\n",
              "       [9.85800754e-03],\n",
              "       [9.98400271e-01],\n",
              "       [3.53846140e-02],\n",
              "       [9.98683751e-01],\n",
              "       [9.99437511e-01],\n",
              "       [2.55010039e-01],\n",
              "       [6.62055286e-03],\n",
              "       [9.76800203e-01],\n",
              "       [8.63082051e-01],\n",
              "       [4.10083681e-03],\n",
              "       [9.98492479e-01],\n",
              "       [1.58857065e-03],\n",
              "       [7.55762798e-04],\n",
              "       [1.58857065e-03],\n",
              "       [7.55762798e-04],\n",
              "       [3.47813629e-02],\n",
              "       [3.16439336e-03],\n",
              "       [9.88116980e-01],\n",
              "       [4.88358596e-03],\n",
              "       [9.98137355e-01],\n",
              "       [1.15098581e-02]], dtype=float32)"
            ]
          },
          "metadata": {},
          "execution_count": 110
        }
      ]
    },
    {
      "cell_type": "code",
      "execution_count": null,
      "metadata": {
        "id": "wqSl3OJm-A3p"
      },
      "outputs": [],
      "source": [
        "y1 = yp.reshape(-1,) # np.zeros((y_test.shape[0],))\n",
        "y2 = yt.reshape(-1,)\n",
        "ff = pd.DataFrame(columns=['real','predicted'],)\n",
        "ff['real'] = y2\n",
        "ff['predicted'] = y1\n",
        "pa = 'Albert2'\n",
        "\n",
        "ff.to_csv(f'{path0}{pa}3.csv',index=False)"
      ]
    },
    {
      "cell_type": "code",
      "execution_count": null,
      "metadata": {
        "id": "7PfJ0pB09hce"
      },
      "outputs": [],
      "source": [
        "from sklearn.metrics import classification_report\n",
        "\n",
        "def savemod(model,pa,y_test,X_test,path=path):\n",
        "    y2 = model.predict(X_test)\n",
        "    y2_ = np.array(y2)\n",
        "    y2_[y2_ < 0.5] = 0\n",
        "    y2_[y2_ > 0.5] = 1\n",
        "    y1 = y_test\n",
        "    print(classification_report(y1,y2_,target_names=target_names))\n",
        "    y1 = y1.reshape(-1,) # np.zeros((y_test.shape[0],))\n",
        "    y2 = y2.reshape(-1,)\n",
        "    # y2 = y_   # np.zeros((y_test.shape[0],))\n",
        "    # y2[y2 < 0.5] = 0\n",
        "    # y2[y2 > 0.5] = 1\n",
        "\n",
        "    # for i in range(len(y_test)):\n",
        "        # y1[i] = 1 if y1> 0.5 else 0\n",
        "        # y2[i] = y_test[i].argmax()\n",
        "    ff = pd.DataFrame(columns=['real','predicted'],)\n",
        "    ff['real'] = y2\n",
        "    ff['predicted'] = y1\n",
        "\n",
        "\n",
        "    ff.to_csv(f'{path}{pa}.csv',index=False)"
      ]
    },
    {
      "cell_type": "code",
      "execution_count": null,
      "metadata": {
        "id": "BkdS2FiyDjS0"
      },
      "outputs": [],
      "source": [
        "# model.compile(optimizer=Adamax(lr=0.0001), loss='categorical_crossentropy', metrics=['accuracy',tf.keras.metrics.Precision(),tf.keras.metrics.Recall(),tf.keras.metrics.AUC(num_thresholds=3)])\n",
        "model.compile(optimizer=Adam(learning_rate=1e-6), loss='binary_crossentropy', metrics=['accuracy','AUC'])\n",
        "\n",
        "# tf.keras.utils.plot_model(ann_model, to_file='ann_model.png', show_shapes=True, show_layer_names=True)"
      ]
    },
    {
      "cell_type": "code",
      "execution_count": null,
      "metadata": {
        "id": "g8MeZbg8DhV8"
      },
      "outputs": [],
      "source": [
        "num_epochs = 50\n",
        "# early_stop = EarlyStopping(monitor='val_accuracy', patience=6,restore_best_weights=True)\n",
        "history = model.fit(train,\n",
        "                    # batch_size=32,\n",
        "                    epochs=num_epochs,\n",
        "                    # validati0on_split=0.2,\n",
        "                    validation_data=[val],\n",
        "                    callbacks =[\n",
        "                        learning_rate_reduction,\n",
        "                                es\n",
        "                                ],\n",
        "                    # verbose=0\n",
        "                    )"
      ]
    },
    {
      "cell_type": "code",
      "execution_count": null,
      "metadata": {
        "id": "c2uvYpbtIkC5"
      },
      "outputs": [],
      "source": []
    },
    {
      "cell_type": "code",
      "execution_count": null,
      "metadata": {
        "id": "kQ1OLR_NIj_g"
      },
      "outputs": [],
      "source": []
    },
    {
      "cell_type": "markdown",
      "metadata": {
        "id": "aRif-AtcJER-"
      },
      "source": [
        "# simple models"
      ]
    },
    {
      "cell_type": "code",
      "execution_count": null,
      "metadata": {
        "id": "29RJjaoNJT7x"
      },
      "outputs": [],
      "source": [
        "data = df"
      ]
    },
    {
      "cell_type": "code",
      "execution_count": 73,
      "metadata": {
        "id": "spdvhKMAAfmR"
      },
      "outputs": [],
      "source": [
        "import tensorflow as tf\n",
        "import pandas as pd\n",
        "from keras import layers\n",
        "from keras.layers import Dense, Activation, Flatten, Convolution1D, Dropout,MaxPooling1D\n",
        "from keras.layers import Input, Dense, Dropout, Activation, ZeroPadding2D, BatchNormalization, Flatten, Conv2D, Embedding, Add\n",
        "from keras.layers import Conv1D, GlobalAveragePooling1D, AveragePooling2D, MaxPooling2D, MaxPool1D, ZeroPadding1D, GlobalMaxPooling2D, GlobalAveragePooling2D, LSTM, SpatialDropout1D\n",
        "from keras.models import Sequential, Model\n",
        "from keras.preprocessing import image\n",
        "from keras.utils import plot_model\n",
        "from keras.applications.inception_v3 import InceptionV3\n",
        "from sklearn.model_selection import train_test_split\n",
        "import matplotlib.pyplot as plt\n",
        "from sklearn.metrics import confusion_matrix\n",
        "import seaborn as sns\n",
        "from keras.callbacks import ReduceLROnPlateau , EarlyStopping\n",
        "from keras.utils import to_categorical\n",
        "from tensorflow.keras.optimizers import Adam, Adamax\n",
        "import tensorflow as tf\n",
        "from tensorflow.keras.optimizers import Adam, Adamax,RMSprop\n",
        "learning_rate_reduction = ReduceLROnPlateau(monitor='val_accuracy',\n",
        "                                            patience=5,\n",
        "                                            verbose=1,\n",
        "                                            factor=0.7,\n",
        "                                            min_lr=0.000001)"
      ]
    },
    {
      "cell_type": "code",
      "execution_count": null,
      "metadata": {
        "id": "lgolYNWY1poD"
      },
      "outputs": [],
      "source": [
        "from keras.preprocessing.text import Tokenizer\n",
        "from tensorflow.keras.preprocessing.sequence import pad_sequences\n",
        "import numpy as np\n",
        "maxlen = 30\n",
        "max_words = 2000\n",
        "tokenizer = Tokenizer(num_words=max_words)\n",
        "tokenizer.fit_on_texts(data['text'])\n",
        "Xsequences = tokenizer.texts_to_sequences(data['text'])"
      ]
    },
    {
      "cell_type": "code",
      "execution_count": null,
      "metadata": {
        "id": "YMvt-p28fh8y"
      },
      "outputs": [],
      "source": [
        "Xsequences = tf.keras.preprocessing.sequence.pad_sequences(Xsequences, maxlen=maxlen)"
      ]
    },
    {
      "cell_type": "code",
      "execution_count": null,
      "metadata": {
        "id": "8QJvL7-BJgzY"
      },
      "outputs": [],
      "source": [
        "labels = data['target']"
      ]
    },
    {
      "cell_type": "code",
      "execution_count": null,
      "metadata": {
        "id": "tssENIl6JgzY"
      },
      "outputs": [],
      "source": [
        "dataset = tf.data.Dataset.from_tensor_slices((Xsequences, labels))"
      ]
    },
    {
      "cell_type": "code",
      "execution_count": null,
      "metadata": {
        "id": "PiwoVwpaJgzZ"
      },
      "outputs": [],
      "source": [
        "dataset = dataset.shuffle(1000000).batch(32)"
      ]
    },
    {
      "cell_type": "code",
      "execution_count": null,
      "metadata": {
        "id": "ezB4xm9BJgzZ"
      },
      "outputs": [],
      "source": [
        "DS_LEN = len(list(dataset))"
      ]
    },
    {
      "cell_type": "code",
      "execution_count": null,
      "metadata": {
        "colab": {
          "base_uri": "https://localhost:8080/"
        },
        "id": "GDMeDQ9mJgzZ",
        "outputId": "a864e949-6be6-4161-9017-be77ecd62382"
      },
      "outputs": [
        {
          "data": {
            "text/plain": [
              "238"
            ]
          },
          "execution_count": 45,
          "metadata": {},
          "output_type": "execute_result"
        }
      ],
      "source": [
        "DS_LEN"
      ]
    },
    {
      "cell_type": "code",
      "execution_count": null,
      "metadata": {
        "id": "lo8cDBX2JgzZ"
      },
      "outputs": [],
      "source": [
        "DATASET_SIZE = len(dataset)"
      ]
    },
    {
      "cell_type": "code",
      "execution_count": null,
      "metadata": {
        "id": "dQ1U92WrJgzZ"
      },
      "outputs": [],
      "source": [
        "train_size = int(0.60 * DATASET_SIZE)\n",
        "val_size = int(0.15 * DATASET_SIZE)\n",
        "test_size = int(0.25 * DATASET_SIZE)\n",
        "\n",
        "full_dataset = dataset\n",
        "full_dataset = full_dataset.shuffle(123424242)\n",
        "train_dataset = full_dataset.take(train_size)\n",
        "test_dataset = full_dataset.skip(train_size)\n",
        "val_dataset = test_dataset.skip(test_size)\n",
        "test_dataset = test_dataset.take(test_size)"
      ]
    },
    {
      "cell_type": "code",
      "execution_count": null,
      "metadata": {
        "id": "vrRBE7G4JgzZ"
      },
      "outputs": [],
      "source": [
        "train = train_dataset\n",
        "test = test_dataset\n",
        "val = val_dataset"
      ]
    },
    {
      "cell_type": "code",
      "execution_count": 116,
      "metadata": {
        "id": "QUfErZzXAt-7"
      },
      "outputs": [],
      "source": [
        "embedding_dim = 10"
      ]
    },
    {
      "cell_type": "code",
      "execution_count": 117,
      "metadata": {
        "id": "CQC-0rqeLRzw"
      },
      "outputs": [],
      "source": [
        "pa = '3D-CNN'"
      ]
    },
    {
      "cell_type": "code",
      "source": [
        "max_words = tokenizer.vocab_size\n",
        "maxlen = SEQ_LEN"
      ],
      "metadata": {
        "id": "EH5CkDSugnv8"
      },
      "execution_count": 118,
      "outputs": []
    },
    {
      "cell_type": "code",
      "execution_count": 119,
      "metadata": {
        "colab": {
          "base_uri": "https://localhost:8080/"
        },
        "id": "uWML9QD4hjqU",
        "outputId": "53ddaebb-6feb-4162-f563-43cea891f759"
      },
      "outputs": [
        {
          "output_type": "stream",
          "name": "stdout",
          "text": [
            "Model: \"sequential_4\"\n",
            "_________________________________________________________________\n",
            " Layer (type)                Output Shape              Param #   \n",
            "=================================================================\n",
            " embedding_4 (Embedding)     (None, 100, 10)           300000    \n",
            "                                                                 \n",
            " conv1d_6 (Conv1D)           (None, 99, 32)            672       \n",
            "                                                                 \n",
            " conv1d_7 (Conv1D)           (None, 98, 64)            4160      \n",
            "                                                                 \n",
            " conv1d_8 (Conv1D)           (None, 97, 128)           16512     \n",
            "                                                                 \n",
            " global_average_pooling1d_2   (None, 128)              0         \n",
            " (GlobalAveragePooling1D)                                        \n",
            "                                                                 \n",
            " dense_8 (Dense)             (None, 64)                8256      \n",
            "                                                                 \n",
            " dropout_4 (Dropout)         (None, 64)                0         \n",
            "                                                                 \n",
            " dense_9 (Dense)             (None, 1)                 65        \n",
            "                                                                 \n",
            "=================================================================\n",
            "Total params: 329,665\n",
            "Trainable params: 329,665\n",
            "Non-trainable params: 0\n",
            "_________________________________________________________________\n"
          ]
        }
      ],
      "source": [
        "# Define model architecture\n",
        "model = tf.keras.Sequential([\n",
        "    tf.keras.layers.Embedding(input_dim=max_words,\n",
        "                              output_dim=embedding_dim,input_length=maxlen,\n",
        "                              # weights=[embedding_matrix],\n",
        "                              # trainable=True\n",
        "                              ),\n",
        "    tf.keras.layers.Conv1D(32, 2, activation='relu',),\n",
        "    tf.keras.layers.Conv1D(64, 2, activation='relu'),\n",
        "    tf.keras.layers.Conv1D(128, 2, activation='relu'),\n",
        "    # tf.keras.layers.Bidirectional(tf.keras.layers.LSTM(32,return_sequences=True)),\n",
        "\n",
        "    # tf.keras.layers.Bidirectional(tf.keras.layers.LSTM(32,return_sequences=True)),\n",
        "    # tf.keras.layers.Bidirectional(tf.keras.layers.LSTM(32,return_sequences=True)),\n",
        "    # tf.keras.layers.Bidirectional(tf.keras.layers.LSTM(32)),\n",
        "    tf.keras.layers.GlobalAveragePooling1D(),\n",
        "    tf.keras.layers.Dense(64, activation='relu'),\n",
        "    tf.keras.layers.Dropout(0.2),\n",
        "    tf.keras.layers.Dense(1, activation='sigmoid')\n",
        "])\n",
        "\n",
        "# Compile model\n",
        "model.compile(loss='binary_crossentropy',\n",
        "              optimizer='adam',\n",
        "              metrics=['accuracy'])\n",
        "\n",
        "\n",
        "model.summary()"
      ]
    },
    {
      "cell_type": "code",
      "execution_count": 120,
      "metadata": {
        "id": "UQ0CFgG6LJjV"
      },
      "outputs": [],
      "source": [
        "es = EarlyStopping(monitor=\"val_loss\", mode=\"min\", verbose=1, patience=7)"
      ]
    },
    {
      "cell_type": "code",
      "execution_count": 122,
      "metadata": {
        "colab": {
          "base_uri": "https://localhost:8080/"
        },
        "id": "-ZHAQEvIhzPT",
        "outputId": "07820dbf-7a14-4b12-9512-4489b39bf6db"
      },
      "outputs": [
        {
          "output_type": "stream",
          "name": "stdout",
          "text": [
            "75/75 [==============================] - 8s 101ms/step - loss: 0.2583 - accuracy: 0.9259 - val_loss: 0.1384 - val_accuracy: 0.9490 - lr: 0.0010\n"
          ]
        }
      ],
      "source": [
        "# Train model\n",
        "num_epochs = 1\n",
        "history = model.fit(train,\n",
        "                    # batch_size=32,\n",
        "                    epochs=num_epochs,\n",
        "                    # validati0on_split=0.2,\n",
        "                    validation_data=[val],\n",
        "                    callbacks =[\n",
        "                        learning_rate_reduction,\n",
        "                                es\n",
        "                                ],\n",
        "                    )"
      ]
    },
    {
      "cell_type": "code",
      "execution_count": 123,
      "metadata": {
        "id": "SgdI3HqEKRmG"
      },
      "outputs": [],
      "source": [
        "tr = []\n",
        "pr = []\n",
        "l = 0\n",
        "for i,j in test.take(-1):\n",
        "  s = model.predict(i,verbose=0)\n",
        "  tr.append(np.array(j))\n",
        "  pr.append(np.array(s))"
      ]
    },
    {
      "cell_type": "code",
      "execution_count": 124,
      "metadata": {
        "id": "F97euvG_KRmG"
      },
      "outputs": [],
      "source": [
        "yp = np.concatenate([y for y in pr], axis=0)\n",
        "yt = np.concatenate([y for y in tr], axis=0)\n"
      ]
    },
    {
      "cell_type": "code",
      "execution_count": 125,
      "metadata": {
        "id": "Rt_HZw6lKRmH"
      },
      "outputs": [],
      "source": [
        "from sklearn.metrics import classification_report\n"
      ]
    },
    {
      "cell_type": "code",
      "execution_count": 126,
      "metadata": {
        "colab": {
          "base_uri": "https://localhost:8080/"
        },
        "id": "JV8k7u_lKRmH",
        "outputId": "a21ccec3-c6ae-4f01-e450-b6f0dbb921e6"
      },
      "outputs": [
        {
          "output_type": "stream",
          "name": "stdout",
          "text": [
            "              precision    recall  f1-score   support\n",
            "\n",
            "           0       1.00      0.92      0.95       534\n",
            "           1       0.91      1.00      0.95       458\n",
            "\n",
            "    accuracy                           0.95       992\n",
            "   macro avg       0.95      0.96      0.95       992\n",
            "weighted avg       0.96      0.95      0.95       992\n",
            "\n"
          ]
        }
      ],
      "source": [
        "yp[yp < 0.5] = 0\n",
        "yp[yp > 0.5] = 1\n",
        "# y1 = y_test\n",
        "print(classification_report(yt,yp,zero_division=True))"
      ]
    },
    {
      "cell_type": "code",
      "execution_count": 127,
      "metadata": {
        "id": "3pQk8wjkKRmH"
      },
      "outputs": [],
      "source": [
        "yp = np.concatenate([y for y in pr], axis=0)\n",
        "yt = np.concatenate([y for y in tr], axis=0)\n"
      ]
    },
    {
      "cell_type": "code",
      "execution_count": 128,
      "metadata": {
        "id": "5GIK8ZR1KRmH"
      },
      "outputs": [],
      "source": [
        "y1 = yp.reshape(-1,) # np.zeros((y_test.shape[0],))\n",
        "y2 = yt.reshape(-1,)\n",
        "ff = pd.DataFrame(columns=['real','predicted'],)\n",
        "ff['real'] = y2\n",
        "ff['predicted'] = y1\n",
        "# pa = 'Albert'\n",
        "\n",
        "ff.to_csv(f'{path}{pa}.csv',index=False)"
      ]
    },
    {
      "cell_type": "markdown",
      "metadata": {
        "id": "7rpymqgBVup6"
      },
      "source": [
        "# visualization"
      ]
    },
    {
      "cell_type": "code",
      "execution_count": 134,
      "metadata": {
        "id": "lOS3dQkwWCxm"
      },
      "outputs": [],
      "source": [
        "import pandas as pd\n",
        "import numpy as np\n",
        "import seaborn as sns\n",
        "import matplotlib.pyplot as plt\n",
        "from sklearn.metrics import accuracy_score,recall_score\n",
        "from sklearn.metrics import precision_score\n",
        "from sklearn.metrics import roc_auc_score\n",
        "from sklearn.metrics import precision_recall_curve\n",
        "from sklearn.metrics import f1_score\n",
        "from sklearn.metrics import confusion_matrix\n",
        "\n"
      ]
    },
    {
      "cell_type": "code",
      "execution_count": null,
      "metadata": {
        "id": "DfACF0D_WZRx"
      },
      "outputs": [],
      "source": [
        "# path = '/content/drive/MyDrive/work 40/results/'"
      ]
    },
    {
      "cell_type": "code",
      "source": [
        "path"
      ],
      "metadata": {
        "colab": {
          "base_uri": "https://localhost:8080/",
          "height": 34
        },
        "id": "zRcY6-FnjIy-",
        "outputId": "6f21ac03-523a-4f9d-bb7e-ba4646d7c908"
      },
      "execution_count": 135,
      "outputs": [
        {
          "output_type": "execute_result",
          "data": {
            "text/plain": [
              "'/content/drive/MyDrive/work 43/results/'"
            ],
            "application/vnd.google.colaboratory.intrinsic+json": {
              "type": "string"
            }
          },
          "metadata": {},
          "execution_count": 135
        }
      ]
    },
    {
      "cell_type": "code",
      "execution_count": 209,
      "metadata": {
        "colab": {
          "base_uri": "https://localhost:8080/"
        },
        "id": "IDO0SuIYWP86",
        "outputId": "80c5a6af-d4fa-46b5-aa59-d05007314a80"
      },
      "outputs": [
        {
          "output_type": "execute_result",
          "data": {
            "text/plain": [
              "(array([1.82977380e-01, 7.52466540e-02, 3.46647300e-04, 2.46248350e-04,\n",
              "        9.71319000e-01, 4.49740850e-02, 8.06010960e-02, 2.71620600e-04,\n",
              "        9.94493840e-01, 1.23371940e-01, 1.14458390e-02, 1.78720040e-01,\n",
              "        9.99230300e-01, 9.90992250e-01, 3.33630470e-01, 8.89612300e-01,\n",
              "        2.66512600e-02, 2.63186950e-02, 4.49740850e-02, 9.95458000e-01,\n",
              "        9.44974840e-01, 9.93161000e-01, 9.98663540e-01, 9.94364000e-01,\n",
              "        1.23371940e-01, 5.73009700e-01, 1.00653920e-01, 5.50257970e-03,\n",
              "        7.90471400e-02, 6.58502860e-04, 4.02412040e-02, 1.15742200e-02,\n",
              "        9.95046900e-01, 9.87800200e-01, 4.48114220e-01, 9.97403400e-01,\n",
              "        1.14458390e-02, 9.95819100e-01, 9.95225400e-01, 9.98986070e-01,\n",
              "        9.98804870e-01, 9.99069200e-01, 3.52092300e-01, 9.97534630e-01,\n",
              "        1.14458390e-02, 5.15747400e-04, 4.49740850e-02, 3.38943720e-03,\n",
              "        3.97800370e-03, 9.97706300e-01, 9.99052460e-01, 9.95745960e-01,\n",
              "        1.08188170e-02, 1.47833180e-02, 7.94648660e-04, 3.97800370e-03,\n",
              "        9.96849100e-01, 9.98652200e-01, 8.06010960e-02, 4.49740850e-02,\n",
              "        5.55730200e-04, 1.66502960e-03, 9.73630200e-01, 1.14458390e-02,\n",
              "        9.90621450e-01, 1.23371940e-01, 9.99340650e-01, 1.47734870e-02,\n",
              "        9.97752960e-01, 8.06010960e-02, 1.78475060e-04, 9.82141140e-01,\n",
              "        6.83631400e-03, 9.94192240e-01, 1.55634690e-02, 7.97992000e-03,\n",
              "        8.92570600e-02, 1.23371940e-01, 8.06010960e-02, 9.90340300e-01,\n",
              "        8.08126400e-03, 9.97198200e-01, 4.90333900e-01, 1.86505470e-02,\n",
              "        1.04711270e-03, 9.96889770e-01, 4.17193440e-03, 8.06010960e-02,\n",
              "        9.95851760e-01, 9.97196440e-01, 9.88100400e-01, 1.14458390e-02,\n",
              "        2.98296800e-01, 8.06010960e-02, 4.22378300e-02, 1.23371970e-01,\n",
              "        2.91915980e-01, 9.99652300e-01, 1.58191670e-01, 6.16059060e-04,\n",
              "        9.77431300e-01, 2.37097900e-02, 8.74580440e-01, 9.96952060e-01,\n",
              "        9.48646700e-03, 1.23371940e-01, 9.98226460e-01, 9.99809400e-01,\n",
              "        9.99276500e-01, 8.06010960e-02, 3.82005160e-02, 9.99359300e-01,\n",
              "        5.97119900e-01, 9.73837440e-01, 1.46645930e-02, 4.13434400e-05,\n",
              "        9.54228160e-01, 1.01485044e-01, 1.99831900e-03, 1.35006600e-01,\n",
              "        9.97590540e-01, 9.64533200e-01, 1.70163290e-01, 9.97061900e-01,\n",
              "        9.96014200e-01, 9.96864560e-01, 2.88434620e-01, 9.73630200e-01,\n",
              "        2.23230840e-01, 3.21764340e-03, 6.95219700e-02, 2.97469070e-02,\n",
              "        9.98374040e-01, 9.98823100e-01, 1.44546710e-02, 4.49740850e-02,\n",
              "        2.84591140e-01, 7.05912100e-01, 1.14458390e-02, 7.17118500e-01,\n",
              "        1.23371940e-01, 9.97270200e-01, 1.23371940e-01, 9.97888800e-01,\n",
              "        4.47714750e-01, 9.94669440e-01, 4.53571640e-04, 1.23371940e-01,\n",
              "        3.97800370e-03, 4.18724530e-02, 8.06010960e-02, 8.06010960e-02,\n",
              "        2.37548920e-01, 1.97728020e-04, 8.06010960e-02, 9.98998760e-01,\n",
              "        9.98267530e-01, 6.16059060e-04, 4.37701630e-03, 1.31772680e-01,\n",
              "        9.98151400e-01, 9.51198600e-01, 1.41242260e-02, 9.97090940e-01,\n",
              "        9.97028770e-01, 9.95884900e-01, 9.87812300e-01, 8.38576800e-01,\n",
              "        3.74668400e-03, 2.84591140e-01, 4.12633120e-02, 9.93051050e-01,\n",
              "        9.99010150e-01, 5.05797470e-03, 8.58693640e-02, 8.06010960e-02,\n",
              "        1.19944860e-01, 9.98492000e-01, 9.90207200e-01, 2.79900040e-02,\n",
              "        9.99061500e-01, 9.93483800e-01, 9.93957700e-01, 2.20815060e-02,\n",
              "        8.24392260e-01, 2.20172760e-02, 9.99209900e-01, 9.86704000e-01,\n",
              "        9.83420130e-01, 5.21875440e-01, 9.94419040e-01, 9.73630200e-01,\n",
              "        9.97305450e-01, 7.83484500e-03, 4.29773670e-02, 9.94796450e-01,\n",
              "        9.82793030e-01, 9.99444100e-01, 1.59749700e-01, 3.97800370e-03,\n",
              "        9.98308500e-01, 9.92604140e-01, 9.97605100e-01, 9.90418730e-01,\n",
              "        1.34654510e-02, 9.94061350e-01, 9.89898500e-01, 1.14458390e-02,\n",
              "        8.81598950e-01, 9.98378700e-01, 3.97800370e-03, 2.94969180e-03,\n",
              "        5.50257970e-03, 1.37637850e-01, 3.55056700e-01, 8.06010960e-02,\n",
              "        2.84591140e-01, 9.86448470e-01, 9.96430800e-01, 9.93944500e-01,\n",
              "        9.93211600e-01, 9.89268900e-01, 1.14458390e-02, 9.36398740e-01,\n",
              "        9.96042550e-01, 9.97334700e-01, 9.44611300e-02, 9.32570760e-01,\n",
              "        9.92463650e-01, 4.11194600e-03, 7.87243900e-04, 9.92266700e-01,\n",
              "        2.47548030e-01, 9.93625000e-01, 8.80257400e-05, 9.72402160e-01,\n",
              "        1.14458390e-02, 1.84872880e-02, 1.14458390e-02, 5.76967630e-02,\n",
              "        9.97431930e-01, 9.73630200e-01, 9.70738230e-01, 7.82586900e-01,\n",
              "        9.92484330e-01, 1.98425300e-01, 1.19887440e-03, 9.94347630e-01,\n",
              "        9.76880600e-01, 1.99831900e-03, 9.71055750e-01, 7.98637200e-02,\n",
              "        1.42280370e-02, 9.95542800e-01, 5.00193830e-01, 8.06010960e-02,\n",
              "        7.32926700e-03, 6.33602450e-03, 2.54127340e-04, 9.91927860e-01,\n",
              "        9.91147640e-01, 1.23371940e-01, 5.81469500e-02, 2.65337170e-01,\n",
              "        3.97800370e-03, 3.83002160e-04, 9.97698550e-01, 9.98084700e-01,\n",
              "        5.76235100e-01, 9.98422300e-01, 2.80294030e-03, 2.02143620e-02,\n",
              "        9.17241000e-02, 4.91285100e-03, 1.23371940e-01, 7.31542400e-01,\n",
              "        4.48057000e-02, 9.71453250e-01, 3.97800370e-03, 9.89005150e-01,\n",
              "        9.90867000e-01, 1.14458390e-02, 3.75176520e-04, 2.00126000e-03,\n",
              "        1.50597880e-03, 2.48428940e-01, 9.93684650e-01, 4.49740740e-02,\n",
              "        8.50532800e-01, 1.53348320e-04, 1.81917620e-02, 9.79552270e-01,\n",
              "        9.98945900e-01, 1.14458390e-02, 9.72414260e-01, 9.98351500e-01,\n",
              "        6.63768800e-03, 3.97800370e-03, 9.98378700e-01, 9.99311570e-01,\n",
              "        9.95314360e-01, 8.30290900e-01, 4.14238050e-02, 9.99056640e-01,\n",
              "        1.25553800e-02, 9.69120900e-03, 9.92300600e-01, 8.06010960e-02,\n",
              "        9.97720840e-01, 2.84591140e-01, 1.01409900e-02, 9.91263700e-01,\n",
              "        9.77391240e-01, 9.98750300e-01, 9.98057000e-01, 9.98277370e-01,\n",
              "        9.98917700e-01, 1.32338210e-02, 5.72491300e-03, 9.98429060e-01,\n",
              "        9.98164600e-01, 9.97451700e-01, 3.97800370e-03, 1.06767310e-02,\n",
              "        9.93219700e-01, 8.06010960e-02, 9.97162400e-01, 9.99743760e-01,\n",
              "        1.14458390e-02, 1.14458390e-02, 5.78615500e-03, 5.14356000e-03,\n",
              "        9.51081750e-01, 9.98676100e-01, 9.89190600e-01, 9.92973570e-01,\n",
              "        1.87346970e-02, 2.61361380e-02, 9.77158100e-01, 1.63641760e-03,\n",
              "        9.98757540e-01, 9.90178600e-01, 9.96786900e-01, 9.92388960e-01,\n",
              "        9.95649640e-01, 1.18053440e-03, 3.97800370e-03, 9.97932000e-01,\n",
              "        1.14458390e-02, 1.96947860e-03, 1.14458390e-02, 3.60104420e-03,\n",
              "        9.97851400e-01, 9.99547660e-01, 8.93102100e-01, 9.95315730e-01,\n",
              "        4.49740850e-02, 9.98205660e-01, 1.97140490e-04, 1.59274100e-03,\n",
              "        9.93896900e-01, 9.85108140e-01, 9.93155960e-01, 9.98351500e-01,\n",
              "        7.29854600e-01, 4.55792400e-03, 2.53277830e-03, 3.97800370e-03,\n",
              "        9.23750300e-03, 1.14458390e-02, 2.33891370e-03, 3.16849130e-02,\n",
              "        8.52104960e-01, 1.14458390e-02, 9.89171860e-01, 1.23371940e-01,\n",
              "        3.26396340e-03, 4.63505650e-03, 9.93045570e-01, 9.98042350e-01,\n",
              "        9.94968000e-01, 1.45412090e-02, 9.99547660e-01, 9.98804870e-01,\n",
              "        9.96273930e-01, 9.92199800e-01, 7.49184600e-02, 9.99167600e-01,\n",
              "        2.30573280e-03, 9.99215300e-01, 9.96148400e-01, 6.28954470e-01,\n",
              "        1.29442240e-02, 9.97669200e-01, 1.46293460e-01, 9.84296440e-01,\n",
              "        1.69486790e-01, 9.97341330e-01, 9.91635100e-01, 9.41016200e-01,\n",
              "        1.45094840e-02, 4.49740850e-02, 8.03253050e-01, 3.97800370e-03,\n",
              "        2.07439900e-03, 7.84121040e-01, 1.19152800e-02, 6.57569700e-02,\n",
              "        9.95236600e-01, 9.97181650e-01, 4.06244070e-03, 9.95816950e-01,\n",
              "        9.96914300e-01, 4.49740850e-02, 9.88742600e-01, 9.92868360e-01,\n",
              "        1.20551430e-02, 9.98770100e-01, 9.98264430e-01, 1.14458390e-02,\n",
              "        1.63641760e-03, 8.91541800e-01, 8.06010960e-02, 9.98414640e-01,\n",
              "        1.78720040e-01, 7.40958150e-01, 1.65779680e-03, 9.96175470e-01,\n",
              "        4.49472760e-03, 9.99586340e-01, 8.06010960e-02, 9.75258500e-01,\n",
              "        8.25538100e-03, 3.03894400e-02, 9.84022900e-01, 9.99016900e-01,\n",
              "        4.29968020e-03, 9.96701300e-01, 9.83337640e-01, 1.13361560e-02,\n",
              "        9.97701050e-01, 1.23371940e-01, 8.28988850e-01, 1.72881340e-02,\n",
              "        9.88950430e-01, 9.96982000e-01, 1.01312120e-03, 2.49467640e-04,\n",
              "        9.95778140e-01, 5.64103400e-04, 8.06010960e-02, 9.97224300e-01,\n",
              "        1.41151390e-02, 8.87470300e-02, 9.99264900e-01, 9.94335000e-01,\n",
              "        9.90844200e-01, 8.06010960e-02, 9.92314160e-01, 3.09467800e-03,\n",
              "        9.95213300e-01, 9.99547200e-01, 9.97898160e-01, 7.09376800e-01,\n",
              "        9.89765050e-01, 1.04613950e-03, 6.39591040e-03, 9.92798300e-01,\n",
              "        8.95038550e-01, 9.96982000e-01, 2.36588270e-02, 9.99189440e-01,\n",
              "        8.06010960e-02, 4.49740850e-02, 3.97800370e-03, 4.49740850e-02,\n",
              "        9.94833900e-01, 9.97383900e-01, 9.69120400e-03, 3.70238700e-02,\n",
              "        9.91089800e-01, 9.97554300e-01, 1.21876670e-03, 9.95139200e-01,\n",
              "        6.92775500e-04, 8.06010960e-02, 5.32402850e-05, 1.14458390e-02,\n",
              "        9.57940760e-01, 9.78216950e-01, 3.06854670e-01, 4.49740850e-02,\n",
              "        9.97680370e-01, 2.95376300e-01, 9.99178470e-01, 9.94017100e-01,\n",
              "        2.89149970e-02, 7.32725700e-02, 9.92398740e-01, 1.19152800e-02,\n",
              "        7.31883350e-02, 8.06010960e-02, 9.73630200e-01, 9.97216170e-01,\n",
              "        2.08293530e-02, 9.98824060e-01, 3.37556000e-03, 1.14458390e-02,\n",
              "        9.28009330e-01, 4.49740850e-02, 9.98108800e-01, 8.94215300e-01,\n",
              "        9.88669100e-01, 1.14458390e-02, 9.98933100e-01, 9.94370600e-01,\n",
              "        4.94209000e-03, 6.13114200e-01, 2.06447260e-02, 2.35461310e-01,\n",
              "        1.23371940e-01, 1.14458390e-02, 1.63107530e-01, 8.30571800e-03,\n",
              "        9.97752200e-01, 9.94403100e-01, 1.34119530e-01, 9.97913240e-01,\n",
              "        1.09275930e-03, 9.97882000e-01, 1.25664230e-02, 9.98810100e-01,\n",
              "        8.11605200e-02, 9.94841930e-01, 9.44473860e-01, 9.82533700e-01,\n",
              "        9.84516800e-01, 7.35957200e-01, 8.06010960e-02, 9.90167000e-01,\n",
              "        9.97699400e-01, 4.49740850e-02, 9.96038140e-01, 9.16899300e-01,\n",
              "        4.65599660e-01, 2.08102120e-01, 9.91730300e-01, 4.49740850e-02,\n",
              "        2.18320930e-04, 9.94662000e-01, 9.99121500e-01, 9.44175660e-01,\n",
              "        7.44464300e-02, 9.98910200e-01, 1.19944860e-01, 9.97823240e-01,\n",
              "        9.89179550e-01, 8.06010960e-02, 9.98189900e-01, 6.15336820e-02,\n",
              "        9.81580260e-01, 2.40331140e-03, 1.10431350e-03, 1.45790550e-04,\n",
              "        9.99195460e-01, 9.99240100e-01, 3.17331850e-01, 4.49740850e-02,\n",
              "        4.66600060e-04, 4.66556000e-02, 9.85088300e-01, 1.23371940e-01,\n",
              "        9.96789750e-01, 8.97144840e-04, 9.98091940e-01, 2.00839820e-01,\n",
              "        8.09926700e-01, 9.98174550e-01, 9.96449600e-01, 8.45254200e-01,\n",
              "        9.98938700e-01, 9.96210500e-01, 9.91731600e-01, 9.54871950e-01,\n",
              "        9.90825360e-01, 3.65357120e-04, 9.93601300e-01, 2.29911920e-01,\n",
              "        9.91756400e-01, 1.09666560e-02, 8.79898700e-01, 8.61698900e-01,\n",
              "        9.93914300e-01, 4.49740850e-02, 9.77276740e-01, 4.49740850e-02,\n",
              "        9.91634500e-01, 3.97435280e-02, 9.97728600e-01, 3.97800370e-03,\n",
              "        3.36336480e-03, 9.73630200e-01, 3.20918200e-03, 3.97800370e-03,\n",
              "        1.14458390e-02, 9.96069850e-01, 2.66472520e-01, 9.95028500e-01,\n",
              "        9.81174400e-01, 2.00386870e-04, 4.49740850e-02, 1.57697620e-03,\n",
              "        8.69477700e-02, 9.86710970e-01, 9.99515830e-01, 9.99264900e-01,\n",
              "        9.67376700e-01, 9.98522200e-01, 9.99200400e-01, 9.01667400e-03,\n",
              "        4.49740850e-02, 3.97800370e-03, 9.44848900e-01, 9.98042350e-01,\n",
              "        1.16171320e-03, 9.99049700e-01, 6.63768800e-03, 1.72396490e-02,\n",
              "        9.79760900e-01, 2.43919040e-03, 9.84536200e-01, 1.14458390e-02,\n",
              "        1.30777250e-01, 4.49740850e-02, 3.50264720e-02, 2.84591140e-01,\n",
              "        4.49740850e-02, 4.66562320e-02, 9.97124970e-01, 9.81174400e-01,\n",
              "        1.10794960e-04, 1.23371940e-01, 9.99170600e-01, 9.67151300e-03,\n",
              "        2.94969180e-03, 6.22579600e-03, 9.87583940e-01, 3.31387700e-01,\n",
              "        1.14458390e-02, 9.96789750e-01, 5.01044400e-02, 9.97073200e-01,\n",
              "        4.59940820e-05, 9.99070470e-01, 5.70184500e-03, 9.96941270e-01,\n",
              "        9.92450700e-01, 6.74373050e-03, 3.97800370e-03, 1.14458390e-02,\n",
              "        9.94042340e-01, 3.04666600e-03, 1.85460620e-02, 9.98123170e-01,\n",
              "        9.72954200e-01, 3.97800370e-03, 9.73630200e-01, 1.26320610e-02,\n",
              "        9.99121500e-01, 7.80616360e-04, 9.98353400e-01, 9.97436340e-01,\n",
              "        3.12951300e-03, 1.23371940e-01, 9.93185760e-01, 9.95306430e-01,\n",
              "        4.17895000e-02, 9.21640450e-03, 1.14458390e-02, 9.99262870e-01,\n",
              "        3.49421470e-01, 8.06010960e-02, 9.73630200e-01, 9.53175250e-01,\n",
              "        9.94861300e-01, 9.89152670e-01, 9.80905000e-01, 9.48462600e-01,\n",
              "        9.98833950e-01, 9.97011900e-01, 7.80616360e-04, 9.94794100e-01,\n",
              "        9.97569400e-01, 3.97800370e-03, 8.06010960e-02, 9.87689300e-01,\n",
              "        2.02435220e-02, 4.49740850e-02, 9.96999440e-01, 1.36815220e-03,\n",
              "        1.03462490e-03, 9.98702400e-01, 2.66792080e-04, 1.58702700e-02,\n",
              "        9.73630200e-01, 6.71036300e-01, 5.08486780e-02, 9.73630200e-01,\n",
              "        9.95838760e-01, 9.95889500e-01, 9.97053740e-01, 9.94804560e-01,\n",
              "        3.72578240e-02, 8.99075600e-01, 2.32403560e-02, 1.14458390e-02,\n",
              "        4.77502440e-01, 4.49740850e-02, 9.91225600e-01, 9.93330300e-01,\n",
              "        1.10957895e-04, 4.49740850e-02, 9.97501400e-01, 9.24954830e-01,\n",
              "        8.34838800e-01, 4.49740850e-02, 9.96952060e-01, 9.94102800e-01,\n",
              "        9.74549060e-01, 9.96228400e-01, 1.14458390e-02, 9.40733130e-01,\n",
              "        1.15242940e-03, 1.26503410e-04, 9.76248440e-01, 9.91535960e-01,\n",
              "        9.98261300e-01, 1.14458390e-02, 9.96733000e-01, 1.77304760e-02,\n",
              "        9.90178600e-01, 7.42001240e-01, 9.83966600e-01, 8.35875200e-04,\n",
              "        8.06010960e-02, 8.06010960e-02, 9.97155800e-01, 9.97149600e-01,\n",
              "        1.32338210e-02, 9.98416200e-01, 2.94969180e-03, 6.00728130e-02,\n",
              "        1.23371940e-01, 8.69477700e-02, 8.16361300e-02, 3.97800370e-03,\n",
              "        9.98695100e-01, 1.14458390e-02, 9.93105230e-01, 9.46475860e-01,\n",
              "        9.55873670e-01, 9.86047700e-01, 9.97880940e-01, 4.49740850e-02,\n",
              "        2.91413590e-02, 9.97781160e-01, 3.27753300e-04, 9.47816700e-01,\n",
              "        9.97747540e-01, 9.99680040e-01, 9.95647850e-01, 9.98471300e-01,\n",
              "        8.75204600e-03, 9.97204600e-01, 8.22509200e-02, 8.16361300e-02,\n",
              "        9.87778840e-01, 1.14458390e-02, 8.57849200e-02, 1.17782880e-02,\n",
              "        7.89631000e-03, 1.31437285e-02, 6.29320200e-01, 9.81016800e-04,\n",
              "        4.74880130e-04, 7.85279100e-03, 9.96269600e-01, 9.82391830e-01,\n",
              "        1.01451970e-03, 5.15457730e-02, 9.84129900e-01, 1.90970750e-01,\n",
              "        2.28544270e-02, 7.56519140e-01, 9.87685200e-01, 1.82849300e-02,\n",
              "        9.95289560e-01, 9.99543250e-01, 1.23371940e-01, 9.42489740e-01,\n",
              "        9.96567200e-01, 9.98072500e-01, 8.06010960e-02, 1.28993510e-01,\n",
              "        7.18561400e-01, 8.06010960e-02, 9.90570960e-01, 9.91544600e-01,\n",
              "        4.49740850e-02, 3.97800370e-03, 1.34175210e-02, 9.00783100e-01,\n",
              "        4.49740850e-02, 9.96061900e-01, 8.38576800e-01, 1.14458390e-02,\n",
              "        9.89743500e-01, 9.93707800e-01, 8.09244400e-03, 3.97800370e-03,\n",
              "        2.13012400e-03, 9.98260300e-01, 5.01567240e-01, 6.57001900e-01,\n",
              "        3.72617070e-01, 8.06010960e-02, 9.17994100e-01, 9.92893500e-01,\n",
              "        9.91226000e-01, 1.21876670e-03, 3.18591480e-03, 7.21610960e-01,\n",
              "        5.27524500e-03, 9.99320700e-01, 7.52991600e-02, 9.92577200e-01,\n",
              "        9.92196600e-01, 8.87470300e-02, 6.18694800e-02, 1.60901200e-02,\n",
              "        3.97800370e-03, 4.08517240e-03, 9.95458000e-01, 9.88998500e-01,\n",
              "        9.97728170e-01, 9.99296840e-01, 9.95178460e-01, 9.80246250e-01,\n",
              "        9.98864800e-01, 9.97494300e-01, 9.96764700e-01, 9.96702730e-01,\n",
              "        9.95190200e-01, 1.84707530e-03, 9.84644650e-01, 4.96483930e-04,\n",
              "        9.98676840e-01, 4.49740850e-02, 6.26605500e-04, 9.39229700e-01,\n",
              "        8.06010960e-02, 1.14458390e-02, 9.99223700e-01, 9.94205830e-01,\n",
              "        9.94582500e-01, 4.45520700e-04, 9.95020450e-01, 9.96375500e-01,\n",
              "        1.00198250e-04, 2.19293890e-01, 2.37373770e-02, 9.94449140e-01,\n",
              "        8.08875400e-01, 9.64139800e-01, 9.97876200e-01, 9.99400260e-01,\n",
              "        9.99179300e-01, 9.73630200e-01, 9.98424100e-01, 8.96787460e-01,\n",
              "        2.91199310e-02, 9.93904350e-01, 8.06010960e-02, 9.88668200e-01,\n",
              "        9.30504400e-03, 9.97685400e-01, 5.16959850e-01, 9.91636600e-01,\n",
              "        1.23371940e-01, 9.91646050e-01, 1.26604100e-03, 9.92834300e-01,\n",
              "        3.98864500e-04, 2.66197070e-03, 1.74137100e-02, 8.08126800e-03,\n",
              "        4.51075940e-01, 1.14458390e-02, 1.88145750e-02, 8.06010960e-02,\n",
              "        1.23371940e-01, 9.73630200e-01, 9.91771500e-01, 3.97800370e-03,\n",
              "        9.87480040e-01, 9.96402140e-01, 5.64782950e-02, 9.86920950e-01,\n",
              "        5.48661240e-02, 9.99134800e-01, 9.72757400e-01, 9.98747650e-01,\n",
              "        4.49740850e-02, 1.18507670e-03, 9.97085870e-01, 1.60756800e-01,\n",
              "        2.08102120e-01, 9.97128840e-01, 1.74137100e-02, 4.99190900e-04,\n",
              "        9.97747540e-01, 9.74974200e-01, 9.98840300e-01, 1.88491390e-03,\n",
              "        4.49740850e-02, 9.86670400e-01, 1.14458390e-02, 9.99040960e-01,\n",
              "        5.77118750e-01, 4.46972300e-03, 3.97800370e-03, 2.84591140e-01,\n",
              "        9.73630200e-01, 4.59781740e-01, 9.96242940e-01, 9.50323800e-01,\n",
              "        1.15742200e-02, 9.97852400e-01, 2.35426240e-02, 9.97580200e-01,\n",
              "        8.06010960e-02, 8.44351500e-01, 9.98534400e-01, 9.07334150e-01,\n",
              "        9.99282100e-01, 9.67649000e-01, 1.18053440e-03, 9.92091660e-01,\n",
              "        9.85254400e-01, 2.13100300e-02, 3.97800370e-03, 3.97800370e-03,\n",
              "        4.07518200e-03, 9.94891760e-01, 8.25538100e-03, 7.29178200e-01,\n",
              "        9.95196600e-01, 9.46290000e-03, 9.99660550e-01, 1.04171580e-03,\n",
              "        9.95694640e-01, 9.98890000e-01, 9.96666130e-01, 9.35444760e-02,\n",
              "        9.98585900e-01, 1.05280496e-01, 9.85029040e-01, 7.16244000e-04,\n",
              "        9.97630600e-01, 2.46332800e-02, 9.78198770e-01, 9.98952450e-01,\n",
              "        9.98957800e-01, 6.30698350e-02, 7.83484500e-03, 9.96301800e-01,\n",
              "        9.78985300e-01, 5.62402300e-01, 9.98471300e-01, 8.52068960e-01,\n",
              "        9.68009400e-01, 3.97800370e-03, 1.25929150e-02, 9.90559400e-01,\n",
              "        7.16244000e-04, 1.44871230e-01, 9.67193250e-01, 3.09467800e-03,\n",
              "        4.46972300e-03, 9.59437970e-01, 2.67081170e-02, 4.10503370e-02]),\n",
              " array([0, 0, 0, 0, 1, 0, 0, 0, 1, 0, 0, 0, 1, 1, 0, 1, 0, 0, 0, 1, 1, 1,\n",
              "        1, 1, 0, 0, 0, 0, 0, 0, 0, 0, 1, 1, 0, 1, 0, 1, 1, 1, 1, 1, 0, 1,\n",
              "        0, 0, 0, 0, 0, 1, 1, 1, 0, 0, 0, 0, 1, 1, 0, 0, 0, 0, 1, 0, 1, 0,\n",
              "        1, 0, 1, 0, 0, 1, 0, 1, 0, 0, 0, 0, 0, 1, 0, 1, 0, 0, 0, 1, 0, 0,\n",
              "        1, 1, 1, 0, 0, 0, 0, 0, 0, 1, 0, 0, 1, 0, 1, 1, 0, 0, 1, 1, 1, 0,\n",
              "        0, 1, 0, 1, 0, 0, 1, 0, 0, 0, 1, 1, 0, 1, 1, 1, 0, 1, 0, 0, 0, 0,\n",
              "        1, 1, 0, 0, 0, 1, 0, 0, 0, 1, 0, 1, 0, 1, 0, 0, 0, 0, 0, 0, 0, 0,\n",
              "        0, 1, 1, 0, 0, 0, 1, 1, 0, 1, 1, 1, 1, 1, 0, 0, 0, 1, 1, 0, 0, 0,\n",
              "        0, 1, 1, 0, 1, 1, 1, 0, 1, 0, 1, 1, 1, 0, 1, 1, 1, 0, 0, 1, 1, 1,\n",
              "        0, 0, 1, 1, 1, 1, 0, 1, 1, 0, 0, 1, 0, 0, 0, 0, 0, 0, 0, 1, 1, 1,\n",
              "        1, 1, 0, 1, 1, 1, 0, 1, 1, 0, 0, 1, 0, 1, 0, 1, 0, 0, 0, 0, 1, 1,\n",
              "        0, 0, 1, 0, 0, 1, 1, 0, 1, 0, 0, 1, 0, 0, 0, 0, 0, 1, 1, 0, 0, 0,\n",
              "        0, 0, 1, 1, 0, 1, 0, 0, 0, 0, 0, 0, 0, 0, 0, 1, 0, 0, 0, 0, 0, 0,\n",
              "        1, 0, 0, 0, 0, 1, 1, 0, 0, 1, 0, 0, 1, 1, 1, 1, 0, 1, 0, 0, 1, 0,\n",
              "        1, 0, 0, 1, 1, 1, 1, 1, 1, 0, 0, 1, 1, 1, 0, 0, 1, 0, 1, 1, 0, 0,\n",
              "        0, 0, 1, 1, 1, 1, 0, 0, 1, 0, 1, 1, 1, 1, 1, 0, 0, 1, 0, 0, 0, 0,\n",
              "        1, 1, 1, 1, 0, 1, 0, 0, 1, 1, 1, 1, 0, 0, 0, 0, 0, 0, 0, 0, 1, 0,\n",
              "        1, 0, 0, 0, 1, 1, 1, 0, 1, 1, 1, 1, 0, 1, 0, 1, 1, 0, 0, 1, 0, 1,\n",
              "        0, 1, 1, 1, 0, 0, 0, 0, 0, 0, 0, 0, 1, 1, 0, 1, 1, 0, 1, 1, 0, 1,\n",
              "        1, 0, 0, 1, 0, 1, 0, 0, 0, 1, 0, 1, 0, 1, 0, 0, 1, 1, 0, 1, 1, 0,\n",
              "        1, 0, 1, 0, 1, 1, 0, 0, 1, 0, 0, 1, 0, 0, 1, 1, 1, 0, 0, 0, 1, 1,\n",
              "        1, 0, 1, 0, 0, 1, 1, 1, 0, 1, 0, 0, 0, 0, 1, 1, 0, 0, 1, 1, 0, 1,\n",
              "        0, 0, 0, 0, 1, 1, 0, 0, 1, 0, 1, 1, 0, 0, 1, 0, 0, 0, 1, 1, 0, 1,\n",
              "        0, 0, 0, 0, 1, 1, 1, 0, 1, 1, 0, 0, 0, 0, 0, 0, 0, 0, 1, 1, 0, 1,\n",
              "        0, 1, 0, 1, 0, 1, 1, 1, 1, 1, 0, 1, 1, 0, 1, 1, 1, 0, 1, 0, 0, 1,\n",
              "        1, 1, 0, 1, 0, 1, 1, 0, 1, 0, 1, 0, 0, 0, 1, 1, 0, 0, 0, 0, 1, 0,\n",
              "        1, 0, 1, 0, 0, 1, 1, 0, 1, 1, 1, 1, 1, 0, 1, 0, 1, 0, 0, 1, 1, 0,\n",
              "        1, 0, 1, 0, 1, 0, 0, 1, 0, 0, 0, 1, 0, 1, 1, 0, 0, 0, 0, 1, 1, 1,\n",
              "        1, 1, 1, 0, 0, 0, 1, 1, 0, 1, 0, 0, 1, 0, 1, 0, 0, 0, 0, 0, 0, 0,\n",
              "        1, 1, 0, 0, 1, 0, 0, 0, 1, 0, 0, 1, 0, 1, 0, 1, 0, 1, 1, 0, 0, 0,\n",
              "        1, 0, 0, 1, 1, 0, 1, 0, 1, 0, 1, 1, 0, 0, 1, 1, 0, 0, 0, 1, 0, 0,\n",
              "        1, 1, 1, 0, 1, 1, 1, 1, 0, 1, 1, 0, 0, 1, 0, 0, 1, 0, 0, 1, 0, 0,\n",
              "        1, 0, 0, 1, 1, 1, 1, 1, 0, 0, 0, 0, 0, 0, 1, 1, 0, 0, 1, 1, 0, 0,\n",
              "        1, 1, 1, 1, 0, 1, 0, 0, 1, 1, 1, 0, 1, 0, 1, 0, 1, 0, 0, 0, 1, 1,\n",
              "        0, 1, 0, 0, 0, 0, 0, 0, 1, 0, 1, 1, 1, 1, 1, 0, 0, 1, 0, 0, 1, 1,\n",
              "        1, 1, 0, 1, 0, 0, 0, 0, 0, 0, 0, 0, 0, 0, 0, 0, 1, 0, 0, 0, 1, 0,\n",
              "        0, 0, 1, 0, 1, 1, 0, 1, 1, 1, 0, 0, 1, 0, 1, 1, 0, 0, 0, 0, 0, 1,\n",
              "        1, 0, 1, 1, 0, 0, 0, 1, 0, 0, 1, 0, 1, 1, 1, 0, 0, 0, 0, 1, 0, 1,\n",
              "        1, 0, 0, 0, 0, 0, 1, 1, 1, 1, 1, 1, 1, 1, 1, 1, 1, 0, 1, 0, 1, 0,\n",
              "        0, 1, 0, 0, 1, 1, 1, 0, 1, 1, 0, 0, 0, 1, 1, 1, 1, 1, 1, 1, 1, 1,\n",
              "        0, 1, 0, 1, 0, 1, 0, 1, 0, 1, 0, 1, 0, 0, 0, 0, 0, 0, 0, 0, 0, 1,\n",
              "        1, 0, 1, 1, 0, 1, 0, 1, 1, 1, 0, 0, 1, 0, 0, 1, 0, 0, 1, 1, 1, 0,\n",
              "        0, 1, 0, 1, 0, 0, 0, 0, 1, 0, 1, 1, 0, 1, 0, 1, 0, 0, 1, 1, 1, 1,\n",
              "        0, 1, 1, 0, 0, 0, 0, 1, 0, 0, 1, 0, 1, 0, 1, 1, 1, 0, 1, 0, 1, 0,\n",
              "        1, 0, 0, 1, 1, 0, 0, 1, 1, 1, 1, 1, 1, 0, 0, 1, 0, 0, 1, 0, 0, 1,\n",
              "        0, 0]))"
            ]
          },
          "metadata": {},
          "execution_count": 209
        }
      ],
      "source": [
        "name = 'LSTM'\n",
        "dg = pd.read_csv('/content/drive/MyDrive/work 43/results/3D-CNN.csv')\n",
        "yp1,yt1 = dg['predicted'].to_numpy(),dg['real'].to_numpy()\n",
        "yp1,yt1"
      ]
    },
    {
      "cell_type": "code",
      "execution_count": 196,
      "metadata": {
        "id": "UG8w0hdWZYrp"
      },
      "outputs": [],
      "source": [
        "# name = 'Bert-base-uncased'"
      ]
    },
    {
      "cell_type": "code",
      "execution_count": 197,
      "metadata": {
        "id": "AwlhPwIfYPLJ"
      },
      "outputs": [],
      "source": [
        "yp[yp < 0.5] = 0\n",
        "yp[yp > 0.5] = 1"
      ]
    },
    {
      "cell_type": "code",
      "source": [
        "np.sum(yp==yt)/yp.shape[0]"
      ],
      "metadata": {
        "colab": {
          "base_uri": "https://localhost:8080/"
        },
        "id": "onPT_DPeoxZr",
        "outputId": "4152728d-9e38-4a4b-dcad-16d1a8c6c479"
      },
      "execution_count": 200,
      "outputs": [
        {
          "output_type": "execute_result",
          "data": {
            "text/plain": [
              "0.9876160990712074"
            ]
          },
          "metadata": {},
          "execution_count": 200
        }
      ]
    },
    {
      "cell_type": "code",
      "source": [
        "plt.scatter(yp,range(yp.shape[0]),c=yt1)"
      ],
      "metadata": {
        "colab": {
          "base_uri": "https://localhost:8080/",
          "height": 853
        },
        "id": "KX66qAlOp-cG",
        "outputId": "d04f9fc6-d47c-4844-dd00-605257764a9c"
      },
      "execution_count": 210,
      "outputs": [
        {
          "output_type": "error",
          "ename": "ValueError",
          "evalue": "ignored",
          "traceback": [
            "\u001b[0;31m---------------------------------------------------------------------------\u001b[0m",
            "\u001b[0;31mValueError\u001b[0m                                Traceback (most recent call last)",
            "\u001b[0;32m/usr/local/lib/python3.10/dist-packages/matplotlib/axes/_axes.py\u001b[0m in \u001b[0;36m_parse_scatter_color_args\u001b[0;34m(c, edgecolors, kwargs, xsize, get_next_color_func)\u001b[0m\n\u001b[1;32m   4438\u001b[0m             \u001b[0;32mtry\u001b[0m\u001b[0;34m:\u001b[0m  \u001b[0;31m# Is 'c' acceptable as PathCollection facecolors?\u001b[0m\u001b[0;34m\u001b[0m\u001b[0;34m\u001b[0m\u001b[0m\n\u001b[0;32m-> 4439\u001b[0;31m                 \u001b[0mcolors\u001b[0m \u001b[0;34m=\u001b[0m \u001b[0mmcolors\u001b[0m\u001b[0;34m.\u001b[0m\u001b[0mto_rgba_array\u001b[0m\u001b[0;34m(\u001b[0m\u001b[0mc\u001b[0m\u001b[0;34m)\u001b[0m\u001b[0;34m\u001b[0m\u001b[0;34m\u001b[0m\u001b[0m\n\u001b[0m\u001b[1;32m   4440\u001b[0m             \u001b[0;32mexcept\u001b[0m \u001b[0;34m(\u001b[0m\u001b[0mTypeError\u001b[0m\u001b[0;34m,\u001b[0m \u001b[0mValueError\u001b[0m\u001b[0;34m)\u001b[0m \u001b[0;32mas\u001b[0m \u001b[0merr\u001b[0m\u001b[0;34m:\u001b[0m\u001b[0;34m\u001b[0m\u001b[0;34m\u001b[0m\u001b[0m\n",
            "\u001b[0;32m/usr/local/lib/python3.10/dist-packages/matplotlib/colors.py\u001b[0m in \u001b[0;36mto_rgba_array\u001b[0;34m(c, alpha)\u001b[0m\n\u001b[1;32m    486\u001b[0m     \u001b[0;32melse\u001b[0m\u001b[0;34m:\u001b[0m\u001b[0;34m\u001b[0m\u001b[0;34m\u001b[0m\u001b[0m\n\u001b[0;32m--> 487\u001b[0;31m         \u001b[0mrgba\u001b[0m \u001b[0;34m=\u001b[0m \u001b[0mnp\u001b[0m\u001b[0;34m.\u001b[0m\u001b[0marray\u001b[0m\u001b[0;34m(\u001b[0m\u001b[0;34m[\u001b[0m\u001b[0mto_rgba\u001b[0m\u001b[0;34m(\u001b[0m\u001b[0mcc\u001b[0m\u001b[0;34m)\u001b[0m \u001b[0;32mfor\u001b[0m \u001b[0mcc\u001b[0m \u001b[0;32min\u001b[0m \u001b[0mc\u001b[0m\u001b[0;34m]\u001b[0m\u001b[0;34m)\u001b[0m\u001b[0;34m\u001b[0m\u001b[0;34m\u001b[0m\u001b[0m\n\u001b[0m\u001b[1;32m    488\u001b[0m \u001b[0;34m\u001b[0m\u001b[0m\n",
            "\u001b[0;32m/usr/local/lib/python3.10/dist-packages/matplotlib/colors.py\u001b[0m in \u001b[0;36m<listcomp>\u001b[0;34m(.0)\u001b[0m\n\u001b[1;32m    486\u001b[0m     \u001b[0;32melse\u001b[0m\u001b[0;34m:\u001b[0m\u001b[0;34m\u001b[0m\u001b[0;34m\u001b[0m\u001b[0m\n\u001b[0;32m--> 487\u001b[0;31m         \u001b[0mrgba\u001b[0m \u001b[0;34m=\u001b[0m \u001b[0mnp\u001b[0m\u001b[0;34m.\u001b[0m\u001b[0marray\u001b[0m\u001b[0;34m(\u001b[0m\u001b[0;34m[\u001b[0m\u001b[0mto_rgba\u001b[0m\u001b[0;34m(\u001b[0m\u001b[0mcc\u001b[0m\u001b[0;34m)\u001b[0m \u001b[0;32mfor\u001b[0m \u001b[0mcc\u001b[0m \u001b[0;32min\u001b[0m \u001b[0mc\u001b[0m\u001b[0;34m]\u001b[0m\u001b[0;34m)\u001b[0m\u001b[0;34m\u001b[0m\u001b[0;34m\u001b[0m\u001b[0m\n\u001b[0m\u001b[1;32m    488\u001b[0m \u001b[0;34m\u001b[0m\u001b[0m\n",
            "\u001b[0;32m/usr/local/lib/python3.10/dist-packages/matplotlib/colors.py\u001b[0m in \u001b[0;36mto_rgba\u001b[0;34m(c, alpha)\u001b[0m\n\u001b[1;32m    298\u001b[0m     \u001b[0;32mif\u001b[0m \u001b[0mrgba\u001b[0m \u001b[0;32mis\u001b[0m \u001b[0;32mNone\u001b[0m\u001b[0;34m:\u001b[0m  \u001b[0;31m# Suppress exception chaining of cache lookup failure.\u001b[0m\u001b[0;34m\u001b[0m\u001b[0;34m\u001b[0m\u001b[0m\n\u001b[0;32m--> 299\u001b[0;31m         \u001b[0mrgba\u001b[0m \u001b[0;34m=\u001b[0m \u001b[0m_to_rgba_no_colorcycle\u001b[0m\u001b[0;34m(\u001b[0m\u001b[0mc\u001b[0m\u001b[0;34m,\u001b[0m \u001b[0malpha\u001b[0m\u001b[0;34m)\u001b[0m\u001b[0;34m\u001b[0m\u001b[0;34m\u001b[0m\u001b[0m\n\u001b[0m\u001b[1;32m    300\u001b[0m         \u001b[0;32mtry\u001b[0m\u001b[0;34m:\u001b[0m\u001b[0;34m\u001b[0m\u001b[0;34m\u001b[0m\u001b[0m\n",
            "\u001b[0;32m/usr/local/lib/python3.10/dist-packages/matplotlib/colors.py\u001b[0m in \u001b[0;36m_to_rgba_no_colorcycle\u001b[0;34m(c, alpha)\u001b[0m\n\u001b[1;32m    380\u001b[0m     \u001b[0;32mif\u001b[0m \u001b[0;32mnot\u001b[0m \u001b[0mnp\u001b[0m\u001b[0;34m.\u001b[0m\u001b[0miterable\u001b[0m\u001b[0;34m(\u001b[0m\u001b[0mc\u001b[0m\u001b[0;34m)\u001b[0m\u001b[0;34m:\u001b[0m\u001b[0;34m\u001b[0m\u001b[0;34m\u001b[0m\u001b[0m\n\u001b[0;32m--> 381\u001b[0;31m         \u001b[0;32mraise\u001b[0m \u001b[0mValueError\u001b[0m\u001b[0;34m(\u001b[0m\u001b[0;34mf\"Invalid RGBA argument: {orig_c!r}\"\u001b[0m\u001b[0;34m)\u001b[0m\u001b[0;34m\u001b[0m\u001b[0;34m\u001b[0m\u001b[0m\n\u001b[0m\u001b[1;32m    382\u001b[0m     \u001b[0;32mif\u001b[0m \u001b[0mlen\u001b[0m\u001b[0;34m(\u001b[0m\u001b[0mc\u001b[0m\u001b[0;34m)\u001b[0m \u001b[0;32mnot\u001b[0m \u001b[0;32min\u001b[0m \u001b[0;34m[\u001b[0m\u001b[0;36m3\u001b[0m\u001b[0;34m,\u001b[0m \u001b[0;36m4\u001b[0m\u001b[0;34m]\u001b[0m\u001b[0;34m:\u001b[0m\u001b[0;34m\u001b[0m\u001b[0;34m\u001b[0m\u001b[0m\n",
            "\u001b[0;31mValueError\u001b[0m: Invalid RGBA argument: 0.0",
            "\nThe above exception was the direct cause of the following exception:\n",
            "\u001b[0;31mValueError\u001b[0m                                Traceback (most recent call last)",
            "\u001b[0;32m<ipython-input-210-ac5ffc36a84b>\u001b[0m in \u001b[0;36m<cell line: 1>\u001b[0;34m()\u001b[0m\n\u001b[0;32m----> 1\u001b[0;31m \u001b[0mplt\u001b[0m\u001b[0;34m.\u001b[0m\u001b[0mscatter\u001b[0m\u001b[0;34m(\u001b[0m\u001b[0myp\u001b[0m\u001b[0;34m,\u001b[0m\u001b[0mrange\u001b[0m\u001b[0;34m(\u001b[0m\u001b[0myp\u001b[0m\u001b[0;34m.\u001b[0m\u001b[0mshape\u001b[0m\u001b[0;34m[\u001b[0m\u001b[0;36m0\u001b[0m\u001b[0;34m]\u001b[0m\u001b[0;34m)\u001b[0m\u001b[0;34m,\u001b[0m\u001b[0mc\u001b[0m\u001b[0;34m=\u001b[0m\u001b[0myt1\u001b[0m\u001b[0;34m)\u001b[0m\u001b[0;34m\u001b[0m\u001b[0;34m\u001b[0m\u001b[0m\n\u001b[0m",
            "\u001b[0;32m/usr/local/lib/python3.10/dist-packages/matplotlib/pyplot.py\u001b[0m in \u001b[0;36mscatter\u001b[0;34m(x, y, s, c, marker, cmap, norm, vmin, vmax, alpha, linewidths, edgecolors, plotnonfinite, data, **kwargs)\u001b[0m\n\u001b[1;32m   2860\u001b[0m         \u001b[0mvmin\u001b[0m\u001b[0;34m=\u001b[0m\u001b[0;32mNone\u001b[0m\u001b[0;34m,\u001b[0m \u001b[0mvmax\u001b[0m\u001b[0;34m=\u001b[0m\u001b[0;32mNone\u001b[0m\u001b[0;34m,\u001b[0m \u001b[0malpha\u001b[0m\u001b[0;34m=\u001b[0m\u001b[0;32mNone\u001b[0m\u001b[0;34m,\u001b[0m \u001b[0mlinewidths\u001b[0m\u001b[0;34m=\u001b[0m\u001b[0;32mNone\u001b[0m\u001b[0;34m,\u001b[0m \u001b[0;34m*\u001b[0m\u001b[0;34m,\u001b[0m\u001b[0;34m\u001b[0m\u001b[0;34m\u001b[0m\u001b[0m\n\u001b[1;32m   2861\u001b[0m         edgecolors=None, plotnonfinite=False, data=None, **kwargs):\n\u001b[0;32m-> 2862\u001b[0;31m     __ret = gca().scatter(\n\u001b[0m\u001b[1;32m   2863\u001b[0m         \u001b[0mx\u001b[0m\u001b[0;34m,\u001b[0m \u001b[0my\u001b[0m\u001b[0;34m,\u001b[0m \u001b[0ms\u001b[0m\u001b[0;34m=\u001b[0m\u001b[0ms\u001b[0m\u001b[0;34m,\u001b[0m \u001b[0mc\u001b[0m\u001b[0;34m=\u001b[0m\u001b[0mc\u001b[0m\u001b[0;34m,\u001b[0m \u001b[0mmarker\u001b[0m\u001b[0;34m=\u001b[0m\u001b[0mmarker\u001b[0m\u001b[0;34m,\u001b[0m \u001b[0mcmap\u001b[0m\u001b[0;34m=\u001b[0m\u001b[0mcmap\u001b[0m\u001b[0;34m,\u001b[0m \u001b[0mnorm\u001b[0m\u001b[0;34m=\u001b[0m\u001b[0mnorm\u001b[0m\u001b[0;34m,\u001b[0m\u001b[0;34m\u001b[0m\u001b[0;34m\u001b[0m\u001b[0m\n\u001b[1;32m   2864\u001b[0m         \u001b[0mvmin\u001b[0m\u001b[0;34m=\u001b[0m\u001b[0mvmin\u001b[0m\u001b[0;34m,\u001b[0m \u001b[0mvmax\u001b[0m\u001b[0;34m=\u001b[0m\u001b[0mvmax\u001b[0m\u001b[0;34m,\u001b[0m \u001b[0malpha\u001b[0m\u001b[0;34m=\u001b[0m\u001b[0malpha\u001b[0m\u001b[0;34m,\u001b[0m \u001b[0mlinewidths\u001b[0m\u001b[0;34m=\u001b[0m\u001b[0mlinewidths\u001b[0m\u001b[0;34m,\u001b[0m\u001b[0;34m\u001b[0m\u001b[0;34m\u001b[0m\u001b[0m\n",
            "\u001b[0;32m/usr/local/lib/python3.10/dist-packages/matplotlib/__init__.py\u001b[0m in \u001b[0;36minner\u001b[0;34m(ax, data, *args, **kwargs)\u001b[0m\n\u001b[1;32m   1440\u001b[0m     \u001b[0;32mdef\u001b[0m \u001b[0minner\u001b[0m\u001b[0;34m(\u001b[0m\u001b[0max\u001b[0m\u001b[0;34m,\u001b[0m \u001b[0;34m*\u001b[0m\u001b[0margs\u001b[0m\u001b[0;34m,\u001b[0m \u001b[0mdata\u001b[0m\u001b[0;34m=\u001b[0m\u001b[0;32mNone\u001b[0m\u001b[0;34m,\u001b[0m \u001b[0;34m**\u001b[0m\u001b[0mkwargs\u001b[0m\u001b[0;34m)\u001b[0m\u001b[0;34m:\u001b[0m\u001b[0;34m\u001b[0m\u001b[0;34m\u001b[0m\u001b[0m\n\u001b[1;32m   1441\u001b[0m         \u001b[0;32mif\u001b[0m \u001b[0mdata\u001b[0m \u001b[0;32mis\u001b[0m \u001b[0;32mNone\u001b[0m\u001b[0;34m:\u001b[0m\u001b[0;34m\u001b[0m\u001b[0;34m\u001b[0m\u001b[0m\n\u001b[0;32m-> 1442\u001b[0;31m             \u001b[0;32mreturn\u001b[0m \u001b[0mfunc\u001b[0m\u001b[0;34m(\u001b[0m\u001b[0max\u001b[0m\u001b[0;34m,\u001b[0m \u001b[0;34m*\u001b[0m\u001b[0mmap\u001b[0m\u001b[0;34m(\u001b[0m\u001b[0msanitize_sequence\u001b[0m\u001b[0;34m,\u001b[0m \u001b[0margs\u001b[0m\u001b[0;34m)\u001b[0m\u001b[0;34m,\u001b[0m \u001b[0;34m**\u001b[0m\u001b[0mkwargs\u001b[0m\u001b[0;34m)\u001b[0m\u001b[0;34m\u001b[0m\u001b[0;34m\u001b[0m\u001b[0m\n\u001b[0m\u001b[1;32m   1443\u001b[0m \u001b[0;34m\u001b[0m\u001b[0m\n\u001b[1;32m   1444\u001b[0m         \u001b[0mbound\u001b[0m \u001b[0;34m=\u001b[0m \u001b[0mnew_sig\u001b[0m\u001b[0;34m.\u001b[0m\u001b[0mbind\u001b[0m\u001b[0;34m(\u001b[0m\u001b[0max\u001b[0m\u001b[0;34m,\u001b[0m \u001b[0;34m*\u001b[0m\u001b[0margs\u001b[0m\u001b[0;34m,\u001b[0m \u001b[0;34m**\u001b[0m\u001b[0mkwargs\u001b[0m\u001b[0;34m)\u001b[0m\u001b[0;34m\u001b[0m\u001b[0;34m\u001b[0m\u001b[0m\n",
            "\u001b[0;32m/usr/local/lib/python3.10/dist-packages/matplotlib/axes/_axes.py\u001b[0m in \u001b[0;36mscatter\u001b[0;34m(self, x, y, s, c, marker, cmap, norm, vmin, vmax, alpha, linewidths, edgecolors, plotnonfinite, **kwargs)\u001b[0m\n\u001b[1;32m   4600\u001b[0m             \u001b[0morig_edgecolor\u001b[0m \u001b[0;34m=\u001b[0m \u001b[0mkwargs\u001b[0m\u001b[0;34m.\u001b[0m\u001b[0mget\u001b[0m\u001b[0;34m(\u001b[0m\u001b[0;34m'edgecolor'\u001b[0m\u001b[0;34m,\u001b[0m \u001b[0;32mNone\u001b[0m\u001b[0;34m)\u001b[0m\u001b[0;34m\u001b[0m\u001b[0;34m\u001b[0m\u001b[0m\n\u001b[1;32m   4601\u001b[0m         \u001b[0mc\u001b[0m\u001b[0;34m,\u001b[0m \u001b[0mcolors\u001b[0m\u001b[0;34m,\u001b[0m \u001b[0medgecolors\u001b[0m \u001b[0;34m=\u001b[0m\u001b[0;31m \u001b[0m\u001b[0;31m\\\u001b[0m\u001b[0;34m\u001b[0m\u001b[0;34m\u001b[0m\u001b[0m\n\u001b[0;32m-> 4602\u001b[0;31m             self._parse_scatter_color_args(\n\u001b[0m\u001b[1;32m   4603\u001b[0m                 \u001b[0mc\u001b[0m\u001b[0;34m,\u001b[0m \u001b[0medgecolors\u001b[0m\u001b[0;34m,\u001b[0m \u001b[0mkwargs\u001b[0m\u001b[0;34m,\u001b[0m \u001b[0mx\u001b[0m\u001b[0;34m.\u001b[0m\u001b[0msize\u001b[0m\u001b[0;34m,\u001b[0m\u001b[0;34m\u001b[0m\u001b[0;34m\u001b[0m\u001b[0m\n\u001b[1;32m   4604\u001b[0m                 get_next_color_func=self._get_patches_for_fill.get_next_color)\n",
            "\u001b[0;32m/usr/local/lib/python3.10/dist-packages/matplotlib/axes/_axes.py\u001b[0m in \u001b[0;36m_parse_scatter_color_args\u001b[0;34m(c, edgecolors, kwargs, xsize, get_next_color_func)\u001b[0m\n\u001b[1;32m   4443\u001b[0m                 \u001b[0;32melse\u001b[0m\u001b[0;34m:\u001b[0m\u001b[0;34m\u001b[0m\u001b[0;34m\u001b[0m\u001b[0m\n\u001b[1;32m   4444\u001b[0m                     \u001b[0;32mif\u001b[0m \u001b[0;32mnot\u001b[0m \u001b[0mvalid_shape\u001b[0m\u001b[0;34m:\u001b[0m\u001b[0;34m\u001b[0m\u001b[0;34m\u001b[0m\u001b[0m\n\u001b[0;32m-> 4445\u001b[0;31m                         \u001b[0;32mraise\u001b[0m \u001b[0minvalid_shape_exception\u001b[0m\u001b[0;34m(\u001b[0m\u001b[0mc\u001b[0m\u001b[0;34m.\u001b[0m\u001b[0msize\u001b[0m\u001b[0;34m,\u001b[0m \u001b[0mxsize\u001b[0m\u001b[0;34m)\u001b[0m \u001b[0;32mfrom\u001b[0m \u001b[0merr\u001b[0m\u001b[0;34m\u001b[0m\u001b[0;34m\u001b[0m\u001b[0m\n\u001b[0m\u001b[1;32m   4446\u001b[0m                     \u001b[0;31m# Both the mapping *and* the RGBA conversion failed: pretty\u001b[0m\u001b[0;34m\u001b[0m\u001b[0;34m\u001b[0m\u001b[0m\n\u001b[1;32m   4447\u001b[0m                     \u001b[0;31m# severe failure => one may appreciate a verbose feedback.\u001b[0m\u001b[0;34m\u001b[0m\u001b[0;34m\u001b[0m\u001b[0m\n",
            "\u001b[0;31mValueError\u001b[0m: 'c' argument has 992 elements, which is inconsistent with 'x' and 'y' with size 969."
          ]
        },
        {
          "output_type": "display_data",
          "data": {
            "text/plain": [
              "<Figure size 640x480 with 1 Axes>"
            ],
            "image/png": "[encoded data removed]"
          },
          "metadata": {}
        }
      ]
    },
    {
      "cell_type": "code",
      "execution_count": 198,
      "metadata": {
        "id": "SNWX-5FCZAVI"
      },
      "outputs": [],
      "source": [
        "y_test, y_pred = yt,yp"
      ]
    },
    {
      "cell_type": "code",
      "execution_count": 168,
      "metadata": {
        "colab": {
          "base_uri": "https://localhost:8080/",
          "height": 206
        },
        "id": "btLiqm2bWP5V",
        "outputId": "e54577c3-55cb-4aa0-b453-2570d95137ce"
      },
      "outputs": [
        {
          "output_type": "execute_result",
          "data": {
            "text/plain": [
              "      GPT-3       CNN      LSTM\n",
              "0  0.987616  0.952621  0.921429\n",
              "1  0.984716  0.910180  0.976744\n",
              "2  0.989035  0.995633  0.847534\n",
              "3  0.986871  0.950991  0.907563\n",
              "4  0.987695  0.955682  0.915340"
            ],
            "text/html": [
              "\n",
              "\n",
              "  <div id=\"df-3eccff7e-422e-4283-a20f-8d148d101981\">\n",
              "    <div class=\"colab-df-container\">\n",
              "      <div>\n",
              "<style scoped>\n",
              "    .dataframe tbody tr th:only-of-type {\n",
              "        vertical-align: middle;\n",
              "    }\n",
              "\n",
              "    .dataframe tbody tr th {\n",
              "        vertical-align: top;\n",
              "    }\n",
              "\n",
              "    .dataframe thead th {\n",
              "        text-align: right;\n",
              "    }\n",
              "</style>\n",
              "<table border=\"1\" class=\"dataframe\">\n",
              "  <thead>\n",
              "    <tr style=\"text-align: right;\">\n",
              "      <th></th>\n",
              "      <th>GPT-3</th>\n",
              "      <th>CNN</th>\n",
              "      <th>LSTM</th>\n",
              "    </tr>\n",
              "  </thead>\n",
              "  <tbody>\n",
              "    <tr>\n",
              "      <th>0</th>\n",
              "      <td>0.987616</td>\n",
              "      <td>0.952621</td>\n",
              "      <td>0.921429</td>\n",
              "    </tr>\n",
              "    <tr>\n",
              "      <th>1</th>\n",
              "      <td>0.984716</td>\n",
              "      <td>0.910180</td>\n",
              "      <td>0.976744</td>\n",
              "    </tr>\n",
              "    <tr>\n",
              "      <th>2</th>\n",
              "      <td>0.989035</td>\n",
              "      <td>0.995633</td>\n",
              "      <td>0.847534</td>\n",
              "    </tr>\n",
              "    <tr>\n",
              "      <th>3</th>\n",
              "      <td>0.986871</td>\n",
              "      <td>0.950991</td>\n",
              "      <td>0.907563</td>\n",
              "    </tr>\n",
              "    <tr>\n",
              "      <th>4</th>\n",
              "      <td>0.987695</td>\n",
              "      <td>0.955682</td>\n",
              "      <td>0.915340</td>\n",
              "    </tr>\n",
              "  </tbody>\n",
              "</table>\n",
              "</div>\n",
              "      <button class=\"colab-df-convert\" onclick=\"convertToInteractive('df-3eccff7e-422e-4283-a20f-8d148d101981')\"\n",
              "              title=\"Convert this dataframe to an interactive table.\"\n",
              "              style=\"display:none;\">\n",
              "\n",
              "  <svg xmlns=\"http://www.w3.org/2000/svg\" height=\"24px\"viewBox=\"0 0 24 24\"\n",
              "       width=\"24px\">\n",
              "    <path d=\"M0 0h24v24H0V0z\" fill=\"none\"/>\n",
              "    <path d=\"M18.56 5.44l.94 2.06.94-2.06 2.06-.94-2.06-.94-.94-2.06-.94 2.06-2.06.94zm-11 1L8.5 8.5l.94-2.06 2.06-.94-2.06-.94L8.5 2.5l-.94 2.06-2.06.94zm10 10l.94 2.06.94-2.06 2.06-.94-2.06-.94-.94-2.06-.94 2.06-2.06.94z\"/><path d=\"M17.41 7.96l-1.37-1.37c-.4-.4-.92-.59-1.43-.59-.52 0-1.04.2-1.43.59L10.3 9.45l-7.72 7.72c-.78.78-.78 2.05 0 2.83L4 21.41c.39.39.9.59 1.41.59.51 0 1.02-.2 1.41-.59l7.78-7.78 2.81-2.81c.8-.78.8-2.07 0-2.86zM5.41 20L4 18.59l7.72-7.72 1.47 1.35L5.41 20z\"/>\n",
              "  </svg>\n",
              "      </button>\n",
              "\n",
              "\n",
              "\n",
              "    <div id=\"df-31bab53f-85a1-4a8e-8f94-15e03d4ea57d\">\n",
              "      <button class=\"colab-df-quickchart\" onclick=\"quickchart('df-31bab53f-85a1-4a8e-8f94-15e03d4ea57d')\"\n",
              "              title=\"Suggest charts.\"\n",
              "              style=\"display:none;\">\n",
              "\n",
              "<svg xmlns=\"http://www.w3.org/2000/svg\" height=\"24px\"viewBox=\"0 0 24 24\"\n",
              "     width=\"24px\">\n",
              "    <g>\n",
              "        <path d=\"M19 3H5c-1.1 0-2 .9-2 2v14c0 1.1.9 2 2 2h14c1.1 0 2-.9 2-2V5c0-1.1-.9-2-2-2zM9 17H7v-7h2v7zm4 0h-2V7h2v10zm4 0h-2v-4h2v4z\"/>\n",
              "    </g>\n",
              "</svg>\n",
              "      </button>\n",
              "    </div>\n",
              "\n",
              "<style>\n",
              "  .colab-df-quickchart {\n",
              "    background-color: #E8F0FE;\n",
              "    border: none;\n",
              "    border-radius: 50%;\n",
              "    cursor: pointer;\n",
              "    display: none;\n",
              "    fill: #1967D2;\n",
              "    height: 32px;\n",
              "    padding: 0 0 0 0;\n",
              "    width: 32px;\n",
              "  }\n",
              "\n",
              "  .colab-df-quickchart:hover {\n",
              "    background-color: #E2EBFA;\n",
              "    box-shadow: 0px 1px 2px rgba(60, 64, 67, 0.3), 0px 1px 3px 1px rgba(60, 64, 67, 0.15);\n",
              "    fill: #174EA6;\n",
              "  }\n",
              "\n",
              "  [theme=dark] .colab-df-quickchart {\n",
              "    background-color: #3B4455;\n",
              "    fill: #D2E3FC;\n",
              "  }\n",
              "\n",
              "  [theme=dark] .colab-df-quickchart:hover {\n",
              "    background-color: #434B5C;\n",
              "    box-shadow: 0px 1px 3px 1px rgba(0, 0, 0, 0.15);\n",
              "    filter: drop-shadow(0px 1px 2px rgba(0, 0, 0, 0.3));\n",
              "    fill: #FFFFFF;\n",
              "  }\n",
              "</style>\n",
              "\n",
              "    <script>\n",
              "      async function quickchart(key) {\n",
              "        const containerElement = document.querySelector('#' + key);\n",
              "        const charts = await google.colab.kernel.invokeFunction(\n",
              "            'suggestCharts', [key], {});\n",
              "      }\n",
              "    </script>\n",
              "\n",
              "      <script>\n",
              "\n",
              "function displayQuickchartButton(domScope) {\n",
              "  let quickchartButtonEl =\n",
              "    domScope.querySelector('#df-31bab53f-85a1-4a8e-8f94-15e03d4ea57d button.colab-df-quickchart');\n",
              "  quickchartButtonEl.style.display =\n",
              "    google.colab.kernel.accessAllowed ? 'block' : 'none';\n",
              "}\n",
              "\n",
              "        displayQuickchartButton(document);\n",
              "      </script>\n",
              "      <style>\n",
              "    .colab-df-container {\n",
              "      display:flex;\n",
              "      flex-wrap:wrap;\n",
              "      gap: 12px;\n",
              "    }\n",
              "\n",
              "    .colab-df-convert {\n",
              "      background-color: #E8F0FE;\n",
              "      border: none;\n",
              "      border-radius: 50%;\n",
              "      cursor: pointer;\n",
              "      display: none;\n",
              "      fill: #1967D2;\n",
              "      height: 32px;\n",
              "      padding: 0 0 0 0;\n",
              "      width: 32px;\n",
              "    }\n",
              "\n",
              "    .colab-df-convert:hover {\n",
              "      background-color: #E2EBFA;\n",
              "      box-shadow: 0px 1px 2px rgba(60, 64, 67, 0.3), 0px 1px 3px 1px rgba(60, 64, 67, 0.15);\n",
              "      fill: #174EA6;\n",
              "    }\n",
              "\n",
              "    [theme=dark] .colab-df-convert {\n",
              "      background-color: #3B4455;\n",
              "      fill: #D2E3FC;\n",
              "    }\n",
              "\n",
              "    [theme=dark] .colab-df-convert:hover {\n",
              "      background-color: #434B5C;\n",
              "      box-shadow: 0px 1px 3px 1px rgba(0, 0, 0, 0.15);\n",
              "      filter: drop-shadow(0px 1px 2px rgba(0, 0, 0, 0.3));\n",
              "      fill: #FFFFFF;\n",
              "    }\n",
              "  </style>\n",
              "\n",
              "      <script>\n",
              "        const buttonEl =\n",
              "          document.querySelector('#df-3eccff7e-422e-4283-a20f-8d148d101981 button.colab-df-convert');\n",
              "        buttonEl.style.display =\n",
              "          google.colab.kernel.accessAllowed ? 'block' : 'none';\n",
              "\n",
              "        async function convertToInteractive(key) {\n",
              "          const element = document.querySelector('#df-3eccff7e-422e-4283-a20f-8d148d101981');\n",
              "          const dataTable =\n",
              "            await google.colab.kernel.invokeFunction('convertToInteractive',\n",
              "                                                     [key], {});\n",
              "          if (!dataTable) return;\n",
              "\n",
              "          const docLinkHtml = 'Like what you see? Visit the ' +\n",
              "            '<a target=\"_blank\" href=https://colab.research.google.com/notebooks/data_table.ipynb>data table notebook</a>'\n",
              "            + ' to learn more about interactive tables.';\n",
              "          element.innerHTML = '';\n",
              "          dataTable['output_type'] = 'display_data';\n",
              "          await google.colab.output.renderOutput(dataTable, element);\n",
              "          const docLink = document.createElement('div');\n",
              "          docLink.innerHTML = docLinkHtml;\n",
              "          element.appendChild(docLink);\n",
              "        }\n",
              "      </script>\n",
              "    </div>\n",
              "  </div>\n"
            ]
          },
          "metadata": {},
          "execution_count": 168
        }
      ],
      "source": [
        "# k = pd.DataFrame()\n",
        "k[f'{name}'] = [accuracy_score(y_test, y_pred),precision_score(y_test, y_pred),recall_score(y_test, y_pred),f1_score(y_test, y_pred),roc_auc_score(y_test, y_pred)]\n",
        "k"
      ]
    },
    {
      "cell_type": "code",
      "source": [
        "name = '(Kumar et al., 2020)'\n",
        "# [95.23,95.97,93.75,94.84,None]"
      ],
      "metadata": {
        "id": "uIp9JHjIkkrg"
      },
      "execution_count": 183,
      "outputs": []
    },
    {
      "cell_type": "code",
      "source": [
        "# k[f'{name}'] = [.9300,.9406,.8730,.9055,None]\n",
        "k"
      ],
      "metadata": {
        "colab": {
          "base_uri": "https://localhost:8080/",
          "height": 206
        },
        "id": "d3czAA_7k14Y",
        "outputId": "f5f96702-95e0-452a-849c-df866154bc15"
      },
      "execution_count": 208,
      "outputs": [
        {
          "output_type": "execute_result",
          "data": {
            "text/plain": [
              "              GPT-3       CNN      LSTM  (Meel et al 2021)  \\\n",
              "accuracy   0.987616  0.952621  0.921429             0.9523   \n",
              "precision  0.984716  0.910180  0.976744             0.9597   \n",
              "recall     0.989035  0.995633  0.847534             0.9375   \n",
              "f1         0.986871  0.950991  0.907563             0.9484   \n",
              "roc-auc    0.987695  0.955682  0.915340                NaN   \n",
              "\n",
              "           (Kumar et al., 2020)  \n",
              "accuracy                 0.9300  \n",
              "precision                0.9406  \n",
              "recall                   0.8730  \n",
              "f1                       0.9055  \n",
              "roc-auc                     NaN  "
            ],
            "text/html": [
              "\n",
              "\n",
              "  <div id=\"df-07caac72-e27d-4523-8222-e6e6a91c810b\">\n",
              "    <div class=\"colab-df-container\">\n",
              "      <div>\n",
              "<style scoped>\n",
              "    .dataframe tbody tr th:only-of-type {\n",
              "        vertical-align: middle;\n",
              "    }\n",
              "\n",
              "    .dataframe tbody tr th {\n",
              "        vertical-align: top;\n",
              "    }\n",
              "\n",
              "    .dataframe thead th {\n",
              "        text-align: right;\n",
              "    }\n",
              "</style>\n",
              "<table border=\"1\" class=\"dataframe\">\n",
              "  <thead>\n",
              "    <tr style=\"text-align: right;\">\n",
              "      <th></th>\n",
              "      <th>GPT-3</th>\n",
              "      <th>CNN</th>\n",
              "      <th>LSTM</th>\n",
              "      <th>(Meel et al 2021)</th>\n",
              "      <th>(Kumar et al., 2020)</th>\n",
              "    </tr>\n",
              "  </thead>\n",
              "  <tbody>\n",
              "    <tr>\n",
              "      <th>accuracy</th>\n",
              "      <td>0.987616</td>\n",
              "      <td>0.952621</td>\n",
              "      <td>0.921429</td>\n",
              "      <td>0.9523</td>\n",
              "      <td>0.9300</td>\n",
              "    </tr>\n",
              "    <tr>\n",
              "      <th>precision</th>\n",
              "      <td>0.984716</td>\n",
              "      <td>0.910180</td>\n",
              "      <td>0.976744</td>\n",
              "      <td>0.9597</td>\n",
              "      <td>0.9406</td>\n",
              "    </tr>\n",
              "    <tr>\n",
              "      <th>recall</th>\n",
              "      <td>0.989035</td>\n",
              "      <td>0.995633</td>\n",
              "      <td>0.847534</td>\n",
              "      <td>0.9375</td>\n",
              "      <td>0.8730</td>\n",
              "    </tr>\n",
              "    <tr>\n",
              "      <th>f1</th>\n",
              "      <td>0.986871</td>\n",
              "      <td>0.950991</td>\n",
              "      <td>0.907563</td>\n",
              "      <td>0.9484</td>\n",
              "      <td>0.9055</td>\n",
              "    </tr>\n",
              "    <tr>\n",
              "      <th>roc-auc</th>\n",
              "      <td>0.987695</td>\n",
              "      <td>0.955682</td>\n",
              "      <td>0.915340</td>\n",
              "      <td>NaN</td>\n",
              "      <td>NaN</td>\n",
              "    </tr>\n",
              "  </tbody>\n",
              "</table>\n",
              "</div>\n",
              "      <button class=\"colab-df-convert\" onclick=\"convertToInteractive('df-07caac72-e27d-4523-8222-e6e6a91c810b')\"\n",
              "              title=\"Convert this dataframe to an interactive table.\"\n",
              "              style=\"display:none;\">\n",
              "\n",
              "  <svg xmlns=\"http://www.w3.org/2000/svg\" height=\"24px\"viewBox=\"0 0 24 24\"\n",
              "       width=\"24px\">\n",
              "    <path d=\"M0 0h24v24H0V0z\" fill=\"none\"/>\n",
              "    <path d=\"M18.56 5.44l.94 2.06.94-2.06 2.06-.94-2.06-.94-.94-2.06-.94 2.06-2.06.94zm-11 1L8.5 8.5l.94-2.06 2.06-.94-2.06-.94L8.5 2.5l-.94 2.06-2.06.94zm10 10l.94 2.06.94-2.06 2.06-.94-2.06-.94-.94-2.06-.94 2.06-2.06.94z\"/><path d=\"M17.41 7.96l-1.37-1.37c-.4-.4-.92-.59-1.43-.59-.52 0-1.04.2-1.43.59L10.3 9.45l-7.72 7.72c-.78.78-.78 2.05 0 2.83L4 21.41c.39.39.9.59 1.41.59.51 0 1.02-.2 1.41-.59l7.78-7.78 2.81-2.81c.8-.78.8-2.07 0-2.86zM5.41 20L4 18.59l7.72-7.72 1.47 1.35L5.41 20z\"/>\n",
              "  </svg>\n",
              "      </button>\n",
              "\n",
              "\n",
              "\n",
              "    <div id=\"df-80bc2ded-96a0-4d5c-9514-46051fd80a0a\">\n",
              "      <button class=\"colab-df-quickchart\" onclick=\"quickchart('df-80bc2ded-96a0-4d5c-9514-46051fd80a0a')\"\n",
              "              title=\"Suggest charts.\"\n",
              "              style=\"display:none;\">\n",
              "\n",
              "<svg xmlns=\"http://www.w3.org/2000/svg\" height=\"24px\"viewBox=\"0 0 24 24\"\n",
              "     width=\"24px\">\n",
              "    <g>\n",
              "        <path d=\"M19 3H5c-1.1 0-2 .9-2 2v14c0 1.1.9 2 2 2h14c1.1 0 2-.9 2-2V5c0-1.1-.9-2-2-2zM9 17H7v-7h2v7zm4 0h-2V7h2v10zm4 0h-2v-4h2v4z\"/>\n",
              "    </g>\n",
              "</svg>\n",
              "      </button>\n",
              "    </div>\n",
              "\n",
              "<style>\n",
              "  .colab-df-quickchart {\n",
              "    background-color: #E8F0FE;\n",
              "    border: none;\n",
              "    border-radius: 50%;\n",
              "    cursor: pointer;\n",
              "    display: none;\n",
              "    fill: #1967D2;\n",
              "    height: 32px;\n",
              "    padding: 0 0 0 0;\n",
              "    width: 32px;\n",
              "  }\n",
              "\n",
              "  .colab-df-quickchart:hover {\n",
              "    background-color: #E2EBFA;\n",
              "    box-shadow: 0px 1px 2px rgba(60, 64, 67, 0.3), 0px 1px 3px 1px rgba(60, 64, 67, 0.15);\n",
              "    fill: #174EA6;\n",
              "  }\n",
              "\n",
              "  [theme=dark] .colab-df-quickchart {\n",
              "    background-color: #3B4455;\n",
              "    fill: #D2E3FC;\n",
              "  }\n",
              "\n",
              "  [theme=dark] .colab-df-quickchart:hover {\n",
              "    background-color: #434B5C;\n",
              "    box-shadow: 0px 1px 3px 1px rgba(0, 0, 0, 0.15);\n",
              "    filter: drop-shadow(0px 1px 2px rgba(0, 0, 0, 0.3));\n",
              "    fill: #FFFFFF;\n",
              "  }\n",
              "</style>\n",
              "\n",
              "    <script>\n",
              "      async function quickchart(key) {\n",
              "        const containerElement = document.querySelector('#' + key);\n",
              "        const charts = await google.colab.kernel.invokeFunction(\n",
              "            'suggestCharts', [key], {});\n",
              "      }\n",
              "    </script>\n",
              "\n",
              "      <script>\n",
              "\n",
              "function displayQuickchartButton(domScope) {\n",
              "  let quickchartButtonEl =\n",
              "    domScope.querySelector('#df-80bc2ded-96a0-4d5c-9514-46051fd80a0a button.colab-df-quickchart');\n",
              "  quickchartButtonEl.style.display =\n",
              "    google.colab.kernel.accessAllowed ? 'block' : 'none';\n",
              "}\n",
              "\n",
              "        displayQuickchartButton(document);\n",
              "      </script>\n",
              "      <style>\n",
              "    .colab-df-container {\n",
              "      display:flex;\n",
              "      flex-wrap:wrap;\n",
              "      gap: 12px;\n",
              "    }\n",
              "\n",
              "    .colab-df-convert {\n",
              "      background-color: #E8F0FE;\n",
              "      border: none;\n",
              "      border-radius: 50%;\n",
              "      cursor: pointer;\n",
              "      display: none;\n",
              "      fill: #1967D2;\n",
              "      height: 32px;\n",
              "      padding: 0 0 0 0;\n",
              "      width: 32px;\n",
              "    }\n",
              "\n",
              "    .colab-df-convert:hover {\n",
              "      background-color: #E2EBFA;\n",
              "      box-shadow: 0px 1px 2px rgba(60, 64, 67, 0.3), 0px 1px 3px 1px rgba(60, 64, 67, 0.15);\n",
              "      fill: #174EA6;\n",
              "    }\n",
              "\n",
              "    [theme=dark] .colab-df-convert {\n",
              "      background-color: #3B4455;\n",
              "      fill: #D2E3FC;\n",
              "    }\n",
              "\n",
              "    [theme=dark] .colab-df-convert:hover {\n",
              "      background-color: #434B5C;\n",
              "      box-shadow: 0px 1px 3px 1px rgba(0, 0, 0, 0.15);\n",
              "      filter: drop-shadow(0px 1px 2px rgba(0, 0, 0, 0.3));\n",
              "      fill: #FFFFFF;\n",
              "    }\n",
              "  </style>\n",
              "\n",
              "      <script>\n",
              "        const buttonEl =\n",
              "          document.querySelector('#df-07caac72-e27d-4523-8222-e6e6a91c810b button.colab-df-convert');\n",
              "        buttonEl.style.display =\n",
              "          google.colab.kernel.accessAllowed ? 'block' : 'none';\n",
              "\n",
              "        async function convertToInteractive(key) {\n",
              "          const element = document.querySelector('#df-07caac72-e27d-4523-8222-e6e6a91c810b');\n",
              "          const dataTable =\n",
              "            await google.colab.kernel.invokeFunction('convertToInteractive',\n",
              "                                                     [key], {});\n",
              "          if (!dataTable) return;\n",
              "\n",
              "          const docLinkHtml = 'Like what you see? Visit the ' +\n",
              "            '<a target=\"_blank\" href=https://colab.research.google.com/notebooks/data_table.ipynb>data table notebook</a>'\n",
              "            + ' to learn more about interactive tables.';\n",
              "          element.innerHTML = '';\n",
              "          dataTable['output_type'] = 'display_data';\n",
              "          await google.colab.output.renderOutput(dataTable, element);\n",
              "          const docLink = document.createElement('div');\n",
              "          docLink.innerHTML = docLinkHtml;\n",
              "          element.appendChild(docLink);\n",
              "        }\n",
              "      </script>\n",
              "    </div>\n",
              "  </div>\n"
            ]
          },
          "metadata": {},
          "execution_count": 208
        }
      ]
    },
    {
      "cell_type": "code",
      "source": [
        "k.drop('3D-LSTM',axis=1,inplace=True)"
      ],
      "metadata": {
        "id": "sNnhCGj4oIXT"
      },
      "execution_count": 186,
      "outputs": []
    },
    {
      "cell_type": "code",
      "source": [
        "k.columns = ['GPT-3', 'CNN', 'LSTM', '(Meel et al 2021)', '(Kumar et al., 2020)']"
      ],
      "metadata": {
        "id": "a5x7JXdRoPr4"
      },
      "execution_count": 189,
      "outputs": []
    },
    {
      "cell_type": "code",
      "execution_count": 190,
      "metadata": {
        "id": "vE_VtLKRWP2i"
      },
      "outputs": [],
      "source": [
        "k.to_csv(f'{path}performance.csv')"
      ]
    },
    {
      "cell_type": "code",
      "execution_count": 191,
      "metadata": {
        "id": "JB4FNwveclnv"
      },
      "outputs": [],
      "source": [
        "k.index = ['accuracy','precision','recall','f1','roc-auc']"
      ]
    },
    {
      "cell_type": "code",
      "execution_count": 192,
      "metadata": {
        "colab": {
          "base_uri": "https://localhost:8080/",
          "height": 472
        },
        "id": "EW-ISl0Bc1IN",
        "outputId": "4f704cf2-2baf-433b-9c9f-2b0990dee02b"
      },
      "outputs": [
        {
          "output_type": "display_data",
          "data": {
            "text/plain": [
              "<Figure size 640x480 with 1 Axes>"
            ],
            "image/png": "[encoded data removed]"
          },
          "metadata": {}
        }
      ],
      "source": [
        "k.plot(kind='barh')\n",
        "plt.xlim(0.83,1.1)\n",
        "plt.xlabel('Percentage %')\n",
        "plt.title('Performance')\n",
        "plt.savefig(f'{path}{name}.png',bbox_inches='tight')"
      ]
    },
    {
      "cell_type": "code",
      "execution_count": 180,
      "metadata": {
        "id": "bDPpgQk3Z2Gq"
      },
      "outputs": [],
      "source": [
        "# name = 'D3-LSTM'\n",
        "dg = pd.read_csv('/content/drive/MyDrive/work 43/results/3D-LSTM.csv')\n",
        "yp,yt = dg['predicted'],dg['real']\n"
      ]
    },
    {
      "cell_type": "code",
      "execution_count": 177,
      "metadata": {
        "id": "4G1-aEPfZ4sr"
      },
      "outputs": [],
      "source": [
        "\n",
        "y1 = np.array(list(yt[yt==1].index))\n",
        "y0 = np.array(list(yt[yt==0].index))\n"
      ]
    },
    {
      "cell_type": "code",
      "source": [
        "dg"
      ],
      "metadata": {
        "colab": {
          "base_uri": "https://localhost:8080/",
          "height": 424
        },
        "id": "6OaUngTOnXTk",
        "outputId": "7465b74a-a672-4c03-9192-2458c655bafa"
      },
      "execution_count": 193,
      "outputs": [
        {
          "output_type": "execute_result",
          "data": {
            "text/plain": [
              "     real  predicted\n",
              "0       0   0.182455\n",
              "1       1   0.171251\n",
              "2       1   0.932704\n",
              "3       1   0.958593\n",
              "4       1   0.948076\n",
              "..    ...        ...\n",
              "975     1   0.192471\n",
              "976     1   0.331876\n",
              "977     1   0.931281\n",
              "978     1   0.970784\n",
              "979     0   0.184712\n",
              "\n",
              "[980 rows x 2 columns]"
            ],
            "text/html": [
              "\n",
              "\n",
              "  <div id=\"df-e4197404-dd58-40e4-b215-fab60faf048a\">\n",
              "    <div class=\"colab-df-container\">\n",
              "      <div>\n",
              "<style scoped>\n",
              "    .dataframe tbody tr th:only-of-type {\n",
              "        vertical-align: middle;\n",
              "    }\n",
              "\n",
              "    .dataframe tbody tr th {\n",
              "        vertical-align: top;\n",
              "    }\n",
              "\n",
              "    .dataframe thead th {\n",
              "        text-align: right;\n",
              "    }\n",
              "</style>\n",
              "<table border=\"1\" class=\"dataframe\">\n",
              "  <thead>\n",
              "    <tr style=\"text-align: right;\">\n",
              "      <th></th>\n",
              "      <th>real</th>\n",
              "      <th>predicted</th>\n",
              "    </tr>\n",
              "  </thead>\n",
              "  <tbody>\n",
              "    <tr>\n",
              "      <th>0</th>\n",
              "      <td>0</td>\n",
              "      <td>0.182455</td>\n",
              "    </tr>\n",
              "    <tr>\n",
              "      <th>1</th>\n",
              "      <td>1</td>\n",
              "      <td>0.171251</td>\n",
              "    </tr>\n",
              "    <tr>\n",
              "      <th>2</th>\n",
              "      <td>1</td>\n",
              "      <td>0.932704</td>\n",
              "    </tr>\n",
              "    <tr>\n",
              "      <th>3</th>\n",
              "      <td>1</td>\n",
              "      <td>0.958593</td>\n",
              "    </tr>\n",
              "    <tr>\n",
              "      <th>4</th>\n",
              "      <td>1</td>\n",
              "      <td>0.948076</td>\n",
              "    </tr>\n",
              "    <tr>\n",
              "      <th>...</th>\n",
              "      <td>...</td>\n",
              "      <td>...</td>\n",
              "    </tr>\n",
              "    <tr>\n",
              "      <th>975</th>\n",
              "      <td>1</td>\n",
              "      <td>0.192471</td>\n",
              "    </tr>\n",
              "    <tr>\n",
              "      <th>976</th>\n",
              "      <td>1</td>\n",
              "      <td>0.331876</td>\n",
              "    </tr>\n",
              "    <tr>\n",
              "      <th>977</th>\n",
              "      <td>1</td>\n",
              "      <td>0.931281</td>\n",
              "    </tr>\n",
              "    <tr>\n",
              "      <th>978</th>\n",
              "      <td>1</td>\n",
              "      <td>0.970784</td>\n",
              "    </tr>\n",
              "    <tr>\n",
              "      <th>979</th>\n",
              "      <td>0</td>\n",
              "      <td>0.184712</td>\n",
              "    </tr>\n",
              "  </tbody>\n",
              "</table>\n",
              "<p>980 rows × 2 columns</p>\n",
              "</div>\n",
              "      <button class=\"colab-df-convert\" onclick=\"convertToInteractive('df-e4197404-dd58-40e4-b215-fab60faf048a')\"\n",
              "              title=\"Convert this dataframe to an interactive table.\"\n",
              "              style=\"display:none;\">\n",
              "\n",
              "  <svg xmlns=\"http://www.w3.org/2000/svg\" height=\"24px\"viewBox=\"0 0 24 24\"\n",
              "       width=\"24px\">\n",
              "    <path d=\"M0 0h24v24H0V0z\" fill=\"none\"/>\n",
              "    <path d=\"M18.56 5.44l.94 2.06.94-2.06 2.06-.94-2.06-.94-.94-2.06-.94 2.06-2.06.94zm-11 1L8.5 8.5l.94-2.06 2.06-.94-2.06-.94L8.5 2.5l-.94 2.06-2.06.94zm10 10l.94 2.06.94-2.06 2.06-.94-2.06-.94-.94-2.06-.94 2.06-2.06.94z\"/><path d=\"M17.41 7.96l-1.37-1.37c-.4-.4-.92-.59-1.43-.59-.52 0-1.04.2-1.43.59L10.3 9.45l-7.72 7.72c-.78.78-.78 2.05 0 2.83L4 21.41c.39.39.9.59 1.41.59.51 0 1.02-.2 1.41-.59l7.78-7.78 2.81-2.81c.8-.78.8-2.07 0-2.86zM5.41 20L4 18.59l7.72-7.72 1.47 1.35L5.41 20z\"/>\n",
              "  </svg>\n",
              "      </button>\n",
              "\n",
              "\n",
              "\n",
              "    <div id=\"df-4eb1dab3-4178-4c22-b043-7558384c1561\">\n",
              "      <button class=\"colab-df-quickchart\" onclick=\"quickchart('df-4eb1dab3-4178-4c22-b043-7558384c1561')\"\n",
              "              title=\"Suggest charts.\"\n",
              "              style=\"display:none;\">\n",
              "\n",
              "<svg xmlns=\"http://www.w3.org/2000/svg\" height=\"24px\"viewBox=\"0 0 24 24\"\n",
              "     width=\"24px\">\n",
              "    <g>\n",
              "        <path d=\"M19 3H5c-1.1 0-2 .9-2 2v14c0 1.1.9 2 2 2h14c1.1 0 2-.9 2-2V5c0-1.1-.9-2-2-2zM9 17H7v-7h2v7zm4 0h-2V7h2v10zm4 0h-2v-4h2v4z\"/>\n",
              "    </g>\n",
              "</svg>\n",
              "      </button>\n",
              "    </div>\n",
              "\n",
              "<style>\n",
              "  .colab-df-quickchart {\n",
              "    background-color: #E8F0FE;\n",
              "    border: none;\n",
              "    border-radius: 50%;\n",
              "    cursor: pointer;\n",
              "    display: none;\n",
              "    fill: #1967D2;\n",
              "    height: 32px;\n",
              "    padding: 0 0 0 0;\n",
              "    width: 32px;\n",
              "  }\n",
              "\n",
              "  .colab-df-quickchart:hover {\n",
              "    background-color: #E2EBFA;\n",
              "    box-shadow: 0px 1px 2px rgba(60, 64, 67, 0.3), 0px 1px 3px 1px rgba(60, 64, 67, 0.15);\n",
              "    fill: #174EA6;\n",
              "  }\n",
              "\n",
              "  [theme=dark] .colab-df-quickchart {\n",
              "    background-color: #3B4455;\n",
              "    fill: #D2E3FC;\n",
              "  }\n",
              "\n",
              "  [theme=dark] .colab-df-quickchart:hover {\n",
              "    background-color: #434B5C;\n",
              "    box-shadow: 0px 1px 3px 1px rgba(0, 0, 0, 0.15);\n",
              "    filter: drop-shadow(0px 1px 2px rgba(0, 0, 0, 0.3));\n",
              "    fill: #FFFFFF;\n",
              "  }\n",
              "</style>\n",
              "\n",
              "    <script>\n",
              "      async function quickchart(key) {\n",
              "        const containerElement = document.querySelector('#' + key);\n",
              "        const charts = await google.colab.kernel.invokeFunction(\n",
              "            'suggestCharts', [key], {});\n",
              "      }\n",
              "    </script>\n",
              "\n",
              "      <script>\n",
              "\n",
              "function displayQuickchartButton(domScope) {\n",
              "  let quickchartButtonEl =\n",
              "    domScope.querySelector('#df-4eb1dab3-4178-4c22-b043-7558384c1561 button.colab-df-quickchart');\n",
              "  quickchartButtonEl.style.display =\n",
              "    google.colab.kernel.accessAllowed ? 'block' : 'none';\n",
              "}\n",
              "\n",
              "        displayQuickchartButton(document);\n",
              "      </script>\n",
              "      <style>\n",
              "    .colab-df-container {\n",
              "      display:flex;\n",
              "      flex-wrap:wrap;\n",
              "      gap: 12px;\n",
              "    }\n",
              "\n",
              "    .colab-df-convert {\n",
              "      background-color: #E8F0FE;\n",
              "      border: none;\n",
              "      border-radius: 50%;\n",
              "      cursor: pointer;\n",
              "      display: none;\n",
              "      fill: #1967D2;\n",
              "      height: 32px;\n",
              "      padding: 0 0 0 0;\n",
              "      width: 32px;\n",
              "    }\n",
              "\n",
              "    .colab-df-convert:hover {\n",
              "      background-color: #E2EBFA;\n",
              "      box-shadow: 0px 1px 2px rgba(60, 64, 67, 0.3), 0px 1px 3px 1px rgba(60, 64, 67, 0.15);\n",
              "      fill: #174EA6;\n",
              "    }\n",
              "\n",
              "    [theme=dark] .colab-df-convert {\n",
              "      background-color: #3B4455;\n",
              "      fill: #D2E3FC;\n",
              "    }\n",
              "\n",
              "    [theme=dark] .colab-df-convert:hover {\n",
              "      background-color: #434B5C;\n",
              "      box-shadow: 0px 1px 3px 1px rgba(0, 0, 0, 0.15);\n",
              "      filter: drop-shadow(0px 1px 2px rgba(0, 0, 0, 0.3));\n",
              "      fill: #FFFFFF;\n",
              "    }\n",
              "  </style>\n",
              "\n",
              "      <script>\n",
              "        const buttonEl =\n",
              "          document.querySelector('#df-e4197404-dd58-40e4-b215-fab60faf048a button.colab-df-convert');\n",
              "        buttonEl.style.display =\n",
              "          google.colab.kernel.accessAllowed ? 'block' : 'none';\n",
              "\n",
              "        async function convertToInteractive(key) {\n",
              "          const element = document.querySelector('#df-e4197404-dd58-40e4-b215-fab60faf048a');\n",
              "          const dataTable =\n",
              "            await google.colab.kernel.invokeFunction('convertToInteractive',\n",
              "                                                     [key], {});\n",
              "          if (!dataTable) return;\n",
              "\n",
              "          const docLinkHtml = 'Like what you see? Visit the ' +\n",
              "            '<a target=\"_blank\" href=https://colab.research.google.com/notebooks/data_table.ipynb>data table notebook</a>'\n",
              "            + ' to learn more about interactive tables.';\n",
              "          element.innerHTML = '';\n",
              "          dataTable['output_type'] = 'display_data';\n",
              "          await google.colab.output.renderOutput(dataTable, element);\n",
              "          const docLink = document.createElement('div');\n",
              "          docLink.innerHTML = docLinkHtml;\n",
              "          element.appendChild(docLink);\n",
              "        }\n",
              "      </script>\n",
              "    </div>\n",
              "  </div>\n"
            ]
          },
          "metadata": {},
          "execution_count": 193
        }
      ]
    },
    {
      "cell_type": "code",
      "execution_count": 194,
      "metadata": {
        "colab": {
          "base_uri": "https://localhost:8080/",
          "height": 447
        },
        "id": "a449_ZI7amOT",
        "outputId": "965b3fe9-3aba-4511-a0f2-2ee27b4c846b"
      },
      "outputs": [
        {
          "output_type": "execute_result",
          "data": {
            "text/plain": [
              "<Axes: ylabel='Count'>"
            ]
          },
          "metadata": {},
          "execution_count": 194
        },
        {
          "output_type": "display_data",
          "data": {
            "text/plain": [
              "<Figure size 640x480 with 1 Axes>"
            ],
            "image/png": "[encoded data removed]"
          },
          "metadata": {}
        }
      ],
      "source": [
        "# name = '3D-LSTM'\n",
        "sns.histplot(dg)\n",
        "# plt.xlabel('probability')\n",
        "# plt.title(f'{name}')\n",
        "# dg.to_csv(f'{path}{name}.csv',index=False)\n",
        "# plt.savefig(f'{path}{name}.png',bbox_inches='tight')"
      ]
    },
    {
      "cell_type": "markdown",
      "metadata": {
        "id": "CV0oeF0csdN9"
      },
      "source": [
        "# Model predict"
      ]
    },
    {
      "cell_type": "code",
      "execution_count": null,
      "metadata": {
        "execution": {
          "iopub.execute_input": "2023-07-10T19:42:15.491717Z",
          "iopub.status.busy": "2023-07-10T19:42:15.490655Z",
          "iopub.status.idle": "2023-07-10T19:42:26.890996Z",
          "shell.execute_reply": "2023-07-10T19:42:26.889869Z",
          "shell.execute_reply.started": "2023-07-10T19:42:15.491668Z"
        },
        "id": "aigtQIi9sdN9"
      },
      "outputs": [],
      "source": [
        "pred = model.predict([X_test, test_mask])\n",
        "final_pred = np.where(pred >= 0.5, 1, 0)\n"
      ]
    },
    {
      "cell_type": "markdown",
      "metadata": {
        "id": "rAGfHOZosdN9"
      },
      "source": [
        "# ROC Curve"
      ]
    },
    {
      "cell_type": "code",
      "execution_count": null,
      "metadata": {
        "execution": {
          "iopub.execute_input": "2023-07-10T19:42:26.89332Z",
          "iopub.status.busy": "2023-07-10T19:42:26.892893Z",
          "iopub.status.idle": "2023-07-10T19:42:27.213245Z",
          "shell.execute_reply": "2023-07-10T19:42:27.212223Z",
          "shell.execute_reply.started": "2023-07-10T19:42:26.89328Z"
        },
        "id": "rE8Dcns-sdN9"
      },
      "outputs": [],
      "source": [
        "fpr, tpr, thresholds = roc_curve(Y_test,pred)\n",
        "roc_auc = auc(fpr, tpr)\n",
        "plt.figure(figsize=(7,5))\n",
        "plt.plot(fpr, tpr, label='ROC curve (area = %0.2f)' % roc_auc,color=\"red\",lw=1.7,marker=\"*\",markersize=5)\n",
        "plt.plot([0, 1], [0, 1],color=\"black\",lw=3)\n",
        "plt.xlim([0.0, 1.0])\n",
        "plt.ylim([0.0, 1.05])\n",
        "plt.xlabel('False Positive Rate')\n",
        "plt.ylabel('True Positive Rate')\n",
        "plt.title('Receiver Operating Characteristic')\n",
        "plt.legend(loc=\"lower right\")\n",
        "plt.show()"
      ]
    },
    {
      "cell_type": "markdown",
      "metadata": {
        "id": "NGmIEdkZsdN9"
      },
      "source": [
        "# Precision-Recall Curve"
      ]
    },
    {
      "cell_type": "code",
      "execution_count": null,
      "metadata": {
        "execution": {
          "iopub.execute_input": "2023-07-10T19:42:27.2181Z",
          "iopub.status.busy": "2023-07-10T19:42:27.214884Z",
          "iopub.status.idle": "2023-07-10T19:42:27.572388Z",
          "shell.execute_reply": "2023-07-10T19:42:27.56947Z",
          "shell.execute_reply.started": "2023-07-10T19:42:27.218069Z"
        },
        "id": "Us4RR6M2sdN9"
      },
      "outputs": [],
      "source": [
        "precision, recall, thresholds = precision_recall_curve(Y_test,pred)\n",
        "ap_score = average_precision_score(Y_test,pred)\n",
        "plt.figure(figsize=(7,5))\n",
        "plt.plot(recall, precision, label='Precision-Recall Curve (AP = %0.2f)' % ap_score,color=\"purple\",lw=2.8)\n",
        "plt.xlabel('Recall')\n",
        "plt.ylabel('Precision')\n",
        "plt.title('Precision-Recall Curve')\n",
        "plt.legend(loc=\"lower left\")\n",
        "plt.show()"
      ]
    },
    {
      "cell_type": "code",
      "execution_count": null,
      "metadata": {
        "execution": {
          "iopub.execute_input": "2023-07-10T19:42:27.575017Z",
          "iopub.status.busy": "2023-07-10T19:42:27.574547Z",
          "iopub.status.idle": "2023-07-10T19:42:27.665473Z",
          "shell.execute_reply": "2023-07-10T19:42:27.664242Z",
          "shell.execute_reply.started": "2023-07-10T19:42:27.574977Z"
        },
        "id": "pYVmdVKJsdN9"
      },
      "outputs": [],
      "source": [
        "roc_auc = roc_auc_score(Y_test, pred)\n",
        "plt.plot([])\n",
        "plt.text(0,0, f'ROC AUC  Score: {roc_auc:.4f}', fontsize=16, ha='center', va='center',color=\"indigo\")\n",
        "plt.axis('off')\n",
        "\n",
        "# Set the x-axis limits\n",
        "plt.xlim(-1, 1)\n",
        "plt.ylim(-1,1)\n",
        "\n",
        "plt.show()"
      ]
    },
    {
      "cell_type": "code",
      "execution_count": null,
      "metadata": {
        "execution": {
          "iopub.execute_input": "2023-07-10T19:42:27.668018Z",
          "iopub.status.busy": "2023-07-10T19:42:27.667311Z",
          "iopub.status.idle": "2023-07-10T19:42:27.770897Z",
          "shell.execute_reply": "2023-07-10T19:42:27.769578Z",
          "shell.execute_reply.started": "2023-07-10T19:42:27.66798Z"
        },
        "id": "wSrtoUvGsdN9"
      },
      "outputs": [],
      "source": [
        "logarithm_loss=log_loss(Y_test,final_pred)\n",
        "plt.plot([])\n",
        "plt.text(0,0, f'Log Loss: {logarithm_loss:.4f}', fontsize=16, ha='center', va='center',color=\"black\")\n",
        "plt.axis('off')\n",
        "\n",
        "# Set the x-axis limits\n",
        "plt.xlim(-1, 1)\n",
        "plt.ylim(-1,1)\n",
        "\n",
        "plt.show()"
      ]
    },
    {
      "cell_type": "code",
      "execution_count": null,
      "metadata": {
        "execution": {
          "iopub.execute_input": "2023-07-10T19:42:27.773814Z",
          "iopub.status.busy": "2023-07-10T19:42:27.772959Z",
          "iopub.status.idle": "2023-07-10T19:42:27.933523Z",
          "shell.execute_reply": "2023-07-10T19:42:27.930319Z",
          "shell.execute_reply.started": "2023-07-10T19:42:27.773773Z"
        },
        "id": "hHDz7ZqTsdN9"
      },
      "outputs": [],
      "source": [
        "kappa = cohen_kappa_score(Y_test,final_pred)\n",
        "plt.plot([])\n",
        "plt.text(0,0, f'Cohen Kappa Score: {kappa:.4f}', fontsize=16, ha='center', va='center',color=\"orangered\")\n",
        "plt.axis('off')\n",
        "\n",
        "# Set the x-axis limits\n",
        "plt.xlim(-1, 1)\n",
        "plt.ylim(-1,1)\n",
        "\n",
        "plt.show()"
      ]
    },
    {
      "cell_type": "code",
      "execution_count": null,
      "metadata": {
        "execution": {
          "iopub.execute_input": "2023-07-10T19:42:27.945644Z",
          "iopub.status.busy": "2023-07-10T19:42:27.942288Z",
          "iopub.status.idle": "2023-07-10T19:42:28.056323Z",
          "shell.execute_reply": "2023-07-10T19:42:28.054809Z",
          "shell.execute_reply.started": "2023-07-10T19:42:27.945585Z"
        },
        "id": "Li-5mkOzsdN-"
      },
      "outputs": [],
      "source": [
        "mcc = matthews_corrcoef(Y_test, final_pred)\n",
        "\n",
        "# Create a plot and display the MCC value as text\n",
        "plt.plot([])\n",
        "plt.text(0,0, f'Matthews Correlation Coefficient: {mcc:.4f}', fontsize=16, ha='center', va='center',color=\"saddlebrown\")\n",
        "plt.axis('off')\n",
        "\n",
        "# Set the x-axis limits\n",
        "plt.xlim(-1, 1)\n",
        "plt.ylim(-1,1)\n",
        "\n",
        "plt.show()\n"
      ]
    },
    {
      "cell_type": "markdown",
      "metadata": {
        "id": "O6HTYe7usdN-"
      },
      "source": [
        "# Confusion Matrix"
      ]
    },
    {
      "cell_type": "code",
      "execution_count": null,
      "metadata": {
        "execution": {
          "iopub.execute_input": "2023-07-10T19:42:28.066739Z",
          "iopub.status.busy": "2023-07-10T19:42:28.063023Z",
          "iopub.status.idle": "2023-07-10T19:42:28.430179Z",
          "shell.execute_reply": "2023-07-10T19:42:28.429068Z",
          "shell.execute_reply.started": "2023-07-10T19:42:28.066674Z"
        },
        "id": "BmLGaWCgsdN-"
      },
      "outputs": [],
      "source": [
        "label_name = [\"Non Disaster\", \"Disaster\"]\n",
        "plt.figure(figsize=(7, 5))\n",
        "cm = confusion_matrix(Y_test, final_pred)\n",
        "sns.heatmap(cm, annot=True, cmap=\"rainbow\",fmt=\"d\",lw=6,linecolor=\"black\",xticklabels=label_name, yticklabels=label_name)\n",
        "plt.title(\"Confusion Matrix\")\n",
        "plt.xlabel(\"Predicted\")\n",
        "plt.ylabel(\"Actual\")\n",
        "plt.show()\n",
        "\n"
      ]
    },
    {
      "cell_type": "markdown",
      "metadata": {
        "id": "peHXwhZOsdN-"
      },
      "source": [
        "# Classification Report"
      ]
    },
    {
      "cell_type": "code",
      "execution_count": null,
      "metadata": {
        "execution": {
          "iopub.execute_input": "2023-07-10T19:42:28.433031Z",
          "iopub.status.busy": "2023-07-10T19:42:28.432202Z",
          "iopub.status.idle": "2023-07-10T19:42:28.452778Z",
          "shell.execute_reply": "2023-07-10T19:42:28.451916Z",
          "shell.execute_reply.started": "2023-07-10T19:42:28.43299Z"
        },
        "id": "fi2_d-ZDsdN-"
      },
      "outputs": [],
      "source": [
        "print(classification_report(Y_test,final_pred,target_names=label_name))"
      ]
    },
    {
      "cell_type": "markdown",
      "metadata": {
        "id": "4j6rpBvJsdN-"
      },
      "source": [
        "# Test Data Analysis\n"
      ]
    },
    {
      "cell_type": "code",
      "execution_count": null,
      "metadata": {
        "execution": {
          "iopub.execute_input": "2023-07-10T19:42:28.455503Z",
          "iopub.status.busy": "2023-07-10T19:42:28.454623Z",
          "iopub.status.idle": "2023-07-10T19:42:28.50568Z",
          "shell.execute_reply": "2023-07-10T19:42:28.504543Z",
          "shell.execute_reply.started": "2023-07-10T19:42:28.45546Z"
        },
        "id": "ZoFqNAOpsdN-"
      },
      "outputs": [],
      "source": [
        "df_test=pd.read_csv(\"/kaggle/input/nlp-getting-started/test.csv\")"
      ]
    },
    {
      "cell_type": "code",
      "execution_count": null,
      "metadata": {
        "execution": {
          "iopub.execute_input": "2023-07-10T19:42:28.508156Z",
          "iopub.status.busy": "2023-07-10T19:42:28.507712Z",
          "iopub.status.idle": "2023-07-10T19:42:28.522848Z",
          "shell.execute_reply": "2023-07-10T19:42:28.521345Z",
          "shell.execute_reply.started": "2023-07-10T19:42:28.508117Z"
        },
        "id": "riWFrFs5sdN-"
      },
      "outputs": [],
      "source": [
        "df_test.head()"
      ]
    },
    {
      "cell_type": "code",
      "execution_count": null,
      "metadata": {
        "execution": {
          "iopub.execute_input": "2023-07-10T19:42:28.525659Z",
          "iopub.status.busy": "2023-07-10T19:42:28.525108Z",
          "iopub.status.idle": "2023-07-10T19:42:28.547645Z",
          "shell.execute_reply": "2023-07-10T19:42:28.54622Z",
          "shell.execute_reply.started": "2023-07-10T19:42:28.525617Z"
        },
        "id": "c0GgBT9ssdN-"
      },
      "outputs": [],
      "source": [
        "df_test.info()"
      ]
    },
    {
      "cell_type": "code",
      "execution_count": null,
      "metadata": {
        "execution": {
          "iopub.execute_input": "2023-07-10T19:42:28.550511Z",
          "iopub.status.busy": "2023-07-10T19:42:28.549663Z",
          "iopub.status.idle": "2023-07-10T19:42:28.570433Z",
          "shell.execute_reply": "2023-07-10T19:42:28.569358Z",
          "shell.execute_reply.started": "2023-07-10T19:42:28.550465Z"
        },
        "id": "bKAOw2AysdN-"
      },
      "outputs": [],
      "source": [
        "df_test.describe()"
      ]
    },
    {
      "cell_type": "code",
      "execution_count": null,
      "metadata": {
        "execution": {
          "iopub.execute_input": "2023-07-10T19:42:28.573271Z",
          "iopub.status.busy": "2023-07-10T19:42:28.572087Z",
          "iopub.status.idle": "2023-07-10T19:42:28.587616Z",
          "shell.execute_reply": "2023-07-10T19:42:28.58628Z",
          "shell.execute_reply.started": "2023-07-10T19:42:28.573231Z"
        },
        "id": "4xJZxkVqsdN-"
      },
      "outputs": [],
      "source": [
        "df_test.isnull().sum()"
      ]
    },
    {
      "cell_type": "code",
      "execution_count": null,
      "metadata": {
        "execution": {
          "iopub.execute_input": "2023-07-10T19:42:28.592126Z",
          "iopub.status.busy": "2023-07-10T19:42:28.59172Z",
          "iopub.status.idle": "2023-07-10T19:42:28.601158Z",
          "shell.execute_reply": "2023-07-10T19:42:28.600093Z",
          "shell.execute_reply.started": "2023-07-10T19:42:28.592093Z"
        },
        "id": "nZ7KQJNSsdN_"
      },
      "outputs": [],
      "source": [
        "df_test.drop([\"keyword\",\"location\"],axis=1,inplace=True)"
      ]
    },
    {
      "cell_type": "code",
      "execution_count": null,
      "metadata": {
        "execution": {
          "iopub.execute_input": "2023-07-10T19:42:28.604564Z",
          "iopub.status.busy": "2023-07-10T19:42:28.602849Z",
          "iopub.status.idle": "2023-07-10T19:42:28.625486Z",
          "shell.execute_reply": "2023-07-10T19:42:28.624185Z",
          "shell.execute_reply.started": "2023-07-10T19:42:28.604525Z"
        },
        "id": "QON5rNUKsdN_"
      },
      "outputs": [],
      "source": [
        "df_test.head()"
      ]
    },
    {
      "cell_type": "code",
      "execution_count": null,
      "metadata": {
        "execution": {
          "iopub.execute_input": "2023-07-10T19:42:28.629076Z",
          "iopub.status.busy": "2023-07-10T19:42:28.628317Z",
          "iopub.status.idle": "2023-07-10T19:42:28.637087Z",
          "shell.execute_reply": "2023-07-10T19:42:28.635705Z",
          "shell.execute_reply.started": "2023-07-10T19:42:28.629036Z"
        },
        "id": "LuoyBhvRsdN_"
      },
      "outputs": [],
      "source": [
        "test_text=df_test[\"text\"]"
      ]
    },
    {
      "cell_type": "code",
      "execution_count": null,
      "metadata": {
        "execution": {
          "iopub.execute_input": "2023-07-10T19:42:28.639957Z",
          "iopub.status.busy": "2023-07-10T19:42:28.639501Z",
          "iopub.status.idle": "2023-07-10T19:42:28.650932Z",
          "shell.execute_reply": "2023-07-10T19:42:28.649508Z",
          "shell.execute_reply.started": "2023-07-10T19:42:28.639915Z"
        },
        "id": "y3Iz4duGsdN_"
      },
      "outputs": [],
      "source": [
        "def xlnet_encode(final_text_data, max_len):\n",
        "    input_ids = []\n",
        "    attention_masks = []\n",
        "\n",
        "    for i in range(len(final_text_data)):\n",
        "        encode_data = xlnet_tokenizer.encode_plus(final_text_data[i], add_special_tokens=True, max_length=max_len, pad_to_max_length=True, return_attention_mask=True)\n",
        "        input_ids.append(encode_data['input_ids'])\n",
        "        attention_masks.append(encode_data[\"attention_mask\"])\n",
        "\n",
        "    return np.array(input_ids), np.array(attention_masks)"
      ]
    },
    {
      "cell_type": "code",
      "execution_count": null,
      "metadata": {
        "execution": {
          "iopub.execute_input": "2023-07-10T19:42:28.655041Z",
          "iopub.status.busy": "2023-07-10T19:42:28.653779Z",
          "iopub.status.idle": "2023-07-10T19:42:29.909588Z",
          "shell.execute_reply": "2023-07-10T19:42:29.908546Z",
          "shell.execute_reply.started": "2023-07-10T19:42:28.655Z"
        },
        "id": "iw_6MGbxsdN_"
      },
      "outputs": [],
      "source": [
        "text_input_ids,text_attention_masks = xlnet_encode(test_text,max_len)"
      ]
    },
    {
      "cell_type": "code",
      "execution_count": null,
      "metadata": {
        "execution": {
          "iopub.execute_input": "2023-07-10T19:42:29.911846Z",
          "iopub.status.busy": "2023-07-10T19:42:29.910984Z",
          "iopub.status.idle": "2023-07-10T19:42:50.456176Z",
          "shell.execute_reply": "2023-07-10T19:42:50.454998Z",
          "shell.execute_reply.started": "2023-07-10T19:42:29.911809Z"
        },
        "id": "_mJYM5uDsdN_"
      },
      "outputs": [],
      "source": [
        "text_input_ids = np.array(text_input_ids)\n",
        "text_attention_masks = np.array(text_attention_masks)\n",
        "my_pred = model.predict([text_input_ids, text_attention_masks])\n",
        "predicted_labels = np.where(my_pred >= 0.5, 1, 0)\n",
        "df_test['target'] = predicted_labels\n"
      ]
    },
    {
      "cell_type": "code",
      "execution_count": null,
      "metadata": {
        "execution": {
          "iopub.execute_input": "2023-07-10T19:42:50.459523Z",
          "iopub.status.busy": "2023-07-10T19:42:50.457958Z",
          "iopub.status.idle": "2023-07-10T19:42:50.472531Z",
          "shell.execute_reply": "2023-07-10T19:42:50.471228Z",
          "shell.execute_reply.started": "2023-07-10T19:42:50.459482Z"
        },
        "id": "cDbGZkHysdN_"
      },
      "outputs": [],
      "source": [
        "df_test.head(10)"
      ]
    },
    {
      "cell_type": "code",
      "execution_count": null,
      "metadata": {
        "execution": {
          "iopub.execute_input": "2023-07-10T19:42:50.474959Z",
          "iopub.status.busy": "2023-07-10T19:42:50.474503Z",
          "iopub.status.idle": "2023-07-10T19:42:50.489114Z",
          "shell.execute_reply": "2023-07-10T19:42:50.487904Z",
          "shell.execute_reply.started": "2023-07-10T19:42:50.474914Z"
        },
        "id": "5eqSuAQmsdN_"
      },
      "outputs": [],
      "source": [
        "df_test[\"target\"].value_counts()"
      ]
    },
    {
      "cell_type": "code",
      "execution_count": null,
      "metadata": {
        "execution": {
          "iopub.execute_input": "2023-07-10T19:42:50.492104Z",
          "iopub.status.busy": "2023-07-10T19:42:50.491216Z",
          "iopub.status.idle": "2023-07-10T19:42:50.510044Z",
          "shell.execute_reply": "2023-07-10T19:42:50.508874Z",
          "shell.execute_reply.started": "2023-07-10T19:42:50.492065Z"
        },
        "id": "w2Cc_QVFsdN_"
      },
      "outputs": [],
      "source": [
        "df0=df_test.copy()\n",
        "df0.drop(\"text\",axis=1,inplace=True)\n",
        "df0.to_csv(\"my_submission.csv\",index=False)"
      ]
    },
    {
      "cell_type": "code",
      "execution_count": null,
      "metadata": {
        "id": "A5h9g0ZbsdN_"
      },
      "outputs": [],
      "source": []
    },
    {
      "cell_type": "markdown",
      "metadata": {
        "id": "CYnT1Wi1sdN6"
      },
      "source": [
        "# Encode Data"
      ]
    },
    {
      "cell_type": "code",
      "execution_count": null,
      "metadata": {
        "execution": {
          "iopub.execute_input": "2023-07-10T19:19:24.610324Z",
          "iopub.status.busy": "2023-07-10T19:19:24.60991Z",
          "iopub.status.idle": "2023-07-10T19:19:24.618253Z",
          "shell.execute_reply": "2023-07-10T19:19:24.617033Z",
          "shell.execute_reply.started": "2023-07-10T19:19:24.610295Z"
        },
        "id": "5qqXXVRjsdN6"
      },
      "outputs": [],
      "source": [
        "def xlnet_encode(final_text_data, max_len):\n",
        "    input_ids = []\n",
        "    attention_masks = []\n",
        "\n",
        "    for i in range(len(final_text_data)):\n",
        "        encode_data = xlnet_tokenizer.encode_plus(final_text_data[i], add_special_tokens=True, max_length=max_len, pad_to_max_length=True, return_attention_mask=True)\n",
        "        input_ids.append(encode_data['input_ids'])\n",
        "        attention_masks.append(encode_data[\"attention_mask\"])\n",
        "\n",
        "    return np.array(input_ids), np.array(attention_masks)\n"
      ]
    },
    {
      "cell_type": "code",
      "execution_count": null,
      "metadata": {
        "colab": {
          "base_uri": "https://localhost:8080/"
        },
        "execution": {
          "iopub.execute_input": "2023-07-10T19:19:24.620399Z",
          "iopub.status.busy": "2023-07-10T19:19:24.619869Z",
          "iopub.status.idle": "2023-07-10T19:19:28.101901Z",
          "shell.execute_reply": "2023-07-10T19:19:28.100806Z",
          "shell.execute_reply.started": "2023-07-10T19:19:24.620361Z"
        },
        "id": "OJpbxOutsdN6",
        "outputId": "90455178-00be-49ca-c5cc-3908dcfae227"
      },
      "outputs": [
        {
          "name": "stderr",
          "output_type": "stream",
          "text": [
            "Truncation was not explicitly activated but `max_length` is provided a specific value, please use `truncation=True` to explicitly truncate examples to max length. Defaulting to 'longest_first' truncation strategy. If you encode pairs of sequences (GLUE-style) with the tokenizer you can select this strategy more precisely by providing a specific strategy to `truncation`.\n",
            "/usr/local/lib/python3.10/dist-packages/transformers/tokenization_utils_base.py:2377: FutureWarning: The `pad_to_max_length` argument is deprecated and will be removed in a future version, use `padding=True` or `padding='longest'` to pad to the longest sequence in the batch, or use `padding='max_length'` to pad to a max length. In this case, you can give a specific length with `max_length` (e.g. `max_length=45`) or leave max_length to None to pad to the maximal input size of the model (e.g. 512 for Bert).\n",
            "  warnings.warn(\n"
          ]
        }
      ],
      "source": [
        "text_input_ids,text_attention_masks = xlnet_encode(text_data,max_len)"
      ]
    },
    {
      "cell_type": "code",
      "execution_count": null,
      "metadata": {
        "colab": {
          "base_uri": "https://localhost:8080/"
        },
        "execution": {
          "iopub.execute_input": "2023-07-10T19:19:28.104041Z",
          "iopub.status.busy": "2023-07-10T19:19:28.103646Z",
          "iopub.status.idle": "2023-07-10T19:19:28.113831Z",
          "shell.execute_reply": "2023-07-10T19:19:28.112778Z",
          "shell.execute_reply.started": "2023-07-10T19:19:28.104006Z"
        },
        "id": "hjpTN0o9sdN6",
        "outputId": "c6a469a7-77ac-47fa-a0c4-f828116fa369"
      },
      "outputs": [
        {
          "name": "stdout",
          "output_type": "stream",
          "text": [
            "Text Input Ids Shape (7613, 30) \n",
            "Text Input Attention Mask Shape (7613, 30) \n",
            "Label Data shape (7613,)\n"
          ]
        }
      ],
      "source": [
        "print('Text Input Ids Shape {} \\nText Input Attention Mask Shape {} \\nLabel Data shape {}'.format(text_input_ids.shape,text_attention_masks.shape,label_data.shape))"
      ]
    },
    {
      "cell_type": "code",
      "execution_count": null,
      "metadata": {
        "execution": {
          "iopub.execute_input": "2023-07-10T19:19:28.116301Z",
          "iopub.status.busy": "2023-07-10T19:19:28.115845Z",
          "iopub.status.idle": "2023-07-10T19:19:28.128252Z",
          "shell.execute_reply": "2023-07-10T19:19:28.127045Z",
          "shell.execute_reply.started": "2023-07-10T19:19:28.116266Z"
        },
        "id": "jdwWvyzXsdN7"
      },
      "outputs": [],
      "source": [
        "X_train,X_test,Y_train,Y_test,train_mask,test_mask=train_test_split(text_input_ids,label_data,text_attention_masks,test_size=0.2,random_state=42,shuffle=True)"
      ]
    },
    {
      "cell_type": "code",
      "execution_count": null,
      "metadata": {
        "colab": {
          "base_uri": "https://localhost:8080/"
        },
        "execution": {
          "iopub.execute_input": "2023-07-10T19:19:28.131477Z",
          "iopub.status.busy": "2023-07-10T19:19:28.129824Z",
          "iopub.status.idle": "2023-07-10T19:19:28.13832Z",
          "shell.execute_reply": "2023-07-10T19:19:28.13719Z",
          "shell.execute_reply.started": "2023-07-10T19:19:28.13144Z"
        },
        "id": "ZfM5oRn9sdN7",
        "outputId": "1fc57983-2fe0-48a6-9a04-050926dfd9e8"
      },
      "outputs": [
        {
          "name": "stdout",
          "output_type": "stream",
          "text": [
            "Train input shape (6090, 30)\n",
            "Test input shape (1523, 30)\n",
            "Train label shape (6090,)\n",
            "Test label shape (1523,)\n",
            "Train attention mask shape (6090, 30)\n",
            "Test attention mask shape (1523, 30)\n"
          ]
        }
      ],
      "source": [
        "print('Train input shape {}\\nTest input shape {}\\nTrain label shape {}\\nTest label shape {}\\nTrain attention mask shape {}\\nTest attention mask shape {}'.format(X_train.shape,X_test.shape,Y_train.shape,Y_test.shape,train_mask.shape,test_mask.shape))"
      ]
    },
    {
      "cell_type": "markdown",
      "metadata": {
        "id": "oy9k3e0CsdN6"
      },
      "source": [
        "# XLNET Tokenizer,Model"
      ]
    },
    {
      "cell_type": "code",
      "execution_count": null,
      "metadata": {
        "id": "YIxJ4sRe2W7y"
      },
      "outputs": [],
      "source": [
        "from transformers import AutoTokenizer"
      ]
    },
    {
      "cell_type": "code",
      "execution_count": null,
      "metadata": {
        "id": "4Y33RnBxoNLX"
      },
      "outputs": [],
      "source": [
        "xlnet_tokenizer = AutoTokenizer.from_pretrained('xlnet-base-cased')"
      ]
    },
    {
      "cell_type": "code",
      "execution_count": null,
      "metadata": {
        "id": "5C-UnpN8uQ4O"
      },
      "outputs": [],
      "source": [
        "from transformers import TFAutoModel"
      ]
    },
    {
      "cell_type": "code",
      "execution_count": null,
      "metadata": {
        "colab": {
          "base_uri": "https://localhost:8080/"
        },
        "id": "ryMVVI-kuXli",
        "outputId": "510348b2-9811-4c10-e965-0b5dc78a1a4d"
      },
      "outputs": [
        {
          "name": "stderr",
          "output_type": "stream",
          "text": [
            "/usr/local/lib/python3.10/dist-packages/keras/initializers/initializers.py:120: UserWarning: The initializer TruncatedNormal is unseeded and being called multiple times, which will return identical values each time (even if the initializer is unseeded). Please update your code to provide a seed to the initializer, or avoid using the same initalizer instance more than once.\n",
            "  warnings.warn(\n",
            "Some layers from the model checkpoint at xlnet-base-cased were not used when initializing TFXLNetModel: ['lm_loss']\n",
            "- This IS expected if you are initializing TFXLNetModel from the checkpoint of a model trained on another task or with another architecture (e.g. initializing a BertForSequenceClassification model from a BertForPreTraining model).\n",
            "- This IS NOT expected if you are initializing TFXLNetModel from the checkpoint of a model that you expect to be exactly identical (initializing a BertForSequenceClassification model from a BertForSequenceClassification model).\n",
            "All the layers of TFXLNetModel were initialized from the model checkpoint at xlnet-base-cased.\n",
            "If your task is similar to the task the model of the checkpoint was trained on, you can already use TFXLNetModel for predictions without further training.\n"
          ]
        }
      ],
      "source": [
        "xlnet_model = TFAutoModel.from_pretrained('xlnet-base-cased')"
      ]
    },
    {
      "cell_type": "markdown",
      "metadata": {
        "id": "7umpw-eAsdN7"
      },
      "source": [
        "# Create XLNET Model"
      ]
    },
    {
      "cell_type": "code",
      "execution_count": null,
      "metadata": {
        "execution": {
          "iopub.execute_input": "2023-07-10T19:19:28.140402Z",
          "iopub.status.busy": "2023-07-10T19:19:28.140013Z",
          "iopub.status.idle": "2023-07-10T19:19:28.150388Z",
          "shell.execute_reply": "2023-07-10T19:19:28.149269Z",
          "shell.execute_reply.started": "2023-07-10T19:19:28.140368Z"
        },
        "id": "7z8R2hFdsdN7"
      },
      "outputs": [],
      "source": [
        "def Create_XLNet_Model():\n",
        "    input_ids = tf.keras.Input(shape=(max_len,), dtype=\"int32\")\n",
        "    attention_masks = tf.keras.Input(shape=(max_len,), dtype=\"int32\")\n",
        "\n",
        "    output = xlnet_model(input_ids=input_ids, attention_mask=attention_masks)[0]\n",
        "\n",
        "    output = tf.keras.layers.GlobalMaxPooling1D()(output)\n",
        "\n",
        "    # dense_1 = tf.keras.layers.Dense(256, activation=\"tanh\")(output)\n",
        "    # dense_2 = tf.keras.layers.Dense(128, activation=\"tanh\")(dense_1)\n",
        "\n",
        "    # dense_3 = tf.keras.layers.Dense(64, activation=\"tanh\")(dense_2)\n",
        "    dense_3 = tf.keras.layers.Dense(64, activation=\"relu\")(output)\n",
        "\n",
        "\n",
        "    dropout = tf.keras.layers.Dropout(0.2)(dense_3)\n",
        "    output_layer = tf.keras.layers.Dense(1, activation=\"sigmoid\")(dropout)\n",
        "\n",
        "    model = tf.keras.models.Model(inputs=[input_ids, attention_masks], outputs=output_layer)\n",
        "    return model\n",
        "\n",
        "\n",
        "\n"
      ]
    },
    {
      "cell_type": "code",
      "execution_count": null,
      "metadata": {
        "colab": {
          "base_uri": "https://localhost:8080/"
        },
        "execution": {
          "iopub.execute_input": "2023-07-10T19:19:28.152706Z",
          "iopub.status.busy": "2023-07-10T19:19:28.152024Z",
          "iopub.status.idle": "2023-07-10T19:19:36.805472Z",
          "shell.execute_reply": "2023-07-10T19:19:36.804544Z",
          "shell.execute_reply.started": "2023-07-10T19:19:28.152664Z"
        },
        "id": "zpeBp_5GsdN8",
        "outputId": "e450256a-ee5c-4f08-cfda-d8d85f488e9e"
      },
      "outputs": [
        {
          "name": "stdout",
          "output_type": "stream",
          "text": [
            "Model: \"model\"\n",
            "__________________________________________________________________________________________________\n",
            " Layer (type)                   Output Shape         Param #     Connected to                     \n",
            "==================================================================================================\n",
            " input_1 (InputLayer)           [(None, 30)]         0           []                               \n",
            "                                                                                                  \n",
            " input_2 (InputLayer)           [(None, 30)]         0           []                               \n",
            "                                                                                                  \n",
            " tfxl_net_model_2 (TFXLNetModel  TFXLNetModelOutput(  116718336  ['input_1[0][0]',                \n",
            " )                              last_hidden_state=(               'input_2[0][0]']                \n",
            "                                None, 30, 768),                                                   \n",
            "                                 mems=((30, None, 7                                               \n",
            "                                68),                                                              \n",
            "                                 (30, None, 768),                                                 \n",
            "                                 (30, None, 768),                                                 \n",
            "                                 (30, None, 768),                                                 \n",
            "                                 (30, None, 768),                                                 \n",
            "                                 (30, None, 768),                                                 \n",
            "                                 (30, None, 768),                                                 \n",
            "                                 (30, None, 768),                                                 \n",
            "                                 (30, None, 768),                                                 \n",
            "                                 (30, None, 768),                                                 \n",
            "                                 (30, None, 768),                                                 \n",
            "                                 (30, None, 768)),                                                \n",
            "                                 hidden_states=None                                               \n",
            "                                , attentions=None)                                                \n",
            "                                                                                                  \n",
            " global_max_pooling1d (GlobalMa  (None, 768)         0           ['tfxl_net_model_2[0][0]']       \n",
            " xPooling1D)                                                                                      \n",
            "                                                                                                  \n",
            " dense (Dense)                  (None, 64)           49216       ['global_max_pooling1d[0][0]']   \n",
            "                                                                                                  \n",
            " dropout (Dropout)              (None, 64)           0           ['dense[0][0]']                  \n",
            "                                                                                                  \n",
            " dense_1 (Dense)                (None, 1)            65          ['dropout[0][0]']                \n",
            "                                                                                                  \n",
            "==================================================================================================\n",
            "Total params: 116,767,617\n",
            "Trainable params: 116,767,617\n",
            "Non-trainable params: 0\n",
            "__________________________________________________________________________________________________\n"
          ]
        }
      ],
      "source": [
        "tf.keras.backend.clear_session()\n",
        "model = Create_XLNet_Model()\n",
        "\n",
        "learning_rate = 1e-5\n",
        "beta_1=0.9\n",
        "beta_2=0.98\n",
        "epsilon=1e-9\n",
        "optimizer = tf.keras.optimizers.Adam(learning_rate=learning_rate,\n",
        "                                    #  beta_1=beta_1,\n",
        "                                    #  beta_2=beta_2,\n",
        "                                    #  epsilon=epsilon\n",
        "                                     )\n",
        "\n",
        "loss = \"binary_crossentropy\"\n",
        "metric = \"accuracy\"\n",
        "model.compile(optimizer=optimizer, loss=loss, metrics=[metric])\n",
        "\n",
        "model.summary()\n"
      ]
    },
    {
      "cell_type": "code",
      "execution_count": null,
      "metadata": {
        "execution": {
          "iopub.execute_input": "2023-07-10T19:19:36.807469Z",
          "iopub.status.busy": "2023-07-10T19:19:36.806728Z",
          "iopub.status.idle": "2023-07-10T19:19:37.921459Z",
          "shell.execute_reply": "2023-07-10T19:19:37.919251Z",
          "shell.execute_reply.started": "2023-07-10T19:19:36.807432Z"
        },
        "id": "BS8Cis5NsdN8"
      },
      "outputs": [],
      "source": [
        "# plot_model(model, to_file='model_architecture.png', show_shapes=True)\n",
        "# plt.figure(figsize=(25, 15))\n",
        "# img = plt.imread('model_architecture.png')\n",
        "# plt.imshow(img)\n",
        "# plt.axis('off')\n",
        "# plt.show()\n"
      ]
    },
    {
      "cell_type": "code",
      "execution_count": null,
      "metadata": {
        "execution": {
          "iopub.execute_input": "2023-07-10T19:19:37.924122Z",
          "iopub.status.busy": "2023-07-10T19:19:37.923443Z",
          "iopub.status.idle": "2023-07-10T19:19:37.930096Z",
          "shell.execute_reply": "2023-07-10T19:19:37.928702Z",
          "shell.execute_reply.started": "2023-07-10T19:19:37.924085Z"
        },
        "id": "lHaZtzgSsdN8"
      },
      "outputs": [],
      "source": [
        "\n",
        "early_stopping = EarlyStopping(monitor='val_loss', patience=10, restore_best_weights=True)\n",
        "\n"
      ]
    },
    {
      "cell_type": "code",
      "execution_count": null,
      "metadata": {
        "colab": {
          "base_uri": "https://localhost:8080/"
        },
        "execution": {
          "iopub.execute_input": "2023-07-10T19:19:37.932477Z",
          "iopub.status.busy": "2023-07-10T19:19:37.932022Z",
          "iopub.status.idle": "2023-07-10T19:42:14.806202Z",
          "shell.execute_reply": "2023-07-10T19:42:14.804874Z",
          "shell.execute_reply.started": "2023-07-10T19:19:37.932439Z"
        },
        "id": "61BdFov4sdN8",
        "outputId": "88141377-ea94-4513-bd26-10f5a6301484"
      },
      "outputs": [
        {
          "name": "stderr",
          "output_type": "stream",
          "text": [
            "WARNING:tensorflow:Gradients do not exist for variables ['tfxl_net_model/transformer/mask_emb:0', 'tfxl_net_model/transformer/layer_._0/rel_attn/r_s_bias:0', 'tfxl_net_model/transformer/layer_._0/rel_attn/seg_embed:0', 'tfxl_net_model/transformer/layer_._1/rel_attn/r_s_bias:0', 'tfxl_net_model/transformer/layer_._1/rel_attn/seg_embed:0', 'tfxl_net_model/transformer/layer_._2/rel_attn/r_s_bias:0', 'tfxl_net_model/transformer/layer_._2/rel_attn/seg_embed:0', 'tfxl_net_model/transformer/layer_._3/rel_attn/r_s_bias:0', 'tfxl_net_model/transformer/layer_._3/rel_attn/seg_embed:0', 'tfxl_net_model/transformer/layer_._4/rel_attn/r_s_bias:0', 'tfxl_net_model/transformer/layer_._4/rel_attn/seg_embed:0', 'tfxl_net_model/transformer/layer_._5/rel_attn/r_s_bias:0', 'tfxl_net_model/transformer/layer_._5/rel_attn/seg_embed:0', 'tfxl_net_model/transformer/layer_._6/rel_attn/r_s_bias:0', 'tfxl_net_model/transformer/layer_._6/rel_attn/seg_embed:0', 'tfxl_net_model/transformer/layer_._7/rel_attn/r_s_bias:0', 'tfxl_net_model/transformer/layer_._7/rel_attn/seg_embed:0', 'tfxl_net_model/transformer/layer_._8/rel_attn/r_s_bias:0', 'tfxl_net_model/transformer/layer_._8/rel_attn/seg_embed:0', 'tfxl_net_model/transformer/layer_._9/rel_attn/r_s_bias:0', 'tfxl_net_model/transformer/layer_._9/rel_attn/seg_embed:0', 'tfxl_net_model/transformer/layer_._10/rel_attn/r_s_bias:0', 'tfxl_net_model/transformer/layer_._10/rel_attn/seg_embed:0', 'tfxl_net_model/transformer/layer_._11/rel_attn/r_s_bias:0', 'tfxl_net_model/transformer/layer_._11/rel_attn/seg_embed:0'] when minimizing the loss. If you're using `model.compile()`, did you forget to provide a `loss` argument?\n",
            "WARNING:tensorflow:Gradients do not exist for variables ['tfxl_net_model/transformer/mask_emb:0', 'tfxl_net_model/transformer/layer_._0/rel_attn/r_s_bias:0', 'tfxl_net_model/transformer/layer_._0/rel_attn/seg_embed:0', 'tfxl_net_model/transformer/layer_._1/rel_attn/r_s_bias:0', 'tfxl_net_model/transformer/layer_._1/rel_attn/seg_embed:0', 'tfxl_net_model/transformer/layer_._2/rel_attn/r_s_bias:0', 'tfxl_net_model/transformer/layer_._2/rel_attn/seg_embed:0', 'tfxl_net_model/transformer/layer_._3/rel_attn/r_s_bias:0', 'tfxl_net_model/transformer/layer_._3/rel_attn/seg_embed:0', 'tfxl_net_model/transformer/layer_._4/rel_attn/r_s_bias:0', 'tfxl_net_model/transformer/layer_._4/rel_attn/seg_embed:0', 'tfxl_net_model/transformer/layer_._5/rel_attn/r_s_bias:0', 'tfxl_net_model/transformer/layer_._5/rel_attn/seg_embed:0', 'tfxl_net_model/transformer/layer_._6/rel_attn/r_s_bias:0', 'tfxl_net_model/transformer/layer_._6/rel_attn/seg_embed:0', 'tfxl_net_model/transformer/layer_._7/rel_attn/r_s_bias:0', 'tfxl_net_model/transformer/layer_._7/rel_attn/seg_embed:0', 'tfxl_net_model/transformer/layer_._8/rel_attn/r_s_bias:0', 'tfxl_net_model/transformer/layer_._8/rel_attn/seg_embed:0', 'tfxl_net_model/transformer/layer_._9/rel_attn/r_s_bias:0', 'tfxl_net_model/transformer/layer_._9/rel_attn/seg_embed:0', 'tfxl_net_model/transformer/layer_._10/rel_attn/r_s_bias:0', 'tfxl_net_model/transformer/layer_._10/rel_attn/seg_embed:0', 'tfxl_net_model/transformer/layer_._11/rel_attn/r_s_bias:0', 'tfxl_net_model/transformer/layer_._11/rel_attn/seg_embed:0'] when minimizing the loss. If you're using `model.compile()`, did you forget to provide a `loss` argument?\n",
            "WARNING:tensorflow:Gradients do not exist for variables ['tfxl_net_model/transformer/mask_emb:0', 'tfxl_net_model/transformer/layer_._0/rel_attn/r_s_bias:0', 'tfxl_net_model/transformer/layer_._0/rel_attn/seg_embed:0', 'tfxl_net_model/transformer/layer_._1/rel_attn/r_s_bias:0', 'tfxl_net_model/transformer/layer_._1/rel_attn/seg_embed:0', 'tfxl_net_model/transformer/layer_._2/rel_attn/r_s_bias:0', 'tfxl_net_model/transformer/layer_._2/rel_attn/seg_embed:0', 'tfxl_net_model/transformer/layer_._3/rel_attn/r_s_bias:0', 'tfxl_net_model/transformer/layer_._3/rel_attn/seg_embed:0', 'tfxl_net_model/transformer/layer_._4/rel_attn/r_s_bias:0', 'tfxl_net_model/transformer/layer_._4/rel_attn/seg_embed:0', 'tfxl_net_model/transformer/layer_._5/rel_attn/r_s_bias:0', 'tfxl_net_model/transformer/layer_._5/rel_attn/seg_embed:0', 'tfxl_net_model/transformer/layer_._6/rel_attn/r_s_bias:0', 'tfxl_net_model/transformer/layer_._6/rel_attn/seg_embed:0', 'tfxl_net_model/transformer/layer_._7/rel_attn/r_s_bias:0', 'tfxl_net_model/transformer/layer_._7/rel_attn/seg_embed:0', 'tfxl_net_model/transformer/layer_._8/rel_attn/r_s_bias:0', 'tfxl_net_model/transformer/layer_._8/rel_attn/seg_embed:0', 'tfxl_net_model/transformer/layer_._9/rel_attn/r_s_bias:0', 'tfxl_net_model/transformer/layer_._9/rel_attn/seg_embed:0', 'tfxl_net_model/transformer/layer_._10/rel_attn/r_s_bias:0', 'tfxl_net_model/transformer/layer_._10/rel_attn/seg_embed:0', 'tfxl_net_model/transformer/layer_._11/rel_attn/r_s_bias:0', 'tfxl_net_model/transformer/layer_._11/rel_attn/seg_embed:0'] when minimizing the loss. If you're using `model.compile()`, did you forget to provide a `loss` argument?\n",
            "WARNING:tensorflow:Gradients do not exist for variables ['tfxl_net_model/transformer/mask_emb:0', 'tfxl_net_model/transformer/layer_._0/rel_attn/r_s_bias:0', 'tfxl_net_model/transformer/layer_._0/rel_attn/seg_embed:0', 'tfxl_net_model/transformer/layer_._1/rel_attn/r_s_bias:0', 'tfxl_net_model/transformer/layer_._1/rel_attn/seg_embed:0', 'tfxl_net_model/transformer/layer_._2/rel_attn/r_s_bias:0', 'tfxl_net_model/transformer/layer_._2/rel_attn/seg_embed:0', 'tfxl_net_model/transformer/layer_._3/rel_attn/r_s_bias:0', 'tfxl_net_model/transformer/layer_._3/rel_attn/seg_embed:0', 'tfxl_net_model/transformer/layer_._4/rel_attn/r_s_bias:0', 'tfxl_net_model/transformer/layer_._4/rel_attn/seg_embed:0', 'tfxl_net_model/transformer/layer_._5/rel_attn/r_s_bias:0', 'tfxl_net_model/transformer/layer_._5/rel_attn/seg_embed:0', 'tfxl_net_model/transformer/layer_._6/rel_attn/r_s_bias:0', 'tfxl_net_model/transformer/layer_._6/rel_attn/seg_embed:0', 'tfxl_net_model/transformer/layer_._7/rel_attn/r_s_bias:0', 'tfxl_net_model/transformer/layer_._7/rel_attn/seg_embed:0', 'tfxl_net_model/transformer/layer_._8/rel_attn/r_s_bias:0', 'tfxl_net_model/transformer/layer_._8/rel_attn/seg_embed:0', 'tfxl_net_model/transformer/layer_._9/rel_attn/r_s_bias:0', 'tfxl_net_model/transformer/layer_._9/rel_attn/seg_embed:0', 'tfxl_net_model/transformer/layer_._10/rel_attn/r_s_bias:0', 'tfxl_net_model/transformer/layer_._10/rel_attn/seg_embed:0', 'tfxl_net_model/transformer/layer_._11/rel_attn/r_s_bias:0', 'tfxl_net_model/transformer/layer_._11/rel_attn/seg_embed:0'] when minimizing the loss. If you're using `model.compile()`, did you forget to provide a `loss` argument?\n"
          ]
        },
        {
          "name": "stdout",
          "output_type": "stream",
          "text": [
            "191/191 [==============================] - 121s 364ms/step - loss: 0.6405 - accuracy: 0.7140 - val_loss: 0.4813 - val_accuracy: 0.7892\n"
          ]
        }
      ],
      "source": [
        "# history = model.fit(x=[X_train, train_mask],y=Y_train,validation_data=([X_test, test_mask], Y_test),\n",
        "#                     epochs=10,batch_size=32,callbacks=[early_stopping])"
      ]
    },
    {
      "cell_type": "code",
      "execution_count": null,
      "metadata": {
        "colab": {
          "base_uri": "https://localhost:8080/"
        },
        "id": "3hwzzqsJCFla",
        "outputId": "8aad5ac5-6de9-4db9-f405-1f5b1128d9c7"
      },
      "outputs": [
        {
          "name": "stdout",
          "output_type": "stream",
          "text": [
            "Epoch 1/4\n"
          ]
        },
        {
          "ename": "ValueError",
          "evalue": "ignored",
          "output_type": "error",
          "traceback": [
            "\u001b[0;31m---------------------------------------------------------------------------\u001b[0m",
            "\u001b[0;31mValueError\u001b[0m                                Traceback (most recent call last)",
            "\u001b[0;32m<ipython-input-155-1d1c0b5d01c6>\u001b[0m in \u001b[0;36m<cell line: 3>\u001b[0;34m()\u001b[0m\n\u001b[1;32m      1\u001b[0m \u001b[0mnum_epochs\u001b[0m \u001b[0;34m=\u001b[0m \u001b[0;36m4\u001b[0m\u001b[0;34m\u001b[0m\u001b[0;34m\u001b[0m\u001b[0m\n\u001b[1;32m      2\u001b[0m \u001b[0;31m# early_stop = EarlyStopping(monitor='val_accuracy', patience=6,restore_best_weights=True)\u001b[0m\u001b[0;34m\u001b[0m\u001b[0;34m\u001b[0m\u001b[0m\n\u001b[0;32m----> 3\u001b[0;31m history = model.fit(train,\n\u001b[0m\u001b[1;32m      4\u001b[0m                     \u001b[0;31m# batch_size=32,\u001b[0m\u001b[0;34m\u001b[0m\u001b[0;34m\u001b[0m\u001b[0m\n\u001b[1;32m      5\u001b[0m                     \u001b[0mepochs\u001b[0m\u001b[0;34m=\u001b[0m\u001b[0mnum_epochs\u001b[0m\u001b[0;34m,\u001b[0m\u001b[0;34m\u001b[0m\u001b[0;34m\u001b[0m\u001b[0m\n",
            "\u001b[0;32m/usr/local/lib/python3.10/dist-packages/keras/utils/traceback_utils.py\u001b[0m in \u001b[0;36merror_handler\u001b[0;34m(*args, **kwargs)\u001b[0m\n\u001b[1;32m     68\u001b[0m             \u001b[0;31m# To get the full stack trace, call:\u001b[0m\u001b[0;34m\u001b[0m\u001b[0;34m\u001b[0m\u001b[0m\n\u001b[1;32m     69\u001b[0m             \u001b[0;31m# `tf.debugging.disable_traceback_filtering()`\u001b[0m\u001b[0;34m\u001b[0m\u001b[0;34m\u001b[0m\u001b[0m\n\u001b[0;32m---> 70\u001b[0;31m             \u001b[0;32mraise\u001b[0m \u001b[0me\u001b[0m\u001b[0;34m.\u001b[0m\u001b[0mwith_traceback\u001b[0m\u001b[0;34m(\u001b[0m\u001b[0mfiltered_tb\u001b[0m\u001b[0;34m)\u001b[0m \u001b[0;32mfrom\u001b[0m \u001b[0;32mNone\u001b[0m\u001b[0;34m\u001b[0m\u001b[0;34m\u001b[0m\u001b[0m\n\u001b[0m\u001b[1;32m     71\u001b[0m         \u001b[0;32mfinally\u001b[0m\u001b[0;34m:\u001b[0m\u001b[0;34m\u001b[0m\u001b[0;34m\u001b[0m\u001b[0m\n\u001b[1;32m     72\u001b[0m             \u001b[0;32mdel\u001b[0m \u001b[0mfiltered_tb\u001b[0m\u001b[0;34m\u001b[0m\u001b[0;34m\u001b[0m\u001b[0m\n",
            "\u001b[0;32m/usr/local/lib/python3.10/dist-packages/keras/engine/training.py\u001b[0m in \u001b[0;36mtf__train_function\u001b[0;34m(iterator)\u001b[0m\n\u001b[1;32m     13\u001b[0m                 \u001b[0;32mtry\u001b[0m\u001b[0;34m:\u001b[0m\u001b[0;34m\u001b[0m\u001b[0;34m\u001b[0m\u001b[0m\n\u001b[1;32m     14\u001b[0m                     \u001b[0mdo_return\u001b[0m \u001b[0;34m=\u001b[0m \u001b[0;32mTrue\u001b[0m\u001b[0;34m\u001b[0m\u001b[0;34m\u001b[0m\u001b[0m\n\u001b[0;32m---> 15\u001b[0;31m                     \u001b[0mretval_\u001b[0m \u001b[0;34m=\u001b[0m \u001b[0mag__\u001b[0m\u001b[0;34m.\u001b[0m\u001b[0mconverted_call\u001b[0m\u001b[0;34m(\u001b[0m\u001b[0mag__\u001b[0m\u001b[0;34m.\u001b[0m\u001b[0mld\u001b[0m\u001b[0;34m(\u001b[0m\u001b[0mstep_function\u001b[0m\u001b[0;34m)\u001b[0m\u001b[0;34m,\u001b[0m \u001b[0;34m(\u001b[0m\u001b[0mag__\u001b[0m\u001b[0;34m.\u001b[0m\u001b[0mld\u001b[0m\u001b[0;34m(\u001b[0m\u001b[0mself\u001b[0m\u001b[0;34m)\u001b[0m\u001b[0;34m,\u001b[0m \u001b[0mag__\u001b[0m\u001b[0;34m.\u001b[0m\u001b[0mld\u001b[0m\u001b[0;34m(\u001b[0m\u001b[0miterator\u001b[0m\u001b[0;34m)\u001b[0m\u001b[0;34m)\u001b[0m\u001b[0;34m,\u001b[0m \u001b[0;32mNone\u001b[0m\u001b[0;34m,\u001b[0m \u001b[0mfscope\u001b[0m\u001b[0;34m)\u001b[0m\u001b[0;34m\u001b[0m\u001b[0;34m\u001b[0m\u001b[0m\n\u001b[0m\u001b[1;32m     16\u001b[0m                 \u001b[0;32mexcept\u001b[0m\u001b[0;34m:\u001b[0m\u001b[0;34m\u001b[0m\u001b[0;34m\u001b[0m\u001b[0m\n\u001b[1;32m     17\u001b[0m                     \u001b[0mdo_return\u001b[0m \u001b[0;34m=\u001b[0m \u001b[0;32mFalse\u001b[0m\u001b[0;34m\u001b[0m\u001b[0;34m\u001b[0m\u001b[0m\n",
            "\u001b[0;31mValueError\u001b[0m: in user code:\n\n    File \"/usr/local/lib/python3.10/dist-packages/keras/engine/training.py\", line 1284, in train_function  *\n        return step_function(self, iterator)\n    File \"/usr/local/lib/python3.10/dist-packages/keras/engine/training.py\", line 1268, in step_function  **\n        outputs = model.distribute_strategy.run(run_step, args=(data,))\n    File \"/usr/local/lib/python3.10/dist-packages/keras/engine/training.py\", line 1249, in run_step  **\n        outputs = model.train_step(data)\n    File \"/usr/local/lib/python3.10/dist-packages/keras/engine/training.py\", line 1050, in train_step\n        y_pred = self(x, training=True)\n    File \"/usr/local/lib/python3.10/dist-packages/keras/utils/traceback_utils.py\", line 70, in error_handler\n        raise e.with_traceback(filtered_tb) from None\n    File \"/usr/local/lib/python3.10/dist-packages/keras/engine/input_spec.py\", line 197, in assert_input_compatibility\n        raise ValueError(\n\n    ValueError: Missing data for input \"input_1\". You passed a data dictionary with keys ['input_ids', 'attention_mask']. Expected the following keys: ['input_1', 'input_2']\n"
          ]
        }
      ],
      "source": [
        "num_epochs = 4\n",
        "# early_stop = EarlyStopping(monitor='val_accuracy', patience=6,restore_best_weights=True)\n",
        "history = model.fit(train,\n",
        "                    # batch_size=32,\n",
        "                    epochs=num_epochs,\n",
        "                    # validati0on_split=0.2,\n",
        "                    validation_data=[val],\n",
        "                    # callbacks =[\n",
        "                        # learning_rate_reduction,\n",
        "                                # es\n",
        "                                # ],\n",
        "                    # verbose=0\n",
        "                    )"
      ]
    },
    {
      "cell_type": "code",
      "execution_count": null,
      "metadata": {
        "colab": {
          "base_uri": "https://localhost:8080/"
        },
        "execution": {
          "iopub.execute_input": "2023-07-10T19:42:14.819715Z",
          "iopub.status.busy": "2023-07-10T19:42:14.818869Z",
          "iopub.status.idle": "2023-07-10T19:42:15.152249Z",
          "shell.execute_reply": "2023-07-10T19:42:15.151162Z",
          "shell.execute_reply.started": "2023-07-10T19:42:14.819663Z"
        },
        "id": "ByA297RSsdN8",
        "outputId": "53da4386-cb3b-415c-a2b2-c4c491914ea7"
      },
      "outputs": [
        {
          "data": {
            "image/png": "[encoded data removed]",
            "text/plain": [
              "<Figure size 700x500 with 1 Axes>"
            ]
          },
          "metadata": {},
          "output_type": "display_data"
        }
      ],
      "source": [
        "plt.figure(figsize=(7,5))\n",
        "plt.plot(history.history['loss'],lw=2,marker=\"*\",markersize=10,color=\"red\",label=\"Loss\")\n",
        "plt.plot(history.history['val_loss'],lw=2,marker=\"P\",markersize=10,color=\"green\",label=\"Validation_Loss\")\n",
        "plt.title('Model Loss')\n",
        "plt.ylabel('Loss')\n",
        "plt.xlabel('Epoch')\n",
        "plt.legend(loc=\"best\")\n",
        "plt.show()"
      ]
    },
    {
      "cell_type": "code",
      "execution_count": null,
      "metadata": {
        "colab": {
          "base_uri": "https://localhost:8080/"
        },
        "execution": {
          "iopub.execute_input": "2023-07-10T19:42:15.154986Z",
          "iopub.status.busy": "2023-07-10T19:42:15.154228Z",
          "iopub.status.idle": "2023-07-10T19:42:15.489181Z",
          "shell.execute_reply": "2023-07-10T19:42:15.488172Z",
          "shell.execute_reply.started": "2023-07-10T19:42:15.154947Z"
        },
        "id": "UnsOsocBsdN8",
        "outputId": "385692e3-0523-4684-dedd-8490e4d4fe34"
      },
      "outputs": [
        {
          "data": {
            "image/png": "[encoded data removed]",
            "text/plain": [
              "<Figure size 700x500 with 1 Axes>"
            ]
          },
          "metadata": {},
          "output_type": "display_data"
        }
      ],
      "source": [
        "plt.figure(figsize=(7,5))\n",
        "plt.plot(history.history['accuracy'],lw=2,marker=\"H\",markersize=10,color=\"purple\",label=\"Accuracy\")\n",
        "plt.plot(history.history['val_accuracy'],lw=2,marker=\"D\",markersize=10,color=\"crimson\",label=\"Validation_Accuracy\")\n",
        "plt.title('Model Accuracy')\n",
        "plt.ylabel('Accuracy')\n",
        "plt.xlabel('Epoch')\n",
        "plt.legend(loc=\"best\")\n",
        "plt.show()"
      ]
    }
  ],
  "metadata": {
    "colab": {
      "gpuType": "T4",
      "provenance": [],
      "include_colab_link": true
    },
    "kernelspec": {
      "display_name": "Python 3",
      "name": "python3"
    },
    "language_info": {
      "codemirror_mode": {
        "name": "ipython",
        "version": 3
      },
      "file_extension": ".py",
      "mimetype": "text/x-python",
      "name": "python",
      "nbconvert_exporter": "python",
      "pygments_lexer": "ipython3",
      "version": "3.11.4"
    },
    "widgets": {
      "application/vnd.jupyter.widget-state+json": {
        "ffef6f45a13e429ba0c460eb128412b4": {
          "model_module": "@jupyter-widgets/controls",
          "model_name": "HBoxModel",
          "model_module_version": "1.5.0",
          "state": {
            "_dom_classes": [],
            "_model_module": "@jupyter-widgets/controls",
            "_model_module_version": "1.5.0",
            "_model_name": "HBoxModel",
            "_view_count": null,
            "_view_module": "@jupyter-widgets/controls",
            "_view_module_version": "1.5.0",
            "_view_name": "HBoxView",
            "box_style": "",
            "children": [
              "IPY_MODEL_fb250ca3fe1647b8ba7a22c369ec7c0b",
              "IPY_MODEL_8f73f0c75d114ef193619d34746c82ac",
              "IPY_MODEL_82d3cce60c18442bb83e8c18204bdf1e"
            ],
            "layout": "IPY_MODEL_fc5ccb238576495aaae6f760e1d74fae"
          }
        },
        "fb250ca3fe1647b8ba7a22c369ec7c0b": {
          "model_module": "@jupyter-widgets/controls",
          "model_name": "HTMLModel",
          "model_module_version": "1.5.0",
          "state": {
            "_dom_classes": [],
            "_model_module": "@jupyter-widgets/controls",
            "_model_module_version": "1.5.0",
            "_model_name": "HTMLModel",
            "_view_count": null,
            "_view_module": "@jupyter-widgets/controls",
            "_view_module_version": "1.5.0",
            "_view_name": "HTMLView",
            "description": "",
            "description_tooltip": null,
            "layout": "IPY_MODEL_72d208e4e3554ad88147dc98370dcc7c",
            "placeholder": "​",
            "style": "IPY_MODEL_c9c1672ed67847a7a9c5ad4dbeda5f6a",
            "value": "Downloading (…)lve/main/config.json: 100%"
          }
        },
        "8f73f0c75d114ef193619d34746c82ac": {
          "model_module": "@jupyter-widgets/controls",
          "model_name": "FloatProgressModel",
          "model_module_version": "1.5.0",
          "state": {
            "_dom_classes": [],
            "_model_module": "@jupyter-widgets/controls",
            "_model_module_version": "1.5.0",
            "_model_name": "FloatProgressModel",
            "_view_count": null,
            "_view_module": "@jupyter-widgets/controls",
            "_view_module_version": "1.5.0",
            "_view_name": "ProgressView",
            "bar_style": "success",
            "description": "",
            "description_tooltip": null,
            "layout": "IPY_MODEL_ba1ffb143a374990b0d5f9ea08b820a0",
            "max": 684,
            "min": 0,
            "orientation": "horizontal",
            "style": "IPY_MODEL_48b4e40a23e74d2d9105b1746295412d",
            "value": 684
          }
        },
        "82d3cce60c18442bb83e8c18204bdf1e": {
          "model_module": "@jupyter-widgets/controls",
          "model_name": "HTMLModel",
          "model_module_version": "1.5.0",
          "state": {
            "_dom_classes": [],
            "_model_module": "@jupyter-widgets/controls",
            "_model_module_version": "1.5.0",
            "_model_name": "HTMLModel",
            "_view_count": null,
            "_view_module": "@jupyter-widgets/controls",
            "_view_module_version": "1.5.0",
            "_view_name": "HTMLView",
            "description": "",
            "description_tooltip": null,
            "layout": "IPY_MODEL_39ba91423daf49189e9b468aba0551e2",
            "placeholder": "​",
            "style": "IPY_MODEL_54c34c0a09c2468f9a34c243b4729fe1",
            "value": " 684/684 [00:00&lt;00:00, 25.9kB/s]"
          }
        },
        "fc5ccb238576495aaae6f760e1d74fae": {
          "model_module": "@jupyter-widgets/base",
          "model_name": "LayoutModel",
          "model_module_version": "1.2.0",
          "state": {
            "_model_module": "@jupyter-widgets/base",
            "_model_module_version": "1.2.0",
            "_model_name": "LayoutModel",
            "_view_count": null,
            "_view_module": "@jupyter-widgets/base",
            "_view_module_version": "1.2.0",
            "_view_name": "LayoutView",
            "align_content": null,
            "align_items": null,
            "align_self": null,
            "border": null,
            "bottom": null,
            "display": null,
            "flex": null,
            "flex_flow": null,
            "grid_area": null,
            "grid_auto_columns": null,
            "grid_auto_flow": null,
            "grid_auto_rows": null,
            "grid_column": null,
            "grid_gap": null,
            "grid_row": null,
            "grid_template_areas": null,
            "grid_template_columns": null,
            "grid_template_rows": null,
            "height": null,
            "justify_content": null,
            "justify_items": null,
            "left": null,
            "margin": null,
            "max_height": null,
            "max_width": null,
            "min_height": null,
            "min_width": null,
            "object_fit": null,
            "object_position": null,
            "order": null,
            "overflow": null,
            "overflow_x": null,
            "overflow_y": null,
            "padding": null,
            "right": null,
            "top": null,
            "visibility": null,
            "width": null
          }
        },
        "72d208e4e3554ad88147dc98370dcc7c": {
          "model_module": "@jupyter-widgets/base",
          "model_name": "LayoutModel",
          "model_module_version": "1.2.0",
          "state": {
            "_model_module": "@jupyter-widgets/base",
            "_model_module_version": "1.2.0",
            "_model_name": "LayoutModel",
            "_view_count": null,
            "_view_module": "@jupyter-widgets/base",
            "_view_module_version": "1.2.0",
            "_view_name": "LayoutView",
            "align_content": null,
            "align_items": null,
            "align_self": null,
            "border": null,
            "bottom": null,
            "display": null,
            "flex": null,
            "flex_flow": null,
            "grid_area": null,
            "grid_auto_columns": null,
            "grid_auto_flow": null,
            "grid_auto_rows": null,
            "grid_column": null,
            "grid_gap": null,
            "grid_row": null,
            "grid_template_areas": null,
            "grid_template_columns": null,
            "grid_template_rows": null,
            "height": null,
            "justify_content": null,
            "justify_items": null,
            "left": null,
            "margin": null,
            "max_height": null,
            "max_width": null,
            "min_height": null,
            "min_width": null,
            "object_fit": null,
            "object_position": null,
            "order": null,
            "overflow": null,
            "overflow_x": null,
            "overflow_y": null,
            "padding": null,
            "right": null,
            "top": null,
            "visibility": null,
            "width": null
          }
        },
        "c9c1672ed67847a7a9c5ad4dbeda5f6a": {
          "model_module": "@jupyter-widgets/controls",
          "model_name": "DescriptionStyleModel",
          "model_module_version": "1.5.0",
          "state": {
            "_model_module": "@jupyter-widgets/controls",
            "_model_module_version": "1.5.0",
            "_model_name": "DescriptionStyleModel",
            "_view_count": null,
            "_view_module": "@jupyter-widgets/base",
            "_view_module_version": "1.2.0",
            "_view_name": "StyleView",
            "description_width": ""
          }
        },
        "ba1ffb143a374990b0d5f9ea08b820a0": {
          "model_module": "@jupyter-widgets/base",
          "model_name": "LayoutModel",
          "model_module_version": "1.2.0",
          "state": {
            "_model_module": "@jupyter-widgets/base",
            "_model_module_version": "1.2.0",
            "_model_name": "LayoutModel",
            "_view_count": null,
            "_view_module": "@jupyter-widgets/base",
            "_view_module_version": "1.2.0",
            "_view_name": "LayoutView",
            "align_content": null,
            "align_items": null,
            "align_self": null,
            "border": null,
            "bottom": null,
            "display": null,
            "flex": null,
            "flex_flow": null,
            "grid_area": null,
            "grid_auto_columns": null,
            "grid_auto_flow": null,
            "grid_auto_rows": null,
            "grid_column": null,
            "grid_gap": null,
            "grid_row": null,
            "grid_template_areas": null,
            "grid_template_columns": null,
            "grid_template_rows": null,
            "height": null,
            "justify_content": null,
            "justify_items": null,
            "left": null,
            "margin": null,
            "max_height": null,
            "max_width": null,
            "min_height": null,
            "min_width": null,
            "object_fit": null,
            "object_position": null,
            "order": null,
            "overflow": null,
            "overflow_x": null,
            "overflow_y": null,
            "padding": null,
            "right": null,
            "top": null,
            "visibility": null,
            "width": null
          }
        },
        "48b4e40a23e74d2d9105b1746295412d": {
          "model_module": "@jupyter-widgets/controls",
          "model_name": "ProgressStyleModel",
          "model_module_version": "1.5.0",
          "state": {
            "_model_module": "@jupyter-widgets/controls",
            "_model_module_version": "1.5.0",
            "_model_name": "ProgressStyleModel",
            "_view_count": null,
            "_view_module": "@jupyter-widgets/base",
            "_view_module_version": "1.2.0",
            "_view_name": "StyleView",
            "bar_color": null,
            "description_width": ""
          }
        },
        "39ba91423daf49189e9b468aba0551e2": {
          "model_module": "@jupyter-widgets/base",
          "model_name": "LayoutModel",
          "model_module_version": "1.2.0",
          "state": {
            "_model_module": "@jupyter-widgets/base",
            "_model_module_version": "1.2.0",
            "_model_name": "LayoutModel",
            "_view_count": null,
            "_view_module": "@jupyter-widgets/base",
            "_view_module_version": "1.2.0",
            "_view_name": "LayoutView",
            "align_content": null,
            "align_items": null,
            "align_self": null,
            "border": null,
            "bottom": null,
            "display": null,
            "flex": null,
            "flex_flow": null,
            "grid_area": null,
            "grid_auto_columns": null,
            "grid_auto_flow": null,
            "grid_auto_rows": null,
            "grid_column": null,
            "grid_gap": null,
            "grid_row": null,
            "grid_template_areas": null,
            "grid_template_columns": null,
            "grid_template_rows": null,
            "height": null,
            "justify_content": null,
            "justify_items": null,
            "left": null,
            "margin": null,
            "max_height": null,
            "max_width": null,
            "min_height": null,
            "min_width": null,
            "object_fit": null,
            "object_position": null,
            "order": null,
            "overflow": null,
            "overflow_x": null,
            "overflow_y": null,
            "padding": null,
            "right": null,
            "top": null,
            "visibility": null,
            "width": null
          }
        },
        "54c34c0a09c2468f9a34c243b4729fe1": {
          "model_module": "@jupyter-widgets/controls",
          "model_name": "DescriptionStyleModel",
          "model_module_version": "1.5.0",
          "state": {
            "_model_module": "@jupyter-widgets/controls",
            "_model_module_version": "1.5.0",
            "_model_name": "DescriptionStyleModel",
            "_view_count": null,
            "_view_module": "@jupyter-widgets/base",
            "_view_module_version": "1.2.0",
            "_view_name": "StyleView",
            "description_width": ""
          }
        },
        "c967cdcd058741aba4677511168d8b5d": {
          "model_module": "@jupyter-widgets/controls",
          "model_name": "HBoxModel",
          "model_module_version": "1.5.0",
          "state": {
            "_dom_classes": [],
            "_model_module": "@jupyter-widgets/controls",
            "_model_module_version": "1.5.0",
            "_model_name": "HBoxModel",
            "_view_count": null,
            "_view_module": "@jupyter-widgets/controls",
            "_view_module_version": "1.5.0",
            "_view_name": "HBoxView",
            "box_style": "",
            "children": [
              "IPY_MODEL_6eef7ec1f4504438953add4442d50b70",
              "IPY_MODEL_8cc663a83e854989824a776d8075fb95",
              "IPY_MODEL_804e5a99606f48c78e380374bc0703e8"
            ],
            "layout": "IPY_MODEL_d82aca6632ce4655bb920c5cd703ebef"
          }
        },
        "6eef7ec1f4504438953add4442d50b70": {
          "model_module": "@jupyter-widgets/controls",
          "model_name": "HTMLModel",
          "model_module_version": "1.5.0",
          "state": {
            "_dom_classes": [],
            "_model_module": "@jupyter-widgets/controls",
            "_model_module_version": "1.5.0",
            "_model_name": "HTMLModel",
            "_view_count": null,
            "_view_module": "@jupyter-widgets/controls",
            "_view_module_version": "1.5.0",
            "_view_name": "HTMLView",
            "description": "",
            "description_tooltip": null,
            "layout": "IPY_MODEL_da8d56a641f142f2affad4855e7d3063",
            "placeholder": "​",
            "style": "IPY_MODEL_574180671b7c447f983d3311752e87ff",
            "value": "Downloading (…)ve/main/spiece.model: 100%"
          }
        },
        "8cc663a83e854989824a776d8075fb95": {
          "model_module": "@jupyter-widgets/controls",
          "model_name": "FloatProgressModel",
          "model_module_version": "1.5.0",
          "state": {
            "_dom_classes": [],
            "_model_module": "@jupyter-widgets/controls",
            "_model_module_version": "1.5.0",
            "_model_name": "FloatProgressModel",
            "_view_count": null,
            "_view_module": "@jupyter-widgets/controls",
            "_view_module_version": "1.5.0",
            "_view_name": "ProgressView",
            "bar_style": "success",
            "description": "",
            "description_tooltip": null,
            "layout": "IPY_MODEL_fa15475b3ff0404892211ceca152d456",
            "max": 760289,
            "min": 0,
            "orientation": "horizontal",
            "style": "IPY_MODEL_c7523da053524daf9082726e6505050c",
            "value": 760289
          }
        },
        "804e5a99606f48c78e380374bc0703e8": {
          "model_module": "@jupyter-widgets/controls",
          "model_name": "HTMLModel",
          "model_module_version": "1.5.0",
          "state": {
            "_dom_classes": [],
            "_model_module": "@jupyter-widgets/controls",
            "_model_module_version": "1.5.0",
            "_model_name": "HTMLModel",
            "_view_count": null,
            "_view_module": "@jupyter-widgets/controls",
            "_view_module_version": "1.5.0",
            "_view_name": "HTMLView",
            "description": "",
            "description_tooltip": null,
            "layout": "IPY_MODEL_c02494d15a2c487eb713104b08f4adbf",
            "placeholder": "​",
            "style": "IPY_MODEL_f7ad6a2a8c65438298b63dc8f4d834eb",
            "value": " 760k/760k [00:00&lt;00:00, 1.09MB/s]"
          }
        },
        "d82aca6632ce4655bb920c5cd703ebef": {
          "model_module": "@jupyter-widgets/base",
          "model_name": "LayoutModel",
          "model_module_version": "1.2.0",
          "state": {
            "_model_module": "@jupyter-widgets/base",
            "_model_module_version": "1.2.0",
            "_model_name": "LayoutModel",
            "_view_count": null,
            "_view_module": "@jupyter-widgets/base",
            "_view_module_version": "1.2.0",
            "_view_name": "LayoutView",
            "align_content": null,
            "align_items": null,
            "align_self": null,
            "border": null,
            "bottom": null,
            "display": null,
            "flex": null,
            "flex_flow": null,
            "grid_area": null,
            "grid_auto_columns": null,
            "grid_auto_flow": null,
            "grid_auto_rows": null,
            "grid_column": null,
            "grid_gap": null,
            "grid_row": null,
            "grid_template_areas": null,
            "grid_template_columns": null,
            "grid_template_rows": null,
            "height": null,
            "justify_content": null,
            "justify_items": null,
            "left": null,
            "margin": null,
            "max_height": null,
            "max_width": null,
            "min_height": null,
            "min_width": null,
            "object_fit": null,
            "object_position": null,
            "order": null,
            "overflow": null,
            "overflow_x": null,
            "overflow_y": null,
            "padding": null,
            "right": null,
            "top": null,
            "visibility": null,
            "width": null
          }
        },
        "da8d56a641f142f2affad4855e7d3063": {
          "model_module": "@jupyter-widgets/base",
          "model_name": "LayoutModel",
          "model_module_version": "1.2.0",
          "state": {
            "_model_module": "@jupyter-widgets/base",
            "_model_module_version": "1.2.0",
            "_model_name": "LayoutModel",
            "_view_count": null,
            "_view_module": "@jupyter-widgets/base",
            "_view_module_version": "1.2.0",
            "_view_name": "LayoutView",
            "align_content": null,
            "align_items": null,
            "align_self": null,
            "border": null,
            "bottom": null,
            "display": null,
            "flex": null,
            "flex_flow": null,
            "grid_area": null,
            "grid_auto_columns": null,
            "grid_auto_flow": null,
            "grid_auto_rows": null,
            "grid_column": null,
            "grid_gap": null,
            "grid_row": null,
            "grid_template_areas": null,
            "grid_template_columns": null,
            "grid_template_rows": null,
            "height": null,
            "justify_content": null,
            "justify_items": null,
            "left": null,
            "margin": null,
            "max_height": null,
            "max_width": null,
            "min_height": null,
            "min_width": null,
            "object_fit": null,
            "object_position": null,
            "order": null,
            "overflow": null,
            "overflow_x": null,
            "overflow_y": null,
            "padding": null,
            "right": null,
            "top": null,
            "visibility": null,
            "width": null
          }
        },
        "574180671b7c447f983d3311752e87ff": {
          "model_module": "@jupyter-widgets/controls",
          "model_name": "DescriptionStyleModel",
          "model_module_version": "1.5.0",
          "state": {
            "_model_module": "@jupyter-widgets/controls",
            "_model_module_version": "1.5.0",
            "_model_name": "DescriptionStyleModel",
            "_view_count": null,
            "_view_module": "@jupyter-widgets/base",
            "_view_module_version": "1.2.0",
            "_view_name": "StyleView",
            "description_width": ""
          }
        },
        "fa15475b3ff0404892211ceca152d456": {
          "model_module": "@jupyter-widgets/base",
          "model_name": "LayoutModel",
          "model_module_version": "1.2.0",
          "state": {
            "_model_module": "@jupyter-widgets/base",
            "_model_module_version": "1.2.0",
            "_model_name": "LayoutModel",
            "_view_count": null,
            "_view_module": "@jupyter-widgets/base",
            "_view_module_version": "1.2.0",
            "_view_name": "LayoutView",
            "align_content": null,
            "align_items": null,
            "align_self": null,
            "border": null,
            "bottom": null,
            "display": null,
            "flex": null,
            "flex_flow": null,
            "grid_area": null,
            "grid_auto_columns": null,
            "grid_auto_flow": null,
            "grid_auto_rows": null,
            "grid_column": null,
            "grid_gap": null,
            "grid_row": null,
            "grid_template_areas": null,
            "grid_template_columns": null,
            "grid_template_rows": null,
            "height": null,
            "justify_content": null,
            "justify_items": null,
            "left": null,
            "margin": null,
            "max_height": null,
            "max_width": null,
            "min_height": null,
            "min_width": null,
            "object_fit": null,
            "object_position": null,
            "order": null,
            "overflow": null,
            "overflow_x": null,
            "overflow_y": null,
            "padding": null,
            "right": null,
            "top": null,
            "visibility": null,
            "width": null
          }
        },
        "c7523da053524daf9082726e6505050c": {
          "model_module": "@jupyter-widgets/controls",
          "model_name": "ProgressStyleModel",
          "model_module_version": "1.5.0",
          "state": {
            "_model_module": "@jupyter-widgets/controls",
            "_model_module_version": "1.5.0",
            "_model_name": "ProgressStyleModel",
            "_view_count": null,
            "_view_module": "@jupyter-widgets/base",
            "_view_module_version": "1.2.0",
            "_view_name": "StyleView",
            "bar_color": null,
            "description_width": ""
          }
        },
        "c02494d15a2c487eb713104b08f4adbf": {
          "model_module": "@jupyter-widgets/base",
          "model_name": "LayoutModel",
          "model_module_version": "1.2.0",
          "state": {
            "_model_module": "@jupyter-widgets/base",
            "_model_module_version": "1.2.0",
            "_model_name": "LayoutModel",
            "_view_count": null,
            "_view_module": "@jupyter-widgets/base",
            "_view_module_version": "1.2.0",
            "_view_name": "LayoutView",
            "align_content": null,
            "align_items": null,
            "align_self": null,
            "border": null,
            "bottom": null,
            "display": null,
            "flex": null,
            "flex_flow": null,
            "grid_area": null,
            "grid_auto_columns": null,
            "grid_auto_flow": null,
            "grid_auto_rows": null,
            "grid_column": null,
            "grid_gap": null,
            "grid_row": null,
            "grid_template_areas": null,
            "grid_template_columns": null,
            "grid_template_rows": null,
            "height": null,
            "justify_content": null,
            "justify_items": null,
            "left": null,
            "margin": null,
            "max_height": null,
            "max_width": null,
            "min_height": null,
            "min_width": null,
            "object_fit": null,
            "object_position": null,
            "order": null,
            "overflow": null,
            "overflow_x": null,
            "overflow_y": null,
            "padding": null,
            "right": null,
            "top": null,
            "visibility": null,
            "width": null
          }
        },
        "f7ad6a2a8c65438298b63dc8f4d834eb": {
          "model_module": "@jupyter-widgets/controls",
          "model_name": "DescriptionStyleModel",
          "model_module_version": "1.5.0",
          "state": {
            "_model_module": "@jupyter-widgets/controls",
            "_model_module_version": "1.5.0",
            "_model_name": "DescriptionStyleModel",
            "_view_count": null,
            "_view_module": "@jupyter-widgets/base",
            "_view_module_version": "1.2.0",
            "_view_name": "StyleView",
            "description_width": ""
          }
        },
        "a51a7428ca35451389332b58614ae03a": {
          "model_module": "@jupyter-widgets/controls",
          "model_name": "HBoxModel",
          "model_module_version": "1.5.0",
          "state": {
            "_dom_classes": [],
            "_model_module": "@jupyter-widgets/controls",
            "_model_module_version": "1.5.0",
            "_model_name": "HBoxModel",
            "_view_count": null,
            "_view_module": "@jupyter-widgets/controls",
            "_view_module_version": "1.5.0",
            "_view_name": "HBoxView",
            "box_style": "",
            "children": [
              "IPY_MODEL_cc95b5f71d4a4696a13ec2df9ee75700",
              "IPY_MODEL_e73ba87fb75c4aac8bca0c190b07295c",
              "IPY_MODEL_acb9f959a32a4989af261d529bc68efe"
            ],
            "layout": "IPY_MODEL_34e93c5714e9490daf1dcd3874a5142e"
          }
        },
        "cc95b5f71d4a4696a13ec2df9ee75700": {
          "model_module": "@jupyter-widgets/controls",
          "model_name": "HTMLModel",
          "model_module_version": "1.5.0",
          "state": {
            "_dom_classes": [],
            "_model_module": "@jupyter-widgets/controls",
            "_model_module_version": "1.5.0",
            "_model_name": "HTMLModel",
            "_view_count": null,
            "_view_module": "@jupyter-widgets/controls",
            "_view_module_version": "1.5.0",
            "_view_name": "HTMLView",
            "description": "",
            "description_tooltip": null,
            "layout": "IPY_MODEL_665467d448f945a9af1fdb24ef8e17ec",
            "placeholder": "​",
            "style": "IPY_MODEL_3d63a44234264bb4a711893a69b19523",
            "value": "Downloading (…)/main/tokenizer.json: 100%"
          }
        },
        "e73ba87fb75c4aac8bca0c190b07295c": {
          "model_module": "@jupyter-widgets/controls",
          "model_name": "FloatProgressModel",
          "model_module_version": "1.5.0",
          "state": {
            "_dom_classes": [],
            "_model_module": "@jupyter-widgets/controls",
            "_model_module_version": "1.5.0",
            "_model_name": "FloatProgressModel",
            "_view_count": null,
            "_view_module": "@jupyter-widgets/controls",
            "_view_module_version": "1.5.0",
            "_view_name": "ProgressView",
            "bar_style": "success",
            "description": "",
            "description_tooltip": null,
            "layout": "IPY_MODEL_ac8cfc8db41e4c26b15da2546d5fdf6b",
            "max": 1312669,
            "min": 0,
            "orientation": "horizontal",
            "style": "IPY_MODEL_9bde0f47dcc14bccb2723d00168d9bd5",
            "value": 1312669
          }
        },
        "acb9f959a32a4989af261d529bc68efe": {
          "model_module": "@jupyter-widgets/controls",
          "model_name": "HTMLModel",
          "model_module_version": "1.5.0",
          "state": {
            "_dom_classes": [],
            "_model_module": "@jupyter-widgets/controls",
            "_model_module_version": "1.5.0",
            "_model_name": "HTMLModel",
            "_view_count": null,
            "_view_module": "@jupyter-widgets/controls",
            "_view_module_version": "1.5.0",
            "_view_name": "HTMLView",
            "description": "",
            "description_tooltip": null,
            "layout": "IPY_MODEL_b64c3064103b479a967e3f5467445ae0",
            "placeholder": "​",
            "style": "IPY_MODEL_ae04255a69114d7bb976b3d3d9b975c0",
            "value": " 1.31M/1.31M [00:00&lt;00:00, 7.43MB/s]"
          }
        },
        "34e93c5714e9490daf1dcd3874a5142e": {
          "model_module": "@jupyter-widgets/base",
          "model_name": "LayoutModel",
          "model_module_version": "1.2.0",
          "state": {
            "_model_module": "@jupyter-widgets/base",
            "_model_module_version": "1.2.0",
            "_model_name": "LayoutModel",
            "_view_count": null,
            "_view_module": "@jupyter-widgets/base",
            "_view_module_version": "1.2.0",
            "_view_name": "LayoutView",
            "align_content": null,
            "align_items": null,
            "align_self": null,
            "border": null,
            "bottom": null,
            "display": null,
            "flex": null,
            "flex_flow": null,
            "grid_area": null,
            "grid_auto_columns": null,
            "grid_auto_flow": null,
            "grid_auto_rows": null,
            "grid_column": null,
            "grid_gap": null,
            "grid_row": null,
            "grid_template_areas": null,
            "grid_template_columns": null,
            "grid_template_rows": null,
            "height": null,
            "justify_content": null,
            "justify_items": null,
            "left": null,
            "margin": null,
            "max_height": null,
            "max_width": null,
            "min_height": null,
            "min_width": null,
            "object_fit": null,
            "object_position": null,
            "order": null,
            "overflow": null,
            "overflow_x": null,
            "overflow_y": null,
            "padding": null,
            "right": null,
            "top": null,
            "visibility": null,
            "width": null
          }
        },
        "665467d448f945a9af1fdb24ef8e17ec": {
          "model_module": "@jupyter-widgets/base",
          "model_name": "LayoutModel",
          "model_module_version": "1.2.0",
          "state": {
            "_model_module": "@jupyter-widgets/base",
            "_model_module_version": "1.2.0",
            "_model_name": "LayoutModel",
            "_view_count": null,
            "_view_module": "@jupyter-widgets/base",
            "_view_module_version": "1.2.0",
            "_view_name": "LayoutView",
            "align_content": null,
            "align_items": null,
            "align_self": null,
            "border": null,
            "bottom": null,
            "display": null,
            "flex": null,
            "flex_flow": null,
            "grid_area": null,
            "grid_auto_columns": null,
            "grid_auto_flow": null,
            "grid_auto_rows": null,
            "grid_column": null,
            "grid_gap": null,
            "grid_row": null,
            "grid_template_areas": null,
            "grid_template_columns": null,
            "grid_template_rows": null,
            "height": null,
            "justify_content": null,
            "justify_items": null,
            "left": null,
            "margin": null,
            "max_height": null,
            "max_width": null,
            "min_height": null,
            "min_width": null,
            "object_fit": null,
            "object_position": null,
            "order": null,
            "overflow": null,
            "overflow_x": null,
            "overflow_y": null,
            "padding": null,
            "right": null,
            "top": null,
            "visibility": null,
            "width": null
          }
        },
        "3d63a44234264bb4a711893a69b19523": {
          "model_module": "@jupyter-widgets/controls",
          "model_name": "DescriptionStyleModel",
          "model_module_version": "1.5.0",
          "state": {
            "_model_module": "@jupyter-widgets/controls",
            "_model_module_version": "1.5.0",
            "_model_name": "DescriptionStyleModel",
            "_view_count": null,
            "_view_module": "@jupyter-widgets/base",
            "_view_module_version": "1.2.0",
            "_view_name": "StyleView",
            "description_width": ""
          }
        },
        "ac8cfc8db41e4c26b15da2546d5fdf6b": {
          "model_module": "@jupyter-widgets/base",
          "model_name": "LayoutModel",
          "model_module_version": "1.2.0",
          "state": {
            "_model_module": "@jupyter-widgets/base",
            "_model_module_version": "1.2.0",
            "_model_name": "LayoutModel",
            "_view_count": null,
            "_view_module": "@jupyter-widgets/base",
            "_view_module_version": "1.2.0",
            "_view_name": "LayoutView",
            "align_content": null,
            "align_items": null,
            "align_self": null,
            "border": null,
            "bottom": null,
            "display": null,
            "flex": null,
            "flex_flow": null,
            "grid_area": null,
            "grid_auto_columns": null,
            "grid_auto_flow": null,
            "grid_auto_rows": null,
            "grid_column": null,
            "grid_gap": null,
            "grid_row": null,
            "grid_template_areas": null,
            "grid_template_columns": null,
            "grid_template_rows": null,
            "height": null,
            "justify_content": null,
            "justify_items": null,
            "left": null,
            "margin": null,
            "max_height": null,
            "max_width": null,
            "min_height": null,
            "min_width": null,
            "object_fit": null,
            "object_position": null,
            "order": null,
            "overflow": null,
            "overflow_x": null,
            "overflow_y": null,
            "padding": null,
            "right": null,
            "top": null,
            "visibility": null,
            "width": null
          }
        },
        "9bde0f47dcc14bccb2723d00168d9bd5": {
          "model_module": "@jupyter-widgets/controls",
          "model_name": "ProgressStyleModel",
          "model_module_version": "1.5.0",
          "state": {
            "_model_module": "@jupyter-widgets/controls",
            "_model_module_version": "1.5.0",
            "_model_name": "ProgressStyleModel",
            "_view_count": null,
            "_view_module": "@jupyter-widgets/base",
            "_view_module_version": "1.2.0",
            "_view_name": "StyleView",
            "bar_color": null,
            "description_width": ""
          }
        },
        "b64c3064103b479a967e3f5467445ae0": {
          "model_module": "@jupyter-widgets/base",
          "model_name": "LayoutModel",
          "model_module_version": "1.2.0",
          "state": {
            "_model_module": "@jupyter-widgets/base",
            "_model_module_version": "1.2.0",
            "_model_name": "LayoutModel",
            "_view_count": null,
            "_view_module": "@jupyter-widgets/base",
            "_view_module_version": "1.2.0",
            "_view_name": "LayoutView",
            "align_content": null,
            "align_items": null,
            "align_self": null,
            "border": null,
            "bottom": null,
            "display": null,
            "flex": null,
            "flex_flow": null,
            "grid_area": null,
            "grid_auto_columns": null,
            "grid_auto_flow": null,
            "grid_auto_rows": null,
            "grid_column": null,
            "grid_gap": null,
            "grid_row": null,
            "grid_template_areas": null,
            "grid_template_columns": null,
            "grid_template_rows": null,
            "height": null,
            "justify_content": null,
            "justify_items": null,
            "left": null,
            "margin": null,
            "max_height": null,
            "max_width": null,
            "min_height": null,
            "min_width": null,
            "object_fit": null,
            "object_position": null,
            "order": null,
            "overflow": null,
            "overflow_x": null,
            "overflow_y": null,
            "padding": null,
            "right": null,
            "top": null,
            "visibility": null,
            "width": null
          }
        },
        "ae04255a69114d7bb976b3d3d9b975c0": {
          "model_module": "@jupyter-widgets/controls",
          "model_name": "DescriptionStyleModel",
          "model_module_version": "1.5.0",
          "state": {
            "_model_module": "@jupyter-widgets/controls",
            "_model_module_version": "1.5.0",
            "_model_name": "DescriptionStyleModel",
            "_view_count": null,
            "_view_module": "@jupyter-widgets/base",
            "_view_module_version": "1.2.0",
            "_view_name": "StyleView",
            "description_width": ""
          }
        },
        "4663f8bdd49944bc9ea2c2971c9a06b5": {
          "model_module": "@jupyter-widgets/controls",
          "model_name": "HBoxModel",
          "model_module_version": "1.5.0",
          "state": {
            "_dom_classes": [],
            "_model_module": "@jupyter-widgets/controls",
            "_model_module_version": "1.5.0",
            "_model_name": "HBoxModel",
            "_view_count": null,
            "_view_module": "@jupyter-widgets/controls",
            "_view_module_version": "1.5.0",
            "_view_name": "HBoxView",
            "box_style": "",
            "children": [
              "IPY_MODEL_037378e391a0435b83fcb6327fa92444",
              "IPY_MODEL_1e988b29ace1432eb4deddd9a76bec44",
              "IPY_MODEL_0c3ff05b7fbe4eb78368cbf2212f10b3"
            ],
            "layout": "IPY_MODEL_21a6bb24777949fdb7ceab299e74e0e8"
          }
        },
        "037378e391a0435b83fcb6327fa92444": {
          "model_module": "@jupyter-widgets/controls",
          "model_name": "HTMLModel",
          "model_module_version": "1.5.0",
          "state": {
            "_dom_classes": [],
            "_model_module": "@jupyter-widgets/controls",
            "_model_module_version": "1.5.0",
            "_model_name": "HTMLModel",
            "_view_count": null,
            "_view_module": "@jupyter-widgets/controls",
            "_view_module_version": "1.5.0",
            "_view_name": "HTMLView",
            "description": "",
            "description_tooltip": null,
            "layout": "IPY_MODEL_16288ba5b1d643859054bf767f3e8a27",
            "placeholder": "​",
            "style": "IPY_MODEL_fe7fd07be9f94a108291caf9dd0239ab",
            "value": "Downloading pytorch_model.bin: 100%"
          }
        },
        "1e988b29ace1432eb4deddd9a76bec44": {
          "model_module": "@jupyter-widgets/controls",
          "model_name": "FloatProgressModel",
          "model_module_version": "1.5.0",
          "state": {
            "_dom_classes": [],
            "_model_module": "@jupyter-widgets/controls",
            "_model_module_version": "1.5.0",
            "_model_name": "FloatProgressModel",
            "_view_count": null,
            "_view_module": "@jupyter-widgets/controls",
            "_view_module_version": "1.5.0",
            "_view_name": "ProgressView",
            "bar_style": "success",
            "description": "",
            "description_tooltip": null,
            "layout": "IPY_MODEL_ff64a64528f04201a0d36107d5e4fdaf",
            "max": 47376696,
            "min": 0,
            "orientation": "horizontal",
            "style": "IPY_MODEL_796a07ab9b1c43a187a1adf55981ed17",
            "value": 47376696
          }
        },
        "0c3ff05b7fbe4eb78368cbf2212f10b3": {
          "model_module": "@jupyter-widgets/controls",
          "model_name": "HTMLModel",
          "model_module_version": "1.5.0",
          "state": {
            "_dom_classes": [],
            "_model_module": "@jupyter-widgets/controls",
            "_model_module_version": "1.5.0",
            "_model_name": "HTMLModel",
            "_view_count": null,
            "_view_module": "@jupyter-widgets/controls",
            "_view_module_version": "1.5.0",
            "_view_name": "HTMLView",
            "description": "",
            "description_tooltip": null,
            "layout": "IPY_MODEL_ab696c2394bd400c893691fbb97802f0",
            "placeholder": "​",
            "style": "IPY_MODEL_b7fb6aa57db04b609b11abe3b0eef55b",
            "value": " 47.4M/47.4M [00:03&lt;00:00, 17.7MB/s]"
          }
        },
        "21a6bb24777949fdb7ceab299e74e0e8": {
          "model_module": "@jupyter-widgets/base",
          "model_name": "LayoutModel",
          "model_module_version": "1.2.0",
          "state": {
            "_model_module": "@jupyter-widgets/base",
            "_model_module_version": "1.2.0",
            "_model_name": "LayoutModel",
            "_view_count": null,
            "_view_module": "@jupyter-widgets/base",
            "_view_module_version": "1.2.0",
            "_view_name": "LayoutView",
            "align_content": null,
            "align_items": null,
            "align_self": null,
            "border": null,
            "bottom": null,
            "display": null,
            "flex": null,
            "flex_flow": null,
            "grid_area": null,
            "grid_auto_columns": null,
            "grid_auto_flow": null,
            "grid_auto_rows": null,
            "grid_column": null,
            "grid_gap": null,
            "grid_row": null,
            "grid_template_areas": null,
            "grid_template_columns": null,
            "grid_template_rows": null,
            "height": null,
            "justify_content": null,
            "justify_items": null,
            "left": null,
            "margin": null,
            "max_height": null,
            "max_width": null,
            "min_height": null,
            "min_width": null,
            "object_fit": null,
            "object_position": null,
            "order": null,
            "overflow": null,
            "overflow_x": null,
            "overflow_y": null,
            "padding": null,
            "right": null,
            "top": null,
            "visibility": null,
            "width": null
          }
        },
        "16288ba5b1d643859054bf767f3e8a27": {
          "model_module": "@jupyter-widgets/base",
          "model_name": "LayoutModel",
          "model_module_version": "1.2.0",
          "state": {
            "_model_module": "@jupyter-widgets/base",
            "_model_module_version": "1.2.0",
            "_model_name": "LayoutModel",
            "_view_count": null,
            "_view_module": "@jupyter-widgets/base",
            "_view_module_version": "1.2.0",
            "_view_name": "LayoutView",
            "align_content": null,
            "align_items": null,
            "align_self": null,
            "border": null,
            "bottom": null,
            "display": null,
            "flex": null,
            "flex_flow": null,
            "grid_area": null,
            "grid_auto_columns": null,
            "grid_auto_flow": null,
            "grid_auto_rows": null,
            "grid_column": null,
            "grid_gap": null,
            "grid_row": null,
            "grid_template_areas": null,
            "grid_template_columns": null,
            "grid_template_rows": null,
            "height": null,
            "justify_content": null,
            "justify_items": null,
            "left": null,
            "margin": null,
            "max_height": null,
            "max_width": null,
            "min_height": null,
            "min_width": null,
            "object_fit": null,
            "object_position": null,
            "order": null,
            "overflow": null,
            "overflow_x": null,
            "overflow_y": null,
            "padding": null,
            "right": null,
            "top": null,
            "visibility": null,
            "width": null
          }
        },
        "fe7fd07be9f94a108291caf9dd0239ab": {
          "model_module": "@jupyter-widgets/controls",
          "model_name": "DescriptionStyleModel",
          "model_module_version": "1.5.0",
          "state": {
            "_model_module": "@jupyter-widgets/controls",
            "_model_module_version": "1.5.0",
            "_model_name": "DescriptionStyleModel",
            "_view_count": null,
            "_view_module": "@jupyter-widgets/base",
            "_view_module_version": "1.2.0",
            "_view_name": "StyleView",
            "description_width": ""
          }
        },
        "ff64a64528f04201a0d36107d5e4fdaf": {
          "model_module": "@jupyter-widgets/base",
          "model_name": "LayoutModel",
          "model_module_version": "1.2.0",
          "state": {
            "_model_module": "@jupyter-widgets/base",
            "_model_module_version": "1.2.0",
            "_model_name": "LayoutModel",
            "_view_count": null,
            "_view_module": "@jupyter-widgets/base",
            "_view_module_version": "1.2.0",
            "_view_name": "LayoutView",
            "align_content": null,
            "align_items": null,
            "align_self": null,
            "border": null,
            "bottom": null,
            "display": null,
            "flex": null,
            "flex_flow": null,
            "grid_area": null,
            "grid_auto_columns": null,
            "grid_auto_flow": null,
            "grid_auto_rows": null,
            "grid_column": null,
            "grid_gap": null,
            "grid_row": null,
            "grid_template_areas": null,
            "grid_template_columns": null,
            "grid_template_rows": null,
            "height": null,
            "justify_content": null,
            "justify_items": null,
            "left": null,
            "margin": null,
            "max_height": null,
            "max_width": null,
            "min_height": null,
            "min_width": null,
            "object_fit": null,
            "object_position": null,
            "order": null,
            "overflow": null,
            "overflow_x": null,
            "overflow_y": null,
            "padding": null,
            "right": null,
            "top": null,
            "visibility": null,
            "width": null
          }
        },
        "796a07ab9b1c43a187a1adf55981ed17": {
          "model_module": "@jupyter-widgets/controls",
          "model_name": "ProgressStyleModel",
          "model_module_version": "1.5.0",
          "state": {
            "_model_module": "@jupyter-widgets/controls",
            "_model_module_version": "1.5.0",
            "_model_name": "ProgressStyleModel",
            "_view_count": null,
            "_view_module": "@jupyter-widgets/base",
            "_view_module_version": "1.2.0",
            "_view_name": "StyleView",
            "bar_color": null,
            "description_width": ""
          }
        },
        "ab696c2394bd400c893691fbb97802f0": {
          "model_module": "@jupyter-widgets/base",
          "model_name": "LayoutModel",
          "model_module_version": "1.2.0",
          "state": {
            "_model_module": "@jupyter-widgets/base",
            "_model_module_version": "1.2.0",
            "_model_name": "LayoutModel",
            "_view_count": null,
            "_view_module": "@jupyter-widgets/base",
            "_view_module_version": "1.2.0",
            "_view_name": "LayoutView",
            "align_content": null,
            "align_items": null,
            "align_self": null,
            "border": null,
            "bottom": null,
            "display": null,
            "flex": null,
            "flex_flow": null,
            "grid_area": null,
            "grid_auto_columns": null,
            "grid_auto_flow": null,
            "grid_auto_rows": null,
            "grid_column": null,
            "grid_gap": null,
            "grid_row": null,
            "grid_template_areas": null,
            "grid_template_columns": null,
            "grid_template_rows": null,
            "height": null,
            "justify_content": null,
            "justify_items": null,
            "left": null,
            "margin": null,
            "max_height": null,
            "max_width": null,
            "min_height": null,
            "min_width": null,
            "object_fit": null,
            "object_position": null,
            "order": null,
            "overflow": null,
            "overflow_x": null,
            "overflow_y": null,
            "padding": null,
            "right": null,
            "top": null,
            "visibility": null,
            "width": null
          }
        },
        "b7fb6aa57db04b609b11abe3b0eef55b": {
          "model_module": "@jupyter-widgets/controls",
          "model_name": "DescriptionStyleModel",
          "model_module_version": "1.5.0",
          "state": {
            "_model_module": "@jupyter-widgets/controls",
            "_model_module_version": "1.5.0",
            "_model_name": "DescriptionStyleModel",
            "_view_count": null,
            "_view_module": "@jupyter-widgets/base",
            "_view_module_version": "1.2.0",
            "_view_name": "StyleView",
            "description_width": ""
          }
        }
      }
    }
  },
  "nbformat": 4,
  "nbformat_minor": 0
}