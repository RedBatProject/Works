{
  "nbformat": 4,
  "nbformat_minor": 0,
  "metadata": {
    "colab": {
      "provenance": [],
      "mount_file_id": "1CaYga3ZZgJcAjd5u5DjKHsPHMeSAld36",
      "authorship_tag": "ABX9TyPMDx50SCJUk0vU+PejxTIt",
      "include_colab_link": true
    },
    "kernelspec": {
      "name": "python3",
      "display_name": "Python 3"
    },
    "language_info": {
      "name": "python"
    }
  },
  "cells": [
    {
      "cell_type": "markdown",
      "metadata": {
        "id": "view-in-github",
        "colab_type": "text"
      },
      "source": [
        "<a href=\"https://colab.research.google.com/github/RedBatProject/Works/blob/main/work_45.ipynb\" target=\"_parent\"><img src=\"https://colab.research.google.com/assets/colab-badge.svg\" alt=\"Open In Colab\"/></a>"
      ]
    },
    {
      "cell_type": "markdown",
      "source": [
        "# Imports"
      ],
      "metadata": {
        "id": "YJPunkokIZ9z"
      }
    },
    {
      "cell_type": "code",
      "execution_count": null,
      "metadata": {
        "id": "qOHTybBxIGtb"
      },
      "outputs": [],
      "source": [
        "!pip install mealpy\n",
        "import mealpy\n",
        "from mealpy.bio_based import BBO, EOA, IWO, SBO, SMA, TPO, VCS, WHO\n",
        "from mealpy.evolutionary_based import CRO, DE, EP, ES, FPA, GA, MA\n",
        "from mealpy.human_based import BRO, BSO, CA, CHIO, FBIO, GSKA, ICA, LCO, QSA, SARO, SSDO, TLO\n",
        "from mealpy.math_based import AOA, CGO, GBO, HC, SCA, PSS\n",
        "from mealpy.music_based import HS\n",
        "from mealpy.physics_based import ArchOA, ASO, EFO, EO, HGSO, MVO, NRO, SA, TWO, WDO\n",
        "# from mealpy.probabilistic_based import CEM\n",
        "from mealpy.system_based import AEO, GCO, WCA\n",
        "from mealpy.swarm_based import ABC, ACOR, ALO, AO, BA, BeesA, BES, BFO, BSA, COA, CSA, CSO, DO, EHO, FA, FFA, FOA, GOA, GWO, HGS\n",
        "from mealpy.swarm_based import HHO, JA, MFO, MRFO, MSA, NMRA, PFA, PSO, SFO, SHO, SLO, SRSR, SSA, SSO, SSpiderA, SSpiderO, WOA\n",
        "from sys import exit\n",
        "import numpy as np\n",
        "import tweepy\n",
        "import webbrowser\n",
        "import time\n",
        "import pandas as pd\n",
        "import datetime\n",
        "import threading\n",
        "import matplotlib.pyplot as plt\n",
        "import numpy as np\n",
        "import pandas as pd\n",
        "from sklearn.model_selection import cross_val_score\n",
        "!pip install mealpy\n",
        "import mealpy\n",
        "# Load libraries\n",
        "%tensorflow_version 2.x\n",
        "from __future__ import absolute_import, division, print_function, unicode_literals\n",
        "\n",
        "import numpy as np\n",
        "import pandas as pd\n",
        "import matplotlib.pyplot as plt\n",
        "from IPython.display import clear_output\n",
        "from six.moves import urllib\n",
        "\n",
        "import tensorflow.compat.v2.feature_column as fc\n",
        "\n",
        "import tensorflow as tf\n",
        "from pandas.plotting import scatter_matrix\n",
        "from sklearn import model_selection\n",
        "from sklearn.metrics import classification_report\n",
        "from sklearn.metrics import confusion_matrix\n",
        "import random as rn\n",
        "# from sklearn.metrics import confusion_matrix, plot_confusion_matrix, classification_report\n",
        "# create the models\n",
        "from sklearn.tree import DecisionTreeClassifier\n",
        "from sklearn.discriminant_analysis import LinearDiscriminantAnalysis\n",
        "from sklearn.metrics import accuracy_score\n",
        "from sklearn.metrics import precision_score\n",
        "from sklearn.metrics import recall_score\n",
        "from sklearn.metrics import f1_score\n",
        "# module imports\n",
        "import numpy as np\n",
        "import pandas as pd\n",
        "import matplotlib.pyplot as plt\n",
        "import seaborn as sns\n",
        "import itertools\n",
        "import random as rn\n",
        "\n",
        "# model imports\n",
        "from sklearn.cluster import KMeans #one with clusterimg (disaster)\n",
        "from sklearn.ensemble import RandomForestClassifier\n",
        "from sklearn.neighbors import KNeighborsClassifier\n",
        "from sklearn.linear_model import LogisticRegression\n",
        "from sklearn.tree import DecisionTreeClassifier\n",
        "from sklearn.multiclass import OneVsRestClassifier\n",
        "from sklearn.tree import DecisionTreeRegressor\n",
        "from sklearn.dummy import DummyClassifier #that zero\n",
        "from sklearn.svm import SVC, SVR\n",
        "from sklearn.naive_bayes import GaussianNB\n",
        "# from sklearn.ensemble import RandomForestClassifier\n",
        "# processing imports\n",
        "from sklearn.preprocessing import LabelEncoder\n",
        "from sklearn.model_selection import train_test_split\n",
        "from sklearn.model_selection import cross_val_score\n",
        "from sklearn.metrics import mean_absolute_error\n",
        "# from sklearn.metrics import accuracy_score\n",
        "# from sklearn.metrics import confusion_matrix\n",
        "from time import time\n",
        "from sklearn.model_selection import train_test_split\n",
        "from sklearn.naive_bayes import MultinomialNB\n",
        "!pip install catboost\n",
        "from xgboost import XGBClassifier\n",
        "from catboost import CatBoostClassifier\n",
        "from sklearn.linear_model import LogisticRegression\n",
        "from sklearn.ensemble import RandomForestClassifier\n",
        "from sklearn.svm import LinearSVC\n",
        "from sklearn import metrics\n",
        "# Sklearn modules & classes\n",
        "from sklearn.svm import SVC\n",
        "from sklearn.model_selection import train_test_split, GridSearchCV\n",
        "from sklearn.preprocessing import StandardScaler, LabelEncoder\n",
        "from sklearn import datasets, metrics\n",
        "from mealpy.bio_based import SMA\n",
        "import mealpy\n",
        "from sklearn.naive_bayes import GaussianNB\n",
        "import mealpy\n",
        "import time\n",
        "print(\"WELLCOME TO IMPLEMENTATION\")"
      ]
    },
    {
      "cell_type": "code",
      "source": [
        "from sklearn.model_selection import KFold, cross_val_score\n",
        "from collections import Counter\n",
        "from sklearn.datasets import make_classification\n",
        "from imblearn.over_sampling import SVMSMOTE\n",
        "# X = [\"a\", \"a\", \"a\", \"b\", \"b\", \"c\", \"c\", \"c\", \"c\", \"c\"]\n",
        "k_fold = KFold(n_splits=5,shuffle=True, random_state=2)"
      ],
      "metadata": {
        "id": "3LzoIvnKJUVh"
      },
      "execution_count": 7,
      "outputs": []
    },
    {
      "cell_type": "markdown",
      "source": [
        "# data"
      ],
      "metadata": {
        "id": "d1ObK-78Imh4"
      }
    },
    {
      "cell_type": "code",
      "source": [
        "df = pd.read_csv('/content/drive/MyDrive/work 44 water/water_potability.csv')\n",
        "df"
      ],
      "metadata": {
        "colab": {
          "base_uri": "https://localhost:8080/",
          "height": 424
        },
        "id": "naWbEBcxIQU3",
        "outputId": "f57c1e47-d0af-4770-c976-7e413ab80e0e"
      },
      "execution_count": 4,
      "outputs": [
        {
          "output_type": "execute_result",
          "data": {
            "text/plain": [
              "            ph    Hardness        Solids  Chloramines     Sulfate  \\\n",
              "0          NaN  204.890455  20791.318981     7.300212  368.516441   \n",
              "1     3.716080  129.422921  18630.057858     6.635246         NaN   \n",
              "2     8.099124  224.236259  19909.541732     9.275884         NaN   \n",
              "3     8.316766  214.373394  22018.417441     8.059332  356.886136   \n",
              "4     9.092223  181.101509  17978.986339     6.546600  310.135738   \n",
              "...        ...         ...           ...          ...         ...   \n",
              "3271  4.668102  193.681735  47580.991603     7.166639  359.948574   \n",
              "3272  7.808856  193.553212  17329.802160     8.061362         NaN   \n",
              "3273  9.419510  175.762646  33155.578218     7.350233         NaN   \n",
              "3274  5.126763  230.603758  11983.869376     6.303357         NaN   \n",
              "3275  7.874671  195.102299  17404.177061     7.509306         NaN   \n",
              "\n",
              "      Conductivity  Organic_carbon  Trihalomethanes  Turbidity  Potability  \n",
              "0       564.308654       10.379783        86.990970   2.963135           0  \n",
              "1       592.885359       15.180013        56.329076   4.500656           0  \n",
              "2       418.606213       16.868637        66.420093   3.055934           0  \n",
              "3       363.266516       18.436524       100.341674   4.628771           0  \n",
              "4       398.410813       11.558279        31.997993   4.075075           0  \n",
              "...            ...             ...              ...        ...         ...  \n",
              "3271    526.424171       13.894419        66.687695   4.435821           1  \n",
              "3272    392.449580       19.903225              NaN   2.798243           1  \n",
              "3273    432.044783       11.039070        69.845400   3.298875           1  \n",
              "3274    402.883113       11.168946        77.488213   4.708658           1  \n",
              "3275    327.459760       16.140368        78.698446   2.309149           1  \n",
              "\n",
              "[3276 rows x 10 columns]"
            ],
            "text/html": [
              "\n",
              "\n",
              "  <div id=\"df-d476b1d0-e5ca-419e-bdba-d400a49db5ed\">\n",
              "    <div class=\"colab-df-container\">\n",
              "      <div>\n",
              "<style scoped>\n",
              "    .dataframe tbody tr th:only-of-type {\n",
              "        vertical-align: middle;\n",
              "    }\n",
              "\n",
              "    .dataframe tbody tr th {\n",
              "        vertical-align: top;\n",
              "    }\n",
              "\n",
              "    .dataframe thead th {\n",
              "        text-align: right;\n",
              "    }\n",
              "</style>\n",
              "<table border=\"1\" class=\"dataframe\">\n",
              "  <thead>\n",
              "    <tr style=\"text-align: right;\">\n",
              "      <th></th>\n",
              "      <th>ph</th>\n",
              "      <th>Hardness</th>\n",
              "      <th>Solids</th>\n",
              "      <th>Chloramines</th>\n",
              "      <th>Sulfate</th>\n",
              "      <th>Conductivity</th>\n",
              "      <th>Organic_carbon</th>\n",
              "      <th>Trihalomethanes</th>\n",
              "      <th>Turbidity</th>\n",
              "      <th>Potability</th>\n",
              "    </tr>\n",
              "  </thead>\n",
              "  <tbody>\n",
              "    <tr>\n",
              "      <th>0</th>\n",
              "      <td>NaN</td>\n",
              "      <td>204.890455</td>\n",
              "      <td>20791.318981</td>\n",
              "      <td>7.300212</td>\n",
              "      <td>368.516441</td>\n",
              "      <td>564.308654</td>\n",
              "      <td>10.379783</td>\n",
              "      <td>86.990970</td>\n",
              "      <td>2.963135</td>\n",
              "      <td>0</td>\n",
              "    </tr>\n",
              "    <tr>\n",
              "      <th>1</th>\n",
              "      <td>3.716080</td>\n",
              "      <td>129.422921</td>\n",
              "      <td>18630.057858</td>\n",
              "      <td>6.635246</td>\n",
              "      <td>NaN</td>\n",
              "      <td>592.885359</td>\n",
              "      <td>15.180013</td>\n",
              "      <td>56.329076</td>\n",
              "      <td>4.500656</td>\n",
              "      <td>0</td>\n",
              "    </tr>\n",
              "    <tr>\n",
              "      <th>2</th>\n",
              "      <td>8.099124</td>\n",
              "      <td>224.236259</td>\n",
              "      <td>19909.541732</td>\n",
              "      <td>9.275884</td>\n",
              "      <td>NaN</td>\n",
              "      <td>418.606213</td>\n",
              "      <td>16.868637</td>\n",
              "      <td>66.420093</td>\n",
              "      <td>3.055934</td>\n",
              "      <td>0</td>\n",
              "    </tr>\n",
              "    <tr>\n",
              "      <th>3</th>\n",
              "      <td>8.316766</td>\n",
              "      <td>214.373394</td>\n",
              "      <td>22018.417441</td>\n",
              "      <td>8.059332</td>\n",
              "      <td>356.886136</td>\n",
              "      <td>363.266516</td>\n",
              "      <td>18.436524</td>\n",
              "      <td>100.341674</td>\n",
              "      <td>4.628771</td>\n",
              "      <td>0</td>\n",
              "    </tr>\n",
              "    <tr>\n",
              "      <th>4</th>\n",
              "      <td>9.092223</td>\n",
              "      <td>181.101509</td>\n",
              "      <td>17978.986339</td>\n",
              "      <td>6.546600</td>\n",
              "      <td>310.135738</td>\n",
              "      <td>398.410813</td>\n",
              "      <td>11.558279</td>\n",
              "      <td>31.997993</td>\n",
              "      <td>4.075075</td>\n",
              "      <td>0</td>\n",
              "    </tr>\n",
              "    <tr>\n",
              "      <th>...</th>\n",
              "      <td>...</td>\n",
              "      <td>...</td>\n",
              "      <td>...</td>\n",
              "      <td>...</td>\n",
              "      <td>...</td>\n",
              "      <td>...</td>\n",
              "      <td>...</td>\n",
              "      <td>...</td>\n",
              "      <td>...</td>\n",
              "      <td>...</td>\n",
              "    </tr>\n",
              "    <tr>\n",
              "      <th>3271</th>\n",
              "      <td>4.668102</td>\n",
              "      <td>193.681735</td>\n",
              "      <td>47580.991603</td>\n",
              "      <td>7.166639</td>\n",
              "      <td>359.948574</td>\n",
              "      <td>526.424171</td>\n",
              "      <td>13.894419</td>\n",
              "      <td>66.687695</td>\n",
              "      <td>4.435821</td>\n",
              "      <td>1</td>\n",
              "    </tr>\n",
              "    <tr>\n",
              "      <th>3272</th>\n",
              "      <td>7.808856</td>\n",
              "      <td>193.553212</td>\n",
              "      <td>17329.802160</td>\n",
              "      <td>8.061362</td>\n",
              "      <td>NaN</td>\n",
              "      <td>392.449580</td>\n",
              "      <td>19.903225</td>\n",
              "      <td>NaN</td>\n",
              "      <td>2.798243</td>\n",
              "      <td>1</td>\n",
              "    </tr>\n",
              "    <tr>\n",
              "      <th>3273</th>\n",
              "      <td>9.419510</td>\n",
              "      <td>175.762646</td>\n",
              "      <td>33155.578218</td>\n",
              "      <td>7.350233</td>\n",
              "      <td>NaN</td>\n",
              "      <td>432.044783</td>\n",
              "      <td>11.039070</td>\n",
              "      <td>69.845400</td>\n",
              "      <td>3.298875</td>\n",
              "      <td>1</td>\n",
              "    </tr>\n",
              "    <tr>\n",
              "      <th>3274</th>\n",
              "      <td>5.126763</td>\n",
              "      <td>230.603758</td>\n",
              "      <td>11983.869376</td>\n",
              "      <td>6.303357</td>\n",
              "      <td>NaN</td>\n",
              "      <td>402.883113</td>\n",
              "      <td>11.168946</td>\n",
              "      <td>77.488213</td>\n",
              "      <td>4.708658</td>\n",
              "      <td>1</td>\n",
              "    </tr>\n",
              "    <tr>\n",
              "      <th>3275</th>\n",
              "      <td>7.874671</td>\n",
              "      <td>195.102299</td>\n",
              "      <td>17404.177061</td>\n",
              "      <td>7.509306</td>\n",
              "      <td>NaN</td>\n",
              "      <td>327.459760</td>\n",
              "      <td>16.140368</td>\n",
              "      <td>78.698446</td>\n",
              "      <td>2.309149</td>\n",
              "      <td>1</td>\n",
              "    </tr>\n",
              "  </tbody>\n",
              "</table>\n",
              "<p>3276 rows × 10 columns</p>\n",
              "</div>\n",
              "      <button class=\"colab-df-convert\" onclick=\"convertToInteractive('df-d476b1d0-e5ca-419e-bdba-d400a49db5ed')\"\n",
              "              title=\"Convert this dataframe to an interactive table.\"\n",
              "              style=\"display:none;\">\n",
              "\n",
              "  <svg xmlns=\"http://www.w3.org/2000/svg\" height=\"24px\"viewBox=\"0 0 24 24\"\n",
              "       width=\"24px\">\n",
              "    <path d=\"M0 0h24v24H0V0z\" fill=\"none\"/>\n",
              "    <path d=\"M18.56 5.44l.94 2.06.94-2.06 2.06-.94-2.06-.94-.94-2.06-.94 2.06-2.06.94zm-11 1L8.5 8.5l.94-2.06 2.06-.94-2.06-.94L8.5 2.5l-.94 2.06-2.06.94zm10 10l.94 2.06.94-2.06 2.06-.94-2.06-.94-.94-2.06-.94 2.06-2.06.94z\"/><path d=\"M17.41 7.96l-1.37-1.37c-.4-.4-.92-.59-1.43-.59-.52 0-1.04.2-1.43.59L10.3 9.45l-7.72 7.72c-.78.78-.78 2.05 0 2.83L4 21.41c.39.39.9.59 1.41.59.51 0 1.02-.2 1.41-.59l7.78-7.78 2.81-2.81c.8-.78.8-2.07 0-2.86zM5.41 20L4 18.59l7.72-7.72 1.47 1.35L5.41 20z\"/>\n",
              "  </svg>\n",
              "      </button>\n",
              "\n",
              "\n",
              "\n",
              "    <div id=\"df-166b9216-2c59-4f94-a4b4-089d96f0b59d\">\n",
              "      <button class=\"colab-df-quickchart\" onclick=\"quickchart('df-166b9216-2c59-4f94-a4b4-089d96f0b59d')\"\n",
              "              title=\"Suggest charts.\"\n",
              "              style=\"display:none;\">\n",
              "\n",
              "<svg xmlns=\"http://www.w3.org/2000/svg\" height=\"24px\"viewBox=\"0 0 24 24\"\n",
              "     width=\"24px\">\n",
              "    <g>\n",
              "        <path d=\"M19 3H5c-1.1 0-2 .9-2 2v14c0 1.1.9 2 2 2h14c1.1 0 2-.9 2-2V5c0-1.1-.9-2-2-2zM9 17H7v-7h2v7zm4 0h-2V7h2v10zm4 0h-2v-4h2v4z\"/>\n",
              "    </g>\n",
              "</svg>\n",
              "      </button>\n",
              "    </div>\n",
              "\n",
              "<style>\n",
              "  .colab-df-quickchart {\n",
              "    background-color: #E8F0FE;\n",
              "    border: none;\n",
              "    border-radius: 50%;\n",
              "    cursor: pointer;\n",
              "    display: none;\n",
              "    fill: #1967D2;\n",
              "    height: 32px;\n",
              "    padding: 0 0 0 0;\n",
              "    width: 32px;\n",
              "  }\n",
              "\n",
              "  .colab-df-quickchart:hover {\n",
              "    background-color: #E2EBFA;\n",
              "    box-shadow: 0px 1px 2px rgba(60, 64, 67, 0.3), 0px 1px 3px 1px rgba(60, 64, 67, 0.15);\n",
              "    fill: #174EA6;\n",
              "  }\n",
              "\n",
              "  [theme=dark] .colab-df-quickchart {\n",
              "    background-color: #3B4455;\n",
              "    fill: #D2E3FC;\n",
              "  }\n",
              "\n",
              "  [theme=dark] .colab-df-quickchart:hover {\n",
              "    background-color: #434B5C;\n",
              "    box-shadow: 0px 1px 3px 1px rgba(0, 0, 0, 0.15);\n",
              "    filter: drop-shadow(0px 1px 2px rgba(0, 0, 0, 0.3));\n",
              "    fill: #FFFFFF;\n",
              "  }\n",
              "</style>\n",
              "\n",
              "    <script>\n",
              "      async function quickchart(key) {\n",
              "        const containerElement = document.querySelector('#' + key);\n",
              "        const charts = await google.colab.kernel.invokeFunction(\n",
              "            'suggestCharts', [key], {});\n",
              "      }\n",
              "    </script>\n",
              "\n",
              "      <script>\n",
              "\n",
              "function displayQuickchartButton(domScope) {\n",
              "  let quickchartButtonEl =\n",
              "    domScope.querySelector('#df-166b9216-2c59-4f94-a4b4-089d96f0b59d button.colab-df-quickchart');\n",
              "  quickchartButtonEl.style.display =\n",
              "    google.colab.kernel.accessAllowed ? 'block' : 'none';\n",
              "}\n",
              "\n",
              "        displayQuickchartButton(document);\n",
              "      </script>\n",
              "      <style>\n",
              "    .colab-df-container {\n",
              "      display:flex;\n",
              "      flex-wrap:wrap;\n",
              "      gap: 12px;\n",
              "    }\n",
              "\n",
              "    .colab-df-convert {\n",
              "      background-color: #E8F0FE;\n",
              "      border: none;\n",
              "      border-radius: 50%;\n",
              "      cursor: pointer;\n",
              "      display: none;\n",
              "      fill: #1967D2;\n",
              "      height: 32px;\n",
              "      padding: 0 0 0 0;\n",
              "      width: 32px;\n",
              "    }\n",
              "\n",
              "    .colab-df-convert:hover {\n",
              "      background-color: #E2EBFA;\n",
              "      box-shadow: 0px 1px 2px rgba(60, 64, 67, 0.3), 0px 1px 3px 1px rgba(60, 64, 67, 0.15);\n",
              "      fill: #174EA6;\n",
              "    }\n",
              "\n",
              "    [theme=dark] .colab-df-convert {\n",
              "      background-color: #3B4455;\n",
              "      fill: #D2E3FC;\n",
              "    }\n",
              "\n",
              "    [theme=dark] .colab-df-convert:hover {\n",
              "      background-color: #434B5C;\n",
              "      box-shadow: 0px 1px 3px 1px rgba(0, 0, 0, 0.15);\n",
              "      filter: drop-shadow(0px 1px 2px rgba(0, 0, 0, 0.3));\n",
              "      fill: #FFFFFF;\n",
              "    }\n",
              "  </style>\n",
              "\n",
              "      <script>\n",
              "        const buttonEl =\n",
              "          document.querySelector('#df-d476b1d0-e5ca-419e-bdba-d400a49db5ed button.colab-df-convert');\n",
              "        buttonEl.style.display =\n",
              "          google.colab.kernel.accessAllowed ? 'block' : 'none';\n",
              "\n",
              "        async function convertToInteractive(key) {\n",
              "          const element = document.querySelector('#df-d476b1d0-e5ca-419e-bdba-d400a49db5ed');\n",
              "          const dataTable =\n",
              "            await google.colab.kernel.invokeFunction('convertToInteractive',\n",
              "                                                     [key], {});\n",
              "          if (!dataTable) return;\n",
              "\n",
              "          const docLinkHtml = 'Like what you see? Visit the ' +\n",
              "            '<a target=\"_blank\" href=https://colab.research.google.com/notebooks/data_table.ipynb>data table notebook</a>'\n",
              "            + ' to learn more about interactive tables.';\n",
              "          element.innerHTML = '';\n",
              "          dataTable['output_type'] = 'display_data';\n",
              "          await google.colab.output.renderOutput(dataTable, element);\n",
              "          const docLink = document.createElement('div');\n",
              "          docLink.innerHTML = docLinkHtml;\n",
              "          element.appendChild(docLink);\n",
              "        }\n",
              "      </script>\n",
              "    </div>\n",
              "  </div>\n"
            ]
          },
          "metadata": {},
          "execution_count": 4
        }
      ]
    },
    {
      "cell_type": "code",
      "source": [
        "#Replace null values based on the group/sample mean\n",
        "df['ph']=df['ph'].fillna(df.groupby(['Potability'])['ph'].transform('mean'))\n",
        "df['Sulfate']=df['Sulfate'].fillna(df.groupby(['Potability'])['Sulfate'].transform('mean'))\n",
        "df['Trihalomethanes']=df['Trihalomethanes'].fillna(df.groupby(['Potability'])['Trihalomethanes'].transform('mean'))"
      ],
      "metadata": {
        "id": "n158A5fmKA9k"
      },
      "execution_count": 13,
      "outputs": []
    },
    {
      "cell_type": "code",
      "execution_count": 17,
      "metadata": {
        "id": "0c95f4ac"
      },
      "outputs": [],
      "source": [
        "from mealpy.swarm_based import PSO,SSpiderA,SSA\n",
        "from sklearn.ensemble import RandomForestClassifier"
      ]
    },
    {
      "cell_type": "code",
      "execution_count": 75,
      "metadata": {
        "id": "dd7f1ac5"
      },
      "outputs": [],
      "source": [
        "def fitness_function(solution):\n",
        "    max_depth = solution[0]\n",
        "    n_estimator = solution[1]\n",
        "    learning_rate = solution[2]\n",
        "    clf = XGBClassifier(max_depth=int(max_depth),\n",
        "                    n_estimators=int(n_estimator),random_state=0,learning_rate=learning_rate,\n",
        "                    )\n",
        "    # Fit the model\n",
        "    clf.fit(X, Y)\n",
        "    # Make the predictions\n",
        "    y_ = clf.predict(x)\n",
        "    # cm = confusion_matrix(y,y_)\n",
        "    # km = cm[0][1]+cm[1][0]\n",
        "    return f1_score(y,y_,average='micro')\n",
        "\n",
        "problem = {\n",
        "    \"fit_func\": fitness_function,\n",
        "    \"lb\": [8, 100, 0.01],\n",
        "    \"ub\": [12, 1000, .9],\n",
        "    \"minmax\": \"max\",\n",
        "}"
      ]
    },
    {
      "cell_type": "code",
      "source": [
        "X_ = df.drop(\"Potability\", axis=1).values\n",
        "y_ = df[\"Potability\"].values\n",
        "\n",
        "# Train Test Split\n",
        "X, x, Y, y = train_test_split(X_, y_, test_size=0.2, random_state=3)\n",
        "\n",
        "print(\"X_train\", X.shape)\n",
        "print(\"X_test\", x.shape)\n",
        "print(\"y_train\", Y.shape)\n",
        "print(\"y_test\", y.shape)"
      ],
      "metadata": {
        "colab": {
          "base_uri": "https://localhost:8080/"
        },
        "id": "t6GMdN75Lmf7",
        "outputId": "52305a71-865d-4be6-fe76-e5678c01fc26"
      },
      "execution_count": 29,
      "outputs": [
        {
          "output_type": "stream",
          "name": "stdout",
          "text": [
            "X_train (2620, 9)\n",
            "X_test (656, 9)\n",
            "y_train (2620,)\n",
            "y_test (656,)\n"
          ]
        }
      ]
    },
    {
      "cell_type": "code",
      "source": [
        "clf = XGBClassifier(random_state=0)\n",
        "# Fit the model\n",
        "clf.fit(X, Y)\n",
        "# Make the predictions\n",
        "y_ = clf.predict(x)\n",
        "cm = confusion_matrix(y,y_)\n",
        "km = cm[0][1]+cm[1][0]\n",
        "f1_score(y,y_,average='micro')"
      ],
      "metadata": {
        "id": "KZt25hMRTux_",
        "colab": {
          "base_uri": "https://localhost:8080/"
        },
        "outputId": "4a8cc70c-9738-411b-e9ec-188a19ca2737"
      },
      "execution_count": 76,
      "outputs": [
        {
          "output_type": "execute_result",
          "data": {
            "text/plain": [
              "0.7896341463414633"
            ]
          },
          "metadata": {},
          "execution_count": 76
        }
      ]
    },
    {
      "cell_type": "code",
      "source": [],
      "metadata": {
        "id": "vHPt4f9oTzfk"
      },
      "execution_count": 76,
      "outputs": []
    },
    {
      "cell_type": "code",
      "execution_count": 77,
      "metadata": {
        "id": "1c951581",
        "outputId": "b1d18909-bf4f-46d6-f232-8c3c7bb92094",
        "colab": {
          "base_uri": "https://localhost:8080/"
        }
      },
      "outputs": [
        {
          "output_type": "stream",
          "name": "stderr",
          "text": [
            "INFO:mealpy.bio_based.SMA.BaseSMA:Solving single objective optimization problem.\n",
            "INFO:mealpy.bio_based.SMA.BaseSMA:>Problem: P, Epoch: 1, Current best: 0.7926829268292683, Global best: 0.7926829268292683, Runtime: 68.32700 seconds\n",
            "INFO:mealpy.bio_based.SMA.BaseSMA:>Problem: P, Epoch: 2, Current best: 0.7926829268292683, Global best: 0.7926829268292683, Runtime: 51.67863 seconds\n",
            "INFO:mealpy.bio_based.SMA.BaseSMA:>Problem: P, Epoch: 3, Current best: 0.7926829268292683, Global best: 0.7926829268292683, Runtime: 40.27912 seconds\n",
            "INFO:mealpy.bio_based.SMA.BaseSMA:>Problem: P, Epoch: 4, Current best: 0.7926829268292683, Global best: 0.7926829268292683, Runtime: 42.79696 seconds\n",
            "INFO:mealpy.bio_based.SMA.BaseSMA:>Problem: P, Epoch: 5, Current best: 0.7926829268292683, Global best: 0.7926829268292683, Runtime: 44.68502 seconds\n",
            "INFO:mealpy.bio_based.SMA.BaseSMA:>Problem: P, Epoch: 6, Current best: 0.7926829268292683, Global best: 0.7926829268292683, Runtime: 41.39617 seconds\n",
            "INFO:mealpy.bio_based.SMA.BaseSMA:>Problem: P, Epoch: 7, Current best: 0.7926829268292683, Global best: 0.7926829268292683, Runtime: 40.26809 seconds\n",
            "INFO:mealpy.bio_based.SMA.BaseSMA:>Problem: P, Epoch: 8, Current best: 0.7926829268292683, Global best: 0.7926829268292683, Runtime: 40.62183 seconds\n",
            "INFO:mealpy.bio_based.SMA.BaseSMA:>Problem: P, Epoch: 9, Current best: 0.7926829268292683, Global best: 0.7926829268292683, Runtime: 39.75802 seconds\n",
            "INFO:mealpy.bio_based.SMA.BaseSMA:>Problem: P, Epoch: 10, Current best: 0.7926829268292683, Global best: 0.7926829268292683, Runtime: 39.22105 seconds\n",
            "INFO:mealpy.bio_based.SMA.BaseSMA:>Problem: P, Epoch: 11, Current best: 0.7926829268292683, Global best: 0.7926829268292683, Runtime: 44.63663 seconds\n",
            "INFO:mealpy.bio_based.SMA.BaseSMA:>Problem: P, Epoch: 12, Current best: 0.7926829268292683, Global best: 0.7926829268292683, Runtime: 40.43666 seconds\n",
            "INFO:mealpy.bio_based.SMA.BaseSMA:>Problem: P, Epoch: 13, Current best: 0.7942073170731707, Global best: 0.7942073170731707, Runtime: 39.09310 seconds\n",
            "INFO:mealpy.bio_based.SMA.BaseSMA:>Problem: P, Epoch: 14, Current best: 0.7942073170731707, Global best: 0.7942073170731707, Runtime: 41.89969 seconds\n",
            "INFO:mealpy.bio_based.SMA.BaseSMA:>Problem: P, Epoch: 15, Current best: 0.7942073170731707, Global best: 0.7942073170731707, Runtime: 49.00109 seconds\n",
            "INFO:mealpy.bio_based.SMA.BaseSMA:>Problem: P, Epoch: 16, Current best: 0.7942073170731707, Global best: 0.7942073170731707, Runtime: 40.16234 seconds\n",
            "INFO:mealpy.bio_based.SMA.BaseSMA:>Problem: P, Epoch: 17, Current best: 0.7942073170731707, Global best: 0.7942073170731707, Runtime: 35.96291 seconds\n",
            "INFO:mealpy.bio_based.SMA.BaseSMA:>Problem: P, Epoch: 18, Current best: 0.7942073170731707, Global best: 0.7942073170731707, Runtime: 39.28767 seconds\n",
            "INFO:mealpy.bio_based.SMA.BaseSMA:>Problem: P, Epoch: 19, Current best: 0.7942073170731707, Global best: 0.7942073170731707, Runtime: 39.46805 seconds\n",
            "INFO:mealpy.bio_based.SMA.BaseSMA:>Problem: P, Epoch: 20, Current best: 0.7942073170731707, Global best: 0.7942073170731707, Runtime: 39.53807 seconds\n"
          ]
        }
      ],
      "source": [
        "model = SMA.BaseSMA(epoch=20, pop_size=40)\n",
        "best_position, best_fitness = model.solve(problem)\n"
      ]
    },
    {
      "cell_type": "code",
      "source": [
        "lstm = model.history.list_current_best"
      ],
      "metadata": {
        "id": "ywvpkS7FVz2U"
      },
      "execution_count": 55,
      "outputs": []
    },
    {
      "cell_type": "code",
      "source": [
        "i = 60\n",
        "int(lstm[i][0][0]),int(lstm[i][0][1]),lstm[i][0][2],lstm[i][1][0],lstm[i][1][1][0]"
      ],
      "metadata": {
        "colab": {
          "base_uri": "https://localhost:8080/"
        },
        "id": "shVxpOZDWHFd",
        "outputId": "e01d1108-dd2a-4a90-bbcd-7baa4065dae5"
      },
      "execution_count": 67,
      "outputs": [
        {
          "output_type": "execute_result",
          "data": {
            "text/plain": [
              "(8, 100, 0.773625321853871, 0.7752420676299717, 0.7752420676299717)"
            ]
          },
          "metadata": {},
          "execution_count": 67
        }
      ]
    },
    {
      "cell_type": "code",
      "source": [
        "s = pd.DataFrame()\n",
        "s['p']=lstm[i][1][0]\n",
        "s['p2']=lstm[i][1][1][0]"
      ],
      "metadata": {
        "id": "r68LQt7HnNN9"
      },
      "execution_count": 69,
      "outputs": []
    },
    {
      "cell_type": "code",
      "source": [
        "s.to_csv('/content/drive/MyDrive/p.csv')"
      ],
      "metadata": {
        "id": "mYCpQI89oDLl"
      },
      "execution_count": 70,
      "outputs": []
    },
    {
      "cell_type": "code",
      "source": [],
      "metadata": {
        "id": "M0CM9iTnoHZn"
      },
      "execution_count": null,
      "outputs": []
    }
  ]
}