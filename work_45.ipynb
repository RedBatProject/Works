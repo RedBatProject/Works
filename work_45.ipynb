{
  "nbformat": 4,
  "nbformat_minor": 0,
  "metadata": {
    "colab": {
      "provenance": [],
      "mount_file_id": "1CaYga3ZZgJcAjd5u5DjKHsPHMeSAld36",
      "authorship_tag": "ABX9TyMYsMH4vyuYO1nxZ6vWphVD",
      "include_colab_link": true
    },
    "kernelspec": {
      "name": "python3",
      "display_name": "Python 3"
    },
    "language_info": {
      "name": "python"
    }
  },
  "cells": [
    {
      "cell_type": "markdown",
      "metadata": {
        "id": "view-in-github",
        "colab_type": "text"
      },
      "source": [
        "<a href=\"https://colab.research.google.com/github/RedBatProject/Works/blob/main/work_45.ipynb\" target=\"_parent\"><img src=\"https://colab.research.google.com/assets/colab-badge.svg\" alt=\"Open In Colab\"/></a>"
      ]
    },
    {
      "cell_type": "markdown",
      "source": [
        "# Imports"
      ],
      "metadata": {
        "id": "YJPunkokIZ9z"
      }
    },
    {
      "cell_type": "code",
      "execution_count": 1,
      "metadata": {
        "id": "qOHTybBxIGtb",
        "colab": {
          "base_uri": "https://localhost:8080/"
        },
        "outputId": "fb55cf4d-a3f9-470b-b025-5afedab00913"
      },
      "outputs": [
        {
          "output_type": "stream",
          "name": "stdout",
          "text": [
            "Collecting mealpy\n",
            "  Downloading mealpy-2.5.3-py3-none-any.whl (380 kB)\n",
            "\u001b[2K     \u001b[90m━━━━━━━━━━━━━━━━━━━━━━━━━━━━━━━━━━━━━━━\u001b[0m \u001b[32m380.7/380.7 kB\u001b[0m \u001b[31m4.5 MB/s\u001b[0m eta \u001b[36m0:00:00\u001b[0m\n",
            "\u001b[?25hRequirement already satisfied: numpy>=1.16.5 in /usr/local/lib/python3.10/dist-packages (from mealpy) (1.22.4)\n",
            "Requirement already satisfied: matplotlib>=3.3.0 in /usr/local/lib/python3.10/dist-packages (from mealpy) (3.7.1)\n",
            "Requirement already satisfied: scipy>=1.7.1 in /usr/local/lib/python3.10/dist-packages (from mealpy) (1.10.1)\n",
            "Requirement already satisfied: pandas>=1.2.0 in /usr/local/lib/python3.10/dist-packages (from mealpy) (1.5.3)\n",
            "Collecting opfunu>=1.0.0 (from mealpy)\n",
            "  Downloading opfunu-1.0.0-py3-none-any.whl (20.4 MB)\n",
            "\u001b[2K     \u001b[90m━━━━━━━━━━━━━━━━━━━━━━━━━━━━━━━━━━━━━━━━\u001b[0m \u001b[32m20.4/20.4 MB\u001b[0m \u001b[31m4.7 MB/s\u001b[0m eta \u001b[36m0:00:00\u001b[0m\n",
            "\u001b[?25hRequirement already satisfied: contourpy>=1.0.1 in /usr/local/lib/python3.10/dist-packages (from matplotlib>=3.3.0->mealpy) (1.1.0)\n",
            "Requirement already satisfied: cycler>=0.10 in /usr/local/lib/python3.10/dist-packages (from matplotlib>=3.3.0->mealpy) (0.11.0)\n",
            "Requirement already satisfied: fonttools>=4.22.0 in /usr/local/lib/python3.10/dist-packages (from matplotlib>=3.3.0->mealpy) (4.41.1)\n",
            "Requirement already satisfied: kiwisolver>=1.0.1 in /usr/local/lib/python3.10/dist-packages (from matplotlib>=3.3.0->mealpy) (1.4.4)\n",
            "Requirement already satisfied: packaging>=20.0 in /usr/local/lib/python3.10/dist-packages (from matplotlib>=3.3.0->mealpy) (23.1)\n",
            "Requirement already satisfied: pillow>=6.2.0 in /usr/local/lib/python3.10/dist-packages (from matplotlib>=3.3.0->mealpy) (9.4.0)\n",
            "Requirement already satisfied: pyparsing>=2.3.1 in /usr/local/lib/python3.10/dist-packages (from matplotlib>=3.3.0->mealpy) (3.1.0)\n",
            "Requirement already satisfied: python-dateutil>=2.7 in /usr/local/lib/python3.10/dist-packages (from matplotlib>=3.3.0->mealpy) (2.8.2)\n",
            "Requirement already satisfied: pytz>=2020.1 in /usr/local/lib/python3.10/dist-packages (from pandas>=1.2.0->mealpy) (2022.7.1)\n",
            "Requirement already satisfied: six>=1.5 in /usr/local/lib/python3.10/dist-packages (from python-dateutil>=2.7->matplotlib>=3.3.0->mealpy) (1.16.0)\n",
            "Installing collected packages: opfunu, mealpy\n",
            "Successfully installed mealpy-2.5.3 opfunu-1.0.0\n",
            "Requirement already satisfied: mealpy in /usr/local/lib/python3.10/dist-packages (2.5.3)\n",
            "Requirement already satisfied: numpy>=1.16.5 in /usr/local/lib/python3.10/dist-packages (from mealpy) (1.22.4)\n",
            "Requirement already satisfied: matplotlib>=3.3.0 in /usr/local/lib/python3.10/dist-packages (from mealpy) (3.7.1)\n",
            "Requirement already satisfied: scipy>=1.7.1 in /usr/local/lib/python3.10/dist-packages (from mealpy) (1.10.1)\n",
            "Requirement already satisfied: pandas>=1.2.0 in /usr/local/lib/python3.10/dist-packages (from mealpy) (1.5.3)\n",
            "Requirement already satisfied: opfunu>=1.0.0 in /usr/local/lib/python3.10/dist-packages (from mealpy) (1.0.0)\n",
            "Requirement already satisfied: contourpy>=1.0.1 in /usr/local/lib/python3.10/dist-packages (from matplotlib>=3.3.0->mealpy) (1.1.0)\n",
            "Requirement already satisfied: cycler>=0.10 in /usr/local/lib/python3.10/dist-packages (from matplotlib>=3.3.0->mealpy) (0.11.0)\n",
            "Requirement already satisfied: fonttools>=4.22.0 in /usr/local/lib/python3.10/dist-packages (from matplotlib>=3.3.0->mealpy) (4.41.1)\n",
            "Requirement already satisfied: kiwisolver>=1.0.1 in /usr/local/lib/python3.10/dist-packages (from matplotlib>=3.3.0->mealpy) (1.4.4)\n",
            "Requirement already satisfied: packaging>=20.0 in /usr/local/lib/python3.10/dist-packages (from matplotlib>=3.3.0->mealpy) (23.1)\n",
            "Requirement already satisfied: pillow>=6.2.0 in /usr/local/lib/python3.10/dist-packages (from matplotlib>=3.3.0->mealpy) (9.4.0)\n",
            "Requirement already satisfied: pyparsing>=2.3.1 in /usr/local/lib/python3.10/dist-packages (from matplotlib>=3.3.0->mealpy) (3.1.0)\n",
            "Requirement already satisfied: python-dateutil>=2.7 in /usr/local/lib/python3.10/dist-packages (from matplotlib>=3.3.0->mealpy) (2.8.2)\n",
            "Requirement already satisfied: pytz>=2020.1 in /usr/local/lib/python3.10/dist-packages (from pandas>=1.2.0->mealpy) (2022.7.1)\n",
            "Requirement already satisfied: six>=1.5 in /usr/local/lib/python3.10/dist-packages (from python-dateutil>=2.7->matplotlib>=3.3.0->mealpy) (1.16.0)\n",
            "Colab only includes TensorFlow 2.x; %tensorflow_version has no effect.\n",
            "Collecting catboost\n",
            "  Downloading catboost-1.2-cp310-cp310-manylinux2014_x86_64.whl (98.6 MB)\n",
            "\u001b[2K     \u001b[90m━━━━━━━━━━━━━━━━━━━━━━━━━━━━━━━━━━━━━━━━\u001b[0m \u001b[32m98.6/98.6 MB\u001b[0m \u001b[31m6.8 MB/s\u001b[0m eta \u001b[36m0:00:00\u001b[0m\n",
            "\u001b[?25hRequirement already satisfied: graphviz in /usr/local/lib/python3.10/dist-packages (from catboost) (0.20.1)\n",
            "Requirement already satisfied: matplotlib in /usr/local/lib/python3.10/dist-packages (from catboost) (3.7.1)\n",
            "Requirement already satisfied: numpy>=1.16.0 in /usr/local/lib/python3.10/dist-packages (from catboost) (1.22.4)\n",
            "Requirement already satisfied: pandas>=0.24 in /usr/local/lib/python3.10/dist-packages (from catboost) (1.5.3)\n",
            "Requirement already satisfied: scipy in /usr/local/lib/python3.10/dist-packages (from catboost) (1.10.1)\n",
            "Requirement already satisfied: plotly in /usr/local/lib/python3.10/dist-packages (from catboost) (5.13.1)\n",
            "Requirement already satisfied: six in /usr/local/lib/python3.10/dist-packages (from catboost) (1.16.0)\n",
            "Requirement already satisfied: python-dateutil>=2.8.1 in /usr/local/lib/python3.10/dist-packages (from pandas>=0.24->catboost) (2.8.2)\n",
            "Requirement already satisfied: pytz>=2020.1 in /usr/local/lib/python3.10/dist-packages (from pandas>=0.24->catboost) (2022.7.1)\n",
            "Requirement already satisfied: contourpy>=1.0.1 in /usr/local/lib/python3.10/dist-packages (from matplotlib->catboost) (1.1.0)\n",
            "Requirement already satisfied: cycler>=0.10 in /usr/local/lib/python3.10/dist-packages (from matplotlib->catboost) (0.11.0)\n",
            "Requirement already satisfied: fonttools>=4.22.0 in /usr/local/lib/python3.10/dist-packages (from matplotlib->catboost) (4.41.1)\n",
            "Requirement already satisfied: kiwisolver>=1.0.1 in /usr/local/lib/python3.10/dist-packages (from matplotlib->catboost) (1.4.4)\n",
            "Requirement already satisfied: packaging>=20.0 in /usr/local/lib/python3.10/dist-packages (from matplotlib->catboost) (23.1)\n",
            "Requirement already satisfied: pillow>=6.2.0 in /usr/local/lib/python3.10/dist-packages (from matplotlib->catboost) (9.4.0)\n",
            "Requirement already satisfied: pyparsing>=2.3.1 in /usr/local/lib/python3.10/dist-packages (from matplotlib->catboost) (3.1.0)\n",
            "Requirement already satisfied: tenacity>=6.2.0 in /usr/local/lib/python3.10/dist-packages (from plotly->catboost) (8.2.2)\n",
            "Installing collected packages: catboost\n",
            "Successfully installed catboost-1.2\n",
            "WELLCOME TO IMPLEMENTATION\n"
          ]
        }
      ],
      "source": [
        "!pip install mealpy\n",
        "import mealpy\n",
        "from mealpy.bio_based import BBO, EOA, IWO, SBO, SMA, TPO, VCS, WHO\n",
        "from mealpy.evolutionary_based import CRO, DE, EP, ES, FPA, GA, MA\n",
        "from mealpy.human_based import BRO, BSO, CA, CHIO, FBIO, GSKA, ICA, LCO, QSA, SARO, SSDO, TLO\n",
        "from mealpy.math_based import AOA, CGO, GBO, HC, SCA, PSS\n",
        "from mealpy.music_based import HS\n",
        "from mealpy.physics_based import ArchOA, ASO, EFO, EO, HGSO, MVO, NRO, SA, TWO, WDO\n",
        "# from mealpy.probabilistic_based import CEM\n",
        "from mealpy.system_based import AEO, GCO, WCA\n",
        "from mealpy.swarm_based import ABC, ACOR, ALO, AO, BA, BeesA, BES, BFO, BSA, COA, CSA, CSO, DO, EHO, FA, FFA, FOA, GOA, GWO, HGS\n",
        "from mealpy.swarm_based import HHO, JA, MFO, MRFO, MSA, NMRA, PFA, PSO, SFO, SHO, SLO, SRSR, SSA, SSO, SSpiderA, SSpiderO, WOA\n",
        "from sys import exit\n",
        "import numpy as np\n",
        "import tweepy\n",
        "import webbrowser\n",
        "import time\n",
        "import pandas as pd\n",
        "import datetime\n",
        "import threading\n",
        "import matplotlib.pyplot as plt\n",
        "import numpy as np\n",
        "import pandas as pd\n",
        "from sklearn.model_selection import cross_val_score\n",
        "!pip install mealpy\n",
        "import mealpy\n",
        "# Load libraries\n",
        "%tensorflow_version 2.x\n",
        "from __future__ import absolute_import, division, print_function, unicode_literals\n",
        "\n",
        "import numpy as np\n",
        "import pandas as pd\n",
        "import matplotlib.pyplot as plt\n",
        "from IPython.display import clear_output\n",
        "from six.moves import urllib\n",
        "\n",
        "import tensorflow.compat.v2.feature_column as fc\n",
        "\n",
        "import tensorflow as tf\n",
        "from pandas.plotting import scatter_matrix\n",
        "from sklearn import model_selection\n",
        "from sklearn.metrics import classification_report\n",
        "from sklearn.metrics import confusion_matrix\n",
        "import random as rn\n",
        "# from sklearn.metrics import confusion_matrix, plot_confusion_matrix, classification_report\n",
        "# create the models\n",
        "from sklearn.tree import DecisionTreeClassifier\n",
        "from sklearn.discriminant_analysis import LinearDiscriminantAnalysis\n",
        "from sklearn.metrics import accuracy_score\n",
        "from sklearn.metrics import precision_score\n",
        "from sklearn.metrics import recall_score\n",
        "from sklearn.metrics import f1_score\n",
        "# module imports\n",
        "import numpy as np\n",
        "import pandas as pd\n",
        "import matplotlib.pyplot as plt\n",
        "import seaborn as sns\n",
        "import itertools\n",
        "import random as rn\n",
        "\n",
        "# model imports\n",
        "from sklearn.cluster import KMeans #one with clusterimg (disaster)\n",
        "from sklearn.ensemble import RandomForestClassifier\n",
        "from sklearn.neighbors import KNeighborsClassifier\n",
        "from sklearn.linear_model import LogisticRegression\n",
        "from sklearn.tree import DecisionTreeClassifier\n",
        "from sklearn.multiclass import OneVsRestClassifier\n",
        "from sklearn.tree import DecisionTreeRegressor\n",
        "from sklearn.dummy import DummyClassifier #that zero\n",
        "from sklearn.svm import SVC, SVR\n",
        "from sklearn.naive_bayes import GaussianNB\n",
        "# from sklearn.ensemble import RandomForestClassifier\n",
        "# processing imports\n",
        "from sklearn.preprocessing import LabelEncoder\n",
        "from sklearn.model_selection import train_test_split\n",
        "from sklearn.model_selection import cross_val_score\n",
        "from sklearn.metrics import mean_absolute_error\n",
        "# from sklearn.metrics import accuracy_score\n",
        "# from sklearn.metrics import confusion_matrix\n",
        "from time import time\n",
        "from sklearn.model_selection import train_test_split\n",
        "from sklearn.naive_bayes import MultinomialNB\n",
        "!pip install catboost\n",
        "from xgboost import XGBClassifier\n",
        "from catboost import CatBoostClassifier\n",
        "from sklearn.linear_model import LogisticRegression\n",
        "from sklearn.ensemble import RandomForestClassifier\n",
        "from sklearn.svm import LinearSVC\n",
        "from sklearn import metrics\n",
        "# Sklearn modules & classes\n",
        "from sklearn.svm import SVC\n",
        "from sklearn.model_selection import train_test_split, GridSearchCV\n",
        "from sklearn.preprocessing import StandardScaler, LabelEncoder\n",
        "from sklearn import datasets, metrics\n",
        "from mealpy.bio_based import SMA\n",
        "import mealpy\n",
        "from sklearn.naive_bayes import GaussianNB\n",
        "import mealpy\n",
        "import time\n",
        "print(\"WELLCOME TO IMPLEMENTATION\")"
      ]
    },
    {
      "cell_type": "code",
      "source": [
        "from sklearn.model_selection import KFold, cross_val_score\n",
        "from collections import Counter\n",
        "from sklearn.datasets import make_classification\n",
        "from imblearn.over_sampling import SVMSMOTE\n",
        "# X = [\"a\", \"a\", \"a\", \"b\", \"b\", \"c\", \"c\", \"c\", \"c\", \"c\"]\n",
        "k_fold = KFold(n_splits=5,shuffle=True, random_state=2)"
      ],
      "metadata": {
        "id": "3LzoIvnKJUVh"
      },
      "execution_count": 2,
      "outputs": []
    },
    {
      "cell_type": "markdown",
      "source": [
        "# data"
      ],
      "metadata": {
        "id": "d1ObK-78Imh4"
      }
    },
    {
      "cell_type": "code",
      "source": [
        "df = pd.read_csv('/content/drive/MyDrive/work 44 water/water_potability.csv')\n",
        "df"
      ],
      "metadata": {
        "colab": {
          "base_uri": "https://localhost:8080/",
          "height": 424
        },
        "id": "naWbEBcxIQU3",
        "outputId": "113d02ea-27a5-4e60-8b29-8d41e5e905ce"
      },
      "execution_count": 3,
      "outputs": [
        {
          "output_type": "execute_result",
          "data": {
            "text/plain": [
              "            ph    Hardness        Solids  Chloramines     Sulfate  \\\n",
              "0          NaN  204.890455  20791.318981     7.300212  368.516441   \n",
              "1     3.716080  129.422921  18630.057858     6.635246         NaN   \n",
              "2     8.099124  224.236259  19909.541732     9.275884         NaN   \n",
              "3     8.316766  214.373394  22018.417441     8.059332  356.886136   \n",
              "4     9.092223  181.101509  17978.986339     6.546600  310.135738   \n",
              "...        ...         ...           ...          ...         ...   \n",
              "3271  4.668102  193.681735  47580.991603     7.166639  359.948574   \n",
              "3272  7.808856  193.553212  17329.802160     8.061362         NaN   \n",
              "3273  9.419510  175.762646  33155.578218     7.350233         NaN   \n",
              "3274  5.126763  230.603758  11983.869376     6.303357         NaN   \n",
              "3275  7.874671  195.102299  17404.177061     7.509306         NaN   \n",
              "\n",
              "      Conductivity  Organic_carbon  Trihalomethanes  Turbidity  Potability  \n",
              "0       564.308654       10.379783        86.990970   2.963135           0  \n",
              "1       592.885359       15.180013        56.329076   4.500656           0  \n",
              "2       418.606213       16.868637        66.420093   3.055934           0  \n",
              "3       363.266516       18.436524       100.341674   4.628771           0  \n",
              "4       398.410813       11.558279        31.997993   4.075075           0  \n",
              "...            ...             ...              ...        ...         ...  \n",
              "3271    526.424171       13.894419        66.687695   4.435821           1  \n",
              "3272    392.449580       19.903225              NaN   2.798243           1  \n",
              "3273    432.044783       11.039070        69.845400   3.298875           1  \n",
              "3274    402.883113       11.168946        77.488213   4.708658           1  \n",
              "3275    327.459760       16.140368        78.698446   2.309149           1  \n",
              "\n",
              "[3276 rows x 10 columns]"
            ],
            "text/html": [
              "\n",
              "\n",
              "  <div id=\"df-eacce6c7-acef-4322-8684-f4925e079683\">\n",
              "    <div class=\"colab-df-container\">\n",
              "      <div>\n",
              "<style scoped>\n",
              "    .dataframe tbody tr th:only-of-type {\n",
              "        vertical-align: middle;\n",
              "    }\n",
              "\n",
              "    .dataframe tbody tr th {\n",
              "        vertical-align: top;\n",
              "    }\n",
              "\n",
              "    .dataframe thead th {\n",
              "        text-align: right;\n",
              "    }\n",
              "</style>\n",
              "<table border=\"1\" class=\"dataframe\">\n",
              "  <thead>\n",
              "    <tr style=\"text-align: right;\">\n",
              "      <th></th>\n",
              "      <th>ph</th>\n",
              "      <th>Hardness</th>\n",
              "      <th>Solids</th>\n",
              "      <th>Chloramines</th>\n",
              "      <th>Sulfate</th>\n",
              "      <th>Conductivity</th>\n",
              "      <th>Organic_carbon</th>\n",
              "      <th>Trihalomethanes</th>\n",
              "      <th>Turbidity</th>\n",
              "      <th>Potability</th>\n",
              "    </tr>\n",
              "  </thead>\n",
              "  <tbody>\n",
              "    <tr>\n",
              "      <th>0</th>\n",
              "      <td>NaN</td>\n",
              "      <td>204.890455</td>\n",
              "      <td>20791.318981</td>\n",
              "      <td>7.300212</td>\n",
              "      <td>368.516441</td>\n",
              "      <td>564.308654</td>\n",
              "      <td>10.379783</td>\n",
              "      <td>86.990970</td>\n",
              "      <td>2.963135</td>\n",
              "      <td>0</td>\n",
              "    </tr>\n",
              "    <tr>\n",
              "      <th>1</th>\n",
              "      <td>3.716080</td>\n",
              "      <td>129.422921</td>\n",
              "      <td>18630.057858</td>\n",
              "      <td>6.635246</td>\n",
              "      <td>NaN</td>\n",
              "      <td>592.885359</td>\n",
              "      <td>15.180013</td>\n",
              "      <td>56.329076</td>\n",
              "      <td>4.500656</td>\n",
              "      <td>0</td>\n",
              "    </tr>\n",
              "    <tr>\n",
              "      <th>2</th>\n",
              "      <td>8.099124</td>\n",
              "      <td>224.236259</td>\n",
              "      <td>19909.541732</td>\n",
              "      <td>9.275884</td>\n",
              "      <td>NaN</td>\n",
              "      <td>418.606213</td>\n",
              "      <td>16.868637</td>\n",
              "      <td>66.420093</td>\n",
              "      <td>3.055934</td>\n",
              "      <td>0</td>\n",
              "    </tr>\n",
              "    <tr>\n",
              "      <th>3</th>\n",
              "      <td>8.316766</td>\n",
              "      <td>214.373394</td>\n",
              "      <td>22018.417441</td>\n",
              "      <td>8.059332</td>\n",
              "      <td>356.886136</td>\n",
              "      <td>363.266516</td>\n",
              "      <td>18.436524</td>\n",
              "      <td>100.341674</td>\n",
              "      <td>4.628771</td>\n",
              "      <td>0</td>\n",
              "    </tr>\n",
              "    <tr>\n",
              "      <th>4</th>\n",
              "      <td>9.092223</td>\n",
              "      <td>181.101509</td>\n",
              "      <td>17978.986339</td>\n",
              "      <td>6.546600</td>\n",
              "      <td>310.135738</td>\n",
              "      <td>398.410813</td>\n",
              "      <td>11.558279</td>\n",
              "      <td>31.997993</td>\n",
              "      <td>4.075075</td>\n",
              "      <td>0</td>\n",
              "    </tr>\n",
              "    <tr>\n",
              "      <th>...</th>\n",
              "      <td>...</td>\n",
              "      <td>...</td>\n",
              "      <td>...</td>\n",
              "      <td>...</td>\n",
              "      <td>...</td>\n",
              "      <td>...</td>\n",
              "      <td>...</td>\n",
              "      <td>...</td>\n",
              "      <td>...</td>\n",
              "      <td>...</td>\n",
              "    </tr>\n",
              "    <tr>\n",
              "      <th>3271</th>\n",
              "      <td>4.668102</td>\n",
              "      <td>193.681735</td>\n",
              "      <td>47580.991603</td>\n",
              "      <td>7.166639</td>\n",
              "      <td>359.948574</td>\n",
              "      <td>526.424171</td>\n",
              "      <td>13.894419</td>\n",
              "      <td>66.687695</td>\n",
              "      <td>4.435821</td>\n",
              "      <td>1</td>\n",
              "    </tr>\n",
              "    <tr>\n",
              "      <th>3272</th>\n",
              "      <td>7.808856</td>\n",
              "      <td>193.553212</td>\n",
              "      <td>17329.802160</td>\n",
              "      <td>8.061362</td>\n",
              "      <td>NaN</td>\n",
              "      <td>392.449580</td>\n",
              "      <td>19.903225</td>\n",
              "      <td>NaN</td>\n",
              "      <td>2.798243</td>\n",
              "      <td>1</td>\n",
              "    </tr>\n",
              "    <tr>\n",
              "      <th>3273</th>\n",
              "      <td>9.419510</td>\n",
              "      <td>175.762646</td>\n",
              "      <td>33155.578218</td>\n",
              "      <td>7.350233</td>\n",
              "      <td>NaN</td>\n",
              "      <td>432.044783</td>\n",
              "      <td>11.039070</td>\n",
              "      <td>69.845400</td>\n",
              "      <td>3.298875</td>\n",
              "      <td>1</td>\n",
              "    </tr>\n",
              "    <tr>\n",
              "      <th>3274</th>\n",
              "      <td>5.126763</td>\n",
              "      <td>230.603758</td>\n",
              "      <td>11983.869376</td>\n",
              "      <td>6.303357</td>\n",
              "      <td>NaN</td>\n",
              "      <td>402.883113</td>\n",
              "      <td>11.168946</td>\n",
              "      <td>77.488213</td>\n",
              "      <td>4.708658</td>\n",
              "      <td>1</td>\n",
              "    </tr>\n",
              "    <tr>\n",
              "      <th>3275</th>\n",
              "      <td>7.874671</td>\n",
              "      <td>195.102299</td>\n",
              "      <td>17404.177061</td>\n",
              "      <td>7.509306</td>\n",
              "      <td>NaN</td>\n",
              "      <td>327.459760</td>\n",
              "      <td>16.140368</td>\n",
              "      <td>78.698446</td>\n",
              "      <td>2.309149</td>\n",
              "      <td>1</td>\n",
              "    </tr>\n",
              "  </tbody>\n",
              "</table>\n",
              "<p>3276 rows × 10 columns</p>\n",
              "</div>\n",
              "      <button class=\"colab-df-convert\" onclick=\"convertToInteractive('df-eacce6c7-acef-4322-8684-f4925e079683')\"\n",
              "              title=\"Convert this dataframe to an interactive table.\"\n",
              "              style=\"display:none;\">\n",
              "\n",
              "  <svg xmlns=\"http://www.w3.org/2000/svg\" height=\"24px\"viewBox=\"0 0 24 24\"\n",
              "       width=\"24px\">\n",
              "    <path d=\"M0 0h24v24H0V0z\" fill=\"none\"/>\n",
              "    <path d=\"M18.56 5.44l.94 2.06.94-2.06 2.06-.94-2.06-.94-.94-2.06-.94 2.06-2.06.94zm-11 1L8.5 8.5l.94-2.06 2.06-.94-2.06-.94L8.5 2.5l-.94 2.06-2.06.94zm10 10l.94 2.06.94-2.06 2.06-.94-2.06-.94-.94-2.06-.94 2.06-2.06.94z\"/><path d=\"M17.41 7.96l-1.37-1.37c-.4-.4-.92-.59-1.43-.59-.52 0-1.04.2-1.43.59L10.3 9.45l-7.72 7.72c-.78.78-.78 2.05 0 2.83L4 21.41c.39.39.9.59 1.41.59.51 0 1.02-.2 1.41-.59l7.78-7.78 2.81-2.81c.8-.78.8-2.07 0-2.86zM5.41 20L4 18.59l7.72-7.72 1.47 1.35L5.41 20z\"/>\n",
              "  </svg>\n",
              "      </button>\n",
              "\n",
              "\n",
              "\n",
              "    <div id=\"df-f37bfc97-1082-4339-9e98-fe0e63435ccc\">\n",
              "      <button class=\"colab-df-quickchart\" onclick=\"quickchart('df-f37bfc97-1082-4339-9e98-fe0e63435ccc')\"\n",
              "              title=\"Suggest charts.\"\n",
              "              style=\"display:none;\">\n",
              "\n",
              "<svg xmlns=\"http://www.w3.org/2000/svg\" height=\"24px\"viewBox=\"0 0 24 24\"\n",
              "     width=\"24px\">\n",
              "    <g>\n",
              "        <path d=\"M19 3H5c-1.1 0-2 .9-2 2v14c0 1.1.9 2 2 2h14c1.1 0 2-.9 2-2V5c0-1.1-.9-2-2-2zM9 17H7v-7h2v7zm4 0h-2V7h2v10zm4 0h-2v-4h2v4z\"/>\n",
              "    </g>\n",
              "</svg>\n",
              "      </button>\n",
              "    </div>\n",
              "\n",
              "<style>\n",
              "  .colab-df-quickchart {\n",
              "    background-color: #E8F0FE;\n",
              "    border: none;\n",
              "    border-radius: 50%;\n",
              "    cursor: pointer;\n",
              "    display: none;\n",
              "    fill: #1967D2;\n",
              "    height: 32px;\n",
              "    padding: 0 0 0 0;\n",
              "    width: 32px;\n",
              "  }\n",
              "\n",
              "  .colab-df-quickchart:hover {\n",
              "    background-color: #E2EBFA;\n",
              "    box-shadow: 0px 1px 2px rgba(60, 64, 67, 0.3), 0px 1px 3px 1px rgba(60, 64, 67, 0.15);\n",
              "    fill: #174EA6;\n",
              "  }\n",
              "\n",
              "  [theme=dark] .colab-df-quickchart {\n",
              "    background-color: #3B4455;\n",
              "    fill: #D2E3FC;\n",
              "  }\n",
              "\n",
              "  [theme=dark] .colab-df-quickchart:hover {\n",
              "    background-color: #434B5C;\n",
              "    box-shadow: 0px 1px 3px 1px rgba(0, 0, 0, 0.15);\n",
              "    filter: drop-shadow(0px 1px 2px rgba(0, 0, 0, 0.3));\n",
              "    fill: #FFFFFF;\n",
              "  }\n",
              "</style>\n",
              "\n",
              "    <script>\n",
              "      async function quickchart(key) {\n",
              "        const containerElement = document.querySelector('#' + key);\n",
              "        const charts = await google.colab.kernel.invokeFunction(\n",
              "            'suggestCharts', [key], {});\n",
              "      }\n",
              "    </script>\n",
              "\n",
              "      <script>\n",
              "\n",
              "function displayQuickchartButton(domScope) {\n",
              "  let quickchartButtonEl =\n",
              "    domScope.querySelector('#df-f37bfc97-1082-4339-9e98-fe0e63435ccc button.colab-df-quickchart');\n",
              "  quickchartButtonEl.style.display =\n",
              "    google.colab.kernel.accessAllowed ? 'block' : 'none';\n",
              "}\n",
              "\n",
              "        displayQuickchartButton(document);\n",
              "      </script>\n",
              "      <style>\n",
              "    .colab-df-container {\n",
              "      display:flex;\n",
              "      flex-wrap:wrap;\n",
              "      gap: 12px;\n",
              "    }\n",
              "\n",
              "    .colab-df-convert {\n",
              "      background-color: #E8F0FE;\n",
              "      border: none;\n",
              "      border-radius: 50%;\n",
              "      cursor: pointer;\n",
              "      display: none;\n",
              "      fill: #1967D2;\n",
              "      height: 32px;\n",
              "      padding: 0 0 0 0;\n",
              "      width: 32px;\n",
              "    }\n",
              "\n",
              "    .colab-df-convert:hover {\n",
              "      background-color: #E2EBFA;\n",
              "      box-shadow: 0px 1px 2px rgba(60, 64, 67, 0.3), 0px 1px 3px 1px rgba(60, 64, 67, 0.15);\n",
              "      fill: #174EA6;\n",
              "    }\n",
              "\n",
              "    [theme=dark] .colab-df-convert {\n",
              "      background-color: #3B4455;\n",
              "      fill: #D2E3FC;\n",
              "    }\n",
              "\n",
              "    [theme=dark] .colab-df-convert:hover {\n",
              "      background-color: #434B5C;\n",
              "      box-shadow: 0px 1px 3px 1px rgba(0, 0, 0, 0.15);\n",
              "      filter: drop-shadow(0px 1px 2px rgba(0, 0, 0, 0.3));\n",
              "      fill: #FFFFFF;\n",
              "    }\n",
              "  </style>\n",
              "\n",
              "      <script>\n",
              "        const buttonEl =\n",
              "          document.querySelector('#df-eacce6c7-acef-4322-8684-f4925e079683 button.colab-df-convert');\n",
              "        buttonEl.style.display =\n",
              "          google.colab.kernel.accessAllowed ? 'block' : 'none';\n",
              "\n",
              "        async function convertToInteractive(key) {\n",
              "          const element = document.querySelector('#df-eacce6c7-acef-4322-8684-f4925e079683');\n",
              "          const dataTable =\n",
              "            await google.colab.kernel.invokeFunction('convertToInteractive',\n",
              "                                                     [key], {});\n",
              "          if (!dataTable) return;\n",
              "\n",
              "          const docLinkHtml = 'Like what you see? Visit the ' +\n",
              "            '<a target=\"_blank\" href=https://colab.research.google.com/notebooks/data_table.ipynb>data table notebook</a>'\n",
              "            + ' to learn more about interactive tables.';\n",
              "          element.innerHTML = '';\n",
              "          dataTable['output_type'] = 'display_data';\n",
              "          await google.colab.output.renderOutput(dataTable, element);\n",
              "          const docLink = document.createElement('div');\n",
              "          docLink.innerHTML = docLinkHtml;\n",
              "          element.appendChild(docLink);\n",
              "        }\n",
              "      </script>\n",
              "    </div>\n",
              "  </div>\n"
            ]
          },
          "metadata": {},
          "execution_count": 3
        }
      ]
    },
    {
      "cell_type": "code",
      "source": [
        "#Replace null values based on the group/sample mean\n",
        "df['ph']=df['ph'].fillna(df.groupby(['Potability'])['ph'].transform('mean'))\n",
        "df['Sulfate']=df['Sulfate'].fillna(df.groupby(['Potability'])['Sulfate'].transform('mean'))\n",
        "df['Trihalomethanes']=df['Trihalomethanes'].fillna(df.groupby(['Potability'])['Trihalomethanes'].transform('mean'))"
      ],
      "metadata": {
        "id": "n158A5fmKA9k"
      },
      "execution_count": 4,
      "outputs": []
    },
    {
      "cell_type": "code",
      "execution_count": 5,
      "metadata": {
        "id": "0c95f4ac"
      },
      "outputs": [],
      "source": [
        "from mealpy.swarm_based import PSO,SSpiderA,SSA\n",
        "from sklearn.ensemble import RandomForestClassifier"
      ]
    },
    {
      "cell_type": "code",
      "execution_count": 93,
      "metadata": {
        "id": "dd7f1ac5"
      },
      "outputs": [],
      "source": [
        "def fitness_function(solution):\n",
        "    max_depth = solution[0]\n",
        "    n_estimator = solution[1]\n",
        "    learning_rate = solution[2]\n",
        "    clf = XGBClassifier(max_depth=int(max_depth),\n",
        "                    n_estimators=int(n_estimator),random_state=0,learning_rate=learning_rate,\n",
        "                    )\n",
        "    # Fit the model\n",
        "    clf.fit(X, Y)\n",
        "    # Make the predictions\n",
        "    y_ = clf.predict(x)\n",
        "    # cm = confusion_matrix(y,y_)\n",
        "    # km = cm[0][1]+cm[1][0]\n",
        "    return f1_score(y,y_,average='micro')\n",
        "\n",
        "problem = {\n",
        "    \"fit_func\": fitness_function,\n",
        "    \"lb\": [6, 100, 0.01],\n",
        "    \"ub\": [10, 600, 0.5],\n",
        "    \"minmax\": \"max\",\n",
        "}"
      ]
    },
    {
      "cell_type": "code",
      "source": [
        "def fitness_function(solution):\n",
        "    max_depth = solution[0]\n",
        "    n_estimator = solution[1]\n",
        "    # learning_rate = solution[2]\n",
        "    clf = RandomForestClassifier(max_depth=int(max_depth),\n",
        "                    n_estimators=int(n_estimator),random_state=0)\n",
        "    # Fit the model\n",
        "    clf.fit(X, Y)\n",
        "    # Make the predictions\n",
        "    y_ = clf.predict(x)\n",
        "    # cm = confusion_matrix(y,y_)\n",
        "    # km = cm[0][1]+cm[1][0]\n",
        "    return f1_score(y,y_,average='micro')\n",
        "\n",
        "problem = {\n",
        "    \"fit_func\": fitness_function,\n",
        "    \"lb\": [6, 100],\n",
        "    \"ub\": [8, 400],\n",
        "    \"minmax\": \"max\",\n",
        "}"
      ],
      "metadata": {
        "id": "uYmaJv519-Im"
      },
      "execution_count": 122,
      "outputs": []
    },
    {
      "cell_type": "code",
      "source": [
        "X_ = df.drop(\"Potability\", axis=1).values\n",
        "y_ = df[\"Potability\"].values\n",
        "\n",
        "# Train Test Split\n",
        "X, x, Y, y = train_test_split(X_, y_, test_size=0.2, random_state=1)\n",
        "\n",
        "print(\"X_train\", X.shape)\n",
        "print(\"X_test\", x.shape)\n",
        "print(\"y_train\", Y.shape)\n",
        "print(\"y_test\", y.shape)"
      ],
      "metadata": {
        "colab": {
          "base_uri": "https://localhost:8080/"
        },
        "id": "t6GMdN75Lmf7",
        "outputId": "c1c0e817-7ce0-4dd5-88b6-9941fdec28a9"
      },
      "execution_count": 138,
      "outputs": [
        {
          "output_type": "stream",
          "name": "stdout",
          "text": [
            "X_train (2620, 9)\n",
            "X_test (656, 9)\n",
            "y_train (2620,)\n",
            "y_test (656,)\n"
          ]
        }
      ]
    },
    {
      "cell_type": "code",
      "source": [
        "clf = RandomForestClassifier(random_state=0)\n",
        "# Fit the model\n",
        "clf.fit(X, Y)\n",
        "# Make the predictions\n",
        "y_ = clf.predict(x)\n",
        "cm = confusion_matrix(y,y_)\n",
        "km = cm[0][1]+cm[1][0]\n",
        "f1_score(y,y_,average='micro')"
      ],
      "metadata": {
        "colab": {
          "base_uri": "https://localhost:8080/"
        },
        "id": "InYeeDFn-7fD",
        "outputId": "2b8ea2e9-834e-4f2f-bf08-1303b6d1be59"
      },
      "execution_count": 139,
      "outputs": [
        {
          "output_type": "execute_result",
          "data": {
            "text/plain": [
              "0.7926829268292683"
            ]
          },
          "metadata": {},
          "execution_count": 139
        }
      ]
    },
    {
      "cell_type": "code",
      "source": [
        "clf = RandomForestClassifier(random_state=0)\n",
        "# Fit the model\n",
        "clf.fit(X, Y)\n",
        "# Make the predictions\n",
        "y_ = clf.predict(x)\n",
        "cm = confusion_matrix(y,y_)\n",
        "km = cm[0][1]+cm[1][0]\n",
        "f1_score(y,y_,average='micro')"
      ],
      "metadata": {
        "id": "KZt25hMRTux_",
        "colab": {
          "base_uri": "https://localhost:8080/"
        },
        "outputId": "a93aa467-c26c-4b83-e4ea-48ae5e9e4c27"
      },
      "execution_count": 135,
      "outputs": [
        {
          "output_type": "execute_result",
          "data": {
            "text/plain": [
              "0.7896341463414633"
            ]
          },
          "metadata": {},
          "execution_count": 135
        }
      ]
    },
    {
      "cell_type": "code",
      "source": [],
      "metadata": {
        "id": "ZZgcdxjF-7Az"
      },
      "execution_count": null,
      "outputs": []
    },
    {
      "cell_type": "code",
      "source": [
        "k = [FOA.WhaleFOA,DE.JADE,AO.OriginalAO,AEO.EnhancedAEO]"
      ],
      "metadata": {
        "id": "-OkKjrcDlewO"
      },
      "execution_count": 140,
      "outputs": []
    },
    {
      "cell_type": "code",
      "source": [
        "import numpy as np"
      ],
      "metadata": {
        "id": "HnZzU9e2mE7t"
      },
      "execution_count": 141,
      "outputs": []
    },
    {
      "cell_type": "code",
      "source": [
        "for k_ in k[1:]:\n",
        "    epoch = 20\n",
        "    print('started')\n",
        "    p = np.zeros((epoch,4))\n",
        "    model = k_(epoch=epoch, pop_size=20)\n",
        "    a = time.time()\n",
        "    best_position, best_fitness = model.solve(problem)\n",
        "    b = time.time()\n",
        "\n",
        "    lstm = model.history.list_current_best\n",
        "    for j,i in enumerate(lstm):\n",
        "    #     p[j] = int(i[0][0]),int(i[0][1]),i[0][2],i[1][0],i[1][1][0]\n",
        "    # s = pd.DataFrame(p,columns=['Max Dept','N Stimator','Learning Rate','Best f1','Best f1-2'])\n",
        "        p[j] = int(i[0][0]),int(i[0][1]),i[1][0],i[1][1][0]\n",
        "    s = pd.DataFrame(p,columns=['Max Dept','N Stimator','Best f1','Best f1-2'])\n",
        "\n",
        "\n",
        "    s.to_csv(f'/content/drive/MyDrive/45/{model.__class__.__name__}-RF.csv')"
      ],
      "metadata": {
        "colab": {
          "base_uri": "https://localhost:8080/"
        },
        "id": "PiEzGWhjlh7D",
        "outputId": "7323b0e8-3366-42bd-de78-ceae877e4b6d"
      },
      "execution_count": 158,
      "outputs": [
        {
          "output_type": "stream",
          "name": "stdout",
          "text": [
            "started\n"
          ]
        },
        {
          "output_type": "stream",
          "name": "stderr",
          "text": [
            "INFO:mealpy.evolutionary_based.DE.JADE:Solving single objective optimization problem.\n",
            "INFO:mealpy.evolutionary_based.DE.JADE:>Problem: P, Epoch: 1, Current best: 0.7926829268292683, Global best: 0.7926829268292683, Runtime: 31.30954 seconds\n",
            "INFO:mealpy.evolutionary_based.DE.JADE:>Problem: P, Epoch: 2, Current best: 0.7926829268292683, Global best: 0.7926829268292683, Runtime: 25.09672 seconds\n",
            "INFO:mealpy.evolutionary_based.DE.JADE:>Problem: P, Epoch: 3, Current best: 0.7957317073170732, Global best: 0.7957317073170732, Runtime: 21.64062 seconds\n",
            "INFO:mealpy.evolutionary_based.DE.JADE:>Problem: P, Epoch: 4, Current best: 0.7957317073170732, Global best: 0.7957317073170732, Runtime: 26.37194 seconds\n",
            "INFO:mealpy.evolutionary_based.DE.JADE:>Problem: P, Epoch: 5, Current best: 0.7957317073170732, Global best: 0.7957317073170732, Runtime: 22.33475 seconds\n",
            "INFO:mealpy.evolutionary_based.DE.JADE:>Problem: P, Epoch: 6, Current best: 0.7957317073170732, Global best: 0.7957317073170732, Runtime: 24.19150 seconds\n",
            "INFO:mealpy.evolutionary_based.DE.JADE:>Problem: P, Epoch: 7, Current best: 0.7957317073170732, Global best: 0.7957317073170732, Runtime: 22.89754 seconds\n",
            "INFO:mealpy.evolutionary_based.DE.JADE:>Problem: P, Epoch: 8, Current best: 0.7957317073170732, Global best: 0.7957317073170732, Runtime: 25.09259 seconds\n",
            "INFO:mealpy.evolutionary_based.DE.JADE:>Problem: P, Epoch: 9, Current best: 0.7957317073170732, Global best: 0.7957317073170732, Runtime: 23.92659 seconds\n",
            "INFO:mealpy.evolutionary_based.DE.JADE:>Problem: P, Epoch: 10, Current best: 0.7957317073170732, Global best: 0.7957317073170732, Runtime: 26.15878 seconds\n",
            "INFO:mealpy.evolutionary_based.DE.JADE:>Problem: P, Epoch: 11, Current best: 0.7957317073170732, Global best: 0.7957317073170732, Runtime: 26.02624 seconds\n",
            "INFO:mealpy.evolutionary_based.DE.JADE:>Problem: P, Epoch: 12, Current best: 0.7957317073170732, Global best: 0.7957317073170732, Runtime: 23.50509 seconds\n",
            "INFO:mealpy.evolutionary_based.DE.JADE:>Problem: P, Epoch: 13, Current best: 0.7957317073170732, Global best: 0.7957317073170732, Runtime: 27.24372 seconds\n",
            "INFO:mealpy.evolutionary_based.DE.JADE:>Problem: P, Epoch: 14, Current best: 0.7957317073170732, Global best: 0.7957317073170732, Runtime: 28.03785 seconds\n",
            "INFO:mealpy.evolutionary_based.DE.JADE:>Problem: P, Epoch: 15, Current best: 0.7957317073170732, Global best: 0.7957317073170732, Runtime: 22.09702 seconds\n",
            "INFO:mealpy.evolutionary_based.DE.JADE:>Problem: P, Epoch: 16, Current best: 0.7957317073170732, Global best: 0.7957317073170732, Runtime: 25.99483 seconds\n",
            "INFO:mealpy.evolutionary_based.DE.JADE:>Problem: P, Epoch: 17, Current best: 0.7957317073170732, Global best: 0.7957317073170732, Runtime: 22.05060 seconds\n",
            "INFO:mealpy.evolutionary_based.DE.JADE:>Problem: P, Epoch: 18, Current best: 0.7957317073170732, Global best: 0.7957317073170732, Runtime: 24.65410 seconds\n",
            "INFO:mealpy.evolutionary_based.DE.JADE:>Problem: P, Epoch: 19, Current best: 0.7957317073170732, Global best: 0.7957317073170732, Runtime: 26.36358 seconds\n",
            "INFO:mealpy.evolutionary_based.DE.JADE:>Problem: P, Epoch: 20, Current best: 0.7957317073170732, Global best: 0.7957317073170732, Runtime: 24.94142 seconds\n"
          ]
        },
        {
          "output_type": "stream",
          "name": "stdout",
          "text": [
            "started\n"
          ]
        },
        {
          "output_type": "stream",
          "name": "stderr",
          "text": [
            "INFO:mealpy.swarm_based.AO.OriginalAO:Solving single objective optimization problem.\n",
            "INFO:mealpy.swarm_based.AO.OriginalAO:>Problem: P, Epoch: 1, Current best: 0.7957317073170732, Global best: 0.7957317073170732, Runtime: 25.88789 seconds\n",
            "INFO:mealpy.swarm_based.AO.OriginalAO:>Problem: P, Epoch: 2, Current best: 0.7957317073170732, Global best: 0.7957317073170732, Runtime: 28.36914 seconds\n",
            "INFO:mealpy.swarm_based.AO.OriginalAO:>Problem: P, Epoch: 3, Current best: 0.7957317073170732, Global best: 0.7957317073170732, Runtime: 24.90791 seconds\n",
            "INFO:mealpy.swarm_based.AO.OriginalAO:>Problem: P, Epoch: 4, Current best: 0.7957317073170732, Global best: 0.7957317073170732, Runtime: 22.50930 seconds\n",
            "INFO:mealpy.swarm_based.AO.OriginalAO:>Problem: P, Epoch: 5, Current best: 0.7957317073170732, Global best: 0.7957317073170732, Runtime: 28.84950 seconds\n",
            "INFO:mealpy.swarm_based.AO.OriginalAO:>Problem: P, Epoch: 6, Current best: 0.7957317073170732, Global best: 0.7957317073170732, Runtime: 29.92959 seconds\n",
            "INFO:mealpy.swarm_based.AO.OriginalAO:>Problem: P, Epoch: 7, Current best: 0.7957317073170732, Global best: 0.7957317073170732, Runtime: 26.24907 seconds\n",
            "INFO:mealpy.swarm_based.AO.OriginalAO:>Problem: P, Epoch: 8, Current best: 0.7957317073170732, Global best: 0.7957317073170732, Runtime: 24.15217 seconds\n",
            "INFO:mealpy.swarm_based.AO.OriginalAO:>Problem: P, Epoch: 9, Current best: 0.7957317073170732, Global best: 0.7957317073170732, Runtime: 28.27653 seconds\n",
            "INFO:mealpy.swarm_based.AO.OriginalAO:>Problem: P, Epoch: 10, Current best: 0.7957317073170732, Global best: 0.7957317073170732, Runtime: 27.93072 seconds\n",
            "INFO:mealpy.swarm_based.AO.OriginalAO:>Problem: P, Epoch: 11, Current best: 0.7957317073170732, Global best: 0.7957317073170732, Runtime: 32.88768 seconds\n",
            "INFO:mealpy.swarm_based.AO.OriginalAO:>Problem: P, Epoch: 12, Current best: 0.7957317073170732, Global best: 0.7957317073170732, Runtime: 25.50482 seconds\n",
            "INFO:mealpy.swarm_based.AO.OriginalAO:>Problem: P, Epoch: 13, Current best: 0.7957317073170732, Global best: 0.7957317073170732, Runtime: 23.61044 seconds\n",
            "INFO:mealpy.swarm_based.AO.OriginalAO:>Problem: P, Epoch: 14, Current best: 0.7957317073170732, Global best: 0.7957317073170732, Runtime: 12.67756 seconds\n",
            "INFO:mealpy.swarm_based.AO.OriginalAO:>Problem: P, Epoch: 15, Current best: 0.7957317073170732, Global best: 0.7957317073170732, Runtime: 12.07310 seconds\n",
            "INFO:mealpy.swarm_based.AO.OriginalAO:>Problem: P, Epoch: 16, Current best: 0.7957317073170732, Global best: 0.7957317073170732, Runtime: 11.93116 seconds\n",
            "INFO:mealpy.swarm_based.AO.OriginalAO:>Problem: P, Epoch: 17, Current best: 0.7957317073170732, Global best: 0.7957317073170732, Runtime: 12.71960 seconds\n",
            "INFO:mealpy.swarm_based.AO.OriginalAO:>Problem: P, Epoch: 18, Current best: 0.7957317073170732, Global best: 0.7957317073170732, Runtime: 12.67145 seconds\n",
            "INFO:mealpy.swarm_based.AO.OriginalAO:>Problem: P, Epoch: 19, Current best: 0.7957317073170732, Global best: 0.7957317073170732, Runtime: 12.85757 seconds\n",
            "INFO:mealpy.swarm_based.AO.OriginalAO:>Problem: P, Epoch: 20, Current best: 0.7957317073170732, Global best: 0.7957317073170732, Runtime: 13.08886 seconds\n"
          ]
        },
        {
          "output_type": "stream",
          "name": "stdout",
          "text": [
            "started\n"
          ]
        },
        {
          "output_type": "stream",
          "name": "stderr",
          "text": [
            "INFO:mealpy.system_based.AEO.EnhancedAEO:Solving single objective optimization problem.\n",
            "INFO:mealpy.system_based.AEO.EnhancedAEO:>Problem: P, Epoch: 1, Current best: 0.7957317073170732, Global best: 0.7957317073170732, Runtime: 57.09828 seconds\n",
            "INFO:mealpy.system_based.AEO.EnhancedAEO:>Problem: P, Epoch: 2, Current best: 0.7957317073170732, Global best: 0.7957317073170732, Runtime: 48.57673 seconds\n",
            "INFO:mealpy.system_based.AEO.EnhancedAEO:>Problem: P, Epoch: 3, Current best: 0.7957317073170732, Global best: 0.7957317073170732, Runtime: 52.52735 seconds\n",
            "INFO:mealpy.system_based.AEO.EnhancedAEO:>Problem: P, Epoch: 4, Current best: 0.7957317073170732, Global best: 0.7957317073170732, Runtime: 40.38725 seconds\n",
            "INFO:mealpy.system_based.AEO.EnhancedAEO:>Problem: P, Epoch: 5, Current best: 0.7957317073170732, Global best: 0.7957317073170732, Runtime: 32.92341 seconds\n",
            "INFO:mealpy.system_based.AEO.EnhancedAEO:>Problem: P, Epoch: 6, Current best: 0.7957317073170732, Global best: 0.7957317073170732, Runtime: 38.04881 seconds\n",
            "INFO:mealpy.system_based.AEO.EnhancedAEO:>Problem: P, Epoch: 7, Current best: 0.7972560975609756, Global best: 0.7972560975609756, Runtime: 31.85764 seconds\n",
            "INFO:mealpy.system_based.AEO.EnhancedAEO:>Problem: P, Epoch: 8, Current best: 0.7972560975609756, Global best: 0.7972560975609756, Runtime: 31.61484 seconds\n",
            "INFO:mealpy.system_based.AEO.EnhancedAEO:>Problem: P, Epoch: 9, Current best: 0.7972560975609756, Global best: 0.7972560975609756, Runtime: 36.13196 seconds\n",
            "INFO:mealpy.system_based.AEO.EnhancedAEO:>Problem: P, Epoch: 10, Current best: 0.7972560975609756, Global best: 0.7972560975609756, Runtime: 34.49184 seconds\n",
            "INFO:mealpy.system_based.AEO.EnhancedAEO:>Problem: P, Epoch: 11, Current best: 0.7972560975609756, Global best: 0.7972560975609756, Runtime: 31.61754 seconds\n",
            "INFO:mealpy.system_based.AEO.EnhancedAEO:>Problem: P, Epoch: 12, Current best: 0.7972560975609756, Global best: 0.7972560975609756, Runtime: 31.32584 seconds\n",
            "INFO:mealpy.system_based.AEO.EnhancedAEO:>Problem: P, Epoch: 13, Current best: 0.7972560975609756, Global best: 0.7972560975609756, Runtime: 34.05249 seconds\n",
            "INFO:mealpy.system_based.AEO.EnhancedAEO:>Problem: P, Epoch: 14, Current best: 0.7972560975609756, Global best: 0.7972560975609756, Runtime: 33.03733 seconds\n",
            "INFO:mealpy.system_based.AEO.EnhancedAEO:>Problem: P, Epoch: 15, Current best: 0.7972560975609756, Global best: 0.7972560975609756, Runtime: 32.34635 seconds\n",
            "INFO:mealpy.system_based.AEO.EnhancedAEO:>Problem: P, Epoch: 16, Current best: 0.7972560975609756, Global best: 0.7972560975609756, Runtime: 32.94616 seconds\n",
            "INFO:mealpy.system_based.AEO.EnhancedAEO:>Problem: P, Epoch: 17, Current best: 0.7972560975609756, Global best: 0.7972560975609756, Runtime: 29.13478 seconds\n",
            "INFO:mealpy.system_based.AEO.EnhancedAEO:>Problem: P, Epoch: 18, Current best: 0.7972560975609756, Global best: 0.7972560975609756, Runtime: 31.56625 seconds\n",
            "INFO:mealpy.system_based.AEO.EnhancedAEO:>Problem: P, Epoch: 19, Current best: 0.7972560975609756, Global best: 0.7972560975609756, Runtime: 33.68805 seconds\n",
            "INFO:mealpy.system_based.AEO.EnhancedAEO:>Problem: P, Epoch: 20, Current best: 0.7972560975609756, Global best: 0.7972560975609756, Runtime: 32.19297 seconds\n"
          ]
        }
      ]
    },
    {
      "cell_type": "code",
      "source": [
        "int(i[0][0]),int(i[0][1]),i[0][2],i[1][0],i[1][1][0]"
      ],
      "metadata": {
        "colab": {
          "base_uri": "https://localhost:8080/",
          "height": 168
        },
        "id": "owufrYwc-Lub",
        "outputId": "bd39b575-7c94-458f-a30d-aaeefa4e9932"
      },
      "execution_count": 144,
      "outputs": [
        {
          "output_type": "error",
          "ename": "IndexError",
          "evalue": "ignored",
          "traceback": [
            "\u001b[0;31m---------------------------------------------------------------------------\u001b[0m",
            "\u001b[0;31mIndexError\u001b[0m                                Traceback (most recent call last)",
            "\u001b[0;32m<ipython-input-144-bc183c6ae55c>\u001b[0m in \u001b[0;36m<cell line: 1>\u001b[0;34m()\u001b[0m\n\u001b[0;32m----> 1\u001b[0;31m \u001b[0mint\u001b[0m\u001b[0;34m(\u001b[0m\u001b[0mi\u001b[0m\u001b[0;34m[\u001b[0m\u001b[0;36m0\u001b[0m\u001b[0;34m]\u001b[0m\u001b[0;34m[\u001b[0m\u001b[0;36m0\u001b[0m\u001b[0;34m]\u001b[0m\u001b[0;34m)\u001b[0m\u001b[0;34m,\u001b[0m\u001b[0mint\u001b[0m\u001b[0;34m(\u001b[0m\u001b[0mi\u001b[0m\u001b[0;34m[\u001b[0m\u001b[0;36m0\u001b[0m\u001b[0;34m]\u001b[0m\u001b[0;34m[\u001b[0m\u001b[0;36m1\u001b[0m\u001b[0;34m]\u001b[0m\u001b[0;34m)\u001b[0m\u001b[0;34m,\u001b[0m\u001b[0mi\u001b[0m\u001b[0;34m[\u001b[0m\u001b[0;36m0\u001b[0m\u001b[0;34m]\u001b[0m\u001b[0;34m[\u001b[0m\u001b[0;36m2\u001b[0m\u001b[0;34m]\u001b[0m\u001b[0;34m,\u001b[0m\u001b[0mi\u001b[0m\u001b[0;34m[\u001b[0m\u001b[0;36m1\u001b[0m\u001b[0;34m]\u001b[0m\u001b[0;34m[\u001b[0m\u001b[0;36m0\u001b[0m\u001b[0;34m]\u001b[0m\u001b[0;34m,\u001b[0m\u001b[0mi\u001b[0m\u001b[0;34m[\u001b[0m\u001b[0;36m1\u001b[0m\u001b[0;34m]\u001b[0m\u001b[0;34m[\u001b[0m\u001b[0;36m1\u001b[0m\u001b[0;34m]\u001b[0m\u001b[0;34m[\u001b[0m\u001b[0;36m0\u001b[0m\u001b[0;34m]\u001b[0m\u001b[0;34m\u001b[0m\u001b[0;34m\u001b[0m\u001b[0m\n\u001b[0m",
            "\u001b[0;31mIndexError\u001b[0m: index 2 is out of bounds for axis 0 with size 2"
          ]
        }
      ]
    },
    {
      "cell_type": "code",
      "source": [
        "lstm[0]"
      ],
      "metadata": {
        "colab": {
          "base_uri": "https://localhost:8080/"
        },
        "id": "PUCk6WZPCUNa",
        "outputId": "a84c2b34-0a70-4f37-b2cf-13947cc0bc0f"
      },
      "execution_count": 150,
      "outputs": [
        {
          "output_type": "execute_result",
          "data": {
            "text/plain": [
              "[array([  8.        , 103.15307063]),\n",
              " [0.7972560975609756, [0.7972560975609756]]]"
            ]
          },
          "metadata": {},
          "execution_count": 150
        }
      ]
    },
    {
      "cell_type": "code",
      "source": [
        "p = np.zeros((200,4))\n",
        "p"
      ],
      "metadata": {
        "id": "vHPt4f9oTzfk"
      },
      "execution_count": null,
      "outputs": []
    },
    {
      "cell_type": "code",
      "execution_count": 24,
      "metadata": {
        "id": "1c951581"
      },
      "outputs": [],
      "source": [
        "def PPSO():\n",
        "    epoch = 2\n",
        "    print('started')\n",
        "    p = np.zeros((epoch,4))\n",
        "    model = mealpy.bio_based.SMA.BaseSMA(epoch=epoch, pop_size=40)\n",
        "    best_position, best_fitness = model.solve(problem)\n",
        "    lstm = model.history.list_current_best\n",
        "    for j,i in enumerate(lstm):\n",
        "        p[j] = int(lstm[i][0][0]),int(lstm[i][0][1]),lstm[i][0][2],lstm[i][1][0],lstm[i][1][1][0]\n",
        "    print(p)\n",
        "    s = pd.DataFrame(p)\n",
        "    s.to_csv('/content/p.csv')"
      ]
    },
    {
      "cell_type": "code",
      "source": [
        "threadPPSO = threading.Thread(target=PPSO)\n",
        "threadPPSO\n",
        "threadPPSO.start()"
      ],
      "metadata": {
        "colab": {
          "base_uri": "https://localhost:8080/"
        },
        "id": "DMWPQ7-LdQYC",
        "outputId": "3b0ab7ab-cefa-40e4-f710-03a23c3458ae"
      },
      "execution_count": 25,
      "outputs": [
        {
          "output_type": "stream",
          "name": "stdout",
          "text": [
            "started\n"
          ]
        }
      ]
    },
    {
      "cell_type": "code",
      "source": [
        "# def PPSO():\n",
        "epoch = 20\n",
        "print('started')\n",
        "p = np.zeros((epoch,5))\n",
        "model = mealpy.bio_based.SMA.BaseSMA(epoch=epoch, pop_size=40)\n",
        "best_position, best_fitness = model.solve(problem)\n",
        "lstm = model.history.list_current_best\n",
        "for j,i in enumerate(lstm):\n",
        "    p[j] = int(i[0][0]),int(i[0][1]),i[0][2],i[1][0],i[1][1][0]\n",
        "# print(p)\n",
        "s = pd.DataFrame(p,columns=['Max Dept','N Stimator','Learning Rate','Best Accuracy'])\n",
        "s.to_csv(f'/content/drive/MyDrive/45/{model.__class__.__name__}_XGB_2.csv')\n"
      ],
      "metadata": {
        "colab": {
          "base_uri": "https://localhost:8080/"
        },
        "id": "UENrOQzzesTX",
        "outputId": "8e41522d-2993-4d86-9ca5-0930cabbfc80"
      },
      "execution_count": 34,
      "outputs": [
        {
          "output_type": "stream",
          "name": "stdout",
          "text": [
            "started\n"
          ]
        },
        {
          "output_type": "stream",
          "name": "stderr",
          "text": [
            "INFO:mealpy.bio_based.SMA.BaseSMA:Solving single objective optimization problem.\n",
            "INFO:mealpy.bio_based.SMA.BaseSMA:>Problem: P, Epoch: 1, Current best: 0.7987804878048782, Global best: 0.7987804878048782, Runtime: 106.46861 seconds\n",
            "INFO:mealpy.bio_based.SMA.BaseSMA:>Problem: P, Epoch: 2, Current best: 0.7987804878048782, Global best: 0.7987804878048782, Runtime: 75.16084 seconds\n",
            "INFO:mealpy.bio_based.SMA.BaseSMA:>Problem: P, Epoch: 3, Current best: 0.7987804878048782, Global best: 0.7987804878048782, Runtime: 36.08024 seconds\n",
            "INFO:mealpy.bio_based.SMA.BaseSMA:>Problem: P, Epoch: 4, Current best: 0.7987804878048782, Global best: 0.7987804878048782, Runtime: 46.91276 seconds\n",
            "INFO:mealpy.bio_based.SMA.BaseSMA:>Problem: P, Epoch: 5, Current best: 0.801829268292683, Global best: 0.801829268292683, Runtime: 44.24884 seconds\n",
            "INFO:mealpy.bio_based.SMA.BaseSMA:>Problem: P, Epoch: 6, Current best: 0.801829268292683, Global best: 0.801829268292683, Runtime: 39.77595 seconds\n",
            "INFO:mealpy.bio_based.SMA.BaseSMA:>Problem: P, Epoch: 7, Current best: 0.801829268292683, Global best: 0.801829268292683, Runtime: 41.82361 seconds\n",
            "INFO:mealpy.bio_based.SMA.BaseSMA:>Problem: P, Epoch: 8, Current best: 0.801829268292683, Global best: 0.801829268292683, Runtime: 42.03767 seconds\n",
            "INFO:mealpy.bio_based.SMA.BaseSMA:>Problem: P, Epoch: 9, Current best: 0.801829268292683, Global best: 0.801829268292683, Runtime: 46.43885 seconds\n",
            "INFO:mealpy.bio_based.SMA.BaseSMA:>Problem: P, Epoch: 10, Current best: 0.801829268292683, Global best: 0.801829268292683, Runtime: 40.65249 seconds\n",
            "INFO:mealpy.bio_based.SMA.BaseSMA:>Problem: P, Epoch: 11, Current best: 0.801829268292683, Global best: 0.801829268292683, Runtime: 45.23861 seconds\n",
            "INFO:mealpy.bio_based.SMA.BaseSMA:>Problem: P, Epoch: 12, Current best: 0.801829268292683, Global best: 0.801829268292683, Runtime: 41.11124 seconds\n",
            "INFO:mealpy.bio_based.SMA.BaseSMA:>Problem: P, Epoch: 13, Current best: 0.801829268292683, Global best: 0.801829268292683, Runtime: 38.39317 seconds\n",
            "INFO:mealpy.bio_based.SMA.BaseSMA:>Problem: P, Epoch: 14, Current best: 0.801829268292683, Global best: 0.801829268292683, Runtime: 44.71463 seconds\n",
            "INFO:mealpy.bio_based.SMA.BaseSMA:>Problem: P, Epoch: 15, Current best: 0.801829268292683, Global best: 0.801829268292683, Runtime: 38.12548 seconds\n",
            "INFO:mealpy.bio_based.SMA.BaseSMA:>Problem: P, Epoch: 16, Current best: 0.801829268292683, Global best: 0.801829268292683, Runtime: 37.96707 seconds\n",
            "INFO:mealpy.bio_based.SMA.BaseSMA:>Problem: P, Epoch: 17, Current best: 0.801829268292683, Global best: 0.801829268292683, Runtime: 39.69251 seconds\n",
            "INFO:mealpy.bio_based.SMA.BaseSMA:>Problem: P, Epoch: 18, Current best: 0.801829268292683, Global best: 0.801829268292683, Runtime: 44.74626 seconds\n",
            "INFO:mealpy.bio_based.SMA.BaseSMA:>Problem: P, Epoch: 19, Current best: 0.801829268292683, Global best: 0.801829268292683, Runtime: 55.73797 seconds\n",
            "INFO:mealpy.bio_based.SMA.BaseSMA:>Problem: P, Epoch: 20, Current best: 0.801829268292683, Global best: 0.801829268292683, Runtime: 38.14414 seconds\n"
          ]
        }
      ]
    },
    {
      "cell_type": "code",
      "source": [
        "# def PPSO():\n",
        "epoch = 20\n",
        "print('started')\n",
        "p = np.zeros((epoch,5))\n",
        "model = PSO.PPSO(epoch=epoch, pop_size=40)\n",
        "best_position, best_fitness = model.solve(problem)\n",
        "lstm = model.history.list_current_best\n",
        "for j,i in enumerate(lstm):\n",
        "    p[j] = int(i[0][0]),int(i[0][1]),i[0][2],i[1][0],i[1][1][0]\n",
        "# print(p)\n",
        "s = pd.DataFrame(p,columns=['Max Dept','N Stimator','Learning Rate','Best Accuracy'])\n",
        "s.to_csv(f'/content/drive/MyDrive/45/{model.__class__.__name__}_XGB_2.csv')\n"
      ],
      "metadata": {
        "colab": {
          "base_uri": "https://localhost:8080/",
          "height": 609
        },
        "id": "pAJUtC3u02Vs",
        "outputId": "f29b5e03-911c-4a3c-9024-2a8fe606c1ad"
      },
      "execution_count": 35,
      "outputs": [
        {
          "output_type": "stream",
          "name": "stdout",
          "text": [
            "started\n"
          ]
        },
        {
          "output_type": "stream",
          "name": "stderr",
          "text": [
            "INFO:mealpy.swarm_based.PSO.PPSO:Solving single objective optimization problem.\n",
            "INFO:mealpy.swarm_based.PSO.PPSO:>Problem: P, Epoch: 1, Current best: 0.7926829268292683, Global best: 0.7926829268292683, Runtime: 94.74189 seconds\n",
            "INFO:mealpy.swarm_based.PSO.PPSO:>Problem: P, Epoch: 2, Current best: 0.7926829268292683, Global best: 0.7926829268292683, Runtime: 79.81410 seconds\n",
            "INFO:mealpy.swarm_based.PSO.PPSO:>Problem: P, Epoch: 3, Current best: 0.7926829268292683, Global best: 0.7926829268292683, Runtime: 81.19236 seconds\n",
            "INFO:mealpy.swarm_based.PSO.PPSO:>Problem: P, Epoch: 4, Current best: 0.7942073170731707, Global best: 0.7942073170731707, Runtime: 79.62215 seconds\n",
            "INFO:mealpy.swarm_based.PSO.PPSO:>Problem: P, Epoch: 5, Current best: 0.7942073170731707, Global best: 0.7942073170731707, Runtime: 211.50408 seconds\n",
            "INFO:mealpy.swarm_based.PSO.PPSO:>Problem: P, Epoch: 6, Current best: 0.7957317073170732, Global best: 0.7957317073170732, Runtime: 261.64768 seconds\n",
            "INFO:mealpy.swarm_based.PSO.PPSO:>Problem: P, Epoch: 7, Current best: 0.7957317073170732, Global best: 0.7957317073170732, Runtime: 247.84560 seconds\n",
            "INFO:mealpy.swarm_based.PSO.PPSO:>Problem: P, Epoch: 8, Current best: 0.7957317073170732, Global best: 0.7957317073170732, Runtime: 311.32032 seconds\n",
            "INFO:mealpy.swarm_based.PSO.PPSO:>Problem: P, Epoch: 9, Current best: 0.7957317073170732, Global best: 0.7957317073170732, Runtime: 273.45282 seconds\n",
            "INFO:mealpy.swarm_based.PSO.PPSO:>Problem: P, Epoch: 10, Current best: 0.7972560975609756, Global best: 0.7972560975609756, Runtime: 296.15508 seconds\n",
            "INFO:mealpy.swarm_based.PSO.PPSO:>Problem: P, Epoch: 11, Current best: 0.7972560975609756, Global best: 0.7972560975609756, Runtime: 296.65868 seconds\n"
          ]
        },
        {
          "output_type": "error",
          "ename": "KeyboardInterrupt",
          "evalue": "ignored",
          "traceback": [
            "\u001b[0;31m---------------------------------------------------------------------------\u001b[0m",
            "\u001b[0;31mKeyboardInterrupt\u001b[0m                         Traceback (most recent call last)",
            "\u001b[0;32m<ipython-input-35-102f028e9595>\u001b[0m in \u001b[0;36m<cell line: 6>\u001b[0;34m()\u001b[0m\n\u001b[1;32m      4\u001b[0m \u001b[0mp\u001b[0m \u001b[0;34m=\u001b[0m \u001b[0mnp\u001b[0m\u001b[0;34m.\u001b[0m\u001b[0mzeros\u001b[0m\u001b[0;34m(\u001b[0m\u001b[0;34m(\u001b[0m\u001b[0mepoch\u001b[0m\u001b[0;34m,\u001b[0m\u001b[0;36m5\u001b[0m\u001b[0;34m)\u001b[0m\u001b[0;34m)\u001b[0m\u001b[0;34m\u001b[0m\u001b[0;34m\u001b[0m\u001b[0m\n\u001b[1;32m      5\u001b[0m \u001b[0mmodel\u001b[0m \u001b[0;34m=\u001b[0m \u001b[0mPSO\u001b[0m\u001b[0;34m.\u001b[0m\u001b[0mPPSO\u001b[0m\u001b[0;34m(\u001b[0m\u001b[0mepoch\u001b[0m\u001b[0;34m=\u001b[0m\u001b[0mepoch\u001b[0m\u001b[0;34m,\u001b[0m \u001b[0mpop_size\u001b[0m\u001b[0;34m=\u001b[0m\u001b[0;36m40\u001b[0m\u001b[0;34m)\u001b[0m\u001b[0;34m\u001b[0m\u001b[0;34m\u001b[0m\u001b[0m\n\u001b[0;32m----> 6\u001b[0;31m \u001b[0mbest_position\u001b[0m\u001b[0;34m,\u001b[0m \u001b[0mbest_fitness\u001b[0m \u001b[0;34m=\u001b[0m \u001b[0mmodel\u001b[0m\u001b[0;34m.\u001b[0m\u001b[0msolve\u001b[0m\u001b[0;34m(\u001b[0m\u001b[0mproblem\u001b[0m\u001b[0;34m)\u001b[0m\u001b[0;34m\u001b[0m\u001b[0;34m\u001b[0m\u001b[0m\n\u001b[0m\u001b[1;32m      7\u001b[0m \u001b[0mlstm\u001b[0m \u001b[0;34m=\u001b[0m \u001b[0mmodel\u001b[0m\u001b[0;34m.\u001b[0m\u001b[0mhistory\u001b[0m\u001b[0;34m.\u001b[0m\u001b[0mlist_current_best\u001b[0m\u001b[0;34m\u001b[0m\u001b[0;34m\u001b[0m\u001b[0m\n\u001b[1;32m      8\u001b[0m \u001b[0;32mfor\u001b[0m \u001b[0mj\u001b[0m\u001b[0;34m,\u001b[0m\u001b[0mi\u001b[0m \u001b[0;32min\u001b[0m \u001b[0menumerate\u001b[0m\u001b[0;34m(\u001b[0m\u001b[0mlstm\u001b[0m\u001b[0;34m)\u001b[0m\u001b[0;34m:\u001b[0m\u001b[0;34m\u001b[0m\u001b[0;34m\u001b[0m\u001b[0m\n",
            "\u001b[0;32m/usr/local/lib/python3.10/dist-packages/mealpy/optimizer.py\u001b[0m in \u001b[0;36msolve\u001b[0;34m(self, problem, mode, starting_positions, n_workers, termination)\u001b[0m\n\u001b[1;32m    281\u001b[0m \u001b[0;34m\u001b[0m\u001b[0m\n\u001b[1;32m    282\u001b[0m             \u001b[0;31m## Evolve method will be called in child class\u001b[0m\u001b[0;34m\u001b[0m\u001b[0;34m\u001b[0m\u001b[0m\n\u001b[0;32m--> 283\u001b[0;31m             \u001b[0mself\u001b[0m\u001b[0;34m.\u001b[0m\u001b[0mevolve\u001b[0m\u001b[0;34m(\u001b[0m\u001b[0mepoch\u001b[0m\u001b[0;34m)\u001b[0m\u001b[0;34m\u001b[0m\u001b[0;34m\u001b[0m\u001b[0m\n\u001b[0m\u001b[1;32m    284\u001b[0m \u001b[0;34m\u001b[0m\u001b[0m\n\u001b[1;32m    285\u001b[0m             \u001b[0;31m# Update global best position, the population is sorted or not depended on algorithm's strategy\u001b[0m\u001b[0;34m\u001b[0m\u001b[0;34m\u001b[0m\u001b[0m\n",
            "\u001b[0;32m/usr/local/lib/python3.10/dist-packages/mealpy/swarm_based/PSO.py\u001b[0m in \u001b[0;36mevolve\u001b[0;34m(self, epoch)\u001b[0m\n\u001b[1;32m    237\u001b[0m             \u001b[0mpop_new\u001b[0m\u001b[0;34m.\u001b[0m\u001b[0mappend\u001b[0m\u001b[0;34m(\u001b[0m\u001b[0magent\u001b[0m\u001b[0;34m)\u001b[0m\u001b[0;34m\u001b[0m\u001b[0;34m\u001b[0m\u001b[0m\n\u001b[1;32m    238\u001b[0m             \u001b[0;32mif\u001b[0m \u001b[0mself\u001b[0m\u001b[0;34m.\u001b[0m\u001b[0mmode\u001b[0m \u001b[0;32mnot\u001b[0m \u001b[0;32min\u001b[0m \u001b[0mself\u001b[0m\u001b[0;34m.\u001b[0m\u001b[0mAVAILABLE_MODES\u001b[0m\u001b[0;34m:\u001b[0m\u001b[0;34m\u001b[0m\u001b[0;34m\u001b[0m\u001b[0m\n\u001b[0;32m--> 239\u001b[0;31m                 \u001b[0mpop_new\u001b[0m\u001b[0;34m[\u001b[0m\u001b[0;34m-\u001b[0m\u001b[0;36m1\u001b[0m\u001b[0;34m]\u001b[0m\u001b[0;34m[\u001b[0m\u001b[0mself\u001b[0m\u001b[0;34m.\u001b[0m\u001b[0mID_TAR\u001b[0m\u001b[0;34m]\u001b[0m \u001b[0;34m=\u001b[0m \u001b[0mself\u001b[0m\u001b[0;34m.\u001b[0m\u001b[0mget_target_wrapper\u001b[0m\u001b[0;34m(\u001b[0m\u001b[0magent\u001b[0m\u001b[0;34m[\u001b[0m\u001b[0mself\u001b[0m\u001b[0;34m.\u001b[0m\u001b[0mID_POS\u001b[0m\u001b[0;34m]\u001b[0m\u001b[0;34m)\u001b[0m\u001b[0;34m\u001b[0m\u001b[0;34m\u001b[0m\u001b[0m\n\u001b[0m\u001b[1;32m    240\u001b[0m         \u001b[0;32mif\u001b[0m \u001b[0mself\u001b[0m\u001b[0;34m.\u001b[0m\u001b[0mmode\u001b[0m \u001b[0;32min\u001b[0m \u001b[0mself\u001b[0m\u001b[0;34m.\u001b[0m\u001b[0mAVAILABLE_MODES\u001b[0m\u001b[0;34m:\u001b[0m\u001b[0;34m\u001b[0m\u001b[0;34m\u001b[0m\u001b[0m\n\u001b[1;32m    241\u001b[0m             \u001b[0mpop_new\u001b[0m \u001b[0;34m=\u001b[0m \u001b[0mself\u001b[0m\u001b[0;34m.\u001b[0m\u001b[0mupdate_target_wrapper_population\u001b[0m\u001b[0;34m(\u001b[0m\u001b[0mpop_new\u001b[0m\u001b[0;34m)\u001b[0m\u001b[0;34m\u001b[0m\u001b[0;34m\u001b[0m\u001b[0m\n",
            "\u001b[0;32m/usr/local/lib/python3.10/dist-packages/mealpy/optimizer.py\u001b[0m in \u001b[0;36mget_target_wrapper\u001b[0;34m(self, position, counted)\u001b[0m\n\u001b[1;32m    162\u001b[0m         \u001b[0;32mif\u001b[0m \u001b[0mcounted\u001b[0m\u001b[0;34m:\u001b[0m\u001b[0;34m\u001b[0m\u001b[0;34m\u001b[0m\u001b[0m\n\u001b[1;32m    163\u001b[0m             \u001b[0mself\u001b[0m\u001b[0;34m.\u001b[0m\u001b[0mnfe_counter\u001b[0m \u001b[0;34m+=\u001b[0m \u001b[0;36m1\u001b[0m\u001b[0;34m\u001b[0m\u001b[0;34m\u001b[0m\u001b[0m\n\u001b[0;32m--> 164\u001b[0;31m         \u001b[0mobjs\u001b[0m \u001b[0;34m=\u001b[0m \u001b[0mself\u001b[0m\u001b[0;34m.\u001b[0m\u001b[0mproblem\u001b[0m\u001b[0;34m.\u001b[0m\u001b[0mfit_func\u001b[0m\u001b[0;34m(\u001b[0m\u001b[0mposition\u001b[0m\u001b[0;34m)\u001b[0m\u001b[0;34m\u001b[0m\u001b[0;34m\u001b[0m\u001b[0m\n\u001b[0m\u001b[1;32m    165\u001b[0m         \u001b[0;32mif\u001b[0m \u001b[0;32mnot\u001b[0m \u001b[0mself\u001b[0m\u001b[0;34m.\u001b[0m\u001b[0mproblem\u001b[0m\u001b[0;34m.\u001b[0m\u001b[0mobj_is_list\u001b[0m\u001b[0;34m:\u001b[0m\u001b[0;34m\u001b[0m\u001b[0;34m\u001b[0m\u001b[0m\n\u001b[1;32m    166\u001b[0m             \u001b[0mobjs\u001b[0m \u001b[0;34m=\u001b[0m \u001b[0;34m[\u001b[0m\u001b[0mobjs\u001b[0m\u001b[0;34m]\u001b[0m\u001b[0;34m\u001b[0m\u001b[0;34m\u001b[0m\u001b[0m\n",
            "\u001b[0;32m<ipython-input-6-bdeb8957c305>\u001b[0m in \u001b[0;36mfitness_function\u001b[0;34m(solution)\u001b[0m\n\u001b[1;32m      7\u001b[0m                     )\n\u001b[1;32m      8\u001b[0m     \u001b[0;31m# Fit the model\u001b[0m\u001b[0;34m\u001b[0m\u001b[0;34m\u001b[0m\u001b[0m\n\u001b[0;32m----> 9\u001b[0;31m     \u001b[0mclf\u001b[0m\u001b[0;34m.\u001b[0m\u001b[0mfit\u001b[0m\u001b[0;34m(\u001b[0m\u001b[0mX\u001b[0m\u001b[0;34m,\u001b[0m \u001b[0mY\u001b[0m\u001b[0;34m)\u001b[0m\u001b[0;34m\u001b[0m\u001b[0;34m\u001b[0m\u001b[0m\n\u001b[0m\u001b[1;32m     10\u001b[0m     \u001b[0;31m# Make the predictions\u001b[0m\u001b[0;34m\u001b[0m\u001b[0;34m\u001b[0m\u001b[0m\n\u001b[1;32m     11\u001b[0m     \u001b[0my_\u001b[0m \u001b[0;34m=\u001b[0m \u001b[0mclf\u001b[0m\u001b[0;34m.\u001b[0m\u001b[0mpredict\u001b[0m\u001b[0;34m(\u001b[0m\u001b[0mx\u001b[0m\u001b[0;34m)\u001b[0m\u001b[0;34m\u001b[0m\u001b[0;34m\u001b[0m\u001b[0m\n",
            "\u001b[0;32m/usr/local/lib/python3.10/dist-packages/xgboost/core.py\u001b[0m in \u001b[0;36minner_f\u001b[0;34m(*args, **kwargs)\u001b[0m\n\u001b[1;32m    618\u001b[0m             \u001b[0;32mfor\u001b[0m \u001b[0mk\u001b[0m\u001b[0;34m,\u001b[0m \u001b[0marg\u001b[0m \u001b[0;32min\u001b[0m \u001b[0mzip\u001b[0m\u001b[0;34m(\u001b[0m\u001b[0msig\u001b[0m\u001b[0;34m.\u001b[0m\u001b[0mparameters\u001b[0m\u001b[0;34m,\u001b[0m \u001b[0margs\u001b[0m\u001b[0;34m)\u001b[0m\u001b[0;34m:\u001b[0m\u001b[0;34m\u001b[0m\u001b[0;34m\u001b[0m\u001b[0m\n\u001b[1;32m    619\u001b[0m                 \u001b[0mkwargs\u001b[0m\u001b[0;34m[\u001b[0m\u001b[0mk\u001b[0m\u001b[0;34m]\u001b[0m \u001b[0;34m=\u001b[0m \u001b[0marg\u001b[0m\u001b[0;34m\u001b[0m\u001b[0;34m\u001b[0m\u001b[0m\n\u001b[0;32m--> 620\u001b[0;31m             \u001b[0;32mreturn\u001b[0m \u001b[0mfunc\u001b[0m\u001b[0;34m(\u001b[0m\u001b[0;34m**\u001b[0m\u001b[0mkwargs\u001b[0m\u001b[0;34m)\u001b[0m\u001b[0;34m\u001b[0m\u001b[0;34m\u001b[0m\u001b[0m\n\u001b[0m\u001b[1;32m    621\u001b[0m \u001b[0;34m\u001b[0m\u001b[0m\n\u001b[1;32m    622\u001b[0m         \u001b[0;32mreturn\u001b[0m \u001b[0minner_f\u001b[0m\u001b[0;34m\u001b[0m\u001b[0;34m\u001b[0m\u001b[0m\n",
            "\u001b[0;32m/usr/local/lib/python3.10/dist-packages/xgboost/sklearn.py\u001b[0m in \u001b[0;36mfit\u001b[0;34m(self, X, y, sample_weight, base_margin, eval_set, eval_metric, early_stopping_rounds, verbose, xgb_model, sample_weight_eval_set, base_margin_eval_set, feature_weights, callbacks)\u001b[0m\n\u001b[1;32m   1488\u001b[0m             )\n\u001b[1;32m   1489\u001b[0m \u001b[0;34m\u001b[0m\u001b[0m\n\u001b[0;32m-> 1490\u001b[0;31m             self._Booster = train(\n\u001b[0m\u001b[1;32m   1491\u001b[0m                 \u001b[0mparams\u001b[0m\u001b[0;34m,\u001b[0m\u001b[0;34m\u001b[0m\u001b[0;34m\u001b[0m\u001b[0m\n\u001b[1;32m   1492\u001b[0m                 \u001b[0mtrain_dmatrix\u001b[0m\u001b[0;34m,\u001b[0m\u001b[0;34m\u001b[0m\u001b[0;34m\u001b[0m\u001b[0m\n",
            "\u001b[0;32m/usr/local/lib/python3.10/dist-packages/xgboost/core.py\u001b[0m in \u001b[0;36minner_f\u001b[0;34m(*args, **kwargs)\u001b[0m\n\u001b[1;32m    618\u001b[0m             \u001b[0;32mfor\u001b[0m \u001b[0mk\u001b[0m\u001b[0;34m,\u001b[0m \u001b[0marg\u001b[0m \u001b[0;32min\u001b[0m \u001b[0mzip\u001b[0m\u001b[0;34m(\u001b[0m\u001b[0msig\u001b[0m\u001b[0;34m.\u001b[0m\u001b[0mparameters\u001b[0m\u001b[0;34m,\u001b[0m \u001b[0margs\u001b[0m\u001b[0;34m)\u001b[0m\u001b[0;34m:\u001b[0m\u001b[0;34m\u001b[0m\u001b[0;34m\u001b[0m\u001b[0m\n\u001b[1;32m    619\u001b[0m                 \u001b[0mkwargs\u001b[0m\u001b[0;34m[\u001b[0m\u001b[0mk\u001b[0m\u001b[0;34m]\u001b[0m \u001b[0;34m=\u001b[0m \u001b[0marg\u001b[0m\u001b[0;34m\u001b[0m\u001b[0;34m\u001b[0m\u001b[0m\n\u001b[0;32m--> 620\u001b[0;31m             \u001b[0;32mreturn\u001b[0m \u001b[0mfunc\u001b[0m\u001b[0;34m(\u001b[0m\u001b[0;34m**\u001b[0m\u001b[0mkwargs\u001b[0m\u001b[0;34m)\u001b[0m\u001b[0;34m\u001b[0m\u001b[0;34m\u001b[0m\u001b[0m\n\u001b[0m\u001b[1;32m    621\u001b[0m \u001b[0;34m\u001b[0m\u001b[0m\n\u001b[1;32m    622\u001b[0m         \u001b[0;32mreturn\u001b[0m \u001b[0minner_f\u001b[0m\u001b[0;34m\u001b[0m\u001b[0;34m\u001b[0m\u001b[0m\n",
            "\u001b[0;32m/usr/local/lib/python3.10/dist-packages/xgboost/training.py\u001b[0m in \u001b[0;36mtrain\u001b[0;34m(params, dtrain, num_boost_round, evals, obj, feval, maximize, early_stopping_rounds, evals_result, verbose_eval, xgb_model, callbacks, custom_metric)\u001b[0m\n\u001b[1;32m    183\u001b[0m         \u001b[0;32mif\u001b[0m \u001b[0mcb_container\u001b[0m\u001b[0;34m.\u001b[0m\u001b[0mbefore_iteration\u001b[0m\u001b[0;34m(\u001b[0m\u001b[0mbst\u001b[0m\u001b[0;34m,\u001b[0m \u001b[0mi\u001b[0m\u001b[0;34m,\u001b[0m \u001b[0mdtrain\u001b[0m\u001b[0;34m,\u001b[0m \u001b[0mevals\u001b[0m\u001b[0;34m)\u001b[0m\u001b[0;34m:\u001b[0m\u001b[0;34m\u001b[0m\u001b[0;34m\u001b[0m\u001b[0m\n\u001b[1;32m    184\u001b[0m             \u001b[0;32mbreak\u001b[0m\u001b[0;34m\u001b[0m\u001b[0;34m\u001b[0m\u001b[0m\n\u001b[0;32m--> 185\u001b[0;31m         \u001b[0mbst\u001b[0m\u001b[0;34m.\u001b[0m\u001b[0mupdate\u001b[0m\u001b[0;34m(\u001b[0m\u001b[0mdtrain\u001b[0m\u001b[0;34m,\u001b[0m \u001b[0mi\u001b[0m\u001b[0;34m,\u001b[0m \u001b[0mobj\u001b[0m\u001b[0;34m)\u001b[0m\u001b[0;34m\u001b[0m\u001b[0;34m\u001b[0m\u001b[0m\n\u001b[0m\u001b[1;32m    186\u001b[0m         \u001b[0;32mif\u001b[0m \u001b[0mcb_container\u001b[0m\u001b[0;34m.\u001b[0m\u001b[0mafter_iteration\u001b[0m\u001b[0;34m(\u001b[0m\u001b[0mbst\u001b[0m\u001b[0;34m,\u001b[0m \u001b[0mi\u001b[0m\u001b[0;34m,\u001b[0m \u001b[0mdtrain\u001b[0m\u001b[0;34m,\u001b[0m \u001b[0mevals\u001b[0m\u001b[0;34m)\u001b[0m\u001b[0;34m:\u001b[0m\u001b[0;34m\u001b[0m\u001b[0;34m\u001b[0m\u001b[0m\n\u001b[1;32m    187\u001b[0m             \u001b[0;32mbreak\u001b[0m\u001b[0;34m\u001b[0m\u001b[0;34m\u001b[0m\u001b[0m\n",
            "\u001b[0;32m/usr/local/lib/python3.10/dist-packages/xgboost/core.py\u001b[0m in \u001b[0;36mupdate\u001b[0;34m(self, dtrain, iteration, fobj)\u001b[0m\n\u001b[1;32m   1916\u001b[0m \u001b[0;34m\u001b[0m\u001b[0m\n\u001b[1;32m   1917\u001b[0m         \u001b[0;32mif\u001b[0m \u001b[0mfobj\u001b[0m \u001b[0;32mis\u001b[0m \u001b[0;32mNone\u001b[0m\u001b[0;34m:\u001b[0m\u001b[0;34m\u001b[0m\u001b[0;34m\u001b[0m\u001b[0m\n\u001b[0;32m-> 1918\u001b[0;31m             _check_call(_LIB.XGBoosterUpdateOneIter(self.handle,\n\u001b[0m\u001b[1;32m   1919\u001b[0m                                                     \u001b[0mctypes\u001b[0m\u001b[0;34m.\u001b[0m\u001b[0mc_int\u001b[0m\u001b[0;34m(\u001b[0m\u001b[0miteration\u001b[0m\u001b[0;34m)\u001b[0m\u001b[0;34m,\u001b[0m\u001b[0;34m\u001b[0m\u001b[0;34m\u001b[0m\u001b[0m\n\u001b[1;32m   1920\u001b[0m                                                     dtrain.handle))\n",
            "\u001b[0;31mKeyboardInterrupt\u001b[0m: "
          ]
        }
      ]
    },
    {
      "cell_type": "code",
      "source": [
        "# def PPSO():\n",
        "epoch = 20\n",
        "print('started')\n",
        "p = np.zeros((epoch,5))\n",
        "model = AEO.EnhancedAEO(epoch=epoch, pop_size=10)\n",
        "best_position, best_fitness = model.solve(problem)\n",
        "lstm = model.history.list_current_best\n",
        "for j,i in enumerate(lstm):\n",
        "    p[j] = int(i[0][0]),int(i[0][1]),i[0][2],i[1][0],i[1][1][0]\n",
        "# print(p)\n",
        "s = pd.DataFrame(p,columns=['Max Dept','N Stimator','Learning Rate','Best Accuracy','Best Accuracy 2'])\n",
        "s.to_csv(f'/content/drive/MyDrive/45/{model.__class__.__name__}_XGB_2.csv')\n"
      ],
      "metadata": {
        "colab": {
          "base_uri": "https://localhost:8080/"
        },
        "id": "pe7Q7L1y6Da4",
        "outputId": "5785adbd-dd82-483d-b163-6aa59741a9b1"
      },
      "execution_count": 41,
      "outputs": [
        {
          "output_type": "stream",
          "name": "stdout",
          "text": [
            "started\n"
          ]
        },
        {
          "output_type": "stream",
          "name": "stderr",
          "text": [
            "INFO:mealpy.system_based.AEO.EnhancedAEO:Solving single objective optimization problem.\n",
            "INFO:mealpy.system_based.AEO.EnhancedAEO:>Problem: P, Epoch: 1, Current best: 0.7896341463414633, Global best: 0.7896341463414633, Runtime: 36.10856 seconds\n",
            "INFO:mealpy.system_based.AEO.EnhancedAEO:>Problem: P, Epoch: 2, Current best: 0.7896341463414633, Global best: 0.7896341463414633, Runtime: 39.29731 seconds\n",
            "INFO:mealpy.system_based.AEO.EnhancedAEO:>Problem: P, Epoch: 3, Current best: 0.7896341463414633, Global best: 0.7896341463414633, Runtime: 43.69632 seconds\n",
            "INFO:mealpy.system_based.AEO.EnhancedAEO:>Problem: P, Epoch: 4, Current best: 0.7896341463414633, Global best: 0.7896341463414633, Runtime: 27.30486 seconds\n",
            "INFO:mealpy.system_based.AEO.EnhancedAEO:>Problem: P, Epoch: 5, Current best: 0.7942073170731707, Global best: 0.7942073170731707, Runtime: 31.20740 seconds\n",
            "INFO:mealpy.system_based.AEO.EnhancedAEO:>Problem: P, Epoch: 6, Current best: 0.7942073170731707, Global best: 0.7942073170731707, Runtime: 37.65182 seconds\n",
            "INFO:mealpy.system_based.AEO.EnhancedAEO:>Problem: P, Epoch: 7, Current best: 0.7942073170731707, Global best: 0.7942073170731707, Runtime: 33.93432 seconds\n",
            "INFO:mealpy.system_based.AEO.EnhancedAEO:>Problem: P, Epoch: 8, Current best: 0.7972560975609756, Global best: 0.7972560975609756, Runtime: 30.12963 seconds\n",
            "INFO:mealpy.system_based.AEO.EnhancedAEO:>Problem: P, Epoch: 9, Current best: 0.7972560975609756, Global best: 0.7972560975609756, Runtime: 33.94641 seconds\n",
            "INFO:mealpy.system_based.AEO.EnhancedAEO:>Problem: P, Epoch: 10, Current best: 0.7972560975609756, Global best: 0.7972560975609756, Runtime: 32.56975 seconds\n",
            "INFO:mealpy.system_based.AEO.EnhancedAEO:>Problem: P, Epoch: 11, Current best: 0.7972560975609756, Global best: 0.7972560975609756, Runtime: 25.03893 seconds\n",
            "INFO:mealpy.system_based.AEO.EnhancedAEO:>Problem: P, Epoch: 12, Current best: 0.7972560975609756, Global best: 0.7972560975609756, Runtime: 28.44585 seconds\n",
            "INFO:mealpy.system_based.AEO.EnhancedAEO:>Problem: P, Epoch: 13, Current best: 0.7972560975609756, Global best: 0.7972560975609756, Runtime: 26.99823 seconds\n",
            "INFO:mealpy.system_based.AEO.EnhancedAEO:>Problem: P, Epoch: 14, Current best: 0.7987804878048782, Global best: 0.7987804878048782, Runtime: 26.39800 seconds\n",
            "INFO:mealpy.system_based.AEO.EnhancedAEO:>Problem: P, Epoch: 15, Current best: 0.7987804878048782, Global best: 0.7987804878048782, Runtime: 28.43891 seconds\n",
            "INFO:mealpy.system_based.AEO.EnhancedAEO:>Problem: P, Epoch: 16, Current best: 0.7987804878048782, Global best: 0.7987804878048782, Runtime: 26.73396 seconds\n",
            "INFO:mealpy.system_based.AEO.EnhancedAEO:>Problem: P, Epoch: 17, Current best: 0.7987804878048782, Global best: 0.7987804878048782, Runtime: 30.60020 seconds\n",
            "INFO:mealpy.system_based.AEO.EnhancedAEO:>Problem: P, Epoch: 18, Current best: 0.8003048780487806, Global best: 0.8003048780487806, Runtime: 30.92571 seconds\n",
            "INFO:mealpy.system_based.AEO.EnhancedAEO:>Problem: P, Epoch: 19, Current best: 0.8003048780487806, Global best: 0.8003048780487806, Runtime: 28.56390 seconds\n",
            "INFO:mealpy.system_based.AEO.EnhancedAEO:>Problem: P, Epoch: 20, Current best: 0.8003048780487806, Global best: 0.8003048780487806, Runtime: 27.38726 seconds\n"
          ]
        }
      ]
    },
    {
      "cell_type": "code",
      "source": [],
      "metadata": {
        "id": "_ez8pRJr6PJN"
      },
      "execution_count": null,
      "outputs": []
    },
    {
      "cell_type": "code",
      "source": [
        "# def PPSO():\n",
        "epoch = 40\n",
        "print('started')\n",
        "p = np.zeros((epoch,5))\n",
        "model = EOA.OriginalEOA(epoch=epoch, pop_size=10)\n",
        "best_position, best_fitness = model.solve(problem)\n",
        "lstm = model.history.list_current_best\n",
        "for j,i in enumerate(lstm):\n",
        "    p[j] = int(i[0][0]),int(i[0][1]),i[0][2],i[1][0],i[1][1][0]\n",
        "# print(p)\n",
        "s = pd.DataFrame(p,columns=['Max Dept','N Stimator','Learning Rate','Best Accuracy','Best Accuracy 2'])\n",
        "s.to_csv(f'/content/drive/MyDrive/45/{model.__class__.__name__}_XGB_2.csv')"
      ],
      "metadata": {
        "colab": {
          "base_uri": "https://localhost:8080/",
          "height": 678
        },
        "id": "GasOPRMS6QSF",
        "outputId": "1ec0afac-aa37-4e4f-cc66-6fa57264ad6a"
      },
      "execution_count": 44,
      "outputs": [
        {
          "output_type": "stream",
          "name": "stdout",
          "text": [
            "started\n"
          ]
        },
        {
          "output_type": "stream",
          "name": "stderr",
          "text": [
            "INFO:mealpy.bio_based.EOA.OriginalEOA:Solving single objective optimization problem.\n",
            "INFO:mealpy.bio_based.EOA.OriginalEOA:>Problem: P, Epoch: 1, Current best: 0.7881097560975608, Global best: 0.7881097560975608, Runtime: 76.64264 seconds\n",
            "INFO:mealpy.bio_based.EOA.OriginalEOA:>Problem: P, Epoch: 2, Current best: 0.7881097560975608, Global best: 0.7881097560975608, Runtime: 84.90012 seconds\n",
            "INFO:mealpy.bio_based.EOA.OriginalEOA:>Problem: P, Epoch: 3, Current best: 0.7881097560975608, Global best: 0.7881097560975608, Runtime: 90.59446 seconds\n",
            "INFO:mealpy.bio_based.EOA.OriginalEOA:>Problem: P, Epoch: 4, Current best: 0.7881097560975608, Global best: 0.7881097560975608, Runtime: 84.01427 seconds\n",
            "INFO:mealpy.bio_based.EOA.OriginalEOA:>Problem: P, Epoch: 5, Current best: 0.7926829268292683, Global best: 0.7926829268292683, Runtime: 88.52110 seconds\n",
            "INFO:mealpy.bio_based.EOA.OriginalEOA:>Problem: P, Epoch: 6, Current best: 0.7926829268292683, Global best: 0.7926829268292683, Runtime: 87.68129 seconds\n",
            "INFO:mealpy.bio_based.EOA.OriginalEOA:>Problem: P, Epoch: 7, Current best: 0.7957317073170732, Global best: 0.7957317073170732, Runtime: 93.49051 seconds\n",
            "INFO:mealpy.bio_based.EOA.OriginalEOA:>Problem: P, Epoch: 8, Current best: 0.7957317073170732, Global best: 0.7957317073170732, Runtime: 62.19911 seconds\n",
            "INFO:mealpy.bio_based.EOA.OriginalEOA:>Problem: P, Epoch: 9, Current best: 0.7957317073170732, Global best: 0.7957317073170732, Runtime: 68.82911 seconds\n",
            "INFO:mealpy.bio_based.EOA.OriginalEOA:>Problem: P, Epoch: 10, Current best: 0.7957317073170732, Global best: 0.7957317073170732, Runtime: 56.74100 seconds\n",
            "INFO:mealpy.bio_based.EOA.OriginalEOA:>Problem: P, Epoch: 11, Current best: 0.7957317073170732, Global best: 0.7957317073170732, Runtime: 69.76762 seconds\n",
            "INFO:mealpy.bio_based.EOA.OriginalEOA:>Problem: P, Epoch: 12, Current best: 0.7957317073170732, Global best: 0.7957317073170732, Runtime: 60.60480 seconds\n",
            "INFO:mealpy.bio_based.EOA.OriginalEOA:>Problem: P, Epoch: 13, Current best: 0.7957317073170732, Global best: 0.7957317073170732, Runtime: 59.39952 seconds\n",
            "INFO:mealpy.bio_based.EOA.OriginalEOA:>Problem: P, Epoch: 14, Current best: 0.7957317073170732, Global best: 0.7957317073170732, Runtime: 60.10724 seconds\n",
            "INFO:mealpy.bio_based.EOA.OriginalEOA:>Problem: P, Epoch: 15, Current best: 0.7957317073170732, Global best: 0.7957317073170732, Runtime: 60.55475 seconds\n"
          ]
        },
        {
          "output_type": "error",
          "ename": "KeyboardInterrupt",
          "evalue": "ignored",
          "traceback": [
            "\u001b[0;31m---------------------------------------------------------------------------\u001b[0m",
            "\u001b[0;31mKeyboardInterrupt\u001b[0m                         Traceback (most recent call last)",
            "\u001b[0;32m<ipython-input-44-f8220ba4fb2e>\u001b[0m in \u001b[0;36m<cell line: 6>\u001b[0;34m()\u001b[0m\n\u001b[1;32m      4\u001b[0m \u001b[0mp\u001b[0m \u001b[0;34m=\u001b[0m \u001b[0mnp\u001b[0m\u001b[0;34m.\u001b[0m\u001b[0mzeros\u001b[0m\u001b[0;34m(\u001b[0m\u001b[0;34m(\u001b[0m\u001b[0mepoch\u001b[0m\u001b[0;34m,\u001b[0m\u001b[0;36m5\u001b[0m\u001b[0;34m)\u001b[0m\u001b[0;34m)\u001b[0m\u001b[0;34m\u001b[0m\u001b[0;34m\u001b[0m\u001b[0m\n\u001b[1;32m      5\u001b[0m \u001b[0mmodel\u001b[0m \u001b[0;34m=\u001b[0m \u001b[0mEOA\u001b[0m\u001b[0;34m.\u001b[0m\u001b[0mOriginalEOA\u001b[0m\u001b[0;34m(\u001b[0m\u001b[0mepoch\u001b[0m\u001b[0;34m=\u001b[0m\u001b[0mepoch\u001b[0m\u001b[0;34m,\u001b[0m \u001b[0mpop_size\u001b[0m\u001b[0;34m=\u001b[0m\u001b[0;36m10\u001b[0m\u001b[0;34m)\u001b[0m\u001b[0;34m\u001b[0m\u001b[0;34m\u001b[0m\u001b[0m\n\u001b[0;32m----> 6\u001b[0;31m \u001b[0mbest_position\u001b[0m\u001b[0;34m,\u001b[0m \u001b[0mbest_fitness\u001b[0m \u001b[0;34m=\u001b[0m \u001b[0mmodel\u001b[0m\u001b[0;34m.\u001b[0m\u001b[0msolve\u001b[0m\u001b[0;34m(\u001b[0m\u001b[0mproblem\u001b[0m\u001b[0;34m)\u001b[0m\u001b[0;34m\u001b[0m\u001b[0;34m\u001b[0m\u001b[0m\n\u001b[0m\u001b[1;32m      7\u001b[0m \u001b[0mlstm\u001b[0m \u001b[0;34m=\u001b[0m \u001b[0mmodel\u001b[0m\u001b[0;34m.\u001b[0m\u001b[0mhistory\u001b[0m\u001b[0;34m.\u001b[0m\u001b[0mlist_current_best\u001b[0m\u001b[0;34m\u001b[0m\u001b[0;34m\u001b[0m\u001b[0m\n\u001b[1;32m      8\u001b[0m \u001b[0;32mfor\u001b[0m \u001b[0mj\u001b[0m\u001b[0;34m,\u001b[0m\u001b[0mi\u001b[0m \u001b[0;32min\u001b[0m \u001b[0menumerate\u001b[0m\u001b[0;34m(\u001b[0m\u001b[0mlstm\u001b[0m\u001b[0;34m)\u001b[0m\u001b[0;34m:\u001b[0m\u001b[0;34m\u001b[0m\u001b[0;34m\u001b[0m\u001b[0m\n",
            "\u001b[0;32m/usr/local/lib/python3.10/dist-packages/mealpy/optimizer.py\u001b[0m in \u001b[0;36msolve\u001b[0;34m(self, problem, mode, starting_positions, n_workers, termination)\u001b[0m\n\u001b[1;32m    281\u001b[0m \u001b[0;34m\u001b[0m\u001b[0m\n\u001b[1;32m    282\u001b[0m             \u001b[0;31m## Evolve method will be called in child class\u001b[0m\u001b[0;34m\u001b[0m\u001b[0;34m\u001b[0m\u001b[0m\n\u001b[0;32m--> 283\u001b[0;31m             \u001b[0mself\u001b[0m\u001b[0;34m.\u001b[0m\u001b[0mevolve\u001b[0m\u001b[0;34m(\u001b[0m\u001b[0mepoch\u001b[0m\u001b[0;34m)\u001b[0m\u001b[0;34m\u001b[0m\u001b[0;34m\u001b[0m\u001b[0m\n\u001b[0m\u001b[1;32m    284\u001b[0m \u001b[0;34m\u001b[0m\u001b[0m\n\u001b[1;32m    285\u001b[0m             \u001b[0;31m# Update global best position, the population is sorted or not depended on algorithm's strategy\u001b[0m\u001b[0;34m\u001b[0m\u001b[0;34m\u001b[0m\u001b[0m\n",
            "\u001b[0;32m/usr/local/lib/python3.10/dist-packages/mealpy/bio_based/EOA.py\u001b[0m in \u001b[0;36mevolve\u001b[0;34m(self, epoch)\u001b[0m\n\u001b[1;32m    141\u001b[0m             \u001b[0mpop_new\u001b[0m\u001b[0;34m.\u001b[0m\u001b[0mappend\u001b[0m\u001b[0;34m(\u001b[0m\u001b[0;34m[\u001b[0m\u001b[0mpos_new\u001b[0m\u001b[0;34m,\u001b[0m \u001b[0;32mNone\u001b[0m\u001b[0;34m]\u001b[0m\u001b[0;34m)\u001b[0m\u001b[0;34m\u001b[0m\u001b[0;34m\u001b[0m\u001b[0m\n\u001b[1;32m    142\u001b[0m             \u001b[0;32mif\u001b[0m \u001b[0mself\u001b[0m\u001b[0;34m.\u001b[0m\u001b[0mmode\u001b[0m \u001b[0;32mnot\u001b[0m \u001b[0;32min\u001b[0m \u001b[0mself\u001b[0m\u001b[0;34m.\u001b[0m\u001b[0mAVAILABLE_MODES\u001b[0m\u001b[0;34m:\u001b[0m\u001b[0;34m\u001b[0m\u001b[0;34m\u001b[0m\u001b[0m\n\u001b[0;32m--> 143\u001b[0;31m                 \u001b[0mtarget\u001b[0m \u001b[0;34m=\u001b[0m \u001b[0mself\u001b[0m\u001b[0;34m.\u001b[0m\u001b[0mget_target_wrapper\u001b[0m\u001b[0;34m(\u001b[0m\u001b[0mpos_new\u001b[0m\u001b[0;34m)\u001b[0m\u001b[0;34m\u001b[0m\u001b[0;34m\u001b[0m\u001b[0m\n\u001b[0m\u001b[1;32m    144\u001b[0m                 \u001b[0mself\u001b[0m\u001b[0;34m.\u001b[0m\u001b[0mpop\u001b[0m\u001b[0;34m[\u001b[0m\u001b[0midx\u001b[0m\u001b[0;34m]\u001b[0m \u001b[0;34m=\u001b[0m \u001b[0mself\u001b[0m\u001b[0;34m.\u001b[0m\u001b[0mget_better_solution\u001b[0m\u001b[0;34m(\u001b[0m\u001b[0;34m[\u001b[0m\u001b[0mpos_new\u001b[0m\u001b[0;34m,\u001b[0m \u001b[0mtarget\u001b[0m\u001b[0;34m]\u001b[0m\u001b[0;34m,\u001b[0m \u001b[0mself\u001b[0m\u001b[0;34m.\u001b[0m\u001b[0mpop\u001b[0m\u001b[0;34m[\u001b[0m\u001b[0midx\u001b[0m\u001b[0;34m]\u001b[0m\u001b[0;34m)\u001b[0m\u001b[0;34m\u001b[0m\u001b[0;34m\u001b[0m\u001b[0m\n\u001b[1;32m    145\u001b[0m         \u001b[0;32mif\u001b[0m \u001b[0mself\u001b[0m\u001b[0;34m.\u001b[0m\u001b[0mmode\u001b[0m \u001b[0;32min\u001b[0m \u001b[0mself\u001b[0m\u001b[0;34m.\u001b[0m\u001b[0mAVAILABLE_MODES\u001b[0m\u001b[0;34m:\u001b[0m\u001b[0;34m\u001b[0m\u001b[0;34m\u001b[0m\u001b[0m\n",
            "\u001b[0;32m/usr/local/lib/python3.10/dist-packages/mealpy/optimizer.py\u001b[0m in \u001b[0;36mget_target_wrapper\u001b[0;34m(self, position, counted)\u001b[0m\n\u001b[1;32m    162\u001b[0m         \u001b[0;32mif\u001b[0m \u001b[0mcounted\u001b[0m\u001b[0;34m:\u001b[0m\u001b[0;34m\u001b[0m\u001b[0;34m\u001b[0m\u001b[0m\n\u001b[1;32m    163\u001b[0m             \u001b[0mself\u001b[0m\u001b[0;34m.\u001b[0m\u001b[0mnfe_counter\u001b[0m \u001b[0;34m+=\u001b[0m \u001b[0;36m1\u001b[0m\u001b[0;34m\u001b[0m\u001b[0;34m\u001b[0m\u001b[0m\n\u001b[0;32m--> 164\u001b[0;31m         \u001b[0mobjs\u001b[0m \u001b[0;34m=\u001b[0m \u001b[0mself\u001b[0m\u001b[0;34m.\u001b[0m\u001b[0mproblem\u001b[0m\u001b[0;34m.\u001b[0m\u001b[0mfit_func\u001b[0m\u001b[0;34m(\u001b[0m\u001b[0mposition\u001b[0m\u001b[0;34m)\u001b[0m\u001b[0;34m\u001b[0m\u001b[0;34m\u001b[0m\u001b[0m\n\u001b[0m\u001b[1;32m    165\u001b[0m         \u001b[0;32mif\u001b[0m \u001b[0;32mnot\u001b[0m \u001b[0mself\u001b[0m\u001b[0;34m.\u001b[0m\u001b[0mproblem\u001b[0m\u001b[0;34m.\u001b[0m\u001b[0mobj_is_list\u001b[0m\u001b[0;34m:\u001b[0m\u001b[0;34m\u001b[0m\u001b[0;34m\u001b[0m\u001b[0m\n\u001b[1;32m    166\u001b[0m             \u001b[0mobjs\u001b[0m \u001b[0;34m=\u001b[0m \u001b[0;34m[\u001b[0m\u001b[0mobjs\u001b[0m\u001b[0;34m]\u001b[0m\u001b[0;34m\u001b[0m\u001b[0;34m\u001b[0m\u001b[0m\n",
            "\u001b[0;32m<ipython-input-6-bdeb8957c305>\u001b[0m in \u001b[0;36mfitness_function\u001b[0;34m(solution)\u001b[0m\n\u001b[1;32m      7\u001b[0m                     )\n\u001b[1;32m      8\u001b[0m     \u001b[0;31m# Fit the model\u001b[0m\u001b[0;34m\u001b[0m\u001b[0;34m\u001b[0m\u001b[0m\n\u001b[0;32m----> 9\u001b[0;31m     \u001b[0mclf\u001b[0m\u001b[0;34m.\u001b[0m\u001b[0mfit\u001b[0m\u001b[0;34m(\u001b[0m\u001b[0mX\u001b[0m\u001b[0;34m,\u001b[0m \u001b[0mY\u001b[0m\u001b[0;34m)\u001b[0m\u001b[0;34m\u001b[0m\u001b[0;34m\u001b[0m\u001b[0m\n\u001b[0m\u001b[1;32m     10\u001b[0m     \u001b[0;31m# Make the predictions\u001b[0m\u001b[0;34m\u001b[0m\u001b[0;34m\u001b[0m\u001b[0m\n\u001b[1;32m     11\u001b[0m     \u001b[0my_\u001b[0m \u001b[0;34m=\u001b[0m \u001b[0mclf\u001b[0m\u001b[0;34m.\u001b[0m\u001b[0mpredict\u001b[0m\u001b[0;34m(\u001b[0m\u001b[0mx\u001b[0m\u001b[0;34m)\u001b[0m\u001b[0;34m\u001b[0m\u001b[0;34m\u001b[0m\u001b[0m\n",
            "\u001b[0;32m/usr/local/lib/python3.10/dist-packages/xgboost/core.py\u001b[0m in \u001b[0;36minner_f\u001b[0;34m(*args, **kwargs)\u001b[0m\n\u001b[1;32m    618\u001b[0m             \u001b[0;32mfor\u001b[0m \u001b[0mk\u001b[0m\u001b[0;34m,\u001b[0m \u001b[0marg\u001b[0m \u001b[0;32min\u001b[0m \u001b[0mzip\u001b[0m\u001b[0;34m(\u001b[0m\u001b[0msig\u001b[0m\u001b[0;34m.\u001b[0m\u001b[0mparameters\u001b[0m\u001b[0;34m,\u001b[0m \u001b[0margs\u001b[0m\u001b[0;34m)\u001b[0m\u001b[0;34m:\u001b[0m\u001b[0;34m\u001b[0m\u001b[0;34m\u001b[0m\u001b[0m\n\u001b[1;32m    619\u001b[0m                 \u001b[0mkwargs\u001b[0m\u001b[0;34m[\u001b[0m\u001b[0mk\u001b[0m\u001b[0;34m]\u001b[0m \u001b[0;34m=\u001b[0m \u001b[0marg\u001b[0m\u001b[0;34m\u001b[0m\u001b[0;34m\u001b[0m\u001b[0m\n\u001b[0;32m--> 620\u001b[0;31m             \u001b[0;32mreturn\u001b[0m \u001b[0mfunc\u001b[0m\u001b[0;34m(\u001b[0m\u001b[0;34m**\u001b[0m\u001b[0mkwargs\u001b[0m\u001b[0;34m)\u001b[0m\u001b[0;34m\u001b[0m\u001b[0;34m\u001b[0m\u001b[0m\n\u001b[0m\u001b[1;32m    621\u001b[0m \u001b[0;34m\u001b[0m\u001b[0m\n\u001b[1;32m    622\u001b[0m         \u001b[0;32mreturn\u001b[0m \u001b[0minner_f\u001b[0m\u001b[0;34m\u001b[0m\u001b[0;34m\u001b[0m\u001b[0m\n",
            "\u001b[0;32m/usr/local/lib/python3.10/dist-packages/xgboost/sklearn.py\u001b[0m in \u001b[0;36mfit\u001b[0;34m(self, X, y, sample_weight, base_margin, eval_set, eval_metric, early_stopping_rounds, verbose, xgb_model, sample_weight_eval_set, base_margin_eval_set, feature_weights, callbacks)\u001b[0m\n\u001b[1;32m   1488\u001b[0m             )\n\u001b[1;32m   1489\u001b[0m \u001b[0;34m\u001b[0m\u001b[0m\n\u001b[0;32m-> 1490\u001b[0;31m             self._Booster = train(\n\u001b[0m\u001b[1;32m   1491\u001b[0m                 \u001b[0mparams\u001b[0m\u001b[0;34m,\u001b[0m\u001b[0;34m\u001b[0m\u001b[0;34m\u001b[0m\u001b[0m\n\u001b[1;32m   1492\u001b[0m                 \u001b[0mtrain_dmatrix\u001b[0m\u001b[0;34m,\u001b[0m\u001b[0;34m\u001b[0m\u001b[0;34m\u001b[0m\u001b[0m\n",
            "\u001b[0;32m/usr/local/lib/python3.10/dist-packages/xgboost/core.py\u001b[0m in \u001b[0;36minner_f\u001b[0;34m(*args, **kwargs)\u001b[0m\n\u001b[1;32m    618\u001b[0m             \u001b[0;32mfor\u001b[0m \u001b[0mk\u001b[0m\u001b[0;34m,\u001b[0m \u001b[0marg\u001b[0m \u001b[0;32min\u001b[0m \u001b[0mzip\u001b[0m\u001b[0;34m(\u001b[0m\u001b[0msig\u001b[0m\u001b[0;34m.\u001b[0m\u001b[0mparameters\u001b[0m\u001b[0;34m,\u001b[0m \u001b[0margs\u001b[0m\u001b[0;34m)\u001b[0m\u001b[0;34m:\u001b[0m\u001b[0;34m\u001b[0m\u001b[0;34m\u001b[0m\u001b[0m\n\u001b[1;32m    619\u001b[0m                 \u001b[0mkwargs\u001b[0m\u001b[0;34m[\u001b[0m\u001b[0mk\u001b[0m\u001b[0;34m]\u001b[0m \u001b[0;34m=\u001b[0m \u001b[0marg\u001b[0m\u001b[0;34m\u001b[0m\u001b[0;34m\u001b[0m\u001b[0m\n\u001b[0;32m--> 620\u001b[0;31m             \u001b[0;32mreturn\u001b[0m \u001b[0mfunc\u001b[0m\u001b[0;34m(\u001b[0m\u001b[0;34m**\u001b[0m\u001b[0mkwargs\u001b[0m\u001b[0;34m)\u001b[0m\u001b[0;34m\u001b[0m\u001b[0;34m\u001b[0m\u001b[0m\n\u001b[0m\u001b[1;32m    621\u001b[0m \u001b[0;34m\u001b[0m\u001b[0m\n\u001b[1;32m    622\u001b[0m         \u001b[0;32mreturn\u001b[0m \u001b[0minner_f\u001b[0m\u001b[0;34m\u001b[0m\u001b[0;34m\u001b[0m\u001b[0m\n",
            "\u001b[0;32m/usr/local/lib/python3.10/dist-packages/xgboost/training.py\u001b[0m in \u001b[0;36mtrain\u001b[0;34m(params, dtrain, num_boost_round, evals, obj, feval, maximize, early_stopping_rounds, evals_result, verbose_eval, xgb_model, callbacks, custom_metric)\u001b[0m\n\u001b[1;32m    183\u001b[0m         \u001b[0;32mif\u001b[0m \u001b[0mcb_container\u001b[0m\u001b[0;34m.\u001b[0m\u001b[0mbefore_iteration\u001b[0m\u001b[0;34m(\u001b[0m\u001b[0mbst\u001b[0m\u001b[0;34m,\u001b[0m \u001b[0mi\u001b[0m\u001b[0;34m,\u001b[0m \u001b[0mdtrain\u001b[0m\u001b[0;34m,\u001b[0m \u001b[0mevals\u001b[0m\u001b[0;34m)\u001b[0m\u001b[0;34m:\u001b[0m\u001b[0;34m\u001b[0m\u001b[0;34m\u001b[0m\u001b[0m\n\u001b[1;32m    184\u001b[0m             \u001b[0;32mbreak\u001b[0m\u001b[0;34m\u001b[0m\u001b[0;34m\u001b[0m\u001b[0m\n\u001b[0;32m--> 185\u001b[0;31m         \u001b[0mbst\u001b[0m\u001b[0;34m.\u001b[0m\u001b[0mupdate\u001b[0m\u001b[0;34m(\u001b[0m\u001b[0mdtrain\u001b[0m\u001b[0;34m,\u001b[0m \u001b[0mi\u001b[0m\u001b[0;34m,\u001b[0m \u001b[0mobj\u001b[0m\u001b[0;34m)\u001b[0m\u001b[0;34m\u001b[0m\u001b[0;34m\u001b[0m\u001b[0m\n\u001b[0m\u001b[1;32m    186\u001b[0m         \u001b[0;32mif\u001b[0m \u001b[0mcb_container\u001b[0m\u001b[0;34m.\u001b[0m\u001b[0mafter_iteration\u001b[0m\u001b[0;34m(\u001b[0m\u001b[0mbst\u001b[0m\u001b[0;34m,\u001b[0m \u001b[0mi\u001b[0m\u001b[0;34m,\u001b[0m \u001b[0mdtrain\u001b[0m\u001b[0;34m,\u001b[0m \u001b[0mevals\u001b[0m\u001b[0;34m)\u001b[0m\u001b[0;34m:\u001b[0m\u001b[0;34m\u001b[0m\u001b[0;34m\u001b[0m\u001b[0m\n\u001b[1;32m    187\u001b[0m             \u001b[0;32mbreak\u001b[0m\u001b[0;34m\u001b[0m\u001b[0;34m\u001b[0m\u001b[0m\n",
            "\u001b[0;32m/usr/local/lib/python3.10/dist-packages/xgboost/core.py\u001b[0m in \u001b[0;36mupdate\u001b[0;34m(self, dtrain, iteration, fobj)\u001b[0m\n\u001b[1;32m   1916\u001b[0m \u001b[0;34m\u001b[0m\u001b[0m\n\u001b[1;32m   1917\u001b[0m         \u001b[0;32mif\u001b[0m \u001b[0mfobj\u001b[0m \u001b[0;32mis\u001b[0m \u001b[0;32mNone\u001b[0m\u001b[0;34m:\u001b[0m\u001b[0;34m\u001b[0m\u001b[0;34m\u001b[0m\u001b[0m\n\u001b[0;32m-> 1918\u001b[0;31m             _check_call(_LIB.XGBoosterUpdateOneIter(self.handle,\n\u001b[0m\u001b[1;32m   1919\u001b[0m                                                     \u001b[0mctypes\u001b[0m\u001b[0;34m.\u001b[0m\u001b[0mc_int\u001b[0m\u001b[0;34m(\u001b[0m\u001b[0miteration\u001b[0m\u001b[0;34m)\u001b[0m\u001b[0;34m,\u001b[0m\u001b[0;34m\u001b[0m\u001b[0;34m\u001b[0m\u001b[0m\n\u001b[1;32m   1920\u001b[0m                                                     dtrain.handle))\n",
            "\u001b[0;31mKeyboardInterrupt\u001b[0m: "
          ]
        }
      ]
    },
    {
      "cell_type": "code",
      "source": [
        "# def PPSO():\n",
        "epoch = 40\n",
        "print('started')\n",
        "p = np.zeros((epoch,5))\n",
        "model = MRFO.OriginalMRFO(epoch=epoch, pop_size=10)\n",
        "best_position, best_fitness = model.solve(problem)\n",
        "lstm = model.history.list_current_best\n",
        "for j,i in enumerate(lstm):\n",
        "    p[j] = int(i[0][0]),int(i[0][1]),i[0][2],i[1][0],i[1][1][0]\n",
        "# print(p)\n",
        "s = pd.DataFrame(p,columns=['Max Dept','N Stimator','Learning Rate','Best Accuracy','Best Accuracy 2'])\n",
        "s.to_csv(f'/content/drive/MyDrive/45/{model.__class__.__name__}_XGB_2.csv')"
      ],
      "metadata": {
        "colab": {
          "base_uri": "https://localhost:8080/",
          "height": 557
        },
        "id": "YY7-AY85L4Pn",
        "outputId": "c40c40c1-d542-4888-ac01-f58fe0e6f68d"
      },
      "execution_count": 49,
      "outputs": [
        {
          "output_type": "stream",
          "name": "stdout",
          "text": [
            "started\n"
          ]
        },
        {
          "output_type": "stream",
          "name": "stderr",
          "text": [
            "INFO:mealpy.swarm_based.MRFO.OriginalMRFO:Solving single objective optimization problem.\n",
            "INFO:mealpy.swarm_based.MRFO.OriginalMRFO:>Problem: P, Epoch: 1, Current best: 0.7865853658536586, Global best: 0.7865853658536586, Runtime: 62.08057 seconds\n",
            "INFO:mealpy.swarm_based.MRFO.OriginalMRFO:>Problem: P, Epoch: 2, Current best: 0.7896341463414633, Global best: 0.7896341463414633, Runtime: 41.61953 seconds\n",
            "INFO:mealpy.swarm_based.MRFO.OriginalMRFO:>Problem: P, Epoch: 3, Current best: 0.7896341463414633, Global best: 0.7896341463414633, Runtime: 42.43412 seconds\n",
            "INFO:mealpy.swarm_based.MRFO.OriginalMRFO:>Problem: P, Epoch: 4, Current best: 0.7896341463414633, Global best: 0.7896341463414633, Runtime: 49.53851 seconds\n",
            "INFO:mealpy.swarm_based.MRFO.OriginalMRFO:>Problem: P, Epoch: 5, Current best: 0.7911585365853658, Global best: 0.7911585365853658, Runtime: 45.91895 seconds\n",
            "INFO:mealpy.swarm_based.MRFO.OriginalMRFO:>Problem: P, Epoch: 6, Current best: 0.7911585365853658, Global best: 0.7911585365853658, Runtime: 41.90590 seconds\n",
            "INFO:mealpy.swarm_based.MRFO.OriginalMRFO:>Problem: P, Epoch: 7, Current best: 0.7911585365853658, Global best: 0.7911585365853658, Runtime: 40.00313 seconds\n",
            "INFO:mealpy.swarm_based.MRFO.OriginalMRFO:>Problem: P, Epoch: 8, Current best: 0.7926829268292683, Global best: 0.7926829268292683, Runtime: 52.91712 seconds\n"
          ]
        },
        {
          "output_type": "error",
          "ename": "KeyboardInterrupt",
          "evalue": "ignored",
          "traceback": [
            "\u001b[0;31m---------------------------------------------------------------------------\u001b[0m",
            "\u001b[0;31mKeyboardInterrupt\u001b[0m                         Traceback (most recent call last)",
            "\u001b[0;32m<ipython-input-49-35d0235996bc>\u001b[0m in \u001b[0;36m<cell line: 6>\u001b[0;34m()\u001b[0m\n\u001b[1;32m      4\u001b[0m \u001b[0mp\u001b[0m \u001b[0;34m=\u001b[0m \u001b[0mnp\u001b[0m\u001b[0;34m.\u001b[0m\u001b[0mzeros\u001b[0m\u001b[0;34m(\u001b[0m\u001b[0;34m(\u001b[0m\u001b[0mepoch\u001b[0m\u001b[0;34m,\u001b[0m\u001b[0;36m5\u001b[0m\u001b[0;34m)\u001b[0m\u001b[0;34m)\u001b[0m\u001b[0;34m\u001b[0m\u001b[0;34m\u001b[0m\u001b[0m\n\u001b[1;32m      5\u001b[0m \u001b[0mmodel\u001b[0m \u001b[0;34m=\u001b[0m \u001b[0mMRFO\u001b[0m\u001b[0;34m.\u001b[0m\u001b[0mOriginalMRFO\u001b[0m\u001b[0;34m(\u001b[0m\u001b[0mepoch\u001b[0m\u001b[0;34m=\u001b[0m\u001b[0mepoch\u001b[0m\u001b[0;34m,\u001b[0m \u001b[0mpop_size\u001b[0m\u001b[0;34m=\u001b[0m\u001b[0;36m10\u001b[0m\u001b[0;34m)\u001b[0m\u001b[0;34m\u001b[0m\u001b[0;34m\u001b[0m\u001b[0m\n\u001b[0;32m----> 6\u001b[0;31m \u001b[0mbest_position\u001b[0m\u001b[0;34m,\u001b[0m \u001b[0mbest_fitness\u001b[0m \u001b[0;34m=\u001b[0m \u001b[0mmodel\u001b[0m\u001b[0;34m.\u001b[0m\u001b[0msolve\u001b[0m\u001b[0;34m(\u001b[0m\u001b[0mproblem\u001b[0m\u001b[0;34m)\u001b[0m\u001b[0;34m\u001b[0m\u001b[0;34m\u001b[0m\u001b[0m\n\u001b[0m\u001b[1;32m      7\u001b[0m \u001b[0mlstm\u001b[0m \u001b[0;34m=\u001b[0m \u001b[0mmodel\u001b[0m\u001b[0;34m.\u001b[0m\u001b[0mhistory\u001b[0m\u001b[0;34m.\u001b[0m\u001b[0mlist_current_best\u001b[0m\u001b[0;34m\u001b[0m\u001b[0;34m\u001b[0m\u001b[0m\n\u001b[1;32m      8\u001b[0m \u001b[0;32mfor\u001b[0m \u001b[0mj\u001b[0m\u001b[0;34m,\u001b[0m\u001b[0mi\u001b[0m \u001b[0;32min\u001b[0m \u001b[0menumerate\u001b[0m\u001b[0;34m(\u001b[0m\u001b[0mlstm\u001b[0m\u001b[0;34m)\u001b[0m\u001b[0;34m:\u001b[0m\u001b[0;34m\u001b[0m\u001b[0;34m\u001b[0m\u001b[0m\n",
            "\u001b[0;32m/usr/local/lib/python3.10/dist-packages/mealpy/optimizer.py\u001b[0m in \u001b[0;36msolve\u001b[0;34m(self, problem, mode, starting_positions, n_workers, termination)\u001b[0m\n\u001b[1;32m    281\u001b[0m \u001b[0;34m\u001b[0m\u001b[0m\n\u001b[1;32m    282\u001b[0m             \u001b[0;31m## Evolve method will be called in child class\u001b[0m\u001b[0;34m\u001b[0m\u001b[0;34m\u001b[0m\u001b[0m\n\u001b[0;32m--> 283\u001b[0;31m             \u001b[0mself\u001b[0m\u001b[0;34m.\u001b[0m\u001b[0mevolve\u001b[0m\u001b[0;34m(\u001b[0m\u001b[0mepoch\u001b[0m\u001b[0;34m)\u001b[0m\u001b[0;34m\u001b[0m\u001b[0;34m\u001b[0m\u001b[0m\n\u001b[0m\u001b[1;32m    284\u001b[0m \u001b[0;34m\u001b[0m\u001b[0m\n\u001b[1;32m    285\u001b[0m             \u001b[0;31m# Update global best position, the population is sorted or not depended on algorithm's strategy\u001b[0m\u001b[0;34m\u001b[0m\u001b[0;34m\u001b[0m\u001b[0m\n",
            "\u001b[0;32m/usr/local/lib/python3.10/dist-packages/mealpy/swarm_based/MRFO.py\u001b[0m in \u001b[0;36mevolve\u001b[0;34m(self, epoch)\u001b[0m\n\u001b[1;32m    103\u001b[0m             \u001b[0mpop_new\u001b[0m\u001b[0;34m.\u001b[0m\u001b[0mappend\u001b[0m\u001b[0;34m(\u001b[0m\u001b[0;34m[\u001b[0m\u001b[0mpos_new\u001b[0m\u001b[0;34m,\u001b[0m \u001b[0;32mNone\u001b[0m\u001b[0;34m]\u001b[0m\u001b[0;34m)\u001b[0m\u001b[0;34m\u001b[0m\u001b[0;34m\u001b[0m\u001b[0m\n\u001b[1;32m    104\u001b[0m             \u001b[0;32mif\u001b[0m \u001b[0mself\u001b[0m\u001b[0;34m.\u001b[0m\u001b[0mmode\u001b[0m \u001b[0;32mnot\u001b[0m \u001b[0;32min\u001b[0m \u001b[0mself\u001b[0m\u001b[0;34m.\u001b[0m\u001b[0mAVAILABLE_MODES\u001b[0m\u001b[0;34m:\u001b[0m\u001b[0;34m\u001b[0m\u001b[0;34m\u001b[0m\u001b[0m\n\u001b[0;32m--> 105\u001b[0;31m                 \u001b[0mtarget\u001b[0m \u001b[0;34m=\u001b[0m \u001b[0mself\u001b[0m\u001b[0;34m.\u001b[0m\u001b[0mget_target_wrapper\u001b[0m\u001b[0;34m(\u001b[0m\u001b[0mpos_new\u001b[0m\u001b[0;34m)\u001b[0m\u001b[0;34m\u001b[0m\u001b[0;34m\u001b[0m\u001b[0m\n\u001b[0m\u001b[1;32m    106\u001b[0m                 \u001b[0mself\u001b[0m\u001b[0;34m.\u001b[0m\u001b[0mpop\u001b[0m\u001b[0;34m[\u001b[0m\u001b[0midx\u001b[0m\u001b[0;34m]\u001b[0m \u001b[0;34m=\u001b[0m \u001b[0mself\u001b[0m\u001b[0;34m.\u001b[0m\u001b[0mget_better_solution\u001b[0m\u001b[0;34m(\u001b[0m\u001b[0mself\u001b[0m\u001b[0;34m.\u001b[0m\u001b[0mpop\u001b[0m\u001b[0;34m[\u001b[0m\u001b[0midx\u001b[0m\u001b[0;34m]\u001b[0m\u001b[0;34m,\u001b[0m \u001b[0;34m[\u001b[0m\u001b[0mpos_new\u001b[0m\u001b[0;34m,\u001b[0m \u001b[0mtarget\u001b[0m\u001b[0;34m]\u001b[0m\u001b[0;34m)\u001b[0m\u001b[0;34m\u001b[0m\u001b[0;34m\u001b[0m\u001b[0m\n\u001b[1;32m    107\u001b[0m         \u001b[0;32mif\u001b[0m \u001b[0mself\u001b[0m\u001b[0;34m.\u001b[0m\u001b[0mmode\u001b[0m \u001b[0;32min\u001b[0m \u001b[0mself\u001b[0m\u001b[0;34m.\u001b[0m\u001b[0mAVAILABLE_MODES\u001b[0m\u001b[0;34m:\u001b[0m\u001b[0;34m\u001b[0m\u001b[0;34m\u001b[0m\u001b[0m\n",
            "\u001b[0;32m/usr/local/lib/python3.10/dist-packages/mealpy/optimizer.py\u001b[0m in \u001b[0;36mget_target_wrapper\u001b[0;34m(self, position, counted)\u001b[0m\n\u001b[1;32m    162\u001b[0m         \u001b[0;32mif\u001b[0m \u001b[0mcounted\u001b[0m\u001b[0;34m:\u001b[0m\u001b[0;34m\u001b[0m\u001b[0;34m\u001b[0m\u001b[0m\n\u001b[1;32m    163\u001b[0m             \u001b[0mself\u001b[0m\u001b[0;34m.\u001b[0m\u001b[0mnfe_counter\u001b[0m \u001b[0;34m+=\u001b[0m \u001b[0;36m1\u001b[0m\u001b[0;34m\u001b[0m\u001b[0;34m\u001b[0m\u001b[0m\n\u001b[0;32m--> 164\u001b[0;31m         \u001b[0mobjs\u001b[0m \u001b[0;34m=\u001b[0m \u001b[0mself\u001b[0m\u001b[0;34m.\u001b[0m\u001b[0mproblem\u001b[0m\u001b[0;34m.\u001b[0m\u001b[0mfit_func\u001b[0m\u001b[0;34m(\u001b[0m\u001b[0mposition\u001b[0m\u001b[0;34m)\u001b[0m\u001b[0;34m\u001b[0m\u001b[0;34m\u001b[0m\u001b[0m\n\u001b[0m\u001b[1;32m    165\u001b[0m         \u001b[0;32mif\u001b[0m \u001b[0;32mnot\u001b[0m \u001b[0mself\u001b[0m\u001b[0;34m.\u001b[0m\u001b[0mproblem\u001b[0m\u001b[0;34m.\u001b[0m\u001b[0mobj_is_list\u001b[0m\u001b[0;34m:\u001b[0m\u001b[0;34m\u001b[0m\u001b[0;34m\u001b[0m\u001b[0m\n\u001b[1;32m    166\u001b[0m             \u001b[0mobjs\u001b[0m \u001b[0;34m=\u001b[0m \u001b[0;34m[\u001b[0m\u001b[0mobjs\u001b[0m\u001b[0;34m]\u001b[0m\u001b[0;34m\u001b[0m\u001b[0;34m\u001b[0m\u001b[0m\n",
            "\u001b[0;32m<ipython-input-6-bdeb8957c305>\u001b[0m in \u001b[0;36mfitness_function\u001b[0;34m(solution)\u001b[0m\n\u001b[1;32m      7\u001b[0m                     )\n\u001b[1;32m      8\u001b[0m     \u001b[0;31m# Fit the model\u001b[0m\u001b[0;34m\u001b[0m\u001b[0;34m\u001b[0m\u001b[0m\n\u001b[0;32m----> 9\u001b[0;31m     \u001b[0mclf\u001b[0m\u001b[0;34m.\u001b[0m\u001b[0mfit\u001b[0m\u001b[0;34m(\u001b[0m\u001b[0mX\u001b[0m\u001b[0;34m,\u001b[0m \u001b[0mY\u001b[0m\u001b[0;34m)\u001b[0m\u001b[0;34m\u001b[0m\u001b[0;34m\u001b[0m\u001b[0m\n\u001b[0m\u001b[1;32m     10\u001b[0m     \u001b[0;31m# Make the predictions\u001b[0m\u001b[0;34m\u001b[0m\u001b[0;34m\u001b[0m\u001b[0m\n\u001b[1;32m     11\u001b[0m     \u001b[0my_\u001b[0m \u001b[0;34m=\u001b[0m \u001b[0mclf\u001b[0m\u001b[0;34m.\u001b[0m\u001b[0mpredict\u001b[0m\u001b[0;34m(\u001b[0m\u001b[0mx\u001b[0m\u001b[0;34m)\u001b[0m\u001b[0;34m\u001b[0m\u001b[0;34m\u001b[0m\u001b[0m\n",
            "\u001b[0;32m/usr/local/lib/python3.10/dist-packages/xgboost/core.py\u001b[0m in \u001b[0;36minner_f\u001b[0;34m(*args, **kwargs)\u001b[0m\n\u001b[1;32m    618\u001b[0m             \u001b[0;32mfor\u001b[0m \u001b[0mk\u001b[0m\u001b[0;34m,\u001b[0m \u001b[0marg\u001b[0m \u001b[0;32min\u001b[0m \u001b[0mzip\u001b[0m\u001b[0;34m(\u001b[0m\u001b[0msig\u001b[0m\u001b[0;34m.\u001b[0m\u001b[0mparameters\u001b[0m\u001b[0;34m,\u001b[0m \u001b[0margs\u001b[0m\u001b[0;34m)\u001b[0m\u001b[0;34m:\u001b[0m\u001b[0;34m\u001b[0m\u001b[0;34m\u001b[0m\u001b[0m\n\u001b[1;32m    619\u001b[0m                 \u001b[0mkwargs\u001b[0m\u001b[0;34m[\u001b[0m\u001b[0mk\u001b[0m\u001b[0;34m]\u001b[0m \u001b[0;34m=\u001b[0m \u001b[0marg\u001b[0m\u001b[0;34m\u001b[0m\u001b[0;34m\u001b[0m\u001b[0m\n\u001b[0;32m--> 620\u001b[0;31m             \u001b[0;32mreturn\u001b[0m \u001b[0mfunc\u001b[0m\u001b[0;34m(\u001b[0m\u001b[0;34m**\u001b[0m\u001b[0mkwargs\u001b[0m\u001b[0;34m)\u001b[0m\u001b[0;34m\u001b[0m\u001b[0;34m\u001b[0m\u001b[0m\n\u001b[0m\u001b[1;32m    621\u001b[0m \u001b[0;34m\u001b[0m\u001b[0m\n\u001b[1;32m    622\u001b[0m         \u001b[0;32mreturn\u001b[0m \u001b[0minner_f\u001b[0m\u001b[0;34m\u001b[0m\u001b[0;34m\u001b[0m\u001b[0m\n",
            "\u001b[0;32m/usr/local/lib/python3.10/dist-packages/xgboost/sklearn.py\u001b[0m in \u001b[0;36mfit\u001b[0;34m(self, X, y, sample_weight, base_margin, eval_set, eval_metric, early_stopping_rounds, verbose, xgb_model, sample_weight_eval_set, base_margin_eval_set, feature_weights, callbacks)\u001b[0m\n\u001b[1;32m   1488\u001b[0m             )\n\u001b[1;32m   1489\u001b[0m \u001b[0;34m\u001b[0m\u001b[0m\n\u001b[0;32m-> 1490\u001b[0;31m             self._Booster = train(\n\u001b[0m\u001b[1;32m   1491\u001b[0m                 \u001b[0mparams\u001b[0m\u001b[0;34m,\u001b[0m\u001b[0;34m\u001b[0m\u001b[0;34m\u001b[0m\u001b[0m\n\u001b[1;32m   1492\u001b[0m                 \u001b[0mtrain_dmatrix\u001b[0m\u001b[0;34m,\u001b[0m\u001b[0;34m\u001b[0m\u001b[0;34m\u001b[0m\u001b[0m\n",
            "\u001b[0;32m/usr/local/lib/python3.10/dist-packages/xgboost/core.py\u001b[0m in \u001b[0;36minner_f\u001b[0;34m(*args, **kwargs)\u001b[0m\n\u001b[1;32m    618\u001b[0m             \u001b[0;32mfor\u001b[0m \u001b[0mk\u001b[0m\u001b[0;34m,\u001b[0m \u001b[0marg\u001b[0m \u001b[0;32min\u001b[0m \u001b[0mzip\u001b[0m\u001b[0;34m(\u001b[0m\u001b[0msig\u001b[0m\u001b[0;34m.\u001b[0m\u001b[0mparameters\u001b[0m\u001b[0;34m,\u001b[0m \u001b[0margs\u001b[0m\u001b[0;34m)\u001b[0m\u001b[0;34m:\u001b[0m\u001b[0;34m\u001b[0m\u001b[0;34m\u001b[0m\u001b[0m\n\u001b[1;32m    619\u001b[0m                 \u001b[0mkwargs\u001b[0m\u001b[0;34m[\u001b[0m\u001b[0mk\u001b[0m\u001b[0;34m]\u001b[0m \u001b[0;34m=\u001b[0m \u001b[0marg\u001b[0m\u001b[0;34m\u001b[0m\u001b[0;34m\u001b[0m\u001b[0m\n\u001b[0;32m--> 620\u001b[0;31m             \u001b[0;32mreturn\u001b[0m \u001b[0mfunc\u001b[0m\u001b[0;34m(\u001b[0m\u001b[0;34m**\u001b[0m\u001b[0mkwargs\u001b[0m\u001b[0;34m)\u001b[0m\u001b[0;34m\u001b[0m\u001b[0;34m\u001b[0m\u001b[0m\n\u001b[0m\u001b[1;32m    621\u001b[0m \u001b[0;34m\u001b[0m\u001b[0m\n\u001b[1;32m    622\u001b[0m         \u001b[0;32mreturn\u001b[0m \u001b[0minner_f\u001b[0m\u001b[0;34m\u001b[0m\u001b[0;34m\u001b[0m\u001b[0m\n",
            "\u001b[0;32m/usr/local/lib/python3.10/dist-packages/xgboost/training.py\u001b[0m in \u001b[0;36mtrain\u001b[0;34m(params, dtrain, num_boost_round, evals, obj, feval, maximize, early_stopping_rounds, evals_result, verbose_eval, xgb_model, callbacks, custom_metric)\u001b[0m\n\u001b[1;32m    183\u001b[0m         \u001b[0;32mif\u001b[0m \u001b[0mcb_container\u001b[0m\u001b[0;34m.\u001b[0m\u001b[0mbefore_iteration\u001b[0m\u001b[0;34m(\u001b[0m\u001b[0mbst\u001b[0m\u001b[0;34m,\u001b[0m \u001b[0mi\u001b[0m\u001b[0;34m,\u001b[0m \u001b[0mdtrain\u001b[0m\u001b[0;34m,\u001b[0m \u001b[0mevals\u001b[0m\u001b[0;34m)\u001b[0m\u001b[0;34m:\u001b[0m\u001b[0;34m\u001b[0m\u001b[0;34m\u001b[0m\u001b[0m\n\u001b[1;32m    184\u001b[0m             \u001b[0;32mbreak\u001b[0m\u001b[0;34m\u001b[0m\u001b[0;34m\u001b[0m\u001b[0m\n\u001b[0;32m--> 185\u001b[0;31m         \u001b[0mbst\u001b[0m\u001b[0;34m.\u001b[0m\u001b[0mupdate\u001b[0m\u001b[0;34m(\u001b[0m\u001b[0mdtrain\u001b[0m\u001b[0;34m,\u001b[0m \u001b[0mi\u001b[0m\u001b[0;34m,\u001b[0m \u001b[0mobj\u001b[0m\u001b[0;34m)\u001b[0m\u001b[0;34m\u001b[0m\u001b[0;34m\u001b[0m\u001b[0m\n\u001b[0m\u001b[1;32m    186\u001b[0m         \u001b[0;32mif\u001b[0m \u001b[0mcb_container\u001b[0m\u001b[0;34m.\u001b[0m\u001b[0mafter_iteration\u001b[0m\u001b[0;34m(\u001b[0m\u001b[0mbst\u001b[0m\u001b[0;34m,\u001b[0m \u001b[0mi\u001b[0m\u001b[0;34m,\u001b[0m \u001b[0mdtrain\u001b[0m\u001b[0;34m,\u001b[0m \u001b[0mevals\u001b[0m\u001b[0;34m)\u001b[0m\u001b[0;34m:\u001b[0m\u001b[0;34m\u001b[0m\u001b[0;34m\u001b[0m\u001b[0m\n\u001b[1;32m    187\u001b[0m             \u001b[0;32mbreak\u001b[0m\u001b[0;34m\u001b[0m\u001b[0;34m\u001b[0m\u001b[0m\n",
            "\u001b[0;32m/usr/local/lib/python3.10/dist-packages/xgboost/core.py\u001b[0m in \u001b[0;36mupdate\u001b[0;34m(self, dtrain, iteration, fobj)\u001b[0m\n\u001b[1;32m   1916\u001b[0m \u001b[0;34m\u001b[0m\u001b[0m\n\u001b[1;32m   1917\u001b[0m         \u001b[0;32mif\u001b[0m \u001b[0mfobj\u001b[0m \u001b[0;32mis\u001b[0m \u001b[0;32mNone\u001b[0m\u001b[0;34m:\u001b[0m\u001b[0;34m\u001b[0m\u001b[0;34m\u001b[0m\u001b[0m\n\u001b[0;32m-> 1918\u001b[0;31m             _check_call(_LIB.XGBoosterUpdateOneIter(self.handle,\n\u001b[0m\u001b[1;32m   1919\u001b[0m                                                     \u001b[0mctypes\u001b[0m\u001b[0;34m.\u001b[0m\u001b[0mc_int\u001b[0m\u001b[0;34m(\u001b[0m\u001b[0miteration\u001b[0m\u001b[0;34m)\u001b[0m\u001b[0;34m,\u001b[0m\u001b[0;34m\u001b[0m\u001b[0;34m\u001b[0m\u001b[0m\n\u001b[1;32m   1920\u001b[0m                                                     dtrain.handle))\n",
            "\u001b[0;31mKeyboardInterrupt\u001b[0m: "
          ]
        }
      ]
    },
    {
      "cell_type": "code",
      "source": [
        "dir(MRFO)"
      ],
      "metadata": {
        "colab": {
          "base_uri": "https://localhost:8080/"
        },
        "id": "l988woV5Qqc6",
        "outputId": "c1d360dc-1f58-4fd1-9d82-bdd7260de88d"
      },
      "execution_count": 47,
      "outputs": [
        {
          "output_type": "execute_result",
          "data": {
            "text/plain": [
              "['Optimizer',\n",
              " 'OriginalMRFO',\n",
              " 'WMQIMRFO',\n",
              " '__builtins__',\n",
              " '__cached__',\n",
              " '__doc__',\n",
              " '__file__',\n",
              " '__loader__',\n",
              " '__name__',\n",
              " '__package__',\n",
              " '__spec__',\n",
              " 'np']"
            ]
          },
          "metadata": {},
          "execution_count": 47
        }
      ]
    },
    {
      "cell_type": "markdown",
      "source": [
        "# s"
      ],
      "metadata": {
        "id": "AMaFBdKRlP9M"
      }
    },
    {
      "cell_type": "code",
      "source": [
        "X = X[0:400]\n",
        "Y = Y[0:400]"
      ],
      "metadata": {
        "id": "zHqDkluxSegx"
      },
      "execution_count": 52,
      "outputs": []
    },
    {
      "cell_type": "code",
      "source": [
        "def fitness_function(solution):\n",
        "    max_depth = solution[0]\n",
        "    n_estimator = solution[1]\n",
        "    learning_rate = solution[2]\n",
        "    clf = XGBClassifier(max_depth=int(max_depth),\n",
        "                    n_estimators=int(n_estimator),random_state=0,learning_rate=learning_rate,\n",
        "                    )\n",
        "    # Fit the model\n",
        "    clf.fit(X, Y)\n",
        "    # Make the predictions\n",
        "    y_ = clf.predict(x)\n",
        "    # cm = confusion_matrix(y,y_)\n",
        "    # km = cm[0][1]+cm[1][0]\n",
        "    return f1_score(y,y_,average='micro')\n",
        "\n",
        "problem = {\n",
        "    \"fit_func\": fitness_function,\n",
        "    \"lb\": [8, 100, 0.01],\n",
        "    \"ub\": [12, 1000, .9],\n",
        "    \"minmax\": \"max\",\n",
        "}"
      ],
      "metadata": {
        "id": "SHfhyjYOST-W"
      },
      "execution_count": 53,
      "outputs": []
    },
    {
      "cell_type": "code",
      "source": [
        "import time\n",
        "a = time.time()\n",
        "b = time.time()\n",
        "b-a"
      ],
      "metadata": {
        "colab": {
          "base_uri": "https://localhost:8080/"
        },
        "id": "HNeForWATgpJ",
        "outputId": "e3736da0-fc44-4d52-d4b8-53d2eccc3aad"
      },
      "execution_count": 62,
      "outputs": [
        {
          "output_type": "execute_result",
          "data": {
            "text/plain": [
              "5.316734313964844e-05"
            ]
          },
          "metadata": {},
          "execution_count": 62
        }
      ]
    },
    {
      "cell_type": "code",
      "source": [
        "    # model = MRFO.BaseMRFO(problem_dict1, epoch=10, pop_size=50)\n",
        "    # model = MSA.BaseMSA(problem_dict1, epoch=10, pop_size=50, n_best=5, partition=0.5, max_step_size=1.0)\n",
        "    # model = NMRA.BaseNMRA(problem_dict1, epoch=10, pop_size=50)\n",
        "    # model = NMRA.ImprovedNMRA(problem_dict1, epoch=10, pop_size=50, pb=0.75, pm=0.01)\n",
        "    # model = PFA.BasePFA(problem_dict1, epoch=10, pop_size=50)\n",
        "    # model = PSO.BasePSO(problem_dict1, epoch=100, pop_size=50, c1=2.05, c2=2.05, w_min=0.4, w_max=0.9)\n",
        "    # model = PSO.C_PSO(problem_dict1, epoch=10, pop_size=50, c1=2.05, c2=2.05, w_min=0.4, w_max=0.9)\n",
        "    # model = PSO.CL_PSO(problem_dict1, epoch=10, pop_size=50, c_local=1.2, w_min=0.4, w_max=0.9, max_flag=7)\n",
        "    # model = PSO.PPSO(problem_dict1, epoch=10, pop_size=50)\n",
        "    # model = PSO.HPSO_TVAC(problem_dict1, epoch=10, pop_size=50, ci=0.5, cf=0.2)\n",
        "    # model = SFO.BaseSFO(problem_dict1, epoch=10, pop_size=50, pp=0.1, AP=4, epxilon=0.0001)\n",
        "    # model = SFO.ImprovedSFO(problem_dict1, epoch=10, pop_size=50, pp=0.1)\n",
        "    # model = SHO.BaseSHO(problem_dict1, epoch=10, pop_size=50, h_factor=1, rand_v=(0, 2), N_tried=30)\n",
        "    # model = SLO.BaseSLO(problem_dict1, epoch=10, pop_size=50)\n",
        "    # model = SLO.ModifiedSLO(problem_dict1, epoch=10, pop_size=50)\n",
        "    # model = SLO.ISLO(problem_dict1, epoch=10, pop_size=50, c1=1.2, c2=1.2)\n",
        "    # model = SRSR.BaseSRSR(problem_dict1, epoch=10, pop_size=50)\n",
        "    # model = SSA.OriginalSSA(problem_dict1, epoch=10, pop_size=50, ST=0.8, PD=0.2, SD=0.1)\n",
        "    # model = SSA.BaseSSA(problem_dict1, epoch=10, pop_size=50, ST=0.8, PD=0.2, SD=0.1)\n",
        "    # model = SSO.BaseSSO(problem, epoch=10, pop_size=50)\n",
        "    # model = SSpiderA.BaseSSpiderA(problem_dict1, epoch=10, pop_size=50, r_a=1, p_c=0.7, p_m=0.1)\n",
        "    # model = SSpiderO.BaseSSpiderO(problem_dict1, epoch=10, pop_size=50, fp=(0.65, 0.9))\n",
        "    # model = WOA.BaseWOA(problem_dict1, epoch=10, pop_size=50)\n",
        "    # model = WOA.HI_WOA(problem_dict1, epoch=10, pop_size=50, feedback_max=5)"
      ],
      "metadata": {
        "id": "pWpwJ-9MZda7"
      },
      "execution_count": null,
      "outputs": []
    },
    {
      "cell_type": "code",
      "source": [
        "    SMA.BaseSMA,\n",
        "    # MRFO.OriginalMRFO,\n",
        "    AEO.EnhancedAEO,\n",
        "    SMA.OriginalSMA,\n",
        "    # VCS.OriginalVCS,"
      ],
      "metadata": {
        "id": "OgRhE_B0YAf5"
      },
      "execution_count": null,
      "outputs": []
    },
    {
      "cell_type": "code",
      "source": [
        "mlpy = [\n",
        "    SMA.BaseSMA,\n",
        "    AEO.EnhancedAEO,\n",
        "    SMA.OriginalSMA,\n",
        "    ES.LevyES,\n",
        "    DE.JADE,\n",
        "    FPA.OriginalFPA,\n",
        "    BSO.ImprovedBSO,\n",
        "    FBIO.OriginalFBIO,\n",
        "    QSA.OriginalQSA,\n",
        "    QSA.ImprovedQSA,\n",
        "    SARO.OriginalSARO,\n",
        "    TLO.OriginalTLO,\n",
        "    AOA.OriginalAOA,\n",
        "    CGO.OriginalCGO,\n",
        "    GBO.OriginalGBO,\n",
        "    PSS.OriginalPSS,\n",
        "    SCA.OriginalSCA,\n",
        "    ArchOA.OriginalArchOA,\n",
        "    TWO.EnhancedTWO,\n",
        "    AEO.EnhancedAEO ,\n",
        "    AEO.OriginalAEO,\n",
        "    TWO.LevyTWO,\n",
        "    MVO.OriginalMVO,\n",
        "    EO.AdaptiveEO,\n",
        "    EO.ModifiedEO,\n",
        "    GCO.OriginalGCO,\n",
        "    ALO.OriginalALO,\n",
        "    AO.OriginalAO,\n",
        "    BA.ModifiedBA,\n",
        "    BA.OriginalBA,\n",
        "    BFO.OriginalBFO,\n",
        "    FOA.WhaleFOA,\n",
        "    JA.OriginalJA,\n",
        "    FOA.OriginalFOA\n",
        "]"
      ],
      "metadata": {
        "id": "-bg1TRxnUL2D"
      },
      "execution_count": 88,
      "outputs": []
    },
    {
      "cell_type": "code",
      "source": [
        "k = [FOA.WhaleFOA,DE.JADE,AO.OriginalAO]"
      ],
      "metadata": {
        "id": "BExmdFBxlCfg"
      },
      "execution_count": 91,
      "outputs": []
    },
    {
      "cell_type": "code",
      "source": [
        "n = []\n",
        "p = []\n",
        "for s in mlpy:\n",
        "    epoch = 10\n",
        "    try:\n",
        "        print('started')\n",
        "        # p = np.zeros((epoch,5))\n",
        "        a = time.time()\n",
        "        model = s(epoch=epoch, pop_size=10)\n",
        "        best_position, best_fitness = model.solve(problem)\n",
        "        b = time.time()\n",
        "        lstm = model.history.list_current_best\n",
        "        i = lstm[-1]\n",
        "        n.append(model.__class__.__name__)\n",
        "        p.append([int(i[0][0]),int(i[0][1]),i[0][2],i[1][0],i[1][1][0],(b-a)/10])\n",
        "        print(n,p)\n",
        "    except:print('went wrong')\n"
      ],
      "metadata": {
        "colab": {
          "base_uri": "https://localhost:8080/"
        },
        "id": "a6fSz3fGScNA",
        "outputId": "8615d7d8-6e77-45ce-c186-24ad3588c31f"
      },
      "execution_count": 77,
      "outputs": [
        {
          "output_type": "stream",
          "name": "stdout",
          "text": [
            "started\n"
          ]
        },
        {
          "output_type": "stream",
          "name": "stderr",
          "text": [
            "INFO:mealpy.evolutionary_based.ES.LevyES:Solving single objective optimization problem.\n",
            "INFO:mealpy.evolutionary_based.ES.LevyES:>Problem: P, Epoch: 1, Current best: 0.7225609756097561, Global best: 0.75, Runtime: 2.44658 seconds\n",
            "INFO:mealpy.evolutionary_based.ES.LevyES:>Problem: P, Epoch: 2, Current best: 0.7179878048780488, Global best: 0.75, Runtime: 2.89484 seconds\n",
            "INFO:mealpy.evolutionary_based.ES.LevyES:>Problem: P, Epoch: 3, Current best: 0.7149390243902439, Global best: 0.75, Runtime: 6.37571 seconds\n",
            "INFO:mealpy.evolutionary_based.ES.LevyES:>Problem: P, Epoch: 4, Current best: 0.7149390243902439, Global best: 0.75, Runtime: 3.27558 seconds\n",
            "INFO:mealpy.evolutionary_based.ES.LevyES:>Problem: P, Epoch: 5, Current best: 0.7134146341463414, Global best: 0.75, Runtime: 4.46246 seconds\n",
            "INFO:mealpy.evolutionary_based.ES.LevyES:>Problem: P, Epoch: 6, Current best: 0.7103658536585364, Global best: 0.75, Runtime: 5.77811 seconds\n",
            "INFO:mealpy.evolutionary_based.ES.LevyES:>Problem: P, Epoch: 7, Current best: 0.7103658536585364, Global best: 0.75, Runtime: 2.07027 seconds\n",
            "INFO:mealpy.evolutionary_based.ES.LevyES:>Problem: P, Epoch: 8, Current best: 0.7103658536585364, Global best: 0.75, Runtime: 1.93656 seconds\n",
            "INFO:mealpy.evolutionary_based.ES.LevyES:>Problem: P, Epoch: 9, Current best: 0.7088414634146342, Global best: 0.75, Runtime: 2.50286 seconds\n",
            "INFO:mealpy.evolutionary_based.ES.LevyES:>Problem: P, Epoch: 10, Current best: 0.7088414634146342, Global best: 0.75, Runtime: 2.37278 seconds\n",
            "INFO:mealpy.evolutionary_based.DE.JADE:Solving single objective optimization problem.\n"
          ]
        },
        {
          "output_type": "stream",
          "name": "stdout",
          "text": [
            "['LevyES'] [[9, 102, 0.9, 0.7088414634146342, 0.7088414634146342, 3.683679962158203]]\n",
            "started\n"
          ]
        },
        {
          "output_type": "stream",
          "name": "stderr",
          "text": [
            "INFO:mealpy.evolutionary_based.DE.JADE:>Problem: P, Epoch: 1, Current best: 0.7439024390243903, Global best: 0.7439024390243903, Runtime: 1.72962 seconds\n",
            "INFO:mealpy.evolutionary_based.DE.JADE:>Problem: P, Epoch: 2, Current best: 0.7439024390243903, Global best: 0.7439024390243903, Runtime: 1.35508 seconds\n",
            "INFO:mealpy.evolutionary_based.DE.JADE:>Problem: P, Epoch: 3, Current best: 0.7439024390243903, Global best: 0.7439024390243903, Runtime: 1.47699 seconds\n",
            "INFO:mealpy.evolutionary_based.DE.JADE:>Problem: P, Epoch: 4, Current best: 0.7454268292682927, Global best: 0.7454268292682927, Runtime: 1.67256 seconds\n",
            "INFO:mealpy.evolutionary_based.DE.JADE:>Problem: P, Epoch: 5, Current best: 0.7454268292682927, Global best: 0.7454268292682927, Runtime: 5.17198 seconds\n",
            "INFO:mealpy.evolutionary_based.DE.JADE:>Problem: P, Epoch: 6, Current best: 0.75, Global best: 0.75, Runtime: 1.62306 seconds\n",
            "INFO:mealpy.evolutionary_based.DE.JADE:>Problem: P, Epoch: 7, Current best: 0.75, Global best: 0.75, Runtime: 1.80982 seconds\n",
            "INFO:mealpy.evolutionary_based.DE.JADE:>Problem: P, Epoch: 8, Current best: 0.75, Global best: 0.75, Runtime: 1.61208 seconds\n",
            "INFO:mealpy.evolutionary_based.DE.JADE:>Problem: P, Epoch: 9, Current best: 0.7560975609756099, Global best: 0.7560975609756099, Runtime: 1.63424 seconds\n",
            "INFO:mealpy.evolutionary_based.DE.JADE:>Problem: P, Epoch: 10, Current best: 0.7560975609756099, Global best: 0.7560975609756099, Runtime: 2.06478 seconds\n"
          ]
        },
        {
          "output_type": "stream",
          "name": "stdout",
          "text": [
            "['LevyES', 'JADE'] [[9, 102, 0.9, 0.7088414634146342, 0.7088414634146342, 3.683679962158203], [11, 100, 0.10379182419578181, 0.7560975609756099, 0.7560975609756099, 2.76029109954834]]\n",
            "started\n"
          ]
        },
        {
          "output_type": "stream",
          "name": "stderr",
          "text": [
            "INFO:mealpy.evolutionary_based.FPA.OriginalFPA:Solving single objective optimization problem.\n",
            "INFO:mealpy.evolutionary_based.FPA.OriginalFPA:>Problem: P, Epoch: 1, Current best: 0.746951219512195, Global best: 0.746951219512195, Runtime: 3.05403 seconds\n",
            "INFO:mealpy.evolutionary_based.FPA.OriginalFPA:>Problem: P, Epoch: 2, Current best: 0.746951219512195, Global best: 0.746951219512195, Runtime: 10.34158 seconds\n",
            "INFO:mealpy.evolutionary_based.FPA.OriginalFPA:>Problem: P, Epoch: 3, Current best: 0.746951219512195, Global best: 0.746951219512195, Runtime: 3.75750 seconds\n",
            "INFO:mealpy.evolutionary_based.FPA.OriginalFPA:>Problem: P, Epoch: 4, Current best: 0.746951219512195, Global best: 0.746951219512195, Runtime: 3.88045 seconds\n",
            "INFO:mealpy.evolutionary_based.FPA.OriginalFPA:>Problem: P, Epoch: 5, Current best: 0.746951219512195, Global best: 0.746951219512195, Runtime: 6.12746 seconds\n",
            "INFO:mealpy.evolutionary_based.FPA.OriginalFPA:>Problem: P, Epoch: 6, Current best: 0.746951219512195, Global best: 0.746951219512195, Runtime: 3.54618 seconds\n",
            "INFO:mealpy.evolutionary_based.FPA.OriginalFPA:>Problem: P, Epoch: 7, Current best: 0.746951219512195, Global best: 0.746951219512195, Runtime: 7.45883 seconds\n",
            "INFO:mealpy.evolutionary_based.FPA.OriginalFPA:>Problem: P, Epoch: 8, Current best: 0.75, Global best: 0.75, Runtime: 4.44968 seconds\n",
            "INFO:mealpy.evolutionary_based.FPA.OriginalFPA:>Problem: P, Epoch: 9, Current best: 0.75, Global best: 0.75, Runtime: 4.58893 seconds\n",
            "INFO:mealpy.evolutionary_based.FPA.OriginalFPA:>Problem: P, Epoch: 10, Current best: 0.75, Global best: 0.75, Runtime: 8.20246 seconds\n"
          ]
        },
        {
          "output_type": "stream",
          "name": "stdout",
          "text": [
            "['LevyES', 'JADE', 'OriginalFPA'] [[9, 102, 0.9, 0.7088414634146342, 0.7088414634146342, 3.683679962158203], [11, 100, 0.10379182419578181, 0.7560975609756099, 0.7560975609756099, 2.76029109954834], [9, 1000, 0.011191866902417233, 0.75, 0.75, 6.135713887214661]]\n",
            "started\n",
            "went wrong\n",
            "started\n"
          ]
        },
        {
          "output_type": "stream",
          "name": "stderr",
          "text": [
            "INFO:mealpy.human_based.FBIO.OriginalFBIO:Solving single objective optimization problem.\n",
            "INFO:mealpy.human_based.FBIO.OriginalFBIO:>Problem: P, Epoch: 1, Current best: 0.7530487804878048, Global best: 0.7530487804878048, Runtime: 13.73323 seconds\n",
            "INFO:mealpy.human_based.FBIO.OriginalFBIO:>Problem: P, Epoch: 2, Current best: 0.7560975609756099, Global best: 0.7560975609756099, Runtime: 13.11515 seconds\n",
            "INFO:mealpy.human_based.FBIO.OriginalFBIO:>Problem: P, Epoch: 3, Current best: 0.7591463414634145, Global best: 0.7591463414634145, Runtime: 12.06142 seconds\n",
            "INFO:mealpy.human_based.FBIO.OriginalFBIO:>Problem: P, Epoch: 4, Current best: 0.7591463414634145, Global best: 0.7591463414634145, Runtime: 12.07109 seconds\n",
            "INFO:mealpy.human_based.FBIO.OriginalFBIO:>Problem: P, Epoch: 5, Current best: 0.7591463414634145, Global best: 0.7591463414634145, Runtime: 10.13308 seconds\n",
            "INFO:mealpy.human_based.FBIO.OriginalFBIO:>Problem: P, Epoch: 6, Current best: 0.7591463414634145, Global best: 0.7591463414634145, Runtime: 8.07173 seconds\n",
            "INFO:mealpy.human_based.FBIO.OriginalFBIO:>Problem: P, Epoch: 7, Current best: 0.7591463414634145, Global best: 0.7591463414634145, Runtime: 11.22350 seconds\n",
            "INFO:mealpy.human_based.FBIO.OriginalFBIO:>Problem: P, Epoch: 8, Current best: 0.7652439024390245, Global best: 0.7652439024390245, Runtime: 10.58121 seconds\n",
            "INFO:mealpy.human_based.FBIO.OriginalFBIO:>Problem: P, Epoch: 9, Current best: 0.7652439024390245, Global best: 0.7652439024390245, Runtime: 10.20012 seconds\n",
            "INFO:mealpy.human_based.FBIO.OriginalFBIO:>Problem: P, Epoch: 10, Current best: 0.7652439024390245, Global best: 0.7652439024390245, Runtime: 7.79999 seconds\n"
          ]
        },
        {
          "output_type": "stream",
          "name": "stdout",
          "text": [
            "['LevyES', 'JADE', 'OriginalFPA', 'OriginalFBIO'] [[9, 102, 0.9, 0.7088414634146342, 0.7088414634146342, 3.683679962158203], [11, 100, 0.10379182419578181, 0.7560975609756099, 0.7560975609756099, 2.76029109954834], [9, 1000, 0.011191866902417233, 0.75, 0.75, 6.135713887214661], [8, 105, 0.06788570363665233, 0.7652439024390245, 0.7652439024390245, 11.17553448677063]]\n",
            "started\n"
          ]
        },
        {
          "output_type": "stream",
          "name": "stderr",
          "text": [
            "INFO:mealpy.human_based.QSA.OriginalQSA:Solving single objective optimization problem.\n",
            "INFO:mealpy.human_based.QSA.OriginalQSA:>Problem: P, Epoch: 1, Current best: 0.7530487804878048, Global best: 0.7530487804878048, Runtime: 17.55924 seconds\n",
            "INFO:mealpy.human_based.QSA.OriginalQSA:>Problem: P, Epoch: 2, Current best: 0.7560975609756099, Global best: 0.7560975609756099, Runtime: 26.31818 seconds\n",
            "INFO:mealpy.human_based.QSA.OriginalQSA:>Problem: P, Epoch: 3, Current best: 0.7560975609756099, Global best: 0.7560975609756099, Runtime: 25.53671 seconds\n",
            "INFO:mealpy.human_based.QSA.OriginalQSA:>Problem: P, Epoch: 4, Current best: 0.7560975609756099, Global best: 0.7560975609756099, Runtime: 26.04875 seconds\n",
            "INFO:mealpy.human_based.QSA.OriginalQSA:>Problem: P, Epoch: 5, Current best: 0.7560975609756099, Global best: 0.7560975609756099, Runtime: 38.76448 seconds\n",
            "INFO:mealpy.human_based.QSA.OriginalQSA:>Problem: P, Epoch: 6, Current best: 0.7560975609756099, Global best: 0.7560975609756099, Runtime: 30.17642 seconds\n",
            "INFO:mealpy.human_based.QSA.OriginalQSA:>Problem: P, Epoch: 7, Current best: 0.7560975609756099, Global best: 0.7560975609756099, Runtime: 32.01118 seconds\n",
            "INFO:mealpy.human_based.QSA.OriginalQSA:>Problem: P, Epoch: 8, Current best: 0.7576219512195121, Global best: 0.7576219512195121, Runtime: 32.53543 seconds\n",
            "INFO:mealpy.human_based.QSA.OriginalQSA:>Problem: P, Epoch: 9, Current best: 0.7576219512195121, Global best: 0.7576219512195121, Runtime: 28.93101 seconds\n",
            "INFO:mealpy.human_based.QSA.OriginalQSA:>Problem: P, Epoch: 10, Current best: 0.7576219512195121, Global best: 0.7576219512195121, Runtime: 28.30508 seconds\n",
            "INFO:mealpy.human_based.QSA.ImprovedQSA:Solving single objective optimization problem.\n"
          ]
        },
        {
          "output_type": "stream",
          "name": "stdout",
          "text": [
            "['LevyES', 'JADE', 'OriginalFPA', 'OriginalFBIO', 'OriginalQSA'] [[9, 102, 0.9, 0.7088414634146342, 0.7088414634146342, 3.683679962158203], [11, 100, 0.10379182419578181, 0.7560975609756099, 0.7560975609756099, 2.76029109954834], [9, 1000, 0.011191866902417233, 0.75, 0.75, 6.135713887214661], [8, 105, 0.06788570363665233, 0.7652439024390245, 0.7652439024390245, 11.17553448677063], [10, 1000, 0.016051223033985762, 0.7576219512195121, 0.7576219512195121, 29.175256085395812]]\n",
            "started\n"
          ]
        },
        {
          "output_type": "stream",
          "name": "stderr",
          "text": [
            "INFO:mealpy.human_based.QSA.ImprovedQSA:>Problem: P, Epoch: 1, Current best: 0.7560975609756099, Global best: 0.7560975609756099, Runtime: 20.97763 seconds\n",
            "INFO:mealpy.human_based.QSA.ImprovedQSA:>Problem: P, Epoch: 2, Current best: 0.7560975609756099, Global best: 0.7560975609756099, Runtime: 20.25818 seconds\n",
            "INFO:mealpy.human_based.QSA.ImprovedQSA:>Problem: P, Epoch: 3, Current best: 0.7560975609756099, Global best: 0.7560975609756099, Runtime: 19.45503 seconds\n",
            "INFO:mealpy.human_based.QSA.ImprovedQSA:>Problem: P, Epoch: 4, Current best: 0.7576219512195121, Global best: 0.7576219512195121, Runtime: 15.13420 seconds\n",
            "INFO:mealpy.human_based.QSA.ImprovedQSA:>Problem: P, Epoch: 5, Current best: 0.7576219512195121, Global best: 0.7576219512195121, Runtime: 13.70653 seconds\n",
            "INFO:mealpy.human_based.QSA.ImprovedQSA:>Problem: P, Epoch: 6, Current best: 0.7576219512195121, Global best: 0.7576219512195121, Runtime: 12.70509 seconds\n",
            "INFO:mealpy.human_based.QSA.ImprovedQSA:>Problem: P, Epoch: 7, Current best: 0.7576219512195121, Global best: 0.7576219512195121, Runtime: 12.46421 seconds\n",
            "INFO:mealpy.human_based.QSA.ImprovedQSA:>Problem: P, Epoch: 8, Current best: 0.7576219512195121, Global best: 0.7576219512195121, Runtime: 12.99230 seconds\n",
            "INFO:mealpy.human_based.QSA.ImprovedQSA:>Problem: P, Epoch: 9, Current best: 0.7576219512195121, Global best: 0.7576219512195121, Runtime: 13.15470 seconds\n",
            "INFO:mealpy.human_based.QSA.ImprovedQSA:>Problem: P, Epoch: 10, Current best: 0.760670731707317, Global best: 0.760670731707317, Runtime: 13.07351 seconds\n"
          ]
        },
        {
          "output_type": "stream",
          "name": "stdout",
          "text": [
            "['LevyES', 'JADE', 'OriginalFPA', 'OriginalFBIO', 'OriginalQSA', 'ImprovedQSA'] [[9, 102, 0.9, 0.7088414634146342, 0.7088414634146342, 3.683679962158203], [11, 100, 0.10379182419578181, 0.7560975609756099, 0.7560975609756099, 2.76029109954834], [9, 1000, 0.011191866902417233, 0.75, 0.75, 6.135713887214661], [8, 105, 0.06788570363665233, 0.7652439024390245, 0.7652439024390245, 11.17553448677063], [10, 1000, 0.016051223033985762, 0.7576219512195121, 0.7576219512195121, 29.175256085395812], [8, 100, 0.18835955621218572, 0.760670731707317, 0.760670731707317, 15.659284162521363]]\n",
            "started\n",
            "went wrong\n",
            "started\n"
          ]
        },
        {
          "output_type": "stream",
          "name": "stderr",
          "text": [
            "INFO:mealpy.human_based.TLO.OriginalTLO:Solving single objective optimization problem.\n",
            "INFO:mealpy.human_based.TLO.OriginalTLO:>Problem: P, Epoch: 1, Current best: 0.7408536585365852, Global best: 0.7408536585365852, Runtime: 4.25236 seconds\n",
            "INFO:mealpy.human_based.TLO.OriginalTLO:>Problem: P, Epoch: 2, Current best: 0.75, Global best: 0.75, Runtime: 8.85333 seconds\n",
            "INFO:mealpy.human_based.TLO.OriginalTLO:>Problem: P, Epoch: 3, Current best: 0.7545731707317073, Global best: 0.7545731707317073, Runtime: 5.23286 seconds\n",
            "INFO:mealpy.human_based.TLO.OriginalTLO:>Problem: P, Epoch: 4, Current best: 0.7545731707317073, Global best: 0.7545731707317073, Runtime: 7.70217 seconds\n",
            "INFO:mealpy.human_based.TLO.OriginalTLO:>Problem: P, Epoch: 5, Current best: 0.7545731707317073, Global best: 0.7545731707317073, Runtime: 4.31404 seconds\n",
            "INFO:mealpy.human_based.TLO.OriginalTLO:>Problem: P, Epoch: 6, Current best: 0.7545731707317073, Global best: 0.7545731707317073, Runtime: 6.77642 seconds\n",
            "INFO:mealpy.human_based.TLO.OriginalTLO:>Problem: P, Epoch: 7, Current best: 0.7545731707317073, Global best: 0.7545731707317073, Runtime: 3.64898 seconds\n",
            "INFO:mealpy.human_based.TLO.OriginalTLO:>Problem: P, Epoch: 8, Current best: 0.7545731707317073, Global best: 0.7545731707317073, Runtime: 3.69792 seconds\n",
            "INFO:mealpy.human_based.TLO.OriginalTLO:>Problem: P, Epoch: 9, Current best: 0.7545731707317073, Global best: 0.7545731707317073, Runtime: 6.62804 seconds\n",
            "INFO:mealpy.human_based.TLO.OriginalTLO:>Problem: P, Epoch: 10, Current best: 0.7545731707317073, Global best: 0.7545731707317073, Runtime: 3.70272 seconds\n"
          ]
        },
        {
          "output_type": "stream",
          "name": "stdout",
          "text": [
            "['LevyES', 'JADE', 'OriginalFPA', 'OriginalFBIO', 'OriginalQSA', 'ImprovedQSA', 'OriginalTLO'] [[9, 102, 0.9, 0.7088414634146342, 0.7088414634146342, 3.683679962158203], [11, 100, 0.10379182419578181, 0.7560975609756099, 0.7560975609756099, 2.76029109954834], [9, 1000, 0.011191866902417233, 0.75, 0.75, 6.135713887214661], [8, 105, 0.06788570363665233, 0.7652439024390245, 0.7652439024390245, 11.17553448677063], [10, 1000, 0.016051223033985762, 0.7576219512195121, 0.7576219512195121, 29.175256085395812], [8, 100, 0.18835955621218572, 0.760670731707317, 0.760670731707317, 15.659284162521363], [8, 100, 0.085784144603691, 0.7545731707317073, 0.7545731707317073, 5.743708515167237]]\n",
            "started\n"
          ]
        },
        {
          "output_type": "stream",
          "name": "stderr",
          "text": [
            "INFO:mealpy.math_based.AOA.OriginalAOA:Solving single objective optimization problem.\n",
            "INFO:mealpy.math_based.AOA.OriginalAOA:>Problem: P, Epoch: 1, Current best: 0.75, Global best: 0.75, Runtime: 7.93351 seconds\n",
            "INFO:mealpy.math_based.AOA.OriginalAOA:>Problem: P, Epoch: 2, Current best: 0.7530487804878048, Global best: 0.7530487804878048, Runtime: 11.70375 seconds\n",
            "INFO:mealpy.math_based.AOA.OriginalAOA:>Problem: P, Epoch: 3, Current best: 0.7530487804878048, Global best: 0.7530487804878048, Runtime: 9.90179 seconds\n",
            "INFO:mealpy.math_based.AOA.OriginalAOA:>Problem: P, Epoch: 4, Current best: 0.7530487804878048, Global best: 0.7530487804878048, Runtime: 10.24668 seconds\n",
            "INFO:mealpy.math_based.AOA.OriginalAOA:>Problem: P, Epoch: 5, Current best: 0.7530487804878048, Global best: 0.7530487804878048, Runtime: 12.26461 seconds\n",
            "INFO:mealpy.math_based.AOA.OriginalAOA:>Problem: P, Epoch: 6, Current best: 0.7530487804878048, Global best: 0.7530487804878048, Runtime: 11.12959 seconds\n",
            "INFO:mealpy.math_based.AOA.OriginalAOA:>Problem: P, Epoch: 7, Current best: 0.7530487804878048, Global best: 0.7530487804878048, Runtime: 11.64067 seconds\n",
            "INFO:mealpy.math_based.AOA.OriginalAOA:>Problem: P, Epoch: 8, Current best: 0.7530487804878048, Global best: 0.7530487804878048, Runtime: 11.72790 seconds\n",
            "INFO:mealpy.math_based.AOA.OriginalAOA:>Problem: P, Epoch: 9, Current best: 0.7530487804878048, Global best: 0.7530487804878048, Runtime: 8.91111 seconds\n",
            "INFO:mealpy.math_based.AOA.OriginalAOA:>Problem: P, Epoch: 10, Current best: 0.7530487804878048, Global best: 0.7530487804878048, Runtime: 12.79436 seconds\n"
          ]
        },
        {
          "output_type": "stream",
          "name": "stdout",
          "text": [
            "['LevyES', 'JADE', 'OriginalFPA', 'OriginalFBIO', 'OriginalQSA', 'ImprovedQSA', 'OriginalTLO', 'OriginalAOA'] [[9, 102, 0.9, 0.7088414634146342, 0.7088414634146342, 3.683679962158203], [11, 100, 0.10379182419578181, 0.7560975609756099, 0.7560975609756099, 2.76029109954834], [9, 1000, 0.011191866902417233, 0.75, 0.75, 6.135713887214661], [8, 105, 0.06788570363665233, 0.7652439024390245, 0.7652439024390245, 11.17553448677063], [10, 1000, 0.016051223033985762, 0.7576219512195121, 0.7576219512195121, 29.175256085395812], [8, 100, 0.18835955621218572, 0.760670731707317, 0.760670731707317, 15.659284162521363], [8, 100, 0.085784144603691, 0.7545731707317073, 0.7545731707317073, 5.743708515167237], [12, 966, 0.01, 0.7530487804878048, 0.7530487804878048, 11.049904227256775]]\n",
            "started\n"
          ]
        },
        {
          "output_type": "stream",
          "name": "stderr",
          "text": [
            "INFO:mealpy.math_based.CGO.OriginalCGO:Solving single objective optimization problem.\n",
            "INFO:mealpy.math_based.CGO.OriginalCGO:>Problem: P, Epoch: 1, Current best: 0.746951219512195, Global best: 0.746951219512195, Runtime: 15.26428 seconds\n",
            "INFO:mealpy.math_based.CGO.OriginalCGO:>Problem: P, Epoch: 2, Current best: 0.7484756097560976, Global best: 0.7484756097560976, Runtime: 19.16625 seconds\n",
            "INFO:mealpy.math_based.CGO.OriginalCGO:>Problem: P, Epoch: 3, Current best: 0.7515243902439024, Global best: 0.7515243902439024, Runtime: 22.71378 seconds\n",
            "INFO:mealpy.math_based.CGO.OriginalCGO:>Problem: P, Epoch: 4, Current best: 0.7530487804878048, Global best: 0.7530487804878048, Runtime: 27.29147 seconds\n",
            "INFO:mealpy.math_based.CGO.OriginalCGO:>Problem: P, Epoch: 5, Current best: 0.7530487804878048, Global best: 0.7530487804878048, Runtime: 29.91399 seconds\n",
            "INFO:mealpy.math_based.CGO.OriginalCGO:>Problem: P, Epoch: 6, Current best: 0.7560975609756099, Global best: 0.7560975609756099, Runtime: 51.63362 seconds\n",
            "INFO:mealpy.math_based.CGO.OriginalCGO:>Problem: P, Epoch: 7, Current best: 0.7560975609756099, Global best: 0.7560975609756099, Runtime: 27.95169 seconds\n",
            "INFO:mealpy.math_based.CGO.OriginalCGO:>Problem: P, Epoch: 8, Current best: 0.7560975609756099, Global best: 0.7560975609756099, Runtime: 29.12404 seconds\n",
            "INFO:mealpy.math_based.CGO.OriginalCGO:>Problem: P, Epoch: 9, Current best: 0.7560975609756099, Global best: 0.7560975609756099, Runtime: 33.04153 seconds\n",
            "INFO:mealpy.math_based.CGO.OriginalCGO:>Problem: P, Epoch: 10, Current best: 0.7560975609756099, Global best: 0.7560975609756099, Runtime: 29.17974 seconds\n"
          ]
        },
        {
          "output_type": "stream",
          "name": "stdout",
          "text": [
            "['LevyES', 'JADE', 'OriginalFPA', 'OriginalFBIO', 'OriginalQSA', 'ImprovedQSA', 'OriginalTLO', 'OriginalAOA', 'OriginalCGO'] [[9, 102, 0.9, 0.7088414634146342, 0.7088414634146342, 3.683679962158203], [11, 100, 0.10379182419578181, 0.7560975609756099, 0.7560975609756099, 2.76029109954834], [9, 1000, 0.011191866902417233, 0.75, 0.75, 6.135713887214661], [8, 105, 0.06788570363665233, 0.7652439024390245, 0.7652439024390245, 11.17553448677063], [10, 1000, 0.016051223033985762, 0.7576219512195121, 0.7576219512195121, 29.175256085395812], [8, 100, 0.18835955621218572, 0.760670731707317, 0.760670731707317, 15.659284162521363], [8, 100, 0.085784144603691, 0.7545731707317073, 0.7545731707317073, 5.743708515167237], [12, 966, 0.01, 0.7530487804878048, 0.7530487804878048, 11.049904227256775], [12, 749, 0.020154216677948894, 0.7560975609756099, 0.7560975609756099, 29.137100100517273]]\n",
            "started\n"
          ]
        },
        {
          "output_type": "stream",
          "name": "stderr",
          "text": [
            "INFO:mealpy.math_based.GBO.OriginalGBO:Solving single objective optimization problem.\n",
            "INFO:mealpy.math_based.GBO.OriginalGBO:>Problem: P, Epoch: 1, Current best: 0.7530487804878048, Global best: 0.7530487804878048, Runtime: 7.13696 seconds\n",
            "INFO:mealpy.math_based.GBO.OriginalGBO:>Problem: P, Epoch: 2, Current best: 0.7530487804878048, Global best: 0.7530487804878048, Runtime: 4.83680 seconds\n",
            "INFO:mealpy.math_based.GBO.OriginalGBO:>Problem: P, Epoch: 3, Current best: 0.7545731707317073, Global best: 0.7545731707317073, Runtime: 3.45639 seconds\n",
            "INFO:mealpy.math_based.GBO.OriginalGBO:>Problem: P, Epoch: 4, Current best: 0.7545731707317073, Global best: 0.7545731707317073, Runtime: 6.03077 seconds\n",
            "INFO:mealpy.math_based.GBO.OriginalGBO:>Problem: P, Epoch: 5, Current best: 0.7545731707317073, Global best: 0.7545731707317073, Runtime: 1.57769 seconds\n",
            "INFO:mealpy.math_based.GBO.OriginalGBO:>Problem: P, Epoch: 6, Current best: 0.7545731707317073, Global best: 0.7545731707317073, Runtime: 5.48139 seconds\n",
            "INFO:mealpy.math_based.GBO.OriginalGBO:>Problem: P, Epoch: 7, Current best: 0.7545731707317073, Global best: 0.7545731707317073, Runtime: 7.06536 seconds\n",
            "INFO:mealpy.math_based.GBO.OriginalGBO:>Problem: P, Epoch: 8, Current best: 0.7621951219512195, Global best: 0.7621951219512195, Runtime: 2.56734 seconds\n",
            "INFO:mealpy.math_based.GBO.OriginalGBO:>Problem: P, Epoch: 9, Current best: 0.7621951219512195, Global best: 0.7621951219512195, Runtime: 3.66372 seconds\n",
            "INFO:mealpy.math_based.GBO.OriginalGBO:>Problem: P, Epoch: 10, Current best: 0.7621951219512195, Global best: 0.7621951219512195, Runtime: 7.76801 seconds\n"
          ]
        },
        {
          "output_type": "stream",
          "name": "stdout",
          "text": [
            "['LevyES', 'JADE', 'OriginalFPA', 'OriginalFBIO', 'OriginalQSA', 'ImprovedQSA', 'OriginalTLO', 'OriginalAOA', 'OriginalCGO', 'OriginalGBO'] [[9, 102, 0.9, 0.7088414634146342, 0.7088414634146342, 3.683679962158203], [11, 100, 0.10379182419578181, 0.7560975609756099, 0.7560975609756099, 2.76029109954834], [9, 1000, 0.011191866902417233, 0.75, 0.75, 6.135713887214661], [8, 105, 0.06788570363665233, 0.7652439024390245, 0.7652439024390245, 11.17553448677063], [10, 1000, 0.016051223033985762, 0.7576219512195121, 0.7576219512195121, 29.175256085395812], [8, 100, 0.18835955621218572, 0.760670731707317, 0.760670731707317, 15.659284162521363], [8, 100, 0.085784144603691, 0.7545731707317073, 0.7545731707317073, 5.743708515167237], [12, 966, 0.01, 0.7530487804878048, 0.7530487804878048, 11.049904227256775], [12, 749, 0.020154216677948894, 0.7560975609756099, 0.7560975609756099, 29.137100100517273], [9, 100, 0.056891606830706105, 0.7621951219512195, 0.7621951219512195, 5.287493014335633]]\n",
            "started\n"
          ]
        },
        {
          "output_type": "stream",
          "name": "stderr",
          "text": [
            "INFO:mealpy.math_based.PSS.OriginalPSS:Solving single objective optimization problem.\n",
            "INFO:mealpy.math_based.PSS.OriginalPSS:>Problem: P, Epoch: 1, Current best: 0.739329268292683, Global best: 0.7454268292682927, Runtime: 2.09553 seconds\n",
            "INFO:mealpy.math_based.PSS.OriginalPSS:>Problem: P, Epoch: 2, Current best: 0.7378048780487805, Global best: 0.7454268292682927, Runtime: 5.46025 seconds\n",
            "INFO:mealpy.math_based.PSS.OriginalPSS:>Problem: P, Epoch: 3, Current best: 0.7301829268292683, Global best: 0.7454268292682927, Runtime: 2.41965 seconds\n",
            "INFO:mealpy.math_based.PSS.OriginalPSS:>Problem: P, Epoch: 4, Current best: 0.7332317073170732, Global best: 0.7454268292682927, Runtime: 2.11921 seconds\n",
            "INFO:mealpy.math_based.PSS.OriginalPSS:>Problem: P, Epoch: 5, Current best: 0.7317073170731707, Global best: 0.7454268292682927, Runtime: 2.30090 seconds\n",
            "INFO:mealpy.math_based.PSS.OriginalPSS:>Problem: P, Epoch: 6, Current best: 0.7439024390243903, Global best: 0.7454268292682927, Runtime: 6.43221 seconds\n",
            "INFO:mealpy.math_based.PSS.OriginalPSS:>Problem: P, Epoch: 7, Current best: 0.7362804878048782, Global best: 0.7454268292682927, Runtime: 1.99339 seconds\n",
            "INFO:mealpy.math_based.PSS.OriginalPSS:>Problem: P, Epoch: 8, Current best: 0.739329268292683, Global best: 0.7454268292682927, Runtime: 1.99471 seconds\n",
            "INFO:mealpy.math_based.PSS.OriginalPSS:>Problem: P, Epoch: 9, Current best: 0.7347560975609757, Global best: 0.7454268292682927, Runtime: 2.17865 seconds\n",
            "INFO:mealpy.math_based.PSS.OriginalPSS:>Problem: P, Epoch: 10, Current best: 0.7286585365853658, Global best: 0.7454268292682927, Runtime: 2.12712 seconds\n",
            "INFO:mealpy.math_based.SCA.OriginalSCA:Solving single objective optimization problem.\n"
          ]
        },
        {
          "output_type": "stream",
          "name": "stdout",
          "text": [
            "['LevyES', 'JADE', 'OriginalFPA', 'OriginalFBIO', 'OriginalQSA', 'ImprovedQSA', 'OriginalTLO', 'OriginalAOA', 'OriginalCGO', 'OriginalGBO', 'OriginalPSS'] [[9, 102, 0.9, 0.7088414634146342, 0.7088414634146342, 3.683679962158203], [11, 100, 0.10379182419578181, 0.7560975609756099, 0.7560975609756099, 2.76029109954834], [9, 1000, 0.011191866902417233, 0.75, 0.75, 6.135713887214661], [8, 105, 0.06788570363665233, 0.7652439024390245, 0.7652439024390245, 11.17553448677063], [10, 1000, 0.016051223033985762, 0.7576219512195121, 0.7576219512195121, 29.175256085395812], [8, 100, 0.18835955621218572, 0.760670731707317, 0.760670731707317, 15.659284162521363], [8, 100, 0.085784144603691, 0.7545731707317073, 0.7545731707317073, 5.743708515167237], [12, 966, 0.01, 0.7530487804878048, 0.7530487804878048, 11.049904227256775], [12, 749, 0.020154216677948894, 0.7560975609756099, 0.7560975609756099, 29.137100100517273], [9, 100, 0.056891606830706105, 0.7621951219512195, 0.7621951219512195, 5.287493014335633], [10, 947, 0.646075343, 0.7286585365853658, 0.7286585365853658, 3.2021466970443724]]\n",
            "started\n"
          ]
        },
        {
          "output_type": "stream",
          "name": "stderr",
          "text": [
            "INFO:mealpy.math_based.SCA.OriginalSCA:>Problem: P, Epoch: 1, Current best: 0.7530487804878048, Global best: 0.7530487804878048, Runtime: 3.91936 seconds\n",
            "INFO:mealpy.math_based.SCA.OriginalSCA:>Problem: P, Epoch: 2, Current best: 0.7530487804878048, Global best: 0.7530487804878048, Runtime: 8.99652 seconds\n",
            "INFO:mealpy.math_based.SCA.OriginalSCA:>Problem: P, Epoch: 3, Current best: 0.7545731707317073, Global best: 0.7545731707317073, Runtime: 5.83182 seconds\n",
            "INFO:mealpy.math_based.SCA.OriginalSCA:>Problem: P, Epoch: 4, Current best: 0.7545731707317073, Global best: 0.7545731707317073, Runtime: 8.92429 seconds\n",
            "INFO:mealpy.math_based.SCA.OriginalSCA:>Problem: P, Epoch: 5, Current best: 0.7545731707317073, Global best: 0.7545731707317073, Runtime: 3.77046 seconds\n",
            "INFO:mealpy.math_based.SCA.OriginalSCA:>Problem: P, Epoch: 6, Current best: 0.7545731707317073, Global best: 0.7545731707317073, Runtime: 8.79473 seconds\n",
            "INFO:mealpy.math_based.SCA.OriginalSCA:>Problem: P, Epoch: 7, Current best: 0.7545731707317073, Global best: 0.7545731707317073, Runtime: 5.77389 seconds\n",
            "INFO:mealpy.math_based.SCA.OriginalSCA:>Problem: P, Epoch: 8, Current best: 0.7545731707317073, Global best: 0.7545731707317073, Runtime: 10.37725 seconds\n",
            "INFO:mealpy.math_based.SCA.OriginalSCA:>Problem: P, Epoch: 9, Current best: 0.7545731707317073, Global best: 0.7545731707317073, Runtime: 9.34960 seconds\n",
            "INFO:mealpy.math_based.SCA.OriginalSCA:>Problem: P, Epoch: 10, Current best: 0.7545731707317073, Global best: 0.7545731707317073, Runtime: 6.22140 seconds\n"
          ]
        },
        {
          "output_type": "stream",
          "name": "stdout",
          "text": [
            "['LevyES', 'JADE', 'OriginalFPA', 'OriginalFBIO', 'OriginalQSA', 'ImprovedQSA', 'OriginalTLO', 'OriginalAOA', 'OriginalCGO', 'OriginalGBO', 'OriginalPSS', 'OriginalSCA'] [[9, 102, 0.9, 0.7088414634146342, 0.7088414634146342, 3.683679962158203], [11, 100, 0.10379182419578181, 0.7560975609756099, 0.7560975609756099, 2.76029109954834], [9, 1000, 0.011191866902417233, 0.75, 0.75, 6.135713887214661], [8, 105, 0.06788570363665233, 0.7652439024390245, 0.7652439024390245, 11.17553448677063], [10, 1000, 0.016051223033985762, 0.7576219512195121, 0.7576219512195121, 29.175256085395812], [8, 100, 0.18835955621218572, 0.760670731707317, 0.760670731707317, 15.659284162521363], [8, 100, 0.085784144603691, 0.7545731707317073, 0.7545731707317073, 5.743708515167237], [12, 966, 0.01, 0.7530487804878048, 0.7530487804878048, 11.049904227256775], [12, 749, 0.020154216677948894, 0.7560975609756099, 0.7560975609756099, 29.137100100517273], [9, 100, 0.056891606830706105, 0.7621951219512195, 0.7621951219512195, 5.287493014335633], [10, 947, 0.646075343, 0.7286585365853658, 0.7286585365853658, 3.2021466970443724], [10, 912, 0.015876347690752298, 0.7545731707317073, 0.7545731707317073, 7.785303521156311]]\n",
            "started\n"
          ]
        },
        {
          "output_type": "stream",
          "name": "stderr",
          "text": [
            "INFO:mealpy.physics_based.ArchOA.OriginalArchOA:Solving single objective optimization problem.\n",
            "INFO:mealpy.physics_based.ArchOA.OriginalArchOA:>Problem: P, Epoch: 1, Current best: 0.7362804878048782, Global best: 0.7362804878048782, Runtime: 5.56810 seconds\n",
            "INFO:mealpy.physics_based.ArchOA.OriginalArchOA:>Problem: P, Epoch: 2, Current best: 0.7454268292682927, Global best: 0.7454268292682927, Runtime: 2.45341 seconds\n",
            "INFO:mealpy.physics_based.ArchOA.OriginalArchOA:>Problem: P, Epoch: 3, Current best: 0.7454268292682927, Global best: 0.7454268292682927, Runtime: 2.53632 seconds\n",
            "INFO:mealpy.physics_based.ArchOA.OriginalArchOA:>Problem: P, Epoch: 4, Current best: 0.7454268292682927, Global best: 0.7454268292682927, Runtime: 3.22322 seconds\n",
            "INFO:mealpy.physics_based.ArchOA.OriginalArchOA:>Problem: P, Epoch: 5, Current best: 0.7454268292682927, Global best: 0.7454268292682927, Runtime: 6.84272 seconds\n",
            "INFO:mealpy.physics_based.ArchOA.OriginalArchOA:>Problem: P, Epoch: 6, Current best: 0.7454268292682927, Global best: 0.7454268292682927, Runtime: 4.31058 seconds\n",
            "INFO:mealpy.physics_based.ArchOA.OriginalArchOA:>Problem: P, Epoch: 7, Current best: 0.7454268292682927, Global best: 0.7454268292682927, Runtime: 6.39126 seconds\n",
            "INFO:mealpy.physics_based.ArchOA.OriginalArchOA:>Problem: P, Epoch: 8, Current best: 0.7454268292682927, Global best: 0.7454268292682927, Runtime: 3.26880 seconds\n",
            "INFO:mealpy.physics_based.ArchOA.OriginalArchOA:>Problem: P, Epoch: 9, Current best: 0.7454268292682927, Global best: 0.7454268292682927, Runtime: 3.43981 seconds\n",
            "INFO:mealpy.physics_based.ArchOA.OriginalArchOA:>Problem: P, Epoch: 10, Current best: 0.7454268292682927, Global best: 0.7454268292682927, Runtime: 1.98029 seconds\n",
            "INFO:mealpy.physics_based.TWO.EnhancedTWO:Solving single objective optimization problem.\n"
          ]
        },
        {
          "output_type": "stream",
          "name": "stdout",
          "text": [
            "['LevyES', 'JADE', 'OriginalFPA', 'OriginalFBIO', 'OriginalQSA', 'ImprovedQSA', 'OriginalTLO', 'OriginalAOA', 'OriginalCGO', 'OriginalGBO', 'OriginalPSS', 'OriginalSCA', 'OriginalArchOA'] [[9, 102, 0.9, 0.7088414634146342, 0.7088414634146342, 3.683679962158203], [11, 100, 0.10379182419578181, 0.7560975609756099, 0.7560975609756099, 2.76029109954834], [9, 1000, 0.011191866902417233, 0.75, 0.75, 6.135713887214661], [8, 105, 0.06788570363665233, 0.7652439024390245, 0.7652439024390245, 11.17553448677063], [10, 1000, 0.016051223033985762, 0.7576219512195121, 0.7576219512195121, 29.175256085395812], [8, 100, 0.18835955621218572, 0.760670731707317, 0.760670731707317, 15.659284162521363], [8, 100, 0.085784144603691, 0.7545731707317073, 0.7545731707317073, 5.743708515167237], [12, 966, 0.01, 0.7530487804878048, 0.7530487804878048, 11.049904227256775], [12, 749, 0.020154216677948894, 0.7560975609756099, 0.7560975609756099, 29.137100100517273], [9, 100, 0.056891606830706105, 0.7621951219512195, 0.7621951219512195, 5.287493014335633], [10, 947, 0.646075343, 0.7286585365853658, 0.7286585365853658, 3.2021466970443724], [10, 912, 0.015876347690752298, 0.7545731707317073, 0.7545731707317073, 7.785303521156311], [10, 617, 0.9, 0.7454268292682927, 0.7454268292682927, 4.30113046169281]]\n",
            "started\n"
          ]
        },
        {
          "output_type": "stream",
          "name": "stderr",
          "text": [
            "INFO:mealpy.physics_based.TWO.EnhancedTWO:>Problem: P, Epoch: 1, Current best: 0.7530487804878048, Global best: 0.7530487804878048, Runtime: 15.96815 seconds\n",
            "INFO:mealpy.physics_based.TWO.EnhancedTWO:>Problem: P, Epoch: 2, Current best: 0.7530487804878048, Global best: 0.7530487804878048, Runtime: 31.00811 seconds\n",
            "INFO:mealpy.physics_based.TWO.EnhancedTWO:>Problem: P, Epoch: 3, Current best: 0.7530487804878048, Global best: 0.7530487804878048, Runtime: 36.96613 seconds\n",
            "INFO:mealpy.physics_based.TWO.EnhancedTWO:>Problem: P, Epoch: 4, Current best: 0.7530487804878048, Global best: 0.7530487804878048, Runtime: 37.44938 seconds\n",
            "INFO:mealpy.physics_based.TWO.EnhancedTWO:>Problem: P, Epoch: 5, Current best: 0.7530487804878048, Global best: 0.7530487804878048, Runtime: 38.19677 seconds\n",
            "INFO:mealpy.physics_based.TWO.EnhancedTWO:>Problem: P, Epoch: 6, Current best: 0.7530487804878048, Global best: 0.7530487804878048, Runtime: 34.46206 seconds\n",
            "INFO:mealpy.physics_based.TWO.EnhancedTWO:>Problem: P, Epoch: 7, Current best: 0.7530487804878048, Global best: 0.7530487804878048, Runtime: 38.81806 seconds\n",
            "/usr/local/lib/python3.10/dist-packages/mealpy/physics_based/TWO.py:91: RuntimeWarning: divide by zero encountered in true_divide\n",
            "  list_weights = np.exp(-(list_fits - maxx) / (maxx - minn))\n",
            "/usr/local/lib/python3.10/dist-packages/mealpy/physics_based/TWO.py:92: RuntimeWarning: invalid value encountered in true_divide\n",
            "  list_weights = list_weights/np.sum(list_weights) + 0.1\n",
            "INFO:mealpy.physics_based.TWO.EnhancedTWO:>Problem: P, Epoch: 8, Current best: 0.7530487804878048, Global best: 0.7530487804878048, Runtime: 38.80914 seconds\n",
            "/usr/local/lib/python3.10/dist-packages/mealpy/physics_based/TWO.py:91: RuntimeWarning: divide by zero encountered in true_divide\n",
            "  list_weights = np.exp(-(list_fits - maxx) / (maxx - minn))\n",
            "/usr/local/lib/python3.10/dist-packages/mealpy/physics_based/TWO.py:92: RuntimeWarning: invalid value encountered in true_divide\n",
            "  list_weights = list_weights/np.sum(list_weights) + 0.1\n",
            "INFO:mealpy.physics_based.TWO.EnhancedTWO:>Problem: P, Epoch: 9, Current best: 0.7530487804878048, Global best: 0.7530487804878048, Runtime: 38.64299 seconds\n",
            "/usr/local/lib/python3.10/dist-packages/mealpy/physics_based/TWO.py:91: RuntimeWarning: divide by zero encountered in true_divide\n",
            "  list_weights = np.exp(-(list_fits - maxx) / (maxx - minn))\n",
            "/usr/local/lib/python3.10/dist-packages/mealpy/physics_based/TWO.py:92: RuntimeWarning: invalid value encountered in true_divide\n",
            "  list_weights = list_weights/np.sum(list_weights) + 0.1\n",
            "INFO:mealpy.physics_based.TWO.EnhancedTWO:>Problem: P, Epoch: 10, Current best: 0.7530487804878048, Global best: 0.7530487804878048, Runtime: 37.44997 seconds\n",
            "INFO:mealpy.system_based.AEO.EnhancedAEO:Solving single objective optimization problem.\n"
          ]
        },
        {
          "output_type": "stream",
          "name": "stdout",
          "text": [
            "['LevyES', 'JADE', 'OriginalFPA', 'OriginalFBIO', 'OriginalQSA', 'ImprovedQSA', 'OriginalTLO', 'OriginalAOA', 'OriginalCGO', 'OriginalGBO', 'OriginalPSS', 'OriginalSCA', 'OriginalArchOA', 'EnhancedTWO'] [[9, 102, 0.9, 0.7088414634146342, 0.7088414634146342, 3.683679962158203], [11, 100, 0.10379182419578181, 0.7560975609756099, 0.7560975609756099, 2.76029109954834], [9, 1000, 0.011191866902417233, 0.75, 0.75, 6.135713887214661], [8, 105, 0.06788570363665233, 0.7652439024390245, 0.7652439024390245, 11.17553448677063], [10, 1000, 0.016051223033985762, 0.7576219512195121, 0.7576219512195121, 29.175256085395812], [8, 100, 0.18835955621218572, 0.760670731707317, 0.760670731707317, 15.659284162521363], [8, 100, 0.085784144603691, 0.7545731707317073, 0.7545731707317073, 5.743708515167237], [12, 966, 0.01, 0.7530487804878048, 0.7530487804878048, 11.049904227256775], [12, 749, 0.020154216677948894, 0.7560975609756099, 0.7560975609756099, 29.137100100517273], [9, 100, 0.056891606830706105, 0.7621951219512195, 0.7621951219512195, 5.287493014335633], [10, 947, 0.646075343, 0.7286585365853658, 0.7286585365853658, 3.2021466970443724], [10, 912, 0.015876347690752298, 0.7545731707317073, 0.7545731707317073, 7.785303521156311], [10, 617, 0.9, 0.7454268292682927, 0.7454268292682927, 4.30113046169281], [10, 998, 0.01, 0.7530487804878048, 0.7530487804878048, 35.57842907905579]]\n",
            "started\n"
          ]
        },
        {
          "output_type": "stream",
          "name": "stderr",
          "text": [
            "INFO:mealpy.system_based.AEO.EnhancedAEO:>Problem: P, Epoch: 1, Current best: 0.746951219512195, Global best: 0.746951219512195, Runtime: 10.93768 seconds\n",
            "INFO:mealpy.system_based.AEO.EnhancedAEO:>Problem: P, Epoch: 2, Current best: 0.7530487804878048, Global best: 0.7530487804878048, Runtime: 11.36229 seconds\n",
            "INFO:mealpy.system_based.AEO.EnhancedAEO:>Problem: P, Epoch: 3, Current best: 0.7530487804878048, Global best: 0.7530487804878048, Runtime: 13.98879 seconds\n",
            "INFO:mealpy.system_based.AEO.EnhancedAEO:>Problem: P, Epoch: 4, Current best: 0.7530487804878048, Global best: 0.7530487804878048, Runtime: 17.02192 seconds\n",
            "INFO:mealpy.system_based.AEO.EnhancedAEO:>Problem: P, Epoch: 5, Current best: 0.7530487804878048, Global best: 0.7530487804878048, Runtime: 17.51216 seconds\n",
            "INFO:mealpy.system_based.AEO.EnhancedAEO:>Problem: P, Epoch: 6, Current best: 0.7530487804878048, Global best: 0.7530487804878048, Runtime: 20.52975 seconds\n",
            "INFO:mealpy.system_based.AEO.EnhancedAEO:>Problem: P, Epoch: 7, Current best: 0.7530487804878048, Global best: 0.7530487804878048, Runtime: 17.53092 seconds\n",
            "INFO:mealpy.system_based.AEO.EnhancedAEO:>Problem: P, Epoch: 8, Current best: 0.7545731707317073, Global best: 0.7545731707317073, Runtime: 20.45862 seconds\n",
            "INFO:mealpy.system_based.AEO.EnhancedAEO:>Problem: P, Epoch: 9, Current best: 0.7545731707317073, Global best: 0.7545731707317073, Runtime: 20.88329 seconds\n",
            "INFO:mealpy.system_based.AEO.EnhancedAEO:>Problem: P, Epoch: 10, Current best: 0.7545731707317073, Global best: 0.7545731707317073, Runtime: 22.99271 seconds\n"
          ]
        },
        {
          "output_type": "stream",
          "name": "stdout",
          "text": [
            "['LevyES', 'JADE', 'OriginalFPA', 'OriginalFBIO', 'OriginalQSA', 'ImprovedQSA', 'OriginalTLO', 'OriginalAOA', 'OriginalCGO', 'OriginalGBO', 'OriginalPSS', 'OriginalSCA', 'OriginalArchOA', 'EnhancedTWO', 'EnhancedAEO'] [[9, 102, 0.9, 0.7088414634146342, 0.7088414634146342, 3.683679962158203], [11, 100, 0.10379182419578181, 0.7560975609756099, 0.7560975609756099, 2.76029109954834], [9, 1000, 0.011191866902417233, 0.75, 0.75, 6.135713887214661], [8, 105, 0.06788570363665233, 0.7652439024390245, 0.7652439024390245, 11.17553448677063], [10, 1000, 0.016051223033985762, 0.7576219512195121, 0.7576219512195121, 29.175256085395812], [8, 100, 0.18835955621218572, 0.760670731707317, 0.760670731707317, 15.659284162521363], [8, 100, 0.085784144603691, 0.7545731707317073, 0.7545731707317073, 5.743708515167237], [12, 966, 0.01, 0.7530487804878048, 0.7530487804878048, 11.049904227256775], [12, 749, 0.020154216677948894, 0.7560975609756099, 0.7560975609756099, 29.137100100517273], [9, 100, 0.056891606830706105, 0.7621951219512195, 0.7621951219512195, 5.287493014335633], [10, 947, 0.646075343, 0.7286585365853658, 0.7286585365853658, 3.2021466970443724], [10, 912, 0.015876347690752298, 0.7545731707317073, 0.7545731707317073, 7.785303521156311], [10, 617, 0.9, 0.7454268292682927, 0.7454268292682927, 4.30113046169281], [10, 998, 0.01, 0.7530487804878048, 0.7530487804878048, 35.57842907905579], [10, 776, 0.01000701406974951, 0.7545731707317073, 0.7545731707317073, 17.617431354522704]]\n",
            "started\n"
          ]
        },
        {
          "output_type": "stream",
          "name": "stderr",
          "text": [
            "INFO:mealpy.system_based.AEO.OriginalAEO:Solving single objective optimization problem.\n",
            "INFO:mealpy.system_based.AEO.OriginalAEO:>Problem: P, Epoch: 1, Current best: 0.7515243902439024, Global best: 0.7515243902439024, Runtime: 12.93590 seconds\n",
            "INFO:mealpy.system_based.AEO.OriginalAEO:>Problem: P, Epoch: 2, Current best: 0.7545731707317073, Global best: 0.7545731707317073, Runtime: 20.00170 seconds\n",
            "INFO:mealpy.system_based.AEO.OriginalAEO:>Problem: P, Epoch: 3, Current best: 0.7545731707317073, Global best: 0.7545731707317073, Runtime: 21.47759 seconds\n",
            "INFO:mealpy.system_based.AEO.OriginalAEO:>Problem: P, Epoch: 4, Current best: 0.7545731707317073, Global best: 0.7545731707317073, Runtime: 23.25723 seconds\n",
            "INFO:mealpy.system_based.AEO.OriginalAEO:>Problem: P, Epoch: 5, Current best: 0.7545731707317073, Global best: 0.7545731707317073, Runtime: 21.56331 seconds\n",
            "INFO:mealpy.system_based.AEO.OriginalAEO:>Problem: P, Epoch: 6, Current best: 0.7545731707317073, Global best: 0.7545731707317073, Runtime: 21.40312 seconds\n",
            "INFO:mealpy.system_based.AEO.OriginalAEO:>Problem: P, Epoch: 7, Current best: 0.7545731707317073, Global best: 0.7545731707317073, Runtime: 23.84180 seconds\n",
            "INFO:mealpy.system_based.AEO.OriginalAEO:>Problem: P, Epoch: 8, Current best: 0.7545731707317073, Global best: 0.7545731707317073, Runtime: 22.49032 seconds\n",
            "INFO:mealpy.system_based.AEO.OriginalAEO:>Problem: P, Epoch: 9, Current best: 0.7545731707317073, Global best: 0.7545731707317073, Runtime: 21.39548 seconds\n",
            "INFO:mealpy.system_based.AEO.OriginalAEO:>Problem: P, Epoch: 10, Current best: 0.7545731707317073, Global best: 0.7545731707317073, Runtime: 23.99760 seconds\n"
          ]
        },
        {
          "output_type": "stream",
          "name": "stdout",
          "text": [
            "['LevyES', 'JADE', 'OriginalFPA', 'OriginalFBIO', 'OriginalQSA', 'ImprovedQSA', 'OriginalTLO', 'OriginalAOA', 'OriginalCGO', 'OriginalGBO', 'OriginalPSS', 'OriginalSCA', 'OriginalArchOA', 'EnhancedTWO', 'EnhancedAEO', 'OriginalAEO'] [[9, 102, 0.9, 0.7088414634146342, 0.7088414634146342, 3.683679962158203], [11, 100, 0.10379182419578181, 0.7560975609756099, 0.7560975609756099, 2.76029109954834], [9, 1000, 0.011191866902417233, 0.75, 0.75, 6.135713887214661], [8, 105, 0.06788570363665233, 0.7652439024390245, 0.7652439024390245, 11.17553448677063], [10, 1000, 0.016051223033985762, 0.7576219512195121, 0.7576219512195121, 29.175256085395812], [8, 100, 0.18835955621218572, 0.760670731707317, 0.760670731707317, 15.659284162521363], [8, 100, 0.085784144603691, 0.7545731707317073, 0.7545731707317073, 5.743708515167237], [12, 966, 0.01, 0.7530487804878048, 0.7530487804878048, 11.049904227256775], [12, 749, 0.020154216677948894, 0.7560975609756099, 0.7560975609756099, 29.137100100517273], [9, 100, 0.056891606830706105, 0.7621951219512195, 0.7621951219512195, 5.287493014335633], [10, 947, 0.646075343, 0.7286585365853658, 0.7286585365853658, 3.2021466970443724], [10, 912, 0.015876347690752298, 0.7545731707317073, 0.7545731707317073, 7.785303521156311], [10, 617, 0.9, 0.7454268292682927, 0.7454268292682927, 4.30113046169281], [10, 998, 0.01, 0.7530487804878048, 0.7530487804878048, 35.57842907905579], [10, 776, 0.01000701406974951, 0.7545731707317073, 0.7545731707317073, 17.617431354522704], [12, 937, 0.01, 0.7545731707317073, 0.7545731707317073, 21.534763360023497]]\n",
            "started\n"
          ]
        },
        {
          "output_type": "stream",
          "name": "stderr",
          "text": [
            "INFO:mealpy.physics_based.TWO.LevyTWO:Solving single objective optimization problem.\n",
            "INFO:mealpy.physics_based.TWO.LevyTWO:>Problem: P, Epoch: 1, Current best: 0.7378048780487805, Global best: 0.7378048780487805, Runtime: 6.43223 seconds\n",
            "INFO:mealpy.physics_based.TWO.LevyTWO:>Problem: P, Epoch: 2, Current best: 0.7378048780487805, Global best: 0.7378048780487805, Runtime: 3.49487 seconds\n",
            "INFO:mealpy.physics_based.TWO.LevyTWO:>Problem: P, Epoch: 3, Current best: 0.7530487804878048, Global best: 0.7530487804878048, Runtime: 4.06571 seconds\n",
            "INFO:mealpy.physics_based.TWO.LevyTWO:>Problem: P, Epoch: 4, Current best: 0.7530487804878048, Global best: 0.7530487804878048, Runtime: 6.76563 seconds\n",
            "INFO:mealpy.physics_based.TWO.LevyTWO:>Problem: P, Epoch: 5, Current best: 0.7530487804878048, Global best: 0.7530487804878048, Runtime: 4.75407 seconds\n",
            "INFO:mealpy.physics_based.TWO.LevyTWO:>Problem: P, Epoch: 6, Current best: 0.7530487804878048, Global best: 0.7530487804878048, Runtime: 7.70195 seconds\n",
            "INFO:mealpy.physics_based.TWO.LevyTWO:>Problem: P, Epoch: 7, Current best: 0.7530487804878048, Global best: 0.7530487804878048, Runtime: 4.42153 seconds\n",
            "INFO:mealpy.physics_based.TWO.LevyTWO:>Problem: P, Epoch: 8, Current best: 0.7530487804878048, Global best: 0.7530487804878048, Runtime: 8.42873 seconds\n",
            "INFO:mealpy.physics_based.TWO.LevyTWO:>Problem: P, Epoch: 9, Current best: 0.7530487804878048, Global best: 0.7530487804878048, Runtime: 5.65353 seconds\n",
            "INFO:mealpy.physics_based.TWO.LevyTWO:>Problem: P, Epoch: 10, Current best: 0.7530487804878048, Global best: 0.7530487804878048, Runtime: 7.29142 seconds\n",
            "INFO:mealpy.physics_based.MVO.OriginalMVO:Solving single objective optimization problem.\n"
          ]
        },
        {
          "output_type": "stream",
          "name": "stdout",
          "text": [
            "['LevyES', 'JADE', 'OriginalFPA', 'OriginalFBIO', 'OriginalQSA', 'ImprovedQSA', 'OriginalTLO', 'OriginalAOA', 'OriginalCGO', 'OriginalGBO', 'OriginalPSS', 'OriginalSCA', 'OriginalArchOA', 'EnhancedTWO', 'EnhancedAEO', 'OriginalAEO', 'LevyTWO'] [[9, 102, 0.9, 0.7088414634146342, 0.7088414634146342, 3.683679962158203], [11, 100, 0.10379182419578181, 0.7560975609756099, 0.7560975609756099, 2.76029109954834], [9, 1000, 0.011191866902417233, 0.75, 0.75, 6.135713887214661], [8, 105, 0.06788570363665233, 0.7652439024390245, 0.7652439024390245, 11.17553448677063], [10, 1000, 0.016051223033985762, 0.7576219512195121, 0.7576219512195121, 29.175256085395812], [8, 100, 0.18835955621218572, 0.760670731707317, 0.760670731707317, 15.659284162521363], [8, 100, 0.085784144603691, 0.7545731707317073, 0.7545731707317073, 5.743708515167237], [12, 966, 0.01, 0.7530487804878048, 0.7530487804878048, 11.049904227256775], [12, 749, 0.020154216677948894, 0.7560975609756099, 0.7560975609756099, 29.137100100517273], [9, 100, 0.056891606830706105, 0.7621951219512195, 0.7621951219512195, 5.287493014335633], [10, 947, 0.646075343, 0.7286585365853658, 0.7286585365853658, 3.2021466970443724], [10, 912, 0.015876347690752298, 0.7545731707317073, 0.7545731707317073, 7.785303521156311], [10, 617, 0.9, 0.7454268292682927, 0.7454268292682927, 4.30113046169281], [10, 998, 0.01, 0.7530487804878048, 0.7530487804878048, 35.57842907905579], [10, 776, 0.01000701406974951, 0.7545731707317073, 0.7545731707317073, 17.617431354522704], [12, 937, 0.01, 0.7545731707317073, 0.7545731707317073, 21.534763360023497], [9, 782, 0.01, 0.7530487804878048, 0.7530487804878048, 6.161834239959717]]\n",
            "started\n"
          ]
        },
        {
          "output_type": "stream",
          "name": "stderr",
          "text": [
            "INFO:mealpy.physics_based.MVO.OriginalMVO:>Problem: P, Epoch: 1, Current best: 0.75, Global best: 0.75, Runtime: 5.21128 seconds\n",
            "INFO:mealpy.physics_based.MVO.OriginalMVO:>Problem: P, Epoch: 2, Current best: 0.75, Global best: 0.75, Runtime: 10.38510 seconds\n",
            "INFO:mealpy.physics_based.MVO.OriginalMVO:>Problem: P, Epoch: 3, Current best: 0.75, Global best: 0.75, Runtime: 10.34625 seconds\n",
            "INFO:mealpy.physics_based.MVO.OriginalMVO:>Problem: P, Epoch: 4, Current best: 0.75, Global best: 0.75, Runtime: 6.70609 seconds\n",
            "INFO:mealpy.physics_based.MVO.OriginalMVO:>Problem: P, Epoch: 5, Current best: 0.7530487804878048, Global best: 0.7530487804878048, Runtime: 10.67494 seconds\n",
            "INFO:mealpy.physics_based.MVO.OriginalMVO:>Problem: P, Epoch: 6, Current best: 0.7530487804878048, Global best: 0.7530487804878048, Runtime: 10.80606 seconds\n",
            "INFO:mealpy.physics_based.MVO.OriginalMVO:>Problem: P, Epoch: 7, Current best: 0.7530487804878048, Global best: 0.7530487804878048, Runtime: 11.07398 seconds\n",
            "INFO:mealpy.physics_based.MVO.OriginalMVO:>Problem: P, Epoch: 8, Current best: 0.7530487804878048, Global best: 0.7530487804878048, Runtime: 7.50612 seconds\n",
            "INFO:mealpy.physics_based.MVO.OriginalMVO:>Problem: P, Epoch: 9, Current best: 0.7545731707317073, Global best: 0.7545731707317073, Runtime: 11.52384 seconds\n",
            "INFO:mealpy.physics_based.MVO.OriginalMVO:>Problem: P, Epoch: 10, Current best: 0.7545731707317073, Global best: 0.7545731707317073, Runtime: 11.57864 seconds\n",
            "INFO:mealpy.physics_based.EO.AdaptiveEO:Solving single objective optimization problem.\n"
          ]
        },
        {
          "output_type": "stream",
          "name": "stdout",
          "text": [
            "['LevyES', 'JADE', 'OriginalFPA', 'OriginalFBIO', 'OriginalQSA', 'ImprovedQSA', 'OriginalTLO', 'OriginalAOA', 'OriginalCGO', 'OriginalGBO', 'OriginalPSS', 'OriginalSCA', 'OriginalArchOA', 'EnhancedTWO', 'EnhancedAEO', 'OriginalAEO', 'LevyTWO', 'OriginalMVO'] [[9, 102, 0.9, 0.7088414634146342, 0.7088414634146342, 3.683679962158203], [11, 100, 0.10379182419578181, 0.7560975609756099, 0.7560975609756099, 2.76029109954834], [9, 1000, 0.011191866902417233, 0.75, 0.75, 6.135713887214661], [8, 105, 0.06788570363665233, 0.7652439024390245, 0.7652439024390245, 11.17553448677063], [10, 1000, 0.016051223033985762, 0.7576219512195121, 0.7576219512195121, 29.175256085395812], [8, 100, 0.18835955621218572, 0.760670731707317, 0.760670731707317, 15.659284162521363], [8, 100, 0.085784144603691, 0.7545731707317073, 0.7545731707317073, 5.743708515167237], [12, 966, 0.01, 0.7530487804878048, 0.7530487804878048, 11.049904227256775], [12, 749, 0.020154216677948894, 0.7560975609756099, 0.7560975609756099, 29.137100100517273], [9, 100, 0.056891606830706105, 0.7621951219512195, 0.7621951219512195, 5.287493014335633], [10, 947, 0.646075343, 0.7286585365853658, 0.7286585365853658, 3.2021466970443724], [10, 912, 0.015876347690752298, 0.7545731707317073, 0.7545731707317073, 7.785303521156311], [10, 617, 0.9, 0.7454268292682927, 0.7454268292682927, 4.30113046169281], [10, 998, 0.01, 0.7530487804878048, 0.7530487804878048, 35.57842907905579], [10, 776, 0.01000701406974951, 0.7545731707317073, 0.7545731707317073, 17.617431354522704], [12, 937, 0.01, 0.7545731707317073, 0.7545731707317073, 21.534763360023497], [9, 782, 0.01, 0.7530487804878048, 0.7530487804878048, 6.161834239959717], [10, 751, 0.010456349856138948, 0.7545731707317073, 0.7545731707317073, 9.832323932647705]]\n",
            "started\n"
          ]
        },
        {
          "output_type": "stream",
          "name": "stderr",
          "text": [
            "INFO:mealpy.physics_based.EO.AdaptiveEO:>Problem: P, Epoch: 1, Current best: 0.7454268292682927, Global best: 0.7454268292682927, Runtime: 7.73363 seconds\n",
            "INFO:mealpy.physics_based.EO.AdaptiveEO:>Problem: P, Epoch: 2, Current best: 0.746951219512195, Global best: 0.746951219512195, Runtime: 5.59210 seconds\n",
            "INFO:mealpy.physics_based.EO.AdaptiveEO:>Problem: P, Epoch: 3, Current best: 0.7484756097560976, Global best: 0.7484756097560976, Runtime: 8.16587 seconds\n",
            "INFO:mealpy.physics_based.EO.AdaptiveEO:>Problem: P, Epoch: 4, Current best: 0.7484756097560976, Global best: 0.7484756097560976, Runtime: 5.33375 seconds\n",
            "INFO:mealpy.physics_based.EO.AdaptiveEO:>Problem: P, Epoch: 5, Current best: 0.7515243902439024, Global best: 0.7515243902439024, Runtime: 7.93379 seconds\n",
            "INFO:mealpy.physics_based.EO.AdaptiveEO:>Problem: P, Epoch: 6, Current best: 0.7515243902439024, Global best: 0.7515243902439024, Runtime: 6.50748 seconds\n",
            "INFO:mealpy.physics_based.EO.AdaptiveEO:>Problem: P, Epoch: 7, Current best: 0.7515243902439024, Global best: 0.7515243902439024, Runtime: 11.89112 seconds\n",
            "INFO:mealpy.physics_based.EO.AdaptiveEO:>Problem: P, Epoch: 8, Current best: 0.7576219512195121, Global best: 0.7576219512195121, Runtime: 10.44069 seconds\n",
            "INFO:mealpy.physics_based.EO.AdaptiveEO:>Problem: P, Epoch: 9, Current best: 0.7576219512195121, Global best: 0.7576219512195121, Runtime: 11.53761 seconds\n",
            "INFO:mealpy.physics_based.EO.AdaptiveEO:>Problem: P, Epoch: 10, Current best: 0.7576219512195121, Global best: 0.7576219512195121, Runtime: 12.96272 seconds\n",
            "INFO:mealpy.physics_based.EO.ModifiedEO:Solving single objective optimization problem.\n"
          ]
        },
        {
          "output_type": "stream",
          "name": "stdout",
          "text": [
            "['LevyES', 'JADE', 'OriginalFPA', 'OriginalFBIO', 'OriginalQSA', 'ImprovedQSA', 'OriginalTLO', 'OriginalAOA', 'OriginalCGO', 'OriginalGBO', 'OriginalPSS', 'OriginalSCA', 'OriginalArchOA', 'EnhancedTWO', 'EnhancedAEO', 'OriginalAEO', 'LevyTWO', 'OriginalMVO', 'AdaptiveEO'] [[9, 102, 0.9, 0.7088414634146342, 0.7088414634146342, 3.683679962158203], [11, 100, 0.10379182419578181, 0.7560975609756099, 0.7560975609756099, 2.76029109954834], [9, 1000, 0.011191866902417233, 0.75, 0.75, 6.135713887214661], [8, 105, 0.06788570363665233, 0.7652439024390245, 0.7652439024390245, 11.17553448677063], [10, 1000, 0.016051223033985762, 0.7576219512195121, 0.7576219512195121, 29.175256085395812], [8, 100, 0.18835955621218572, 0.760670731707317, 0.760670731707317, 15.659284162521363], [8, 100, 0.085784144603691, 0.7545731707317073, 0.7545731707317073, 5.743708515167237], [12, 966, 0.01, 0.7530487804878048, 0.7530487804878048, 11.049904227256775], [12, 749, 0.020154216677948894, 0.7560975609756099, 0.7560975609756099, 29.137100100517273], [9, 100, 0.056891606830706105, 0.7621951219512195, 0.7621951219512195, 5.287493014335633], [10, 947, 0.646075343, 0.7286585365853658, 0.7286585365853658, 3.2021466970443724], [10, 912, 0.015876347690752298, 0.7545731707317073, 0.7545731707317073, 7.785303521156311], [10, 617, 0.9, 0.7454268292682927, 0.7454268292682927, 4.30113046169281], [10, 998, 0.01, 0.7530487804878048, 0.7530487804878048, 35.57842907905579], [10, 776, 0.01000701406974951, 0.7545731707317073, 0.7545731707317073, 17.617431354522704], [12, 937, 0.01, 0.7545731707317073, 0.7545731707317073, 21.534763360023497], [9, 782, 0.01, 0.7530487804878048, 0.7530487804878048, 6.161834239959717], [10, 751, 0.010456349856138948, 0.7545731707317073, 0.7545731707317073, 9.832323932647705], [9, 556, 0.014094775557975212, 0.7576219512195121, 0.7576219512195121, 9.080123209953308]]\n",
            "started\n"
          ]
        },
        {
          "output_type": "stream",
          "name": "stderr",
          "text": [
            "INFO:mealpy.physics_based.EO.ModifiedEO:>Problem: P, Epoch: 1, Current best: 0.7530487804878048, Global best: 0.7530487804878048, Runtime: 4.75177 seconds\n",
            "INFO:mealpy.physics_based.EO.ModifiedEO:>Problem: P, Epoch: 2, Current best: 0.7530487804878048, Global best: 0.7530487804878048, Runtime: 10.43340 seconds\n",
            "INFO:mealpy.physics_based.EO.ModifiedEO:>Problem: P, Epoch: 3, Current best: 0.7530487804878048, Global best: 0.7530487804878048, Runtime: 7.82689 seconds\n",
            "INFO:mealpy.physics_based.EO.ModifiedEO:>Problem: P, Epoch: 4, Current best: 0.7530487804878048, Global best: 0.7530487804878048, Runtime: 6.27666 seconds\n",
            "INFO:mealpy.physics_based.EO.ModifiedEO:>Problem: P, Epoch: 5, Current best: 0.7530487804878048, Global best: 0.7530487804878048, Runtime: 10.59360 seconds\n",
            "INFO:mealpy.physics_based.EO.ModifiedEO:>Problem: P, Epoch: 6, Current best: 0.7530487804878048, Global best: 0.7530487804878048, Runtime: 5.21800 seconds\n",
            "INFO:mealpy.physics_based.EO.ModifiedEO:>Problem: P, Epoch: 7, Current best: 0.7530487804878048, Global best: 0.7530487804878048, Runtime: 9.48005 seconds\n",
            "INFO:mealpy.physics_based.EO.ModifiedEO:>Problem: P, Epoch: 8, Current best: 0.7530487804878048, Global best: 0.7530487804878048, Runtime: 12.03508 seconds\n",
            "INFO:mealpy.physics_based.EO.ModifiedEO:>Problem: P, Epoch: 9, Current best: 0.7530487804878048, Global best: 0.7530487804878048, Runtime: 10.37210 seconds\n",
            "INFO:mealpy.physics_based.EO.ModifiedEO:>Problem: P, Epoch: 10, Current best: 0.7530487804878048, Global best: 0.7530487804878048, Runtime: 12.35780 seconds\n",
            "INFO:mealpy.system_based.GCO.OriginalGCO:Solving single objective optimization problem.\n"
          ]
        },
        {
          "output_type": "stream",
          "name": "stdout",
          "text": [
            "['LevyES', 'JADE', 'OriginalFPA', 'OriginalFBIO', 'OriginalQSA', 'ImprovedQSA', 'OriginalTLO', 'OriginalAOA', 'OriginalCGO', 'OriginalGBO', 'OriginalPSS', 'OriginalSCA', 'OriginalArchOA', 'EnhancedTWO', 'EnhancedAEO', 'OriginalAEO', 'LevyTWO', 'OriginalMVO', 'AdaptiveEO', 'ModifiedEO'] [[9, 102, 0.9, 0.7088414634146342, 0.7088414634146342, 3.683679962158203], [11, 100, 0.10379182419578181, 0.7560975609756099, 0.7560975609756099, 2.76029109954834], [9, 1000, 0.011191866902417233, 0.75, 0.75, 6.135713887214661], [8, 105, 0.06788570363665233, 0.7652439024390245, 0.7652439024390245, 11.17553448677063], [10, 1000, 0.016051223033985762, 0.7576219512195121, 0.7576219512195121, 29.175256085395812], [8, 100, 0.18835955621218572, 0.760670731707317, 0.760670731707317, 15.659284162521363], [8, 100, 0.085784144603691, 0.7545731707317073, 0.7545731707317073, 5.743708515167237], [12, 966, 0.01, 0.7530487804878048, 0.7530487804878048, 11.049904227256775], [12, 749, 0.020154216677948894, 0.7560975609756099, 0.7560975609756099, 29.137100100517273], [9, 100, 0.056891606830706105, 0.7621951219512195, 0.7621951219512195, 5.287493014335633], [10, 947, 0.646075343, 0.7286585365853658, 0.7286585365853658, 3.2021466970443724], [10, 912, 0.015876347690752298, 0.7545731707317073, 0.7545731707317073, 7.785303521156311], [10, 617, 0.9, 0.7454268292682927, 0.7454268292682927, 4.30113046169281], [10, 998, 0.01, 0.7530487804878048, 0.7530487804878048, 35.57842907905579], [10, 776, 0.01000701406974951, 0.7545731707317073, 0.7545731707317073, 17.617431354522704], [12, 937, 0.01, 0.7545731707317073, 0.7545731707317073, 21.534763360023497], [9, 782, 0.01, 0.7530487804878048, 0.7530487804878048, 6.161834239959717], [10, 751, 0.010456349856138948, 0.7545731707317073, 0.7545731707317073, 9.832323932647705], [9, 556, 0.014094775557975212, 0.7576219512195121, 0.7576219512195121, 9.080123209953308], [12, 838, 0.01, 0.7530487804878048, 0.7530487804878048, 9.234201622009277]]\n",
            "started\n"
          ]
        },
        {
          "output_type": "stream",
          "name": "stderr",
          "text": [
            "INFO:mealpy.system_based.GCO.OriginalGCO:>Problem: P, Epoch: 1, Current best: 0.75, Global best: 0.75, Runtime: 4.53159 seconds\n",
            "INFO:mealpy.system_based.GCO.OriginalGCO:>Problem: P, Epoch: 2, Current best: 0.7530487804878048, Global best: 0.7530487804878048, Runtime: 7.69076 seconds\n",
            "INFO:mealpy.system_based.GCO.OriginalGCO:>Problem: P, Epoch: 3, Current best: 0.7530487804878048, Global best: 0.7530487804878048, Runtime: 2.34130 seconds\n",
            "INFO:mealpy.system_based.GCO.OriginalGCO:>Problem: P, Epoch: 4, Current best: 0.7530487804878048, Global best: 0.7530487804878048, Runtime: 4.90115 seconds\n",
            "INFO:mealpy.system_based.GCO.OriginalGCO:>Problem: P, Epoch: 5, Current best: 0.7530487804878048, Global best: 0.7530487804878048, Runtime: 8.56176 seconds\n",
            "INFO:mealpy.system_based.GCO.OriginalGCO:>Problem: P, Epoch: 6, Current best: 0.7530487804878048, Global best: 0.7530487804878048, Runtime: 3.40371 seconds\n",
            "INFO:mealpy.system_based.GCO.OriginalGCO:>Problem: P, Epoch: 7, Current best: 0.7530487804878048, Global best: 0.7530487804878048, Runtime: 9.17469 seconds\n",
            "INFO:mealpy.system_based.GCO.OriginalGCO:>Problem: P, Epoch: 8, Current best: 0.7530487804878048, Global best: 0.7530487804878048, Runtime: 5.83124 seconds\n",
            "INFO:mealpy.system_based.GCO.OriginalGCO:>Problem: P, Epoch: 9, Current best: 0.7530487804878048, Global best: 0.7530487804878048, Runtime: 11.82159 seconds\n",
            "INFO:mealpy.system_based.GCO.OriginalGCO:>Problem: P, Epoch: 10, Current best: 0.7530487804878048, Global best: 0.7530487804878048, Runtime: 9.29823 seconds\n",
            "INFO:mealpy.swarm_based.ALO.OriginalALO:Solving single objective optimization problem.\n"
          ]
        },
        {
          "output_type": "stream",
          "name": "stdout",
          "text": [
            "['LevyES', 'JADE', 'OriginalFPA', 'OriginalFBIO', 'OriginalQSA', 'ImprovedQSA', 'OriginalTLO', 'OriginalAOA', 'OriginalCGO', 'OriginalGBO', 'OriginalPSS', 'OriginalSCA', 'OriginalArchOA', 'EnhancedTWO', 'EnhancedAEO', 'OriginalAEO', 'LevyTWO', 'OriginalMVO', 'AdaptiveEO', 'ModifiedEO', 'OriginalGCO'] [[9, 102, 0.9, 0.7088414634146342, 0.7088414634146342, 3.683679962158203], [11, 100, 0.10379182419578181, 0.7560975609756099, 0.7560975609756099, 2.76029109954834], [9, 1000, 0.011191866902417233, 0.75, 0.75, 6.135713887214661], [8, 105, 0.06788570363665233, 0.7652439024390245, 0.7652439024390245, 11.17553448677063], [10, 1000, 0.016051223033985762, 0.7576219512195121, 0.7576219512195121, 29.175256085395812], [8, 100, 0.18835955621218572, 0.760670731707317, 0.760670731707317, 15.659284162521363], [8, 100, 0.085784144603691, 0.7545731707317073, 0.7545731707317073, 5.743708515167237], [12, 966, 0.01, 0.7530487804878048, 0.7530487804878048, 11.049904227256775], [12, 749, 0.020154216677948894, 0.7560975609756099, 0.7560975609756099, 29.137100100517273], [9, 100, 0.056891606830706105, 0.7621951219512195, 0.7621951219512195, 5.287493014335633], [10, 947, 0.646075343, 0.7286585365853658, 0.7286585365853658, 3.2021466970443724], [10, 912, 0.015876347690752298, 0.7545731707317073, 0.7545731707317073, 7.785303521156311], [10, 617, 0.9, 0.7454268292682927, 0.7454268292682927, 4.30113046169281], [10, 998, 0.01, 0.7530487804878048, 0.7530487804878048, 35.57842907905579], [10, 776, 0.01000701406974951, 0.7545731707317073, 0.7545731707317073, 17.617431354522704], [12, 937, 0.01, 0.7545731707317073, 0.7545731707317073, 21.534763360023497], [9, 782, 0.01, 0.7530487804878048, 0.7530487804878048, 6.161834239959717], [10, 751, 0.010456349856138948, 0.7545731707317073, 0.7545731707317073, 9.832323932647705], [9, 556, 0.014094775557975212, 0.7576219512195121, 0.7576219512195121, 9.080123209953308], [12, 838, 0.01, 0.7530487804878048, 0.7530487804878048, 9.234201622009277], [10, 1000, 0.01, 0.7530487804878048, 0.7530487804878048, 7.00337586402893]]\n",
            "started\n"
          ]
        },
        {
          "output_type": "stream",
          "name": "stderr",
          "text": [
            "INFO:mealpy.swarm_based.ALO.OriginalALO:>Problem: P, Epoch: 1, Current best: 0.7332317073170732, Global best: 0.7332317073170732, Runtime: 3.42100 seconds\n",
            "INFO:mealpy.swarm_based.ALO.OriginalALO:>Problem: P, Epoch: 2, Current best: 0.7332317073170732, Global best: 0.7332317073170732, Runtime: 6.05053 seconds\n",
            "INFO:mealpy.swarm_based.ALO.OriginalALO:>Problem: P, Epoch: 3, Current best: 0.7332317073170732, Global best: 0.7332317073170732, Runtime: 2.48515 seconds\n",
            "INFO:mealpy.swarm_based.ALO.OriginalALO:>Problem: P, Epoch: 4, Current best: 0.7332317073170732, Global best: 0.7332317073170732, Runtime: 2.63776 seconds\n",
            "INFO:mealpy.swarm_based.ALO.OriginalALO:>Problem: P, Epoch: 5, Current best: 0.7332317073170732, Global best: 0.7332317073170732, Runtime: 2.69318 seconds\n",
            "INFO:mealpy.swarm_based.ALO.OriginalALO:>Problem: P, Epoch: 6, Current best: 0.7332317073170732, Global best: 0.7332317073170732, Runtime: 5.96588 seconds\n",
            "INFO:mealpy.swarm_based.ALO.OriginalALO:>Problem: P, Epoch: 7, Current best: 0.7332317073170732, Global best: 0.7332317073170732, Runtime: 2.80932 seconds\n",
            "INFO:mealpy.swarm_based.ALO.OriginalALO:>Problem: P, Epoch: 8, Current best: 0.7332317073170732, Global best: 0.7332317073170732, Runtime: 2.83377 seconds\n",
            "INFO:mealpy.swarm_based.ALO.OriginalALO:>Problem: P, Epoch: 9, Current best: 0.7332317073170732, Global best: 0.7332317073170732, Runtime: 5.70253 seconds\n",
            "INFO:mealpy.swarm_based.ALO.OriginalALO:>Problem: P, Epoch: 10, Current best: 0.7332317073170732, Global best: 0.7332317073170732, Runtime: 2.34553 seconds\n"
          ]
        },
        {
          "output_type": "stream",
          "name": "stdout",
          "text": [
            "['LevyES', 'JADE', 'OriginalFPA', 'OriginalFBIO', 'OriginalQSA', 'ImprovedQSA', 'OriginalTLO', 'OriginalAOA', 'OriginalCGO', 'OriginalGBO', 'OriginalPSS', 'OriginalSCA', 'OriginalArchOA', 'EnhancedTWO', 'EnhancedAEO', 'OriginalAEO', 'LevyTWO', 'OriginalMVO', 'AdaptiveEO', 'ModifiedEO', 'OriginalGCO', 'OriginalALO'] [[9, 102, 0.9, 0.7088414634146342, 0.7088414634146342, 3.683679962158203], [11, 100, 0.10379182419578181, 0.7560975609756099, 0.7560975609756099, 2.76029109954834], [9, 1000, 0.011191866902417233, 0.75, 0.75, 6.135713887214661], [8, 105, 0.06788570363665233, 0.7652439024390245, 0.7652439024390245, 11.17553448677063], [10, 1000, 0.016051223033985762, 0.7576219512195121, 0.7576219512195121, 29.175256085395812], [8, 100, 0.18835955621218572, 0.760670731707317, 0.760670731707317, 15.659284162521363], [8, 100, 0.085784144603691, 0.7545731707317073, 0.7545731707317073, 5.743708515167237], [12, 966, 0.01, 0.7530487804878048, 0.7530487804878048, 11.049904227256775], [12, 749, 0.020154216677948894, 0.7560975609756099, 0.7560975609756099, 29.137100100517273], [9, 100, 0.056891606830706105, 0.7621951219512195, 0.7621951219512195, 5.287493014335633], [10, 947, 0.646075343, 0.7286585365853658, 0.7286585365853658, 3.2021466970443724], [10, 912, 0.015876347690752298, 0.7545731707317073, 0.7545731707317073, 7.785303521156311], [10, 617, 0.9, 0.7454268292682927, 0.7454268292682927, 4.30113046169281], [10, 998, 0.01, 0.7530487804878048, 0.7530487804878048, 35.57842907905579], [10, 776, 0.01000701406974951, 0.7545731707317073, 0.7545731707317073, 17.617431354522704], [12, 937, 0.01, 0.7545731707317073, 0.7545731707317073, 21.534763360023497], [9, 782, 0.01, 0.7530487804878048, 0.7530487804878048, 6.161834239959717], [10, 751, 0.010456349856138948, 0.7545731707317073, 0.7545731707317073, 9.832323932647705], [9, 556, 0.014094775557975212, 0.7576219512195121, 0.7576219512195121, 9.080123209953308], [12, 838, 0.01, 0.7530487804878048, 0.7530487804878048, 9.234201622009277], [10, 1000, 0.01, 0.7530487804878048, 0.7530487804878048, 7.00337586402893], [9, 753, 0.2179253314612768, 0.7332317073170732, 0.7332317073170732, 3.9184326171875]]\n",
            "started\n"
          ]
        },
        {
          "output_type": "stream",
          "name": "stderr",
          "text": [
            "INFO:mealpy.swarm_based.AO.OriginalAO:Solving single objective optimization problem.\n",
            "INFO:mealpy.swarm_based.AO.OriginalAO:>Problem: P, Epoch: 1, Current best: 0.7439024390243903, Global best: 0.7439024390243903, Runtime: 1.25650 seconds\n",
            "INFO:mealpy.swarm_based.AO.OriginalAO:>Problem: P, Epoch: 2, Current best: 0.7439024390243903, Global best: 0.7439024390243903, Runtime: 1.54388 seconds\n",
            "INFO:mealpy.swarm_based.AO.OriginalAO:>Problem: P, Epoch: 3, Current best: 0.7439024390243903, Global best: 0.7439024390243903, Runtime: 0.97265 seconds\n",
            "INFO:mealpy.swarm_based.AO.OriginalAO:>Problem: P, Epoch: 4, Current best: 0.7439024390243903, Global best: 0.7439024390243903, Runtime: 4.03062 seconds\n",
            "INFO:mealpy.swarm_based.AO.OriginalAO:>Problem: P, Epoch: 5, Current best: 0.7439024390243903, Global best: 0.7439024390243903, Runtime: 1.17957 seconds\n",
            "INFO:mealpy.swarm_based.AO.OriginalAO:>Problem: P, Epoch: 6, Current best: 0.7439024390243903, Global best: 0.7439024390243903, Runtime: 0.82462 seconds\n",
            "INFO:mealpy.swarm_based.AO.OriginalAO:>Problem: P, Epoch: 7, Current best: 0.7439024390243903, Global best: 0.7439024390243903, Runtime: 1.18146 seconds\n",
            "INFO:mealpy.swarm_based.AO.OriginalAO:>Problem: P, Epoch: 8, Current best: 0.7439024390243903, Global best: 0.7439024390243903, Runtime: 1.67807 seconds\n",
            "INFO:mealpy.swarm_based.AO.OriginalAO:>Problem: P, Epoch: 9, Current best: 0.7439024390243903, Global best: 0.7439024390243903, Runtime: 1.40642 seconds\n",
            "INFO:mealpy.swarm_based.AO.OriginalAO:>Problem: P, Epoch: 10, Current best: 0.7439024390243903, Global best: 0.7439024390243903, Runtime: 1.44007 seconds\n",
            "INFO:mealpy.swarm_based.BA.ModifiedBA:Solving single objective optimization problem.\n"
          ]
        },
        {
          "output_type": "stream",
          "name": "stdout",
          "text": [
            "['LevyES', 'JADE', 'OriginalFPA', 'OriginalFBIO', 'OriginalQSA', 'ImprovedQSA', 'OriginalTLO', 'OriginalAOA', 'OriginalCGO', 'OriginalGBO', 'OriginalPSS', 'OriginalSCA', 'OriginalArchOA', 'EnhancedTWO', 'EnhancedAEO', 'OriginalAEO', 'LevyTWO', 'OriginalMVO', 'AdaptiveEO', 'ModifiedEO', 'OriginalGCO', 'OriginalALO', 'OriginalAO'] [[9, 102, 0.9, 0.7088414634146342, 0.7088414634146342, 3.683679962158203], [11, 100, 0.10379182419578181, 0.7560975609756099, 0.7560975609756099, 2.76029109954834], [9, 1000, 0.011191866902417233, 0.75, 0.75, 6.135713887214661], [8, 105, 0.06788570363665233, 0.7652439024390245, 0.7652439024390245, 11.17553448677063], [10, 1000, 0.016051223033985762, 0.7576219512195121, 0.7576219512195121, 29.175256085395812], [8, 100, 0.18835955621218572, 0.760670731707317, 0.760670731707317, 15.659284162521363], [8, 100, 0.085784144603691, 0.7545731707317073, 0.7545731707317073, 5.743708515167237], [12, 966, 0.01, 0.7530487804878048, 0.7530487804878048, 11.049904227256775], [12, 749, 0.020154216677948894, 0.7560975609756099, 0.7560975609756099, 29.137100100517273], [9, 100, 0.056891606830706105, 0.7621951219512195, 0.7621951219512195, 5.287493014335633], [10, 947, 0.646075343, 0.7286585365853658, 0.7286585365853658, 3.2021466970443724], [10, 912, 0.015876347690752298, 0.7545731707317073, 0.7545731707317073, 7.785303521156311], [10, 617, 0.9, 0.7454268292682927, 0.7454268292682927, 4.30113046169281], [10, 998, 0.01, 0.7530487804878048, 0.7530487804878048, 35.57842907905579], [10, 776, 0.01000701406974951, 0.7545731707317073, 0.7545731707317073, 17.617431354522704], [12, 937, 0.01, 0.7545731707317073, 0.7545731707317073, 21.534763360023497], [9, 782, 0.01, 0.7530487804878048, 0.7530487804878048, 6.161834239959717], [10, 751, 0.010456349856138948, 0.7545731707317073, 0.7545731707317073, 9.832323932647705], [9, 556, 0.014094775557975212, 0.7576219512195121, 0.7576219512195121, 9.080123209953308], [12, 838, 0.01, 0.7530487804878048, 0.7530487804878048, 9.234201622009277], [10, 1000, 0.01, 0.7530487804878048, 0.7530487804878048, 7.00337586402893], [9, 753, 0.2179253314612768, 0.7332317073170732, 0.7332317073170732, 3.9184326171875], [8, 221, 0.17820824369843816, 0.7439024390243903, 0.7439024390243903, 1.8626875162124634]]\n",
            "started\n"
          ]
        },
        {
          "output_type": "stream",
          "name": "stderr",
          "text": [
            "INFO:mealpy.swarm_based.BA.ModifiedBA:>Problem: P, Epoch: 1, Current best: 0.7454268292682927, Global best: 0.7454268292682927, Runtime: 9.21684 seconds\n",
            "INFO:mealpy.swarm_based.BA.ModifiedBA:>Problem: P, Epoch: 2, Current best: 0.7439024390243903, Global best: 0.7454268292682927, Runtime: 10.64217 seconds\n",
            "INFO:mealpy.swarm_based.BA.ModifiedBA:>Problem: P, Epoch: 3, Current best: 0.7454268292682927, Global best: 0.7454268292682927, Runtime: 11.48188 seconds\n",
            "INFO:mealpy.swarm_based.BA.ModifiedBA:>Problem: P, Epoch: 4, Current best: 0.7454268292682927, Global best: 0.7454268292682927, Runtime: 11.71718 seconds\n",
            "INFO:mealpy.swarm_based.BA.ModifiedBA:>Problem: P, Epoch: 5, Current best: 0.746951219512195, Global best: 0.746951219512195, Runtime: 10.62147 seconds\n",
            "INFO:mealpy.swarm_based.BA.ModifiedBA:>Problem: P, Epoch: 6, Current best: 0.7484756097560976, Global best: 0.7484756097560976, Runtime: 6.31216 seconds\n",
            "INFO:mealpy.swarm_based.BA.ModifiedBA:>Problem: P, Epoch: 7, Current best: 0.7530487804878048, Global best: 0.7530487804878048, Runtime: 11.37770 seconds\n",
            "INFO:mealpy.swarm_based.BA.ModifiedBA:>Problem: P, Epoch: 8, Current best: 0.7530487804878048, Global best: 0.7530487804878048, Runtime: 12.61126 seconds\n",
            "INFO:mealpy.swarm_based.BA.ModifiedBA:>Problem: P, Epoch: 9, Current best: 0.75, Global best: 0.7530487804878048, Runtime: 13.79519 seconds\n",
            "INFO:mealpy.swarm_based.BA.ModifiedBA:>Problem: P, Epoch: 10, Current best: 0.7530487804878048, Global best: 0.7530487804878048, Runtime: 13.71111 seconds\n"
          ]
        },
        {
          "output_type": "stream",
          "name": "stdout",
          "text": [
            "['LevyES', 'JADE', 'OriginalFPA', 'OriginalFBIO', 'OriginalQSA', 'ImprovedQSA', 'OriginalTLO', 'OriginalAOA', 'OriginalCGO', 'OriginalGBO', 'OriginalPSS', 'OriginalSCA', 'OriginalArchOA', 'EnhancedTWO', 'EnhancedAEO', 'OriginalAEO', 'LevyTWO', 'OriginalMVO', 'AdaptiveEO', 'ModifiedEO', 'OriginalGCO', 'OriginalALO', 'OriginalAO', 'ModifiedBA'] [[9, 102, 0.9, 0.7088414634146342, 0.7088414634146342, 3.683679962158203], [11, 100, 0.10379182419578181, 0.7560975609756099, 0.7560975609756099, 2.76029109954834], [9, 1000, 0.011191866902417233, 0.75, 0.75, 6.135713887214661], [8, 105, 0.06788570363665233, 0.7652439024390245, 0.7652439024390245, 11.17553448677063], [10, 1000, 0.016051223033985762, 0.7576219512195121, 0.7576219512195121, 29.175256085395812], [8, 100, 0.18835955621218572, 0.760670731707317, 0.760670731707317, 15.659284162521363], [8, 100, 0.085784144603691, 0.7545731707317073, 0.7545731707317073, 5.743708515167237], [12, 966, 0.01, 0.7530487804878048, 0.7530487804878048, 11.049904227256775], [12, 749, 0.020154216677948894, 0.7560975609756099, 0.7560975609756099, 29.137100100517273], [9, 100, 0.056891606830706105, 0.7621951219512195, 0.7621951219512195, 5.287493014335633], [10, 947, 0.646075343, 0.7286585365853658, 0.7286585365853658, 3.2021466970443724], [10, 912, 0.015876347690752298, 0.7545731707317073, 0.7545731707317073, 7.785303521156311], [10, 617, 0.9, 0.7454268292682927, 0.7454268292682927, 4.30113046169281], [10, 998, 0.01, 0.7530487804878048, 0.7530487804878048, 35.57842907905579], [10, 776, 0.01000701406974951, 0.7545731707317073, 0.7545731707317073, 17.617431354522704], [12, 937, 0.01, 0.7545731707317073, 0.7545731707317073, 21.534763360023497], [9, 782, 0.01, 0.7530487804878048, 0.7530487804878048, 6.161834239959717], [10, 751, 0.010456349856138948, 0.7545731707317073, 0.7545731707317073, 9.832323932647705], [9, 556, 0.014094775557975212, 0.7576219512195121, 0.7576219512195121, 9.080123209953308], [12, 838, 0.01, 0.7530487804878048, 0.7530487804878048, 9.234201622009277], [10, 1000, 0.01, 0.7530487804878048, 0.7530487804878048, 7.00337586402893], [9, 753, 0.2179253314612768, 0.7332317073170732, 0.7332317073170732, 3.9184326171875], [8, 221, 0.17820824369843816, 0.7439024390243903, 0.7439024390243903, 1.8626875162124634], [10, 1000, 0.01, 0.7530487804878048, 0.7530487804878048, 11.747303700447082]]\n",
            "started\n"
          ]
        },
        {
          "output_type": "stream",
          "name": "stderr",
          "text": [
            "INFO:mealpy.swarm_based.BA.OriginalBA:Solving single objective optimization problem.\n",
            "INFO:mealpy.swarm_based.BA.OriginalBA:>Problem: P, Epoch: 1, Current best: 0.75, Global best: 0.75, Runtime: 6.39128 seconds\n",
            "INFO:mealpy.swarm_based.BA.OriginalBA:>Problem: P, Epoch: 2, Current best: 0.75, Global best: 0.75, Runtime: 2.69144 seconds\n",
            "INFO:mealpy.swarm_based.BA.OriginalBA:>Problem: P, Epoch: 3, Current best: 0.75, Global best: 0.75, Runtime: 2.60150 seconds\n",
            "INFO:mealpy.swarm_based.BA.OriginalBA:>Problem: P, Epoch: 4, Current best: 0.75, Global best: 0.75, Runtime: 2.58177 seconds\n",
            "INFO:mealpy.swarm_based.BA.OriginalBA:>Problem: P, Epoch: 5, Current best: 0.75, Global best: 0.75, Runtime: 5.60562 seconds\n",
            "INFO:mealpy.swarm_based.BA.OriginalBA:>Problem: P, Epoch: 6, Current best: 0.75, Global best: 0.75, Runtime: 2.65249 seconds\n",
            "INFO:mealpy.swarm_based.BA.OriginalBA:>Problem: P, Epoch: 7, Current best: 0.75, Global best: 0.75, Runtime: 2.59597 seconds\n",
            "INFO:mealpy.swarm_based.BA.OriginalBA:>Problem: P, Epoch: 8, Current best: 0.75, Global best: 0.75, Runtime: 6.13731 seconds\n",
            "INFO:mealpy.swarm_based.BA.OriginalBA:>Problem: P, Epoch: 9, Current best: 0.75, Global best: 0.75, Runtime: 3.12747 seconds\n",
            "INFO:mealpy.swarm_based.BA.OriginalBA:>Problem: P, Epoch: 10, Current best: 0.75, Global best: 0.75, Runtime: 2.60851 seconds\n"
          ]
        },
        {
          "output_type": "stream",
          "name": "stdout",
          "text": [
            "['LevyES', 'JADE', 'OriginalFPA', 'OriginalFBIO', 'OriginalQSA', 'ImprovedQSA', 'OriginalTLO', 'OriginalAOA', 'OriginalCGO', 'OriginalGBO', 'OriginalPSS', 'OriginalSCA', 'OriginalArchOA', 'EnhancedTWO', 'EnhancedAEO', 'OriginalAEO', 'LevyTWO', 'OriginalMVO', 'AdaptiveEO', 'ModifiedEO', 'OriginalGCO', 'OriginalALO', 'OriginalAO', 'ModifiedBA', 'OriginalBA'] [[9, 102, 0.9, 0.7088414634146342, 0.7088414634146342, 3.683679962158203], [11, 100, 0.10379182419578181, 0.7560975609756099, 0.7560975609756099, 2.76029109954834], [9, 1000, 0.011191866902417233, 0.75, 0.75, 6.135713887214661], [8, 105, 0.06788570363665233, 0.7652439024390245, 0.7652439024390245, 11.17553448677063], [10, 1000, 0.016051223033985762, 0.7576219512195121, 0.7576219512195121, 29.175256085395812], [8, 100, 0.18835955621218572, 0.760670731707317, 0.760670731707317, 15.659284162521363], [8, 100, 0.085784144603691, 0.7545731707317073, 0.7545731707317073, 5.743708515167237], [12, 966, 0.01, 0.7530487804878048, 0.7530487804878048, 11.049904227256775], [12, 749, 0.020154216677948894, 0.7560975609756099, 0.7560975609756099, 29.137100100517273], [9, 100, 0.056891606830706105, 0.7621951219512195, 0.7621951219512195, 5.287493014335633], [10, 947, 0.646075343, 0.7286585365853658, 0.7286585365853658, 3.2021466970443724], [10, 912, 0.015876347690752298, 0.7545731707317073, 0.7545731707317073, 7.785303521156311], [10, 617, 0.9, 0.7454268292682927, 0.7454268292682927, 4.30113046169281], [10, 998, 0.01, 0.7530487804878048, 0.7530487804878048, 35.57842907905579], [10, 776, 0.01000701406974951, 0.7545731707317073, 0.7545731707317073, 17.617431354522704], [12, 937, 0.01, 0.7545731707317073, 0.7545731707317073, 21.534763360023497], [9, 782, 0.01, 0.7530487804878048, 0.7530487804878048, 6.161834239959717], [10, 751, 0.010456349856138948, 0.7545731707317073, 0.7545731707317073, 9.832323932647705], [9, 556, 0.014094775557975212, 0.7576219512195121, 0.7576219512195121, 9.080123209953308], [12, 838, 0.01, 0.7530487804878048, 0.7530487804878048, 9.234201622009277], [10, 1000, 0.01, 0.7530487804878048, 0.7530487804878048, 7.00337586402893], [9, 753, 0.2179253314612768, 0.7332317073170732, 0.7332317073170732, 3.9184326171875], [8, 221, 0.17820824369843816, 0.7439024390243903, 0.7439024390243903, 1.8626875162124634], [10, 1000, 0.01, 0.7530487804878048, 0.7530487804878048, 11.747303700447082], [12, 1000, 0.01, 0.75, 0.75, 3.9632811546325684]]\n",
            "started\n"
          ]
        },
        {
          "output_type": "stream",
          "name": "stderr",
          "text": [
            "INFO:mealpy.swarm_based.BFO.OriginalBFO:Solving single objective optimization problem.\n",
            "INFO:mealpy.swarm_based.BFO.OriginalBFO:>Problem: P, Epoch: 1, Current best: 0.7317073170731707, Global best: 0.7378048780487805, Runtime: 21.43751 seconds\n",
            "INFO:mealpy.swarm_based.BFO.OriginalBFO:>Problem: P, Epoch: 2, Current best: 0.7256097560975608, Global best: 0.7378048780487805, Runtime: 19.16778 seconds\n",
            "INFO:mealpy.swarm_based.BFO.OriginalBFO:>Problem: P, Epoch: 3, Current best: 0.7301829268292683, Global best: 0.7378048780487805, Runtime: 22.28704 seconds\n",
            "INFO:mealpy.swarm_based.BFO.OriginalBFO:>Problem: P, Epoch: 4, Current best: 0.7195121951219512, Global best: 0.7378048780487805, Runtime: 22.81381 seconds\n",
            "INFO:mealpy.swarm_based.BFO.OriginalBFO:>Problem: P, Epoch: 5, Current best: 0.7195121951219512, Global best: 0.7378048780487805, Runtime: 20.51880 seconds\n",
            "INFO:mealpy.swarm_based.BFO.OriginalBFO:>Problem: P, Epoch: 6, Current best: 0.7362804878048782, Global best: 0.7378048780487805, Runtime: 21.33813 seconds\n",
            "INFO:mealpy.swarm_based.BFO.OriginalBFO:>Problem: P, Epoch: 7, Current best: 0.7362804878048782, Global best: 0.7378048780487805, Runtime: 15.78343 seconds\n",
            "INFO:mealpy.swarm_based.BFO.OriginalBFO:>Problem: P, Epoch: 8, Current best: 0.7240853658536585, Global best: 0.7378048780487805, Runtime: 16.49814 seconds\n",
            "INFO:mealpy.swarm_based.BFO.OriginalBFO:>Problem: P, Epoch: 9, Current best: 0.739329268292683, Global best: 0.739329268292683, Runtime: 20.33459 seconds\n",
            "INFO:mealpy.swarm_based.BFO.OriginalBFO:>Problem: P, Epoch: 10, Current best: 0.7347560975609757, Global best: 0.739329268292683, Runtime: 14.68712 seconds\n"
          ]
        },
        {
          "output_type": "stream",
          "name": "stdout",
          "text": [
            "['LevyES', 'JADE', 'OriginalFPA', 'OriginalFBIO', 'OriginalQSA', 'ImprovedQSA', 'OriginalTLO', 'OriginalAOA', 'OriginalCGO', 'OriginalGBO', 'OriginalPSS', 'OriginalSCA', 'OriginalArchOA', 'EnhancedTWO', 'EnhancedAEO', 'OriginalAEO', 'LevyTWO', 'OriginalMVO', 'AdaptiveEO', 'ModifiedEO', 'OriginalGCO', 'OriginalALO', 'OriginalAO', 'ModifiedBA', 'OriginalBA', 'OriginalBFO'] [[9, 102, 0.9, 0.7088414634146342, 0.7088414634146342, 3.683679962158203], [11, 100, 0.10379182419578181, 0.7560975609756099, 0.7560975609756099, 2.76029109954834], [9, 1000, 0.011191866902417233, 0.75, 0.75, 6.135713887214661], [8, 105, 0.06788570363665233, 0.7652439024390245, 0.7652439024390245, 11.17553448677063], [10, 1000, 0.016051223033985762, 0.7576219512195121, 0.7576219512195121, 29.175256085395812], [8, 100, 0.18835955621218572, 0.760670731707317, 0.760670731707317, 15.659284162521363], [8, 100, 0.085784144603691, 0.7545731707317073, 0.7545731707317073, 5.743708515167237], [12, 966, 0.01, 0.7530487804878048, 0.7530487804878048, 11.049904227256775], [12, 749, 0.020154216677948894, 0.7560975609756099, 0.7560975609756099, 29.137100100517273], [9, 100, 0.056891606830706105, 0.7621951219512195, 0.7621951219512195, 5.287493014335633], [10, 947, 0.646075343, 0.7286585365853658, 0.7286585365853658, 3.2021466970443724], [10, 912, 0.015876347690752298, 0.7545731707317073, 0.7545731707317073, 7.785303521156311], [10, 617, 0.9, 0.7454268292682927, 0.7454268292682927, 4.30113046169281], [10, 998, 0.01, 0.7530487804878048, 0.7530487804878048, 35.57842907905579], [10, 776, 0.01000701406974951, 0.7545731707317073, 0.7545731707317073, 17.617431354522704], [12, 937, 0.01, 0.7545731707317073, 0.7545731707317073, 21.534763360023497], [9, 782, 0.01, 0.7530487804878048, 0.7530487804878048, 6.161834239959717], [10, 751, 0.010456349856138948, 0.7545731707317073, 0.7545731707317073, 9.832323932647705], [9, 556, 0.014094775557975212, 0.7576219512195121, 0.7576219512195121, 9.080123209953308], [12, 838, 0.01, 0.7530487804878048, 0.7530487804878048, 9.234201622009277], [10, 1000, 0.01, 0.7530487804878048, 0.7530487804878048, 7.00337586402893], [9, 753, 0.2179253314612768, 0.7332317073170732, 0.7332317073170732, 3.9184326171875], [8, 221, 0.17820824369843816, 0.7439024390243903, 0.7439024390243903, 1.8626875162124634], [10, 1000, 0.01, 0.7530487804878048, 0.7530487804878048, 11.747303700447082], [12, 1000, 0.01, 0.75, 0.75, 3.9632811546325684], [10, 483, 0.3623566268832016, 0.7347560975609757, 0.7347560975609757, 19.779944229125977]]\n",
            "started\n"
          ]
        },
        {
          "output_type": "stream",
          "name": "stderr",
          "text": [
            "INFO:mealpy.swarm_based.FOA.WhaleFOA:Solving single objective optimization problem.\n",
            "INFO:mealpy.swarm_based.FOA.WhaleFOA:>Problem: P, Epoch: 1, Current best: 0.7317073170731707, Global best: 0.7317073170731707, Runtime: 1.56877 seconds\n",
            "INFO:mealpy.swarm_based.FOA.WhaleFOA:>Problem: P, Epoch: 2, Current best: 0.7347560975609757, Global best: 0.7347560975609757, Runtime: 1.34610 seconds\n",
            "INFO:mealpy.swarm_based.FOA.WhaleFOA:>Problem: P, Epoch: 3, Current best: 0.7347560975609757, Global best: 0.7347560975609757, Runtime: 1.31666 seconds\n",
            "INFO:mealpy.swarm_based.FOA.WhaleFOA:>Problem: P, Epoch: 4, Current best: 0.7408536585365852, Global best: 0.7408536585365852, Runtime: 1.43555 seconds\n",
            "INFO:mealpy.swarm_based.FOA.WhaleFOA:>Problem: P, Epoch: 5, Current best: 0.7408536585365852, Global best: 0.7408536585365852, Runtime: 4.08865 seconds\n",
            "INFO:mealpy.swarm_based.FOA.WhaleFOA:>Problem: P, Epoch: 6, Current best: 0.7408536585365852, Global best: 0.7408536585365852, Runtime: 1.16731 seconds\n",
            "INFO:mealpy.swarm_based.FOA.WhaleFOA:>Problem: P, Epoch: 7, Current best: 0.7408536585365852, Global best: 0.7408536585365852, Runtime: 1.24259 seconds\n",
            "INFO:mealpy.swarm_based.FOA.WhaleFOA:>Problem: P, Epoch: 8, Current best: 0.7408536585365852, Global best: 0.7408536585365852, Runtime: 1.27197 seconds\n",
            "INFO:mealpy.swarm_based.FOA.WhaleFOA:>Problem: P, Epoch: 9, Current best: 0.7408536585365852, Global best: 0.7408536585365852, Runtime: 1.10524 seconds\n",
            "INFO:mealpy.swarm_based.FOA.WhaleFOA:>Problem: P, Epoch: 10, Current best: 0.7408536585365852, Global best: 0.7408536585365852, Runtime: 1.22065 seconds\n"
          ]
        },
        {
          "output_type": "stream",
          "name": "stdout",
          "text": [
            "['LevyES', 'JADE', 'OriginalFPA', 'OriginalFBIO', 'OriginalQSA', 'ImprovedQSA', 'OriginalTLO', 'OriginalAOA', 'OriginalCGO', 'OriginalGBO', 'OriginalPSS', 'OriginalSCA', 'OriginalArchOA', 'EnhancedTWO', 'EnhancedAEO', 'OriginalAEO', 'LevyTWO', 'OriginalMVO', 'AdaptiveEO', 'ModifiedEO', 'OriginalGCO', 'OriginalALO', 'OriginalAO', 'ModifiedBA', 'OriginalBA', 'OriginalBFO', 'WhaleFOA'] [[9, 102, 0.9, 0.7088414634146342, 0.7088414634146342, 3.683679962158203], [11, 100, 0.10379182419578181, 0.7560975609756099, 0.7560975609756099, 2.76029109954834], [9, 1000, 0.011191866902417233, 0.75, 0.75, 6.135713887214661], [8, 105, 0.06788570363665233, 0.7652439024390245, 0.7652439024390245, 11.17553448677063], [10, 1000, 0.016051223033985762, 0.7576219512195121, 0.7576219512195121, 29.175256085395812], [8, 100, 0.18835955621218572, 0.760670731707317, 0.760670731707317, 15.659284162521363], [8, 100, 0.085784144603691, 0.7545731707317073, 0.7545731707317073, 5.743708515167237], [12, 966, 0.01, 0.7530487804878048, 0.7530487804878048, 11.049904227256775], [12, 749, 0.020154216677948894, 0.7560975609756099, 0.7560975609756099, 29.137100100517273], [9, 100, 0.056891606830706105, 0.7621951219512195, 0.7621951219512195, 5.287493014335633], [10, 947, 0.646075343, 0.7286585365853658, 0.7286585365853658, 3.2021466970443724], [10, 912, 0.015876347690752298, 0.7545731707317073, 0.7545731707317073, 7.785303521156311], [10, 617, 0.9, 0.7454268292682927, 0.7454268292682927, 4.30113046169281], [10, 998, 0.01, 0.7530487804878048, 0.7530487804878048, 35.57842907905579], [10, 776, 0.01000701406974951, 0.7545731707317073, 0.7545731707317073, 17.617431354522704], [12, 937, 0.01, 0.7545731707317073, 0.7545731707317073, 21.534763360023497], [9, 782, 0.01, 0.7530487804878048, 0.7530487804878048, 6.161834239959717], [10, 751, 0.010456349856138948, 0.7545731707317073, 0.7545731707317073, 9.832323932647705], [9, 556, 0.014094775557975212, 0.7576219512195121, 0.7576219512195121, 9.080123209953308], [12, 838, 0.01, 0.7530487804878048, 0.7530487804878048, 9.234201622009277], [10, 1000, 0.01, 0.7530487804878048, 0.7530487804878048, 7.00337586402893], [9, 753, 0.2179253314612768, 0.7332317073170732, 0.7332317073170732, 3.9184326171875], [8, 221, 0.17820824369843816, 0.7439024390243903, 0.7439024390243903, 1.8626875162124634], [10, 1000, 0.01, 0.7530487804878048, 0.7530487804878048, 11.747303700447082], [12, 1000, 0.01, 0.75, 0.75, 3.9632811546325684], [10, 483, 0.3623566268832016, 0.7347560975609757, 0.7347560975609757, 19.779944229125977], [12, 297, 0.1774970257873859, 0.7408536585365852, 0.7408536585365852, 1.7762154579162597]]\n",
            "started\n"
          ]
        },
        {
          "output_type": "stream",
          "name": "stderr",
          "text": [
            "INFO:mealpy.swarm_based.JA.OriginalJA:Solving single objective optimization problem.\n",
            "INFO:mealpy.swarm_based.JA.OriginalJA:>Problem: P, Epoch: 1, Current best: 0.7347560975609757, Global best: 0.7347560975609757, Runtime: 5.40764 seconds\n",
            "INFO:mealpy.swarm_based.JA.OriginalJA:>Problem: P, Epoch: 2, Current best: 0.7439024390243903, Global best: 0.7439024390243903, Runtime: 2.81969 seconds\n",
            "INFO:mealpy.swarm_based.JA.OriginalJA:>Problem: P, Epoch: 3, Current best: 0.7454268292682927, Global best: 0.7454268292682927, Runtime: 4.25030 seconds\n",
            "INFO:mealpy.swarm_based.JA.OriginalJA:>Problem: P, Epoch: 4, Current best: 0.7484756097560976, Global best: 0.7484756097560976, Runtime: 7.95253 seconds\n",
            "INFO:mealpy.swarm_based.JA.OriginalJA:>Problem: P, Epoch: 5, Current best: 0.7530487804878048, Global best: 0.7530487804878048, Runtime: 6.15209 seconds\n",
            "INFO:mealpy.swarm_based.JA.OriginalJA:>Problem: P, Epoch: 6, Current best: 0.7530487804878048, Global best: 0.7530487804878048, Runtime: 11.49449 seconds\n",
            "INFO:mealpy.swarm_based.JA.OriginalJA:>Problem: P, Epoch: 7, Current best: 0.7545731707317073, Global best: 0.7545731707317073, Runtime: 11.47094 seconds\n",
            "INFO:mealpy.swarm_based.JA.OriginalJA:>Problem: P, Epoch: 8, Current best: 0.7530487804878048, Global best: 0.7545731707317073, Runtime: 12.59827 seconds\n",
            "INFO:mealpy.swarm_based.JA.OriginalJA:>Problem: P, Epoch: 9, Current best: 0.7530487804878048, Global best: 0.7545731707317073, Runtime: 13.27107 seconds\n",
            "INFO:mealpy.swarm_based.JA.OriginalJA:>Problem: P, Epoch: 10, Current best: 0.75, Global best: 0.7545731707317073, Runtime: 13.14109 seconds\n",
            "INFO:mealpy.swarm_based.FOA.OriginalFOA:Solving single objective optimization problem.\n"
          ]
        },
        {
          "output_type": "stream",
          "name": "stdout",
          "text": [
            "['LevyES', 'JADE', 'OriginalFPA', 'OriginalFBIO', 'OriginalQSA', 'ImprovedQSA', 'OriginalTLO', 'OriginalAOA', 'OriginalCGO', 'OriginalGBO', 'OriginalPSS', 'OriginalSCA', 'OriginalArchOA', 'EnhancedTWO', 'EnhancedAEO', 'OriginalAEO', 'LevyTWO', 'OriginalMVO', 'AdaptiveEO', 'ModifiedEO', 'OriginalGCO', 'OriginalALO', 'OriginalAO', 'ModifiedBA', 'OriginalBA', 'OriginalBFO', 'WhaleFOA', 'OriginalJA'] [[9, 102, 0.9, 0.7088414634146342, 0.7088414634146342, 3.683679962158203], [11, 100, 0.10379182419578181, 0.7560975609756099, 0.7560975609756099, 2.76029109954834], [9, 1000, 0.011191866902417233, 0.75, 0.75, 6.135713887214661], [8, 105, 0.06788570363665233, 0.7652439024390245, 0.7652439024390245, 11.17553448677063], [10, 1000, 0.016051223033985762, 0.7576219512195121, 0.7576219512195121, 29.175256085395812], [8, 100, 0.18835955621218572, 0.760670731707317, 0.760670731707317, 15.659284162521363], [8, 100, 0.085784144603691, 0.7545731707317073, 0.7545731707317073, 5.743708515167237], [12, 966, 0.01, 0.7530487804878048, 0.7530487804878048, 11.049904227256775], [12, 749, 0.020154216677948894, 0.7560975609756099, 0.7560975609756099, 29.137100100517273], [9, 100, 0.056891606830706105, 0.7621951219512195, 0.7621951219512195, 5.287493014335633], [10, 947, 0.646075343, 0.7286585365853658, 0.7286585365853658, 3.2021466970443724], [10, 912, 0.015876347690752298, 0.7545731707317073, 0.7545731707317073, 7.785303521156311], [10, 617, 0.9, 0.7454268292682927, 0.7454268292682927, 4.30113046169281], [10, 998, 0.01, 0.7530487804878048, 0.7530487804878048, 35.57842907905579], [10, 776, 0.01000701406974951, 0.7545731707317073, 0.7545731707317073, 17.617431354522704], [12, 937, 0.01, 0.7545731707317073, 0.7545731707317073, 21.534763360023497], [9, 782, 0.01, 0.7530487804878048, 0.7530487804878048, 6.161834239959717], [10, 751, 0.010456349856138948, 0.7545731707317073, 0.7545731707317073, 9.832323932647705], [9, 556, 0.014094775557975212, 0.7576219512195121, 0.7576219512195121, 9.080123209953308], [12, 838, 0.01, 0.7530487804878048, 0.7530487804878048, 9.234201622009277], [10, 1000, 0.01, 0.7530487804878048, 0.7530487804878048, 7.00337586402893], [9, 753, 0.2179253314612768, 0.7332317073170732, 0.7332317073170732, 3.9184326171875], [8, 221, 0.17820824369843816, 0.7439024390243903, 0.7439024390243903, 1.8626875162124634], [10, 1000, 0.01, 0.7530487804878048, 0.7530487804878048, 11.747303700447082], [12, 1000, 0.01, 0.75, 0.75, 3.9632811546325684], [10, 483, 0.3623566268832016, 0.7347560975609757, 0.7347560975609757, 19.779944229125977], [12, 297, 0.1774970257873859, 0.7408536585365852, 0.7408536585365852, 1.7762154579162597], [12, 1000, 0.01, 0.75, 0.75, 9.109259438514709]]\n",
            "started\n"
          ]
        },
        {
          "output_type": "stream",
          "name": "stderr",
          "text": [
            "INFO:mealpy.swarm_based.FOA.OriginalFOA:>Problem: P, Epoch: 1, Current best: 0.7347560975609757, Global best: 0.7347560975609757, Runtime: 1.78414 seconds\n",
            "INFO:mealpy.swarm_based.FOA.OriginalFOA:>Problem: P, Epoch: 2, Current best: 0.7347560975609757, Global best: 0.7347560975609757, Runtime: 1.66885 seconds\n",
            "INFO:mealpy.swarm_based.FOA.OriginalFOA:>Problem: P, Epoch: 3, Current best: 0.7347560975609757, Global best: 0.7347560975609757, Runtime: 5.04662 seconds\n",
            "INFO:mealpy.swarm_based.FOA.OriginalFOA:>Problem: P, Epoch: 4, Current best: 0.7347560975609757, Global best: 0.7347560975609757, Runtime: 2.35935 seconds\n",
            "INFO:mealpy.swarm_based.FOA.OriginalFOA:>Problem: P, Epoch: 5, Current best: 0.7347560975609757, Global best: 0.7347560975609757, Runtime: 2.27560 seconds\n",
            "INFO:mealpy.swarm_based.FOA.OriginalFOA:>Problem: P, Epoch: 6, Current best: 0.7347560975609757, Global best: 0.7347560975609757, Runtime: 1.84861 seconds\n",
            "INFO:mealpy.swarm_based.FOA.OriginalFOA:>Problem: P, Epoch: 7, Current best: 0.7347560975609757, Global best: 0.7347560975609757, Runtime: 2.11331 seconds\n",
            "INFO:mealpy.swarm_based.FOA.OriginalFOA:>Problem: P, Epoch: 8, Current best: 0.7347560975609757, Global best: 0.7347560975609757, Runtime: 4.99569 seconds\n",
            "INFO:mealpy.swarm_based.FOA.OriginalFOA:>Problem: P, Epoch: 9, Current best: 0.7347560975609757, Global best: 0.7347560975609757, Runtime: 2.08273 seconds\n",
            "INFO:mealpy.swarm_based.FOA.OriginalFOA:>Problem: P, Epoch: 10, Current best: 0.7347560975609757, Global best: 0.7347560975609757, Runtime: 1.68722 seconds\n"
          ]
        },
        {
          "output_type": "stream",
          "name": "stdout",
          "text": [
            "['LevyES', 'JADE', 'OriginalFPA', 'OriginalFBIO', 'OriginalQSA', 'ImprovedQSA', 'OriginalTLO', 'OriginalAOA', 'OriginalCGO', 'OriginalGBO', 'OriginalPSS', 'OriginalSCA', 'OriginalArchOA', 'EnhancedTWO', 'EnhancedAEO', 'OriginalAEO', 'LevyTWO', 'OriginalMVO', 'AdaptiveEO', 'ModifiedEO', 'OriginalGCO', 'OriginalALO', 'OriginalAO', 'ModifiedBA', 'OriginalBA', 'OriginalBFO', 'WhaleFOA', 'OriginalJA', 'OriginalFOA'] [[9, 102, 0.9, 0.7088414634146342, 0.7088414634146342, 3.683679962158203], [11, 100, 0.10379182419578181, 0.7560975609756099, 0.7560975609756099, 2.76029109954834], [9, 1000, 0.011191866902417233, 0.75, 0.75, 6.135713887214661], [8, 105, 0.06788570363665233, 0.7652439024390245, 0.7652439024390245, 11.17553448677063], [10, 1000, 0.016051223033985762, 0.7576219512195121, 0.7576219512195121, 29.175256085395812], [8, 100, 0.18835955621218572, 0.760670731707317, 0.760670731707317, 15.659284162521363], [8, 100, 0.085784144603691, 0.7545731707317073, 0.7545731707317073, 5.743708515167237], [12, 966, 0.01, 0.7530487804878048, 0.7530487804878048, 11.049904227256775], [12, 749, 0.020154216677948894, 0.7560975609756099, 0.7560975609756099, 29.137100100517273], [9, 100, 0.056891606830706105, 0.7621951219512195, 0.7621951219512195, 5.287493014335633], [10, 947, 0.646075343, 0.7286585365853658, 0.7286585365853658, 3.2021466970443724], [10, 912, 0.015876347690752298, 0.7545731707317073, 0.7545731707317073, 7.785303521156311], [10, 617, 0.9, 0.7454268292682927, 0.7454268292682927, 4.30113046169281], [10, 998, 0.01, 0.7530487804878048, 0.7530487804878048, 35.57842907905579], [10, 776, 0.01000701406974951, 0.7545731707317073, 0.7545731707317073, 17.617431354522704], [12, 937, 0.01, 0.7545731707317073, 0.7545731707317073, 21.534763360023497], [9, 782, 0.01, 0.7530487804878048, 0.7530487804878048, 6.161834239959717], [10, 751, 0.010456349856138948, 0.7545731707317073, 0.7545731707317073, 9.832323932647705], [9, 556, 0.014094775557975212, 0.7576219512195121, 0.7576219512195121, 9.080123209953308], [12, 838, 0.01, 0.7530487804878048, 0.7530487804878048, 9.234201622009277], [10, 1000, 0.01, 0.7530487804878048, 0.7530487804878048, 7.00337586402893], [9, 753, 0.2179253314612768, 0.7332317073170732, 0.7332317073170732, 3.9184326171875], [8, 221, 0.17820824369843816, 0.7439024390243903, 0.7439024390243903, 1.8626875162124634], [10, 1000, 0.01, 0.7530487804878048, 0.7530487804878048, 11.747303700447082], [12, 1000, 0.01, 0.75, 0.75, 3.9632811546325684], [10, 483, 0.3623566268832016, 0.7347560975609757, 0.7347560975609757, 19.779944229125977], [12, 297, 0.1774970257873859, 0.7408536585365852, 0.7408536585365852, 1.7762154579162597], [12, 1000, 0.01, 0.75, 0.75, 9.109259438514709], [12, 400, 0.9, 0.7347560975609757, 0.7347560975609757, 2.7919875621795653]]\n"
          ]
        }
      ]
    },
    {
      "cell_type": "code",
      "source": [
        "np =pd.DataFrame()\n",
        "for i,j in zip(n,p):\n",
        "    np[i] = j"
      ],
      "metadata": {
        "id": "7R1J0Kv_TRtu"
      },
      "execution_count": 78,
      "outputs": []
    },
    {
      "cell_type": "code",
      "source": [
        "np = np.T"
      ],
      "metadata": {
        "id": "kESmVe-LT12r"
      },
      "execution_count": 81,
      "outputs": []
    },
    {
      "cell_type": "code",
      "source": [
        "np.columns = ['Max Dept','N Stimator','Learning Rate','Best Accuracy','Best Accuracy 2','time']"
      ],
      "metadata": {
        "id": "XtpW76cTj_Ta"
      },
      "execution_count": 83,
      "outputs": []
    },
    {
      "cell_type": "code",
      "source": [
        "np.sort_values(by='time')"
      ],
      "metadata": {
        "colab": {
          "base_uri": "https://localhost:8080/",
          "height": 959
        },
        "id": "NKgOLlD1kIeu",
        "outputId": "d10c108c-ad70-4964-da76-0e22191335a5"
      },
      "execution_count": 90,
      "outputs": [
        {
          "output_type": "execute_result",
          "data": {
            "text/plain": [
              "                Max Dept  N Stimator  Learning Rate  Best Accuracy  \\\n",
              "WhaleFOA            12.0       297.0       0.177497       0.740854   \n",
              "OriginalAO           8.0       221.0       0.178208       0.743902   \n",
              "JADE                11.0       100.0       0.103792       0.756098   \n",
              "OriginalFOA         12.0       400.0       0.900000       0.734756   \n",
              "OriginalPSS         10.0       947.0       0.646075       0.728659   \n",
              "LevyES               9.0       102.0       0.900000       0.708841   \n",
              "OriginalALO          9.0       753.0       0.217925       0.733232   \n",
              "OriginalBA          12.0      1000.0       0.010000       0.750000   \n",
              "OriginalArchOA      10.0       617.0       0.900000       0.745427   \n",
              "OriginalGBO          9.0       100.0       0.056892       0.762195   \n",
              "OriginalTLO          8.0       100.0       0.085784       0.754573   \n",
              "OriginalFPA          9.0      1000.0       0.011192       0.750000   \n",
              "LevyTWO              9.0       782.0       0.010000       0.753049   \n",
              "OriginalGCO         10.0      1000.0       0.010000       0.753049   \n",
              "OriginalSCA         10.0       912.0       0.015876       0.754573   \n",
              "AdaptiveEO           9.0       556.0       0.014095       0.757622   \n",
              "OriginalJA          12.0      1000.0       0.010000       0.750000   \n",
              "ModifiedEO          12.0       838.0       0.010000       0.753049   \n",
              "OriginalMVO         10.0       751.0       0.010456       0.754573   \n",
              "OriginalAOA         12.0       966.0       0.010000       0.753049   \n",
              "OriginalFBIO         8.0       105.0       0.067886       0.765244   \n",
              "ModifiedBA          10.0      1000.0       0.010000       0.753049   \n",
              "ImprovedQSA          8.0       100.0       0.188360       0.760671   \n",
              "EnhancedAEO         10.0       776.0       0.010007       0.754573   \n",
              "OriginalBFO         10.0       483.0       0.362357       0.734756   \n",
              "OriginalAEO         12.0       937.0       0.010000       0.754573   \n",
              "OriginalCGO         12.0       749.0       0.020154       0.756098   \n",
              "OriginalQSA         10.0      1000.0       0.016051       0.757622   \n",
              "EnhancedTWO         10.0       998.0       0.010000       0.753049   \n",
              "\n",
              "                Best Accuracy 2       time  \n",
              "WhaleFOA               0.740854   1.776215  \n",
              "OriginalAO             0.743902   1.862688  \n",
              "JADE                   0.756098   2.760291  \n",
              "OriginalFOA            0.734756   2.791988  \n",
              "OriginalPSS            0.728659   3.202147  \n",
              "LevyES                 0.708841   3.683680  \n",
              "OriginalALO            0.733232   3.918433  \n",
              "OriginalBA             0.750000   3.963281  \n",
              "OriginalArchOA         0.745427   4.301130  \n",
              "OriginalGBO            0.762195   5.287493  \n",
              "OriginalTLO            0.754573   5.743709  \n",
              "OriginalFPA            0.750000   6.135714  \n",
              "LevyTWO                0.753049   6.161834  \n",
              "OriginalGCO            0.753049   7.003376  \n",
              "OriginalSCA            0.754573   7.785304  \n",
              "AdaptiveEO             0.757622   9.080123  \n",
              "OriginalJA             0.750000   9.109259  \n",
              "ModifiedEO             0.753049   9.234202  \n",
              "OriginalMVO            0.754573   9.832324  \n",
              "OriginalAOA            0.753049  11.049904  \n",
              "OriginalFBIO           0.765244  11.175534  \n",
              "ModifiedBA             0.753049  11.747304  \n",
              "ImprovedQSA            0.760671  15.659284  \n",
              "EnhancedAEO            0.754573  17.617431  \n",
              "OriginalBFO            0.734756  19.779944  \n",
              "OriginalAEO            0.754573  21.534763  \n",
              "OriginalCGO            0.756098  29.137100  \n",
              "OriginalQSA            0.757622  29.175256  \n",
              "EnhancedTWO            0.753049  35.578429  "
            ],
            "text/html": [
              "\n",
              "\n",
              "  <div id=\"df-8b20a9e7-1567-4a2e-acf3-f63c94ad6dd9\">\n",
              "    <div class=\"colab-df-container\">\n",
              "      <div>\n",
              "<style scoped>\n",
              "    .dataframe tbody tr th:only-of-type {\n",
              "        vertical-align: middle;\n",
              "    }\n",
              "\n",
              "    .dataframe tbody tr th {\n",
              "        vertical-align: top;\n",
              "    }\n",
              "\n",
              "    .dataframe thead th {\n",
              "        text-align: right;\n",
              "    }\n",
              "</style>\n",
              "<table border=\"1\" class=\"dataframe\">\n",
              "  <thead>\n",
              "    <tr style=\"text-align: right;\">\n",
              "      <th></th>\n",
              "      <th>Max Dept</th>\n",
              "      <th>N Stimator</th>\n",
              "      <th>Learning Rate</th>\n",
              "      <th>Best Accuracy</th>\n",
              "      <th>Best Accuracy 2</th>\n",
              "      <th>time</th>\n",
              "    </tr>\n",
              "  </thead>\n",
              "  <tbody>\n",
              "    <tr>\n",
              "      <th>WhaleFOA</th>\n",
              "      <td>12.0</td>\n",
              "      <td>297.0</td>\n",
              "      <td>0.177497</td>\n",
              "      <td>0.740854</td>\n",
              "      <td>0.740854</td>\n",
              "      <td>1.776215</td>\n",
              "    </tr>\n",
              "    <tr>\n",
              "      <th>OriginalAO</th>\n",
              "      <td>8.0</td>\n",
              "      <td>221.0</td>\n",
              "      <td>0.178208</td>\n",
              "      <td>0.743902</td>\n",
              "      <td>0.743902</td>\n",
              "      <td>1.862688</td>\n",
              "    </tr>\n",
              "    <tr>\n",
              "      <th>JADE</th>\n",
              "      <td>11.0</td>\n",
              "      <td>100.0</td>\n",
              "      <td>0.103792</td>\n",
              "      <td>0.756098</td>\n",
              "      <td>0.756098</td>\n",
              "      <td>2.760291</td>\n",
              "    </tr>\n",
              "    <tr>\n",
              "      <th>OriginalFOA</th>\n",
              "      <td>12.0</td>\n",
              "      <td>400.0</td>\n",
              "      <td>0.900000</td>\n",
              "      <td>0.734756</td>\n",
              "      <td>0.734756</td>\n",
              "      <td>2.791988</td>\n",
              "    </tr>\n",
              "    <tr>\n",
              "      <th>OriginalPSS</th>\n",
              "      <td>10.0</td>\n",
              "      <td>947.0</td>\n",
              "      <td>0.646075</td>\n",
              "      <td>0.728659</td>\n",
              "      <td>0.728659</td>\n",
              "      <td>3.202147</td>\n",
              "    </tr>\n",
              "    <tr>\n",
              "      <th>LevyES</th>\n",
              "      <td>9.0</td>\n",
              "      <td>102.0</td>\n",
              "      <td>0.900000</td>\n",
              "      <td>0.708841</td>\n",
              "      <td>0.708841</td>\n",
              "      <td>3.683680</td>\n",
              "    </tr>\n",
              "    <tr>\n",
              "      <th>OriginalALO</th>\n",
              "      <td>9.0</td>\n",
              "      <td>753.0</td>\n",
              "      <td>0.217925</td>\n",
              "      <td>0.733232</td>\n",
              "      <td>0.733232</td>\n",
              "      <td>3.918433</td>\n",
              "    </tr>\n",
              "    <tr>\n",
              "      <th>OriginalBA</th>\n",
              "      <td>12.0</td>\n",
              "      <td>1000.0</td>\n",
              "      <td>0.010000</td>\n",
              "      <td>0.750000</td>\n",
              "      <td>0.750000</td>\n",
              "      <td>3.963281</td>\n",
              "    </tr>\n",
              "    <tr>\n",
              "      <th>OriginalArchOA</th>\n",
              "      <td>10.0</td>\n",
              "      <td>617.0</td>\n",
              "      <td>0.900000</td>\n",
              "      <td>0.745427</td>\n",
              "      <td>0.745427</td>\n",
              "      <td>4.301130</td>\n",
              "    </tr>\n",
              "    <tr>\n",
              "      <th>OriginalGBO</th>\n",
              "      <td>9.0</td>\n",
              "      <td>100.0</td>\n",
              "      <td>0.056892</td>\n",
              "      <td>0.762195</td>\n",
              "      <td>0.762195</td>\n",
              "      <td>5.287493</td>\n",
              "    </tr>\n",
              "    <tr>\n",
              "      <th>OriginalTLO</th>\n",
              "      <td>8.0</td>\n",
              "      <td>100.0</td>\n",
              "      <td>0.085784</td>\n",
              "      <td>0.754573</td>\n",
              "      <td>0.754573</td>\n",
              "      <td>5.743709</td>\n",
              "    </tr>\n",
              "    <tr>\n",
              "      <th>OriginalFPA</th>\n",
              "      <td>9.0</td>\n",
              "      <td>1000.0</td>\n",
              "      <td>0.011192</td>\n",
              "      <td>0.750000</td>\n",
              "      <td>0.750000</td>\n",
              "      <td>6.135714</td>\n",
              "    </tr>\n",
              "    <tr>\n",
              "      <th>LevyTWO</th>\n",
              "      <td>9.0</td>\n",
              "      <td>782.0</td>\n",
              "      <td>0.010000</td>\n",
              "      <td>0.753049</td>\n",
              "      <td>0.753049</td>\n",
              "      <td>6.161834</td>\n",
              "    </tr>\n",
              "    <tr>\n",
              "      <th>OriginalGCO</th>\n",
              "      <td>10.0</td>\n",
              "      <td>1000.0</td>\n",
              "      <td>0.010000</td>\n",
              "      <td>0.753049</td>\n",
              "      <td>0.753049</td>\n",
              "      <td>7.003376</td>\n",
              "    </tr>\n",
              "    <tr>\n",
              "      <th>OriginalSCA</th>\n",
              "      <td>10.0</td>\n",
              "      <td>912.0</td>\n",
              "      <td>0.015876</td>\n",
              "      <td>0.754573</td>\n",
              "      <td>0.754573</td>\n",
              "      <td>7.785304</td>\n",
              "    </tr>\n",
              "    <tr>\n",
              "      <th>AdaptiveEO</th>\n",
              "      <td>9.0</td>\n",
              "      <td>556.0</td>\n",
              "      <td>0.014095</td>\n",
              "      <td>0.757622</td>\n",
              "      <td>0.757622</td>\n",
              "      <td>9.080123</td>\n",
              "    </tr>\n",
              "    <tr>\n",
              "      <th>OriginalJA</th>\n",
              "      <td>12.0</td>\n",
              "      <td>1000.0</td>\n",
              "      <td>0.010000</td>\n",
              "      <td>0.750000</td>\n",
              "      <td>0.750000</td>\n",
              "      <td>9.109259</td>\n",
              "    </tr>\n",
              "    <tr>\n",
              "      <th>ModifiedEO</th>\n",
              "      <td>12.0</td>\n",
              "      <td>838.0</td>\n",
              "      <td>0.010000</td>\n",
              "      <td>0.753049</td>\n",
              "      <td>0.753049</td>\n",
              "      <td>9.234202</td>\n",
              "    </tr>\n",
              "    <tr>\n",
              "      <th>OriginalMVO</th>\n",
              "      <td>10.0</td>\n",
              "      <td>751.0</td>\n",
              "      <td>0.010456</td>\n",
              "      <td>0.754573</td>\n",
              "      <td>0.754573</td>\n",
              "      <td>9.832324</td>\n",
              "    </tr>\n",
              "    <tr>\n",
              "      <th>OriginalAOA</th>\n",
              "      <td>12.0</td>\n",
              "      <td>966.0</td>\n",
              "      <td>0.010000</td>\n",
              "      <td>0.753049</td>\n",
              "      <td>0.753049</td>\n",
              "      <td>11.049904</td>\n",
              "    </tr>\n",
              "    <tr>\n",
              "      <th>OriginalFBIO</th>\n",
              "      <td>8.0</td>\n",
              "      <td>105.0</td>\n",
              "      <td>0.067886</td>\n",
              "      <td>0.765244</td>\n",
              "      <td>0.765244</td>\n",
              "      <td>11.175534</td>\n",
              "    </tr>\n",
              "    <tr>\n",
              "      <th>ModifiedBA</th>\n",
              "      <td>10.0</td>\n",
              "      <td>1000.0</td>\n",
              "      <td>0.010000</td>\n",
              "      <td>0.753049</td>\n",
              "      <td>0.753049</td>\n",
              "      <td>11.747304</td>\n",
              "    </tr>\n",
              "    <tr>\n",
              "      <th>ImprovedQSA</th>\n",
              "      <td>8.0</td>\n",
              "      <td>100.0</td>\n",
              "      <td>0.188360</td>\n",
              "      <td>0.760671</td>\n",
              "      <td>0.760671</td>\n",
              "      <td>15.659284</td>\n",
              "    </tr>\n",
              "    <tr>\n",
              "      <th>EnhancedAEO</th>\n",
              "      <td>10.0</td>\n",
              "      <td>776.0</td>\n",
              "      <td>0.010007</td>\n",
              "      <td>0.754573</td>\n",
              "      <td>0.754573</td>\n",
              "      <td>17.617431</td>\n",
              "    </tr>\n",
              "    <tr>\n",
              "      <th>OriginalBFO</th>\n",
              "      <td>10.0</td>\n",
              "      <td>483.0</td>\n",
              "      <td>0.362357</td>\n",
              "      <td>0.734756</td>\n",
              "      <td>0.734756</td>\n",
              "      <td>19.779944</td>\n",
              "    </tr>\n",
              "    <tr>\n",
              "      <th>OriginalAEO</th>\n",
              "      <td>12.0</td>\n",
              "      <td>937.0</td>\n",
              "      <td>0.010000</td>\n",
              "      <td>0.754573</td>\n",
              "      <td>0.754573</td>\n",
              "      <td>21.534763</td>\n",
              "    </tr>\n",
              "    <tr>\n",
              "      <th>OriginalCGO</th>\n",
              "      <td>12.0</td>\n",
              "      <td>749.0</td>\n",
              "      <td>0.020154</td>\n",
              "      <td>0.756098</td>\n",
              "      <td>0.756098</td>\n",
              "      <td>29.137100</td>\n",
              "    </tr>\n",
              "    <tr>\n",
              "      <th>OriginalQSA</th>\n",
              "      <td>10.0</td>\n",
              "      <td>1000.0</td>\n",
              "      <td>0.016051</td>\n",
              "      <td>0.757622</td>\n",
              "      <td>0.757622</td>\n",
              "      <td>29.175256</td>\n",
              "    </tr>\n",
              "    <tr>\n",
              "      <th>EnhancedTWO</th>\n",
              "      <td>10.0</td>\n",
              "      <td>998.0</td>\n",
              "      <td>0.010000</td>\n",
              "      <td>0.753049</td>\n",
              "      <td>0.753049</td>\n",
              "      <td>35.578429</td>\n",
              "    </tr>\n",
              "  </tbody>\n",
              "</table>\n",
              "</div>\n",
              "      <button class=\"colab-df-convert\" onclick=\"convertToInteractive('df-8b20a9e7-1567-4a2e-acf3-f63c94ad6dd9')\"\n",
              "              title=\"Convert this dataframe to an interactive table.\"\n",
              "              style=\"display:none;\">\n",
              "\n",
              "  <svg xmlns=\"http://www.w3.org/2000/svg\" height=\"24px\"viewBox=\"0 0 24 24\"\n",
              "       width=\"24px\">\n",
              "    <path d=\"M0 0h24v24H0V0z\" fill=\"none\"/>\n",
              "    <path d=\"M18.56 5.44l.94 2.06.94-2.06 2.06-.94-2.06-.94-.94-2.06-.94 2.06-2.06.94zm-11 1L8.5 8.5l.94-2.06 2.06-.94-2.06-.94L8.5 2.5l-.94 2.06-2.06.94zm10 10l.94 2.06.94-2.06 2.06-.94-2.06-.94-.94-2.06-.94 2.06-2.06.94z\"/><path d=\"M17.41 7.96l-1.37-1.37c-.4-.4-.92-.59-1.43-.59-.52 0-1.04.2-1.43.59L10.3 9.45l-7.72 7.72c-.78.78-.78 2.05 0 2.83L4 21.41c.39.39.9.59 1.41.59.51 0 1.02-.2 1.41-.59l7.78-7.78 2.81-2.81c.8-.78.8-2.07 0-2.86zM5.41 20L4 18.59l7.72-7.72 1.47 1.35L5.41 20z\"/>\n",
              "  </svg>\n",
              "      </button>\n",
              "\n",
              "\n",
              "\n",
              "    <div id=\"df-26fbc161-9a82-4e11-a2bd-3a10144c084c\">\n",
              "      <button class=\"colab-df-quickchart\" onclick=\"quickchart('df-26fbc161-9a82-4e11-a2bd-3a10144c084c')\"\n",
              "              title=\"Suggest charts.\"\n",
              "              style=\"display:none;\">\n",
              "\n",
              "<svg xmlns=\"http://www.w3.org/2000/svg\" height=\"24px\"viewBox=\"0 0 24 24\"\n",
              "     width=\"24px\">\n",
              "    <g>\n",
              "        <path d=\"M19 3H5c-1.1 0-2 .9-2 2v14c0 1.1.9 2 2 2h14c1.1 0 2-.9 2-2V5c0-1.1-.9-2-2-2zM9 17H7v-7h2v7zm4 0h-2V7h2v10zm4 0h-2v-4h2v4z\"/>\n",
              "    </g>\n",
              "</svg>\n",
              "      </button>\n",
              "    </div>\n",
              "\n",
              "<style>\n",
              "  .colab-df-quickchart {\n",
              "    background-color: #E8F0FE;\n",
              "    border: none;\n",
              "    border-radius: 50%;\n",
              "    cursor: pointer;\n",
              "    display: none;\n",
              "    fill: #1967D2;\n",
              "    height: 32px;\n",
              "    padding: 0 0 0 0;\n",
              "    width: 32px;\n",
              "  }\n",
              "\n",
              "  .colab-df-quickchart:hover {\n",
              "    background-color: #E2EBFA;\n",
              "    box-shadow: 0px 1px 2px rgba(60, 64, 67, 0.3), 0px 1px 3px 1px rgba(60, 64, 67, 0.15);\n",
              "    fill: #174EA6;\n",
              "  }\n",
              "\n",
              "  [theme=dark] .colab-df-quickchart {\n",
              "    background-color: #3B4455;\n",
              "    fill: #D2E3FC;\n",
              "  }\n",
              "\n",
              "  [theme=dark] .colab-df-quickchart:hover {\n",
              "    background-color: #434B5C;\n",
              "    box-shadow: 0px 1px 3px 1px rgba(0, 0, 0, 0.15);\n",
              "    filter: drop-shadow(0px 1px 2px rgba(0, 0, 0, 0.3));\n",
              "    fill: #FFFFFF;\n",
              "  }\n",
              "</style>\n",
              "\n",
              "    <script>\n",
              "      async function quickchart(key) {\n",
              "        const containerElement = document.querySelector('#' + key);\n",
              "        const charts = await google.colab.kernel.invokeFunction(\n",
              "            'suggestCharts', [key], {});\n",
              "      }\n",
              "    </script>\n",
              "\n",
              "      <script>\n",
              "\n",
              "function displayQuickchartButton(domScope) {\n",
              "  let quickchartButtonEl =\n",
              "    domScope.querySelector('#df-26fbc161-9a82-4e11-a2bd-3a10144c084c button.colab-df-quickchart');\n",
              "  quickchartButtonEl.style.display =\n",
              "    google.colab.kernel.accessAllowed ? 'block' : 'none';\n",
              "}\n",
              "\n",
              "        displayQuickchartButton(document);\n",
              "      </script>\n",
              "      <style>\n",
              "    .colab-df-container {\n",
              "      display:flex;\n",
              "      flex-wrap:wrap;\n",
              "      gap: 12px;\n",
              "    }\n",
              "\n",
              "    .colab-df-convert {\n",
              "      background-color: #E8F0FE;\n",
              "      border: none;\n",
              "      border-radius: 50%;\n",
              "      cursor: pointer;\n",
              "      display: none;\n",
              "      fill: #1967D2;\n",
              "      height: 32px;\n",
              "      padding: 0 0 0 0;\n",
              "      width: 32px;\n",
              "    }\n",
              "\n",
              "    .colab-df-convert:hover {\n",
              "      background-color: #E2EBFA;\n",
              "      box-shadow: 0px 1px 2px rgba(60, 64, 67, 0.3), 0px 1px 3px 1px rgba(60, 64, 67, 0.15);\n",
              "      fill: #174EA6;\n",
              "    }\n",
              "\n",
              "    [theme=dark] .colab-df-convert {\n",
              "      background-color: #3B4455;\n",
              "      fill: #D2E3FC;\n",
              "    }\n",
              "\n",
              "    [theme=dark] .colab-df-convert:hover {\n",
              "      background-color: #434B5C;\n",
              "      box-shadow: 0px 1px 3px 1px rgba(0, 0, 0, 0.15);\n",
              "      filter: drop-shadow(0px 1px 2px rgba(0, 0, 0, 0.3));\n",
              "      fill: #FFFFFF;\n",
              "    }\n",
              "  </style>\n",
              "\n",
              "      <script>\n",
              "        const buttonEl =\n",
              "          document.querySelector('#df-8b20a9e7-1567-4a2e-acf3-f63c94ad6dd9 button.colab-df-convert');\n",
              "        buttonEl.style.display =\n",
              "          google.colab.kernel.accessAllowed ? 'block' : 'none';\n",
              "\n",
              "        async function convertToInteractive(key) {\n",
              "          const element = document.querySelector('#df-8b20a9e7-1567-4a2e-acf3-f63c94ad6dd9');\n",
              "          const dataTable =\n",
              "            await google.colab.kernel.invokeFunction('convertToInteractive',\n",
              "                                                     [key], {});\n",
              "          if (!dataTable) return;\n",
              "\n",
              "          const docLinkHtml = 'Like what you see? Visit the ' +\n",
              "            '<a target=\"_blank\" href=https://colab.research.google.com/notebooks/data_table.ipynb>data table notebook</a>'\n",
              "            + ' to learn more about interactive tables.';\n",
              "          element.innerHTML = '';\n",
              "          dataTable['output_type'] = 'display_data';\n",
              "          await google.colab.output.renderOutput(dataTable, element);\n",
              "          const docLink = document.createElement('div');\n",
              "          docLink.innerHTML = docLinkHtml;\n",
              "          element.appendChild(docLink);\n",
              "        }\n",
              "      </script>\n",
              "    </div>\n",
              "  </div>\n"
            ]
          },
          "metadata": {},
          "execution_count": 90
        }
      ]
    }
  ]
}