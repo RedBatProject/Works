{
  "cells": [
    {
      "cell_type": "markdown",
      "metadata": {
        "id": "view-in-github",
        "colab_type": "text"
      },
      "source": [
        "<a href=\"https://colab.research.google.com/github/RedBatProject/Works/blob/main/work_46_rumor.ipynb\" target=\"_parent\"><img src=\"https://colab.research.google.com/assets/colab-badge.svg\" alt=\"Open In Colab\"/></a>"
      ]
    },
    {
      "cell_type": "markdown",
      "metadata": {
        "id": "41rWj4DI8ak1"
      },
      "source": [
        "# Imports"
      ]
    },
    {
      "cell_type": "code",
      "execution_count": null,
      "metadata": {
        "id": "hvVumHzzyM0B"
      },
      "outputs": [],
      "source": [
        "!pip install transformers"
      ]
    },
    {
      "cell_type": "code",
      "execution_count": 104,
      "metadata": {
        "execution": {
          "iopub.execute_input": "2023-07-10T19:17:36.932121Z",
          "iopub.status.busy": "2023-07-10T19:17:36.931301Z",
          "iopub.status.idle": "2023-07-10T19:17:43.610945Z",
          "shell.execute_reply": "2023-07-10T19:17:43.609849Z",
          "shell.execute_reply.started": "2023-07-10T19:17:36.932083Z"
        },
        "id": "nk_ca4ABsdNq"
      },
      "outputs": [],
      "source": [
        "import pandas as pd\n",
        "import seaborn as sns\n",
        "import matplotlib.pyplot as plt\n",
        "import nltk\n",
        "import numpy as np\n",
        "from PIL import Image\n",
        "from wordcloud import WordCloud,STOPWORDS\n",
        "from collections import Counter\n",
        "from itertools import chain\n",
        "import tensorflow as tf\n",
        "# from transformers import XLNetTokenizer, TFXLNetForSequenceClassification\n",
        "# from transformers import XLNetTokenizer, TFXLNetModel\n",
        "from sklearn.model_selection import train_test_split\n",
        "from tensorflow.keras.optimizers import Adam\n",
        "from sklearn.metrics import confusion_matrix,classification_report\n",
        "from sklearn.metrics import roc_curve, auc, precision_recall_curve,average_precision_score\n",
        "from sklearn.metrics import roc_auc_score\n",
        "from sklearn.metrics import cohen_kappa_score, matthews_corrcoef, log_loss\n",
        "from tensorflow.keras.callbacks import EarlyStopping,ReduceLROnPlateau\n",
        "from tensorflow.keras.utils import plot_model\n",
        "%matplotlib inline"
      ]
    },
    {
      "cell_type": "markdown",
      "metadata": {
        "id": "kEwz4MtDsdNu"
      },
      "source": [
        "# Load Data"
      ]
    },
    {
      "cell_type": "code",
      "execution_count": null,
      "metadata": {
        "colab": {
          "base_uri": "https://localhost:8080/",
          "height": 92
        },
        "id": "Z7nlpDQQowJS",
        "outputId": "d623e873-f768-43a5-c0b8-2806808e8974"
      },
      "outputs": [
        {
          "output_type": "display_data",
          "data": {
            "text/plain": [
              "<IPython.core.display.HTML object>"
            ],
            "text/html": [
              "\n",
              "     <input type=\"file\" id=\"files-61807ea0-f7b0-468a-a215-2e0f1d3cd7e6\" name=\"files[]\" multiple disabled\n",
              "        style=\"border:none\" />\n",
              "     <output id=\"result-61807ea0-f7b0-468a-a215-2e0f1d3cd7e6\">\n",
              "      Upload widget is only available when the cell has been executed in the\n",
              "      current browser session. Please rerun this cell to enable.\n",
              "      </output>\n",
              "      <script>// Copyright 2017 Google LLC\n",
              "//\n",
              "// Licensed under the Apache License, Version 2.0 (the \"License\");\n",
              "// you may not use this file except in compliance with the License.\n",
              "// You may obtain a copy of the License at\n",
              "//\n",
              "//      http://www.apache.org/licenses/LICENSE-2.0\n",
              "//\n",
              "// Unless required by applicable law or agreed to in writing, software\n",
              "// distributed under the License is distributed on an \"AS IS\" BASIS,\n",
              "// WITHOUT WARRANTIES OR CONDITIONS OF ANY KIND, either express or implied.\n",
              "// See the License for the specific language governing permissions and\n",
              "// limitations under the License.\n",
              "\n",
              "/**\n",
              " * @fileoverview Helpers for google.colab Python module.\n",
              " */\n",
              "(function(scope) {\n",
              "function span(text, styleAttributes = {}) {\n",
              "  const element = document.createElement('span');\n",
              "  element.textContent = text;\n",
              "  for (const key of Object.keys(styleAttributes)) {\n",
              "    element.style[key] = styleAttributes[key];\n",
              "  }\n",
              "  return element;\n",
              "}\n",
              "\n",
              "// Max number of bytes which will be uploaded at a time.\n",
              "const MAX_PAYLOAD_SIZE = 100 * 1024;\n",
              "\n",
              "function _uploadFiles(inputId, outputId) {\n",
              "  const steps = uploadFilesStep(inputId, outputId);\n",
              "  const outputElement = document.getElementById(outputId);\n",
              "  // Cache steps on the outputElement to make it available for the next call\n",
              "  // to uploadFilesContinue from Python.\n",
              "  outputElement.steps = steps;\n",
              "\n",
              "  return _uploadFilesContinue(outputId);\n",
              "}\n",
              "\n",
              "// This is roughly an async generator (not supported in the browser yet),\n",
              "// where there are multiple asynchronous steps and the Python side is going\n",
              "// to poll for completion of each step.\n",
              "// This uses a Promise to block the python side on completion of each step,\n",
              "// then passes the result of the previous step as the input to the next step.\n",
              "function _uploadFilesContinue(outputId) {\n",
              "  const outputElement = document.getElementById(outputId);\n",
              "  const steps = outputElement.steps;\n",
              "\n",
              "  const next = steps.next(outputElement.lastPromiseValue);\n",
              "  return Promise.resolve(next.value.promise).then((value) => {\n",
              "    // Cache the last promise value to make it available to the next\n",
              "    // step of the generator.\n",
              "    outputElement.lastPromiseValue = value;\n",
              "    return next.value.response;\n",
              "  });\n",
              "}\n",
              "\n",
              "/**\n",
              " * Generator function which is called between each async step of the upload\n",
              " * process.\n",
              " * @param {string} inputId Element ID of the input file picker element.\n",
              " * @param {string} outputId Element ID of the output display.\n",
              " * @return {!Iterable<!Object>} Iterable of next steps.\n",
              " */\n",
              "function* uploadFilesStep(inputId, outputId) {\n",
              "  const inputElement = document.getElementById(inputId);\n",
              "  inputElement.disabled = false;\n",
              "\n",
              "  const outputElement = document.getElementById(outputId);\n",
              "  outputElement.innerHTML = '';\n",
              "\n",
              "  const pickedPromise = new Promise((resolve) => {\n",
              "    inputElement.addEventListener('change', (e) => {\n",
              "      resolve(e.target.files);\n",
              "    });\n",
              "  });\n",
              "\n",
              "  const cancel = document.createElement('button');\n",
              "  inputElement.parentElement.appendChild(cancel);\n",
              "  cancel.textContent = 'Cancel upload';\n",
              "  const cancelPromise = new Promise((resolve) => {\n",
              "    cancel.onclick = () => {\n",
              "      resolve(null);\n",
              "    };\n",
              "  });\n",
              "\n",
              "  // Wait for the user to pick the files.\n",
              "  const files = yield {\n",
              "    promise: Promise.race([pickedPromise, cancelPromise]),\n",
              "    response: {\n",
              "      action: 'starting',\n",
              "    }\n",
              "  };\n",
              "\n",
              "  cancel.remove();\n",
              "\n",
              "  // Disable the input element since further picks are not allowed.\n",
              "  inputElement.disabled = true;\n",
              "\n",
              "  if (!files) {\n",
              "    return {\n",
              "      response: {\n",
              "        action: 'complete',\n",
              "      }\n",
              "    };\n",
              "  }\n",
              "\n",
              "  for (const file of files) {\n",
              "    const li = document.createElement('li');\n",
              "    li.append(span(file.name, {fontWeight: 'bold'}));\n",
              "    li.append(span(\n",
              "        `(${file.type || 'n/a'}) - ${file.size} bytes, ` +\n",
              "        `last modified: ${\n",
              "            file.lastModifiedDate ? file.lastModifiedDate.toLocaleDateString() :\n",
              "                                    'n/a'} - `));\n",
              "    const percent = span('0% done');\n",
              "    li.appendChild(percent);\n",
              "\n",
              "    outputElement.appendChild(li);\n",
              "\n",
              "    const fileDataPromise = new Promise((resolve) => {\n",
              "      const reader = new FileReader();\n",
              "      reader.onload = (e) => {\n",
              "        resolve(e.target.result);\n",
              "      };\n",
              "      reader.readAsArrayBuffer(file);\n",
              "    });\n",
              "    // Wait for the data to be ready.\n",
              "    let fileData = yield {\n",
              "      promise: fileDataPromise,\n",
              "      response: {\n",
              "        action: 'continue',\n",
              "      }\n",
              "    };\n",
              "\n",
              "    // Use a chunked sending to avoid message size limits. See b/62115660.\n",
              "    let position = 0;\n",
              "    do {\n",
              "      const length = Math.min(fileData.byteLength - position, MAX_PAYLOAD_SIZE);\n",
              "      const chunk = new Uint8Array(fileData, position, length);\n",
              "      position += length;\n",
              "\n",
              "      const base64 = btoa(String.fromCharCode.apply(null, chunk));\n",
              "      yield {\n",
              "        response: {\n",
              "          action: 'append',\n",
              "          file: file.name,\n",
              "          data: base64,\n",
              "        },\n",
              "      };\n",
              "\n",
              "      let percentDone = fileData.byteLength === 0 ?\n",
              "          100 :\n",
              "          Math.round((position / fileData.byteLength) * 100);\n",
              "      percent.textContent = `${percentDone}% done`;\n",
              "\n",
              "    } while (position < fileData.byteLength);\n",
              "  }\n",
              "\n",
              "  // All done.\n",
              "  yield {\n",
              "    response: {\n",
              "      action: 'complete',\n",
              "    }\n",
              "  };\n",
              "}\n",
              "\n",
              "scope.google = scope.google || {};\n",
              "scope.google.colab = scope.google.colab || {};\n",
              "scope.google.colab._files = {\n",
              "  _uploadFiles,\n",
              "  _uploadFilesContinue,\n",
              "};\n",
              "})(self);\n",
              "</script> "
            ]
          },
          "metadata": {}
        },
        {
          "output_type": "stream",
          "name": "stdout",
          "text": [
            "Saving kaggle.json to kaggle.json\n"
          ]
        },
        {
          "output_type": "execute_result",
          "data": {
            "text/plain": [
              "{'kaggle.json': b'{\"username\":\"willyvonka\",\"key\":\"2e9df042075e2ca80586e55c66c656a0\"}'}"
            ]
          },
          "metadata": {},
          "execution_count": 8
        }
      ],
      "source": [
        "!pip install -q kaggle\n",
        "from google.colab import files\n",
        "files.upload()\n"
      ]
    },
    {
      "cell_type": "code",
      "execution_count": null,
      "metadata": {
        "id": "p1nP4K5jmzUy",
        "colab": {
          "base_uri": "https://localhost:8080/"
        },
        "outputId": "ed37296a-4dca-4ceb-834c-06a95ddbd21d"
      },
      "outputs": [
        {
          "output_type": "stream",
          "name": "stdout",
          "text": [
            "mkdir: cannot create directory ‘/root/.kaggle’: File exists\n"
          ]
        }
      ],
      "source": [
        "!mkdir ~/.kaggle\n",
        "! cp kaggle.json ~/.kaggle/\n",
        "! chmod 600 ~/.kaggle/kaggle.json\n"
      ]
    },
    {
      "cell_type": "code",
      "execution_count": null,
      "metadata": {
        "colab": {
          "base_uri": "https://localhost:8080/"
        },
        "id": "yeweGELfzAOU",
        "outputId": "cdd7daad-aa6b-4656-cf6a-b48e4d7d5fb3"
      },
      "outputs": [
        {
          "output_type": "stream",
          "name": "stdout",
          "text": [
            "Downloading pheme-dataset-for-rumour-detection.zip to /content\n",
            "\r  0% 0.00/2.58M [00:00<?, ?B/s]\n",
            "\r100% 2.58M/2.58M [00:00<00:00, 86.8MB/s]\n"
          ]
        }
      ],
      "source": [
        "!kaggle datasets download -d nicolemichelle/pheme-dataset-for-rumour-detection"
      ]
    },
    {
      "cell_type": "code",
      "execution_count": null,
      "metadata": {
        "colab": {
          "base_uri": "https://localhost:8080/"
        },
        "id": "se1tVgSYzH8m",
        "outputId": "3f1e603f-ee65-4c02-a66b-1c19068982d5"
      },
      "outputs": [
        {
          "output_type": "stream",
          "name": "stdout",
          "text": [
            "Archive:  /content/pheme-dataset-for-rumour-detection.zip\n",
            "  inflating: dataset.csv             \n"
          ]
        }
      ],
      "source": [
        "!unzip /content/pheme-dataset-for-rumour-detection.zip"
      ]
    },
    {
      "cell_type": "markdown",
      "metadata": {
        "id": "Aif5jxDi8ShC"
      },
      "source": [
        "# Read Data"
      ]
    },
    {
      "cell_type": "code",
      "execution_count": 68,
      "metadata": {
        "id": "K9ewwZeOFcFf"
      },
      "outputs": [],
      "source": [
        "import os\n",
        "path0 = '/content/drive/MyDrive/work 46/'\n",
        "path = '/content/drive/MyDrive/work 46/results/'\n",
        "#\n",
        "# os.mkdir(path0)\n",
        "# os.mkdir(path)\n"
      ]
    },
    {
      "cell_type": "code",
      "execution_count": 1,
      "metadata": {
        "id": "JS-JxLEIzz5c",
        "colab": {
          "base_uri": "https://localhost:8080/"
        },
        "outputId": "8d558e8a-f779-4954-f774-75204d164326"
      },
      "outputs": [
        {
          "output_type": "stream",
          "name": "stdout",
          "text": [
            "Mounted at /content/drive\n"
          ]
        }
      ],
      "source": [
        "from google.colab import drive\n",
        "drive.mount('/content/drive')"
      ]
    },
    {
      "cell_type": "code",
      "source": [
        "!mv /content/dataset.csv '/content/drive/MyDrive/work 47/data.csv'"
      ],
      "metadata": {
        "id": "VDKcEwyNysHd"
      },
      "execution_count": null,
      "outputs": []
    },
    {
      "cell_type": "code",
      "execution_count": 4,
      "metadata": {
        "colab": {
          "base_uri": "https://localhost:8080/",
          "height": 196
        },
        "id": "7m_ddsISFrTE",
        "outputId": "bd60552c-4a14-4ec1-a516-551563a2eed1"
      },
      "outputs": [
        {
          "output_type": "error",
          "ename": "NameError",
          "evalue": "ignored",
          "traceback": [
            "\u001b[0;31m---------------------------------------------------------------------------\u001b[0m",
            "\u001b[0;31mNameError\u001b[0m                                 Traceback (most recent call last)",
            "\u001b[0;32m<ipython-input-4-fe9c822d1de2>\u001b[0m in \u001b[0;36m<cell line: 1>\u001b[0;34m()\u001b[0m\n\u001b[0;32m----> 1\u001b[0;31m \u001b[0mdf\u001b[0m\u001b[0;34m=\u001b[0m\u001b[0mpd\u001b[0m\u001b[0;34m.\u001b[0m\u001b[0mread_csv\u001b[0m\u001b[0;34m(\u001b[0m\u001b[0;34m\"/content/drive/MyDrive/work 46/data.csv\"\u001b[0m\u001b[0;34m)\u001b[0m\u001b[0;34m\u001b[0m\u001b[0;34m\u001b[0m\u001b[0m\n\u001b[0m\u001b[1;32m      2\u001b[0m \u001b[0mdf\u001b[0m\u001b[0;34m\u001b[0m\u001b[0;34m\u001b[0m\u001b[0m\n",
            "\u001b[0;31mNameError\u001b[0m: name 'pd' is not defined"
          ]
        }
      ],
      "source": [
        "df=pd.read_csv(\"/content/drive/MyDrive/work 46/data.csv\")\n",
        "df"
      ]
    },
    {
      "cell_type": "code",
      "execution_count": null,
      "metadata": {
        "colab": {
          "base_uri": "https://localhost:8080/",
          "height": 206
        },
        "execution": {
          "iopub.execute_input": "2023-07-10T19:17:43.809129Z",
          "iopub.status.busy": "2023-07-10T19:17:43.808737Z",
          "iopub.status.idle": "2023-07-10T19:17:43.83041Z",
          "shell.execute_reply": "2023-07-10T19:17:43.82927Z",
          "shell.execute_reply.started": "2023-07-10T19:17:43.809091Z"
        },
        "id": "byNWSEV9sdNw",
        "outputId": "85823b27-bd86-436c-9b7e-f45667db7ce7"
      },
      "outputs": [
        {
          "output_type": "execute_result",
          "data": {
            "text/plain": [
              "                                                text  is_rumor    user.handle  \\\n",
              "0  Charlie Hebdo became well known for publishing...       0.0     BBCDanielS   \n",
              "1  Now 10 dead in a shooting there today RT \"@BBC...       0.0      robbylevy   \n",
              "2  @BBCDanielS @BBCWorld I'm guessing this is bei...       0.0  ModerateInAll   \n",
              "3  @BBCDanielS @BBCWorld why would you mention th...       0.0    GabTarquini   \n",
              "4            @BBCDanielS @BBCWorld perps identified?       0.0  freethought41   \n",
              "\n",
              "          topic  \n",
              "0  charliehebdo  \n",
              "1  charliehebdo  \n",
              "2  charliehebdo  \n",
              "3  charliehebdo  \n",
              "4  charliehebdo  "
            ],
            "text/html": [
              "\n",
              "\n",
              "  <div id=\"df-49371329-6874-4d90-b988-d9cec6102ba4\">\n",
              "    <div class=\"colab-df-container\">\n",
              "      <div>\n",
              "<style scoped>\n",
              "    .dataframe tbody tr th:only-of-type {\n",
              "        vertical-align: middle;\n",
              "    }\n",
              "\n",
              "    .dataframe tbody tr th {\n",
              "        vertical-align: top;\n",
              "    }\n",
              "\n",
              "    .dataframe thead th {\n",
              "        text-align: right;\n",
              "    }\n",
              "</style>\n",
              "<table border=\"1\" class=\"dataframe\">\n",
              "  <thead>\n",
              "    <tr style=\"text-align: right;\">\n",
              "      <th></th>\n",
              "      <th>text</th>\n",
              "      <th>is_rumor</th>\n",
              "      <th>user.handle</th>\n",
              "      <th>topic</th>\n",
              "    </tr>\n",
              "  </thead>\n",
              "  <tbody>\n",
              "    <tr>\n",
              "      <th>0</th>\n",
              "      <td>Charlie Hebdo became well known for publishing...</td>\n",
              "      <td>0.0</td>\n",
              "      <td>BBCDanielS</td>\n",
              "      <td>charliehebdo</td>\n",
              "    </tr>\n",
              "    <tr>\n",
              "      <th>1</th>\n",
              "      <td>Now 10 dead in a shooting there today RT \"@BBC...</td>\n",
              "      <td>0.0</td>\n",
              "      <td>robbylevy</td>\n",
              "      <td>charliehebdo</td>\n",
              "    </tr>\n",
              "    <tr>\n",
              "      <th>2</th>\n",
              "      <td>@BBCDanielS @BBCWorld I'm guessing this is bei...</td>\n",
              "      <td>0.0</td>\n",
              "      <td>ModerateInAll</td>\n",
              "      <td>charliehebdo</td>\n",
              "    </tr>\n",
              "    <tr>\n",
              "      <th>3</th>\n",
              "      <td>@BBCDanielS @BBCWorld why would you mention th...</td>\n",
              "      <td>0.0</td>\n",
              "      <td>GabTarquini</td>\n",
              "      <td>charliehebdo</td>\n",
              "    </tr>\n",
              "    <tr>\n",
              "      <th>4</th>\n",
              "      <td>@BBCDanielS @BBCWorld perps identified?</td>\n",
              "      <td>0.0</td>\n",
              "      <td>freethought41</td>\n",
              "      <td>charliehebdo</td>\n",
              "    </tr>\n",
              "  </tbody>\n",
              "</table>\n",
              "</div>\n",
              "      <button class=\"colab-df-convert\" onclick=\"convertToInteractive('df-49371329-6874-4d90-b988-d9cec6102ba4')\"\n",
              "              title=\"Convert this dataframe to an interactive table.\"\n",
              "              style=\"display:none;\">\n",
              "\n",
              "  <svg xmlns=\"http://www.w3.org/2000/svg\" height=\"24px\"viewBox=\"0 0 24 24\"\n",
              "       width=\"24px\">\n",
              "    <path d=\"M0 0h24v24H0V0z\" fill=\"none\"/>\n",
              "    <path d=\"M18.56 5.44l.94 2.06.94-2.06 2.06-.94-2.06-.94-.94-2.06-.94 2.06-2.06.94zm-11 1L8.5 8.5l.94-2.06 2.06-.94-2.06-.94L8.5 2.5l-.94 2.06-2.06.94zm10 10l.94 2.06.94-2.06 2.06-.94-2.06-.94-.94-2.06-.94 2.06-2.06.94z\"/><path d=\"M17.41 7.96l-1.37-1.37c-.4-.4-.92-.59-1.43-.59-.52 0-1.04.2-1.43.59L10.3 9.45l-7.72 7.72c-.78.78-.78 2.05 0 2.83L4 21.41c.39.39.9.59 1.41.59.51 0 1.02-.2 1.41-.59l7.78-7.78 2.81-2.81c.8-.78.8-2.07 0-2.86zM5.41 20L4 18.59l7.72-7.72 1.47 1.35L5.41 20z\"/>\n",
              "  </svg>\n",
              "      </button>\n",
              "\n",
              "\n",
              "\n",
              "    <div id=\"df-e3e75a7b-25a6-4628-b45f-a133e8f83f5d\">\n",
              "      <button class=\"colab-df-quickchart\" onclick=\"quickchart('df-e3e75a7b-25a6-4628-b45f-a133e8f83f5d')\"\n",
              "              title=\"Suggest charts.\"\n",
              "              style=\"display:none;\">\n",
              "\n",
              "<svg xmlns=\"http://www.w3.org/2000/svg\" height=\"24px\"viewBox=\"0 0 24 24\"\n",
              "     width=\"24px\">\n",
              "    <g>\n",
              "        <path d=\"M19 3H5c-1.1 0-2 .9-2 2v14c0 1.1.9 2 2 2h14c1.1 0 2-.9 2-2V5c0-1.1-.9-2-2-2zM9 17H7v-7h2v7zm4 0h-2V7h2v10zm4 0h-2v-4h2v4z\"/>\n",
              "    </g>\n",
              "</svg>\n",
              "      </button>\n",
              "    </div>\n",
              "\n",
              "<style>\n",
              "  .colab-df-quickchart {\n",
              "    background-color: #E8F0FE;\n",
              "    border: none;\n",
              "    border-radius: 50%;\n",
              "    cursor: pointer;\n",
              "    display: none;\n",
              "    fill: #1967D2;\n",
              "    height: 32px;\n",
              "    padding: 0 0 0 0;\n",
              "    width: 32px;\n",
              "  }\n",
              "\n",
              "  .colab-df-quickchart:hover {\n",
              "    background-color: #E2EBFA;\n",
              "    box-shadow: 0px 1px 2px rgba(60, 64, 67, 0.3), 0px 1px 3px 1px rgba(60, 64, 67, 0.15);\n",
              "    fill: #174EA6;\n",
              "  }\n",
              "\n",
              "  [theme=dark] .colab-df-quickchart {\n",
              "    background-color: #3B4455;\n",
              "    fill: #D2E3FC;\n",
              "  }\n",
              "\n",
              "  [theme=dark] .colab-df-quickchart:hover {\n",
              "    background-color: #434B5C;\n",
              "    box-shadow: 0px 1px 3px 1px rgba(0, 0, 0, 0.15);\n",
              "    filter: drop-shadow(0px 1px 2px rgba(0, 0, 0, 0.3));\n",
              "    fill: #FFFFFF;\n",
              "  }\n",
              "</style>\n",
              "\n",
              "    <script>\n",
              "      async function quickchart(key) {\n",
              "        const containerElement = document.querySelector('#' + key);\n",
              "        const charts = await google.colab.kernel.invokeFunction(\n",
              "            'suggestCharts', [key], {});\n",
              "      }\n",
              "    </script>\n",
              "\n",
              "      <script>\n",
              "\n",
              "function displayQuickchartButton(domScope) {\n",
              "  let quickchartButtonEl =\n",
              "    domScope.querySelector('#df-e3e75a7b-25a6-4628-b45f-a133e8f83f5d button.colab-df-quickchart');\n",
              "  quickchartButtonEl.style.display =\n",
              "    google.colab.kernel.accessAllowed ? 'block' : 'none';\n",
              "}\n",
              "\n",
              "        displayQuickchartButton(document);\n",
              "      </script>\n",
              "      <style>\n",
              "    .colab-df-container {\n",
              "      display:flex;\n",
              "      flex-wrap:wrap;\n",
              "      gap: 12px;\n",
              "    }\n",
              "\n",
              "    .colab-df-convert {\n",
              "      background-color: #E8F0FE;\n",
              "      border: none;\n",
              "      border-radius: 50%;\n",
              "      cursor: pointer;\n",
              "      display: none;\n",
              "      fill: #1967D2;\n",
              "      height: 32px;\n",
              "      padding: 0 0 0 0;\n",
              "      width: 32px;\n",
              "    }\n",
              "\n",
              "    .colab-df-convert:hover {\n",
              "      background-color: #E2EBFA;\n",
              "      box-shadow: 0px 1px 2px rgba(60, 64, 67, 0.3), 0px 1px 3px 1px rgba(60, 64, 67, 0.15);\n",
              "      fill: #174EA6;\n",
              "    }\n",
              "\n",
              "    [theme=dark] .colab-df-convert {\n",
              "      background-color: #3B4455;\n",
              "      fill: #D2E3FC;\n",
              "    }\n",
              "\n",
              "    [theme=dark] .colab-df-convert:hover {\n",
              "      background-color: #434B5C;\n",
              "      box-shadow: 0px 1px 3px 1px rgba(0, 0, 0, 0.15);\n",
              "      filter: drop-shadow(0px 1px 2px rgba(0, 0, 0, 0.3));\n",
              "      fill: #FFFFFF;\n",
              "    }\n",
              "  </style>\n",
              "\n",
              "      <script>\n",
              "        const buttonEl =\n",
              "          document.querySelector('#df-49371329-6874-4d90-b988-d9cec6102ba4 button.colab-df-convert');\n",
              "        buttonEl.style.display =\n",
              "          google.colab.kernel.accessAllowed ? 'block' : 'none';\n",
              "\n",
              "        async function convertToInteractive(key) {\n",
              "          const element = document.querySelector('#df-49371329-6874-4d90-b988-d9cec6102ba4');\n",
              "          const dataTable =\n",
              "            await google.colab.kernel.invokeFunction('convertToInteractive',\n",
              "                                                     [key], {});\n",
              "          if (!dataTable) return;\n",
              "\n",
              "          const docLinkHtml = 'Like what you see? Visit the ' +\n",
              "            '<a target=\"_blank\" href=https://colab.research.google.com/notebooks/data_table.ipynb>data table notebook</a>'\n",
              "            + ' to learn more about interactive tables.';\n",
              "          element.innerHTML = '';\n",
              "          dataTable['output_type'] = 'display_data';\n",
              "          await google.colab.output.renderOutput(dataTable, element);\n",
              "          const docLink = document.createElement('div');\n",
              "          docLink.innerHTML = docLinkHtml;\n",
              "          element.appendChild(docLink);\n",
              "        }\n",
              "      </script>\n",
              "    </div>\n",
              "  </div>\n"
            ]
          },
          "metadata": {},
          "execution_count": 7
        }
      ],
      "source": [
        "df.head()"
      ]
    },
    {
      "cell_type": "code",
      "execution_count": null,
      "metadata": {
        "colab": {
          "base_uri": "https://localhost:8080/"
        },
        "execution": {
          "iopub.execute_input": "2023-07-10T19:17:43.834904Z",
          "iopub.status.busy": "2023-07-10T19:17:43.834547Z",
          "iopub.status.idle": "2023-07-10T19:17:43.858997Z",
          "shell.execute_reply": "2023-07-10T19:17:43.857811Z",
          "shell.execute_reply.started": "2023-07-10T19:17:43.834874Z"
        },
        "id": "sPUWtkJNsdNw",
        "outputId": "41bb3710-2a4d-4b17-a8a6-dacad9994d6a"
      },
      "outputs": [
        {
          "output_type": "stream",
          "name": "stdout",
          "text": [
            "<class 'pandas.core.frame.DataFrame'>\n",
            "RangeIndex: 62445 entries, 0 to 62444\n",
            "Data columns (total 4 columns):\n",
            " #   Column       Non-Null Count  Dtype  \n",
            "---  ------       --------------  -----  \n",
            " 0   text         62445 non-null  object \n",
            " 1   is_rumor     62443 non-null  float64\n",
            " 2   user.handle  62443 non-null  object \n",
            " 3   topic        49668 non-null  object \n",
            "dtypes: float64(1), object(3)\n",
            "memory usage: 1.9+ MB\n"
          ]
        }
      ],
      "source": [
        "df.info()"
      ]
    },
    {
      "cell_type": "code",
      "execution_count": null,
      "metadata": {
        "colab": {
          "base_uri": "https://localhost:8080/"
        },
        "execution": {
          "iopub.execute_input": "2023-07-10T19:17:43.861388Z",
          "iopub.status.busy": "2023-07-10T19:17:43.860665Z",
          "iopub.status.idle": "2023-07-10T19:17:43.87864Z",
          "shell.execute_reply": "2023-07-10T19:17:43.877471Z",
          "shell.execute_reply.started": "2023-07-10T19:17:43.86135Z"
        },
        "id": "VGjD-A2jsdNx",
        "outputId": "0cda2425-4e4f-4a69-fca6-60381e38bc58"
      },
      "outputs": [
        {
          "output_type": "execute_result",
          "data": {
            "text/plain": [
              "text               0\n",
              "is_rumor           2\n",
              "user.handle        2\n",
              "topic          12777\n",
              "dtype: int64"
            ]
          },
          "metadata": {},
          "execution_count": 9
        }
      ],
      "source": [
        "df.isnull().sum()"
      ]
    },
    {
      "cell_type": "code",
      "source": [
        "df = df[['text','is_rumor']].copy()"
      ],
      "metadata": {
        "id": "tHC6YbNGxgpd"
      },
      "execution_count": 8,
      "outputs": []
    },
    {
      "cell_type": "code",
      "execution_count": 9,
      "metadata": {
        "execution": {
          "iopub.execute_input": "2023-07-10T19:17:43.895728Z",
          "iopub.status.busy": "2023-07-10T19:17:43.895061Z",
          "iopub.status.idle": "2023-07-10T19:17:43.905416Z",
          "shell.execute_reply": "2023-07-10T19:17:43.90434Z",
          "shell.execute_reply.started": "2023-07-10T19:17:43.895681Z"
        },
        "id": "7hv2FxrusdNx"
      },
      "outputs": [],
      "source": [
        "# df.drop(['Unnamed: 0'], axis=1,inplace=True)\n",
        "# df.drop(['URLs','Unnamed: 0'], axis=1,inplace=True)\n"
      ]
    },
    {
      "cell_type": "code",
      "execution_count": 10,
      "metadata": {
        "colab": {
          "base_uri": "https://localhost:8080/",
          "height": 206
        },
        "execution": {
          "iopub.execute_input": "2023-07-10T19:17:43.907867Z",
          "iopub.status.busy": "2023-07-10T19:17:43.907471Z",
          "iopub.status.idle": "2023-07-10T19:17:43.921304Z",
          "shell.execute_reply": "2023-07-10T19:17:43.92045Z",
          "shell.execute_reply.started": "2023-07-10T19:17:43.907832Z"
        },
        "id": "Hd1IZv3SsdNy",
        "outputId": "0c7ce998-1023-40f3-e93f-574ae9d6c7fe"
      },
      "outputs": [
        {
          "output_type": "execute_result",
          "data": {
            "text/plain": [
              "                                                text  is_rumor\n",
              "0  Charlie Hebdo became well known for publishing...       0.0\n",
              "1  Now 10 dead in a shooting there today RT \"@BBC...       0.0\n",
              "2  @BBCDanielS @BBCWorld I'm guessing this is bei...       0.0\n",
              "3  @BBCDanielS @BBCWorld why would you mention th...       0.0\n",
              "4            @BBCDanielS @BBCWorld perps identified?       0.0"
            ],
            "text/html": [
              "\n",
              "\n",
              "  <div id=\"df-6bf13cb8-a252-45ac-a66e-2c486e2e926e\">\n",
              "    <div class=\"colab-df-container\">\n",
              "      <div>\n",
              "<style scoped>\n",
              "    .dataframe tbody tr th:only-of-type {\n",
              "        vertical-align: middle;\n",
              "    }\n",
              "\n",
              "    .dataframe tbody tr th {\n",
              "        vertical-align: top;\n",
              "    }\n",
              "\n",
              "    .dataframe thead th {\n",
              "        text-align: right;\n",
              "    }\n",
              "</style>\n",
              "<table border=\"1\" class=\"dataframe\">\n",
              "  <thead>\n",
              "    <tr style=\"text-align: right;\">\n",
              "      <th></th>\n",
              "      <th>text</th>\n",
              "      <th>is_rumor</th>\n",
              "    </tr>\n",
              "  </thead>\n",
              "  <tbody>\n",
              "    <tr>\n",
              "      <th>0</th>\n",
              "      <td>Charlie Hebdo became well known for publishing...</td>\n",
              "      <td>0.0</td>\n",
              "    </tr>\n",
              "    <tr>\n",
              "      <th>1</th>\n",
              "      <td>Now 10 dead in a shooting there today RT \"@BBC...</td>\n",
              "      <td>0.0</td>\n",
              "    </tr>\n",
              "    <tr>\n",
              "      <th>2</th>\n",
              "      <td>@BBCDanielS @BBCWorld I'm guessing this is bei...</td>\n",
              "      <td>0.0</td>\n",
              "    </tr>\n",
              "    <tr>\n",
              "      <th>3</th>\n",
              "      <td>@BBCDanielS @BBCWorld why would you mention th...</td>\n",
              "      <td>0.0</td>\n",
              "    </tr>\n",
              "    <tr>\n",
              "      <th>4</th>\n",
              "      <td>@BBCDanielS @BBCWorld perps identified?</td>\n",
              "      <td>0.0</td>\n",
              "    </tr>\n",
              "  </tbody>\n",
              "</table>\n",
              "</div>\n",
              "      <button class=\"colab-df-convert\" onclick=\"convertToInteractive('df-6bf13cb8-a252-45ac-a66e-2c486e2e926e')\"\n",
              "              title=\"Convert this dataframe to an interactive table.\"\n",
              "              style=\"display:none;\">\n",
              "\n",
              "  <svg xmlns=\"http://www.w3.org/2000/svg\" height=\"24px\"viewBox=\"0 0 24 24\"\n",
              "       width=\"24px\">\n",
              "    <path d=\"M0 0h24v24H0V0z\" fill=\"none\"/>\n",
              "    <path d=\"M18.56 5.44l.94 2.06.94-2.06 2.06-.94-2.06-.94-.94-2.06-.94 2.06-2.06.94zm-11 1L8.5 8.5l.94-2.06 2.06-.94-2.06-.94L8.5 2.5l-.94 2.06-2.06.94zm10 10l.94 2.06.94-2.06 2.06-.94-2.06-.94-.94-2.06-.94 2.06-2.06.94z\"/><path d=\"M17.41 7.96l-1.37-1.37c-.4-.4-.92-.59-1.43-.59-.52 0-1.04.2-1.43.59L10.3 9.45l-7.72 7.72c-.78.78-.78 2.05 0 2.83L4 21.41c.39.39.9.59 1.41.59.51 0 1.02-.2 1.41-.59l7.78-7.78 2.81-2.81c.8-.78.8-2.07 0-2.86zM5.41 20L4 18.59l7.72-7.72 1.47 1.35L5.41 20z\"/>\n",
              "  </svg>\n",
              "      </button>\n",
              "\n",
              "\n",
              "\n",
              "    <div id=\"df-fbd68959-c660-43a5-89c5-3729f3e7c68e\">\n",
              "      <button class=\"colab-df-quickchart\" onclick=\"quickchart('df-fbd68959-c660-43a5-89c5-3729f3e7c68e')\"\n",
              "              title=\"Suggest charts.\"\n",
              "              style=\"display:none;\">\n",
              "\n",
              "<svg xmlns=\"http://www.w3.org/2000/svg\" height=\"24px\"viewBox=\"0 0 24 24\"\n",
              "     width=\"24px\">\n",
              "    <g>\n",
              "        <path d=\"M19 3H5c-1.1 0-2 .9-2 2v14c0 1.1.9 2 2 2h14c1.1 0 2-.9 2-2V5c0-1.1-.9-2-2-2zM9 17H7v-7h2v7zm4 0h-2V7h2v10zm4 0h-2v-4h2v4z\"/>\n",
              "    </g>\n",
              "</svg>\n",
              "      </button>\n",
              "    </div>\n",
              "\n",
              "<style>\n",
              "  .colab-df-quickchart {\n",
              "    background-color: #E8F0FE;\n",
              "    border: none;\n",
              "    border-radius: 50%;\n",
              "    cursor: pointer;\n",
              "    display: none;\n",
              "    fill: #1967D2;\n",
              "    height: 32px;\n",
              "    padding: 0 0 0 0;\n",
              "    width: 32px;\n",
              "  }\n",
              "\n",
              "  .colab-df-quickchart:hover {\n",
              "    background-color: #E2EBFA;\n",
              "    box-shadow: 0px 1px 2px rgba(60, 64, 67, 0.3), 0px 1px 3px 1px rgba(60, 64, 67, 0.15);\n",
              "    fill: #174EA6;\n",
              "  }\n",
              "\n",
              "  [theme=dark] .colab-df-quickchart {\n",
              "    background-color: #3B4455;\n",
              "    fill: #D2E3FC;\n",
              "  }\n",
              "\n",
              "  [theme=dark] .colab-df-quickchart:hover {\n",
              "    background-color: #434B5C;\n",
              "    box-shadow: 0px 1px 3px 1px rgba(0, 0, 0, 0.15);\n",
              "    filter: drop-shadow(0px 1px 2px rgba(0, 0, 0, 0.3));\n",
              "    fill: #FFFFFF;\n",
              "  }\n",
              "</style>\n",
              "\n",
              "    <script>\n",
              "      async function quickchart(key) {\n",
              "        const containerElement = document.querySelector('#' + key);\n",
              "        const charts = await google.colab.kernel.invokeFunction(\n",
              "            'suggestCharts', [key], {});\n",
              "      }\n",
              "    </script>\n",
              "\n",
              "      <script>\n",
              "\n",
              "function displayQuickchartButton(domScope) {\n",
              "  let quickchartButtonEl =\n",
              "    domScope.querySelector('#df-fbd68959-c660-43a5-89c5-3729f3e7c68e button.colab-df-quickchart');\n",
              "  quickchartButtonEl.style.display =\n",
              "    google.colab.kernel.accessAllowed ? 'block' : 'none';\n",
              "}\n",
              "\n",
              "        displayQuickchartButton(document);\n",
              "      </script>\n",
              "      <style>\n",
              "    .colab-df-container {\n",
              "      display:flex;\n",
              "      flex-wrap:wrap;\n",
              "      gap: 12px;\n",
              "    }\n",
              "\n",
              "    .colab-df-convert {\n",
              "      background-color: #E8F0FE;\n",
              "      border: none;\n",
              "      border-radius: 50%;\n",
              "      cursor: pointer;\n",
              "      display: none;\n",
              "      fill: #1967D2;\n",
              "      height: 32px;\n",
              "      padding: 0 0 0 0;\n",
              "      width: 32px;\n",
              "    }\n",
              "\n",
              "    .colab-df-convert:hover {\n",
              "      background-color: #E2EBFA;\n",
              "      box-shadow: 0px 1px 2px rgba(60, 64, 67, 0.3), 0px 1px 3px 1px rgba(60, 64, 67, 0.15);\n",
              "      fill: #174EA6;\n",
              "    }\n",
              "\n",
              "    [theme=dark] .colab-df-convert {\n",
              "      background-color: #3B4455;\n",
              "      fill: #D2E3FC;\n",
              "    }\n",
              "\n",
              "    [theme=dark] .colab-df-convert:hover {\n",
              "      background-color: #434B5C;\n",
              "      box-shadow: 0px 1px 3px 1px rgba(0, 0, 0, 0.15);\n",
              "      filter: drop-shadow(0px 1px 2px rgba(0, 0, 0, 0.3));\n",
              "      fill: #FFFFFF;\n",
              "    }\n",
              "  </style>\n",
              "\n",
              "      <script>\n",
              "        const buttonEl =\n",
              "          document.querySelector('#df-6bf13cb8-a252-45ac-a66e-2c486e2e926e button.colab-df-convert');\n",
              "        buttonEl.style.display =\n",
              "          google.colab.kernel.accessAllowed ? 'block' : 'none';\n",
              "\n",
              "        async function convertToInteractive(key) {\n",
              "          const element = document.querySelector('#df-6bf13cb8-a252-45ac-a66e-2c486e2e926e');\n",
              "          const dataTable =\n",
              "            await google.colab.kernel.invokeFunction('convertToInteractive',\n",
              "                                                     [key], {});\n",
              "          if (!dataTable) return;\n",
              "\n",
              "          const docLinkHtml = 'Like what you see? Visit the ' +\n",
              "            '<a target=\"_blank\" href=https://colab.research.google.com/notebooks/data_table.ipynb>data table notebook</a>'\n",
              "            + ' to learn more about interactive tables.';\n",
              "          element.innerHTML = '';\n",
              "          dataTable['output_type'] = 'display_data';\n",
              "          await google.colab.output.renderOutput(dataTable, element);\n",
              "          const docLink = document.createElement('div');\n",
              "          docLink.innerHTML = docLinkHtml;\n",
              "          element.appendChild(docLink);\n",
              "        }\n",
              "      </script>\n",
              "    </div>\n",
              "  </div>\n"
            ]
          },
          "metadata": {},
          "execution_count": 10
        }
      ],
      "source": [
        "df.head()"
      ]
    },
    {
      "cell_type": "code",
      "source": [
        "df.dropna(inplace=True)"
      ],
      "metadata": {
        "id": "4Bi8pGTXxqCg"
      },
      "execution_count": 11,
      "outputs": []
    },
    {
      "cell_type": "markdown",
      "metadata": {
        "id": "3uZuzL3qsdNy"
      },
      "source": [
        "### You are predicting whether a given tweet is about a real disaster or not. If so, predict a 1. If not, predict a 0."
      ]
    },
    {
      "cell_type": "code",
      "execution_count": 12,
      "metadata": {
        "id": "tI_QuzYN7HA4"
      },
      "outputs": [],
      "source": [
        "# df.columns = ['head','text','target']"
      ]
    },
    {
      "cell_type": "code",
      "execution_count": 13,
      "metadata": {
        "colab": {
          "base_uri": "https://localhost:8080/"
        },
        "execution": {
          "iopub.execute_input": "2023-07-10T19:17:43.924138Z",
          "iopub.status.busy": "2023-07-10T19:17:43.922908Z",
          "iopub.status.idle": "2023-07-10T19:17:43.935082Z",
          "shell.execute_reply": "2023-07-10T19:17:43.934144Z",
          "shell.execute_reply.started": "2023-07-10T19:17:43.924102Z"
        },
        "id": "oS-z4KVDsdNz",
        "outputId": "02fff203-020e-4259-affe-cbe3b7e6aa5f"
      },
      "outputs": [
        {
          "output_type": "execute_result",
          "data": {
            "text/plain": [
              "0.0    48619\n",
              "1.0    13824\n",
              "Name: is_rumor, dtype: int64"
            ]
          },
          "metadata": {},
          "execution_count": 13
        }
      ],
      "source": [
        "df.is_rumor.value_counts()"
      ]
    },
    {
      "cell_type": "code",
      "execution_count": 14,
      "metadata": {
        "id": "ZXOVIFc_86i6"
      },
      "outputs": [],
      "source": [
        "df['label'] = df['is_rumor']"
      ]
    },
    {
      "cell_type": "code",
      "execution_count": 15,
      "metadata": {
        "id": "ukU_aBWE8-Xr"
      },
      "outputs": [],
      "source": [
        "df['label'].replace({1:'Rumor',0:'not Rumor'},inplace=True)"
      ]
    },
    {
      "cell_type": "code",
      "execution_count": 16,
      "metadata": {
        "colab": {
          "base_uri": "https://localhost:8080/"
        },
        "id": "AZ-v9d4G9idu",
        "outputId": "7e50b2e9-b5c4-44be-85e2-8e8991ab9593"
      },
      "outputs": [
        {
          "output_type": "execute_result",
          "data": {
            "text/plain": [
              "not Rumor    48619\n",
              "Rumor        13824\n",
              "Name: label, dtype: int64"
            ]
          },
          "metadata": {},
          "execution_count": 16
        }
      ],
      "source": [
        "df.label.value_counts()\n"
      ]
    },
    {
      "cell_type": "code",
      "source": [
        "df = df.sample(5800)"
      ],
      "metadata": {
        "id": "AhaN69udzmKg"
      },
      "execution_count": 17,
      "outputs": []
    },
    {
      "cell_type": "code",
      "execution_count": 18,
      "metadata": {
        "id": "HFnQkEYisdNz",
        "colab": {
          "base_uri": "https://localhost:8080/",
          "height": 465
        },
        "outputId": "342af6ea-3b97-4227-b459-498358bf16bd"
      },
      "outputs": [
        {
          "output_type": "display_data",
          "data": {
            "text/plain": [
              "<Figure size 700x500 with 1 Axes>"
            ],
            "image/png": "[encoded data removed]"
          },
          "metadata": {}
        }
      ],
      "source": [
        "plt.figure(figsize=(7,5))\n",
        "sns.countplot(data=df, y=\"label\",palette=[\"navy\",\"crimson\"])\n",
        "# plt.title(\"Compare Target\")\n",
        "df['label'].to_csv(f'{path}_labels.csv',index=False)\n",
        "plt.savefig(f'{path}_labels.png',bbox_inches='tight')\n",
        "plt.show()"
      ]
    },
    {
      "cell_type": "markdown",
      "metadata": {
        "id": "XVGipssP1HIN"
      },
      "source": [
        "Pre Processing"
      ]
    },
    {
      "cell_type": "code",
      "execution_count": 19,
      "metadata": {
        "id": "Fw-LnZxu1QLV"
      },
      "outputs": [],
      "source": [
        "import re"
      ]
    },
    {
      "cell_type": "code",
      "execution_count": 20,
      "metadata": {
        "id": "kmhrhhsCur12"
      },
      "outputs": [],
      "source": [
        "def removepunc(x):\n",
        "    x = x.lower()\n",
        "    x = re.sub(r\" ' \",\"\",x)\n",
        "    x = re.sub(r\"'\",\"\",x)\n",
        "    x = re.sub(r\"\\r\",\" \",x)\n",
        "    x = re.sub(r\"\\n\",\" \",x)\n",
        "    # x = re.sub(r\" / \",\"\",x)\n",
        "\n",
        "    # x = re.sub(r\" . \",\"\",x)\n",
        "\n",
        "    x = re.sub(r\"(@[A-Za-z]+)|([^0-9A-Za-z \\t])|(\\w+:\\/\\/\\S+)|^rt|http.+?\", \"\", x)\n",
        "    # x = re.sub(r\"(@[A-Za-z0-9]+)|([^0-9A-Za-z \\t])|(\\w+:\\/\\/\\S+)|^rt|http.+?\", \" \", x)\n",
        "    # x = re.sub(r\"  \",\" \",x)\n",
        "    # x = re.sub(r\"  \",\" \",x)\n",
        "    # x = re.sub(r\"  \",\" \",x)\n",
        "    # x = re.sub(r\"  \",\" \",x)\n",
        "    # x = re.sub(r\"  \",\" \",x)\n",
        "    # x = re.sub(r\"  \",\" \",x)\n",
        "    # x = re.sub(r\"  \",\" \",x)\n",
        "    # x = re.sub(r\"  \",\" \",x)\n",
        "    return x"
      ]
    },
    {
      "cell_type": "code",
      "execution_count": 22,
      "metadata": {
        "id": "Q0hR3YsOTCz7",
        "colab": {
          "base_uri": "https://localhost:8080/"
        },
        "outputId": "c5eeb4b6-fee7-4583-c401-5c89abb456e7"
      },
      "outputs": [
        {
          "output_type": "stream",
          "name": "stdout",
          "text": [
            "['i', 'me', 'my', 'myself', 'we', 'our', 'ours', 'ourselves', 'you', \"you're\", \"you've\", \"you'll\", \"you'd\", 'your', 'yours', 'yourself', 'yourselves', 'he', 'him', 'his', 'himself', 'she', \"she's\", 'her', 'hers', 'herself', 'it', \"it's\", 'its', 'itself', 'they', 'them', 'their', 'theirs', 'themselves', 'what', 'which', 'who', 'whom', 'this', 'that', \"that'll\", 'these', 'those', 'am', 'is', 'are', 'was', 'were', 'be', 'been', 'being', 'have', 'has', 'had', 'having', 'do', 'does', 'did', 'doing', 'a', 'an', 'the', 'and', 'but', 'if', 'or', 'because', 'as', 'until', 'while', 'of', 'at', 'by', 'for', 'with', 'about', 'against', 'between', 'into', 'through', 'during', 'before', 'after', 'above', 'below', 'to', 'from', 'up', 'down', 'in', 'out', 'on', 'off', 'over', 'under', 'again', 'further', 'then', 'once', 'here', 'there', 'when', 'where', 'why', 'how', 'all', 'any', 'both', 'each', 'few', 'more', 'most', 'other', 'some', 'such', 'no', 'nor', 'not', 'only', 'own', 'same', 'so', 'than', 'too', 'very', 's', 't', 'can', 'will', 'just', 'don', \"don't\", 'should', \"should've\", 'now', 'd', 'll', 'm', 'o', 're', 've', 'y', 'ain', 'aren', \"aren't\", 'couldn', \"couldn't\", 'didn', \"didn't\", 'doesn', \"doesn't\", 'hadn', \"hadn't\", 'hasn', \"hasn't\", 'haven', \"haven't\", 'isn', \"isn't\", 'ma', 'mightn', \"mightn't\", 'mustn', \"mustn't\", 'needn', \"needn't\", 'shan', \"shan't\", 'shouldn', \"shouldn't\", 'wasn', \"wasn't\", 'weren', \"weren't\", 'won', \"won't\", 'wouldn', \"wouldn't\"]\n"
          ]
        },
        {
          "output_type": "stream",
          "name": "stderr",
          "text": [
            "[nltk_data] Downloading package stopwords to /root/nltk_data...\n",
            "[nltk_data]   Unzipping corpora/stopwords.zip.\n"
          ]
        }
      ],
      "source": [
        "import nltk\n",
        "from nltk.corpus import stopwords\n",
        "\n",
        "nltk.download('stopwords')\n",
        "print(stopwords.words('english'))"
      ]
    },
    {
      "cell_type": "code",
      "execution_count": 23,
      "metadata": {
        "id": "cKTl9FKVTFZI"
      },
      "outputs": [],
      "source": [
        "stop_words = set(stopwords.words('english'))"
      ]
    },
    {
      "cell_type": "code",
      "execution_count": 24,
      "metadata": {
        "id": "y4H2abnSS_Lf"
      },
      "outputs": [],
      "source": [
        "def lenword(x):\n",
        "  # l = x.spllit()\n",
        "  x = ' '.join([word for word in x.split() if (len(word) > 1 or word in (['i','a']))])\n",
        "  x = ' '.join([word for word in x.split() if word not in stop_words])\n",
        "\n",
        "  return x"
      ]
    },
    {
      "cell_type": "code",
      "execution_count": 25,
      "metadata": {
        "id": "VBzH1n_ovCfn"
      },
      "outputs": [],
      "source": [
        "df['text'] = df['text'].apply(lambda x:removepunc(x))"
      ]
    },
    {
      "cell_type": "code",
      "execution_count": 26,
      "metadata": {
        "id": "diyV4bJZTJLM"
      },
      "outputs": [],
      "source": [
        "df['text'] = df['text'].apply(lambda x:lenword(x))"
      ]
    },
    {
      "cell_type": "code",
      "execution_count": 27,
      "metadata": {
        "colab": {
          "base_uri": "https://localhost:8080/"
        },
        "id": "5bR6MHiV1UkT",
        "outputId": "5e4af3a6-e4e4-42d0-c25e-d8383c16267f"
      },
      "outputs": [
        {
          "output_type": "execute_result",
          "data": {
            "text/plain": [
              "233                                        1903 trying say\n",
              "36697    boubaker alhakim connection actual claim franc...\n",
              "7430     01 1684 agree collective struggle across human...\n",
              "35971    course another siege going jewish kosher groce...\n",
              "24849    io ya know isis twitter propagandist mehdi sai...\n",
              "                               ...                        \n",
              "1129     sorry even stupid divine law tweet im sure kil...\n",
              "8320                                            right dear\n",
              "56331    sure afford read matter laziness disorganizati...\n",
              "41291         04 awe poor wittle thing need attention dont\n",
              "36001                                    spcial force gign\n",
              "Name: text, Length: 5800, dtype: object"
            ]
          },
          "metadata": {},
          "execution_count": 27
        }
      ],
      "source": [
        "df['text']"
      ]
    },
    {
      "cell_type": "markdown",
      "metadata": {
        "id": "FYEMy0GFsdNz"
      },
      "source": [
        "# Count Character"
      ]
    },
    {
      "cell_type": "code",
      "execution_count": null,
      "metadata": {
        "execution": {
          "iopub.execute_input": "2023-07-10T19:17:44.178122Z",
          "iopub.status.busy": "2023-07-10T19:17:44.177407Z",
          "iopub.status.idle": "2023-07-10T19:17:44.19113Z",
          "shell.execute_reply": "2023-07-10T19:17:44.189893Z",
          "shell.execute_reply.started": "2023-07-10T19:17:44.178083Z"
        },
        "id": "CwQl0FP_sdN0"
      },
      "outputs": [],
      "source": [
        "df[\"character_count\"]=df[\"text\"].str.len()"
      ]
    },
    {
      "cell_type": "markdown",
      "metadata": {
        "id": "L0-RGWpIsdN0"
      },
      "source": [
        "# Count Word"
      ]
    },
    {
      "cell_type": "code",
      "execution_count": null,
      "metadata": {
        "execution": {
          "iopub.execute_input": "2023-07-10T19:17:44.193631Z",
          "iopub.status.busy": "2023-07-10T19:17:44.192614Z",
          "iopub.status.idle": "2023-07-10T19:17:44.234009Z",
          "shell.execute_reply": "2023-07-10T19:17:44.232887Z",
          "shell.execute_reply.started": "2023-07-10T19:17:44.19359Z"
        },
        "id": "rjWoD40dsdN0"
      },
      "outputs": [],
      "source": [
        "df['word_count'] = df['text'].str.split().str.len()\n",
        "df[\"character_count\"]=df[\"text\"].str.len()"
      ]
    },
    {
      "cell_type": "code",
      "execution_count": null,
      "metadata": {
        "colab": {
          "base_uri": "https://localhost:8080/"
        },
        "id": "Ffd6oXiW8Sje",
        "outputId": "c0893725-6a29-4999-ad4c-e0f495b383fc"
      },
      "outputs": [
        {
          "output_type": "execute_result",
          "data": {
            "text/plain": [
              "29"
            ]
          },
          "metadata": {},
          "execution_count": 77
        }
      ],
      "source": [
        "df['word_count'].max()"
      ]
    },
    {
      "cell_type": "markdown",
      "metadata": {
        "id": "4l0pyMeLsdN0"
      },
      "source": [
        "# Count Sentence"
      ]
    },
    {
      "cell_type": "code",
      "execution_count": null,
      "metadata": {
        "colab": {
          "base_uri": "https://localhost:8080/"
        },
        "id": "bY8XQal6zXBF",
        "outputId": "e62950fa-6805-4063-f1c2-b142a619a714"
      },
      "outputs": [
        {
          "name": "stderr",
          "output_type": "stream",
          "text": [
            "[nltk_data] Downloading package punkt to /root/nltk_data...\n",
            "[nltk_data]   Package punkt is already up-to-date!\n"
          ]
        },
        {
          "data": {
            "text/plain": [
              "True"
            ]
          },
          "execution_count": 89,
          "metadata": {},
          "output_type": "execute_result"
        }
      ],
      "source": [
        "import nltk\n",
        "nltk.download('punkt')"
      ]
    },
    {
      "cell_type": "code",
      "execution_count": null,
      "metadata": {
        "execution": {
          "iopub.execute_input": "2023-07-10T19:17:44.240612Z",
          "iopub.status.busy": "2023-07-10T19:17:44.240271Z",
          "iopub.status.idle": "2023-07-10T19:17:44.82101Z",
          "shell.execute_reply": "2023-07-10T19:17:44.819863Z",
          "shell.execute_reply.started": "2023-07-10T19:17:44.240584Z"
        },
        "id": "mirOowLzsdN0"
      },
      "outputs": [],
      "source": [
        "df['sentence_count'] = df['text'].apply(lambda x: len(nltk.sent_tokenize(x)))\n"
      ]
    },
    {
      "cell_type": "code",
      "execution_count": null,
      "metadata": {
        "colab": {
          "base_uri": "https://localhost:8080/",
          "height": 424
        },
        "id": "UzAOsXr9zhFq",
        "outputId": "7311db89-4e31-449a-9d38-c51fd48a8418"
      },
      "outputs": [
        {
          "data": {
            "text/html": [
              "\n",
              "\n",
              "  <div id=\"df-d0f35154-1c9f-492e-823c-b1c0d2d07666\">\n",
              "    <div class=\"colab-df-container\">\n",
              "      <div>\n",
              "<style scoped>\n",
              "    .dataframe tbody tr th:only-of-type {\n",
              "        vertical-align: middle;\n",
              "    }\n",
              "\n",
              "    .dataframe tbody tr th {\n",
              "        vertical-align: top;\n",
              "    }\n",
              "\n",
              "    .dataframe thead th {\n",
              "        text-align: right;\n",
              "    }\n",
              "</style>\n",
              "<table border=\"1\" class=\"dataframe\">\n",
              "  <thead>\n",
              "    <tr style=\"text-align: right;\">\n",
              "      <th></th>\n",
              "      <th>head</th>\n",
              "      <th>text</th>\n",
              "      <th>target</th>\n",
              "      <th>label</th>\n",
              "      <th>character_count</th>\n",
              "      <th>word_count</th>\n",
              "      <th>sentence_count</th>\n",
              "    </tr>\n",
              "  </thead>\n",
              "  <tbody>\n",
              "    <tr>\n",
              "      <th>0</th>\n",
              "      <td>Four ways Bob Corker skewered Donald Trump</td>\n",
              "      <td>image copyright getty images on sunday morning...</td>\n",
              "      <td>1</td>\n",
              "      <td>Real</td>\n",
              "      <td>6186</td>\n",
              "      <td>1045</td>\n",
              "      <td>1</td>\n",
              "    </tr>\n",
              "    <tr>\n",
              "      <th>1</th>\n",
              "      <td>Linklater's war veteran comedy speaks to moder...</td>\n",
              "      <td>london reuters last flag flying a comedydrama ...</td>\n",
              "      <td>1</td>\n",
              "      <td>Real</td>\n",
              "      <td>3176</td>\n",
              "      <td>543</td>\n",
              "      <td>1</td>\n",
              "    </tr>\n",
              "    <tr>\n",
              "      <th>2</th>\n",
              "      <td>Trump’s Fight With Corker Jeopardizes His Legi...</td>\n",
              "      <td>the feud broke into public view last week when...</td>\n",
              "      <td>1</td>\n",
              "      <td>Real</td>\n",
              "      <td>6335</td>\n",
              "      <td>1079</td>\n",
              "      <td>1</td>\n",
              "    </tr>\n",
              "    <tr>\n",
              "      <th>3</th>\n",
              "      <td>Egypt's Cheiron wins tie-up with Pemex for Mex...</td>\n",
              "      <td>mexico city reuters egypts cheiron holdings li...</td>\n",
              "      <td>1</td>\n",
              "      <td>Real</td>\n",
              "      <td>609</td>\n",
              "      <td>96</td>\n",
              "      <td>1</td>\n",
              "    </tr>\n",
              "    <tr>\n",
              "      <th>4</th>\n",
              "      <td>Jason Aldean opens 'SNL' with Vegas tribute</td>\n",
              "      <td>country singer jason aldean who was performing...</td>\n",
              "      <td>1</td>\n",
              "      <td>Real</td>\n",
              "      <td>204</td>\n",
              "      <td>37</td>\n",
              "      <td>1</td>\n",
              "    </tr>\n",
              "    <tr>\n",
              "      <th>...</th>\n",
              "      <td>...</td>\n",
              "      <td>...</td>\n",
              "      <td>...</td>\n",
              "      <td>...</td>\n",
              "      <td>...</td>\n",
              "      <td>...</td>\n",
              "      <td>...</td>\n",
              "    </tr>\n",
              "    <tr>\n",
              "      <th>4004</th>\n",
              "      <td>Trends to Watch</td>\n",
              "      <td>trends to watch of readers think this story is...</td>\n",
              "      <td>0</td>\n",
              "      <td>Fake</td>\n",
              "      <td>1713</td>\n",
              "      <td>316</td>\n",
              "      <td>1</td>\n",
              "    </tr>\n",
              "    <tr>\n",
              "      <th>4005</th>\n",
              "      <td>Trump Jr. Is Soon To Give A 30-Minute Speech F...</td>\n",
              "      <td>trump jr is soon to give a 30minute speech for...</td>\n",
              "      <td>0</td>\n",
              "      <td>Fake</td>\n",
              "      <td>276</td>\n",
              "      <td>55</td>\n",
              "      <td>1</td>\n",
              "    </tr>\n",
              "    <tr>\n",
              "      <th>4006</th>\n",
              "      <td>Ron Paul on Trump, Anarchism &amp; the AltRight</td>\n",
              "      <td></td>\n",
              "      <td>0</td>\n",
              "      <td>Fake</td>\n",
              "      <td>0</td>\n",
              "      <td>0</td>\n",
              "      <td>0</td>\n",
              "    </tr>\n",
              "    <tr>\n",
              "      <th>4007</th>\n",
              "      <td>China to accept overseas trial data in bid to ...</td>\n",
              "      <td>shanghai reuters china said it plans to accept...</td>\n",
              "      <td>1</td>\n",
              "      <td>Real</td>\n",
              "      <td>1925</td>\n",
              "      <td>315</td>\n",
              "      <td>1</td>\n",
              "    </tr>\n",
              "    <tr>\n",
              "      <th>4008</th>\n",
              "      <td>Vice President Mike Pence Leaves NFL Game Beca...</td>\n",
              "      <td>vice president mike pence leaves nfl game beca...</td>\n",
              "      <td>0</td>\n",
              "      <td>Fake</td>\n",
              "      <td>3324</td>\n",
              "      <td>572</td>\n",
              "      <td>1</td>\n",
              "    </tr>\n",
              "  </tbody>\n",
              "</table>\n",
              "<p>4009 rows × 7 columns</p>\n",
              "</div>\n",
              "      <button class=\"colab-df-convert\" onclick=\"convertToInteractive('df-d0f35154-1c9f-492e-823c-b1c0d2d07666')\"\n",
              "              title=\"Convert this dataframe to an interactive table.\"\n",
              "              style=\"display:none;\">\n",
              "\n",
              "  <svg xmlns=\"http://www.w3.org/2000/svg\" height=\"24px\"viewBox=\"0 0 24 24\"\n",
              "       width=\"24px\">\n",
              "    <path d=\"M0 0h24v24H0V0z\" fill=\"none\"/>\n",
              "    <path d=\"M18.56 5.44l.94 2.06.94-2.06 2.06-.94-2.06-.94-.94-2.06-.94 2.06-2.06.94zm-11 1L8.5 8.5l.94-2.06 2.06-.94-2.06-.94L8.5 2.5l-.94 2.06-2.06.94zm10 10l.94 2.06.94-2.06 2.06-.94-2.06-.94-.94-2.06-.94 2.06-2.06.94z\"/><path d=\"M17.41 7.96l-1.37-1.37c-.4-.4-.92-.59-1.43-.59-.52 0-1.04.2-1.43.59L10.3 9.45l-7.72 7.72c-.78.78-.78 2.05 0 2.83L4 21.41c.39.39.9.59 1.41.59.51 0 1.02-.2 1.41-.59l7.78-7.78 2.81-2.81c.8-.78.8-2.07 0-2.86zM5.41 20L4 18.59l7.72-7.72 1.47 1.35L5.41 20z\"/>\n",
              "  </svg>\n",
              "      </button>\n",
              "\n",
              "\n",
              "\n",
              "    <div id=\"df-67ffb66b-ce9e-4f7c-9237-a51243143804\">\n",
              "      <button class=\"colab-df-quickchart\" onclick=\"quickchart('df-67ffb66b-ce9e-4f7c-9237-a51243143804')\"\n",
              "              title=\"Suggest charts.\"\n",
              "              style=\"display:none;\">\n",
              "\n",
              "<svg xmlns=\"http://www.w3.org/2000/svg\" height=\"24px\"viewBox=\"0 0 24 24\"\n",
              "     width=\"24px\">\n",
              "    <g>\n",
              "        <path d=\"M19 3H5c-1.1 0-2 .9-2 2v14c0 1.1.9 2 2 2h14c1.1 0 2-.9 2-2V5c0-1.1-.9-2-2-2zM9 17H7v-7h2v7zm4 0h-2V7h2v10zm4 0h-2v-4h2v4z\"/>\n",
              "    </g>\n",
              "</svg>\n",
              "      </button>\n",
              "    </div>\n",
              "\n",
              "<style>\n",
              "  .colab-df-quickchart {\n",
              "    background-color: #E8F0FE;\n",
              "    border: none;\n",
              "    border-radius: 50%;\n",
              "    cursor: pointer;\n",
              "    display: none;\n",
              "    fill: #1967D2;\n",
              "    height: 32px;\n",
              "    padding: 0 0 0 0;\n",
              "    width: 32px;\n",
              "  }\n",
              "\n",
              "  .colab-df-quickchart:hover {\n",
              "    background-color: #E2EBFA;\n",
              "    box-shadow: 0px 1px 2px rgba(60, 64, 67, 0.3), 0px 1px 3px 1px rgba(60, 64, 67, 0.15);\n",
              "    fill: #174EA6;\n",
              "  }\n",
              "\n",
              "  [theme=dark] .colab-df-quickchart {\n",
              "    background-color: #3B4455;\n",
              "    fill: #D2E3FC;\n",
              "  }\n",
              "\n",
              "  [theme=dark] .colab-df-quickchart:hover {\n",
              "    background-color: #434B5C;\n",
              "    box-shadow: 0px 1px 3px 1px rgba(0, 0, 0, 0.15);\n",
              "    filter: drop-shadow(0px 1px 2px rgba(0, 0, 0, 0.3));\n",
              "    fill: #FFFFFF;\n",
              "  }\n",
              "</style>\n",
              "\n",
              "    <script>\n",
              "      async function quickchart(key) {\n",
              "        const containerElement = document.querySelector('#' + key);\n",
              "        const charts = await google.colab.kernel.invokeFunction(\n",
              "            'suggestCharts', [key], {});\n",
              "      }\n",
              "    </script>\n",
              "\n",
              "      <script>\n",
              "\n",
              "function displayQuickchartButton(domScope) {\n",
              "  let quickchartButtonEl =\n",
              "    domScope.querySelector('#df-67ffb66b-ce9e-4f7c-9237-a51243143804 button.colab-df-quickchart');\n",
              "  quickchartButtonEl.style.display =\n",
              "    google.colab.kernel.accessAllowed ? 'block' : 'none';\n",
              "}\n",
              "\n",
              "        displayQuickchartButton(document);\n",
              "      </script>\n",
              "      <style>\n",
              "    .colab-df-container {\n",
              "      display:flex;\n",
              "      flex-wrap:wrap;\n",
              "      gap: 12px;\n",
              "    }\n",
              "\n",
              "    .colab-df-convert {\n",
              "      background-color: #E8F0FE;\n",
              "      border: none;\n",
              "      border-radius: 50%;\n",
              "      cursor: pointer;\n",
              "      display: none;\n",
              "      fill: #1967D2;\n",
              "      height: 32px;\n",
              "      padding: 0 0 0 0;\n",
              "      width: 32px;\n",
              "    }\n",
              "\n",
              "    .colab-df-convert:hover {\n",
              "      background-color: #E2EBFA;\n",
              "      box-shadow: 0px 1px 2px rgba(60, 64, 67, 0.3), 0px 1px 3px 1px rgba(60, 64, 67, 0.15);\n",
              "      fill: #174EA6;\n",
              "    }\n",
              "\n",
              "    [theme=dark] .colab-df-convert {\n",
              "      background-color: #3B4455;\n",
              "      fill: #D2E3FC;\n",
              "    }\n",
              "\n",
              "    [theme=dark] .colab-df-convert:hover {\n",
              "      background-color: #434B5C;\n",
              "      box-shadow: 0px 1px 3px 1px rgba(0, 0, 0, 0.15);\n",
              "      filter: drop-shadow(0px 1px 2px rgba(0, 0, 0, 0.3));\n",
              "      fill: #FFFFFF;\n",
              "    }\n",
              "  </style>\n",
              "\n",
              "      <script>\n",
              "        const buttonEl =\n",
              "          document.querySelector('#df-d0f35154-1c9f-492e-823c-b1c0d2d07666 button.colab-df-convert');\n",
              "        buttonEl.style.display =\n",
              "          google.colab.kernel.accessAllowed ? 'block' : 'none';\n",
              "\n",
              "        async function convertToInteractive(key) {\n",
              "          const element = document.querySelector('#df-d0f35154-1c9f-492e-823c-b1c0d2d07666');\n",
              "          const dataTable =\n",
              "            await google.colab.kernel.invokeFunction('convertToInteractive',\n",
              "                                                     [key], {});\n",
              "          if (!dataTable) return;\n",
              "\n",
              "          const docLinkHtml = 'Like what you see? Visit the ' +\n",
              "            '<a target=\"_blank\" href=https://colab.research.google.com/notebooks/data_table.ipynb>data table notebook</a>'\n",
              "            + ' to learn more about interactive tables.';\n",
              "          element.innerHTML = '';\n",
              "          dataTable['output_type'] = 'display_data';\n",
              "          await google.colab.output.renderOutput(dataTable, element);\n",
              "          const docLink = document.createElement('div');\n",
              "          docLink.innerHTML = docLinkHtml;\n",
              "          element.appendChild(docLink);\n",
              "        }\n",
              "      </script>\n",
              "    </div>\n",
              "  </div>\n"
            ],
            "text/plain": [
              "                                                   head  \\\n",
              "0            Four ways Bob Corker skewered Donald Trump   \n",
              "1     Linklater's war veteran comedy speaks to moder...   \n",
              "2     Trump’s Fight With Corker Jeopardizes His Legi...   \n",
              "3     Egypt's Cheiron wins tie-up with Pemex for Mex...   \n",
              "4           Jason Aldean opens 'SNL' with Vegas tribute   \n",
              "...                                                 ...   \n",
              "4004                                    Trends to Watch   \n",
              "4005  Trump Jr. Is Soon To Give A 30-Minute Speech F...   \n",
              "4006        Ron Paul on Trump, Anarchism & the AltRight   \n",
              "4007  China to accept overseas trial data in bid to ...   \n",
              "4008  Vice President Mike Pence Leaves NFL Game Beca...   \n",
              "\n",
              "                                                   text  target label  \\\n",
              "0     image copyright getty images on sunday morning...       1  Real   \n",
              "1     london reuters last flag flying a comedydrama ...       1  Real   \n",
              "2     the feud broke into public view last week when...       1  Real   \n",
              "3     mexico city reuters egypts cheiron holdings li...       1  Real   \n",
              "4     country singer jason aldean who was performing...       1  Real   \n",
              "...                                                 ...     ...   ...   \n",
              "4004  trends to watch of readers think this story is...       0  Fake   \n",
              "4005  trump jr is soon to give a 30minute speech for...       0  Fake   \n",
              "4006                                                          0  Fake   \n",
              "4007  shanghai reuters china said it plans to accept...       1  Real   \n",
              "4008  vice president mike pence leaves nfl game beca...       0  Fake   \n",
              "\n",
              "      character_count  word_count  sentence_count  \n",
              "0                6186        1045               1  \n",
              "1                3176         543               1  \n",
              "2                6335        1079               1  \n",
              "3                 609          96               1  \n",
              "4                 204          37               1  \n",
              "...               ...         ...             ...  \n",
              "4004             1713         316               1  \n",
              "4005              276          55               1  \n",
              "4006                0           0               0  \n",
              "4007             1925         315               1  \n",
              "4008             3324         572               1  \n",
              "\n",
              "[4009 rows x 7 columns]"
            ]
          },
          "execution_count": 91,
          "metadata": {},
          "output_type": "execute_result"
        }
      ],
      "source": [
        "df"
      ]
    },
    {
      "cell_type": "code",
      "execution_count": null,
      "metadata": {
        "id": "MsP0G_yesdN0"
      },
      "outputs": [],
      "source": [
        "# cor=df[[\"target\",\"character_count\",\"word_count\"]].corr()\n",
        "# plt.figure(figsize=(7,5))\n",
        "# sns.heatmap(cor,annot=True,cmap=\"jet\",linewidths=7, linecolor='darkorange')\n",
        "# cor.to_csv(f'{path}_cor.csv')\n",
        "# plt.savefig(f'{path}_cor.png',bbox_inches='tight')\n",
        "# plt.show()"
      ]
    },
    {
      "cell_type": "markdown",
      "metadata": {
        "id": "q_aEBXu1sdN0"
      },
      "source": [
        "# Data Length"
      ]
    },
    {
      "cell_type": "code",
      "execution_count": null,
      "metadata": {
        "id": "awzby3knzz-g"
      },
      "outputs": [],
      "source": [
        "df['len'] = df['text'].str.split().apply(len)"
      ]
    },
    {
      "cell_type": "code",
      "execution_count": null,
      "metadata": {
        "id": "xvSY3jDG-q3Z"
      },
      "outputs": [],
      "source": [
        "df = df[df['len']>5]"
      ]
    },
    {
      "cell_type": "code",
      "execution_count": null,
      "metadata": {
        "id": "fUFhUg2KsdN0"
      },
      "outputs": [],
      "source": [
        "# notdisaster_len=df[df[\"target\"]==0][\"text\"].str.split().apply(len)\n",
        "# disaster_len=df[df[\"target\"]==1][\"text\"].str.split().apply(len)\n",
        "# plt.figure(figsize=(7,5))\n",
        "# plt.hist(notdisaster_len, bins=40,label='Fake',color=\"red\")\n",
        "# plt.hist(disaster_len , bins=40, label='Real',color=\"green\")\n",
        "# plt.xlim(0,2000)\n",
        "# plt.title(\"Real Vs Fake tweet\")\n",
        "# plt.legend()\n",
        "# notdisaster_len.to_csv(f'{path}_Fake_len.csv',index=False)\n",
        "# disaster_len.to_csv(f'{path}_Real_len.csv',index=False)\n",
        "\n",
        "# plt.savefig(f'{path}_Real-Fake_len.png',bbox_inches='tight')\n",
        "# plt.show()"
      ]
    },
    {
      "cell_type": "code",
      "source": [
        "import pandas as pd\n",
        "import numpy as np\n",
        "import seaborn as sns\n",
        "import matplotlib.pyplot as plt"
      ],
      "metadata": {
        "id": "FWSm8bZH72fJ"
      },
      "execution_count": 5,
      "outputs": []
    },
    {
      "cell_type": "code",
      "source": [
        "df=pd.read_csv(\"/content/drive/MyDrive/work 46/data.csv\")\n",
        "df"
      ],
      "metadata": {
        "colab": {
          "base_uri": "https://localhost:8080/",
          "height": 424
        },
        "id": "nxRluar271S2",
        "outputId": "ea1e5086-4b21-479c-e411-d968db42bb0a"
      },
      "execution_count": 6,
      "outputs": [
        {
          "output_type": "execute_result",
          "data": {
            "text/plain": [
              "                                                    text  is_rumor  \\\n",
              "0      Charlie Hebdo became well known for publishing...       0.0   \n",
              "1      Now 10 dead in a shooting there today RT \"@BBC...       0.0   \n",
              "2      @BBCDanielS @BBCWorld I'm guessing this is bei...       0.0   \n",
              "3      @BBCDanielS @BBCWorld why would you mention th...       0.0   \n",
              "4                @BBCDanielS @BBCWorld perps identified?       0.0   \n",
              "...                                                  ...       ...   \n",
              "62440  @AnonyOps @Xplant So that means its ok to torc...       1.0   \n",
              "62441  @RianAlden not at all, but they need to change...       1.0   \n",
              "62442  @Xplant @AnonyOps Absoluteky.  But it pains me...       1.0   \n",
              "62443  @Xplant @AnonyOps I'm curious how many of thes...       1.0   \n",
              "62444  @Xplant @AnonyOps You get 15,000 people showin...       1.0   \n",
              "\n",
              "         user.handle         topic  \n",
              "0         BBCDanielS  charliehebdo  \n",
              "1          robbylevy  charliehebdo  \n",
              "2      ModerateInAll  charliehebdo  \n",
              "3        GabTarquini  charliehebdo  \n",
              "4      freethought41  charliehebdo  \n",
              "...              ...           ...  \n",
              "62440      RianAlden      ferguson  \n",
              "62441         Xplant      ferguson  \n",
              "62442      RianAlden      ferguson  \n",
              "62443      RianAlden      ferguson  \n",
              "62444      RianAlden      ferguson  \n",
              "\n",
              "[62445 rows x 4 columns]"
            ],
            "text/html": [
              "\n",
              "\n",
              "  <div id=\"df-b59f6530-e7e7-4c95-aaf1-0e6a6799c334\">\n",
              "    <div class=\"colab-df-container\">\n",
              "      <div>\n",
              "<style scoped>\n",
              "    .dataframe tbody tr th:only-of-type {\n",
              "        vertical-align: middle;\n",
              "    }\n",
              "\n",
              "    .dataframe tbody tr th {\n",
              "        vertical-align: top;\n",
              "    }\n",
              "\n",
              "    .dataframe thead th {\n",
              "        text-align: right;\n",
              "    }\n",
              "</style>\n",
              "<table border=\"1\" class=\"dataframe\">\n",
              "  <thead>\n",
              "    <tr style=\"text-align: right;\">\n",
              "      <th></th>\n",
              "      <th>text</th>\n",
              "      <th>is_rumor</th>\n",
              "      <th>user.handle</th>\n",
              "      <th>topic</th>\n",
              "    </tr>\n",
              "  </thead>\n",
              "  <tbody>\n",
              "    <tr>\n",
              "      <th>0</th>\n",
              "      <td>Charlie Hebdo became well known for publishing...</td>\n",
              "      <td>0.0</td>\n",
              "      <td>BBCDanielS</td>\n",
              "      <td>charliehebdo</td>\n",
              "    </tr>\n",
              "    <tr>\n",
              "      <th>1</th>\n",
              "      <td>Now 10 dead in a shooting there today RT \"@BBC...</td>\n",
              "      <td>0.0</td>\n",
              "      <td>robbylevy</td>\n",
              "      <td>charliehebdo</td>\n",
              "    </tr>\n",
              "    <tr>\n",
              "      <th>2</th>\n",
              "      <td>@BBCDanielS @BBCWorld I'm guessing this is bei...</td>\n",
              "      <td>0.0</td>\n",
              "      <td>ModerateInAll</td>\n",
              "      <td>charliehebdo</td>\n",
              "    </tr>\n",
              "    <tr>\n",
              "      <th>3</th>\n",
              "      <td>@BBCDanielS @BBCWorld why would you mention th...</td>\n",
              "      <td>0.0</td>\n",
              "      <td>GabTarquini</td>\n",
              "      <td>charliehebdo</td>\n",
              "    </tr>\n",
              "    <tr>\n",
              "      <th>4</th>\n",
              "      <td>@BBCDanielS @BBCWorld perps identified?</td>\n",
              "      <td>0.0</td>\n",
              "      <td>freethought41</td>\n",
              "      <td>charliehebdo</td>\n",
              "    </tr>\n",
              "    <tr>\n",
              "      <th>...</th>\n",
              "      <td>...</td>\n",
              "      <td>...</td>\n",
              "      <td>...</td>\n",
              "      <td>...</td>\n",
              "    </tr>\n",
              "    <tr>\n",
              "      <th>62440</th>\n",
              "      <td>@AnonyOps @Xplant So that means its ok to torc...</td>\n",
              "      <td>1.0</td>\n",
              "      <td>RianAlden</td>\n",
              "      <td>ferguson</td>\n",
              "    </tr>\n",
              "    <tr>\n",
              "      <th>62441</th>\n",
              "      <td>@RianAlden not at all, but they need to change...</td>\n",
              "      <td>1.0</td>\n",
              "      <td>Xplant</td>\n",
              "      <td>ferguson</td>\n",
              "    </tr>\n",
              "    <tr>\n",
              "      <th>62442</th>\n",
              "      <td>@Xplant @AnonyOps Absoluteky.  But it pains me...</td>\n",
              "      <td>1.0</td>\n",
              "      <td>RianAlden</td>\n",
              "      <td>ferguson</td>\n",
              "    </tr>\n",
              "    <tr>\n",
              "      <th>62443</th>\n",
              "      <td>@Xplant @AnonyOps I'm curious how many of thes...</td>\n",
              "      <td>1.0</td>\n",
              "      <td>RianAlden</td>\n",
              "      <td>ferguson</td>\n",
              "    </tr>\n",
              "    <tr>\n",
              "      <th>62444</th>\n",
              "      <td>@Xplant @AnonyOps You get 15,000 people showin...</td>\n",
              "      <td>1.0</td>\n",
              "      <td>RianAlden</td>\n",
              "      <td>ferguson</td>\n",
              "    </tr>\n",
              "  </tbody>\n",
              "</table>\n",
              "<p>62445 rows × 4 columns</p>\n",
              "</div>\n",
              "      <button class=\"colab-df-convert\" onclick=\"convertToInteractive('df-b59f6530-e7e7-4c95-aaf1-0e6a6799c334')\"\n",
              "              title=\"Convert this dataframe to an interactive table.\"\n",
              "              style=\"display:none;\">\n",
              "\n",
              "  <svg xmlns=\"http://www.w3.org/2000/svg\" height=\"24px\"viewBox=\"0 0 24 24\"\n",
              "       width=\"24px\">\n",
              "    <path d=\"M0 0h24v24H0V0z\" fill=\"none\"/>\n",
              "    <path d=\"M18.56 5.44l.94 2.06.94-2.06 2.06-.94-2.06-.94-.94-2.06-.94 2.06-2.06.94zm-11 1L8.5 8.5l.94-2.06 2.06-.94-2.06-.94L8.5 2.5l-.94 2.06-2.06.94zm10 10l.94 2.06.94-2.06 2.06-.94-2.06-.94-.94-2.06-.94 2.06-2.06.94z\"/><path d=\"M17.41 7.96l-1.37-1.37c-.4-.4-.92-.59-1.43-.59-.52 0-1.04.2-1.43.59L10.3 9.45l-7.72 7.72c-.78.78-.78 2.05 0 2.83L4 21.41c.39.39.9.59 1.41.59.51 0 1.02-.2 1.41-.59l7.78-7.78 2.81-2.81c.8-.78.8-2.07 0-2.86zM5.41 20L4 18.59l7.72-7.72 1.47 1.35L5.41 20z\"/>\n",
              "  </svg>\n",
              "      </button>\n",
              "\n",
              "\n",
              "\n",
              "    <div id=\"df-135e58b8-f0a4-4b45-9a6d-a2716f203275\">\n",
              "      <button class=\"colab-df-quickchart\" onclick=\"quickchart('df-135e58b8-f0a4-4b45-9a6d-a2716f203275')\"\n",
              "              title=\"Suggest charts.\"\n",
              "              style=\"display:none;\">\n",
              "\n",
              "<svg xmlns=\"http://www.w3.org/2000/svg\" height=\"24px\"viewBox=\"0 0 24 24\"\n",
              "     width=\"24px\">\n",
              "    <g>\n",
              "        <path d=\"M19 3H5c-1.1 0-2 .9-2 2v14c0 1.1.9 2 2 2h14c1.1 0 2-.9 2-2V5c0-1.1-.9-2-2-2zM9 17H7v-7h2v7zm4 0h-2V7h2v10zm4 0h-2v-4h2v4z\"/>\n",
              "    </g>\n",
              "</svg>\n",
              "      </button>\n",
              "    </div>\n",
              "\n",
              "<style>\n",
              "  .colab-df-quickchart {\n",
              "    background-color: #E8F0FE;\n",
              "    border: none;\n",
              "    border-radius: 50%;\n",
              "    cursor: pointer;\n",
              "    display: none;\n",
              "    fill: #1967D2;\n",
              "    height: 32px;\n",
              "    padding: 0 0 0 0;\n",
              "    width: 32px;\n",
              "  }\n",
              "\n",
              "  .colab-df-quickchart:hover {\n",
              "    background-color: #E2EBFA;\n",
              "    box-shadow: 0px 1px 2px rgba(60, 64, 67, 0.3), 0px 1px 3px 1px rgba(60, 64, 67, 0.15);\n",
              "    fill: #174EA6;\n",
              "  }\n",
              "\n",
              "  [theme=dark] .colab-df-quickchart {\n",
              "    background-color: #3B4455;\n",
              "    fill: #D2E3FC;\n",
              "  }\n",
              "\n",
              "  [theme=dark] .colab-df-quickchart:hover {\n",
              "    background-color: #434B5C;\n",
              "    box-shadow: 0px 1px 3px 1px rgba(0, 0, 0, 0.15);\n",
              "    filter: drop-shadow(0px 1px 2px rgba(0, 0, 0, 0.3));\n",
              "    fill: #FFFFFF;\n",
              "  }\n",
              "</style>\n",
              "\n",
              "    <script>\n",
              "      async function quickchart(key) {\n",
              "        const containerElement = document.querySelector('#' + key);\n",
              "        const charts = await google.colab.kernel.invokeFunction(\n",
              "            'suggestCharts', [key], {});\n",
              "      }\n",
              "    </script>\n",
              "\n",
              "      <script>\n",
              "\n",
              "function displayQuickchartButton(domScope) {\n",
              "  let quickchartButtonEl =\n",
              "    domScope.querySelector('#df-135e58b8-f0a4-4b45-9a6d-a2716f203275 button.colab-df-quickchart');\n",
              "  quickchartButtonEl.style.display =\n",
              "    google.colab.kernel.accessAllowed ? 'block' : 'none';\n",
              "}\n",
              "\n",
              "        displayQuickchartButton(document);\n",
              "      </script>\n",
              "      <style>\n",
              "    .colab-df-container {\n",
              "      display:flex;\n",
              "      flex-wrap:wrap;\n",
              "      gap: 12px;\n",
              "    }\n",
              "\n",
              "    .colab-df-convert {\n",
              "      background-color: #E8F0FE;\n",
              "      border: none;\n",
              "      border-radius: 50%;\n",
              "      cursor: pointer;\n",
              "      display: none;\n",
              "      fill: #1967D2;\n",
              "      height: 32px;\n",
              "      padding: 0 0 0 0;\n",
              "      width: 32px;\n",
              "    }\n",
              "\n",
              "    .colab-df-convert:hover {\n",
              "      background-color: #E2EBFA;\n",
              "      box-shadow: 0px 1px 2px rgba(60, 64, 67, 0.3), 0px 1px 3px 1px rgba(60, 64, 67, 0.15);\n",
              "      fill: #174EA6;\n",
              "    }\n",
              "\n",
              "    [theme=dark] .colab-df-convert {\n",
              "      background-color: #3B4455;\n",
              "      fill: #D2E3FC;\n",
              "    }\n",
              "\n",
              "    [theme=dark] .colab-df-convert:hover {\n",
              "      background-color: #434B5C;\n",
              "      box-shadow: 0px 1px 3px 1px rgba(0, 0, 0, 0.15);\n",
              "      filter: drop-shadow(0px 1px 2px rgba(0, 0, 0, 0.3));\n",
              "      fill: #FFFFFF;\n",
              "    }\n",
              "  </style>\n",
              "\n",
              "      <script>\n",
              "        const buttonEl =\n",
              "          document.querySelector('#df-b59f6530-e7e7-4c95-aaf1-0e6a6799c334 button.colab-df-convert');\n",
              "        buttonEl.style.display =\n",
              "          google.colab.kernel.accessAllowed ? 'block' : 'none';\n",
              "\n",
              "        async function convertToInteractive(key) {\n",
              "          const element = document.querySelector('#df-b59f6530-e7e7-4c95-aaf1-0e6a6799c334');\n",
              "          const dataTable =\n",
              "            await google.colab.kernel.invokeFunction('convertToInteractive',\n",
              "                                                     [key], {});\n",
              "          if (!dataTable) return;\n",
              "\n",
              "          const docLinkHtml = 'Like what you see? Visit the ' +\n",
              "            '<a target=\"_blank\" href=https://colab.research.google.com/notebooks/data_table.ipynb>data table notebook</a>'\n",
              "            + ' to learn more about interactive tables.';\n",
              "          element.innerHTML = '';\n",
              "          dataTable['output_type'] = 'display_data';\n",
              "          await google.colab.output.renderOutput(dataTable, element);\n",
              "          const docLink = document.createElement('div');\n",
              "          docLink.innerHTML = docLinkHtml;\n",
              "          element.appendChild(docLink);\n",
              "        }\n",
              "      </script>\n",
              "    </div>\n",
              "  </div>\n"
            ]
          },
          "metadata": {},
          "execution_count": 6
        }
      ]
    },
    {
      "cell_type": "markdown",
      "metadata": {
        "id": "k8ZXnDE6sdN0"
      },
      "source": [
        "# ALL Data Wordcloud"
      ]
    },
    {
      "cell_type": "code",
      "execution_count": null,
      "metadata": {
        "id": "K408onTIsdN0"
      },
      "outputs": [],
      "source": [
        "# plt.figure(figsize=(16,8),dpi=600)\n",
        "# all_text=\" \".join(df['text'].values.tolist())\n",
        "# wordcloud = WordCloud(width=1200, height=800,stopwords=STOPWORDS, background_color='navy', max_words=500,colormap=\"hsv\").generate(all_text)\n",
        "# plt.imshow(wordcloud, interpolation='bilinear')\n",
        "# plt.axis('off')\n",
        "# plt.savefig(f'{path}_all_data.png',bbox_inches='tight')\n",
        "# plt.show()"
      ]
    },
    {
      "cell_type": "markdown",
      "metadata": {
        "id": "P3BAanyhsdN0"
      },
      "source": [
        "# Disaster Data Wordcloud"
      ]
    },
    {
      "cell_type": "code",
      "execution_count": null,
      "metadata": {
        "id": "xg32L7WisdN0"
      },
      "outputs": [],
      "source": [
        "# plt.figure(figsize=(16,8),dpi=600)\n",
        "# disaster_wordcloud=df[df[\"target\"]==1]\n",
        "# disaster_text=\" \".join(disaster_wordcloud['text'].values.tolist())\n",
        "# wordcloud = WordCloud(width=1200, height=800,stopwords=STOPWORDS, background_color='navy', max_words=500,colormap=\"hsv\").generate(disaster_text)\n",
        "# plt.imshow(wordcloud, interpolation='bilinear')\n",
        "# plt.axis('off')\n",
        "# plt.savefig(f'{path}_disaster_data.png',bbox_inches='tight')\n",
        "# plt.show()"
      ]
    },
    {
      "cell_type": "markdown",
      "metadata": {
        "id": "6uHz4NwMsdN1"
      },
      "source": [
        "# Non Disaster Wordcloud"
      ]
    },
    {
      "cell_type": "code",
      "execution_count": null,
      "metadata": {
        "id": "ppuImQNIsdN1"
      },
      "outputs": [],
      "source": [
        "# plt.figure(figsize=(16,8),dpi=600)\n",
        "# nondisaster_wordcloud=df[df[\"target\"]==0]\n",
        "# nondisaster_text=\" \".join(nondisaster_wordcloud['text'].values.tolist())\n",
        "# wordcloud = WordCloud(width=1200, height=800,stopwords=STOPWORDS, background_color='navy', max_words=500,colormap=\"hsv\").generate(nondisaster_text)\n",
        "# plt.imshow(wordcloud, interpolation='bilinear')\n",
        "# plt.axis('off')\n",
        "# plt.savefig(f'{path}_non_disaster_data.png',bbox_inches='tight')\n",
        "# plt.show()"
      ]
    },
    {
      "cell_type": "markdown",
      "metadata": {
        "id": "ioc-Xu_osdN1"
      },
      "source": [
        "# 30 Most common Words From All Text"
      ]
    },
    {
      "cell_type": "code",
      "execution_count": null,
      "metadata": {
        "id": "-Srq2-NbsdN1"
      },
      "outputs": [],
      "source": [
        "# data_set =df[\"text\"].str.split()\n",
        "# all_words = list(chain.from_iterable(data_set))\n",
        "# counter = Counter(all_words)\n",
        "# common_words = counter.most_common(30)\n",
        "# df_common_words = pd.DataFrame(common_words, columns=['Word', 'Count'])\n",
        "\n",
        "# colors = [\"darkviolet\", \"chocolate\", \"mediumslateblue\", \"darkgreen\", \"orangered\", \"mediumblue\", \"peru\", \"mediumspringgreen\",\n",
        "#     \"lightcoral\", \"darkslategray\", \"olivedrab\", \"dodgerblue\", \"indianred\", \"limegreen\", \"steelblue\",\n",
        "#           \"royalblue\", \"darkorchid\", \"darkturquoise\", \"darkgoldenrod\", \"mediumvioletred\", \"mediumaquamarine\",\n",
        "\n",
        "#           \"cyan\", \"lime\", \"magenta\", \"gold\", \"purple\", \"tomato\", \"teal\", \"sandybrown\", \"mediumseagreen\"]\n",
        "\n",
        "# plt.figure(figsize=(12, 6))\n",
        "# sns.barplot(x='Count', y='Word', data=df_common_words, palette=colors)\n",
        "# plt.title('30 Most Common Words')\n",
        "# plt.xlabel('Count')\n",
        "# plt.ylabel('Word')\n",
        "# df_common_words.to_csv(f'{path}_df_common_words.csv')\n",
        "# plt.savefig(f'{path}_df_common_words.png',bbox_inches='tight')\n",
        "# plt.show()\n"
      ]
    },
    {
      "cell_type": "markdown",
      "metadata": {
        "id": "zoFgyRIisdN1"
      },
      "source": [
        "# Most Common Words From Non Disaster Text"
      ]
    },
    {
      "cell_type": "code",
      "source": [
        "df"
      ],
      "metadata": {
        "colab": {
          "base_uri": "https://localhost:8080/",
          "height": 424
        },
        "id": "W-SkMWmR8H20",
        "outputId": "796e5ac9-843a-45ac-e4ca-a07dd3fd57c6"
      },
      "execution_count": 28,
      "outputs": [
        {
          "output_type": "execute_result",
          "data": {
            "text/plain": [
              "                                                    text  is_rumor      label\n",
              "233                                      1903 trying say       0.0  not Rumor\n",
              "36697  boubaker alhakim connection actual claim franc...       1.0      Rumor\n",
              "7430   01 1684 agree collective struggle across human...       0.0  not Rumor\n",
              "35971  course another siege going jewish kosher groce...       1.0      Rumor\n",
              "24849  io ya know isis twitter propagandist mehdi sai...       0.0  not Rumor\n",
              "...                                                  ...       ...        ...\n",
              "1129   sorry even stupid divine law tweet im sure kil...       0.0  not Rumor\n",
              "8320                                          right dear       0.0  not Rumor\n",
              "56331  sure afford read matter laziness disorganizati...       1.0      Rumor\n",
              "41291       04 awe poor wittle thing need attention dont       0.0  not Rumor\n",
              "36001                                  spcial force gign       1.0      Rumor\n",
              "\n",
              "[5800 rows x 3 columns]"
            ],
            "text/html": [
              "\n",
              "\n",
              "  <div id=\"df-4801c2cb-2665-4f79-b613-46136e418cd7\">\n",
              "    <div class=\"colab-df-container\">\n",
              "      <div>\n",
              "<style scoped>\n",
              "    .dataframe tbody tr th:only-of-type {\n",
              "        vertical-align: middle;\n",
              "    }\n",
              "\n",
              "    .dataframe tbody tr th {\n",
              "        vertical-align: top;\n",
              "    }\n",
              "\n",
              "    .dataframe thead th {\n",
              "        text-align: right;\n",
              "    }\n",
              "</style>\n",
              "<table border=\"1\" class=\"dataframe\">\n",
              "  <thead>\n",
              "    <tr style=\"text-align: right;\">\n",
              "      <th></th>\n",
              "      <th>text</th>\n",
              "      <th>is_rumor</th>\n",
              "      <th>label</th>\n",
              "    </tr>\n",
              "  </thead>\n",
              "  <tbody>\n",
              "    <tr>\n",
              "      <th>233</th>\n",
              "      <td>1903 trying say</td>\n",
              "      <td>0.0</td>\n",
              "      <td>not Rumor</td>\n",
              "    </tr>\n",
              "    <tr>\n",
              "      <th>36697</th>\n",
              "      <td>boubaker alhakim connection actual claim franc...</td>\n",
              "      <td>1.0</td>\n",
              "      <td>Rumor</td>\n",
              "    </tr>\n",
              "    <tr>\n",
              "      <th>7430</th>\n",
              "      <td>01 1684 agree collective struggle across human...</td>\n",
              "      <td>0.0</td>\n",
              "      <td>not Rumor</td>\n",
              "    </tr>\n",
              "    <tr>\n",
              "      <th>35971</th>\n",
              "      <td>course another siege going jewish kosher groce...</td>\n",
              "      <td>1.0</td>\n",
              "      <td>Rumor</td>\n",
              "    </tr>\n",
              "    <tr>\n",
              "      <th>24849</th>\n",
              "      <td>io ya know isis twitter propagandist mehdi sai...</td>\n",
              "      <td>0.0</td>\n",
              "      <td>not Rumor</td>\n",
              "    </tr>\n",
              "    <tr>\n",
              "      <th>...</th>\n",
              "      <td>...</td>\n",
              "      <td>...</td>\n",
              "      <td>...</td>\n",
              "    </tr>\n",
              "    <tr>\n",
              "      <th>1129</th>\n",
              "      <td>sorry even stupid divine law tweet im sure kil...</td>\n",
              "      <td>0.0</td>\n",
              "      <td>not Rumor</td>\n",
              "    </tr>\n",
              "    <tr>\n",
              "      <th>8320</th>\n",
              "      <td>right dear</td>\n",
              "      <td>0.0</td>\n",
              "      <td>not Rumor</td>\n",
              "    </tr>\n",
              "    <tr>\n",
              "      <th>56331</th>\n",
              "      <td>sure afford read matter laziness disorganizati...</td>\n",
              "      <td>1.0</td>\n",
              "      <td>Rumor</td>\n",
              "    </tr>\n",
              "    <tr>\n",
              "      <th>41291</th>\n",
              "      <td>04 awe poor wittle thing need attention dont</td>\n",
              "      <td>0.0</td>\n",
              "      <td>not Rumor</td>\n",
              "    </tr>\n",
              "    <tr>\n",
              "      <th>36001</th>\n",
              "      <td>spcial force gign</td>\n",
              "      <td>1.0</td>\n",
              "      <td>Rumor</td>\n",
              "    </tr>\n",
              "  </tbody>\n",
              "</table>\n",
              "<p>5800 rows × 3 columns</p>\n",
              "</div>\n",
              "      <button class=\"colab-df-convert\" onclick=\"convertToInteractive('df-4801c2cb-2665-4f79-b613-46136e418cd7')\"\n",
              "              title=\"Convert this dataframe to an interactive table.\"\n",
              "              style=\"display:none;\">\n",
              "\n",
              "  <svg xmlns=\"http://www.w3.org/2000/svg\" height=\"24px\"viewBox=\"0 0 24 24\"\n",
              "       width=\"24px\">\n",
              "    <path d=\"M0 0h24v24H0V0z\" fill=\"none\"/>\n",
              "    <path d=\"M18.56 5.44l.94 2.06.94-2.06 2.06-.94-2.06-.94-.94-2.06-.94 2.06-2.06.94zm-11 1L8.5 8.5l.94-2.06 2.06-.94-2.06-.94L8.5 2.5l-.94 2.06-2.06.94zm10 10l.94 2.06.94-2.06 2.06-.94-2.06-.94-.94-2.06-.94 2.06-2.06.94z\"/><path d=\"M17.41 7.96l-1.37-1.37c-.4-.4-.92-.59-1.43-.59-.52 0-1.04.2-1.43.59L10.3 9.45l-7.72 7.72c-.78.78-.78 2.05 0 2.83L4 21.41c.39.39.9.59 1.41.59.51 0 1.02-.2 1.41-.59l7.78-7.78 2.81-2.81c.8-.78.8-2.07 0-2.86zM5.41 20L4 18.59l7.72-7.72 1.47 1.35L5.41 20z\"/>\n",
              "  </svg>\n",
              "      </button>\n",
              "\n",
              "\n",
              "\n",
              "    <div id=\"df-929ea43a-2836-40a1-a927-f06b81bc8459\">\n",
              "      <button class=\"colab-df-quickchart\" onclick=\"quickchart('df-929ea43a-2836-40a1-a927-f06b81bc8459')\"\n",
              "              title=\"Suggest charts.\"\n",
              "              style=\"display:none;\">\n",
              "\n",
              "<svg xmlns=\"http://www.w3.org/2000/svg\" height=\"24px\"viewBox=\"0 0 24 24\"\n",
              "     width=\"24px\">\n",
              "    <g>\n",
              "        <path d=\"M19 3H5c-1.1 0-2 .9-2 2v14c0 1.1.9 2 2 2h14c1.1 0 2-.9 2-2V5c0-1.1-.9-2-2-2zM9 17H7v-7h2v7zm4 0h-2V7h2v10zm4 0h-2v-4h2v4z\"/>\n",
              "    </g>\n",
              "</svg>\n",
              "      </button>\n",
              "    </div>\n",
              "\n",
              "<style>\n",
              "  .colab-df-quickchart {\n",
              "    background-color: #E8F0FE;\n",
              "    border: none;\n",
              "    border-radius: 50%;\n",
              "    cursor: pointer;\n",
              "    display: none;\n",
              "    fill: #1967D2;\n",
              "    height: 32px;\n",
              "    padding: 0 0 0 0;\n",
              "    width: 32px;\n",
              "  }\n",
              "\n",
              "  .colab-df-quickchart:hover {\n",
              "    background-color: #E2EBFA;\n",
              "    box-shadow: 0px 1px 2px rgba(60, 64, 67, 0.3), 0px 1px 3px 1px rgba(60, 64, 67, 0.15);\n",
              "    fill: #174EA6;\n",
              "  }\n",
              "\n",
              "  [theme=dark] .colab-df-quickchart {\n",
              "    background-color: #3B4455;\n",
              "    fill: #D2E3FC;\n",
              "  }\n",
              "\n",
              "  [theme=dark] .colab-df-quickchart:hover {\n",
              "    background-color: #434B5C;\n",
              "    box-shadow: 0px 1px 3px 1px rgba(0, 0, 0, 0.15);\n",
              "    filter: drop-shadow(0px 1px 2px rgba(0, 0, 0, 0.3));\n",
              "    fill: #FFFFFF;\n",
              "  }\n",
              "</style>\n",
              "\n",
              "    <script>\n",
              "      async function quickchart(key) {\n",
              "        const containerElement = document.querySelector('#' + key);\n",
              "        const charts = await google.colab.kernel.invokeFunction(\n",
              "            'suggestCharts', [key], {});\n",
              "      }\n",
              "    </script>\n",
              "\n",
              "      <script>\n",
              "\n",
              "function displayQuickchartButton(domScope) {\n",
              "  let quickchartButtonEl =\n",
              "    domScope.querySelector('#df-929ea43a-2836-40a1-a927-f06b81bc8459 button.colab-df-quickchart');\n",
              "  quickchartButtonEl.style.display =\n",
              "    google.colab.kernel.accessAllowed ? 'block' : 'none';\n",
              "}\n",
              "\n",
              "        displayQuickchartButton(document);\n",
              "      </script>\n",
              "      <style>\n",
              "    .colab-df-container {\n",
              "      display:flex;\n",
              "      flex-wrap:wrap;\n",
              "      gap: 12px;\n",
              "    }\n",
              "\n",
              "    .colab-df-convert {\n",
              "      background-color: #E8F0FE;\n",
              "      border: none;\n",
              "      border-radius: 50%;\n",
              "      cursor: pointer;\n",
              "      display: none;\n",
              "      fill: #1967D2;\n",
              "      height: 32px;\n",
              "      padding: 0 0 0 0;\n",
              "      width: 32px;\n",
              "    }\n",
              "\n",
              "    .colab-df-convert:hover {\n",
              "      background-color: #E2EBFA;\n",
              "      box-shadow: 0px 1px 2px rgba(60, 64, 67, 0.3), 0px 1px 3px 1px rgba(60, 64, 67, 0.15);\n",
              "      fill: #174EA6;\n",
              "    }\n",
              "\n",
              "    [theme=dark] .colab-df-convert {\n",
              "      background-color: #3B4455;\n",
              "      fill: #D2E3FC;\n",
              "    }\n",
              "\n",
              "    [theme=dark] .colab-df-convert:hover {\n",
              "      background-color: #434B5C;\n",
              "      box-shadow: 0px 1px 3px 1px rgba(0, 0, 0, 0.15);\n",
              "      filter: drop-shadow(0px 1px 2px rgba(0, 0, 0, 0.3));\n",
              "      fill: #FFFFFF;\n",
              "    }\n",
              "  </style>\n",
              "\n",
              "      <script>\n",
              "        const buttonEl =\n",
              "          document.querySelector('#df-4801c2cb-2665-4f79-b613-46136e418cd7 button.colab-df-convert');\n",
              "        buttonEl.style.display =\n",
              "          google.colab.kernel.accessAllowed ? 'block' : 'none';\n",
              "\n",
              "        async function convertToInteractive(key) {\n",
              "          const element = document.querySelector('#df-4801c2cb-2665-4f79-b613-46136e418cd7');\n",
              "          const dataTable =\n",
              "            await google.colab.kernel.invokeFunction('convertToInteractive',\n",
              "                                                     [key], {});\n",
              "          if (!dataTable) return;\n",
              "\n",
              "          const docLinkHtml = 'Like what you see? Visit the ' +\n",
              "            '<a target=\"_blank\" href=https://colab.research.google.com/notebooks/data_table.ipynb>data table notebook</a>'\n",
              "            + ' to learn more about interactive tables.';\n",
              "          element.innerHTML = '';\n",
              "          dataTable['output_type'] = 'display_data';\n",
              "          await google.colab.output.renderOutput(dataTable, element);\n",
              "          const docLink = document.createElement('div');\n",
              "          docLink.innerHTML = docLinkHtml;\n",
              "          element.appendChild(docLink);\n",
              "        }\n",
              "      </script>\n",
              "    </div>\n",
              "  </div>\n"
            ]
          },
          "metadata": {},
          "execution_count": 28
        }
      ]
    },
    {
      "cell_type": "code",
      "source": [
        "from collections import Counter"
      ],
      "metadata": {
        "id": "gNSAHCix8uua"
      },
      "execution_count": 31,
      "outputs": []
    },
    {
      "cell_type": "code",
      "execution_count": 34,
      "metadata": {
        "id": "T9-LqJt4sdN1",
        "colab": {
          "base_uri": "https://localhost:8080/",
          "height": 718
        },
        "outputId": "926a1546-b051-4d12-f373-02529de4e973"
      },
      "outputs": [
        {
          "output_type": "display_data",
          "data": {
            "text/plain": [
              "<Figure size 1200x800 with 1 Axes>"
            ],
            "image/png": "[encoded data removed]"
          },
          "metadata": {}
        }
      ],
      "source": [
        "no_disaster_text = df[df[\"is_rumor\"] == 0]\n",
        "data_set = no_disaster_text[\"text\"].str.split()\n",
        "all_words = [word for sublist in data_set for word in sublist]\n",
        "counter = Counter(all_words)\n",
        "common_words = counter.most_common(30)\n",
        "df_common_words = pd.DataFrame(common_words, columns=['Word', 'Count'])\n",
        "plt.figure(figsize=(12, 8))\n",
        "sns.barplot(x='Count', y='Word', data=df_common_words,palette=\"Set1\")\n",
        "plt.title('30 Most Common Words in non-rumor texts')\n",
        "plt.xlabel('Count news')\n",
        "plt.ylabel('non-Rumor news')\n",
        "# plt.ylabel('Word')\n",
        "df_common_words.to_csv(f'{path}_df_common_words_non_rumor.csv')\n",
        "plt.savefig(f'{path}_df_common_words_non_rumor.png',bbox_inches='tight')\n",
        "plt.show()\n",
        "\n"
      ]
    },
    {
      "cell_type": "markdown",
      "metadata": {
        "id": "3ZP-IRfgsdN1"
      },
      "source": [
        "# 30 Most Common Words From Disaster Text"
      ]
    },
    {
      "cell_type": "code",
      "execution_count": null,
      "metadata": {
        "id": "1vToqQ6hsdN1"
      },
      "outputs": [],
      "source": [
        "# disaster_text = df[df[\"target\"] == 1]\n",
        "# data_set = disaster_text[\"text\"].str.split()\n",
        "# all_words = [word for sublist in data_set for word in sublist]\n",
        "# counter = Counter(all_words)\n",
        "# common_words = counter.most_common(30)\n",
        "# df_common_words = pd.DataFrame(common_words, columns=['Word', 'Count'])\n",
        "# plt.figure(figsize=(12, 8))\n",
        "# colors = [\"red\", \"green\", \"blue\", \"yellow\", \"orange\", \"purple\", \"pink\", \"brown\", \"gray\",\n",
        "#           \"cyan\", \"magenta\", \"teal\", \"olive\", \"lime\", \"navy\", \"maroon\", \"aquamarine\",\n",
        "#           \"coral\", \"gold\", \"indigo\", \"lavender\", \"salmon\", \"silver\", \"tan\", \"violet\",\n",
        "#           \"crimson\", \"darkgreen\", \"darkblue\", \"darkorange\", \"deeppink\"]\n",
        "# sns.barplot(x='Count', y='Word', data=df_common_words,palette=colors)\n",
        "# plt.title('30 Most Common Words Real')\n",
        "# plt.xlabel('Count  Real')\n",
        "# plt.ylabel('Real Word')\n",
        "# df_common_words.to_csv(f'{path}_df_common_words_Real.csv')\n",
        "# plt.savefig(f'{path}_df_common_words_Real.png',bbox_inches='tight')\n",
        "# plt.show()\n"
      ]
    },
    {
      "cell_type": "markdown",
      "metadata": {
        "id": "KeFhkM3_sdN1"
      },
      "source": [
        "# Character Count"
      ]
    },
    {
      "cell_type": "code",
      "execution_count": null,
      "metadata": {
        "id": "Y3XSQj5JsdN1"
      },
      "outputs": [],
      "source": [
        "# color=[\"red\",\"green\"]\n",
        "# plt.figure(figsize=(7,5))\n",
        "\n",
        "# sns.histplot(data=df,x=\"character_count\",palette=color,kde=True,hue=\"label\",element=\"step\",stat=\"density\")\n",
        "# plt.title(\"Character Count\",fontsize=15,color=\"darkblue\")\n",
        "# df['character_count'].to_csv(f'{path}_character_count.csv')\n",
        "# plt.savefig(f'{path}_character_count.png',bbox_inches='tight')\n",
        "# plt.show()"
      ]
    },
    {
      "cell_type": "markdown",
      "metadata": {
        "id": "OwtjmNtJsdN1"
      },
      "source": [
        "# Word Count"
      ]
    },
    {
      "cell_type": "code",
      "execution_count": null,
      "metadata": {
        "id": "Dobu8vs6sdN1"
      },
      "outputs": [],
      "source": [
        "# color=[\"navy\",\"darkorange\"]\n",
        "# plt.figure(figsize=(7,5))\n",
        "\n",
        "# sns.histplot(data=df,x=\"word_count\",palette=color,kde=True,hue=\"label\")\n",
        "# plt.title(\"Word Count\",fontsize=15,color=\"darkblue\")\n",
        "# plt.xlim(0,2000)\n",
        "# df[['word_count','label']].to_csv(f'{path}_word_count.csv')\n",
        "# plt.savefig(f'{path}_word_count.png',bbox_inches='tight')\n",
        "# plt.show()"
      ]
    },
    {
      "cell_type": "markdown",
      "metadata": {
        "id": "qN4vOls2sdN1"
      },
      "source": [
        "# Sentence Count"
      ]
    },
    {
      "cell_type": "code",
      "execution_count": null,
      "metadata": {
        "colab": {
          "base_uri": "https://localhost:8080/"
        },
        "execution": {
          "iopub.execute_input": "2023-07-10T19:19:19.514502Z",
          "iopub.status.busy": "2023-07-10T19:19:19.5138Z",
          "iopub.status.idle": "2023-07-10T19:19:19.521503Z",
          "shell.execute_reply": "2023-07-10T19:19:19.520285Z",
          "shell.execute_reply.started": "2023-07-10T19:19:19.514465Z"
        },
        "id": "rEm7CTMtsdN5",
        "outputId": "d0bdf798-f49b-49bd-84fd-4c0c90497937"
      },
      "outputs": [
        {
          "name": "stderr",
          "output_type": "stream",
          "text": [
            "<ipython-input-106-2231b8039d64>:1: SettingWithCopyWarning: \n",
            "A value is trying to be set on a copy of a slice from a DataFrame\n",
            "\n",
            "See the caveats in the documentation: https://pandas.pydata.org/pandas-docs/stable/user_guide/indexing.html#returning-a-view-versus-a-copy\n",
            "  df.drop([\"character_count\",\"word_count\",\"sentence_count\"],axis=1,inplace=True)\n"
          ]
        }
      ],
      "source": [
        "df.drop([\"character_count\",\"word_count\",\"sentence_count\"],axis=1,inplace=True)"
      ]
    },
    {
      "cell_type": "markdown",
      "metadata": {
        "id": "yXrP7CfPsdN5"
      },
      "source": [
        "# Average Sentence Length"
      ]
    },
    {
      "cell_type": "code",
      "execution_count": null,
      "metadata": {
        "colab": {
          "base_uri": "https://localhost:8080/"
        },
        "id": "6vvWGTMc_q0w",
        "outputId": "76465e79-13d5-4398-cba3-7b586b856477"
      },
      "outputs": [
        {
          "data": {
            "text/plain": [
              "482.5110330992979"
            ]
          },
          "execution_count": 109,
          "metadata": {},
          "output_type": "execute_result"
        }
      ],
      "source": [
        "df['len'].mean()"
      ]
    },
    {
      "cell_type": "code",
      "execution_count": null,
      "metadata": {
        "colab": {
          "base_uri": "https://localhost:8080/"
        },
        "execution": {
          "iopub.execute_input": "2023-07-10T19:19:19.523881Z",
          "iopub.status.busy": "2023-07-10T19:19:19.523478Z",
          "iopub.status.idle": "2023-07-10T19:19:19.54002Z",
          "shell.execute_reply": "2023-07-10T19:19:19.538968Z",
          "shell.execute_reply.started": "2023-07-10T19:19:19.523845Z"
        },
        "id": "RHiWTmuJsdN5",
        "outputId": "d58d5979-d051-4915-cb22-709f62312cde"
      },
      "outputs": [
        {
          "name": "stdout",
          "output_type": "stream",
          "text": [
            "Average Text Length is : 482.51\n"
          ]
        }
      ],
      "source": [
        "avg_len=df[\"text\"].str.split().apply(len)\n",
        "avg_len=avg_len.mean()\n",
        "print(f\"Average Text Length is : {avg_len:.2f}\")"
      ]
    },
    {
      "cell_type": "markdown",
      "metadata": {
        "id": "SfTx7M9EsdN6"
      },
      "source": [
        "# Maximum Length"
      ]
    },
    {
      "cell_type": "code",
      "execution_count": null,
      "metadata": {
        "execution": {
          "iopub.execute_input": "2023-07-10T19:19:19.542275Z",
          "iopub.status.busy": "2023-07-10T19:19:19.54163Z",
          "iopub.status.idle": "2023-07-10T19:19:19.546731Z",
          "shell.execute_reply": "2023-07-10T19:19:19.545625Z",
          "shell.execute_reply.started": "2023-07-10T19:19:19.542233Z"
        },
        "id": "mIJpu18NsdN6"
      },
      "outputs": [],
      "source": [
        "SEQ_LEN=30"
      ]
    },
    {
      "cell_type": "code",
      "execution_count": null,
      "metadata": {
        "execution": {
          "iopub.execute_input": "2023-07-10T19:19:19.548928Z",
          "iopub.status.busy": "2023-07-10T19:19:19.548273Z",
          "iopub.status.idle": "2023-07-10T19:19:19.557858Z",
          "shell.execute_reply": "2023-07-10T19:19:19.557111Z",
          "shell.execute_reply.started": "2023-07-10T19:19:19.548889Z"
        },
        "id": "JrmkolYHsdN6"
      },
      "outputs": [],
      "source": [
        "\n",
        "text_data=df[\"text\"]\n",
        "label_data=df[\"is_rumor\"]\n",
        "label_data=np.array(label_data)"
      ]
    },
    {
      "cell_type": "markdown",
      "metadata": {
        "id": "BOiyIqKEA5KU"
      },
      "source": [
        "# Teransformer 2"
      ]
    },
    {
      "cell_type": "code",
      "execution_count": null,
      "metadata": {
        "id": "lJ8ruGiKoGhn"
      },
      "outputs": [],
      "source": [
        "# SEQ_LEN = 1250"
      ]
    },
    {
      "cell_type": "code",
      "source": [
        "tf.keras.backend.clear_session()"
      ],
      "metadata": {
        "id": "Nsuky782w0Ce"
      },
      "execution_count": null,
      "outputs": []
    },
    {
      "cell_type": "code",
      "execution_count": null,
      "metadata": {
        "id": "Q6BNjmP_oOL0"
      },
      "outputs": [],
      "source": [
        "# pip install transformers"
      ]
    },
    {
      "cell_type": "code",
      "execution_count": null,
      "metadata": {
        "id": "uZ4pXCGsoJS1"
      },
      "outputs": [],
      "source": [
        "from transformers import AutoTokenizer\n",
        "from transformers import TFAutoModel"
      ]
    },
    {
      "cell_type": "code",
      "source": [
        "\n",
        "# 10. GPT-Neo (Generative Pre-trained Transformer Neo):\n",
        "#     - Full Name: `EleutherAI/gpt-neo-1.3B,gpt2` (or other versions with varying model sizes)\n",
        "\n",
        "# 19. MarianMT (Multilingual Transformer-based Machine Translation):\n",
        "#     - Full Name: `Helsinki-NLP/opus-mt-{src}-{tgt}` (Replace `{src}` and `{tgt}` with language codes)"
      ],
      "metadata": {
        "id": "WDX3CkM6ZEE9"
      },
      "execution_count": null,
      "outputs": []
    },
    {
      "cell_type": "code",
      "source": [
        "kk = 't5-small,google/electra-base-discriminator,albert-base-v2,xlnet-base-cased,distilbert-base-uncased,roberta-base,bert-base-uncased,google/mt5-small,allenai/longformer-base-4096,facebook/bart-large,microsoft/mpnet-base,funnel-transformer/small-base,microsoft/deberta-base,google/mobilebert-uncased,xlm-roberta-base,ctrl,EleutherAI/gpt-neo-1.3B,gpt2,GPT-4/GPT-3/main,asi/albert-act-base,asi/albert-act-small,prajjwal1/bert-tiny,TheBloke/llama-2-70b-Guanaco-QLoRA-fp16,vinai/bertweet-base,nlpproject2023/small-bert,readerbench/RoBERT-small'.split(',')\n",
        "len(kk)"
      ],
      "metadata": {
        "colab": {
          "base_uri": "https://localhost:8080/"
        },
        "id": "2YzZPLBSZe95",
        "outputId": "d792d924-4dce-4d0f-8f38-f2ff764517e2"
      },
      "execution_count": null,
      "outputs": [
        {
          "output_type": "execute_result",
          "data": {
            "text/plain": [
              "25"
            ]
          },
          "metadata": {},
          "execution_count": 203
        }
      ]
    },
    {
      "cell_type": "code",
      "source": [
        "# m = \"stevhliu/my_awesome_model\"\n",
        "# m = 'TheBloke/llama-2-70b-Guanaco-QLoRA-fp16'\n",
        "# m = 'GPT2'\n",
        "# m = 'vinai/bertweet-base'\n",
        "# m = 'GPT-4/GPT-3'\n",
        "# m = 'tum-nlp/IDMGSP-Galactica-TRAIN_GPT3'\n",
        "# m = 'asi/albert-act-small'\n",
        "# m ='prajjwal1/bert-tiny'\n",
        "# m = 'asi/albert-act-base'\n",
        "# m = 'albert-base-v2'"
      ],
      "metadata": {
        "id": "HuRc0pJ3Pvh2"
      },
      "execution_count": null,
      "outputs": []
    },
    {
      "cell_type": "code",
      "source": [
        "# 0,\n",
        "# 7\n",
        "# 18\n",
        "# 19\n",
        "# 20\n"
      ],
      "metadata": {
        "id": "a8DlEEgia_P8"
      },
      "execution_count": null,
      "outputs": []
    },
    {
      "cell_type": "code",
      "source": [
        "'XLNetTokenizer, AlbertTokenizer, CamembertTokenizer, MBartTokenizer, PegasusTokenizer, T5Tokenizer, ReformerTokenizer, XLMRobertaTokenizer '"
      ],
      "metadata": {
        "id": "5N8vWTKbfEPR"
      },
      "execution_count": null,
      "outputs": []
    },
    {
      "cell_type": "code",
      "source": [
        "pip install transformers[sentencepiece]\n"
      ],
      "metadata": {
        "id": "VVU1ym7Deqh5"
      },
      "execution_count": null,
      "outputs": []
    },
    {
      "cell_type": "code",
      "source": [
        "import transformers"
      ],
      "metadata": {
        "id": "HKVW3EoGeuQv"
      },
      "execution_count": null,
      "outputs": []
    },
    {
      "cell_type": "code",
      "source": [
        "pip install sentencepiece"
      ],
      "metadata": {
        "id": "NIQncAAiet7d"
      },
      "execution_count": null,
      "outputs": []
    },
    {
      "cell_type": "code",
      "execution_count": null,
      "metadata": {
        "colab": {
          "base_uri": "https://localhost:8080/",
          "height": 162,
          "referenced_widgets": [
            "7b83619f68bc4d56a74001f52d0ac311",
            "6445015fc1eb404caf90a808cd3fe01c",
            "6e7ec94e518a4748bcebe8982525bfdb",
            "fd2625eecad346acb4a3ac7d25ce3795",
            "b8fce37475bc4090a567aa20745a1aad",
            "00d233cbeec7473cbe07e27c0b5bcf48",
            "24a2ba7f0efd477cbc309d63a52f346c",
            "add7c92a606643d9b3ada3cc4d7f0a5d",
            "d051a0dac7794ac89a7a6f8104cbd8d8",
            "58e3a8b088a641c9acc4e6248f97a152",
            "305fa2b59fc14418aa15a3e78afc7a22",
            "f5f5f05a433644dea9f9d45532c71442",
            "087bc41f6d9e4bd08763a15db6b41632",
            "5bf41ae7293c466fba3db43ac2dcd336",
            "510e7824ecff40a4bc85f455b1d85ae8",
            "86c7498dd85048599e45351fef2d61e1",
            "f817ed85834a421888a2026ee3241c37",
            "9ffaf0d6d479494eaea9f10e13e16ca3",
            "195cab3a99514acd83df809a2d97c7a5",
            "e97d2e1415304fcb8b6fd9004cfd666b",
            "595ec5dbbb774a21856e17c4a74ad7af",
            "87be856ffa334fe38e6ebd5fbb6e0194",
            "667005c5ac4d4474aa565a60d028f4da",
            "0395e457df2f4719a829e92174573233",
            "8815514a615a4d9b836018e06ebbed1e",
            "aa0cfb913fee462b8853b10098a0ad81",
            "735c495f708f438e81d053e22ca30cdd",
            "13bc1d608faf4118ac0f51e31a2094d8",
            "f073a874309448a98b781408112c90d6",
            "ffed4c9f4bd34909beffff40f074899b",
            "a69ecc74ba354db7b1e8e1723ee044a1",
            "9e78aa4ed79d472099d8ad386879e548",
            "a4bf01a0b65b4f94a52570bcea8e5759",
            "6ed0e457533b47cfa1bc6ee5b745f1bc",
            "28b734a435024cbdaa11373e6e4257c1",
            "664069ebfe1248f9b5a6925fbc90707a",
            "eddc9c761e28491fbf4639c8fb321924",
            "13fe7edb54bb4165862637ad9cf8e9de",
            "78f79a29c2a84434a4f584e7cb30eb4b",
            "36c8ba926a2d4660a78e777ede5da55a",
            "e07394138397491097e2d987ae6dc3ec",
            "f50f900dcfac416b958c4be305fb869e",
            "3b22170d842d4a03a90ceba60af4d1f1",
            "e4554e7c7ceb47b2b7001563f379dff7"
          ]
        },
        "id": "JuedeZpbA8JA",
        "outputId": "f340e56f-00ba-4c78-bd08-8ffed6425857"
      },
      "outputs": [
        {
          "output_type": "stream",
          "name": "stdout",
          "text": [
            "vinai/bertweet-base\n"
          ]
        },
        {
          "output_type": "display_data",
          "data": {
            "text/plain": [
              "Downloading (…)okenizer_config.json:   0%|          | 0.00/367 [00:00<?, ?B/s]"
            ],
            "application/vnd.jupyter.widget-view+json": {
              "version_major": 2,
              "version_minor": 0,
              "model_id": "7b83619f68bc4d56a74001f52d0ac311"
            }
          },
          "metadata": {}
        },
        {
          "output_type": "display_data",
          "data": {
            "text/plain": [
              "Downloading (…)lve/main/config.json:   0%|          | 0.00/467 [00:00<?, ?B/s]"
            ],
            "application/vnd.jupyter.widget-view+json": {
              "version_major": 2,
              "version_minor": 0,
              "model_id": "f5f5f05a433644dea9f9d45532c71442"
            }
          },
          "metadata": {}
        },
        {
          "output_type": "display_data",
          "data": {
            "text/plain": [
              "Downloading (…)solve/main/vocab.txt:   0%|          | 0.00/245k [00:00<?, ?B/s]"
            ],
            "application/vnd.jupyter.widget-view+json": {
              "version_major": 2,
              "version_minor": 0,
              "model_id": "667005c5ac4d4474aa565a60d028f4da"
            }
          },
          "metadata": {}
        },
        {
          "output_type": "display_data",
          "data": {
            "text/plain": [
              "Downloading (…)cial_tokens_map.json:   0%|          | 0.00/112 [00:00<?, ?B/s]"
            ],
            "application/vnd.jupyter.widget-view+json": {
              "version_major": 2,
              "version_minor": 0,
              "model_id": "6ed0e457533b47cfa1bc6ee5b745f1bc"
            }
          },
          "metadata": {}
        }
      ],
      "source": [
        "i = 23\n",
        "print(kk[i])\n",
        "# tokenizer = AutoTokenizer.from_pretrained(kk[i])\n",
        "\n",
        "tokenizer = AutoTokenizer.from_pretrained('readerbench/RoBERT-small')\n"
      ]
    },
    {
      "cell_type": "code",
      "execution_count": null,
      "metadata": {
        "colab": {
          "base_uri": "https://localhost:8080/",
          "height": 156,
          "referenced_widgets": [
            "f6c3248635704a138cd7ecb70247e93f",
            "5d23f1c1970c4232bbdfa2a71f4b339a",
            "39d05ed998024770ba11ce6ef7718352",
            "9980394885174ded87dc3eeddc40734e",
            "27aa81a1f0ee4f79be6e8dbca767fabd",
            "8b8b11168e2c46c4bd7ca58e654dfeea",
            "02b5b397a29d41bf9297173874445ae6",
            "1abf4f94e69a4bbebc233084c20db370",
            "96986ae9a74e4e55bbb3e45900c2a653",
            "c6fc0394c6004a2ebd3021e40298ea49",
            "3de98673500e41d19fe8066ce2b2062b"
          ]
        },
        "id": "dz0EzgpTA8JE",
        "outputId": "5f5f0153-4a86-46cc-9412-bf3259871ea1"
      },
      "outputs": [
        {
          "output_type": "display_data",
          "data": {
            "text/plain": [
              "Downloading tf_model.h5:   0%|          | 0.00/117M [00:00<?, ?B/s]"
            ],
            "application/vnd.jupyter.widget-view+json": {
              "version_major": 2,
              "version_minor": 0,
              "model_id": "f6c3248635704a138cd7ecb70247e93f"
            }
          },
          "metadata": {}
        },
        {
          "output_type": "stream",
          "name": "stderr",
          "text": [
            "Some layers from the model checkpoint at readerbench/RoBERT-small were not used when initializing TFBertModel: ['mlm___cls', 'nsp___cls']\n",
            "- This IS expected if you are initializing TFBertModel from the checkpoint of a model trained on another task or with another architecture (e.g. initializing a BertForSequenceClassification model from a BertForPreTraining model).\n",
            "- This IS NOT expected if you are initializing TFBertModel from the checkpoint of a model that you expect to be exactly identical (initializing a BertForSequenceClassification model from a BertForSequenceClassification model).\n",
            "All the layers of TFBertModel were initialized from the model checkpoint at readerbench/RoBERT-small.\n",
            "If your task is similar to the task the model of the checkpoint was trained on, you can already use TFBertModel for predictions without further training.\n"
          ]
        }
      ],
      "source": [
        "# bert = TFAutoModel.from_pretrained(kk[i],from_pt=True)\n",
        "bert = TFAutoModel.from_pretrained('readerbench/RoBERT-small')\n"
      ]
    },
    {
      "cell_type": "code",
      "source": [
        "# import tensorflow as tf\n",
        "# from transformers import MT5Tokenizer, TFAutoModelForSequenceClassification\n",
        "\n",
        "# # Load pre-trained MT5 model and tokenizer\n",
        "# model_name = 'google/mt5-small'\n",
        "# tokenizer = MT5Tokenizer.from_pretrained(model_name)\n",
        "# bert = TFAutoModel.from_pretrained(kk[i])"
      ],
      "metadata": {
        "id": "V9oj5zqWfNQY"
      },
      "execution_count": null,
      "outputs": []
    },
    {
      "cell_type": "code",
      "source": [
        "# AutoTokenizer.from_pretrained"
      ],
      "metadata": {
        "id": "MeFueQZvPFWv"
      },
      "execution_count": null,
      "outputs": []
    },
    {
      "cell_type": "code",
      "execution_count": null,
      "metadata": {
        "id": "uWFL-z5eBAj8"
      },
      "outputs": [],
      "source": [
        "data = df\n"
      ]
    },
    {
      "cell_type": "code",
      "execution_count": null,
      "metadata": {
        "id": "0dJOHOjHBc6E"
      },
      "outputs": [],
      "source": [
        "# SEQ_LEN = 22"
      ]
    },
    {
      "cell_type": "code",
      "execution_count": null,
      "metadata": {
        "id": "qrOy9yJ6AYHX"
      },
      "outputs": [],
      "source": [
        "# data = data.sample(frac=0.1)"
      ]
    },
    {
      "cell_type": "code",
      "execution_count": null,
      "metadata": {
        "id": "X2WGlOcUqE4B"
      },
      "outputs": [],
      "source": [
        "Xids = np.zeros((len(data),SEQ_LEN))\n",
        "Xmask = np.zeros((len(data),SEQ_LEN))\n"
      ]
    },
    {
      "cell_type": "code",
      "execution_count": null,
      "metadata": {
        "colab": {
          "base_uri": "https://localhost:8080/"
        },
        "id": "m5xruxlzqTWp",
        "outputId": "b9b44d9c-fdbc-40c4-8958-381c04d908bc"
      },
      "outputs": [
        {
          "output_type": "execute_result",
          "data": {
            "text/plain": [
              "(5800, 30)"
            ]
          },
          "metadata": {},
          "execution_count": 313
        }
      ],
      "source": [
        "Xids.shape"
      ]
    },
    {
      "cell_type": "code",
      "source": [
        "# tokenizer.eos_token"
      ],
      "metadata": {
        "id": "BQpHODsiSs8y"
      },
      "execution_count": null,
      "outputs": []
    },
    {
      "cell_type": "code",
      "source": [
        "tokenizer.pad_token = '<|PAD|>'"
      ],
      "metadata": {
        "id": "i3e-V95nSAT2"
      },
      "execution_count": null,
      "outputs": []
    },
    {
      "cell_type": "code",
      "execution_count": null,
      "metadata": {
        "id": "gmgMfId5qVgd"
      },
      "outputs": [],
      "source": [
        "for i, sequence in enumerate(data['text']):\n",
        "    tokens = tokenizer.encode_plus(\n",
        "    sequence,\n",
        "    max_length = SEQ_LEN,\n",
        "    truncation=True,\n",
        "    padding=\"max_length\",\n",
        "    add_special_tokens=True,\n",
        "    return_token_type_ids=False,\n",
        "    return_attention_mask=True,\n",
        "    return_tensors='tf'\n",
        "    )\n",
        "    Xids[i, :], Xmask[i, :] = tokens['input_ids'], tokens['attention_mask']"
      ]
    },
    {
      "cell_type": "code",
      "execution_count": null,
      "metadata": {
        "id": "5tUwiF8iBFSN"
      },
      "outputs": [],
      "source": [
        "import tensorflow as tf"
      ]
    },
    {
      "cell_type": "code",
      "execution_count": null,
      "metadata": {
        "colab": {
          "base_uri": "https://localhost:8080/"
        },
        "id": "sZOq4El7swYr",
        "outputId": "9f7fbb16-ef1e-4482-f632-232a1045e8f0"
      },
      "outputs": [
        {
          "output_type": "execute_result",
          "data": {
            "text/plain": [
              "[PhysicalDevice(name='/physical_device:GPU:0', device_type='GPU')]"
            ]
          },
          "metadata": {},
          "execution_count": 318
        }
      ],
      "source": [
        "tf.config.experimental.list_physical_devices('GPU')"
      ]
    },
    {
      "cell_type": "code",
      "execution_count": null,
      "metadata": {
        "id": "D_d8CJvKXT6K"
      },
      "outputs": [],
      "source": [
        "labels = data['is_rumor']"
      ]
    },
    {
      "cell_type": "code",
      "execution_count": null,
      "metadata": {
        "id": "87QHbeRgs8OC"
      },
      "outputs": [],
      "source": [
        "dataset = tf.data.Dataset.from_tensor_slices((Xids, Xmask, labels))"
      ]
    },
    {
      "cell_type": "code",
      "execution_count": null,
      "metadata": {
        "id": "-RoQO_2yzIpd"
      },
      "outputs": [],
      "source": [
        "# labels.sum(axis=0)"
      ]
    },
    {
      "cell_type": "code",
      "execution_count": null,
      "metadata": {
        "id": "_vkAXTwVtQKK"
      },
      "outputs": [],
      "source": [
        "def map_func(input_ids, masks, labels):\n",
        "    return{'input_ids': input_ids, 'attention_mask':masks}, labels"
      ]
    },
    {
      "cell_type": "code",
      "execution_count": null,
      "metadata": {
        "id": "wJAbvBXftorM"
      },
      "outputs": [],
      "source": [
        "dataset = dataset.map(map_func)"
      ]
    },
    {
      "cell_type": "code",
      "execution_count": null,
      "metadata": {
        "id": "YPZSvVu3tv1d"
      },
      "outputs": [],
      "source": [
        "dataset = dataset.shuffle(1000000).batch(32)"
      ]
    },
    {
      "cell_type": "code",
      "execution_count": null,
      "metadata": {
        "id": "x5cqp_CDt7av"
      },
      "outputs": [],
      "source": [
        "DS_LEN = len(list(dataset))"
      ]
    },
    {
      "cell_type": "code",
      "execution_count": null,
      "metadata": {
        "colab": {
          "base_uri": "https://localhost:8080/"
        },
        "id": "tb-JpMdvt-d4",
        "outputId": "d592cefe-7a15-4902-d28e-68bfb8feb9ae"
      },
      "outputs": [
        {
          "output_type": "execute_result",
          "data": {
            "text/plain": [
              "182"
            ]
          },
          "metadata": {},
          "execution_count": 326
        }
      ],
      "source": [
        "DS_LEN"
      ]
    },
    {
      "cell_type": "code",
      "execution_count": null,
      "metadata": {
        "id": "zJeJrde_0VPP"
      },
      "outputs": [],
      "source": [
        "# round(DS_LEN*SPLIT)"
      ]
    },
    {
      "cell_type": "code",
      "execution_count": null,
      "metadata": {
        "id": "AHStkojW0a0w"
      },
      "outputs": [],
      "source": [
        "# len(train)"
      ]
    },
    {
      "cell_type": "code",
      "execution_count": null,
      "metadata": {
        "id": "OL9m2oDz1j2j"
      },
      "outputs": [],
      "source": [
        "DATASET_SIZE = len(dataset)"
      ]
    },
    {
      "cell_type": "code",
      "execution_count": null,
      "metadata": {
        "id": "W3aksvWY1bZy"
      },
      "outputs": [],
      "source": [
        "train_size = int(0.60 * DATASET_SIZE)\n",
        "val_size = int(0.15 * DATASET_SIZE)\n",
        "test_size = int(0.25 * DATASET_SIZE)\n",
        "\n",
        "full_dataset = dataset\n",
        "full_dataset = full_dataset.shuffle(123424242)\n",
        "train_dataset = full_dataset.take(train_size)\n",
        "test_dataset = full_dataset.skip(train_size)\n",
        "val_dataset = test_dataset.skip(test_size)\n",
        "test_dataset = test_dataset.take(test_size)"
      ]
    },
    {
      "cell_type": "code",
      "execution_count": null,
      "metadata": {
        "id": "n0oXnFK92EhC"
      },
      "outputs": [],
      "source": [
        "train = train_dataset\n",
        "test = test_dataset\n",
        "val = val_dataset"
      ]
    },
    {
      "cell_type": "code",
      "execution_count": null,
      "metadata": {
        "id": "q0ag84j2uAyY"
      },
      "outputs": [],
      "source": [
        "# SPLIT = 0.8\n",
        "# train = dataset.take(round(DS_LEN*SPLIT))\n",
        "# val = dataset.skip(round(DS_LEN*SPLIT))\n",
        "# test = dataset.skip(round())\n",
        "# # del dataset"
      ]
    },
    {
      "cell_type": "code",
      "execution_count": null,
      "metadata": {
        "colab": {
          "base_uri": "https://localhost:8080/"
        },
        "id": "dD9q-eJiA7m7",
        "outputId": "cda76a31-a3d9-4e71-d723-98bc6f8b45d7"
      },
      "outputs": [
        {
          "output_type": "execute_result",
          "data": {
            "text/plain": [
              "(5800,)"
            ]
          },
          "metadata": {},
          "execution_count": 333
        }
      ],
      "source": [
        "labels.shape"
      ]
    },
    {
      "cell_type": "code",
      "execution_count": null,
      "metadata": {
        "id": "P4ykpILyE5Oy"
      },
      "outputs": [],
      "source": [
        "tf.keras.backend.clear_session()"
      ]
    },
    {
      "cell_type": "code",
      "execution_count": null,
      "metadata": {
        "id": "aaVXm40hueI2"
      },
      "outputs": [],
      "source": [
        "input_ids = tf.keras.layers.Input(shape=(SEQ_LEN,), name='input_ids', dtype='int32')\n",
        "mask = tf.keras.layers.Input(shape=(SEQ_LEN,), name='attention_mask', dtype='int32')\n",
        "\n",
        "embeddings = bert(input_ids, attention_mask=mask)[0]\n",
        "\n",
        "X = tf.keras.layers.GlobalMaxPooling1D()(embeddings)\n",
        "X = tf.keras.layers.BatchNormalization()(X)\n",
        "# X = tf.keras.layers.Dense(32, activation = 'relu')(X)\n",
        "# X = tf.keras.layers.Dropout(0.1)(X)\n",
        "X = tf.keras.layers.Dense(32, activation = 'relu')(X)\n",
        "y = tf.keras.layers.Dense(1, activation = 'sigmoid' , name = 'outputs')(X)\n",
        "\n",
        "model = tf.keras.Model(inputs=[input_ids, mask], outputs = y)"
      ]
    },
    {
      "cell_type": "code",
      "execution_count": null,
      "metadata": {
        "id": "cNqBGkUI79Yt"
      },
      "outputs": [],
      "source": [
        "model.layers[2].trainable = False"
      ]
    },
    {
      "cell_type": "code",
      "execution_count": null,
      "metadata": {
        "id": "lWBp-iQV5uS4"
      },
      "outputs": [],
      "source": [
        "# model.load_weights(f'/content/drive/MyDrive/work 39 toxisity/checkpoint')"
      ]
    },
    {
      "cell_type": "code",
      "execution_count": null,
      "metadata": {
        "colab": {
          "base_uri": "https://localhost:8080/"
        },
        "id": "uKSKOVihvAax",
        "outputId": "c6ec4bec-6e7d-422c-d0df-ed9aa5bfcee1"
      },
      "outputs": [
        {
          "output_type": "stream",
          "name": "stdout",
          "text": [
            "Model: \"model\"\n",
            "__________________________________________________________________________________________________\n",
            " Layer (type)                   Output Shape         Param #     Connected to                     \n",
            "==================================================================================================\n",
            " input_ids (InputLayer)         [(None, 30)]         0           []                               \n",
            "                                                                                                  \n",
            " attention_mask (InputLayer)    [(None, 30)]         0           []                               \n",
            "                                                                                                  \n",
            " tf_bert_model (TFBertModel)    TFBaseModelOutputWi  19348736    ['input_ids[0][0]',              \n",
            "                                thPoolingAndCrossAt               'attention_mask[0][0]']         \n",
            "                                tentions(last_hidde                                               \n",
            "                                n_state=(None, 30,                                                \n",
            "                                256),                                                             \n",
            "                                 pooler_output=(Non                                               \n",
            "                                e, 256),                                                          \n",
            "                                 past_key_values=No                                               \n",
            "                                ne, hidden_states=N                                               \n",
            "                                one, attentions=Non                                               \n",
            "                                e, cross_attentions                                               \n",
            "                                =None)                                                            \n",
            "                                                                                                  \n",
            " global_max_pooling1d (GlobalMa  (None, 256)         0           ['tf_bert_model[0][0]']          \n",
            " xPooling1D)                                                                                      \n",
            "                                                                                                  \n",
            " batch_normalization (BatchNorm  (None, 256)         1024        ['global_max_pooling1d[0][0]']   \n",
            " alization)                                                                                       \n",
            "                                                                                                  \n",
            " dense (Dense)                  (None, 32)           8224        ['batch_normalization[0][0]']    \n",
            "                                                                                                  \n",
            " outputs (Dense)                (None, 1)            33          ['dense[0][0]']                  \n",
            "                                                                                                  \n",
            "==================================================================================================\n",
            "Total params: 19,358,017\n",
            "Trainable params: 8,769\n",
            "Non-trainable params: 19,349,248\n",
            "__________________________________________________________________________________________________\n"
          ]
        }
      ],
      "source": [
        "model.summary()"
      ]
    },
    {
      "cell_type": "code",
      "execution_count": null,
      "metadata": {
        "id": "iYeJ0GyMLqz4"
      },
      "outputs": [],
      "source": [
        "import pandas as pd\n",
        "from keras import layers\n",
        "from keras.layers import Dense, Activation, Flatten, Convolution1D, Dropout,MaxPooling1D\n",
        "from keras.layers import Input, Dense, Dropout, Activation, ZeroPadding2D, BatchNormalization, Flatten, Conv2D, Embedding, Add\n",
        "from keras.layers import Conv1D, GlobalAveragePooling1D, AveragePooling2D, MaxPooling2D, MaxPool1D, ZeroPadding1D, GlobalMaxPooling2D, GlobalAveragePooling2D, LSTM, SpatialDropout1D\n",
        "from keras.models import Sequential, Model\n",
        "from keras.preprocessing import image\n",
        "from keras.utils import plot_model\n",
        "from keras.applications.inception_v3 import InceptionV3\n",
        "from sklearn.model_selection import train_test_split\n",
        "import matplotlib.pyplot as plt\n",
        "from sklearn.metrics import confusion_matrix\n",
        "import seaborn as sns\n",
        "from keras.callbacks import ReduceLROnPlateau , EarlyStopping\n",
        "from keras.utils import to_categorical\n",
        "from tensorflow.keras.optimizers import Adam, Adamax\n",
        "import tensorflow as tf"
      ]
    },
    {
      "cell_type": "code",
      "execution_count": null,
      "metadata": {
        "id": "pa9I1DFdLq9v"
      },
      "outputs": [],
      "source": [
        "es = EarlyStopping(monitor=\"val_loss\", mode=\"min\", verbose=1, patience=7)\n",
        "learning_rate_reduction = ReduceLROnPlateau(monitor='val_accuracy',\n",
        "                                            patience=5,\n",
        "                                            verbose=1,\n",
        "                                            factor=0.7,\n",
        "                                            min_lr=0.000001)"
      ]
    },
    {
      "cell_type": "code",
      "execution_count": null,
      "metadata": {
        "id": "KN45mTbg6eHA"
      },
      "outputs": [],
      "source": [
        "from tensorflow.keras.optimizers import Adam, Adamax,RMSprop\n",
        "# Adamax(learning_rate=0.1)"
      ]
    },
    {
      "cell_type": "code",
      "execution_count": null,
      "metadata": {
        "id": "ZNvCM2ICLq9v"
      },
      "outputs": [],
      "source": [
        "# model.compile(optimizer=Adamax(lr=0.0001), loss='categorical_crossentropy', metrics=['accuracy',tf.keras.metrics.Precision(),tf.keras.metrics.Recall(),tf.keras.metrics.AUC(num_thresholds=3)])\n",
        "model.compile(optimizer=RMSprop(), loss='binary_crossentropy', metrics=['accuracy'])\n",
        "# model.compile(optimizer=Adamax(), loss='binary_crossentropy', metrics=['accuracy'])\n",
        "\n",
        "# tf.keras.utils.plot_model(ann_model, to_file='ann_model.png', show_shapes=True, show_layer_names=True)"
      ]
    },
    {
      "cell_type": "code",
      "execution_count": null,
      "metadata": {
        "id": "3BmGRIWm_79Q"
      },
      "outputs": [],
      "source": [
        "# model.compile(optimizer=Adam(), loss='binary_crossentropy', metrics=['accuracy','AUC'])\n"
      ]
    },
    {
      "cell_type": "code",
      "execution_count": null,
      "metadata": {
        "colab": {
          "base_uri": "https://localhost:8080/"
        },
        "id": "qA1RELtXLq9v",
        "outputId": "59d0f976-9ccb-4c33-8878-b337eb8b418d"
      },
      "outputs": [
        {
          "output_type": "stream",
          "name": "stdout",
          "text": [
            "109/109 [==============================] - 28s 115ms/step - loss: 0.6137 - accuracy: 0.6963 - val_loss: 0.5285 - val_accuracy: 0.7980 - lr: 0.0010\n"
          ]
        }
      ],
      "source": [
        "num_epochs = 1\n",
        "# early_stop = EarlyStopping(monitor='val_accuracy', patience=6,restore_best_weights=True)\n",
        "history = model.fit(train,\n",
        "                    # batch_size=32,\n",
        "                    epochs=num_epochs,\n",
        "                    # validati0on_split=0.2,\n",
        "                    validation_data=[val],\n",
        "                    callbacks =[\n",
        "                        learning_rate_reduction,\n",
        "                                es\n",
        "                                ],\n",
        "                    # verbose=0\n",
        "                    )"
      ]
    },
    {
      "cell_type": "code",
      "source": [
        "# os.mkdir(f'{path0}44/')\n",
        "# path0\n",
        "# path2 = f'{path0}44/'"
      ],
      "metadata": {
        "id": "8UbAt5C75e4U"
      },
      "execution_count": null,
      "outputs": []
    },
    {
      "cell_type": "code",
      "execution_count": null,
      "metadata": {
        "id": "ftTAXPXHCYk7"
      },
      "outputs": [],
      "source": [
        "model.save_weights(f'{path0}checkpoint')"
      ]
    },
    {
      "cell_type": "code",
      "execution_count": null,
      "metadata": {
        "id": "qJo4zcS-pyUk"
      },
      "outputs": [],
      "source": [
        "# precision = tf.keras.metrics.Precision()\n",
        "# recall = tf.keras.metrics.Recall()\n",
        "# accuracy = tf.keras.metrics.CategoricalAccuracy()\n",
        "# auc = tf.keras.metrics.AUC(num_thresholds=6)\n",
        "tr = []\n",
        "pr = []\n",
        "l = 0\n",
        "# for k in range(len(val)):\n",
        "\n",
        "\n",
        "for i,j in test.take(-1):\n",
        "  # l += 1\n",
        "  # print(l)\n",
        "  s = model.predict(i,verbose=0)\n",
        "  tr.append(np.array(j))\n",
        "  pr.append(np.array(s))\n",
        "#   precision.update_state(s,j)\n",
        "#   accuracy.update_state(s,j)\n",
        "#   auc.update_state(s,j)\n",
        "#   recall.update_state(s,j)\n",
        "# pre = precision.result().numpy()\n",
        "# rec = recall.result().numpy()\n",
        "# au = auc.result().numpy()\n",
        "# acc = accuracy.result().numpy()\n",
        "# print(pre,rec,au,acc)"
      ]
    },
    {
      "cell_type": "code",
      "execution_count": null,
      "metadata": {
        "id": "hwjAGseEyWfS"
      },
      "outputs": [],
      "source": [
        "yp = np.concatenate([y for y in pr], axis=0)\n",
        "yt = np.concatenate([y for y in tr], axis=0)\n"
      ]
    },
    {
      "cell_type": "code",
      "execution_count": null,
      "metadata": {
        "colab": {
          "base_uri": "https://localhost:8080/"
        },
        "id": "UPhkhBIH9hRL",
        "outputId": "e426276f-4661-4e6e-f99d-89ebe4d809aa"
      },
      "outputs": [
        {
          "output_type": "stream",
          "name": "stdout",
          "text": [
            "              precision    recall  f1-score   support\n",
            "\n",
            "         0.0       0.96      0.98      0.97      1124\n",
            "         1.0       0.91      0.85      0.88       316\n",
            "\n",
            "    accuracy                           0.95      1440\n",
            "   macro avg       0.94      0.91      0.92      1440\n",
            "weighted avg       0.95      0.95      0.95      1440\n",
            "\n"
          ]
        }
      ],
      "source": [
        "yp[yp < 0.5] = 0\n",
        "yp[yp > 0.5] = 1\n",
        "# y1 = y_test\n",
        "print(classification_report(yt,yp,zero_division=True))"
      ]
    },
    {
      "cell_type": "code",
      "source": [
        "yp = yp.reshape(-1,)"
      ],
      "metadata": {
        "id": "d5obWg-l8uNC"
      },
      "execution_count": null,
      "outputs": []
    },
    {
      "cell_type": "code",
      "source": [
        "np.sum(yt==yp)/yt.shape[0]"
      ],
      "metadata": {
        "colab": {
          "base_uri": "https://localhost:8080/"
        },
        "id": "6bom3ZHX84Fa",
        "outputId": "aa54d181-a3d7-4a4a-cc48-12931c946424"
      },
      "execution_count": null,
      "outputs": [
        {
          "output_type": "execute_result",
          "data": {
            "text/plain": [
              "0.9493055555555555"
            ]
          },
          "metadata": {},
          "execution_count": 204
        }
      ]
    },
    {
      "cell_type": "code",
      "execution_count": null,
      "metadata": {
        "id": "dpTZ2mg9US7-"
      },
      "outputs": [],
      "source": [
        "yp = np.concatenate([y for y in pr], axis=0)\n",
        "yt = np.concatenate([y for y in tr], axis=0)\n"
      ]
    },
    {
      "cell_type": "code",
      "source": [
        "yp"
      ],
      "metadata": {
        "colab": {
          "base_uri": "https://localhost:8080/"
        },
        "id": "CPp2_dz_8pzW",
        "outputId": "97fbd477-2981-4bd9-df8e-e4c9d69d98ce"
      },
      "execution_count": null,
      "outputs": [
        {
          "output_type": "execute_result",
          "data": {
            "text/plain": [
              "array([[0.01214484],\n",
              "       [0.81260866],\n",
              "       [0.9497412 ],\n",
              "       ...,\n",
              "       [0.30021286],\n",
              "       [0.00626949],\n",
              "       [0.93072444]], dtype=float32)"
            ]
          },
          "metadata": {},
          "execution_count": 206
        }
      ]
    },
    {
      "cell_type": "code",
      "execution_count": null,
      "metadata": {
        "id": "wqSl3OJm-A3p"
      },
      "outputs": [],
      "source": [
        "y1 = yp.reshape(-1,) # np.zeros((y_test.shape[0],))\n",
        "y2 = yt.reshape(-1,)\n",
        "ff = pd.DataFrame(columns=['real','predicted'],)\n",
        "ff['real'] = y2\n",
        "ff['predicted'] = y1\n",
        "pa = 'GPT'\n",
        "\n",
        "ff.to_csv(f'{path0}{pa}3.csv',index=False)"
      ]
    },
    {
      "cell_type": "code",
      "execution_count": null,
      "metadata": {
        "id": "7PfJ0pB09hce"
      },
      "outputs": [],
      "source": [
        "from sklearn.metrics import classification_report\n",
        "\n",
        "def savemod(model,pa,y_test,X_test,path=path):\n",
        "    y2 = model.predict(X_test)\n",
        "    y2_ = np.array(y2)\n",
        "    y2_[y2_ < 0.5] = 0\n",
        "    y2_[y2_ > 0.5] = 1\n",
        "    y1 = y_test\n",
        "    print(classification_report(y1,y2_,target_names=target_names))\n",
        "    y1 = y1.reshape(-1,) # np.zeros((y_test.shape[0],))\n",
        "    y2 = y2.reshape(-1,)\n",
        "    # y2 = y_   # np.zeros((y_test.shape[0],))\n",
        "    # y2[y2 < 0.5] = 0\n",
        "    # y2[y2 > 0.5] = 1\n",
        "\n",
        "    # for i in range(len(y_test)):\n",
        "        # y1[i] = 1 if y1> 0.5 else 0\n",
        "        # y2[i] = y_test[i].argmax()\n",
        "    ff = pd.DataFrame(columns=['real','predicted'],)\n",
        "    ff['real'] = y2\n",
        "    ff['predicted'] = y1\n",
        "\n",
        "\n",
        "    ff.to_csv(f'{path}{pa}.csv',index=False)"
      ]
    },
    {
      "cell_type": "code",
      "execution_count": null,
      "metadata": {
        "id": "BkdS2FiyDjS0"
      },
      "outputs": [],
      "source": [
        "# model.compile(optimizer=Adamax(lr=0.0001), loss='categorical_crossentropy', metrics=['accuracy',tf.keras.metrics.Precision(),tf.keras.metrics.Recall(),tf.keras.metrics.AUC(num_thresholds=3)])\n",
        "model.compile(optimizer=Adam(learning_rate=1e-6), loss='binary_crossentropy', metrics=['accuracy','AUC'])\n",
        "\n",
        "# tf.keras.utils.plot_model(ann_model, to_file='ann_model.png', show_shapes=True, show_layer_names=True)"
      ]
    },
    {
      "cell_type": "code",
      "execution_count": null,
      "metadata": {
        "id": "g8MeZbg8DhV8"
      },
      "outputs": [],
      "source": [
        "num_epochs = 50\n",
        "# early_stop = EarlyStopping(monitor='val_accuracy', patience=6,restore_best_weights=True)\n",
        "history = model.fit(train,\n",
        "                    # batch_size=32,\n",
        "                    epochs=num_epochs,\n",
        "                    # validati0on_split=0.2,\n",
        "                    validation_data=[val],\n",
        "                    callbacks =[\n",
        "                        learning_rate_reduction,\n",
        "                                es\n",
        "                                ],\n",
        "                    # verbose=0\n",
        "                    )"
      ]
    },
    {
      "cell_type": "code",
      "execution_count": null,
      "metadata": {
        "id": "c2uvYpbtIkC5"
      },
      "outputs": [],
      "source": []
    },
    {
      "cell_type": "code",
      "execution_count": null,
      "metadata": {
        "id": "kQ1OLR_NIj_g"
      },
      "outputs": [],
      "source": []
    },
    {
      "cell_type": "markdown",
      "metadata": {
        "id": "aRif-AtcJER-"
      },
      "source": [
        "# simple models"
      ]
    },
    {
      "cell_type": "code",
      "execution_count": 37,
      "metadata": {
        "id": "29RJjaoNJT7x"
      },
      "outputs": [],
      "source": [
        "data = df"
      ]
    },
    {
      "cell_type": "code",
      "execution_count": 38,
      "metadata": {
        "id": "spdvhKMAAfmR"
      },
      "outputs": [],
      "source": [
        "import tensorflow as tf\n",
        "import pandas as pd\n",
        "from keras import layers\n",
        "from keras.layers import Dense, Activation, Flatten, Convolution1D, Dropout,MaxPooling1D\n",
        "from keras.layers import Input, Dense, Dropout, Activation, ZeroPadding2D, BatchNormalization, Flatten, Conv2D, Embedding, Add\n",
        "from keras.layers import Conv1D, GlobalAveragePooling1D, AveragePooling2D, MaxPooling2D, MaxPool1D, ZeroPadding1D, GlobalMaxPooling2D, GlobalAveragePooling2D, LSTM, SpatialDropout1D\n",
        "from keras.models import Sequential, Model\n",
        "from keras.preprocessing import image\n",
        "from keras.utils import plot_model\n",
        "from keras.applications.inception_v3 import InceptionV3\n",
        "from sklearn.model_selection import train_test_split\n",
        "import matplotlib.pyplot as plt\n",
        "from sklearn.metrics import confusion_matrix\n",
        "import seaborn as sns\n",
        "from keras.callbacks import ReduceLROnPlateau , EarlyStopping\n",
        "from keras.utils import to_categorical\n",
        "from tensorflow.keras.optimizers import Adam, Adamax\n",
        "import tensorflow as tf\n",
        "from tensorflow.keras.optimizers import Adam, Adamax,RMSprop\n",
        "learning_rate_reduction = ReduceLROnPlateau(monitor='val_accuracy',\n",
        "                                            patience=5,\n",
        "                                            verbose=1,\n",
        "                                            factor=0.7,\n",
        "                                            min_lr=0.000001)"
      ]
    },
    {
      "cell_type": "code",
      "execution_count": 39,
      "metadata": {
        "id": "lgolYNWY1poD"
      },
      "outputs": [],
      "source": [
        "from keras.preprocessing.text import Tokenizer\n",
        "from tensorflow.keras.preprocessing.sequence import pad_sequences\n",
        "import numpy as np\n",
        "maxlen = 30\n",
        "max_words = 3000\n",
        "tokenizer = Tokenizer(num_words=max_words)\n",
        "tokenizer.fit_on_texts(data['text'])\n",
        "Xsequences = tokenizer.texts_to_sequences(data['text'])"
      ]
    },
    {
      "cell_type": "code",
      "execution_count": 40,
      "metadata": {
        "id": "YMvt-p28fh8y"
      },
      "outputs": [],
      "source": [
        "Xsequences = tf.keras.preprocessing.sequence.pad_sequences(Xsequences, maxlen=maxlen)"
      ]
    },
    {
      "cell_type": "code",
      "source": [
        "data"
      ],
      "metadata": {
        "colab": {
          "base_uri": "https://localhost:8080/",
          "height": 424
        },
        "id": "RzSeOIax93-w",
        "outputId": "363bfea1-df17-480b-e309-56bd8fbacc1c"
      },
      "execution_count": 46,
      "outputs": [
        {
          "output_type": "execute_result",
          "data": {
            "text/plain": [
              "                                                    text  is_rumor      label\n",
              "233                                      1903 trying say       0.0  not Rumor\n",
              "36697  boubaker alhakim connection actual claim franc...       1.0      Rumor\n",
              "7430   01 1684 agree collective struggle across human...       0.0  not Rumor\n",
              "35971  course another siege going jewish kosher groce...       1.0      Rumor\n",
              "24849  io ya know isis twitter propagandist mehdi sai...       0.0  not Rumor\n",
              "...                                                  ...       ...        ...\n",
              "1129   sorry even stupid divine law tweet im sure kil...       0.0  not Rumor\n",
              "8320                                          right dear       0.0  not Rumor\n",
              "56331  sure afford read matter laziness disorganizati...       1.0      Rumor\n",
              "41291       04 awe poor wittle thing need attention dont       0.0  not Rumor\n",
              "36001                                  spcial force gign       1.0      Rumor\n",
              "\n",
              "[5800 rows x 3 columns]"
            ],
            "text/html": [
              "\n",
              "\n",
              "  <div id=\"df-539317e6-0684-490f-ad96-0cf07734b178\">\n",
              "    <div class=\"colab-df-container\">\n",
              "      <div>\n",
              "<style scoped>\n",
              "    .dataframe tbody tr th:only-of-type {\n",
              "        vertical-align: middle;\n",
              "    }\n",
              "\n",
              "    .dataframe tbody tr th {\n",
              "        vertical-align: top;\n",
              "    }\n",
              "\n",
              "    .dataframe thead th {\n",
              "        text-align: right;\n",
              "    }\n",
              "</style>\n",
              "<table border=\"1\" class=\"dataframe\">\n",
              "  <thead>\n",
              "    <tr style=\"text-align: right;\">\n",
              "      <th></th>\n",
              "      <th>text</th>\n",
              "      <th>is_rumor</th>\n",
              "      <th>label</th>\n",
              "    </tr>\n",
              "  </thead>\n",
              "  <tbody>\n",
              "    <tr>\n",
              "      <th>233</th>\n",
              "      <td>1903 trying say</td>\n",
              "      <td>0.0</td>\n",
              "      <td>not Rumor</td>\n",
              "    </tr>\n",
              "    <tr>\n",
              "      <th>36697</th>\n",
              "      <td>boubaker alhakim connection actual claim franc...</td>\n",
              "      <td>1.0</td>\n",
              "      <td>Rumor</td>\n",
              "    </tr>\n",
              "    <tr>\n",
              "      <th>7430</th>\n",
              "      <td>01 1684 agree collective struggle across human...</td>\n",
              "      <td>0.0</td>\n",
              "      <td>not Rumor</td>\n",
              "    </tr>\n",
              "    <tr>\n",
              "      <th>35971</th>\n",
              "      <td>course another siege going jewish kosher groce...</td>\n",
              "      <td>1.0</td>\n",
              "      <td>Rumor</td>\n",
              "    </tr>\n",
              "    <tr>\n",
              "      <th>24849</th>\n",
              "      <td>io ya know isis twitter propagandist mehdi sai...</td>\n",
              "      <td>0.0</td>\n",
              "      <td>not Rumor</td>\n",
              "    </tr>\n",
              "    <tr>\n",
              "      <th>...</th>\n",
              "      <td>...</td>\n",
              "      <td>...</td>\n",
              "      <td>...</td>\n",
              "    </tr>\n",
              "    <tr>\n",
              "      <th>1129</th>\n",
              "      <td>sorry even stupid divine law tweet im sure kil...</td>\n",
              "      <td>0.0</td>\n",
              "      <td>not Rumor</td>\n",
              "    </tr>\n",
              "    <tr>\n",
              "      <th>8320</th>\n",
              "      <td>right dear</td>\n",
              "      <td>0.0</td>\n",
              "      <td>not Rumor</td>\n",
              "    </tr>\n",
              "    <tr>\n",
              "      <th>56331</th>\n",
              "      <td>sure afford read matter laziness disorganizati...</td>\n",
              "      <td>1.0</td>\n",
              "      <td>Rumor</td>\n",
              "    </tr>\n",
              "    <tr>\n",
              "      <th>41291</th>\n",
              "      <td>04 awe poor wittle thing need attention dont</td>\n",
              "      <td>0.0</td>\n",
              "      <td>not Rumor</td>\n",
              "    </tr>\n",
              "    <tr>\n",
              "      <th>36001</th>\n",
              "      <td>spcial force gign</td>\n",
              "      <td>1.0</td>\n",
              "      <td>Rumor</td>\n",
              "    </tr>\n",
              "  </tbody>\n",
              "</table>\n",
              "<p>5800 rows × 3 columns</p>\n",
              "</div>\n",
              "      <button class=\"colab-df-convert\" onclick=\"convertToInteractive('df-539317e6-0684-490f-ad96-0cf07734b178')\"\n",
              "              title=\"Convert this dataframe to an interactive table.\"\n",
              "              style=\"display:none;\">\n",
              "\n",
              "  <svg xmlns=\"http://www.w3.org/2000/svg\" height=\"24px\"viewBox=\"0 0 24 24\"\n",
              "       width=\"24px\">\n",
              "    <path d=\"M0 0h24v24H0V0z\" fill=\"none\"/>\n",
              "    <path d=\"M18.56 5.44l.94 2.06.94-2.06 2.06-.94-2.06-.94-.94-2.06-.94 2.06-2.06.94zm-11 1L8.5 8.5l.94-2.06 2.06-.94-2.06-.94L8.5 2.5l-.94 2.06-2.06.94zm10 10l.94 2.06.94-2.06 2.06-.94-2.06-.94-.94-2.06-.94 2.06-2.06.94z\"/><path d=\"M17.41 7.96l-1.37-1.37c-.4-.4-.92-.59-1.43-.59-.52 0-1.04.2-1.43.59L10.3 9.45l-7.72 7.72c-.78.78-.78 2.05 0 2.83L4 21.41c.39.39.9.59 1.41.59.51 0 1.02-.2 1.41-.59l7.78-7.78 2.81-2.81c.8-.78.8-2.07 0-2.86zM5.41 20L4 18.59l7.72-7.72 1.47 1.35L5.41 20z\"/>\n",
              "  </svg>\n",
              "      </button>\n",
              "\n",
              "\n",
              "\n",
              "    <div id=\"df-acb6a663-b32a-4f72-8dd9-9ad1937250c3\">\n",
              "      <button class=\"colab-df-quickchart\" onclick=\"quickchart('df-acb6a663-b32a-4f72-8dd9-9ad1937250c3')\"\n",
              "              title=\"Suggest charts.\"\n",
              "              style=\"display:none;\">\n",
              "\n",
              "<svg xmlns=\"http://www.w3.org/2000/svg\" height=\"24px\"viewBox=\"0 0 24 24\"\n",
              "     width=\"24px\">\n",
              "    <g>\n",
              "        <path d=\"M19 3H5c-1.1 0-2 .9-2 2v14c0 1.1.9 2 2 2h14c1.1 0 2-.9 2-2V5c0-1.1-.9-2-2-2zM9 17H7v-7h2v7zm4 0h-2V7h2v10zm4 0h-2v-4h2v4z\"/>\n",
              "    </g>\n",
              "</svg>\n",
              "      </button>\n",
              "    </div>\n",
              "\n",
              "<style>\n",
              "  .colab-df-quickchart {\n",
              "    background-color: #E8F0FE;\n",
              "    border: none;\n",
              "    border-radius: 50%;\n",
              "    cursor: pointer;\n",
              "    display: none;\n",
              "    fill: #1967D2;\n",
              "    height: 32px;\n",
              "    padding: 0 0 0 0;\n",
              "    width: 32px;\n",
              "  }\n",
              "\n",
              "  .colab-df-quickchart:hover {\n",
              "    background-color: #E2EBFA;\n",
              "    box-shadow: 0px 1px 2px rgba(60, 64, 67, 0.3), 0px 1px 3px 1px rgba(60, 64, 67, 0.15);\n",
              "    fill: #174EA6;\n",
              "  }\n",
              "\n",
              "  [theme=dark] .colab-df-quickchart {\n",
              "    background-color: #3B4455;\n",
              "    fill: #D2E3FC;\n",
              "  }\n",
              "\n",
              "  [theme=dark] .colab-df-quickchart:hover {\n",
              "    background-color: #434B5C;\n",
              "    box-shadow: 0px 1px 3px 1px rgba(0, 0, 0, 0.15);\n",
              "    filter: drop-shadow(0px 1px 2px rgba(0, 0, 0, 0.3));\n",
              "    fill: #FFFFFF;\n",
              "  }\n",
              "</style>\n",
              "\n",
              "    <script>\n",
              "      async function quickchart(key) {\n",
              "        const containerElement = document.querySelector('#' + key);\n",
              "        const charts = await google.colab.kernel.invokeFunction(\n",
              "            'suggestCharts', [key], {});\n",
              "      }\n",
              "    </script>\n",
              "\n",
              "      <script>\n",
              "\n",
              "function displayQuickchartButton(domScope) {\n",
              "  let quickchartButtonEl =\n",
              "    domScope.querySelector('#df-acb6a663-b32a-4f72-8dd9-9ad1937250c3 button.colab-df-quickchart');\n",
              "  quickchartButtonEl.style.display =\n",
              "    google.colab.kernel.accessAllowed ? 'block' : 'none';\n",
              "}\n",
              "\n",
              "        displayQuickchartButton(document);\n",
              "      </script>\n",
              "      <style>\n",
              "    .colab-df-container {\n",
              "      display:flex;\n",
              "      flex-wrap:wrap;\n",
              "      gap: 12px;\n",
              "    }\n",
              "\n",
              "    .colab-df-convert {\n",
              "      background-color: #E8F0FE;\n",
              "      border: none;\n",
              "      border-radius: 50%;\n",
              "      cursor: pointer;\n",
              "      display: none;\n",
              "      fill: #1967D2;\n",
              "      height: 32px;\n",
              "      padding: 0 0 0 0;\n",
              "      width: 32px;\n",
              "    }\n",
              "\n",
              "    .colab-df-convert:hover {\n",
              "      background-color: #E2EBFA;\n",
              "      box-shadow: 0px 1px 2px rgba(60, 64, 67, 0.3), 0px 1px 3px 1px rgba(60, 64, 67, 0.15);\n",
              "      fill: #174EA6;\n",
              "    }\n",
              "\n",
              "    [theme=dark] .colab-df-convert {\n",
              "      background-color: #3B4455;\n",
              "      fill: #D2E3FC;\n",
              "    }\n",
              "\n",
              "    [theme=dark] .colab-df-convert:hover {\n",
              "      background-color: #434B5C;\n",
              "      box-shadow: 0px 1px 3px 1px rgba(0, 0, 0, 0.15);\n",
              "      filter: drop-shadow(0px 1px 2px rgba(0, 0, 0, 0.3));\n",
              "      fill: #FFFFFF;\n",
              "    }\n",
              "  </style>\n",
              "\n",
              "      <script>\n",
              "        const buttonEl =\n",
              "          document.querySelector('#df-539317e6-0684-490f-ad96-0cf07734b178 button.colab-df-convert');\n",
              "        buttonEl.style.display =\n",
              "          google.colab.kernel.accessAllowed ? 'block' : 'none';\n",
              "\n",
              "        async function convertToInteractive(key) {\n",
              "          const element = document.querySelector('#df-539317e6-0684-490f-ad96-0cf07734b178');\n",
              "          const dataTable =\n",
              "            await google.colab.kernel.invokeFunction('convertToInteractive',\n",
              "                                                     [key], {});\n",
              "          if (!dataTable) return;\n",
              "\n",
              "          const docLinkHtml = 'Like what you see? Visit the ' +\n",
              "            '<a target=\"_blank\" href=https://colab.research.google.com/notebooks/data_table.ipynb>data table notebook</a>'\n",
              "            + ' to learn more about interactive tables.';\n",
              "          element.innerHTML = '';\n",
              "          dataTable['output_type'] = 'display_data';\n",
              "          await google.colab.output.renderOutput(dataTable, element);\n",
              "          const docLink = document.createElement('div');\n",
              "          docLink.innerHTML = docLinkHtml;\n",
              "          element.appendChild(docLink);\n",
              "        }\n",
              "      </script>\n",
              "    </div>\n",
              "  </div>\n"
            ]
          },
          "metadata": {},
          "execution_count": 46
        }
      ]
    },
    {
      "cell_type": "code",
      "execution_count": 48,
      "metadata": {
        "id": "8QJvL7-BJgzY"
      },
      "outputs": [],
      "source": [
        "labels = data['is_rumor']"
      ]
    },
    {
      "cell_type": "code",
      "execution_count": 49,
      "metadata": {
        "id": "tssENIl6JgzY"
      },
      "outputs": [],
      "source": [
        "dataset = tf.data.Dataset.from_tensor_slices((Xsequences, labels))"
      ]
    },
    {
      "cell_type": "code",
      "execution_count": 50,
      "metadata": {
        "id": "PiwoVwpaJgzZ"
      },
      "outputs": [],
      "source": [
        "dataset = dataset.shuffle(1000000).batch(32)"
      ]
    },
    {
      "cell_type": "code",
      "execution_count": 51,
      "metadata": {
        "id": "ezB4xm9BJgzZ"
      },
      "outputs": [],
      "source": [
        "DS_LEN = len(list(dataset))"
      ]
    },
    {
      "cell_type": "code",
      "execution_count": 52,
      "metadata": {
        "colab": {
          "base_uri": "https://localhost:8080/"
        },
        "id": "GDMeDQ9mJgzZ",
        "outputId": "1b05fac4-6295-408e-b515-757688dee9d3"
      },
      "outputs": [
        {
          "output_type": "execute_result",
          "data": {
            "text/plain": [
              "182"
            ]
          },
          "metadata": {},
          "execution_count": 52
        }
      ],
      "source": [
        "DS_LEN"
      ]
    },
    {
      "cell_type": "code",
      "execution_count": 53,
      "metadata": {
        "id": "lo8cDBX2JgzZ"
      },
      "outputs": [],
      "source": [
        "DATASET_SIZE = len(dataset)"
      ]
    },
    {
      "cell_type": "code",
      "execution_count": 54,
      "metadata": {
        "id": "dQ1U92WrJgzZ"
      },
      "outputs": [],
      "source": [
        "train_size = int(0.60 * DATASET_SIZE)\n",
        "val_size = int(0.15 * DATASET_SIZE)\n",
        "test_size = int(0.25 * DATASET_SIZE)\n",
        "\n",
        "full_dataset = dataset\n",
        "full_dataset = full_dataset.shuffle(123424242)\n",
        "train_dataset = full_dataset.take(train_size)\n",
        "test_dataset = full_dataset.skip(train_size)\n",
        "val_dataset = test_dataset.skip(test_size)\n",
        "test_dataset = test_dataset.take(test_size)"
      ]
    },
    {
      "cell_type": "code",
      "execution_count": 55,
      "metadata": {
        "id": "vrRBE7G4JgzZ"
      },
      "outputs": [],
      "source": [
        "train = train_dataset\n",
        "test = test_dataset\n",
        "val = val_dataset"
      ]
    },
    {
      "cell_type": "code",
      "execution_count": 56,
      "metadata": {
        "id": "QUfErZzXAt-7"
      },
      "outputs": [],
      "source": [
        "embedding_dim = 30"
      ]
    },
    {
      "cell_type": "code",
      "execution_count": 66,
      "metadata": {
        "id": "CQC-0rqeLRzw"
      },
      "outputs": [],
      "source": [
        "pa = '2D-CNN'"
      ]
    },
    {
      "cell_type": "code",
      "execution_count": 58,
      "metadata": {
        "colab": {
          "base_uri": "https://localhost:8080/"
        },
        "id": "uWML9QD4hjqU",
        "outputId": "28d149e9-19b9-45e5-c4bc-9576ae2655fd"
      },
      "outputs": [
        {
          "output_type": "stream",
          "name": "stdout",
          "text": [
            "Model: \"sequential\"\n",
            "_________________________________________________________________\n",
            " Layer (type)                Output Shape              Param #   \n",
            "=================================================================\n",
            " embedding (Embedding)       (None, 30, 30)            90000     \n",
            "                                                                 \n",
            " conv1d (Conv1D)             (None, 29, 32)            1952      \n",
            "                                                                 \n",
            " conv1d_1 (Conv1D)           (None, 28, 64)            4160      \n",
            "                                                                 \n",
            " global_average_pooling1d (G  (None, 64)               0         \n",
            " lobalAveragePooling1D)                                          \n",
            "                                                                 \n",
            " dense (Dense)               (None, 64)                4160      \n",
            "                                                                 \n",
            " dropout (Dropout)           (None, 64)                0         \n",
            "                                                                 \n",
            " dense_1 (Dense)             (None, 1)                 65        \n",
            "                                                                 \n",
            "=================================================================\n",
            "Total params: 100,337\n",
            "Trainable params: 100,337\n",
            "Non-trainable params: 0\n",
            "_________________________________________________________________\n"
          ]
        }
      ],
      "source": [
        "# Define model architecture\n",
        "model = tf.keras.Sequential([\n",
        "    tf.keras.layers.Embedding(input_dim=max_words,\n",
        "                              output_dim=embedding_dim,input_length=maxlen,\n",
        "                              # weights=[embedding_matrix],\n",
        "                              # trainable=True\n",
        "                              ),\n",
        "    tf.keras.layers.Conv1D(32, 2, activation='relu',),\n",
        "    tf.keras.layers.Conv1D(64, 2, activation='relu'),\n",
        "    # tf.keras.layers.Conv1D(128, 2, activation='relu'),\n",
        "    # tf.keras.layers.Bidirectional(tf.keras.layers.LSTM(32,return_sequences=True)),\n",
        "\n",
        "    # tf.keras.layers.Bidirectional(tf.keras.layers.LSTM(32,return_sequences=True)),\n",
        "    # tf.keras.layers.Bidirectional(tf.keras.layers.LSTM(32,return_sequences=True)),\n",
        "    # tf.keras.layers.Bidirectional(tf.keras.layers.LSTM(32)),\n",
        "    tf.keras.layers.GlobalAveragePooling1D(),\n",
        "    tf.keras.layers.Dense(64, activation='relu'),\n",
        "    tf.keras.layers.Dropout(0.2),\n",
        "    tf.keras.layers.Dense(1, activation='sigmoid')\n",
        "])\n",
        "\n",
        "# Compile model\n",
        "model.compile(loss='binary_crossentropy',\n",
        "              optimizer='adam',\n",
        "              metrics=['accuracy'])\n",
        "\n",
        "\n",
        "model.summary()"
      ]
    },
    {
      "cell_type": "code",
      "execution_count": 59,
      "metadata": {
        "id": "UQ0CFgG6LJjV"
      },
      "outputs": [],
      "source": [
        "es = EarlyStopping(monitor=\"val_loss\", mode=\"min\", verbose=1, patience=7)"
      ]
    },
    {
      "cell_type": "code",
      "execution_count": 60,
      "metadata": {
        "colab": {
          "base_uri": "https://localhost:8080/"
        },
        "id": "-ZHAQEvIhzPT",
        "outputId": "23f5cdfe-571a-47df-cccd-8555b1bc9ea3"
      },
      "outputs": [
        {
          "output_type": "stream",
          "name": "stdout",
          "text": [
            "Epoch 1/6\n",
            "109/109 [==============================] - 6s 36ms/step - loss: 0.5490 - accuracy: 0.7777 - val_loss: 0.5402 - val_accuracy: 0.7667 - lr: 0.0010\n",
            "Epoch 2/6\n",
            "109/109 [==============================] - 5s 43ms/step - loss: 0.5204 - accuracy: 0.7758 - val_loss: 0.5323 - val_accuracy: 0.7522 - lr: 0.0010\n",
            "Epoch 3/6\n",
            "109/109 [==============================] - 3s 25ms/step - loss: 0.4385 - accuracy: 0.8039 - val_loss: 0.3902 - val_accuracy: 0.8382 - lr: 0.0010\n",
            "Epoch 4/6\n",
            "109/109 [==============================] - 2s 22ms/step - loss: 0.3626 - accuracy: 0.8533 - val_loss: 0.2869 - val_accuracy: 0.8895 - lr: 0.0010\n",
            "Epoch 5/6\n",
            "109/109 [==============================] - 2s 22ms/step - loss: 0.3313 - accuracy: 0.8658 - val_loss: 0.2818 - val_accuracy: 0.8929 - lr: 0.0010\n",
            "Epoch 6/6\n",
            "109/109 [==============================] - 3s 26ms/step - loss: 0.2884 - accuracy: 0.8876 - val_loss: 0.2511 - val_accuracy: 0.9094 - lr: 0.0010\n"
          ]
        }
      ],
      "source": [
        "# Train model\n",
        "num_epochs = 6\n",
        "history = model.fit(train,\n",
        "                    # batch_size=32,\n",
        "                    epochs=num_epochs,\n",
        "                    # validati0on_split=0.2,\n",
        "                    validation_data=[val],\n",
        "                    callbacks =[\n",
        "                        learning_rate_reduction,\n",
        "                                es\n",
        "                                ],\n",
        "                    )"
      ]
    },
    {
      "cell_type": "code",
      "execution_count": 61,
      "metadata": {
        "id": "SgdI3HqEKRmG"
      },
      "outputs": [],
      "source": [
        "tr = []\n",
        "pr = []\n",
        "l = 0\n",
        "for i,j in test.take(-1):\n",
        "  s = model.predict(i,verbose=0)\n",
        "  tr.append(np.array(j))\n",
        "  pr.append(np.array(s))"
      ]
    },
    {
      "cell_type": "code",
      "execution_count": 62,
      "metadata": {
        "id": "F97euvG_KRmG"
      },
      "outputs": [],
      "source": [
        "yp = np.concatenate([y for y in pr], axis=0)\n",
        "yt = np.concatenate([y for y in tr], axis=0)\n"
      ]
    },
    {
      "cell_type": "code",
      "execution_count": 63,
      "metadata": {
        "id": "Rt_HZw6lKRmH"
      },
      "outputs": [],
      "source": [
        "from sklearn.metrics import classification_report\n"
      ]
    },
    {
      "cell_type": "code",
      "execution_count": 64,
      "metadata": {
        "colab": {
          "base_uri": "https://localhost:8080/"
        },
        "id": "JV8k7u_lKRmH",
        "outputId": "524c110c-5653-45d5-ec78-a9803dfc3058"
      },
      "outputs": [
        {
          "output_type": "stream",
          "name": "stdout",
          "text": [
            "              precision    recall  f1-score   support\n",
            "\n",
            "         0.0       0.91      0.98      0.94      1143\n",
            "         1.0       0.88      0.63      0.74       297\n",
            "\n",
            "    accuracy                           0.91      1440\n",
            "   macro avg       0.89      0.81      0.84      1440\n",
            "weighted avg       0.90      0.91      0.90      1440\n",
            "\n"
          ]
        }
      ],
      "source": [
        "yp[yp < 0.5] = 0\n",
        "yp[yp > 0.5] = 1\n",
        "# y1 = y_test\n",
        "print(classification_report(yt,yp,zero_division=True))"
      ]
    },
    {
      "cell_type": "code",
      "execution_count": 65,
      "metadata": {
        "id": "3pQk8wjkKRmH"
      },
      "outputs": [],
      "source": [
        "yp = np.concatenate([y for y in pr], axis=0)\n",
        "yt = np.concatenate([y for y in tr], axis=0)\n"
      ]
    },
    {
      "cell_type": "code",
      "execution_count": 69,
      "metadata": {
        "id": "5GIK8ZR1KRmH"
      },
      "outputs": [],
      "source": [
        "y1 = yp.reshape(-1,) # np.zeros((y_test.shape[0],))\n",
        "y2 = yt.reshape(-1,)\n",
        "ff = pd.DataFrame(columns=['real','predicted'],)\n",
        "ff['real'] = y2\n",
        "ff['predicted'] = y1\n",
        "# pa = 'Albert'\n",
        "\n",
        "ff.to_csv(f'{path}{pa}.csv',index=False)"
      ]
    },
    {
      "cell_type": "markdown",
      "metadata": {
        "id": "7rpymqgBVup6"
      },
      "source": [
        "# visualization"
      ]
    },
    {
      "cell_type": "code",
      "execution_count": 35,
      "metadata": {
        "id": "lOS3dQkwWCxm"
      },
      "outputs": [],
      "source": [
        "import pandas as pd\n",
        "import numpy as np\n",
        "import seaborn as sns\n",
        "import matplotlib.pyplot as plt\n",
        "from sklearn.metrics import accuracy_score,recall_score\n",
        "from sklearn.metrics import precision_score\n",
        "from sklearn.metrics import roc_auc_score\n",
        "from sklearn.metrics import precision_recall_curve\n",
        "from sklearn.metrics import f1_score\n",
        "from sklearn.metrics import confusion_matrix\n",
        "\n"
      ]
    },
    {
      "cell_type": "code",
      "execution_count": 36,
      "metadata": {
        "id": "DfACF0D_WZRx"
      },
      "outputs": [],
      "source": [
        "path = '/content/drive/MyDrive/work 46/results/'"
      ]
    },
    {
      "cell_type": "code",
      "execution_count": 106,
      "metadata": {
        "colab": {
          "base_uri": "https://localhost:8080/"
        },
        "id": "IDO0SuIYWP86",
        "outputId": "e6bd1883-fe95-4180-976a-4f49428cf9be"
      },
      "outputs": [
        {
          "output_type": "execute_result",
          "data": {
            "text/plain": [
              "(array([0.13352054, 0.20754613, 0.02316395, ..., 0.1919491 , 0.09230134,\n",
              "        0.19089311]),\n",
              " array([0., 0., 0., ..., 0., 0., 0.]))"
            ]
          },
          "metadata": {},
          "execution_count": 106
        }
      ],
      "source": [
        "name = 'ALBERT'\n",
        "dg = pd.read_csv(f'/content/drive/MyDrive/work 46/Albert23.csv')\n",
        "yp,yt = dg['predicted'].to_numpy(),dg['real'].to_numpy()\n",
        "yp,yt"
      ]
    },
    {
      "cell_type": "code",
      "execution_count": 92,
      "metadata": {
        "id": "UG8w0hdWZYrp"
      },
      "outputs": [],
      "source": [
        "# name = 'Bert-base-uncased'"
      ]
    },
    {
      "cell_type": "code",
      "execution_count": 93,
      "metadata": {
        "id": "AwlhPwIfYPLJ"
      },
      "outputs": [],
      "source": [
        "yp[yp < 0.5] = 0\n",
        "yp[yp > 0.5] = 1"
      ]
    },
    {
      "cell_type": "code",
      "execution_count": 94,
      "metadata": {
        "id": "SNWX-5FCZAVI"
      },
      "outputs": [],
      "source": [
        "y_test, y_pred = yt,yp"
      ]
    },
    {
      "cell_type": "code",
      "execution_count": 95,
      "metadata": {
        "colab": {
          "base_uri": "https://localhost:8080/",
          "height": 206
        },
        "id": "btLiqm2bWP5V",
        "outputId": "e95e184c-1899-40c1-a653-6fbca6cfbff6"
      },
      "outputs": [
        {
          "output_type": "execute_result",
          "data": {
            "text/plain": [
              "        CNN      LSTM      GPT2    ALBERT\n",
              "0  0.906250  0.890278  0.949306  0.924306\n",
              "1  0.878505  0.804781  0.911864  0.854331\n",
              "2  0.632997  0.649518  0.851266  0.750865\n",
              "3  0.735812  0.718861  0.880524  0.799263\n",
              "4  0.805125  0.803058  0.914067  0.859360"
            ],
            "text/html": [
              "\n",
              "\n",
              "  <div id=\"df-33937e10-f9b6-4aad-af98-4c5cce26dd3c\">\n",
              "    <div class=\"colab-df-container\">\n",
              "      <div>\n",
              "<style scoped>\n",
              "    .dataframe tbody tr th:only-of-type {\n",
              "        vertical-align: middle;\n",
              "    }\n",
              "\n",
              "    .dataframe tbody tr th {\n",
              "        vertical-align: top;\n",
              "    }\n",
              "\n",
              "    .dataframe thead th {\n",
              "        text-align: right;\n",
              "    }\n",
              "</style>\n",
              "<table border=\"1\" class=\"dataframe\">\n",
              "  <thead>\n",
              "    <tr style=\"text-align: right;\">\n",
              "      <th></th>\n",
              "      <th>CNN</th>\n",
              "      <th>LSTM</th>\n",
              "      <th>GPT2</th>\n",
              "      <th>ALBERT</th>\n",
              "    </tr>\n",
              "  </thead>\n",
              "  <tbody>\n",
              "    <tr>\n",
              "      <th>0</th>\n",
              "      <td>0.906250</td>\n",
              "      <td>0.890278</td>\n",
              "      <td>0.949306</td>\n",
              "      <td>0.924306</td>\n",
              "    </tr>\n",
              "    <tr>\n",
              "      <th>1</th>\n",
              "      <td>0.878505</td>\n",
              "      <td>0.804781</td>\n",
              "      <td>0.911864</td>\n",
              "      <td>0.854331</td>\n",
              "    </tr>\n",
              "    <tr>\n",
              "      <th>2</th>\n",
              "      <td>0.632997</td>\n",
              "      <td>0.649518</td>\n",
              "      <td>0.851266</td>\n",
              "      <td>0.750865</td>\n",
              "    </tr>\n",
              "    <tr>\n",
              "      <th>3</th>\n",
              "      <td>0.735812</td>\n",
              "      <td>0.718861</td>\n",
              "      <td>0.880524</td>\n",
              "      <td>0.799263</td>\n",
              "    </tr>\n",
              "    <tr>\n",
              "      <th>4</th>\n",
              "      <td>0.805125</td>\n",
              "      <td>0.803058</td>\n",
              "      <td>0.914067</td>\n",
              "      <td>0.859360</td>\n",
              "    </tr>\n",
              "  </tbody>\n",
              "</table>\n",
              "</div>\n",
              "      <button class=\"colab-df-convert\" onclick=\"convertToInteractive('df-33937e10-f9b6-4aad-af98-4c5cce26dd3c')\"\n",
              "              title=\"Convert this dataframe to an interactive table.\"\n",
              "              style=\"display:none;\">\n",
              "\n",
              "  <svg xmlns=\"http://www.w3.org/2000/svg\" height=\"24px\"viewBox=\"0 0 24 24\"\n",
              "       width=\"24px\">\n",
              "    <path d=\"M0 0h24v24H0V0z\" fill=\"none\"/>\n",
              "    <path d=\"M18.56 5.44l.94 2.06.94-2.06 2.06-.94-2.06-.94-.94-2.06-.94 2.06-2.06.94zm-11 1L8.5 8.5l.94-2.06 2.06-.94-2.06-.94L8.5 2.5l-.94 2.06-2.06.94zm10 10l.94 2.06.94-2.06 2.06-.94-2.06-.94-.94-2.06-.94 2.06-2.06.94z\"/><path d=\"M17.41 7.96l-1.37-1.37c-.4-.4-.92-.59-1.43-.59-.52 0-1.04.2-1.43.59L10.3 9.45l-7.72 7.72c-.78.78-.78 2.05 0 2.83L4 21.41c.39.39.9.59 1.41.59.51 0 1.02-.2 1.41-.59l7.78-7.78 2.81-2.81c.8-.78.8-2.07 0-2.86zM5.41 20L4 18.59l7.72-7.72 1.47 1.35L5.41 20z\"/>\n",
              "  </svg>\n",
              "      </button>\n",
              "\n",
              "\n",
              "\n",
              "    <div id=\"df-1ccbed65-8430-4e37-9b0b-975f1d201dc0\">\n",
              "      <button class=\"colab-df-quickchart\" onclick=\"quickchart('df-1ccbed65-8430-4e37-9b0b-975f1d201dc0')\"\n",
              "              title=\"Suggest charts.\"\n",
              "              style=\"display:none;\">\n",
              "\n",
              "<svg xmlns=\"http://www.w3.org/2000/svg\" height=\"24px\"viewBox=\"0 0 24 24\"\n",
              "     width=\"24px\">\n",
              "    <g>\n",
              "        <path d=\"M19 3H5c-1.1 0-2 .9-2 2v14c0 1.1.9 2 2 2h14c1.1 0 2-.9 2-2V5c0-1.1-.9-2-2-2zM9 17H7v-7h2v7zm4 0h-2V7h2v10zm4 0h-2v-4h2v4z\"/>\n",
              "    </g>\n",
              "</svg>\n",
              "      </button>\n",
              "    </div>\n",
              "\n",
              "<style>\n",
              "  .colab-df-quickchart {\n",
              "    background-color: #E8F0FE;\n",
              "    border: none;\n",
              "    border-radius: 50%;\n",
              "    cursor: pointer;\n",
              "    display: none;\n",
              "    fill: #1967D2;\n",
              "    height: 32px;\n",
              "    padding: 0 0 0 0;\n",
              "    width: 32px;\n",
              "  }\n",
              "\n",
              "  .colab-df-quickchart:hover {\n",
              "    background-color: #E2EBFA;\n",
              "    box-shadow: 0px 1px 2px rgba(60, 64, 67, 0.3), 0px 1px 3px 1px rgba(60, 64, 67, 0.15);\n",
              "    fill: #174EA6;\n",
              "  }\n",
              "\n",
              "  [theme=dark] .colab-df-quickchart {\n",
              "    background-color: #3B4455;\n",
              "    fill: #D2E3FC;\n",
              "  }\n",
              "\n",
              "  [theme=dark] .colab-df-quickchart:hover {\n",
              "    background-color: #434B5C;\n",
              "    box-shadow: 0px 1px 3px 1px rgba(0, 0, 0, 0.15);\n",
              "    filter: drop-shadow(0px 1px 2px rgba(0, 0, 0, 0.3));\n",
              "    fill: #FFFFFF;\n",
              "  }\n",
              "</style>\n",
              "\n",
              "    <script>\n",
              "      async function quickchart(key) {\n",
              "        const containerElement = document.querySelector('#' + key);\n",
              "        const charts = await google.colab.kernel.invokeFunction(\n",
              "            'suggestCharts', [key], {});\n",
              "      }\n",
              "    </script>\n",
              "\n",
              "      <script>\n",
              "\n",
              "function displayQuickchartButton(domScope) {\n",
              "  let quickchartButtonEl =\n",
              "    domScope.querySelector('#df-1ccbed65-8430-4e37-9b0b-975f1d201dc0 button.colab-df-quickchart');\n",
              "  quickchartButtonEl.style.display =\n",
              "    google.colab.kernel.accessAllowed ? 'block' : 'none';\n",
              "}\n",
              "\n",
              "        displayQuickchartButton(document);\n",
              "      </script>\n",
              "      <style>\n",
              "    .colab-df-container {\n",
              "      display:flex;\n",
              "      flex-wrap:wrap;\n",
              "      gap: 12px;\n",
              "    }\n",
              "\n",
              "    .colab-df-convert {\n",
              "      background-color: #E8F0FE;\n",
              "      border: none;\n",
              "      border-radius: 50%;\n",
              "      cursor: pointer;\n",
              "      display: none;\n",
              "      fill: #1967D2;\n",
              "      height: 32px;\n",
              "      padding: 0 0 0 0;\n",
              "      width: 32px;\n",
              "    }\n",
              "\n",
              "    .colab-df-convert:hover {\n",
              "      background-color: #E2EBFA;\n",
              "      box-shadow: 0px 1px 2px rgba(60, 64, 67, 0.3), 0px 1px 3px 1px rgba(60, 64, 67, 0.15);\n",
              "      fill: #174EA6;\n",
              "    }\n",
              "\n",
              "    [theme=dark] .colab-df-convert {\n",
              "      background-color: #3B4455;\n",
              "      fill: #D2E3FC;\n",
              "    }\n",
              "\n",
              "    [theme=dark] .colab-df-convert:hover {\n",
              "      background-color: #434B5C;\n",
              "      box-shadow: 0px 1px 3px 1px rgba(0, 0, 0, 0.15);\n",
              "      filter: drop-shadow(0px 1px 2px rgba(0, 0, 0, 0.3));\n",
              "      fill: #FFFFFF;\n",
              "    }\n",
              "  </style>\n",
              "\n",
              "      <script>\n",
              "        const buttonEl =\n",
              "          document.querySelector('#df-33937e10-f9b6-4aad-af98-4c5cce26dd3c button.colab-df-convert');\n",
              "        buttonEl.style.display =\n",
              "          google.colab.kernel.accessAllowed ? 'block' : 'none';\n",
              "\n",
              "        async function convertToInteractive(key) {\n",
              "          const element = document.querySelector('#df-33937e10-f9b6-4aad-af98-4c5cce26dd3c');\n",
              "          const dataTable =\n",
              "            await google.colab.kernel.invokeFunction('convertToInteractive',\n",
              "                                                     [key], {});\n",
              "          if (!dataTable) return;\n",
              "\n",
              "          const docLinkHtml = 'Like what you see? Visit the ' +\n",
              "            '<a target=\"_blank\" href=https://colab.research.google.com/notebooks/data_table.ipynb>data table notebook</a>'\n",
              "            + ' to learn more about interactive tables.';\n",
              "          element.innerHTML = '';\n",
              "          dataTable['output_type'] = 'display_data';\n",
              "          await google.colab.output.renderOutput(dataTable, element);\n",
              "          const docLink = document.createElement('div');\n",
              "          docLink.innerHTML = docLinkHtml;\n",
              "          element.appendChild(docLink);\n",
              "        }\n",
              "      </script>\n",
              "    </div>\n",
              "  </div>\n"
            ]
          },
          "metadata": {},
          "execution_count": 95
        }
      ],
      "source": [
        "# k = pd.DataFrame()\n",
        "k[f'{name}'] = [accuracy_score(y_test, y_pred),precision_score(y_test, y_pred),recall_score(y_test, y_pred),f1_score(y_test, y_pred),roc_auc_score(y_test, y_pred)]\n",
        "k"
      ]
    },
    {
      "cell_type": "code",
      "execution_count": 100,
      "metadata": {
        "id": "vE_VtLKRWP2i"
      },
      "outputs": [],
      "source": [
        "k.to_csv(f'{path}performance.csv')"
      ]
    },
    {
      "cell_type": "code",
      "execution_count": 97,
      "metadata": {
        "id": "JB4FNwveclnv"
      },
      "outputs": [],
      "source": [
        "k.index = ['accuracy','precision','recall','f1','roc-auc']"
      ]
    },
    {
      "cell_type": "code",
      "execution_count": 147,
      "metadata": {
        "colab": {
          "base_uri": "https://localhost:8080/",
          "height": 472
        },
        "id": "EW-ISl0Bc1IN",
        "outputId": "cf57ffc5-6258-44d2-db8b-24fc17907ae1"
      },
      "outputs": [
        {
          "output_type": "display_data",
          "data": {
            "text/plain": [
              "<Figure size 640x480 with 1 Axes>"
            ],
            "image/png": "[encoded data removed]"
          },
          "metadata": {}
        }
      ],
      "source": [
        "k.plot(kind='barh')\n",
        "name = 'Performance'\n",
        "# plt.xlim(0.8,1.05)\n",
        "plt.xlabel('Percentage %')\n",
        "plt.title('Performance')\n",
        "plt.savefig(f'{path}{name}.png',bbox_inches='tight')"
      ]
    },
    {
      "cell_type": "code",
      "source": [
        "sns.lineplot(data=k,markers='p',markersize=10)\n",
        "plt.grid()\n",
        "plt.savefig(f'{path}{name}_line.png',bbox_inches='tight')"
      ],
      "metadata": {
        "colab": {
          "base_uri": "https://localhost:8080/",
          "height": 482
        },
        "id": "5aFkS57yFKjq",
        "outputId": "b6c8484f-2d2e-434d-dce8-68ffccf3f702"
      },
      "execution_count": 148,
      "outputs": [
        {
          "output_type": "stream",
          "name": "stderr",
          "text": [
            "<ipython-input-148-d480f8d48065>:1: UserWarning: \n",
            "The markers list has fewer values (1) than needed (4) and will cycle, which may produce an uninterpretable plot.\n",
            "  sns.lineplot(data=k,markers='p',markersize=10)\n"
          ]
        },
        {
          "output_type": "display_data",
          "data": {
            "text/plain": [
              "<Figure size 640x480 with 1 Axes>"
            ],
            "image/png": "[encoded data removed]"
          },
          "metadata": {}
        }
      ]
    },
    {
      "cell_type": "markdown",
      "metadata": {
        "id": "CV0oeF0csdN9"
      },
      "source": [
        "# Model predict"
      ]
    },
    {
      "cell_type": "code",
      "execution_count": null,
      "metadata": {
        "execution": {
          "iopub.execute_input": "2023-07-10T19:42:15.491717Z",
          "iopub.status.busy": "2023-07-10T19:42:15.490655Z",
          "iopub.status.idle": "2023-07-10T19:42:26.890996Z",
          "shell.execute_reply": "2023-07-10T19:42:26.889869Z",
          "shell.execute_reply.started": "2023-07-10T19:42:15.491668Z"
        },
        "id": "aigtQIi9sdN9"
      },
      "outputs": [],
      "source": [
        "pred = model.predict([X_test, test_mask])\n",
        "final_pred = np.where(pred >= 0.5, 1, 0)\n"
      ]
    },
    {
      "cell_type": "markdown",
      "metadata": {
        "id": "rAGfHOZosdN9"
      },
      "source": [
        "# ROC Curve"
      ]
    },
    {
      "cell_type": "code",
      "execution_count": 133,
      "metadata": {
        "execution": {
          "iopub.execute_input": "2023-07-10T19:42:26.89332Z",
          "iopub.status.busy": "2023-07-10T19:42:26.892893Z",
          "iopub.status.idle": "2023-07-10T19:42:27.213245Z",
          "shell.execute_reply": "2023-07-10T19:42:27.212223Z",
          "shell.execute_reply.started": "2023-07-10T19:42:26.89328Z"
        },
        "id": "rE8Dcns-sdN9",
        "colab": {
          "base_uri": "https://localhost:8080/",
          "height": 487
        },
        "outputId": "6861bc1c-e0a9-43ab-900c-adc43e44e693"
      },
      "outputs": [
        {
          "output_type": "display_data",
          "data": {
            "text/plain": [
              "<Figure size 700x500 with 1 Axes>"
            ],
            "image/png": "[encoded data removed]"
          },
          "metadata": {}
        }
      ],
      "source": [
        "names = ['GPT3','Albert23','2D-CNN','2D-LSTM']\n",
        "name_ = ['GPT2','ALBERT','CNN','LSTM']\n",
        "clr = ['b','orange','y','g']\n",
        "plt.figure(figsize=(7,5))\n",
        "\n",
        "for i,j,c in zip(names,name_,clr):\n",
        "    # name = 'ALBERT'\n",
        "    dg = pd.read_csv(f'/content/drive/MyDrive/work 46/{i}.csv')\n",
        "    yp,yt = dg['predicted'].to_numpy(),dg['real'].to_numpy()\n",
        "    # yp,yt\n",
        "    fpr, tpr, thresholds = roc_curve(yt,yp)\n",
        "    roc_auc = auc(fpr, tpr)\n",
        "    # red='b'\n",
        "    plt.plot(fpr, tpr, label=f'{j} ROC curve (area = %0.2f)' % roc_auc,color=f\"{c}\",lw=1.7,marker=\"*\",markersize=3)\n",
        "    plt.plot([0, 1], [0, 1],color=\"black\",lw=3)\n",
        "    plt.xlim([0.0, 1.0])\n",
        "    plt.ylim([0.0, 1.05])\n",
        "    ss = pd.DataFrame()\n",
        "    ss['fpr'] = fpr\n",
        "    ss['tpr'] = tpr\n",
        "    ss['area under curve (its repeated)'] = [roc_auc for _ in range(len(fpr))]\n",
        "    ss.to_csv(f'/content/drive/MyDrive/work 46/results/{j}_fpr_tpr_roc_curve.csv')\n",
        "\n",
        "plt.xlabel('False Positive Rate')\n",
        "plt.ylabel('True Positive Rate')\n",
        "plt.title('Receiver Operating Characteristic')\n",
        "plt.legend(loc=\"lower right\")\n",
        "plt.savefig(f'/content/drive/MyDrive/work 46/results/roc_auc.png',bbox_inches='tight')\n",
        "plt.show()"
      ]
    },
    {
      "cell_type": "markdown",
      "metadata": {
        "id": "NGmIEdkZsdN9"
      },
      "source": [
        "# Precision-Recall Curve"
      ]
    },
    {
      "cell_type": "code",
      "source": [
        "names = ['GPT3','Albert23','2D-CNN','2D-LSTM']\n",
        "name_ = ['GPT2','ALBERT','CNN','LSTM']\n",
        "# clr = [\"r\",'b','y','g']\n",
        "plt.figure(figsize=(7,5))\n",
        "\n",
        "for i,j,c in zip(names,name_,clr):\n",
        "    # name = 'ALBERT'\n",
        "    dg = pd.read_csv(f'/content/drive/MyDrive/work 46/{i}.csv')\n",
        "    yp,yt = dg['predicted'].to_numpy(),dg['real'].to_numpy()\n",
        "    # yp,yt\n",
        "    precision, recall, thresholds = precision_recall_curve(yt,yp)\n",
        "    ap_score = average_precision_score(yt,yp)\n",
        "    # red='b'\n",
        "    # plt.plot(fpr, tpr, label=f'{j} ROC curve (area = %0.2f)' % roc_auc,color=f\"{c}\",lw=1.7,marker=\"*\",markersize=3)\n",
        "    plt.plot(recall, precision, label=f'{j} Precision-Recall Curve (AP = %0.2f)' % ap_score,color=f\"{c}\",lw=2.8)\n",
        "\n",
        "    # plt.plot([0, 1], [0, 1],color=\"black\",lw=3)\n",
        "    plt.xlim([0.0, 1.0])\n",
        "    plt.ylim([0.0, 1.05])\n",
        "    ss = pd.DataFrame()\n",
        "    ss['precision'] = precision\n",
        "    ss['recall'] = recall\n",
        "    ss['ap_score (its repeated)'] = [ap_score for _ in range(len(precision))]\n",
        "    ss.to_csv(f'/content/drive/MyDrive/work 46/results/{j}_Precision-Recall Curve.csv')\n",
        "\n",
        "plt.xlabel('Recall')\n",
        "plt.ylabel('Precision')\n",
        "plt.title('Precision-Recall Curve')\n",
        "plt.legend(loc=\"lower left\")\n",
        "plt.savefig(f'/content/drive/MyDrive/work 46/results/Precision_Recall_Curve.png',bbox_inches='tight')\n",
        "plt.show()"
      ],
      "metadata": {
        "colab": {
          "base_uri": "https://localhost:8080/",
          "height": 487
        },
        "id": "wa4krEETC1ic",
        "outputId": "15e023fe-0353-495e-9157-4ce445d6f183"
      },
      "execution_count": 131,
      "outputs": [
        {
          "output_type": "display_data",
          "data": {
            "text/plain": [
              "<Figure size 700x500 with 1 Axes>"
            ],
            "image/png": "[encoded data removed]"
          },
          "metadata": {}
        }
      ]
    },
    {
      "cell_type": "code",
      "execution_count": 120,
      "metadata": {
        "execution": {
          "iopub.execute_input": "2023-07-10T19:42:27.2181Z",
          "iopub.status.busy": "2023-07-10T19:42:27.214884Z",
          "iopub.status.idle": "2023-07-10T19:42:27.572388Z",
          "shell.execute_reply": "2023-07-10T19:42:27.56947Z",
          "shell.execute_reply.started": "2023-07-10T19:42:27.218069Z"
        },
        "id": "Us4RR6M2sdN9",
        "colab": {
          "base_uri": "https://localhost:8080/",
          "height": 487
        },
        "outputId": "f1c5ef5d-7e09-465d-b251-03718e8dcea4"
      },
      "outputs": [
        {
          "output_type": "display_data",
          "data": {
            "text/plain": [
              "<Figure size 700x500 with 1 Axes>"
            ],
            "image/png": "[encoded data removed]"
          },
          "metadata": {}
        }
      ],
      "source": [
        "precision, recall, thresholds = precision_recall_curve(yt,yp)\n",
        "ap_score = average_precision_score(yt,yp)\n",
        "plt.figure(figsize=(7,5))\n",
        "plt.plot(recall, precision, label='Precision-Recall Curve (AP = %0.2f)' % ap_score,color=\"purple\",lw=2.8)\n",
        "\n",
        "plt.show()"
      ]
    },
    {
      "cell_type": "code",
      "execution_count": null,
      "metadata": {
        "execution": {
          "iopub.execute_input": "2023-07-10T19:42:27.575017Z",
          "iopub.status.busy": "2023-07-10T19:42:27.574547Z",
          "iopub.status.idle": "2023-07-10T19:42:27.665473Z",
          "shell.execute_reply": "2023-07-10T19:42:27.664242Z",
          "shell.execute_reply.started": "2023-07-10T19:42:27.574977Z"
        },
        "id": "pYVmdVKJsdN9"
      },
      "outputs": [],
      "source": [
        "roc_auc = roc_auc_score(Y_test, pred)\n",
        "plt.plot([])\n",
        "plt.text(0,0, f'ROC AUC  Score: {roc_auc:.4f}', fontsize=16, ha='center', va='center',color=\"indigo\")\n",
        "plt.axis('off')\n",
        "\n",
        "# Set the x-axis limits\n",
        "plt.xlim(-1, 1)\n",
        "plt.ylim(-1,1)\n",
        "\n",
        "plt.show()"
      ]
    },
    {
      "cell_type": "code",
      "execution_count": 124,
      "metadata": {
        "execution": {
          "iopub.execute_input": "2023-07-10T19:42:27.668018Z",
          "iopub.status.busy": "2023-07-10T19:42:27.667311Z",
          "iopub.status.idle": "2023-07-10T19:42:27.770897Z",
          "shell.execute_reply": "2023-07-10T19:42:27.769578Z",
          "shell.execute_reply.started": "2023-07-10T19:42:27.66798Z"
        },
        "id": "wSrtoUvGsdN9",
        "colab": {
          "base_uri": "https://localhost:8080/",
          "height": 406
        },
        "outputId": "bc0e5d5b-1c07-4a4c-b0c8-336941bf6e2a"
      },
      "outputs": [
        {
          "output_type": "display_data",
          "data": {
            "text/plain": [
              "<Figure size 640x480 with 1 Axes>"
            ],
            "image/png": "[encoded data removed]"
          },
          "metadata": {}
        }
      ],
      "source": [
        "logarithm_loss=log_loss(yt,yp)\n",
        "plt.plot([])\n",
        "plt.text(0,0, f'Log Loss: {logarithm_loss:.4f}', fontsize=16, ha='center', va='center',color=\"black\")\n",
        "plt.axis('off')\n",
        "\n",
        "# Set the x-axis limits\n",
        "plt.xlim(-1, 1)\n",
        "plt.ylim(-1,1)\n",
        "\n",
        "plt.show()"
      ]
    },
    {
      "cell_type": "code",
      "execution_count": 125,
      "metadata": {
        "execution": {
          "iopub.execute_input": "2023-07-10T19:42:27.773814Z",
          "iopub.status.busy": "2023-07-10T19:42:27.772959Z",
          "iopub.status.idle": "2023-07-10T19:42:27.933523Z",
          "shell.execute_reply": "2023-07-10T19:42:27.930319Z",
          "shell.execute_reply.started": "2023-07-10T19:42:27.773773Z"
        },
        "id": "hHDz7ZqTsdN9",
        "colab": {
          "base_uri": "https://localhost:8080/",
          "height": 393
        },
        "outputId": "2c8ccf26-5dd0-4bec-b060-68923851f80a"
      },
      "outputs": [
        {
          "output_type": "error",
          "ename": "ValueError",
          "evalue": "ignored",
          "traceback": [
            "\u001b[0;31m---------------------------------------------------------------------------\u001b[0m",
            "\u001b[0;31mValueError\u001b[0m                                Traceback (most recent call last)",
            "\u001b[0;32m<ipython-input-125-0e8640620fcc>\u001b[0m in \u001b[0;36m<cell line: 1>\u001b[0;34m()\u001b[0m\n\u001b[0;32m----> 1\u001b[0;31m \u001b[0mkappa\u001b[0m \u001b[0;34m=\u001b[0m \u001b[0mcohen_kappa_score\u001b[0m\u001b[0;34m(\u001b[0m\u001b[0myt\u001b[0m\u001b[0;34m,\u001b[0m\u001b[0myp\u001b[0m\u001b[0;34m)\u001b[0m\u001b[0;34m\u001b[0m\u001b[0;34m\u001b[0m\u001b[0m\n\u001b[0m\u001b[1;32m      2\u001b[0m \u001b[0mplt\u001b[0m\u001b[0;34m.\u001b[0m\u001b[0mplot\u001b[0m\u001b[0;34m(\u001b[0m\u001b[0;34m[\u001b[0m\u001b[0;34m]\u001b[0m\u001b[0;34m)\u001b[0m\u001b[0;34m\u001b[0m\u001b[0;34m\u001b[0m\u001b[0m\n\u001b[1;32m      3\u001b[0m \u001b[0mplt\u001b[0m\u001b[0;34m.\u001b[0m\u001b[0mtext\u001b[0m\u001b[0;34m(\u001b[0m\u001b[0;36m0\u001b[0m\u001b[0;34m,\u001b[0m\u001b[0;36m0\u001b[0m\u001b[0;34m,\u001b[0m \u001b[0;34mf'Cohen Kappa Score: {kappa:.4f}'\u001b[0m\u001b[0;34m,\u001b[0m \u001b[0mfontsize\u001b[0m\u001b[0;34m=\u001b[0m\u001b[0;36m16\u001b[0m\u001b[0;34m,\u001b[0m \u001b[0mha\u001b[0m\u001b[0;34m=\u001b[0m\u001b[0;34m'center'\u001b[0m\u001b[0;34m,\u001b[0m \u001b[0mva\u001b[0m\u001b[0;34m=\u001b[0m\u001b[0;34m'center'\u001b[0m\u001b[0;34m,\u001b[0m\u001b[0mcolor\u001b[0m\u001b[0;34m=\u001b[0m\u001b[0;34m\"orangered\"\u001b[0m\u001b[0;34m)\u001b[0m\u001b[0;34m\u001b[0m\u001b[0;34m\u001b[0m\u001b[0m\n\u001b[1;32m      4\u001b[0m \u001b[0mplt\u001b[0m\u001b[0;34m.\u001b[0m\u001b[0maxis\u001b[0m\u001b[0;34m(\u001b[0m\u001b[0;34m'off'\u001b[0m\u001b[0;34m)\u001b[0m\u001b[0;34m\u001b[0m\u001b[0;34m\u001b[0m\u001b[0m\n\u001b[1;32m      5\u001b[0m \u001b[0;34m\u001b[0m\u001b[0m\n",
            "\u001b[0;32m/usr/local/lib/python3.10/dist-packages/sklearn/metrics/_classification.py\u001b[0m in \u001b[0;36mcohen_kappa_score\u001b[0;34m(y1, y2, labels, weights, sample_weight)\u001b[0m\n\u001b[1;32m    652\u001b[0m             \u001b[0;34m<\u001b[0m\u001b[0mhttps\u001b[0m\u001b[0;34m:\u001b[0m\u001b[0;34m//\u001b[0m\u001b[0men\u001b[0m\u001b[0;34m.\u001b[0m\u001b[0mwikipedia\u001b[0m\u001b[0;34m.\u001b[0m\u001b[0morg\u001b[0m\u001b[0;34m/\u001b[0m\u001b[0mwiki\u001b[0m\u001b[0;34m/\u001b[0m\u001b[0mCohen\u001b[0m\u001b[0;34m%\u001b[0m\u001b[0;36m27\u001b[0m\u001b[0ms_kappa\u001b[0m\u001b[0;34m>\u001b[0m\u001b[0;31m`\u001b[0m\u001b[0m_\u001b[0m\u001b[0;34m.\u001b[0m\u001b[0;34m\u001b[0m\u001b[0;34m\u001b[0m\u001b[0m\n\u001b[1;32m    653\u001b[0m     \"\"\"\n\u001b[0;32m--> 654\u001b[0;31m     \u001b[0mconfusion\u001b[0m \u001b[0;34m=\u001b[0m \u001b[0mconfusion_matrix\u001b[0m\u001b[0;34m(\u001b[0m\u001b[0my1\u001b[0m\u001b[0;34m,\u001b[0m \u001b[0my2\u001b[0m\u001b[0;34m,\u001b[0m \u001b[0mlabels\u001b[0m\u001b[0;34m=\u001b[0m\u001b[0mlabels\u001b[0m\u001b[0;34m,\u001b[0m \u001b[0msample_weight\u001b[0m\u001b[0;34m=\u001b[0m\u001b[0msample_weight\u001b[0m\u001b[0;34m)\u001b[0m\u001b[0;34m\u001b[0m\u001b[0;34m\u001b[0m\u001b[0m\n\u001b[0m\u001b[1;32m    655\u001b[0m     \u001b[0mn_classes\u001b[0m \u001b[0;34m=\u001b[0m \u001b[0mconfusion\u001b[0m\u001b[0;34m.\u001b[0m\u001b[0mshape\u001b[0m\u001b[0;34m[\u001b[0m\u001b[0;36m0\u001b[0m\u001b[0;34m]\u001b[0m\u001b[0;34m\u001b[0m\u001b[0;34m\u001b[0m\u001b[0m\n\u001b[1;32m    656\u001b[0m     \u001b[0msum0\u001b[0m \u001b[0;34m=\u001b[0m \u001b[0mnp\u001b[0m\u001b[0;34m.\u001b[0m\u001b[0msum\u001b[0m\u001b[0;34m(\u001b[0m\u001b[0mconfusion\u001b[0m\u001b[0;34m,\u001b[0m \u001b[0maxis\u001b[0m\u001b[0;34m=\u001b[0m\u001b[0;36m0\u001b[0m\u001b[0;34m)\u001b[0m\u001b[0;34m\u001b[0m\u001b[0;34m\u001b[0m\u001b[0m\n",
            "\u001b[0;32m/usr/local/lib/python3.10/dist-packages/sklearn/metrics/_classification.py\u001b[0m in \u001b[0;36mconfusion_matrix\u001b[0;34m(y_true, y_pred, labels, sample_weight, normalize)\u001b[0m\n\u001b[1;32m    315\u001b[0m     \u001b[0;34m(\u001b[0m\u001b[0;36m0\u001b[0m\u001b[0;34m,\u001b[0m \u001b[0;36m2\u001b[0m\u001b[0;34m,\u001b[0m \u001b[0;36m1\u001b[0m\u001b[0;34m,\u001b[0m \u001b[0;36m1\u001b[0m\u001b[0;34m)\u001b[0m\u001b[0;34m\u001b[0m\u001b[0;34m\u001b[0m\u001b[0m\n\u001b[1;32m    316\u001b[0m     \"\"\"\n\u001b[0;32m--> 317\u001b[0;31m     \u001b[0my_type\u001b[0m\u001b[0;34m,\u001b[0m \u001b[0my_true\u001b[0m\u001b[0;34m,\u001b[0m \u001b[0my_pred\u001b[0m \u001b[0;34m=\u001b[0m \u001b[0m_check_targets\u001b[0m\u001b[0;34m(\u001b[0m\u001b[0my_true\u001b[0m\u001b[0;34m,\u001b[0m \u001b[0my_pred\u001b[0m\u001b[0;34m)\u001b[0m\u001b[0;34m\u001b[0m\u001b[0;34m\u001b[0m\u001b[0m\n\u001b[0m\u001b[1;32m    318\u001b[0m     \u001b[0;32mif\u001b[0m \u001b[0my_type\u001b[0m \u001b[0;32mnot\u001b[0m \u001b[0;32min\u001b[0m \u001b[0;34m(\u001b[0m\u001b[0;34m\"binary\"\u001b[0m\u001b[0;34m,\u001b[0m \u001b[0;34m\"multiclass\"\u001b[0m\u001b[0;34m)\u001b[0m\u001b[0;34m:\u001b[0m\u001b[0;34m\u001b[0m\u001b[0;34m\u001b[0m\u001b[0m\n\u001b[1;32m    319\u001b[0m         \u001b[0;32mraise\u001b[0m \u001b[0mValueError\u001b[0m\u001b[0;34m(\u001b[0m\u001b[0;34m\"%s is not supported\"\u001b[0m \u001b[0;34m%\u001b[0m \u001b[0my_type\u001b[0m\u001b[0;34m)\u001b[0m\u001b[0;34m\u001b[0m\u001b[0;34m\u001b[0m\u001b[0m\n",
            "\u001b[0;32m/usr/local/lib/python3.10/dist-packages/sklearn/metrics/_classification.py\u001b[0m in \u001b[0;36m_check_targets\u001b[0;34m(y_true, y_pred)\u001b[0m\n\u001b[1;32m     93\u001b[0m \u001b[0;34m\u001b[0m\u001b[0m\n\u001b[1;32m     94\u001b[0m     \u001b[0;32mif\u001b[0m \u001b[0mlen\u001b[0m\u001b[0;34m(\u001b[0m\u001b[0my_type\u001b[0m\u001b[0;34m)\u001b[0m \u001b[0;34m>\u001b[0m \u001b[0;36m1\u001b[0m\u001b[0;34m:\u001b[0m\u001b[0;34m\u001b[0m\u001b[0;34m\u001b[0m\u001b[0m\n\u001b[0;32m---> 95\u001b[0;31m         raise ValueError(\n\u001b[0m\u001b[1;32m     96\u001b[0m             \"Classification metrics can't handle a mix of {0} and {1} targets\".format(\n\u001b[1;32m     97\u001b[0m                 \u001b[0mtype_true\u001b[0m\u001b[0;34m,\u001b[0m \u001b[0mtype_pred\u001b[0m\u001b[0;34m\u001b[0m\u001b[0;34m\u001b[0m\u001b[0m\n",
            "\u001b[0;31mValueError\u001b[0m: Classification metrics can't handle a mix of binary and continuous targets"
          ]
        }
      ],
      "source": [
        "kappa = cohen_kappa_score(yt,yp)\n",
        "plt.plot([])\n",
        "plt.text(0,0, f'Cohen Kappa Score: {kappa:.4f}', fontsize=16, ha='center', va='center',color=\"orangered\")\n",
        "plt.axis('off')\n",
        "\n",
        "# Set the x-axis limits\n",
        "plt.xlim(-1, 1)\n",
        "plt.ylim(-1,1)\n",
        "\n",
        "plt.show()"
      ]
    },
    {
      "cell_type": "code",
      "execution_count": null,
      "metadata": {
        "execution": {
          "iopub.execute_input": "2023-07-10T19:42:27.945644Z",
          "iopub.status.busy": "2023-07-10T19:42:27.942288Z",
          "iopub.status.idle": "2023-07-10T19:42:28.056323Z",
          "shell.execute_reply": "2023-07-10T19:42:28.054809Z",
          "shell.execute_reply.started": "2023-07-10T19:42:27.945585Z"
        },
        "id": "Li-5mkOzsdN-"
      },
      "outputs": [],
      "source": [
        "mcc = matthews_corrcoef(Y_test, final_pred)\n",
        "\n",
        "# Create a plot and display the MCC value as text\n",
        "plt.plot([])\n",
        "plt.text(0,0, f'Matthews Correlation Coefficient: {mcc:.4f}', fontsize=16, ha='center', va='center',color=\"saddlebrown\")\n",
        "plt.axis('off')\n",
        "\n",
        "# Set the x-axis limits\n",
        "plt.xlim(-1, 1)\n",
        "plt.ylim(-1,1)\n",
        "\n",
        "plt.show()\n"
      ]
    },
    {
      "cell_type": "markdown",
      "metadata": {
        "id": "O6HTYe7usdN-"
      },
      "source": [
        "# Confusion Matrix"
      ]
    },
    {
      "cell_type": "code",
      "execution_count": null,
      "metadata": {
        "execution": {
          "iopub.execute_input": "2023-07-10T19:42:28.066739Z",
          "iopub.status.busy": "2023-07-10T19:42:28.063023Z",
          "iopub.status.idle": "2023-07-10T19:42:28.430179Z",
          "shell.execute_reply": "2023-07-10T19:42:28.429068Z",
          "shell.execute_reply.started": "2023-07-10T19:42:28.066674Z"
        },
        "id": "BmLGaWCgsdN-"
      },
      "outputs": [],
      "source": [
        "label_name = [\"Non Disaster\", \"Disaster\"]\n",
        "plt.figure(figsize=(7, 5))\n",
        "cm = confusion_matrix(Y_test, final_pred)\n",
        "sns.heatmap(cm, annot=True, cmap=\"rainbow\",fmt=\"d\",lw=6,linecolor=\"black\",xticklabels=label_name, yticklabels=label_name)\n",
        "plt.title(\"Confusion Matrix\")\n",
        "plt.xlabel(\"Predicted\")\n",
        "plt.ylabel(\"Actual\")\n",
        "plt.show()\n",
        "\n"
      ]
    },
    {
      "cell_type": "markdown",
      "metadata": {
        "id": "peHXwhZOsdN-"
      },
      "source": [
        "# Classification Report"
      ]
    },
    {
      "cell_type": "code",
      "execution_count": null,
      "metadata": {
        "execution": {
          "iopub.execute_input": "2023-07-10T19:42:28.433031Z",
          "iopub.status.busy": "2023-07-10T19:42:28.432202Z",
          "iopub.status.idle": "2023-07-10T19:42:28.452778Z",
          "shell.execute_reply": "2023-07-10T19:42:28.451916Z",
          "shell.execute_reply.started": "2023-07-10T19:42:28.43299Z"
        },
        "id": "fi2_d-ZDsdN-"
      },
      "outputs": [],
      "source": [
        "print(classification_report(Y_test,final_pred,target_names=label_name))"
      ]
    },
    {
      "cell_type": "markdown",
      "metadata": {
        "id": "4j6rpBvJsdN-"
      },
      "source": [
        "# Test Data Analysis\n"
      ]
    },
    {
      "cell_type": "code",
      "execution_count": null,
      "metadata": {
        "execution": {
          "iopub.execute_input": "2023-07-10T19:42:28.455503Z",
          "iopub.status.busy": "2023-07-10T19:42:28.454623Z",
          "iopub.status.idle": "2023-07-10T19:42:28.50568Z",
          "shell.execute_reply": "2023-07-10T19:42:28.504543Z",
          "shell.execute_reply.started": "2023-07-10T19:42:28.45546Z"
        },
        "id": "ZoFqNAOpsdN-"
      },
      "outputs": [],
      "source": [
        "df_test=pd.read_csv(\"/kaggle/input/nlp-getting-started/test.csv\")"
      ]
    },
    {
      "cell_type": "code",
      "execution_count": null,
      "metadata": {
        "execution": {
          "iopub.execute_input": "2023-07-10T19:42:28.508156Z",
          "iopub.status.busy": "2023-07-10T19:42:28.507712Z",
          "iopub.status.idle": "2023-07-10T19:42:28.522848Z",
          "shell.execute_reply": "2023-07-10T19:42:28.521345Z",
          "shell.execute_reply.started": "2023-07-10T19:42:28.508117Z"
        },
        "id": "riWFrFs5sdN-"
      },
      "outputs": [],
      "source": [
        "df_test.head()"
      ]
    },
    {
      "cell_type": "code",
      "execution_count": null,
      "metadata": {
        "execution": {
          "iopub.execute_input": "2023-07-10T19:42:28.525659Z",
          "iopub.status.busy": "2023-07-10T19:42:28.525108Z",
          "iopub.status.idle": "2023-07-10T19:42:28.547645Z",
          "shell.execute_reply": "2023-07-10T19:42:28.54622Z",
          "shell.execute_reply.started": "2023-07-10T19:42:28.525617Z"
        },
        "id": "c0GgBT9ssdN-"
      },
      "outputs": [],
      "source": [
        "df_test.info()"
      ]
    },
    {
      "cell_type": "code",
      "execution_count": null,
      "metadata": {
        "execution": {
          "iopub.execute_input": "2023-07-10T19:42:28.550511Z",
          "iopub.status.busy": "2023-07-10T19:42:28.549663Z",
          "iopub.status.idle": "2023-07-10T19:42:28.570433Z",
          "shell.execute_reply": "2023-07-10T19:42:28.569358Z",
          "shell.execute_reply.started": "2023-07-10T19:42:28.550465Z"
        },
        "id": "bKAOw2AysdN-"
      },
      "outputs": [],
      "source": [
        "df_test.describe()"
      ]
    },
    {
      "cell_type": "code",
      "execution_count": null,
      "metadata": {
        "execution": {
          "iopub.execute_input": "2023-07-10T19:42:28.573271Z",
          "iopub.status.busy": "2023-07-10T19:42:28.572087Z",
          "iopub.status.idle": "2023-07-10T19:42:28.587616Z",
          "shell.execute_reply": "2023-07-10T19:42:28.58628Z",
          "shell.execute_reply.started": "2023-07-10T19:42:28.573231Z"
        },
        "id": "4xJZxkVqsdN-"
      },
      "outputs": [],
      "source": [
        "df_test.isnull().sum()"
      ]
    },
    {
      "cell_type": "code",
      "execution_count": null,
      "metadata": {
        "execution": {
          "iopub.execute_input": "2023-07-10T19:42:28.592126Z",
          "iopub.status.busy": "2023-07-10T19:42:28.59172Z",
          "iopub.status.idle": "2023-07-10T19:42:28.601158Z",
          "shell.execute_reply": "2023-07-10T19:42:28.600093Z",
          "shell.execute_reply.started": "2023-07-10T19:42:28.592093Z"
        },
        "id": "nZ7KQJNSsdN_"
      },
      "outputs": [],
      "source": [
        "df_test.drop([\"keyword\",\"location\"],axis=1,inplace=True)"
      ]
    },
    {
      "cell_type": "code",
      "execution_count": null,
      "metadata": {
        "execution": {
          "iopub.execute_input": "2023-07-10T19:42:28.604564Z",
          "iopub.status.busy": "2023-07-10T19:42:28.602849Z",
          "iopub.status.idle": "2023-07-10T19:42:28.625486Z",
          "shell.execute_reply": "2023-07-10T19:42:28.624185Z",
          "shell.execute_reply.started": "2023-07-10T19:42:28.604525Z"
        },
        "id": "QON5rNUKsdN_"
      },
      "outputs": [],
      "source": [
        "df_test.head()"
      ]
    },
    {
      "cell_type": "code",
      "execution_count": null,
      "metadata": {
        "execution": {
          "iopub.execute_input": "2023-07-10T19:42:28.629076Z",
          "iopub.status.busy": "2023-07-10T19:42:28.628317Z",
          "iopub.status.idle": "2023-07-10T19:42:28.637087Z",
          "shell.execute_reply": "2023-07-10T19:42:28.635705Z",
          "shell.execute_reply.started": "2023-07-10T19:42:28.629036Z"
        },
        "id": "LuoyBhvRsdN_"
      },
      "outputs": [],
      "source": [
        "test_text=df_test[\"text\"]"
      ]
    },
    {
      "cell_type": "code",
      "execution_count": null,
      "metadata": {
        "execution": {
          "iopub.execute_input": "2023-07-10T19:42:28.639957Z",
          "iopub.status.busy": "2023-07-10T19:42:28.639501Z",
          "iopub.status.idle": "2023-07-10T19:42:28.650932Z",
          "shell.execute_reply": "2023-07-10T19:42:28.649508Z",
          "shell.execute_reply.started": "2023-07-10T19:42:28.639915Z"
        },
        "id": "y3Iz4duGsdN_"
      },
      "outputs": [],
      "source": [
        "def xlnet_encode(final_text_data, max_len):\n",
        "    input_ids = []\n",
        "    attention_masks = []\n",
        "\n",
        "    for i in range(len(final_text_data)):\n",
        "        encode_data = xlnet_tokenizer.encode_plus(final_text_data[i], add_special_tokens=True, max_length=max_len, pad_to_max_length=True, return_attention_mask=True)\n",
        "        input_ids.append(encode_data['input_ids'])\n",
        "        attention_masks.append(encode_data[\"attention_mask\"])\n",
        "\n",
        "    return np.array(input_ids), np.array(attention_masks)"
      ]
    },
    {
      "cell_type": "code",
      "execution_count": null,
      "metadata": {
        "execution": {
          "iopub.execute_input": "2023-07-10T19:42:28.655041Z",
          "iopub.status.busy": "2023-07-10T19:42:28.653779Z",
          "iopub.status.idle": "2023-07-10T19:42:29.909588Z",
          "shell.execute_reply": "2023-07-10T19:42:29.908546Z",
          "shell.execute_reply.started": "2023-07-10T19:42:28.655Z"
        },
        "id": "iw_6MGbxsdN_"
      },
      "outputs": [],
      "source": [
        "text_input_ids,text_attention_masks = xlnet_encode(test_text,max_len)"
      ]
    },
    {
      "cell_type": "code",
      "execution_count": null,
      "metadata": {
        "execution": {
          "iopub.execute_input": "2023-07-10T19:42:29.911846Z",
          "iopub.status.busy": "2023-07-10T19:42:29.910984Z",
          "iopub.status.idle": "2023-07-10T19:42:50.456176Z",
          "shell.execute_reply": "2023-07-10T19:42:50.454998Z",
          "shell.execute_reply.started": "2023-07-10T19:42:29.911809Z"
        },
        "id": "_mJYM5uDsdN_"
      },
      "outputs": [],
      "source": [
        "text_input_ids = np.array(text_input_ids)\n",
        "text_attention_masks = np.array(text_attention_masks)\n",
        "my_pred = model.predict([text_input_ids, text_attention_masks])\n",
        "predicted_labels = np.where(my_pred >= 0.5, 1, 0)\n",
        "df_test['target'] = predicted_labels\n"
      ]
    },
    {
      "cell_type": "code",
      "execution_count": null,
      "metadata": {
        "execution": {
          "iopub.execute_input": "2023-07-10T19:42:50.459523Z",
          "iopub.status.busy": "2023-07-10T19:42:50.457958Z",
          "iopub.status.idle": "2023-07-10T19:42:50.472531Z",
          "shell.execute_reply": "2023-07-10T19:42:50.471228Z",
          "shell.execute_reply.started": "2023-07-10T19:42:50.459482Z"
        },
        "id": "cDbGZkHysdN_"
      },
      "outputs": [],
      "source": [
        "df_test.head(10)"
      ]
    },
    {
      "cell_type": "code",
      "execution_count": null,
      "metadata": {
        "execution": {
          "iopub.execute_input": "2023-07-10T19:42:50.474959Z",
          "iopub.status.busy": "2023-07-10T19:42:50.474503Z",
          "iopub.status.idle": "2023-07-10T19:42:50.489114Z",
          "shell.execute_reply": "2023-07-10T19:42:50.487904Z",
          "shell.execute_reply.started": "2023-07-10T19:42:50.474914Z"
        },
        "id": "5eqSuAQmsdN_"
      },
      "outputs": [],
      "source": [
        "df_test[\"target\"].value_counts()"
      ]
    },
    {
      "cell_type": "code",
      "execution_count": null,
      "metadata": {
        "execution": {
          "iopub.execute_input": "2023-07-10T19:42:50.492104Z",
          "iopub.status.busy": "2023-07-10T19:42:50.491216Z",
          "iopub.status.idle": "2023-07-10T19:42:50.510044Z",
          "shell.execute_reply": "2023-07-10T19:42:50.508874Z",
          "shell.execute_reply.started": "2023-07-10T19:42:50.492065Z"
        },
        "id": "w2Cc_QVFsdN_"
      },
      "outputs": [],
      "source": [
        "df0=df_test.copy()\n",
        "df0.drop(\"text\",axis=1,inplace=True)\n",
        "df0.to_csv(\"my_submission.csv\",index=False)"
      ]
    },
    {
      "cell_type": "code",
      "execution_count": null,
      "metadata": {
        "id": "A5h9g0ZbsdN_"
      },
      "outputs": [],
      "source": []
    },
    {
      "cell_type": "markdown",
      "metadata": {
        "id": "CYnT1Wi1sdN6"
      },
      "source": [
        "# Encode Data"
      ]
    },
    {
      "cell_type": "code",
      "execution_count": null,
      "metadata": {
        "execution": {
          "iopub.execute_input": "2023-07-10T19:19:24.610324Z",
          "iopub.status.busy": "2023-07-10T19:19:24.60991Z",
          "iopub.status.idle": "2023-07-10T19:19:24.618253Z",
          "shell.execute_reply": "2023-07-10T19:19:24.617033Z",
          "shell.execute_reply.started": "2023-07-10T19:19:24.610295Z"
        },
        "id": "5qqXXVRjsdN6"
      },
      "outputs": [],
      "source": [
        "def xlnet_encode(final_text_data, max_len):\n",
        "    input_ids = []\n",
        "    attention_masks = []\n",
        "\n",
        "    for i in range(len(final_text_data)):\n",
        "        encode_data = xlnet_tokenizer.encode_plus(final_text_data[i], add_special_tokens=True, max_length=max_len, pad_to_max_length=True, return_attention_mask=True)\n",
        "        input_ids.append(encode_data['input_ids'])\n",
        "        attention_masks.append(encode_data[\"attention_mask\"])\n",
        "\n",
        "    return np.array(input_ids), np.array(attention_masks)\n"
      ]
    },
    {
      "cell_type": "code",
      "execution_count": null,
      "metadata": {
        "colab": {
          "base_uri": "https://localhost:8080/"
        },
        "execution": {
          "iopub.execute_input": "2023-07-10T19:19:24.620399Z",
          "iopub.status.busy": "2023-07-10T19:19:24.619869Z",
          "iopub.status.idle": "2023-07-10T19:19:28.101901Z",
          "shell.execute_reply": "2023-07-10T19:19:28.100806Z",
          "shell.execute_reply.started": "2023-07-10T19:19:24.620361Z"
        },
        "id": "OJpbxOutsdN6",
        "outputId": "90455178-00be-49ca-c5cc-3908dcfae227"
      },
      "outputs": [
        {
          "name": "stderr",
          "output_type": "stream",
          "text": [
            "Truncation was not explicitly activated but `max_length` is provided a specific value, please use `truncation=True` to explicitly truncate examples to max length. Defaulting to 'longest_first' truncation strategy. If you encode pairs of sequences (GLUE-style) with the tokenizer you can select this strategy more precisely by providing a specific strategy to `truncation`.\n",
            "/usr/local/lib/python3.10/dist-packages/transformers/tokenization_utils_base.py:2377: FutureWarning: The `pad_to_max_length` argument is deprecated and will be removed in a future version, use `padding=True` or `padding='longest'` to pad to the longest sequence in the batch, or use `padding='max_length'` to pad to a max length. In this case, you can give a specific length with `max_length` (e.g. `max_length=45`) or leave max_length to None to pad to the maximal input size of the model (e.g. 512 for Bert).\n",
            "  warnings.warn(\n"
          ]
        }
      ],
      "source": [
        "text_input_ids,text_attention_masks = xlnet_encode(text_data,max_len)"
      ]
    },
    {
      "cell_type": "code",
      "execution_count": null,
      "metadata": {
        "colab": {
          "base_uri": "https://localhost:8080/"
        },
        "execution": {
          "iopub.execute_input": "2023-07-10T19:19:28.104041Z",
          "iopub.status.busy": "2023-07-10T19:19:28.103646Z",
          "iopub.status.idle": "2023-07-10T19:19:28.113831Z",
          "shell.execute_reply": "2023-07-10T19:19:28.112778Z",
          "shell.execute_reply.started": "2023-07-10T19:19:28.104006Z"
        },
        "id": "hjpTN0o9sdN6",
        "outputId": "c6a469a7-77ac-47fa-a0c4-f828116fa369"
      },
      "outputs": [
        {
          "name": "stdout",
          "output_type": "stream",
          "text": [
            "Text Input Ids Shape (7613, 30) \n",
            "Text Input Attention Mask Shape (7613, 30) \n",
            "Label Data shape (7613,)\n"
          ]
        }
      ],
      "source": [
        "print('Text Input Ids Shape {} \\nText Input Attention Mask Shape {} \\nLabel Data shape {}'.format(text_input_ids.shape,text_attention_masks.shape,label_data.shape))"
      ]
    },
    {
      "cell_type": "code",
      "execution_count": null,
      "metadata": {
        "execution": {
          "iopub.execute_input": "2023-07-10T19:19:28.116301Z",
          "iopub.status.busy": "2023-07-10T19:19:28.115845Z",
          "iopub.status.idle": "2023-07-10T19:19:28.128252Z",
          "shell.execute_reply": "2023-07-10T19:19:28.127045Z",
          "shell.execute_reply.started": "2023-07-10T19:19:28.116266Z"
        },
        "id": "jdwWvyzXsdN7"
      },
      "outputs": [],
      "source": [
        "X_train,X_test,Y_train,Y_test,train_mask,test_mask=train_test_split(text_input_ids,label_data,text_attention_masks,test_size=0.2,random_state=42,shuffle=True)"
      ]
    },
    {
      "cell_type": "code",
      "execution_count": null,
      "metadata": {
        "colab": {
          "base_uri": "https://localhost:8080/"
        },
        "execution": {
          "iopub.execute_input": "2023-07-10T19:19:28.131477Z",
          "iopub.status.busy": "2023-07-10T19:19:28.129824Z",
          "iopub.status.idle": "2023-07-10T19:19:28.13832Z",
          "shell.execute_reply": "2023-07-10T19:19:28.13719Z",
          "shell.execute_reply.started": "2023-07-10T19:19:28.13144Z"
        },
        "id": "ZfM5oRn9sdN7",
        "outputId": "1fc57983-2fe0-48a6-9a04-050926dfd9e8"
      },
      "outputs": [
        {
          "name": "stdout",
          "output_type": "stream",
          "text": [
            "Train input shape (6090, 30)\n",
            "Test input shape (1523, 30)\n",
            "Train label shape (6090,)\n",
            "Test label shape (1523,)\n",
            "Train attention mask shape (6090, 30)\n",
            "Test attention mask shape (1523, 30)\n"
          ]
        }
      ],
      "source": [
        "print('Train input shape {}\\nTest input shape {}\\nTrain label shape {}\\nTest label shape {}\\nTrain attention mask shape {}\\nTest attention mask shape {}'.format(X_train.shape,X_test.shape,Y_train.shape,Y_test.shape,train_mask.shape,test_mask.shape))"
      ]
    },
    {
      "cell_type": "markdown",
      "metadata": {
        "id": "oy9k3e0CsdN6"
      },
      "source": [
        "# XLNET Tokenizer,Model"
      ]
    },
    {
      "cell_type": "code",
      "execution_count": null,
      "metadata": {
        "id": "YIxJ4sRe2W7y"
      },
      "outputs": [],
      "source": [
        "from transformers import AutoTokenizer"
      ]
    },
    {
      "cell_type": "code",
      "execution_count": null,
      "metadata": {
        "id": "4Y33RnBxoNLX"
      },
      "outputs": [],
      "source": [
        "xlnet_tokenizer = AutoTokenizer.from_pretrained('xlnet-base-cased')"
      ]
    },
    {
      "cell_type": "code",
      "execution_count": null,
      "metadata": {
        "id": "5C-UnpN8uQ4O"
      },
      "outputs": [],
      "source": [
        "from transformers import TFAutoModel"
      ]
    },
    {
      "cell_type": "code",
      "execution_count": null,
      "metadata": {
        "colab": {
          "base_uri": "https://localhost:8080/"
        },
        "id": "ryMVVI-kuXli",
        "outputId": "510348b2-9811-4c10-e965-0b5dc78a1a4d"
      },
      "outputs": [
        {
          "name": "stderr",
          "output_type": "stream",
          "text": [
            "/usr/local/lib/python3.10/dist-packages/keras/initializers/initializers.py:120: UserWarning: The initializer TruncatedNormal is unseeded and being called multiple times, which will return identical values each time (even if the initializer is unseeded). Please update your code to provide a seed to the initializer, or avoid using the same initalizer instance more than once.\n",
            "  warnings.warn(\n",
            "Some layers from the model checkpoint at xlnet-base-cased were not used when initializing TFXLNetModel: ['lm_loss']\n",
            "- This IS expected if you are initializing TFXLNetModel from the checkpoint of a model trained on another task or with another architecture (e.g. initializing a BertForSequenceClassification model from a BertForPreTraining model).\n",
            "- This IS NOT expected if you are initializing TFXLNetModel from the checkpoint of a model that you expect to be exactly identical (initializing a BertForSequenceClassification model from a BertForSequenceClassification model).\n",
            "All the layers of TFXLNetModel were initialized from the model checkpoint at xlnet-base-cased.\n",
            "If your task is similar to the task the model of the checkpoint was trained on, you can already use TFXLNetModel for predictions without further training.\n"
          ]
        }
      ],
      "source": [
        "xlnet_model = TFAutoModel.from_pretrained('xlnet-base-cased')"
      ]
    },
    {
      "cell_type": "markdown",
      "metadata": {
        "id": "7umpw-eAsdN7"
      },
      "source": [
        "# Create XLNET Model"
      ]
    },
    {
      "cell_type": "code",
      "execution_count": null,
      "metadata": {
        "execution": {
          "iopub.execute_input": "2023-07-10T19:19:28.140402Z",
          "iopub.status.busy": "2023-07-10T19:19:28.140013Z",
          "iopub.status.idle": "2023-07-10T19:19:28.150388Z",
          "shell.execute_reply": "2023-07-10T19:19:28.149269Z",
          "shell.execute_reply.started": "2023-07-10T19:19:28.140368Z"
        },
        "id": "7z8R2hFdsdN7"
      },
      "outputs": [],
      "source": [
        "def Create_XLNet_Model():\n",
        "    input_ids = tf.keras.Input(shape=(max_len,), dtype=\"int32\")\n",
        "    attention_masks = tf.keras.Input(shape=(max_len,), dtype=\"int32\")\n",
        "\n",
        "    output = xlnet_model(input_ids=input_ids, attention_mask=attention_masks)[0]\n",
        "\n",
        "    output = tf.keras.layers.GlobalMaxPooling1D()(output)\n",
        "\n",
        "    # dense_1 = tf.keras.layers.Dense(256, activation=\"tanh\")(output)\n",
        "    # dense_2 = tf.keras.layers.Dense(128, activation=\"tanh\")(dense_1)\n",
        "\n",
        "    # dense_3 = tf.keras.layers.Dense(64, activation=\"tanh\")(dense_2)\n",
        "    dense_3 = tf.keras.layers.Dense(64, activation=\"relu\")(output)\n",
        "\n",
        "\n",
        "    dropout = tf.keras.layers.Dropout(0.2)(dense_3)\n",
        "    output_layer = tf.keras.layers.Dense(1, activation=\"sigmoid\")(dropout)\n",
        "\n",
        "    model = tf.keras.models.Model(inputs=[input_ids, attention_masks], outputs=output_layer)\n",
        "    return model\n",
        "\n",
        "\n",
        "\n"
      ]
    },
    {
      "cell_type": "code",
      "execution_count": null,
      "metadata": {
        "colab": {
          "base_uri": "https://localhost:8080/"
        },
        "execution": {
          "iopub.execute_input": "2023-07-10T19:19:28.152706Z",
          "iopub.status.busy": "2023-07-10T19:19:28.152024Z",
          "iopub.status.idle": "2023-07-10T19:19:36.805472Z",
          "shell.execute_reply": "2023-07-10T19:19:36.804544Z",
          "shell.execute_reply.started": "2023-07-10T19:19:28.152664Z"
        },
        "id": "zpeBp_5GsdN8",
        "outputId": "e450256a-ee5c-4f08-cfda-d8d85f488e9e"
      },
      "outputs": [
        {
          "name": "stdout",
          "output_type": "stream",
          "text": [
            "Model: \"model\"\n",
            "__________________________________________________________________________________________________\n",
            " Layer (type)                   Output Shape         Param #     Connected to                     \n",
            "==================================================================================================\n",
            " input_1 (InputLayer)           [(None, 30)]         0           []                               \n",
            "                                                                                                  \n",
            " input_2 (InputLayer)           [(None, 30)]         0           []                               \n",
            "                                                                                                  \n",
            " tfxl_net_model_2 (TFXLNetModel  TFXLNetModelOutput(  116718336  ['input_1[0][0]',                \n",
            " )                              last_hidden_state=(               'input_2[0][0]']                \n",
            "                                None, 30, 768),                                                   \n",
            "                                 mems=((30, None, 7                                               \n",
            "                                68),                                                              \n",
            "                                 (30, None, 768),                                                 \n",
            "                                 (30, None, 768),                                                 \n",
            "                                 (30, None, 768),                                                 \n",
            "                                 (30, None, 768),                                                 \n",
            "                                 (30, None, 768),                                                 \n",
            "                                 (30, None, 768),                                                 \n",
            "                                 (30, None, 768),                                                 \n",
            "                                 (30, None, 768),                                                 \n",
            "                                 (30, None, 768),                                                 \n",
            "                                 (30, None, 768),                                                 \n",
            "                                 (30, None, 768)),                                                \n",
            "                                 hidden_states=None                                               \n",
            "                                , attentions=None)                                                \n",
            "                                                                                                  \n",
            " global_max_pooling1d (GlobalMa  (None, 768)         0           ['tfxl_net_model_2[0][0]']       \n",
            " xPooling1D)                                                                                      \n",
            "                                                                                                  \n",
            " dense (Dense)                  (None, 64)           49216       ['global_max_pooling1d[0][0]']   \n",
            "                                                                                                  \n",
            " dropout (Dropout)              (None, 64)           0           ['dense[0][0]']                  \n",
            "                                                                                                  \n",
            " dense_1 (Dense)                (None, 1)            65          ['dropout[0][0]']                \n",
            "                                                                                                  \n",
            "==================================================================================================\n",
            "Total params: 116,767,617\n",
            "Trainable params: 116,767,617\n",
            "Non-trainable params: 0\n",
            "__________________________________________________________________________________________________\n"
          ]
        }
      ],
      "source": [
        "tf.keras.backend.clear_session()\n",
        "model = Create_XLNet_Model()\n",
        "\n",
        "learning_rate = 1e-5\n",
        "beta_1=0.9\n",
        "beta_2=0.98\n",
        "epsilon=1e-9\n",
        "optimizer = tf.keras.optimizers.Adam(learning_rate=learning_rate,\n",
        "                                    #  beta_1=beta_1,\n",
        "                                    #  beta_2=beta_2,\n",
        "                                    #  epsilon=epsilon\n",
        "                                     )\n",
        "\n",
        "loss = \"binary_crossentropy\"\n",
        "metric = \"accuracy\"\n",
        "model.compile(optimizer=optimizer, loss=loss, metrics=[metric])\n",
        "\n",
        "model.summary()\n"
      ]
    },
    {
      "cell_type": "code",
      "execution_count": null,
      "metadata": {
        "execution": {
          "iopub.execute_input": "2023-07-10T19:19:36.807469Z",
          "iopub.status.busy": "2023-07-10T19:19:36.806728Z",
          "iopub.status.idle": "2023-07-10T19:19:37.921459Z",
          "shell.execute_reply": "2023-07-10T19:19:37.919251Z",
          "shell.execute_reply.started": "2023-07-10T19:19:36.807432Z"
        },
        "id": "BS8Cis5NsdN8"
      },
      "outputs": [],
      "source": [
        "# plot_model(model, to_file='model_architecture.png', show_shapes=True)\n",
        "# plt.figure(figsize=(25, 15))\n",
        "# img = plt.imread('model_architecture.png')\n",
        "# plt.imshow(img)\n",
        "# plt.axis('off')\n",
        "# plt.show()\n"
      ]
    },
    {
      "cell_type": "code",
      "execution_count": null,
      "metadata": {
        "execution": {
          "iopub.execute_input": "2023-07-10T19:19:37.924122Z",
          "iopub.status.busy": "2023-07-10T19:19:37.923443Z",
          "iopub.status.idle": "2023-07-10T19:19:37.930096Z",
          "shell.execute_reply": "2023-07-10T19:19:37.928702Z",
          "shell.execute_reply.started": "2023-07-10T19:19:37.924085Z"
        },
        "id": "lHaZtzgSsdN8"
      },
      "outputs": [],
      "source": [
        "\n",
        "early_stopping = EarlyStopping(monitor='val_loss', patience=10, restore_best_weights=True)\n",
        "\n"
      ]
    },
    {
      "cell_type": "code",
      "execution_count": null,
      "metadata": {
        "colab": {
          "base_uri": "https://localhost:8080/"
        },
        "execution": {
          "iopub.execute_input": "2023-07-10T19:19:37.932477Z",
          "iopub.status.busy": "2023-07-10T19:19:37.932022Z",
          "iopub.status.idle": "2023-07-10T19:42:14.806202Z",
          "shell.execute_reply": "2023-07-10T19:42:14.804874Z",
          "shell.execute_reply.started": "2023-07-10T19:19:37.932439Z"
        },
        "id": "61BdFov4sdN8",
        "outputId": "88141377-ea94-4513-bd26-10f5a6301484"
      },
      "outputs": [
        {
          "name": "stderr",
          "output_type": "stream",
          "text": [
            "WARNING:tensorflow:Gradients do not exist for variables ['tfxl_net_model/transformer/mask_emb:0', 'tfxl_net_model/transformer/layer_._0/rel_attn/r_s_bias:0', 'tfxl_net_model/transformer/layer_._0/rel_attn/seg_embed:0', 'tfxl_net_model/transformer/layer_._1/rel_attn/r_s_bias:0', 'tfxl_net_model/transformer/layer_._1/rel_attn/seg_embed:0', 'tfxl_net_model/transformer/layer_._2/rel_attn/r_s_bias:0', 'tfxl_net_model/transformer/layer_._2/rel_attn/seg_embed:0', 'tfxl_net_model/transformer/layer_._3/rel_attn/r_s_bias:0', 'tfxl_net_model/transformer/layer_._3/rel_attn/seg_embed:0', 'tfxl_net_model/transformer/layer_._4/rel_attn/r_s_bias:0', 'tfxl_net_model/transformer/layer_._4/rel_attn/seg_embed:0', 'tfxl_net_model/transformer/layer_._5/rel_attn/r_s_bias:0', 'tfxl_net_model/transformer/layer_._5/rel_attn/seg_embed:0', 'tfxl_net_model/transformer/layer_._6/rel_attn/r_s_bias:0', 'tfxl_net_model/transformer/layer_._6/rel_attn/seg_embed:0', 'tfxl_net_model/transformer/layer_._7/rel_attn/r_s_bias:0', 'tfxl_net_model/transformer/layer_._7/rel_attn/seg_embed:0', 'tfxl_net_model/transformer/layer_._8/rel_attn/r_s_bias:0', 'tfxl_net_model/transformer/layer_._8/rel_attn/seg_embed:0', 'tfxl_net_model/transformer/layer_._9/rel_attn/r_s_bias:0', 'tfxl_net_model/transformer/layer_._9/rel_attn/seg_embed:0', 'tfxl_net_model/transformer/layer_._10/rel_attn/r_s_bias:0', 'tfxl_net_model/transformer/layer_._10/rel_attn/seg_embed:0', 'tfxl_net_model/transformer/layer_._11/rel_attn/r_s_bias:0', 'tfxl_net_model/transformer/layer_._11/rel_attn/seg_embed:0'] when minimizing the loss. If you're using `model.compile()`, did you forget to provide a `loss` argument?\n",
            "WARNING:tensorflow:Gradients do not exist for variables ['tfxl_net_model/transformer/mask_emb:0', 'tfxl_net_model/transformer/layer_._0/rel_attn/r_s_bias:0', 'tfxl_net_model/transformer/layer_._0/rel_attn/seg_embed:0', 'tfxl_net_model/transformer/layer_._1/rel_attn/r_s_bias:0', 'tfxl_net_model/transformer/layer_._1/rel_attn/seg_embed:0', 'tfxl_net_model/transformer/layer_._2/rel_attn/r_s_bias:0', 'tfxl_net_model/transformer/layer_._2/rel_attn/seg_embed:0', 'tfxl_net_model/transformer/layer_._3/rel_attn/r_s_bias:0', 'tfxl_net_model/transformer/layer_._3/rel_attn/seg_embed:0', 'tfxl_net_model/transformer/layer_._4/rel_attn/r_s_bias:0', 'tfxl_net_model/transformer/layer_._4/rel_attn/seg_embed:0', 'tfxl_net_model/transformer/layer_._5/rel_attn/r_s_bias:0', 'tfxl_net_model/transformer/layer_._5/rel_attn/seg_embed:0', 'tfxl_net_model/transformer/layer_._6/rel_attn/r_s_bias:0', 'tfxl_net_model/transformer/layer_._6/rel_attn/seg_embed:0', 'tfxl_net_model/transformer/layer_._7/rel_attn/r_s_bias:0', 'tfxl_net_model/transformer/layer_._7/rel_attn/seg_embed:0', 'tfxl_net_model/transformer/layer_._8/rel_attn/r_s_bias:0', 'tfxl_net_model/transformer/layer_._8/rel_attn/seg_embed:0', 'tfxl_net_model/transformer/layer_._9/rel_attn/r_s_bias:0', 'tfxl_net_model/transformer/layer_._9/rel_attn/seg_embed:0', 'tfxl_net_model/transformer/layer_._10/rel_attn/r_s_bias:0', 'tfxl_net_model/transformer/layer_._10/rel_attn/seg_embed:0', 'tfxl_net_model/transformer/layer_._11/rel_attn/r_s_bias:0', 'tfxl_net_model/transformer/layer_._11/rel_attn/seg_embed:0'] when minimizing the loss. If you're using `model.compile()`, did you forget to provide a `loss` argument?\n",
            "WARNING:tensorflow:Gradients do not exist for variables ['tfxl_net_model/transformer/mask_emb:0', 'tfxl_net_model/transformer/layer_._0/rel_attn/r_s_bias:0', 'tfxl_net_model/transformer/layer_._0/rel_attn/seg_embed:0', 'tfxl_net_model/transformer/layer_._1/rel_attn/r_s_bias:0', 'tfxl_net_model/transformer/layer_._1/rel_attn/seg_embed:0', 'tfxl_net_model/transformer/layer_._2/rel_attn/r_s_bias:0', 'tfxl_net_model/transformer/layer_._2/rel_attn/seg_embed:0', 'tfxl_net_model/transformer/layer_._3/rel_attn/r_s_bias:0', 'tfxl_net_model/transformer/layer_._3/rel_attn/seg_embed:0', 'tfxl_net_model/transformer/layer_._4/rel_attn/r_s_bias:0', 'tfxl_net_model/transformer/layer_._4/rel_attn/seg_embed:0', 'tfxl_net_model/transformer/layer_._5/rel_attn/r_s_bias:0', 'tfxl_net_model/transformer/layer_._5/rel_attn/seg_embed:0', 'tfxl_net_model/transformer/layer_._6/rel_attn/r_s_bias:0', 'tfxl_net_model/transformer/layer_._6/rel_attn/seg_embed:0', 'tfxl_net_model/transformer/layer_._7/rel_attn/r_s_bias:0', 'tfxl_net_model/transformer/layer_._7/rel_attn/seg_embed:0', 'tfxl_net_model/transformer/layer_._8/rel_attn/r_s_bias:0', 'tfxl_net_model/transformer/layer_._8/rel_attn/seg_embed:0', 'tfxl_net_model/transformer/layer_._9/rel_attn/r_s_bias:0', 'tfxl_net_model/transformer/layer_._9/rel_attn/seg_embed:0', 'tfxl_net_model/transformer/layer_._10/rel_attn/r_s_bias:0', 'tfxl_net_model/transformer/layer_._10/rel_attn/seg_embed:0', 'tfxl_net_model/transformer/layer_._11/rel_attn/r_s_bias:0', 'tfxl_net_model/transformer/layer_._11/rel_attn/seg_embed:0'] when minimizing the loss. If you're using `model.compile()`, did you forget to provide a `loss` argument?\n",
            "WARNING:tensorflow:Gradients do not exist for variables ['tfxl_net_model/transformer/mask_emb:0', 'tfxl_net_model/transformer/layer_._0/rel_attn/r_s_bias:0', 'tfxl_net_model/transformer/layer_._0/rel_attn/seg_embed:0', 'tfxl_net_model/transformer/layer_._1/rel_attn/r_s_bias:0', 'tfxl_net_model/transformer/layer_._1/rel_attn/seg_embed:0', 'tfxl_net_model/transformer/layer_._2/rel_attn/r_s_bias:0', 'tfxl_net_model/transformer/layer_._2/rel_attn/seg_embed:0', 'tfxl_net_model/transformer/layer_._3/rel_attn/r_s_bias:0', 'tfxl_net_model/transformer/layer_._3/rel_attn/seg_embed:0', 'tfxl_net_model/transformer/layer_._4/rel_attn/r_s_bias:0', 'tfxl_net_model/transformer/layer_._4/rel_attn/seg_embed:0', 'tfxl_net_model/transformer/layer_._5/rel_attn/r_s_bias:0', 'tfxl_net_model/transformer/layer_._5/rel_attn/seg_embed:0', 'tfxl_net_model/transformer/layer_._6/rel_attn/r_s_bias:0', 'tfxl_net_model/transformer/layer_._6/rel_attn/seg_embed:0', 'tfxl_net_model/transformer/layer_._7/rel_attn/r_s_bias:0', 'tfxl_net_model/transformer/layer_._7/rel_attn/seg_embed:0', 'tfxl_net_model/transformer/layer_._8/rel_attn/r_s_bias:0', 'tfxl_net_model/transformer/layer_._8/rel_attn/seg_embed:0', 'tfxl_net_model/transformer/layer_._9/rel_attn/r_s_bias:0', 'tfxl_net_model/transformer/layer_._9/rel_attn/seg_embed:0', 'tfxl_net_model/transformer/layer_._10/rel_attn/r_s_bias:0', 'tfxl_net_model/transformer/layer_._10/rel_attn/seg_embed:0', 'tfxl_net_model/transformer/layer_._11/rel_attn/r_s_bias:0', 'tfxl_net_model/transformer/layer_._11/rel_attn/seg_embed:0'] when minimizing the loss. If you're using `model.compile()`, did you forget to provide a `loss` argument?\n"
          ]
        },
        {
          "name": "stdout",
          "output_type": "stream",
          "text": [
            "191/191 [==============================] - 121s 364ms/step - loss: 0.6405 - accuracy: 0.7140 - val_loss: 0.4813 - val_accuracy: 0.7892\n"
          ]
        }
      ],
      "source": [
        "# history = model.fit(x=[X_train, train_mask],y=Y_train,validation_data=([X_test, test_mask], Y_test),\n",
        "#                     epochs=10,batch_size=32,callbacks=[early_stopping])"
      ]
    },
    {
      "cell_type": "code",
      "execution_count": null,
      "metadata": {
        "colab": {
          "base_uri": "https://localhost:8080/"
        },
        "id": "3hwzzqsJCFla",
        "outputId": "8aad5ac5-6de9-4db9-f405-1f5b1128d9c7"
      },
      "outputs": [
        {
          "name": "stdout",
          "output_type": "stream",
          "text": [
            "Epoch 1/4\n"
          ]
        },
        {
          "ename": "ValueError",
          "evalue": "ignored",
          "output_type": "error",
          "traceback": [
            "\u001b[0;31m---------------------------------------------------------------------------\u001b[0m",
            "\u001b[0;31mValueError\u001b[0m                                Traceback (most recent call last)",
            "\u001b[0;32m<ipython-input-155-1d1c0b5d01c6>\u001b[0m in \u001b[0;36m<cell line: 3>\u001b[0;34m()\u001b[0m\n\u001b[1;32m      1\u001b[0m \u001b[0mnum_epochs\u001b[0m \u001b[0;34m=\u001b[0m \u001b[0;36m4\u001b[0m\u001b[0;34m\u001b[0m\u001b[0;34m\u001b[0m\u001b[0m\n\u001b[1;32m      2\u001b[0m \u001b[0;31m# early_stop = EarlyStopping(monitor='val_accuracy', patience=6,restore_best_weights=True)\u001b[0m\u001b[0;34m\u001b[0m\u001b[0;34m\u001b[0m\u001b[0m\n\u001b[0;32m----> 3\u001b[0;31m history = model.fit(train,\n\u001b[0m\u001b[1;32m      4\u001b[0m                     \u001b[0;31m# batch_size=32,\u001b[0m\u001b[0;34m\u001b[0m\u001b[0;34m\u001b[0m\u001b[0m\n\u001b[1;32m      5\u001b[0m                     \u001b[0mepochs\u001b[0m\u001b[0;34m=\u001b[0m\u001b[0mnum_epochs\u001b[0m\u001b[0;34m,\u001b[0m\u001b[0;34m\u001b[0m\u001b[0;34m\u001b[0m\u001b[0m\n",
            "\u001b[0;32m/usr/local/lib/python3.10/dist-packages/keras/utils/traceback_utils.py\u001b[0m in \u001b[0;36merror_handler\u001b[0;34m(*args, **kwargs)\u001b[0m\n\u001b[1;32m     68\u001b[0m             \u001b[0;31m# To get the full stack trace, call:\u001b[0m\u001b[0;34m\u001b[0m\u001b[0;34m\u001b[0m\u001b[0m\n\u001b[1;32m     69\u001b[0m             \u001b[0;31m# `tf.debugging.disable_traceback_filtering()`\u001b[0m\u001b[0;34m\u001b[0m\u001b[0;34m\u001b[0m\u001b[0m\n\u001b[0;32m---> 70\u001b[0;31m             \u001b[0;32mraise\u001b[0m \u001b[0me\u001b[0m\u001b[0;34m.\u001b[0m\u001b[0mwith_traceback\u001b[0m\u001b[0;34m(\u001b[0m\u001b[0mfiltered_tb\u001b[0m\u001b[0;34m)\u001b[0m \u001b[0;32mfrom\u001b[0m \u001b[0;32mNone\u001b[0m\u001b[0;34m\u001b[0m\u001b[0;34m\u001b[0m\u001b[0m\n\u001b[0m\u001b[1;32m     71\u001b[0m         \u001b[0;32mfinally\u001b[0m\u001b[0;34m:\u001b[0m\u001b[0;34m\u001b[0m\u001b[0;34m\u001b[0m\u001b[0m\n\u001b[1;32m     72\u001b[0m             \u001b[0;32mdel\u001b[0m \u001b[0mfiltered_tb\u001b[0m\u001b[0;34m\u001b[0m\u001b[0;34m\u001b[0m\u001b[0m\n",
            "\u001b[0;32m/usr/local/lib/python3.10/dist-packages/keras/engine/training.py\u001b[0m in \u001b[0;36mtf__train_function\u001b[0;34m(iterator)\u001b[0m\n\u001b[1;32m     13\u001b[0m                 \u001b[0;32mtry\u001b[0m\u001b[0;34m:\u001b[0m\u001b[0;34m\u001b[0m\u001b[0;34m\u001b[0m\u001b[0m\n\u001b[1;32m     14\u001b[0m                     \u001b[0mdo_return\u001b[0m \u001b[0;34m=\u001b[0m \u001b[0;32mTrue\u001b[0m\u001b[0;34m\u001b[0m\u001b[0;34m\u001b[0m\u001b[0m\n\u001b[0;32m---> 15\u001b[0;31m                     \u001b[0mretval_\u001b[0m \u001b[0;34m=\u001b[0m \u001b[0mag__\u001b[0m\u001b[0;34m.\u001b[0m\u001b[0mconverted_call\u001b[0m\u001b[0;34m(\u001b[0m\u001b[0mag__\u001b[0m\u001b[0;34m.\u001b[0m\u001b[0mld\u001b[0m\u001b[0;34m(\u001b[0m\u001b[0mstep_function\u001b[0m\u001b[0;34m)\u001b[0m\u001b[0;34m,\u001b[0m \u001b[0;34m(\u001b[0m\u001b[0mag__\u001b[0m\u001b[0;34m.\u001b[0m\u001b[0mld\u001b[0m\u001b[0;34m(\u001b[0m\u001b[0mself\u001b[0m\u001b[0;34m)\u001b[0m\u001b[0;34m,\u001b[0m \u001b[0mag__\u001b[0m\u001b[0;34m.\u001b[0m\u001b[0mld\u001b[0m\u001b[0;34m(\u001b[0m\u001b[0miterator\u001b[0m\u001b[0;34m)\u001b[0m\u001b[0;34m)\u001b[0m\u001b[0;34m,\u001b[0m \u001b[0;32mNone\u001b[0m\u001b[0;34m,\u001b[0m \u001b[0mfscope\u001b[0m\u001b[0;34m)\u001b[0m\u001b[0;34m\u001b[0m\u001b[0;34m\u001b[0m\u001b[0m\n\u001b[0m\u001b[1;32m     16\u001b[0m                 \u001b[0;32mexcept\u001b[0m\u001b[0;34m:\u001b[0m\u001b[0;34m\u001b[0m\u001b[0;34m\u001b[0m\u001b[0m\n\u001b[1;32m     17\u001b[0m                     \u001b[0mdo_return\u001b[0m \u001b[0;34m=\u001b[0m \u001b[0;32mFalse\u001b[0m\u001b[0;34m\u001b[0m\u001b[0;34m\u001b[0m\u001b[0m\n",
            "\u001b[0;31mValueError\u001b[0m: in user code:\n\n    File \"/usr/local/lib/python3.10/dist-packages/keras/engine/training.py\", line 1284, in train_function  *\n        return step_function(self, iterator)\n    File \"/usr/local/lib/python3.10/dist-packages/keras/engine/training.py\", line 1268, in step_function  **\n        outputs = model.distribute_strategy.run(run_step, args=(data,))\n    File \"/usr/local/lib/python3.10/dist-packages/keras/engine/training.py\", line 1249, in run_step  **\n        outputs = model.train_step(data)\n    File \"/usr/local/lib/python3.10/dist-packages/keras/engine/training.py\", line 1050, in train_step\n        y_pred = self(x, training=True)\n    File \"/usr/local/lib/python3.10/dist-packages/keras/utils/traceback_utils.py\", line 70, in error_handler\n        raise e.with_traceback(filtered_tb) from None\n    File \"/usr/local/lib/python3.10/dist-packages/keras/engine/input_spec.py\", line 197, in assert_input_compatibility\n        raise ValueError(\n\n    ValueError: Missing data for input \"input_1\". You passed a data dictionary with keys ['input_ids', 'attention_mask']. Expected the following keys: ['input_1', 'input_2']\n"
          ]
        }
      ],
      "source": [
        "num_epochs = 4\n",
        "# early_stop = EarlyStopping(monitor='val_accuracy', patience=6,restore_best_weights=True)\n",
        "history = model.fit(train,\n",
        "                    # batch_size=32,\n",
        "                    epochs=num_epochs,\n",
        "                    # validati0on_split=0.2,\n",
        "                    validation_data=[val],\n",
        "                    # callbacks =[\n",
        "                        # learning_rate_reduction,\n",
        "                                # es\n",
        "                                # ],\n",
        "                    # verbose=0\n",
        "                    )"
      ]
    },
    {
      "cell_type": "code",
      "execution_count": null,
      "metadata": {
        "colab": {
          "base_uri": "https://localhost:8080/"
        },
        "execution": {
          "iopub.execute_input": "2023-07-10T19:42:14.819715Z",
          "iopub.status.busy": "2023-07-10T19:42:14.818869Z",
          "iopub.status.idle": "2023-07-10T19:42:15.152249Z",
          "shell.execute_reply": "2023-07-10T19:42:15.151162Z",
          "shell.execute_reply.started": "2023-07-10T19:42:14.819663Z"
        },
        "id": "ByA297RSsdN8",
        "outputId": "53da4386-cb3b-415c-a2b2-c4c491914ea7"
      },
      "outputs": [
        {
          "data": {
            "image/png": "[encoded data removed]",
            "text/plain": [
              "<Figure size 700x500 with 1 Axes>"
            ]
          },
          "metadata": {},
          "output_type": "display_data"
        }
      ],
      "source": [
        "plt.figure(figsize=(7,5))\n",
        "plt.plot(history.history['loss'],lw=2,marker=\"*\",markersize=10,color=\"red\",label=\"Loss\")\n",
        "plt.plot(history.history['val_loss'],lw=2,marker=\"P\",markersize=10,color=\"green\",label=\"Validation_Loss\")\n",
        "plt.title('Model Loss')\n",
        "plt.ylabel('Loss')\n",
        "plt.xlabel('Epoch')\n",
        "plt.legend(loc=\"best\")\n",
        "plt.show()"
      ]
    },
    {
      "cell_type": "code",
      "execution_count": null,
      "metadata": {
        "colab": {
          "base_uri": "https://localhost:8080/"
        },
        "execution": {
          "iopub.execute_input": "2023-07-10T19:42:15.154986Z",
          "iopub.status.busy": "2023-07-10T19:42:15.154228Z",
          "iopub.status.idle": "2023-07-10T19:42:15.489181Z",
          "shell.execute_reply": "2023-07-10T19:42:15.488172Z",
          "shell.execute_reply.started": "2023-07-10T19:42:15.154947Z"
        },
        "id": "UnsOsocBsdN8",
        "outputId": "385692e3-0523-4684-dedd-8490e4d4fe34"
      },
      "outputs": [
        {
          "data": {
            "image/png": "[encoded data removed]",
            "text/plain": [
              "<Figure size 700x500 with 1 Axes>"
            ]
          },
          "metadata": {},
          "output_type": "display_data"
        }
      ],
      "source": [
        "plt.figure(figsize=(7,5))\n",
        "plt.plot(history.history['accuracy'],lw=2,marker=\"H\",markersize=10,color=\"purple\",label=\"Accuracy\")\n",
        "plt.plot(history.history['val_accuracy'],lw=2,marker=\"D\",markersize=10,color=\"crimson\",label=\"Validation_Accuracy\")\n",
        "plt.title('Model Accuracy')\n",
        "plt.ylabel('Accuracy')\n",
        "plt.xlabel('Epoch')\n",
        "plt.legend(loc=\"best\")\n",
        "plt.show()"
      ]
    },
    {
      "cell_type": "markdown",
      "source": [
        "# visual"
      ],
      "metadata": {
        "id": "rJXcmA2D9Gpj"
      }
    }
  ],
  "metadata": {
    "colab": {
      "provenance": [],
      "collapsed_sections": [
        "O6HTYe7usdN-",
        "peHXwhZOsdN-",
        "4j6rpBvJsdN-",
        "CYnT1Wi1sdN6",
        "oy9k3e0CsdN6",
        "7umpw-eAsdN7"
      ],
      "include_colab_link": true
    },
    "kernelspec": {
      "display_name": "Python 3",
      "name": "python3"
    },
    "language_info": {
      "codemirror_mode": {
        "name": "ipython",
        "version": 3
      },
      "file_extension": ".py",
      "mimetype": "text/x-python",
      "name": "python",
      "nbconvert_exporter": "python",
      "pygments_lexer": "ipython3",
      "version": "3.11.4"
    },
    "widgets": {
      "application/vnd.jupyter.widget-state+json": {
        "7b83619f68bc4d56a74001f52d0ac311": {
          "model_module": "@jupyter-widgets/controls",
          "model_name": "HBoxModel",
          "model_module_version": "1.5.0",
          "state": {
            "_dom_classes": [],
            "_model_module": "@jupyter-widgets/controls",
            "_model_module_version": "1.5.0",
            "_model_name": "HBoxModel",
            "_view_count": null,
            "_view_module": "@jupyter-widgets/controls",
            "_view_module_version": "1.5.0",
            "_view_name": "HBoxView",
            "box_style": "",
            "children": [
              "IPY_MODEL_6445015fc1eb404caf90a808cd3fe01c",
              "IPY_MODEL_6e7ec94e518a4748bcebe8982525bfdb",
              "IPY_MODEL_fd2625eecad346acb4a3ac7d25ce3795"
            ],
            "layout": "IPY_MODEL_b8fce37475bc4090a567aa20745a1aad"
          }
        },
        "6445015fc1eb404caf90a808cd3fe01c": {
          "model_module": "@jupyter-widgets/controls",
          "model_name": "HTMLModel",
          "model_module_version": "1.5.0",
          "state": {
            "_dom_classes": [],
            "_model_module": "@jupyter-widgets/controls",
            "_model_module_version": "1.5.0",
            "_model_name": "HTMLModel",
            "_view_count": null,
            "_view_module": "@jupyter-widgets/controls",
            "_view_module_version": "1.5.0",
            "_view_name": "HTMLView",
            "description": "",
            "description_tooltip": null,
            "layout": "IPY_MODEL_00d233cbeec7473cbe07e27c0b5bcf48",
            "placeholder": "​",
            "style": "IPY_MODEL_24a2ba7f0efd477cbc309d63a52f346c",
            "value": "Downloading (…)okenizer_config.json: 100%"
          }
        },
        "6e7ec94e518a4748bcebe8982525bfdb": {
          "model_module": "@jupyter-widgets/controls",
          "model_name": "FloatProgressModel",
          "model_module_version": "1.5.0",
          "state": {
            "_dom_classes": [],
            "_model_module": "@jupyter-widgets/controls",
            "_model_module_version": "1.5.0",
            "_model_name": "FloatProgressModel",
            "_view_count": null,
            "_view_module": "@jupyter-widgets/controls",
            "_view_module_version": "1.5.0",
            "_view_name": "ProgressView",
            "bar_style": "success",
            "description": "",
            "description_tooltip": null,
            "layout": "IPY_MODEL_add7c92a606643d9b3ada3cc4d7f0a5d",
            "max": 367,
            "min": 0,
            "orientation": "horizontal",
            "style": "IPY_MODEL_d051a0dac7794ac89a7a6f8104cbd8d8",
            "value": 367
          }
        },
        "fd2625eecad346acb4a3ac7d25ce3795": {
          "model_module": "@jupyter-widgets/controls",
          "model_name": "HTMLModel",
          "model_module_version": "1.5.0",
          "state": {
            "_dom_classes": [],
            "_model_module": "@jupyter-widgets/controls",
            "_model_module_version": "1.5.0",
            "_model_name": "HTMLModel",
            "_view_count": null,
            "_view_module": "@jupyter-widgets/controls",
            "_view_module_version": "1.5.0",
            "_view_name": "HTMLView",
            "description": "",
            "description_tooltip": null,
            "layout": "IPY_MODEL_58e3a8b088a641c9acc4e6248f97a152",
            "placeholder": "​",
            "style": "IPY_MODEL_305fa2b59fc14418aa15a3e78afc7a22",
            "value": " 367/367 [00:00&lt;00:00, 7.74kB/s]"
          }
        },
        "b8fce37475bc4090a567aa20745a1aad": {
          "model_module": "@jupyter-widgets/base",
          "model_name": "LayoutModel",
          "model_module_version": "1.2.0",
          "state": {
            "_model_module": "@jupyter-widgets/base",
            "_model_module_version": "1.2.0",
            "_model_name": "LayoutModel",
            "_view_count": null,
            "_view_module": "@jupyter-widgets/base",
            "_view_module_version": "1.2.0",
            "_view_name": "LayoutView",
            "align_content": null,
            "align_items": null,
            "align_self": null,
            "border": null,
            "bottom": null,
            "display": null,
            "flex": null,
            "flex_flow": null,
            "grid_area": null,
            "grid_auto_columns": null,
            "grid_auto_flow": null,
            "grid_auto_rows": null,
            "grid_column": null,
            "grid_gap": null,
            "grid_row": null,
            "grid_template_areas": null,
            "grid_template_columns": null,
            "grid_template_rows": null,
            "height": null,
            "justify_content": null,
            "justify_items": null,
            "left": null,
            "margin": null,
            "max_height": null,
            "max_width": null,
            "min_height": null,
            "min_width": null,
            "object_fit": null,
            "object_position": null,
            "order": null,
            "overflow": null,
            "overflow_x": null,
            "overflow_y": null,
            "padding": null,
            "right": null,
            "top": null,
            "visibility": null,
            "width": null
          }
        },
        "00d233cbeec7473cbe07e27c0b5bcf48": {
          "model_module": "@jupyter-widgets/base",
          "model_name": "LayoutModel",
          "model_module_version": "1.2.0",
          "state": {
            "_model_module": "@jupyter-widgets/base",
            "_model_module_version": "1.2.0",
            "_model_name": "LayoutModel",
            "_view_count": null,
            "_view_module": "@jupyter-widgets/base",
            "_view_module_version": "1.2.0",
            "_view_name": "LayoutView",
            "align_content": null,
            "align_items": null,
            "align_self": null,
            "border": null,
            "bottom": null,
            "display": null,
            "flex": null,
            "flex_flow": null,
            "grid_area": null,
            "grid_auto_columns": null,
            "grid_auto_flow": null,
            "grid_auto_rows": null,
            "grid_column": null,
            "grid_gap": null,
            "grid_row": null,
            "grid_template_areas": null,
            "grid_template_columns": null,
            "grid_template_rows": null,
            "height": null,
            "justify_content": null,
            "justify_items": null,
            "left": null,
            "margin": null,
            "max_height": null,
            "max_width": null,
            "min_height": null,
            "min_width": null,
            "object_fit": null,
            "object_position": null,
            "order": null,
            "overflow": null,
            "overflow_x": null,
            "overflow_y": null,
            "padding": null,
            "right": null,
            "top": null,
            "visibility": null,
            "width": null
          }
        },
        "24a2ba7f0efd477cbc309d63a52f346c": {
          "model_module": "@jupyter-widgets/controls",
          "model_name": "DescriptionStyleModel",
          "model_module_version": "1.5.0",
          "state": {
            "_model_module": "@jupyter-widgets/controls",
            "_model_module_version": "1.5.0",
            "_model_name": "DescriptionStyleModel",
            "_view_count": null,
            "_view_module": "@jupyter-widgets/base",
            "_view_module_version": "1.2.0",
            "_view_name": "StyleView",
            "description_width": ""
          }
        },
        "add7c92a606643d9b3ada3cc4d7f0a5d": {
          "model_module": "@jupyter-widgets/base",
          "model_name": "LayoutModel",
          "model_module_version": "1.2.0",
          "state": {
            "_model_module": "@jupyter-widgets/base",
            "_model_module_version": "1.2.0",
            "_model_name": "LayoutModel",
            "_view_count": null,
            "_view_module": "@jupyter-widgets/base",
            "_view_module_version": "1.2.0",
            "_view_name": "LayoutView",
            "align_content": null,
            "align_items": null,
            "align_self": null,
            "border": null,
            "bottom": null,
            "display": null,
            "flex": null,
            "flex_flow": null,
            "grid_area": null,
            "grid_auto_columns": null,
            "grid_auto_flow": null,
            "grid_auto_rows": null,
            "grid_column": null,
            "grid_gap": null,
            "grid_row": null,
            "grid_template_areas": null,
            "grid_template_columns": null,
            "grid_template_rows": null,
            "height": null,
            "justify_content": null,
            "justify_items": null,
            "left": null,
            "margin": null,
            "max_height": null,
            "max_width": null,
            "min_height": null,
            "min_width": null,
            "object_fit": null,
            "object_position": null,
            "order": null,
            "overflow": null,
            "overflow_x": null,
            "overflow_y": null,
            "padding": null,
            "right": null,
            "top": null,
            "visibility": null,
            "width": null
          }
        },
        "d051a0dac7794ac89a7a6f8104cbd8d8": {
          "model_module": "@jupyter-widgets/controls",
          "model_name": "ProgressStyleModel",
          "model_module_version": "1.5.0",
          "state": {
            "_model_module": "@jupyter-widgets/controls",
            "_model_module_version": "1.5.0",
            "_model_name": "ProgressStyleModel",
            "_view_count": null,
            "_view_module": "@jupyter-widgets/base",
            "_view_module_version": "1.2.0",
            "_view_name": "StyleView",
            "bar_color": null,
            "description_width": ""
          }
        },
        "58e3a8b088a641c9acc4e6248f97a152": {
          "model_module": "@jupyter-widgets/base",
          "model_name": "LayoutModel",
          "model_module_version": "1.2.0",
          "state": {
            "_model_module": "@jupyter-widgets/base",
            "_model_module_version": "1.2.0",
            "_model_name": "LayoutModel",
            "_view_count": null,
            "_view_module": "@jupyter-widgets/base",
            "_view_module_version": "1.2.0",
            "_view_name": "LayoutView",
            "align_content": null,
            "align_items": null,
            "align_self": null,
            "border": null,
            "bottom": null,
            "display": null,
            "flex": null,
            "flex_flow": null,
            "grid_area": null,
            "grid_auto_columns": null,
            "grid_auto_flow": null,
            "grid_auto_rows": null,
            "grid_column": null,
            "grid_gap": null,
            "grid_row": null,
            "grid_template_areas": null,
            "grid_template_columns": null,
            "grid_template_rows": null,
            "height": null,
            "justify_content": null,
            "justify_items": null,
            "left": null,
            "margin": null,
            "max_height": null,
            "max_width": null,
            "min_height": null,
            "min_width": null,
            "object_fit": null,
            "object_position": null,
            "order": null,
            "overflow": null,
            "overflow_x": null,
            "overflow_y": null,
            "padding": null,
            "right": null,
            "top": null,
            "visibility": null,
            "width": null
          }
        },
        "305fa2b59fc14418aa15a3e78afc7a22": {
          "model_module": "@jupyter-widgets/controls",
          "model_name": "DescriptionStyleModel",
          "model_module_version": "1.5.0",
          "state": {
            "_model_module": "@jupyter-widgets/controls",
            "_model_module_version": "1.5.0",
            "_model_name": "DescriptionStyleModel",
            "_view_count": null,
            "_view_module": "@jupyter-widgets/base",
            "_view_module_version": "1.2.0",
            "_view_name": "StyleView",
            "description_width": ""
          }
        },
        "f5f5f05a433644dea9f9d45532c71442": {
          "model_module": "@jupyter-widgets/controls",
          "model_name": "HBoxModel",
          "model_module_version": "1.5.0",
          "state": {
            "_dom_classes": [],
            "_model_module": "@jupyter-widgets/controls",
            "_model_module_version": "1.5.0",
            "_model_name": "HBoxModel",
            "_view_count": null,
            "_view_module": "@jupyter-widgets/controls",
            "_view_module_version": "1.5.0",
            "_view_name": "HBoxView",
            "box_style": "",
            "children": [
              "IPY_MODEL_087bc41f6d9e4bd08763a15db6b41632",
              "IPY_MODEL_5bf41ae7293c466fba3db43ac2dcd336",
              "IPY_MODEL_510e7824ecff40a4bc85f455b1d85ae8"
            ],
            "layout": "IPY_MODEL_86c7498dd85048599e45351fef2d61e1"
          }
        },
        "087bc41f6d9e4bd08763a15db6b41632": {
          "model_module": "@jupyter-widgets/controls",
          "model_name": "HTMLModel",
          "model_module_version": "1.5.0",
          "state": {
            "_dom_classes": [],
            "_model_module": "@jupyter-widgets/controls",
            "_model_module_version": "1.5.0",
            "_model_name": "HTMLModel",
            "_view_count": null,
            "_view_module": "@jupyter-widgets/controls",
            "_view_module_version": "1.5.0",
            "_view_name": "HTMLView",
            "description": "",
            "description_tooltip": null,
            "layout": "IPY_MODEL_f817ed85834a421888a2026ee3241c37",
            "placeholder": "​",
            "style": "IPY_MODEL_9ffaf0d6d479494eaea9f10e13e16ca3",
            "value": "Downloading (…)lve/main/config.json: 100%"
          }
        },
        "5bf41ae7293c466fba3db43ac2dcd336": {
          "model_module": "@jupyter-widgets/controls",
          "model_name": "FloatProgressModel",
          "model_module_version": "1.5.0",
          "state": {
            "_dom_classes": [],
            "_model_module": "@jupyter-widgets/controls",
            "_model_module_version": "1.5.0",
            "_model_name": "FloatProgressModel",
            "_view_count": null,
            "_view_module": "@jupyter-widgets/controls",
            "_view_module_version": "1.5.0",
            "_view_name": "ProgressView",
            "bar_style": "success",
            "description": "",
            "description_tooltip": null,
            "layout": "IPY_MODEL_195cab3a99514acd83df809a2d97c7a5",
            "max": 467,
            "min": 0,
            "orientation": "horizontal",
            "style": "IPY_MODEL_e97d2e1415304fcb8b6fd9004cfd666b",
            "value": 467
          }
        },
        "510e7824ecff40a4bc85f455b1d85ae8": {
          "model_module": "@jupyter-widgets/controls",
          "model_name": "HTMLModel",
          "model_module_version": "1.5.0",
          "state": {
            "_dom_classes": [],
            "_model_module": "@jupyter-widgets/controls",
            "_model_module_version": "1.5.0",
            "_model_name": "HTMLModel",
            "_view_count": null,
            "_view_module": "@jupyter-widgets/controls",
            "_view_module_version": "1.5.0",
            "_view_name": "HTMLView",
            "description": "",
            "description_tooltip": null,
            "layout": "IPY_MODEL_595ec5dbbb774a21856e17c4a74ad7af",
            "placeholder": "​",
            "style": "IPY_MODEL_87be856ffa334fe38e6ebd5fbb6e0194",
            "value": " 467/467 [00:00&lt;00:00, 16.1kB/s]"
          }
        },
        "86c7498dd85048599e45351fef2d61e1": {
          "model_module": "@jupyter-widgets/base",
          "model_name": "LayoutModel",
          "model_module_version": "1.2.0",
          "state": {
            "_model_module": "@jupyter-widgets/base",
            "_model_module_version": "1.2.0",
            "_model_name": "LayoutModel",
            "_view_count": null,
            "_view_module": "@jupyter-widgets/base",
            "_view_module_version": "1.2.0",
            "_view_name": "LayoutView",
            "align_content": null,
            "align_items": null,
            "align_self": null,
            "border": null,
            "bottom": null,
            "display": null,
            "flex": null,
            "flex_flow": null,
            "grid_area": null,
            "grid_auto_columns": null,
            "grid_auto_flow": null,
            "grid_auto_rows": null,
            "grid_column": null,
            "grid_gap": null,
            "grid_row": null,
            "grid_template_areas": null,
            "grid_template_columns": null,
            "grid_template_rows": null,
            "height": null,
            "justify_content": null,
            "justify_items": null,
            "left": null,
            "margin": null,
            "max_height": null,
            "max_width": null,
            "min_height": null,
            "min_width": null,
            "object_fit": null,
            "object_position": null,
            "order": null,
            "overflow": null,
            "overflow_x": null,
            "overflow_y": null,
            "padding": null,
            "right": null,
            "top": null,
            "visibility": null,
            "width": null
          }
        },
        "f817ed85834a421888a2026ee3241c37": {
          "model_module": "@jupyter-widgets/base",
          "model_name": "LayoutModel",
          "model_module_version": "1.2.0",
          "state": {
            "_model_module": "@jupyter-widgets/base",
            "_model_module_version": "1.2.0",
            "_model_name": "LayoutModel",
            "_view_count": null,
            "_view_module": "@jupyter-widgets/base",
            "_view_module_version": "1.2.0",
            "_view_name": "LayoutView",
            "align_content": null,
            "align_items": null,
            "align_self": null,
            "border": null,
            "bottom": null,
            "display": null,
            "flex": null,
            "flex_flow": null,
            "grid_area": null,
            "grid_auto_columns": null,
            "grid_auto_flow": null,
            "grid_auto_rows": null,
            "grid_column": null,
            "grid_gap": null,
            "grid_row": null,
            "grid_template_areas": null,
            "grid_template_columns": null,
            "grid_template_rows": null,
            "height": null,
            "justify_content": null,
            "justify_items": null,
            "left": null,
            "margin": null,
            "max_height": null,
            "max_width": null,
            "min_height": null,
            "min_width": null,
            "object_fit": null,
            "object_position": null,
            "order": null,
            "overflow": null,
            "overflow_x": null,
            "overflow_y": null,
            "padding": null,
            "right": null,
            "top": null,
            "visibility": null,
            "width": null
          }
        },
        "9ffaf0d6d479494eaea9f10e13e16ca3": {
          "model_module": "@jupyter-widgets/controls",
          "model_name": "DescriptionStyleModel",
          "model_module_version": "1.5.0",
          "state": {
            "_model_module": "@jupyter-widgets/controls",
            "_model_module_version": "1.5.0",
            "_model_name": "DescriptionStyleModel",
            "_view_count": null,
            "_view_module": "@jupyter-widgets/base",
            "_view_module_version": "1.2.0",
            "_view_name": "StyleView",
            "description_width": ""
          }
        },
        "195cab3a99514acd83df809a2d97c7a5": {
          "model_module": "@jupyter-widgets/base",
          "model_name": "LayoutModel",
          "model_module_version": "1.2.0",
          "state": {
            "_model_module": "@jupyter-widgets/base",
            "_model_module_version": "1.2.0",
            "_model_name": "LayoutModel",
            "_view_count": null,
            "_view_module": "@jupyter-widgets/base",
            "_view_module_version": "1.2.0",
            "_view_name": "LayoutView",
            "align_content": null,
            "align_items": null,
            "align_self": null,
            "border": null,
            "bottom": null,
            "display": null,
            "flex": null,
            "flex_flow": null,
            "grid_area": null,
            "grid_auto_columns": null,
            "grid_auto_flow": null,
            "grid_auto_rows": null,
            "grid_column": null,
            "grid_gap": null,
            "grid_row": null,
            "grid_template_areas": null,
            "grid_template_columns": null,
            "grid_template_rows": null,
            "height": null,
            "justify_content": null,
            "justify_items": null,
            "left": null,
            "margin": null,
            "max_height": null,
            "max_width": null,
            "min_height": null,
            "min_width": null,
            "object_fit": null,
            "object_position": null,
            "order": null,
            "overflow": null,
            "overflow_x": null,
            "overflow_y": null,
            "padding": null,
            "right": null,
            "top": null,
            "visibility": null,
            "width": null
          }
        },
        "e97d2e1415304fcb8b6fd9004cfd666b": {
          "model_module": "@jupyter-widgets/controls",
          "model_name": "ProgressStyleModel",
          "model_module_version": "1.5.0",
          "state": {
            "_model_module": "@jupyter-widgets/controls",
            "_model_module_version": "1.5.0",
            "_model_name": "ProgressStyleModel",
            "_view_count": null,
            "_view_module": "@jupyter-widgets/base",
            "_view_module_version": "1.2.0",
            "_view_name": "StyleView",
            "bar_color": null,
            "description_width": ""
          }
        },
        "595ec5dbbb774a21856e17c4a74ad7af": {
          "model_module": "@jupyter-widgets/base",
          "model_name": "LayoutModel",
          "model_module_version": "1.2.0",
          "state": {
            "_model_module": "@jupyter-widgets/base",
            "_model_module_version": "1.2.0",
            "_model_name": "LayoutModel",
            "_view_count": null,
            "_view_module": "@jupyter-widgets/base",
            "_view_module_version": "1.2.0",
            "_view_name": "LayoutView",
            "align_content": null,
            "align_items": null,
            "align_self": null,
            "border": null,
            "bottom": null,
            "display": null,
            "flex": null,
            "flex_flow": null,
            "grid_area": null,
            "grid_auto_columns": null,
            "grid_auto_flow": null,
            "grid_auto_rows": null,
            "grid_column": null,
            "grid_gap": null,
            "grid_row": null,
            "grid_template_areas": null,
            "grid_template_columns": null,
            "grid_template_rows": null,
            "height": null,
            "justify_content": null,
            "justify_items": null,
            "left": null,
            "margin": null,
            "max_height": null,
            "max_width": null,
            "min_height": null,
            "min_width": null,
            "object_fit": null,
            "object_position": null,
            "order": null,
            "overflow": null,
            "overflow_x": null,
            "overflow_y": null,
            "padding": null,
            "right": null,
            "top": null,
            "visibility": null,
            "width": null
          }
        },
        "87be856ffa334fe38e6ebd5fbb6e0194": {
          "model_module": "@jupyter-widgets/controls",
          "model_name": "DescriptionStyleModel",
          "model_module_version": "1.5.0",
          "state": {
            "_model_module": "@jupyter-widgets/controls",
            "_model_module_version": "1.5.0",
            "_model_name": "DescriptionStyleModel",
            "_view_count": null,
            "_view_module": "@jupyter-widgets/base",
            "_view_module_version": "1.2.0",
            "_view_name": "StyleView",
            "description_width": ""
          }
        },
        "667005c5ac4d4474aa565a60d028f4da": {
          "model_module": "@jupyter-widgets/controls",
          "model_name": "HBoxModel",
          "model_module_version": "1.5.0",
          "state": {
            "_dom_classes": [],
            "_model_module": "@jupyter-widgets/controls",
            "_model_module_version": "1.5.0",
            "_model_name": "HBoxModel",
            "_view_count": null,
            "_view_module": "@jupyter-widgets/controls",
            "_view_module_version": "1.5.0",
            "_view_name": "HBoxView",
            "box_style": "",
            "children": [
              "IPY_MODEL_0395e457df2f4719a829e92174573233",
              "IPY_MODEL_8815514a615a4d9b836018e06ebbed1e",
              "IPY_MODEL_aa0cfb913fee462b8853b10098a0ad81"
            ],
            "layout": "IPY_MODEL_735c495f708f438e81d053e22ca30cdd"
          }
        },
        "0395e457df2f4719a829e92174573233": {
          "model_module": "@jupyter-widgets/controls",
          "model_name": "HTMLModel",
          "model_module_version": "1.5.0",
          "state": {
            "_dom_classes": [],
            "_model_module": "@jupyter-widgets/controls",
            "_model_module_version": "1.5.0",
            "_model_name": "HTMLModel",
            "_view_count": null,
            "_view_module": "@jupyter-widgets/controls",
            "_view_module_version": "1.5.0",
            "_view_name": "HTMLView",
            "description": "",
            "description_tooltip": null,
            "layout": "IPY_MODEL_13bc1d608faf4118ac0f51e31a2094d8",
            "placeholder": "​",
            "style": "IPY_MODEL_f073a874309448a98b781408112c90d6",
            "value": "Downloading (…)solve/main/vocab.txt: 100%"
          }
        },
        "8815514a615a4d9b836018e06ebbed1e": {
          "model_module": "@jupyter-widgets/controls",
          "model_name": "FloatProgressModel",
          "model_module_version": "1.5.0",
          "state": {
            "_dom_classes": [],
            "_model_module": "@jupyter-widgets/controls",
            "_model_module_version": "1.5.0",
            "_model_name": "FloatProgressModel",
            "_view_count": null,
            "_view_module": "@jupyter-widgets/controls",
            "_view_module_version": "1.5.0",
            "_view_name": "ProgressView",
            "bar_style": "success",
            "description": "",
            "description_tooltip": null,
            "layout": "IPY_MODEL_ffed4c9f4bd34909beffff40f074899b",
            "max": 244937,
            "min": 0,
            "orientation": "horizontal",
            "style": "IPY_MODEL_a69ecc74ba354db7b1e8e1723ee044a1",
            "value": 244937
          }
        },
        "aa0cfb913fee462b8853b10098a0ad81": {
          "model_module": "@jupyter-widgets/controls",
          "model_name": "HTMLModel",
          "model_module_version": "1.5.0",
          "state": {
            "_dom_classes": [],
            "_model_module": "@jupyter-widgets/controls",
            "_model_module_version": "1.5.0",
            "_model_name": "HTMLModel",
            "_view_count": null,
            "_view_module": "@jupyter-widgets/controls",
            "_view_module_version": "1.5.0",
            "_view_name": "HTMLView",
            "description": "",
            "description_tooltip": null,
            "layout": "IPY_MODEL_9e78aa4ed79d472099d8ad386879e548",
            "placeholder": "​",
            "style": "IPY_MODEL_a4bf01a0b65b4f94a52570bcea8e5759",
            "value": " 245k/245k [00:00&lt;00:00, 4.28MB/s]"
          }
        },
        "735c495f708f438e81d053e22ca30cdd": {
          "model_module": "@jupyter-widgets/base",
          "model_name": "LayoutModel",
          "model_module_version": "1.2.0",
          "state": {
            "_model_module": "@jupyter-widgets/base",
            "_model_module_version": "1.2.0",
            "_model_name": "LayoutModel",
            "_view_count": null,
            "_view_module": "@jupyter-widgets/base",
            "_view_module_version": "1.2.0",
            "_view_name": "LayoutView",
            "align_content": null,
            "align_items": null,
            "align_self": null,
            "border": null,
            "bottom": null,
            "display": null,
            "flex": null,
            "flex_flow": null,
            "grid_area": null,
            "grid_auto_columns": null,
            "grid_auto_flow": null,
            "grid_auto_rows": null,
            "grid_column": null,
            "grid_gap": null,
            "grid_row": null,
            "grid_template_areas": null,
            "grid_template_columns": null,
            "grid_template_rows": null,
            "height": null,
            "justify_content": null,
            "justify_items": null,
            "left": null,
            "margin": null,
            "max_height": null,
            "max_width": null,
            "min_height": null,
            "min_width": null,
            "object_fit": null,
            "object_position": null,
            "order": null,
            "overflow": null,
            "overflow_x": null,
            "overflow_y": null,
            "padding": null,
            "right": null,
            "top": null,
            "visibility": null,
            "width": null
          }
        },
        "13bc1d608faf4118ac0f51e31a2094d8": {
          "model_module": "@jupyter-widgets/base",
          "model_name": "LayoutModel",
          "model_module_version": "1.2.0",
          "state": {
            "_model_module": "@jupyter-widgets/base",
            "_model_module_version": "1.2.0",
            "_model_name": "LayoutModel",
            "_view_count": null,
            "_view_module": "@jupyter-widgets/base",
            "_view_module_version": "1.2.0",
            "_view_name": "LayoutView",
            "align_content": null,
            "align_items": null,
            "align_self": null,
            "border": null,
            "bottom": null,
            "display": null,
            "flex": null,
            "flex_flow": null,
            "grid_area": null,
            "grid_auto_columns": null,
            "grid_auto_flow": null,
            "grid_auto_rows": null,
            "grid_column": null,
            "grid_gap": null,
            "grid_row": null,
            "grid_template_areas": null,
            "grid_template_columns": null,
            "grid_template_rows": null,
            "height": null,
            "justify_content": null,
            "justify_items": null,
            "left": null,
            "margin": null,
            "max_height": null,
            "max_width": null,
            "min_height": null,
            "min_width": null,
            "object_fit": null,
            "object_position": null,
            "order": null,
            "overflow": null,
            "overflow_x": null,
            "overflow_y": null,
            "padding": null,
            "right": null,
            "top": null,
            "visibility": null,
            "width": null
          }
        },
        "f073a874309448a98b781408112c90d6": {
          "model_module": "@jupyter-widgets/controls",
          "model_name": "DescriptionStyleModel",
          "model_module_version": "1.5.0",
          "state": {
            "_model_module": "@jupyter-widgets/controls",
            "_model_module_version": "1.5.0",
            "_model_name": "DescriptionStyleModel",
            "_view_count": null,
            "_view_module": "@jupyter-widgets/base",
            "_view_module_version": "1.2.0",
            "_view_name": "StyleView",
            "description_width": ""
          }
        },
        "ffed4c9f4bd34909beffff40f074899b": {
          "model_module": "@jupyter-widgets/base",
          "model_name": "LayoutModel",
          "model_module_version": "1.2.0",
          "state": {
            "_model_module": "@jupyter-widgets/base",
            "_model_module_version": "1.2.0",
            "_model_name": "LayoutModel",
            "_view_count": null,
            "_view_module": "@jupyter-widgets/base",
            "_view_module_version": "1.2.0",
            "_view_name": "LayoutView",
            "align_content": null,
            "align_items": null,
            "align_self": null,
            "border": null,
            "bottom": null,
            "display": null,
            "flex": null,
            "flex_flow": null,
            "grid_area": null,
            "grid_auto_columns": null,
            "grid_auto_flow": null,
            "grid_auto_rows": null,
            "grid_column": null,
            "grid_gap": null,
            "grid_row": null,
            "grid_template_areas": null,
            "grid_template_columns": null,
            "grid_template_rows": null,
            "height": null,
            "justify_content": null,
            "justify_items": null,
            "left": null,
            "margin": null,
            "max_height": null,
            "max_width": null,
            "min_height": null,
            "min_width": null,
            "object_fit": null,
            "object_position": null,
            "order": null,
            "overflow": null,
            "overflow_x": null,
            "overflow_y": null,
            "padding": null,
            "right": null,
            "top": null,
            "visibility": null,
            "width": null
          }
        },
        "a69ecc74ba354db7b1e8e1723ee044a1": {
          "model_module": "@jupyter-widgets/controls",
          "model_name": "ProgressStyleModel",
          "model_module_version": "1.5.0",
          "state": {
            "_model_module": "@jupyter-widgets/controls",
            "_model_module_version": "1.5.0",
            "_model_name": "ProgressStyleModel",
            "_view_count": null,
            "_view_module": "@jupyter-widgets/base",
            "_view_module_version": "1.2.0",
            "_view_name": "StyleView",
            "bar_color": null,
            "description_width": ""
          }
        },
        "9e78aa4ed79d472099d8ad386879e548": {
          "model_module": "@jupyter-widgets/base",
          "model_name": "LayoutModel",
          "model_module_version": "1.2.0",
          "state": {
            "_model_module": "@jupyter-widgets/base",
            "_model_module_version": "1.2.0",
            "_model_name": "LayoutModel",
            "_view_count": null,
            "_view_module": "@jupyter-widgets/base",
            "_view_module_version": "1.2.0",
            "_view_name": "LayoutView",
            "align_content": null,
            "align_items": null,
            "align_self": null,
            "border": null,
            "bottom": null,
            "display": null,
            "flex": null,
            "flex_flow": null,
            "grid_area": null,
            "grid_auto_columns": null,
            "grid_auto_flow": null,
            "grid_auto_rows": null,
            "grid_column": null,
            "grid_gap": null,
            "grid_row": null,
            "grid_template_areas": null,
            "grid_template_columns": null,
            "grid_template_rows": null,
            "height": null,
            "justify_content": null,
            "justify_items": null,
            "left": null,
            "margin": null,
            "max_height": null,
            "max_width": null,
            "min_height": null,
            "min_width": null,
            "object_fit": null,
            "object_position": null,
            "order": null,
            "overflow": null,
            "overflow_x": null,
            "overflow_y": null,
            "padding": null,
            "right": null,
            "top": null,
            "visibility": null,
            "width": null
          }
        },
        "a4bf01a0b65b4f94a52570bcea8e5759": {
          "model_module": "@jupyter-widgets/controls",
          "model_name": "DescriptionStyleModel",
          "model_module_version": "1.5.0",
          "state": {
            "_model_module": "@jupyter-widgets/controls",
            "_model_module_version": "1.5.0",
            "_model_name": "DescriptionStyleModel",
            "_view_count": null,
            "_view_module": "@jupyter-widgets/base",
            "_view_module_version": "1.2.0",
            "_view_name": "StyleView",
            "description_width": ""
          }
        },
        "6ed0e457533b47cfa1bc6ee5b745f1bc": {
          "model_module": "@jupyter-widgets/controls",
          "model_name": "HBoxModel",
          "model_module_version": "1.5.0",
          "state": {
            "_dom_classes": [],
            "_model_module": "@jupyter-widgets/controls",
            "_model_module_version": "1.5.0",
            "_model_name": "HBoxModel",
            "_view_count": null,
            "_view_module": "@jupyter-widgets/controls",
            "_view_module_version": "1.5.0",
            "_view_name": "HBoxView",
            "box_style": "",
            "children": [
              "IPY_MODEL_28b734a435024cbdaa11373e6e4257c1",
              "IPY_MODEL_664069ebfe1248f9b5a6925fbc90707a",
              "IPY_MODEL_eddc9c761e28491fbf4639c8fb321924"
            ],
            "layout": "IPY_MODEL_13fe7edb54bb4165862637ad9cf8e9de"
          }
        },
        "28b734a435024cbdaa11373e6e4257c1": {
          "model_module": "@jupyter-widgets/controls",
          "model_name": "HTMLModel",
          "model_module_version": "1.5.0",
          "state": {
            "_dom_classes": [],
            "_model_module": "@jupyter-widgets/controls",
            "_model_module_version": "1.5.0",
            "_model_name": "HTMLModel",
            "_view_count": null,
            "_view_module": "@jupyter-widgets/controls",
            "_view_module_version": "1.5.0",
            "_view_name": "HTMLView",
            "description": "",
            "description_tooltip": null,
            "layout": "IPY_MODEL_78f79a29c2a84434a4f584e7cb30eb4b",
            "placeholder": "​",
            "style": "IPY_MODEL_36c8ba926a2d4660a78e777ede5da55a",
            "value": "Downloading (…)cial_tokens_map.json: 100%"
          }
        },
        "664069ebfe1248f9b5a6925fbc90707a": {
          "model_module": "@jupyter-widgets/controls",
          "model_name": "FloatProgressModel",
          "model_module_version": "1.5.0",
          "state": {
            "_dom_classes": [],
            "_model_module": "@jupyter-widgets/controls",
            "_model_module_version": "1.5.0",
            "_model_name": "FloatProgressModel",
            "_view_count": null,
            "_view_module": "@jupyter-widgets/controls",
            "_view_module_version": "1.5.0",
            "_view_name": "ProgressView",
            "bar_style": "success",
            "description": "",
            "description_tooltip": null,
            "layout": "IPY_MODEL_e07394138397491097e2d987ae6dc3ec",
            "max": 112,
            "min": 0,
            "orientation": "horizontal",
            "style": "IPY_MODEL_f50f900dcfac416b958c4be305fb869e",
            "value": 112
          }
        },
        "eddc9c761e28491fbf4639c8fb321924": {
          "model_module": "@jupyter-widgets/controls",
          "model_name": "HTMLModel",
          "model_module_version": "1.5.0",
          "state": {
            "_dom_classes": [],
            "_model_module": "@jupyter-widgets/controls",
            "_model_module_version": "1.5.0",
            "_model_name": "HTMLModel",
            "_view_count": null,
            "_view_module": "@jupyter-widgets/controls",
            "_view_module_version": "1.5.0",
            "_view_name": "HTMLView",
            "description": "",
            "description_tooltip": null,
            "layout": "IPY_MODEL_3b22170d842d4a03a90ceba60af4d1f1",
            "placeholder": "​",
            "style": "IPY_MODEL_e4554e7c7ceb47b2b7001563f379dff7",
            "value": " 112/112 [00:00&lt;00:00, 4.45kB/s]"
          }
        },
        "13fe7edb54bb4165862637ad9cf8e9de": {
          "model_module": "@jupyter-widgets/base",
          "model_name": "LayoutModel",
          "model_module_version": "1.2.0",
          "state": {
            "_model_module": "@jupyter-widgets/base",
            "_model_module_version": "1.2.0",
            "_model_name": "LayoutModel",
            "_view_count": null,
            "_view_module": "@jupyter-widgets/base",
            "_view_module_version": "1.2.0",
            "_view_name": "LayoutView",
            "align_content": null,
            "align_items": null,
            "align_self": null,
            "border": null,
            "bottom": null,
            "display": null,
            "flex": null,
            "flex_flow": null,
            "grid_area": null,
            "grid_auto_columns": null,
            "grid_auto_flow": null,
            "grid_auto_rows": null,
            "grid_column": null,
            "grid_gap": null,
            "grid_row": null,
            "grid_template_areas": null,
            "grid_template_columns": null,
            "grid_template_rows": null,
            "height": null,
            "justify_content": null,
            "justify_items": null,
            "left": null,
            "margin": null,
            "max_height": null,
            "max_width": null,
            "min_height": null,
            "min_width": null,
            "object_fit": null,
            "object_position": null,
            "order": null,
            "overflow": null,
            "overflow_x": null,
            "overflow_y": null,
            "padding": null,
            "right": null,
            "top": null,
            "visibility": null,
            "width": null
          }
        },
        "78f79a29c2a84434a4f584e7cb30eb4b": {
          "model_module": "@jupyter-widgets/base",
          "model_name": "LayoutModel",
          "model_module_version": "1.2.0",
          "state": {
            "_model_module": "@jupyter-widgets/base",
            "_model_module_version": "1.2.0",
            "_model_name": "LayoutModel",
            "_view_count": null,
            "_view_module": "@jupyter-widgets/base",
            "_view_module_version": "1.2.0",
            "_view_name": "LayoutView",
            "align_content": null,
            "align_items": null,
            "align_self": null,
            "border": null,
            "bottom": null,
            "display": null,
            "flex": null,
            "flex_flow": null,
            "grid_area": null,
            "grid_auto_columns": null,
            "grid_auto_flow": null,
            "grid_auto_rows": null,
            "grid_column": null,
            "grid_gap": null,
            "grid_row": null,
            "grid_template_areas": null,
            "grid_template_columns": null,
            "grid_template_rows": null,
            "height": null,
            "justify_content": null,
            "justify_items": null,
            "left": null,
            "margin": null,
            "max_height": null,
            "max_width": null,
            "min_height": null,
            "min_width": null,
            "object_fit": null,
            "object_position": null,
            "order": null,
            "overflow": null,
            "overflow_x": null,
            "overflow_y": null,
            "padding": null,
            "right": null,
            "top": null,
            "visibility": null,
            "width": null
          }
        },
        "36c8ba926a2d4660a78e777ede5da55a": {
          "model_module": "@jupyter-widgets/controls",
          "model_name": "DescriptionStyleModel",
          "model_module_version": "1.5.0",
          "state": {
            "_model_module": "@jupyter-widgets/controls",
            "_model_module_version": "1.5.0",
            "_model_name": "DescriptionStyleModel",
            "_view_count": null,
            "_view_module": "@jupyter-widgets/base",
            "_view_module_version": "1.2.0",
            "_view_name": "StyleView",
            "description_width": ""
          }
        },
        "e07394138397491097e2d987ae6dc3ec": {
          "model_module": "@jupyter-widgets/base",
          "model_name": "LayoutModel",
          "model_module_version": "1.2.0",
          "state": {
            "_model_module": "@jupyter-widgets/base",
            "_model_module_version": "1.2.0",
            "_model_name": "LayoutModel",
            "_view_count": null,
            "_view_module": "@jupyter-widgets/base",
            "_view_module_version": "1.2.0",
            "_view_name": "LayoutView",
            "align_content": null,
            "align_items": null,
            "align_self": null,
            "border": null,
            "bottom": null,
            "display": null,
            "flex": null,
            "flex_flow": null,
            "grid_area": null,
            "grid_auto_columns": null,
            "grid_auto_flow": null,
            "grid_auto_rows": null,
            "grid_column": null,
            "grid_gap": null,
            "grid_row": null,
            "grid_template_areas": null,
            "grid_template_columns": null,
            "grid_template_rows": null,
            "height": null,
            "justify_content": null,
            "justify_items": null,
            "left": null,
            "margin": null,
            "max_height": null,
            "max_width": null,
            "min_height": null,
            "min_width": null,
            "object_fit": null,
            "object_position": null,
            "order": null,
            "overflow": null,
            "overflow_x": null,
            "overflow_y": null,
            "padding": null,
            "right": null,
            "top": null,
            "visibility": null,
            "width": null
          }
        },
        "f50f900dcfac416b958c4be305fb869e": {
          "model_module": "@jupyter-widgets/controls",
          "model_name": "ProgressStyleModel",
          "model_module_version": "1.5.0",
          "state": {
            "_model_module": "@jupyter-widgets/controls",
            "_model_module_version": "1.5.0",
            "_model_name": "ProgressStyleModel",
            "_view_count": null,
            "_view_module": "@jupyter-widgets/base",
            "_view_module_version": "1.2.0",
            "_view_name": "StyleView",
            "bar_color": null,
            "description_width": ""
          }
        },
        "3b22170d842d4a03a90ceba60af4d1f1": {
          "model_module": "@jupyter-widgets/base",
          "model_name": "LayoutModel",
          "model_module_version": "1.2.0",
          "state": {
            "_model_module": "@jupyter-widgets/base",
            "_model_module_version": "1.2.0",
            "_model_name": "LayoutModel",
            "_view_count": null,
            "_view_module": "@jupyter-widgets/base",
            "_view_module_version": "1.2.0",
            "_view_name": "LayoutView",
            "align_content": null,
            "align_items": null,
            "align_self": null,
            "border": null,
            "bottom": null,
            "display": null,
            "flex": null,
            "flex_flow": null,
            "grid_area": null,
            "grid_auto_columns": null,
            "grid_auto_flow": null,
            "grid_auto_rows": null,
            "grid_column": null,
            "grid_gap": null,
            "grid_row": null,
            "grid_template_areas": null,
            "grid_template_columns": null,
            "grid_template_rows": null,
            "height": null,
            "justify_content": null,
            "justify_items": null,
            "left": null,
            "margin": null,
            "max_height": null,
            "max_width": null,
            "min_height": null,
            "min_width": null,
            "object_fit": null,
            "object_position": null,
            "order": null,
            "overflow": null,
            "overflow_x": null,
            "overflow_y": null,
            "padding": null,
            "right": null,
            "top": null,
            "visibility": null,
            "width": null
          }
        },
        "e4554e7c7ceb47b2b7001563f379dff7": {
          "model_module": "@jupyter-widgets/controls",
          "model_name": "DescriptionStyleModel",
          "model_module_version": "1.5.0",
          "state": {
            "_model_module": "@jupyter-widgets/controls",
            "_model_module_version": "1.5.0",
            "_model_name": "DescriptionStyleModel",
            "_view_count": null,
            "_view_module": "@jupyter-widgets/base",
            "_view_module_version": "1.2.0",
            "_view_name": "StyleView",
            "description_width": ""
          }
        },
        "f6c3248635704a138cd7ecb70247e93f": {
          "model_module": "@jupyter-widgets/controls",
          "model_name": "HBoxModel",
          "model_module_version": "1.5.0",
          "state": {
            "_dom_classes": [],
            "_model_module": "@jupyter-widgets/controls",
            "_model_module_version": "1.5.0",
            "_model_name": "HBoxModel",
            "_view_count": null,
            "_view_module": "@jupyter-widgets/controls",
            "_view_module_version": "1.5.0",
            "_view_name": "HBoxView",
            "box_style": "",
            "children": [
              "IPY_MODEL_5d23f1c1970c4232bbdfa2a71f4b339a",
              "IPY_MODEL_39d05ed998024770ba11ce6ef7718352",
              "IPY_MODEL_9980394885174ded87dc3eeddc40734e"
            ],
            "layout": "IPY_MODEL_27aa81a1f0ee4f79be6e8dbca767fabd"
          }
        },
        "5d23f1c1970c4232bbdfa2a71f4b339a": {
          "model_module": "@jupyter-widgets/controls",
          "model_name": "HTMLModel",
          "model_module_version": "1.5.0",
          "state": {
            "_dom_classes": [],
            "_model_module": "@jupyter-widgets/controls",
            "_model_module_version": "1.5.0",
            "_model_name": "HTMLModel",
            "_view_count": null,
            "_view_module": "@jupyter-widgets/controls",
            "_view_module_version": "1.5.0",
            "_view_name": "HTMLView",
            "description": "",
            "description_tooltip": null,
            "layout": "IPY_MODEL_8b8b11168e2c46c4bd7ca58e654dfeea",
            "placeholder": "​",
            "style": "IPY_MODEL_02b5b397a29d41bf9297173874445ae6",
            "value": "Downloading tf_model.h5: 100%"
          }
        },
        "39d05ed998024770ba11ce6ef7718352": {
          "model_module": "@jupyter-widgets/controls",
          "model_name": "FloatProgressModel",
          "model_module_version": "1.5.0",
          "state": {
            "_dom_classes": [],
            "_model_module": "@jupyter-widgets/controls",
            "_model_module_version": "1.5.0",
            "_model_name": "FloatProgressModel",
            "_view_count": null,
            "_view_module": "@jupyter-widgets/controls",
            "_view_module_version": "1.5.0",
            "_view_name": "ProgressView",
            "bar_style": "success",
            "description": "",
            "description_tooltip": null,
            "layout": "IPY_MODEL_1abf4f94e69a4bbebc233084c20db370",
            "max": 117323104,
            "min": 0,
            "orientation": "horizontal",
            "style": "IPY_MODEL_96986ae9a74e4e55bbb3e45900c2a653",
            "value": 117323104
          }
        },
        "9980394885174ded87dc3eeddc40734e": {
          "model_module": "@jupyter-widgets/controls",
          "model_name": "HTMLModel",
          "model_module_version": "1.5.0",
          "state": {
            "_dom_classes": [],
            "_model_module": "@jupyter-widgets/controls",
            "_model_module_version": "1.5.0",
            "_model_name": "HTMLModel",
            "_view_count": null,
            "_view_module": "@jupyter-widgets/controls",
            "_view_module_version": "1.5.0",
            "_view_name": "HTMLView",
            "description": "",
            "description_tooltip": null,
            "layout": "IPY_MODEL_c6fc0394c6004a2ebd3021e40298ea49",
            "placeholder": "​",
            "style": "IPY_MODEL_3de98673500e41d19fe8066ce2b2062b",
            "value": " 117M/117M [00:01&lt;00:00, 85.8MB/s]"
          }
        },
        "27aa81a1f0ee4f79be6e8dbca767fabd": {
          "model_module": "@jupyter-widgets/base",
          "model_name": "LayoutModel",
          "model_module_version": "1.2.0",
          "state": {
            "_model_module": "@jupyter-widgets/base",
            "_model_module_version": "1.2.0",
            "_model_name": "LayoutModel",
            "_view_count": null,
            "_view_module": "@jupyter-widgets/base",
            "_view_module_version": "1.2.0",
            "_view_name": "LayoutView",
            "align_content": null,
            "align_items": null,
            "align_self": null,
            "border": null,
            "bottom": null,
            "display": null,
            "flex": null,
            "flex_flow": null,
            "grid_area": null,
            "grid_auto_columns": null,
            "grid_auto_flow": null,
            "grid_auto_rows": null,
            "grid_column": null,
            "grid_gap": null,
            "grid_row": null,
            "grid_template_areas": null,
            "grid_template_columns": null,
            "grid_template_rows": null,
            "height": null,
            "justify_content": null,
            "justify_items": null,
            "left": null,
            "margin": null,
            "max_height": null,
            "max_width": null,
            "min_height": null,
            "min_width": null,
            "object_fit": null,
            "object_position": null,
            "order": null,
            "overflow": null,
            "overflow_x": null,
            "overflow_y": null,
            "padding": null,
            "right": null,
            "top": null,
            "visibility": null,
            "width": null
          }
        },
        "8b8b11168e2c46c4bd7ca58e654dfeea": {
          "model_module": "@jupyter-widgets/base",
          "model_name": "LayoutModel",
          "model_module_version": "1.2.0",
          "state": {
            "_model_module": "@jupyter-widgets/base",
            "_model_module_version": "1.2.0",
            "_model_name": "LayoutModel",
            "_view_count": null,
            "_view_module": "@jupyter-widgets/base",
            "_view_module_version": "1.2.0",
            "_view_name": "LayoutView",
            "align_content": null,
            "align_items": null,
            "align_self": null,
            "border": null,
            "bottom": null,
            "display": null,
            "flex": null,
            "flex_flow": null,
            "grid_area": null,
            "grid_auto_columns": null,
            "grid_auto_flow": null,
            "grid_auto_rows": null,
            "grid_column": null,
            "grid_gap": null,
            "grid_row": null,
            "grid_template_areas": null,
            "grid_template_columns": null,
            "grid_template_rows": null,
            "height": null,
            "justify_content": null,
            "justify_items": null,
            "left": null,
            "margin": null,
            "max_height": null,
            "max_width": null,
            "min_height": null,
            "min_width": null,
            "object_fit": null,
            "object_position": null,
            "order": null,
            "overflow": null,
            "overflow_x": null,
            "overflow_y": null,
            "padding": null,
            "right": null,
            "top": null,
            "visibility": null,
            "width": null
          }
        },
        "02b5b397a29d41bf9297173874445ae6": {
          "model_module": "@jupyter-widgets/controls",
          "model_name": "DescriptionStyleModel",
          "model_module_version": "1.5.0",
          "state": {
            "_model_module": "@jupyter-widgets/controls",
            "_model_module_version": "1.5.0",
            "_model_name": "DescriptionStyleModel",
            "_view_count": null,
            "_view_module": "@jupyter-widgets/base",
            "_view_module_version": "1.2.0",
            "_view_name": "StyleView",
            "description_width": ""
          }
        },
        "1abf4f94e69a4bbebc233084c20db370": {
          "model_module": "@jupyter-widgets/base",
          "model_name": "LayoutModel",
          "model_module_version": "1.2.0",
          "state": {
            "_model_module": "@jupyter-widgets/base",
            "_model_module_version": "1.2.0",
            "_model_name": "LayoutModel",
            "_view_count": null,
            "_view_module": "@jupyter-widgets/base",
            "_view_module_version": "1.2.0",
            "_view_name": "LayoutView",
            "align_content": null,
            "align_items": null,
            "align_self": null,
            "border": null,
            "bottom": null,
            "display": null,
            "flex": null,
            "flex_flow": null,
            "grid_area": null,
            "grid_auto_columns": null,
            "grid_auto_flow": null,
            "grid_auto_rows": null,
            "grid_column": null,
            "grid_gap": null,
            "grid_row": null,
            "grid_template_areas": null,
            "grid_template_columns": null,
            "grid_template_rows": null,
            "height": null,
            "justify_content": null,
            "justify_items": null,
            "left": null,
            "margin": null,
            "max_height": null,
            "max_width": null,
            "min_height": null,
            "min_width": null,
            "object_fit": null,
            "object_position": null,
            "order": null,
            "overflow": null,
            "overflow_x": null,
            "overflow_y": null,
            "padding": null,
            "right": null,
            "top": null,
            "visibility": null,
            "width": null
          }
        },
        "96986ae9a74e4e55bbb3e45900c2a653": {
          "model_module": "@jupyter-widgets/controls",
          "model_name": "ProgressStyleModel",
          "model_module_version": "1.5.0",
          "state": {
            "_model_module": "@jupyter-widgets/controls",
            "_model_module_version": "1.5.0",
            "_model_name": "ProgressStyleModel",
            "_view_count": null,
            "_view_module": "@jupyter-widgets/base",
            "_view_module_version": "1.2.0",
            "_view_name": "StyleView",
            "bar_color": null,
            "description_width": ""
          }
        },
        "c6fc0394c6004a2ebd3021e40298ea49": {
          "model_module": "@jupyter-widgets/base",
          "model_name": "LayoutModel",
          "model_module_version": "1.2.0",
          "state": {
            "_model_module": "@jupyter-widgets/base",
            "_model_module_version": "1.2.0",
            "_model_name": "LayoutModel",
            "_view_count": null,
            "_view_module": "@jupyter-widgets/base",
            "_view_module_version": "1.2.0",
            "_view_name": "LayoutView",
            "align_content": null,
            "align_items": null,
            "align_self": null,
            "border": null,
            "bottom": null,
            "display": null,
            "flex": null,
            "flex_flow": null,
            "grid_area": null,
            "grid_auto_columns": null,
            "grid_auto_flow": null,
            "grid_auto_rows": null,
            "grid_column": null,
            "grid_gap": null,
            "grid_row": null,
            "grid_template_areas": null,
            "grid_template_columns": null,
            "grid_template_rows": null,
            "height": null,
            "justify_content": null,
            "justify_items": null,
            "left": null,
            "margin": null,
            "max_height": null,
            "max_width": null,
            "min_height": null,
            "min_width": null,
            "object_fit": null,
            "object_position": null,
            "order": null,
            "overflow": null,
            "overflow_x": null,
            "overflow_y": null,
            "padding": null,
            "right": null,
            "top": null,
            "visibility": null,
            "width": null
          }
        },
        "3de98673500e41d19fe8066ce2b2062b": {
          "model_module": "@jupyter-widgets/controls",
          "model_name": "DescriptionStyleModel",
          "model_module_version": "1.5.0",
          "state": {
            "_model_module": "@jupyter-widgets/controls",
            "_model_module_version": "1.5.0",
            "_model_name": "DescriptionStyleModel",
            "_view_count": null,
            "_view_module": "@jupyter-widgets/base",
            "_view_module_version": "1.2.0",
            "_view_name": "StyleView",
            "description_width": ""
          }
        }
      }
    }
  },
  "nbformat": 4,
  "nbformat_minor": 0
}