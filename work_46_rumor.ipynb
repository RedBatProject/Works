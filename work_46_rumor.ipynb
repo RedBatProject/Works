{
  "cells": [
    {
      "cell_type": "markdown",
      "metadata": {
        "id": "view-in-github",
        "colab_type": "text"
      },
      "source": [
        "<a href=\"https://colab.research.google.com/github/RedBatProject/Works/blob/main/work_46_rumor.ipynb\" target=\"_parent\"><img src=\"https://colab.research.google.com/assets/colab-badge.svg\" alt=\"Open In Colab\"/></a>"
      ]
    },
    {
      "cell_type": "markdown",
      "metadata": {
        "id": "41rWj4DI8ak1"
      },
      "source": [
        "# Imports"
      ]
    },
    {
      "cell_type": "code",
      "execution_count": 1,
      "metadata": {
        "colab": {
          "base_uri": "https://localhost:8080/"
        },
        "id": "hvVumHzzyM0B",
        "outputId": "9e028469-4425-4460-db29-5b22ffff1393"
      },
      "outputs": [
        {
          "output_type": "stream",
          "name": "stdout",
          "text": [
            "Collecting transformers\n",
            "  Downloading transformers-4.31.0-py3-none-any.whl (7.4 MB)\n",
            "\u001b[2K     \u001b[90m━━━━━━━━━━━━━━━━━━━━━━━━━━━━━━━━━━━━━━━━\u001b[0m \u001b[32m7.4/7.4 MB\u001b[0m \u001b[31m20.0 MB/s\u001b[0m eta \u001b[36m0:00:00\u001b[0m\n",
            "\u001b[?25hRequirement already satisfied: filelock in /usr/local/lib/python3.10/dist-packages (from transformers) (3.12.2)\n",
            "Collecting huggingface-hub<1.0,>=0.14.1 (from transformers)\n",
            "  Downloading huggingface_hub-0.16.4-py3-none-any.whl (268 kB)\n",
            "\u001b[2K     \u001b[90m━━━━━━━━━━━━━━━━━━━━━━━━━━━━━━━━━━━━━━\u001b[0m \u001b[32m268.8/268.8 kB\u001b[0m \u001b[31m20.8 MB/s\u001b[0m eta \u001b[36m0:00:00\u001b[0m\n",
            "\u001b[?25hRequirement already satisfied: numpy>=1.17 in /usr/local/lib/python3.10/dist-packages (from transformers) (1.22.4)\n",
            "Requirement already satisfied: packaging>=20.0 in /usr/local/lib/python3.10/dist-packages (from transformers) (23.1)\n",
            "Requirement already satisfied: pyyaml>=5.1 in /usr/local/lib/python3.10/dist-packages (from transformers) (6.0.1)\n",
            "Requirement already satisfied: regex!=2019.12.17 in /usr/local/lib/python3.10/dist-packages (from transformers) (2022.10.31)\n",
            "Requirement already satisfied: requests in /usr/local/lib/python3.10/dist-packages (from transformers) (2.27.1)\n",
            "Collecting tokenizers!=0.11.3,<0.14,>=0.11.1 (from transformers)\n",
            "  Downloading tokenizers-0.13.3-cp310-cp310-manylinux_2_17_x86_64.manylinux2014_x86_64.whl (7.8 MB)\n",
            "\u001b[2K     \u001b[90m━━━━━━━━━━━━━━━━━━━━━━━━━━━━━━━━━━━━━━━━\u001b[0m \u001b[32m7.8/7.8 MB\u001b[0m \u001b[31m61.9 MB/s\u001b[0m eta \u001b[36m0:00:00\u001b[0m\n",
            "\u001b[?25hCollecting safetensors>=0.3.1 (from transformers)\n",
            "  Downloading safetensors-0.3.1-cp310-cp310-manylinux_2_17_x86_64.manylinux2014_x86_64.whl (1.3 MB)\n",
            "\u001b[2K     \u001b[90m━━━━━━━━━━━━━━━━━━━━━━━━━━━━━━━━━━━━━━━━\u001b[0m \u001b[32m1.3/1.3 MB\u001b[0m \u001b[31m49.2 MB/s\u001b[0m eta \u001b[36m0:00:00\u001b[0m\n",
            "\u001b[?25hRequirement already satisfied: tqdm>=4.27 in /usr/local/lib/python3.10/dist-packages (from transformers) (4.65.0)\n",
            "Requirement already satisfied: fsspec in /usr/local/lib/python3.10/dist-packages (from huggingface-hub<1.0,>=0.14.1->transformers) (2023.6.0)\n",
            "Requirement already satisfied: typing-extensions>=3.7.4.3 in /usr/local/lib/python3.10/dist-packages (from huggingface-hub<1.0,>=0.14.1->transformers) (4.7.1)\n",
            "Requirement already satisfied: urllib3<1.27,>=1.21.1 in /usr/local/lib/python3.10/dist-packages (from requests->transformers) (1.26.16)\n",
            "Requirement already satisfied: certifi>=2017.4.17 in /usr/local/lib/python3.10/dist-packages (from requests->transformers) (2023.7.22)\n",
            "Requirement already satisfied: charset-normalizer~=2.0.0 in /usr/local/lib/python3.10/dist-packages (from requests->transformers) (2.0.12)\n",
            "Requirement already satisfied: idna<4,>=2.5 in /usr/local/lib/python3.10/dist-packages (from requests->transformers) (3.4)\n",
            "Installing collected packages: tokenizers, safetensors, huggingface-hub, transformers\n",
            "Successfully installed huggingface-hub-0.16.4 safetensors-0.3.1 tokenizers-0.13.3 transformers-4.31.0\n"
          ]
        }
      ],
      "source": [
        "!pip install transformers"
      ]
    },
    {
      "cell_type": "code",
      "execution_count": 2,
      "metadata": {
        "execution": {
          "iopub.execute_input": "2023-07-10T19:17:36.932121Z",
          "iopub.status.busy": "2023-07-10T19:17:36.931301Z",
          "iopub.status.idle": "2023-07-10T19:17:43.610945Z",
          "shell.execute_reply": "2023-07-10T19:17:43.609849Z",
          "shell.execute_reply.started": "2023-07-10T19:17:36.932083Z"
        },
        "id": "nk_ca4ABsdNq"
      },
      "outputs": [],
      "source": [
        "import pandas as pd\n",
        "import seaborn as sns\n",
        "import matplotlib.pyplot as plt\n",
        "import nltk\n",
        "import numpy as np\n",
        "from PIL import Image\n",
        "from wordcloud import WordCloud,STOPWORDS\n",
        "from collections import Counter\n",
        "from itertools import chain\n",
        "import tensorflow as tf\n",
        "from transformers import XLNetTokenizer, TFXLNetForSequenceClassification\n",
        "from transformers import XLNetTokenizer, TFXLNetModel\n",
        "from sklearn.model_selection import train_test_split\n",
        "from tensorflow.keras.optimizers import Adam\n",
        "from sklearn.metrics import confusion_matrix,classification_report\n",
        "from sklearn.metrics import roc_curve, auc, precision_recall_curve,average_precision_score\n",
        "from sklearn.metrics import roc_auc_score\n",
        "from sklearn.metrics import cohen_kappa_score, matthews_corrcoef, log_loss\n",
        "from tensorflow.keras.callbacks import EarlyStopping,ReduceLROnPlateau\n",
        "from tensorflow.keras.utils import plot_model\n",
        "%matplotlib inline"
      ]
    },
    {
      "cell_type": "markdown",
      "metadata": {
        "id": "kEwz4MtDsdNu"
      },
      "source": [
        "# Load Data"
      ]
    },
    {
      "cell_type": "code",
      "execution_count": 3,
      "metadata": {
        "colab": {
          "base_uri": "https://localhost:8080/",
          "height": 92
        },
        "id": "Z7nlpDQQowJS",
        "outputId": "d4dec9b6-e3d3-4a63-bb08-6ada1df678bf"
      },
      "outputs": [
        {
          "output_type": "display_data",
          "data": {
            "text/plain": [
              "<IPython.core.display.HTML object>"
            ],
            "text/html": [
              "\n",
              "     <input type=\"file\" id=\"files-944e2cbf-0100-4788-8df6-ea4fb2d7980c\" name=\"files[]\" multiple disabled\n",
              "        style=\"border:none\" />\n",
              "     <output id=\"result-944e2cbf-0100-4788-8df6-ea4fb2d7980c\">\n",
              "      Upload widget is only available when the cell has been executed in the\n",
              "      current browser session. Please rerun this cell to enable.\n",
              "      </output>\n",
              "      <script>// Copyright 2017 Google LLC\n",
              "//\n",
              "// Licensed under the Apache License, Version 2.0 (the \"License\");\n",
              "// you may not use this file except in compliance with the License.\n",
              "// You may obtain a copy of the License at\n",
              "//\n",
              "//      http://www.apache.org/licenses/LICENSE-2.0\n",
              "//\n",
              "// Unless required by applicable law or agreed to in writing, software\n",
              "// distributed under the License is distributed on an \"AS IS\" BASIS,\n",
              "// WITHOUT WARRANTIES OR CONDITIONS OF ANY KIND, either express or implied.\n",
              "// See the License for the specific language governing permissions and\n",
              "// limitations under the License.\n",
              "\n",
              "/**\n",
              " * @fileoverview Helpers for google.colab Python module.\n",
              " */\n",
              "(function(scope) {\n",
              "function span(text, styleAttributes = {}) {\n",
              "  const element = document.createElement('span');\n",
              "  element.textContent = text;\n",
              "  for (const key of Object.keys(styleAttributes)) {\n",
              "    element.style[key] = styleAttributes[key];\n",
              "  }\n",
              "  return element;\n",
              "}\n",
              "\n",
              "// Max number of bytes which will be uploaded at a time.\n",
              "const MAX_PAYLOAD_SIZE = 100 * 1024;\n",
              "\n",
              "function _uploadFiles(inputId, outputId) {\n",
              "  const steps = uploadFilesStep(inputId, outputId);\n",
              "  const outputElement = document.getElementById(outputId);\n",
              "  // Cache steps on the outputElement to make it available for the next call\n",
              "  // to uploadFilesContinue from Python.\n",
              "  outputElement.steps = steps;\n",
              "\n",
              "  return _uploadFilesContinue(outputId);\n",
              "}\n",
              "\n",
              "// This is roughly an async generator (not supported in the browser yet),\n",
              "// where there are multiple asynchronous steps and the Python side is going\n",
              "// to poll for completion of each step.\n",
              "// This uses a Promise to block the python side on completion of each step,\n",
              "// then passes the result of the previous step as the input to the next step.\n",
              "function _uploadFilesContinue(outputId) {\n",
              "  const outputElement = document.getElementById(outputId);\n",
              "  const steps = outputElement.steps;\n",
              "\n",
              "  const next = steps.next(outputElement.lastPromiseValue);\n",
              "  return Promise.resolve(next.value.promise).then((value) => {\n",
              "    // Cache the last promise value to make it available to the next\n",
              "    // step of the generator.\n",
              "    outputElement.lastPromiseValue = value;\n",
              "    return next.value.response;\n",
              "  });\n",
              "}\n",
              "\n",
              "/**\n",
              " * Generator function which is called between each async step of the upload\n",
              " * process.\n",
              " * @param {string} inputId Element ID of the input file picker element.\n",
              " * @param {string} outputId Element ID of the output display.\n",
              " * @return {!Iterable<!Object>} Iterable of next steps.\n",
              " */\n",
              "function* uploadFilesStep(inputId, outputId) {\n",
              "  const inputElement = document.getElementById(inputId);\n",
              "  inputElement.disabled = false;\n",
              "\n",
              "  const outputElement = document.getElementById(outputId);\n",
              "  outputElement.innerHTML = '';\n",
              "\n",
              "  const pickedPromise = new Promise((resolve) => {\n",
              "    inputElement.addEventListener('change', (e) => {\n",
              "      resolve(e.target.files);\n",
              "    });\n",
              "  });\n",
              "\n",
              "  const cancel = document.createElement('button');\n",
              "  inputElement.parentElement.appendChild(cancel);\n",
              "  cancel.textContent = 'Cancel upload';\n",
              "  const cancelPromise = new Promise((resolve) => {\n",
              "    cancel.onclick = () => {\n",
              "      resolve(null);\n",
              "    };\n",
              "  });\n",
              "\n",
              "  // Wait for the user to pick the files.\n",
              "  const files = yield {\n",
              "    promise: Promise.race([pickedPromise, cancelPromise]),\n",
              "    response: {\n",
              "      action: 'starting',\n",
              "    }\n",
              "  };\n",
              "\n",
              "  cancel.remove();\n",
              "\n",
              "  // Disable the input element since further picks are not allowed.\n",
              "  inputElement.disabled = true;\n",
              "\n",
              "  if (!files) {\n",
              "    return {\n",
              "      response: {\n",
              "        action: 'complete',\n",
              "      }\n",
              "    };\n",
              "  }\n",
              "\n",
              "  for (const file of files) {\n",
              "    const li = document.createElement('li');\n",
              "    li.append(span(file.name, {fontWeight: 'bold'}));\n",
              "    li.append(span(\n",
              "        `(${file.type || 'n/a'}) - ${file.size} bytes, ` +\n",
              "        `last modified: ${\n",
              "            file.lastModifiedDate ? file.lastModifiedDate.toLocaleDateString() :\n",
              "                                    'n/a'} - `));\n",
              "    const percent = span('0% done');\n",
              "    li.appendChild(percent);\n",
              "\n",
              "    outputElement.appendChild(li);\n",
              "\n",
              "    const fileDataPromise = new Promise((resolve) => {\n",
              "      const reader = new FileReader();\n",
              "      reader.onload = (e) => {\n",
              "        resolve(e.target.result);\n",
              "      };\n",
              "      reader.readAsArrayBuffer(file);\n",
              "    });\n",
              "    // Wait for the data to be ready.\n",
              "    let fileData = yield {\n",
              "      promise: fileDataPromise,\n",
              "      response: {\n",
              "        action: 'continue',\n",
              "      }\n",
              "    };\n",
              "\n",
              "    // Use a chunked sending to avoid message size limits. See b/62115660.\n",
              "    let position = 0;\n",
              "    do {\n",
              "      const length = Math.min(fileData.byteLength - position, MAX_PAYLOAD_SIZE);\n",
              "      const chunk = new Uint8Array(fileData, position, length);\n",
              "      position += length;\n",
              "\n",
              "      const base64 = btoa(String.fromCharCode.apply(null, chunk));\n",
              "      yield {\n",
              "        response: {\n",
              "          action: 'append',\n",
              "          file: file.name,\n",
              "          data: base64,\n",
              "        },\n",
              "      };\n",
              "\n",
              "      let percentDone = fileData.byteLength === 0 ?\n",
              "          100 :\n",
              "          Math.round((position / fileData.byteLength) * 100);\n",
              "      percent.textContent = `${percentDone}% done`;\n",
              "\n",
              "    } while (position < fileData.byteLength);\n",
              "  }\n",
              "\n",
              "  // All done.\n",
              "  yield {\n",
              "    response: {\n",
              "      action: 'complete',\n",
              "    }\n",
              "  };\n",
              "}\n",
              "\n",
              "scope.google = scope.google || {};\n",
              "scope.google.colab = scope.google.colab || {};\n",
              "scope.google.colab._files = {\n",
              "  _uploadFiles,\n",
              "  _uploadFilesContinue,\n",
              "};\n",
              "})(self);\n",
              "</script> "
            ]
          },
          "metadata": {}
        },
        {
          "output_type": "stream",
          "name": "stdout",
          "text": [
            "Saving kaggle.json to kaggle.json\n"
          ]
        },
        {
          "output_type": "execute_result",
          "data": {
            "text/plain": [
              "{'kaggle.json': b'{\"username\":\"willyvonka\",\"key\":\"2e9df042075e2ca80586e55c66c656a0\"}'}"
            ]
          },
          "metadata": {},
          "execution_count": 3
        }
      ],
      "source": [
        "!pip install -q kaggle\n",
        "from google.colab import files\n",
        "files.upload()\n"
      ]
    },
    {
      "cell_type": "code",
      "execution_count": 4,
      "metadata": {
        "id": "p1nP4K5jmzUy"
      },
      "outputs": [],
      "source": [
        "!mkdir ~/.kaggle\n",
        "! cp kaggle.json ~/.kaggle/\n",
        "! chmod 600 ~/.kaggle/kaggle.json\n"
      ]
    },
    {
      "cell_type": "code",
      "execution_count": 5,
      "metadata": {
        "colab": {
          "base_uri": "https://localhost:8080/"
        },
        "id": "yeweGELfzAOU",
        "outputId": "2a4f5e48-e191-4d58-8b9b-6b7de81e88f3"
      },
      "outputs": [
        {
          "output_type": "stream",
          "name": "stdout",
          "text": [
            "Downloading pheme-dataset-for-rumour-detection.zip to /content\n",
            "\r  0% 0.00/2.58M [00:00<?, ?B/s]\n",
            "\r100% 2.58M/2.58M [00:00<00:00, 213MB/s]\n"
          ]
        }
      ],
      "source": [
        "!kaggle datasets download -d nicolemichelle/pheme-dataset-for-rumour-detection"
      ]
    },
    {
      "cell_type": "code",
      "execution_count": 44,
      "metadata": {
        "colab": {
          "base_uri": "https://localhost:8080/"
        },
        "id": "se1tVgSYzH8m",
        "outputId": "2941223d-6e86-4da1-b189-28edd1467e7c"
      },
      "outputs": [
        {
          "output_type": "stream",
          "name": "stdout",
          "text": [
            "Archive:  /content/pheme-dataset-for-rumour-detection.zip\n",
            "  inflating: dataset.csv             \n"
          ]
        }
      ],
      "source": [
        "!unzip /content/pheme-dataset-for-rumour-detection.zip"
      ]
    },
    {
      "cell_type": "markdown",
      "metadata": {
        "id": "Aif5jxDi8ShC"
      },
      "source": [
        "# Read Data"
      ]
    },
    {
      "cell_type": "code",
      "execution_count": 3,
      "metadata": {
        "id": "K9ewwZeOFcFf"
      },
      "outputs": [],
      "source": [
        "import os\n",
        "path0 = '/content/drive/MyDrive/work 46/'\n",
        "path = '/content/drive/MyDrive/work 46/results/'\n",
        "#\n",
        "# os.mkdir(path0)\n",
        "# os.mkdir(path)\n"
      ]
    },
    {
      "cell_type": "code",
      "execution_count": 4,
      "metadata": {
        "id": "JS-JxLEIzz5c",
        "colab": {
          "base_uri": "https://localhost:8080/",
          "height": 341
        },
        "outputId": "23f8be2f-7eeb-4c07-8718-74d72de57c29"
      },
      "outputs": [
        {
          "output_type": "error",
          "ename": "MessageError",
          "evalue": "ignored",
          "traceback": [
            "\u001b[0;31m---------------------------------------------------------------------------\u001b[0m",
            "\u001b[0;31mMessageError\u001b[0m                              Traceback (most recent call last)",
            "\u001b[0;32m<ipython-input-4-d5df0069828e>\u001b[0m in \u001b[0;36m<cell line: 2>\u001b[0;34m()\u001b[0m\n\u001b[1;32m      1\u001b[0m \u001b[0;32mfrom\u001b[0m \u001b[0mgoogle\u001b[0m\u001b[0;34m.\u001b[0m\u001b[0mcolab\u001b[0m \u001b[0;32mimport\u001b[0m \u001b[0mdrive\u001b[0m\u001b[0;34m\u001b[0m\u001b[0;34m\u001b[0m\u001b[0m\n\u001b[0;32m----> 2\u001b[0;31m \u001b[0mdrive\u001b[0m\u001b[0;34m.\u001b[0m\u001b[0mmount\u001b[0m\u001b[0;34m(\u001b[0m\u001b[0;34m'/content/drive'\u001b[0m\u001b[0;34m)\u001b[0m\u001b[0;34m\u001b[0m\u001b[0;34m\u001b[0m\u001b[0m\n\u001b[0m",
            "\u001b[0;32m/usr/local/lib/python3.10/dist-packages/google/colab/drive.py\u001b[0m in \u001b[0;36mmount\u001b[0;34m(mountpoint, force_remount, timeout_ms, readonly)\u001b[0m\n\u001b[1;32m    101\u001b[0m \u001b[0;32mdef\u001b[0m \u001b[0mmount\u001b[0m\u001b[0;34m(\u001b[0m\u001b[0mmountpoint\u001b[0m\u001b[0;34m,\u001b[0m \u001b[0mforce_remount\u001b[0m\u001b[0;34m=\u001b[0m\u001b[0;32mFalse\u001b[0m\u001b[0;34m,\u001b[0m \u001b[0mtimeout_ms\u001b[0m\u001b[0;34m=\u001b[0m\u001b[0;36m120000\u001b[0m\u001b[0;34m,\u001b[0m \u001b[0mreadonly\u001b[0m\u001b[0;34m=\u001b[0m\u001b[0;32mFalse\u001b[0m\u001b[0;34m)\u001b[0m\u001b[0;34m:\u001b[0m\u001b[0;34m\u001b[0m\u001b[0;34m\u001b[0m\u001b[0m\n\u001b[1;32m    102\u001b[0m   \u001b[0;34m\"\"\"Mount your Google Drive at the specified mountpoint path.\"\"\"\u001b[0m\u001b[0;34m\u001b[0m\u001b[0;34m\u001b[0m\u001b[0m\n\u001b[0;32m--> 103\u001b[0;31m   return _mount(\n\u001b[0m\u001b[1;32m    104\u001b[0m       \u001b[0mmountpoint\u001b[0m\u001b[0;34m,\u001b[0m\u001b[0;34m\u001b[0m\u001b[0;34m\u001b[0m\u001b[0m\n\u001b[1;32m    105\u001b[0m       \u001b[0mforce_remount\u001b[0m\u001b[0;34m=\u001b[0m\u001b[0mforce_remount\u001b[0m\u001b[0;34m,\u001b[0m\u001b[0;34m\u001b[0m\u001b[0;34m\u001b[0m\u001b[0m\n",
            "\u001b[0;32m/usr/local/lib/python3.10/dist-packages/google/colab/drive.py\u001b[0m in \u001b[0;36m_mount\u001b[0;34m(mountpoint, force_remount, timeout_ms, ephemeral, readonly)\u001b[0m\n\u001b[1;32m    130\u001b[0m   )\n\u001b[1;32m    131\u001b[0m   \u001b[0;32mif\u001b[0m \u001b[0mephemeral\u001b[0m\u001b[0;34m:\u001b[0m\u001b[0;34m\u001b[0m\u001b[0;34m\u001b[0m\u001b[0m\n\u001b[0;32m--> 132\u001b[0;31m     _message.blocking_request(\n\u001b[0m\u001b[1;32m    133\u001b[0m         \u001b[0;34m'request_auth'\u001b[0m\u001b[0;34m,\u001b[0m \u001b[0mrequest\u001b[0m\u001b[0;34m=\u001b[0m\u001b[0;34m{\u001b[0m\u001b[0;34m'authType'\u001b[0m\u001b[0;34m:\u001b[0m \u001b[0;34m'dfs_ephemeral'\u001b[0m\u001b[0;34m}\u001b[0m\u001b[0;34m,\u001b[0m \u001b[0mtimeout_sec\u001b[0m\u001b[0;34m=\u001b[0m\u001b[0;32mNone\u001b[0m\u001b[0;34m\u001b[0m\u001b[0;34m\u001b[0m\u001b[0m\n\u001b[1;32m    134\u001b[0m     )\n",
            "\u001b[0;32m/usr/local/lib/python3.10/dist-packages/google/colab/_message.py\u001b[0m in \u001b[0;36mblocking_request\u001b[0;34m(request_type, request, timeout_sec, parent)\u001b[0m\n\u001b[1;32m    174\u001b[0m       \u001b[0mrequest_type\u001b[0m\u001b[0;34m,\u001b[0m \u001b[0mrequest\u001b[0m\u001b[0;34m,\u001b[0m \u001b[0mparent\u001b[0m\u001b[0;34m=\u001b[0m\u001b[0mparent\u001b[0m\u001b[0;34m,\u001b[0m \u001b[0mexpect_reply\u001b[0m\u001b[0;34m=\u001b[0m\u001b[0;32mTrue\u001b[0m\u001b[0;34m\u001b[0m\u001b[0;34m\u001b[0m\u001b[0m\n\u001b[1;32m    175\u001b[0m   )\n\u001b[0;32m--> 176\u001b[0;31m   \u001b[0;32mreturn\u001b[0m \u001b[0mread_reply_from_input\u001b[0m\u001b[0;34m(\u001b[0m\u001b[0mrequest_id\u001b[0m\u001b[0;34m,\u001b[0m \u001b[0mtimeout_sec\u001b[0m\u001b[0;34m)\u001b[0m\u001b[0;34m\u001b[0m\u001b[0;34m\u001b[0m\u001b[0m\n\u001b[0m",
            "\u001b[0;32m/usr/local/lib/python3.10/dist-packages/google/colab/_message.py\u001b[0m in \u001b[0;36mread_reply_from_input\u001b[0;34m(message_id, timeout_sec)\u001b[0m\n\u001b[1;32m    101\u001b[0m     ):\n\u001b[1;32m    102\u001b[0m       \u001b[0;32mif\u001b[0m \u001b[0;34m'error'\u001b[0m \u001b[0;32min\u001b[0m \u001b[0mreply\u001b[0m\u001b[0;34m:\u001b[0m\u001b[0;34m\u001b[0m\u001b[0;34m\u001b[0m\u001b[0m\n\u001b[0;32m--> 103\u001b[0;31m         \u001b[0;32mraise\u001b[0m \u001b[0mMessageError\u001b[0m\u001b[0;34m(\u001b[0m\u001b[0mreply\u001b[0m\u001b[0;34m[\u001b[0m\u001b[0;34m'error'\u001b[0m\u001b[0;34m]\u001b[0m\u001b[0;34m)\u001b[0m\u001b[0;34m\u001b[0m\u001b[0;34m\u001b[0m\u001b[0m\n\u001b[0m\u001b[1;32m    104\u001b[0m       \u001b[0;32mreturn\u001b[0m \u001b[0mreply\u001b[0m\u001b[0;34m.\u001b[0m\u001b[0mget\u001b[0m\u001b[0;34m(\u001b[0m\u001b[0;34m'data'\u001b[0m\u001b[0;34m,\u001b[0m \u001b[0;32mNone\u001b[0m\u001b[0;34m)\u001b[0m\u001b[0;34m\u001b[0m\u001b[0;34m\u001b[0m\u001b[0m\n\u001b[1;32m    105\u001b[0m \u001b[0;34m\u001b[0m\u001b[0m\n",
            "\u001b[0;31mMessageError\u001b[0m: Error: credential propagation was unsuccessful"
          ]
        }
      ],
      "source": [
        "from google.colab import drive\n",
        "drive.mount('/content/drive')"
      ]
    },
    {
      "cell_type": "code",
      "source": [
        "!mv /content/dataset.csv '/content/drive/MyDrive/work 46/data.csv'"
      ],
      "metadata": {
        "id": "VDKcEwyNysHd"
      },
      "execution_count": 39,
      "outputs": []
    },
    {
      "cell_type": "code",
      "execution_count": 45,
      "metadata": {
        "colab": {
          "base_uri": "https://localhost:8080/",
          "height": 424
        },
        "id": "7m_ddsISFrTE",
        "outputId": "76274659-f613-45e8-f599-15cc9a0a2b5b"
      },
      "outputs": [
        {
          "output_type": "execute_result",
          "data": {
            "text/plain": [
              "                                                    text  is_rumor  \\\n",
              "0      Charlie Hebdo became well known for publishing...       0.0   \n",
              "1      Now 10 dead in a shooting there today RT \"@BBC...       0.0   \n",
              "2      @BBCDanielS @BBCWorld I'm guessing this is bei...       0.0   \n",
              "3      @BBCDanielS @BBCWorld why would you mention th...       0.0   \n",
              "4                @BBCDanielS @BBCWorld perps identified?       0.0   \n",
              "...                                                  ...       ...   \n",
              "62440  @AnonyOps @Xplant So that means its ok to torc...       1.0   \n",
              "62441  @RianAlden not at all, but they need to change...       1.0   \n",
              "62442  @Xplant @AnonyOps Absoluteky.  But it pains me...       1.0   \n",
              "62443  @Xplant @AnonyOps I'm curious how many of thes...       1.0   \n",
              "62444  @Xplant @AnonyOps You get 15,000 people showin...       1.0   \n",
              "\n",
              "         user.handle         topic  \n",
              "0         BBCDanielS  charliehebdo  \n",
              "1          robbylevy  charliehebdo  \n",
              "2      ModerateInAll  charliehebdo  \n",
              "3        GabTarquini  charliehebdo  \n",
              "4      freethought41  charliehebdo  \n",
              "...              ...           ...  \n",
              "62440      RianAlden      ferguson  \n",
              "62441         Xplant      ferguson  \n",
              "62442      RianAlden      ferguson  \n",
              "62443      RianAlden      ferguson  \n",
              "62444      RianAlden      ferguson  \n",
              "\n",
              "[62445 rows x 4 columns]"
            ],
            "text/html": [
              "\n",
              "\n",
              "  <div id=\"df-4ad40e23-9738-4995-b40b-6c8b3d5834c1\">\n",
              "    <div class=\"colab-df-container\">\n",
              "      <div>\n",
              "<style scoped>\n",
              "    .dataframe tbody tr th:only-of-type {\n",
              "        vertical-align: middle;\n",
              "    }\n",
              "\n",
              "    .dataframe tbody tr th {\n",
              "        vertical-align: top;\n",
              "    }\n",
              "\n",
              "    .dataframe thead th {\n",
              "        text-align: right;\n",
              "    }\n",
              "</style>\n",
              "<table border=\"1\" class=\"dataframe\">\n",
              "  <thead>\n",
              "    <tr style=\"text-align: right;\">\n",
              "      <th></th>\n",
              "      <th>text</th>\n",
              "      <th>is_rumor</th>\n",
              "      <th>user.handle</th>\n",
              "      <th>topic</th>\n",
              "    </tr>\n",
              "  </thead>\n",
              "  <tbody>\n",
              "    <tr>\n",
              "      <th>0</th>\n",
              "      <td>Charlie Hebdo became well known for publishing...</td>\n",
              "      <td>0.0</td>\n",
              "      <td>BBCDanielS</td>\n",
              "      <td>charliehebdo</td>\n",
              "    </tr>\n",
              "    <tr>\n",
              "      <th>1</th>\n",
              "      <td>Now 10 dead in a shooting there today RT \"@BBC...</td>\n",
              "      <td>0.0</td>\n",
              "      <td>robbylevy</td>\n",
              "      <td>charliehebdo</td>\n",
              "    </tr>\n",
              "    <tr>\n",
              "      <th>2</th>\n",
              "      <td>@BBCDanielS @BBCWorld I'm guessing this is bei...</td>\n",
              "      <td>0.0</td>\n",
              "      <td>ModerateInAll</td>\n",
              "      <td>charliehebdo</td>\n",
              "    </tr>\n",
              "    <tr>\n",
              "      <th>3</th>\n",
              "      <td>@BBCDanielS @BBCWorld why would you mention th...</td>\n",
              "      <td>0.0</td>\n",
              "      <td>GabTarquini</td>\n",
              "      <td>charliehebdo</td>\n",
              "    </tr>\n",
              "    <tr>\n",
              "      <th>4</th>\n",
              "      <td>@BBCDanielS @BBCWorld perps identified?</td>\n",
              "      <td>0.0</td>\n",
              "      <td>freethought41</td>\n",
              "      <td>charliehebdo</td>\n",
              "    </tr>\n",
              "    <tr>\n",
              "      <th>...</th>\n",
              "      <td>...</td>\n",
              "      <td>...</td>\n",
              "      <td>...</td>\n",
              "      <td>...</td>\n",
              "    </tr>\n",
              "    <tr>\n",
              "      <th>62440</th>\n",
              "      <td>@AnonyOps @Xplant So that means its ok to torc...</td>\n",
              "      <td>1.0</td>\n",
              "      <td>RianAlden</td>\n",
              "      <td>ferguson</td>\n",
              "    </tr>\n",
              "    <tr>\n",
              "      <th>62441</th>\n",
              "      <td>@RianAlden not at all, but they need to change...</td>\n",
              "      <td>1.0</td>\n",
              "      <td>Xplant</td>\n",
              "      <td>ferguson</td>\n",
              "    </tr>\n",
              "    <tr>\n",
              "      <th>62442</th>\n",
              "      <td>@Xplant @AnonyOps Absoluteky.  But it pains me...</td>\n",
              "      <td>1.0</td>\n",
              "      <td>RianAlden</td>\n",
              "      <td>ferguson</td>\n",
              "    </tr>\n",
              "    <tr>\n",
              "      <th>62443</th>\n",
              "      <td>@Xplant @AnonyOps I'm curious how many of thes...</td>\n",
              "      <td>1.0</td>\n",
              "      <td>RianAlden</td>\n",
              "      <td>ferguson</td>\n",
              "    </tr>\n",
              "    <tr>\n",
              "      <th>62444</th>\n",
              "      <td>@Xplant @AnonyOps You get 15,000 people showin...</td>\n",
              "      <td>1.0</td>\n",
              "      <td>RianAlden</td>\n",
              "      <td>ferguson</td>\n",
              "    </tr>\n",
              "  </tbody>\n",
              "</table>\n",
              "<p>62445 rows × 4 columns</p>\n",
              "</div>\n",
              "      <button class=\"colab-df-convert\" onclick=\"convertToInteractive('df-4ad40e23-9738-4995-b40b-6c8b3d5834c1')\"\n",
              "              title=\"Convert this dataframe to an interactive table.\"\n",
              "              style=\"display:none;\">\n",
              "\n",
              "  <svg xmlns=\"http://www.w3.org/2000/svg\" height=\"24px\"viewBox=\"0 0 24 24\"\n",
              "       width=\"24px\">\n",
              "    <path d=\"M0 0h24v24H0V0z\" fill=\"none\"/>\n",
              "    <path d=\"M18.56 5.44l.94 2.06.94-2.06 2.06-.94-2.06-.94-.94-2.06-.94 2.06-2.06.94zm-11 1L8.5 8.5l.94-2.06 2.06-.94-2.06-.94L8.5 2.5l-.94 2.06-2.06.94zm10 10l.94 2.06.94-2.06 2.06-.94-2.06-.94-.94-2.06-.94 2.06-2.06.94z\"/><path d=\"M17.41 7.96l-1.37-1.37c-.4-.4-.92-.59-1.43-.59-.52 0-1.04.2-1.43.59L10.3 9.45l-7.72 7.72c-.78.78-.78 2.05 0 2.83L4 21.41c.39.39.9.59 1.41.59.51 0 1.02-.2 1.41-.59l7.78-7.78 2.81-2.81c.8-.78.8-2.07 0-2.86zM5.41 20L4 18.59l7.72-7.72 1.47 1.35L5.41 20z\"/>\n",
              "  </svg>\n",
              "      </button>\n",
              "\n",
              "\n",
              "\n",
              "    <div id=\"df-bcc81b28-8786-40e6-8667-6d1af6dc5743\">\n",
              "      <button class=\"colab-df-quickchart\" onclick=\"quickchart('df-bcc81b28-8786-40e6-8667-6d1af6dc5743')\"\n",
              "              title=\"Suggest charts.\"\n",
              "              style=\"display:none;\">\n",
              "\n",
              "<svg xmlns=\"http://www.w3.org/2000/svg\" height=\"24px\"viewBox=\"0 0 24 24\"\n",
              "     width=\"24px\">\n",
              "    <g>\n",
              "        <path d=\"M19 3H5c-1.1 0-2 .9-2 2v14c0 1.1.9 2 2 2h14c1.1 0 2-.9 2-2V5c0-1.1-.9-2-2-2zM9 17H7v-7h2v7zm4 0h-2V7h2v10zm4 0h-2v-4h2v4z\"/>\n",
              "    </g>\n",
              "</svg>\n",
              "      </button>\n",
              "    </div>\n",
              "\n",
              "<style>\n",
              "  .colab-df-quickchart {\n",
              "    background-color: #E8F0FE;\n",
              "    border: none;\n",
              "    border-radius: 50%;\n",
              "    cursor: pointer;\n",
              "    display: none;\n",
              "    fill: #1967D2;\n",
              "    height: 32px;\n",
              "    padding: 0 0 0 0;\n",
              "    width: 32px;\n",
              "  }\n",
              "\n",
              "  .colab-df-quickchart:hover {\n",
              "    background-color: #E2EBFA;\n",
              "    box-shadow: 0px 1px 2px rgba(60, 64, 67, 0.3), 0px 1px 3px 1px rgba(60, 64, 67, 0.15);\n",
              "    fill: #174EA6;\n",
              "  }\n",
              "\n",
              "  [theme=dark] .colab-df-quickchart {\n",
              "    background-color: #3B4455;\n",
              "    fill: #D2E3FC;\n",
              "  }\n",
              "\n",
              "  [theme=dark] .colab-df-quickchart:hover {\n",
              "    background-color: #434B5C;\n",
              "    box-shadow: 0px 1px 3px 1px rgba(0, 0, 0, 0.15);\n",
              "    filter: drop-shadow(0px 1px 2px rgba(0, 0, 0, 0.3));\n",
              "    fill: #FFFFFF;\n",
              "  }\n",
              "</style>\n",
              "\n",
              "    <script>\n",
              "      async function quickchart(key) {\n",
              "        const containerElement = document.querySelector('#' + key);\n",
              "        const charts = await google.colab.kernel.invokeFunction(\n",
              "            'suggestCharts', [key], {});\n",
              "      }\n",
              "    </script>\n",
              "\n",
              "      <script>\n",
              "\n",
              "function displayQuickchartButton(domScope) {\n",
              "  let quickchartButtonEl =\n",
              "    domScope.querySelector('#df-bcc81b28-8786-40e6-8667-6d1af6dc5743 button.colab-df-quickchart');\n",
              "  quickchartButtonEl.style.display =\n",
              "    google.colab.kernel.accessAllowed ? 'block' : 'none';\n",
              "}\n",
              "\n",
              "        displayQuickchartButton(document);\n",
              "      </script>\n",
              "      <style>\n",
              "    .colab-df-container {\n",
              "      display:flex;\n",
              "      flex-wrap:wrap;\n",
              "      gap: 12px;\n",
              "    }\n",
              "\n",
              "    .colab-df-convert {\n",
              "      background-color: #E8F0FE;\n",
              "      border: none;\n",
              "      border-radius: 50%;\n",
              "      cursor: pointer;\n",
              "      display: none;\n",
              "      fill: #1967D2;\n",
              "      height: 32px;\n",
              "      padding: 0 0 0 0;\n",
              "      width: 32px;\n",
              "    }\n",
              "\n",
              "    .colab-df-convert:hover {\n",
              "      background-color: #E2EBFA;\n",
              "      box-shadow: 0px 1px 2px rgba(60, 64, 67, 0.3), 0px 1px 3px 1px rgba(60, 64, 67, 0.15);\n",
              "      fill: #174EA6;\n",
              "    }\n",
              "\n",
              "    [theme=dark] .colab-df-convert {\n",
              "      background-color: #3B4455;\n",
              "      fill: #D2E3FC;\n",
              "    }\n",
              "\n",
              "    [theme=dark] .colab-df-convert:hover {\n",
              "      background-color: #434B5C;\n",
              "      box-shadow: 0px 1px 3px 1px rgba(0, 0, 0, 0.15);\n",
              "      filter: drop-shadow(0px 1px 2px rgba(0, 0, 0, 0.3));\n",
              "      fill: #FFFFFF;\n",
              "    }\n",
              "  </style>\n",
              "\n",
              "      <script>\n",
              "        const buttonEl =\n",
              "          document.querySelector('#df-4ad40e23-9738-4995-b40b-6c8b3d5834c1 button.colab-df-convert');\n",
              "        buttonEl.style.display =\n",
              "          google.colab.kernel.accessAllowed ? 'block' : 'none';\n",
              "\n",
              "        async function convertToInteractive(key) {\n",
              "          const element = document.querySelector('#df-4ad40e23-9738-4995-b40b-6c8b3d5834c1');\n",
              "          const dataTable =\n",
              "            await google.colab.kernel.invokeFunction('convertToInteractive',\n",
              "                                                     [key], {});\n",
              "          if (!dataTable) return;\n",
              "\n",
              "          const docLinkHtml = 'Like what you see? Visit the ' +\n",
              "            '<a target=\"_blank\" href=https://colab.research.google.com/notebooks/data_table.ipynb>data table notebook</a>'\n",
              "            + ' to learn more about interactive tables.';\n",
              "          element.innerHTML = '';\n",
              "          dataTable['output_type'] = 'display_data';\n",
              "          await google.colab.output.renderOutput(dataTable, element);\n",
              "          const docLink = document.createElement('div');\n",
              "          docLink.innerHTML = docLinkHtml;\n",
              "          element.appendChild(docLink);\n",
              "        }\n",
              "      </script>\n",
              "    </div>\n",
              "  </div>\n"
            ]
          },
          "metadata": {},
          "execution_count": 45
        }
      ],
      "source": [
        "df=pd.read_csv(\"/content/dataset.csv\")\n",
        "df"
      ]
    },
    {
      "cell_type": "code",
      "execution_count": 46,
      "metadata": {
        "colab": {
          "base_uri": "https://localhost:8080/",
          "height": 206
        },
        "execution": {
          "iopub.execute_input": "2023-07-10T19:17:43.809129Z",
          "iopub.status.busy": "2023-07-10T19:17:43.808737Z",
          "iopub.status.idle": "2023-07-10T19:17:43.83041Z",
          "shell.execute_reply": "2023-07-10T19:17:43.82927Z",
          "shell.execute_reply.started": "2023-07-10T19:17:43.809091Z"
        },
        "id": "byNWSEV9sdNw",
        "outputId": "d3776975-2367-44f7-e3b1-884cc3d3a59d"
      },
      "outputs": [
        {
          "output_type": "execute_result",
          "data": {
            "text/plain": [
              "                                                text  is_rumor    user.handle  \\\n",
              "0  Charlie Hebdo became well known for publishing...       0.0     BBCDanielS   \n",
              "1  Now 10 dead in a shooting there today RT \"@BBC...       0.0      robbylevy   \n",
              "2  @BBCDanielS @BBCWorld I'm guessing this is bei...       0.0  ModerateInAll   \n",
              "3  @BBCDanielS @BBCWorld why would you mention th...       0.0    GabTarquini   \n",
              "4            @BBCDanielS @BBCWorld perps identified?       0.0  freethought41   \n",
              "\n",
              "          topic  \n",
              "0  charliehebdo  \n",
              "1  charliehebdo  \n",
              "2  charliehebdo  \n",
              "3  charliehebdo  \n",
              "4  charliehebdo  "
            ],
            "text/html": [
              "\n",
              "\n",
              "  <div id=\"df-79f46a44-700c-4e4b-b3fa-a271c16fd326\">\n",
              "    <div class=\"colab-df-container\">\n",
              "      <div>\n",
              "<style scoped>\n",
              "    .dataframe tbody tr th:only-of-type {\n",
              "        vertical-align: middle;\n",
              "    }\n",
              "\n",
              "    .dataframe tbody tr th {\n",
              "        vertical-align: top;\n",
              "    }\n",
              "\n",
              "    .dataframe thead th {\n",
              "        text-align: right;\n",
              "    }\n",
              "</style>\n",
              "<table border=\"1\" class=\"dataframe\">\n",
              "  <thead>\n",
              "    <tr style=\"text-align: right;\">\n",
              "      <th></th>\n",
              "      <th>text</th>\n",
              "      <th>is_rumor</th>\n",
              "      <th>user.handle</th>\n",
              "      <th>topic</th>\n",
              "    </tr>\n",
              "  </thead>\n",
              "  <tbody>\n",
              "    <tr>\n",
              "      <th>0</th>\n",
              "      <td>Charlie Hebdo became well known for publishing...</td>\n",
              "      <td>0.0</td>\n",
              "      <td>BBCDanielS</td>\n",
              "      <td>charliehebdo</td>\n",
              "    </tr>\n",
              "    <tr>\n",
              "      <th>1</th>\n",
              "      <td>Now 10 dead in a shooting there today RT \"@BBC...</td>\n",
              "      <td>0.0</td>\n",
              "      <td>robbylevy</td>\n",
              "      <td>charliehebdo</td>\n",
              "    </tr>\n",
              "    <tr>\n",
              "      <th>2</th>\n",
              "      <td>@BBCDanielS @BBCWorld I'm guessing this is bei...</td>\n",
              "      <td>0.0</td>\n",
              "      <td>ModerateInAll</td>\n",
              "      <td>charliehebdo</td>\n",
              "    </tr>\n",
              "    <tr>\n",
              "      <th>3</th>\n",
              "      <td>@BBCDanielS @BBCWorld why would you mention th...</td>\n",
              "      <td>0.0</td>\n",
              "      <td>GabTarquini</td>\n",
              "      <td>charliehebdo</td>\n",
              "    </tr>\n",
              "    <tr>\n",
              "      <th>4</th>\n",
              "      <td>@BBCDanielS @BBCWorld perps identified?</td>\n",
              "      <td>0.0</td>\n",
              "      <td>freethought41</td>\n",
              "      <td>charliehebdo</td>\n",
              "    </tr>\n",
              "  </tbody>\n",
              "</table>\n",
              "</div>\n",
              "      <button class=\"colab-df-convert\" onclick=\"convertToInteractive('df-79f46a44-700c-4e4b-b3fa-a271c16fd326')\"\n",
              "              title=\"Convert this dataframe to an interactive table.\"\n",
              "              style=\"display:none;\">\n",
              "\n",
              "  <svg xmlns=\"http://www.w3.org/2000/svg\" height=\"24px\"viewBox=\"0 0 24 24\"\n",
              "       width=\"24px\">\n",
              "    <path d=\"M0 0h24v24H0V0z\" fill=\"none\"/>\n",
              "    <path d=\"M18.56 5.44l.94 2.06.94-2.06 2.06-.94-2.06-.94-.94-2.06-.94 2.06-2.06.94zm-11 1L8.5 8.5l.94-2.06 2.06-.94-2.06-.94L8.5 2.5l-.94 2.06-2.06.94zm10 10l.94 2.06.94-2.06 2.06-.94-2.06-.94-.94-2.06-.94 2.06-2.06.94z\"/><path d=\"M17.41 7.96l-1.37-1.37c-.4-.4-.92-.59-1.43-.59-.52 0-1.04.2-1.43.59L10.3 9.45l-7.72 7.72c-.78.78-.78 2.05 0 2.83L4 21.41c.39.39.9.59 1.41.59.51 0 1.02-.2 1.41-.59l7.78-7.78 2.81-2.81c.8-.78.8-2.07 0-2.86zM5.41 20L4 18.59l7.72-7.72 1.47 1.35L5.41 20z\"/>\n",
              "  </svg>\n",
              "      </button>\n",
              "\n",
              "\n",
              "\n",
              "    <div id=\"df-49eece21-21b2-4d4f-bfd2-a324d57651b3\">\n",
              "      <button class=\"colab-df-quickchart\" onclick=\"quickchart('df-49eece21-21b2-4d4f-bfd2-a324d57651b3')\"\n",
              "              title=\"Suggest charts.\"\n",
              "              style=\"display:none;\">\n",
              "\n",
              "<svg xmlns=\"http://www.w3.org/2000/svg\" height=\"24px\"viewBox=\"0 0 24 24\"\n",
              "     width=\"24px\">\n",
              "    <g>\n",
              "        <path d=\"M19 3H5c-1.1 0-2 .9-2 2v14c0 1.1.9 2 2 2h14c1.1 0 2-.9 2-2V5c0-1.1-.9-2-2-2zM9 17H7v-7h2v7zm4 0h-2V7h2v10zm4 0h-2v-4h2v4z\"/>\n",
              "    </g>\n",
              "</svg>\n",
              "      </button>\n",
              "    </div>\n",
              "\n",
              "<style>\n",
              "  .colab-df-quickchart {\n",
              "    background-color: #E8F0FE;\n",
              "    border: none;\n",
              "    border-radius: 50%;\n",
              "    cursor: pointer;\n",
              "    display: none;\n",
              "    fill: #1967D2;\n",
              "    height: 32px;\n",
              "    padding: 0 0 0 0;\n",
              "    width: 32px;\n",
              "  }\n",
              "\n",
              "  .colab-df-quickchart:hover {\n",
              "    background-color: #E2EBFA;\n",
              "    box-shadow: 0px 1px 2px rgba(60, 64, 67, 0.3), 0px 1px 3px 1px rgba(60, 64, 67, 0.15);\n",
              "    fill: #174EA6;\n",
              "  }\n",
              "\n",
              "  [theme=dark] .colab-df-quickchart {\n",
              "    background-color: #3B4455;\n",
              "    fill: #D2E3FC;\n",
              "  }\n",
              "\n",
              "  [theme=dark] .colab-df-quickchart:hover {\n",
              "    background-color: #434B5C;\n",
              "    box-shadow: 0px 1px 3px 1px rgba(0, 0, 0, 0.15);\n",
              "    filter: drop-shadow(0px 1px 2px rgba(0, 0, 0, 0.3));\n",
              "    fill: #FFFFFF;\n",
              "  }\n",
              "</style>\n",
              "\n",
              "    <script>\n",
              "      async function quickchart(key) {\n",
              "        const containerElement = document.querySelector('#' + key);\n",
              "        const charts = await google.colab.kernel.invokeFunction(\n",
              "            'suggestCharts', [key], {});\n",
              "      }\n",
              "    </script>\n",
              "\n",
              "      <script>\n",
              "\n",
              "function displayQuickchartButton(domScope) {\n",
              "  let quickchartButtonEl =\n",
              "    domScope.querySelector('#df-49eece21-21b2-4d4f-bfd2-a324d57651b3 button.colab-df-quickchart');\n",
              "  quickchartButtonEl.style.display =\n",
              "    google.colab.kernel.accessAllowed ? 'block' : 'none';\n",
              "}\n",
              "\n",
              "        displayQuickchartButton(document);\n",
              "      </script>\n",
              "      <style>\n",
              "    .colab-df-container {\n",
              "      display:flex;\n",
              "      flex-wrap:wrap;\n",
              "      gap: 12px;\n",
              "    }\n",
              "\n",
              "    .colab-df-convert {\n",
              "      background-color: #E8F0FE;\n",
              "      border: none;\n",
              "      border-radius: 50%;\n",
              "      cursor: pointer;\n",
              "      display: none;\n",
              "      fill: #1967D2;\n",
              "      height: 32px;\n",
              "      padding: 0 0 0 0;\n",
              "      width: 32px;\n",
              "    }\n",
              "\n",
              "    .colab-df-convert:hover {\n",
              "      background-color: #E2EBFA;\n",
              "      box-shadow: 0px 1px 2px rgba(60, 64, 67, 0.3), 0px 1px 3px 1px rgba(60, 64, 67, 0.15);\n",
              "      fill: #174EA6;\n",
              "    }\n",
              "\n",
              "    [theme=dark] .colab-df-convert {\n",
              "      background-color: #3B4455;\n",
              "      fill: #D2E3FC;\n",
              "    }\n",
              "\n",
              "    [theme=dark] .colab-df-convert:hover {\n",
              "      background-color: #434B5C;\n",
              "      box-shadow: 0px 1px 3px 1px rgba(0, 0, 0, 0.15);\n",
              "      filter: drop-shadow(0px 1px 2px rgba(0, 0, 0, 0.3));\n",
              "      fill: #FFFFFF;\n",
              "    }\n",
              "  </style>\n",
              "\n",
              "      <script>\n",
              "        const buttonEl =\n",
              "          document.querySelector('#df-79f46a44-700c-4e4b-b3fa-a271c16fd326 button.colab-df-convert');\n",
              "        buttonEl.style.display =\n",
              "          google.colab.kernel.accessAllowed ? 'block' : 'none';\n",
              "\n",
              "        async function convertToInteractive(key) {\n",
              "          const element = document.querySelector('#df-79f46a44-700c-4e4b-b3fa-a271c16fd326');\n",
              "          const dataTable =\n",
              "            await google.colab.kernel.invokeFunction('convertToInteractive',\n",
              "                                                     [key], {});\n",
              "          if (!dataTable) return;\n",
              "\n",
              "          const docLinkHtml = 'Like what you see? Visit the ' +\n",
              "            '<a target=\"_blank\" href=https://colab.research.google.com/notebooks/data_table.ipynb>data table notebook</a>'\n",
              "            + ' to learn more about interactive tables.';\n",
              "          element.innerHTML = '';\n",
              "          dataTable['output_type'] = 'display_data';\n",
              "          await google.colab.output.renderOutput(dataTable, element);\n",
              "          const docLink = document.createElement('div');\n",
              "          docLink.innerHTML = docLinkHtml;\n",
              "          element.appendChild(docLink);\n",
              "        }\n",
              "      </script>\n",
              "    </div>\n",
              "  </div>\n"
            ]
          },
          "metadata": {},
          "execution_count": 46
        }
      ],
      "source": [
        "df.head()"
      ]
    },
    {
      "cell_type": "code",
      "execution_count": 47,
      "metadata": {
        "colab": {
          "base_uri": "https://localhost:8080/"
        },
        "execution": {
          "iopub.execute_input": "2023-07-10T19:17:43.834904Z",
          "iopub.status.busy": "2023-07-10T19:17:43.834547Z",
          "iopub.status.idle": "2023-07-10T19:17:43.858997Z",
          "shell.execute_reply": "2023-07-10T19:17:43.857811Z",
          "shell.execute_reply.started": "2023-07-10T19:17:43.834874Z"
        },
        "id": "sPUWtkJNsdNw",
        "outputId": "def5431b-3aa8-4084-c1ed-38f6b9114167"
      },
      "outputs": [
        {
          "output_type": "stream",
          "name": "stdout",
          "text": [
            "<class 'pandas.core.frame.DataFrame'>\n",
            "RangeIndex: 62445 entries, 0 to 62444\n",
            "Data columns (total 4 columns):\n",
            " #   Column       Non-Null Count  Dtype  \n",
            "---  ------       --------------  -----  \n",
            " 0   text         62445 non-null  object \n",
            " 1   is_rumor     62443 non-null  float64\n",
            " 2   user.handle  62443 non-null  object \n",
            " 3   topic        49668 non-null  object \n",
            "dtypes: float64(1), object(3)\n",
            "memory usage: 1.9+ MB\n"
          ]
        }
      ],
      "source": [
        "df.info()"
      ]
    },
    {
      "cell_type": "code",
      "execution_count": 48,
      "metadata": {
        "colab": {
          "base_uri": "https://localhost:8080/"
        },
        "execution": {
          "iopub.execute_input": "2023-07-10T19:17:43.861388Z",
          "iopub.status.busy": "2023-07-10T19:17:43.860665Z",
          "iopub.status.idle": "2023-07-10T19:17:43.87864Z",
          "shell.execute_reply": "2023-07-10T19:17:43.877471Z",
          "shell.execute_reply.started": "2023-07-10T19:17:43.86135Z"
        },
        "id": "VGjD-A2jsdNx",
        "outputId": "a113f0eb-149b-4248-9f7d-7f3b4666abe7"
      },
      "outputs": [
        {
          "output_type": "execute_result",
          "data": {
            "text/plain": [
              "text               0\n",
              "is_rumor           2\n",
              "user.handle        2\n",
              "topic          12777\n",
              "dtype: int64"
            ]
          },
          "metadata": {},
          "execution_count": 48
        }
      ],
      "source": [
        "df.isnull().sum()"
      ]
    },
    {
      "cell_type": "code",
      "source": [
        "df = df[['text','is_rumor']].copy()"
      ],
      "metadata": {
        "id": "tHC6YbNGxgpd"
      },
      "execution_count": 49,
      "outputs": []
    },
    {
      "cell_type": "code",
      "execution_count": 50,
      "metadata": {
        "execution": {
          "iopub.execute_input": "2023-07-10T19:17:43.895728Z",
          "iopub.status.busy": "2023-07-10T19:17:43.895061Z",
          "iopub.status.idle": "2023-07-10T19:17:43.905416Z",
          "shell.execute_reply": "2023-07-10T19:17:43.90434Z",
          "shell.execute_reply.started": "2023-07-10T19:17:43.895681Z"
        },
        "id": "7hv2FxrusdNx"
      },
      "outputs": [],
      "source": [
        "# df.drop(['Unnamed: 0'], axis=1,inplace=True)\n",
        "# df.drop(['URLs','Unnamed: 0'], axis=1,inplace=True)\n"
      ]
    },
    {
      "cell_type": "code",
      "execution_count": 51,
      "metadata": {
        "colab": {
          "base_uri": "https://localhost:8080/",
          "height": 206
        },
        "execution": {
          "iopub.execute_input": "2023-07-10T19:17:43.907867Z",
          "iopub.status.busy": "2023-07-10T19:17:43.907471Z",
          "iopub.status.idle": "2023-07-10T19:17:43.921304Z",
          "shell.execute_reply": "2023-07-10T19:17:43.92045Z",
          "shell.execute_reply.started": "2023-07-10T19:17:43.907832Z"
        },
        "id": "Hd1IZv3SsdNy",
        "outputId": "c6a9a8d1-10ad-4001-d33c-6a0f6653b1b5"
      },
      "outputs": [
        {
          "output_type": "execute_result",
          "data": {
            "text/plain": [
              "                                                text  is_rumor\n",
              "0  Charlie Hebdo became well known for publishing...       0.0\n",
              "1  Now 10 dead in a shooting there today RT \"@BBC...       0.0\n",
              "2  @BBCDanielS @BBCWorld I'm guessing this is bei...       0.0\n",
              "3  @BBCDanielS @BBCWorld why would you mention th...       0.0\n",
              "4            @BBCDanielS @BBCWorld perps identified?       0.0"
            ],
            "text/html": [
              "\n",
              "\n",
              "  <div id=\"df-9306b619-b5b4-4ca0-b7c3-71cb40e41e3a\">\n",
              "    <div class=\"colab-df-container\">\n",
              "      <div>\n",
              "<style scoped>\n",
              "    .dataframe tbody tr th:only-of-type {\n",
              "        vertical-align: middle;\n",
              "    }\n",
              "\n",
              "    .dataframe tbody tr th {\n",
              "        vertical-align: top;\n",
              "    }\n",
              "\n",
              "    .dataframe thead th {\n",
              "        text-align: right;\n",
              "    }\n",
              "</style>\n",
              "<table border=\"1\" class=\"dataframe\">\n",
              "  <thead>\n",
              "    <tr style=\"text-align: right;\">\n",
              "      <th></th>\n",
              "      <th>text</th>\n",
              "      <th>is_rumor</th>\n",
              "    </tr>\n",
              "  </thead>\n",
              "  <tbody>\n",
              "    <tr>\n",
              "      <th>0</th>\n",
              "      <td>Charlie Hebdo became well known for publishing...</td>\n",
              "      <td>0.0</td>\n",
              "    </tr>\n",
              "    <tr>\n",
              "      <th>1</th>\n",
              "      <td>Now 10 dead in a shooting there today RT \"@BBC...</td>\n",
              "      <td>0.0</td>\n",
              "    </tr>\n",
              "    <tr>\n",
              "      <th>2</th>\n",
              "      <td>@BBCDanielS @BBCWorld I'm guessing this is bei...</td>\n",
              "      <td>0.0</td>\n",
              "    </tr>\n",
              "    <tr>\n",
              "      <th>3</th>\n",
              "      <td>@BBCDanielS @BBCWorld why would you mention th...</td>\n",
              "      <td>0.0</td>\n",
              "    </tr>\n",
              "    <tr>\n",
              "      <th>4</th>\n",
              "      <td>@BBCDanielS @BBCWorld perps identified?</td>\n",
              "      <td>0.0</td>\n",
              "    </tr>\n",
              "  </tbody>\n",
              "</table>\n",
              "</div>\n",
              "      <button class=\"colab-df-convert\" onclick=\"convertToInteractive('df-9306b619-b5b4-4ca0-b7c3-71cb40e41e3a')\"\n",
              "              title=\"Convert this dataframe to an interactive table.\"\n",
              "              style=\"display:none;\">\n",
              "\n",
              "  <svg xmlns=\"http://www.w3.org/2000/svg\" height=\"24px\"viewBox=\"0 0 24 24\"\n",
              "       width=\"24px\">\n",
              "    <path d=\"M0 0h24v24H0V0z\" fill=\"none\"/>\n",
              "    <path d=\"M18.56 5.44l.94 2.06.94-2.06 2.06-.94-2.06-.94-.94-2.06-.94 2.06-2.06.94zm-11 1L8.5 8.5l.94-2.06 2.06-.94-2.06-.94L8.5 2.5l-.94 2.06-2.06.94zm10 10l.94 2.06.94-2.06 2.06-.94-2.06-.94-.94-2.06-.94 2.06-2.06.94z\"/><path d=\"M17.41 7.96l-1.37-1.37c-.4-.4-.92-.59-1.43-.59-.52 0-1.04.2-1.43.59L10.3 9.45l-7.72 7.72c-.78.78-.78 2.05 0 2.83L4 21.41c.39.39.9.59 1.41.59.51 0 1.02-.2 1.41-.59l7.78-7.78 2.81-2.81c.8-.78.8-2.07 0-2.86zM5.41 20L4 18.59l7.72-7.72 1.47 1.35L5.41 20z\"/>\n",
              "  </svg>\n",
              "      </button>\n",
              "\n",
              "\n",
              "\n",
              "    <div id=\"df-eab76a21-c03e-43c2-8fcb-a9185e7d4d61\">\n",
              "      <button class=\"colab-df-quickchart\" onclick=\"quickchart('df-eab76a21-c03e-43c2-8fcb-a9185e7d4d61')\"\n",
              "              title=\"Suggest charts.\"\n",
              "              style=\"display:none;\">\n",
              "\n",
              "<svg xmlns=\"http://www.w3.org/2000/svg\" height=\"24px\"viewBox=\"0 0 24 24\"\n",
              "     width=\"24px\">\n",
              "    <g>\n",
              "        <path d=\"M19 3H5c-1.1 0-2 .9-2 2v14c0 1.1.9 2 2 2h14c1.1 0 2-.9 2-2V5c0-1.1-.9-2-2-2zM9 17H7v-7h2v7zm4 0h-2V7h2v10zm4 0h-2v-4h2v4z\"/>\n",
              "    </g>\n",
              "</svg>\n",
              "      </button>\n",
              "    </div>\n",
              "\n",
              "<style>\n",
              "  .colab-df-quickchart {\n",
              "    background-color: #E8F0FE;\n",
              "    border: none;\n",
              "    border-radius: 50%;\n",
              "    cursor: pointer;\n",
              "    display: none;\n",
              "    fill: #1967D2;\n",
              "    height: 32px;\n",
              "    padding: 0 0 0 0;\n",
              "    width: 32px;\n",
              "  }\n",
              "\n",
              "  .colab-df-quickchart:hover {\n",
              "    background-color: #E2EBFA;\n",
              "    box-shadow: 0px 1px 2px rgba(60, 64, 67, 0.3), 0px 1px 3px 1px rgba(60, 64, 67, 0.15);\n",
              "    fill: #174EA6;\n",
              "  }\n",
              "\n",
              "  [theme=dark] .colab-df-quickchart {\n",
              "    background-color: #3B4455;\n",
              "    fill: #D2E3FC;\n",
              "  }\n",
              "\n",
              "  [theme=dark] .colab-df-quickchart:hover {\n",
              "    background-color: #434B5C;\n",
              "    box-shadow: 0px 1px 3px 1px rgba(0, 0, 0, 0.15);\n",
              "    filter: drop-shadow(0px 1px 2px rgba(0, 0, 0, 0.3));\n",
              "    fill: #FFFFFF;\n",
              "  }\n",
              "</style>\n",
              "\n",
              "    <script>\n",
              "      async function quickchart(key) {\n",
              "        const containerElement = document.querySelector('#' + key);\n",
              "        const charts = await google.colab.kernel.invokeFunction(\n",
              "            'suggestCharts', [key], {});\n",
              "      }\n",
              "    </script>\n",
              "\n",
              "      <script>\n",
              "\n",
              "function displayQuickchartButton(domScope) {\n",
              "  let quickchartButtonEl =\n",
              "    domScope.querySelector('#df-eab76a21-c03e-43c2-8fcb-a9185e7d4d61 button.colab-df-quickchart');\n",
              "  quickchartButtonEl.style.display =\n",
              "    google.colab.kernel.accessAllowed ? 'block' : 'none';\n",
              "}\n",
              "\n",
              "        displayQuickchartButton(document);\n",
              "      </script>\n",
              "      <style>\n",
              "    .colab-df-container {\n",
              "      display:flex;\n",
              "      flex-wrap:wrap;\n",
              "      gap: 12px;\n",
              "    }\n",
              "\n",
              "    .colab-df-convert {\n",
              "      background-color: #E8F0FE;\n",
              "      border: none;\n",
              "      border-radius: 50%;\n",
              "      cursor: pointer;\n",
              "      display: none;\n",
              "      fill: #1967D2;\n",
              "      height: 32px;\n",
              "      padding: 0 0 0 0;\n",
              "      width: 32px;\n",
              "    }\n",
              "\n",
              "    .colab-df-convert:hover {\n",
              "      background-color: #E2EBFA;\n",
              "      box-shadow: 0px 1px 2px rgba(60, 64, 67, 0.3), 0px 1px 3px 1px rgba(60, 64, 67, 0.15);\n",
              "      fill: #174EA6;\n",
              "    }\n",
              "\n",
              "    [theme=dark] .colab-df-convert {\n",
              "      background-color: #3B4455;\n",
              "      fill: #D2E3FC;\n",
              "    }\n",
              "\n",
              "    [theme=dark] .colab-df-convert:hover {\n",
              "      background-color: #434B5C;\n",
              "      box-shadow: 0px 1px 3px 1px rgba(0, 0, 0, 0.15);\n",
              "      filter: drop-shadow(0px 1px 2px rgba(0, 0, 0, 0.3));\n",
              "      fill: #FFFFFF;\n",
              "    }\n",
              "  </style>\n",
              "\n",
              "      <script>\n",
              "        const buttonEl =\n",
              "          document.querySelector('#df-9306b619-b5b4-4ca0-b7c3-71cb40e41e3a button.colab-df-convert');\n",
              "        buttonEl.style.display =\n",
              "          google.colab.kernel.accessAllowed ? 'block' : 'none';\n",
              "\n",
              "        async function convertToInteractive(key) {\n",
              "          const element = document.querySelector('#df-9306b619-b5b4-4ca0-b7c3-71cb40e41e3a');\n",
              "          const dataTable =\n",
              "            await google.colab.kernel.invokeFunction('convertToInteractive',\n",
              "                                                     [key], {});\n",
              "          if (!dataTable) return;\n",
              "\n",
              "          const docLinkHtml = 'Like what you see? Visit the ' +\n",
              "            '<a target=\"_blank\" href=https://colab.research.google.com/notebooks/data_table.ipynb>data table notebook</a>'\n",
              "            + ' to learn more about interactive tables.';\n",
              "          element.innerHTML = '';\n",
              "          dataTable['output_type'] = 'display_data';\n",
              "          await google.colab.output.renderOutput(dataTable, element);\n",
              "          const docLink = document.createElement('div');\n",
              "          docLink.innerHTML = docLinkHtml;\n",
              "          element.appendChild(docLink);\n",
              "        }\n",
              "      </script>\n",
              "    </div>\n",
              "  </div>\n"
            ]
          },
          "metadata": {},
          "execution_count": 51
        }
      ],
      "source": [
        "df.head()"
      ]
    },
    {
      "cell_type": "code",
      "source": [
        "df.dropna(inplace=True)"
      ],
      "metadata": {
        "id": "4Bi8pGTXxqCg"
      },
      "execution_count": 52,
      "outputs": []
    },
    {
      "cell_type": "markdown",
      "metadata": {
        "id": "3uZuzL3qsdNy"
      },
      "source": [
        "### You are predicting whether a given tweet is about a real disaster or not. If so, predict a 1. If not, predict a 0."
      ]
    },
    {
      "cell_type": "code",
      "execution_count": 53,
      "metadata": {
        "id": "tI_QuzYN7HA4"
      },
      "outputs": [],
      "source": [
        "# df.columns = ['head','text','target']"
      ]
    },
    {
      "cell_type": "code",
      "execution_count": 54,
      "metadata": {
        "colab": {
          "base_uri": "https://localhost:8080/"
        },
        "execution": {
          "iopub.execute_input": "2023-07-10T19:17:43.924138Z",
          "iopub.status.busy": "2023-07-10T19:17:43.922908Z",
          "iopub.status.idle": "2023-07-10T19:17:43.935082Z",
          "shell.execute_reply": "2023-07-10T19:17:43.934144Z",
          "shell.execute_reply.started": "2023-07-10T19:17:43.924102Z"
        },
        "id": "oS-z4KVDsdNz",
        "outputId": "e24ae0bc-576b-4b43-a49a-9e8e9177cd43"
      },
      "outputs": [
        {
          "output_type": "execute_result",
          "data": {
            "text/plain": [
              "0.0    48619\n",
              "1.0    13824\n",
              "Name: is_rumor, dtype: int64"
            ]
          },
          "metadata": {},
          "execution_count": 54
        }
      ],
      "source": [
        "df.is_rumor.value_counts()"
      ]
    },
    {
      "cell_type": "code",
      "execution_count": 59,
      "metadata": {
        "id": "ZXOVIFc_86i6"
      },
      "outputs": [],
      "source": [
        "df['label'] = df['is_rumor']"
      ]
    },
    {
      "cell_type": "code",
      "execution_count": 60,
      "metadata": {
        "id": "ukU_aBWE8-Xr"
      },
      "outputs": [],
      "source": [
        "df['label'].replace({1:'Rumor',0:'not Rumor'},inplace=True)"
      ]
    },
    {
      "cell_type": "code",
      "execution_count": 61,
      "metadata": {
        "colab": {
          "base_uri": "https://localhost:8080/"
        },
        "id": "AZ-v9d4G9idu",
        "outputId": "d0df1730-399c-426f-b705-9b9ea87a1c4d"
      },
      "outputs": [
        {
          "output_type": "execute_result",
          "data": {
            "text/plain": [
              "not Rumor    48619\n",
              "Rumor        13824\n",
              "Name: label, dtype: int64"
            ]
          },
          "metadata": {},
          "execution_count": 61
        }
      ],
      "source": [
        "df.label.value_counts()\n"
      ]
    },
    {
      "cell_type": "code",
      "source": [
        "df = df.sample(5800)"
      ],
      "metadata": {
        "id": "AhaN69udzmKg"
      },
      "execution_count": 63,
      "outputs": []
    },
    {
      "cell_type": "code",
      "execution_count": 64,
      "metadata": {
        "id": "HFnQkEYisdNz",
        "colab": {
          "base_uri": "https://localhost:8080/",
          "height": 465
        },
        "outputId": "a1a70ff4-0b84-4512-faaa-72fc00f7157f"
      },
      "outputs": [
        {
          "output_type": "display_data",
          "data": {
            "text/plain": [
              "<Figure size 700x500 with 1 Axes>"
            ],
            "image/png": "[encoded data removed]"
          },
          "metadata": {}
        }
      ],
      "source": [
        "plt.figure(figsize=(7,5))\n",
        "sns.countplot(data=df, y=\"label\",palette=[\"navy\",\"crimson\"])\n",
        "# plt.title(\"Compare Target\")\n",
        "df['label'].to_csv(f'{path}_labels.csv',index=False)\n",
        "plt.savefig(f'{path}_labels.png',bbox_inches='tight')\n",
        "plt.show()"
      ]
    },
    {
      "cell_type": "markdown",
      "metadata": {
        "id": "XVGipssP1HIN"
      },
      "source": [
        "Pre Processing"
      ]
    },
    {
      "cell_type": "code",
      "execution_count": 65,
      "metadata": {
        "id": "Fw-LnZxu1QLV"
      },
      "outputs": [],
      "source": [
        "import re"
      ]
    },
    {
      "cell_type": "code",
      "execution_count": 66,
      "metadata": {
        "id": "kmhrhhsCur12"
      },
      "outputs": [],
      "source": [
        "def removepunc(x):\n",
        "    x = x.lower()\n",
        "    x = re.sub(r\" ' \",\"\",x)\n",
        "    x = re.sub(r\"'\",\"\",x)\n",
        "    x = re.sub(r\"\\r\",\" \",x)\n",
        "    x = re.sub(r\"\\n\",\" \",x)\n",
        "    # x = re.sub(r\" / \",\"\",x)\n",
        "\n",
        "    # x = re.sub(r\" . \",\"\",x)\n",
        "\n",
        "    x = re.sub(r\"(@[A-Za-z]+)|([^0-9A-Za-z \\t])|(\\w+:\\/\\/\\S+)|^rt|http.+?\", \"\", x)\n",
        "    # x = re.sub(r\"(@[A-Za-z0-9]+)|([^0-9A-Za-z \\t])|(\\w+:\\/\\/\\S+)|^rt|http.+?\", \" \", x)\n",
        "    # x = re.sub(r\"  \",\" \",x)\n",
        "    # x = re.sub(r\"  \",\" \",x)\n",
        "    # x = re.sub(r\"  \",\" \",x)\n",
        "    # x = re.sub(r\"  \",\" \",x)\n",
        "    # x = re.sub(r\"  \",\" \",x)\n",
        "    # x = re.sub(r\"  \",\" \",x)\n",
        "    # x = re.sub(r\"  \",\" \",x)\n",
        "    # x = re.sub(r\"  \",\" \",x)\n",
        "    return x"
      ]
    },
    {
      "cell_type": "code",
      "execution_count": 67,
      "metadata": {
        "id": "Q0hR3YsOTCz7"
      },
      "outputs": [],
      "source": [
        "# import nltk\n",
        "# from nltk.corpus import stopwords\n",
        "\n",
        "# nltk.download('stopwords')\n",
        "# print(stopwords.words('english'))"
      ]
    },
    {
      "cell_type": "code",
      "execution_count": 68,
      "metadata": {
        "id": "cKTl9FKVTFZI"
      },
      "outputs": [],
      "source": [
        "# stop_words = set(stopwords.words('english'))"
      ]
    },
    {
      "cell_type": "code",
      "execution_count": 69,
      "metadata": {
        "id": "y4H2abnSS_Lf"
      },
      "outputs": [],
      "source": [
        "def lenword(x):\n",
        "  # l = x.spllit()\n",
        "  x = ' '.join([word for word in x.split() if (len(word) > 1 or word in (['i','a']))])\n",
        "#   x = ' '.join([word for word in x.split() if word not in stop_words])\n",
        "\n",
        "  return x"
      ]
    },
    {
      "cell_type": "code",
      "execution_count": 70,
      "metadata": {
        "id": "VBzH1n_ovCfn"
      },
      "outputs": [],
      "source": [
        "df['text'] = df['text'].apply(lambda x:removepunc(x))"
      ]
    },
    {
      "cell_type": "code",
      "execution_count": 71,
      "metadata": {
        "id": "diyV4bJZTJLM"
      },
      "outputs": [],
      "source": [
        "df['text'] = df['text'].apply(lambda x:lenword(x))"
      ]
    },
    {
      "cell_type": "code",
      "execution_count": 72,
      "metadata": {
        "colab": {
          "base_uri": "https://localhost:8080/"
        },
        "id": "5bR6MHiV1UkT",
        "outputId": "4c7ed59b-f397-416f-ffb0-d427b0edf924"
      },
      "outputs": [
        {
          "output_type": "execute_result",
          "data": {
            "text/plain": [
              "28500    western double standard policy will lead ppl t...\n",
              "9559     63 drills since 93 where drill actual terroris...\n",
              "62209                          otherwise its called murder\n",
              "55275    i dont feel like finding the 100 emoji but you...\n",
              "3062     you say that youre proud to a white man i aske...\n",
              "                               ...                        \n",
              "19286                            11 what a charmer you are\n",
              "17452    i confess im not seeing the logic here i certa...\n",
              "55387    54 the zionazis are responsible for training o...\n",
              "62099    the chief said this am that cop was at a call ...\n",
              "51834    68 officers are not trained to discriminate ba...\n",
              "Name: text, Length: 5800, dtype: object"
            ]
          },
          "metadata": {},
          "execution_count": 72
        }
      ],
      "source": [
        "df['text']"
      ]
    },
    {
      "cell_type": "markdown",
      "metadata": {
        "id": "FYEMy0GFsdNz"
      },
      "source": [
        "# Count Character"
      ]
    },
    {
      "cell_type": "code",
      "execution_count": 74,
      "metadata": {
        "execution": {
          "iopub.execute_input": "2023-07-10T19:17:44.178122Z",
          "iopub.status.busy": "2023-07-10T19:17:44.177407Z",
          "iopub.status.idle": "2023-07-10T19:17:44.19113Z",
          "shell.execute_reply": "2023-07-10T19:17:44.189893Z",
          "shell.execute_reply.started": "2023-07-10T19:17:44.178083Z"
        },
        "id": "CwQl0FP_sdN0"
      },
      "outputs": [],
      "source": [
        "df[\"character_count\"]=df[\"text\"].str.len()"
      ]
    },
    {
      "cell_type": "markdown",
      "metadata": {
        "id": "L0-RGWpIsdN0"
      },
      "source": [
        "# Count Word"
      ]
    },
    {
      "cell_type": "code",
      "execution_count": 75,
      "metadata": {
        "execution": {
          "iopub.execute_input": "2023-07-10T19:17:44.193631Z",
          "iopub.status.busy": "2023-07-10T19:17:44.192614Z",
          "iopub.status.idle": "2023-07-10T19:17:44.234009Z",
          "shell.execute_reply": "2023-07-10T19:17:44.232887Z",
          "shell.execute_reply.started": "2023-07-10T19:17:44.19359Z"
        },
        "id": "rjWoD40dsdN0"
      },
      "outputs": [],
      "source": [
        "df['word_count'] = df['text'].str.split().str.len()\n",
        "df[\"character_count\"]=df[\"text\"].str.len()"
      ]
    },
    {
      "cell_type": "code",
      "execution_count": 77,
      "metadata": {
        "colab": {
          "base_uri": "https://localhost:8080/"
        },
        "id": "Ffd6oXiW8Sje",
        "outputId": "c0893725-6a29-4999-ad4c-e0f495b383fc"
      },
      "outputs": [
        {
          "output_type": "execute_result",
          "data": {
            "text/plain": [
              "29"
            ]
          },
          "metadata": {},
          "execution_count": 77
        }
      ],
      "source": [
        "df['word_count'].max()"
      ]
    },
    {
      "cell_type": "markdown",
      "metadata": {
        "id": "4l0pyMeLsdN0"
      },
      "source": [
        "# Count Sentence"
      ]
    },
    {
      "cell_type": "code",
      "execution_count": null,
      "metadata": {
        "colab": {
          "base_uri": "https://localhost:8080/"
        },
        "id": "bY8XQal6zXBF",
        "outputId": "e62950fa-6805-4063-f1c2-b142a619a714"
      },
      "outputs": [
        {
          "name": "stderr",
          "output_type": "stream",
          "text": [
            "[nltk_data] Downloading package punkt to /root/nltk_data...\n",
            "[nltk_data]   Package punkt is already up-to-date!\n"
          ]
        },
        {
          "data": {
            "text/plain": [
              "True"
            ]
          },
          "execution_count": 89,
          "metadata": {},
          "output_type": "execute_result"
        }
      ],
      "source": [
        "import nltk\n",
        "nltk.download('punkt')"
      ]
    },
    {
      "cell_type": "code",
      "execution_count": null,
      "metadata": {
        "execution": {
          "iopub.execute_input": "2023-07-10T19:17:44.240612Z",
          "iopub.status.busy": "2023-07-10T19:17:44.240271Z",
          "iopub.status.idle": "2023-07-10T19:17:44.82101Z",
          "shell.execute_reply": "2023-07-10T19:17:44.819863Z",
          "shell.execute_reply.started": "2023-07-10T19:17:44.240584Z"
        },
        "id": "mirOowLzsdN0"
      },
      "outputs": [],
      "source": [
        "df['sentence_count'] = df['text'].apply(lambda x: len(nltk.sent_tokenize(x)))\n"
      ]
    },
    {
      "cell_type": "code",
      "execution_count": null,
      "metadata": {
        "colab": {
          "base_uri": "https://localhost:8080/",
          "height": 424
        },
        "id": "UzAOsXr9zhFq",
        "outputId": "7311db89-4e31-449a-9d38-c51fd48a8418"
      },
      "outputs": [
        {
          "data": {
            "text/html": [
              "\n",
              "\n",
              "  <div id=\"df-d0f35154-1c9f-492e-823c-b1c0d2d07666\">\n",
              "    <div class=\"colab-df-container\">\n",
              "      <div>\n",
              "<style scoped>\n",
              "    .dataframe tbody tr th:only-of-type {\n",
              "        vertical-align: middle;\n",
              "    }\n",
              "\n",
              "    .dataframe tbody tr th {\n",
              "        vertical-align: top;\n",
              "    }\n",
              "\n",
              "    .dataframe thead th {\n",
              "        text-align: right;\n",
              "    }\n",
              "</style>\n",
              "<table border=\"1\" class=\"dataframe\">\n",
              "  <thead>\n",
              "    <tr style=\"text-align: right;\">\n",
              "      <th></th>\n",
              "      <th>head</th>\n",
              "      <th>text</th>\n",
              "      <th>target</th>\n",
              "      <th>label</th>\n",
              "      <th>character_count</th>\n",
              "      <th>word_count</th>\n",
              "      <th>sentence_count</th>\n",
              "    </tr>\n",
              "  </thead>\n",
              "  <tbody>\n",
              "    <tr>\n",
              "      <th>0</th>\n",
              "      <td>Four ways Bob Corker skewered Donald Trump</td>\n",
              "      <td>image copyright getty images on sunday morning...</td>\n",
              "      <td>1</td>\n",
              "      <td>Real</td>\n",
              "      <td>6186</td>\n",
              "      <td>1045</td>\n",
              "      <td>1</td>\n",
              "    </tr>\n",
              "    <tr>\n",
              "      <th>1</th>\n",
              "      <td>Linklater's war veteran comedy speaks to moder...</td>\n",
              "      <td>london reuters last flag flying a comedydrama ...</td>\n",
              "      <td>1</td>\n",
              "      <td>Real</td>\n",
              "      <td>3176</td>\n",
              "      <td>543</td>\n",
              "      <td>1</td>\n",
              "    </tr>\n",
              "    <tr>\n",
              "      <th>2</th>\n",
              "      <td>Trump’s Fight With Corker Jeopardizes His Legi...</td>\n",
              "      <td>the feud broke into public view last week when...</td>\n",
              "      <td>1</td>\n",
              "      <td>Real</td>\n",
              "      <td>6335</td>\n",
              "      <td>1079</td>\n",
              "      <td>1</td>\n",
              "    </tr>\n",
              "    <tr>\n",
              "      <th>3</th>\n",
              "      <td>Egypt's Cheiron wins tie-up with Pemex for Mex...</td>\n",
              "      <td>mexico city reuters egypts cheiron holdings li...</td>\n",
              "      <td>1</td>\n",
              "      <td>Real</td>\n",
              "      <td>609</td>\n",
              "      <td>96</td>\n",
              "      <td>1</td>\n",
              "    </tr>\n",
              "    <tr>\n",
              "      <th>4</th>\n",
              "      <td>Jason Aldean opens 'SNL' with Vegas tribute</td>\n",
              "      <td>country singer jason aldean who was performing...</td>\n",
              "      <td>1</td>\n",
              "      <td>Real</td>\n",
              "      <td>204</td>\n",
              "      <td>37</td>\n",
              "      <td>1</td>\n",
              "    </tr>\n",
              "    <tr>\n",
              "      <th>...</th>\n",
              "      <td>...</td>\n",
              "      <td>...</td>\n",
              "      <td>...</td>\n",
              "      <td>...</td>\n",
              "      <td>...</td>\n",
              "      <td>...</td>\n",
              "      <td>...</td>\n",
              "    </tr>\n",
              "    <tr>\n",
              "      <th>4004</th>\n",
              "      <td>Trends to Watch</td>\n",
              "      <td>trends to watch of readers think this story is...</td>\n",
              "      <td>0</td>\n",
              "      <td>Fake</td>\n",
              "      <td>1713</td>\n",
              "      <td>316</td>\n",
              "      <td>1</td>\n",
              "    </tr>\n",
              "    <tr>\n",
              "      <th>4005</th>\n",
              "      <td>Trump Jr. Is Soon To Give A 30-Minute Speech F...</td>\n",
              "      <td>trump jr is soon to give a 30minute speech for...</td>\n",
              "      <td>0</td>\n",
              "      <td>Fake</td>\n",
              "      <td>276</td>\n",
              "      <td>55</td>\n",
              "      <td>1</td>\n",
              "    </tr>\n",
              "    <tr>\n",
              "      <th>4006</th>\n",
              "      <td>Ron Paul on Trump, Anarchism &amp; the AltRight</td>\n",
              "      <td></td>\n",
              "      <td>0</td>\n",
              "      <td>Fake</td>\n",
              "      <td>0</td>\n",
              "      <td>0</td>\n",
              "      <td>0</td>\n",
              "    </tr>\n",
              "    <tr>\n",
              "      <th>4007</th>\n",
              "      <td>China to accept overseas trial data in bid to ...</td>\n",
              "      <td>shanghai reuters china said it plans to accept...</td>\n",
              "      <td>1</td>\n",
              "      <td>Real</td>\n",
              "      <td>1925</td>\n",
              "      <td>315</td>\n",
              "      <td>1</td>\n",
              "    </tr>\n",
              "    <tr>\n",
              "      <th>4008</th>\n",
              "      <td>Vice President Mike Pence Leaves NFL Game Beca...</td>\n",
              "      <td>vice president mike pence leaves nfl game beca...</td>\n",
              "      <td>0</td>\n",
              "      <td>Fake</td>\n",
              "      <td>3324</td>\n",
              "      <td>572</td>\n",
              "      <td>1</td>\n",
              "    </tr>\n",
              "  </tbody>\n",
              "</table>\n",
              "<p>4009 rows × 7 columns</p>\n",
              "</div>\n",
              "      <button class=\"colab-df-convert\" onclick=\"convertToInteractive('df-d0f35154-1c9f-492e-823c-b1c0d2d07666')\"\n",
              "              title=\"Convert this dataframe to an interactive table.\"\n",
              "              style=\"display:none;\">\n",
              "\n",
              "  <svg xmlns=\"http://www.w3.org/2000/svg\" height=\"24px\"viewBox=\"0 0 24 24\"\n",
              "       width=\"24px\">\n",
              "    <path d=\"M0 0h24v24H0V0z\" fill=\"none\"/>\n",
              "    <path d=\"M18.56 5.44l.94 2.06.94-2.06 2.06-.94-2.06-.94-.94-2.06-.94 2.06-2.06.94zm-11 1L8.5 8.5l.94-2.06 2.06-.94-2.06-.94L8.5 2.5l-.94 2.06-2.06.94zm10 10l.94 2.06.94-2.06 2.06-.94-2.06-.94-.94-2.06-.94 2.06-2.06.94z\"/><path d=\"M17.41 7.96l-1.37-1.37c-.4-.4-.92-.59-1.43-.59-.52 0-1.04.2-1.43.59L10.3 9.45l-7.72 7.72c-.78.78-.78 2.05 0 2.83L4 21.41c.39.39.9.59 1.41.59.51 0 1.02-.2 1.41-.59l7.78-7.78 2.81-2.81c.8-.78.8-2.07 0-2.86zM5.41 20L4 18.59l7.72-7.72 1.47 1.35L5.41 20z\"/>\n",
              "  </svg>\n",
              "      </button>\n",
              "\n",
              "\n",
              "\n",
              "    <div id=\"df-67ffb66b-ce9e-4f7c-9237-a51243143804\">\n",
              "      <button class=\"colab-df-quickchart\" onclick=\"quickchart('df-67ffb66b-ce9e-4f7c-9237-a51243143804')\"\n",
              "              title=\"Suggest charts.\"\n",
              "              style=\"display:none;\">\n",
              "\n",
              "<svg xmlns=\"http://www.w3.org/2000/svg\" height=\"24px\"viewBox=\"0 0 24 24\"\n",
              "     width=\"24px\">\n",
              "    <g>\n",
              "        <path d=\"M19 3H5c-1.1 0-2 .9-2 2v14c0 1.1.9 2 2 2h14c1.1 0 2-.9 2-2V5c0-1.1-.9-2-2-2zM9 17H7v-7h2v7zm4 0h-2V7h2v10zm4 0h-2v-4h2v4z\"/>\n",
              "    </g>\n",
              "</svg>\n",
              "      </button>\n",
              "    </div>\n",
              "\n",
              "<style>\n",
              "  .colab-df-quickchart {\n",
              "    background-color: #E8F0FE;\n",
              "    border: none;\n",
              "    border-radius: 50%;\n",
              "    cursor: pointer;\n",
              "    display: none;\n",
              "    fill: #1967D2;\n",
              "    height: 32px;\n",
              "    padding: 0 0 0 0;\n",
              "    width: 32px;\n",
              "  }\n",
              "\n",
              "  .colab-df-quickchart:hover {\n",
              "    background-color: #E2EBFA;\n",
              "    box-shadow: 0px 1px 2px rgba(60, 64, 67, 0.3), 0px 1px 3px 1px rgba(60, 64, 67, 0.15);\n",
              "    fill: #174EA6;\n",
              "  }\n",
              "\n",
              "  [theme=dark] .colab-df-quickchart {\n",
              "    background-color: #3B4455;\n",
              "    fill: #D2E3FC;\n",
              "  }\n",
              "\n",
              "  [theme=dark] .colab-df-quickchart:hover {\n",
              "    background-color: #434B5C;\n",
              "    box-shadow: 0px 1px 3px 1px rgba(0, 0, 0, 0.15);\n",
              "    filter: drop-shadow(0px 1px 2px rgba(0, 0, 0, 0.3));\n",
              "    fill: #FFFFFF;\n",
              "  }\n",
              "</style>\n",
              "\n",
              "    <script>\n",
              "      async function quickchart(key) {\n",
              "        const containerElement = document.querySelector('#' + key);\n",
              "        const charts = await google.colab.kernel.invokeFunction(\n",
              "            'suggestCharts', [key], {});\n",
              "      }\n",
              "    </script>\n",
              "\n",
              "      <script>\n",
              "\n",
              "function displayQuickchartButton(domScope) {\n",
              "  let quickchartButtonEl =\n",
              "    domScope.querySelector('#df-67ffb66b-ce9e-4f7c-9237-a51243143804 button.colab-df-quickchart');\n",
              "  quickchartButtonEl.style.display =\n",
              "    google.colab.kernel.accessAllowed ? 'block' : 'none';\n",
              "}\n",
              "\n",
              "        displayQuickchartButton(document);\n",
              "      </script>\n",
              "      <style>\n",
              "    .colab-df-container {\n",
              "      display:flex;\n",
              "      flex-wrap:wrap;\n",
              "      gap: 12px;\n",
              "    }\n",
              "\n",
              "    .colab-df-convert {\n",
              "      background-color: #E8F0FE;\n",
              "      border: none;\n",
              "      border-radius: 50%;\n",
              "      cursor: pointer;\n",
              "      display: none;\n",
              "      fill: #1967D2;\n",
              "      height: 32px;\n",
              "      padding: 0 0 0 0;\n",
              "      width: 32px;\n",
              "    }\n",
              "\n",
              "    .colab-df-convert:hover {\n",
              "      background-color: #E2EBFA;\n",
              "      box-shadow: 0px 1px 2px rgba(60, 64, 67, 0.3), 0px 1px 3px 1px rgba(60, 64, 67, 0.15);\n",
              "      fill: #174EA6;\n",
              "    }\n",
              "\n",
              "    [theme=dark] .colab-df-convert {\n",
              "      background-color: #3B4455;\n",
              "      fill: #D2E3FC;\n",
              "    }\n",
              "\n",
              "    [theme=dark] .colab-df-convert:hover {\n",
              "      background-color: #434B5C;\n",
              "      box-shadow: 0px 1px 3px 1px rgba(0, 0, 0, 0.15);\n",
              "      filter: drop-shadow(0px 1px 2px rgba(0, 0, 0, 0.3));\n",
              "      fill: #FFFFFF;\n",
              "    }\n",
              "  </style>\n",
              "\n",
              "      <script>\n",
              "        const buttonEl =\n",
              "          document.querySelector('#df-d0f35154-1c9f-492e-823c-b1c0d2d07666 button.colab-df-convert');\n",
              "        buttonEl.style.display =\n",
              "          google.colab.kernel.accessAllowed ? 'block' : 'none';\n",
              "\n",
              "        async function convertToInteractive(key) {\n",
              "          const element = document.querySelector('#df-d0f35154-1c9f-492e-823c-b1c0d2d07666');\n",
              "          const dataTable =\n",
              "            await google.colab.kernel.invokeFunction('convertToInteractive',\n",
              "                                                     [key], {});\n",
              "          if (!dataTable) return;\n",
              "\n",
              "          const docLinkHtml = 'Like what you see? Visit the ' +\n",
              "            '<a target=\"_blank\" href=https://colab.research.google.com/notebooks/data_table.ipynb>data table notebook</a>'\n",
              "            + ' to learn more about interactive tables.';\n",
              "          element.innerHTML = '';\n",
              "          dataTable['output_type'] = 'display_data';\n",
              "          await google.colab.output.renderOutput(dataTable, element);\n",
              "          const docLink = document.createElement('div');\n",
              "          docLink.innerHTML = docLinkHtml;\n",
              "          element.appendChild(docLink);\n",
              "        }\n",
              "      </script>\n",
              "    </div>\n",
              "  </div>\n"
            ],
            "text/plain": [
              "                                                   head  \\\n",
              "0            Four ways Bob Corker skewered Donald Trump   \n",
              "1     Linklater's war veteran comedy speaks to moder...   \n",
              "2     Trump’s Fight With Corker Jeopardizes His Legi...   \n",
              "3     Egypt's Cheiron wins tie-up with Pemex for Mex...   \n",
              "4           Jason Aldean opens 'SNL' with Vegas tribute   \n",
              "...                                                 ...   \n",
              "4004                                    Trends to Watch   \n",
              "4005  Trump Jr. Is Soon To Give A 30-Minute Speech F...   \n",
              "4006        Ron Paul on Trump, Anarchism & the AltRight   \n",
              "4007  China to accept overseas trial data in bid to ...   \n",
              "4008  Vice President Mike Pence Leaves NFL Game Beca...   \n",
              "\n",
              "                                                   text  target label  \\\n",
              "0     image copyright getty images on sunday morning...       1  Real   \n",
              "1     london reuters last flag flying a comedydrama ...       1  Real   \n",
              "2     the feud broke into public view last week when...       1  Real   \n",
              "3     mexico city reuters egypts cheiron holdings li...       1  Real   \n",
              "4     country singer jason aldean who was performing...       1  Real   \n",
              "...                                                 ...     ...   ...   \n",
              "4004  trends to watch of readers think this story is...       0  Fake   \n",
              "4005  trump jr is soon to give a 30minute speech for...       0  Fake   \n",
              "4006                                                          0  Fake   \n",
              "4007  shanghai reuters china said it plans to accept...       1  Real   \n",
              "4008  vice president mike pence leaves nfl game beca...       0  Fake   \n",
              "\n",
              "      character_count  word_count  sentence_count  \n",
              "0                6186        1045               1  \n",
              "1                3176         543               1  \n",
              "2                6335        1079               1  \n",
              "3                 609          96               1  \n",
              "4                 204          37               1  \n",
              "...               ...         ...             ...  \n",
              "4004             1713         316               1  \n",
              "4005              276          55               1  \n",
              "4006                0           0               0  \n",
              "4007             1925         315               1  \n",
              "4008             3324         572               1  \n",
              "\n",
              "[4009 rows x 7 columns]"
            ]
          },
          "execution_count": 91,
          "metadata": {},
          "output_type": "execute_result"
        }
      ],
      "source": [
        "df"
      ]
    },
    {
      "cell_type": "code",
      "execution_count": null,
      "metadata": {
        "id": "MsP0G_yesdN0"
      },
      "outputs": [],
      "source": [
        "# cor=df[[\"target\",\"character_count\",\"word_count\"]].corr()\n",
        "# plt.figure(figsize=(7,5))\n",
        "# sns.heatmap(cor,annot=True,cmap=\"jet\",linewidths=7, linecolor='darkorange')\n",
        "# cor.to_csv(f'{path}_cor.csv')\n",
        "# plt.savefig(f'{path}_cor.png',bbox_inches='tight')\n",
        "# plt.show()"
      ]
    },
    {
      "cell_type": "markdown",
      "metadata": {
        "id": "q_aEBXu1sdN0"
      },
      "source": [
        "# Data Length"
      ]
    },
    {
      "cell_type": "code",
      "execution_count": null,
      "metadata": {
        "id": "awzby3knzz-g"
      },
      "outputs": [],
      "source": [
        "df['len'] = df['text'].str.split().apply(len)"
      ]
    },
    {
      "cell_type": "code",
      "execution_count": null,
      "metadata": {
        "id": "xvSY3jDG-q3Z"
      },
      "outputs": [],
      "source": [
        "df = df[df['len']>5]"
      ]
    },
    {
      "cell_type": "code",
      "execution_count": null,
      "metadata": {
        "id": "fUFhUg2KsdN0"
      },
      "outputs": [],
      "source": [
        "# notdisaster_len=df[df[\"target\"]==0][\"text\"].str.split().apply(len)\n",
        "# disaster_len=df[df[\"target\"]==1][\"text\"].str.split().apply(len)\n",
        "# plt.figure(figsize=(7,5))\n",
        "# plt.hist(notdisaster_len, bins=40,label='Fake',color=\"red\")\n",
        "# plt.hist(disaster_len , bins=40, label='Real',color=\"green\")\n",
        "# plt.xlim(0,2000)\n",
        "# plt.title(\"Real Vs Fake tweet\")\n",
        "# plt.legend()\n",
        "# notdisaster_len.to_csv(f'{path}_Fake_len.csv',index=False)\n",
        "# disaster_len.to_csv(f'{path}_Real_len.csv',index=False)\n",
        "\n",
        "# plt.savefig(f'{path}_Real-Fake_len.png',bbox_inches='tight')\n",
        "# plt.show()"
      ]
    },
    {
      "cell_type": "markdown",
      "metadata": {
        "id": "k8ZXnDE6sdN0"
      },
      "source": [
        "# ALL Data Wordcloud"
      ]
    },
    {
      "cell_type": "code",
      "execution_count": null,
      "metadata": {
        "id": "K408onTIsdN0"
      },
      "outputs": [],
      "source": [
        "# plt.figure(figsize=(16,8),dpi=600)\n",
        "# all_text=\" \".join(df['text'].values.tolist())\n",
        "# wordcloud = WordCloud(width=1200, height=800,stopwords=STOPWORDS, background_color='navy', max_words=500,colormap=\"hsv\").generate(all_text)\n",
        "# plt.imshow(wordcloud, interpolation='bilinear')\n",
        "# plt.axis('off')\n",
        "# plt.savefig(f'{path}_all_data.png',bbox_inches='tight')\n",
        "# plt.show()"
      ]
    },
    {
      "cell_type": "markdown",
      "metadata": {
        "id": "P3BAanyhsdN0"
      },
      "source": [
        "# Disaster Data Wordcloud"
      ]
    },
    {
      "cell_type": "code",
      "source": [
        "data"
      ],
      "metadata": {
        "colab": {
          "base_uri": "https://localhost:8080/",
          "height": 178
        },
        "id": "pG0LE4y2VBnY",
        "outputId": "114c60f6-cd42-4fbd-9f29-64e366b24529"
      },
      "execution_count": 1,
      "outputs": [
        {
          "output_type": "error",
          "ename": "NameError",
          "evalue": "ignored",
          "traceback": [
            "\u001b[0;31m---------------------------------------------------------------------------\u001b[0m",
            "\u001b[0;31mNameError\u001b[0m                                 Traceback (most recent call last)",
            "\u001b[0;32m<ipython-input-1-c5d84736ba45>\u001b[0m in \u001b[0;36m<cell line: 1>\u001b[0;34m()\u001b[0m\n\u001b[0;32m----> 1\u001b[0;31m \u001b[0mdata\u001b[0m\u001b[0;34m\u001b[0m\u001b[0;34m\u001b[0m\u001b[0m\n\u001b[0m",
            "\u001b[0;31mNameError\u001b[0m: name 'data' is not defined"
          ]
        }
      ]
    },
    {
      "cell_type": "code",
      "execution_count": null,
      "metadata": {
        "id": "xg32L7WisdN0"
      },
      "outputs": [],
      "source": [
        "plt.figure(figsize=(16,8),dpi=600)\n",
        "disaster_wordcloud=df[df[\"target\"]==1]\n",
        "disaster_text=\" \".join(disaster_wordcloud['text'].values.tolist())\n",
        "wordcloud = WordCloud(width=1200, height=800,stopwords=STOPWORDS, background_color='navy', max_words=500,colormap=\"hsv\").generate(disaster_text)\n",
        "plt.imshow(wordcloud, interpolation='bilinear')\n",
        "plt.axis('off')\n",
        "plt.savefig(f'{path}_disaster_data.png',bbox_inches='tight')\n",
        "plt.show()"
      ]
    },
    {
      "cell_type": "markdown",
      "metadata": {
        "id": "6uHz4NwMsdN1"
      },
      "source": [
        "# Non Disaster Wordcloud"
      ]
    },
    {
      "cell_type": "code",
      "execution_count": null,
      "metadata": {
        "id": "ppuImQNIsdN1"
      },
      "outputs": [],
      "source": [
        "# plt.figure(figsize=(16,8),dpi=600)\n",
        "# nondisaster_wordcloud=df[df[\"target\"]==0]\n",
        "# nondisaster_text=\" \".join(nondisaster_wordcloud['text'].values.tolist())\n",
        "# wordcloud = WordCloud(width=1200, height=800,stopwords=STOPWORDS, background_color='navy', max_words=500,colormap=\"hsv\").generate(nondisaster_text)\n",
        "# plt.imshow(wordcloud, interpolation='bilinear')\n",
        "# plt.axis('off')\n",
        "# plt.savefig(f'{path}_non_disaster_data.png',bbox_inches='tight')\n",
        "# plt.show()"
      ]
    },
    {
      "cell_type": "markdown",
      "metadata": {
        "id": "ioc-Xu_osdN1"
      },
      "source": [
        "# 30 Most common Words From All Text"
      ]
    },
    {
      "cell_type": "code",
      "execution_count": null,
      "metadata": {
        "id": "-Srq2-NbsdN1"
      },
      "outputs": [],
      "source": [
        "# data_set =df[\"text\"].str.split()\n",
        "# all_words = list(chain.from_iterable(data_set))\n",
        "# counter = Counter(all_words)\n",
        "# common_words = counter.most_common(30)\n",
        "# df_common_words = pd.DataFrame(common_words, columns=['Word', 'Count'])\n",
        "\n",
        "# colors = [\"darkviolet\", \"chocolate\", \"mediumslateblue\", \"darkgreen\", \"orangered\", \"mediumblue\", \"peru\", \"mediumspringgreen\",\n",
        "#     \"lightcoral\", \"darkslategray\", \"olivedrab\", \"dodgerblue\", \"indianred\", \"limegreen\", \"steelblue\",\n",
        "#           \"royalblue\", \"darkorchid\", \"darkturquoise\", \"darkgoldenrod\", \"mediumvioletred\", \"mediumaquamarine\",\n",
        "\n",
        "#           \"cyan\", \"lime\", \"magenta\", \"gold\", \"purple\", \"tomato\", \"teal\", \"sandybrown\", \"mediumseagreen\"]\n",
        "\n",
        "# plt.figure(figsize=(12, 6))\n",
        "# sns.barplot(x='Count', y='Word', data=df_common_words, palette=colors)\n",
        "# plt.title('30 Most Common Words')\n",
        "# plt.xlabel('Count')\n",
        "# plt.ylabel('Word')\n",
        "# df_common_words.to_csv(f'{path}_df_common_words.csv')\n",
        "# plt.savefig(f'{path}_df_common_words.png',bbox_inches='tight')\n",
        "# plt.show()\n"
      ]
    },
    {
      "cell_type": "markdown",
      "metadata": {
        "id": "zoFgyRIisdN1"
      },
      "source": [
        "# Most Common Words From Non Disaster Text"
      ]
    },
    {
      "cell_type": "code",
      "execution_count": null,
      "metadata": {
        "id": "T9-LqJt4sdN1"
      },
      "outputs": [],
      "source": [
        "# no_disaster_text = df[df[\"target\"] == 0]\n",
        "# data_set = no_disaster_text[\"text\"].str.split()\n",
        "# all_words = [word for sublist in data_set for word in sublist]\n",
        "# counter = Counter(all_words)\n",
        "# common_words = counter.most_common(30)\n",
        "# df_common_words = pd.DataFrame(common_words, columns=['Word', 'Count'])\n",
        "# plt.figure(figsize=(12, 8))\n",
        "# sns.barplot(x='Count', y='Word', data=df_common_words,palette=\"Set1\")\n",
        "# plt.title('30 Most Common Words Fake')\n",
        "# plt.xlabel('Count Fake')\n",
        "# plt.ylabel('Fake Word')\n",
        "# plt.ylabel('Word')\n",
        "# df_common_words.to_csv(f'{path}_df_common_words_Fake.csv')\n",
        "# plt.savefig(f'{path}_df_common_words_Fake.png',bbox_inches='tight')\n",
        "# plt.show()\n",
        "\n"
      ]
    },
    {
      "cell_type": "markdown",
      "metadata": {
        "id": "3ZP-IRfgsdN1"
      },
      "source": [
        "# 30 Most Common Words From Disaster Text"
      ]
    },
    {
      "cell_type": "code",
      "execution_count": null,
      "metadata": {
        "id": "1vToqQ6hsdN1"
      },
      "outputs": [],
      "source": [
        "# disaster_text = df[df[\"target\"] == 1]\n",
        "# data_set = disaster_text[\"text\"].str.split()\n",
        "# all_words = [word for sublist in data_set for word in sublist]\n",
        "# counter = Counter(all_words)\n",
        "# common_words = counter.most_common(30)\n",
        "# df_common_words = pd.DataFrame(common_words, columns=['Word', 'Count'])\n",
        "# plt.figure(figsize=(12, 8))\n",
        "# colors = [\"red\", \"green\", \"blue\", \"yellow\", \"orange\", \"purple\", \"pink\", \"brown\", \"gray\",\n",
        "#           \"cyan\", \"magenta\", \"teal\", \"olive\", \"lime\", \"navy\", \"maroon\", \"aquamarine\",\n",
        "#           \"coral\", \"gold\", \"indigo\", \"lavender\", \"salmon\", \"silver\", \"tan\", \"violet\",\n",
        "#           \"crimson\", \"darkgreen\", \"darkblue\", \"darkorange\", \"deeppink\"]\n",
        "# sns.barplot(x='Count', y='Word', data=df_common_words,palette=colors)\n",
        "# plt.title('30 Most Common Words Real')\n",
        "# plt.xlabel('Count  Real')\n",
        "# plt.ylabel('Real Word')\n",
        "# df_common_words.to_csv(f'{path}_df_common_words_Real.csv')\n",
        "# plt.savefig(f'{path}_df_common_words_Real.png',bbox_inches='tight')\n",
        "# plt.show()\n"
      ]
    },
    {
      "cell_type": "markdown",
      "metadata": {
        "id": "KeFhkM3_sdN1"
      },
      "source": [
        "# Character Count"
      ]
    },
    {
      "cell_type": "code",
      "execution_count": null,
      "metadata": {
        "id": "Y3XSQj5JsdN1"
      },
      "outputs": [],
      "source": [
        "# color=[\"red\",\"green\"]\n",
        "# plt.figure(figsize=(7,5))\n",
        "\n",
        "# sns.histplot(data=df,x=\"character_count\",palette=color,kde=True,hue=\"label\",element=\"step\",stat=\"density\")\n",
        "# plt.title(\"Character Count\",fontsize=15,color=\"darkblue\")\n",
        "# df['character_count'].to_csv(f'{path}_character_count.csv')\n",
        "# plt.savefig(f'{path}_character_count.png',bbox_inches='tight')\n",
        "# plt.show()"
      ]
    },
    {
      "cell_type": "markdown",
      "metadata": {
        "id": "OwtjmNtJsdN1"
      },
      "source": [
        "# Word Count"
      ]
    },
    {
      "cell_type": "code",
      "execution_count": null,
      "metadata": {
        "id": "Dobu8vs6sdN1"
      },
      "outputs": [],
      "source": [
        "# color=[\"navy\",\"darkorange\"]\n",
        "# plt.figure(figsize=(7,5))\n",
        "\n",
        "# sns.histplot(data=df,x=\"word_count\",palette=color,kde=True,hue=\"label\")\n",
        "# plt.title(\"Word Count\",fontsize=15,color=\"darkblue\")\n",
        "# plt.xlim(0,2000)\n",
        "# df[['word_count','label']].to_csv(f'{path}_word_count.csv')\n",
        "# plt.savefig(f'{path}_word_count.png',bbox_inches='tight')\n",
        "# plt.show()"
      ]
    },
    {
      "cell_type": "markdown",
      "metadata": {
        "id": "qN4vOls2sdN1"
      },
      "source": [
        "# Sentence Count"
      ]
    },
    {
      "cell_type": "code",
      "execution_count": null,
      "metadata": {
        "colab": {
          "base_uri": "https://localhost:8080/"
        },
        "execution": {
          "iopub.execute_input": "2023-07-10T19:19:19.514502Z",
          "iopub.status.busy": "2023-07-10T19:19:19.5138Z",
          "iopub.status.idle": "2023-07-10T19:19:19.521503Z",
          "shell.execute_reply": "2023-07-10T19:19:19.520285Z",
          "shell.execute_reply.started": "2023-07-10T19:19:19.514465Z"
        },
        "id": "rEm7CTMtsdN5",
        "outputId": "d0bdf798-f49b-49bd-84fd-4c0c90497937"
      },
      "outputs": [
        {
          "name": "stderr",
          "output_type": "stream",
          "text": [
            "<ipython-input-106-2231b8039d64>:1: SettingWithCopyWarning: \n",
            "A value is trying to be set on a copy of a slice from a DataFrame\n",
            "\n",
            "See the caveats in the documentation: https://pandas.pydata.org/pandas-docs/stable/user_guide/indexing.html#returning-a-view-versus-a-copy\n",
            "  df.drop([\"character_count\",\"word_count\",\"sentence_count\"],axis=1,inplace=True)\n"
          ]
        }
      ],
      "source": [
        "df.drop([\"character_count\",\"word_count\",\"sentence_count\"],axis=1,inplace=True)"
      ]
    },
    {
      "cell_type": "markdown",
      "metadata": {
        "id": "yXrP7CfPsdN5"
      },
      "source": [
        "# Average Sentence Length"
      ]
    },
    {
      "cell_type": "code",
      "execution_count": null,
      "metadata": {
        "colab": {
          "base_uri": "https://localhost:8080/"
        },
        "id": "6vvWGTMc_q0w",
        "outputId": "76465e79-13d5-4398-cba3-7b586b856477"
      },
      "outputs": [
        {
          "data": {
            "text/plain": [
              "482.5110330992979"
            ]
          },
          "execution_count": 109,
          "metadata": {},
          "output_type": "execute_result"
        }
      ],
      "source": [
        "df['len'].mean()"
      ]
    },
    {
      "cell_type": "code",
      "execution_count": null,
      "metadata": {
        "colab": {
          "base_uri": "https://localhost:8080/"
        },
        "execution": {
          "iopub.execute_input": "2023-07-10T19:19:19.523881Z",
          "iopub.status.busy": "2023-07-10T19:19:19.523478Z",
          "iopub.status.idle": "2023-07-10T19:19:19.54002Z",
          "shell.execute_reply": "2023-07-10T19:19:19.538968Z",
          "shell.execute_reply.started": "2023-07-10T19:19:19.523845Z"
        },
        "id": "RHiWTmuJsdN5",
        "outputId": "d58d5979-d051-4915-cb22-709f62312cde"
      },
      "outputs": [
        {
          "name": "stdout",
          "output_type": "stream",
          "text": [
            "Average Text Length is : 482.51\n"
          ]
        }
      ],
      "source": [
        "avg_len=df[\"text\"].str.split().apply(len)\n",
        "avg_len=avg_len.mean()\n",
        "print(f\"Average Text Length is : {avg_len:.2f}\")"
      ]
    },
    {
      "cell_type": "markdown",
      "metadata": {
        "id": "SfTx7M9EsdN6"
      },
      "source": [
        "# Maximum Length"
      ]
    },
    {
      "cell_type": "code",
      "execution_count": 78,
      "metadata": {
        "execution": {
          "iopub.execute_input": "2023-07-10T19:19:19.542275Z",
          "iopub.status.busy": "2023-07-10T19:19:19.54163Z",
          "iopub.status.idle": "2023-07-10T19:19:19.546731Z",
          "shell.execute_reply": "2023-07-10T19:19:19.545625Z",
          "shell.execute_reply.started": "2023-07-10T19:19:19.542233Z"
        },
        "id": "mIJpu18NsdN6"
      },
      "outputs": [],
      "source": [
        "SEQ_LEN=30"
      ]
    },
    {
      "cell_type": "code",
      "execution_count": 80,
      "metadata": {
        "execution": {
          "iopub.execute_input": "2023-07-10T19:19:19.548928Z",
          "iopub.status.busy": "2023-07-10T19:19:19.548273Z",
          "iopub.status.idle": "2023-07-10T19:19:19.557858Z",
          "shell.execute_reply": "2023-07-10T19:19:19.557111Z",
          "shell.execute_reply.started": "2023-07-10T19:19:19.548889Z"
        },
        "id": "JrmkolYHsdN6"
      },
      "outputs": [],
      "source": [
        "\n",
        "text_data=df[\"text\"]\n",
        "label_data=df[\"is_rumor\"]\n",
        "label_data=np.array(label_data)"
      ]
    },
    {
      "cell_type": "markdown",
      "metadata": {
        "id": "BOiyIqKEA5KU"
      },
      "source": [
        "# Teransformer 2"
      ]
    },
    {
      "cell_type": "code",
      "execution_count": null,
      "metadata": {
        "id": "lJ8ruGiKoGhn"
      },
      "outputs": [],
      "source": [
        "# SEQ_LEN = 1250"
      ]
    },
    {
      "cell_type": "code",
      "source": [
        "tf.keras.backend.clear_session()"
      ],
      "metadata": {
        "id": "Nsuky782w0Ce"
      },
      "execution_count": 81,
      "outputs": []
    },
    {
      "cell_type": "code",
      "execution_count": 82,
      "metadata": {
        "id": "Q6BNjmP_oOL0"
      },
      "outputs": [],
      "source": [
        "# pip install transformers"
      ]
    },
    {
      "cell_type": "code",
      "execution_count": 83,
      "metadata": {
        "id": "uZ4pXCGsoJS1"
      },
      "outputs": [],
      "source": [
        "from transformers import AutoTokenizer\n",
        "from transformers import TFAutoModel"
      ]
    },
    {
      "cell_type": "code",
      "source": [
        "# m = \"stevhliu/my_awesome_model\"\n",
        "# m = 'TheBloke/llama-2-70b-Guanaco-QLoRA-fp16'\n",
        "# m = 'GPT2'\n",
        "# m = 'vinai/bertweet-base'\n",
        "# m = 'GPT-4/GPT-3'\n",
        "# m = 'tum-nlp/IDMGSP-Galactica-TRAIN_GPT3'\n",
        "# m = 'asi/albert-act-small'\n",
        "# m ='prajjwal1/bert-tiny'\n",
        "# m = 'asi/albert-act-base'\n",
        "m = 'albert-base-v2'"
      ],
      "metadata": {
        "id": "HuRc0pJ3Pvh2"
      },
      "execution_count": 212,
      "outputs": []
    },
    {
      "cell_type": "code",
      "execution_count": 213,
      "metadata": {
        "colab": {
          "base_uri": "https://localhost:8080/",
          "height": 113,
          "referenced_widgets": [
            "5d2c37c3fad6461b954bcb828f25063b",
            "10e2408a298741c29f9274bcb0dfc84f",
            "824bbcacd70341dfa8d48bd6c5f258dd",
            "bfdbd626c37e4fbdb93e4a2537084401",
            "0e14585c64bb4b62b45d5197eccab8b3",
            "e87e0e28cc304bcbb66eb363450b9fc9",
            "0284d349f06a43a2b1ca114fb413c47a",
            "7250dd89d02146929724a6ee205c0c27",
            "65436111143847ea8290b0d8de99ae84",
            "33e23d591cef44e68cd12876e7661d0e",
            "68f501055f064fdf82f6c229a9c56cf5",
            "902a5244238243759dc4f3d1482d1489",
            "f274fd31fda44f199848805f33b09a01",
            "f44392d4efa0484481fb22100b3b50a0",
            "0ad9f73a173343529b651ca7a5e38e7e",
            "4838459e47b741888001c4cf79cb3708",
            "a43f16b8911e49e2a63d6cf81ef798ad",
            "4f926f0187d9416f99bcab9facc258d5",
            "86b2fdaba0f840de92274b00aaca4200",
            "d7c41a89387c4395aa10b9a38086bbe4",
            "c9af258770f9490cb1610faef5c90ca7",
            "60a34c8eb1f843a8901fa9207d412d3f",
            "e6861bf2b4384851997198af573498ae",
            "3ea4f957e00e47cfb809012e5e6fb21f",
            "dd9418bf34ef4cd5bb64b71c307223b5",
            "7705f904ca6748b0876f42e634ef49e4",
            "07537e3b837142048262c8db3711fed1",
            "211e439c748c466f872160f899e15ae1",
            "2c4d45ff52d94541a38d5f3372140870",
            "baaeab4a2d3d4377ba90b26b21b4ed4d",
            "a888ce92038c4ae68840073a07a3a18e",
            "ba2058bc19af4820bf905201eccf3acd",
            "f3ca3be0c71646879a33cfe8ce72ebc6"
          ]
        },
        "id": "JuedeZpbA8JA",
        "outputId": "3e2ec0a4-ab4a-459d-e59a-53996032e941"
      },
      "outputs": [
        {
          "output_type": "display_data",
          "data": {
            "text/plain": [
              "Downloading (…)lve/main/config.json:   0%|          | 0.00/684 [00:00<?, ?B/s]"
            ],
            "application/vnd.jupyter.widget-view+json": {
              "version_major": 2,
              "version_minor": 0,
              "model_id": "5d2c37c3fad6461b954bcb828f25063b"
            }
          },
          "metadata": {}
        },
        {
          "output_type": "display_data",
          "data": {
            "text/plain": [
              "Downloading (…)ve/main/spiece.model:   0%|          | 0.00/760k [00:00<?, ?B/s]"
            ],
            "application/vnd.jupyter.widget-view+json": {
              "version_major": 2,
              "version_minor": 0,
              "model_id": "902a5244238243759dc4f3d1482d1489"
            }
          },
          "metadata": {}
        },
        {
          "output_type": "display_data",
          "data": {
            "text/plain": [
              "Downloading (…)/main/tokenizer.json:   0%|          | 0.00/1.31M [00:00<?, ?B/s]"
            ],
            "application/vnd.jupyter.widget-view+json": {
              "version_major": 2,
              "version_minor": 0,
              "model_id": "e6861bf2b4384851997198af573498ae"
            }
          },
          "metadata": {}
        }
      ],
      "source": [
        "tokenizer = AutoTokenizer.from_pretrained(m)"
      ]
    },
    {
      "cell_type": "code",
      "execution_count": 214,
      "metadata": {
        "colab": {
          "base_uri": "https://localhost:8080/",
          "height": 156,
          "referenced_widgets": [
            "3345c1839f2d4fecac3d66653ed112a2",
            "1a99fe96b3f04adabd75f674fd6e57dd",
            "8e249314aeec4696b805b9dc4ae0b740",
            "0930fb52ea3641619525133bdbb0e746",
            "7bcae80999ad4a6abdb12e6e7ce903c9",
            "8d18dba722be4162836784e2381912d1",
            "7a84bc2dc2e04c3a91b44bccfe893c9b",
            "7bcc95608a104380a4eaa7a49227e31d",
            "38542e077114472ab4654722a47ecef0",
            "296f0245173c4d62a7b1c6555e503ec2",
            "7275795e33ba4de7adcf30df9b2e108e"
          ]
        },
        "id": "dz0EzgpTA8JE",
        "outputId": "15ed40e3-b65d-4145-bff0-3f769a621ceb"
      },
      "outputs": [
        {
          "output_type": "display_data",
          "data": {
            "text/plain": [
              "Downloading pytorch_model.bin:   0%|          | 0.00/47.4M [00:00<?, ?B/s]"
            ],
            "application/vnd.jupyter.widget-view+json": {
              "version_major": 2,
              "version_minor": 0,
              "model_id": "3345c1839f2d4fecac3d66653ed112a2"
            }
          },
          "metadata": {}
        },
        {
          "output_type": "stream",
          "name": "stderr",
          "text": [
            "Some weights of the PyTorch model were not used when initializing the TF 2.0 model TFAlbertModel: ['predictions.bias', 'predictions.LayerNorm.bias', 'predictions.decoder.weight', 'predictions.decoder.bias', 'predictions.dense.weight', 'predictions.dense.bias', 'predictions.LayerNorm.weight']\n",
            "- This IS expected if you are initializing TFAlbertModel from a PyTorch model trained on another task or with another architecture (e.g. initializing a TFBertForSequenceClassification model from a BertForPreTraining model).\n",
            "- This IS NOT expected if you are initializing TFAlbertModel from a PyTorch model that you expect to be exactly identical (e.g. initializing a TFBertForSequenceClassification model from a BertForSequenceClassification model).\n",
            "All the weights of TFAlbertModel were initialized from the PyTorch model.\n",
            "If your task is similar to the task the model of the checkpoint was trained on, you can already use TFAlbertModel for predictions without further training.\n"
          ]
        }
      ],
      "source": [
        "bert = TFAutoModel.from_pretrained(m,from_pt=True)"
      ]
    },
    {
      "cell_type": "code",
      "source": [
        "# AutoTokenizer.from_pretrained"
      ],
      "metadata": {
        "id": "MeFueQZvPFWv"
      },
      "execution_count": 215,
      "outputs": []
    },
    {
      "cell_type": "code",
      "execution_count": 216,
      "metadata": {
        "id": "uWFL-z5eBAj8"
      },
      "outputs": [],
      "source": [
        "data = df\n"
      ]
    },
    {
      "cell_type": "code",
      "execution_count": 217,
      "metadata": {
        "id": "0dJOHOjHBc6E"
      },
      "outputs": [],
      "source": [
        "# SEQ_LEN = 22"
      ]
    },
    {
      "cell_type": "code",
      "execution_count": 218,
      "metadata": {
        "id": "qrOy9yJ6AYHX"
      },
      "outputs": [],
      "source": [
        "# data = data.sample(frac=0.1)"
      ]
    },
    {
      "cell_type": "code",
      "execution_count": 219,
      "metadata": {
        "id": "X2WGlOcUqE4B"
      },
      "outputs": [],
      "source": [
        "Xids = np.zeros((len(data),SEQ_LEN))\n",
        "Xmask = np.zeros((len(data),SEQ_LEN))\n"
      ]
    },
    {
      "cell_type": "code",
      "execution_count": 220,
      "metadata": {
        "colab": {
          "base_uri": "https://localhost:8080/"
        },
        "id": "m5xruxlzqTWp",
        "outputId": "f2447188-08e8-408d-b638-839db1ba9085"
      },
      "outputs": [
        {
          "output_type": "execute_result",
          "data": {
            "text/plain": [
              "(5800, 30)"
            ]
          },
          "metadata": {},
          "execution_count": 220
        }
      ],
      "source": [
        "Xids.shape"
      ]
    },
    {
      "cell_type": "code",
      "source": [
        "# tokenizer.eos_token"
      ],
      "metadata": {
        "id": "BQpHODsiSs8y"
      },
      "execution_count": 221,
      "outputs": []
    },
    {
      "cell_type": "code",
      "source": [
        "# tokenizer.pad_token = '<|PAD|>'"
      ],
      "metadata": {
        "id": "i3e-V95nSAT2"
      },
      "execution_count": 222,
      "outputs": []
    },
    {
      "cell_type": "code",
      "execution_count": 223,
      "metadata": {
        "id": "gmgMfId5qVgd"
      },
      "outputs": [],
      "source": [
        "for i, sequence in enumerate(data['text']):\n",
        "    tokens = tokenizer.encode_plus(\n",
        "    sequence,\n",
        "    max_length = SEQ_LEN,\n",
        "    truncation=True,\n",
        "    padding=\"max_length\",\n",
        "    add_special_tokens=True,\n",
        "    return_token_type_ids=False,\n",
        "    return_attention_mask=True,\n",
        "    return_tensors='tf'\n",
        "    )\n",
        "    Xids[i, :], Xmask[i, :] = tokens['input_ids'], tokens['attention_mask']"
      ]
    },
    {
      "cell_type": "code",
      "execution_count": 224,
      "metadata": {
        "id": "5tUwiF8iBFSN"
      },
      "outputs": [],
      "source": [
        "import tensorflow as tf"
      ]
    },
    {
      "cell_type": "code",
      "execution_count": 225,
      "metadata": {
        "colab": {
          "base_uri": "https://localhost:8080/"
        },
        "id": "sZOq4El7swYr",
        "outputId": "2d67f170-9c6d-4ecb-e561-84fa85848a68"
      },
      "outputs": [
        {
          "output_type": "execute_result",
          "data": {
            "text/plain": [
              "[PhysicalDevice(name='/physical_device:GPU:0', device_type='GPU')]"
            ]
          },
          "metadata": {},
          "execution_count": 225
        }
      ],
      "source": [
        "tf.config.experimental.list_physical_devices('GPU')"
      ]
    },
    {
      "cell_type": "code",
      "execution_count": 226,
      "metadata": {
        "id": "D_d8CJvKXT6K"
      },
      "outputs": [],
      "source": [
        "labels = data['is_rumor']"
      ]
    },
    {
      "cell_type": "code",
      "execution_count": 227,
      "metadata": {
        "id": "87QHbeRgs8OC"
      },
      "outputs": [],
      "source": [
        "dataset = tf.data.Dataset.from_tensor_slices((Xids, Xmask, labels))"
      ]
    },
    {
      "cell_type": "code",
      "execution_count": 228,
      "metadata": {
        "id": "-RoQO_2yzIpd"
      },
      "outputs": [],
      "source": [
        "# labels.sum(axis=0)"
      ]
    },
    {
      "cell_type": "code",
      "execution_count": 229,
      "metadata": {
        "id": "_vkAXTwVtQKK"
      },
      "outputs": [],
      "source": [
        "def map_func(input_ids, masks, labels):\n",
        "    return{'input_ids': input_ids, 'attention_mask':masks}, labels"
      ]
    },
    {
      "cell_type": "code",
      "execution_count": 230,
      "metadata": {
        "id": "wJAbvBXftorM"
      },
      "outputs": [],
      "source": [
        "dataset = dataset.map(map_func)"
      ]
    },
    {
      "cell_type": "code",
      "execution_count": 231,
      "metadata": {
        "id": "YPZSvVu3tv1d"
      },
      "outputs": [],
      "source": [
        "dataset = dataset.shuffle(1000000).batch(32)"
      ]
    },
    {
      "cell_type": "code",
      "execution_count": 232,
      "metadata": {
        "id": "x5cqp_CDt7av"
      },
      "outputs": [],
      "source": [
        "DS_LEN = len(list(dataset))"
      ]
    },
    {
      "cell_type": "code",
      "execution_count": 233,
      "metadata": {
        "colab": {
          "base_uri": "https://localhost:8080/"
        },
        "id": "tb-JpMdvt-d4",
        "outputId": "4f348898-4182-4359-95e0-1325eddbe346"
      },
      "outputs": [
        {
          "output_type": "execute_result",
          "data": {
            "text/plain": [
              "182"
            ]
          },
          "metadata": {},
          "execution_count": 233
        }
      ],
      "source": [
        "DS_LEN"
      ]
    },
    {
      "cell_type": "code",
      "execution_count": 234,
      "metadata": {
        "id": "zJeJrde_0VPP"
      },
      "outputs": [],
      "source": [
        "# round(DS_LEN*SPLIT)"
      ]
    },
    {
      "cell_type": "code",
      "execution_count": 235,
      "metadata": {
        "id": "AHStkojW0a0w"
      },
      "outputs": [],
      "source": [
        "# len(train)"
      ]
    },
    {
      "cell_type": "code",
      "execution_count": 236,
      "metadata": {
        "id": "OL9m2oDz1j2j"
      },
      "outputs": [],
      "source": [
        "DATASET_SIZE = len(dataset)"
      ]
    },
    {
      "cell_type": "code",
      "execution_count": 237,
      "metadata": {
        "id": "W3aksvWY1bZy"
      },
      "outputs": [],
      "source": [
        "train_size = int(0.60 * DATASET_SIZE)\n",
        "val_size = int(0.15 * DATASET_SIZE)\n",
        "test_size = int(0.25 * DATASET_SIZE)\n",
        "\n",
        "full_dataset = dataset\n",
        "full_dataset = full_dataset.shuffle(123424242)\n",
        "train_dataset = full_dataset.take(train_size)\n",
        "test_dataset = full_dataset.skip(train_size)\n",
        "val_dataset = test_dataset.skip(test_size)\n",
        "test_dataset = test_dataset.take(test_size)"
      ]
    },
    {
      "cell_type": "code",
      "execution_count": 238,
      "metadata": {
        "id": "n0oXnFK92EhC"
      },
      "outputs": [],
      "source": [
        "train = train_dataset\n",
        "test = test_dataset\n",
        "val = val_dataset"
      ]
    },
    {
      "cell_type": "code",
      "execution_count": 239,
      "metadata": {
        "id": "q0ag84j2uAyY"
      },
      "outputs": [],
      "source": [
        "# SPLIT = 0.8\n",
        "# train = dataset.take(round(DS_LEN*SPLIT))\n",
        "# val = dataset.skip(round(DS_LEN*SPLIT))\n",
        "# test = dataset.skip(round())\n",
        "# # del dataset"
      ]
    },
    {
      "cell_type": "code",
      "execution_count": 240,
      "metadata": {
        "colab": {
          "base_uri": "https://localhost:8080/"
        },
        "id": "dD9q-eJiA7m7",
        "outputId": "aa7a7af6-23bf-437a-950a-34b53a873e4b"
      },
      "outputs": [
        {
          "output_type": "execute_result",
          "data": {
            "text/plain": [
              "(5800,)"
            ]
          },
          "metadata": {},
          "execution_count": 240
        }
      ],
      "source": [
        "labels.shape"
      ]
    },
    {
      "cell_type": "code",
      "execution_count": 241,
      "metadata": {
        "id": "P4ykpILyE5Oy"
      },
      "outputs": [],
      "source": [
        "tf.keras.backend.clear_session()"
      ]
    },
    {
      "cell_type": "code",
      "execution_count": 242,
      "metadata": {
        "id": "aaVXm40hueI2"
      },
      "outputs": [],
      "source": [
        "input_ids = tf.keras.layers.Input(shape=(SEQ_LEN,), name='input_ids', dtype='int32')\n",
        "mask = tf.keras.layers.Input(shape=(SEQ_LEN,), name='attention_mask', dtype='int32')\n",
        "\n",
        "embeddings = bert(input_ids, attention_mask=mask)[0]\n",
        "\n",
        "X = tf.keras.layers.GlobalMaxPooling1D()(embeddings)\n",
        "X = tf.keras.layers.BatchNormalization()(X)\n",
        "# X = tf.keras.layers.Dense(32, activation = 'relu')(X)\n",
        "# X = tf.keras.layers.Dropout(0.1)(X)\n",
        "X = tf.keras.layers.Dense(32, activation = 'relu')(X)\n",
        "y = tf.keras.layers.Dense(1, activation = 'sigmoid' , name = 'outputs')(X)\n",
        "\n",
        "model = tf.keras.Model(inputs=[input_ids, mask], outputs = y)"
      ]
    },
    {
      "cell_type": "code",
      "execution_count": 243,
      "metadata": {
        "id": "cNqBGkUI79Yt"
      },
      "outputs": [],
      "source": [
        "model.layers[2].trainable = False"
      ]
    },
    {
      "cell_type": "code",
      "execution_count": 244,
      "metadata": {
        "id": "lWBp-iQV5uS4"
      },
      "outputs": [],
      "source": [
        "# model.load_weights(f'/content/drive/MyDrive/work 39 toxisity/checkpoint')"
      ]
    },
    {
      "cell_type": "code",
      "execution_count": 245,
      "metadata": {
        "colab": {
          "base_uri": "https://localhost:8080/"
        },
        "id": "uKSKOVihvAax",
        "outputId": "e98a9f7d-52d9-4b79-a57f-5a828e148e46"
      },
      "outputs": [
        {
          "output_type": "stream",
          "name": "stdout",
          "text": [
            "Model: \"model\"\n",
            "__________________________________________________________________________________________________\n",
            " Layer (type)                   Output Shape         Param #     Connected to                     \n",
            "==================================================================================================\n",
            " input_ids (InputLayer)         [(None, 30)]         0           []                               \n",
            "                                                                                                  \n",
            " attention_mask (InputLayer)    [(None, 30)]         0           []                               \n",
            "                                                                                                  \n",
            " tf_albert_model (TFAlbertModel  TFBaseModelOutputWi  11683584   ['input_ids[0][0]',              \n",
            " )                              thPooling(last_hidd               'attention_mask[0][0]']         \n",
            "                                en_state=(None, 30,                                               \n",
            "                                 768),                                                            \n",
            "                                 pooler_output=(Non                                               \n",
            "                                e, 768),                                                          \n",
            "                                 hidden_states=None                                               \n",
            "                                , attentions=None)                                                \n",
            "                                                                                                  \n",
            " global_max_pooling1d (GlobalMa  (None, 768)         0           ['tf_albert_model[0][0]']        \n",
            " xPooling1D)                                                                                      \n",
            "                                                                                                  \n",
            " batch_normalization (BatchNorm  (None, 768)         3072        ['global_max_pooling1d[0][0]']   \n",
            " alization)                                                                                       \n",
            "                                                                                                  \n",
            " dense (Dense)                  (None, 32)           24608       ['batch_normalization[0][0]']    \n",
            "                                                                                                  \n",
            " outputs (Dense)                (None, 1)            33          ['dense[0][0]']                  \n",
            "                                                                                                  \n",
            "==================================================================================================\n",
            "Total params: 11,711,297\n",
            "Trainable params: 26,177\n",
            "Non-trainable params: 11,685,120\n",
            "__________________________________________________________________________________________________\n"
          ]
        }
      ],
      "source": [
        "model.summary()"
      ]
    },
    {
      "cell_type": "code",
      "execution_count": 246,
      "metadata": {
        "id": "iYeJ0GyMLqz4"
      },
      "outputs": [],
      "source": [
        "import pandas as pd\n",
        "from keras import layers\n",
        "from keras.layers import Dense, Activation, Flatten, Convolution1D, Dropout,MaxPooling1D\n",
        "from keras.layers import Input, Dense, Dropout, Activation, ZeroPadding2D, BatchNormalization, Flatten, Conv2D, Embedding, Add\n",
        "from keras.layers import Conv1D, GlobalAveragePooling1D, AveragePooling2D, MaxPooling2D, MaxPool1D, ZeroPadding1D, GlobalMaxPooling2D, GlobalAveragePooling2D, LSTM, SpatialDropout1D\n",
        "from keras.models import Sequential, Model\n",
        "from keras.preprocessing import image\n",
        "from keras.utils import plot_model\n",
        "from keras.applications.inception_v3 import InceptionV3\n",
        "from sklearn.model_selection import train_test_split\n",
        "import matplotlib.pyplot as plt\n",
        "from sklearn.metrics import confusion_matrix\n",
        "import seaborn as sns\n",
        "from keras.callbacks import ReduceLROnPlateau , EarlyStopping\n",
        "from keras.utils import to_categorical\n",
        "from tensorflow.keras.optimizers import Adam, Adamax\n",
        "import tensorflow as tf"
      ]
    },
    {
      "cell_type": "code",
      "execution_count": 247,
      "metadata": {
        "id": "pa9I1DFdLq9v"
      },
      "outputs": [],
      "source": [
        "es = EarlyStopping(monitor=\"val_loss\", mode=\"min\", verbose=1, patience=7)\n",
        "learning_rate_reduction = ReduceLROnPlateau(monitor='val_accuracy',\n",
        "                                            patience=5,\n",
        "                                            verbose=1,\n",
        "                                            factor=0.7,\n",
        "                                            min_lr=0.000001)"
      ]
    },
    {
      "cell_type": "code",
      "execution_count": 248,
      "metadata": {
        "id": "KN45mTbg6eHA"
      },
      "outputs": [],
      "source": [
        "from tensorflow.keras.optimizers import Adam, Adamax,RMSprop\n",
        "# Adamax(learning_rate=0.1)"
      ]
    },
    {
      "cell_type": "code",
      "execution_count": 249,
      "metadata": {
        "id": "ZNvCM2ICLq9v"
      },
      "outputs": [],
      "source": [
        "# model.compile(optimizer=Adamax(lr=0.0001), loss='categorical_crossentropy', metrics=['accuracy',tf.keras.metrics.Precision(),tf.keras.metrics.Recall(),tf.keras.metrics.AUC(num_thresholds=3)])\n",
        "model.compile(optimizer=RMSprop(), loss='binary_crossentropy', metrics=['accuracy'])\n",
        "# model.compile(optimizer=Adamax(), loss='binary_crossentropy', metrics=['accuracy'])\n",
        "\n",
        "# tf.keras.utils.plot_model(ann_model, to_file='ann_model.png', show_shapes=True, show_layer_names=True)"
      ]
    },
    {
      "cell_type": "code",
      "execution_count": 250,
      "metadata": {
        "id": "3BmGRIWm_79Q"
      },
      "outputs": [],
      "source": [
        "# model.compile(optimizer=Adam(), loss='binary_crossentropy', metrics=['accuracy','AUC'])\n"
      ]
    },
    {
      "cell_type": "code",
      "execution_count": 251,
      "metadata": {
        "colab": {
          "base_uri": "https://localhost:8080/"
        },
        "id": "qA1RELtXLq9v",
        "outputId": "507695a9-e577-47e2-cb83-cdeeda8e94fb"
      },
      "outputs": [
        {
          "output_type": "stream",
          "name": "stdout",
          "text": [
            "Epoch 1/18\n",
            "109/109 [==============================] - 33s 169ms/step - loss: 0.5812 - accuracy: 0.7503 - val_loss: 0.5200 - val_accuracy: 0.8047 - lr: 0.0010\n",
            "Epoch 2/18\n",
            "109/109 [==============================] - 15s 140ms/step - loss: 0.4977 - accuracy: 0.7795 - val_loss: 0.4559 - val_accuracy: 0.7946 - lr: 0.0010\n",
            "Epoch 3/18\n",
            "109/109 [==============================] - 16s 143ms/step - loss: 0.4573 - accuracy: 0.7985 - val_loss: 0.4134 - val_accuracy: 0.8069 - lr: 0.0010\n",
            "Epoch 4/18\n",
            "109/109 [==============================] - 16s 143ms/step - loss: 0.4422 - accuracy: 0.8066 - val_loss: 0.3967 - val_accuracy: 0.8382 - lr: 0.0010\n",
            "Epoch 5/18\n",
            "109/109 [==============================] - 16s 141ms/step - loss: 0.4035 - accuracy: 0.8245 - val_loss: 0.3538 - val_accuracy: 0.8605 - lr: 0.0010\n",
            "Epoch 6/18\n",
            "109/109 [==============================] - 15s 140ms/step - loss: 0.3854 - accuracy: 0.8349 - val_loss: 0.3617 - val_accuracy: 0.8404 - lr: 0.0010\n",
            "Epoch 7/18\n",
            "109/109 [==============================] - 15s 140ms/step - loss: 0.3563 - accuracy: 0.8478 - val_loss: 0.3422 - val_accuracy: 0.8560 - lr: 0.0010\n",
            "Epoch 8/18\n",
            "109/109 [==============================] - 16s 145ms/step - loss: 0.3502 - accuracy: 0.8515 - val_loss: 0.3007 - val_accuracy: 0.8917 - lr: 0.0010\n",
            "Epoch 9/18\n",
            "109/109 [==============================] - 16s 143ms/step - loss: 0.3327 - accuracy: 0.8620 - val_loss: 0.2793 - val_accuracy: 0.9106 - lr: 0.0010\n",
            "Epoch 10/18\n",
            "109/109 [==============================] - 15s 140ms/step - loss: 0.3092 - accuracy: 0.8779 - val_loss: 0.2283 - val_accuracy: 0.9185 - lr: 0.0010\n",
            "Epoch 11/18\n",
            "109/109 [==============================] - 15s 140ms/step - loss: 0.2885 - accuracy: 0.8863 - val_loss: 0.2409 - val_accuracy: 0.9186 - lr: 0.0010\n",
            "Epoch 12/18\n",
            "109/109 [==============================] - 15s 140ms/step - loss: 0.2728 - accuracy: 0.8941 - val_loss: 0.2295 - val_accuracy: 0.9185 - lr: 0.0010\n",
            "Epoch 13/18\n",
            "109/109 [==============================] - 15s 139ms/step - loss: 0.2434 - accuracy: 0.9105 - val_loss: 0.2184 - val_accuracy: 0.9230 - lr: 0.0010\n",
            "Epoch 14/18\n",
            "109/109 [==============================] - 16s 143ms/step - loss: 0.2258 - accuracy: 0.9192 - val_loss: 0.1789 - val_accuracy: 0.9330 - lr: 0.0010\n",
            "Epoch 15/18\n",
            "109/109 [==============================] - 16s 142ms/step - loss: 0.2186 - accuracy: 0.9209 - val_loss: 0.1553 - val_accuracy: 0.9554 - lr: 0.0010\n",
            "Epoch 16/18\n",
            "109/109 [==============================] - 15s 140ms/step - loss: 0.2056 - accuracy: 0.9237 - val_loss: 0.1662 - val_accuracy: 0.9554 - lr: 0.0010\n",
            "Epoch 17/18\n",
            "109/109 [==============================] - 15s 140ms/step - loss: 0.1801 - accuracy: 0.9369 - val_loss: 0.1580 - val_accuracy: 0.9598 - lr: 0.0010\n",
            "Epoch 18/18\n",
            "109/109 [==============================] - 16s 142ms/step - loss: 0.1778 - accuracy: 0.9385 - val_loss: 0.1171 - val_accuracy: 0.9654 - lr: 0.0010\n"
          ]
        }
      ],
      "source": [
        "num_epochs = 18\n",
        "# early_stop = EarlyStopping(monitor='val_accuracy', patience=6,restore_best_weights=True)\n",
        "history = model.fit(train,\n",
        "                    # batch_size=32,\n",
        "                    epochs=num_epochs,\n",
        "                    # validati0on_split=0.2,\n",
        "                    validation_data=[val],\n",
        "                    callbacks =[\n",
        "                        learning_rate_reduction,\n",
        "                                es\n",
        "                                ],\n",
        "                    # verbose=0\n",
        "                    )"
      ]
    },
    {
      "cell_type": "code",
      "source": [
        "# os.mkdir(f'{path0}44/')\n",
        "# path0\n",
        "# path2 = f'{path0}44/'"
      ],
      "metadata": {
        "id": "8UbAt5C75e4U"
      },
      "execution_count": 252,
      "outputs": []
    },
    {
      "cell_type": "code",
      "execution_count": 253,
      "metadata": {
        "id": "ftTAXPXHCYk7"
      },
      "outputs": [],
      "source": [
        "model.save_weights(f'{path0}checkpoint')"
      ]
    },
    {
      "cell_type": "code",
      "execution_count": 254,
      "metadata": {
        "id": "qJo4zcS-pyUk"
      },
      "outputs": [],
      "source": [
        "# precision = tf.keras.metrics.Precision()\n",
        "# recall = tf.keras.metrics.Recall()\n",
        "# accuracy = tf.keras.metrics.CategoricalAccuracy()\n",
        "# auc = tf.keras.metrics.AUC(num_thresholds=6)\n",
        "tr = []\n",
        "pr = []\n",
        "l = 0\n",
        "# for k in range(len(val)):\n",
        "\n",
        "\n",
        "for i,j in test.take(-1):\n",
        "  # l += 1\n",
        "  # print(l)\n",
        "  s = model.predict(i,verbose=0)\n",
        "  tr.append(np.array(j))\n",
        "  pr.append(np.array(s))\n",
        "#   precision.update_state(s,j)\n",
        "#   accuracy.update_state(s,j)\n",
        "#   auc.update_state(s,j)\n",
        "#   recall.update_state(s,j)\n",
        "# pre = precision.result().numpy()\n",
        "# rec = recall.result().numpy()\n",
        "# au = auc.result().numpy()\n",
        "# acc = accuracy.result().numpy()\n",
        "# print(pre,rec,au,acc)"
      ]
    },
    {
      "cell_type": "code",
      "execution_count": 255,
      "metadata": {
        "id": "hwjAGseEyWfS"
      },
      "outputs": [],
      "source": [
        "yp = np.concatenate([y for y in pr], axis=0)\n",
        "yt = np.concatenate([y for y in tr], axis=0)\n"
      ]
    },
    {
      "cell_type": "code",
      "execution_count": 256,
      "metadata": {
        "colab": {
          "base_uri": "https://localhost:8080/"
        },
        "id": "UPhkhBIH9hRL",
        "outputId": "bf24779e-5f21-4fbe-be38-7665a135675d"
      },
      "outputs": [
        {
          "output_type": "stream",
          "name": "stdout",
          "text": [
            "              precision    recall  f1-score   support\n",
            "\n",
            "         0.0       0.97      0.99      0.98      1128\n",
            "         1.0       0.97      0.88      0.92       288\n",
            "\n",
            "    accuracy                           0.97      1416\n",
            "   macro avg       0.97      0.93      0.95      1416\n",
            "weighted avg       0.97      0.97      0.97      1416\n",
            "\n"
          ]
        }
      ],
      "source": [
        "yp[yp < 0.5] = 0\n",
        "yp[yp > 0.5] = 1\n",
        "# y1 = y_test\n",
        "print(classification_report(yt,yp,zero_division=True))"
      ]
    },
    {
      "cell_type": "code",
      "source": [
        "yp = yp.reshape(-1,)"
      ],
      "metadata": {
        "id": "d5obWg-l8uNC"
      },
      "execution_count": 257,
      "outputs": []
    },
    {
      "cell_type": "code",
      "source": [
        "np.sum(yt==yp)/yt.shape[0]"
      ],
      "metadata": {
        "colab": {
          "base_uri": "https://localhost:8080/"
        },
        "id": "6bom3ZHX84Fa",
        "outputId": "54ded13d-f75c-4e63-8329-115c5505f8cd"
      },
      "execution_count": 258,
      "outputs": [
        {
          "output_type": "execute_result",
          "data": {
            "text/plain": [
              "0.969632768361582"
            ]
          },
          "metadata": {},
          "execution_count": 258
        }
      ]
    },
    {
      "cell_type": "code",
      "execution_count": 259,
      "metadata": {
        "id": "dpTZ2mg9US7-"
      },
      "outputs": [],
      "source": [
        "yp = np.concatenate([y for y in pr], axis=0)\n",
        "yt = np.concatenate([y for y in tr], axis=0)\n"
      ]
    },
    {
      "cell_type": "code",
      "source": [
        "yp"
      ],
      "metadata": {
        "colab": {
          "base_uri": "https://localhost:8080/"
        },
        "id": "CPp2_dz_8pzW",
        "outputId": "9dc626ac-87c3-4593-9cbe-da1e58504ea1"
      },
      "execution_count": 260,
      "outputs": [
        {
          "output_type": "execute_result",
          "data": {
            "text/plain": [
              "array([[0.9683653 ],\n",
              "       [0.02080899],\n",
              "       [0.00823737],\n",
              "       ...,\n",
              "       [0.01941914],\n",
              "       [0.02805892],\n",
              "       [0.02655102]], dtype=float32)"
            ]
          },
          "metadata": {},
          "execution_count": 260
        }
      ]
    },
    {
      "cell_type": "code",
      "execution_count": 261,
      "metadata": {
        "id": "wqSl3OJm-A3p"
      },
      "outputs": [],
      "source": [
        "y1 = yp.reshape(-1,) # np.zeros((y_test.shape[0],))\n",
        "y2 = yt.reshape(-1,)\n",
        "ff = pd.DataFrame(columns=['real','predicted'],)\n",
        "ff['real'] = y2\n",
        "ff['predicted'] = y1\n",
        "pa = 'Albert'\n",
        "\n",
        "ff.to_csv(f'{path0}{pa}3.csv',index=False)"
      ]
    },
    {
      "cell_type": "code",
      "execution_count": null,
      "metadata": {
        "id": "7PfJ0pB09hce"
      },
      "outputs": [],
      "source": [
        "from sklearn.metrics import classification_report\n",
        "\n",
        "def savemod(model,pa,y_test,X_test,path=path):\n",
        "    y2 = model.predict(X_test)\n",
        "    y2_ = np.array(y2)\n",
        "    y2_[y2_ < 0.5] = 0\n",
        "    y2_[y2_ > 0.5] = 1\n",
        "    y1 = y_test\n",
        "    print(classification_report(y1,y2_,target_names=target_names))\n",
        "    y1 = y1.reshape(-1,) # np.zeros((y_test.shape[0],))\n",
        "    y2 = y2.reshape(-1,)\n",
        "    # y2 = y_   # np.zeros((y_test.shape[0],))\n",
        "    # y2[y2 < 0.5] = 0\n",
        "    # y2[y2 > 0.5] = 1\n",
        "\n",
        "    # for i in range(len(y_test)):\n",
        "        # y1[i] = 1 if y1> 0.5 else 0\n",
        "        # y2[i] = y_test[i].argmax()\n",
        "    ff = pd.DataFrame(columns=['real','predicted'],)\n",
        "    ff['real'] = y2\n",
        "    ff['predicted'] = y1\n",
        "\n",
        "\n",
        "    ff.to_csv(f'{path}{pa}.csv',index=False)"
      ]
    },
    {
      "cell_type": "code",
      "execution_count": null,
      "metadata": {
        "id": "BkdS2FiyDjS0"
      },
      "outputs": [],
      "source": [
        "# model.compile(optimizer=Adamax(lr=0.0001), loss='categorical_crossentropy', metrics=['accuracy',tf.keras.metrics.Precision(),tf.keras.metrics.Recall(),tf.keras.metrics.AUC(num_thresholds=3)])\n",
        "model.compile(optimizer=Adam(learning_rate=1e-6), loss='binary_crossentropy', metrics=['accuracy','AUC'])\n",
        "\n",
        "# tf.keras.utils.plot_model(ann_model, to_file='ann_model.png', show_shapes=True, show_layer_names=True)"
      ]
    },
    {
      "cell_type": "code",
      "execution_count": null,
      "metadata": {
        "id": "g8MeZbg8DhV8"
      },
      "outputs": [],
      "source": [
        "num_epochs = 50\n",
        "# early_stop = EarlyStopping(monitor='val_accuracy', patience=6,restore_best_weights=True)\n",
        "history = model.fit(train,\n",
        "                    # batch_size=32,\n",
        "                    epochs=num_epochs,\n",
        "                    # validati0on_split=0.2,\n",
        "                    validation_data=[val],\n",
        "                    callbacks =[\n",
        "                        learning_rate_reduction,\n",
        "                                es\n",
        "                                ],\n",
        "                    # verbose=0\n",
        "                    )"
      ]
    },
    {
      "cell_type": "code",
      "execution_count": null,
      "metadata": {
        "id": "c2uvYpbtIkC5"
      },
      "outputs": [],
      "source": []
    },
    {
      "cell_type": "code",
      "execution_count": null,
      "metadata": {
        "id": "kQ1OLR_NIj_g"
      },
      "outputs": [],
      "source": []
    },
    {
      "cell_type": "markdown",
      "metadata": {
        "id": "aRif-AtcJER-"
      },
      "source": [
        "# simple models"
      ]
    },
    {
      "cell_type": "code",
      "execution_count": null,
      "metadata": {
        "id": "29RJjaoNJT7x"
      },
      "outputs": [],
      "source": [
        "data = df"
      ]
    },
    {
      "cell_type": "code",
      "execution_count": 142,
      "metadata": {
        "id": "spdvhKMAAfmR"
      },
      "outputs": [],
      "source": [
        "import tensorflow as tf\n",
        "import pandas as pd\n",
        "from keras import layers\n",
        "from keras.layers import Dense, Activation, Flatten, Convolution1D, Dropout,MaxPooling1D\n",
        "from keras.layers import Input, Dense, Dropout, Activation, ZeroPadding2D, BatchNormalization, Flatten, Conv2D, Embedding, Add\n",
        "from keras.layers import Conv1D, GlobalAveragePooling1D, AveragePooling2D, MaxPooling2D, MaxPool1D, ZeroPadding1D, GlobalMaxPooling2D, GlobalAveragePooling2D, LSTM, SpatialDropout1D\n",
        "from keras.models import Sequential, Model\n",
        "from keras.preprocessing import image\n",
        "from keras.utils import plot_model\n",
        "from keras.applications.inception_v3 import InceptionV3\n",
        "from sklearn.model_selection import train_test_split\n",
        "import matplotlib.pyplot as plt\n",
        "from sklearn.metrics import confusion_matrix\n",
        "import seaborn as sns\n",
        "from keras.callbacks import ReduceLROnPlateau , EarlyStopping\n",
        "from keras.utils import to_categorical\n",
        "from tensorflow.keras.optimizers import Adam, Adamax\n",
        "import tensorflow as tf\n",
        "from tensorflow.keras.optimizers import Adam, Adamax,RMSprop\n",
        "learning_rate_reduction = ReduceLROnPlateau(monitor='val_accuracy',\n",
        "                                            patience=5,\n",
        "                                            verbose=1,\n",
        "                                            factor=0.7,\n",
        "                                            min_lr=0.000001)"
      ]
    },
    {
      "cell_type": "code",
      "execution_count": 143,
      "metadata": {
        "id": "lgolYNWY1poD"
      },
      "outputs": [],
      "source": [
        "from keras.preprocessing.text import Tokenizer\n",
        "from tensorflow.keras.preprocessing.sequence import pad_sequences\n",
        "import numpy as np\n",
        "maxlen = 30\n",
        "max_words = 3000\n",
        "tokenizer = Tokenizer(num_words=max_words)\n",
        "tokenizer.fit_on_texts(data['text'])\n",
        "Xsequences = tokenizer.texts_to_sequences(data['text'])"
      ]
    },
    {
      "cell_type": "code",
      "execution_count": 144,
      "metadata": {
        "id": "YMvt-p28fh8y"
      },
      "outputs": [],
      "source": [
        "Xsequences = tf.keras.preprocessing.sequence.pad_sequences(Xsequences, maxlen=maxlen)"
      ]
    },
    {
      "cell_type": "code",
      "execution_count": 145,
      "metadata": {
        "id": "8QJvL7-BJgzY"
      },
      "outputs": [],
      "source": [
        "# labels = data['target']"
      ]
    },
    {
      "cell_type": "code",
      "execution_count": 146,
      "metadata": {
        "id": "tssENIl6JgzY"
      },
      "outputs": [],
      "source": [
        "dataset = tf.data.Dataset.from_tensor_slices((Xsequences, labels))"
      ]
    },
    {
      "cell_type": "code",
      "execution_count": 147,
      "metadata": {
        "id": "PiwoVwpaJgzZ"
      },
      "outputs": [],
      "source": [
        "dataset = dataset.shuffle(1000000).batch(32)"
      ]
    },
    {
      "cell_type": "code",
      "execution_count": 148,
      "metadata": {
        "id": "ezB4xm9BJgzZ"
      },
      "outputs": [],
      "source": [
        "DS_LEN = len(list(dataset))"
      ]
    },
    {
      "cell_type": "code",
      "execution_count": 149,
      "metadata": {
        "colab": {
          "base_uri": "https://localhost:8080/"
        },
        "id": "GDMeDQ9mJgzZ",
        "outputId": "527b27ca-b492-46dc-971a-5643741e24f5"
      },
      "outputs": [
        {
          "output_type": "execute_result",
          "data": {
            "text/plain": [
              "182"
            ]
          },
          "metadata": {},
          "execution_count": 149
        }
      ],
      "source": [
        "DS_LEN"
      ]
    },
    {
      "cell_type": "code",
      "execution_count": 150,
      "metadata": {
        "id": "lo8cDBX2JgzZ"
      },
      "outputs": [],
      "source": [
        "DATASET_SIZE = len(dataset)"
      ]
    },
    {
      "cell_type": "code",
      "execution_count": 151,
      "metadata": {
        "id": "dQ1U92WrJgzZ"
      },
      "outputs": [],
      "source": [
        "train_size = int(0.60 * DATASET_SIZE)\n",
        "val_size = int(0.15 * DATASET_SIZE)\n",
        "test_size = int(0.25 * DATASET_SIZE)\n",
        "\n",
        "full_dataset = dataset\n",
        "full_dataset = full_dataset.shuffle(123424242)\n",
        "train_dataset = full_dataset.take(train_size)\n",
        "test_dataset = full_dataset.skip(train_size)\n",
        "val_dataset = test_dataset.skip(test_size)\n",
        "test_dataset = test_dataset.take(test_size)"
      ]
    },
    {
      "cell_type": "code",
      "execution_count": 152,
      "metadata": {
        "id": "vrRBE7G4JgzZ"
      },
      "outputs": [],
      "source": [
        "train = train_dataset\n",
        "test = test_dataset\n",
        "val = val_dataset"
      ]
    },
    {
      "cell_type": "code",
      "execution_count": 153,
      "metadata": {
        "id": "QUfErZzXAt-7"
      },
      "outputs": [],
      "source": [
        "embedding_dim = 30"
      ]
    },
    {
      "cell_type": "code",
      "execution_count": 154,
      "metadata": {
        "id": "CQC-0rqeLRzw"
      },
      "outputs": [],
      "source": [
        "pa = '2D-CNN'"
      ]
    },
    {
      "cell_type": "code",
      "execution_count": 164,
      "metadata": {
        "colab": {
          "base_uri": "https://localhost:8080/"
        },
        "id": "uWML9QD4hjqU",
        "outputId": "79e4655d-cead-46e9-8c9d-8f1db17cc56d"
      },
      "outputs": [
        {
          "output_type": "stream",
          "name": "stdout",
          "text": [
            "Model: \"sequential_1\"\n",
            "_________________________________________________________________\n",
            " Layer (type)                Output Shape              Param #   \n",
            "=================================================================\n",
            " embedding_1 (Embedding)     (None, 30, 30)            90000     \n",
            "                                                                 \n",
            " conv1d (Conv1D)             (None, 29, 32)            1952      \n",
            "                                                                 \n",
            " conv1d_1 (Conv1D)           (None, 28, 64)            4160      \n",
            "                                                                 \n",
            " global_average_pooling1d (G  (None, 64)               0         \n",
            " lobalAveragePooling1D)                                          \n",
            "                                                                 \n",
            " dense_3 (Dense)             (None, 64)                4160      \n",
            "                                                                 \n",
            " dropout_1 (Dropout)         (None, 64)                0         \n",
            "                                                                 \n",
            " dense_4 (Dense)             (None, 1)                 65        \n",
            "                                                                 \n",
            "=================================================================\n",
            "Total params: 100,337\n",
            "Trainable params: 100,337\n",
            "Non-trainable params: 0\n",
            "_________________________________________________________________\n"
          ]
        }
      ],
      "source": [
        "# Define model architecture\n",
        "model = tf.keras.Sequential([\n",
        "    tf.keras.layers.Embedding(input_dim=max_words,\n",
        "                              output_dim=embedding_dim,input_length=maxlen,\n",
        "                              # weights=[embedding_matrix],\n",
        "                              # trainable=True\n",
        "                              ),\n",
        "    tf.keras.layers.Conv1D(32, 2, activation='relu',),\n",
        "    tf.keras.layers.Conv1D(64, 2, activation='relu'),\n",
        "    # tf.keras.layers.Conv1D(128, 2, activation='relu'),\n",
        "    # tf.keras.layers.Bidirectional(tf.keras.layers.LSTM(32,return_sequences=True)),\n",
        "\n",
        "    # tf.keras.layers.Bidirectional(tf.keras.layers.LSTM(32,return_sequences=True)),\n",
        "    # tf.keras.layers.Bidirectional(tf.keras.layers.LSTM(32,return_sequences=True)),\n",
        "    # tf.keras.layers.Bidirectional(tf.keras.layers.LSTM(32)),\n",
        "    tf.keras.layers.GlobalAveragePooling1D(),\n",
        "    tf.keras.layers.Dense(64, activation='relu'),\n",
        "    tf.keras.layers.Dropout(0.2),\n",
        "    tf.keras.layers.Dense(1, activation='sigmoid')\n",
        "])\n",
        "\n",
        "# Compile model\n",
        "model.compile(loss='binary_crossentropy',\n",
        "              optimizer='adam',\n",
        "              metrics=['accuracy'])\n",
        "\n",
        "\n",
        "model.summary()"
      ]
    },
    {
      "cell_type": "code",
      "execution_count": 165,
      "metadata": {
        "id": "UQ0CFgG6LJjV"
      },
      "outputs": [],
      "source": [
        "es = EarlyStopping(monitor=\"val_loss\", mode=\"min\", verbose=1, patience=7)"
      ]
    },
    {
      "cell_type": "code",
      "execution_count": 166,
      "metadata": {
        "colab": {
          "base_uri": "https://localhost:8080/"
        },
        "id": "-ZHAQEvIhzPT",
        "outputId": "57aa979c-4f84-4ceb-fbdb-1ae4da95108d"
      },
      "outputs": [
        {
          "output_type": "stream",
          "name": "stdout",
          "text": [
            "Epoch 1/6\n",
            "109/109 [==============================] - 21s 129ms/step - loss: 0.5524 - accuracy: 0.7760 - val_loss: 0.4865 - val_accuracy: 0.8069 - lr: 0.0010\n",
            "Epoch 2/6\n",
            "109/109 [==============================] - 8s 73ms/step - loss: 0.5068 - accuracy: 0.7835 - val_loss: 0.4770 - val_accuracy: 0.7935 - lr: 0.0010\n",
            "Epoch 3/6\n",
            "109/109 [==============================] - 7s 60ms/step - loss: 0.4506 - accuracy: 0.7939 - val_loss: 0.3774 - val_accuracy: 0.8225 - lr: 0.0010\n",
            "Epoch 4/6\n",
            "109/109 [==============================] - 6s 53ms/step - loss: 0.3677 - accuracy: 0.8412 - val_loss: 0.3226 - val_accuracy: 0.8683 - lr: 0.0010\n",
            "Epoch 5/6\n",
            "109/109 [==============================] - 8s 70ms/step - loss: 0.3359 - accuracy: 0.8624 - val_loss: 0.2827 - val_accuracy: 0.8862 - lr: 0.0010\n",
            "Epoch 6/6\n",
            "109/109 [==============================] - 6s 53ms/step - loss: 0.3148 - accuracy: 0.8712 - val_loss: 0.2618 - val_accuracy: 0.8940 - lr: 0.0010\n"
          ]
        }
      ],
      "source": [
        "# Train model\n",
        "num_epochs = 6\n",
        "history = model.fit(train,\n",
        "                    # batch_size=32,\n",
        "                    epochs=num_epochs,\n",
        "                    # validati0on_split=0.2,\n",
        "                    validation_data=[val],\n",
        "                    callbacks =[\n",
        "                        learning_rate_reduction,\n",
        "                                es\n",
        "                                ],\n",
        "                    )"
      ]
    },
    {
      "cell_type": "code",
      "execution_count": 167,
      "metadata": {
        "id": "SgdI3HqEKRmG"
      },
      "outputs": [],
      "source": [
        "tr = []\n",
        "pr = []\n",
        "l = 0\n",
        "for i,j in test.take(-1):\n",
        "  s = model.predict(i,verbose=0)\n",
        "  tr.append(np.array(j))\n",
        "  pr.append(np.array(s))"
      ]
    },
    {
      "cell_type": "code",
      "execution_count": 168,
      "metadata": {
        "id": "F97euvG_KRmG"
      },
      "outputs": [],
      "source": [
        "yp = np.concatenate([y for y in pr], axis=0)\n",
        "yt = np.concatenate([y for y in tr], axis=0)\n"
      ]
    },
    {
      "cell_type": "code",
      "execution_count": 169,
      "metadata": {
        "id": "Rt_HZw6lKRmH"
      },
      "outputs": [],
      "source": [
        "from sklearn.metrics import classification_report\n"
      ]
    },
    {
      "cell_type": "code",
      "execution_count": 170,
      "metadata": {
        "colab": {
          "base_uri": "https://localhost:8080/"
        },
        "id": "JV8k7u_lKRmH",
        "outputId": "24e140c1-b2c3-4a73-eaa9-7378916bab4e"
      },
      "outputs": [
        {
          "output_type": "stream",
          "name": "stdout",
          "text": [
            "              precision    recall  f1-score   support\n",
            "\n",
            "         0.0       0.91      0.96      0.93      1129\n",
            "         1.0       0.80      0.65      0.72       311\n",
            "\n",
            "    accuracy                           0.89      1440\n",
            "   macro avg       0.86      0.80      0.83      1440\n",
            "weighted avg       0.89      0.89      0.89      1440\n",
            "\n"
          ]
        }
      ],
      "source": [
        "yp[yp < 0.5] = 0\n",
        "yp[yp > 0.5] = 1\n",
        "# y1 = y_test\n",
        "print(classification_report(yt,yp,zero_division=True))"
      ]
    },
    {
      "cell_type": "code",
      "execution_count": 171,
      "metadata": {
        "id": "3pQk8wjkKRmH"
      },
      "outputs": [],
      "source": [
        "yp = np.concatenate([y for y in pr], axis=0)\n",
        "yt = np.concatenate([y for y in tr], axis=0)\n"
      ]
    },
    {
      "cell_type": "code",
      "execution_count": 172,
      "metadata": {
        "id": "5GIK8ZR1KRmH"
      },
      "outputs": [],
      "source": [
        "y1 = yp.reshape(-1,) # np.zeros((y_test.shape[0],))\n",
        "y2 = yt.reshape(-1,)\n",
        "ff = pd.DataFrame(columns=['real','predicted'],)\n",
        "ff['real'] = y2\n",
        "ff['predicted'] = y1\n",
        "# pa = 'Albert'\n",
        "\n",
        "ff.to_csv(f'{path}{pa}.csv',index=False)"
      ]
    },
    {
      "cell_type": "markdown",
      "metadata": {
        "id": "7rpymqgBVup6"
      },
      "source": [
        "# visualization"
      ]
    },
    {
      "cell_type": "code",
      "execution_count": null,
      "metadata": {
        "id": "lOS3dQkwWCxm"
      },
      "outputs": [],
      "source": [
        "import pandas as pd\n",
        "import numpy as np\n",
        "import seaborn as sns\n",
        "import matplotlib.pyplot as plt\n",
        "from sklearn.metrics import accuracy_score,recall_score\n",
        "from sklearn.metrics import precision_score\n",
        "from sklearn.metrics import roc_auc_score\n",
        "from sklearn.metrics import precision_recall_curve\n",
        "from sklearn.metrics import f1_score\n",
        "from sklearn.metrics import confusion_matrix\n",
        "\n"
      ]
    },
    {
      "cell_type": "code",
      "execution_count": null,
      "metadata": {
        "id": "DfACF0D_WZRx"
      },
      "outputs": [],
      "source": [
        "path = '/content/drive/MyDrive/work 40/results/'"
      ]
    },
    {
      "cell_type": "code",
      "execution_count": null,
      "metadata": {
        "colab": {
          "base_uri": "https://localhost:8080/"
        },
        "id": "IDO0SuIYWP86",
        "outputId": "e17aeaff-25f4-4f4d-db12-c20d6d37245d"
      },
      "outputs": [
        {
          "data": {
            "text/plain": [
              "(array([0.64042443, 0.0129467 , 0.00166151, ..., 0.03736728, 0.97017246,\n",
              "        0.00108268]),\n",
              " array([1, 0, 0, ..., 0, 1, 0]))"
            ]
          },
          "execution_count": 173,
          "metadata": {},
          "output_type": "execute_result"
        }
      ],
      "source": [
        "name = 'Albert3'\n",
        "dg = pd.read_csv(f'{path}{name}.csv')\n",
        "yp,yt = dg['predicted'].to_numpy(),dg['real'].to_numpy()\n",
        "yp,yt"
      ]
    },
    {
      "cell_type": "code",
      "execution_count": null,
      "metadata": {
        "id": "UG8w0hdWZYrp"
      },
      "outputs": [],
      "source": [
        "name = 'Bert-base-uncased'"
      ]
    },
    {
      "cell_type": "code",
      "execution_count": null,
      "metadata": {
        "id": "AwlhPwIfYPLJ"
      },
      "outputs": [],
      "source": [
        "yp[yp < 0.5] = 0\n",
        "yp[yp > 0.5] = 1"
      ]
    },
    {
      "cell_type": "code",
      "execution_count": null,
      "metadata": {
        "id": "SNWX-5FCZAVI"
      },
      "outputs": [],
      "source": [
        "y_test, y_pred = yt,yp"
      ]
    },
    {
      "cell_type": "code",
      "execution_count": null,
      "metadata": {
        "colab": {
          "base_uri": "https://localhost:8080/",
          "height": 206
        },
        "id": "btLiqm2bWP5V",
        "outputId": "ad524e1e-7f77-4865-e3eb-299114695c4f"
      },
      "outputs": [
        {
          "data": {
            "text/html": [
              "\n",
              "\n",
              "  <div id=\"df-774d13d4-adb6-41a6-bae4-02b2f603256e\">\n",
              "    <div class=\"colab-df-container\">\n",
              "      <div>\n",
              "<style scoped>\n",
              "    .dataframe tbody tr th:only-of-type {\n",
              "        vertical-align: middle;\n",
              "    }\n",
              "\n",
              "    .dataframe tbody tr th {\n",
              "        vertical-align: top;\n",
              "    }\n",
              "\n",
              "    .dataframe thead th {\n",
              "        text-align: right;\n",
              "    }\n",
              "</style>\n",
              "<table border=\"1\" class=\"dataframe\">\n",
              "  <thead>\n",
              "    <tr style=\"text-align: right;\">\n",
              "      <th></th>\n",
              "      <th>1D-LSTM</th>\n",
              "      <th>2D-LSTM</th>\n",
              "      <th>4D-LSTM</th>\n",
              "      <th>3D-LSTM</th>\n",
              "      <th>Bert-base-uncased</th>\n",
              "    </tr>\n",
              "  </thead>\n",
              "  <tbody>\n",
              "    <tr>\n",
              "      <th>0</th>\n",
              "      <td>0.890890</td>\n",
              "      <td>0.885064</td>\n",
              "      <td>0.897775</td>\n",
              "      <td>0.877119</td>\n",
              "      <td>0.953316</td>\n",
              "    </tr>\n",
              "    <tr>\n",
              "      <th>1</th>\n",
              "      <td>0.884058</td>\n",
              "      <td>0.866017</td>\n",
              "      <td>0.920873</td>\n",
              "      <td>0.853397</td>\n",
              "      <td>0.960578</td>\n",
              "    </tr>\n",
              "    <tr>\n",
              "      <th>2</th>\n",
              "      <td>0.850444</td>\n",
              "      <td>0.869193</td>\n",
              "      <td>0.833333</td>\n",
              "      <td>0.867879</td>\n",
              "      <td>0.926489</td>\n",
              "    </tr>\n",
              "    <tr>\n",
              "      <th>3</th>\n",
              "      <td>0.866925</td>\n",
              "      <td>0.867602</td>\n",
              "      <td>0.874919</td>\n",
              "      <td>0.860577</td>\n",
              "      <td>0.943226</td>\n",
              "    </tr>\n",
              "    <tr>\n",
              "      <th>4</th>\n",
              "      <td>0.885185</td>\n",
              "      <td>0.883195</td>\n",
              "      <td>0.889765</td>\n",
              "      <td>0.876084</td>\n",
              "      <td>0.949558</td>\n",
              "    </tr>\n",
              "  </tbody>\n",
              "</table>\n",
              "</div>\n",
              "      <button class=\"colab-df-convert\" onclick=\"convertToInteractive('df-774d13d4-adb6-41a6-bae4-02b2f603256e')\"\n",
              "              title=\"Convert this dataframe to an interactive table.\"\n",
              "              style=\"display:none;\">\n",
              "\n",
              "  <svg xmlns=\"http://www.w3.org/2000/svg\" height=\"24px\"viewBox=\"0 0 24 24\"\n",
              "       width=\"24px\">\n",
              "    <path d=\"M0 0h24v24H0V0z\" fill=\"none\"/>\n",
              "    <path d=\"M18.56 5.44l.94 2.06.94-2.06 2.06-.94-2.06-.94-.94-2.06-.94 2.06-2.06.94zm-11 1L8.5 8.5l.94-2.06 2.06-.94-2.06-.94L8.5 2.5l-.94 2.06-2.06.94zm10 10l.94 2.06.94-2.06 2.06-.94-2.06-.94-.94-2.06-.94 2.06-2.06.94z\"/><path d=\"M17.41 7.96l-1.37-1.37c-.4-.4-.92-.59-1.43-.59-.52 0-1.04.2-1.43.59L10.3 9.45l-7.72 7.72c-.78.78-.78 2.05 0 2.83L4 21.41c.39.39.9.59 1.41.59.51 0 1.02-.2 1.41-.59l7.78-7.78 2.81-2.81c.8-.78.8-2.07 0-2.86zM5.41 20L4 18.59l7.72-7.72 1.47 1.35L5.41 20z\"/>\n",
              "  </svg>\n",
              "      </button>\n",
              "\n",
              "\n",
              "\n",
              "    <div id=\"df-6af0fc18-ae19-479c-b775-4944435fa539\">\n",
              "      <button class=\"colab-df-quickchart\" onclick=\"quickchart('df-6af0fc18-ae19-479c-b775-4944435fa539')\"\n",
              "              title=\"Suggest charts.\"\n",
              "              style=\"display:none;\">\n",
              "\n",
              "<svg xmlns=\"http://www.w3.org/2000/svg\" height=\"24px\"viewBox=\"0 0 24 24\"\n",
              "     width=\"24px\">\n",
              "    <g>\n",
              "        <path d=\"M19 3H5c-1.1 0-2 .9-2 2v14c0 1.1.9 2 2 2h14c1.1 0 2-.9 2-2V5c0-1.1-.9-2-2-2zM9 17H7v-7h2v7zm4 0h-2V7h2v10zm4 0h-2v-4h2v4z\"/>\n",
              "    </g>\n",
              "</svg>\n",
              "      </button>\n",
              "    </div>\n",
              "\n",
              "<style>\n",
              "  .colab-df-quickchart {\n",
              "    background-color: #E8F0FE;\n",
              "    border: none;\n",
              "    border-radius: 50%;\n",
              "    cursor: pointer;\n",
              "    display: none;\n",
              "    fill: #1967D2;\n",
              "    height: 32px;\n",
              "    padding: 0 0 0 0;\n",
              "    width: 32px;\n",
              "  }\n",
              "\n",
              "  .colab-df-quickchart:hover {\n",
              "    background-color: #E2EBFA;\n",
              "    box-shadow: 0px 1px 2px rgba(60, 64, 67, 0.3), 0px 1px 3px 1px rgba(60, 64, 67, 0.15);\n",
              "    fill: #174EA6;\n",
              "  }\n",
              "\n",
              "  [theme=dark] .colab-df-quickchart {\n",
              "    background-color: #3B4455;\n",
              "    fill: #D2E3FC;\n",
              "  }\n",
              "\n",
              "  [theme=dark] .colab-df-quickchart:hover {\n",
              "    background-color: #434B5C;\n",
              "    box-shadow: 0px 1px 3px 1px rgba(0, 0, 0, 0.15);\n",
              "    filter: drop-shadow(0px 1px 2px rgba(0, 0, 0, 0.3));\n",
              "    fill: #FFFFFF;\n",
              "  }\n",
              "</style>\n",
              "\n",
              "    <script>\n",
              "      async function quickchart(key) {\n",
              "        const containerElement = document.querySelector('#' + key);\n",
              "        const charts = await google.colab.kernel.invokeFunction(\n",
              "            'suggestCharts', [key], {});\n",
              "      }\n",
              "    </script>\n",
              "\n",
              "      <script>\n",
              "\n",
              "function displayQuickchartButton(domScope) {\n",
              "  let quickchartButtonEl =\n",
              "    domScope.querySelector('#df-6af0fc18-ae19-479c-b775-4944435fa539 button.colab-df-quickchart');\n",
              "  quickchartButtonEl.style.display =\n",
              "    google.colab.kernel.accessAllowed ? 'block' : 'none';\n",
              "}\n",
              "\n",
              "        displayQuickchartButton(document);\n",
              "      </script>\n",
              "      <style>\n",
              "    .colab-df-container {\n",
              "      display:flex;\n",
              "      flex-wrap:wrap;\n",
              "      gap: 12px;\n",
              "    }\n",
              "\n",
              "    .colab-df-convert {\n",
              "      background-color: #E8F0FE;\n",
              "      border: none;\n",
              "      border-radius: 50%;\n",
              "      cursor: pointer;\n",
              "      display: none;\n",
              "      fill: #1967D2;\n",
              "      height: 32px;\n",
              "      padding: 0 0 0 0;\n",
              "      width: 32px;\n",
              "    }\n",
              "\n",
              "    .colab-df-convert:hover {\n",
              "      background-color: #E2EBFA;\n",
              "      box-shadow: 0px 1px 2px rgba(60, 64, 67, 0.3), 0px 1px 3px 1px rgba(60, 64, 67, 0.15);\n",
              "      fill: #174EA6;\n",
              "    }\n",
              "\n",
              "    [theme=dark] .colab-df-convert {\n",
              "      background-color: #3B4455;\n",
              "      fill: #D2E3FC;\n",
              "    }\n",
              "\n",
              "    [theme=dark] .colab-df-convert:hover {\n",
              "      background-color: #434B5C;\n",
              "      box-shadow: 0px 1px 3px 1px rgba(0, 0, 0, 0.15);\n",
              "      filter: drop-shadow(0px 1px 2px rgba(0, 0, 0, 0.3));\n",
              "      fill: #FFFFFF;\n",
              "    }\n",
              "  </style>\n",
              "\n",
              "      <script>\n",
              "        const buttonEl =\n",
              "          document.querySelector('#df-774d13d4-adb6-41a6-bae4-02b2f603256e button.colab-df-convert');\n",
              "        buttonEl.style.display =\n",
              "          google.colab.kernel.accessAllowed ? 'block' : 'none';\n",
              "\n",
              "        async function convertToInteractive(key) {\n",
              "          const element = document.querySelector('#df-774d13d4-adb6-41a6-bae4-02b2f603256e');\n",
              "          const dataTable =\n",
              "            await google.colab.kernel.invokeFunction('convertToInteractive',\n",
              "                                                     [key], {});\n",
              "          if (!dataTable) return;\n",
              "\n",
              "          const docLinkHtml = 'Like what you see? Visit the ' +\n",
              "            '<a target=\"_blank\" href=https://colab.research.google.com/notebooks/data_table.ipynb>data table notebook</a>'\n",
              "            + ' to learn more about interactive tables.';\n",
              "          element.innerHTML = '';\n",
              "          dataTable['output_type'] = 'display_data';\n",
              "          await google.colab.output.renderOutput(dataTable, element);\n",
              "          const docLink = document.createElement('div');\n",
              "          docLink.innerHTML = docLinkHtml;\n",
              "          element.appendChild(docLink);\n",
              "        }\n",
              "      </script>\n",
              "    </div>\n",
              "  </div>\n"
            ],
            "text/plain": [
              "    1D-LSTM   2D-LSTM   4D-LSTM   3D-LSTM  Bert-base-uncased\n",
              "0  0.890890  0.885064  0.897775  0.877119           0.953316\n",
              "1  0.884058  0.866017  0.920873  0.853397           0.960578\n",
              "2  0.850444  0.869193  0.833333  0.867879           0.926489\n",
              "3  0.866925  0.867602  0.874919  0.860577           0.943226\n",
              "4  0.885185  0.883195  0.889765  0.876084           0.949558"
            ]
          },
          "execution_count": 177,
          "metadata": {},
          "output_type": "execute_result"
        }
      ],
      "source": [
        "# k = pd.DataFrame()\n",
        "k[f'{name}'] = [accuracy_score(y_test, y_pred),precision_score(y_test, y_pred),recall_score(y_test, y_pred),f1_score(y_test, y_pred),roc_auc_score(y_test, y_pred)]\n",
        "k"
      ]
    },
    {
      "cell_type": "code",
      "execution_count": null,
      "metadata": {
        "id": "vE_VtLKRWP2i"
      },
      "outputs": [],
      "source": [
        "k.to_csv(f'{path}performance.csv')"
      ]
    },
    {
      "cell_type": "code",
      "execution_count": null,
      "metadata": {
        "id": "JB4FNwveclnv"
      },
      "outputs": [],
      "source": [
        "k.index = ['accuracy','precision','recall','f1','roc-auc']"
      ]
    },
    {
      "cell_type": "code",
      "execution_count": null,
      "metadata": {
        "colab": {
          "base_uri": "https://localhost:8080/",
          "height": 472
        },
        "id": "EW-ISl0Bc1IN",
        "outputId": "1cf89d19-00fa-4ccb-b6bf-e8b486c9eed3"
      },
      "outputs": [
        {
          "data": {
            "image/png": "[encoded data removed]",
            "text/plain": [
              "<Figure size 640x480 with 1 Axes>"
            ]
          },
          "metadata": {},
          "output_type": "display_data"
        }
      ],
      "source": [
        "k.plot(kind='barh')\n",
        "plt.xlim(0.8,1.05)\n",
        "plt.xlabel('Percentage %')\n",
        "plt.title('Performance')\n",
        "plt.savefig(f'{path}{name}.png',bbox_inches='tight')"
      ]
    },
    {
      "cell_type": "code",
      "execution_count": null,
      "metadata": {
        "id": "bDPpgQk3Z2Gq"
      },
      "outputs": [],
      "source": [
        "name = 'D3-LSTM'\n",
        "dg = pd.read_csv(f'{path}{name}.csv')\n",
        "yp,yt = dg['predicted'],dg['real']\n"
      ]
    },
    {
      "cell_type": "code",
      "execution_count": null,
      "metadata": {
        "id": "4G1-aEPfZ4sr"
      },
      "outputs": [],
      "source": [
        "\n",
        "y1 = np.array(list(yt[yt==1].index))\n",
        "y0 = np.array(list(yt[yt==0].index))\n"
      ]
    },
    {
      "cell_type": "code",
      "execution_count": null,
      "metadata": {
        "colab": {
          "base_uri": "https://localhost:8080/",
          "height": 472
        },
        "id": "a449_ZI7amOT",
        "outputId": "8032963c-822c-4a24-9dc1-30b96ae8cefd"
      },
      "outputs": [
        {
          "data": {
            "image/png": "[encoded data removed]",
            "text/plain": [
              "<Figure size 640x480 with 1 Axes>"
            ]
          },
          "metadata": {},
          "output_type": "display_data"
        }
      ],
      "source": [
        "name = '3D-LSTM'\n",
        "sns.histplot(dg)\n",
        "plt.xlabel('probability')\n",
        "plt.title(f'{name}')\n",
        "dg.to_csv(f'{path}{name}.csv',index=False)\n",
        "plt.savefig(f'{path}{name}.png',bbox_inches='tight')"
      ]
    },
    {
      "cell_type": "markdown",
      "metadata": {
        "id": "CV0oeF0csdN9"
      },
      "source": [
        "# Model predict"
      ]
    },
    {
      "cell_type": "code",
      "execution_count": null,
      "metadata": {
        "execution": {
          "iopub.execute_input": "2023-07-10T19:42:15.491717Z",
          "iopub.status.busy": "2023-07-10T19:42:15.490655Z",
          "iopub.status.idle": "2023-07-10T19:42:26.890996Z",
          "shell.execute_reply": "2023-07-10T19:42:26.889869Z",
          "shell.execute_reply.started": "2023-07-10T19:42:15.491668Z"
        },
        "id": "aigtQIi9sdN9"
      },
      "outputs": [],
      "source": [
        "pred = model.predict([X_test, test_mask])\n",
        "final_pred = np.where(pred >= 0.5, 1, 0)\n"
      ]
    },
    {
      "cell_type": "markdown",
      "metadata": {
        "id": "rAGfHOZosdN9"
      },
      "source": [
        "# ROC Curve"
      ]
    },
    {
      "cell_type": "code",
      "execution_count": null,
      "metadata": {
        "execution": {
          "iopub.execute_input": "2023-07-10T19:42:26.89332Z",
          "iopub.status.busy": "2023-07-10T19:42:26.892893Z",
          "iopub.status.idle": "2023-07-10T19:42:27.213245Z",
          "shell.execute_reply": "2023-07-10T19:42:27.212223Z",
          "shell.execute_reply.started": "2023-07-10T19:42:26.89328Z"
        },
        "id": "rE8Dcns-sdN9"
      },
      "outputs": [],
      "source": [
        "fpr, tpr, thresholds = roc_curve(Y_test,pred)\n",
        "roc_auc = auc(fpr, tpr)\n",
        "plt.figure(figsize=(7,5))\n",
        "plt.plot(fpr, tpr, label='ROC curve (area = %0.2f)' % roc_auc,color=\"red\",lw=1.7,marker=\"*\",markersize=5)\n",
        "plt.plot([0, 1], [0, 1],color=\"black\",lw=3)\n",
        "plt.xlim([0.0, 1.0])\n",
        "plt.ylim([0.0, 1.05])\n",
        "plt.xlabel('False Positive Rate')\n",
        "plt.ylabel('True Positive Rate')\n",
        "plt.title('Receiver Operating Characteristic')\n",
        "plt.legend(loc=\"lower right\")\n",
        "plt.show()"
      ]
    },
    {
      "cell_type": "markdown",
      "metadata": {
        "id": "NGmIEdkZsdN9"
      },
      "source": [
        "# Precision-Recall Curve"
      ]
    },
    {
      "cell_type": "code",
      "execution_count": null,
      "metadata": {
        "execution": {
          "iopub.execute_input": "2023-07-10T19:42:27.2181Z",
          "iopub.status.busy": "2023-07-10T19:42:27.214884Z",
          "iopub.status.idle": "2023-07-10T19:42:27.572388Z",
          "shell.execute_reply": "2023-07-10T19:42:27.56947Z",
          "shell.execute_reply.started": "2023-07-10T19:42:27.218069Z"
        },
        "id": "Us4RR6M2sdN9"
      },
      "outputs": [],
      "source": [
        "precision, recall, thresholds = precision_recall_curve(Y_test,pred)\n",
        "ap_score = average_precision_score(Y_test,pred)\n",
        "plt.figure(figsize=(7,5))\n",
        "plt.plot(recall, precision, label='Precision-Recall Curve (AP = %0.2f)' % ap_score,color=\"purple\",lw=2.8)\n",
        "plt.xlabel('Recall')\n",
        "plt.ylabel('Precision')\n",
        "plt.title('Precision-Recall Curve')\n",
        "plt.legend(loc=\"lower left\")\n",
        "plt.show()"
      ]
    },
    {
      "cell_type": "code",
      "execution_count": null,
      "metadata": {
        "execution": {
          "iopub.execute_input": "2023-07-10T19:42:27.575017Z",
          "iopub.status.busy": "2023-07-10T19:42:27.574547Z",
          "iopub.status.idle": "2023-07-10T19:42:27.665473Z",
          "shell.execute_reply": "2023-07-10T19:42:27.664242Z",
          "shell.execute_reply.started": "2023-07-10T19:42:27.574977Z"
        },
        "id": "pYVmdVKJsdN9"
      },
      "outputs": [],
      "source": [
        "roc_auc = roc_auc_score(Y_test, pred)\n",
        "plt.plot([])\n",
        "plt.text(0,0, f'ROC AUC  Score: {roc_auc:.4f}', fontsize=16, ha='center', va='center',color=\"indigo\")\n",
        "plt.axis('off')\n",
        "\n",
        "# Set the x-axis limits\n",
        "plt.xlim(-1, 1)\n",
        "plt.ylim(-1,1)\n",
        "\n",
        "plt.show()"
      ]
    },
    {
      "cell_type": "code",
      "execution_count": null,
      "metadata": {
        "execution": {
          "iopub.execute_input": "2023-07-10T19:42:27.668018Z",
          "iopub.status.busy": "2023-07-10T19:42:27.667311Z",
          "iopub.status.idle": "2023-07-10T19:42:27.770897Z",
          "shell.execute_reply": "2023-07-10T19:42:27.769578Z",
          "shell.execute_reply.started": "2023-07-10T19:42:27.66798Z"
        },
        "id": "wSrtoUvGsdN9"
      },
      "outputs": [],
      "source": [
        "logarithm_loss=log_loss(Y_test,final_pred)\n",
        "plt.plot([])\n",
        "plt.text(0,0, f'Log Loss: {logarithm_loss:.4f}', fontsize=16, ha='center', va='center',color=\"black\")\n",
        "plt.axis('off')\n",
        "\n",
        "# Set the x-axis limits\n",
        "plt.xlim(-1, 1)\n",
        "plt.ylim(-1,1)\n",
        "\n",
        "plt.show()"
      ]
    },
    {
      "cell_type": "code",
      "execution_count": null,
      "metadata": {
        "execution": {
          "iopub.execute_input": "2023-07-10T19:42:27.773814Z",
          "iopub.status.busy": "2023-07-10T19:42:27.772959Z",
          "iopub.status.idle": "2023-07-10T19:42:27.933523Z",
          "shell.execute_reply": "2023-07-10T19:42:27.930319Z",
          "shell.execute_reply.started": "2023-07-10T19:42:27.773773Z"
        },
        "id": "hHDz7ZqTsdN9"
      },
      "outputs": [],
      "source": [
        "kappa = cohen_kappa_score(Y_test,final_pred)\n",
        "plt.plot([])\n",
        "plt.text(0,0, f'Cohen Kappa Score: {kappa:.4f}', fontsize=16, ha='center', va='center',color=\"orangered\")\n",
        "plt.axis('off')\n",
        "\n",
        "# Set the x-axis limits\n",
        "plt.xlim(-1, 1)\n",
        "plt.ylim(-1,1)\n",
        "\n",
        "plt.show()"
      ]
    },
    {
      "cell_type": "code",
      "execution_count": null,
      "metadata": {
        "execution": {
          "iopub.execute_input": "2023-07-10T19:42:27.945644Z",
          "iopub.status.busy": "2023-07-10T19:42:27.942288Z",
          "iopub.status.idle": "2023-07-10T19:42:28.056323Z",
          "shell.execute_reply": "2023-07-10T19:42:28.054809Z",
          "shell.execute_reply.started": "2023-07-10T19:42:27.945585Z"
        },
        "id": "Li-5mkOzsdN-"
      },
      "outputs": [],
      "source": [
        "mcc = matthews_corrcoef(Y_test, final_pred)\n",
        "\n",
        "# Create a plot and display the MCC value as text\n",
        "plt.plot([])\n",
        "plt.text(0,0, f'Matthews Correlation Coefficient: {mcc:.4f}', fontsize=16, ha='center', va='center',color=\"saddlebrown\")\n",
        "plt.axis('off')\n",
        "\n",
        "# Set the x-axis limits\n",
        "plt.xlim(-1, 1)\n",
        "plt.ylim(-1,1)\n",
        "\n",
        "plt.show()\n"
      ]
    },
    {
      "cell_type": "markdown",
      "metadata": {
        "id": "O6HTYe7usdN-"
      },
      "source": [
        "# Confusion Matrix"
      ]
    },
    {
      "cell_type": "code",
      "execution_count": null,
      "metadata": {
        "execution": {
          "iopub.execute_input": "2023-07-10T19:42:28.066739Z",
          "iopub.status.busy": "2023-07-10T19:42:28.063023Z",
          "iopub.status.idle": "2023-07-10T19:42:28.430179Z",
          "shell.execute_reply": "2023-07-10T19:42:28.429068Z",
          "shell.execute_reply.started": "2023-07-10T19:42:28.066674Z"
        },
        "id": "BmLGaWCgsdN-"
      },
      "outputs": [],
      "source": [
        "label_name = [\"Non Disaster\", \"Disaster\"]\n",
        "plt.figure(figsize=(7, 5))\n",
        "cm = confusion_matrix(Y_test, final_pred)\n",
        "sns.heatmap(cm, annot=True, cmap=\"rainbow\",fmt=\"d\",lw=6,linecolor=\"black\",xticklabels=label_name, yticklabels=label_name)\n",
        "plt.title(\"Confusion Matrix\")\n",
        "plt.xlabel(\"Predicted\")\n",
        "plt.ylabel(\"Actual\")\n",
        "plt.show()\n",
        "\n"
      ]
    },
    {
      "cell_type": "markdown",
      "metadata": {
        "id": "peHXwhZOsdN-"
      },
      "source": [
        "# Classification Report"
      ]
    },
    {
      "cell_type": "code",
      "execution_count": null,
      "metadata": {
        "execution": {
          "iopub.execute_input": "2023-07-10T19:42:28.433031Z",
          "iopub.status.busy": "2023-07-10T19:42:28.432202Z",
          "iopub.status.idle": "2023-07-10T19:42:28.452778Z",
          "shell.execute_reply": "2023-07-10T19:42:28.451916Z",
          "shell.execute_reply.started": "2023-07-10T19:42:28.43299Z"
        },
        "id": "fi2_d-ZDsdN-"
      },
      "outputs": [],
      "source": [
        "print(classification_report(Y_test,final_pred,target_names=label_name))"
      ]
    },
    {
      "cell_type": "markdown",
      "metadata": {
        "id": "4j6rpBvJsdN-"
      },
      "source": [
        "# Test Data Analysis\n"
      ]
    },
    {
      "cell_type": "code",
      "execution_count": null,
      "metadata": {
        "execution": {
          "iopub.execute_input": "2023-07-10T19:42:28.455503Z",
          "iopub.status.busy": "2023-07-10T19:42:28.454623Z",
          "iopub.status.idle": "2023-07-10T19:42:28.50568Z",
          "shell.execute_reply": "2023-07-10T19:42:28.504543Z",
          "shell.execute_reply.started": "2023-07-10T19:42:28.45546Z"
        },
        "id": "ZoFqNAOpsdN-"
      },
      "outputs": [],
      "source": [
        "df_test=pd.read_csv(\"/kaggle/input/nlp-getting-started/test.csv\")"
      ]
    },
    {
      "cell_type": "code",
      "execution_count": null,
      "metadata": {
        "execution": {
          "iopub.execute_input": "2023-07-10T19:42:28.508156Z",
          "iopub.status.busy": "2023-07-10T19:42:28.507712Z",
          "iopub.status.idle": "2023-07-10T19:42:28.522848Z",
          "shell.execute_reply": "2023-07-10T19:42:28.521345Z",
          "shell.execute_reply.started": "2023-07-10T19:42:28.508117Z"
        },
        "id": "riWFrFs5sdN-"
      },
      "outputs": [],
      "source": [
        "df_test.head()"
      ]
    },
    {
      "cell_type": "code",
      "execution_count": null,
      "metadata": {
        "execution": {
          "iopub.execute_input": "2023-07-10T19:42:28.525659Z",
          "iopub.status.busy": "2023-07-10T19:42:28.525108Z",
          "iopub.status.idle": "2023-07-10T19:42:28.547645Z",
          "shell.execute_reply": "2023-07-10T19:42:28.54622Z",
          "shell.execute_reply.started": "2023-07-10T19:42:28.525617Z"
        },
        "id": "c0GgBT9ssdN-"
      },
      "outputs": [],
      "source": [
        "df_test.info()"
      ]
    },
    {
      "cell_type": "code",
      "execution_count": null,
      "metadata": {
        "execution": {
          "iopub.execute_input": "2023-07-10T19:42:28.550511Z",
          "iopub.status.busy": "2023-07-10T19:42:28.549663Z",
          "iopub.status.idle": "2023-07-10T19:42:28.570433Z",
          "shell.execute_reply": "2023-07-10T19:42:28.569358Z",
          "shell.execute_reply.started": "2023-07-10T19:42:28.550465Z"
        },
        "id": "bKAOw2AysdN-"
      },
      "outputs": [],
      "source": [
        "df_test.describe()"
      ]
    },
    {
      "cell_type": "code",
      "execution_count": null,
      "metadata": {
        "execution": {
          "iopub.execute_input": "2023-07-10T19:42:28.573271Z",
          "iopub.status.busy": "2023-07-10T19:42:28.572087Z",
          "iopub.status.idle": "2023-07-10T19:42:28.587616Z",
          "shell.execute_reply": "2023-07-10T19:42:28.58628Z",
          "shell.execute_reply.started": "2023-07-10T19:42:28.573231Z"
        },
        "id": "4xJZxkVqsdN-"
      },
      "outputs": [],
      "source": [
        "df_test.isnull().sum()"
      ]
    },
    {
      "cell_type": "code",
      "execution_count": null,
      "metadata": {
        "execution": {
          "iopub.execute_input": "2023-07-10T19:42:28.592126Z",
          "iopub.status.busy": "2023-07-10T19:42:28.59172Z",
          "iopub.status.idle": "2023-07-10T19:42:28.601158Z",
          "shell.execute_reply": "2023-07-10T19:42:28.600093Z",
          "shell.execute_reply.started": "2023-07-10T19:42:28.592093Z"
        },
        "id": "nZ7KQJNSsdN_"
      },
      "outputs": [],
      "source": [
        "df_test.drop([\"keyword\",\"location\"],axis=1,inplace=True)"
      ]
    },
    {
      "cell_type": "code",
      "execution_count": null,
      "metadata": {
        "execution": {
          "iopub.execute_input": "2023-07-10T19:42:28.604564Z",
          "iopub.status.busy": "2023-07-10T19:42:28.602849Z",
          "iopub.status.idle": "2023-07-10T19:42:28.625486Z",
          "shell.execute_reply": "2023-07-10T19:42:28.624185Z",
          "shell.execute_reply.started": "2023-07-10T19:42:28.604525Z"
        },
        "id": "QON5rNUKsdN_"
      },
      "outputs": [],
      "source": [
        "df_test.head()"
      ]
    },
    {
      "cell_type": "code",
      "execution_count": null,
      "metadata": {
        "execution": {
          "iopub.execute_input": "2023-07-10T19:42:28.629076Z",
          "iopub.status.busy": "2023-07-10T19:42:28.628317Z",
          "iopub.status.idle": "2023-07-10T19:42:28.637087Z",
          "shell.execute_reply": "2023-07-10T19:42:28.635705Z",
          "shell.execute_reply.started": "2023-07-10T19:42:28.629036Z"
        },
        "id": "LuoyBhvRsdN_"
      },
      "outputs": [],
      "source": [
        "test_text=df_test[\"text\"]"
      ]
    },
    {
      "cell_type": "code",
      "execution_count": null,
      "metadata": {
        "execution": {
          "iopub.execute_input": "2023-07-10T19:42:28.639957Z",
          "iopub.status.busy": "2023-07-10T19:42:28.639501Z",
          "iopub.status.idle": "2023-07-10T19:42:28.650932Z",
          "shell.execute_reply": "2023-07-10T19:42:28.649508Z",
          "shell.execute_reply.started": "2023-07-10T19:42:28.639915Z"
        },
        "id": "y3Iz4duGsdN_"
      },
      "outputs": [],
      "source": [
        "def xlnet_encode(final_text_data, max_len):\n",
        "    input_ids = []\n",
        "    attention_masks = []\n",
        "\n",
        "    for i in range(len(final_text_data)):\n",
        "        encode_data = xlnet_tokenizer.encode_plus(final_text_data[i], add_special_tokens=True, max_length=max_len, pad_to_max_length=True, return_attention_mask=True)\n",
        "        input_ids.append(encode_data['input_ids'])\n",
        "        attention_masks.append(encode_data[\"attention_mask\"])\n",
        "\n",
        "    return np.array(input_ids), np.array(attention_masks)"
      ]
    },
    {
      "cell_type": "code",
      "execution_count": null,
      "metadata": {
        "execution": {
          "iopub.execute_input": "2023-07-10T19:42:28.655041Z",
          "iopub.status.busy": "2023-07-10T19:42:28.653779Z",
          "iopub.status.idle": "2023-07-10T19:42:29.909588Z",
          "shell.execute_reply": "2023-07-10T19:42:29.908546Z",
          "shell.execute_reply.started": "2023-07-10T19:42:28.655Z"
        },
        "id": "iw_6MGbxsdN_"
      },
      "outputs": [],
      "source": [
        "text_input_ids,text_attention_masks = xlnet_encode(test_text,max_len)"
      ]
    },
    {
      "cell_type": "code",
      "execution_count": null,
      "metadata": {
        "execution": {
          "iopub.execute_input": "2023-07-10T19:42:29.911846Z",
          "iopub.status.busy": "2023-07-10T19:42:29.910984Z",
          "iopub.status.idle": "2023-07-10T19:42:50.456176Z",
          "shell.execute_reply": "2023-07-10T19:42:50.454998Z",
          "shell.execute_reply.started": "2023-07-10T19:42:29.911809Z"
        },
        "id": "_mJYM5uDsdN_"
      },
      "outputs": [],
      "source": [
        "text_input_ids = np.array(text_input_ids)\n",
        "text_attention_masks = np.array(text_attention_masks)\n",
        "my_pred = model.predict([text_input_ids, text_attention_masks])\n",
        "predicted_labels = np.where(my_pred >= 0.5, 1, 0)\n",
        "df_test['target'] = predicted_labels\n"
      ]
    },
    {
      "cell_type": "code",
      "execution_count": null,
      "metadata": {
        "execution": {
          "iopub.execute_input": "2023-07-10T19:42:50.459523Z",
          "iopub.status.busy": "2023-07-10T19:42:50.457958Z",
          "iopub.status.idle": "2023-07-10T19:42:50.472531Z",
          "shell.execute_reply": "2023-07-10T19:42:50.471228Z",
          "shell.execute_reply.started": "2023-07-10T19:42:50.459482Z"
        },
        "id": "cDbGZkHysdN_"
      },
      "outputs": [],
      "source": [
        "df_test.head(10)"
      ]
    },
    {
      "cell_type": "code",
      "execution_count": null,
      "metadata": {
        "execution": {
          "iopub.execute_input": "2023-07-10T19:42:50.474959Z",
          "iopub.status.busy": "2023-07-10T19:42:50.474503Z",
          "iopub.status.idle": "2023-07-10T19:42:50.489114Z",
          "shell.execute_reply": "2023-07-10T19:42:50.487904Z",
          "shell.execute_reply.started": "2023-07-10T19:42:50.474914Z"
        },
        "id": "5eqSuAQmsdN_"
      },
      "outputs": [],
      "source": [
        "df_test[\"target\"].value_counts()"
      ]
    },
    {
      "cell_type": "code",
      "execution_count": null,
      "metadata": {
        "execution": {
          "iopub.execute_input": "2023-07-10T19:42:50.492104Z",
          "iopub.status.busy": "2023-07-10T19:42:50.491216Z",
          "iopub.status.idle": "2023-07-10T19:42:50.510044Z",
          "shell.execute_reply": "2023-07-10T19:42:50.508874Z",
          "shell.execute_reply.started": "2023-07-10T19:42:50.492065Z"
        },
        "id": "w2Cc_QVFsdN_"
      },
      "outputs": [],
      "source": [
        "df0=df_test.copy()\n",
        "df0.drop(\"text\",axis=1,inplace=True)\n",
        "df0.to_csv(\"my_submission.csv\",index=False)"
      ]
    },
    {
      "cell_type": "code",
      "execution_count": null,
      "metadata": {
        "id": "A5h9g0ZbsdN_"
      },
      "outputs": [],
      "source": []
    },
    {
      "cell_type": "markdown",
      "metadata": {
        "id": "CYnT1Wi1sdN6"
      },
      "source": [
        "# Encode Data"
      ]
    },
    {
      "cell_type": "code",
      "execution_count": null,
      "metadata": {
        "execution": {
          "iopub.execute_input": "2023-07-10T19:19:24.610324Z",
          "iopub.status.busy": "2023-07-10T19:19:24.60991Z",
          "iopub.status.idle": "2023-07-10T19:19:24.618253Z",
          "shell.execute_reply": "2023-07-10T19:19:24.617033Z",
          "shell.execute_reply.started": "2023-07-10T19:19:24.610295Z"
        },
        "id": "5qqXXVRjsdN6"
      },
      "outputs": [],
      "source": [
        "def xlnet_encode(final_text_data, max_len):\n",
        "    input_ids = []\n",
        "    attention_masks = []\n",
        "\n",
        "    for i in range(len(final_text_data)):\n",
        "        encode_data = xlnet_tokenizer.encode_plus(final_text_data[i], add_special_tokens=True, max_length=max_len, pad_to_max_length=True, return_attention_mask=True)\n",
        "        input_ids.append(encode_data['input_ids'])\n",
        "        attention_masks.append(encode_data[\"attention_mask\"])\n",
        "\n",
        "    return np.array(input_ids), np.array(attention_masks)\n"
      ]
    },
    {
      "cell_type": "code",
      "execution_count": null,
      "metadata": {
        "colab": {
          "base_uri": "https://localhost:8080/"
        },
        "execution": {
          "iopub.execute_input": "2023-07-10T19:19:24.620399Z",
          "iopub.status.busy": "2023-07-10T19:19:24.619869Z",
          "iopub.status.idle": "2023-07-10T19:19:28.101901Z",
          "shell.execute_reply": "2023-07-10T19:19:28.100806Z",
          "shell.execute_reply.started": "2023-07-10T19:19:24.620361Z"
        },
        "id": "OJpbxOutsdN6",
        "outputId": "90455178-00be-49ca-c5cc-3908dcfae227"
      },
      "outputs": [
        {
          "name": "stderr",
          "output_type": "stream",
          "text": [
            "Truncation was not explicitly activated but `max_length` is provided a specific value, please use `truncation=True` to explicitly truncate examples to max length. Defaulting to 'longest_first' truncation strategy. If you encode pairs of sequences (GLUE-style) with the tokenizer you can select this strategy more precisely by providing a specific strategy to `truncation`.\n",
            "/usr/local/lib/python3.10/dist-packages/transformers/tokenization_utils_base.py:2377: FutureWarning: The `pad_to_max_length` argument is deprecated and will be removed in a future version, use `padding=True` or `padding='longest'` to pad to the longest sequence in the batch, or use `padding='max_length'` to pad to a max length. In this case, you can give a specific length with `max_length` (e.g. `max_length=45`) or leave max_length to None to pad to the maximal input size of the model (e.g. 512 for Bert).\n",
            "  warnings.warn(\n"
          ]
        }
      ],
      "source": [
        "text_input_ids,text_attention_masks = xlnet_encode(text_data,max_len)"
      ]
    },
    {
      "cell_type": "code",
      "execution_count": null,
      "metadata": {
        "colab": {
          "base_uri": "https://localhost:8080/"
        },
        "execution": {
          "iopub.execute_input": "2023-07-10T19:19:28.104041Z",
          "iopub.status.busy": "2023-07-10T19:19:28.103646Z",
          "iopub.status.idle": "2023-07-10T19:19:28.113831Z",
          "shell.execute_reply": "2023-07-10T19:19:28.112778Z",
          "shell.execute_reply.started": "2023-07-10T19:19:28.104006Z"
        },
        "id": "hjpTN0o9sdN6",
        "outputId": "c6a469a7-77ac-47fa-a0c4-f828116fa369"
      },
      "outputs": [
        {
          "name": "stdout",
          "output_type": "stream",
          "text": [
            "Text Input Ids Shape (7613, 30) \n",
            "Text Input Attention Mask Shape (7613, 30) \n",
            "Label Data shape (7613,)\n"
          ]
        }
      ],
      "source": [
        "print('Text Input Ids Shape {} \\nText Input Attention Mask Shape {} \\nLabel Data shape {}'.format(text_input_ids.shape,text_attention_masks.shape,label_data.shape))"
      ]
    },
    {
      "cell_type": "code",
      "execution_count": null,
      "metadata": {
        "execution": {
          "iopub.execute_input": "2023-07-10T19:19:28.116301Z",
          "iopub.status.busy": "2023-07-10T19:19:28.115845Z",
          "iopub.status.idle": "2023-07-10T19:19:28.128252Z",
          "shell.execute_reply": "2023-07-10T19:19:28.127045Z",
          "shell.execute_reply.started": "2023-07-10T19:19:28.116266Z"
        },
        "id": "jdwWvyzXsdN7"
      },
      "outputs": [],
      "source": [
        "X_train,X_test,Y_train,Y_test,train_mask,test_mask=train_test_split(text_input_ids,label_data,text_attention_masks,test_size=0.2,random_state=42,shuffle=True)"
      ]
    },
    {
      "cell_type": "code",
      "execution_count": null,
      "metadata": {
        "colab": {
          "base_uri": "https://localhost:8080/"
        },
        "execution": {
          "iopub.execute_input": "2023-07-10T19:19:28.131477Z",
          "iopub.status.busy": "2023-07-10T19:19:28.129824Z",
          "iopub.status.idle": "2023-07-10T19:19:28.13832Z",
          "shell.execute_reply": "2023-07-10T19:19:28.13719Z",
          "shell.execute_reply.started": "2023-07-10T19:19:28.13144Z"
        },
        "id": "ZfM5oRn9sdN7",
        "outputId": "1fc57983-2fe0-48a6-9a04-050926dfd9e8"
      },
      "outputs": [
        {
          "name": "stdout",
          "output_type": "stream",
          "text": [
            "Train input shape (6090, 30)\n",
            "Test input shape (1523, 30)\n",
            "Train label shape (6090,)\n",
            "Test label shape (1523,)\n",
            "Train attention mask shape (6090, 30)\n",
            "Test attention mask shape (1523, 30)\n"
          ]
        }
      ],
      "source": [
        "print('Train input shape {}\\nTest input shape {}\\nTrain label shape {}\\nTest label shape {}\\nTrain attention mask shape {}\\nTest attention mask shape {}'.format(X_train.shape,X_test.shape,Y_train.shape,Y_test.shape,train_mask.shape,test_mask.shape))"
      ]
    },
    {
      "cell_type": "markdown",
      "metadata": {
        "id": "oy9k3e0CsdN6"
      },
      "source": [
        "# XLNET Tokenizer,Model"
      ]
    },
    {
      "cell_type": "code",
      "execution_count": null,
      "metadata": {
        "id": "YIxJ4sRe2W7y"
      },
      "outputs": [],
      "source": [
        "from transformers import AutoTokenizer"
      ]
    },
    {
      "cell_type": "code",
      "execution_count": null,
      "metadata": {
        "id": "4Y33RnBxoNLX"
      },
      "outputs": [],
      "source": [
        "xlnet_tokenizer = AutoTokenizer.from_pretrained('xlnet-base-cased')"
      ]
    },
    {
      "cell_type": "code",
      "execution_count": null,
      "metadata": {
        "id": "5C-UnpN8uQ4O"
      },
      "outputs": [],
      "source": [
        "from transformers import TFAutoModel"
      ]
    },
    {
      "cell_type": "code",
      "execution_count": null,
      "metadata": {
        "colab": {
          "base_uri": "https://localhost:8080/"
        },
        "id": "ryMVVI-kuXli",
        "outputId": "510348b2-9811-4c10-e965-0b5dc78a1a4d"
      },
      "outputs": [
        {
          "name": "stderr",
          "output_type": "stream",
          "text": [
            "/usr/local/lib/python3.10/dist-packages/keras/initializers/initializers.py:120: UserWarning: The initializer TruncatedNormal is unseeded and being called multiple times, which will return identical values each time (even if the initializer is unseeded). Please update your code to provide a seed to the initializer, or avoid using the same initalizer instance more than once.\n",
            "  warnings.warn(\n",
            "Some layers from the model checkpoint at xlnet-base-cased were not used when initializing TFXLNetModel: ['lm_loss']\n",
            "- This IS expected if you are initializing TFXLNetModel from the checkpoint of a model trained on another task or with another architecture (e.g. initializing a BertForSequenceClassification model from a BertForPreTraining model).\n",
            "- This IS NOT expected if you are initializing TFXLNetModel from the checkpoint of a model that you expect to be exactly identical (initializing a BertForSequenceClassification model from a BertForSequenceClassification model).\n",
            "All the layers of TFXLNetModel were initialized from the model checkpoint at xlnet-base-cased.\n",
            "If your task is similar to the task the model of the checkpoint was trained on, you can already use TFXLNetModel for predictions without further training.\n"
          ]
        }
      ],
      "source": [
        "xlnet_model = TFAutoModel.from_pretrained('xlnet-base-cased')"
      ]
    },
    {
      "cell_type": "markdown",
      "metadata": {
        "id": "7umpw-eAsdN7"
      },
      "source": [
        "# Create XLNET Model"
      ]
    },
    {
      "cell_type": "code",
      "execution_count": null,
      "metadata": {
        "execution": {
          "iopub.execute_input": "2023-07-10T19:19:28.140402Z",
          "iopub.status.busy": "2023-07-10T19:19:28.140013Z",
          "iopub.status.idle": "2023-07-10T19:19:28.150388Z",
          "shell.execute_reply": "2023-07-10T19:19:28.149269Z",
          "shell.execute_reply.started": "2023-07-10T19:19:28.140368Z"
        },
        "id": "7z8R2hFdsdN7"
      },
      "outputs": [],
      "source": [
        "def Create_XLNet_Model():\n",
        "    input_ids = tf.keras.Input(shape=(max_len,), dtype=\"int32\")\n",
        "    attention_masks = tf.keras.Input(shape=(max_len,), dtype=\"int32\")\n",
        "\n",
        "    output = xlnet_model(input_ids=input_ids, attention_mask=attention_masks)[0]\n",
        "\n",
        "    output = tf.keras.layers.GlobalMaxPooling1D()(output)\n",
        "\n",
        "    # dense_1 = tf.keras.layers.Dense(256, activation=\"tanh\")(output)\n",
        "    # dense_2 = tf.keras.layers.Dense(128, activation=\"tanh\")(dense_1)\n",
        "\n",
        "    # dense_3 = tf.keras.layers.Dense(64, activation=\"tanh\")(dense_2)\n",
        "    dense_3 = tf.keras.layers.Dense(64, activation=\"relu\")(output)\n",
        "\n",
        "\n",
        "    dropout = tf.keras.layers.Dropout(0.2)(dense_3)\n",
        "    output_layer = tf.keras.layers.Dense(1, activation=\"sigmoid\")(dropout)\n",
        "\n",
        "    model = tf.keras.models.Model(inputs=[input_ids, attention_masks], outputs=output_layer)\n",
        "    return model\n",
        "\n",
        "\n",
        "\n"
      ]
    },
    {
      "cell_type": "code",
      "execution_count": null,
      "metadata": {
        "colab": {
          "base_uri": "https://localhost:8080/"
        },
        "execution": {
          "iopub.execute_input": "2023-07-10T19:19:28.152706Z",
          "iopub.status.busy": "2023-07-10T19:19:28.152024Z",
          "iopub.status.idle": "2023-07-10T19:19:36.805472Z",
          "shell.execute_reply": "2023-07-10T19:19:36.804544Z",
          "shell.execute_reply.started": "2023-07-10T19:19:28.152664Z"
        },
        "id": "zpeBp_5GsdN8",
        "outputId": "e450256a-ee5c-4f08-cfda-d8d85f488e9e"
      },
      "outputs": [
        {
          "name": "stdout",
          "output_type": "stream",
          "text": [
            "Model: \"model\"\n",
            "__________________________________________________________________________________________________\n",
            " Layer (type)                   Output Shape         Param #     Connected to                     \n",
            "==================================================================================================\n",
            " input_1 (InputLayer)           [(None, 30)]         0           []                               \n",
            "                                                                                                  \n",
            " input_2 (InputLayer)           [(None, 30)]         0           []                               \n",
            "                                                                                                  \n",
            " tfxl_net_model_2 (TFXLNetModel  TFXLNetModelOutput(  116718336  ['input_1[0][0]',                \n",
            " )                              last_hidden_state=(               'input_2[0][0]']                \n",
            "                                None, 30, 768),                                                   \n",
            "                                 mems=((30, None, 7                                               \n",
            "                                68),                                                              \n",
            "                                 (30, None, 768),                                                 \n",
            "                                 (30, None, 768),                                                 \n",
            "                                 (30, None, 768),                                                 \n",
            "                                 (30, None, 768),                                                 \n",
            "                                 (30, None, 768),                                                 \n",
            "                                 (30, None, 768),                                                 \n",
            "                                 (30, None, 768),                                                 \n",
            "                                 (30, None, 768),                                                 \n",
            "                                 (30, None, 768),                                                 \n",
            "                                 (30, None, 768),                                                 \n",
            "                                 (30, None, 768)),                                                \n",
            "                                 hidden_states=None                                               \n",
            "                                , attentions=None)                                                \n",
            "                                                                                                  \n",
            " global_max_pooling1d (GlobalMa  (None, 768)         0           ['tfxl_net_model_2[0][0]']       \n",
            " xPooling1D)                                                                                      \n",
            "                                                                                                  \n",
            " dense (Dense)                  (None, 64)           49216       ['global_max_pooling1d[0][0]']   \n",
            "                                                                                                  \n",
            " dropout (Dropout)              (None, 64)           0           ['dense[0][0]']                  \n",
            "                                                                                                  \n",
            " dense_1 (Dense)                (None, 1)            65          ['dropout[0][0]']                \n",
            "                                                                                                  \n",
            "==================================================================================================\n",
            "Total params: 116,767,617\n",
            "Trainable params: 116,767,617\n",
            "Non-trainable params: 0\n",
            "__________________________________________________________________________________________________\n"
          ]
        }
      ],
      "source": [
        "tf.keras.backend.clear_session()\n",
        "model = Create_XLNet_Model()\n",
        "\n",
        "learning_rate = 1e-5\n",
        "beta_1=0.9\n",
        "beta_2=0.98\n",
        "epsilon=1e-9\n",
        "optimizer = tf.keras.optimizers.Adam(learning_rate=learning_rate,\n",
        "                                    #  beta_1=beta_1,\n",
        "                                    #  beta_2=beta_2,\n",
        "                                    #  epsilon=epsilon\n",
        "                                     )\n",
        "\n",
        "loss = \"binary_crossentropy\"\n",
        "metric = \"accuracy\"\n",
        "model.compile(optimizer=optimizer, loss=loss, metrics=[metric])\n",
        "\n",
        "model.summary()\n"
      ]
    },
    {
      "cell_type": "code",
      "execution_count": null,
      "metadata": {
        "execution": {
          "iopub.execute_input": "2023-07-10T19:19:36.807469Z",
          "iopub.status.busy": "2023-07-10T19:19:36.806728Z",
          "iopub.status.idle": "2023-07-10T19:19:37.921459Z",
          "shell.execute_reply": "2023-07-10T19:19:37.919251Z",
          "shell.execute_reply.started": "2023-07-10T19:19:36.807432Z"
        },
        "id": "BS8Cis5NsdN8"
      },
      "outputs": [],
      "source": [
        "# plot_model(model, to_file='model_architecture.png', show_shapes=True)\n",
        "# plt.figure(figsize=(25, 15))\n",
        "# img = plt.imread('model_architecture.png')\n",
        "# plt.imshow(img)\n",
        "# plt.axis('off')\n",
        "# plt.show()\n"
      ]
    },
    {
      "cell_type": "code",
      "execution_count": null,
      "metadata": {
        "execution": {
          "iopub.execute_input": "2023-07-10T19:19:37.924122Z",
          "iopub.status.busy": "2023-07-10T19:19:37.923443Z",
          "iopub.status.idle": "2023-07-10T19:19:37.930096Z",
          "shell.execute_reply": "2023-07-10T19:19:37.928702Z",
          "shell.execute_reply.started": "2023-07-10T19:19:37.924085Z"
        },
        "id": "lHaZtzgSsdN8"
      },
      "outputs": [],
      "source": [
        "\n",
        "early_stopping = EarlyStopping(monitor='val_loss', patience=10, restore_best_weights=True)\n",
        "\n"
      ]
    },
    {
      "cell_type": "code",
      "execution_count": null,
      "metadata": {
        "colab": {
          "base_uri": "https://localhost:8080/"
        },
        "execution": {
          "iopub.execute_input": "2023-07-10T19:19:37.932477Z",
          "iopub.status.busy": "2023-07-10T19:19:37.932022Z",
          "iopub.status.idle": "2023-07-10T19:42:14.806202Z",
          "shell.execute_reply": "2023-07-10T19:42:14.804874Z",
          "shell.execute_reply.started": "2023-07-10T19:19:37.932439Z"
        },
        "id": "61BdFov4sdN8",
        "outputId": "88141377-ea94-4513-bd26-10f5a6301484"
      },
      "outputs": [
        {
          "name": "stderr",
          "output_type": "stream",
          "text": [
            "WARNING:tensorflow:Gradients do not exist for variables ['tfxl_net_model/transformer/mask_emb:0', 'tfxl_net_model/transformer/layer_._0/rel_attn/r_s_bias:0', 'tfxl_net_model/transformer/layer_._0/rel_attn/seg_embed:0', 'tfxl_net_model/transformer/layer_._1/rel_attn/r_s_bias:0', 'tfxl_net_model/transformer/layer_._1/rel_attn/seg_embed:0', 'tfxl_net_model/transformer/layer_._2/rel_attn/r_s_bias:0', 'tfxl_net_model/transformer/layer_._2/rel_attn/seg_embed:0', 'tfxl_net_model/transformer/layer_._3/rel_attn/r_s_bias:0', 'tfxl_net_model/transformer/layer_._3/rel_attn/seg_embed:0', 'tfxl_net_model/transformer/layer_._4/rel_attn/r_s_bias:0', 'tfxl_net_model/transformer/layer_._4/rel_attn/seg_embed:0', 'tfxl_net_model/transformer/layer_._5/rel_attn/r_s_bias:0', 'tfxl_net_model/transformer/layer_._5/rel_attn/seg_embed:0', 'tfxl_net_model/transformer/layer_._6/rel_attn/r_s_bias:0', 'tfxl_net_model/transformer/layer_._6/rel_attn/seg_embed:0', 'tfxl_net_model/transformer/layer_._7/rel_attn/r_s_bias:0', 'tfxl_net_model/transformer/layer_._7/rel_attn/seg_embed:0', 'tfxl_net_model/transformer/layer_._8/rel_attn/r_s_bias:0', 'tfxl_net_model/transformer/layer_._8/rel_attn/seg_embed:0', 'tfxl_net_model/transformer/layer_._9/rel_attn/r_s_bias:0', 'tfxl_net_model/transformer/layer_._9/rel_attn/seg_embed:0', 'tfxl_net_model/transformer/layer_._10/rel_attn/r_s_bias:0', 'tfxl_net_model/transformer/layer_._10/rel_attn/seg_embed:0', 'tfxl_net_model/transformer/layer_._11/rel_attn/r_s_bias:0', 'tfxl_net_model/transformer/layer_._11/rel_attn/seg_embed:0'] when minimizing the loss. If you're using `model.compile()`, did you forget to provide a `loss` argument?\n",
            "WARNING:tensorflow:Gradients do not exist for variables ['tfxl_net_model/transformer/mask_emb:0', 'tfxl_net_model/transformer/layer_._0/rel_attn/r_s_bias:0', 'tfxl_net_model/transformer/layer_._0/rel_attn/seg_embed:0', 'tfxl_net_model/transformer/layer_._1/rel_attn/r_s_bias:0', 'tfxl_net_model/transformer/layer_._1/rel_attn/seg_embed:0', 'tfxl_net_model/transformer/layer_._2/rel_attn/r_s_bias:0', 'tfxl_net_model/transformer/layer_._2/rel_attn/seg_embed:0', 'tfxl_net_model/transformer/layer_._3/rel_attn/r_s_bias:0', 'tfxl_net_model/transformer/layer_._3/rel_attn/seg_embed:0', 'tfxl_net_model/transformer/layer_._4/rel_attn/r_s_bias:0', 'tfxl_net_model/transformer/layer_._4/rel_attn/seg_embed:0', 'tfxl_net_model/transformer/layer_._5/rel_attn/r_s_bias:0', 'tfxl_net_model/transformer/layer_._5/rel_attn/seg_embed:0', 'tfxl_net_model/transformer/layer_._6/rel_attn/r_s_bias:0', 'tfxl_net_model/transformer/layer_._6/rel_attn/seg_embed:0', 'tfxl_net_model/transformer/layer_._7/rel_attn/r_s_bias:0', 'tfxl_net_model/transformer/layer_._7/rel_attn/seg_embed:0', 'tfxl_net_model/transformer/layer_._8/rel_attn/r_s_bias:0', 'tfxl_net_model/transformer/layer_._8/rel_attn/seg_embed:0', 'tfxl_net_model/transformer/layer_._9/rel_attn/r_s_bias:0', 'tfxl_net_model/transformer/layer_._9/rel_attn/seg_embed:0', 'tfxl_net_model/transformer/layer_._10/rel_attn/r_s_bias:0', 'tfxl_net_model/transformer/layer_._10/rel_attn/seg_embed:0', 'tfxl_net_model/transformer/layer_._11/rel_attn/r_s_bias:0', 'tfxl_net_model/transformer/layer_._11/rel_attn/seg_embed:0'] when minimizing the loss. If you're using `model.compile()`, did you forget to provide a `loss` argument?\n",
            "WARNING:tensorflow:Gradients do not exist for variables ['tfxl_net_model/transformer/mask_emb:0', 'tfxl_net_model/transformer/layer_._0/rel_attn/r_s_bias:0', 'tfxl_net_model/transformer/layer_._0/rel_attn/seg_embed:0', 'tfxl_net_model/transformer/layer_._1/rel_attn/r_s_bias:0', 'tfxl_net_model/transformer/layer_._1/rel_attn/seg_embed:0', 'tfxl_net_model/transformer/layer_._2/rel_attn/r_s_bias:0', 'tfxl_net_model/transformer/layer_._2/rel_attn/seg_embed:0', 'tfxl_net_model/transformer/layer_._3/rel_attn/r_s_bias:0', 'tfxl_net_model/transformer/layer_._3/rel_attn/seg_embed:0', 'tfxl_net_model/transformer/layer_._4/rel_attn/r_s_bias:0', 'tfxl_net_model/transformer/layer_._4/rel_attn/seg_embed:0', 'tfxl_net_model/transformer/layer_._5/rel_attn/r_s_bias:0', 'tfxl_net_model/transformer/layer_._5/rel_attn/seg_embed:0', 'tfxl_net_model/transformer/layer_._6/rel_attn/r_s_bias:0', 'tfxl_net_model/transformer/layer_._6/rel_attn/seg_embed:0', 'tfxl_net_model/transformer/layer_._7/rel_attn/r_s_bias:0', 'tfxl_net_model/transformer/layer_._7/rel_attn/seg_embed:0', 'tfxl_net_model/transformer/layer_._8/rel_attn/r_s_bias:0', 'tfxl_net_model/transformer/layer_._8/rel_attn/seg_embed:0', 'tfxl_net_model/transformer/layer_._9/rel_attn/r_s_bias:0', 'tfxl_net_model/transformer/layer_._9/rel_attn/seg_embed:0', 'tfxl_net_model/transformer/layer_._10/rel_attn/r_s_bias:0', 'tfxl_net_model/transformer/layer_._10/rel_attn/seg_embed:0', 'tfxl_net_model/transformer/layer_._11/rel_attn/r_s_bias:0', 'tfxl_net_model/transformer/layer_._11/rel_attn/seg_embed:0'] when minimizing the loss. If you're using `model.compile()`, did you forget to provide a `loss` argument?\n",
            "WARNING:tensorflow:Gradients do not exist for variables ['tfxl_net_model/transformer/mask_emb:0', 'tfxl_net_model/transformer/layer_._0/rel_attn/r_s_bias:0', 'tfxl_net_model/transformer/layer_._0/rel_attn/seg_embed:0', 'tfxl_net_model/transformer/layer_._1/rel_attn/r_s_bias:0', 'tfxl_net_model/transformer/layer_._1/rel_attn/seg_embed:0', 'tfxl_net_model/transformer/layer_._2/rel_attn/r_s_bias:0', 'tfxl_net_model/transformer/layer_._2/rel_attn/seg_embed:0', 'tfxl_net_model/transformer/layer_._3/rel_attn/r_s_bias:0', 'tfxl_net_model/transformer/layer_._3/rel_attn/seg_embed:0', 'tfxl_net_model/transformer/layer_._4/rel_attn/r_s_bias:0', 'tfxl_net_model/transformer/layer_._4/rel_attn/seg_embed:0', 'tfxl_net_model/transformer/layer_._5/rel_attn/r_s_bias:0', 'tfxl_net_model/transformer/layer_._5/rel_attn/seg_embed:0', 'tfxl_net_model/transformer/layer_._6/rel_attn/r_s_bias:0', 'tfxl_net_model/transformer/layer_._6/rel_attn/seg_embed:0', 'tfxl_net_model/transformer/layer_._7/rel_attn/r_s_bias:0', 'tfxl_net_model/transformer/layer_._7/rel_attn/seg_embed:0', 'tfxl_net_model/transformer/layer_._8/rel_attn/r_s_bias:0', 'tfxl_net_model/transformer/layer_._8/rel_attn/seg_embed:0', 'tfxl_net_model/transformer/layer_._9/rel_attn/r_s_bias:0', 'tfxl_net_model/transformer/layer_._9/rel_attn/seg_embed:0', 'tfxl_net_model/transformer/layer_._10/rel_attn/r_s_bias:0', 'tfxl_net_model/transformer/layer_._10/rel_attn/seg_embed:0', 'tfxl_net_model/transformer/layer_._11/rel_attn/r_s_bias:0', 'tfxl_net_model/transformer/layer_._11/rel_attn/seg_embed:0'] when minimizing the loss. If you're using `model.compile()`, did you forget to provide a `loss` argument?\n"
          ]
        },
        {
          "name": "stdout",
          "output_type": "stream",
          "text": [
            "191/191 [==============================] - 121s 364ms/step - loss: 0.6405 - accuracy: 0.7140 - val_loss: 0.4813 - val_accuracy: 0.7892\n"
          ]
        }
      ],
      "source": [
        "# history = model.fit(x=[X_train, train_mask],y=Y_train,validation_data=([X_test, test_mask], Y_test),\n",
        "#                     epochs=10,batch_size=32,callbacks=[early_stopping])"
      ]
    },
    {
      "cell_type": "code",
      "execution_count": null,
      "metadata": {
        "colab": {
          "base_uri": "https://localhost:8080/"
        },
        "id": "3hwzzqsJCFla",
        "outputId": "8aad5ac5-6de9-4db9-f405-1f5b1128d9c7"
      },
      "outputs": [
        {
          "name": "stdout",
          "output_type": "stream",
          "text": [
            "Epoch 1/4\n"
          ]
        },
        {
          "ename": "ValueError",
          "evalue": "ignored",
          "output_type": "error",
          "traceback": [
            "\u001b[0;31m---------------------------------------------------------------------------\u001b[0m",
            "\u001b[0;31mValueError\u001b[0m                                Traceback (most recent call last)",
            "\u001b[0;32m<ipython-input-155-1d1c0b5d01c6>\u001b[0m in \u001b[0;36m<cell line: 3>\u001b[0;34m()\u001b[0m\n\u001b[1;32m      1\u001b[0m \u001b[0mnum_epochs\u001b[0m \u001b[0;34m=\u001b[0m \u001b[0;36m4\u001b[0m\u001b[0;34m\u001b[0m\u001b[0;34m\u001b[0m\u001b[0m\n\u001b[1;32m      2\u001b[0m \u001b[0;31m# early_stop = EarlyStopping(monitor='val_accuracy', patience=6,restore_best_weights=True)\u001b[0m\u001b[0;34m\u001b[0m\u001b[0;34m\u001b[0m\u001b[0m\n\u001b[0;32m----> 3\u001b[0;31m history = model.fit(train,\n\u001b[0m\u001b[1;32m      4\u001b[0m                     \u001b[0;31m# batch_size=32,\u001b[0m\u001b[0;34m\u001b[0m\u001b[0;34m\u001b[0m\u001b[0m\n\u001b[1;32m      5\u001b[0m                     \u001b[0mepochs\u001b[0m\u001b[0;34m=\u001b[0m\u001b[0mnum_epochs\u001b[0m\u001b[0;34m,\u001b[0m\u001b[0;34m\u001b[0m\u001b[0;34m\u001b[0m\u001b[0m\n",
            "\u001b[0;32m/usr/local/lib/python3.10/dist-packages/keras/utils/traceback_utils.py\u001b[0m in \u001b[0;36merror_handler\u001b[0;34m(*args, **kwargs)\u001b[0m\n\u001b[1;32m     68\u001b[0m             \u001b[0;31m# To get the full stack trace, call:\u001b[0m\u001b[0;34m\u001b[0m\u001b[0;34m\u001b[0m\u001b[0m\n\u001b[1;32m     69\u001b[0m             \u001b[0;31m# `tf.debugging.disable_traceback_filtering()`\u001b[0m\u001b[0;34m\u001b[0m\u001b[0;34m\u001b[0m\u001b[0m\n\u001b[0;32m---> 70\u001b[0;31m             \u001b[0;32mraise\u001b[0m \u001b[0me\u001b[0m\u001b[0;34m.\u001b[0m\u001b[0mwith_traceback\u001b[0m\u001b[0;34m(\u001b[0m\u001b[0mfiltered_tb\u001b[0m\u001b[0;34m)\u001b[0m \u001b[0;32mfrom\u001b[0m \u001b[0;32mNone\u001b[0m\u001b[0;34m\u001b[0m\u001b[0;34m\u001b[0m\u001b[0m\n\u001b[0m\u001b[1;32m     71\u001b[0m         \u001b[0;32mfinally\u001b[0m\u001b[0;34m:\u001b[0m\u001b[0;34m\u001b[0m\u001b[0;34m\u001b[0m\u001b[0m\n\u001b[1;32m     72\u001b[0m             \u001b[0;32mdel\u001b[0m \u001b[0mfiltered_tb\u001b[0m\u001b[0;34m\u001b[0m\u001b[0;34m\u001b[0m\u001b[0m\n",
            "\u001b[0;32m/usr/local/lib/python3.10/dist-packages/keras/engine/training.py\u001b[0m in \u001b[0;36mtf__train_function\u001b[0;34m(iterator)\u001b[0m\n\u001b[1;32m     13\u001b[0m                 \u001b[0;32mtry\u001b[0m\u001b[0;34m:\u001b[0m\u001b[0;34m\u001b[0m\u001b[0;34m\u001b[0m\u001b[0m\n\u001b[1;32m     14\u001b[0m                     \u001b[0mdo_return\u001b[0m \u001b[0;34m=\u001b[0m \u001b[0;32mTrue\u001b[0m\u001b[0;34m\u001b[0m\u001b[0;34m\u001b[0m\u001b[0m\n\u001b[0;32m---> 15\u001b[0;31m                     \u001b[0mretval_\u001b[0m \u001b[0;34m=\u001b[0m \u001b[0mag__\u001b[0m\u001b[0;34m.\u001b[0m\u001b[0mconverted_call\u001b[0m\u001b[0;34m(\u001b[0m\u001b[0mag__\u001b[0m\u001b[0;34m.\u001b[0m\u001b[0mld\u001b[0m\u001b[0;34m(\u001b[0m\u001b[0mstep_function\u001b[0m\u001b[0;34m)\u001b[0m\u001b[0;34m,\u001b[0m \u001b[0;34m(\u001b[0m\u001b[0mag__\u001b[0m\u001b[0;34m.\u001b[0m\u001b[0mld\u001b[0m\u001b[0;34m(\u001b[0m\u001b[0mself\u001b[0m\u001b[0;34m)\u001b[0m\u001b[0;34m,\u001b[0m \u001b[0mag__\u001b[0m\u001b[0;34m.\u001b[0m\u001b[0mld\u001b[0m\u001b[0;34m(\u001b[0m\u001b[0miterator\u001b[0m\u001b[0;34m)\u001b[0m\u001b[0;34m)\u001b[0m\u001b[0;34m,\u001b[0m \u001b[0;32mNone\u001b[0m\u001b[0;34m,\u001b[0m \u001b[0mfscope\u001b[0m\u001b[0;34m)\u001b[0m\u001b[0;34m\u001b[0m\u001b[0;34m\u001b[0m\u001b[0m\n\u001b[0m\u001b[1;32m     16\u001b[0m                 \u001b[0;32mexcept\u001b[0m\u001b[0;34m:\u001b[0m\u001b[0;34m\u001b[0m\u001b[0;34m\u001b[0m\u001b[0m\n\u001b[1;32m     17\u001b[0m                     \u001b[0mdo_return\u001b[0m \u001b[0;34m=\u001b[0m \u001b[0;32mFalse\u001b[0m\u001b[0;34m\u001b[0m\u001b[0;34m\u001b[0m\u001b[0m\n",
            "\u001b[0;31mValueError\u001b[0m: in user code:\n\n    File \"/usr/local/lib/python3.10/dist-packages/keras/engine/training.py\", line 1284, in train_function  *\n        return step_function(self, iterator)\n    File \"/usr/local/lib/python3.10/dist-packages/keras/engine/training.py\", line 1268, in step_function  **\n        outputs = model.distribute_strategy.run(run_step, args=(data,))\n    File \"/usr/local/lib/python3.10/dist-packages/keras/engine/training.py\", line 1249, in run_step  **\n        outputs = model.train_step(data)\n    File \"/usr/local/lib/python3.10/dist-packages/keras/engine/training.py\", line 1050, in train_step\n        y_pred = self(x, training=True)\n    File \"/usr/local/lib/python3.10/dist-packages/keras/utils/traceback_utils.py\", line 70, in error_handler\n        raise e.with_traceback(filtered_tb) from None\n    File \"/usr/local/lib/python3.10/dist-packages/keras/engine/input_spec.py\", line 197, in assert_input_compatibility\n        raise ValueError(\n\n    ValueError: Missing data for input \"input_1\". You passed a data dictionary with keys ['input_ids', 'attention_mask']. Expected the following keys: ['input_1', 'input_2']\n"
          ]
        }
      ],
      "source": [
        "num_epochs = 4\n",
        "# early_stop = EarlyStopping(monitor='val_accuracy', patience=6,restore_best_weights=True)\n",
        "history = model.fit(train,\n",
        "                    # batch_size=32,\n",
        "                    epochs=num_epochs,\n",
        "                    # validati0on_split=0.2,\n",
        "                    validation_data=[val],\n",
        "                    # callbacks =[\n",
        "                        # learning_rate_reduction,\n",
        "                                # es\n",
        "                                # ],\n",
        "                    # verbose=0\n",
        "                    )"
      ]
    },
    {
      "cell_type": "code",
      "execution_count": null,
      "metadata": {
        "colab": {
          "base_uri": "https://localhost:8080/"
        },
        "execution": {
          "iopub.execute_input": "2023-07-10T19:42:14.819715Z",
          "iopub.status.busy": "2023-07-10T19:42:14.818869Z",
          "iopub.status.idle": "2023-07-10T19:42:15.152249Z",
          "shell.execute_reply": "2023-07-10T19:42:15.151162Z",
          "shell.execute_reply.started": "2023-07-10T19:42:14.819663Z"
        },
        "id": "ByA297RSsdN8",
        "outputId": "53da4386-cb3b-415c-a2b2-c4c491914ea7"
      },
      "outputs": [
        {
          "data": {
            "image/png": "[encoded data removed]",
            "text/plain": [
              "<Figure size 700x500 with 1 Axes>"
            ]
          },
          "metadata": {},
          "output_type": "display_data"
        }
      ],
      "source": [
        "plt.figure(figsize=(7,5))\n",
        "plt.plot(history.history['loss'],lw=2,marker=\"*\",markersize=10,color=\"red\",label=\"Loss\")\n",
        "plt.plot(history.history['val_loss'],lw=2,marker=\"P\",markersize=10,color=\"green\",label=\"Validation_Loss\")\n",
        "plt.title('Model Loss')\n",
        "plt.ylabel('Loss')\n",
        "plt.xlabel('Epoch')\n",
        "plt.legend(loc=\"best\")\n",
        "plt.show()"
      ]
    },
    {
      "cell_type": "code",
      "execution_count": null,
      "metadata": {
        "colab": {
          "base_uri": "https://localhost:8080/"
        },
        "execution": {
          "iopub.execute_input": "2023-07-10T19:42:15.154986Z",
          "iopub.status.busy": "2023-07-10T19:42:15.154228Z",
          "iopub.status.idle": "2023-07-10T19:42:15.489181Z",
          "shell.execute_reply": "2023-07-10T19:42:15.488172Z",
          "shell.execute_reply.started": "2023-07-10T19:42:15.154947Z"
        },
        "id": "UnsOsocBsdN8",
        "outputId": "385692e3-0523-4684-dedd-8490e4d4fe34"
      },
      "outputs": [
        {
          "data": {
            "image/png": "[encoded data removed]",
            "text/plain": [
              "<Figure size 700x500 with 1 Axes>"
            ]
          },
          "metadata": {},
          "output_type": "display_data"
        }
      ],
      "source": [
        "plt.figure(figsize=(7,5))\n",
        "plt.plot(history.history['accuracy'],lw=2,marker=\"H\",markersize=10,color=\"purple\",label=\"Accuracy\")\n",
        "plt.plot(history.history['val_accuracy'],lw=2,marker=\"D\",markersize=10,color=\"crimson\",label=\"Validation_Accuracy\")\n",
        "plt.title('Model Accuracy')\n",
        "plt.ylabel('Accuracy')\n",
        "plt.xlabel('Epoch')\n",
        "plt.legend(loc=\"best\")\n",
        "plt.show()"
      ]
    }
  ],
  "metadata": {
    "colab": {
      "provenance": [],
      "include_colab_link": true
    },
    "kernelspec": {
      "display_name": "Python 3",
      "name": "python3"
    },
    "language_info": {
      "codemirror_mode": {
        "name": "ipython",
        "version": 3
      },
      "file_extension": ".py",
      "mimetype": "text/x-python",
      "name": "python",
      "nbconvert_exporter": "python",
      "pygments_lexer": "ipython3",
      "version": "3.11.4"
    },
    "widgets": {
      "application/vnd.jupyter.widget-state+json": {
        "5d2c37c3fad6461b954bcb828f25063b": {
          "model_module": "@jupyter-widgets/controls",
          "model_name": "HBoxModel",
          "model_module_version": "1.5.0",
          "state": {
            "_dom_classes": [],
            "_model_module": "@jupyter-widgets/controls",
            "_model_module_version": "1.5.0",
            "_model_name": "HBoxModel",
            "_view_count": null,
            "_view_module": "@jupyter-widgets/controls",
            "_view_module_version": "1.5.0",
            "_view_name": "HBoxView",
            "box_style": "",
            "children": [
              "IPY_MODEL_10e2408a298741c29f9274bcb0dfc84f",
              "IPY_MODEL_824bbcacd70341dfa8d48bd6c5f258dd",
              "IPY_MODEL_bfdbd626c37e4fbdb93e4a2537084401"
            ],
            "layout": "IPY_MODEL_0e14585c64bb4b62b45d5197eccab8b3"
          }
        },
        "10e2408a298741c29f9274bcb0dfc84f": {
          "model_module": "@jupyter-widgets/controls",
          "model_name": "HTMLModel",
          "model_module_version": "1.5.0",
          "state": {
            "_dom_classes": [],
            "_model_module": "@jupyter-widgets/controls",
            "_model_module_version": "1.5.0",
            "_model_name": "HTMLModel",
            "_view_count": null,
            "_view_module": "@jupyter-widgets/controls",
            "_view_module_version": "1.5.0",
            "_view_name": "HTMLView",
            "description": "",
            "description_tooltip": null,
            "layout": "IPY_MODEL_e87e0e28cc304bcbb66eb363450b9fc9",
            "placeholder": "​",
            "style": "IPY_MODEL_0284d349f06a43a2b1ca114fb413c47a",
            "value": "Downloading (…)lve/main/config.json: 100%"
          }
        },
        "824bbcacd70341dfa8d48bd6c5f258dd": {
          "model_module": "@jupyter-widgets/controls",
          "model_name": "FloatProgressModel",
          "model_module_version": "1.5.0",
          "state": {
            "_dom_classes": [],
            "_model_module": "@jupyter-widgets/controls",
            "_model_module_version": "1.5.0",
            "_model_name": "FloatProgressModel",
            "_view_count": null,
            "_view_module": "@jupyter-widgets/controls",
            "_view_module_version": "1.5.0",
            "_view_name": "ProgressView",
            "bar_style": "success",
            "description": "",
            "description_tooltip": null,
            "layout": "IPY_MODEL_7250dd89d02146929724a6ee205c0c27",
            "max": 684,
            "min": 0,
            "orientation": "horizontal",
            "style": "IPY_MODEL_65436111143847ea8290b0d8de99ae84",
            "value": 684
          }
        },
        "bfdbd626c37e4fbdb93e4a2537084401": {
          "model_module": "@jupyter-widgets/controls",
          "model_name": "HTMLModel",
          "model_module_version": "1.5.0",
          "state": {
            "_dom_classes": [],
            "_model_module": "@jupyter-widgets/controls",
            "_model_module_version": "1.5.0",
            "_model_name": "HTMLModel",
            "_view_count": null,
            "_view_module": "@jupyter-widgets/controls",
            "_view_module_version": "1.5.0",
            "_view_name": "HTMLView",
            "description": "",
            "description_tooltip": null,
            "layout": "IPY_MODEL_33e23d591cef44e68cd12876e7661d0e",
            "placeholder": "​",
            "style": "IPY_MODEL_68f501055f064fdf82f6c229a9c56cf5",
            "value": " 684/684 [00:00&lt;00:00, 21.6kB/s]"
          }
        },
        "0e14585c64bb4b62b45d5197eccab8b3": {
          "model_module": "@jupyter-widgets/base",
          "model_name": "LayoutModel",
          "model_module_version": "1.2.0",
          "state": {
            "_model_module": "@jupyter-widgets/base",
            "_model_module_version": "1.2.0",
            "_model_name": "LayoutModel",
            "_view_count": null,
            "_view_module": "@jupyter-widgets/base",
            "_view_module_version": "1.2.0",
            "_view_name": "LayoutView",
            "align_content": null,
            "align_items": null,
            "align_self": null,
            "border": null,
            "bottom": null,
            "display": null,
            "flex": null,
            "flex_flow": null,
            "grid_area": null,
            "grid_auto_columns": null,
            "grid_auto_flow": null,
            "grid_auto_rows": null,
            "grid_column": null,
            "grid_gap": null,
            "grid_row": null,
            "grid_template_areas": null,
            "grid_template_columns": null,
            "grid_template_rows": null,
            "height": null,
            "justify_content": null,
            "justify_items": null,
            "left": null,
            "margin": null,
            "max_height": null,
            "max_width": null,
            "min_height": null,
            "min_width": null,
            "object_fit": null,
            "object_position": null,
            "order": null,
            "overflow": null,
            "overflow_x": null,
            "overflow_y": null,
            "padding": null,
            "right": null,
            "top": null,
            "visibility": null,
            "width": null
          }
        },
        "e87e0e28cc304bcbb66eb363450b9fc9": {
          "model_module": "@jupyter-widgets/base",
          "model_name": "LayoutModel",
          "model_module_version": "1.2.0",
          "state": {
            "_model_module": "@jupyter-widgets/base",
            "_model_module_version": "1.2.0",
            "_model_name": "LayoutModel",
            "_view_count": null,
            "_view_module": "@jupyter-widgets/base",
            "_view_module_version": "1.2.0",
            "_view_name": "LayoutView",
            "align_content": null,
            "align_items": null,
            "align_self": null,
            "border": null,
            "bottom": null,
            "display": null,
            "flex": null,
            "flex_flow": null,
            "grid_area": null,
            "grid_auto_columns": null,
            "grid_auto_flow": null,
            "grid_auto_rows": null,
            "grid_column": null,
            "grid_gap": null,
            "grid_row": null,
            "grid_template_areas": null,
            "grid_template_columns": null,
            "grid_template_rows": null,
            "height": null,
            "justify_content": null,
            "justify_items": null,
            "left": null,
            "margin": null,
            "max_height": null,
            "max_width": null,
            "min_height": null,
            "min_width": null,
            "object_fit": null,
            "object_position": null,
            "order": null,
            "overflow": null,
            "overflow_x": null,
            "overflow_y": null,
            "padding": null,
            "right": null,
            "top": null,
            "visibility": null,
            "width": null
          }
        },
        "0284d349f06a43a2b1ca114fb413c47a": {
          "model_module": "@jupyter-widgets/controls",
          "model_name": "DescriptionStyleModel",
          "model_module_version": "1.5.0",
          "state": {
            "_model_module": "@jupyter-widgets/controls",
            "_model_module_version": "1.5.0",
            "_model_name": "DescriptionStyleModel",
            "_view_count": null,
            "_view_module": "@jupyter-widgets/base",
            "_view_module_version": "1.2.0",
            "_view_name": "StyleView",
            "description_width": ""
          }
        },
        "7250dd89d02146929724a6ee205c0c27": {
          "model_module": "@jupyter-widgets/base",
          "model_name": "LayoutModel",
          "model_module_version": "1.2.0",
          "state": {
            "_model_module": "@jupyter-widgets/base",
            "_model_module_version": "1.2.0",
            "_model_name": "LayoutModel",
            "_view_count": null,
            "_view_module": "@jupyter-widgets/base",
            "_view_module_version": "1.2.0",
            "_view_name": "LayoutView",
            "align_content": null,
            "align_items": null,
            "align_self": null,
            "border": null,
            "bottom": null,
            "display": null,
            "flex": null,
            "flex_flow": null,
            "grid_area": null,
            "grid_auto_columns": null,
            "grid_auto_flow": null,
            "grid_auto_rows": null,
            "grid_column": null,
            "grid_gap": null,
            "grid_row": null,
            "grid_template_areas": null,
            "grid_template_columns": null,
            "grid_template_rows": null,
            "height": null,
            "justify_content": null,
            "justify_items": null,
            "left": null,
            "margin": null,
            "max_height": null,
            "max_width": null,
            "min_height": null,
            "min_width": null,
            "object_fit": null,
            "object_position": null,
            "order": null,
            "overflow": null,
            "overflow_x": null,
            "overflow_y": null,
            "padding": null,
            "right": null,
            "top": null,
            "visibility": null,
            "width": null
          }
        },
        "65436111143847ea8290b0d8de99ae84": {
          "model_module": "@jupyter-widgets/controls",
          "model_name": "ProgressStyleModel",
          "model_module_version": "1.5.0",
          "state": {
            "_model_module": "@jupyter-widgets/controls",
            "_model_module_version": "1.5.0",
            "_model_name": "ProgressStyleModel",
            "_view_count": null,
            "_view_module": "@jupyter-widgets/base",
            "_view_module_version": "1.2.0",
            "_view_name": "StyleView",
            "bar_color": null,
            "description_width": ""
          }
        },
        "33e23d591cef44e68cd12876e7661d0e": {
          "model_module": "@jupyter-widgets/base",
          "model_name": "LayoutModel",
          "model_module_version": "1.2.0",
          "state": {
            "_model_module": "@jupyter-widgets/base",
            "_model_module_version": "1.2.0",
            "_model_name": "LayoutModel",
            "_view_count": null,
            "_view_module": "@jupyter-widgets/base",
            "_view_module_version": "1.2.0",
            "_view_name": "LayoutView",
            "align_content": null,
            "align_items": null,
            "align_self": null,
            "border": null,
            "bottom": null,
            "display": null,
            "flex": null,
            "flex_flow": null,
            "grid_area": null,
            "grid_auto_columns": null,
            "grid_auto_flow": null,
            "grid_auto_rows": null,
            "grid_column": null,
            "grid_gap": null,
            "grid_row": null,
            "grid_template_areas": null,
            "grid_template_columns": null,
            "grid_template_rows": null,
            "height": null,
            "justify_content": null,
            "justify_items": null,
            "left": null,
            "margin": null,
            "max_height": null,
            "max_width": null,
            "min_height": null,
            "min_width": null,
            "object_fit": null,
            "object_position": null,
            "order": null,
            "overflow": null,
            "overflow_x": null,
            "overflow_y": null,
            "padding": null,
            "right": null,
            "top": null,
            "visibility": null,
            "width": null
          }
        },
        "68f501055f064fdf82f6c229a9c56cf5": {
          "model_module": "@jupyter-widgets/controls",
          "model_name": "DescriptionStyleModel",
          "model_module_version": "1.5.0",
          "state": {
            "_model_module": "@jupyter-widgets/controls",
            "_model_module_version": "1.5.0",
            "_model_name": "DescriptionStyleModel",
            "_view_count": null,
            "_view_module": "@jupyter-widgets/base",
            "_view_module_version": "1.2.0",
            "_view_name": "StyleView",
            "description_width": ""
          }
        },
        "902a5244238243759dc4f3d1482d1489": {
          "model_module": "@jupyter-widgets/controls",
          "model_name": "HBoxModel",
          "model_module_version": "1.5.0",
          "state": {
            "_dom_classes": [],
            "_model_module": "@jupyter-widgets/controls",
            "_model_module_version": "1.5.0",
            "_model_name": "HBoxModel",
            "_view_count": null,
            "_view_module": "@jupyter-widgets/controls",
            "_view_module_version": "1.5.0",
            "_view_name": "HBoxView",
            "box_style": "",
            "children": [
              "IPY_MODEL_f274fd31fda44f199848805f33b09a01",
              "IPY_MODEL_f44392d4efa0484481fb22100b3b50a0",
              "IPY_MODEL_0ad9f73a173343529b651ca7a5e38e7e"
            ],
            "layout": "IPY_MODEL_4838459e47b741888001c4cf79cb3708"
          }
        },
        "f274fd31fda44f199848805f33b09a01": {
          "model_module": "@jupyter-widgets/controls",
          "model_name": "HTMLModel",
          "model_module_version": "1.5.0",
          "state": {
            "_dom_classes": [],
            "_model_module": "@jupyter-widgets/controls",
            "_model_module_version": "1.5.0",
            "_model_name": "HTMLModel",
            "_view_count": null,
            "_view_module": "@jupyter-widgets/controls",
            "_view_module_version": "1.5.0",
            "_view_name": "HTMLView",
            "description": "",
            "description_tooltip": null,
            "layout": "IPY_MODEL_a43f16b8911e49e2a63d6cf81ef798ad",
            "placeholder": "​",
            "style": "IPY_MODEL_4f926f0187d9416f99bcab9facc258d5",
            "value": "Downloading (…)ve/main/spiece.model: 100%"
          }
        },
        "f44392d4efa0484481fb22100b3b50a0": {
          "model_module": "@jupyter-widgets/controls",
          "model_name": "FloatProgressModel",
          "model_module_version": "1.5.0",
          "state": {
            "_dom_classes": [],
            "_model_module": "@jupyter-widgets/controls",
            "_model_module_version": "1.5.0",
            "_model_name": "FloatProgressModel",
            "_view_count": null,
            "_view_module": "@jupyter-widgets/controls",
            "_view_module_version": "1.5.0",
            "_view_name": "ProgressView",
            "bar_style": "success",
            "description": "",
            "description_tooltip": null,
            "layout": "IPY_MODEL_86b2fdaba0f840de92274b00aaca4200",
            "max": 760289,
            "min": 0,
            "orientation": "horizontal",
            "style": "IPY_MODEL_d7c41a89387c4395aa10b9a38086bbe4",
            "value": 760289
          }
        },
        "0ad9f73a173343529b651ca7a5e38e7e": {
          "model_module": "@jupyter-widgets/controls",
          "model_name": "HTMLModel",
          "model_module_version": "1.5.0",
          "state": {
            "_dom_classes": [],
            "_model_module": "@jupyter-widgets/controls",
            "_model_module_version": "1.5.0",
            "_model_name": "HTMLModel",
            "_view_count": null,
            "_view_module": "@jupyter-widgets/controls",
            "_view_module_version": "1.5.0",
            "_view_name": "HTMLView",
            "description": "",
            "description_tooltip": null,
            "layout": "IPY_MODEL_c9af258770f9490cb1610faef5c90ca7",
            "placeholder": "​",
            "style": "IPY_MODEL_60a34c8eb1f843a8901fa9207d412d3f",
            "value": " 760k/760k [00:00&lt;00:00, 8.25MB/s]"
          }
        },
        "4838459e47b741888001c4cf79cb3708": {
          "model_module": "@jupyter-widgets/base",
          "model_name": "LayoutModel",
          "model_module_version": "1.2.0",
          "state": {
            "_model_module": "@jupyter-widgets/base",
            "_model_module_version": "1.2.0",
            "_model_name": "LayoutModel",
            "_view_count": null,
            "_view_module": "@jupyter-widgets/base",
            "_view_module_version": "1.2.0",
            "_view_name": "LayoutView",
            "align_content": null,
            "align_items": null,
            "align_self": null,
            "border": null,
            "bottom": null,
            "display": null,
            "flex": null,
            "flex_flow": null,
            "grid_area": null,
            "grid_auto_columns": null,
            "grid_auto_flow": null,
            "grid_auto_rows": null,
            "grid_column": null,
            "grid_gap": null,
            "grid_row": null,
            "grid_template_areas": null,
            "grid_template_columns": null,
            "grid_template_rows": null,
            "height": null,
            "justify_content": null,
            "justify_items": null,
            "left": null,
            "margin": null,
            "max_height": null,
            "max_width": null,
            "min_height": null,
            "min_width": null,
            "object_fit": null,
            "object_position": null,
            "order": null,
            "overflow": null,
            "overflow_x": null,
            "overflow_y": null,
            "padding": null,
            "right": null,
            "top": null,
            "visibility": null,
            "width": null
          }
        },
        "a43f16b8911e49e2a63d6cf81ef798ad": {
          "model_module": "@jupyter-widgets/base",
          "model_name": "LayoutModel",
          "model_module_version": "1.2.0",
          "state": {
            "_model_module": "@jupyter-widgets/base",
            "_model_module_version": "1.2.0",
            "_model_name": "LayoutModel",
            "_view_count": null,
            "_view_module": "@jupyter-widgets/base",
            "_view_module_version": "1.2.0",
            "_view_name": "LayoutView",
            "align_content": null,
            "align_items": null,
            "align_self": null,
            "border": null,
            "bottom": null,
            "display": null,
            "flex": null,
            "flex_flow": null,
            "grid_area": null,
            "grid_auto_columns": null,
            "grid_auto_flow": null,
            "grid_auto_rows": null,
            "grid_column": null,
            "grid_gap": null,
            "grid_row": null,
            "grid_template_areas": null,
            "grid_template_columns": null,
            "grid_template_rows": null,
            "height": null,
            "justify_content": null,
            "justify_items": null,
            "left": null,
            "margin": null,
            "max_height": null,
            "max_width": null,
            "min_height": null,
            "min_width": null,
            "object_fit": null,
            "object_position": null,
            "order": null,
            "overflow": null,
            "overflow_x": null,
            "overflow_y": null,
            "padding": null,
            "right": null,
            "top": null,
            "visibility": null,
            "width": null
          }
        },
        "4f926f0187d9416f99bcab9facc258d5": {
          "model_module": "@jupyter-widgets/controls",
          "model_name": "DescriptionStyleModel",
          "model_module_version": "1.5.0",
          "state": {
            "_model_module": "@jupyter-widgets/controls",
            "_model_module_version": "1.5.0",
            "_model_name": "DescriptionStyleModel",
            "_view_count": null,
            "_view_module": "@jupyter-widgets/base",
            "_view_module_version": "1.2.0",
            "_view_name": "StyleView",
            "description_width": ""
          }
        },
        "86b2fdaba0f840de92274b00aaca4200": {
          "model_module": "@jupyter-widgets/base",
          "model_name": "LayoutModel",
          "model_module_version": "1.2.0",
          "state": {
            "_model_module": "@jupyter-widgets/base",
            "_model_module_version": "1.2.0",
            "_model_name": "LayoutModel",
            "_view_count": null,
            "_view_module": "@jupyter-widgets/base",
            "_view_module_version": "1.2.0",
            "_view_name": "LayoutView",
            "align_content": null,
            "align_items": null,
            "align_self": null,
            "border": null,
            "bottom": null,
            "display": null,
            "flex": null,
            "flex_flow": null,
            "grid_area": null,
            "grid_auto_columns": null,
            "grid_auto_flow": null,
            "grid_auto_rows": null,
            "grid_column": null,
            "grid_gap": null,
            "grid_row": null,
            "grid_template_areas": null,
            "grid_template_columns": null,
            "grid_template_rows": null,
            "height": null,
            "justify_content": null,
            "justify_items": null,
            "left": null,
            "margin": null,
            "max_height": null,
            "max_width": null,
            "min_height": null,
            "min_width": null,
            "object_fit": null,
            "object_position": null,
            "order": null,
            "overflow": null,
            "overflow_x": null,
            "overflow_y": null,
            "padding": null,
            "right": null,
            "top": null,
            "visibility": null,
            "width": null
          }
        },
        "d7c41a89387c4395aa10b9a38086bbe4": {
          "model_module": "@jupyter-widgets/controls",
          "model_name": "ProgressStyleModel",
          "model_module_version": "1.5.0",
          "state": {
            "_model_module": "@jupyter-widgets/controls",
            "_model_module_version": "1.5.0",
            "_model_name": "ProgressStyleModel",
            "_view_count": null,
            "_view_module": "@jupyter-widgets/base",
            "_view_module_version": "1.2.0",
            "_view_name": "StyleView",
            "bar_color": null,
            "description_width": ""
          }
        },
        "c9af258770f9490cb1610faef5c90ca7": {
          "model_module": "@jupyter-widgets/base",
          "model_name": "LayoutModel",
          "model_module_version": "1.2.0",
          "state": {
            "_model_module": "@jupyter-widgets/base",
            "_model_module_version": "1.2.0",
            "_model_name": "LayoutModel",
            "_view_count": null,
            "_view_module": "@jupyter-widgets/base",
            "_view_module_version": "1.2.0",
            "_view_name": "LayoutView",
            "align_content": null,
            "align_items": null,
            "align_self": null,
            "border": null,
            "bottom": null,
            "display": null,
            "flex": null,
            "flex_flow": null,
            "grid_area": null,
            "grid_auto_columns": null,
            "grid_auto_flow": null,
            "grid_auto_rows": null,
            "grid_column": null,
            "grid_gap": null,
            "grid_row": null,
            "grid_template_areas": null,
            "grid_template_columns": null,
            "grid_template_rows": null,
            "height": null,
            "justify_content": null,
            "justify_items": null,
            "left": null,
            "margin": null,
            "max_height": null,
            "max_width": null,
            "min_height": null,
            "min_width": null,
            "object_fit": null,
            "object_position": null,
            "order": null,
            "overflow": null,
            "overflow_x": null,
            "overflow_y": null,
            "padding": null,
            "right": null,
            "top": null,
            "visibility": null,
            "width": null
          }
        },
        "60a34c8eb1f843a8901fa9207d412d3f": {
          "model_module": "@jupyter-widgets/controls",
          "model_name": "DescriptionStyleModel",
          "model_module_version": "1.5.0",
          "state": {
            "_model_module": "@jupyter-widgets/controls",
            "_model_module_version": "1.5.0",
            "_model_name": "DescriptionStyleModel",
            "_view_count": null,
            "_view_module": "@jupyter-widgets/base",
            "_view_module_version": "1.2.0",
            "_view_name": "StyleView",
            "description_width": ""
          }
        },
        "e6861bf2b4384851997198af573498ae": {
          "model_module": "@jupyter-widgets/controls",
          "model_name": "HBoxModel",
          "model_module_version": "1.5.0",
          "state": {
            "_dom_classes": [],
            "_model_module": "@jupyter-widgets/controls",
            "_model_module_version": "1.5.0",
            "_model_name": "HBoxModel",
            "_view_count": null,
            "_view_module": "@jupyter-widgets/controls",
            "_view_module_version": "1.5.0",
            "_view_name": "HBoxView",
            "box_style": "",
            "children": [
              "IPY_MODEL_3ea4f957e00e47cfb809012e5e6fb21f",
              "IPY_MODEL_dd9418bf34ef4cd5bb64b71c307223b5",
              "IPY_MODEL_7705f904ca6748b0876f42e634ef49e4"
            ],
            "layout": "IPY_MODEL_07537e3b837142048262c8db3711fed1"
          }
        },
        "3ea4f957e00e47cfb809012e5e6fb21f": {
          "model_module": "@jupyter-widgets/controls",
          "model_name": "HTMLModel",
          "model_module_version": "1.5.0",
          "state": {
            "_dom_classes": [],
            "_model_module": "@jupyter-widgets/controls",
            "_model_module_version": "1.5.0",
            "_model_name": "HTMLModel",
            "_view_count": null,
            "_view_module": "@jupyter-widgets/controls",
            "_view_module_version": "1.5.0",
            "_view_name": "HTMLView",
            "description": "",
            "description_tooltip": null,
            "layout": "IPY_MODEL_211e439c748c466f872160f899e15ae1",
            "placeholder": "​",
            "style": "IPY_MODEL_2c4d45ff52d94541a38d5f3372140870",
            "value": "Downloading (…)/main/tokenizer.json: 100%"
          }
        },
        "dd9418bf34ef4cd5bb64b71c307223b5": {
          "model_module": "@jupyter-widgets/controls",
          "model_name": "FloatProgressModel",
          "model_module_version": "1.5.0",
          "state": {
            "_dom_classes": [],
            "_model_module": "@jupyter-widgets/controls",
            "_model_module_version": "1.5.0",
            "_model_name": "FloatProgressModel",
            "_view_count": null,
            "_view_module": "@jupyter-widgets/controls",
            "_view_module_version": "1.5.0",
            "_view_name": "ProgressView",
            "bar_style": "success",
            "description": "",
            "description_tooltip": null,
            "layout": "IPY_MODEL_baaeab4a2d3d4377ba90b26b21b4ed4d",
            "max": 1312669,
            "min": 0,
            "orientation": "horizontal",
            "style": "IPY_MODEL_a888ce92038c4ae68840073a07a3a18e",
            "value": 1312669
          }
        },
        "7705f904ca6748b0876f42e634ef49e4": {
          "model_module": "@jupyter-widgets/controls",
          "model_name": "HTMLModel",
          "model_module_version": "1.5.0",
          "state": {
            "_dom_classes": [],
            "_model_module": "@jupyter-widgets/controls",
            "_model_module_version": "1.5.0",
            "_model_name": "HTMLModel",
            "_view_count": null,
            "_view_module": "@jupyter-widgets/controls",
            "_view_module_version": "1.5.0",
            "_view_name": "HTMLView",
            "description": "",
            "description_tooltip": null,
            "layout": "IPY_MODEL_ba2058bc19af4820bf905201eccf3acd",
            "placeholder": "​",
            "style": "IPY_MODEL_f3ca3be0c71646879a33cfe8ce72ebc6",
            "value": " 1.31M/1.31M [00:00&lt;00:00, 13.2MB/s]"
          }
        },
        "07537e3b837142048262c8db3711fed1": {
          "model_module": "@jupyter-widgets/base",
          "model_name": "LayoutModel",
          "model_module_version": "1.2.0",
          "state": {
            "_model_module": "@jupyter-widgets/base",
            "_model_module_version": "1.2.0",
            "_model_name": "LayoutModel",
            "_view_count": null,
            "_view_module": "@jupyter-widgets/base",
            "_view_module_version": "1.2.0",
            "_view_name": "LayoutView",
            "align_content": null,
            "align_items": null,
            "align_self": null,
            "border": null,
            "bottom": null,
            "display": null,
            "flex": null,
            "flex_flow": null,
            "grid_area": null,
            "grid_auto_columns": null,
            "grid_auto_flow": null,
            "grid_auto_rows": null,
            "grid_column": null,
            "grid_gap": null,
            "grid_row": null,
            "grid_template_areas": null,
            "grid_template_columns": null,
            "grid_template_rows": null,
            "height": null,
            "justify_content": null,
            "justify_items": null,
            "left": null,
            "margin": null,
            "max_height": null,
            "max_width": null,
            "min_height": null,
            "min_width": null,
            "object_fit": null,
            "object_position": null,
            "order": null,
            "overflow": null,
            "overflow_x": null,
            "overflow_y": null,
            "padding": null,
            "right": null,
            "top": null,
            "visibility": null,
            "width": null
          }
        },
        "211e439c748c466f872160f899e15ae1": {
          "model_module": "@jupyter-widgets/base",
          "model_name": "LayoutModel",
          "model_module_version": "1.2.0",
          "state": {
            "_model_module": "@jupyter-widgets/base",
            "_model_module_version": "1.2.0",
            "_model_name": "LayoutModel",
            "_view_count": null,
            "_view_module": "@jupyter-widgets/base",
            "_view_module_version": "1.2.0",
            "_view_name": "LayoutView",
            "align_content": null,
            "align_items": null,
            "align_self": null,
            "border": null,
            "bottom": null,
            "display": null,
            "flex": null,
            "flex_flow": null,
            "grid_area": null,
            "grid_auto_columns": null,
            "grid_auto_flow": null,
            "grid_auto_rows": null,
            "grid_column": null,
            "grid_gap": null,
            "grid_row": null,
            "grid_template_areas": null,
            "grid_template_columns": null,
            "grid_template_rows": null,
            "height": null,
            "justify_content": null,
            "justify_items": null,
            "left": null,
            "margin": null,
            "max_height": null,
            "max_width": null,
            "min_height": null,
            "min_width": null,
            "object_fit": null,
            "object_position": null,
            "order": null,
            "overflow": null,
            "overflow_x": null,
            "overflow_y": null,
            "padding": null,
            "right": null,
            "top": null,
            "visibility": null,
            "width": null
          }
        },
        "2c4d45ff52d94541a38d5f3372140870": {
          "model_module": "@jupyter-widgets/controls",
          "model_name": "DescriptionStyleModel",
          "model_module_version": "1.5.0",
          "state": {
            "_model_module": "@jupyter-widgets/controls",
            "_model_module_version": "1.5.0",
            "_model_name": "DescriptionStyleModel",
            "_view_count": null,
            "_view_module": "@jupyter-widgets/base",
            "_view_module_version": "1.2.0",
            "_view_name": "StyleView",
            "description_width": ""
          }
        },
        "baaeab4a2d3d4377ba90b26b21b4ed4d": {
          "model_module": "@jupyter-widgets/base",
          "model_name": "LayoutModel",
          "model_module_version": "1.2.0",
          "state": {
            "_model_module": "@jupyter-widgets/base",
            "_model_module_version": "1.2.0",
            "_model_name": "LayoutModel",
            "_view_count": null,
            "_view_module": "@jupyter-widgets/base",
            "_view_module_version": "1.2.0",
            "_view_name": "LayoutView",
            "align_content": null,
            "align_items": null,
            "align_self": null,
            "border": null,
            "bottom": null,
            "display": null,
            "flex": null,
            "flex_flow": null,
            "grid_area": null,
            "grid_auto_columns": null,
            "grid_auto_flow": null,
            "grid_auto_rows": null,
            "grid_column": null,
            "grid_gap": null,
            "grid_row": null,
            "grid_template_areas": null,
            "grid_template_columns": null,
            "grid_template_rows": null,
            "height": null,
            "justify_content": null,
            "justify_items": null,
            "left": null,
            "margin": null,
            "max_height": null,
            "max_width": null,
            "min_height": null,
            "min_width": null,
            "object_fit": null,
            "object_position": null,
            "order": null,
            "overflow": null,
            "overflow_x": null,
            "overflow_y": null,
            "padding": null,
            "right": null,
            "top": null,
            "visibility": null,
            "width": null
          }
        },
        "a888ce92038c4ae68840073a07a3a18e": {
          "model_module": "@jupyter-widgets/controls",
          "model_name": "ProgressStyleModel",
          "model_module_version": "1.5.0",
          "state": {
            "_model_module": "@jupyter-widgets/controls",
            "_model_module_version": "1.5.0",
            "_model_name": "ProgressStyleModel",
            "_view_count": null,
            "_view_module": "@jupyter-widgets/base",
            "_view_module_version": "1.2.0",
            "_view_name": "StyleView",
            "bar_color": null,
            "description_width": ""
          }
        },
        "ba2058bc19af4820bf905201eccf3acd": {
          "model_module": "@jupyter-widgets/base",
          "model_name": "LayoutModel",
          "model_module_version": "1.2.0",
          "state": {
            "_model_module": "@jupyter-widgets/base",
            "_model_module_version": "1.2.0",
            "_model_name": "LayoutModel",
            "_view_count": null,
            "_view_module": "@jupyter-widgets/base",
            "_view_module_version": "1.2.0",
            "_view_name": "LayoutView",
            "align_content": null,
            "align_items": null,
            "align_self": null,
            "border": null,
            "bottom": null,
            "display": null,
            "flex": null,
            "flex_flow": null,
            "grid_area": null,
            "grid_auto_columns": null,
            "grid_auto_flow": null,
            "grid_auto_rows": null,
            "grid_column": null,
            "grid_gap": null,
            "grid_row": null,
            "grid_template_areas": null,
            "grid_template_columns": null,
            "grid_template_rows": null,
            "height": null,
            "justify_content": null,
            "justify_items": null,
            "left": null,
            "margin": null,
            "max_height": null,
            "max_width": null,
            "min_height": null,
            "min_width": null,
            "object_fit": null,
            "object_position": null,
            "order": null,
            "overflow": null,
            "overflow_x": null,
            "overflow_y": null,
            "padding": null,
            "right": null,
            "top": null,
            "visibility": null,
            "width": null
          }
        },
        "f3ca3be0c71646879a33cfe8ce72ebc6": {
          "model_module": "@jupyter-widgets/controls",
          "model_name": "DescriptionStyleModel",
          "model_module_version": "1.5.0",
          "state": {
            "_model_module": "@jupyter-widgets/controls",
            "_model_module_version": "1.5.0",
            "_model_name": "DescriptionStyleModel",
            "_view_count": null,
            "_view_module": "@jupyter-widgets/base",
            "_view_module_version": "1.2.0",
            "_view_name": "StyleView",
            "description_width": ""
          }
        },
        "3345c1839f2d4fecac3d66653ed112a2": {
          "model_module": "@jupyter-widgets/controls",
          "model_name": "HBoxModel",
          "model_module_version": "1.5.0",
          "state": {
            "_dom_classes": [],
            "_model_module": "@jupyter-widgets/controls",
            "_model_module_version": "1.5.0",
            "_model_name": "HBoxModel",
            "_view_count": null,
            "_view_module": "@jupyter-widgets/controls",
            "_view_module_version": "1.5.0",
            "_view_name": "HBoxView",
            "box_style": "",
            "children": [
              "IPY_MODEL_1a99fe96b3f04adabd75f674fd6e57dd",
              "IPY_MODEL_8e249314aeec4696b805b9dc4ae0b740",
              "IPY_MODEL_0930fb52ea3641619525133bdbb0e746"
            ],
            "layout": "IPY_MODEL_7bcae80999ad4a6abdb12e6e7ce903c9"
          }
        },
        "1a99fe96b3f04adabd75f674fd6e57dd": {
          "model_module": "@jupyter-widgets/controls",
          "model_name": "HTMLModel",
          "model_module_version": "1.5.0",
          "state": {
            "_dom_classes": [],
            "_model_module": "@jupyter-widgets/controls",
            "_model_module_version": "1.5.0",
            "_model_name": "HTMLModel",
            "_view_count": null,
            "_view_module": "@jupyter-widgets/controls",
            "_view_module_version": "1.5.0",
            "_view_name": "HTMLView",
            "description": "",
            "description_tooltip": null,
            "layout": "IPY_MODEL_8d18dba722be4162836784e2381912d1",
            "placeholder": "​",
            "style": "IPY_MODEL_7a84bc2dc2e04c3a91b44bccfe893c9b",
            "value": "Downloading pytorch_model.bin: 100%"
          }
        },
        "8e249314aeec4696b805b9dc4ae0b740": {
          "model_module": "@jupyter-widgets/controls",
          "model_name": "FloatProgressModel",
          "model_module_version": "1.5.0",
          "state": {
            "_dom_classes": [],
            "_model_module": "@jupyter-widgets/controls",
            "_model_module_version": "1.5.0",
            "_model_name": "FloatProgressModel",
            "_view_count": null,
            "_view_module": "@jupyter-widgets/controls",
            "_view_module_version": "1.5.0",
            "_view_name": "ProgressView",
            "bar_style": "success",
            "description": "",
            "description_tooltip": null,
            "layout": "IPY_MODEL_7bcc95608a104380a4eaa7a49227e31d",
            "max": 47376696,
            "min": 0,
            "orientation": "horizontal",
            "style": "IPY_MODEL_38542e077114472ab4654722a47ecef0",
            "value": 47376696
          }
        },
        "0930fb52ea3641619525133bdbb0e746": {
          "model_module": "@jupyter-widgets/controls",
          "model_name": "HTMLModel",
          "model_module_version": "1.5.0",
          "state": {
            "_dom_classes": [],
            "_model_module": "@jupyter-widgets/controls",
            "_model_module_version": "1.5.0",
            "_model_name": "HTMLModel",
            "_view_count": null,
            "_view_module": "@jupyter-widgets/controls",
            "_view_module_version": "1.5.0",
            "_view_name": "HTMLView",
            "description": "",
            "description_tooltip": null,
            "layout": "IPY_MODEL_296f0245173c4d62a7b1c6555e503ec2",
            "placeholder": "​",
            "style": "IPY_MODEL_7275795e33ba4de7adcf30df9b2e108e",
            "value": " 47.4M/47.4M [00:00&lt;00:00, 74.9MB/s]"
          }
        },
        "7bcae80999ad4a6abdb12e6e7ce903c9": {
          "model_module": "@jupyter-widgets/base",
          "model_name": "LayoutModel",
          "model_module_version": "1.2.0",
          "state": {
            "_model_module": "@jupyter-widgets/base",
            "_model_module_version": "1.2.0",
            "_model_name": "LayoutModel",
            "_view_count": null,
            "_view_module": "@jupyter-widgets/base",
            "_view_module_version": "1.2.0",
            "_view_name": "LayoutView",
            "align_content": null,
            "align_items": null,
            "align_self": null,
            "border": null,
            "bottom": null,
            "display": null,
            "flex": null,
            "flex_flow": null,
            "grid_area": null,
            "grid_auto_columns": null,
            "grid_auto_flow": null,
            "grid_auto_rows": null,
            "grid_column": null,
            "grid_gap": null,
            "grid_row": null,
            "grid_template_areas": null,
            "grid_template_columns": null,
            "grid_template_rows": null,
            "height": null,
            "justify_content": null,
            "justify_items": null,
            "left": null,
            "margin": null,
            "max_height": null,
            "max_width": null,
            "min_height": null,
            "min_width": null,
            "object_fit": null,
            "object_position": null,
            "order": null,
            "overflow": null,
            "overflow_x": null,
            "overflow_y": null,
            "padding": null,
            "right": null,
            "top": null,
            "visibility": null,
            "width": null
          }
        },
        "8d18dba722be4162836784e2381912d1": {
          "model_module": "@jupyter-widgets/base",
          "model_name": "LayoutModel",
          "model_module_version": "1.2.0",
          "state": {
            "_model_module": "@jupyter-widgets/base",
            "_model_module_version": "1.2.0",
            "_model_name": "LayoutModel",
            "_view_count": null,
            "_view_module": "@jupyter-widgets/base",
            "_view_module_version": "1.2.0",
            "_view_name": "LayoutView",
            "align_content": null,
            "align_items": null,
            "align_self": null,
            "border": null,
            "bottom": null,
            "display": null,
            "flex": null,
            "flex_flow": null,
            "grid_area": null,
            "grid_auto_columns": null,
            "grid_auto_flow": null,
            "grid_auto_rows": null,
            "grid_column": null,
            "grid_gap": null,
            "grid_row": null,
            "grid_template_areas": null,
            "grid_template_columns": null,
            "grid_template_rows": null,
            "height": null,
            "justify_content": null,
            "justify_items": null,
            "left": null,
            "margin": null,
            "max_height": null,
            "max_width": null,
            "min_height": null,
            "min_width": null,
            "object_fit": null,
            "object_position": null,
            "order": null,
            "overflow": null,
            "overflow_x": null,
            "overflow_y": null,
            "padding": null,
            "right": null,
            "top": null,
            "visibility": null,
            "width": null
          }
        },
        "7a84bc2dc2e04c3a91b44bccfe893c9b": {
          "model_module": "@jupyter-widgets/controls",
          "model_name": "DescriptionStyleModel",
          "model_module_version": "1.5.0",
          "state": {
            "_model_module": "@jupyter-widgets/controls",
            "_model_module_version": "1.5.0",
            "_model_name": "DescriptionStyleModel",
            "_view_count": null,
            "_view_module": "@jupyter-widgets/base",
            "_view_module_version": "1.2.0",
            "_view_name": "StyleView",
            "description_width": ""
          }
        },
        "7bcc95608a104380a4eaa7a49227e31d": {
          "model_module": "@jupyter-widgets/base",
          "model_name": "LayoutModel",
          "model_module_version": "1.2.0",
          "state": {
            "_model_module": "@jupyter-widgets/base",
            "_model_module_version": "1.2.0",
            "_model_name": "LayoutModel",
            "_view_count": null,
            "_view_module": "@jupyter-widgets/base",
            "_view_module_version": "1.2.0",
            "_view_name": "LayoutView",
            "align_content": null,
            "align_items": null,
            "align_self": null,
            "border": null,
            "bottom": null,
            "display": null,
            "flex": null,
            "flex_flow": null,
            "grid_area": null,
            "grid_auto_columns": null,
            "grid_auto_flow": null,
            "grid_auto_rows": null,
            "grid_column": null,
            "grid_gap": null,
            "grid_row": null,
            "grid_template_areas": null,
            "grid_template_columns": null,
            "grid_template_rows": null,
            "height": null,
            "justify_content": null,
            "justify_items": null,
            "left": null,
            "margin": null,
            "max_height": null,
            "max_width": null,
            "min_height": null,
            "min_width": null,
            "object_fit": null,
            "object_position": null,
            "order": null,
            "overflow": null,
            "overflow_x": null,
            "overflow_y": null,
            "padding": null,
            "right": null,
            "top": null,
            "visibility": null,
            "width": null
          }
        },
        "38542e077114472ab4654722a47ecef0": {
          "model_module": "@jupyter-widgets/controls",
          "model_name": "ProgressStyleModel",
          "model_module_version": "1.5.0",
          "state": {
            "_model_module": "@jupyter-widgets/controls",
            "_model_module_version": "1.5.0",
            "_model_name": "ProgressStyleModel",
            "_view_count": null,
            "_view_module": "@jupyter-widgets/base",
            "_view_module_version": "1.2.0",
            "_view_name": "StyleView",
            "bar_color": null,
            "description_width": ""
          }
        },
        "296f0245173c4d62a7b1c6555e503ec2": {
          "model_module": "@jupyter-widgets/base",
          "model_name": "LayoutModel",
          "model_module_version": "1.2.0",
          "state": {
            "_model_module": "@jupyter-widgets/base",
            "_model_module_version": "1.2.0",
            "_model_name": "LayoutModel",
            "_view_count": null,
            "_view_module": "@jupyter-widgets/base",
            "_view_module_version": "1.2.0",
            "_view_name": "LayoutView",
            "align_content": null,
            "align_items": null,
            "align_self": null,
            "border": null,
            "bottom": null,
            "display": null,
            "flex": null,
            "flex_flow": null,
            "grid_area": null,
            "grid_auto_columns": null,
            "grid_auto_flow": null,
            "grid_auto_rows": null,
            "grid_column": null,
            "grid_gap": null,
            "grid_row": null,
            "grid_template_areas": null,
            "grid_template_columns": null,
            "grid_template_rows": null,
            "height": null,
            "justify_content": null,
            "justify_items": null,
            "left": null,
            "margin": null,
            "max_height": null,
            "max_width": null,
            "min_height": null,
            "min_width": null,
            "object_fit": null,
            "object_position": null,
            "order": null,
            "overflow": null,
            "overflow_x": null,
            "overflow_y": null,
            "padding": null,
            "right": null,
            "top": null,
            "visibility": null,
            "width": null
          }
        },
        "7275795e33ba4de7adcf30df9b2e108e": {
          "model_module": "@jupyter-widgets/controls",
          "model_name": "DescriptionStyleModel",
          "model_module_version": "1.5.0",
          "state": {
            "_model_module": "@jupyter-widgets/controls",
            "_model_module_version": "1.5.0",
            "_model_name": "DescriptionStyleModel",
            "_view_count": null,
            "_view_module": "@jupyter-widgets/base",
            "_view_module_version": "1.2.0",
            "_view_name": "StyleView",
            "description_width": ""
          }
        }
      }
    }
  },
  "nbformat": 4,
  "nbformat_minor": 0
}