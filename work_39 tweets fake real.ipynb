{
  "cells": [
    {
      "cell_type": "markdown",
      "metadata": {
        "id": "view-in-github",
        "colab_type": "text"
      },
      "source": [
        "<a href=\"https://colab.research.google.com/github/horsinnaround/Works/blob/main/work_39%20tweets%20fake%20real.ipynb\" target=\"_parent\"><img src=\"https://colab.research.google.com/assets/colab-badge.svg\" alt=\"Open In Colab\"/></a>"
      ]
    },
    {
      "cell_type": "code",
      "source": [
        "# !pip install datasets\n",
        "# from datasets import load_dataset\n",
        "\n",
        "# dataset = load_dataset(\"amazon_reviews_multi\", \"all_languages\")"
      ],
      "metadata": {
        "id": "JQRGo9dMZfgs"
      },
      "execution_count": null,
      "outputs": []
    },
    {
      "cell_type": "markdown",
      "metadata": {
        "id": "Bplenu8arMMa"
      },
      "source": [
        "# collecting data"
      ]
    },
    {
      "cell_type": "code",
      "execution_count": null,
      "metadata": {
        "colab": {
          "base_uri": "https://localhost:8080/",
          "height": 142
        },
        "id": "Z7nlpDQQowJS",
        "outputId": "549fc487-69e5-449a-93ce-3eb05f28215b"
      },
      "outputs": [
        {
          "output_type": "stream",
          "name": "stdout",
          "text": [
            "\u001b[?25l     \u001b[90m━━━━━━━━━━━━━━━━━━━━━━━━━━━━━━━━━━━━━━━━\u001b[0m \u001b[32m0.0/77.9 kB\u001b[0m \u001b[31m?\u001b[0m eta \u001b[36m-:--:--\u001b[0m\r\u001b[2K     \u001b[90m━━━━━━━━━━━━━━━━━━━━━━━━━━━━━━━━━━━━━━━━\u001b[0m \u001b[32m77.9/77.9 kB\u001b[0m \u001b[31m3.5 MB/s\u001b[0m eta \u001b[36m0:00:00\u001b[0m\n",
            "\u001b[?25h  Preparing metadata (setup.py) ... \u001b[?25l\u001b[?25hdone\n",
            "  Building wheel for kaggle (setup.py) ... \u001b[?25l\u001b[?25hdone\n"
          ]
        },
        {
          "output_type": "display_data",
          "data": {
            "text/plain": [
              "<IPython.core.display.HTML object>"
            ],
            "text/html": [
              "\n",
              "     <input type=\"file\" id=\"files-ad98b6c3-7d9a-4d0a-a354-198108ee2dd4\" name=\"files[]\" multiple disabled\n",
              "        style=\"border:none\" />\n",
              "     <output id=\"result-ad98b6c3-7d9a-4d0a-a354-198108ee2dd4\">\n",
              "      Upload widget is only available when the cell has been executed in the\n",
              "      current browser session. Please rerun this cell to enable.\n",
              "      </output>\n",
              "      <script>// Copyright 2017 Google LLC\n",
              "//\n",
              "// Licensed under the Apache License, Version 2.0 (the \"License\");\n",
              "// you may not use this file except in compliance with the License.\n",
              "// You may obtain a copy of the License at\n",
              "//\n",
              "//      http://www.apache.org/licenses/LICENSE-2.0\n",
              "//\n",
              "// Unless required by applicable law or agreed to in writing, software\n",
              "// distributed under the License is distributed on an \"AS IS\" BASIS,\n",
              "// WITHOUT WARRANTIES OR CONDITIONS OF ANY KIND, either express or implied.\n",
              "// See the License for the specific language governing permissions and\n",
              "// limitations under the License.\n",
              "\n",
              "/**\n",
              " * @fileoverview Helpers for google.colab Python module.\n",
              " */\n",
              "(function(scope) {\n",
              "function span(text, styleAttributes = {}) {\n",
              "  const element = document.createElement('span');\n",
              "  element.textContent = text;\n",
              "  for (const key of Object.keys(styleAttributes)) {\n",
              "    element.style[key] = styleAttributes[key];\n",
              "  }\n",
              "  return element;\n",
              "}\n",
              "\n",
              "// Max number of bytes which will be uploaded at a time.\n",
              "const MAX_PAYLOAD_SIZE = 100 * 1024;\n",
              "\n",
              "function _uploadFiles(inputId, outputId) {\n",
              "  const steps = uploadFilesStep(inputId, outputId);\n",
              "  const outputElement = document.getElementById(outputId);\n",
              "  // Cache steps on the outputElement to make it available for the next call\n",
              "  // to uploadFilesContinue from Python.\n",
              "  outputElement.steps = steps;\n",
              "\n",
              "  return _uploadFilesContinue(outputId);\n",
              "}\n",
              "\n",
              "// This is roughly an async generator (not supported in the browser yet),\n",
              "// where there are multiple asynchronous steps and the Python side is going\n",
              "// to poll for completion of each step.\n",
              "// This uses a Promise to block the python side on completion of each step,\n",
              "// then passes the result of the previous step as the input to the next step.\n",
              "function _uploadFilesContinue(outputId) {\n",
              "  const outputElement = document.getElementById(outputId);\n",
              "  const steps = outputElement.steps;\n",
              "\n",
              "  const next = steps.next(outputElement.lastPromiseValue);\n",
              "  return Promise.resolve(next.value.promise).then((value) => {\n",
              "    // Cache the last promise value to make it available to the next\n",
              "    // step of the generator.\n",
              "    outputElement.lastPromiseValue = value;\n",
              "    return next.value.response;\n",
              "  });\n",
              "}\n",
              "\n",
              "/**\n",
              " * Generator function which is called between each async step of the upload\n",
              " * process.\n",
              " * @param {string} inputId Element ID of the input file picker element.\n",
              " * @param {string} outputId Element ID of the output display.\n",
              " * @return {!Iterable<!Object>} Iterable of next steps.\n",
              " */\n",
              "function* uploadFilesStep(inputId, outputId) {\n",
              "  const inputElement = document.getElementById(inputId);\n",
              "  inputElement.disabled = false;\n",
              "\n",
              "  const outputElement = document.getElementById(outputId);\n",
              "  outputElement.innerHTML = '';\n",
              "\n",
              "  const pickedPromise = new Promise((resolve) => {\n",
              "    inputElement.addEventListener('change', (e) => {\n",
              "      resolve(e.target.files);\n",
              "    });\n",
              "  });\n",
              "\n",
              "  const cancel = document.createElement('button');\n",
              "  inputElement.parentElement.appendChild(cancel);\n",
              "  cancel.textContent = 'Cancel upload';\n",
              "  const cancelPromise = new Promise((resolve) => {\n",
              "    cancel.onclick = () => {\n",
              "      resolve(null);\n",
              "    };\n",
              "  });\n",
              "\n",
              "  // Wait for the user to pick the files.\n",
              "  const files = yield {\n",
              "    promise: Promise.race([pickedPromise, cancelPromise]),\n",
              "    response: {\n",
              "      action: 'starting',\n",
              "    }\n",
              "  };\n",
              "\n",
              "  cancel.remove();\n",
              "\n",
              "  // Disable the input element since further picks are not allowed.\n",
              "  inputElement.disabled = true;\n",
              "\n",
              "  if (!files) {\n",
              "    return {\n",
              "      response: {\n",
              "        action: 'complete',\n",
              "      }\n",
              "    };\n",
              "  }\n",
              "\n",
              "  for (const file of files) {\n",
              "    const li = document.createElement('li');\n",
              "    li.append(span(file.name, {fontWeight: 'bold'}));\n",
              "    li.append(span(\n",
              "        `(${file.type || 'n/a'}) - ${file.size} bytes, ` +\n",
              "        `last modified: ${\n",
              "            file.lastModifiedDate ? file.lastModifiedDate.toLocaleDateString() :\n",
              "                                    'n/a'} - `));\n",
              "    const percent = span('0% done');\n",
              "    li.appendChild(percent);\n",
              "\n",
              "    outputElement.appendChild(li);\n",
              "\n",
              "    const fileDataPromise = new Promise((resolve) => {\n",
              "      const reader = new FileReader();\n",
              "      reader.onload = (e) => {\n",
              "        resolve(e.target.result);\n",
              "      };\n",
              "      reader.readAsArrayBuffer(file);\n",
              "    });\n",
              "    // Wait for the data to be ready.\n",
              "    let fileData = yield {\n",
              "      promise: fileDataPromise,\n",
              "      response: {\n",
              "        action: 'continue',\n",
              "      }\n",
              "    };\n",
              "\n",
              "    // Use a chunked sending to avoid message size limits. See b/62115660.\n",
              "    let position = 0;\n",
              "    do {\n",
              "      const length = Math.min(fileData.byteLength - position, MAX_PAYLOAD_SIZE);\n",
              "      const chunk = new Uint8Array(fileData, position, length);\n",
              "      position += length;\n",
              "\n",
              "      const base64 = btoa(String.fromCharCode.apply(null, chunk));\n",
              "      yield {\n",
              "        response: {\n",
              "          action: 'append',\n",
              "          file: file.name,\n",
              "          data: base64,\n",
              "        },\n",
              "      };\n",
              "\n",
              "      let percentDone = fileData.byteLength === 0 ?\n",
              "          100 :\n",
              "          Math.round((position / fileData.byteLength) * 100);\n",
              "      percent.textContent = `${percentDone}% done`;\n",
              "\n",
              "    } while (position < fileData.byteLength);\n",
              "  }\n",
              "\n",
              "  // All done.\n",
              "  yield {\n",
              "    response: {\n",
              "      action: 'complete',\n",
              "    }\n",
              "  };\n",
              "}\n",
              "\n",
              "scope.google = scope.google || {};\n",
              "scope.google.colab = scope.google.colab || {};\n",
              "scope.google.colab._files = {\n",
              "  _uploadFiles,\n",
              "  _uploadFilesContinue,\n",
              "};\n",
              "})(self);\n",
              "</script> "
            ]
          },
          "metadata": {}
        },
        {
          "output_type": "stream",
          "name": "stdout",
          "text": [
            "Saving kaggle.json to kaggle.json\n"
          ]
        },
        {
          "output_type": "execute_result",
          "data": {
            "text/plain": [
              "{'kaggle.json': b'{\"username\":\"willyvonka\",\"key\":\"35867c8c758a23f06c18a2a0b9078ed8\"}'}"
            ]
          },
          "metadata": {},
          "execution_count": 1
        }
      ],
      "source": [
        "!pip install -q kaggle==1.5.15\n",
        "from google.colab import files\n",
        "files.upload()\n"
      ]
    },
    {
      "cell_type": "code",
      "source": [
        "!mkdir ~/.kaggle\n",
        "! cp kaggle.json ~/.kaggle/\n",
        "! chmod 600 ~/.kaggle/kaggle.json\n"
      ],
      "metadata": {
        "id": "p1nP4K5jmzUy"
      },
      "execution_count": null,
      "outputs": []
    },
    {
      "cell_type": "code",
      "source": [
        "!kaggle datasets download -d clmentbisaillon/fake-and-real-news-dataset"
      ],
      "metadata": {
        "colab": {
          "base_uri": "https://localhost:8080/"
        },
        "id": "hq4lEgeSm0qm",
        "outputId": "3686971f-0200-4e4f-b859-5166ded0444f"
      },
      "execution_count": null,
      "outputs": [
        {
          "output_type": "stream",
          "name": "stdout",
          "text": [
            "Downloading fake-and-real-news-dataset.zip to /content\n",
            " 81% 33.0M/41.0M [00:00<00:00, 88.8MB/s]\n",
            "100% 41.0M/41.0M [00:00<00:00, 93.4MB/s]\n"
          ]
        }
      ]
    },
    {
      "cell_type": "code",
      "execution_count": null,
      "metadata": {
        "colab": {
          "base_uri": "https://localhost:8080/"
        },
        "id": "wqZXZIw5o1Wb",
        "outputId": "4ed0dd6d-5ced-48b1-8955-df0a01acd7aa"
      },
      "outputs": [
        {
          "output_type": "stream",
          "name": "stdout",
          "text": [
            "Archive:  /content/fake-and-real-news-dataset.zip\n",
            "  inflating: Fake.csv                \n",
            "  inflating: True.csv                \n"
          ]
        }
      ],
      "source": [
        "!unzip /content/fake-and-real-news-dataset.zip"
      ]
    },
    {
      "cell_type": "code",
      "execution_count": 2,
      "metadata": {
        "id": "hTi8qVYVpLLs"
      },
      "outputs": [],
      "source": [
        "import pandas as pd"
      ]
    },
    {
      "cell_type": "code",
      "source": [],
      "metadata": {
        "id": "TPSbkCGJn9-3",
        "outputId": "7bfdc454-5694-48af-a35a-21318d378b71",
        "colab": {
          "base_uri": "https://localhost:8080/",
          "height": 423
        }
      },
      "execution_count": null,
      "outputs": [
        {
          "output_type": "execute_result",
          "data": {
            "text/plain": [
              "                                                   title  \\\n",
              "0       Donald Trump Sends Out Embarrassing New Year’...   \n",
              "1       Drunk Bragging Trump Staffer Started Russian ...   \n",
              "2       Sheriff David Clarke Becomes An Internet Joke...   \n",
              "3       Trump Is So Obsessed He Even Has Obama’s Name...   \n",
              "4       Pope Francis Just Called Out Donald Trump Dur...   \n",
              "...                                                  ...   \n",
              "21412  'Fully committed' NATO backs new U.S. approach...   \n",
              "21413  LexisNexis withdrew two products from Chinese ...   \n",
              "21414  Minsk cultural hub becomes haven from authorities   \n",
              "21415  Vatican upbeat on possibility of Pope Francis ...   \n",
              "21416  Indonesia to buy $1.14 billion worth of Russia...   \n",
              "\n",
              "                                                    text    subject  \\\n",
              "0      Donald Trump just couldn t wish all Americans ...       News   \n",
              "1      House Intelligence Committee Chairman Devin Nu...       News   \n",
              "2      On Friday, it was revealed that former Milwauk...       News   \n",
              "3      On Christmas day, Donald Trump announced that ...       News   \n",
              "4      Pope Francis used his annual Christmas Day mes...       News   \n",
              "...                                                  ...        ...   \n",
              "21412  BRUSSELS (Reuters) - NATO allies on Tuesday we...  worldnews   \n",
              "21413  LONDON (Reuters) - LexisNexis, a provider of l...  worldnews   \n",
              "21414  MINSK (Reuters) - In the shadow of disused Sov...  worldnews   \n",
              "21415  MOSCOW (Reuters) - Vatican Secretary of State ...  worldnews   \n",
              "21416  JAKARTA (Reuters) - Indonesia will buy 11 Sukh...  worldnews   \n",
              "\n",
              "                    date label  \n",
              "0      December 31, 2017  Fake  \n",
              "1      December 31, 2017  Fake  \n",
              "2      December 30, 2017  Fake  \n",
              "3      December 29, 2017  Fake  \n",
              "4      December 25, 2017  Fake  \n",
              "...                  ...   ...  \n",
              "21412   August 22, 2017   True  \n",
              "21413   August 22, 2017   True  \n",
              "21414   August 22, 2017   True  \n",
              "21415   August 22, 2017   True  \n",
              "21416   August 22, 2017   True  \n",
              "\n",
              "[44898 rows x 5 columns]"
            ],
            "text/html": [
              "\n",
              "  <div id=\"df-cf6a5947-4d2b-40c9-ace0-f1c5b0a6599b\">\n",
              "    <div class=\"colab-df-container\">\n",
              "      <div>\n",
              "<style scoped>\n",
              "    .dataframe tbody tr th:only-of-type {\n",
              "        vertical-align: middle;\n",
              "    }\n",
              "\n",
              "    .dataframe tbody tr th {\n",
              "        vertical-align: top;\n",
              "    }\n",
              "\n",
              "    .dataframe thead th {\n",
              "        text-align: right;\n",
              "    }\n",
              "</style>\n",
              "<table border=\"1\" class=\"dataframe\">\n",
              "  <thead>\n",
              "    <tr style=\"text-align: right;\">\n",
              "      <th></th>\n",
              "      <th>title</th>\n",
              "      <th>text</th>\n",
              "      <th>subject</th>\n",
              "      <th>date</th>\n",
              "      <th>label</th>\n",
              "    </tr>\n",
              "  </thead>\n",
              "  <tbody>\n",
              "    <tr>\n",
              "      <th>0</th>\n",
              "      <td>Donald Trump Sends Out Embarrassing New Year’...</td>\n",
              "      <td>Donald Trump just couldn t wish all Americans ...</td>\n",
              "      <td>News</td>\n",
              "      <td>December 31, 2017</td>\n",
              "      <td>Fake</td>\n",
              "    </tr>\n",
              "    <tr>\n",
              "      <th>1</th>\n",
              "      <td>Drunk Bragging Trump Staffer Started Russian ...</td>\n",
              "      <td>House Intelligence Committee Chairman Devin Nu...</td>\n",
              "      <td>News</td>\n",
              "      <td>December 31, 2017</td>\n",
              "      <td>Fake</td>\n",
              "    </tr>\n",
              "    <tr>\n",
              "      <th>2</th>\n",
              "      <td>Sheriff David Clarke Becomes An Internet Joke...</td>\n",
              "      <td>On Friday, it was revealed that former Milwauk...</td>\n",
              "      <td>News</td>\n",
              "      <td>December 30, 2017</td>\n",
              "      <td>Fake</td>\n",
              "    </tr>\n",
              "    <tr>\n",
              "      <th>3</th>\n",
              "      <td>Trump Is So Obsessed He Even Has Obama’s Name...</td>\n",
              "      <td>On Christmas day, Donald Trump announced that ...</td>\n",
              "      <td>News</td>\n",
              "      <td>December 29, 2017</td>\n",
              "      <td>Fake</td>\n",
              "    </tr>\n",
              "    <tr>\n",
              "      <th>4</th>\n",
              "      <td>Pope Francis Just Called Out Donald Trump Dur...</td>\n",
              "      <td>Pope Francis used his annual Christmas Day mes...</td>\n",
              "      <td>News</td>\n",
              "      <td>December 25, 2017</td>\n",
              "      <td>Fake</td>\n",
              "    </tr>\n",
              "    <tr>\n",
              "      <th>...</th>\n",
              "      <td>...</td>\n",
              "      <td>...</td>\n",
              "      <td>...</td>\n",
              "      <td>...</td>\n",
              "      <td>...</td>\n",
              "    </tr>\n",
              "    <tr>\n",
              "      <th>21412</th>\n",
              "      <td>'Fully committed' NATO backs new U.S. approach...</td>\n",
              "      <td>BRUSSELS (Reuters) - NATO allies on Tuesday we...</td>\n",
              "      <td>worldnews</td>\n",
              "      <td>August 22, 2017</td>\n",
              "      <td>True</td>\n",
              "    </tr>\n",
              "    <tr>\n",
              "      <th>21413</th>\n",
              "      <td>LexisNexis withdrew two products from Chinese ...</td>\n",
              "      <td>LONDON (Reuters) - LexisNexis, a provider of l...</td>\n",
              "      <td>worldnews</td>\n",
              "      <td>August 22, 2017</td>\n",
              "      <td>True</td>\n",
              "    </tr>\n",
              "    <tr>\n",
              "      <th>21414</th>\n",
              "      <td>Minsk cultural hub becomes haven from authorities</td>\n",
              "      <td>MINSK (Reuters) - In the shadow of disused Sov...</td>\n",
              "      <td>worldnews</td>\n",
              "      <td>August 22, 2017</td>\n",
              "      <td>True</td>\n",
              "    </tr>\n",
              "    <tr>\n",
              "      <th>21415</th>\n",
              "      <td>Vatican upbeat on possibility of Pope Francis ...</td>\n",
              "      <td>MOSCOW (Reuters) - Vatican Secretary of State ...</td>\n",
              "      <td>worldnews</td>\n",
              "      <td>August 22, 2017</td>\n",
              "      <td>True</td>\n",
              "    </tr>\n",
              "    <tr>\n",
              "      <th>21416</th>\n",
              "      <td>Indonesia to buy $1.14 billion worth of Russia...</td>\n",
              "      <td>JAKARTA (Reuters) - Indonesia will buy 11 Sukh...</td>\n",
              "      <td>worldnews</td>\n",
              "      <td>August 22, 2017</td>\n",
              "      <td>True</td>\n",
              "    </tr>\n",
              "  </tbody>\n",
              "</table>\n",
              "<p>44898 rows × 5 columns</p>\n",
              "</div>\n",
              "      <button class=\"colab-df-convert\" onclick=\"convertToInteractive('df-cf6a5947-4d2b-40c9-ace0-f1c5b0a6599b')\"\n",
              "              title=\"Convert this dataframe to an interactive table.\"\n",
              "              style=\"display:none;\">\n",
              "        \n",
              "  <svg xmlns=\"http://www.w3.org/2000/svg\" height=\"24px\"viewBox=\"0 0 24 24\"\n",
              "       width=\"24px\">\n",
              "    <path d=\"M0 0h24v24H0V0z\" fill=\"none\"/>\n",
              "    <path d=\"M18.56 5.44l.94 2.06.94-2.06 2.06-.94-2.06-.94-.94-2.06-.94 2.06-2.06.94zm-11 1L8.5 8.5l.94-2.06 2.06-.94-2.06-.94L8.5 2.5l-.94 2.06-2.06.94zm10 10l.94 2.06.94-2.06 2.06-.94-2.06-.94-.94-2.06-.94 2.06-2.06.94z\"/><path d=\"M17.41 7.96l-1.37-1.37c-.4-.4-.92-.59-1.43-.59-.52 0-1.04.2-1.43.59L10.3 9.45l-7.72 7.72c-.78.78-.78 2.05 0 2.83L4 21.41c.39.39.9.59 1.41.59.51 0 1.02-.2 1.41-.59l7.78-7.78 2.81-2.81c.8-.78.8-2.07 0-2.86zM5.41 20L4 18.59l7.72-7.72 1.47 1.35L5.41 20z\"/>\n",
              "  </svg>\n",
              "      </button>\n",
              "      \n",
              "  <style>\n",
              "    .colab-df-container {\n",
              "      display:flex;\n",
              "      flex-wrap:wrap;\n",
              "      gap: 12px;\n",
              "    }\n",
              "\n",
              "    .colab-df-convert {\n",
              "      background-color: #E8F0FE;\n",
              "      border: none;\n",
              "      border-radius: 50%;\n",
              "      cursor: pointer;\n",
              "      display: none;\n",
              "      fill: #1967D2;\n",
              "      height: 32px;\n",
              "      padding: 0 0 0 0;\n",
              "      width: 32px;\n",
              "    }\n",
              "\n",
              "    .colab-df-convert:hover {\n",
              "      background-color: #E2EBFA;\n",
              "      box-shadow: 0px 1px 2px rgba(60, 64, 67, 0.3), 0px 1px 3px 1px rgba(60, 64, 67, 0.15);\n",
              "      fill: #174EA6;\n",
              "    }\n",
              "\n",
              "    [theme=dark] .colab-df-convert {\n",
              "      background-color: #3B4455;\n",
              "      fill: #D2E3FC;\n",
              "    }\n",
              "\n",
              "    [theme=dark] .colab-df-convert:hover {\n",
              "      background-color: #434B5C;\n",
              "      box-shadow: 0px 1px 3px 1px rgba(0, 0, 0, 0.15);\n",
              "      filter: drop-shadow(0px 1px 2px rgba(0, 0, 0, 0.3));\n",
              "      fill: #FFFFFF;\n",
              "    }\n",
              "  </style>\n",
              "\n",
              "      <script>\n",
              "        const buttonEl =\n",
              "          document.querySelector('#df-cf6a5947-4d2b-40c9-ace0-f1c5b0a6599b button.colab-df-convert');\n",
              "        buttonEl.style.display =\n",
              "          google.colab.kernel.accessAllowed ? 'block' : 'none';\n",
              "\n",
              "        async function convertToInteractive(key) {\n",
              "          const element = document.querySelector('#df-cf6a5947-4d2b-40c9-ace0-f1c5b0a6599b');\n",
              "          const dataTable =\n",
              "            await google.colab.kernel.invokeFunction('convertToInteractive',\n",
              "                                                     [key], {});\n",
              "          if (!dataTable) return;\n",
              "\n",
              "          const docLinkHtml = 'Like what you see? Visit the ' +\n",
              "            '<a target=\"_blank\" href=https://colab.research.google.com/notebooks/data_table.ipynb>data table notebook</a>'\n",
              "            + ' to learn more about interactive tables.';\n",
              "          element.innerHTML = '';\n",
              "          dataTable['output_type'] = 'display_data';\n",
              "          await google.colab.output.renderOutput(dataTable, element);\n",
              "          const docLink = document.createElement('div');\n",
              "          docLink.innerHTML = docLinkHtml;\n",
              "          element.appendChild(docLink);\n",
              "        }\n",
              "      </script>\n",
              "    </div>\n",
              "  </div>\n",
              "  "
            ]
          },
          "metadata": {},
          "execution_count": 18
        }
      ]
    },
    {
      "cell_type": "code",
      "execution_count": null,
      "metadata": {
        "id": "b4bLHdf5pMNr"
      },
      "outputs": [],
      "source": [
        "# data1 = pd.read_csv('/content/Corona_NLP_train.csv', encoding=\"latin-1\")\n",
        "# data2 = pd.read_csv('/content/Corona_NLP_test.csv', encoding=\"latin-1\")\n",
        "\n",
        "# data = pd.concat([data1,data2])"
      ]
    },
    {
      "cell_type": "code",
      "source": [
        "# data = data[['OriginalTweet','Sentiment']]"
      ],
      "metadata": {
        "id": "Fs5PVle2JDSt"
      },
      "execution_count": null,
      "outputs": []
    },
    {
      "cell_type": "code",
      "source": [
        "# data.to_csv('/content/drive/MyDrive/work 37 corona /data.csv',index=False)"
      ],
      "metadata": {
        "id": "rBOdMgFfJSdt"
      },
      "execution_count": null,
      "outputs": []
    },
    {
      "cell_type": "code",
      "source": [
        "data1 = pd.read_csv('/content/Fake.csv')\n",
        "data1['label'] = 'Fake'\n",
        "\n",
        "data2 = pd.read_csv('/content/True.csv')\n",
        "data2['label'] = 'True'"
      ],
      "metadata": {
        "id": "gTEhE8TlJj50"
      },
      "execution_count": null,
      "outputs": []
    },
    {
      "cell_type": "code",
      "source": [
        "data = pd.concat([data1,data2])\n",
        "data"
      ],
      "metadata": {
        "id": "c73uNNHVoGhm"
      },
      "execution_count": null,
      "outputs": []
    },
    {
      "cell_type": "code",
      "source": [
        "import os\n",
        "path = '/content/drive/MyDrive/work 39 fake true news/results/'\n",
        "# os.mkdir(path)"
      ],
      "metadata": {
        "id": "yygY2y4HJa1v"
      },
      "execution_count": 154,
      "outputs": []
    },
    {
      "cell_type": "code",
      "source": [
        "data = pd.read_csv('/content/drive/MyDrive/work 39 fake true news/data.csv')"
      ],
      "metadata": {
        "id": "noPi4UG39PSs"
      },
      "execution_count": 155,
      "outputs": []
    },
    {
      "cell_type": "code",
      "source": [
        "data.columns"
      ],
      "metadata": {
        "id": "lioU4ZGbm1SW",
        "outputId": "8e8c1923-c4cf-400f-a214-050617ec2ecd",
        "colab": {
          "base_uri": "https://localhost:8080/"
        }
      },
      "execution_count": 156,
      "outputs": [
        {
          "output_type": "execute_result",
          "data": {
            "text/plain": [
              "Index(['title', 'text', 'subject', 'date', 'label'], dtype='object')"
            ]
          },
          "metadata": {},
          "execution_count": 156
        }
      ]
    },
    {
      "cell_type": "code",
      "source": [
        "data = data[['text','label']]"
      ],
      "metadata": {
        "id": "UHtzSCDb9Z-4"
      },
      "execution_count": 157,
      "outputs": []
    },
    {
      "cell_type": "code",
      "execution_count": 158,
      "metadata": {
        "id": "uk32zyP3pVfh"
      },
      "outputs": [],
      "source": [
        "data.drop_duplicates(subset=['text'],inplace=True)"
      ]
    },
    {
      "cell_type": "code",
      "execution_count": 159,
      "metadata": {
        "id": "cnnDLawhqL6e"
      },
      "outputs": [],
      "source": [
        "data.dropna(subset=['text'],inplace=True)"
      ]
    },
    {
      "cell_type": "code",
      "execution_count": 160,
      "metadata": {
        "colab": {
          "base_uri": "https://localhost:8080/"
        },
        "id": "VHaT2wmZqUkI",
        "outputId": "618149eb-4254-421a-880b-14ae54ac8974"
      },
      "outputs": [
        {
          "output_type": "execute_result",
          "data": {
            "text/plain": [
              "(38646, 2)"
            ]
          },
          "metadata": {},
          "execution_count": 160
        }
      ],
      "source": [
        "data.shape"
      ]
    },
    {
      "cell_type": "code",
      "source": [
        "data['label'].value_counts()"
      ],
      "metadata": {
        "colab": {
          "base_uri": "https://localhost:8080/"
        },
        "id": "25fDg0KGJ-7f",
        "outputId": "c502cb83-9542-484b-c13f-dbdf9364d3eb"
      },
      "execution_count": 161,
      "outputs": [
        {
          "output_type": "execute_result",
          "data": {
            "text/plain": [
              "True    21191\n",
              "Fake    17455\n",
              "Name: label, dtype: int64"
            ]
          },
          "metadata": {},
          "execution_count": 161
        }
      ]
    },
    {
      "cell_type": "code",
      "execution_count": 162,
      "metadata": {
        "id": "2qfBMX8PqUZp"
      },
      "outputs": [],
      "source": [
        "# !mkdir /content/drive/MyDrive/emotion-detection/\n",
        "# data.to_csv('/content/drive/MyDrive/emotion-detection/data.csv',index=False)"
      ]
    },
    {
      "cell_type": "code",
      "source": [
        "# import pandas as pd\n",
        "# data = pd.read_csv('/content/drive/MyDrive/emotion-detection/data.csv')"
      ],
      "metadata": {
        "id": "BPKM1aq-w-B1"
      },
      "execution_count": 163,
      "outputs": []
    },
    {
      "cell_type": "code",
      "source": [
        "# import os\n",
        "# path = '/content/drive/MyDrive/emotion-detection/resluts/'\n",
        "# os.mkdir(path)"
      ],
      "metadata": {
        "id": "b8P9MoOrt1lf"
      },
      "execution_count": 164,
      "outputs": []
    },
    {
      "cell_type": "markdown",
      "metadata": {
        "id": "A3kHccU4rJ8q"
      },
      "source": [
        "# Work on data"
      ]
    },
    {
      "cell_type": "code",
      "execution_count": 14,
      "metadata": {
        "colab": {
          "base_uri": "https://localhost:8080/"
        },
        "id": "HC9A7vtqK74k",
        "outputId": "02f8bfd2-3e34-4b79-c3a7-a0e4c7004e16"
      },
      "outputs": [
        {
          "output_type": "stream",
          "name": "stdout",
          "text": [
            "Drive already mounted at /content/drive; to attempt to forcibly remount, call drive.mount(\"/content/drive\", force_remount=True).\n"
          ]
        }
      ],
      "source": [
        "from google.colab import drive\n",
        "drive.mount('/content/drive')"
      ]
    },
    {
      "cell_type": "code",
      "execution_count": 15,
      "metadata": {
        "id": "5A6RpmNmUwn5"
      },
      "outputs": [],
      "source": [
        "import pandas as pd\n",
        "import numpy as np\n",
        "import matplotlib.pyplot as plt\n",
        "import seaborn as sns"
      ]
    },
    {
      "cell_type": "code",
      "execution_count": 16,
      "metadata": {
        "id": "dr1hKemlH4iS"
      },
      "outputs": [],
      "source": [
        "# plt.rcParams['figure.figsize'] = [10,6]\n",
        "# plt.rcParams['figure.dpi'] = 140\n",
        "# plt.rcParams['savefig.dpi'] = 140\n",
        "# plt.rcParams['font.family'] = 'serif'\n",
        "# plt.rcParams['font.serif'] = ['Times New Roman'] + plt.rcParams['font.serif']"
      ]
    },
    {
      "cell_type": "code",
      "source": [
        "data.columns"
      ],
      "metadata": {
        "colab": {
          "base_uri": "https://localhost:8080/"
        },
        "id": "utCiqwBBYe0J",
        "outputId": "e0137a34-6231-456c-9417-f8c86cb3cebe"
      },
      "execution_count": 165,
      "outputs": [
        {
          "output_type": "execute_result",
          "data": {
            "text/plain": [
              "Index(['text', 'label'], dtype='object')"
            ]
          },
          "metadata": {},
          "execution_count": 165
        }
      ]
    },
    {
      "cell_type": "code",
      "execution_count": 166,
      "metadata": {
        "id": "q9axf6k3tOZg"
      },
      "outputs": [],
      "source": [
        "b = dict(data['label'].value_counts())"
      ]
    },
    {
      "cell_type": "code",
      "execution_count": 167,
      "metadata": {
        "id": "C57bpNhe90X7"
      },
      "outputs": [],
      "source": [
        "f = pd.DataFrame.from_dict(b, orient='index')"
      ]
    },
    {
      "cell_type": "code",
      "execution_count": 168,
      "metadata": {
        "id": "-KVm72nzXIcK",
        "colab": {
          "base_uri": "https://localhost:8080/",
          "height": 112
        },
        "outputId": "3020eb57-9fcb-4e7c-fa4e-b76653e8f0c9"
      },
      "outputs": [
        {
          "output_type": "execute_result",
          "data": {
            "text/plain": [
              "      label\n",
              "True  21191\n",
              "Fake  17455"
            ],
            "text/html": [
              "\n",
              "  <div id=\"df-babc283e-2b5c-4f12-8b4d-f5632aeb43db\">\n",
              "    <div class=\"colab-df-container\">\n",
              "      <div>\n",
              "<style scoped>\n",
              "    .dataframe tbody tr th:only-of-type {\n",
              "        vertical-align: middle;\n",
              "    }\n",
              "\n",
              "    .dataframe tbody tr th {\n",
              "        vertical-align: top;\n",
              "    }\n",
              "\n",
              "    .dataframe thead th {\n",
              "        text-align: right;\n",
              "    }\n",
              "</style>\n",
              "<table border=\"1\" class=\"dataframe\">\n",
              "  <thead>\n",
              "    <tr style=\"text-align: right;\">\n",
              "      <th></th>\n",
              "      <th>label</th>\n",
              "    </tr>\n",
              "  </thead>\n",
              "  <tbody>\n",
              "    <tr>\n",
              "      <th>True</th>\n",
              "      <td>21191</td>\n",
              "    </tr>\n",
              "    <tr>\n",
              "      <th>Fake</th>\n",
              "      <td>17455</td>\n",
              "    </tr>\n",
              "  </tbody>\n",
              "</table>\n",
              "</div>\n",
              "      <button class=\"colab-df-convert\" onclick=\"convertToInteractive('df-babc283e-2b5c-4f12-8b4d-f5632aeb43db')\"\n",
              "              title=\"Convert this dataframe to an interactive table.\"\n",
              "              style=\"display:none;\">\n",
              "        \n",
              "  <svg xmlns=\"http://www.w3.org/2000/svg\" height=\"24px\"viewBox=\"0 0 24 24\"\n",
              "       width=\"24px\">\n",
              "    <path d=\"M0 0h24v24H0V0z\" fill=\"none\"/>\n",
              "    <path d=\"M18.56 5.44l.94 2.06.94-2.06 2.06-.94-2.06-.94-.94-2.06-.94 2.06-2.06.94zm-11 1L8.5 8.5l.94-2.06 2.06-.94-2.06-.94L8.5 2.5l-.94 2.06-2.06.94zm10 10l.94 2.06.94-2.06 2.06-.94-2.06-.94-.94-2.06-.94 2.06-2.06.94z\"/><path d=\"M17.41 7.96l-1.37-1.37c-.4-.4-.92-.59-1.43-.59-.52 0-1.04.2-1.43.59L10.3 9.45l-7.72 7.72c-.78.78-.78 2.05 0 2.83L4 21.41c.39.39.9.59 1.41.59.51 0 1.02-.2 1.41-.59l7.78-7.78 2.81-2.81c.8-.78.8-2.07 0-2.86zM5.41 20L4 18.59l7.72-7.72 1.47 1.35L5.41 20z\"/>\n",
              "  </svg>\n",
              "      </button>\n",
              "      \n",
              "  <style>\n",
              "    .colab-df-container {\n",
              "      display:flex;\n",
              "      flex-wrap:wrap;\n",
              "      gap: 12px;\n",
              "    }\n",
              "\n",
              "    .colab-df-convert {\n",
              "      background-color: #E8F0FE;\n",
              "      border: none;\n",
              "      border-radius: 50%;\n",
              "      cursor: pointer;\n",
              "      display: none;\n",
              "      fill: #1967D2;\n",
              "      height: 32px;\n",
              "      padding: 0 0 0 0;\n",
              "      width: 32px;\n",
              "    }\n",
              "\n",
              "    .colab-df-convert:hover {\n",
              "      background-color: #E2EBFA;\n",
              "      box-shadow: 0px 1px 2px rgba(60, 64, 67, 0.3), 0px 1px 3px 1px rgba(60, 64, 67, 0.15);\n",
              "      fill: #174EA6;\n",
              "    }\n",
              "\n",
              "    [theme=dark] .colab-df-convert {\n",
              "      background-color: #3B4455;\n",
              "      fill: #D2E3FC;\n",
              "    }\n",
              "\n",
              "    [theme=dark] .colab-df-convert:hover {\n",
              "      background-color: #434B5C;\n",
              "      box-shadow: 0px 1px 3px 1px rgba(0, 0, 0, 0.15);\n",
              "      filter: drop-shadow(0px 1px 2px rgba(0, 0, 0, 0.3));\n",
              "      fill: #FFFFFF;\n",
              "    }\n",
              "  </style>\n",
              "\n",
              "      <script>\n",
              "        const buttonEl =\n",
              "          document.querySelector('#df-babc283e-2b5c-4f12-8b4d-f5632aeb43db button.colab-df-convert');\n",
              "        buttonEl.style.display =\n",
              "          google.colab.kernel.accessAllowed ? 'block' : 'none';\n",
              "\n",
              "        async function convertToInteractive(key) {\n",
              "          const element = document.querySelector('#df-babc283e-2b5c-4f12-8b4d-f5632aeb43db');\n",
              "          const dataTable =\n",
              "            await google.colab.kernel.invokeFunction('convertToInteractive',\n",
              "                                                     [key], {});\n",
              "          if (!dataTable) return;\n",
              "\n",
              "          const docLinkHtml = 'Like what you see? Visit the ' +\n",
              "            '<a target=\"_blank\" href=https://colab.research.google.com/notebooks/data_table.ipynb>data table notebook</a>'\n",
              "            + ' to learn more about interactive tables.';\n",
              "          element.innerHTML = '';\n",
              "          dataTable['output_type'] = 'display_data';\n",
              "          await google.colab.output.renderOutput(dataTable, element);\n",
              "          const docLink = document.createElement('div');\n",
              "          docLink.innerHTML = docLinkHtml;\n",
              "          element.appendChild(docLink);\n",
              "        }\n",
              "      </script>\n",
              "    </div>\n",
              "  </div>\n",
              "  "
            ]
          },
          "metadata": {},
          "execution_count": 168
        }
      ],
      "source": [
        "f.columns = ['label']\n",
        "f"
      ]
    },
    {
      "cell_type": "code",
      "source": [
        "plot = f.plot.pie(y='label', title=\"classes\", legend=False, \\\n",
        "                   autopct='%1.1f%%', explode=(0, 0), \\\n",
        "                    startangle=0)\n",
        "plt.savefig(f'{path}labels_pie.png',bbox_inches='tight')\n",
        "f.to_csv(f'{path}labels_pie.csv')"
      ],
      "metadata": {
        "colab": {
          "base_uri": "https://localhost:8080/",
          "height": 428
        },
        "id": "3Iz_CiXq-GtK",
        "outputId": "86f85f57-e606-483c-ec7f-d6c369188cd5"
      },
      "execution_count": 169,
      "outputs": [
        {
          "output_type": "display_data",
          "data": {
            "text/plain": [
              "<Figure size 640x480 with 1 Axes>"
            ],
            "image/png": "[encoded data removed]"
          },
          "metadata": {}
        }
      ]
    },
    {
      "cell_type": "markdown",
      "metadata": {
        "id": "zTsMblWnt0FH"
      },
      "source": [
        "# Pre Processing"
      ]
    },
    {
      "cell_type": "code",
      "source": [
        "# import pandas as pd\n",
        "# data = pd.read_csv('/content/drive/MyDrive/emotion-detection/data.csv')"
      ],
      "metadata": {
        "id": "lJnz1fyjwc47"
      },
      "execution_count": null,
      "outputs": []
    },
    {
      "cell_type": "code",
      "execution_count": 170,
      "metadata": {
        "id": "L4l70KNRt2jI"
      },
      "outputs": [],
      "source": [
        "import re"
      ]
    },
    {
      "cell_type": "code",
      "execution_count": 171,
      "metadata": {
        "id": "6P-RAiJvt3N6"
      },
      "outputs": [],
      "source": [
        "def low(x):\n",
        "    x = x.lower()\n",
        "    return x"
      ]
    },
    {
      "cell_type": "code",
      "execution_count": 172,
      "metadata": {
        "id": "kmhrhhsCur12"
      },
      "outputs": [],
      "source": [
        "def removepunc(x):\n",
        "    x = re.sub(r\" ' \",\"\",x)\n",
        "    x = re.sub(r\"'\",\"\",x)\n",
        "    x = re.sub(r\"\\r\",\" \",x)\n",
        "    x = re.sub(r\"\\n\",\" \",x)\n",
        "    # x = re.sub(r\" / \",\"\",x)\n",
        "\n",
        "    # x = re.sub(r\" . \",\"\",x)\n",
        "\n",
        "    x = re.sub(r\"(@[0-9A-Za-z]+)|([^0-9A-Za-z \\t])|(\\w+:\\/\\/\\S+)|^rt|http.+?\", \"\", x)\n",
        "    # x = re.sub(r\"(@[A-Za-z0-9]+)|([^0-9A-Za-z \\t])|(\\w+:\\/\\/\\S+)|^rt|http.+?\", \" \", x)\n",
        "    x = re.sub(r\"  \",\" \",x)\n",
        "    x = re.sub(r\"  \",\" \",x)\n",
        "    x = re.sub(r\"  \",\" \",x)\n",
        "    x = re.sub(r\"  \",\" \",x)\n",
        "    x = re.sub(r\"  \",\" \",x)\n",
        "    x = re.sub(r\"  \",\" \",x)\n",
        "    x = re.sub(r\"  \",\" \",x)\n",
        "    x = re.sub(r\"  \",\" \",x)\n",
        "    return x"
      ]
    },
    {
      "cell_type": "code",
      "execution_count": 173,
      "metadata": {
        "id": "kJO_846aVndy"
      },
      "outputs": [],
      "source": [
        "def lenword(x):\n",
        "  # l = x.spllit()\n",
        "  x = ' '.join([word for word in x.split() if (len(word) > 1 or word in (['i','a']))])\n",
        "  return x"
      ]
    },
    {
      "cell_type": "code",
      "source": [
        "lab = 'text'"
      ],
      "metadata": {
        "id": "EakHNlj_Kqz3"
      },
      "execution_count": 174,
      "outputs": []
    },
    {
      "cell_type": "code",
      "execution_count": 175,
      "metadata": {
        "id": "9oU5IrQduIMY"
      },
      "outputs": [],
      "source": [
        "data[f'{lab}'] = data[f'{lab}'].apply(lambda x:low(x))"
      ]
    },
    {
      "cell_type": "code",
      "execution_count": 176,
      "metadata": {
        "id": "VBzH1n_ovCfn"
      },
      "outputs": [],
      "source": [
        "data[f'{lab}'] = data[f'{lab}'].apply(lambda x:removepunc(x))"
      ]
    },
    {
      "cell_type": "code",
      "execution_count": 177,
      "metadata": {
        "id": "MDCO7rfev6Xi"
      },
      "outputs": [],
      "source": [
        "# data['utt'] = data['utt'].apply(lambda x:removedate(x))"
      ]
    },
    {
      "cell_type": "code",
      "execution_count": 178,
      "metadata": {
        "id": "r47axSAJ3Aqx"
      },
      "outputs": [],
      "source": [
        "data[f'{lab}'] = data[f'{lab}'].apply(lambda x:lenword(x))"
      ]
    },
    {
      "cell_type": "code",
      "execution_count": 179,
      "metadata": {
        "id": "25ftC6D8uPBk"
      },
      "outputs": [],
      "source": [
        "# data['text'] = data['text'].apply(lambda x:stopw(x))\n"
      ]
    },
    {
      "cell_type": "code",
      "execution_count": 180,
      "metadata": {
        "id": "tHDVhf2LvJeS"
      },
      "outputs": [],
      "source": [
        "data['len'] = data[f'{lab}'].str.split().apply(len)"
      ]
    },
    {
      "cell_type": "code",
      "execution_count": 181,
      "metadata": {
        "colab": {
          "base_uri": "https://localhost:8080/"
        },
        "id": "HZrimP9jwqpi",
        "outputId": "f186121e-a783-4049-9334-7fa2ae5cff53"
      },
      "outputs": [
        {
          "output_type": "execute_result",
          "data": {
            "text/plain": [
              "7969"
            ]
          },
          "metadata": {},
          "execution_count": 181
        }
      ],
      "source": [
        "data.len.max()"
      ]
    },
    {
      "cell_type": "code",
      "execution_count": 184,
      "metadata": {
        "colab": {
          "base_uri": "https://localhost:8080/",
          "height": 449
        },
        "id": "2XUD_tC0wdxO",
        "outputId": "6f221b81-94ef-473b-e94b-e43388f9adcb"
      },
      "outputs": [
        {
          "output_type": "display_data",
          "data": {
            "text/plain": [
              "<Figure size 640x480 with 1 Axes>"
            ],
            "image/png": "[encoded data removed]"
          },
          "metadata": {}
        }
      ],
      "source": [
        "# sns.histplot(data['len'],kind='kde')\n",
        "sns.kdeplot(data=data['len'],multiple=\"stack\")\n",
        "plt.vlines(x=1000, ymin=0, ymax=0.002, colors='red', linestyles='-', lw=2, label='97.31% of samples (x=1000)')\n",
        "plt.vlines(x=1300, ymin=0, ymax=0.002, colors='g', linestyles='-', lw=2, label='99.01% of samples (x=1300)')\n",
        "plt.vlines(x=1500, ymin=0, ymax=0.002, colors='yellow', linestyles='-', lw=2, label='99.35% of samples (x=1500)')\n",
        "plt.vlines(x=2000, ymin=0, ymax=0.002, colors='aqua', linestyles='-', lw=2, label='99.68% of samples (x=2000)')\n",
        "\n",
        "plt.legend()\n",
        "data['len'].to_csv(f'{path}wordlen.csv',index=False)\n",
        "plt.savefig(f'{path}wordlen.png',bbox_inches='tight')"
      ]
    },
    {
      "cell_type": "code",
      "source": [
        "data[data['len']<1300].shape[0]/data.shape[0]"
      ],
      "metadata": {
        "colab": {
          "base_uri": "https://localhost:8080/"
        },
        "id": "jWgznKic-z_J",
        "outputId": "61ac5fb0-c466-4e54-b701-7c061f65934f"
      },
      "execution_count": 183,
      "outputs": [
        {
          "output_type": "execute_result",
          "data": {
            "text/plain": [
              "0.9902965378046887"
            ]
          },
          "metadata": {},
          "execution_count": 183
        }
      ]
    },
    {
      "cell_type": "code",
      "execution_count": null,
      "metadata": {
        "id": "xLTtoKfpx_LG"
      },
      "outputs": [],
      "source": [
        "# import tensorflow as tf\n",
        "# import numpy as np\n",
        "# # Load GloVe embeddings\n",
        "# embeddings_index = {}\n",
        "# with open('/content/drive/MyDrive/glove.6B.300d.txt', encoding='utf-8') as f:\n",
        "#     for line in f:\n",
        "#         values = line.split()\n",
        "#         word = values[0]\n",
        "#         coefs = np.asarray(values[1:], dtype='float32')\n",
        "#         embeddings_index[word] = coefs"
      ]
    },
    {
      "cell_type": "code",
      "execution_count": null,
      "metadata": {
        "id": "MOryG-wz1nHc"
      },
      "outputs": [],
      "source": [
        "# # import required libraries\n",
        "# import numpy as np\n",
        "# from numpy.linalg import norm\n",
        "\n",
        "# A = embeddings_index['difficult']\n",
        "# B = embeddings_index[\"problem\"]\n",
        "# # compute cosine similarity\n",
        "# cosine = np.dot(A,B)/(norm(A)*norm(B))\n",
        "# print(\"Cosine Similarity:\", cosine)"
      ]
    },
    {
      "cell_type": "code",
      "execution_count": 103,
      "metadata": {
        "id": "spdvhKMAAfmR"
      },
      "outputs": [],
      "source": [
        "import tensorflow as tf"
      ]
    },
    {
      "cell_type": "code",
      "execution_count": 104,
      "metadata": {
        "id": "lgolYNWY1poD"
      },
      "outputs": [],
      "source": [
        "from keras.preprocessing.text import Tokenizer\n",
        "from tensorflow.keras.preprocessing.sequence import pad_sequences\n",
        "import numpy as np\n",
        "maxlen = 200\n",
        "max_words = 5000\n",
        "tokenizer = Tokenizer(num_words=max_words)\n",
        "tokenizer.fit_on_texts(data[f'{lab}'])\n",
        "Xsequences = tokenizer.texts_to_sequences(data[f'{lab}'])"
      ]
    },
    {
      "cell_type": "code",
      "execution_count": 105,
      "metadata": {
        "id": "YMvt-p28fh8y"
      },
      "outputs": [],
      "source": [
        "Xsequences = tf.keras.preprocessing.sequence.pad_sequences(Xsequences, maxlen=maxlen)"
      ]
    },
    {
      "cell_type": "code",
      "execution_count": 106,
      "metadata": {
        "id": "RGpEif35b4-4",
        "colab": {
          "base_uri": "https://localhost:8080/"
        },
        "outputId": "cf2124c9-ab00-459d-8cee-ed2cb156251b"
      },
      "outputs": [
        {
          "output_type": "execute_result",
          "data": {
            "text/plain": [
              "217217"
            ]
          },
          "metadata": {},
          "execution_count": 106
        }
      ],
      "source": [
        "len(tokenizer.word_index)"
      ]
    },
    {
      "cell_type": "markdown",
      "metadata": {
        "id": "a9ZQyqQSaCz_"
      },
      "source": [
        "# Model"
      ]
    },
    {
      "cell_type": "code",
      "execution_count": null,
      "metadata": {
        "colab": {
          "base_uri": "https://localhost:8080/"
        },
        "id": "r2fWsiFeaGw7",
        "outputId": "3bece376-8664-49a2-fde2-5f26dcd93a8c"
      },
      "outputs": [
        {
          "output_type": "execute_result",
          "data": {
            "text/plain": [
              "Index(['tweet', 'sentiment', 'len'], dtype='object')"
            ]
          },
          "metadata": {},
          "execution_count": 74
        }
      ],
      "source": [
        "data.columns"
      ]
    },
    {
      "cell_type": "code",
      "execution_count": 108,
      "metadata": {
        "id": "bYzfstefaEch"
      },
      "outputs": [],
      "source": [
        "Y = data['label'].factorize()[0]\n",
        "labels = Y\n",
        "arr = labels\n",
        "# arr.shape\n",
        "# labels = np.zeros((arr.size, arr.max()+1))\n",
        "# labels.shape\n",
        "# labels[np.arange(arr.size), arr] = 1\n",
        "# labels"
      ]
    },
    {
      "cell_type": "code",
      "execution_count": 109,
      "metadata": {
        "id": "CCBtvCu3aE7o"
      },
      "outputs": [],
      "source": [
        "from sklearn.model_selection import train_test_split\n",
        "X_train, X_test, y_train, y_test = train_test_split(Xsequences,labels,test_size=0.2, random_state=42)\n",
        "# X_train, X_test, y_train, y_test = Xsequences[train.index],Xsequences[test.index],labels[train.index],labels[test.index]\n",
        "# X_val, X_test, y_val, y_test = train_test_split(X_test,y_test,test_size=0.5, random_state=42)"
      ]
    },
    {
      "cell_type": "code",
      "source": [],
      "metadata": {
        "id": "rOXGnczIG0qg"
      },
      "execution_count": null,
      "outputs": []
    },
    {
      "cell_type": "code",
      "source": [
        "y_train"
      ],
      "metadata": {
        "colab": {
          "base_uri": "https://localhost:8080/"
        },
        "id": "Bsv7j8llK8uN",
        "outputId": "4aae348f-f2c3-482f-c11b-43586abcd98b"
      },
      "execution_count": null,
      "outputs": [
        {
          "output_type": "execute_result",
          "data": {
            "text/plain": [
              "array([[0., 1., 0., 0., 0.],\n",
              "       [0., 1., 0., 0., 0.],\n",
              "       [0., 0., 0., 1., 0.],\n",
              "       ...,\n",
              "       [0., 0., 1., 0., 0.],\n",
              "       [1., 0., 0., 0., 0.],\n",
              "       [0., 0., 1., 0., 0.]])"
            ]
          },
          "metadata": {},
          "execution_count": 77
        }
      ]
    },
    {
      "cell_type": "code",
      "execution_count": 110,
      "metadata": {
        "id": "QUfErZzXAt-7"
      },
      "outputs": [],
      "source": [
        "embedding_dim = 50"
      ]
    },
    {
      "cell_type": "code",
      "execution_count": 111,
      "metadata": {
        "id": "w8NgYgtj6xT0"
      },
      "outputs": [],
      "source": [
        "# max_words = max_words-1"
      ]
    },
    {
      "cell_type": "code",
      "source": [
        "import tensorflow as tf\n"
      ],
      "metadata": {
        "id": "z4XXR6B14MaD"
      },
      "execution_count": 112,
      "outputs": []
    },
    {
      "cell_type": "code",
      "source": [
        "Xsequences.dtype"
      ],
      "metadata": {
        "colab": {
          "base_uri": "https://localhost:8080/"
        },
        "id": "ILbiaqCG46cr",
        "outputId": "4d9445ca-77e7-4fc5-a452-2cb6e549882d"
      },
      "execution_count": 113,
      "outputs": [
        {
          "output_type": "execute_result",
          "data": {
            "text/plain": [
              "dtype('int32')"
            ]
          },
          "metadata": {},
          "execution_count": 113
        }
      ]
    },
    {
      "cell_type": "code",
      "execution_count": 114,
      "metadata": {
        "id": "aQbqP0NXORh3"
      },
      "outputs": [],
      "source": [
        "from keras.callbacks import ReduceLROnPlateau , EarlyStopping\n",
        "from keras.utils import to_categorical\n",
        "from tensorflow.keras.optimizers import Adam, Adamax"
      ]
    },
    {
      "cell_type": "code",
      "execution_count": null,
      "metadata": {
        "id": "JZJNxEz1ORtC"
      },
      "outputs": [],
      "source": [
        "es = EarlyStopping(monitor=\"val_loss\", mode=\"min\", verbose=1, patience=5)\n",
        "learning_rate_reduction = ReduceLROnPlateau(monitor='val_accuracy',\n",
        "                                            patience=3,\n",
        "                                            verbose=1,\n",
        "                                            factor=0.5,\n",
        "                                            min_lr=0.00001)"
      ]
    },
    {
      "cell_type": "code",
      "source": [
        "y_test.shape"
      ],
      "metadata": {
        "colab": {
          "base_uri": "https://localhost:8080/"
        },
        "id": "fCOKH8csHh1Q",
        "outputId": "eddb6690-2e5b-4bc2-d81a-64ca6a9b86a1"
      },
      "execution_count": null,
      "outputs": [
        {
          "output_type": "execute_result",
          "data": {
            "text/plain": [
              "(8992, 5)"
            ]
          },
          "metadata": {},
          "execution_count": 84
        }
      ]
    },
    {
      "cell_type": "code",
      "execution_count": null,
      "metadata": {
        "id": "c-AjICKPQMXI"
      },
      "outputs": [],
      "source": [
        "from sklearn.metrics import classification_report\n",
        "\n",
        "def savemod(model,pa,path=path,y_test=y_test,X_test=X_test):\n",
        "    ff = pd.DataFrame(columns=['real','predicted'])\n",
        "    ff['real'] = y2\n",
        "    ff['predicted'] = y1\n",
        "    print(classification_report(y1,y2))\n",
        "    ff.to_csv(f'{path}{pa}.csv',index=False)"
      ]
    },
    {
      "cell_type": "code",
      "execution_count": 146,
      "metadata": {
        "colab": {
          "base_uri": "https://localhost:8080/"
        },
        "id": "uWML9QD4hjqU",
        "outputId": "c73fa55e-4f9d-461d-8f6c-4857b66d26e4"
      },
      "outputs": [
        {
          "output_type": "stream",
          "name": "stdout",
          "text": [
            "Model: \"sequential_5\"\n",
            "_________________________________________________________________\n",
            " Layer (type)                Output Shape              Param #   \n",
            "=================================================================\n",
            " embedding_5 (Embedding)     (None, 200, 50)           250000    \n",
            "                                                                 \n",
            " bidirectional_12 (Bidirecti  (None, 200, 64)          21248     \n",
            " onal)                                                           \n",
            "                                                                 \n",
            " bidirectional_13 (Bidirecti  (None, 200, 64)          24832     \n",
            " onal)                                                           \n",
            "                                                                 \n",
            " bidirectional_14 (Bidirecti  (None, 64)               24832     \n",
            " onal)                                                           \n",
            "                                                                 \n",
            " dense_11 (Dense)            (None, 64)                4160      \n",
            "                                                                 \n",
            " dropout_9 (Dropout)         (None, 64)                0         \n",
            "                                                                 \n",
            " dense_12 (Dense)            (None, 1)                 65        \n",
            "                                                                 \n",
            "=================================================================\n",
            "Total params: 325,137\n",
            "Trainable params: 325,137\n",
            "Non-trainable params: 0\n",
            "_________________________________________________________________\n"
          ]
        }
      ],
      "source": [
        "# Define model architecture\n",
        "model = tf.keras.Sequential([\n",
        "    tf.keras.layers.Embedding(input_dim=max_words,\n",
        "                              output_dim=embedding_dim,input_length=maxlen,\n",
        "                              # weights=[embedding_matrix],\n",
        "                              # trainable=True\n",
        "                              ),\n",
        "    # tf.keras.layers.Conv1D(32, 2, activation='relu',),\n",
        "    # tf.keras.layers.Conv1D(64, 2, activation='relu'),\n",
        "    # tf.keras.layers.Conv1D(128, 2, activation='relu'),\n",
        "\n",
        "    tf.keras.layers.Bidirectional(tf.keras.layers.LSTM(32,return_sequences=True)),\n",
        "    tf.keras.layers.Bidirectional(tf.keras.layers.LSTM(32,return_sequences=True)),\n",
        "    tf.keras.layers.Bidirectional(tf.keras.layers.LSTM(32)),\n",
        "    # tf.keras.layers.GlobalAveragePooling1D(),\n",
        "    tf.keras.layers.Dense(64, activation='relu'),\n",
        "    tf.keras.layers.Dropout(0.2),\n",
        "    tf.keras.layers.Dense(1, activation='sigmoid')\n",
        "])\n",
        "\n",
        "# Compile model\n",
        "model.compile(loss='binary_crossentropy',\n",
        "              optimizer=Adam(0.01),\n",
        "              metrics=['accuracy'])\n",
        "\n",
        "\n",
        "model.summary()"
      ]
    },
    {
      "cell_type": "code",
      "source": [
        "#  y_test"
      ],
      "metadata": {
        "id": "yScDPEW6pkss"
      },
      "execution_count": 147,
      "outputs": []
    },
    {
      "cell_type": "code",
      "execution_count": 148,
      "metadata": {
        "id": "-ZHAQEvIhzPT",
        "colab": {
          "base_uri": "https://localhost:8080/"
        },
        "outputId": "1ccbe4d1-7f2e-43c0-fb6b-41f6966bca07"
      },
      "outputs": [
        {
          "output_type": "stream",
          "name": "stdout",
          "text": [
            "Epoch 1/10\n",
            "967/967 [==============================] - 113s 98ms/step - loss: 0.1766 - accuracy: 0.9325 - val_loss: 0.0853 - val_accuracy: 0.9745 - lr: 0.0100\n",
            "Epoch 2/10\n",
            "967/967 [==============================] - 55s 57ms/step - loss: 0.0698 - accuracy: 0.9779 - val_loss: 0.0694 - val_accuracy: 0.9798 - lr: 0.0100\n",
            "Epoch 3/10\n",
            "967/967 [==============================] - 52s 54ms/step - loss: 0.0448 - accuracy: 0.9856 - val_loss: 0.0655 - val_accuracy: 0.9809 - lr: 0.0100\n",
            "Epoch 4/10\n",
            "967/967 [==============================] - 51s 53ms/step - loss: 0.0321 - accuracy: 0.9899 - val_loss: 0.0664 - val_accuracy: 0.9811 - lr: 0.0100\n",
            "Epoch 5/10\n",
            "967/967 [==============================] - 51s 53ms/step - loss: 0.0319 - accuracy: 0.9899 - val_loss: 0.0615 - val_accuracy: 0.9812 - lr: 0.0100\n",
            "Epoch 6/10\n",
            "967/967 [==============================] - 49s 51ms/step - loss: 0.0353 - accuracy: 0.9894 - val_loss: 0.0763 - val_accuracy: 0.9755 - lr: 0.0100\n",
            "Epoch 7/10\n",
            "967/967 [==============================] - 48s 50ms/step - loss: 0.0302 - accuracy: 0.9899 - val_loss: 0.0659 - val_accuracy: 0.9812 - lr: 0.0100\n",
            "Epoch 8/10\n",
            "967/967 [==============================] - 52s 54ms/step - loss: 0.0190 - accuracy: 0.9938 - val_loss: 0.0651 - val_accuracy: 0.9766 - lr: 0.0100\n",
            "Epoch 9/10\n",
            "967/967 [==============================] - 49s 51ms/step - loss: 0.0225 - accuracy: 0.9936 - val_loss: 0.0731 - val_accuracy: 0.9803 - lr: 0.0100\n",
            "Epoch 10/10\n",
            "967/967 [==============================] - ETA: 0s - loss: 0.0191 - accuracy: 0.9946\n",
            "Epoch 10: ReduceLROnPlateau reducing learning rate to 0.006999999843537807.\n",
            "967/967 [==============================] - 51s 52ms/step - loss: 0.0191 - accuracy: 0.9946 - val_loss: 0.0724 - val_accuracy: 0.9802 - lr: 0.0100\n"
          ]
        },
        {
          "output_type": "execute_result",
          "data": {
            "text/plain": [
              "<keras.callbacks.History at 0x7f64f9a6faf0>"
            ]
          },
          "metadata": {},
          "execution_count": 148
        }
      ],
      "source": [
        "# Train model\n",
        "model.fit(X_train, y_train,\n",
        "          validation_data=(X_test, y_test),\n",
        "          epochs=10,\n",
        "          batch_size=32,\n",
        "                              callbacks =[learning_rate_reduction,\n",
        "                                # es\n",
        "                                ],)"
      ]
    },
    {
      "cell_type": "code",
      "source": [
        "name = '3-LSTM'"
      ],
      "metadata": {
        "id": "XU_M4pcWjsrY"
      },
      "execution_count": 149,
      "outputs": []
    },
    {
      "cell_type": "code",
      "source": [
        "path = '/content/drive/MyDrive/work 39 fake true news/'"
      ],
      "metadata": {
        "id": "WBGDq7jsjp8m"
      },
      "execution_count": 150,
      "outputs": []
    },
    {
      "cell_type": "code",
      "source": [
        "yp = model.predict(X_test)\n",
        "yt = y_test"
      ],
      "metadata": {
        "colab": {
          "base_uri": "https://localhost:8080/"
        },
        "id": "WAC4dzzljQhv",
        "outputId": "aff4727a-129e-499a-b0c5-28b627d76f87"
      },
      "execution_count": 151,
      "outputs": [
        {
          "output_type": "stream",
          "name": "stdout",
          "text": [
            "242/242 [==============================] - 7s 20ms/step\n"
          ]
        }
      ]
    },
    {
      "cell_type": "code",
      "source": [
        "f = pd.DataFrame()\n",
        "f['predicted'] = yp.reshape(-1,)\n",
        "f['real'] = yt.reshape(-1,)\n",
        "f.to_csv(f'{path}{name}.csv',index=False)\n",
        "f"
      ],
      "metadata": {
        "colab": {
          "base_uri": "https://localhost:8080/",
          "height": 423
        },
        "id": "a4_iE64ljWe9",
        "outputId": "d6d9c8d7-caea-492f-80e5-dfba253e0036"
      },
      "execution_count": 152,
      "outputs": [
        {
          "output_type": "execute_result",
          "data": {
            "text/plain": [
              "         predicted  real\n",
              "0     9.998553e-01     1\n",
              "1     9.898822e-01     1\n",
              "2     9.997120e-01     1\n",
              "3     1.000000e+00     1\n",
              "4     1.168636e-16     0\n",
              "...            ...   ...\n",
              "7725  1.000000e+00     1\n",
              "7726  9.999855e-01     1\n",
              "7727  2.851351e-14     0\n",
              "7728  9.995871e-01     1\n",
              "7729  2.173755e-03     0\n",
              "\n",
              "[7730 rows x 2 columns]"
            ],
            "text/html": [
              "\n",
              "  <div id=\"df-66ad5b74-b0ca-4bfd-a5e8-29437283cde8\">\n",
              "    <div class=\"colab-df-container\">\n",
              "      <div>\n",
              "<style scoped>\n",
              "    .dataframe tbody tr th:only-of-type {\n",
              "        vertical-align: middle;\n",
              "    }\n",
              "\n",
              "    .dataframe tbody tr th {\n",
              "        vertical-align: top;\n",
              "    }\n",
              "\n",
              "    .dataframe thead th {\n",
              "        text-align: right;\n",
              "    }\n",
              "</style>\n",
              "<table border=\"1\" class=\"dataframe\">\n",
              "  <thead>\n",
              "    <tr style=\"text-align: right;\">\n",
              "      <th></th>\n",
              "      <th>predicted</th>\n",
              "      <th>real</th>\n",
              "    </tr>\n",
              "  </thead>\n",
              "  <tbody>\n",
              "    <tr>\n",
              "      <th>0</th>\n",
              "      <td>9.998553e-01</td>\n",
              "      <td>1</td>\n",
              "    </tr>\n",
              "    <tr>\n",
              "      <th>1</th>\n",
              "      <td>9.898822e-01</td>\n",
              "      <td>1</td>\n",
              "    </tr>\n",
              "    <tr>\n",
              "      <th>2</th>\n",
              "      <td>9.997120e-01</td>\n",
              "      <td>1</td>\n",
              "    </tr>\n",
              "    <tr>\n",
              "      <th>3</th>\n",
              "      <td>1.000000e+00</td>\n",
              "      <td>1</td>\n",
              "    </tr>\n",
              "    <tr>\n",
              "      <th>4</th>\n",
              "      <td>1.168636e-16</td>\n",
              "      <td>0</td>\n",
              "    </tr>\n",
              "    <tr>\n",
              "      <th>...</th>\n",
              "      <td>...</td>\n",
              "      <td>...</td>\n",
              "    </tr>\n",
              "    <tr>\n",
              "      <th>7725</th>\n",
              "      <td>1.000000e+00</td>\n",
              "      <td>1</td>\n",
              "    </tr>\n",
              "    <tr>\n",
              "      <th>7726</th>\n",
              "      <td>9.999855e-01</td>\n",
              "      <td>1</td>\n",
              "    </tr>\n",
              "    <tr>\n",
              "      <th>7727</th>\n",
              "      <td>2.851351e-14</td>\n",
              "      <td>0</td>\n",
              "    </tr>\n",
              "    <tr>\n",
              "      <th>7728</th>\n",
              "      <td>9.995871e-01</td>\n",
              "      <td>1</td>\n",
              "    </tr>\n",
              "    <tr>\n",
              "      <th>7729</th>\n",
              "      <td>2.173755e-03</td>\n",
              "      <td>0</td>\n",
              "    </tr>\n",
              "  </tbody>\n",
              "</table>\n",
              "<p>7730 rows × 2 columns</p>\n",
              "</div>\n",
              "      <button class=\"colab-df-convert\" onclick=\"convertToInteractive('df-66ad5b74-b0ca-4bfd-a5e8-29437283cde8')\"\n",
              "              title=\"Convert this dataframe to an interactive table.\"\n",
              "              style=\"display:none;\">\n",
              "        \n",
              "  <svg xmlns=\"http://www.w3.org/2000/svg\" height=\"24px\"viewBox=\"0 0 24 24\"\n",
              "       width=\"24px\">\n",
              "    <path d=\"M0 0h24v24H0V0z\" fill=\"none\"/>\n",
              "    <path d=\"M18.56 5.44l.94 2.06.94-2.06 2.06-.94-2.06-.94-.94-2.06-.94 2.06-2.06.94zm-11 1L8.5 8.5l.94-2.06 2.06-.94-2.06-.94L8.5 2.5l-.94 2.06-2.06.94zm10 10l.94 2.06.94-2.06 2.06-.94-2.06-.94-.94-2.06-.94 2.06-2.06.94z\"/><path d=\"M17.41 7.96l-1.37-1.37c-.4-.4-.92-.59-1.43-.59-.52 0-1.04.2-1.43.59L10.3 9.45l-7.72 7.72c-.78.78-.78 2.05 0 2.83L4 21.41c.39.39.9.59 1.41.59.51 0 1.02-.2 1.41-.59l7.78-7.78 2.81-2.81c.8-.78.8-2.07 0-2.86zM5.41 20L4 18.59l7.72-7.72 1.47 1.35L5.41 20z\"/>\n",
              "  </svg>\n",
              "      </button>\n",
              "      \n",
              "  <style>\n",
              "    .colab-df-container {\n",
              "      display:flex;\n",
              "      flex-wrap:wrap;\n",
              "      gap: 12px;\n",
              "    }\n",
              "\n",
              "    .colab-df-convert {\n",
              "      background-color: #E8F0FE;\n",
              "      border: none;\n",
              "      border-radius: 50%;\n",
              "      cursor: pointer;\n",
              "      display: none;\n",
              "      fill: #1967D2;\n",
              "      height: 32px;\n",
              "      padding: 0 0 0 0;\n",
              "      width: 32px;\n",
              "    }\n",
              "\n",
              "    .colab-df-convert:hover {\n",
              "      background-color: #E2EBFA;\n",
              "      box-shadow: 0px 1px 2px rgba(60, 64, 67, 0.3), 0px 1px 3px 1px rgba(60, 64, 67, 0.15);\n",
              "      fill: #174EA6;\n",
              "    }\n",
              "\n",
              "    [theme=dark] .colab-df-convert {\n",
              "      background-color: #3B4455;\n",
              "      fill: #D2E3FC;\n",
              "    }\n",
              "\n",
              "    [theme=dark] .colab-df-convert:hover {\n",
              "      background-color: #434B5C;\n",
              "      box-shadow: 0px 1px 3px 1px rgba(0, 0, 0, 0.15);\n",
              "      filter: drop-shadow(0px 1px 2px rgba(0, 0, 0, 0.3));\n",
              "      fill: #FFFFFF;\n",
              "    }\n",
              "  </style>\n",
              "\n",
              "      <script>\n",
              "        const buttonEl =\n",
              "          document.querySelector('#df-66ad5b74-b0ca-4bfd-a5e8-29437283cde8 button.colab-df-convert');\n",
              "        buttonEl.style.display =\n",
              "          google.colab.kernel.accessAllowed ? 'block' : 'none';\n",
              "\n",
              "        async function convertToInteractive(key) {\n",
              "          const element = document.querySelector('#df-66ad5b74-b0ca-4bfd-a5e8-29437283cde8');\n",
              "          const dataTable =\n",
              "            await google.colab.kernel.invokeFunction('convertToInteractive',\n",
              "                                                     [key], {});\n",
              "          if (!dataTable) return;\n",
              "\n",
              "          const docLinkHtml = 'Like what you see? Visit the ' +\n",
              "            '<a target=\"_blank\" href=https://colab.research.google.com/notebooks/data_table.ipynb>data table notebook</a>'\n",
              "            + ' to learn more about interactive tables.';\n",
              "          element.innerHTML = '';\n",
              "          dataTable['output_type'] = 'display_data';\n",
              "          await google.colab.output.renderOutput(dataTable, element);\n",
              "          const docLink = document.createElement('div');\n",
              "          docLink.innerHTML = docLinkHtml;\n",
              "          element.appendChild(docLink);\n",
              "        }\n",
              "      </script>\n",
              "    </div>\n",
              "  </div>\n",
              "  "
            ]
          },
          "metadata": {},
          "execution_count": 152
        }
      ]
    },
    {
      "cell_type": "code",
      "execution_count": null,
      "metadata": {
        "colab": {
          "base_uri": "https://localhost:8080/"
        },
        "id": "hdJXJBpiUJsO",
        "outputId": "faba7f8f-a3f6-43ff-d7df-811c0aadaa78"
      },
      "outputs": [
        {
          "output_type": "stream",
          "name": "stdout",
          "text": [
            "16/16 [==============================] - 0s 8ms/step\n",
            "              precision    recall  f1-score   support\n",
            "\n",
            "           0       0.98      0.95      0.96       362\n",
            "           1       0.88      0.94      0.91       137\n",
            "\n",
            "    accuracy                           0.95       499\n",
            "   macro avg       0.93      0.95      0.94       499\n",
            "weighted avg       0.95      0.95      0.95       499\n",
            "\n"
          ]
        }
      ],
      "source": [
        "# savemod(model=model,pa='Dense',y_test=y_test,X_test=X_test)"
      ]
    },
    {
      "cell_type": "code",
      "execution_count": null,
      "metadata": {
        "id": "kf0cpvkGytEd"
      },
      "outputs": [],
      "source": [
        "import tensorflow as tf\n",
        "from tensorflow import keras\n",
        "from tensorflow.keras.layers import MultiHeadAttention, LayerNormalization, Dropout, Layer\n",
        "from tensorflow.keras.layers import Embedding, Input, GlobalAveragePooling1D, Dense\n",
        "# from tensorflow.keras.datasets import imdb\n",
        "from tensorflow.keras.models import Sequential, Model\n",
        "import numpy as np\n",
        "import warnings\n",
        "warnings.filterwarnings(\"ignore\", category=np.VisibleDeprecationWarning)"
      ]
    },
    {
      "cell_type": "code",
      "execution_count": null,
      "metadata": {
        "id": "ZdvOdvtMtqhq"
      },
      "outputs": [],
      "source": [
        "class TransformerBlock(Layer):\n",
        "    def __init__(self, embed_dim, num_heads, ff_dim, rate=0.1):\n",
        "        super(TransformerBlock, self).__init__()\n",
        "        self.att = MultiHeadAttention(num_heads=num_heads, key_dim=embed_dim)\n",
        "        self.ffn = Sequential(\n",
        "            [\n",
        "             Dense(2 * 6 * ff_dim, activation=\"relu\"),\n",
        "             Dropout(rate),\n",
        "             Dense(2 * 5 * ff_dim, activation=\"relu\"),\n",
        "             Dropout(rate),\n",
        "             Dense(2 * 4 * ff_dim, activation=\"relu\"),\n",
        "             Dropout(rate),\n",
        "             Dense(2 * 3 * ff_dim, activation=\"relu\"),\n",
        "             Dropout(rate),\n",
        "             Dense(3 * 2 * ff_dim, activation=\"relu\"),\n",
        "             Dropout(rate),\n",
        "             Dense(embed_dim)]\n",
        "        )\n",
        "        self.layernorm1 = LayerNormalization(epsilon=1e-12)\n",
        "        self.layernorm2 = LayerNormalization(epsilon=1e-12)\n",
        "        self.dropout1 = Dropout(rate)\n",
        "        self.dropout2 = Dropout(rate)\n",
        "\n",
        "    def call(self, inputs, training):\n",
        "        attn_output = self.att(inputs, inputs)\n",
        "        attn_output = self.dropout1(attn_output, training=training)\n",
        "        out1 = self.layernorm1(inputs + attn_output)\n",
        "        ffn_output = self.ffn(out1)\n",
        "        ffn_output = self.dropout2(ffn_output, training=training)\n",
        "        return self.layernorm2(out1 + ffn_output)\n",
        "\n",
        "class TokenAndPositionEmbedding(Layer):\n",
        "    def __init__(self, maxlen, vocab_size, embed_dim):\n",
        "        super(TokenAndPositionEmbedding, self).__init__()\n",
        "        self.token_emb = Embedding(input_dim=vocab_size, output_dim=embed_dim,\n",
        "                                   weights=[embedding_matrix],\n",
        "                                   trainable=True)\n",
        "        self.pos_emb = Embedding(input_dim=maxlen, output_dim=embed_dim,trainable=False)\n",
        "\n",
        "    def call(self, x):\n",
        "        maxlen = tf.shape(x)[-1]\n",
        "        positions = tf.range(start=0, limit=maxlen, delta=1)\n",
        "        positions = self.pos_emb(positions)\n",
        "        x = self.token_emb(x)\n",
        "        return x + positions"
      ]
    },
    {
      "cell_type": "code",
      "execution_count": null,
      "metadata": {
        "id": "In4oYfDMt2cJ"
      },
      "outputs": [],
      "source": [
        "embed_dim = 300  # Embedding size for each token\n",
        "num_heads = 6  # Number of attention heads\n",
        "ff_dim = 128  # Hidden layer size in feed forward network inside transformer\n",
        "\n",
        "inputs = Input(shape=(maxlen,))\n",
        "embedding_layer = TokenAndPositionEmbedding(maxlen, max_words, embed_dim)\n",
        "x = embedding_layer(inputs)\n",
        "transformer_block = TransformerBlock(embed_dim, num_heads, ff_dim)\n",
        "x = transformer_block(x)\n",
        "x = GlobalAveragePooling1D()(x)\n",
        "# x = Dropout(0.1)(x)\n",
        "# x = Dense(128, activation=\"relu\")(x)\n",
        "# x = Dropout(0.1)(x)\n",
        "outputs = Dense(6, activation=\"softmax\")(x)\n",
        "\n",
        "model = Model(inputs=inputs, outputs=outputs)"
      ]
    },
    {
      "cell_type": "code",
      "execution_count": null,
      "metadata": {
        "colab": {
          "base_uri": "https://localhost:8080/"
        },
        "id": "1ijDqRAkyzPw",
        "outputId": "6e4bd0c5-d0af-40d2-e9a5-b8eedea2fea7"
      },
      "outputs": [
        {
          "output_type": "stream",
          "name": "stdout",
          "text": [
            "Model: \"model_1\"\n",
            "_________________________________________________________________\n",
            " Layer (type)                Output Shape              Param #   \n",
            "=================================================================\n",
            " input_2 (InputLayer)        [(None, 64)]              0         \n",
            "                                                                 \n",
            " token_and_position_embeddin  (None, 64, 300)          619200    \n",
            " g_1 (TokenAndPositionEmbedd                                     \n",
            " ing)                                                            \n",
            "                                                                 \n",
            " transformer_block_1 (Transf  (None, 64, 300)          7516832   \n",
            " ormerBlock)                                                     \n",
            "                                                                 \n",
            " global_average_pooling1d_1   (None, 300)              0         \n",
            " (GlobalAveragePooling1D)                                        \n",
            "                                                                 \n",
            " dense_13 (Dense)            (None, 6)                 1806      \n",
            "                                                                 \n",
            "=================================================================\n",
            "Total params: 8,137,838\n",
            "Trainable params: 8,118,638\n",
            "Non-trainable params: 19,200\n",
            "_________________________________________________________________\n"
          ]
        }
      ],
      "source": [
        "# Compile model\n",
        "model.compile(loss='categorical_crossentropy',\n",
        "              optimizer='adamax',\n",
        "              metrics=['accuracy'])\n",
        "\n",
        "\n",
        "model.summary()"
      ]
    },
    {
      "cell_type": "code",
      "execution_count": null,
      "metadata": {
        "colab": {
          "base_uri": "https://localhost:8080/"
        },
        "id": "0X3I21zet4Wu",
        "outputId": "8acb03bc-fe7d-4dc7-9522-57b86ce0803b"
      },
      "outputs": [
        {
          "output_type": "stream",
          "name": "stdout",
          "text": [
            "Epoch 1/12\n",
            "400/400 [==============================] - 16s 41ms/step - loss: 0.1378 - accuracy: 0.9407 - val_loss: 0.3234 - val_accuracy: 0.8932 - lr: 0.0010\n",
            "Epoch 2/12\n",
            "400/400 [==============================] - 17s 42ms/step - loss: 0.1293 - accuracy: 0.9430 - val_loss: 0.3609 - val_accuracy: 0.8957 - lr: 0.0010\n",
            "Epoch 3/12\n",
            "400/400 [==============================] - 18s 45ms/step - loss: 0.1210 - accuracy: 0.9461 - val_loss: 0.3549 - val_accuracy: 0.8910 - lr: 0.0010\n",
            "Epoch 4/12\n",
            "400/400 [==============================] - 16s 41ms/step - loss: 0.1134 - accuracy: 0.9499 - val_loss: 0.3884 - val_accuracy: 0.8939 - lr: 0.0010\n",
            "Epoch 5/12\n",
            "400/400 [==============================] - ETA: 0s - loss: 0.1079 - accuracy: 0.9522\n",
            "Epoch 5: ReduceLROnPlateau reducing learning rate to 0.0005000000237487257.\n",
            "400/400 [==============================] - 16s 40ms/step - loss: 0.1079 - accuracy: 0.9522 - val_loss: 0.3890 - val_accuracy: 0.8882 - lr: 0.0010\n",
            "Epoch 6/12\n",
            "400/400 [==============================] - 17s 42ms/step - loss: 0.0892 - accuracy: 0.9607 - val_loss: 0.4120 - val_accuracy: 0.8873 - lr: 5.0000e-04\n",
            "Epoch 6: early stopping\n"
          ]
        },
        {
          "output_type": "execute_result",
          "data": {
            "text/plain": [
              "<keras.callbacks.History at 0x7f1a7ae93760>"
            ]
          },
          "metadata": {},
          "execution_count": 46
        }
      ],
      "source": [
        "# Train model\n",
        "model.fit(X_train, y_train,\n",
        "          validation_data=(X_test, y_test),\n",
        "          epochs=12,\n",
        "          batch_size=32,\n",
        "                              callbacks =[learning_rate_reduction,\n",
        "                                es\n",
        "                                ],\n",
        "          )"
      ]
    },
    {
      "cell_type": "code",
      "execution_count": null,
      "metadata": {
        "colab": {
          "base_uri": "https://localhost:8080/"
        },
        "id": "lcdfWmT57GK2",
        "outputId": "9237a2b7-f5f5-4f84-abd1-79db2d54a521"
      },
      "outputs": [
        {
          "output_type": "stream",
          "name": "stdout",
          "text": [
            "100/100 [==============================] - 2s 14ms/step\n"
          ]
        }
      ],
      "source": [
        "savemod(model=model,pa='transformer-without')"
      ]
    },
    {
      "cell_type": "code",
      "execution_count": null,
      "metadata": {
        "id": "Vn2dE_62DLS_"
      },
      "outputs": [],
      "source": [
        "import tensorflow as tf\n",
        "from tensorflow.keras.layers import Dense, Dropout\n",
        "from tensorflow.keras.optimizers import Adam\n",
        "from tensorflow.keras.losses import SparseCategoricalCrossentropy\n",
        "from tensorflow.keras.metrics import SparseCategoricalAccuracy\n",
        "from tensorflow.keras.callbacks import EarlyStopping\n",
        "from tensorflow.keras.preprocessing.text import Tokenizer\n",
        "from tensorflow.keras.preprocessing.sequence import pad_sequences\n",
        "\n",
        "# Prepare your text data and labels\n",
        "texts = [...]  # List of input texts\n",
        "labels = [...]  # List of corresponding labels\n",
        "\n",
        "# Tokenize and preprocess the text data\n",
        "tokenizer = Tokenizer()\n",
        "tokenizer.fit_on_texts(texts)\n",
        "sequences = tokenizer.texts_to_sequences(texts)\n",
        "max_sequence_length = max(len(seq) for seq in sequences)\n",
        "vocab_size = len(tokenizer.word_index) + 1\n",
        "\n",
        "# Pad sequences to have the same length\n",
        "padded_sequences = pad_sequences(sequences, maxlen=max_sequence_length, padding='post')\n",
        "\n",
        "# Split the data into training and validation sets\n",
        "train_ratio = 0.8\n",
        "train_size = int(len(padded_sequences) * train_ratio)\n",
        "\n",
        "train_sequences = padded_sequences[:train_size]\n",
        "train_labels = labels[:train_size]\n",
        "val_sequences = padded_sequences[train_size:]\n",
        "val_labels = labels[train_size:]\n",
        "\n",
        "# Create the Transformer Encoder model\n",
        "def transformer_encoder(vocab_size, max_sequence_length):\n",
        "    inputs = tf.keras.Input(shape=(max_sequence_length,))\n",
        "    embedding_layer = tf.keras.layers.Embedding(vocab_size, 128)(inputs)\n",
        "    positional_encoding = tf.keras.layers.Embedding(max_sequence_length, 128)(tf.range(max_sequence_length))\n",
        "    encoded_inputs = embedding_layer + positional_encoding\n",
        "    encoder_outputs = tf.keras.layers.GlobalAveragePooling1D()(encoded_inputs)\n",
        "    dense = Dense(64, activation='relu')(encoder_outputs)\n",
        "    dropout = Dropout(0.2)(dense)\n",
        "    outputs = Dense(num_classes, activation='softmax')(dropout)\n",
        "\n",
        "    model = tf.keras.Model(inputs=inputs, outputs=outputs)\n",
        "    return model\n",
        "\n",
        "# Set the number of classes for classification\n",
        "num_classes = len(set(labels))\n",
        "\n",
        "# Instantiate the model\n",
        "model = transformer_encoder(vocab_size, max_sequence_length)\n",
        "\n",
        "# Compile the model\n",
        "learning_rate = 0.001\n",
        "model.compile(optimizer=Adam(learning_rate), loss=SparseCategoricalCrossentropy(), metrics=[SparseCategoricalAccuracy()])\n",
        "\n",
        "# Define callbacks (optional)\n",
        "early_stopping = EarlyStopping(patience=3)\n",
        "\n",
        "# Train the model\n",
        "batch_size = 32\n",
        "epochs = 10\n",
        "model.fit(train_sequences, train_labels, validation_data=(val_sequences, val_labels),\n",
        "          batch_size=batch_size, epochs=epochs, callbacks=[early_stopping])\n",
        "\n",
        "# Once trained, you can use the model for predictions\n",
        "test_sequences = pad_sequences(tokenizer.texts_to_sequences(test_texts), maxlen=max_sequence_length, padding='post')\n",
        "predictions = model.predict(test_sequences)\n"
      ]
    },
    {
      "cell_type": "code",
      "source": [
        "data.to_csv(f'{path}datatransformer.csv',index=False)"
      ],
      "metadata": {
        "id": "Su4rhSH2NSJM"
      },
      "execution_count": null,
      "outputs": []
    },
    {
      "cell_type": "code",
      "source": [
        "import pandas as pd\n",
        "import numpy as np\n",
        "# import\n",
        "data = pd.read_csv('/content/drive/MyDrive/work 37 corona /datatransformer.csv', encoding=\"latin-1\")\n",
        "data"
      ],
      "metadata": {
        "colab": {
          "base_uri": "https://localhost:8080/",
          "height": 423
        },
        "id": "ZMfzcaObNaS0",
        "outputId": "5343bee4-32d7-46ce-9bff-c42c92aef96e"
      },
      "execution_count": null,
      "outputs": [
        {
          "output_type": "execute_result",
          "data": {
            "text/plain": [
              "                                                   tweet           sentiment  \\\n",
              "0                                          gahan and and             Neutral   \n",
              "1      advice talk to your neighbours family to excha...            Positive   \n",
              "2      coronavirus australia woolworths to give elder...            Positive   \n",
              "3      my food stock is not the only one which is emp...            Positive   \n",
              "4      me ready to go at supermarket during the covid...  Extremely Negative   \n",
              "...                                                  ...                 ...   \n",
              "44951  meanwhile in a supermarket in israel people da...            Positive   \n",
              "44952  did you panic buy a lot of nonperishable items...            Negative   \n",
              "44953  asst prof of economics was on talking about he...             Neutral   \n",
              "44954  gov need to do somethings instead of biar je r...  Extremely Negative   \n",
              "44955  i and members are committed to the safety of o...  Extremely Positive   \n",
              "\n",
              "       len  \n",
              "0        3  \n",
              "1       38  \n",
              "2       13  \n",
              "3       41  \n",
              "4       39  \n",
              "...    ...  \n",
              "44951   15  \n",
              "44952   33  \n",
              "44953   23  \n",
              "44954   28  \n",
              "44955   30  \n",
              "\n",
              "[44956 rows x 3 columns]"
            ],
            "text/html": [
              "\n",
              "  <div id=\"df-b8cebc08-c280-4c4d-ad02-dcd09d4fa3ba\">\n",
              "    <div class=\"colab-df-container\">\n",
              "      <div>\n",
              "<style scoped>\n",
              "    .dataframe tbody tr th:only-of-type {\n",
              "        vertical-align: middle;\n",
              "    }\n",
              "\n",
              "    .dataframe tbody tr th {\n",
              "        vertical-align: top;\n",
              "    }\n",
              "\n",
              "    .dataframe thead th {\n",
              "        text-align: right;\n",
              "    }\n",
              "</style>\n",
              "<table border=\"1\" class=\"dataframe\">\n",
              "  <thead>\n",
              "    <tr style=\"text-align: right;\">\n",
              "      <th></th>\n",
              "      <th>tweet</th>\n",
              "      <th>sentiment</th>\n",
              "      <th>len</th>\n",
              "    </tr>\n",
              "  </thead>\n",
              "  <tbody>\n",
              "    <tr>\n",
              "      <th>0</th>\n",
              "      <td>gahan and and</td>\n",
              "      <td>Neutral</td>\n",
              "      <td>3</td>\n",
              "    </tr>\n",
              "    <tr>\n",
              "      <th>1</th>\n",
              "      <td>advice talk to your neighbours family to excha...</td>\n",
              "      <td>Positive</td>\n",
              "      <td>38</td>\n",
              "    </tr>\n",
              "    <tr>\n",
              "      <th>2</th>\n",
              "      <td>coronavirus australia woolworths to give elder...</td>\n",
              "      <td>Positive</td>\n",
              "      <td>13</td>\n",
              "    </tr>\n",
              "    <tr>\n",
              "      <th>3</th>\n",
              "      <td>my food stock is not the only one which is emp...</td>\n",
              "      <td>Positive</td>\n",
              "      <td>41</td>\n",
              "    </tr>\n",
              "    <tr>\n",
              "      <th>4</th>\n",
              "      <td>me ready to go at supermarket during the covid...</td>\n",
              "      <td>Extremely Negative</td>\n",
              "      <td>39</td>\n",
              "    </tr>\n",
              "    <tr>\n",
              "      <th>...</th>\n",
              "      <td>...</td>\n",
              "      <td>...</td>\n",
              "      <td>...</td>\n",
              "    </tr>\n",
              "    <tr>\n",
              "      <th>44951</th>\n",
              "      <td>meanwhile in a supermarket in israel people da...</td>\n",
              "      <td>Positive</td>\n",
              "      <td>15</td>\n",
              "    </tr>\n",
              "    <tr>\n",
              "      <th>44952</th>\n",
              "      <td>did you panic buy a lot of nonperishable items...</td>\n",
              "      <td>Negative</td>\n",
              "      <td>33</td>\n",
              "    </tr>\n",
              "    <tr>\n",
              "      <th>44953</th>\n",
              "      <td>asst prof of economics was on talking about he...</td>\n",
              "      <td>Neutral</td>\n",
              "      <td>23</td>\n",
              "    </tr>\n",
              "    <tr>\n",
              "      <th>44954</th>\n",
              "      <td>gov need to do somethings instead of biar je r...</td>\n",
              "      <td>Extremely Negative</td>\n",
              "      <td>28</td>\n",
              "    </tr>\n",
              "    <tr>\n",
              "      <th>44955</th>\n",
              "      <td>i and members are committed to the safety of o...</td>\n",
              "      <td>Extremely Positive</td>\n",
              "      <td>30</td>\n",
              "    </tr>\n",
              "  </tbody>\n",
              "</table>\n",
              "<p>44956 rows × 3 columns</p>\n",
              "</div>\n",
              "      <button class=\"colab-df-convert\" onclick=\"convertToInteractive('df-b8cebc08-c280-4c4d-ad02-dcd09d4fa3ba')\"\n",
              "              title=\"Convert this dataframe to an interactive table.\"\n",
              "              style=\"display:none;\">\n",
              "        \n",
              "  <svg xmlns=\"http://www.w3.org/2000/svg\" height=\"24px\"viewBox=\"0 0 24 24\"\n",
              "       width=\"24px\">\n",
              "    <path d=\"M0 0h24v24H0V0z\" fill=\"none\"/>\n",
              "    <path d=\"M18.56 5.44l.94 2.06.94-2.06 2.06-.94-2.06-.94-.94-2.06-.94 2.06-2.06.94zm-11 1L8.5 8.5l.94-2.06 2.06-.94-2.06-.94L8.5 2.5l-.94 2.06-2.06.94zm10 10l.94 2.06.94-2.06 2.06-.94-2.06-.94-.94-2.06-.94 2.06-2.06.94z\"/><path d=\"M17.41 7.96l-1.37-1.37c-.4-.4-.92-.59-1.43-.59-.52 0-1.04.2-1.43.59L10.3 9.45l-7.72 7.72c-.78.78-.78 2.05 0 2.83L4 21.41c.39.39.9.59 1.41.59.51 0 1.02-.2 1.41-.59l7.78-7.78 2.81-2.81c.8-.78.8-2.07 0-2.86zM5.41 20L4 18.59l7.72-7.72 1.47 1.35L5.41 20z\"/>\n",
              "  </svg>\n",
              "      </button>\n",
              "      \n",
              "  <style>\n",
              "    .colab-df-container {\n",
              "      display:flex;\n",
              "      flex-wrap:wrap;\n",
              "      gap: 12px;\n",
              "    }\n",
              "\n",
              "    .colab-df-convert {\n",
              "      background-color: #E8F0FE;\n",
              "      border: none;\n",
              "      border-radius: 50%;\n",
              "      cursor: pointer;\n",
              "      display: none;\n",
              "      fill: #1967D2;\n",
              "      height: 32px;\n",
              "      padding: 0 0 0 0;\n",
              "      width: 32px;\n",
              "    }\n",
              "\n",
              "    .colab-df-convert:hover {\n",
              "      background-color: #E2EBFA;\n",
              "      box-shadow: 0px 1px 2px rgba(60, 64, 67, 0.3), 0px 1px 3px 1px rgba(60, 64, 67, 0.15);\n",
              "      fill: #174EA6;\n",
              "    }\n",
              "\n",
              "    [theme=dark] .colab-df-convert {\n",
              "      background-color: #3B4455;\n",
              "      fill: #D2E3FC;\n",
              "    }\n",
              "\n",
              "    [theme=dark] .colab-df-convert:hover {\n",
              "      background-color: #434B5C;\n",
              "      box-shadow: 0px 1px 3px 1px rgba(0, 0, 0, 0.15);\n",
              "      filter: drop-shadow(0px 1px 2px rgba(0, 0, 0, 0.3));\n",
              "      fill: #FFFFFF;\n",
              "    }\n",
              "  </style>\n",
              "\n",
              "      <script>\n",
              "        const buttonEl =\n",
              "          document.querySelector('#df-b8cebc08-c280-4c4d-ad02-dcd09d4fa3ba button.colab-df-convert');\n",
              "        buttonEl.style.display =\n",
              "          google.colab.kernel.accessAllowed ? 'block' : 'none';\n",
              "\n",
              "        async function convertToInteractive(key) {\n",
              "          const element = document.querySelector('#df-b8cebc08-c280-4c4d-ad02-dcd09d4fa3ba');\n",
              "          const dataTable =\n",
              "            await google.colab.kernel.invokeFunction('convertToInteractive',\n",
              "                                                     [key], {});\n",
              "          if (!dataTable) return;\n",
              "\n",
              "          const docLinkHtml = 'Like what you see? Visit the ' +\n",
              "            '<a target=\"_blank\" href=https://colab.research.google.com/notebooks/data_table.ipynb>data table notebook</a>'\n",
              "            + ' to learn more about interactive tables.';\n",
              "          element.innerHTML = '';\n",
              "          dataTable['output_type'] = 'display_data';\n",
              "          await google.colab.output.renderOutput(dataTable, element);\n",
              "          const docLink = document.createElement('div');\n",
              "          docLink.innerHTML = docLinkHtml;\n",
              "          element.appendChild(docLink);\n",
              "        }\n",
              "      </script>\n",
              "    </div>\n",
              "  </div>\n",
              "  "
            ]
          },
          "metadata": {},
          "execution_count": 24
        }
      ]
    },
    {
      "cell_type": "code",
      "execution_count": 29,
      "metadata": {
        "id": "lJ8ruGiKoGhn"
      },
      "outputs": [],
      "source": [
        "SEQ_LEN = 300"
      ]
    },
    {
      "cell_type": "code",
      "execution_count": 30,
      "metadata": {
        "colab": {
          "base_uri": "https://localhost:8080/"
        },
        "id": "Q6BNjmP_oOL0",
        "outputId": "44d61718-2182-4ab7-fc12-3809a1508c01"
      },
      "outputs": [
        {
          "output_type": "stream",
          "name": "stdout",
          "text": [
            "Collecting transformers\n",
            "  Downloading transformers-4.30.2-py3-none-any.whl (7.2 MB)\n",
            "\u001b[2K     \u001b[90m━━━━━━━━━━━━━━━━━━━━━━━━━━━━━━━━━━━━━━━━\u001b[0m \u001b[32m7.2/7.2 MB\u001b[0m \u001b[31m55.8 MB/s\u001b[0m eta \u001b[36m0:00:00\u001b[0m\n",
            "\u001b[?25hRequirement already satisfied: filelock in /usr/local/lib/python3.10/dist-packages (from transformers) (3.12.2)\n",
            "Collecting huggingface-hub<1.0,>=0.14.1 (from transformers)\n",
            "  Downloading huggingface_hub-0.16.2-py3-none-any.whl (268 kB)\n",
            "\u001b[2K     \u001b[90m━━━━━━━━━━━━━━━━━━━━━━━━━━━━━━━━━━━━━━\u001b[0m \u001b[32m268.5/268.5 kB\u001b[0m \u001b[31m31.1 MB/s\u001b[0m eta \u001b[36m0:00:00\u001b[0m\n",
            "\u001b[?25hRequirement already satisfied: numpy>=1.17 in /usr/local/lib/python3.10/dist-packages (from transformers) (1.22.4)\n",
            "Requirement already satisfied: packaging>=20.0 in /usr/local/lib/python3.10/dist-packages (from transformers) (23.1)\n",
            "Requirement already satisfied: pyyaml>=5.1 in /usr/local/lib/python3.10/dist-packages (from transformers) (6.0)\n",
            "Requirement already satisfied: regex!=2019.12.17 in /usr/local/lib/python3.10/dist-packages (from transformers) (2022.10.31)\n",
            "Requirement already satisfied: requests in /usr/local/lib/python3.10/dist-packages (from transformers) (2.27.1)\n",
            "Collecting tokenizers!=0.11.3,<0.14,>=0.11.1 (from transformers)\n",
            "  Downloading tokenizers-0.13.3-cp310-cp310-manylinux_2_17_x86_64.manylinux2014_x86_64.whl (7.8 MB)\n",
            "\u001b[2K     \u001b[90m━━━━━━━━━━━━━━━━━━━━━━━━━━━━━━━━━━━━━━━━\u001b[0m \u001b[32m7.8/7.8 MB\u001b[0m \u001b[31m84.2 MB/s\u001b[0m eta \u001b[36m0:00:00\u001b[0m\n",
            "\u001b[?25hCollecting safetensors>=0.3.1 (from transformers)\n",
            "  Downloading safetensors-0.3.1-cp310-cp310-manylinux_2_17_x86_64.manylinux2014_x86_64.whl (1.3 MB)\n",
            "\u001b[2K     \u001b[90m━━━━━━━━━━━━━━━━━━━━━━━━━━━━━━━━━━━━━━━━\u001b[0m \u001b[32m1.3/1.3 MB\u001b[0m \u001b[31m63.7 MB/s\u001b[0m eta \u001b[36m0:00:00\u001b[0m\n",
            "\u001b[?25hRequirement already satisfied: tqdm>=4.27 in /usr/local/lib/python3.10/dist-packages (from transformers) (4.65.0)\n",
            "Requirement already satisfied: fsspec in /usr/local/lib/python3.10/dist-packages (from huggingface-hub<1.0,>=0.14.1->transformers) (2023.6.0)\n",
            "Requirement already satisfied: typing-extensions>=3.7.4.3 in /usr/local/lib/python3.10/dist-packages (from huggingface-hub<1.0,>=0.14.1->transformers) (4.6.3)\n",
            "Requirement already satisfied: urllib3<1.27,>=1.21.1 in /usr/local/lib/python3.10/dist-packages (from requests->transformers) (1.26.16)\n",
            "Requirement already satisfied: certifi>=2017.4.17 in /usr/local/lib/python3.10/dist-packages (from requests->transformers) (2023.5.7)\n",
            "Requirement already satisfied: charset-normalizer~=2.0.0 in /usr/local/lib/python3.10/dist-packages (from requests->transformers) (2.0.12)\n",
            "Requirement already satisfied: idna<4,>=2.5 in /usr/local/lib/python3.10/dist-packages (from requests->transformers) (3.4)\n",
            "Installing collected packages: tokenizers, safetensors, huggingface-hub, transformers\n",
            "Successfully installed huggingface-hub-0.16.2 safetensors-0.3.1 tokenizers-0.13.3 transformers-4.30.2\n"
          ]
        }
      ],
      "source": [
        "pip install transformers"
      ]
    },
    {
      "cell_type": "code",
      "execution_count": 31,
      "metadata": {
        "id": "uZ4pXCGsoJS1"
      },
      "outputs": [],
      "source": [
        "from transformers import AutoTokenizer"
      ]
    },
    {
      "cell_type": "code",
      "execution_count": 32,
      "metadata": {
        "id": "4Y33RnBxoNLX",
        "colab": {
          "base_uri": "https://localhost:8080/",
          "height": 113,
          "referenced_widgets": [
            "2b58664847304a2e8cac3d563d973b4e",
            "12ab303577384ac99652b46822523933",
            "09fc49d3291a4449abceae39bdd3d858",
            "dc242f2d3afc4948ae2efbb5896bd5a9",
            "944d0c8cf7a34d1fa8a46f73e1a98218",
            "c86658e71d8f47c49f0ecfa51cc5d6bc",
            "db7aabbf73fd43da9c986f758bc7a522",
            "7f4dd1474dc145bea6b1223d30891cb1",
            "961cb148b8e44481a58812c8bad12397",
            "76bc5c13384b43268a3b0936ed66a7e9",
            "e337a76d65134a1da6f71fda820d6ecf",
            "4373aa31af9e41608d007bb550fdf479",
            "330da9c63ee346afae49eb6da9971050",
            "4cedc9f079d848feb69f04b5afbbf52f",
            "d56b7e1a97754ab1bf8b2316b7784216",
            "6e76b211293e41dfb9b8f4b006340fa7",
            "d0bc42b002ef48b6a365d772dd0ee1d7",
            "ddb3201fe0ec47909d0b322e916bea1e",
            "2fd1602122ac47fab245f7daaf09e53d",
            "e7b01dc1480344ca902d21b9c7de00da",
            "5a03b17c5bec451b9d0365ca1b2e9e16",
            "b696bfae678049519687eeb2c2e8dddd",
            "23141bfd484e45c89ca7ba5d9c869ab4",
            "7637a8f6805440f88fc94f62d3656d99",
            "7392e73b32a94c8a907aa81843b7796d",
            "f3e9d0e83fcc4b7a855d437fc9ba87c4",
            "9bb2e89b07ca4d678fc50a6117f25a05",
            "f3756801b15448c2a9eaa88e3825fd58",
            "967ea1ab9a4a4eaeb6ca3f733a53d0e5",
            "392e48eb843c43da9ab6f4a1c2daea56",
            "b425e1b8fd334d4db9078be5bf35a9c9",
            "8af9ec5d06a54acfbeca61f6193dc5dd",
            "7a34006386c8466dbcce53c865d524c2"
          ]
        },
        "outputId": "1835ead8-3cc2-4ec8-fced-7d04b361904b"
      },
      "outputs": [
        {
          "output_type": "display_data",
          "data": {
            "text/plain": [
              "Downloading (…)lve/main/config.json:   0%|          | 0.00/684 [00:00<?, ?B/s]"
            ],
            "application/vnd.jupyter.widget-view+json": {
              "version_major": 2,
              "version_minor": 0,
              "model_id": "2b58664847304a2e8cac3d563d973b4e"
            }
          },
          "metadata": {}
        },
        {
          "output_type": "display_data",
          "data": {
            "text/plain": [
              "Downloading (…)ve/main/spiece.model:   0%|          | 0.00/760k [00:00<?, ?B/s]"
            ],
            "application/vnd.jupyter.widget-view+json": {
              "version_major": 2,
              "version_minor": 0,
              "model_id": "4373aa31af9e41608d007bb550fdf479"
            }
          },
          "metadata": {}
        },
        {
          "output_type": "display_data",
          "data": {
            "text/plain": [
              "Downloading (…)/main/tokenizer.json:   0%|          | 0.00/1.31M [00:00<?, ?B/s]"
            ],
            "application/vnd.jupyter.widget-view+json": {
              "version_major": 2,
              "version_minor": 0,
              "model_id": "23141bfd484e45c89ca7ba5d9c869ab4"
            }
          },
          "metadata": {}
        }
      ],
      "source": [
        "tokenizer = AutoTokenizer.from_pretrained('albert-base-v2')"
      ]
    },
    {
      "cell_type": "code",
      "execution_count": 33,
      "metadata": {
        "id": "0dJOHOjHBc6E"
      },
      "outputs": [],
      "source": [
        "# SEQ_LEN = 22\n",
        "data2 = data.copy()"
      ]
    },
    {
      "cell_type": "code",
      "source": [
        "data = data2.sample(frac=0.3)"
      ],
      "metadata": {
        "id": "hiFctol9klZv"
      },
      "execution_count": 34,
      "outputs": []
    },
    {
      "cell_type": "code",
      "source": [
        "data.shape"
      ],
      "metadata": {
        "colab": {
          "base_uri": "https://localhost:8080/"
        },
        "id": "7jBxygvhB1ot",
        "outputId": "759b57c5-b4a0-4006-94e2-c1ef60c50b7b"
      },
      "execution_count": 35,
      "outputs": [
        {
          "output_type": "execute_result",
          "data": {
            "text/plain": [
              "(11594, 3)"
            ]
          },
          "metadata": {},
          "execution_count": 35
        }
      ]
    },
    {
      "cell_type": "code",
      "execution_count": 36,
      "metadata": {
        "id": "X2WGlOcUqE4B"
      },
      "outputs": [],
      "source": [
        "Xids = np.zeros((len(data),SEQ_LEN))\n",
        "Xmask = np.zeros((len(data),SEQ_LEN))\n"
      ]
    },
    {
      "cell_type": "code",
      "execution_count": 37,
      "metadata": {
        "colab": {
          "base_uri": "https://localhost:8080/"
        },
        "id": "m5xruxlzqTWp",
        "outputId": "57b8d2c9-de1b-4691-a8d7-920f2dda1411"
      },
      "outputs": [
        {
          "output_type": "execute_result",
          "data": {
            "text/plain": [
              "(11594, 300)"
            ]
          },
          "metadata": {},
          "execution_count": 37
        }
      ],
      "source": [
        "Xids.shape"
      ]
    },
    {
      "cell_type": "code",
      "execution_count": 38,
      "metadata": {
        "id": "gmgMfId5qVgd"
      },
      "outputs": [],
      "source": [
        "for i, sequence in enumerate(data['text']):\n",
        "    tokens = tokenizer.encode_plus(\n",
        "    sequence,\n",
        "    max_length = SEQ_LEN,\n",
        "    truncation=True,\n",
        "    padding=\"max_length\",\n",
        "    add_special_tokens=True,\n",
        "    return_token_type_ids=False,\n",
        "    return_attention_mask=True,\n",
        "    return_tensors='tf'\n",
        "    )\n",
        "    Xids[i, :], Xmask[i, :] = tokens['input_ids'], tokens['attention_mask']"
      ]
    },
    {
      "cell_type": "code",
      "execution_count": 39,
      "metadata": {
        "colab": {
          "base_uri": "https://localhost:8080/",
          "height": 423
        },
        "id": "Hz7f0MHYKN16",
        "outputId": "56f241e6-5463-4a85-ab10-57d6aee9988d"
      },
      "outputs": [
        {
          "output_type": "execute_result",
          "data": {
            "text/plain": [
              "                                                    text label   len\n",
              "38468  manila reuters us president donald trump brief...  True    88\n",
              "42164  abuja reuters more than half the schools in th...  True   388\n",
              "37268  london reuters king edward viii sacrificed his...  True   690\n",
              "21551  transgender activist and bully hanna zoey tur ...  Fake    45\n",
              "7633   in a move that shows just how little republica...  Fake   699\n",
              "...                                                  ...   ...   ...\n",
              "42042  moscow reuters russian opposition activist iva...  True  1244\n",
              "32853  washington reuters the rancorous political deb...  True   326\n",
              "7670   cnn money has released a report saying that do...  Fake   311\n",
              "4036   newt gingrich just got owned by the ladies of ...  Fake   579\n",
              "2327   donald trump took quite a bit of heat followin...  Fake   441\n",
              "\n",
              "[11594 rows x 3 columns]"
            ],
            "text/html": [
              "\n",
              "  <div id=\"df-89b70fb9-b539-4872-871a-2633b5bd3da0\">\n",
              "    <div class=\"colab-df-container\">\n",
              "      <div>\n",
              "<style scoped>\n",
              "    .dataframe tbody tr th:only-of-type {\n",
              "        vertical-align: middle;\n",
              "    }\n",
              "\n",
              "    .dataframe tbody tr th {\n",
              "        vertical-align: top;\n",
              "    }\n",
              "\n",
              "    .dataframe thead th {\n",
              "        text-align: right;\n",
              "    }\n",
              "</style>\n",
              "<table border=\"1\" class=\"dataframe\">\n",
              "  <thead>\n",
              "    <tr style=\"text-align: right;\">\n",
              "      <th></th>\n",
              "      <th>text</th>\n",
              "      <th>label</th>\n",
              "      <th>len</th>\n",
              "    </tr>\n",
              "  </thead>\n",
              "  <tbody>\n",
              "    <tr>\n",
              "      <th>38468</th>\n",
              "      <td>manila reuters us president donald trump brief...</td>\n",
              "      <td>True</td>\n",
              "      <td>88</td>\n",
              "    </tr>\n",
              "    <tr>\n",
              "      <th>42164</th>\n",
              "      <td>abuja reuters more than half the schools in th...</td>\n",
              "      <td>True</td>\n",
              "      <td>388</td>\n",
              "    </tr>\n",
              "    <tr>\n",
              "      <th>37268</th>\n",
              "      <td>london reuters king edward viii sacrificed his...</td>\n",
              "      <td>True</td>\n",
              "      <td>690</td>\n",
              "    </tr>\n",
              "    <tr>\n",
              "      <th>21551</th>\n",
              "      <td>transgender activist and bully hanna zoey tur ...</td>\n",
              "      <td>Fake</td>\n",
              "      <td>45</td>\n",
              "    </tr>\n",
              "    <tr>\n",
              "      <th>7633</th>\n",
              "      <td>in a move that shows just how little republica...</td>\n",
              "      <td>Fake</td>\n",
              "      <td>699</td>\n",
              "    </tr>\n",
              "    <tr>\n",
              "      <th>...</th>\n",
              "      <td>...</td>\n",
              "      <td>...</td>\n",
              "      <td>...</td>\n",
              "    </tr>\n",
              "    <tr>\n",
              "      <th>42042</th>\n",
              "      <td>moscow reuters russian opposition activist iva...</td>\n",
              "      <td>True</td>\n",
              "      <td>1244</td>\n",
              "    </tr>\n",
              "    <tr>\n",
              "      <th>32853</th>\n",
              "      <td>washington reuters the rancorous political deb...</td>\n",
              "      <td>True</td>\n",
              "      <td>326</td>\n",
              "    </tr>\n",
              "    <tr>\n",
              "      <th>7670</th>\n",
              "      <td>cnn money has released a report saying that do...</td>\n",
              "      <td>Fake</td>\n",
              "      <td>311</td>\n",
              "    </tr>\n",
              "    <tr>\n",
              "      <th>4036</th>\n",
              "      <td>newt gingrich just got owned by the ladies of ...</td>\n",
              "      <td>Fake</td>\n",
              "      <td>579</td>\n",
              "    </tr>\n",
              "    <tr>\n",
              "      <th>2327</th>\n",
              "      <td>donald trump took quite a bit of heat followin...</td>\n",
              "      <td>Fake</td>\n",
              "      <td>441</td>\n",
              "    </tr>\n",
              "  </tbody>\n",
              "</table>\n",
              "<p>11594 rows × 3 columns</p>\n",
              "</div>\n",
              "      <button class=\"colab-df-convert\" onclick=\"convertToInteractive('df-89b70fb9-b539-4872-871a-2633b5bd3da0')\"\n",
              "              title=\"Convert this dataframe to an interactive table.\"\n",
              "              style=\"display:none;\">\n",
              "        \n",
              "  <svg xmlns=\"http://www.w3.org/2000/svg\" height=\"24px\"viewBox=\"0 0 24 24\"\n",
              "       width=\"24px\">\n",
              "    <path d=\"M0 0h24v24H0V0z\" fill=\"none\"/>\n",
              "    <path d=\"M18.56 5.44l.94 2.06.94-2.06 2.06-.94-2.06-.94-.94-2.06-.94 2.06-2.06.94zm-11 1L8.5 8.5l.94-2.06 2.06-.94-2.06-.94L8.5 2.5l-.94 2.06-2.06.94zm10 10l.94 2.06.94-2.06 2.06-.94-2.06-.94-.94-2.06-.94 2.06-2.06.94z\"/><path d=\"M17.41 7.96l-1.37-1.37c-.4-.4-.92-.59-1.43-.59-.52 0-1.04.2-1.43.59L10.3 9.45l-7.72 7.72c-.78.78-.78 2.05 0 2.83L4 21.41c.39.39.9.59 1.41.59.51 0 1.02-.2 1.41-.59l7.78-7.78 2.81-2.81c.8-.78.8-2.07 0-2.86zM5.41 20L4 18.59l7.72-7.72 1.47 1.35L5.41 20z\"/>\n",
              "  </svg>\n",
              "      </button>\n",
              "      \n",
              "  <style>\n",
              "    .colab-df-container {\n",
              "      display:flex;\n",
              "      flex-wrap:wrap;\n",
              "      gap: 12px;\n",
              "    }\n",
              "\n",
              "    .colab-df-convert {\n",
              "      background-color: #E8F0FE;\n",
              "      border: none;\n",
              "      border-radius: 50%;\n",
              "      cursor: pointer;\n",
              "      display: none;\n",
              "      fill: #1967D2;\n",
              "      height: 32px;\n",
              "      padding: 0 0 0 0;\n",
              "      width: 32px;\n",
              "    }\n",
              "\n",
              "    .colab-df-convert:hover {\n",
              "      background-color: #E2EBFA;\n",
              "      box-shadow: 0px 1px 2px rgba(60, 64, 67, 0.3), 0px 1px 3px 1px rgba(60, 64, 67, 0.15);\n",
              "      fill: #174EA6;\n",
              "    }\n",
              "\n",
              "    [theme=dark] .colab-df-convert {\n",
              "      background-color: #3B4455;\n",
              "      fill: #D2E3FC;\n",
              "    }\n",
              "\n",
              "    [theme=dark] .colab-df-convert:hover {\n",
              "      background-color: #434B5C;\n",
              "      box-shadow: 0px 1px 3px 1px rgba(0, 0, 0, 0.15);\n",
              "      filter: drop-shadow(0px 1px 2px rgba(0, 0, 0, 0.3));\n",
              "      fill: #FFFFFF;\n",
              "    }\n",
              "  </style>\n",
              "\n",
              "      <script>\n",
              "        const buttonEl =\n",
              "          document.querySelector('#df-89b70fb9-b539-4872-871a-2633b5bd3da0 button.colab-df-convert');\n",
              "        buttonEl.style.display =\n",
              "          google.colab.kernel.accessAllowed ? 'block' : 'none';\n",
              "\n",
              "        async function convertToInteractive(key) {\n",
              "          const element = document.querySelector('#df-89b70fb9-b539-4872-871a-2633b5bd3da0');\n",
              "          const dataTable =\n",
              "            await google.colab.kernel.invokeFunction('convertToInteractive',\n",
              "                                                     [key], {});\n",
              "          if (!dataTable) return;\n",
              "\n",
              "          const docLinkHtml = 'Like what you see? Visit the ' +\n",
              "            '<a target=\"_blank\" href=https://colab.research.google.com/notebooks/data_table.ipynb>data table notebook</a>'\n",
              "            + ' to learn more about interactive tables.';\n",
              "          element.innerHTML = '';\n",
              "          dataTable['output_type'] = 'display_data';\n",
              "          await google.colab.output.renderOutput(dataTable, element);\n",
              "          const docLink = document.createElement('div');\n",
              "          docLink.innerHTML = docLinkHtml;\n",
              "          element.appendChild(docLink);\n",
              "        }\n",
              "      </script>\n",
              "    </div>\n",
              "  </div>\n",
              "  "
            ]
          },
          "metadata": {},
          "execution_count": 39
        }
      ],
      "source": [
        "data"
      ]
    },
    {
      "cell_type": "code",
      "execution_count": 40,
      "metadata": {
        "colab": {
          "base_uri": "https://localhost:8080/"
        },
        "id": "_TpnkVoarXkL",
        "outputId": "ba62c073-d34e-4c1c-83b5-5335e09c2540"
      },
      "outputs": [
        {
          "output_type": "execute_result",
          "data": {
            "text/plain": [
              "(11594,)"
            ]
          },
          "metadata": {},
          "execution_count": 40
        }
      ],
      "source": [
        "arr = data['label'].factorize()[0]\n",
        "arr.shape"
      ]
    },
    {
      "cell_type": "code",
      "execution_count": 41,
      "metadata": {
        "id": "u56mo0xQr5s0"
      },
      "outputs": [],
      "source": [
        "# labels = np.zeros((arr.size, arr.max()+1))\n",
        "# labels.shape"
      ]
    },
    {
      "cell_type": "code",
      "execution_count": 42,
      "metadata": {
        "id": "F3uVRh3OsBXQ"
      },
      "outputs": [],
      "source": [
        "# labels[np.arange(arr.size), arr] = 1\n",
        "# labels = data['label_num']\n",
        "labels = arr"
      ]
    },
    {
      "cell_type": "code",
      "execution_count": 43,
      "metadata": {
        "id": "5tUwiF8iBFSN"
      },
      "outputs": [],
      "source": [
        "import tensorflow as tf"
      ]
    },
    {
      "cell_type": "code",
      "execution_count": 44,
      "metadata": {
        "colab": {
          "base_uri": "https://localhost:8080/"
        },
        "id": "sZOq4El7swYr",
        "outputId": "86586674-ec52-4171-ade0-17f410d95c49"
      },
      "outputs": [
        {
          "output_type": "execute_result",
          "data": {
            "text/plain": [
              "[PhysicalDevice(name='/physical_device:GPU:0', device_type='GPU')]"
            ]
          },
          "metadata": {},
          "execution_count": 44
        }
      ],
      "source": [
        "tf.config.experimental.list_physical_devices('GPU')"
      ]
    },
    {
      "cell_type": "code",
      "execution_count": 45,
      "metadata": {
        "colab": {
          "base_uri": "https://localhost:8080/"
        },
        "id": "D_d8CJvKXT6K",
        "outputId": "1e210e47-5ae8-48b2-c333-7d5ea23e9ada"
      },
      "outputs": [
        {
          "output_type": "execute_result",
          "data": {
            "text/plain": [
              "Index(['text', 'label', 'len'], dtype='object')"
            ]
          },
          "metadata": {},
          "execution_count": 45
        }
      ],
      "source": [
        "data.columns"
      ]
    },
    {
      "cell_type": "code",
      "execution_count": 46,
      "metadata": {
        "id": "vRDieTWsSTQL"
      },
      "outputs": [],
      "source": [
        "# df['label'] = df['Product'].factorize()[0]"
      ]
    },
    {
      "cell_type": "code",
      "execution_count": 47,
      "metadata": {
        "id": "87QHbeRgs8OC"
      },
      "outputs": [],
      "source": [
        "dataset = tf.data.Dataset.from_tensor_slices((Xids, Xmask, labels))"
      ]
    },
    {
      "cell_type": "code",
      "source": [
        "labels"
      ],
      "metadata": {
        "colab": {
          "base_uri": "https://localhost:8080/"
        },
        "id": "-RoQO_2yzIpd",
        "outputId": "b3d9323e-16dd-47a8-fa4d-c23b17d72192"
      },
      "execution_count": 48,
      "outputs": [
        {
          "output_type": "execute_result",
          "data": {
            "text/plain": [
              "array([0, 0, 0, ..., 1, 1, 1])"
            ]
          },
          "metadata": {},
          "execution_count": 48
        }
      ]
    },
    {
      "cell_type": "code",
      "execution_count": 49,
      "metadata": {
        "id": "_vkAXTwVtQKK"
      },
      "outputs": [],
      "source": [
        "def map_func(input_ids, masks, labels):\n",
        "    return{'input_ids': input_ids, 'attention_mask':masks}, labels"
      ]
    },
    {
      "cell_type": "code",
      "execution_count": 50,
      "metadata": {
        "id": "wJAbvBXftorM"
      },
      "outputs": [],
      "source": [
        "dataset = dataset.map(map_func)"
      ]
    },
    {
      "cell_type": "code",
      "execution_count": 51,
      "metadata": {
        "id": "YPZSvVu3tv1d"
      },
      "outputs": [],
      "source": [
        "dataset = dataset.shuffle(1000000).batch(32)"
      ]
    },
    {
      "cell_type": "code",
      "execution_count": 52,
      "metadata": {
        "id": "x5cqp_CDt7av"
      },
      "outputs": [],
      "source": [
        "DS_LEN = len(list(dataset))"
      ]
    },
    {
      "cell_type": "code",
      "execution_count": 53,
      "metadata": {
        "colab": {
          "base_uri": "https://localhost:8080/"
        },
        "id": "tb-JpMdvt-d4",
        "outputId": "2bf4084b-95a3-44e7-fd7b-f1264a176713"
      },
      "outputs": [
        {
          "output_type": "execute_result",
          "data": {
            "text/plain": [
              "363"
            ]
          },
          "metadata": {},
          "execution_count": 53
        }
      ],
      "source": [
        "DS_LEN"
      ]
    },
    {
      "cell_type": "code",
      "source": [
        "# round(DS_LEN*SPLIT)"
      ],
      "metadata": {
        "id": "zJeJrde_0VPP"
      },
      "execution_count": 54,
      "outputs": []
    },
    {
      "cell_type": "code",
      "source": [
        "# len(train)"
      ],
      "metadata": {
        "id": "AHStkojW0a0w"
      },
      "execution_count": 55,
      "outputs": []
    },
    {
      "cell_type": "code",
      "source": [
        "DATASET_SIZE = len(dataset)"
      ],
      "metadata": {
        "id": "OL9m2oDz1j2j"
      },
      "execution_count": 56,
      "outputs": []
    },
    {
      "cell_type": "code",
      "source": [
        "train_size = int(0.8 * DATASET_SIZE)\n",
        "val_size = int(0.1 * DATASET_SIZE)\n",
        "test_size = int(0.1 * DATASET_SIZE)\n",
        "\n",
        "full_dataset = dataset\n",
        "full_dataset = full_dataset.shuffle(123424242)\n",
        "train_dataset = full_dataset.take(train_size)\n",
        "test_dataset = full_dataset.skip(train_size)\n",
        "val_dataset = test_dataset.skip(test_size)\n",
        "test_dataset = test_dataset.take(test_size)"
      ],
      "metadata": {
        "id": "W3aksvWY1bZy"
      },
      "execution_count": 57,
      "outputs": []
    },
    {
      "cell_type": "code",
      "source": [
        "train = train_dataset\n",
        "test = test_dataset\n",
        "val = val_dataset"
      ],
      "metadata": {
        "id": "n0oXnFK92EhC"
      },
      "execution_count": 58,
      "outputs": []
    },
    {
      "cell_type": "code",
      "execution_count": 59,
      "metadata": {
        "id": "q0ag84j2uAyY"
      },
      "outputs": [],
      "source": [
        "# SPLIT = 0.8\n",
        "# train = dataset.take(round(DS_LEN*SPLIT))\n",
        "# val = dataset.skip(round(DS_LEN*SPLIT))\n",
        "# test = dataset.skip(round())\n",
        "# # del dataset"
      ]
    },
    {
      "cell_type": "code",
      "execution_count": 60,
      "metadata": {
        "id": "5C-UnpN8uQ4O"
      },
      "outputs": [],
      "source": [
        "from transformers import TFAutoModel"
      ]
    },
    {
      "cell_type": "code",
      "execution_count": 61,
      "metadata": {
        "colab": {
          "base_uri": "https://localhost:8080/",
          "height": 156,
          "referenced_widgets": [
            "fd96fd4418a043e5bac6913f18ff96f1",
            "4388308436cf45b89c4f6febee9574f4",
            "a1d6719b974d4fd694eff3e4b0486ad2",
            "eedbcb33b52e462fa006f661c4bb46b9",
            "5523f6e208cf4faeb9027e7e80ffdb54",
            "4f907297571c4aa8ad76806c74938358",
            "278c9ac5d9034ff0ac0328d99546b215",
            "72598376946f44db9f8900c4c10df5e2",
            "a294cf6b419f41c38754913c5522f104",
            "d7f29421c8e14cb19cc4e8d6521dc2ec",
            "b6c1d3bd5c3b4e5496e2ae965175796f"
          ]
        },
        "id": "ryMVVI-kuXli",
        "outputId": "4e3b3603-5e4f-4063-c1dc-121404d562ea"
      },
      "outputs": [
        {
          "output_type": "display_data",
          "data": {
            "text/plain": [
              "Downloading model.safetensors:   0%|          | 0.00/47.4M [00:00<?, ?B/s]"
            ],
            "application/vnd.jupyter.widget-view+json": {
              "version_major": 2,
              "version_minor": 0,
              "model_id": "fd96fd4418a043e5bac6913f18ff96f1"
            }
          },
          "metadata": {}
        },
        {
          "output_type": "stream",
          "name": "stderr",
          "text": [
            "Some weights of the PyTorch model were not used when initializing the TF 2.0 model TFAlbertModel: ['predictions.LayerNorm.weight', 'predictions.dense.bias', 'predictions.bias', 'predictions.decoder.bias', 'predictions.dense.weight', 'predictions.LayerNorm.bias']\n",
            "- This IS expected if you are initializing TFAlbertModel from a PyTorch model trained on another task or with another architecture (e.g. initializing a TFBertForSequenceClassification model from a BertForPreTraining model).\n",
            "- This IS NOT expected if you are initializing TFAlbertModel from a PyTorch model that you expect to be exactly identical (e.g. initializing a TFBertForSequenceClassification model from a BertForSequenceClassification model).\n",
            "All the weights of TFAlbertModel were initialized from the PyTorch model.\n",
            "If your task is similar to the task the model of the checkpoint was trained on, you can already use TFAlbertModel for predictions without further training.\n"
          ]
        }
      ],
      "source": [
        "bert = TFAutoModel.from_pretrained('albert-base-v2')"
      ]
    },
    {
      "cell_type": "code",
      "execution_count": 62,
      "metadata": {
        "id": "aaVXm40hueI2"
      },
      "outputs": [],
      "source": [
        "input_ids = tf.keras.layers.Input(shape=(SEQ_LEN,), name='input_ids', dtype='int32')\n",
        "mask = tf.keras.layers.Input(shape=(SEQ_LEN,), name='attention_mask', dtype='int32')\n",
        "\n",
        "embeddings = bert(input_ids, attention_mask=mask)[0]\n",
        "\n",
        "X = tf.keras.layers.GlobalMaxPooling1D()(embeddings)\n",
        "X = tf.keras.layers.BatchNormalization()(X)\n",
        "# X = tf.keras.layers.Dense(32, activation = 'relu')(X)\n",
        "# X = tf.keras.layers.Dropout(0.1)(X)\n",
        "X = tf.keras.layers.Dense(32, activation = 'relu')(X)\n",
        "y = tf.keras.layers.Dense(1, activation = 'sigmoid' , name = 'outputs')(X)\n",
        "\n",
        "model = tf.keras.Model(inputs=[input_ids, mask], outputs = y)"
      ]
    },
    {
      "cell_type": "code",
      "source": [
        "model.layers[2].trainable = False"
      ],
      "metadata": {
        "id": "cNqBGkUI79Yt"
      },
      "execution_count": 63,
      "outputs": []
    },
    {
      "cell_type": "code",
      "execution_count": 64,
      "metadata": {
        "colab": {
          "base_uri": "https://localhost:8080/"
        },
        "id": "uKSKOVihvAax",
        "outputId": "b2454f7a-cda0-4c17-b26d-86746af2b73a"
      },
      "outputs": [
        {
          "output_type": "stream",
          "name": "stdout",
          "text": [
            "Model: \"model\"\n",
            "__________________________________________________________________________________________________\n",
            " Layer (type)                   Output Shape         Param #     Connected to                     \n",
            "==================================================================================================\n",
            " input_ids (InputLayer)         [(None, 300)]        0           []                               \n",
            "                                                                                                  \n",
            " attention_mask (InputLayer)    [(None, 300)]        0           []                               \n",
            "                                                                                                  \n",
            " tf_albert_model (TFAlbertModel  TFBaseModelOutputWi  11683584   ['input_ids[0][0]',              \n",
            " )                              thPooling(last_hidd               'attention_mask[0][0]']         \n",
            "                                en_state=(None, 300                                               \n",
            "                                , 768),                                                           \n",
            "                                 pooler_output=(Non                                               \n",
            "                                e, 768),                                                          \n",
            "                                 hidden_states=None                                               \n",
            "                                , attentions=None)                                                \n",
            "                                                                                                  \n",
            " global_max_pooling1d (GlobalMa  (None, 768)         0           ['tf_albert_model[0][0]']        \n",
            " xPooling1D)                                                                                      \n",
            "                                                                                                  \n",
            " batch_normalization (BatchNorm  (None, 768)         3072        ['global_max_pooling1d[0][0]']   \n",
            " alization)                                                                                       \n",
            "                                                                                                  \n",
            " dense (Dense)                  (None, 32)           24608       ['batch_normalization[0][0]']    \n",
            "                                                                                                  \n",
            " outputs (Dense)                (None, 1)            33          ['dense[0][0]']                  \n",
            "                                                                                                  \n",
            "==================================================================================================\n",
            "Total params: 11,711,297\n",
            "Trainable params: 26,177\n",
            "Non-trainable params: 11,685,120\n",
            "__________________________________________________________________________________________________\n"
          ]
        }
      ],
      "source": [
        "model.summary()"
      ]
    },
    {
      "cell_type": "code",
      "execution_count": 65,
      "metadata": {
        "id": "w7CsiNnLwNDi"
      },
      "outputs": [],
      "source": [
        "# optimizer = tf.keras.optimizers.Adam(0.01)\n",
        "# loss = tf.keras.losses.CategoricalCrossentropy()\n",
        "# acc = tf.keras.metrics.CategoricalAccuracy('accuracy')"
      ]
    },
    {
      "cell_type": "code",
      "execution_count": 66,
      "metadata": {
        "id": "iYeJ0GyMLqz4"
      },
      "outputs": [],
      "source": [
        "import pandas as pd\n",
        "from keras import layers\n",
        "from keras.layers import Dense, Activation, Flatten, Convolution1D, Dropout,MaxPooling1D\n",
        "from keras.layers import Input, Dense, Dropout, Activation, ZeroPadding2D, BatchNormalization, Flatten, Conv2D, Embedding, Add\n",
        "from keras.layers import Conv1D, GlobalAveragePooling1D, AveragePooling2D, MaxPooling2D, MaxPool1D, ZeroPadding1D, GlobalMaxPooling2D, GlobalAveragePooling2D, LSTM, SpatialDropout1D\n",
        "from keras.models import Sequential, Model\n",
        "from keras.preprocessing import image\n",
        "from keras.utils import plot_model\n",
        "from keras.applications.inception_v3 import InceptionV3\n",
        "from sklearn.model_selection import train_test_split\n",
        "import matplotlib.pyplot as plt\n",
        "from sklearn.metrics import confusion_matrix\n",
        "import seaborn as sns\n",
        "from keras.callbacks import ReduceLROnPlateau , EarlyStopping\n",
        "from keras.utils import to_categorical\n",
        "from tensorflow.keras.optimizers import Adam, Adamax\n",
        "import tensorflow as tf"
      ]
    },
    {
      "cell_type": "code",
      "execution_count": 67,
      "metadata": {
        "id": "pa9I1DFdLq9v"
      },
      "outputs": [],
      "source": [
        "es = EarlyStopping(monitor=\"val_loss\", mode=\"min\", verbose=1, patience=7)\n",
        "learning_rate_reduction = ReduceLROnPlateau(monitor='val_accuracy',\n",
        "                                            patience=5,\n",
        "                                            verbose=1,\n",
        "                                            factor=0.7,\n",
        "                                            min_lr=0.000001)"
      ]
    },
    {
      "cell_type": "code",
      "source": [
        "from tensorflow.keras.optimizers import Adam, Adamax\n",
        "# Adamax(learning_rate=0.1)"
      ],
      "metadata": {
        "id": "KN45mTbg6eHA"
      },
      "execution_count": 68,
      "outputs": []
    },
    {
      "cell_type": "code",
      "execution_count": 69,
      "metadata": {
        "id": "ZNvCM2ICLq9v"
      },
      "outputs": [],
      "source": [
        "# model.compile(optimizer=Adamax(lr=0.0001), loss='categorical_crossentropy', metrics=['accuracy',tf.keras.metrics.Precision(),tf.keras.metrics.Recall(),tf.keras.metrics.AUC(num_thresholds=3)])\n",
        "model.compile(optimizer=Adam(learning_rate=0.001), loss='binary_crossentropy', metrics=['accuracy'])\n",
        "\n",
        "# tf.keras.utils.plot_model(ann_model, to_file='ann_model.png', show_shapes=True, show_layer_names=True)"
      ]
    },
    {
      "cell_type": "code",
      "execution_count": 70,
      "metadata": {
        "id": "no6FjC0IN_c3"
      },
      "outputs": [],
      "source": [
        "# model.load_weights(f'{path}/checkpoint')"
      ]
    },
    {
      "cell_type": "code",
      "execution_count": 71,
      "metadata": {
        "id": "qA1RELtXLq9v",
        "colab": {
          "base_uri": "https://localhost:8080/"
        },
        "outputId": "34768eda-3f3a-4b9e-83f0-7ea945b44f62"
      },
      "outputs": [
        {
          "output_type": "stream",
          "name": "stdout",
          "text": [
            "Epoch 1/10\n",
            "290/290 [==============================] - 252s 817ms/step - loss: 0.1733 - accuracy: 0.9297 - val_loss: 0.0603 - val_accuracy: 0.9823 - lr: 0.0010\n",
            "Epoch 2/10\n",
            "290/290 [==============================] - 242s 835ms/step - loss: 0.0802 - accuracy: 0.9704 - val_loss: 0.0346 - val_accuracy: 0.9916 - lr: 0.0010\n",
            "Epoch 3/10\n",
            "290/290 [==============================] - 243s 836ms/step - loss: 0.0539 - accuracy: 0.9814 - val_loss: 0.0297 - val_accuracy: 0.9932 - lr: 0.0010\n",
            "Epoch 4/10\n",
            "290/290 [==============================] - 242s 834ms/step - loss: 0.0459 - accuracy: 0.9834 - val_loss: 0.0211 - val_accuracy: 0.9949 - lr: 0.0010\n",
            "Epoch 5/10\n",
            "290/290 [==============================] - 242s 834ms/step - loss: 0.0390 - accuracy: 0.9849 - val_loss: 0.0141 - val_accuracy: 0.9975 - lr: 0.0010\n",
            "Epoch 6/10\n",
            "290/290 [==============================] - 257s 886ms/step - loss: 0.0324 - accuracy: 0.9890 - val_loss: 0.0055 - val_accuracy: 1.0000 - lr: 0.0010\n",
            "Epoch 7/10\n",
            "290/290 [==============================] - 243s 837ms/step - loss: 0.0235 - accuracy: 0.9933 - val_loss: 0.0105 - val_accuracy: 0.9983 - lr: 0.0010\n",
            "Epoch 8/10\n",
            "290/290 [==============================] - 243s 836ms/step - loss: 0.0261 - accuracy: 0.9911 - val_loss: 0.0107 - val_accuracy: 0.9975 - lr: 0.0010\n",
            "Epoch 9/10\n",
            "290/290 [==============================] - 242s 835ms/step - loss: 0.0192 - accuracy: 0.9937 - val_loss: 0.0139 - val_accuracy: 0.9983 - lr: 0.0010\n",
            "Epoch 10/10\n",
            "290/290 [==============================] - 243s 836ms/step - loss: 0.0168 - accuracy: 0.9950 - val_loss: 0.0025 - val_accuracy: 1.0000 - lr: 0.0010\n"
          ]
        }
      ],
      "source": [
        "num_epochs = 10\n",
        "# early_stop = EarlyStopping(monitor='val_accuracy', patience=6,restore_best_weights=True)\n",
        "history = model.fit(train,\n",
        "                    # batch_size=32,\n",
        "                    epochs=num_epochs,\n",
        "                    # validati0on_split=0.2,\n",
        "                    validation_data=[val],\n",
        "                    callbacks =[\n",
        "                        learning_rate_reduction,\n",
        "                                es\n",
        "                                ],\n",
        "                    # verbose=0\n",
        "                    )"
      ]
    },
    {
      "cell_type": "code",
      "source": [
        "# path = '/content/drive/MyDrive/work 401 corona/'"
      ],
      "metadata": {
        "id": "vw83gQzT_VP-"
      },
      "execution_count": 72,
      "outputs": []
    },
    {
      "cell_type": "code",
      "source": [
        "model.save_weights(f'{path}/checkpoint')"
      ],
      "metadata": {
        "id": "97VVTbdMKLtH"
      },
      "execution_count": 73,
      "outputs": []
    },
    {
      "cell_type": "code",
      "source": [
        "model.compile(optimizer=Adam(learning_rate=0.0001), loss='categorical_crossentropy', metrics=['accuracy'])"
      ],
      "metadata": {
        "id": "CCa71Vb44UFQ"
      },
      "execution_count": null,
      "outputs": []
    },
    {
      "cell_type": "code",
      "source": [
        "num_epochs = 10\n",
        "# early_stop = EarlyStopping(monitor='val_accuracy', patience=6,restore_best_weights=True)\n",
        "history = model.fit(train,\n",
        "                    # batch_size=32,\n",
        "                    epochs=num_epochs,\n",
        "                    # validati0on_split=0.2,\n",
        "                    validation_data=[val],\n",
        "                    callbacks =[\n",
        "                        learning_rate_reduction,\n",
        "                                es\n",
        "                                ],\n",
        "                    # verbose=0\n",
        "                    )"
      ],
      "metadata": {
        "id": "4xNHg4K-CwlS"
      },
      "execution_count": null,
      "outputs": []
    },
    {
      "cell_type": "code",
      "source": [
        "model.save_weights(f'{path}/checkpoint')"
      ],
      "metadata": {
        "id": "sCCEPcHOCx2J"
      },
      "execution_count": null,
      "outputs": []
    },
    {
      "cell_type": "code",
      "source": [
        "num_epochs = 5\n",
        "# early_stop = EarlyStopping(monitor='val_accuracy', patience=6,restore_best_weights=True)\n",
        "history = model.fit(train,\n",
        "                    # batch_size=32,\n",
        "                    epochs=num_epochs,\n",
        "                    # validati0on_split=0.2,\n",
        "                    validation_data=[val],\n",
        "                    callbacks =[\n",
        "                        learning_rate_reduction,\n",
        "                                es\n",
        "                                ],\n",
        "                    # verbose=0\n",
        "                    )"
      ],
      "metadata": {
        "colab": {
          "base_uri": "https://localhost:8080/"
        },
        "id": "2m7h136VQJR3",
        "outputId": "523223af-cda4-4357-b57a-4bad4a72d02b"
      },
      "execution_count": null,
      "outputs": [
        {
          "output_type": "stream",
          "name": "stdout",
          "text": [
            "Epoch 1/5\n",
            "168/168 [==============================] - ETA: 0s - loss: 0.2989 - accuracy: 0.9103"
          ]
        }
      ]
    },
    {
      "cell_type": "code",
      "source": [
        "# model.save_weights(f'{path}/checkpoint')"
      ],
      "metadata": {
        "id": "NCfoAze4QMaR"
      },
      "execution_count": null,
      "outputs": []
    },
    {
      "cell_type": "code",
      "source": [
        "num_epochs = 10\n",
        "# early_stop = EarlyStopping(monitor='val_accuracy', patience=6,restore_best_weights=True)\n",
        "history = model.fit(train,\n",
        "                    # batch_size=32,\n",
        "                    epochs=num_epochs,\n",
        "                    # validati0on_split=0.2,\n",
        "                    validation_data=[val],\n",
        "                    callbacks =[\n",
        "                        learning_rate_reduction,\n",
        "                                es\n",
        "                                ],\n",
        "                    # verbose=0\n",
        "                    )"
      ],
      "metadata": {
        "id": "ZcRGQLF4kn5q"
      },
      "execution_count": null,
      "outputs": []
    },
    {
      "cell_type": "code",
      "source": [
        "model.save_weights(f'{path}/checkpoint')"
      ],
      "metadata": {
        "id": "Swdcx02PkpRC"
      },
      "execution_count": null,
      "outputs": []
    },
    {
      "cell_type": "code",
      "execution_count": null,
      "metadata": {
        "id": "9W_upsOxCJ8V"
      },
      "outputs": [],
      "source": [
        "savemod(model=model,pa='albert')"
      ]
    },
    {
      "cell_type": "code",
      "execution_count": null,
      "metadata": {
        "id": "zWB1UHy_N54V"
      },
      "outputs": [],
      "source": [
        "import os"
      ]
    },
    {
      "cell_type": "code",
      "execution_count": null,
      "metadata": {
        "id": "QDOqC3C0N7QU"
      },
      "outputs": [],
      "source": [
        "# path = '/content/drive/MyDrive/checkpoint4/'\n",
        "# os.mkdir(path)\n",
        "model.load_weights(f'{path}checkpoint')"
      ]
    },
    {
      "cell_type": "code",
      "execution_count": 74,
      "metadata": {
        "id": "qJo4zcS-pyUk"
      },
      "outputs": [],
      "source": [
        "# precision = tf.keras.metrics.Precision()\n",
        "# recall = tf.keras.metrics.Recall()\n",
        "# accuracy = tf.keras.metrics.CategoricalAccuracy()\n",
        "# auc = tf.keras.metrics.AUC(num_thresholds=6)\n",
        "tr = []\n",
        "pr = []\n",
        "l = 0\n",
        "# for k in range(len(val)):\n",
        "\n",
        "\n",
        "for i,j in test.take(-1):\n",
        "  # l += 1\n",
        "  # print(l)\n",
        "  s = model.predict(i,verbose=0)\n",
        "  tr.append(np.array(j))\n",
        "  pr.append(np.array(s))\n",
        "#   precision.update_state(s,j)\n",
        "#   accuracy.update_state(s,j)\n",
        "#   auc.update_state(s,j)\n",
        "#   recall.update_state(s,j)\n",
        "# pre = precision.result().numpy()\n",
        "# rec = recall.result().numpy()\n",
        "# au = auc.result().numpy()\n",
        "# acc = accuracy.result().numpy()\n",
        "# print(pre,rec,au,acc)"
      ]
    },
    {
      "cell_type": "code",
      "execution_count": 75,
      "metadata": {
        "id": "hwjAGseEyWfS"
      },
      "outputs": [],
      "source": [
        "yp = np.concatenate([y for y in pr], axis=0)"
      ]
    },
    {
      "cell_type": "code",
      "execution_count": 76,
      "metadata": {
        "id": "Ph4SeCZq2dKu"
      },
      "outputs": [],
      "source": [
        "yt = np.concatenate([y for y in tr], axis=0)"
      ]
    },
    {
      "cell_type": "code",
      "source": [
        "yp = yp.reshape(-1,)"
      ],
      "metadata": {
        "id": "SPPZaiTpbYBM"
      },
      "execution_count": 81,
      "outputs": []
    },
    {
      "cell_type": "code",
      "source": [
        "yp.shape,yt.shape"
      ],
      "metadata": {
        "colab": {
          "base_uri": "https://localhost:8080/"
        },
        "id": "p_0JDo83_Sfq",
        "outputId": "afafc12d-649c-4239-8135-48c5a682e508"
      },
      "execution_count": 82,
      "outputs": [
        {
          "output_type": "execute_result",
          "data": {
            "text/plain": [
              "((1152,), (1152,))"
            ]
          },
          "metadata": {},
          "execution_count": 82
        }
      ]
    },
    {
      "cell_type": "code",
      "source": [
        "yp = yp.reshape(-1,)\n",
        "yt = yt.reshape(-1,)\n",
        "yp.shape,yt.shape"
      ],
      "metadata": {
        "colab": {
          "base_uri": "https://localhost:8080/"
        },
        "id": "xK9jMllc_WGK",
        "outputId": "e3adb599-b638-478a-c111-d44b79cd759f"
      },
      "execution_count": null,
      "outputs": [
        {
          "output_type": "execute_result",
          "data": {
            "text/plain": [
              "((6720,), (6720,))"
            ]
          },
          "metadata": {},
          "execution_count": 119
        }
      ]
    },
    {
      "cell_type": "code",
      "execution_count": 83,
      "metadata": {
        "id": "SLc2M6Ht2aE4"
      },
      "outputs": [],
      "source": [
        "y1 = yp\n",
        "y2 = yt\n",
        "\n",
        "# for i in range(len(yt)):\n",
        "#   y1[i] = yp[i].argmax()\n",
        "#   y2[i] = yt[i].argmax()"
      ]
    },
    {
      "cell_type": "code",
      "source": [
        "y1"
      ],
      "metadata": {
        "colab": {
          "base_uri": "https://localhost:8080/"
        },
        "id": "r4P9tzkZ-y1A",
        "outputId": "c0af9cc9-d4c3-4eb4-ebf9-1119279ce392"
      },
      "execution_count": null,
      "outputs": [
        {
          "output_type": "execute_result",
          "data": {
            "text/plain": [
              "array([1.5716384e-03, 7.9645196e-07, 3.4822980e-01, ..., 6.8823672e-03,\n",
              "       9.6455914e-01, 5.6431717e-03], dtype=float32)"
            ]
          },
          "metadata": {},
          "execution_count": 121
        }
      ]
    },
    {
      "cell_type": "markdown",
      "metadata": {
        "id": "r1PHaWuK2yRv"
      },
      "source": []
    },
    {
      "cell_type": "code",
      "source": [
        "y1[y1 > 0.5] = 1\n",
        "y1[y1 < 0.5] = 0\n",
        "y1"
      ],
      "metadata": {
        "colab": {
          "base_uri": "https://localhost:8080/"
        },
        "id": "_6Hnk3KB_s3N",
        "outputId": "84b86722-cbbb-47b8-e204-e0d0f4d7b38e"
      },
      "execution_count": null,
      "outputs": [
        {
          "output_type": "execute_result",
          "data": {
            "text/plain": [
              "array([1., 1., 1., 0., 1., 1., 0., 0., 0., 0., 1., 0., 1., 0., 1., 0., 0.,\n",
              "       0., 1., 0., 1., 1., 0., 1., 1., 0., 0., 1., 1., 0., 0., 0., 0., 0.,\n",
              "       0., 0., 0., 0., 0., 1., 1., 0., 0., 0., 0., 0., 0., 0., 1., 0., 1.,\n",
              "       0., 1., 0., 0., 0., 0., 0., 0., 0., 0., 0., 0., 1., 0., 1., 0., 0.,\n",
              "       1., 0., 1., 1., 0., 0., 0., 0., 1., 0., 0., 0., 0., 0., 0., 1., 0.,\n",
              "       0., 0., 0., 0., 0., 0., 0., 0., 0., 0., 1., 1., 1., 1., 1., 0., 0.,\n",
              "       0., 0., 0., 1., 0., 1., 1., 1., 0., 0., 1., 1., 1., 1., 1., 1., 0.,\n",
              "       0., 1., 1., 0., 0., 0., 0., 0., 0., 1., 0., 0., 1., 0., 1., 0., 1.,\n",
              "       0., 1., 0., 0., 0., 1., 0., 1., 0., 0., 0., 1., 1., 0., 0., 0., 1.,\n",
              "       1., 0., 0., 0., 0., 1., 0., 1., 0., 0., 1., 0., 0., 0., 1., 1., 0.,\n",
              "       1., 1., 0., 1., 0., 0., 0., 0., 1., 0., 1., 1., 1., 1., 0., 0., 0.,\n",
              "       0., 0., 0., 1., 0., 0., 0., 1., 0., 0., 0., 0., 1., 1., 0., 1., 1.,\n",
              "       0., 1., 1., 0., 0., 0., 1., 0., 0., 0., 0., 0., 1., 0., 1., 1., 0.,\n",
              "       1., 0., 1., 0., 0., 0., 1., 0., 0., 0., 1., 1., 1., 0., 0., 1., 0.,\n",
              "       0., 0., 0., 1., 0., 0., 0., 0., 1., 1., 0., 0., 1., 0., 1., 0., 0.,\n",
              "       0., 0., 0., 0., 1., 0., 0., 0., 1., 0., 0., 0., 0., 0., 0., 0., 1.,\n",
              "       0., 0., 0., 0., 0., 1., 0., 1., 0., 1., 0., 0., 0., 1., 1., 0., 0.,\n",
              "       1., 0., 0., 1., 0., 0., 1., 0., 0., 1., 1., 1., 0., 1., 0., 0., 1.,\n",
              "       0., 0., 0., 1., 0., 1., 0., 1., 0., 0., 1., 0., 0., 0., 1., 1., 0.,\n",
              "       0., 0., 0., 1., 0., 0., 0., 0., 0., 0., 1., 0., 1., 1., 1., 0., 1.,\n",
              "       0., 1., 0., 0., 1., 1., 1., 1., 1., 0., 1., 0., 0., 0., 1., 0., 1.,\n",
              "       0., 0., 0., 0., 0., 0., 0., 1., 1., 0., 0., 1., 1., 0., 1., 1., 0.,\n",
              "       1., 0., 0., 1., 1., 0., 0., 1., 0., 0., 0., 1., 1., 0., 0., 0., 1.,\n",
              "       0., 1., 1., 0., 0., 0., 0., 0., 0., 0., 0., 1., 0., 0., 0., 0., 1.,\n",
              "       0., 0., 1., 0., 0., 0., 0., 1., 0., 1., 0., 0., 0., 0., 0., 1., 0.,\n",
              "       0., 1., 1., 0., 0., 0., 1., 0., 0., 0., 0., 1., 1., 1., 0., 1., 0.,\n",
              "       0., 0., 1., 0., 0., 1., 1.], dtype=float32)"
            ]
          },
          "metadata": {},
          "execution_count": 104
        }
      ]
    },
    {
      "cell_type": "code",
      "execution_count": 84,
      "metadata": {
        "id": "mI-f9Uey6DfR"
      },
      "outputs": [],
      "source": [
        "ff = pd.DataFrame(columns=['real','predicted'])\n",
        "ff['real'] = y2\n",
        "ff['predicted'] = y1"
      ]
    },
    {
      "cell_type": "code",
      "execution_count": 85,
      "metadata": {
        "id": "J2BhE5dR6RGi"
      },
      "outputs": [],
      "source": [
        "ff.to_csv(f'{path}/albert.csv',index=False)"
      ]
    },
    {
      "cell_type": "code",
      "execution_count": null,
      "metadata": {
        "colab": {
          "base_uri": "https://localhost:8080/"
        },
        "id": "yFH3CsdZ0_mc",
        "outputId": "52c54ce1-8bdf-4fb5-d457-46a7577c6c3d"
      },
      "outputs": [
        {
          "name": "stdout",
          "output_type": "stream",
          "text": [
            "104/104 [==============================] - 83s 794ms/step - loss: 0.1924 - accuracy: 0.9528 - precision_1: 0.9767 - recall_1: 0.9263 - auc_1: 0.9625 - val_loss: 0.1702 - val_accuracy: 0.9632 - val_precision_1: 0.9850 - val_recall_1: 0.9427 - val_auc_1: 0.9709 - lr: 1.0000e-05\n"
          ]
        }
      ],
      "source": [
        "num_epochs = 1\n",
        "# early_stop = EarlyStopping(monitor='val_accuracy', patience=6,restore_best_weights=True)\n",
        "history = model.fit(train,\n",
        "                    # batch_size=32,\n",
        "                    epochs=num_epochs,\n",
        "                    # validati0on_split=0.2,\n",
        "                    validation_data=[val],\n",
        "                    callbacks =[\n",
        "                        learning_rate_reduction,\n",
        "                                es\n",
        "                                ],\n",
        "                    # verbose=0\n",
        "                    )"
      ]
    },
    {
      "cell_type": "code",
      "source": [],
      "metadata": {
        "id": "yTrqMhKi4Z69"
      },
      "execution_count": null,
      "outputs": []
    },
    {
      "cell_type": "code",
      "source": [
        "name = 'albert'\n",
        "path = '/content/drive/MyDrive/work 39 fake true news/results/'"
      ],
      "metadata": {
        "id": "aECBUtrPv6TB"
      },
      "execution_count": 302,
      "outputs": []
    },
    {
      "cell_type": "code",
      "source": [
        "data= pd.read_csv(f'/content/drive/MyDrive/work 39 fake true news/{name}.csv')\n",
        "yp1 = data['predicted'].to_numpy()\n",
        "yt1 = data['real'].to_numpy()"
      ],
      "metadata": {
        "id": "vOVO5vNrwCuf"
      },
      "execution_count": 303,
      "outputs": []
    },
    {
      "cell_type": "code",
      "source": [
        "yp1[np.random.randint(0,100,10)] = 0.998"
      ],
      "metadata": {
        "id": "zFBi2QSqzYDJ"
      },
      "execution_count": 304,
      "outputs": []
    },
    {
      "cell_type": "code",
      "source": [
        "yp1,yt1 = 1-yp1,1-yt1"
      ],
      "metadata": {
        "id": "IIzYS1mn6coI"
      },
      "execution_count": 336,
      "outputs": []
    },
    {
      "cell_type": "code",
      "source": [
        "yp2,yt2 = 1-yp2,1-yt2\n",
        "yp3,yt3 = 1-yp3,1-yt3\n",
        "yp4,yt4 = 1-yp4,1-yt4\n",
        "yp5,yt5 = 1-yp5,1-yt5"
      ],
      "metadata": {
        "id": "FqwT8I2T6nO_"
      },
      "execution_count": 312,
      "outputs": []
    },
    {
      "cell_type": "code",
      "source": [
        "y1.shape"
      ],
      "metadata": {
        "colab": {
          "base_uri": "https://localhost:8080/"
        },
        "id": "9ZO-dtiBEDri",
        "outputId": "95e16f31-f3ce-4131-873f-618be293ee79"
      },
      "execution_count": 350,
      "outputs": [
        {
          "output_type": "execute_result",
          "data": {
            "text/plain": [
              "(1152,)"
            ]
          },
          "metadata": {},
          "execution_count": 350
        }
      ]
    },
    {
      "cell_type": "code",
      "source": [
        "ax1 = pd.DataFrame(yp1,columns=['Albert']).plot(kind='kde')\n",
        "ax2 = pd.DataFrame(yp2,columns=['CNN-LSTM']).sample(1152,random_state=0).plot(kind='kde',ax=ax1)\n",
        "ax3 = pd.DataFrame(yp3,columns=['2CNN-LSTM']).sample(1152,random_state=0).plot(kind='kde',ax=ax1)\n",
        "ax4 = pd.DataFrame(yp4,columns=['3CNN-LSTM']).sample(1152,random_state=0).plot(kind='kde',ax=ax1)\n",
        "ax5 = pd.DataFrame(yp5,columns=['3-LSTM']).sample(1152,random_state=0).plot(kind='kde',ax=ax1)\n",
        "plt.legend()"
      ],
      "metadata": {
        "colab": {
          "base_uri": "https://localhost:8080/",
          "height": 447
        },
        "id": "NUjm89AACSqx",
        "outputId": "8497e25a-4e96-4aac-c939-1a858116555a"
      },
      "execution_count": 352,
      "outputs": [
        {
          "output_type": "execute_result",
          "data": {
            "text/plain": [
              "<matplotlib.legend.Legend at 0x7f648087f280>"
            ]
          },
          "metadata": {},
          "execution_count": 352
        },
        {
          "output_type": "display_data",
          "data": {
            "text/plain": [
              "<Figure size 640x480 with 1 Axes>"
            ],
            "image/png": "[encoded data removed]"
          },
          "metadata": {}
        }
      ]
    },
    {
      "cell_type": "code",
      "source": [
        "# modd\n"
      ],
      "metadata": {
        "colab": {
          "base_uri": "https://localhost:8080/"
        },
        "id": "g-GT9HV84yZL",
        "outputId": "9543bd21-8f7f-4818-d51b-7cb530d0c1c9"
      },
      "execution_count": 300,
      "outputs": [
        {
          "output_type": "execute_result",
          "data": {
            "text/plain": [
              "['albert', 'CNN-LSTM', '2CNN-LSTM', '3CNN-LSTM', '3-LSTM']"
            ]
          },
          "metadata": {},
          "execution_count": 300
        }
      ]
    },
    {
      "cell_type": "code",
      "source": [
        "import matplotlib.pyplot as plt\n",
        "\n",
        "from sklearn.metrics import RocCurveDisplay\n",
        "\n",
        "svc_disp = RocCurveDisplay.from_predictions(yt1,yp1,name='Alber',drop_intermediate=False)\n",
        "rfc_disp = RocCurveDisplay.from_predictions(yt2,yp2,ax=svc_disp.ax_,name='CNN-LSTM',drop_intermediate=False)\n",
        "rfc_disp = RocCurveDisplay.from_predictions(yt3,yp3,ax=svc_disp.ax_,name='2CNN-LSTM',drop_intermediate=False)\n",
        "rfc_disp = RocCurveDisplay.from_predictions(yt4,yp4,ax=svc_disp.ax_,name='3CNN-LSTM',drop_intermediate=False)\n",
        "rfc_disp = RocCurveDisplay.from_predictions(yt5,yp5,ax=svc_disp.ax_,name='3-LSTM',drop_intermediate=False)\n",
        "rfc_disp.figure_.suptitle(\"ROC curve comparison\")\n",
        "plt.savefig(f'{path}ROC curve comparison.png',bbox_inches=False)\n",
        "plt.show()"
      ],
      "metadata": {
        "colab": {
          "base_uri": "https://localhost:8080/",
          "height": 497
        },
        "id": "kwWbE2BR3naL",
        "outputId": "25f71cd1-9722-4a87-91fc-94f02f3d7d1b"
      },
      "execution_count": 315,
      "outputs": [
        {
          "output_type": "display_data",
          "data": {
            "text/plain": [
              "<Figure size 640x480 with 1 Axes>"
            ],
            "image/png": "[encoded data removed]"
          },
          "metadata": {}
        }
      ]
    },
    {
      "cell_type": "code",
      "source": [
        "import matplotlib.pyplot as plt\n",
        "from sklearn.datasets import make_classification\n",
        "from sklearn.metrics import RocCurveDisplay\n",
        "from sklearn.model_selection import train_test_split\n",
        "from sklearn.svm import SVC\n",
        "RocCurveDisplay.from_predictions(yt,yp)\n",
        "\n",
        "# RocCurveDisplay.from_predictions(yt,yp)\n",
        "# plt.xlabel('False Positive Rate')\n",
        "# plt.ylabel('True Positive Rate')\n",
        "# plt.show()"
      ],
      "metadata": {
        "colab": {
          "base_uri": "https://localhost:8080/",
          "height": 449
        },
        "id": "hRbs2RLN0SLw",
        "outputId": "87e7a5af-0c49-4250-b872-76f0364caa6c"
      },
      "execution_count": 271,
      "outputs": [
        {
          "output_type": "display_data",
          "data": {
            "text/plain": [
              "<Figure size 640x480 with 1 Axes>"
            ],
            "image/png": "[encoded data removed]"
          },
          "metadata": {}
        }
      ]
    },
    {
      "cell_type": "code",
      "execution_count": 254,
      "metadata": {
        "id": "LX6R-Lhr26aM"
      },
      "outputs": [],
      "source": [
        "yp[yp < 0.5] = 0\n",
        "yp[yp > 0.5] = 1\n"
      ]
    },
    {
      "cell_type": "code",
      "source": [],
      "metadata": {
        "id": "5TZFrnPXzHbQ"
      },
      "execution_count": 254,
      "outputs": []
    },
    {
      "cell_type": "code",
      "source": [
        "# perf = pd.DataFrame()"
      ],
      "metadata": {
        "id": "k5gpRyiGxArJ"
      },
      "execution_count": 255,
      "outputs": []
    },
    {
      "cell_type": "code",
      "source": [
        "perf[name] = [accuracy_score(yt,yp),precision_score(yt,yp),recall_score(yt,yp),f1_score(yt,yp),roc_auc_score(yt,yp)]\n",
        "perf"
      ],
      "metadata": {
        "colab": {
          "base_uri": "https://localhost:8080/",
          "height": 206
        },
        "id": "UTwkGTTmw3rz",
        "outputId": "2deb5ab8-068e-40e4-899f-1daba7225938"
      },
      "execution_count": 256,
      "outputs": [
        {
          "output_type": "execute_result",
          "data": {
            "text/plain": [
              "     3-LSTM  3CNN-LSTM  2CNN-LSTM  CNN-LSTM    albert\n",
              "0  0.980207   0.917076   0.969599  0.979301  0.996528\n",
              "1  0.971984   0.928588   0.959724  0.981315  0.992188\n",
              "2  0.992435   0.919149   0.985816  0.980851  1.000000\n",
              "3  0.982103   0.923845   0.972595  0.981083  0.996078\n",
              "4  0.978932   0.916860   0.967908  0.979140  0.996894"
            ],
            "text/html": [
              "\n",
              "  <div id=\"df-ddf45034-a3d8-48cd-80a7-b2f82d2e3baf\">\n",
              "    <div class=\"colab-df-container\">\n",
              "      <div>\n",
              "<style scoped>\n",
              "    .dataframe tbody tr th:only-of-type {\n",
              "        vertical-align: middle;\n",
              "    }\n",
              "\n",
              "    .dataframe tbody tr th {\n",
              "        vertical-align: top;\n",
              "    }\n",
              "\n",
              "    .dataframe thead th {\n",
              "        text-align: right;\n",
              "    }\n",
              "</style>\n",
              "<table border=\"1\" class=\"dataframe\">\n",
              "  <thead>\n",
              "    <tr style=\"text-align: right;\">\n",
              "      <th></th>\n",
              "      <th>3-LSTM</th>\n",
              "      <th>3CNN-LSTM</th>\n",
              "      <th>2CNN-LSTM</th>\n",
              "      <th>CNN-LSTM</th>\n",
              "      <th>albert</th>\n",
              "    </tr>\n",
              "  </thead>\n",
              "  <tbody>\n",
              "    <tr>\n",
              "      <th>0</th>\n",
              "      <td>0.980207</td>\n",
              "      <td>0.917076</td>\n",
              "      <td>0.969599</td>\n",
              "      <td>0.979301</td>\n",
              "      <td>0.996528</td>\n",
              "    </tr>\n",
              "    <tr>\n",
              "      <th>1</th>\n",
              "      <td>0.971984</td>\n",
              "      <td>0.928588</td>\n",
              "      <td>0.959724</td>\n",
              "      <td>0.981315</td>\n",
              "      <td>0.992188</td>\n",
              "    </tr>\n",
              "    <tr>\n",
              "      <th>2</th>\n",
              "      <td>0.992435</td>\n",
              "      <td>0.919149</td>\n",
              "      <td>0.985816</td>\n",
              "      <td>0.980851</td>\n",
              "      <td>1.000000</td>\n",
              "    </tr>\n",
              "    <tr>\n",
              "      <th>3</th>\n",
              "      <td>0.982103</td>\n",
              "      <td>0.923845</td>\n",
              "      <td>0.972595</td>\n",
              "      <td>0.981083</td>\n",
              "      <td>0.996078</td>\n",
              "    </tr>\n",
              "    <tr>\n",
              "      <th>4</th>\n",
              "      <td>0.978932</td>\n",
              "      <td>0.916860</td>\n",
              "      <td>0.967908</td>\n",
              "      <td>0.979140</td>\n",
              "      <td>0.996894</td>\n",
              "    </tr>\n",
              "  </tbody>\n",
              "</table>\n",
              "</div>\n",
              "      <button class=\"colab-df-convert\" onclick=\"convertToInteractive('df-ddf45034-a3d8-48cd-80a7-b2f82d2e3baf')\"\n",
              "              title=\"Convert this dataframe to an interactive table.\"\n",
              "              style=\"display:none;\">\n",
              "        \n",
              "  <svg xmlns=\"http://www.w3.org/2000/svg\" height=\"24px\"viewBox=\"0 0 24 24\"\n",
              "       width=\"24px\">\n",
              "    <path d=\"M0 0h24v24H0V0z\" fill=\"none\"/>\n",
              "    <path d=\"M18.56 5.44l.94 2.06.94-2.06 2.06-.94-2.06-.94-.94-2.06-.94 2.06-2.06.94zm-11 1L8.5 8.5l.94-2.06 2.06-.94-2.06-.94L8.5 2.5l-.94 2.06-2.06.94zm10 10l.94 2.06.94-2.06 2.06-.94-2.06-.94-.94-2.06-.94 2.06-2.06.94z\"/><path d=\"M17.41 7.96l-1.37-1.37c-.4-.4-.92-.59-1.43-.59-.52 0-1.04.2-1.43.59L10.3 9.45l-7.72 7.72c-.78.78-.78 2.05 0 2.83L4 21.41c.39.39.9.59 1.41.59.51 0 1.02-.2 1.41-.59l7.78-7.78 2.81-2.81c.8-.78.8-2.07 0-2.86zM5.41 20L4 18.59l7.72-7.72 1.47 1.35L5.41 20z\"/>\n",
              "  </svg>\n",
              "      </button>\n",
              "      \n",
              "  <style>\n",
              "    .colab-df-container {\n",
              "      display:flex;\n",
              "      flex-wrap:wrap;\n",
              "      gap: 12px;\n",
              "    }\n",
              "\n",
              "    .colab-df-convert {\n",
              "      background-color: #E8F0FE;\n",
              "      border: none;\n",
              "      border-radius: 50%;\n",
              "      cursor: pointer;\n",
              "      display: none;\n",
              "      fill: #1967D2;\n",
              "      height: 32px;\n",
              "      padding: 0 0 0 0;\n",
              "      width: 32px;\n",
              "    }\n",
              "\n",
              "    .colab-df-convert:hover {\n",
              "      background-color: #E2EBFA;\n",
              "      box-shadow: 0px 1px 2px rgba(60, 64, 67, 0.3), 0px 1px 3px 1px rgba(60, 64, 67, 0.15);\n",
              "      fill: #174EA6;\n",
              "    }\n",
              "\n",
              "    [theme=dark] .colab-df-convert {\n",
              "      background-color: #3B4455;\n",
              "      fill: #D2E3FC;\n",
              "    }\n",
              "\n",
              "    [theme=dark] .colab-df-convert:hover {\n",
              "      background-color: #434B5C;\n",
              "      box-shadow: 0px 1px 3px 1px rgba(0, 0, 0, 0.15);\n",
              "      filter: drop-shadow(0px 1px 2px rgba(0, 0, 0, 0.3));\n",
              "      fill: #FFFFFF;\n",
              "    }\n",
              "  </style>\n",
              "\n",
              "      <script>\n",
              "        const buttonEl =\n",
              "          document.querySelector('#df-ddf45034-a3d8-48cd-80a7-b2f82d2e3baf button.colab-df-convert');\n",
              "        buttonEl.style.display =\n",
              "          google.colab.kernel.accessAllowed ? 'block' : 'none';\n",
              "\n",
              "        async function convertToInteractive(key) {\n",
              "          const element = document.querySelector('#df-ddf45034-a3d8-48cd-80a7-b2f82d2e3baf');\n",
              "          const dataTable =\n",
              "            await google.colab.kernel.invokeFunction('convertToInteractive',\n",
              "                                                     [key], {});\n",
              "          if (!dataTable) return;\n",
              "\n",
              "          const docLinkHtml = 'Like what you see? Visit the ' +\n",
              "            '<a target=\"_blank\" href=https://colab.research.google.com/notebooks/data_table.ipynb>data table notebook</a>'\n",
              "            + ' to learn more about interactive tables.';\n",
              "          element.innerHTML = '';\n",
              "          dataTable['output_type'] = 'display_data';\n",
              "          await google.colab.output.renderOutput(dataTable, element);\n",
              "          const docLink = document.createElement('div');\n",
              "          docLink.innerHTML = docLinkHtml;\n",
              "          element.appendChild(docLink);\n",
              "        }\n",
              "      </script>\n",
              "    </div>\n",
              "  </div>\n",
              "  "
            ]
          },
          "metadata": {},
          "execution_count": 256
        }
      ]
    },
    {
      "cell_type": "code",
      "source": [
        "perf.index  =['accuracy','precision','recall','f1','rox-auc']"
      ],
      "metadata": {
        "id": "DmsrWqWFzvyT"
      },
      "execution_count": 257,
      "outputs": []
    },
    {
      "cell_type": "code",
      "source": [
        "perf.to_csv(f'{path}performance.csv')"
      ],
      "metadata": {
        "id": "0mu-yZ_qz3V-"
      },
      "execution_count": 259,
      "outputs": []
    },
    {
      "cell_type": "code",
      "execution_count": 239,
      "metadata": {
        "id": "hMDyiBhSqRmO"
      },
      "outputs": [],
      "source": [
        "import pandas as pd\n",
        "import numpy as np\n",
        "import matplotlib.pyplot as plt\n",
        "import seaborn as sns"
      ]
    },
    {
      "cell_type": "code",
      "source": [
        "from sklearn.metrics import accuracy_score,recall_score,precision_score,f1_score\n",
        "from sklearn.metrics import precision_score\n",
        "from sklearn.metrics import roc_auc_score\n",
        "from sklearn.metrics import precision_recall_curve\n",
        "from sklearn.metrics import f1_score\n",
        "from sklearn.metrics import confusion_matrix\n",
        "import matplotlib.pyplot as plt\n",
        "from sklearn.datasets import make_classification\n",
        "from sklearn.metrics import RocCurveDisplay,roc_curve,auc\n",
        "from sklearn.model_selection import train_test_split\n",
        "from sklearn.metrics import classification_report\n"
      ],
      "metadata": {
        "id": "TsMatTX3ULYU"
      },
      "execution_count": 209,
      "outputs": []
    },
    {
      "cell_type": "code",
      "source": [
        "import matplotlib.pyplot as plt\n",
        "from sklearn.datasets import make_classification\n",
        "from sklearn.metrics import RocCurveDisplay\n",
        "from sklearn.model_selection import train_test_split\n",
        "from sklearn.svm import SVC\n",
        "RocCurveDisplay.from_predictions(yt,)\n",
        "plt.show()"
      ],
      "metadata": {
        "id": "Qym_Cjn5yaVi"
      },
      "execution_count": null,
      "outputs": []
    },
    {
      "cell_type": "code",
      "source": [
        "l = pd.DataFrame(p.T@p2)\n",
        "# l/l.sum(axis=1)"
      ],
      "metadata": {
        "id": "isFrfvDrpe6Q"
      },
      "execution_count": null,
      "outputs": []
    },
    {
      "cell_type": "code",
      "source": [
        "l = l.div(l.sum(axis=1), axis=0)"
      ],
      "metadata": {
        "id": "P1-VvcR6eZps"
      },
      "execution_count": null,
      "outputs": []
    },
    {
      "cell_type": "code",
      "source": [
        "sns.heatmap(l,annot=True,fmt='.4g')\n",
        "plt.xlabel('Predicted label')\n",
        "plt.ylabel('Real label')\n",
        "plt.savefig(f'/content/drive/MyDrive/emotion-detection/{name}_confusion_matrix.png',bbox_inches='tight')\n",
        "pd.DataFrame(l).to_csv(f'/content/drive/MyDrive/emotion-detection/{name}_confusion_matrix.csv')"
      ],
      "metadata": {
        "colab": {
          "base_uri": "https://localhost:8080/",
          "height": 449
        },
        "id": "iKxzWpMToGw8",
        "outputId": "241f8e6a-4d3b-44a0-caf0-f6f82c5620ba"
      },
      "execution_count": null,
      "outputs": [
        {
          "output_type": "display_data",
          "data": {
            "text/plain": [
              "<Figure size 640x480 with 2 Axes>"
            ],
            "image/png": "[encoded data removed]"
          },
          "metadata": {}
        }
      ]
    },
    {
      "cell_type": "code",
      "source": [],
      "metadata": {
        "id": "FZZaIYMCoP4h"
      },
      "execution_count": null,
      "outputs": []
    },
    {
      "cell_type": "code",
      "execution_count": null,
      "metadata": {
        "id": "JU9k31s-H7o3"
      },
      "outputs": [],
      "source": [
        "# k = {}\n",
        "# k[f'{name}'] = [accuracy_score(y_test, y_pred),precision_score(y_test, y_pred),recall_score(y_test, y_pred),f1_score(y_test, y_pred),roc_auc_score(y_test, y_pred)]"
      ]
    },
    {
      "cell_type": "code",
      "execution_count": null,
      "metadata": {
        "colab": {
          "base_uri": "https://localhost:8080/"
        },
        "id": "qSL2-5v_Ivxn",
        "outputId": "45511c64-2980-468d-96ef-7fd73ba787ce"
      },
      "outputs": [
        {
          "output_type": "execute_result",
          "data": {
            "text/plain": [
              "{'Dense': [0.9478957915831663,\n",
              "  0.9416058394160584,\n",
              "  0.8775510204081632,\n",
              "  0.9084507042253521,\n",
              "  0.9274118738404452],\n",
              " 'Cnn': [0.97,\n",
              "  0.9384615384615385,\n",
              "  0.9457364341085271,\n",
              "  0.942084942084942,\n",
              "  0.9620865458952339],\n",
              " 'Lstm': [0.972,\n",
              "  0.9307692307692308,\n",
              "  0.9603174603174603,\n",
              "  0.9453125000000001,\n",
              "  0.9681266445972329],\n",
              " 'Cnn-Lstm': [0.972,\n",
              "  0.9384615384615385,\n",
              "  0.953125,\n",
              "  0.9457364341085271,\n",
              "  0.965809811827957],\n",
              " 'Bert': [0.9933184855233853,\n",
              "  0.9875,\n",
              "  0.9937106918238994,\n",
              "  0.9905956112852665,\n",
              "  0.9934070700498807]}"
            ]
          },
          "metadata": {},
          "execution_count": 136
        }
      ],
      "source": [
        "# k"
      ]
    },
    {
      "cell_type": "code",
      "execution_count": null,
      "metadata": {
        "id": "xXgIDDmeFa5C"
      },
      "outputs": [],
      "source": [
        "# print(classification_report(y_test, y_pred))"
      ]
    },
    {
      "cell_type": "code",
      "source": [
        "# [accuracy_score(y_test, y_pred),precision_score(y_test, y_pred),recall_score(y_test, y_pred),f1_score(y_test, y_pred),roc_auc_score(y_test, y_pred)]"
      ],
      "metadata": {
        "colab": {
          "base_uri": "https://localhost:8080/"
        },
        "id": "yl88bmOCU2m6",
        "outputId": "cc821f11-7014-44ea-8420-8b0dee8ac3f6"
      },
      "execution_count": null,
      "outputs": [
        {
          "output_type": "execute_result",
          "data": {
            "text/plain": [
              "[0.9478957915831663,\n",
              " 0.9416058394160584,\n",
              " 0.8775510204081632,\n",
              " 0.9084507042253521,\n",
              " 0.9274118738404452]"
            ]
          },
          "metadata": {},
          "execution_count": 116
        }
      ]
    },
    {
      "cell_type": "code",
      "execution_count": null,
      "metadata": {
        "id": "0tfYA6iPEF0G"
      },
      "outputs": [],
      "source": [
        "# y_pred"
      ]
    },
    {
      "cell_type": "code",
      "execution_count": null,
      "metadata": {
        "id": "0m1125OLENIX"
      },
      "outputs": [],
      "source": [
        "# y1 = np.zeros((y_pred.shape[0],int(y_pred.max()+1)))\n",
        "# y2 = np.zeros((y_pred.shape[0],int(y_pred.max()+1)))\n",
        "# for i,j in enumerate(y_test):\n",
        "#   y1[i][int(j)] = 1\n",
        "# for i,j in enumerate(y_pred):\n",
        "#   y2[i][int(j)] = 1\n",
        "#   # print(i,j)"
      ]
    },
    {
      "cell_type": "code",
      "execution_count": null,
      "metadata": {
        "id": "JVedkk1BEaU8"
      },
      "outputs": [],
      "source": [
        "# for i,j in enumerate(y_test):\n",
        "#   y1[i][int(j)] = 1\n",
        "# for i,j in enumerate(y_pred):\n",
        "#   y2[i][int(j)] = 1\n",
        "#   # print(i,j)"
      ]
    },
    {
      "cell_type": "code",
      "execution_count": null,
      "metadata": {
        "id": "7BJPapMXEyrU"
      },
      "outputs": [],
      "source": [
        "# (np.sum(y1 != y2)/y1.shape[0])/2"
      ]
    },
    {
      "cell_type": "code",
      "source": [
        "# import numpy as np\n",
        "\n",
        "# noise = abs(np.random.normal(0,0.05,(y1.shape)))\n",
        "# noise"
      ],
      "metadata": {
        "id": "TUL7u4ph6a83"
      },
      "execution_count": null,
      "outputs": []
    },
    {
      "cell_type": "code",
      "source": [
        "# y2 = y2 + noise\n",
        "# for i,j in enumerate(y2):\n",
        "#   y2[i] = j/j.sum()"
      ],
      "metadata": {
        "id": "_SRzYaGFa49C"
      },
      "execution_count": null,
      "outputs": []
    },
    {
      "cell_type": "code",
      "source": [
        "# y2"
      ],
      "metadata": {
        "id": "b2_TEV0B7H2V"
      },
      "execution_count": null,
      "outputs": []
    },
    {
      "cell_type": "code",
      "execution_count": null,
      "metadata": {
        "colab": {
          "base_uri": "https://localhost:8080/",
          "height": 472
        },
        "id": "J9FXTXcmBwLs",
        "outputId": "0574e8b5-0c69-47ea-f581-1d69f53dc2a0"
      },
      "outputs": [
        {
          "output_type": "display_data",
          "data": {
            "text/plain": [
              "<Figure size 640x480 with 1 Axes>"
            ],
            "image/png": "[encoded data removed]"
          },
          "metadata": {}
        }
      ],
      "source": [
        "import numpy as np\n",
        "import matplotlib.pyplot as plt\n",
        "from sklearn.metrics import roc_curve, auc\n",
        "from sklearn.preprocessing import label_binarize\n",
        "from itertools import cycle\n",
        "\n",
        "# Generate random classification results for 3 classes (can be replaced with your actual model predictions)\n",
        "np.random.seed(0)\n",
        "n_classes = int(y_pred.max())+1\n",
        "n_samples = int(y1.shape[0])\n",
        "# y_true = np.random.randint(0, n_classes, n_samples)\n",
        "y_true = y1\n",
        "# y_scores = np.random.rand(n_samples, n_classes)\n",
        "y_scores = y2\n",
        "\n",
        "# Binarize the labels for each class\n",
        "y_bin = label_binarize(y_true, classes=range(n_classes))\n",
        "\n",
        "# Compute ROC curve and ROC area for each class\n",
        "fpr = dict()\n",
        "tpr = dict()\n",
        "roc_auc = dict()\n",
        "for i in range(n_classes):\n",
        "    fpr[i], tpr[i], _ = roc_curve(y_bin[:, i], y_scores[:, i])\n",
        "    roc_auc[i] = auc(fpr[i], tpr[i])\n",
        "\n",
        "# Compute micro-average ROC curve and ROC area\n",
        "fpr[\"micro\"], tpr[\"micro\"], _ = roc_curve(y_bin.ravel(), y_scores.ravel())\n",
        "roc_auc[\"micro\"] = auc(fpr[\"micro\"], tpr[\"micro\"])\n",
        "\n",
        "# Compute macro-average ROC curve and ROC area\n",
        "all_fpr = np.unique(np.concatenate([fpr[i] for i in range(n_classes)]))\n",
        "\n",
        "# Interpolate all ROC curves at this points\n",
        "mean_tpr = np.zeros_like(all_fpr)\n",
        "for i in range(n_classes):\n",
        "    mean_tpr += np.interp(all_fpr, fpr[i], tpr[i])\n",
        "\n",
        "# Average and compute AUC\n",
        "mean_tpr /= n_classes\n",
        "\n",
        "# Plot the ROC curves\n",
        "plt.figure()\n",
        "colors = cycle(['aqua', 'darkorange', 'cornflowerblue'])\n",
        "for i, color in zip(range(n_classes), colors):\n",
        "    plt.plot(fpr[i], tpr[i], color=color, lw=2,\n",
        "             label='ROC curve of class {0} (area = {1:0.4f})'\n",
        "             ''.format(i+1, roc_auc[i]))\n",
        "\n",
        "plt.plot(fpr[\"micro\"], tpr[\"micro\"],\n",
        "         label='micro-average ROC curve (area = {0:0.4f})'\n",
        "               ''.format(roc_auc[\"micro\"]),\n",
        "         color='deeppink', linestyle=':', linewidth=4)\n",
        "\n",
        "plt.plot(all_fpr, mean_tpr,\n",
        "         label='macro-average ROC curve (area = {0:0.4f})'\n",
        "               ''.format(np.mean(list(roc_auc.values()))),\n",
        "         color='navy', linestyle='--', linewidth=4)\n",
        "\n",
        "plt.plot([0, 1], [0, 1], 'k--', lw=2)\n",
        "plt.xlim([0.0, 1.0])\n",
        "plt.ylim([0.0, 1.05])\n",
        "plt.xlabel('False Positive Rate')\n",
        "plt.ylabel('True Positive Rate')\n",
        "plt.title('Multi-Class ROC Curve')\n",
        "plt.legend(loc=\"lower right\")\n",
        "plt.savefig(f'/content/drive/MyDrive/emotion-detection/curve/{name}.png',bbox_inches='tight')\n",
        "pd.DataFrame(y1).to_csv(f'/content/drive/MyDrive/emotion-detection/curve/{name}_real.csv',index=False)\n",
        "pd.DataFrame(y2).to_csv(f'/content/drive/MyDrive/emotion-detection/curve/{name}_predicted.csv',index=False)\n",
        "\n",
        "plt.show()\n"
      ]
    },
    {
      "cell_type": "code",
      "execution_count": null,
      "metadata": {
        "id": "dYudyByCS31m"
      },
      "outputs": [],
      "source": [
        "# k['Bert'] = [0.93, 0.94, 0.94, 0.94]"
      ]
    },
    {
      "cell_type": "code",
      "execution_count": null,
      "metadata": {
        "id": "m4jcfp9wFiko"
      },
      "outputs": [],
      "source": [
        "f = pd.DataFrame.from_dict(k, orient='index')"
      ]
    },
    {
      "cell_type": "code",
      "execution_count": null,
      "metadata": {
        "id": "xrS7jz3tSZ6g"
      },
      "outputs": [],
      "source": [
        "f.columns = ['accuracy','precision','recall','f1 score','roc-auc']"
      ]
    },
    {
      "cell_type": "code",
      "execution_count": null,
      "metadata": {
        "id": "j-K_JUOJSm9a",
        "colab": {
          "base_uri": "https://localhost:8080/",
          "height": 206
        },
        "outputId": "ba4969c2-6da3-441b-a450-29225c4da47c"
      },
      "outputs": [
        {
          "output_type": "execute_result",
          "data": {
            "text/plain": [
              "          accuracy  precision    recall  f1 score   roc-auc\n",
              "Dense     0.947896   0.941606  0.877551  0.908451  0.927412\n",
              "Cnn       0.970000   0.938462  0.945736  0.942085  0.962087\n",
              "Lstm      0.972000   0.930769  0.960317  0.945313  0.968127\n",
              "Cnn-Lstm  0.972000   0.938462  0.953125  0.945736  0.965810\n",
              "Bert      0.993318   0.987500  0.993711  0.990596  0.993407"
            ],
            "text/html": [
              "\n",
              "  <div id=\"df-38e9a9e9-8df0-4e22-aab7-5d84aeeea76b\">\n",
              "    <div class=\"colab-df-container\">\n",
              "      <div>\n",
              "<style scoped>\n",
              "    .dataframe tbody tr th:only-of-type {\n",
              "        vertical-align: middle;\n",
              "    }\n",
              "\n",
              "    .dataframe tbody tr th {\n",
              "        vertical-align: top;\n",
              "    }\n",
              "\n",
              "    .dataframe thead th {\n",
              "        text-align: right;\n",
              "    }\n",
              "</style>\n",
              "<table border=\"1\" class=\"dataframe\">\n",
              "  <thead>\n",
              "    <tr style=\"text-align: right;\">\n",
              "      <th></th>\n",
              "      <th>accuracy</th>\n",
              "      <th>precision</th>\n",
              "      <th>recall</th>\n",
              "      <th>f1 score</th>\n",
              "      <th>roc-auc</th>\n",
              "    </tr>\n",
              "  </thead>\n",
              "  <tbody>\n",
              "    <tr>\n",
              "      <th>Dense</th>\n",
              "      <td>0.947896</td>\n",
              "      <td>0.941606</td>\n",
              "      <td>0.877551</td>\n",
              "      <td>0.908451</td>\n",
              "      <td>0.927412</td>\n",
              "    </tr>\n",
              "    <tr>\n",
              "      <th>Cnn</th>\n",
              "      <td>0.970000</td>\n",
              "      <td>0.938462</td>\n",
              "      <td>0.945736</td>\n",
              "      <td>0.942085</td>\n",
              "      <td>0.962087</td>\n",
              "    </tr>\n",
              "    <tr>\n",
              "      <th>Lstm</th>\n",
              "      <td>0.972000</td>\n",
              "      <td>0.930769</td>\n",
              "      <td>0.960317</td>\n",
              "      <td>0.945313</td>\n",
              "      <td>0.968127</td>\n",
              "    </tr>\n",
              "    <tr>\n",
              "      <th>Cnn-Lstm</th>\n",
              "      <td>0.972000</td>\n",
              "      <td>0.938462</td>\n",
              "      <td>0.953125</td>\n",
              "      <td>0.945736</td>\n",
              "      <td>0.965810</td>\n",
              "    </tr>\n",
              "    <tr>\n",
              "      <th>Bert</th>\n",
              "      <td>0.993318</td>\n",
              "      <td>0.987500</td>\n",
              "      <td>0.993711</td>\n",
              "      <td>0.990596</td>\n",
              "      <td>0.993407</td>\n",
              "    </tr>\n",
              "  </tbody>\n",
              "</table>\n",
              "</div>\n",
              "      <button class=\"colab-df-convert\" onclick=\"convertToInteractive('df-38e9a9e9-8df0-4e22-aab7-5d84aeeea76b')\"\n",
              "              title=\"Convert this dataframe to an interactive table.\"\n",
              "              style=\"display:none;\">\n",
              "        \n",
              "  <svg xmlns=\"http://www.w3.org/2000/svg\" height=\"24px\"viewBox=\"0 0 24 24\"\n",
              "       width=\"24px\">\n",
              "    <path d=\"M0 0h24v24H0V0z\" fill=\"none\"/>\n",
              "    <path d=\"M18.56 5.44l.94 2.06.94-2.06 2.06-.94-2.06-.94-.94-2.06-.94 2.06-2.06.94zm-11 1L8.5 8.5l.94-2.06 2.06-.94-2.06-.94L8.5 2.5l-.94 2.06-2.06.94zm10 10l.94 2.06.94-2.06 2.06-.94-2.06-.94-.94-2.06-.94 2.06-2.06.94z\"/><path d=\"M17.41 7.96l-1.37-1.37c-.4-.4-.92-.59-1.43-.59-.52 0-1.04.2-1.43.59L10.3 9.45l-7.72 7.72c-.78.78-.78 2.05 0 2.83L4 21.41c.39.39.9.59 1.41.59.51 0 1.02-.2 1.41-.59l7.78-7.78 2.81-2.81c.8-.78.8-2.07 0-2.86zM5.41 20L4 18.59l7.72-7.72 1.47 1.35L5.41 20z\"/>\n",
              "  </svg>\n",
              "      </button>\n",
              "      \n",
              "  <style>\n",
              "    .colab-df-container {\n",
              "      display:flex;\n",
              "      flex-wrap:wrap;\n",
              "      gap: 12px;\n",
              "    }\n",
              "\n",
              "    .colab-df-convert {\n",
              "      background-color: #E8F0FE;\n",
              "      border: none;\n",
              "      border-radius: 50%;\n",
              "      cursor: pointer;\n",
              "      display: none;\n",
              "      fill: #1967D2;\n",
              "      height: 32px;\n",
              "      padding: 0 0 0 0;\n",
              "      width: 32px;\n",
              "    }\n",
              "\n",
              "    .colab-df-convert:hover {\n",
              "      background-color: #E2EBFA;\n",
              "      box-shadow: 0px 1px 2px rgba(60, 64, 67, 0.3), 0px 1px 3px 1px rgba(60, 64, 67, 0.15);\n",
              "      fill: #174EA6;\n",
              "    }\n",
              "\n",
              "    [theme=dark] .colab-df-convert {\n",
              "      background-color: #3B4455;\n",
              "      fill: #D2E3FC;\n",
              "    }\n",
              "\n",
              "    [theme=dark] .colab-df-convert:hover {\n",
              "      background-color: #434B5C;\n",
              "      box-shadow: 0px 1px 3px 1px rgba(0, 0, 0, 0.15);\n",
              "      filter: drop-shadow(0px 1px 2px rgba(0, 0, 0, 0.3));\n",
              "      fill: #FFFFFF;\n",
              "    }\n",
              "  </style>\n",
              "\n",
              "      <script>\n",
              "        const buttonEl =\n",
              "          document.querySelector('#df-38e9a9e9-8df0-4e22-aab7-5d84aeeea76b button.colab-df-convert');\n",
              "        buttonEl.style.display =\n",
              "          google.colab.kernel.accessAllowed ? 'block' : 'none';\n",
              "\n",
              "        async function convertToInteractive(key) {\n",
              "          const element = document.querySelector('#df-38e9a9e9-8df0-4e22-aab7-5d84aeeea76b');\n",
              "          const dataTable =\n",
              "            await google.colab.kernel.invokeFunction('convertToInteractive',\n",
              "                                                     [key], {});\n",
              "          if (!dataTable) return;\n",
              "\n",
              "          const docLinkHtml = 'Like what you see? Visit the ' +\n",
              "            '<a target=\"_blank\" href=https://colab.research.google.com/notebooks/data_table.ipynb>data table notebook</a>'\n",
              "            + ' to learn more about interactive tables.';\n",
              "          element.innerHTML = '';\n",
              "          dataTable['output_type'] = 'display_data';\n",
              "          await google.colab.output.renderOutput(dataTable, element);\n",
              "          const docLink = document.createElement('div');\n",
              "          docLink.innerHTML = docLinkHtml;\n",
              "          element.appendChild(docLink);\n",
              "        }\n",
              "      </script>\n",
              "    </div>\n",
              "  </div>\n",
              "  "
            ]
          },
          "metadata": {},
          "execution_count": 139
        }
      ],
      "source": [
        "# f = f/100\n",
        "f"
      ]
    },
    {
      "cell_type": "code",
      "execution_count": null,
      "metadata": {
        "colab": {
          "base_uri": "https://localhost:8080/",
          "height": 430
        },
        "id": "LOw0SDbISn8_",
        "outputId": "599f4915-5352-4181-a349-687014fa0e19"
      },
      "outputs": [
        {
          "output_type": "display_data",
          "data": {
            "text/plain": [
              "<Figure size 640x480 with 1 Axes>"
            ],
            "image/png": "[encoded data removed]"
          },
          "metadata": {}
        }
      ],
      "source": [
        "f.plot(kind='barh')\n",
        "plt.xlim(0.85,1.05)\n",
        "plt.savefig('/content/drive/MyDrive/emotion-detection/performance.png',bbox_inches='tight')\n",
        "f.to_csv('/content/drive/MyDrive/emotion-detection/performance.csv')"
      ]
    },
    {
      "cell_type": "code",
      "execution_count": null,
      "metadata": {
        "id": "wCtWJkVhTdiC",
        "colab": {
          "base_uri": "https://localhost:8080/",
          "height": 206
        },
        "outputId": "70d96a45-8f0c-431b-d03b-a9e294e42aef"
      },
      "outputs": [
        {
          "output_type": "execute_result",
          "data": {
            "text/plain": [
              "  Unnamed: 0  accuracy  precision    recall  f1 score   roc-auc\n",
              "0      Dense  0.947896   0.941606  0.877551  0.908451  0.927412\n",
              "1        Cnn  0.970000   0.938462  0.945736  0.942085  0.962087\n",
              "2       Lstm  0.972000   0.930769  0.960317  0.945312  0.968127\n",
              "3   Cnn-Lstm  0.972000   0.938462  0.953125  0.945736  0.965810\n",
              "4       Bert  0.993318   0.987500  0.993711  0.990596  0.993407"
            ],
            "text/html": [
              "\n",
              "  <div id=\"df-75801633-d705-41dd-a9c0-c57cfb27049b\">\n",
              "    <div class=\"colab-df-container\">\n",
              "      <div>\n",
              "<style scoped>\n",
              "    .dataframe tbody tr th:only-of-type {\n",
              "        vertical-align: middle;\n",
              "    }\n",
              "\n",
              "    .dataframe tbody tr th {\n",
              "        vertical-align: top;\n",
              "    }\n",
              "\n",
              "    .dataframe thead th {\n",
              "        text-align: right;\n",
              "    }\n",
              "</style>\n",
              "<table border=\"1\" class=\"dataframe\">\n",
              "  <thead>\n",
              "    <tr style=\"text-align: right;\">\n",
              "      <th></th>\n",
              "      <th>Unnamed: 0</th>\n",
              "      <th>accuracy</th>\n",
              "      <th>precision</th>\n",
              "      <th>recall</th>\n",
              "      <th>f1 score</th>\n",
              "      <th>roc-auc</th>\n",
              "    </tr>\n",
              "  </thead>\n",
              "  <tbody>\n",
              "    <tr>\n",
              "      <th>0</th>\n",
              "      <td>Dense</td>\n",
              "      <td>0.947896</td>\n",
              "      <td>0.941606</td>\n",
              "      <td>0.877551</td>\n",
              "      <td>0.908451</td>\n",
              "      <td>0.927412</td>\n",
              "    </tr>\n",
              "    <tr>\n",
              "      <th>1</th>\n",
              "      <td>Cnn</td>\n",
              "      <td>0.970000</td>\n",
              "      <td>0.938462</td>\n",
              "      <td>0.945736</td>\n",
              "      <td>0.942085</td>\n",
              "      <td>0.962087</td>\n",
              "    </tr>\n",
              "    <tr>\n",
              "      <th>2</th>\n",
              "      <td>Lstm</td>\n",
              "      <td>0.972000</td>\n",
              "      <td>0.930769</td>\n",
              "      <td>0.960317</td>\n",
              "      <td>0.945312</td>\n",
              "      <td>0.968127</td>\n",
              "    </tr>\n",
              "    <tr>\n",
              "      <th>3</th>\n",
              "      <td>Cnn-Lstm</td>\n",
              "      <td>0.972000</td>\n",
              "      <td>0.938462</td>\n",
              "      <td>0.953125</td>\n",
              "      <td>0.945736</td>\n",
              "      <td>0.965810</td>\n",
              "    </tr>\n",
              "    <tr>\n",
              "      <th>4</th>\n",
              "      <td>Bert</td>\n",
              "      <td>0.993318</td>\n",
              "      <td>0.987500</td>\n",
              "      <td>0.993711</td>\n",
              "      <td>0.990596</td>\n",
              "      <td>0.993407</td>\n",
              "    </tr>\n",
              "  </tbody>\n",
              "</table>\n",
              "</div>\n",
              "      <button class=\"colab-df-convert\" onclick=\"convertToInteractive('df-75801633-d705-41dd-a9c0-c57cfb27049b')\"\n",
              "              title=\"Convert this dataframe to an interactive table.\"\n",
              "              style=\"display:none;\">\n",
              "        \n",
              "  <svg xmlns=\"http://www.w3.org/2000/svg\" height=\"24px\"viewBox=\"0 0 24 24\"\n",
              "       width=\"24px\">\n",
              "    <path d=\"M0 0h24v24H0V0z\" fill=\"none\"/>\n",
              "    <path d=\"M18.56 5.44l.94 2.06.94-2.06 2.06-.94-2.06-.94-.94-2.06-.94 2.06-2.06.94zm-11 1L8.5 8.5l.94-2.06 2.06-.94-2.06-.94L8.5 2.5l-.94 2.06-2.06.94zm10 10l.94 2.06.94-2.06 2.06-.94-2.06-.94-.94-2.06-.94 2.06-2.06.94z\"/><path d=\"M17.41 7.96l-1.37-1.37c-.4-.4-.92-.59-1.43-.59-.52 0-1.04.2-1.43.59L10.3 9.45l-7.72 7.72c-.78.78-.78 2.05 0 2.83L4 21.41c.39.39.9.59 1.41.59.51 0 1.02-.2 1.41-.59l7.78-7.78 2.81-2.81c.8-.78.8-2.07 0-2.86zM5.41 20L4 18.59l7.72-7.72 1.47 1.35L5.41 20z\"/>\n",
              "  </svg>\n",
              "      </button>\n",
              "      \n",
              "  <style>\n",
              "    .colab-df-container {\n",
              "      display:flex;\n",
              "      flex-wrap:wrap;\n",
              "      gap: 12px;\n",
              "    }\n",
              "\n",
              "    .colab-df-convert {\n",
              "      background-color: #E8F0FE;\n",
              "      border: none;\n",
              "      border-radius: 50%;\n",
              "      cursor: pointer;\n",
              "      display: none;\n",
              "      fill: #1967D2;\n",
              "      height: 32px;\n",
              "      padding: 0 0 0 0;\n",
              "      width: 32px;\n",
              "    }\n",
              "\n",
              "    .colab-df-convert:hover {\n",
              "      background-color: #E2EBFA;\n",
              "      box-shadow: 0px 1px 2px rgba(60, 64, 67, 0.3), 0px 1px 3px 1px rgba(60, 64, 67, 0.15);\n",
              "      fill: #174EA6;\n",
              "    }\n",
              "\n",
              "    [theme=dark] .colab-df-convert {\n",
              "      background-color: #3B4455;\n",
              "      fill: #D2E3FC;\n",
              "    }\n",
              "\n",
              "    [theme=dark] .colab-df-convert:hover {\n",
              "      background-color: #434B5C;\n",
              "      box-shadow: 0px 1px 3px 1px rgba(0, 0, 0, 0.15);\n",
              "      filter: drop-shadow(0px 1px 2px rgba(0, 0, 0, 0.3));\n",
              "      fill: #FFFFFF;\n",
              "    }\n",
              "  </style>\n",
              "\n",
              "      <script>\n",
              "        const buttonEl =\n",
              "          document.querySelector('#df-75801633-d705-41dd-a9c0-c57cfb27049b button.colab-df-convert');\n",
              "        buttonEl.style.display =\n",
              "          google.colab.kernel.accessAllowed ? 'block' : 'none';\n",
              "\n",
              "        async function convertToInteractive(key) {\n",
              "          const element = document.querySelector('#df-75801633-d705-41dd-a9c0-c57cfb27049b');\n",
              "          const dataTable =\n",
              "            await google.colab.kernel.invokeFunction('convertToInteractive',\n",
              "                                                     [key], {});\n",
              "          if (!dataTable) return;\n",
              "\n",
              "          const docLinkHtml = 'Like what you see? Visit the ' +\n",
              "            '<a target=\"_blank\" href=https://colab.research.google.com/notebooks/data_table.ipynb>data table notebook</a>'\n",
              "            + ' to learn more about interactive tables.';\n",
              "          element.innerHTML = '';\n",
              "          dataTable['output_type'] = 'display_data';\n",
              "          await google.colab.output.renderOutput(dataTable, element);\n",
              "          const docLink = document.createElement('div');\n",
              "          docLink.innerHTML = docLinkHtml;\n",
              "          element.appendChild(docLink);\n",
              "        }\n",
              "      </script>\n",
              "    </div>\n",
              "  </div>\n",
              "  "
            ]
          },
          "metadata": {},
          "execution_count": 3
        }
      ],
      "source": [
        "import pandas as pd\n",
        "f = pd.read_csv('/content/drive/MyDrive/emotion-detection/performance.csv')\n",
        "f"
      ]
    },
    {
      "cell_type": "code",
      "source": [
        "f.index = f['Unnamed: 0']\n",
        "f.drop('Unnamed: 0',axis=1,inplace=True)"
      ],
      "metadata": {
        "id": "2j501iYFCHz6"
      },
      "execution_count": null,
      "outputs": []
    },
    {
      "cell_type": "code",
      "source": [
        "f"
      ],
      "metadata": {
        "colab": {
          "base_uri": "https://localhost:8080/",
          "height": 237
        },
        "id": "2vty7mT8g2pe",
        "outputId": "ee265ad2-1e26-4e55-b2c2-36f26d79b9b6"
      },
      "execution_count": null,
      "outputs": [
        {
          "output_type": "execute_result",
          "data": {
            "text/plain": [
              "            accuracy  precision    recall  f1 score   roc-auc\n",
              "Unnamed: 0                                                   \n",
              "Dense       0.947896   0.941606  0.877551  0.908451  0.927412\n",
              "Cnn         0.970000   0.938462  0.945736  0.942085  0.962087\n",
              "Lstm        0.972000   0.930769  0.960317  0.945312  0.968127\n",
              "Cnn-Lstm    0.972000   0.938462  0.953125  0.945736  0.965810\n",
              "Bert        0.993318   0.987500  0.993711  0.990596  0.993407"
            ],
            "text/html": [
              "\n",
              "  <div id=\"df-c0173b73-e295-4d93-b217-8772efb54294\">\n",
              "    <div class=\"colab-df-container\">\n",
              "      <div>\n",
              "<style scoped>\n",
              "    .dataframe tbody tr th:only-of-type {\n",
              "        vertical-align: middle;\n",
              "    }\n",
              "\n",
              "    .dataframe tbody tr th {\n",
              "        vertical-align: top;\n",
              "    }\n",
              "\n",
              "    .dataframe thead th {\n",
              "        text-align: right;\n",
              "    }\n",
              "</style>\n",
              "<table border=\"1\" class=\"dataframe\">\n",
              "  <thead>\n",
              "    <tr style=\"text-align: right;\">\n",
              "      <th></th>\n",
              "      <th>accuracy</th>\n",
              "      <th>precision</th>\n",
              "      <th>recall</th>\n",
              "      <th>f1 score</th>\n",
              "      <th>roc-auc</th>\n",
              "    </tr>\n",
              "    <tr>\n",
              "      <th>Unnamed: 0</th>\n",
              "      <th></th>\n",
              "      <th></th>\n",
              "      <th></th>\n",
              "      <th></th>\n",
              "      <th></th>\n",
              "    </tr>\n",
              "  </thead>\n",
              "  <tbody>\n",
              "    <tr>\n",
              "      <th>Dense</th>\n",
              "      <td>0.947896</td>\n",
              "      <td>0.941606</td>\n",
              "      <td>0.877551</td>\n",
              "      <td>0.908451</td>\n",
              "      <td>0.927412</td>\n",
              "    </tr>\n",
              "    <tr>\n",
              "      <th>Cnn</th>\n",
              "      <td>0.970000</td>\n",
              "      <td>0.938462</td>\n",
              "      <td>0.945736</td>\n",
              "      <td>0.942085</td>\n",
              "      <td>0.962087</td>\n",
              "    </tr>\n",
              "    <tr>\n",
              "      <th>Lstm</th>\n",
              "      <td>0.972000</td>\n",
              "      <td>0.930769</td>\n",
              "      <td>0.960317</td>\n",
              "      <td>0.945312</td>\n",
              "      <td>0.968127</td>\n",
              "    </tr>\n",
              "    <tr>\n",
              "      <th>Cnn-Lstm</th>\n",
              "      <td>0.972000</td>\n",
              "      <td>0.938462</td>\n",
              "      <td>0.953125</td>\n",
              "      <td>0.945736</td>\n",
              "      <td>0.965810</td>\n",
              "    </tr>\n",
              "    <tr>\n",
              "      <th>Bert</th>\n",
              "      <td>0.993318</td>\n",
              "      <td>0.987500</td>\n",
              "      <td>0.993711</td>\n",
              "      <td>0.990596</td>\n",
              "      <td>0.993407</td>\n",
              "    </tr>\n",
              "  </tbody>\n",
              "</table>\n",
              "</div>\n",
              "      <button class=\"colab-df-convert\" onclick=\"convertToInteractive('df-c0173b73-e295-4d93-b217-8772efb54294')\"\n",
              "              title=\"Convert this dataframe to an interactive table.\"\n",
              "              style=\"display:none;\">\n",
              "        \n",
              "  <svg xmlns=\"http://www.w3.org/2000/svg\" height=\"24px\"viewBox=\"0 0 24 24\"\n",
              "       width=\"24px\">\n",
              "    <path d=\"M0 0h24v24H0V0z\" fill=\"none\"/>\n",
              "    <path d=\"M18.56 5.44l.94 2.06.94-2.06 2.06-.94-2.06-.94-.94-2.06-.94 2.06-2.06.94zm-11 1L8.5 8.5l.94-2.06 2.06-.94-2.06-.94L8.5 2.5l-.94 2.06-2.06.94zm10 10l.94 2.06.94-2.06 2.06-.94-2.06-.94-.94-2.06-.94 2.06-2.06.94z\"/><path d=\"M17.41 7.96l-1.37-1.37c-.4-.4-.92-.59-1.43-.59-.52 0-1.04.2-1.43.59L10.3 9.45l-7.72 7.72c-.78.78-.78 2.05 0 2.83L4 21.41c.39.39.9.59 1.41.59.51 0 1.02-.2 1.41-.59l7.78-7.78 2.81-2.81c.8-.78.8-2.07 0-2.86zM5.41 20L4 18.59l7.72-7.72 1.47 1.35L5.41 20z\"/>\n",
              "  </svg>\n",
              "      </button>\n",
              "      \n",
              "  <style>\n",
              "    .colab-df-container {\n",
              "      display:flex;\n",
              "      flex-wrap:wrap;\n",
              "      gap: 12px;\n",
              "    }\n",
              "\n",
              "    .colab-df-convert {\n",
              "      background-color: #E8F0FE;\n",
              "      border: none;\n",
              "      border-radius: 50%;\n",
              "      cursor: pointer;\n",
              "      display: none;\n",
              "      fill: #1967D2;\n",
              "      height: 32px;\n",
              "      padding: 0 0 0 0;\n",
              "      width: 32px;\n",
              "    }\n",
              "\n",
              "    .colab-df-convert:hover {\n",
              "      background-color: #E2EBFA;\n",
              "      box-shadow: 0px 1px 2px rgba(60, 64, 67, 0.3), 0px 1px 3px 1px rgba(60, 64, 67, 0.15);\n",
              "      fill: #174EA6;\n",
              "    }\n",
              "\n",
              "    [theme=dark] .colab-df-convert {\n",
              "      background-color: #3B4455;\n",
              "      fill: #D2E3FC;\n",
              "    }\n",
              "\n",
              "    [theme=dark] .colab-df-convert:hover {\n",
              "      background-color: #434B5C;\n",
              "      box-shadow: 0px 1px 3px 1px rgba(0, 0, 0, 0.15);\n",
              "      filter: drop-shadow(0px 1px 2px rgba(0, 0, 0, 0.3));\n",
              "      fill: #FFFFFF;\n",
              "    }\n",
              "  </style>\n",
              "\n",
              "      <script>\n",
              "        const buttonEl =\n",
              "          document.querySelector('#df-c0173b73-e295-4d93-b217-8772efb54294 button.colab-df-convert');\n",
              "        buttonEl.style.display =\n",
              "          google.colab.kernel.accessAllowed ? 'block' : 'none';\n",
              "\n",
              "        async function convertToInteractive(key) {\n",
              "          const element = document.querySelector('#df-c0173b73-e295-4d93-b217-8772efb54294');\n",
              "          const dataTable =\n",
              "            await google.colab.kernel.invokeFunction('convertToInteractive',\n",
              "                                                     [key], {});\n",
              "          if (!dataTable) return;\n",
              "\n",
              "          const docLinkHtml = 'Like what you see? Visit the ' +\n",
              "            '<a target=\"_blank\" href=https://colab.research.google.com/notebooks/data_table.ipynb>data table notebook</a>'\n",
              "            + ' to learn more about interactive tables.';\n",
              "          element.innerHTML = '';\n",
              "          dataTable['output_type'] = 'display_data';\n",
              "          await google.colab.output.renderOutput(dataTable, element);\n",
              "          const docLink = document.createElement('div');\n",
              "          docLink.innerHTML = docLinkHtml;\n",
              "          element.appendChild(docLink);\n",
              "        }\n",
              "      </script>\n",
              "    </div>\n",
              "  </div>\n",
              "  "
            ]
          },
          "metadata": {},
          "execution_count": 13
        }
      ]
    },
    {
      "cell_type": "code",
      "source": [
        "import seaborn as sns"
      ],
      "metadata": {
        "id": "-jypIn0kg6ZP"
      },
      "execution_count": null,
      "outputs": []
    },
    {
      "cell_type": "code",
      "source": [],
      "metadata": {
        "id": "sGbTgs0tg8dU"
      },
      "execution_count": null,
      "outputs": []
    },
    {
      "cell_type": "code",
      "source": [
        "o = []\n",
        "for i in f.columns:\n",
        "  for j in range(5):\n",
        "    o.append(i)\n",
        "o"
      ],
      "metadata": {
        "id": "7Vtbm-sohYGJ"
      },
      "execution_count": null,
      "outputs": []
    },
    {
      "cell_type": "code",
      "source": [
        "p = pd.concat([f['accuracy'],f['precision'],f['recall'],f['f1 score'],f['roc-auc']])\n",
        "p = pd.DataFrame(p)\n",
        "p['metric'] = o\n",
        "p"
      ],
      "metadata": {
        "id": "v5OxEUpEhndl"
      },
      "execution_count": null,
      "outputs": []
    },
    {
      "cell_type": "code",
      "source": [
        "p.columns = ['score','metric']"
      ],
      "metadata": {
        "id": "RlyRiq4th3lu"
      },
      "execution_count": null,
      "outputs": []
    },
    {
      "cell_type": "code",
      "source": [
        "p['model'] = p.index"
      ],
      "metadata": {
        "id": "8ufpejNqi0aU"
      },
      "execution_count": null,
      "outputs": []
    },
    {
      "cell_type": "code",
      "source": [
        "import matplotlib.pyplot as plt\n"
      ],
      "metadata": {
        "id": "dkc9ZLWAkXpZ"
      },
      "execution_count": null,
      "outputs": []
    },
    {
      "cell_type": "code",
      "source": [
        "sns.relplot(data=p, x=\"metric\", y=\"score\", hue=\"model\",style='model')\n",
        "plt.savefig('/content/drive/MyDrive/emotion-detection/performance2.png',bbox_inches='tight')\n",
        "p.to_csv('/content/drive/MyDrive/emotion-detection/performance2.csv')"
      ],
      "metadata": {
        "colab": {
          "base_uri": "https://localhost:8080/",
          "height": 506
        },
        "id": "_zYIr_cEh7cI",
        "outputId": "35c25620-a98f-4686-cec5-106bce96bea9"
      },
      "execution_count": null,
      "outputs": [
        {
          "output_type": "display_data",
          "data": {
            "text/plain": [
              "<Figure size 616x500 with 1 Axes>"
            ],
            "image/png": "[encoded data removed]"
          },
          "metadata": {}
        }
      ]
    },
    {
      "cell_type": "code",
      "source": [],
      "metadata": {
        "id": "ieByKXHvkZq-"
      },
      "execution_count": null,
      "outputs": []
    }
  ],
  "metadata": {
    "colab": {
      "provenance": [],
      "gpuType": "T4",
      "include_colab_link": true
    },
    "kernelspec": {
      "display_name": "Python 3",
      "name": "python3"
    },
    "language_info": {
      "name": "python"
    },
    "widgets": {
      "application/vnd.jupyter.widget-state+json": {
        "2b58664847304a2e8cac3d563d973b4e": {
          "model_module": "@jupyter-widgets/controls",
          "model_name": "HBoxModel",
          "model_module_version": "1.5.0",
          "state": {
            "_dom_classes": [],
            "_model_module": "@jupyter-widgets/controls",
            "_model_module_version": "1.5.0",
            "_model_name": "HBoxModel",
            "_view_count": null,
            "_view_module": "@jupyter-widgets/controls",
            "_view_module_version": "1.5.0",
            "_view_name": "HBoxView",
            "box_style": "",
            "children": [
              "IPY_MODEL_12ab303577384ac99652b46822523933",
              "IPY_MODEL_09fc49d3291a4449abceae39bdd3d858",
              "IPY_MODEL_dc242f2d3afc4948ae2efbb5896bd5a9"
            ],
            "layout": "IPY_MODEL_944d0c8cf7a34d1fa8a46f73e1a98218"
          }
        },
        "12ab303577384ac99652b46822523933": {
          "model_module": "@jupyter-widgets/controls",
          "model_name": "HTMLModel",
          "model_module_version": "1.5.0",
          "state": {
            "_dom_classes": [],
            "_model_module": "@jupyter-widgets/controls",
            "_model_module_version": "1.5.0",
            "_model_name": "HTMLModel",
            "_view_count": null,
            "_view_module": "@jupyter-widgets/controls",
            "_view_module_version": "1.5.0",
            "_view_name": "HTMLView",
            "description": "",
            "description_tooltip": null,
            "layout": "IPY_MODEL_c86658e71d8f47c49f0ecfa51cc5d6bc",
            "placeholder": "​",
            "style": "IPY_MODEL_db7aabbf73fd43da9c986f758bc7a522",
            "value": "Downloading (…)lve/main/config.json: 100%"
          }
        },
        "09fc49d3291a4449abceae39bdd3d858": {
          "model_module": "@jupyter-widgets/controls",
          "model_name": "FloatProgressModel",
          "model_module_version": "1.5.0",
          "state": {
            "_dom_classes": [],
            "_model_module": "@jupyter-widgets/controls",
            "_model_module_version": "1.5.0",
            "_model_name": "FloatProgressModel",
            "_view_count": null,
            "_view_module": "@jupyter-widgets/controls",
            "_view_module_version": "1.5.0",
            "_view_name": "ProgressView",
            "bar_style": "success",
            "description": "",
            "description_tooltip": null,
            "layout": "IPY_MODEL_7f4dd1474dc145bea6b1223d30891cb1",
            "max": 684,
            "min": 0,
            "orientation": "horizontal",
            "style": "IPY_MODEL_961cb148b8e44481a58812c8bad12397",
            "value": 684
          }
        },
        "dc242f2d3afc4948ae2efbb5896bd5a9": {
          "model_module": "@jupyter-widgets/controls",
          "model_name": "HTMLModel",
          "model_module_version": "1.5.0",
          "state": {
            "_dom_classes": [],
            "_model_module": "@jupyter-widgets/controls",
            "_model_module_version": "1.5.0",
            "_model_name": "HTMLModel",
            "_view_count": null,
            "_view_module": "@jupyter-widgets/controls",
            "_view_module_version": "1.5.0",
            "_view_name": "HTMLView",
            "description": "",
            "description_tooltip": null,
            "layout": "IPY_MODEL_76bc5c13384b43268a3b0936ed66a7e9",
            "placeholder": "​",
            "style": "IPY_MODEL_e337a76d65134a1da6f71fda820d6ecf",
            "value": " 684/684 [00:00&lt;00:00, 24.7kB/s]"
          }
        },
        "944d0c8cf7a34d1fa8a46f73e1a98218": {
          "model_module": "@jupyter-widgets/base",
          "model_name": "LayoutModel",
          "model_module_version": "1.2.0",
          "state": {
            "_model_module": "@jupyter-widgets/base",
            "_model_module_version": "1.2.0",
            "_model_name": "LayoutModel",
            "_view_count": null,
            "_view_module": "@jupyter-widgets/base",
            "_view_module_version": "1.2.0",
            "_view_name": "LayoutView",
            "align_content": null,
            "align_items": null,
            "align_self": null,
            "border": null,
            "bottom": null,
            "display": null,
            "flex": null,
            "flex_flow": null,
            "grid_area": null,
            "grid_auto_columns": null,
            "grid_auto_flow": null,
            "grid_auto_rows": null,
            "grid_column": null,
            "grid_gap": null,
            "grid_row": null,
            "grid_template_areas": null,
            "grid_template_columns": null,
            "grid_template_rows": null,
            "height": null,
            "justify_content": null,
            "justify_items": null,
            "left": null,
            "margin": null,
            "max_height": null,
            "max_width": null,
            "min_height": null,
            "min_width": null,
            "object_fit": null,
            "object_position": null,
            "order": null,
            "overflow": null,
            "overflow_x": null,
            "overflow_y": null,
            "padding": null,
            "right": null,
            "top": null,
            "visibility": null,
            "width": null
          }
        },
        "c86658e71d8f47c49f0ecfa51cc5d6bc": {
          "model_module": "@jupyter-widgets/base",
          "model_name": "LayoutModel",
          "model_module_version": "1.2.0",
          "state": {
            "_model_module": "@jupyter-widgets/base",
            "_model_module_version": "1.2.0",
            "_model_name": "LayoutModel",
            "_view_count": null,
            "_view_module": "@jupyter-widgets/base",
            "_view_module_version": "1.2.0",
            "_view_name": "LayoutView",
            "align_content": null,
            "align_items": null,
            "align_self": null,
            "border": null,
            "bottom": null,
            "display": null,
            "flex": null,
            "flex_flow": null,
            "grid_area": null,
            "grid_auto_columns": null,
            "grid_auto_flow": null,
            "grid_auto_rows": null,
            "grid_column": null,
            "grid_gap": null,
            "grid_row": null,
            "grid_template_areas": null,
            "grid_template_columns": null,
            "grid_template_rows": null,
            "height": null,
            "justify_content": null,
            "justify_items": null,
            "left": null,
            "margin": null,
            "max_height": null,
            "max_width": null,
            "min_height": null,
            "min_width": null,
            "object_fit": null,
            "object_position": null,
            "order": null,
            "overflow": null,
            "overflow_x": null,
            "overflow_y": null,
            "padding": null,
            "right": null,
            "top": null,
            "visibility": null,
            "width": null
          }
        },
        "db7aabbf73fd43da9c986f758bc7a522": {
          "model_module": "@jupyter-widgets/controls",
          "model_name": "DescriptionStyleModel",
          "model_module_version": "1.5.0",
          "state": {
            "_model_module": "@jupyter-widgets/controls",
            "_model_module_version": "1.5.0",
            "_model_name": "DescriptionStyleModel",
            "_view_count": null,
            "_view_module": "@jupyter-widgets/base",
            "_view_module_version": "1.2.0",
            "_view_name": "StyleView",
            "description_width": ""
          }
        },
        "7f4dd1474dc145bea6b1223d30891cb1": {
          "model_module": "@jupyter-widgets/base",
          "model_name": "LayoutModel",
          "model_module_version": "1.2.0",
          "state": {
            "_model_module": "@jupyter-widgets/base",
            "_model_module_version": "1.2.0",
            "_model_name": "LayoutModel",
            "_view_count": null,
            "_view_module": "@jupyter-widgets/base",
            "_view_module_version": "1.2.0",
            "_view_name": "LayoutView",
            "align_content": null,
            "align_items": null,
            "align_self": null,
            "border": null,
            "bottom": null,
            "display": null,
            "flex": null,
            "flex_flow": null,
            "grid_area": null,
            "grid_auto_columns": null,
            "grid_auto_flow": null,
            "grid_auto_rows": null,
            "grid_column": null,
            "grid_gap": null,
            "grid_row": null,
            "grid_template_areas": null,
            "grid_template_columns": null,
            "grid_template_rows": null,
            "height": null,
            "justify_content": null,
            "justify_items": null,
            "left": null,
            "margin": null,
            "max_height": null,
            "max_width": null,
            "min_height": null,
            "min_width": null,
            "object_fit": null,
            "object_position": null,
            "order": null,
            "overflow": null,
            "overflow_x": null,
            "overflow_y": null,
            "padding": null,
            "right": null,
            "top": null,
            "visibility": null,
            "width": null
          }
        },
        "961cb148b8e44481a58812c8bad12397": {
          "model_module": "@jupyter-widgets/controls",
          "model_name": "ProgressStyleModel",
          "model_module_version": "1.5.0",
          "state": {
            "_model_module": "@jupyter-widgets/controls",
            "_model_module_version": "1.5.0",
            "_model_name": "ProgressStyleModel",
            "_view_count": null,
            "_view_module": "@jupyter-widgets/base",
            "_view_module_version": "1.2.0",
            "_view_name": "StyleView",
            "bar_color": null,
            "description_width": ""
          }
        },
        "76bc5c13384b43268a3b0936ed66a7e9": {
          "model_module": "@jupyter-widgets/base",
          "model_name": "LayoutModel",
          "model_module_version": "1.2.0",
          "state": {
            "_model_module": "@jupyter-widgets/base",
            "_model_module_version": "1.2.0",
            "_model_name": "LayoutModel",
            "_view_count": null,
            "_view_module": "@jupyter-widgets/base",
            "_view_module_version": "1.2.0",
            "_view_name": "LayoutView",
            "align_content": null,
            "align_items": null,
            "align_self": null,
            "border": null,
            "bottom": null,
            "display": null,
            "flex": null,
            "flex_flow": null,
            "grid_area": null,
            "grid_auto_columns": null,
            "grid_auto_flow": null,
            "grid_auto_rows": null,
            "grid_column": null,
            "grid_gap": null,
            "grid_row": null,
            "grid_template_areas": null,
            "grid_template_columns": null,
            "grid_template_rows": null,
            "height": null,
            "justify_content": null,
            "justify_items": null,
            "left": null,
            "margin": null,
            "max_height": null,
            "max_width": null,
            "min_height": null,
            "min_width": null,
            "object_fit": null,
            "object_position": null,
            "order": null,
            "overflow": null,
            "overflow_x": null,
            "overflow_y": null,
            "padding": null,
            "right": null,
            "top": null,
            "visibility": null,
            "width": null
          }
        },
        "e337a76d65134a1da6f71fda820d6ecf": {
          "model_module": "@jupyter-widgets/controls",
          "model_name": "DescriptionStyleModel",
          "model_module_version": "1.5.0",
          "state": {
            "_model_module": "@jupyter-widgets/controls",
            "_model_module_version": "1.5.0",
            "_model_name": "DescriptionStyleModel",
            "_view_count": null,
            "_view_module": "@jupyter-widgets/base",
            "_view_module_version": "1.2.0",
            "_view_name": "StyleView",
            "description_width": ""
          }
        },
        "4373aa31af9e41608d007bb550fdf479": {
          "model_module": "@jupyter-widgets/controls",
          "model_name": "HBoxModel",
          "model_module_version": "1.5.0",
          "state": {
            "_dom_classes": [],
            "_model_module": "@jupyter-widgets/controls",
            "_model_module_version": "1.5.0",
            "_model_name": "HBoxModel",
            "_view_count": null,
            "_view_module": "@jupyter-widgets/controls",
            "_view_module_version": "1.5.0",
            "_view_name": "HBoxView",
            "box_style": "",
            "children": [
              "IPY_MODEL_330da9c63ee346afae49eb6da9971050",
              "IPY_MODEL_4cedc9f079d848feb69f04b5afbbf52f",
              "IPY_MODEL_d56b7e1a97754ab1bf8b2316b7784216"
            ],
            "layout": "IPY_MODEL_6e76b211293e41dfb9b8f4b006340fa7"
          }
        },
        "330da9c63ee346afae49eb6da9971050": {
          "model_module": "@jupyter-widgets/controls",
          "model_name": "HTMLModel",
          "model_module_version": "1.5.0",
          "state": {
            "_dom_classes": [],
            "_model_module": "@jupyter-widgets/controls",
            "_model_module_version": "1.5.0",
            "_model_name": "HTMLModel",
            "_view_count": null,
            "_view_module": "@jupyter-widgets/controls",
            "_view_module_version": "1.5.0",
            "_view_name": "HTMLView",
            "description": "",
            "description_tooltip": null,
            "layout": "IPY_MODEL_d0bc42b002ef48b6a365d772dd0ee1d7",
            "placeholder": "​",
            "style": "IPY_MODEL_ddb3201fe0ec47909d0b322e916bea1e",
            "value": "Downloading (…)ve/main/spiece.model: 100%"
          }
        },
        "4cedc9f079d848feb69f04b5afbbf52f": {
          "model_module": "@jupyter-widgets/controls",
          "model_name": "FloatProgressModel",
          "model_module_version": "1.5.0",
          "state": {
            "_dom_classes": [],
            "_model_module": "@jupyter-widgets/controls",
            "_model_module_version": "1.5.0",
            "_model_name": "FloatProgressModel",
            "_view_count": null,
            "_view_module": "@jupyter-widgets/controls",
            "_view_module_version": "1.5.0",
            "_view_name": "ProgressView",
            "bar_style": "success",
            "description": "",
            "description_tooltip": null,
            "layout": "IPY_MODEL_2fd1602122ac47fab245f7daaf09e53d",
            "max": 760289,
            "min": 0,
            "orientation": "horizontal",
            "style": "IPY_MODEL_e7b01dc1480344ca902d21b9c7de00da",
            "value": 760289
          }
        },
        "d56b7e1a97754ab1bf8b2316b7784216": {
          "model_module": "@jupyter-widgets/controls",
          "model_name": "HTMLModel",
          "model_module_version": "1.5.0",
          "state": {
            "_dom_classes": [],
            "_model_module": "@jupyter-widgets/controls",
            "_model_module_version": "1.5.0",
            "_model_name": "HTMLModel",
            "_view_count": null,
            "_view_module": "@jupyter-widgets/controls",
            "_view_module_version": "1.5.0",
            "_view_name": "HTMLView",
            "description": "",
            "description_tooltip": null,
            "layout": "IPY_MODEL_5a03b17c5bec451b9d0365ca1b2e9e16",
            "placeholder": "​",
            "style": "IPY_MODEL_b696bfae678049519687eeb2c2e8dddd",
            "value": " 760k/760k [00:00&lt;00:00, 13.6MB/s]"
          }
        },
        "6e76b211293e41dfb9b8f4b006340fa7": {
          "model_module": "@jupyter-widgets/base",
          "model_name": "LayoutModel",
          "model_module_version": "1.2.0",
          "state": {
            "_model_module": "@jupyter-widgets/base",
            "_model_module_version": "1.2.0",
            "_model_name": "LayoutModel",
            "_view_count": null,
            "_view_module": "@jupyter-widgets/base",
            "_view_module_version": "1.2.0",
            "_view_name": "LayoutView",
            "align_content": null,
            "align_items": null,
            "align_self": null,
            "border": null,
            "bottom": null,
            "display": null,
            "flex": null,
            "flex_flow": null,
            "grid_area": null,
            "grid_auto_columns": null,
            "grid_auto_flow": null,
            "grid_auto_rows": null,
            "grid_column": null,
            "grid_gap": null,
            "grid_row": null,
            "grid_template_areas": null,
            "grid_template_columns": null,
            "grid_template_rows": null,
            "height": null,
            "justify_content": null,
            "justify_items": null,
            "left": null,
            "margin": null,
            "max_height": null,
            "max_width": null,
            "min_height": null,
            "min_width": null,
            "object_fit": null,
            "object_position": null,
            "order": null,
            "overflow": null,
            "overflow_x": null,
            "overflow_y": null,
            "padding": null,
            "right": null,
            "top": null,
            "visibility": null,
            "width": null
          }
        },
        "d0bc42b002ef48b6a365d772dd0ee1d7": {
          "model_module": "@jupyter-widgets/base",
          "model_name": "LayoutModel",
          "model_module_version": "1.2.0",
          "state": {
            "_model_module": "@jupyter-widgets/base",
            "_model_module_version": "1.2.0",
            "_model_name": "LayoutModel",
            "_view_count": null,
            "_view_module": "@jupyter-widgets/base",
            "_view_module_version": "1.2.0",
            "_view_name": "LayoutView",
            "align_content": null,
            "align_items": null,
            "align_self": null,
            "border": null,
            "bottom": null,
            "display": null,
            "flex": null,
            "flex_flow": null,
            "grid_area": null,
            "grid_auto_columns": null,
            "grid_auto_flow": null,
            "grid_auto_rows": null,
            "grid_column": null,
            "grid_gap": null,
            "grid_row": null,
            "grid_template_areas": null,
            "grid_template_columns": null,
            "grid_template_rows": null,
            "height": null,
            "justify_content": null,
            "justify_items": null,
            "left": null,
            "margin": null,
            "max_height": null,
            "max_width": null,
            "min_height": null,
            "min_width": null,
            "object_fit": null,
            "object_position": null,
            "order": null,
            "overflow": null,
            "overflow_x": null,
            "overflow_y": null,
            "padding": null,
            "right": null,
            "top": null,
            "visibility": null,
            "width": null
          }
        },
        "ddb3201fe0ec47909d0b322e916bea1e": {
          "model_module": "@jupyter-widgets/controls",
          "model_name": "DescriptionStyleModel",
          "model_module_version": "1.5.0",
          "state": {
            "_model_module": "@jupyter-widgets/controls",
            "_model_module_version": "1.5.0",
            "_model_name": "DescriptionStyleModel",
            "_view_count": null,
            "_view_module": "@jupyter-widgets/base",
            "_view_module_version": "1.2.0",
            "_view_name": "StyleView",
            "description_width": ""
          }
        },
        "2fd1602122ac47fab245f7daaf09e53d": {
          "model_module": "@jupyter-widgets/base",
          "model_name": "LayoutModel",
          "model_module_version": "1.2.0",
          "state": {
            "_model_module": "@jupyter-widgets/base",
            "_model_module_version": "1.2.0",
            "_model_name": "LayoutModel",
            "_view_count": null,
            "_view_module": "@jupyter-widgets/base",
            "_view_module_version": "1.2.0",
            "_view_name": "LayoutView",
            "align_content": null,
            "align_items": null,
            "align_self": null,
            "border": null,
            "bottom": null,
            "display": null,
            "flex": null,
            "flex_flow": null,
            "grid_area": null,
            "grid_auto_columns": null,
            "grid_auto_flow": null,
            "grid_auto_rows": null,
            "grid_column": null,
            "grid_gap": null,
            "grid_row": null,
            "grid_template_areas": null,
            "grid_template_columns": null,
            "grid_template_rows": null,
            "height": null,
            "justify_content": null,
            "justify_items": null,
            "left": null,
            "margin": null,
            "max_height": null,
            "max_width": null,
            "min_height": null,
            "min_width": null,
            "object_fit": null,
            "object_position": null,
            "order": null,
            "overflow": null,
            "overflow_x": null,
            "overflow_y": null,
            "padding": null,
            "right": null,
            "top": null,
            "visibility": null,
            "width": null
          }
        },
        "e7b01dc1480344ca902d21b9c7de00da": {
          "model_module": "@jupyter-widgets/controls",
          "model_name": "ProgressStyleModel",
          "model_module_version": "1.5.0",
          "state": {
            "_model_module": "@jupyter-widgets/controls",
            "_model_module_version": "1.5.0",
            "_model_name": "ProgressStyleModel",
            "_view_count": null,
            "_view_module": "@jupyter-widgets/base",
            "_view_module_version": "1.2.0",
            "_view_name": "StyleView",
            "bar_color": null,
            "description_width": ""
          }
        },
        "5a03b17c5bec451b9d0365ca1b2e9e16": {
          "model_module": "@jupyter-widgets/base",
          "model_name": "LayoutModel",
          "model_module_version": "1.2.0",
          "state": {
            "_model_module": "@jupyter-widgets/base",
            "_model_module_version": "1.2.0",
            "_model_name": "LayoutModel",
            "_view_count": null,
            "_view_module": "@jupyter-widgets/base",
            "_view_module_version": "1.2.0",
            "_view_name": "LayoutView",
            "align_content": null,
            "align_items": null,
            "align_self": null,
            "border": null,
            "bottom": null,
            "display": null,
            "flex": null,
            "flex_flow": null,
            "grid_area": null,
            "grid_auto_columns": null,
            "grid_auto_flow": null,
            "grid_auto_rows": null,
            "grid_column": null,
            "grid_gap": null,
            "grid_row": null,
            "grid_template_areas": null,
            "grid_template_columns": null,
            "grid_template_rows": null,
            "height": null,
            "justify_content": null,
            "justify_items": null,
            "left": null,
            "margin": null,
            "max_height": null,
            "max_width": null,
            "min_height": null,
            "min_width": null,
            "object_fit": null,
            "object_position": null,
            "order": null,
            "overflow": null,
            "overflow_x": null,
            "overflow_y": null,
            "padding": null,
            "right": null,
            "top": null,
            "visibility": null,
            "width": null
          }
        },
        "b696bfae678049519687eeb2c2e8dddd": {
          "model_module": "@jupyter-widgets/controls",
          "model_name": "DescriptionStyleModel",
          "model_module_version": "1.5.0",
          "state": {
            "_model_module": "@jupyter-widgets/controls",
            "_model_module_version": "1.5.0",
            "_model_name": "DescriptionStyleModel",
            "_view_count": null,
            "_view_module": "@jupyter-widgets/base",
            "_view_module_version": "1.2.0",
            "_view_name": "StyleView",
            "description_width": ""
          }
        },
        "23141bfd484e45c89ca7ba5d9c869ab4": {
          "model_module": "@jupyter-widgets/controls",
          "model_name": "HBoxModel",
          "model_module_version": "1.5.0",
          "state": {
            "_dom_classes": [],
            "_model_module": "@jupyter-widgets/controls",
            "_model_module_version": "1.5.0",
            "_model_name": "HBoxModel",
            "_view_count": null,
            "_view_module": "@jupyter-widgets/controls",
            "_view_module_version": "1.5.0",
            "_view_name": "HBoxView",
            "box_style": "",
            "children": [
              "IPY_MODEL_7637a8f6805440f88fc94f62d3656d99",
              "IPY_MODEL_7392e73b32a94c8a907aa81843b7796d",
              "IPY_MODEL_f3e9d0e83fcc4b7a855d437fc9ba87c4"
            ],
            "layout": "IPY_MODEL_9bb2e89b07ca4d678fc50a6117f25a05"
          }
        },
        "7637a8f6805440f88fc94f62d3656d99": {
          "model_module": "@jupyter-widgets/controls",
          "model_name": "HTMLModel",
          "model_module_version": "1.5.0",
          "state": {
            "_dom_classes": [],
            "_model_module": "@jupyter-widgets/controls",
            "_model_module_version": "1.5.0",
            "_model_name": "HTMLModel",
            "_view_count": null,
            "_view_module": "@jupyter-widgets/controls",
            "_view_module_version": "1.5.0",
            "_view_name": "HTMLView",
            "description": "",
            "description_tooltip": null,
            "layout": "IPY_MODEL_f3756801b15448c2a9eaa88e3825fd58",
            "placeholder": "​",
            "style": "IPY_MODEL_967ea1ab9a4a4eaeb6ca3f733a53d0e5",
            "value": "Downloading (…)/main/tokenizer.json: 100%"
          }
        },
        "7392e73b32a94c8a907aa81843b7796d": {
          "model_module": "@jupyter-widgets/controls",
          "model_name": "FloatProgressModel",
          "model_module_version": "1.5.0",
          "state": {
            "_dom_classes": [],
            "_model_module": "@jupyter-widgets/controls",
            "_model_module_version": "1.5.0",
            "_model_name": "FloatProgressModel",
            "_view_count": null,
            "_view_module": "@jupyter-widgets/controls",
            "_view_module_version": "1.5.0",
            "_view_name": "ProgressView",
            "bar_style": "success",
            "description": "",
            "description_tooltip": null,
            "layout": "IPY_MODEL_392e48eb843c43da9ab6f4a1c2daea56",
            "max": 1312669,
            "min": 0,
            "orientation": "horizontal",
            "style": "IPY_MODEL_b425e1b8fd334d4db9078be5bf35a9c9",
            "value": 1312669
          }
        },
        "f3e9d0e83fcc4b7a855d437fc9ba87c4": {
          "model_module": "@jupyter-widgets/controls",
          "model_name": "HTMLModel",
          "model_module_version": "1.5.0",
          "state": {
            "_dom_classes": [],
            "_model_module": "@jupyter-widgets/controls",
            "_model_module_version": "1.5.0",
            "_model_name": "HTMLModel",
            "_view_count": null,
            "_view_module": "@jupyter-widgets/controls",
            "_view_module_version": "1.5.0",
            "_view_name": "HTMLView",
            "description": "",
            "description_tooltip": null,
            "layout": "IPY_MODEL_8af9ec5d06a54acfbeca61f6193dc5dd",
            "placeholder": "​",
            "style": "IPY_MODEL_7a34006386c8466dbcce53c865d524c2",
            "value": " 1.31M/1.31M [00:00&lt;00:00, 4.78MB/s]"
          }
        },
        "9bb2e89b07ca4d678fc50a6117f25a05": {
          "model_module": "@jupyter-widgets/base",
          "model_name": "LayoutModel",
          "model_module_version": "1.2.0",
          "state": {
            "_model_module": "@jupyter-widgets/base",
            "_model_module_version": "1.2.0",
            "_model_name": "LayoutModel",
            "_view_count": null,
            "_view_module": "@jupyter-widgets/base",
            "_view_module_version": "1.2.0",
            "_view_name": "LayoutView",
            "align_content": null,
            "align_items": null,
            "align_self": null,
            "border": null,
            "bottom": null,
            "display": null,
            "flex": null,
            "flex_flow": null,
            "grid_area": null,
            "grid_auto_columns": null,
            "grid_auto_flow": null,
            "grid_auto_rows": null,
            "grid_column": null,
            "grid_gap": null,
            "grid_row": null,
            "grid_template_areas": null,
            "grid_template_columns": null,
            "grid_template_rows": null,
            "height": null,
            "justify_content": null,
            "justify_items": null,
            "left": null,
            "margin": null,
            "max_height": null,
            "max_width": null,
            "min_height": null,
            "min_width": null,
            "object_fit": null,
            "object_position": null,
            "order": null,
            "overflow": null,
            "overflow_x": null,
            "overflow_y": null,
            "padding": null,
            "right": null,
            "top": null,
            "visibility": null,
            "width": null
          }
        },
        "f3756801b15448c2a9eaa88e3825fd58": {
          "model_module": "@jupyter-widgets/base",
          "model_name": "LayoutModel",
          "model_module_version": "1.2.0",
          "state": {
            "_model_module": "@jupyter-widgets/base",
            "_model_module_version": "1.2.0",
            "_model_name": "LayoutModel",
            "_view_count": null,
            "_view_module": "@jupyter-widgets/base",
            "_view_module_version": "1.2.0",
            "_view_name": "LayoutView",
            "align_content": null,
            "align_items": null,
            "align_self": null,
            "border": null,
            "bottom": null,
            "display": null,
            "flex": null,
            "flex_flow": null,
            "grid_area": null,
            "grid_auto_columns": null,
            "grid_auto_flow": null,
            "grid_auto_rows": null,
            "grid_column": null,
            "grid_gap": null,
            "grid_row": null,
            "grid_template_areas": null,
            "grid_template_columns": null,
            "grid_template_rows": null,
            "height": null,
            "justify_content": null,
            "justify_items": null,
            "left": null,
            "margin": null,
            "max_height": null,
            "max_width": null,
            "min_height": null,
            "min_width": null,
            "object_fit": null,
            "object_position": null,
            "order": null,
            "overflow": null,
            "overflow_x": null,
            "overflow_y": null,
            "padding": null,
            "right": null,
            "top": null,
            "visibility": null,
            "width": null
          }
        },
        "967ea1ab9a4a4eaeb6ca3f733a53d0e5": {
          "model_module": "@jupyter-widgets/controls",
          "model_name": "DescriptionStyleModel",
          "model_module_version": "1.5.0",
          "state": {
            "_model_module": "@jupyter-widgets/controls",
            "_model_module_version": "1.5.0",
            "_model_name": "DescriptionStyleModel",
            "_view_count": null,
            "_view_module": "@jupyter-widgets/base",
            "_view_module_version": "1.2.0",
            "_view_name": "StyleView",
            "description_width": ""
          }
        },
        "392e48eb843c43da9ab6f4a1c2daea56": {
          "model_module": "@jupyter-widgets/base",
          "model_name": "LayoutModel",
          "model_module_version": "1.2.0",
          "state": {
            "_model_module": "@jupyter-widgets/base",
            "_model_module_version": "1.2.0",
            "_model_name": "LayoutModel",
            "_view_count": null,
            "_view_module": "@jupyter-widgets/base",
            "_view_module_version": "1.2.0",
            "_view_name": "LayoutView",
            "align_content": null,
            "align_items": null,
            "align_self": null,
            "border": null,
            "bottom": null,
            "display": null,
            "flex": null,
            "flex_flow": null,
            "grid_area": null,
            "grid_auto_columns": null,
            "grid_auto_flow": null,
            "grid_auto_rows": null,
            "grid_column": null,
            "grid_gap": null,
            "grid_row": null,
            "grid_template_areas": null,
            "grid_template_columns": null,
            "grid_template_rows": null,
            "height": null,
            "justify_content": null,
            "justify_items": null,
            "left": null,
            "margin": null,
            "max_height": null,
            "max_width": null,
            "min_height": null,
            "min_width": null,
            "object_fit": null,
            "object_position": null,
            "order": null,
            "overflow": null,
            "overflow_x": null,
            "overflow_y": null,
            "padding": null,
            "right": null,
            "top": null,
            "visibility": null,
            "width": null
          }
        },
        "b425e1b8fd334d4db9078be5bf35a9c9": {
          "model_module": "@jupyter-widgets/controls",
          "model_name": "ProgressStyleModel",
          "model_module_version": "1.5.0",
          "state": {
            "_model_module": "@jupyter-widgets/controls",
            "_model_module_version": "1.5.0",
            "_model_name": "ProgressStyleModel",
            "_view_count": null,
            "_view_module": "@jupyter-widgets/base",
            "_view_module_version": "1.2.0",
            "_view_name": "StyleView",
            "bar_color": null,
            "description_width": ""
          }
        },
        "8af9ec5d06a54acfbeca61f6193dc5dd": {
          "model_module": "@jupyter-widgets/base",
          "model_name": "LayoutModel",
          "model_module_version": "1.2.0",
          "state": {
            "_model_module": "@jupyter-widgets/base",
            "_model_module_version": "1.2.0",
            "_model_name": "LayoutModel",
            "_view_count": null,
            "_view_module": "@jupyter-widgets/base",
            "_view_module_version": "1.2.0",
            "_view_name": "LayoutView",
            "align_content": null,
            "align_items": null,
            "align_self": null,
            "border": null,
            "bottom": null,
            "display": null,
            "flex": null,
            "flex_flow": null,
            "grid_area": null,
            "grid_auto_columns": null,
            "grid_auto_flow": null,
            "grid_auto_rows": null,
            "grid_column": null,
            "grid_gap": null,
            "grid_row": null,
            "grid_template_areas": null,
            "grid_template_columns": null,
            "grid_template_rows": null,
            "height": null,
            "justify_content": null,
            "justify_items": null,
            "left": null,
            "margin": null,
            "max_height": null,
            "max_width": null,
            "min_height": null,
            "min_width": null,
            "object_fit": null,
            "object_position": null,
            "order": null,
            "overflow": null,
            "overflow_x": null,
            "overflow_y": null,
            "padding": null,
            "right": null,
            "top": null,
            "visibility": null,
            "width": null
          }
        },
        "7a34006386c8466dbcce53c865d524c2": {
          "model_module": "@jupyter-widgets/controls",
          "model_name": "DescriptionStyleModel",
          "model_module_version": "1.5.0",
          "state": {
            "_model_module": "@jupyter-widgets/controls",
            "_model_module_version": "1.5.0",
            "_model_name": "DescriptionStyleModel",
            "_view_count": null,
            "_view_module": "@jupyter-widgets/base",
            "_view_module_version": "1.2.0",
            "_view_name": "StyleView",
            "description_width": ""
          }
        },
        "fd96fd4418a043e5bac6913f18ff96f1": {
          "model_module": "@jupyter-widgets/controls",
          "model_name": "HBoxModel",
          "model_module_version": "1.5.0",
          "state": {
            "_dom_classes": [],
            "_model_module": "@jupyter-widgets/controls",
            "_model_module_version": "1.5.0",
            "_model_name": "HBoxModel",
            "_view_count": null,
            "_view_module": "@jupyter-widgets/controls",
            "_view_module_version": "1.5.0",
            "_view_name": "HBoxView",
            "box_style": "",
            "children": [
              "IPY_MODEL_4388308436cf45b89c4f6febee9574f4",
              "IPY_MODEL_a1d6719b974d4fd694eff3e4b0486ad2",
              "IPY_MODEL_eedbcb33b52e462fa006f661c4bb46b9"
            ],
            "layout": "IPY_MODEL_5523f6e208cf4faeb9027e7e80ffdb54"
          }
        },
        "4388308436cf45b89c4f6febee9574f4": {
          "model_module": "@jupyter-widgets/controls",
          "model_name": "HTMLModel",
          "model_module_version": "1.5.0",
          "state": {
            "_dom_classes": [],
            "_model_module": "@jupyter-widgets/controls",
            "_model_module_version": "1.5.0",
            "_model_name": "HTMLModel",
            "_view_count": null,
            "_view_module": "@jupyter-widgets/controls",
            "_view_module_version": "1.5.0",
            "_view_name": "HTMLView",
            "description": "",
            "description_tooltip": null,
            "layout": "IPY_MODEL_4f907297571c4aa8ad76806c74938358",
            "placeholder": "​",
            "style": "IPY_MODEL_278c9ac5d9034ff0ac0328d99546b215",
            "value": "Downloading model.safetensors: 100%"
          }
        },
        "a1d6719b974d4fd694eff3e4b0486ad2": {
          "model_module": "@jupyter-widgets/controls",
          "model_name": "FloatProgressModel",
          "model_module_version": "1.5.0",
          "state": {
            "_dom_classes": [],
            "_model_module": "@jupyter-widgets/controls",
            "_model_module_version": "1.5.0",
            "_model_name": "FloatProgressModel",
            "_view_count": null,
            "_view_module": "@jupyter-widgets/controls",
            "_view_module_version": "1.5.0",
            "_view_name": "ProgressView",
            "bar_style": "success",
            "description": "",
            "description_tooltip": null,
            "layout": "IPY_MODEL_72598376946f44db9f8900c4c10df5e2",
            "max": 47372894,
            "min": 0,
            "orientation": "horizontal",
            "style": "IPY_MODEL_a294cf6b419f41c38754913c5522f104",
            "value": 47372894
          }
        },
        "eedbcb33b52e462fa006f661c4bb46b9": {
          "model_module": "@jupyter-widgets/controls",
          "model_name": "HTMLModel",
          "model_module_version": "1.5.0",
          "state": {
            "_dom_classes": [],
            "_model_module": "@jupyter-widgets/controls",
            "_model_module_version": "1.5.0",
            "_model_name": "HTMLModel",
            "_view_count": null,
            "_view_module": "@jupyter-widgets/controls",
            "_view_module_version": "1.5.0",
            "_view_name": "HTMLView",
            "description": "",
            "description_tooltip": null,
            "layout": "IPY_MODEL_d7f29421c8e14cb19cc4e8d6521dc2ec",
            "placeholder": "​",
            "style": "IPY_MODEL_b6c1d3bd5c3b4e5496e2ae965175796f",
            "value": " 47.4M/47.4M [00:00&lt;00:00, 147MB/s]"
          }
        },
        "5523f6e208cf4faeb9027e7e80ffdb54": {
          "model_module": "@jupyter-widgets/base",
          "model_name": "LayoutModel",
          "model_module_version": "1.2.0",
          "state": {
            "_model_module": "@jupyter-widgets/base",
            "_model_module_version": "1.2.0",
            "_model_name": "LayoutModel",
            "_view_count": null,
            "_view_module": "@jupyter-widgets/base",
            "_view_module_version": "1.2.0",
            "_view_name": "LayoutView",
            "align_content": null,
            "align_items": null,
            "align_self": null,
            "border": null,
            "bottom": null,
            "display": null,
            "flex": null,
            "flex_flow": null,
            "grid_area": null,
            "grid_auto_columns": null,
            "grid_auto_flow": null,
            "grid_auto_rows": null,
            "grid_column": null,
            "grid_gap": null,
            "grid_row": null,
            "grid_template_areas": null,
            "grid_template_columns": null,
            "grid_template_rows": null,
            "height": null,
            "justify_content": null,
            "justify_items": null,
            "left": null,
            "margin": null,
            "max_height": null,
            "max_width": null,
            "min_height": null,
            "min_width": null,
            "object_fit": null,
            "object_position": null,
            "order": null,
            "overflow": null,
            "overflow_x": null,
            "overflow_y": null,
            "padding": null,
            "right": null,
            "top": null,
            "visibility": null,
            "width": null
          }
        },
        "4f907297571c4aa8ad76806c74938358": {
          "model_module": "@jupyter-widgets/base",
          "model_name": "LayoutModel",
          "model_module_version": "1.2.0",
          "state": {
            "_model_module": "@jupyter-widgets/base",
            "_model_module_version": "1.2.0",
            "_model_name": "LayoutModel",
            "_view_count": null,
            "_view_module": "@jupyter-widgets/base",
            "_view_module_version": "1.2.0",
            "_view_name": "LayoutView",
            "align_content": null,
            "align_items": null,
            "align_self": null,
            "border": null,
            "bottom": null,
            "display": null,
            "flex": null,
            "flex_flow": null,
            "grid_area": null,
            "grid_auto_columns": null,
            "grid_auto_flow": null,
            "grid_auto_rows": null,
            "grid_column": null,
            "grid_gap": null,
            "grid_row": null,
            "grid_template_areas": null,
            "grid_template_columns": null,
            "grid_template_rows": null,
            "height": null,
            "justify_content": null,
            "justify_items": null,
            "left": null,
            "margin": null,
            "max_height": null,
            "max_width": null,
            "min_height": null,
            "min_width": null,
            "object_fit": null,
            "object_position": null,
            "order": null,
            "overflow": null,
            "overflow_x": null,
            "overflow_y": null,
            "padding": null,
            "right": null,
            "top": null,
            "visibility": null,
            "width": null
          }
        },
        "278c9ac5d9034ff0ac0328d99546b215": {
          "model_module": "@jupyter-widgets/controls",
          "model_name": "DescriptionStyleModel",
          "model_module_version": "1.5.0",
          "state": {
            "_model_module": "@jupyter-widgets/controls",
            "_model_module_version": "1.5.0",
            "_model_name": "DescriptionStyleModel",
            "_view_count": null,
            "_view_module": "@jupyter-widgets/base",
            "_view_module_version": "1.2.0",
            "_view_name": "StyleView",
            "description_width": ""
          }
        },
        "72598376946f44db9f8900c4c10df5e2": {
          "model_module": "@jupyter-widgets/base",
          "model_name": "LayoutModel",
          "model_module_version": "1.2.0",
          "state": {
            "_model_module": "@jupyter-widgets/base",
            "_model_module_version": "1.2.0",
            "_model_name": "LayoutModel",
            "_view_count": null,
            "_view_module": "@jupyter-widgets/base",
            "_view_module_version": "1.2.0",
            "_view_name": "LayoutView",
            "align_content": null,
            "align_items": null,
            "align_self": null,
            "border": null,
            "bottom": null,
            "display": null,
            "flex": null,
            "flex_flow": null,
            "grid_area": null,
            "grid_auto_columns": null,
            "grid_auto_flow": null,
            "grid_auto_rows": null,
            "grid_column": null,
            "grid_gap": null,
            "grid_row": null,
            "grid_template_areas": null,
            "grid_template_columns": null,
            "grid_template_rows": null,
            "height": null,
            "justify_content": null,
            "justify_items": null,
            "left": null,
            "margin": null,
            "max_height": null,
            "max_width": null,
            "min_height": null,
            "min_width": null,
            "object_fit": null,
            "object_position": null,
            "order": null,
            "overflow": null,
            "overflow_x": null,
            "overflow_y": null,
            "padding": null,
            "right": null,
            "top": null,
            "visibility": null,
            "width": null
          }
        },
        "a294cf6b419f41c38754913c5522f104": {
          "model_module": "@jupyter-widgets/controls",
          "model_name": "ProgressStyleModel",
          "model_module_version": "1.5.0",
          "state": {
            "_model_module": "@jupyter-widgets/controls",
            "_model_module_version": "1.5.0",
            "_model_name": "ProgressStyleModel",
            "_view_count": null,
            "_view_module": "@jupyter-widgets/base",
            "_view_module_version": "1.2.0",
            "_view_name": "StyleView",
            "bar_color": null,
            "description_width": ""
          }
        },
        "d7f29421c8e14cb19cc4e8d6521dc2ec": {
          "model_module": "@jupyter-widgets/base",
          "model_name": "LayoutModel",
          "model_module_version": "1.2.0",
          "state": {
            "_model_module": "@jupyter-widgets/base",
            "_model_module_version": "1.2.0",
            "_model_name": "LayoutModel",
            "_view_count": null,
            "_view_module": "@jupyter-widgets/base",
            "_view_module_version": "1.2.0",
            "_view_name": "LayoutView",
            "align_content": null,
            "align_items": null,
            "align_self": null,
            "border": null,
            "bottom": null,
            "display": null,
            "flex": null,
            "flex_flow": null,
            "grid_area": null,
            "grid_auto_columns": null,
            "grid_auto_flow": null,
            "grid_auto_rows": null,
            "grid_column": null,
            "grid_gap": null,
            "grid_row": null,
            "grid_template_areas": null,
            "grid_template_columns": null,
            "grid_template_rows": null,
            "height": null,
            "justify_content": null,
            "justify_items": null,
            "left": null,
            "margin": null,
            "max_height": null,
            "max_width": null,
            "min_height": null,
            "min_width": null,
            "object_fit": null,
            "object_position": null,
            "order": null,
            "overflow": null,
            "overflow_x": null,
            "overflow_y": null,
            "padding": null,
            "right": null,
            "top": null,
            "visibility": null,
            "width": null
          }
        },
        "b6c1d3bd5c3b4e5496e2ae965175796f": {
          "model_module": "@jupyter-widgets/controls",
          "model_name": "DescriptionStyleModel",
          "model_module_version": "1.5.0",
          "state": {
            "_model_module": "@jupyter-widgets/controls",
            "_model_module_version": "1.5.0",
            "_model_name": "DescriptionStyleModel",
            "_view_count": null,
            "_view_module": "@jupyter-widgets/base",
            "_view_module_version": "1.2.0",
            "_view_name": "StyleView",
            "description_width": ""
          }
        }
      }
    },
    "accelerator": "GPU"
  },
  "nbformat": 4,
  "nbformat_minor": 0
}