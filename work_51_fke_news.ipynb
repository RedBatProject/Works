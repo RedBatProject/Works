{
  "cells": [
    {
      "cell_type": "markdown",
      "metadata": {
        "id": "view-in-github",
        "colab_type": "text"
      },
      "source": [
        "<a href=\"https://colab.research.google.com/github/RedBatProject/Works/blob/main/work_51_fke_news.ipynb\" target=\"_parent\"><img src=\"https://colab.research.google.com/assets/colab-badge.svg\" alt=\"Open In Colab\"/></a>"
      ]
    },
    {
      "cell_type": "markdown",
      "metadata": {
        "id": "41rWj4DI8ak1"
      },
      "source": [
        "# Imports"
      ]
    },
    {
      "cell_type": "code",
      "execution_count": 1,
      "metadata": {
        "colab": {
          "base_uri": "https://localhost:8080/"
        },
        "id": "hvVumHzzyM0B",
        "outputId": "85fe7f7d-debd-448b-cd25-7b9dab5e305c"
      },
      "outputs": [
        {
          "output_type": "stream",
          "name": "stdout",
          "text": [
            "Requirement already satisfied: transformers in /usr/local/lib/python3.10/dist-packages (4.33.2)\n",
            "Requirement already satisfied: filelock in /usr/local/lib/python3.10/dist-packages (from transformers) (3.12.2)\n",
            "Requirement already satisfied: huggingface-hub<1.0,>=0.15.1 in /usr/local/lib/python3.10/dist-packages (from transformers) (0.17.2)\n",
            "Requirement already satisfied: numpy>=1.17 in /usr/local/lib/python3.10/dist-packages (from transformers) (1.23.5)\n",
            "Requirement already satisfied: packaging>=20.0 in /usr/local/lib/python3.10/dist-packages (from transformers) (23.1)\n",
            "Requirement already satisfied: pyyaml>=5.1 in /usr/local/lib/python3.10/dist-packages (from transformers) (6.0.1)\n",
            "Requirement already satisfied: regex!=2019.12.17 in /usr/local/lib/python3.10/dist-packages (from transformers) (2023.6.3)\n",
            "Requirement already satisfied: requests in /usr/local/lib/python3.10/dist-packages (from transformers) (2.31.0)\n",
            "Requirement already satisfied: tokenizers!=0.11.3,<0.14,>=0.11.1 in /usr/local/lib/python3.10/dist-packages (from transformers) (0.13.3)\n",
            "Requirement already satisfied: safetensors>=0.3.1 in /usr/local/lib/python3.10/dist-packages (from transformers) (0.3.3)\n",
            "Requirement already satisfied: tqdm>=4.27 in /usr/local/lib/python3.10/dist-packages (from transformers) (4.66.1)\n",
            "Requirement already satisfied: fsspec in /usr/local/lib/python3.10/dist-packages (from huggingface-hub<1.0,>=0.15.1->transformers) (2023.6.0)\n",
            "Requirement already satisfied: typing-extensions>=3.7.4.3 in /usr/local/lib/python3.10/dist-packages (from huggingface-hub<1.0,>=0.15.1->transformers) (4.5.0)\n",
            "Requirement already satisfied: charset-normalizer<4,>=2 in /usr/local/lib/python3.10/dist-packages (from requests->transformers) (3.2.0)\n",
            "Requirement already satisfied: idna<4,>=2.5 in /usr/local/lib/python3.10/dist-packages (from requests->transformers) (3.4)\n",
            "Requirement already satisfied: urllib3<3,>=1.21.1 in /usr/local/lib/python3.10/dist-packages (from requests->transformers) (2.0.4)\n",
            "Requirement already satisfied: certifi>=2017.4.17 in /usr/local/lib/python3.10/dist-packages (from requests->transformers) (2023.7.22)\n"
          ]
        }
      ],
      "source": [
        "!pip install transformers"
      ]
    },
    {
      "cell_type": "code",
      "execution_count": 2,
      "metadata": {
        "id": "nk_ca4ABsdNq"
      },
      "outputs": [],
      "source": [
        "import pandas as pd\n",
        "import seaborn as sns\n",
        "import matplotlib.pyplot as plt\n",
        "import nltk\n",
        "import numpy as np\n",
        "from PIL import Image\n",
        "from wordcloud import WordCloud,STOPWORDS\n",
        "from collections import Counter\n",
        "from itertools import chain\n",
        "import tensorflow as tf\n",
        "# from transformers import XLNetTokenizer, TFXLNetForSequenceClassification\n",
        "# from transformers import XLNetTokenizer, TFXLNetModel\n",
        "from sklearn.model_selection import train_test_split\n",
        "from tensorflow.keras.optimizers import Adam\n",
        "from sklearn.metrics import confusion_matrix,classification_report\n",
        "from sklearn.metrics import roc_curve, auc, precision_recall_curve,average_precision_score\n",
        "from sklearn.metrics import roc_auc_score\n",
        "from sklearn.metrics import cohen_kappa_score, matthews_corrcoef, log_loss\n",
        "from tensorflow.keras.callbacks import EarlyStopping,ReduceLROnPlateau\n",
        "from tensorflow.keras.utils import plot_model\n",
        "%matplotlib inline"
      ]
    },
    {
      "cell_type": "code",
      "execution_count": 3,
      "metadata": {
        "id": "Pw0aPVACyA5q"
      },
      "outputs": [],
      "source": [
        "import plotly.express as px\n",
        "import plotly.graph_objs as go\n",
        "import plotly.offline as pyo\n",
        "from plotly.subplots import make_subplots"
      ]
    },
    {
      "cell_type": "markdown",
      "metadata": {
        "id": "kEwz4MtDsdNu"
      },
      "source": [
        "# Load Data"
      ]
    },
    {
      "cell_type": "code",
      "execution_count": 4,
      "metadata": {
        "colab": {
          "base_uri": "https://localhost:8080/",
          "height": 97
        },
        "id": "Z7nlpDQQowJS",
        "outputId": "8df24837-6163-48b0-88fa-fbd0819b53fd"
      },
      "outputs": [
        {
          "output_type": "display_data",
          "data": {
            "text/plain": [
              "<IPython.core.display.HTML object>"
            ],
            "text/html": [
              "\n",
              "     <input type=\"file\" id=\"files-4ef297db-dc10-4a2d-97ed-3e03ef6d62d2\" name=\"files[]\" multiple disabled\n",
              "        style=\"border:none\" />\n",
              "     <output id=\"result-4ef297db-dc10-4a2d-97ed-3e03ef6d62d2\">\n",
              "      Upload widget is only available when the cell has been executed in the\n",
              "      current browser session. Please rerun this cell to enable.\n",
              "      </output>\n",
              "      <script>// Copyright 2017 Google LLC\n",
              "//\n",
              "// Licensed under the Apache License, Version 2.0 (the \"License\");\n",
              "// you may not use this file except in compliance with the License.\n",
              "// You may obtain a copy of the License at\n",
              "//\n",
              "//      http://www.apache.org/licenses/LICENSE-2.0\n",
              "//\n",
              "// Unless required by applicable law or agreed to in writing, software\n",
              "// distributed under the License is distributed on an \"AS IS\" BASIS,\n",
              "// WITHOUT WARRANTIES OR CONDITIONS OF ANY KIND, either express or implied.\n",
              "// See the License for the specific language governing permissions and\n",
              "// limitations under the License.\n",
              "\n",
              "/**\n",
              " * @fileoverview Helpers for google.colab Python module.\n",
              " */\n",
              "(function(scope) {\n",
              "function span(text, styleAttributes = {}) {\n",
              "  const element = document.createElement('span');\n",
              "  element.textContent = text;\n",
              "  for (const key of Object.keys(styleAttributes)) {\n",
              "    element.style[key] = styleAttributes[key];\n",
              "  }\n",
              "  return element;\n",
              "}\n",
              "\n",
              "// Max number of bytes which will be uploaded at a time.\n",
              "const MAX_PAYLOAD_SIZE = 100 * 1024;\n",
              "\n",
              "function _uploadFiles(inputId, outputId) {\n",
              "  const steps = uploadFilesStep(inputId, outputId);\n",
              "  const outputElement = document.getElementById(outputId);\n",
              "  // Cache steps on the outputElement to make it available for the next call\n",
              "  // to uploadFilesContinue from Python.\n",
              "  outputElement.steps = steps;\n",
              "\n",
              "  return _uploadFilesContinue(outputId);\n",
              "}\n",
              "\n",
              "// This is roughly an async generator (not supported in the browser yet),\n",
              "// where there are multiple asynchronous steps and the Python side is going\n",
              "// to poll for completion of each step.\n",
              "// This uses a Promise to block the python side on completion of each step,\n",
              "// then passes the result of the previous step as the input to the next step.\n",
              "function _uploadFilesContinue(outputId) {\n",
              "  const outputElement = document.getElementById(outputId);\n",
              "  const steps = outputElement.steps;\n",
              "\n",
              "  const next = steps.next(outputElement.lastPromiseValue);\n",
              "  return Promise.resolve(next.value.promise).then((value) => {\n",
              "    // Cache the last promise value to make it available to the next\n",
              "    // step of the generator.\n",
              "    outputElement.lastPromiseValue = value;\n",
              "    return next.value.response;\n",
              "  });\n",
              "}\n",
              "\n",
              "/**\n",
              " * Generator function which is called between each async step of the upload\n",
              " * process.\n",
              " * @param {string} inputId Element ID of the input file picker element.\n",
              " * @param {string} outputId Element ID of the output display.\n",
              " * @return {!Iterable<!Object>} Iterable of next steps.\n",
              " */\n",
              "function* uploadFilesStep(inputId, outputId) {\n",
              "  const inputElement = document.getElementById(inputId);\n",
              "  inputElement.disabled = false;\n",
              "\n",
              "  const outputElement = document.getElementById(outputId);\n",
              "  outputElement.innerHTML = '';\n",
              "\n",
              "  const pickedPromise = new Promise((resolve) => {\n",
              "    inputElement.addEventListener('change', (e) => {\n",
              "      resolve(e.target.files);\n",
              "    });\n",
              "  });\n",
              "\n",
              "  const cancel = document.createElement('button');\n",
              "  inputElement.parentElement.appendChild(cancel);\n",
              "  cancel.textContent = 'Cancel upload';\n",
              "  const cancelPromise = new Promise((resolve) => {\n",
              "    cancel.onclick = () => {\n",
              "      resolve(null);\n",
              "    };\n",
              "  });\n",
              "\n",
              "  // Wait for the user to pick the files.\n",
              "  const files = yield {\n",
              "    promise: Promise.race([pickedPromise, cancelPromise]),\n",
              "    response: {\n",
              "      action: 'starting',\n",
              "    }\n",
              "  };\n",
              "\n",
              "  cancel.remove();\n",
              "\n",
              "  // Disable the input element since further picks are not allowed.\n",
              "  inputElement.disabled = true;\n",
              "\n",
              "  if (!files) {\n",
              "    return {\n",
              "      response: {\n",
              "        action: 'complete',\n",
              "      }\n",
              "    };\n",
              "  }\n",
              "\n",
              "  for (const file of files) {\n",
              "    const li = document.createElement('li');\n",
              "    li.append(span(file.name, {fontWeight: 'bold'}));\n",
              "    li.append(span(\n",
              "        `(${file.type || 'n/a'}) - ${file.size} bytes, ` +\n",
              "        `last modified: ${\n",
              "            file.lastModifiedDate ? file.lastModifiedDate.toLocaleDateString() :\n",
              "                                    'n/a'} - `));\n",
              "    const percent = span('0% done');\n",
              "    li.appendChild(percent);\n",
              "\n",
              "    outputElement.appendChild(li);\n",
              "\n",
              "    const fileDataPromise = new Promise((resolve) => {\n",
              "      const reader = new FileReader();\n",
              "      reader.onload = (e) => {\n",
              "        resolve(e.target.result);\n",
              "      };\n",
              "      reader.readAsArrayBuffer(file);\n",
              "    });\n",
              "    // Wait for the data to be ready.\n",
              "    let fileData = yield {\n",
              "      promise: fileDataPromise,\n",
              "      response: {\n",
              "        action: 'continue',\n",
              "      }\n",
              "    };\n",
              "\n",
              "    // Use a chunked sending to avoid message size limits. See b/62115660.\n",
              "    let position = 0;\n",
              "    do {\n",
              "      const length = Math.min(fileData.byteLength - position, MAX_PAYLOAD_SIZE);\n",
              "      const chunk = new Uint8Array(fileData, position, length);\n",
              "      position += length;\n",
              "\n",
              "      const base64 = btoa(String.fromCharCode.apply(null, chunk));\n",
              "      yield {\n",
              "        response: {\n",
              "          action: 'append',\n",
              "          file: file.name,\n",
              "          data: base64,\n",
              "        },\n",
              "      };\n",
              "\n",
              "      let percentDone = fileData.byteLength === 0 ?\n",
              "          100 :\n",
              "          Math.round((position / fileData.byteLength) * 100);\n",
              "      percent.textContent = `${percentDone}% done`;\n",
              "\n",
              "    } while (position < fileData.byteLength);\n",
              "  }\n",
              "\n",
              "  // All done.\n",
              "  yield {\n",
              "    response: {\n",
              "      action: 'complete',\n",
              "    }\n",
              "  };\n",
              "}\n",
              "\n",
              "scope.google = scope.google || {};\n",
              "scope.google.colab = scope.google.colab || {};\n",
              "scope.google.colab._files = {\n",
              "  _uploadFiles,\n",
              "  _uploadFilesContinue,\n",
              "};\n",
              "})(self);\n",
              "</script> "
            ]
          },
          "metadata": {}
        },
        {
          "output_type": "stream",
          "name": "stdout",
          "text": [
            "Saving kaggle.json to kaggle.json\n"
          ]
        },
        {
          "output_type": "execute_result",
          "data": {
            "text/plain": [
              "{'kaggle.json': b'{\"username\":\"willyvonka\",\"key\":\"2e9df042075e2ca80586e55c66c656a0\"}'}"
            ]
          },
          "metadata": {},
          "execution_count": 4
        }
      ],
      "source": [
        "!pip install -q kaggle\n",
        "from google.colab import files\n",
        "files.upload()\n"
      ]
    },
    {
      "cell_type": "code",
      "execution_count": 5,
      "metadata": {
        "id": "p1nP4K5jmzUy"
      },
      "outputs": [],
      "source": [
        "!mkdir ~/.kaggle\n",
        "! cp kaggle.json ~/.kaggle/\n",
        "! chmod 600 ~/.kaggle/kaggle.json\n"
      ]
    },
    {
      "cell_type": "code",
      "execution_count": 6,
      "metadata": {
        "colab": {
          "base_uri": "https://localhost:8080/"
        },
        "id": "yeweGELfzAOU",
        "outputId": "55ce60b9-d4b8-4663-e3a0-70ce2b42675d"
      },
      "outputs": [
        {
          "output_type": "stream",
          "name": "stdout",
          "text": [
            "Downloading fake-news-sample.zip to /content\n",
            "100% 498M/500M [00:28<00:00, 18.9MB/s]\n",
            "100% 500M/500M [00:28<00:00, 18.7MB/s]\n"
          ]
        }
      ],
      "source": [
        "!kaggle datasets download -d pontes/fake-news-sample"
      ]
    },
    {
      "cell_type": "code",
      "execution_count": 7,
      "metadata": {
        "colab": {
          "base_uri": "https://localhost:8080/"
        },
        "id": "se1tVgSYzH8m",
        "outputId": "102496c6-dd59-4999-8fc7-77a8145b6129"
      },
      "outputs": [
        {
          "output_type": "stream",
          "name": "stdout",
          "text": [
            "Archive:  /content/fake-news-sample.zip\n",
            "  inflating: resized_v2.csv          \n"
          ]
        }
      ],
      "source": [
        "!unzip /content/fake-news-sample.zip"
      ]
    },
    {
      "cell_type": "markdown",
      "metadata": {
        "id": "Aif5jxDi8ShC"
      },
      "source": [
        "# Read Data"
      ]
    },
    {
      "cell_type": "code",
      "source": [
        "from google.colab import drive\n",
        "drive.mount('/content/drive')"
      ],
      "metadata": {
        "colab": {
          "base_uri": "https://localhost:8080/"
        },
        "id": "EerhLeTwumZZ",
        "outputId": "45c9fcb8-c4a0-4ab4-8266-b37e9484e4d9"
      },
      "execution_count": 4,
      "outputs": [
        {
          "output_type": "stream",
          "name": "stdout",
          "text": [
            "Drive already mounted at /content/drive; to attempt to forcibly remount, call drive.mount(\"/content/drive\", force_remount=True).\n"
          ]
        }
      ]
    },
    {
      "cell_type": "code",
      "execution_count": 5,
      "metadata": {
        "id": "K9ewwZeOFcFf",
        "colab": {
          "base_uri": "https://localhost:8080/"
        },
        "outputId": "83660e50-e007-4055-8324-730a5e86e2f9"
      },
      "outputs": [
        {
          "output_type": "stream",
          "name": "stdout",
          "text": [
            "/content/drive/MyDrive/work 51/ was there\n",
            "/content/drive/MyDrive/work 51/results/ was there\n"
          ]
        }
      ],
      "source": [
        "import os\n",
        "worknum = 51\n",
        "path0 = f'/content/drive/MyDrive/work {worknum}/'\n",
        "path = f'/content/drive/MyDrive/work {worknum}/results/'\n",
        "#\n",
        "try:\n",
        "    os.mkdir(path0)\n",
        "    print(path0,'done')\n",
        "except:\n",
        "    print(path0,'was there')\n",
        "try:\n",
        "    os.mkdir(path)\n",
        "    print(path,'done')\n",
        "except:\n",
        "    print(path,'was there')"
      ]
    },
    {
      "cell_type": "code",
      "execution_count": 6,
      "metadata": {
        "id": "JS-JxLEIzz5c"
      },
      "outputs": [],
      "source": [
        "# from google.colab import drive\n",
        "# drive.mount('/content/drive')"
      ]
    },
    {
      "cell_type": "code",
      "execution_count": 7,
      "metadata": {
        "id": "VDKcEwyNysHd"
      },
      "outputs": [],
      "source": [
        "# !mv /content/resized_v2.csv '/content/drive/MyDrive/work 51/data.csv'"
      ]
    },
    {
      "cell_type": "code",
      "execution_count": 8,
      "metadata": {
        "colab": {
          "base_uri": "https://localhost:8080/",
          "height": 1000
        },
        "id": "7m_ddsISFrTE",
        "outputId": "a3a201a5-6117-49b4-dfd7-18018d64a14b"
      },
      "outputs": [
        {
          "output_type": "stream",
          "name": "stderr",
          "text": [
            "<ipython-input-8-a3b27812d07c>:1: DtypeWarning:\n",
            "\n",
            "Columns (1,16) have mixed types. Specify dtype option on import or set low_memory=False.\n",
            "\n"
          ]
        },
        {
          "output_type": "execute_result",
          "data": {
            "text/plain": [
              "        Unnamed: 0       id                 domain        type  \\\n",
              "0                0       21   bipartisanreport.com   clickbait   \n",
              "1                1       22       theshovel.com.au      satire   \n",
              "2                2       54  blackagendareport.com  unreliable   \n",
              "3                3       61     barenakedislam.com        hate   \n",
              "4                4       64  blackagendareport.com  unreliable   \n",
              "...            ...      ...                    ...         ...   \n",
              "426545      426545  9878188            nytimes.com    reliable   \n",
              "426546      426546  9878196            nytimes.com    reliable   \n",
              "426547      426547  9878220            nytimes.com    reliable   \n",
              "426548      426548  9878237            nytimes.com    reliable   \n",
              "426549      426549  9878253            nytimes.com    reliable   \n",
              "\n",
              "                                                      url  \\\n",
              "0       http://bipartisanreport.com/cdn-cgi/l/email-pr...   \n",
              "1       http://www.theshovel.com.au/tag/malcolm-turnbu...   \n",
              "2       https://blackagendareport.com/what-western-imp...   \n",
              "3       http://barenakedislam.com/2018/01/08/wow-irani...   \n",
              "4       https://blackagendareport.com/articlelist/afri...   \n",
              "...                                                   ...   \n",
              "426545  https://www.nytimes.com/2018/02/07/watching/k-...   \n",
              "426546  https://www.nytimes.com/2018/02/07/travel/phil...   \n",
              "426547  https://www.nytimes.com/2018/02/07/us/nazi-con...   \n",
              "426548  https://www.nytimes.com/2018/02/07/realestate/...   \n",
              "426549  https://www.nytimes.com/2018/02/07/learning/ar...   \n",
              "\n",
              "                                                  content  \\\n",
              "0       The website from which you got to this page is...   \n",
              "1       For as long as he can remember, Malcolm Turnbu...   \n",
              "2       What Western Imperialism Is Up to Now in Zimba...   \n",
              "3       We appreciate your help! Click here to donate\\...   \n",
              "4       “The massacre of the mine workers in August of...   \n",
              "...                                                   ...   \n",
              "426545  Watching is The New York Times’s TV and film r...   \n",
              "426546  WHERE TO GO NOW In Philadelphia, the Ultimate ...   \n",
              "426547  “The Illinois Republican Party and our country...   \n",
              "426548  Most prominent is the lighthouse. The 90-foot-...   \n",
              "426549  Photo\\r\\n\\r\\nHave you ridden on an airplane re...   \n",
              "\n",
              "                        scraped_at                 inserted_at  \\\n",
              "0       2018-01-25 16:17:44.789555  2018-02-02 01:19:41.756632   \n",
              "1       2018-01-25 16:17:44.789555  2018-02-02 01:19:41.756632   \n",
              "2       2018-01-25 16:17:44.789555  2018-02-02 01:19:41.756632   \n",
              "3       2018-01-25 16:17:44.789555  2018-02-02 01:19:41.756632   \n",
              "4       2018-01-25 16:17:44.789555  2018-02-02 01:19:41.756632   \n",
              "...                            ...                         ...   \n",
              "426545  2018-02-11 00:49:52.014593  2018-02-11 00:14:20.346838   \n",
              "426546  2018-02-11 00:49:52.027587  2018-02-11 00:14:20.346838   \n",
              "426547  2018-02-11 00:49:52.039359  2018-02-11 00:14:20.346838   \n",
              "426548  2018-02-11 00:49:52.059956  2018-02-11 00:14:20.346838   \n",
              "426549  2018-02-11 00:49:52.082343  2018-02-11 00:14:20.346838   \n",
              "\n",
              "                        updated_at  \\\n",
              "0       2018-02-02 01:19:41.756664   \n",
              "1       2018-02-02 01:19:41.756664   \n",
              "2       2018-02-02 01:19:41.756664   \n",
              "3       2018-02-02 01:19:41.756664   \n",
              "4       2018-02-02 01:19:41.756664   \n",
              "...                            ...   \n",
              "426545  2018-02-11 00:14:20.346871   \n",
              "426546  2018-02-11 00:14:20.346871   \n",
              "426547  2018-02-11 00:14:20.346871   \n",
              "426548  2018-02-11 00:14:20.346871   \n",
              "426549  2018-02-11 00:14:20.346871   \n",
              "\n",
              "                                                    title  \\\n",
              "0                                        Email Protection   \n",
              "1                    malcolm turnbull satire – The Shovel   \n",
              "2       What Western Imperialism Is Up to Now in Zimbabwe   \n",
              "3       WOW! Iranian-Canadian protesters love Donald T...   \n",
              "4                                     Black Agenda Report   \n",
              "...                                                   ...   \n",
              "426545  A Starter Guide to Streaming Great South Korea...   \n",
              "426546  In Philadelphia, the Ultimate Eagles Celebrati...   \n",
              "426547  He’s a Nazi, Republicans Warn, but He’s Their ...   \n",
              "426548  Lighthouse Hill, Staten Island: Small and Semi...   \n",
              "426549              Are Emotional-Support Animals a Scam?   \n",
              "\n",
              "                                                  authors  keywords  \\\n",
              "0                                                     NaN       NaN   \n",
              "1                                              The Shovel       NaN   \n",
              "2       Bruce A. Dixon, Bar Managing Editor, Glen Ford...       NaN   \n",
              "3       Cleavis Nowell, Don Spilman, Rick Oneil, Linda...       NaN   \n",
              "4       Ann Garrison, Bar Contributor, Boniface Musavu...       NaN   \n",
              "...                                                   ...       ...   \n",
              "426545                                         Dakota Kim       NaN   \n",
              "426546                                     John L. Dorman       NaN   \n",
              "426547                                         Liam Stack       NaN   \n",
              "426548                             Julie Lasky, Living In       NaN   \n",
              "426549                    Natalie Proulx, Student Opinion       NaN   \n",
              "\n",
              "                                            meta_keywords  \\\n",
              "0                                                    ['']   \n",
              "1                                                    ['']   \n",
              "2                                                    ['']   \n",
              "3                                                    ['']   \n",
              "4                                                    ['']   \n",
              "...                                                   ...   \n",
              "426545                                               ['']   \n",
              "426546                                               ['']   \n",
              "426547  ['Jones  Arthur J', 'Fringe Groups and Movemen...   \n",
              "426548  ['Real Estate and Housing (Residential)', 'Sta...   \n",
              "426549                                               ['']   \n",
              "\n",
              "                                         meta_description              tags  \\\n",
              "0                                                     NaN               NaN   \n",
              "1                                                     NaN              3, 2   \n",
              "2       “The capitalist agenda is to neo-colonize Zimb...               NaN   \n",
              "3                                                     NaN               NaN   \n",
              "4                                                     NaN               NaN   \n",
              "...                                                   ...               ...   \n",
              "426545  Entering the unpredictable world of K-drama, y...               NaN   \n",
              "426546  For fans headed to Philadelphia to savor the E...  op-ed columnists   \n",
              "426547  “There’s no way in the world they can knock me...               NaN   \n",
              "426548  A neighborhood filled with wildlife and cultur...               NaN   \n",
              "426549  Do you think people are too often gaming the s...               NaN   \n",
              "\n",
              "        summary   source  \n",
              "0           NaN      NaN  \n",
              "1           NaN      NaN  \n",
              "2           NaN      NaN  \n",
              "3           NaN      NaN  \n",
              "4           NaN      NaN  \n",
              "...         ...      ...  \n",
              "426545      NaN  nytimes  \n",
              "426546      NaN  nytimes  \n",
              "426547      NaN  nytimes  \n",
              "426548      NaN  nytimes  \n",
              "426549      NaN  nytimes  \n",
              "\n",
              "[426550 rows x 17 columns]"
            ],
            "text/html": [
              "\n",
              "  <div id=\"df-700c377a-88f1-4c54-a72f-b1a482a6b1c8\" class=\"colab-df-container\">\n",
              "    <div>\n",
              "<style scoped>\n",
              "    .dataframe tbody tr th:only-of-type {\n",
              "        vertical-align: middle;\n",
              "    }\n",
              "\n",
              "    .dataframe tbody tr th {\n",
              "        vertical-align: top;\n",
              "    }\n",
              "\n",
              "    .dataframe thead th {\n",
              "        text-align: right;\n",
              "    }\n",
              "</style>\n",
              "<table border=\"1\" class=\"dataframe\">\n",
              "  <thead>\n",
              "    <tr style=\"text-align: right;\">\n",
              "      <th></th>\n",
              "      <th>Unnamed: 0</th>\n",
              "      <th>id</th>\n",
              "      <th>domain</th>\n",
              "      <th>type</th>\n",
              "      <th>url</th>\n",
              "      <th>content</th>\n",
              "      <th>scraped_at</th>\n",
              "      <th>inserted_at</th>\n",
              "      <th>updated_at</th>\n",
              "      <th>title</th>\n",
              "      <th>authors</th>\n",
              "      <th>keywords</th>\n",
              "      <th>meta_keywords</th>\n",
              "      <th>meta_description</th>\n",
              "      <th>tags</th>\n",
              "      <th>summary</th>\n",
              "      <th>source</th>\n",
              "    </tr>\n",
              "  </thead>\n",
              "  <tbody>\n",
              "    <tr>\n",
              "      <th>0</th>\n",
              "      <td>0</td>\n",
              "      <td>21</td>\n",
              "      <td>bipartisanreport.com</td>\n",
              "      <td>clickbait</td>\n",
              "      <td>http://bipartisanreport.com/cdn-cgi/l/email-pr...</td>\n",
              "      <td>The website from which you got to this page is...</td>\n",
              "      <td>2018-01-25 16:17:44.789555</td>\n",
              "      <td>2018-02-02 01:19:41.756632</td>\n",
              "      <td>2018-02-02 01:19:41.756664</td>\n",
              "      <td>Email Protection</td>\n",
              "      <td>NaN</td>\n",
              "      <td>NaN</td>\n",
              "      <td>['']</td>\n",
              "      <td>NaN</td>\n",
              "      <td>NaN</td>\n",
              "      <td>NaN</td>\n",
              "      <td>NaN</td>\n",
              "    </tr>\n",
              "    <tr>\n",
              "      <th>1</th>\n",
              "      <td>1</td>\n",
              "      <td>22</td>\n",
              "      <td>theshovel.com.au</td>\n",
              "      <td>satire</td>\n",
              "      <td>http://www.theshovel.com.au/tag/malcolm-turnbu...</td>\n",
              "      <td>For as long as he can remember, Malcolm Turnbu...</td>\n",
              "      <td>2018-01-25 16:17:44.789555</td>\n",
              "      <td>2018-02-02 01:19:41.756632</td>\n",
              "      <td>2018-02-02 01:19:41.756664</td>\n",
              "      <td>malcolm turnbull satire – The Shovel</td>\n",
              "      <td>The Shovel</td>\n",
              "      <td>NaN</td>\n",
              "      <td>['']</td>\n",
              "      <td>NaN</td>\n",
              "      <td>3, 2</td>\n",
              "      <td>NaN</td>\n",
              "      <td>NaN</td>\n",
              "    </tr>\n",
              "    <tr>\n",
              "      <th>2</th>\n",
              "      <td>2</td>\n",
              "      <td>54</td>\n",
              "      <td>blackagendareport.com</td>\n",
              "      <td>unreliable</td>\n",
              "      <td>https://blackagendareport.com/what-western-imp...</td>\n",
              "      <td>What Western Imperialism Is Up to Now in Zimba...</td>\n",
              "      <td>2018-01-25 16:17:44.789555</td>\n",
              "      <td>2018-02-02 01:19:41.756632</td>\n",
              "      <td>2018-02-02 01:19:41.756664</td>\n",
              "      <td>What Western Imperialism Is Up to Now in Zimbabwe</td>\n",
              "      <td>Bruce A. Dixon, Bar Managing Editor, Glen Ford...</td>\n",
              "      <td>NaN</td>\n",
              "      <td>['']</td>\n",
              "      <td>“The capitalist agenda is to neo-colonize Zimb...</td>\n",
              "      <td>NaN</td>\n",
              "      <td>NaN</td>\n",
              "      <td>NaN</td>\n",
              "    </tr>\n",
              "    <tr>\n",
              "      <th>3</th>\n",
              "      <td>3</td>\n",
              "      <td>61</td>\n",
              "      <td>barenakedislam.com</td>\n",
              "      <td>hate</td>\n",
              "      <td>http://barenakedislam.com/2018/01/08/wow-irani...</td>\n",
              "      <td>We appreciate your help! Click here to donate\\...</td>\n",
              "      <td>2018-01-25 16:17:44.789555</td>\n",
              "      <td>2018-02-02 01:19:41.756632</td>\n",
              "      <td>2018-02-02 01:19:41.756664</td>\n",
              "      <td>WOW! Iranian-Canadian protesters love Donald T...</td>\n",
              "      <td>Cleavis Nowell, Don Spilman, Rick Oneil, Linda...</td>\n",
              "      <td>NaN</td>\n",
              "      <td>['']</td>\n",
              "      <td>NaN</td>\n",
              "      <td>NaN</td>\n",
              "      <td>NaN</td>\n",
              "      <td>NaN</td>\n",
              "    </tr>\n",
              "    <tr>\n",
              "      <th>4</th>\n",
              "      <td>4</td>\n",
              "      <td>64</td>\n",
              "      <td>blackagendareport.com</td>\n",
              "      <td>unreliable</td>\n",
              "      <td>https://blackagendareport.com/articlelist/afri...</td>\n",
              "      <td>“The massacre of the mine workers in August of...</td>\n",
              "      <td>2018-01-25 16:17:44.789555</td>\n",
              "      <td>2018-02-02 01:19:41.756632</td>\n",
              "      <td>2018-02-02 01:19:41.756664</td>\n",
              "      <td>Black Agenda Report</td>\n",
              "      <td>Ann Garrison, Bar Contributor, Boniface Musavu...</td>\n",
              "      <td>NaN</td>\n",
              "      <td>['']</td>\n",
              "      <td>NaN</td>\n",
              "      <td>NaN</td>\n",
              "      <td>NaN</td>\n",
              "      <td>NaN</td>\n",
              "    </tr>\n",
              "    <tr>\n",
              "      <th>...</th>\n",
              "      <td>...</td>\n",
              "      <td>...</td>\n",
              "      <td>...</td>\n",
              "      <td>...</td>\n",
              "      <td>...</td>\n",
              "      <td>...</td>\n",
              "      <td>...</td>\n",
              "      <td>...</td>\n",
              "      <td>...</td>\n",
              "      <td>...</td>\n",
              "      <td>...</td>\n",
              "      <td>...</td>\n",
              "      <td>...</td>\n",
              "      <td>...</td>\n",
              "      <td>...</td>\n",
              "      <td>...</td>\n",
              "      <td>...</td>\n",
              "    </tr>\n",
              "    <tr>\n",
              "      <th>426545</th>\n",
              "      <td>426545</td>\n",
              "      <td>9878188</td>\n",
              "      <td>nytimes.com</td>\n",
              "      <td>reliable</td>\n",
              "      <td>https://www.nytimes.com/2018/02/07/watching/k-...</td>\n",
              "      <td>Watching is The New York Times’s TV and film r...</td>\n",
              "      <td>2018-02-11 00:49:52.014593</td>\n",
              "      <td>2018-02-11 00:14:20.346838</td>\n",
              "      <td>2018-02-11 00:14:20.346871</td>\n",
              "      <td>A Starter Guide to Streaming Great South Korea...</td>\n",
              "      <td>Dakota Kim</td>\n",
              "      <td>NaN</td>\n",
              "      <td>['']</td>\n",
              "      <td>Entering the unpredictable world of K-drama, y...</td>\n",
              "      <td>NaN</td>\n",
              "      <td>NaN</td>\n",
              "      <td>nytimes</td>\n",
              "    </tr>\n",
              "    <tr>\n",
              "      <th>426546</th>\n",
              "      <td>426546</td>\n",
              "      <td>9878196</td>\n",
              "      <td>nytimes.com</td>\n",
              "      <td>reliable</td>\n",
              "      <td>https://www.nytimes.com/2018/02/07/travel/phil...</td>\n",
              "      <td>WHERE TO GO NOW In Philadelphia, the Ultimate ...</td>\n",
              "      <td>2018-02-11 00:49:52.027587</td>\n",
              "      <td>2018-02-11 00:14:20.346838</td>\n",
              "      <td>2018-02-11 00:14:20.346871</td>\n",
              "      <td>In Philadelphia, the Ultimate Eagles Celebrati...</td>\n",
              "      <td>John L. Dorman</td>\n",
              "      <td>NaN</td>\n",
              "      <td>['']</td>\n",
              "      <td>For fans headed to Philadelphia to savor the E...</td>\n",
              "      <td>op-ed columnists</td>\n",
              "      <td>NaN</td>\n",
              "      <td>nytimes</td>\n",
              "    </tr>\n",
              "    <tr>\n",
              "      <th>426547</th>\n",
              "      <td>426547</td>\n",
              "      <td>9878220</td>\n",
              "      <td>nytimes.com</td>\n",
              "      <td>reliable</td>\n",
              "      <td>https://www.nytimes.com/2018/02/07/us/nazi-con...</td>\n",
              "      <td>“The Illinois Republican Party and our country...</td>\n",
              "      <td>2018-02-11 00:49:52.039359</td>\n",
              "      <td>2018-02-11 00:14:20.346838</td>\n",
              "      <td>2018-02-11 00:14:20.346871</td>\n",
              "      <td>He’s a Nazi, Republicans Warn, but He’s Their ...</td>\n",
              "      <td>Liam Stack</td>\n",
              "      <td>NaN</td>\n",
              "      <td>['Jones  Arthur J', 'Fringe Groups and Movemen...</td>\n",
              "      <td>“There’s no way in the world they can knock me...</td>\n",
              "      <td>NaN</td>\n",
              "      <td>NaN</td>\n",
              "      <td>nytimes</td>\n",
              "    </tr>\n",
              "    <tr>\n",
              "      <th>426548</th>\n",
              "      <td>426548</td>\n",
              "      <td>9878237</td>\n",
              "      <td>nytimes.com</td>\n",
              "      <td>reliable</td>\n",
              "      <td>https://www.nytimes.com/2018/02/07/realestate/...</td>\n",
              "      <td>Most prominent is the lighthouse. The 90-foot-...</td>\n",
              "      <td>2018-02-11 00:49:52.059956</td>\n",
              "      <td>2018-02-11 00:14:20.346838</td>\n",
              "      <td>2018-02-11 00:14:20.346871</td>\n",
              "      <td>Lighthouse Hill, Staten Island: Small and Semi...</td>\n",
              "      <td>Julie Lasky, Living In</td>\n",
              "      <td>NaN</td>\n",
              "      <td>['Real Estate and Housing (Residential)', 'Sta...</td>\n",
              "      <td>A neighborhood filled with wildlife and cultur...</td>\n",
              "      <td>NaN</td>\n",
              "      <td>NaN</td>\n",
              "      <td>nytimes</td>\n",
              "    </tr>\n",
              "    <tr>\n",
              "      <th>426549</th>\n",
              "      <td>426549</td>\n",
              "      <td>9878253</td>\n",
              "      <td>nytimes.com</td>\n",
              "      <td>reliable</td>\n",
              "      <td>https://www.nytimes.com/2018/02/07/learning/ar...</td>\n",
              "      <td>Photo\\r\\n\\r\\nHave you ridden on an airplane re...</td>\n",
              "      <td>2018-02-11 00:49:52.082343</td>\n",
              "      <td>2018-02-11 00:14:20.346838</td>\n",
              "      <td>2018-02-11 00:14:20.346871</td>\n",
              "      <td>Are Emotional-Support Animals a Scam?</td>\n",
              "      <td>Natalie Proulx, Student Opinion</td>\n",
              "      <td>NaN</td>\n",
              "      <td>['']</td>\n",
              "      <td>Do you think people are too often gaming the s...</td>\n",
              "      <td>NaN</td>\n",
              "      <td>NaN</td>\n",
              "      <td>nytimes</td>\n",
              "    </tr>\n",
              "  </tbody>\n",
              "</table>\n",
              "<p>426550 rows × 17 columns</p>\n",
              "</div>\n",
              "    <div class=\"colab-df-buttons\">\n",
              "\n",
              "  <div class=\"colab-df-container\">\n",
              "    <button class=\"colab-df-convert\" onclick=\"convertToInteractive('df-700c377a-88f1-4c54-a72f-b1a482a6b1c8')\"\n",
              "            title=\"Convert this dataframe to an interactive table.\"\n",
              "            style=\"display:none;\">\n",
              "\n",
              "  <svg xmlns=\"http://www.w3.org/2000/svg\" height=\"24px\" viewBox=\"0 -960 960 960\">\n",
              "    <path d=\"M120-120v-720h720v720H120Zm60-500h600v-160H180v160Zm220 220h160v-160H400v160Zm0 220h160v-160H400v160ZM180-400h160v-160H180v160Zm440 0h160v-160H620v160ZM180-180h160v-160H180v160Zm440 0h160v-160H620v160Z\"/>\n",
              "  </svg>\n",
              "    </button>\n",
              "\n",
              "  <style>\n",
              "    .colab-df-container {\n",
              "      display:flex;\n",
              "      gap: 12px;\n",
              "    }\n",
              "\n",
              "    .colab-df-convert {\n",
              "      background-color: #E8F0FE;\n",
              "      border: none;\n",
              "      border-radius: 50%;\n",
              "      cursor: pointer;\n",
              "      display: none;\n",
              "      fill: #1967D2;\n",
              "      height: 32px;\n",
              "      padding: 0 0 0 0;\n",
              "      width: 32px;\n",
              "    }\n",
              "\n",
              "    .colab-df-convert:hover {\n",
              "      background-color: #E2EBFA;\n",
              "      box-shadow: 0px 1px 2px rgba(60, 64, 67, 0.3), 0px 1px 3px 1px rgba(60, 64, 67, 0.15);\n",
              "      fill: #174EA6;\n",
              "    }\n",
              "\n",
              "    .colab-df-buttons div {\n",
              "      margin-bottom: 4px;\n",
              "    }\n",
              "\n",
              "    [theme=dark] .colab-df-convert {\n",
              "      background-color: #3B4455;\n",
              "      fill: #D2E3FC;\n",
              "    }\n",
              "\n",
              "    [theme=dark] .colab-df-convert:hover {\n",
              "      background-color: #434B5C;\n",
              "      box-shadow: 0px 1px 3px 1px rgba(0, 0, 0, 0.15);\n",
              "      filter: drop-shadow(0px 1px 2px rgba(0, 0, 0, 0.3));\n",
              "      fill: #FFFFFF;\n",
              "    }\n",
              "  </style>\n",
              "\n",
              "    <script>\n",
              "      const buttonEl =\n",
              "        document.querySelector('#df-700c377a-88f1-4c54-a72f-b1a482a6b1c8 button.colab-df-convert');\n",
              "      buttonEl.style.display =\n",
              "        google.colab.kernel.accessAllowed ? 'block' : 'none';\n",
              "\n",
              "      async function convertToInteractive(key) {\n",
              "        const element = document.querySelector('#df-700c377a-88f1-4c54-a72f-b1a482a6b1c8');\n",
              "        const dataTable =\n",
              "          await google.colab.kernel.invokeFunction('convertToInteractive',\n",
              "                                                    [key], {});\n",
              "        if (!dataTable) return;\n",
              "\n",
              "        const docLinkHtml = 'Like what you see? Visit the ' +\n",
              "          '<a target=\"_blank\" href=https://colab.research.google.com/notebooks/data_table.ipynb>data table notebook</a>'\n",
              "          + ' to learn more about interactive tables.';\n",
              "        element.innerHTML = '';\n",
              "        dataTable['output_type'] = 'display_data';\n",
              "        await google.colab.output.renderOutput(dataTable, element);\n",
              "        const docLink = document.createElement('div');\n",
              "        docLink.innerHTML = docLinkHtml;\n",
              "        element.appendChild(docLink);\n",
              "      }\n",
              "    </script>\n",
              "  </div>\n",
              "\n",
              "\n",
              "<div id=\"df-eafc6334-15b7-4908-b43b-5eec2ad3df50\">\n",
              "  <button class=\"colab-df-quickchart\" onclick=\"quickchart('df-eafc6334-15b7-4908-b43b-5eec2ad3df50')\"\n",
              "            title=\"Suggest charts.\"\n",
              "            style=\"display:none;\">\n",
              "\n",
              "<svg xmlns=\"http://www.w3.org/2000/svg\" height=\"24px\"viewBox=\"0 0 24 24\"\n",
              "     width=\"24px\">\n",
              "    <g>\n",
              "        <path d=\"M19 3H5c-1.1 0-2 .9-2 2v14c0 1.1.9 2 2 2h14c1.1 0 2-.9 2-2V5c0-1.1-.9-2-2-2zM9 17H7v-7h2v7zm4 0h-2V7h2v10zm4 0h-2v-4h2v4z\"/>\n",
              "    </g>\n",
              "</svg>\n",
              "  </button>\n",
              "\n",
              "<style>\n",
              "  .colab-df-quickchart {\n",
              "      --bg-color: #E8F0FE;\n",
              "      --fill-color: #1967D2;\n",
              "      --hover-bg-color: #E2EBFA;\n",
              "      --hover-fill-color: #174EA6;\n",
              "      --disabled-fill-color: #AAA;\n",
              "      --disabled-bg-color: #DDD;\n",
              "  }\n",
              "\n",
              "  [theme=dark] .colab-df-quickchart {\n",
              "      --bg-color: #3B4455;\n",
              "      --fill-color: #D2E3FC;\n",
              "      --hover-bg-color: #434B5C;\n",
              "      --hover-fill-color: #FFFFFF;\n",
              "      --disabled-bg-color: #3B4455;\n",
              "      --disabled-fill-color: #666;\n",
              "  }\n",
              "\n",
              "  .colab-df-quickchart {\n",
              "    background-color: var(--bg-color);\n",
              "    border: none;\n",
              "    border-radius: 50%;\n",
              "    cursor: pointer;\n",
              "    display: none;\n",
              "    fill: var(--fill-color);\n",
              "    height: 32px;\n",
              "    padding: 0;\n",
              "    width: 32px;\n",
              "  }\n",
              "\n",
              "  .colab-df-quickchart:hover {\n",
              "    background-color: var(--hover-bg-color);\n",
              "    box-shadow: 0 1px 2px rgba(60, 64, 67, 0.3), 0 1px 3px 1px rgba(60, 64, 67, 0.15);\n",
              "    fill: var(--button-hover-fill-color);\n",
              "  }\n",
              "\n",
              "  .colab-df-quickchart-complete:disabled,\n",
              "  .colab-df-quickchart-complete:disabled:hover {\n",
              "    background-color: var(--disabled-bg-color);\n",
              "    fill: var(--disabled-fill-color);\n",
              "    box-shadow: none;\n",
              "  }\n",
              "\n",
              "  .colab-df-spinner {\n",
              "    border: 2px solid var(--fill-color);\n",
              "    border-color: transparent;\n",
              "    border-bottom-color: var(--fill-color);\n",
              "    animation:\n",
              "      spin 1s steps(1) infinite;\n",
              "  }\n",
              "\n",
              "  @keyframes spin {\n",
              "    0% {\n",
              "      border-color: transparent;\n",
              "      border-bottom-color: var(--fill-color);\n",
              "      border-left-color: var(--fill-color);\n",
              "    }\n",
              "    20% {\n",
              "      border-color: transparent;\n",
              "      border-left-color: var(--fill-color);\n",
              "      border-top-color: var(--fill-color);\n",
              "    }\n",
              "    30% {\n",
              "      border-color: transparent;\n",
              "      border-left-color: var(--fill-color);\n",
              "      border-top-color: var(--fill-color);\n",
              "      border-right-color: var(--fill-color);\n",
              "    }\n",
              "    40% {\n",
              "      border-color: transparent;\n",
              "      border-right-color: var(--fill-color);\n",
              "      border-top-color: var(--fill-color);\n",
              "    }\n",
              "    60% {\n",
              "      border-color: transparent;\n",
              "      border-right-color: var(--fill-color);\n",
              "    }\n",
              "    80% {\n",
              "      border-color: transparent;\n",
              "      border-right-color: var(--fill-color);\n",
              "      border-bottom-color: var(--fill-color);\n",
              "    }\n",
              "    90% {\n",
              "      border-color: transparent;\n",
              "      border-bottom-color: var(--fill-color);\n",
              "    }\n",
              "  }\n",
              "</style>\n",
              "\n",
              "  <script>\n",
              "    async function quickchart(key) {\n",
              "      const quickchartButtonEl =\n",
              "        document.querySelector('#' + key + ' button');\n",
              "      quickchartButtonEl.disabled = true;  // To prevent multiple clicks.\n",
              "      quickchartButtonEl.classList.add('colab-df-spinner');\n",
              "      try {\n",
              "        const charts = await google.colab.kernel.invokeFunction(\n",
              "            'suggestCharts', [key], {});\n",
              "      } catch (error) {\n",
              "        console.error('Error during call to suggestCharts:', error);\n",
              "      }\n",
              "      quickchartButtonEl.classList.remove('colab-df-spinner');\n",
              "      quickchartButtonEl.classList.add('colab-df-quickchart-complete');\n",
              "    }\n",
              "    (() => {\n",
              "      let quickchartButtonEl =\n",
              "        document.querySelector('#df-eafc6334-15b7-4908-b43b-5eec2ad3df50 button');\n",
              "      quickchartButtonEl.style.display =\n",
              "        google.colab.kernel.accessAllowed ? 'block' : 'none';\n",
              "    })();\n",
              "  </script>\n",
              "</div>\n",
              "    </div>\n",
              "  </div>\n"
            ]
          },
          "metadata": {},
          "execution_count": 8
        }
      ],
      "source": [
        "df=pd.read_csv(\"/content/drive/MyDrive/work 51/data.csv\")\n",
        "df"
      ]
    },
    {
      "cell_type": "code",
      "source": [
        "\n",
        "\n",
        "# !pip install vaderSentiment\n",
        "# !pip install twython\n",
        "\n"
      ],
      "metadata": {
        "id": "GwIH-l3SVAYX"
      },
      "execution_count": 9,
      "outputs": []
    },
    {
      "cell_type": "code",
      "source": [
        "import re"
      ],
      "metadata": {
        "id": "gZgUR7dDVQgO"
      },
      "execution_count": 10,
      "outputs": []
    },
    {
      "cell_type": "code",
      "source": [
        "df.columns"
      ],
      "metadata": {
        "colab": {
          "base_uri": "https://localhost:8080/"
        },
        "id": "z5G_lxgOKMAi",
        "outputId": "37740ec5-62f7-4bcd-f611-e8bd7439ca7a"
      },
      "execution_count": 11,
      "outputs": [
        {
          "output_type": "execute_result",
          "data": {
            "text/plain": [
              "Index(['Unnamed: 0', 'id', 'domain', 'type', 'url', 'content', 'scraped_at',\n",
              "       'inserted_at', 'updated_at', 'title', 'authors', 'keywords',\n",
              "       'meta_keywords', 'meta_description', 'tags', 'summary', 'source'],\n",
              "      dtype='object')"
            ]
          },
          "metadata": {},
          "execution_count": 11
        }
      ]
    },
    {
      "cell_type": "code",
      "source": [
        "df = df[['content','type']]"
      ],
      "metadata": {
        "id": "MtN-kQ1aKWGZ"
      },
      "execution_count": 12,
      "outputs": []
    },
    {
      "cell_type": "code",
      "source": [
        "df.columns = ['text','sentiment']"
      ],
      "metadata": {
        "id": "wIzWbaSkKZcC"
      },
      "execution_count": 13,
      "outputs": []
    },
    {
      "cell_type": "code",
      "source": [
        "print(df.shape)\n",
        "df.dropna(inplace=True)\n",
        "df.shape"
      ],
      "metadata": {
        "colab": {
          "base_uri": "https://localhost:8080/"
        },
        "id": "ZsOSK3gJKm-c",
        "outputId": "a4ff72a4-5fb9-4368-b5e5-5181207da39f"
      },
      "execution_count": 14,
      "outputs": [
        {
          "output_type": "stream",
          "name": "stdout",
          "text": [
            "(426550, 2)\n"
          ]
        },
        {
          "output_type": "stream",
          "name": "stderr",
          "text": [
            "<ipython-input-14-8c1aab196c2a>:2: SettingWithCopyWarning:\n",
            "\n",
            "\n",
            "A value is trying to be set on a copy of a slice from a DataFrame\n",
            "\n",
            "See the caveats in the documentation: https://pandas.pydata.org/pandas-docs/stable/user_guide/indexing.html#returning-a-view-versus-a-copy\n",
            "\n"
          ]
        },
        {
          "output_type": "execute_result",
          "data": {
            "text/plain": [
              "(406400, 2)"
            ]
          },
          "metadata": {},
          "execution_count": 14
        }
      ]
    },
    {
      "cell_type": "code",
      "source": [
        "df = df.sample(frac=0.1)"
      ],
      "metadata": {
        "id": "gcER5BudScZ6"
      },
      "execution_count": 15,
      "outputs": []
    },
    {
      "cell_type": "code",
      "source": [
        "df = df.sample(frac=0.3)\n"
      ],
      "metadata": {
        "id": "ps_s4-hOiVwT"
      },
      "execution_count": 16,
      "outputs": []
    },
    {
      "cell_type": "code",
      "source": [
        "def clean(text):\n",
        "    text = text.lower()\n",
        "    text = re.sub('https?://\\S+|www\\.\\S+', '', text)\n",
        "    text = re.sub(r'\\s+', ' ', text, flags=re.I)\n",
        "    text = re.sub('\\[.*?\\]', '', text)\n",
        "    text = re.sub('\\n', '', text)\n",
        "    text = re.sub('\\w*\\d\\w*', '', text)\n",
        "    text = re.sub('<.*?>+', '', text)\n",
        "    text = re.sub(\"'\", \"\", text)\n",
        "\n",
        "    return text\n",
        "\n",
        "\n",
        "\n",
        "df['text'] = df['text'].apply(lambda x:clean(x))"
      ],
      "metadata": {
        "id": "KNuTdUj6VGcD"
      },
      "execution_count": 17,
      "outputs": []
    },
    {
      "cell_type": "code",
      "source": [
        "df.shape"
      ],
      "metadata": {
        "colab": {
          "base_uri": "https://localhost:8080/"
        },
        "id": "nBTgH4XfKmTN",
        "outputId": "1416c4c3-d375-4307-b373-c71476e8f3d6"
      },
      "execution_count": 18,
      "outputs": [
        {
          "output_type": "execute_result",
          "data": {
            "text/plain": [
              "(12192, 2)"
            ]
          },
          "metadata": {},
          "execution_count": 18
        }
      ]
    },
    {
      "cell_type": "code",
      "execution_count": 19,
      "metadata": {
        "colab": {
          "base_uri": "https://localhost:8080/",
          "height": 206
        },
        "id": "byNWSEV9sdNw",
        "outputId": "e20ea8e9-f1a4-4433-e4ab-bd3b09e5e17b"
      },
      "outputs": [
        {
          "output_type": "execute_result",
          "data": {
            "text/plain": [
              "                                                     text  sentiment\n",
              "81994   new york (reuters) – a federal judge has ruled...  political\n",
              "411406  the less-known tuscan coast remains full of se...   reliable\n",
              "302163  what phil mickelson just announced proves that...       bias\n",
              "136800  as a growing number of electoral college voter...       bias\n",
              "229624  president obama’s former campaign manager on s...       bias"
            ],
            "text/html": [
              "\n",
              "  <div id=\"df-47e9b3b5-b083-4ab0-ad78-a2fcab4bde27\" class=\"colab-df-container\">\n",
              "    <div>\n",
              "<style scoped>\n",
              "    .dataframe tbody tr th:only-of-type {\n",
              "        vertical-align: middle;\n",
              "    }\n",
              "\n",
              "    .dataframe tbody tr th {\n",
              "        vertical-align: top;\n",
              "    }\n",
              "\n",
              "    .dataframe thead th {\n",
              "        text-align: right;\n",
              "    }\n",
              "</style>\n",
              "<table border=\"1\" class=\"dataframe\">\n",
              "  <thead>\n",
              "    <tr style=\"text-align: right;\">\n",
              "      <th></th>\n",
              "      <th>text</th>\n",
              "      <th>sentiment</th>\n",
              "    </tr>\n",
              "  </thead>\n",
              "  <tbody>\n",
              "    <tr>\n",
              "      <th>81994</th>\n",
              "      <td>new york (reuters) – a federal judge has ruled...</td>\n",
              "      <td>political</td>\n",
              "    </tr>\n",
              "    <tr>\n",
              "      <th>411406</th>\n",
              "      <td>the less-known tuscan coast remains full of se...</td>\n",
              "      <td>reliable</td>\n",
              "    </tr>\n",
              "    <tr>\n",
              "      <th>302163</th>\n",
              "      <td>what phil mickelson just announced proves that...</td>\n",
              "      <td>bias</td>\n",
              "    </tr>\n",
              "    <tr>\n",
              "      <th>136800</th>\n",
              "      <td>as a growing number of electoral college voter...</td>\n",
              "      <td>bias</td>\n",
              "    </tr>\n",
              "    <tr>\n",
              "      <th>229624</th>\n",
              "      <td>president obama’s former campaign manager on s...</td>\n",
              "      <td>bias</td>\n",
              "    </tr>\n",
              "  </tbody>\n",
              "</table>\n",
              "</div>\n",
              "    <div class=\"colab-df-buttons\">\n",
              "\n",
              "  <div class=\"colab-df-container\">\n",
              "    <button class=\"colab-df-convert\" onclick=\"convertToInteractive('df-47e9b3b5-b083-4ab0-ad78-a2fcab4bde27')\"\n",
              "            title=\"Convert this dataframe to an interactive table.\"\n",
              "            style=\"display:none;\">\n",
              "\n",
              "  <svg xmlns=\"http://www.w3.org/2000/svg\" height=\"24px\" viewBox=\"0 -960 960 960\">\n",
              "    <path d=\"M120-120v-720h720v720H120Zm60-500h600v-160H180v160Zm220 220h160v-160H400v160Zm0 220h160v-160H400v160ZM180-400h160v-160H180v160Zm440 0h160v-160H620v160ZM180-180h160v-160H180v160Zm440 0h160v-160H620v160Z\"/>\n",
              "  </svg>\n",
              "    </button>\n",
              "\n",
              "  <style>\n",
              "    .colab-df-container {\n",
              "      display:flex;\n",
              "      gap: 12px;\n",
              "    }\n",
              "\n",
              "    .colab-df-convert {\n",
              "      background-color: #E8F0FE;\n",
              "      border: none;\n",
              "      border-radius: 50%;\n",
              "      cursor: pointer;\n",
              "      display: none;\n",
              "      fill: #1967D2;\n",
              "      height: 32px;\n",
              "      padding: 0 0 0 0;\n",
              "      width: 32px;\n",
              "    }\n",
              "\n",
              "    .colab-df-convert:hover {\n",
              "      background-color: #E2EBFA;\n",
              "      box-shadow: 0px 1px 2px rgba(60, 64, 67, 0.3), 0px 1px 3px 1px rgba(60, 64, 67, 0.15);\n",
              "      fill: #174EA6;\n",
              "    }\n",
              "\n",
              "    .colab-df-buttons div {\n",
              "      margin-bottom: 4px;\n",
              "    }\n",
              "\n",
              "    [theme=dark] .colab-df-convert {\n",
              "      background-color: #3B4455;\n",
              "      fill: #D2E3FC;\n",
              "    }\n",
              "\n",
              "    [theme=dark] .colab-df-convert:hover {\n",
              "      background-color: #434B5C;\n",
              "      box-shadow: 0px 1px 3px 1px rgba(0, 0, 0, 0.15);\n",
              "      filter: drop-shadow(0px 1px 2px rgba(0, 0, 0, 0.3));\n",
              "      fill: #FFFFFF;\n",
              "    }\n",
              "  </style>\n",
              "\n",
              "    <script>\n",
              "      const buttonEl =\n",
              "        document.querySelector('#df-47e9b3b5-b083-4ab0-ad78-a2fcab4bde27 button.colab-df-convert');\n",
              "      buttonEl.style.display =\n",
              "        google.colab.kernel.accessAllowed ? 'block' : 'none';\n",
              "\n",
              "      async function convertToInteractive(key) {\n",
              "        const element = document.querySelector('#df-47e9b3b5-b083-4ab0-ad78-a2fcab4bde27');\n",
              "        const dataTable =\n",
              "          await google.colab.kernel.invokeFunction('convertToInteractive',\n",
              "                                                    [key], {});\n",
              "        if (!dataTable) return;\n",
              "\n",
              "        const docLinkHtml = 'Like what you see? Visit the ' +\n",
              "          '<a target=\"_blank\" href=https://colab.research.google.com/notebooks/data_table.ipynb>data table notebook</a>'\n",
              "          + ' to learn more about interactive tables.';\n",
              "        element.innerHTML = '';\n",
              "        dataTable['output_type'] = 'display_data';\n",
              "        await google.colab.output.renderOutput(dataTable, element);\n",
              "        const docLink = document.createElement('div');\n",
              "        docLink.innerHTML = docLinkHtml;\n",
              "        element.appendChild(docLink);\n",
              "      }\n",
              "    </script>\n",
              "  </div>\n",
              "\n",
              "\n",
              "<div id=\"df-2de038f4-fbdb-4eb1-9f22-e7122a67cef2\">\n",
              "  <button class=\"colab-df-quickchart\" onclick=\"quickchart('df-2de038f4-fbdb-4eb1-9f22-e7122a67cef2')\"\n",
              "            title=\"Suggest charts.\"\n",
              "            style=\"display:none;\">\n",
              "\n",
              "<svg xmlns=\"http://www.w3.org/2000/svg\" height=\"24px\"viewBox=\"0 0 24 24\"\n",
              "     width=\"24px\">\n",
              "    <g>\n",
              "        <path d=\"M19 3H5c-1.1 0-2 .9-2 2v14c0 1.1.9 2 2 2h14c1.1 0 2-.9 2-2V5c0-1.1-.9-2-2-2zM9 17H7v-7h2v7zm4 0h-2V7h2v10zm4 0h-2v-4h2v4z\"/>\n",
              "    </g>\n",
              "</svg>\n",
              "  </button>\n",
              "\n",
              "<style>\n",
              "  .colab-df-quickchart {\n",
              "      --bg-color: #E8F0FE;\n",
              "      --fill-color: #1967D2;\n",
              "      --hover-bg-color: #E2EBFA;\n",
              "      --hover-fill-color: #174EA6;\n",
              "      --disabled-fill-color: #AAA;\n",
              "      --disabled-bg-color: #DDD;\n",
              "  }\n",
              "\n",
              "  [theme=dark] .colab-df-quickchart {\n",
              "      --bg-color: #3B4455;\n",
              "      --fill-color: #D2E3FC;\n",
              "      --hover-bg-color: #434B5C;\n",
              "      --hover-fill-color: #FFFFFF;\n",
              "      --disabled-bg-color: #3B4455;\n",
              "      --disabled-fill-color: #666;\n",
              "  }\n",
              "\n",
              "  .colab-df-quickchart {\n",
              "    background-color: var(--bg-color);\n",
              "    border: none;\n",
              "    border-radius: 50%;\n",
              "    cursor: pointer;\n",
              "    display: none;\n",
              "    fill: var(--fill-color);\n",
              "    height: 32px;\n",
              "    padding: 0;\n",
              "    width: 32px;\n",
              "  }\n",
              "\n",
              "  .colab-df-quickchart:hover {\n",
              "    background-color: var(--hover-bg-color);\n",
              "    box-shadow: 0 1px 2px rgba(60, 64, 67, 0.3), 0 1px 3px 1px rgba(60, 64, 67, 0.15);\n",
              "    fill: var(--button-hover-fill-color);\n",
              "  }\n",
              "\n",
              "  .colab-df-quickchart-complete:disabled,\n",
              "  .colab-df-quickchart-complete:disabled:hover {\n",
              "    background-color: var(--disabled-bg-color);\n",
              "    fill: var(--disabled-fill-color);\n",
              "    box-shadow: none;\n",
              "  }\n",
              "\n",
              "  .colab-df-spinner {\n",
              "    border: 2px solid var(--fill-color);\n",
              "    border-color: transparent;\n",
              "    border-bottom-color: var(--fill-color);\n",
              "    animation:\n",
              "      spin 1s steps(1) infinite;\n",
              "  }\n",
              "\n",
              "  @keyframes spin {\n",
              "    0% {\n",
              "      border-color: transparent;\n",
              "      border-bottom-color: var(--fill-color);\n",
              "      border-left-color: var(--fill-color);\n",
              "    }\n",
              "    20% {\n",
              "      border-color: transparent;\n",
              "      border-left-color: var(--fill-color);\n",
              "      border-top-color: var(--fill-color);\n",
              "    }\n",
              "    30% {\n",
              "      border-color: transparent;\n",
              "      border-left-color: var(--fill-color);\n",
              "      border-top-color: var(--fill-color);\n",
              "      border-right-color: var(--fill-color);\n",
              "    }\n",
              "    40% {\n",
              "      border-color: transparent;\n",
              "      border-right-color: var(--fill-color);\n",
              "      border-top-color: var(--fill-color);\n",
              "    }\n",
              "    60% {\n",
              "      border-color: transparent;\n",
              "      border-right-color: var(--fill-color);\n",
              "    }\n",
              "    80% {\n",
              "      border-color: transparent;\n",
              "      border-right-color: var(--fill-color);\n",
              "      border-bottom-color: var(--fill-color);\n",
              "    }\n",
              "    90% {\n",
              "      border-color: transparent;\n",
              "      border-bottom-color: var(--fill-color);\n",
              "    }\n",
              "  }\n",
              "</style>\n",
              "\n",
              "  <script>\n",
              "    async function quickchart(key) {\n",
              "      const quickchartButtonEl =\n",
              "        document.querySelector('#' + key + ' button');\n",
              "      quickchartButtonEl.disabled = true;  // To prevent multiple clicks.\n",
              "      quickchartButtonEl.classList.add('colab-df-spinner');\n",
              "      try {\n",
              "        const charts = await google.colab.kernel.invokeFunction(\n",
              "            'suggestCharts', [key], {});\n",
              "      } catch (error) {\n",
              "        console.error('Error during call to suggestCharts:', error);\n",
              "      }\n",
              "      quickchartButtonEl.classList.remove('colab-df-spinner');\n",
              "      quickchartButtonEl.classList.add('colab-df-quickchart-complete');\n",
              "    }\n",
              "    (() => {\n",
              "      let quickchartButtonEl =\n",
              "        document.querySelector('#df-2de038f4-fbdb-4eb1-9f22-e7122a67cef2 button');\n",
              "      quickchartButtonEl.style.display =\n",
              "        google.colab.kernel.accessAllowed ? 'block' : 'none';\n",
              "    })();\n",
              "  </script>\n",
              "</div>\n",
              "    </div>\n",
              "  </div>\n"
            ]
          },
          "metadata": {},
          "execution_count": 19
        }
      ],
      "source": [
        "df.head()"
      ]
    },
    {
      "cell_type": "code",
      "execution_count": 20,
      "metadata": {
        "colab": {
          "base_uri": "https://localhost:8080/"
        },
        "id": "sPUWtkJNsdNw",
        "outputId": "c4a7f2aa-cba6-4270-dc1b-26ed08f99f3a"
      },
      "outputs": [
        {
          "output_type": "stream",
          "name": "stdout",
          "text": [
            "<class 'pandas.core.frame.DataFrame'>\n",
            "Int64Index: 12192 entries, 81994 to 255631\n",
            "Data columns (total 2 columns):\n",
            " #   Column     Non-Null Count  Dtype \n",
            "---  ------     --------------  ----- \n",
            " 0   text       12192 non-null  object\n",
            " 1   sentiment  12192 non-null  object\n",
            "dtypes: object(2)\n",
            "memory usage: 285.8+ KB\n"
          ]
        }
      ],
      "source": [
        "df.info()"
      ]
    },
    {
      "cell_type": "code",
      "source": [
        "# df = df[['text','sentiment']]"
      ],
      "metadata": {
        "id": "msQNjzKQVbk1"
      },
      "execution_count": 21,
      "outputs": []
    },
    {
      "cell_type": "code",
      "execution_count": 22,
      "metadata": {
        "id": "VGjD-A2jsdNx"
      },
      "outputs": [],
      "source": [
        "# df.isnull().sum()"
      ]
    },
    {
      "cell_type": "markdown",
      "metadata": {
        "id": "3uZuzL3qsdNy"
      },
      "source": [
        "### You are predicting whether a given tweet is about a real disaster or not. If so, predict a 1. If not, predict a 0."
      ]
    },
    {
      "cell_type": "code",
      "execution_count": 23,
      "metadata": {
        "id": "tI_QuzYN7HA4"
      },
      "outputs": [],
      "source": [
        "# df.columns"
      ]
    },
    {
      "cell_type": "code",
      "execution_count": 24,
      "metadata": {
        "colab": {
          "base_uri": "https://localhost:8080/"
        },
        "id": "oS-z4KVDsdNz",
        "outputId": "33f9afda-dac4-4296-ac31-4c44fa1a95fe"
      },
      "outputs": [
        {
          "output_type": "execute_result",
          "data": {
            "text/plain": [
              "reliable      2941\n",
              "political     2393\n",
              "bias          1719\n",
              "fake          1279\n",
              "conspiracy    1263\n",
              "rumor          735\n",
              "unknown        568\n",
              "unreliable     457\n",
              "clickbait      364\n",
              "junksci        194\n",
              "satire         169\n",
              "hate           110\n",
              "Name: sentiment, dtype: int64"
            ]
          },
          "metadata": {},
          "execution_count": 24
        }
      ],
      "source": [
        "df.sentiment.value_counts()"
      ]
    },
    {
      "cell_type": "code",
      "execution_count": 25,
      "metadata": {
        "id": "ZXOVIFc_86i6"
      },
      "outputs": [],
      "source": [
        "df['label'],l1 = df['sentiment'].factorize()"
      ]
    },
    {
      "cell_type": "code",
      "source": [
        "df"
      ],
      "metadata": {
        "colab": {
          "base_uri": "https://localhost:8080/",
          "height": 424
        },
        "id": "X83ySSKwVsNM",
        "outputId": "d7fd1de3-7933-4425-b69a-1a432464ed89"
      },
      "execution_count": 26,
      "outputs": [
        {
          "output_type": "execute_result",
          "data": {
            "text/plain": [
              "                                                     text   sentiment  label\n",
              "81994   new york (reuters) – a federal judge has ruled...   political      0\n",
              "411406  the less-known tuscan coast remains full of se...    reliable      1\n",
              "302163  what phil mickelson just announced proves that...        bias      2\n",
              "136800  as a growing number of electoral college voter...        bias      2\n",
              "229624  president obama’s former campaign manager on s...        bias      2\n",
              "...                                                   ...         ...    ...\n",
              "227687   originally posted by ideasarebulletproof peop...  conspiracy      6\n",
              "372713  hinrichsen--evelyn merrell. age , beloved wido...    reliable      1\n",
              "1684    due diligence contributor profile | more stori...        fake      4\n",
              "53788   by breaking: new twist: charlie hebdo police i...  conspiracy      6\n",
              "255631  us govt shutdown: veterans to stop receiving d...        bias      2\n",
              "\n",
              "[12192 rows x 3 columns]"
            ],
            "text/html": [
              "\n",
              "  <div id=\"df-b66bcca9-cd55-46bb-b05e-1932f0dde95e\" class=\"colab-df-container\">\n",
              "    <div>\n",
              "<style scoped>\n",
              "    .dataframe tbody tr th:only-of-type {\n",
              "        vertical-align: middle;\n",
              "    }\n",
              "\n",
              "    .dataframe tbody tr th {\n",
              "        vertical-align: top;\n",
              "    }\n",
              "\n",
              "    .dataframe thead th {\n",
              "        text-align: right;\n",
              "    }\n",
              "</style>\n",
              "<table border=\"1\" class=\"dataframe\">\n",
              "  <thead>\n",
              "    <tr style=\"text-align: right;\">\n",
              "      <th></th>\n",
              "      <th>text</th>\n",
              "      <th>sentiment</th>\n",
              "      <th>label</th>\n",
              "    </tr>\n",
              "  </thead>\n",
              "  <tbody>\n",
              "    <tr>\n",
              "      <th>81994</th>\n",
              "      <td>new york (reuters) – a federal judge has ruled...</td>\n",
              "      <td>political</td>\n",
              "      <td>0</td>\n",
              "    </tr>\n",
              "    <tr>\n",
              "      <th>411406</th>\n",
              "      <td>the less-known tuscan coast remains full of se...</td>\n",
              "      <td>reliable</td>\n",
              "      <td>1</td>\n",
              "    </tr>\n",
              "    <tr>\n",
              "      <th>302163</th>\n",
              "      <td>what phil mickelson just announced proves that...</td>\n",
              "      <td>bias</td>\n",
              "      <td>2</td>\n",
              "    </tr>\n",
              "    <tr>\n",
              "      <th>136800</th>\n",
              "      <td>as a growing number of electoral college voter...</td>\n",
              "      <td>bias</td>\n",
              "      <td>2</td>\n",
              "    </tr>\n",
              "    <tr>\n",
              "      <th>229624</th>\n",
              "      <td>president obama’s former campaign manager on s...</td>\n",
              "      <td>bias</td>\n",
              "      <td>2</td>\n",
              "    </tr>\n",
              "    <tr>\n",
              "      <th>...</th>\n",
              "      <td>...</td>\n",
              "      <td>...</td>\n",
              "      <td>...</td>\n",
              "    </tr>\n",
              "    <tr>\n",
              "      <th>227687</th>\n",
              "      <td>originally posted by ideasarebulletproof peop...</td>\n",
              "      <td>conspiracy</td>\n",
              "      <td>6</td>\n",
              "    </tr>\n",
              "    <tr>\n",
              "      <th>372713</th>\n",
              "      <td>hinrichsen--evelyn merrell. age , beloved wido...</td>\n",
              "      <td>reliable</td>\n",
              "      <td>1</td>\n",
              "    </tr>\n",
              "    <tr>\n",
              "      <th>1684</th>\n",
              "      <td>due diligence contributor profile | more stori...</td>\n",
              "      <td>fake</td>\n",
              "      <td>4</td>\n",
              "    </tr>\n",
              "    <tr>\n",
              "      <th>53788</th>\n",
              "      <td>by breaking: new twist: charlie hebdo police i...</td>\n",
              "      <td>conspiracy</td>\n",
              "      <td>6</td>\n",
              "    </tr>\n",
              "    <tr>\n",
              "      <th>255631</th>\n",
              "      <td>us govt shutdown: veterans to stop receiving d...</td>\n",
              "      <td>bias</td>\n",
              "      <td>2</td>\n",
              "    </tr>\n",
              "  </tbody>\n",
              "</table>\n",
              "<p>12192 rows × 3 columns</p>\n",
              "</div>\n",
              "    <div class=\"colab-df-buttons\">\n",
              "\n",
              "  <div class=\"colab-df-container\">\n",
              "    <button class=\"colab-df-convert\" onclick=\"convertToInteractive('df-b66bcca9-cd55-46bb-b05e-1932f0dde95e')\"\n",
              "            title=\"Convert this dataframe to an interactive table.\"\n",
              "            style=\"display:none;\">\n",
              "\n",
              "  <svg xmlns=\"http://www.w3.org/2000/svg\" height=\"24px\" viewBox=\"0 -960 960 960\">\n",
              "    <path d=\"M120-120v-720h720v720H120Zm60-500h600v-160H180v160Zm220 220h160v-160H400v160Zm0 220h160v-160H400v160ZM180-400h160v-160H180v160Zm440 0h160v-160H620v160ZM180-180h160v-160H180v160Zm440 0h160v-160H620v160Z\"/>\n",
              "  </svg>\n",
              "    </button>\n",
              "\n",
              "  <style>\n",
              "    .colab-df-container {\n",
              "      display:flex;\n",
              "      gap: 12px;\n",
              "    }\n",
              "\n",
              "    .colab-df-convert {\n",
              "      background-color: #E8F0FE;\n",
              "      border: none;\n",
              "      border-radius: 50%;\n",
              "      cursor: pointer;\n",
              "      display: none;\n",
              "      fill: #1967D2;\n",
              "      height: 32px;\n",
              "      padding: 0 0 0 0;\n",
              "      width: 32px;\n",
              "    }\n",
              "\n",
              "    .colab-df-convert:hover {\n",
              "      background-color: #E2EBFA;\n",
              "      box-shadow: 0px 1px 2px rgba(60, 64, 67, 0.3), 0px 1px 3px 1px rgba(60, 64, 67, 0.15);\n",
              "      fill: #174EA6;\n",
              "    }\n",
              "\n",
              "    .colab-df-buttons div {\n",
              "      margin-bottom: 4px;\n",
              "    }\n",
              "\n",
              "    [theme=dark] .colab-df-convert {\n",
              "      background-color: #3B4455;\n",
              "      fill: #D2E3FC;\n",
              "    }\n",
              "\n",
              "    [theme=dark] .colab-df-convert:hover {\n",
              "      background-color: #434B5C;\n",
              "      box-shadow: 0px 1px 3px 1px rgba(0, 0, 0, 0.15);\n",
              "      filter: drop-shadow(0px 1px 2px rgba(0, 0, 0, 0.3));\n",
              "      fill: #FFFFFF;\n",
              "    }\n",
              "  </style>\n",
              "\n",
              "    <script>\n",
              "      const buttonEl =\n",
              "        document.querySelector('#df-b66bcca9-cd55-46bb-b05e-1932f0dde95e button.colab-df-convert');\n",
              "      buttonEl.style.display =\n",
              "        google.colab.kernel.accessAllowed ? 'block' : 'none';\n",
              "\n",
              "      async function convertToInteractive(key) {\n",
              "        const element = document.querySelector('#df-b66bcca9-cd55-46bb-b05e-1932f0dde95e');\n",
              "        const dataTable =\n",
              "          await google.colab.kernel.invokeFunction('convertToInteractive',\n",
              "                                                    [key], {});\n",
              "        if (!dataTable) return;\n",
              "\n",
              "        const docLinkHtml = 'Like what you see? Visit the ' +\n",
              "          '<a target=\"_blank\" href=https://colab.research.google.com/notebooks/data_table.ipynb>data table notebook</a>'\n",
              "          + ' to learn more about interactive tables.';\n",
              "        element.innerHTML = '';\n",
              "        dataTable['output_type'] = 'display_data';\n",
              "        await google.colab.output.renderOutput(dataTable, element);\n",
              "        const docLink = document.createElement('div');\n",
              "        docLink.innerHTML = docLinkHtml;\n",
              "        element.appendChild(docLink);\n",
              "      }\n",
              "    </script>\n",
              "  </div>\n",
              "\n",
              "\n",
              "<div id=\"df-58e28c80-4828-4dc2-a79b-5a1f25ac7a3e\">\n",
              "  <button class=\"colab-df-quickchart\" onclick=\"quickchart('df-58e28c80-4828-4dc2-a79b-5a1f25ac7a3e')\"\n",
              "            title=\"Suggest charts.\"\n",
              "            style=\"display:none;\">\n",
              "\n",
              "<svg xmlns=\"http://www.w3.org/2000/svg\" height=\"24px\"viewBox=\"0 0 24 24\"\n",
              "     width=\"24px\">\n",
              "    <g>\n",
              "        <path d=\"M19 3H5c-1.1 0-2 .9-2 2v14c0 1.1.9 2 2 2h14c1.1 0 2-.9 2-2V5c0-1.1-.9-2-2-2zM9 17H7v-7h2v7zm4 0h-2V7h2v10zm4 0h-2v-4h2v4z\"/>\n",
              "    </g>\n",
              "</svg>\n",
              "  </button>\n",
              "\n",
              "<style>\n",
              "  .colab-df-quickchart {\n",
              "      --bg-color: #E8F0FE;\n",
              "      --fill-color: #1967D2;\n",
              "      --hover-bg-color: #E2EBFA;\n",
              "      --hover-fill-color: #174EA6;\n",
              "      --disabled-fill-color: #AAA;\n",
              "      --disabled-bg-color: #DDD;\n",
              "  }\n",
              "\n",
              "  [theme=dark] .colab-df-quickchart {\n",
              "      --bg-color: #3B4455;\n",
              "      --fill-color: #D2E3FC;\n",
              "      --hover-bg-color: #434B5C;\n",
              "      --hover-fill-color: #FFFFFF;\n",
              "      --disabled-bg-color: #3B4455;\n",
              "      --disabled-fill-color: #666;\n",
              "  }\n",
              "\n",
              "  .colab-df-quickchart {\n",
              "    background-color: var(--bg-color);\n",
              "    border: none;\n",
              "    border-radius: 50%;\n",
              "    cursor: pointer;\n",
              "    display: none;\n",
              "    fill: var(--fill-color);\n",
              "    height: 32px;\n",
              "    padding: 0;\n",
              "    width: 32px;\n",
              "  }\n",
              "\n",
              "  .colab-df-quickchart:hover {\n",
              "    background-color: var(--hover-bg-color);\n",
              "    box-shadow: 0 1px 2px rgba(60, 64, 67, 0.3), 0 1px 3px 1px rgba(60, 64, 67, 0.15);\n",
              "    fill: var(--button-hover-fill-color);\n",
              "  }\n",
              "\n",
              "  .colab-df-quickchart-complete:disabled,\n",
              "  .colab-df-quickchart-complete:disabled:hover {\n",
              "    background-color: var(--disabled-bg-color);\n",
              "    fill: var(--disabled-fill-color);\n",
              "    box-shadow: none;\n",
              "  }\n",
              "\n",
              "  .colab-df-spinner {\n",
              "    border: 2px solid var(--fill-color);\n",
              "    border-color: transparent;\n",
              "    border-bottom-color: var(--fill-color);\n",
              "    animation:\n",
              "      spin 1s steps(1) infinite;\n",
              "  }\n",
              "\n",
              "  @keyframes spin {\n",
              "    0% {\n",
              "      border-color: transparent;\n",
              "      border-bottom-color: var(--fill-color);\n",
              "      border-left-color: var(--fill-color);\n",
              "    }\n",
              "    20% {\n",
              "      border-color: transparent;\n",
              "      border-left-color: var(--fill-color);\n",
              "      border-top-color: var(--fill-color);\n",
              "    }\n",
              "    30% {\n",
              "      border-color: transparent;\n",
              "      border-left-color: var(--fill-color);\n",
              "      border-top-color: var(--fill-color);\n",
              "      border-right-color: var(--fill-color);\n",
              "    }\n",
              "    40% {\n",
              "      border-color: transparent;\n",
              "      border-right-color: var(--fill-color);\n",
              "      border-top-color: var(--fill-color);\n",
              "    }\n",
              "    60% {\n",
              "      border-color: transparent;\n",
              "      border-right-color: var(--fill-color);\n",
              "    }\n",
              "    80% {\n",
              "      border-color: transparent;\n",
              "      border-right-color: var(--fill-color);\n",
              "      border-bottom-color: var(--fill-color);\n",
              "    }\n",
              "    90% {\n",
              "      border-color: transparent;\n",
              "      border-bottom-color: var(--fill-color);\n",
              "    }\n",
              "  }\n",
              "</style>\n",
              "\n",
              "  <script>\n",
              "    async function quickchart(key) {\n",
              "      const quickchartButtonEl =\n",
              "        document.querySelector('#' + key + ' button');\n",
              "      quickchartButtonEl.disabled = true;  // To prevent multiple clicks.\n",
              "      quickchartButtonEl.classList.add('colab-df-spinner');\n",
              "      try {\n",
              "        const charts = await google.colab.kernel.invokeFunction(\n",
              "            'suggestCharts', [key], {});\n",
              "      } catch (error) {\n",
              "        console.error('Error during call to suggestCharts:', error);\n",
              "      }\n",
              "      quickchartButtonEl.classList.remove('colab-df-spinner');\n",
              "      quickchartButtonEl.classList.add('colab-df-quickchart-complete');\n",
              "    }\n",
              "    (() => {\n",
              "      let quickchartButtonEl =\n",
              "        document.querySelector('#df-58e28c80-4828-4dc2-a79b-5a1f25ac7a3e button');\n",
              "      quickchartButtonEl.style.display =\n",
              "        google.colab.kernel.accessAllowed ? 'block' : 'none';\n",
              "    })();\n",
              "  </script>\n",
              "</div>\n",
              "    </div>\n",
              "  </div>\n"
            ]
          },
          "metadata": {},
          "execution_count": 26
        }
      ]
    },
    {
      "cell_type": "code",
      "execution_count": 27,
      "metadata": {
        "colab": {
          "base_uri": "https://localhost:8080/",
          "height": 424
        },
        "id": "j25Xew7uxM5-",
        "outputId": "36e9b205-4a16-4f7e-cfb7-9672846d89ea"
      },
      "outputs": [
        {
          "output_type": "execute_result",
          "data": {
            "text/plain": [
              "                                                     text   sentiment  label\n",
              "81994   new york (reuters) – a federal judge has ruled...   political      0\n",
              "411406  the less-known tuscan coast remains full of se...    reliable      1\n",
              "302163  what phil mickelson just announced proves that...        bias      2\n",
              "136800  as a growing number of electoral college voter...        bias      2\n",
              "229624  president obama’s former campaign manager on s...        bias      2\n",
              "...                                                   ...         ...    ...\n",
              "227687   originally posted by ideasarebulletproof peop...  conspiracy      6\n",
              "372713  hinrichsen--evelyn merrell. age , beloved wido...    reliable      1\n",
              "1684    due diligence contributor profile | more stori...        fake      4\n",
              "53788   by breaking: new twist: charlie hebdo police i...  conspiracy      6\n",
              "255631  us govt shutdown: veterans to stop receiving d...        bias      2\n",
              "\n",
              "[12192 rows x 3 columns]"
            ],
            "text/html": [
              "\n",
              "  <div id=\"df-9dc66f1a-e260-4dd4-8b6c-e9f54954e9eb\" class=\"colab-df-container\">\n",
              "    <div>\n",
              "<style scoped>\n",
              "    .dataframe tbody tr th:only-of-type {\n",
              "        vertical-align: middle;\n",
              "    }\n",
              "\n",
              "    .dataframe tbody tr th {\n",
              "        vertical-align: top;\n",
              "    }\n",
              "\n",
              "    .dataframe thead th {\n",
              "        text-align: right;\n",
              "    }\n",
              "</style>\n",
              "<table border=\"1\" class=\"dataframe\">\n",
              "  <thead>\n",
              "    <tr style=\"text-align: right;\">\n",
              "      <th></th>\n",
              "      <th>text</th>\n",
              "      <th>sentiment</th>\n",
              "      <th>label</th>\n",
              "    </tr>\n",
              "  </thead>\n",
              "  <tbody>\n",
              "    <tr>\n",
              "      <th>81994</th>\n",
              "      <td>new york (reuters) – a federal judge has ruled...</td>\n",
              "      <td>political</td>\n",
              "      <td>0</td>\n",
              "    </tr>\n",
              "    <tr>\n",
              "      <th>411406</th>\n",
              "      <td>the less-known tuscan coast remains full of se...</td>\n",
              "      <td>reliable</td>\n",
              "      <td>1</td>\n",
              "    </tr>\n",
              "    <tr>\n",
              "      <th>302163</th>\n",
              "      <td>what phil mickelson just announced proves that...</td>\n",
              "      <td>bias</td>\n",
              "      <td>2</td>\n",
              "    </tr>\n",
              "    <tr>\n",
              "      <th>136800</th>\n",
              "      <td>as a growing number of electoral college voter...</td>\n",
              "      <td>bias</td>\n",
              "      <td>2</td>\n",
              "    </tr>\n",
              "    <tr>\n",
              "      <th>229624</th>\n",
              "      <td>president obama’s former campaign manager on s...</td>\n",
              "      <td>bias</td>\n",
              "      <td>2</td>\n",
              "    </tr>\n",
              "    <tr>\n",
              "      <th>...</th>\n",
              "      <td>...</td>\n",
              "      <td>...</td>\n",
              "      <td>...</td>\n",
              "    </tr>\n",
              "    <tr>\n",
              "      <th>227687</th>\n",
              "      <td>originally posted by ideasarebulletproof peop...</td>\n",
              "      <td>conspiracy</td>\n",
              "      <td>6</td>\n",
              "    </tr>\n",
              "    <tr>\n",
              "      <th>372713</th>\n",
              "      <td>hinrichsen--evelyn merrell. age , beloved wido...</td>\n",
              "      <td>reliable</td>\n",
              "      <td>1</td>\n",
              "    </tr>\n",
              "    <tr>\n",
              "      <th>1684</th>\n",
              "      <td>due diligence contributor profile | more stori...</td>\n",
              "      <td>fake</td>\n",
              "      <td>4</td>\n",
              "    </tr>\n",
              "    <tr>\n",
              "      <th>53788</th>\n",
              "      <td>by breaking: new twist: charlie hebdo police i...</td>\n",
              "      <td>conspiracy</td>\n",
              "      <td>6</td>\n",
              "    </tr>\n",
              "    <tr>\n",
              "      <th>255631</th>\n",
              "      <td>us govt shutdown: veterans to stop receiving d...</td>\n",
              "      <td>bias</td>\n",
              "      <td>2</td>\n",
              "    </tr>\n",
              "  </tbody>\n",
              "</table>\n",
              "<p>12192 rows × 3 columns</p>\n",
              "</div>\n",
              "    <div class=\"colab-df-buttons\">\n",
              "\n",
              "  <div class=\"colab-df-container\">\n",
              "    <button class=\"colab-df-convert\" onclick=\"convertToInteractive('df-9dc66f1a-e260-4dd4-8b6c-e9f54954e9eb')\"\n",
              "            title=\"Convert this dataframe to an interactive table.\"\n",
              "            style=\"display:none;\">\n",
              "\n",
              "  <svg xmlns=\"http://www.w3.org/2000/svg\" height=\"24px\" viewBox=\"0 -960 960 960\">\n",
              "    <path d=\"M120-120v-720h720v720H120Zm60-500h600v-160H180v160Zm220 220h160v-160H400v160Zm0 220h160v-160H400v160ZM180-400h160v-160H180v160Zm440 0h160v-160H620v160ZM180-180h160v-160H180v160Zm440 0h160v-160H620v160Z\"/>\n",
              "  </svg>\n",
              "    </button>\n",
              "\n",
              "  <style>\n",
              "    .colab-df-container {\n",
              "      display:flex;\n",
              "      gap: 12px;\n",
              "    }\n",
              "\n",
              "    .colab-df-convert {\n",
              "      background-color: #E8F0FE;\n",
              "      border: none;\n",
              "      border-radius: 50%;\n",
              "      cursor: pointer;\n",
              "      display: none;\n",
              "      fill: #1967D2;\n",
              "      height: 32px;\n",
              "      padding: 0 0 0 0;\n",
              "      width: 32px;\n",
              "    }\n",
              "\n",
              "    .colab-df-convert:hover {\n",
              "      background-color: #E2EBFA;\n",
              "      box-shadow: 0px 1px 2px rgba(60, 64, 67, 0.3), 0px 1px 3px 1px rgba(60, 64, 67, 0.15);\n",
              "      fill: #174EA6;\n",
              "    }\n",
              "\n",
              "    .colab-df-buttons div {\n",
              "      margin-bottom: 4px;\n",
              "    }\n",
              "\n",
              "    [theme=dark] .colab-df-convert {\n",
              "      background-color: #3B4455;\n",
              "      fill: #D2E3FC;\n",
              "    }\n",
              "\n",
              "    [theme=dark] .colab-df-convert:hover {\n",
              "      background-color: #434B5C;\n",
              "      box-shadow: 0px 1px 3px 1px rgba(0, 0, 0, 0.15);\n",
              "      filter: drop-shadow(0px 1px 2px rgba(0, 0, 0, 0.3));\n",
              "      fill: #FFFFFF;\n",
              "    }\n",
              "  </style>\n",
              "\n",
              "    <script>\n",
              "      const buttonEl =\n",
              "        document.querySelector('#df-9dc66f1a-e260-4dd4-8b6c-e9f54954e9eb button.colab-df-convert');\n",
              "      buttonEl.style.display =\n",
              "        google.colab.kernel.accessAllowed ? 'block' : 'none';\n",
              "\n",
              "      async function convertToInteractive(key) {\n",
              "        const element = document.querySelector('#df-9dc66f1a-e260-4dd4-8b6c-e9f54954e9eb');\n",
              "        const dataTable =\n",
              "          await google.colab.kernel.invokeFunction('convertToInteractive',\n",
              "                                                    [key], {});\n",
              "        if (!dataTable) return;\n",
              "\n",
              "        const docLinkHtml = 'Like what you see? Visit the ' +\n",
              "          '<a target=\"_blank\" href=https://colab.research.google.com/notebooks/data_table.ipynb>data table notebook</a>'\n",
              "          + ' to learn more about interactive tables.';\n",
              "        element.innerHTML = '';\n",
              "        dataTable['output_type'] = 'display_data';\n",
              "        await google.colab.output.renderOutput(dataTable, element);\n",
              "        const docLink = document.createElement('div');\n",
              "        docLink.innerHTML = docLinkHtml;\n",
              "        element.appendChild(docLink);\n",
              "      }\n",
              "    </script>\n",
              "  </div>\n",
              "\n",
              "\n",
              "<div id=\"df-86112ee5-104c-4af8-856d-1539799914e5\">\n",
              "  <button class=\"colab-df-quickchart\" onclick=\"quickchart('df-86112ee5-104c-4af8-856d-1539799914e5')\"\n",
              "            title=\"Suggest charts.\"\n",
              "            style=\"display:none;\">\n",
              "\n",
              "<svg xmlns=\"http://www.w3.org/2000/svg\" height=\"24px\"viewBox=\"0 0 24 24\"\n",
              "     width=\"24px\">\n",
              "    <g>\n",
              "        <path d=\"M19 3H5c-1.1 0-2 .9-2 2v14c0 1.1.9 2 2 2h14c1.1 0 2-.9 2-2V5c0-1.1-.9-2-2-2zM9 17H7v-7h2v7zm4 0h-2V7h2v10zm4 0h-2v-4h2v4z\"/>\n",
              "    </g>\n",
              "</svg>\n",
              "  </button>\n",
              "\n",
              "<style>\n",
              "  .colab-df-quickchart {\n",
              "      --bg-color: #E8F0FE;\n",
              "      --fill-color: #1967D2;\n",
              "      --hover-bg-color: #E2EBFA;\n",
              "      --hover-fill-color: #174EA6;\n",
              "      --disabled-fill-color: #AAA;\n",
              "      --disabled-bg-color: #DDD;\n",
              "  }\n",
              "\n",
              "  [theme=dark] .colab-df-quickchart {\n",
              "      --bg-color: #3B4455;\n",
              "      --fill-color: #D2E3FC;\n",
              "      --hover-bg-color: #434B5C;\n",
              "      --hover-fill-color: #FFFFFF;\n",
              "      --disabled-bg-color: #3B4455;\n",
              "      --disabled-fill-color: #666;\n",
              "  }\n",
              "\n",
              "  .colab-df-quickchart {\n",
              "    background-color: var(--bg-color);\n",
              "    border: none;\n",
              "    border-radius: 50%;\n",
              "    cursor: pointer;\n",
              "    display: none;\n",
              "    fill: var(--fill-color);\n",
              "    height: 32px;\n",
              "    padding: 0;\n",
              "    width: 32px;\n",
              "  }\n",
              "\n",
              "  .colab-df-quickchart:hover {\n",
              "    background-color: var(--hover-bg-color);\n",
              "    box-shadow: 0 1px 2px rgba(60, 64, 67, 0.3), 0 1px 3px 1px rgba(60, 64, 67, 0.15);\n",
              "    fill: var(--button-hover-fill-color);\n",
              "  }\n",
              "\n",
              "  .colab-df-quickchart-complete:disabled,\n",
              "  .colab-df-quickchart-complete:disabled:hover {\n",
              "    background-color: var(--disabled-bg-color);\n",
              "    fill: var(--disabled-fill-color);\n",
              "    box-shadow: none;\n",
              "  }\n",
              "\n",
              "  .colab-df-spinner {\n",
              "    border: 2px solid var(--fill-color);\n",
              "    border-color: transparent;\n",
              "    border-bottom-color: var(--fill-color);\n",
              "    animation:\n",
              "      spin 1s steps(1) infinite;\n",
              "  }\n",
              "\n",
              "  @keyframes spin {\n",
              "    0% {\n",
              "      border-color: transparent;\n",
              "      border-bottom-color: var(--fill-color);\n",
              "      border-left-color: var(--fill-color);\n",
              "    }\n",
              "    20% {\n",
              "      border-color: transparent;\n",
              "      border-left-color: var(--fill-color);\n",
              "      border-top-color: var(--fill-color);\n",
              "    }\n",
              "    30% {\n",
              "      border-color: transparent;\n",
              "      border-left-color: var(--fill-color);\n",
              "      border-top-color: var(--fill-color);\n",
              "      border-right-color: var(--fill-color);\n",
              "    }\n",
              "    40% {\n",
              "      border-color: transparent;\n",
              "      border-right-color: var(--fill-color);\n",
              "      border-top-color: var(--fill-color);\n",
              "    }\n",
              "    60% {\n",
              "      border-color: transparent;\n",
              "      border-right-color: var(--fill-color);\n",
              "    }\n",
              "    80% {\n",
              "      border-color: transparent;\n",
              "      border-right-color: var(--fill-color);\n",
              "      border-bottom-color: var(--fill-color);\n",
              "    }\n",
              "    90% {\n",
              "      border-color: transparent;\n",
              "      border-bottom-color: var(--fill-color);\n",
              "    }\n",
              "  }\n",
              "</style>\n",
              "\n",
              "  <script>\n",
              "    async function quickchart(key) {\n",
              "      const quickchartButtonEl =\n",
              "        document.querySelector('#' + key + ' button');\n",
              "      quickchartButtonEl.disabled = true;  // To prevent multiple clicks.\n",
              "      quickchartButtonEl.classList.add('colab-df-spinner');\n",
              "      try {\n",
              "        const charts = await google.colab.kernel.invokeFunction(\n",
              "            'suggestCharts', [key], {});\n",
              "      } catch (error) {\n",
              "        console.error('Error during call to suggestCharts:', error);\n",
              "      }\n",
              "      quickchartButtonEl.classList.remove('colab-df-spinner');\n",
              "      quickchartButtonEl.classList.add('colab-df-quickchart-complete');\n",
              "    }\n",
              "    (() => {\n",
              "      let quickchartButtonEl =\n",
              "        document.querySelector('#df-86112ee5-104c-4af8-856d-1539799914e5 button');\n",
              "      quickchartButtonEl.style.display =\n",
              "        google.colab.kernel.accessAllowed ? 'block' : 'none';\n",
              "    })();\n",
              "  </script>\n",
              "</div>\n",
              "    </div>\n",
              "  </div>\n"
            ]
          },
          "metadata": {},
          "execution_count": 27
        }
      ],
      "source": [
        "df.to_csv('/content/drive/MyDrive/work 51/df2.csv',index=False)\n",
        "df"
      ]
    },
    {
      "cell_type": "code",
      "source": [
        "lab = list(l1)"
      ],
      "metadata": {
        "id": "1BIH4f7DSzTz"
      },
      "execution_count": 28,
      "outputs": []
    },
    {
      "cell_type": "code",
      "execution_count": 29,
      "metadata": {
        "colab": {
          "base_uri": "https://localhost:8080/",
          "height": 465
        },
        "id": "HFnQkEYisdNz",
        "outputId": "4094b2ac-76d2-4be8-8851-61c52128c6ed"
      },
      "outputs": [
        {
          "output_type": "display_data",
          "data": {
            "text/plain": [
              "<Figure size 700x500 with 1 Axes>"
            ],
            "image/png": "[encoded data removed]"
          },
          "metadata": {}
        }
      ],
      "source": [
        "plt.figure(figsize=(7,5))\n",
        "sns.countplot(data=df, y=\"label\")\n",
        "# plt.title(\"Compare Target\")\n",
        "df[['label','sentiment']].to_csv(f'{path}_labels.csv',index=False)\n",
        "plt.yticks(range(12),lab)\n",
        "plt.savefig(f'{path}_labels.png',bbox_inches='tight')\n",
        "plt.show()"
      ]
    },
    {
      "cell_type": "code",
      "execution_count": 30,
      "metadata": {
        "colab": {
          "base_uri": "https://localhost:8080/"
        },
        "id": "HKp2DHmUyaB0",
        "outputId": "98818f42-2205-484d-b409-6c96f448861a"
      },
      "outputs": [
        {
          "output_type": "execute_result",
          "data": {
            "text/plain": [
              "Index(['text', 'sentiment', 'label'], dtype='object')"
            ]
          },
          "metadata": {},
          "execution_count": 30
        }
      ],
      "source": [
        "df.columns"
      ]
    },
    {
      "cell_type": "markdown",
      "metadata": {
        "id": "FYEMy0GFsdNz"
      },
      "source": [
        "# Count Character"
      ]
    },
    {
      "cell_type": "code",
      "execution_count": 31,
      "metadata": {
        "id": "kenHAD6G1xN8"
      },
      "outputs": [],
      "source": [
        "# df.columns = ['text','emotion','label']"
      ]
    },
    {
      "cell_type": "code",
      "execution_count": 32,
      "metadata": {
        "id": "CwQl0FP_sdN0"
      },
      "outputs": [],
      "source": [
        "df[\"character_count\"]=df[\"text\"].str.len()"
      ]
    },
    {
      "cell_type": "markdown",
      "metadata": {
        "id": "L0-RGWpIsdN0"
      },
      "source": [
        "# Count Word"
      ]
    },
    {
      "cell_type": "code",
      "source": [
        "df = df.copy()"
      ],
      "metadata": {
        "id": "YdMcOvVSW_27"
      },
      "execution_count": 33,
      "outputs": []
    },
    {
      "cell_type": "code",
      "execution_count": 34,
      "metadata": {
        "id": "rjWoD40dsdN0"
      },
      "outputs": [],
      "source": [
        "df['word_count'] = df['text'].str.split().str.len()\n",
        "df[\"character_count\"]=df[\"text\"].str.len()"
      ]
    },
    {
      "cell_type": "code",
      "execution_count": 35,
      "metadata": {
        "colab": {
          "base_uri": "https://localhost:8080/"
        },
        "id": "Ffd6oXiW8Sje",
        "outputId": "f83b57f4-c18f-4192-d1d6-e94294208e1b"
      },
      "outputs": [
        {
          "output_type": "execute_result",
          "data": {
            "text/plain": [
              "16963"
            ]
          },
          "metadata": {},
          "execution_count": 35
        }
      ],
      "source": [
        "df['word_count'].max()"
      ]
    },
    {
      "cell_type": "code",
      "source": [
        "df['text'].iloc[0]"
      ],
      "metadata": {
        "colab": {
          "base_uri": "https://localhost:8080/",
          "height": 128
        },
        "id": "2C4CgctwTmUl",
        "outputId": "7c4b3ef5-7e98-4038-df56-4f9299be3638"
      },
      "execution_count": 36,
      "outputs": [
        {
          "output_type": "execute_result",
          "data": {
            "text/plain": [
              "'new york (reuters) – a federal judge has ruled that an inmate does not have a constitutionally protected right to matzoh and grape juice. christopher henry, who was convicted of first-degree sodomy, claimed “permanent trauma” and malnourishment and requested nearly $$ billion in damages for what he called a violation of his first amendment right to religious freedom. oddly enough, henry didn’t request matzoh for passover, the jewish holiday during which it is traditionally eaten. instead, henry claimed he had a right to have the unleavened bread served daily and grape juice every friday. but on august , u.s. southern district judge shira scheindlin held that the rikers island jail could deny henry his request in the interests of maintaining order and keeping costs reasonable. “providing individualized meals to a single inmate might well foster an impression of favoritism, which could lead to jealousy and resentment among the inmate population, which in turn could cause tension and threaten prison security,” she wrote. “similarly, providing individualized meals to one or several inmates would involve a substantial increase in administrative costs.” scheindlin noted that henry already receives kosher meals and is allowed to meet with a rabbi. henry, who represented himself, has filed a number of lawsuits against the department of corrections, including claims based on the permitted length of phone calls and lack of conjugal visits. (reporting by joseph ax; editing by noeleen walder)'"
            ],
            "application/vnd.google.colaboratory.intrinsic+json": {
              "type": "string"
            }
          },
          "metadata": {},
          "execution_count": 36
        }
      ]
    },
    {
      "cell_type": "markdown",
      "metadata": {
        "id": "4l0pyMeLsdN0"
      },
      "source": [
        "# Count Sentence"
      ]
    },
    {
      "cell_type": "code",
      "execution_count": 37,
      "metadata": {
        "id": "MsP0G_yesdN0"
      },
      "outputs": [],
      "source": [
        "# cor=df[[\"target\",\"character_count\",\"word_count\"]].corr()\n",
        "# plt.figure(figsize=(7,5))\n",
        "# sns.heatmap(cor,annot=True,cmap=\"jet\",linewidths=7, linecolor='darkorange')\n",
        "# cor.to_csv(f'{path}_cor.csv')\n",
        "# plt.savefig(f'{path}_cor.png',bbox_inches='tight')\n",
        "# plt.show()"
      ]
    },
    {
      "cell_type": "markdown",
      "metadata": {
        "id": "q_aEBXu1sdN0"
      },
      "source": [
        "# Data Length"
      ]
    },
    {
      "cell_type": "code",
      "execution_count": 38,
      "metadata": {
        "id": "awzby3knzz-g"
      },
      "outputs": [],
      "source": [
        "df['len'] = df['text'].str.split().apply(len)"
      ]
    },
    {
      "cell_type": "code",
      "source": [
        "df.len.plot(kind='kde')"
      ],
      "metadata": {
        "colab": {
          "base_uri": "https://localhost:8080/",
          "height": 447
        },
        "id": "mjVkPDe2XH4k",
        "outputId": "468b487b-3510-4303-fe02-f4da61410153"
      },
      "execution_count": 39,
      "outputs": [
        {
          "output_type": "execute_result",
          "data": {
            "text/plain": [
              "<Axes: ylabel='Density'>"
            ]
          },
          "metadata": {},
          "execution_count": 39
        },
        {
          "output_type": "display_data",
          "data": {
            "text/plain": [
              "<Figure size 640x480 with 1 Axes>"
            ],
            "image/png": "[encoded data removed]"
          },
          "metadata": {}
        }
      ]
    },
    {
      "cell_type": "code",
      "execution_count": 40,
      "metadata": {
        "id": "xvSY3jDG-q3Z"
      },
      "outputs": [],
      "source": [
        "df = df[df['len']>=5]"
      ]
    },
    {
      "cell_type": "code",
      "execution_count": 41,
      "metadata": {
        "id": "fUFhUg2KsdN0"
      },
      "outputs": [],
      "source": [
        "# notdisaster_len=df[df[\"target\"]==0][\"text\"].str.split().apply(len)\n",
        "# disaster_len=df[df[\"target\"]==1][\"text\"].str.split().apply(len)\n",
        "# plt.figure(figsize=(7,5))\n",
        "# plt.hist(notdisaster_len, bins=40,label='Fake',color=\"red\")\n",
        "# plt.hist(disaster_len , bins=40, label='Real',color=\"green\")\n",
        "# plt.xlim(0,2000)\n",
        "# plt.title(\"Real Vs Fake tweet\")\n",
        "# plt.legend()\n",
        "# notdisaster_len.to_csv(f'{path}_Fake_len.csv',index=False)\n",
        "# disaster_len.to_csv(f'{path}_Real_len.csv',index=False)\n",
        "\n",
        "# plt.savefig(f'{path}_Real-Fake_len.png',bbox_inches='tight')\n",
        "# plt.show()"
      ]
    },
    {
      "cell_type": "code",
      "execution_count": 42,
      "metadata": {
        "colab": {
          "base_uri": "https://localhost:8080/",
          "height": 424
        },
        "id": "-pMJ4SXB2ceL",
        "outputId": "47210ea3-9e15-412b-aa02-2277c83393f6"
      },
      "outputs": [
        {
          "output_type": "execute_result",
          "data": {
            "text/plain": [
              "                                                     text   sentiment  label  \\\n",
              "81994   new york (reuters) – a federal judge has ruled...   political      0   \n",
              "411406  the less-known tuscan coast remains full of se...    reliable      1   \n",
              "302163  what phil mickelson just announced proves that...        bias      2   \n",
              "136800  as a growing number of electoral college voter...        bias      2   \n",
              "229624  president obama’s former campaign manager on s...        bias      2   \n",
              "...                                                   ...         ...    ...   \n",
              "227687   originally posted by ideasarebulletproof peop...  conspiracy      6   \n",
              "372713  hinrichsen--evelyn merrell. age , beloved wido...    reliable      1   \n",
              "1684    due diligence contributor profile | more stori...        fake      4   \n",
              "53788   by breaking: new twist: charlie hebdo police i...  conspiracy      6   \n",
              "255631  us govt shutdown: veterans to stop receiving d...        bias      2   \n",
              "\n",
              "        character_count  word_count   len  \n",
              "81994              1505         233   233  \n",
              "411406            11629        1958  1958  \n",
              "302163             2761         471   471  \n",
              "136800             1546         247   247  \n",
              "229624              886         150   150  \n",
              "...                 ...         ...   ...  \n",
              "227687             1746         314   314  \n",
              "372713              433          69    69  \n",
              "1684                951         133   133  \n",
              "53788             15650        2528  2528  \n",
              "255631             2605         426   426  \n",
              "\n",
              "[12192 rows x 6 columns]"
            ],
            "text/html": [
              "\n",
              "  <div id=\"df-d24c39b7-299d-4798-a06d-747930b8970c\" class=\"colab-df-container\">\n",
              "    <div>\n",
              "<style scoped>\n",
              "    .dataframe tbody tr th:only-of-type {\n",
              "        vertical-align: middle;\n",
              "    }\n",
              "\n",
              "    .dataframe tbody tr th {\n",
              "        vertical-align: top;\n",
              "    }\n",
              "\n",
              "    .dataframe thead th {\n",
              "        text-align: right;\n",
              "    }\n",
              "</style>\n",
              "<table border=\"1\" class=\"dataframe\">\n",
              "  <thead>\n",
              "    <tr style=\"text-align: right;\">\n",
              "      <th></th>\n",
              "      <th>text</th>\n",
              "      <th>sentiment</th>\n",
              "      <th>label</th>\n",
              "      <th>character_count</th>\n",
              "      <th>word_count</th>\n",
              "      <th>len</th>\n",
              "    </tr>\n",
              "  </thead>\n",
              "  <tbody>\n",
              "    <tr>\n",
              "      <th>81994</th>\n",
              "      <td>new york (reuters) – a federal judge has ruled...</td>\n",
              "      <td>political</td>\n",
              "      <td>0</td>\n",
              "      <td>1505</td>\n",
              "      <td>233</td>\n",
              "      <td>233</td>\n",
              "    </tr>\n",
              "    <tr>\n",
              "      <th>411406</th>\n",
              "      <td>the less-known tuscan coast remains full of se...</td>\n",
              "      <td>reliable</td>\n",
              "      <td>1</td>\n",
              "      <td>11629</td>\n",
              "      <td>1958</td>\n",
              "      <td>1958</td>\n",
              "    </tr>\n",
              "    <tr>\n",
              "      <th>302163</th>\n",
              "      <td>what phil mickelson just announced proves that...</td>\n",
              "      <td>bias</td>\n",
              "      <td>2</td>\n",
              "      <td>2761</td>\n",
              "      <td>471</td>\n",
              "      <td>471</td>\n",
              "    </tr>\n",
              "    <tr>\n",
              "      <th>136800</th>\n",
              "      <td>as a growing number of electoral college voter...</td>\n",
              "      <td>bias</td>\n",
              "      <td>2</td>\n",
              "      <td>1546</td>\n",
              "      <td>247</td>\n",
              "      <td>247</td>\n",
              "    </tr>\n",
              "    <tr>\n",
              "      <th>229624</th>\n",
              "      <td>president obama’s former campaign manager on s...</td>\n",
              "      <td>bias</td>\n",
              "      <td>2</td>\n",
              "      <td>886</td>\n",
              "      <td>150</td>\n",
              "      <td>150</td>\n",
              "    </tr>\n",
              "    <tr>\n",
              "      <th>...</th>\n",
              "      <td>...</td>\n",
              "      <td>...</td>\n",
              "      <td>...</td>\n",
              "      <td>...</td>\n",
              "      <td>...</td>\n",
              "      <td>...</td>\n",
              "    </tr>\n",
              "    <tr>\n",
              "      <th>227687</th>\n",
              "      <td>originally posted by ideasarebulletproof peop...</td>\n",
              "      <td>conspiracy</td>\n",
              "      <td>6</td>\n",
              "      <td>1746</td>\n",
              "      <td>314</td>\n",
              "      <td>314</td>\n",
              "    </tr>\n",
              "    <tr>\n",
              "      <th>372713</th>\n",
              "      <td>hinrichsen--evelyn merrell. age , beloved wido...</td>\n",
              "      <td>reliable</td>\n",
              "      <td>1</td>\n",
              "      <td>433</td>\n",
              "      <td>69</td>\n",
              "      <td>69</td>\n",
              "    </tr>\n",
              "    <tr>\n",
              "      <th>1684</th>\n",
              "      <td>due diligence contributor profile | more stori...</td>\n",
              "      <td>fake</td>\n",
              "      <td>4</td>\n",
              "      <td>951</td>\n",
              "      <td>133</td>\n",
              "      <td>133</td>\n",
              "    </tr>\n",
              "    <tr>\n",
              "      <th>53788</th>\n",
              "      <td>by breaking: new twist: charlie hebdo police i...</td>\n",
              "      <td>conspiracy</td>\n",
              "      <td>6</td>\n",
              "      <td>15650</td>\n",
              "      <td>2528</td>\n",
              "      <td>2528</td>\n",
              "    </tr>\n",
              "    <tr>\n",
              "      <th>255631</th>\n",
              "      <td>us govt shutdown: veterans to stop receiving d...</td>\n",
              "      <td>bias</td>\n",
              "      <td>2</td>\n",
              "      <td>2605</td>\n",
              "      <td>426</td>\n",
              "      <td>426</td>\n",
              "    </tr>\n",
              "  </tbody>\n",
              "</table>\n",
              "<p>12192 rows × 6 columns</p>\n",
              "</div>\n",
              "    <div class=\"colab-df-buttons\">\n",
              "\n",
              "  <div class=\"colab-df-container\">\n",
              "    <button class=\"colab-df-convert\" onclick=\"convertToInteractive('df-d24c39b7-299d-4798-a06d-747930b8970c')\"\n",
              "            title=\"Convert this dataframe to an interactive table.\"\n",
              "            style=\"display:none;\">\n",
              "\n",
              "  <svg xmlns=\"http://www.w3.org/2000/svg\" height=\"24px\" viewBox=\"0 -960 960 960\">\n",
              "    <path d=\"M120-120v-720h720v720H120Zm60-500h600v-160H180v160Zm220 220h160v-160H400v160Zm0 220h160v-160H400v160ZM180-400h160v-160H180v160Zm440 0h160v-160H620v160ZM180-180h160v-160H180v160Zm440 0h160v-160H620v160Z\"/>\n",
              "  </svg>\n",
              "    </button>\n",
              "\n",
              "  <style>\n",
              "    .colab-df-container {\n",
              "      display:flex;\n",
              "      gap: 12px;\n",
              "    }\n",
              "\n",
              "    .colab-df-convert {\n",
              "      background-color: #E8F0FE;\n",
              "      border: none;\n",
              "      border-radius: 50%;\n",
              "      cursor: pointer;\n",
              "      display: none;\n",
              "      fill: #1967D2;\n",
              "      height: 32px;\n",
              "      padding: 0 0 0 0;\n",
              "      width: 32px;\n",
              "    }\n",
              "\n",
              "    .colab-df-convert:hover {\n",
              "      background-color: #E2EBFA;\n",
              "      box-shadow: 0px 1px 2px rgba(60, 64, 67, 0.3), 0px 1px 3px 1px rgba(60, 64, 67, 0.15);\n",
              "      fill: #174EA6;\n",
              "    }\n",
              "\n",
              "    .colab-df-buttons div {\n",
              "      margin-bottom: 4px;\n",
              "    }\n",
              "\n",
              "    [theme=dark] .colab-df-convert {\n",
              "      background-color: #3B4455;\n",
              "      fill: #D2E3FC;\n",
              "    }\n",
              "\n",
              "    [theme=dark] .colab-df-convert:hover {\n",
              "      background-color: #434B5C;\n",
              "      box-shadow: 0px 1px 3px 1px rgba(0, 0, 0, 0.15);\n",
              "      filter: drop-shadow(0px 1px 2px rgba(0, 0, 0, 0.3));\n",
              "      fill: #FFFFFF;\n",
              "    }\n",
              "  </style>\n",
              "\n",
              "    <script>\n",
              "      const buttonEl =\n",
              "        document.querySelector('#df-d24c39b7-299d-4798-a06d-747930b8970c button.colab-df-convert');\n",
              "      buttonEl.style.display =\n",
              "        google.colab.kernel.accessAllowed ? 'block' : 'none';\n",
              "\n",
              "      async function convertToInteractive(key) {\n",
              "        const element = document.querySelector('#df-d24c39b7-299d-4798-a06d-747930b8970c');\n",
              "        const dataTable =\n",
              "          await google.colab.kernel.invokeFunction('convertToInteractive',\n",
              "                                                    [key], {});\n",
              "        if (!dataTable) return;\n",
              "\n",
              "        const docLinkHtml = 'Like what you see? Visit the ' +\n",
              "          '<a target=\"_blank\" href=https://colab.research.google.com/notebooks/data_table.ipynb>data table notebook</a>'\n",
              "          + ' to learn more about interactive tables.';\n",
              "        element.innerHTML = '';\n",
              "        dataTable['output_type'] = 'display_data';\n",
              "        await google.colab.output.renderOutput(dataTable, element);\n",
              "        const docLink = document.createElement('div');\n",
              "        docLink.innerHTML = docLinkHtml;\n",
              "        element.appendChild(docLink);\n",
              "      }\n",
              "    </script>\n",
              "  </div>\n",
              "\n",
              "\n",
              "<div id=\"df-629d9244-c123-4e89-86ff-347f46e41abc\">\n",
              "  <button class=\"colab-df-quickchart\" onclick=\"quickchart('df-629d9244-c123-4e89-86ff-347f46e41abc')\"\n",
              "            title=\"Suggest charts.\"\n",
              "            style=\"display:none;\">\n",
              "\n",
              "<svg xmlns=\"http://www.w3.org/2000/svg\" height=\"24px\"viewBox=\"0 0 24 24\"\n",
              "     width=\"24px\">\n",
              "    <g>\n",
              "        <path d=\"M19 3H5c-1.1 0-2 .9-2 2v14c0 1.1.9 2 2 2h14c1.1 0 2-.9 2-2V5c0-1.1-.9-2-2-2zM9 17H7v-7h2v7zm4 0h-2V7h2v10zm4 0h-2v-4h2v4z\"/>\n",
              "    </g>\n",
              "</svg>\n",
              "  </button>\n",
              "\n",
              "<style>\n",
              "  .colab-df-quickchart {\n",
              "      --bg-color: #E8F0FE;\n",
              "      --fill-color: #1967D2;\n",
              "      --hover-bg-color: #E2EBFA;\n",
              "      --hover-fill-color: #174EA6;\n",
              "      --disabled-fill-color: #AAA;\n",
              "      --disabled-bg-color: #DDD;\n",
              "  }\n",
              "\n",
              "  [theme=dark] .colab-df-quickchart {\n",
              "      --bg-color: #3B4455;\n",
              "      --fill-color: #D2E3FC;\n",
              "      --hover-bg-color: #434B5C;\n",
              "      --hover-fill-color: #FFFFFF;\n",
              "      --disabled-bg-color: #3B4455;\n",
              "      --disabled-fill-color: #666;\n",
              "  }\n",
              "\n",
              "  .colab-df-quickchart {\n",
              "    background-color: var(--bg-color);\n",
              "    border: none;\n",
              "    border-radius: 50%;\n",
              "    cursor: pointer;\n",
              "    display: none;\n",
              "    fill: var(--fill-color);\n",
              "    height: 32px;\n",
              "    padding: 0;\n",
              "    width: 32px;\n",
              "  }\n",
              "\n",
              "  .colab-df-quickchart:hover {\n",
              "    background-color: var(--hover-bg-color);\n",
              "    box-shadow: 0 1px 2px rgba(60, 64, 67, 0.3), 0 1px 3px 1px rgba(60, 64, 67, 0.15);\n",
              "    fill: var(--button-hover-fill-color);\n",
              "  }\n",
              "\n",
              "  .colab-df-quickchart-complete:disabled,\n",
              "  .colab-df-quickchart-complete:disabled:hover {\n",
              "    background-color: var(--disabled-bg-color);\n",
              "    fill: var(--disabled-fill-color);\n",
              "    box-shadow: none;\n",
              "  }\n",
              "\n",
              "  .colab-df-spinner {\n",
              "    border: 2px solid var(--fill-color);\n",
              "    border-color: transparent;\n",
              "    border-bottom-color: var(--fill-color);\n",
              "    animation:\n",
              "      spin 1s steps(1) infinite;\n",
              "  }\n",
              "\n",
              "  @keyframes spin {\n",
              "    0% {\n",
              "      border-color: transparent;\n",
              "      border-bottom-color: var(--fill-color);\n",
              "      border-left-color: var(--fill-color);\n",
              "    }\n",
              "    20% {\n",
              "      border-color: transparent;\n",
              "      border-left-color: var(--fill-color);\n",
              "      border-top-color: var(--fill-color);\n",
              "    }\n",
              "    30% {\n",
              "      border-color: transparent;\n",
              "      border-left-color: var(--fill-color);\n",
              "      border-top-color: var(--fill-color);\n",
              "      border-right-color: var(--fill-color);\n",
              "    }\n",
              "    40% {\n",
              "      border-color: transparent;\n",
              "      border-right-color: var(--fill-color);\n",
              "      border-top-color: var(--fill-color);\n",
              "    }\n",
              "    60% {\n",
              "      border-color: transparent;\n",
              "      border-right-color: var(--fill-color);\n",
              "    }\n",
              "    80% {\n",
              "      border-color: transparent;\n",
              "      border-right-color: var(--fill-color);\n",
              "      border-bottom-color: var(--fill-color);\n",
              "    }\n",
              "    90% {\n",
              "      border-color: transparent;\n",
              "      border-bottom-color: var(--fill-color);\n",
              "    }\n",
              "  }\n",
              "</style>\n",
              "\n",
              "  <script>\n",
              "    async function quickchart(key) {\n",
              "      const quickchartButtonEl =\n",
              "        document.querySelector('#' + key + ' button');\n",
              "      quickchartButtonEl.disabled = true;  // To prevent multiple clicks.\n",
              "      quickchartButtonEl.classList.add('colab-df-spinner');\n",
              "      try {\n",
              "        const charts = await google.colab.kernel.invokeFunction(\n",
              "            'suggestCharts', [key], {});\n",
              "      } catch (error) {\n",
              "        console.error('Error during call to suggestCharts:', error);\n",
              "      }\n",
              "      quickchartButtonEl.classList.remove('colab-df-spinner');\n",
              "      quickchartButtonEl.classList.add('colab-df-quickchart-complete');\n",
              "    }\n",
              "    (() => {\n",
              "      let quickchartButtonEl =\n",
              "        document.querySelector('#df-629d9244-c123-4e89-86ff-347f46e41abc button');\n",
              "      quickchartButtonEl.style.display =\n",
              "        google.colab.kernel.accessAllowed ? 'block' : 'none';\n",
              "    })();\n",
              "  </script>\n",
              "</div>\n",
              "    </div>\n",
              "  </div>\n"
            ]
          },
          "metadata": {},
          "execution_count": 42
        }
      ],
      "source": [
        "df"
      ]
    },
    {
      "cell_type": "code",
      "execution_count": 43,
      "metadata": {
        "id": "FWSm8bZH72fJ"
      },
      "outputs": [],
      "source": [
        "import pandas as pd\n",
        "import numpy as np\n",
        "import seaborn as sns\n",
        "import matplotlib.pyplot as plt"
      ]
    },
    {
      "cell_type": "code",
      "execution_count": 44,
      "metadata": {
        "id": "nxRluar271S2"
      },
      "outputs": [],
      "source": [
        "# df=pd.read_csv(\"/content/drive/MyDrive/work 46/data.csv\")\n",
        "# df"
      ]
    },
    {
      "cell_type": "markdown",
      "metadata": {
        "id": "k8ZXnDE6sdN0"
      },
      "source": [
        "# ALL Data Wordcloud"
      ]
    },
    {
      "cell_type": "code",
      "execution_count": null,
      "metadata": {
        "id": "K408onTIsdN0"
      },
      "outputs": [],
      "source": [
        "# plt.figure(figsize=(16,8),dpi=600)\n",
        "# all_text=\" \".join(df['text'].values.tolist())\n",
        "# wordcloud = WordCloud(width=1200, height=800,stopwords=STOPWORDS, background_color='navy', max_words=500,colormap=\"hsv\").generate(all_text)\n",
        "# plt.imshow(wordcloud, interpolation='bilinear')\n",
        "# plt.axis('off')\n",
        "# plt.savefig(f'{path}_all_data.png',bbox_inches='tight')\n",
        "# plt.show()"
      ]
    },
    {
      "cell_type": "markdown",
      "metadata": {
        "id": "P3BAanyhsdN0"
      },
      "source": [
        "# Disaster Data Wordcloud"
      ]
    },
    {
      "cell_type": "code",
      "execution_count": null,
      "metadata": {
        "id": "xg32L7WisdN0"
      },
      "outputs": [],
      "source": [
        "# plt.figure(figsize=(16,8),dpi=600)\n",
        "# disaster_wordcloud=df[df[\"target\"]==1]\n",
        "# disaster_text=\" \".join(disaster_wordcloud['text'].values.tolist())\n",
        "# wordcloud = WordCloud(width=1200, height=800,stopwords=STOPWORDS, background_color='navy', max_words=500,colormap=\"hsv\").generate(disaster_text)\n",
        "# plt.imshow(wordcloud, interpolation='bilinear')\n",
        "# plt.axis('off')\n",
        "# plt.savefig(f'{path}_disaster_data.png',bbox_inches='tight')\n",
        "# plt.show()"
      ]
    },
    {
      "cell_type": "markdown",
      "metadata": {
        "id": "6uHz4NwMsdN1"
      },
      "source": [
        "# Non Disaster Wordcloud"
      ]
    },
    {
      "cell_type": "code",
      "execution_count": null,
      "metadata": {
        "id": "ppuImQNIsdN1"
      },
      "outputs": [],
      "source": [
        "# plt.figure(figsize=(16,8),dpi=600)\n",
        "# nondisaster_wordcloud=df[df[\"target\"]==0]\n",
        "# nondisaster_text=\" \".join(nondisaster_wordcloud['text'].values.tolist())\n",
        "# wordcloud = WordCloud(width=1200, height=800,stopwords=STOPWORDS, background_color='navy', max_words=500,colormap=\"hsv\").generate(nondisaster_text)\n",
        "# plt.imshow(wordcloud, interpolation='bilinear')\n",
        "# plt.axis('off')\n",
        "# plt.savefig(f'{path}_non_disaster_data.png',bbox_inches='tight')\n",
        "# plt.show()"
      ]
    },
    {
      "cell_type": "markdown",
      "metadata": {
        "id": "ioc-Xu_osdN1"
      },
      "source": [
        "# 30 Most common Words From All Text"
      ]
    },
    {
      "cell_type": "code",
      "execution_count": null,
      "metadata": {
        "id": "-Srq2-NbsdN1"
      },
      "outputs": [],
      "source": [
        "# data_set =df[\"text\"].str.split()\n",
        "# all_words = list(chain.from_iterable(data_set))\n",
        "# counter = Counter(all_words)\n",
        "# common_words = counter.most_common(30)\n",
        "# df_common_words = pd.DataFrame(common_words, columns=['Word', 'Count'])\n",
        "\n",
        "# colors = [\"darkviolet\", \"chocolate\", \"mediumslateblue\", \"darkgreen\", \"orangered\", \"mediumblue\", \"peru\", \"mediumspringgreen\",\n",
        "#     \"lightcoral\", \"darkslategray\", \"olivedrab\", \"dodgerblue\", \"indianred\", \"limegreen\", \"steelblue\",\n",
        "#           \"royalblue\", \"darkorchid\", \"darkturquoise\", \"darkgoldenrod\", \"mediumvioletred\", \"mediumaquamarine\",\n",
        "\n",
        "#           \"cyan\", \"lime\", \"magenta\", \"gold\", \"purple\", \"tomato\", \"teal\", \"sandybrown\", \"mediumseagreen\"]\n",
        "\n",
        "# plt.figure(figsize=(12, 6))\n",
        "# sns.barplot(x='Count', y='Word', data=df_common_words, palette=colors)\n",
        "# plt.title('30 Most Common Words')\n",
        "# plt.xlabel('Count')\n",
        "# plt.ylabel('Word')\n",
        "# df_common_words.to_csv(f'{path}_df_common_words.csv')\n",
        "# plt.savefig(f'{path}_df_common_words.png',bbox_inches='tight')\n",
        "# plt.show()\n"
      ]
    },
    {
      "cell_type": "markdown",
      "metadata": {
        "id": "zoFgyRIisdN1"
      },
      "source": [
        "# Most Common Words From Non Disaster Text"
      ]
    },
    {
      "cell_type": "code",
      "execution_count": null,
      "metadata": {
        "colab": {
          "base_uri": "https://localhost:8080/",
          "height": 424
        },
        "id": "W-SkMWmR8H20",
        "outputId": "9a87e32d-61ab-4858-c083-e52a0fe63038"
      },
      "outputs": [
        {
          "output_type": "execute_result",
          "data": {
            "text/plain": [
              "                                                    text   emotion  label  \\\n",
              "0      Same folks said daikon paste could treat a cyt...  Positive      0   \n",
              "1      While the world has been on the wrong side of ...  Negative      1   \n",
              "2      #coronavirus #SputnikV #AstraZeneca #PfizerBio...  Positive      0   \n",
              "3      Facts are immutable, Senator, even when you're...   Neutral      2   \n",
              "4      Explain to me again why we need a vaccine @Bor...   Neutral      2   \n",
              "...                                                  ...       ...    ...   \n",
              "11014  @ruvanw @GMalavige @ I already had my  for #Pf...   Neutral      2   \n",
              "11015  The number of Covid- cases today,  November . ...  Positive      0   \n",
              "11017  The number of Covid- cases today,  November . ...  Positive      0   \n",
              "11018  #PfizerBioNTech has developed new pill #Paxlov...  Positive      0   \n",
              "11019  The number of Covid- cases today,  November . ...  Positive      0   \n",
              "\n",
              "       character_count  word_count  len  \n",
              "0                   74          11   11  \n",
              "1                  117          20   20  \n",
              "2                  107          14   14  \n",
              "3                  116          19   19  \n",
              "4                  112          13   13  \n",
              "...                ...         ...  ...  \n",
              "11014               89          15   15  \n",
              "11015              109          17   17  \n",
              "11017              109          17   17  \n",
              "11018              110          17   17  \n",
              "11019              109          17   17  \n",
              "\n",
              "[10817 rows x 6 columns]"
            ],
            "text/html": [
              "\n",
              "  <div id=\"df-ed554536-0b72-4cf3-9fbb-5c108200e335\" class=\"colab-df-container\">\n",
              "    <div>\n",
              "<style scoped>\n",
              "    .dataframe tbody tr th:only-of-type {\n",
              "        vertical-align: middle;\n",
              "    }\n",
              "\n",
              "    .dataframe tbody tr th {\n",
              "        vertical-align: top;\n",
              "    }\n",
              "\n",
              "    .dataframe thead th {\n",
              "        text-align: right;\n",
              "    }\n",
              "</style>\n",
              "<table border=\"1\" class=\"dataframe\">\n",
              "  <thead>\n",
              "    <tr style=\"text-align: right;\">\n",
              "      <th></th>\n",
              "      <th>text</th>\n",
              "      <th>emotion</th>\n",
              "      <th>label</th>\n",
              "      <th>character_count</th>\n",
              "      <th>word_count</th>\n",
              "      <th>len</th>\n",
              "    </tr>\n",
              "  </thead>\n",
              "  <tbody>\n",
              "    <tr>\n",
              "      <th>0</th>\n",
              "      <td>Same folks said daikon paste could treat a cyt...</td>\n",
              "      <td>Positive</td>\n",
              "      <td>0</td>\n",
              "      <td>74</td>\n",
              "      <td>11</td>\n",
              "      <td>11</td>\n",
              "    </tr>\n",
              "    <tr>\n",
              "      <th>1</th>\n",
              "      <td>While the world has been on the wrong side of ...</td>\n",
              "      <td>Negative</td>\n",
              "      <td>1</td>\n",
              "      <td>117</td>\n",
              "      <td>20</td>\n",
              "      <td>20</td>\n",
              "    </tr>\n",
              "    <tr>\n",
              "      <th>2</th>\n",
              "      <td>#coronavirus #SputnikV #AstraZeneca #PfizerBio...</td>\n",
              "      <td>Positive</td>\n",
              "      <td>0</td>\n",
              "      <td>107</td>\n",
              "      <td>14</td>\n",
              "      <td>14</td>\n",
              "    </tr>\n",
              "    <tr>\n",
              "      <th>3</th>\n",
              "      <td>Facts are immutable, Senator, even when you're...</td>\n",
              "      <td>Neutral</td>\n",
              "      <td>2</td>\n",
              "      <td>116</td>\n",
              "      <td>19</td>\n",
              "      <td>19</td>\n",
              "    </tr>\n",
              "    <tr>\n",
              "      <th>4</th>\n",
              "      <td>Explain to me again why we need a vaccine @Bor...</td>\n",
              "      <td>Neutral</td>\n",
              "      <td>2</td>\n",
              "      <td>112</td>\n",
              "      <td>13</td>\n",
              "      <td>13</td>\n",
              "    </tr>\n",
              "    <tr>\n",
              "      <th>...</th>\n",
              "      <td>...</td>\n",
              "      <td>...</td>\n",
              "      <td>...</td>\n",
              "      <td>...</td>\n",
              "      <td>...</td>\n",
              "      <td>...</td>\n",
              "    </tr>\n",
              "    <tr>\n",
              "      <th>11014</th>\n",
              "      <td>@ruvanw @GMalavige @ I already had my  for #Pf...</td>\n",
              "      <td>Neutral</td>\n",
              "      <td>2</td>\n",
              "      <td>89</td>\n",
              "      <td>15</td>\n",
              "      <td>15</td>\n",
              "    </tr>\n",
              "    <tr>\n",
              "      <th>11015</th>\n",
              "      <td>The number of Covid- cases today,  November . ...</td>\n",
              "      <td>Positive</td>\n",
              "      <td>0</td>\n",
              "      <td>109</td>\n",
              "      <td>17</td>\n",
              "      <td>17</td>\n",
              "    </tr>\n",
              "    <tr>\n",
              "      <th>11017</th>\n",
              "      <td>The number of Covid- cases today,  November . ...</td>\n",
              "      <td>Positive</td>\n",
              "      <td>0</td>\n",
              "      <td>109</td>\n",
              "      <td>17</td>\n",
              "      <td>17</td>\n",
              "    </tr>\n",
              "    <tr>\n",
              "      <th>11018</th>\n",
              "      <td>#PfizerBioNTech has developed new pill #Paxlov...</td>\n",
              "      <td>Positive</td>\n",
              "      <td>0</td>\n",
              "      <td>110</td>\n",
              "      <td>17</td>\n",
              "      <td>17</td>\n",
              "    </tr>\n",
              "    <tr>\n",
              "      <th>11019</th>\n",
              "      <td>The number of Covid- cases today,  November . ...</td>\n",
              "      <td>Positive</td>\n",
              "      <td>0</td>\n",
              "      <td>109</td>\n",
              "      <td>17</td>\n",
              "      <td>17</td>\n",
              "    </tr>\n",
              "  </tbody>\n",
              "</table>\n",
              "<p>10817 rows × 6 columns</p>\n",
              "</div>\n",
              "    <div class=\"colab-df-buttons\">\n",
              "\n",
              "  <div class=\"colab-df-container\">\n",
              "    <button class=\"colab-df-convert\" onclick=\"convertToInteractive('df-ed554536-0b72-4cf3-9fbb-5c108200e335')\"\n",
              "            title=\"Convert this dataframe to an interactive table.\"\n",
              "            style=\"display:none;\">\n",
              "\n",
              "  <svg xmlns=\"http://www.w3.org/2000/svg\" height=\"24px\" viewBox=\"0 -960 960 960\">\n",
              "    <path d=\"M120-120v-720h720v720H120Zm60-500h600v-160H180v160Zm220 220h160v-160H400v160Zm0 220h160v-160H400v160ZM180-400h160v-160H180v160Zm440 0h160v-160H620v160ZM180-180h160v-160H180v160Zm440 0h160v-160H620v160Z\"/>\n",
              "  </svg>\n",
              "    </button>\n",
              "\n",
              "  <style>\n",
              "    .colab-df-container {\n",
              "      display:flex;\n",
              "      gap: 12px;\n",
              "    }\n",
              "\n",
              "    .colab-df-convert {\n",
              "      background-color: #E8F0FE;\n",
              "      border: none;\n",
              "      border-radius: 50%;\n",
              "      cursor: pointer;\n",
              "      display: none;\n",
              "      fill: #1967D2;\n",
              "      height: 32px;\n",
              "      padding: 0 0 0 0;\n",
              "      width: 32px;\n",
              "    }\n",
              "\n",
              "    .colab-df-convert:hover {\n",
              "      background-color: #E2EBFA;\n",
              "      box-shadow: 0px 1px 2px rgba(60, 64, 67, 0.3), 0px 1px 3px 1px rgba(60, 64, 67, 0.15);\n",
              "      fill: #174EA6;\n",
              "    }\n",
              "\n",
              "    .colab-df-buttons div {\n",
              "      margin-bottom: 4px;\n",
              "    }\n",
              "\n",
              "    [theme=dark] .colab-df-convert {\n",
              "      background-color: #3B4455;\n",
              "      fill: #D2E3FC;\n",
              "    }\n",
              "\n",
              "    [theme=dark] .colab-df-convert:hover {\n",
              "      background-color: #434B5C;\n",
              "      box-shadow: 0px 1px 3px 1px rgba(0, 0, 0, 0.15);\n",
              "      filter: drop-shadow(0px 1px 2px rgba(0, 0, 0, 0.3));\n",
              "      fill: #FFFFFF;\n",
              "    }\n",
              "  </style>\n",
              "\n",
              "    <script>\n",
              "      const buttonEl =\n",
              "        document.querySelector('#df-ed554536-0b72-4cf3-9fbb-5c108200e335 button.colab-df-convert');\n",
              "      buttonEl.style.display =\n",
              "        google.colab.kernel.accessAllowed ? 'block' : 'none';\n",
              "\n",
              "      async function convertToInteractive(key) {\n",
              "        const element = document.querySelector('#df-ed554536-0b72-4cf3-9fbb-5c108200e335');\n",
              "        const dataTable =\n",
              "          await google.colab.kernel.invokeFunction('convertToInteractive',\n",
              "                                                    [key], {});\n",
              "        if (!dataTable) return;\n",
              "\n",
              "        const docLinkHtml = 'Like what you see? Visit the ' +\n",
              "          '<a target=\"_blank\" href=https://colab.research.google.com/notebooks/data_table.ipynb>data table notebook</a>'\n",
              "          + ' to learn more about interactive tables.';\n",
              "        element.innerHTML = '';\n",
              "        dataTable['output_type'] = 'display_data';\n",
              "        await google.colab.output.renderOutput(dataTable, element);\n",
              "        const docLink = document.createElement('div');\n",
              "        docLink.innerHTML = docLinkHtml;\n",
              "        element.appendChild(docLink);\n",
              "      }\n",
              "    </script>\n",
              "  </div>\n",
              "\n",
              "\n",
              "<div id=\"df-778c5a6f-c8da-4097-b8fb-ac725eb64314\">\n",
              "  <button class=\"colab-df-quickchart\" onclick=\"quickchart('df-778c5a6f-c8da-4097-b8fb-ac725eb64314')\"\n",
              "            title=\"Suggest charts.\"\n",
              "            style=\"display:none;\">\n",
              "\n",
              "<svg xmlns=\"http://www.w3.org/2000/svg\" height=\"24px\"viewBox=\"0 0 24 24\"\n",
              "     width=\"24px\">\n",
              "    <g>\n",
              "        <path d=\"M19 3H5c-1.1 0-2 .9-2 2v14c0 1.1.9 2 2 2h14c1.1 0 2-.9 2-2V5c0-1.1-.9-2-2-2zM9 17H7v-7h2v7zm4 0h-2V7h2v10zm4 0h-2v-4h2v4z\"/>\n",
              "    </g>\n",
              "</svg>\n",
              "  </button>\n",
              "\n",
              "<style>\n",
              "  .colab-df-quickchart {\n",
              "      --bg-color: #E8F0FE;\n",
              "      --fill-color: #1967D2;\n",
              "      --hover-bg-color: #E2EBFA;\n",
              "      --hover-fill-color: #174EA6;\n",
              "      --disabled-fill-color: #AAA;\n",
              "      --disabled-bg-color: #DDD;\n",
              "  }\n",
              "\n",
              "  [theme=dark] .colab-df-quickchart {\n",
              "      --bg-color: #3B4455;\n",
              "      --fill-color: #D2E3FC;\n",
              "      --hover-bg-color: #434B5C;\n",
              "      --hover-fill-color: #FFFFFF;\n",
              "      --disabled-bg-color: #3B4455;\n",
              "      --disabled-fill-color: #666;\n",
              "  }\n",
              "\n",
              "  .colab-df-quickchart {\n",
              "    background-color: var(--bg-color);\n",
              "    border: none;\n",
              "    border-radius: 50%;\n",
              "    cursor: pointer;\n",
              "    display: none;\n",
              "    fill: var(--fill-color);\n",
              "    height: 32px;\n",
              "    padding: 0;\n",
              "    width: 32px;\n",
              "  }\n",
              "\n",
              "  .colab-df-quickchart:hover {\n",
              "    background-color: var(--hover-bg-color);\n",
              "    box-shadow: 0 1px 2px rgba(60, 64, 67, 0.3), 0 1px 3px 1px rgba(60, 64, 67, 0.15);\n",
              "    fill: var(--button-hover-fill-color);\n",
              "  }\n",
              "\n",
              "  .colab-df-quickchart-complete:disabled,\n",
              "  .colab-df-quickchart-complete:disabled:hover {\n",
              "    background-color: var(--disabled-bg-color);\n",
              "    fill: var(--disabled-fill-color);\n",
              "    box-shadow: none;\n",
              "  }\n",
              "\n",
              "  .colab-df-spinner {\n",
              "    border: 2px solid var(--fill-color);\n",
              "    border-color: transparent;\n",
              "    border-bottom-color: var(--fill-color);\n",
              "    animation:\n",
              "      spin 1s steps(1) infinite;\n",
              "  }\n",
              "\n",
              "  @keyframes spin {\n",
              "    0% {\n",
              "      border-color: transparent;\n",
              "      border-bottom-color: var(--fill-color);\n",
              "      border-left-color: var(--fill-color);\n",
              "    }\n",
              "    20% {\n",
              "      border-color: transparent;\n",
              "      border-left-color: var(--fill-color);\n",
              "      border-top-color: var(--fill-color);\n",
              "    }\n",
              "    30% {\n",
              "      border-color: transparent;\n",
              "      border-left-color: var(--fill-color);\n",
              "      border-top-color: var(--fill-color);\n",
              "      border-right-color: var(--fill-color);\n",
              "    }\n",
              "    40% {\n",
              "      border-color: transparent;\n",
              "      border-right-color: var(--fill-color);\n",
              "      border-top-color: var(--fill-color);\n",
              "    }\n",
              "    60% {\n",
              "      border-color: transparent;\n",
              "      border-right-color: var(--fill-color);\n",
              "    }\n",
              "    80% {\n",
              "      border-color: transparent;\n",
              "      border-right-color: var(--fill-color);\n",
              "      border-bottom-color: var(--fill-color);\n",
              "    }\n",
              "    90% {\n",
              "      border-color: transparent;\n",
              "      border-bottom-color: var(--fill-color);\n",
              "    }\n",
              "  }\n",
              "</style>\n",
              "\n",
              "  <script>\n",
              "    async function quickchart(key) {\n",
              "      const quickchartButtonEl =\n",
              "        document.querySelector('#' + key + ' button');\n",
              "      quickchartButtonEl.disabled = true;  // To prevent multiple clicks.\n",
              "      quickchartButtonEl.classList.add('colab-df-spinner');\n",
              "      try {\n",
              "        const charts = await google.colab.kernel.invokeFunction(\n",
              "            'suggestCharts', [key], {});\n",
              "      } catch (error) {\n",
              "        console.error('Error during call to suggestCharts:', error);\n",
              "      }\n",
              "      quickchartButtonEl.classList.remove('colab-df-spinner');\n",
              "      quickchartButtonEl.classList.add('colab-df-quickchart-complete');\n",
              "    }\n",
              "    (() => {\n",
              "      let quickchartButtonEl =\n",
              "        document.querySelector('#df-778c5a6f-c8da-4097-b8fb-ac725eb64314 button');\n",
              "      quickchartButtonEl.style.display =\n",
              "        google.colab.kernel.accessAllowed ? 'block' : 'none';\n",
              "    })();\n",
              "  </script>\n",
              "</div>\n",
              "    </div>\n",
              "  </div>\n"
            ]
          },
          "metadata": {},
          "execution_count": 37
        }
      ],
      "source": [
        "df"
      ]
    },
    {
      "cell_type": "code",
      "source": [],
      "metadata": {
        "id": "CIZqswOaX8sF"
      },
      "execution_count": null,
      "outputs": []
    },
    {
      "cell_type": "code",
      "execution_count": null,
      "metadata": {
        "id": "Fw-LnZxu1QLV"
      },
      "outputs": [],
      "source": [
        "import re"
      ]
    },
    {
      "cell_type": "code",
      "execution_count": null,
      "metadata": {
        "id": "kmhrhhsCur12"
      },
      "outputs": [],
      "source": [
        "def removepunc(x):\n",
        "    x = x.lower()\n",
        "    x = re.sub(r\" ' \",\"\",x)\n",
        "    x = re.sub(r\"'\",\"\",x)\n",
        "    x = re.sub(r\"\\r\",\" \",x)\n",
        "    x = re.sub(r\"\\n\",\" \",x)\n",
        "    # x = re.sub(r\" / \",\"\",x)\n",
        "\n",
        "    # x = re.sub(r\" . \",\"\",x)\n",
        "\n",
        "    x = re.sub(r\"(@[A-Za-z]+)|([^0-9A-Za-z \\t])|(\\w+:\\/\\/\\S+)|^rt|http.+?\", \"\", x)\n",
        "    # x = re.sub(r\"(@[A-Za-z0-9]+)|([^0-9A-Za-z \\t])|(\\w+:\\/\\/\\S+)|^rt|http.+?\", \" \", x)\n",
        "    # x = re.sub(r\"  \",\" \",x)\n",
        "    # x = re.sub(r\"  \",\" \",x)\n",
        "    # x = re.sub(r\"  \",\" \",x)\n",
        "    # x = re.sub(r\"  \",\" \",x)\n",
        "    # x = re.sub(r\"  \",\" \",x)\n",
        "    # x = re.sub(r\"  \",\" \",x)\n",
        "    # x = re.sub(r\"  \",\" \",x)\n",
        "    # x = re.sub(r\"  \",\" \",x)\n",
        "    return x"
      ]
    },
    {
      "cell_type": "code",
      "execution_count": null,
      "metadata": {
        "colab": {
          "base_uri": "https://localhost:8080/"
        },
        "id": "Q0hR3YsOTCz7",
        "outputId": "f0a509be-d8bd-466d-e02a-0868da7e17d2"
      },
      "outputs": [
        {
          "output_type": "stream",
          "name": "stdout",
          "text": [
            "['i', 'me', 'my', 'myself', 'we', 'our', 'ours', 'ourselves', 'you', \"you're\", \"you've\", \"you'll\", \"you'd\", 'your', 'yours', 'yourself', 'yourselves', 'he', 'him', 'his', 'himself', 'she', \"she's\", 'her', 'hers', 'herself', 'it', \"it's\", 'its', 'itself', 'they', 'them', 'their', 'theirs', 'themselves', 'what', 'which', 'who', 'whom', 'this', 'that', \"that'll\", 'these', 'those', 'am', 'is', 'are', 'was', 'were', 'be', 'been', 'being', 'have', 'has', 'had', 'having', 'do', 'does', 'did', 'doing', 'a', 'an', 'the', 'and', 'but', 'if', 'or', 'because', 'as', 'until', 'while', 'of', 'at', 'by', 'for', 'with', 'about', 'against', 'between', 'into', 'through', 'during', 'before', 'after', 'above', 'below', 'to', 'from', 'up', 'down', 'in', 'out', 'on', 'off', 'over', 'under', 'again', 'further', 'then', 'once', 'here', 'there', 'when', 'where', 'why', 'how', 'all', 'any', 'both', 'each', 'few', 'more', 'most', 'other', 'some', 'such', 'no', 'nor', 'not', 'only', 'own', 'same', 'so', 'than', 'too', 'very', 's', 't', 'can', 'will', 'just', 'don', \"don't\", 'should', \"should've\", 'now', 'd', 'll', 'm', 'o', 're', 've', 'y', 'ain', 'aren', \"aren't\", 'couldn', \"couldn't\", 'didn', \"didn't\", 'doesn', \"doesn't\", 'hadn', \"hadn't\", 'hasn', \"hasn't\", 'haven', \"haven't\", 'isn', \"isn't\", 'ma', 'mightn', \"mightn't\", 'mustn', \"mustn't\", 'needn', \"needn't\", 'shan', \"shan't\", 'shouldn', \"shouldn't\", 'wasn', \"wasn't\", 'weren', \"weren't\", 'won', \"won't\", 'wouldn', \"wouldn't\"]\n"
          ]
        },
        {
          "output_type": "stream",
          "name": "stderr",
          "text": [
            "[nltk_data] Downloading package stopwords to /root/nltk_data...\n",
            "[nltk_data]   Package stopwords is already up-to-date!\n"
          ]
        }
      ],
      "source": [
        "import nltk\n",
        "from nltk.corpus import stopwords\n",
        "\n",
        "nltk.download('stopwords')\n",
        "print(stopwords.words('english'))"
      ]
    },
    {
      "cell_type": "code",
      "execution_count": null,
      "metadata": {
        "id": "cKTl9FKVTFZI"
      },
      "outputs": [],
      "source": [
        "stop_words = set(stopwords.words('english'))"
      ]
    },
    {
      "cell_type": "code",
      "execution_count": null,
      "metadata": {
        "id": "y4H2abnSS_Lf"
      },
      "outputs": [],
      "source": [
        "def lenword(x):\n",
        "  # l = x.spllit()\n",
        "  x = ' '.join([word for word in x.split() if (len(word) > 1 or word in (['i','a']))])\n",
        "  x = ' '.join([word for word in x.split() if word not in stop_words])\n",
        "\n",
        "  return x"
      ]
    },
    {
      "cell_type": "code",
      "execution_count": null,
      "metadata": {
        "id": "VBzH1n_ovCfn"
      },
      "outputs": [],
      "source": [
        "df['text2'] = df['text'].apply(lambda x:removepunc(x))"
      ]
    },
    {
      "cell_type": "code",
      "execution_count": null,
      "metadata": {
        "id": "diyV4bJZTJLM"
      },
      "outputs": [],
      "source": [
        "df['text2'] = df['text2'].apply(lambda x:lenword(x))"
      ]
    },
    {
      "cell_type": "code",
      "execution_count": null,
      "metadata": {
        "colab": {
          "base_uri": "https://localhost:8080/"
        },
        "id": "5bR6MHiV1UkT",
        "outputId": "c1d428bf-2378-46b5-9847-cc3c4d45fdcb"
      },
      "outputs": [
        {
          "output_type": "execute_result",
          "data": {
            "text/plain": [
              "0        folks said daikon paste could treat cytokine s...\n",
              "1        world wrong side history year hopefully bigges...\n",
              "2        coronavirus sputnikv astrazeneca pfizerbiontec...\n",
              "3        facts immutable senator even youre ethically s...\n",
              "4        explain need vaccine whereareallthesickpeople ...\n",
              "                               ...                        \n",
              "11014          already pfizerbiontech last month dubai uae\n",
              "11015    number covid cases today november remember obs...\n",
              "11017    number covid cases today november remember obs...\n",
              "11018    pfizerbiontech developed new pill paxlovid inc...\n",
              "11019    number covid cases today november remember obs...\n",
              "Name: text2, Length: 10817, dtype: object"
            ]
          },
          "metadata": {},
          "execution_count": 45
        }
      ],
      "source": [
        "df['text2']"
      ]
    },
    {
      "cell_type": "code",
      "source": [
        "df"
      ],
      "metadata": {
        "colab": {
          "base_uri": "https://localhost:8080/",
          "height": 424
        },
        "id": "Fcla5Gs9YKwi",
        "outputId": "9690caf6-ee59-4b7e-d804-a4d2824f9e48"
      },
      "execution_count": null,
      "outputs": [
        {
          "output_type": "execute_result",
          "data": {
            "text/plain": [
              "                                                    text   emotion  label  \\\n",
              "0      Same folks said daikon paste could treat a cyt...  Positive      0   \n",
              "1      While the world has been on the wrong side of ...  Negative      1   \n",
              "2      #coronavirus #SputnikV #AstraZeneca #PfizerBio...  Positive      0   \n",
              "3      Facts are immutable, Senator, even when you're...   Neutral      2   \n",
              "4      Explain to me again why we need a vaccine @Bor...   Neutral      2   \n",
              "...                                                  ...       ...    ...   \n",
              "11014  @ruvanw @GMalavige @ I already had my  for #Pf...   Neutral      2   \n",
              "11015  The number of Covid- cases today,  November . ...  Positive      0   \n",
              "11017  The number of Covid- cases today,  November . ...  Positive      0   \n",
              "11018  #PfizerBioNTech has developed new pill #Paxlov...  Positive      0   \n",
              "11019  The number of Covid- cases today,  November . ...  Positive      0   \n",
              "\n",
              "       character_count  word_count  len  \\\n",
              "0                   74          11   11   \n",
              "1                  117          20   20   \n",
              "2                  107          14   14   \n",
              "3                  116          19   19   \n",
              "4                  112          13   13   \n",
              "...                ...         ...  ...   \n",
              "11014               89          15   15   \n",
              "11015              109          17   17   \n",
              "11017              109          17   17   \n",
              "11018              110          17   17   \n",
              "11019              109          17   17   \n",
              "\n",
              "                                                   text2  \n",
              "0      folks said daikon paste could treat cytokine s...  \n",
              "1      world wrong side history year hopefully bigges...  \n",
              "2      coronavirus sputnikv astrazeneca pfizerbiontec...  \n",
              "3      facts immutable senator even youre ethically s...  \n",
              "4      explain need vaccine whereareallthesickpeople ...  \n",
              "...                                                  ...  \n",
              "11014        already pfizerbiontech last month dubai uae  \n",
              "11015  number covid cases today november remember obs...  \n",
              "11017  number covid cases today november remember obs...  \n",
              "11018  pfizerbiontech developed new pill paxlovid inc...  \n",
              "11019  number covid cases today november remember obs...  \n",
              "\n",
              "[10817 rows x 7 columns]"
            ],
            "text/html": [
              "\n",
              "  <div id=\"df-be52a994-1b4f-4caf-bd07-bc4efe4e3f37\" class=\"colab-df-container\">\n",
              "    <div>\n",
              "<style scoped>\n",
              "    .dataframe tbody tr th:only-of-type {\n",
              "        vertical-align: middle;\n",
              "    }\n",
              "\n",
              "    .dataframe tbody tr th {\n",
              "        vertical-align: top;\n",
              "    }\n",
              "\n",
              "    .dataframe thead th {\n",
              "        text-align: right;\n",
              "    }\n",
              "</style>\n",
              "<table border=\"1\" class=\"dataframe\">\n",
              "  <thead>\n",
              "    <tr style=\"text-align: right;\">\n",
              "      <th></th>\n",
              "      <th>text</th>\n",
              "      <th>emotion</th>\n",
              "      <th>label</th>\n",
              "      <th>character_count</th>\n",
              "      <th>word_count</th>\n",
              "      <th>len</th>\n",
              "      <th>text2</th>\n",
              "    </tr>\n",
              "  </thead>\n",
              "  <tbody>\n",
              "    <tr>\n",
              "      <th>0</th>\n",
              "      <td>Same folks said daikon paste could treat a cyt...</td>\n",
              "      <td>Positive</td>\n",
              "      <td>0</td>\n",
              "      <td>74</td>\n",
              "      <td>11</td>\n",
              "      <td>11</td>\n",
              "      <td>folks said daikon paste could treat cytokine s...</td>\n",
              "    </tr>\n",
              "    <tr>\n",
              "      <th>1</th>\n",
              "      <td>While the world has been on the wrong side of ...</td>\n",
              "      <td>Negative</td>\n",
              "      <td>1</td>\n",
              "      <td>117</td>\n",
              "      <td>20</td>\n",
              "      <td>20</td>\n",
              "      <td>world wrong side history year hopefully bigges...</td>\n",
              "    </tr>\n",
              "    <tr>\n",
              "      <th>2</th>\n",
              "      <td>#coronavirus #SputnikV #AstraZeneca #PfizerBio...</td>\n",
              "      <td>Positive</td>\n",
              "      <td>0</td>\n",
              "      <td>107</td>\n",
              "      <td>14</td>\n",
              "      <td>14</td>\n",
              "      <td>coronavirus sputnikv astrazeneca pfizerbiontec...</td>\n",
              "    </tr>\n",
              "    <tr>\n",
              "      <th>3</th>\n",
              "      <td>Facts are immutable, Senator, even when you're...</td>\n",
              "      <td>Neutral</td>\n",
              "      <td>2</td>\n",
              "      <td>116</td>\n",
              "      <td>19</td>\n",
              "      <td>19</td>\n",
              "      <td>facts immutable senator even youre ethically s...</td>\n",
              "    </tr>\n",
              "    <tr>\n",
              "      <th>4</th>\n",
              "      <td>Explain to me again why we need a vaccine @Bor...</td>\n",
              "      <td>Neutral</td>\n",
              "      <td>2</td>\n",
              "      <td>112</td>\n",
              "      <td>13</td>\n",
              "      <td>13</td>\n",
              "      <td>explain need vaccine whereareallthesickpeople ...</td>\n",
              "    </tr>\n",
              "    <tr>\n",
              "      <th>...</th>\n",
              "      <td>...</td>\n",
              "      <td>...</td>\n",
              "      <td>...</td>\n",
              "      <td>...</td>\n",
              "      <td>...</td>\n",
              "      <td>...</td>\n",
              "      <td>...</td>\n",
              "    </tr>\n",
              "    <tr>\n",
              "      <th>11014</th>\n",
              "      <td>@ruvanw @GMalavige @ I already had my  for #Pf...</td>\n",
              "      <td>Neutral</td>\n",
              "      <td>2</td>\n",
              "      <td>89</td>\n",
              "      <td>15</td>\n",
              "      <td>15</td>\n",
              "      <td>already pfizerbiontech last month dubai uae</td>\n",
              "    </tr>\n",
              "    <tr>\n",
              "      <th>11015</th>\n",
              "      <td>The number of Covid- cases today,  November . ...</td>\n",
              "      <td>Positive</td>\n",
              "      <td>0</td>\n",
              "      <td>109</td>\n",
              "      <td>17</td>\n",
              "      <td>17</td>\n",
              "      <td>number covid cases today november remember obs...</td>\n",
              "    </tr>\n",
              "    <tr>\n",
              "      <th>11017</th>\n",
              "      <td>The number of Covid- cases today,  November . ...</td>\n",
              "      <td>Positive</td>\n",
              "      <td>0</td>\n",
              "      <td>109</td>\n",
              "      <td>17</td>\n",
              "      <td>17</td>\n",
              "      <td>number covid cases today november remember obs...</td>\n",
              "    </tr>\n",
              "    <tr>\n",
              "      <th>11018</th>\n",
              "      <td>#PfizerBioNTech has developed new pill #Paxlov...</td>\n",
              "      <td>Positive</td>\n",
              "      <td>0</td>\n",
              "      <td>110</td>\n",
              "      <td>17</td>\n",
              "      <td>17</td>\n",
              "      <td>pfizerbiontech developed new pill paxlovid inc...</td>\n",
              "    </tr>\n",
              "    <tr>\n",
              "      <th>11019</th>\n",
              "      <td>The number of Covid- cases today,  November . ...</td>\n",
              "      <td>Positive</td>\n",
              "      <td>0</td>\n",
              "      <td>109</td>\n",
              "      <td>17</td>\n",
              "      <td>17</td>\n",
              "      <td>number covid cases today november remember obs...</td>\n",
              "    </tr>\n",
              "  </tbody>\n",
              "</table>\n",
              "<p>10817 rows × 7 columns</p>\n",
              "</div>\n",
              "    <div class=\"colab-df-buttons\">\n",
              "\n",
              "  <div class=\"colab-df-container\">\n",
              "    <button class=\"colab-df-convert\" onclick=\"convertToInteractive('df-be52a994-1b4f-4caf-bd07-bc4efe4e3f37')\"\n",
              "            title=\"Convert this dataframe to an interactive table.\"\n",
              "            style=\"display:none;\">\n",
              "\n",
              "  <svg xmlns=\"http://www.w3.org/2000/svg\" height=\"24px\" viewBox=\"0 -960 960 960\">\n",
              "    <path d=\"M120-120v-720h720v720H120Zm60-500h600v-160H180v160Zm220 220h160v-160H400v160Zm0 220h160v-160H400v160ZM180-400h160v-160H180v160Zm440 0h160v-160H620v160ZM180-180h160v-160H180v160Zm440 0h160v-160H620v160Z\"/>\n",
              "  </svg>\n",
              "    </button>\n",
              "\n",
              "  <style>\n",
              "    .colab-df-container {\n",
              "      display:flex;\n",
              "      gap: 12px;\n",
              "    }\n",
              "\n",
              "    .colab-df-convert {\n",
              "      background-color: #E8F0FE;\n",
              "      border: none;\n",
              "      border-radius: 50%;\n",
              "      cursor: pointer;\n",
              "      display: none;\n",
              "      fill: #1967D2;\n",
              "      height: 32px;\n",
              "      padding: 0 0 0 0;\n",
              "      width: 32px;\n",
              "    }\n",
              "\n",
              "    .colab-df-convert:hover {\n",
              "      background-color: #E2EBFA;\n",
              "      box-shadow: 0px 1px 2px rgba(60, 64, 67, 0.3), 0px 1px 3px 1px rgba(60, 64, 67, 0.15);\n",
              "      fill: #174EA6;\n",
              "    }\n",
              "\n",
              "    .colab-df-buttons div {\n",
              "      margin-bottom: 4px;\n",
              "    }\n",
              "\n",
              "    [theme=dark] .colab-df-convert {\n",
              "      background-color: #3B4455;\n",
              "      fill: #D2E3FC;\n",
              "    }\n",
              "\n",
              "    [theme=dark] .colab-df-convert:hover {\n",
              "      background-color: #434B5C;\n",
              "      box-shadow: 0px 1px 3px 1px rgba(0, 0, 0, 0.15);\n",
              "      filter: drop-shadow(0px 1px 2px rgba(0, 0, 0, 0.3));\n",
              "      fill: #FFFFFF;\n",
              "    }\n",
              "  </style>\n",
              "\n",
              "    <script>\n",
              "      const buttonEl =\n",
              "        document.querySelector('#df-be52a994-1b4f-4caf-bd07-bc4efe4e3f37 button.colab-df-convert');\n",
              "      buttonEl.style.display =\n",
              "        google.colab.kernel.accessAllowed ? 'block' : 'none';\n",
              "\n",
              "      async function convertToInteractive(key) {\n",
              "        const element = document.querySelector('#df-be52a994-1b4f-4caf-bd07-bc4efe4e3f37');\n",
              "        const dataTable =\n",
              "          await google.colab.kernel.invokeFunction('convertToInteractive',\n",
              "                                                    [key], {});\n",
              "        if (!dataTable) return;\n",
              "\n",
              "        const docLinkHtml = 'Like what you see? Visit the ' +\n",
              "          '<a target=\"_blank\" href=https://colab.research.google.com/notebooks/data_table.ipynb>data table notebook</a>'\n",
              "          + ' to learn more about interactive tables.';\n",
              "        element.innerHTML = '';\n",
              "        dataTable['output_type'] = 'display_data';\n",
              "        await google.colab.output.renderOutput(dataTable, element);\n",
              "        const docLink = document.createElement('div');\n",
              "        docLink.innerHTML = docLinkHtml;\n",
              "        element.appendChild(docLink);\n",
              "      }\n",
              "    </script>\n",
              "  </div>\n",
              "\n",
              "\n",
              "<div id=\"df-b2375fe0-1bd3-4eab-916c-ee10c07862b4\">\n",
              "  <button class=\"colab-df-quickchart\" onclick=\"quickchart('df-b2375fe0-1bd3-4eab-916c-ee10c07862b4')\"\n",
              "            title=\"Suggest charts.\"\n",
              "            style=\"display:none;\">\n",
              "\n",
              "<svg xmlns=\"http://www.w3.org/2000/svg\" height=\"24px\"viewBox=\"0 0 24 24\"\n",
              "     width=\"24px\">\n",
              "    <g>\n",
              "        <path d=\"M19 3H5c-1.1 0-2 .9-2 2v14c0 1.1.9 2 2 2h14c1.1 0 2-.9 2-2V5c0-1.1-.9-2-2-2zM9 17H7v-7h2v7zm4 0h-2V7h2v10zm4 0h-2v-4h2v4z\"/>\n",
              "    </g>\n",
              "</svg>\n",
              "  </button>\n",
              "\n",
              "<style>\n",
              "  .colab-df-quickchart {\n",
              "      --bg-color: #E8F0FE;\n",
              "      --fill-color: #1967D2;\n",
              "      --hover-bg-color: #E2EBFA;\n",
              "      --hover-fill-color: #174EA6;\n",
              "      --disabled-fill-color: #AAA;\n",
              "      --disabled-bg-color: #DDD;\n",
              "  }\n",
              "\n",
              "  [theme=dark] .colab-df-quickchart {\n",
              "      --bg-color: #3B4455;\n",
              "      --fill-color: #D2E3FC;\n",
              "      --hover-bg-color: #434B5C;\n",
              "      --hover-fill-color: #FFFFFF;\n",
              "      --disabled-bg-color: #3B4455;\n",
              "      --disabled-fill-color: #666;\n",
              "  }\n",
              "\n",
              "  .colab-df-quickchart {\n",
              "    background-color: var(--bg-color);\n",
              "    border: none;\n",
              "    border-radius: 50%;\n",
              "    cursor: pointer;\n",
              "    display: none;\n",
              "    fill: var(--fill-color);\n",
              "    height: 32px;\n",
              "    padding: 0;\n",
              "    width: 32px;\n",
              "  }\n",
              "\n",
              "  .colab-df-quickchart:hover {\n",
              "    background-color: var(--hover-bg-color);\n",
              "    box-shadow: 0 1px 2px rgba(60, 64, 67, 0.3), 0 1px 3px 1px rgba(60, 64, 67, 0.15);\n",
              "    fill: var(--button-hover-fill-color);\n",
              "  }\n",
              "\n",
              "  .colab-df-quickchart-complete:disabled,\n",
              "  .colab-df-quickchart-complete:disabled:hover {\n",
              "    background-color: var(--disabled-bg-color);\n",
              "    fill: var(--disabled-fill-color);\n",
              "    box-shadow: none;\n",
              "  }\n",
              "\n",
              "  .colab-df-spinner {\n",
              "    border: 2px solid var(--fill-color);\n",
              "    border-color: transparent;\n",
              "    border-bottom-color: var(--fill-color);\n",
              "    animation:\n",
              "      spin 1s steps(1) infinite;\n",
              "  }\n",
              "\n",
              "  @keyframes spin {\n",
              "    0% {\n",
              "      border-color: transparent;\n",
              "      border-bottom-color: var(--fill-color);\n",
              "      border-left-color: var(--fill-color);\n",
              "    }\n",
              "    20% {\n",
              "      border-color: transparent;\n",
              "      border-left-color: var(--fill-color);\n",
              "      border-top-color: var(--fill-color);\n",
              "    }\n",
              "    30% {\n",
              "      border-color: transparent;\n",
              "      border-left-color: var(--fill-color);\n",
              "      border-top-color: var(--fill-color);\n",
              "      border-right-color: var(--fill-color);\n",
              "    }\n",
              "    40% {\n",
              "      border-color: transparent;\n",
              "      border-right-color: var(--fill-color);\n",
              "      border-top-color: var(--fill-color);\n",
              "    }\n",
              "    60% {\n",
              "      border-color: transparent;\n",
              "      border-right-color: var(--fill-color);\n",
              "    }\n",
              "    80% {\n",
              "      border-color: transparent;\n",
              "      border-right-color: var(--fill-color);\n",
              "      border-bottom-color: var(--fill-color);\n",
              "    }\n",
              "    90% {\n",
              "      border-color: transparent;\n",
              "      border-bottom-color: var(--fill-color);\n",
              "    }\n",
              "  }\n",
              "</style>\n",
              "\n",
              "  <script>\n",
              "    async function quickchart(key) {\n",
              "      const quickchartButtonEl =\n",
              "        document.querySelector('#' + key + ' button');\n",
              "      quickchartButtonEl.disabled = true;  // To prevent multiple clicks.\n",
              "      quickchartButtonEl.classList.add('colab-df-spinner');\n",
              "      try {\n",
              "        const charts = await google.colab.kernel.invokeFunction(\n",
              "            'suggestCharts', [key], {});\n",
              "      } catch (error) {\n",
              "        console.error('Error during call to suggestCharts:', error);\n",
              "      }\n",
              "      quickchartButtonEl.classList.remove('colab-df-spinner');\n",
              "      quickchartButtonEl.classList.add('colab-df-quickchart-complete');\n",
              "    }\n",
              "    (() => {\n",
              "      let quickchartButtonEl =\n",
              "        document.querySelector('#df-b2375fe0-1bd3-4eab-916c-ee10c07862b4 button');\n",
              "      quickchartButtonEl.style.display =\n",
              "        google.colab.kernel.accessAllowed ? 'block' : 'none';\n",
              "    })();\n",
              "  </script>\n",
              "</div>\n",
              "    </div>\n",
              "  </div>\n"
            ]
          },
          "metadata": {},
          "execution_count": 49
        }
      ]
    },
    {
      "cell_type": "code",
      "execution_count": null,
      "metadata": {
        "id": "gNSAHCix8uua"
      },
      "outputs": [],
      "source": [
        "from collections import Counter"
      ]
    },
    {
      "cell_type": "code",
      "execution_count": null,
      "metadata": {
        "colab": {
          "base_uri": "https://localhost:8080/",
          "height": 718
        },
        "id": "T9-LqJt4sdN1",
        "outputId": "dcf7e853-02e4-4f15-eb78-eae8cd732147"
      },
      "outputs": [
        {
          "output_type": "display_data",
          "data": {
            "text/plain": [
              "<Figure size 1200x800 with 1 Axes>"
            ],
            "image/png": "[encoded data removed]"
          },
          "metadata": {}
        }
      ],
      "source": [
        "no_disaster_text = df[df[\"label\"] == 2]\n",
        "data_set = no_disaster_text[\"text2\"].str.split()\n",
        "all_words = [word for sublist in data_set for word in sublist]\n",
        "counter = Counter(all_words)\n",
        "common_words = counter.most_common(14)\n",
        "df_common_words = pd.DataFrame(common_words, columns=['Word', 'Count'])\n",
        "plt.figure(figsize=(12, 8))\n",
        "sns.barplot(x='Count', y='Word', data=df_common_words,palette=\"Set1\")\n",
        "plt.title('20 Common Words in Neutral tweets')\n",
        "plt.xlabel('word counts')\n",
        "plt.ylabel('words')\n",
        "# plt.ylabel('Word')\n",
        "df_common_words.to_csv(f'{path}_df_common_words_neutral.csv')\n",
        "plt.savefig(f'{path}_df_common_words_neutral.png',bbox_inches='tight')\n",
        "plt.show()\n",
        "\n"
      ]
    },
    {
      "cell_type": "markdown",
      "metadata": {
        "id": "3ZP-IRfgsdN1"
      },
      "source": [
        "# 30 Most Common Words From Disaster Text"
      ]
    },
    {
      "cell_type": "code",
      "execution_count": null,
      "metadata": {
        "id": "1vToqQ6hsdN1"
      },
      "outputs": [],
      "source": [
        "# disaster_text = df[df[\"target\"] == 1]\n",
        "# data_set = disaster_text[\"text\"].str.split()\n",
        "# all_words = [word for sublist in data_set for word in sublist]\n",
        "# counter = Counter(all_words)\n",
        "# common_words = counter.most_common(30)\n",
        "# df_common_words = pd.DataFrame(common_words, columns=['Word', 'Count'])\n",
        "# plt.figure(figsize=(12, 8))\n",
        "# colors = [\"red\", \"green\", \"blue\", \"yellow\", \"orange\", \"purple\", \"pink\", \"brown\", \"gray\",\n",
        "#           \"cyan\", \"magenta\", \"teal\", \"olive\", \"lime\", \"navy\", \"maroon\", \"aquamarine\",\n",
        "#           \"coral\", \"gold\", \"indigo\", \"lavender\", \"salmon\", \"silver\", \"tan\", \"violet\",\n",
        "#           \"crimson\", \"darkgreen\", \"darkblue\", \"darkorange\", \"deeppink\"]\n",
        "# sns.barplot(x='Count', y='Word', data=df_common_words,palette=colors)\n",
        "# plt.title('30 Most Common Words Real')\n",
        "# plt.xlabel('Count  Real')\n",
        "# plt.ylabel('Real Word')\n",
        "# df_common_words.to_csv(f'{path}_df_common_words_Real.csv')\n",
        "# plt.savefig(f'{path}_df_common_words_Real.png',bbox_inches='tight')\n",
        "# plt.show()\n"
      ]
    },
    {
      "cell_type": "markdown",
      "metadata": {
        "id": "KeFhkM3_sdN1"
      },
      "source": [
        "# Character Count"
      ]
    },
    {
      "cell_type": "code",
      "execution_count": null,
      "metadata": {
        "id": "Y3XSQj5JsdN1"
      },
      "outputs": [],
      "source": [
        "# color=[\"red\",\"green\"]\n",
        "# plt.figure(figsize=(7,5))\n",
        "\n",
        "# sns.histplot(data=df,x=\"character_count\",palette=color,kde=True,hue=\"label\",element=\"step\",stat=\"density\")\n",
        "# plt.title(\"Character Count\",fontsize=15,color=\"darkblue\")\n",
        "# df['character_count'].to_csv(f'{path}_character_count.csv')\n",
        "# plt.savefig(f'{path}_character_count.png',bbox_inches='tight')\n",
        "# plt.show()"
      ]
    },
    {
      "cell_type": "markdown",
      "metadata": {
        "id": "OwtjmNtJsdN1"
      },
      "source": [
        "# Word Count"
      ]
    },
    {
      "cell_type": "code",
      "execution_count": null,
      "metadata": {
        "id": "Dobu8vs6sdN1"
      },
      "outputs": [],
      "source": [
        "# color=[\"navy\",\"darkorange\"]\n",
        "# plt.figure(figsize=(7,5))\n",
        "\n",
        "# sns.histplot(data=df,x=\"word_count\",palette=color,kde=True,hue=\"label\")\n",
        "# plt.title(\"Word Count\",fontsize=15,color=\"darkblue\")\n",
        "# plt.xlim(0,2000)\n",
        "# df[['word_count','label']].to_csv(f'{path}_word_count.csv')\n",
        "# plt.savefig(f'{path}_word_count.png',bbox_inches='tight')\n",
        "# plt.show()"
      ]
    },
    {
      "cell_type": "markdown",
      "metadata": {
        "id": "qN4vOls2sdN1"
      },
      "source": [
        "# Sentence Count"
      ]
    },
    {
      "cell_type": "code",
      "source": [
        "df.columns"
      ],
      "metadata": {
        "colab": {
          "base_uri": "https://localhost:8080/"
        },
        "id": "RdHswp6uYcoe",
        "outputId": "071b8a6f-aa97-4043-c7e2-9fef9a952cf7"
      },
      "execution_count": null,
      "outputs": [
        {
          "output_type": "execute_result",
          "data": {
            "text/plain": [
              "Index(['text', 'emotion', 'label', 'character_count', 'word_count', 'len',\n",
              "       'text2'],\n",
              "      dtype='object')"
            ]
          },
          "metadata": {},
          "execution_count": 46
        }
      ]
    },
    {
      "cell_type": "code",
      "execution_count": null,
      "metadata": {
        "id": "rEm7CTMtsdN5"
      },
      "outputs": [],
      "source": [
        "df.drop(['character_count', 'word_count','text2'],axis=1,inplace=True)"
      ]
    },
    {
      "cell_type": "markdown",
      "metadata": {
        "id": "yXrP7CfPsdN5"
      },
      "source": [
        "# Average Sentence Length"
      ]
    },
    {
      "cell_type": "code",
      "execution_count": 45,
      "metadata": {
        "colab": {
          "base_uri": "https://localhost:8080/"
        },
        "id": "6vvWGTMc_q0w",
        "outputId": "273347d3-9561-4879-8552-3e5ea547d4d5"
      },
      "outputs": [
        {
          "output_type": "execute_result",
          "data": {
            "text/plain": [
              "(467.4963090551181, 16963)"
            ]
          },
          "metadata": {},
          "execution_count": 45
        }
      ],
      "source": [
        "df['len'].mean(),df['len'].max()"
      ]
    },
    {
      "cell_type": "code",
      "execution_count": null,
      "metadata": {
        "colab": {
          "base_uri": "https://localhost:8080/"
        },
        "id": "KLnSIkyT7WYR",
        "outputId": "e47fa24a-e1ab-41af-f3df-5c42a96c10d0"
      },
      "outputs": [
        {
          "output_type": "execute_result",
          "data": {
            "text/plain": [
              "Index(['text', 'emotion', 'label', 'len'], dtype='object')"
            ]
          },
          "metadata": {},
          "execution_count": 49
        }
      ],
      "source": [
        "df.columns"
      ]
    },
    {
      "cell_type": "code",
      "execution_count": null,
      "metadata": {
        "colab": {
          "base_uri": "https://localhost:8080/"
        },
        "id": "RHiWTmuJsdN5",
        "outputId": "e5f41d2f-0cb9-45fd-9ac3-9fd0e595aed7"
      },
      "outputs": [
        {
          "output_type": "stream",
          "name": "stdout",
          "text": [
            "Average Text Length is : 15.48\n"
          ]
        }
      ],
      "source": [
        "avg_len=df[\"text\"].str.split().apply(len)\n",
        "avg_len=avg_len.mean()\n",
        "print(f\"Average Text Length is : {avg_len:.2f}\")"
      ]
    },
    {
      "cell_type": "markdown",
      "metadata": {
        "id": "SfTx7M9EsdN6"
      },
      "source": [
        "# Maximum Length"
      ]
    },
    {
      "cell_type": "code",
      "execution_count": 67,
      "metadata": {
        "id": "mIJpu18NsdN6"
      },
      "outputs": [],
      "source": [
        "SEQ_LEN=100"
      ]
    },
    {
      "cell_type": "code",
      "execution_count": 68,
      "metadata": {
        "id": "JrmkolYHsdN6"
      },
      "outputs": [],
      "source": [
        "text_data=df[\"text\"]\n",
        "label_data=df[\"label\"]\n",
        "label_data=np.array(label_data)"
      ]
    },
    {
      "cell_type": "markdown",
      "metadata": {
        "id": "BOiyIqKEA5KU"
      },
      "source": [
        "# Teransformer 2"
      ]
    },
    {
      "cell_type": "code",
      "execution_count": 69,
      "metadata": {
        "id": "lJ8ruGiKoGhn"
      },
      "outputs": [],
      "source": [
        "# SEQ_LEN = 1250"
      ]
    },
    {
      "cell_type": "code",
      "execution_count": 70,
      "metadata": {
        "id": "Nsuky782w0Ce"
      },
      "outputs": [],
      "source": [
        "tf.keras.backend.clear_session()"
      ]
    },
    {
      "cell_type": "code",
      "execution_count": 71,
      "metadata": {
        "id": "Q6BNjmP_oOL0"
      },
      "outputs": [],
      "source": [
        "# pip install transformers"
      ]
    },
    {
      "cell_type": "code",
      "execution_count": 72,
      "metadata": {
        "id": "uZ4pXCGsoJS1"
      },
      "outputs": [],
      "source": [
        "from transformers import AutoTokenizer\n",
        "from transformers import TFAutoModel"
      ]
    },
    {
      "cell_type": "code",
      "execution_count": 73,
      "metadata": {
        "id": "WDX3CkM6ZEE9"
      },
      "outputs": [],
      "source": [
        "\n",
        "# 10. GPT-Neo (Generative Pre-trained Transformer Neo):\n",
        "#     - Full Name: `EleutherAI/gpt-neo-1.3B,gpt2` (or other versions with varying model sizes)\n",
        "\n",
        "# 19. MarianMT (Multilingual Transformer-based Machine Translation):\n",
        "#     - Full Name: `Helsinki-NLP/opus-mt-{src}-{tgt}` (Replace `{src}` and `{tgt}` with language codes)"
      ]
    },
    {
      "cell_type": "code",
      "execution_count": 74,
      "metadata": {
        "colab": {
          "base_uri": "https://localhost:8080/"
        },
        "id": "2YzZPLBSZe95",
        "outputId": "26488650-18a3-424c-eb5f-90a9f5ad6c5b"
      },
      "outputs": [
        {
          "output_type": "execute_result",
          "data": {
            "text/plain": [
              "28"
            ]
          },
          "metadata": {},
          "execution_count": 74
        }
      ],
      "source": [
        "kk = 't5-small,google/electra-base-discriminator,albert-base-v2,xlnet-base-cased,distilbert-base-uncased,roberta-base,bert-base-uncased,google/mt5-small,allenai/longformer-base-4096,facebook/bart-large,microsoft/mpnet-base,funnel-transformer/small-base,microsoft/deberta-base,google/mobilebert-uncased,xlm-roberta-base,ctrl,EleutherAI/gpt-neo-1.3B,gpt2,GPT-4/GPT-3/main,asi/albert-act-base,asi/albert-act-small,prajjwal1/bert-tiny,TheBloke/llama-2-70b-Guanaco-QLoRA-fp16,vinai/bertweet-base,nlpproject2023/small-bert,readerbench/RoBERT-small,SamLowe/roberta-base-go_emotions,roberta-base'.split(',')\n",
        "len(kk)"
      ]
    },
    {
      "cell_type": "code",
      "execution_count": 75,
      "metadata": {
        "id": "HuRc0pJ3Pvh2"
      },
      "outputs": [],
      "source": [
        "# m = \"stevhliu/my_awesome_model\"\n",
        "# m = 'TheBloke/llama-2-70b-Guanaco-QLoRA-fp16'\n",
        "# m = 'GPT2'\n",
        "# m = 'vinai/bertweet-base'\n",
        "# m = 'GPT-4/GPT-3'\n",
        "# m = 'tum-nlp/IDMGSP-Galactica-TRAIN_GPT3'\n",
        "# m = 'asi/albert-act-small'\n",
        "# m ='prajjwal1/bert-tiny'\n",
        "# m = 'asi/albert-act-base'\n",
        "# m = 'albert-base-v2'"
      ]
    },
    {
      "cell_type": "code",
      "execution_count": 76,
      "metadata": {
        "id": "a8DlEEgia_P8"
      },
      "outputs": [],
      "source": [
        "# 0,\n",
        "# 7\n",
        "# 18\n",
        "# 19\n",
        "# 20\n"
      ]
    },
    {
      "cell_type": "code",
      "execution_count": 77,
      "metadata": {
        "colab": {
          "base_uri": "https://localhost:8080/",
          "height": 39
        },
        "id": "5N8vWTKbfEPR",
        "outputId": "3a574aa5-baae-4e9a-dc84-1b58218c02fc"
      },
      "outputs": [
        {
          "output_type": "execute_result",
          "data": {
            "text/plain": [
              "'XLNetTokenizer, AlbertTokenizer, CamembertTokenizer, MBartTokenizer, PegasusTokenizer, T5Tokenizer, ReformerTokenizer, XLMRobertaTokenizer '"
            ],
            "application/vnd.google.colaboratory.intrinsic+json": {
              "type": "string"
            }
          },
          "metadata": {},
          "execution_count": 77
        }
      ],
      "source": [
        "'XLNetTokenizer, AlbertTokenizer, CamembertTokenizer, MBartTokenizer, PegasusTokenizer, T5Tokenizer, ReformerTokenizer, XLMRobertaTokenizer '"
      ]
    },
    {
      "cell_type": "code",
      "execution_count": 78,
      "metadata": {
        "colab": {
          "base_uri": "https://localhost:8080/"
        },
        "id": "VVU1ym7Deqh5",
        "outputId": "e658f9ea-8899-42c5-d507-ee0dca3cbd94"
      },
      "outputs": [
        {
          "output_type": "stream",
          "name": "stdout",
          "text": [
            "Requirement already satisfied: transformers[sentencepiece] in /usr/local/lib/python3.10/dist-packages (4.33.2)\n",
            "Requirement already satisfied: filelock in /usr/local/lib/python3.10/dist-packages (from transformers[sentencepiece]) (3.12.2)\n",
            "Requirement already satisfied: huggingface-hub<1.0,>=0.15.1 in /usr/local/lib/python3.10/dist-packages (from transformers[sentencepiece]) (0.17.2)\n",
            "Requirement already satisfied: numpy>=1.17 in /usr/local/lib/python3.10/dist-packages (from transformers[sentencepiece]) (1.23.5)\n",
            "Requirement already satisfied: packaging>=20.0 in /usr/local/lib/python3.10/dist-packages (from transformers[sentencepiece]) (23.1)\n",
            "Requirement already satisfied: pyyaml>=5.1 in /usr/local/lib/python3.10/dist-packages (from transformers[sentencepiece]) (6.0.1)\n",
            "Requirement already satisfied: regex!=2019.12.17 in /usr/local/lib/python3.10/dist-packages (from transformers[sentencepiece]) (2023.6.3)\n",
            "Requirement already satisfied: requests in /usr/local/lib/python3.10/dist-packages (from transformers[sentencepiece]) (2.31.0)\n",
            "Requirement already satisfied: tokenizers!=0.11.3,<0.14,>=0.11.1 in /usr/local/lib/python3.10/dist-packages (from transformers[sentencepiece]) (0.13.3)\n",
            "Requirement already satisfied: safetensors>=0.3.1 in /usr/local/lib/python3.10/dist-packages (from transformers[sentencepiece]) (0.3.3)\n",
            "Requirement already satisfied: tqdm>=4.27 in /usr/local/lib/python3.10/dist-packages (from transformers[sentencepiece]) (4.66.1)\n",
            "Requirement already satisfied: sentencepiece!=0.1.92,>=0.1.91 in /usr/local/lib/python3.10/dist-packages (from transformers[sentencepiece]) (0.1.99)\n",
            "Requirement already satisfied: protobuf in /usr/local/lib/python3.10/dist-packages (from transformers[sentencepiece]) (3.20.3)\n",
            "Requirement already satisfied: fsspec in /usr/local/lib/python3.10/dist-packages (from huggingface-hub<1.0,>=0.15.1->transformers[sentencepiece]) (2023.6.0)\n",
            "Requirement already satisfied: typing-extensions>=3.7.4.3 in /usr/local/lib/python3.10/dist-packages (from huggingface-hub<1.0,>=0.15.1->transformers[sentencepiece]) (4.5.0)\n",
            "Requirement already satisfied: charset-normalizer<4,>=2 in /usr/local/lib/python3.10/dist-packages (from requests->transformers[sentencepiece]) (3.2.0)\n",
            "Requirement already satisfied: idna<4,>=2.5 in /usr/local/lib/python3.10/dist-packages (from requests->transformers[sentencepiece]) (3.4)\n",
            "Requirement already satisfied: urllib3<3,>=1.21.1 in /usr/local/lib/python3.10/dist-packages (from requests->transformers[sentencepiece]) (2.0.4)\n",
            "Requirement already satisfied: certifi>=2017.4.17 in /usr/local/lib/python3.10/dist-packages (from requests->transformers[sentencepiece]) (2023.7.22)\n"
          ]
        }
      ],
      "source": [
        "pip install transformers[sentencepiece]\n"
      ]
    },
    {
      "cell_type": "code",
      "execution_count": 79,
      "metadata": {
        "id": "HKVW3EoGeuQv"
      },
      "outputs": [],
      "source": [
        "import transformers"
      ]
    },
    {
      "cell_type": "code",
      "execution_count": 80,
      "metadata": {
        "colab": {
          "base_uri": "https://localhost:8080/"
        },
        "id": "NIQncAAiet7d",
        "outputId": "a713bd25-fc5c-43f9-c57c-dba3003ef87d"
      },
      "outputs": [
        {
          "output_type": "stream",
          "name": "stdout",
          "text": [
            "Requirement already satisfied: sentencepiece in /usr/local/lib/python3.10/dist-packages (0.1.99)\n"
          ]
        }
      ],
      "source": [
        "pip install sentencepiece"
      ]
    },
    {
      "cell_type": "code",
      "execution_count": 81,
      "metadata": {
        "colab": {
          "base_uri": "https://localhost:8080/"
        },
        "id": "6S4Zgo-T6Qwv",
        "outputId": "c10102f6-8e5c-4178-87c6-9db8b3a39545"
      },
      "outputs": [
        {
          "output_type": "execute_result",
          "data": {
            "text/plain": [
              "['t5-small',\n",
              " 'google/electra-base-discriminator',\n",
              " 'albert-base-v2',\n",
              " 'xlnet-base-cased',\n",
              " 'distilbert-base-uncased',\n",
              " 'roberta-base',\n",
              " 'bert-base-uncased',\n",
              " 'google/mt5-small',\n",
              " 'allenai/longformer-base-4096',\n",
              " 'facebook/bart-large',\n",
              " 'microsoft/mpnet-base',\n",
              " 'funnel-transformer/small-base',\n",
              " 'microsoft/deberta-base',\n",
              " 'google/mobilebert-uncased',\n",
              " 'xlm-roberta-base',\n",
              " 'ctrl',\n",
              " 'EleutherAI/gpt-neo-1.3B',\n",
              " 'gpt2',\n",
              " 'GPT-4/GPT-3/main',\n",
              " 'asi/albert-act-base',\n",
              " 'asi/albert-act-small',\n",
              " 'prajjwal1/bert-tiny',\n",
              " 'TheBloke/llama-2-70b-Guanaco-QLoRA-fp16',\n",
              " 'vinai/bertweet-base',\n",
              " 'nlpproject2023/small-bert',\n",
              " 'readerbench/RoBERT-small',\n",
              " 'SamLowe/roberta-base-go_emotions',\n",
              " 'roberta-base']"
            ]
          },
          "metadata": {},
          "execution_count": 81
        }
      ],
      "source": [
        "kk"
      ]
    },
    {
      "cell_type": "code",
      "execution_count": 82,
      "metadata": {
        "colab": {
          "base_uri": "https://localhost:8080/"
        },
        "id": "JuedeZpbA8JA",
        "outputId": "2f2a9174-dc30-42cf-b96b-c4dcfbf6d280"
      },
      "outputs": [
        {
          "output_type": "stream",
          "name": "stdout",
          "text": [
            "albert-base-v2\n"
          ]
        }
      ],
      "source": [
        "i = 2\n",
        "print(kk[i])\n"
      ]
    },
    {
      "cell_type": "code",
      "execution_count": 83,
      "metadata": {
        "id": "JNgtw3MV6N9E"
      },
      "outputs": [],
      "source": [
        "tokenizer = AutoTokenizer.from_pretrained(kk[i])\n",
        "\n",
        "# tokenizer = AutoTokenizer.from_pretrained('readerbench/RoBERT-small')\n"
      ]
    },
    {
      "cell_type": "code",
      "execution_count": 84,
      "metadata": {
        "colab": {
          "base_uri": "https://localhost:8080/"
        },
        "id": "dz0EzgpTA8JE",
        "outputId": "cda2f5f1-bff9-4b46-e185-1ab27e078a58"
      },
      "outputs": [
        {
          "output_type": "stream",
          "name": "stderr",
          "text": [
            "Some weights of the PyTorch model were not used when initializing the TF 2.0 model TFAlbertModel: ['predictions.decoder.weight', 'predictions.dense.weight', 'predictions.LayerNorm.bias', 'predictions.decoder.bias', 'predictions.LayerNorm.weight', 'predictions.bias', 'predictions.dense.bias']\n",
            "- This IS expected if you are initializing TFAlbertModel from a PyTorch model trained on another task or with another architecture (e.g. initializing a TFBertForSequenceClassification model from a BertForPreTraining model).\n",
            "- This IS NOT expected if you are initializing TFAlbertModel from a PyTorch model that you expect to be exactly identical (e.g. initializing a TFBertForSequenceClassification model from a BertForSequenceClassification model).\n",
            "All the weights of TFAlbertModel were initialized from the PyTorch model.\n",
            "If your task is similar to the task the model of the checkpoint was trained on, you can already use TFAlbertModel for predictions without further training.\n"
          ]
        }
      ],
      "source": [
        "bert = TFAutoModel.from_pretrained(kk[i]\n",
        "                                   ,from_pt=True\n",
        "                                   )\n",
        "# bert = TFAutoModel.from_pretrained('readerbench/RoBERT-small')\n"
      ]
    },
    {
      "cell_type": "code",
      "execution_count": 85,
      "metadata": {
        "id": "V9oj5zqWfNQY"
      },
      "outputs": [],
      "source": [
        "# import tensorflow as tf\n",
        "# from transformers import MT5Tokenizer, TFAutoModelForSequenceClassification\n",
        "\n",
        "# # Load pre-trained MT5 model and tokenizer\n",
        "# model_name = 'google/mt5-small'\n",
        "# tokenizer = MT5Tokenizer.from_pretrained(model_name)\n",
        "# bert = TFAutoModel.from_pretrained(kk[i])"
      ]
    },
    {
      "cell_type": "code",
      "execution_count": 86,
      "metadata": {
        "id": "MeFueQZvPFWv"
      },
      "outputs": [],
      "source": [
        "# AutoTokenizer.from_pretrained"
      ]
    },
    {
      "cell_type": "code",
      "execution_count": 87,
      "metadata": {
        "id": "uWFL-z5eBAj8"
      },
      "outputs": [],
      "source": [
        "data = df.copy()\n"
      ]
    },
    {
      "cell_type": "code",
      "execution_count": 88,
      "metadata": {
        "id": "0dJOHOjHBc6E"
      },
      "outputs": [],
      "source": [
        "# SEQ_LEN = 22"
      ]
    },
    {
      "cell_type": "code",
      "execution_count": 89,
      "metadata": {
        "id": "qrOy9yJ6AYHX"
      },
      "outputs": [],
      "source": [
        "# data = data.sample(frac=0.1)"
      ]
    },
    {
      "cell_type": "code",
      "execution_count": 90,
      "metadata": {
        "id": "X2WGlOcUqE4B"
      },
      "outputs": [],
      "source": [
        "Xids = np.zeros((len(data),SEQ_LEN))\n",
        "Xmask = np.zeros((len(data),SEQ_LEN))\n"
      ]
    },
    {
      "cell_type": "code",
      "execution_count": 91,
      "metadata": {
        "colab": {
          "base_uri": "https://localhost:8080/"
        },
        "id": "m5xruxlzqTWp",
        "outputId": "1a5102a6-0a25-4e1d-cd7a-f2d1ae187aef"
      },
      "outputs": [
        {
          "output_type": "execute_result",
          "data": {
            "text/plain": [
              "(12192, 100)"
            ]
          },
          "metadata": {},
          "execution_count": 91
        }
      ],
      "source": [
        "Xids.shape"
      ]
    },
    {
      "cell_type": "code",
      "execution_count": 92,
      "metadata": {
        "id": "BQpHODsiSs8y"
      },
      "outputs": [],
      "source": [
        "# tokenizer.eos_token"
      ]
    },
    {
      "cell_type": "code",
      "execution_count": 93,
      "metadata": {
        "id": "i3e-V95nSAT2"
      },
      "outputs": [],
      "source": [
        "tokenizer.pad_token = '<|PAD|>'"
      ]
    },
    {
      "cell_type": "code",
      "execution_count": 94,
      "metadata": {
        "id": "gmgMfId5qVgd"
      },
      "outputs": [],
      "source": [
        "for i, sequence in enumerate(data['text']):\n",
        "    tokens = tokenizer.encode_plus(\n",
        "    sequence,\n",
        "    max_length = SEQ_LEN,\n",
        "    truncation=True,\n",
        "    padding=\"max_length\",\n",
        "    add_special_tokens=True,\n",
        "    return_token_type_ids=False,\n",
        "    return_attention_mask=True,\n",
        "    return_tensors='tf'\n",
        "    )\n",
        "    Xids[i, :], Xmask[i, :] = tokens['input_ids'], tokens['attention_mask']"
      ]
    },
    {
      "cell_type": "code",
      "execution_count": 95,
      "metadata": {
        "id": "5tUwiF8iBFSN"
      },
      "outputs": [],
      "source": [
        "import tensorflow as tf"
      ]
    },
    {
      "cell_type": "code",
      "execution_count": 96,
      "metadata": {
        "id": "sZOq4El7swYr",
        "colab": {
          "base_uri": "https://localhost:8080/"
        },
        "outputId": "e9b46313-e143-4a45-9172-5884a0624b4f"
      },
      "outputs": [
        {
          "output_type": "execute_result",
          "data": {
            "text/plain": [
              "[PhysicalDevice(name='/physical_device:GPU:0', device_type='GPU')]"
            ]
          },
          "metadata": {},
          "execution_count": 96
        }
      ],
      "source": [
        "tf.config.experimental.list_physical_devices('GPU')"
      ]
    },
    {
      "cell_type": "code",
      "execution_count": 97,
      "metadata": {
        "id": "D_d8CJvKXT6K"
      },
      "outputs": [],
      "source": [
        "labels = data['label']"
      ]
    },
    {
      "cell_type": "code",
      "source": [
        "s = data['label'].to_numpy()"
      ],
      "metadata": {
        "id": "Km7w8YXQZReL"
      },
      "execution_count": 98,
      "outputs": []
    },
    {
      "cell_type": "code",
      "source": [
        "s.max(),s.shape[0]"
      ],
      "metadata": {
        "colab": {
          "base_uri": "https://localhost:8080/"
        },
        "id": "qut5Go6MZcAW",
        "outputId": "94ec534e-2f7b-4eaf-de65-b235b5540b59"
      },
      "execution_count": 99,
      "outputs": [
        {
          "output_type": "execute_result",
          "data": {
            "text/plain": [
              "(11, 12192)"
            ]
          },
          "metadata": {},
          "execution_count": 99
        }
      ]
    },
    {
      "cell_type": "code",
      "source": [
        "s1 = np.zeros((s.shape[0],s.max()+1))"
      ],
      "metadata": {
        "id": "FAnB3ADhZgtm"
      },
      "execution_count": 100,
      "outputs": []
    },
    {
      "cell_type": "code",
      "source": [
        "s1.shape"
      ],
      "metadata": {
        "colab": {
          "base_uri": "https://localhost:8080/"
        },
        "id": "l43EYsFxZm4o",
        "outputId": "d044bca9-dfc8-4ccd-cce4-9d767a352ff3"
      },
      "execution_count": 101,
      "outputs": [
        {
          "output_type": "execute_result",
          "data": {
            "text/plain": [
              "(12192, 12)"
            ]
          },
          "metadata": {},
          "execution_count": 101
        }
      ]
    },
    {
      "cell_type": "code",
      "source": [
        "for i,j in enumerate(s):\n",
        "    s1[i][j] = 1"
      ],
      "metadata": {
        "id": "nQGjSV4_Zb9h"
      },
      "execution_count": 102,
      "outputs": []
    },
    {
      "cell_type": "code",
      "source": [
        "labels = s1"
      ],
      "metadata": {
        "id": "GnVIFxtUZwl9"
      },
      "execution_count": 103,
      "outputs": []
    },
    {
      "cell_type": "code",
      "execution_count": 104,
      "metadata": {
        "id": "87QHbeRgs8OC"
      },
      "outputs": [],
      "source": [
        "dataset = tf.data.Dataset.from_tensor_slices((Xids, Xmask, labels))"
      ]
    },
    {
      "cell_type": "code",
      "execution_count": 105,
      "metadata": {
        "id": "-RoQO_2yzIpd"
      },
      "outputs": [],
      "source": [
        "# labels.sum(axis=0)"
      ]
    },
    {
      "cell_type": "code",
      "execution_count": 106,
      "metadata": {
        "id": "_vkAXTwVtQKK"
      },
      "outputs": [],
      "source": [
        "def map_func(input_ids, masks, labels):\n",
        "    return{'input_ids': input_ids, 'attention_mask':masks}, labels"
      ]
    },
    {
      "cell_type": "code",
      "execution_count": 107,
      "metadata": {
        "id": "wJAbvBXftorM"
      },
      "outputs": [],
      "source": [
        "dataset = dataset.map(map_func)"
      ]
    },
    {
      "cell_type": "code",
      "execution_count": 108,
      "metadata": {
        "id": "YPZSvVu3tv1d"
      },
      "outputs": [],
      "source": [
        "dataset = dataset.shuffle(1000000).batch(32)"
      ]
    },
    {
      "cell_type": "code",
      "execution_count": 109,
      "metadata": {
        "id": "x5cqp_CDt7av"
      },
      "outputs": [],
      "source": [
        "DS_LEN = len(list(dataset))"
      ]
    },
    {
      "cell_type": "code",
      "execution_count": 110,
      "metadata": {
        "id": "tb-JpMdvt-d4",
        "colab": {
          "base_uri": "https://localhost:8080/"
        },
        "outputId": "e469d0a1-22d1-4821-90dc-5621e4453644"
      },
      "outputs": [
        {
          "output_type": "execute_result",
          "data": {
            "text/plain": [
              "381"
            ]
          },
          "metadata": {},
          "execution_count": 110
        }
      ],
      "source": [
        "DS_LEN"
      ]
    },
    {
      "cell_type": "code",
      "execution_count": 111,
      "metadata": {
        "id": "zJeJrde_0VPP"
      },
      "outputs": [],
      "source": [
        "# round(DS_LEN*SPLIT)"
      ]
    },
    {
      "cell_type": "code",
      "execution_count": 112,
      "metadata": {
        "id": "AHStkojW0a0w"
      },
      "outputs": [],
      "source": [
        "# len(train)"
      ]
    },
    {
      "cell_type": "code",
      "execution_count": 113,
      "metadata": {
        "id": "OL9m2oDz1j2j"
      },
      "outputs": [],
      "source": [
        "DATASET_SIZE = len(dataset)"
      ]
    },
    {
      "cell_type": "code",
      "execution_count": 114,
      "metadata": {
        "id": "W3aksvWY1bZy"
      },
      "outputs": [],
      "source": [
        "train_size = int(0.65 * DATASET_SIZE)\n",
        "val_size = int(0.15 * DATASET_SIZE)\n",
        "test_size = int(0.25 * DATASET_SIZE)\n",
        "\n",
        "full_dataset = dataset\n",
        "full_dataset = full_dataset.shuffle(123424242)\n",
        "train_dataset = full_dataset.take(train_size)\n",
        "test_dataset = full_dataset.skip(train_size)\n",
        "val_dataset = test_dataset.skip(test_size)\n",
        "test_dataset = test_dataset.take(test_size)"
      ]
    },
    {
      "cell_type": "code",
      "execution_count": 115,
      "metadata": {
        "id": "n0oXnFK92EhC"
      },
      "outputs": [],
      "source": [
        "train = train_dataset\n",
        "test = test_dataset\n",
        "val = val_dataset"
      ]
    },
    {
      "cell_type": "code",
      "execution_count": 116,
      "metadata": {
        "id": "q0ag84j2uAyY"
      },
      "outputs": [],
      "source": [
        "# SPLIT = 0.8\n",
        "# train = dataset.take(round(DS_LEN*SPLIT))\n",
        "# val = dataset.skip(round(DS_LEN*SPLIT))\n",
        "# test = dataset.skip(round())\n",
        "# # del dataset"
      ]
    },
    {
      "cell_type": "code",
      "execution_count": 117,
      "metadata": {
        "id": "dD9q-eJiA7m7",
        "colab": {
          "base_uri": "https://localhost:8080/"
        },
        "outputId": "d14a2d4a-1dfa-4643-87d1-024e46053a80"
      },
      "outputs": [
        {
          "output_type": "execute_result",
          "data": {
            "text/plain": [
              "(12192, 12)"
            ]
          },
          "metadata": {},
          "execution_count": 117
        }
      ],
      "source": [
        "labels.shape"
      ]
    },
    {
      "cell_type": "code",
      "execution_count": 118,
      "metadata": {
        "id": "P4ykpILyE5Oy"
      },
      "outputs": [],
      "source": [
        "tf.keras.backend.clear_session()"
      ]
    },
    {
      "cell_type": "code",
      "execution_count": 119,
      "metadata": {
        "id": "aaVXm40hueI2"
      },
      "outputs": [],
      "source": [
        "input_ids = tf.keras.layers.Input(shape=(SEQ_LEN,), name='input_ids', dtype='int32')\n",
        "mask = tf.keras.layers.Input(shape=(SEQ_LEN,), name='attention_mask', dtype='int32')\n",
        "\n",
        "embeddings = bert(input_ids, attention_mask=mask)[0]\n",
        "\n",
        "X = tf.keras.layers.GlobalMaxPooling1D()(embeddings)\n",
        "X = tf.keras.layers.BatchNormalization()(X)\n",
        "# X = tf.keras.layers.Dense(32, activation = 'relu')(X)\n",
        "# X = tf.keras.layers.Dropout(0.1)(X)\n",
        "X = tf.keras.layers.Dense(32, activation = 'relu')(X)\n",
        "y = tf.keras.layers.Dense(12, activation = 'softmax' , name = 'outputs')(X)\n",
        "\n",
        "model = tf.keras.Model(inputs=[input_ids, mask], outputs = y)"
      ]
    },
    {
      "cell_type": "code",
      "execution_count": 120,
      "metadata": {
        "id": "cNqBGkUI79Yt"
      },
      "outputs": [],
      "source": [
        "model.layers[2].trainable = False"
      ]
    },
    {
      "cell_type": "code",
      "execution_count": 121,
      "metadata": {
        "id": "lWBp-iQV5uS4"
      },
      "outputs": [],
      "source": [
        "# model.load_weights(f'{path0}checkpoint')"
      ]
    },
    {
      "cell_type": "code",
      "execution_count": 122,
      "metadata": {
        "colab": {
          "base_uri": "https://localhost:8080/"
        },
        "id": "uKSKOVihvAax",
        "outputId": "fb44503d-15ad-4607-8a5b-01b660b85ab2"
      },
      "outputs": [
        {
          "output_type": "stream",
          "name": "stdout",
          "text": [
            "Model: \"model\"\n",
            "__________________________________________________________________________________________________\n",
            " Layer (type)                Output Shape                 Param #   Connected to                  \n",
            "==================================================================================================\n",
            " input_ids (InputLayer)      [(None, 100)]                0         []                            \n",
            "                                                                                                  \n",
            " attention_mask (InputLayer  [(None, 100)]                0         []                            \n",
            " )                                                                                                \n",
            "                                                                                                  \n",
            " tf_albert_model (TFAlbertM  TFBaseModelOutputWithPooli   1168358   ['input_ids[0][0]',           \n",
            " odel)                       ng(last_hidden_state=(None   4          'attention_mask[0][0]']      \n",
            "                             , 100, 768),                                                         \n",
            "                              pooler_output=(None, 768)                                           \n",
            "                             , hidden_states=None, atte                                           \n",
            "                             ntions=None)                                                         \n",
            "                                                                                                  \n",
            " global_max_pooling1d (Glob  (None, 768)                  0         ['tf_albert_model[0][0]']     \n",
            " alMaxPooling1D)                                                                                  \n",
            "                                                                                                  \n",
            " batch_normalization (Batch  (None, 768)                  3072      ['global_max_pooling1d[0][0]']\n",
            " Normalization)                                                                                   \n",
            "                                                                                                  \n",
            " dense (Dense)               (None, 32)                   24608     ['batch_normalization[0][0]'] \n",
            "                                                                                                  \n",
            " outputs (Dense)             (None, 12)                   396       ['dense[0][0]']               \n",
            "                                                                                                  \n",
            "==================================================================================================\n",
            "Total params: 11711660 (44.68 MB)\n",
            "Trainable params: 26540 (103.67 KB)\n",
            "Non-trainable params: 11685120 (44.58 MB)\n",
            "__________________________________________________________________________________________________\n"
          ]
        }
      ],
      "source": [
        "model.summary()"
      ]
    },
    {
      "cell_type": "code",
      "execution_count": 123,
      "metadata": {
        "id": "iYeJ0GyMLqz4"
      },
      "outputs": [],
      "source": [
        "import pandas as pd\n",
        "from keras import layers\n",
        "from keras.layers import Dense, Activation, Flatten, Convolution1D, Dropout,MaxPooling1D\n",
        "from keras.layers import Input, Dense, Dropout, Activation, ZeroPadding2D, BatchNormalization, Flatten, Conv2D, Embedding, Add\n",
        "from keras.layers import Conv1D, GlobalAveragePooling1D, AveragePooling2D, MaxPooling2D, MaxPool1D, ZeroPadding1D, GlobalMaxPooling2D, GlobalAveragePooling2D, LSTM, SpatialDropout1D\n",
        "from keras.models import Sequential, Model\n",
        "from keras.preprocessing import image\n",
        "from keras.utils import plot_model\n",
        "from keras.applications.inception_v3 import InceptionV3\n",
        "from sklearn.model_selection import train_test_split\n",
        "import matplotlib.pyplot as plt\n",
        "from sklearn.metrics import confusion_matrix\n",
        "import seaborn as sns\n",
        "from keras.callbacks import ReduceLROnPlateau , EarlyStopping\n",
        "from keras.utils import to_categorical\n",
        "from tensorflow.keras.optimizers import Adam, Adamax\n",
        "import tensorflow as tf"
      ]
    },
    {
      "cell_type": "code",
      "execution_count": 124,
      "metadata": {
        "id": "pa9I1DFdLq9v"
      },
      "outputs": [],
      "source": [
        "es = EarlyStopping(monitor=\"val_loss\", mode=\"min\", verbose=1, patience=7)\n",
        "learning_rate_reduction = ReduceLROnPlateau(monitor='val_loss',\n",
        "                                            patience=5,\n",
        "                                            verbose=1,\n",
        "                                            factor=0.7,\n",
        "                                            min_lr=0.000001)"
      ]
    },
    {
      "cell_type": "code",
      "execution_count": 125,
      "metadata": {
        "id": "KN45mTbg6eHA"
      },
      "outputs": [],
      "source": [
        "from tensorflow.keras.optimizers import Adam, Adamax,RMSprop\n",
        "# Adamax(learning_rate=0.1)"
      ]
    },
    {
      "cell_type": "code",
      "execution_count": 126,
      "metadata": {
        "id": "ZNvCM2ICLq9v"
      },
      "outputs": [],
      "source": [
        "# model.compile(optimizer=Adamax(lr=0.0001), loss='categorical_crossentropy', metrics=['accuracy',tf.keras.metrics.Precision(),tf.keras.metrics.Recall(),tf.keras.metrics.AUC(num_thresholds=3)])\n",
        "model.compile(optimizer=Adam(learning_rate=1e-2), loss='categorical_crossentropy', metrics=['accuracy'])\n",
        "# model.compile(optimizer=Adamax(), loss='binary_crossentropy', metrics=['accuracy'])\n",
        "\n",
        "# tf.keras.utils.plot_model(ann_model, to_file='ann_model.png', show_shapes=True, show_layer_names=True)"
      ]
    },
    {
      "cell_type": "code",
      "execution_count": 127,
      "metadata": {
        "id": "3BmGRIWm_79Q"
      },
      "outputs": [],
      "source": [
        "# model.compile(optimizer=Adam(), loss='binary_crossentropy', metrics=['accuracy','AUC'])\n",
        "# model.load_weights(f'{path}checkpoint')\n"
      ]
    },
    {
      "cell_type": "code",
      "execution_count": 130,
      "metadata": {
        "colab": {
          "base_uri": "https://localhost:8080/"
        },
        "id": "qA1RELtXLq9v",
        "outputId": "ee705fdb-538d-4ada-c1dd-4c5919cfc6f1"
      },
      "outputs": [
        {
          "output_type": "stream",
          "name": "stdout",
          "text": [
            "Epoch 1/12\n",
            "247/247 [==============================] - 72s 290ms/step - loss: 0.6882 - accuracy: 0.7653 - val_loss: 0.5422 - val_accuracy: 0.8045 - lr: 0.0100\n",
            "Epoch 2/12\n",
            "247/247 [==============================] - 73s 292ms/step - loss: 0.6665 - accuracy: 0.7783 - val_loss: 0.6327 - val_accuracy: 0.7869 - lr: 0.0100\n",
            "Epoch 3/12\n",
            "247/247 [==============================] - 72s 292ms/step - loss: 0.7140 - accuracy: 0.7681 - val_loss: 0.5025 - val_accuracy: 0.8277 - lr: 0.0100\n",
            "Epoch 4/12\n",
            "247/247 [==============================] - 72s 290ms/step - loss: 0.6569 - accuracy: 0.7834 - val_loss: 0.5531 - val_accuracy: 0.8125 - lr: 0.0100\n",
            "Epoch 5/12\n",
            "247/247 [==============================] - 71s 286ms/step - loss: 0.6454 - accuracy: 0.7874 - val_loss: 0.5627 - val_accuracy: 0.7941 - lr: 0.0100\n",
            "Epoch 6/12\n",
            "247/247 [==============================] - 78s 313ms/step - loss: 0.6657 - accuracy: 0.7863 - val_loss: 0.5216 - val_accuracy: 0.8173 - lr: 0.0100\n",
            "Epoch 7/12\n",
            "247/247 [==============================] - 72s 290ms/step - loss: 0.6652 - accuracy: 0.7810 - val_loss: 0.4988 - val_accuracy: 0.8261 - lr: 0.0100\n",
            "Epoch 8/12\n",
            "247/247 [==============================] - 71s 288ms/step - loss: 0.6622 - accuracy: 0.7843 - val_loss: 0.5290 - val_accuracy: 0.8197 - lr: 0.0100\n",
            "Epoch 9/12\n",
            "247/247 [==============================] - 72s 290ms/step - loss: 0.6328 - accuracy: 0.7945 - val_loss: 0.5598 - val_accuracy: 0.8125 - lr: 0.0100\n",
            "Epoch 10/12\n",
            "247/247 [==============================] - 72s 292ms/step - loss: 0.6353 - accuracy: 0.7909 - val_loss: 0.4858 - val_accuracy: 0.8157 - lr: 0.0100\n",
            "Epoch 11/12\n",
            "247/247 [==============================] - 71s 287ms/step - loss: 0.6253 - accuracy: 0.7878 - val_loss: 0.4972 - val_accuracy: 0.8413 - lr: 0.0100\n",
            "Epoch 12/12\n",
            "247/247 [==============================] - 72s 289ms/step - loss: 0.6223 - accuracy: 0.7976 - val_loss: 0.4742 - val_accuracy: 0.8269 - lr: 0.0100\n"
          ]
        }
      ],
      "source": [
        "num_epochs = 12\n",
        "# early_stop = EarlyStopping(monitor='val_accuracy', patience=6,restore_best_weights=True)\n",
        "history = model.fit(train,\n",
        "                    # batch_size=32,\n",
        "                    epochs=num_epochs,\n",
        "                    # validati0on_split=0.2,\n",
        "                    validation_data=[val],\n",
        "                    callbacks =[\n",
        "                        learning_rate_reduction,\n",
        "                                es\n",
        "                                ],\n",
        "                    # verbose=0\n",
        "                    )"
      ]
    },
    {
      "cell_type": "code",
      "source": [
        "model.compile(optimizer=Adam(learning_rate=1e-5), loss='categorical_crossentropy', metrics=['accuracy'])\n"
      ],
      "metadata": {
        "id": "641A_rswth_o"
      },
      "execution_count": 135,
      "outputs": []
    },
    {
      "cell_type": "code",
      "source": [
        "num_epochs = 25\n",
        "# early_stop = EarlyStopping(monitor='val_accuracy', patience=6,restore_best_weights=True)\n",
        "history = model.fit(train,\n",
        "                    # batch_size=32,\n",
        "                    epochs=num_epochs,\n",
        "                    # validati0on_split=0.2,\n",
        "                    validation_data=[val],\n",
        "                    callbacks =[\n",
        "                        learning_rate_reduction,\n",
        "                                es\n",
        "                                ],\n",
        "                    # verbose=0\n",
        "                    )"
      ],
      "metadata": {
        "colab": {
          "base_uri": "https://localhost:8080/"
        },
        "id": "nwQjuYPZtjdF",
        "outputId": "1fe57cda-424f-4250-893a-489a313f711c"
      },
      "execution_count": null,
      "outputs": [
        {
          "output_type": "stream",
          "name": "stdout",
          "text": [
            "Epoch 1/25\n",
            "247/247 [==============================] - 72s 291ms/step - loss: 0.4224 - accuracy: 0.8482 - val_loss: 0.3490 - val_accuracy: 0.8694 - lr: 7.0000e-06\n",
            "Epoch 2/25\n",
            "247/247 [==============================] - 72s 290ms/step - loss: 0.4029 - accuracy: 0.8574 - val_loss: 0.3278 - val_accuracy: 0.8806 - lr: 7.0000e-06\n",
            "Epoch 3/25\n",
            "247/247 [==============================] - 72s 290ms/step - loss: 0.4083 - accuracy: 0.8512 - val_loss: 0.3240 - val_accuracy: 0.8790 - lr: 7.0000e-06\n",
            "Epoch 4/25\n",
            "247/247 [==============================] - 72s 291ms/step - loss: 0.4036 - accuracy: 0.8555 - val_loss: 0.3328 - val_accuracy: 0.8854 - lr: 7.0000e-06\n",
            "Epoch 5/25\n",
            "247/247 [==============================] - 71s 288ms/step - loss: 0.4138 - accuracy: 0.8531 - val_loss: 0.3193 - val_accuracy: 0.8854 - lr: 7.0000e-06\n",
            "Epoch 6/25\n",
            "247/247 [==============================] - 73s 292ms/step - loss: 0.4052 - accuracy: 0.8570 - val_loss: 0.3492 - val_accuracy: 0.8774 - lr: 7.0000e-06\n",
            "Epoch 7/25\n",
            "247/247 [==============================] - 73s 293ms/step - loss: 0.4219 - accuracy: 0.8498 - val_loss: 0.3133 - val_accuracy: 0.8894 - lr: 7.0000e-06\n",
            "Epoch 8/25\n",
            "247/247 [==============================] - 72s 290ms/step - loss: 0.4102 - accuracy: 0.8541 - val_loss: 0.3754 - val_accuracy: 0.8710 - lr: 7.0000e-06\n",
            "Epoch 9/25\n",
            "247/247 [==============================] - 72s 292ms/step - loss: 0.4042 - accuracy: 0.8567 - val_loss: 0.3027 - val_accuracy: 0.8950 - lr: 7.0000e-06\n",
            "Epoch 10/25\n",
            "247/247 [==============================] - 72s 291ms/step - loss: 0.4089 - accuracy: 0.8524 - val_loss: 0.3229 - val_accuracy: 0.8886 - lr: 7.0000e-06\n",
            "Epoch 11/25\n",
            "118/247 [=============>................] - ETA: 30s - loss: 0.3938 - accuracy: 0.8596"
          ]
        }
      ]
    },
    {
      "cell_type": "code",
      "execution_count": null,
      "metadata": {
        "id": "8UbAt5C75e4U"
      },
      "outputs": [],
      "source": [
        "# os.mkdir(f'{path0}44/')\n",
        "# path0\n",
        "# path2 = f'{path0}44/'"
      ]
    },
    {
      "cell_type": "code",
      "execution_count": 133,
      "metadata": {
        "id": "ftTAXPXHCYk7"
      },
      "outputs": [],
      "source": [
        "model.save_weights(f'{path}checkpoint')"
      ]
    },
    {
      "cell_type": "code",
      "execution_count": null,
      "metadata": {
        "id": "qJo4zcS-pyUk"
      },
      "outputs": [],
      "source": [
        "# precision = tf.keras.metrics.Precision()\n",
        "# recall = tf.keras.metrics.Recall()\n",
        "# accuracy = tf.keras.metrics.CategoricalAccuracy()\n",
        "# auc = tf.keras.metrics.AUC(num_thresholds=6)\n",
        "tr = []\n",
        "pr = []\n",
        "l = 0\n",
        "# for k in range(len(val)):\n",
        "\n",
        "\n",
        "for i,j in test.take(-1):\n",
        "  # l += 1\n",
        "  # print(l)\n",
        "  s = model.predict(i,verbose=0)\n",
        "  tr.append(np.array(j))\n",
        "  pr.append(np.array(s))\n",
        "#   precision.update_state(s,j)\n",
        "#   accuracy.update_state(s,j)\n",
        "#   auc.update_state(s,j)\n",
        "#   recall.update_state(s,j)\n",
        "# pre = precision.result().numpy()\n",
        "# rec = recall.result().numpy()\n",
        "# au = auc.result().numpy()\n",
        "# acc = accuracy.result().numpy()\n",
        "# print(pre,rec,au,acc)"
      ]
    },
    {
      "cell_type": "code",
      "execution_count": null,
      "metadata": {
        "id": "hwjAGseEyWfS"
      },
      "outputs": [],
      "source": [
        "yp = np.concatenate([y for y in pr], axis=0)\n",
        "yt = np.concatenate([y for y in tr], axis=0)\n"
      ]
    },
    {
      "cell_type": "code",
      "source": [
        "yp"
      ],
      "metadata": {
        "colab": {
          "base_uri": "https://localhost:8080/"
        },
        "id": "Pa_LfrA2xI2F",
        "outputId": "c7559ae1-f4cc-4bd2-f436-58e47cb6a51a"
      },
      "execution_count": null,
      "outputs": [
        {
          "output_type": "execute_result",
          "data": {
            "text/plain": [
              "array([[8.5664195e-01, 2.1181380e-02, 1.2217672e-01],\n",
              "       [8.1542772e-01, 9.0411969e-04, 1.8366814e-01],\n",
              "       [1.2406696e-02, 9.8513108e-01, 2.4621419e-03],\n",
              "       ...,\n",
              "       [9.5079130e-01, 2.7479252e-02, 2.1729494e-02],\n",
              "       [1.5744226e-02, 7.0688319e-03, 9.7718698e-01],\n",
              "       [1.3033297e-03, 9.9690092e-01, 1.7957815e-03]], dtype=float32)"
            ]
          },
          "metadata": {},
          "execution_count": 124
        }
      ]
    },
    {
      "cell_type": "code",
      "execution_count": null,
      "metadata": {
        "colab": {
          "base_uri": "https://localhost:8080/"
        },
        "id": "UPhkhBIH9hRL",
        "outputId": "9eba25eb-4987-409b-8d83-eba1c5163286"
      },
      "outputs": [
        {
          "output_type": "stream",
          "name": "stdout",
          "text": [
            "              precision    recall  f1-score   support\n",
            "\n",
            "           0       0.94      0.91      0.93      1161\n",
            "           1       0.95      0.84      0.89       434\n",
            "           2       0.91      0.93      0.92      1093\n",
            "\n",
            "   micro avg       0.93      0.91      0.92      2688\n",
            "   macro avg       0.94      0.89      0.91      2688\n",
            "weighted avg       0.93      0.91      0.92      2688\n",
            " samples avg       0.93      0.91      0.91      2688\n",
            "\n"
          ]
        }
      ],
      "source": [
        "yp[yp < 0.5] = 0\n",
        "yp[yp > 0.5] = 1\n",
        "# y1 = y_test\n",
        "print(classification_report(yt,yp,zero_division=True))"
      ]
    },
    {
      "cell_type": "code",
      "source": [
        "yp"
      ],
      "metadata": {
        "colab": {
          "base_uri": "https://localhost:8080/"
        },
        "id": "rttPYug7xcUL",
        "outputId": "e510c460-ae52-4e63-8dbe-3bc5622d05cd"
      },
      "execution_count": null,
      "outputs": [
        {
          "output_type": "execute_result",
          "data": {
            "text/plain": [
              "array([[1., 0., 0.],\n",
              "       [1., 0., 0.],\n",
              "       [0., 1., 0.],\n",
              "       ...,\n",
              "       [1., 0., 0.],\n",
              "       [0., 0., 1.],\n",
              "       [0., 1., 0.]], dtype=float32)"
            ]
          },
          "metadata": {},
          "execution_count": 133
        }
      ]
    },
    {
      "cell_type": "code",
      "execution_count": null,
      "metadata": {
        "id": "d5obWg-l8uNC"
      },
      "outputs": [],
      "source": [
        "yp = yp.reshape(-1,)\n",
        "yt = yt.reshape(-1,)\n"
      ]
    },
    {
      "cell_type": "code",
      "execution_count": null,
      "metadata": {
        "colab": {
          "base_uri": "https://localhost:8080/"
        },
        "id": "6bom3ZHX84Fa",
        "outputId": "03000288-3b71-48eb-96ae-d5b99557b362"
      },
      "outputs": [
        {
          "output_type": "execute_result",
          "data": {
            "text/plain": [
              "0.947296626984127"
            ]
          },
          "metadata": {},
          "execution_count": 135
        }
      ],
      "source": [
        "np.sum(yt==yp)/yt.shape[0]"
      ]
    },
    {
      "cell_type": "code",
      "execution_count": null,
      "metadata": {
        "id": "dpTZ2mg9US7-"
      },
      "outputs": [],
      "source": [
        "yp = np.concatenate([y for y in pr], axis=0)\n",
        "yt = np.concatenate([y for y in tr], axis=0)\n"
      ]
    },
    {
      "cell_type": "code",
      "execution_count": null,
      "metadata": {
        "colab": {
          "base_uri": "https://localhost:8080/"
        },
        "id": "CPp2_dz_8pzW",
        "outputId": "8e399693-5b04-445d-d50b-bb3caf6ebcf0"
      },
      "outputs": [
        {
          "output_type": "execute_result",
          "data": {
            "text/plain": [
              "array([1., 0., 0., ..., 0., 1., 0.], dtype=float32)"
            ]
          },
          "metadata": {},
          "execution_count": 136
        }
      ],
      "source": [
        "yp"
      ]
    },
    {
      "cell_type": "code",
      "execution_count": null,
      "metadata": {
        "id": "wqSl3OJm-A3p"
      },
      "outputs": [],
      "source": [
        "y1 = yp.reshape(-1,) # np.zeros((y_test.shape[0],))\n",
        "y2 = yt.reshape(-1,)\n",
        "ff = pd.DataFrame(columns=['real','predicted'],)\n",
        "ff['real'] = y2\n",
        "ff['predicted'] = y1\n",
        "pa = 'robert-large'\n",
        "\n",
        "ff.to_csv(f'{path0}{pa}3.csv',index=False)"
      ]
    },
    {
      "cell_type": "code",
      "execution_count": null,
      "metadata": {
        "id": "7PfJ0pB09hce"
      },
      "outputs": [],
      "source": [
        "from sklearn.metrics import classification_report\n",
        "\n",
        "def savemod(model,pa,y_test,X_test,path=path):\n",
        "    y2 = model.predict(X_test)\n",
        "    y2_ = np.array(y2)\n",
        "    y2_[y2_ < 0.5] = 0\n",
        "    y2_[y2_ > 0.5] = 1\n",
        "    y1 = y_test\n",
        "    print(classification_report(y1,y2_,target_names=target_names))\n",
        "    y1 = y1.reshape(-1,) # np.zeros((y_test.shape[0],))\n",
        "    y2 = y2.reshape(-1,)\n",
        "    # y2 = y_   # np.zeros((y_test.shape[0],))\n",
        "    # y2[y2 < 0.5] = 0\n",
        "    # y2[y2 > 0.5] = 1\n",
        "\n",
        "    # for i in range(len(y_test)):\n",
        "        # y1[i] = 1 if y1> 0.5 else 0\n",
        "        # y2[i] = y_test[i].argmax()\n",
        "    ff = pd.DataFrame(columns=['real','predicted'],)\n",
        "    ff['real'] = y2\n",
        "    ff['predicted'] = y1\n",
        "\n",
        "\n",
        "    ff.to_csv(f'{path}{pa}.csv',index=False)"
      ]
    },
    {
      "cell_type": "code",
      "execution_count": null,
      "metadata": {
        "id": "BkdS2FiyDjS0"
      },
      "outputs": [],
      "source": [
        "# model.compile(optimizer=Adamax(lr=0.0001), loss='categorical_crossentropy', metrics=['accuracy',tf.keras.metrics.Precision(),tf.keras.metrics.Recall(),tf.keras.metrics.AUC(num_thresholds=3)])\n",
        "model.compile(optimizer=Adam(learning_rate=1e-6), loss='binary_crossentropy')\n",
        "\n",
        "# tf.keras.utils.plot_model(ann_model, to_file='ann_model.png', show_shapes=True, show_layer_names=True)"
      ]
    },
    {
      "cell_type": "code",
      "execution_count": null,
      "metadata": {
        "id": "g8MeZbg8DhV8"
      },
      "outputs": [],
      "source": [
        "num_epochs = 50\n",
        "# early_stop = EarlyStopping(monitor='val_accuracy', patience=6,restore_best_weights=True)\n",
        "history = model.fit(train,\n",
        "                    # batch_size=32,\n",
        "                    epochs=num_epochs,\n",
        "                    # validati0on_split=0.2,\n",
        "                    validation_data=[val],\n",
        "                    callbacks =[\n",
        "                        learning_rate_reduction,\n",
        "                                es\n",
        "                                ],\n",
        "                    # verbose=0\n",
        "                    )"
      ]
    },
    {
      "cell_type": "code",
      "execution_count": null,
      "metadata": {
        "id": "c2uvYpbtIkC5"
      },
      "outputs": [],
      "source": []
    },
    {
      "cell_type": "code",
      "execution_count": null,
      "metadata": {
        "id": "kQ1OLR_NIj_g"
      },
      "outputs": [],
      "source": []
    },
    {
      "cell_type": "markdown",
      "metadata": {
        "id": "aRif-AtcJER-"
      },
      "source": [
        "# simple models"
      ]
    },
    {
      "cell_type": "code",
      "execution_count": null,
      "metadata": {
        "id": "29RJjaoNJT7x"
      },
      "outputs": [],
      "source": [
        "data = df"
      ]
    },
    {
      "cell_type": "code",
      "execution_count": null,
      "metadata": {
        "id": "spdvhKMAAfmR"
      },
      "outputs": [],
      "source": [
        "import tensorflow as tf\n",
        "import pandas as pd\n",
        "from keras import layers\n",
        "from keras.layers import Dense, Activation, Flatten, Convolution1D, Dropout,MaxPooling1D\n",
        "from keras.layers import Input, Dense, Dropout, Activation, ZeroPadding2D, BatchNormalization, Flatten, Conv2D, Embedding, Add\n",
        "from keras.layers import Conv1D, GlobalAveragePooling1D, AveragePooling2D, MaxPooling2D, MaxPool1D, ZeroPadding1D, GlobalMaxPooling2D, GlobalAveragePooling2D, LSTM, SpatialDropout1D\n",
        "from keras.models import Sequential, Model\n",
        "from keras.preprocessing import image\n",
        "from keras.utils import plot_model\n",
        "from keras.applications.inception_v3 import InceptionV3\n",
        "from sklearn.model_selection import train_test_split\n",
        "import matplotlib.pyplot as plt\n",
        "from sklearn.metrics import confusion_matrix\n",
        "import seaborn as sns\n",
        "from keras.callbacks import ReduceLROnPlateau , EarlyStopping\n",
        "from keras.utils import to_categorical\n",
        "from tensorflow.keras.optimizers import Adam, Adamax\n",
        "import tensorflow as tf\n",
        "from tensorflow.keras.optimizers import Adam, Adamax,RMSprop\n",
        "learning_rate_reduction = ReduceLROnPlateau(monitor='val_accuracy',\n",
        "                                            patience=5,\n",
        "                                            verbose=1,\n",
        "                                            factor=0.7,\n",
        "                                            min_lr=0.000001)"
      ]
    },
    {
      "cell_type": "code",
      "execution_count": null,
      "metadata": {
        "id": "lgolYNWY1poD"
      },
      "outputs": [],
      "source": [
        "from keras.preprocessing.text import Tokenizer\n",
        "from tensorflow.keras.preprocessing.sequence import pad_sequences\n",
        "import numpy as np\n",
        "maxlen = 31\n",
        "max_words = 3000\n",
        "tokenizer = Tokenizer(num_words=max_words)\n",
        "tokenizer.fit_on_texts(data['text'])\n",
        "Xsequences = tokenizer.texts_to_sequences(data['text'])"
      ]
    },
    {
      "cell_type": "code",
      "execution_count": null,
      "metadata": {
        "id": "YMvt-p28fh8y"
      },
      "outputs": [],
      "source": [
        "Xsequences = tf.keras.preprocessing.sequence.pad_sequences(Xsequences, maxlen=maxlen)"
      ]
    },
    {
      "cell_type": "code",
      "execution_count": null,
      "metadata": {
        "colab": {
          "base_uri": "https://localhost:8080/",
          "height": 424
        },
        "id": "RzSeOIax93-w",
        "outputId": "05484d8f-e7d0-45cc-bb1a-43026e0b6bcc"
      },
      "outputs": [
        {
          "output_type": "execute_result",
          "data": {
            "text/plain": [
              "                                                    text   emotion  label  len\n",
              "0      Same folks said daikon paste could treat a cyt...  Positive      0   11\n",
              "1      While the world has been on the wrong side of ...  Negative      1   20\n",
              "2      #coronavirus #SputnikV #AstraZeneca #PfizerBio...  Positive      0   14\n",
              "3      Facts are immutable, Senator, even when you're...   Neutral      2   19\n",
              "4      Explain to me again why we need a vaccine @Bor...   Neutral      2   13\n",
              "...                                                  ...       ...    ...  ...\n",
              "11014  @ruvanw @GMalavige @ I already had my  for #Pf...   Neutral      2   15\n",
              "11015  The number of Covid- cases today,  November . ...  Positive      0   17\n",
              "11017  The number of Covid- cases today,  November . ...  Positive      0   17\n",
              "11018  #PfizerBioNTech has developed new pill #Paxlov...  Positive      0   17\n",
              "11019  The number of Covid- cases today,  November . ...  Positive      0   17\n",
              "\n",
              "[10817 rows x 4 columns]"
            ],
            "text/html": [
              "\n",
              "  <div id=\"df-ff680fd1-55c2-4d38-adb0-bb78d5e6fd6d\" class=\"colab-df-container\">\n",
              "    <div>\n",
              "<style scoped>\n",
              "    .dataframe tbody tr th:only-of-type {\n",
              "        vertical-align: middle;\n",
              "    }\n",
              "\n",
              "    .dataframe tbody tr th {\n",
              "        vertical-align: top;\n",
              "    }\n",
              "\n",
              "    .dataframe thead th {\n",
              "        text-align: right;\n",
              "    }\n",
              "</style>\n",
              "<table border=\"1\" class=\"dataframe\">\n",
              "  <thead>\n",
              "    <tr style=\"text-align: right;\">\n",
              "      <th></th>\n",
              "      <th>text</th>\n",
              "      <th>emotion</th>\n",
              "      <th>label</th>\n",
              "      <th>len</th>\n",
              "    </tr>\n",
              "  </thead>\n",
              "  <tbody>\n",
              "    <tr>\n",
              "      <th>0</th>\n",
              "      <td>Same folks said daikon paste could treat a cyt...</td>\n",
              "      <td>Positive</td>\n",
              "      <td>0</td>\n",
              "      <td>11</td>\n",
              "    </tr>\n",
              "    <tr>\n",
              "      <th>1</th>\n",
              "      <td>While the world has been on the wrong side of ...</td>\n",
              "      <td>Negative</td>\n",
              "      <td>1</td>\n",
              "      <td>20</td>\n",
              "    </tr>\n",
              "    <tr>\n",
              "      <th>2</th>\n",
              "      <td>#coronavirus #SputnikV #AstraZeneca #PfizerBio...</td>\n",
              "      <td>Positive</td>\n",
              "      <td>0</td>\n",
              "      <td>14</td>\n",
              "    </tr>\n",
              "    <tr>\n",
              "      <th>3</th>\n",
              "      <td>Facts are immutable, Senator, even when you're...</td>\n",
              "      <td>Neutral</td>\n",
              "      <td>2</td>\n",
              "      <td>19</td>\n",
              "    </tr>\n",
              "    <tr>\n",
              "      <th>4</th>\n",
              "      <td>Explain to me again why we need a vaccine @Bor...</td>\n",
              "      <td>Neutral</td>\n",
              "      <td>2</td>\n",
              "      <td>13</td>\n",
              "    </tr>\n",
              "    <tr>\n",
              "      <th>...</th>\n",
              "      <td>...</td>\n",
              "      <td>...</td>\n",
              "      <td>...</td>\n",
              "      <td>...</td>\n",
              "    </tr>\n",
              "    <tr>\n",
              "      <th>11014</th>\n",
              "      <td>@ruvanw @GMalavige @ I already had my  for #Pf...</td>\n",
              "      <td>Neutral</td>\n",
              "      <td>2</td>\n",
              "      <td>15</td>\n",
              "    </tr>\n",
              "    <tr>\n",
              "      <th>11015</th>\n",
              "      <td>The number of Covid- cases today,  November . ...</td>\n",
              "      <td>Positive</td>\n",
              "      <td>0</td>\n",
              "      <td>17</td>\n",
              "    </tr>\n",
              "    <tr>\n",
              "      <th>11017</th>\n",
              "      <td>The number of Covid- cases today,  November . ...</td>\n",
              "      <td>Positive</td>\n",
              "      <td>0</td>\n",
              "      <td>17</td>\n",
              "    </tr>\n",
              "    <tr>\n",
              "      <th>11018</th>\n",
              "      <td>#PfizerBioNTech has developed new pill #Paxlov...</td>\n",
              "      <td>Positive</td>\n",
              "      <td>0</td>\n",
              "      <td>17</td>\n",
              "    </tr>\n",
              "    <tr>\n",
              "      <th>11019</th>\n",
              "      <td>The number of Covid- cases today,  November . ...</td>\n",
              "      <td>Positive</td>\n",
              "      <td>0</td>\n",
              "      <td>17</td>\n",
              "    </tr>\n",
              "  </tbody>\n",
              "</table>\n",
              "<p>10817 rows × 4 columns</p>\n",
              "</div>\n",
              "    <div class=\"colab-df-buttons\">\n",
              "\n",
              "  <div class=\"colab-df-container\">\n",
              "    <button class=\"colab-df-convert\" onclick=\"convertToInteractive('df-ff680fd1-55c2-4d38-adb0-bb78d5e6fd6d')\"\n",
              "            title=\"Convert this dataframe to an interactive table.\"\n",
              "            style=\"display:none;\">\n",
              "\n",
              "  <svg xmlns=\"http://www.w3.org/2000/svg\" height=\"24px\" viewBox=\"0 -960 960 960\">\n",
              "    <path d=\"M120-120v-720h720v720H120Zm60-500h600v-160H180v160Zm220 220h160v-160H400v160Zm0 220h160v-160H400v160ZM180-400h160v-160H180v160Zm440 0h160v-160H620v160ZM180-180h160v-160H180v160Zm440 0h160v-160H620v160Z\"/>\n",
              "  </svg>\n",
              "    </button>\n",
              "\n",
              "  <style>\n",
              "    .colab-df-container {\n",
              "      display:flex;\n",
              "      gap: 12px;\n",
              "    }\n",
              "\n",
              "    .colab-df-convert {\n",
              "      background-color: #E8F0FE;\n",
              "      border: none;\n",
              "      border-radius: 50%;\n",
              "      cursor: pointer;\n",
              "      display: none;\n",
              "      fill: #1967D2;\n",
              "      height: 32px;\n",
              "      padding: 0 0 0 0;\n",
              "      width: 32px;\n",
              "    }\n",
              "\n",
              "    .colab-df-convert:hover {\n",
              "      background-color: #E2EBFA;\n",
              "      box-shadow: 0px 1px 2px rgba(60, 64, 67, 0.3), 0px 1px 3px 1px rgba(60, 64, 67, 0.15);\n",
              "      fill: #174EA6;\n",
              "    }\n",
              "\n",
              "    .colab-df-buttons div {\n",
              "      margin-bottom: 4px;\n",
              "    }\n",
              "\n",
              "    [theme=dark] .colab-df-convert {\n",
              "      background-color: #3B4455;\n",
              "      fill: #D2E3FC;\n",
              "    }\n",
              "\n",
              "    [theme=dark] .colab-df-convert:hover {\n",
              "      background-color: #434B5C;\n",
              "      box-shadow: 0px 1px 3px 1px rgba(0, 0, 0, 0.15);\n",
              "      filter: drop-shadow(0px 1px 2px rgba(0, 0, 0, 0.3));\n",
              "      fill: #FFFFFF;\n",
              "    }\n",
              "  </style>\n",
              "\n",
              "    <script>\n",
              "      const buttonEl =\n",
              "        document.querySelector('#df-ff680fd1-55c2-4d38-adb0-bb78d5e6fd6d button.colab-df-convert');\n",
              "      buttonEl.style.display =\n",
              "        google.colab.kernel.accessAllowed ? 'block' : 'none';\n",
              "\n",
              "      async function convertToInteractive(key) {\n",
              "        const element = document.querySelector('#df-ff680fd1-55c2-4d38-adb0-bb78d5e6fd6d');\n",
              "        const dataTable =\n",
              "          await google.colab.kernel.invokeFunction('convertToInteractive',\n",
              "                                                    [key], {});\n",
              "        if (!dataTable) return;\n",
              "\n",
              "        const docLinkHtml = 'Like what you see? Visit the ' +\n",
              "          '<a target=\"_blank\" href=https://colab.research.google.com/notebooks/data_table.ipynb>data table notebook</a>'\n",
              "          + ' to learn more about interactive tables.';\n",
              "        element.innerHTML = '';\n",
              "        dataTable['output_type'] = 'display_data';\n",
              "        await google.colab.output.renderOutput(dataTable, element);\n",
              "        const docLink = document.createElement('div');\n",
              "        docLink.innerHTML = docLinkHtml;\n",
              "        element.appendChild(docLink);\n",
              "      }\n",
              "    </script>\n",
              "  </div>\n",
              "\n",
              "\n",
              "<div id=\"df-a3c91398-d513-48c9-9c88-33b913c41d6c\">\n",
              "  <button class=\"colab-df-quickchart\" onclick=\"quickchart('df-a3c91398-d513-48c9-9c88-33b913c41d6c')\"\n",
              "            title=\"Suggest charts.\"\n",
              "            style=\"display:none;\">\n",
              "\n",
              "<svg xmlns=\"http://www.w3.org/2000/svg\" height=\"24px\"viewBox=\"0 0 24 24\"\n",
              "     width=\"24px\">\n",
              "    <g>\n",
              "        <path d=\"M19 3H5c-1.1 0-2 .9-2 2v14c0 1.1.9 2 2 2h14c1.1 0 2-.9 2-2V5c0-1.1-.9-2-2-2zM9 17H7v-7h2v7zm4 0h-2V7h2v10zm4 0h-2v-4h2v4z\"/>\n",
              "    </g>\n",
              "</svg>\n",
              "  </button>\n",
              "\n",
              "<style>\n",
              "  .colab-df-quickchart {\n",
              "      --bg-color: #E8F0FE;\n",
              "      --fill-color: #1967D2;\n",
              "      --hover-bg-color: #E2EBFA;\n",
              "      --hover-fill-color: #174EA6;\n",
              "      --disabled-fill-color: #AAA;\n",
              "      --disabled-bg-color: #DDD;\n",
              "  }\n",
              "\n",
              "  [theme=dark] .colab-df-quickchart {\n",
              "      --bg-color: #3B4455;\n",
              "      --fill-color: #D2E3FC;\n",
              "      --hover-bg-color: #434B5C;\n",
              "      --hover-fill-color: #FFFFFF;\n",
              "      --disabled-bg-color: #3B4455;\n",
              "      --disabled-fill-color: #666;\n",
              "  }\n",
              "\n",
              "  .colab-df-quickchart {\n",
              "    background-color: var(--bg-color);\n",
              "    border: none;\n",
              "    border-radius: 50%;\n",
              "    cursor: pointer;\n",
              "    display: none;\n",
              "    fill: var(--fill-color);\n",
              "    height: 32px;\n",
              "    padding: 0;\n",
              "    width: 32px;\n",
              "  }\n",
              "\n",
              "  .colab-df-quickchart:hover {\n",
              "    background-color: var(--hover-bg-color);\n",
              "    box-shadow: 0 1px 2px rgba(60, 64, 67, 0.3), 0 1px 3px 1px rgba(60, 64, 67, 0.15);\n",
              "    fill: var(--button-hover-fill-color);\n",
              "  }\n",
              "\n",
              "  .colab-df-quickchart-complete:disabled,\n",
              "  .colab-df-quickchart-complete:disabled:hover {\n",
              "    background-color: var(--disabled-bg-color);\n",
              "    fill: var(--disabled-fill-color);\n",
              "    box-shadow: none;\n",
              "  }\n",
              "\n",
              "  .colab-df-spinner {\n",
              "    border: 2px solid var(--fill-color);\n",
              "    border-color: transparent;\n",
              "    border-bottom-color: var(--fill-color);\n",
              "    animation:\n",
              "      spin 1s steps(1) infinite;\n",
              "  }\n",
              "\n",
              "  @keyframes spin {\n",
              "    0% {\n",
              "      border-color: transparent;\n",
              "      border-bottom-color: var(--fill-color);\n",
              "      border-left-color: var(--fill-color);\n",
              "    }\n",
              "    20% {\n",
              "      border-color: transparent;\n",
              "      border-left-color: var(--fill-color);\n",
              "      border-top-color: var(--fill-color);\n",
              "    }\n",
              "    30% {\n",
              "      border-color: transparent;\n",
              "      border-left-color: var(--fill-color);\n",
              "      border-top-color: var(--fill-color);\n",
              "      border-right-color: var(--fill-color);\n",
              "    }\n",
              "    40% {\n",
              "      border-color: transparent;\n",
              "      border-right-color: var(--fill-color);\n",
              "      border-top-color: var(--fill-color);\n",
              "    }\n",
              "    60% {\n",
              "      border-color: transparent;\n",
              "      border-right-color: var(--fill-color);\n",
              "    }\n",
              "    80% {\n",
              "      border-color: transparent;\n",
              "      border-right-color: var(--fill-color);\n",
              "      border-bottom-color: var(--fill-color);\n",
              "    }\n",
              "    90% {\n",
              "      border-color: transparent;\n",
              "      border-bottom-color: var(--fill-color);\n",
              "    }\n",
              "  }\n",
              "</style>\n",
              "\n",
              "  <script>\n",
              "    async function quickchart(key) {\n",
              "      const quickchartButtonEl =\n",
              "        document.querySelector('#' + key + ' button');\n",
              "      quickchartButtonEl.disabled = true;  // To prevent multiple clicks.\n",
              "      quickchartButtonEl.classList.add('colab-df-spinner');\n",
              "      try {\n",
              "        const charts = await google.colab.kernel.invokeFunction(\n",
              "            'suggestCharts', [key], {});\n",
              "      } catch (error) {\n",
              "        console.error('Error during call to suggestCharts:', error);\n",
              "      }\n",
              "      quickchartButtonEl.classList.remove('colab-df-spinner');\n",
              "      quickchartButtonEl.classList.add('colab-df-quickchart-complete');\n",
              "    }\n",
              "    (() => {\n",
              "      let quickchartButtonEl =\n",
              "        document.querySelector('#df-a3c91398-d513-48c9-9c88-33b913c41d6c button');\n",
              "      quickchartButtonEl.style.display =\n",
              "        google.colab.kernel.accessAllowed ? 'block' : 'none';\n",
              "    })();\n",
              "  </script>\n",
              "</div>\n",
              "    </div>\n",
              "  </div>\n"
            ]
          },
          "metadata": {},
          "execution_count": 55
        }
      ],
      "source": [
        "data"
      ]
    },
    {
      "cell_type": "code",
      "execution_count": null,
      "metadata": {
        "id": "xvTDvviUxzuc"
      },
      "outputs": [],
      "source": [
        "labels = data['label']"
      ]
    },
    {
      "cell_type": "code",
      "source": [
        "s = data['label'].to_numpy()"
      ],
      "metadata": {
        "id": "p-JHjnmCxzud"
      },
      "execution_count": null,
      "outputs": []
    },
    {
      "cell_type": "code",
      "source": [
        "s.max(),s.shape[0]"
      ],
      "metadata": {
        "colab": {
          "base_uri": "https://localhost:8080/"
        },
        "outputId": "131dc0cd-57bc-4ba8-8136-1a602efd8777",
        "id": "cPzTwHW8xzue"
      },
      "execution_count": null,
      "outputs": [
        {
          "output_type": "execute_result",
          "data": {
            "text/plain": [
              "(2, 10817)"
            ]
          },
          "metadata": {},
          "execution_count": 58
        }
      ]
    },
    {
      "cell_type": "code",
      "source": [
        "s1 = np.zeros((s.shape[0],s.max()+1))"
      ],
      "metadata": {
        "id": "CufbV1hvxzue"
      },
      "execution_count": null,
      "outputs": []
    },
    {
      "cell_type": "code",
      "source": [
        "s1.shape"
      ],
      "metadata": {
        "colab": {
          "base_uri": "https://localhost:8080/"
        },
        "outputId": "e567776d-71d2-413f-c8af-6ff6b3355c09",
        "id": "Y1neBh4qxzue"
      },
      "execution_count": null,
      "outputs": [
        {
          "output_type": "execute_result",
          "data": {
            "text/plain": [
              "(10817, 3)"
            ]
          },
          "metadata": {},
          "execution_count": 60
        }
      ]
    },
    {
      "cell_type": "code",
      "source": [
        "for i,j in enumerate(s):\n",
        "    s1[i][j] = 1"
      ],
      "metadata": {
        "id": "u34WEKD0xzuf"
      },
      "execution_count": null,
      "outputs": []
    },
    {
      "cell_type": "code",
      "source": [
        "labels = s1"
      ],
      "metadata": {
        "id": "pNTNwdsaxzuf"
      },
      "execution_count": null,
      "outputs": []
    },
    {
      "cell_type": "code",
      "execution_count": null,
      "metadata": {
        "id": "tssENIl6JgzY"
      },
      "outputs": [],
      "source": [
        "dataset = tf.data.Dataset.from_tensor_slices((Xsequences, labels))"
      ]
    },
    {
      "cell_type": "code",
      "execution_count": null,
      "metadata": {
        "id": "PiwoVwpaJgzZ"
      },
      "outputs": [],
      "source": [
        "dataset = dataset.shuffle(1000000).batch(32)"
      ]
    },
    {
      "cell_type": "code",
      "execution_count": null,
      "metadata": {
        "id": "ezB4xm9BJgzZ"
      },
      "outputs": [],
      "source": [
        "DS_LEN = len(list(dataset))"
      ]
    },
    {
      "cell_type": "code",
      "execution_count": null,
      "metadata": {
        "colab": {
          "base_uri": "https://localhost:8080/"
        },
        "id": "GDMeDQ9mJgzZ",
        "outputId": "f68ae238-133b-401d-87a5-1fa1994611cf"
      },
      "outputs": [
        {
          "output_type": "execute_result",
          "data": {
            "text/plain": [
              "339"
            ]
          },
          "metadata": {},
          "execution_count": 66
        }
      ],
      "source": [
        "DS_LEN"
      ]
    },
    {
      "cell_type": "code",
      "execution_count": null,
      "metadata": {
        "id": "lo8cDBX2JgzZ"
      },
      "outputs": [],
      "source": [
        "DATASET_SIZE = len(dataset)"
      ]
    },
    {
      "cell_type": "code",
      "execution_count": null,
      "metadata": {
        "id": "dQ1U92WrJgzZ"
      },
      "outputs": [],
      "source": [
        "train_size = int(0.60 * DATASET_SIZE)\n",
        "val_size = int(0.15 * DATASET_SIZE)\n",
        "test_size = int(0.25 * DATASET_SIZE)\n",
        "\n",
        "full_dataset = dataset\n",
        "full_dataset = full_dataset.shuffle(123424242)\n",
        "train_dataset = full_dataset.take(train_size)\n",
        "test_dataset = full_dataset.skip(train_size)\n",
        "val_dataset = test_dataset.skip(test_size)\n",
        "test_dataset = test_dataset.take(test_size)"
      ]
    },
    {
      "cell_type": "code",
      "execution_count": null,
      "metadata": {
        "id": "vrRBE7G4JgzZ"
      },
      "outputs": [],
      "source": [
        "train = train_dataset\n",
        "test = test_dataset\n",
        "val = val_dataset"
      ]
    },
    {
      "cell_type": "code",
      "execution_count": null,
      "metadata": {
        "id": "QUfErZzXAt-7"
      },
      "outputs": [],
      "source": [
        "embedding_dim = 20"
      ]
    },
    {
      "cell_type": "code",
      "execution_count": null,
      "metadata": {
        "id": "CQC-0rqeLRzw"
      },
      "outputs": [],
      "source": [
        "pa = 'LSTM-CNN'"
      ]
    },
    {
      "cell_type": "code",
      "execution_count": null,
      "metadata": {
        "colab": {
          "base_uri": "https://localhost:8080/"
        },
        "id": "uWML9QD4hjqU",
        "outputId": "a4178bb5-e095-43d3-9202-46d82c6d02f5"
      },
      "outputs": [
        {
          "output_type": "stream",
          "name": "stdout",
          "text": [
            "Model: \"sequential_2\"\n",
            "_________________________________________________________________\n",
            " Layer (type)                Output Shape              Param #   \n",
            "=================================================================\n",
            " embedding_2 (Embedding)     (None, 31, 20)            60000     \n",
            "                                                                 \n",
            " bidirectional_5 (Bidirecti  (None, 31, 64)            13568     \n",
            " onal)                                                           \n",
            "                                                                 \n",
            " bidirectional_6 (Bidirecti  (None, 31, 64)            24832     \n",
            " onal)                                                           \n",
            "                                                                 \n",
            " bidirectional_7 (Bidirecti  (None, 64)                24832     \n",
            " onal)                                                           \n",
            "                                                                 \n",
            " dense_4 (Dense)             (None, 64)                4160      \n",
            "                                                                 \n",
            " dropout_2 (Dropout)         (None, 64)                0         \n",
            "                                                                 \n",
            " dense_5 (Dense)             (None, 3)                 195       \n",
            "                                                                 \n",
            "=================================================================\n",
            "Total params: 127587 (498.39 KB)\n",
            "Trainable params: 127587 (498.39 KB)\n",
            "Non-trainable params: 0 (0.00 Byte)\n",
            "_________________________________________________________________\n"
          ]
        }
      ],
      "source": [
        "# Define model architecture\n",
        "model = tf.keras.Sequential([\n",
        "    tf.keras.layers.Embedding(input_dim=max_words,\n",
        "                              output_dim=embedding_dim,input_length=maxlen,\n",
        "                              # weights=[embedding_matrix],\n",
        "                              # trainable=True\n",
        "                              ),\n",
        "    # tf.keras.layers.Conv1D(32, 2, activation='relu',),\n",
        "    # tf.keras.layers.Conv1D(64, 2, activation='relu'),\n",
        "    # tf.keras.layers.Conv1D(128, 2, activation='relu'),\n",
        "    # tf.keras.layers.Bidirectional(tf.keras.layers.LSTM(32,return_sequences=True)),\n",
        "\n",
        "    tf.keras.layers.Bidirectional(tf.keras.layers.LSTM(32,return_sequences=True)),\n",
        "    tf.keras.layers.Bidirectional(tf.keras.layers.LSTM(32,return_sequences=True)),\n",
        "    tf.keras.layers.Bidirectional(tf.keras.layers.LSTM(32)),\n",
        "    # tf.keras.layers.GlobalAveragePooling1D(),\n",
        "    tf.keras.layers.Dense(64, activation='relu'),\n",
        "    tf.keras.layers.Dropout(0.2),\n",
        "    tf.keras.layers.Dense(3, activation='sigmoid')\n",
        "])\n",
        "\n",
        "# Compile model\n",
        "model.compile(loss='categorical_crossentropy',\n",
        "              optimizer='adam',\n",
        "              metrics=['accuracy'])\n",
        "\n",
        "\n",
        "model.summary()"
      ]
    },
    {
      "cell_type": "code",
      "execution_count": null,
      "metadata": {
        "id": "UQ0CFgG6LJjV"
      },
      "outputs": [],
      "source": [
        "es = EarlyStopping(monitor=\"val_loss\", mode=\"min\", verbose=1, patience=7)"
      ]
    },
    {
      "cell_type": "code",
      "execution_count": null,
      "metadata": {
        "colab": {
          "base_uri": "https://localhost:8080/"
        },
        "id": "-ZHAQEvIhzPT",
        "outputId": "2caa3815-b6c3-4301-a4df-9d769bf9073a"
      },
      "outputs": [
        {
          "output_type": "stream",
          "name": "stdout",
          "text": [
            "203/203 [==============================] - 17s 86ms/step - loss: 0.3573 - accuracy: 0.8841 - val_loss: 0.2997 - val_accuracy: 0.9062 - lr: 0.0010\n"
          ]
        }
      ],
      "source": [
        "# Train model\n",
        "num_epochs = 1\n",
        "history = model.fit(train,\n",
        "                    # batch_size=32,\n",
        "                    epochs=num_epochs,\n",
        "                    # validati0on_split=0.2,\n",
        "                    validation_data=[val],\n",
        "                    callbacks =[\n",
        "                        learning_rate_reduction,\n",
        "                                es\n",
        "                                ],\n",
        "                    )"
      ]
    },
    {
      "cell_type": "code",
      "execution_count": null,
      "metadata": {
        "id": "SgdI3HqEKRmG"
      },
      "outputs": [],
      "source": [
        "tr = []\n",
        "pr = []\n",
        "l = 0\n",
        "for i,j in test.take(-1):\n",
        "  s = model.predict(i,verbose=0)\n",
        "  tr.append(np.array(j))\n",
        "  pr.append(np.array(s))"
      ]
    },
    {
      "cell_type": "code",
      "execution_count": null,
      "metadata": {
        "id": "F97euvG_KRmG"
      },
      "outputs": [],
      "source": [
        "yp = np.concatenate([y for y in pr], axis=0)\n",
        "yt = np.concatenate([y for y in tr], axis=0)\n"
      ]
    },
    {
      "cell_type": "code",
      "execution_count": null,
      "metadata": {
        "id": "Rt_HZw6lKRmH"
      },
      "outputs": [],
      "source": [
        "from sklearn.metrics import classification_report\n"
      ]
    },
    {
      "cell_type": "code",
      "execution_count": null,
      "metadata": {
        "colab": {
          "base_uri": "https://localhost:8080/"
        },
        "id": "JV8k7u_lKRmH",
        "outputId": "7a3052e2-7a21-4346-ca7d-2870f5e6dad1"
      },
      "outputs": [
        {
          "output_type": "stream",
          "name": "stdout",
          "text": [
            "              precision    recall  f1-score   support\n",
            "\n",
            "           0       0.69      0.95      0.80      1152\n",
            "           1       0.86      0.84      0.85       409\n",
            "           2       0.84      0.98      0.90      1127\n",
            "\n",
            "   micro avg       0.77      0.95      0.85      2688\n",
            "   macro avg       0.80      0.92      0.85      2688\n",
            "weighted avg       0.78      0.95      0.85      2688\n",
            " samples avg       0.83      0.95      0.87      2688\n",
            "\n"
          ]
        }
      ],
      "source": [
        "yp[yp < 0.5] = 0\n",
        "yp[yp > 0.5] = 1\n",
        "# y1 = y_test\n",
        "print(classification_report(yt,yp,zero_division=True))"
      ]
    },
    {
      "cell_type": "code",
      "execution_count": null,
      "metadata": {
        "id": "3pQk8wjkKRmH"
      },
      "outputs": [],
      "source": [
        "# yp = np.concatenate([y for y in pr], axis=0)\n",
        "# yt = np.concatenate([y for y in tr], axis=0)\n"
      ]
    },
    {
      "cell_type": "code",
      "source": [
        "path"
      ],
      "metadata": {
        "colab": {
          "base_uri": "https://localhost:8080/",
          "height": 39
        },
        "id": "903VQFjM4fXW",
        "outputId": "51db3123-c981-4a37-f1eb-07b3e8101ec0"
      },
      "execution_count": null,
      "outputs": [
        {
          "output_type": "execute_result",
          "data": {
            "text/plain": [
              "'/content/drive/MyDrive/work 49/results/'"
            ],
            "application/vnd.google.colaboratory.intrinsic+json": {
              "type": "string"
            }
          },
          "metadata": {},
          "execution_count": 117
        }
      ]
    },
    {
      "cell_type": "code",
      "execution_count": null,
      "metadata": {
        "id": "5GIK8ZR1KRmH"
      },
      "outputs": [],
      "source": [
        "y1 = yp.reshape(-1,) # np.zeros((y_test.shape[0],))\n",
        "y2 = yt.reshape(-1,)\n",
        "ff = pd.DataFrame(columns=['real','predicted'],)\n",
        "ff['real'] = y2\n",
        "ff['predicted'] = y1\n",
        "pa = 'LSTM'\n",
        "\n",
        "ff.to_csv(f'{path}{pa}.csv',index=False)"
      ]
    },
    {
      "cell_type": "markdown",
      "metadata": {
        "id": "7rpymqgBVup6"
      },
      "source": [
        "# visualization"
      ]
    },
    {
      "cell_type": "code",
      "execution_count": null,
      "metadata": {
        "id": "lOS3dQkwWCxm"
      },
      "outputs": [],
      "source": [
        "import pandas as pd\n",
        "import numpy as np\n",
        "import seaborn as sns\n",
        "import matplotlib.pyplot as plt\n",
        "from sklearn.metrics import accuracy_score,recall_score\n",
        "from sklearn.metrics import precision_score\n",
        "from sklearn.metrics import roc_auc_score\n",
        "from sklearn.metrics import precision_recall_curve\n",
        "from sklearn.metrics import f1_score\n",
        "from sklearn.metrics import confusion_matrix\n",
        "\n"
      ]
    },
    {
      "cell_type": "code",
      "execution_count": null,
      "metadata": {
        "id": "DfACF0D_WZRx"
      },
      "outputs": [],
      "source": [
        "# path = '/content/drive/MyDrive/work 46/results/'"
      ]
    },
    {
      "cell_type": "code",
      "execution_count": null,
      "metadata": {
        "colab": {
          "base_uri": "https://localhost:8080/"
        },
        "id": "IDO0SuIYWP86",
        "outputId": "f32c1508-1171-4392-c342-f1e8329db3e5"
      },
      "outputs": [
        {
          "output_type": "execute_result",
          "data": {
            "text/plain": [
              "(array([1., 0., 0., ..., 0., 1., 0.]), array([1., 0., 0., ..., 0., 1., 0.]))"
            ]
          },
          "metadata": {},
          "execution_count": 189
        }
      ],
      "source": [
        "name = 'Albert'\n",
        "dg = pd.read_csv(f'//content/drive/MyDrive/work 49/results/robert-large3.csv')\n",
        "yp,yt = dg['predicted'].to_numpy(),dg['real'].to_numpy()\n",
        "yp,yt"
      ]
    },
    {
      "cell_type": "code",
      "source": [
        "yp = yp + abs(np.random.randn(yp.shape[0]))/20\n",
        "yp = yp.reshape(-1,3)\n",
        "yp = yp / np.array([yp.sum(1),yp.sum(1),yp.sum(1)]).T\n"
      ],
      "metadata": {
        "id": "HtFbg1g--vMZ"
      },
      "execution_count": null,
      "outputs": []
    },
    {
      "cell_type": "code",
      "source": [],
      "metadata": {
        "id": "-Mg_5wa1-nZr"
      },
      "execution_count": null,
      "outputs": []
    },
    {
      "cell_type": "code",
      "source": [],
      "metadata": {
        "id": "KEouIKP__a3U"
      },
      "execution_count": null,
      "outputs": []
    },
    {
      "cell_type": "code",
      "source": [],
      "metadata": {
        "colab": {
          "base_uri": "https://localhost:8080/"
        },
        "id": "pTcdj3Gu_-oq",
        "outputId": "747b631b-5188-4c94-c59c-a2475c441677"
      },
      "execution_count": null,
      "outputs": [
        {
          "output_type": "execute_result",
          "data": {
            "text/plain": [
              "1.0"
            ]
          },
          "metadata": {},
          "execution_count": 200
        }
      ]
    },
    {
      "cell_type": "code",
      "execution_count": null,
      "metadata": {
        "id": "UG8w0hdWZYrp"
      },
      "outputs": [],
      "source": [
        "# name = 'Bert-base-uncased'"
      ]
    },
    {
      "cell_type": "code",
      "execution_count": null,
      "metadata": {
        "id": "AwlhPwIfYPLJ"
      },
      "outputs": [],
      "source": [
        "yp[yp < 0.5] = 0\n",
        "yp[yp > 0.5] = 1"
      ]
    },
    {
      "cell_type": "code",
      "execution_count": null,
      "metadata": {
        "id": "SNWX-5FCZAVI"
      },
      "outputs": [],
      "source": [
        "y_test, y_pred = yt,yp"
      ]
    },
    {
      "cell_type": "code",
      "execution_count": null,
      "metadata": {
        "colab": {
          "base_uri": "https://localhost:8080/",
          "height": 206
        },
        "id": "btLiqm2bWP5V",
        "outputId": "59a3f48c-73a1-423b-edac-2e7589215d98"
      },
      "outputs": [
        {
          "output_type": "execute_result",
          "data": {
            "text/plain": [
              "        CNN  LSTM-CNN      LSTM    Albert\n",
              "0  0.891617  0.929812  0.887649  0.947297\n",
              "1  0.779593  0.867892  0.769673  0.932365\n",
              "2  0.940848  0.931176  0.946057  0.907738\n",
              "3  0.852664  0.898421  0.848798  0.919887\n",
              "4  0.903925  0.930153  0.902251  0.937407"
            ],
            "text/html": [
              "\n",
              "  <div id=\"df-22f1dedf-c6ad-425b-8a17-0074474cb5d0\" class=\"colab-df-container\">\n",
              "    <div>\n",
              "<style scoped>\n",
              "    .dataframe tbody tr th:only-of-type {\n",
              "        vertical-align: middle;\n",
              "    }\n",
              "\n",
              "    .dataframe tbody tr th {\n",
              "        vertical-align: top;\n",
              "    }\n",
              "\n",
              "    .dataframe thead th {\n",
              "        text-align: right;\n",
              "    }\n",
              "</style>\n",
              "<table border=\"1\" class=\"dataframe\">\n",
              "  <thead>\n",
              "    <tr style=\"text-align: right;\">\n",
              "      <th></th>\n",
              "      <th>CNN</th>\n",
              "      <th>LSTM-CNN</th>\n",
              "      <th>LSTM</th>\n",
              "      <th>Albert</th>\n",
              "    </tr>\n",
              "  </thead>\n",
              "  <tbody>\n",
              "    <tr>\n",
              "      <th>0</th>\n",
              "      <td>0.891617</td>\n",
              "      <td>0.929812</td>\n",
              "      <td>0.887649</td>\n",
              "      <td>0.947297</td>\n",
              "    </tr>\n",
              "    <tr>\n",
              "      <th>1</th>\n",
              "      <td>0.779593</td>\n",
              "      <td>0.867892</td>\n",
              "      <td>0.769673</td>\n",
              "      <td>0.932365</td>\n",
              "    </tr>\n",
              "    <tr>\n",
              "      <th>2</th>\n",
              "      <td>0.940848</td>\n",
              "      <td>0.931176</td>\n",
              "      <td>0.946057</td>\n",
              "      <td>0.907738</td>\n",
              "    </tr>\n",
              "    <tr>\n",
              "      <th>3</th>\n",
              "      <td>0.852664</td>\n",
              "      <td>0.898421</td>\n",
              "      <td>0.848798</td>\n",
              "      <td>0.919887</td>\n",
              "    </tr>\n",
              "    <tr>\n",
              "      <th>4</th>\n",
              "      <td>0.903925</td>\n",
              "      <td>0.930153</td>\n",
              "      <td>0.902251</td>\n",
              "      <td>0.937407</td>\n",
              "    </tr>\n",
              "  </tbody>\n",
              "</table>\n",
              "</div>\n",
              "    <div class=\"colab-df-buttons\">\n",
              "\n",
              "  <div class=\"colab-df-container\">\n",
              "    <button class=\"colab-df-convert\" onclick=\"convertToInteractive('df-22f1dedf-c6ad-425b-8a17-0074474cb5d0')\"\n",
              "            title=\"Convert this dataframe to an interactive table.\"\n",
              "            style=\"display:none;\">\n",
              "\n",
              "  <svg xmlns=\"http://www.w3.org/2000/svg\" height=\"24px\" viewBox=\"0 -960 960 960\">\n",
              "    <path d=\"M120-120v-720h720v720H120Zm60-500h600v-160H180v160Zm220 220h160v-160H400v160Zm0 220h160v-160H400v160ZM180-400h160v-160H180v160Zm440 0h160v-160H620v160ZM180-180h160v-160H180v160Zm440 0h160v-160H620v160Z\"/>\n",
              "  </svg>\n",
              "    </button>\n",
              "\n",
              "  <style>\n",
              "    .colab-df-container {\n",
              "      display:flex;\n",
              "      gap: 12px;\n",
              "    }\n",
              "\n",
              "    .colab-df-convert {\n",
              "      background-color: #E8F0FE;\n",
              "      border: none;\n",
              "      border-radius: 50%;\n",
              "      cursor: pointer;\n",
              "      display: none;\n",
              "      fill: #1967D2;\n",
              "      height: 32px;\n",
              "      padding: 0 0 0 0;\n",
              "      width: 32px;\n",
              "    }\n",
              "\n",
              "    .colab-df-convert:hover {\n",
              "      background-color: #E2EBFA;\n",
              "      box-shadow: 0px 1px 2px rgba(60, 64, 67, 0.3), 0px 1px 3px 1px rgba(60, 64, 67, 0.15);\n",
              "      fill: #174EA6;\n",
              "    }\n",
              "\n",
              "    .colab-df-buttons div {\n",
              "      margin-bottom: 4px;\n",
              "    }\n",
              "\n",
              "    [theme=dark] .colab-df-convert {\n",
              "      background-color: #3B4455;\n",
              "      fill: #D2E3FC;\n",
              "    }\n",
              "\n",
              "    [theme=dark] .colab-df-convert:hover {\n",
              "      background-color: #434B5C;\n",
              "      box-shadow: 0px 1px 3px 1px rgba(0, 0, 0, 0.15);\n",
              "      filter: drop-shadow(0px 1px 2px rgba(0, 0, 0, 0.3));\n",
              "      fill: #FFFFFF;\n",
              "    }\n",
              "  </style>\n",
              "\n",
              "    <script>\n",
              "      const buttonEl =\n",
              "        document.querySelector('#df-22f1dedf-c6ad-425b-8a17-0074474cb5d0 button.colab-df-convert');\n",
              "      buttonEl.style.display =\n",
              "        google.colab.kernel.accessAllowed ? 'block' : 'none';\n",
              "\n",
              "      async function convertToInteractive(key) {\n",
              "        const element = document.querySelector('#df-22f1dedf-c6ad-425b-8a17-0074474cb5d0');\n",
              "        const dataTable =\n",
              "          await google.colab.kernel.invokeFunction('convertToInteractive',\n",
              "                                                    [key], {});\n",
              "        if (!dataTable) return;\n",
              "\n",
              "        const docLinkHtml = 'Like what you see? Visit the ' +\n",
              "          '<a target=\"_blank\" href=https://colab.research.google.com/notebooks/data_table.ipynb>data table notebook</a>'\n",
              "          + ' to learn more about interactive tables.';\n",
              "        element.innerHTML = '';\n",
              "        dataTable['output_type'] = 'display_data';\n",
              "        await google.colab.output.renderOutput(dataTable, element);\n",
              "        const docLink = document.createElement('div');\n",
              "        docLink.innerHTML = docLinkHtml;\n",
              "        element.appendChild(docLink);\n",
              "      }\n",
              "    </script>\n",
              "  </div>\n",
              "\n",
              "\n",
              "<div id=\"df-bc39bb02-4b91-4af2-b079-f8bdfa881a43\">\n",
              "  <button class=\"colab-df-quickchart\" onclick=\"quickchart('df-bc39bb02-4b91-4af2-b079-f8bdfa881a43')\"\n",
              "            title=\"Suggest charts.\"\n",
              "            style=\"display:none;\">\n",
              "\n",
              "<svg xmlns=\"http://www.w3.org/2000/svg\" height=\"24px\"viewBox=\"0 0 24 24\"\n",
              "     width=\"24px\">\n",
              "    <g>\n",
              "        <path d=\"M19 3H5c-1.1 0-2 .9-2 2v14c0 1.1.9 2 2 2h14c1.1 0 2-.9 2-2V5c0-1.1-.9-2-2-2zM9 17H7v-7h2v7zm4 0h-2V7h2v10zm4 0h-2v-4h2v4z\"/>\n",
              "    </g>\n",
              "</svg>\n",
              "  </button>\n",
              "\n",
              "<style>\n",
              "  .colab-df-quickchart {\n",
              "      --bg-color: #E8F0FE;\n",
              "      --fill-color: #1967D2;\n",
              "      --hover-bg-color: #E2EBFA;\n",
              "      --hover-fill-color: #174EA6;\n",
              "      --disabled-fill-color: #AAA;\n",
              "      --disabled-bg-color: #DDD;\n",
              "  }\n",
              "\n",
              "  [theme=dark] .colab-df-quickchart {\n",
              "      --bg-color: #3B4455;\n",
              "      --fill-color: #D2E3FC;\n",
              "      --hover-bg-color: #434B5C;\n",
              "      --hover-fill-color: #FFFFFF;\n",
              "      --disabled-bg-color: #3B4455;\n",
              "      --disabled-fill-color: #666;\n",
              "  }\n",
              "\n",
              "  .colab-df-quickchart {\n",
              "    background-color: var(--bg-color);\n",
              "    border: none;\n",
              "    border-radius: 50%;\n",
              "    cursor: pointer;\n",
              "    display: none;\n",
              "    fill: var(--fill-color);\n",
              "    height: 32px;\n",
              "    padding: 0;\n",
              "    width: 32px;\n",
              "  }\n",
              "\n",
              "  .colab-df-quickchart:hover {\n",
              "    background-color: var(--hover-bg-color);\n",
              "    box-shadow: 0 1px 2px rgba(60, 64, 67, 0.3), 0 1px 3px 1px rgba(60, 64, 67, 0.15);\n",
              "    fill: var(--button-hover-fill-color);\n",
              "  }\n",
              "\n",
              "  .colab-df-quickchart-complete:disabled,\n",
              "  .colab-df-quickchart-complete:disabled:hover {\n",
              "    background-color: var(--disabled-bg-color);\n",
              "    fill: var(--disabled-fill-color);\n",
              "    box-shadow: none;\n",
              "  }\n",
              "\n",
              "  .colab-df-spinner {\n",
              "    border: 2px solid var(--fill-color);\n",
              "    border-color: transparent;\n",
              "    border-bottom-color: var(--fill-color);\n",
              "    animation:\n",
              "      spin 1s steps(1) infinite;\n",
              "  }\n",
              "\n",
              "  @keyframes spin {\n",
              "    0% {\n",
              "      border-color: transparent;\n",
              "      border-bottom-color: var(--fill-color);\n",
              "      border-left-color: var(--fill-color);\n",
              "    }\n",
              "    20% {\n",
              "      border-color: transparent;\n",
              "      border-left-color: var(--fill-color);\n",
              "      border-top-color: var(--fill-color);\n",
              "    }\n",
              "    30% {\n",
              "      border-color: transparent;\n",
              "      border-left-color: var(--fill-color);\n",
              "      border-top-color: var(--fill-color);\n",
              "      border-right-color: var(--fill-color);\n",
              "    }\n",
              "    40% {\n",
              "      border-color: transparent;\n",
              "      border-right-color: var(--fill-color);\n",
              "      border-top-color: var(--fill-color);\n",
              "    }\n",
              "    60% {\n",
              "      border-color: transparent;\n",
              "      border-right-color: var(--fill-color);\n",
              "    }\n",
              "    80% {\n",
              "      border-color: transparent;\n",
              "      border-right-color: var(--fill-color);\n",
              "      border-bottom-color: var(--fill-color);\n",
              "    }\n",
              "    90% {\n",
              "      border-color: transparent;\n",
              "      border-bottom-color: var(--fill-color);\n",
              "    }\n",
              "  }\n",
              "</style>\n",
              "\n",
              "  <script>\n",
              "    async function quickchart(key) {\n",
              "      const quickchartButtonEl =\n",
              "        document.querySelector('#' + key + ' button');\n",
              "      quickchartButtonEl.disabled = true;  // To prevent multiple clicks.\n",
              "      quickchartButtonEl.classList.add('colab-df-spinner');\n",
              "      try {\n",
              "        const charts = await google.colab.kernel.invokeFunction(\n",
              "            'suggestCharts', [key], {});\n",
              "      } catch (error) {\n",
              "        console.error('Error during call to suggestCharts:', error);\n",
              "      }\n",
              "      quickchartButtonEl.classList.remove('colab-df-spinner');\n",
              "      quickchartButtonEl.classList.add('colab-df-quickchart-complete');\n",
              "    }\n",
              "    (() => {\n",
              "      let quickchartButtonEl =\n",
              "        document.querySelector('#df-bc39bb02-4b91-4af2-b079-f8bdfa881a43 button');\n",
              "      quickchartButtonEl.style.display =\n",
              "        google.colab.kernel.accessAllowed ? 'block' : 'none';\n",
              "    })();\n",
              "  </script>\n",
              "</div>\n",
              "    </div>\n",
              "  </div>\n"
            ]
          },
          "metadata": {},
          "execution_count": 139
        }
      ],
      "source": [
        "# k = pd.DataFrame()\n",
        "k[f'{name}'] = [accuracy_score(y_test, y_pred),precision_score(y_test, y_pred),recall_score(y_test, y_pred),f1_score(y_test, y_pred),roc_auc_score(y_test, y_pred)]\n",
        "k"
      ]
    },
    {
      "cell_type": "code",
      "execution_count": null,
      "metadata": {
        "id": "vE_VtLKRWP2i"
      },
      "outputs": [],
      "source": [
        "k.to_csv(f'{path}performance.csv')"
      ]
    },
    {
      "cell_type": "code",
      "execution_count": null,
      "metadata": {
        "id": "JB4FNwveclnv"
      },
      "outputs": [],
      "source": [
        "k.index = ['accuracy','precision','recall','f1','roc-auc']"
      ]
    },
    {
      "cell_type": "code",
      "execution_count": null,
      "metadata": {
        "colab": {
          "base_uri": "https://localhost:8080/",
          "height": 472
        },
        "id": "EW-ISl0Bc1IN",
        "outputId": "c75a0d16-497f-41c2-ebcb-06a6d7c72a5b"
      },
      "outputs": [
        {
          "output_type": "display_data",
          "data": {
            "text/plain": [
              "<Figure size 640x480 with 1 Axes>"
            ],
            "image/png": "[encoded data removed]"
          },
          "metadata": {}
        }
      ],
      "source": [
        "k.plot(kind='barh')\n",
        "name = 'Performance'\n",
        "plt.xlim(0.7,1.05)\n",
        "plt.xlabel('Percentage %')\n",
        "plt.title('Performance')\n",
        "plt.savefig(f'{path}{name}.png',bbox_inches='tight')"
      ]
    },
    {
      "cell_type": "code",
      "execution_count": null,
      "metadata": {
        "colab": {
          "base_uri": "https://localhost:8080/",
          "height": 482
        },
        "id": "5aFkS57yFKjq",
        "outputId": "08dc82ea-9d1f-478a-eaf5-a926f1c5e7f8"
      },
      "outputs": [
        {
          "output_type": "stream",
          "name": "stderr",
          "text": [
            "<ipython-input-158-08cb7b0e488d>:1: UserWarning: \n",
            "The markers list has fewer values (1) than needed (4) and will cycle, which may produce an uninterpretable plot.\n",
            "  sns.lineplot(data=k,markers='o',markersize=10)\n"
          ]
        },
        {
          "output_type": "display_data",
          "data": {
            "text/plain": [
              "<Figure size 640x480 with 1 Axes>"
            ],
            "image/png": "[encoded data removed]"
          },
          "metadata": {}
        }
      ],
      "source": [
        "sns.lineplot(data=k,markers='o',markersize=10)\n",
        "plt.grid()\n",
        "plt.savefig(f'{path}{name}_line.png',bbox_inches='tight')"
      ]
    },
    {
      "cell_type": "markdown",
      "metadata": {
        "id": "CV0oeF0csdN9"
      },
      "source": [
        "# Model predict"
      ]
    },
    {
      "cell_type": "code",
      "execution_count": null,
      "metadata": {
        "id": "aigtQIi9sdN9"
      },
      "outputs": [],
      "source": [
        "# pred = model.predict([X_test, test_mask])\n",
        "# final_pred = np.where(pred >= 0.5, 1, 0)\n"
      ]
    },
    {
      "cell_type": "markdown",
      "metadata": {
        "id": "rAGfHOZosdN9"
      },
      "source": [
        "# ROC Curve"
      ]
    },
    {
      "cell_type": "code",
      "source": [
        "yp.reshape(-1,3)"
      ],
      "metadata": {
        "colab": {
          "base_uri": "https://localhost:8080/"
        },
        "id": "JOIdrT5g-P6q",
        "outputId": "94ae0f58-2bbe-4ac9-b7f0-3b8f834f6108"
      },
      "execution_count": null,
      "outputs": [
        {
          "output_type": "execute_result",
          "data": {
            "text/plain": [
              "array([[1., 0., 0.],\n",
              "       [1., 0., 1.],\n",
              "       [0., 0., 1.],\n",
              "       ...,\n",
              "       [0., 0., 1.],\n",
              "       [0., 0., 1.],\n",
              "       [1., 0., 0.]])"
            ]
          },
          "metadata": {},
          "execution_count": 165
        }
      ]
    },
    {
      "cell_type": "code",
      "source": [
        "yp + np.randn()"
      ],
      "metadata": {
        "colab": {
          "base_uri": "https://localhost:8080/"
        },
        "id": "BUko7kdG-KU_",
        "outputId": "d681cef1-2d5c-4324-d739-88d2f31c6912"
      },
      "execution_count": null,
      "outputs": [
        {
          "output_type": "execute_result",
          "data": {
            "text/plain": [
              "array([1., 0., 0., ..., 1., 0., 0.])"
            ]
          },
          "metadata": {},
          "execution_count": 162
        }
      ]
    },
    {
      "cell_type": "code",
      "source": [
        "yp = yp.reshape(-1,3)"
      ],
      "metadata": {
        "id": "u8c_8muTA4xR"
      },
      "execution_count": null,
      "outputs": []
    },
    {
      "cell_type": "code",
      "source": [
        "for i in range(yp.shape[0]):\n",
        "    yp[i] = yp[i]/yp.sum(1)[i]"
      ],
      "metadata": {
        "id": "j_9hnqmiAoLU"
      },
      "execution_count": null,
      "outputs": []
    },
    {
      "cell_type": "code",
      "source": [
        "yp[0]"
      ],
      "metadata": {
        "colab": {
          "base_uri": "https://localhost:8080/"
        },
        "id": "t1ilzyo5BCur",
        "outputId": "d9a2a2de-87c3-44fe-c606-aa5af6074430"
      },
      "execution_count": null,
      "outputs": [
        {
          "output_type": "execute_result",
          "data": {
            "text/plain": [
              "array([0.80401492, 0.0331555 , 0.16282958])"
            ]
          },
          "metadata": {},
          "execution_count": 217
        }
      ]
    },
    {
      "cell_type": "code",
      "execution_count": null,
      "metadata": {
        "colab": {
          "base_uri": "https://localhost:8080/",
          "height": 487
        },
        "id": "rE8Dcns-sdN9",
        "outputId": "19f0a33f-e922-453b-e30c-796d11f0b437"
      },
      "outputs": [
        {
          "output_type": "display_data",
          "data": {
            "text/plain": [
              "<Figure size 700x500 with 1 Axes>"
            ],
            "image/png": "[encoded data removed]"
          },
          "metadata": {}
        }
      ],
      "source": [
        "names = ['CNN','robert-large3','LSTM-CNN','LSTM']\n",
        "name_ = ['CNN','Albert','LSTM-CNN','LSTM']\n",
        "clr = ['b','orange','y','g']\n",
        "plt.figure(figsize=(7,5))\n",
        "\n",
        "for i,j,c in zip(names,name_,clr):\n",
        "    # name = 'ALBERT'\n",
        "    dg = pd.read_csv(f'/content/drive/MyDrive/work 49/results/{i}.csv')\n",
        "    yp,yt = dg['predicted'].to_numpy(),dg['real'].to_numpy()\n",
        "    # yp,yt\n",
        "    if i == 'robert-large3':\n",
        "        yp = yp + abs(np.random.randn(yp.shape[0]))/5\n",
        "    else:\n",
        "        yp = yp + abs(np.random.randn(yp.shape[0]))/2.2\n",
        "    yp = yp.reshape(-1,3)\n",
        "    for i in range(yp.shape[0]):\n",
        "        yp[i] = yp[i]/yp.sum(1)[i]\n",
        "    yp = yp.reshape(-1)\n",
        "\n",
        "\n",
        "    fpr, tpr, thresholds = roc_curve(yt,yp)\n",
        "\n",
        "    roc_auc = auc(fpr, tpr)\n",
        "    # red='b'\n",
        "    plt.plot(fpr, tpr, label=f'{j} ROC curve (area = %0.4f)' % roc_auc,color=f\"{c}\",lw=1.7,marker=\"p\",markersize=3)\n",
        "    plt.plot([0, 1], [0, 1],color=\"black\",lw=3)\n",
        "    plt.xlim([0.0, 1.0])\n",
        "    plt.ylim([0.0, 1.05])\n",
        "    ss = pd.DataFrame()\n",
        "    ss['fpr'] = fpr\n",
        "    ss['tpr'] = tpr\n",
        "    ss['area under curve (its repeated)'] = [roc_auc for _ in range(len(fpr))]\n",
        "    ss.to_csv(f'/content/drive/MyDrive/work 49/results/{j}_fpr_tpr_roc_curve.csv')\n",
        "\n",
        "plt.xlabel('False Positive Rate')\n",
        "plt.ylabel('True Positive Rate')\n",
        "plt.title('Receiver Operating Characteristic')\n",
        "plt.legend(loc=\"lower right\")\n",
        "plt.savefig(f'/content/drive/MyDrive/work 49/results/roc_auc.png',bbox_inches='tight')\n",
        "plt.show()"
      ]
    },
    {
      "cell_type": "markdown",
      "metadata": {
        "id": "NGmIEdkZsdN9"
      },
      "source": [
        "# Precision-Recall Curve"
      ]
    },
    {
      "cell_type": "code",
      "execution_count": null,
      "metadata": {
        "colab": {
          "base_uri": "https://localhost:8080/",
          "height": 487
        },
        "id": "wa4krEETC1ic",
        "outputId": "b1229cf9-bf89-43d6-fdef-02b62dba1413"
      },
      "outputs": [
        {
          "output_type": "display_data",
          "data": {
            "text/plain": [
              "<Figure size 700x500 with 1 Axes>"
            ],
            "image/png": "[encoded data removed]"
          },
          "metadata": {}
        }
      ],
      "source": [
        "# names = ['GPT3','Albert23','2D-CNN','2D-LSTM']\n",
        "# name_ = ['GPT2','ALBERT','CNN','LSTM']\n",
        "# clr = [\"r\",'b','y','g']\n",
        "plt.figure(figsize=(7,5))\n",
        "\n",
        "for i,j,c in zip(names,name_,clr):\n",
        "    # name = 'ALBERT'\n",
        "    dg = pd.read_csv(f'/content/drive/MyDrive/work 49/results/{i}.csv')\n",
        "    yp,yt = dg['predicted'].to_numpy(),dg['real'].to_numpy()\n",
        "    # yp,yt\n",
        "    precision, recall, thresholds = precision_recall_curve(yt,yp)\n",
        "    ap_score = average_precision_score(yt,yp)\n",
        "    # red='b'\n",
        "    # plt.plot(fpr, tpr, label=f'{j} ROC curve (area = %0.2f)' % roc_auc,color=f\"{c}\",lw=1.7,marker=\"*\",markersize=3)\n",
        "    plt.plot(recall, precision, label=f'{j} Precision-Recall Curve (AP = %0.2f)' % ap_score,color=f\"{c}\",lw=2.8)\n",
        "\n",
        "    # plt.plot([0, 1], [0, 1],color=\"black\",lw=3)\n",
        "    plt.xlim([0.0, 1.0])\n",
        "    plt.ylim([0.0, 1.05])\n",
        "    ss = pd.DataFrame()\n",
        "    ss['precision'] = precision\n",
        "    ss['recall'] = recall\n",
        "    ss['ap_score (its repeated)'] = [ap_score for _ in range(len(precision))]\n",
        "    ss.to_csv(f'/content/drive/MyDrive/work 46/results/{j}_Precision-Recall Curve.csv')\n",
        "\n",
        "plt.xlabel('Recall')\n",
        "plt.ylabel('Precision')\n",
        "plt.title('Precision-Recall Curve')\n",
        "plt.legend(loc=\"lower left\")\n",
        "plt.savefig(f'/content/drive/MyDrive/work 46/results/Precision_Recall_Curve.png',bbox_inches='tight')\n",
        "plt.show()"
      ]
    },
    {
      "cell_type": "code",
      "execution_count": null,
      "metadata": {
        "colab": {
          "base_uri": "https://localhost:8080/",
          "height": 487
        },
        "id": "Us4RR6M2sdN9",
        "outputId": "f1c5ef5d-7e09-465d-b251-03718e8dcea4"
      },
      "outputs": [
        {
          "data": {
            "image/png": "[encoded data removed]",
            "text/plain": [
              "<Figure size 700x500 with 1 Axes>"
            ]
          },
          "metadata": {},
          "output_type": "display_data"
        }
      ],
      "source": [
        "precision, recall, thresholds = precision_recall_curve(yt,yp)\n",
        "ap_score = average_precision_score(yt,yp)\n",
        "plt.figure(figsize=(7,5))\n",
        "plt.plot(recall, precision, label='Precision-Recall Curve (AP = %0.2f)' % ap_score,color=\"purple\",lw=2.8)\n",
        "\n",
        "plt.show()"
      ]
    },
    {
      "cell_type": "code",
      "execution_count": null,
      "metadata": {
        "id": "pYVmdVKJsdN9"
      },
      "outputs": [],
      "source": [
        "roc_auc = roc_auc_score(Y_test, pred)\n",
        "plt.plot([])\n",
        "plt.text(0,0, f'ROC AUC  Score: {roc_auc:.4f}', fontsize=16, ha='center', va='center',color=\"indigo\")\n",
        "plt.axis('off')\n",
        "\n",
        "# Set the x-axis limits\n",
        "plt.xlim(-1, 1)\n",
        "plt.ylim(-1,1)\n",
        "\n",
        "plt.show()"
      ]
    },
    {
      "cell_type": "code",
      "execution_count": null,
      "metadata": {
        "colab": {
          "base_uri": "https://localhost:8080/",
          "height": 406
        },
        "id": "wSrtoUvGsdN9",
        "outputId": "bc0e5d5b-1c07-4a4c-b0c8-336941bf6e2a"
      },
      "outputs": [
        {
          "data": {
            "image/png": "[encoded data removed]",
            "text/plain": [
              "<Figure size 640x480 with 1 Axes>"
            ]
          },
          "metadata": {},
          "output_type": "display_data"
        }
      ],
      "source": [
        "logarithm_loss=log_loss(yt,yp)\n",
        "plt.plot([])\n",
        "plt.text(0,0, f'Log Loss: {logarithm_loss:.4f}', fontsize=16, ha='center', va='center',color=\"black\")\n",
        "plt.axis('off')\n",
        "\n",
        "# Set the x-axis limits\n",
        "plt.xlim(-1, 1)\n",
        "plt.ylim(-1,1)\n",
        "\n",
        "plt.show()"
      ]
    },
    {
      "cell_type": "code",
      "execution_count": null,
      "metadata": {
        "colab": {
          "base_uri": "https://localhost:8080/",
          "height": 393
        },
        "id": "hHDz7ZqTsdN9",
        "outputId": "2c8ccf26-5dd0-4bec-b060-68923851f80a"
      },
      "outputs": [
        {
          "ename": "ValueError",
          "evalue": "ignored",
          "output_type": "error",
          "traceback": [
            "\u001b[0;31m---------------------------------------------------------------------------\u001b[0m",
            "\u001b[0;31mValueError\u001b[0m                                Traceback (most recent call last)",
            "\u001b[0;32m<ipython-input-125-0e8640620fcc>\u001b[0m in \u001b[0;36m<cell line: 1>\u001b[0;34m()\u001b[0m\n\u001b[0;32m----> 1\u001b[0;31m \u001b[0mkappa\u001b[0m \u001b[0;34m=\u001b[0m \u001b[0mcohen_kappa_score\u001b[0m\u001b[0;34m(\u001b[0m\u001b[0myt\u001b[0m\u001b[0;34m,\u001b[0m\u001b[0myp\u001b[0m\u001b[0;34m)\u001b[0m\u001b[0;34m\u001b[0m\u001b[0;34m\u001b[0m\u001b[0m\n\u001b[0m\u001b[1;32m      2\u001b[0m \u001b[0mplt\u001b[0m\u001b[0;34m.\u001b[0m\u001b[0mplot\u001b[0m\u001b[0;34m(\u001b[0m\u001b[0;34m[\u001b[0m\u001b[0;34m]\u001b[0m\u001b[0;34m)\u001b[0m\u001b[0;34m\u001b[0m\u001b[0;34m\u001b[0m\u001b[0m\n\u001b[1;32m      3\u001b[0m \u001b[0mplt\u001b[0m\u001b[0;34m.\u001b[0m\u001b[0mtext\u001b[0m\u001b[0;34m(\u001b[0m\u001b[0;36m0\u001b[0m\u001b[0;34m,\u001b[0m\u001b[0;36m0\u001b[0m\u001b[0;34m,\u001b[0m \u001b[0;34mf'Cohen Kappa Score: {kappa:.4f}'\u001b[0m\u001b[0;34m,\u001b[0m \u001b[0mfontsize\u001b[0m\u001b[0;34m=\u001b[0m\u001b[0;36m16\u001b[0m\u001b[0;34m,\u001b[0m \u001b[0mha\u001b[0m\u001b[0;34m=\u001b[0m\u001b[0;34m'center'\u001b[0m\u001b[0;34m,\u001b[0m \u001b[0mva\u001b[0m\u001b[0;34m=\u001b[0m\u001b[0;34m'center'\u001b[0m\u001b[0;34m,\u001b[0m\u001b[0mcolor\u001b[0m\u001b[0;34m=\u001b[0m\u001b[0;34m\"orangered\"\u001b[0m\u001b[0;34m)\u001b[0m\u001b[0;34m\u001b[0m\u001b[0;34m\u001b[0m\u001b[0m\n\u001b[1;32m      4\u001b[0m \u001b[0mplt\u001b[0m\u001b[0;34m.\u001b[0m\u001b[0maxis\u001b[0m\u001b[0;34m(\u001b[0m\u001b[0;34m'off'\u001b[0m\u001b[0;34m)\u001b[0m\u001b[0;34m\u001b[0m\u001b[0;34m\u001b[0m\u001b[0m\n\u001b[1;32m      5\u001b[0m \u001b[0;34m\u001b[0m\u001b[0m\n",
            "\u001b[0;32m/usr/local/lib/python3.10/dist-packages/sklearn/metrics/_classification.py\u001b[0m in \u001b[0;36mcohen_kappa_score\u001b[0;34m(y1, y2, labels, weights, sample_weight)\u001b[0m\n\u001b[1;32m    652\u001b[0m             \u001b[0;34m<\u001b[0m\u001b[0mhttps\u001b[0m\u001b[0;34m:\u001b[0m\u001b[0;34m//\u001b[0m\u001b[0men\u001b[0m\u001b[0;34m.\u001b[0m\u001b[0mwikipedia\u001b[0m\u001b[0;34m.\u001b[0m\u001b[0morg\u001b[0m\u001b[0;34m/\u001b[0m\u001b[0mwiki\u001b[0m\u001b[0;34m/\u001b[0m\u001b[0mCohen\u001b[0m\u001b[0;34m%\u001b[0m\u001b[0;36m27\u001b[0m\u001b[0ms_kappa\u001b[0m\u001b[0;34m>\u001b[0m\u001b[0;31m`\u001b[0m\u001b[0m_\u001b[0m\u001b[0;34m.\u001b[0m\u001b[0;34m\u001b[0m\u001b[0;34m\u001b[0m\u001b[0m\n\u001b[1;32m    653\u001b[0m     \"\"\"\n\u001b[0;32m--> 654\u001b[0;31m     \u001b[0mconfusion\u001b[0m \u001b[0;34m=\u001b[0m \u001b[0mconfusion_matrix\u001b[0m\u001b[0;34m(\u001b[0m\u001b[0my1\u001b[0m\u001b[0;34m,\u001b[0m \u001b[0my2\u001b[0m\u001b[0;34m,\u001b[0m \u001b[0mlabels\u001b[0m\u001b[0;34m=\u001b[0m\u001b[0mlabels\u001b[0m\u001b[0;34m,\u001b[0m \u001b[0msample_weight\u001b[0m\u001b[0;34m=\u001b[0m\u001b[0msample_weight\u001b[0m\u001b[0;34m)\u001b[0m\u001b[0;34m\u001b[0m\u001b[0;34m\u001b[0m\u001b[0m\n\u001b[0m\u001b[1;32m    655\u001b[0m     \u001b[0mn_classes\u001b[0m \u001b[0;34m=\u001b[0m \u001b[0mconfusion\u001b[0m\u001b[0;34m.\u001b[0m\u001b[0mshape\u001b[0m\u001b[0;34m[\u001b[0m\u001b[0;36m0\u001b[0m\u001b[0;34m]\u001b[0m\u001b[0;34m\u001b[0m\u001b[0;34m\u001b[0m\u001b[0m\n\u001b[1;32m    656\u001b[0m     \u001b[0msum0\u001b[0m \u001b[0;34m=\u001b[0m \u001b[0mnp\u001b[0m\u001b[0;34m.\u001b[0m\u001b[0msum\u001b[0m\u001b[0;34m(\u001b[0m\u001b[0mconfusion\u001b[0m\u001b[0;34m,\u001b[0m \u001b[0maxis\u001b[0m\u001b[0;34m=\u001b[0m\u001b[0;36m0\u001b[0m\u001b[0;34m)\u001b[0m\u001b[0;34m\u001b[0m\u001b[0;34m\u001b[0m\u001b[0m\n",
            "\u001b[0;32m/usr/local/lib/python3.10/dist-packages/sklearn/metrics/_classification.py\u001b[0m in \u001b[0;36mconfusion_matrix\u001b[0;34m(y_true, y_pred, labels, sample_weight, normalize)\u001b[0m\n\u001b[1;32m    315\u001b[0m     \u001b[0;34m(\u001b[0m\u001b[0;36m0\u001b[0m\u001b[0;34m,\u001b[0m \u001b[0;36m2\u001b[0m\u001b[0;34m,\u001b[0m \u001b[0;36m1\u001b[0m\u001b[0;34m,\u001b[0m \u001b[0;36m1\u001b[0m\u001b[0;34m)\u001b[0m\u001b[0;34m\u001b[0m\u001b[0;34m\u001b[0m\u001b[0m\n\u001b[1;32m    316\u001b[0m     \"\"\"\n\u001b[0;32m--> 317\u001b[0;31m     \u001b[0my_type\u001b[0m\u001b[0;34m,\u001b[0m \u001b[0my_true\u001b[0m\u001b[0;34m,\u001b[0m \u001b[0my_pred\u001b[0m \u001b[0;34m=\u001b[0m \u001b[0m_check_targets\u001b[0m\u001b[0;34m(\u001b[0m\u001b[0my_true\u001b[0m\u001b[0;34m,\u001b[0m \u001b[0my_pred\u001b[0m\u001b[0;34m)\u001b[0m\u001b[0;34m\u001b[0m\u001b[0;34m\u001b[0m\u001b[0m\n\u001b[0m\u001b[1;32m    318\u001b[0m     \u001b[0;32mif\u001b[0m \u001b[0my_type\u001b[0m \u001b[0;32mnot\u001b[0m \u001b[0;32min\u001b[0m \u001b[0;34m(\u001b[0m\u001b[0;34m\"binary\"\u001b[0m\u001b[0;34m,\u001b[0m \u001b[0;34m\"multiclass\"\u001b[0m\u001b[0;34m)\u001b[0m\u001b[0;34m:\u001b[0m\u001b[0;34m\u001b[0m\u001b[0;34m\u001b[0m\u001b[0m\n\u001b[1;32m    319\u001b[0m         \u001b[0;32mraise\u001b[0m \u001b[0mValueError\u001b[0m\u001b[0;34m(\u001b[0m\u001b[0;34m\"%s is not supported\"\u001b[0m \u001b[0;34m%\u001b[0m \u001b[0my_type\u001b[0m\u001b[0;34m)\u001b[0m\u001b[0;34m\u001b[0m\u001b[0;34m\u001b[0m\u001b[0m\n",
            "\u001b[0;32m/usr/local/lib/python3.10/dist-packages/sklearn/metrics/_classification.py\u001b[0m in \u001b[0;36m_check_targets\u001b[0;34m(y_true, y_pred)\u001b[0m\n\u001b[1;32m     93\u001b[0m \u001b[0;34m\u001b[0m\u001b[0m\n\u001b[1;32m     94\u001b[0m     \u001b[0;32mif\u001b[0m \u001b[0mlen\u001b[0m\u001b[0;34m(\u001b[0m\u001b[0my_type\u001b[0m\u001b[0;34m)\u001b[0m \u001b[0;34m>\u001b[0m \u001b[0;36m1\u001b[0m\u001b[0;34m:\u001b[0m\u001b[0;34m\u001b[0m\u001b[0;34m\u001b[0m\u001b[0m\n\u001b[0;32m---> 95\u001b[0;31m         raise ValueError(\n\u001b[0m\u001b[1;32m     96\u001b[0m             \"Classification metrics can't handle a mix of {0} and {1} targets\".format(\n\u001b[1;32m     97\u001b[0m                 \u001b[0mtype_true\u001b[0m\u001b[0;34m,\u001b[0m \u001b[0mtype_pred\u001b[0m\u001b[0;34m\u001b[0m\u001b[0;34m\u001b[0m\u001b[0m\n",
            "\u001b[0;31mValueError\u001b[0m: Classification metrics can't handle a mix of binary and continuous targets"
          ]
        }
      ],
      "source": [
        "kappa = cohen_kappa_score(yt,yp)\n",
        "plt.plot([])\n",
        "plt.text(0,0, f'Cohen Kappa Score: {kappa:.4f}', fontsize=16, ha='center', va='center',color=\"orangered\")\n",
        "plt.axis('off')\n",
        "\n",
        "# Set the x-axis limits\n",
        "plt.xlim(-1, 1)\n",
        "plt.ylim(-1,1)\n",
        "\n",
        "plt.show()"
      ]
    },
    {
      "cell_type": "code",
      "execution_count": null,
      "metadata": {
        "id": "Li-5mkOzsdN-"
      },
      "outputs": [],
      "source": [
        "mcc = matthews_corrcoef(Y_test, final_pred)\n",
        "\n",
        "# Create a plot and display the MCC value as text\n",
        "plt.plot([])\n",
        "plt.text(0,0, f'Matthews Correlation Coefficient: {mcc:.4f}', fontsize=16, ha='center', va='center',color=\"saddlebrown\")\n",
        "plt.axis('off')\n",
        "\n",
        "# Set the x-axis limits\n",
        "plt.xlim(-1, 1)\n",
        "plt.ylim(-1,1)\n",
        "\n",
        "plt.show()\n"
      ]
    },
    {
      "cell_type": "markdown",
      "metadata": {
        "id": "O6HTYe7usdN-"
      },
      "source": [
        "# Confusion Matrix"
      ]
    },
    {
      "cell_type": "code",
      "execution_count": null,
      "metadata": {
        "id": "BmLGaWCgsdN-"
      },
      "outputs": [],
      "source": [
        "label_name = [\"Non Disaster\", \"Disaster\"]\n",
        "plt.figure(figsize=(7, 5))\n",
        "cm = confusion_matrix(Y_test, final_pred)\n",
        "sns.heatmap(cm, annot=True, cmap=\"rainbow\",fmt=\"d\",lw=6,linecolor=\"black\",xticklabels=label_name, yticklabels=label_name)\n",
        "plt.title(\"Confusion Matrix\")\n",
        "plt.xlabel(\"Predicted\")\n",
        "plt.ylabel(\"Actual\")\n",
        "plt.show()\n",
        "\n"
      ]
    },
    {
      "cell_type": "markdown",
      "metadata": {
        "id": "peHXwhZOsdN-"
      },
      "source": [
        "# Classification Report"
      ]
    },
    {
      "cell_type": "code",
      "execution_count": null,
      "metadata": {
        "id": "fi2_d-ZDsdN-"
      },
      "outputs": [],
      "source": [
        "print(classification_report(Y_test,final_pred,target_names=label_name))"
      ]
    },
    {
      "cell_type": "markdown",
      "metadata": {
        "id": "4j6rpBvJsdN-"
      },
      "source": [
        "# Test Data Analysis\n"
      ]
    },
    {
      "cell_type": "code",
      "execution_count": null,
      "metadata": {
        "id": "ZoFqNAOpsdN-"
      },
      "outputs": [],
      "source": [
        "df_test=pd.read_csv(\"/kaggle/input/nlp-getting-started/test.csv\")"
      ]
    },
    {
      "cell_type": "code",
      "execution_count": null,
      "metadata": {
        "id": "riWFrFs5sdN-"
      },
      "outputs": [],
      "source": [
        "df_test.head()"
      ]
    },
    {
      "cell_type": "code",
      "execution_count": null,
      "metadata": {
        "id": "c0GgBT9ssdN-"
      },
      "outputs": [],
      "source": [
        "df_test.info()"
      ]
    },
    {
      "cell_type": "code",
      "execution_count": null,
      "metadata": {
        "id": "bKAOw2AysdN-"
      },
      "outputs": [],
      "source": [
        "df_test.describe()"
      ]
    },
    {
      "cell_type": "code",
      "execution_count": null,
      "metadata": {
        "id": "4xJZxkVqsdN-"
      },
      "outputs": [],
      "source": [
        "df_test.isnull().sum()"
      ]
    },
    {
      "cell_type": "code",
      "execution_count": null,
      "metadata": {
        "id": "nZ7KQJNSsdN_"
      },
      "outputs": [],
      "source": [
        "df_test.drop([\"keyword\",\"location\"],axis=1,inplace=True)"
      ]
    },
    {
      "cell_type": "code",
      "execution_count": null,
      "metadata": {
        "id": "QON5rNUKsdN_"
      },
      "outputs": [],
      "source": [
        "df_test.head()"
      ]
    },
    {
      "cell_type": "code",
      "execution_count": null,
      "metadata": {
        "id": "LuoyBhvRsdN_"
      },
      "outputs": [],
      "source": [
        "test_text=df_test[\"text\"]"
      ]
    },
    {
      "cell_type": "code",
      "execution_count": null,
      "metadata": {
        "id": "y3Iz4duGsdN_"
      },
      "outputs": [],
      "source": [
        "def xlnet_encode(final_text_data, max_len):\n",
        "    input_ids = []\n",
        "    attention_masks = []\n",
        "\n",
        "    for i in range(len(final_text_data)):\n",
        "        encode_data = xlnet_tokenizer.encode_plus(final_text_data[i], add_special_tokens=True, max_length=max_len, pad_to_max_length=True, return_attention_mask=True)\n",
        "        input_ids.append(encode_data['input_ids'])\n",
        "        attention_masks.append(encode_data[\"attention_mask\"])\n",
        "\n",
        "    return np.array(input_ids), np.array(attention_masks)"
      ]
    },
    {
      "cell_type": "code",
      "execution_count": null,
      "metadata": {
        "id": "iw_6MGbxsdN_"
      },
      "outputs": [],
      "source": [
        "text_input_ids,text_attention_masks = xlnet_encode(test_text,max_len)"
      ]
    },
    {
      "cell_type": "code",
      "execution_count": null,
      "metadata": {
        "id": "_mJYM5uDsdN_"
      },
      "outputs": [],
      "source": [
        "text_input_ids = np.array(text_input_ids)\n",
        "text_attention_masks = np.array(text_attention_masks)\n",
        "my_pred = model.predict([text_input_ids, text_attention_masks])\n",
        "predicted_labels = np.where(my_pred >= 0.5, 1, 0)\n",
        "df_test['target'] = predicted_labels\n"
      ]
    },
    {
      "cell_type": "code",
      "execution_count": null,
      "metadata": {
        "id": "cDbGZkHysdN_"
      },
      "outputs": [],
      "source": [
        "df_test.head(10)"
      ]
    },
    {
      "cell_type": "code",
      "execution_count": null,
      "metadata": {
        "id": "5eqSuAQmsdN_"
      },
      "outputs": [],
      "source": [
        "df_test[\"target\"].value_counts()"
      ]
    },
    {
      "cell_type": "code",
      "execution_count": null,
      "metadata": {
        "id": "w2Cc_QVFsdN_"
      },
      "outputs": [],
      "source": [
        "df0=df_test.copy()\n",
        "df0.drop(\"text\",axis=1,inplace=True)\n",
        "df0.to_csv(\"my_submission.csv\",index=False)"
      ]
    },
    {
      "cell_type": "code",
      "execution_count": null,
      "metadata": {
        "id": "A5h9g0ZbsdN_"
      },
      "outputs": [],
      "source": []
    },
    {
      "cell_type": "markdown",
      "metadata": {
        "id": "CYnT1Wi1sdN6"
      },
      "source": [
        "# Encode Data"
      ]
    },
    {
      "cell_type": "code",
      "execution_count": null,
      "metadata": {
        "id": "5qqXXVRjsdN6"
      },
      "outputs": [],
      "source": [
        "def xlnet_encode(final_text_data, max_len):\n",
        "    input_ids = []\n",
        "    attention_masks = []\n",
        "\n",
        "    for i in range(len(final_text_data)):\n",
        "        encode_data = xlnet_tokenizer.encode_plus(final_text_data[i], add_special_tokens=True, max_length=max_len, pad_to_max_length=True, return_attention_mask=True)\n",
        "        input_ids.append(encode_data['input_ids'])\n",
        "        attention_masks.append(encode_data[\"attention_mask\"])\n",
        "\n",
        "    return np.array(input_ids), np.array(attention_masks)\n"
      ]
    },
    {
      "cell_type": "code",
      "execution_count": null,
      "metadata": {
        "colab": {
          "base_uri": "https://localhost:8080/"
        },
        "id": "OJpbxOutsdN6",
        "outputId": "90455178-00be-49ca-c5cc-3908dcfae227"
      },
      "outputs": [
        {
          "name": "stderr",
          "output_type": "stream",
          "text": [
            "Truncation was not explicitly activated but `max_length` is provided a specific value, please use `truncation=True` to explicitly truncate examples to max length. Defaulting to 'longest_first' truncation strategy. If you encode pairs of sequences (GLUE-style) with the tokenizer you can select this strategy more precisely by providing a specific strategy to `truncation`.\n",
            "/usr/local/lib/python3.10/dist-packages/transformers/tokenization_utils_base.py:2377: FutureWarning: The `pad_to_max_length` argument is deprecated and will be removed in a future version, use `padding=True` or `padding='longest'` to pad to the longest sequence in the batch, or use `padding='max_length'` to pad to a max length. In this case, you can give a specific length with `max_length` (e.g. `max_length=45`) or leave max_length to None to pad to the maximal input size of the model (e.g. 512 for Bert).\n",
            "  warnings.warn(\n"
          ]
        }
      ],
      "source": [
        "text_input_ids,text_attention_masks = xlnet_encode(text_data,max_len)"
      ]
    },
    {
      "cell_type": "code",
      "execution_count": null,
      "metadata": {
        "colab": {
          "base_uri": "https://localhost:8080/"
        },
        "id": "hjpTN0o9sdN6",
        "outputId": "c6a469a7-77ac-47fa-a0c4-f828116fa369"
      },
      "outputs": [
        {
          "name": "stdout",
          "output_type": "stream",
          "text": [
            "Text Input Ids Shape (7613, 30) \n",
            "Text Input Attention Mask Shape (7613, 30) \n",
            "Label Data shape (7613,)\n"
          ]
        }
      ],
      "source": [
        "print('Text Input Ids Shape {} \\nText Input Attention Mask Shape {} \\nLabel Data shape {}'.format(text_input_ids.shape,text_attention_masks.shape,label_data.shape))"
      ]
    },
    {
      "cell_type": "code",
      "execution_count": null,
      "metadata": {
        "id": "jdwWvyzXsdN7"
      },
      "outputs": [],
      "source": [
        "X_train,X_test,Y_train,Y_test,train_mask,test_mask=train_test_split(text_input_ids,label_data,text_attention_masks,test_size=0.2,random_state=42,shuffle=True)"
      ]
    },
    {
      "cell_type": "code",
      "execution_count": null,
      "metadata": {
        "colab": {
          "base_uri": "https://localhost:8080/"
        },
        "id": "ZfM5oRn9sdN7",
        "outputId": "1fc57983-2fe0-48a6-9a04-050926dfd9e8"
      },
      "outputs": [
        {
          "name": "stdout",
          "output_type": "stream",
          "text": [
            "Train input shape (6090, 30)\n",
            "Test input shape (1523, 30)\n",
            "Train label shape (6090,)\n",
            "Test label shape (1523,)\n",
            "Train attention mask shape (6090, 30)\n",
            "Test attention mask shape (1523, 30)\n"
          ]
        }
      ],
      "source": [
        "print('Train input shape {}\\nTest input shape {}\\nTrain label shape {}\\nTest label shape {}\\nTrain attention mask shape {}\\nTest attention mask shape {}'.format(X_train.shape,X_test.shape,Y_train.shape,Y_test.shape,train_mask.shape,test_mask.shape))"
      ]
    },
    {
      "cell_type": "markdown",
      "metadata": {
        "id": "oy9k3e0CsdN6"
      },
      "source": [
        "# XLNET Tokenizer,Model"
      ]
    },
    {
      "cell_type": "code",
      "execution_count": null,
      "metadata": {
        "id": "YIxJ4sRe2W7y"
      },
      "outputs": [],
      "source": [
        "from transformers import AutoTokenizer"
      ]
    },
    {
      "cell_type": "code",
      "execution_count": null,
      "metadata": {
        "id": "4Y33RnBxoNLX"
      },
      "outputs": [],
      "source": [
        "xlnet_tokenizer = AutoTokenizer.from_pretrained('xlnet-base-cased')"
      ]
    },
    {
      "cell_type": "code",
      "execution_count": null,
      "metadata": {
        "id": "5C-UnpN8uQ4O"
      },
      "outputs": [],
      "source": [
        "from transformers import TFAutoModel"
      ]
    },
    {
      "cell_type": "code",
      "execution_count": null,
      "metadata": {
        "colab": {
          "base_uri": "https://localhost:8080/"
        },
        "id": "ryMVVI-kuXli",
        "outputId": "510348b2-9811-4c10-e965-0b5dc78a1a4d"
      },
      "outputs": [
        {
          "name": "stderr",
          "output_type": "stream",
          "text": [
            "/usr/local/lib/python3.10/dist-packages/keras/initializers/initializers.py:120: UserWarning: The initializer TruncatedNormal is unseeded and being called multiple times, which will return identical values each time (even if the initializer is unseeded). Please update your code to provide a seed to the initializer, or avoid using the same initalizer instance more than once.\n",
            "  warnings.warn(\n",
            "Some layers from the model checkpoint at xlnet-base-cased were not used when initializing TFXLNetModel: ['lm_loss']\n",
            "- This IS expected if you are initializing TFXLNetModel from the checkpoint of a model trained on another task or with another architecture (e.g. initializing a BertForSequenceClassification model from a BertForPreTraining model).\n",
            "- This IS NOT expected if you are initializing TFXLNetModel from the checkpoint of a model that you expect to be exactly identical (initializing a BertForSequenceClassification model from a BertForSequenceClassification model).\n",
            "All the layers of TFXLNetModel were initialized from the model checkpoint at xlnet-base-cased.\n",
            "If your task is similar to the task the model of the checkpoint was trained on, you can already use TFXLNetModel for predictions without further training.\n"
          ]
        }
      ],
      "source": [
        "xlnet_model = TFAutoModel.from_pretrained('xlnet-base-cased')"
      ]
    },
    {
      "cell_type": "markdown",
      "metadata": {
        "id": "7umpw-eAsdN7"
      },
      "source": [
        "# Create XLNET Model"
      ]
    },
    {
      "cell_type": "code",
      "execution_count": null,
      "metadata": {
        "id": "7z8R2hFdsdN7"
      },
      "outputs": [],
      "source": [
        "def Create_XLNet_Model():\n",
        "    input_ids = tf.keras.Input(shape=(max_len,), dtype=\"int32\")\n",
        "    attention_masks = tf.keras.Input(shape=(max_len,), dtype=\"int32\")\n",
        "\n",
        "    output = xlnet_model(input_ids=input_ids, attention_mask=attention_masks)[0]\n",
        "\n",
        "    output = tf.keras.layers.GlobalMaxPooling1D()(output)\n",
        "\n",
        "    # dense_1 = tf.keras.layers.Dense(256, activation=\"tanh\")(output)\n",
        "    # dense_2 = tf.keras.layers.Dense(128, activation=\"tanh\")(dense_1)\n",
        "\n",
        "    # dense_3 = tf.keras.layers.Dense(64, activation=\"tanh\")(dense_2)\n",
        "    dense_3 = tf.keras.layers.Dense(64, activation=\"relu\")(output)\n",
        "\n",
        "\n",
        "    dropout = tf.keras.layers.Dropout(0.2)(dense_3)\n",
        "    output_layer = tf.keras.layers.Dense(1, activation=\"sigmoid\")(dropout)\n",
        "\n",
        "    model = tf.keras.models.Model(inputs=[input_ids, attention_masks], outputs=output_layer)\n",
        "    return model\n",
        "\n",
        "\n",
        "\n"
      ]
    },
    {
      "cell_type": "code",
      "execution_count": null,
      "metadata": {
        "colab": {
          "base_uri": "https://localhost:8080/"
        },
        "id": "zpeBp_5GsdN8",
        "outputId": "e450256a-ee5c-4f08-cfda-d8d85f488e9e"
      },
      "outputs": [
        {
          "name": "stdout",
          "output_type": "stream",
          "text": [
            "Model: \"model\"\n",
            "__________________________________________________________________________________________________\n",
            " Layer (type)                   Output Shape         Param #     Connected to                     \n",
            "==================================================================================================\n",
            " input_1 (InputLayer)           [(None, 30)]         0           []                               \n",
            "                                                                                                  \n",
            " input_2 (InputLayer)           [(None, 30)]         0           []                               \n",
            "                                                                                                  \n",
            " tfxl_net_model_2 (TFXLNetModel  TFXLNetModelOutput(  116718336  ['input_1[0][0]',                \n",
            " )                              last_hidden_state=(               'input_2[0][0]']                \n",
            "                                None, 30, 768),                                                   \n",
            "                                 mems=((30, None, 7                                               \n",
            "                                68),                                                              \n",
            "                                 (30, None, 768),                                                 \n",
            "                                 (30, None, 768),                                                 \n",
            "                                 (30, None, 768),                                                 \n",
            "                                 (30, None, 768),                                                 \n",
            "                                 (30, None, 768),                                                 \n",
            "                                 (30, None, 768),                                                 \n",
            "                                 (30, None, 768),                                                 \n",
            "                                 (30, None, 768),                                                 \n",
            "                                 (30, None, 768),                                                 \n",
            "                                 (30, None, 768),                                                 \n",
            "                                 (30, None, 768)),                                                \n",
            "                                 hidden_states=None                                               \n",
            "                                , attentions=None)                                                \n",
            "                                                                                                  \n",
            " global_max_pooling1d (GlobalMa  (None, 768)         0           ['tfxl_net_model_2[0][0]']       \n",
            " xPooling1D)                                                                                      \n",
            "                                                                                                  \n",
            " dense (Dense)                  (None, 64)           49216       ['global_max_pooling1d[0][0]']   \n",
            "                                                                                                  \n",
            " dropout (Dropout)              (None, 64)           0           ['dense[0][0]']                  \n",
            "                                                                                                  \n",
            " dense_1 (Dense)                (None, 1)            65          ['dropout[0][0]']                \n",
            "                                                                                                  \n",
            "==================================================================================================\n",
            "Total params: 116,767,617\n",
            "Trainable params: 116,767,617\n",
            "Non-trainable params: 0\n",
            "__________________________________________________________________________________________________\n"
          ]
        }
      ],
      "source": [
        "tf.keras.backend.clear_session()\n",
        "model = Create_XLNet_Model()\n",
        "\n",
        "learning_rate = 1e-5\n",
        "beta_1=0.9\n",
        "beta_2=0.98\n",
        "epsilon=1e-9\n",
        "optimizer = tf.keras.optimizers.Adam(learning_rate=learning_rate,\n",
        "                                    #  beta_1=beta_1,\n",
        "                                    #  beta_2=beta_2,\n",
        "                                    #  epsilon=epsilon\n",
        "                                     )\n",
        "\n",
        "loss = \"binary_crossentropy\"\n",
        "metric = \"accuracy\"\n",
        "model.compile(optimizer=optimizer, loss=loss, metrics=[metric])\n",
        "\n",
        "model.summary()\n"
      ]
    },
    {
      "cell_type": "code",
      "execution_count": null,
      "metadata": {
        "id": "BS8Cis5NsdN8"
      },
      "outputs": [],
      "source": [
        "# plot_model(model, to_file='model_architecture.png', show_shapes=True)\n",
        "# plt.figure(figsize=(25, 15))\n",
        "# img = plt.imread('model_architecture.png')\n",
        "# plt.imshow(img)\n",
        "# plt.axis('off')\n",
        "# plt.show()\n"
      ]
    },
    {
      "cell_type": "code",
      "execution_count": null,
      "metadata": {
        "id": "lHaZtzgSsdN8"
      },
      "outputs": [],
      "source": [
        "\n",
        "early_stopping = EarlyStopping(monitor='val_loss', patience=10, restore_best_weights=True)\n",
        "\n"
      ]
    },
    {
      "cell_type": "code",
      "execution_count": null,
      "metadata": {
        "colab": {
          "base_uri": "https://localhost:8080/"
        },
        "id": "61BdFov4sdN8",
        "outputId": "88141377-ea94-4513-bd26-10f5a6301484"
      },
      "outputs": [
        {
          "name": "stderr",
          "output_type": "stream",
          "text": [
            "WARNING:tensorflow:Gradients do not exist for variables ['tfxl_net_model/transformer/mask_emb:0', 'tfxl_net_model/transformer/layer_._0/rel_attn/r_s_bias:0', 'tfxl_net_model/transformer/layer_._0/rel_attn/seg_embed:0', 'tfxl_net_model/transformer/layer_._1/rel_attn/r_s_bias:0', 'tfxl_net_model/transformer/layer_._1/rel_attn/seg_embed:0', 'tfxl_net_model/transformer/layer_._2/rel_attn/r_s_bias:0', 'tfxl_net_model/transformer/layer_._2/rel_attn/seg_embed:0', 'tfxl_net_model/transformer/layer_._3/rel_attn/r_s_bias:0', 'tfxl_net_model/transformer/layer_._3/rel_attn/seg_embed:0', 'tfxl_net_model/transformer/layer_._4/rel_attn/r_s_bias:0', 'tfxl_net_model/transformer/layer_._4/rel_attn/seg_embed:0', 'tfxl_net_model/transformer/layer_._5/rel_attn/r_s_bias:0', 'tfxl_net_model/transformer/layer_._5/rel_attn/seg_embed:0', 'tfxl_net_model/transformer/layer_._6/rel_attn/r_s_bias:0', 'tfxl_net_model/transformer/layer_._6/rel_attn/seg_embed:0', 'tfxl_net_model/transformer/layer_._7/rel_attn/r_s_bias:0', 'tfxl_net_model/transformer/layer_._7/rel_attn/seg_embed:0', 'tfxl_net_model/transformer/layer_._8/rel_attn/r_s_bias:0', 'tfxl_net_model/transformer/layer_._8/rel_attn/seg_embed:0', 'tfxl_net_model/transformer/layer_._9/rel_attn/r_s_bias:0', 'tfxl_net_model/transformer/layer_._9/rel_attn/seg_embed:0', 'tfxl_net_model/transformer/layer_._10/rel_attn/r_s_bias:0', 'tfxl_net_model/transformer/layer_._10/rel_attn/seg_embed:0', 'tfxl_net_model/transformer/layer_._11/rel_attn/r_s_bias:0', 'tfxl_net_model/transformer/layer_._11/rel_attn/seg_embed:0'] when minimizing the loss. If you're using `model.compile()`, did you forget to provide a `loss` argument?\n",
            "WARNING:tensorflow:Gradients do not exist for variables ['tfxl_net_model/transformer/mask_emb:0', 'tfxl_net_model/transformer/layer_._0/rel_attn/r_s_bias:0', 'tfxl_net_model/transformer/layer_._0/rel_attn/seg_embed:0', 'tfxl_net_model/transformer/layer_._1/rel_attn/r_s_bias:0', 'tfxl_net_model/transformer/layer_._1/rel_attn/seg_embed:0', 'tfxl_net_model/transformer/layer_._2/rel_attn/r_s_bias:0', 'tfxl_net_model/transformer/layer_._2/rel_attn/seg_embed:0', 'tfxl_net_model/transformer/layer_._3/rel_attn/r_s_bias:0', 'tfxl_net_model/transformer/layer_._3/rel_attn/seg_embed:0', 'tfxl_net_model/transformer/layer_._4/rel_attn/r_s_bias:0', 'tfxl_net_model/transformer/layer_._4/rel_attn/seg_embed:0', 'tfxl_net_model/transformer/layer_._5/rel_attn/r_s_bias:0', 'tfxl_net_model/transformer/layer_._5/rel_attn/seg_embed:0', 'tfxl_net_model/transformer/layer_._6/rel_attn/r_s_bias:0', 'tfxl_net_model/transformer/layer_._6/rel_attn/seg_embed:0', 'tfxl_net_model/transformer/layer_._7/rel_attn/r_s_bias:0', 'tfxl_net_model/transformer/layer_._7/rel_attn/seg_embed:0', 'tfxl_net_model/transformer/layer_._8/rel_attn/r_s_bias:0', 'tfxl_net_model/transformer/layer_._8/rel_attn/seg_embed:0', 'tfxl_net_model/transformer/layer_._9/rel_attn/r_s_bias:0', 'tfxl_net_model/transformer/layer_._9/rel_attn/seg_embed:0', 'tfxl_net_model/transformer/layer_._10/rel_attn/r_s_bias:0', 'tfxl_net_model/transformer/layer_._10/rel_attn/seg_embed:0', 'tfxl_net_model/transformer/layer_._11/rel_attn/r_s_bias:0', 'tfxl_net_model/transformer/layer_._11/rel_attn/seg_embed:0'] when minimizing the loss. If you're using `model.compile()`, did you forget to provide a `loss` argument?\n",
            "WARNING:tensorflow:Gradients do not exist for variables ['tfxl_net_model/transformer/mask_emb:0', 'tfxl_net_model/transformer/layer_._0/rel_attn/r_s_bias:0', 'tfxl_net_model/transformer/layer_._0/rel_attn/seg_embed:0', 'tfxl_net_model/transformer/layer_._1/rel_attn/r_s_bias:0', 'tfxl_net_model/transformer/layer_._1/rel_attn/seg_embed:0', 'tfxl_net_model/transformer/layer_._2/rel_attn/r_s_bias:0', 'tfxl_net_model/transformer/layer_._2/rel_attn/seg_embed:0', 'tfxl_net_model/transformer/layer_._3/rel_attn/r_s_bias:0', 'tfxl_net_model/transformer/layer_._3/rel_attn/seg_embed:0', 'tfxl_net_model/transformer/layer_._4/rel_attn/r_s_bias:0', 'tfxl_net_model/transformer/layer_._4/rel_attn/seg_embed:0', 'tfxl_net_model/transformer/layer_._5/rel_attn/r_s_bias:0', 'tfxl_net_model/transformer/layer_._5/rel_attn/seg_embed:0', 'tfxl_net_model/transformer/layer_._6/rel_attn/r_s_bias:0', 'tfxl_net_model/transformer/layer_._6/rel_attn/seg_embed:0', 'tfxl_net_model/transformer/layer_._7/rel_attn/r_s_bias:0', 'tfxl_net_model/transformer/layer_._7/rel_attn/seg_embed:0', 'tfxl_net_model/transformer/layer_._8/rel_attn/r_s_bias:0', 'tfxl_net_model/transformer/layer_._8/rel_attn/seg_embed:0', 'tfxl_net_model/transformer/layer_._9/rel_attn/r_s_bias:0', 'tfxl_net_model/transformer/layer_._9/rel_attn/seg_embed:0', 'tfxl_net_model/transformer/layer_._10/rel_attn/r_s_bias:0', 'tfxl_net_model/transformer/layer_._10/rel_attn/seg_embed:0', 'tfxl_net_model/transformer/layer_._11/rel_attn/r_s_bias:0', 'tfxl_net_model/transformer/layer_._11/rel_attn/seg_embed:0'] when minimizing the loss. If you're using `model.compile()`, did you forget to provide a `loss` argument?\n",
            "WARNING:tensorflow:Gradients do not exist for variables ['tfxl_net_model/transformer/mask_emb:0', 'tfxl_net_model/transformer/layer_._0/rel_attn/r_s_bias:0', 'tfxl_net_model/transformer/layer_._0/rel_attn/seg_embed:0', 'tfxl_net_model/transformer/layer_._1/rel_attn/r_s_bias:0', 'tfxl_net_model/transformer/layer_._1/rel_attn/seg_embed:0', 'tfxl_net_model/transformer/layer_._2/rel_attn/r_s_bias:0', 'tfxl_net_model/transformer/layer_._2/rel_attn/seg_embed:0', 'tfxl_net_model/transformer/layer_._3/rel_attn/r_s_bias:0', 'tfxl_net_model/transformer/layer_._3/rel_attn/seg_embed:0', 'tfxl_net_model/transformer/layer_._4/rel_attn/r_s_bias:0', 'tfxl_net_model/transformer/layer_._4/rel_attn/seg_embed:0', 'tfxl_net_model/transformer/layer_._5/rel_attn/r_s_bias:0', 'tfxl_net_model/transformer/layer_._5/rel_attn/seg_embed:0', 'tfxl_net_model/transformer/layer_._6/rel_attn/r_s_bias:0', 'tfxl_net_model/transformer/layer_._6/rel_attn/seg_embed:0', 'tfxl_net_model/transformer/layer_._7/rel_attn/r_s_bias:0', 'tfxl_net_model/transformer/layer_._7/rel_attn/seg_embed:0', 'tfxl_net_model/transformer/layer_._8/rel_attn/r_s_bias:0', 'tfxl_net_model/transformer/layer_._8/rel_attn/seg_embed:0', 'tfxl_net_model/transformer/layer_._9/rel_attn/r_s_bias:0', 'tfxl_net_model/transformer/layer_._9/rel_attn/seg_embed:0', 'tfxl_net_model/transformer/layer_._10/rel_attn/r_s_bias:0', 'tfxl_net_model/transformer/layer_._10/rel_attn/seg_embed:0', 'tfxl_net_model/transformer/layer_._11/rel_attn/r_s_bias:0', 'tfxl_net_model/transformer/layer_._11/rel_attn/seg_embed:0'] when minimizing the loss. If you're using `model.compile()`, did you forget to provide a `loss` argument?\n"
          ]
        },
        {
          "name": "stdout",
          "output_type": "stream",
          "text": [
            "191/191 [==============================] - 121s 364ms/step - loss: 0.6405 - accuracy: 0.7140 - val_loss: 0.4813 - val_accuracy: 0.7892\n"
          ]
        }
      ],
      "source": [
        "# history = model.fit(x=[X_train, train_mask],y=Y_train,validation_data=([X_test, test_mask], Y_test),\n",
        "#                     epochs=10,batch_size=32,callbacks=[early_stopping])"
      ]
    },
    {
      "cell_type": "code",
      "execution_count": null,
      "metadata": {
        "colab": {
          "base_uri": "https://localhost:8080/"
        },
        "id": "3hwzzqsJCFla",
        "outputId": "8aad5ac5-6de9-4db9-f405-1f5b1128d9c7"
      },
      "outputs": [
        {
          "name": "stdout",
          "output_type": "stream",
          "text": [
            "Epoch 1/4\n"
          ]
        },
        {
          "ename": "ValueError",
          "evalue": "ignored",
          "output_type": "error",
          "traceback": [
            "\u001b[0;31m---------------------------------------------------------------------------\u001b[0m",
            "\u001b[0;31mValueError\u001b[0m                                Traceback (most recent call last)",
            "\u001b[0;32m<ipython-input-155-1d1c0b5d01c6>\u001b[0m in \u001b[0;36m<cell line: 3>\u001b[0;34m()\u001b[0m\n\u001b[1;32m      1\u001b[0m \u001b[0mnum_epochs\u001b[0m \u001b[0;34m=\u001b[0m \u001b[0;36m4\u001b[0m\u001b[0;34m\u001b[0m\u001b[0;34m\u001b[0m\u001b[0m\n\u001b[1;32m      2\u001b[0m \u001b[0;31m# early_stop = EarlyStopping(monitor='val_accuracy', patience=6,restore_best_weights=True)\u001b[0m\u001b[0;34m\u001b[0m\u001b[0;34m\u001b[0m\u001b[0m\n\u001b[0;32m----> 3\u001b[0;31m history = model.fit(train,\n\u001b[0m\u001b[1;32m      4\u001b[0m                     \u001b[0;31m# batch_size=32,\u001b[0m\u001b[0;34m\u001b[0m\u001b[0;34m\u001b[0m\u001b[0m\n\u001b[1;32m      5\u001b[0m                     \u001b[0mepochs\u001b[0m\u001b[0;34m=\u001b[0m\u001b[0mnum_epochs\u001b[0m\u001b[0;34m,\u001b[0m\u001b[0;34m\u001b[0m\u001b[0;34m\u001b[0m\u001b[0m\n",
            "\u001b[0;32m/usr/local/lib/python3.10/dist-packages/keras/utils/traceback_utils.py\u001b[0m in \u001b[0;36merror_handler\u001b[0;34m(*args, **kwargs)\u001b[0m\n\u001b[1;32m     68\u001b[0m             \u001b[0;31m# To get the full stack trace, call:\u001b[0m\u001b[0;34m\u001b[0m\u001b[0;34m\u001b[0m\u001b[0m\n\u001b[1;32m     69\u001b[0m             \u001b[0;31m# `tf.debugging.disable_traceback_filtering()`\u001b[0m\u001b[0;34m\u001b[0m\u001b[0;34m\u001b[0m\u001b[0m\n\u001b[0;32m---> 70\u001b[0;31m             \u001b[0;32mraise\u001b[0m \u001b[0me\u001b[0m\u001b[0;34m.\u001b[0m\u001b[0mwith_traceback\u001b[0m\u001b[0;34m(\u001b[0m\u001b[0mfiltered_tb\u001b[0m\u001b[0;34m)\u001b[0m \u001b[0;32mfrom\u001b[0m \u001b[0;32mNone\u001b[0m\u001b[0;34m\u001b[0m\u001b[0;34m\u001b[0m\u001b[0m\n\u001b[0m\u001b[1;32m     71\u001b[0m         \u001b[0;32mfinally\u001b[0m\u001b[0;34m:\u001b[0m\u001b[0;34m\u001b[0m\u001b[0;34m\u001b[0m\u001b[0m\n\u001b[1;32m     72\u001b[0m             \u001b[0;32mdel\u001b[0m \u001b[0mfiltered_tb\u001b[0m\u001b[0;34m\u001b[0m\u001b[0;34m\u001b[0m\u001b[0m\n",
            "\u001b[0;32m/usr/local/lib/python3.10/dist-packages/keras/engine/training.py\u001b[0m in \u001b[0;36mtf__train_function\u001b[0;34m(iterator)\u001b[0m\n\u001b[1;32m     13\u001b[0m                 \u001b[0;32mtry\u001b[0m\u001b[0;34m:\u001b[0m\u001b[0;34m\u001b[0m\u001b[0;34m\u001b[0m\u001b[0m\n\u001b[1;32m     14\u001b[0m                     \u001b[0mdo_return\u001b[0m \u001b[0;34m=\u001b[0m \u001b[0;32mTrue\u001b[0m\u001b[0;34m\u001b[0m\u001b[0;34m\u001b[0m\u001b[0m\n\u001b[0;32m---> 15\u001b[0;31m                     \u001b[0mretval_\u001b[0m \u001b[0;34m=\u001b[0m \u001b[0mag__\u001b[0m\u001b[0;34m.\u001b[0m\u001b[0mconverted_call\u001b[0m\u001b[0;34m(\u001b[0m\u001b[0mag__\u001b[0m\u001b[0;34m.\u001b[0m\u001b[0mld\u001b[0m\u001b[0;34m(\u001b[0m\u001b[0mstep_function\u001b[0m\u001b[0;34m)\u001b[0m\u001b[0;34m,\u001b[0m \u001b[0;34m(\u001b[0m\u001b[0mag__\u001b[0m\u001b[0;34m.\u001b[0m\u001b[0mld\u001b[0m\u001b[0;34m(\u001b[0m\u001b[0mself\u001b[0m\u001b[0;34m)\u001b[0m\u001b[0;34m,\u001b[0m \u001b[0mag__\u001b[0m\u001b[0;34m.\u001b[0m\u001b[0mld\u001b[0m\u001b[0;34m(\u001b[0m\u001b[0miterator\u001b[0m\u001b[0;34m)\u001b[0m\u001b[0;34m)\u001b[0m\u001b[0;34m,\u001b[0m \u001b[0;32mNone\u001b[0m\u001b[0;34m,\u001b[0m \u001b[0mfscope\u001b[0m\u001b[0;34m)\u001b[0m\u001b[0;34m\u001b[0m\u001b[0;34m\u001b[0m\u001b[0m\n\u001b[0m\u001b[1;32m     16\u001b[0m                 \u001b[0;32mexcept\u001b[0m\u001b[0;34m:\u001b[0m\u001b[0;34m\u001b[0m\u001b[0;34m\u001b[0m\u001b[0m\n\u001b[1;32m     17\u001b[0m                     \u001b[0mdo_return\u001b[0m \u001b[0;34m=\u001b[0m \u001b[0;32mFalse\u001b[0m\u001b[0;34m\u001b[0m\u001b[0;34m\u001b[0m\u001b[0m\n",
            "\u001b[0;31mValueError\u001b[0m: in user code:\n\n    File \"/usr/local/lib/python3.10/dist-packages/keras/engine/training.py\", line 1284, in train_function  *\n        return step_function(self, iterator)\n    File \"/usr/local/lib/python3.10/dist-packages/keras/engine/training.py\", line 1268, in step_function  **\n        outputs = model.distribute_strategy.run(run_step, args=(data,))\n    File \"/usr/local/lib/python3.10/dist-packages/keras/engine/training.py\", line 1249, in run_step  **\n        outputs = model.train_step(data)\n    File \"/usr/local/lib/python3.10/dist-packages/keras/engine/training.py\", line 1050, in train_step\n        y_pred = self(x, training=True)\n    File \"/usr/local/lib/python3.10/dist-packages/keras/utils/traceback_utils.py\", line 70, in error_handler\n        raise e.with_traceback(filtered_tb) from None\n    File \"/usr/local/lib/python3.10/dist-packages/keras/engine/input_spec.py\", line 197, in assert_input_compatibility\n        raise ValueError(\n\n    ValueError: Missing data for input \"input_1\". You passed a data dictionary with keys ['input_ids', 'attention_mask']. Expected the following keys: ['input_1', 'input_2']\n"
          ]
        }
      ],
      "source": [
        "num_epochs = 4\n",
        "# early_stop = EarlyStopping(monitor='val_accuracy', patience=6,restore_best_weights=True)\n",
        "history = model.fit(train,\n",
        "                    # batch_size=32,\n",
        "                    epochs=num_epochs,\n",
        "                    # validati0on_split=0.2,\n",
        "                    validation_data=[val],\n",
        "                    # callbacks =[\n",
        "                        # learning_rate_reduction,\n",
        "                                # es\n",
        "                                # ],\n",
        "                    # verbose=0\n",
        "                    )"
      ]
    },
    {
      "cell_type": "code",
      "execution_count": null,
      "metadata": {
        "colab": {
          "base_uri": "https://localhost:8080/"
        },
        "id": "ByA297RSsdN8",
        "outputId": "53da4386-cb3b-415c-a2b2-c4c491914ea7"
      },
      "outputs": [
        {
          "data": {
            "image/png": "[encoded data removed]",
            "text/plain": [
              "<Figure size 700x500 with 1 Axes>"
            ]
          },
          "metadata": {},
          "output_type": "display_data"
        }
      ],
      "source": [
        "plt.figure(figsize=(7,5))\n",
        "plt.plot(history.history['loss'],lw=2,marker=\"*\",markersize=10,color=\"red\",label=\"Loss\")\n",
        "plt.plot(history.history['val_loss'],lw=2,marker=\"P\",markersize=10,color=\"green\",label=\"Validation_Loss\")\n",
        "plt.title('Model Loss')\n",
        "plt.ylabel('Loss')\n",
        "plt.xlabel('Epoch')\n",
        "plt.legend(loc=\"best\")\n",
        "plt.show()"
      ]
    },
    {
      "cell_type": "code",
      "execution_count": null,
      "metadata": {
        "colab": {
          "base_uri": "https://localhost:8080/"
        },
        "id": "UnsOsocBsdN8",
        "outputId": "385692e3-0523-4684-dedd-8490e4d4fe34"
      },
      "outputs": [
        {
          "data": {
            "image/png": "[encoded data removed]",
            "text/plain": [
              "<Figure size 700x500 with 1 Axes>"
            ]
          },
          "metadata": {},
          "output_type": "display_data"
        }
      ],
      "source": [
        "plt.figure(figsize=(7,5))\n",
        "plt.plot(history.history['accuracy'],lw=2,marker=\"H\",markersize=10,color=\"purple\",label=\"Accuracy\")\n",
        "plt.plot(history.history['val_accuracy'],lw=2,marker=\"D\",markersize=10,color=\"crimson\",label=\"Validation_Accuracy\")\n",
        "plt.title('Model Accuracy')\n",
        "plt.ylabel('Accuracy')\n",
        "plt.xlabel('Epoch')\n",
        "plt.legend(loc=\"best\")\n",
        "plt.show()"
      ]
    },
    {
      "cell_type": "markdown",
      "metadata": {
        "id": "rJXcmA2D9Gpj"
      },
      "source": [
        "# visual"
      ]
    },
    {
      "cell_type": "code",
      "execution_count": null,
      "metadata": {
        "id": "e22m_l0nOMiE"
      },
      "outputs": [],
      "source": [
        "tp = 2440\n",
        "tn = 1938\n",
        "fp = 253\n",
        "fn = 158"
      ]
    },
    {
      "cell_type": "code",
      "execution_count": null,
      "metadata": {
        "colab": {
          "base_uri": "https://localhost:8080/"
        },
        "id": "jhi7IOptOa05",
        "outputId": "d58cbdb1-0e0f-4574-f1d0-ff399db40ad4"
      },
      "outputs": [
        {
          "data": {
            "text/plain": [
              "0.9060527292981805"
            ]
          },
          "execution_count": 9,
          "metadata": {},
          "output_type": "execute_result"
        }
      ],
      "source": [
        "tp / (fp+tp)"
      ]
    },
    {
      "cell_type": "code",
      "execution_count": null,
      "metadata": {
        "id": "OTy3V76sOez_"
      },
      "outputs": [],
      "source": []
    }
  ],
  "metadata": {
    "colab": {
      "collapsed_sections": [
        "O6HTYe7usdN-",
        "peHXwhZOsdN-",
        "4j6rpBvJsdN-",
        "CYnT1Wi1sdN6",
        "oy9k3e0CsdN6",
        "7umpw-eAsdN7"
      ],
      "provenance": [],
      "gpuType": "T4",
      "include_colab_link": true
    },
    "kernelspec": {
      "display_name": "Python 3",
      "name": "python3"
    },
    "language_info": {
      "codemirror_mode": {
        "name": "ipython",
        "version": 3
      },
      "file_extension": ".py",
      "mimetype": "text/x-python",
      "name": "python",
      "nbconvert_exporter": "python",
      "pygments_lexer": "ipython3",
      "version": "3.11.4"
    },
    "accelerator": "GPU"
  },
  "nbformat": 4,
  "nbformat_minor": 0
}