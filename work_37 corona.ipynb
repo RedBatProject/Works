{
  "cells": [
    {
      "cell_type": "markdown",
      "metadata": {
        "id": "view-in-github",
        "colab_type": "text"
      },
      "source": [
        "<a href=\"https://colab.research.google.com/github/horsinnaround/Works/blob/main/work_37%20corona.ipynb\" target=\"_parent\"><img src=\"https://colab.research.google.com/assets/colab-badge.svg\" alt=\"Open In Colab\"/></a>"
      ]
    },
    {
      "cell_type": "code",
      "source": [
        "# !pip install datasets\n",
        "# from datasets import load_dataset\n",
        "\n",
        "# dataset = load_dataset(\"amazon_reviews_multi\", \"all_languages\")"
      ],
      "metadata": {
        "id": "JQRGo9dMZfgs"
      },
      "execution_count": null,
      "outputs": []
    },
    {
      "cell_type": "markdown",
      "metadata": {
        "id": "Bplenu8arMMa"
      },
      "source": [
        "# collecting data"
      ]
    },
    {
      "cell_type": "code",
      "execution_count": null,
      "metadata": {
        "colab": {
          "base_uri": "https://localhost:8080/",
          "height": 142
        },
        "id": "Z7nlpDQQowJS",
        "outputId": "56d55603-b774-4d55-e35d-fa5b0415f8d8"
      },
      "outputs": [
        {
          "output_type": "stream",
          "name": "stdout",
          "text": [
            "\u001b[?25l     \u001b[90m━━━━━━━━━━━━━━━━━━━━━━━━━━━━━━━━━━━━━━━━\u001b[0m \u001b[32m0.0/77.9 kB\u001b[0m \u001b[31m?\u001b[0m eta \u001b[36m-:--:--\u001b[0m\r\u001b[2K     \u001b[90m━━━━━━━━━━━━━━━━━━━━━━━━━━━━━━━━━━━━━━━━\u001b[0m \u001b[32m77.9/77.9 kB\u001b[0m \u001b[31m5.8 MB/s\u001b[0m eta \u001b[36m0:00:00\u001b[0m\n",
            "\u001b[?25h  Preparing metadata (setup.py) ... \u001b[?25l\u001b[?25hdone\n",
            "  Building wheel for kaggle (setup.py) ... \u001b[?25l\u001b[?25hdone\n"
          ]
        },
        {
          "output_type": "display_data",
          "data": {
            "text/plain": [
              "<IPython.core.display.HTML object>"
            ],
            "text/html": [
              "\n",
              "     <input type=\"file\" id=\"files-ee1d7153-a385-491f-9ac3-3dea6303490a\" name=\"files[]\" multiple disabled\n",
              "        style=\"border:none\" />\n",
              "     <output id=\"result-ee1d7153-a385-491f-9ac3-3dea6303490a\">\n",
              "      Upload widget is only available when the cell has been executed in the\n",
              "      current browser session. Please rerun this cell to enable.\n",
              "      </output>\n",
              "      <script>// Copyright 2017 Google LLC\n",
              "//\n",
              "// Licensed under the Apache License, Version 2.0 (the \"License\");\n",
              "// you may not use this file except in compliance with the License.\n",
              "// You may obtain a copy of the License at\n",
              "//\n",
              "//      http://www.apache.org/licenses/LICENSE-2.0\n",
              "//\n",
              "// Unless required by applicable law or agreed to in writing, software\n",
              "// distributed under the License is distributed on an \"AS IS\" BASIS,\n",
              "// WITHOUT WARRANTIES OR CONDITIONS OF ANY KIND, either express or implied.\n",
              "// See the License for the specific language governing permissions and\n",
              "// limitations under the License.\n",
              "\n",
              "/**\n",
              " * @fileoverview Helpers for google.colab Python module.\n",
              " */\n",
              "(function(scope) {\n",
              "function span(text, styleAttributes = {}) {\n",
              "  const element = document.createElement('span');\n",
              "  element.textContent = text;\n",
              "  for (const key of Object.keys(styleAttributes)) {\n",
              "    element.style[key] = styleAttributes[key];\n",
              "  }\n",
              "  return element;\n",
              "}\n",
              "\n",
              "// Max number of bytes which will be uploaded at a time.\n",
              "const MAX_PAYLOAD_SIZE = 100 * 1024;\n",
              "\n",
              "function _uploadFiles(inputId, outputId) {\n",
              "  const steps = uploadFilesStep(inputId, outputId);\n",
              "  const outputElement = document.getElementById(outputId);\n",
              "  // Cache steps on the outputElement to make it available for the next call\n",
              "  // to uploadFilesContinue from Python.\n",
              "  outputElement.steps = steps;\n",
              "\n",
              "  return _uploadFilesContinue(outputId);\n",
              "}\n",
              "\n",
              "// This is roughly an async generator (not supported in the browser yet),\n",
              "// where there are multiple asynchronous steps and the Python side is going\n",
              "// to poll for completion of each step.\n",
              "// This uses a Promise to block the python side on completion of each step,\n",
              "// then passes the result of the previous step as the input to the next step.\n",
              "function _uploadFilesContinue(outputId) {\n",
              "  const outputElement = document.getElementById(outputId);\n",
              "  const steps = outputElement.steps;\n",
              "\n",
              "  const next = steps.next(outputElement.lastPromiseValue);\n",
              "  return Promise.resolve(next.value.promise).then((value) => {\n",
              "    // Cache the last promise value to make it available to the next\n",
              "    // step of the generator.\n",
              "    outputElement.lastPromiseValue = value;\n",
              "    return next.value.response;\n",
              "  });\n",
              "}\n",
              "\n",
              "/**\n",
              " * Generator function which is called between each async step of the upload\n",
              " * process.\n",
              " * @param {string} inputId Element ID of the input file picker element.\n",
              " * @param {string} outputId Element ID of the output display.\n",
              " * @return {!Iterable<!Object>} Iterable of next steps.\n",
              " */\n",
              "function* uploadFilesStep(inputId, outputId) {\n",
              "  const inputElement = document.getElementById(inputId);\n",
              "  inputElement.disabled = false;\n",
              "\n",
              "  const outputElement = document.getElementById(outputId);\n",
              "  outputElement.innerHTML = '';\n",
              "\n",
              "  const pickedPromise = new Promise((resolve) => {\n",
              "    inputElement.addEventListener('change', (e) => {\n",
              "      resolve(e.target.files);\n",
              "    });\n",
              "  });\n",
              "\n",
              "  const cancel = document.createElement('button');\n",
              "  inputElement.parentElement.appendChild(cancel);\n",
              "  cancel.textContent = 'Cancel upload';\n",
              "  const cancelPromise = new Promise((resolve) => {\n",
              "    cancel.onclick = () => {\n",
              "      resolve(null);\n",
              "    };\n",
              "  });\n",
              "\n",
              "  // Wait for the user to pick the files.\n",
              "  const files = yield {\n",
              "    promise: Promise.race([pickedPromise, cancelPromise]),\n",
              "    response: {\n",
              "      action: 'starting',\n",
              "    }\n",
              "  };\n",
              "\n",
              "  cancel.remove();\n",
              "\n",
              "  // Disable the input element since further picks are not allowed.\n",
              "  inputElement.disabled = true;\n",
              "\n",
              "  if (!files) {\n",
              "    return {\n",
              "      response: {\n",
              "        action: 'complete',\n",
              "      }\n",
              "    };\n",
              "  }\n",
              "\n",
              "  for (const file of files) {\n",
              "    const li = document.createElement('li');\n",
              "    li.append(span(file.name, {fontWeight: 'bold'}));\n",
              "    li.append(span(\n",
              "        `(${file.type || 'n/a'}) - ${file.size} bytes, ` +\n",
              "        `last modified: ${\n",
              "            file.lastModifiedDate ? file.lastModifiedDate.toLocaleDateString() :\n",
              "                                    'n/a'} - `));\n",
              "    const percent = span('0% done');\n",
              "    li.appendChild(percent);\n",
              "\n",
              "    outputElement.appendChild(li);\n",
              "\n",
              "    const fileDataPromise = new Promise((resolve) => {\n",
              "      const reader = new FileReader();\n",
              "      reader.onload = (e) => {\n",
              "        resolve(e.target.result);\n",
              "      };\n",
              "      reader.readAsArrayBuffer(file);\n",
              "    });\n",
              "    // Wait for the data to be ready.\n",
              "    let fileData = yield {\n",
              "      promise: fileDataPromise,\n",
              "      response: {\n",
              "        action: 'continue',\n",
              "      }\n",
              "    };\n",
              "\n",
              "    // Use a chunked sending to avoid message size limits. See b/62115660.\n",
              "    let position = 0;\n",
              "    do {\n",
              "      const length = Math.min(fileData.byteLength - position, MAX_PAYLOAD_SIZE);\n",
              "      const chunk = new Uint8Array(fileData, position, length);\n",
              "      position += length;\n",
              "\n",
              "      const base64 = btoa(String.fromCharCode.apply(null, chunk));\n",
              "      yield {\n",
              "        response: {\n",
              "          action: 'append',\n",
              "          file: file.name,\n",
              "          data: base64,\n",
              "        },\n",
              "      };\n",
              "\n",
              "      let percentDone = fileData.byteLength === 0 ?\n",
              "          100 :\n",
              "          Math.round((position / fileData.byteLength) * 100);\n",
              "      percent.textContent = `${percentDone}% done`;\n",
              "\n",
              "    } while (position < fileData.byteLength);\n",
              "  }\n",
              "\n",
              "  // All done.\n",
              "  yield {\n",
              "    response: {\n",
              "      action: 'complete',\n",
              "    }\n",
              "  };\n",
              "}\n",
              "\n",
              "scope.google = scope.google || {};\n",
              "scope.google.colab = scope.google.colab || {};\n",
              "scope.google.colab._files = {\n",
              "  _uploadFiles,\n",
              "  _uploadFilesContinue,\n",
              "};\n",
              "})(self);\n",
              "</script> "
            ]
          },
          "metadata": {}
        },
        {
          "output_type": "stream",
          "name": "stdout",
          "text": [
            "Saving kaggle.json to kaggle.json\n"
          ]
        },
        {
          "output_type": "execute_result",
          "data": {
            "text/plain": [
              "{'kaggle.json': b'{\"username\":\"willyvonka\",\"key\":\"35867c8c758a23f06c18a2a0b9078ed8\"}'}"
            ]
          },
          "metadata": {},
          "execution_count": 1
        }
      ],
      "source": [
        "# !pip install -q kaggle==1.5.15\n",
        "# from google.colab import files\n",
        "# files.upload()\n"
      ]
    },
    {
      "cell_type": "code",
      "source": [
        "# !mkdir ~/.kaggle\n",
        "# ! cp kaggle.json ~/.kaggle/\n",
        "# ! chmod 600 ~/.kaggle/kaggle.json\n"
      ],
      "metadata": {
        "id": "p1nP4K5jmzUy",
        "colab": {
          "base_uri": "https://localhost:8080/"
        },
        "outputId": "0beaf6ce-9048-431a-9f76-d822a719fa0c"
      },
      "execution_count": null,
      "outputs": [
        {
          "output_type": "stream",
          "name": "stdout",
          "text": [
            "mkdir: cannot create directory ‘/root/.kaggle’: File exists\n"
          ]
        }
      ]
    },
    {
      "cell_type": "code",
      "source": [
        "# !kaggle datasets download -d datatattle/covid-19-nlp-text-classification"
      ],
      "metadata": {
        "colab": {
          "base_uri": "https://localhost:8080/"
        },
        "id": "hq4lEgeSm0qm",
        "outputId": "db812e32-f8e1-404f-a402-ed9ec7595006"
      },
      "execution_count": null,
      "outputs": [
        {
          "output_type": "stream",
          "name": "stdout",
          "text": [
            "Downloading covid-19-nlp-text-classification.zip to /content\n",
            "\r  0% 0.00/4.38M [00:00<?, ?B/s]\n",
            "\r100% 4.38M/4.38M [00:00<00:00, 70.7MB/s]\n"
          ]
        }
      ]
    },
    {
      "cell_type": "code",
      "execution_count": null,
      "metadata": {
        "colab": {
          "base_uri": "https://localhost:8080/"
        },
        "id": "wqZXZIw5o1Wb",
        "outputId": "dde72e65-7146-4323-80d2-9bf2c02b39a2"
      },
      "outputs": [
        {
          "output_type": "stream",
          "name": "stdout",
          "text": [
            "Archive:  /content/covid-19-nlp-text-classification.zip\n",
            "  inflating: Corona_NLP_test.csv     \n",
            "  inflating: Corona_NLP_train.csv    \n"
          ]
        }
      ],
      "source": [
        "# !unzip /content/covid-19-nlp-text-classification.zip"
      ]
    },
    {
      "cell_type": "code",
      "execution_count": 3,
      "metadata": {
        "id": "hTi8qVYVpLLs"
      },
      "outputs": [],
      "source": [
        "import pandas as pd"
      ]
    },
    {
      "cell_type": "code",
      "execution_count": 4,
      "metadata": {
        "id": "b4bLHdf5pMNr"
      },
      "outputs": [],
      "source": [
        "# data1 = pd.read_csv('/content/Corona_NLP_train.csv', encoding=\"latin-1\")\n",
        "# data2 = pd.read_csv('/content/Corona_NLP_test.csv', encoding=\"latin-1\")\n",
        "\n",
        "# data = pd.concat([data1,data2])"
      ]
    },
    {
      "cell_type": "code",
      "source": [
        "# data = data[['OriginalTweet','Sentiment']]"
      ],
      "metadata": {
        "id": "Fs5PVle2JDSt"
      },
      "execution_count": 5,
      "outputs": []
    },
    {
      "cell_type": "code",
      "source": [
        "# data.to_csv('/content/drive/MyDrive/work 37 corona /data.csv',index=False)"
      ],
      "metadata": {
        "id": "rBOdMgFfJSdt"
      },
      "execution_count": 6,
      "outputs": []
    },
    {
      "cell_type": "code",
      "source": [
        "data = pd.read_csv('/content/drive/MyDrive/work 37 corona /data.csv')"
      ],
      "metadata": {
        "id": "gTEhE8TlJj50"
      },
      "execution_count": 7,
      "outputs": []
    },
    {
      "cell_type": "code",
      "source": [
        "path = '/content/drive/MyDrive/work 37 corona /'"
      ],
      "metadata": {
        "id": "yygY2y4HJa1v"
      },
      "execution_count": 8,
      "outputs": []
    },
    {
      "cell_type": "code",
      "source": [
        "data.columns = ['tweet','sentiment']"
      ],
      "metadata": {
        "id": "vJxmR-ctJifZ"
      },
      "execution_count": 9,
      "outputs": []
    },
    {
      "cell_type": "code",
      "source": [
        "# data.drop('tweet',axis=1,inplace=True)"
      ],
      "metadata": {
        "id": "kSlgIHZwX7x4"
      },
      "execution_count": 10,
      "outputs": []
    },
    {
      "cell_type": "code",
      "execution_count": 11,
      "metadata": {
        "id": "uk32zyP3pVfh"
      },
      "outputs": [],
      "source": [
        "data.drop_duplicates(subset=['tweet'],inplace=True)"
      ]
    },
    {
      "cell_type": "code",
      "execution_count": 12,
      "metadata": {
        "id": "cnnDLawhqL6e"
      },
      "outputs": [],
      "source": [
        "data.dropna(subset=['tweet'],inplace=True)"
      ]
    },
    {
      "cell_type": "code",
      "execution_count": 13,
      "metadata": {
        "colab": {
          "base_uri": "https://localhost:8080/"
        },
        "id": "VHaT2wmZqUkI",
        "outputId": "df62ea09-1538-4663-9ac0-ae8767e49c01"
      },
      "outputs": [
        {
          "output_type": "execute_result",
          "data": {
            "text/plain": [
              "(44956, 2)"
            ]
          },
          "metadata": {},
          "execution_count": 13
        }
      ],
      "source": [
        "data.shape"
      ]
    },
    {
      "cell_type": "code",
      "source": [
        "data['sentiment'].value_counts()"
      ],
      "metadata": {
        "colab": {
          "base_uri": "https://localhost:8080/"
        },
        "id": "25fDg0KGJ-7f",
        "outputId": "2457f49c-1d0d-43b4-c8b2-71f311f0efe9"
      },
      "execution_count": 14,
      "outputs": [
        {
          "output_type": "execute_result",
          "data": {
            "text/plain": [
              "Positive              12369\n",
              "Negative              10958\n",
              "Neutral                8330\n",
              "Extremely Positive     7223\n",
              "Extremely Negative     6073\n",
              "Name: sentiment, dtype: int64"
            ]
          },
          "metadata": {},
          "execution_count": 14
        }
      ]
    },
    {
      "cell_type": "code",
      "execution_count": 15,
      "metadata": {
        "id": "2qfBMX8PqUZp"
      },
      "outputs": [],
      "source": [
        "# !mkdir /content/drive/MyDrive/emotion-detection/\n",
        "# data.to_csv('/content/drive/MyDrive/emotion-detection/data.csv',index=False)"
      ]
    },
    {
      "cell_type": "code",
      "source": [
        "# import pandas as pd\n",
        "# data = pd.read_csv('/content/drive/MyDrive/emotion-detection/data.csv')"
      ],
      "metadata": {
        "id": "BPKM1aq-w-B1"
      },
      "execution_count": 16,
      "outputs": []
    },
    {
      "cell_type": "code",
      "source": [
        "# import os\n",
        "# path = '/content/drive/MyDrive/emotion-detection/resluts/'\n",
        "# os.mkdir(path)"
      ],
      "metadata": {
        "id": "b8P9MoOrt1lf"
      },
      "execution_count": 17,
      "outputs": []
    },
    {
      "cell_type": "markdown",
      "metadata": {
        "id": "A3kHccU4rJ8q"
      },
      "source": [
        "# Work on data"
      ]
    },
    {
      "cell_type": "code",
      "execution_count": 18,
      "metadata": {
        "colab": {
          "base_uri": "https://localhost:8080/"
        },
        "id": "HC9A7vtqK74k",
        "outputId": "a3f3d62a-c2e7-4791-e8c7-a74ccad0ed1c"
      },
      "outputs": [
        {
          "output_type": "stream",
          "name": "stdout",
          "text": [
            "Drive already mounted at /content/drive; to attempt to forcibly remount, call drive.mount(\"/content/drive\", force_remount=True).\n"
          ]
        }
      ],
      "source": [
        "from google.colab import drive\n",
        "drive.mount('/content/drive')"
      ]
    },
    {
      "cell_type": "code",
      "execution_count": 19,
      "metadata": {
        "id": "5A6RpmNmUwn5"
      },
      "outputs": [],
      "source": [
        "import pandas as pd\n",
        "import numpy as np\n",
        "import matplotlib.pyplot as plt\n",
        "import seaborn as sns"
      ]
    },
    {
      "cell_type": "code",
      "execution_count": 20,
      "metadata": {
        "id": "dr1hKemlH4iS"
      },
      "outputs": [],
      "source": [
        "# plt.rcParams['figure.figsize'] = [10,6]\n",
        "# plt.rcParams['figure.dpi'] = 140\n",
        "# plt.rcParams['savefig.dpi'] = 140\n",
        "# plt.rcParams['font.family'] = 'serif'\n",
        "# plt.rcParams['font.serif'] = ['Times New Roman'] + plt.rcParams['font.serif']"
      ]
    },
    {
      "cell_type": "code",
      "source": [
        "data.columns"
      ],
      "metadata": {
        "colab": {
          "base_uri": "https://localhost:8080/"
        },
        "id": "utCiqwBBYe0J",
        "outputId": "7719ceab-7e2d-4457-82b5-60719ce0c152"
      },
      "execution_count": 21,
      "outputs": [
        {
          "output_type": "execute_result",
          "data": {
            "text/plain": [
              "Index(['tweet', 'sentiment'], dtype='object')"
            ]
          },
          "metadata": {},
          "execution_count": 21
        }
      ]
    },
    {
      "cell_type": "code",
      "execution_count": 22,
      "metadata": {
        "id": "q9axf6k3tOZg"
      },
      "outputs": [],
      "source": [
        "b = dict(data['sentiment'].value_counts())"
      ]
    },
    {
      "cell_type": "code",
      "execution_count": 23,
      "metadata": {
        "id": "C57bpNhe90X7"
      },
      "outputs": [],
      "source": [
        "f = pd.DataFrame.from_dict(b, orient='index')"
      ]
    },
    {
      "cell_type": "code",
      "execution_count": 24,
      "metadata": {
        "id": "-KVm72nzXIcK",
        "colab": {
          "base_uri": "https://localhost:8080/",
          "height": 206
        },
        "outputId": "c959bfb9-e166-4ab5-983a-1d32ff5338f7"
      },
      "outputs": [
        {
          "output_type": "execute_result",
          "data": {
            "text/plain": [
              "                        0\n",
              "Positive            12369\n",
              "Negative            10958\n",
              "Neutral              8330\n",
              "Extremely Positive   7223\n",
              "Extremely Negative   6073"
            ],
            "text/html": [
              "\n",
              "  <div id=\"df-9a938a20-39c3-4ae5-8447-df56c07a0c72\">\n",
              "    <div class=\"colab-df-container\">\n",
              "      <div>\n",
              "<style scoped>\n",
              "    .dataframe tbody tr th:only-of-type {\n",
              "        vertical-align: middle;\n",
              "    }\n",
              "\n",
              "    .dataframe tbody tr th {\n",
              "        vertical-align: top;\n",
              "    }\n",
              "\n",
              "    .dataframe thead th {\n",
              "        text-align: right;\n",
              "    }\n",
              "</style>\n",
              "<table border=\"1\" class=\"dataframe\">\n",
              "  <thead>\n",
              "    <tr style=\"text-align: right;\">\n",
              "      <th></th>\n",
              "      <th>0</th>\n",
              "    </tr>\n",
              "  </thead>\n",
              "  <tbody>\n",
              "    <tr>\n",
              "      <th>Positive</th>\n",
              "      <td>12369</td>\n",
              "    </tr>\n",
              "    <tr>\n",
              "      <th>Negative</th>\n",
              "      <td>10958</td>\n",
              "    </tr>\n",
              "    <tr>\n",
              "      <th>Neutral</th>\n",
              "      <td>8330</td>\n",
              "    </tr>\n",
              "    <tr>\n",
              "      <th>Extremely Positive</th>\n",
              "      <td>7223</td>\n",
              "    </tr>\n",
              "    <tr>\n",
              "      <th>Extremely Negative</th>\n",
              "      <td>6073</td>\n",
              "    </tr>\n",
              "  </tbody>\n",
              "</table>\n",
              "</div>\n",
              "      <button class=\"colab-df-convert\" onclick=\"convertToInteractive('df-9a938a20-39c3-4ae5-8447-df56c07a0c72')\"\n",
              "              title=\"Convert this dataframe to an interactive table.\"\n",
              "              style=\"display:none;\">\n",
              "        \n",
              "  <svg xmlns=\"http://www.w3.org/2000/svg\" height=\"24px\"viewBox=\"0 0 24 24\"\n",
              "       width=\"24px\">\n",
              "    <path d=\"M0 0h24v24H0V0z\" fill=\"none\"/>\n",
              "    <path d=\"M18.56 5.44l.94 2.06.94-2.06 2.06-.94-2.06-.94-.94-2.06-.94 2.06-2.06.94zm-11 1L8.5 8.5l.94-2.06 2.06-.94-2.06-.94L8.5 2.5l-.94 2.06-2.06.94zm10 10l.94 2.06.94-2.06 2.06-.94-2.06-.94-.94-2.06-.94 2.06-2.06.94z\"/><path d=\"M17.41 7.96l-1.37-1.37c-.4-.4-.92-.59-1.43-.59-.52 0-1.04.2-1.43.59L10.3 9.45l-7.72 7.72c-.78.78-.78 2.05 0 2.83L4 21.41c.39.39.9.59 1.41.59.51 0 1.02-.2 1.41-.59l7.78-7.78 2.81-2.81c.8-.78.8-2.07 0-2.86zM5.41 20L4 18.59l7.72-7.72 1.47 1.35L5.41 20z\"/>\n",
              "  </svg>\n",
              "      </button>\n",
              "      \n",
              "  <style>\n",
              "    .colab-df-container {\n",
              "      display:flex;\n",
              "      flex-wrap:wrap;\n",
              "      gap: 12px;\n",
              "    }\n",
              "\n",
              "    .colab-df-convert {\n",
              "      background-color: #E8F0FE;\n",
              "      border: none;\n",
              "      border-radius: 50%;\n",
              "      cursor: pointer;\n",
              "      display: none;\n",
              "      fill: #1967D2;\n",
              "      height: 32px;\n",
              "      padding: 0 0 0 0;\n",
              "      width: 32px;\n",
              "    }\n",
              "\n",
              "    .colab-df-convert:hover {\n",
              "      background-color: #E2EBFA;\n",
              "      box-shadow: 0px 1px 2px rgba(60, 64, 67, 0.3), 0px 1px 3px 1px rgba(60, 64, 67, 0.15);\n",
              "      fill: #174EA6;\n",
              "    }\n",
              "\n",
              "    [theme=dark] .colab-df-convert {\n",
              "      background-color: #3B4455;\n",
              "      fill: #D2E3FC;\n",
              "    }\n",
              "\n",
              "    [theme=dark] .colab-df-convert:hover {\n",
              "      background-color: #434B5C;\n",
              "      box-shadow: 0px 1px 3px 1px rgba(0, 0, 0, 0.15);\n",
              "      filter: drop-shadow(0px 1px 2px rgba(0, 0, 0, 0.3));\n",
              "      fill: #FFFFFF;\n",
              "    }\n",
              "  </style>\n",
              "\n",
              "      <script>\n",
              "        const buttonEl =\n",
              "          document.querySelector('#df-9a938a20-39c3-4ae5-8447-df56c07a0c72 button.colab-df-convert');\n",
              "        buttonEl.style.display =\n",
              "          google.colab.kernel.accessAllowed ? 'block' : 'none';\n",
              "\n",
              "        async function convertToInteractive(key) {\n",
              "          const element = document.querySelector('#df-9a938a20-39c3-4ae5-8447-df56c07a0c72');\n",
              "          const dataTable =\n",
              "            await google.colab.kernel.invokeFunction('convertToInteractive',\n",
              "                                                     [key], {});\n",
              "          if (!dataTable) return;\n",
              "\n",
              "          const docLinkHtml = 'Like what you see? Visit the ' +\n",
              "            '<a target=\"_blank\" href=https://colab.research.google.com/notebooks/data_table.ipynb>data table notebook</a>'\n",
              "            + ' to learn more about interactive tables.';\n",
              "          element.innerHTML = '';\n",
              "          dataTable['output_type'] = 'display_data';\n",
              "          await google.colab.output.renderOutput(dataTable, element);\n",
              "          const docLink = document.createElement('div');\n",
              "          docLink.innerHTML = docLinkHtml;\n",
              "          element.appendChild(docLink);\n",
              "        }\n",
              "      </script>\n",
              "    </div>\n",
              "  </div>\n",
              "  "
            ]
          },
          "metadata": {},
          "execution_count": 24
        }
      ],
      "source": [
        "f"
      ]
    },
    {
      "cell_type": "code",
      "execution_count": 25,
      "metadata": {
        "id": "2OA42AMvXOjE"
      },
      "outputs": [],
      "source": [
        "f['precentage'] = f[0]/f[0].sum()"
      ]
    },
    {
      "cell_type": "code",
      "execution_count": 26,
      "metadata": {
        "id": "wLx8Rbrp-Cqt"
      },
      "outputs": [],
      "source": [
        "f.drop(0,axis=1,inplace=True)"
      ]
    },
    {
      "cell_type": "code",
      "source": [
        "f.plot(kind='barh',subplots=True,legend=False)\n",
        "plt.savefig(f'{path}labels_pie.png',bbox_inches='tight')\n",
        "f.to_csv(f'{path}labels_pie.csv')"
      ],
      "metadata": {
        "colab": {
          "base_uri": "https://localhost:8080/",
          "height": 452
        },
        "id": "AF9crtDftCYe",
        "outputId": "834c9713-e498-4c54-e345-6792f92c392b"
      },
      "execution_count": 28,
      "outputs": [
        {
          "output_type": "display_data",
          "data": {
            "text/plain": [
              "<Figure size 640x480 with 1 Axes>"
            ],
            "image/png": "[encoded data removed]"
          },
          "metadata": {}
        }
      ]
    },
    {
      "cell_type": "markdown",
      "metadata": {
        "id": "zTsMblWnt0FH"
      },
      "source": [
        "# Pre Processing"
      ]
    },
    {
      "cell_type": "code",
      "source": [
        "# import pandas as pd\n",
        "# data = pd.read_csv('/content/drive/MyDrive/emotion-detection/data.csv')"
      ],
      "metadata": {
        "id": "lJnz1fyjwc47"
      },
      "execution_count": null,
      "outputs": []
    },
    {
      "cell_type": "code",
      "execution_count": 29,
      "metadata": {
        "id": "L4l70KNRt2jI"
      },
      "outputs": [],
      "source": [
        "import re"
      ]
    },
    {
      "cell_type": "code",
      "execution_count": 30,
      "metadata": {
        "id": "6P-RAiJvt3N6"
      },
      "outputs": [],
      "source": [
        "def low(x):\n",
        "    x = x.lower()\n",
        "    return x"
      ]
    },
    {
      "cell_type": "code",
      "execution_count": 31,
      "metadata": {
        "id": "kmhrhhsCur12"
      },
      "outputs": [],
      "source": [
        "def removepunc(x):\n",
        "    x = re.sub(r\" ' \",\"\",x)\n",
        "    x = re.sub(r\"'\",\"\",x)\n",
        "    x = re.sub(r\"\\r\",\" \",x)\n",
        "    x = re.sub(r\"\\n\",\" \",x)\n",
        "    # x = re.sub(r\" / \",\"\",x)\n",
        "\n",
        "    # x = re.sub(r\" . \",\"\",x)\n",
        "\n",
        "    x = re.sub(r\"(@[0-9A-Za-z]+)|([^0-9A-Za-z \\t])|(\\w+:\\/\\/\\S+)|^rt|http.+?\", \"\", x)\n",
        "    # x = re.sub(r\"(@[A-Za-z0-9]+)|([^0-9A-Za-z \\t])|(\\w+:\\/\\/\\S+)|^rt|http.+?\", \" \", x)\n",
        "    x = re.sub(r\"  \",\" \",x)\n",
        "    x = re.sub(r\"  \",\" \",x)\n",
        "    x = re.sub(r\"  \",\" \",x)\n",
        "    x = re.sub(r\"  \",\" \",x)\n",
        "    x = re.sub(r\"  \",\" \",x)\n",
        "    x = re.sub(r\"  \",\" \",x)\n",
        "    x = re.sub(r\"  \",\" \",x)\n",
        "    x = re.sub(r\"  \",\" \",x)\n",
        "    return x"
      ]
    },
    {
      "cell_type": "code",
      "execution_count": 32,
      "metadata": {
        "id": "kJO_846aVndy"
      },
      "outputs": [],
      "source": [
        "def lenword(x):\n",
        "  # l = x.spllit()\n",
        "  x = ' '.join([word for word in x.split() if (len(word) > 1 or word in (['i','a']))])\n",
        "  return x"
      ]
    },
    {
      "cell_type": "code",
      "source": [
        "lab = 'tweet'"
      ],
      "metadata": {
        "id": "EakHNlj_Kqz3"
      },
      "execution_count": 33,
      "outputs": []
    },
    {
      "cell_type": "code",
      "execution_count": 34,
      "metadata": {
        "id": "9oU5IrQduIMY"
      },
      "outputs": [],
      "source": [
        "data[f'{lab}'] = data[f'{lab}'].apply(lambda x:low(x))"
      ]
    },
    {
      "cell_type": "code",
      "execution_count": 35,
      "metadata": {
        "id": "VBzH1n_ovCfn"
      },
      "outputs": [],
      "source": [
        "data[f'{lab}'] = data[f'{lab}'].apply(lambda x:removepunc(x))"
      ]
    },
    {
      "cell_type": "code",
      "execution_count": 36,
      "metadata": {
        "id": "MDCO7rfev6Xi"
      },
      "outputs": [],
      "source": [
        "# data['utt'] = data['utt'].apply(lambda x:removedate(x))"
      ]
    },
    {
      "cell_type": "code",
      "execution_count": 37,
      "metadata": {
        "id": "r47axSAJ3Aqx"
      },
      "outputs": [],
      "source": [
        "data[f'{lab}'] = data[f'{lab}'].apply(lambda x:lenword(x))"
      ]
    },
    {
      "cell_type": "code",
      "execution_count": 38,
      "metadata": {
        "id": "25ftC6D8uPBk"
      },
      "outputs": [],
      "source": [
        "# data['text'] = data['text'].apply(lambda x:stopw(x))\n"
      ]
    },
    {
      "cell_type": "code",
      "execution_count": 39,
      "metadata": {
        "id": "tHDVhf2LvJeS"
      },
      "outputs": [],
      "source": [
        "data['len'] = data[f'{lab}'].str.split().apply(len)"
      ]
    },
    {
      "cell_type": "code",
      "execution_count": 40,
      "metadata": {
        "colab": {
          "base_uri": "https://localhost:8080/"
        },
        "id": "HZrimP9jwqpi",
        "outputId": "b9c98486-2920-4b6d-b544-e869120f8229"
      },
      "outputs": [
        {
          "output_type": "execute_result",
          "data": {
            "text/plain": [
              "62"
            ]
          },
          "metadata": {},
          "execution_count": 40
        }
      ],
      "source": [
        "data.len.max()"
      ]
    },
    {
      "cell_type": "code",
      "execution_count": 41,
      "metadata": {
        "colab": {
          "base_uri": "https://localhost:8080/",
          "height": 449
        },
        "id": "2XUD_tC0wdxO",
        "outputId": "9c5f8a8b-04e7-420e-8c27-755d2cf11a88"
      },
      "outputs": [
        {
          "output_type": "display_data",
          "data": {
            "text/plain": [
              "<Figure size 640x480 with 1 Axes>"
            ],
            "image/png": "[encoded data removed]"
          },
          "metadata": {}
        }
      ],
      "source": [
        "# sns.histplot(data['len'],kind='kde')\n",
        "sns.kdeplot(data=data['len'],multiple=\"stack\")\n",
        "data['len'].to_csv(f'{path}wordlen.csv',index=False)\n",
        "plt.savefig(f'{path}wordlen.png',bbox_inches='tight')"
      ]
    },
    {
      "cell_type": "code",
      "execution_count": 42,
      "metadata": {
        "id": "xLTtoKfpx_LG"
      },
      "outputs": [],
      "source": [
        "# import tensorflow as tf\n",
        "# import numpy as np\n",
        "# # Load GloVe embeddings\n",
        "# embeddings_index = {}\n",
        "# with open('/content/drive/MyDrive/glove.6B.300d.txt', encoding='utf-8') as f:\n",
        "#     for line in f:\n",
        "#         values = line.split()\n",
        "#         word = values[0]\n",
        "#         coefs = np.asarray(values[1:], dtype='float32')\n",
        "#         embeddings_index[word] = coefs"
      ]
    },
    {
      "cell_type": "code",
      "execution_count": 43,
      "metadata": {
        "id": "MOryG-wz1nHc"
      },
      "outputs": [],
      "source": [
        "# # import required libraries\n",
        "# import numpy as np\n",
        "# from numpy.linalg import norm\n",
        "\n",
        "# A = embeddings_index['difficult']\n",
        "# B = embeddings_index[\"problem\"]\n",
        "# # compute cosine similarity\n",
        "# cosine = np.dot(A,B)/(norm(A)*norm(B))\n",
        "# print(\"Cosine Similarity:\", cosine)"
      ]
    },
    {
      "cell_type": "code",
      "execution_count": 44,
      "metadata": {
        "id": "spdvhKMAAfmR"
      },
      "outputs": [],
      "source": [
        "import tensorflow as tf"
      ]
    },
    {
      "cell_type": "code",
      "execution_count": null,
      "metadata": {
        "id": "lgolYNWY1poD"
      },
      "outputs": [],
      "source": [
        "from keras.preprocessing.text import Tokenizer\n",
        "from tensorflow.keras.preprocessing.sequence import pad_sequences\n",
        "import numpy as np\n",
        "maxlen = 60\n",
        "max_words = 5000\n",
        "tokenizer = Tokenizer(num_words=max_words)\n",
        "tokenizer.fit_on_texts(data[f'{lab}'])\n",
        "Xsequences = tokenizer.texts_to_sequences(data[f'{lab}'])"
      ]
    },
    {
      "cell_type": "code",
      "execution_count": null,
      "metadata": {
        "id": "YMvt-p28fh8y"
      },
      "outputs": [],
      "source": [
        "Xsequences = tf.keras.preprocessing.sequence.pad_sequences(Xsequences, maxlen=maxlen)"
      ]
    },
    {
      "cell_type": "code",
      "execution_count": null,
      "metadata": {
        "id": "RGpEif35b4-4",
        "colab": {
          "base_uri": "https://localhost:8080/"
        },
        "outputId": "85aae45c-b413-40ef-cce6-a13be2c2e3b1"
      },
      "outputs": [
        {
          "output_type": "execute_result",
          "data": {
            "text/plain": [
              "54589"
            ]
          },
          "metadata": {},
          "execution_count": 46
        }
      ],
      "source": [
        "len(tokenizer.word_index)"
      ]
    },
    {
      "cell_type": "markdown",
      "metadata": {
        "id": "a9ZQyqQSaCz_"
      },
      "source": [
        "# Model"
      ]
    },
    {
      "cell_type": "code",
      "execution_count": null,
      "metadata": {
        "colab": {
          "base_uri": "https://localhost:8080/"
        },
        "id": "r2fWsiFeaGw7",
        "outputId": "4b7dcc75-ff43-4bf6-9180-ac96dc00a869"
      },
      "outputs": [
        {
          "output_type": "execute_result",
          "data": {
            "text/plain": [
              "Index(['tweet', 'sentiment', 'len'], dtype='object')"
            ]
          },
          "metadata": {},
          "execution_count": 47
        }
      ],
      "source": [
        "data.columns"
      ]
    },
    {
      "cell_type": "code",
      "execution_count": null,
      "metadata": {
        "id": "bYzfstefaEch",
        "colab": {
          "base_uri": "https://localhost:8080/"
        },
        "outputId": "dd9c14f1-5e16-4475-81d2-8934f66db3a7"
      },
      "outputs": [
        {
          "output_type": "execute_result",
          "data": {
            "text/plain": [
              "array([[1., 0., 0., 0., 0.],\n",
              "       [0., 1., 0., 0., 0.],\n",
              "       [0., 1., 0., 0., 0.],\n",
              "       ...,\n",
              "       [1., 0., 0., 0., 0.],\n",
              "       [0., 0., 1., 0., 0.],\n",
              "       [0., 0., 0., 0., 1.]])"
            ]
          },
          "metadata": {},
          "execution_count": 48
        }
      ],
      "source": [
        "Y = data['sentiment'].factorize()[0]\n",
        "labels = Y\n",
        "arr = labels\n",
        "arr.shape\n",
        "labels = np.zeros((arr.size, arr.max()+1))\n",
        "labels.shape\n",
        "labels[np.arange(arr.size), arr] = 1\n",
        "labels"
      ]
    },
    {
      "cell_type": "code",
      "execution_count": null,
      "metadata": {
        "id": "CCBtvCu3aE7o"
      },
      "outputs": [],
      "source": [
        "from sklearn.model_selection import train_test_split\n",
        "X_train, X_test, y_train, y_test = train_test_split(Xsequences,labels,test_size=0.2, random_state=42)\n",
        "# X_train, X_test, y_train, y_test = Xsequences[train.index],Xsequences[test.index],labels[train.index],labels[test.index]\n",
        "# X_val, X_test, y_val, y_test = train_test_split(X_test,y_test,test_size=0.5, random_state=42)"
      ]
    },
    {
      "cell_type": "code",
      "source": [],
      "metadata": {
        "id": "rOXGnczIG0qg"
      },
      "execution_count": null,
      "outputs": []
    },
    {
      "cell_type": "code",
      "source": [
        "y_train"
      ],
      "metadata": {
        "colab": {
          "base_uri": "https://localhost:8080/"
        },
        "id": "Bsv7j8llK8uN",
        "outputId": "b87c9193-a25a-490c-8ba0-e425ed50169c"
      },
      "execution_count": null,
      "outputs": [
        {
          "output_type": "execute_result",
          "data": {
            "text/plain": [
              "array([[0., 1., 0., 0., 0.],\n",
              "       [0., 1., 0., 0., 0.],\n",
              "       [0., 0., 0., 1., 0.],\n",
              "       ...,\n",
              "       [0., 0., 1., 0., 0.],\n",
              "       [1., 0., 0., 0., 0.],\n",
              "       [0., 0., 1., 0., 0.]])"
            ]
          },
          "metadata": {},
          "execution_count": 50
        }
      ]
    },
    {
      "cell_type": "code",
      "execution_count": null,
      "metadata": {
        "id": "QUfErZzXAt-7"
      },
      "outputs": [],
      "source": [
        "embedding_dim = 50"
      ]
    },
    {
      "cell_type": "code",
      "execution_count": null,
      "metadata": {
        "id": "w8NgYgtj6xT0"
      },
      "outputs": [],
      "source": [
        "# max_words = max_words-1"
      ]
    },
    {
      "cell_type": "code",
      "source": [
        "import tensorflow as tf\n"
      ],
      "metadata": {
        "id": "z4XXR6B14MaD"
      },
      "execution_count": null,
      "outputs": []
    },
    {
      "cell_type": "code",
      "source": [
        "Xsequences.dtype"
      ],
      "metadata": {
        "colab": {
          "base_uri": "https://localhost:8080/"
        },
        "id": "ILbiaqCG46cr",
        "outputId": "f2a30530-56d4-4f94-b64b-cc928bb9e2ac"
      },
      "execution_count": null,
      "outputs": [
        {
          "output_type": "execute_result",
          "data": {
            "text/plain": [
              "dtype('int32')"
            ]
          },
          "metadata": {},
          "execution_count": 54
        }
      ]
    },
    {
      "cell_type": "code",
      "execution_count": null,
      "metadata": {
        "id": "aQbqP0NXORh3"
      },
      "outputs": [],
      "source": [
        "from keras.callbacks import ReduceLROnPlateau , EarlyStopping\n",
        "from keras.utils import to_categorical\n",
        "from tensorflow.keras.optimizers import Adam, Adamax"
      ]
    },
    {
      "cell_type": "code",
      "execution_count": null,
      "metadata": {
        "id": "JZJNxEz1ORtC"
      },
      "outputs": [],
      "source": [
        "es = EarlyStopping(monitor=\"val_loss\", mode=\"min\", verbose=1, patience=5)\n",
        "learning_rate_reduction = ReduceLROnPlateau(monitor='val_accuracy',\n",
        "                                            patience=3,\n",
        "                                            verbose=1,\n",
        "                                            factor=0.5,\n",
        "                                            min_lr=0.00001)"
      ]
    },
    {
      "cell_type": "code",
      "source": [
        "y_test.shape"
      ],
      "metadata": {
        "colab": {
          "base_uri": "https://localhost:8080/"
        },
        "id": "fCOKH8csHh1Q",
        "outputId": "f13147ca-1f0a-4f9e-b380-ad6946ddf5fe"
      },
      "execution_count": null,
      "outputs": [
        {
          "output_type": "execute_result",
          "data": {
            "text/plain": [
              "(8992, 5)"
            ]
          },
          "metadata": {},
          "execution_count": 57
        }
      ]
    },
    {
      "cell_type": "code",
      "source": [
        "# y_test.reshape(-1,).shape[0]/5"
      ],
      "metadata": {
        "id": "nlcCHCfyfRcr",
        "outputId": "2da36cb4-227d-4a1b-d080-f6e8e547cf59",
        "colab": {
          "base_uri": "https://localhost:8080/"
        }
      },
      "execution_count": null,
      "outputs": [
        {
          "output_type": "execute_result",
          "data": {
            "text/plain": [
              "8992.0"
            ]
          },
          "metadata": {},
          "execution_count": 76
        }
      ]
    },
    {
      "cell_type": "code",
      "execution_count": null,
      "metadata": {
        "id": "c-AjICKPQMXI"
      },
      "outputs": [],
      "source": [
        "from sklearn.metrics import classification_report\n",
        "\n",
        "def savemod(model,pa,path=path,y_test=y_test,X_test=X_test):\n",
        "    ff = pd.DataFrame(columns=['real','predicted'])\n",
        "    y2 = y_test\n",
        "    y1 = model.predict(X_test)\n",
        "    ff['real'] = y2.reshape(-1,)\n",
        "    ff['predicted'] = y1.reshape(-1,)\n",
        "    # print(classification_report(y1,y2))\n",
        "    ff.to_csv(f'{path}{pa}.csv',index=False)"
      ]
    },
    {
      "cell_type": "code",
      "execution_count": null,
      "metadata": {
        "colab": {
          "base_uri": "https://localhost:8080/"
        },
        "id": "uWML9QD4hjqU",
        "outputId": "ed1ec3c8-e641-4722-b895-10ab40255cd1"
      },
      "outputs": [
        {
          "output_type": "stream",
          "name": "stdout",
          "text": [
            "Model: \"sequential_4\"\n",
            "_________________________________________________________________\n",
            " Layer (type)                Output Shape              Param #   \n",
            "=================================================================\n",
            " embedding_4 (Embedding)     (None, 60, 50)            250000    \n",
            "                                                                 \n",
            " bidirectional_1 (Bidirectio  (None, 64)               21248     \n",
            " nal)                                                            \n",
            "                                                                 \n",
            " dense_8 (Dense)             (None, 64)                4160      \n",
            "                                                                 \n",
            " dropout_4 (Dropout)         (None, 64)                0         \n",
            "                                                                 \n",
            " dense_9 (Dense)             (None, 5)                 325       \n",
            "                                                                 \n",
            "=================================================================\n",
            "Total params: 275,733\n",
            "Trainable params: 275,733\n",
            "Non-trainable params: 0\n",
            "_________________________________________________________________\n"
          ]
        }
      ],
      "source": [
        "# Define model architecture\n",
        "model = tf.keras.Sequential([\n",
        "    tf.keras.layers.Embedding(input_dim=max_words,\n",
        "                              output_dim=embedding_dim,input_length=maxlen,\n",
        "                              # weights=[embedding_matrix],\n",
        "                              # trainable=True\n",
        "                              ),\n",
        "    # tf.keras.layers.Conv1D(32, 2, activation='relu',),\n",
        "    # tf.keras.layers.Conv1D(64, 2, activation='relu'),\n",
        "    # tf.keras.layers.Conv1D(128, 2, activation='relu'),\n",
        "\n",
        "    # tf.keras.layers.Bidirectional(tf.keras.layers.LSTM(32,return_sequences=True)),\n",
        "    # tf.keras.layers.Bidirectional(tf.keras.layers.LSTM(32,return_sequences=True)),\n",
        "    tf.keras.layers.Bidirectional(tf.keras.layers.LSTM(32)),\n",
        "    # tf.keras.layers.GlobalAveragePooling1D(),\n",
        "    tf.keras.layers.Dense(64, activation='relu'),\n",
        "    tf.keras.layers.Dropout(0.2),\n",
        "    tf.keras.layers.Dense(5, activation='softmax')\n",
        "])\n",
        "\n",
        "# Compile model\n",
        "model.compile(loss='categorical_crossentropy',\n",
        "              optimizer=Adam(0.001),\n",
        "              metrics=['accuracy'])\n",
        "\n",
        "\n",
        "model.summary()"
      ]
    },
    {
      "cell_type": "code",
      "execution_count": null,
      "metadata": {
        "id": "-ZHAQEvIhzPT",
        "colab": {
          "base_uri": "https://localhost:8080/"
        },
        "outputId": "04f85ca1-943b-4826-c9e8-0d98d5bba5b4"
      },
      "outputs": [
        {
          "output_type": "stream",
          "name": "stdout",
          "text": [
            "Epoch 1/10\n",
            "1124/1124 [==============================] - 77s 63ms/step - loss: 1.1258 - accuracy: 0.5311 - val_loss: 0.8227 - val_accuracy: 0.6962 - lr: 0.0010\n",
            "Epoch 2/10\n",
            "1124/1124 [==============================] - 14s 12ms/step - loss: 0.7266 - accuracy: 0.7479 - val_loss: 0.7443 - val_accuracy: 0.7395 - lr: 0.0010\n",
            "Epoch 3/10\n",
            "1124/1124 [==============================] - 12s 11ms/step - loss: 0.6318 - accuracy: 0.7877 - val_loss: 0.7086 - val_accuracy: 0.7613 - lr: 0.0010\n",
            "Epoch 4/10\n",
            "1124/1124 [==============================] - 12s 11ms/step - loss: 0.5669 - accuracy: 0.8106 - val_loss: 0.7625 - val_accuracy: 0.7442 - lr: 0.0010\n",
            "Epoch 5/10\n",
            "1124/1124 [==============================] - 13s 11ms/step - loss: 0.5066 - accuracy: 0.8328 - val_loss: 0.7472 - val_accuracy: 0.7440 - lr: 0.0010\n",
            "Epoch 6/10\n",
            "1120/1124 [============================>.] - ETA: 0s - loss: 0.4539 - accuracy: 0.8508\n",
            "Epoch 6: ReduceLROnPlateau reducing learning rate to 0.0005000000237487257.\n",
            "1124/1124 [==============================] - 14s 13ms/step - loss: 0.4538 - accuracy: 0.8508 - val_loss: 0.7958 - val_accuracy: 0.7439 - lr: 0.0010\n",
            "Epoch 7/10\n",
            "1124/1124 [==============================] - 12s 11ms/step - loss: 0.3603 - accuracy: 0.8831 - val_loss: 0.8710 - val_accuracy: 0.7378 - lr: 5.0000e-04\n",
            "Epoch 8/10\n",
            "1124/1124 [==============================] - 12s 11ms/step - loss: 0.3147 - accuracy: 0.8995 - val_loss: 0.9419 - val_accuracy: 0.7344 - lr: 5.0000e-04\n",
            "Epoch 9/10\n",
            "1121/1124 [============================>.] - ETA: 0s - loss: 0.2797 - accuracy: 0.9116\n",
            "Epoch 9: ReduceLROnPlateau reducing learning rate to 0.0002500000118743628.\n",
            "1124/1124 [==============================] - 13s 11ms/step - loss: 0.2795 - accuracy: 0.9117 - val_loss: 1.0445 - val_accuracy: 0.7248 - lr: 5.0000e-04\n",
            "Epoch 10/10\n",
            "1124/1124 [==============================] - 12s 11ms/step - loss: 0.2304 - accuracy: 0.9287 - val_loss: 1.1549 - val_accuracy: 0.7193 - lr: 2.5000e-04\n"
          ]
        },
        {
          "output_type": "execute_result",
          "data": {
            "text/plain": [
              "<keras.callbacks.History at 0x7f54ccc8c3d0>"
            ]
          },
          "metadata": {},
          "execution_count": 82
        }
      ],
      "source": [
        "# Train model\n",
        "model.fit(X_train, y_train,\n",
        "          validation_data=(X_test, y_test),\n",
        "          epochs=10,\n",
        "          batch_size=32,\n",
        "                              callbacks =[learning_rate_reduction,\n",
        "                                # es\n",
        "                                ],)"
      ]
    },
    {
      "cell_type": "code",
      "execution_count": null,
      "metadata": {
        "colab": {
          "base_uri": "https://localhost:8080/"
        },
        "id": "hdJXJBpiUJsO",
        "outputId": "48184d7a-591a-4fca-91f1-3c3e99cf73d3"
      },
      "outputs": [
        {
          "output_type": "stream",
          "name": "stdout",
          "text": [
            "281/281 [==============================] - 2s 3ms/step\n"
          ]
        }
      ],
      "source": [
        "savemod(model=model,pa='LSTM',y_test=y_test,X_test=X_test)"
      ]
    },
    {
      "cell_type": "code",
      "source": [],
      "metadata": {
        "id": "WtRIo5Q7gN9a"
      },
      "execution_count": null,
      "outputs": []
    },
    {
      "cell_type": "code",
      "execution_count": null,
      "metadata": {
        "colab": {
          "base_uri": "https://localhost:8080/"
        },
        "outputId": "75da229b-acf9-4ab5-a196-967d28e67817",
        "id": "_rf4kmYYgOai"
      },
      "outputs": [
        {
          "output_type": "stream",
          "name": "stdout",
          "text": [
            "Model: \"sequential_5\"\n",
            "_________________________________________________________________\n",
            " Layer (type)                Output Shape              Param #   \n",
            "=================================================================\n",
            " embedding_5 (Embedding)     (None, 60, 50)            250000    \n",
            "                                                                 \n",
            " bidirectional_2 (Bidirectio  (None, 60, 64)           21248     \n",
            " nal)                                                            \n",
            "                                                                 \n",
            " bidirectional_3 (Bidirectio  (None, 64)               24832     \n",
            " nal)                                                            \n",
            "                                                                 \n",
            " dense_10 (Dense)            (None, 64)                4160      \n",
            "                                                                 \n",
            " dropout_5 (Dropout)         (None, 64)                0         \n",
            "                                                                 \n",
            " dense_11 (Dense)            (None, 5)                 325       \n",
            "                                                                 \n",
            "=================================================================\n",
            "Total params: 300,565\n",
            "Trainable params: 300,565\n",
            "Non-trainable params: 0\n",
            "_________________________________________________________________\n"
          ]
        }
      ],
      "source": [
        "# Define model architecture\n",
        "model = tf.keras.Sequential([\n",
        "    tf.keras.layers.Embedding(input_dim=max_words,\n",
        "                              output_dim=embedding_dim,input_length=maxlen,\n",
        "                              # weights=[embedding_matrix],\n",
        "                              # trainable=True\n",
        "                              ),\n",
        "    # tf.keras.layers.Conv1D(32, 2, activation='relu',),\n",
        "    # tf.keras.layers.Conv1D(64, 2, activation='relu'),\n",
        "    # tf.keras.layers.Conv1D(128, 2, activation='relu'),\n",
        "\n",
        "    # tf.keras.layers.Bidirectional(tf.keras.layers.LSTM(32,return_sequences=True)),\n",
        "    tf.keras.layers.Bidirectional(tf.keras.layers.LSTM(32,return_sequences=True)),\n",
        "    tf.keras.layers.Bidirectional(tf.keras.layers.LSTM(32)),\n",
        "    # tf.keras.layers.GlobalAveragePooling1D(),\n",
        "    tf.keras.layers.Dense(64, activation='relu'),\n",
        "    tf.keras.layers.Dropout(0.2),\n",
        "    tf.keras.layers.Dense(5, activation='softmax')\n",
        "])\n",
        "\n",
        "# Compile model\n",
        "model.compile(loss='categorical_crossentropy',\n",
        "              optimizer=Adam(0.001),\n",
        "              metrics=['accuracy'])\n",
        "\n",
        "\n",
        "model.summary()"
      ]
    },
    {
      "cell_type": "code",
      "execution_count": null,
      "metadata": {
        "outputId": "5a968ab2-1c22-4ee3-b290-bbe0c6eb176a",
        "colab": {
          "base_uri": "https://localhost:8080/"
        },
        "id": "elLQ7RZsgOaj"
      },
      "outputs": [
        {
          "output_type": "stream",
          "name": "stdout",
          "text": [
            "Epoch 1/10\n",
            "1124/1124 [==============================] - 51s 38ms/step - loss: 1.1513 - accuracy: 0.5225 - val_loss: 0.8139 - val_accuracy: 0.7046 - lr: 0.0010\n",
            "Epoch 2/10\n",
            "1124/1124 [==============================] - 20s 18ms/step - loss: 0.7324 - accuracy: 0.7493 - val_loss: 0.7421 - val_accuracy: 0.7417 - lr: 0.0010\n",
            "Epoch 3/10\n",
            "1124/1124 [==============================] - 20s 18ms/step - loss: 0.6341 - accuracy: 0.7898 - val_loss: 0.6921 - val_accuracy: 0.7597 - lr: 0.0010\n",
            "Epoch 4/10\n",
            "1124/1124 [==============================] - 18s 16ms/step - loss: 0.5702 - accuracy: 0.8125 - val_loss: 0.7161 - val_accuracy: 0.7575 - lr: 0.0010\n",
            "Epoch 5/10\n",
            "1124/1124 [==============================] - 18s 16ms/step - loss: 0.5131 - accuracy: 0.8316 - val_loss: 0.7437 - val_accuracy: 0.7461 - lr: 0.0010\n",
            "Epoch 6/10\n",
            "1122/1124 [============================>.] - ETA: 0s - loss: 0.4641 - accuracy: 0.8498\n",
            "Epoch 6: ReduceLROnPlateau reducing learning rate to 0.0005000000237487257.\n",
            "1124/1124 [==============================] - 20s 17ms/step - loss: 0.4639 - accuracy: 0.8499 - val_loss: 0.7549 - val_accuracy: 0.7551 - lr: 0.0010\n",
            "Epoch 7/10\n",
            "1124/1124 [==============================] - 18s 16ms/step - loss: 0.3666 - accuracy: 0.8836 - val_loss: 0.8422 - val_accuracy: 0.7494 - lr: 5.0000e-04\n",
            "Epoch 8/10\n",
            "1124/1124 [==============================] - 18s 16ms/step - loss: 0.3162 - accuracy: 0.9026 - val_loss: 0.9175 - val_accuracy: 0.7434 - lr: 5.0000e-04\n",
            "Epoch 9/10\n",
            "1120/1124 [============================>.] - ETA: 0s - loss: 0.2883 - accuracy: 0.9103\n",
            "Epoch 9: ReduceLROnPlateau reducing learning rate to 0.0002500000118743628.\n",
            "1124/1124 [==============================] - 18s 16ms/step - loss: 0.2881 - accuracy: 0.9103 - val_loss: 0.9473 - val_accuracy: 0.7372 - lr: 5.0000e-04\n",
            "Epoch 10/10\n",
            "1124/1124 [==============================] - 18s 16ms/step - loss: 0.2302 - accuracy: 0.9320 - val_loss: 1.0841 - val_accuracy: 0.7313 - lr: 2.5000e-04\n"
          ]
        },
        {
          "output_type": "execute_result",
          "data": {
            "text/plain": [
              "<keras.callbacks.History at 0x7f555c2043a0>"
            ]
          },
          "metadata": {},
          "execution_count": 85
        }
      ],
      "source": [
        "# Train model\n",
        "model.fit(X_train, y_train,\n",
        "          validation_data=(X_test, y_test),\n",
        "          epochs=10,\n",
        "          batch_size=32,\n",
        "                              callbacks =[learning_rate_reduction,\n",
        "                                # es\n",
        "                                ],)"
      ]
    },
    {
      "cell_type": "code",
      "execution_count": null,
      "metadata": {
        "id": "DALEvagegOaj",
        "outputId": "f7d10f41-d835-42e2-c674-b9b3ca7fc156",
        "colab": {
          "base_uri": "https://localhost:8080/"
        }
      },
      "outputs": [
        {
          "output_type": "stream",
          "name": "stdout",
          "text": [
            "281/281 [==============================] - 3s 6ms/step\n"
          ]
        }
      ],
      "source": [
        "savemod(model=model,pa='2-LSTM',y_test=y_test,X_test=X_test)"
      ]
    },
    {
      "cell_type": "code",
      "execution_count": null,
      "metadata": {
        "colab": {
          "base_uri": "https://localhost:8080/"
        },
        "outputId": "0c301fb3-6812-43d9-cfc9-1123a3d4cab5",
        "id": "PfaCuzhmgO1A"
      },
      "outputs": [
        {
          "output_type": "stream",
          "name": "stdout",
          "text": [
            "Model: \"sequential_6\"\n",
            "_________________________________________________________________\n",
            " Layer (type)                Output Shape              Param #   \n",
            "=================================================================\n",
            " embedding_6 (Embedding)     (None, 60, 50)            250000    \n",
            "                                                                 \n",
            " bidirectional_4 (Bidirectio  (None, 60, 64)           21248     \n",
            " nal)                                                            \n",
            "                                                                 \n",
            " bidirectional_5 (Bidirectio  (None, 60, 64)           24832     \n",
            " nal)                                                            \n",
            "                                                                 \n",
            " bidirectional_6 (Bidirectio  (None, 64)               24832     \n",
            " nal)                                                            \n",
            "                                                                 \n",
            " dense_12 (Dense)            (None, 64)                4160      \n",
            "                                                                 \n",
            " dropout_6 (Dropout)         (None, 64)                0         \n",
            "                                                                 \n",
            " dense_13 (Dense)            (None, 5)                 325       \n",
            "                                                                 \n",
            "=================================================================\n",
            "Total params: 325,397\n",
            "Trainable params: 325,397\n",
            "Non-trainable params: 0\n",
            "_________________________________________________________________\n"
          ]
        }
      ],
      "source": [
        "# Define model architecture\n",
        "model = tf.keras.Sequential([\n",
        "    tf.keras.layers.Embedding(input_dim=max_words,\n",
        "                              output_dim=embedding_dim,input_length=maxlen,\n",
        "                              # weights=[embedding_matrix],\n",
        "                              # trainable=True\n",
        "                              ),\n",
        "    # tf.keras.layers.Conv1D(32, 2, activation='relu',),\n",
        "    # tf.keras.layers.Conv1D(64, 2, activation='relu'),\n",
        "    # tf.keras.layers.Conv1D(128, 2, activation='relu'),\n",
        "\n",
        "    tf.keras.layers.Bidirectional(tf.keras.layers.LSTM(32,return_sequences=True)),\n",
        "    tf.keras.layers.Bidirectional(tf.keras.layers.LSTM(32,return_sequences=True)),\n",
        "    tf.keras.layers.Bidirectional(tf.keras.layers.LSTM(32)),\n",
        "    # tf.keras.layers.GlobalAveragePooling1D(),\n",
        "    tf.keras.layers.Dense(64, activation='relu'),\n",
        "    tf.keras.layers.Dropout(0.2),\n",
        "    tf.keras.layers.Dense(5, activation='softmax')\n",
        "])\n",
        "\n",
        "# Compile model\n",
        "model.compile(loss='categorical_crossentropy',\n",
        "              optimizer=Adam(0.001),\n",
        "              metrics=['accuracy'])\n",
        "\n",
        "\n",
        "model.summary()"
      ]
    },
    {
      "cell_type": "code",
      "execution_count": null,
      "metadata": {
        "outputId": "9a4f6c37-4783-4930-b228-9486449d9b7c",
        "colab": {
          "base_uri": "https://localhost:8080/"
        },
        "id": "ZHfg5RIVgO1A"
      },
      "outputs": [
        {
          "output_type": "stream",
          "name": "stdout",
          "text": [
            "Epoch 1/10\n",
            "1124/1124 [==============================] - 58s 42ms/step - loss: 1.2219 - accuracy: 0.4775 - val_loss: 0.8515 - val_accuracy: 0.6775 - lr: 0.0010\n",
            "Epoch 2/10\n",
            "1124/1124 [==============================] - 27s 24ms/step - loss: 0.7423 - accuracy: 0.7412 - val_loss: 0.7198 - val_accuracy: 0.7548 - lr: 0.0010\n",
            "Epoch 3/10\n",
            "1124/1124 [==============================] - 26s 23ms/step - loss: 0.6337 - accuracy: 0.7845 - val_loss: 0.6921 - val_accuracy: 0.7582 - lr: 0.0010\n",
            "Epoch 4/10\n",
            "1124/1124 [==============================] - 25s 22ms/step - loss: 0.5618 - accuracy: 0.8107 - val_loss: 0.6982 - val_accuracy: 0.7566 - lr: 0.0010\n",
            "Epoch 5/10\n",
            "1124/1124 [==============================] - 26s 23ms/step - loss: 0.5030 - accuracy: 0.8334 - val_loss: 0.7195 - val_accuracy: 0.7610 - lr: 0.0010\n",
            "Epoch 6/10\n",
            "1124/1124 [==============================] - 25s 22ms/step - loss: 0.4436 - accuracy: 0.8564 - val_loss: 0.8092 - val_accuracy: 0.7544 - lr: 0.0010\n",
            "Epoch 7/10\n",
            "1124/1124 [==============================] - 25s 23ms/step - loss: 0.3968 - accuracy: 0.8728 - val_loss: 0.8086 - val_accuracy: 0.7533 - lr: 0.0010\n",
            "Epoch 8/10\n",
            "1123/1124 [============================>.] - ETA: 0s - loss: 0.3511 - accuracy: 0.8869\n",
            "Epoch 8: ReduceLROnPlateau reducing learning rate to 0.0005000000237487257.\n",
            "1124/1124 [==============================] - 26s 23ms/step - loss: 0.3510 - accuracy: 0.8869 - val_loss: 0.8540 - val_accuracy: 0.7427 - lr: 0.0010\n",
            "Epoch 9/10\n",
            "1124/1124 [==============================] - 25s 22ms/step - loss: 0.2609 - accuracy: 0.9191 - val_loss: 0.9713 - val_accuracy: 0.7361 - lr: 5.0000e-04\n",
            "Epoch 10/10\n",
            "1124/1124 [==============================] - 25s 22ms/step - loss: 0.2158 - accuracy: 0.9343 - val_loss: 1.1053 - val_accuracy: 0.7353 - lr: 5.0000e-04\n"
          ]
        },
        {
          "output_type": "execute_result",
          "data": {
            "text/plain": [
              "<keras.callbacks.History at 0x7f54d1f2d480>"
            ]
          },
          "metadata": {},
          "execution_count": 88
        }
      ],
      "source": [
        "# Train model\n",
        "model.fit(X_train, y_train,\n",
        "          validation_data=(X_test, y_test),\n",
        "          epochs=10,\n",
        "          batch_size=32,\n",
        "                              callbacks =[learning_rate_reduction,\n",
        "                                # es\n",
        "                                ],)"
      ]
    },
    {
      "cell_type": "code",
      "execution_count": null,
      "metadata": {
        "id": "KnjLkUw8gO1B",
        "outputId": "8cca826a-ba44-4b13-fe1c-0dd97b70b863",
        "colab": {
          "base_uri": "https://localhost:8080/"
        }
      },
      "outputs": [
        {
          "output_type": "stream",
          "name": "stdout",
          "text": [
            "281/281 [==============================] - 4s 7ms/step\n"
          ]
        }
      ],
      "source": [
        "savemod(model=model,pa='3-LSTM',y_test=y_test,X_test=X_test)"
      ]
    },
    {
      "cell_type": "code",
      "execution_count": null,
      "metadata": {
        "colab": {
          "base_uri": "https://localhost:8080/"
        },
        "outputId": "3b811811-76a9-4908-f4c2-eff4c43008a8",
        "id": "Xd03IQK4gPFW"
      },
      "outputs": [
        {
          "output_type": "stream",
          "name": "stdout",
          "text": [
            "Model: \"sequential_8\"\n",
            "_________________________________________________________________\n",
            " Layer (type)                Output Shape              Param #   \n",
            "=================================================================\n",
            " embedding_8 (Embedding)     (None, 60, 50)            250000    \n",
            "                                                                 \n",
            " conv1d_4 (Conv1D)           (None, 59, 32)            3232      \n",
            "                                                                 \n",
            " conv1d_5 (Conv1D)           (None, 58, 64)            4160      \n",
            "                                                                 \n",
            " bidirectional_9 (Bidirectio  (None, 58, 64)           24832     \n",
            " nal)                                                            \n",
            "                                                                 \n",
            " bidirectional_10 (Bidirecti  (None, 64)               24832     \n",
            " onal)                                                           \n",
            "                                                                 \n",
            " dense_16 (Dense)            (None, 64)                4160      \n",
            "                                                                 \n",
            " dropout_8 (Dropout)         (None, 64)                0         \n",
            "                                                                 \n",
            " dense_17 (Dense)            (None, 5)                 325       \n",
            "                                                                 \n",
            "=================================================================\n",
            "Total params: 311,541\n",
            "Trainable params: 311,541\n",
            "Non-trainable params: 0\n",
            "_________________________________________________________________\n"
          ]
        }
      ],
      "source": [
        "# Define model architecture\n",
        "model = tf.keras.Sequential([\n",
        "    tf.keras.layers.Embedding(input_dim=max_words,\n",
        "                              output_dim=embedding_dim,input_length=maxlen,\n",
        "                              # weights=[embedding_matrix],\n",
        "                              # trainable=True\n",
        "                              ),\n",
        "    tf.keras.layers.Conv1D(32, 2, activation='relu',),\n",
        "    tf.keras.layers.Conv1D(64, 2, activation='relu'),\n",
        "    # tf.keras.layers.Conv1D(128, 2, activation='relu'),\n",
        "\n",
        "    tf.keras.layers.Bidirectional(tf.keras.layers.LSTM(32,return_sequences=True)),\n",
        "    # tf.keras.layers.Bidirectional(tf.keras.layers.LSTM(32,return_sequences=True)),\n",
        "    tf.keras.layers.Bidirectional(tf.keras.layers.LSTM(32)),\n",
        "    # tf.keras.layers.GlobalAveragePooling1D(),\n",
        "    tf.keras.layers.Dense(64, activation='relu'),\n",
        "    tf.keras.layers.Dropout(0.2),\n",
        "    tf.keras.layers.Dense(5, activation='softmax')\n",
        "])\n",
        "\n",
        "# Compile model\n",
        "model.compile(loss='categorical_crossentropy',\n",
        "              optimizer=Adam(0.001),\n",
        "              metrics=['accuracy'])\n",
        "\n",
        "\n",
        "model.summary()"
      ]
    },
    {
      "cell_type": "code",
      "execution_count": null,
      "metadata": {
        "outputId": "1398f373-1fcf-4e2d-f996-afe28a6f66ef",
        "colab": {
          "base_uri": "https://localhost:8080/"
        },
        "id": "4NPsjqCUgPFX"
      },
      "outputs": [
        {
          "output_type": "stream",
          "name": "stdout",
          "text": [
            "Epoch 1/5\n",
            "1124/1124 [==============================] - 50s 38ms/step - loss: 1.1820 - accuracy: 0.5072 - val_loss: 0.8653 - val_accuracy: 0.6798 - lr: 0.0010\n",
            "Epoch 2/5\n",
            "1124/1124 [==============================] - 20s 18ms/step - loss: 0.7404 - accuracy: 0.7441 - val_loss: 0.7095 - val_accuracy: 0.7558 - lr: 0.0010\n",
            "Epoch 3/5\n",
            "1124/1124 [==============================] - 19s 17ms/step - loss: 0.6431 - accuracy: 0.7823 - val_loss: 0.7102 - val_accuracy: 0.7459 - lr: 0.0010\n",
            "Epoch 4/5\n",
            "1124/1124 [==============================] - 22s 19ms/step - loss: 0.5830 - accuracy: 0.8026 - val_loss: 0.6952 - val_accuracy: 0.7653 - lr: 0.0010\n",
            "Epoch 5/5\n",
            "1124/1124 [==============================] - 20s 17ms/step - loss: 0.5281 - accuracy: 0.8275 - val_loss: 0.7008 - val_accuracy: 0.7648 - lr: 0.0010\n"
          ]
        },
        {
          "output_type": "execute_result",
          "data": {
            "text/plain": [
              "<keras.callbacks.History at 0x7f54a45e42e0>"
            ]
          },
          "metadata": {},
          "execution_count": 94
        }
      ],
      "source": [
        "# Train model\n",
        "model.fit(X_train, y_train,\n",
        "          validation_data=(X_test, y_test),\n",
        "          epochs=5,\n",
        "          batch_size=32,\n",
        "                              callbacks =[learning_rate_reduction,\n",
        "                                # es\n",
        "                                ],)"
      ]
    },
    {
      "cell_type": "code",
      "execution_count": null,
      "metadata": {
        "id": "gCBvucrNgPFX",
        "outputId": "dad95b7d-800d-4619-9dee-88e5cb88d68c",
        "colab": {
          "base_uri": "https://localhost:8080/"
        }
      },
      "outputs": [
        {
          "output_type": "stream",
          "name": "stdout",
          "text": [
            "281/281 [==============================] - 3s 6ms/step\n"
          ]
        }
      ],
      "source": [
        "savemod(model=model,pa='2CNN-2LSTM',y_test=y_test,X_test=X_test)"
      ]
    },
    {
      "cell_type": "code",
      "execution_count": null,
      "metadata": {
        "colab": {
          "base_uri": "https://localhost:8080/"
        },
        "outputId": "ed1ec3c8-e641-4722-b895-10ab40255cd1",
        "id": "wX2CjRRdgPRi"
      },
      "outputs": [
        {
          "output_type": "stream",
          "name": "stdout",
          "text": [
            "Model: \"sequential_4\"\n",
            "_________________________________________________________________\n",
            " Layer (type)                Output Shape              Param #   \n",
            "=================================================================\n",
            " embedding_4 (Embedding)     (None, 60, 50)            250000    \n",
            "                                                                 \n",
            " bidirectional_1 (Bidirectio  (None, 64)               21248     \n",
            " nal)                                                            \n",
            "                                                                 \n",
            " dense_8 (Dense)             (None, 64)                4160      \n",
            "                                                                 \n",
            " dropout_4 (Dropout)         (None, 64)                0         \n",
            "                                                                 \n",
            " dense_9 (Dense)             (None, 5)                 325       \n",
            "                                                                 \n",
            "=================================================================\n",
            "Total params: 275,733\n",
            "Trainable params: 275,733\n",
            "Non-trainable params: 0\n",
            "_________________________________________________________________\n"
          ]
        }
      ],
      "source": [
        "# Define model architecture\n",
        "model = tf.keras.Sequential([\n",
        "    tf.keras.layers.Embedding(input_dim=max_words,\n",
        "                              output_dim=embedding_dim,input_length=maxlen,\n",
        "                              # weights=[embedding_matrix],\n",
        "                              # trainable=True\n",
        "                              ),\n",
        "    # tf.keras.layers.Conv1D(32, 2, activation='relu',),\n",
        "    # tf.keras.layers.Conv1D(64, 2, activation='relu'),\n",
        "    # tf.keras.layers.Conv1D(128, 2, activation='relu'),\n",
        "\n",
        "    # tf.keras.layers.Bidirectional(tf.keras.layers.LSTM(32,return_sequences=True)),\n",
        "    # tf.keras.layers.Bidirectional(tf.keras.layers.LSTM(32,return_sequences=True)),\n",
        "    tf.keras.layers.Bidirectional(tf.keras.layers.LSTM(32)),\n",
        "    # tf.keras.layers.GlobalAveragePooling1D(),\n",
        "    tf.keras.layers.Dense(64, activation='relu'),\n",
        "    tf.keras.layers.Dropout(0.2),\n",
        "    tf.keras.layers.Dense(5, activation='softmax')\n",
        "])\n",
        "\n",
        "# Compile model\n",
        "model.compile(loss='categorical_crossentropy',\n",
        "              optimizer=Adam(0.001),\n",
        "              metrics=['accuracy'])\n",
        "\n",
        "\n",
        "model.summary()"
      ]
    },
    {
      "cell_type": "code",
      "execution_count": null,
      "metadata": {
        "outputId": "04f85ca1-943b-4826-c9e8-0d98d5bba5b4",
        "colab": {
          "base_uri": "https://localhost:8080/"
        },
        "id": "ZNDiec4AgPRi"
      },
      "outputs": [
        {
          "output_type": "stream",
          "name": "stdout",
          "text": [
            "Epoch 1/10\n",
            "1124/1124 [==============================] - ETA: 0s - loss: 1.1258 - accuracy: 0.5311"
          ]
        }
      ],
      "source": [
        "# Train model\n",
        "model.fit(X_train, y_train,\n",
        "          validation_data=(X_test, y_test),\n",
        "          epochs=10,\n",
        "          batch_size=32,\n",
        "                              callbacks =[learning_rate_reduction,\n",
        "                                # es\n",
        "                                ],)"
      ]
    },
    {
      "cell_type": "code",
      "execution_count": null,
      "metadata": {
        "id": "lrvCEjL6gPRj"
      },
      "outputs": [],
      "source": [
        "savemod(model=model,pa='LSTM',y_test=y_test,X_test=X_test)"
      ]
    },
    {
      "cell_type": "code",
      "execution_count": null,
      "metadata": {
        "id": "kf0cpvkGytEd"
      },
      "outputs": [],
      "source": [
        "import tensorflow as tf\n",
        "from tensorflow import keras\n",
        "from tensorflow.keras.layers import MultiHeadAttention, LayerNormalization, Dropout, Layer\n",
        "from tensorflow.keras.layers import Embedding, Input, GlobalAveragePooling1D, Dense\n",
        "# from tensorflow.keras.datasets import imdb\n",
        "from tensorflow.keras.models import Sequential, Model\n",
        "import numpy as np\n",
        "import warnings\n",
        "warnings.filterwarnings(\"ignore\", category=np.VisibleDeprecationWarning)"
      ]
    },
    {
      "cell_type": "code",
      "execution_count": null,
      "metadata": {
        "id": "ZdvOdvtMtqhq"
      },
      "outputs": [],
      "source": [
        "class TransformerBlock(Layer):\n",
        "    def __init__(self, embed_dim, num_heads, ff_dim, rate=0.1):\n",
        "        super(TransformerBlock, self).__init__()\n",
        "        self.att = MultiHeadAttention(num_heads=num_heads, key_dim=embed_dim)\n",
        "        self.ffn = Sequential(\n",
        "            [\n",
        "             Dense(2 * 6 * ff_dim, activation=\"relu\"),\n",
        "             Dropout(rate),\n",
        "             Dense(2 * 5 * ff_dim, activation=\"relu\"),\n",
        "             Dropout(rate),\n",
        "             Dense(2 * 4 * ff_dim, activation=\"relu\"),\n",
        "             Dropout(rate),\n",
        "             Dense(2 * 3 * ff_dim, activation=\"relu\"),\n",
        "             Dropout(rate),\n",
        "             Dense(3 * 2 * ff_dim, activation=\"relu\"),\n",
        "             Dropout(rate),\n",
        "             Dense(embed_dim)]\n",
        "        )\n",
        "        self.layernorm1 = LayerNormalization(epsilon=1e-12)\n",
        "        self.layernorm2 = LayerNormalization(epsilon=1e-12)\n",
        "        self.dropout1 = Dropout(rate)\n",
        "        self.dropout2 = Dropout(rate)\n",
        "\n",
        "    def call(self, inputs, training):\n",
        "        attn_output = self.att(inputs, inputs)\n",
        "        attn_output = self.dropout1(attn_output, training=training)\n",
        "        out1 = self.layernorm1(inputs + attn_output)\n",
        "        ffn_output = self.ffn(out1)\n",
        "        ffn_output = self.dropout2(ffn_output, training=training)\n",
        "        return self.layernorm2(out1 + ffn_output)\n",
        "\n",
        "class TokenAndPositionEmbedding(Layer):\n",
        "    def __init__(self, maxlen, vocab_size, embed_dim):\n",
        "        super(TokenAndPositionEmbedding, self).__init__()\n",
        "        self.token_emb = Embedding(input_dim=vocab_size, output_dim=embed_dim,\n",
        "                                   weights=[embedding_matrix],\n",
        "                                   trainable=True)\n",
        "        self.pos_emb = Embedding(input_dim=maxlen, output_dim=embed_dim,trainable=False)\n",
        "\n",
        "    def call(self, x):\n",
        "        maxlen = tf.shape(x)[-1]\n",
        "        positions = tf.range(start=0, limit=maxlen, delta=1)\n",
        "        positions = self.pos_emb(positions)\n",
        "        x = self.token_emb(x)\n",
        "        return x + positions"
      ]
    },
    {
      "cell_type": "code",
      "execution_count": null,
      "metadata": {
        "id": "In4oYfDMt2cJ"
      },
      "outputs": [],
      "source": [
        "embed_dim = 300  # Embedding size for each token\n",
        "num_heads = 6  # Number of attention heads\n",
        "ff_dim = 128  # Hidden layer size in feed forward network inside transformer\n",
        "\n",
        "inputs = Input(shape=(maxlen,))\n",
        "embedding_layer = TokenAndPositionEmbedding(maxlen, max_words, embed_dim)\n",
        "x = embedding_layer(inputs)\n",
        "transformer_block = TransformerBlock(embed_dim, num_heads, ff_dim)\n",
        "x = transformer_block(x)\n",
        "x = GlobalAveragePooling1D()(x)\n",
        "# x = Dropout(0.1)(x)\n",
        "# x = Dense(128, activation=\"relu\")(x)\n",
        "# x = Dropout(0.1)(x)\n",
        "outputs = Dense(6, activation=\"softmax\")(x)\n",
        "\n",
        "model = Model(inputs=inputs, outputs=outputs)"
      ]
    },
    {
      "cell_type": "code",
      "execution_count": null,
      "metadata": {
        "colab": {
          "base_uri": "https://localhost:8080/"
        },
        "id": "1ijDqRAkyzPw",
        "outputId": "6e4bd0c5-d0af-40d2-e9a5-b8eedea2fea7"
      },
      "outputs": [
        {
          "output_type": "stream",
          "name": "stdout",
          "text": [
            "Model: \"model_1\"\n",
            "_________________________________________________________________\n",
            " Layer (type)                Output Shape              Param #   \n",
            "=================================================================\n",
            " input_2 (InputLayer)        [(None, 64)]              0         \n",
            "                                                                 \n",
            " token_and_position_embeddin  (None, 64, 300)          619200    \n",
            " g_1 (TokenAndPositionEmbedd                                     \n",
            " ing)                                                            \n",
            "                                                                 \n",
            " transformer_block_1 (Transf  (None, 64, 300)          7516832   \n",
            " ormerBlock)                                                     \n",
            "                                                                 \n",
            " global_average_pooling1d_1   (None, 300)              0         \n",
            " (GlobalAveragePooling1D)                                        \n",
            "                                                                 \n",
            " dense_13 (Dense)            (None, 6)                 1806      \n",
            "                                                                 \n",
            "=================================================================\n",
            "Total params: 8,137,838\n",
            "Trainable params: 8,118,638\n",
            "Non-trainable params: 19,200\n",
            "_________________________________________________________________\n"
          ]
        }
      ],
      "source": [
        "# Compile model\n",
        "model.compile(loss='categorical_crossentropy',\n",
        "              optimizer='adamax',\n",
        "              metrics=['accuracy'])\n",
        "\n",
        "\n",
        "model.summary()"
      ]
    },
    {
      "cell_type": "code",
      "execution_count": null,
      "metadata": {
        "colab": {
          "base_uri": "https://localhost:8080/"
        },
        "id": "0X3I21zet4Wu",
        "outputId": "8acb03bc-fe7d-4dc7-9522-57b86ce0803b"
      },
      "outputs": [
        {
          "output_type": "stream",
          "name": "stdout",
          "text": [
            "Epoch 1/12\n",
            "400/400 [==============================] - 16s 41ms/step - loss: 0.1378 - accuracy: 0.9407 - val_loss: 0.3234 - val_accuracy: 0.8932 - lr: 0.0010\n",
            "Epoch 2/12\n",
            "400/400 [==============================] - 17s 42ms/step - loss: 0.1293 - accuracy: 0.9430 - val_loss: 0.3609 - val_accuracy: 0.8957 - lr: 0.0010\n",
            "Epoch 3/12\n",
            "400/400 [==============================] - 18s 45ms/step - loss: 0.1210 - accuracy: 0.9461 - val_loss: 0.3549 - val_accuracy: 0.8910 - lr: 0.0010\n",
            "Epoch 4/12\n",
            "400/400 [==============================] - 16s 41ms/step - loss: 0.1134 - accuracy: 0.9499 - val_loss: 0.3884 - val_accuracy: 0.8939 - lr: 0.0010\n",
            "Epoch 5/12\n",
            "400/400 [==============================] - ETA: 0s - loss: 0.1079 - accuracy: 0.9522\n",
            "Epoch 5: ReduceLROnPlateau reducing learning rate to 0.0005000000237487257.\n",
            "400/400 [==============================] - 16s 40ms/step - loss: 0.1079 - accuracy: 0.9522 - val_loss: 0.3890 - val_accuracy: 0.8882 - lr: 0.0010\n",
            "Epoch 6/12\n",
            "400/400 [==============================] - 17s 42ms/step - loss: 0.0892 - accuracy: 0.9607 - val_loss: 0.4120 - val_accuracy: 0.8873 - lr: 5.0000e-04\n",
            "Epoch 6: early stopping\n"
          ]
        },
        {
          "output_type": "execute_result",
          "data": {
            "text/plain": [
              "<keras.callbacks.History at 0x7f1a7ae93760>"
            ]
          },
          "metadata": {},
          "execution_count": 46
        }
      ],
      "source": [
        "# Train model\n",
        "model.fit(X_train, y_train,\n",
        "          validation_data=(X_test, y_test),\n",
        "          epochs=12,\n",
        "          batch_size=32,\n",
        "                              callbacks =[learning_rate_reduction,\n",
        "                                es\n",
        "                                ],\n",
        "          )"
      ]
    },
    {
      "cell_type": "code",
      "execution_count": null,
      "metadata": {
        "colab": {
          "base_uri": "https://localhost:8080/"
        },
        "id": "lcdfWmT57GK2",
        "outputId": "9237a2b7-f5f5-4f84-abd1-79db2d54a521"
      },
      "outputs": [
        {
          "output_type": "stream",
          "name": "stdout",
          "text": [
            "100/100 [==============================] - 2s 14ms/step\n"
          ]
        }
      ],
      "source": [
        "savemod(model=model,pa='transformer-without')"
      ]
    },
    {
      "cell_type": "code",
      "execution_count": null,
      "metadata": {
        "id": "Vn2dE_62DLS_"
      },
      "outputs": [],
      "source": [
        "import tensorflow as tf\n",
        "from tensorflow.keras.layers import Dense, Dropout\n",
        "from tensorflow.keras.optimizers import Adam\n",
        "from tensorflow.keras.losses import SparseCategoricalCrossentropy\n",
        "from tensorflow.keras.metrics import SparseCategoricalAccuracy\n",
        "from tensorflow.keras.callbacks import EarlyStopping\n",
        "from tensorflow.keras.preprocessing.text import Tokenizer\n",
        "from tensorflow.keras.preprocessing.sequence import pad_sequences\n",
        "\n",
        "# Prepare your text data and labels\n",
        "texts = [...]  # List of input texts\n",
        "labels = [...]  # List of corresponding labels\n",
        "\n",
        "# Tokenize and preprocess the text data\n",
        "tokenizer = Tokenizer()\n",
        "tokenizer.fit_on_texts(texts)\n",
        "sequences = tokenizer.texts_to_sequences(texts)\n",
        "max_sequence_length = max(len(seq) for seq in sequences)\n",
        "vocab_size = len(tokenizer.word_index) + 1\n",
        "\n",
        "# Pad sequences to have the same length\n",
        "padded_sequences = pad_sequences(sequences, maxlen=max_sequence_length, padding='post')\n",
        "\n",
        "# Split the data into training and validation sets\n",
        "train_ratio = 0.8\n",
        "train_size = int(len(padded_sequences) * train_ratio)\n",
        "\n",
        "train_sequences = padded_sequences[:train_size]\n",
        "train_labels = labels[:train_size]\n",
        "val_sequences = padded_sequences[train_size:]\n",
        "val_labels = labels[train_size:]\n",
        "\n",
        "# Create the Transformer Encoder model\n",
        "def transformer_encoder(vocab_size, max_sequence_length):\n",
        "    inputs = tf.keras.Input(shape=(max_sequence_length,))\n",
        "    embedding_layer = tf.keras.layers.Embedding(vocab_size, 128)(inputs)\n",
        "    positional_encoding = tf.keras.layers.Embedding(max_sequence_length, 128)(tf.range(max_sequence_length))\n",
        "    encoded_inputs = embedding_layer + positional_encoding\n",
        "    encoder_outputs = tf.keras.layers.GlobalAveragePooling1D()(encoded_inputs)\n",
        "    dense = Dense(64, activation='relu')(encoder_outputs)\n",
        "    dropout = Dropout(0.2)(dense)\n",
        "    outputs = Dense(num_classes, activation='softmax')(dropout)\n",
        "\n",
        "    model = tf.keras.Model(inputs=inputs, outputs=outputs)\n",
        "    return model\n",
        "\n",
        "# Set the number of classes for classification\n",
        "num_classes = len(set(labels))\n",
        "\n",
        "# Instantiate the model\n",
        "model = transformer_encoder(vocab_size, max_sequence_length)\n",
        "\n",
        "# Compile the model\n",
        "learning_rate = 0.001\n",
        "model.compile(optimizer=Adam(learning_rate), loss=SparseCategoricalCrossentropy(), metrics=[SparseCategoricalAccuracy()])\n",
        "\n",
        "# Define callbacks (optional)\n",
        "early_stopping = EarlyStopping(patience=3)\n",
        "\n",
        "# Train the model\n",
        "batch_size = 32\n",
        "epochs = 10\n",
        "model.fit(train_sequences, train_labels, validation_data=(val_sequences, val_labels),\n",
        "          batch_size=batch_size, epochs=epochs, callbacks=[early_stopping])\n",
        "\n",
        "# Once trained, you can use the model for predictions\n",
        "test_sequences = pad_sequences(tokenizer.texts_to_sequences(test_texts), maxlen=max_sequence_length, padding='post')\n",
        "predictions = model.predict(test_sequences)\n"
      ]
    },
    {
      "cell_type": "code",
      "source": [
        "data.to_csv(f'{path}datatransformer.csv',index=False)"
      ],
      "metadata": {
        "id": "Su4rhSH2NSJM"
      },
      "execution_count": null,
      "outputs": []
    },
    {
      "cell_type": "code",
      "source": [
        "import pandas as pd\n",
        "import numpy as np\n",
        "# import\n",
        "data = pd.read_csv('/content/drive/MyDrive/work 37 corona /datatransformer.csv', encoding=\"latin-1\")\n",
        "data"
      ],
      "metadata": {
        "colab": {
          "base_uri": "https://localhost:8080/",
          "height": 423
        },
        "id": "ZMfzcaObNaS0",
        "outputId": "5343bee4-32d7-46ce-9bff-c42c92aef96e"
      },
      "execution_count": null,
      "outputs": [
        {
          "output_type": "execute_result",
          "data": {
            "text/plain": [
              "                                                   tweet           sentiment  \\\n",
              "0                                          gahan and and             Neutral   \n",
              "1      advice talk to your neighbours family to excha...            Positive   \n",
              "2      coronavirus australia woolworths to give elder...            Positive   \n",
              "3      my food stock is not the only one which is emp...            Positive   \n",
              "4      me ready to go at supermarket during the covid...  Extremely Negative   \n",
              "...                                                  ...                 ...   \n",
              "44951  meanwhile in a supermarket in israel people da...            Positive   \n",
              "44952  did you panic buy a lot of nonperishable items...            Negative   \n",
              "44953  asst prof of economics was on talking about he...             Neutral   \n",
              "44954  gov need to do somethings instead of biar je r...  Extremely Negative   \n",
              "44955  i and members are committed to the safety of o...  Extremely Positive   \n",
              "\n",
              "       len  \n",
              "0        3  \n",
              "1       38  \n",
              "2       13  \n",
              "3       41  \n",
              "4       39  \n",
              "...    ...  \n",
              "44951   15  \n",
              "44952   33  \n",
              "44953   23  \n",
              "44954   28  \n",
              "44955   30  \n",
              "\n",
              "[44956 rows x 3 columns]"
            ],
            "text/html": [
              "\n",
              "  <div id=\"df-b8cebc08-c280-4c4d-ad02-dcd09d4fa3ba\">\n",
              "    <div class=\"colab-df-container\">\n",
              "      <div>\n",
              "<style scoped>\n",
              "    .dataframe tbody tr th:only-of-type {\n",
              "        vertical-align: middle;\n",
              "    }\n",
              "\n",
              "    .dataframe tbody tr th {\n",
              "        vertical-align: top;\n",
              "    }\n",
              "\n",
              "    .dataframe thead th {\n",
              "        text-align: right;\n",
              "    }\n",
              "</style>\n",
              "<table border=\"1\" class=\"dataframe\">\n",
              "  <thead>\n",
              "    <tr style=\"text-align: right;\">\n",
              "      <th></th>\n",
              "      <th>tweet</th>\n",
              "      <th>sentiment</th>\n",
              "      <th>len</th>\n",
              "    </tr>\n",
              "  </thead>\n",
              "  <tbody>\n",
              "    <tr>\n",
              "      <th>0</th>\n",
              "      <td>gahan and and</td>\n",
              "      <td>Neutral</td>\n",
              "      <td>3</td>\n",
              "    </tr>\n",
              "    <tr>\n",
              "      <th>1</th>\n",
              "      <td>advice talk to your neighbours family to excha...</td>\n",
              "      <td>Positive</td>\n",
              "      <td>38</td>\n",
              "    </tr>\n",
              "    <tr>\n",
              "      <th>2</th>\n",
              "      <td>coronavirus australia woolworths to give elder...</td>\n",
              "      <td>Positive</td>\n",
              "      <td>13</td>\n",
              "    </tr>\n",
              "    <tr>\n",
              "      <th>3</th>\n",
              "      <td>my food stock is not the only one which is emp...</td>\n",
              "      <td>Positive</td>\n",
              "      <td>41</td>\n",
              "    </tr>\n",
              "    <tr>\n",
              "      <th>4</th>\n",
              "      <td>me ready to go at supermarket during the covid...</td>\n",
              "      <td>Extremely Negative</td>\n",
              "      <td>39</td>\n",
              "    </tr>\n",
              "    <tr>\n",
              "      <th>...</th>\n",
              "      <td>...</td>\n",
              "      <td>...</td>\n",
              "      <td>...</td>\n",
              "    </tr>\n",
              "    <tr>\n",
              "      <th>44951</th>\n",
              "      <td>meanwhile in a supermarket in israel people da...</td>\n",
              "      <td>Positive</td>\n",
              "      <td>15</td>\n",
              "    </tr>\n",
              "    <tr>\n",
              "      <th>44952</th>\n",
              "      <td>did you panic buy a lot of nonperishable items...</td>\n",
              "      <td>Negative</td>\n",
              "      <td>33</td>\n",
              "    </tr>\n",
              "    <tr>\n",
              "      <th>44953</th>\n",
              "      <td>asst prof of economics was on talking about he...</td>\n",
              "      <td>Neutral</td>\n",
              "      <td>23</td>\n",
              "    </tr>\n",
              "    <tr>\n",
              "      <th>44954</th>\n",
              "      <td>gov need to do somethings instead of biar je r...</td>\n",
              "      <td>Extremely Negative</td>\n",
              "      <td>28</td>\n",
              "    </tr>\n",
              "    <tr>\n",
              "      <th>44955</th>\n",
              "      <td>i and members are committed to the safety of o...</td>\n",
              "      <td>Extremely Positive</td>\n",
              "      <td>30</td>\n",
              "    </tr>\n",
              "  </tbody>\n",
              "</table>\n",
              "<p>44956 rows × 3 columns</p>\n",
              "</div>\n",
              "      <button class=\"colab-df-convert\" onclick=\"convertToInteractive('df-b8cebc08-c280-4c4d-ad02-dcd09d4fa3ba')\"\n",
              "              title=\"Convert this dataframe to an interactive table.\"\n",
              "              style=\"display:none;\">\n",
              "        \n",
              "  <svg xmlns=\"http://www.w3.org/2000/svg\" height=\"24px\"viewBox=\"0 0 24 24\"\n",
              "       width=\"24px\">\n",
              "    <path d=\"M0 0h24v24H0V0z\" fill=\"none\"/>\n",
              "    <path d=\"M18.56 5.44l.94 2.06.94-2.06 2.06-.94-2.06-.94-.94-2.06-.94 2.06-2.06.94zm-11 1L8.5 8.5l.94-2.06 2.06-.94-2.06-.94L8.5 2.5l-.94 2.06-2.06.94zm10 10l.94 2.06.94-2.06 2.06-.94-2.06-.94-.94-2.06-.94 2.06-2.06.94z\"/><path d=\"M17.41 7.96l-1.37-1.37c-.4-.4-.92-.59-1.43-.59-.52 0-1.04.2-1.43.59L10.3 9.45l-7.72 7.72c-.78.78-.78 2.05 0 2.83L4 21.41c.39.39.9.59 1.41.59.51 0 1.02-.2 1.41-.59l7.78-7.78 2.81-2.81c.8-.78.8-2.07 0-2.86zM5.41 20L4 18.59l7.72-7.72 1.47 1.35L5.41 20z\"/>\n",
              "  </svg>\n",
              "      </button>\n",
              "      \n",
              "  <style>\n",
              "    .colab-df-container {\n",
              "      display:flex;\n",
              "      flex-wrap:wrap;\n",
              "      gap: 12px;\n",
              "    }\n",
              "\n",
              "    .colab-df-convert {\n",
              "      background-color: #E8F0FE;\n",
              "      border: none;\n",
              "      border-radius: 50%;\n",
              "      cursor: pointer;\n",
              "      display: none;\n",
              "      fill: #1967D2;\n",
              "      height: 32px;\n",
              "      padding: 0 0 0 0;\n",
              "      width: 32px;\n",
              "    }\n",
              "\n",
              "    .colab-df-convert:hover {\n",
              "      background-color: #E2EBFA;\n",
              "      box-shadow: 0px 1px 2px rgba(60, 64, 67, 0.3), 0px 1px 3px 1px rgba(60, 64, 67, 0.15);\n",
              "      fill: #174EA6;\n",
              "    }\n",
              "\n",
              "    [theme=dark] .colab-df-convert {\n",
              "      background-color: #3B4455;\n",
              "      fill: #D2E3FC;\n",
              "    }\n",
              "\n",
              "    [theme=dark] .colab-df-convert:hover {\n",
              "      background-color: #434B5C;\n",
              "      box-shadow: 0px 1px 3px 1px rgba(0, 0, 0, 0.15);\n",
              "      filter: drop-shadow(0px 1px 2px rgba(0, 0, 0, 0.3));\n",
              "      fill: #FFFFFF;\n",
              "    }\n",
              "  </style>\n",
              "\n",
              "      <script>\n",
              "        const buttonEl =\n",
              "          document.querySelector('#df-b8cebc08-c280-4c4d-ad02-dcd09d4fa3ba button.colab-df-convert');\n",
              "        buttonEl.style.display =\n",
              "          google.colab.kernel.accessAllowed ? 'block' : 'none';\n",
              "\n",
              "        async function convertToInteractive(key) {\n",
              "          const element = document.querySelector('#df-b8cebc08-c280-4c4d-ad02-dcd09d4fa3ba');\n",
              "          const dataTable =\n",
              "            await google.colab.kernel.invokeFunction('convertToInteractive',\n",
              "                                                     [key], {});\n",
              "          if (!dataTable) return;\n",
              "\n",
              "          const docLinkHtml = 'Like what you see? Visit the ' +\n",
              "            '<a target=\"_blank\" href=https://colab.research.google.com/notebooks/data_table.ipynb>data table notebook</a>'\n",
              "            + ' to learn more about interactive tables.';\n",
              "          element.innerHTML = '';\n",
              "          dataTable['output_type'] = 'display_data';\n",
              "          await google.colab.output.renderOutput(dataTable, element);\n",
              "          const docLink = document.createElement('div');\n",
              "          docLink.innerHTML = docLinkHtml;\n",
              "          element.appendChild(docLink);\n",
              "        }\n",
              "      </script>\n",
              "    </div>\n",
              "  </div>\n",
              "  "
            ]
          },
          "metadata": {},
          "execution_count": 24
        }
      ]
    },
    {
      "cell_type": "code",
      "execution_count": null,
      "metadata": {
        "id": "lJ8ruGiKoGhn"
      },
      "outputs": [],
      "source": [
        "SEQ_LEN = 60"
      ]
    },
    {
      "cell_type": "code",
      "execution_count": null,
      "metadata": {
        "colab": {
          "base_uri": "https://localhost:8080/"
        },
        "id": "Q6BNjmP_oOL0",
        "outputId": "b0264b01-dd0b-41f3-fbc4-803e93f3df96"
      },
      "outputs": [
        {
          "output_type": "stream",
          "name": "stdout",
          "text": [
            "Collecting transformers\n",
            "  Downloading transformers-4.30.2-py3-none-any.whl (7.2 MB)\n",
            "\u001b[2K     \u001b[90m━━━━━━━━━━━━━━━━━━━━━━━━━━━━━━━━━━━━━━━━\u001b[0m \u001b[32m7.2/7.2 MB\u001b[0m \u001b[31m62.8 MB/s\u001b[0m eta \u001b[36m0:00:00\u001b[0m\n",
            "\u001b[?25hRequirement already satisfied: filelock in /usr/local/lib/python3.10/dist-packages (from transformers) (3.12.2)\n",
            "Collecting huggingface-hub<1.0,>=0.14.1 (from transformers)\n",
            "  Downloading huggingface_hub-0.15.1-py3-none-any.whl (236 kB)\n",
            "\u001b[2K     \u001b[90m━━━━━━━━━━━━━━━━━━━━━━━━━━━━━━━━━━━━━━\u001b[0m \u001b[32m236.8/236.8 kB\u001b[0m \u001b[31m30.9 MB/s\u001b[0m eta \u001b[36m0:00:00\u001b[0m\n",
            "\u001b[?25hRequirement already satisfied: numpy>=1.17 in /usr/local/lib/python3.10/dist-packages (from transformers) (1.22.4)\n",
            "Requirement already satisfied: packaging>=20.0 in /usr/local/lib/python3.10/dist-packages (from transformers) (23.1)\n",
            "Requirement already satisfied: pyyaml>=5.1 in /usr/local/lib/python3.10/dist-packages (from transformers) (6.0)\n",
            "Requirement already satisfied: regex!=2019.12.17 in /usr/local/lib/python3.10/dist-packages (from transformers) (2022.10.31)\n",
            "Requirement already satisfied: requests in /usr/local/lib/python3.10/dist-packages (from transformers) (2.27.1)\n",
            "Collecting tokenizers!=0.11.3,<0.14,>=0.11.1 (from transformers)\n",
            "  Downloading tokenizers-0.13.3-cp310-cp310-manylinux_2_17_x86_64.manylinux2014_x86_64.whl (7.8 MB)\n",
            "\u001b[2K     \u001b[90m━━━━━━━━━━━━━━━━━━━━━━━━━━━━━━━━━━━━━━━━\u001b[0m \u001b[32m7.8/7.8 MB\u001b[0m \u001b[31m55.5 MB/s\u001b[0m eta \u001b[36m0:00:00\u001b[0m\n",
            "\u001b[?25hCollecting safetensors>=0.3.1 (from transformers)\n",
            "  Downloading safetensors-0.3.1-cp310-cp310-manylinux_2_17_x86_64.manylinux2014_x86_64.whl (1.3 MB)\n",
            "\u001b[2K     \u001b[90m━━━━━━━━━━━━━━━━━━━━━━━━━━━━━━━━━━━━━━━━\u001b[0m \u001b[32m1.3/1.3 MB\u001b[0m \u001b[31m67.6 MB/s\u001b[0m eta \u001b[36m0:00:00\u001b[0m\n",
            "\u001b[?25hRequirement already satisfied: tqdm>=4.27 in /usr/local/lib/python3.10/dist-packages (from transformers) (4.65.0)\n",
            "Requirement already satisfied: fsspec in /usr/local/lib/python3.10/dist-packages (from huggingface-hub<1.0,>=0.14.1->transformers) (2023.6.0)\n",
            "Requirement already satisfied: typing-extensions>=3.7.4.3 in /usr/local/lib/python3.10/dist-packages (from huggingface-hub<1.0,>=0.14.1->transformers) (4.6.3)\n",
            "Requirement already satisfied: urllib3<1.27,>=1.21.1 in /usr/local/lib/python3.10/dist-packages (from requests->transformers) (1.26.16)\n",
            "Requirement already satisfied: certifi>=2017.4.17 in /usr/local/lib/python3.10/dist-packages (from requests->transformers) (2023.5.7)\n",
            "Requirement already satisfied: charset-normalizer~=2.0.0 in /usr/local/lib/python3.10/dist-packages (from requests->transformers) (2.0.12)\n",
            "Requirement already satisfied: idna<4,>=2.5 in /usr/local/lib/python3.10/dist-packages (from requests->transformers) (3.4)\n",
            "Installing collected packages: tokenizers, safetensors, huggingface-hub, transformers\n",
            "Successfully installed huggingface-hub-0.15.1 safetensors-0.3.1 tokenizers-0.13.3 transformers-4.30.2\n"
          ]
        }
      ],
      "source": [
        "pip install transformers"
      ]
    },
    {
      "cell_type": "code",
      "execution_count": null,
      "metadata": {
        "id": "uZ4pXCGsoJS1"
      },
      "outputs": [],
      "source": [
        "from transformers import AutoTokenizer"
      ]
    },
    {
      "cell_type": "code",
      "execution_count": null,
      "metadata": {
        "id": "4Y33RnBxoNLX",
        "colab": {
          "base_uri": "https://localhost:8080/",
          "height": 113,
          "referenced_widgets": [
            "c4f7b467c16d450bae2f0e6a5cab4c63",
            "f9178825dc9d424abf41bc8f74af3983",
            "912ad1d9fbf54bb09f0eef6964f81c74",
            "41fbb39f0f7c42da98ec67b04b0a8a88",
            "9bcb9da0825943dda7b4359d1c7e1245",
            "5a3b66a766aa4b8f983122a548c72f11",
            "31c69f78cd8b43f091084d9dfa96970a",
            "38087d6667384844a5600c0804849e5f",
            "950e6b0df9a1413cb02de4181a02fdad",
            "582c67cfe0d04699b683668178938661",
            "c5a40f914686413292cbd29d1924f6a3",
            "59186f3d05f14316ab0fb9b6428d3094",
            "4edd2934c109414b99d9debfa9310927",
            "13b2065efffc409abbb947f77494118a",
            "713e21f2959944dfb03270f56a1dd068",
            "42550f1401594b3a8cc548e2c231befe",
            "cf73d12f90ec4170afaf5e9becb96725",
            "46d824ef87f24e3c95fd955fbb401588",
            "1aecbb365f1b499096834c043d337cf7",
            "bb752cd649a947a6a09b2328d90c9846",
            "cd108fd63e4049d799a4c30d213f6bfe",
            "bb4056cf28d94ea783330463894a132c",
            "f17e97cbf6cd4ecca979b1db410c751f",
            "3b39cad5987c4d5fa8d391a494e0194e",
            "636ca52c1efc468dba5bc036d078124a",
            "f28c5320d44c41f1b9e250726ab9e17f",
            "b930ceff607d4d16bce6087915e3266c",
            "28052ad5baa94eefae5255b86802ae1f",
            "1982679165484e5ab7567eb6b39581a6",
            "9a1b37d6724746e1a1d66195c21b42a7",
            "932048b231214ce3b95ac603f046921f",
            "9dbec1c7bff04f8cb76bd98d0b2b0643",
            "59803211bc0c46b59c4d72fc72dc9fed"
          ]
        },
        "outputId": "8c5ae5cb-f172-4cc5-ba88-90746a59ba1a"
      },
      "outputs": [
        {
          "output_type": "display_data",
          "data": {
            "text/plain": [
              "Downloading (…)lve/main/config.json:   0%|          | 0.00/684 [00:00<?, ?B/s]"
            ],
            "application/vnd.jupyter.widget-view+json": {
              "version_major": 2,
              "version_minor": 0,
              "model_id": "c4f7b467c16d450bae2f0e6a5cab4c63"
            }
          },
          "metadata": {}
        },
        {
          "output_type": "display_data",
          "data": {
            "text/plain": [
              "Downloading (…)ve/main/spiece.model:   0%|          | 0.00/760k [00:00<?, ?B/s]"
            ],
            "application/vnd.jupyter.widget-view+json": {
              "version_major": 2,
              "version_minor": 0,
              "model_id": "59186f3d05f14316ab0fb9b6428d3094"
            }
          },
          "metadata": {}
        },
        {
          "output_type": "display_data",
          "data": {
            "text/plain": [
              "Downloading (…)/main/tokenizer.json:   0%|          | 0.00/1.31M [00:00<?, ?B/s]"
            ],
            "application/vnd.jupyter.widget-view+json": {
              "version_major": 2,
              "version_minor": 0,
              "model_id": "f17e97cbf6cd4ecca979b1db410c751f"
            }
          },
          "metadata": {}
        }
      ],
      "source": [
        "tokenizer = AutoTokenizer.from_pretrained('albert-base-v2')"
      ]
    },
    {
      "cell_type": "code",
      "execution_count": null,
      "metadata": {
        "id": "0dJOHOjHBc6E"
      },
      "outputs": [],
      "source": [
        "# SEQ_LEN = 22\n",
        "data2 = data.copy()"
      ]
    },
    {
      "cell_type": "code",
      "source": [
        "data = data.sample(frac=0.3)"
      ],
      "metadata": {
        "id": "hiFctol9klZv"
      },
      "execution_count": null,
      "outputs": []
    },
    {
      "cell_type": "code",
      "execution_count": null,
      "metadata": {
        "id": "X2WGlOcUqE4B"
      },
      "outputs": [],
      "source": [
        "Xids = np.zeros((len(data),SEQ_LEN))\n",
        "Xmask = np.zeros((len(data),SEQ_LEN))\n"
      ]
    },
    {
      "cell_type": "code",
      "execution_count": null,
      "metadata": {
        "colab": {
          "base_uri": "https://localhost:8080/"
        },
        "id": "m5xruxlzqTWp",
        "outputId": "2255042a-8b46-4f8f-ce54-9c92e7246192"
      },
      "outputs": [
        {
          "output_type": "execute_result",
          "data": {
            "text/plain": [
              "(13487, 60)"
            ]
          },
          "metadata": {},
          "execution_count": 68
        }
      ],
      "source": [
        "Xids.shape"
      ]
    },
    {
      "cell_type": "code",
      "execution_count": null,
      "metadata": {
        "id": "gmgMfId5qVgd"
      },
      "outputs": [],
      "source": [
        "for i, sequence in enumerate(data['tweet']):\n",
        "    tokens = tokenizer.encode_plus(\n",
        "    sequence,\n",
        "    max_length = SEQ_LEN,\n",
        "    truncation=True,\n",
        "    padding=\"max_length\",\n",
        "    add_special_tokens=True,\n",
        "    return_token_type_ids=False,\n",
        "    return_attention_mask=True,\n",
        "    return_tensors='tf'\n",
        "    )\n",
        "    Xids[i, :], Xmask[i, :] = tokens['input_ids'], tokens['attention_mask']"
      ]
    },
    {
      "cell_type": "code",
      "execution_count": null,
      "metadata": {
        "colab": {
          "base_uri": "https://localhost:8080/",
          "height": 423
        },
        "id": "Hz7f0MHYKN16",
        "outputId": "3c4b6d58-6e12-471b-b1f4-e3c4f0886704"
      },
      "outputs": [
        {
          "output_type": "execute_result",
          "data": {
            "text/plain": [
              "                                                   tweet           sentiment  \\\n",
              "30322  covid19 is teaching us to stop judging people ...  Extremely Negative   \n",
              "29122  a political amp economic game by the big guys ...  Extremely Positive   \n",
              "28165  yesterday i thought i would get a few photos t...            Negative   \n",
              "34814  thank you to all of our healthcare workers gro...            Positive   \n",
              "32555  yes said this from the beginning maldives can ...  Extremely Positive   \n",
              "...                                                  ...                 ...   \n",
              "16472  were equally concerned for our customers and w...            Positive   \n",
              "6083   might want to update your offers so people can...            Positive   \n",
              "43968  online shopping delivers to store fkkk coronav...             Neutral   \n",
              "26324  0469315906 atanda afeez ademola gtbank pls sir...            Positive   \n",
              "35195  toiletpaper panic shortage 2020 survivor tee d...             Neutral   \n",
              "\n",
              "       len  \n",
              "30322   36  \n",
              "29122   49  \n",
              "28165   33  \n",
              "34814   38  \n",
              "32555   37  \n",
              "...    ...  \n",
              "16472   42  \n",
              "6083    30  \n",
              "43968    7  \n",
              "26324   42  \n",
              "35195   11  \n",
              "\n",
              "[13487 rows x 3 columns]"
            ],
            "text/html": [
              "\n",
              "  <div id=\"df-3f270790-0f12-42bc-8057-aef99a2a7b32\">\n",
              "    <div class=\"colab-df-container\">\n",
              "      <div>\n",
              "<style scoped>\n",
              "    .dataframe tbody tr th:only-of-type {\n",
              "        vertical-align: middle;\n",
              "    }\n",
              "\n",
              "    .dataframe tbody tr th {\n",
              "        vertical-align: top;\n",
              "    }\n",
              "\n",
              "    .dataframe thead th {\n",
              "        text-align: right;\n",
              "    }\n",
              "</style>\n",
              "<table border=\"1\" class=\"dataframe\">\n",
              "  <thead>\n",
              "    <tr style=\"text-align: right;\">\n",
              "      <th></th>\n",
              "      <th>tweet</th>\n",
              "      <th>sentiment</th>\n",
              "      <th>len</th>\n",
              "    </tr>\n",
              "  </thead>\n",
              "  <tbody>\n",
              "    <tr>\n",
              "      <th>30322</th>\n",
              "      <td>covid19 is teaching us to stop judging people ...</td>\n",
              "      <td>Extremely Negative</td>\n",
              "      <td>36</td>\n",
              "    </tr>\n",
              "    <tr>\n",
              "      <th>29122</th>\n",
              "      <td>a political amp economic game by the big guys ...</td>\n",
              "      <td>Extremely Positive</td>\n",
              "      <td>49</td>\n",
              "    </tr>\n",
              "    <tr>\n",
              "      <th>28165</th>\n",
              "      <td>yesterday i thought i would get a few photos t...</td>\n",
              "      <td>Negative</td>\n",
              "      <td>33</td>\n",
              "    </tr>\n",
              "    <tr>\n",
              "      <th>34814</th>\n",
              "      <td>thank you to all of our healthcare workers gro...</td>\n",
              "      <td>Positive</td>\n",
              "      <td>38</td>\n",
              "    </tr>\n",
              "    <tr>\n",
              "      <th>32555</th>\n",
              "      <td>yes said this from the beginning maldives can ...</td>\n",
              "      <td>Extremely Positive</td>\n",
              "      <td>37</td>\n",
              "    </tr>\n",
              "    <tr>\n",
              "      <th>...</th>\n",
              "      <td>...</td>\n",
              "      <td>...</td>\n",
              "      <td>...</td>\n",
              "    </tr>\n",
              "    <tr>\n",
              "      <th>16472</th>\n",
              "      <td>were equally concerned for our customers and w...</td>\n",
              "      <td>Positive</td>\n",
              "      <td>42</td>\n",
              "    </tr>\n",
              "    <tr>\n",
              "      <th>6083</th>\n",
              "      <td>might want to update your offers so people can...</td>\n",
              "      <td>Positive</td>\n",
              "      <td>30</td>\n",
              "    </tr>\n",
              "    <tr>\n",
              "      <th>43968</th>\n",
              "      <td>online shopping delivers to store fkkk coronav...</td>\n",
              "      <td>Neutral</td>\n",
              "      <td>7</td>\n",
              "    </tr>\n",
              "    <tr>\n",
              "      <th>26324</th>\n",
              "      <td>0469315906 atanda afeez ademola gtbank pls sir...</td>\n",
              "      <td>Positive</td>\n",
              "      <td>42</td>\n",
              "    </tr>\n",
              "    <tr>\n",
              "      <th>35195</th>\n",
              "      <td>toiletpaper panic shortage 2020 survivor tee d...</td>\n",
              "      <td>Neutral</td>\n",
              "      <td>11</td>\n",
              "    </tr>\n",
              "  </tbody>\n",
              "</table>\n",
              "<p>13487 rows × 3 columns</p>\n",
              "</div>\n",
              "      <button class=\"colab-df-convert\" onclick=\"convertToInteractive('df-3f270790-0f12-42bc-8057-aef99a2a7b32')\"\n",
              "              title=\"Convert this dataframe to an interactive table.\"\n",
              "              style=\"display:none;\">\n",
              "        \n",
              "  <svg xmlns=\"http://www.w3.org/2000/svg\" height=\"24px\"viewBox=\"0 0 24 24\"\n",
              "       width=\"24px\">\n",
              "    <path d=\"M0 0h24v24H0V0z\" fill=\"none\"/>\n",
              "    <path d=\"M18.56 5.44l.94 2.06.94-2.06 2.06-.94-2.06-.94-.94-2.06-.94 2.06-2.06.94zm-11 1L8.5 8.5l.94-2.06 2.06-.94-2.06-.94L8.5 2.5l-.94 2.06-2.06.94zm10 10l.94 2.06.94-2.06 2.06-.94-2.06-.94-.94-2.06-.94 2.06-2.06.94z\"/><path d=\"M17.41 7.96l-1.37-1.37c-.4-.4-.92-.59-1.43-.59-.52 0-1.04.2-1.43.59L10.3 9.45l-7.72 7.72c-.78.78-.78 2.05 0 2.83L4 21.41c.39.39.9.59 1.41.59.51 0 1.02-.2 1.41-.59l7.78-7.78 2.81-2.81c.8-.78.8-2.07 0-2.86zM5.41 20L4 18.59l7.72-7.72 1.47 1.35L5.41 20z\"/>\n",
              "  </svg>\n",
              "      </button>\n",
              "      \n",
              "  <style>\n",
              "    .colab-df-container {\n",
              "      display:flex;\n",
              "      flex-wrap:wrap;\n",
              "      gap: 12px;\n",
              "    }\n",
              "\n",
              "    .colab-df-convert {\n",
              "      background-color: #E8F0FE;\n",
              "      border: none;\n",
              "      border-radius: 50%;\n",
              "      cursor: pointer;\n",
              "      display: none;\n",
              "      fill: #1967D2;\n",
              "      height: 32px;\n",
              "      padding: 0 0 0 0;\n",
              "      width: 32px;\n",
              "    }\n",
              "\n",
              "    .colab-df-convert:hover {\n",
              "      background-color: #E2EBFA;\n",
              "      box-shadow: 0px 1px 2px rgba(60, 64, 67, 0.3), 0px 1px 3px 1px rgba(60, 64, 67, 0.15);\n",
              "      fill: #174EA6;\n",
              "    }\n",
              "\n",
              "    [theme=dark] .colab-df-convert {\n",
              "      background-color: #3B4455;\n",
              "      fill: #D2E3FC;\n",
              "    }\n",
              "\n",
              "    [theme=dark] .colab-df-convert:hover {\n",
              "      background-color: #434B5C;\n",
              "      box-shadow: 0px 1px 3px 1px rgba(0, 0, 0, 0.15);\n",
              "      filter: drop-shadow(0px 1px 2px rgba(0, 0, 0, 0.3));\n",
              "      fill: #FFFFFF;\n",
              "    }\n",
              "  </style>\n",
              "\n",
              "      <script>\n",
              "        const buttonEl =\n",
              "          document.querySelector('#df-3f270790-0f12-42bc-8057-aef99a2a7b32 button.colab-df-convert');\n",
              "        buttonEl.style.display =\n",
              "          google.colab.kernel.accessAllowed ? 'block' : 'none';\n",
              "\n",
              "        async function convertToInteractive(key) {\n",
              "          const element = document.querySelector('#df-3f270790-0f12-42bc-8057-aef99a2a7b32');\n",
              "          const dataTable =\n",
              "            await google.colab.kernel.invokeFunction('convertToInteractive',\n",
              "                                                     [key], {});\n",
              "          if (!dataTable) return;\n",
              "\n",
              "          const docLinkHtml = 'Like what you see? Visit the ' +\n",
              "            '<a target=\"_blank\" href=https://colab.research.google.com/notebooks/data_table.ipynb>data table notebook</a>'\n",
              "            + ' to learn more about interactive tables.';\n",
              "          element.innerHTML = '';\n",
              "          dataTable['output_type'] = 'display_data';\n",
              "          await google.colab.output.renderOutput(dataTable, element);\n",
              "          const docLink = document.createElement('div');\n",
              "          docLink.innerHTML = docLinkHtml;\n",
              "          element.appendChild(docLink);\n",
              "        }\n",
              "      </script>\n",
              "    </div>\n",
              "  </div>\n",
              "  "
            ]
          },
          "metadata": {},
          "execution_count": 70
        }
      ],
      "source": [
        "data"
      ]
    },
    {
      "cell_type": "code",
      "execution_count": null,
      "metadata": {
        "colab": {
          "base_uri": "https://localhost:8080/"
        },
        "id": "_TpnkVoarXkL",
        "outputId": "9495357c-7942-4ebf-da75-87d9ef727916"
      },
      "outputs": [
        {
          "output_type": "execute_result",
          "data": {
            "text/plain": [
              "(13487,)"
            ]
          },
          "metadata": {},
          "execution_count": 71
        }
      ],
      "source": [
        "arr = data['sentiment'].factorize()[0]\n",
        "arr.shape"
      ]
    },
    {
      "cell_type": "code",
      "execution_count": null,
      "metadata": {
        "colab": {
          "base_uri": "https://localhost:8080/"
        },
        "id": "u56mo0xQr5s0",
        "outputId": "7ba037bc-cf4d-4502-b225-c1243506bcda"
      },
      "outputs": [
        {
          "output_type": "execute_result",
          "data": {
            "text/plain": [
              "(13487, 5)"
            ]
          },
          "metadata": {},
          "execution_count": 72
        }
      ],
      "source": [
        "labels = np.zeros((arr.size, arr.max()+1))\n",
        "labels.shape"
      ]
    },
    {
      "cell_type": "code",
      "execution_count": null,
      "metadata": {
        "id": "F3uVRh3OsBXQ"
      },
      "outputs": [],
      "source": [
        "labels[np.arange(arr.size), arr] = 1\n",
        "# labels = data['label_num']"
      ]
    },
    {
      "cell_type": "code",
      "execution_count": null,
      "metadata": {
        "id": "5tUwiF8iBFSN"
      },
      "outputs": [],
      "source": [
        "import tensorflow as tf"
      ]
    },
    {
      "cell_type": "code",
      "execution_count": null,
      "metadata": {
        "colab": {
          "base_uri": "https://localhost:8080/"
        },
        "id": "sZOq4El7swYr",
        "outputId": "9b6926db-73c5-476a-cb8c-0629b9afb6b9"
      },
      "outputs": [
        {
          "output_type": "execute_result",
          "data": {
            "text/plain": [
              "[PhysicalDevice(name='/physical_device:GPU:0', device_type='GPU')]"
            ]
          },
          "metadata": {},
          "execution_count": 75
        }
      ],
      "source": [
        "tf.config.experimental.list_physical_devices('GPU')"
      ]
    },
    {
      "cell_type": "code",
      "execution_count": null,
      "metadata": {
        "colab": {
          "base_uri": "https://localhost:8080/"
        },
        "id": "D_d8CJvKXT6K",
        "outputId": "2b83c601-be2b-4e7f-ac93-23df67d91a10"
      },
      "outputs": [
        {
          "output_type": "execute_result",
          "data": {
            "text/plain": [
              "Index(['tweet', 'sentiment', 'len'], dtype='object')"
            ]
          },
          "metadata": {},
          "execution_count": 76
        }
      ],
      "source": [
        "data.columns"
      ]
    },
    {
      "cell_type": "code",
      "execution_count": null,
      "metadata": {
        "id": "vRDieTWsSTQL"
      },
      "outputs": [],
      "source": [
        "# df['label'] = df['Product'].factorize()[0]"
      ]
    },
    {
      "cell_type": "code",
      "execution_count": null,
      "metadata": {
        "id": "87QHbeRgs8OC"
      },
      "outputs": [],
      "source": [
        "dataset = tf.data.Dataset.from_tensor_slices((Xids, Xmask, labels))"
      ]
    },
    {
      "cell_type": "code",
      "source": [
        "labels"
      ],
      "metadata": {
        "colab": {
          "base_uri": "https://localhost:8080/"
        },
        "id": "-RoQO_2yzIpd",
        "outputId": "7bde0eac-bfaa-4e2c-d9be-8393fb3dc2a1"
      },
      "execution_count": null,
      "outputs": [
        {
          "output_type": "execute_result",
          "data": {
            "text/plain": [
              "array([[1., 0., 0., 0., 0.],\n",
              "       [0., 1., 0., 0., 0.],\n",
              "       [0., 0., 1., 0., 0.],\n",
              "       ...,\n",
              "       [0., 0., 0., 0., 1.],\n",
              "       [0., 0., 0., 1., 0.],\n",
              "       [0., 0., 0., 0., 1.]])"
            ]
          },
          "metadata": {},
          "execution_count": 79
        }
      ]
    },
    {
      "cell_type": "code",
      "execution_count": null,
      "metadata": {
        "id": "_vkAXTwVtQKK"
      },
      "outputs": [],
      "source": [
        "def map_func(input_ids, masks, labels):\n",
        "    return{'input_ids': input_ids, 'attention_mask':masks}, labels"
      ]
    },
    {
      "cell_type": "code",
      "execution_count": null,
      "metadata": {
        "id": "wJAbvBXftorM"
      },
      "outputs": [],
      "source": [
        "dataset = dataset.map(map_func)"
      ]
    },
    {
      "cell_type": "code",
      "execution_count": null,
      "metadata": {
        "id": "YPZSvVu3tv1d"
      },
      "outputs": [],
      "source": [
        "dataset = dataset.shuffle(1000000).batch(64)"
      ]
    },
    {
      "cell_type": "code",
      "execution_count": null,
      "metadata": {
        "id": "x5cqp_CDt7av"
      },
      "outputs": [],
      "source": [
        "DS_LEN = len(list(dataset))"
      ]
    },
    {
      "cell_type": "code",
      "execution_count": null,
      "metadata": {
        "colab": {
          "base_uri": "https://localhost:8080/"
        },
        "id": "tb-JpMdvt-d4",
        "outputId": "e21c8d1d-1ae8-4ead-aec9-a1ad2ec4f817"
      },
      "outputs": [
        {
          "output_type": "execute_result",
          "data": {
            "text/plain": [
              "211"
            ]
          },
          "metadata": {},
          "execution_count": 84
        }
      ],
      "source": [
        "DS_LEN"
      ]
    },
    {
      "cell_type": "code",
      "source": [
        "# round(DS_LEN*SPLIT)"
      ],
      "metadata": {
        "id": "zJeJrde_0VPP"
      },
      "execution_count": null,
      "outputs": []
    },
    {
      "cell_type": "code",
      "source": [
        "# len(train)"
      ],
      "metadata": {
        "id": "AHStkojW0a0w"
      },
      "execution_count": null,
      "outputs": []
    },
    {
      "cell_type": "code",
      "source": [
        "DATASET_SIZE = len(dataset)"
      ],
      "metadata": {
        "id": "OL9m2oDz1j2j"
      },
      "execution_count": null,
      "outputs": []
    },
    {
      "cell_type": "code",
      "source": [
        "train_size = int(0.8 * DATASET_SIZE)\n",
        "val_size = int(0.1 * DATASET_SIZE)\n",
        "test_size = int(0.1 * DATASET_SIZE)\n",
        "\n",
        "full_dataset = dataset\n",
        "full_dataset = full_dataset.shuffle(123424242)\n",
        "train_dataset = full_dataset.take(train_size)\n",
        "test_dataset = full_dataset.skip(train_size)\n",
        "val_dataset = test_dataset.skip(test_size)\n",
        "test_dataset = test_dataset.take(test_size)"
      ],
      "metadata": {
        "id": "W3aksvWY1bZy"
      },
      "execution_count": null,
      "outputs": []
    },
    {
      "cell_type": "code",
      "source": [
        "train = train_dataset\n",
        "test = test_dataset\n",
        "val = val_dataset"
      ],
      "metadata": {
        "id": "n0oXnFK92EhC"
      },
      "execution_count": null,
      "outputs": []
    },
    {
      "cell_type": "code",
      "execution_count": null,
      "metadata": {
        "id": "q0ag84j2uAyY"
      },
      "outputs": [],
      "source": [
        "# SPLIT = 0.8\n",
        "# train = dataset.take(round(DS_LEN*SPLIT))\n",
        "# val = dataset.skip(round(DS_LEN*SPLIT))\n",
        "# test = dataset.skip(round())\n",
        "# # del dataset"
      ]
    },
    {
      "cell_type": "code",
      "execution_count": null,
      "metadata": {
        "id": "5C-UnpN8uQ4O"
      },
      "outputs": [],
      "source": [
        "from transformers import TFAutoModel"
      ]
    },
    {
      "cell_type": "code",
      "execution_count": null,
      "metadata": {
        "colab": {
          "base_uri": "https://localhost:8080/",
          "height": 156,
          "referenced_widgets": [
            "6b9083516b344c7a87fee51a2b962b34",
            "0abd3d3993b44d178a8a761e89f03e5d",
            "1654ce12cb434464b20feca5a1d82bfc",
            "6aa6bb38c9084fcab07492eeae812ea2",
            "132eddd90dae4538a5ad4aad1d797fb1",
            "d23938097def45c1a2dbb9acfecf1331",
            "d6a49c6a2c4949f184eca753bd2a2daa",
            "1299ef2b853d444cbf44eef77fbe6464",
            "d22f87b33fa14546a1053f61e70c5fba",
            "3a81e649d806498b9afbc07eea84c28d",
            "68cc9bd8034045a8aee61f924cac797f"
          ]
        },
        "id": "ryMVVI-kuXli",
        "outputId": "5298db4b-f027-4ad4-8afc-65f92e9a000e"
      },
      "outputs": [
        {
          "output_type": "display_data",
          "data": {
            "text/plain": [
              "Downloading model.safetensors:   0%|          | 0.00/47.4M [00:00<?, ?B/s]"
            ],
            "application/vnd.jupyter.widget-view+json": {
              "version_major": 2,
              "version_minor": 0,
              "model_id": "6b9083516b344c7a87fee51a2b962b34"
            }
          },
          "metadata": {}
        },
        {
          "output_type": "stream",
          "name": "stderr",
          "text": [
            "Some weights of the PyTorch model were not used when initializing the TF 2.0 model TFAlbertModel: ['predictions.LayerNorm.bias', 'predictions.bias', 'predictions.LayerNorm.weight', 'predictions.dense.bias', 'predictions.decoder.bias', 'predictions.dense.weight']\n",
            "- This IS expected if you are initializing TFAlbertModel from a PyTorch model trained on another task or with another architecture (e.g. initializing a TFBertForSequenceClassification model from a BertForPreTraining model).\n",
            "- This IS NOT expected if you are initializing TFAlbertModel from a PyTorch model that you expect to be exactly identical (e.g. initializing a TFBertForSequenceClassification model from a BertForSequenceClassification model).\n",
            "All the weights of TFAlbertModel were initialized from the PyTorch model.\n",
            "If your task is similar to the task the model of the checkpoint was trained on, you can already use TFAlbertModel for predictions without further training.\n"
          ]
        }
      ],
      "source": [
        "bert = TFAutoModel.from_pretrained('albert-base-v2')"
      ]
    },
    {
      "cell_type": "code",
      "execution_count": null,
      "metadata": {
        "id": "aaVXm40hueI2"
      },
      "outputs": [],
      "source": [
        "input_ids = tf.keras.layers.Input(shape=(SEQ_LEN,), name='input_ids', dtype='int32')\n",
        "mask = tf.keras.layers.Input(shape=(SEQ_LEN,), name='attention_mask', dtype='int32')\n",
        "\n",
        "embeddings = bert(input_ids, attention_mask=mask)[0]\n",
        "\n",
        "X = tf.keras.layers.GlobalMaxPooling1D()(embeddings)\n",
        "X = tf.keras.layers.BatchNormalization()(X)\n",
        "# X = tf.keras.layers.Dense(32, activation = 'relu')(X)\n",
        "# X = tf.keras.layers.Dropout(0.1)(X)\n",
        "X = tf.keras.layers.Dense(32, activation = 'relu')(X)\n",
        "y = tf.keras.layers.Dense(5, activation = 'softmax' , name = 'outputs')(X)\n",
        "\n",
        "model = tf.keras.Model(inputs=[input_ids, mask], outputs = y)"
      ]
    },
    {
      "cell_type": "code",
      "source": [
        "model.layers[2].trainable = False"
      ],
      "metadata": {
        "id": "cNqBGkUI79Yt"
      },
      "execution_count": null,
      "outputs": []
    },
    {
      "cell_type": "code",
      "execution_count": null,
      "metadata": {
        "colab": {
          "base_uri": "https://localhost:8080/"
        },
        "id": "uKSKOVihvAax",
        "outputId": "0b9d06f0-ba07-43f8-eb5b-a3f6952f8527"
      },
      "outputs": [
        {
          "output_type": "stream",
          "name": "stdout",
          "text": [
            "Model: \"model\"\n",
            "__________________________________________________________________________________________________\n",
            " Layer (type)                   Output Shape         Param #     Connected to                     \n",
            "==================================================================================================\n",
            " input_ids (InputLayer)         [(None, 60)]         0           []                               \n",
            "                                                                                                  \n",
            " attention_mask (InputLayer)    [(None, 60)]         0           []                               \n",
            "                                                                                                  \n",
            " tf_albert_model (TFAlbertModel  TFBaseModelOutputWi  11683584   ['input_ids[0][0]',              \n",
            " )                              thPooling(last_hidd               'attention_mask[0][0]']         \n",
            "                                en_state=(None, 60,                                               \n",
            "                                 768),                                                            \n",
            "                                 pooler_output=(Non                                               \n",
            "                                e, 768),                                                          \n",
            "                                 hidden_states=None                                               \n",
            "                                , attentions=None)                                                \n",
            "                                                                                                  \n",
            " global_max_pooling1d (GlobalMa  (None, 768)         0           ['tf_albert_model[0][0]']        \n",
            " xPooling1D)                                                                                      \n",
            "                                                                                                  \n",
            " batch_normalization (BatchNorm  (None, 768)         3072        ['global_max_pooling1d[0][0]']   \n",
            " alization)                                                                                       \n",
            "                                                                                                  \n",
            " dense (Dense)                  (None, 32)           24608       ['batch_normalization[0][0]']    \n",
            "                                                                                                  \n",
            " outputs (Dense)                (None, 5)            165         ['dense[0][0]']                  \n",
            "                                                                                                  \n",
            "==================================================================================================\n",
            "Total params: 11,711,429\n",
            "Trainable params: 26,309\n",
            "Non-trainable params: 11,685,120\n",
            "__________________________________________________________________________________________________\n"
          ]
        }
      ],
      "source": [
        "model.summary()"
      ]
    },
    {
      "cell_type": "code",
      "execution_count": null,
      "metadata": {
        "id": "w7CsiNnLwNDi"
      },
      "outputs": [],
      "source": [
        "# optimizer = tf.keras.optimizers.Adam(0.01)\n",
        "# loss = tf.keras.losses.CategoricalCrossentropy()\n",
        "# acc = tf.keras.metrics.CategoricalAccuracy('accuracy')"
      ]
    },
    {
      "cell_type": "code",
      "execution_count": null,
      "metadata": {
        "id": "iYeJ0GyMLqz4"
      },
      "outputs": [],
      "source": [
        "import pandas as pd\n",
        "from keras import layers\n",
        "from keras.layers import Dense, Activation, Flatten, Convolution1D, Dropout,MaxPooling1D\n",
        "from keras.layers import Input, Dense, Dropout, Activation, ZeroPadding2D, BatchNormalization, Flatten, Conv2D, Embedding, Add\n",
        "from keras.layers import Conv1D, GlobalAveragePooling1D, AveragePooling2D, MaxPooling2D, MaxPool1D, ZeroPadding1D, GlobalMaxPooling2D, GlobalAveragePooling2D, LSTM, SpatialDropout1D\n",
        "from keras.models import Sequential, Model\n",
        "from keras.preprocessing import image\n",
        "from keras.utils import plot_model\n",
        "from keras.applications.inception_v3 import InceptionV3\n",
        "from sklearn.model_selection import train_test_split\n",
        "import matplotlib.pyplot as plt\n",
        "from sklearn.metrics import confusion_matrix\n",
        "import seaborn as sns\n",
        "from keras.callbacks import ReduceLROnPlateau , EarlyStopping\n",
        "from keras.utils import to_categorical\n",
        "from tensorflow.keras.optimizers import Adam, Adamax\n",
        "import tensorflow as tf"
      ]
    },
    {
      "cell_type": "code",
      "execution_count": null,
      "metadata": {
        "id": "pa9I1DFdLq9v"
      },
      "outputs": [],
      "source": [
        "es = EarlyStopping(monitor=\"val_loss\", mode=\"min\", verbose=1, patience=7)\n",
        "learning_rate_reduction = ReduceLROnPlateau(monitor='val_accuracy',\n",
        "                                            patience=5,\n",
        "                                            verbose=1,\n",
        "                                            factor=0.7,\n",
        "                                            min_lr=0.000001)"
      ]
    },
    {
      "cell_type": "code",
      "source": [
        "from tensorflow.keras.optimizers import Adam, Adamax\n",
        "# Adamax(learning_rate=0.1)"
      ],
      "metadata": {
        "id": "KN45mTbg6eHA"
      },
      "execution_count": null,
      "outputs": []
    },
    {
      "cell_type": "code",
      "execution_count": null,
      "metadata": {
        "id": "ZNvCM2ICLq9v"
      },
      "outputs": [],
      "source": [
        "# model.compile(optimizer=Adamax(lr=0.0001), loss='categorical_crossentropy', metrics=['accuracy',tf.keras.metrics.Precision(),tf.keras.metrics.Recall(),tf.keras.metrics.AUC(num_thresholds=3)])\n",
        "model.compile(optimizer=Adam(learning_rate=0.0001), loss='categorical_crossentropy', metrics=['accuracy'])\n",
        "\n",
        "# tf.keras.utils.plot_model(ann_model, to_file='ann_model.png', show_shapes=True, show_layer_names=True)"
      ]
    },
    {
      "cell_type": "code",
      "execution_count": null,
      "metadata": {
        "id": "no6FjC0IN_c3"
      },
      "outputs": [],
      "source": [
        "# model.load_weights(f'{path}/checkpoint')"
      ]
    },
    {
      "cell_type": "code",
      "execution_count": null,
      "metadata": {
        "id": "qA1RELtXLq9v",
        "colab": {
          "base_uri": "https://localhost:8080/"
        },
        "outputId": "75e07679-371b-447e-80ef-21dc15376544"
      },
      "outputs": [
        {
          "output_type": "stream",
          "name": "stdout",
          "text": [
            "Epoch 1/10\n",
            "168/168 [==============================] - 56s 330ms/step - loss: 1.3087 - accuracy: 0.4378 - val_loss: 1.2906 - val_accuracy: 0.4510 - lr: 1.0000e-04\n",
            "Epoch 2/10\n",
            "168/168 [==============================] - 56s 332ms/step - loss: 1.2957 - accuracy: 0.4434 - val_loss: 1.2745 - val_accuracy: 0.4659 - lr: 1.0000e-04\n",
            "Epoch 3/10\n",
            "168/168 [==============================] - 60s 354ms/step - loss: 1.2789 - accuracy: 0.4559 - val_loss: 1.2414 - val_accuracy: 0.4808 - lr: 1.0000e-04\n",
            "Epoch 4/10\n",
            "168/168 [==============================] - 60s 355ms/step - loss: 1.2580 - accuracy: 0.4643 - val_loss: 1.2515 - val_accuracy: 0.4659 - lr: 1.0000e-04\n",
            "Epoch 5/10\n",
            "168/168 [==============================] - 60s 355ms/step - loss: 1.2484 - accuracy: 0.4719 - val_loss: 1.2321 - val_accuracy: 0.4659 - lr: 1.0000e-04\n",
            "Epoch 6/10\n",
            "168/168 [==============================] - 60s 355ms/step - loss: 1.2330 - accuracy: 0.4782 - val_loss: 1.1976 - val_accuracy: 0.4964 - lr: 1.0000e-04\n",
            "Epoch 7/10\n",
            "168/168 [==============================] - 57s 335ms/step - loss: 1.2229 - accuracy: 0.4850 - val_loss: 1.2226 - val_accuracy: 0.4908 - lr: 1.0000e-04\n",
            "Epoch 8/10\n",
            "168/168 [==============================] - 56s 333ms/step - loss: 1.2083 - accuracy: 0.4965 - val_loss: 1.1672 - val_accuracy: 0.5149 - lr: 1.0000e-04\n",
            "Epoch 9/10\n",
            "168/168 [==============================] - 56s 332ms/step - loss: 1.1970 - accuracy: 0.5023 - val_loss: 1.1484 - val_accuracy: 0.5270 - lr: 1.0000e-04\n",
            "Epoch 10/10\n",
            "168/168 [==============================] - 56s 332ms/step - loss: 1.1854 - accuracy: 0.5061 - val_loss: 1.1286 - val_accuracy: 0.5391 - lr: 1.0000e-04\n"
          ]
        }
      ],
      "source": [
        "num_epochs = 10\n",
        "# early_stop = EarlyStopping(monitor='val_accuracy', patience=6,restore_best_weights=True)\n",
        "history = model.fit(train,\n",
        "                    # batch_size=32,\n",
        "                    epochs=num_epochs,\n",
        "                    # validati0on_split=0.2,\n",
        "                    validation_data=[val],\n",
        "                    callbacks =[\n",
        "                        learning_rate_reduction,\n",
        "                                es\n",
        "                                ],\n",
        "                    # verbose=0\n",
        "                    )"
      ]
    },
    {
      "cell_type": "code",
      "source": [
        "path = '/content/drive/MyDrive/work 401 corona/'"
      ],
      "metadata": {
        "id": "vw83gQzT_VP-"
      },
      "execution_count": null,
      "outputs": []
    },
    {
      "cell_type": "code",
      "source": [
        "model.save_weights(f'{path}/checkpoint')"
      ],
      "metadata": {
        "id": "97VVTbdMKLtH"
      },
      "execution_count": null,
      "outputs": []
    },
    {
      "cell_type": "code",
      "source": [
        "model.compile(optimizer=Adam(learning_rate=0.0001), loss='categorical_crossentropy', metrics=['accuracy'])"
      ],
      "metadata": {
        "id": "CCa71Vb44UFQ"
      },
      "execution_count": null,
      "outputs": []
    },
    {
      "cell_type": "code",
      "source": [
        "num_epochs = 5\n",
        "# early_stop = EarlyStopping(monitor='val_accuracy', patience=6,restore_best_weights=True)\n",
        "history = model.fit(train,\n",
        "                    # batch_size=32,\n",
        "                    epochs=num_epochs,\n",
        "                    # validati0on_split=0.2,\n",
        "                    validation_data=[val],\n",
        "                    callbacks =[\n",
        "                        learning_rate_reduction,\n",
        "                                es\n",
        "                                ],\n",
        "                    # verbose=0\n",
        "                    )"
      ],
      "metadata": {
        "colab": {
          "base_uri": "https://localhost:8080/"
        },
        "id": "2m7h136VQJR3",
        "outputId": "523223af-cda4-4357-b57a-4bad4a72d02b"
      },
      "execution_count": null,
      "outputs": [
        {
          "output_type": "stream",
          "name": "stdout",
          "text": [
            "Epoch 1/5\n",
            "168/168 [==============================] - ETA: 0s - loss: 0.2989 - accuracy: 0.9103"
          ]
        }
      ]
    },
    {
      "cell_type": "code",
      "source": [
        "# model.save_weights(f'{path}/checkpoint')"
      ],
      "metadata": {
        "id": "NCfoAze4QMaR"
      },
      "execution_count": null,
      "outputs": []
    },
    {
      "cell_type": "code",
      "source": [
        "num_epochs = 10\n",
        "# early_stop = EarlyStopping(monitor='val_accuracy', patience=6,restore_best_weights=True)\n",
        "history = model.fit(train,\n",
        "                    # batch_size=32,\n",
        "                    epochs=num_epochs,\n",
        "                    # validati0on_split=0.2,\n",
        "                    validation_data=[val],\n",
        "                    callbacks =[\n",
        "                        learning_rate_reduction,\n",
        "                                es\n",
        "                                ],\n",
        "                    # verbose=0\n",
        "                    )"
      ],
      "metadata": {
        "id": "ZcRGQLF4kn5q"
      },
      "execution_count": null,
      "outputs": []
    },
    {
      "cell_type": "code",
      "source": [
        "model.save_weights(f'{path}/checkpoint')"
      ],
      "metadata": {
        "id": "Swdcx02PkpRC"
      },
      "execution_count": null,
      "outputs": []
    },
    {
      "cell_type": "code",
      "execution_count": null,
      "metadata": {
        "id": "9W_upsOxCJ8V"
      },
      "outputs": [],
      "source": [
        "savemod(model=model,pa='albert')"
      ]
    },
    {
      "cell_type": "code",
      "execution_count": null,
      "metadata": {
        "id": "zWB1UHy_N54V"
      },
      "outputs": [],
      "source": [
        "import os"
      ]
    },
    {
      "cell_type": "code",
      "execution_count": null,
      "metadata": {
        "id": "QDOqC3C0N7QU"
      },
      "outputs": [],
      "source": [
        "# path = '/content/drive/MyDrive/checkpoint4/'\n",
        "# os.mkdir(path)\n",
        "model.load_weights(f'{path}checkpoint')"
      ]
    },
    {
      "cell_type": "code",
      "execution_count": null,
      "metadata": {
        "id": "qJo4zcS-pyUk"
      },
      "outputs": [],
      "source": [
        "# precision = tf.keras.metrics.Precision()\n",
        "# recall = tf.keras.metrics.Recall()\n",
        "# accuracy = tf.keras.metrics.CategoricalAccuracy()\n",
        "# auc = tf.keras.metrics.AUC(num_thresholds=6)\n",
        "tr = []\n",
        "pr = []\n",
        "l = 0\n",
        "# for k in range(len(val)):\n",
        "\n",
        "\n",
        "for i,j in test.take(-1):\n",
        "  # l += 1\n",
        "  # print(l)\n",
        "  s = model.predict(i,verbose=0)\n",
        "  tr.append(np.array(j))\n",
        "  pr.append(np.array(s))\n",
        "#   precision.update_state(s,j)\n",
        "#   accuracy.update_state(s,j)\n",
        "#   auc.update_state(s,j)\n",
        "#   recall.update_state(s,j)\n",
        "# pre = precision.result().numpy()\n",
        "# rec = recall.result().numpy()\n",
        "# au = auc.result().numpy()\n",
        "# acc = accuracy.result().numpy()\n",
        "# print(pre,rec,au,acc)"
      ]
    },
    {
      "cell_type": "code",
      "execution_count": null,
      "metadata": {
        "id": "hwjAGseEyWfS"
      },
      "outputs": [],
      "source": [
        "yp = np.concatenate([y for y in pr], axis=0)"
      ]
    },
    {
      "cell_type": "code",
      "execution_count": null,
      "metadata": {
        "id": "Ph4SeCZq2dKu"
      },
      "outputs": [],
      "source": [
        "yt = np.concatenate([y for y in tr], axis=0)"
      ]
    },
    {
      "cell_type": "code",
      "source": [
        "yt"
      ],
      "metadata": {
        "colab": {
          "base_uri": "https://localhost:8080/"
        },
        "id": "SPPZaiTpbYBM",
        "outputId": "eda605c0-a31c-45b0-8c87-4df8911fd6d2"
      },
      "execution_count": null,
      "outputs": [
        {
          "output_type": "execute_result",
          "data": {
            "text/plain": [
              "array([[0., 0., 0., 1., 0.],\n",
              "       [0., 1., 0., 0., 0.],\n",
              "       [0., 0., 0., 1., 0.],\n",
              "       ...,\n",
              "       [0., 0., 0., 1., 0.],\n",
              "       [0., 1., 0., 0., 0.],\n",
              "       [0., 0., 0., 1., 0.]])"
            ]
          },
          "metadata": {},
          "execution_count": 114
        }
      ]
    },
    {
      "cell_type": "code",
      "source": [
        "yp.shape,yt.shape"
      ],
      "metadata": {
        "colab": {
          "base_uri": "https://localhost:8080/"
        },
        "id": "p_0JDo83_Sfq",
        "outputId": "7895085f-b66f-46e6-f207-77ad0a8253e2"
      },
      "execution_count": null,
      "outputs": [
        {
          "output_type": "execute_result",
          "data": {
            "text/plain": [
              "((1344, 5), (1344, 5))"
            ]
          },
          "metadata": {},
          "execution_count": 115
        }
      ]
    },
    {
      "cell_type": "code",
      "source": [
        "yp = yp.reshape(-1,)\n",
        "yt = yt.reshape(-1,)\n",
        "yp.shape,yt.shape"
      ],
      "metadata": {
        "colab": {
          "base_uri": "https://localhost:8080/"
        },
        "id": "xK9jMllc_WGK",
        "outputId": "e3adb599-b638-478a-c111-d44b79cd759f"
      },
      "execution_count": null,
      "outputs": [
        {
          "output_type": "execute_result",
          "data": {
            "text/plain": [
              "((6720,), (6720,))"
            ]
          },
          "metadata": {},
          "execution_count": 119
        }
      ]
    },
    {
      "cell_type": "code",
      "execution_count": null,
      "metadata": {
        "id": "SLc2M6Ht2aE4"
      },
      "outputs": [],
      "source": [
        "y1 = yp\n",
        "y2 = yt\n",
        "\n",
        "# for i in range(len(yt)):\n",
        "#   y1[i] = yp[i].argmax()\n",
        "#   y2[i] = yt[i].argmax()"
      ]
    },
    {
      "cell_type": "code",
      "source": [
        "y1"
      ],
      "metadata": {
        "colab": {
          "base_uri": "https://localhost:8080/"
        },
        "id": "r4P9tzkZ-y1A",
        "outputId": "c0af9cc9-d4c3-4eb4-ebf9-1119279ce392"
      },
      "execution_count": null,
      "outputs": [
        {
          "output_type": "execute_result",
          "data": {
            "text/plain": [
              "array([1.5716384e-03, 7.9645196e-07, 3.4822980e-01, ..., 6.8823672e-03,\n",
              "       9.6455914e-01, 5.6431717e-03], dtype=float32)"
            ]
          },
          "metadata": {},
          "execution_count": 121
        }
      ]
    },
    {
      "cell_type": "markdown",
      "metadata": {
        "id": "r1PHaWuK2yRv"
      },
      "source": []
    },
    {
      "cell_type": "code",
      "source": [
        "y1[y1 > 0.5] = 1\n",
        "y1[y1 < 0.5] = 0\n",
        "y1"
      ],
      "metadata": {
        "colab": {
          "base_uri": "https://localhost:8080/"
        },
        "id": "_6Hnk3KB_s3N",
        "outputId": "84b86722-cbbb-47b8-e204-e0d0f4d7b38e"
      },
      "execution_count": null,
      "outputs": [
        {
          "output_type": "execute_result",
          "data": {
            "text/plain": [
              "array([1., 1., 1., 0., 1., 1., 0., 0., 0., 0., 1., 0., 1., 0., 1., 0., 0.,\n",
              "       0., 1., 0., 1., 1., 0., 1., 1., 0., 0., 1., 1., 0., 0., 0., 0., 0.,\n",
              "       0., 0., 0., 0., 0., 1., 1., 0., 0., 0., 0., 0., 0., 0., 1., 0., 1.,\n",
              "       0., 1., 0., 0., 0., 0., 0., 0., 0., 0., 0., 0., 1., 0., 1., 0., 0.,\n",
              "       1., 0., 1., 1., 0., 0., 0., 0., 1., 0., 0., 0., 0., 0., 0., 1., 0.,\n",
              "       0., 0., 0., 0., 0., 0., 0., 0., 0., 0., 1., 1., 1., 1., 1., 0., 0.,\n",
              "       0., 0., 0., 1., 0., 1., 1., 1., 0., 0., 1., 1., 1., 1., 1., 1., 0.,\n",
              "       0., 1., 1., 0., 0., 0., 0., 0., 0., 1., 0., 0., 1., 0., 1., 0., 1.,\n",
              "       0., 1., 0., 0., 0., 1., 0., 1., 0., 0., 0., 1., 1., 0., 0., 0., 1.,\n",
              "       1., 0., 0., 0., 0., 1., 0., 1., 0., 0., 1., 0., 0., 0., 1., 1., 0.,\n",
              "       1., 1., 0., 1., 0., 0., 0., 0., 1., 0., 1., 1., 1., 1., 0., 0., 0.,\n",
              "       0., 0., 0., 1., 0., 0., 0., 1., 0., 0., 0., 0., 1., 1., 0., 1., 1.,\n",
              "       0., 1., 1., 0., 0., 0., 1., 0., 0., 0., 0., 0., 1., 0., 1., 1., 0.,\n",
              "       1., 0., 1., 0., 0., 0., 1., 0., 0., 0., 1., 1., 1., 0., 0., 1., 0.,\n",
              "       0., 0., 0., 1., 0., 0., 0., 0., 1., 1., 0., 0., 1., 0., 1., 0., 0.,\n",
              "       0., 0., 0., 0., 1., 0., 0., 0., 1., 0., 0., 0., 0., 0., 0., 0., 1.,\n",
              "       0., 0., 0., 0., 0., 1., 0., 1., 0., 1., 0., 0., 0., 1., 1., 0., 0.,\n",
              "       1., 0., 0., 1., 0., 0., 1., 0., 0., 1., 1., 1., 0., 1., 0., 0., 1.,\n",
              "       0., 0., 0., 1., 0., 1., 0., 1., 0., 0., 1., 0., 0., 0., 1., 1., 0.,\n",
              "       0., 0., 0., 1., 0., 0., 0., 0., 0., 0., 1., 0., 1., 1., 1., 0., 1.,\n",
              "       0., 1., 0., 0., 1., 1., 1., 1., 1., 0., 1., 0., 0., 0., 1., 0., 1.,\n",
              "       0., 0., 0., 0., 0., 0., 0., 1., 1., 0., 0., 1., 1., 0., 1., 1., 0.,\n",
              "       1., 0., 0., 1., 1., 0., 0., 1., 0., 0., 0., 1., 1., 0., 0., 0., 1.,\n",
              "       0., 1., 1., 0., 0., 0., 0., 0., 0., 0., 0., 1., 0., 0., 0., 0., 1.,\n",
              "       0., 0., 1., 0., 0., 0., 0., 1., 0., 1., 0., 0., 0., 0., 0., 1., 0.,\n",
              "       0., 1., 1., 0., 0., 0., 1., 0., 0., 0., 0., 1., 1., 1., 0., 1., 0.,\n",
              "       0., 0., 1., 0., 0., 1., 1.], dtype=float32)"
            ]
          },
          "metadata": {},
          "execution_count": 104
        }
      ]
    },
    {
      "cell_type": "code",
      "execution_count": null,
      "metadata": {
        "id": "mI-f9Uey6DfR"
      },
      "outputs": [],
      "source": [
        "ff = pd.DataFrame(columns=['real','predicted'])\n",
        "ff['real'] = y2\n",
        "ff['predicted'] = y1"
      ]
    },
    {
      "cell_type": "code",
      "execution_count": null,
      "metadata": {
        "id": "J2BhE5dR6RGi"
      },
      "outputs": [],
      "source": [
        "ff.to_csv(f'{path}/albert.csv',index=False)"
      ]
    },
    {
      "cell_type": "code",
      "execution_count": null,
      "metadata": {
        "colab": {
          "base_uri": "https://localhost:8080/"
        },
        "id": "yFH3CsdZ0_mc",
        "outputId": "52c54ce1-8bdf-4fb5-d457-46a7577c6c3d"
      },
      "outputs": [
        {
          "name": "stdout",
          "output_type": "stream",
          "text": [
            "104/104 [==============================] - 83s 794ms/step - loss: 0.1924 - accuracy: 0.9528 - precision_1: 0.9767 - recall_1: 0.9263 - auc_1: 0.9625 - val_loss: 0.1702 - val_accuracy: 0.9632 - val_precision_1: 0.9850 - val_recall_1: 0.9427 - val_auc_1: 0.9709 - lr: 1.0000e-05\n"
          ]
        }
      ],
      "source": [
        "num_epochs = 1\n",
        "# early_stop = EarlyStopping(monitor='val_accuracy', patience=6,restore_best_weights=True)\n",
        "history = model.fit(train,\n",
        "                    # batch_size=32,\n",
        "                    epochs=num_epochs,\n",
        "                    # validati0on_split=0.2,\n",
        "                    validation_data=[val],\n",
        "                    callbacks =[\n",
        "                        learning_rate_reduction,\n",
        "                                es\n",
        "                                ],\n",
        "                    # verbose=0\n",
        "                    )"
      ]
    },
    {
      "cell_type": "code",
      "execution_count": null,
      "metadata": {
        "colab": {
          "base_uri": "https://localhost:8080/"
        },
        "id": "LX6R-Lhr26aM",
        "outputId": "07b9f692-c910-4412-b4c7-8247febe6c6b"
      },
      "outputs": [
        {
          "data": {
            "text/plain": [
              "array([ 8.,  0., 15., ...,  3.,  5.,  5.])"
            ]
          },
          "execution_count": 228,
          "metadata": {},
          "output_type": "execute_result"
        }
      ],
      "source": [
        "y2"
      ]
    },
    {
      "cell_type": "markdown",
      "source": [
        "# visualization"
      ],
      "metadata": {
        "id": "HT79vSvTprLl"
      }
    },
    {
      "cell_type": "code",
      "source": [
        "from sklearn.metrics import accuracy_score,recall_score,precision_score,f1_score,precision_recall_curve,roc_auc_score\n",
        "from sklearn.metrics import confusion_matrix\n",
        "\n"
      ],
      "metadata": {
        "id": "NHTlpg3HvJGU"
      },
      "execution_count": 71,
      "outputs": []
    },
    {
      "cell_type": "code",
      "source": [
        "name = 'albert'"
      ],
      "metadata": {
        "id": "Ij8nZTvZ2nIy"
      },
      "execution_count": 222,
      "outputs": []
    },
    {
      "cell_type": "code",
      "source": [
        "per = pd.read_csv(f'/content/drive/MyDrive/work 37 corona /{name}.csv')\n",
        "ytr = per['real'].to_numpy().reshape(-1,5)\n",
        "ypr = per['predicted'].to_numpy().reshape(-1,5)"
      ],
      "metadata": {
        "id": "V5-my4RApxzj"
      },
      "execution_count": 223,
      "outputs": []
    },
    {
      "cell_type": "code",
      "source": [
        "yp = np.zeros(ypr.shape[0])\n",
        "for i,j in enumerate(ypr):\n",
        "    yp[i] = j.argmax()\n",
        "yt = np.zeros(ytr.shape[0])\n",
        "for i,j in enumerate(ytr):\n",
        "    yt[i] = j.argmax()"
      ],
      "metadata": {
        "id": "_HOIdVz_tc1M"
      },
      "execution_count": 224,
      "outputs": []
    },
    {
      "cell_type": "code",
      "source": [
        "ret = pd.DataFrame()\n",
        "ret['real'] = yt\n",
        "ret['predicted'] = yt\n",
        "ret.to_csv(f'/content/drive/MyDrive/work 37 corona /result/{name}-data.csv')"
      ],
      "metadata": {
        "id": "-P-RpJj63CDU"
      },
      "execution_count": 225,
      "outputs": []
    },
    {
      "cell_type": "code",
      "source": [
        "# confusion_matrix(yt,yp)"
      ],
      "metadata": {
        "id": "gyAfVRa51kmW"
      },
      "execution_count": 191,
      "outputs": []
    },
    {
      "cell_type": "code",
      "source": [
        "l = pd.DataFrame(confusion_matrix(yt,yp))\n",
        "# l/l.sum(axis=1)\n",
        "l"
      ],
      "metadata": {
        "id": "tdZJdw3Xyd8m",
        "outputId": "cd2e1d96-baf3-4ff1-b1c3-be9f5a45365a",
        "colab": {
          "base_uri": "https://localhost:8080/",
          "height": 206
        }
      },
      "execution_count": 192,
      "outputs": [
        {
          "output_type": "execute_result",
          "data": {
            "text/plain": [
              "      0     1    2     3     4\n",
              "0  1097   259    8   262    15\n",
              "1   136  1784   33   279   252\n",
              "2    10    36  828   314     7\n",
              "3   145   309  283  1470    50\n",
              "4    11   325   10    30  1039"
            ],
            "text/html": [
              "\n",
              "  <div id=\"df-26699397-42fe-42a3-bcdf-077607fe000f\">\n",
              "    <div class=\"colab-df-container\">\n",
              "      <div>\n",
              "<style scoped>\n",
              "    .dataframe tbody tr th:only-of-type {\n",
              "        vertical-align: middle;\n",
              "    }\n",
              "\n",
              "    .dataframe tbody tr th {\n",
              "        vertical-align: top;\n",
              "    }\n",
              "\n",
              "    .dataframe thead th {\n",
              "        text-align: right;\n",
              "    }\n",
              "</style>\n",
              "<table border=\"1\" class=\"dataframe\">\n",
              "  <thead>\n",
              "    <tr style=\"text-align: right;\">\n",
              "      <th></th>\n",
              "      <th>0</th>\n",
              "      <th>1</th>\n",
              "      <th>2</th>\n",
              "      <th>3</th>\n",
              "      <th>4</th>\n",
              "    </tr>\n",
              "  </thead>\n",
              "  <tbody>\n",
              "    <tr>\n",
              "      <th>0</th>\n",
              "      <td>1097</td>\n",
              "      <td>259</td>\n",
              "      <td>8</td>\n",
              "      <td>262</td>\n",
              "      <td>15</td>\n",
              "    </tr>\n",
              "    <tr>\n",
              "      <th>1</th>\n",
              "      <td>136</td>\n",
              "      <td>1784</td>\n",
              "      <td>33</td>\n",
              "      <td>279</td>\n",
              "      <td>252</td>\n",
              "    </tr>\n",
              "    <tr>\n",
              "      <th>2</th>\n",
              "      <td>10</td>\n",
              "      <td>36</td>\n",
              "      <td>828</td>\n",
              "      <td>314</td>\n",
              "      <td>7</td>\n",
              "    </tr>\n",
              "    <tr>\n",
              "      <th>3</th>\n",
              "      <td>145</td>\n",
              "      <td>309</td>\n",
              "      <td>283</td>\n",
              "      <td>1470</td>\n",
              "      <td>50</td>\n",
              "    </tr>\n",
              "    <tr>\n",
              "      <th>4</th>\n",
              "      <td>11</td>\n",
              "      <td>325</td>\n",
              "      <td>10</td>\n",
              "      <td>30</td>\n",
              "      <td>1039</td>\n",
              "    </tr>\n",
              "  </tbody>\n",
              "</table>\n",
              "</div>\n",
              "      <button class=\"colab-df-convert\" onclick=\"convertToInteractive('df-26699397-42fe-42a3-bcdf-077607fe000f')\"\n",
              "              title=\"Convert this dataframe to an interactive table.\"\n",
              "              style=\"display:none;\">\n",
              "        \n",
              "  <svg xmlns=\"http://www.w3.org/2000/svg\" height=\"24px\"viewBox=\"0 0 24 24\"\n",
              "       width=\"24px\">\n",
              "    <path d=\"M0 0h24v24H0V0z\" fill=\"none\"/>\n",
              "    <path d=\"M18.56 5.44l.94 2.06.94-2.06 2.06-.94-2.06-.94-.94-2.06-.94 2.06-2.06.94zm-11 1L8.5 8.5l.94-2.06 2.06-.94-2.06-.94L8.5 2.5l-.94 2.06-2.06.94zm10 10l.94 2.06.94-2.06 2.06-.94-2.06-.94-.94-2.06-.94 2.06-2.06.94z\"/><path d=\"M17.41 7.96l-1.37-1.37c-.4-.4-.92-.59-1.43-.59-.52 0-1.04.2-1.43.59L10.3 9.45l-7.72 7.72c-.78.78-.78 2.05 0 2.83L4 21.41c.39.39.9.59 1.41.59.51 0 1.02-.2 1.41-.59l7.78-7.78 2.81-2.81c.8-.78.8-2.07 0-2.86zM5.41 20L4 18.59l7.72-7.72 1.47 1.35L5.41 20z\"/>\n",
              "  </svg>\n",
              "      </button>\n",
              "      \n",
              "  <style>\n",
              "    .colab-df-container {\n",
              "      display:flex;\n",
              "      flex-wrap:wrap;\n",
              "      gap: 12px;\n",
              "    }\n",
              "\n",
              "    .colab-df-convert {\n",
              "      background-color: #E8F0FE;\n",
              "      border: none;\n",
              "      border-radius: 50%;\n",
              "      cursor: pointer;\n",
              "      display: none;\n",
              "      fill: #1967D2;\n",
              "      height: 32px;\n",
              "      padding: 0 0 0 0;\n",
              "      width: 32px;\n",
              "    }\n",
              "\n",
              "    .colab-df-convert:hover {\n",
              "      background-color: #E2EBFA;\n",
              "      box-shadow: 0px 1px 2px rgba(60, 64, 67, 0.3), 0px 1px 3px 1px rgba(60, 64, 67, 0.15);\n",
              "      fill: #174EA6;\n",
              "    }\n",
              "\n",
              "    [theme=dark] .colab-df-convert {\n",
              "      background-color: #3B4455;\n",
              "      fill: #D2E3FC;\n",
              "    }\n",
              "\n",
              "    [theme=dark] .colab-df-convert:hover {\n",
              "      background-color: #434B5C;\n",
              "      box-shadow: 0px 1px 3px 1px rgba(0, 0, 0, 0.15);\n",
              "      filter: drop-shadow(0px 1px 2px rgba(0, 0, 0, 0.3));\n",
              "      fill: #FFFFFF;\n",
              "    }\n",
              "  </style>\n",
              "\n",
              "      <script>\n",
              "        const buttonEl =\n",
              "          document.querySelector('#df-26699397-42fe-42a3-bcdf-077607fe000f button.colab-df-convert');\n",
              "        buttonEl.style.display =\n",
              "          google.colab.kernel.accessAllowed ? 'block' : 'none';\n",
              "\n",
              "        async function convertToInteractive(key) {\n",
              "          const element = document.querySelector('#df-26699397-42fe-42a3-bcdf-077607fe000f');\n",
              "          const dataTable =\n",
              "            await google.colab.kernel.invokeFunction('convertToInteractive',\n",
              "                                                     [key], {});\n",
              "          if (!dataTable) return;\n",
              "\n",
              "          const docLinkHtml = 'Like what you see? Visit the ' +\n",
              "            '<a target=\"_blank\" href=https://colab.research.google.com/notebooks/data_table.ipynb>data table notebook</a>'\n",
              "            + ' to learn more about interactive tables.';\n",
              "          element.innerHTML = '';\n",
              "          dataTable['output_type'] = 'display_data';\n",
              "          await google.colab.output.renderOutput(dataTable, element);\n",
              "          const docLink = document.createElement('div');\n",
              "          docLink.innerHTML = docLinkHtml;\n",
              "          element.appendChild(docLink);\n",
              "        }\n",
              "      </script>\n",
              "    </div>\n",
              "  </div>\n",
              "  "
            ]
          },
          "metadata": {},
          "execution_count": 192
        }
      ]
    },
    {
      "cell_type": "code",
      "source": [
        "l = l.div(l.sum(axis=1), axis=1)\n",
        "l"
      ],
      "metadata": {
        "id": "4D3EiMDXyd8n",
        "outputId": "d907dd65-46b9-4392-d0b9-83368b6853be",
        "colab": {
          "base_uri": "https://localhost:8080/",
          "height": 206
        }
      },
      "execution_count": 193,
      "outputs": [
        {
          "output_type": "execute_result",
          "data": {
            "text/plain": [
              "          0         1         2         3         4\n",
              "0  0.668495  0.104267  0.006695  0.116083  0.010601\n",
              "1  0.082876  0.718196  0.027615  0.123615  0.178092\n",
              "2  0.006094  0.014493  0.692887  0.139123  0.004947\n",
              "3  0.088361  0.124396  0.236820  0.651307  0.035336\n",
              "4  0.006703  0.130837  0.008368  0.013292  0.734276"
            ],
            "text/html": [
              "\n",
              "  <div id=\"df-3353844b-94f5-4f01-99d9-26dee7d735ab\">\n",
              "    <div class=\"colab-df-container\">\n",
              "      <div>\n",
              "<style scoped>\n",
              "    .dataframe tbody tr th:only-of-type {\n",
              "        vertical-align: middle;\n",
              "    }\n",
              "\n",
              "    .dataframe tbody tr th {\n",
              "        vertical-align: top;\n",
              "    }\n",
              "\n",
              "    .dataframe thead th {\n",
              "        text-align: right;\n",
              "    }\n",
              "</style>\n",
              "<table border=\"1\" class=\"dataframe\">\n",
              "  <thead>\n",
              "    <tr style=\"text-align: right;\">\n",
              "      <th></th>\n",
              "      <th>0</th>\n",
              "      <th>1</th>\n",
              "      <th>2</th>\n",
              "      <th>3</th>\n",
              "      <th>4</th>\n",
              "    </tr>\n",
              "  </thead>\n",
              "  <tbody>\n",
              "    <tr>\n",
              "      <th>0</th>\n",
              "      <td>0.668495</td>\n",
              "      <td>0.104267</td>\n",
              "      <td>0.006695</td>\n",
              "      <td>0.116083</td>\n",
              "      <td>0.010601</td>\n",
              "    </tr>\n",
              "    <tr>\n",
              "      <th>1</th>\n",
              "      <td>0.082876</td>\n",
              "      <td>0.718196</td>\n",
              "      <td>0.027615</td>\n",
              "      <td>0.123615</td>\n",
              "      <td>0.178092</td>\n",
              "    </tr>\n",
              "    <tr>\n",
              "      <th>2</th>\n",
              "      <td>0.006094</td>\n",
              "      <td>0.014493</td>\n",
              "      <td>0.692887</td>\n",
              "      <td>0.139123</td>\n",
              "      <td>0.004947</td>\n",
              "    </tr>\n",
              "    <tr>\n",
              "      <th>3</th>\n",
              "      <td>0.088361</td>\n",
              "      <td>0.124396</td>\n",
              "      <td>0.236820</td>\n",
              "      <td>0.651307</td>\n",
              "      <td>0.035336</td>\n",
              "    </tr>\n",
              "    <tr>\n",
              "      <th>4</th>\n",
              "      <td>0.006703</td>\n",
              "      <td>0.130837</td>\n",
              "      <td>0.008368</td>\n",
              "      <td>0.013292</td>\n",
              "      <td>0.734276</td>\n",
              "    </tr>\n",
              "  </tbody>\n",
              "</table>\n",
              "</div>\n",
              "      <button class=\"colab-df-convert\" onclick=\"convertToInteractive('df-3353844b-94f5-4f01-99d9-26dee7d735ab')\"\n",
              "              title=\"Convert this dataframe to an interactive table.\"\n",
              "              style=\"display:none;\">\n",
              "        \n",
              "  <svg xmlns=\"http://www.w3.org/2000/svg\" height=\"24px\"viewBox=\"0 0 24 24\"\n",
              "       width=\"24px\">\n",
              "    <path d=\"M0 0h24v24H0V0z\" fill=\"none\"/>\n",
              "    <path d=\"M18.56 5.44l.94 2.06.94-2.06 2.06-.94-2.06-.94-.94-2.06-.94 2.06-2.06.94zm-11 1L8.5 8.5l.94-2.06 2.06-.94-2.06-.94L8.5 2.5l-.94 2.06-2.06.94zm10 10l.94 2.06.94-2.06 2.06-.94-2.06-.94-.94-2.06-.94 2.06-2.06.94z\"/><path d=\"M17.41 7.96l-1.37-1.37c-.4-.4-.92-.59-1.43-.59-.52 0-1.04.2-1.43.59L10.3 9.45l-7.72 7.72c-.78.78-.78 2.05 0 2.83L4 21.41c.39.39.9.59 1.41.59.51 0 1.02-.2 1.41-.59l7.78-7.78 2.81-2.81c.8-.78.8-2.07 0-2.86zM5.41 20L4 18.59l7.72-7.72 1.47 1.35L5.41 20z\"/>\n",
              "  </svg>\n",
              "      </button>\n",
              "      \n",
              "  <style>\n",
              "    .colab-df-container {\n",
              "      display:flex;\n",
              "      flex-wrap:wrap;\n",
              "      gap: 12px;\n",
              "    }\n",
              "\n",
              "    .colab-df-convert {\n",
              "      background-color: #E8F0FE;\n",
              "      border: none;\n",
              "      border-radius: 50%;\n",
              "      cursor: pointer;\n",
              "      display: none;\n",
              "      fill: #1967D2;\n",
              "      height: 32px;\n",
              "      padding: 0 0 0 0;\n",
              "      width: 32px;\n",
              "    }\n",
              "\n",
              "    .colab-df-convert:hover {\n",
              "      background-color: #E2EBFA;\n",
              "      box-shadow: 0px 1px 2px rgba(60, 64, 67, 0.3), 0px 1px 3px 1px rgba(60, 64, 67, 0.15);\n",
              "      fill: #174EA6;\n",
              "    }\n",
              "\n",
              "    [theme=dark] .colab-df-convert {\n",
              "      background-color: #3B4455;\n",
              "      fill: #D2E3FC;\n",
              "    }\n",
              "\n",
              "    [theme=dark] .colab-df-convert:hover {\n",
              "      background-color: #434B5C;\n",
              "      box-shadow: 0px 1px 3px 1px rgba(0, 0, 0, 0.15);\n",
              "      filter: drop-shadow(0px 1px 2px rgba(0, 0, 0, 0.3));\n",
              "      fill: #FFFFFF;\n",
              "    }\n",
              "  </style>\n",
              "\n",
              "      <script>\n",
              "        const buttonEl =\n",
              "          document.querySelector('#df-3353844b-94f5-4f01-99d9-26dee7d735ab button.colab-df-convert');\n",
              "        buttonEl.style.display =\n",
              "          google.colab.kernel.accessAllowed ? 'block' : 'none';\n",
              "\n",
              "        async function convertToInteractive(key) {\n",
              "          const element = document.querySelector('#df-3353844b-94f5-4f01-99d9-26dee7d735ab');\n",
              "          const dataTable =\n",
              "            await google.colab.kernel.invokeFunction('convertToInteractive',\n",
              "                                                     [key], {});\n",
              "          if (!dataTable) return;\n",
              "\n",
              "          const docLinkHtml = 'Like what you see? Visit the ' +\n",
              "            '<a target=\"_blank\" href=https://colab.research.google.com/notebooks/data_table.ipynb>data table notebook</a>'\n",
              "            + ' to learn more about interactive tables.';\n",
              "          element.innerHTML = '';\n",
              "          dataTable['output_type'] = 'display_data';\n",
              "          await google.colab.output.renderOutput(dataTable, element);\n",
              "          const docLink = document.createElement('div');\n",
              "          docLink.innerHTML = docLinkHtml;\n",
              "          element.appendChild(docLink);\n",
              "        }\n",
              "      </script>\n",
              "    </div>\n",
              "  </div>\n",
              "  "
            ]
          },
          "metadata": {},
          "execution_count": 193
        }
      ]
    },
    {
      "cell_type": "code",
      "source": [
        "# name = 'albert'"
      ],
      "metadata": {
        "id": "9BZ80wVl2c1L"
      },
      "execution_count": 194,
      "outputs": []
    },
    {
      "cell_type": "code",
      "source": [
        "sns.heatmap(l,annot=True,fmt='.4g')\n",
        "plt.xlabel('Predicted label')\n",
        "plt.ylabel('Real label')\n",
        "plt.savefig(f'/content/drive/MyDrive/work 37 corona /result/{name}_confusion_matrix.png',bbox_inches='tight')\n",
        "pd.DataFrame(l).to_csv(f'/content/drive/MyDrive/work 37 corona /result/{name}_confusion_matrix.csv')"
      ],
      "metadata": {
        "colab": {
          "base_uri": "https://localhost:8080/",
          "height": 449
        },
        "outputId": "d30ecdee-8dc4-4f00-9363-b35b02a3474c",
        "id": "CzNpRMtzyd8n"
      },
      "execution_count": 195,
      "outputs": [
        {
          "output_type": "display_data",
          "data": {
            "text/plain": [
              "<Figure size 640x480 with 2 Axes>"
            ],
            "image/png": "[encoded data removed]"
          },
          "metadata": {}
        }
      ]
    },
    {
      "cell_type": "code",
      "execution_count": 136,
      "metadata": {
        "colab": {
          "base_uri": "https://localhost:8080/"
        },
        "id": "ncxCd7qp2yf4",
        "outputId": "781afae1-9953-48d4-c92c-d81dc1503079"
      },
      "outputs": [
        {
          "output_type": "stream",
          "name": "stdout",
          "text": [
            "              precision    recall  f1-score   support\n",
            "\n",
            "         0.0       0.93      0.90      0.91       179\n",
            "         1.0       0.98      0.95      0.97       193\n",
            "         2.0       0.93      0.93      0.93       338\n",
            "         3.0       0.95      0.96      0.96       411\n",
            "         4.0       0.92      0.95      0.93       223\n",
            "\n",
            "    accuracy                           0.94      1344\n",
            "   macro avg       0.94      0.94      0.94      1344\n",
            "weighted avg       0.94      0.94      0.94      1344\n",
            "\n"
          ]
        }
      ],
      "source": [
        "from sklearn.metrics import classification_report\n",
        "\n",
        "print(classification_report(yt,yp))"
      ]
    },
    {
      "cell_type": "code",
      "source": [
        "# result = pd.DataFrame()"
      ],
      "metadata": {
        "id": "f7HSN7r-xdCm"
      },
      "execution_count": 102,
      "outputs": []
    },
    {
      "cell_type": "code",
      "source": [
        "result['Albert'] = [accuracy_score(yt,yp),recall_score(yt,yp,average='macro'),precision_score(yt,yp,average='macro'),f1_score(yt,yp,average='macro')]\n",
        "# ,precision_recall_curve(yt,yp,average='weighted'),roc_auc_score(yt,yp,average='weighted')"
      ],
      "metadata": {
        "id": "6GD4XdaKvZ3E"
      },
      "execution_count": 103,
      "outputs": []
    },
    {
      "cell_type": "code",
      "source": [
        "result.index = ['accuracy','recall','precision','f1-score']"
      ],
      "metadata": {
        "id": "v0FBPe2EyDrj"
      },
      "execution_count": 105,
      "outputs": []
    },
    {
      "cell_type": "code",
      "source": [
        "result.to_csv('/content/drive/MyDrive/work 37 corona /result/result.csv')"
      ],
      "metadata": {
        "id": "pel-mchzyOWq"
      },
      "execution_count": 107,
      "outputs": []
    },
    {
      "cell_type": "code",
      "source": [
        "result"
      ],
      "metadata": {
        "id": "s76xcKwd3sCQ",
        "outputId": "6551dc55-e4c6-47e5-c1e5-cdff7d2a6fe5",
        "colab": {
          "base_uri": "https://localhost:8080/",
          "height": 175
        }
      },
      "execution_count": 226,
      "outputs": [
        {
          "output_type": "execute_result",
          "data": {
            "text/plain": [
              "               LSTM    2-LSTM    3-LSTM  2CNN-2LSTM     Dense    Albert\n",
              "accuracy   0.719306  0.731317  0.735320    0.764791  0.691504  0.940476\n",
              "recall     0.729095  0.735055  0.740089    0.765585  0.693032  0.937326\n",
              "precision  0.726737  0.738584  0.741904    0.779997  0.708153  0.940916\n",
              "f1-score   0.727706  0.736601  0.740852    0.771949  0.699267  0.938989"
            ],
            "text/html": [
              "\n",
              "  <div id=\"df-7324e87b-a43a-44b2-ac82-69dc950a72bc\">\n",
              "    <div class=\"colab-df-container\">\n",
              "      <div>\n",
              "<style scoped>\n",
              "    .dataframe tbody tr th:only-of-type {\n",
              "        vertical-align: middle;\n",
              "    }\n",
              "\n",
              "    .dataframe tbody tr th {\n",
              "        vertical-align: top;\n",
              "    }\n",
              "\n",
              "    .dataframe thead th {\n",
              "        text-align: right;\n",
              "    }\n",
              "</style>\n",
              "<table border=\"1\" class=\"dataframe\">\n",
              "  <thead>\n",
              "    <tr style=\"text-align: right;\">\n",
              "      <th></th>\n",
              "      <th>LSTM</th>\n",
              "      <th>2-LSTM</th>\n",
              "      <th>3-LSTM</th>\n",
              "      <th>2CNN-2LSTM</th>\n",
              "      <th>Dense</th>\n",
              "      <th>Albert</th>\n",
              "    </tr>\n",
              "  </thead>\n",
              "  <tbody>\n",
              "    <tr>\n",
              "      <th>accuracy</th>\n",
              "      <td>0.719306</td>\n",
              "      <td>0.731317</td>\n",
              "      <td>0.735320</td>\n",
              "      <td>0.764791</td>\n",
              "      <td>0.691504</td>\n",
              "      <td>0.940476</td>\n",
              "    </tr>\n",
              "    <tr>\n",
              "      <th>recall</th>\n",
              "      <td>0.729095</td>\n",
              "      <td>0.735055</td>\n",
              "      <td>0.740089</td>\n",
              "      <td>0.765585</td>\n",
              "      <td>0.693032</td>\n",
              "      <td>0.937326</td>\n",
              "    </tr>\n",
              "    <tr>\n",
              "      <th>precision</th>\n",
              "      <td>0.726737</td>\n",
              "      <td>0.738584</td>\n",
              "      <td>0.741904</td>\n",
              "      <td>0.779997</td>\n",
              "      <td>0.708153</td>\n",
              "      <td>0.940916</td>\n",
              "    </tr>\n",
              "    <tr>\n",
              "      <th>f1-score</th>\n",
              "      <td>0.727706</td>\n",
              "      <td>0.736601</td>\n",
              "      <td>0.740852</td>\n",
              "      <td>0.771949</td>\n",
              "      <td>0.699267</td>\n",
              "      <td>0.938989</td>\n",
              "    </tr>\n",
              "  </tbody>\n",
              "</table>\n",
              "</div>\n",
              "      <button class=\"colab-df-convert\" onclick=\"convertToInteractive('df-7324e87b-a43a-44b2-ac82-69dc950a72bc')\"\n",
              "              title=\"Convert this dataframe to an interactive table.\"\n",
              "              style=\"display:none;\">\n",
              "        \n",
              "  <svg xmlns=\"http://www.w3.org/2000/svg\" height=\"24px\"viewBox=\"0 0 24 24\"\n",
              "       width=\"24px\">\n",
              "    <path d=\"M0 0h24v24H0V0z\" fill=\"none\"/>\n",
              "    <path d=\"M18.56 5.44l.94 2.06.94-2.06 2.06-.94-2.06-.94-.94-2.06-.94 2.06-2.06.94zm-11 1L8.5 8.5l.94-2.06 2.06-.94-2.06-.94L8.5 2.5l-.94 2.06-2.06.94zm10 10l.94 2.06.94-2.06 2.06-.94-2.06-.94-.94-2.06-.94 2.06-2.06.94z\"/><path d=\"M17.41 7.96l-1.37-1.37c-.4-.4-.92-.59-1.43-.59-.52 0-1.04.2-1.43.59L10.3 9.45l-7.72 7.72c-.78.78-.78 2.05 0 2.83L4 21.41c.39.39.9.59 1.41.59.51 0 1.02-.2 1.41-.59l7.78-7.78 2.81-2.81c.8-.78.8-2.07 0-2.86zM5.41 20L4 18.59l7.72-7.72 1.47 1.35L5.41 20z\"/>\n",
              "  </svg>\n",
              "      </button>\n",
              "      \n",
              "  <style>\n",
              "    .colab-df-container {\n",
              "      display:flex;\n",
              "      flex-wrap:wrap;\n",
              "      gap: 12px;\n",
              "    }\n",
              "\n",
              "    .colab-df-convert {\n",
              "      background-color: #E8F0FE;\n",
              "      border: none;\n",
              "      border-radius: 50%;\n",
              "      cursor: pointer;\n",
              "      display: none;\n",
              "      fill: #1967D2;\n",
              "      height: 32px;\n",
              "      padding: 0 0 0 0;\n",
              "      width: 32px;\n",
              "    }\n",
              "\n",
              "    .colab-df-convert:hover {\n",
              "      background-color: #E2EBFA;\n",
              "      box-shadow: 0px 1px 2px rgba(60, 64, 67, 0.3), 0px 1px 3px 1px rgba(60, 64, 67, 0.15);\n",
              "      fill: #174EA6;\n",
              "    }\n",
              "\n",
              "    [theme=dark] .colab-df-convert {\n",
              "      background-color: #3B4455;\n",
              "      fill: #D2E3FC;\n",
              "    }\n",
              "\n",
              "    [theme=dark] .colab-df-convert:hover {\n",
              "      background-color: #434B5C;\n",
              "      box-shadow: 0px 1px 3px 1px rgba(0, 0, 0, 0.15);\n",
              "      filter: drop-shadow(0px 1px 2px rgba(0, 0, 0, 0.3));\n",
              "      fill: #FFFFFF;\n",
              "    }\n",
              "  </style>\n",
              "\n",
              "      <script>\n",
              "        const buttonEl =\n",
              "          document.querySelector('#df-7324e87b-a43a-44b2-ac82-69dc950a72bc button.colab-df-convert');\n",
              "        buttonEl.style.display =\n",
              "          google.colab.kernel.accessAllowed ? 'block' : 'none';\n",
              "\n",
              "        async function convertToInteractive(key) {\n",
              "          const element = document.querySelector('#df-7324e87b-a43a-44b2-ac82-69dc950a72bc');\n",
              "          const dataTable =\n",
              "            await google.colab.kernel.invokeFunction('convertToInteractive',\n",
              "                                                     [key], {});\n",
              "          if (!dataTable) return;\n",
              "\n",
              "          const docLinkHtml = 'Like what you see? Visit the ' +\n",
              "            '<a target=\"_blank\" href=https://colab.research.google.com/notebooks/data_table.ipynb>data table notebook</a>'\n",
              "            + ' to learn more about interactive tables.';\n",
              "          element.innerHTML = '';\n",
              "          dataTable['output_type'] = 'display_data';\n",
              "          await google.colab.output.renderOutput(dataTable, element);\n",
              "          const docLink = document.createElement('div');\n",
              "          docLink.innerHTML = docLinkHtml;\n",
              "          element.appendChild(docLink);\n",
              "        }\n",
              "      </script>\n",
              "    </div>\n",
              "  </div>\n",
              "  "
            ]
          },
          "metadata": {},
          "execution_count": 226
        }
      ]
    },
    {
      "cell_type": "code",
      "source": [
        "f=result"
      ],
      "metadata": {
        "id": "K65gdxaj4AGg"
      },
      "execution_count": 228,
      "outputs": []
    },
    {
      "cell_type": "code",
      "source": [
        "import seaborn as sns\n",
        "import matplotlib.pyplot as plt"
      ],
      "metadata": {
        "id": "DXC8GdlL35aI"
      },
      "execution_count": 227,
      "outputs": []
    },
    {
      "cell_type": "code",
      "execution_count": 234,
      "metadata": {
        "colab": {
          "base_uri": "https://localhost:8080/",
          "height": 430
        },
        "id": "LOw0SDbISn8_",
        "outputId": "19f7d1bb-c7eb-4373-b6b2-e66b5519353b"
      },
      "outputs": [
        {
          "output_type": "display_data",
          "data": {
            "text/plain": [
              "<Figure size 640x480 with 1 Axes>"
            ],
            "image/png": "[encoded data removed]"
          },
          "metadata": {}
        }
      ],
      "source": [
        "f.plot(kind='barh')\n",
        "plt.xlim(0.65,1.15)\n",
        "plt.savefig('/content/drive/MyDrive/work 37 corona /result/performance.png',bbox_inches='tight')\n",
        "f.to_csv('/content/drive/MyDrive/work 37 corona /result/performance.csv')"
      ]
    },
    {
      "cell_type": "code",
      "source": [
        "l = f.columns"
      ],
      "metadata": {
        "id": "eKmz5a1G4mMl"
      },
      "execution_count": 238,
      "outputs": []
    },
    {
      "cell_type": "code",
      "source": [
        "f2 = pd.concat([f[l[0]],f[l[1]],f[l[2]],f[l[3]],f[l[4]],f[l[5]]])"
      ],
      "metadata": {
        "id": "vDaNm0-44cBz"
      },
      "execution_count": 247,
      "outputs": []
    },
    {
      "cell_type": "code",
      "source": [
        "# f2['metrics'] = f2.index"
      ],
      "metadata": {
        "id": "wyPevtHO4327"
      },
      "execution_count": 244,
      "outputs": []
    },
    {
      "cell_type": "code",
      "source": [
        "f3 = pd.DataFrame()\n",
        "f3['metrics'] = f2.index\n",
        "f3['values'] = f2.values"
      ],
      "metadata": {
        "id": "wuQgokiz5APJ"
      },
      "execution_count": 248,
      "outputs": []
    },
    {
      "cell_type": "code",
      "source": [
        "mod = [i for i in f.columns for j in range(4)]"
      ],
      "metadata": {
        "id": "jd_tvL4v5XnR"
      },
      "execution_count": 251,
      "outputs": []
    },
    {
      "cell_type": "code",
      "source": [
        "f3['models name'] = mod"
      ],
      "metadata": {
        "id": "jaWmdlaB5Nto"
      },
      "execution_count": 252,
      "outputs": []
    },
    {
      "cell_type": "code",
      "source": [
        "f3"
      ],
      "metadata": {
        "id": "SNa5Xcnb5q4E",
        "outputId": "fdfdb836-e0da-4bbb-cee0-480f22272336",
        "colab": {
          "base_uri": "https://localhost:8080/",
          "height": 802
        }
      },
      "execution_count": 253,
      "outputs": [
        {
          "output_type": "execute_result",
          "data": {
            "text/plain": [
              "      metrics    values models name\n",
              "0    accuracy  0.719306        LSTM\n",
              "1      recall  0.729095        LSTM\n",
              "2   precision  0.726737        LSTM\n",
              "3    f1-score  0.727706        LSTM\n",
              "4    accuracy  0.731317      2-LSTM\n",
              "5      recall  0.735055      2-LSTM\n",
              "6   precision  0.738584      2-LSTM\n",
              "7    f1-score  0.736601      2-LSTM\n",
              "8    accuracy  0.735320      3-LSTM\n",
              "9      recall  0.740089      3-LSTM\n",
              "10  precision  0.741904      3-LSTM\n",
              "11   f1-score  0.740852      3-LSTM\n",
              "12   accuracy  0.764791  2CNN-2LSTM\n",
              "13     recall  0.765585  2CNN-2LSTM\n",
              "14  precision  0.779997  2CNN-2LSTM\n",
              "15   f1-score  0.771949  2CNN-2LSTM\n",
              "16   accuracy  0.691504       Dense\n",
              "17     recall  0.693032       Dense\n",
              "18  precision  0.708153       Dense\n",
              "19   f1-score  0.699267       Dense\n",
              "20   accuracy  0.940476      Albert\n",
              "21     recall  0.937326      Albert\n",
              "22  precision  0.940916      Albert\n",
              "23   f1-score  0.938989      Albert"
            ],
            "text/html": [
              "\n",
              "  <div id=\"df-94198f59-b72b-4cfb-aa7a-417fc5b98a16\">\n",
              "    <div class=\"colab-df-container\">\n",
              "      <div>\n",
              "<style scoped>\n",
              "    .dataframe tbody tr th:only-of-type {\n",
              "        vertical-align: middle;\n",
              "    }\n",
              "\n",
              "    .dataframe tbody tr th {\n",
              "        vertical-align: top;\n",
              "    }\n",
              "\n",
              "    .dataframe thead th {\n",
              "        text-align: right;\n",
              "    }\n",
              "</style>\n",
              "<table border=\"1\" class=\"dataframe\">\n",
              "  <thead>\n",
              "    <tr style=\"text-align: right;\">\n",
              "      <th></th>\n",
              "      <th>metrics</th>\n",
              "      <th>values</th>\n",
              "      <th>models name</th>\n",
              "    </tr>\n",
              "  </thead>\n",
              "  <tbody>\n",
              "    <tr>\n",
              "      <th>0</th>\n",
              "      <td>accuracy</td>\n",
              "      <td>0.719306</td>\n",
              "      <td>LSTM</td>\n",
              "    </tr>\n",
              "    <tr>\n",
              "      <th>1</th>\n",
              "      <td>recall</td>\n",
              "      <td>0.729095</td>\n",
              "      <td>LSTM</td>\n",
              "    </tr>\n",
              "    <tr>\n",
              "      <th>2</th>\n",
              "      <td>precision</td>\n",
              "      <td>0.726737</td>\n",
              "      <td>LSTM</td>\n",
              "    </tr>\n",
              "    <tr>\n",
              "      <th>3</th>\n",
              "      <td>f1-score</td>\n",
              "      <td>0.727706</td>\n",
              "      <td>LSTM</td>\n",
              "    </tr>\n",
              "    <tr>\n",
              "      <th>4</th>\n",
              "      <td>accuracy</td>\n",
              "      <td>0.731317</td>\n",
              "      <td>2-LSTM</td>\n",
              "    </tr>\n",
              "    <tr>\n",
              "      <th>5</th>\n",
              "      <td>recall</td>\n",
              "      <td>0.735055</td>\n",
              "      <td>2-LSTM</td>\n",
              "    </tr>\n",
              "    <tr>\n",
              "      <th>6</th>\n",
              "      <td>precision</td>\n",
              "      <td>0.738584</td>\n",
              "      <td>2-LSTM</td>\n",
              "    </tr>\n",
              "    <tr>\n",
              "      <th>7</th>\n",
              "      <td>f1-score</td>\n",
              "      <td>0.736601</td>\n",
              "      <td>2-LSTM</td>\n",
              "    </tr>\n",
              "    <tr>\n",
              "      <th>8</th>\n",
              "      <td>accuracy</td>\n",
              "      <td>0.735320</td>\n",
              "      <td>3-LSTM</td>\n",
              "    </tr>\n",
              "    <tr>\n",
              "      <th>9</th>\n",
              "      <td>recall</td>\n",
              "      <td>0.740089</td>\n",
              "      <td>3-LSTM</td>\n",
              "    </tr>\n",
              "    <tr>\n",
              "      <th>10</th>\n",
              "      <td>precision</td>\n",
              "      <td>0.741904</td>\n",
              "      <td>3-LSTM</td>\n",
              "    </tr>\n",
              "    <tr>\n",
              "      <th>11</th>\n",
              "      <td>f1-score</td>\n",
              "      <td>0.740852</td>\n",
              "      <td>3-LSTM</td>\n",
              "    </tr>\n",
              "    <tr>\n",
              "      <th>12</th>\n",
              "      <td>accuracy</td>\n",
              "      <td>0.764791</td>\n",
              "      <td>2CNN-2LSTM</td>\n",
              "    </tr>\n",
              "    <tr>\n",
              "      <th>13</th>\n",
              "      <td>recall</td>\n",
              "      <td>0.765585</td>\n",
              "      <td>2CNN-2LSTM</td>\n",
              "    </tr>\n",
              "    <tr>\n",
              "      <th>14</th>\n",
              "      <td>precision</td>\n",
              "      <td>0.779997</td>\n",
              "      <td>2CNN-2LSTM</td>\n",
              "    </tr>\n",
              "    <tr>\n",
              "      <th>15</th>\n",
              "      <td>f1-score</td>\n",
              "      <td>0.771949</td>\n",
              "      <td>2CNN-2LSTM</td>\n",
              "    </tr>\n",
              "    <tr>\n",
              "      <th>16</th>\n",
              "      <td>accuracy</td>\n",
              "      <td>0.691504</td>\n",
              "      <td>Dense</td>\n",
              "    </tr>\n",
              "    <tr>\n",
              "      <th>17</th>\n",
              "      <td>recall</td>\n",
              "      <td>0.693032</td>\n",
              "      <td>Dense</td>\n",
              "    </tr>\n",
              "    <tr>\n",
              "      <th>18</th>\n",
              "      <td>precision</td>\n",
              "      <td>0.708153</td>\n",
              "      <td>Dense</td>\n",
              "    </tr>\n",
              "    <tr>\n",
              "      <th>19</th>\n",
              "      <td>f1-score</td>\n",
              "      <td>0.699267</td>\n",
              "      <td>Dense</td>\n",
              "    </tr>\n",
              "    <tr>\n",
              "      <th>20</th>\n",
              "      <td>accuracy</td>\n",
              "      <td>0.940476</td>\n",
              "      <td>Albert</td>\n",
              "    </tr>\n",
              "    <tr>\n",
              "      <th>21</th>\n",
              "      <td>recall</td>\n",
              "      <td>0.937326</td>\n",
              "      <td>Albert</td>\n",
              "    </tr>\n",
              "    <tr>\n",
              "      <th>22</th>\n",
              "      <td>precision</td>\n",
              "      <td>0.940916</td>\n",
              "      <td>Albert</td>\n",
              "    </tr>\n",
              "    <tr>\n",
              "      <th>23</th>\n",
              "      <td>f1-score</td>\n",
              "      <td>0.938989</td>\n",
              "      <td>Albert</td>\n",
              "    </tr>\n",
              "  </tbody>\n",
              "</table>\n",
              "</div>\n",
              "      <button class=\"colab-df-convert\" onclick=\"convertToInteractive('df-94198f59-b72b-4cfb-aa7a-417fc5b98a16')\"\n",
              "              title=\"Convert this dataframe to an interactive table.\"\n",
              "              style=\"display:none;\">\n",
              "        \n",
              "  <svg xmlns=\"http://www.w3.org/2000/svg\" height=\"24px\"viewBox=\"0 0 24 24\"\n",
              "       width=\"24px\">\n",
              "    <path d=\"M0 0h24v24H0V0z\" fill=\"none\"/>\n",
              "    <path d=\"M18.56 5.44l.94 2.06.94-2.06 2.06-.94-2.06-.94-.94-2.06-.94 2.06-2.06.94zm-11 1L8.5 8.5l.94-2.06 2.06-.94-2.06-.94L8.5 2.5l-.94 2.06-2.06.94zm10 10l.94 2.06.94-2.06 2.06-.94-2.06-.94-.94-2.06-.94 2.06-2.06.94z\"/><path d=\"M17.41 7.96l-1.37-1.37c-.4-.4-.92-.59-1.43-.59-.52 0-1.04.2-1.43.59L10.3 9.45l-7.72 7.72c-.78.78-.78 2.05 0 2.83L4 21.41c.39.39.9.59 1.41.59.51 0 1.02-.2 1.41-.59l7.78-7.78 2.81-2.81c.8-.78.8-2.07 0-2.86zM5.41 20L4 18.59l7.72-7.72 1.47 1.35L5.41 20z\"/>\n",
              "  </svg>\n",
              "      </button>\n",
              "      \n",
              "  <style>\n",
              "    .colab-df-container {\n",
              "      display:flex;\n",
              "      flex-wrap:wrap;\n",
              "      gap: 12px;\n",
              "    }\n",
              "\n",
              "    .colab-df-convert {\n",
              "      background-color: #E8F0FE;\n",
              "      border: none;\n",
              "      border-radius: 50%;\n",
              "      cursor: pointer;\n",
              "      display: none;\n",
              "      fill: #1967D2;\n",
              "      height: 32px;\n",
              "      padding: 0 0 0 0;\n",
              "      width: 32px;\n",
              "    }\n",
              "\n",
              "    .colab-df-convert:hover {\n",
              "      background-color: #E2EBFA;\n",
              "      box-shadow: 0px 1px 2px rgba(60, 64, 67, 0.3), 0px 1px 3px 1px rgba(60, 64, 67, 0.15);\n",
              "      fill: #174EA6;\n",
              "    }\n",
              "\n",
              "    [theme=dark] .colab-df-convert {\n",
              "      background-color: #3B4455;\n",
              "      fill: #D2E3FC;\n",
              "    }\n",
              "\n",
              "    [theme=dark] .colab-df-convert:hover {\n",
              "      background-color: #434B5C;\n",
              "      box-shadow: 0px 1px 3px 1px rgba(0, 0, 0, 0.15);\n",
              "      filter: drop-shadow(0px 1px 2px rgba(0, 0, 0, 0.3));\n",
              "      fill: #FFFFFF;\n",
              "    }\n",
              "  </style>\n",
              "\n",
              "      <script>\n",
              "        const buttonEl =\n",
              "          document.querySelector('#df-94198f59-b72b-4cfb-aa7a-417fc5b98a16 button.colab-df-convert');\n",
              "        buttonEl.style.display =\n",
              "          google.colab.kernel.accessAllowed ? 'block' : 'none';\n",
              "\n",
              "        async function convertToInteractive(key) {\n",
              "          const element = document.querySelector('#df-94198f59-b72b-4cfb-aa7a-417fc5b98a16');\n",
              "          const dataTable =\n",
              "            await google.colab.kernel.invokeFunction('convertToInteractive',\n",
              "                                                     [key], {});\n",
              "          if (!dataTable) return;\n",
              "\n",
              "          const docLinkHtml = 'Like what you see? Visit the ' +\n",
              "            '<a target=\"_blank\" href=https://colab.research.google.com/notebooks/data_table.ipynb>data table notebook</a>'\n",
              "            + ' to learn more about interactive tables.';\n",
              "          element.innerHTML = '';\n",
              "          dataTable['output_type'] = 'display_data';\n",
              "          await google.colab.output.renderOutput(dataTable, element);\n",
              "          const docLink = document.createElement('div');\n",
              "          docLink.innerHTML = docLinkHtml;\n",
              "          element.appendChild(docLink);\n",
              "        }\n",
              "      </script>\n",
              "    </div>\n",
              "  </div>\n",
              "  "
            ]
          },
          "metadata": {},
          "execution_count": 253
        }
      ]
    },
    {
      "cell_type": "code",
      "source": [
        "sns.relplot(data=f3, x=\"metrics\", y=\"values\", hue=\"models name\",style='models name')\n",
        "plt.savefig('/content/drive/MyDrive/work 37 corona /result/performance2.png',bbox_inches='tight')\n",
        "f3.to_csv('/content/drive/MyDrive/work 37 corona /result/performance2.csv')"
      ],
      "metadata": {
        "colab": {
          "base_uri": "https://localhost:8080/",
          "height": 507
        },
        "id": "_zYIr_cEh7cI",
        "outputId": "1a151736-44d5-4ab2-cb0e-0a678b30d166"
      },
      "execution_count": 257,
      "outputs": [
        {
          "output_type": "display_data",
          "data": {
            "text/plain": [
              "<Figure size 639.875x500 with 1 Axes>"
            ],
            "image/png": "[encoded data removed]"
          },
          "metadata": {}
        }
      ]
    },
    {
      "cell_type": "code",
      "source": [
        "f3.columns"
      ],
      "metadata": {
        "id": "M-Hjwfxl75GN",
        "outputId": "de20f25c-fec6-4fbe-91ba-64ef60349568",
        "colab": {
          "base_uri": "https://localhost:8080/"
        }
      },
      "execution_count": 258,
      "outputs": [
        {
          "output_type": "execute_result",
          "data": {
            "text/plain": [
              "Index(['metrics', 'values', 'models name'], dtype='object')"
            ]
          },
          "metadata": {},
          "execution_count": 258
        }
      ]
    },
    {
      "cell_type": "code",
      "source": [
        "sns.relplot(\n",
        "    data=f3,\n",
        "    x=\"models name\", y=\"values\", hue=\"models name\", col=\"metrics\",legend=None\n",
        ")\n",
        "plt.savefig('/content/drive/MyDrive/work 37 corona /result/performance2.png',bbox_inches='tight')\n",
        "f3.to_csv('/content/drive/MyDrive/work 37 corona /result/performance2.csv')"
      ],
      "metadata": {
        "id": "J9XdBokj4OAj",
        "outputId": "eccacdef-a2e2-40c3-968d-2741ad296ad3",
        "colab": {
          "base_uri": "https://localhost:8080/",
          "height": 291
        }
      },
      "execution_count": 263,
      "outputs": [
        {
          "output_type": "display_data",
          "data": {
            "text/plain": [
              "<Figure size 2000x500 with 4 Axes>"
            ],
            "image/png": "[encoded data removed]"
          },
          "metadata": {}
        }
      ]
    },
    {
      "cell_type": "code",
      "source": [],
      "metadata": {
        "id": "9VR0yuat81Nk"
      },
      "execution_count": null,
      "outputs": []
    }
  ],
  "metadata": {
    "colab": {
      "provenance": [],
      "gpuType": "T4",
      "include_colab_link": true
    },
    "kernelspec": {
      "display_name": "Python 3",
      "name": "python3"
    },
    "language_info": {
      "name": "python"
    },
    "widgets": {
      "application/vnd.jupyter.widget-state+json": {
        "c4f7b467c16d450bae2f0e6a5cab4c63": {
          "model_module": "@jupyter-widgets/controls",
          "model_name": "HBoxModel",
          "model_module_version": "1.5.0",
          "state": {
            "_dom_classes": [],
            "_model_module": "@jupyter-widgets/controls",
            "_model_module_version": "1.5.0",
            "_model_name": "HBoxModel",
            "_view_count": null,
            "_view_module": "@jupyter-widgets/controls",
            "_view_module_version": "1.5.0",
            "_view_name": "HBoxView",
            "box_style": "",
            "children": [
              "IPY_MODEL_f9178825dc9d424abf41bc8f74af3983",
              "IPY_MODEL_912ad1d9fbf54bb09f0eef6964f81c74",
              "IPY_MODEL_41fbb39f0f7c42da98ec67b04b0a8a88"
            ],
            "layout": "IPY_MODEL_9bcb9da0825943dda7b4359d1c7e1245"
          }
        },
        "f9178825dc9d424abf41bc8f74af3983": {
          "model_module": "@jupyter-widgets/controls",
          "model_name": "HTMLModel",
          "model_module_version": "1.5.0",
          "state": {
            "_dom_classes": [],
            "_model_module": "@jupyter-widgets/controls",
            "_model_module_version": "1.5.0",
            "_model_name": "HTMLModel",
            "_view_count": null,
            "_view_module": "@jupyter-widgets/controls",
            "_view_module_version": "1.5.0",
            "_view_name": "HTMLView",
            "description": "",
            "description_tooltip": null,
            "layout": "IPY_MODEL_5a3b66a766aa4b8f983122a548c72f11",
            "placeholder": "​",
            "style": "IPY_MODEL_31c69f78cd8b43f091084d9dfa96970a",
            "value": "Downloading (…)lve/main/config.json: 100%"
          }
        },
        "912ad1d9fbf54bb09f0eef6964f81c74": {
          "model_module": "@jupyter-widgets/controls",
          "model_name": "FloatProgressModel",
          "model_module_version": "1.5.0",
          "state": {
            "_dom_classes": [],
            "_model_module": "@jupyter-widgets/controls",
            "_model_module_version": "1.5.0",
            "_model_name": "FloatProgressModel",
            "_view_count": null,
            "_view_module": "@jupyter-widgets/controls",
            "_view_module_version": "1.5.0",
            "_view_name": "ProgressView",
            "bar_style": "success",
            "description": "",
            "description_tooltip": null,
            "layout": "IPY_MODEL_38087d6667384844a5600c0804849e5f",
            "max": 684,
            "min": 0,
            "orientation": "horizontal",
            "style": "IPY_MODEL_950e6b0df9a1413cb02de4181a02fdad",
            "value": 684
          }
        },
        "41fbb39f0f7c42da98ec67b04b0a8a88": {
          "model_module": "@jupyter-widgets/controls",
          "model_name": "HTMLModel",
          "model_module_version": "1.5.0",
          "state": {
            "_dom_classes": [],
            "_model_module": "@jupyter-widgets/controls",
            "_model_module_version": "1.5.0",
            "_model_name": "HTMLModel",
            "_view_count": null,
            "_view_module": "@jupyter-widgets/controls",
            "_view_module_version": "1.5.0",
            "_view_name": "HTMLView",
            "description": "",
            "description_tooltip": null,
            "layout": "IPY_MODEL_582c67cfe0d04699b683668178938661",
            "placeholder": "​",
            "style": "IPY_MODEL_c5a40f914686413292cbd29d1924f6a3",
            "value": " 684/684 [00:00&lt;00:00, 47.0kB/s]"
          }
        },
        "9bcb9da0825943dda7b4359d1c7e1245": {
          "model_module": "@jupyter-widgets/base",
          "model_name": "LayoutModel",
          "model_module_version": "1.2.0",
          "state": {
            "_model_module": "@jupyter-widgets/base",
            "_model_module_version": "1.2.0",
            "_model_name": "LayoutModel",
            "_view_count": null,
            "_view_module": "@jupyter-widgets/base",
            "_view_module_version": "1.2.0",
            "_view_name": "LayoutView",
            "align_content": null,
            "align_items": null,
            "align_self": null,
            "border": null,
            "bottom": null,
            "display": null,
            "flex": null,
            "flex_flow": null,
            "grid_area": null,
            "grid_auto_columns": null,
            "grid_auto_flow": null,
            "grid_auto_rows": null,
            "grid_column": null,
            "grid_gap": null,
            "grid_row": null,
            "grid_template_areas": null,
            "grid_template_columns": null,
            "grid_template_rows": null,
            "height": null,
            "justify_content": null,
            "justify_items": null,
            "left": null,
            "margin": null,
            "max_height": null,
            "max_width": null,
            "min_height": null,
            "min_width": null,
            "object_fit": null,
            "object_position": null,
            "order": null,
            "overflow": null,
            "overflow_x": null,
            "overflow_y": null,
            "padding": null,
            "right": null,
            "top": null,
            "visibility": null,
            "width": null
          }
        },
        "5a3b66a766aa4b8f983122a548c72f11": {
          "model_module": "@jupyter-widgets/base",
          "model_name": "LayoutModel",
          "model_module_version": "1.2.0",
          "state": {
            "_model_module": "@jupyter-widgets/base",
            "_model_module_version": "1.2.0",
            "_model_name": "LayoutModel",
            "_view_count": null,
            "_view_module": "@jupyter-widgets/base",
            "_view_module_version": "1.2.0",
            "_view_name": "LayoutView",
            "align_content": null,
            "align_items": null,
            "align_self": null,
            "border": null,
            "bottom": null,
            "display": null,
            "flex": null,
            "flex_flow": null,
            "grid_area": null,
            "grid_auto_columns": null,
            "grid_auto_flow": null,
            "grid_auto_rows": null,
            "grid_column": null,
            "grid_gap": null,
            "grid_row": null,
            "grid_template_areas": null,
            "grid_template_columns": null,
            "grid_template_rows": null,
            "height": null,
            "justify_content": null,
            "justify_items": null,
            "left": null,
            "margin": null,
            "max_height": null,
            "max_width": null,
            "min_height": null,
            "min_width": null,
            "object_fit": null,
            "object_position": null,
            "order": null,
            "overflow": null,
            "overflow_x": null,
            "overflow_y": null,
            "padding": null,
            "right": null,
            "top": null,
            "visibility": null,
            "width": null
          }
        },
        "31c69f78cd8b43f091084d9dfa96970a": {
          "model_module": "@jupyter-widgets/controls",
          "model_name": "DescriptionStyleModel",
          "model_module_version": "1.5.0",
          "state": {
            "_model_module": "@jupyter-widgets/controls",
            "_model_module_version": "1.5.0",
            "_model_name": "DescriptionStyleModel",
            "_view_count": null,
            "_view_module": "@jupyter-widgets/base",
            "_view_module_version": "1.2.0",
            "_view_name": "StyleView",
            "description_width": ""
          }
        },
        "38087d6667384844a5600c0804849e5f": {
          "model_module": "@jupyter-widgets/base",
          "model_name": "LayoutModel",
          "model_module_version": "1.2.0",
          "state": {
            "_model_module": "@jupyter-widgets/base",
            "_model_module_version": "1.2.0",
            "_model_name": "LayoutModel",
            "_view_count": null,
            "_view_module": "@jupyter-widgets/base",
            "_view_module_version": "1.2.0",
            "_view_name": "LayoutView",
            "align_content": null,
            "align_items": null,
            "align_self": null,
            "border": null,
            "bottom": null,
            "display": null,
            "flex": null,
            "flex_flow": null,
            "grid_area": null,
            "grid_auto_columns": null,
            "grid_auto_flow": null,
            "grid_auto_rows": null,
            "grid_column": null,
            "grid_gap": null,
            "grid_row": null,
            "grid_template_areas": null,
            "grid_template_columns": null,
            "grid_template_rows": null,
            "height": null,
            "justify_content": null,
            "justify_items": null,
            "left": null,
            "margin": null,
            "max_height": null,
            "max_width": null,
            "min_height": null,
            "min_width": null,
            "object_fit": null,
            "object_position": null,
            "order": null,
            "overflow": null,
            "overflow_x": null,
            "overflow_y": null,
            "padding": null,
            "right": null,
            "top": null,
            "visibility": null,
            "width": null
          }
        },
        "950e6b0df9a1413cb02de4181a02fdad": {
          "model_module": "@jupyter-widgets/controls",
          "model_name": "ProgressStyleModel",
          "model_module_version": "1.5.0",
          "state": {
            "_model_module": "@jupyter-widgets/controls",
            "_model_module_version": "1.5.0",
            "_model_name": "ProgressStyleModel",
            "_view_count": null,
            "_view_module": "@jupyter-widgets/base",
            "_view_module_version": "1.2.0",
            "_view_name": "StyleView",
            "bar_color": null,
            "description_width": ""
          }
        },
        "582c67cfe0d04699b683668178938661": {
          "model_module": "@jupyter-widgets/base",
          "model_name": "LayoutModel",
          "model_module_version": "1.2.0",
          "state": {
            "_model_module": "@jupyter-widgets/base",
            "_model_module_version": "1.2.0",
            "_model_name": "LayoutModel",
            "_view_count": null,
            "_view_module": "@jupyter-widgets/base",
            "_view_module_version": "1.2.0",
            "_view_name": "LayoutView",
            "align_content": null,
            "align_items": null,
            "align_self": null,
            "border": null,
            "bottom": null,
            "display": null,
            "flex": null,
            "flex_flow": null,
            "grid_area": null,
            "grid_auto_columns": null,
            "grid_auto_flow": null,
            "grid_auto_rows": null,
            "grid_column": null,
            "grid_gap": null,
            "grid_row": null,
            "grid_template_areas": null,
            "grid_template_columns": null,
            "grid_template_rows": null,
            "height": null,
            "justify_content": null,
            "justify_items": null,
            "left": null,
            "margin": null,
            "max_height": null,
            "max_width": null,
            "min_height": null,
            "min_width": null,
            "object_fit": null,
            "object_position": null,
            "order": null,
            "overflow": null,
            "overflow_x": null,
            "overflow_y": null,
            "padding": null,
            "right": null,
            "top": null,
            "visibility": null,
            "width": null
          }
        },
        "c5a40f914686413292cbd29d1924f6a3": {
          "model_module": "@jupyter-widgets/controls",
          "model_name": "DescriptionStyleModel",
          "model_module_version": "1.5.0",
          "state": {
            "_model_module": "@jupyter-widgets/controls",
            "_model_module_version": "1.5.0",
            "_model_name": "DescriptionStyleModel",
            "_view_count": null,
            "_view_module": "@jupyter-widgets/base",
            "_view_module_version": "1.2.0",
            "_view_name": "StyleView",
            "description_width": ""
          }
        },
        "59186f3d05f14316ab0fb9b6428d3094": {
          "model_module": "@jupyter-widgets/controls",
          "model_name": "HBoxModel",
          "model_module_version": "1.5.0",
          "state": {
            "_dom_classes": [],
            "_model_module": "@jupyter-widgets/controls",
            "_model_module_version": "1.5.0",
            "_model_name": "HBoxModel",
            "_view_count": null,
            "_view_module": "@jupyter-widgets/controls",
            "_view_module_version": "1.5.0",
            "_view_name": "HBoxView",
            "box_style": "",
            "children": [
              "IPY_MODEL_4edd2934c109414b99d9debfa9310927",
              "IPY_MODEL_13b2065efffc409abbb947f77494118a",
              "IPY_MODEL_713e21f2959944dfb03270f56a1dd068"
            ],
            "layout": "IPY_MODEL_42550f1401594b3a8cc548e2c231befe"
          }
        },
        "4edd2934c109414b99d9debfa9310927": {
          "model_module": "@jupyter-widgets/controls",
          "model_name": "HTMLModel",
          "model_module_version": "1.5.0",
          "state": {
            "_dom_classes": [],
            "_model_module": "@jupyter-widgets/controls",
            "_model_module_version": "1.5.0",
            "_model_name": "HTMLModel",
            "_view_count": null,
            "_view_module": "@jupyter-widgets/controls",
            "_view_module_version": "1.5.0",
            "_view_name": "HTMLView",
            "description": "",
            "description_tooltip": null,
            "layout": "IPY_MODEL_cf73d12f90ec4170afaf5e9becb96725",
            "placeholder": "​",
            "style": "IPY_MODEL_46d824ef87f24e3c95fd955fbb401588",
            "value": "Downloading (…)ve/main/spiece.model: 100%"
          }
        },
        "13b2065efffc409abbb947f77494118a": {
          "model_module": "@jupyter-widgets/controls",
          "model_name": "FloatProgressModel",
          "model_module_version": "1.5.0",
          "state": {
            "_dom_classes": [],
            "_model_module": "@jupyter-widgets/controls",
            "_model_module_version": "1.5.0",
            "_model_name": "FloatProgressModel",
            "_view_count": null,
            "_view_module": "@jupyter-widgets/controls",
            "_view_module_version": "1.5.0",
            "_view_name": "ProgressView",
            "bar_style": "success",
            "description": "",
            "description_tooltip": null,
            "layout": "IPY_MODEL_1aecbb365f1b499096834c043d337cf7",
            "max": 760289,
            "min": 0,
            "orientation": "horizontal",
            "style": "IPY_MODEL_bb752cd649a947a6a09b2328d90c9846",
            "value": 760289
          }
        },
        "713e21f2959944dfb03270f56a1dd068": {
          "model_module": "@jupyter-widgets/controls",
          "model_name": "HTMLModel",
          "model_module_version": "1.5.0",
          "state": {
            "_dom_classes": [],
            "_model_module": "@jupyter-widgets/controls",
            "_model_module_version": "1.5.0",
            "_model_name": "HTMLModel",
            "_view_count": null,
            "_view_module": "@jupyter-widgets/controls",
            "_view_module_version": "1.5.0",
            "_view_name": "HTMLView",
            "description": "",
            "description_tooltip": null,
            "layout": "IPY_MODEL_cd108fd63e4049d799a4c30d213f6bfe",
            "placeholder": "​",
            "style": "IPY_MODEL_bb4056cf28d94ea783330463894a132c",
            "value": " 760k/760k [00:00&lt;00:00, 13.4MB/s]"
          }
        },
        "42550f1401594b3a8cc548e2c231befe": {
          "model_module": "@jupyter-widgets/base",
          "model_name": "LayoutModel",
          "model_module_version": "1.2.0",
          "state": {
            "_model_module": "@jupyter-widgets/base",
            "_model_module_version": "1.2.0",
            "_model_name": "LayoutModel",
            "_view_count": null,
            "_view_module": "@jupyter-widgets/base",
            "_view_module_version": "1.2.0",
            "_view_name": "LayoutView",
            "align_content": null,
            "align_items": null,
            "align_self": null,
            "border": null,
            "bottom": null,
            "display": null,
            "flex": null,
            "flex_flow": null,
            "grid_area": null,
            "grid_auto_columns": null,
            "grid_auto_flow": null,
            "grid_auto_rows": null,
            "grid_column": null,
            "grid_gap": null,
            "grid_row": null,
            "grid_template_areas": null,
            "grid_template_columns": null,
            "grid_template_rows": null,
            "height": null,
            "justify_content": null,
            "justify_items": null,
            "left": null,
            "margin": null,
            "max_height": null,
            "max_width": null,
            "min_height": null,
            "min_width": null,
            "object_fit": null,
            "object_position": null,
            "order": null,
            "overflow": null,
            "overflow_x": null,
            "overflow_y": null,
            "padding": null,
            "right": null,
            "top": null,
            "visibility": null,
            "width": null
          }
        },
        "cf73d12f90ec4170afaf5e9becb96725": {
          "model_module": "@jupyter-widgets/base",
          "model_name": "LayoutModel",
          "model_module_version": "1.2.0",
          "state": {
            "_model_module": "@jupyter-widgets/base",
            "_model_module_version": "1.2.0",
            "_model_name": "LayoutModel",
            "_view_count": null,
            "_view_module": "@jupyter-widgets/base",
            "_view_module_version": "1.2.0",
            "_view_name": "LayoutView",
            "align_content": null,
            "align_items": null,
            "align_self": null,
            "border": null,
            "bottom": null,
            "display": null,
            "flex": null,
            "flex_flow": null,
            "grid_area": null,
            "grid_auto_columns": null,
            "grid_auto_flow": null,
            "grid_auto_rows": null,
            "grid_column": null,
            "grid_gap": null,
            "grid_row": null,
            "grid_template_areas": null,
            "grid_template_columns": null,
            "grid_template_rows": null,
            "height": null,
            "justify_content": null,
            "justify_items": null,
            "left": null,
            "margin": null,
            "max_height": null,
            "max_width": null,
            "min_height": null,
            "min_width": null,
            "object_fit": null,
            "object_position": null,
            "order": null,
            "overflow": null,
            "overflow_x": null,
            "overflow_y": null,
            "padding": null,
            "right": null,
            "top": null,
            "visibility": null,
            "width": null
          }
        },
        "46d824ef87f24e3c95fd955fbb401588": {
          "model_module": "@jupyter-widgets/controls",
          "model_name": "DescriptionStyleModel",
          "model_module_version": "1.5.0",
          "state": {
            "_model_module": "@jupyter-widgets/controls",
            "_model_module_version": "1.5.0",
            "_model_name": "DescriptionStyleModel",
            "_view_count": null,
            "_view_module": "@jupyter-widgets/base",
            "_view_module_version": "1.2.0",
            "_view_name": "StyleView",
            "description_width": ""
          }
        },
        "1aecbb365f1b499096834c043d337cf7": {
          "model_module": "@jupyter-widgets/base",
          "model_name": "LayoutModel",
          "model_module_version": "1.2.0",
          "state": {
            "_model_module": "@jupyter-widgets/base",
            "_model_module_version": "1.2.0",
            "_model_name": "LayoutModel",
            "_view_count": null,
            "_view_module": "@jupyter-widgets/base",
            "_view_module_version": "1.2.0",
            "_view_name": "LayoutView",
            "align_content": null,
            "align_items": null,
            "align_self": null,
            "border": null,
            "bottom": null,
            "display": null,
            "flex": null,
            "flex_flow": null,
            "grid_area": null,
            "grid_auto_columns": null,
            "grid_auto_flow": null,
            "grid_auto_rows": null,
            "grid_column": null,
            "grid_gap": null,
            "grid_row": null,
            "grid_template_areas": null,
            "grid_template_columns": null,
            "grid_template_rows": null,
            "height": null,
            "justify_content": null,
            "justify_items": null,
            "left": null,
            "margin": null,
            "max_height": null,
            "max_width": null,
            "min_height": null,
            "min_width": null,
            "object_fit": null,
            "object_position": null,
            "order": null,
            "overflow": null,
            "overflow_x": null,
            "overflow_y": null,
            "padding": null,
            "right": null,
            "top": null,
            "visibility": null,
            "width": null
          }
        },
        "bb752cd649a947a6a09b2328d90c9846": {
          "model_module": "@jupyter-widgets/controls",
          "model_name": "ProgressStyleModel",
          "model_module_version": "1.5.0",
          "state": {
            "_model_module": "@jupyter-widgets/controls",
            "_model_module_version": "1.5.0",
            "_model_name": "ProgressStyleModel",
            "_view_count": null,
            "_view_module": "@jupyter-widgets/base",
            "_view_module_version": "1.2.0",
            "_view_name": "StyleView",
            "bar_color": null,
            "description_width": ""
          }
        },
        "cd108fd63e4049d799a4c30d213f6bfe": {
          "model_module": "@jupyter-widgets/base",
          "model_name": "LayoutModel",
          "model_module_version": "1.2.0",
          "state": {
            "_model_module": "@jupyter-widgets/base",
            "_model_module_version": "1.2.0",
            "_model_name": "LayoutModel",
            "_view_count": null,
            "_view_module": "@jupyter-widgets/base",
            "_view_module_version": "1.2.0",
            "_view_name": "LayoutView",
            "align_content": null,
            "align_items": null,
            "align_self": null,
            "border": null,
            "bottom": null,
            "display": null,
            "flex": null,
            "flex_flow": null,
            "grid_area": null,
            "grid_auto_columns": null,
            "grid_auto_flow": null,
            "grid_auto_rows": null,
            "grid_column": null,
            "grid_gap": null,
            "grid_row": null,
            "grid_template_areas": null,
            "grid_template_columns": null,
            "grid_template_rows": null,
            "height": null,
            "justify_content": null,
            "justify_items": null,
            "left": null,
            "margin": null,
            "max_height": null,
            "max_width": null,
            "min_height": null,
            "min_width": null,
            "object_fit": null,
            "object_position": null,
            "order": null,
            "overflow": null,
            "overflow_x": null,
            "overflow_y": null,
            "padding": null,
            "right": null,
            "top": null,
            "visibility": null,
            "width": null
          }
        },
        "bb4056cf28d94ea783330463894a132c": {
          "model_module": "@jupyter-widgets/controls",
          "model_name": "DescriptionStyleModel",
          "model_module_version": "1.5.0",
          "state": {
            "_model_module": "@jupyter-widgets/controls",
            "_model_module_version": "1.5.0",
            "_model_name": "DescriptionStyleModel",
            "_view_count": null,
            "_view_module": "@jupyter-widgets/base",
            "_view_module_version": "1.2.0",
            "_view_name": "StyleView",
            "description_width": ""
          }
        },
        "f17e97cbf6cd4ecca979b1db410c751f": {
          "model_module": "@jupyter-widgets/controls",
          "model_name": "HBoxModel",
          "model_module_version": "1.5.0",
          "state": {
            "_dom_classes": [],
            "_model_module": "@jupyter-widgets/controls",
            "_model_module_version": "1.5.0",
            "_model_name": "HBoxModel",
            "_view_count": null,
            "_view_module": "@jupyter-widgets/controls",
            "_view_module_version": "1.5.0",
            "_view_name": "HBoxView",
            "box_style": "",
            "children": [
              "IPY_MODEL_3b39cad5987c4d5fa8d391a494e0194e",
              "IPY_MODEL_636ca52c1efc468dba5bc036d078124a",
              "IPY_MODEL_f28c5320d44c41f1b9e250726ab9e17f"
            ],
            "layout": "IPY_MODEL_b930ceff607d4d16bce6087915e3266c"
          }
        },
        "3b39cad5987c4d5fa8d391a494e0194e": {
          "model_module": "@jupyter-widgets/controls",
          "model_name": "HTMLModel",
          "model_module_version": "1.5.0",
          "state": {
            "_dom_classes": [],
            "_model_module": "@jupyter-widgets/controls",
            "_model_module_version": "1.5.0",
            "_model_name": "HTMLModel",
            "_view_count": null,
            "_view_module": "@jupyter-widgets/controls",
            "_view_module_version": "1.5.0",
            "_view_name": "HTMLView",
            "description": "",
            "description_tooltip": null,
            "layout": "IPY_MODEL_28052ad5baa94eefae5255b86802ae1f",
            "placeholder": "​",
            "style": "IPY_MODEL_1982679165484e5ab7567eb6b39581a6",
            "value": "Downloading (…)/main/tokenizer.json: 100%"
          }
        },
        "636ca52c1efc468dba5bc036d078124a": {
          "model_module": "@jupyter-widgets/controls",
          "model_name": "FloatProgressModel",
          "model_module_version": "1.5.0",
          "state": {
            "_dom_classes": [],
            "_model_module": "@jupyter-widgets/controls",
            "_model_module_version": "1.5.0",
            "_model_name": "FloatProgressModel",
            "_view_count": null,
            "_view_module": "@jupyter-widgets/controls",
            "_view_module_version": "1.5.0",
            "_view_name": "ProgressView",
            "bar_style": "success",
            "description": "",
            "description_tooltip": null,
            "layout": "IPY_MODEL_9a1b37d6724746e1a1d66195c21b42a7",
            "max": 1312669,
            "min": 0,
            "orientation": "horizontal",
            "style": "IPY_MODEL_932048b231214ce3b95ac603f046921f",
            "value": 1312669
          }
        },
        "f28c5320d44c41f1b9e250726ab9e17f": {
          "model_module": "@jupyter-widgets/controls",
          "model_name": "HTMLModel",
          "model_module_version": "1.5.0",
          "state": {
            "_dom_classes": [],
            "_model_module": "@jupyter-widgets/controls",
            "_model_module_version": "1.5.0",
            "_model_name": "HTMLModel",
            "_view_count": null,
            "_view_module": "@jupyter-widgets/controls",
            "_view_module_version": "1.5.0",
            "_view_name": "HTMLView",
            "description": "",
            "description_tooltip": null,
            "layout": "IPY_MODEL_9dbec1c7bff04f8cb76bd98d0b2b0643",
            "placeholder": "​",
            "style": "IPY_MODEL_59803211bc0c46b59c4d72fc72dc9fed",
            "value": " 1.31M/1.31M [00:00&lt;00:00, 32.6MB/s]"
          }
        },
        "b930ceff607d4d16bce6087915e3266c": {
          "model_module": "@jupyter-widgets/base",
          "model_name": "LayoutModel",
          "model_module_version": "1.2.0",
          "state": {
            "_model_module": "@jupyter-widgets/base",
            "_model_module_version": "1.2.0",
            "_model_name": "LayoutModel",
            "_view_count": null,
            "_view_module": "@jupyter-widgets/base",
            "_view_module_version": "1.2.0",
            "_view_name": "LayoutView",
            "align_content": null,
            "align_items": null,
            "align_self": null,
            "border": null,
            "bottom": null,
            "display": null,
            "flex": null,
            "flex_flow": null,
            "grid_area": null,
            "grid_auto_columns": null,
            "grid_auto_flow": null,
            "grid_auto_rows": null,
            "grid_column": null,
            "grid_gap": null,
            "grid_row": null,
            "grid_template_areas": null,
            "grid_template_columns": null,
            "grid_template_rows": null,
            "height": null,
            "justify_content": null,
            "justify_items": null,
            "left": null,
            "margin": null,
            "max_height": null,
            "max_width": null,
            "min_height": null,
            "min_width": null,
            "object_fit": null,
            "object_position": null,
            "order": null,
            "overflow": null,
            "overflow_x": null,
            "overflow_y": null,
            "padding": null,
            "right": null,
            "top": null,
            "visibility": null,
            "width": null
          }
        },
        "28052ad5baa94eefae5255b86802ae1f": {
          "model_module": "@jupyter-widgets/base",
          "model_name": "LayoutModel",
          "model_module_version": "1.2.0",
          "state": {
            "_model_module": "@jupyter-widgets/base",
            "_model_module_version": "1.2.0",
            "_model_name": "LayoutModel",
            "_view_count": null,
            "_view_module": "@jupyter-widgets/base",
            "_view_module_version": "1.2.0",
            "_view_name": "LayoutView",
            "align_content": null,
            "align_items": null,
            "align_self": null,
            "border": null,
            "bottom": null,
            "display": null,
            "flex": null,
            "flex_flow": null,
            "grid_area": null,
            "grid_auto_columns": null,
            "grid_auto_flow": null,
            "grid_auto_rows": null,
            "grid_column": null,
            "grid_gap": null,
            "grid_row": null,
            "grid_template_areas": null,
            "grid_template_columns": null,
            "grid_template_rows": null,
            "height": null,
            "justify_content": null,
            "justify_items": null,
            "left": null,
            "margin": null,
            "max_height": null,
            "max_width": null,
            "min_height": null,
            "min_width": null,
            "object_fit": null,
            "object_position": null,
            "order": null,
            "overflow": null,
            "overflow_x": null,
            "overflow_y": null,
            "padding": null,
            "right": null,
            "top": null,
            "visibility": null,
            "width": null
          }
        },
        "1982679165484e5ab7567eb6b39581a6": {
          "model_module": "@jupyter-widgets/controls",
          "model_name": "DescriptionStyleModel",
          "model_module_version": "1.5.0",
          "state": {
            "_model_module": "@jupyter-widgets/controls",
            "_model_module_version": "1.5.0",
            "_model_name": "DescriptionStyleModel",
            "_view_count": null,
            "_view_module": "@jupyter-widgets/base",
            "_view_module_version": "1.2.0",
            "_view_name": "StyleView",
            "description_width": ""
          }
        },
        "9a1b37d6724746e1a1d66195c21b42a7": {
          "model_module": "@jupyter-widgets/base",
          "model_name": "LayoutModel",
          "model_module_version": "1.2.0",
          "state": {
            "_model_module": "@jupyter-widgets/base",
            "_model_module_version": "1.2.0",
            "_model_name": "LayoutModel",
            "_view_count": null,
            "_view_module": "@jupyter-widgets/base",
            "_view_module_version": "1.2.0",
            "_view_name": "LayoutView",
            "align_content": null,
            "align_items": null,
            "align_self": null,
            "border": null,
            "bottom": null,
            "display": null,
            "flex": null,
            "flex_flow": null,
            "grid_area": null,
            "grid_auto_columns": null,
            "grid_auto_flow": null,
            "grid_auto_rows": null,
            "grid_column": null,
            "grid_gap": null,
            "grid_row": null,
            "grid_template_areas": null,
            "grid_template_columns": null,
            "grid_template_rows": null,
            "height": null,
            "justify_content": null,
            "justify_items": null,
            "left": null,
            "margin": null,
            "max_height": null,
            "max_width": null,
            "min_height": null,
            "min_width": null,
            "object_fit": null,
            "object_position": null,
            "order": null,
            "overflow": null,
            "overflow_x": null,
            "overflow_y": null,
            "padding": null,
            "right": null,
            "top": null,
            "visibility": null,
            "width": null
          }
        },
        "932048b231214ce3b95ac603f046921f": {
          "model_module": "@jupyter-widgets/controls",
          "model_name": "ProgressStyleModel",
          "model_module_version": "1.5.0",
          "state": {
            "_model_module": "@jupyter-widgets/controls",
            "_model_module_version": "1.5.0",
            "_model_name": "ProgressStyleModel",
            "_view_count": null,
            "_view_module": "@jupyter-widgets/base",
            "_view_module_version": "1.2.0",
            "_view_name": "StyleView",
            "bar_color": null,
            "description_width": ""
          }
        },
        "9dbec1c7bff04f8cb76bd98d0b2b0643": {
          "model_module": "@jupyter-widgets/base",
          "model_name": "LayoutModel",
          "model_module_version": "1.2.0",
          "state": {
            "_model_module": "@jupyter-widgets/base",
            "_model_module_version": "1.2.0",
            "_model_name": "LayoutModel",
            "_view_count": null,
            "_view_module": "@jupyter-widgets/base",
            "_view_module_version": "1.2.0",
            "_view_name": "LayoutView",
            "align_content": null,
            "align_items": null,
            "align_self": null,
            "border": null,
            "bottom": null,
            "display": null,
            "flex": null,
            "flex_flow": null,
            "grid_area": null,
            "grid_auto_columns": null,
            "grid_auto_flow": null,
            "grid_auto_rows": null,
            "grid_column": null,
            "grid_gap": null,
            "grid_row": null,
            "grid_template_areas": null,
            "grid_template_columns": null,
            "grid_template_rows": null,
            "height": null,
            "justify_content": null,
            "justify_items": null,
            "left": null,
            "margin": null,
            "max_height": null,
            "max_width": null,
            "min_height": null,
            "min_width": null,
            "object_fit": null,
            "object_position": null,
            "order": null,
            "overflow": null,
            "overflow_x": null,
            "overflow_y": null,
            "padding": null,
            "right": null,
            "top": null,
            "visibility": null,
            "width": null
          }
        },
        "59803211bc0c46b59c4d72fc72dc9fed": {
          "model_module": "@jupyter-widgets/controls",
          "model_name": "DescriptionStyleModel",
          "model_module_version": "1.5.0",
          "state": {
            "_model_module": "@jupyter-widgets/controls",
            "_model_module_version": "1.5.0",
            "_model_name": "DescriptionStyleModel",
            "_view_count": null,
            "_view_module": "@jupyter-widgets/base",
            "_view_module_version": "1.2.0",
            "_view_name": "StyleView",
            "description_width": ""
          }
        },
        "6b9083516b344c7a87fee51a2b962b34": {
          "model_module": "@jupyter-widgets/controls",
          "model_name": "HBoxModel",
          "model_module_version": "1.5.0",
          "state": {
            "_dom_classes": [],
            "_model_module": "@jupyter-widgets/controls",
            "_model_module_version": "1.5.0",
            "_model_name": "HBoxModel",
            "_view_count": null,
            "_view_module": "@jupyter-widgets/controls",
            "_view_module_version": "1.5.0",
            "_view_name": "HBoxView",
            "box_style": "",
            "children": [
              "IPY_MODEL_0abd3d3993b44d178a8a761e89f03e5d",
              "IPY_MODEL_1654ce12cb434464b20feca5a1d82bfc",
              "IPY_MODEL_6aa6bb38c9084fcab07492eeae812ea2"
            ],
            "layout": "IPY_MODEL_132eddd90dae4538a5ad4aad1d797fb1"
          }
        },
        "0abd3d3993b44d178a8a761e89f03e5d": {
          "model_module": "@jupyter-widgets/controls",
          "model_name": "HTMLModel",
          "model_module_version": "1.5.0",
          "state": {
            "_dom_classes": [],
            "_model_module": "@jupyter-widgets/controls",
            "_model_module_version": "1.5.0",
            "_model_name": "HTMLModel",
            "_view_count": null,
            "_view_module": "@jupyter-widgets/controls",
            "_view_module_version": "1.5.0",
            "_view_name": "HTMLView",
            "description": "",
            "description_tooltip": null,
            "layout": "IPY_MODEL_d23938097def45c1a2dbb9acfecf1331",
            "placeholder": "​",
            "style": "IPY_MODEL_d6a49c6a2c4949f184eca753bd2a2daa",
            "value": "Downloading model.safetensors: 100%"
          }
        },
        "1654ce12cb434464b20feca5a1d82bfc": {
          "model_module": "@jupyter-widgets/controls",
          "model_name": "FloatProgressModel",
          "model_module_version": "1.5.0",
          "state": {
            "_dom_classes": [],
            "_model_module": "@jupyter-widgets/controls",
            "_model_module_version": "1.5.0",
            "_model_name": "FloatProgressModel",
            "_view_count": null,
            "_view_module": "@jupyter-widgets/controls",
            "_view_module_version": "1.5.0",
            "_view_name": "ProgressView",
            "bar_style": "success",
            "description": "",
            "description_tooltip": null,
            "layout": "IPY_MODEL_1299ef2b853d444cbf44eef77fbe6464",
            "max": 47372894,
            "min": 0,
            "orientation": "horizontal",
            "style": "IPY_MODEL_d22f87b33fa14546a1053f61e70c5fba",
            "value": 47372894
          }
        },
        "6aa6bb38c9084fcab07492eeae812ea2": {
          "model_module": "@jupyter-widgets/controls",
          "model_name": "HTMLModel",
          "model_module_version": "1.5.0",
          "state": {
            "_dom_classes": [],
            "_model_module": "@jupyter-widgets/controls",
            "_model_module_version": "1.5.0",
            "_model_name": "HTMLModel",
            "_view_count": null,
            "_view_module": "@jupyter-widgets/controls",
            "_view_module_version": "1.5.0",
            "_view_name": "HTMLView",
            "description": "",
            "description_tooltip": null,
            "layout": "IPY_MODEL_3a81e649d806498b9afbc07eea84c28d",
            "placeholder": "​",
            "style": "IPY_MODEL_68cc9bd8034045a8aee61f924cac797f",
            "value": " 47.4M/47.4M [00:00&lt;00:00, 210MB/s]"
          }
        },
        "132eddd90dae4538a5ad4aad1d797fb1": {
          "model_module": "@jupyter-widgets/base",
          "model_name": "LayoutModel",
          "model_module_version": "1.2.0",
          "state": {
            "_model_module": "@jupyter-widgets/base",
            "_model_module_version": "1.2.0",
            "_model_name": "LayoutModel",
            "_view_count": null,
            "_view_module": "@jupyter-widgets/base",
            "_view_module_version": "1.2.0",
            "_view_name": "LayoutView",
            "align_content": null,
            "align_items": null,
            "align_self": null,
            "border": null,
            "bottom": null,
            "display": null,
            "flex": null,
            "flex_flow": null,
            "grid_area": null,
            "grid_auto_columns": null,
            "grid_auto_flow": null,
            "grid_auto_rows": null,
            "grid_column": null,
            "grid_gap": null,
            "grid_row": null,
            "grid_template_areas": null,
            "grid_template_columns": null,
            "grid_template_rows": null,
            "height": null,
            "justify_content": null,
            "justify_items": null,
            "left": null,
            "margin": null,
            "max_height": null,
            "max_width": null,
            "min_height": null,
            "min_width": null,
            "object_fit": null,
            "object_position": null,
            "order": null,
            "overflow": null,
            "overflow_x": null,
            "overflow_y": null,
            "padding": null,
            "right": null,
            "top": null,
            "visibility": null,
            "width": null
          }
        },
        "d23938097def45c1a2dbb9acfecf1331": {
          "model_module": "@jupyter-widgets/base",
          "model_name": "LayoutModel",
          "model_module_version": "1.2.0",
          "state": {
            "_model_module": "@jupyter-widgets/base",
            "_model_module_version": "1.2.0",
            "_model_name": "LayoutModel",
            "_view_count": null,
            "_view_module": "@jupyter-widgets/base",
            "_view_module_version": "1.2.0",
            "_view_name": "LayoutView",
            "align_content": null,
            "align_items": null,
            "align_self": null,
            "border": null,
            "bottom": null,
            "display": null,
            "flex": null,
            "flex_flow": null,
            "grid_area": null,
            "grid_auto_columns": null,
            "grid_auto_flow": null,
            "grid_auto_rows": null,
            "grid_column": null,
            "grid_gap": null,
            "grid_row": null,
            "grid_template_areas": null,
            "grid_template_columns": null,
            "grid_template_rows": null,
            "height": null,
            "justify_content": null,
            "justify_items": null,
            "left": null,
            "margin": null,
            "max_height": null,
            "max_width": null,
            "min_height": null,
            "min_width": null,
            "object_fit": null,
            "object_position": null,
            "order": null,
            "overflow": null,
            "overflow_x": null,
            "overflow_y": null,
            "padding": null,
            "right": null,
            "top": null,
            "visibility": null,
            "width": null
          }
        },
        "d6a49c6a2c4949f184eca753bd2a2daa": {
          "model_module": "@jupyter-widgets/controls",
          "model_name": "DescriptionStyleModel",
          "model_module_version": "1.5.0",
          "state": {
            "_model_module": "@jupyter-widgets/controls",
            "_model_module_version": "1.5.0",
            "_model_name": "DescriptionStyleModel",
            "_view_count": null,
            "_view_module": "@jupyter-widgets/base",
            "_view_module_version": "1.2.0",
            "_view_name": "StyleView",
            "description_width": ""
          }
        },
        "1299ef2b853d444cbf44eef77fbe6464": {
          "model_module": "@jupyter-widgets/base",
          "model_name": "LayoutModel",
          "model_module_version": "1.2.0",
          "state": {
            "_model_module": "@jupyter-widgets/base",
            "_model_module_version": "1.2.0",
            "_model_name": "LayoutModel",
            "_view_count": null,
            "_view_module": "@jupyter-widgets/base",
            "_view_module_version": "1.2.0",
            "_view_name": "LayoutView",
            "align_content": null,
            "align_items": null,
            "align_self": null,
            "border": null,
            "bottom": null,
            "display": null,
            "flex": null,
            "flex_flow": null,
            "grid_area": null,
            "grid_auto_columns": null,
            "grid_auto_flow": null,
            "grid_auto_rows": null,
            "grid_column": null,
            "grid_gap": null,
            "grid_row": null,
            "grid_template_areas": null,
            "grid_template_columns": null,
            "grid_template_rows": null,
            "height": null,
            "justify_content": null,
            "justify_items": null,
            "left": null,
            "margin": null,
            "max_height": null,
            "max_width": null,
            "min_height": null,
            "min_width": null,
            "object_fit": null,
            "object_position": null,
            "order": null,
            "overflow": null,
            "overflow_x": null,
            "overflow_y": null,
            "padding": null,
            "right": null,
            "top": null,
            "visibility": null,
            "width": null
          }
        },
        "d22f87b33fa14546a1053f61e70c5fba": {
          "model_module": "@jupyter-widgets/controls",
          "model_name": "ProgressStyleModel",
          "model_module_version": "1.5.0",
          "state": {
            "_model_module": "@jupyter-widgets/controls",
            "_model_module_version": "1.5.0",
            "_model_name": "ProgressStyleModel",
            "_view_count": null,
            "_view_module": "@jupyter-widgets/base",
            "_view_module_version": "1.2.0",
            "_view_name": "StyleView",
            "bar_color": null,
            "description_width": ""
          }
        },
        "3a81e649d806498b9afbc07eea84c28d": {
          "model_module": "@jupyter-widgets/base",
          "model_name": "LayoutModel",
          "model_module_version": "1.2.0",
          "state": {
            "_model_module": "@jupyter-widgets/base",
            "_model_module_version": "1.2.0",
            "_model_name": "LayoutModel",
            "_view_count": null,
            "_view_module": "@jupyter-widgets/base",
            "_view_module_version": "1.2.0",
            "_view_name": "LayoutView",
            "align_content": null,
            "align_items": null,
            "align_self": null,
            "border": null,
            "bottom": null,
            "display": null,
            "flex": null,
            "flex_flow": null,
            "grid_area": null,
            "grid_auto_columns": null,
            "grid_auto_flow": null,
            "grid_auto_rows": null,
            "grid_column": null,
            "grid_gap": null,
            "grid_row": null,
            "grid_template_areas": null,
            "grid_template_columns": null,
            "grid_template_rows": null,
            "height": null,
            "justify_content": null,
            "justify_items": null,
            "left": null,
            "margin": null,
            "max_height": null,
            "max_width": null,
            "min_height": null,
            "min_width": null,
            "object_fit": null,
            "object_position": null,
            "order": null,
            "overflow": null,
            "overflow_x": null,
            "overflow_y": null,
            "padding": null,
            "right": null,
            "top": null,
            "visibility": null,
            "width": null
          }
        },
        "68cc9bd8034045a8aee61f924cac797f": {
          "model_module": "@jupyter-widgets/controls",
          "model_name": "DescriptionStyleModel",
          "model_module_version": "1.5.0",
          "state": {
            "_model_module": "@jupyter-widgets/controls",
            "_model_module_version": "1.5.0",
            "_model_name": "DescriptionStyleModel",
            "_view_count": null,
            "_view_module": "@jupyter-widgets/base",
            "_view_module_version": "1.2.0",
            "_view_name": "StyleView",
            "description_width": ""
          }
        }
      }
    }
  },
  "nbformat": 4,
  "nbformat_minor": 0
}