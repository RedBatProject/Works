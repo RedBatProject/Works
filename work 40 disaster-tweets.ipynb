{
  "metadata": {
    "kernelspec": {
      "language": "python",
      "display_name": "Python 3",
      "name": "python3"
    },
    "language_info": {
      "pygments_lexer": "ipython3",
      "nbconvert_exporter": "python",
      "version": "3.6.4",
      "file_extension": ".py",
      "codemirror_mode": {
        "name": "ipython",
        "version": 3
      },
      "name": "python",
      "mimetype": "text/x-python"
    },
    "colab": {
      "provenance": [],
      "include_colab_link": true
    }
  },
  "nbformat_minor": 0,
  "nbformat": 4,
  "cells": [
    {
      "cell_type": "markdown",
      "metadata": {
        "id": "view-in-github",
        "colab_type": "text"
      },
      "source": [
        "<a href=\"https://colab.research.google.com/github/horsinnaround/Works/blob/main/work%2040%20disaster-tweets.ipynb\" target=\"_parent\"><img src=\"https://colab.research.google.com/assets/colab-badge.svg\" alt=\"Open In Colab\"/></a>"
      ]
    },
    {
      "cell_type": "code",
      "source": [
        "import pandas as pd\n",
        "import seaborn as sns\n",
        "import matplotlib.pyplot as plt\n",
        "import nltk\n",
        "import numpy as np\n",
        "from PIL import Image\n",
        "from wordcloud import WordCloud,STOPWORDS\n",
        "from collections import Counter\n",
        "from itertools import chain\n",
        "import tensorflow as tf\n",
        "from transformers import XLNetTokenizer, TFXLNetForSequenceClassification\n",
        "from transformers import XLNetTokenizer, TFXLNetModel\n",
        "from sklearn.model_selection import train_test_split\n",
        "from tensorflow.keras.optimizers import Adam\n",
        "from sklearn.metrics import confusion_matrix,classification_report\n",
        "from sklearn.metrics import roc_curve, auc, precision_recall_curve,average_precision_score\n",
        "from sklearn.metrics import roc_auc_score\n",
        "from sklearn.metrics import cohen_kappa_score, matthews_corrcoef, log_loss\n",
        "from tensorflow.keras.callbacks import EarlyStopping,ReduceLROnPlateau\n",
        "from tensorflow.keras.utils import plot_model\n",
        "%matplotlib inline"
      ],
      "metadata": {
        "execution": {
          "iopub.status.busy": "2023-07-10T19:17:36.931301Z",
          "iopub.execute_input": "2023-07-10T19:17:36.932121Z",
          "iopub.status.idle": "2023-07-10T19:17:43.610945Z",
          "shell.execute_reply.started": "2023-07-10T19:17:36.932083Z",
          "shell.execute_reply": "2023-07-10T19:17:43.609849Z"
        },
        "trusted": true,
        "id": "nk_ca4ABsdNq"
      },
      "execution_count": null,
      "outputs": []
    },
    {
      "cell_type": "markdown",
      "source": [
        "# Read Data"
      ],
      "metadata": {
        "id": "kEwz4MtDsdNu"
      }
    },
    {
      "cell_type": "code",
      "source": [
        "df=pd.read_csv(\"/kaggle/input/nlp-getting-started/train.csv\")\n",
        "wordcloud_mask=np.array(Image.open(\"/kaggle/input/wodcloud-twiter-pic/twitter.png\"))"
      ],
      "metadata": {
        "execution": {
          "iopub.status.busy": "2023-07-10T19:17:43.613277Z",
          "iopub.execute_input": "2023-07-10T19:17:43.614487Z",
          "iopub.status.idle": "2023-07-10T19:17:43.806969Z",
          "shell.execute_reply.started": "2023-07-10T19:17:43.614443Z",
          "shell.execute_reply": "2023-07-10T19:17:43.805796Z"
        },
        "trusted": true,
        "id": "fGMsvKJNsdNw"
      },
      "execution_count": null,
      "outputs": []
    },
    {
      "cell_type": "code",
      "source": [
        "df.head()"
      ],
      "metadata": {
        "execution": {
          "iopub.status.busy": "2023-07-10T19:17:43.808737Z",
          "iopub.execute_input": "2023-07-10T19:17:43.809129Z",
          "iopub.status.idle": "2023-07-10T19:17:43.83041Z",
          "shell.execute_reply.started": "2023-07-10T19:17:43.809091Z",
          "shell.execute_reply": "2023-07-10T19:17:43.82927Z"
        },
        "trusted": true,
        "id": "byNWSEV9sdNw"
      },
      "execution_count": null,
      "outputs": []
    },
    {
      "cell_type": "code",
      "source": [
        "df.info()"
      ],
      "metadata": {
        "execution": {
          "iopub.status.busy": "2023-07-10T19:17:43.834547Z",
          "iopub.execute_input": "2023-07-10T19:17:43.834904Z",
          "iopub.status.idle": "2023-07-10T19:17:43.858997Z",
          "shell.execute_reply.started": "2023-07-10T19:17:43.834874Z",
          "shell.execute_reply": "2023-07-10T19:17:43.857811Z"
        },
        "trusted": true,
        "id": "sPUWtkJNsdNw"
      },
      "execution_count": null,
      "outputs": []
    },
    {
      "cell_type": "code",
      "source": [
        "df.isnull().sum()"
      ],
      "metadata": {
        "execution": {
          "iopub.status.busy": "2023-07-10T19:17:43.860665Z",
          "iopub.execute_input": "2023-07-10T19:17:43.861388Z",
          "iopub.status.idle": "2023-07-10T19:17:43.87864Z",
          "shell.execute_reply.started": "2023-07-10T19:17:43.86135Z",
          "shell.execute_reply": "2023-07-10T19:17:43.877471Z"
        },
        "trusted": true,
        "id": "VGjD-A2jsdNx"
      },
      "execution_count": null,
      "outputs": []
    },
    {
      "cell_type": "code",
      "source": [
        "df.shape"
      ],
      "metadata": {
        "execution": {
          "iopub.status.busy": "2023-07-10T19:17:43.880481Z",
          "iopub.execute_input": "2023-07-10T19:17:43.881186Z",
          "iopub.status.idle": "2023-07-10T19:17:43.893284Z",
          "shell.execute_reply.started": "2023-07-10T19:17:43.881148Z",
          "shell.execute_reply": "2023-07-10T19:17:43.891928Z"
        },
        "trusted": true,
        "id": "Q4msRurDsdNx"
      },
      "execution_count": null,
      "outputs": []
    },
    {
      "cell_type": "code",
      "source": [
        "df.drop([\"id\",\"keyword\",\"location\"], axis=1,inplace=True)"
      ],
      "metadata": {
        "execution": {
          "iopub.status.busy": "2023-07-10T19:17:43.895061Z",
          "iopub.execute_input": "2023-07-10T19:17:43.895728Z",
          "iopub.status.idle": "2023-07-10T19:17:43.905416Z",
          "shell.execute_reply.started": "2023-07-10T19:17:43.895681Z",
          "shell.execute_reply": "2023-07-10T19:17:43.90434Z"
        },
        "trusted": true,
        "id": "7hv2FxrusdNx"
      },
      "execution_count": null,
      "outputs": []
    },
    {
      "cell_type": "code",
      "source": [
        "df.head()"
      ],
      "metadata": {
        "execution": {
          "iopub.status.busy": "2023-07-10T19:17:43.907471Z",
          "iopub.execute_input": "2023-07-10T19:17:43.907867Z",
          "iopub.status.idle": "2023-07-10T19:17:43.921304Z",
          "shell.execute_reply.started": "2023-07-10T19:17:43.907832Z",
          "shell.execute_reply": "2023-07-10T19:17:43.92045Z"
        },
        "trusted": true,
        "id": "Hd1IZv3SsdNy"
      },
      "execution_count": null,
      "outputs": []
    },
    {
      "cell_type": "markdown",
      "source": [
        "### You are predicting whether a given tweet is about a real disaster or not. If so, predict a 1. If not, predict a 0."
      ],
      "metadata": {
        "id": "3uZuzL3qsdNy"
      }
    },
    {
      "cell_type": "code",
      "source": [
        "df.target.value_counts()"
      ],
      "metadata": {
        "execution": {
          "iopub.status.busy": "2023-07-10T19:17:43.922908Z",
          "iopub.execute_input": "2023-07-10T19:17:43.924138Z",
          "iopub.status.idle": "2023-07-10T19:17:43.935082Z",
          "shell.execute_reply.started": "2023-07-10T19:17:43.924102Z",
          "shell.execute_reply": "2023-07-10T19:17:43.934144Z"
        },
        "trusted": true,
        "id": "oS-z4KVDsdNz"
      },
      "execution_count": null,
      "outputs": []
    },
    {
      "cell_type": "code",
      "source": [
        "plt.figure(figsize=(7,5))\n",
        "sns.countplot(data=df, y=\"target\",palette=[\"navy\",\"crimson\"])\n",
        "plt.title(\"Compare Target\")\n",
        "plt.show()"
      ],
      "metadata": {
        "execution": {
          "iopub.status.busy": "2023-07-10T19:17:43.936577Z",
          "iopub.execute_input": "2023-07-10T19:17:43.937646Z",
          "iopub.status.idle": "2023-07-10T19:17:44.174866Z",
          "shell.execute_reply.started": "2023-07-10T19:17:43.937609Z",
          "shell.execute_reply": "2023-07-10T19:17:44.173769Z"
        },
        "trusted": true,
        "id": "HFnQkEYisdNz"
      },
      "execution_count": null,
      "outputs": []
    },
    {
      "cell_type": "markdown",
      "source": [
        "# Count Character"
      ],
      "metadata": {
        "id": "FYEMy0GFsdNz"
      }
    },
    {
      "cell_type": "code",
      "source": [
        "df[\"character_count\"]=df[\"text\"].str.len()"
      ],
      "metadata": {
        "execution": {
          "iopub.status.busy": "2023-07-10T19:17:44.177407Z",
          "iopub.execute_input": "2023-07-10T19:17:44.178122Z",
          "iopub.status.idle": "2023-07-10T19:17:44.19113Z",
          "shell.execute_reply.started": "2023-07-10T19:17:44.178083Z",
          "shell.execute_reply": "2023-07-10T19:17:44.189893Z"
        },
        "trusted": true,
        "id": "CwQl0FP_sdN0"
      },
      "execution_count": null,
      "outputs": []
    },
    {
      "cell_type": "markdown",
      "source": [
        "# Count Word"
      ],
      "metadata": {
        "id": "L0-RGWpIsdN0"
      }
    },
    {
      "cell_type": "code",
      "source": [
        "df['word_count'] = df['text'].str.split().str.len()\n"
      ],
      "metadata": {
        "execution": {
          "iopub.status.busy": "2023-07-10T19:17:44.192614Z",
          "iopub.execute_input": "2023-07-10T19:17:44.193631Z",
          "iopub.status.idle": "2023-07-10T19:17:44.234009Z",
          "shell.execute_reply.started": "2023-07-10T19:17:44.19359Z",
          "shell.execute_reply": "2023-07-10T19:17:44.232887Z"
        },
        "trusted": true,
        "id": "rjWoD40dsdN0"
      },
      "execution_count": null,
      "outputs": []
    },
    {
      "cell_type": "markdown",
      "source": [
        "# Count Sentence"
      ],
      "metadata": {
        "id": "4l0pyMeLsdN0"
      }
    },
    {
      "cell_type": "code",
      "source": [
        "df['sentence_count'] = df['text'].apply(lambda x: len(nltk.sent_tokenize(x)))\n"
      ],
      "metadata": {
        "execution": {
          "iopub.status.busy": "2023-07-10T19:17:44.240271Z",
          "iopub.execute_input": "2023-07-10T19:17:44.240612Z",
          "iopub.status.idle": "2023-07-10T19:17:44.82101Z",
          "shell.execute_reply.started": "2023-07-10T19:17:44.240584Z",
          "shell.execute_reply": "2023-07-10T19:17:44.819863Z"
        },
        "trusted": true,
        "id": "mirOowLzsdN0"
      },
      "execution_count": null,
      "outputs": []
    },
    {
      "cell_type": "code",
      "source": [
        "cor=df[[\"target\",\"character_count\",\"word_count\",\"sentence_count\"]].corr()\n",
        "plt.figure(figsize=(7,5))\n",
        "sns.heatmap(cor,annot=True,cmap=\"jet\",linewidths=7, linecolor='darkorange')\n",
        "plt.show()"
      ],
      "metadata": {
        "execution": {
          "iopub.status.busy": "2023-07-10T19:17:44.822694Z",
          "iopub.execute_input": "2023-07-10T19:17:44.823072Z",
          "iopub.status.idle": "2023-07-10T19:17:45.185297Z",
          "shell.execute_reply.started": "2023-07-10T19:17:44.823035Z",
          "shell.execute_reply": "2023-07-10T19:17:45.1842Z"
        },
        "trusted": true,
        "id": "MsP0G_yesdN0"
      },
      "execution_count": null,
      "outputs": []
    },
    {
      "cell_type": "markdown",
      "source": [
        "# Data Length"
      ],
      "metadata": {
        "id": "q_aEBXu1sdN0"
      }
    },
    {
      "cell_type": "code",
      "source": [
        "notdisaster_len=df[df[\"target\"]==0][\"text\"].str.len()\n",
        "disaster_len=df[df[\"target\"]==1][\"text\"].str.len()\n",
        "plt.figure(figsize=(7,5))\n",
        "plt.hist(notdisaster_len, bins=40,label='Not_Disaster',color=\"red\")\n",
        "plt.hist(disaster_len , bins=40, label='Disaster',color=\"green\")\n",
        "plt.title(\"Disaster Vs Non Disaster\\n\",fontsize=20,color=\"brown\")\n",
        "plt.legend()\n",
        "plt.show()"
      ],
      "metadata": {
        "execution": {
          "iopub.status.busy": "2023-07-10T19:17:45.187001Z",
          "iopub.execute_input": "2023-07-10T19:17:45.187409Z",
          "iopub.status.idle": "2023-07-10T19:17:45.709871Z",
          "shell.execute_reply.started": "2023-07-10T19:17:45.187372Z",
          "shell.execute_reply": "2023-07-10T19:17:45.708874Z"
        },
        "trusted": true,
        "id": "fUFhUg2KsdN0"
      },
      "execution_count": null,
      "outputs": []
    },
    {
      "cell_type": "markdown",
      "source": [
        "# ALL Data Wordcloud"
      ],
      "metadata": {
        "id": "k8ZXnDE6sdN0"
      }
    },
    {
      "cell_type": "code",
      "source": [
        "plt.figure(figsize=(15,15))\n",
        "all_text=\" \".join(df['text'].values.tolist())\n",
        "wordcloud = WordCloud(width=800, height=800,stopwords=STOPWORDS, background_color='orange', max_words=800,colormap=\"ocean\",mask=wordcloud_mask).generate(all_text)\n",
        "plt.imshow(wordcloud, interpolation='bilinear')\n",
        "plt.axis('off')\n",
        "plt.show()"
      ],
      "metadata": {
        "execution": {
          "iopub.status.busy": "2023-07-10T19:17:45.711415Z",
          "iopub.execute_input": "2023-07-10T19:17:45.71206Z",
          "iopub.status.idle": "2023-07-10T19:18:16.352506Z",
          "shell.execute_reply.started": "2023-07-10T19:17:45.712021Z",
          "shell.execute_reply": "2023-07-10T19:18:16.351457Z"
        },
        "trusted": true,
        "id": "K408onTIsdN0"
      },
      "execution_count": null,
      "outputs": []
    },
    {
      "cell_type": "markdown",
      "source": [
        "# Disaster Data Wordcloud"
      ],
      "metadata": {
        "id": "P3BAanyhsdN0"
      }
    },
    {
      "cell_type": "code",
      "source": [
        "plt.figure(figsize=(15,15))\n",
        "disaster_wordcloud=df[df[\"target\"]==1]\n",
        "disaster_text=\" \".join(disaster_wordcloud['text'].values.tolist())\n",
        "wordcloud = WordCloud(width=800, height=800,stopwords=STOPWORDS, background_color='navy', max_words=800,colormap=\"hsv\",mask=wordcloud_mask).generate(disaster_text)\n",
        "plt.imshow(wordcloud, interpolation='bilinear')\n",
        "plt.axis('off')\n",
        "plt.show()"
      ],
      "metadata": {
        "execution": {
          "iopub.status.busy": "2023-07-10T19:18:16.353587Z",
          "iopub.execute_input": "2023-07-10T19:18:16.353927Z",
          "iopub.status.idle": "2023-07-10T19:18:46.539836Z",
          "shell.execute_reply.started": "2023-07-10T19:18:16.353897Z",
          "shell.execute_reply": "2023-07-10T19:18:46.535606Z"
        },
        "trusted": true,
        "id": "xg32L7WisdN0"
      },
      "execution_count": null,
      "outputs": []
    },
    {
      "cell_type": "markdown",
      "source": [
        "# Non Disaster Wordcloud"
      ],
      "metadata": {
        "id": "6uHz4NwMsdN1"
      }
    },
    {
      "cell_type": "code",
      "source": [
        "plt.figure(figsize=(15,15))\n",
        "nondisaster_wordcloud=df[df[\"target\"]==0]\n",
        "nondisaster_text=\" \".join(nondisaster_wordcloud['text'].values.tolist())\n",
        "wordcloud = WordCloud(width=800, height=800,stopwords=STOPWORDS, background_color='teal', max_words=800,colormap=\"CMRmap\",mask=wordcloud_mask).generate(nondisaster_text)\n",
        "plt.imshow(wordcloud, interpolation='bilinear')\n",
        "plt.axis('off')\n",
        "plt.show()"
      ],
      "metadata": {
        "execution": {
          "iopub.status.busy": "2023-07-10T19:18:46.541414Z",
          "iopub.execute_input": "2023-07-10T19:18:46.542548Z",
          "iopub.status.idle": "2023-07-10T19:19:16.134943Z",
          "shell.execute_reply.started": "2023-07-10T19:18:46.54251Z",
          "shell.execute_reply": "2023-07-10T19:19:16.133642Z"
        },
        "trusted": true,
        "id": "ppuImQNIsdN1"
      },
      "execution_count": null,
      "outputs": []
    },
    {
      "cell_type": "markdown",
      "source": [
        "# 30 Most common Words From All Text"
      ],
      "metadata": {
        "id": "ioc-Xu_osdN1"
      }
    },
    {
      "cell_type": "code",
      "source": [
        "data_set =df[\"text\"].str.split()\n",
        "all_words = list(chain.from_iterable(data_set))\n",
        "counter = Counter(all_words)\n",
        "common_words = counter.most_common(30)\n",
        "df_common_words = pd.DataFrame(common_words, columns=['Word', 'Count'])\n",
        "\n",
        "colors = [\"cyan\", \"lime\", \"magenta\", \"gold\", \"purple\", \"tomato\", \"teal\", \"sandybrown\", \"mediumseagreen\",\n",
        "          \"royalblue\", \"darkorchid\", \"darkturquoise\", \"darkgoldenrod\", \"mediumvioletred\", \"mediumaquamarine\",\n",
        "          \"lightcoral\", \"darkslategray\", \"olivedrab\", \"dodgerblue\", \"indianred\", \"limegreen\", \"steelblue\",\n",
        "          \"darkviolet\", \"chocolate\", \"mediumslateblue\", \"darkgreen\", \"orangered\", \"mediumblue\", \"peru\", \"mediumspringgreen\"]\n",
        "\n",
        "plt.figure(figsize=(12, 6))\n",
        "sns.barplot(x='Count', y='Word', data=df_common_words, palette=colors)\n",
        "plt.title('30 Most Common Words')\n",
        "plt.xlabel('Count')\n",
        "plt.ylabel('Word')\n",
        "plt.show()\n"
      ],
      "metadata": {
        "execution": {
          "iopub.status.busy": "2023-07-10T19:19:16.136724Z",
          "iopub.execute_input": "2023-07-10T19:19:16.137432Z",
          "iopub.status.idle": "2023-07-10T19:19:16.784312Z",
          "shell.execute_reply.started": "2023-07-10T19:19:16.137394Z",
          "shell.execute_reply": "2023-07-10T19:19:16.783261Z"
        },
        "trusted": true,
        "id": "-Srq2-NbsdN1"
      },
      "execution_count": null,
      "outputs": []
    },
    {
      "cell_type": "markdown",
      "source": [
        "# Most Common Words From Non Disaster Text"
      ],
      "metadata": {
        "id": "zoFgyRIisdN1"
      }
    },
    {
      "cell_type": "code",
      "source": [
        "no_disaster_text = df[df[\"target\"] == 0]\n",
        "data_set = no_disaster_text[\"text\"].str.split()\n",
        "all_words = [word for sublist in data_set for word in sublist]\n",
        "counter = Counter(all_words)\n",
        "common_words = counter.most_common(30)\n",
        "df_common_words = pd.DataFrame(common_words, columns=['Word', 'Count'])\n",
        "plt.figure(figsize=(12, 8))\n",
        "sns.barplot(x='Count', y='Word', data=df_common_words,palette=\"Set1\")\n",
        "plt.title('30 Most Common Words Non Disaster')\n",
        "plt.xlabel('Count Non Disaster')\n",
        "plt.ylabel('Non Disaster Word')\n",
        "plt.show()\n",
        "\n"
      ],
      "metadata": {
        "execution": {
          "iopub.status.busy": "2023-07-10T19:19:16.785866Z",
          "iopub.execute_input": "2023-07-10T19:19:16.787136Z",
          "iopub.status.idle": "2023-07-10T19:19:17.43724Z",
          "shell.execute_reply.started": "2023-07-10T19:19:16.787097Z",
          "shell.execute_reply": "2023-07-10T19:19:17.43617Z"
        },
        "trusted": true,
        "id": "T9-LqJt4sdN1"
      },
      "execution_count": null,
      "outputs": []
    },
    {
      "cell_type": "markdown",
      "source": [
        "# 30 Most Common Words From Disaster Text"
      ],
      "metadata": {
        "id": "3ZP-IRfgsdN1"
      }
    },
    {
      "cell_type": "code",
      "source": [
        "disaster_text = df[df[\"target\"] == 1]\n",
        "data_set = disaster_text[\"text\"].str.split()\n",
        "all_words = [word for sublist in data_set for word in sublist]\n",
        "counter = Counter(all_words)\n",
        "common_words = counter.most_common(30)\n",
        "df_common_words = pd.DataFrame(common_words, columns=['Word', 'Count'])\n",
        "plt.figure(figsize=(12, 8))\n",
        "colors = [\"red\", \"green\", \"blue\", \"yellow\", \"orange\", \"purple\", \"pink\", \"brown\", \"gray\",\n",
        "          \"cyan\", \"magenta\", \"teal\", \"olive\", \"lime\", \"navy\", \"maroon\", \"aquamarine\",\n",
        "          \"coral\", \"gold\", \"indigo\", \"lavender\", \"salmon\", \"silver\", \"tan\", \"violet\",\n",
        "          \"crimson\", \"darkgreen\", \"darkblue\", \"darkorange\", \"deeppink\"]\n",
        "sns.barplot(x='Count', y='Word', data=df_common_words,palette=colors)\n",
        "plt.title('30 Most Common Words Disaster')\n",
        "plt.xlabel('Count  Disaster')\n",
        "plt.ylabel('Disaster Word')\n",
        "plt.show()\n"
      ],
      "metadata": {
        "execution": {
          "iopub.status.busy": "2023-07-10T19:19:17.439124Z",
          "iopub.execute_input": "2023-07-10T19:19:17.440386Z",
          "iopub.status.idle": "2023-07-10T19:19:18.102227Z",
          "shell.execute_reply.started": "2023-07-10T19:19:17.440346Z",
          "shell.execute_reply": "2023-07-10T19:19:18.101152Z"
        },
        "trusted": true,
        "id": "1vToqQ6hsdN1"
      },
      "execution_count": null,
      "outputs": []
    },
    {
      "cell_type": "markdown",
      "source": [
        "# Character Count"
      ],
      "metadata": {
        "id": "KeFhkM3_sdN1"
      }
    },
    {
      "cell_type": "code",
      "source": [
        "color=[\"red\",\"green\"]\n",
        "plt.figure(figsize=(7,5))\n",
        "\n",
        "sns.histplot(data=df,x=\"character_count\",palette=color,kde=True,hue=\"target\",element=\"step\",stat=\"density\")\n",
        "plt.title(\"Character Count\",fontsize=15,color=\"darkblue\")\n",
        "plt.show()"
      ],
      "metadata": {
        "execution": {
          "iopub.status.busy": "2023-07-10T19:19:18.10385Z",
          "iopub.execute_input": "2023-07-10T19:19:18.104997Z",
          "iopub.status.idle": "2023-07-10T19:19:18.588238Z",
          "shell.execute_reply.started": "2023-07-10T19:19:18.104958Z",
          "shell.execute_reply": "2023-07-10T19:19:18.587238Z"
        },
        "trusted": true,
        "id": "Y3XSQj5JsdN1"
      },
      "execution_count": null,
      "outputs": []
    },
    {
      "cell_type": "markdown",
      "source": [
        "# Word Count"
      ],
      "metadata": {
        "id": "OwtjmNtJsdN1"
      }
    },
    {
      "cell_type": "code",
      "source": [
        "color=[\"navy\",\"darkorange\"]\n",
        "plt.figure(figsize=(7,5))\n",
        "\n",
        "sns.histplot(data=df,x=\"word_count\",palette=color,kde=True,hue=\"target\",element=\"poly\",stat=\"density\")\n",
        "plt.title(\"Word Count\",fontsize=15,color=\"darkblue\")\n",
        "plt.show()"
      ],
      "metadata": {
        "execution": {
          "iopub.status.busy": "2023-07-10T19:19:18.589735Z",
          "iopub.execute_input": "2023-07-10T19:19:18.590406Z",
          "iopub.status.idle": "2023-07-10T19:19:19.047128Z",
          "shell.execute_reply.started": "2023-07-10T19:19:18.590369Z",
          "shell.execute_reply": "2023-07-10T19:19:19.046215Z"
        },
        "trusted": true,
        "id": "Dobu8vs6sdN1"
      },
      "execution_count": null,
      "outputs": []
    },
    {
      "cell_type": "markdown",
      "source": [
        "# Sentence Count"
      ],
      "metadata": {
        "id": "qN4vOls2sdN1"
      }
    },
    {
      "cell_type": "code",
      "source": [
        "color=[\"purple\",\"black\"]\n",
        "plt.figure(figsize=(7,5))\n",
        "sns.histplot(data=df,x=\"sentence_count\",palette=color,kde=True,hue=\"target\",element=\"step\",stat=\"density\")\n",
        "plt.title(\"Sentence Count\",fontsize=15,color=\"darkblue\")\n",
        "plt.show()"
      ],
      "metadata": {
        "execution": {
          "iopub.status.busy": "2023-07-10T19:19:19.04873Z",
          "iopub.execute_input": "2023-07-10T19:19:19.049861Z",
          "iopub.status.idle": "2023-07-10T19:19:19.512272Z",
          "shell.execute_reply.started": "2023-07-10T19:19:19.049821Z",
          "shell.execute_reply": "2023-07-10T19:19:19.511251Z"
        },
        "trusted": true,
        "id": "aYtG5EDZsdN1"
      },
      "execution_count": null,
      "outputs": []
    },
    {
      "cell_type": "code",
      "source": [
        "df.drop([\"character_count\",\"word_count\",\"sentence_count\"],axis=1,inplace=True)"
      ],
      "metadata": {
        "execution": {
          "iopub.status.busy": "2023-07-10T19:19:19.5138Z",
          "iopub.execute_input": "2023-07-10T19:19:19.514502Z",
          "iopub.status.idle": "2023-07-10T19:19:19.521503Z",
          "shell.execute_reply.started": "2023-07-10T19:19:19.514465Z",
          "shell.execute_reply": "2023-07-10T19:19:19.520285Z"
        },
        "trusted": true,
        "id": "rEm7CTMtsdN5"
      },
      "execution_count": null,
      "outputs": []
    },
    {
      "cell_type": "markdown",
      "source": [
        "# Average Sentence Length"
      ],
      "metadata": {
        "id": "yXrP7CfPsdN5"
      }
    },
    {
      "cell_type": "code",
      "source": [
        "avg_len=df[\"text\"].apply(len)\n",
        "avg_len=avg_len.mean()\n",
        "print(f\"Average Text Length is : {avg_len:.2f}\")"
      ],
      "metadata": {
        "execution": {
          "iopub.status.busy": "2023-07-10T19:19:19.523478Z",
          "iopub.execute_input": "2023-07-10T19:19:19.523881Z",
          "iopub.status.idle": "2023-07-10T19:19:19.54002Z",
          "shell.execute_reply.started": "2023-07-10T19:19:19.523845Z",
          "shell.execute_reply": "2023-07-10T19:19:19.538968Z"
        },
        "trusted": true,
        "id": "RHiWTmuJsdN5"
      },
      "execution_count": null,
      "outputs": []
    },
    {
      "cell_type": "markdown",
      "source": [
        "# Maximum Length"
      ],
      "metadata": {
        "id": "SfTx7M9EsdN6"
      }
    },
    {
      "cell_type": "code",
      "source": [
        "max_len=100"
      ],
      "metadata": {
        "execution": {
          "iopub.status.busy": "2023-07-10T19:19:19.54163Z",
          "iopub.execute_input": "2023-07-10T19:19:19.542275Z",
          "iopub.status.idle": "2023-07-10T19:19:19.546731Z",
          "shell.execute_reply.started": "2023-07-10T19:19:19.542233Z",
          "shell.execute_reply": "2023-07-10T19:19:19.545625Z"
        },
        "trusted": true,
        "id": "mIJpu18NsdN6"
      },
      "execution_count": null,
      "outputs": []
    },
    {
      "cell_type": "code",
      "source": [
        "\n",
        "text_data=df[\"text\"]\n",
        "label_data=df[\"target\"]\n",
        "label_data=np.array(label_data)"
      ],
      "metadata": {
        "execution": {
          "iopub.status.busy": "2023-07-10T19:19:19.548273Z",
          "iopub.execute_input": "2023-07-10T19:19:19.548928Z",
          "iopub.status.idle": "2023-07-10T19:19:19.557858Z",
          "shell.execute_reply.started": "2023-07-10T19:19:19.548889Z",
          "shell.execute_reply": "2023-07-10T19:19:19.557111Z"
        },
        "trusted": true,
        "id": "JrmkolYHsdN6"
      },
      "execution_count": null,
      "outputs": []
    },
    {
      "cell_type": "markdown",
      "source": [
        "# XLNET Tokenizer,Model"
      ],
      "metadata": {
        "id": "oy9k3e0CsdN6"
      }
    },
    {
      "cell_type": "code",
      "source": [
        "xlnet_tokenizer = XLNetTokenizer.from_pretrained('xlnet-base-cased')\n",
        "xlnet_model = TFXLNetModel.from_pretrained('xlnet-base-cased')\n",
        "\n"
      ],
      "metadata": {
        "execution": {
          "iopub.status.busy": "2023-07-10T19:19:19.559513Z",
          "iopub.execute_input": "2023-07-10T19:19:19.560163Z",
          "iopub.status.idle": "2023-07-10T19:19:24.608419Z",
          "shell.execute_reply.started": "2023-07-10T19:19:19.560127Z",
          "shell.execute_reply": "2023-07-10T19:19:24.607116Z"
        },
        "trusted": true,
        "id": "F3kLjs48sdN6"
      },
      "execution_count": null,
      "outputs": []
    },
    {
      "cell_type": "markdown",
      "source": [
        "# Encode Data"
      ],
      "metadata": {
        "id": "CYnT1Wi1sdN6"
      }
    },
    {
      "cell_type": "code",
      "source": [
        "def xlnet_encode(final_text_data, max_len):\n",
        "    input_ids = []\n",
        "    attention_masks = []\n",
        "\n",
        "    for i in range(len(final_text_data)):\n",
        "        encode_data = xlnet_tokenizer.encode_plus(final_text_data[i], add_special_tokens=True, max_length=max_len, pad_to_max_length=True, return_attention_mask=True)\n",
        "        input_ids.append(encode_data['input_ids'])\n",
        "        attention_masks.append(encode_data[\"attention_mask\"])\n",
        "\n",
        "    return np.array(input_ids), np.array(attention_masks)\n"
      ],
      "metadata": {
        "execution": {
          "iopub.status.busy": "2023-07-10T19:19:24.60991Z",
          "iopub.execute_input": "2023-07-10T19:19:24.610324Z",
          "iopub.status.idle": "2023-07-10T19:19:24.618253Z",
          "shell.execute_reply.started": "2023-07-10T19:19:24.610295Z",
          "shell.execute_reply": "2023-07-10T19:19:24.617033Z"
        },
        "trusted": true,
        "id": "5qqXXVRjsdN6"
      },
      "execution_count": null,
      "outputs": []
    },
    {
      "cell_type": "code",
      "source": [
        "text_input_ids,text_attention_masks = xlnet_encode(text_data,max_len)"
      ],
      "metadata": {
        "execution": {
          "iopub.status.busy": "2023-07-10T19:19:24.619869Z",
          "iopub.execute_input": "2023-07-10T19:19:24.620399Z",
          "iopub.status.idle": "2023-07-10T19:19:28.101901Z",
          "shell.execute_reply.started": "2023-07-10T19:19:24.620361Z",
          "shell.execute_reply": "2023-07-10T19:19:28.100806Z"
        },
        "trusted": true,
        "id": "OJpbxOutsdN6"
      },
      "execution_count": null,
      "outputs": []
    },
    {
      "cell_type": "code",
      "source": [
        "print('Text Input Ids Shape {} \\nText Input Attention Mask Shape {} \\nLabel Data shape {}'.format(text_input_ids.shape,text_attention_masks.shape,label_data.shape))"
      ],
      "metadata": {
        "execution": {
          "iopub.status.busy": "2023-07-10T19:19:28.103646Z",
          "iopub.execute_input": "2023-07-10T19:19:28.104041Z",
          "iopub.status.idle": "2023-07-10T19:19:28.113831Z",
          "shell.execute_reply.started": "2023-07-10T19:19:28.104006Z",
          "shell.execute_reply": "2023-07-10T19:19:28.112778Z"
        },
        "trusted": true,
        "id": "hjpTN0o9sdN6"
      },
      "execution_count": null,
      "outputs": []
    },
    {
      "cell_type": "code",
      "source": [
        "X_train,X_test,Y_train,Y_test,train_mask,test_mask=train_test_split(text_input_ids,label_data,text_attention_masks,test_size=0.2,random_state=42,shuffle=True)"
      ],
      "metadata": {
        "execution": {
          "iopub.status.busy": "2023-07-10T19:19:28.115845Z",
          "iopub.execute_input": "2023-07-10T19:19:28.116301Z",
          "iopub.status.idle": "2023-07-10T19:19:28.128252Z",
          "shell.execute_reply.started": "2023-07-10T19:19:28.116266Z",
          "shell.execute_reply": "2023-07-10T19:19:28.127045Z"
        },
        "trusted": true,
        "id": "jdwWvyzXsdN7"
      },
      "execution_count": null,
      "outputs": []
    },
    {
      "cell_type": "code",
      "source": [
        "print('Train input shape {}\\nTest input shape {}\\nTrain label shape {}\\nTest label shape {}\\nTrain attention mask shape {}\\nTest attention mask shape {}'.format(X_train.shape,X_test.shape,Y_train.shape,Y_test.shape,train_mask.shape,test_mask.shape))"
      ],
      "metadata": {
        "execution": {
          "iopub.status.busy": "2023-07-10T19:19:28.129824Z",
          "iopub.execute_input": "2023-07-10T19:19:28.131477Z",
          "iopub.status.idle": "2023-07-10T19:19:28.13832Z",
          "shell.execute_reply.started": "2023-07-10T19:19:28.13144Z",
          "shell.execute_reply": "2023-07-10T19:19:28.13719Z"
        },
        "trusted": true,
        "id": "ZfM5oRn9sdN7"
      },
      "execution_count": null,
      "outputs": []
    },
    {
      "cell_type": "markdown",
      "source": [
        "# Create XLNET Model"
      ],
      "metadata": {
        "id": "7umpw-eAsdN7"
      }
    },
    {
      "cell_type": "code",
      "source": [
        "def Create_XLNet_Model():\n",
        "    input_ids = tf.keras.Input(shape=(max_len,), dtype=\"int32\")\n",
        "    attention_masks = tf.keras.Input(shape=(max_len,), dtype=\"int32\")\n",
        "\n",
        "    output = xlnet_model(input_ids=input_ids, attention_mask=attention_masks)[0]\n",
        "\n",
        "    output = tf.keras.layers.GlobalMaxPooling1D()(output)\n",
        "\n",
        "    dense_1 = tf.keras.layers.Dense(256, activation=\"tanh\")(output)\n",
        "    dense_2 = tf.keras.layers.Dense(128, activation=\"tanh\")(dense_1)\n",
        "\n",
        "    dense_3 = tf.keras.layers.Dense(64, activation=\"tanh\")(dense_2)\n",
        "\n",
        "    dropout = tf.keras.layers.Dropout(0.2)(dense_3)\n",
        "    output_layer = tf.keras.layers.Dense(1, activation=\"sigmoid\")(dropout)\n",
        "\n",
        "    model = tf.keras.models.Model(inputs=[input_ids, attention_masks], outputs=output_layer)\n",
        "    return model\n",
        "\n",
        "\n",
        "\n"
      ],
      "metadata": {
        "execution": {
          "iopub.status.busy": "2023-07-10T19:19:28.140013Z",
          "iopub.execute_input": "2023-07-10T19:19:28.140402Z",
          "iopub.status.idle": "2023-07-10T19:19:28.150388Z",
          "shell.execute_reply.started": "2023-07-10T19:19:28.140368Z",
          "shell.execute_reply": "2023-07-10T19:19:28.149269Z"
        },
        "trusted": true,
        "id": "7z8R2hFdsdN7"
      },
      "execution_count": null,
      "outputs": []
    },
    {
      "cell_type": "code",
      "source": [
        "model = Create_XLNet_Model()\n",
        "\n",
        "learning_rate = 1e-5\n",
        "optimizer = tf.keras.optimizers.Adam(learning_rate=learning_rate)\n",
        "\n",
        "loss = \"binary_crossentropy\"\n",
        "metric = \"accuracy\"\n",
        "\n",
        "model.compile(optimizer=optimizer, loss=loss, metrics=[metric])\n",
        "\n",
        "model.summary()"
      ],
      "metadata": {
        "execution": {
          "iopub.status.busy": "2023-07-10T19:19:28.152024Z",
          "iopub.execute_input": "2023-07-10T19:19:28.152706Z",
          "iopub.status.idle": "2023-07-10T19:19:36.805472Z",
          "shell.execute_reply.started": "2023-07-10T19:19:28.152664Z",
          "shell.execute_reply": "2023-07-10T19:19:36.804544Z"
        },
        "trusted": true,
        "id": "zpeBp_5GsdN8"
      },
      "execution_count": null,
      "outputs": []
    },
    {
      "cell_type": "code",
      "source": [
        "plot_model(model, to_file='model_architecture.png', show_shapes=True)\n",
        "plt.figure(figsize=(25, 15))\n",
        "img = plt.imread('model_architecture.png')\n",
        "plt.imshow(img)\n",
        "plt.axis('off')\n",
        "plt.show()\n"
      ],
      "metadata": {
        "execution": {
          "iopub.status.busy": "2023-07-10T19:19:36.806728Z",
          "iopub.execute_input": "2023-07-10T19:19:36.807469Z",
          "iopub.status.idle": "2023-07-10T19:19:37.921459Z",
          "shell.execute_reply.started": "2023-07-10T19:19:36.807432Z",
          "shell.execute_reply": "2023-07-10T19:19:37.919251Z"
        },
        "trusted": true,
        "id": "BS8Cis5NsdN8"
      },
      "execution_count": null,
      "outputs": []
    },
    {
      "cell_type": "code",
      "source": [
        "\n",
        "early_stopping = EarlyStopping(monitor='val_loss', patience=10, restore_best_weights=True)\n"
      ],
      "metadata": {
        "execution": {
          "iopub.status.busy": "2023-07-10T19:19:37.923443Z",
          "iopub.execute_input": "2023-07-10T19:19:37.924122Z",
          "iopub.status.idle": "2023-07-10T19:19:37.930096Z",
          "shell.execute_reply.started": "2023-07-10T19:19:37.924085Z",
          "shell.execute_reply": "2023-07-10T19:19:37.928702Z"
        },
        "trusted": true,
        "id": "lHaZtzgSsdN8"
      },
      "execution_count": null,
      "outputs": []
    },
    {
      "cell_type": "code",
      "source": [
        "history = model.fit(x=[X_train, train_mask],y=Y_train,validation_data=([X_test, test_mask], Y_test),\n",
        "                    epochs=30,batch_size=32,callbacks=[early_stopping])"
      ],
      "metadata": {
        "execution": {
          "iopub.status.busy": "2023-07-10T19:19:37.932022Z",
          "iopub.execute_input": "2023-07-10T19:19:37.932477Z",
          "iopub.status.idle": "2023-07-10T19:42:14.806202Z",
          "shell.execute_reply.started": "2023-07-10T19:19:37.932439Z",
          "shell.execute_reply": "2023-07-10T19:42:14.804874Z"
        },
        "trusted": true,
        "id": "61BdFov4sdN8"
      },
      "execution_count": null,
      "outputs": []
    },
    {
      "cell_type": "code",
      "source": [
        "plt.figure(figsize=(7,5))\n",
        "plt.plot(history.history['loss'],lw=2,marker=\"*\",markersize=10,color=\"red\",label=\"Loss\")\n",
        "plt.plot(history.history['val_loss'],lw=2,marker=\"P\",markersize=10,color=\"green\",label=\"Validation_Loss\")\n",
        "plt.title('Model Loss')\n",
        "plt.ylabel('Loss')\n",
        "plt.xlabel('Epoch')\n",
        "plt.legend(loc=\"best\")\n",
        "plt.show()"
      ],
      "metadata": {
        "execution": {
          "iopub.status.busy": "2023-07-10T19:42:14.818869Z",
          "iopub.execute_input": "2023-07-10T19:42:14.819715Z",
          "iopub.status.idle": "2023-07-10T19:42:15.152249Z",
          "shell.execute_reply.started": "2023-07-10T19:42:14.819663Z",
          "shell.execute_reply": "2023-07-10T19:42:15.151162Z"
        },
        "trusted": true,
        "id": "ByA297RSsdN8"
      },
      "execution_count": null,
      "outputs": []
    },
    {
      "cell_type": "code",
      "source": [
        "plt.figure(figsize=(7,5))\n",
        "plt.plot(history.history['accuracy'],lw=2,marker=\"H\",markersize=10,color=\"purple\",label=\"Accuracy\")\n",
        "plt.plot(history.history['val_accuracy'],lw=2,marker=\"D\",markersize=10,color=\"crimson\",label=\"Validation_Accuracy\")\n",
        "plt.title('Model Accuracy')\n",
        "plt.ylabel('Accuracy')\n",
        "plt.xlabel('Epoch')\n",
        "plt.legend(loc=\"best\")\n",
        "plt.show()"
      ],
      "metadata": {
        "execution": {
          "iopub.status.busy": "2023-07-10T19:42:15.154228Z",
          "iopub.execute_input": "2023-07-10T19:42:15.154986Z",
          "iopub.status.idle": "2023-07-10T19:42:15.489181Z",
          "shell.execute_reply.started": "2023-07-10T19:42:15.154947Z",
          "shell.execute_reply": "2023-07-10T19:42:15.488172Z"
        },
        "trusted": true,
        "id": "UnsOsocBsdN8"
      },
      "execution_count": null,
      "outputs": []
    },
    {
      "cell_type": "markdown",
      "source": [
        "# Model predict"
      ],
      "metadata": {
        "id": "CV0oeF0csdN9"
      }
    },
    {
      "cell_type": "code",
      "source": [
        "pred = model.predict([X_test, test_mask])\n",
        "final_pred = np.where(pred >= 0.5, 1, 0)\n"
      ],
      "metadata": {
        "execution": {
          "iopub.status.busy": "2023-07-10T19:42:15.490655Z",
          "iopub.execute_input": "2023-07-10T19:42:15.491717Z",
          "iopub.status.idle": "2023-07-10T19:42:26.890996Z",
          "shell.execute_reply.started": "2023-07-10T19:42:15.491668Z",
          "shell.execute_reply": "2023-07-10T19:42:26.889869Z"
        },
        "trusted": true,
        "id": "aigtQIi9sdN9"
      },
      "execution_count": null,
      "outputs": []
    },
    {
      "cell_type": "markdown",
      "source": [
        "# ROC Curve"
      ],
      "metadata": {
        "id": "rAGfHOZosdN9"
      }
    },
    {
      "cell_type": "code",
      "source": [
        "fpr, tpr, thresholds = roc_curve(Y_test,pred)\n",
        "roc_auc = auc(fpr, tpr)\n",
        "plt.figure(figsize=(7,5))\n",
        "plt.plot(fpr, tpr, label='ROC curve (area = %0.2f)' % roc_auc,color=\"red\",lw=1.7,marker=\"*\",markersize=5)\n",
        "plt.plot([0, 1], [0, 1],color=\"black\",lw=3)\n",
        "plt.xlim([0.0, 1.0])\n",
        "plt.ylim([0.0, 1.05])\n",
        "plt.xlabel('False Positive Rate')\n",
        "plt.ylabel('True Positive Rate')\n",
        "plt.title('Receiver Operating Characteristic')\n",
        "plt.legend(loc=\"lower right\")\n",
        "plt.show()"
      ],
      "metadata": {
        "execution": {
          "iopub.status.busy": "2023-07-10T19:42:26.892893Z",
          "iopub.execute_input": "2023-07-10T19:42:26.89332Z",
          "iopub.status.idle": "2023-07-10T19:42:27.213245Z",
          "shell.execute_reply.started": "2023-07-10T19:42:26.89328Z",
          "shell.execute_reply": "2023-07-10T19:42:27.212223Z"
        },
        "trusted": true,
        "id": "rE8Dcns-sdN9"
      },
      "execution_count": null,
      "outputs": []
    },
    {
      "cell_type": "markdown",
      "source": [
        "# Precision-Recall Curve"
      ],
      "metadata": {
        "id": "NGmIEdkZsdN9"
      }
    },
    {
      "cell_type": "code",
      "source": [
        "precision, recall, thresholds = precision_recall_curve(Y_test,pred)\n",
        "ap_score = average_precision_score(Y_test,pred)\n",
        "plt.figure(figsize=(7,5))\n",
        "plt.plot(recall, precision, label='Precision-Recall Curve (AP = %0.2f)' % ap_score,color=\"purple\",lw=2.8)\n",
        "plt.xlabel('Recall')\n",
        "plt.ylabel('Precision')\n",
        "plt.title('Precision-Recall Curve')\n",
        "plt.legend(loc=\"lower left\")\n",
        "plt.show()"
      ],
      "metadata": {
        "execution": {
          "iopub.status.busy": "2023-07-10T19:42:27.214884Z",
          "iopub.execute_input": "2023-07-10T19:42:27.2181Z",
          "iopub.status.idle": "2023-07-10T19:42:27.572388Z",
          "shell.execute_reply.started": "2023-07-10T19:42:27.218069Z",
          "shell.execute_reply": "2023-07-10T19:42:27.56947Z"
        },
        "trusted": true,
        "id": "Us4RR6M2sdN9"
      },
      "execution_count": null,
      "outputs": []
    },
    {
      "cell_type": "code",
      "source": [
        "roc_auc = roc_auc_score(Y_test, pred)\n",
        "plt.plot([])\n",
        "plt.text(0,0, f'ROC AUC  Score: {roc_auc:.4f}', fontsize=16, ha='center', va='center',color=\"indigo\")\n",
        "plt.axis('off')\n",
        "\n",
        "# Set the x-axis limits\n",
        "plt.xlim(-1, 1)\n",
        "plt.ylim(-1,1)\n",
        "\n",
        "plt.show()"
      ],
      "metadata": {
        "execution": {
          "iopub.status.busy": "2023-07-10T19:42:27.574547Z",
          "iopub.execute_input": "2023-07-10T19:42:27.575017Z",
          "iopub.status.idle": "2023-07-10T19:42:27.665473Z",
          "shell.execute_reply.started": "2023-07-10T19:42:27.574977Z",
          "shell.execute_reply": "2023-07-10T19:42:27.664242Z"
        },
        "trusted": true,
        "id": "pYVmdVKJsdN9"
      },
      "execution_count": null,
      "outputs": []
    },
    {
      "cell_type": "code",
      "source": [
        "logarithm_loss=log_loss(Y_test,final_pred)\n",
        "plt.plot([])\n",
        "plt.text(0,0, f'Log Loss: {logarithm_loss:.4f}', fontsize=16, ha='center', va='center',color=\"black\")\n",
        "plt.axis('off')\n",
        "\n",
        "# Set the x-axis limits\n",
        "plt.xlim(-1, 1)\n",
        "plt.ylim(-1,1)\n",
        "\n",
        "plt.show()"
      ],
      "metadata": {
        "execution": {
          "iopub.status.busy": "2023-07-10T19:42:27.667311Z",
          "iopub.execute_input": "2023-07-10T19:42:27.668018Z",
          "iopub.status.idle": "2023-07-10T19:42:27.770897Z",
          "shell.execute_reply.started": "2023-07-10T19:42:27.66798Z",
          "shell.execute_reply": "2023-07-10T19:42:27.769578Z"
        },
        "trusted": true,
        "id": "wSrtoUvGsdN9"
      },
      "execution_count": null,
      "outputs": []
    },
    {
      "cell_type": "code",
      "source": [
        "kappa = cohen_kappa_score(Y_test,final_pred)\n",
        "plt.plot([])\n",
        "plt.text(0,0, f'Cohen Kappa Score: {kappa:.4f}', fontsize=16, ha='center', va='center',color=\"orangered\")\n",
        "plt.axis('off')\n",
        "\n",
        "# Set the x-axis limits\n",
        "plt.xlim(-1, 1)\n",
        "plt.ylim(-1,1)\n",
        "\n",
        "plt.show()"
      ],
      "metadata": {
        "execution": {
          "iopub.status.busy": "2023-07-10T19:42:27.772959Z",
          "iopub.execute_input": "2023-07-10T19:42:27.773814Z",
          "iopub.status.idle": "2023-07-10T19:42:27.933523Z",
          "shell.execute_reply.started": "2023-07-10T19:42:27.773773Z",
          "shell.execute_reply": "2023-07-10T19:42:27.930319Z"
        },
        "trusted": true,
        "id": "hHDz7ZqTsdN9"
      },
      "execution_count": null,
      "outputs": []
    },
    {
      "cell_type": "code",
      "source": [
        "mcc = matthews_corrcoef(Y_test, final_pred)\n",
        "\n",
        "# Create a plot and display the MCC value as text\n",
        "plt.plot([])\n",
        "plt.text(0,0, f'Matthews Correlation Coefficient: {mcc:.4f}', fontsize=16, ha='center', va='center',color=\"saddlebrown\")\n",
        "plt.axis('off')\n",
        "\n",
        "# Set the x-axis limits\n",
        "plt.xlim(-1, 1)\n",
        "plt.ylim(-1,1)\n",
        "\n",
        "plt.show()\n"
      ],
      "metadata": {
        "execution": {
          "iopub.status.busy": "2023-07-10T19:42:27.942288Z",
          "iopub.execute_input": "2023-07-10T19:42:27.945644Z",
          "iopub.status.idle": "2023-07-10T19:42:28.056323Z",
          "shell.execute_reply.started": "2023-07-10T19:42:27.945585Z",
          "shell.execute_reply": "2023-07-10T19:42:28.054809Z"
        },
        "trusted": true,
        "id": "Li-5mkOzsdN-"
      },
      "execution_count": null,
      "outputs": []
    },
    {
      "cell_type": "markdown",
      "source": [
        "# Confusion Matrix"
      ],
      "metadata": {
        "id": "O6HTYe7usdN-"
      }
    },
    {
      "cell_type": "code",
      "source": [
        "label_name = [\"Non Disaster\", \"Disaster\"]\n",
        "plt.figure(figsize=(7, 5))\n",
        "cm = confusion_matrix(Y_test, final_pred)\n",
        "sns.heatmap(cm, annot=True, cmap=\"rainbow\",fmt=\"d\",lw=6,linecolor=\"black\",xticklabels=label_name, yticklabels=label_name)\n",
        "plt.title(\"Confusion Matrix\")\n",
        "plt.xlabel(\"Predicted\")\n",
        "plt.ylabel(\"Actual\")\n",
        "plt.show()\n",
        "\n"
      ],
      "metadata": {
        "execution": {
          "iopub.status.busy": "2023-07-10T19:42:28.063023Z",
          "iopub.execute_input": "2023-07-10T19:42:28.066739Z",
          "iopub.status.idle": "2023-07-10T19:42:28.430179Z",
          "shell.execute_reply.started": "2023-07-10T19:42:28.066674Z",
          "shell.execute_reply": "2023-07-10T19:42:28.429068Z"
        },
        "trusted": true,
        "id": "BmLGaWCgsdN-"
      },
      "execution_count": null,
      "outputs": []
    },
    {
      "cell_type": "markdown",
      "source": [
        "# Classification Report"
      ],
      "metadata": {
        "id": "peHXwhZOsdN-"
      }
    },
    {
      "cell_type": "code",
      "source": [
        "print(classification_report(Y_test,final_pred,target_names=label_name))"
      ],
      "metadata": {
        "execution": {
          "iopub.status.busy": "2023-07-10T19:42:28.432202Z",
          "iopub.execute_input": "2023-07-10T19:42:28.433031Z",
          "iopub.status.idle": "2023-07-10T19:42:28.452778Z",
          "shell.execute_reply.started": "2023-07-10T19:42:28.43299Z",
          "shell.execute_reply": "2023-07-10T19:42:28.451916Z"
        },
        "trusted": true,
        "id": "fi2_d-ZDsdN-"
      },
      "execution_count": null,
      "outputs": []
    },
    {
      "cell_type": "markdown",
      "source": [
        "# Test Data Analysis\n"
      ],
      "metadata": {
        "id": "4j6rpBvJsdN-"
      }
    },
    {
      "cell_type": "code",
      "source": [
        "df_test=pd.read_csv(\"/kaggle/input/nlp-getting-started/test.csv\")"
      ],
      "metadata": {
        "execution": {
          "iopub.status.busy": "2023-07-10T19:42:28.454623Z",
          "iopub.execute_input": "2023-07-10T19:42:28.455503Z",
          "iopub.status.idle": "2023-07-10T19:42:28.50568Z",
          "shell.execute_reply.started": "2023-07-10T19:42:28.45546Z",
          "shell.execute_reply": "2023-07-10T19:42:28.504543Z"
        },
        "trusted": true,
        "id": "ZoFqNAOpsdN-"
      },
      "execution_count": null,
      "outputs": []
    },
    {
      "cell_type": "code",
      "source": [
        "df_test.head()"
      ],
      "metadata": {
        "execution": {
          "iopub.status.busy": "2023-07-10T19:42:28.507712Z",
          "iopub.execute_input": "2023-07-10T19:42:28.508156Z",
          "iopub.status.idle": "2023-07-10T19:42:28.522848Z",
          "shell.execute_reply.started": "2023-07-10T19:42:28.508117Z",
          "shell.execute_reply": "2023-07-10T19:42:28.521345Z"
        },
        "trusted": true,
        "id": "riWFrFs5sdN-"
      },
      "execution_count": null,
      "outputs": []
    },
    {
      "cell_type": "code",
      "source": [
        "df_test.info()"
      ],
      "metadata": {
        "execution": {
          "iopub.status.busy": "2023-07-10T19:42:28.525108Z",
          "iopub.execute_input": "2023-07-10T19:42:28.525659Z",
          "iopub.status.idle": "2023-07-10T19:42:28.547645Z",
          "shell.execute_reply.started": "2023-07-10T19:42:28.525617Z",
          "shell.execute_reply": "2023-07-10T19:42:28.54622Z"
        },
        "trusted": true,
        "id": "c0GgBT9ssdN-"
      },
      "execution_count": null,
      "outputs": []
    },
    {
      "cell_type": "code",
      "source": [
        "df_test.describe()"
      ],
      "metadata": {
        "execution": {
          "iopub.status.busy": "2023-07-10T19:42:28.549663Z",
          "iopub.execute_input": "2023-07-10T19:42:28.550511Z",
          "iopub.status.idle": "2023-07-10T19:42:28.570433Z",
          "shell.execute_reply.started": "2023-07-10T19:42:28.550465Z",
          "shell.execute_reply": "2023-07-10T19:42:28.569358Z"
        },
        "trusted": true,
        "id": "bKAOw2AysdN-"
      },
      "execution_count": null,
      "outputs": []
    },
    {
      "cell_type": "code",
      "source": [
        "df_test.isnull().sum()"
      ],
      "metadata": {
        "execution": {
          "iopub.status.busy": "2023-07-10T19:42:28.572087Z",
          "iopub.execute_input": "2023-07-10T19:42:28.573271Z",
          "iopub.status.idle": "2023-07-10T19:42:28.587616Z",
          "shell.execute_reply.started": "2023-07-10T19:42:28.573231Z",
          "shell.execute_reply": "2023-07-10T19:42:28.58628Z"
        },
        "trusted": true,
        "id": "4xJZxkVqsdN-"
      },
      "execution_count": null,
      "outputs": []
    },
    {
      "cell_type": "code",
      "source": [
        "df_test.drop([\"keyword\",\"location\"],axis=1,inplace=True)"
      ],
      "metadata": {
        "execution": {
          "iopub.status.busy": "2023-07-10T19:42:28.59172Z",
          "iopub.execute_input": "2023-07-10T19:42:28.592126Z",
          "iopub.status.idle": "2023-07-10T19:42:28.601158Z",
          "shell.execute_reply.started": "2023-07-10T19:42:28.592093Z",
          "shell.execute_reply": "2023-07-10T19:42:28.600093Z"
        },
        "trusted": true,
        "id": "nZ7KQJNSsdN_"
      },
      "execution_count": null,
      "outputs": []
    },
    {
      "cell_type": "code",
      "source": [
        "df_test.head()"
      ],
      "metadata": {
        "execution": {
          "iopub.status.busy": "2023-07-10T19:42:28.602849Z",
          "iopub.execute_input": "2023-07-10T19:42:28.604564Z",
          "iopub.status.idle": "2023-07-10T19:42:28.625486Z",
          "shell.execute_reply.started": "2023-07-10T19:42:28.604525Z",
          "shell.execute_reply": "2023-07-10T19:42:28.624185Z"
        },
        "trusted": true,
        "id": "QON5rNUKsdN_"
      },
      "execution_count": null,
      "outputs": []
    },
    {
      "cell_type": "code",
      "source": [
        "test_text=df_test[\"text\"]"
      ],
      "metadata": {
        "execution": {
          "iopub.status.busy": "2023-07-10T19:42:28.628317Z",
          "iopub.execute_input": "2023-07-10T19:42:28.629076Z",
          "iopub.status.idle": "2023-07-10T19:42:28.637087Z",
          "shell.execute_reply.started": "2023-07-10T19:42:28.629036Z",
          "shell.execute_reply": "2023-07-10T19:42:28.635705Z"
        },
        "trusted": true,
        "id": "LuoyBhvRsdN_"
      },
      "execution_count": null,
      "outputs": []
    },
    {
      "cell_type": "code",
      "source": [
        "def xlnet_encode(final_text_data, max_len):\n",
        "    input_ids = []\n",
        "    attention_masks = []\n",
        "\n",
        "    for i in range(len(final_text_data)):\n",
        "        encode_data = xlnet_tokenizer.encode_plus(final_text_data[i], add_special_tokens=True, max_length=max_len, pad_to_max_length=True, return_attention_mask=True)\n",
        "        input_ids.append(encode_data['input_ids'])\n",
        "        attention_masks.append(encode_data[\"attention_mask\"])\n",
        "\n",
        "    return np.array(input_ids), np.array(attention_masks)"
      ],
      "metadata": {
        "execution": {
          "iopub.status.busy": "2023-07-10T19:42:28.639501Z",
          "iopub.execute_input": "2023-07-10T19:42:28.639957Z",
          "iopub.status.idle": "2023-07-10T19:42:28.650932Z",
          "shell.execute_reply.started": "2023-07-10T19:42:28.639915Z",
          "shell.execute_reply": "2023-07-10T19:42:28.649508Z"
        },
        "trusted": true,
        "id": "y3Iz4duGsdN_"
      },
      "execution_count": null,
      "outputs": []
    },
    {
      "cell_type": "code",
      "source": [
        "text_input_ids,text_attention_masks = xlnet_encode(test_text,max_len)"
      ],
      "metadata": {
        "execution": {
          "iopub.status.busy": "2023-07-10T19:42:28.653779Z",
          "iopub.execute_input": "2023-07-10T19:42:28.655041Z",
          "iopub.status.idle": "2023-07-10T19:42:29.909588Z",
          "shell.execute_reply.started": "2023-07-10T19:42:28.655Z",
          "shell.execute_reply": "2023-07-10T19:42:29.908546Z"
        },
        "trusted": true,
        "id": "iw_6MGbxsdN_"
      },
      "execution_count": null,
      "outputs": []
    },
    {
      "cell_type": "code",
      "source": [
        "text_input_ids = np.array(text_input_ids)\n",
        "text_attention_masks = np.array(text_attention_masks)\n",
        "my_pred = model.predict([text_input_ids, text_attention_masks])\n",
        "predicted_labels = np.where(my_pred >= 0.5, 1, 0)\n",
        "df_test['target'] = predicted_labels\n"
      ],
      "metadata": {
        "execution": {
          "iopub.status.busy": "2023-07-10T19:42:29.910984Z",
          "iopub.execute_input": "2023-07-10T19:42:29.911846Z",
          "iopub.status.idle": "2023-07-10T19:42:50.456176Z",
          "shell.execute_reply.started": "2023-07-10T19:42:29.911809Z",
          "shell.execute_reply": "2023-07-10T19:42:50.454998Z"
        },
        "trusted": true,
        "id": "_mJYM5uDsdN_"
      },
      "execution_count": null,
      "outputs": []
    },
    {
      "cell_type": "code",
      "source": [
        "df_test.head(10)"
      ],
      "metadata": {
        "execution": {
          "iopub.status.busy": "2023-07-10T19:42:50.457958Z",
          "iopub.execute_input": "2023-07-10T19:42:50.459523Z",
          "iopub.status.idle": "2023-07-10T19:42:50.472531Z",
          "shell.execute_reply.started": "2023-07-10T19:42:50.459482Z",
          "shell.execute_reply": "2023-07-10T19:42:50.471228Z"
        },
        "trusted": true,
        "id": "cDbGZkHysdN_"
      },
      "execution_count": null,
      "outputs": []
    },
    {
      "cell_type": "code",
      "source": [
        "df_test[\"target\"].value_counts()"
      ],
      "metadata": {
        "execution": {
          "iopub.status.busy": "2023-07-10T19:42:50.474503Z",
          "iopub.execute_input": "2023-07-10T19:42:50.474959Z",
          "iopub.status.idle": "2023-07-10T19:42:50.489114Z",
          "shell.execute_reply.started": "2023-07-10T19:42:50.474914Z",
          "shell.execute_reply": "2023-07-10T19:42:50.487904Z"
        },
        "trusted": true,
        "id": "5eqSuAQmsdN_"
      },
      "execution_count": null,
      "outputs": []
    },
    {
      "cell_type": "code",
      "source": [
        "df0=df_test.copy()\n",
        "df0.drop(\"text\",axis=1,inplace=True)\n",
        "df0.to_csv(\"my_submission.csv\",index=False)"
      ],
      "metadata": {
        "execution": {
          "iopub.status.busy": "2023-07-10T19:42:50.491216Z",
          "iopub.execute_input": "2023-07-10T19:42:50.492104Z",
          "iopub.status.idle": "2023-07-10T19:42:50.510044Z",
          "shell.execute_reply.started": "2023-07-10T19:42:50.492065Z",
          "shell.execute_reply": "2023-07-10T19:42:50.508874Z"
        },
        "trusted": true,
        "id": "w2Cc_QVFsdN_"
      },
      "execution_count": null,
      "outputs": []
    },
    {
      "cell_type": "code",
      "source": [],
      "metadata": {
        "id": "A5h9g0ZbsdN_"
      },
      "execution_count": null,
      "outputs": []
    }
  ]
}