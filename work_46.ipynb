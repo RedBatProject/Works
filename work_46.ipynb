{
  "nbformat": 4,
  "nbformat_minor": 0,
  "metadata": {
    "colab": {
      "provenance": [],
      "mount_file_id": "1CaYga3ZZgJcAjd5u5DjKHsPHMeSAld36",
      "authorship_tag": "ABX9TyOkqbtzk8JZgD55O5wTAVNP",
      "include_colab_link": true
    },
    "kernelspec": {
      "name": "python3",
      "display_name": "Python 3"
    },
    "language_info": {
      "name": "python"
    }
  },
  "cells": [
    {
      "cell_type": "markdown",
      "metadata": {
        "id": "view-in-github",
        "colab_type": "text"
      },
      "source": [
        "<a href=\"https://colab.research.google.com/github/RedBatProject/Works/blob/main/work_46.ipynb\" target=\"_parent\"><img src=\"https://colab.research.google.com/assets/colab-badge.svg\" alt=\"Open In Colab\"/></a>"
      ]
    },
    {
      "cell_type": "markdown",
      "source": [
        "# Imports"
      ],
      "metadata": {
        "id": "YJPunkokIZ9z"
      }
    },
    {
      "cell_type": "code",
      "execution_count": 1,
      "metadata": {
        "id": "qOHTybBxIGtb",
        "colab": {
          "base_uri": "https://localhost:8080/"
        },
        "outputId": "d313b304-70ff-4086-a10b-662570307222"
      },
      "outputs": [
        {
          "output_type": "stream",
          "name": "stdout",
          "text": [
            "Collecting mealpy\n",
            "  Downloading mealpy-2.5.3-py3-none-any.whl (380 kB)\n",
            "\u001b[?25l     \u001b[90m━━━━━━━━━━━━━━━━━━━━━━━━━━━━━━━━━━━━━━━━\u001b[0m \u001b[32m0.0/380.7 kB\u001b[0m \u001b[31m?\u001b[0m eta \u001b[36m-:--:--\u001b[0m\r\u001b[2K     \u001b[91m━━━━━━━━━\u001b[0m\u001b[91m╸\u001b[0m\u001b[90m━━━━━━━━━━━━━━━━━━━━━━━━━━━━━━\u001b[0m \u001b[32m92.2/380.7 kB\u001b[0m \u001b[31m2.7 MB/s\u001b[0m eta \u001b[36m0:00:01\u001b[0m\r\u001b[2K     \u001b[91m━━━━━━━━━━━━━━━━━━━━━━━━━━━━━━━━━━━━\u001b[0m\u001b[91m╸\u001b[0m\u001b[90m━━\u001b[0m \u001b[32m358.4/380.7 kB\u001b[0m \u001b[31m5.2 MB/s\u001b[0m eta \u001b[36m0:00:01\u001b[0m\r\u001b[2K     \u001b[90m━━━━━━━━━━━━━━━━━━━━━━━━━━━━━━━━━━━━━━━\u001b[0m \u001b[32m380.7/380.7 kB\u001b[0m \u001b[31m4.7 MB/s\u001b[0m eta \u001b[36m0:00:00\u001b[0m\n",
            "\u001b[?25hRequirement already satisfied: numpy>=1.16.5 in /usr/local/lib/python3.10/dist-packages (from mealpy) (1.22.4)\n",
            "Requirement already satisfied: matplotlib>=3.3.0 in /usr/local/lib/python3.10/dist-packages (from mealpy) (3.7.1)\n",
            "Requirement already satisfied: scipy>=1.7.1 in /usr/local/lib/python3.10/dist-packages (from mealpy) (1.10.1)\n",
            "Requirement already satisfied: pandas>=1.2.0 in /usr/local/lib/python3.10/dist-packages (from mealpy) (1.5.3)\n",
            "Collecting opfunu>=1.0.0 (from mealpy)\n",
            "  Downloading opfunu-1.0.0-py3-none-any.whl (20.4 MB)\n",
            "\u001b[2K     \u001b[90m━━━━━━━━━━━━━━━━━━━━━━━━━━━━━━━━━━━━━━━━\u001b[0m \u001b[32m20.4/20.4 MB\u001b[0m \u001b[31m13.4 MB/s\u001b[0m eta \u001b[36m0:00:00\u001b[0m\n",
            "\u001b[?25hRequirement already satisfied: contourpy>=1.0.1 in /usr/local/lib/python3.10/dist-packages (from matplotlib>=3.3.0->mealpy) (1.1.0)\n",
            "Requirement already satisfied: cycler>=0.10 in /usr/local/lib/python3.10/dist-packages (from matplotlib>=3.3.0->mealpy) (0.11.0)\n",
            "Requirement already satisfied: fonttools>=4.22.0 in /usr/local/lib/python3.10/dist-packages (from matplotlib>=3.3.0->mealpy) (4.41.1)\n",
            "Requirement already satisfied: kiwisolver>=1.0.1 in /usr/local/lib/python3.10/dist-packages (from matplotlib>=3.3.0->mealpy) (1.4.4)\n",
            "Requirement already satisfied: packaging>=20.0 in /usr/local/lib/python3.10/dist-packages (from matplotlib>=3.3.0->mealpy) (23.1)\n",
            "Requirement already satisfied: pillow>=6.2.0 in /usr/local/lib/python3.10/dist-packages (from matplotlib>=3.3.0->mealpy) (9.4.0)\n",
            "Requirement already satisfied: pyparsing>=2.3.1 in /usr/local/lib/python3.10/dist-packages (from matplotlib>=3.3.0->mealpy) (3.1.0)\n",
            "Requirement already satisfied: python-dateutil>=2.7 in /usr/local/lib/python3.10/dist-packages (from matplotlib>=3.3.0->mealpy) (2.8.2)\n",
            "Requirement already satisfied: pytz>=2020.1 in /usr/local/lib/python3.10/dist-packages (from pandas>=1.2.0->mealpy) (2022.7.1)\n",
            "Requirement already satisfied: six>=1.5 in /usr/local/lib/python3.10/dist-packages (from python-dateutil>=2.7->matplotlib>=3.3.0->mealpy) (1.16.0)\n",
            "Installing collected packages: opfunu, mealpy\n",
            "Successfully installed mealpy-2.5.3 opfunu-1.0.0\n",
            "Requirement already satisfied: mealpy in /usr/local/lib/python3.10/dist-packages (2.5.3)\n",
            "Requirement already satisfied: numpy>=1.16.5 in /usr/local/lib/python3.10/dist-packages (from mealpy) (1.22.4)\n",
            "Requirement already satisfied: matplotlib>=3.3.0 in /usr/local/lib/python3.10/dist-packages (from mealpy) (3.7.1)\n",
            "Requirement already satisfied: scipy>=1.7.1 in /usr/local/lib/python3.10/dist-packages (from mealpy) (1.10.1)\n",
            "Requirement already satisfied: pandas>=1.2.0 in /usr/local/lib/python3.10/dist-packages (from mealpy) (1.5.3)\n",
            "Requirement already satisfied: opfunu>=1.0.0 in /usr/local/lib/python3.10/dist-packages (from mealpy) (1.0.0)\n",
            "Requirement already satisfied: contourpy>=1.0.1 in /usr/local/lib/python3.10/dist-packages (from matplotlib>=3.3.0->mealpy) (1.1.0)\n",
            "Requirement already satisfied: cycler>=0.10 in /usr/local/lib/python3.10/dist-packages (from matplotlib>=3.3.0->mealpy) (0.11.0)\n",
            "Requirement already satisfied: fonttools>=4.22.0 in /usr/local/lib/python3.10/dist-packages (from matplotlib>=3.3.0->mealpy) (4.41.1)\n",
            "Requirement already satisfied: kiwisolver>=1.0.1 in /usr/local/lib/python3.10/dist-packages (from matplotlib>=3.3.0->mealpy) (1.4.4)\n",
            "Requirement already satisfied: packaging>=20.0 in /usr/local/lib/python3.10/dist-packages (from matplotlib>=3.3.0->mealpy) (23.1)\n",
            "Requirement already satisfied: pillow>=6.2.0 in /usr/local/lib/python3.10/dist-packages (from matplotlib>=3.3.0->mealpy) (9.4.0)\n",
            "Requirement already satisfied: pyparsing>=2.3.1 in /usr/local/lib/python3.10/dist-packages (from matplotlib>=3.3.0->mealpy) (3.1.0)\n",
            "Requirement already satisfied: python-dateutil>=2.7 in /usr/local/lib/python3.10/dist-packages (from matplotlib>=3.3.0->mealpy) (2.8.2)\n",
            "Requirement already satisfied: pytz>=2020.1 in /usr/local/lib/python3.10/dist-packages (from pandas>=1.2.0->mealpy) (2022.7.1)\n",
            "Requirement already satisfied: six>=1.5 in /usr/local/lib/python3.10/dist-packages (from python-dateutil>=2.7->matplotlib>=3.3.0->mealpy) (1.16.0)\n",
            "Colab only includes TensorFlow 2.x; %tensorflow_version has no effect.\n",
            "Collecting catboost\n",
            "  Downloading catboost-1.2-cp310-cp310-manylinux2014_x86_64.whl (98.6 MB)\n",
            "\u001b[2K     \u001b[90m━━━━━━━━━━━━━━━━━━━━━━━━━━━━━━━━━━━━━━━━\u001b[0m \u001b[32m98.6/98.6 MB\u001b[0m \u001b[31m9.1 MB/s\u001b[0m eta \u001b[36m0:00:00\u001b[0m\n",
            "\u001b[?25hRequirement already satisfied: graphviz in /usr/local/lib/python3.10/dist-packages (from catboost) (0.20.1)\n",
            "Requirement already satisfied: matplotlib in /usr/local/lib/python3.10/dist-packages (from catboost) (3.7.1)\n",
            "Requirement already satisfied: numpy>=1.16.0 in /usr/local/lib/python3.10/dist-packages (from catboost) (1.22.4)\n",
            "Requirement already satisfied: pandas>=0.24 in /usr/local/lib/python3.10/dist-packages (from catboost) (1.5.3)\n",
            "Requirement already satisfied: scipy in /usr/local/lib/python3.10/dist-packages (from catboost) (1.10.1)\n",
            "Requirement already satisfied: plotly in /usr/local/lib/python3.10/dist-packages (from catboost) (5.13.1)\n",
            "Requirement already satisfied: six in /usr/local/lib/python3.10/dist-packages (from catboost) (1.16.0)\n",
            "Requirement already satisfied: python-dateutil>=2.8.1 in /usr/local/lib/python3.10/dist-packages (from pandas>=0.24->catboost) (2.8.2)\n",
            "Requirement already satisfied: pytz>=2020.1 in /usr/local/lib/python3.10/dist-packages (from pandas>=0.24->catboost) (2022.7.1)\n",
            "Requirement already satisfied: contourpy>=1.0.1 in /usr/local/lib/python3.10/dist-packages (from matplotlib->catboost) (1.1.0)\n",
            "Requirement already satisfied: cycler>=0.10 in /usr/local/lib/python3.10/dist-packages (from matplotlib->catboost) (0.11.0)\n",
            "Requirement already satisfied: fonttools>=4.22.0 in /usr/local/lib/python3.10/dist-packages (from matplotlib->catboost) (4.41.1)\n",
            "Requirement already satisfied: kiwisolver>=1.0.1 in /usr/local/lib/python3.10/dist-packages (from matplotlib->catboost) (1.4.4)\n",
            "Requirement already satisfied: packaging>=20.0 in /usr/local/lib/python3.10/dist-packages (from matplotlib->catboost) (23.1)\n",
            "Requirement already satisfied: pillow>=6.2.0 in /usr/local/lib/python3.10/dist-packages (from matplotlib->catboost) (9.4.0)\n",
            "Requirement already satisfied: pyparsing>=2.3.1 in /usr/local/lib/python3.10/dist-packages (from matplotlib->catboost) (3.1.0)\n",
            "Requirement already satisfied: tenacity>=6.2.0 in /usr/local/lib/python3.10/dist-packages (from plotly->catboost) (8.2.2)\n",
            "Installing collected packages: catboost\n",
            "Successfully installed catboost-1.2\n",
            "WELLCOME TO IMPLEMENTATION\n"
          ]
        }
      ],
      "source": [
        "!pip install mealpy\n",
        "import mealpy\n",
        "from mealpy.bio_based import BBO, EOA, IWO, SBO, SMA, TPO, VCS, WHO\n",
        "from mealpy.evolutionary_based import CRO, DE, EP, ES, FPA, GA, MA\n",
        "from mealpy.human_based import BRO, BSO, CA, CHIO, FBIO, GSKA, ICA, LCO, QSA, SARO, SSDO, TLO\n",
        "from mealpy.math_based import AOA, CGO, GBO, HC, SCA, PSS\n",
        "from mealpy.music_based import HS\n",
        "from mealpy.physics_based import ArchOA, ASO, EFO, EO, HGSO, MVO, NRO, SA, TWO, WDO\n",
        "# from mealpy.probabilistic_based import CEM\n",
        "from mealpy.system_based import AEO, GCO, WCA\n",
        "from mealpy.swarm_based import ABC, ACOR, ALO, AO, BA, BeesA, BES, BFO, BSA, COA, CSA, CSO, DO, EHO, FA, FFA, FOA, GOA, GWO, HGS\n",
        "from mealpy.swarm_based import HHO, JA, MFO, MRFO, MSA, NMRA, PFA, PSO, SFO, SHO, SLO, SRSR, SSA, SSO, SSpiderA, SSpiderO, WOA\n",
        "from sys import exit\n",
        "import numpy as np\n",
        "import tweepy\n",
        "import webbrowser\n",
        "import time\n",
        "import pandas as pd\n",
        "import datetime\n",
        "import threading\n",
        "import matplotlib.pyplot as plt\n",
        "import numpy as np\n",
        "import pandas as pd\n",
        "from sklearn.model_selection import cross_val_score\n",
        "!pip install mealpy\n",
        "import mealpy\n",
        "# Load libraries\n",
        "%tensorflow_version 2.x\n",
        "from __future__ import absolute_import, division, print_function, unicode_literals\n",
        "\n",
        "import numpy as np\n",
        "import pandas as pd\n",
        "import matplotlib.pyplot as plt\n",
        "from IPython.display import clear_output\n",
        "from six.moves import urllib\n",
        "\n",
        "import tensorflow.compat.v2.feature_column as fc\n",
        "\n",
        "import tensorflow as tf\n",
        "from pandas.plotting import scatter_matrix\n",
        "from sklearn import model_selection\n",
        "from sklearn.metrics import classification_report\n",
        "from sklearn.metrics import confusion_matrix\n",
        "import random as rn\n",
        "# from sklearn.metrics import confusion_matrix, plot_confusion_matrix, classification_report\n",
        "# create the models\n",
        "from sklearn.tree import DecisionTreeClassifier\n",
        "from sklearn.discriminant_analysis import LinearDiscriminantAnalysis\n",
        "from sklearn.metrics import accuracy_score\n",
        "from sklearn.metrics import precision_score\n",
        "from sklearn.metrics import recall_score\n",
        "from sklearn.metrics import f1_score\n",
        "# module imports\n",
        "import numpy as np\n",
        "import pandas as pd\n",
        "import matplotlib.pyplot as plt\n",
        "import seaborn as sns\n",
        "import itertools\n",
        "import random as rn\n",
        "\n",
        "# model imports\n",
        "from sklearn.cluster import KMeans #one with clusterimg (disaster)\n",
        "from sklearn.ensemble import RandomForestClassifier\n",
        "from sklearn.neighbors import KNeighborsClassifier\n",
        "from sklearn.linear_model import LogisticRegression\n",
        "from sklearn.tree import DecisionTreeClassifier\n",
        "from sklearn.multiclass import OneVsRestClassifier\n",
        "from sklearn.tree import DecisionTreeRegressor\n",
        "from sklearn.dummy import DummyClassifier #that zero\n",
        "from sklearn.svm import SVC, SVR\n",
        "from sklearn.naive_bayes import GaussianNB\n",
        "# from sklearn.ensemble import RandomForestClassifier\n",
        "# processing imports\n",
        "from sklearn.preprocessing import LabelEncoder\n",
        "from sklearn.model_selection import train_test_split\n",
        "from sklearn.model_selection import cross_val_score\n",
        "from sklearn.metrics import mean_absolute_error\n",
        "# from sklearn.metrics import accuracy_score\n",
        "# from sklearn.metrics import confusion_matrix\n",
        "from time import time\n",
        "from sklearn.model_selection import train_test_split\n",
        "from sklearn.naive_bayes import MultinomialNB\n",
        "!pip install catboost\n",
        "from xgboost import XGBClassifier\n",
        "from catboost import CatBoostClassifier\n",
        "from sklearn.linear_model import LogisticRegression\n",
        "from sklearn.ensemble import RandomForestClassifier\n",
        "from sklearn.svm import LinearSVC\n",
        "from sklearn import metrics\n",
        "# Sklearn modules & classes\n",
        "from sklearn.svm import SVC\n",
        "from sklearn.model_selection import train_test_split, GridSearchCV\n",
        "from sklearn.preprocessing import StandardScaler, LabelEncoder\n",
        "from sklearn import datasets, metrics\n",
        "from mealpy.bio_based import SMA\n",
        "import mealpy\n",
        "from sklearn.naive_bayes import GaussianNB\n",
        "import mealpy\n",
        "import time\n",
        "print(\"WELLCOME TO IMPLEMENTATION\")"
      ]
    },
    {
      "cell_type": "code",
      "source": [
        "from sklearn.model_selection import KFold, cross_val_score\n",
        "from collections import Counter\n",
        "from sklearn.datasets import make_classification\n",
        "from imblearn.over_sampling import SVMSMOTE\n",
        "# X = [\"a\", \"a\", \"a\", \"b\", \"b\", \"c\", \"c\", \"c\", \"c\", \"c\"]\n",
        "k_fold = KFold(n_splits=5,shuffle=True, random_state=2)"
      ],
      "metadata": {
        "id": "3LzoIvnKJUVh"
      },
      "execution_count": 2,
      "outputs": []
    },
    {
      "cell_type": "markdown",
      "source": [
        "# data"
      ],
      "metadata": {
        "id": "d1ObK-78Imh4"
      }
    },
    {
      "cell_type": "code",
      "source": [
        "df = pd.read_csv('/content/drive/MyDrive/work 44 water/water_potability.csv')\n",
        "df"
      ],
      "metadata": {
        "id": "AWTqTm4ZK9-Q"
      },
      "execution_count": 158,
      "outputs": []
    },
    {
      "cell_type": "code",
      "source": [
        "df = pd.read_csv('/content/drive/MyDrive/work 41 ai/ai4i2020.csv')\n",
        "df"
      ],
      "metadata": {
        "colab": {
          "base_uri": "https://localhost:8080/",
          "height": 424
        },
        "id": "naWbEBcxIQU3",
        "outputId": "3ad9a1b1-8ff5-4bc6-fbd8-6a3069da97d2"
      },
      "execution_count": 2,
      "outputs": [
        {
          "output_type": "execute_result",
          "data": {
            "text/plain": [
              "        UDI Product ID Type  Air temperature [K]  Process temperature [K]  \\\n",
              "0         1     M14860    M                298.1                    308.6   \n",
              "1         2     L47181    L                298.2                    308.7   \n",
              "2         3     L47182    L                298.1                    308.5   \n",
              "3         4     L47183    L                298.2                    308.6   \n",
              "4         5     L47184    L                298.2                    308.7   \n",
              "...     ...        ...  ...                  ...                      ...   \n",
              "9995   9996     M24855    M                298.8                    308.4   \n",
              "9996   9997     H39410    H                298.9                    308.4   \n",
              "9997   9998     M24857    M                299.0                    308.6   \n",
              "9998   9999     H39412    H                299.0                    308.7   \n",
              "9999  10000     M24859    M                299.0                    308.7   \n",
              "\n",
              "      Rotational speed [rpm]  Torque [Nm]  Tool wear [min]  Machine failure  \\\n",
              "0                       1551         42.8                0                0   \n",
              "1                       1408         46.3                3                0   \n",
              "2                       1498         49.4                5                0   \n",
              "3                       1433         39.5                7                0   \n",
              "4                       1408         40.0                9                0   \n",
              "...                      ...          ...              ...              ...   \n",
              "9995                    1604         29.5               14                0   \n",
              "9996                    1632         31.8               17                0   \n",
              "9997                    1645         33.4               22                0   \n",
              "9998                    1408         48.5               25                0   \n",
              "9999                    1500         40.2               30                0   \n",
              "\n",
              "      TWF  HDF  PWF  OSF  RNF  \n",
              "0       0    0    0    0    0  \n",
              "1       0    0    0    0    0  \n",
              "2       0    0    0    0    0  \n",
              "3       0    0    0    0    0  \n",
              "4       0    0    0    0    0  \n",
              "...   ...  ...  ...  ...  ...  \n",
              "9995    0    0    0    0    0  \n",
              "9996    0    0    0    0    0  \n",
              "9997    0    0    0    0    0  \n",
              "9998    0    0    0    0    0  \n",
              "9999    0    0    0    0    0  \n",
              "\n",
              "[10000 rows x 14 columns]"
            ],
            "text/html": [
              "\n",
              "\n",
              "  <div id=\"df-258fbb62-ecf7-4462-9daa-ae78336875fb\">\n",
              "    <div class=\"colab-df-container\">\n",
              "      <div>\n",
              "<style scoped>\n",
              "    .dataframe tbody tr th:only-of-type {\n",
              "        vertical-align: middle;\n",
              "    }\n",
              "\n",
              "    .dataframe tbody tr th {\n",
              "        vertical-align: top;\n",
              "    }\n",
              "\n",
              "    .dataframe thead th {\n",
              "        text-align: right;\n",
              "    }\n",
              "</style>\n",
              "<table border=\"1\" class=\"dataframe\">\n",
              "  <thead>\n",
              "    <tr style=\"text-align: right;\">\n",
              "      <th></th>\n",
              "      <th>UDI</th>\n",
              "      <th>Product ID</th>\n",
              "      <th>Type</th>\n",
              "      <th>Air temperature [K]</th>\n",
              "      <th>Process temperature [K]</th>\n",
              "      <th>Rotational speed [rpm]</th>\n",
              "      <th>Torque [Nm]</th>\n",
              "      <th>Tool wear [min]</th>\n",
              "      <th>Machine failure</th>\n",
              "      <th>TWF</th>\n",
              "      <th>HDF</th>\n",
              "      <th>PWF</th>\n",
              "      <th>OSF</th>\n",
              "      <th>RNF</th>\n",
              "    </tr>\n",
              "  </thead>\n",
              "  <tbody>\n",
              "    <tr>\n",
              "      <th>0</th>\n",
              "      <td>1</td>\n",
              "      <td>M14860</td>\n",
              "      <td>M</td>\n",
              "      <td>298.1</td>\n",
              "      <td>308.6</td>\n",
              "      <td>1551</td>\n",
              "      <td>42.8</td>\n",
              "      <td>0</td>\n",
              "      <td>0</td>\n",
              "      <td>0</td>\n",
              "      <td>0</td>\n",
              "      <td>0</td>\n",
              "      <td>0</td>\n",
              "      <td>0</td>\n",
              "    </tr>\n",
              "    <tr>\n",
              "      <th>1</th>\n",
              "      <td>2</td>\n",
              "      <td>L47181</td>\n",
              "      <td>L</td>\n",
              "      <td>298.2</td>\n",
              "      <td>308.7</td>\n",
              "      <td>1408</td>\n",
              "      <td>46.3</td>\n",
              "      <td>3</td>\n",
              "      <td>0</td>\n",
              "      <td>0</td>\n",
              "      <td>0</td>\n",
              "      <td>0</td>\n",
              "      <td>0</td>\n",
              "      <td>0</td>\n",
              "    </tr>\n",
              "    <tr>\n",
              "      <th>2</th>\n",
              "      <td>3</td>\n",
              "      <td>L47182</td>\n",
              "      <td>L</td>\n",
              "      <td>298.1</td>\n",
              "      <td>308.5</td>\n",
              "      <td>1498</td>\n",
              "      <td>49.4</td>\n",
              "      <td>5</td>\n",
              "      <td>0</td>\n",
              "      <td>0</td>\n",
              "      <td>0</td>\n",
              "      <td>0</td>\n",
              "      <td>0</td>\n",
              "      <td>0</td>\n",
              "    </tr>\n",
              "    <tr>\n",
              "      <th>3</th>\n",
              "      <td>4</td>\n",
              "      <td>L47183</td>\n",
              "      <td>L</td>\n",
              "      <td>298.2</td>\n",
              "      <td>308.6</td>\n",
              "      <td>1433</td>\n",
              "      <td>39.5</td>\n",
              "      <td>7</td>\n",
              "      <td>0</td>\n",
              "      <td>0</td>\n",
              "      <td>0</td>\n",
              "      <td>0</td>\n",
              "      <td>0</td>\n",
              "      <td>0</td>\n",
              "    </tr>\n",
              "    <tr>\n",
              "      <th>4</th>\n",
              "      <td>5</td>\n",
              "      <td>L47184</td>\n",
              "      <td>L</td>\n",
              "      <td>298.2</td>\n",
              "      <td>308.7</td>\n",
              "      <td>1408</td>\n",
              "      <td>40.0</td>\n",
              "      <td>9</td>\n",
              "      <td>0</td>\n",
              "      <td>0</td>\n",
              "      <td>0</td>\n",
              "      <td>0</td>\n",
              "      <td>0</td>\n",
              "      <td>0</td>\n",
              "    </tr>\n",
              "    <tr>\n",
              "      <th>...</th>\n",
              "      <td>...</td>\n",
              "      <td>...</td>\n",
              "      <td>...</td>\n",
              "      <td>...</td>\n",
              "      <td>...</td>\n",
              "      <td>...</td>\n",
              "      <td>...</td>\n",
              "      <td>...</td>\n",
              "      <td>...</td>\n",
              "      <td>...</td>\n",
              "      <td>...</td>\n",
              "      <td>...</td>\n",
              "      <td>...</td>\n",
              "      <td>...</td>\n",
              "    </tr>\n",
              "    <tr>\n",
              "      <th>9995</th>\n",
              "      <td>9996</td>\n",
              "      <td>M24855</td>\n",
              "      <td>M</td>\n",
              "      <td>298.8</td>\n",
              "      <td>308.4</td>\n",
              "      <td>1604</td>\n",
              "      <td>29.5</td>\n",
              "      <td>14</td>\n",
              "      <td>0</td>\n",
              "      <td>0</td>\n",
              "      <td>0</td>\n",
              "      <td>0</td>\n",
              "      <td>0</td>\n",
              "      <td>0</td>\n",
              "    </tr>\n",
              "    <tr>\n",
              "      <th>9996</th>\n",
              "      <td>9997</td>\n",
              "      <td>H39410</td>\n",
              "      <td>H</td>\n",
              "      <td>298.9</td>\n",
              "      <td>308.4</td>\n",
              "      <td>1632</td>\n",
              "      <td>31.8</td>\n",
              "      <td>17</td>\n",
              "      <td>0</td>\n",
              "      <td>0</td>\n",
              "      <td>0</td>\n",
              "      <td>0</td>\n",
              "      <td>0</td>\n",
              "      <td>0</td>\n",
              "    </tr>\n",
              "    <tr>\n",
              "      <th>9997</th>\n",
              "      <td>9998</td>\n",
              "      <td>M24857</td>\n",
              "      <td>M</td>\n",
              "      <td>299.0</td>\n",
              "      <td>308.6</td>\n",
              "      <td>1645</td>\n",
              "      <td>33.4</td>\n",
              "      <td>22</td>\n",
              "      <td>0</td>\n",
              "      <td>0</td>\n",
              "      <td>0</td>\n",
              "      <td>0</td>\n",
              "      <td>0</td>\n",
              "      <td>0</td>\n",
              "    </tr>\n",
              "    <tr>\n",
              "      <th>9998</th>\n",
              "      <td>9999</td>\n",
              "      <td>H39412</td>\n",
              "      <td>H</td>\n",
              "      <td>299.0</td>\n",
              "      <td>308.7</td>\n",
              "      <td>1408</td>\n",
              "      <td>48.5</td>\n",
              "      <td>25</td>\n",
              "      <td>0</td>\n",
              "      <td>0</td>\n",
              "      <td>0</td>\n",
              "      <td>0</td>\n",
              "      <td>0</td>\n",
              "      <td>0</td>\n",
              "    </tr>\n",
              "    <tr>\n",
              "      <th>9999</th>\n",
              "      <td>10000</td>\n",
              "      <td>M24859</td>\n",
              "      <td>M</td>\n",
              "      <td>299.0</td>\n",
              "      <td>308.7</td>\n",
              "      <td>1500</td>\n",
              "      <td>40.2</td>\n",
              "      <td>30</td>\n",
              "      <td>0</td>\n",
              "      <td>0</td>\n",
              "      <td>0</td>\n",
              "      <td>0</td>\n",
              "      <td>0</td>\n",
              "      <td>0</td>\n",
              "    </tr>\n",
              "  </tbody>\n",
              "</table>\n",
              "<p>10000 rows × 14 columns</p>\n",
              "</div>\n",
              "      <button class=\"colab-df-convert\" onclick=\"convertToInteractive('df-258fbb62-ecf7-4462-9daa-ae78336875fb')\"\n",
              "              title=\"Convert this dataframe to an interactive table.\"\n",
              "              style=\"display:none;\">\n",
              "\n",
              "  <svg xmlns=\"http://www.w3.org/2000/svg\" height=\"24px\"viewBox=\"0 0 24 24\"\n",
              "       width=\"24px\">\n",
              "    <path d=\"M0 0h24v24H0V0z\" fill=\"none\"/>\n",
              "    <path d=\"M18.56 5.44l.94 2.06.94-2.06 2.06-.94-2.06-.94-.94-2.06-.94 2.06-2.06.94zm-11 1L8.5 8.5l.94-2.06 2.06-.94-2.06-.94L8.5 2.5l-.94 2.06-2.06.94zm10 10l.94 2.06.94-2.06 2.06-.94-2.06-.94-.94-2.06-.94 2.06-2.06.94z\"/><path d=\"M17.41 7.96l-1.37-1.37c-.4-.4-.92-.59-1.43-.59-.52 0-1.04.2-1.43.59L10.3 9.45l-7.72 7.72c-.78.78-.78 2.05 0 2.83L4 21.41c.39.39.9.59 1.41.59.51 0 1.02-.2 1.41-.59l7.78-7.78 2.81-2.81c.8-.78.8-2.07 0-2.86zM5.41 20L4 18.59l7.72-7.72 1.47 1.35L5.41 20z\"/>\n",
              "  </svg>\n",
              "      </button>\n",
              "\n",
              "\n",
              "\n",
              "    <div id=\"df-45de821c-3688-4538-a465-518dbfe21f0c\">\n",
              "      <button class=\"colab-df-quickchart\" onclick=\"quickchart('df-45de821c-3688-4538-a465-518dbfe21f0c')\"\n",
              "              title=\"Suggest charts.\"\n",
              "              style=\"display:none;\">\n",
              "\n",
              "<svg xmlns=\"http://www.w3.org/2000/svg\" height=\"24px\"viewBox=\"0 0 24 24\"\n",
              "     width=\"24px\">\n",
              "    <g>\n",
              "        <path d=\"M19 3H5c-1.1 0-2 .9-2 2v14c0 1.1.9 2 2 2h14c1.1 0 2-.9 2-2V5c0-1.1-.9-2-2-2zM9 17H7v-7h2v7zm4 0h-2V7h2v10zm4 0h-2v-4h2v4z\"/>\n",
              "    </g>\n",
              "</svg>\n",
              "      </button>\n",
              "    </div>\n",
              "\n",
              "<style>\n",
              "  .colab-df-quickchart {\n",
              "    background-color: #E8F0FE;\n",
              "    border: none;\n",
              "    border-radius: 50%;\n",
              "    cursor: pointer;\n",
              "    display: none;\n",
              "    fill: #1967D2;\n",
              "    height: 32px;\n",
              "    padding: 0 0 0 0;\n",
              "    width: 32px;\n",
              "  }\n",
              "\n",
              "  .colab-df-quickchart:hover {\n",
              "    background-color: #E2EBFA;\n",
              "    box-shadow: 0px 1px 2px rgba(60, 64, 67, 0.3), 0px 1px 3px 1px rgba(60, 64, 67, 0.15);\n",
              "    fill: #174EA6;\n",
              "  }\n",
              "\n",
              "  [theme=dark] .colab-df-quickchart {\n",
              "    background-color: #3B4455;\n",
              "    fill: #D2E3FC;\n",
              "  }\n",
              "\n",
              "  [theme=dark] .colab-df-quickchart:hover {\n",
              "    background-color: #434B5C;\n",
              "    box-shadow: 0px 1px 3px 1px rgba(0, 0, 0, 0.15);\n",
              "    filter: drop-shadow(0px 1px 2px rgba(0, 0, 0, 0.3));\n",
              "    fill: #FFFFFF;\n",
              "  }\n",
              "</style>\n",
              "\n",
              "    <script>\n",
              "      async function quickchart(key) {\n",
              "        const containerElement = document.querySelector('#' + key);\n",
              "        const charts = await google.colab.kernel.invokeFunction(\n",
              "            'suggestCharts', [key], {});\n",
              "      }\n",
              "    </script>\n",
              "\n",
              "      <script>\n",
              "\n",
              "function displayQuickchartButton(domScope) {\n",
              "  let quickchartButtonEl =\n",
              "    domScope.querySelector('#df-45de821c-3688-4538-a465-518dbfe21f0c button.colab-df-quickchart');\n",
              "  quickchartButtonEl.style.display =\n",
              "    google.colab.kernel.accessAllowed ? 'block' : 'none';\n",
              "}\n",
              "\n",
              "        displayQuickchartButton(document);\n",
              "      </script>\n",
              "      <style>\n",
              "    .colab-df-container {\n",
              "      display:flex;\n",
              "      flex-wrap:wrap;\n",
              "      gap: 12px;\n",
              "    }\n",
              "\n",
              "    .colab-df-convert {\n",
              "      background-color: #E8F0FE;\n",
              "      border: none;\n",
              "      border-radius: 50%;\n",
              "      cursor: pointer;\n",
              "      display: none;\n",
              "      fill: #1967D2;\n",
              "      height: 32px;\n",
              "      padding: 0 0 0 0;\n",
              "      width: 32px;\n",
              "    }\n",
              "\n",
              "    .colab-df-convert:hover {\n",
              "      background-color: #E2EBFA;\n",
              "      box-shadow: 0px 1px 2px rgba(60, 64, 67, 0.3), 0px 1px 3px 1px rgba(60, 64, 67, 0.15);\n",
              "      fill: #174EA6;\n",
              "    }\n",
              "\n",
              "    [theme=dark] .colab-df-convert {\n",
              "      background-color: #3B4455;\n",
              "      fill: #D2E3FC;\n",
              "    }\n",
              "\n",
              "    [theme=dark] .colab-df-convert:hover {\n",
              "      background-color: #434B5C;\n",
              "      box-shadow: 0px 1px 3px 1px rgba(0, 0, 0, 0.15);\n",
              "      filter: drop-shadow(0px 1px 2px rgba(0, 0, 0, 0.3));\n",
              "      fill: #FFFFFF;\n",
              "    }\n",
              "  </style>\n",
              "\n",
              "      <script>\n",
              "        const buttonEl =\n",
              "          document.querySelector('#df-258fbb62-ecf7-4462-9daa-ae78336875fb button.colab-df-convert');\n",
              "        buttonEl.style.display =\n",
              "          google.colab.kernel.accessAllowed ? 'block' : 'none';\n",
              "\n",
              "        async function convertToInteractive(key) {\n",
              "          const element = document.querySelector('#df-258fbb62-ecf7-4462-9daa-ae78336875fb');\n",
              "          const dataTable =\n",
              "            await google.colab.kernel.invokeFunction('convertToInteractive',\n",
              "                                                     [key], {});\n",
              "          if (!dataTable) return;\n",
              "\n",
              "          const docLinkHtml = 'Like what you see? Visit the ' +\n",
              "            '<a target=\"_blank\" href=https://colab.research.google.com/notebooks/data_table.ipynb>data table notebook</a>'\n",
              "            + ' to learn more about interactive tables.';\n",
              "          element.innerHTML = '';\n",
              "          dataTable['output_type'] = 'display_data';\n",
              "          await google.colab.output.renderOutput(dataTable, element);\n",
              "          const docLink = document.createElement('div');\n",
              "          docLink.innerHTML = docLinkHtml;\n",
              "          element.appendChild(docLink);\n",
              "        }\n",
              "      </script>\n",
              "    </div>\n",
              "  </div>\n"
            ]
          },
          "metadata": {},
          "execution_count": 2
        }
      ]
    },
    {
      "cell_type": "code",
      "source": [
        "df.columns"
      ],
      "metadata": {
        "colab": {
          "base_uri": "https://localhost:8080/"
        },
        "id": "KGeD-kKuLiIK",
        "outputId": "aa143a66-8d33-4a67-9830-810c5686597e"
      },
      "execution_count": 3,
      "outputs": [
        {
          "output_type": "execute_result",
          "data": {
            "text/plain": [
              "Index(['UDI', 'Product ID', 'Type', 'Air temperature [K]',\n",
              "       'Process temperature [K]', 'Rotational speed [rpm]', 'Torque [Nm]',\n",
              "       'Tool wear [min]', 'Machine failure', 'TWF', 'HDF', 'PWF', 'OSF',\n",
              "       'RNF'],\n",
              "      dtype='object')"
            ]
          },
          "metadata": {},
          "execution_count": 3
        }
      ]
    },
    {
      "cell_type": "code",
      "source": [
        "df = df[['Air temperature [K]',\n",
        "       'Process temperature [K]', 'Rotational speed [rpm]', 'Torque [Nm]',\n",
        "       'Tool wear [min]', 'Machine failure']]"
      ],
      "metadata": {
        "id": "Retklm4bLKtU"
      },
      "execution_count": 4,
      "outputs": []
    },
    {
      "cell_type": "code",
      "source": [
        "# #Replace null values based on the group/sample mean\n",
        "# df['ph']=df['ph'].fillna(df.groupby(['Potability'])['ph'].transform('mean'))\n",
        "# df['Sulfate']=df['Sulfate'].fillna(df.groupby(['Potability'])['Sulfate'].transform('mean'))\n",
        "# df['Trihalomethanes']=df['Trihalomethanes'].fillna(df.groupby(['Potability'])['Trihalomethanes'].transform('mean'))"
      ],
      "metadata": {
        "id": "n158A5fmKA9k"
      },
      "execution_count": 5,
      "outputs": []
    },
    {
      "cell_type": "code",
      "source": [],
      "metadata": {
        "id": "wWu66rbJLzL-"
      },
      "execution_count": 5,
      "outputs": []
    },
    {
      "cell_type": "code",
      "execution_count": 6,
      "metadata": {
        "id": "0c95f4ac"
      },
      "outputs": [],
      "source": [
        "from mealpy.swarm_based import PSO,SSpiderA,SSA\n",
        "from sklearn.ensemble import RandomForestClassifier"
      ]
    },
    {
      "cell_type": "code",
      "source": [
        "C=1.0, kernel='rbf'"
      ],
      "metadata": {
        "id": "UmMCU-kdMni-"
      },
      "execution_count": null,
      "outputs": []
    },
    {
      "cell_type": "code",
      "source": [
        "ff = [\"linear\", \"poly\", \"rbf\", \"sigmoid\", \"precomputed\"]"
      ],
      "metadata": {
        "id": "pSeB1CNfM2x6"
      },
      "execution_count": 43,
      "outputs": []
    },
    {
      "cell_type": "code",
      "source": [
        "n_estimator = 4.9\n",
        "ff[int(n_estimator)]"
      ],
      "metadata": {
        "colab": {
          "base_uri": "https://localhost:8080/",
          "height": 34
        },
        "id": "snCpB_WNNYmE",
        "outputId": "2e9e3a80-73eb-4228-fe26-41d0d0b0fbf5"
      },
      "execution_count": 171,
      "outputs": [
        {
          "output_type": "execute_result",
          "data": {
            "text/plain": [
              "'precomputed'"
            ],
            "application/vnd.google.colaboratory.intrinsic+json": {
              "type": "string"
            }
          },
          "metadata": {},
          "execution_count": 171
        }
      ]
    },
    {
      "cell_type": "code",
      "source": [
        "from sklearn.ensemble import RandomForestClassifier,ExtraTreesClassifier,GradientBoostingClassifier,HistGradientBoostingClassifier,AdaBoostClassifier\n"
      ],
      "metadata": {
        "id": "1h6O_JQ0Nz3X"
      },
      "execution_count": 13,
      "outputs": []
    },
    {
      "cell_type": "code",
      "source": [
        "ExtraTreesClassifier"
      ],
      "metadata": {
        "colab": {
          "base_uri": "https://localhost:8080/"
        },
        "id": "VTOTLR00N3Mf",
        "outputId": "bff17f8f-0c1c-4ad3-e977-0f546994cd6a"
      },
      "execution_count": 190,
      "outputs": [
        {
          "output_type": "execute_result",
          "data": {
            "text/plain": [
              "sklearn.ensemble._forest.ExtraTreesClassifier"
            ]
          },
          "metadata": {},
          "execution_count": 190
        }
      ]
    },
    {
      "cell_type": "code",
      "source": [
        "# ['gini', 'entropy', 'log_loss']"
      ],
      "metadata": {
        "id": "VlMI0HwTOA76"
      },
      "execution_count": 191,
      "outputs": []
    },
    {
      "cell_type": "code",
      "source": [],
      "metadata": {
        "id": "Wj58mXwo5wtH"
      },
      "execution_count": 10,
      "outputs": []
    },
    {
      "cell_type": "code",
      "source": [
        "X_ = df.drop('Machine failure', axis=1).values\n",
        "y_ = df['Machine failure'].values\n",
        "\n",
        "# Train Test Split\n",
        "X, x, Y, y = train_test_split(X_, y_, test_size=0.2, random_state=1)\n",
        "\n",
        "print(\"X_train\", X.shape)\n",
        "print(\"X_test\", x.shape)\n",
        "print(\"y_train\", Y.shape)\n",
        "print(\"y_test\", y.shape)"
      ],
      "metadata": {
        "colab": {
          "base_uri": "https://localhost:8080/"
        },
        "id": "t6GMdN75Lmf7",
        "outputId": "2db5856f-49ab-4359-8d86-1ef0ba16a6b7"
      },
      "execution_count": 11,
      "outputs": [
        {
          "output_type": "stream",
          "name": "stdout",
          "text": [
            "X_train (8000, 5)\n",
            "X_test (2000, 5)\n",
            "y_train (8000,)\n",
            "y_test (2000,)\n"
          ]
        }
      ]
    },
    {
      "cell_type": "code",
      "source": [
        "clf = HistGradientBoostingClassifier(max_depth=9)\n",
        "# Fit the model\n",
        "clf.fit(X, Y)\n",
        "# Make the predictions\n",
        "y_ = clf.predict(x)\n",
        "# cm = confusion_matrix(y,y_)\n",
        "# km = cm[0][1]+cm[1][0]\n",
        "f1_score(y,y_,average='macro')"
      ],
      "metadata": {
        "id": "KZt25hMRTux_",
        "colab": {
          "base_uri": "https://localhost:8080/"
        },
        "outputId": "0135732c-2a09-4f98-9b54-32adea5548b3"
      },
      "execution_count": 52,
      "outputs": [
        {
          "output_type": "execute_result",
          "data": {
            "text/plain": [
              "0.8740200211258733"
            ]
          },
          "metadata": {},
          "execution_count": 52
        }
      ]
    },
    {
      "cell_type": "code",
      "execution_count": 55,
      "metadata": {
        "id": "dd7f1ac5"
      },
      "outputs": [],
      "source": [
        "def fitness_function(solution):\n",
        "    max_depth = solution[0]\n",
        "    n_estimator = solution[1]\n",
        "    learning_rate = solution[2]\n",
        "    clf = HistGradientBoostingClassifier(max_depth=int(max_depth),random_state=0,\n",
        "                    max_iter=int(n_estimator),learning_rate=learning_rate)\n",
        "    # Fit the model\n",
        "    clf.fit(X, Y)\n",
        "    # Make the predictions\n",
        "    y_ = clf.predict(x)\n",
        "    # cm = confusion_matrix(y,y_)\n",
        "    # km = cm[0][1]+cm[1][0]\n",
        "    return f1_score(y,y_,average='macro')\n",
        "\n",
        "problem = {\n",
        "    \"fit_func\": fitness_function,\n",
        "    \"lb\": [6, 100,0.003],\n",
        "    \"ub\": [10, 400,1],\n",
        "    \"minmax\": \"max\",\n",
        "}"
      ]
    },
    {
      "cell_type": "code",
      "source": [
        "max_depth = 18\n",
        "n_estimator = 100"
      ],
      "metadata": {
        "id": "Dg4URUmTVoKS"
      },
      "execution_count": 15,
      "outputs": []
    },
    {
      "cell_type": "code",
      "source": [
        "clf = ExtraTreesClassifier(\n",
        "                n_estimators=int(n_estimator),random_state=0)\n",
        "# Fit the model\n",
        "clf.fit(X, Y)\n",
        "# Make the predictions\n",
        "y_ = clf.predict(x)\n",
        "# cm = confusion_matrix(y,y_)\n",
        "# km = cm[0][1]+cm[1][0]\n",
        "f1_score(y,y_,average='macro')"
      ],
      "metadata": {
        "colab": {
          "base_uri": "https://localhost:8080/"
        },
        "id": "xWfi8CuDVlSR",
        "outputId": "9ff5ed71-a7f1-4013-bb17-c2b77a7e78ad"
      },
      "execution_count": 16,
      "outputs": [
        {
          "output_type": "execute_result",
          "data": {
            "text/plain": [
              "0.8425592751632178"
            ]
          },
          "metadata": {},
          "execution_count": 16
        }
      ]
    },
    {
      "cell_type": "code",
      "source": [
        "k2 = ['gini', 'entropy', 'log_loss']"
      ],
      "metadata": {
        "id": "eLWePWzpWbhC"
      },
      "execution_count": 24,
      "outputs": []
    },
    {
      "cell_type": "code",
      "source": [
        "def fitness_function(solution):\n",
        "    max_depth = solution[0]\n",
        "    n_estimator = solution[1]\n",
        "    # learning_rate = solution[2]\n",
        "    clf = ExtraTreesClassifier(criterion=k2[int(max_depth)],n_estimators=int(n_estimator),random_state=0)\n",
        "    # Fit the model\n",
        "    clf.fit(X, Y)\n",
        "    # Make the predictions\n",
        "    y_ = clf.predict(x)\n",
        "    # cm = confusion_matrix(y,y_)\n",
        "    # km = cm[0][1]+cm[1][0]\n",
        "    return f1_score(y,y_,average='macro')\n",
        "\n",
        "problem = {\n",
        "    \"fit_func\": fitness_function,\n",
        "    \"lb\": [0, 100],\n",
        "    \"ub\": [2.99, 400],\n",
        "    \"minmax\": \"max\",\n",
        "}"
      ],
      "metadata": {
        "id": "uYmaJv519-Im"
      },
      "execution_count": 32,
      "outputs": []
    },
    {
      "cell_type": "code",
      "source": [
        "k = [PSS.OriginalPSS,\n",
        "    #  ArchOA.OriginalArchOA,\n",
        "     TLO.OriginalTLO,\n",
        "     DE.JADE,\n",
        "     SMA.OriginalSMA]"
      ],
      "metadata": {
        "id": "-OkKjrcDlewO"
      },
      "execution_count": 37,
      "outputs": []
    },
    {
      "cell_type": "code",
      "source": [
        "k[-1:]"
      ],
      "metadata": {
        "colab": {
          "base_uri": "https://localhost:8080/"
        },
        "id": "u-b6Hw4KRi9P",
        "outputId": "3bf26b33-8853-43ca-8d17-d931019bbc55"
      },
      "execution_count": 38,
      "outputs": [
        {
          "output_type": "execute_result",
          "data": {
            "text/plain": [
              "[mealpy.bio_based.SMA.OriginalSMA]"
            ]
          },
          "metadata": {},
          "execution_count": 38
        }
      ]
    },
    {
      "cell_type": "code",
      "source": [
        "for k_ in k[-1:]:\n",
        "    epoch = 300\n",
        "    print('started')\n",
        "    p = np.zeros((epoch,5))\n",
        "    model = k_(epoch=epoch, pop_size=10)\n",
        "    a = time.time()\n",
        "    best_position, best_fitness = model.solve(problem)\n",
        "    b = time.time()\n",
        "\n",
        "    lstm = model.history.list_current_best\n",
        "    for j,i in enumerate(lstm):\n",
        "        p[j] = int(i[0][0]),int(i[0][1]),i[0][2],i[1][0],i[1][1][0]\n",
        "    s = pd.DataFrame(p,columns=['Max Dept','iter','Learning Rate','Best f1','Best f1-2'])\n",
        "        # p[j] = int(i[0][0]),int(i[0][1]),i[1][0],i[1][1][0]\n",
        "    # s = pd.DataFrame(p,columns=['C','kernel','Best f1','Best f1-2'])\n",
        "\n",
        "    # s.to_csv(f'/content/drive/MyDrive/49/{model.__class__.__name__}-RF.csv')\n",
        "\n",
        "    s.to_csv(f'/content/drive/MyDrive/49/{model.__class__.__name__}-Hist.csv')"
      ],
      "metadata": {
        "colab": {
          "base_uri": "https://localhost:8080/"
        },
        "id": "XSN05jdCPN1x",
        "outputId": "538a79c0-8c59-4590-f5d1-f04cdabf56ef"
      },
      "execution_count": 62,
      "outputs": [
        {
          "output_type": "stream",
          "name": "stdout",
          "text": [
            "started\n"
          ]
        },
        {
          "output_type": "stream",
          "name": "stderr",
          "text": [
            "INFO:mealpy.bio_based.SMA.OriginalSMA:Solving single objective optimization problem.\n",
            "INFO:mealpy.bio_based.SMA.OriginalSMA:>Problem: P, Epoch: 1, Current best: 0.859153512610791, Global best: 0.8861646832759982, Runtime: 3.41245 seconds\n",
            "INFO:mealpy.bio_based.SMA.OriginalSMA:>Problem: P, Epoch: 2, Current best: 0.8691283010049077, Global best: 0.8861646832759982, Runtime: 8.18684 seconds\n",
            "INFO:mealpy.bio_based.SMA.OriginalSMA:>Problem: P, Epoch: 3, Current best: 0.8504323440056087, Global best: 0.8861646832759982, Runtime: 10.26773 seconds\n",
            "INFO:mealpy.bio_based.SMA.OriginalSMA:>Problem: P, Epoch: 4, Current best: 0.8656409044683666, Global best: 0.8861646832759982, Runtime: 7.29685 seconds\n",
            "INFO:mealpy.bio_based.SMA.OriginalSMA:>Problem: P, Epoch: 5, Current best: 0.8656409044683666, Global best: 0.8861646832759982, Runtime: 9.02878 seconds\n",
            "INFO:mealpy.bio_based.SMA.OriginalSMA:>Problem: P, Epoch: 6, Current best: 0.8740200211258733, Global best: 0.8861646832759982, Runtime: 11.09283 seconds\n",
            "INFO:mealpy.bio_based.SMA.OriginalSMA:>Problem: P, Epoch: 7, Current best: 0.8762894446347684, Global best: 0.8861646832759982, Runtime: 6.80509 seconds\n",
            "INFO:mealpy.bio_based.SMA.OriginalSMA:>Problem: P, Epoch: 8, Current best: 0.8777431383336389, Global best: 0.8861646832759982, Runtime: 8.05064 seconds\n",
            "INFO:mealpy.bio_based.SMA.OriginalSMA:>Problem: P, Epoch: 9, Current best: 0.8726772438867394, Global best: 0.8861646832759982, Runtime: 5.51028 seconds\n",
            "INFO:mealpy.bio_based.SMA.OriginalSMA:>Problem: P, Epoch: 10, Current best: 0.8643292535201714, Global best: 0.8861646832759982, Runtime: 7.58839 seconds\n",
            "INFO:mealpy.bio_based.SMA.OriginalSMA:>Problem: P, Epoch: 11, Current best: 0.8726772438867394, Global best: 0.8861646832759982, Runtime: 4.61689 seconds\n",
            "INFO:mealpy.bio_based.SMA.OriginalSMA:>Problem: P, Epoch: 12, Current best: 0.8691283010049077, Global best: 0.8861646832759982, Runtime: 8.20081 seconds\n",
            "INFO:mealpy.bio_based.SMA.OriginalSMA:>Problem: P, Epoch: 13, Current best: 0.8726772438867394, Global best: 0.8861646832759982, Runtime: 4.18959 seconds\n",
            "INFO:mealpy.bio_based.SMA.OriginalSMA:>Problem: P, Epoch: 14, Current best: 0.8632459286190904, Global best: 0.8861646832759982, Runtime: 12.37879 seconds\n",
            "INFO:mealpy.bio_based.SMA.OriginalSMA:>Problem: P, Epoch: 15, Current best: 0.8691283010049077, Global best: 0.8861646832759982, Runtime: 4.41506 seconds\n",
            "INFO:mealpy.bio_based.SMA.OriginalSMA:>Problem: P, Epoch: 16, Current best: 0.8703640130500228, Global best: 0.8861646832759982, Runtime: 7.72086 seconds\n",
            "INFO:mealpy.bio_based.SMA.OriginalSMA:>Problem: P, Epoch: 17, Current best: 0.8740200211258733, Global best: 0.8861646832759982, Runtime: 4.56384 seconds\n",
            "INFO:mealpy.bio_based.SMA.OriginalSMA:>Problem: P, Epoch: 18, Current best: 0.7840295538505258, Global best: 0.8861646832759982, Runtime: 7.35862 seconds\n",
            "INFO:mealpy.bio_based.SMA.OriginalSMA:>Problem: P, Epoch: 19, Current best: 0.8519191280998263, Global best: 0.8861646832759982, Runtime: 7.65272 seconds\n",
            "INFO:mealpy.bio_based.SMA.OriginalSMA:>Problem: P, Epoch: 20, Current best: 0.8632459286190904, Global best: 0.8861646832759982, Runtime: 6.79499 seconds\n",
            "INFO:mealpy.bio_based.SMA.OriginalSMA:>Problem: P, Epoch: 21, Current best: 0.8762894446347684, Global best: 0.8861646832759982, Runtime: 5.48567 seconds\n",
            "INFO:mealpy.bio_based.SMA.OriginalSMA:>Problem: P, Epoch: 22, Current best: 0.8784762795045571, Global best: 0.8861646832759982, Runtime: 9.65611 seconds\n",
            "INFO:mealpy.bio_based.SMA.OriginalSMA:>Problem: P, Epoch: 23, Current best: 0.8632459286190904, Global best: 0.8861646832759982, Runtime: 5.04800 seconds\n",
            "INFO:mealpy.bio_based.SMA.OriginalSMA:>Problem: P, Epoch: 24, Current best: 0.8617911862265045, Global best: 0.8861646832759982, Runtime: 9.42499 seconds\n",
            "INFO:mealpy.bio_based.SMA.OriginalSMA:>Problem: P, Epoch: 25, Current best: 0.8546384859144692, Global best: 0.8861646832759982, Runtime: 9.23658 seconds\n",
            "INFO:mealpy.bio_based.SMA.OriginalSMA:>Problem: P, Epoch: 26, Current best: 0.8546384859144692, Global best: 0.8861646832759982, Runtime: 4.40072 seconds\n",
            "INFO:mealpy.bio_based.SMA.OriginalSMA:>Problem: P, Epoch: 27, Current best: 0.8691283010049077, Global best: 0.8861646832759982, Runtime: 8.93529 seconds\n",
            "INFO:mealpy.bio_based.SMA.OriginalSMA:>Problem: P, Epoch: 28, Current best: 0.8777431383336389, Global best: 0.8861646832759982, Runtime: 5.33717 seconds\n",
            "INFO:mealpy.bio_based.SMA.OriginalSMA:>Problem: P, Epoch: 29, Current best: 0.8726772438867394, Global best: 0.8861646832759982, Runtime: 9.43114 seconds\n",
            "INFO:mealpy.bio_based.SMA.OriginalSMA:>Problem: P, Epoch: 30, Current best: 0.8740200211258733, Global best: 0.8861646832759982, Runtime: 3.35434 seconds\n",
            "INFO:mealpy.bio_based.SMA.OriginalSMA:>Problem: P, Epoch: 31, Current best: 0.8777431383336389, Global best: 0.8861646832759982, Runtime: 7.57565 seconds\n",
            "INFO:mealpy.bio_based.SMA.OriginalSMA:>Problem: P, Epoch: 32, Current best: 0.8762894446347684, Global best: 0.8861646832759982, Runtime: 5.81938 seconds\n",
            "INFO:mealpy.bio_based.SMA.OriginalSMA:>Problem: P, Epoch: 33, Current best: 0.8841731935072126, Global best: 0.8861646832759982, Runtime: 3.50748 seconds\n",
            "INFO:mealpy.bio_based.SMA.OriginalSMA:>Problem: P, Epoch: 34, Current best: 0.8777431383336389, Global best: 0.8861646832759982, Runtime: 8.42882 seconds\n",
            "INFO:mealpy.bio_based.SMA.OriginalSMA:>Problem: P, Epoch: 35, Current best: 0.8762894446347684, Global best: 0.8861646832759982, Runtime: 11.41934 seconds\n",
            "INFO:mealpy.bio_based.SMA.OriginalSMA:>Problem: P, Epoch: 36, Current best: 0.8667732480682121, Global best: 0.8861646832759982, Runtime: 4.23461 seconds\n",
            "INFO:mealpy.bio_based.SMA.OriginalSMA:>Problem: P, Epoch: 37, Current best: 0.8841731935072126, Global best: 0.8861646832759982, Runtime: 8.54066 seconds\n",
            "INFO:mealpy.bio_based.SMA.OriginalSMA:>Problem: P, Epoch: 38, Current best: 0.8805849500293944, Global best: 0.8861646832759982, Runtime: 5.44706 seconds\n",
            "INFO:mealpy.bio_based.SMA.OriginalSMA:>Problem: P, Epoch: 39, Current best: 0.8703640130500228, Global best: 0.8861646832759982, Runtime: 7.68859 seconds\n",
            "INFO:mealpy.bio_based.SMA.OriginalSMA:>Problem: P, Epoch: 40, Current best: 0.8815353024798609, Global best: 0.8861646832759982, Runtime: 5.96229 seconds\n",
            "INFO:mealpy.bio_based.SMA.OriginalSMA:>Problem: P, Epoch: 41, Current best: 0.8878242580042065, Global best: 0.8878242580042065, Runtime: 8.26880 seconds\n",
            "INFO:mealpy.bio_based.SMA.OriginalSMA:>Problem: P, Epoch: 42, Current best: 0.8522746348833306, Global best: 0.8878242580042065, Runtime: 3.10977 seconds\n",
            "INFO:mealpy.bio_based.SMA.OriginalSMA:>Problem: P, Epoch: 43, Current best: 0.850860428797573, Global best: 0.8878242580042065, Runtime: 2.86909 seconds\n",
            "INFO:mealpy.bio_based.SMA.OriginalSMA:>Problem: P, Epoch: 44, Current best: 0.8895693444500193, Global best: 0.8895693444500193, Runtime: 6.44197 seconds\n",
            "INFO:mealpy.bio_based.SMA.OriginalSMA:>Problem: P, Epoch: 45, Current best: 0.8762894446347684, Global best: 0.8895693444500193, Runtime: 3.41151 seconds\n",
            "INFO:mealpy.bio_based.SMA.OriginalSMA:>Problem: P, Epoch: 46, Current best: 0.8837107887315755, Global best: 0.8895693444500193, Runtime: 3.46127 seconds\n",
            "INFO:mealpy.bio_based.SMA.OriginalSMA:>Problem: P, Epoch: 47, Current best: 0.8895693444500193, Global best: 0.8895693444500193, Runtime: 6.42399 seconds\n",
            "INFO:mealpy.bio_based.SMA.OriginalSMA:>Problem: P, Epoch: 48, Current best: 0.8837107887315755, Global best: 0.8895693444500193, Runtime: 3.45054 seconds\n",
            "INFO:mealpy.bio_based.SMA.OriginalSMA:>Problem: P, Epoch: 49, Current best: 0.8895693444500193, Global best: 0.8895693444500193, Runtime: 3.46508 seconds\n",
            "INFO:mealpy.bio_based.SMA.OriginalSMA:>Problem: P, Epoch: 50, Current best: 0.8716632443531829, Global best: 0.8895693444500193, Runtime: 6.43231 seconds\n",
            "INFO:mealpy.bio_based.SMA.OriginalSMA:>Problem: P, Epoch: 51, Current best: 0.8858056412013247, Global best: 0.8895693444500193, Runtime: 3.44796 seconds\n",
            "INFO:mealpy.bio_based.SMA.OriginalSMA:>Problem: P, Epoch: 52, Current best: 0.8895693444500193, Global best: 0.8895693444500193, Runtime: 3.33661 seconds\n",
            "INFO:mealpy.bio_based.SMA.OriginalSMA:>Problem: P, Epoch: 53, Current best: 0.8815353024798609, Global best: 0.8895693444500193, Runtime: 6.42925 seconds\n",
            "INFO:mealpy.bio_based.SMA.OriginalSMA:>Problem: P, Epoch: 54, Current best: 0.8895693444500193, Global best: 0.8895693444500193, Runtime: 3.39231 seconds\n",
            "INFO:mealpy.bio_based.SMA.OriginalSMA:>Problem: P, Epoch: 55, Current best: 0.8934015563372775, Global best: 0.8934015563372775, Runtime: 3.48775 seconds\n",
            "INFO:mealpy.bio_based.SMA.OriginalSMA:>Problem: P, Epoch: 56, Current best: 0.8875236872669479, Global best: 0.8934015563372775, Runtime: 6.41562 seconds\n",
            "INFO:mealpy.bio_based.SMA.OriginalSMA:>Problem: P, Epoch: 57, Current best: 0.8895693444500193, Global best: 0.8934015563372775, Runtime: 3.48951 seconds\n",
            "INFO:mealpy.bio_based.SMA.OriginalSMA:>Problem: P, Epoch: 58, Current best: 0.8837107887315755, Global best: 0.8934015563372775, Runtime: 3.34169 seconds\n",
            "INFO:mealpy.bio_based.SMA.OriginalSMA:>Problem: P, Epoch: 59, Current best: 0.8679625894003302, Global best: 0.8934015563372775, Runtime: 7.16505 seconds\n",
            "INFO:mealpy.bio_based.SMA.OriginalSMA:>Problem: P, Epoch: 60, Current best: 0.8777431383336389, Global best: 0.8934015563372775, Runtime: 3.31692 seconds\n",
            "INFO:mealpy.bio_based.SMA.OriginalSMA:>Problem: P, Epoch: 61, Current best: 0.8762894446347684, Global best: 0.8934015563372775, Runtime: 4.24684 seconds\n",
            "INFO:mealpy.bio_based.SMA.OriginalSMA:>Problem: P, Epoch: 62, Current best: 0.879966678750021, Global best: 0.8934015563372775, Runtime: 9.49988 seconds\n",
            "INFO:mealpy.bio_based.SMA.OriginalSMA:>Problem: P, Epoch: 63, Current best: 0.8762894446347684, Global best: 0.8934015563372775, Runtime: 3.26240 seconds\n",
            "INFO:mealpy.bio_based.SMA.OriginalSMA:>Problem: P, Epoch: 64, Current best: 0.8716632443531829, Global best: 0.8934015563372775, Runtime: 6.44572 seconds\n",
            "INFO:mealpy.bio_based.SMA.OriginalSMA:>Problem: P, Epoch: 65, Current best: 0.8716632443531829, Global best: 0.8934015563372775, Runtime: 3.41904 seconds\n",
            "INFO:mealpy.bio_based.SMA.OriginalSMA:>Problem: P, Epoch: 66, Current best: 0.8875236872669479, Global best: 0.8934015563372775, Runtime: 3.51745 seconds\n",
            "INFO:mealpy.bio_based.SMA.OriginalSMA:>Problem: P, Epoch: 67, Current best: 0.8858056412013247, Global best: 0.8934015563372775, Runtime: 6.43202 seconds\n",
            "INFO:mealpy.bio_based.SMA.OriginalSMA:>Problem: P, Epoch: 68, Current best: 0.8934015563372775, Global best: 0.8934015563372775, Runtime: 3.45506 seconds\n",
            "INFO:mealpy.bio_based.SMA.OriginalSMA:>Problem: P, Epoch: 69, Current best: 0.8934015563372775, Global best: 0.8934015563372775, Runtime: 3.59086 seconds\n",
            "INFO:mealpy.bio_based.SMA.OriginalSMA:>Problem: P, Epoch: 70, Current best: 0.8815353024798609, Global best: 0.8934015563372775, Runtime: 6.44360 seconds\n",
            "INFO:mealpy.bio_based.SMA.OriginalSMA:>Problem: P, Epoch: 71, Current best: 0.7128205128205128, Global best: 0.8934015563372775, Runtime: 3.30688 seconds\n",
            "INFO:mealpy.bio_based.SMA.OriginalSMA:>Problem: P, Epoch: 72, Current best: 0.8875236872669479, Global best: 0.8934015563372775, Runtime: 3.53159 seconds\n",
            "INFO:mealpy.bio_based.SMA.OriginalSMA:>Problem: P, Epoch: 73, Current best: 0.8815353024798609, Global best: 0.8934015563372775, Runtime: 6.47680 seconds\n",
            "INFO:mealpy.bio_based.SMA.OriginalSMA:>Problem: P, Epoch: 74, Current best: 0.8934015563372775, Global best: 0.8934015563372775, Runtime: 3.44910 seconds\n",
            "INFO:mealpy.bio_based.SMA.OriginalSMA:>Problem: P, Epoch: 75, Current best: 0.8895693444500193, Global best: 0.8934015563372775, Runtime: 3.46333 seconds\n",
            "INFO:mealpy.bio_based.SMA.OriginalSMA:>Problem: P, Epoch: 76, Current best: 0.8895693444500193, Global best: 0.8934015563372775, Runtime: 6.51631 seconds\n",
            "INFO:mealpy.bio_based.SMA.OriginalSMA:>Problem: P, Epoch: 77, Current best: 0.8837107887315755, Global best: 0.8934015563372775, Runtime: 3.44565 seconds\n",
            "INFO:mealpy.bio_based.SMA.OriginalSMA:>Problem: P, Epoch: 78, Current best: 0.8934015563372775, Global best: 0.8934015563372775, Runtime: 3.37597 seconds\n",
            "INFO:mealpy.bio_based.SMA.OriginalSMA:>Problem: P, Epoch: 79, Current best: 0.8895693444500193, Global best: 0.8934015563372775, Runtime: 6.44539 seconds\n",
            "INFO:mealpy.bio_based.SMA.OriginalSMA:>Problem: P, Epoch: 80, Current best: 0.8934015563372775, Global best: 0.8934015563372775, Runtime: 3.44768 seconds\n",
            "INFO:mealpy.bio_based.SMA.OriginalSMA:>Problem: P, Epoch: 81, Current best: 0.879966678750021, Global best: 0.8934015563372775, Runtime: 3.38894 seconds\n",
            "INFO:mealpy.bio_based.SMA.OriginalSMA:>Problem: P, Epoch: 82, Current best: 0.8815353024798609, Global best: 0.8934015563372775, Runtime: 7.10076 seconds\n",
            "INFO:mealpy.bio_based.SMA.OriginalSMA:>Problem: P, Epoch: 83, Current best: 0.8934015563372775, Global best: 0.8934015563372775, Runtime: 3.54838 seconds\n",
            "INFO:mealpy.bio_based.SMA.OriginalSMA:>Problem: P, Epoch: 84, Current best: 0.8934015563372775, Global best: 0.8934015563372775, Runtime: 6.51664 seconds\n",
            "INFO:mealpy.bio_based.SMA.OriginalSMA:>Problem: P, Epoch: 85, Current best: 0.7792340583751627, Global best: 0.8934015563372775, Runtime: 3.42675 seconds\n",
            "INFO:mealpy.bio_based.SMA.OriginalSMA:>Problem: P, Epoch: 86, Current best: 0.8934015563372775, Global best: 0.8934015563372775, Runtime: 3.46201 seconds\n",
            "INFO:mealpy.bio_based.SMA.OriginalSMA:>Problem: P, Epoch: 87, Current best: 0.8837107887315755, Global best: 0.8934015563372775, Runtime: 6.43185 seconds\n",
            "INFO:mealpy.bio_based.SMA.OriginalSMA:>Problem: P, Epoch: 88, Current best: 0.8895693444500193, Global best: 0.8934015563372775, Runtime: 3.41464 seconds\n",
            "INFO:mealpy.bio_based.SMA.OriginalSMA:>Problem: P, Epoch: 89, Current best: 0.8875236872669479, Global best: 0.8934015563372775, Runtime: 3.44227 seconds\n",
            "INFO:mealpy.bio_based.SMA.OriginalSMA:>Problem: P, Epoch: 90, Current best: 0.8934015563372775, Global best: 0.8934015563372775, Runtime: 6.54936 seconds\n",
            "INFO:mealpy.bio_based.SMA.OriginalSMA:>Problem: P, Epoch: 91, Current best: 0.8934015563372775, Global best: 0.8934015563372775, Runtime: 3.50312 seconds\n",
            "INFO:mealpy.bio_based.SMA.OriginalSMA:>Problem: P, Epoch: 92, Current best: 0.8858056412013247, Global best: 0.8934015563372775, Runtime: 3.28422 seconds\n",
            "INFO:mealpy.bio_based.SMA.OriginalSMA:>Problem: P, Epoch: 93, Current best: 0.8875236872669479, Global best: 0.8934015563372775, Runtime: 9.39503 seconds\n",
            "INFO:mealpy.bio_based.SMA.OriginalSMA:>Problem: P, Epoch: 94, Current best: 0.5522008568902247, Global best: 0.8934015563372775, Runtime: 3.48929 seconds\n",
            "INFO:mealpy.bio_based.SMA.OriginalSMA:>Problem: P, Epoch: 95, Current best: 0.8837107887315755, Global best: 0.8934015563372775, Runtime: 3.45170 seconds\n",
            "INFO:mealpy.bio_based.SMA.OriginalSMA:>Problem: P, Epoch: 96, Current best: 0.8895693444500193, Global best: 0.8934015563372775, Runtime: 6.51010 seconds\n",
            "INFO:mealpy.bio_based.SMA.OriginalSMA:>Problem: P, Epoch: 97, Current best: 0.8934015563372775, Global best: 0.8934015563372775, Runtime: 3.44647 seconds\n",
            "INFO:mealpy.bio_based.SMA.OriginalSMA:>Problem: P, Epoch: 98, Current best: 0.8837107887315755, Global best: 0.8934015563372775, Runtime: 3.44943 seconds\n",
            "INFO:mealpy.bio_based.SMA.OriginalSMA:>Problem: P, Epoch: 99, Current best: 0.8837107887315755, Global best: 0.8934015563372775, Runtime: 6.53068 seconds\n",
            "INFO:mealpy.bio_based.SMA.OriginalSMA:>Problem: P, Epoch: 100, Current best: 0.8837107887315755, Global best: 0.8934015563372775, Runtime: 3.51581 seconds\n",
            "INFO:mealpy.bio_based.SMA.OriginalSMA:>Problem: P, Epoch: 101, Current best: 0.8875236872669479, Global best: 0.8934015563372775, Runtime: 3.45091 seconds\n",
            "INFO:mealpy.bio_based.SMA.OriginalSMA:>Problem: P, Epoch: 102, Current best: 0.8934015563372775, Global best: 0.8934015563372775, Runtime: 6.34095 seconds\n",
            "INFO:mealpy.bio_based.SMA.OriginalSMA:>Problem: P, Epoch: 103, Current best: 0.8815353024798609, Global best: 0.8934015563372775, Runtime: 3.45653 seconds\n",
            "INFO:mealpy.bio_based.SMA.OriginalSMA:>Problem: P, Epoch: 104, Current best: 0.8837107887315755, Global best: 0.8934015563372775, Runtime: 3.46053 seconds\n",
            "INFO:mealpy.bio_based.SMA.OriginalSMA:>Problem: P, Epoch: 105, Current best: 0.8895693444500193, Global best: 0.8934015563372775, Runtime: 6.45140 seconds\n",
            "INFO:mealpy.bio_based.SMA.OriginalSMA:>Problem: P, Epoch: 106, Current best: 0.8754331811126805, Global best: 0.8934015563372775, Runtime: 3.29078 seconds\n",
            "INFO:mealpy.bio_based.SMA.OriginalSMA:>Problem: P, Epoch: 107, Current best: 0.8837107887315755, Global best: 0.8934015563372775, Runtime: 3.53410 seconds\n",
            "INFO:mealpy.bio_based.SMA.OriginalSMA:>Problem: P, Epoch: 108, Current best: 0.8875236872669479, Global best: 0.8934015563372775, Runtime: 6.51182 seconds\n",
            "INFO:mealpy.bio_based.SMA.OriginalSMA:>Problem: P, Epoch: 109, Current best: 0.8777431383336389, Global best: 0.8934015563372775, Runtime: 3.49154 seconds\n",
            "INFO:mealpy.bio_based.SMA.OriginalSMA:>Problem: P, Epoch: 110, Current best: 0.8934015563372775, Global best: 0.8934015563372775, Runtime: 3.44796 seconds\n",
            "INFO:mealpy.bio_based.SMA.OriginalSMA:>Problem: P, Epoch: 111, Current best: 0.8875236872669479, Global best: 0.8934015563372775, Runtime: 6.47812 seconds\n",
            "INFO:mealpy.bio_based.SMA.OriginalSMA:>Problem: P, Epoch: 112, Current best: 0.8875236872669479, Global best: 0.8934015563372775, Runtime: 3.60061 seconds\n",
            "INFO:mealpy.bio_based.SMA.OriginalSMA:>Problem: P, Epoch: 113, Current best: 0.8703640130500228, Global best: 0.8934015563372775, Runtime: 3.97843 seconds\n",
            "INFO:mealpy.bio_based.SMA.OriginalSMA:>Problem: P, Epoch: 114, Current best: 0.8028817017600147, Global best: 0.8934015563372775, Runtime: 6.71528 seconds\n",
            "INFO:mealpy.bio_based.SMA.OriginalSMA:>Problem: P, Epoch: 115, Current best: 0.8815353024798609, Global best: 0.8934015563372775, Runtime: 3.62164 seconds\n",
            "INFO:mealpy.bio_based.SMA.OriginalSMA:>Problem: P, Epoch: 116, Current best: 0.8740200211258733, Global best: 0.8934015563372775, Runtime: 3.45755 seconds\n",
            "INFO:mealpy.bio_based.SMA.OriginalSMA:>Problem: P, Epoch: 117, Current best: 0.8875236872669479, Global best: 0.8934015563372775, Runtime: 6.50098 seconds\n",
            "INFO:mealpy.bio_based.SMA.OriginalSMA:>Problem: P, Epoch: 118, Current best: 0.8934015563372775, Global best: 0.8934015563372775, Runtime: 3.57265 seconds\n",
            "INFO:mealpy.bio_based.SMA.OriginalSMA:>Problem: P, Epoch: 119, Current best: 0.8875236872669479, Global best: 0.8934015563372775, Runtime: 3.48848 seconds\n",
            "INFO:mealpy.bio_based.SMA.OriginalSMA:>Problem: P, Epoch: 120, Current best: 0.8858056412013247, Global best: 0.8934015563372775, Runtime: 6.46484 seconds\n",
            "INFO:mealpy.bio_based.SMA.OriginalSMA:>Problem: P, Epoch: 121, Current best: 0.8837107887315755, Global best: 0.8934015563372775, Runtime: 3.46115 seconds\n",
            "INFO:mealpy.bio_based.SMA.OriginalSMA:>Problem: P, Epoch: 122, Current best: 0.8858056412013247, Global best: 0.8934015563372775, Runtime: 3.47671 seconds\n",
            "INFO:mealpy.bio_based.SMA.OriginalSMA:>Problem: P, Epoch: 123, Current best: 0.8895693444500193, Global best: 0.8934015563372775, Runtime: 9.56203 seconds\n",
            "INFO:mealpy.bio_based.SMA.OriginalSMA:>Problem: P, Epoch: 124, Current best: 0.8895693444500193, Global best: 0.8934015563372775, Runtime: 3.44355 seconds\n",
            "INFO:mealpy.bio_based.SMA.OriginalSMA:>Problem: P, Epoch: 125, Current best: 0.8934015563372775, Global best: 0.8934015563372775, Runtime: 6.58943 seconds\n",
            "INFO:mealpy.bio_based.SMA.OriginalSMA:>Problem: P, Epoch: 126, Current best: 0.8895693444500193, Global best: 0.8934015563372775, Runtime: 3.40915 seconds\n",
            "INFO:mealpy.bio_based.SMA.OriginalSMA:>Problem: P, Epoch: 127, Current best: 0.8875236872669479, Global best: 0.8934015563372775, Runtime: 3.47098 seconds\n",
            "INFO:mealpy.bio_based.SMA.OriginalSMA:>Problem: P, Epoch: 128, Current best: 0.8895693444500193, Global best: 0.8934015563372775, Runtime: 6.44253 seconds\n",
            "INFO:mealpy.bio_based.SMA.OriginalSMA:>Problem: P, Epoch: 129, Current best: 0.8895693444500193, Global best: 0.8934015563372775, Runtime: 3.42100 seconds\n",
            "INFO:mealpy.bio_based.SMA.OriginalSMA:>Problem: P, Epoch: 130, Current best: 0.8837107887315755, Global best: 0.8934015563372775, Runtime: 3.35840 seconds\n",
            "INFO:mealpy.bio_based.SMA.OriginalSMA:>Problem: P, Epoch: 131, Current best: 0.8934015563372775, Global best: 0.8934015563372775, Runtime: 7.40172 seconds\n",
            "INFO:mealpy.bio_based.SMA.OriginalSMA:>Problem: P, Epoch: 132, Current best: 0.8934015563372775, Global best: 0.8934015563372775, Runtime: 3.39499 seconds\n",
            "INFO:mealpy.bio_based.SMA.OriginalSMA:>Problem: P, Epoch: 133, Current best: 0.8895693444500193, Global best: 0.8934015563372775, Runtime: 3.40495 seconds\n",
            "INFO:mealpy.bio_based.SMA.OriginalSMA:>Problem: P, Epoch: 134, Current best: 0.8934015563372775, Global best: 0.8934015563372775, Runtime: 6.84156 seconds\n",
            "INFO:mealpy.bio_based.SMA.OriginalSMA:>Problem: P, Epoch: 135, Current best: 0.8762894446347684, Global best: 0.8934015563372775, Runtime: 3.21671 seconds\n",
            "INFO:mealpy.bio_based.SMA.OriginalSMA:>Problem: P, Epoch: 136, Current best: 0.8837107887315755, Global best: 0.8934015563372775, Runtime: 3.43233 seconds\n",
            "INFO:mealpy.bio_based.SMA.OriginalSMA:>Problem: P, Epoch: 137, Current best: 0.8934015563372775, Global best: 0.8934015563372775, Runtime: 6.57151 seconds\n",
            "INFO:mealpy.bio_based.SMA.OriginalSMA:>Problem: P, Epoch: 138, Current best: 0.8875236872669479, Global best: 0.8934015563372775, Runtime: 3.48366 seconds\n",
            "INFO:mealpy.bio_based.SMA.OriginalSMA:>Problem: P, Epoch: 139, Current best: 0.8837107887315755, Global best: 0.8934015563372775, Runtime: 3.54100 seconds\n",
            "INFO:mealpy.bio_based.SMA.OriginalSMA:>Problem: P, Epoch: 140, Current best: 0.8875236872669479, Global best: 0.8934015563372775, Runtime: 6.26293 seconds\n",
            "INFO:mealpy.bio_based.SMA.OriginalSMA:>Problem: P, Epoch: 141, Current best: 0.8934015563372775, Global best: 0.8934015563372775, Runtime: 3.42303 seconds\n",
            "INFO:mealpy.bio_based.SMA.OriginalSMA:>Problem: P, Epoch: 142, Current best: 0.8895693444500193, Global best: 0.8934015563372775, Runtime: 3.20199 seconds\n",
            "INFO:mealpy.bio_based.SMA.OriginalSMA:>Problem: P, Epoch: 143, Current best: 0.8934015563372775, Global best: 0.8934015563372775, Runtime: 6.44720 seconds\n",
            "INFO:mealpy.bio_based.SMA.OriginalSMA:>Problem: P, Epoch: 144, Current best: 0.8934015563372775, Global best: 0.8934015563372775, Runtime: 3.21195 seconds\n",
            "INFO:mealpy.bio_based.SMA.OriginalSMA:>Problem: P, Epoch: 145, Current best: 0.8837107887315755, Global best: 0.8934015563372775, Runtime: 3.19885 seconds\n",
            "INFO:mealpy.bio_based.SMA.OriginalSMA:>Problem: P, Epoch: 146, Current best: 0.879966678750021, Global best: 0.8934015563372775, Runtime: 7.23014 seconds\n",
            "INFO:mealpy.bio_based.SMA.OriginalSMA:>Problem: P, Epoch: 147, Current best: 0.8875236872669479, Global best: 0.8934015563372775, Runtime: 3.50483 seconds\n",
            "INFO:mealpy.bio_based.SMA.OriginalSMA:>Problem: P, Epoch: 148, Current best: 0.8815353024798609, Global best: 0.8934015563372775, Runtime: 5.40576 seconds\n",
            "INFO:mealpy.bio_based.SMA.OriginalSMA:>Problem: P, Epoch: 149, Current best: 0.8934015563372775, Global best: 0.8934015563372775, Runtime: 5.13601 seconds\n",
            "INFO:mealpy.bio_based.SMA.OriginalSMA:>Problem: P, Epoch: 150, Current best: 0.8934015563372775, Global best: 0.8934015563372775, Runtime: 3.49468 seconds\n",
            "INFO:mealpy.bio_based.SMA.OriginalSMA:>Problem: P, Epoch: 151, Current best: 0.8895693444500193, Global best: 0.8934015563372775, Runtime: 6.45435 seconds\n",
            "INFO:mealpy.bio_based.SMA.OriginalSMA:>Problem: P, Epoch: 152, Current best: 0.8815353024798609, Global best: 0.8934015563372775, Runtime: 3.71042 seconds\n",
            "INFO:mealpy.bio_based.SMA.OriginalSMA:>Problem: P, Epoch: 153, Current best: 0.8934015563372775, Global best: 0.8934015563372775, Runtime: 9.54520 seconds\n",
            "INFO:mealpy.bio_based.SMA.OriginalSMA:>Problem: P, Epoch: 154, Current best: 0.8875236872669479, Global best: 0.8934015563372775, Runtime: 3.57374 seconds\n",
            "INFO:mealpy.bio_based.SMA.OriginalSMA:>Problem: P, Epoch: 155, Current best: 0.8815353024798609, Global best: 0.8934015563372775, Runtime: 3.45901 seconds\n",
            "INFO:mealpy.bio_based.SMA.OriginalSMA:>Problem: P, Epoch: 156, Current best: 0.8875236872669479, Global best: 0.8934015563372775, Runtime: 6.50949 seconds\n",
            "INFO:mealpy.bio_based.SMA.OriginalSMA:>Problem: P, Epoch: 157, Current best: 0.8934015563372775, Global best: 0.8934015563372775, Runtime: 3.39559 seconds\n",
            "INFO:mealpy.bio_based.SMA.OriginalSMA:>Problem: P, Epoch: 158, Current best: 0.8934015563372775, Global best: 0.8934015563372775, Runtime: 3.85255 seconds\n",
            "INFO:mealpy.bio_based.SMA.OriginalSMA:>Problem: P, Epoch: 159, Current best: 0.8895693444500193, Global best: 0.8934015563372775, Runtime: 6.44323 seconds\n",
            "INFO:mealpy.bio_based.SMA.OriginalSMA:>Problem: P, Epoch: 160, Current best: 0.8934015563372775, Global best: 0.8934015563372775, Runtime: 3.46824 seconds\n",
            "INFO:mealpy.bio_based.SMA.OriginalSMA:>Problem: P, Epoch: 161, Current best: 0.8895693444500193, Global best: 0.8934015563372775, Runtime: 3.96578 seconds\n",
            "INFO:mealpy.bio_based.SMA.OriginalSMA:>Problem: P, Epoch: 162, Current best: 0.8934015563372775, Global best: 0.8934015563372775, Runtime: 6.51558 seconds\n",
            "INFO:mealpy.bio_based.SMA.OriginalSMA:>Problem: P, Epoch: 163, Current best: 0.8934015563372775, Global best: 0.8934015563372775, Runtime: 3.50636 seconds\n",
            "INFO:mealpy.bio_based.SMA.OriginalSMA:>Problem: P, Epoch: 164, Current best: 0.8895693444500193, Global best: 0.8934015563372775, Runtime: 3.42825 seconds\n",
            "INFO:mealpy.bio_based.SMA.OriginalSMA:>Problem: P, Epoch: 165, Current best: 0.8895693444500193, Global best: 0.8934015563372775, Runtime: 6.48284 seconds\n",
            "INFO:mealpy.bio_based.SMA.OriginalSMA:>Problem: P, Epoch: 166, Current best: 0.8934015563372775, Global best: 0.8934015563372775, Runtime: 3.40376 seconds\n",
            "INFO:mealpy.bio_based.SMA.OriginalSMA:>Problem: P, Epoch: 167, Current best: 0.8934015563372775, Global best: 0.8934015563372775, Runtime: 3.41711 seconds\n",
            "INFO:mealpy.bio_based.SMA.OriginalSMA:>Problem: P, Epoch: 168, Current best: 0.8934015563372775, Global best: 0.8934015563372775, Runtime: 6.56276 seconds\n",
            "INFO:mealpy.bio_based.SMA.OriginalSMA:>Problem: P, Epoch: 169, Current best: 0.8934015563372775, Global best: 0.8934015563372775, Runtime: 3.31536 seconds\n",
            "INFO:mealpy.bio_based.SMA.OriginalSMA:>Problem: P, Epoch: 170, Current best: 0.8895693444500193, Global best: 0.8934015563372775, Runtime: 3.44430 seconds\n",
            "INFO:mealpy.bio_based.SMA.OriginalSMA:>Problem: P, Epoch: 171, Current best: 0.8777431383336389, Global best: 0.8934015563372775, Runtime: 6.50184 seconds\n",
            "INFO:mealpy.bio_based.SMA.OriginalSMA:>Problem: P, Epoch: 172, Current best: 0.8934015563372775, Global best: 0.8934015563372775, Runtime: 3.47486 seconds\n",
            "INFO:mealpy.bio_based.SMA.OriginalSMA:>Problem: P, Epoch: 173, Current best: 0.8895693444500193, Global best: 0.8934015563372775, Runtime: 3.46312 seconds\n",
            "INFO:mealpy.bio_based.SMA.OriginalSMA:>Problem: P, Epoch: 174, Current best: 0.8815353024798609, Global best: 0.8934015563372775, Runtime: 6.47720 seconds\n",
            "INFO:mealpy.bio_based.SMA.OriginalSMA:>Problem: P, Epoch: 175, Current best: 0.8895693444500193, Global best: 0.8934015563372775, Runtime: 3.53207 seconds\n",
            "INFO:mealpy.bio_based.SMA.OriginalSMA:>Problem: P, Epoch: 176, Current best: 0.8934015563372775, Global best: 0.8934015563372775, Runtime: 3.48808 seconds\n",
            "INFO:mealpy.bio_based.SMA.OriginalSMA:>Problem: P, Epoch: 177, Current best: 0.8934015563372775, Global best: 0.8934015563372775, Runtime: 6.62701 seconds\n",
            "INFO:mealpy.bio_based.SMA.OriginalSMA:>Problem: P, Epoch: 178, Current best: 0.8815353024798609, Global best: 0.8934015563372775, Runtime: 3.44720 seconds\n",
            "INFO:mealpy.bio_based.SMA.OriginalSMA:>Problem: P, Epoch: 179, Current best: 0.8934015563372775, Global best: 0.8934015563372775, Runtime: 7.93420 seconds\n",
            "INFO:mealpy.bio_based.SMA.OriginalSMA:>Problem: P, Epoch: 180, Current best: 0.8895693444500193, Global best: 0.8934015563372775, Runtime: 3.39292 seconds\n",
            "INFO:mealpy.bio_based.SMA.OriginalSMA:>Problem: P, Epoch: 181, Current best: 0.879966678750021, Global best: 0.8934015563372775, Runtime: 4.39079 seconds\n",
            "INFO:mealpy.bio_based.SMA.OriginalSMA:>Problem: P, Epoch: 182, Current best: 0.8895693444500193, Global best: 0.8934015563372775, Runtime: 9.23903 seconds\n",
            "INFO:mealpy.bio_based.SMA.OriginalSMA:>Problem: P, Epoch: 183, Current best: 0.8895693444500193, Global best: 0.8934015563372775, Runtime: 3.43390 seconds\n",
            "INFO:mealpy.bio_based.SMA.OriginalSMA:>Problem: P, Epoch: 184, Current best: 0.8934015563372775, Global best: 0.8934015563372775, Runtime: 3.45596 seconds\n",
            "INFO:mealpy.bio_based.SMA.OriginalSMA:>Problem: P, Epoch: 185, Current best: 0.8858056412013247, Global best: 0.8934015563372775, Runtime: 6.32966 seconds\n",
            "INFO:mealpy.bio_based.SMA.OriginalSMA:>Problem: P, Epoch: 186, Current best: 0.8934015563372775, Global best: 0.8934015563372775, Runtime: 3.39916 seconds\n",
            "INFO:mealpy.bio_based.SMA.OriginalSMA:>Problem: P, Epoch: 187, Current best: 0.8691283010049077, Global best: 0.8934015563372775, Runtime: 3.42497 seconds\n",
            "INFO:mealpy.bio_based.SMA.OriginalSMA:>Problem: P, Epoch: 188, Current best: 0.8895693444500193, Global best: 0.8934015563372775, Runtime: 6.53015 seconds\n",
            "INFO:mealpy.bio_based.SMA.OriginalSMA:>Problem: P, Epoch: 189, Current best: 0.6944580384723937, Global best: 0.8934015563372775, Runtime: 3.28310 seconds\n",
            "INFO:mealpy.bio_based.SMA.OriginalSMA:>Problem: P, Epoch: 190, Current best: 0.8875236872669479, Global best: 0.8934015563372775, Runtime: 3.52836 seconds\n",
            "INFO:mealpy.bio_based.SMA.OriginalSMA:>Problem: P, Epoch: 191, Current best: 0.8895693444500193, Global best: 0.8934015563372775, Runtime: 6.48802 seconds\n",
            "INFO:mealpy.bio_based.SMA.OriginalSMA:>Problem: P, Epoch: 192, Current best: 0.8895693444500193, Global best: 0.8934015563372775, Runtime: 3.43127 seconds\n",
            "INFO:mealpy.bio_based.SMA.OriginalSMA:>Problem: P, Epoch: 193, Current best: 0.8875236872669479, Global best: 0.8934015563372775, Runtime: 3.50455 seconds\n",
            "INFO:mealpy.bio_based.SMA.OriginalSMA:>Problem: P, Epoch: 194, Current best: 0.8895693444500193, Global best: 0.8934015563372775, Runtime: 6.44741 seconds\n",
            "INFO:mealpy.bio_based.SMA.OriginalSMA:>Problem: P, Epoch: 195, Current best: 0.8934015563372775, Global best: 0.8934015563372775, Runtime: 4.07507 seconds\n",
            "INFO:mealpy.bio_based.SMA.OriginalSMA:>Problem: P, Epoch: 196, Current best: 0.8875236872669479, Global best: 0.8934015563372775, Runtime: 6.40634 seconds\n",
            "INFO:mealpy.bio_based.SMA.OriginalSMA:>Problem: P, Epoch: 197, Current best: 0.8875236872669479, Global best: 0.8934015563372775, Runtime: 3.45481 seconds\n",
            "INFO:mealpy.bio_based.SMA.OriginalSMA:>Problem: P, Epoch: 198, Current best: 0.8875236872669479, Global best: 0.8934015563372775, Runtime: 4.17917 seconds\n",
            "INFO:mealpy.bio_based.SMA.OriginalSMA:>Problem: P, Epoch: 199, Current best: 0.8815353024798609, Global best: 0.8934015563372775, Runtime: 6.49387 seconds\n",
            "INFO:mealpy.bio_based.SMA.OriginalSMA:>Problem: P, Epoch: 200, Current best: 0.8934015563372775, Global best: 0.8934015563372775, Runtime: 3.44758 seconds\n",
            "INFO:mealpy.bio_based.SMA.OriginalSMA:>Problem: P, Epoch: 201, Current best: 0.8858056412013247, Global best: 0.8934015563372775, Runtime: 4.17137 seconds\n",
            "INFO:mealpy.bio_based.SMA.OriginalSMA:>Problem: P, Epoch: 202, Current best: 0.8895693444500193, Global best: 0.8934015563372775, Runtime: 7.24090 seconds\n",
            "INFO:mealpy.bio_based.SMA.OriginalSMA:>Problem: P, Epoch: 203, Current best: 0.7260922073232983, Global best: 0.8934015563372775, Runtime: 3.44221 seconds\n",
            "INFO:mealpy.bio_based.SMA.OriginalSMA:>Problem: P, Epoch: 204, Current best: 0.8895693444500193, Global best: 0.8934015563372775, Runtime: 3.42420 seconds\n",
            "INFO:mealpy.bio_based.SMA.OriginalSMA:>Problem: P, Epoch: 205, Current best: 0.8837107887315755, Global best: 0.8934015563372775, Runtime: 6.47574 seconds\n",
            "INFO:mealpy.bio_based.SMA.OriginalSMA:>Problem: P, Epoch: 206, Current best: 0.8837107887315755, Global best: 0.8934015563372775, Runtime: 3.47912 seconds\n",
            "INFO:mealpy.bio_based.SMA.OriginalSMA:>Problem: P, Epoch: 207, Current best: 0.8934015563372775, Global best: 0.8934015563372775, Runtime: 3.39008 seconds\n",
            "INFO:mealpy.bio_based.SMA.OriginalSMA:>Problem: P, Epoch: 208, Current best: 0.8895693444500193, Global best: 0.8934015563372775, Runtime: 6.13665 seconds\n",
            "INFO:mealpy.bio_based.SMA.OriginalSMA:>Problem: P, Epoch: 209, Current best: 0.8895693444500193, Global best: 0.8934015563372775, Runtime: 3.37490 seconds\n",
            "INFO:mealpy.bio_based.SMA.OriginalSMA:>Problem: P, Epoch: 210, Current best: 0.8934015563372775, Global best: 0.8934015563372775, Runtime: 3.40397 seconds\n",
            "INFO:mealpy.bio_based.SMA.OriginalSMA:>Problem: P, Epoch: 211, Current best: 0.8934015563372775, Global best: 0.8934015563372775, Runtime: 6.43087 seconds\n",
            "INFO:mealpy.bio_based.SMA.OriginalSMA:>Problem: P, Epoch: 212, Current best: 0.8934015563372775, Global best: 0.8934015563372775, Runtime: 6.55865 seconds\n",
            "INFO:mealpy.bio_based.SMA.OriginalSMA:>Problem: P, Epoch: 213, Current best: 0.8934015563372775, Global best: 0.8934015563372775, Runtime: 6.50420 seconds\n",
            "INFO:mealpy.bio_based.SMA.OriginalSMA:>Problem: P, Epoch: 214, Current best: 0.8934015563372775, Global best: 0.8934015563372775, Runtime: 3.46512 seconds\n",
            "INFO:mealpy.bio_based.SMA.OriginalSMA:>Problem: P, Epoch: 215, Current best: 0.8895693444500193, Global best: 0.8934015563372775, Runtime: 3.41524 seconds\n",
            "INFO:mealpy.bio_based.SMA.OriginalSMA:>Problem: P, Epoch: 216, Current best: 0.8934015563372775, Global best: 0.8934015563372775, Runtime: 6.48114 seconds\n",
            "INFO:mealpy.bio_based.SMA.OriginalSMA:>Problem: P, Epoch: 217, Current best: 0.8934015563372775, Global best: 0.8934015563372775, Runtime: 3.45589 seconds\n",
            "INFO:mealpy.bio_based.SMA.OriginalSMA:>Problem: P, Epoch: 218, Current best: 0.8837107887315755, Global best: 0.8934015563372775, Runtime: 3.44401 seconds\n",
            "INFO:mealpy.bio_based.SMA.OriginalSMA:>Problem: P, Epoch: 219, Current best: 0.8703640130500228, Global best: 0.8934015563372775, Runtime: 6.51051 seconds\n",
            "INFO:mealpy.bio_based.SMA.OriginalSMA:>Problem: P, Epoch: 220, Current best: 0.8934015563372775, Global best: 0.8934015563372775, Runtime: 3.45074 seconds\n",
            "INFO:mealpy.bio_based.SMA.OriginalSMA:>Problem: P, Epoch: 221, Current best: 0.8934015563372775, Global best: 0.8934015563372775, Runtime: 3.42912 seconds\n",
            "INFO:mealpy.bio_based.SMA.OriginalSMA:>Problem: P, Epoch: 222, Current best: 0.8934015563372775, Global best: 0.8934015563372775, Runtime: 6.51974 seconds\n",
            "INFO:mealpy.bio_based.SMA.OriginalSMA:>Problem: P, Epoch: 223, Current best: 0.8895693444500193, Global best: 0.8934015563372775, Runtime: 3.41489 seconds\n",
            "INFO:mealpy.bio_based.SMA.OriginalSMA:>Problem: P, Epoch: 224, Current best: 0.8934015563372775, Global best: 0.8934015563372775, Runtime: 3.45249 seconds\n",
            "INFO:mealpy.bio_based.SMA.OriginalSMA:>Problem: P, Epoch: 225, Current best: 0.8837107887315755, Global best: 0.8934015563372775, Runtime: 6.43299 seconds\n",
            "INFO:mealpy.bio_based.SMA.OriginalSMA:>Problem: P, Epoch: 226, Current best: 0.8934015563372775, Global best: 0.8934015563372775, Runtime: 3.87620 seconds\n",
            "INFO:mealpy.bio_based.SMA.OriginalSMA:>Problem: P, Epoch: 227, Current best: 0.8837107887315755, Global best: 0.8934015563372775, Runtime: 3.42574 seconds\n",
            "INFO:mealpy.bio_based.SMA.OriginalSMA:>Problem: P, Epoch: 228, Current best: 0.8934015563372775, Global best: 0.8934015563372775, Runtime: 6.46016 seconds\n",
            "INFO:mealpy.bio_based.SMA.OriginalSMA:>Problem: P, Epoch: 229, Current best: 0.8934015563372775, Global best: 0.8934015563372775, Runtime: 3.46972 seconds\n",
            "INFO:mealpy.bio_based.SMA.OriginalSMA:>Problem: P, Epoch: 230, Current best: 0.8934015563372775, Global best: 0.8934015563372775, Runtime: 3.54732 seconds\n",
            "INFO:mealpy.bio_based.SMA.OriginalSMA:>Problem: P, Epoch: 231, Current best: 0.8643292535201714, Global best: 0.8934015563372775, Runtime: 6.08944 seconds\n",
            "INFO:mealpy.bio_based.SMA.OriginalSMA:>Problem: P, Epoch: 232, Current best: 0.8895693444500193, Global best: 0.8934015563372775, Runtime: 3.43237 seconds\n",
            "INFO:mealpy.bio_based.SMA.OriginalSMA:>Problem: P, Epoch: 233, Current best: 0.8837107887315755, Global best: 0.8934015563372775, Runtime: 3.45960 seconds\n",
            "INFO:mealpy.bio_based.SMA.OriginalSMA:>Problem: P, Epoch: 234, Current best: 0.8837107887315755, Global best: 0.8934015563372775, Runtime: 6.47298 seconds\n",
            "INFO:mealpy.bio_based.SMA.OriginalSMA:>Problem: P, Epoch: 235, Current best: 0.8934015563372775, Global best: 0.8934015563372775, Runtime: 3.28959 seconds\n",
            "INFO:mealpy.bio_based.SMA.OriginalSMA:>Problem: P, Epoch: 236, Current best: 0.8477408549350995, Global best: 0.8934015563372775, Runtime: 3.32742 seconds\n",
            "INFO:mealpy.bio_based.SMA.OriginalSMA:>Problem: P, Epoch: 237, Current best: 0.8934015563372775, Global best: 0.8934015563372775, Runtime: 6.12555 seconds\n",
            "INFO:mealpy.bio_based.SMA.OriginalSMA:>Problem: P, Epoch: 238, Current best: 0.8875236872669479, Global best: 0.8934015563372775, Runtime: 3.48780 seconds\n",
            "INFO:mealpy.bio_based.SMA.OriginalSMA:>Problem: P, Epoch: 239, Current best: 0.8934015563372775, Global best: 0.8934015563372775, Runtime: 3.42766 seconds\n",
            "INFO:mealpy.bio_based.SMA.OriginalSMA:>Problem: P, Epoch: 240, Current best: 0.8643292535201714, Global best: 0.8934015563372775, Runtime: 6.21361 seconds\n",
            "INFO:mealpy.bio_based.SMA.OriginalSMA:>Problem: P, Epoch: 241, Current best: 0.8934015563372775, Global best: 0.8934015563372775, Runtime: 3.50267 seconds\n",
            "INFO:mealpy.bio_based.SMA.OriginalSMA:>Problem: P, Epoch: 242, Current best: 0.8679625894003302, Global best: 0.8934015563372775, Runtime: 9.31471 seconds\n",
            "INFO:mealpy.bio_based.SMA.OriginalSMA:>Problem: P, Epoch: 243, Current best: 0.8934015563372775, Global best: 0.8934015563372775, Runtime: 3.55039 seconds\n",
            "INFO:mealpy.bio_based.SMA.OriginalSMA:>Problem: P, Epoch: 244, Current best: 0.8895693444500193, Global best: 0.8934015563372775, Runtime: 3.20804 seconds\n",
            "INFO:mealpy.bio_based.SMA.OriginalSMA:>Problem: P, Epoch: 245, Current best: 0.8934015563372775, Global best: 0.8934015563372775, Runtime: 7.34509 seconds\n",
            "INFO:mealpy.bio_based.SMA.OriginalSMA:>Problem: P, Epoch: 246, Current best: 0.8777431383336389, Global best: 0.8934015563372775, Runtime: 3.19513 seconds\n",
            "INFO:mealpy.bio_based.SMA.OriginalSMA:>Problem: P, Epoch: 247, Current best: 0.8934015563372775, Global best: 0.8934015563372775, Runtime: 3.41910 seconds\n",
            "INFO:mealpy.bio_based.SMA.OriginalSMA:>Problem: P, Epoch: 248, Current best: 0.8815353024798609, Global best: 0.8934015563372775, Runtime: 6.43588 seconds\n",
            "INFO:mealpy.bio_based.SMA.OriginalSMA:>Problem: P, Epoch: 249, Current best: 0.8895693444500193, Global best: 0.8934015563372775, Runtime: 4.18715 seconds\n",
            "INFO:mealpy.bio_based.SMA.OriginalSMA:>Problem: P, Epoch: 250, Current best: 0.8875236872669479, Global best: 0.8934015563372775, Runtime: 3.39439 seconds\n",
            "INFO:mealpy.bio_based.SMA.OriginalSMA:>Problem: P, Epoch: 251, Current best: 0.8934015563372775, Global best: 0.8934015563372775, Runtime: 6.44666 seconds\n",
            "INFO:mealpy.bio_based.SMA.OriginalSMA:>Problem: P, Epoch: 252, Current best: 0.8934015563372775, Global best: 0.8934015563372775, Runtime: 3.48985 seconds\n",
            "INFO:mealpy.bio_based.SMA.OriginalSMA:>Problem: P, Epoch: 253, Current best: 0.8934015563372775, Global best: 0.8934015563372775, Runtime: 3.40683 seconds\n",
            "INFO:mealpy.bio_based.SMA.OriginalSMA:>Problem: P, Epoch: 254, Current best: 0.8934015563372775, Global best: 0.8934015563372775, Runtime: 6.44535 seconds\n",
            "INFO:mealpy.bio_based.SMA.OriginalSMA:>Problem: P, Epoch: 255, Current best: 0.8934015563372775, Global best: 0.8934015563372775, Runtime: 3.19959 seconds\n",
            "INFO:mealpy.bio_based.SMA.OriginalSMA:>Problem: P, Epoch: 256, Current best: 0.8934015563372775, Global best: 0.8934015563372775, Runtime: 3.43879 seconds\n",
            "INFO:mealpy.bio_based.SMA.OriginalSMA:>Problem: P, Epoch: 257, Current best: 0.8934015563372775, Global best: 0.8934015563372775, Runtime: 6.45014 seconds\n",
            "INFO:mealpy.bio_based.SMA.OriginalSMA:>Problem: P, Epoch: 258, Current best: 0.8837107887315755, Global best: 0.8934015563372775, Runtime: 3.40215 seconds\n",
            "INFO:mealpy.bio_based.SMA.OriginalSMA:>Problem: P, Epoch: 259, Current best: 0.8934015563372775, Global best: 0.8934015563372775, Runtime: 3.46934 seconds\n",
            "INFO:mealpy.bio_based.SMA.OriginalSMA:>Problem: P, Epoch: 260, Current best: 0.8934015563372775, Global best: 0.8934015563372775, Runtime: 6.24821 seconds\n",
            "INFO:mealpy.bio_based.SMA.OriginalSMA:>Problem: P, Epoch: 261, Current best: 0.8934015563372775, Global best: 0.8934015563372775, Runtime: 3.39846 seconds\n",
            "INFO:mealpy.bio_based.SMA.OriginalSMA:>Problem: P, Epoch: 262, Current best: 0.8934015563372775, Global best: 0.8934015563372775, Runtime: 3.42049 seconds\n",
            "INFO:mealpy.bio_based.SMA.OriginalSMA:>Problem: P, Epoch: 263, Current best: 0.8934015563372775, Global best: 0.8934015563372775, Runtime: 6.43366 seconds\n",
            "INFO:mealpy.bio_based.SMA.OriginalSMA:>Problem: P, Epoch: 264, Current best: 0.8934015563372775, Global best: 0.8934015563372775, Runtime: 3.41612 seconds\n",
            "INFO:mealpy.bio_based.SMA.OriginalSMA:>Problem: P, Epoch: 265, Current best: 0.491998983997968, Global best: 0.8934015563372775, Runtime: 3.36886 seconds\n",
            "INFO:mealpy.bio_based.SMA.OriginalSMA:>Problem: P, Epoch: 266, Current best: 0.8934015563372775, Global best: 0.8934015563372775, Runtime: 6.44700 seconds\n",
            "INFO:mealpy.bio_based.SMA.OriginalSMA:>Problem: P, Epoch: 267, Current best: 0.8934015563372775, Global best: 0.8934015563372775, Runtime: 3.48188 seconds\n",
            "INFO:mealpy.bio_based.SMA.OriginalSMA:>Problem: P, Epoch: 268, Current best: 0.8934015563372775, Global best: 0.8934015563372775, Runtime: 3.39784 seconds\n",
            "INFO:mealpy.bio_based.SMA.OriginalSMA:>Problem: P, Epoch: 269, Current best: 0.8934015563372775, Global best: 0.8934015563372775, Runtime: 6.07901 seconds\n",
            "INFO:mealpy.bio_based.SMA.OriginalSMA:>Problem: P, Epoch: 270, Current best: 0.8934015563372775, Global best: 0.8934015563372775, Runtime: 3.43031 seconds\n",
            "INFO:mealpy.bio_based.SMA.OriginalSMA:>Problem: P, Epoch: 271, Current best: 0.8934015563372775, Global best: 0.8934015563372775, Runtime: 3.28580 seconds\n",
            "INFO:mealpy.bio_based.SMA.OriginalSMA:>Problem: P, Epoch: 272, Current best: 0.8934015563372775, Global best: 0.8934015563372775, Runtime: 5.51406 seconds\n",
            "INFO:mealpy.bio_based.SMA.OriginalSMA:>Problem: P, Epoch: 273, Current best: 0.8934015563372775, Global best: 0.8934015563372775, Runtime: 7.36109 seconds\n",
            "INFO:mealpy.bio_based.SMA.OriginalSMA:>Problem: P, Epoch: 274, Current best: 0.8895693444500193, Global best: 0.8934015563372775, Runtime: 3.41070 seconds\n",
            "INFO:mealpy.bio_based.SMA.OriginalSMA:>Problem: P, Epoch: 275, Current best: 0.8934015563372775, Global best: 0.8934015563372775, Runtime: 3.39359 seconds\n",
            "INFO:mealpy.bio_based.SMA.OriginalSMA:>Problem: P, Epoch: 276, Current best: 0.8716632443531829, Global best: 0.8934015563372775, Runtime: 6.38336 seconds\n",
            "INFO:mealpy.bio_based.SMA.OriginalSMA:>Problem: P, Epoch: 277, Current best: 0.8934015563372775, Global best: 0.8934015563372775, Runtime: 3.40836 seconds\n",
            "INFO:mealpy.bio_based.SMA.OriginalSMA:>Problem: P, Epoch: 278, Current best: 0.8934015563372775, Global best: 0.8934015563372775, Runtime: 3.44040 seconds\n",
            "INFO:mealpy.bio_based.SMA.OriginalSMA:>Problem: P, Epoch: 279, Current best: 0.8934015563372775, Global best: 0.8934015563372775, Runtime: 6.47325 seconds\n",
            "INFO:mealpy.bio_based.SMA.OriginalSMA:>Problem: P, Epoch: 280, Current best: 0.8934015563372775, Global best: 0.8934015563372775, Runtime: 3.45199 seconds\n",
            "INFO:mealpy.bio_based.SMA.OriginalSMA:>Problem: P, Epoch: 281, Current best: 0.8934015563372775, Global best: 0.8934015563372775, Runtime: 3.46421 seconds\n",
            "INFO:mealpy.bio_based.SMA.OriginalSMA:>Problem: P, Epoch: 282, Current best: 0.8934015563372775, Global best: 0.8934015563372775, Runtime: 6.39581 seconds\n",
            "INFO:mealpy.bio_based.SMA.OriginalSMA:>Problem: P, Epoch: 283, Current best: 0.8934015563372775, Global best: 0.8934015563372775, Runtime: 3.45220 seconds\n",
            "INFO:mealpy.bio_based.SMA.OriginalSMA:>Problem: P, Epoch: 284, Current best: 0.8837107887315755, Global best: 0.8934015563372775, Runtime: 3.44497 seconds\n",
            "INFO:mealpy.bio_based.SMA.OriginalSMA:>Problem: P, Epoch: 285, Current best: 0.8934015563372775, Global best: 0.8934015563372775, Runtime: 6.29313 seconds\n",
            "INFO:mealpy.bio_based.SMA.OriginalSMA:>Problem: P, Epoch: 286, Current best: 0.8934015563372775, Global best: 0.8934015563372775, Runtime: 3.42943 seconds\n",
            "INFO:mealpy.bio_based.SMA.OriginalSMA:>Problem: P, Epoch: 287, Current best: 0.8837107887315755, Global best: 0.8934015563372775, Runtime: 6.84567 seconds\n",
            "INFO:mealpy.bio_based.SMA.OriginalSMA:>Problem: P, Epoch: 288, Current best: 0.8934015563372775, Global best: 0.8934015563372775, Runtime: 3.46350 seconds\n",
            "INFO:mealpy.bio_based.SMA.OriginalSMA:>Problem: P, Epoch: 289, Current best: 0.8934015563372775, Global best: 0.8934015563372775, Runtime: 3.43157 seconds\n",
            "INFO:mealpy.bio_based.SMA.OriginalSMA:>Problem: P, Epoch: 290, Current best: 0.8934015563372775, Global best: 0.8934015563372775, Runtime: 6.39165 seconds\n",
            "INFO:mealpy.bio_based.SMA.OriginalSMA:>Problem: P, Epoch: 291, Current best: 0.8837107887315755, Global best: 0.8934015563372775, Runtime: 3.37944 seconds\n",
            "INFO:mealpy.bio_based.SMA.OriginalSMA:>Problem: P, Epoch: 292, Current best: 0.8934015563372775, Global best: 0.8934015563372775, Runtime: 3.46077 seconds\n",
            "INFO:mealpy.bio_based.SMA.OriginalSMA:>Problem: P, Epoch: 293, Current best: 0.8934015563372775, Global best: 0.8934015563372775, Runtime: 6.49533 seconds\n",
            "INFO:mealpy.bio_based.SMA.OriginalSMA:>Problem: P, Epoch: 294, Current best: 0.8934015563372775, Global best: 0.8934015563372775, Runtime: 3.40208 seconds\n",
            "INFO:mealpy.bio_based.SMA.OriginalSMA:>Problem: P, Epoch: 295, Current best: 0.8934015563372775, Global best: 0.8934015563372775, Runtime: 3.46979 seconds\n",
            "INFO:mealpy.bio_based.SMA.OriginalSMA:>Problem: P, Epoch: 296, Current best: 0.8934015563372775, Global best: 0.8934015563372775, Runtime: 6.48338 seconds\n",
            "INFO:mealpy.bio_based.SMA.OriginalSMA:>Problem: P, Epoch: 297, Current best: 0.8934015563372775, Global best: 0.8934015563372775, Runtime: 3.40502 seconds\n",
            "INFO:mealpy.bio_based.SMA.OriginalSMA:>Problem: P, Epoch: 298, Current best: 0.8934015563372775, Global best: 0.8934015563372775, Runtime: 3.91317 seconds\n",
            "INFO:mealpy.bio_based.SMA.OriginalSMA:>Problem: P, Epoch: 299, Current best: 0.8934015563372775, Global best: 0.8934015563372775, Runtime: 6.50700 seconds\n",
            "INFO:mealpy.bio_based.SMA.OriginalSMA:>Problem: P, Epoch: 300, Current best: 0.8934015563372775, Global best: 0.8934015563372775, Runtime: 3.42963 seconds\n"
          ]
        }
      ]
    },
    {
      "cell_type": "code",
      "source": [
        "s"
      ],
      "metadata": {
        "colab": {
          "base_uri": "https://localhost:8080/",
          "height": 990
        },
        "id": "njIRAW_wYSBr",
        "outputId": "7b6d4ea9-c56d-4be2-de9a-cb31f627611d"
      },
      "execution_count": 61,
      "outputs": [
        {
          "output_type": "execute_result",
          "data": {
            "text/plain": [
              "    Max Dept   iter  Learning Rate   Best f1  Best f1-2\n",
              "0        6.0  100.0       0.096106  0.860761   0.860761\n",
              "1        6.0  100.0       0.173333  0.863246   0.863246\n",
              "2        6.0  100.0       0.068929  0.872677   0.872677\n",
              "3        6.0  100.0       0.046004  0.869128   0.869128\n",
              "4        6.0  100.0       0.017765  0.870364   0.870364\n",
              "5        6.0  100.0       0.036505  0.889569   0.889569\n",
              "6        6.0  100.0       0.036421  0.881535   0.881535\n",
              "7        6.0  100.0       0.020428  0.881535   0.881535\n",
              "8        6.0  100.0       0.036825  0.883711   0.883711\n",
              "9        6.0  119.0       0.036535  0.887524   0.887524\n",
              "10       6.0  100.0       0.036489  0.883711   0.883711\n",
              "11       6.0  100.0       0.036312  0.883711   0.883711\n",
              "12       6.0  100.0       0.036548  0.893402   0.893402\n",
              "13       6.0  100.0       0.036314  0.883711   0.883711\n",
              "14       8.0  260.0       0.154395  0.870364   0.870364\n",
              "15       6.0  100.0       0.036541  0.893402   0.893402\n",
              "16       6.0  100.0       0.035007  0.877743   0.877743\n",
              "17       6.0  100.0       0.036732  0.877743   0.877743\n",
              "18       6.0  100.0       0.036492  0.883711   0.883711\n",
              "19       6.0  100.0       0.036426  0.881535   0.881535\n",
              "20       6.0  102.0       0.027016  0.877743   0.877743\n",
              "21       6.0  100.0       0.036049  0.881535   0.881535\n",
              "22       6.0  100.0       0.036515  0.889569   0.889569\n",
              "23       6.0  100.0       0.003415  0.491999   0.491999\n",
              "24       6.0  100.0       0.036554  0.881535   0.881535\n",
              "25       6.0  100.0       0.036451  0.877743   0.877743\n",
              "26       6.0  100.0       0.036560  0.881535   0.881535\n",
              "27       6.0  100.0       0.036516  0.889569   0.889569\n",
              "28       6.0  100.0       0.036546  0.893402   0.893402\n",
              "29       6.0  100.0       0.036546  0.893402   0.893402"
            ],
            "text/html": [
              "\n",
              "\n",
              "  <div id=\"df-43333754-1183-4681-97c2-594ace130bc5\">\n",
              "    <div class=\"colab-df-container\">\n",
              "      <div>\n",
              "<style scoped>\n",
              "    .dataframe tbody tr th:only-of-type {\n",
              "        vertical-align: middle;\n",
              "    }\n",
              "\n",
              "    .dataframe tbody tr th {\n",
              "        vertical-align: top;\n",
              "    }\n",
              "\n",
              "    .dataframe thead th {\n",
              "        text-align: right;\n",
              "    }\n",
              "</style>\n",
              "<table border=\"1\" class=\"dataframe\">\n",
              "  <thead>\n",
              "    <tr style=\"text-align: right;\">\n",
              "      <th></th>\n",
              "      <th>Max Dept</th>\n",
              "      <th>iter</th>\n",
              "      <th>Learning Rate</th>\n",
              "      <th>Best f1</th>\n",
              "      <th>Best f1-2</th>\n",
              "    </tr>\n",
              "  </thead>\n",
              "  <tbody>\n",
              "    <tr>\n",
              "      <th>0</th>\n",
              "      <td>6.0</td>\n",
              "      <td>100.0</td>\n",
              "      <td>0.096106</td>\n",
              "      <td>0.860761</td>\n",
              "      <td>0.860761</td>\n",
              "    </tr>\n",
              "    <tr>\n",
              "      <th>1</th>\n",
              "      <td>6.0</td>\n",
              "      <td>100.0</td>\n",
              "      <td>0.173333</td>\n",
              "      <td>0.863246</td>\n",
              "      <td>0.863246</td>\n",
              "    </tr>\n",
              "    <tr>\n",
              "      <th>2</th>\n",
              "      <td>6.0</td>\n",
              "      <td>100.0</td>\n",
              "      <td>0.068929</td>\n",
              "      <td>0.872677</td>\n",
              "      <td>0.872677</td>\n",
              "    </tr>\n",
              "    <tr>\n",
              "      <th>3</th>\n",
              "      <td>6.0</td>\n",
              "      <td>100.0</td>\n",
              "      <td>0.046004</td>\n",
              "      <td>0.869128</td>\n",
              "      <td>0.869128</td>\n",
              "    </tr>\n",
              "    <tr>\n",
              "      <th>4</th>\n",
              "      <td>6.0</td>\n",
              "      <td>100.0</td>\n",
              "      <td>0.017765</td>\n",
              "      <td>0.870364</td>\n",
              "      <td>0.870364</td>\n",
              "    </tr>\n",
              "    <tr>\n",
              "      <th>5</th>\n",
              "      <td>6.0</td>\n",
              "      <td>100.0</td>\n",
              "      <td>0.036505</td>\n",
              "      <td>0.889569</td>\n",
              "      <td>0.889569</td>\n",
              "    </tr>\n",
              "    <tr>\n",
              "      <th>6</th>\n",
              "      <td>6.0</td>\n",
              "      <td>100.0</td>\n",
              "      <td>0.036421</td>\n",
              "      <td>0.881535</td>\n",
              "      <td>0.881535</td>\n",
              "    </tr>\n",
              "    <tr>\n",
              "      <th>7</th>\n",
              "      <td>6.0</td>\n",
              "      <td>100.0</td>\n",
              "      <td>0.020428</td>\n",
              "      <td>0.881535</td>\n",
              "      <td>0.881535</td>\n",
              "    </tr>\n",
              "    <tr>\n",
              "      <th>8</th>\n",
              "      <td>6.0</td>\n",
              "      <td>100.0</td>\n",
              "      <td>0.036825</td>\n",
              "      <td>0.883711</td>\n",
              "      <td>0.883711</td>\n",
              "    </tr>\n",
              "    <tr>\n",
              "      <th>9</th>\n",
              "      <td>6.0</td>\n",
              "      <td>119.0</td>\n",
              "      <td>0.036535</td>\n",
              "      <td>0.887524</td>\n",
              "      <td>0.887524</td>\n",
              "    </tr>\n",
              "    <tr>\n",
              "      <th>10</th>\n",
              "      <td>6.0</td>\n",
              "      <td>100.0</td>\n",
              "      <td>0.036489</td>\n",
              "      <td>0.883711</td>\n",
              "      <td>0.883711</td>\n",
              "    </tr>\n",
              "    <tr>\n",
              "      <th>11</th>\n",
              "      <td>6.0</td>\n",
              "      <td>100.0</td>\n",
              "      <td>0.036312</td>\n",
              "      <td>0.883711</td>\n",
              "      <td>0.883711</td>\n",
              "    </tr>\n",
              "    <tr>\n",
              "      <th>12</th>\n",
              "      <td>6.0</td>\n",
              "      <td>100.0</td>\n",
              "      <td>0.036548</td>\n",
              "      <td>0.893402</td>\n",
              "      <td>0.893402</td>\n",
              "    </tr>\n",
              "    <tr>\n",
              "      <th>13</th>\n",
              "      <td>6.0</td>\n",
              "      <td>100.0</td>\n",
              "      <td>0.036314</td>\n",
              "      <td>0.883711</td>\n",
              "      <td>0.883711</td>\n",
              "    </tr>\n",
              "    <tr>\n",
              "      <th>14</th>\n",
              "      <td>8.0</td>\n",
              "      <td>260.0</td>\n",
              "      <td>0.154395</td>\n",
              "      <td>0.870364</td>\n",
              "      <td>0.870364</td>\n",
              "    </tr>\n",
              "    <tr>\n",
              "      <th>15</th>\n",
              "      <td>6.0</td>\n",
              "      <td>100.0</td>\n",
              "      <td>0.036541</td>\n",
              "      <td>0.893402</td>\n",
              "      <td>0.893402</td>\n",
              "    </tr>\n",
              "    <tr>\n",
              "      <th>16</th>\n",
              "      <td>6.0</td>\n",
              "      <td>100.0</td>\n",
              "      <td>0.035007</td>\n",
              "      <td>0.877743</td>\n",
              "      <td>0.877743</td>\n",
              "    </tr>\n",
              "    <tr>\n",
              "      <th>17</th>\n",
              "      <td>6.0</td>\n",
              "      <td>100.0</td>\n",
              "      <td>0.036732</td>\n",
              "      <td>0.877743</td>\n",
              "      <td>0.877743</td>\n",
              "    </tr>\n",
              "    <tr>\n",
              "      <th>18</th>\n",
              "      <td>6.0</td>\n",
              "      <td>100.0</td>\n",
              "      <td>0.036492</td>\n",
              "      <td>0.883711</td>\n",
              "      <td>0.883711</td>\n",
              "    </tr>\n",
              "    <tr>\n",
              "      <th>19</th>\n",
              "      <td>6.0</td>\n",
              "      <td>100.0</td>\n",
              "      <td>0.036426</td>\n",
              "      <td>0.881535</td>\n",
              "      <td>0.881535</td>\n",
              "    </tr>\n",
              "    <tr>\n",
              "      <th>20</th>\n",
              "      <td>6.0</td>\n",
              "      <td>102.0</td>\n",
              "      <td>0.027016</td>\n",
              "      <td>0.877743</td>\n",
              "      <td>0.877743</td>\n",
              "    </tr>\n",
              "    <tr>\n",
              "      <th>21</th>\n",
              "      <td>6.0</td>\n",
              "      <td>100.0</td>\n",
              "      <td>0.036049</td>\n",
              "      <td>0.881535</td>\n",
              "      <td>0.881535</td>\n",
              "    </tr>\n",
              "    <tr>\n",
              "      <th>22</th>\n",
              "      <td>6.0</td>\n",
              "      <td>100.0</td>\n",
              "      <td>0.036515</td>\n",
              "      <td>0.889569</td>\n",
              "      <td>0.889569</td>\n",
              "    </tr>\n",
              "    <tr>\n",
              "      <th>23</th>\n",
              "      <td>6.0</td>\n",
              "      <td>100.0</td>\n",
              "      <td>0.003415</td>\n",
              "      <td>0.491999</td>\n",
              "      <td>0.491999</td>\n",
              "    </tr>\n",
              "    <tr>\n",
              "      <th>24</th>\n",
              "      <td>6.0</td>\n",
              "      <td>100.0</td>\n",
              "      <td>0.036554</td>\n",
              "      <td>0.881535</td>\n",
              "      <td>0.881535</td>\n",
              "    </tr>\n",
              "    <tr>\n",
              "      <th>25</th>\n",
              "      <td>6.0</td>\n",
              "      <td>100.0</td>\n",
              "      <td>0.036451</td>\n",
              "      <td>0.877743</td>\n",
              "      <td>0.877743</td>\n",
              "    </tr>\n",
              "    <tr>\n",
              "      <th>26</th>\n",
              "      <td>6.0</td>\n",
              "      <td>100.0</td>\n",
              "      <td>0.036560</td>\n",
              "      <td>0.881535</td>\n",
              "      <td>0.881535</td>\n",
              "    </tr>\n",
              "    <tr>\n",
              "      <th>27</th>\n",
              "      <td>6.0</td>\n",
              "      <td>100.0</td>\n",
              "      <td>0.036516</td>\n",
              "      <td>0.889569</td>\n",
              "      <td>0.889569</td>\n",
              "    </tr>\n",
              "    <tr>\n",
              "      <th>28</th>\n",
              "      <td>6.0</td>\n",
              "      <td>100.0</td>\n",
              "      <td>0.036546</td>\n",
              "      <td>0.893402</td>\n",
              "      <td>0.893402</td>\n",
              "    </tr>\n",
              "    <tr>\n",
              "      <th>29</th>\n",
              "      <td>6.0</td>\n",
              "      <td>100.0</td>\n",
              "      <td>0.036546</td>\n",
              "      <td>0.893402</td>\n",
              "      <td>0.893402</td>\n",
              "    </tr>\n",
              "  </tbody>\n",
              "</table>\n",
              "</div>\n",
              "      <button class=\"colab-df-convert\" onclick=\"convertToInteractive('df-43333754-1183-4681-97c2-594ace130bc5')\"\n",
              "              title=\"Convert this dataframe to an interactive table.\"\n",
              "              style=\"display:none;\">\n",
              "\n",
              "  <svg xmlns=\"http://www.w3.org/2000/svg\" height=\"24px\"viewBox=\"0 0 24 24\"\n",
              "       width=\"24px\">\n",
              "    <path d=\"M0 0h24v24H0V0z\" fill=\"none\"/>\n",
              "    <path d=\"M18.56 5.44l.94 2.06.94-2.06 2.06-.94-2.06-.94-.94-2.06-.94 2.06-2.06.94zm-11 1L8.5 8.5l.94-2.06 2.06-.94-2.06-.94L8.5 2.5l-.94 2.06-2.06.94zm10 10l.94 2.06.94-2.06 2.06-.94-2.06-.94-.94-2.06-.94 2.06-2.06.94z\"/><path d=\"M17.41 7.96l-1.37-1.37c-.4-.4-.92-.59-1.43-.59-.52 0-1.04.2-1.43.59L10.3 9.45l-7.72 7.72c-.78.78-.78 2.05 0 2.83L4 21.41c.39.39.9.59 1.41.59.51 0 1.02-.2 1.41-.59l7.78-7.78 2.81-2.81c.8-.78.8-2.07 0-2.86zM5.41 20L4 18.59l7.72-7.72 1.47 1.35L5.41 20z\"/>\n",
              "  </svg>\n",
              "      </button>\n",
              "\n",
              "\n",
              "\n",
              "    <div id=\"df-79e429b7-0a6a-4d79-a8b2-7cdfdc42b40b\">\n",
              "      <button class=\"colab-df-quickchart\" onclick=\"quickchart('df-79e429b7-0a6a-4d79-a8b2-7cdfdc42b40b')\"\n",
              "              title=\"Suggest charts.\"\n",
              "              style=\"display:none;\">\n",
              "\n",
              "<svg xmlns=\"http://www.w3.org/2000/svg\" height=\"24px\"viewBox=\"0 0 24 24\"\n",
              "     width=\"24px\">\n",
              "    <g>\n",
              "        <path d=\"M19 3H5c-1.1 0-2 .9-2 2v14c0 1.1.9 2 2 2h14c1.1 0 2-.9 2-2V5c0-1.1-.9-2-2-2zM9 17H7v-7h2v7zm4 0h-2V7h2v10zm4 0h-2v-4h2v4z\"/>\n",
              "    </g>\n",
              "</svg>\n",
              "      </button>\n",
              "    </div>\n",
              "\n",
              "<style>\n",
              "  .colab-df-quickchart {\n",
              "    background-color: #E8F0FE;\n",
              "    border: none;\n",
              "    border-radius: 50%;\n",
              "    cursor: pointer;\n",
              "    display: none;\n",
              "    fill: #1967D2;\n",
              "    height: 32px;\n",
              "    padding: 0 0 0 0;\n",
              "    width: 32px;\n",
              "  }\n",
              "\n",
              "  .colab-df-quickchart:hover {\n",
              "    background-color: #E2EBFA;\n",
              "    box-shadow: 0px 1px 2px rgba(60, 64, 67, 0.3), 0px 1px 3px 1px rgba(60, 64, 67, 0.15);\n",
              "    fill: #174EA6;\n",
              "  }\n",
              "\n",
              "  [theme=dark] .colab-df-quickchart {\n",
              "    background-color: #3B4455;\n",
              "    fill: #D2E3FC;\n",
              "  }\n",
              "\n",
              "  [theme=dark] .colab-df-quickchart:hover {\n",
              "    background-color: #434B5C;\n",
              "    box-shadow: 0px 1px 3px 1px rgba(0, 0, 0, 0.15);\n",
              "    filter: drop-shadow(0px 1px 2px rgba(0, 0, 0, 0.3));\n",
              "    fill: #FFFFFF;\n",
              "  }\n",
              "</style>\n",
              "\n",
              "    <script>\n",
              "      async function quickchart(key) {\n",
              "        const containerElement = document.querySelector('#' + key);\n",
              "        const charts = await google.colab.kernel.invokeFunction(\n",
              "            'suggestCharts', [key], {});\n",
              "      }\n",
              "    </script>\n",
              "\n",
              "      <script>\n",
              "\n",
              "function displayQuickchartButton(domScope) {\n",
              "  let quickchartButtonEl =\n",
              "    domScope.querySelector('#df-79e429b7-0a6a-4d79-a8b2-7cdfdc42b40b button.colab-df-quickchart');\n",
              "  quickchartButtonEl.style.display =\n",
              "    google.colab.kernel.accessAllowed ? 'block' : 'none';\n",
              "}\n",
              "\n",
              "        displayQuickchartButton(document);\n",
              "      </script>\n",
              "      <style>\n",
              "    .colab-df-container {\n",
              "      display:flex;\n",
              "      flex-wrap:wrap;\n",
              "      gap: 12px;\n",
              "    }\n",
              "\n",
              "    .colab-df-convert {\n",
              "      background-color: #E8F0FE;\n",
              "      border: none;\n",
              "      border-radius: 50%;\n",
              "      cursor: pointer;\n",
              "      display: none;\n",
              "      fill: #1967D2;\n",
              "      height: 32px;\n",
              "      padding: 0 0 0 0;\n",
              "      width: 32px;\n",
              "    }\n",
              "\n",
              "    .colab-df-convert:hover {\n",
              "      background-color: #E2EBFA;\n",
              "      box-shadow: 0px 1px 2px rgba(60, 64, 67, 0.3), 0px 1px 3px 1px rgba(60, 64, 67, 0.15);\n",
              "      fill: #174EA6;\n",
              "    }\n",
              "\n",
              "    [theme=dark] .colab-df-convert {\n",
              "      background-color: #3B4455;\n",
              "      fill: #D2E3FC;\n",
              "    }\n",
              "\n",
              "    [theme=dark] .colab-df-convert:hover {\n",
              "      background-color: #434B5C;\n",
              "      box-shadow: 0px 1px 3px 1px rgba(0, 0, 0, 0.15);\n",
              "      filter: drop-shadow(0px 1px 2px rgba(0, 0, 0, 0.3));\n",
              "      fill: #FFFFFF;\n",
              "    }\n",
              "  </style>\n",
              "\n",
              "      <script>\n",
              "        const buttonEl =\n",
              "          document.querySelector('#df-43333754-1183-4681-97c2-594ace130bc5 button.colab-df-convert');\n",
              "        buttonEl.style.display =\n",
              "          google.colab.kernel.accessAllowed ? 'block' : 'none';\n",
              "\n",
              "        async function convertToInteractive(key) {\n",
              "          const element = document.querySelector('#df-43333754-1183-4681-97c2-594ace130bc5');\n",
              "          const dataTable =\n",
              "            await google.colab.kernel.invokeFunction('convertToInteractive',\n",
              "                                                     [key], {});\n",
              "          if (!dataTable) return;\n",
              "\n",
              "          const docLinkHtml = 'Like what you see? Visit the ' +\n",
              "            '<a target=\"_blank\" href=https://colab.research.google.com/notebooks/data_table.ipynb>data table notebook</a>'\n",
              "            + ' to learn more about interactive tables.';\n",
              "          element.innerHTML = '';\n",
              "          dataTable['output_type'] = 'display_data';\n",
              "          await google.colab.output.renderOutput(dataTable, element);\n",
              "          const docLink = document.createElement('div');\n",
              "          docLink.innerHTML = docLinkHtml;\n",
              "          element.appendChild(docLink);\n",
              "        }\n",
              "      </script>\n",
              "    </div>\n",
              "  </div>\n"
            ]
          },
          "metadata": {},
          "execution_count": 61
        }
      ]
    },
    {
      "cell_type": "code",
      "source": [
        "import numpy as np"
      ],
      "metadata": {
        "id": "HnZzU9e2mE7t"
      },
      "execution_count": 185,
      "outputs": []
    },
    {
      "cell_type": "code",
      "source": [
        "for k_ in k[0:1]:\n",
        "    epoch = 1\n",
        "    print('started')\n",
        "    p = np.zeros((epoch,4))\n",
        "    model = k_(epoch=epoch, pop_size=10)\n",
        "    a = time.time()\n",
        "    best_position, best_fitness = model.solve(problem)\n",
        "    b = time.time()\n",
        "\n",
        "    lstm = model.history.list_current_best\n",
        "    for j,i in enumerate(lstm):\n",
        "    #     p[j] = int(i[0][0]),int(i[0][1]),i[0][2],i[1][0],i[1][1][0]\n",
        "    # s = pd.DataFrame(p,columns=['Max Dept','N Stimator','Learning Rate','Best f1','Best f1-2'])\n",
        "        p[j] = int(i[0][0]),int(i[0][1]),i[1][0],i[1][1][0]\n",
        "    s = pd.DataFrame(p,columns=['Max Dept','N Stimator','Best f1','Best f1-2'])\n",
        "\n",
        "    # s.to_csv(f'/content/drive/MyDrive/49/{model.__class__.__name__}-RF.csv')\n",
        "\n",
        "    s.to_csv(f'/content/drive/MyDrive/49/{model.__class__.__name__}-EX.csv')"
      ],
      "metadata": {
        "colab": {
          "base_uri": "https://localhost:8080/"
        },
        "id": "PiEzGWhjlh7D",
        "outputId": "3f817f34-cca4-495d-fd33-eae9f249532f"
      },
      "execution_count": 186,
      "outputs": [
        {
          "output_type": "stream",
          "name": "stdout",
          "text": [
            "started\n"
          ]
        },
        {
          "output_type": "stream",
          "name": "stderr",
          "text": [
            "INFO:mealpy.math_based.PSS.OriginalPSS:Solving single objective optimization problem.\n",
            "INFO:mealpy.math_based.PSS.OriginalPSS:>Problem: P, Epoch: 1, Current best: 0.983, Global best: 0.983, Runtime: 17.73684 seconds\n"
          ]
        }
      ]
    },
    {
      "cell_type": "code",
      "source": [
        "int(i[0][0]),int(i[0][1]),i[0][2],i[1][0],i[1][1][0]"
      ],
      "metadata": {
        "colab": {
          "base_uri": "https://localhost:8080/",
          "height": 168
        },
        "id": "owufrYwc-Lub",
        "outputId": "bd39b575-7c94-458f-a30d-aaeefa4e9932"
      },
      "execution_count": 144,
      "outputs": [
        {
          "output_type": "error",
          "ename": "IndexError",
          "evalue": "ignored",
          "traceback": [
            "\u001b[0;31m---------------------------------------------------------------------------\u001b[0m",
            "\u001b[0;31mIndexError\u001b[0m                                Traceback (most recent call last)",
            "\u001b[0;32m<ipython-input-144-bc183c6ae55c>\u001b[0m in \u001b[0;36m<cell line: 1>\u001b[0;34m()\u001b[0m\n\u001b[0;32m----> 1\u001b[0;31m \u001b[0mint\u001b[0m\u001b[0;34m(\u001b[0m\u001b[0mi\u001b[0m\u001b[0;34m[\u001b[0m\u001b[0;36m0\u001b[0m\u001b[0;34m]\u001b[0m\u001b[0;34m[\u001b[0m\u001b[0;36m0\u001b[0m\u001b[0;34m]\u001b[0m\u001b[0;34m)\u001b[0m\u001b[0;34m,\u001b[0m\u001b[0mint\u001b[0m\u001b[0;34m(\u001b[0m\u001b[0mi\u001b[0m\u001b[0;34m[\u001b[0m\u001b[0;36m0\u001b[0m\u001b[0;34m]\u001b[0m\u001b[0;34m[\u001b[0m\u001b[0;36m1\u001b[0m\u001b[0;34m]\u001b[0m\u001b[0;34m)\u001b[0m\u001b[0;34m,\u001b[0m\u001b[0mi\u001b[0m\u001b[0;34m[\u001b[0m\u001b[0;36m0\u001b[0m\u001b[0;34m]\u001b[0m\u001b[0;34m[\u001b[0m\u001b[0;36m2\u001b[0m\u001b[0;34m]\u001b[0m\u001b[0;34m,\u001b[0m\u001b[0mi\u001b[0m\u001b[0;34m[\u001b[0m\u001b[0;36m1\u001b[0m\u001b[0;34m]\u001b[0m\u001b[0;34m[\u001b[0m\u001b[0;36m0\u001b[0m\u001b[0;34m]\u001b[0m\u001b[0;34m,\u001b[0m\u001b[0mi\u001b[0m\u001b[0;34m[\u001b[0m\u001b[0;36m1\u001b[0m\u001b[0;34m]\u001b[0m\u001b[0;34m[\u001b[0m\u001b[0;36m1\u001b[0m\u001b[0;34m]\u001b[0m\u001b[0;34m[\u001b[0m\u001b[0;36m0\u001b[0m\u001b[0;34m]\u001b[0m\u001b[0;34m\u001b[0m\u001b[0;34m\u001b[0m\u001b[0m\n\u001b[0m",
            "\u001b[0;31mIndexError\u001b[0m: index 2 is out of bounds for axis 0 with size 2"
          ]
        }
      ]
    },
    {
      "cell_type": "code",
      "source": [
        "lstm[0]"
      ],
      "metadata": {
        "colab": {
          "base_uri": "https://localhost:8080/"
        },
        "id": "PUCk6WZPCUNa",
        "outputId": "a84c2b34-0a70-4f37-b2cf-13947cc0bc0f"
      },
      "execution_count": 150,
      "outputs": [
        {
          "output_type": "execute_result",
          "data": {
            "text/plain": [
              "[array([  8.        , 103.15307063]),\n",
              " [0.7972560975609756, [0.7972560975609756]]]"
            ]
          },
          "metadata": {},
          "execution_count": 150
        }
      ]
    },
    {
      "cell_type": "code",
      "source": [
        "p = np.zeros((200,4))\n",
        "p"
      ],
      "metadata": {
        "id": "vHPt4f9oTzfk"
      },
      "execution_count": null,
      "outputs": []
    },
    {
      "cell_type": "code",
      "execution_count": 24,
      "metadata": {
        "id": "1c951581"
      },
      "outputs": [],
      "source": [
        "def PPSO():\n",
        "    epoch = 2\n",
        "    print('started')\n",
        "    p = np.zeros((epoch,4))\n",
        "    model = mealpy.bio_based.SMA.BaseSMA(epoch=epoch, pop_size=40)\n",
        "    best_position, best_fitness = model.solve(problem)\n",
        "    lstm = model.history.list_current_best\n",
        "    for j,i in enumerate(lstm):\n",
        "        p[j] = int(lstm[i][0][0]),int(lstm[i][0][1]),lstm[i][0][2],lstm[i][1][0],lstm[i][1][1][0]\n",
        "    print(p)\n",
        "    s = pd.DataFrame(p)\n",
        "    s.to_csv('/content/p.csv')"
      ]
    },
    {
      "cell_type": "code",
      "source": [
        "threadPPSO = threading.Thread(target=PPSO)\n",
        "threadPPSO\n",
        "threadPPSO.start()"
      ],
      "metadata": {
        "colab": {
          "base_uri": "https://localhost:8080/"
        },
        "id": "DMWPQ7-LdQYC",
        "outputId": "3b0ab7ab-cefa-40e4-f710-03a23c3458ae"
      },
      "execution_count": 25,
      "outputs": [
        {
          "output_type": "stream",
          "name": "stdout",
          "text": [
            "started\n"
          ]
        }
      ]
    },
    {
      "cell_type": "code",
      "source": [
        "# def PPSO():\n",
        "epoch = 20\n",
        "print('started')\n",
        "p = np.zeros((epoch,5))\n",
        "model = mealpy.bio_based.SMA.BaseSMA(epoch=epoch, pop_size=40)\n",
        "best_position, best_fitness = model.solve(problem)\n",
        "lstm = model.history.list_current_best\n",
        "for j,i in enumerate(lstm):\n",
        "    p[j] = int(i[0][0]),int(i[0][1]),i[0][2],i[1][0],i[1][1][0]\n",
        "# print(p)\n",
        "s = pd.DataFrame(p,columns=['Max Dept','N Stimator','Learning Rate','Best Accuracy'])\n",
        "s.to_csv(f'/content/drive/MyDrive/45/{model.__class__.__name__}_XGB_2.csv')\n"
      ],
      "metadata": {
        "colab": {
          "base_uri": "https://localhost:8080/"
        },
        "id": "UENrOQzzesTX",
        "outputId": "8e41522d-2993-4d86-9ca5-0930cabbfc80"
      },
      "execution_count": 34,
      "outputs": [
        {
          "output_type": "stream",
          "name": "stdout",
          "text": [
            "started\n"
          ]
        },
        {
          "output_type": "stream",
          "name": "stderr",
          "text": [
            "INFO:mealpy.bio_based.SMA.BaseSMA:Solving single objective optimization problem.\n",
            "INFO:mealpy.bio_based.SMA.BaseSMA:>Problem: P, Epoch: 1, Current best: 0.7987804878048782, Global best: 0.7987804878048782, Runtime: 106.46861 seconds\n",
            "INFO:mealpy.bio_based.SMA.BaseSMA:>Problem: P, Epoch: 2, Current best: 0.7987804878048782, Global best: 0.7987804878048782, Runtime: 75.16084 seconds\n",
            "INFO:mealpy.bio_based.SMA.BaseSMA:>Problem: P, Epoch: 3, Current best: 0.7987804878048782, Global best: 0.7987804878048782, Runtime: 36.08024 seconds\n",
            "INFO:mealpy.bio_based.SMA.BaseSMA:>Problem: P, Epoch: 4, Current best: 0.7987804878048782, Global best: 0.7987804878048782, Runtime: 46.91276 seconds\n",
            "INFO:mealpy.bio_based.SMA.BaseSMA:>Problem: P, Epoch: 5, Current best: 0.801829268292683, Global best: 0.801829268292683, Runtime: 44.24884 seconds\n",
            "INFO:mealpy.bio_based.SMA.BaseSMA:>Problem: P, Epoch: 6, Current best: 0.801829268292683, Global best: 0.801829268292683, Runtime: 39.77595 seconds\n",
            "INFO:mealpy.bio_based.SMA.BaseSMA:>Problem: P, Epoch: 7, Current best: 0.801829268292683, Global best: 0.801829268292683, Runtime: 41.82361 seconds\n",
            "INFO:mealpy.bio_based.SMA.BaseSMA:>Problem: P, Epoch: 8, Current best: 0.801829268292683, Global best: 0.801829268292683, Runtime: 42.03767 seconds\n",
            "INFO:mealpy.bio_based.SMA.BaseSMA:>Problem: P, Epoch: 9, Current best: 0.801829268292683, Global best: 0.801829268292683, Runtime: 46.43885 seconds\n",
            "INFO:mealpy.bio_based.SMA.BaseSMA:>Problem: P, Epoch: 10, Current best: 0.801829268292683, Global best: 0.801829268292683, Runtime: 40.65249 seconds\n",
            "INFO:mealpy.bio_based.SMA.BaseSMA:>Problem: P, Epoch: 11, Current best: 0.801829268292683, Global best: 0.801829268292683, Runtime: 45.23861 seconds\n",
            "INFO:mealpy.bio_based.SMA.BaseSMA:>Problem: P, Epoch: 12, Current best: 0.801829268292683, Global best: 0.801829268292683, Runtime: 41.11124 seconds\n",
            "INFO:mealpy.bio_based.SMA.BaseSMA:>Problem: P, Epoch: 13, Current best: 0.801829268292683, Global best: 0.801829268292683, Runtime: 38.39317 seconds\n",
            "INFO:mealpy.bio_based.SMA.BaseSMA:>Problem: P, Epoch: 14, Current best: 0.801829268292683, Global best: 0.801829268292683, Runtime: 44.71463 seconds\n",
            "INFO:mealpy.bio_based.SMA.BaseSMA:>Problem: P, Epoch: 15, Current best: 0.801829268292683, Global best: 0.801829268292683, Runtime: 38.12548 seconds\n",
            "INFO:mealpy.bio_based.SMA.BaseSMA:>Problem: P, Epoch: 16, Current best: 0.801829268292683, Global best: 0.801829268292683, Runtime: 37.96707 seconds\n",
            "INFO:mealpy.bio_based.SMA.BaseSMA:>Problem: P, Epoch: 17, Current best: 0.801829268292683, Global best: 0.801829268292683, Runtime: 39.69251 seconds\n",
            "INFO:mealpy.bio_based.SMA.BaseSMA:>Problem: P, Epoch: 18, Current best: 0.801829268292683, Global best: 0.801829268292683, Runtime: 44.74626 seconds\n",
            "INFO:mealpy.bio_based.SMA.BaseSMA:>Problem: P, Epoch: 19, Current best: 0.801829268292683, Global best: 0.801829268292683, Runtime: 55.73797 seconds\n",
            "INFO:mealpy.bio_based.SMA.BaseSMA:>Problem: P, Epoch: 20, Current best: 0.801829268292683, Global best: 0.801829268292683, Runtime: 38.14414 seconds\n"
          ]
        }
      ]
    },
    {
      "cell_type": "code",
      "source": [
        "# def PPSO():\n",
        "epoch = 20\n",
        "print('started')\n",
        "p = np.zeros((epoch,5))\n",
        "model = PSO.PPSO(epoch=epoch, pop_size=40)\n",
        "best_position, best_fitness = model.solve(problem)\n",
        "lstm = model.history.list_current_best\n",
        "for j,i in enumerate(lstm):\n",
        "    p[j] = int(i[0][0]),int(i[0][1]),i[0][2],i[1][0],i[1][1][0]\n",
        "# print(p)\n",
        "s = pd.DataFrame(p,columns=['Max Dept','N Stimator','Learning Rate','Best Accuracy'])\n",
        "s.to_csv(f'/content/drive/MyDrive/45/{model.__class__.__name__}_XGB_2.csv')\n"
      ],
      "metadata": {
        "colab": {
          "base_uri": "https://localhost:8080/",
          "height": 609
        },
        "id": "pAJUtC3u02Vs",
        "outputId": "f29b5e03-911c-4a3c-9024-2a8fe606c1ad"
      },
      "execution_count": 35,
      "outputs": [
        {
          "output_type": "stream",
          "name": "stdout",
          "text": [
            "started\n"
          ]
        },
        {
          "output_type": "stream",
          "name": "stderr",
          "text": [
            "INFO:mealpy.swarm_based.PSO.PPSO:Solving single objective optimization problem.\n",
            "INFO:mealpy.swarm_based.PSO.PPSO:>Problem: P, Epoch: 1, Current best: 0.7926829268292683, Global best: 0.7926829268292683, Runtime: 94.74189 seconds\n",
            "INFO:mealpy.swarm_based.PSO.PPSO:>Problem: P, Epoch: 2, Current best: 0.7926829268292683, Global best: 0.7926829268292683, Runtime: 79.81410 seconds\n",
            "INFO:mealpy.swarm_based.PSO.PPSO:>Problem: P, Epoch: 3, Current best: 0.7926829268292683, Global best: 0.7926829268292683, Runtime: 81.19236 seconds\n",
            "INFO:mealpy.swarm_based.PSO.PPSO:>Problem: P, Epoch: 4, Current best: 0.7942073170731707, Global best: 0.7942073170731707, Runtime: 79.62215 seconds\n",
            "INFO:mealpy.swarm_based.PSO.PPSO:>Problem: P, Epoch: 5, Current best: 0.7942073170731707, Global best: 0.7942073170731707, Runtime: 211.50408 seconds\n",
            "INFO:mealpy.swarm_based.PSO.PPSO:>Problem: P, Epoch: 6, Current best: 0.7957317073170732, Global best: 0.7957317073170732, Runtime: 261.64768 seconds\n",
            "INFO:mealpy.swarm_based.PSO.PPSO:>Problem: P, Epoch: 7, Current best: 0.7957317073170732, Global best: 0.7957317073170732, Runtime: 247.84560 seconds\n",
            "INFO:mealpy.swarm_based.PSO.PPSO:>Problem: P, Epoch: 8, Current best: 0.7957317073170732, Global best: 0.7957317073170732, Runtime: 311.32032 seconds\n",
            "INFO:mealpy.swarm_based.PSO.PPSO:>Problem: P, Epoch: 9, Current best: 0.7957317073170732, Global best: 0.7957317073170732, Runtime: 273.45282 seconds\n",
            "INFO:mealpy.swarm_based.PSO.PPSO:>Problem: P, Epoch: 10, Current best: 0.7972560975609756, Global best: 0.7972560975609756, Runtime: 296.15508 seconds\n",
            "INFO:mealpy.swarm_based.PSO.PPSO:>Problem: P, Epoch: 11, Current best: 0.7972560975609756, Global best: 0.7972560975609756, Runtime: 296.65868 seconds\n"
          ]
        },
        {
          "output_type": "error",
          "ename": "KeyboardInterrupt",
          "evalue": "ignored",
          "traceback": [
            "\u001b[0;31m---------------------------------------------------------------------------\u001b[0m",
            "\u001b[0;31mKeyboardInterrupt\u001b[0m                         Traceback (most recent call last)",
            "\u001b[0;32m<ipython-input-35-102f028e9595>\u001b[0m in \u001b[0;36m<cell line: 6>\u001b[0;34m()\u001b[0m\n\u001b[1;32m      4\u001b[0m \u001b[0mp\u001b[0m \u001b[0;34m=\u001b[0m \u001b[0mnp\u001b[0m\u001b[0;34m.\u001b[0m\u001b[0mzeros\u001b[0m\u001b[0;34m(\u001b[0m\u001b[0;34m(\u001b[0m\u001b[0mepoch\u001b[0m\u001b[0;34m,\u001b[0m\u001b[0;36m5\u001b[0m\u001b[0;34m)\u001b[0m\u001b[0;34m)\u001b[0m\u001b[0;34m\u001b[0m\u001b[0;34m\u001b[0m\u001b[0m\n\u001b[1;32m      5\u001b[0m \u001b[0mmodel\u001b[0m \u001b[0;34m=\u001b[0m \u001b[0mPSO\u001b[0m\u001b[0;34m.\u001b[0m\u001b[0mPPSO\u001b[0m\u001b[0;34m(\u001b[0m\u001b[0mepoch\u001b[0m\u001b[0;34m=\u001b[0m\u001b[0mepoch\u001b[0m\u001b[0;34m,\u001b[0m \u001b[0mpop_size\u001b[0m\u001b[0;34m=\u001b[0m\u001b[0;36m40\u001b[0m\u001b[0;34m)\u001b[0m\u001b[0;34m\u001b[0m\u001b[0;34m\u001b[0m\u001b[0m\n\u001b[0;32m----> 6\u001b[0;31m \u001b[0mbest_position\u001b[0m\u001b[0;34m,\u001b[0m \u001b[0mbest_fitness\u001b[0m \u001b[0;34m=\u001b[0m \u001b[0mmodel\u001b[0m\u001b[0;34m.\u001b[0m\u001b[0msolve\u001b[0m\u001b[0;34m(\u001b[0m\u001b[0mproblem\u001b[0m\u001b[0;34m)\u001b[0m\u001b[0;34m\u001b[0m\u001b[0;34m\u001b[0m\u001b[0m\n\u001b[0m\u001b[1;32m      7\u001b[0m \u001b[0mlstm\u001b[0m \u001b[0;34m=\u001b[0m \u001b[0mmodel\u001b[0m\u001b[0;34m.\u001b[0m\u001b[0mhistory\u001b[0m\u001b[0;34m.\u001b[0m\u001b[0mlist_current_best\u001b[0m\u001b[0;34m\u001b[0m\u001b[0;34m\u001b[0m\u001b[0m\n\u001b[1;32m      8\u001b[0m \u001b[0;32mfor\u001b[0m \u001b[0mj\u001b[0m\u001b[0;34m,\u001b[0m\u001b[0mi\u001b[0m \u001b[0;32min\u001b[0m \u001b[0menumerate\u001b[0m\u001b[0;34m(\u001b[0m\u001b[0mlstm\u001b[0m\u001b[0;34m)\u001b[0m\u001b[0;34m:\u001b[0m\u001b[0;34m\u001b[0m\u001b[0;34m\u001b[0m\u001b[0m\n",
            "\u001b[0;32m/usr/local/lib/python3.10/dist-packages/mealpy/optimizer.py\u001b[0m in \u001b[0;36msolve\u001b[0;34m(self, problem, mode, starting_positions, n_workers, termination)\u001b[0m\n\u001b[1;32m    281\u001b[0m \u001b[0;34m\u001b[0m\u001b[0m\n\u001b[1;32m    282\u001b[0m             \u001b[0;31m## Evolve method will be called in child class\u001b[0m\u001b[0;34m\u001b[0m\u001b[0;34m\u001b[0m\u001b[0m\n\u001b[0;32m--> 283\u001b[0;31m             \u001b[0mself\u001b[0m\u001b[0;34m.\u001b[0m\u001b[0mevolve\u001b[0m\u001b[0;34m(\u001b[0m\u001b[0mepoch\u001b[0m\u001b[0;34m)\u001b[0m\u001b[0;34m\u001b[0m\u001b[0;34m\u001b[0m\u001b[0m\n\u001b[0m\u001b[1;32m    284\u001b[0m \u001b[0;34m\u001b[0m\u001b[0m\n\u001b[1;32m    285\u001b[0m             \u001b[0;31m# Update global best position, the population is sorted or not depended on algorithm's strategy\u001b[0m\u001b[0;34m\u001b[0m\u001b[0;34m\u001b[0m\u001b[0m\n",
            "\u001b[0;32m/usr/local/lib/python3.10/dist-packages/mealpy/swarm_based/PSO.py\u001b[0m in \u001b[0;36mevolve\u001b[0;34m(self, epoch)\u001b[0m\n\u001b[1;32m    237\u001b[0m             \u001b[0mpop_new\u001b[0m\u001b[0;34m.\u001b[0m\u001b[0mappend\u001b[0m\u001b[0;34m(\u001b[0m\u001b[0magent\u001b[0m\u001b[0;34m)\u001b[0m\u001b[0;34m\u001b[0m\u001b[0;34m\u001b[0m\u001b[0m\n\u001b[1;32m    238\u001b[0m             \u001b[0;32mif\u001b[0m \u001b[0mself\u001b[0m\u001b[0;34m.\u001b[0m\u001b[0mmode\u001b[0m \u001b[0;32mnot\u001b[0m \u001b[0;32min\u001b[0m \u001b[0mself\u001b[0m\u001b[0;34m.\u001b[0m\u001b[0mAVAILABLE_MODES\u001b[0m\u001b[0;34m:\u001b[0m\u001b[0;34m\u001b[0m\u001b[0;34m\u001b[0m\u001b[0m\n\u001b[0;32m--> 239\u001b[0;31m                 \u001b[0mpop_new\u001b[0m\u001b[0;34m[\u001b[0m\u001b[0;34m-\u001b[0m\u001b[0;36m1\u001b[0m\u001b[0;34m]\u001b[0m\u001b[0;34m[\u001b[0m\u001b[0mself\u001b[0m\u001b[0;34m.\u001b[0m\u001b[0mID_TAR\u001b[0m\u001b[0;34m]\u001b[0m \u001b[0;34m=\u001b[0m \u001b[0mself\u001b[0m\u001b[0;34m.\u001b[0m\u001b[0mget_target_wrapper\u001b[0m\u001b[0;34m(\u001b[0m\u001b[0magent\u001b[0m\u001b[0;34m[\u001b[0m\u001b[0mself\u001b[0m\u001b[0;34m.\u001b[0m\u001b[0mID_POS\u001b[0m\u001b[0;34m]\u001b[0m\u001b[0;34m)\u001b[0m\u001b[0;34m\u001b[0m\u001b[0;34m\u001b[0m\u001b[0m\n\u001b[0m\u001b[1;32m    240\u001b[0m         \u001b[0;32mif\u001b[0m \u001b[0mself\u001b[0m\u001b[0;34m.\u001b[0m\u001b[0mmode\u001b[0m \u001b[0;32min\u001b[0m \u001b[0mself\u001b[0m\u001b[0;34m.\u001b[0m\u001b[0mAVAILABLE_MODES\u001b[0m\u001b[0;34m:\u001b[0m\u001b[0;34m\u001b[0m\u001b[0;34m\u001b[0m\u001b[0m\n\u001b[1;32m    241\u001b[0m             \u001b[0mpop_new\u001b[0m \u001b[0;34m=\u001b[0m \u001b[0mself\u001b[0m\u001b[0;34m.\u001b[0m\u001b[0mupdate_target_wrapper_population\u001b[0m\u001b[0;34m(\u001b[0m\u001b[0mpop_new\u001b[0m\u001b[0;34m)\u001b[0m\u001b[0;34m\u001b[0m\u001b[0;34m\u001b[0m\u001b[0m\n",
            "\u001b[0;32m/usr/local/lib/python3.10/dist-packages/mealpy/optimizer.py\u001b[0m in \u001b[0;36mget_target_wrapper\u001b[0;34m(self, position, counted)\u001b[0m\n\u001b[1;32m    162\u001b[0m         \u001b[0;32mif\u001b[0m \u001b[0mcounted\u001b[0m\u001b[0;34m:\u001b[0m\u001b[0;34m\u001b[0m\u001b[0;34m\u001b[0m\u001b[0m\n\u001b[1;32m    163\u001b[0m             \u001b[0mself\u001b[0m\u001b[0;34m.\u001b[0m\u001b[0mnfe_counter\u001b[0m \u001b[0;34m+=\u001b[0m \u001b[0;36m1\u001b[0m\u001b[0;34m\u001b[0m\u001b[0;34m\u001b[0m\u001b[0m\n\u001b[0;32m--> 164\u001b[0;31m         \u001b[0mobjs\u001b[0m \u001b[0;34m=\u001b[0m \u001b[0mself\u001b[0m\u001b[0;34m.\u001b[0m\u001b[0mproblem\u001b[0m\u001b[0;34m.\u001b[0m\u001b[0mfit_func\u001b[0m\u001b[0;34m(\u001b[0m\u001b[0mposition\u001b[0m\u001b[0;34m)\u001b[0m\u001b[0;34m\u001b[0m\u001b[0;34m\u001b[0m\u001b[0m\n\u001b[0m\u001b[1;32m    165\u001b[0m         \u001b[0;32mif\u001b[0m \u001b[0;32mnot\u001b[0m \u001b[0mself\u001b[0m\u001b[0;34m.\u001b[0m\u001b[0mproblem\u001b[0m\u001b[0;34m.\u001b[0m\u001b[0mobj_is_list\u001b[0m\u001b[0;34m:\u001b[0m\u001b[0;34m\u001b[0m\u001b[0;34m\u001b[0m\u001b[0m\n\u001b[1;32m    166\u001b[0m             \u001b[0mobjs\u001b[0m \u001b[0;34m=\u001b[0m \u001b[0;34m[\u001b[0m\u001b[0mobjs\u001b[0m\u001b[0;34m]\u001b[0m\u001b[0;34m\u001b[0m\u001b[0;34m\u001b[0m\u001b[0m\n",
            "\u001b[0;32m<ipython-input-6-bdeb8957c305>\u001b[0m in \u001b[0;36mfitness_function\u001b[0;34m(solution)\u001b[0m\n\u001b[1;32m      7\u001b[0m                     )\n\u001b[1;32m      8\u001b[0m     \u001b[0;31m# Fit the model\u001b[0m\u001b[0;34m\u001b[0m\u001b[0;34m\u001b[0m\u001b[0m\n\u001b[0;32m----> 9\u001b[0;31m     \u001b[0mclf\u001b[0m\u001b[0;34m.\u001b[0m\u001b[0mfit\u001b[0m\u001b[0;34m(\u001b[0m\u001b[0mX\u001b[0m\u001b[0;34m,\u001b[0m \u001b[0mY\u001b[0m\u001b[0;34m)\u001b[0m\u001b[0;34m\u001b[0m\u001b[0;34m\u001b[0m\u001b[0m\n\u001b[0m\u001b[1;32m     10\u001b[0m     \u001b[0;31m# Make the predictions\u001b[0m\u001b[0;34m\u001b[0m\u001b[0;34m\u001b[0m\u001b[0m\n\u001b[1;32m     11\u001b[0m     \u001b[0my_\u001b[0m \u001b[0;34m=\u001b[0m \u001b[0mclf\u001b[0m\u001b[0;34m.\u001b[0m\u001b[0mpredict\u001b[0m\u001b[0;34m(\u001b[0m\u001b[0mx\u001b[0m\u001b[0;34m)\u001b[0m\u001b[0;34m\u001b[0m\u001b[0;34m\u001b[0m\u001b[0m\n",
            "\u001b[0;32m/usr/local/lib/python3.10/dist-packages/xgboost/core.py\u001b[0m in \u001b[0;36minner_f\u001b[0;34m(*args, **kwargs)\u001b[0m\n\u001b[1;32m    618\u001b[0m             \u001b[0;32mfor\u001b[0m \u001b[0mk\u001b[0m\u001b[0;34m,\u001b[0m \u001b[0marg\u001b[0m \u001b[0;32min\u001b[0m \u001b[0mzip\u001b[0m\u001b[0;34m(\u001b[0m\u001b[0msig\u001b[0m\u001b[0;34m.\u001b[0m\u001b[0mparameters\u001b[0m\u001b[0;34m,\u001b[0m \u001b[0margs\u001b[0m\u001b[0;34m)\u001b[0m\u001b[0;34m:\u001b[0m\u001b[0;34m\u001b[0m\u001b[0;34m\u001b[0m\u001b[0m\n\u001b[1;32m    619\u001b[0m                 \u001b[0mkwargs\u001b[0m\u001b[0;34m[\u001b[0m\u001b[0mk\u001b[0m\u001b[0;34m]\u001b[0m \u001b[0;34m=\u001b[0m \u001b[0marg\u001b[0m\u001b[0;34m\u001b[0m\u001b[0;34m\u001b[0m\u001b[0m\n\u001b[0;32m--> 620\u001b[0;31m             \u001b[0;32mreturn\u001b[0m \u001b[0mfunc\u001b[0m\u001b[0;34m(\u001b[0m\u001b[0;34m**\u001b[0m\u001b[0mkwargs\u001b[0m\u001b[0;34m)\u001b[0m\u001b[0;34m\u001b[0m\u001b[0;34m\u001b[0m\u001b[0m\n\u001b[0m\u001b[1;32m    621\u001b[0m \u001b[0;34m\u001b[0m\u001b[0m\n\u001b[1;32m    622\u001b[0m         \u001b[0;32mreturn\u001b[0m \u001b[0minner_f\u001b[0m\u001b[0;34m\u001b[0m\u001b[0;34m\u001b[0m\u001b[0m\n",
            "\u001b[0;32m/usr/local/lib/python3.10/dist-packages/xgboost/sklearn.py\u001b[0m in \u001b[0;36mfit\u001b[0;34m(self, X, y, sample_weight, base_margin, eval_set, eval_metric, early_stopping_rounds, verbose, xgb_model, sample_weight_eval_set, base_margin_eval_set, feature_weights, callbacks)\u001b[0m\n\u001b[1;32m   1488\u001b[0m             )\n\u001b[1;32m   1489\u001b[0m \u001b[0;34m\u001b[0m\u001b[0m\n\u001b[0;32m-> 1490\u001b[0;31m             self._Booster = train(\n\u001b[0m\u001b[1;32m   1491\u001b[0m                 \u001b[0mparams\u001b[0m\u001b[0;34m,\u001b[0m\u001b[0;34m\u001b[0m\u001b[0;34m\u001b[0m\u001b[0m\n\u001b[1;32m   1492\u001b[0m                 \u001b[0mtrain_dmatrix\u001b[0m\u001b[0;34m,\u001b[0m\u001b[0;34m\u001b[0m\u001b[0;34m\u001b[0m\u001b[0m\n",
            "\u001b[0;32m/usr/local/lib/python3.10/dist-packages/xgboost/core.py\u001b[0m in \u001b[0;36minner_f\u001b[0;34m(*args, **kwargs)\u001b[0m\n\u001b[1;32m    618\u001b[0m             \u001b[0;32mfor\u001b[0m \u001b[0mk\u001b[0m\u001b[0;34m,\u001b[0m \u001b[0marg\u001b[0m \u001b[0;32min\u001b[0m \u001b[0mzip\u001b[0m\u001b[0;34m(\u001b[0m\u001b[0msig\u001b[0m\u001b[0;34m.\u001b[0m\u001b[0mparameters\u001b[0m\u001b[0;34m,\u001b[0m \u001b[0margs\u001b[0m\u001b[0;34m)\u001b[0m\u001b[0;34m:\u001b[0m\u001b[0;34m\u001b[0m\u001b[0;34m\u001b[0m\u001b[0m\n\u001b[1;32m    619\u001b[0m                 \u001b[0mkwargs\u001b[0m\u001b[0;34m[\u001b[0m\u001b[0mk\u001b[0m\u001b[0;34m]\u001b[0m \u001b[0;34m=\u001b[0m \u001b[0marg\u001b[0m\u001b[0;34m\u001b[0m\u001b[0;34m\u001b[0m\u001b[0m\n\u001b[0;32m--> 620\u001b[0;31m             \u001b[0;32mreturn\u001b[0m \u001b[0mfunc\u001b[0m\u001b[0;34m(\u001b[0m\u001b[0;34m**\u001b[0m\u001b[0mkwargs\u001b[0m\u001b[0;34m)\u001b[0m\u001b[0;34m\u001b[0m\u001b[0;34m\u001b[0m\u001b[0m\n\u001b[0m\u001b[1;32m    621\u001b[0m \u001b[0;34m\u001b[0m\u001b[0m\n\u001b[1;32m    622\u001b[0m         \u001b[0;32mreturn\u001b[0m \u001b[0minner_f\u001b[0m\u001b[0;34m\u001b[0m\u001b[0;34m\u001b[0m\u001b[0m\n",
            "\u001b[0;32m/usr/local/lib/python3.10/dist-packages/xgboost/training.py\u001b[0m in \u001b[0;36mtrain\u001b[0;34m(params, dtrain, num_boost_round, evals, obj, feval, maximize, early_stopping_rounds, evals_result, verbose_eval, xgb_model, callbacks, custom_metric)\u001b[0m\n\u001b[1;32m    183\u001b[0m         \u001b[0;32mif\u001b[0m \u001b[0mcb_container\u001b[0m\u001b[0;34m.\u001b[0m\u001b[0mbefore_iteration\u001b[0m\u001b[0;34m(\u001b[0m\u001b[0mbst\u001b[0m\u001b[0;34m,\u001b[0m \u001b[0mi\u001b[0m\u001b[0;34m,\u001b[0m \u001b[0mdtrain\u001b[0m\u001b[0;34m,\u001b[0m \u001b[0mevals\u001b[0m\u001b[0;34m)\u001b[0m\u001b[0;34m:\u001b[0m\u001b[0;34m\u001b[0m\u001b[0;34m\u001b[0m\u001b[0m\n\u001b[1;32m    184\u001b[0m             \u001b[0;32mbreak\u001b[0m\u001b[0;34m\u001b[0m\u001b[0;34m\u001b[0m\u001b[0m\n\u001b[0;32m--> 185\u001b[0;31m         \u001b[0mbst\u001b[0m\u001b[0;34m.\u001b[0m\u001b[0mupdate\u001b[0m\u001b[0;34m(\u001b[0m\u001b[0mdtrain\u001b[0m\u001b[0;34m,\u001b[0m \u001b[0mi\u001b[0m\u001b[0;34m,\u001b[0m \u001b[0mobj\u001b[0m\u001b[0;34m)\u001b[0m\u001b[0;34m\u001b[0m\u001b[0;34m\u001b[0m\u001b[0m\n\u001b[0m\u001b[1;32m    186\u001b[0m         \u001b[0;32mif\u001b[0m \u001b[0mcb_container\u001b[0m\u001b[0;34m.\u001b[0m\u001b[0mafter_iteration\u001b[0m\u001b[0;34m(\u001b[0m\u001b[0mbst\u001b[0m\u001b[0;34m,\u001b[0m \u001b[0mi\u001b[0m\u001b[0;34m,\u001b[0m \u001b[0mdtrain\u001b[0m\u001b[0;34m,\u001b[0m \u001b[0mevals\u001b[0m\u001b[0;34m)\u001b[0m\u001b[0;34m:\u001b[0m\u001b[0;34m\u001b[0m\u001b[0;34m\u001b[0m\u001b[0m\n\u001b[1;32m    187\u001b[0m             \u001b[0;32mbreak\u001b[0m\u001b[0;34m\u001b[0m\u001b[0;34m\u001b[0m\u001b[0m\n",
            "\u001b[0;32m/usr/local/lib/python3.10/dist-packages/xgboost/core.py\u001b[0m in \u001b[0;36mupdate\u001b[0;34m(self, dtrain, iteration, fobj)\u001b[0m\n\u001b[1;32m   1916\u001b[0m \u001b[0;34m\u001b[0m\u001b[0m\n\u001b[1;32m   1917\u001b[0m         \u001b[0;32mif\u001b[0m \u001b[0mfobj\u001b[0m \u001b[0;32mis\u001b[0m \u001b[0;32mNone\u001b[0m\u001b[0;34m:\u001b[0m\u001b[0;34m\u001b[0m\u001b[0;34m\u001b[0m\u001b[0m\n\u001b[0;32m-> 1918\u001b[0;31m             _check_call(_LIB.XGBoosterUpdateOneIter(self.handle,\n\u001b[0m\u001b[1;32m   1919\u001b[0m                                                     \u001b[0mctypes\u001b[0m\u001b[0;34m.\u001b[0m\u001b[0mc_int\u001b[0m\u001b[0;34m(\u001b[0m\u001b[0miteration\u001b[0m\u001b[0;34m)\u001b[0m\u001b[0;34m,\u001b[0m\u001b[0;34m\u001b[0m\u001b[0;34m\u001b[0m\u001b[0m\n\u001b[1;32m   1920\u001b[0m                                                     dtrain.handle))\n",
            "\u001b[0;31mKeyboardInterrupt\u001b[0m: "
          ]
        }
      ]
    },
    {
      "cell_type": "code",
      "source": [
        "# def PPSO():\n",
        "epoch = 20\n",
        "print('started')\n",
        "p = np.zeros((epoch,5))\n",
        "model = AEO.EnhancedAEO(epoch=epoch, pop_size=10)\n",
        "best_position, best_fitness = model.solve(problem)\n",
        "lstm = model.history.list_current_best\n",
        "for j,i in enumerate(lstm):\n",
        "    p[j] = int(i[0][0]),int(i[0][1]),i[0][2],i[1][0],i[1][1][0]\n",
        "# print(p)\n",
        "s = pd.DataFrame(p,columns=['Max Dept','N Stimator','Learning Rate','Best Accuracy','Best Accuracy 2'])\n",
        "s.to_csv(f'/content/drive/MyDrive/45/{model.__class__.__name__}_XGB_2.csv')\n"
      ],
      "metadata": {
        "colab": {
          "base_uri": "https://localhost:8080/"
        },
        "id": "pe7Q7L1y6Da4",
        "outputId": "5785adbd-dd82-483d-b163-6aa59741a9b1"
      },
      "execution_count": 41,
      "outputs": [
        {
          "output_type": "stream",
          "name": "stdout",
          "text": [
            "started\n"
          ]
        },
        {
          "output_type": "stream",
          "name": "stderr",
          "text": [
            "INFO:mealpy.system_based.AEO.EnhancedAEO:Solving single objective optimization problem.\n",
            "INFO:mealpy.system_based.AEO.EnhancedAEO:>Problem: P, Epoch: 1, Current best: 0.7896341463414633, Global best: 0.7896341463414633, Runtime: 36.10856 seconds\n",
            "INFO:mealpy.system_based.AEO.EnhancedAEO:>Problem: P, Epoch: 2, Current best: 0.7896341463414633, Global best: 0.7896341463414633, Runtime: 39.29731 seconds\n",
            "INFO:mealpy.system_based.AEO.EnhancedAEO:>Problem: P, Epoch: 3, Current best: 0.7896341463414633, Global best: 0.7896341463414633, Runtime: 43.69632 seconds\n",
            "INFO:mealpy.system_based.AEO.EnhancedAEO:>Problem: P, Epoch: 4, Current best: 0.7896341463414633, Global best: 0.7896341463414633, Runtime: 27.30486 seconds\n",
            "INFO:mealpy.system_based.AEO.EnhancedAEO:>Problem: P, Epoch: 5, Current best: 0.7942073170731707, Global best: 0.7942073170731707, Runtime: 31.20740 seconds\n",
            "INFO:mealpy.system_based.AEO.EnhancedAEO:>Problem: P, Epoch: 6, Current best: 0.7942073170731707, Global best: 0.7942073170731707, Runtime: 37.65182 seconds\n",
            "INFO:mealpy.system_based.AEO.EnhancedAEO:>Problem: P, Epoch: 7, Current best: 0.7942073170731707, Global best: 0.7942073170731707, Runtime: 33.93432 seconds\n",
            "INFO:mealpy.system_based.AEO.EnhancedAEO:>Problem: P, Epoch: 8, Current best: 0.7972560975609756, Global best: 0.7972560975609756, Runtime: 30.12963 seconds\n",
            "INFO:mealpy.system_based.AEO.EnhancedAEO:>Problem: P, Epoch: 9, Current best: 0.7972560975609756, Global best: 0.7972560975609756, Runtime: 33.94641 seconds\n",
            "INFO:mealpy.system_based.AEO.EnhancedAEO:>Problem: P, Epoch: 10, Current best: 0.7972560975609756, Global best: 0.7972560975609756, Runtime: 32.56975 seconds\n",
            "INFO:mealpy.system_based.AEO.EnhancedAEO:>Problem: P, Epoch: 11, Current best: 0.7972560975609756, Global best: 0.7972560975609756, Runtime: 25.03893 seconds\n",
            "INFO:mealpy.system_based.AEO.EnhancedAEO:>Problem: P, Epoch: 12, Current best: 0.7972560975609756, Global best: 0.7972560975609756, Runtime: 28.44585 seconds\n",
            "INFO:mealpy.system_based.AEO.EnhancedAEO:>Problem: P, Epoch: 13, Current best: 0.7972560975609756, Global best: 0.7972560975609756, Runtime: 26.99823 seconds\n",
            "INFO:mealpy.system_based.AEO.EnhancedAEO:>Problem: P, Epoch: 14, Current best: 0.7987804878048782, Global best: 0.7987804878048782, Runtime: 26.39800 seconds\n",
            "INFO:mealpy.system_based.AEO.EnhancedAEO:>Problem: P, Epoch: 15, Current best: 0.7987804878048782, Global best: 0.7987804878048782, Runtime: 28.43891 seconds\n",
            "INFO:mealpy.system_based.AEO.EnhancedAEO:>Problem: P, Epoch: 16, Current best: 0.7987804878048782, Global best: 0.7987804878048782, Runtime: 26.73396 seconds\n",
            "INFO:mealpy.system_based.AEO.EnhancedAEO:>Problem: P, Epoch: 17, Current best: 0.7987804878048782, Global best: 0.7987804878048782, Runtime: 30.60020 seconds\n",
            "INFO:mealpy.system_based.AEO.EnhancedAEO:>Problem: P, Epoch: 18, Current best: 0.8003048780487806, Global best: 0.8003048780487806, Runtime: 30.92571 seconds\n",
            "INFO:mealpy.system_based.AEO.EnhancedAEO:>Problem: P, Epoch: 19, Current best: 0.8003048780487806, Global best: 0.8003048780487806, Runtime: 28.56390 seconds\n",
            "INFO:mealpy.system_based.AEO.EnhancedAEO:>Problem: P, Epoch: 20, Current best: 0.8003048780487806, Global best: 0.8003048780487806, Runtime: 27.38726 seconds\n"
          ]
        }
      ]
    },
    {
      "cell_type": "code",
      "source": [],
      "metadata": {
        "id": "_ez8pRJr6PJN"
      },
      "execution_count": null,
      "outputs": []
    },
    {
      "cell_type": "code",
      "source": [
        "# def PPSO():\n",
        "epoch = 40\n",
        "print('started')\n",
        "p = np.zeros((epoch,5))\n",
        "model = EOA.OriginalEOA(epoch=epoch, pop_size=10)\n",
        "best_position, best_fitness = model.solve(problem)\n",
        "lstm = model.history.list_current_best\n",
        "for j,i in enumerate(lstm):\n",
        "    p[j] = int(i[0][0]),int(i[0][1]),i[0][2],i[1][0],i[1][1][0]\n",
        "# print(p)\n",
        "s = pd.DataFrame(p,columns=['Max Dept','N Stimator','Learning Rate','Best Accuracy','Best Accuracy 2'])\n",
        "s.to_csv(f'/content/drive/MyDrive/45/{model.__class__.__name__}_XGB_2.csv')"
      ],
      "metadata": {
        "colab": {
          "base_uri": "https://localhost:8080/",
          "height": 678
        },
        "id": "GasOPRMS6QSF",
        "outputId": "1ec0afac-aa37-4e4f-cc66-6fa57264ad6a"
      },
      "execution_count": 44,
      "outputs": [
        {
          "output_type": "stream",
          "name": "stdout",
          "text": [
            "started\n"
          ]
        },
        {
          "output_type": "stream",
          "name": "stderr",
          "text": [
            "INFO:mealpy.bio_based.EOA.OriginalEOA:Solving single objective optimization problem.\n",
            "INFO:mealpy.bio_based.EOA.OriginalEOA:>Problem: P, Epoch: 1, Current best: 0.7881097560975608, Global best: 0.7881097560975608, Runtime: 76.64264 seconds\n",
            "INFO:mealpy.bio_based.EOA.OriginalEOA:>Problem: P, Epoch: 2, Current best: 0.7881097560975608, Global best: 0.7881097560975608, Runtime: 84.90012 seconds\n",
            "INFO:mealpy.bio_based.EOA.OriginalEOA:>Problem: P, Epoch: 3, Current best: 0.7881097560975608, Global best: 0.7881097560975608, Runtime: 90.59446 seconds\n",
            "INFO:mealpy.bio_based.EOA.OriginalEOA:>Problem: P, Epoch: 4, Current best: 0.7881097560975608, Global best: 0.7881097560975608, Runtime: 84.01427 seconds\n",
            "INFO:mealpy.bio_based.EOA.OriginalEOA:>Problem: P, Epoch: 5, Current best: 0.7926829268292683, Global best: 0.7926829268292683, Runtime: 88.52110 seconds\n",
            "INFO:mealpy.bio_based.EOA.OriginalEOA:>Problem: P, Epoch: 6, Current best: 0.7926829268292683, Global best: 0.7926829268292683, Runtime: 87.68129 seconds\n",
            "INFO:mealpy.bio_based.EOA.OriginalEOA:>Problem: P, Epoch: 7, Current best: 0.7957317073170732, Global best: 0.7957317073170732, Runtime: 93.49051 seconds\n",
            "INFO:mealpy.bio_based.EOA.OriginalEOA:>Problem: P, Epoch: 8, Current best: 0.7957317073170732, Global best: 0.7957317073170732, Runtime: 62.19911 seconds\n",
            "INFO:mealpy.bio_based.EOA.OriginalEOA:>Problem: P, Epoch: 9, Current best: 0.7957317073170732, Global best: 0.7957317073170732, Runtime: 68.82911 seconds\n",
            "INFO:mealpy.bio_based.EOA.OriginalEOA:>Problem: P, Epoch: 10, Current best: 0.7957317073170732, Global best: 0.7957317073170732, Runtime: 56.74100 seconds\n",
            "INFO:mealpy.bio_based.EOA.OriginalEOA:>Problem: P, Epoch: 11, Current best: 0.7957317073170732, Global best: 0.7957317073170732, Runtime: 69.76762 seconds\n",
            "INFO:mealpy.bio_based.EOA.OriginalEOA:>Problem: P, Epoch: 12, Current best: 0.7957317073170732, Global best: 0.7957317073170732, Runtime: 60.60480 seconds\n",
            "INFO:mealpy.bio_based.EOA.OriginalEOA:>Problem: P, Epoch: 13, Current best: 0.7957317073170732, Global best: 0.7957317073170732, Runtime: 59.39952 seconds\n",
            "INFO:mealpy.bio_based.EOA.OriginalEOA:>Problem: P, Epoch: 14, Current best: 0.7957317073170732, Global best: 0.7957317073170732, Runtime: 60.10724 seconds\n",
            "INFO:mealpy.bio_based.EOA.OriginalEOA:>Problem: P, Epoch: 15, Current best: 0.7957317073170732, Global best: 0.7957317073170732, Runtime: 60.55475 seconds\n"
          ]
        },
        {
          "output_type": "error",
          "ename": "KeyboardInterrupt",
          "evalue": "ignored",
          "traceback": [
            "\u001b[0;31m---------------------------------------------------------------------------\u001b[0m",
            "\u001b[0;31mKeyboardInterrupt\u001b[0m                         Traceback (most recent call last)",
            "\u001b[0;32m<ipython-input-44-f8220ba4fb2e>\u001b[0m in \u001b[0;36m<cell line: 6>\u001b[0;34m()\u001b[0m\n\u001b[1;32m      4\u001b[0m \u001b[0mp\u001b[0m \u001b[0;34m=\u001b[0m \u001b[0mnp\u001b[0m\u001b[0;34m.\u001b[0m\u001b[0mzeros\u001b[0m\u001b[0;34m(\u001b[0m\u001b[0;34m(\u001b[0m\u001b[0mepoch\u001b[0m\u001b[0;34m,\u001b[0m\u001b[0;36m5\u001b[0m\u001b[0;34m)\u001b[0m\u001b[0;34m)\u001b[0m\u001b[0;34m\u001b[0m\u001b[0;34m\u001b[0m\u001b[0m\n\u001b[1;32m      5\u001b[0m \u001b[0mmodel\u001b[0m \u001b[0;34m=\u001b[0m \u001b[0mEOA\u001b[0m\u001b[0;34m.\u001b[0m\u001b[0mOriginalEOA\u001b[0m\u001b[0;34m(\u001b[0m\u001b[0mepoch\u001b[0m\u001b[0;34m=\u001b[0m\u001b[0mepoch\u001b[0m\u001b[0;34m,\u001b[0m \u001b[0mpop_size\u001b[0m\u001b[0;34m=\u001b[0m\u001b[0;36m10\u001b[0m\u001b[0;34m)\u001b[0m\u001b[0;34m\u001b[0m\u001b[0;34m\u001b[0m\u001b[0m\n\u001b[0;32m----> 6\u001b[0;31m \u001b[0mbest_position\u001b[0m\u001b[0;34m,\u001b[0m \u001b[0mbest_fitness\u001b[0m \u001b[0;34m=\u001b[0m \u001b[0mmodel\u001b[0m\u001b[0;34m.\u001b[0m\u001b[0msolve\u001b[0m\u001b[0;34m(\u001b[0m\u001b[0mproblem\u001b[0m\u001b[0;34m)\u001b[0m\u001b[0;34m\u001b[0m\u001b[0;34m\u001b[0m\u001b[0m\n\u001b[0m\u001b[1;32m      7\u001b[0m \u001b[0mlstm\u001b[0m \u001b[0;34m=\u001b[0m \u001b[0mmodel\u001b[0m\u001b[0;34m.\u001b[0m\u001b[0mhistory\u001b[0m\u001b[0;34m.\u001b[0m\u001b[0mlist_current_best\u001b[0m\u001b[0;34m\u001b[0m\u001b[0;34m\u001b[0m\u001b[0m\n\u001b[1;32m      8\u001b[0m \u001b[0;32mfor\u001b[0m \u001b[0mj\u001b[0m\u001b[0;34m,\u001b[0m\u001b[0mi\u001b[0m \u001b[0;32min\u001b[0m \u001b[0menumerate\u001b[0m\u001b[0;34m(\u001b[0m\u001b[0mlstm\u001b[0m\u001b[0;34m)\u001b[0m\u001b[0;34m:\u001b[0m\u001b[0;34m\u001b[0m\u001b[0;34m\u001b[0m\u001b[0m\n",
            "\u001b[0;32m/usr/local/lib/python3.10/dist-packages/mealpy/optimizer.py\u001b[0m in \u001b[0;36msolve\u001b[0;34m(self, problem, mode, starting_positions, n_workers, termination)\u001b[0m\n\u001b[1;32m    281\u001b[0m \u001b[0;34m\u001b[0m\u001b[0m\n\u001b[1;32m    282\u001b[0m             \u001b[0;31m## Evolve method will be called in child class\u001b[0m\u001b[0;34m\u001b[0m\u001b[0;34m\u001b[0m\u001b[0m\n\u001b[0;32m--> 283\u001b[0;31m             \u001b[0mself\u001b[0m\u001b[0;34m.\u001b[0m\u001b[0mevolve\u001b[0m\u001b[0;34m(\u001b[0m\u001b[0mepoch\u001b[0m\u001b[0;34m)\u001b[0m\u001b[0;34m\u001b[0m\u001b[0;34m\u001b[0m\u001b[0m\n\u001b[0m\u001b[1;32m    284\u001b[0m \u001b[0;34m\u001b[0m\u001b[0m\n\u001b[1;32m    285\u001b[0m             \u001b[0;31m# Update global best position, the population is sorted or not depended on algorithm's strategy\u001b[0m\u001b[0;34m\u001b[0m\u001b[0;34m\u001b[0m\u001b[0m\n",
            "\u001b[0;32m/usr/local/lib/python3.10/dist-packages/mealpy/bio_based/EOA.py\u001b[0m in \u001b[0;36mevolve\u001b[0;34m(self, epoch)\u001b[0m\n\u001b[1;32m    141\u001b[0m             \u001b[0mpop_new\u001b[0m\u001b[0;34m.\u001b[0m\u001b[0mappend\u001b[0m\u001b[0;34m(\u001b[0m\u001b[0;34m[\u001b[0m\u001b[0mpos_new\u001b[0m\u001b[0;34m,\u001b[0m \u001b[0;32mNone\u001b[0m\u001b[0;34m]\u001b[0m\u001b[0;34m)\u001b[0m\u001b[0;34m\u001b[0m\u001b[0;34m\u001b[0m\u001b[0m\n\u001b[1;32m    142\u001b[0m             \u001b[0;32mif\u001b[0m \u001b[0mself\u001b[0m\u001b[0;34m.\u001b[0m\u001b[0mmode\u001b[0m \u001b[0;32mnot\u001b[0m \u001b[0;32min\u001b[0m \u001b[0mself\u001b[0m\u001b[0;34m.\u001b[0m\u001b[0mAVAILABLE_MODES\u001b[0m\u001b[0;34m:\u001b[0m\u001b[0;34m\u001b[0m\u001b[0;34m\u001b[0m\u001b[0m\n\u001b[0;32m--> 143\u001b[0;31m                 \u001b[0mtarget\u001b[0m \u001b[0;34m=\u001b[0m \u001b[0mself\u001b[0m\u001b[0;34m.\u001b[0m\u001b[0mget_target_wrapper\u001b[0m\u001b[0;34m(\u001b[0m\u001b[0mpos_new\u001b[0m\u001b[0;34m)\u001b[0m\u001b[0;34m\u001b[0m\u001b[0;34m\u001b[0m\u001b[0m\n\u001b[0m\u001b[1;32m    144\u001b[0m                 \u001b[0mself\u001b[0m\u001b[0;34m.\u001b[0m\u001b[0mpop\u001b[0m\u001b[0;34m[\u001b[0m\u001b[0midx\u001b[0m\u001b[0;34m]\u001b[0m \u001b[0;34m=\u001b[0m \u001b[0mself\u001b[0m\u001b[0;34m.\u001b[0m\u001b[0mget_better_solution\u001b[0m\u001b[0;34m(\u001b[0m\u001b[0;34m[\u001b[0m\u001b[0mpos_new\u001b[0m\u001b[0;34m,\u001b[0m \u001b[0mtarget\u001b[0m\u001b[0;34m]\u001b[0m\u001b[0;34m,\u001b[0m \u001b[0mself\u001b[0m\u001b[0;34m.\u001b[0m\u001b[0mpop\u001b[0m\u001b[0;34m[\u001b[0m\u001b[0midx\u001b[0m\u001b[0;34m]\u001b[0m\u001b[0;34m)\u001b[0m\u001b[0;34m\u001b[0m\u001b[0;34m\u001b[0m\u001b[0m\n\u001b[1;32m    145\u001b[0m         \u001b[0;32mif\u001b[0m \u001b[0mself\u001b[0m\u001b[0;34m.\u001b[0m\u001b[0mmode\u001b[0m \u001b[0;32min\u001b[0m \u001b[0mself\u001b[0m\u001b[0;34m.\u001b[0m\u001b[0mAVAILABLE_MODES\u001b[0m\u001b[0;34m:\u001b[0m\u001b[0;34m\u001b[0m\u001b[0;34m\u001b[0m\u001b[0m\n",
            "\u001b[0;32m/usr/local/lib/python3.10/dist-packages/mealpy/optimizer.py\u001b[0m in \u001b[0;36mget_target_wrapper\u001b[0;34m(self, position, counted)\u001b[0m\n\u001b[1;32m    162\u001b[0m         \u001b[0;32mif\u001b[0m \u001b[0mcounted\u001b[0m\u001b[0;34m:\u001b[0m\u001b[0;34m\u001b[0m\u001b[0;34m\u001b[0m\u001b[0m\n\u001b[1;32m    163\u001b[0m             \u001b[0mself\u001b[0m\u001b[0;34m.\u001b[0m\u001b[0mnfe_counter\u001b[0m \u001b[0;34m+=\u001b[0m \u001b[0;36m1\u001b[0m\u001b[0;34m\u001b[0m\u001b[0;34m\u001b[0m\u001b[0m\n\u001b[0;32m--> 164\u001b[0;31m         \u001b[0mobjs\u001b[0m \u001b[0;34m=\u001b[0m \u001b[0mself\u001b[0m\u001b[0;34m.\u001b[0m\u001b[0mproblem\u001b[0m\u001b[0;34m.\u001b[0m\u001b[0mfit_func\u001b[0m\u001b[0;34m(\u001b[0m\u001b[0mposition\u001b[0m\u001b[0;34m)\u001b[0m\u001b[0;34m\u001b[0m\u001b[0;34m\u001b[0m\u001b[0m\n\u001b[0m\u001b[1;32m    165\u001b[0m         \u001b[0;32mif\u001b[0m \u001b[0;32mnot\u001b[0m \u001b[0mself\u001b[0m\u001b[0;34m.\u001b[0m\u001b[0mproblem\u001b[0m\u001b[0;34m.\u001b[0m\u001b[0mobj_is_list\u001b[0m\u001b[0;34m:\u001b[0m\u001b[0;34m\u001b[0m\u001b[0;34m\u001b[0m\u001b[0m\n\u001b[1;32m    166\u001b[0m             \u001b[0mobjs\u001b[0m \u001b[0;34m=\u001b[0m \u001b[0;34m[\u001b[0m\u001b[0mobjs\u001b[0m\u001b[0;34m]\u001b[0m\u001b[0;34m\u001b[0m\u001b[0;34m\u001b[0m\u001b[0m\n",
            "\u001b[0;32m<ipython-input-6-bdeb8957c305>\u001b[0m in \u001b[0;36mfitness_function\u001b[0;34m(solution)\u001b[0m\n\u001b[1;32m      7\u001b[0m                     )\n\u001b[1;32m      8\u001b[0m     \u001b[0;31m# Fit the model\u001b[0m\u001b[0;34m\u001b[0m\u001b[0;34m\u001b[0m\u001b[0m\n\u001b[0;32m----> 9\u001b[0;31m     \u001b[0mclf\u001b[0m\u001b[0;34m.\u001b[0m\u001b[0mfit\u001b[0m\u001b[0;34m(\u001b[0m\u001b[0mX\u001b[0m\u001b[0;34m,\u001b[0m \u001b[0mY\u001b[0m\u001b[0;34m)\u001b[0m\u001b[0;34m\u001b[0m\u001b[0;34m\u001b[0m\u001b[0m\n\u001b[0m\u001b[1;32m     10\u001b[0m     \u001b[0;31m# Make the predictions\u001b[0m\u001b[0;34m\u001b[0m\u001b[0;34m\u001b[0m\u001b[0m\n\u001b[1;32m     11\u001b[0m     \u001b[0my_\u001b[0m \u001b[0;34m=\u001b[0m \u001b[0mclf\u001b[0m\u001b[0;34m.\u001b[0m\u001b[0mpredict\u001b[0m\u001b[0;34m(\u001b[0m\u001b[0mx\u001b[0m\u001b[0;34m)\u001b[0m\u001b[0;34m\u001b[0m\u001b[0;34m\u001b[0m\u001b[0m\n",
            "\u001b[0;32m/usr/local/lib/python3.10/dist-packages/xgboost/core.py\u001b[0m in \u001b[0;36minner_f\u001b[0;34m(*args, **kwargs)\u001b[0m\n\u001b[1;32m    618\u001b[0m             \u001b[0;32mfor\u001b[0m \u001b[0mk\u001b[0m\u001b[0;34m,\u001b[0m \u001b[0marg\u001b[0m \u001b[0;32min\u001b[0m \u001b[0mzip\u001b[0m\u001b[0;34m(\u001b[0m\u001b[0msig\u001b[0m\u001b[0;34m.\u001b[0m\u001b[0mparameters\u001b[0m\u001b[0;34m,\u001b[0m \u001b[0margs\u001b[0m\u001b[0;34m)\u001b[0m\u001b[0;34m:\u001b[0m\u001b[0;34m\u001b[0m\u001b[0;34m\u001b[0m\u001b[0m\n\u001b[1;32m    619\u001b[0m                 \u001b[0mkwargs\u001b[0m\u001b[0;34m[\u001b[0m\u001b[0mk\u001b[0m\u001b[0;34m]\u001b[0m \u001b[0;34m=\u001b[0m \u001b[0marg\u001b[0m\u001b[0;34m\u001b[0m\u001b[0;34m\u001b[0m\u001b[0m\n\u001b[0;32m--> 620\u001b[0;31m             \u001b[0;32mreturn\u001b[0m \u001b[0mfunc\u001b[0m\u001b[0;34m(\u001b[0m\u001b[0;34m**\u001b[0m\u001b[0mkwargs\u001b[0m\u001b[0;34m)\u001b[0m\u001b[0;34m\u001b[0m\u001b[0;34m\u001b[0m\u001b[0m\n\u001b[0m\u001b[1;32m    621\u001b[0m \u001b[0;34m\u001b[0m\u001b[0m\n\u001b[1;32m    622\u001b[0m         \u001b[0;32mreturn\u001b[0m \u001b[0minner_f\u001b[0m\u001b[0;34m\u001b[0m\u001b[0;34m\u001b[0m\u001b[0m\n",
            "\u001b[0;32m/usr/local/lib/python3.10/dist-packages/xgboost/sklearn.py\u001b[0m in \u001b[0;36mfit\u001b[0;34m(self, X, y, sample_weight, base_margin, eval_set, eval_metric, early_stopping_rounds, verbose, xgb_model, sample_weight_eval_set, base_margin_eval_set, feature_weights, callbacks)\u001b[0m\n\u001b[1;32m   1488\u001b[0m             )\n\u001b[1;32m   1489\u001b[0m \u001b[0;34m\u001b[0m\u001b[0m\n\u001b[0;32m-> 1490\u001b[0;31m             self._Booster = train(\n\u001b[0m\u001b[1;32m   1491\u001b[0m                 \u001b[0mparams\u001b[0m\u001b[0;34m,\u001b[0m\u001b[0;34m\u001b[0m\u001b[0;34m\u001b[0m\u001b[0m\n\u001b[1;32m   1492\u001b[0m                 \u001b[0mtrain_dmatrix\u001b[0m\u001b[0;34m,\u001b[0m\u001b[0;34m\u001b[0m\u001b[0;34m\u001b[0m\u001b[0m\n",
            "\u001b[0;32m/usr/local/lib/python3.10/dist-packages/xgboost/core.py\u001b[0m in \u001b[0;36minner_f\u001b[0;34m(*args, **kwargs)\u001b[0m\n\u001b[1;32m    618\u001b[0m             \u001b[0;32mfor\u001b[0m \u001b[0mk\u001b[0m\u001b[0;34m,\u001b[0m \u001b[0marg\u001b[0m \u001b[0;32min\u001b[0m \u001b[0mzip\u001b[0m\u001b[0;34m(\u001b[0m\u001b[0msig\u001b[0m\u001b[0;34m.\u001b[0m\u001b[0mparameters\u001b[0m\u001b[0;34m,\u001b[0m \u001b[0margs\u001b[0m\u001b[0;34m)\u001b[0m\u001b[0;34m:\u001b[0m\u001b[0;34m\u001b[0m\u001b[0;34m\u001b[0m\u001b[0m\n\u001b[1;32m    619\u001b[0m                 \u001b[0mkwargs\u001b[0m\u001b[0;34m[\u001b[0m\u001b[0mk\u001b[0m\u001b[0;34m]\u001b[0m \u001b[0;34m=\u001b[0m \u001b[0marg\u001b[0m\u001b[0;34m\u001b[0m\u001b[0;34m\u001b[0m\u001b[0m\n\u001b[0;32m--> 620\u001b[0;31m             \u001b[0;32mreturn\u001b[0m \u001b[0mfunc\u001b[0m\u001b[0;34m(\u001b[0m\u001b[0;34m**\u001b[0m\u001b[0mkwargs\u001b[0m\u001b[0;34m)\u001b[0m\u001b[0;34m\u001b[0m\u001b[0;34m\u001b[0m\u001b[0m\n\u001b[0m\u001b[1;32m    621\u001b[0m \u001b[0;34m\u001b[0m\u001b[0m\n\u001b[1;32m    622\u001b[0m         \u001b[0;32mreturn\u001b[0m \u001b[0minner_f\u001b[0m\u001b[0;34m\u001b[0m\u001b[0;34m\u001b[0m\u001b[0m\n",
            "\u001b[0;32m/usr/local/lib/python3.10/dist-packages/xgboost/training.py\u001b[0m in \u001b[0;36mtrain\u001b[0;34m(params, dtrain, num_boost_round, evals, obj, feval, maximize, early_stopping_rounds, evals_result, verbose_eval, xgb_model, callbacks, custom_metric)\u001b[0m\n\u001b[1;32m    183\u001b[0m         \u001b[0;32mif\u001b[0m \u001b[0mcb_container\u001b[0m\u001b[0;34m.\u001b[0m\u001b[0mbefore_iteration\u001b[0m\u001b[0;34m(\u001b[0m\u001b[0mbst\u001b[0m\u001b[0;34m,\u001b[0m \u001b[0mi\u001b[0m\u001b[0;34m,\u001b[0m \u001b[0mdtrain\u001b[0m\u001b[0;34m,\u001b[0m \u001b[0mevals\u001b[0m\u001b[0;34m)\u001b[0m\u001b[0;34m:\u001b[0m\u001b[0;34m\u001b[0m\u001b[0;34m\u001b[0m\u001b[0m\n\u001b[1;32m    184\u001b[0m             \u001b[0;32mbreak\u001b[0m\u001b[0;34m\u001b[0m\u001b[0;34m\u001b[0m\u001b[0m\n\u001b[0;32m--> 185\u001b[0;31m         \u001b[0mbst\u001b[0m\u001b[0;34m.\u001b[0m\u001b[0mupdate\u001b[0m\u001b[0;34m(\u001b[0m\u001b[0mdtrain\u001b[0m\u001b[0;34m,\u001b[0m \u001b[0mi\u001b[0m\u001b[0;34m,\u001b[0m \u001b[0mobj\u001b[0m\u001b[0;34m)\u001b[0m\u001b[0;34m\u001b[0m\u001b[0;34m\u001b[0m\u001b[0m\n\u001b[0m\u001b[1;32m    186\u001b[0m         \u001b[0;32mif\u001b[0m \u001b[0mcb_container\u001b[0m\u001b[0;34m.\u001b[0m\u001b[0mafter_iteration\u001b[0m\u001b[0;34m(\u001b[0m\u001b[0mbst\u001b[0m\u001b[0;34m,\u001b[0m \u001b[0mi\u001b[0m\u001b[0;34m,\u001b[0m \u001b[0mdtrain\u001b[0m\u001b[0;34m,\u001b[0m \u001b[0mevals\u001b[0m\u001b[0;34m)\u001b[0m\u001b[0;34m:\u001b[0m\u001b[0;34m\u001b[0m\u001b[0;34m\u001b[0m\u001b[0m\n\u001b[1;32m    187\u001b[0m             \u001b[0;32mbreak\u001b[0m\u001b[0;34m\u001b[0m\u001b[0;34m\u001b[0m\u001b[0m\n",
            "\u001b[0;32m/usr/local/lib/python3.10/dist-packages/xgboost/core.py\u001b[0m in \u001b[0;36mupdate\u001b[0;34m(self, dtrain, iteration, fobj)\u001b[0m\n\u001b[1;32m   1916\u001b[0m \u001b[0;34m\u001b[0m\u001b[0m\n\u001b[1;32m   1917\u001b[0m         \u001b[0;32mif\u001b[0m \u001b[0mfobj\u001b[0m \u001b[0;32mis\u001b[0m \u001b[0;32mNone\u001b[0m\u001b[0;34m:\u001b[0m\u001b[0;34m\u001b[0m\u001b[0;34m\u001b[0m\u001b[0m\n\u001b[0;32m-> 1918\u001b[0;31m             _check_call(_LIB.XGBoosterUpdateOneIter(self.handle,\n\u001b[0m\u001b[1;32m   1919\u001b[0m                                                     \u001b[0mctypes\u001b[0m\u001b[0;34m.\u001b[0m\u001b[0mc_int\u001b[0m\u001b[0;34m(\u001b[0m\u001b[0miteration\u001b[0m\u001b[0;34m)\u001b[0m\u001b[0;34m,\u001b[0m\u001b[0;34m\u001b[0m\u001b[0;34m\u001b[0m\u001b[0m\n\u001b[1;32m   1920\u001b[0m                                                     dtrain.handle))\n",
            "\u001b[0;31mKeyboardInterrupt\u001b[0m: "
          ]
        }
      ]
    },
    {
      "cell_type": "code",
      "source": [
        "# def PPSO():\n",
        "epoch = 40\n",
        "print('started')\n",
        "p = np.zeros((epoch,5))\n",
        "model = MRFO.OriginalMRFO(epoch=epoch, pop_size=10)\n",
        "best_position, best_fitness = model.solve(problem)\n",
        "lstm = model.history.list_current_best\n",
        "for j,i in enumerate(lstm):\n",
        "    p[j] = int(i[0][0]),int(i[0][1]),i[0][2],i[1][0],i[1][1][0]\n",
        "# print(p)\n",
        "s = pd.DataFrame(p,columns=['Max Dept','N Stimator','Learning Rate','Best Accuracy','Best Accuracy 2'])\n",
        "s.to_csv(f'/content/drive/MyDrive/45/{model.__class__.__name__}_XGB_2.csv')"
      ],
      "metadata": {
        "colab": {
          "base_uri": "https://localhost:8080/",
          "height": 557
        },
        "id": "YY7-AY85L4Pn",
        "outputId": "c40c40c1-d542-4888-ac01-f58fe0e6f68d"
      },
      "execution_count": 49,
      "outputs": [
        {
          "output_type": "stream",
          "name": "stdout",
          "text": [
            "started\n"
          ]
        },
        {
          "output_type": "stream",
          "name": "stderr",
          "text": [
            "INFO:mealpy.swarm_based.MRFO.OriginalMRFO:Solving single objective optimization problem.\n",
            "INFO:mealpy.swarm_based.MRFO.OriginalMRFO:>Problem: P, Epoch: 1, Current best: 0.7865853658536586, Global best: 0.7865853658536586, Runtime: 62.08057 seconds\n",
            "INFO:mealpy.swarm_based.MRFO.OriginalMRFO:>Problem: P, Epoch: 2, Current best: 0.7896341463414633, Global best: 0.7896341463414633, Runtime: 41.61953 seconds\n",
            "INFO:mealpy.swarm_based.MRFO.OriginalMRFO:>Problem: P, Epoch: 3, Current best: 0.7896341463414633, Global best: 0.7896341463414633, Runtime: 42.43412 seconds\n",
            "INFO:mealpy.swarm_based.MRFO.OriginalMRFO:>Problem: P, Epoch: 4, Current best: 0.7896341463414633, Global best: 0.7896341463414633, Runtime: 49.53851 seconds\n",
            "INFO:mealpy.swarm_based.MRFO.OriginalMRFO:>Problem: P, Epoch: 5, Current best: 0.7911585365853658, Global best: 0.7911585365853658, Runtime: 45.91895 seconds\n",
            "INFO:mealpy.swarm_based.MRFO.OriginalMRFO:>Problem: P, Epoch: 6, Current best: 0.7911585365853658, Global best: 0.7911585365853658, Runtime: 41.90590 seconds\n",
            "INFO:mealpy.swarm_based.MRFO.OriginalMRFO:>Problem: P, Epoch: 7, Current best: 0.7911585365853658, Global best: 0.7911585365853658, Runtime: 40.00313 seconds\n",
            "INFO:mealpy.swarm_based.MRFO.OriginalMRFO:>Problem: P, Epoch: 8, Current best: 0.7926829268292683, Global best: 0.7926829268292683, Runtime: 52.91712 seconds\n"
          ]
        },
        {
          "output_type": "error",
          "ename": "KeyboardInterrupt",
          "evalue": "ignored",
          "traceback": [
            "\u001b[0;31m---------------------------------------------------------------------------\u001b[0m",
            "\u001b[0;31mKeyboardInterrupt\u001b[0m                         Traceback (most recent call last)",
            "\u001b[0;32m<ipython-input-49-35d0235996bc>\u001b[0m in \u001b[0;36m<cell line: 6>\u001b[0;34m()\u001b[0m\n\u001b[1;32m      4\u001b[0m \u001b[0mp\u001b[0m \u001b[0;34m=\u001b[0m \u001b[0mnp\u001b[0m\u001b[0;34m.\u001b[0m\u001b[0mzeros\u001b[0m\u001b[0;34m(\u001b[0m\u001b[0;34m(\u001b[0m\u001b[0mepoch\u001b[0m\u001b[0;34m,\u001b[0m\u001b[0;36m5\u001b[0m\u001b[0;34m)\u001b[0m\u001b[0;34m)\u001b[0m\u001b[0;34m\u001b[0m\u001b[0;34m\u001b[0m\u001b[0m\n\u001b[1;32m      5\u001b[0m \u001b[0mmodel\u001b[0m \u001b[0;34m=\u001b[0m \u001b[0mMRFO\u001b[0m\u001b[0;34m.\u001b[0m\u001b[0mOriginalMRFO\u001b[0m\u001b[0;34m(\u001b[0m\u001b[0mepoch\u001b[0m\u001b[0;34m=\u001b[0m\u001b[0mepoch\u001b[0m\u001b[0;34m,\u001b[0m \u001b[0mpop_size\u001b[0m\u001b[0;34m=\u001b[0m\u001b[0;36m10\u001b[0m\u001b[0;34m)\u001b[0m\u001b[0;34m\u001b[0m\u001b[0;34m\u001b[0m\u001b[0m\n\u001b[0;32m----> 6\u001b[0;31m \u001b[0mbest_position\u001b[0m\u001b[0;34m,\u001b[0m \u001b[0mbest_fitness\u001b[0m \u001b[0;34m=\u001b[0m \u001b[0mmodel\u001b[0m\u001b[0;34m.\u001b[0m\u001b[0msolve\u001b[0m\u001b[0;34m(\u001b[0m\u001b[0mproblem\u001b[0m\u001b[0;34m)\u001b[0m\u001b[0;34m\u001b[0m\u001b[0;34m\u001b[0m\u001b[0m\n\u001b[0m\u001b[1;32m      7\u001b[0m \u001b[0mlstm\u001b[0m \u001b[0;34m=\u001b[0m \u001b[0mmodel\u001b[0m\u001b[0;34m.\u001b[0m\u001b[0mhistory\u001b[0m\u001b[0;34m.\u001b[0m\u001b[0mlist_current_best\u001b[0m\u001b[0;34m\u001b[0m\u001b[0;34m\u001b[0m\u001b[0m\n\u001b[1;32m      8\u001b[0m \u001b[0;32mfor\u001b[0m \u001b[0mj\u001b[0m\u001b[0;34m,\u001b[0m\u001b[0mi\u001b[0m \u001b[0;32min\u001b[0m \u001b[0menumerate\u001b[0m\u001b[0;34m(\u001b[0m\u001b[0mlstm\u001b[0m\u001b[0;34m)\u001b[0m\u001b[0;34m:\u001b[0m\u001b[0;34m\u001b[0m\u001b[0;34m\u001b[0m\u001b[0m\n",
            "\u001b[0;32m/usr/local/lib/python3.10/dist-packages/mealpy/optimizer.py\u001b[0m in \u001b[0;36msolve\u001b[0;34m(self, problem, mode, starting_positions, n_workers, termination)\u001b[0m\n\u001b[1;32m    281\u001b[0m \u001b[0;34m\u001b[0m\u001b[0m\n\u001b[1;32m    282\u001b[0m             \u001b[0;31m## Evolve method will be called in child class\u001b[0m\u001b[0;34m\u001b[0m\u001b[0;34m\u001b[0m\u001b[0m\n\u001b[0;32m--> 283\u001b[0;31m             \u001b[0mself\u001b[0m\u001b[0;34m.\u001b[0m\u001b[0mevolve\u001b[0m\u001b[0;34m(\u001b[0m\u001b[0mepoch\u001b[0m\u001b[0;34m)\u001b[0m\u001b[0;34m\u001b[0m\u001b[0;34m\u001b[0m\u001b[0m\n\u001b[0m\u001b[1;32m    284\u001b[0m \u001b[0;34m\u001b[0m\u001b[0m\n\u001b[1;32m    285\u001b[0m             \u001b[0;31m# Update global best position, the population is sorted or not depended on algorithm's strategy\u001b[0m\u001b[0;34m\u001b[0m\u001b[0;34m\u001b[0m\u001b[0m\n",
            "\u001b[0;32m/usr/local/lib/python3.10/dist-packages/mealpy/swarm_based/MRFO.py\u001b[0m in \u001b[0;36mevolve\u001b[0;34m(self, epoch)\u001b[0m\n\u001b[1;32m    103\u001b[0m             \u001b[0mpop_new\u001b[0m\u001b[0;34m.\u001b[0m\u001b[0mappend\u001b[0m\u001b[0;34m(\u001b[0m\u001b[0;34m[\u001b[0m\u001b[0mpos_new\u001b[0m\u001b[0;34m,\u001b[0m \u001b[0;32mNone\u001b[0m\u001b[0;34m]\u001b[0m\u001b[0;34m)\u001b[0m\u001b[0;34m\u001b[0m\u001b[0;34m\u001b[0m\u001b[0m\n\u001b[1;32m    104\u001b[0m             \u001b[0;32mif\u001b[0m \u001b[0mself\u001b[0m\u001b[0;34m.\u001b[0m\u001b[0mmode\u001b[0m \u001b[0;32mnot\u001b[0m \u001b[0;32min\u001b[0m \u001b[0mself\u001b[0m\u001b[0;34m.\u001b[0m\u001b[0mAVAILABLE_MODES\u001b[0m\u001b[0;34m:\u001b[0m\u001b[0;34m\u001b[0m\u001b[0;34m\u001b[0m\u001b[0m\n\u001b[0;32m--> 105\u001b[0;31m                 \u001b[0mtarget\u001b[0m \u001b[0;34m=\u001b[0m \u001b[0mself\u001b[0m\u001b[0;34m.\u001b[0m\u001b[0mget_target_wrapper\u001b[0m\u001b[0;34m(\u001b[0m\u001b[0mpos_new\u001b[0m\u001b[0;34m)\u001b[0m\u001b[0;34m\u001b[0m\u001b[0;34m\u001b[0m\u001b[0m\n\u001b[0m\u001b[1;32m    106\u001b[0m                 \u001b[0mself\u001b[0m\u001b[0;34m.\u001b[0m\u001b[0mpop\u001b[0m\u001b[0;34m[\u001b[0m\u001b[0midx\u001b[0m\u001b[0;34m]\u001b[0m \u001b[0;34m=\u001b[0m \u001b[0mself\u001b[0m\u001b[0;34m.\u001b[0m\u001b[0mget_better_solution\u001b[0m\u001b[0;34m(\u001b[0m\u001b[0mself\u001b[0m\u001b[0;34m.\u001b[0m\u001b[0mpop\u001b[0m\u001b[0;34m[\u001b[0m\u001b[0midx\u001b[0m\u001b[0;34m]\u001b[0m\u001b[0;34m,\u001b[0m \u001b[0;34m[\u001b[0m\u001b[0mpos_new\u001b[0m\u001b[0;34m,\u001b[0m \u001b[0mtarget\u001b[0m\u001b[0;34m]\u001b[0m\u001b[0;34m)\u001b[0m\u001b[0;34m\u001b[0m\u001b[0;34m\u001b[0m\u001b[0m\n\u001b[1;32m    107\u001b[0m         \u001b[0;32mif\u001b[0m \u001b[0mself\u001b[0m\u001b[0;34m.\u001b[0m\u001b[0mmode\u001b[0m \u001b[0;32min\u001b[0m \u001b[0mself\u001b[0m\u001b[0;34m.\u001b[0m\u001b[0mAVAILABLE_MODES\u001b[0m\u001b[0;34m:\u001b[0m\u001b[0;34m\u001b[0m\u001b[0;34m\u001b[0m\u001b[0m\n",
            "\u001b[0;32m/usr/local/lib/python3.10/dist-packages/mealpy/optimizer.py\u001b[0m in \u001b[0;36mget_target_wrapper\u001b[0;34m(self, position, counted)\u001b[0m\n\u001b[1;32m    162\u001b[0m         \u001b[0;32mif\u001b[0m \u001b[0mcounted\u001b[0m\u001b[0;34m:\u001b[0m\u001b[0;34m\u001b[0m\u001b[0;34m\u001b[0m\u001b[0m\n\u001b[1;32m    163\u001b[0m             \u001b[0mself\u001b[0m\u001b[0;34m.\u001b[0m\u001b[0mnfe_counter\u001b[0m \u001b[0;34m+=\u001b[0m \u001b[0;36m1\u001b[0m\u001b[0;34m\u001b[0m\u001b[0;34m\u001b[0m\u001b[0m\n\u001b[0;32m--> 164\u001b[0;31m         \u001b[0mobjs\u001b[0m \u001b[0;34m=\u001b[0m \u001b[0mself\u001b[0m\u001b[0;34m.\u001b[0m\u001b[0mproblem\u001b[0m\u001b[0;34m.\u001b[0m\u001b[0mfit_func\u001b[0m\u001b[0;34m(\u001b[0m\u001b[0mposition\u001b[0m\u001b[0;34m)\u001b[0m\u001b[0;34m\u001b[0m\u001b[0;34m\u001b[0m\u001b[0m\n\u001b[0m\u001b[1;32m    165\u001b[0m         \u001b[0;32mif\u001b[0m \u001b[0;32mnot\u001b[0m \u001b[0mself\u001b[0m\u001b[0;34m.\u001b[0m\u001b[0mproblem\u001b[0m\u001b[0;34m.\u001b[0m\u001b[0mobj_is_list\u001b[0m\u001b[0;34m:\u001b[0m\u001b[0;34m\u001b[0m\u001b[0;34m\u001b[0m\u001b[0m\n\u001b[1;32m    166\u001b[0m             \u001b[0mobjs\u001b[0m \u001b[0;34m=\u001b[0m \u001b[0;34m[\u001b[0m\u001b[0mobjs\u001b[0m\u001b[0;34m]\u001b[0m\u001b[0;34m\u001b[0m\u001b[0;34m\u001b[0m\u001b[0m\n",
            "\u001b[0;32m<ipython-input-6-bdeb8957c305>\u001b[0m in \u001b[0;36mfitness_function\u001b[0;34m(solution)\u001b[0m\n\u001b[1;32m      7\u001b[0m                     )\n\u001b[1;32m      8\u001b[0m     \u001b[0;31m# Fit the model\u001b[0m\u001b[0;34m\u001b[0m\u001b[0;34m\u001b[0m\u001b[0m\n\u001b[0;32m----> 9\u001b[0;31m     \u001b[0mclf\u001b[0m\u001b[0;34m.\u001b[0m\u001b[0mfit\u001b[0m\u001b[0;34m(\u001b[0m\u001b[0mX\u001b[0m\u001b[0;34m,\u001b[0m \u001b[0mY\u001b[0m\u001b[0;34m)\u001b[0m\u001b[0;34m\u001b[0m\u001b[0;34m\u001b[0m\u001b[0m\n\u001b[0m\u001b[1;32m     10\u001b[0m     \u001b[0;31m# Make the predictions\u001b[0m\u001b[0;34m\u001b[0m\u001b[0;34m\u001b[0m\u001b[0m\n\u001b[1;32m     11\u001b[0m     \u001b[0my_\u001b[0m \u001b[0;34m=\u001b[0m \u001b[0mclf\u001b[0m\u001b[0;34m.\u001b[0m\u001b[0mpredict\u001b[0m\u001b[0;34m(\u001b[0m\u001b[0mx\u001b[0m\u001b[0;34m)\u001b[0m\u001b[0;34m\u001b[0m\u001b[0;34m\u001b[0m\u001b[0m\n",
            "\u001b[0;32m/usr/local/lib/python3.10/dist-packages/xgboost/core.py\u001b[0m in \u001b[0;36minner_f\u001b[0;34m(*args, **kwargs)\u001b[0m\n\u001b[1;32m    618\u001b[0m             \u001b[0;32mfor\u001b[0m \u001b[0mk\u001b[0m\u001b[0;34m,\u001b[0m \u001b[0marg\u001b[0m \u001b[0;32min\u001b[0m \u001b[0mzip\u001b[0m\u001b[0;34m(\u001b[0m\u001b[0msig\u001b[0m\u001b[0;34m.\u001b[0m\u001b[0mparameters\u001b[0m\u001b[0;34m,\u001b[0m \u001b[0margs\u001b[0m\u001b[0;34m)\u001b[0m\u001b[0;34m:\u001b[0m\u001b[0;34m\u001b[0m\u001b[0;34m\u001b[0m\u001b[0m\n\u001b[1;32m    619\u001b[0m                 \u001b[0mkwargs\u001b[0m\u001b[0;34m[\u001b[0m\u001b[0mk\u001b[0m\u001b[0;34m]\u001b[0m \u001b[0;34m=\u001b[0m \u001b[0marg\u001b[0m\u001b[0;34m\u001b[0m\u001b[0;34m\u001b[0m\u001b[0m\n\u001b[0;32m--> 620\u001b[0;31m             \u001b[0;32mreturn\u001b[0m \u001b[0mfunc\u001b[0m\u001b[0;34m(\u001b[0m\u001b[0;34m**\u001b[0m\u001b[0mkwargs\u001b[0m\u001b[0;34m)\u001b[0m\u001b[0;34m\u001b[0m\u001b[0;34m\u001b[0m\u001b[0m\n\u001b[0m\u001b[1;32m    621\u001b[0m \u001b[0;34m\u001b[0m\u001b[0m\n\u001b[1;32m    622\u001b[0m         \u001b[0;32mreturn\u001b[0m \u001b[0minner_f\u001b[0m\u001b[0;34m\u001b[0m\u001b[0;34m\u001b[0m\u001b[0m\n",
            "\u001b[0;32m/usr/local/lib/python3.10/dist-packages/xgboost/sklearn.py\u001b[0m in \u001b[0;36mfit\u001b[0;34m(self, X, y, sample_weight, base_margin, eval_set, eval_metric, early_stopping_rounds, verbose, xgb_model, sample_weight_eval_set, base_margin_eval_set, feature_weights, callbacks)\u001b[0m\n\u001b[1;32m   1488\u001b[0m             )\n\u001b[1;32m   1489\u001b[0m \u001b[0;34m\u001b[0m\u001b[0m\n\u001b[0;32m-> 1490\u001b[0;31m             self._Booster = train(\n\u001b[0m\u001b[1;32m   1491\u001b[0m                 \u001b[0mparams\u001b[0m\u001b[0;34m,\u001b[0m\u001b[0;34m\u001b[0m\u001b[0;34m\u001b[0m\u001b[0m\n\u001b[1;32m   1492\u001b[0m                 \u001b[0mtrain_dmatrix\u001b[0m\u001b[0;34m,\u001b[0m\u001b[0;34m\u001b[0m\u001b[0;34m\u001b[0m\u001b[0m\n",
            "\u001b[0;32m/usr/local/lib/python3.10/dist-packages/xgboost/core.py\u001b[0m in \u001b[0;36minner_f\u001b[0;34m(*args, **kwargs)\u001b[0m\n\u001b[1;32m    618\u001b[0m             \u001b[0;32mfor\u001b[0m \u001b[0mk\u001b[0m\u001b[0;34m,\u001b[0m \u001b[0marg\u001b[0m \u001b[0;32min\u001b[0m \u001b[0mzip\u001b[0m\u001b[0;34m(\u001b[0m\u001b[0msig\u001b[0m\u001b[0;34m.\u001b[0m\u001b[0mparameters\u001b[0m\u001b[0;34m,\u001b[0m \u001b[0margs\u001b[0m\u001b[0;34m)\u001b[0m\u001b[0;34m:\u001b[0m\u001b[0;34m\u001b[0m\u001b[0;34m\u001b[0m\u001b[0m\n\u001b[1;32m    619\u001b[0m                 \u001b[0mkwargs\u001b[0m\u001b[0;34m[\u001b[0m\u001b[0mk\u001b[0m\u001b[0;34m]\u001b[0m \u001b[0;34m=\u001b[0m \u001b[0marg\u001b[0m\u001b[0;34m\u001b[0m\u001b[0;34m\u001b[0m\u001b[0m\n\u001b[0;32m--> 620\u001b[0;31m             \u001b[0;32mreturn\u001b[0m \u001b[0mfunc\u001b[0m\u001b[0;34m(\u001b[0m\u001b[0;34m**\u001b[0m\u001b[0mkwargs\u001b[0m\u001b[0;34m)\u001b[0m\u001b[0;34m\u001b[0m\u001b[0;34m\u001b[0m\u001b[0m\n\u001b[0m\u001b[1;32m    621\u001b[0m \u001b[0;34m\u001b[0m\u001b[0m\n\u001b[1;32m    622\u001b[0m         \u001b[0;32mreturn\u001b[0m \u001b[0minner_f\u001b[0m\u001b[0;34m\u001b[0m\u001b[0;34m\u001b[0m\u001b[0m\n",
            "\u001b[0;32m/usr/local/lib/python3.10/dist-packages/xgboost/training.py\u001b[0m in \u001b[0;36mtrain\u001b[0;34m(params, dtrain, num_boost_round, evals, obj, feval, maximize, early_stopping_rounds, evals_result, verbose_eval, xgb_model, callbacks, custom_metric)\u001b[0m\n\u001b[1;32m    183\u001b[0m         \u001b[0;32mif\u001b[0m \u001b[0mcb_container\u001b[0m\u001b[0;34m.\u001b[0m\u001b[0mbefore_iteration\u001b[0m\u001b[0;34m(\u001b[0m\u001b[0mbst\u001b[0m\u001b[0;34m,\u001b[0m \u001b[0mi\u001b[0m\u001b[0;34m,\u001b[0m \u001b[0mdtrain\u001b[0m\u001b[0;34m,\u001b[0m \u001b[0mevals\u001b[0m\u001b[0;34m)\u001b[0m\u001b[0;34m:\u001b[0m\u001b[0;34m\u001b[0m\u001b[0;34m\u001b[0m\u001b[0m\n\u001b[1;32m    184\u001b[0m             \u001b[0;32mbreak\u001b[0m\u001b[0;34m\u001b[0m\u001b[0;34m\u001b[0m\u001b[0m\n\u001b[0;32m--> 185\u001b[0;31m         \u001b[0mbst\u001b[0m\u001b[0;34m.\u001b[0m\u001b[0mupdate\u001b[0m\u001b[0;34m(\u001b[0m\u001b[0mdtrain\u001b[0m\u001b[0;34m,\u001b[0m \u001b[0mi\u001b[0m\u001b[0;34m,\u001b[0m \u001b[0mobj\u001b[0m\u001b[0;34m)\u001b[0m\u001b[0;34m\u001b[0m\u001b[0;34m\u001b[0m\u001b[0m\n\u001b[0m\u001b[1;32m    186\u001b[0m         \u001b[0;32mif\u001b[0m \u001b[0mcb_container\u001b[0m\u001b[0;34m.\u001b[0m\u001b[0mafter_iteration\u001b[0m\u001b[0;34m(\u001b[0m\u001b[0mbst\u001b[0m\u001b[0;34m,\u001b[0m \u001b[0mi\u001b[0m\u001b[0;34m,\u001b[0m \u001b[0mdtrain\u001b[0m\u001b[0;34m,\u001b[0m \u001b[0mevals\u001b[0m\u001b[0;34m)\u001b[0m\u001b[0;34m:\u001b[0m\u001b[0;34m\u001b[0m\u001b[0;34m\u001b[0m\u001b[0m\n\u001b[1;32m    187\u001b[0m             \u001b[0;32mbreak\u001b[0m\u001b[0;34m\u001b[0m\u001b[0;34m\u001b[0m\u001b[0m\n",
            "\u001b[0;32m/usr/local/lib/python3.10/dist-packages/xgboost/core.py\u001b[0m in \u001b[0;36mupdate\u001b[0;34m(self, dtrain, iteration, fobj)\u001b[0m\n\u001b[1;32m   1916\u001b[0m \u001b[0;34m\u001b[0m\u001b[0m\n\u001b[1;32m   1917\u001b[0m         \u001b[0;32mif\u001b[0m \u001b[0mfobj\u001b[0m \u001b[0;32mis\u001b[0m \u001b[0;32mNone\u001b[0m\u001b[0;34m:\u001b[0m\u001b[0;34m\u001b[0m\u001b[0;34m\u001b[0m\u001b[0m\n\u001b[0;32m-> 1918\u001b[0;31m             _check_call(_LIB.XGBoosterUpdateOneIter(self.handle,\n\u001b[0m\u001b[1;32m   1919\u001b[0m                                                     \u001b[0mctypes\u001b[0m\u001b[0;34m.\u001b[0m\u001b[0mc_int\u001b[0m\u001b[0;34m(\u001b[0m\u001b[0miteration\u001b[0m\u001b[0;34m)\u001b[0m\u001b[0;34m,\u001b[0m\u001b[0;34m\u001b[0m\u001b[0;34m\u001b[0m\u001b[0m\n\u001b[1;32m   1920\u001b[0m                                                     dtrain.handle))\n",
            "\u001b[0;31mKeyboardInterrupt\u001b[0m: "
          ]
        }
      ]
    },
    {
      "cell_type": "code",
      "source": [
        "dir(MRFO)"
      ],
      "metadata": {
        "colab": {
          "base_uri": "https://localhost:8080/"
        },
        "id": "l988woV5Qqc6",
        "outputId": "c1d360dc-1f58-4fd1-9d82-bdd7260de88d"
      },
      "execution_count": 47,
      "outputs": [
        {
          "output_type": "execute_result",
          "data": {
            "text/plain": [
              "['Optimizer',\n",
              " 'OriginalMRFO',\n",
              " 'WMQIMRFO',\n",
              " '__builtins__',\n",
              " '__cached__',\n",
              " '__doc__',\n",
              " '__file__',\n",
              " '__loader__',\n",
              " '__name__',\n",
              " '__package__',\n",
              " '__spec__',\n",
              " 'np']"
            ]
          },
          "metadata": {},
          "execution_count": 47
        }
      ]
    },
    {
      "cell_type": "markdown",
      "source": [
        "# s"
      ],
      "metadata": {
        "id": "AMaFBdKRlP9M"
      }
    },
    {
      "cell_type": "code",
      "source": [
        "X = X[0:400]\n",
        "Y = Y[0:400]"
      ],
      "metadata": {
        "id": "zHqDkluxSegx"
      },
      "execution_count": 52,
      "outputs": []
    },
    {
      "cell_type": "code",
      "source": [
        "def fitness_function(solution):\n",
        "    max_depth = solution[0]\n",
        "    n_estimator = solution[1]\n",
        "    learning_rate = solution[2]\n",
        "    clf = XGBClassifier(max_depth=int(max_depth),\n",
        "                    n_estimators=int(n_estimator),random_state=0,learning_rate=learning_rate,\n",
        "                    )\n",
        "    # Fit the model\n",
        "    clf.fit(X, Y)\n",
        "    # Make the predictions\n",
        "    y_ = clf.predict(x)\n",
        "    # cm = confusion_matrix(y,y_)\n",
        "    # km = cm[0][1]+cm[1][0]\n",
        "    return f1_score(y,y_,average='micro')\n",
        "\n",
        "problem = {\n",
        "    \"fit_func\": fitness_function,\n",
        "    \"lb\": [8, 100, 0.01],\n",
        "    \"ub\": [12, 1000, .9],\n",
        "    \"minmax\": \"max\",\n",
        "}"
      ],
      "metadata": {
        "id": "SHfhyjYOST-W"
      },
      "execution_count": 53,
      "outputs": []
    },
    {
      "cell_type": "code",
      "source": [
        "import time\n",
        "a = time.time()\n",
        "b = time.time()\n",
        "b-a"
      ],
      "metadata": {
        "colab": {
          "base_uri": "https://localhost:8080/"
        },
        "id": "HNeForWATgpJ",
        "outputId": "e3736da0-fc44-4d52-d4b8-53d2eccc3aad"
      },
      "execution_count": 62,
      "outputs": [
        {
          "output_type": "execute_result",
          "data": {
            "text/plain": [
              "5.316734313964844e-05"
            ]
          },
          "metadata": {},
          "execution_count": 62
        }
      ]
    },
    {
      "cell_type": "code",
      "source": [
        "    # model = MRFO.BaseMRFO(problem_dict1, epoch=10, pop_size=50)\n",
        "    # model = MSA.BaseMSA(problem_dict1, epoch=10, pop_size=50, n_best=5, partition=0.5, max_step_size=1.0)\n",
        "    # model = NMRA.BaseNMRA(problem_dict1, epoch=10, pop_size=50)\n",
        "    # model = NMRA.ImprovedNMRA(problem_dict1, epoch=10, pop_size=50, pb=0.75, pm=0.01)\n",
        "    # model = PFA.BasePFA(problem_dict1, epoch=10, pop_size=50)\n",
        "    # model = PSO.BasePSO(problem_dict1, epoch=100, pop_size=50, c1=2.05, c2=2.05, w_min=0.4, w_max=0.9)\n",
        "    # model = PSO.C_PSO(problem_dict1, epoch=10, pop_size=50, c1=2.05, c2=2.05, w_min=0.4, w_max=0.9)\n",
        "    # model = PSO.CL_PSO(problem_dict1, epoch=10, pop_size=50, c_local=1.2, w_min=0.4, w_max=0.9, max_flag=7)\n",
        "    # model = PSO.PPSO(problem_dict1, epoch=10, pop_size=50)\n",
        "    # model = PSO.HPSO_TVAC(problem_dict1, epoch=10, pop_size=50, ci=0.5, cf=0.2)\n",
        "    # model = SFO.BaseSFO(problem_dict1, epoch=10, pop_size=50, pp=0.1, AP=4, epxilon=0.0001)\n",
        "    # model = SFO.ImprovedSFO(problem_dict1, epoch=10, pop_size=50, pp=0.1)\n",
        "    # model = SHO.BaseSHO(problem_dict1, epoch=10, pop_size=50, h_factor=1, rand_v=(0, 2), N_tried=30)\n",
        "    # model = SLO.BaseSLO(problem_dict1, epoch=10, pop_size=50)\n",
        "    # model = SLO.ModifiedSLO(problem_dict1, epoch=10, pop_size=50)\n",
        "    # model = SLO.ISLO(problem_dict1, epoch=10, pop_size=50, c1=1.2, c2=1.2)\n",
        "    # model = SRSR.BaseSRSR(problem_dict1, epoch=10, pop_size=50)\n",
        "    # model = SSA.OriginalSSA(problem_dict1, epoch=10, pop_size=50, ST=0.8, PD=0.2, SD=0.1)\n",
        "    # model = SSA.BaseSSA(problem_dict1, epoch=10, pop_size=50, ST=0.8, PD=0.2, SD=0.1)\n",
        "    # model = SSO.BaseSSO(problem, epoch=10, pop_size=50)\n",
        "    # model = SSpiderA.BaseSSpiderA(problem_dict1, epoch=10, pop_size=50, r_a=1, p_c=0.7, p_m=0.1)\n",
        "    # model = SSpiderO.BaseSSpiderO(problem_dict1, epoch=10, pop_size=50, fp=(0.65, 0.9))\n",
        "    # model = WOA.BaseWOA(problem_dict1, epoch=10, pop_size=50)\n",
        "    # model = WOA.HI_WOA(problem_dict1, epoch=10, pop_size=50, feedback_max=5)"
      ],
      "metadata": {
        "id": "pWpwJ-9MZda7"
      },
      "execution_count": null,
      "outputs": []
    },
    {
      "cell_type": "code",
      "source": [
        "    SMA.BaseSMA,\n",
        "    # MRFO.OriginalMRFO,\n",
        "    AEO.EnhancedAEO,\n",
        "    SMA.OriginalSMA,\n",
        "    # VCS.OriginalVCS,"
      ],
      "metadata": {
        "id": "OgRhE_B0YAf5"
      },
      "execution_count": null,
      "outputs": []
    },
    {
      "cell_type": "code",
      "source": [
        "mlpy = [\n",
        "    SMA.BaseSMA,\n",
        "    AEO.EnhancedAEO,\n",
        "    SMA.OriginalSMA,\n",
        "    ES.LevyES,\n",
        "    DE.JADE,\n",
        "    FPA.OriginalFPA,\n",
        "    BSO.ImprovedBSO,\n",
        "    FBIO.OriginalFBIO,\n",
        "    QSA.OriginalQSA,\n",
        "    QSA.ImprovedQSA,\n",
        "    SARO.OriginalSARO,\n",
        "    TLO.OriginalTLO,\n",
        "    AOA.OriginalAOA,\n",
        "    CGO.OriginalCGO,\n",
        "    GBO.OriginalGBO,\n",
        "    PSS.OriginalPSS,\n",
        "    SCA.OriginalSCA,\n",
        "    ArchOA.OriginalArchOA,\n",
        "    TWO.EnhancedTWO,\n",
        "    AEO.EnhancedAEO ,\n",
        "    AEO.OriginalAEO,\n",
        "    TWO.LevyTWO,\n",
        "    MVO.OriginalMVO,\n",
        "    EO.AdaptiveEO,\n",
        "    EO.ModifiedEO,\n",
        "    GCO.OriginalGCO,\n",
        "    ALO.OriginalALO,\n",
        "    AO.OriginalAO,\n",
        "    BA.ModifiedBA,\n",
        "    BA.OriginalBA,\n",
        "    BFO.OriginalBFO,\n",
        "    FOA.WhaleFOA,\n",
        "    JA.OriginalJA,\n",
        "    FOA.OriginalFOA\n",
        "]"
      ],
      "metadata": {
        "id": "-bg1TRxnUL2D"
      },
      "execution_count": 88,
      "outputs": []
    },
    {
      "cell_type": "code",
      "source": [
        "k = [FOA.WhaleFOA,DE.JADE,AO.OriginalAO]"
      ],
      "metadata": {
        "id": "BExmdFBxlCfg"
      },
      "execution_count": 91,
      "outputs": []
    },
    {
      "cell_type": "code",
      "source": [
        "n = []\n",
        "p = []\n",
        "for s in mlpy:\n",
        "    epoch = 10\n",
        "    try:\n",
        "        print('started')\n",
        "        # p = np.zeros((epoch,5))\n",
        "        a = time.time()\n",
        "        model = s(epoch=epoch, pop_size=10)\n",
        "        best_position, best_fitness = model.solve(problem)\n",
        "        b = time.time()\n",
        "        lstm = model.history.list_current_best\n",
        "        i = lstm[-1]\n",
        "        n.append(model.__class__.__name__)\n",
        "        p.append([int(i[0][0]),int(i[0][1]),i[0][2],i[1][0],i[1][1][0],(b-a)/10])\n",
        "        print(n,p)\n",
        "    except:print('went wrong')\n"
      ],
      "metadata": {
        "colab": {
          "base_uri": "https://localhost:8080/"
        },
        "id": "a6fSz3fGScNA",
        "outputId": "8615d7d8-6e77-45ce-c186-24ad3588c31f"
      },
      "execution_count": 77,
      "outputs": [
        {
          "output_type": "stream",
          "name": "stdout",
          "text": [
            "started\n"
          ]
        },
        {
          "output_type": "stream",
          "name": "stderr",
          "text": [
            "INFO:mealpy.evolutionary_based.ES.LevyES:Solving single objective optimization problem.\n",
            "INFO:mealpy.evolutionary_based.ES.LevyES:>Problem: P, Epoch: 1, Current best: 0.7225609756097561, Global best: 0.75, Runtime: 2.44658 seconds\n",
            "INFO:mealpy.evolutionary_based.ES.LevyES:>Problem: P, Epoch: 2, Current best: 0.7179878048780488, Global best: 0.75, Runtime: 2.89484 seconds\n",
            "INFO:mealpy.evolutionary_based.ES.LevyES:>Problem: P, Epoch: 3, Current best: 0.7149390243902439, Global best: 0.75, Runtime: 6.37571 seconds\n",
            "INFO:mealpy.evolutionary_based.ES.LevyES:>Problem: P, Epoch: 4, Current best: 0.7149390243902439, Global best: 0.75, Runtime: 3.27558 seconds\n",
            "INFO:mealpy.evolutionary_based.ES.LevyES:>Problem: P, Epoch: 5, Current best: 0.7134146341463414, Global best: 0.75, Runtime: 4.46246 seconds\n",
            "INFO:mealpy.evolutionary_based.ES.LevyES:>Problem: P, Epoch: 6, Current best: 0.7103658536585364, Global best: 0.75, Runtime: 5.77811 seconds\n",
            "INFO:mealpy.evolutionary_based.ES.LevyES:>Problem: P, Epoch: 7, Current best: 0.7103658536585364, Global best: 0.75, Runtime: 2.07027 seconds\n",
            "INFO:mealpy.evolutionary_based.ES.LevyES:>Problem: P, Epoch: 8, Current best: 0.7103658536585364, Global best: 0.75, Runtime: 1.93656 seconds\n",
            "INFO:mealpy.evolutionary_based.ES.LevyES:>Problem: P, Epoch: 9, Current best: 0.7088414634146342, Global best: 0.75, Runtime: 2.50286 seconds\n",
            "INFO:mealpy.evolutionary_based.ES.LevyES:>Problem: P, Epoch: 10, Current best: 0.7088414634146342, Global best: 0.75, Runtime: 2.37278 seconds\n",
            "INFO:mealpy.evolutionary_based.DE.JADE:Solving single objective optimization problem.\n"
          ]
        },
        {
          "output_type": "stream",
          "name": "stdout",
          "text": [
            "['LevyES'] [[9, 102, 0.9, 0.7088414634146342, 0.7088414634146342, 3.683679962158203]]\n",
            "started\n"
          ]
        },
        {
          "output_type": "stream",
          "name": "stderr",
          "text": [
            "INFO:mealpy.evolutionary_based.DE.JADE:>Problem: P, Epoch: 1, Current best: 0.7439024390243903, Global best: 0.7439024390243903, Runtime: 1.72962 seconds\n",
            "INFO:mealpy.evolutionary_based.DE.JADE:>Problem: P, Epoch: 2, Current best: 0.7439024390243903, Global best: 0.7439024390243903, Runtime: 1.35508 seconds\n",
            "INFO:mealpy.evolutionary_based.DE.JADE:>Problem: P, Epoch: 3, Current best: 0.7439024390243903, Global best: 0.7439024390243903, Runtime: 1.47699 seconds\n",
            "INFO:mealpy.evolutionary_based.DE.JADE:>Problem: P, Epoch: 4, Current best: 0.7454268292682927, Global best: 0.7454268292682927, Runtime: 1.67256 seconds\n",
            "INFO:mealpy.evolutionary_based.DE.JADE:>Problem: P, Epoch: 5, Current best: 0.7454268292682927, Global best: 0.7454268292682927, Runtime: 5.17198 seconds\n",
            "INFO:mealpy.evolutionary_based.DE.JADE:>Problem: P, Epoch: 6, Current best: 0.75, Global best: 0.75, Runtime: 1.62306 seconds\n",
            "INFO:mealpy.evolutionary_based.DE.JADE:>Problem: P, Epoch: 7, Current best: 0.75, Global best: 0.75, Runtime: 1.80982 seconds\n",
            "INFO:mealpy.evolutionary_based.DE.JADE:>Problem: P, Epoch: 8, Current best: 0.75, Global best: 0.75, Runtime: 1.61208 seconds\n",
            "INFO:mealpy.evolutionary_based.DE.JADE:>Problem: P, Epoch: 9, Current best: 0.7560975609756099, Global best: 0.7560975609756099, Runtime: 1.63424 seconds\n",
            "INFO:mealpy.evolutionary_based.DE.JADE:>Problem: P, Epoch: 10, Current best: 0.7560975609756099, Global best: 0.7560975609756099, Runtime: 2.06478 seconds\n"
          ]
        },
        {
          "output_type": "stream",
          "name": "stdout",
          "text": [
            "['LevyES', 'JADE'] [[9, 102, 0.9, 0.7088414634146342, 0.7088414634146342, 3.683679962158203], [11, 100, 0.10379182419578181, 0.7560975609756099, 0.7560975609756099, 2.76029109954834]]\n",
            "started\n"
          ]
        },
        {
          "output_type": "stream",
          "name": "stderr",
          "text": [
            "INFO:mealpy.evolutionary_based.FPA.OriginalFPA:Solving single objective optimization problem.\n",
            "INFO:mealpy.evolutionary_based.FPA.OriginalFPA:>Problem: P, Epoch: 1, Current best: 0.746951219512195, Global best: 0.746951219512195, Runtime: 3.05403 seconds\n",
            "INFO:mealpy.evolutionary_based.FPA.OriginalFPA:>Problem: P, Epoch: 2, Current best: 0.746951219512195, Global best: 0.746951219512195, Runtime: 10.34158 seconds\n",
            "INFO:mealpy.evolutionary_based.FPA.OriginalFPA:>Problem: P, Epoch: 3, Current best: 0.746951219512195, Global best: 0.746951219512195, Runtime: 3.75750 seconds\n",
            "INFO:mealpy.evolutionary_based.FPA.OriginalFPA:>Problem: P, Epoch: 4, Current best: 0.746951219512195, Global best: 0.746951219512195, Runtime: 3.88045 seconds\n",
            "INFO:mealpy.evolutionary_based.FPA.OriginalFPA:>Problem: P, Epoch: 5, Current best: 0.746951219512195, Global best: 0.746951219512195, Runtime: 6.12746 seconds\n",
            "INFO:mealpy.evolutionary_based.FPA.OriginalFPA:>Problem: P, Epoch: 6, Current best: 0.746951219512195, Global best: 0.746951219512195, Runtime: 3.54618 seconds\n",
            "INFO:mealpy.evolutionary_based.FPA.OriginalFPA:>Problem: P, Epoch: 7, Current best: 0.746951219512195, Global best: 0.746951219512195, Runtime: 7.45883 seconds\n",
            "INFO:mealpy.evolutionary_based.FPA.OriginalFPA:>Problem: P, Epoch: 8, Current best: 0.75, Global best: 0.75, Runtime: 4.44968 seconds\n",
            "INFO:mealpy.evolutionary_based.FPA.OriginalFPA:>Problem: P, Epoch: 9, Current best: 0.75, Global best: 0.75, Runtime: 4.58893 seconds\n",
            "INFO:mealpy.evolutionary_based.FPA.OriginalFPA:>Problem: P, Epoch: 10, Current best: 0.75, Global best: 0.75, Runtime: 8.20246 seconds\n"
          ]
        },
        {
          "output_type": "stream",
          "name": "stdout",
          "text": [
            "['LevyES', 'JADE', 'OriginalFPA'] [[9, 102, 0.9, 0.7088414634146342, 0.7088414634146342, 3.683679962158203], [11, 100, 0.10379182419578181, 0.7560975609756099, 0.7560975609756099, 2.76029109954834], [9, 1000, 0.011191866902417233, 0.75, 0.75, 6.135713887214661]]\n",
            "started\n",
            "went wrong\n",
            "started\n"
          ]
        },
        {
          "output_type": "stream",
          "name": "stderr",
          "text": [
            "INFO:mealpy.human_based.FBIO.OriginalFBIO:Solving single objective optimization problem.\n",
            "INFO:mealpy.human_based.FBIO.OriginalFBIO:>Problem: P, Epoch: 1, Current best: 0.7530487804878048, Global best: 0.7530487804878048, Runtime: 13.73323 seconds\n",
            "INFO:mealpy.human_based.FBIO.OriginalFBIO:>Problem: P, Epoch: 2, Current best: 0.7560975609756099, Global best: 0.7560975609756099, Runtime: 13.11515 seconds\n",
            "INFO:mealpy.human_based.FBIO.OriginalFBIO:>Problem: P, Epoch: 3, Current best: 0.7591463414634145, Global best: 0.7591463414634145, Runtime: 12.06142 seconds\n",
            "INFO:mealpy.human_based.FBIO.OriginalFBIO:>Problem: P, Epoch: 4, Current best: 0.7591463414634145, Global best: 0.7591463414634145, Runtime: 12.07109 seconds\n",
            "INFO:mealpy.human_based.FBIO.OriginalFBIO:>Problem: P, Epoch: 5, Current best: 0.7591463414634145, Global best: 0.7591463414634145, Runtime: 10.13308 seconds\n",
            "INFO:mealpy.human_based.FBIO.OriginalFBIO:>Problem: P, Epoch: 6, Current best: 0.7591463414634145, Global best: 0.7591463414634145, Runtime: 8.07173 seconds\n",
            "INFO:mealpy.human_based.FBIO.OriginalFBIO:>Problem: P, Epoch: 7, Current best: 0.7591463414634145, Global best: 0.7591463414634145, Runtime: 11.22350 seconds\n",
            "INFO:mealpy.human_based.FBIO.OriginalFBIO:>Problem: P, Epoch: 8, Current best: 0.7652439024390245, Global best: 0.7652439024390245, Runtime: 10.58121 seconds\n",
            "INFO:mealpy.human_based.FBIO.OriginalFBIO:>Problem: P, Epoch: 9, Current best: 0.7652439024390245, Global best: 0.7652439024390245, Runtime: 10.20012 seconds\n",
            "INFO:mealpy.human_based.FBIO.OriginalFBIO:>Problem: P, Epoch: 10, Current best: 0.7652439024390245, Global best: 0.7652439024390245, Runtime: 7.79999 seconds\n"
          ]
        },
        {
          "output_type": "stream",
          "name": "stdout",
          "text": [
            "['LevyES', 'JADE', 'OriginalFPA', 'OriginalFBIO'] [[9, 102, 0.9, 0.7088414634146342, 0.7088414634146342, 3.683679962158203], [11, 100, 0.10379182419578181, 0.7560975609756099, 0.7560975609756099, 2.76029109954834], [9, 1000, 0.011191866902417233, 0.75, 0.75, 6.135713887214661], [8, 105, 0.06788570363665233, 0.7652439024390245, 0.7652439024390245, 11.17553448677063]]\n",
            "started\n"
          ]
        },
        {
          "output_type": "stream",
          "name": "stderr",
          "text": [
            "INFO:mealpy.human_based.QSA.OriginalQSA:Solving single objective optimization problem.\n",
            "INFO:mealpy.human_based.QSA.OriginalQSA:>Problem: P, Epoch: 1, Current best: 0.7530487804878048, Global best: 0.7530487804878048, Runtime: 17.55924 seconds\n",
            "INFO:mealpy.human_based.QSA.OriginalQSA:>Problem: P, Epoch: 2, Current best: 0.7560975609756099, Global best: 0.7560975609756099, Runtime: 26.31818 seconds\n",
            "INFO:mealpy.human_based.QSA.OriginalQSA:>Problem: P, Epoch: 3, Current best: 0.7560975609756099, Global best: 0.7560975609756099, Runtime: 25.53671 seconds\n",
            "INFO:mealpy.human_based.QSA.OriginalQSA:>Problem: P, Epoch: 4, Current best: 0.7560975609756099, Global best: 0.7560975609756099, Runtime: 26.04875 seconds\n",
            "INFO:mealpy.human_based.QSA.OriginalQSA:>Problem: P, Epoch: 5, Current best: 0.7560975609756099, Global best: 0.7560975609756099, Runtime: 38.76448 seconds\n",
            "INFO:mealpy.human_based.QSA.OriginalQSA:>Problem: P, Epoch: 6, Current best: 0.7560975609756099, Global best: 0.7560975609756099, Runtime: 30.17642 seconds\n",
            "INFO:mealpy.human_based.QSA.OriginalQSA:>Problem: P, Epoch: 7, Current best: 0.7560975609756099, Global best: 0.7560975609756099, Runtime: 32.01118 seconds\n",
            "INFO:mealpy.human_based.QSA.OriginalQSA:>Problem: P, Epoch: 8, Current best: 0.7576219512195121, Global best: 0.7576219512195121, Runtime: 32.53543 seconds\n",
            "INFO:mealpy.human_based.QSA.OriginalQSA:>Problem: P, Epoch: 9, Current best: 0.7576219512195121, Global best: 0.7576219512195121, Runtime: 28.93101 seconds\n",
            "INFO:mealpy.human_based.QSA.OriginalQSA:>Problem: P, Epoch: 10, Current best: 0.7576219512195121, Global best: 0.7576219512195121, Runtime: 28.30508 seconds\n",
            "INFO:mealpy.human_based.QSA.ImprovedQSA:Solving single objective optimization problem.\n"
          ]
        },
        {
          "output_type": "stream",
          "name": "stdout",
          "text": [
            "['LevyES', 'JADE', 'OriginalFPA', 'OriginalFBIO', 'OriginalQSA'] [[9, 102, 0.9, 0.7088414634146342, 0.7088414634146342, 3.683679962158203], [11, 100, 0.10379182419578181, 0.7560975609756099, 0.7560975609756099, 2.76029109954834], [9, 1000, 0.011191866902417233, 0.75, 0.75, 6.135713887214661], [8, 105, 0.06788570363665233, 0.7652439024390245, 0.7652439024390245, 11.17553448677063], [10, 1000, 0.016051223033985762, 0.7576219512195121, 0.7576219512195121, 29.175256085395812]]\n",
            "started\n"
          ]
        },
        {
          "output_type": "stream",
          "name": "stderr",
          "text": [
            "INFO:mealpy.human_based.QSA.ImprovedQSA:>Problem: P, Epoch: 1, Current best: 0.7560975609756099, Global best: 0.7560975609756099, Runtime: 20.97763 seconds\n",
            "INFO:mealpy.human_based.QSA.ImprovedQSA:>Problem: P, Epoch: 2, Current best: 0.7560975609756099, Global best: 0.7560975609756099, Runtime: 20.25818 seconds\n",
            "INFO:mealpy.human_based.QSA.ImprovedQSA:>Problem: P, Epoch: 3, Current best: 0.7560975609756099, Global best: 0.7560975609756099, Runtime: 19.45503 seconds\n",
            "INFO:mealpy.human_based.QSA.ImprovedQSA:>Problem: P, Epoch: 4, Current best: 0.7576219512195121, Global best: 0.7576219512195121, Runtime: 15.13420 seconds\n",
            "INFO:mealpy.human_based.QSA.ImprovedQSA:>Problem: P, Epoch: 5, Current best: 0.7576219512195121, Global best: 0.7576219512195121, Runtime: 13.70653 seconds\n",
            "INFO:mealpy.human_based.QSA.ImprovedQSA:>Problem: P, Epoch: 6, Current best: 0.7576219512195121, Global best: 0.7576219512195121, Runtime: 12.70509 seconds\n",
            "INFO:mealpy.human_based.QSA.ImprovedQSA:>Problem: P, Epoch: 7, Current best: 0.7576219512195121, Global best: 0.7576219512195121, Runtime: 12.46421 seconds\n",
            "INFO:mealpy.human_based.QSA.ImprovedQSA:>Problem: P, Epoch: 8, Current best: 0.7576219512195121, Global best: 0.7576219512195121, Runtime: 12.99230 seconds\n",
            "INFO:mealpy.human_based.QSA.ImprovedQSA:>Problem: P, Epoch: 9, Current best: 0.7576219512195121, Global best: 0.7576219512195121, Runtime: 13.15470 seconds\n",
            "INFO:mealpy.human_based.QSA.ImprovedQSA:>Problem: P, Epoch: 10, Current best: 0.760670731707317, Global best: 0.760670731707317, Runtime: 13.07351 seconds\n"
          ]
        },
        {
          "output_type": "stream",
          "name": "stdout",
          "text": [
            "['LevyES', 'JADE', 'OriginalFPA', 'OriginalFBIO', 'OriginalQSA', 'ImprovedQSA'] [[9, 102, 0.9, 0.7088414634146342, 0.7088414634146342, 3.683679962158203], [11, 100, 0.10379182419578181, 0.7560975609756099, 0.7560975609756099, 2.76029109954834], [9, 1000, 0.011191866902417233, 0.75, 0.75, 6.135713887214661], [8, 105, 0.06788570363665233, 0.7652439024390245, 0.7652439024390245, 11.17553448677063], [10, 1000, 0.016051223033985762, 0.7576219512195121, 0.7576219512195121, 29.175256085395812], [8, 100, 0.18835955621218572, 0.760670731707317, 0.760670731707317, 15.659284162521363]]\n",
            "started\n",
            "went wrong\n",
            "started\n"
          ]
        },
        {
          "output_type": "stream",
          "name": "stderr",
          "text": [
            "INFO:mealpy.human_based.TLO.OriginalTLO:Solving single objective optimization problem.\n",
            "INFO:mealpy.human_based.TLO.OriginalTLO:>Problem: P, Epoch: 1, Current best: 0.7408536585365852, Global best: 0.7408536585365852, Runtime: 4.25236 seconds\n",
            "INFO:mealpy.human_based.TLO.OriginalTLO:>Problem: P, Epoch: 2, Current best: 0.75, Global best: 0.75, Runtime: 8.85333 seconds\n",
            "INFO:mealpy.human_based.TLO.OriginalTLO:>Problem: P, Epoch: 3, Current best: 0.7545731707317073, Global best: 0.7545731707317073, Runtime: 5.23286 seconds\n",
            "INFO:mealpy.human_based.TLO.OriginalTLO:>Problem: P, Epoch: 4, Current best: 0.7545731707317073, Global best: 0.7545731707317073, Runtime: 7.70217 seconds\n",
            "INFO:mealpy.human_based.TLO.OriginalTLO:>Problem: P, Epoch: 5, Current best: 0.7545731707317073, Global best: 0.7545731707317073, Runtime: 4.31404 seconds\n",
            "INFO:mealpy.human_based.TLO.OriginalTLO:>Problem: P, Epoch: 6, Current best: 0.7545731707317073, Global best: 0.7545731707317073, Runtime: 6.77642 seconds\n",
            "INFO:mealpy.human_based.TLO.OriginalTLO:>Problem: P, Epoch: 7, Current best: 0.7545731707317073, Global best: 0.7545731707317073, Runtime: 3.64898 seconds\n",
            "INFO:mealpy.human_based.TLO.OriginalTLO:>Problem: P, Epoch: 8, Current best: 0.7545731707317073, Global best: 0.7545731707317073, Runtime: 3.69792 seconds\n",
            "INFO:mealpy.human_based.TLO.OriginalTLO:>Problem: P, Epoch: 9, Current best: 0.7545731707317073, Global best: 0.7545731707317073, Runtime: 6.62804 seconds\n",
            "INFO:mealpy.human_based.TLO.OriginalTLO:>Problem: P, Epoch: 10, Current best: 0.7545731707317073, Global best: 0.7545731707317073, Runtime: 3.70272 seconds\n"
          ]
        },
        {
          "output_type": "stream",
          "name": "stdout",
          "text": [
            "['LevyES', 'JADE', 'OriginalFPA', 'OriginalFBIO', 'OriginalQSA', 'ImprovedQSA', 'OriginalTLO'] [[9, 102, 0.9, 0.7088414634146342, 0.7088414634146342, 3.683679962158203], [11, 100, 0.10379182419578181, 0.7560975609756099, 0.7560975609756099, 2.76029109954834], [9, 1000, 0.011191866902417233, 0.75, 0.75, 6.135713887214661], [8, 105, 0.06788570363665233, 0.7652439024390245, 0.7652439024390245, 11.17553448677063], [10, 1000, 0.016051223033985762, 0.7576219512195121, 0.7576219512195121, 29.175256085395812], [8, 100, 0.18835955621218572, 0.760670731707317, 0.760670731707317, 15.659284162521363], [8, 100, 0.085784144603691, 0.7545731707317073, 0.7545731707317073, 5.743708515167237]]\n",
            "started\n"
          ]
        },
        {
          "output_type": "stream",
          "name": "stderr",
          "text": [
            "INFO:mealpy.math_based.AOA.OriginalAOA:Solving single objective optimization problem.\n",
            "INFO:mealpy.math_based.AOA.OriginalAOA:>Problem: P, Epoch: 1, Current best: 0.75, Global best: 0.75, Runtime: 7.93351 seconds\n",
            "INFO:mealpy.math_based.AOA.OriginalAOA:>Problem: P, Epoch: 2, Current best: 0.7530487804878048, Global best: 0.7530487804878048, Runtime: 11.70375 seconds\n",
            "INFO:mealpy.math_based.AOA.OriginalAOA:>Problem: P, Epoch: 3, Current best: 0.7530487804878048, Global best: 0.7530487804878048, Runtime: 9.90179 seconds\n",
            "INFO:mealpy.math_based.AOA.OriginalAOA:>Problem: P, Epoch: 4, Current best: 0.7530487804878048, Global best: 0.7530487804878048, Runtime: 10.24668 seconds\n",
            "INFO:mealpy.math_based.AOA.OriginalAOA:>Problem: P, Epoch: 5, Current best: 0.7530487804878048, Global best: 0.7530487804878048, Runtime: 12.26461 seconds\n",
            "INFO:mealpy.math_based.AOA.OriginalAOA:>Problem: P, Epoch: 6, Current best: 0.7530487804878048, Global best: 0.7530487804878048, Runtime: 11.12959 seconds\n",
            "INFO:mealpy.math_based.AOA.OriginalAOA:>Problem: P, Epoch: 7, Current best: 0.7530487804878048, Global best: 0.7530487804878048, Runtime: 11.64067 seconds\n",
            "INFO:mealpy.math_based.AOA.OriginalAOA:>Problem: P, Epoch: 8, Current best: 0.7530487804878048, Global best: 0.7530487804878048, Runtime: 11.72790 seconds\n",
            "INFO:mealpy.math_based.AOA.OriginalAOA:>Problem: P, Epoch: 9, Current best: 0.7530487804878048, Global best: 0.7530487804878048, Runtime: 8.91111 seconds\n",
            "INFO:mealpy.math_based.AOA.OriginalAOA:>Problem: P, Epoch: 10, Current best: 0.7530487804878048, Global best: 0.7530487804878048, Runtime: 12.79436 seconds\n"
          ]
        },
        {
          "output_type": "stream",
          "name": "stdout",
          "text": [
            "['LevyES', 'JADE', 'OriginalFPA', 'OriginalFBIO', 'OriginalQSA', 'ImprovedQSA', 'OriginalTLO', 'OriginalAOA'] [[9, 102, 0.9, 0.7088414634146342, 0.7088414634146342, 3.683679962158203], [11, 100, 0.10379182419578181, 0.7560975609756099, 0.7560975609756099, 2.76029109954834], [9, 1000, 0.011191866902417233, 0.75, 0.75, 6.135713887214661], [8, 105, 0.06788570363665233, 0.7652439024390245, 0.7652439024390245, 11.17553448677063], [10, 1000, 0.016051223033985762, 0.7576219512195121, 0.7576219512195121, 29.175256085395812], [8, 100, 0.18835955621218572, 0.760670731707317, 0.760670731707317, 15.659284162521363], [8, 100, 0.085784144603691, 0.7545731707317073, 0.7545731707317073, 5.743708515167237], [12, 966, 0.01, 0.7530487804878048, 0.7530487804878048, 11.049904227256775]]\n",
            "started\n"
          ]
        },
        {
          "output_type": "stream",
          "name": "stderr",
          "text": [
            "INFO:mealpy.math_based.CGO.OriginalCGO:Solving single objective optimization problem.\n",
            "INFO:mealpy.math_based.CGO.OriginalCGO:>Problem: P, Epoch: 1, Current best: 0.746951219512195, Global best: 0.746951219512195, Runtime: 15.26428 seconds\n",
            "INFO:mealpy.math_based.CGO.OriginalCGO:>Problem: P, Epoch: 2, Current best: 0.7484756097560976, Global best: 0.7484756097560976, Runtime: 19.16625 seconds\n",
            "INFO:mealpy.math_based.CGO.OriginalCGO:>Problem: P, Epoch: 3, Current best: 0.7515243902439024, Global best: 0.7515243902439024, Runtime: 22.71378 seconds\n",
            "INFO:mealpy.math_based.CGO.OriginalCGO:>Problem: P, Epoch: 4, Current best: 0.7530487804878048, Global best: 0.7530487804878048, Runtime: 27.29147 seconds\n",
            "INFO:mealpy.math_based.CGO.OriginalCGO:>Problem: P, Epoch: 5, Current best: 0.7530487804878048, Global best: 0.7530487804878048, Runtime: 29.91399 seconds\n",
            "INFO:mealpy.math_based.CGO.OriginalCGO:>Problem: P, Epoch: 6, Current best: 0.7560975609756099, Global best: 0.7560975609756099, Runtime: 51.63362 seconds\n",
            "INFO:mealpy.math_based.CGO.OriginalCGO:>Problem: P, Epoch: 7, Current best: 0.7560975609756099, Global best: 0.7560975609756099, Runtime: 27.95169 seconds\n",
            "INFO:mealpy.math_based.CGO.OriginalCGO:>Problem: P, Epoch: 8, Current best: 0.7560975609756099, Global best: 0.7560975609756099, Runtime: 29.12404 seconds\n",
            "INFO:mealpy.math_based.CGO.OriginalCGO:>Problem: P, Epoch: 9, Current best: 0.7560975609756099, Global best: 0.7560975609756099, Runtime: 33.04153 seconds\n",
            "INFO:mealpy.math_based.CGO.OriginalCGO:>Problem: P, Epoch: 10, Current best: 0.7560975609756099, Global best: 0.7560975609756099, Runtime: 29.17974 seconds\n"
          ]
        },
        {
          "output_type": "stream",
          "name": "stdout",
          "text": [
            "['LevyES', 'JADE', 'OriginalFPA', 'OriginalFBIO', 'OriginalQSA', 'ImprovedQSA', 'OriginalTLO', 'OriginalAOA', 'OriginalCGO'] [[9, 102, 0.9, 0.7088414634146342, 0.7088414634146342, 3.683679962158203], [11, 100, 0.10379182419578181, 0.7560975609756099, 0.7560975609756099, 2.76029109954834], [9, 1000, 0.011191866902417233, 0.75, 0.75, 6.135713887214661], [8, 105, 0.06788570363665233, 0.7652439024390245, 0.7652439024390245, 11.17553448677063], [10, 1000, 0.016051223033985762, 0.7576219512195121, 0.7576219512195121, 29.175256085395812], [8, 100, 0.18835955621218572, 0.760670731707317, 0.760670731707317, 15.659284162521363], [8, 100, 0.085784144603691, 0.7545731707317073, 0.7545731707317073, 5.743708515167237], [12, 966, 0.01, 0.7530487804878048, 0.7530487804878048, 11.049904227256775], [12, 749, 0.020154216677948894, 0.7560975609756099, 0.7560975609756099, 29.137100100517273]]\n",
            "started\n"
          ]
        },
        {
          "output_type": "stream",
          "name": "stderr",
          "text": [
            "INFO:mealpy.math_based.GBO.OriginalGBO:Solving single objective optimization problem.\n",
            "INFO:mealpy.math_based.GBO.OriginalGBO:>Problem: P, Epoch: 1, Current best: 0.7530487804878048, Global best: 0.7530487804878048, Runtime: 7.13696 seconds\n",
            "INFO:mealpy.math_based.GBO.OriginalGBO:>Problem: P, Epoch: 2, Current best: 0.7530487804878048, Global best: 0.7530487804878048, Runtime: 4.83680 seconds\n",
            "INFO:mealpy.math_based.GBO.OriginalGBO:>Problem: P, Epoch: 3, Current best: 0.7545731707317073, Global best: 0.7545731707317073, Runtime: 3.45639 seconds\n",
            "INFO:mealpy.math_based.GBO.OriginalGBO:>Problem: P, Epoch: 4, Current best: 0.7545731707317073, Global best: 0.7545731707317073, Runtime: 6.03077 seconds\n",
            "INFO:mealpy.math_based.GBO.OriginalGBO:>Problem: P, Epoch: 5, Current best: 0.7545731707317073, Global best: 0.7545731707317073, Runtime: 1.57769 seconds\n",
            "INFO:mealpy.math_based.GBO.OriginalGBO:>Problem: P, Epoch: 6, Current best: 0.7545731707317073, Global best: 0.7545731707317073, Runtime: 5.48139 seconds\n",
            "INFO:mealpy.math_based.GBO.OriginalGBO:>Problem: P, Epoch: 7, Current best: 0.7545731707317073, Global best: 0.7545731707317073, Runtime: 7.06536 seconds\n",
            "INFO:mealpy.math_based.GBO.OriginalGBO:>Problem: P, Epoch: 8, Current best: 0.7621951219512195, Global best: 0.7621951219512195, Runtime: 2.56734 seconds\n",
            "INFO:mealpy.math_based.GBO.OriginalGBO:>Problem: P, Epoch: 9, Current best: 0.7621951219512195, Global best: 0.7621951219512195, Runtime: 3.66372 seconds\n",
            "INFO:mealpy.math_based.GBO.OriginalGBO:>Problem: P, Epoch: 10, Current best: 0.7621951219512195, Global best: 0.7621951219512195, Runtime: 7.76801 seconds\n"
          ]
        },
        {
          "output_type": "stream",
          "name": "stdout",
          "text": [
            "['LevyES', 'JADE', 'OriginalFPA', 'OriginalFBIO', 'OriginalQSA', 'ImprovedQSA', 'OriginalTLO', 'OriginalAOA', 'OriginalCGO', 'OriginalGBO'] [[9, 102, 0.9, 0.7088414634146342, 0.7088414634146342, 3.683679962158203], [11, 100, 0.10379182419578181, 0.7560975609756099, 0.7560975609756099, 2.76029109954834], [9, 1000, 0.011191866902417233, 0.75, 0.75, 6.135713887214661], [8, 105, 0.06788570363665233, 0.7652439024390245, 0.7652439024390245, 11.17553448677063], [10, 1000, 0.016051223033985762, 0.7576219512195121, 0.7576219512195121, 29.175256085395812], [8, 100, 0.18835955621218572, 0.760670731707317, 0.760670731707317, 15.659284162521363], [8, 100, 0.085784144603691, 0.7545731707317073, 0.7545731707317073, 5.743708515167237], [12, 966, 0.01, 0.7530487804878048, 0.7530487804878048, 11.049904227256775], [12, 749, 0.020154216677948894, 0.7560975609756099, 0.7560975609756099, 29.137100100517273], [9, 100, 0.056891606830706105, 0.7621951219512195, 0.7621951219512195, 5.287493014335633]]\n",
            "started\n"
          ]
        },
        {
          "output_type": "stream",
          "name": "stderr",
          "text": [
            "INFO:mealpy.math_based.PSS.OriginalPSS:Solving single objective optimization problem.\n",
            "INFO:mealpy.math_based.PSS.OriginalPSS:>Problem: P, Epoch: 1, Current best: 0.739329268292683, Global best: 0.7454268292682927, Runtime: 2.09553 seconds\n",
            "INFO:mealpy.math_based.PSS.OriginalPSS:>Problem: P, Epoch: 2, Current best: 0.7378048780487805, Global best: 0.7454268292682927, Runtime: 5.46025 seconds\n",
            "INFO:mealpy.math_based.PSS.OriginalPSS:>Problem: P, Epoch: 3, Current best: 0.7301829268292683, Global best: 0.7454268292682927, Runtime: 2.41965 seconds\n",
            "INFO:mealpy.math_based.PSS.OriginalPSS:>Problem: P, Epoch: 4, Current best: 0.7332317073170732, Global best: 0.7454268292682927, Runtime: 2.11921 seconds\n",
            "INFO:mealpy.math_based.PSS.OriginalPSS:>Problem: P, Epoch: 5, Current best: 0.7317073170731707, Global best: 0.7454268292682927, Runtime: 2.30090 seconds\n",
            "INFO:mealpy.math_based.PSS.OriginalPSS:>Problem: P, Epoch: 6, Current best: 0.7439024390243903, Global best: 0.7454268292682927, Runtime: 6.43221 seconds\n",
            "INFO:mealpy.math_based.PSS.OriginalPSS:>Problem: P, Epoch: 7, Current best: 0.7362804878048782, Global best: 0.7454268292682927, Runtime: 1.99339 seconds\n",
            "INFO:mealpy.math_based.PSS.OriginalPSS:>Problem: P, Epoch: 8, Current best: 0.739329268292683, Global best: 0.7454268292682927, Runtime: 1.99471 seconds\n",
            "INFO:mealpy.math_based.PSS.OriginalPSS:>Problem: P, Epoch: 9, Current best: 0.7347560975609757, Global best: 0.7454268292682927, Runtime: 2.17865 seconds\n",
            "INFO:mealpy.math_based.PSS.OriginalPSS:>Problem: P, Epoch: 10, Current best: 0.7286585365853658, Global best: 0.7454268292682927, Runtime: 2.12712 seconds\n",
            "INFO:mealpy.math_based.SCA.OriginalSCA:Solving single objective optimization problem.\n"
          ]
        },
        {
          "output_type": "stream",
          "name": "stdout",
          "text": [
            "['LevyES', 'JADE', 'OriginalFPA', 'OriginalFBIO', 'OriginalQSA', 'ImprovedQSA', 'OriginalTLO', 'OriginalAOA', 'OriginalCGO', 'OriginalGBO', 'OriginalPSS'] [[9, 102, 0.9, 0.7088414634146342, 0.7088414634146342, 3.683679962158203], [11, 100, 0.10379182419578181, 0.7560975609756099, 0.7560975609756099, 2.76029109954834], [9, 1000, 0.011191866902417233, 0.75, 0.75, 6.135713887214661], [8, 105, 0.06788570363665233, 0.7652439024390245, 0.7652439024390245, 11.17553448677063], [10, 1000, 0.016051223033985762, 0.7576219512195121, 0.7576219512195121, 29.175256085395812], [8, 100, 0.18835955621218572, 0.760670731707317, 0.760670731707317, 15.659284162521363], [8, 100, 0.085784144603691, 0.7545731707317073, 0.7545731707317073, 5.743708515167237], [12, 966, 0.01, 0.7530487804878048, 0.7530487804878048, 11.049904227256775], [12, 749, 0.020154216677948894, 0.7560975609756099, 0.7560975609756099, 29.137100100517273], [9, 100, 0.056891606830706105, 0.7621951219512195, 0.7621951219512195, 5.287493014335633], [10, 947, 0.646075343, 0.7286585365853658, 0.7286585365853658, 3.2021466970443724]]\n",
            "started\n"
          ]
        },
        {
          "output_type": "stream",
          "name": "stderr",
          "text": [
            "INFO:mealpy.math_based.SCA.OriginalSCA:>Problem: P, Epoch: 1, Current best: 0.7530487804878048, Global best: 0.7530487804878048, Runtime: 3.91936 seconds\n",
            "INFO:mealpy.math_based.SCA.OriginalSCA:>Problem: P, Epoch: 2, Current best: 0.7530487804878048, Global best: 0.7530487804878048, Runtime: 8.99652 seconds\n",
            "INFO:mealpy.math_based.SCA.OriginalSCA:>Problem: P, Epoch: 3, Current best: 0.7545731707317073, Global best: 0.7545731707317073, Runtime: 5.83182 seconds\n",
            "INFO:mealpy.math_based.SCA.OriginalSCA:>Problem: P, Epoch: 4, Current best: 0.7545731707317073, Global best: 0.7545731707317073, Runtime: 8.92429 seconds\n",
            "INFO:mealpy.math_based.SCA.OriginalSCA:>Problem: P, Epoch: 5, Current best: 0.7545731707317073, Global best: 0.7545731707317073, Runtime: 3.77046 seconds\n",
            "INFO:mealpy.math_based.SCA.OriginalSCA:>Problem: P, Epoch: 6, Current best: 0.7545731707317073, Global best: 0.7545731707317073, Runtime: 8.79473 seconds\n",
            "INFO:mealpy.math_based.SCA.OriginalSCA:>Problem: P, Epoch: 7, Current best: 0.7545731707317073, Global best: 0.7545731707317073, Runtime: 5.77389 seconds\n",
            "INFO:mealpy.math_based.SCA.OriginalSCA:>Problem: P, Epoch: 8, Current best: 0.7545731707317073, Global best: 0.7545731707317073, Runtime: 10.37725 seconds\n",
            "INFO:mealpy.math_based.SCA.OriginalSCA:>Problem: P, Epoch: 9, Current best: 0.7545731707317073, Global best: 0.7545731707317073, Runtime: 9.34960 seconds\n",
            "INFO:mealpy.math_based.SCA.OriginalSCA:>Problem: P, Epoch: 10, Current best: 0.7545731707317073, Global best: 0.7545731707317073, Runtime: 6.22140 seconds\n"
          ]
        },
        {
          "output_type": "stream",
          "name": "stdout",
          "text": [
            "['LevyES', 'JADE', 'OriginalFPA', 'OriginalFBIO', 'OriginalQSA', 'ImprovedQSA', 'OriginalTLO', 'OriginalAOA', 'OriginalCGO', 'OriginalGBO', 'OriginalPSS', 'OriginalSCA'] [[9, 102, 0.9, 0.7088414634146342, 0.7088414634146342, 3.683679962158203], [11, 100, 0.10379182419578181, 0.7560975609756099, 0.7560975609756099, 2.76029109954834], [9, 1000, 0.011191866902417233, 0.75, 0.75, 6.135713887214661], [8, 105, 0.06788570363665233, 0.7652439024390245, 0.7652439024390245, 11.17553448677063], [10, 1000, 0.016051223033985762, 0.7576219512195121, 0.7576219512195121, 29.175256085395812], [8, 100, 0.18835955621218572, 0.760670731707317, 0.760670731707317, 15.659284162521363], [8, 100, 0.085784144603691, 0.7545731707317073, 0.7545731707317073, 5.743708515167237], [12, 966, 0.01, 0.7530487804878048, 0.7530487804878048, 11.049904227256775], [12, 749, 0.020154216677948894, 0.7560975609756099, 0.7560975609756099, 29.137100100517273], [9, 100, 0.056891606830706105, 0.7621951219512195, 0.7621951219512195, 5.287493014335633], [10, 947, 0.646075343, 0.7286585365853658, 0.7286585365853658, 3.2021466970443724], [10, 912, 0.015876347690752298, 0.7545731707317073, 0.7545731707317073, 7.785303521156311]]\n",
            "started\n"
          ]
        },
        {
          "output_type": "stream",
          "name": "stderr",
          "text": [
            "INFO:mealpy.physics_based.ArchOA.OriginalArchOA:Solving single objective optimization problem.\n",
            "INFO:mealpy.physics_based.ArchOA.OriginalArchOA:>Problem: P, Epoch: 1, Current best: 0.7362804878048782, Global best: 0.7362804878048782, Runtime: 5.56810 seconds\n",
            "INFO:mealpy.physics_based.ArchOA.OriginalArchOA:>Problem: P, Epoch: 2, Current best: 0.7454268292682927, Global best: 0.7454268292682927, Runtime: 2.45341 seconds\n",
            "INFO:mealpy.physics_based.ArchOA.OriginalArchOA:>Problem: P, Epoch: 3, Current best: 0.7454268292682927, Global best: 0.7454268292682927, Runtime: 2.53632 seconds\n",
            "INFO:mealpy.physics_based.ArchOA.OriginalArchOA:>Problem: P, Epoch: 4, Current best: 0.7454268292682927, Global best: 0.7454268292682927, Runtime: 3.22322 seconds\n",
            "INFO:mealpy.physics_based.ArchOA.OriginalArchOA:>Problem: P, Epoch: 5, Current best: 0.7454268292682927, Global best: 0.7454268292682927, Runtime: 6.84272 seconds\n",
            "INFO:mealpy.physics_based.ArchOA.OriginalArchOA:>Problem: P, Epoch: 6, Current best: 0.7454268292682927, Global best: 0.7454268292682927, Runtime: 4.31058 seconds\n",
            "INFO:mealpy.physics_based.ArchOA.OriginalArchOA:>Problem: P, Epoch: 7, Current best: 0.7454268292682927, Global best: 0.7454268292682927, Runtime: 6.39126 seconds\n",
            "INFO:mealpy.physics_based.ArchOA.OriginalArchOA:>Problem: P, Epoch: 8, Current best: 0.7454268292682927, Global best: 0.7454268292682927, Runtime: 3.26880 seconds\n",
            "INFO:mealpy.physics_based.ArchOA.OriginalArchOA:>Problem: P, Epoch: 9, Current best: 0.7454268292682927, Global best: 0.7454268292682927, Runtime: 3.43981 seconds\n",
            "INFO:mealpy.physics_based.ArchOA.OriginalArchOA:>Problem: P, Epoch: 10, Current best: 0.7454268292682927, Global best: 0.7454268292682927, Runtime: 1.98029 seconds\n",
            "INFO:mealpy.physics_based.TWO.EnhancedTWO:Solving single objective optimization problem.\n"
          ]
        },
        {
          "output_type": "stream",
          "name": "stdout",
          "text": [
            "['LevyES', 'JADE', 'OriginalFPA', 'OriginalFBIO', 'OriginalQSA', 'ImprovedQSA', 'OriginalTLO', 'OriginalAOA', 'OriginalCGO', 'OriginalGBO', 'OriginalPSS', 'OriginalSCA', 'OriginalArchOA'] [[9, 102, 0.9, 0.7088414634146342, 0.7088414634146342, 3.683679962158203], [11, 100, 0.10379182419578181, 0.7560975609756099, 0.7560975609756099, 2.76029109954834], [9, 1000, 0.011191866902417233, 0.75, 0.75, 6.135713887214661], [8, 105, 0.06788570363665233, 0.7652439024390245, 0.7652439024390245, 11.17553448677063], [10, 1000, 0.016051223033985762, 0.7576219512195121, 0.7576219512195121, 29.175256085395812], [8, 100, 0.18835955621218572, 0.760670731707317, 0.760670731707317, 15.659284162521363], [8, 100, 0.085784144603691, 0.7545731707317073, 0.7545731707317073, 5.743708515167237], [12, 966, 0.01, 0.7530487804878048, 0.7530487804878048, 11.049904227256775], [12, 749, 0.020154216677948894, 0.7560975609756099, 0.7560975609756099, 29.137100100517273], [9, 100, 0.056891606830706105, 0.7621951219512195, 0.7621951219512195, 5.287493014335633], [10, 947, 0.646075343, 0.7286585365853658, 0.7286585365853658, 3.2021466970443724], [10, 912, 0.015876347690752298, 0.7545731707317073, 0.7545731707317073, 7.785303521156311], [10, 617, 0.9, 0.7454268292682927, 0.7454268292682927, 4.30113046169281]]\n",
            "started\n"
          ]
        },
        {
          "output_type": "stream",
          "name": "stderr",
          "text": [
            "INFO:mealpy.physics_based.TWO.EnhancedTWO:>Problem: P, Epoch: 1, Current best: 0.7530487804878048, Global best: 0.7530487804878048, Runtime: 15.96815 seconds\n",
            "INFO:mealpy.physics_based.TWO.EnhancedTWO:>Problem: P, Epoch: 2, Current best: 0.7530487804878048, Global best: 0.7530487804878048, Runtime: 31.00811 seconds\n",
            "INFO:mealpy.physics_based.TWO.EnhancedTWO:>Problem: P, Epoch: 3, Current best: 0.7530487804878048, Global best: 0.7530487804878048, Runtime: 36.96613 seconds\n",
            "INFO:mealpy.physics_based.TWO.EnhancedTWO:>Problem: P, Epoch: 4, Current best: 0.7530487804878048, Global best: 0.7530487804878048, Runtime: 37.44938 seconds\n",
            "INFO:mealpy.physics_based.TWO.EnhancedTWO:>Problem: P, Epoch: 5, Current best: 0.7530487804878048, Global best: 0.7530487804878048, Runtime: 38.19677 seconds\n",
            "INFO:mealpy.physics_based.TWO.EnhancedTWO:>Problem: P, Epoch: 6, Current best: 0.7530487804878048, Global best: 0.7530487804878048, Runtime: 34.46206 seconds\n",
            "INFO:mealpy.physics_based.TWO.EnhancedTWO:>Problem: P, Epoch: 7, Current best: 0.7530487804878048, Global best: 0.7530487804878048, Runtime: 38.81806 seconds\n",
            "/usr/local/lib/python3.10/dist-packages/mealpy/physics_based/TWO.py:91: RuntimeWarning: divide by zero encountered in true_divide\n",
            "  list_weights = np.exp(-(list_fits - maxx) / (maxx - minn))\n",
            "/usr/local/lib/python3.10/dist-packages/mealpy/physics_based/TWO.py:92: RuntimeWarning: invalid value encountered in true_divide\n",
            "  list_weights = list_weights/np.sum(list_weights) + 0.1\n",
            "INFO:mealpy.physics_based.TWO.EnhancedTWO:>Problem: P, Epoch: 8, Current best: 0.7530487804878048, Global best: 0.7530487804878048, Runtime: 38.80914 seconds\n",
            "/usr/local/lib/python3.10/dist-packages/mealpy/physics_based/TWO.py:91: RuntimeWarning: divide by zero encountered in true_divide\n",
            "  list_weights = np.exp(-(list_fits - maxx) / (maxx - minn))\n",
            "/usr/local/lib/python3.10/dist-packages/mealpy/physics_based/TWO.py:92: RuntimeWarning: invalid value encountered in true_divide\n",
            "  list_weights = list_weights/np.sum(list_weights) + 0.1\n",
            "INFO:mealpy.physics_based.TWO.EnhancedTWO:>Problem: P, Epoch: 9, Current best: 0.7530487804878048, Global best: 0.7530487804878048, Runtime: 38.64299 seconds\n",
            "/usr/local/lib/python3.10/dist-packages/mealpy/physics_based/TWO.py:91: RuntimeWarning: divide by zero encountered in true_divide\n",
            "  list_weights = np.exp(-(list_fits - maxx) / (maxx - minn))\n",
            "/usr/local/lib/python3.10/dist-packages/mealpy/physics_based/TWO.py:92: RuntimeWarning: invalid value encountered in true_divide\n",
            "  list_weights = list_weights/np.sum(list_weights) + 0.1\n",
            "INFO:mealpy.physics_based.TWO.EnhancedTWO:>Problem: P, Epoch: 10, Current best: 0.7530487804878048, Global best: 0.7530487804878048, Runtime: 37.44997 seconds\n",
            "INFO:mealpy.system_based.AEO.EnhancedAEO:Solving single objective optimization problem.\n"
          ]
        },
        {
          "output_type": "stream",
          "name": "stdout",
          "text": [
            "['LevyES', 'JADE', 'OriginalFPA', 'OriginalFBIO', 'OriginalQSA', 'ImprovedQSA', 'OriginalTLO', 'OriginalAOA', 'OriginalCGO', 'OriginalGBO', 'OriginalPSS', 'OriginalSCA', 'OriginalArchOA', 'EnhancedTWO'] [[9, 102, 0.9, 0.7088414634146342, 0.7088414634146342, 3.683679962158203], [11, 100, 0.10379182419578181, 0.7560975609756099, 0.7560975609756099, 2.76029109954834], [9, 1000, 0.011191866902417233, 0.75, 0.75, 6.135713887214661], [8, 105, 0.06788570363665233, 0.7652439024390245, 0.7652439024390245, 11.17553448677063], [10, 1000, 0.016051223033985762, 0.7576219512195121, 0.7576219512195121, 29.175256085395812], [8, 100, 0.18835955621218572, 0.760670731707317, 0.760670731707317, 15.659284162521363], [8, 100, 0.085784144603691, 0.7545731707317073, 0.7545731707317073, 5.743708515167237], [12, 966, 0.01, 0.7530487804878048, 0.7530487804878048, 11.049904227256775], [12, 749, 0.020154216677948894, 0.7560975609756099, 0.7560975609756099, 29.137100100517273], [9, 100, 0.056891606830706105, 0.7621951219512195, 0.7621951219512195, 5.287493014335633], [10, 947, 0.646075343, 0.7286585365853658, 0.7286585365853658, 3.2021466970443724], [10, 912, 0.015876347690752298, 0.7545731707317073, 0.7545731707317073, 7.785303521156311], [10, 617, 0.9, 0.7454268292682927, 0.7454268292682927, 4.30113046169281], [10, 998, 0.01, 0.7530487804878048, 0.7530487804878048, 35.57842907905579]]\n",
            "started\n"
          ]
        },
        {
          "output_type": "stream",
          "name": "stderr",
          "text": [
            "INFO:mealpy.system_based.AEO.EnhancedAEO:>Problem: P, Epoch: 1, Current best: 0.746951219512195, Global best: 0.746951219512195, Runtime: 10.93768 seconds\n",
            "INFO:mealpy.system_based.AEO.EnhancedAEO:>Problem: P, Epoch: 2, Current best: 0.7530487804878048, Global best: 0.7530487804878048, Runtime: 11.36229 seconds\n",
            "INFO:mealpy.system_based.AEO.EnhancedAEO:>Problem: P, Epoch: 3, Current best: 0.7530487804878048, Global best: 0.7530487804878048, Runtime: 13.98879 seconds\n",
            "INFO:mealpy.system_based.AEO.EnhancedAEO:>Problem: P, Epoch: 4, Current best: 0.7530487804878048, Global best: 0.7530487804878048, Runtime: 17.02192 seconds\n",
            "INFO:mealpy.system_based.AEO.EnhancedAEO:>Problem: P, Epoch: 5, Current best: 0.7530487804878048, Global best: 0.7530487804878048, Runtime: 17.51216 seconds\n",
            "INFO:mealpy.system_based.AEO.EnhancedAEO:>Problem: P, Epoch: 6, Current best: 0.7530487804878048, Global best: 0.7530487804878048, Runtime: 20.52975 seconds\n",
            "INFO:mealpy.system_based.AEO.EnhancedAEO:>Problem: P, Epoch: 7, Current best: 0.7530487804878048, Global best: 0.7530487804878048, Runtime: 17.53092 seconds\n",
            "INFO:mealpy.system_based.AEO.EnhancedAEO:>Problem: P, Epoch: 8, Current best: 0.7545731707317073, Global best: 0.7545731707317073, Runtime: 20.45862 seconds\n",
            "INFO:mealpy.system_based.AEO.EnhancedAEO:>Problem: P, Epoch: 9, Current best: 0.7545731707317073, Global best: 0.7545731707317073, Runtime: 20.88329 seconds\n",
            "INFO:mealpy.system_based.AEO.EnhancedAEO:>Problem: P, Epoch: 10, Current best: 0.7545731707317073, Global best: 0.7545731707317073, Runtime: 22.99271 seconds\n"
          ]
        },
        {
          "output_type": "stream",
          "name": "stdout",
          "text": [
            "['LevyES', 'JADE', 'OriginalFPA', 'OriginalFBIO', 'OriginalQSA', 'ImprovedQSA', 'OriginalTLO', 'OriginalAOA', 'OriginalCGO', 'OriginalGBO', 'OriginalPSS', 'OriginalSCA', 'OriginalArchOA', 'EnhancedTWO', 'EnhancedAEO'] [[9, 102, 0.9, 0.7088414634146342, 0.7088414634146342, 3.683679962158203], [11, 100, 0.10379182419578181, 0.7560975609756099, 0.7560975609756099, 2.76029109954834], [9, 1000, 0.011191866902417233, 0.75, 0.75, 6.135713887214661], [8, 105, 0.06788570363665233, 0.7652439024390245, 0.7652439024390245, 11.17553448677063], [10, 1000, 0.016051223033985762, 0.7576219512195121, 0.7576219512195121, 29.175256085395812], [8, 100, 0.18835955621218572, 0.760670731707317, 0.760670731707317, 15.659284162521363], [8, 100, 0.085784144603691, 0.7545731707317073, 0.7545731707317073, 5.743708515167237], [12, 966, 0.01, 0.7530487804878048, 0.7530487804878048, 11.049904227256775], [12, 749, 0.020154216677948894, 0.7560975609756099, 0.7560975609756099, 29.137100100517273], [9, 100, 0.056891606830706105, 0.7621951219512195, 0.7621951219512195, 5.287493014335633], [10, 947, 0.646075343, 0.7286585365853658, 0.7286585365853658, 3.2021466970443724], [10, 912, 0.015876347690752298, 0.7545731707317073, 0.7545731707317073, 7.785303521156311], [10, 617, 0.9, 0.7454268292682927, 0.7454268292682927, 4.30113046169281], [10, 998, 0.01, 0.7530487804878048, 0.7530487804878048, 35.57842907905579], [10, 776, 0.01000701406974951, 0.7545731707317073, 0.7545731707317073, 17.617431354522704]]\n",
            "started\n"
          ]
        },
        {
          "output_type": "stream",
          "name": "stderr",
          "text": [
            "INFO:mealpy.system_based.AEO.OriginalAEO:Solving single objective optimization problem.\n",
            "INFO:mealpy.system_based.AEO.OriginalAEO:>Problem: P, Epoch: 1, Current best: 0.7515243902439024, Global best: 0.7515243902439024, Runtime: 12.93590 seconds\n",
            "INFO:mealpy.system_based.AEO.OriginalAEO:>Problem: P, Epoch: 2, Current best: 0.7545731707317073, Global best: 0.7545731707317073, Runtime: 20.00170 seconds\n",
            "INFO:mealpy.system_based.AEO.OriginalAEO:>Problem: P, Epoch: 3, Current best: 0.7545731707317073, Global best: 0.7545731707317073, Runtime: 21.47759 seconds\n",
            "INFO:mealpy.system_based.AEO.OriginalAEO:>Problem: P, Epoch: 4, Current best: 0.7545731707317073, Global best: 0.7545731707317073, Runtime: 23.25723 seconds\n",
            "INFO:mealpy.system_based.AEO.OriginalAEO:>Problem: P, Epoch: 5, Current best: 0.7545731707317073, Global best: 0.7545731707317073, Runtime: 21.56331 seconds\n",
            "INFO:mealpy.system_based.AEO.OriginalAEO:>Problem: P, Epoch: 6, Current best: 0.7545731707317073, Global best: 0.7545731707317073, Runtime: 21.40312 seconds\n",
            "INFO:mealpy.system_based.AEO.OriginalAEO:>Problem: P, Epoch: 7, Current best: 0.7545731707317073, Global best: 0.7545731707317073, Runtime: 23.84180 seconds\n",
            "INFO:mealpy.system_based.AEO.OriginalAEO:>Problem: P, Epoch: 8, Current best: 0.7545731707317073, Global best: 0.7545731707317073, Runtime: 22.49032 seconds\n",
            "INFO:mealpy.system_based.AEO.OriginalAEO:>Problem: P, Epoch: 9, Current best: 0.7545731707317073, Global best: 0.7545731707317073, Runtime: 21.39548 seconds\n",
            "INFO:mealpy.system_based.AEO.OriginalAEO:>Problem: P, Epoch: 10, Current best: 0.7545731707317073, Global best: 0.7545731707317073, Runtime: 23.99760 seconds\n"
          ]
        },
        {
          "output_type": "stream",
          "name": "stdout",
          "text": [
            "['LevyES', 'JADE', 'OriginalFPA', 'OriginalFBIO', 'OriginalQSA', 'ImprovedQSA', 'OriginalTLO', 'OriginalAOA', 'OriginalCGO', 'OriginalGBO', 'OriginalPSS', 'OriginalSCA', 'OriginalArchOA', 'EnhancedTWO', 'EnhancedAEO', 'OriginalAEO'] [[9, 102, 0.9, 0.7088414634146342, 0.7088414634146342, 3.683679962158203], [11, 100, 0.10379182419578181, 0.7560975609756099, 0.7560975609756099, 2.76029109954834], [9, 1000, 0.011191866902417233, 0.75, 0.75, 6.135713887214661], [8, 105, 0.06788570363665233, 0.7652439024390245, 0.7652439024390245, 11.17553448677063], [10, 1000, 0.016051223033985762, 0.7576219512195121, 0.7576219512195121, 29.175256085395812], [8, 100, 0.18835955621218572, 0.760670731707317, 0.760670731707317, 15.659284162521363], [8, 100, 0.085784144603691, 0.7545731707317073, 0.7545731707317073, 5.743708515167237], [12, 966, 0.01, 0.7530487804878048, 0.7530487804878048, 11.049904227256775], [12, 749, 0.020154216677948894, 0.7560975609756099, 0.7560975609756099, 29.137100100517273], [9, 100, 0.056891606830706105, 0.7621951219512195, 0.7621951219512195, 5.287493014335633], [10, 947, 0.646075343, 0.7286585365853658, 0.7286585365853658, 3.2021466970443724], [10, 912, 0.015876347690752298, 0.7545731707317073, 0.7545731707317073, 7.785303521156311], [10, 617, 0.9, 0.7454268292682927, 0.7454268292682927, 4.30113046169281], [10, 998, 0.01, 0.7530487804878048, 0.7530487804878048, 35.57842907905579], [10, 776, 0.01000701406974951, 0.7545731707317073, 0.7545731707317073, 17.617431354522704], [12, 937, 0.01, 0.7545731707317073, 0.7545731707317073, 21.534763360023497]]\n",
            "started\n"
          ]
        },
        {
          "output_type": "stream",
          "name": "stderr",
          "text": [
            "INFO:mealpy.physics_based.TWO.LevyTWO:Solving single objective optimization problem.\n",
            "INFO:mealpy.physics_based.TWO.LevyTWO:>Problem: P, Epoch: 1, Current best: 0.7378048780487805, Global best: 0.7378048780487805, Runtime: 6.43223 seconds\n",
            "INFO:mealpy.physics_based.TWO.LevyTWO:>Problem: P, Epoch: 2, Current best: 0.7378048780487805, Global best: 0.7378048780487805, Runtime: 3.49487 seconds\n",
            "INFO:mealpy.physics_based.TWO.LevyTWO:>Problem: P, Epoch: 3, Current best: 0.7530487804878048, Global best: 0.7530487804878048, Runtime: 4.06571 seconds\n",
            "INFO:mealpy.physics_based.TWO.LevyTWO:>Problem: P, Epoch: 4, Current best: 0.7530487804878048, Global best: 0.7530487804878048, Runtime: 6.76563 seconds\n",
            "INFO:mealpy.physics_based.TWO.LevyTWO:>Problem: P, Epoch: 5, Current best: 0.7530487804878048, Global best: 0.7530487804878048, Runtime: 4.75407 seconds\n",
            "INFO:mealpy.physics_based.TWO.LevyTWO:>Problem: P, Epoch: 6, Current best: 0.7530487804878048, Global best: 0.7530487804878048, Runtime: 7.70195 seconds\n",
            "INFO:mealpy.physics_based.TWO.LevyTWO:>Problem: P, Epoch: 7, Current best: 0.7530487804878048, Global best: 0.7530487804878048, Runtime: 4.42153 seconds\n",
            "INFO:mealpy.physics_based.TWO.LevyTWO:>Problem: P, Epoch: 8, Current best: 0.7530487804878048, Global best: 0.7530487804878048, Runtime: 8.42873 seconds\n",
            "INFO:mealpy.physics_based.TWO.LevyTWO:>Problem: P, Epoch: 9, Current best: 0.7530487804878048, Global best: 0.7530487804878048, Runtime: 5.65353 seconds\n",
            "INFO:mealpy.physics_based.TWO.LevyTWO:>Problem: P, Epoch: 10, Current best: 0.7530487804878048, Global best: 0.7530487804878048, Runtime: 7.29142 seconds\n",
            "INFO:mealpy.physics_based.MVO.OriginalMVO:Solving single objective optimization problem.\n"
          ]
        },
        {
          "output_type": "stream",
          "name": "stdout",
          "text": [
            "['LevyES', 'JADE', 'OriginalFPA', 'OriginalFBIO', 'OriginalQSA', 'ImprovedQSA', 'OriginalTLO', 'OriginalAOA', 'OriginalCGO', 'OriginalGBO', 'OriginalPSS', 'OriginalSCA', 'OriginalArchOA', 'EnhancedTWO', 'EnhancedAEO', 'OriginalAEO', 'LevyTWO'] [[9, 102, 0.9, 0.7088414634146342, 0.7088414634146342, 3.683679962158203], [11, 100, 0.10379182419578181, 0.7560975609756099, 0.7560975609756099, 2.76029109954834], [9, 1000, 0.011191866902417233, 0.75, 0.75, 6.135713887214661], [8, 105, 0.06788570363665233, 0.7652439024390245, 0.7652439024390245, 11.17553448677063], [10, 1000, 0.016051223033985762, 0.7576219512195121, 0.7576219512195121, 29.175256085395812], [8, 100, 0.18835955621218572, 0.760670731707317, 0.760670731707317, 15.659284162521363], [8, 100, 0.085784144603691, 0.7545731707317073, 0.7545731707317073, 5.743708515167237], [12, 966, 0.01, 0.7530487804878048, 0.7530487804878048, 11.049904227256775], [12, 749, 0.020154216677948894, 0.7560975609756099, 0.7560975609756099, 29.137100100517273], [9, 100, 0.056891606830706105, 0.7621951219512195, 0.7621951219512195, 5.287493014335633], [10, 947, 0.646075343, 0.7286585365853658, 0.7286585365853658, 3.2021466970443724], [10, 912, 0.015876347690752298, 0.7545731707317073, 0.7545731707317073, 7.785303521156311], [10, 617, 0.9, 0.7454268292682927, 0.7454268292682927, 4.30113046169281], [10, 998, 0.01, 0.7530487804878048, 0.7530487804878048, 35.57842907905579], [10, 776, 0.01000701406974951, 0.7545731707317073, 0.7545731707317073, 17.617431354522704], [12, 937, 0.01, 0.7545731707317073, 0.7545731707317073, 21.534763360023497], [9, 782, 0.01, 0.7530487804878048, 0.7530487804878048, 6.161834239959717]]\n",
            "started\n"
          ]
        },
        {
          "output_type": "stream",
          "name": "stderr",
          "text": [
            "INFO:mealpy.physics_based.MVO.OriginalMVO:>Problem: P, Epoch: 1, Current best: 0.75, Global best: 0.75, Runtime: 5.21128 seconds\n",
            "INFO:mealpy.physics_based.MVO.OriginalMVO:>Problem: P, Epoch: 2, Current best: 0.75, Global best: 0.75, Runtime: 10.38510 seconds\n",
            "INFO:mealpy.physics_based.MVO.OriginalMVO:>Problem: P, Epoch: 3, Current best: 0.75, Global best: 0.75, Runtime: 10.34625 seconds\n",
            "INFO:mealpy.physics_based.MVO.OriginalMVO:>Problem: P, Epoch: 4, Current best: 0.75, Global best: 0.75, Runtime: 6.70609 seconds\n",
            "INFO:mealpy.physics_based.MVO.OriginalMVO:>Problem: P, Epoch: 5, Current best: 0.7530487804878048, Global best: 0.7530487804878048, Runtime: 10.67494 seconds\n",
            "INFO:mealpy.physics_based.MVO.OriginalMVO:>Problem: P, Epoch: 6, Current best: 0.7530487804878048, Global best: 0.7530487804878048, Runtime: 10.80606 seconds\n",
            "INFO:mealpy.physics_based.MVO.OriginalMVO:>Problem: P, Epoch: 7, Current best: 0.7530487804878048, Global best: 0.7530487804878048, Runtime: 11.07398 seconds\n",
            "INFO:mealpy.physics_based.MVO.OriginalMVO:>Problem: P, Epoch: 8, Current best: 0.7530487804878048, Global best: 0.7530487804878048, Runtime: 7.50612 seconds\n",
            "INFO:mealpy.physics_based.MVO.OriginalMVO:>Problem: P, Epoch: 9, Current best: 0.7545731707317073, Global best: 0.7545731707317073, Runtime: 11.52384 seconds\n",
            "INFO:mealpy.physics_based.MVO.OriginalMVO:>Problem: P, Epoch: 10, Current best: 0.7545731707317073, Global best: 0.7545731707317073, Runtime: 11.57864 seconds\n",
            "INFO:mealpy.physics_based.EO.AdaptiveEO:Solving single objective optimization problem.\n"
          ]
        },
        {
          "output_type": "stream",
          "name": "stdout",
          "text": [
            "['LevyES', 'JADE', 'OriginalFPA', 'OriginalFBIO', 'OriginalQSA', 'ImprovedQSA', 'OriginalTLO', 'OriginalAOA', 'OriginalCGO', 'OriginalGBO', 'OriginalPSS', 'OriginalSCA', 'OriginalArchOA', 'EnhancedTWO', 'EnhancedAEO', 'OriginalAEO', 'LevyTWO', 'OriginalMVO'] [[9, 102, 0.9, 0.7088414634146342, 0.7088414634146342, 3.683679962158203], [11, 100, 0.10379182419578181, 0.7560975609756099, 0.7560975609756099, 2.76029109954834], [9, 1000, 0.011191866902417233, 0.75, 0.75, 6.135713887214661], [8, 105, 0.06788570363665233, 0.7652439024390245, 0.7652439024390245, 11.17553448677063], [10, 1000, 0.016051223033985762, 0.7576219512195121, 0.7576219512195121, 29.175256085395812], [8, 100, 0.18835955621218572, 0.760670731707317, 0.760670731707317, 15.659284162521363], [8, 100, 0.085784144603691, 0.7545731707317073, 0.7545731707317073, 5.743708515167237], [12, 966, 0.01, 0.7530487804878048, 0.7530487804878048, 11.049904227256775], [12, 749, 0.020154216677948894, 0.7560975609756099, 0.7560975609756099, 29.137100100517273], [9, 100, 0.056891606830706105, 0.7621951219512195, 0.7621951219512195, 5.287493014335633], [10, 947, 0.646075343, 0.7286585365853658, 0.7286585365853658, 3.2021466970443724], [10, 912, 0.015876347690752298, 0.7545731707317073, 0.7545731707317073, 7.785303521156311], [10, 617, 0.9, 0.7454268292682927, 0.7454268292682927, 4.30113046169281], [10, 998, 0.01, 0.7530487804878048, 0.7530487804878048, 35.57842907905579], [10, 776, 0.01000701406974951, 0.7545731707317073, 0.7545731707317073, 17.617431354522704], [12, 937, 0.01, 0.7545731707317073, 0.7545731707317073, 21.534763360023497], [9, 782, 0.01, 0.7530487804878048, 0.7530487804878048, 6.161834239959717], [10, 751, 0.010456349856138948, 0.7545731707317073, 0.7545731707317073, 9.832323932647705]]\n",
            "started\n"
          ]
        },
        {
          "output_type": "stream",
          "name": "stderr",
          "text": [
            "INFO:mealpy.physics_based.EO.AdaptiveEO:>Problem: P, Epoch: 1, Current best: 0.7454268292682927, Global best: 0.7454268292682927, Runtime: 7.73363 seconds\n",
            "INFO:mealpy.physics_based.EO.AdaptiveEO:>Problem: P, Epoch: 2, Current best: 0.746951219512195, Global best: 0.746951219512195, Runtime: 5.59210 seconds\n",
            "INFO:mealpy.physics_based.EO.AdaptiveEO:>Problem: P, Epoch: 3, Current best: 0.7484756097560976, Global best: 0.7484756097560976, Runtime: 8.16587 seconds\n",
            "INFO:mealpy.physics_based.EO.AdaptiveEO:>Problem: P, Epoch: 4, Current best: 0.7484756097560976, Global best: 0.7484756097560976, Runtime: 5.33375 seconds\n",
            "INFO:mealpy.physics_based.EO.AdaptiveEO:>Problem: P, Epoch: 5, Current best: 0.7515243902439024, Global best: 0.7515243902439024, Runtime: 7.93379 seconds\n",
            "INFO:mealpy.physics_based.EO.AdaptiveEO:>Problem: P, Epoch: 6, Current best: 0.7515243902439024, Global best: 0.7515243902439024, Runtime: 6.50748 seconds\n",
            "INFO:mealpy.physics_based.EO.AdaptiveEO:>Problem: P, Epoch: 7, Current best: 0.7515243902439024, Global best: 0.7515243902439024, Runtime: 11.89112 seconds\n",
            "INFO:mealpy.physics_based.EO.AdaptiveEO:>Problem: P, Epoch: 8, Current best: 0.7576219512195121, Global best: 0.7576219512195121, Runtime: 10.44069 seconds\n",
            "INFO:mealpy.physics_based.EO.AdaptiveEO:>Problem: P, Epoch: 9, Current best: 0.7576219512195121, Global best: 0.7576219512195121, Runtime: 11.53761 seconds\n",
            "INFO:mealpy.physics_based.EO.AdaptiveEO:>Problem: P, Epoch: 10, Current best: 0.7576219512195121, Global best: 0.7576219512195121, Runtime: 12.96272 seconds\n",
            "INFO:mealpy.physics_based.EO.ModifiedEO:Solving single objective optimization problem.\n"
          ]
        },
        {
          "output_type": "stream",
          "name": "stdout",
          "text": [
            "['LevyES', 'JADE', 'OriginalFPA', 'OriginalFBIO', 'OriginalQSA', 'ImprovedQSA', 'OriginalTLO', 'OriginalAOA', 'OriginalCGO', 'OriginalGBO', 'OriginalPSS', 'OriginalSCA', 'OriginalArchOA', 'EnhancedTWO', 'EnhancedAEO', 'OriginalAEO', 'LevyTWO', 'OriginalMVO', 'AdaptiveEO'] [[9, 102, 0.9, 0.7088414634146342, 0.7088414634146342, 3.683679962158203], [11, 100, 0.10379182419578181, 0.7560975609756099, 0.7560975609756099, 2.76029109954834], [9, 1000, 0.011191866902417233, 0.75, 0.75, 6.135713887214661], [8, 105, 0.06788570363665233, 0.7652439024390245, 0.7652439024390245, 11.17553448677063], [10, 1000, 0.016051223033985762, 0.7576219512195121, 0.7576219512195121, 29.175256085395812], [8, 100, 0.18835955621218572, 0.760670731707317, 0.760670731707317, 15.659284162521363], [8, 100, 0.085784144603691, 0.7545731707317073, 0.7545731707317073, 5.743708515167237], [12, 966, 0.01, 0.7530487804878048, 0.7530487804878048, 11.049904227256775], [12, 749, 0.020154216677948894, 0.7560975609756099, 0.7560975609756099, 29.137100100517273], [9, 100, 0.056891606830706105, 0.7621951219512195, 0.7621951219512195, 5.287493014335633], [10, 947, 0.646075343, 0.7286585365853658, 0.7286585365853658, 3.2021466970443724], [10, 912, 0.015876347690752298, 0.7545731707317073, 0.7545731707317073, 7.785303521156311], [10, 617, 0.9, 0.7454268292682927, 0.7454268292682927, 4.30113046169281], [10, 998, 0.01, 0.7530487804878048, 0.7530487804878048, 35.57842907905579], [10, 776, 0.01000701406974951, 0.7545731707317073, 0.7545731707317073, 17.617431354522704], [12, 937, 0.01, 0.7545731707317073, 0.7545731707317073, 21.534763360023497], [9, 782, 0.01, 0.7530487804878048, 0.7530487804878048, 6.161834239959717], [10, 751, 0.010456349856138948, 0.7545731707317073, 0.7545731707317073, 9.832323932647705], [9, 556, 0.014094775557975212, 0.7576219512195121, 0.7576219512195121, 9.080123209953308]]\n",
            "started\n"
          ]
        },
        {
          "output_type": "stream",
          "name": "stderr",
          "text": [
            "INFO:mealpy.physics_based.EO.ModifiedEO:>Problem: P, Epoch: 1, Current best: 0.7530487804878048, Global best: 0.7530487804878048, Runtime: 4.75177 seconds\n",
            "INFO:mealpy.physics_based.EO.ModifiedEO:>Problem: P, Epoch: 2, Current best: 0.7530487804878048, Global best: 0.7530487804878048, Runtime: 10.43340 seconds\n",
            "INFO:mealpy.physics_based.EO.ModifiedEO:>Problem: P, Epoch: 3, Current best: 0.7530487804878048, Global best: 0.7530487804878048, Runtime: 7.82689 seconds\n",
            "INFO:mealpy.physics_based.EO.ModifiedEO:>Problem: P, Epoch: 4, Current best: 0.7530487804878048, Global best: 0.7530487804878048, Runtime: 6.27666 seconds\n",
            "INFO:mealpy.physics_based.EO.ModifiedEO:>Problem: P, Epoch: 5, Current best: 0.7530487804878048, Global best: 0.7530487804878048, Runtime: 10.59360 seconds\n",
            "INFO:mealpy.physics_based.EO.ModifiedEO:>Problem: P, Epoch: 6, Current best: 0.7530487804878048, Global best: 0.7530487804878048, Runtime: 5.21800 seconds\n",
            "INFO:mealpy.physics_based.EO.ModifiedEO:>Problem: P, Epoch: 7, Current best: 0.7530487804878048, Global best: 0.7530487804878048, Runtime: 9.48005 seconds\n",
            "INFO:mealpy.physics_based.EO.ModifiedEO:>Problem: P, Epoch: 8, Current best: 0.7530487804878048, Global best: 0.7530487804878048, Runtime: 12.03508 seconds\n",
            "INFO:mealpy.physics_based.EO.ModifiedEO:>Problem: P, Epoch: 9, Current best: 0.7530487804878048, Global best: 0.7530487804878048, Runtime: 10.37210 seconds\n",
            "INFO:mealpy.physics_based.EO.ModifiedEO:>Problem: P, Epoch: 10, Current best: 0.7530487804878048, Global best: 0.7530487804878048, Runtime: 12.35780 seconds\n",
            "INFO:mealpy.system_based.GCO.OriginalGCO:Solving single objective optimization problem.\n"
          ]
        },
        {
          "output_type": "stream",
          "name": "stdout",
          "text": [
            "['LevyES', 'JADE', 'OriginalFPA', 'OriginalFBIO', 'OriginalQSA', 'ImprovedQSA', 'OriginalTLO', 'OriginalAOA', 'OriginalCGO', 'OriginalGBO', 'OriginalPSS', 'OriginalSCA', 'OriginalArchOA', 'EnhancedTWO', 'EnhancedAEO', 'OriginalAEO', 'LevyTWO', 'OriginalMVO', 'AdaptiveEO', 'ModifiedEO'] [[9, 102, 0.9, 0.7088414634146342, 0.7088414634146342, 3.683679962158203], [11, 100, 0.10379182419578181, 0.7560975609756099, 0.7560975609756099, 2.76029109954834], [9, 1000, 0.011191866902417233, 0.75, 0.75, 6.135713887214661], [8, 105, 0.06788570363665233, 0.7652439024390245, 0.7652439024390245, 11.17553448677063], [10, 1000, 0.016051223033985762, 0.7576219512195121, 0.7576219512195121, 29.175256085395812], [8, 100, 0.18835955621218572, 0.760670731707317, 0.760670731707317, 15.659284162521363], [8, 100, 0.085784144603691, 0.7545731707317073, 0.7545731707317073, 5.743708515167237], [12, 966, 0.01, 0.7530487804878048, 0.7530487804878048, 11.049904227256775], [12, 749, 0.020154216677948894, 0.7560975609756099, 0.7560975609756099, 29.137100100517273], [9, 100, 0.056891606830706105, 0.7621951219512195, 0.7621951219512195, 5.287493014335633], [10, 947, 0.646075343, 0.7286585365853658, 0.7286585365853658, 3.2021466970443724], [10, 912, 0.015876347690752298, 0.7545731707317073, 0.7545731707317073, 7.785303521156311], [10, 617, 0.9, 0.7454268292682927, 0.7454268292682927, 4.30113046169281], [10, 998, 0.01, 0.7530487804878048, 0.7530487804878048, 35.57842907905579], [10, 776, 0.01000701406974951, 0.7545731707317073, 0.7545731707317073, 17.617431354522704], [12, 937, 0.01, 0.7545731707317073, 0.7545731707317073, 21.534763360023497], [9, 782, 0.01, 0.7530487804878048, 0.7530487804878048, 6.161834239959717], [10, 751, 0.010456349856138948, 0.7545731707317073, 0.7545731707317073, 9.832323932647705], [9, 556, 0.014094775557975212, 0.7576219512195121, 0.7576219512195121, 9.080123209953308], [12, 838, 0.01, 0.7530487804878048, 0.7530487804878048, 9.234201622009277]]\n",
            "started\n"
          ]
        },
        {
          "output_type": "stream",
          "name": "stderr",
          "text": [
            "INFO:mealpy.system_based.GCO.OriginalGCO:>Problem: P, Epoch: 1, Current best: 0.75, Global best: 0.75, Runtime: 4.53159 seconds\n",
            "INFO:mealpy.system_based.GCO.OriginalGCO:>Problem: P, Epoch: 2, Current best: 0.7530487804878048, Global best: 0.7530487804878048, Runtime: 7.69076 seconds\n",
            "INFO:mealpy.system_based.GCO.OriginalGCO:>Problem: P, Epoch: 3, Current best: 0.7530487804878048, Global best: 0.7530487804878048, Runtime: 2.34130 seconds\n",
            "INFO:mealpy.system_based.GCO.OriginalGCO:>Problem: P, Epoch: 4, Current best: 0.7530487804878048, Global best: 0.7530487804878048, Runtime: 4.90115 seconds\n",
            "INFO:mealpy.system_based.GCO.OriginalGCO:>Problem: P, Epoch: 5, Current best: 0.7530487804878048, Global best: 0.7530487804878048, Runtime: 8.56176 seconds\n",
            "INFO:mealpy.system_based.GCO.OriginalGCO:>Problem: P, Epoch: 6, Current best: 0.7530487804878048, Global best: 0.7530487804878048, Runtime: 3.40371 seconds\n",
            "INFO:mealpy.system_based.GCO.OriginalGCO:>Problem: P, Epoch: 7, Current best: 0.7530487804878048, Global best: 0.7530487804878048, Runtime: 9.17469 seconds\n",
            "INFO:mealpy.system_based.GCO.OriginalGCO:>Problem: P, Epoch: 8, Current best: 0.7530487804878048, Global best: 0.7530487804878048, Runtime: 5.83124 seconds\n",
            "INFO:mealpy.system_based.GCO.OriginalGCO:>Problem: P, Epoch: 9, Current best: 0.7530487804878048, Global best: 0.7530487804878048, Runtime: 11.82159 seconds\n",
            "INFO:mealpy.system_based.GCO.OriginalGCO:>Problem: P, Epoch: 10, Current best: 0.7530487804878048, Global best: 0.7530487804878048, Runtime: 9.29823 seconds\n",
            "INFO:mealpy.swarm_based.ALO.OriginalALO:Solving single objective optimization problem.\n"
          ]
        },
        {
          "output_type": "stream",
          "name": "stdout",
          "text": [
            "['LevyES', 'JADE', 'OriginalFPA', 'OriginalFBIO', 'OriginalQSA', 'ImprovedQSA', 'OriginalTLO', 'OriginalAOA', 'OriginalCGO', 'OriginalGBO', 'OriginalPSS', 'OriginalSCA', 'OriginalArchOA', 'EnhancedTWO', 'EnhancedAEO', 'OriginalAEO', 'LevyTWO', 'OriginalMVO', 'AdaptiveEO', 'ModifiedEO', 'OriginalGCO'] [[9, 102, 0.9, 0.7088414634146342, 0.7088414634146342, 3.683679962158203], [11, 100, 0.10379182419578181, 0.7560975609756099, 0.7560975609756099, 2.76029109954834], [9, 1000, 0.011191866902417233, 0.75, 0.75, 6.135713887214661], [8, 105, 0.06788570363665233, 0.7652439024390245, 0.7652439024390245, 11.17553448677063], [10, 1000, 0.016051223033985762, 0.7576219512195121, 0.7576219512195121, 29.175256085395812], [8, 100, 0.18835955621218572, 0.760670731707317, 0.760670731707317, 15.659284162521363], [8, 100, 0.085784144603691, 0.7545731707317073, 0.7545731707317073, 5.743708515167237], [12, 966, 0.01, 0.7530487804878048, 0.7530487804878048, 11.049904227256775], [12, 749, 0.020154216677948894, 0.7560975609756099, 0.7560975609756099, 29.137100100517273], [9, 100, 0.056891606830706105, 0.7621951219512195, 0.7621951219512195, 5.287493014335633], [10, 947, 0.646075343, 0.7286585365853658, 0.7286585365853658, 3.2021466970443724], [10, 912, 0.015876347690752298, 0.7545731707317073, 0.7545731707317073, 7.785303521156311], [10, 617, 0.9, 0.7454268292682927, 0.7454268292682927, 4.30113046169281], [10, 998, 0.01, 0.7530487804878048, 0.7530487804878048, 35.57842907905579], [10, 776, 0.01000701406974951, 0.7545731707317073, 0.7545731707317073, 17.617431354522704], [12, 937, 0.01, 0.7545731707317073, 0.7545731707317073, 21.534763360023497], [9, 782, 0.01, 0.7530487804878048, 0.7530487804878048, 6.161834239959717], [10, 751, 0.010456349856138948, 0.7545731707317073, 0.7545731707317073, 9.832323932647705], [9, 556, 0.014094775557975212, 0.7576219512195121, 0.7576219512195121, 9.080123209953308], [12, 838, 0.01, 0.7530487804878048, 0.7530487804878048, 9.234201622009277], [10, 1000, 0.01, 0.7530487804878048, 0.7530487804878048, 7.00337586402893]]\n",
            "started\n"
          ]
        },
        {
          "output_type": "stream",
          "name": "stderr",
          "text": [
            "INFO:mealpy.swarm_based.ALO.OriginalALO:>Problem: P, Epoch: 1, Current best: 0.7332317073170732, Global best: 0.7332317073170732, Runtime: 3.42100 seconds\n",
            "INFO:mealpy.swarm_based.ALO.OriginalALO:>Problem: P, Epoch: 2, Current best: 0.7332317073170732, Global best: 0.7332317073170732, Runtime: 6.05053 seconds\n",
            "INFO:mealpy.swarm_based.ALO.OriginalALO:>Problem: P, Epoch: 3, Current best: 0.7332317073170732, Global best: 0.7332317073170732, Runtime: 2.48515 seconds\n",
            "INFO:mealpy.swarm_based.ALO.OriginalALO:>Problem: P, Epoch: 4, Current best: 0.7332317073170732, Global best: 0.7332317073170732, Runtime: 2.63776 seconds\n",
            "INFO:mealpy.swarm_based.ALO.OriginalALO:>Problem: P, Epoch: 5, Current best: 0.7332317073170732, Global best: 0.7332317073170732, Runtime: 2.69318 seconds\n",
            "INFO:mealpy.swarm_based.ALO.OriginalALO:>Problem: P, Epoch: 6, Current best: 0.7332317073170732, Global best: 0.7332317073170732, Runtime: 5.96588 seconds\n",
            "INFO:mealpy.swarm_based.ALO.OriginalALO:>Problem: P, Epoch: 7, Current best: 0.7332317073170732, Global best: 0.7332317073170732, Runtime: 2.80932 seconds\n",
            "INFO:mealpy.swarm_based.ALO.OriginalALO:>Problem: P, Epoch: 8, Current best: 0.7332317073170732, Global best: 0.7332317073170732, Runtime: 2.83377 seconds\n",
            "INFO:mealpy.swarm_based.ALO.OriginalALO:>Problem: P, Epoch: 9, Current best: 0.7332317073170732, Global best: 0.7332317073170732, Runtime: 5.70253 seconds\n",
            "INFO:mealpy.swarm_based.ALO.OriginalALO:>Problem: P, Epoch: 10, Current best: 0.7332317073170732, Global best: 0.7332317073170732, Runtime: 2.34553 seconds\n"
          ]
        },
        {
          "output_type": "stream",
          "name": "stdout",
          "text": [
            "['LevyES', 'JADE', 'OriginalFPA', 'OriginalFBIO', 'OriginalQSA', 'ImprovedQSA', 'OriginalTLO', 'OriginalAOA', 'OriginalCGO', 'OriginalGBO', 'OriginalPSS', 'OriginalSCA', 'OriginalArchOA', 'EnhancedTWO', 'EnhancedAEO', 'OriginalAEO', 'LevyTWO', 'OriginalMVO', 'AdaptiveEO', 'ModifiedEO', 'OriginalGCO', 'OriginalALO'] [[9, 102, 0.9, 0.7088414634146342, 0.7088414634146342, 3.683679962158203], [11, 100, 0.10379182419578181, 0.7560975609756099, 0.7560975609756099, 2.76029109954834], [9, 1000, 0.011191866902417233, 0.75, 0.75, 6.135713887214661], [8, 105, 0.06788570363665233, 0.7652439024390245, 0.7652439024390245, 11.17553448677063], [10, 1000, 0.016051223033985762, 0.7576219512195121, 0.7576219512195121, 29.175256085395812], [8, 100, 0.18835955621218572, 0.760670731707317, 0.760670731707317, 15.659284162521363], [8, 100, 0.085784144603691, 0.7545731707317073, 0.7545731707317073, 5.743708515167237], [12, 966, 0.01, 0.7530487804878048, 0.7530487804878048, 11.049904227256775], [12, 749, 0.020154216677948894, 0.7560975609756099, 0.7560975609756099, 29.137100100517273], [9, 100, 0.056891606830706105, 0.7621951219512195, 0.7621951219512195, 5.287493014335633], [10, 947, 0.646075343, 0.7286585365853658, 0.7286585365853658, 3.2021466970443724], [10, 912, 0.015876347690752298, 0.7545731707317073, 0.7545731707317073, 7.785303521156311], [10, 617, 0.9, 0.7454268292682927, 0.7454268292682927, 4.30113046169281], [10, 998, 0.01, 0.7530487804878048, 0.7530487804878048, 35.57842907905579], [10, 776, 0.01000701406974951, 0.7545731707317073, 0.7545731707317073, 17.617431354522704], [12, 937, 0.01, 0.7545731707317073, 0.7545731707317073, 21.534763360023497], [9, 782, 0.01, 0.7530487804878048, 0.7530487804878048, 6.161834239959717], [10, 751, 0.010456349856138948, 0.7545731707317073, 0.7545731707317073, 9.832323932647705], [9, 556, 0.014094775557975212, 0.7576219512195121, 0.7576219512195121, 9.080123209953308], [12, 838, 0.01, 0.7530487804878048, 0.7530487804878048, 9.234201622009277], [10, 1000, 0.01, 0.7530487804878048, 0.7530487804878048, 7.00337586402893], [9, 753, 0.2179253314612768, 0.7332317073170732, 0.7332317073170732, 3.9184326171875]]\n",
            "started\n"
          ]
        },
        {
          "output_type": "stream",
          "name": "stderr",
          "text": [
            "INFO:mealpy.swarm_based.AO.OriginalAO:Solving single objective optimization problem.\n",
            "INFO:mealpy.swarm_based.AO.OriginalAO:>Problem: P, Epoch: 1, Current best: 0.7439024390243903, Global best: 0.7439024390243903, Runtime: 1.25650 seconds\n",
            "INFO:mealpy.swarm_based.AO.OriginalAO:>Problem: P, Epoch: 2, Current best: 0.7439024390243903, Global best: 0.7439024390243903, Runtime: 1.54388 seconds\n",
            "INFO:mealpy.swarm_based.AO.OriginalAO:>Problem: P, Epoch: 3, Current best: 0.7439024390243903, Global best: 0.7439024390243903, Runtime: 0.97265 seconds\n",
            "INFO:mealpy.swarm_based.AO.OriginalAO:>Problem: P, Epoch: 4, Current best: 0.7439024390243903, Global best: 0.7439024390243903, Runtime: 4.03062 seconds\n",
            "INFO:mealpy.swarm_based.AO.OriginalAO:>Problem: P, Epoch: 5, Current best: 0.7439024390243903, Global best: 0.7439024390243903, Runtime: 1.17957 seconds\n",
            "INFO:mealpy.swarm_based.AO.OriginalAO:>Problem: P, Epoch: 6, Current best: 0.7439024390243903, Global best: 0.7439024390243903, Runtime: 0.82462 seconds\n",
            "INFO:mealpy.swarm_based.AO.OriginalAO:>Problem: P, Epoch: 7, Current best: 0.7439024390243903, Global best: 0.7439024390243903, Runtime: 1.18146 seconds\n",
            "INFO:mealpy.swarm_based.AO.OriginalAO:>Problem: P, Epoch: 8, Current best: 0.7439024390243903, Global best: 0.7439024390243903, Runtime: 1.67807 seconds\n",
            "INFO:mealpy.swarm_based.AO.OriginalAO:>Problem: P, Epoch: 9, Current best: 0.7439024390243903, Global best: 0.7439024390243903, Runtime: 1.40642 seconds\n",
            "INFO:mealpy.swarm_based.AO.OriginalAO:>Problem: P, Epoch: 10, Current best: 0.7439024390243903, Global best: 0.7439024390243903, Runtime: 1.44007 seconds\n",
            "INFO:mealpy.swarm_based.BA.ModifiedBA:Solving single objective optimization problem.\n"
          ]
        },
        {
          "output_type": "stream",
          "name": "stdout",
          "text": [
            "['LevyES', 'JADE', 'OriginalFPA', 'OriginalFBIO', 'OriginalQSA', 'ImprovedQSA', 'OriginalTLO', 'OriginalAOA', 'OriginalCGO', 'OriginalGBO', 'OriginalPSS', 'OriginalSCA', 'OriginalArchOA', 'EnhancedTWO', 'EnhancedAEO', 'OriginalAEO', 'LevyTWO', 'OriginalMVO', 'AdaptiveEO', 'ModifiedEO', 'OriginalGCO', 'OriginalALO', 'OriginalAO'] [[9, 102, 0.9, 0.7088414634146342, 0.7088414634146342, 3.683679962158203], [11, 100, 0.10379182419578181, 0.7560975609756099, 0.7560975609756099, 2.76029109954834], [9, 1000, 0.011191866902417233, 0.75, 0.75, 6.135713887214661], [8, 105, 0.06788570363665233, 0.7652439024390245, 0.7652439024390245, 11.17553448677063], [10, 1000, 0.016051223033985762, 0.7576219512195121, 0.7576219512195121, 29.175256085395812], [8, 100, 0.18835955621218572, 0.760670731707317, 0.760670731707317, 15.659284162521363], [8, 100, 0.085784144603691, 0.7545731707317073, 0.7545731707317073, 5.743708515167237], [12, 966, 0.01, 0.7530487804878048, 0.7530487804878048, 11.049904227256775], [12, 749, 0.020154216677948894, 0.7560975609756099, 0.7560975609756099, 29.137100100517273], [9, 100, 0.056891606830706105, 0.7621951219512195, 0.7621951219512195, 5.287493014335633], [10, 947, 0.646075343, 0.7286585365853658, 0.7286585365853658, 3.2021466970443724], [10, 912, 0.015876347690752298, 0.7545731707317073, 0.7545731707317073, 7.785303521156311], [10, 617, 0.9, 0.7454268292682927, 0.7454268292682927, 4.30113046169281], [10, 998, 0.01, 0.7530487804878048, 0.7530487804878048, 35.57842907905579], [10, 776, 0.01000701406974951, 0.7545731707317073, 0.7545731707317073, 17.617431354522704], [12, 937, 0.01, 0.7545731707317073, 0.7545731707317073, 21.534763360023497], [9, 782, 0.01, 0.7530487804878048, 0.7530487804878048, 6.161834239959717], [10, 751, 0.010456349856138948, 0.7545731707317073, 0.7545731707317073, 9.832323932647705], [9, 556, 0.014094775557975212, 0.7576219512195121, 0.7576219512195121, 9.080123209953308], [12, 838, 0.01, 0.7530487804878048, 0.7530487804878048, 9.234201622009277], [10, 1000, 0.01, 0.7530487804878048, 0.7530487804878048, 7.00337586402893], [9, 753, 0.2179253314612768, 0.7332317073170732, 0.7332317073170732, 3.9184326171875], [8, 221, 0.17820824369843816, 0.7439024390243903, 0.7439024390243903, 1.8626875162124634]]\n",
            "started\n"
          ]
        },
        {
          "output_type": "stream",
          "name": "stderr",
          "text": [
            "INFO:mealpy.swarm_based.BA.ModifiedBA:>Problem: P, Epoch: 1, Current best: 0.7454268292682927, Global best: 0.7454268292682927, Runtime: 9.21684 seconds\n",
            "INFO:mealpy.swarm_based.BA.ModifiedBA:>Problem: P, Epoch: 2, Current best: 0.7439024390243903, Global best: 0.7454268292682927, Runtime: 10.64217 seconds\n",
            "INFO:mealpy.swarm_based.BA.ModifiedBA:>Problem: P, Epoch: 3, Current best: 0.7454268292682927, Global best: 0.7454268292682927, Runtime: 11.48188 seconds\n",
            "INFO:mealpy.swarm_based.BA.ModifiedBA:>Problem: P, Epoch: 4, Current best: 0.7454268292682927, Global best: 0.7454268292682927, Runtime: 11.71718 seconds\n",
            "INFO:mealpy.swarm_based.BA.ModifiedBA:>Problem: P, Epoch: 5, Current best: 0.746951219512195, Global best: 0.746951219512195, Runtime: 10.62147 seconds\n",
            "INFO:mealpy.swarm_based.BA.ModifiedBA:>Problem: P, Epoch: 6, Current best: 0.7484756097560976, Global best: 0.7484756097560976, Runtime: 6.31216 seconds\n",
            "INFO:mealpy.swarm_based.BA.ModifiedBA:>Problem: P, Epoch: 7, Current best: 0.7530487804878048, Global best: 0.7530487804878048, Runtime: 11.37770 seconds\n",
            "INFO:mealpy.swarm_based.BA.ModifiedBA:>Problem: P, Epoch: 8, Current best: 0.7530487804878048, Global best: 0.7530487804878048, Runtime: 12.61126 seconds\n",
            "INFO:mealpy.swarm_based.BA.ModifiedBA:>Problem: P, Epoch: 9, Current best: 0.75, Global best: 0.7530487804878048, Runtime: 13.79519 seconds\n",
            "INFO:mealpy.swarm_based.BA.ModifiedBA:>Problem: P, Epoch: 10, Current best: 0.7530487804878048, Global best: 0.7530487804878048, Runtime: 13.71111 seconds\n"
          ]
        },
        {
          "output_type": "stream",
          "name": "stdout",
          "text": [
            "['LevyES', 'JADE', 'OriginalFPA', 'OriginalFBIO', 'OriginalQSA', 'ImprovedQSA', 'OriginalTLO', 'OriginalAOA', 'OriginalCGO', 'OriginalGBO', 'OriginalPSS', 'OriginalSCA', 'OriginalArchOA', 'EnhancedTWO', 'EnhancedAEO', 'OriginalAEO', 'LevyTWO', 'OriginalMVO', 'AdaptiveEO', 'ModifiedEO', 'OriginalGCO', 'OriginalALO', 'OriginalAO', 'ModifiedBA'] [[9, 102, 0.9, 0.7088414634146342, 0.7088414634146342, 3.683679962158203], [11, 100, 0.10379182419578181, 0.7560975609756099, 0.7560975609756099, 2.76029109954834], [9, 1000, 0.011191866902417233, 0.75, 0.75, 6.135713887214661], [8, 105, 0.06788570363665233, 0.7652439024390245, 0.7652439024390245, 11.17553448677063], [10, 1000, 0.016051223033985762, 0.7576219512195121, 0.7576219512195121, 29.175256085395812], [8, 100, 0.18835955621218572, 0.760670731707317, 0.760670731707317, 15.659284162521363], [8, 100, 0.085784144603691, 0.7545731707317073, 0.7545731707317073, 5.743708515167237], [12, 966, 0.01, 0.7530487804878048, 0.7530487804878048, 11.049904227256775], [12, 749, 0.020154216677948894, 0.7560975609756099, 0.7560975609756099, 29.137100100517273], [9, 100, 0.056891606830706105, 0.7621951219512195, 0.7621951219512195, 5.287493014335633], [10, 947, 0.646075343, 0.7286585365853658, 0.7286585365853658, 3.2021466970443724], [10, 912, 0.015876347690752298, 0.7545731707317073, 0.7545731707317073, 7.785303521156311], [10, 617, 0.9, 0.7454268292682927, 0.7454268292682927, 4.30113046169281], [10, 998, 0.01, 0.7530487804878048, 0.7530487804878048, 35.57842907905579], [10, 776, 0.01000701406974951, 0.7545731707317073, 0.7545731707317073, 17.617431354522704], [12, 937, 0.01, 0.7545731707317073, 0.7545731707317073, 21.534763360023497], [9, 782, 0.01, 0.7530487804878048, 0.7530487804878048, 6.161834239959717], [10, 751, 0.010456349856138948, 0.7545731707317073, 0.7545731707317073, 9.832323932647705], [9, 556, 0.014094775557975212, 0.7576219512195121, 0.7576219512195121, 9.080123209953308], [12, 838, 0.01, 0.7530487804878048, 0.7530487804878048, 9.234201622009277], [10, 1000, 0.01, 0.7530487804878048, 0.7530487804878048, 7.00337586402893], [9, 753, 0.2179253314612768, 0.7332317073170732, 0.7332317073170732, 3.9184326171875], [8, 221, 0.17820824369843816, 0.7439024390243903, 0.7439024390243903, 1.8626875162124634], [10, 1000, 0.01, 0.7530487804878048, 0.7530487804878048, 11.747303700447082]]\n",
            "started\n"
          ]
        },
        {
          "output_type": "stream",
          "name": "stderr",
          "text": [
            "INFO:mealpy.swarm_based.BA.OriginalBA:Solving single objective optimization problem.\n",
            "INFO:mealpy.swarm_based.BA.OriginalBA:>Problem: P, Epoch: 1, Current best: 0.75, Global best: 0.75, Runtime: 6.39128 seconds\n",
            "INFO:mealpy.swarm_based.BA.OriginalBA:>Problem: P, Epoch: 2, Current best: 0.75, Global best: 0.75, Runtime: 2.69144 seconds\n",
            "INFO:mealpy.swarm_based.BA.OriginalBA:>Problem: P, Epoch: 3, Current best: 0.75, Global best: 0.75, Runtime: 2.60150 seconds\n",
            "INFO:mealpy.swarm_based.BA.OriginalBA:>Problem: P, Epoch: 4, Current best: 0.75, Global best: 0.75, Runtime: 2.58177 seconds\n",
            "INFO:mealpy.swarm_based.BA.OriginalBA:>Problem: P, Epoch: 5, Current best: 0.75, Global best: 0.75, Runtime: 5.60562 seconds\n",
            "INFO:mealpy.swarm_based.BA.OriginalBA:>Problem: P, Epoch: 6, Current best: 0.75, Global best: 0.75, Runtime: 2.65249 seconds\n",
            "INFO:mealpy.swarm_based.BA.OriginalBA:>Problem: P, Epoch: 7, Current best: 0.75, Global best: 0.75, Runtime: 2.59597 seconds\n",
            "INFO:mealpy.swarm_based.BA.OriginalBA:>Problem: P, Epoch: 8, Current best: 0.75, Global best: 0.75, Runtime: 6.13731 seconds\n",
            "INFO:mealpy.swarm_based.BA.OriginalBA:>Problem: P, Epoch: 9, Current best: 0.75, Global best: 0.75, Runtime: 3.12747 seconds\n",
            "INFO:mealpy.swarm_based.BA.OriginalBA:>Problem: P, Epoch: 10, Current best: 0.75, Global best: 0.75, Runtime: 2.60851 seconds\n"
          ]
        },
        {
          "output_type": "stream",
          "name": "stdout",
          "text": [
            "['LevyES', 'JADE', 'OriginalFPA', 'OriginalFBIO', 'OriginalQSA', 'ImprovedQSA', 'OriginalTLO', 'OriginalAOA', 'OriginalCGO', 'OriginalGBO', 'OriginalPSS', 'OriginalSCA', 'OriginalArchOA', 'EnhancedTWO', 'EnhancedAEO', 'OriginalAEO', 'LevyTWO', 'OriginalMVO', 'AdaptiveEO', 'ModifiedEO', 'OriginalGCO', 'OriginalALO', 'OriginalAO', 'ModifiedBA', 'OriginalBA'] [[9, 102, 0.9, 0.7088414634146342, 0.7088414634146342, 3.683679962158203], [11, 100, 0.10379182419578181, 0.7560975609756099, 0.7560975609756099, 2.76029109954834], [9, 1000, 0.011191866902417233, 0.75, 0.75, 6.135713887214661], [8, 105, 0.06788570363665233, 0.7652439024390245, 0.7652439024390245, 11.17553448677063], [10, 1000, 0.016051223033985762, 0.7576219512195121, 0.7576219512195121, 29.175256085395812], [8, 100, 0.18835955621218572, 0.760670731707317, 0.760670731707317, 15.659284162521363], [8, 100, 0.085784144603691, 0.7545731707317073, 0.7545731707317073, 5.743708515167237], [12, 966, 0.01, 0.7530487804878048, 0.7530487804878048, 11.049904227256775], [12, 749, 0.020154216677948894, 0.7560975609756099, 0.7560975609756099, 29.137100100517273], [9, 100, 0.056891606830706105, 0.7621951219512195, 0.7621951219512195, 5.287493014335633], [10, 947, 0.646075343, 0.7286585365853658, 0.7286585365853658, 3.2021466970443724], [10, 912, 0.015876347690752298, 0.7545731707317073, 0.7545731707317073, 7.785303521156311], [10, 617, 0.9, 0.7454268292682927, 0.7454268292682927, 4.30113046169281], [10, 998, 0.01, 0.7530487804878048, 0.7530487804878048, 35.57842907905579], [10, 776, 0.01000701406974951, 0.7545731707317073, 0.7545731707317073, 17.617431354522704], [12, 937, 0.01, 0.7545731707317073, 0.7545731707317073, 21.534763360023497], [9, 782, 0.01, 0.7530487804878048, 0.7530487804878048, 6.161834239959717], [10, 751, 0.010456349856138948, 0.7545731707317073, 0.7545731707317073, 9.832323932647705], [9, 556, 0.014094775557975212, 0.7576219512195121, 0.7576219512195121, 9.080123209953308], [12, 838, 0.01, 0.7530487804878048, 0.7530487804878048, 9.234201622009277], [10, 1000, 0.01, 0.7530487804878048, 0.7530487804878048, 7.00337586402893], [9, 753, 0.2179253314612768, 0.7332317073170732, 0.7332317073170732, 3.9184326171875], [8, 221, 0.17820824369843816, 0.7439024390243903, 0.7439024390243903, 1.8626875162124634], [10, 1000, 0.01, 0.7530487804878048, 0.7530487804878048, 11.747303700447082], [12, 1000, 0.01, 0.75, 0.75, 3.9632811546325684]]\n",
            "started\n"
          ]
        },
        {
          "output_type": "stream",
          "name": "stderr",
          "text": [
            "INFO:mealpy.swarm_based.BFO.OriginalBFO:Solving single objective optimization problem.\n",
            "INFO:mealpy.swarm_based.BFO.OriginalBFO:>Problem: P, Epoch: 1, Current best: 0.7317073170731707, Global best: 0.7378048780487805, Runtime: 21.43751 seconds\n",
            "INFO:mealpy.swarm_based.BFO.OriginalBFO:>Problem: P, Epoch: 2, Current best: 0.7256097560975608, Global best: 0.7378048780487805, Runtime: 19.16778 seconds\n",
            "INFO:mealpy.swarm_based.BFO.OriginalBFO:>Problem: P, Epoch: 3, Current best: 0.7301829268292683, Global best: 0.7378048780487805, Runtime: 22.28704 seconds\n",
            "INFO:mealpy.swarm_based.BFO.OriginalBFO:>Problem: P, Epoch: 4, Current best: 0.7195121951219512, Global best: 0.7378048780487805, Runtime: 22.81381 seconds\n",
            "INFO:mealpy.swarm_based.BFO.OriginalBFO:>Problem: P, Epoch: 5, Current best: 0.7195121951219512, Global best: 0.7378048780487805, Runtime: 20.51880 seconds\n",
            "INFO:mealpy.swarm_based.BFO.OriginalBFO:>Problem: P, Epoch: 6, Current best: 0.7362804878048782, Global best: 0.7378048780487805, Runtime: 21.33813 seconds\n",
            "INFO:mealpy.swarm_based.BFO.OriginalBFO:>Problem: P, Epoch: 7, Current best: 0.7362804878048782, Global best: 0.7378048780487805, Runtime: 15.78343 seconds\n",
            "INFO:mealpy.swarm_based.BFO.OriginalBFO:>Problem: P, Epoch: 8, Current best: 0.7240853658536585, Global best: 0.7378048780487805, Runtime: 16.49814 seconds\n",
            "INFO:mealpy.swarm_based.BFO.OriginalBFO:>Problem: P, Epoch: 9, Current best: 0.739329268292683, Global best: 0.739329268292683, Runtime: 20.33459 seconds\n",
            "INFO:mealpy.swarm_based.BFO.OriginalBFO:>Problem: P, Epoch: 10, Current best: 0.7347560975609757, Global best: 0.739329268292683, Runtime: 14.68712 seconds\n"
          ]
        },
        {
          "output_type": "stream",
          "name": "stdout",
          "text": [
            "['LevyES', 'JADE', 'OriginalFPA', 'OriginalFBIO', 'OriginalQSA', 'ImprovedQSA', 'OriginalTLO', 'OriginalAOA', 'OriginalCGO', 'OriginalGBO', 'OriginalPSS', 'OriginalSCA', 'OriginalArchOA', 'EnhancedTWO', 'EnhancedAEO', 'OriginalAEO', 'LevyTWO', 'OriginalMVO', 'AdaptiveEO', 'ModifiedEO', 'OriginalGCO', 'OriginalALO', 'OriginalAO', 'ModifiedBA', 'OriginalBA', 'OriginalBFO'] [[9, 102, 0.9, 0.7088414634146342, 0.7088414634146342, 3.683679962158203], [11, 100, 0.10379182419578181, 0.7560975609756099, 0.7560975609756099, 2.76029109954834], [9, 1000, 0.011191866902417233, 0.75, 0.75, 6.135713887214661], [8, 105, 0.06788570363665233, 0.7652439024390245, 0.7652439024390245, 11.17553448677063], [10, 1000, 0.016051223033985762, 0.7576219512195121, 0.7576219512195121, 29.175256085395812], [8, 100, 0.18835955621218572, 0.760670731707317, 0.760670731707317, 15.659284162521363], [8, 100, 0.085784144603691, 0.7545731707317073, 0.7545731707317073, 5.743708515167237], [12, 966, 0.01, 0.7530487804878048, 0.7530487804878048, 11.049904227256775], [12, 749, 0.020154216677948894, 0.7560975609756099, 0.7560975609756099, 29.137100100517273], [9, 100, 0.056891606830706105, 0.7621951219512195, 0.7621951219512195, 5.287493014335633], [10, 947, 0.646075343, 0.7286585365853658, 0.7286585365853658, 3.2021466970443724], [10, 912, 0.015876347690752298, 0.7545731707317073, 0.7545731707317073, 7.785303521156311], [10, 617, 0.9, 0.7454268292682927, 0.7454268292682927, 4.30113046169281], [10, 998, 0.01, 0.7530487804878048, 0.7530487804878048, 35.57842907905579], [10, 776, 0.01000701406974951, 0.7545731707317073, 0.7545731707317073, 17.617431354522704], [12, 937, 0.01, 0.7545731707317073, 0.7545731707317073, 21.534763360023497], [9, 782, 0.01, 0.7530487804878048, 0.7530487804878048, 6.161834239959717], [10, 751, 0.010456349856138948, 0.7545731707317073, 0.7545731707317073, 9.832323932647705], [9, 556, 0.014094775557975212, 0.7576219512195121, 0.7576219512195121, 9.080123209953308], [12, 838, 0.01, 0.7530487804878048, 0.7530487804878048, 9.234201622009277], [10, 1000, 0.01, 0.7530487804878048, 0.7530487804878048, 7.00337586402893], [9, 753, 0.2179253314612768, 0.7332317073170732, 0.7332317073170732, 3.9184326171875], [8, 221, 0.17820824369843816, 0.7439024390243903, 0.7439024390243903, 1.8626875162124634], [10, 1000, 0.01, 0.7530487804878048, 0.7530487804878048, 11.747303700447082], [12, 1000, 0.01, 0.75, 0.75, 3.9632811546325684], [10, 483, 0.3623566268832016, 0.7347560975609757, 0.7347560975609757, 19.779944229125977]]\n",
            "started\n"
          ]
        },
        {
          "output_type": "stream",
          "name": "stderr",
          "text": [
            "INFO:mealpy.swarm_based.FOA.WhaleFOA:Solving single objective optimization problem.\n",
            "INFO:mealpy.swarm_based.FOA.WhaleFOA:>Problem: P, Epoch: 1, Current best: 0.7317073170731707, Global best: 0.7317073170731707, Runtime: 1.56877 seconds\n",
            "INFO:mealpy.swarm_based.FOA.WhaleFOA:>Problem: P, Epoch: 2, Current best: 0.7347560975609757, Global best: 0.7347560975609757, Runtime: 1.34610 seconds\n",
            "INFO:mealpy.swarm_based.FOA.WhaleFOA:>Problem: P, Epoch: 3, Current best: 0.7347560975609757, Global best: 0.7347560975609757, Runtime: 1.31666 seconds\n",
            "INFO:mealpy.swarm_based.FOA.WhaleFOA:>Problem: P, Epoch: 4, Current best: 0.7408536585365852, Global best: 0.7408536585365852, Runtime: 1.43555 seconds\n",
            "INFO:mealpy.swarm_based.FOA.WhaleFOA:>Problem: P, Epoch: 5, Current best: 0.7408536585365852, Global best: 0.7408536585365852, Runtime: 4.08865 seconds\n",
            "INFO:mealpy.swarm_based.FOA.WhaleFOA:>Problem: P, Epoch: 6, Current best: 0.7408536585365852, Global best: 0.7408536585365852, Runtime: 1.16731 seconds\n",
            "INFO:mealpy.swarm_based.FOA.WhaleFOA:>Problem: P, Epoch: 7, Current best: 0.7408536585365852, Global best: 0.7408536585365852, Runtime: 1.24259 seconds\n",
            "INFO:mealpy.swarm_based.FOA.WhaleFOA:>Problem: P, Epoch: 8, Current best: 0.7408536585365852, Global best: 0.7408536585365852, Runtime: 1.27197 seconds\n",
            "INFO:mealpy.swarm_based.FOA.WhaleFOA:>Problem: P, Epoch: 9, Current best: 0.7408536585365852, Global best: 0.7408536585365852, Runtime: 1.10524 seconds\n",
            "INFO:mealpy.swarm_based.FOA.WhaleFOA:>Problem: P, Epoch: 10, Current best: 0.7408536585365852, Global best: 0.7408536585365852, Runtime: 1.22065 seconds\n"
          ]
        },
        {
          "output_type": "stream",
          "name": "stdout",
          "text": [
            "['LevyES', 'JADE', 'OriginalFPA', 'OriginalFBIO', 'OriginalQSA', 'ImprovedQSA', 'OriginalTLO', 'OriginalAOA', 'OriginalCGO', 'OriginalGBO', 'OriginalPSS', 'OriginalSCA', 'OriginalArchOA', 'EnhancedTWO', 'EnhancedAEO', 'OriginalAEO', 'LevyTWO', 'OriginalMVO', 'AdaptiveEO', 'ModifiedEO', 'OriginalGCO', 'OriginalALO', 'OriginalAO', 'ModifiedBA', 'OriginalBA', 'OriginalBFO', 'WhaleFOA'] [[9, 102, 0.9, 0.7088414634146342, 0.7088414634146342, 3.683679962158203], [11, 100, 0.10379182419578181, 0.7560975609756099, 0.7560975609756099, 2.76029109954834], [9, 1000, 0.011191866902417233, 0.75, 0.75, 6.135713887214661], [8, 105, 0.06788570363665233, 0.7652439024390245, 0.7652439024390245, 11.17553448677063], [10, 1000, 0.016051223033985762, 0.7576219512195121, 0.7576219512195121, 29.175256085395812], [8, 100, 0.18835955621218572, 0.760670731707317, 0.760670731707317, 15.659284162521363], [8, 100, 0.085784144603691, 0.7545731707317073, 0.7545731707317073, 5.743708515167237], [12, 966, 0.01, 0.7530487804878048, 0.7530487804878048, 11.049904227256775], [12, 749, 0.020154216677948894, 0.7560975609756099, 0.7560975609756099, 29.137100100517273], [9, 100, 0.056891606830706105, 0.7621951219512195, 0.7621951219512195, 5.287493014335633], [10, 947, 0.646075343, 0.7286585365853658, 0.7286585365853658, 3.2021466970443724], [10, 912, 0.015876347690752298, 0.7545731707317073, 0.7545731707317073, 7.785303521156311], [10, 617, 0.9, 0.7454268292682927, 0.7454268292682927, 4.30113046169281], [10, 998, 0.01, 0.7530487804878048, 0.7530487804878048, 35.57842907905579], [10, 776, 0.01000701406974951, 0.7545731707317073, 0.7545731707317073, 17.617431354522704], [12, 937, 0.01, 0.7545731707317073, 0.7545731707317073, 21.534763360023497], [9, 782, 0.01, 0.7530487804878048, 0.7530487804878048, 6.161834239959717], [10, 751, 0.010456349856138948, 0.7545731707317073, 0.7545731707317073, 9.832323932647705], [9, 556, 0.014094775557975212, 0.7576219512195121, 0.7576219512195121, 9.080123209953308], [12, 838, 0.01, 0.7530487804878048, 0.7530487804878048, 9.234201622009277], [10, 1000, 0.01, 0.7530487804878048, 0.7530487804878048, 7.00337586402893], [9, 753, 0.2179253314612768, 0.7332317073170732, 0.7332317073170732, 3.9184326171875], [8, 221, 0.17820824369843816, 0.7439024390243903, 0.7439024390243903, 1.8626875162124634], [10, 1000, 0.01, 0.7530487804878048, 0.7530487804878048, 11.747303700447082], [12, 1000, 0.01, 0.75, 0.75, 3.9632811546325684], [10, 483, 0.3623566268832016, 0.7347560975609757, 0.7347560975609757, 19.779944229125977], [12, 297, 0.1774970257873859, 0.7408536585365852, 0.7408536585365852, 1.7762154579162597]]\n",
            "started\n"
          ]
        },
        {
          "output_type": "stream",
          "name": "stderr",
          "text": [
            "INFO:mealpy.swarm_based.JA.OriginalJA:Solving single objective optimization problem.\n",
            "INFO:mealpy.swarm_based.JA.OriginalJA:>Problem: P, Epoch: 1, Current best: 0.7347560975609757, Global best: 0.7347560975609757, Runtime: 5.40764 seconds\n",
            "INFO:mealpy.swarm_based.JA.OriginalJA:>Problem: P, Epoch: 2, Current best: 0.7439024390243903, Global best: 0.7439024390243903, Runtime: 2.81969 seconds\n",
            "INFO:mealpy.swarm_based.JA.OriginalJA:>Problem: P, Epoch: 3, Current best: 0.7454268292682927, Global best: 0.7454268292682927, Runtime: 4.25030 seconds\n",
            "INFO:mealpy.swarm_based.JA.OriginalJA:>Problem: P, Epoch: 4, Current best: 0.7484756097560976, Global best: 0.7484756097560976, Runtime: 7.95253 seconds\n",
            "INFO:mealpy.swarm_based.JA.OriginalJA:>Problem: P, Epoch: 5, Current best: 0.7530487804878048, Global best: 0.7530487804878048, Runtime: 6.15209 seconds\n",
            "INFO:mealpy.swarm_based.JA.OriginalJA:>Problem: P, Epoch: 6, Current best: 0.7530487804878048, Global best: 0.7530487804878048, Runtime: 11.49449 seconds\n",
            "INFO:mealpy.swarm_based.JA.OriginalJA:>Problem: P, Epoch: 7, Current best: 0.7545731707317073, Global best: 0.7545731707317073, Runtime: 11.47094 seconds\n",
            "INFO:mealpy.swarm_based.JA.OriginalJA:>Problem: P, Epoch: 8, Current best: 0.7530487804878048, Global best: 0.7545731707317073, Runtime: 12.59827 seconds\n",
            "INFO:mealpy.swarm_based.JA.OriginalJA:>Problem: P, Epoch: 9, Current best: 0.7530487804878048, Global best: 0.7545731707317073, Runtime: 13.27107 seconds\n",
            "INFO:mealpy.swarm_based.JA.OriginalJA:>Problem: P, Epoch: 10, Current best: 0.75, Global best: 0.7545731707317073, Runtime: 13.14109 seconds\n",
            "INFO:mealpy.swarm_based.FOA.OriginalFOA:Solving single objective optimization problem.\n"
          ]
        },
        {
          "output_type": "stream",
          "name": "stdout",
          "text": [
            "['LevyES', 'JADE', 'OriginalFPA', 'OriginalFBIO', 'OriginalQSA', 'ImprovedQSA', 'OriginalTLO', 'OriginalAOA', 'OriginalCGO', 'OriginalGBO', 'OriginalPSS', 'OriginalSCA', 'OriginalArchOA', 'EnhancedTWO', 'EnhancedAEO', 'OriginalAEO', 'LevyTWO', 'OriginalMVO', 'AdaptiveEO', 'ModifiedEO', 'OriginalGCO', 'OriginalALO', 'OriginalAO', 'ModifiedBA', 'OriginalBA', 'OriginalBFO', 'WhaleFOA', 'OriginalJA'] [[9, 102, 0.9, 0.7088414634146342, 0.7088414634146342, 3.683679962158203], [11, 100, 0.10379182419578181, 0.7560975609756099, 0.7560975609756099, 2.76029109954834], [9, 1000, 0.011191866902417233, 0.75, 0.75, 6.135713887214661], [8, 105, 0.06788570363665233, 0.7652439024390245, 0.7652439024390245, 11.17553448677063], [10, 1000, 0.016051223033985762, 0.7576219512195121, 0.7576219512195121, 29.175256085395812], [8, 100, 0.18835955621218572, 0.760670731707317, 0.760670731707317, 15.659284162521363], [8, 100, 0.085784144603691, 0.7545731707317073, 0.7545731707317073, 5.743708515167237], [12, 966, 0.01, 0.7530487804878048, 0.7530487804878048, 11.049904227256775], [12, 749, 0.020154216677948894, 0.7560975609756099, 0.7560975609756099, 29.137100100517273], [9, 100, 0.056891606830706105, 0.7621951219512195, 0.7621951219512195, 5.287493014335633], [10, 947, 0.646075343, 0.7286585365853658, 0.7286585365853658, 3.2021466970443724], [10, 912, 0.015876347690752298, 0.7545731707317073, 0.7545731707317073, 7.785303521156311], [10, 617, 0.9, 0.7454268292682927, 0.7454268292682927, 4.30113046169281], [10, 998, 0.01, 0.7530487804878048, 0.7530487804878048, 35.57842907905579], [10, 776, 0.01000701406974951, 0.7545731707317073, 0.7545731707317073, 17.617431354522704], [12, 937, 0.01, 0.7545731707317073, 0.7545731707317073, 21.534763360023497], [9, 782, 0.01, 0.7530487804878048, 0.7530487804878048, 6.161834239959717], [10, 751, 0.010456349856138948, 0.7545731707317073, 0.7545731707317073, 9.832323932647705], [9, 556, 0.014094775557975212, 0.7576219512195121, 0.7576219512195121, 9.080123209953308], [12, 838, 0.01, 0.7530487804878048, 0.7530487804878048, 9.234201622009277], [10, 1000, 0.01, 0.7530487804878048, 0.7530487804878048, 7.00337586402893], [9, 753, 0.2179253314612768, 0.7332317073170732, 0.7332317073170732, 3.9184326171875], [8, 221, 0.17820824369843816, 0.7439024390243903, 0.7439024390243903, 1.8626875162124634], [10, 1000, 0.01, 0.7530487804878048, 0.7530487804878048, 11.747303700447082], [12, 1000, 0.01, 0.75, 0.75, 3.9632811546325684], [10, 483, 0.3623566268832016, 0.7347560975609757, 0.7347560975609757, 19.779944229125977], [12, 297, 0.1774970257873859, 0.7408536585365852, 0.7408536585365852, 1.7762154579162597], [12, 1000, 0.01, 0.75, 0.75, 9.109259438514709]]\n",
            "started\n"
          ]
        },
        {
          "output_type": "stream",
          "name": "stderr",
          "text": [
            "INFO:mealpy.swarm_based.FOA.OriginalFOA:>Problem: P, Epoch: 1, Current best: 0.7347560975609757, Global best: 0.7347560975609757, Runtime: 1.78414 seconds\n",
            "INFO:mealpy.swarm_based.FOA.OriginalFOA:>Problem: P, Epoch: 2, Current best: 0.7347560975609757, Global best: 0.7347560975609757, Runtime: 1.66885 seconds\n",
            "INFO:mealpy.swarm_based.FOA.OriginalFOA:>Problem: P, Epoch: 3, Current best: 0.7347560975609757, Global best: 0.7347560975609757, Runtime: 5.04662 seconds\n",
            "INFO:mealpy.swarm_based.FOA.OriginalFOA:>Problem: P, Epoch: 4, Current best: 0.7347560975609757, Global best: 0.7347560975609757, Runtime: 2.35935 seconds\n",
            "INFO:mealpy.swarm_based.FOA.OriginalFOA:>Problem: P, Epoch: 5, Current best: 0.7347560975609757, Global best: 0.7347560975609757, Runtime: 2.27560 seconds\n",
            "INFO:mealpy.swarm_based.FOA.OriginalFOA:>Problem: P, Epoch: 6, Current best: 0.7347560975609757, Global best: 0.7347560975609757, Runtime: 1.84861 seconds\n",
            "INFO:mealpy.swarm_based.FOA.OriginalFOA:>Problem: P, Epoch: 7, Current best: 0.7347560975609757, Global best: 0.7347560975609757, Runtime: 2.11331 seconds\n",
            "INFO:mealpy.swarm_based.FOA.OriginalFOA:>Problem: P, Epoch: 8, Current best: 0.7347560975609757, Global best: 0.7347560975609757, Runtime: 4.99569 seconds\n",
            "INFO:mealpy.swarm_based.FOA.OriginalFOA:>Problem: P, Epoch: 9, Current best: 0.7347560975609757, Global best: 0.7347560975609757, Runtime: 2.08273 seconds\n",
            "INFO:mealpy.swarm_based.FOA.OriginalFOA:>Problem: P, Epoch: 10, Current best: 0.7347560975609757, Global best: 0.7347560975609757, Runtime: 1.68722 seconds\n"
          ]
        },
        {
          "output_type": "stream",
          "name": "stdout",
          "text": [
            "['LevyES', 'JADE', 'OriginalFPA', 'OriginalFBIO', 'OriginalQSA', 'ImprovedQSA', 'OriginalTLO', 'OriginalAOA', 'OriginalCGO', 'OriginalGBO', 'OriginalPSS', 'OriginalSCA', 'OriginalArchOA', 'EnhancedTWO', 'EnhancedAEO', 'OriginalAEO', 'LevyTWO', 'OriginalMVO', 'AdaptiveEO', 'ModifiedEO', 'OriginalGCO', 'OriginalALO', 'OriginalAO', 'ModifiedBA', 'OriginalBA', 'OriginalBFO', 'WhaleFOA', 'OriginalJA', 'OriginalFOA'] [[9, 102, 0.9, 0.7088414634146342, 0.7088414634146342, 3.683679962158203], [11, 100, 0.10379182419578181, 0.7560975609756099, 0.7560975609756099, 2.76029109954834], [9, 1000, 0.011191866902417233, 0.75, 0.75, 6.135713887214661], [8, 105, 0.06788570363665233, 0.7652439024390245, 0.7652439024390245, 11.17553448677063], [10, 1000, 0.016051223033985762, 0.7576219512195121, 0.7576219512195121, 29.175256085395812], [8, 100, 0.18835955621218572, 0.760670731707317, 0.760670731707317, 15.659284162521363], [8, 100, 0.085784144603691, 0.7545731707317073, 0.7545731707317073, 5.743708515167237], [12, 966, 0.01, 0.7530487804878048, 0.7530487804878048, 11.049904227256775], [12, 749, 0.020154216677948894, 0.7560975609756099, 0.7560975609756099, 29.137100100517273], [9, 100, 0.056891606830706105, 0.7621951219512195, 0.7621951219512195, 5.287493014335633], [10, 947, 0.646075343, 0.7286585365853658, 0.7286585365853658, 3.2021466970443724], [10, 912, 0.015876347690752298, 0.7545731707317073, 0.7545731707317073, 7.785303521156311], [10, 617, 0.9, 0.7454268292682927, 0.7454268292682927, 4.30113046169281], [10, 998, 0.01, 0.7530487804878048, 0.7530487804878048, 35.57842907905579], [10, 776, 0.01000701406974951, 0.7545731707317073, 0.7545731707317073, 17.617431354522704], [12, 937, 0.01, 0.7545731707317073, 0.7545731707317073, 21.534763360023497], [9, 782, 0.01, 0.7530487804878048, 0.7530487804878048, 6.161834239959717], [10, 751, 0.010456349856138948, 0.7545731707317073, 0.7545731707317073, 9.832323932647705], [9, 556, 0.014094775557975212, 0.7576219512195121, 0.7576219512195121, 9.080123209953308], [12, 838, 0.01, 0.7530487804878048, 0.7530487804878048, 9.234201622009277], [10, 1000, 0.01, 0.7530487804878048, 0.7530487804878048, 7.00337586402893], [9, 753, 0.2179253314612768, 0.7332317073170732, 0.7332317073170732, 3.9184326171875], [8, 221, 0.17820824369843816, 0.7439024390243903, 0.7439024390243903, 1.8626875162124634], [10, 1000, 0.01, 0.7530487804878048, 0.7530487804878048, 11.747303700447082], [12, 1000, 0.01, 0.75, 0.75, 3.9632811546325684], [10, 483, 0.3623566268832016, 0.7347560975609757, 0.7347560975609757, 19.779944229125977], [12, 297, 0.1774970257873859, 0.7408536585365852, 0.7408536585365852, 1.7762154579162597], [12, 1000, 0.01, 0.75, 0.75, 9.109259438514709], [12, 400, 0.9, 0.7347560975609757, 0.7347560975609757, 2.7919875621795653]]\n"
          ]
        }
      ]
    },
    {
      "cell_type": "code",
      "source": [
        "np =pd.DataFrame()\n",
        "for i,j in zip(n,p):\n",
        "    np[i] = j"
      ],
      "metadata": {
        "id": "7R1J0Kv_TRtu"
      },
      "execution_count": 78,
      "outputs": []
    },
    {
      "cell_type": "code",
      "source": [
        "np = np.T"
      ],
      "metadata": {
        "id": "kESmVe-LT12r"
      },
      "execution_count": 81,
      "outputs": []
    },
    {
      "cell_type": "code",
      "source": [
        "np.columns = ['Max Dept','N Stimator','Learning Rate','Best Accuracy','Best Accuracy 2','time']"
      ],
      "metadata": {
        "id": "XtpW76cTj_Ta"
      },
      "execution_count": 83,
      "outputs": []
    },
    {
      "cell_type": "code",
      "source": [
        "ArchOA, ASO, EFO, EO, HGSO, MVO, NRO, SA, TWO, WDO"
      ],
      "metadata": {
        "id": "1mDusihS794a"
      },
      "execution_count": null,
      "outputs": []
    },
    {
      "cell_type": "code",
      "source": [
        "np.sort_values(by='time')"
      ],
      "metadata": {
        "colab": {
          "base_uri": "https://localhost:8080/",
          "height": 959
        },
        "id": "NKgOLlD1kIeu",
        "outputId": "d10c108c-ad70-4964-da76-0e22191335a5"
      },
      "execution_count": 90,
      "outputs": [
        {
          "output_type": "execute_result",
          "data": {
            "text/plain": [
              "                Max Dept  N Stimator  Learning Rate  Best Accuracy  \\\n",
              "WhaleFOA            12.0       297.0       0.177497       0.740854   \n",
              "OriginalAO           8.0       221.0       0.178208       0.743902   \n",
              "JADE                11.0       100.0       0.103792       0.756098   \n",
              "OriginalFOA         12.0       400.0       0.900000       0.734756   \n",
              "OriginalPSS         10.0       947.0       0.646075       0.728659   \n",
              "LevyES               9.0       102.0       0.900000       0.708841   \n",
              "OriginalALO          9.0       753.0       0.217925       0.733232   \n",
              "OriginalBA          12.0      1000.0       0.010000       0.750000   \n",
              "OriginalArchOA      10.0       617.0       0.900000       0.745427   \n",
              "OriginalGBO          9.0       100.0       0.056892       0.762195   \n",
              "OriginalTLO          8.0       100.0       0.085784       0.754573   \n",
              "OriginalFPA          9.0      1000.0       0.011192       0.750000   \n",
              "LevyTWO              9.0       782.0       0.010000       0.753049   \n",
              "OriginalGCO         10.0      1000.0       0.010000       0.753049   \n",
              "OriginalSCA         10.0       912.0       0.015876       0.754573   \n",
              "AdaptiveEO           9.0       556.0       0.014095       0.757622   \n",
              "OriginalJA          12.0      1000.0       0.010000       0.750000   \n",
              "ModifiedEO          12.0       838.0       0.010000       0.753049   \n",
              "OriginalMVO         10.0       751.0       0.010456       0.754573   \n",
              "OriginalAOA         12.0       966.0       0.010000       0.753049   \n",
              "OriginalFBIO         8.0       105.0       0.067886       0.765244   \n",
              "ModifiedBA          10.0      1000.0       0.010000       0.753049   \n",
              "ImprovedQSA          8.0       100.0       0.188360       0.760671   \n",
              "EnhancedAEO         10.0       776.0       0.010007       0.754573   \n",
              "OriginalBFO         10.0       483.0       0.362357       0.734756   \n",
              "OriginalAEO         12.0       937.0       0.010000       0.754573   \n",
              "OriginalCGO         12.0       749.0       0.020154       0.756098   \n",
              "OriginalQSA         10.0      1000.0       0.016051       0.757622   \n",
              "EnhancedTWO         10.0       998.0       0.010000       0.753049   \n",
              "\n",
              "                Best Accuracy 2       time  \n",
              "WhaleFOA               0.740854   1.776215  \n",
              "OriginalAO             0.743902   1.862688  \n",
              "JADE                   0.756098   2.760291  \n",
              "OriginalFOA            0.734756   2.791988  \n",
              "OriginalPSS            0.728659   3.202147  \n",
              "LevyES                 0.708841   3.683680  \n",
              "OriginalALO            0.733232   3.918433  \n",
              "OriginalBA             0.750000   3.963281  \n",
              "OriginalArchOA         0.745427   4.301130  \n",
              "OriginalGBO            0.762195   5.287493  \n",
              "OriginalTLO            0.754573   5.743709  \n",
              "OriginalFPA            0.750000   6.135714  \n",
              "LevyTWO                0.753049   6.161834  \n",
              "OriginalGCO            0.753049   7.003376  \n",
              "OriginalSCA            0.754573   7.785304  \n",
              "AdaptiveEO             0.757622   9.080123  \n",
              "OriginalJA             0.750000   9.109259  \n",
              "ModifiedEO             0.753049   9.234202  \n",
              "OriginalMVO            0.754573   9.832324  \n",
              "OriginalAOA            0.753049  11.049904  \n",
              "OriginalFBIO           0.765244  11.175534  \n",
              "ModifiedBA             0.753049  11.747304  \n",
              "ImprovedQSA            0.760671  15.659284  \n",
              "EnhancedAEO            0.754573  17.617431  \n",
              "OriginalBFO            0.734756  19.779944  \n",
              "OriginalAEO            0.754573  21.534763  \n",
              "OriginalCGO            0.756098  29.137100  \n",
              "OriginalQSA            0.757622  29.175256  \n",
              "EnhancedTWO            0.753049  35.578429  "
            ],
            "text/html": [
              "\n",
              "\n",
              "  <div id=\"df-8b20a9e7-1567-4a2e-acf3-f63c94ad6dd9\">\n",
              "    <div class=\"colab-df-container\">\n",
              "      <div>\n",
              "<style scoped>\n",
              "    .dataframe tbody tr th:only-of-type {\n",
              "        vertical-align: middle;\n",
              "    }\n",
              "\n",
              "    .dataframe tbody tr th {\n",
              "        vertical-align: top;\n",
              "    }\n",
              "\n",
              "    .dataframe thead th {\n",
              "        text-align: right;\n",
              "    }\n",
              "</style>\n",
              "<table border=\"1\" class=\"dataframe\">\n",
              "  <thead>\n",
              "    <tr style=\"text-align: right;\">\n",
              "      <th></th>\n",
              "      <th>Max Dept</th>\n",
              "      <th>N Stimator</th>\n",
              "      <th>Learning Rate</th>\n",
              "      <th>Best Accuracy</th>\n",
              "      <th>Best Accuracy 2</th>\n",
              "      <th>time</th>\n",
              "    </tr>\n",
              "  </thead>\n",
              "  <tbody>\n",
              "    <tr>\n",
              "      <th>WhaleFOA</th>\n",
              "      <td>12.0</td>\n",
              "      <td>297.0</td>\n",
              "      <td>0.177497</td>\n",
              "      <td>0.740854</td>\n",
              "      <td>0.740854</td>\n",
              "      <td>1.776215</td>\n",
              "    </tr>\n",
              "    <tr>\n",
              "      <th>OriginalAO</th>\n",
              "      <td>8.0</td>\n",
              "      <td>221.0</td>\n",
              "      <td>0.178208</td>\n",
              "      <td>0.743902</td>\n",
              "      <td>0.743902</td>\n",
              "      <td>1.862688</td>\n",
              "    </tr>\n",
              "    <tr>\n",
              "      <th>JADE</th>\n",
              "      <td>11.0</td>\n",
              "      <td>100.0</td>\n",
              "      <td>0.103792</td>\n",
              "      <td>0.756098</td>\n",
              "      <td>0.756098</td>\n",
              "      <td>2.760291</td>\n",
              "    </tr>\n",
              "    <tr>\n",
              "      <th>OriginalFOA</th>\n",
              "      <td>12.0</td>\n",
              "      <td>400.0</td>\n",
              "      <td>0.900000</td>\n",
              "      <td>0.734756</td>\n",
              "      <td>0.734756</td>\n",
              "      <td>2.791988</td>\n",
              "    </tr>\n",
              "    <tr>\n",
              "      <th>OriginalPSS</th>\n",
              "      <td>10.0</td>\n",
              "      <td>947.0</td>\n",
              "      <td>0.646075</td>\n",
              "      <td>0.728659</td>\n",
              "      <td>0.728659</td>\n",
              "      <td>3.202147</td>\n",
              "    </tr>\n",
              "    <tr>\n",
              "      <th>LevyES</th>\n",
              "      <td>9.0</td>\n",
              "      <td>102.0</td>\n",
              "      <td>0.900000</td>\n",
              "      <td>0.708841</td>\n",
              "      <td>0.708841</td>\n",
              "      <td>3.683680</td>\n",
              "    </tr>\n",
              "    <tr>\n",
              "      <th>OriginalALO</th>\n",
              "      <td>9.0</td>\n",
              "      <td>753.0</td>\n",
              "      <td>0.217925</td>\n",
              "      <td>0.733232</td>\n",
              "      <td>0.733232</td>\n",
              "      <td>3.918433</td>\n",
              "    </tr>\n",
              "    <tr>\n",
              "      <th>OriginalBA</th>\n",
              "      <td>12.0</td>\n",
              "      <td>1000.0</td>\n",
              "      <td>0.010000</td>\n",
              "      <td>0.750000</td>\n",
              "      <td>0.750000</td>\n",
              "      <td>3.963281</td>\n",
              "    </tr>\n",
              "    <tr>\n",
              "      <th>OriginalArchOA</th>\n",
              "      <td>10.0</td>\n",
              "      <td>617.0</td>\n",
              "      <td>0.900000</td>\n",
              "      <td>0.745427</td>\n",
              "      <td>0.745427</td>\n",
              "      <td>4.301130</td>\n",
              "    </tr>\n",
              "    <tr>\n",
              "      <th>OriginalGBO</th>\n",
              "      <td>9.0</td>\n",
              "      <td>100.0</td>\n",
              "      <td>0.056892</td>\n",
              "      <td>0.762195</td>\n",
              "      <td>0.762195</td>\n",
              "      <td>5.287493</td>\n",
              "    </tr>\n",
              "    <tr>\n",
              "      <th>OriginalTLO</th>\n",
              "      <td>8.0</td>\n",
              "      <td>100.0</td>\n",
              "      <td>0.085784</td>\n",
              "      <td>0.754573</td>\n",
              "      <td>0.754573</td>\n",
              "      <td>5.743709</td>\n",
              "    </tr>\n",
              "    <tr>\n",
              "      <th>OriginalFPA</th>\n",
              "      <td>9.0</td>\n",
              "      <td>1000.0</td>\n",
              "      <td>0.011192</td>\n",
              "      <td>0.750000</td>\n",
              "      <td>0.750000</td>\n",
              "      <td>6.135714</td>\n",
              "    </tr>\n",
              "    <tr>\n",
              "      <th>LevyTWO</th>\n",
              "      <td>9.0</td>\n",
              "      <td>782.0</td>\n",
              "      <td>0.010000</td>\n",
              "      <td>0.753049</td>\n",
              "      <td>0.753049</td>\n",
              "      <td>6.161834</td>\n",
              "    </tr>\n",
              "    <tr>\n",
              "      <th>OriginalGCO</th>\n",
              "      <td>10.0</td>\n",
              "      <td>1000.0</td>\n",
              "      <td>0.010000</td>\n",
              "      <td>0.753049</td>\n",
              "      <td>0.753049</td>\n",
              "      <td>7.003376</td>\n",
              "    </tr>\n",
              "    <tr>\n",
              "      <th>OriginalSCA</th>\n",
              "      <td>10.0</td>\n",
              "      <td>912.0</td>\n",
              "      <td>0.015876</td>\n",
              "      <td>0.754573</td>\n",
              "      <td>0.754573</td>\n",
              "      <td>7.785304</td>\n",
              "    </tr>\n",
              "    <tr>\n",
              "      <th>AdaptiveEO</th>\n",
              "      <td>9.0</td>\n",
              "      <td>556.0</td>\n",
              "      <td>0.014095</td>\n",
              "      <td>0.757622</td>\n",
              "      <td>0.757622</td>\n",
              "      <td>9.080123</td>\n",
              "    </tr>\n",
              "    <tr>\n",
              "      <th>OriginalJA</th>\n",
              "      <td>12.0</td>\n",
              "      <td>1000.0</td>\n",
              "      <td>0.010000</td>\n",
              "      <td>0.750000</td>\n",
              "      <td>0.750000</td>\n",
              "      <td>9.109259</td>\n",
              "    </tr>\n",
              "    <tr>\n",
              "      <th>ModifiedEO</th>\n",
              "      <td>12.0</td>\n",
              "      <td>838.0</td>\n",
              "      <td>0.010000</td>\n",
              "      <td>0.753049</td>\n",
              "      <td>0.753049</td>\n",
              "      <td>9.234202</td>\n",
              "    </tr>\n",
              "    <tr>\n",
              "      <th>OriginalMVO</th>\n",
              "      <td>10.0</td>\n",
              "      <td>751.0</td>\n",
              "      <td>0.010456</td>\n",
              "      <td>0.754573</td>\n",
              "      <td>0.754573</td>\n",
              "      <td>9.832324</td>\n",
              "    </tr>\n",
              "    <tr>\n",
              "      <th>OriginalAOA</th>\n",
              "      <td>12.0</td>\n",
              "      <td>966.0</td>\n",
              "      <td>0.010000</td>\n",
              "      <td>0.753049</td>\n",
              "      <td>0.753049</td>\n",
              "      <td>11.049904</td>\n",
              "    </tr>\n",
              "    <tr>\n",
              "      <th>OriginalFBIO</th>\n",
              "      <td>8.0</td>\n",
              "      <td>105.0</td>\n",
              "      <td>0.067886</td>\n",
              "      <td>0.765244</td>\n",
              "      <td>0.765244</td>\n",
              "      <td>11.175534</td>\n",
              "    </tr>\n",
              "    <tr>\n",
              "      <th>ModifiedBA</th>\n",
              "      <td>10.0</td>\n",
              "      <td>1000.0</td>\n",
              "      <td>0.010000</td>\n",
              "      <td>0.753049</td>\n",
              "      <td>0.753049</td>\n",
              "      <td>11.747304</td>\n",
              "    </tr>\n",
              "    <tr>\n",
              "      <th>ImprovedQSA</th>\n",
              "      <td>8.0</td>\n",
              "      <td>100.0</td>\n",
              "      <td>0.188360</td>\n",
              "      <td>0.760671</td>\n",
              "      <td>0.760671</td>\n",
              "      <td>15.659284</td>\n",
              "    </tr>\n",
              "    <tr>\n",
              "      <th>EnhancedAEO</th>\n",
              "      <td>10.0</td>\n",
              "      <td>776.0</td>\n",
              "      <td>0.010007</td>\n",
              "      <td>0.754573</td>\n",
              "      <td>0.754573</td>\n",
              "      <td>17.617431</td>\n",
              "    </tr>\n",
              "    <tr>\n",
              "      <th>OriginalBFO</th>\n",
              "      <td>10.0</td>\n",
              "      <td>483.0</td>\n",
              "      <td>0.362357</td>\n",
              "      <td>0.734756</td>\n",
              "      <td>0.734756</td>\n",
              "      <td>19.779944</td>\n",
              "    </tr>\n",
              "    <tr>\n",
              "      <th>OriginalAEO</th>\n",
              "      <td>12.0</td>\n",
              "      <td>937.0</td>\n",
              "      <td>0.010000</td>\n",
              "      <td>0.754573</td>\n",
              "      <td>0.754573</td>\n",
              "      <td>21.534763</td>\n",
              "    </tr>\n",
              "    <tr>\n",
              "      <th>OriginalCGO</th>\n",
              "      <td>12.0</td>\n",
              "      <td>749.0</td>\n",
              "      <td>0.020154</td>\n",
              "      <td>0.756098</td>\n",
              "      <td>0.756098</td>\n",
              "      <td>29.137100</td>\n",
              "    </tr>\n",
              "    <tr>\n",
              "      <th>OriginalQSA</th>\n",
              "      <td>10.0</td>\n",
              "      <td>1000.0</td>\n",
              "      <td>0.016051</td>\n",
              "      <td>0.757622</td>\n",
              "      <td>0.757622</td>\n",
              "      <td>29.175256</td>\n",
              "    </tr>\n",
              "    <tr>\n",
              "      <th>EnhancedTWO</th>\n",
              "      <td>10.0</td>\n",
              "      <td>998.0</td>\n",
              "      <td>0.010000</td>\n",
              "      <td>0.753049</td>\n",
              "      <td>0.753049</td>\n",
              "      <td>35.578429</td>\n",
              "    </tr>\n",
              "  </tbody>\n",
              "</table>\n",
              "</div>\n",
              "      <button class=\"colab-df-convert\" onclick=\"convertToInteractive('df-8b20a9e7-1567-4a2e-acf3-f63c94ad6dd9')\"\n",
              "              title=\"Convert this dataframe to an interactive table.\"\n",
              "              style=\"display:none;\">\n",
              "\n",
              "  <svg xmlns=\"http://www.w3.org/2000/svg\" height=\"24px\"viewBox=\"0 0 24 24\"\n",
              "       width=\"24px\">\n",
              "    <path d=\"M0 0h24v24H0V0z\" fill=\"none\"/>\n",
              "    <path d=\"M18.56 5.44l.94 2.06.94-2.06 2.06-.94-2.06-.94-.94-2.06-.94 2.06-2.06.94zm-11 1L8.5 8.5l.94-2.06 2.06-.94-2.06-.94L8.5 2.5l-.94 2.06-2.06.94zm10 10l.94 2.06.94-2.06 2.06-.94-2.06-.94-.94-2.06-.94 2.06-2.06.94z\"/><path d=\"M17.41 7.96l-1.37-1.37c-.4-.4-.92-.59-1.43-.59-.52 0-1.04.2-1.43.59L10.3 9.45l-7.72 7.72c-.78.78-.78 2.05 0 2.83L4 21.41c.39.39.9.59 1.41.59.51 0 1.02-.2 1.41-.59l7.78-7.78 2.81-2.81c.8-.78.8-2.07 0-2.86zM5.41 20L4 18.59l7.72-7.72 1.47 1.35L5.41 20z\"/>\n",
              "  </svg>\n",
              "      </button>\n",
              "\n",
              "\n",
              "\n",
              "    <div id=\"df-26fbc161-9a82-4e11-a2bd-3a10144c084c\">\n",
              "      <button class=\"colab-df-quickchart\" onclick=\"quickchart('df-26fbc161-9a82-4e11-a2bd-3a10144c084c')\"\n",
              "              title=\"Suggest charts.\"\n",
              "              style=\"display:none;\">\n",
              "\n",
              "<svg xmlns=\"http://www.w3.org/2000/svg\" height=\"24px\"viewBox=\"0 0 24 24\"\n",
              "     width=\"24px\">\n",
              "    <g>\n",
              "        <path d=\"M19 3H5c-1.1 0-2 .9-2 2v14c0 1.1.9 2 2 2h14c1.1 0 2-.9 2-2V5c0-1.1-.9-2-2-2zM9 17H7v-7h2v7zm4 0h-2V7h2v10zm4 0h-2v-4h2v4z\"/>\n",
              "    </g>\n",
              "</svg>\n",
              "      </button>\n",
              "    </div>\n",
              "\n",
              "<style>\n",
              "  .colab-df-quickchart {\n",
              "    background-color: #E8F0FE;\n",
              "    border: none;\n",
              "    border-radius: 50%;\n",
              "    cursor: pointer;\n",
              "    display: none;\n",
              "    fill: #1967D2;\n",
              "    height: 32px;\n",
              "    padding: 0 0 0 0;\n",
              "    width: 32px;\n",
              "  }\n",
              "\n",
              "  .colab-df-quickchart:hover {\n",
              "    background-color: #E2EBFA;\n",
              "    box-shadow: 0px 1px 2px rgba(60, 64, 67, 0.3), 0px 1px 3px 1px rgba(60, 64, 67, 0.15);\n",
              "    fill: #174EA6;\n",
              "  }\n",
              "\n",
              "  [theme=dark] .colab-df-quickchart {\n",
              "    background-color: #3B4455;\n",
              "    fill: #D2E3FC;\n",
              "  }\n",
              "\n",
              "  [theme=dark] .colab-df-quickchart:hover {\n",
              "    background-color: #434B5C;\n",
              "    box-shadow: 0px 1px 3px 1px rgba(0, 0, 0, 0.15);\n",
              "    filter: drop-shadow(0px 1px 2px rgba(0, 0, 0, 0.3));\n",
              "    fill: #FFFFFF;\n",
              "  }\n",
              "</style>\n",
              "\n",
              "    <script>\n",
              "      async function quickchart(key) {\n",
              "        const containerElement = document.querySelector('#' + key);\n",
              "        const charts = await google.colab.kernel.invokeFunction(\n",
              "            'suggestCharts', [key], {});\n",
              "      }\n",
              "    </script>\n",
              "\n",
              "      <script>\n",
              "\n",
              "function displayQuickchartButton(domScope) {\n",
              "  let quickchartButtonEl =\n",
              "    domScope.querySelector('#df-26fbc161-9a82-4e11-a2bd-3a10144c084c button.colab-df-quickchart');\n",
              "  quickchartButtonEl.style.display =\n",
              "    google.colab.kernel.accessAllowed ? 'block' : 'none';\n",
              "}\n",
              "\n",
              "        displayQuickchartButton(document);\n",
              "      </script>\n",
              "      <style>\n",
              "    .colab-df-container {\n",
              "      display:flex;\n",
              "      flex-wrap:wrap;\n",
              "      gap: 12px;\n",
              "    }\n",
              "\n",
              "    .colab-df-convert {\n",
              "      background-color: #E8F0FE;\n",
              "      border: none;\n",
              "      border-radius: 50%;\n",
              "      cursor: pointer;\n",
              "      display: none;\n",
              "      fill: #1967D2;\n",
              "      height: 32px;\n",
              "      padding: 0 0 0 0;\n",
              "      width: 32px;\n",
              "    }\n",
              "\n",
              "    .colab-df-convert:hover {\n",
              "      background-color: #E2EBFA;\n",
              "      box-shadow: 0px 1px 2px rgba(60, 64, 67, 0.3), 0px 1px 3px 1px rgba(60, 64, 67, 0.15);\n",
              "      fill: #174EA6;\n",
              "    }\n",
              "\n",
              "    [theme=dark] .colab-df-convert {\n",
              "      background-color: #3B4455;\n",
              "      fill: #D2E3FC;\n",
              "    }\n",
              "\n",
              "    [theme=dark] .colab-df-convert:hover {\n",
              "      background-color: #434B5C;\n",
              "      box-shadow: 0px 1px 3px 1px rgba(0, 0, 0, 0.15);\n",
              "      filter: drop-shadow(0px 1px 2px rgba(0, 0, 0, 0.3));\n",
              "      fill: #FFFFFF;\n",
              "    }\n",
              "  </style>\n",
              "\n",
              "      <script>\n",
              "        const buttonEl =\n",
              "          document.querySelector('#df-8b20a9e7-1567-4a2e-acf3-f63c94ad6dd9 button.colab-df-convert');\n",
              "        buttonEl.style.display =\n",
              "          google.colab.kernel.accessAllowed ? 'block' : 'none';\n",
              "\n",
              "        async function convertToInteractive(key) {\n",
              "          const element = document.querySelector('#df-8b20a9e7-1567-4a2e-acf3-f63c94ad6dd9');\n",
              "          const dataTable =\n",
              "            await google.colab.kernel.invokeFunction('convertToInteractive',\n",
              "                                                     [key], {});\n",
              "          if (!dataTable) return;\n",
              "\n",
              "          const docLinkHtml = 'Like what you see? Visit the ' +\n",
              "            '<a target=\"_blank\" href=https://colab.research.google.com/notebooks/data_table.ipynb>data table notebook</a>'\n",
              "            + ' to learn more about interactive tables.';\n",
              "          element.innerHTML = '';\n",
              "          dataTable['output_type'] = 'display_data';\n",
              "          await google.colab.output.renderOutput(dataTable, element);\n",
              "          const docLink = document.createElement('div');\n",
              "          docLink.innerHTML = docLinkHtml;\n",
              "          element.appendChild(docLink);\n",
              "        }\n",
              "      </script>\n",
              "    </div>\n",
              "  </div>\n"
            ]
          },
          "metadata": {},
          "execution_count": 90
        }
      ]
    }
  ]
}